{
  "nbformat": 4,
  "nbformat_minor": 0,
  "metadata": {
    "colab": {
      "provenance": [],
      "authorship_tag": "ABX9TyN8yfbrJm1odY30OEXy2yeR"
    },
    "kernelspec": {
      "name": "python3",
      "display_name": "Python 3"
    },
    "language_info": {
      "name": "python"
    }
  },
  "cells": [
    {
      "cell_type": "markdown",
      "source": [
        "## 3월 5일 문제풀이\n",
        "\n",
        "> 브론즈 뽀개기!!!\n",
        "\n",
        "`푼 문제 수`    7문제        \n",
        "\n",
        "`참여자` 최숙"
      ],
      "metadata": {
        "id": "y4pa1AFFIYEi"
      }
    },
    {
      "cell_type": "markdown",
      "source": [
        "### 2440"
      ],
      "metadata": {
        "id": "ifOo2gdzImuM"
      }
    },
    {
      "cell_type": "code",
      "execution_count": null,
      "metadata": {
        "colab": {
          "base_uri": "https://localhost:8080/"
        },
        "id": "8No2yRLfIPar",
        "outputId": "93b1b8ad-d331-462a-8b65-86afde904755"
      },
      "outputs": [
        {
          "output_type": "stream",
          "name": "stdout",
          "text": [
            "5\n",
            "*****\n",
            "****\n",
            "***\n",
            "**\n",
            "*\n"
          ]
        }
      ],
      "source": [
        "num = int(input())\n",
        "\n",
        "for i in range(num, 0, -1) : \n",
        "  print(\"*\"*(i))"
      ]
    },
    {
      "cell_type": "markdown",
      "source": [
        "### 3046"
      ],
      "metadata": {
        "id": "90ZkhKdAJg9H"
      }
    },
    {
      "cell_type": "code",
      "source": [
        "A, B = map(int, input().split())\n",
        "\n",
        "print((B * 2) - A)"
      ],
      "metadata": {
        "colab": {
          "base_uri": "https://localhost:8080/"
        },
        "id": "SzsGOA_jJhUU",
        "outputId": "8d583f84-66bc-41a0-fbc8-768c2f1dae01"
      },
      "execution_count": null,
      "outputs": [
        {
          "output_type": "stream",
          "name": "stdout",
          "text": [
            "4 3\n",
            "2\n"
          ]
        }
      ]
    },
    {
      "cell_type": "markdown",
      "source": [
        "### 9316"
      ],
      "metadata": {
        "id": "hbhCLybDKSVp"
      }
    },
    {
      "cell_type": "code",
      "source": [
        "num = int(input())\n",
        "\n",
        "for i in range(1, num+1):\n",
        "  print(\"Hello World, Judge %d!\" %i)"
      ],
      "metadata": {
        "colab": {
          "base_uri": "https://localhost:8080/"
        },
        "id": "iVzFh2r3KSt6",
        "outputId": "111a725d-e12b-42af-dd37-6ea1299e55b2"
      },
      "execution_count": null,
      "outputs": [
        {
          "output_type": "stream",
          "name": "stdout",
          "text": [
            "3\n",
            "Hello World, Judge 1!\n",
            "Hello World, Judge 2!\n",
            "Hello World, Judge 3!\n"
          ]
        }
      ]
    },
    {
      "cell_type": "markdown",
      "source": [
        "### 10811"
      ],
      "metadata": {
        "id": "O9TGfPOZFJoM"
      }
    },
    {
      "cell_type": "code",
      "source": [
        "N, M = map(int, input().split())\n",
        "basket = []\n",
        "\n",
        "for i in range(1, N+1):\n",
        "  basket.append(i)\n",
        "\n",
        "for i in range (0, M):\n",
        "  i, j = map(int, input().split())\n",
        "  basket[i-1:j] = basket[i-1:j][::-1]   # [::-1] 사용해서 역순으로\n",
        "\n",
        "print(*basket)\n"
      ],
      "metadata": {
        "colab": {
          "base_uri": "https://localhost:8080/"
        },
        "id": "Oa9kJ_vjFZPY",
        "outputId": "9c1fa533-a89d-4a7b-eae7-66dc83f6efb6"
      },
      "execution_count": 9,
      "outputs": [
        {
          "output_type": "stream",
          "name": "stdout",
          "text": [
            "5 4\n",
            "1 2\n",
            "3 4\n",
            "1 4\n",
            "2 2\n",
            "3 4 1 2 5\n"
          ]
        }
      ]
    },
    {
      "cell_type": "markdown",
      "source": [
        "### 10813"
      ],
      "metadata": {
        "id": "2lhgNzP7IWx1"
      }
    },
    {
      "cell_type": "code",
      "source": [
        "N, M = map(int, input().split())\n",
        "basket = []\n",
        "\n",
        "for i in range(1, N+1):\n",
        "  basket.append(i)\n",
        "\n",
        "for i in range (0, M):\n",
        "  i, j = map(int, input().split())\n",
        "  tmp = basket[i-1]\n",
        "\n",
        "  basket[i-1] = basket[j-1]\n",
        "  basket[j-1] = tmp\n",
        "\n",
        "print(*basket)"
      ],
      "metadata": {
        "colab": {
          "base_uri": "https://localhost:8080/"
        },
        "id": "33mlDvXjIeEY",
        "outputId": "b053d410-bbf2-49ca-d659-39cef7949599"
      },
      "execution_count": 15,
      "outputs": [
        {
          "output_type": "stream",
          "name": "stdout",
          "text": [
            "5 4\n",
            "1 2\n",
            "3 4\n",
            "1 4\n",
            "2 2\n",
            "3 1 4 2 5\n"
          ]
        }
      ]
    },
    {
      "cell_type": "markdown",
      "source": [
        "### 10810"
      ],
      "metadata": {
        "id": "zLVhwwaaKgIT"
      }
    },
    {
      "cell_type": "code",
      "source": [
        "N, M = map(int, input().split())\n",
        "basket = []\n",
        "\n",
        "for i in range(1, N+1):\n",
        "  basket.append(0)\n",
        "\n",
        "for i in range (0, M):\n",
        "  i, j, k = map(int, input().split())\n",
        "  for indx in range (i-1, j):\n",
        "    basket[indx] = k\n",
        "\n",
        "print(*basket)"
      ],
      "metadata": {
        "colab": {
          "base_uri": "https://localhost:8080/"
        },
        "id": "z_a3qzkXKgT5",
        "outputId": "df73d523-4d33-4227-92e0-17ae3bb0ad06"
      },
      "execution_count": 22,
      "outputs": [
        {
          "output_type": "stream",
          "name": "stdout",
          "text": [
            "5 4\n",
            "1 2 3\n",
            "3 4 4\n",
            "1 4 1\n",
            "2 2 2\n",
            "1 2 1 1 0\n"
          ]
        }
      ]
    },
    {
      "cell_type": "markdown",
      "source": [
        "### 10989"
      ],
      "metadata": {
        "id": "INtAyRXjOEoS"
      }
    },
    {
      "cell_type": "code",
      "source": [
        "import sys\n",
        "\n",
        "N = int(sys.stdin.readline())\n",
        "answer_list = [0] * 10001\n",
        "\n",
        "for i in range(N):\n",
        "  answer_elementary = int(sys.stdin.readline())\n",
        "  answer_list[answer_elementary] = answer_list[answer_elementary] + 1\n",
        "\n",
        "for i in range(10001):\n",
        "  if answer_list[i] != 0 :\n",
        "    for j in range(answer_list[i]):\n",
        "      print(i)"
      ],
      "metadata": {
        "id": "ZIqSqF9qOFv1"
      },
      "execution_count": null,
      "outputs": []
    }
  ]
}