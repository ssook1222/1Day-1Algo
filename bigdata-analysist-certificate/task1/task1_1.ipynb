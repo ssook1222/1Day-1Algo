{
  "nbformat": 4,
  "nbformat_minor": 0,
  "metadata": {
    "colab": {
      "provenance": [],
      "authorship_tag": "ABX9TyMUygcUB5Pgs6A8I0eVwkqm",
      "include_colab_link": true
    },
    "kernelspec": {
      "name": "python3",
      "display_name": "Python 3"
    },
    "language_info": {
      "name": "python"
    }
  },
  "cells": [
    {
      "cell_type": "markdown",
      "metadata": {
        "id": "view-in-github",
        "colab_type": "text"
      },
      "source": [
        "<a href=\"https://colab.research.google.com/github/ssook1222/1Day-1Algo/blob/master/bigdata-analysist-certificate/task1/task1_1.ipynb\" target=\"_parent\"><img src=\"https://colab.research.google.com/assets/colab-badge.svg\" alt=\"Open In Colab\"/></a>"
      ]
    },
    {
      "cell_type": "markdown",
      "source": [
        "## 다양한 데이터"
      ],
      "metadata": {
        "id": "9ETJ8ititd4N"
      }
    },
    {
      "cell_type": "markdown",
      "source": [
        "### 유튜브 인기동영상 데이터"
      ],
      "metadata": {
        "id": "KUMZgHhMthj6"
      }
    },
    {
      "cell_type": "code",
      "source": [
        "import pandas as pd"
      ],
      "metadata": {
        "id": "_cAP9rCttn3o"
      },
      "execution_count": 2,
      "outputs": []
    },
    {
      "cell_type": "code",
      "execution_count": 3,
      "metadata": {
        "id": "6DDFzZEPtROx"
      },
      "outputs": [],
      "source": [
        "data_url = 'https://raw.githubusercontent.com/Datamanim/datarepo/main/youtube/youtube.csv'\n",
        "df = pd.read_csv(data_url)"
      ]
    },
    {
      "cell_type": "markdown",
      "source": [
        "### 1. 인기동영상 제작횟수가 많은 채널 상위 10개명을 출력하라 (날짜기준, 중복포함)"
      ],
      "metadata": {
        "id": "3S1WeI9ottvp"
      }
    },
    {
      "cell_type": "code",
      "source": [
        "list(df[df.channelId.isin(df.channelId.value_counts().head(10).index)].channelTitle.unique())"
      ],
      "metadata": {
        "colab": {
          "base_uri": "https://localhost:8080/"
        },
        "id": "ZjAtyXi9txJP",
        "outputId": "057c0aee-ad3f-4cd4-9dc2-f25a5631f2a6"
      },
      "execution_count": 4,
      "outputs": [
        {
          "output_type": "execute_result",
          "data": {
            "text/plain": [
              "['장삐쭈',\n",
              " '총몇명',\n",
              " '파뿌리',\n",
              " '짤툰',\n",
              " '런닝맨 - 스브스 공식 채널',\n",
              " '엠뚜루마뚜루 : MBC 공식 종합 채널',\n",
              " 'SPOTV',\n",
              " '채널 십오야',\n",
              " '이과장',\n",
              " 'BANGTANTV']"
            ]
          },
          "metadata": {},
          "execution_count": 4
        }
      ]
    },
    {
      "cell_type": "markdown",
      "source": [
        "데이터 열 이름을 추출할 때, 자신이 찾고자 하는 열의 조건과 해당 열의 조건이 일치하는지 확인하기 위해 `isin` 메소드를 활용해주자."
      ],
      "metadata": {
        "id": "eUQhz44AyMj_"
      }
    },
    {
      "cell_type": "markdown",
      "source": [
        "---"
      ],
      "metadata": {
        "id": "AjCXFD2yyVuk"
      }
    },
    {
      "cell_type": "markdown",
      "source": [
        "### 2. 논란으로 인기동영상이 된 케이스를 확인하고 싶다. dislikes수가 like 수보다 높은 동영상을 제작한 채널을 모두 출력하라."
      ],
      "metadata": {
        "id": "77DIz8zqyLQV"
      }
    },
    {
      "cell_type": "code",
      "source": [
        "list(df[df.dislikes > df.likes].channelTitle.unique())"
      ],
      "metadata": {
        "colab": {
          "base_uri": "https://localhost:8080/"
        },
        "id": "oVJ0OJmZyLoA",
        "outputId": "7a97d9cc-5b9a-4146-8929-3c2efcd666f1"
      },
      "execution_count": 5,
      "outputs": [
        {
          "output_type": "execute_result",
          "data": {
            "text/plain": [
              "['핫도그TV',\n",
              " 'ASMR 애정TV',\n",
              " '하얀트리HayanTree',\n",
              " '양팡 YangPang',\n",
              " '철구형 (CHULTUBE)',\n",
              " '왜냐맨하우스',\n",
              " '(MUTUBE)와꾸대장봉준',\n",
              " '오메킴TV',\n",
              " '육지담',\n",
              " 'MapleStory_KR',\n",
              " 'ROAD FIGHTING CHAMPIONSHIP',\n",
              " '사나이 김기훈',\n",
              " '나혼자산다 STUDIO',\n",
              " 'Gen.G esports']"
            ]
          },
          "metadata": {},
          "execution_count": 5
        }
      ]
    },
    {
      "cell_type": "markdown",
      "source": [
        "### 3. 채널명을 바꾼 케이스가 있는지 확인하고 싶다. channelId의 경우 고유값이므로 이를 통해 채널명을 한번이라도 바꾼 채널의 갯수를 구하여라"
      ],
      "metadata": {
        "id": "BDjneJifypZP"
      }
    },
    {
      "cell_type": "code",
      "source": [
        "# 채널명을 몇 회 이상 바꿨는지 그 횟수\n",
        "count = df[['channelTitle','channelId']].drop_duplicates().channelId.value_counts()\n",
        "\n",
        "# 1회 이상 채널명을 바꾼 채널 아이디 갯수 세기\n",
        "len(count[count>1])"
      ],
      "metadata": {
        "colab": {
          "base_uri": "https://localhost:8080/"
        },
        "id": "2aOWmxgLypwS",
        "outputId": "395a57be-45b3-41a7-f0c9-0005b9d72067"
      },
      "execution_count": 6,
      "outputs": [
        {
          "output_type": "execute_result",
          "data": {
            "text/plain": [
              "71"
            ]
          },
          "metadata": {},
          "execution_count": 6
        }
      ]
    },
    {
      "cell_type": "markdown",
      "source": [
        "`drop_duplicates()`를 사용하여 중복적으로 카운트 되는 부분(A -> B , B-> A, A->B)을 제거함."
      ],
      "metadata": {
        "id": "jTN8vakKH7QU"
      }
    },
    {
      "cell_type": "markdown",
      "source": [
        "### 4. 일요일에 인기있었던 영상들중 가장많은 영상 종류(categoryId)는 무엇인가?"
      ],
      "metadata": {
        "id": "_NV9aI97IHsk"
      }
    },
    {
      "cell_type": "markdown",
      "source": [
        "다시 한 번 풀어보기!!"
      ],
      "metadata": {
        "id": "kYuVRhn5Ip-n"
      }
    },
    {
      "cell_type": "code",
      "source": [
        "import datetime as dt\n",
        "\n",
        "# trending_date2 칼럼을 data and time 형태로 변경\n",
        "df['trending_date2'] = pd.to_datetime(df['trending_date2'])\n",
        "\n",
        "# 변경한 칼럼을 day_name으로 변환하여 일요일 경우의 카테고리 빈도수를 세서 보여줌.\n",
        "df.loc[df['trending_date2'].dt.day_name() =='Sunday'].categoryId.value_counts().index[0]"
      ],
      "metadata": {
        "colab": {
          "base_uri": "https://localhost:8080/"
        },
        "id": "Ghp4f3FgIJ5B",
        "outputId": "f954bc38-bf05-490a-95c5-424a3846d02d"
      },
      "execution_count": 7,
      "outputs": [
        {
          "output_type": "execute_result",
          "data": {
            "text/plain": [
              "24"
            ]
          },
          "metadata": {},
          "execution_count": 7
        }
      ]
    },
    {
      "cell_type": "markdown",
      "source": [
        "### 5. 각 요일별 인기 영상들의 categoryId는 각각 몇개 씩인지 하나의 데이터 프레임으로 표현하라"
      ],
      "metadata": {
        "id": "RX3ucdl9IuLQ"
      }
    },
    {
      "cell_type": "markdown",
      "source": [
        "🌟 다시 풀어보기!"
      ],
      "metadata": {
        "id": "StDuMSjALrU8"
      }
    },
    {
      "cell_type": "code",
      "source": [
        "pd.DataFrame(df.groupby([df['trending_date2'].dt.day_name(), 'categoryId'], as_index = False).size()).pivot(index='categoryId', columns='trending_date2')"
      ],
      "metadata": {
        "colab": {
          "base_uri": "https://localhost:8080/",
          "height": 582
        },
        "id": "8iBScXJLIugl",
        "outputId": "78c2d99b-1c1b-4b57-d58b-0bf38c2662bb"
      },
      "execution_count": 8,
      "outputs": [
        {
          "output_type": "execute_result",
          "data": {
            "text/plain": [
              "                 size                                                  \n",
              "trending_date2 Friday Monday Saturday Sunday Thursday Tuesday Wednesday\n",
              "categoryId                                                             \n",
              "1                 243    263      255    274      246     257       234\n",
              "2                 120    105      119     99      128     119       129\n",
              "10                833    837      776    830      890     894       917\n",
              "15                187    215      198    217      207     208       207\n",
              "17                633    668      592    636      682     708       706\n",
              "19                 90     92       87     91       92      89        85\n",
              "20                283    298      296    289      282     285       291\n",
              "22               1288   1373     1289   1337     1341    1375      1333\n",
              "23                568    594      570    556      560     569       566\n",
              "24               2976   3148     3066   3096     2954    3084      3090\n",
              "25                444    453      422    437      470     452       468\n",
              "26                369    378      364    363      375     394       385\n",
              "27                183    205      183    199      194     194       212\n",
              "28                171    160      173    167      166     161       165\n",
              "29                 12     10       10      9       13      11        12"
            ],
            "text/html": [
              "\n",
              "  <div id=\"df-077977ec-ede6-43a7-9a3a-fc921ae940e8\" class=\"colab-df-container\">\n",
              "    <div>\n",
              "<style scoped>\n",
              "    .dataframe tbody tr th:only-of-type {\n",
              "        vertical-align: middle;\n",
              "    }\n",
              "\n",
              "    .dataframe tbody tr th {\n",
              "        vertical-align: top;\n",
              "    }\n",
              "\n",
              "    .dataframe thead tr th {\n",
              "        text-align: left;\n",
              "    }\n",
              "\n",
              "    .dataframe thead tr:last-of-type th {\n",
              "        text-align: right;\n",
              "    }\n",
              "</style>\n",
              "<table border=\"1\" class=\"dataframe\">\n",
              "  <thead>\n",
              "    <tr>\n",
              "      <th></th>\n",
              "      <th colspan=\"7\" halign=\"left\">size</th>\n",
              "    </tr>\n",
              "    <tr>\n",
              "      <th>trending_date2</th>\n",
              "      <th>Friday</th>\n",
              "      <th>Monday</th>\n",
              "      <th>Saturday</th>\n",
              "      <th>Sunday</th>\n",
              "      <th>Thursday</th>\n",
              "      <th>Tuesday</th>\n",
              "      <th>Wednesday</th>\n",
              "    </tr>\n",
              "    <tr>\n",
              "      <th>categoryId</th>\n",
              "      <th></th>\n",
              "      <th></th>\n",
              "      <th></th>\n",
              "      <th></th>\n",
              "      <th></th>\n",
              "      <th></th>\n",
              "      <th></th>\n",
              "    </tr>\n",
              "  </thead>\n",
              "  <tbody>\n",
              "    <tr>\n",
              "      <th>1</th>\n",
              "      <td>243</td>\n",
              "      <td>263</td>\n",
              "      <td>255</td>\n",
              "      <td>274</td>\n",
              "      <td>246</td>\n",
              "      <td>257</td>\n",
              "      <td>234</td>\n",
              "    </tr>\n",
              "    <tr>\n",
              "      <th>2</th>\n",
              "      <td>120</td>\n",
              "      <td>105</td>\n",
              "      <td>119</td>\n",
              "      <td>99</td>\n",
              "      <td>128</td>\n",
              "      <td>119</td>\n",
              "      <td>129</td>\n",
              "    </tr>\n",
              "    <tr>\n",
              "      <th>10</th>\n",
              "      <td>833</td>\n",
              "      <td>837</td>\n",
              "      <td>776</td>\n",
              "      <td>830</td>\n",
              "      <td>890</td>\n",
              "      <td>894</td>\n",
              "      <td>917</td>\n",
              "    </tr>\n",
              "    <tr>\n",
              "      <th>15</th>\n",
              "      <td>187</td>\n",
              "      <td>215</td>\n",
              "      <td>198</td>\n",
              "      <td>217</td>\n",
              "      <td>207</td>\n",
              "      <td>208</td>\n",
              "      <td>207</td>\n",
              "    </tr>\n",
              "    <tr>\n",
              "      <th>17</th>\n",
              "      <td>633</td>\n",
              "      <td>668</td>\n",
              "      <td>592</td>\n",
              "      <td>636</td>\n",
              "      <td>682</td>\n",
              "      <td>708</td>\n",
              "      <td>706</td>\n",
              "    </tr>\n",
              "    <tr>\n",
              "      <th>19</th>\n",
              "      <td>90</td>\n",
              "      <td>92</td>\n",
              "      <td>87</td>\n",
              "      <td>91</td>\n",
              "      <td>92</td>\n",
              "      <td>89</td>\n",
              "      <td>85</td>\n",
              "    </tr>\n",
              "    <tr>\n",
              "      <th>20</th>\n",
              "      <td>283</td>\n",
              "      <td>298</td>\n",
              "      <td>296</td>\n",
              "      <td>289</td>\n",
              "      <td>282</td>\n",
              "      <td>285</td>\n",
              "      <td>291</td>\n",
              "    </tr>\n",
              "    <tr>\n",
              "      <th>22</th>\n",
              "      <td>1288</td>\n",
              "      <td>1373</td>\n",
              "      <td>1289</td>\n",
              "      <td>1337</td>\n",
              "      <td>1341</td>\n",
              "      <td>1375</td>\n",
              "      <td>1333</td>\n",
              "    </tr>\n",
              "    <tr>\n",
              "      <th>23</th>\n",
              "      <td>568</td>\n",
              "      <td>594</td>\n",
              "      <td>570</td>\n",
              "      <td>556</td>\n",
              "      <td>560</td>\n",
              "      <td>569</td>\n",
              "      <td>566</td>\n",
              "    </tr>\n",
              "    <tr>\n",
              "      <th>24</th>\n",
              "      <td>2976</td>\n",
              "      <td>3148</td>\n",
              "      <td>3066</td>\n",
              "      <td>3096</td>\n",
              "      <td>2954</td>\n",
              "      <td>3084</td>\n",
              "      <td>3090</td>\n",
              "    </tr>\n",
              "    <tr>\n",
              "      <th>25</th>\n",
              "      <td>444</td>\n",
              "      <td>453</td>\n",
              "      <td>422</td>\n",
              "      <td>437</td>\n",
              "      <td>470</td>\n",
              "      <td>452</td>\n",
              "      <td>468</td>\n",
              "    </tr>\n",
              "    <tr>\n",
              "      <th>26</th>\n",
              "      <td>369</td>\n",
              "      <td>378</td>\n",
              "      <td>364</td>\n",
              "      <td>363</td>\n",
              "      <td>375</td>\n",
              "      <td>394</td>\n",
              "      <td>385</td>\n",
              "    </tr>\n",
              "    <tr>\n",
              "      <th>27</th>\n",
              "      <td>183</td>\n",
              "      <td>205</td>\n",
              "      <td>183</td>\n",
              "      <td>199</td>\n",
              "      <td>194</td>\n",
              "      <td>194</td>\n",
              "      <td>212</td>\n",
              "    </tr>\n",
              "    <tr>\n",
              "      <th>28</th>\n",
              "      <td>171</td>\n",
              "      <td>160</td>\n",
              "      <td>173</td>\n",
              "      <td>167</td>\n",
              "      <td>166</td>\n",
              "      <td>161</td>\n",
              "      <td>165</td>\n",
              "    </tr>\n",
              "    <tr>\n",
              "      <th>29</th>\n",
              "      <td>12</td>\n",
              "      <td>10</td>\n",
              "      <td>10</td>\n",
              "      <td>9</td>\n",
              "      <td>13</td>\n",
              "      <td>11</td>\n",
              "      <td>12</td>\n",
              "    </tr>\n",
              "  </tbody>\n",
              "</table>\n",
              "</div>\n",
              "    <div class=\"colab-df-buttons\">\n",
              "\n",
              "  <div class=\"colab-df-container\">\n",
              "    <button class=\"colab-df-convert\" onclick=\"convertToInteractive('df-077977ec-ede6-43a7-9a3a-fc921ae940e8')\"\n",
              "            title=\"Convert this dataframe to an interactive table.\"\n",
              "            style=\"display:none;\">\n",
              "\n",
              "  <svg xmlns=\"http://www.w3.org/2000/svg\" height=\"24px\" viewBox=\"0 -960 960 960\">\n",
              "    <path d=\"M120-120v-720h720v720H120Zm60-500h600v-160H180v160Zm220 220h160v-160H400v160Zm0 220h160v-160H400v160ZM180-400h160v-160H180v160Zm440 0h160v-160H620v160ZM180-180h160v-160H180v160Zm440 0h160v-160H620v160Z\"/>\n",
              "  </svg>\n",
              "    </button>\n",
              "\n",
              "  <style>\n",
              "    .colab-df-container {\n",
              "      display:flex;\n",
              "      gap: 12px;\n",
              "    }\n",
              "\n",
              "    .colab-df-convert {\n",
              "      background-color: #E8F0FE;\n",
              "      border: none;\n",
              "      border-radius: 50%;\n",
              "      cursor: pointer;\n",
              "      display: none;\n",
              "      fill: #1967D2;\n",
              "      height: 32px;\n",
              "      padding: 0 0 0 0;\n",
              "      width: 32px;\n",
              "    }\n",
              "\n",
              "    .colab-df-convert:hover {\n",
              "      background-color: #E2EBFA;\n",
              "      box-shadow: 0px 1px 2px rgba(60, 64, 67, 0.3), 0px 1px 3px 1px rgba(60, 64, 67, 0.15);\n",
              "      fill: #174EA6;\n",
              "    }\n",
              "\n",
              "    .colab-df-buttons div {\n",
              "      margin-bottom: 4px;\n",
              "    }\n",
              "\n",
              "    [theme=dark] .colab-df-convert {\n",
              "      background-color: #3B4455;\n",
              "      fill: #D2E3FC;\n",
              "    }\n",
              "\n",
              "    [theme=dark] .colab-df-convert:hover {\n",
              "      background-color: #434B5C;\n",
              "      box-shadow: 0px 1px 3px 1px rgba(0, 0, 0, 0.15);\n",
              "      filter: drop-shadow(0px 1px 2px rgba(0, 0, 0, 0.3));\n",
              "      fill: #FFFFFF;\n",
              "    }\n",
              "  </style>\n",
              "\n",
              "    <script>\n",
              "      const buttonEl =\n",
              "        document.querySelector('#df-077977ec-ede6-43a7-9a3a-fc921ae940e8 button.colab-df-convert');\n",
              "      buttonEl.style.display =\n",
              "        google.colab.kernel.accessAllowed ? 'block' : 'none';\n",
              "\n",
              "      async function convertToInteractive(key) {\n",
              "        const element = document.querySelector('#df-077977ec-ede6-43a7-9a3a-fc921ae940e8');\n",
              "        const dataTable =\n",
              "          await google.colab.kernel.invokeFunction('convertToInteractive',\n",
              "                                                    [key], {});\n",
              "        if (!dataTable) return;\n",
              "\n",
              "        const docLinkHtml = 'Like what you see? Visit the ' +\n",
              "          '<a target=\"_blank\" href=https://colab.research.google.com/notebooks/data_table.ipynb>data table notebook</a>'\n",
              "          + ' to learn more about interactive tables.';\n",
              "        element.innerHTML = '';\n",
              "        dataTable['output_type'] = 'display_data';\n",
              "        await google.colab.output.renderOutput(dataTable, element);\n",
              "        const docLink = document.createElement('div');\n",
              "        docLink.innerHTML = docLinkHtml;\n",
              "        element.appendChild(docLink);\n",
              "      }\n",
              "    </script>\n",
              "  </div>\n",
              "\n",
              "\n",
              "<div id=\"df-05138105-299b-43f8-b094-aba40073d8cd\">\n",
              "  <button class=\"colab-df-quickchart\" onclick=\"quickchart('df-05138105-299b-43f8-b094-aba40073d8cd')\"\n",
              "            title=\"Suggest charts.\"\n",
              "            style=\"display:none;\">\n",
              "\n",
              "<svg xmlns=\"http://www.w3.org/2000/svg\" height=\"24px\"viewBox=\"0 0 24 24\"\n",
              "     width=\"24px\">\n",
              "    <g>\n",
              "        <path d=\"M19 3H5c-1.1 0-2 .9-2 2v14c0 1.1.9 2 2 2h14c1.1 0 2-.9 2-2V5c0-1.1-.9-2-2-2zM9 17H7v-7h2v7zm4 0h-2V7h2v10zm4 0h-2v-4h2v4z\"/>\n",
              "    </g>\n",
              "</svg>\n",
              "  </button>\n",
              "\n",
              "<style>\n",
              "  .colab-df-quickchart {\n",
              "      --bg-color: #E8F0FE;\n",
              "      --fill-color: #1967D2;\n",
              "      --hover-bg-color: #E2EBFA;\n",
              "      --hover-fill-color: #174EA6;\n",
              "      --disabled-fill-color: #AAA;\n",
              "      --disabled-bg-color: #DDD;\n",
              "  }\n",
              "\n",
              "  [theme=dark] .colab-df-quickchart {\n",
              "      --bg-color: #3B4455;\n",
              "      --fill-color: #D2E3FC;\n",
              "      --hover-bg-color: #434B5C;\n",
              "      --hover-fill-color: #FFFFFF;\n",
              "      --disabled-bg-color: #3B4455;\n",
              "      --disabled-fill-color: #666;\n",
              "  }\n",
              "\n",
              "  .colab-df-quickchart {\n",
              "    background-color: var(--bg-color);\n",
              "    border: none;\n",
              "    border-radius: 50%;\n",
              "    cursor: pointer;\n",
              "    display: none;\n",
              "    fill: var(--fill-color);\n",
              "    height: 32px;\n",
              "    padding: 0;\n",
              "    width: 32px;\n",
              "  }\n",
              "\n",
              "  .colab-df-quickchart:hover {\n",
              "    background-color: var(--hover-bg-color);\n",
              "    box-shadow: 0 1px 2px rgba(60, 64, 67, 0.3), 0 1px 3px 1px rgba(60, 64, 67, 0.15);\n",
              "    fill: var(--button-hover-fill-color);\n",
              "  }\n",
              "\n",
              "  .colab-df-quickchart-complete:disabled,\n",
              "  .colab-df-quickchart-complete:disabled:hover {\n",
              "    background-color: var(--disabled-bg-color);\n",
              "    fill: var(--disabled-fill-color);\n",
              "    box-shadow: none;\n",
              "  }\n",
              "\n",
              "  .colab-df-spinner {\n",
              "    border: 2px solid var(--fill-color);\n",
              "    border-color: transparent;\n",
              "    border-bottom-color: var(--fill-color);\n",
              "    animation:\n",
              "      spin 1s steps(1) infinite;\n",
              "  }\n",
              "\n",
              "  @keyframes spin {\n",
              "    0% {\n",
              "      border-color: transparent;\n",
              "      border-bottom-color: var(--fill-color);\n",
              "      border-left-color: var(--fill-color);\n",
              "    }\n",
              "    20% {\n",
              "      border-color: transparent;\n",
              "      border-left-color: var(--fill-color);\n",
              "      border-top-color: var(--fill-color);\n",
              "    }\n",
              "    30% {\n",
              "      border-color: transparent;\n",
              "      border-left-color: var(--fill-color);\n",
              "      border-top-color: var(--fill-color);\n",
              "      border-right-color: var(--fill-color);\n",
              "    }\n",
              "    40% {\n",
              "      border-color: transparent;\n",
              "      border-right-color: var(--fill-color);\n",
              "      border-top-color: var(--fill-color);\n",
              "    }\n",
              "    60% {\n",
              "      border-color: transparent;\n",
              "      border-right-color: var(--fill-color);\n",
              "    }\n",
              "    80% {\n",
              "      border-color: transparent;\n",
              "      border-right-color: var(--fill-color);\n",
              "      border-bottom-color: var(--fill-color);\n",
              "    }\n",
              "    90% {\n",
              "      border-color: transparent;\n",
              "      border-bottom-color: var(--fill-color);\n",
              "    }\n",
              "  }\n",
              "</style>\n",
              "\n",
              "  <script>\n",
              "    async function quickchart(key) {\n",
              "      const quickchartButtonEl =\n",
              "        document.querySelector('#' + key + ' button');\n",
              "      quickchartButtonEl.disabled = true;  // To prevent multiple clicks.\n",
              "      quickchartButtonEl.classList.add('colab-df-spinner');\n",
              "      try {\n",
              "        const charts = await google.colab.kernel.invokeFunction(\n",
              "            'suggestCharts', [key], {});\n",
              "      } catch (error) {\n",
              "        console.error('Error during call to suggestCharts:', error);\n",
              "      }\n",
              "      quickchartButtonEl.classList.remove('colab-df-spinner');\n",
              "      quickchartButtonEl.classList.add('colab-df-quickchart-complete');\n",
              "    }\n",
              "    (() => {\n",
              "      let quickchartButtonEl =\n",
              "        document.querySelector('#df-05138105-299b-43f8-b094-aba40073d8cd button');\n",
              "      quickchartButtonEl.style.display =\n",
              "        google.colab.kernel.accessAllowed ? 'block' : 'none';\n",
              "    })();\n",
              "  </script>\n",
              "</div>\n",
              "    </div>\n",
              "  </div>\n"
            ]
          },
          "metadata": {},
          "execution_count": 8
        }
      ]
    },
    {
      "cell_type": "markdown",
      "source": [
        "1. groupby로 요일 이름과 카테고리 아이디를 먼저 묶는다.         \n",
        "`df.groupby([df['trending_date2'].dt.day_name(), 'categoryId']`\n",
        "\n",
        "2. group_by시 인덱스를 제거한 다음 각 카테고리별 사이즈(크기)를 구한다.         \n",
        "`..., as_index = False).size()`\n",
        "\n",
        "3. `.pivot`을 사용하여 요일별로 각 카테고리 ID의 갯수를 구한다."
      ],
      "metadata": {
        "id": "6t3khMLjLNXq"
      }
    },
    {
      "cell_type": "markdown",
      "source": [
        "### 6. 댓글의 수로 (comment_count) 영상 반응에 대한 판단을 할 수 있다. viewcount대비 댓글수가 가장 높은 영상을 확인하라 (view_count값이 0인 경우는 제외한다)"
      ],
      "metadata": {
        "id": "58k_J6I6Lvy9"
      }
    },
    {
      "cell_type": "code",
      "source": [
        "raw = df[df.view_count > 0]\n",
        "raw['rates'] = raw.comment_count/raw.view_count\n",
        "\n",
        "ans = list(raw.sort_values(by='rates', ascending=False).head(1)['title'].str.split())\n",
        "print(' '.join(ans[0]))"
      ],
      "metadata": {
        "colab": {
          "base_uri": "https://localhost:8080/"
        },
        "id": "c2KwIq-NLy7q",
        "outputId": "6cbbd188-6896-4dd4-f04c-bd5e97c49839"
      },
      "execution_count": 32,
      "outputs": [
        {
          "output_type": "stream",
          "name": "stdout",
          "text": [
            "60분 동안 댓글이 달리지 않으면, 영상이 삭제됩니다. (챌린지)\n"
          ]
        },
        {
          "output_type": "stream",
          "name": "stderr",
          "text": [
            "<ipython-input-32-34b809995a30>:2: SettingWithCopyWarning: \n",
            "A value is trying to be set on a copy of a slice from a DataFrame.\n",
            "Try using .loc[row_indexer,col_indexer] = value instead\n",
            "\n",
            "See the caveats in the documentation: https://pandas.pydata.org/pandas-docs/stable/user_guide/indexing.html#returning-a-view-versus-a-copy\n",
            "  raw['rates'] = raw.comment_count/raw.view_count\n"
          ]
        }
      ]
    },
    {
      "cell_type": "markdown",
      "source": [
        "### 7. 댓글의 수로 (comment_count) 영상 반응에 대한 판단을 할 수 있다.viewcount대비 댓글수가 가장 낮은 영상을 확인하라 (view_counts, ratio값이 0인경우는 제외한다.)"
      ],
      "metadata": {
        "id": "eCbndWotO1uh"
      }
    },
    {
      "cell_type": "code",
      "source": [
        "raw = raw[raw.rates!=0]\n",
        "ans = list(raw.sort_values(by='rates', ascending=True).head(1)['title'])\n",
        "print(''.join(ans[0]))"
      ],
      "metadata": {
        "colab": {
          "base_uri": "https://localhost:8080/"
        },
        "id": "qqlEFLt2O1_4",
        "outputId": "87005f16-03ac-45aa-bb85-e8fbe6ed5289"
      },
      "execution_count": 34,
      "outputs": [
        {
          "output_type": "stream",
          "name": "stdout",
          "text": [
            "Join the BTS #PermissiontoDance Challenge only on YouTube #Shorts\n"
          ]
        }
      ]
    },
    {
      "cell_type": "markdown",
      "source": [
        "### 8. like 대비 dislike의 수가 가장 적은 영상은 무엇인가? (like, dislike 값이 0인경우는 제외한다)"
      ],
      "metadata": {
        "id": "Bnx2v-K2PpVX"
      }
    },
    {
      "cell_type": "code",
      "source": [
        "raw2 = df[(df.likes > 0) & (df.dislikes > 0)]\n",
        "raw2['rates'] = raw2.dislikes / raw2.likes\n",
        "\n",
        "ans = list(raw2.sort_values(by='rates').head(1).title.str.split())\n",
        "print(' '.join(ans[0]))"
      ],
      "metadata": {
        "colab": {
          "base_uri": "https://localhost:8080/"
        },
        "id": "JWKg-uIRPsEo",
        "outputId": "3f1fdf4f-91f2-4620-c3a9-199a52194521"
      },
      "execution_count": 41,
      "outputs": [
        {
          "output_type": "stream",
          "name": "stdout",
          "text": [
            "[줌터뷰] *최초공개* 사부작즈🐰🐶의 비공식 이름은 아이라인즈? 꿀조합 티키타카 가득한 NCT 127 도영&정우의 줌터뷰\n"
          ]
        },
        {
          "output_type": "stream",
          "name": "stderr",
          "text": [
            "<ipython-input-41-5bfab6bc8f89>:2: SettingWithCopyWarning: \n",
            "A value is trying to be set on a copy of a slice from a DataFrame.\n",
            "Try using .loc[row_indexer,col_indexer] = value instead\n",
            "\n",
            "See the caveats in the documentation: https://pandas.pydata.org/pandas-docs/stable/user_guide/indexing.html#returning-a-view-versus-a-copy\n",
            "  raw2['rates'] = raw2.dislikes / raw2.likes\n"
          ]
        }
      ]
    },
    {
      "cell_type": "markdown",
      "source": [
        "### 9. 가장 많은 트렌드 영상을 제작한 채널의 이름은 무엇인가? (날짜기준, 중복포함)"
      ],
      "metadata": {
        "id": "7zOBPKAHRY3Z"
      }
    },
    {
      "cell_type": "code",
      "source": [
        "print(df.groupby('channelTitle').count().sort_values(by='Unnamed: 0', ascending=False).head(1).index[0])"
      ],
      "metadata": {
        "colab": {
          "base_uri": "https://localhost:8080/"
        },
        "id": "nRXuoXyJRZOx",
        "outputId": "6fbf56b4-84b3-4bf1-bd31-0f21f57cf5e4"
      },
      "execution_count": 62,
      "outputs": [
        {
          "output_type": "stream",
          "name": "stdout",
          "text": [
            "짤툰\n"
          ]
        }
      ]
    },
    {
      "cell_type": "markdown",
      "source": [
        "df.groupby('channelTitle').count()를 실행하면 'channelTitle'을 인덱스로 설정하고 모든 열에 대해 카운트를 수행한 데이터프레임이 생성됨.       \n",
        "이 때 'channelTitle'이 인덱스로 이동하면 열 이름이 'channelTitle'로 더 이상 존재하지 않음.         \n",
        "따라서 'channelTitle' 열을 직접 사용하는 것은 불가능 함."
      ],
      "metadata": {
        "id": "bZUO-EmMTEWV"
      }
    },
    {
      "cell_type": "markdown",
      "source": [
        "### 10. 20회(20일)이상 인기동영상 리스트에 포함된 동영상의 숫자는?"
      ],
      "metadata": {
        "id": "5gargGDHTTqd"
      }
    },
    {
      "cell_type": "code",
      "source": [
        "(df[['title','channelId']].value_counts()>=20).sum()"
      ],
      "metadata": {
        "colab": {
          "base_uri": "https://localhost:8080/"
        },
        "id": "o2r_PZKdTWlq",
        "outputId": "8d53aae4-d36a-4219-81e4-1c866c2eadb7"
      },
      "execution_count": 76,
      "outputs": [
        {
          "output_type": "execute_result",
          "data": {
            "text/plain": [
              "40"
            ]
          },
          "metadata": {},
          "execution_count": 76
        }
      ]
    },
    {
      "cell_type": "markdown",
      "source": [
        "`(df[['title','channelId']].value_counts()>=20)`\n",
        "\n",
        "이런 식으로 value_count에 바로 조건을 걸어 놓고 계산할 수 있음."
      ],
      "metadata": {
        "id": "Szuq2Ul4UXQN"
      }
    }
  ]
}