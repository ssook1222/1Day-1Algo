{
  "nbformat": 4,
  "nbformat_minor": 0,
  "metadata": {
    "colab": {
      "provenance": [],
      "authorship_tag": "ABX9TyPDlCFthzEay5abSzFJYkH0",
      "include_colab_link": true
    },
    "kernelspec": {
      "name": "python3",
      "display_name": "Python 3"
    },
    "language_info": {
      "name": "python"
    }
  },
  "cells": [
    {
      "cell_type": "markdown",
      "metadata": {
        "id": "view-in-github",
        "colab_type": "text"
      },
      "source": [
        "<a href=\"https://colab.research.google.com/github/ssook1222/1Day-1Algo/blob/master/tree/master/ssook/3%EC%9B%94%25205%EC%A3%BC%EC%B0%A8/0330.ipynb\" target=\"_parent\"><img src=\"https://colab.research.google.com/assets/colab-badge.svg\" alt=\"Open In Colab\"/></a>"
      ]
    },
    {
      "cell_type": "markdown",
      "source": [
        "### 2444"
      ],
      "metadata": {
        "id": "XawYMt1XtszS"
      }
    },
    {
      "cell_type": "code",
      "execution_count": 3,
      "metadata": {
        "colab": {
          "base_uri": "https://localhost:8080/"
        },
        "id": "fMyxyJxqta_b",
        "outputId": "bb430607-f0fd-48d7-c64c-64a56aad9678"
      },
      "outputs": [
        {
          "output_type": "stream",
          "name": "stdout",
          "text": [
            "5\n",
            "    *\n",
            "   ***\n",
            "  *****\n",
            " *******\n",
            "*********\n",
            " *******\n",
            "  *****\n",
            "   ***\n",
            "    *\n"
          ]
        }
      ],
      "source": [
        "n = int(input())\n",
        "\n",
        "for i in range(1,n+1):\n",
        "  print(' '*(n-i)+\"*\"*(2*i-1))\n",
        "for i in range(n-1,0, -1):\n",
        "  print(' '*(n-i)+\"*\"*(2*i-1))"
      ]
    },
    {
      "cell_type": "markdown",
      "source": [
        "### 10815"
      ],
      "metadata": {
        "id": "vFSZ8NBeuk5w"
      }
    },
    {
      "cell_type": "code",
      "source": [
        "n = int(input())\n",
        "num = set(map(int, input().split(\" \")))\n",
        "\n",
        "m = int(input())\n",
        "bigyo = list(map(int, input().split(\" \")))\n",
        "\n",
        "for i in range(0,m):\n",
        "  if bigyo[i] in num:\n",
        "    print(1, end=' ')\n",
        "  else:\n",
        "    print(0, end=' ')"
      ],
      "metadata": {
        "colab": {
          "base_uri": "https://localhost:8080/"
        },
        "id": "Jozio3sxulFQ",
        "outputId": "0ad15572-9e5a-4254-c060-5868f82d442f"
      },
      "execution_count": 5,
      "outputs": [
        {
          "output_type": "stream",
          "name": "stdout",
          "text": [
            "5\n",
            "6 3 2 10 -10\n",
            "8\n",
            "10 9 -5 2 3 4 5 -10\n",
            "1 0 0 1 1 0 0 1 "
          ]
        }
      ]
    },
    {
      "cell_type": "markdown",
      "source": [
        "### 4504"
      ],
      "metadata": {
        "id": "fJQsW7lMwp7F"
      }
    },
    {
      "cell_type": "code",
      "source": [
        "n = int(input())\n",
        "\n",
        "while True:\n",
        "  bigyo = int(input())\n",
        "  if bigyo == 0:\n",
        "    break\n",
        "  else:\n",
        "    if bigyo % n == 0 :\n",
        "      print(\"%d is a multiple of %d.\" %(bigyo, n))\n",
        "    else:\n",
        "      print(\"%d is NOT a multiple of %d.\" %(bigyo, n))"
      ],
      "metadata": {
        "colab": {
          "base_uri": "https://localhost:8080/"
        },
        "id": "6dYIDucxwqL6",
        "outputId": "9fe50781-ef50-4cbe-9e25-5b98a092ae5b"
      },
      "execution_count": 6,
      "outputs": [
        {
          "name": "stdout",
          "output_type": "stream",
          "text": [
            "3\n",
            "1\n",
            "1 is NOT a multiple of 3\n",
            "7\n",
            "7 is NOT a multiple of 3\n",
            "99\n",
            "99 is a multiple of 3\n",
            "321\n",
            "321 is a multiple of 3\n",
            "777\n",
            "777 is a multiple of 3\n",
            "0\n"
          ]
        }
      ]
    }
  ]
}