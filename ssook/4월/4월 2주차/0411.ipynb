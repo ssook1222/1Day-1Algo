{
  "nbformat": 4,
  "nbformat_minor": 0,
  "metadata": {
    "colab": {
      "provenance": [],
      "authorship_tag": "ABX9TyMnK5pDEGbveZTpk/ZBGUyN",
      "include_colab_link": true
    },
    "kernelspec": {
      "name": "python3",
      "display_name": "Python 3"
    },
    "language_info": {
      "name": "python"
    }
  },
  "cells": [
    {
      "cell_type": "markdown",
      "metadata": {
        "id": "view-in-github",
        "colab_type": "text"
      },
      "source": [
        "<a href=\"https://colab.research.google.com/github/ssook1222/1Day-1Algo/blob/master/ssook/4%EC%9B%94/4%EC%9B%94%202%EC%A3%BC%EC%B0%A8/0411.ipynb\" target=\"_parent\"><img src=\"https://colab.research.google.com/assets/colab-badge.svg\" alt=\"Open In Colab\"/></a>"
      ]
    },
    {
      "cell_type": "markdown",
      "source": [
        "### 10093"
      ],
      "metadata": {
        "id": "THVkkCHIgetY"
      }
    },
    {
      "cell_type": "code",
      "execution_count": 3,
      "metadata": {
        "colab": {
          "base_uri": "https://localhost:8080/"
        },
        "id": "4rsvRQ2SgY2r",
        "outputId": "85d4104f-fd35-4882-ef57-7fabe82cc477"
      },
      "outputs": [
        {
          "output_type": "stream",
          "name": "stdout",
          "text": [
            "10,20,30,50,100\n",
            "5\n"
          ]
        }
      ],
      "source": [
        "s = list(map(int, input().split(\",\")))\n",
        "print(len(s))"
      ]
    },
    {
      "cell_type": "markdown",
      "source": [
        "### 13985"
      ],
      "metadata": {
        "id": "L3yvdsKpiMFh"
      }
    },
    {
      "cell_type": "code",
      "source": [
        "s = str(input())\n",
        "s = s.replace(\" \", \"\")\n",
        "\n",
        "a = int(s[0])\n",
        "b = int(s[2])\n",
        "c = int(s[4])\n",
        "\n",
        "if a+b == c:\n",
        "  print(\"YES\")\n",
        "else:\n",
        "  print(\"NO\")"
      ],
      "metadata": {
        "colab": {
          "base_uri": "https://localhost:8080/"
        },
        "id": "RRumpR5MiMTl",
        "outputId": "485d0c31-e888-45f4-83ae-0ce5798b8c26"
      },
      "execution_count": 5,
      "outputs": [
        {
          "output_type": "stream",
          "name": "stdout",
          "text": [
            "2 + 2 = 5\n",
            "NO\n"
          ]
        }
      ]
    },
    {
      "cell_type": "markdown",
      "source": [
        "\n",
        "### 11931"
      ],
      "metadata": {
        "id": "10pUqso0jb0e"
      }
    },
    {
      "cell_type": "code",
      "source": [
        "import sys\n",
        "input = sys.stdin.readline\n",
        "\n",
        "n = int(input())\n",
        "num = []\n",
        "for i in range(0, n):\n",
        "  indx = int(input())\n",
        "  num.append(indx)\n",
        "\n",
        "num.sort(reverse = True)\n",
        "\n",
        "for j in num:\n",
        "  print(j)"
      ],
      "metadata": {
        "colab": {
          "base_uri": "https://localhost:8080/"
        },
        "id": "S3_BqgHBjcCJ",
        "outputId": "331f4c96-b08a-4dce-fe5d-02ab512599c8"
      },
      "execution_count": 7,
      "outputs": [
        {
          "output_type": "stream",
          "name": "stdout",
          "text": [
            "5\n",
            "1\n",
            "2\n",
            "3\n",
            "4\n",
            "5\n",
            "5\n",
            "4\n",
            "3\n",
            "2\n",
            "1\n"
          ]
        }
      ]
    }
  ]
}