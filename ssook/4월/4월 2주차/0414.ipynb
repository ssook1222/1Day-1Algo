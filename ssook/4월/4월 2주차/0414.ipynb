{
  "nbformat": 4,
  "nbformat_minor": 0,
  "metadata": {
    "colab": {
      "provenance": [],
      "authorship_tag": "ABX9TyMl+nxpkxzx5ojSv/PXbmJ5",
      "include_colab_link": true
    },
    "kernelspec": {
      "name": "python3",
      "display_name": "Python 3"
    },
    "language_info": {
      "name": "python"
    }
  },
  "cells": [
    {
      "cell_type": "markdown",
      "metadata": {
        "id": "view-in-github",
        "colab_type": "text"
      },
      "source": [
        "<a href=\"https://colab.research.google.com/github/ssook1222/1Day-1Algo/blob/master/ssook/4%EC%9B%94/4%EC%9B%94%202%EC%A3%BC%EC%B0%A8/0414.ipynb\" target=\"_parent\"><img src=\"https://colab.research.google.com/assets/colab-badge.svg\" alt=\"Open In Colab\"/></a>"
      ]
    },
    {
      "cell_type": "markdown",
      "source": [
        "### 13410"
      ],
      "metadata": {
        "id": "kvP-pMx2jaub"
      }
    },
    {
      "cell_type": "code",
      "execution_count": null,
      "metadata": {
        "id": "SeVIswQX07kg",
        "colab": {
          "base_uri": "https://localhost:8080/"
        },
        "outputId": "28422eeb-261c-4255-f541-88d19f27de15"
      },
      "outputs": [
        {
          "output_type": "stream",
          "name": "stdout",
          "text": [
            "8 9\n",
            "84\n"
          ]
        }
      ],
      "source": [
        "n, k = map(int, input().split(\" \"))\n",
        "num = []\n",
        "for i in range(1, k+1):\n",
        "  num.append(int(str(n*i)[::-1]))\n",
        "\n",
        "print(max(num))"
      ]
    },
    {
      "cell_type": "markdown",
      "source": [
        "### 2408"
      ],
      "metadata": {
        "id": "Xt2o90ZU_rx-"
      }
    },
    {
      "cell_type": "markdown",
      "source": [
        "→ 다시 한 번 보기...."
      ],
      "metadata": {
        "id": "O15H_VvMDkEX"
      }
    },
    {
      "cell_type": "code",
      "source": [
        "n = int(input())\n",
        "sik = ''\n",
        "\n",
        "for i in range(0, 2*n-1):\n",
        "  sik = input()+sik\n",
        "\n",
        "sik = sik.replace('/', '//')\n",
        "\n",
        "print(eval(sik))"
      ],
      "metadata": {
        "colab": {
          "base_uri": "https://localhost:8080/"
        },
        "id": "Tq7QK0tS_r_p",
        "outputId": "d80f7795-9aa3-435f-fea5-129b7ae5ea9a"
      },
      "execution_count": 2,
      "outputs": [
        {
          "output_type": "stream",
          "name": "stdout",
          "text": [
            "4\n",
            "2\n",
            "*\n",
            "3\n",
            "+\n",
            "1\n",
            "*\n",
            "4\n",
            "10\n"
          ]
        }
      ]
    },
    {
      "cell_type": "markdown",
      "source": [
        "### eval 함수\n",
        "매개변수로 받은 expression (=식)을 문자열로 받아서, 실행하는 함수.        \n",
        "\n",
        "----\n",
        "\n",
        "매개변수로 받은 expression은 파이썬에서 실행 가능한 문자열.\n",
        "문자열로 들어온 그 expression을 파이썬이 실행해주는 그런 함수"
      ],
      "metadata": {
        "id": "-XbQnfxuCEDB"
      }
    }
  ]
}