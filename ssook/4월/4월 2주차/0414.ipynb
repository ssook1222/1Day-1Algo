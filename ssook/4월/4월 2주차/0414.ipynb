{
  "nbformat": 4,
  "nbformat_minor": 0,
  "metadata": {
    "colab": {
      "provenance": [],
      "authorship_tag": "ABX9TyOKCyY9YS7b2Lu25mof3+F/"
    },
    "kernelspec": {
      "name": "python3",
      "display_name": "Python 3"
    },
    "language_info": {
      "name": "python"
    }
  },
  "cells": [
    {
      "cell_type": "markdown",
      "source": [
        "### 13410"
      ],
      "metadata": {
        "id": "kvP-pMx2jaub"
      }
    },
    {
      "cell_type": "code",
      "execution_count": null,
      "metadata": {
        "id": "SeVIswQX07kg",
        "colab": {
          "base_uri": "https://localhost:8080/"
        },
        "outputId": "28422eeb-261c-4255-f541-88d19f27de15"
      },
      "outputs": [
        {
          "output_type": "stream",
          "name": "stdout",
          "text": [
            "8 9\n",
            "84\n"
          ]
        }
      ],
      "source": [
        "n, k = map(int, input().split(\" \"))\n",
        "num = []\n",
        "for i in range(1, k+1):\n",
        "  num.append(int(str(n*i)[::-1]))\n",
        "\n",
        "print(max(num))"
      ]
    },
    {
      "cell_type": "markdown",
      "source": [
        "### 2408"
      ],
      "metadata": {
        "id": "Xt2o90ZU_rx-"
      }
    },
    {
      "cell_type": "code",
      "source": [
        "n = int(input())\n",
        "sik = ''\n",
        "\n",
        "for i in range(0, 2*n-1):\n",
        "  sik += input()\n",
        "\n",
        "sik = sik.replace('/', '//')\n",
        "\n",
        "print(eval(sik))"
      ],
      "metadata": {
        "colab": {
          "base_uri": "https://localhost:8080/"
        },
        "id": "Tq7QK0tS_r_p",
        "outputId": "f33355bb-8ec0-402b-e7e4-50b60991928d"
      },
      "execution_count": 3,
      "outputs": [
        {
          "output_type": "stream",
          "name": "stdout",
          "text": [
            "4\n",
            "2\n",
            "*\n",
            "3\n",
            "+\n",
            "4\n",
            "-\n",
            "1\n",
            "9\n"
          ]
        }
      ]
    },
    {
      "cell_type": "markdown",
      "source": [
        "### eval 함수\n",
        "매개변수로 받은 expression (=식)을 문자열로 받아서, 실행하는 함수.        \n",
        "\n",
        "----\n",
        "\n",
        "매개변수로 받은 expression은 파이썬에서 실행 가능한 문자열.\n",
        "문자열로 들어온 그 expression을 파이썬이 실행해주는 그런 함수"
      ],
      "metadata": {
        "id": "-XbQnfxuCEDB"
      }
    }
  ]
}