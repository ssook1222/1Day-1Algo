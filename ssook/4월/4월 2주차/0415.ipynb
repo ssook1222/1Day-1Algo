{
  "nbformat": 4,
  "nbformat_minor": 0,
  "metadata": {
    "colab": {
      "provenance": [],
      "authorship_tag": "ABX9TyNyhBmW5rnY6ieFQsH9yFLc",
      "include_colab_link": true
    },
    "kernelspec": {
      "name": "python3",
      "display_name": "Python 3"
    },
    "language_info": {
      "name": "python"
    }
  },
  "cells": [
    {
      "cell_type": "markdown",
      "metadata": {
        "id": "view-in-github",
        "colab_type": "text"
      },
      "source": [
        "<a href=\"https://colab.research.google.com/github/ssook1222/1Day-1Algo/blob/master/ssook/4%EC%9B%94/4%EC%9B%94%202%EC%A3%BC%EC%B0%A8/0415.ipynb\" target=\"_parent\"><img src=\"https://colab.research.google.com/assets/colab-badge.svg\" alt=\"Open In Colab\"/></a>"
      ]
    },
    {
      "cell_type": "markdown",
      "source": [
        "### 10816 "
      ],
      "metadata": {
        "id": "VmS85C8NFo6W"
      }
    },
    {
      "cell_type": "code",
      "source": [
        "n = int(input())\n",
        "card = list(map(int, input().split(\" \")))\n",
        "card.sort()\n",
        "\n",
        "m = int(input())\n",
        "bigyo = list(map(int, input().split(\" \")))\n",
        "\n",
        "cnt = {}\n",
        "\n",
        "# dict에 있을 때마다 더하기\n",
        "for i in card:\n",
        "  if i in cnt:\n",
        "    cnt[i] += 1\n",
        "  else:\n",
        "    cnt[i] = 1\n",
        "\n",
        "for i in bigyo:\n",
        "  if i in cnt:\n",
        "    print(cnt[i], end = \" \")\n",
        "  else:\n",
        "    print(0, end = \" \")"
      ],
      "metadata": {
        "colab": {
          "base_uri": "https://localhost:8080/"
        },
        "id": "54t9rbBtFpIb",
        "outputId": "cfa21f5b-38a2-44da-8bcb-aced442a7e10"
      },
      "execution_count": 8,
      "outputs": [
        {
          "output_type": "stream",
          "name": "stdout",
          "text": [
            "10\n",
            "6 3 2 10 10 10 -10 -10 7 3\n",
            "8\n",
            "10 9 -5 2 3 4 5 -10\n",
            "3 0 0 1 2 0 0 2 "
          ]
        }
      ]
    },
    {
      "cell_type": "markdown",
      "source": [
        "#### 완전탐색 -> 시간초과"
      ],
      "metadata": {
        "id": "n5xCvFDpFkYY"
      }
    },
    {
      "cell_type": "code",
      "execution_count": 5,
      "metadata": {
        "colab": {
          "base_uri": "https://localhost:8080/"
        },
        "id": "N180--fBCW3k",
        "outputId": "09fcb56e-ae7b-451d-f6fd-9d3f0110d379"
      },
      "outputs": [
        {
          "output_type": "stream",
          "name": "stdout",
          "text": [
            "10\n",
            "6 3 2 10 10 10 -10 -10 7 3\n",
            "8\n",
            "10 9 -5 2 3 4 5 -10\n",
            "3 0 0 1 2 0 0 2 "
          ]
        }
      ],
      "source": [
        "n = int(input())\n",
        "card = list(map(int, input().split(\" \")))\n",
        "\n",
        "m = int(input())\n",
        "bigyo = list(map(int, input().split(\" \")))\n",
        "\n",
        "test = [0 for _ in range(0, m)]\n",
        "\n",
        "for i in range(0, m):\n",
        "  for j in range(0, n):\n",
        "    if card[j]==bigyo[i]:\n",
        "      test[i] = test[i] + 1\n",
        "\n",
        "for k in test:\n",
        "  print(k, end=\" \")"
      ]
    },
    {
      "cell_type": "markdown",
      "source": [
        "---"
      ],
      "metadata": {
        "id": "ujPW0aCZIbVx"
      }
    },
    {
      "cell_type": "markdown",
      "source": [
        "### 2231"
      ],
      "metadata": {
        "id": "TbiclxioJBsL"
      }
    },
    {
      "cell_type": "code",
      "source": [
        "n = int(input())\n",
        "\n",
        "for i in range(1, n+1):\n",
        "  num = sum((map(int, str(i))))\n",
        "  num_sum = num + i\n",
        "\n",
        "  if n == num_sum: # 분해합이 있는 경우\n",
        "    print(i)\n",
        "    break\n",
        "\n",
        "  if i == n: # 분해합이 없는 경우\n",
        "    print(0)"
      ],
      "metadata": {
        "colab": {
          "base_uri": "https://localhost:8080/"
        },
        "id": "4hWfdv5_JCEq",
        "outputId": "3d5156da-e2e1-4081-e237-25e85a601a8e"
      },
      "execution_count": 12,
      "outputs": [
        {
          "output_type": "stream",
          "name": "stdout",
          "text": [
            "216\n",
            "198\n"
          ]
        }
      ]
    },
    {
      "cell_type": "markdown",
      "source": [
        "### 1551"
      ],
      "metadata": {
        "id": "k9TfuIoWLgWK"
      }
    },
    {
      "cell_type": "code",
      "source": [
        "n, k = map(int, input().split(\" \"))\n",
        "\n",
        "num = list(map(int, input().split(\",\")))\n",
        "\n",
        "for i in range(0, k):\n",
        "  ans = []\n",
        "  for j in range(1, len(num)):\n",
        "    ans.append(num[j]-num[j-1])\n",
        "  num = ans\n",
        "\n",
        "print(*num, sep = ',')"
      ],
      "metadata": {
        "colab": {
          "base_uri": "https://localhost:8080/"
        },
        "id": "uA2JqpzpLgyu",
        "outputId": "8c31a4b8-836d-42d3-bbd0-58c14996321b"
      },
      "execution_count": 20,
      "outputs": [
        {
          "output_type": "stream",
          "name": "stdout",
          "text": [
            "5 1\n",
            "5,6,3,9,-1\n",
            "1,-3,6,-10\n"
          ]
        }
      ]
    }
  ]
}