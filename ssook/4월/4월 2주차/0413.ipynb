{
  "nbformat": 4,
  "nbformat_minor": 0,
  "metadata": {
    "colab": {
      "provenance": [],
      "authorship_tag": "ABX9TyN/5Wut5L/tALzKENnR9Nd3",
      "include_colab_link": true
    },
    "kernelspec": {
      "name": "python3",
      "display_name": "Python 3"
    },
    "language_info": {
      "name": "python"
    }
  },
  "cells": [
    {
      "cell_type": "markdown",
      "metadata": {
        "id": "view-in-github",
        "colab_type": "text"
      },
      "source": [
        "<a href=\"https://colab.research.google.com/github/ssook1222/1Day-1Algo/blob/master/ssook/4%EC%9B%94/4%EC%9B%94%202%EC%A3%BC%EC%B0%A8/0413.ipynb\" target=\"_parent\"><img src=\"https://colab.research.google.com/assets/colab-badge.svg\" alt=\"Open In Colab\"/></a>"
      ]
    },
    {
      "cell_type": "markdown",
      "source": [
        "### 1550"
      ],
      "metadata": {
        "id": "IwSbR2Azt5w-"
      }
    },
    {
      "cell_type": "code",
      "execution_count": null,
      "metadata": {
        "colab": {
          "base_uri": "https://localhost:8080/"
        },
        "id": "PBxG6YiDt262",
        "outputId": "bf83600f-f67b-486f-99dd-9886d7a90f0c"
      },
      "outputs": [
        {
          "output_type": "stream",
          "name": "stdout",
          "text": [
            "a\n",
            "10\n"
          ]
        }
      ],
      "source": [
        "print(int(input(), 16))"
      ]
    },
    {
      "cell_type": "markdown",
      "source": [
        "### 1212"
      ],
      "metadata": {
        "id": "cWAp3Oew1R42"
      }
    },
    {
      "cell_type": "code",
      "source": [
        "print(bin(int(input(), 8))[2:])"
      ],
      "metadata": {
        "colab": {
          "base_uri": "https://localhost:8080/"
        },
        "id": "eZ-1TJiA1SD6",
        "outputId": "8ad45433-ac03-406f-83c6-acdb095a6a64"
      },
      "execution_count": 3,
      "outputs": [
        {
          "output_type": "stream",
          "name": "stdout",
          "text": [
            "314\n",
            "11001100\n"
          ]
        }
      ]
    },
    {
      "cell_type": "markdown",
      "source": [
        "→ bin 함수는 파이썬의 내장함수로, x진수를 2진수로 변환해준다."
      ],
      "metadata": {
        "id": "lyE6S5B32CIz"
      }
    },
    {
      "cell_type": "markdown",
      "source": [
        "### 2864"
      ],
      "metadata": {
        "id": "7VAOkXDD2ebb"
      }
    },
    {
      "cell_type": "code",
      "source": [
        "a, b = input().split(\" \")\n",
        "\n",
        "min = int(a.replace('6','5')) + int(b.replace('6','5'))\n",
        "max = int(a.replace('5','6')) + int(b.replace('5','6'))\n",
        "\n",
        "print(min, max)"
      ],
      "metadata": {
        "colab": {
          "base_uri": "https://localhost:8080/"
        },
        "id": "2u51Rr2g2ezx",
        "outputId": "98c43b61-3ce8-4f43-c920-9c7372be6ef0"
      },
      "execution_count": 4,
      "outputs": [
        {
          "output_type": "stream",
          "name": "stdout",
          "text": [
            "11 25\n",
            "36 37\n"
          ]
        }
      ]
    },
    {
      "cell_type": "markdown",
      "source": [
        "### 1252"
      ],
      "metadata": {
        "id": "Vh9HNwRR4BfT"
      }
    },
    {
      "cell_type": "code",
      "source": [
        "a, b = map(str,input().split(\" \"))\n",
        "a = int(a,2)\n",
        "b = int(b,2)\n",
        "print(bin(a+b)[2:])"
      ],
      "metadata": {
        "colab": {
          "base_uri": "https://localhost:8080/"
        },
        "id": "KZFefoFg4Brd",
        "outputId": "2d9481e3-a999-4789-fce2-f6c576dca38d"
      },
      "execution_count": 9,
      "outputs": [
        {
          "output_type": "stream",
          "name": "stdout",
          "text": [
            "1001101 10010\n",
            "1011111\n"
          ]
        }
      ]
    }
  ]
}