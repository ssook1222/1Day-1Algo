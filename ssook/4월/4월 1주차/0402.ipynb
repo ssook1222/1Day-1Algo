{
  "nbformat": 4,
  "nbformat_minor": 0,
  "metadata": {
    "colab": {
      "provenance": [],
      "authorship_tag": "ABX9TyPsRcI/+YtVzxJYNM662gdL",
      "include_colab_link": true
    },
    "kernelspec": {
      "name": "python3",
      "display_name": "Python 3"
    },
    "language_info": {
      "name": "python"
    }
  },
  "cells": [
    {
      "cell_type": "markdown",
      "metadata": {
        "id": "view-in-github",
        "colab_type": "text"
      },
      "source": [
        "<a href=\"https://colab.research.google.com/github/ssook1222/1Day-1Algo/blob/master/ssook/4%EC%9B%94/4%EC%9B%94%201%EC%A3%BC%EC%B0%A8/0402.ipynb\" target=\"_parent\"><img src=\"https://colab.research.google.com/assets/colab-badge.svg\" alt=\"Open In Colab\"/></a>"
      ]
    },
    {
      "cell_type": "markdown",
      "source": [
        "### 9093"
      ],
      "metadata": {
        "id": "9txMgQL95OsJ"
      }
    },
    {
      "cell_type": "code",
      "execution_count": 5,
      "metadata": {
        "colab": {
          "base_uri": "https://localhost:8080/"
        },
        "id": "iJViqlEY5NGW",
        "outputId": "5544b8c4-f05b-4f16-ce4a-d198a5833525"
      },
      "outputs": [
        {
          "output_type": "stream",
          "name": "stdout",
          "text": [
            "2\n",
            "We want to win the first prize\n",
            "eW tnaw ot niw eht tsrif ezirp  \n",
            "I am happy today\n",
            "I ma yppah yadot  \n"
          ]
        }
      ],
      "source": [
        "n = int(input())\n",
        "\n",
        "for i in range(0,n):\n",
        "  word = list(map(str, input().split()))\n",
        "  for j in word:\n",
        "    print(j[::-1], end=\" \")"
      ]
    },
    {
      "cell_type": "markdown",
      "source": [
        "### 1357"
      ],
      "metadata": {
        "id": "4ge6eRS8639p"
      }
    },
    {
      "cell_type": "code",
      "source": [
        "x, y = map(str, input().split())\n",
        "\n",
        "x = int(x[::-1])\n",
        "y = int(y[::-1])\n",
        "\n",
        "ans = str(x+y)\n",
        "ans = int(ans[::-1])\n",
        "\n",
        "print(ans)"
      ],
      "metadata": {
        "colab": {
          "base_uri": "https://localhost:8080/"
        },
        "id": "5fpt0mw364Ur",
        "outputId": "bd5d11ba-6e4b-43e6-ce6a-fb869b5046b4"
      },
      "execution_count": 8,
      "outputs": [
        {
          "output_type": "stream",
          "name": "stdout",
          "text": [
            "1000 1\n",
            "2\n"
          ]
        }
      ]
    },
    {
      "cell_type": "markdown",
      "source": [
        "### 10250"
      ],
      "metadata": {
        "id": "Xiw0wkmo7olA"
      }
    },
    {
      "cell_type": "code",
      "source": [
        "t = int(input())\n",
        "\n",
        "for i in range(t):\n",
        "  h, w, n = map(int, input().split())\n",
        "  num = n//h +1\n",
        "  floor = n % h\n",
        "\n",
        "  if n % h == 0:\n",
        "    num = n//h\n",
        "    floor = h\n",
        "\n",
        "  print(floor*100+num)"
      ],
      "metadata": {
        "colab": {
          "base_uri": "https://localhost:8080/"
        },
        "id": "wqSIivih7o-s",
        "outputId": "1261c4bd-0aa8-4d4e-bc3b-4a087ed4dfc9"
      },
      "execution_count": 9,
      "outputs": [
        {
          "output_type": "stream",
          "name": "stdout",
          "text": [
            "2\n",
            "6 12 10\n",
            "402\n",
            "30 50 72\n",
            "1203\n"
          ]
        }
      ]
    }
  ]
}