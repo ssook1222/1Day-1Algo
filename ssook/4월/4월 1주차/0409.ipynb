{
  "nbformat": 4,
  "nbformat_minor": 0,
  "metadata": {
    "colab": {
      "provenance": [],
      "authorship_tag": "ABX9TyPrQxuyoG2Va34Rbmkj+EgD",
      "include_colab_link": true
    },
    "kernelspec": {
      "name": "python3",
      "display_name": "Python 3"
    },
    "language_info": {
      "name": "python"
    }
  },
  "cells": [
    {
      "cell_type": "markdown",
      "metadata": {
        "id": "view-in-github",
        "colab_type": "text"
      },
      "source": [
        "<a href=\"https://colab.research.google.com/github/ssook1222/1Day-1Algo/blob/master/ssook/4%EC%9B%94/4%EC%9B%94%201%EC%A3%BC%EC%B0%A8/0409.ipynb\" target=\"_parent\"><img src=\"https://colab.research.google.com/assets/colab-badge.svg\" alt=\"Open In Colab\"/></a>"
      ]
    },
    {
      "cell_type": "markdown",
      "source": [
        "### 2902"
      ],
      "metadata": {
        "id": "BCUcmLyE_BuC"
      }
    },
    {
      "cell_type": "code",
      "execution_count": 4,
      "metadata": {
        "colab": {
          "base_uri": "https://localhost:8080/"
        },
        "id": "Y2md-cM89ezZ",
        "outputId": "d284e3ef-ddf7-4422-ef69-35dd6fe8a9b4"
      },
      "outputs": [
        {
          "output_type": "stream",
          "name": "stdout",
          "text": [
            "Knuth-Morris-Pratt\n",
            "KMP"
          ]
        }
      ],
      "source": [
        "word = list(map(str, input().split(\"-\")))\n",
        "for i in range(0, len(word)):\n",
        "  print(word[i][0], end=\"\")"
      ]
    },
    {
      "cell_type": "markdown",
      "source": [
        "### 11278"
      ],
      "metadata": {
        "id": "mXUXQCgH_2si"
      }
    },
    {
      "cell_type": "code",
      "source": [
        "n,m = map(int, input().split(\" \"))\n",
        "\n",
        "a = list(map(int, input().split(\" \")))\n",
        "b = list(map(int, input().split(\" \")))\n",
        "ans = a + b\n",
        "\n",
        "ans.sort()\n",
        "\n",
        "for i in ans:\n",
        "  print(i, end=\" \")"
      ],
      "metadata": {
        "colab": {
          "base_uri": "https://localhost:8080/"
        },
        "id": "KDf7VQBb_3Au",
        "outputId": "3d88761c-b412-44f5-ebc9-6d71996227b2"
      },
      "execution_count": 6,
      "outputs": [
        {
          "output_type": "stream",
          "name": "stdout",
          "text": [
            "2 2\n",
            "3 5\n",
            "2 9\n",
            "2 3 5 9 "
          ]
        }
      ]
    },
    {
      "cell_type": "markdown",
      "source": [
        "### 11815"
      ],
      "metadata": {
        "id": "ecUE1Zg9B-LN"
      }
    },
    {
      "cell_type": "code",
      "source": [
        "n = int(input())\n",
        "num = list(map(int, input().split(\" \")))\n",
        "\n",
        "for i in range(n):\n",
        "  if num[i] == (int(num[i] ** 0.5)**2):\n",
        "    print(1, end=\" \")\n",
        "  else:\n",
        "    print(0, end=\" \")"
      ],
      "metadata": {
        "colab": {
          "base_uri": "https://localhost:8080/"
        },
        "id": "nkYndXIJE4zj",
        "outputId": "f6a58d3f-f584-4e8d-a1a5-cad8f82af974"
      },
      "execution_count": 22,
      "outputs": [
        {
          "output_type": "stream",
          "name": "stdout",
          "text": [
            "2\n",
            "4 5\n",
            "1 0 "
          ]
        }
      ]
    },
    {
      "cell_type": "markdown",
      "source": [
        "---\n",
        "#### 시간초과"
      ],
      "metadata": {
        "id": "gVB2updcDech"
      }
    },
    {
      "cell_type": "code",
      "source": [
        "def yaksu(n):\n",
        "  cnt = 1\n",
        "  for i in range(1,n):\n",
        "    if n % i == 0:\n",
        "      cnt = cnt + 1\n",
        "    else:\n",
        "      pass\n",
        "  return cnt\n",
        "\n",
        "n = int(input())\n",
        "num = list(map(int, input().split(\" \")))\n",
        "\n",
        "for i in num:\n",
        "  if yaksu(i) % 2 == 0:\n",
        "    print(0, end=\" \")\n",
        "  else:\n",
        "    print(1, end=\" \")"
      ],
      "metadata": {
        "colab": {
          "base_uri": "https://localhost:8080/"
        },
        "id": "eUd6xyktB-fb",
        "outputId": "fd1b0884-d88d-4bd2-8336-80861085de3d"
      },
      "execution_count": 12,
      "outputs": [
        {
          "output_type": "stream",
          "name": "stdout",
          "text": [
            "2\n",
            "4 5\n",
            "1 0 "
          ]
        }
      ]
    },
    {
      "cell_type": "markdown",
      "source": [
        "#### 시간초과2"
      ],
      "metadata": {
        "id": "Ftzyr83nDf7D"
      }
    },
    {
      "cell_type": "code",
      "source": [
        "def yaksu(n):\n",
        "  cnt = 0\n",
        "  for i in range(1,int(n**(1/2)+1)):\n",
        "    if n % i == 0:\n",
        "      cnt = cnt + 1\n",
        "      if (i**2) != n :\n",
        "          cnt = cnt + 1\n",
        "    else:\n",
        "      pass\n",
        "  return cnt\n",
        "\n",
        "n = int(input())\n",
        "num = list(map(int, input().split(\" \")))\n",
        "\n",
        "for i in num:\n",
        "  if yaksu(i) % 2 == 0:\n",
        "    print(0, end=\" \")\n",
        "  else:\n",
        "    print(1, end=\" \")"
      ],
      "metadata": {
        "colab": {
          "base_uri": "https://localhost:8080/"
        },
        "id": "hkQIf3ucDhex",
        "outputId": "12f8b680-0e2e-45df-e2df-1168d8141e02"
      },
      "execution_count": 21,
      "outputs": [
        {
          "output_type": "stream",
          "name": "stdout",
          "text": [
            "1\n",
            "15\n",
            "0 "
          ]
        }
      ]
    }
  ]
}