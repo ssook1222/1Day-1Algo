{
  "nbformat": 4,
  "nbformat_minor": 0,
  "metadata": {
    "colab": {
      "provenance": [],
      "authorship_tag": "ABX9TyPkg9tMtAymj6NSOkjLVRjd",
      "include_colab_link": true
    },
    "kernelspec": {
      "name": "python3",
      "display_name": "Python 3"
    },
    "language_info": {
      "name": "python"
    }
  },
  "cells": [
    {
      "cell_type": "markdown",
      "metadata": {
        "id": "view-in-github",
        "colab_type": "text"
      },
      "source": [
        "<a href=\"https://colab.research.google.com/github/ssook1222/1Day-1Algo/blob/master/ssook/4%EC%9B%94/4%EC%9B%94%201%EC%A3%BC%EC%B0%A8/0406.ipynb\" target=\"_parent\"><img src=\"https://colab.research.google.com/assets/colab-badge.svg\" alt=\"Open In Colab\"/></a>"
      ]
    },
    {
      "cell_type": "markdown",
      "source": [
        "### 2592"
      ],
      "metadata": {
        "id": "AnAfIQ-Uwtwr"
      }
    },
    {
      "cell_type": "code",
      "execution_count": 6,
      "metadata": {
        "colab": {
          "base_uri": "https://localhost:8080/"
        },
        "id": "BCUxO6O3wn9_",
        "outputId": "57ef7994-7889-4469-f9d8-bfe58fa68d4c"
      },
      "outputs": [
        {
          "output_type": "stream",
          "name": "stdout",
          "text": [
            "10\n",
            "40\n",
            "30\n",
            "60\n",
            "30\n",
            "20\n",
            "60\n",
            "30\n",
            "40\n",
            "50\n",
            "37\n",
            "30\n"
          ]
        }
      ],
      "source": [
        "from collections import Counter\n",
        "\n",
        "num = []\n",
        "\n",
        "for i in range(0, 10):\n",
        "  nat = int(input())\n",
        "  num.append(nat)\n",
        "\n",
        "print(int(sum(num)/len(num)))\n",
        "\n",
        "mode = Counter(num).most_common(1)\n",
        "print(mode[0][0])"
      ]
    },
    {
      "cell_type": "markdown",
      "source": [
        "### 10820"
      ],
      "metadata": {
        "id": "z-yUCbLOzMbK"
      }
    },
    {
      "cell_type": "code",
      "source": [
        "import sys\n",
        "\n",
        "while True:\n",
        "  string = sys.stdin.readline().rstrip(\"\\n\")\n",
        "  upper = 0\n",
        "  lower = 0\n",
        "  space = 0\n",
        "  num = 0\n",
        "\n",
        "  if not string:\n",
        "    break\n",
        "  else:\n",
        "    for i in string:\n",
        "      if i.isupper():\n",
        "        upper = upper + 1\n",
        "      elif i.islower():\n",
        "        lower = lower + 1\n",
        "      elif i.isdigit():\n",
        "        num = num + 1\n",
        "      elif i.isspace():\n",
        "        space = space + 1\n",
        "sys.stdout.write(\"{} {} {} {}\\n\".format(lower, upper, num, space))"
      ],
      "metadata": {
        "colab": {
          "base_uri": "https://localhost:8080/"
        },
        "id": "jkTTTFflzMpp",
        "outputId": "87b10dd0-4c10-436d-d3ae-2cda5efb267e"
      },
      "execution_count": 9,
      "outputs": [
        {
          "output_type": "stream",
          "name": "stdout",
          "text": [
            "0 0 0 0\n"
          ]
        }
      ]
    }
  ]
}