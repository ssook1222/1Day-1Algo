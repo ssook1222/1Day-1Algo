{
  "nbformat": 4,
  "nbformat_minor": 0,
  "metadata": {
    "colab": {
      "provenance": [],
      "authorship_tag": "ABX9TyM2Ww5EyIU/mby5psqcnUhE",
      "include_colab_link": true
    },
    "kernelspec": {
      "name": "python3",
      "display_name": "Python 3"
    },
    "language_info": {
      "name": "python"
    }
  },
  "cells": [
    {
      "cell_type": "markdown",
      "metadata": {
        "id": "view-in-github",
        "colab_type": "text"
      },
      "source": [
        "<a href=\"https://colab.research.google.com/github/ssook1222/1Day-1Algo/blob/master/ssook/4%EC%9B%94/4%EC%9B%94%201%EC%A3%BC%EC%B0%A8/0403.ipynb\" target=\"_parent\"><img src=\"https://colab.research.google.com/assets/colab-badge.svg\" alt=\"Open In Colab\"/></a>"
      ]
    },
    {
      "cell_type": "markdown",
      "source": [
        "### 9085"
      ],
      "metadata": {
        "id": "rFuzDha2VEvt"
      }
    },
    {
      "cell_type": "code",
      "execution_count": null,
      "metadata": {
        "colab": {
          "base_uri": "https://localhost:8080/"
        },
        "id": "yZwQ5q41-fUn",
        "outputId": "807cade5-cbaa-47d2-ba51-0f66f3e386a4"
      },
      "outputs": [
        {
          "name": "stdout",
          "output_type": "stream",
          "text": [
            "2\n",
            "5\n"
          ]
        }
      ],
      "source": [
        "t = int(input())\n",
        "\n",
        "for i in range(0, t):\n",
        "  n = int(input())\n",
        "  ans = list(map(int, input().split()))\n",
        "  print(sum(ans))"
      ]
    },
    {
      "cell_type": "markdown",
      "source": [
        "### 1769"
      ],
      "metadata": {
        "id": "qM0h9HGKVLVE"
      }
    },
    {
      "cell_type": "code",
      "source": [
        "num = str(input())\n",
        "\n",
        "if len(num) < 1:\n",
        "  rdata = -1\n",
        "\n",
        "if len(num) == 1:\n",
        "  rdata = int(num)\n",
        "\n",
        "num = list(num)\n",
        "cnt = 0\n",
        "\n",
        "while len(num)>1:\n",
        "  rdata = 0\n",
        "  for i in num:\n",
        "    rdata = int(i) + rdata\n",
        "  num = str(rdata)\n",
        "  cnt = cnt + 1\n",
        "\n",
        "print(cnt)\n",
        "if rdata % 3 == 0:\n",
        "  print(\"YES\")\n",
        "\n",
        "else:\n",
        "  print(\"NO\")"
      ],
      "metadata": {
        "colab": {
          "base_uri": "https://localhost:8080/"
        },
        "id": "ar4CnnpKVLlM",
        "outputId": "359f7c9a-4e84-4b3e-f5bd-d6794452da2e"
      },
      "execution_count": 20,
      "outputs": [
        {
          "output_type": "stream",
          "name": "stdout",
          "text": [
            "\n",
            "0\n",
            "NO\n"
          ]
        }
      ]
    },
    {
      "cell_type": "markdown",
      "source": [
        "### 11283"
      ],
      "metadata": {
        "id": "joHUP_E3Zf-9"
      }
    },
    {
      "cell_type": "code",
      "source": [
        "print(ord(input())-44031)"
      ],
      "metadata": {
        "colab": {
          "base_uri": "https://localhost:8080/"
        },
        "id": "uJdqH9CHZgNM",
        "outputId": "cf314b9d-5962-416a-d7e2-d28cc8f43906"
      },
      "execution_count": 21,
      "outputs": [
        {
          "output_type": "stream",
          "name": "stdout",
          "text": [
            "가\n",
            "1\n"
          ]
        }
      ]
    },
    {
      "cell_type": "markdown",
      "source": [
        "### ORD 함수\n",
        "문자를 유니코드로 변환하는 데 사용함."
      ],
      "metadata": {
        "id": "No0Z2Hu1Zgq2"
      }
    }
  ]
}