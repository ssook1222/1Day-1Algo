{
  "nbformat": 4,
  "nbformat_minor": 0,
  "metadata": {
    "colab": {
      "provenance": [],
      "authorship_tag": "ABX9TyPmVJDANfN6FpQTlBTtPw/v",
      "include_colab_link": true
    },
    "kernelspec": {
      "name": "python3",
      "display_name": "Python 3"
    },
    "language_info": {
      "name": "python"
    }
  },
  "cells": [
    {
      "cell_type": "markdown",
      "metadata": {
        "id": "view-in-github",
        "colab_type": "text"
      },
      "source": [
        "<a href=\"https://colab.research.google.com/github/ssook1222/1Day-1Algo/blob/master/ssook/4%EC%9B%94/4%EC%9B%94%201%EC%A3%BC%EC%B0%A8/0407.ipynb\" target=\"_parent\"><img src=\"https://colab.research.google.com/assets/colab-badge.svg\" alt=\"Open In Colab\"/></a>"
      ]
    },
    {
      "cell_type": "markdown",
      "source": [
        "### 10822"
      ],
      "metadata": {
        "id": "_g-PBJAT51V1"
      }
    },
    {
      "cell_type": "code",
      "execution_count": 1,
      "metadata": {
        "colab": {
          "base_uri": "https://localhost:8080/"
        },
        "id": "BjgzjzhZ50cH",
        "outputId": "485103aa-e8ed-4e93-a8d0-d81b547fa33a"
      },
      "outputs": [
        {
          "output_type": "stream",
          "name": "stdout",
          "text": [
            "10,20,30,50,100\n",
            "210\n"
          ]
        }
      ],
      "source": [
        "s = map(int, input().split(\",\"))\n",
        "\n",
        "print(sum(s))"
      ]
    },
    {
      "cell_type": "markdown",
      "source": [
        "### 1789"
      ],
      "metadata": {
        "id": "YJWOsRwH6pVf"
      }
    },
    {
      "cell_type": "code",
      "source": [
        "s = int(input())\n",
        "n = 1\n",
        "\n",
        "while (n*(n+1))/2 <= s :\n",
        "  n = n + 1\n",
        "\n",
        "print(n-1)"
      ],
      "metadata": {
        "colab": {
          "base_uri": "https://localhost:8080/"
        },
        "id": "XMcajx746pjc",
        "outputId": "08a9b03d-7cf5-4d85-e6b0-77b911cf36f1"
      },
      "execution_count": 6,
      "outputs": [
        {
          "output_type": "stream",
          "name": "stdout",
          "text": [
            "100\n",
            "13\n"
          ]
        }
      ]
    },
    {
      "cell_type": "markdown",
      "source": [
        "## 5598"
      ],
      "metadata": {
        "id": "0bS4f7_Y7wXo"
      }
    },
    {
      "cell_type": "code",
      "source": [
        "word = input()\n",
        "\n",
        "for i in word:\n",
        "  if ord(i) < 68: ### d 이전 것\n",
        "    print(chr(ord(i)+23), end=\"\")\n",
        "  else:\n",
        "    print(chr(ord(i)-3), end=\"\")"
      ],
      "metadata": {
        "colab": {
          "base_uri": "https://localhost:8080/"
        },
        "id": "R59sBlmw7wng",
        "outputId": "c1839190-0ddc-4e7f-d3c7-b66a56227672"
      },
      "execution_count": 7,
      "outputs": [
        {
          "output_type": "stream",
          "name": "stdout",
          "text": [
            "MRL\n",
            "JOI"
          ]
        }
      ]
    }
  ]
}