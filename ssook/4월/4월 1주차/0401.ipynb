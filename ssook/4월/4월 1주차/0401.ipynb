{
  "nbformat": 4,
  "nbformat_minor": 0,
  "metadata": {
    "colab": {
      "provenance": []
    },
    "kernelspec": {
      "name": "python3",
      "display_name": "Python 3"
    },
    "language_info": {
      "name": "python"
    }
  },
  "cells": [
    {
      "cell_type": "markdown",
      "source": [
        "### 5988"
      ],
      "metadata": {
        "id": "fvyj1SMNkIZa"
      }
    },
    {
      "cell_type": "code",
      "execution_count": 1,
      "metadata": {
        "colab": {
          "base_uri": "https://localhost:8080/"
        },
        "id": "OJocUfQmkG4y",
        "outputId": "9b5ac3ec-c704-4b27-e2e1-22eba00e3c09"
      },
      "outputs": [
        {
          "output_type": "stream",
          "name": "stdout",
          "text": [
            "2\n",
            "1024\n",
            "even\n",
            "5931\n",
            "odd\n"
          ]
        }
      ],
      "source": [
        "n = int(input())\n",
        "\n",
        "for i in range(0, n):\n",
        "  tc = int(input())\n",
        "  if tc % 2 == 0:\n",
        "    print(\"even\")\n",
        "  else:\n",
        "    print(\"odd\")"
      ]
    },
    {
      "cell_type": "markdown",
      "source": [
        "### 24266"
      ],
      "metadata": {
        "id": "4buQQjSimiUK"
      }
    },
    {
      "cell_type": "code",
      "source": [
        "n = int(input())\n",
        "print(n*n*n)\n",
        "print(3)"
      ],
      "metadata": {
        "colab": {
          "base_uri": "https://localhost:8080/"
        },
        "id": "-PT7dqh7minM",
        "outputId": "4febcbbb-96b9-4e80-b32f-fb26a3486a32"
      },
      "execution_count": 2,
      "outputs": [
        {
          "output_type": "stream",
          "name": "stdout",
          "text": [
            "7\n",
            "343\n",
            "3\n"
          ]
        }
      ]
    },
    {
      "cell_type": "markdown",
      "source": [
        "### 5622"
      ],
      "metadata": {
        "id": "qJ2BAr0eoHYM"
      }
    },
    {
      "cell_type": "code",
      "source": [
        "dial = ['ABC', 'DEF', 'GHI', 'JKL', 'MNO', 'PQRS', 'TUV', 'WXYZ']\n",
        "n = input()\n",
        "\n",
        "t = 0\n",
        "\n",
        "for i in dial:\n",
        "  for j in i:\n",
        "    for k in n:\n",
        "      if j == k:\n",
        "        t = t + dial.index(i)+3\n",
        "\n",
        "print(t)"
      ],
      "metadata": {
        "colab": {
          "base_uri": "https://localhost:8080/"
        },
        "id": "1YZxMzL_oHoE",
        "outputId": "ecfcd3c9-6827-4364-a500-12fb59287926"
      },
      "execution_count": 6,
      "outputs": [
        {
          "output_type": "stream",
          "name": "stdout",
          "text": [
            "UNUCIC\n",
            "36\n"
          ]
        }
      ]
    }
  ]
}