{
  "nbformat": 4,
  "nbformat_minor": 0,
  "metadata": {
    "colab": {
      "provenance": [],
      "authorship_tag": "ABX9TyMCjdl8e1G1Ws7zFoByHIRS",
      "include_colab_link": true
    },
    "kernelspec": {
      "name": "python3",
      "display_name": "Python 3"
    },
    "language_info": {
      "name": "python"
    }
  },
  "cells": [
    {
      "cell_type": "markdown",
      "metadata": {
        "id": "view-in-github",
        "colab_type": "text"
      },
      "source": [
        "<a href=\"https://colab.research.google.com/github/ssook1222/1Day-1Algo/blob/master/ssook/4%EC%9B%94/4%EC%9B%94%203%EC%A3%BC%EC%B0%A8/0421.ipynb\" target=\"_parent\"><img src=\"https://colab.research.google.com/assets/colab-badge.svg\" alt=\"Open In Colab\"/></a>"
      ]
    },
    {
      "cell_type": "markdown",
      "source": [
        "### 20528"
      ],
      "metadata": {
        "id": "z3UJ7QigFeyO"
      }
    },
    {
      "cell_type": "code",
      "execution_count": null,
      "metadata": {
        "colab": {
          "base_uri": "https://localhost:8080/"
        },
        "id": "APB3dpVnBTXt",
        "outputId": "30caa76f-1f3f-4846-c038-7720694140c2"
      },
      "outputs": [
        {
          "output_type": "stream",
          "name": "stdout",
          "text": [
            "3\n",
            "aba c dd\n",
            "0\n"
          ]
        }
      ],
      "source": [
        "n = int(input())\n",
        "\n",
        "palin = list(map(str, input().split(\" \")))\n",
        "check = True\n",
        "\n",
        "for i in range(1, len(palin)):\n",
        "  if palin[i][0] == palin[i-1][0]:\n",
        "    pass\n",
        "  else:\n",
        "    check = False\n",
        "\n",
        "if check == True:\n",
        "  print(1)\n",
        "else:\n",
        "  print(0)"
      ]
    },
    {
      "cell_type": "markdown",
      "source": [
        "### 2775"
      ],
      "metadata": {
        "id": "U-NJBG_iM7ad"
      }
    },
    {
      "cell_type": "code",
      "source": [
        "t = int(input())\n",
        "\n",
        "for _ in range(t):\n",
        "\n",
        "  k = int(input())\n",
        "  n = int(input())\n",
        "\n",
        "  apt = [i for i in range(1, n+1)]\n",
        "\n",
        "  for i in range(k):\n",
        "    for j in range(1, n):\n",
        "      apt[j] += apt[j-1]\n",
        "\n",
        "  print(apt[-1]) "
      ],
      "metadata": {
        "id": "dnoY5KwXM7qM",
        "colab": {
          "base_uri": "https://localhost:8080/"
        },
        "outputId": "2d469576-3dc7-4c79-89d1-90f0b3081bc4"
      },
      "execution_count": null,
      "outputs": [
        {
          "output_type": "stream",
          "name": "stdout",
          "text": [
            "2\n",
            "1\n",
            "3\n",
            "6\n",
            "2\n",
            "3\n",
            "10\n"
          ]
        }
      ]
    },
    {
      "cell_type": "markdown",
      "source": [
        "### 14912"
      ],
      "metadata": {
        "id": "_1oUfi1FTulq"
      }
    },
    {
      "cell_type": "code",
      "source": [
        "n, d = map(int, input().split(\" \"))\n",
        "\n",
        "cnt = 0\n",
        "num = [i for i in range(1, n+1)]\n",
        "\n",
        "for i in num:\n",
        "  if str(d) in str(i):\n",
        "    cnt += str(i).count(str(d))\n",
        "\n",
        "print(cnt)"
      ],
      "metadata": {
        "colab": {
          "base_uri": "https://localhost:8080/"
        },
        "id": "qXnx0JZgTuyH",
        "outputId": "4d09fd13-dce0-40bd-b22a-c950ebc50050"
      },
      "execution_count": 21,
      "outputs": [
        {
          "output_type": "stream",
          "name": "stdout",
          "text": [
            "11 1\n",
            "4\n"
          ]
        }
      ]
    }
  ]
}