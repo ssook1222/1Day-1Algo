{
  "nbformat": 4,
  "nbformat_minor": 0,
  "metadata": {
    "colab": {
      "provenance": [],
      "authorship_tag": "ABX9TyPSgjXWbzT53Ca6ot3py2hc",
      "include_colab_link": true
    },
    "kernelspec": {
      "name": "python3",
      "display_name": "Python 3"
    },
    "language_info": {
      "name": "python"
    }
  },
  "cells": [
    {
      "cell_type": "markdown",
      "metadata": {
        "id": "view-in-github",
        "colab_type": "text"
      },
      "source": [
        "<a href=\"https://colab.research.google.com/github/ssook1222/1Day-1Algo/blob/master/ssook/4%EC%9B%94/4%EC%9B%94%203%EC%A3%BC%EC%B0%A8/0417.ipynb\" target=\"_parent\"><img src=\"https://colab.research.google.com/assets/colab-badge.svg\" alt=\"Open In Colab\"/></a>"
      ]
    },
    {
      "cell_type": "markdown",
      "source": [
        "### 2292"
      ],
      "metadata": {
        "id": "rHxy5mofdJyV"
      }
    },
    {
      "cell_type": "code",
      "execution_count": null,
      "metadata": {
        "colab": {
          "base_uri": "https://localhost:8080/"
        },
        "id": "6ikfcG_mdIMe",
        "outputId": "4b2c3a1e-1192-4e59-cb1b-8a5cd5cb8f46"
      },
      "outputs": [
        {
          "output_type": "stream",
          "name": "stdout",
          "text": [
            "13\n",
            "3\n"
          ]
        }
      ],
      "source": [
        "n = int(input())\n",
        "\n",
        "zip = 1\n",
        "cnt = 1\n",
        "\n",
        "while n > zip :\n",
        "  zip += 6 * cnt\n",
        "  cnt += 1\n",
        "\n",
        "print(cnt)"
      ]
    },
    {
      "cell_type": "markdown",
      "source": [
        "### 11866"
      ],
      "metadata": {
        "id": "qomqlG2nzDeH"
      }
    },
    {
      "cell_type": "code",
      "source": [
        "from collections import deque\n",
        "\n",
        "n, k = map(int, map(int, input().split(\" \")))\n",
        "\n",
        "person = deque([i for i in range(1, n+1)])\n",
        "\n",
        "print(\"<\", end=\"\")\n",
        "\n",
        "while len(person)!=0 :\n",
        "  for i in range(0, k-1):\n",
        "    person.append(person[0]) #뽑기 전에 가장 앞에 있는 거 뒤에다가 추가\n",
        "    person.popleft() #하나씩 다 뽑으면서 k번째 접근\n",
        "  print(person.popleft(), end=\"\") #k번째 출력 후 제거\n",
        "\n",
        "  if len(person) != 0:\n",
        "    print(', ', end=\"\")\n",
        "\n",
        "print(\">\")"
      ],
      "metadata": {
        "colab": {
          "base_uri": "https://localhost:8080/"
        },
        "id": "VKSLeNMDzDsE",
        "outputId": "e7032543-c303-43e7-d082-3446836b70a7"
      },
      "execution_count": null,
      "outputs": [
        {
          "output_type": "stream",
          "name": "stdout",
          "text": [
            "7 3\n",
            "<3, 6, 2, 7, 5, 1, 4>\n"
          ]
        }
      ]
    },
    {
      "cell_type": "markdown",
      "source": [
        "### 15688"
      ],
      "metadata": {
        "id": "JF_lgC5y2E5D"
      }
    },
    {
      "cell_type": "code",
      "source": [
        "import sys\n",
        "\n",
        "n = int(input())\n",
        "num = []\n",
        "\n",
        "for i in range(0, n):\n",
        "  num.append(int(sys.stdin.readline()))\n",
        "\n",
        "num.sort()\n",
        "\n",
        "for k in num:\n",
        "  print(k)"
      ],
      "metadata": {
        "colab": {
          "base_uri": "https://localhost:8080/"
        },
        "id": "SG3mwBns2FHr",
        "outputId": "0741e1fe-5945-4253-d5f0-faaa71e8ad5a"
      },
      "execution_count": null,
      "outputs": [
        {
          "output_type": "stream",
          "name": "stdout",
          "text": [
            "5\n",
            "5\n",
            "4\n",
            "3\n",
            "2\n",
            "1\n",
            "1\n",
            "2\n",
            "3\n",
            "4\n",
            "5\n"
          ]
        }
      ]
    }
  ]
}