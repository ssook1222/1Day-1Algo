{
  "nbformat": 4,
  "nbformat_minor": 0,
  "metadata": {
    "colab": {
      "provenance": [],
      "authorship_tag": "ABX9TyNrcTq5zVrTTY5uoLoLc/XF",
      "include_colab_link": true
    },
    "kernelspec": {
      "name": "python3",
      "display_name": "Python 3"
    },
    "language_info": {
      "name": "python"
    }
  },
  "cells": [
    {
      "cell_type": "markdown",
      "metadata": {
        "id": "view-in-github",
        "colab_type": "text"
      },
      "source": [
        "<a href=\"https://colab.research.google.com/github/ssook1222/1Day-1Algo/blob/master/ssook/4%EC%9B%94/4%EC%9B%94%203%EC%A3%BC%EC%B0%A8/0418.ipynb\" target=\"_parent\"><img src=\"https://colab.research.google.com/assets/colab-badge.svg\" alt=\"Open In Colab\"/></a>"
      ]
    },
    {
      "cell_type": "markdown",
      "source": [
        "### 5585"
      ],
      "metadata": {
        "id": "be7bR-oEonmW"
      }
    },
    {
      "cell_type": "code",
      "execution_count": 11,
      "metadata": {
        "id": "bReoFukIXwaR",
        "colab": {
          "base_uri": "https://localhost:8080/"
        },
        "outputId": "509e062c-d1bc-4da7-b037-dfa406912d6d"
      },
      "outputs": [
        {
          "output_type": "stream",
          "name": "stdout",
          "text": [
            "1\n",
            "15\n"
          ]
        }
      ],
      "source": [
        "n = int(input())\n",
        "\n",
        "cnt = 0\n",
        "\n",
        "jan = 1000 - n\n",
        "\n",
        "while jan != 0 :\n",
        "\n",
        "  if jan >= 500:\n",
        "    cnt += jan // 500\n",
        "    jan = jan % 500\n",
        "  \n",
        "  if jan >= 100 and jan < 500:\n",
        "    cnt += jan // 100\n",
        "    jan = jan % 100\n",
        "  \n",
        "  if jan >= 50 and jan < 100:\n",
        "    cnt += jan // 50\n",
        "    jan = jan % 50\n",
        "  \n",
        "  if jan >= 10 and jan < 50:\n",
        "    cnt += jan // 10\n",
        "    jan = jan % 10\n",
        "  \n",
        "  if jan >= 5 and jan < 10:\n",
        "    cnt += jan // 5\n",
        "    jan = jan % 5\n",
        "\n",
        "  if jan >= 1 and jan < 5:\n",
        "    cnt += jan // 1\n",
        "    jan = jan % 1\n",
        "\n",
        "print(cnt)"
      ]
    },
    {
      "cell_type": "markdown",
      "source": [
        "### 2161"
      ],
      "metadata": {
        "id": "ON0AYNF7t2n1"
      }
    },
    {
      "cell_type": "code",
      "source": [
        "from collections import deque\n",
        "n = int(input())\n",
        "\n",
        "card = deque([i for i in range(1, n+1)])\n",
        "\n",
        "while len(card)!=1:\n",
        "  print(card.popleft(),end=\" \")\n",
        "  \n",
        "  card.append(card[0])\n",
        "  card.popleft()\n",
        "  \n",
        "print(card[0])"
      ],
      "metadata": {
        "colab": {
          "base_uri": "https://localhost:8080/"
        },
        "id": "42aqX0iRt20-",
        "outputId": "1e792a92-886f-493a-c070-5911bea034d0"
      },
      "execution_count": 26,
      "outputs": [
        {
          "output_type": "stream",
          "name": "stdout",
          "text": [
            "4\n",
            "1 3 2 4\n"
          ]
        }
      ]
    },
    {
      "cell_type": "markdown",
      "source": [
        "### 9935"
      ],
      "metadata": {
        "id": "Hg5AMu1D2Y_R"
      }
    },
    {
      "cell_type": "code",
      "source": [
        "ori = input()\n",
        "bomb = list(input())\n",
        "\n",
        "stack = []\n",
        "\n",
        "for c in ori:\n",
        "  stack.append(c)\n",
        "  if stack[-len(bomb):] == bomb : #폭발 문자열과 문자열이 같을 때\n",
        "    del(stack[-len(bomb):]) #스택에서 제거\n",
        "\n",
        "if len(stack)!=0: # 문자열이 남아있을 때\n",
        "  for k in stack:\n",
        "    print(k, end=\"\") #다 출력\n",
        "\n",
        "else:\n",
        "  print(\"FRULA\") #없을 경우우"
      ],
      "metadata": {
        "colab": {
          "base_uri": "https://localhost:8080/"
        },
        "id": "gK8wB68N2ZMq",
        "outputId": "76ebb354-9bf9-4118-f23b-6a59a6d927fc"
      },
      "execution_count": 41,
      "outputs": [
        {
          "output_type": "stream",
          "name": "stdout",
          "text": [
            "mirkovC4nizCC44\n",
            "C4\n",
            "mirkovniz"
          ]
        }
      ]
    }
  ]
}