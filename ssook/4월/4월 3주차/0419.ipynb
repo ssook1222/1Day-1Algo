{
  "nbformat": 4,
  "nbformat_minor": 0,
  "metadata": {
    "colab": {
      "provenance": [],
      "authorship_tag": "ABX9TyM0BcF7vM5WChZE9w6uNymw",
      "include_colab_link": true
    },
    "kernelspec": {
      "name": "python3",
      "display_name": "Python 3"
    },
    "language_info": {
      "name": "python"
    }
  },
  "cells": [
    {
      "cell_type": "markdown",
      "metadata": {
        "id": "view-in-github",
        "colab_type": "text"
      },
      "source": [
        "<a href=\"https://colab.research.google.com/github/ssook1222/1Day-1Algo/blob/master/ssook/4%EC%9B%94/4%EC%9B%94%203%EC%A3%BC%EC%B0%A8/0419.ipynb\" target=\"_parent\"><img src=\"https://colab.research.google.com/assets/colab-badge.svg\" alt=\"Open In Colab\"/></a>"
      ]
    },
    {
      "cell_type": "markdown",
      "source": [
        "### 11816"
      ],
      "metadata": {
        "id": "DQRww37IJfjW"
      }
    },
    {
      "cell_type": "code",
      "execution_count": 9,
      "metadata": {
        "colab": {
          "base_uri": "https://localhost:8080/"
        },
        "id": "rBcLPDfoJYXX",
        "outputId": "1b796599-490a-449d-aa31-5999f5f8801e"
      },
      "outputs": [
        {
          "output_type": "stream",
          "name": "stdout",
          "text": [
            "0x10\n",
            "16\n"
          ]
        }
      ],
      "source": [
        "x = input()\n",
        "\n",
        "if x[0] == '0': \n",
        "  if x[1] == 'x':\n",
        "    print(int(x,16))\n",
        "  else:\n",
        "    print(int(x,8))\n",
        "\n",
        "else:\n",
        "  print(int(x))"
      ]
    }
  ]
}