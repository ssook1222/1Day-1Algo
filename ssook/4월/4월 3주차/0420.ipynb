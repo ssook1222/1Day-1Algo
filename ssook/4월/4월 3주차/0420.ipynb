{
  "nbformat": 4,
  "nbformat_minor": 0,
  "metadata": {
    "colab": {
      "provenance": [],
      "authorship_tag": "ABX9TyNNLEc/D563X1fk3O415HYC",
      "include_colab_link": true
    },
    "kernelspec": {
      "name": "python3",
      "display_name": "Python 3"
    },
    "language_info": {
      "name": "python"
    }
  },
  "cells": [
    {
      "cell_type": "markdown",
      "metadata": {
        "id": "view-in-github",
        "colab_type": "text"
      },
      "source": [
        "<a href=\"https://colab.research.google.com/github/ssook1222/1Day-1Algo/blob/master/ssook/4%EC%9B%94/4%EC%9B%94%203%EC%A3%BC%EC%B0%A8/0420.ipynb\" target=\"_parent\"><img src=\"https://colab.research.google.com/assets/colab-badge.svg\" alt=\"Open In Colab\"/></a>"
      ]
    },
    {
      "cell_type": "markdown",
      "source": [
        "### 14491"
      ],
      "metadata": {
        "id": "KS19CxHQH-h3"
      }
    },
    {
      "cell_type": "code",
      "execution_count": null,
      "metadata": {
        "id": "EkDeUGqdHsa6",
        "colab": {
          "base_uri": "https://localhost:8080/"
        },
        "outputId": "e5c94ab8-d891-4dee-9332-2cf88b30a9b1"
      },
      "outputs": [
        {
          "output_type": "stream",
          "name": "stdout",
          "text": [
            "100\n",
            "121\n"
          ]
        }
      ],
      "source": [
        "def answer(r, n):\n",
        "  if n == 0:\n",
        "    return r\n",
        "\n",
        "  if n % 9:\n",
        "    return answer(str(n%9)+r, n//9) \n",
        "\n",
        "  else:\n",
        "    return answer(\"0\"+r, n//9)   \n",
        "\n",
        "t = int(input())\n",
        "print(answer(\"\",t))"
      ]
    },
    {
      "cell_type": "markdown",
      "source": [
        "### 2108"
      ],
      "metadata": {
        "id": "lqMnPF_FA7I_"
      }
    },
    {
      "cell_type": "code",
      "source": [
        "import sys\n",
        "from collections import Counter\n",
        "\n",
        "n = int(sys.stdin.readline())\n",
        "num = []\n",
        "\n",
        "for i in range(n):\n",
        "  num.append(int(sys.stdin.readline()))\n",
        "\n",
        "num.sort()\n",
        "num_sum = sum(num) \n",
        "\n",
        "print( round(num_sum/len(num)) )\n",
        "print( num[len(num)//2] )\n",
        "\n",
        "mode = Counter(num).most_common(2)\n",
        "\n",
        "if len(num) > 1:\n",
        "  if mode[0][1] == mode[1][1]: # 최빈값이 2개 이상일 때\n",
        "    print(mode[1][0]) # 두 번째로 작은 값 출력\n",
        "  else:\n",
        "    print(mode[0][0])\n",
        "else:\n",
        "  print(mode[0][0])\n",
        "\n",
        "print( max(num)-min(num) )"
      ],
      "metadata": {
        "id": "Jc7y1ISWA7X3"
      },
      "execution_count": null,
      "outputs": []
    },
    {
      "cell_type": "markdown",
      "source": [
        "## 2566"
      ],
      "metadata": {
        "id": "O5esCLSHE9XJ"
      }
    },
    {
      "cell_type": "code",
      "source": [
        "num_list=[]\n",
        "\n",
        "for i in range(0,9):\n",
        "  num_list.append(list(map(int, input().split(\" \"))))\n",
        "\n",
        "max = 0\n",
        "x = -1\n",
        "y = -1\n",
        "\n",
        "for i in range(0, 9):\n",
        "  for j in range(0, 9):\n",
        "    if max <= num_list[i][j]:\n",
        "      max = num_list[i][j]\n",
        "      x = i + 1\n",
        "      y = j + 1\n",
        "\n",
        "print(max)\n",
        "print(\"%d %d\" %(x, y))"
      ],
      "metadata": {
        "colab": {
          "base_uri": "https://localhost:8080/"
        },
        "id": "PyYDhgoPE9rG",
        "outputId": "bceefd32-a456-4591-e7ab-370574714165"
      },
      "execution_count": 7,
      "outputs": [
        {
          "output_type": "stream",
          "name": "stdout",
          "text": [
            "3 23 85 34 17 74 25 52 65\n",
            "10 7 39 42 88 52 14 72 63\n",
            "87 42 18 78 53 45 18 84 53\n",
            "34 28 64 85 12 16 75 36 55\n",
            "21 77 45 35 28 75 90 76 1\n",
            "25 87 65 15 28 11 37 28 74\n",
            "65 27 75 41 7 89 78 64 39\n",
            "47 47 70 45 23 65 3 41 44\n",
            "87 13 82 38 31 12 29 29 80\n",
            "90\n",
            "4 6\n"
          ]
        }
      ]
    },
    {
      "cell_type": "markdown",
      "source": [
        "### 27959"
      ],
      "metadata": {
        "id": "H7SVCb5kH2A4"
      }
    },
    {
      "cell_type": "code",
      "source": [
        "n, m = map(int, input().split(\" \"))\n",
        "if 100*n >= m:\n",
        "  print(\"Yes\")\n",
        "else:\n",
        "  print(\"No\")"
      ],
      "metadata": {
        "colab": {
          "base_uri": "https://localhost:8080/"
        },
        "id": "BKwqAqNEH2Ut",
        "outputId": "a348eb0f-8aab-483e-cffe-78f1d8198aa6"
      },
      "execution_count": 8,
      "outputs": [
        {
          "output_type": "stream",
          "name": "stdout",
          "text": [
            "30 300\n",
            "Yes\n"
          ]
        }
      ]
    },
    {
      "cell_type": "markdown",
      "source": [
        "---\n",
        "\n",
        "10798번 다시 풀기!!!"
      ],
      "metadata": {
        "id": "7-r57inmOCL4"
      }
    }
  ]
}