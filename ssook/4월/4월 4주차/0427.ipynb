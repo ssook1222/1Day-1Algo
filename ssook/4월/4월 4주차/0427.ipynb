{
  "nbformat": 4,
  "nbformat_minor": 0,
  "metadata": {
    "colab": {
      "provenance": [],
      "authorship_tag": "ABX9TyNwQNp26/2v+xsqAmGOIX3U"
    },
    "kernelspec": {
      "name": "python3",
      "display_name": "Python 3"
    },
    "language_info": {
      "name": "python"
    }
  },
  "cells": [
    {
      "cell_type": "markdown",
      "source": [
        "### 24416"
      ],
      "metadata": {
        "id": "mic8oQRJ_Esi"
      }
    },
    {
      "cell_type": "code",
      "execution_count": 1,
      "metadata": {
        "colab": {
          "base_uri": "https://localhost:8080/"
        },
        "id": "PLQtMqxZ-_iZ",
        "outputId": "6d29abfd-7ee1-4978-804d-f7c50f6dab5b"
      },
      "outputs": [
        {
          "output_type": "stream",
          "name": "stdout",
          "text": [
            "5\n",
            "5 3\n"
          ]
        }
      ],
      "source": [
        "n = int(input())\n",
        "\n",
        "num = [0] * 50\n",
        "num[1] = num[2] = 1\n",
        "\n",
        "def fibo(n):\n",
        "  for i in range(3, n+1):\n",
        "    num[i] = num[i-1] + num[i-2]\n",
        "  return num[n]\n",
        "\n",
        "print(\"%d %d\" %(fibo(n),n-2))"
      ]
    },
    {
      "cell_type": "markdown",
      "source": [
        "### 2167"
      ],
      "metadata": {
        "id": "ZD-vz80xDpTx"
      }
    },
    {
      "cell_type": "code",
      "source": [
        "import sys\n",
        "n, m = map(int, sys.stdin.readline().split(\" \"))\n",
        "\n",
        "num = []\n",
        "\n",
        "for _ in range(n):\n",
        "  num.append(list(map(int, sys.stdin.readline().split(\" \"))))\n",
        "\n",
        "k = int(sys.stdin.readline())\n",
        "\n",
        "for _ in range(k):\n",
        "  hap = 0\n",
        "  i,j,x,y = list(map(int, sys.stdin.readline().split(\" \")))\n",
        "  \n",
        "  for a in range(i-1,x):\n",
        "    for b in range(j-1 ,y):\n",
        "      hap += num[a][b]\n",
        "  \n",
        "  print(hap)"
      ],
      "metadata": {
        "colab": {
          "base_uri": "https://localhost:8080/"
        },
        "id": "k77BLQ05Dpgx",
        "outputId": "8bab67b5-c2a2-4b64-92df-fe9b0b266c83"
      },
      "execution_count": 5,
      "outputs": [
        {
          "output_type": "stream",
          "name": "stdout",
          "text": [
            "2 3\n",
            "1 2 4\n",
            "8 16 32\n",
            "3\n",
            "1 1 2 3\n",
            "63\n",
            "1 2 1 2\n",
            "2\n",
            "1 3 2 3\n",
            "36\n"
          ]
        }
      ]
    },
    {
      "cell_type": "markdown",
      "source": [
        "### 15649"
      ],
      "metadata": {
        "id": "xS4y2dLUGOb0"
      }
    },
    {
      "cell_type": "code",
      "source": [
        "from itertools import permutations\n",
        "\n",
        "n, m = map(int, input().split(\" \"))\n",
        "nums = [i for i in range(1, n+1)]\n",
        "\n",
        "p = list(permutations(nums, m))\n",
        "\n",
        "for i in p:\n",
        "  print(*i)"
      ],
      "metadata": {
        "colab": {
          "base_uri": "https://localhost:8080/"
        },
        "id": "zOIbaHV6GOn2",
        "outputId": "74e4f055-12ea-4a8f-ceae-9cfcf1ed89eb"
      },
      "execution_count": 11,
      "outputs": [
        {
          "output_type": "stream",
          "name": "stdout",
          "text": [
            "4 2\n",
            "1 2\n",
            "1 3\n",
            "1 4\n",
            "2 1\n",
            "2 3\n",
            "2 4\n",
            "3 1\n",
            "3 2\n",
            "3 4\n",
            "4 1\n",
            "4 2\n",
            "4 3\n"
          ]
        }
      ]
    },
    {
      "cell_type": "markdown",
      "source": [
        "### 15650"
      ],
      "metadata": {
        "id": "Ja12m_OWIuZX"
      }
    },
    {
      "cell_type": "code",
      "source": [
        "import sys\n",
        "from itertools import combinations\n",
        "\n",
        "n, m = map(int, sys.stdin.readline().split(\" \"))\n",
        "nums = [i for i in range(1, n+1)]\n",
        "\n",
        "p = list(combinations(nums, m))\n",
        "\n",
        "for i in p:\n",
        "  print(*i)"
      ],
      "metadata": {
        "id": "2_FcUtd_Ivks"
      },
      "execution_count": null,
      "outputs": []
    },
    {
      "cell_type": "markdown",
      "source": [
        "### 2947"
      ],
      "metadata": {
        "id": "N79Uz7dfT-fK"
      }
    },
    {
      "cell_type": "code",
      "source": [
        "num = list(map(int, input().split(\" \")))\n",
        "\n",
        "while True:\n",
        "  for i in range(len(num)-1):\n",
        "    if num[i] > num[i+1]:\n",
        "      tmp = 0\n",
        "      tmp = num[i]\n",
        "      num[i] = num[i+1] \n",
        "      num[i+1] = tmp\n",
        "      print(*num, sep=' ')\n",
        "  \n",
        "  if num == [1,2,3,4,5]:\n",
        "    break"
      ],
      "metadata": {
        "colab": {
          "base_uri": "https://localhost:8080/"
        },
        "id": "YvAh2jbwT-ro",
        "outputId": "06860ed4-2c3e-4872-d103-60037c134b32"
      },
      "execution_count": 30,
      "outputs": [
        {
          "output_type": "stream",
          "name": "stdout",
          "text": [
            "2 3 4 5 1\n",
            "2 3 4 1 5\n",
            "2 3 1 4 5\n",
            "2 1 3 4 5\n",
            "1 2 3 4 5\n"
          ]
        }
      ]
    }
  ]
}