{
  "nbformat": 4,
  "nbformat_minor": 0,
  "metadata": {
    "colab": {
      "provenance": [],
      "authorship_tag": "ABX9TyN/l63UtEaWpuWHRndQu33M",
      "include_colab_link": true
    },
    "kernelspec": {
      "name": "python3",
      "display_name": "Python 3"
    },
    "language_info": {
      "name": "python"
    }
  },
  "cells": [
    {
      "cell_type": "markdown",
      "metadata": {
        "id": "view-in-github",
        "colab_type": "text"
      },
      "source": [
        "<a href=\"https://colab.research.google.com/github/ssook1222/1Day-1Algo/blob/master/ssook/4%EC%9B%94/4%EC%9B%94%204%EC%A3%BC%EC%B0%A8/0425.ipynb\" target=\"_parent\"><img src=\"https://colab.research.google.com/assets/colab-badge.svg\" alt=\"Open In Colab\"/></a>"
      ]
    },
    {
      "cell_type": "markdown",
      "source": [
        "### 1620"
      ],
      "metadata": {
        "id": "pbuPGL6i-dCp"
      }
    },
    {
      "cell_type": "code",
      "execution_count": null,
      "metadata": {
        "id": "5QJ0M-m1yy68"
      },
      "outputs": [],
      "source": [
        "import sys\n",
        "\n",
        "n, m = map(int, sys.stdin.readline().rstrip().split(\" \"))\n",
        "\n",
        "a = {}\n",
        "b = {}\n",
        "\n",
        "for i in range(n):\n",
        "  val = sys.stdin.readline().rstrip()\n",
        "  \n",
        "  a[i] = val\n",
        "  b[val] = i\n",
        "\n",
        "for _ in range(m):\n",
        "  question = sys.stdin.readline().strip()\n",
        "\n",
        "  if question.isdigit() == True:\n",
        "    print(a[int(question)-1])\n",
        "  \n",
        "  else:\n",
        "    print(b[question]+1)"
      ]
    },
    {
      "cell_type": "markdown",
      "source": [
        "### 1003"
      ],
      "metadata": {
        "id": "4Eriiqpo-gH0"
      }
    },
    {
      "cell_type": "markdown",
      "source": [
        "DP 문제, 다시 한 번 풀어보기!"
      ],
      "metadata": {
        "id": "V4ibF16LJSIn"
      }
    },
    {
      "cell_type": "code",
      "source": [
        "import sys\n",
        "\n",
        "zero = [1, 0, 1]\n",
        "one = [0, 1, 1]\n",
        "\n",
        "def fibo(n):\n",
        "  length = len(zero)\n",
        "\n",
        "  if n >= length:\n",
        "    for i in range(length, n+1):\n",
        "      zero.append(zero[i-1]+zero[i-2])\n",
        "      one.append(one[i-1]+one[i-2])\n",
        "  \n",
        "  print(\"%d %d\" %(zero[n],one[n]))\n",
        "\n",
        "t = int(sys.stdin.readline().rstrip())\n",
        "\n",
        "for i in range(t):\n",
        "  n = int(sys.stdin.readline().rstrip())\n",
        "  fibo(n)"
      ],
      "metadata": {
        "id": "pbuUGhAT-gSl"
      },
      "execution_count": null,
      "outputs": []
    },
    {
      "cell_type": "markdown",
      "source": [
        "### 15829"
      ],
      "metadata": {
        "id": "JHmmQ6JrJpJf"
      }
    },
    {
      "cell_type": "code",
      "source": [
        "import sys\n",
        "\n",
        "l = int(sys.stdin.readline().rstrip())\n",
        "\n",
        "data = sys.stdin.readline().rstrip()\n",
        "hap = 0\n",
        "\n",
        "for i in range(len(data)):\n",
        "  num = ord(data[i])-96\n",
        "  hap += num * (31 ** i) \n",
        "\n",
        "print(hap % 1234567891)"
      ],
      "metadata": {
        "colab": {
          "base_uri": "https://localhost:8080/"
        },
        "id": "PLvbBK6_JpYZ",
        "outputId": "56e47a91-6f18-46d9-eb56-f37f41965984"
      },
      "execution_count": 8,
      "outputs": [
        {
          "output_type": "stream",
          "name": "stdout",
          "text": [
            "5\n",
            "abcde\n",
            "4739715\n"
          ]
        }
      ]
    }
  ]
}