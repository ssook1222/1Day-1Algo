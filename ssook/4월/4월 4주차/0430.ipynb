{
  "nbformat": 4,
  "nbformat_minor": 0,
  "metadata": {
    "colab": {
      "provenance": [],
      "authorship_tag": "ABX9TyMHpf5e4QBLC/mUfoWeLLeN",
      "include_colab_link": true
    },
    "kernelspec": {
      "name": "python3",
      "display_name": "Python 3"
    },
    "language_info": {
      "name": "python"
    }
  },
  "cells": [
    {
      "cell_type": "markdown",
      "metadata": {
        "id": "view-in-github",
        "colab_type": "text"
      },
      "source": [
        "<a href=\"https://colab.research.google.com/github/ssook1222/1Day-1Algo/blob/master/ssook/4%EC%9B%94/4%EC%9B%94%204%EC%A3%BC%EC%B0%A8/0430.ipynb\" target=\"_parent\"><img src=\"https://colab.research.google.com/assets/colab-badge.svg\" alt=\"Open In Colab\"/></a>"
      ]
    },
    {
      "cell_type": "markdown",
      "source": [
        "### 2839"
      ],
      "metadata": {
        "id": "UvpEdv15TPep"
      }
    },
    {
      "cell_type": "code",
      "source": [
        "n = int(input())\n",
        "cnt = 0\n",
        "check = False\n",
        "\n",
        "while n >= 0:\n",
        "  if n % 5 == 0:\n",
        "    cnt += n // 5\n",
        "    check = True\n",
        "    print(cnt)\n",
        "    break\n",
        "  n -= 3\n",
        "  cnt += 1\n",
        "  \n",
        "if check != True:\n",
        "  print(-1)"
      ],
      "metadata": {
        "colab": {
          "base_uri": "https://localhost:8080/"
        },
        "id": "SYyZyDxCU8iF",
        "outputId": "5a373f07-abcb-4114-ccd2-2036beb20377"
      },
      "execution_count": null,
      "outputs": [
        {
          "output_type": "stream",
          "name": "stdout",
          "text": [
            "11\n",
            "3\n"
          ]
        }
      ]
    },
    {
      "cell_type": "markdown",
      "source": [
        "### 2018"
      ],
      "metadata": {
        "id": "LECTeNk-Wpaw"
      }
    },
    {
      "cell_type": "code",
      "source": [
        "n = int(input())\n",
        "cnt = 1\n",
        "hap = 0\n",
        "start = 0\n",
        "end = 0\n",
        "\n",
        "while end < n:\n",
        "  if hap > n :\n",
        "    hap -= start\n",
        "    start += 1\n",
        "  \n",
        "  elif hap < n:\n",
        "    end += 1\n",
        "    hap += end\n",
        "  \n",
        "  elif hap == n :\n",
        "    cnt += 1\n",
        "    end += 1\n",
        "    hap += end\n",
        "\n",
        "print(cnt)"
      ],
      "metadata": {
        "colab": {
          "base_uri": "https://localhost:8080/"
        },
        "id": "-2Ca2NStdaoj",
        "outputId": "6d91c805-e32a-4fb7-9a33-9ea10a58e3fd"
      },
      "execution_count": null,
      "outputs": [
        {
          "output_type": "stream",
          "name": "stdout",
          "text": [
            "15\n",
            "4\n"
          ]
        }
      ]
    },
    {
      "cell_type": "markdown",
      "source": [
        "### 2003"
      ],
      "metadata": {
        "id": "Q1JBBFewf3VC"
      }
    },
    {
      "cell_type": "code",
      "source": [
        "n, m = map(int, input().split(\" \"))\n",
        "\n",
        "a = list(map(int, input().split(\" \")))\n",
        "\n",
        "start, end = 0, 1\n",
        "cnt = 0\n",
        "\n",
        "while end <= n and start <= end:\n",
        "  hap = sum(a[start:end])\n",
        "\n",
        "  if hap == m :\n",
        "    cnt += 1\n",
        "    end += 1\n",
        "  \n",
        "  elif hap > m :\n",
        "    start += 1\n",
        "  \n",
        "  elif hap < m:\n",
        "    end += 1\n",
        "\n",
        "print(cnt)"
      ],
      "metadata": {
        "id": "IpjXOt8Hf3kY",
        "colab": {
          "base_uri": "https://localhost:8080/"
        },
        "outputId": "91980d26-bef4-4e40-9404-f3483680edbf"
      },
      "execution_count": 44,
      "outputs": [
        {
          "output_type": "stream",
          "name": "stdout",
          "text": [
            "10 5\n",
            "1 2 3 4 2 5 3 1 1 2\n",
            "3\n"
          ]
        }
      ]
    }
  ]
}