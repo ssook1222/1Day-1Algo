{
  "nbformat": 4,
  "nbformat_minor": 0,
  "metadata": {
    "colab": {
      "provenance": [],
      "authorship_tag": "ABX9TyNaO8y/QScOxzI2kCaRQt8H",
      "include_colab_link": true
    },
    "kernelspec": {
      "name": "python3",
      "display_name": "Python 3"
    },
    "language_info": {
      "name": "python"
    }
  },
  "cells": [
    {
      "cell_type": "markdown",
      "metadata": {
        "id": "view-in-github",
        "colab_type": "text"
      },
      "source": [
        "<a href=\"https://colab.research.google.com/github/ssook1222/1Day-1Algo/blob/master/ssook/4%EC%9B%94/4%EC%9B%94%204%EC%A3%BC%EC%B0%A8/0429.ipynb\" target=\"_parent\"><img src=\"https://colab.research.google.com/assets/colab-badge.svg\" alt=\"Open In Colab\"/></a>"
      ]
    },
    {
      "cell_type": "markdown",
      "source": [
        "### 1373"
      ],
      "metadata": {
        "id": "IExQ7Ol3UzQ4"
      }
    },
    {
      "cell_type": "code",
      "execution_count": 10,
      "metadata": {
        "colab": {
          "base_uri": "https://localhost:8080/"
        },
        "id": "4ENzO7mvUaNM",
        "outputId": "aef1ce8c-39fd-4030-c218-39ec9b7c08d2"
      },
      "outputs": [
        {
          "output_type": "stream",
          "name": "stdout",
          "text": [
            "11001100\n",
            "314\n"
          ]
        }
      ],
      "source": [
        "n = int(input(),2)\n",
        "n = oct(n)[2:]\n",
        "\n",
        "print(n)"
      ]
    },
    {
      "cell_type": "markdown",
      "source": [
        "### 2745"
      ],
      "metadata": {
        "id": "C2HUxvjJVoVq"
      }
    },
    {
      "cell_type": "code",
      "source": [
        "n, b = map(str, input().split(\" \"))\n",
        "n = int(n,int(b))\n",
        "print(n)"
      ],
      "metadata": {
        "colab": {
          "base_uri": "https://localhost:8080/"
        },
        "id": "ORu3_RT5Vok9",
        "outputId": "26921bdc-99fa-453f-f295-f055ef3decfc"
      },
      "execution_count": 13,
      "outputs": [
        {
          "output_type": "stream",
          "name": "stdout",
          "text": [
            "ZZZZZ 36\n",
            "60466175\n"
          ]
        }
      ]
    },
    {
      "cell_type": "markdown",
      "source": [
        "### 2729"
      ],
      "metadata": {
        "id": "mrOvmxOUXfqf"
      }
    },
    {
      "cell_type": "code",
      "source": [
        "t = int(input())\n",
        "\n",
        "for i in range(t):\n",
        "  a, b = input().split(\" \")\n",
        "  a = int(a,2)\n",
        "  b = int(b,2)\n",
        "\n",
        "  print(bin(a+b)[2:])"
      ],
      "metadata": {
        "colab": {
          "base_uri": "https://localhost:8080/"
        },
        "id": "xZ2cgnqkYR_K",
        "outputId": "787e6d75-17b6-4aa4-b5b8-e8eeae09beb2"
      },
      "execution_count": 21,
      "outputs": [
        {
          "output_type": "stream",
          "name": "stdout",
          "text": [
            "1\n",
            "1001101 10010\n",
            "1011111\n"
          ]
        }
      ]
    }
  ]
}