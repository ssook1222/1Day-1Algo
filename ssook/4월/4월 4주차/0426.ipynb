{
  "nbformat": 4,
  "nbformat_minor": 0,
  "metadata": {
    "colab": {
      "provenance": [],
      "authorship_tag": "ABX9TyM1+TpEj/++gJ/Mz5ExBhdd",
      "include_colab_link": true
    },
    "kernelspec": {
      "name": "python3",
      "display_name": "Python 3"
    },
    "language_info": {
      "name": "python"
    }
  },
  "cells": [
    {
      "cell_type": "markdown",
      "metadata": {
        "id": "view-in-github",
        "colab_type": "text"
      },
      "source": [
        "<a href=\"https://colab.research.google.com/github/ssook1222/1Day-1Algo/blob/master/ssook/4%EC%9B%94/4%EC%9B%94%204%EC%A3%BC%EC%B0%A8/0426.ipynb\" target=\"_parent\"><img src=\"https://colab.research.google.com/assets/colab-badge.svg\" alt=\"Open In Colab\"/></a>"
      ]
    },
    {
      "cell_type": "markdown",
      "source": [
        "### 4150"
      ],
      "metadata": {
        "id": "M8EpqGOnR9BZ"
      }
    },
    {
      "cell_type": "markdown",
      "source": [
        "- 파이썬에는 recursion error가 있음.   \n",
        "- 재귀가 너무 깊어지면 오류가 뜨니 유의하자."
      ],
      "metadata": {
        "id": "QgSQeM_xTPs-"
      }
    },
    {
      "cell_type": "code",
      "execution_count": null,
      "metadata": {
        "colab": {
          "base_uri": "https://localhost:8080/"
        },
        "id": "BmF_6RfUR7iB",
        "outputId": "5c0fa854-e8f7-40c7-bcaa-2b7dd6e53315"
      },
      "outputs": [
        {
          "output_type": "stream",
          "name": "stdout",
          "text": [
            "100\n",
            "354224848179261915075\n"
          ]
        }
      ],
      "source": [
        "import sys\n",
        "sys.setrecursionlimit(10**6)\n",
        "\n",
        "num = {}\n",
        "\n",
        "def fibo(n):\n",
        "  if n==1:\n",
        "    return 1\n",
        "  if n==2:\n",
        "    return 1\n",
        "  if n in num:\n",
        "    return num[n]\n",
        "  \n",
        "  num[n] = fibo(n-1)+fibo(n-2)\n",
        "  return num[n]\n",
        "\n",
        "n = int(input())\n",
        "print(fibo(n))"
      ]
    },
    {
      "cell_type": "markdown",
      "source": [
        "### 5800"
      ],
      "metadata": {
        "id": "bBIF_Q0CxtXG"
      }
    },
    {
      "cell_type": "code",
      "source": [
        "import sys\n",
        "\n",
        "k = int(sys.stdin.readline().strip())\n",
        "\n",
        "for i in range(k):\n",
        "  n = list(map(int, sys.stdin.readline().strip().split(\" \")))\n",
        "  ans = n[1:]\n",
        "  sor = ans\n",
        "  sor.sort()\n",
        "  tmp = 0\n",
        "  tmp_list = []\n",
        "  for j in range(len(sor)):\n",
        "    if tmp <= sor[j]-sor[j-1] and j!=0:\n",
        "        tmp = sor[j]-sor[j-1]\n",
        "        tmp_list.append(tmp)\n",
        "    else:\n",
        "        tmp = sor[1]-sor[0]\n",
        "        tmp_list.append(tmp)\n",
        "\n",
        "  print(\"Class %d\" %(i+1))\n",
        "  print(\"Max %d, Min %d, Largest gap %d\" %(max(ans), min(ans), max(tmp_list)))"
      ],
      "metadata": {
        "id": "XzICKPlcxtjR"
      },
      "execution_count": null,
      "outputs": []
    },
    {
      "cell_type": "markdown",
      "source": [
        "### 15964"
      ],
      "metadata": {
        "id": "zySj6Sc865PT"
      }
    },
    {
      "cell_type": "code",
      "source": [
        "def ans(a,b):\n",
        "  return (a+b)*(a-b)\n",
        "\n",
        "a,b = map(int, input().split(\" \"))\n",
        "print(ans(a,b))"
      ],
      "metadata": {
        "colab": {
          "base_uri": "https://localhost:8080/"
        },
        "id": "k0wCCPyU65Yl",
        "outputId": "8412c7fd-4092-468d-ef28-f75ccd1c7c8d"
      },
      "execution_count": 23,
      "outputs": [
        {
          "output_type": "stream",
          "name": "stdout",
          "text": [
            "3 4\n",
            "-7\n"
          ]
        }
      ]
    }
  ]
}