{
  "nbformat": 4,
  "nbformat_minor": 0,
  "metadata": {
    "colab": {
      "provenance": [],
      "authorship_tag": "ABX9TyMOmavdzoqbzLr57EJyjPIC",
      "include_colab_link": true
    },
    "kernelspec": {
      "name": "python3",
      "display_name": "Python 3"
    },
    "language_info": {
      "name": "python"
    }
  },
  "cells": [
    {
      "cell_type": "markdown",
      "metadata": {
        "id": "view-in-github",
        "colab_type": "text"
      },
      "source": [
        "<a href=\"https://colab.research.google.com/github/ssook1222/1Day-1Algo/blob/master/ssook/4%EC%9B%94/4%EC%9B%94%204%EC%A3%BC%EC%B0%A8/0428.ipynb\" target=\"_parent\"><img src=\"https://colab.research.google.com/assets/colab-badge.svg\" alt=\"Open In Colab\"/></a>"
      ]
    },
    {
      "cell_type": "markdown",
      "source": [
        "### 11179"
      ],
      "metadata": {
        "id": "3D_Nq4fJ7Pow"
      }
    },
    {
      "cell_type": "code",
      "execution_count": null,
      "metadata": {
        "colab": {
          "base_uri": "https://localhost:8080/"
        },
        "id": "SZBjsZKH57Zb",
        "outputId": "347d77cd-0bd2-4870-887c-fed71b4df4e7"
      },
      "outputs": [
        {
          "output_type": "stream",
          "name": "stdout",
          "text": [
            "13\n",
            "11\n"
          ]
        }
      ],
      "source": [
        "n = int(input())\n",
        "\n",
        "t = bin(n)[2:][::-1]\n",
        "print(int(t, 2))"
      ]
    },
    {
      "cell_type": "markdown",
      "source": [
        "### 4949"
      ],
      "metadata": {
        "id": "KI2Pjcj57twt"
      }
    },
    {
      "cell_type": "code",
      "source": [
        "while True:\n",
        "  string = input()\n",
        "  stack = []\n",
        "\n",
        "  if string == '.':\n",
        "    break\n",
        "  \n",
        "  for c in string:\n",
        "    if c == '[' or c== '(':\n",
        "      stack.append(c)\n",
        "    elif c == ']' :\n",
        "      if len(stack)!= 0 and stack[-1]=='[':\n",
        "        stack.pop()\n",
        "      else:\n",
        "        stack.append(c)\n",
        "    elif c == ')' :\n",
        "      if len(stack)!= 0 and stack[-1]=='(':\n",
        "        stack.pop()\n",
        "      else:\n",
        "        stack.append(c)\n",
        "  if len(stack)!=0:\n",
        "    print('no')\n",
        "  else:\n",
        "    print('yes')"
      ],
      "metadata": {
        "id": "7LDJpuhO7vEt",
        "colab": {
          "base_uri": "https://localhost:8080/"
        },
        "outputId": "b8c84474-3548-4bbe-b7ed-1916b6ed09df"
      },
      "execution_count": 3,
      "outputs": [
        {
          "name": "stdout",
          "output_type": "stream",
          "text": [
            "A rope may form )( a trail in a maze.\n",
            "no\n",
            "Help( I[m being held prisoner in a fortune cookie factory)].\n",
            "no\n",
            "([ (([( [ ] ) ( ) (( ))] )) ]).\n",
            "yes\n",
            " .\n",
            "yes\n",
            ".\n"
          ]
        }
      ]
    },
    {
      "cell_type": "markdown",
      "source": [
        "###9933"
      ],
      "metadata": {
        "id": "_XeoHEPa8Urg"
      }
    },
    {
      "cell_type": "code",
      "source": [
        "n = int(input())\n",
        "word = []\n",
        "indx = 0\n",
        "\n",
        "for i in range(n):\n",
        "  word.append(input())\n",
        "\n",
        "for j in range(len(word)):\n",
        "  if word[j][::-1] in word:\n",
        "    indx= j\n",
        "\n",
        "length = len(word[indx])\n",
        "ans = word[indx]\n",
        "char = ans[int(len(ans)/2)]\n",
        "\n",
        "print(\"%d %c\" %(length, char))"
      ],
      "metadata": {
        "id": "5Psh0dVc8U-t",
        "colab": {
          "base_uri": "https://localhost:8080/"
        },
        "outputId": "206f8f9b-b68f-4572-9612-b5ba63fc83bd"
      },
      "execution_count": 6,
      "outputs": [
        {
          "output_type": "stream",
          "name": "stdout",
          "text": [
            "4\n",
            "kisik\n",
            "ptq\n",
            "tttrp\n",
            "tulipan\n",
            "5 s\n"
          ]
        }
      ]
    }
  ]
}