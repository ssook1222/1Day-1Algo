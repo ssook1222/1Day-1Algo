{
  "nbformat": 4,
  "nbformat_minor": 0,
  "metadata": {
    "colab": {
      "provenance": [],
      "authorship_tag": "ABX9TyPiSoBB/11vdKsKWEo/Ym80",
      "include_colab_link": true
    },
    "kernelspec": {
      "name": "python3",
      "display_name": "Python 3"
    },
    "language_info": {
      "name": "python"
    }
  },
  "cells": [
    {
      "cell_type": "markdown",
      "metadata": {
        "id": "view-in-github",
        "colab_type": "text"
      },
      "source": [
        "<a href=\"https://colab.research.google.com/github/ssook1222/1Day-1Algo/blob/master/ssook/4%EC%9B%94/4%EC%9B%94%204%EC%A3%BC%EC%B0%A8/0424.ipynb\" target=\"_parent\"><img src=\"https://colab.research.google.com/assets/colab-badge.svg\" alt=\"Open In Colab\"/></a>"
      ]
    },
    {
      "cell_type": "markdown",
      "source": [
        "### 1032"
      ],
      "metadata": {
        "id": "qAl7irB_df6U"
      }
    },
    {
      "cell_type": "code",
      "execution_count": 10,
      "metadata": {
        "id": "0S3VqPHBdeqL",
        "colab": {
          "base_uri": "https://localhost:8080/"
        },
        "outputId": "811849d8-49dd-4922-8214-027fcf1152d0"
      },
      "outputs": [
        {
          "output_type": "stream",
          "name": "stdout",
          "text": [
            "2\n",
            "context.txt\n",
            "contest.txt\n",
            "conte?t.txt\n"
          ]
        }
      ],
      "source": [
        "n = int(input())\n",
        "files = []\n",
        "\n",
        "for i in range(n):\n",
        "  files.append( input() )\n",
        "\n",
        "res = list(files[0])\n",
        "for i in range(n):\n",
        "  for j in range(len(files[0])):\n",
        "    if res[j] != files[i][j]:\n",
        "      res[j] = '?'\n",
        "\n",
        "print(*res, sep='')"
      ]
    },
    {
      "cell_type": "markdown",
      "source": [
        "### 1436"
      ],
      "metadata": {
        "id": "0lQXKwoHvapR"
      }
    },
    {
      "cell_type": "markdown",
      "source": [
        "n번째로 666이 들어가는 수 찾기기"
      ],
      "metadata": {
        "id": "G5UCzTJpw72Z"
      }
    },
    {
      "cell_type": "code",
      "source": [
        "n = int(input())\n",
        "\n",
        "ori = 666\n",
        "cnt = 0\n",
        "\n",
        "while True:\n",
        "  if '666' in str(ori):\n",
        "    cnt += 1\n",
        "  \n",
        "  if cnt == n:\n",
        "    print(ori)\n",
        "    break\n",
        "  \n",
        "  ori += 1"
      ],
      "metadata": {
        "colab": {
          "base_uri": "https://localhost:8080/"
        },
        "id": "iWDrSyC7vbCB",
        "outputId": "0a541546-bb3c-45f2-f139-eba3c036a884"
      },
      "execution_count": 11,
      "outputs": [
        {
          "output_type": "stream",
          "name": "stdout",
          "text": [
            "2\n",
            "1666\n"
          ]
        }
      ]
    },
    {
      "cell_type": "markdown",
      "source": [
        "### 5555"
      ],
      "metadata": {
        "id": "hCL9lfz4xR2d"
      }
    },
    {
      "cell_type": "code",
      "source": [
        "find = input()\n",
        "n = int(input())\n",
        "\n",
        "cnt = 0 \n",
        "\n",
        "for i in range(n):\n",
        "  raw = input()\n",
        "\n",
        "  if find in raw*2:\n",
        "    cnt += 1\n",
        "\n",
        "print(cnt)"
      ],
      "metadata": {
        "colab": {
          "base_uri": "https://localhost:8080/"
        },
        "id": "lCFcfnv0xSKa",
        "outputId": "7acfe881-16a1-400b-a850-ca2a2aec46ec"
      },
      "execution_count": 20,
      "outputs": [
        {
          "output_type": "stream",
          "name": "stdout",
          "text": [
            "XYZ\n",
            "1\n",
            "ZAAAAAAAXY\n",
            "1\n"
          ]
        }
      ]
    }
  ]
}