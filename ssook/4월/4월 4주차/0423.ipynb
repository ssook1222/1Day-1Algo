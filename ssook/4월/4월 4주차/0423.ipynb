{
  "nbformat": 4,
  "nbformat_minor": 0,
  "metadata": {
    "colab": {
      "provenance": [],
      "authorship_tag": "ABX9TyO3XSyKCkiPE9EZPn7FTs+w",
      "include_colab_link": true
    },
    "kernelspec": {
      "name": "python3",
      "display_name": "Python 3"
    },
    "language_info": {
      "name": "python"
    }
  },
  "cells": [
    {
      "cell_type": "markdown",
      "metadata": {
        "id": "view-in-github",
        "colab_type": "text"
      },
      "source": [
        "<a href=\"https://colab.research.google.com/github/ssook1222/1Day-1Algo/blob/master/ssook/4%EC%9B%94/4%EC%9B%94%204%EC%A3%BC%EC%B0%A8/0423.ipynb\" target=\"_parent\"><img src=\"https://colab.research.google.com/assets/colab-badge.svg\" alt=\"Open In Colab\"/></a>"
      ]
    },
    {
      "cell_type": "markdown",
      "source": [
        "### 2738"
      ],
      "metadata": {
        "id": "o9lfLu5nRvF1"
      }
    },
    {
      "cell_type": "code",
      "execution_count": 2,
      "metadata": {
        "colab": {
          "base_uri": "https://localhost:8080/"
        },
        "id": "MHfB5ZQeRs9L",
        "outputId": "cd06a086-30b8-4f54-b82d-68c461cb4ae8"
      },
      "outputs": [
        {
          "output_type": "stream",
          "name": "stdout",
          "text": [
            "2 2\n",
            "1 2\n",
            "1 1\n",
            "2 3\n",
            "1 1\n",
            "3 5 \n",
            "2 2 \n"
          ]
        }
      ],
      "source": [
        "n, m = map(int, input().split(\" \"))\n",
        "\n",
        "indx1 = []\n",
        "indx2 = []\n",
        "indx3 = []\n",
        "\n",
        "for i in range(n):\n",
        "  indx1.append(list(map(int, input().split(\" \"))))\n",
        "\n",
        "for i in range(n):\n",
        "  indx2.append(list(map(int, input().split(\" \"))))\n",
        "\n",
        "for i in range(n):\n",
        "  for j in range(m):\n",
        "      print(indx1[i][j] + indx2[i][j], end= ' ')\n",
        "  print()"
      ]
    }
  ]
}