{
  "nbformat": 4,
  "nbformat_minor": 0,
  "metadata": {
    "colab": {
      "provenance": [],
      "authorship_tag": "ABX9TyP2GBPLxOaVj7FM4n4s9k7X",
      "include_colab_link": true
    },
    "kernelspec": {
      "name": "python3",
      "display_name": "Python 3"
    },
    "language_info": {
      "name": "python"
    }
  },
  "cells": [
    {
      "cell_type": "markdown",
      "metadata": {
        "id": "view-in-github",
        "colab_type": "text"
      },
      "source": [
        "<a href=\"https://colab.research.google.com/github/ssook1222/1Day-1Algo/blob/master/ssook/6%EC%9B%94/6%EC%9B%94%202%EC%A3%BC%EC%B0%A8/0618.ipynb\" target=\"_parent\"><img src=\"https://colab.research.google.com/assets/colab-badge.svg\" alt=\"Open In Colab\"/></a>"
      ]
    },
    {
      "cell_type": "markdown",
      "source": [
        "## BoJ"
      ],
      "metadata": {
        "id": "9cosp_Knz4yb"
      }
    },
    {
      "cell_type": "markdown",
      "source": [
        "### 15439"
      ],
      "metadata": {
        "id": "BDp6nMJM0Dw2"
      }
    },
    {
      "cell_type": "code",
      "execution_count": 3,
      "metadata": {
        "colab": {
          "base_uri": "https://localhost:8080/"
        },
        "id": "DpG8Y0njz1fJ",
        "outputId": "1b12de5b-7dcb-42ae-8ea3-1d37924b4ed1"
      },
      "outputs": [
        {
          "output_type": "stream",
          "name": "stdout",
          "text": [
            "5\n",
            "20\n"
          ]
        }
      ],
      "source": [
        "n = int(input())\n",
        "print(n *(n-1))"
      ]
    },
    {
      "cell_type": "markdown",
      "source": [
        "### 24883"
      ],
      "metadata": {
        "id": "51bSkBK80wfH"
      }
    },
    {
      "cell_type": "code",
      "source": [
        "ori = input()\n",
        "\n",
        "if ori == 'n' or ori == 'N':\n",
        "  print(\"Naver D2\")\n",
        "\n",
        "else:\n",
        "  print(\"Naver Whale\")"
      ],
      "metadata": {
        "colab": {
          "base_uri": "https://localhost:8080/"
        },
        "id": "K2GfWMoU0wun",
        "outputId": "cf0a860c-efa4-42c4-d1f5-1792dedd585b"
      },
      "execution_count": 4,
      "outputs": [
        {
          "output_type": "stream",
          "name": "stdout",
          "text": [
            "n\n",
            "Naver D2\n"
          ]
        }
      ]
    },
    {
      "cell_type": "markdown",
      "source": [
        "---"
      ],
      "metadata": {
        "id": "5nTfiyPC1QIZ"
      }
    },
    {
      "cell_type": "markdown",
      "source": [
        "## Programmers"
      ],
      "metadata": {
        "id": "goYMu-_g2Uzp"
      }
    },
    {
      "cell_type": "markdown",
      "source": [
        "### 2016년"
      ],
      "metadata": {
        "id": "SMem7kro1Rp-"
      }
    },
    {
      "cell_type": "code",
      "source": [
        "import datetime\n",
        "\n",
        "def solution(a, b):\n",
        "    days = ['MON','TUE','WED','THU','FRI','SAT','SUN']\n",
        "    d = datetime.datetime(2016, a, b)\n",
        "    answer = days[d.weekday()]\n",
        "    return answer"
      ],
      "metadata": {
        "id": "-JmBVe8t1R1E"
      },
      "execution_count": null,
      "outputs": []
    }
  ]
}