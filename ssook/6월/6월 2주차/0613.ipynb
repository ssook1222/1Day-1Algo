{
  "nbformat": 4,
  "nbformat_minor": 0,
  "metadata": {
    "colab": {
      "provenance": [],
      "authorship_tag": "ABX9TyMkzUemlYqXQoQfcNr2B4QX",
      "include_colab_link": true
    },
    "kernelspec": {
      "name": "python3",
      "display_name": "Python 3"
    },
    "language_info": {
      "name": "python"
    }
  },
  "cells": [
    {
      "cell_type": "markdown",
      "metadata": {
        "id": "view-in-github",
        "colab_type": "text"
      },
      "source": [
        "<a href=\"https://colab.research.google.com/github/ssook1222/1Day-1Algo/blob/master/ssook/6%EC%9B%94/6%EC%9B%94%202%EC%A3%BC%EC%B0%A8/0613.ipynb\" target=\"_parent\"><img src=\"https://colab.research.google.com/assets/colab-badge.svg\" alt=\"Open In Colab\"/></a>"
      ]
    },
    {
      "cell_type": "markdown",
      "source": [
        "## BoJ"
      ],
      "metadata": {
        "id": "n8ayZBah9HL6"
      }
    },
    {
      "cell_type": "markdown",
      "source": [
        "### 2644"
      ],
      "metadata": {
        "id": "dLqDImRC9IpJ"
      }
    },
    {
      "cell_type": "code",
      "execution_count": 5,
      "metadata": {
        "colab": {
          "base_uri": "https://localhost:8080/"
        },
        "id": "bX2leu-29C-w",
        "outputId": "04ebe2db-ed6e-40e7-9545-498959ef3ff7"
      },
      "outputs": [
        {
          "output_type": "stream",
          "name": "stdout",
          "text": [
            "9\n",
            "7 3\n",
            "7\n",
            "1 2\n",
            "1 3\n",
            "2 7\n",
            "2 8\n",
            "2 9\n",
            "4 5\n",
            "4 6\n",
            "-1\n"
          ]
        }
      ],
      "source": [
        "import sys\n",
        "sys.setrecursionlimit(10**8)\n",
        "\n",
        "n = int(sys.stdin.readline().strip())\n",
        "start, dest = map(int, sys.stdin.readline().strip().split(\" \"))\n",
        "m = int(input())\n",
        "\n",
        "visited = [False] * (n+1)\n",
        "graph = [[] for _ in range(n+1) ]\n",
        "cnt = -1\n",
        "\n",
        "for i in range(m):\n",
        "  x, y = map(int, sys.stdin.readline().strip().split(\" \"))\n",
        "  graph[x].append(y)\n",
        "  graph[y].append(x)\n",
        "\n",
        "def dfs(person, depth):\n",
        "  global cnt\n",
        "  visited[person] = True\n",
        "\n",
        "  if person == dest:\n",
        "      cnt = depth\n",
        "      return\n",
        "\n",
        "  for i in graph[person]:\n",
        "      if visited[i] == False:\n",
        "          dfs(i, depth+1)\n",
        "          visited[i] = False\n",
        "\n",
        "dfs(start, 0)\n",
        "\n",
        "print(cnt)"
      ]
    },
    {
      "cell_type": "markdown",
      "source": [
        "### 2110"
      ],
      "metadata": {
        "id": "cxpaIgKhFZF8"
      }
    },
    {
      "cell_type": "code",
      "source": [
        "n, c = map(int, input().split(\" \"))\n",
        "house = [ int(input()) for _ in range(n) ]\n",
        "house.sort()\n",
        "\n",
        "start = 1\n",
        "end = house[-1] - house[0]\n",
        "res = 0\n",
        "\n",
        "while start <= end:\n",
        "  mid = (start + end) // 2\n",
        "  cnt = 1\n",
        "  prev_house = house[0]\n",
        "\n",
        "  for i in range(1, n):\n",
        "    if house[i] - prev_house >= mid:\n",
        "      cnt += 1\n",
        "      prev_house = house[i]\n",
        "\n",
        "  if cnt < c:\n",
        "    end = mid - 1\n",
        "\n",
        "  else:\n",
        "    res = mid\n",
        "    start = mid + 1\n",
        "\n",
        "print(res)"
      ],
      "metadata": {
        "colab": {
          "base_uri": "https://localhost:8080/"
        },
        "id": "Hx8iWD7rFZdE",
        "outputId": "6d2f1348-b0be-4483-a39d-ebb7e4971d36"
      },
      "execution_count": 6,
      "outputs": [
        {
          "output_type": "stream",
          "name": "stdout",
          "text": [
            "5 3\n",
            "1\n",
            "2\n",
            "8\n",
            "4\n",
            "9\n",
            "3\n"
          ]
        }
      ]
    },
    {
      "cell_type": "markdown",
      "source": [
        "---"
      ],
      "metadata": {
        "id": "u184bwIx9JLU"
      }
    },
    {
      "cell_type": "markdown",
      "source": [
        "## Programmers"
      ],
      "metadata": {
        "id": "uHIb7HXs9K7J"
      }
    },
    {
      "cell_type": "markdown",
      "source": [
        "### 삼총사"
      ],
      "metadata": {
        "id": "uOCdNPQi9KI2"
      }
    },
    {
      "cell_type": "code",
      "source": [
        "def solution(number):\n",
        "    answer = 0\n",
        "\n",
        "    for i in range(len(number)):\n",
        "        for j in range(i+1, len(number)):\n",
        "            for k in range(j+1, len(number)):\n",
        "                if number[i] + number[j] + number[k] == 0:\n",
        "                    answer += 1\n",
        "\n",
        "    return answer"
      ],
      "metadata": {
        "id": "FrvYZYl3Iw8m"
      },
      "execution_count": null,
      "outputs": []
    }
  ]
}