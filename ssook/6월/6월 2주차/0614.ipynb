{
  "nbformat": 4,
  "nbformat_minor": 0,
  "metadata": {
    "colab": {
      "provenance": [],
      "authorship_tag": "ABX9TyNCvvIQHYnX0OsNBxSKCFkA",
      "include_colab_link": true
    },
    "kernelspec": {
      "name": "python3",
      "display_name": "Python 3"
    },
    "language_info": {
      "name": "python"
    }
  },
  "cells": [
    {
      "cell_type": "markdown",
      "metadata": {
        "id": "view-in-github",
        "colab_type": "text"
      },
      "source": [
        "<a href=\"https://colab.research.google.com/github/ssook1222/1Day-1Algo/blob/master/ssook/6%EC%9B%94/6%EC%9B%94%202%EC%A3%BC%EC%B0%A8/0614.ipynb\" target=\"_parent\"><img src=\"https://colab.research.google.com/assets/colab-badge.svg\" alt=\"Open In Colab\"/></a>"
      ]
    },
    {
      "cell_type": "markdown",
      "source": [
        "## BoJ"
      ],
      "metadata": {
        "id": "jUvfwxqaF-mw"
      }
    },
    {
      "cell_type": "markdown",
      "source": [
        "### 14465"
      ],
      "metadata": {
        "id": "aK0ENU38GDb3"
      }
    },
    {
      "cell_type": "code",
      "source": [
        "N, K, B = map(int, input().split())\n",
        "broken_list = [int(input()) for _ in range(B)]\n",
        "\n",
        "signal_list = [0] * N\n",
        "for i in broken_list:\n",
        "    signal_list[i-1] = 1\n",
        "\n",
        "start = 0\n",
        "end = K\n",
        "repair_count = sum(signal_list[start:end])\n",
        "\n",
        "min_repair_count = repair_count\n",
        "\n",
        "while end < N:\n",
        "    repair_count = repair_count - signal_list[start] + signal_list[end]\n",
        "    min_repair_count = min(min_repair_count, repair_count)\n",
        "    start += 1\n",
        "    end += 1\n",
        "\n",
        "print(min_repair_count)"
      ],
      "metadata": {
        "colab": {
          "base_uri": "https://localhost:8080/"
        },
        "id": "uq0PT9_XgWFD",
        "outputId": "04197f05-1b1f-4fce-80b8-eda8914e6873"
      },
      "execution_count": 24,
      "outputs": [
        {
          "output_type": "stream",
          "name": "stdout",
          "text": [
            "10 6 5\n",
            "2\n",
            "10\n",
            "1\n",
            "5\n",
            "9\n",
            "1\n"
          ]
        }
      ]
    },
    {
      "cell_type": "markdown",
      "source": [
        "### 2436"
      ],
      "metadata": {
        "id": "3lb3XCvIhSaN"
      }
    },
    {
      "cell_type": "code",
      "source": [
        "import math\n",
        "\n",
        "gcd, lcm = map(int, input().split())\n",
        "\n",
        "product = gcd * lcm\n",
        "\n",
        "for i in range(1, int(math.sqrt(product))+1):\n",
        "  if product % i == 0:\n",
        "    if i + ((gcd * lcm) // i ) == gcd + lcm:\n",
        "      A = i\n",
        "      B = gcd * lcm // i\n",
        "\n",
        "\n",
        "print(A, B)"
      ],
      "metadata": {
        "colab": {
          "base_uri": "https://localhost:8080/"
        },
        "id": "m7imJpSZhSxv",
        "outputId": "7f12994d-84b6-4e14-8bdc-e2ae9cbdfa86"
      },
      "execution_count": 27,
      "outputs": [
        {
          "output_type": "stream",
          "name": "stdout",
          "text": [
            "6 180\n",
            "6 180\n"
          ]
        }
      ]
    },
    {
      "cell_type": "markdown",
      "source": [
        "---"
      ],
      "metadata": {
        "id": "y08jmtyJgwuY"
      }
    },
    {
      "cell_type": "markdown",
      "source": [
        "## Programmers"
      ],
      "metadata": {
        "id": "nEoTtvfiGAVw"
      }
    },
    {
      "cell_type": "markdown",
      "source": [
        "### 시저암호"
      ],
      "metadata": {
        "id": "IVKbN68vpKPd"
      }
    },
    {
      "cell_type": "code",
      "source": [
        "def solution(s, n):\n",
        "    s = list(s)\n",
        "\n",
        "    for i in range(len(s)):\n",
        "        if s[i].isupper():\n",
        "            s[i] = chr((ord(s[i]) - ord('A') + n) % 26 + ord('A'))\n",
        "\n",
        "        elif s[i].islower():\n",
        "            s[i] = chr((ord(s[i]) - ord('a') + n) % 26 + ord('a'))\n",
        "\n",
        "    return ''.join(s)"
      ],
      "metadata": {
        "id": "oeotjd1YGBxO"
      },
      "execution_count": null,
      "outputs": []
    }
  ]
}