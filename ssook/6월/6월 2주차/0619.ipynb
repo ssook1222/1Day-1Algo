{
  "nbformat": 4,
  "nbformat_minor": 0,
  "metadata": {
    "colab": {
      "provenance": [],
      "authorship_tag": "ABX9TyN3LerPfgAo//ygTx33Xf3x",
      "include_colab_link": true
    },
    "kernelspec": {
      "name": "python3",
      "display_name": "Python 3"
    },
    "language_info": {
      "name": "python"
    }
  },
  "cells": [
    {
      "cell_type": "markdown",
      "metadata": {
        "id": "view-in-github",
        "colab_type": "text"
      },
      "source": [
        "<a href=\"https://colab.research.google.com/github/ssook1222/1Day-1Algo/blob/master/ssook/6%EC%9B%94/6%EC%9B%94%202%EC%A3%BC%EC%B0%A8/0619.ipynb\" target=\"_parent\"><img src=\"https://colab.research.google.com/assets/colab-badge.svg\" alt=\"Open In Colab\"/></a>"
      ]
    },
    {
      "cell_type": "markdown",
      "source": [
        "## BoJ"
      ],
      "metadata": {
        "id": "sgvtsWH54L8x"
      }
    },
    {
      "cell_type": "markdown",
      "source": [
        "### 24267"
      ],
      "metadata": {
        "id": "dAdM3gJi4NjG"
      }
    },
    {
      "cell_type": "code",
      "execution_count": 3,
      "metadata": {
        "id": "mqIlTM-Z4HNF",
        "colab": {
          "base_uri": "https://localhost:8080/"
        },
        "outputId": "e040fdaf-fe10-4ccd-cda7-6b8d6d49698e"
      },
      "outputs": [
        {
          "output_type": "stream",
          "name": "stdout",
          "text": [
            "7\n",
            "35\n",
            "3\n"
          ]
        }
      ],
      "source": [
        "n = int(input())\n",
        "print( int((n * (n-1) * (n-2)) / 6 ))\n",
        "print(3)"
      ]
    },
    {
      "cell_type": "markdown",
      "source": [
        "### 1182"
      ],
      "metadata": {
        "id": "_YeDcfxL4PeR"
      }
    },
    {
      "cell_type": "code",
      "source": [
        "import sys\n",
        "import itertools\n",
        "\n",
        "n, s = map(int, sys.stdin.readline().rstrip().split(\" \"))\n",
        "num_list = list(map(int, sys.stdin.readline().rstrip().split(\" \")))\n",
        "cnt = 0\n",
        "\n",
        "for i in range(1, n+1):\n",
        "  combi = itertools.combinations(num_list, i)\n",
        "\n",
        "  for x in combi:\n",
        "    if sum(x) == s:\n",
        "      cnt += 1\n",
        "\n",
        "print(cnt)"
      ],
      "metadata": {
        "id": "ZaMUt5Y04Q5t",
        "colab": {
          "base_uri": "https://localhost:8080/"
        },
        "outputId": "5033db21-39cf-4fae-bc1a-8e03d1f83863"
      },
      "execution_count": 5,
      "outputs": [
        {
          "output_type": "stream",
          "name": "stdout",
          "text": [
            "5 0\n",
            "-7 -3 -2 5 8\n",
            "1\n"
          ]
        }
      ]
    },
    {
      "cell_type": "markdown",
      "source": [
        "---"
      ],
      "metadata": {
        "id": "Nb9Obssu4RNk"
      }
    },
    {
      "cell_type": "markdown",
      "source": [
        "## Programmers"
      ],
      "metadata": {
        "id": "aKgTF7Y04STr"
      }
    },
    {
      "cell_type": "markdown",
      "source": [
        "### 모의고사"
      ],
      "metadata": {
        "id": "DjrDA6Lf4UBY"
      }
    },
    {
      "cell_type": "code",
      "source": [
        "def solution(answers):\n",
        "    pattern_1 = [1, 2, 3, 4, 5]\n",
        "    pattern_2 = [2, 1, 2, 3, 2, 4, 2, 5]\n",
        "    pattern_3 = [3, 3, 1, 1, 2, 2, 4, 4, 5, 5]\n",
        "\n",
        "    count_1, count_2, count_3 = 0, 0, 0\n",
        "\n",
        "    for i in range(len(answers)):\n",
        "        if answers[i] == pattern_1[i % len(pattern_1)]:\n",
        "            count_1 += 1\n",
        "        if answers[i] == pattern_2[i % len(pattern_2)]:\n",
        "            count_2 += 1\n",
        "        if answers[i] == pattern_3[i % len(pattern_3)]:\n",
        "            count_3 += 1\n",
        "\n",
        "    max_count = max(count_1, count_2, count_3)\n",
        "\n",
        "    winners = []\n",
        "    if count_1 == max_count:\n",
        "        winners.append(1)\n",
        "    if count_2 == max_count:\n",
        "        winners.append(2)\n",
        "    if count_3 == max_count:\n",
        "        winners.append(3)\n",
        "\n",
        "    return winners"
      ],
      "metadata": {
        "id": "7OX50OWb4Ti9"
      },
      "execution_count": null,
      "outputs": []
    }
  ]
}