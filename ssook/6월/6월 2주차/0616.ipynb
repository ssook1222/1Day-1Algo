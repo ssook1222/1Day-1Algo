{
  "nbformat": 4,
  "nbformat_minor": 0,
  "metadata": {
    "colab": {
      "provenance": [],
      "authorship_tag": "ABX9TyOTtcqDYczgH1TuzdZbvhbF",
      "include_colab_link": true
    },
    "kernelspec": {
      "name": "python3",
      "display_name": "Python 3"
    },
    "language_info": {
      "name": "python"
    }
  },
  "cells": [
    {
      "cell_type": "markdown",
      "metadata": {
        "id": "view-in-github",
        "colab_type": "text"
      },
      "source": [
        "<a href=\"https://colab.research.google.com/github/ssook1222/1Day-1Algo/blob/master/ssook/6%EC%9B%94/6%EC%9B%94%202%EC%A3%BC%EC%B0%A8/0616.ipynb\" target=\"_parent\"><img src=\"https://colab.research.google.com/assets/colab-badge.svg\" alt=\"Open In Colab\"/></a>"
      ]
    },
    {
      "cell_type": "markdown",
      "source": [
        "## BoJ"
      ],
      "metadata": {
        "id": "PqyIBYWzY7CP"
      }
    },
    {
      "cell_type": "markdown",
      "source": [
        "### 2230"
      ],
      "metadata": {
        "id": "lG3DG0ABY8xZ"
      }
    },
    {
      "cell_type": "code",
      "execution_count": 12,
      "metadata": {
        "colab": {
          "base_uri": "https://localhost:8080/"
        },
        "id": "pCsXfoGQY3tQ",
        "outputId": "c1a8c748-68c7-4bcc-cf65-5b989bb0864a"
      },
      "outputs": [
        {
          "output_type": "stream",
          "name": "stdout",
          "text": [
            "3 3\n",
            "1\n",
            "5\n",
            "3\n",
            "4\n"
          ]
        }
      ],
      "source": [
        "import sys\n",
        "\n",
        "n, m = map(int, sys.stdin.readline().strip().split())\n",
        "num_list = [int(sys.stdin.readline().strip()) for _ in range(n)]\n",
        "num_list.sort()\n",
        "\n",
        "start = 0\n",
        "end = 1\n",
        "min_diff = num_list[-1] - num_list[0]\n",
        "\n",
        "while start < n and end < n:\n",
        "    diff = num_list[end] - num_list[start]\n",
        "\n",
        "    if diff >= m:\n",
        "        min_diff = min(min_diff, diff)\n",
        "        start += 1\n",
        "    else:\n",
        "        end += 1\n",
        "\n",
        "print(min_diff)"
      ]
    },
    {
      "cell_type": "markdown",
      "source": [
        "### 14921"
      ],
      "metadata": {
        "id": "RcyhfTYOiVYC"
      }
    },
    {
      "cell_type": "code",
      "source": [
        "n = int(input())\n",
        "num_list = list(map(int, input().split(\" \")))\n",
        "\n",
        "start = 0\n",
        "end = len(num_list) - 1\n",
        "min_sum = 2e9\n",
        "\n",
        "while start < end:\n",
        "    current_sum = num_list[start] + num_list[end]\n",
        "\n",
        "    if abs(current_sum) < abs(min_sum):\n",
        "        min_sum = current_sum\n",
        "\n",
        "    if current_sum < 0:\n",
        "        start += 1\n",
        "    else:\n",
        "        end -= 1\n",
        "\n",
        "print(min_sum)\n"
      ],
      "metadata": {
        "colab": {
          "base_uri": "https://localhost:8080/"
        },
        "id": "kE6DOYRUsnjU",
        "outputId": "7378b6f5-4c6c-43cb-f361-18eff47fce7c"
      },
      "execution_count": 22,
      "outputs": [
        {
          "output_type": "stream",
          "name": "stdout",
          "text": [
            "7\n",
            "-698 -332 -123 54 531 535 699\n",
            "1\n"
          ]
        }
      ]
    },
    {
      "cell_type": "markdown",
      "source": [
        "---"
      ],
      "metadata": {
        "id": "AEMrlIXUtcTO"
      }
    },
    {
      "cell_type": "markdown",
      "source": [
        "## Programmers"
      ],
      "metadata": {
        "id": "WktN_ko5tdXc"
      }
    },
    {
      "cell_type": "markdown",
      "source": [
        "### 크기가 작은 부분문자열"
      ],
      "metadata": {
        "id": "YF7_BwW0tfSF"
      }
    },
    {
      "cell_type": "code",
      "source": [
        "def solution(t, p):\n",
        "    answer = 0\n",
        "\n",
        "    for i in range(len(t) - len(p) + 1):\n",
        "        substring = t[i:i+len(p)]\n",
        "        if int(substring) <= int(p):\n",
        "            answer += 1\n",
        "\n",
        "    return answer"
      ],
      "metadata": {
        "id": "NsuS70Ahtffn"
      },
      "execution_count": null,
      "outputs": []
    }
  ]
}