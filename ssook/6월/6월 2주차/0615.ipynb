{
  "nbformat": 4,
  "nbformat_minor": 0,
  "metadata": {
    "colab": {
      "provenance": [],
      "authorship_tag": "ABX9TyO0JtLYBM4RIH8gl67W28Os",
      "include_colab_link": true
    },
    "kernelspec": {
      "name": "python3",
      "display_name": "Python 3"
    },
    "language_info": {
      "name": "python"
    }
  },
  "cells": [
    {
      "cell_type": "markdown",
      "metadata": {
        "id": "view-in-github",
        "colab_type": "text"
      },
      "source": [
        "<a href=\"https://colab.research.google.com/github/ssook1222/1Day-1Algo/blob/master/ssook/6%EC%9B%94/6%EC%9B%94%202%EC%A3%BC%EC%B0%A8/0615.ipynb\" target=\"_parent\"><img src=\"https://colab.research.google.com/assets/colab-badge.svg\" alt=\"Open In Colab\"/></a>"
      ]
    },
    {
      "cell_type": "markdown",
      "source": [
        "## BoJ\n",
        "---\n",
        "#### 회사 업무 적응 전까지 브론즈만 풀기"
      ],
      "metadata": {
        "id": "NtsQjufSM_Yg"
      }
    },
    {
      "cell_type": "markdown",
      "source": [
        "#### 19532"
      ],
      "metadata": {
        "id": "WAUNMSpANMuS"
      }
    },
    {
      "cell_type": "code",
      "execution_count": 3,
      "metadata": {
        "colab": {
          "base_uri": "https://localhost:8080/"
        },
        "id": "Cv6G88FwMueO",
        "outputId": "6a4bb787-3c20-4fa6-e17c-fe729105f7ed"
      },
      "outputs": [
        {
          "output_type": "stream",
          "name": "stdout",
          "text": [
            "1 3 -1 4 1 7\n",
            "2 -1\n"
          ]
        }
      ],
      "source": [
        "a, b, c, d, e, f = map(int, input().split())\n",
        "\n",
        "for i in range(-999, 1000):\n",
        "  for j in range(-999, 1000):\n",
        "    if (a * i) + (b * j) == c and (d* i) + (e * j) == f:\n",
        "      print(i, j)"
      ]
    }
  ]
}