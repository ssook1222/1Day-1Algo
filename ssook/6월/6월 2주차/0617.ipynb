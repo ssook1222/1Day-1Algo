{
  "nbformat": 4,
  "nbformat_minor": 0,
  "metadata": {
    "colab": {
      "provenance": [],
      "authorship_tag": "ABX9TyM4ucGDBBLEBT5JOjA4tZ9K",
      "include_colab_link": true
    },
    "kernelspec": {
      "name": "python3",
      "display_name": "Python 3"
    },
    "language_info": {
      "name": "python"
    }
  },
  "cells": [
    {
      "cell_type": "markdown",
      "metadata": {
        "id": "view-in-github",
        "colab_type": "text"
      },
      "source": [
        "<a href=\"https://colab.research.google.com/github/ssook1222/1Day-1Algo/blob/master/ssook/6%EC%9B%94/6%EC%9B%94%202%EC%A3%BC%EC%B0%A8/0617.ipynb\" target=\"_parent\"><img src=\"https://colab.research.google.com/assets/colab-badge.svg\" alt=\"Open In Colab\"/></a>"
      ]
    },
    {
      "cell_type": "markdown",
      "source": [
        "## BoJ"
      ],
      "metadata": {
        "id": "8lmASqvIq0h2"
      }
    },
    {
      "cell_type": "markdown",
      "source": [
        "### 1149"
      ],
      "metadata": {
        "id": "6NJq-VHhrhZm"
      }
    },
    {
      "cell_type": "code",
      "execution_count": 1,
      "metadata": {
        "colab": {
          "base_uri": "https://localhost:8080/"
        },
        "id": "0MunxtI9qf9Y",
        "outputId": "466254d3-efb8-4446-f385-f96a6a20112c"
      },
      "outputs": [
        {
          "output_type": "stream",
          "name": "stdout",
          "text": [
            "3\n",
            "1 100 100\n",
            "100 100 100\n",
            "1 100 100\n",
            "102\n"
          ]
        }
      ],
      "source": [
        "import sys\n",
        "\n",
        "n = int(sys.stdin.readline().rstrip())\n",
        "RGB = [ list(map(int, sys.stdin.readline().rstrip().split(\" \"))) for i in range(n) ]\n",
        "\n",
        "for i in range(1, n):\n",
        "  RGB[i][0] = min( RGB[i-1][1], RGB[i-1][2] ) + RGB[i][0]\n",
        "  RGB[i][1] = min( RGB[i-1][0], RGB[i-1][2] ) + RGB[i][1]\n",
        "  RGB[i][2] = min( RGB[i-1][0], RGB[i-1][1] ) + RGB[i][2]\n",
        "\n",
        "print(min(RGB[n - 1]))"
      ]
    },
    {
      "cell_type": "markdown",
      "source": [
        "### 14924"
      ],
      "metadata": {
        "id": "Pj2380BLr1TX"
      }
    },
    {
      "cell_type": "code",
      "source": [
        "s, t, d = map(int, input().split(\" \"))\n",
        "temp = d / ( s * 2 )\n",
        "print(int(temp * t))"
      ],
      "metadata": {
        "colab": {
          "base_uri": "https://localhost:8080/"
        },
        "id": "0-YiSs3Rr1hO",
        "outputId": "7d2fce54-25a2-40d9-8739-d2fd248325e5"
      },
      "execution_count": 3,
      "outputs": [
        {
          "output_type": "stream",
          "name": "stdout",
          "text": [
            "50 75 200\n",
            "150\n"
          ]
        }
      ]
    },
    {
      "cell_type": "markdown",
      "source": [
        "---"
      ],
      "metadata": {
        "id": "rjEoiqaJsSGz"
      }
    },
    {
      "cell_type": "markdown",
      "source": [
        "## Programmers"
      ],
      "metadata": {
        "id": "3PUJ4V2ssSys"
      }
    },
    {
      "cell_type": "markdown",
      "source": [
        "### 최소직사각형"
      ],
      "metadata": {
        "id": "FVbCeddhsWIQ"
      }
    },
    {
      "cell_type": "code",
      "source": [
        "def solution(sizes):\n",
        "    answer = 0\n",
        "    r_w = []\n",
        "    r_h = []\n",
        "\n",
        "    for i in sizes:\n",
        "        r_w.append(max(i))\n",
        "        r_h.append(min(i))\n",
        "\n",
        "    answer = max(r_w) * max(r_h)\n",
        "    return answer"
      ],
      "metadata": {
        "id": "HN_jXulFsTHG"
      },
      "execution_count": null,
      "outputs": []
    }
  ]
}