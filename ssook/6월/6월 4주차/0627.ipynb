{
  "nbformat": 4,
  "nbformat_minor": 0,
  "metadata": {
    "colab": {
      "provenance": [],
      "authorship_tag": "ABX9TyP+HxNzEGZIMqlH5+fRSOQh",
      "include_colab_link": true
    },
    "kernelspec": {
      "name": "python3",
      "display_name": "Python 3"
    },
    "language_info": {
      "name": "python"
    }
  },
  "cells": [
    {
      "cell_type": "markdown",
      "metadata": {
        "id": "view-in-github",
        "colab_type": "text"
      },
      "source": [
        "<a href=\"https://colab.research.google.com/github/ssook1222/1Day-1Algo/blob/master/ssook/6%EC%9B%94/6%EC%9B%94%204%EC%A3%BC%EC%B0%A8/0627.ipynb\" target=\"_parent\"><img src=\"https://colab.research.google.com/assets/colab-badge.svg\" alt=\"Open In Colab\"/></a>"
      ]
    },
    {
      "cell_type": "markdown",
      "source": [
        "## BoJ"
      ],
      "metadata": {
        "id": "KcGwXy--IDW6"
      }
    },
    {
      "cell_type": "markdown",
      "source": [
        "### 24481"
      ],
      "metadata": {
        "id": "nmNS__0xAja4"
      }
    },
    {
      "cell_type": "code",
      "execution_count": 7,
      "metadata": {
        "colab": {
          "base_uri": "https://localhost:8080/"
        },
        "id": "rP0HcKczAf85",
        "outputId": "354176dd-5669-492a-bcd4-39348dd6e007"
      },
      "outputs": [
        {
          "output_type": "stream",
          "name": "stdout",
          "text": [
            "5 5 1\n",
            "1 4\n",
            "1 2\n",
            "2 3\n",
            "2 4\n",
            "3 4\n",
            "0\n",
            "1\n",
            "2\n",
            "3\n",
            "-1\n"
          ]
        }
      ],
      "source": [
        "import sys\n",
        "\n",
        "sys.setrecursionlimit(10**8)\n",
        "\n",
        "n, m, r = map(int, sys.stdin.readline().rstrip().split(\" \"))\n",
        "\n",
        "visited = [-1] * (n+1)\n",
        "graph = [ [] for _ in range(n+1) ]\n",
        "\n",
        "for _ in range(m):\n",
        "  u, v = map(int, sys.stdin.readline().rstrip().split(\" \"))\n",
        "  graph[u].append(v)\n",
        "  graph[v].append(u)\n",
        "\n",
        "def dfs(n, depth):\n",
        "  visited[n] = depth\n",
        "  graph[n].sort()\n",
        "\n",
        "  for i in graph[n]:\n",
        "    if visited[i] == -1:\n",
        "      dfs(i, depth+1)\n",
        "\n",
        "dfs(r, 0)\n",
        "\n",
        "for node in visited[1: ]:\n",
        "  print(node)"
      ]
    },
    {
      "cell_type": "markdown",
      "source": [
        "### 4344"
      ],
      "metadata": {
        "id": "2XZOkeV_ICj6"
      }
    },
    {
      "cell_type": "code",
      "source": [
        "def roundTraditional(val, digits):\n",
        "    return round(val+10**(-len(str(val))-1), digits)\n",
        "\n",
        "c = int(input())\n",
        "\n",
        "for i in range(c):\n",
        "  cnt = 0\n",
        "  students = list(map(int, input().split(\" \")))\n",
        "  students = students[1:]\n",
        "\n",
        "  avg = sum(students) // len(students)\n",
        "\n",
        "  for j in students:\n",
        "    if avg < j:\n",
        "      cnt += 1\n",
        "\n",
        "  ans = (cnt / len(students)) * 100\n",
        "  print(f'{roundTraditional(ans, 3):.3f}%')"
      ],
      "metadata": {
        "colab": {
          "base_uri": "https://localhost:8080/"
        },
        "id": "YiDfYL34ICyZ",
        "outputId": "8ee66a32-feee-48f3-fee6-0fb2859b46ec"
      },
      "execution_count": 23,
      "outputs": [
        {
          "output_type": "stream",
          "name": "stdout",
          "text": [
            "1\n",
            "987 1 1 1 1 1 1 1 1 1 1 1 1 1 1 1 1 1 1 1 1 1 1 1 1 1 1 1 1 1 1 1 1 1 1 1 1 1 1 1 1 1 1 1 1 1 1 1 1 1 1 1 1 1 1 1 1 1 1 1 1 1 1 1 1 1 1 1 1 1 1 1 1 1 1 1 1 1 1 1 1 1 1 1 1 1 1 1 1 1 1 1 1 1 1 1 1 1 1 1 1 1 1 1 1 1 1 1 1 1 1 1 1 1 1 1 1 1 1 1 1 1 1 1 1 1 1 1 1 1 1 1 1 1 1 1 1 1 1 1 1 1 1 1 1 1 1 1 1 1 1 1 1 1 1 1 1 1 1 1 1 1 1 1 1 1 1 1 1 1 1 1 1 1 1 1 1 1 1 1 1 1 1 1 1 1 1 1 1 1 1 1 1 1 1 1 1 1 1 1 1 1 1 1 1 1 1 1 1 1 1 1 1 1 1 1 1 1 1 1 1 1 1 1 1 1 1 1 1 1 1 1 1 1 1 1 1 1 1 1 1 1 1 1 1 1 1 1 1 1 1 1 1 1 1 1 1 1 0 0 0 0 0 0 0 0 0 0 0 0 0 0 0 0 0 0 0 0 0 0 0 0 0 0 0 0 0 0 0 0 0 0 0 0 0 0 0 0 0 0 0 0 0 0 0 0 0 0 0 0 0 0 0 0 0 0 0 0 0 0 0 0 0 0 0 0 0 0 0 0 0 0 0 0 0 0 0 0 0 0 0 0 0 0 0 0 0 0 0 0 0 0 0 0 0 0 0 0 0 0 0 0 0 0 0 0 0 0 0 0 0 0 0 0 0 0 0 0 0 0 0 0 0 0 0 0 0 0 0 0 0 0 0 0 0 0 0 0 0 0 0 0 0 0 0 0 0 0 0 0 0 0 0 0 0 0 0 0 0 0 0 0 0 0 0 0 0 0 0 0 0 0 0 0 0 0 0 0 0 0 0 0 0 0 0 0 0 0 0 0 0 0 0 0 0 0 0 0 0 0 0 0 0 0 0 0 0 0 0 0 0 0 0 0 0 0 0 0 0 0 0 0 0 0 0 0 0 0 0 0 0 0 0 0 0 0 0 0 0 0 0 0 0 0 0 0 0 0 0 0 0 0 0 0 0 0 0 0 0 0 0 0 0 0 0 0 0 0 0 0 0 0 0 0 0 0 0 0 0 0 0 0 0 0 0 0 0 0 0 0 0 0 0 0 0 0 0 0 0 0 0 0 0 0 0 0 0 0 0 0 0 0 0 0 0 0 0 0 0 0 0 0 0 0 0 0 0 0 0 0 0 0 0 0 0 0 0 0 0 0 0 0 0 0 0 0 0 0 0 0 0 0 0 0 0 0 0 0 0 0 0 0 0 0 0 0 0 0 0 0 0 0 0 0 0 0 0 0 0 0 0 0 0 0 0 0 0 0 0 0 0 0 0 0 0 0 0 0 0 0 0 0 0 0 0 0 0 0 0 0 0 0 0 0 0 0 0 0 0 0 0 0 0 0 0 0 0 0 0 0 0 0 0 0 0 0 0 0 0 0 0 0 0 0 0 0 0 0 0 0 0 0 0 0 0 0 0 0 0 0 0 0 0 0 0 0 0 0 0 0 0 0 0 0 0 0 0 0 0 0 0 0 0 0 0 0 0 0 0 0 0 0 0 0 0 0 0 0 0 0 0 0 0 0 0 0 0 0 0 0 0 0 0 0 0 0 0 0 0 0 0 0 0 0 0 0 0 0 0 0 0 0 0 0 0 0 0 0 0 0 0 0 0 0 0 0 0 0 0 0 0 0 0 0 0 0 0 0 0 0 0 0 0 0 0 0 0 0 0 0 0 0 0 0 0 0 0 0 0 0 0 0 0 0 0 0 0 0 0 0 0 0 0 0 0 0 0 0 0 0 0 0 0 0 0 0 0 0 0 0 0 0 0 0 0 0 0 0 0 0 0 0 0 0 0 0 0 0 0 0 0 0 0 0 0 0 0 0 0 0 0 0 0 0 0 0 0 0 0 0 0 0 0 0 0 0 0 0 0 0 0 0 0 0 0 0 0 0 0 0 0 0 0 0 0 0 0 0 0 0 0 0 0 0 0 0 0 0 0 0 0 0 0 0 0 0 0 0 0 0 0 0 0 0 0 0 0 0 0 0 0 0 0 0 0 0 0 0 0 0 0 0 0 0 0 0 0 0\n",
            "26.039%\n"
          ]
        }
      ]
    },
    {
      "cell_type": "markdown",
      "source": [
        "---"
      ],
      "metadata": {
        "id": "GeqxUqYeIEqt"
      }
    },
    {
      "cell_type": "markdown",
      "source": [
        "## Programmers"
      ],
      "metadata": {
        "id": "eCJaeYDqIFbz"
      }
    },
    {
      "cell_type": "markdown",
      "source": [
        "### 추억점수"
      ],
      "metadata": {
        "id": "vWrsB6I3IHm9"
      }
    },
    {
      "cell_type": "code",
      "source": [
        "def solution(name, yearning, photo):\n",
        "    answer = []\n",
        "    score = {}\n",
        "\n",
        "    for i in range(len(name)):\n",
        "        score[name[i]] = yearning[i]\n",
        "\n",
        "    for pho in photo:\n",
        "        jumsu = 0\n",
        "        for people in pho:\n",
        "            if people in score:\n",
        "                jumsu += score[people]\n",
        "        answer.append(jumsu)\n",
        "\n",
        "    return answer"
      ],
      "metadata": {
        "id": "lr-j9s6OIFn1"
      },
      "execution_count": null,
      "outputs": []
    }
  ]
}