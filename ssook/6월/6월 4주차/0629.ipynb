{
  "nbformat": 4,
  "nbformat_minor": 0,
  "metadata": {
    "colab": {
      "provenance": [],
      "authorship_tag": "ABX9TyM5LZm6xuYzEGO6KPAA2fG7",
      "include_colab_link": true
    },
    "kernelspec": {
      "name": "python3",
      "display_name": "Python 3"
    },
    "language_info": {
      "name": "python"
    }
  },
  "cells": [
    {
      "cell_type": "markdown",
      "metadata": {
        "id": "view-in-github",
        "colab_type": "text"
      },
      "source": [
        "<a href=\"https://colab.research.google.com/github/ssook1222/1Day-1Algo/blob/master/ssook/6%EC%9B%94/6%EC%9B%94%204%EC%A3%BC%EC%B0%A8/0629.ipynb\" target=\"_parent\"><img src=\"https://colab.research.google.com/assets/colab-badge.svg\" alt=\"Open In Colab\"/></a>"
      ]
    },
    {
      "cell_type": "markdown",
      "source": [
        "## BoJ"
      ],
      "metadata": {
        "id": "dwNduw4qX4AR"
      }
    },
    {
      "cell_type": "markdown",
      "source": [
        "### 24483"
      ],
      "metadata": {
        "id": "BTfu4HX2X59E"
      }
    },
    {
      "cell_type": "code",
      "execution_count": 13,
      "metadata": {
        "id": "TX8QjD5NWiIS",
        "colab": {
          "base_uri": "https://localhost:8080/"
        },
        "outputId": "81c686fc-877a-477e-f287-841d99c743f1"
      },
      "outputs": [
        {
          "output_type": "stream",
          "name": "stdout",
          "text": [
            "5 5 1\n",
            "1 4\n",
            "1 2\n",
            "2 3\n",
            "2 4\n",
            "3 4\n",
            "20\n"
          ]
        }
      ],
      "source": [
        "import sys\n",
        "\n",
        "sys.setrecursionlimit(10**8)\n",
        "\n",
        "n, m, r = map(int, sys.stdin.readline().rstrip().split(\" \"))\n",
        "\n",
        "visited = [-1] * (n+1)\n",
        "graph = [ [] for _ in range(n+1) ]\n",
        "\n",
        "for _ in range(m):\n",
        "  u, v = map(int, sys.stdin.readline().rstrip().split(\" \"))\n",
        "  graph[u].append(v)\n",
        "  graph[v].append(u)\n",
        "\n",
        "for i in range(1, n+1):\n",
        "    graph[i].sort()\n",
        "\n",
        "depth = 0\n",
        "cnt = 0\n",
        "res = 0\n",
        "\n",
        "def dfs(n, depth):\n",
        "  global cnt, res\n",
        "  cnt += 1\n",
        "  visited[n] = cnt * depth\n",
        "  res += visited[n]\n",
        "\n",
        "  for i in graph[n]:\n",
        "    if visited[i] == -1:\n",
        "      dfs(i, depth+1)\n",
        "\n",
        "dfs(r, depth)\n",
        "\n",
        "print(res)"
      ]
    },
    {
      "cell_type": "markdown",
      "source": [
        "### 16171"
      ],
      "metadata": {
        "id": "K1zub_ufvdV0"
      }
    },
    {
      "cell_type": "code",
      "source": [
        "import sys\n",
        "\n",
        "s = sys.stdin.readline().rstrip()\n",
        "k = sys.stdin.readline().rstrip()\n",
        "\n",
        "res = ''\n",
        "\n",
        "for c in s:\n",
        "  if not c.isdigit():\n",
        "    res += c\n",
        "\n",
        "if k in res :\n",
        "  print(1)\n",
        "else:\n",
        "  print(0)"
      ],
      "metadata": {
        "colab": {
          "base_uri": "https://localhost:8080/"
        },
        "id": "fRoykkF-vdoA",
        "outputId": "e9e54b85-61bc-4ffd-e6b9-b0c01ff9b456"
      },
      "execution_count": 14,
      "outputs": [
        {
          "output_type": "stream",
          "name": "stdout",
          "text": [
            "1ovey0uS2\n",
            "veS\n",
            "0\n"
          ]
        }
      ]
    },
    {
      "cell_type": "markdown",
      "source": [
        "---"
      ],
      "metadata": {
        "id": "XkFrVI8gxD89"
      }
    },
    {
      "cell_type": "markdown",
      "source": [
        "## Programmers"
      ],
      "metadata": {
        "id": "_425Z7IAxDYW"
      }
    },
    {
      "cell_type": "markdown",
      "source": [
        "### 문자열 나누기"
      ],
      "metadata": {
        "id": "AYlpiphKxJH9"
      }
    },
    {
      "cell_type": "code",
      "source": [
        "def solution(s):\n",
        "    result = []\n",
        "\n",
        "    while s:\n",
        "        x = s[0]\n",
        "        count_x = 1\n",
        "        count_other = 0\n",
        "\n",
        "        for i in range(1, len(s)):\n",
        "            if s[i] == x:\n",
        "                count_x += 1\n",
        "            else:\n",
        "                count_other += 1\n",
        "\n",
        "            if count_x == count_other:\n",
        "                result.append(s[:i+1])\n",
        "                s = s[i+1:]\n",
        "                break\n",
        "\n",
        "        else:\n",
        "            result.append(s)\n",
        "            break\n",
        "\n",
        "    return len(result)"
      ],
      "metadata": {
        "id": "e6mT3MJixDsk"
      },
      "execution_count": null,
      "outputs": []
    }
  ]
}