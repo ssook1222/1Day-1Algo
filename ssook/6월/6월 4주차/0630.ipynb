{
  "nbformat": 4,
  "nbformat_minor": 0,
  "metadata": {
    "colab": {
      "provenance": [],
      "authorship_tag": "ABX9TyOraFbUH3cb537x/DeLGyQC",
      "include_colab_link": true
    },
    "kernelspec": {
      "name": "python3",
      "display_name": "Python 3"
    },
    "language_info": {
      "name": "python"
    }
  },
  "cells": [
    {
      "cell_type": "markdown",
      "metadata": {
        "id": "view-in-github",
        "colab_type": "text"
      },
      "source": [
        "<a href=\"https://colab.research.google.com/github/ssook1222/1Day-1Algo/blob/master/ssook/6%EC%9B%94/6%EC%9B%94%204%EC%A3%BC%EC%B0%A8/0630.ipynb\" target=\"_parent\"><img src=\"https://colab.research.google.com/assets/colab-badge.svg\" alt=\"Open In Colab\"/></a>"
      ]
    },
    {
      "cell_type": "markdown",
      "source": [
        "## BoJ"
      ],
      "metadata": {
        "id": "K_Fbe0nPerGH"
      }
    },
    {
      "cell_type": "markdown",
      "source": [
        "### 24446"
      ],
      "metadata": {
        "id": "ZNEROgTbe0FJ"
      }
    },
    {
      "cell_type": "code",
      "execution_count": 10,
      "metadata": {
        "colab": {
          "base_uri": "https://localhost:8080/"
        },
        "id": "JMG-H0XoecBy",
        "outputId": "a0ff1d7a-4b4c-465a-dc54-b4990a617c25"
      },
      "outputs": [
        {
          "output_type": "stream",
          "name": "stdout",
          "text": [
            "5 5 1\n",
            "1 4\n",
            "1 2\n",
            "2 3\n",
            "2 4\n",
            "3 4\n",
            "0\n",
            "1\n",
            "2\n",
            "1\n",
            "-1\n"
          ]
        }
      ],
      "source": [
        "import sys\n",
        "from collections import deque\n",
        "\n",
        "n, m, r = map(int, sys.stdin.readline().rstrip().split(\" \"))\n",
        "\n",
        "visited = [-1] * (n+1)\n",
        "graph = [[] for _ in range(n+1)]\n",
        "\n",
        "for _ in range(m):\n",
        "  u, v = map(int, sys.stdin.readline().rstrip().split(\" \"))\n",
        "  graph[u].append(v)\n",
        "  graph[v].append(u)\n",
        "\n",
        "def bfs(n):\n",
        "  q = deque([(n, 0)])\n",
        "  visited[n] = 0\n",
        "\n",
        "  while q:\n",
        "    nodes, depth = q.popleft()\n",
        "\n",
        "    for node in graph[nodes]:\n",
        "      if visited[node] == -1:\n",
        "        visited[node] = depth+1\n",
        "        q.append((node, depth+1))\n",
        "\n",
        "bfs(r)\n",
        "\n",
        "for v in visited[1:] :\n",
        "  print(v)"
      ]
    },
    {
      "cell_type": "markdown",
      "source": [
        "### 1292"
      ],
      "metadata": {
        "id": "iqG9TWqkhnNh"
      }
    },
    {
      "cell_type": "code",
      "source": [
        "a, b = map(int, input().split(\" \"))\n",
        "num = []\n",
        "hap = 0\n",
        "\n",
        "for i in range(1, b+1):\n",
        "  for j in range(i):\n",
        "    num.append(i)\n",
        "\n",
        "print(sum(num[a-1:b]))"
      ],
      "metadata": {
        "colab": {
          "base_uri": "https://localhost:8080/"
        },
        "id": "giMSFEiQjSuz",
        "outputId": "512b2189-816c-418e-f229-c80511686309"
      },
      "execution_count": 18,
      "outputs": [
        {
          "output_type": "stream",
          "name": "stdout",
          "text": [
            "3 7\n",
            "15\n"
          ]
        }
      ]
    },
    {
      "cell_type": "markdown",
      "source": [
        "---"
      ],
      "metadata": {
        "id": "kGR_rEt8k6JC"
      }
    },
    {
      "cell_type": "markdown",
      "source": [
        "## Programmers"
      ],
      "metadata": {
        "id": "0-ZhRIyNk68t"
      }
    },
    {
      "cell_type": "markdown",
      "source": [
        "### 햄버거 만들기"
      ],
      "metadata": {
        "id": "5MsVKiydl7OK"
      }
    },
    {
      "cell_type": "code",
      "source": [
        "def solution(ingredient):\n",
        "    stack = []\n",
        "    count = 0\n",
        "\n",
        "    for i in ingredient:\n",
        "        stack.append(i)\n",
        "\n",
        "        if len(stack) >= 4 and stack[-4:] == [1, 2, 3, 1]:\n",
        "            for _ in range(4):\n",
        "                stack.pop()\n",
        "            count += 1\n",
        "\n",
        "    return count"
      ],
      "metadata": {
        "id": "dQgcyF2Ok7L4"
      },
      "execution_count": null,
      "outputs": []
    }
  ]
}