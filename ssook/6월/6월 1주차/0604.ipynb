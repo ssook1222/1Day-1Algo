{
  "nbformat": 4,
  "nbformat_minor": 0,
  "metadata": {
    "colab": {
      "provenance": [],
      "authorship_tag": "ABX9TyPx9k1hHeEEwVW/ZKFS8Pds",
      "include_colab_link": true
    },
    "kernelspec": {
      "name": "python3",
      "display_name": "Python 3"
    },
    "language_info": {
      "name": "python"
    }
  },
  "cells": [
    {
      "cell_type": "markdown",
      "metadata": {
        "id": "view-in-github",
        "colab_type": "text"
      },
      "source": [
        "<a href=\"https://colab.research.google.com/github/ssook1222/1Day-1Algo/blob/master/ssook/6%EC%9B%94/6%EC%9B%94%201%EC%A3%BC%EC%B0%A8/0604.ipynb\" target=\"_parent\"><img src=\"https://colab.research.google.com/assets/colab-badge.svg\" alt=\"Open In Colab\"/></a>"
      ]
    },
    {
      "cell_type": "markdown",
      "source": [
        "## BoJ"
      ],
      "metadata": {
        "id": "5LGOPWqTvJLD"
      }
    },
    {
      "cell_type": "markdown",
      "source": [
        "### 2012"
      ],
      "metadata": {
        "id": "rS6hq7ds9V_R"
      }
    },
    {
      "cell_type": "code",
      "source": [
        "import sys\n",
        "n = int(sys.stdin.readline().strip())\n",
        "\n",
        "expect = [ int(sys.stdin.readline().strip()) for _ in range(n) ]\n",
        "expect.sort()\n",
        "\n",
        "res = 0\n",
        "for i in range(1, n+1):\n",
        "  res += abs(i-expect[i-1])\n",
        "\n",
        "print(res)"
      ],
      "metadata": {
        "colab": {
          "base_uri": "https://localhost:8080/"
        },
        "id": "sfca9WlACjme",
        "outputId": "31481f15-394a-412b-8c71-4adf5fe52d23"
      },
      "execution_count": 48,
      "outputs": [
        {
          "output_type": "stream",
          "name": "stdout",
          "text": [
            "5\n",
            "1\n",
            "5\n",
            "3\n",
            "1\n",
            "2\n",
            "3\n"
          ]
        }
      ]
    },
    {
      "cell_type": "markdown",
      "source": [
        "### 1629"
      ],
      "metadata": {
        "id": "L2JVVJ2lzg7s"
      }
    },
    {
      "cell_type": "code",
      "execution_count": 8,
      "metadata": {
        "colab": {
          "base_uri": "https://localhost:8080/"
        },
        "id": "HnW9QHk5vEEn",
        "outputId": "81e462aa-3f3c-4a5a-e247-1487b1df8d94"
      },
      "outputs": [
        {
          "output_type": "stream",
          "name": "stdout",
          "text": [
            "6 11 13\n",
            "11\n"
          ]
        }
      ],
      "source": [
        "import sys\n",
        "sys.setrecursionlimit(10**8)\n",
        "\n",
        "a, b, c = map(int, sys.stdin.readline().rstrip().split(\" \"))\n",
        "\n",
        "ans = -1\n",
        "\n",
        "def sol(b):\n",
        "  if b == 0:\n",
        "    return 1\n",
        "\n",
        "  if b == 1:\n",
        "    return a % c\n",
        "\n",
        "  tmp = sol(b // 2) % c\n",
        "\n",
        "  if b % 2 == 0:\n",
        "    return tmp * tmp % c\n",
        "  else:\n",
        "    return tmp * tmp % c * a % c \n",
        "\n",
        "ans = sol(b)\n",
        "print(ans)"
      ]
    },
    {
      "cell_type": "markdown",
      "source": [
        "### 10972"
      ],
      "metadata": {
        "id": "M0jdQ7h9zyYa"
      }
    },
    {
      "cell_type": "code",
      "source": [
        "import sys\n",
        "\n",
        "n = int(sys.stdin.readline().strip())\n",
        "ori = list(map(int, sys.stdin.readline().strip().split(\" \")))\n",
        "\n",
        "for i in range(n-1, 0, -1): \n",
        "    if ori[i-1] < ori[i]:\n",
        "        for j in range(n-1, 0, -1): \n",
        "            \n",
        "            if ori[i-1] < ori[j]:\n",
        "                ori[i-1], ori[j] = ori[j], ori[i-1] \n",
        "                ori = ori[:i] + sorted(ori[i:])\n",
        "                print(*ori)\n",
        "                exit()\n",
        "\n",
        "print(-1)"
      ],
      "metadata": {
        "colab": {
          "base_uri": "https://localhost:8080/"
        },
        "id": "N-UrFfHozyoq",
        "outputId": "ff9f9155-29e1-4c7e-e8c9-53df7e903b53"
      },
      "execution_count": 28,
      "outputs": [
        {
          "output_type": "stream",
          "name": "stdout",
          "text": [
            "5\n",
            "5 4 3 2 1\n",
            "-1\n"
          ]
        }
      ]
    },
    {
      "cell_type": "markdown",
      "source": [
        "### 2467"
      ],
      "metadata": {
        "id": "PQW4IAwf6ILL"
      }
    },
    {
      "cell_type": "code",
      "source": [
        "import sys\n",
        "\n",
        "n = int(sys.stdin.readline().strip())\n",
        "liquid = list(map(int, sys.stdin.readline().strip().split(\" \")))\n",
        "\n",
        "liquid.sort()\n",
        "\n",
        "start = 0\n",
        "end = len(liquid)-1\n",
        "hap = abs(liquid[start] + liquid[end])\n",
        "\n",
        "record = [start, end]\n",
        "\n",
        "while start < end:\n",
        "  tmp = liquid[start] + liquid[end]\n",
        "\n",
        "  if abs(tmp) < hap:\n",
        "    hap = abs(tmp)\n",
        "    record = [start, end]\n",
        "\n",
        "    if hap == 0:\n",
        "      break\n",
        "\n",
        "  if tmp < 0 :\n",
        "    start += 1\n",
        "  \n",
        "  else:\n",
        "    end -= 1\n",
        "  \n",
        "print(liquid[record[0]], liquid[record[1]])"
      ],
      "metadata": {
        "colab": {
          "base_uri": "https://localhost:8080/"
        },
        "id": "YV29zMYz6IbS",
        "outputId": "d79c2df4-ecd9-444f-cdc8-cedcafb51f02"
      },
      "execution_count": 30,
      "outputs": [
        {
          "output_type": "stream",
          "name": "stdout",
          "text": [
            "5\n",
            "-99 -2 -1 4 98\n",
            "-99 98\n"
          ]
        }
      ]
    },
    {
      "cell_type": "markdown",
      "source": [
        "---"
      ],
      "metadata": {
        "id": "Ism_cTFRDXbN"
      }
    },
    {
      "cell_type": "markdown",
      "source": [
        "## Programmers"
      ],
      "metadata": {
        "id": "G4hCxpb9DdNy"
      }
    },
    {
      "cell_type": "markdown",
      "source": [
        "### 가운데 글자 가져오기"
      ],
      "metadata": {
        "id": "cDD6E5G0DfpA"
      }
    },
    {
      "cell_type": "code",
      "source": [
        "def solution(s):\n",
        "    if len(s) % 2 == 0:\n",
        "        return s[(len(s)//2)-1:(len(s)//2)+1]\n",
        "    else:\n",
        "        return s[len(s)//2]"
      ],
      "metadata": {
        "id": "NMxL6XnMDfAQ"
      },
      "execution_count": null,
      "outputs": []
    }
  ]
}