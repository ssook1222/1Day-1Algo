{
  "nbformat": 4,
  "nbformat_minor": 0,
  "metadata": {
    "colab": {
      "provenance": [],
      "authorship_tag": "ABX9TyPpmQd34UeZV4YokaMDx4XD",
      "include_colab_link": true
    },
    "kernelspec": {
      "name": "python3",
      "display_name": "Python 3"
    },
    "language_info": {
      "name": "python"
    }
  },
  "cells": [
    {
      "cell_type": "markdown",
      "metadata": {
        "id": "view-in-github",
        "colab_type": "text"
      },
      "source": [
        "<a href=\"https://colab.research.google.com/github/ssook1222/1Day-1Algo/blob/master/ssook/6%EC%9B%94/6%EC%9B%94%201%EC%A3%BC%EC%B0%A8/0603.ipynb\" target=\"_parent\"><img src=\"https://colab.research.google.com/assets/colab-badge.svg\" alt=\"Open In Colab\"/></a>"
      ]
    },
    {
      "cell_type": "markdown",
      "source": [
        "## BoJ"
      ],
      "metadata": {
        "id": "xwACFZpXrCny"
      }
    },
    {
      "cell_type": "markdown",
      "source": [
        "### 11054"
      ],
      "metadata": {
        "id": "oX4jqxHVrU4h"
      }
    },
    {
      "cell_type": "code",
      "execution_count": 1,
      "metadata": {
        "colab": {
          "base_uri": "https://localhost:8080/"
        },
        "id": "1JtG7jM9rAp2",
        "outputId": "07ef73c6-a3e4-4ff7-ff84-1cd9593d04b8"
      },
      "outputs": [
        {
          "output_type": "stream",
          "name": "stdout",
          "text": [
            "10\n",
            "1 5 2 1 4 3 4 5 2 1\n",
            "7\n"
          ]
        }
      ],
      "source": [
        "import sys\n",
        "\n",
        "n = int(sys.stdin.readline().strip())\n",
        "num_list = list(map(int, sys.stdin.readline().strip().split(\" \")))\n",
        "\n",
        "inc = [1] * (n)\n",
        "dec = [1] * (n)\n",
        "\n",
        "bitonic = [0] * (n)\n",
        "\n",
        "for i in range(1, n):\n",
        "  for j in range(i):\n",
        "    if num_list[i] > num_list[j]:\n",
        "      inc[i] = max(inc[i], inc[j]+1)\n",
        "\n",
        "num_list = num_list[::-1]\n",
        "\n",
        "for i in range(1, n):\n",
        "  for j in range(i):\n",
        "    if num_list[i] > num_list[j]:\n",
        "      dec[i] = max(dec[i], dec[j]+1)\n",
        "\n",
        "dec = dec[::-1]\n",
        "\n",
        "for i in range(n):\n",
        "  bitonic[i] = inc[i] + dec[i] - 1\n",
        "\n",
        "print(max(bitonic))"
      ]
    },
    {
      "cell_type": "markdown",
      "source": [
        "### 25192"
      ],
      "metadata": {
        "id": "6Chx4ujxuXG4"
      }
    },
    {
      "cell_type": "code",
      "source": [
        "import sys\n",
        "\n",
        "n = int(sys.stdin.readline().strip())\n",
        "cnt, gom = 0, 0\n",
        "check = {}\n",
        "for i in range(n):\n",
        "  s = sys.stdin.readline().strip()\n",
        "\n",
        "  if s == 'ENTER':\n",
        "    cnt += gom\n",
        "    check = {}\n",
        "    gom = 0\n",
        "  \n",
        "  else:\n",
        "    if s not in check:\n",
        "      check[s] = i\n",
        "      gom += 1\n",
        "    else:\n",
        "      pass\n",
        "cnt += gom\n",
        "print(cnt)"
      ],
      "metadata": {
        "colab": {
          "base_uri": "https://localhost:8080/"
        },
        "id": "GkAMwPZYuXaJ",
        "outputId": "0f1de37a-12c7-4351-acca-70ec60ae9e43"
      },
      "execution_count": 6,
      "outputs": [
        {
          "output_type": "stream",
          "name": "stdout",
          "text": [
            "3\n",
            "ENTER\n",
            "lms0806\n",
            "1\n",
            "lms0806\n",
            "1\n"
          ]
        }
      ]
    },
    {
      "cell_type": "markdown",
      "source": [
        "### 15656"
      ],
      "metadata": {
        "id": "_cxY13DqyN7y"
      }
    },
    {
      "cell_type": "code",
      "source": [
        "import itertools\n",
        "import sys\n",
        "\n",
        "n, m = map(int, sys.stdin.readline().rstrip().split(\" \"))\n",
        "\n",
        "num_list = list(map(int, sys.stdin.readline().rstrip().split(\" \")))\n",
        "num_list.sort()\n",
        "\n",
        "data = itertools.product(num_list, repeat = m)\n",
        "\n",
        "for i in data:\n",
        "  print(*i)"
      ],
      "metadata": {
        "colab": {
          "base_uri": "https://localhost:8080/"
        },
        "id": "c9NXvuFk2YFn",
        "outputId": "3e0b9b21-23b0-4c7b-ed5e-2d0f60953907"
      },
      "execution_count": 24,
      "outputs": [
        {
          "output_type": "stream",
          "name": "stdout",
          "text": [
            "3 1\n",
            "4 5 2\n",
            "2\n",
            "4\n",
            "5\n"
          ]
        }
      ]
    },
    {
      "cell_type": "markdown",
      "source": [
        "---"
      ],
      "metadata": {
        "id": "uXuX4eSI3oLv"
      }
    },
    {
      "cell_type": "markdown",
      "source": [
        "## Programmers"
      ],
      "metadata": {
        "id": "K_mpiQAH3piO"
      }
    },
    {
      "cell_type": "markdown",
      "source": [
        "### 음양 더하기"
      ],
      "metadata": {
        "id": "ewVIkfeN3r7U"
      }
    },
    {
      "cell_type": "code",
      "source": [
        "def solution(absolutes, signs):\n",
        "    answer = 0\n",
        "    \n",
        "    for i in range(len(signs)):\n",
        "        if signs[i] :\n",
        "            answer += absolutes[i]\n",
        "        else:\n",
        "            answer -= absolutes[i]\n",
        "            \n",
        "    return answer"
      ],
      "metadata": {
        "id": "qDHxbPEn3sPw"
      },
      "execution_count": null,
      "outputs": []
    },
    {
      "cell_type": "markdown",
      "source": [
        "### 없는 숫자 더하기"
      ],
      "metadata": {
        "id": "cIAyGDG84Pfu"
      }
    },
    {
      "cell_type": "code",
      "source": [
        "def solution(numbers):\n",
        "    answer = 0\n",
        "    num = [0,1,2,3,4,5,6,7,8,9]\n",
        "    for i in num:\n",
        "        if i not in numbers:\n",
        "            answer += i\n",
        "    \n",
        "    return answer"
      ],
      "metadata": {
        "id": "vpag6PqW4Pvh"
      },
      "execution_count": null,
      "outputs": []
    }
  ]
}