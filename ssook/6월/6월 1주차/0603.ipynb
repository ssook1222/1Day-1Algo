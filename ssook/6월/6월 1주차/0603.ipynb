{
  "nbformat": 4,
  "nbformat_minor": 0,
  "metadata": {
    "colab": {
      "provenance": [],
      "authorship_tag": "ABX9TyMhYw56H57kIznTLost8vQZ",
      "include_colab_link": true
    },
    "kernelspec": {
      "name": "python3",
      "display_name": "Python 3"
    },
    "language_info": {
      "name": "python"
    }
  },
  "cells": [
    {
      "cell_type": "markdown",
      "metadata": {
        "id": "view-in-github",
        "colab_type": "text"
      },
      "source": [
        "<a href=\"https://colab.research.google.com/github/ssook1222/1Day-1Algo/blob/master/ssook/6%EC%9B%94/6%EC%9B%94%201%EC%A3%BC%EC%B0%A8/0603.ipynb\" target=\"_parent\"><img src=\"https://colab.research.google.com/assets/colab-badge.svg\" alt=\"Open In Colab\"/></a>"
      ]
    },
    {
      "cell_type": "markdown",
      "source": [
        "## BoJ"
      ],
      "metadata": {
        "id": "xzTrJPhhVOW4"
      }
    },
    {
      "cell_type": "markdown",
      "source": [
        "### 2004"
      ],
      "metadata": {
        "id": "FV5XiGuFYJsV"
      }
    },
    {
      "cell_type": "markdown",
      "source": [
        "#### 0의 개수이므로, 2와 5의 개수를 세서 더 작은 쪽을 출력"
      ],
      "metadata": {
        "id": "iNbW_0euYNV0"
      }
    },
    {
      "cell_type": "code",
      "source": [
        "def num_count(n, k):\n",
        "  count = 0\n",
        "\n",
        "  while n:\n",
        "    n //= k\n",
        "    count += n\n",
        "  \n",
        "  return count\n",
        "\n",
        "n, m = map(int, input().split(\" \"))\n",
        "\n",
        "count_5 = num_count(n, 5) - num_count(m, 5) - num_count(n-m, 5)\n",
        "count_2 = num_count(n, 2) - num_count(m, 2) - num_count(n-m, 2)\n",
        "\n",
        "print(min(count_5, count_2))"
      ],
      "metadata": {
        "colab": {
          "base_uri": "https://localhost:8080/"
        },
        "id": "bkO3D72iYSFn",
        "outputId": "53a24bca-c40f-4e46-a5a4-d14af3784c99"
      },
      "execution_count": 2,
      "outputs": [
        {
          "output_type": "stream",
          "name": "stdout",
          "text": [
            "25 12\n",
            "2\n"
          ]
        }
      ]
    },
    {
      "cell_type": "markdown",
      "source": [
        "#### 시간초과 : 팩토리얼 사용"
      ],
      "metadata": {
        "id": "tIIIDxLRYLCT"
      }
    },
    {
      "cell_type": "code",
      "execution_count": 1,
      "metadata": {
        "colab": {
          "base_uri": "https://localhost:8080/"
        },
        "id": "mR9kuVx2UGOE",
        "outputId": "11cd0a3d-eb92-47f6-c667-bcd9037074f2"
      },
      "outputs": [
        {
          "output_type": "stream",
          "name": "stdout",
          "text": [
            "25 12\n",
            "2\n"
          ]
        }
      ],
      "source": [
        "import math\n",
        "\n",
        "n, m = map(int, input().split(\" \"))\n",
        "\n",
        "raw_ans = math.factorial(n) / (math.factorial(n-m) * math.factorial(m))\n",
        "ans = 0\n",
        "\n",
        "while raw_ans % 10 == 0:\n",
        "  raw_ans = raw_ans / 10\n",
        "  ans += 1\n",
        "\n",
        "print(ans)"
      ]
    },
    {
      "cell_type": "markdown",
      "source": [
        "### 11004"
      ],
      "metadata": {
        "id": "L37QGmNAZrwW"
      }
    },
    {
      "cell_type": "code",
      "source": [
        "import sys\n",
        "\n",
        "n, k = map(int, sys.stdin.readline().strip().split(\" \"))\n",
        "num_list = list(map(int, sys.stdin.readline().strip().split(\" \")))\n",
        "\n",
        "num_list.sort()\n",
        "print(num_list[k-1])"
      ],
      "metadata": {
        "colab": {
          "base_uri": "https://localhost:8080/"
        },
        "id": "l5f0qy4nZ2dK",
        "outputId": "b80b4836-0c3a-4269-b0fb-4382f62dd601"
      },
      "execution_count": 6,
      "outputs": [
        {
          "output_type": "stream",
          "name": "stdout",
          "text": [
            "5 2\n",
            "4 1 2 3 5\n",
            "2\n"
          ]
        }
      ]
    },
    {
      "cell_type": "markdown",
      "source": [
        "### 5430"
      ],
      "metadata": {
        "id": "AkIvcPz6dUQt"
      }
    },
    {
      "cell_type": "code",
      "source": [
        "import sys\n",
        "from collections import deque\n",
        "\n",
        "t = int(input())\n",
        "\n",
        "for i in range(t):\n",
        "  s = input()\n",
        "  \n",
        "  n = int(input())\n",
        "  num = deque(input()[1:-1].split(','))\n",
        "\n",
        "  if n == 0:\n",
        "      num = deque()\n",
        "\n",
        "  check = False\n",
        "\n",
        "  r = 0\n",
        "  for c in s:\n",
        "    if c == 'R':\n",
        "       r += 1 \n",
        "    elif c == 'D':\n",
        "        if not num:\n",
        "            check = True\n",
        "            print('error')\n",
        "            break\n",
        "        else:\n",
        "            if r % 2 == 0:\n",
        "                num.popleft()\n",
        "            else:\n",
        "                num.pop()\n",
        "\n",
        "  if not check:\n",
        "      if r % 2 == 0:\n",
        "          print(\"[\"+\",\".join(num)+\"]\")\n",
        "      else:\n",
        "          num.reverse()\n",
        "          print(\"[\"+\",\".join(num)+\"]\")"
      ],
      "metadata": {
        "colab": {
          "base_uri": "https://localhost:8080/"
        },
        "id": "wlsYNP85dUyw",
        "outputId": "6ed25176-b023-43b4-9d22-7065647d2bc9"
      },
      "execution_count": 23,
      "outputs": [
        {
          "output_type": "stream",
          "name": "stdout",
          "text": [
            "4\n",
            "RDD\n",
            "4\n",
            "[1,2,3,4]\n",
            "[2,1]\n",
            "DD\n",
            "1\n",
            "[42]\n",
            "error\n",
            "RRD\n",
            "6\n",
            "[1,1,2,3,5,8]\n",
            "[1,2,3,5,8]\n",
            "D\n",
            "0\n",
            "[]\n",
            "error\n"
          ]
        }
      ]
    },
    {
      "cell_type": "markdown",
      "source": [
        "---"
      ],
      "metadata": {
        "id": "wBvpcNO0t6_D"
      }
    },
    {
      "cell_type": "markdown",
      "source": [
        "## Programmers"
      ],
      "metadata": {
        "id": "7eeLJgSZt8Ov"
      }
    },
    {
      "cell_type": "markdown",
      "source": [
        "### 나누어 떨어지는 숫자 배열"
      ],
      "metadata": {
        "id": "U3UsssrPt-Pz"
      }
    },
    {
      "cell_type": "code",
      "source": [
        "def solution(arr, divisor):\n",
        "    answer = []\n",
        "    \n",
        "    for i in arr:\n",
        "        if i % divisor == 0:\n",
        "            answer.append(i)\n",
        "    \n",
        "    if not answer:\n",
        "        answer.append(-1)\n",
        "    \n",
        "    answer.sort()\n",
        "    \n",
        "    return answer"
      ],
      "metadata": {
        "id": "RJFU3KF2t-jE"
      },
      "execution_count": null,
      "outputs": []
    },
    {
      "cell_type": "markdown",
      "source": [
        "### 핸드폰 번호 가리기"
      ],
      "metadata": {
        "id": "37ilqjoEvqFl"
      }
    },
    {
      "cell_type": "code",
      "source": [
        "def solution(phone_number):\n",
        "    return '*' * (len(phone_number) - 4)+phone_number[-4:]"
      ],
      "metadata": {
        "id": "vk7xjeUywOZ9"
      },
      "execution_count": null,
      "outputs": []
    }
  ]
}