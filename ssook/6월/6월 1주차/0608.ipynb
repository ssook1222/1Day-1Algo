{
  "nbformat": 4,
  "nbformat_minor": 0,
  "metadata": {
    "colab": {
      "provenance": [],
      "authorship_tag": "ABX9TyPs9+N3PyASvMd40tvK3bzh",
      "include_colab_link": true
    },
    "kernelspec": {
      "name": "python3",
      "display_name": "Python 3"
    },
    "language_info": {
      "name": "python"
    }
  },
  "cells": [
    {
      "cell_type": "markdown",
      "metadata": {
        "id": "view-in-github",
        "colab_type": "text"
      },
      "source": [
        "<a href=\"https://colab.research.google.com/github/ssook1222/1Day-1Algo/blob/master/ssook/6%EC%9B%94/6%EC%9B%94%201%EC%A3%BC%EC%B0%A8/0608.ipynb\" target=\"_parent\"><img src=\"https://colab.research.google.com/assets/colab-badge.svg\" alt=\"Open In Colab\"/></a>"
      ]
    },
    {
      "cell_type": "markdown",
      "source": [
        "## BoJ"
      ],
      "metadata": {
        "id": "4bAywlgGMBnL"
      }
    },
    {
      "cell_type": "markdown",
      "source": [
        "### 15965"
      ],
      "metadata": {
        "id": "t9sLoCm2MFGc"
      }
    },
    {
      "cell_type": "code",
      "execution_count": null,
      "metadata": {
        "colab": {
          "base_uri": "https://localhost:8080/"
        },
        "id": "iqMBDRylMAvl",
        "outputId": "b7c6d4fc-e694-4e0a-81b9-1b1d0cbdc04e"
      },
      "outputs": [
        {
          "output_type": "stream",
          "name": "stdout",
          "text": [
            "3\n",
            "5\n"
          ]
        }
      ],
      "source": [
        "import sys\n",
        "\n",
        "def prime(n):\n",
        "  num = [False, False] + [True] * (n-1)\n",
        "  primes = []\n",
        "  for i in range(2, n+1):\n",
        "    if num[i] == True:\n",
        "      primes.append(i)\n",
        "\n",
        "      for j in range(2*i, n+1, i):\n",
        "        num[j] = False\n",
        "  return primes\n",
        "\n",
        "primes = prime(10**7)\n",
        "k = int(sys.stdin.readline().strip())\n",
        "\n",
        "print(primes[k-1])"
      ]
    },
    {
      "cell_type": "markdown",
      "source": [
        "### 4963"
      ],
      "metadata": {
        "id": "it-Jsm6UQdi_"
      }
    },
    {
      "cell_type": "code",
      "source": [
        "import sys\n",
        "\n",
        "sys.setrecursionlimit(10000)\n",
        "\n",
        "def dfs(x, y):\n",
        "  visited[x][y] = True\n",
        "  \n",
        "  dx = [0, 1, 0, -1, -1, -1, 1, 1]\n",
        "  dy = [1, 0, -1, 0, -1, 1, 1, -1]\n",
        "\n",
        "  for i in range(8):\n",
        "    nx = x + dx[i]\n",
        "    ny = y + dy[i]\n",
        "\n",
        "    if nx < 0  or nx >= h or ny < 0 or ny >= w :\n",
        "      continue\n",
        "      \n",
        "    if graph[nx][ny] == 1 and visited[nx][ny] == False:\n",
        "        dfs(nx, ny)\n",
        "\n",
        "while True:\n",
        "  w, h = map(int,(sys.stdin.readline().strip().split()))\n",
        "  \n",
        "  if w == 0 and h == 0:\n",
        "      break\n",
        "  \n",
        "  graph = []\n",
        "  visited = [[False]*w for _ in range(h)]\n",
        "  cnt = 0\n",
        "\n",
        "  for _ in range(h):\n",
        "    graph.append(list(map(int, sys.stdin.readline().strip().split())))\n",
        "\n",
        "  for x in range(h):\n",
        "    for y in range(w):\n",
        "      if visited[x][y] == False and graph[x][y] == 1:\n",
        "        dfs(x,y)\n",
        "        cnt += 1\n",
        "\n",
        "  print(cnt)"
      ],
      "metadata": {
        "colab": {
          "base_uri": "https://localhost:8080/"
        },
        "id": "Zw0Yq3v7Qd7d",
        "outputId": "2a3d6736-2b78-46c9-e6e0-6f3b3884bf30"
      },
      "execution_count": 17,
      "outputs": [
        {
          "name": "stdout",
          "output_type": "stream",
          "text": [
            "3 2\n",
            "1 1 1\n",
            "1 1 1\n",
            "1\n",
            "5 4\n",
            "1 0 1 0 0\n",
            "1 0 0 0 0\n",
            "1 0 1 0 1\n",
            "1 0 0 1 0\n",
            "3\n",
            "0 0\n"
          ]
        }
      ]
    },
    {
      "cell_type": "markdown",
      "source": [
        "### 24480"
      ],
      "metadata": {
        "id": "q1zlmLySgoFt"
      }
    },
    {
      "cell_type": "code",
      "source": [
        "import sys\n",
        "\n",
        "sys.setrecursionlimit(10**8)\n",
        "\n",
        "n, m, r = map(int, sys.stdin.readline().strip().split())\n",
        "graph = [[] for i in range(n+1)]\n",
        "visited = [0]*(n+1)\n",
        "cnt = 1\n",
        "\n",
        "def dfs(n):\n",
        "  global cnt\n",
        "  visited[n] = cnt\n",
        "  graph[n].sort(reverse = True)\n",
        "\n",
        "  for i in graph[n]:\n",
        "    if visited[i] == 0:\n",
        "      cnt += 1\n",
        "      dfs(i)\n",
        "\n",
        "for i in range(m):\n",
        "  u, v = map(int, sys.stdin.readline().strip().split())\n",
        "  graph[u].append(v)\n",
        "  graph[v].append(u)\n",
        "  \n",
        "dfs(r)\n",
        "\n",
        "for i in range(1, len(visited)):\n",
        "    print(visited[i])"
      ],
      "metadata": {
        "colab": {
          "base_uri": "https://localhost:8080/"
        },
        "id": "CClKIn3Wgoae",
        "outputId": "9c30130e-c280-4bd0-9f36-d1ad33c89f34"
      },
      "execution_count": 29,
      "outputs": [
        {
          "output_type": "stream",
          "name": "stdout",
          "text": [
            "5 5 1\n",
            "1 4\n",
            "1 2\n",
            "2 3\n",
            "2 4\n",
            "3 4\n",
            "1\n",
            "4\n",
            "3\n",
            "2\n",
            "0\n"
          ]
        }
      ]
    },
    {
      "cell_type": "markdown",
      "source": [
        "---"
      ],
      "metadata": {
        "id": "T39uP6b1MFvU"
      }
    },
    {
      "cell_type": "markdown",
      "source": [
        "## Programmers"
      ],
      "metadata": {
        "id": "p8adCb2KMDHb"
      }
    },
    {
      "cell_type": "markdown",
      "source": [
        "### 부족한 금액 계산하기"
      ],
      "metadata": {
        "id": "baQollp8MFcb"
      }
    },
    {
      "cell_type": "code",
      "source": [
        "def solution(price, money, count):\n",
        "    answer = 0\n",
        "    temp = 0\n",
        "    \n",
        "    for i in range(1, count+1):\n",
        "        temp += price*i\n",
        "    \n",
        "    if money < temp:\n",
        "        answer = abs(money - temp)\n",
        "\n",
        "    return answer"
      ],
      "metadata": {
        "id": "lU7RbRSlME2K"
      },
      "execution_count": null,
      "outputs": []
    },
    {
      "cell_type": "markdown",
      "source": [
        "### 문자열 다루기 기본"
      ],
      "metadata": {
        "id": "gLDCzCgWq_pU"
      }
    },
    {
      "cell_type": "code",
      "source": [
        "def solution(s):\n",
        "    \n",
        "    if len(s) == 4 or len(s) == 6:\n",
        "        if s.isdigit() == True:\n",
        "            return True\n",
        "    \n",
        "    return False"
      ],
      "metadata": {
        "id": "jvv6kHj7q_4E"
      },
      "execution_count": null,
      "outputs": []
    }
  ]
}