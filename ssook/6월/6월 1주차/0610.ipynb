{
  "nbformat": 4,
  "nbformat_minor": 0,
  "metadata": {
    "colab": {
      "provenance": [],
      "authorship_tag": "ABX9TyOVN9Sovih+OjS6knG+kHfk",
      "include_colab_link": true
    },
    "kernelspec": {
      "name": "python3",
      "display_name": "Python 3"
    },
    "language_info": {
      "name": "python"
    }
  },
  "cells": [
    {
      "cell_type": "markdown",
      "metadata": {
        "id": "view-in-github",
        "colab_type": "text"
      },
      "source": [
        "<a href=\"https://colab.research.google.com/github/ssook1222/1Day-1Algo/blob/master/ssook/6%EC%9B%94/6%EC%9B%94%201%EC%A3%BC%EC%B0%A8/0610.ipynb\" target=\"_parent\"><img src=\"https://colab.research.google.com/assets/colab-badge.svg\" alt=\"Open In Colab\"/></a>"
      ]
    },
    {
      "cell_type": "markdown",
      "source": [
        "## BoJ"
      ],
      "metadata": {
        "id": "Gp86SrwW5WoJ"
      }
    },
    {
      "cell_type": "markdown",
      "source": [
        "### 2512"
      ],
      "metadata": {
        "id": "VHppaC2a5W0N"
      }
    },
    {
      "cell_type": "code",
      "execution_count": 11,
      "metadata": {
        "colab": {
          "base_uri": "https://localhost:8080/"
        },
        "id": "Mzq1camr1TaB",
        "outputId": "bb1c1d77-7da1-4d02-8d42-764a0037ae9a"
      },
      "outputs": [
        {
          "output_type": "stream",
          "name": "stdout",
          "text": [
            "5\n",
            "70 80 30 40 100\n",
            "450\n",
            "100\n"
          ]
        }
      ],
      "source": [
        "n = int(input())\n",
        "num_list = list(map(int, input().split(\" \")))\n",
        "ori = int(input())\n",
        "\n",
        "num_list.sort()\n",
        "\n",
        "hap = sum(num_list)\n",
        "\n",
        "if hap < n :\n",
        "  print(max(num_list))\n",
        "\n",
        "else:\n",
        "  start = 0\n",
        "  end = max(num_list)\n",
        "\n",
        "  while start <= end :\n",
        "    mid = (start + end) // 2\n",
        "    total = 0\n",
        "\n",
        "    for num in num_list:\n",
        "      total += min(num, mid)\n",
        "\n",
        "    if total > ori:\n",
        "      end = mid - 1\n",
        "    \n",
        "    else :\n",
        "      start = mid + 1\n",
        "\n",
        "  print(end)"
      ]
    },
    {
      "cell_type": "markdown",
      "source": [
        "### 7562"
      ],
      "metadata": {
        "id": "7fJ6EUKC5lDg"
      }
    },
    {
      "cell_type": "code",
      "source": [
        "import collections\n",
        "\n",
        "t = int(input())\n",
        "\n",
        "def bfs(x, y):\n",
        "\n",
        "  visited = [[False] * l for _ in range(l)]\n",
        "  dist = [[0] * l for _ in range(l)]\n",
        "\n",
        "  dx = [-2, -1, 1, 2, 2, 1, -1, -2]\n",
        "  dy = [1, 2, 2, 1, -1, -2, -2, -1]\n",
        "\n",
        "  deq = collections.deque()\n",
        "  deq.append((x, y))\n",
        "  visited[x][y] = True\n",
        "\n",
        "  while deq:\n",
        "    cur_x, cur_y = deq.popleft()\n",
        "\n",
        "    if cur_x == dest_x and cur_y == dest_y:\n",
        "        return dist[cur_x][cur_y]\n",
        "\n",
        "    for i in range(8):\n",
        "        nx = cur_x + dx[i]\n",
        "        ny = cur_y + dy[i]\n",
        "\n",
        "        if 0 <= nx < l and 0 <= ny < l and not visited[nx][ny]:\n",
        "            visited[nx][ny] = True\n",
        "            dist[nx][ny] = dist[cur_x][cur_y] + 1\n",
        "            deq.append((nx, ny))\n",
        "\n",
        "  return -1\n",
        "\n",
        "for i in range(t):\n",
        "  l = int(input())\n",
        "\n",
        "  cur_x, cur_y = map(int, input().split())\n",
        "  dest_x, dest_y = map(int, input().split())\n",
        "  print(bfs(cur_x, cur_y, 1))"
      ],
      "metadata": {
        "id": "5sFUqIJO5lVD"
      },
      "execution_count": null,
      "outputs": []
    },
    {
      "cell_type": "markdown",
      "source": [
        "---"
      ],
      "metadata": {
        "id": "4oBVbMj89Av4"
      }
    },
    {
      "cell_type": "markdown",
      "source": [
        "## Programmers"
      ],
      "metadata": {
        "id": "4upbT-h29BaN"
      }
    },
    {
      "cell_type": "markdown",
      "source": [
        "### 직사각형 별 찍기"
      ],
      "metadata": {
        "id": "oOIeczXn9DMz"
      }
    },
    {
      "cell_type": "code",
      "source": [
        "a, b = map(int, input().strip().split(' '))\n",
        "for i in range(b):\n",
        "    line = \"*\" * a\n",
        "    print(line)"
      ],
      "metadata": {
        "id": "VWHbDYYo9DaV"
      },
      "execution_count": null,
      "outputs": []
    },
    {
      "cell_type": "markdown",
      "source": [
        "### 같은 숫자는 싫어"
      ],
      "metadata": {
        "id": "SlxVruXF-NVJ"
      }
    },
    {
      "cell_type": "code",
      "source": [
        "def solution(arr):\n",
        "    answer = []\n",
        "    \n",
        "    for i in range(len(arr)):\n",
        "        if arr[i] not in answer:\n",
        "            answer.append(arr[i])\n",
        "        else:\n",
        "            if arr[i] != arr[i-1]:\n",
        "                answer.append(arr[i])\n",
        "    \n",
        "    return answer"
      ],
      "metadata": {
        "id": "tTbYK4Pl-O6w"
      },
      "execution_count": null,
      "outputs": []
    }
  ]
}