{
  "nbformat": 4,
  "nbformat_minor": 0,
  "metadata": {
    "colab": {
      "provenance": [],
      "authorship_tag": "ABX9TyOH2jzCmPrSV+FkdUvrdGCt",
      "include_colab_link": true
    },
    "kernelspec": {
      "name": "python3",
      "display_name": "Python 3"
    },
    "language_info": {
      "name": "python"
    }
  },
  "cells": [
    {
      "cell_type": "markdown",
      "metadata": {
        "id": "view-in-github",
        "colab_type": "text"
      },
      "source": [
        "<a href=\"https://colab.research.google.com/github/ssook1222/1Day-1Algo/blob/master/ssook/6%EC%9B%94/6%EC%9B%94%201%EC%A3%BC%EC%B0%A8/0612.ipynb\" target=\"_parent\"><img src=\"https://colab.research.google.com/assets/colab-badge.svg\" alt=\"Open In Colab\"/></a>"
      ]
    },
    {
      "cell_type": "markdown",
      "source": [
        "## BoJ"
      ],
      "metadata": {
        "id": "qtCyQP1Tz7y4"
      }
    },
    {
      "cell_type": "markdown",
      "source": [
        "### 1205"
      ],
      "metadata": {
        "id": "cjaZ-0dY0C3H"
      }
    },
    {
      "cell_type": "code",
      "execution_count": 26,
      "metadata": {
        "colab": {
          "base_uri": "https://localhost:8080/"
        },
        "id": "-VHpyq6Mz2Td",
        "outputId": "968c4ff3-f7aa-42b7-8cc9-890db7c4a369"
      },
      "outputs": [
        {
          "output_type": "stream",
          "name": "stdout",
          "text": [
            "3 90 10\n",
            "100 90 80\n",
            "2\n"
          ]
        }
      ],
      "source": [
        "import sys\n",
        "\n",
        "n, score, p = map(int, sys.stdin.readline().strip().split(\" \"))\n",
        "\n",
        "if n != 0:\n",
        "  num_list = list(map(int, sys.stdin.readline().strip().split(\" \")))\n",
        "  \n",
        "  if n == p and num_list[-1] >= score:\n",
        "    print(-1)\n",
        "  else:\n",
        "    rank = n + 1\n",
        "    for i in range(n):\n",
        "      if num_list[i] <= score:\n",
        "        rank = i + 1\n",
        "        break\n",
        "    print(rank)\n",
        "else:\n",
        "  print(1)"
      ]
    },
    {
      "cell_type": "markdown",
      "source": [
        "### 11725"
      ],
      "metadata": {
        "id": "JvtFNgU00DJt"
      }
    },
    {
      "cell_type": "code",
      "source": [
        "n = int(input())\n",
        "\n",
        "visited = [False] * (n)\n",
        "graph = []\n",
        "res = []\n",
        "\n",
        "for i in range(n):\n",
        "  u, v = map(int, input().split(\" \"))\n",
        "  graph[u].append(v)\n",
        "  graph[v].append(u)\n",
        "\n",
        "def dfs(n):\n",
        "  for i in graph[n]:\n",
        "    visited[i] = True\n",
        "    res.append(i)\n",
        "    dfs(n)\n",
        "\n",
        "print(*res)"
      ],
      "metadata": {
        "id": "7fV1y5ij0DYv"
      },
      "execution_count": null,
      "outputs": []
    },
    {
      "cell_type": "markdown",
      "source": [
        "### 9251"
      ],
      "metadata": {
        "id": "zU8dqvKSTtFr"
      }
    },
    {
      "cell_type": "markdown",
      "source": [
        "### ★ 나중에 다시 한 번 풀어보기"
      ],
      "metadata": {
        "id": "BwMScyl_VuEs"
      }
    },
    {
      "cell_type": "code",
      "source": [
        "def lcs_length(s1, s2):\n",
        "  m = len(s1)\n",
        "  n = len(s2)\n",
        "\n",
        "  dp = [[0] * (n+1) for _ in range(m+1)]\n",
        "\n",
        "  for i in range(1, m+1):\n",
        "    for j in range(1, n+1):\n",
        "      if s1[i-1] == s2[j-1]:\n",
        "        dp[i][j] = dp[i-1][j-1] + 1\n",
        "      else:\n",
        "        dp[i][j] = max(dp[i-1][j], dp[i][j-1])\n",
        "  return dp[m][n]\n",
        "\n",
        "s1 = input()\n",
        "s2 = input()\n",
        "\n",
        "lcs_length = lcs_length(s1, s2)\n",
        "\n",
        "print(lcs_length)"
      ],
      "metadata": {
        "id": "Yf5m013PTtW3"
      },
      "execution_count": null,
      "outputs": []
    },
    {
      "cell_type": "markdown",
      "source": [
        "- dp[i][j]    \n",
        ": 문자열 s1의 첫 i개 문자와 문자열 s2의 첫 j개 문자 사이의 LCS의 길이를 저장하는 테이블,    \n",
        "두 개의 반복문을 사용하여 dp 테이블 계산.      \n",
        "i는 s1의 문자 인덱스를, j는 s2의 문자 인덱스를 의미.    \n",
        "\n",
        "- if s1[i - 1] == s2[j - 1]:       \n",
        ": s1의 i번째 문자와 s2의 j번째 문자가 같은 경우,             \n",
        "이 경우, 현재 문자들을 포함하여 LCS의 길이가 1 증가.      \n",
        " 따라서 dp[i][j]는 dp[i - 1][j - 1] + 1.       \n",
        "\n",
        "- else:       \n",
        ": s1의 i번째 문자와 s2의 j번째 문자가 다른 경우,       \n",
        "이 경우, s1의 i번째 문자를 포함하지 않거나 s2의 j번째 문자를 포함하지 않는 두 가지 선택지가 가능.           \n",
        "이 중에서 더 큰 길이를 가지는 LCS를 선택하여 dp[i][j]에 저장.          \n",
        "즉, dp[i][j]는 max(dp[i - 1][j], dp[i][j - 1]).              \n",
        "\n",
        "이렇게 모든 i와 j에 대해 dp 테이블을 계산하면,   \n",
        "마지막으로 계산된 dp[m][n]에는 주어진 두 문자열의 LCS의 길이가 저장.   "
      ],
      "metadata": {
        "id": "N1zXG6kiVDG4"
      }
    },
    {
      "cell_type": "markdown",
      "source": [
        "---"
      ],
      "metadata": {
        "id": "4EXnD2Kf0B4G"
      }
    },
    {
      "cell_type": "markdown",
      "source": [
        "## Programmers"
      ],
      "metadata": {
        "id": "msjPpiaCz_55"
      }
    },
    {
      "cell_type": "code",
      "source": [],
      "metadata": {
        "id": "XD10uibF0BOp"
      },
      "execution_count": null,
      "outputs": []
    }
  ]
}