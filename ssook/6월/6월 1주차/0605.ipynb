{
  "nbformat": 4,
  "nbformat_minor": 0,
  "metadata": {
    "colab": {
      "provenance": [],
      "authorship_tag": "ABX9TyMmymgYV5ZZUEk/cD5hnnZh",
      "include_colab_link": true
    },
    "kernelspec": {
      "name": "python3",
      "display_name": "Python 3"
    },
    "language_info": {
      "name": "python"
    }
  },
  "cells": [
    {
      "cell_type": "markdown",
      "metadata": {
        "id": "view-in-github",
        "colab_type": "text"
      },
      "source": [
        "<a href=\"https://colab.research.google.com/github/ssook1222/1Day-1Algo/blob/master/ssook/6%EC%9B%94/6%EC%9B%94%201%EC%A3%BC%EC%B0%A8/0605.ipynb\" target=\"_parent\"><img src=\"https://colab.research.google.com/assets/colab-badge.svg\" alt=\"Open In Colab\"/></a>"
      ]
    },
    {
      "cell_type": "markdown",
      "source": [
        "## BoJ"
      ],
      "metadata": {
        "id": "VTr30F_k-VyK"
      }
    },
    {
      "cell_type": "markdown",
      "source": [
        "### 1431"
      ],
      "metadata": {
        "id": "Q11jsUPmy1bC"
      }
    },
    {
      "cell_type": "code",
      "execution_count": 2,
      "metadata": {
        "colab": {
          "base_uri": "https://localhost:8080/"
        },
        "id": "t4vWukwByBRJ",
        "outputId": "66ee7b29-12e6-4fa6-d882-4f756e9c3b77"
      },
      "outputs": [
        {
          "output_type": "stream",
          "name": "stdout",
          "text": [
            "2\n",
            "Z19\n",
            "Z20\n",
            "Z20\n",
            "Z19\n"
          ]
        }
      ],
      "source": [
        "import sys\n",
        "\n",
        "def n_sum(n):\n",
        "  res = 0\n",
        "  for i in n:\n",
        "    if i.isdigit():\n",
        "      res += int(i)\n",
        "  return res\n",
        "\n",
        "n = int(sys.stdin.readline().strip())\n",
        "word = []\n",
        "\n",
        "for i in range(n):\n",
        "  word.append(sys.stdin.readline().strip())\n",
        "\n",
        "word.sort(key = lambda x:(len(x), n_sum(x), x))\n",
        "\n",
        "for wr in word:\n",
        "  print(wr)"
      ]
    },
    {
      "cell_type": "markdown",
      "source": [
        "### 12904"
      ],
      "metadata": {
        "id": "7HMjqRcg1JQj"
      }
    },
    {
      "cell_type": "code",
      "source": [
        "import sys\n",
        "\n",
        "s = list(sys.stdin.readline().strip())\n",
        "t = list(sys.stdin.readline().strip())\n",
        "check = False\n",
        "\n",
        "while len(t) > 0:\n",
        "  if t[-1] == 'A':\n",
        "    t.pop()\n",
        "  elif t[-1] == 'B':\n",
        "    t.pop()\n",
        "    t.reverse()\n",
        "  \n",
        "  if s == t:\n",
        "    check = True\n",
        "    break\n",
        "\n",
        "if check:\n",
        "  print(1)\n",
        "else:\n",
        "  print(0)\n"
      ],
      "metadata": {
        "colab": {
          "base_uri": "https://localhost:8080/"
        },
        "id": "yPgVFoHB6LjD",
        "outputId": "5cd13fc8-d381-4cd9-bb6a-18b21f4ae46c"
      },
      "execution_count": 5,
      "outputs": [
        {
          "output_type": "stream",
          "name": "stdout",
          "text": [
            "AB\n",
            "ABB\n",
            "0\n"
          ]
        }
      ]
    },
    {
      "cell_type": "markdown",
      "source": [
        "---"
      ],
      "metadata": {
        "id": "HFmeSeXw-TL5"
      }
    },
    {
      "cell_type": "markdown",
      "source": [
        "## Programmers"
      ],
      "metadata": {
        "id": "iMy0bzcw-Usj"
      }
    },
    {
      "cell_type": "markdown",
      "source": [
        "### 수박수박수박수박수박수?"
      ],
      "metadata": {
        "id": "GOmFV43A-Y9l"
      }
    },
    {
      "cell_type": "code",
      "source": [
        "def solution(n):\n",
        "    answer = ''\n",
        "    \n",
        "    for i in range(1, n+1):\n",
        "        if i % 2 == 0:\n",
        "            answer += '박'\n",
        "        else:\n",
        "            answer += '수'\n",
        "    \n",
        "    return answer"
      ],
      "metadata": {
        "id": "PhEt2UuD-ZSY"
      },
      "execution_count": null,
      "outputs": []
    }
  ]
}