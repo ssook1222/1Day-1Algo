{
  "nbformat": 4,
  "nbformat_minor": 0,
  "metadata": {
    "colab": {
      "provenance": [],
      "authorship_tag": "ABX9TyM/dMEvzzJSHDNYhpdmkJb4",
      "include_colab_link": true
    },
    "kernelspec": {
      "name": "python3",
      "display_name": "Python 3"
    },
    "language_info": {
      "name": "python"
    }
  },
  "cells": [
    {
      "cell_type": "markdown",
      "metadata": {
        "id": "view-in-github",
        "colab_type": "text"
      },
      "source": [
        "<a href=\"https://colab.research.google.com/github/ssook1222/1Day-1Algo/blob/master/ssook/6%EC%9B%94/6%EC%9B%94%201%EC%A3%BC%EC%B0%A8/0606.ipynb\" target=\"_parent\"><img src=\"https://colab.research.google.com/assets/colab-badge.svg\" alt=\"Open In Colab\"/></a>"
      ]
    },
    {
      "cell_type": "markdown",
      "source": [
        "## BoJ"
      ],
      "metadata": {
        "id": "P7rIFko1HQIi"
      }
    },
    {
      "cell_type": "markdown",
      "source": [
        "### 11441"
      ],
      "metadata": {
        "id": "U3gFyA0vLFWp"
      }
    },
    {
      "cell_type": "code",
      "execution_count": 20,
      "metadata": {
        "colab": {
          "base_uri": "https://localhost:8080/"
        },
        "id": "sSP9R8qJHB42",
        "outputId": "f199357b-69bc-4682-d100-d34af673d724"
      },
      "outputs": [
        {
          "output_type": "stream",
          "name": "stdout",
          "text": [
            "5\n",
            "10 20 30 40 50\n",
            "10 30 60 100 150\n",
            "5\n",
            "1 3\n",
            "60\n",
            "2 4\n",
            "90\n",
            "3 5\n",
            "120\n",
            "1 5\n",
            "150\n",
            "4 4\n",
            "40\n"
          ]
        }
      ],
      "source": [
        "import sys\n",
        "\n",
        "n = int(sys.stdin.readline().strip())\n",
        "num = list(map(int, sys.stdin.readline().strip().split(\" \")))\n",
        "n_sum= [num[0]]\n",
        "\n",
        "for t in range(1, n):\n",
        "  n_sum.append(n_sum[-1]+num[t])\n",
        "\n",
        "m = int(sys.stdin.readline().strip())\n",
        "\n",
        "for i in range(m):\n",
        "  start, end = map(int, sys.stdin.readline().strip().split(\" \"))\n",
        "\n",
        "  if start != 1:\n",
        "    print(n_sum[end-1] - n_sum[start-2])\n",
        "  elif start == 1:\n",
        "    print(n_sum[end-1])"
      ]
    },
    {
      "cell_type": "markdown",
      "source": [
        "### 2606"
      ],
      "metadata": {
        "id": "9uJ8IQYMLq5Q"
      }
    },
    {
      "cell_type": "code",
      "source": [
        "import sys\n",
        "\n",
        "cnt = 0\n",
        "\n",
        "n = int(sys.stdin.readline().strip())\n",
        "m = int(sys.stdin.readline().strip())\n",
        "\n",
        "graph = [ []*n for i in range(n+1) ]\n",
        "visited = [ False ] * (n+1)\n",
        "\n",
        "def dfs(k):\n",
        "  global cnt\n",
        "  visited[k] = True\n",
        "  for i in graph[k]:\n",
        "    if visited[i] == False:\n",
        "      dfs(i)\n",
        "      cnt += 1\n",
        "\n",
        "for _ in range(m):\n",
        "  a, b = map(int, sys.stdin.readline().strip().split())\n",
        "  graph[a].append(b)\n",
        "  graph[b].append(a)\n",
        "\n",
        "dfs(1)\n",
        "print(cnt)"
      ],
      "metadata": {
        "colab": {
          "base_uri": "https://localhost:8080/"
        },
        "id": "djO8DwgvLrK1",
        "outputId": "ac32c78c-12f9-4427-cc3a-9bea134b0408"
      },
      "execution_count": 25,
      "outputs": [
        {
          "output_type": "stream",
          "name": "stdout",
          "text": [
            "7\n",
            "6\n",
            "1 2\n",
            "2 3\n",
            "1 5\n",
            "5 2\n",
            "5 6\n",
            "4 7\n",
            "4\n"
          ]
        }
      ]
    },
    {
      "cell_type": "markdown",
      "source": [
        "---"
      ],
      "metadata": {
        "id": "OxPEYUshOeBX"
      }
    },
    {
      "cell_type": "markdown",
      "source": [
        "### 내적"
      ],
      "metadata": {
        "id": "Azt8helWOe_3"
      }
    },
    {
      "cell_type": "code",
      "source": [
        "def solution(a, b):\n",
        "    answer = 0\n",
        "    for i in range(len(a)):\n",
        "        answer += a[i] * b[i]\n",
        "    return answer"
      ],
      "metadata": {
        "id": "zeai6vPiOsl7"
      },
      "execution_count": null,
      "outputs": []
    }
  ]
}