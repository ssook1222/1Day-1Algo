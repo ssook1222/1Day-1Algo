{
  "nbformat": 4,
  "nbformat_minor": 0,
  "metadata": {
    "colab": {
      "provenance": [],
      "authorship_tag": "ABX9TyOZjV5thoDBh0cHOHxcROfS",
      "include_colab_link": true
    },
    "kernelspec": {
      "name": "python3",
      "display_name": "Python 3"
    },
    "language_info": {
      "name": "python"
    }
  },
  "cells": [
    {
      "cell_type": "markdown",
      "metadata": {
        "id": "view-in-github",
        "colab_type": "text"
      },
      "source": [
        "<a href=\"https://colab.research.google.com/github/ssook1222/1Day-1Algo/blob/master/ssook/6%EC%9B%94/6%EC%9B%94%201%EC%A3%BC%EC%B0%A8/0601.ipynb\" target=\"_parent\"><img src=\"https://colab.research.google.com/assets/colab-badge.svg\" alt=\"Open In Colab\"/></a>"
      ]
    },
    {
      "cell_type": "markdown",
      "source": [
        "## BoJ"
      ],
      "metadata": {
        "id": "FR5auqNvKTMD"
      }
    },
    {
      "cell_type": "markdown",
      "source": [
        "### 11722"
      ],
      "metadata": {
        "id": "K4byVBJxI5t3"
      }
    },
    {
      "cell_type": "code",
      "execution_count": 3,
      "metadata": {
        "colab": {
          "base_uri": "https://localhost:8080/"
        },
        "id": "-wywupqbI34X",
        "outputId": "672c2a81-a445-41ce-e1de-c184ff6e7710"
      },
      "outputs": [
        {
          "output_type": "stream",
          "name": "stdout",
          "text": [
            "6\n",
            "10 30 10 20 20 10\n",
            "3\n"
          ]
        }
      ],
      "source": [
        "import sys\n",
        "\n",
        "n = int(sys.stdin.readline().strip())\n",
        "num_list = list(map(int, sys.stdin.readline().strip().split(\" \")))\n",
        "dp = [1] * (n)\n",
        "\n",
        "for i in range(1, n):\n",
        "  for j in range(i):\n",
        "    if num_list[j] > num_list[i]:\n",
        "      dp[i] = max(dp[i], dp[j]+1)\n",
        "\n",
        "print(max(dp))"
      ]
    },
    {
      "cell_type": "markdown",
      "source": [
        "### 2559"
      ],
      "metadata": {
        "id": "CMgCmES6QZs4"
      }
    },
    {
      "cell_type": "code",
      "source": [
        "import sys\n",
        "\n",
        "n, k = map(int, sys.stdin.readline().strip().split(\" \"))\n",
        "num_list = list(map(int, sys.stdin.readline().strip().split(\" \")))\n",
        "\n",
        "result = [sum(num_list[:k])]\n",
        "\n",
        "for i in range(1, n-k+1):\n",
        "    tmp = result[-1] + num_list[i+k-1] - num_list[i-1]\n",
        "    result.append(tmp)\n",
        "\n",
        "print(max(result))"
      ],
      "metadata": {
        "colab": {
          "base_uri": "https://localhost:8080/"
        },
        "id": "fW1bTtaNQZ98",
        "outputId": "82446796-6af2-4409-e75d-4731fe98ee76"
      },
      "execution_count": 6,
      "outputs": [
        {
          "output_type": "stream",
          "name": "stdout",
          "text": [
            "10 5\n",
            "3 -2 -4 -9 0 3 7 13 8 -3\n",
            "31\n"
          ]
        }
      ]
    },
    {
      "cell_type": "markdown",
      "source": [
        "---"
      ],
      "metadata": {
        "id": "dIFJLWJ3eF2M"
      }
    },
    {
      "cell_type": "markdown",
      "source": [
        "### Programmers"
      ],
      "metadata": {
        "id": "gxQDe2GpeGn0"
      }
    },
    {
      "cell_type": "markdown",
      "source": [
        "### 서울에서 김서방 찾기"
      ],
      "metadata": {
        "id": "tXMTQSxqfWd9"
      }
    },
    {
      "cell_type": "code",
      "source": [
        "def solution(seoul):\n",
        "    return '김서방은 ' + str(seoul.index('Kim')) + '에 있다'"
      ],
      "metadata": {
        "id": "bG5i3rabeJt6"
      },
      "execution_count": null,
      "outputs": []
    }
  ]
}