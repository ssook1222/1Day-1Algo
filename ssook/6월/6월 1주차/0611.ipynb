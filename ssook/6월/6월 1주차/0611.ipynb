{
  "nbformat": 4,
  "nbformat_minor": 0,
  "metadata": {
    "colab": {
      "provenance": [],
      "authorship_tag": "ABX9TyPqGnRLcPkgxio1mK6NdZvb",
      "include_colab_link": true
    },
    "kernelspec": {
      "name": "python3",
      "display_name": "Python 3"
    },
    "language_info": {
      "name": "python"
    }
  },
  "cells": [
    {
      "cell_type": "markdown",
      "metadata": {
        "id": "view-in-github",
        "colab_type": "text"
      },
      "source": [
        "<a href=\"https://colab.research.google.com/github/ssook1222/1Day-1Algo/blob/master/ssook/6%EC%9B%94/6%EC%9B%94%201%EC%A3%BC%EC%B0%A8/0611.ipynb\" target=\"_parent\"><img src=\"https://colab.research.google.com/assets/colab-badge.svg\" alt=\"Open In Colab\"/></a>"
      ]
    },
    {
      "cell_type": "markdown",
      "source": [
        "## BoJ"
      ],
      "metadata": {
        "id": "OZ3R25-AtnzF"
      }
    },
    {
      "cell_type": "markdown",
      "source": [
        "### 15664"
      ],
      "metadata": {
        "id": "9i_36vBWskPD"
      }
    },
    {
      "cell_type": "code",
      "execution_count": 11,
      "metadata": {
        "colab": {
          "base_uri": "https://localhost:8080/"
        },
        "id": "U5RaOf6Qr3Ex",
        "outputId": "7bef1a9a-1d22-467b-a57a-9f94fead1e3e"
      },
      "outputs": [
        {
          "output_type": "stream",
          "name": "stdout",
          "text": [
            "4 2\n",
            "9 7 9 1\n",
            "1 7\n",
            "1 9\n",
            "7 9\n",
            "9 9\n"
          ]
        }
      ],
      "source": [
        "import itertools\n",
        "import sys\n",
        "\n",
        "n, m = map(int, sys.stdin.readline().strip().split(\" \"))\n",
        "num_list = list(map(int,(sys.stdin.readline().strip().split(\" \"))))\n",
        "\n",
        "num_list.sort()\n",
        "\n",
        "data = itertools.combinations(num_list, m)\n",
        "data = sorted(list(set(data)))\n",
        "\n",
        "for i in data:\n",
        "  print(*i)"
      ]
    },
    {
      "cell_type": "markdown",
      "source": [
        "### 17427"
      ],
      "metadata": {
        "id": "r2J2Ps64uZIj"
      }
    },
    {
      "cell_type": "code",
      "source": [
        "import sys\n",
        "\n",
        "n = int(sys.stdin.readline().strip())\n",
        "hap = 0\n",
        "\n",
        "for i in range(1, n+1):\n",
        "  hap += (n // i) * i\n",
        "\n",
        "print(int(hap))"
      ],
      "metadata": {
        "colab": {
          "base_uri": "https://localhost:8080/"
        },
        "id": "qpxWKyl-uZhv",
        "outputId": "27ea9204-1111-4bf9-eb0f-4530cb6e2629"
      },
      "execution_count": 15,
      "outputs": [
        {
          "output_type": "stream",
          "name": "stdout",
          "text": [
            "2\n",
            "4\n"
          ]
        }
      ]
    },
    {
      "cell_type": "markdown",
      "source": [
        "---"
      ],
      "metadata": {
        "id": "P1WuLVgrtpSv"
      }
    },
    {
      "cell_type": "markdown",
      "source": [
        "## Programmers"
      ],
      "metadata": {
        "id": "VzecNxRIyBMx"
      }
    },
    {
      "cell_type": "markdown",
      "source": [
        "### 3진법 뒤집기"
      ],
      "metadata": {
        "id": "VjoLA_f9vfvy"
      }
    },
    {
      "cell_type": "code",
      "source": [
        "def change3(n):\n",
        "    digits = []\n",
        "    \n",
        "    while n > 0 :\n",
        "        m = n % 3\n",
        "        n = n // 3\n",
        "        digits.insert(0, str(m))\n",
        "    return digits\n",
        "\n",
        "def solution(n):\n",
        "    num_list = change3(n)\n",
        "    answer = int(''.join(num_list)[::-1], 3)\n",
        "    return answer"
      ],
      "metadata": {
        "id": "f7CtsXo1x9uN"
      },
      "execution_count": null,
      "outputs": []
    }
  ]
}