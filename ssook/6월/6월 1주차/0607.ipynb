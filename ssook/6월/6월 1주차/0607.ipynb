{
  "nbformat": 4,
  "nbformat_minor": 0,
  "metadata": {
    "colab": {
      "provenance": [],
      "authorship_tag": "ABX9TyNH8x8RqlylY40Umfi+iZzi",
      "include_colab_link": true
    },
    "kernelspec": {
      "name": "python3",
      "display_name": "Python 3"
    },
    "language_info": {
      "name": "python"
    }
  },
  "cells": [
    {
      "cell_type": "markdown",
      "metadata": {
        "id": "view-in-github",
        "colab_type": "text"
      },
      "source": [
        "<a href=\"https://colab.research.google.com/github/ssook1222/1Day-1Algo/blob/master/ssook/6%EC%9B%94/6%EC%9B%94%201%EC%A3%BC%EC%B0%A8/0607.ipynb\" target=\"_parent\"><img src=\"https://colab.research.google.com/assets/colab-badge.svg\" alt=\"Open In Colab\"/></a>"
      ]
    },
    {
      "cell_type": "markdown",
      "source": [
        "## BoJ"
      ],
      "metadata": {
        "id": "P-8NAhKPkbzr"
      }
    },
    {
      "cell_type": "markdown",
      "source": [
        "### 2553"
      ],
      "metadata": {
        "id": "u2EPBXHpBx2C"
      }
    },
    {
      "cell_type": "code",
      "execution_count": 2,
      "metadata": {
        "id": "h6UINZeSkZqq",
        "colab": {
          "base_uri": "https://localhost:8080/"
        },
        "outputId": "b57a0e11-e161-4120-ceda-d8fb9842ec01"
      },
      "outputs": [
        {
          "output_type": "stream",
          "name": "stdout",
          "text": [
            "5\n",
            "2\n"
          ]
        }
      ],
      "source": [
        "import math\n",
        "import sys\n",
        "\n",
        "n = int(sys.stdin.readline().strip())\n",
        "raw1 = math.factorial(n)\n",
        "raw2 = str(raw1)\n",
        "\n",
        "ans = ''\n",
        "\n",
        "for i in raw2:\n",
        "  if i != '0':\n",
        "    ans += i\n",
        "\n",
        "print(ans[-1])"
      ]
    },
    {
      "cell_type": "markdown",
      "source": [
        "### 1012"
      ],
      "metadata": {
        "id": "YaJBQWIHDXe7"
      }
    },
    {
      "cell_type": "code",
      "source": [
        "import sys\n",
        "\n",
        "sys.setrecursionlimit(10**8)\n",
        "\n",
        "def dfs(x, y):\n",
        "    dx = [1, -1, 0, 0]\n",
        "    dy = [0, 0, 1, -1]\n",
        "\n",
        "    for i in range(4):\n",
        "        nx = x + dx[i]\n",
        "        ny = y + dy[i]\n",
        "        \n",
        "        if (0 <= nx < m) and (0 <= ny < n):\n",
        "            if vat[ny][nx] == 1:\n",
        "                vat[ny][nx] = -1 #방문한 경우\n",
        "                dfs(nx, ny)\n",
        "\n",
        "\n",
        "t = int(sys.stdin.readline().strip())\n",
        "\n",
        "for i in range(t):\n",
        "  m, n, k = map(int, sys.stdin.readline().strip().split(\" \"))\n",
        "  vat = [[0]*m for i in range(n)]\n",
        "  result = 0\n",
        "\n",
        "  for i in range(k):\n",
        "    x, y = map(int, sys.stdin.readline().strip().split(\" \"))\n",
        "    vat[y][x] = 1\n",
        "  \n",
        "  for i in range(m):\n",
        "      for j in range(n):\n",
        "          if vat[j][i] == 1:\n",
        "              dfs(i, j)\n",
        "              result += 1\n",
        "\n",
        "  print(result)"
      ],
      "metadata": {
        "colab": {
          "base_uri": "https://localhost:8080/"
        },
        "id": "tjVGqw35DX6R",
        "outputId": "487d01b6-9053-4a42-d1dd-81b5b4097eef"
      },
      "execution_count": 6,
      "outputs": [
        {
          "output_type": "stream",
          "name": "stdout",
          "text": [
            "2\n",
            "10 8 17\n",
            "0 0\n",
            "1 0\n",
            "1 1\n",
            "4 2\n",
            "4 3\n",
            "4 5\n",
            "2 4\n",
            "3 4\n",
            "7 4\n",
            "8 4\n",
            "9 4\n",
            "7 5\n",
            "8 5\n",
            "9 5\n",
            "7 6\n",
            "8 6\n",
            "9 6\n",
            "5\n"
          ]
        }
      ]
    },
    {
      "cell_type": "markdown",
      "source": [
        "### 24479"
      ],
      "metadata": {
        "id": "5WDsaZh0VeHw"
      }
    },
    {
      "cell_type": "code",
      "source": [
        "n, m, r = map(int, input().split(\" \"))\n",
        "\n",
        "graph = [[]*n for i in range(n+1)]\n",
        "visited = [False] * (n+1)\n",
        "cnt = 1\n",
        "\n",
        "def dfs(n):\n",
        "  visited[n] = True\n",
        "\n",
        "  for i in graph[n]:\n",
        "    if visited[i] == False:\n",
        "      dfs(i)\n",
        "      cnt += 1\n",
        "\n",
        "for i in range(m):\n",
        "  u, v = map(int, input().split(\" \"))\n",
        "  graph[u].append(v)\n",
        "  graph[v].append(u)\n",
        "\n",
        "for i in range(n+1):\n",
        "  graph[i].sort()\n",
        "\n",
        "dfs(r)\n",
        "\n",
        "print(*visited)"
      ],
      "metadata": {
        "colab": {
          "base_uri": "https://localhost:8080/"
        },
        "id": "WNBsz5OxVeVb",
        "outputId": "3fe05764-79f3-4fd3-9f20-0a778042d6e0"
      },
      "execution_count": 8,
      "outputs": [
        {
          "output_type": "stream",
          "name": "stdout",
          "text": [
            "5 5 1\n",
            "1 4\n",
            "1 2\n",
            "2 3\n",
            "2 4\n",
            "3 4\n",
            "3\n",
            "2\n",
            "4\n"
          ]
        }
      ]
    },
    {
      "cell_type": "markdown",
      "source": [
        "---"
      ],
      "metadata": {
        "id": "2bFtT_I6kdri"
      }
    },
    {
      "cell_type": "markdown",
      "source": [
        "## Programmers"
      ],
      "metadata": {
        "id": "o4i_X2-fkels"
      }
    },
    {
      "cell_type": "markdown",
      "source": [
        "### 약수의 개수와 덧셈"
      ],
      "metadata": {
        "id": "vV_j2fElc8fu"
      }
    },
    {
      "cell_type": "code",
      "source": [
        "def prime(n):\n",
        "    num = []\n",
        "    for i in range(1, n+1):\n",
        "        if n % i == 0:\n",
        "            num.append(i)\n",
        "    return num\n",
        "\n",
        "def solution(left, right):\n",
        "    answer = 0\n",
        "    for i in range(left, right+1):\n",
        "        n_list = prime(i)\n",
        "    \n",
        "        if len(n_list) % 2 == 0:\n",
        "            answer += i\n",
        "        else:\n",
        "            answer -= i\n",
        "            \n",
        "    return answer"
      ],
      "metadata": {
        "id": "SpZjdAnnkgWD"
      },
      "execution_count": null,
      "outputs": []
    },
    {
      "cell_type": "markdown",
      "source": [
        "### 문자열 내림차순으로 배치하기"
      ],
      "metadata": {
        "id": "CZ7q5Ufadixk"
      }
    },
    {
      "cell_type": "code",
      "source": [
        "def solution(s):\n",
        "    s = sorted(list(s), reverse = True) \n",
        "    return ''.join(s)"
      ],
      "metadata": {
        "id": "nW4j2n8edjHV"
      },
      "execution_count": null,
      "outputs": []
    }
  ]
}