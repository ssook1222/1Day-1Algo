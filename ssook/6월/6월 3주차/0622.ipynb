{
  "nbformat": 4,
  "nbformat_minor": 0,
  "metadata": {
    "colab": {
      "provenance": [],
      "authorship_tag": "ABX9TyNOk+SvspFvr5LNCqSiDqTW",
      "include_colab_link": true
    },
    "kernelspec": {
      "name": "python3",
      "display_name": "Python 3"
    },
    "language_info": {
      "name": "python"
    }
  },
  "cells": [
    {
      "cell_type": "markdown",
      "metadata": {
        "id": "view-in-github",
        "colab_type": "text"
      },
      "source": [
        "<a href=\"https://colab.research.google.com/github/ssook1222/1Day-1Algo/blob/master/ssook/6%EC%9B%94/6%EC%9B%94%203%EC%A3%BC%EC%B0%A8/0622.ipynb\" target=\"_parent\"><img src=\"https://colab.research.google.com/assets/colab-badge.svg\" alt=\"Open In Colab\"/></a>"
      ]
    },
    {
      "cell_type": "markdown",
      "source": [
        "## BoJ"
      ],
      "metadata": {
        "id": "mTdZ-EsZThVY"
      }
    },
    {
      "cell_type": "markdown",
      "source": [
        "### 10819"
      ],
      "metadata": {
        "id": "UweVjHh_V11O"
      }
    },
    {
      "cell_type": "code",
      "source": [
        "import itertools\n",
        "\n",
        "n = int(input())\n",
        "num_list = list(map(int, input().split(\" \")))\n",
        "\n",
        "max_diff = float('-inf')\n",
        "\n",
        "for i in itertools.permutations(num_list):\n",
        "  ans = 0\n",
        "  for j in range(n-1):\n",
        "    ans += abs(i[j] - i[j+1])\n",
        "  max_diff = max(max_diff, ans)\n",
        "\n",
        "print(max_diff)"
      ],
      "metadata": {
        "colab": {
          "base_uri": "https://localhost:8080/"
        },
        "id": "nq6Um3xPV2DC",
        "outputId": "dc6b07c1-0231-4e76-ec95-cd306bf8baaa"
      },
      "execution_count": 4,
      "outputs": [
        {
          "output_type": "stream",
          "name": "stdout",
          "text": [
            "6\n",
            "20 1 15 8 4 10\n",
            "62\n"
          ]
        }
      ]
    },
    {
      "cell_type": "markdown",
      "source": [
        "### 1388"
      ],
      "metadata": {
        "id": "n8ha5sL0xw5z"
      }
    },
    {
      "cell_type": "code",
      "source": [
        "import sys\n",
        "\n",
        "n, m = map(int, sys.stdin.readline().rstrip().split())\n",
        "visited = [[False] * m for _ in range(n)]\n",
        "graph = [list(sys.stdin.readline().rstrip()) for _ in range(n)]\n",
        "\n",
        "cnt = 0\n",
        "\n",
        "def dfs(x, y):\n",
        "    global cnt\n",
        "\n",
        "    if (0 <= x < m) and (0 <= y < n):\n",
        "      if visited[y][x] == False:\n",
        "        visited[y][x] = True\n",
        "\n",
        "        if graph[y][x] == '-':\n",
        "            if x + 1 < m and graph[y][x + 1] == '-':\n",
        "                dfs(x + 1, y)\n",
        "            else:\n",
        "                cnt += 1\n",
        "\n",
        "        elif graph[y][x] == '|':\n",
        "            if y + 1 < n and graph[y + 1][x] == '|':\n",
        "                dfs(x, y + 1)\n",
        "            else:\n",
        "                cnt += 1\n",
        "\n",
        "for i in range(n):\n",
        "    for j in range(m):\n",
        "        if visited[i][j] == False:\n",
        "            dfs(j, i)\n",
        "\n",
        "print(cnt)\n"
      ],
      "metadata": {
        "colab": {
          "base_uri": "https://localhost:8080/"
        },
        "id": "onzSvY_iwyuZ",
        "outputId": "0ae57ca7-b86a-4df7-d3b7-092cdbe71344"
      },
      "execution_count": 13,
      "outputs": [
        {
          "output_type": "stream",
          "name": "stdout",
          "text": [
            "4 4\n",
            "----\n",
            "----\n",
            "----\n",
            "----\n",
            "4\n"
          ]
        }
      ]
    },
    {
      "cell_type": "markdown",
      "source": [
        "### 18352"
      ],
      "metadata": {
        "id": "pXlGc_uuTqxZ"
      }
    },
    {
      "cell_type": "code",
      "source": [
        "from collections import deque\n",
        "import sys\n",
        "\n",
        "n, m, k, x = map(int, sys.stdin.readline().rstrip().split(\" \"))\n",
        "graph =  [ [] for _ in range(n+1) ]\n",
        "dist = [0] * (n+1)\n",
        "visited = [False] * (n+1)\n",
        "\n",
        "for i in range(m):\n",
        "  a, b = map(int, sys.stdin.readline().rstrip().split(\" \"))\n",
        "  graph[a].append(b)\n",
        "\n",
        "def bfs(s):\n",
        "  ans = []\n",
        "  q = deque([s])\n",
        "\n",
        "  visited[s] = True\n",
        "  dist[s] = 0\n",
        "\n",
        "  while q:\n",
        "    now = q.popleft()\n",
        "\n",
        "    for i in graph[now]:\n",
        "\n",
        "      if visited[i] == False:\n",
        "        visited[i] = True\n",
        "        q.append(i)\n",
        "\n",
        "        dist[i] = dist[now] + 1\n",
        "\n",
        "        if dist[i] == k:\n",
        "          ans.append(i)\n",
        "\n",
        "  return ans\n",
        "\n",
        "answer_list = bfs(x)\n",
        "\n",
        "if not answer_list:\n",
        "  print(-1)\n",
        "\n",
        "else:\n",
        "  answer_list.sort()\n",
        "\n",
        "  for ans in answer_list:\n",
        "    print(ans)\n"
      ],
      "metadata": {
        "colab": {
          "base_uri": "https://localhost:8080/"
        },
        "id": "nQBaAiu-TrAT",
        "outputId": "7b8327d5-072e-446b-ec35-36b18923cc34"
      },
      "execution_count": 15,
      "outputs": [
        {
          "output_type": "stream",
          "name": "stdout",
          "text": [
            "4 3 2 1\n",
            "1 2\n",
            "1 3\n",
            "1 4\n",
            "-1\n"
          ]
        }
      ]
    },
    {
      "cell_type": "markdown",
      "source": [
        "---"
      ],
      "metadata": {
        "id": "-uq1x4oOTrZ_"
      }
    },
    {
      "cell_type": "markdown",
      "source": [
        "## Programmers"
      ],
      "metadata": {
        "id": "tRFvanYlTsoN"
      }
    },
    {
      "cell_type": "markdown",
      "source": [
        "### 로또의 최고 순위와 최저 순위"
      ],
      "metadata": {
        "id": "lqh0LdaAT9Ix"
      }
    },
    {
      "cell_type": "code",
      "source": [
        "def solution(lottos, win_nums):\n",
        "    lottos.sort()\n",
        "    win_nums.sort()\n",
        "\n",
        "    cnt = 0\n",
        "\n",
        "    for i in range(len(lottos)):\n",
        "        if lottos[i] == 0:\n",
        "            cnt += 1\n",
        "\n",
        "    answer = []\n",
        "    tmp = []\n",
        "\n",
        "    for i in range(len(lottos)):\n",
        "        if lottos[i] in win_nums:\n",
        "            tmp.append(lottos[i])\n",
        "\n",
        "    max_cnt = len(tmp) + cnt\n",
        "    min_cnt = len(tmp)\n",
        "\n",
        "    if max_cnt == 6:\n",
        "        answer.append(1)\n",
        "    elif max_cnt == 5:\n",
        "        answer.append(2)\n",
        "    elif max_cnt == 4:\n",
        "        answer.append(3)\n",
        "    elif max_cnt == 3:\n",
        "        answer.append(4)\n",
        "    elif max_cnt == 2:\n",
        "        answer.append(5)\n",
        "    else:\n",
        "        answer.append(6)\n",
        "\n",
        "    if min_cnt == 6:\n",
        "        answer.append(1)\n",
        "    elif min_cnt == 5:\n",
        "        answer.append(2)\n",
        "    elif min_cnt == 4:\n",
        "        answer.append(3)\n",
        "    elif min_cnt == 3:\n",
        "        answer.append(4)\n",
        "    elif min_cnt == 2:\n",
        "        answer.append(5)\n",
        "    else:\n",
        "        answer.append(6)\n",
        "\n",
        "    return answer"
      ],
      "metadata": {
        "id": "WzFdnhBkT9XZ"
      },
      "execution_count": null,
      "outputs": []
    }
  ]
}