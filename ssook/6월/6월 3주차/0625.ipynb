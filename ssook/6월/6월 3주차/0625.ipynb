{
  "nbformat": 4,
  "nbformat_minor": 0,
  "metadata": {
    "colab": {
      "provenance": [],
      "authorship_tag": "ABX9TyPOUfQf4KtdSuKSgNd6ROUM",
      "include_colab_link": true
    },
    "kernelspec": {
      "name": "python3",
      "display_name": "Python 3"
    },
    "language_info": {
      "name": "python"
    }
  },
  "cells": [
    {
      "cell_type": "markdown",
      "metadata": {
        "id": "view-in-github",
        "colab_type": "text"
      },
      "source": [
        "<a href=\"https://colab.research.google.com/github/ssook1222/1Day-1Algo/blob/master/ssook/6%EC%9B%94/6%EC%9B%94%203%EC%A3%BC%EC%B0%A8/0625.ipynb\" target=\"_parent\"><img src=\"https://colab.research.google.com/assets/colab-badge.svg\" alt=\"Open In Colab\"/></a>"
      ]
    },
    {
      "cell_type": "markdown",
      "source": [
        "## BoJ"
      ],
      "metadata": {
        "id": "Bp2VFxsep2jJ"
      }
    },
    {
      "cell_type": "markdown",
      "source": [
        "### 25191"
      ],
      "metadata": {
        "id": "ye1s05avq1KG"
      }
    },
    {
      "cell_type": "code",
      "execution_count": null,
      "metadata": {
        "colab": {
          "base_uri": "https://localhost:8080/"
        },
        "id": "7yCrvHFVp0_5",
        "outputId": "95c413b9-a689-41fd-eaf2-84e14db40153"
      },
      "outputs": [
        {
          "output_type": "stream",
          "name": "stdout",
          "text": [
            "3\n",
            "4 2\n",
            "3\n"
          ]
        }
      ],
      "source": [
        "n = int(input())\n",
        "a, b = map(int, input().split(\" \"))\n",
        "\n",
        "if n >= a//2+b:\n",
        "  print((a//2+b))\n",
        "\n",
        "else:\n",
        "  print(n)"
      ]
    },
    {
      "cell_type": "markdown",
      "source": [
        "### 26068"
      ],
      "metadata": {
        "id": "-udS3xJirH80"
      }
    },
    {
      "cell_type": "code",
      "source": [
        "n = int(input())\n",
        "cnt = 0\n",
        "\n",
        "for i in range(n):\n",
        "  day = int(input()[2:])\n",
        "  if day > 90:\n",
        "    pass\n",
        "  else:\n",
        "    cnt += 1\n",
        "\n",
        "print(cnt)"
      ],
      "metadata": {
        "colab": {
          "base_uri": "https://localhost:8080/"
        },
        "id": "EbvFjx82rISr",
        "outputId": "3411d61d-4349-4fa0-9d55-a50a7f67648e"
      },
      "execution_count": null,
      "outputs": [
        {
          "output_type": "stream",
          "name": "stdout",
          "text": [
            "3\n",
            "D-86\n",
            "D-8\n",
            "D-6\n",
            "3\n"
          ]
        }
      ]
    },
    {
      "cell_type": "markdown",
      "source": [
        "---"
      ],
      "metadata": {
        "id": "MWRW92EsqFdR"
      }
    },
    {
      "cell_type": "markdown",
      "source": [
        "## Programmers"
      ],
      "metadata": {
        "id": "DLiXTwD1qCtx"
      }
    },
    {
      "cell_type": "markdown",
      "source": [
        "### 숫자 짝꿍"
      ],
      "metadata": {
        "id": "BqM7lfUVWxjC"
      }
    },
    {
      "cell_type": "code",
      "source": [
        "from collections import Counter\n",
        "\n",
        "def solution(X, Y):\n",
        "    x_count = Counter(X)\n",
        "    y_count = Counter(Y)\n",
        "\n",
        "    common_nums = set(x_count.keys()) & set(y_count.keys())\n",
        "\n",
        "    result = ''\n",
        "    for num in sorted(common_nums, reverse=True):\n",
        "        pairs = min(x_count[num], y_count[num])\n",
        "        result += num * pairs\n",
        "\n",
        "    if not result:\n",
        "        return '-1'\n",
        "    elif result == '0' * len(result):\n",
        "        return '0'\n",
        "    else:\n",
        "        return result\n"
      ],
      "metadata": {
        "id": "BHNlXZ1rqEw2"
      },
      "execution_count": null,
      "outputs": []
    }
  ]
}