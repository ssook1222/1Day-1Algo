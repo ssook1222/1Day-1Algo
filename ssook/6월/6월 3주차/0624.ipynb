{
  "nbformat": 4,
  "nbformat_minor": 0,
  "metadata": {
    "colab": {
      "provenance": [],
      "authorship_tag": "ABX9TyMYfkpE8HyKGJHAM+3nbFnu",
      "include_colab_link": true
    },
    "kernelspec": {
      "name": "python3",
      "display_name": "Python 3"
    },
    "language_info": {
      "name": "python"
    }
  },
  "cells": [
    {
      "cell_type": "markdown",
      "metadata": {
        "id": "view-in-github",
        "colab_type": "text"
      },
      "source": [
        "<a href=\"https://colab.research.google.com/github/ssook1222/1Day-1Algo/blob/master/ssook/6%EC%9B%94/6%EC%9B%94%203%EC%A3%BC%EC%B0%A8/0624.ipynb\" target=\"_parent\"><img src=\"https://colab.research.google.com/assets/colab-badge.svg\" alt=\"Open In Colab\"/></a>"
      ]
    },
    {
      "cell_type": "markdown",
      "source": [
        "##BoJ"
      ],
      "metadata": {
        "id": "uMB6Nq93Q7o9"
      }
    },
    {
      "cell_type": "markdown",
      "source": [
        "### 1926"
      ],
      "metadata": {
        "id": "2BnxsI54Q_kk"
      }
    },
    {
      "cell_type": "code",
      "source": [
        "import sys\n",
        "\n",
        "sys.setrecursionlimit(10**8)\n",
        "\n",
        "n, m = map(int, sys.stdin.readline().strip().split(\" \"))\n",
        "\n",
        "visited = [[False] * m for _ in range(n)]\n",
        "graph = [list(map(int, sys.stdin.readline().strip().split(\" \"))) for _ in range(n)]\n",
        "cnt = 0\n",
        "max_area = 0\n",
        "\n",
        "def dfs(x, y):\n",
        "    global max_area\n",
        "\n",
        "    dx = [0, 1, 0, -1]\n",
        "    dy = [1, 0, -1, 0]\n",
        "    tmp_cnt = 1\n",
        "\n",
        "    for i in range(4):\n",
        "        nx = x + dx[i]\n",
        "        ny = y + dy[i]\n",
        "\n",
        "        if 0 <= nx < n and 0 <= ny < m and not visited[nx][ny]:\n",
        "            visited[nx][ny] = True\n",
        "\n",
        "            if graph[nx][ny] == 1:\n",
        "                tmp_cnt += dfs(nx, ny)\n",
        "\n",
        "    max_area = max(max_area, tmp_cnt)\n",
        "    return tmp_cnt\n",
        "\n",
        "for i in range(n):\n",
        "    for j in range(m):\n",
        "        if graph[i][j] == 1 and not visited[i][j]:\n",
        "            visited[i][j] = True\n",
        "            cnt += 1\n",
        "            area = dfs(i, j)\n",
        "\n",
        "print(cnt)\n",
        "print(max_area)\n"
      ],
      "metadata": {
        "colab": {
          "base_uri": "https://localhost:8080/"
        },
        "id": "x5WY53dFQ9w4",
        "outputId": "ab8e26b3-c18d-4138-9d9a-5466314acb0f"
      },
      "execution_count": 6,
      "outputs": [
        {
          "output_type": "stream",
          "name": "stdout",
          "text": [
            "6 5\n",
            "1 1 0 1 1\n",
            "0 1 1 0 0\n",
            "0 0 0 0 0\n",
            "1 0 1 1 1\n",
            "0 0 1 1 1\n",
            "0 0 1 1 1\n",
            "0\n"
          ]
        }
      ]
    },
    {
      "cell_type": "markdown",
      "source": [
        "### 1697"
      ],
      "metadata": {
        "id": "PbREj1lDdCBI"
      }
    },
    {
      "cell_type": "code",
      "source": [
        "from collections import deque\n",
        "import sys\n",
        "\n",
        "def bfs(start, target):\n",
        "    visited = [False] * 100001\n",
        "    queue = deque([(start, 0)])  # (위치, 시간)을 저장하는 큐\n",
        "\n",
        "    while queue:\n",
        "        position, time = queue.popleft()\n",
        "\n",
        "        if position == target:\n",
        "            return time\n",
        "\n",
        "        next_positions = [position - 1, position + 1]\n",
        "        next_positions.append(position * 2)\n",
        "\n",
        "        for next_pos in next_positions:\n",
        "            if 0 <= next_pos <= 100000 and not visited[next_pos]:\n",
        "                visited[next_pos] = True\n",
        "                queue.append((next_pos, time + 1))\n",
        "\n",
        "N, K = map(int, sys.stdin.readline().rstrip().split())\n",
        "\n",
        "result = bfs(N, K)\n",
        "print(result)"
      ],
      "metadata": {
        "id": "r3BQK9QFdCZt"
      },
      "execution_count": null,
      "outputs": []
    },
    {
      "cell_type": "markdown",
      "source": [
        "## Programmers"
      ],
      "metadata": {
        "id": "gUMhUUgZQ7mY"
      }
    },
    {
      "cell_type": "markdown",
      "source": [
        "### 소수의 개수 구하기"
      ],
      "metadata": {
        "id": "e6s5RoPzUC19"
      }
    },
    {
      "cell_type": "code",
      "execution_count": 5,
      "metadata": {
        "colab": {
          "base_uri": "https://localhost:8080/"
        },
        "id": "f-j3LQhSQ2c6",
        "outputId": "dec2c3db-d274-49b6-c8b8-e08033760461"
      },
      "outputs": [
        {
          "output_type": "stream",
          "name": "stdout",
          "text": [
            "1,2,3,4\n",
            "1\n"
          ]
        }
      ],
      "source": [
        "def primes(n):\n",
        "  num = [False, False] + [True] * (n+1)\n",
        "  prime = []\n",
        "  for i in range(2, len(num)):\n",
        "    for j in range(2*i, len(num), i):\n",
        "      num[j] = False\n",
        "\n",
        "  for k in range(len(num)):\n",
        "    if num[k] == True:\n",
        "      prime.append(k)\n",
        "  return prime\n",
        "\n",
        "answer = 0\n",
        "prime_num = primes(3500)\n",
        "\n",
        "nums = list(map(int, input().split(',')))\n",
        "\n",
        "for i in range(len(nums)):\n",
        "  for j in range(i+1, len(nums)):\n",
        "    for k in range(j+1, len(nums)):\n",
        "      if nums[i] + nums[j] + nums[k] in prime_num:\n",
        "        answer += 1\n",
        "\n",
        "print(answer)"
      ]
    }
  ]
}