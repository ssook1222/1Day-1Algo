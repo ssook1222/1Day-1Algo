{
  "nbformat": 4,
  "nbformat_minor": 0,
  "metadata": {
    "colab": {
      "provenance": [],
      "authorship_tag": "ABX9TyOF+Taz1SvYw/vX8Gxzb45V",
      "include_colab_link": true
    },
    "kernelspec": {
      "name": "python3",
      "display_name": "Python 3"
    },
    "language_info": {
      "name": "python"
    }
  },
  "cells": [
    {
      "cell_type": "markdown",
      "metadata": {
        "id": "view-in-github",
        "colab_type": "text"
      },
      "source": [
        "<a href=\"https://colab.research.google.com/github/ssook1222/1Day-1Algo/blob/master/ssook/6%EC%9B%94/6%EC%9B%94%203%EC%A3%BC%EC%B0%A8/0623.ipynb\" target=\"_parent\"><img src=\"https://colab.research.google.com/assets/colab-badge.svg\" alt=\"Open In Colab\"/></a>"
      ]
    },
    {
      "cell_type": "markdown",
      "source": [
        "## BoJ"
      ],
      "metadata": {
        "id": "LJ5j6cNEI-B9"
      }
    },
    {
      "cell_type": "markdown",
      "source": [
        "### 3184"
      ],
      "metadata": {
        "id": "mOf8VkGUKF4E"
      }
    },
    {
      "cell_type": "code",
      "execution_count": 1,
      "metadata": {
        "id": "L8SpUQ7mI4r0",
        "colab": {
          "base_uri": "https://localhost:8080/"
        },
        "outputId": "c23b3203-88ea-4442-c60a-f83babfcb835"
      },
      "outputs": [
        {
          "output_type": "stream",
          "name": "stdout",
          "text": [
            "6 6\n",
            "...#..\n",
            ".##v#.\n",
            "#v.#.#\n",
            "#.o#.#\n",
            ".###.#\n",
            "...###\n",
            "0 2\n"
          ]
        }
      ],
      "source": [
        "import sys\n",
        "\n",
        "sys.setrecursionlimit(10**8)\n",
        "\n",
        "r, c = map(int, sys.stdin.readline().rstrip().split())\n",
        "visited = [ [False] * c for _ in range(r) ]\n",
        "graph = [ list(map(str, sys.stdin.readline().rstrip())) for _ in range(r) ]\n",
        "\n",
        "o_cnt = 0\n",
        "v_cnt = 0\n",
        "\n",
        "wolf = 0\n",
        "sheep = 0\n",
        "\n",
        "def dfs(x, y):\n",
        "    global o_cnt, v_cnt\n",
        "\n",
        "    if x < 0 or x >= r or y < 0 or y >= c:\n",
        "        return\n",
        "\n",
        "    if visited[x][y]:\n",
        "        return\n",
        "\n",
        "    visited[x][y] = True\n",
        "\n",
        "    if graph[x][y] == '#':\n",
        "        return\n",
        "\n",
        "    if graph[x][y] == 'v':\n",
        "        v_cnt += 1\n",
        "\n",
        "    if graph[x][y] == 'o':\n",
        "        o_cnt += 1\n",
        "\n",
        "    dfs(x + 1, y)\n",
        "    dfs(x - 1, y)\n",
        "    dfs(x, y + 1)\n",
        "    dfs(x, y - 1)\n",
        "\n",
        "for i in range(r):\n",
        "    for j in range(c):\n",
        "        if not visited[i][j] and graph[i][j] != '#':\n",
        "            o_cnt = 0\n",
        "            v_cnt = 0\n",
        "            dfs(i, j)\n",
        "\n",
        "            if v_cnt >= o_cnt:\n",
        "                wolf += v_cnt\n",
        "            else:\n",
        "                sheep += o_cnt\n",
        "\n",
        "print(sheep, wolf)"
      ]
    },
    {
      "cell_type": "markdown",
      "source": [],
      "metadata": {
        "id": "LJ1zkxavk-7N"
      }
    },
    {
      "cell_type": "code",
      "source": [
        "from collections import deque\n",
        "\n",
        "r, c = map(int, input().split())\n",
        "visited = [ [False] * c for _ in range(r) ]\n",
        "graph = [ list(map(str, input())) for _ in range(r) ]\n",
        "\n",
        "o_cnt = 0\n",
        "v_cnt = 0\n",
        "\n",
        "def bfs(x, y):\n",
        "\n",
        "  global o_cnt, v_cnt\n",
        "  o_cnt_local = 0\n",
        "  v_cnt_local = 0\n",
        "\n",
        "  q = deque([(x, y)])\n",
        "  visited[x][y] = True\n",
        "\n",
        "  while q:\n",
        "    x, y = q.popleft()\n",
        "\n",
        "    if x < 0 or x >= r or y < 0 or y >= c or visited[x][y] or graph[x][y] == '#':\n",
        "          return\n",
        "\n",
        "    visited[x][y] = True\n",
        "\n",
        "    if graph[x][y] == '#':\n",
        "      return\n",
        "\n",
        "    if graph[x][y] == 'v':\n",
        "        v_cnt_local += 1\n",
        "    elif graph[x][y] == 'o':\n",
        "        o_cnt_local += 1\n",
        "\n",
        "\n",
        "    q.append((x+1, y))\n",
        "    q.append((x, y+1))\n",
        "    q.append((x - 1, y))\n",
        "    q.append((x, y - 1))\n",
        "\n",
        "    # if o_cnt_local > v_cnt_local:\n",
        "    #     o_cnt += o_cnt_local\n",
        "    # else:\n",
        "    #     v_cnt += v_cnt_local\n",
        "\n",
        "    o_cnt += o_cnt_local\n",
        "    v_cnt += v_cnt_local\n",
        "\n",
        "for i in range(r):\n",
        "    for j in range(c):\n",
        "        if not visited[i][j] and (graph[i][j] == 'v' or graph[i][j] == 'o'):\n",
        "            bfs(i, j)\n",
        "\n",
        "print(o_cnt, v_cnt)"
      ],
      "metadata": {
        "colab": {
          "base_uri": "https://localhost:8080/"
        },
        "id": "9VkPTkt6k_KY",
        "outputId": "35305464-9072-4776-94c9-1fd12589fc02"
      },
      "execution_count": 2,
      "outputs": [
        {
          "output_type": "stream",
          "name": "stdout",
          "text": [
            "6 6\n",
            "...#..\n",
            ".##v#.\n",
            "#v.#.#\n",
            "#.k#.#\n",
            ".###.#\n",
            "...###\n",
            "0 0\n"
          ]
        }
      ]
    },
    {
      "cell_type": "markdown",
      "source": [
        "### 3187"
      ],
      "metadata": {
        "id": "nSJQvc56u1Og"
      }
    },
    {
      "cell_type": "code",
      "source": [
        "from collections import deque\n",
        "import sys\n",
        "\n",
        "R, C = map(int, sys.stdin.readline().rstrip().split())\n",
        "\n",
        "area = [list(sys.stdin.readline().rstrip()) for _ in range(R)]\n",
        "\n",
        "visited = [[False] * C for _ in range(R)]\n",
        "\n",
        "dx = [-1, 1, 0, 0]\n",
        "dy = [0, 0, -1, 1]\n",
        "\n",
        "sheep_count = 0\n",
        "wolf_count = 0\n",
        "\n",
        "def bfs(x, y):\n",
        "    global sheep_count, wolf_count\n",
        "    sheep = 0\n",
        "    wolf = 0\n",
        "\n",
        "    queue = deque([(x, y)])\n",
        "    visited[x][y] = True\n",
        "\n",
        "    while queue:\n",
        "        x, y = queue.popleft()\n",
        "\n",
        "        if area[x][y] == 'k':\n",
        "            sheep += 1\n",
        "        elif area[x][y] == 'v':\n",
        "            wolf += 1\n",
        "\n",
        "        for i in range(4):\n",
        "            nx = x + dx[i]\n",
        "            ny = y + dy[i]\n",
        "\n",
        "            if 0 <= nx < R and 0 <= ny < C and area[nx][ny] != '#' and not visited[nx][ny]:\n",
        "                queue.append((nx, ny))\n",
        "                visited[nx][ny] = True\n",
        "\n",
        "    if sheep > wolf:\n",
        "        sheep_count += sheep\n",
        "    else:\n",
        "        wolf_count += wolf\n",
        "\n",
        "for i in range(R):\n",
        "    for j in range(C):\n",
        "        if not visited[i][j] and (area[i][j] == 'k' or area[i][j] == 'v'):\n",
        "            bfs(i, j)\n",
        "\n",
        "print(sheep_count, wolf_count)\n"
      ],
      "metadata": {
        "id": "bRD3Xknru1fc"
      },
      "execution_count": null,
      "outputs": []
    },
    {
      "cell_type": "markdown",
      "source": [
        "---"
      ],
      "metadata": {
        "id": "jPE9e-LZI_C2"
      }
    },
    {
      "cell_type": "markdown",
      "source": [
        "## Programmers"
      ],
      "metadata": {
        "id": "otXGdhdSI-ih"
      }
    },
    {
      "cell_type": "markdown",
      "source": [
        "### 예산"
      ],
      "metadata": {
        "id": "eBWEIXt_wXlN"
      }
    },
    {
      "cell_type": "code",
      "source": [
        "def solution(d, budget):\n",
        "    answer = 0\n",
        "\n",
        "    d.sort()\n",
        "\n",
        "    for i in range(len(d)):\n",
        "        if budget - d[i] >= 0:\n",
        "            budget -= d[i]\n",
        "            answer += 1\n",
        "        else:\n",
        "            break\n",
        "\n",
        "    return answer"
      ],
      "metadata": {
        "id": "jneoLLfiI-1E"
      },
      "execution_count": null,
      "outputs": []
    }
  ]
}