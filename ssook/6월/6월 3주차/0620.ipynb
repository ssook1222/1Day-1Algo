{
  "nbformat": 4,
  "nbformat_minor": 0,
  "metadata": {
    "colab": {
      "provenance": [],
      "authorship_tag": "ABX9TyOnF2DtHa7RZwGWlCwiDpAh",
      "include_colab_link": true
    },
    "kernelspec": {
      "name": "python3",
      "display_name": "Python 3"
    },
    "language_info": {
      "name": "python"
    }
  },
  "cells": [
    {
      "cell_type": "markdown",
      "metadata": {
        "id": "view-in-github",
        "colab_type": "text"
      },
      "source": [
        "<a href=\"https://colab.research.google.com/github/ssook1222/1Day-1Algo/blob/master/ssook/6%EC%9B%94/6%EC%9B%94%203%EC%A3%BC%EC%B0%A8/0620.ipynb\" target=\"_parent\"><img src=\"https://colab.research.google.com/assets/colab-badge.svg\" alt=\"Open In Colab\"/></a>"
      ]
    },
    {
      "cell_type": "markdown",
      "source": [
        "## BoJ"
      ],
      "metadata": {
        "id": "9btY7qRi_z1G"
      }
    },
    {
      "cell_type": "markdown",
      "source": [
        "### 17103"
      ],
      "metadata": {
        "id": "FiT6HM16_4P9"
      }
    },
    {
      "cell_type": "code",
      "execution_count": 8,
      "metadata": {
        "colab": {
          "base_uri": "https://localhost:8080/"
        },
        "id": "gyElLKXv_yl_",
        "outputId": "8e22bc0e-b823-4239-96aa-7cec8d0b22ae"
      },
      "outputs": [
        {
          "output_type": "stream",
          "name": "stdout",
          "text": [
            "5\n",
            "6\n",
            "1\n",
            "8\n",
            "1\n",
            "10\n",
            "2\n",
            "12\n",
            "1\n",
            "100\n",
            "6\n"
          ]
        }
      ],
      "source": [
        "import sys\n",
        "\n",
        "def prime(n):\n",
        "  num = [False, False] + [True] * (n-1)\n",
        "\n",
        "  for i in range(2, n+1):\n",
        "    if num[i] == True:\n",
        "      for j in range(2*i, n+1, i):\n",
        "        num[j] = False\n",
        "\n",
        "  return num\n",
        "\n",
        "t = int(input())\n",
        "prime_num = prime(1000001)\n",
        "\n",
        "for i in range(t):\n",
        "  m = int(sys.stdin.readline().strip())\n",
        "  cnt = 0\n",
        "  for j in range(2, m//2+1):\n",
        "    if prime_num[j] and prime_num[m-j]:\n",
        "      cnt += 1\n",
        "\n",
        "  print(cnt)"
      ]
    },
    {
      "cell_type": "markdown",
      "source": [
        "### 1946"
      ],
      "metadata": {
        "id": "QLddteDR_3ik"
      }
    },
    {
      "cell_type": "code",
      "source": [
        "import sys\n",
        "\n",
        "t = int(sys.stdin.readline().rstrip())\n",
        "\n",
        "for _ in range(t):\n",
        "    n = int(input())\n",
        "    scores = []\n",
        "\n",
        "    for i in range(n):\n",
        "        one, two = map(int, sys.stdin.readline().rstrip().split())\n",
        "        scores.append((one, two))\n",
        "\n",
        "    scores.sort()  # 서류 심사 성적 먼저 정렬\n",
        "    cnt = 1\n",
        "    interview_rank = scores[0][1]\n",
        "\n",
        "    for i in range(1, n):\n",
        "        if scores[i][1] < interview_rank: # 면접 심사 성적 순위를 최저 순위와 비교하면서 계산. 작으면 뽑히니까 cnt 증가.\n",
        "            cnt += 1\n",
        "            interview_rank = scores[i][1]\n",
        "\n",
        "    print(cnt)"
      ],
      "metadata": {
        "colab": {
          "base_uri": "https://localhost:8080/"
        },
        "id": "EwhCnAbxkUYa",
        "outputId": "0672ec02-e993-420e-ce66-3c45043ea653"
      },
      "execution_count": 17,
      "outputs": [
        {
          "output_type": "stream",
          "name": "stdout",
          "text": [
            "1\n",
            "7\n",
            "3 6\n",
            "7 3\n",
            "4 2\n",
            "1 4\n",
            "5 7\n",
            "2 5\n",
            "6 1\n",
            "3\n"
          ]
        }
      ]
    },
    {
      "cell_type": "markdown",
      "source": [
        "---"
      ],
      "metadata": {
        "id": "QKrbPzSB_5i9"
      }
    },
    {
      "cell_type": "markdown",
      "source": [
        "## Programmers"
      ],
      "metadata": {
        "id": "_iHFfHFP_1oF"
      }
    },
    {
      "cell_type": "markdown",
      "source": [
        "### 완주하지 못한 선수"
      ],
      "metadata": {
        "id": "BmigTFJXlx0o"
      }
    },
    {
      "cell_type": "code",
      "source": [
        "def solution(participant, completion):\n",
        "    hash_table = {}\n",
        "\n",
        "    for name in participant:\n",
        "        if name in hash_table:\n",
        "            hash_table[name] += 1\n",
        "        else:\n",
        "            hash_table[name] = 1\n",
        "\n",
        "    for name in completion:\n",
        "        if name in hash_table:\n",
        "            hash_table[name] -= 1\n",
        "            if hash_table[name] == 0:\n",
        "                del hash_table[name]\n",
        "\n",
        "    answer = list(hash_table.keys())[0]\n",
        "    return answer"
      ],
      "metadata": {
        "id": "-wNYu5Dr_3LM"
      },
      "execution_count": null,
      "outputs": []
    }
  ]
}