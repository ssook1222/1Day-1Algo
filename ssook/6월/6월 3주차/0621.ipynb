{
  "nbformat": 4,
  "nbformat_minor": 0,
  "metadata": {
    "colab": {
      "provenance": [],
      "authorship_tag": "ABX9TyP0oV4Aa7lADryRGYAYujfK",
      "include_colab_link": true
    },
    "kernelspec": {
      "name": "python3",
      "display_name": "Python 3"
    },
    "language_info": {
      "name": "python"
    }
  },
  "cells": [
    {
      "cell_type": "markdown",
      "metadata": {
        "id": "view-in-github",
        "colab_type": "text"
      },
      "source": [
        "<a href=\"https://colab.research.google.com/github/ssook1222/1Day-1Algo/blob/master/ssook/6%EC%9B%94/6%EC%9B%94%203%EC%A3%BC%EC%B0%A8/0621.ipynb\" target=\"_parent\"><img src=\"https://colab.research.google.com/assets/colab-badge.svg\" alt=\"Open In Colab\"/></a>"
      ]
    },
    {
      "cell_type": "markdown",
      "source": [
        "## BoJ"
      ],
      "metadata": {
        "id": "G_Tvsk_uKv-y"
      }
    },
    {
      "cell_type": "markdown",
      "source": [
        "### 24723"
      ],
      "metadata": {
        "id": "Y07vKZqMK0kl"
      }
    },
    {
      "cell_type": "code",
      "execution_count": 3,
      "metadata": {
        "colab": {
          "base_uri": "https://localhost:8080/"
        },
        "id": "SLxYo0JFKXWO",
        "outputId": "7b4d59fe-1c5b-455a-a675-cb9dff0a8032"
      },
      "outputs": [
        {
          "output_type": "stream",
          "name": "stdout",
          "text": [
            "1\n",
            "2\n"
          ]
        }
      ],
      "source": [
        "n = int(input())\n",
        "print(2**n)"
      ]
    },
    {
      "cell_type": "markdown",
      "source": [
        "### 14248"
      ],
      "metadata": {
        "id": "wY1yvjvgLdgR"
      }
    },
    {
      "cell_type": "code",
      "source": [
        "import sys\n",
        "\n",
        "n = int(sys.stdin.readline().rstrip())\n",
        "\n",
        "visited = [ False ] * (n+1)\n",
        "graph = [ i for i in range(1, n+1) ]\n",
        "\n",
        "stones = list(map(int, sys.stdin.readline().rstrip().split(\" \")))\n",
        "s = int(sys.stdin.readline().rstrip())\n",
        "\n",
        "cnt = 0\n",
        "\n",
        "def dfs(node):\n",
        "\n",
        "  global cnt\n",
        "\n",
        "  if visited[node] == False:\n",
        "    visited[node] = True\n",
        "    cnt += 1\n",
        "\n",
        "    jump_distance = stones[node - 1]\n",
        "    if node - jump_distance > 0:\n",
        "      dfs(node - jump_distance)\n",
        "\n",
        "    if node + jump_distance <= n:\n",
        "      dfs(node + jump_distance)\n",
        "\n",
        "dfs(s)\n",
        "\n",
        "print(cnt)"
      ],
      "metadata": {
        "colab": {
          "base_uri": "https://localhost:8080/"
        },
        "id": "DZF2v7v4LdxE",
        "outputId": "7e81cafb-fa50-45a9-922f-a5dd887b4560"
      },
      "execution_count": 8,
      "outputs": [
        {
          "output_type": "stream",
          "name": "stdout",
          "text": [
            "5\n",
            "1 4 2 2 1\n",
            "3\n",
            "5\n"
          ]
        }
      ]
    },
    {
      "cell_type": "markdown",
      "source": [
        "### 16173"
      ],
      "metadata": {
        "id": "Zd_UwJWeV9Mt"
      }
    },
    {
      "cell_type": "code",
      "source": [
        "import sys\n",
        "\n",
        "n = int(sys.stdin.readline().rstrip())\n",
        "visited = [[False] * n for i in range(n)]\n",
        "graph = [list(map(int, sys.stdin.readline().rstrip().split(\" \"))) for i in range(n)]\n",
        "flag = False\n",
        "\n",
        "def dfs(x,y):\n",
        "  global flag\n",
        "\n",
        "  if x == n-1 and y == n-1:\n",
        "      flag = True\n",
        "      return\n",
        "\n",
        "  visited[x][y] = True\n",
        "  jump = graph[x][y]\n",
        "\n",
        "  if x + jump < n and not visited[x + jump][y]:\n",
        "      dfs(x + jump, y)\n",
        "\n",
        "  if y + jump < n and not visited[x][y + jump]:\n",
        "      dfs(x, y + jump)\n",
        "\n",
        "dfs(0,0)\n",
        "\n",
        "if flag == False:\n",
        "  print(\"Hing\")\n",
        "\n",
        "else:\n",
        "  print(\"HaruHaru\")"
      ],
      "metadata": {
        "colab": {
          "base_uri": "https://localhost:8080/"
        },
        "id": "Vm5wGn8dV9Y4",
        "outputId": "e32f0e8a-cb6a-43c8-892b-402241717227"
      },
      "execution_count": 6,
      "outputs": [
        {
          "output_type": "stream",
          "name": "stdout",
          "text": [
            "3\n",
            "2 2 1\n",
            "2 2 2\n",
            "1 2 -1\n",
            "Hing\n"
          ]
        }
      ]
    },
    {
      "cell_type": "markdown",
      "source": [],
      "metadata": {
        "id": "tZ2ZX901BtGT"
      }
    },
    {
      "cell_type": "code",
      "source": [
        "from collections import deque\n",
        "import sys\n",
        "\n",
        "n, m = map(int, sys.stdin.readline().rstrip().split())\n",
        "graph = [list(map(int, sys.stdin.readline().rstrip())) for i in range(n)]\n",
        "\n",
        "def bfs(x, y):\n",
        "  dx = [-1, 1, 0, 0]\n",
        "  dy = [0, 0, -1, 1]\n",
        "\n",
        "  queue = deque()\n",
        "  queue.append((x, y))\n",
        "\n",
        "  while queue:\n",
        "    x, y = queue.popleft()\n",
        "\n",
        "    for i in range(4):\n",
        "      nx = x + dx[i]\n",
        "      ny = y + dy[i]\n",
        "\n",
        "      if (0 <= nx < n) and (0 <= ny < m):\n",
        "        if graph[nx][ny] == 0:\n",
        "          continue\n",
        "\n",
        "        if graph[nx][ny] == 1:\n",
        "          graph[nx][ny] = graph[x][y] + 1\n",
        "          queue.append((nx, ny))\n",
        "\n",
        "  return graph[n-1][m-1]\n",
        "\n",
        "print(bfs(0, 0))"
      ],
      "metadata": {
        "colab": {
          "base_uri": "https://localhost:8080/"
        },
        "id": "BFwyZ0fZBtbW",
        "outputId": "8957bad6-e06b-420c-bf6e-550208734a0a"
      },
      "execution_count": 3,
      "outputs": [
        {
          "output_type": "stream",
          "name": "stdout",
          "text": [
            "4 6\n",
            "101111\n",
            "101010\n",
            "101011\n",
            "111011\n",
            "15\n"
          ]
        }
      ]
    },
    {
      "cell_type": "markdown",
      "source": [
        "---"
      ],
      "metadata": {
        "id": "lXLH7U-ZK1gV"
      }
    },
    {
      "cell_type": "markdown",
      "source": [
        "## Programmers"
      ],
      "metadata": {
        "id": "iZFxhDJ1KyD8"
      }
    },
    {
      "cell_type": "markdown",
      "source": [
        "### 소수 만들기"
      ],
      "metadata": {
        "id": "7y4qv_JKK04R"
      }
    },
    {
      "cell_type": "code",
      "source": [
        "def primes(n):\n",
        "\n",
        "    num = [False, False] + [True] * (n-1)\n",
        "    prime = []\n",
        "\n",
        "    for i in range(2, n+1):\n",
        "        if num[i] == True:\n",
        "            for j in range(2*i, n+1, i):\n",
        "                num[j] = False\n",
        "\n",
        "    for i in range(len(num)):\n",
        "        if num[i] == True:\n",
        "            prime.append(i)\n",
        "\n",
        "    return prime\n",
        "\n",
        "def solution(nums):\n",
        "    answer = 0\n",
        "\n",
        "    prime_num = primes(10000)\n",
        "\n",
        "    for i in range(len(nums)):\n",
        "        for j in range(i+1, (len(nums))):\n",
        "            for k in range(j+1, (len(nums))):\n",
        "                if nums[i] + nums[j] + nums[k] in prime_num:\n",
        "                    answer += 1\n",
        "\n",
        "    return answer"
      ],
      "metadata": {
        "id": "rBPxde9eKzr_"
      },
      "execution_count": null,
      "outputs": []
    }
  ]
}