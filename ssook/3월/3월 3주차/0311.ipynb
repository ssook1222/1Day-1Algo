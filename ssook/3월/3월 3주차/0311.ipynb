{
  "nbformat": 4,
  "nbformat_minor": 0,
  "metadata": {
    "colab": {
      "provenance": []
    },
    "kernelspec": {
      "name": "python3",
      "display_name": "Python 3"
    },
    "language_info": {
      "name": "python"
    }
  },
  "cells": [
    {
      "cell_type": "markdown",
      "source": [
        "## 3월 11일 문제풀이\n",
        "\n",
        "> 브론즈 뽀개기!!!\n",
        "\n",
        "---        \n",
        "\n",
        "`참여자` 최숙"
      ],
      "metadata": {
        "id": "82stD5oTsdKM"
      }
    },
    {
      "cell_type": "markdown",
      "source": [
        "### 10808"
      ],
      "metadata": {
        "id": "Oht60-7wsRRx"
      }
    },
    {
      "cell_type": "code",
      "execution_count": 21,
      "metadata": {
        "colab": {
          "base_uri": "https://localhost:8080/"
        },
        "id": "s6DUBQ9Xr7MY",
        "outputId": "c7d2051d-b40e-4e73-a64e-392c225dff04"
      },
      "outputs": [
        {
          "output_type": "stream",
          "name": "stdout",
          "text": [
            "baekjoon\n",
            "1 1 0 0 1 0 0 0 0 1 1 0 0 1 2 0 0 0 0 0 0 0 0 0 0 0 "
          ]
        }
      ],
      "source": [
        "N = input()\n",
        "#abcde fghij klmno pqrst uvwxy z\n",
        "\n",
        "count = [ 0 for i in range(26)]\n",
        "\n",
        "for i in range (0,len(N)) :\n",
        "  # print(N[i])\n",
        "  if N[i] == \"a\":\n",
        "    count[0] = count[0]+1\n",
        "  \n",
        "  if N[i]==\"b\":\n",
        "    count[1] = count[1]+1\n",
        "  \n",
        "  if N[i]==\"c\":\n",
        "    count[2] = count[2]+1\n",
        "\n",
        "  if N[i]==\"d\":\n",
        "    count[3] = count[3]+1  \n",
        "\n",
        "  if N[i]==\"e\":\n",
        "    count[4] = count[4]+1  \n",
        "\n",
        "\n",
        "  if N[i]==\"f\":\n",
        "    count[5] = count[5]+1  \n",
        "\n",
        "  if N[i]==\"g\":\n",
        "    count[6] = count[6]+1\n",
        "\n",
        "  if N[i]==\"h\":\n",
        "    count[7] = count[7]+1\n",
        "\n",
        "  if N[i]==\"i\":\n",
        "    count[8] = count[8]+1\n",
        "\n",
        "  if N[i]==\"j\":\n",
        "    count[9] = count[9]+1\n",
        "\n",
        "\n",
        "  if N[i]==\"k\":\n",
        "    count[10] = count[10]+1    \n",
        "\n",
        "  if N[i]==\"l\":\n",
        "    count[11] = count[11]+1\n",
        "\n",
        "  if N[i]==\"m\":\n",
        "    count[12] = count[12]+1\n",
        "  \n",
        "  if N[i]==\"n\":\n",
        "    count[13] = count[13]+1\n",
        "\n",
        "  if N[i]==\"o\":\n",
        "    count[14] = count[14]+1\n",
        "\n",
        "\n",
        "  if N[i]==\"p\":\n",
        "    count[15] = count[15]+1\n",
        "\n",
        "  if N[i]==\"q\":\n",
        "    count[16] = count[16]+1\n",
        "\n",
        "  if N[i]==\"r\":\n",
        "    count[17] = count[17]+1 \n",
        "\n",
        "  if N[i]==\"s\":\n",
        "    count[18] = count[18]+1\n",
        "\n",
        "  if N[i]==\"t\":\n",
        "    count[19] = count[19]+1\n",
        "\n",
        "\n",
        "  if N[i]==\"u\":\n",
        "    count[20] = count[20]+1\n",
        "\n",
        "  if N[i]==\"v\":\n",
        "    count[21] = count[21]+1\n",
        "\n",
        "  if N[i]==\"w\":\n",
        "    count[22] = count[22]+1\n",
        "\n",
        "  if N[i]==\"x\":\n",
        "    count[23] = count[23]+1\n",
        "\n",
        "  if N[i]==\"y\":\n",
        "    count[24] = count[24]+1\n",
        "\n",
        "  if N[i]==\"z\":\n",
        "    count[25] = count[25]+1\n",
        "\n",
        "for i in range(0, len(count)):\n",
        "  print(count[i], end=\" \")\n",
        "\n",
        "# 1 1 0 0 1  0 0 0 0 1  1 0 0 1 2  0 0 0 0 0 0 0 0 0 0 0"
      ]
    },
    {
      "cell_type": "markdown",
      "source": [
        "### 11650"
      ],
      "metadata": {
        "id": "rRAWlc7BxL3e"
      }
    },
    {
      "cell_type": "code",
      "source": [
        "import sys\n",
        "input = sys.stdin.readline\n",
        "\n",
        "N = int(input())\n",
        "ans_list = []\n",
        "\n",
        "for i in range(0, N) : \n",
        "  x, y = map(int, input().split())\n",
        "  ans_list.append((x,y))\n",
        "\n",
        "ans_list.sort()\n",
        "\n",
        "for i in ans_list:\n",
        "  print(i[0], i[1])"
      ],
      "metadata": {
        "colab": {
          "base_uri": "https://localhost:8080/"
        },
        "id": "gbYaun3AxMCv",
        "outputId": "a051b488-d932-4f7b-f58b-6122007bca6d"
      },
      "execution_count": 2,
      "outputs": [
        {
          "output_type": "stream",
          "name": "stdout",
          "text": [
            "5\n",
            "3 4\n",
            "1 -1\n",
            "2 2\n",
            "1 1\n",
            "3 3\n",
            "1 -1\n",
            "1 1\n",
            "2 2\n",
            "3 3\n",
            "3 4\n"
          ]
        }
      ]
    },
    {
      "cell_type": "markdown",
      "source": [
        "### 10828 \n",
        "\n"
      ],
      "metadata": {
        "id": "_5J_bWBhutV_"
      }
    },
    {
      "cell_type": "code",
      "source": [
        "N = int(input())\n",
        "stack = []\n",
        "\n",
        "for i in range(0, N):\n",
        "  command = input().split()\n",
        "\n",
        "  # push일 때\n",
        "  if command[0] == \"push\":\n",
        "    stack.append(command[1])\n",
        "\n",
        "  elif command[0] == \"top\":\n",
        "    if len(stack)== 0 :\n",
        "      print(\"-1\")\n",
        "    else :\n",
        "      print(stack[len(stack)-1])\n",
        "  \n",
        "  elif command[0] == \"size\":\n",
        "    print(len(stack))\n",
        "  \n",
        "  elif command[0] == \"pop\":\n",
        "    if len(stack)== 0 :\n",
        "      print(\"-1\")\n",
        "    else :\n",
        "      print(stack[len(stack)-1])\n",
        "      del stack[len(stack)-1]\n",
        "  \n",
        "  elif command[0] == \"empty\":\n",
        "    if len(stack)== 0 :\n",
        "      print(\"1\")\n",
        "    else :\n",
        "      print(\"0\")"
      ],
      "metadata": {
        "colab": {
          "base_uri": "https://localhost:8080/"
        },
        "id": "2AJ-XW1ou0fe",
        "outputId": "581547e5-6ac6-43dc-ef85-4f275cf4461e"
      },
      "execution_count": 3,
      "outputs": [
        {
          "output_type": "stream",
          "name": "stdout",
          "text": [
            "14\n",
            "push 1\n",
            "push 2\n",
            "top\n",
            "2\n",
            "size\n",
            "2\n",
            "empty\n",
            "0\n",
            "pop\n",
            "2\n",
            "pop\n",
            "1\n",
            "pop\n",
            "-1\n",
            "size\n",
            "0\n",
            "empty\n",
            "1\n",
            "pop\n",
            "-1\n",
            "push 3\n",
            "empty\n",
            "0\n",
            "top\n",
            "3\n"
          ]
        }
      ]
    }
  ]
}