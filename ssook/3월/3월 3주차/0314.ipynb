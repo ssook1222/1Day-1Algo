{
  "nbformat": 4,
  "nbformat_minor": 0,
  "metadata": {
    "colab": {
      "provenance": []
    },
    "kernelspec": {
      "name": "python3",
      "display_name": "Python 3"
    },
    "language_info": {
      "name": "python"
    }
  },
  "cells": [
    {
      "cell_type": "markdown",
      "source": [
        "## 3월 14일 문제풀이\n",
        "\n",
        "> 브론즈 뽀개기!!!\n",
        "\n",
        "---        \n",
        "\n",
        "`참여자` 최숙"
      ],
      "metadata": {
        "id": "vAuY_VUPx5RP"
      }
    },
    {
      "cell_type": "markdown",
      "source": [
        "### 15680"
      ],
      "metadata": {
        "id": "5hO7AgXazO0x"
      }
    },
    {
      "cell_type": "code",
      "execution_count": null,
      "metadata": {
        "id": "C_3mte-ex3w6"
      },
      "outputs": [],
      "source": [
        "N = int(input())\n",
        "\n",
        "if N == 0 :\n",
        "  print(\"YONSEI\")\n",
        "\n",
        "elif N == 1:\n",
        "  print(\"Leading the Way to the Future\")"
      ]
    },
    {
      "cell_type": "markdown",
      "source": [
        "### 10817"
      ],
      "metadata": {
        "id": "wj3m2mz3uc0Y"
      }
    },
    {
      "cell_type": "code",
      "source": [
        "A, B, C = map(int, input().split())\n",
        "\n",
        "ans = []\n",
        "ans.append(A)\n",
        "ans.append(B)\n",
        "ans.append(C)\n",
        "\n",
        "ans.sort()\n",
        "\n",
        "print(ans[1])"
      ],
      "metadata": {
        "colab": {
          "base_uri": "https://localhost:8080/"
        },
        "id": "zKESMeyaudOg",
        "outputId": "3d1b6f12-9990-4e41-953b-d31e6c63216b"
      },
      "execution_count": 3,
      "outputs": [
        {
          "output_type": "stream",
          "name": "stdout",
          "text": [
            "40 40 40\n",
            "40\n"
          ]
        }
      ]
    },
    {
      "cell_type": "markdown",
      "source": [
        "### 2441"
      ],
      "metadata": {
        "id": "s6XPa1B4vpNF"
      }
    },
    {
      "cell_type": "code",
      "source": [
        "N = int(input())\n",
        "\n",
        "for i in range(0, N):\n",
        "  print(\" \"*(i) + \"*\"*(N-i))"
      ],
      "metadata": {
        "colab": {
          "base_uri": "https://localhost:8080/"
        },
        "id": "7etDtdDxvpeC",
        "outputId": "aae5445d-0f23-4566-d6fe-d51124865868"
      },
      "execution_count": 12,
      "outputs": [
        {
          "output_type": "stream",
          "name": "stdout",
          "text": [
            "5\n",
            "*****\n",
            " ****\n",
            "  ***\n",
            "   **\n",
            "    *\n"
          ]
        }
      ]
    }
  ]
}