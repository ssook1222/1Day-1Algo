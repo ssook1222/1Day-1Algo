{
  "nbformat": 4,
  "nbformat_minor": 0,
  "metadata": {
    "colab": {
      "provenance": [],
      "authorship_tag": "ABX9TyO2V2wToKnRaEoOJcv41D32",
      "include_colab_link": true
    },
    "kernelspec": {
      "name": "python3",
      "display_name": "Python 3"
    },
    "language_info": {
      "name": "python"
    }
  },
  "cells": [
    {
      "cell_type": "markdown",
      "metadata": {
        "id": "view-in-github",
        "colab_type": "text"
      },
      "source": [
        "<a href=\"https://colab.research.google.com/github/ssook1222/1Day-1Algo/blob/master/0324.ipynb\" target=\"_parent\"><img src=\"https://colab.research.google.com/assets/colab-badge.svg\" alt=\"Open In Colab\"/></a>"
      ]
    },
    {
      "cell_type": "markdown",
      "source": [
        "### 5524"
      ],
      "metadata": {
        "id": "JSmsZjVPZXNC"
      }
    },
    {
      "cell_type": "code",
      "execution_count": null,
      "metadata": {
        "colab": {
          "base_uri": "https://localhost:8080/"
        },
        "id": "d1koV55wZVor",
        "outputId": "5dc257b6-b40c-4b14-81e5-808806348086"
      },
      "outputs": [
        {
          "output_type": "stream",
          "name": "stdout",
          "text": [
            "3\n",
            "WatanabE\n",
            "watanabe\n",
            "ITO\n",
            "ito\n",
            "YamaMoto\n",
            "yamamoto\n"
          ]
        }
      ],
      "source": [
        "n = int(input())\n",
        "for i in range(0,n):\n",
        "  print(input().lower())"
      ]
    },
    {
      "cell_type": "markdown",
      "source": [
        "### 1065"
      ],
      "metadata": {
        "id": "y18Vtlig0oBE"
      }
    },
    {
      "cell_type": "code",
      "source": [
        "def hansu(n):\n",
        "  cnt = 0\n",
        "  for i in range(1, n+1):\n",
        "    if i < 100:\n",
        "      cnt = cnt + 1\n",
        "    else :\n",
        "      num = list(map(int, str(i))) # [1,0,0] 형태로 각 숫자를 쪼갬갬\n",
        "      if num[0]-num[1] == num[1] - num[2]:\n",
        "        cnt = cnt + 1\n",
        "  return cnt\n",
        "\n",
        "ans = int(input())\n",
        "print(hansu(ans)) "
      ],
      "metadata": {
        "colab": {
          "base_uri": "https://localhost:8080/"
        },
        "id": "Zqnuss-e0oNn",
        "outputId": "037f377c-558f-48c3-98ee-9545a2a84d25"
      },
      "execution_count": 6,
      "outputs": [
        {
          "output_type": "stream",
          "name": "stdout",
          "text": [
            "110\n",
            "99\n"
          ]
        }
      ]
    },
    {
      "cell_type": "markdown",
      "source": [
        "### 24262"
      ],
      "metadata": {
        "id": "1V0wQJHr2Ybw"
      }
    },
    {
      "cell_type": "code",
      "source": [
        "print(\"1\")\n",
        "print(\"0\")"
      ],
      "metadata": {
        "id": "4D8OZm392YnP"
      },
      "execution_count": null,
      "outputs": []
    },
    {
      "cell_type": "markdown",
      "source": [
        "### 24263"
      ],
      "metadata": {
        "id": "ezi9jIzn3Elk"
      }
    },
    {
      "cell_type": "code",
      "source": [
        "print(input())\n",
        "print(\"1\")"
      ],
      "metadata": {
        "colab": {
          "base_uri": "https://localhost:8080/"
        },
        "id": "_gAJPVbN3EDI",
        "outputId": "a2ab3aab-368f-40fe-c4ff-16a08a9acfa8"
      },
      "execution_count": 7,
      "outputs": [
        {
          "output_type": "stream",
          "name": "stdout",
          "text": [
            "7\n",
            "7\n"
          ]
        }
      ]
    },
    {
      "cell_type": "markdown",
      "source": [
        "### 24264"
      ],
      "metadata": {
        "id": "iQys9LDn3Z7P"
      }
    },
    {
      "cell_type": "code",
      "source": [
        "print(int(input())**2)\n",
        "print(\"2\")"
      ],
      "metadata": {
        "colab": {
          "base_uri": "https://localhost:8080/"
        },
        "id": "lHWuWEjb3boN",
        "outputId": "aec95fb2-b615-45ae-bcc6-e8e54eb9e93d"
      },
      "execution_count": 9,
      "outputs": [
        {
          "output_type": "stream",
          "name": "stdout",
          "text": [
            "7\n",
            "49\n",
            "2\n"
          ]
        }
      ]
    },
    {
      "cell_type": "markdown",
      "source": [
        "### 24265"
      ],
      "metadata": {
        "id": "-EEjxjrg3wvy"
      }
    },
    {
      "cell_type": "code",
      "source": [
        "n = int(input())\n",
        "print(int((n*(n-1))/2))\n",
        "print(\"2\")"
      ],
      "metadata": {
        "colab": {
          "base_uri": "https://localhost:8080/"
        },
        "id": "BoXVsK-z3w-9",
        "outputId": "092e9f7a-8a5a-49c5-8d6a-ca16c33dd7b9"
      },
      "execution_count": 11,
      "outputs": [
        {
          "output_type": "stream",
          "name": "stdout",
          "text": [
            "7\n",
            "21\n",
            "2\n"
          ]
        }
      ]
    }
  ]
}