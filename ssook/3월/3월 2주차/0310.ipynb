{
  "nbformat": 4,
  "nbformat_minor": 0,
  "metadata": {
    "colab": {
      "provenance": [],
      "authorship_tag": "ABX9TyOjXvt71n7958uRSjYDIfN7"
    },
    "kernelspec": {
      "name": "python3",
      "display_name": "Python 3"
    },
    "language_info": {
      "name": "python"
    }
  },
  "cells": [
    {
      "cell_type": "markdown",
      "source": [
        "## 3월 10일 문제풀이\n",
        "\n",
        "> 브론즈 뽀개기!!!\n",
        "\n",
        "---        \n",
        "\n",
        "`참여자` 최숙"
      ],
      "metadata": {
        "id": "P_WDx-q25nJT"
      }
    },
    {
      "cell_type": "markdown",
      "source": [
        "### 11365\n",
        "\n",
        "[이동하기](https://www.acmicpc.net/problem/11365)"
      ],
      "metadata": {
        "id": "STxApObm5iNC"
      }
    },
    {
      "cell_type": "code",
      "execution_count": null,
      "metadata": {
        "colab": {
          "base_uri": "https://localhost:8080/"
        },
        "id": "iFPbSbks5b3n",
        "outputId": "16e37643-e90e-4aff-984e-9f5ee315d7ab"
      },
      "outputs": [
        {
          "output_type": "stream",
          "name": "stdout",
          "text": [
            "!edoc doog a tahW\n",
            "What a good code!\n"
          ]
        }
      ],
      "source": [
        "while True:\n",
        "  ans = input()\n",
        "  if ans == \"END\" :\n",
        "    break\n",
        "  ans = ans[::-1]\n",
        "  print(ans)\n"
      ]
    },
    {
      "cell_type": "markdown",
      "source": [
        "### 5596"
      ],
      "metadata": {
        "id": "jzgqiGlzrvfc"
      }
    },
    {
      "cell_type": "code",
      "source": [
        "it1, math1, science1, english1 = map(int, input().split())\n",
        "it2, math2, science2, english2 = map(int, input().split())\n",
        "\n",
        "s = it1 + math1 +science1 + english1\n",
        "t = it2 + math2 + science2 + english2\n",
        "\n",
        "print(max(s,t))"
      ],
      "metadata": {
        "colab": {
          "base_uri": "https://localhost:8080/"
        },
        "id": "uAVrgY1RrvqF",
        "outputId": "ce91072f-4a8f-42b1-88de-18a38682f827"
      },
      "execution_count": 1,
      "outputs": [
        {
          "output_type": "stream",
          "name": "stdout",
          "text": [
            "100 80 70 60\n",
            "80 70 80 90\n",
            "320\n"
          ]
        }
      ]
    },
    {
      "cell_type": "markdown",
      "source": [
        "### 1181"
      ],
      "metadata": {
        "id": "l7K5nU8ysvDX"
      }
    },
    {
      "cell_type": "code",
      "source": [
        "N = int(input())\n",
        "ans_raw_list = []\n",
        "\n",
        "for i in range(0,N):\n",
        "  ans_raw = input()\n",
        "  ans_raw_list.append(ans_raw)\n",
        "\n",
        "# set으로 중복 제거 후 list로 변환\n",
        "ans_raw_set = set(ans_raw_list)\n",
        "ans_list = list(ans_raw_set)\n",
        "\n",
        "# sort 정렬은 숫자말고도 문자열이 element여도 정렬해줌\n",
        "ans_list.sort()\n",
        "ans_list.sort(key=len)\n",
        "\n",
        "for i in ans_list:\n",
        "  print(i)"
      ],
      "metadata": {
        "colab": {
          "base_uri": "https://localhost:8080/"
        },
        "id": "8_ACDAIdsYUY",
        "outputId": "81cfa50f-3d34-44fc-ae7b-e674f52d5c57"
      },
      "execution_count": 7,
      "outputs": [
        {
          "output_type": "stream",
          "name": "stdout",
          "text": [
            "4\n",
            "but\n",
            "but\n",
            "i\n",
            "wont\n",
            "i\n",
            "but\n",
            "wont\n"
          ]
        }
      ]
    },
    {
      "cell_type": "markdown",
      "source": [
        "### 10828 \n",
        "\n",
        "다시 풀어보기!"
      ],
      "metadata": {
        "id": "_5J_bWBhutV_"
      }
    },
    {
      "cell_type": "code",
      "source": [
        "N = int(input())\n",
        "stack = []\n",
        "\n",
        "for i in range(0, N):\n",
        "  command = input()\n",
        "\n",
        "  # push일 때\n",
        "  if len(command) == 6:\n",
        "    push, num = map(str, command.split(\" \"))\n",
        "    stack.append(num)\n",
        "\n",
        "  elif command == \"top\":\n",
        "    if len(stack)== 0 :\n",
        "      print(\"-1\")\n",
        "    else :\n",
        "      print(stack[len(stack)-1])\n",
        "  \n",
        "  elif command == \"size\":\n",
        "    print(len(stack))\n",
        "  \n",
        "  elif command == \"pop\":\n",
        "    if len(stack)== 0 :\n",
        "      print(\"-1\")\n",
        "    else :\n",
        "      print(stack[len(stack)-1])\n",
        "      del stack[len(stack)-1]\n",
        "  \n",
        "  elif command == \"empty\":\n",
        "    if len(stack)== 0 :\n",
        "      print(\"1\")\n",
        "    else :\n",
        "      print(\"0\")"
      ],
      "metadata": {
        "colab": {
          "base_uri": "https://localhost:8080/"
        },
        "id": "2AJ-XW1ou0fe",
        "outputId": "4b216d0e-5836-4592-dd1c-3326bce4f436"
      },
      "execution_count": 9,
      "outputs": [
        {
          "output_type": "stream",
          "name": "stdout",
          "text": [
            "14\n",
            "push 1\n",
            "push 2\n",
            "top\n",
            "2\n",
            "size\n",
            "2\n",
            "empty\n",
            "0\n",
            "pop\n",
            "2\n",
            "pop\n",
            "1\n",
            "pop\n",
            "-1\n",
            "size\n",
            "0\n",
            "empty\n",
            "1\n",
            "pop\n",
            "-1\n",
            "push 3\n",
            "empty\n",
            "0\n",
            "top\n",
            "3\n"
          ]
        }
      ]
    }
  ]
}