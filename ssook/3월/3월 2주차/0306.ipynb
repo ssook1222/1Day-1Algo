{
  "nbformat": 4,
  "nbformat_minor": 0,
  "metadata": {
    "colab": {
      "provenance": []
    },
    "kernelspec": {
      "name": "python3",
      "display_name": "Python 3"
    },
    "language_info": {
      "name": "python"
    }
  },
  "cells": [
    {
      "cell_type": "markdown",
      "source": [
        "## 3월 6일 문제풀이\n",
        "\n",
        "> 브론즈 뽀개기!!!\n",
        "\n",
        "---        \n",
        "\n",
        "`참여자` 최숙"
      ],
      "metadata": {
        "id": "5jAmTM-6t6gT"
      }
    },
    {
      "cell_type": "markdown",
      "source": [
        "### 5543\n",
        "[이동하기](https://www.acmicpc.net/problem/5543)"
      ],
      "metadata": {
        "id": "kHcwUetYur-d"
      }
    },
    {
      "cell_type": "code",
      "execution_count": null,
      "metadata": {
        "colab": {
          "base_uri": "https://localhost:8080/"
        },
        "id": "mcJm7m-9t4Lq",
        "outputId": "3d51844d-6678-4c94-bc48-9b5a156eb3ea"
      },
      "outputs": [
        {
          "output_type": "stream",
          "name": "stdout",
          "text": [
            "1999\n",
            "1999\n",
            "100\n",
            "189\n",
            "100\n",
            "150\n"
          ]
        }
      ],
      "source": [
        "high = int(input())\n",
        "middle = int(input())\n",
        "low = int(input())\n",
        "coke = int(input())\n",
        "cydar = int(input())\n",
        "\n",
        "hamburger = min(high, middle, low)\n",
        "sugar = min(coke, cydar)\n",
        "\n",
        "price = hamburger + sugar - 50\n",
        "\n",
        "print(price)"
      ]
    },
    {
      "cell_type": "markdown",
      "source": [
        "### 15963"
      ],
      "metadata": {
        "id": "0x65Ou_QAVV3"
      }
    },
    {
      "cell_type": "code",
      "source": [
        "N, M = map(int, input().split())\n",
        "\n",
        "if N == M :\n",
        "  print(1)\n",
        "\n",
        "else:\n",
        "  print(0)"
      ],
      "metadata": {
        "colab": {
          "base_uri": "https://localhost:8080/"
        },
        "id": "EhBuI1KWAXB1",
        "outputId": "123fdfb3-a2ab-4ddc-8bb3-146ce2ea5694"
      },
      "execution_count": null,
      "outputs": [
        {
          "output_type": "stream",
          "name": "stdout",
          "text": [
            "1 1\n",
            "1\n"
          ]
        }
      ]
    },
    {
      "cell_type": "markdown",
      "source": [
        "### 15873"
      ],
      "metadata": {
        "id": "sF37eAyKAjpD"
      }
    },
    {
      "cell_type": "code",
      "source": [
        "ans = []\n",
        "ans = input()\n",
        "\n",
        "if len(ans) > 2 and len(ans)!=4 and ans[1]=='0' :\n",
        "  print(int(ans[0:len(ans)-1])+int(ans[len(ans)-1:len(ans)]))\n",
        "\n",
        "elif len(ans) > 2 and len(ans)!=4 and ans[len(ans)-1]=='0' :\n",
        "  print(int(ans[0:1])+int(ans[1:len(ans)]))  \n",
        "\n",
        "elif len(ans) == 4 :\n",
        "  print(20)\n",
        "\n",
        "elif len(ans) == 2 :\n",
        "  print(int(ans[0])+int(ans[1]))  "
      ],
      "metadata": {
        "colab": {
          "base_uri": "https://localhost:8080/"
        },
        "id": "aYHha-n-A6yh",
        "outputId": "03dfd64a-23ab-45cc-d08d-1677eb5c2c03"
      },
      "execution_count": 27,
      "outputs": [
        {
          "output_type": "stream",
          "name": "stdout",
          "text": [
            "310\n",
            "13\n"
          ]
        }
      ]
    }
  ]
}