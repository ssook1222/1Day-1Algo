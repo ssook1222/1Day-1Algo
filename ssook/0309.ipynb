{
  "nbformat": 4,
  "nbformat_minor": 0,
  "metadata": {
    "colab": {
      "provenance": []
    },
    "kernelspec": {
      "name": "python3",
      "display_name": "Python 3"
    },
    "language_info": {
      "name": "python"
    }
  },
  "cells": [
    {
      "cell_type": "markdown",
      "source": [
        "## 3월 9일 문제풀이\n",
        "\n",
        "> 브론즈 뽀개기!!!\n",
        "\n",
        "---        \n",
        "\n",
        "`참여자` 최숙"
      ],
      "metadata": {
        "id": "k2ySHn2x28IV"
      }
    },
    {
      "cell_type": "markdown",
      "source": [
        "### 10797\n",
        "[이동하기](https://www.acmicpc.net/problem/10797)"
      ],
      "metadata": {
        "id": "hQyB3-1O27vB"
      }
    },
    {
      "cell_type": "code",
      "execution_count": null,
      "metadata": {
        "colab": {
          "base_uri": "https://localhost:8080/"
        },
        "id": "Jj3b24II2xBx",
        "outputId": "953252b5-13d4-46b2-8412-556ae1dcf6e4"
      },
      "outputs": [
        {
          "output_type": "stream",
          "name": "stdout",
          "text": [
            "3\n",
            "1 2 3 5 3\n",
            "2\n"
          ]
        }
      ],
      "source": [
        "num = int(input())\n",
        "ans = []\n",
        "\n",
        "a,b,c,d,e = map(int, input().split())\n",
        "ans.append(a)\n",
        "ans.append(b)\n",
        "ans.append(c)\n",
        "ans.append(d)\n",
        "ans.append(e)\n",
        "\n",
        "cnt = 0\n",
        "\n",
        "for i in range(0, len(ans)):\n",
        "  if num == ans[i] :\n",
        "    cnt = cnt + 1\n",
        "\n",
        "print(cnt)"
      ]
    }
  ]
}