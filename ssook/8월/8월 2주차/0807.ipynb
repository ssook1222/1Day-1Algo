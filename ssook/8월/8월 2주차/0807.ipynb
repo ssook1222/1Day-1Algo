{
  "nbformat": 4,
  "nbformat_minor": 0,
  "metadata": {
    "colab": {
      "provenance": [],
      "authorship_tag": "ABX9TyPt/aTy6L2Mx/H9OoShv7Cs",
      "include_colab_link": true
    },
    "kernelspec": {
      "name": "python3",
      "display_name": "Python 3"
    },
    "language_info": {
      "name": "python"
    }
  },
  "cells": [
    {
      "cell_type": "markdown",
      "metadata": {
        "id": "view-in-github",
        "colab_type": "text"
      },
      "source": [
        "<a href=\"https://colab.research.google.com/github/ssook1222/1Day-1Algo/blob/master/ssook/8%EC%9B%94/8%EC%9B%94%202%EC%A3%BC%EC%B0%A8/0807.ipynb\" target=\"_parent\"><img src=\"https://colab.research.google.com/assets/colab-badge.svg\" alt=\"Open In Colab\"/></a>"
      ]
    },
    {
      "cell_type": "markdown",
      "source": [
        "## BoJ"
      ],
      "metadata": {
        "id": "eEqt9meBJdZG"
      }
    },
    {
      "cell_type": "markdown",
      "source": [
        "### 1418"
      ],
      "metadata": {
        "id": "4_2H_n0yJoE0"
      }
    },
    {
      "cell_type": "code",
      "source": [
        "import sys\n",
        "\n",
        "def factorization(n):\n",
        "    d = 2\n",
        "    max_factor = -1e9\n",
        "    while d * d <= n:\n",
        "        if n % d == 0:\n",
        "            n = n // d\n",
        "            if max_factor <= d:\n",
        "                max_factor = d\n",
        "        else:\n",
        "            d = d + 1\n",
        "    if n > 1 and max_factor <= n:\n",
        "        max_factor = n\n",
        "    return max_factor\n",
        "\n",
        "n = int(sys.stdin.readline().rstrip())\n",
        "k = int(sys.stdin.readline().rstrip())\n",
        "cnt = 0\n",
        "\n",
        "for i in range(1, n+1):\n",
        "    if factorization(i) <= k:\n",
        "        cnt += 1\n",
        "\n",
        "print(cnt)"
      ],
      "metadata": {
        "colab": {
          "base_uri": "https://localhost:8080/"
        },
        "id": "dYzp6oiWJ3xj",
        "outputId": "a684e293-9118-414f-dc99-b5686868e205"
      },
      "execution_count": 14,
      "outputs": [
        {
          "output_type": "stream",
          "name": "stdout",
          "text": [
            "100000\n",
            "100\n",
            "17442\n"
          ]
        }
      ]
    },
    {
      "cell_type": "markdown",
      "source": [
        "### 2851"
      ],
      "metadata": {
        "id": "kfbREQgpKHIB"
      }
    },
    {
      "cell_type": "code",
      "source": [
        "import sys\n",
        "\n",
        "score = 0\n",
        "check = False\n",
        "\n",
        "for i in range(10):\n",
        "  n = int(sys.stdin.readline().rstrip())\n",
        "\n",
        "  prev_score = score\n",
        "  score += n\n",
        "\n",
        "  if not check :\n",
        "    if score > 100:\n",
        "      if abs(prev_score - 100) > abs(score - 100):\n",
        "        print(score)\n",
        "        check = True\n",
        "        continue\n",
        "\n",
        "      elif abs(prev_score - 100) < abs(score - 100):\n",
        "        print(prev_score)\n",
        "        check = True\n",
        "        continue\n",
        "\n",
        "      elif abs(prev_score - 100) == abs(score - 100):\n",
        "        print(score)\n",
        "        check = True\n",
        "        continue\n",
        "\n",
        "    if score == 100:\n",
        "      check = True\n",
        "      print(100)\n",
        "      continue\n",
        "\n",
        "if score < 100:\n",
        "  print(score)"
      ],
      "metadata": {
        "colab": {
          "base_uri": "https://localhost:8080/"
        },
        "id": "HH6IuMygKH4r",
        "outputId": "d75d0df2-4a88-4232-954f-114e15acb3ae"
      },
      "execution_count": 26,
      "outputs": [
        {
          "name": "stdout",
          "output_type": "stream",
          "text": [
            "1\n",
            "2\n",
            "3\n",
            "5\n",
            "8\n",
            "13\n",
            "21\n",
            "34\n",
            "55\n",
            "87\n",
            "89\n"
          ]
        }
      ]
    },
    {
      "cell_type": "markdown",
      "source": [
        "---"
      ],
      "metadata": {
        "id": "BvCHGa5-KHhm"
      }
    },
    {
      "cell_type": "markdown",
      "source": [
        "## HackerRank"
      ],
      "metadata": {
        "id": "sEb0Vl54KIRk"
      }
    },
    {
      "cell_type": "markdown",
      "source": [
        "### Re.split()"
      ],
      "metadata": {
        "id": "b-V2IYUsKIxS"
      }
    },
    {
      "cell_type": "code",
      "source": [
        "regex_pattern = r\"[.,]+\"\n",
        "\n",
        "import re\n",
        "print(\"\\n\".join(re.split(regex_pattern, input())))"
      ],
      "metadata": {
        "id": "WYfUnMzDKI79"
      },
      "execution_count": null,
      "outputs": []
    },
    {
      "cell_type": "markdown",
      "source": [
        "**정규표현식**\n",
        "\n",
        "어떤 패턴으로 스플릿 시킬 것인지를 기준으로 패턴을 만들어야 함.    \n",
        "regex_patter으로 사전에 정규 표현식, split 패턴을 지정해 놓고 해당 패턴을 기준으로 split 시킴.    \n",
        "따라서 r\".,\"+를 사용함."
      ],
      "metadata": {
        "id": "EXnvPqrQmXOm"
      }
    }
  ]
}