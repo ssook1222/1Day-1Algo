{
  "nbformat": 4,
  "nbformat_minor": 0,
  "metadata": {
    "colab": {
      "provenance": [],
      "authorship_tag": "ABX9TyPiSq66aEsnbE5D9/5l01uZ",
      "include_colab_link": true
    },
    "kernelspec": {
      "name": "python3",
      "display_name": "Python 3"
    },
    "language_info": {
      "name": "python"
    }
  },
  "cells": [
    {
      "cell_type": "markdown",
      "metadata": {
        "id": "view-in-github",
        "colab_type": "text"
      },
      "source": [
        "<a href=\"https://colab.research.google.com/github/ssook1222/1Day-1Algo/blob/master/ssook/8%EC%9B%94/8%EC%9B%94%202%EC%A3%BC%EC%B0%A8/0812.ipynb\" target=\"_parent\"><img src=\"https://colab.research.google.com/assets/colab-badge.svg\" alt=\"Open In Colab\"/></a>"
      ]
    },
    {
      "cell_type": "markdown",
      "source": [
        "## BoJ"
      ],
      "metadata": {
        "id": "F5VnBL_iUj2Q"
      }
    },
    {
      "cell_type": "markdown",
      "source": [
        "### 6603"
      ],
      "metadata": {
        "id": "nEE6vFbGUl1I"
      }
    },
    {
      "cell_type": "code",
      "execution_count": null,
      "metadata": {
        "colab": {
          "base_uri": "https://localhost:8080/"
        },
        "id": "HsvtC5hnUfK6",
        "outputId": "e5d410a1-5067-4796-eee7-a41ddcb2041d"
      },
      "outputs": [
        {
          "name": "stdout",
          "output_type": "stream",
          "text": [
            "8 1 2 3 5 8 13 21 34\n",
            "1 2 3 5 8 13\n",
            "1 2 3 5 8 21\n",
            "1 2 3 5 8 34\n",
            "1 2 3 5 13 21\n",
            "1 2 3 5 13 34\n",
            "1 2 3 5 21 34\n",
            "1 2 3 8 13 21\n",
            "1 2 3 8 13 34\n",
            "1 2 3 8 21 34\n",
            "1 2 3 13 21 34\n",
            "1 2 5 8 13 21\n",
            "1 2 5 8 13 34\n",
            "1 2 5 8 21 34\n",
            "1 2 5 13 21 34\n",
            "1 2 8 13 21 34\n",
            "1 3 5 8 13 21\n",
            "1 3 5 8 13 34\n",
            "1 3 5 8 21 34\n",
            "1 3 5 13 21 34\n",
            "1 3 8 13 21 34\n",
            "1 5 8 13 21 34\n",
            "2 3 5 8 13 21\n",
            "2 3 5 8 13 34\n",
            "2 3 5 8 21 34\n",
            "2 3 5 13 21 34\n",
            "2 3 8 13 21 34\n",
            "2 5 8 13 21 34\n",
            "3 5 8 13 21 34\n",
            " \n",
            "0\n"
          ]
        }
      ],
      "source": [
        "import itertools\n",
        "import sys\n",
        "\n",
        "while True:\n",
        "  s = sys.stdin.readline().rstrip()\n",
        "  if s == '0':\n",
        "    break\n",
        "\n",
        "  num_list = list(map(int, s.split(\" \")))\n",
        "  k = num_list[0]\n",
        "  num_set = list(set(num_list[1:]))\n",
        "  num_set.sort()\n",
        "\n",
        "  res_list = itertools.combinations(num_set, 6)\n",
        "\n",
        "  for res in res_list:\n",
        "    print(*res)\n",
        "\n",
        "  print(\" \")"
      ]
    },
    {
      "cell_type": "markdown",
      "source": [
        "### 11652"
      ],
      "metadata": {
        "id": "7BRXclv5W7UT"
      }
    },
    {
      "cell_type": "code",
      "source": [
        "import sys\n",
        "\n",
        "card = {}\n",
        "\n",
        "n = int(sys.stdin.readline().rstrip())\n",
        "\n",
        "for i in range(n):\n",
        "  num = int(sys.stdin.readline().rstrip())\n",
        "\n",
        "  if num in card:\n",
        "    card[num] += 1\n",
        "\n",
        "  else:\n",
        "    card[num] = 1\n",
        "\n",
        "card = sorted(card.items(), key = lambda x:(-x[1],x[0]))\n",
        "\n",
        "print(card[0][0])"
      ],
      "metadata": {
        "id": "wcG-5teoW7gm"
      },
      "execution_count": null,
      "outputs": []
    },
    {
      "cell_type": "markdown",
      "source": [
        "---"
      ],
      "metadata": {
        "id": "57MI87lam35R"
      }
    },
    {
      "cell_type": "markdown",
      "source": [
        "## HackerRank"
      ],
      "metadata": {
        "id": "qK1ajWivm5FA"
      }
    },
    {
      "cell_type": "markdown",
      "source": [
        "### Sum and Prod"
      ],
      "metadata": {
        "id": "NEruX_aAm7Eq"
      }
    },
    {
      "cell_type": "code",
      "source": [
        "import numpy as np\n",
        "\n",
        "n, m = map(int, input().split(\" \"))\n",
        "raw = []\n",
        "\n",
        "for i in range(n):\n",
        "    arr = list(map(int, input().split(\" \")))\n",
        "    raw.append(arr)\n",
        "\n",
        "res = np.array(raw)\n",
        "raw_sum = np.sum(res, axis = 0)\n",
        "\n",
        "ans = 1\n",
        "\n",
        "for i in raw_sum:\n",
        "    ans *= i\n",
        "\n",
        "print(ans)"
      ],
      "metadata": {
        "id": "TaID1Y_am7PB"
      },
      "execution_count": null,
      "outputs": []
    },
    {
      "cell_type": "markdown",
      "source": [
        "---"
      ],
      "metadata": {
        "id": "qnleaqA5x_-9"
      }
    },
    {
      "cell_type": "markdown",
      "source": [
        "### Python (Basic) Skills Certification Test"
      ],
      "metadata": {
        "id": "v4MYztw6yA1w"
      }
    },
    {
      "cell_type": "code",
      "source": [
        "def transformSentence(sentence):\n",
        "    transformed = sentence[0]  # 첫번째 문자는 변경되지 않음\n",
        "\n",
        "    for i in range(1, len(sentence)):\n",
        "        x = sentence[i]\n",
        "        y = sentence[i - 1]\n",
        "\n",
        "        if x.isalpha() and y.isalpha():\n",
        "            if ord(y.lower()) < ord(x.lower()):\n",
        "                transformed += x.upper()\n",
        "            elif ord(x.lower()) < ord(y.lower()):\n",
        "                transformed += x.lower()\n",
        "            else:\n",
        "                transformed += x\n",
        "        else:\n",
        "            transformed += x\n",
        "\n",
        "    return transformed\n",
        "\n",
        "if __name__ == '__main__':\n",
        "    sentence = input()\n",
        "    result = transformSentence(sentence)\n",
        "    print(result)\n"
      ],
      "metadata": {
        "id": "MseG9XnvybK0"
      },
      "execution_count": null,
      "outputs": []
    },
    {
      "cell_type": "markdown",
      "source": [
        "---"
      ],
      "metadata": {
        "id": "kBMDeChIycnU"
      }
    },
    {
      "cell_type": "code",
      "source": [
        "class VendingMachine:\n",
        "    def __init__(self, num_items, item_prices):\n",
        "        self.num_items = num_items\n",
        "        self.item_prices = item_prices\n",
        "\n",
        "    def buy(self, req_items, money):\n",
        "        if req_items > self.num_items:\n",
        "            raise ValueError(\"Not enough items in the machine\")\n",
        "\n",
        "        if money < self.item_prices * req_items:\n",
        "            raise ValueError(\"Not enough coins\")\n",
        "\n",
        "        self.num_items -= req_items\n",
        "        change = money - (self.item_prices * req_items)\n",
        "        return change\n",
        "\n",
        "if __name__ == '__main__':\n",
        "    fptr = open(os.environ['OUTPUT_PATH'], 'w')\n",
        "\n",
        "    num_items, item_coins = map(int, input().split())\n",
        "    item_prices = int(input())\n",
        "    machine = VendingMachine(num_items, item_prices)\n",
        "\n",
        "    n = int(input())\n",
        "    for _ in range(n):\n",
        "        num_items, num_coins = map(int, input().split())\n",
        "        try:\n",
        "            change = machine.buy(num_items, num_coins)\n",
        "            fptr.write(str(change) + \"\\n\")\n",
        "        except ValueError as e:\n",
        "            fptr.write(str(e) + \"\\n\")\n",
        "\n",
        "    fptr.close()\n"
      ],
      "metadata": {
        "id": "SbC9x434ydOT"
      },
      "execution_count": null,
      "outputs": []
    }
  ]
}