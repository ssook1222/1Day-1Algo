{
  "nbformat": 4,
  "nbformat_minor": 0,
  "metadata": {
    "colab": {
      "provenance": [],
      "authorship_tag": "ABX9TyOf2gWfwX8Jd7dqp5fnSp2I",
      "include_colab_link": true
    },
    "kernelspec": {
      "name": "python3",
      "display_name": "Python 3"
    },
    "language_info": {
      "name": "python"
    }
  },
  "cells": [
    {
      "cell_type": "markdown",
      "metadata": {
        "id": "view-in-github",
        "colab_type": "text"
      },
      "source": [
        "<a href=\"https://colab.research.google.com/github/ssook1222/1Day-1Algo/blob/master/ssook/8%EC%9B%94/8%EC%9B%94%202%EC%A3%BC%EC%B0%A8/0809.ipynb\" target=\"_parent\"><img src=\"https://colab.research.google.com/assets/colab-badge.svg\" alt=\"Open In Colab\"/></a>"
      ]
    },
    {
      "cell_type": "markdown",
      "source": [
        "## BoJ"
      ],
      "metadata": {
        "id": "CAtkF6tnZA_W"
      }
    },
    {
      "cell_type": "markdown",
      "source": [
        "### 6550"
      ],
      "metadata": {
        "id": "0rA1Jss3ZC48"
      }
    },
    {
      "cell_type": "code",
      "execution_count": 6,
      "metadata": {
        "id": "Pii8qg4cY_FU",
        "colab": {
          "base_uri": "https://localhost:8080/"
        },
        "outputId": "0a3679e6-3a61-4240-fe9e-ff8a6d1a3e6d"
      },
      "outputs": [
        {
          "name": "stdout",
          "output_type": "stream",
          "text": [
            "caseDoesMatter CaseDoesMatter\n",
            "No\n",
            "sequence subsequence\n",
            "Yes\n",
            "person compression\n",
            "No\n",
            "VERDI vivaVittorioEmanueleReDiItalia\n",
            "Yes\n",
            "\n"
          ]
        }
      ],
      "source": [
        "import sys\n",
        "\n",
        "while True:\n",
        "  raw = sys.stdin.readline().rstrip()\n",
        "\n",
        "  if not raw:\n",
        "    break\n",
        "\n",
        "  s, t = map(str, raw.split(\" \"))\n",
        "\n",
        "  check = False\n",
        "  length = 0\n",
        "\n",
        "  for i in range(len(t)):\n",
        "    if t[i] == s[length]:\n",
        "      length += 1\n",
        "\n",
        "      if length == len(s):\n",
        "        check = True\n",
        "        break\n",
        "\n",
        "  if check == True:\n",
        "    print(\"Yes\")\n",
        "  else:\n",
        "    print(\"No\")"
      ]
    },
    {
      "cell_type": "markdown",
      "source": [
        "### 14470"
      ],
      "metadata": {
        "id": "oOErlxujZD23"
      }
    },
    {
      "cell_type": "code",
      "source": [
        "a = int(input()) # 0보다 낮으면 얼고 아니면 안 얼음\n",
        "b = int(input()) # 목표 온도\n",
        "c = int(input()) # 얼어 있는 고기를 1도 올리는데 걸리는 시간\n",
        "d = int(input()) # 얼어 있는 고기를 해동하는 데 걸리는 시간\n",
        "e = int(input()) # 얼지 않은 고기를 1도 데우는 데 걸리는 시간\n",
        "\n",
        "time = 0\n",
        "\n",
        "if a < 0 : # 언 상태\n",
        "  time = (0 - a) * c\n",
        "  time += d\n",
        "  time += (b * e)\n",
        "  print(time)\n",
        "\n",
        "else: # 안 언 상태\n",
        "  print((b - a) * e )"
      ],
      "metadata": {
        "id": "53ROV_h1ZEMQ",
        "colab": {
          "base_uri": "https://localhost:8080/"
        },
        "outputId": "98360bc7-56e2-4c43-942a-32015a9e6356"
      },
      "execution_count": 16,
      "outputs": [
        {
          "output_type": "stream",
          "name": "stdout",
          "text": [
            "35\n",
            "92\n",
            "31\n",
            "50\n",
            "11\n",
            "627\n"
          ]
        }
      ]
    },
    {
      "cell_type": "markdown",
      "source": [
        "---"
      ],
      "metadata": {
        "id": "_0_J38eiZEhN"
      }
    },
    {
      "cell_type": "markdown",
      "source": [
        "## HackerRank"
      ],
      "metadata": {
        "id": "wmcwikehZFet"
      }
    },
    {
      "cell_type": "markdown",
      "source": [
        "### Set .union() Operation"
      ],
      "metadata": {
        "id": "HlgwrzgBZHrq"
      }
    },
    {
      "cell_type": "code",
      "source": [
        "# Enter your code here. Read input from STDIN. Print output to STDOUT\n",
        "\n",
        "n1 = int(input())\n",
        "a = set(list(map(int, input().split(\" \"))))\n",
        "n2 = int(input())\n",
        "b = set(list(map(int, input().split(\" \"))))\n",
        "\n",
        "c = a.union(b)\n",
        "\n",
        "print(len(c))\n"
      ],
      "metadata": {
        "id": "-PCqIUhrZH9P"
      },
      "execution_count": null,
      "outputs": []
    }
  ]
}