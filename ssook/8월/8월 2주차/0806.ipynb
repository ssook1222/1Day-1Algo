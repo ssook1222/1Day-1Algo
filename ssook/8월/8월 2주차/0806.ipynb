{
  "nbformat": 4,
  "nbformat_minor": 0,
  "metadata": {
    "colab": {
      "provenance": [],
      "authorship_tag": "ABX9TyMGENkETrbXoj/pqtMnl60D",
      "include_colab_link": true
    },
    "kernelspec": {
      "name": "python3",
      "display_name": "Python 3"
    },
    "language_info": {
      "name": "python"
    }
  },
  "cells": [
    {
      "cell_type": "markdown",
      "metadata": {
        "id": "view-in-github",
        "colab_type": "text"
      },
      "source": [
        "<a href=\"https://colab.research.google.com/github/ssook1222/1Day-1Algo/blob/master/ssook/8%EC%9B%94/8%EC%9B%94%202%EC%A3%BC%EC%B0%A8/0806.ipynb\" target=\"_parent\"><img src=\"https://colab.research.google.com/assets/colab-badge.svg\" alt=\"Open In Colab\"/></a>"
      ]
    },
    {
      "cell_type": "markdown",
      "source": [
        "## BoJ"
      ],
      "metadata": {
        "id": "TcSFRsQiTuIX"
      }
    },
    {
      "cell_type": "markdown",
      "source": [
        "### 20920"
      ],
      "metadata": {
        "id": "Cl9lhLgBaHlH"
      }
    },
    {
      "cell_type": "code",
      "execution_count": 8,
      "metadata": {
        "colab": {
          "base_uri": "https://localhost:8080/"
        },
        "id": "sHiPFvHvTsA_",
        "outputId": "0b7af880-f107-4de3-acef-63bc94b7d395"
      },
      "outputs": [
        {
          "output_type": "stream",
          "name": "stdout",
          "text": [
            "12 5\n",
            "apperance\n",
            "append\n",
            "attendance\n",
            "swim\n",
            "swift\n",
            "swift\n",
            "swift\n",
            "mouse\n",
            "wallet\n",
            "mouse\n",
            "ice\n",
            "age\n",
            "swift\n",
            "mouse\n",
            "attendance\n",
            "apperance\n",
            "append\n",
            "wallet\n"
          ]
        }
      ],
      "source": [
        "import sys\n",
        "\n",
        "n, m = map(int, sys.stdin.readline().rstrip().split(\" \"))\n",
        "word = {}\n",
        "\n",
        "for i in range(n):\n",
        "    s = sys.stdin.readline().rstrip()\n",
        "    if len(s) >= m:\n",
        "        if s in word:\n",
        "            word[s] += 1\n",
        "        else:\n",
        "            word[s] = 1\n",
        "\n",
        "# 자주 나오는 단어일수록 앞에 배치하고, 단어의 길이와 알파벳 순서를 고려하여 정렬\n",
        "sorted_word = sorted(word.items(), key=lambda item: (-item[1], -len(item[0]), item[0]))\n",
        "\n",
        "# 정렬된 결과에서 단어만 추출하여 출력\n",
        "result = [item[0] for item in sorted_word]\n",
        "for word in result:\n",
        "    print(word)"
      ]
    },
    {
      "cell_type": "markdown",
      "source": [
        "### 9655"
      ],
      "metadata": {
        "id": "tMcrSd2iaJyz"
      }
    },
    {
      "cell_type": "code",
      "source": [
        "n = int(input())\n",
        "\n",
        "if n % 2 == 0:\n",
        "  print(\"CY\")\n",
        "else:\n",
        "  print(\"SK\")"
      ],
      "metadata": {
        "colab": {
          "base_uri": "https://localhost:8080/"
        },
        "id": "p4aSM4HaaJ_0",
        "outputId": "47b62f00-73fc-445b-cdd1-107fa49ae7fb"
      },
      "execution_count": 9,
      "outputs": [
        {
          "output_type": "stream",
          "name": "stdout",
          "text": [
            "5\n",
            "SK\n"
          ]
        }
      ]
    },
    {
      "cell_type": "markdown",
      "source": [
        "---"
      ],
      "metadata": {
        "id": "vvHSVLY2bw6K"
      }
    },
    {
      "cell_type": "markdown",
      "source": [
        "## HackerRanck"
      ],
      "metadata": {
        "id": "JJP9PGnjbxgI"
      }
    },
    {
      "cell_type": "markdown",
      "source": [
        "### Collections.deque()"
      ],
      "metadata": {
        "id": "8nRAL4hdbz0H"
      }
    },
    {
      "cell_type": "code",
      "source": [
        "from collections import deque\n",
        "\n",
        "n = int(input())\n",
        "deq = deque()\n",
        "res = []\n",
        "\n",
        "for i in range(n):\n",
        "    cmd_raw = input()\n",
        "    if ' ' in cmd_raw:\n",
        "        cmd_list = list(cmd_raw.split(\" \"))\n",
        "        cmd_num = int(cmd_list[1])\n",
        "        cmd = cmd_list[0]\n",
        "    else:\n",
        "        cmd = cmd_raw\n",
        "\n",
        "    if cmd == 'append':\n",
        "        deq.append(cmd_num)\n",
        "\n",
        "    if cmd == 'appendleft':\n",
        "        deq.appendleft(cmd_num)\n",
        "\n",
        "    if cmd == 'pop':\n",
        "        res.append(deq.pop())\n",
        "\n",
        "    if cmd == 'popleft':\n",
        "        res.append(deq.popleft())\n",
        "\n",
        "print(*deq)"
      ],
      "metadata": {
        "id": "FRuOTIerf8tw"
      },
      "execution_count": null,
      "outputs": []
    }
  ]
}