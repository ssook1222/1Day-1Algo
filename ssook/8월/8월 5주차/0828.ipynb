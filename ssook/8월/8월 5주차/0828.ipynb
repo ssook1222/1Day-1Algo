{
  "nbformat": 4,
  "nbformat_minor": 0,
  "metadata": {
    "colab": {
      "provenance": [],
      "authorship_tag": "ABX9TyMi7ma3HaImWnXGxUy8IPhg",
      "include_colab_link": true
    },
    "kernelspec": {
      "name": "python3",
      "display_name": "Python 3"
    },
    "language_info": {
      "name": "python"
    }
  },
  "cells": [
    {
      "cell_type": "markdown",
      "metadata": {
        "id": "view-in-github",
        "colab_type": "text"
      },
      "source": [
        "<a href=\"https://colab.research.google.com/github/ssook1222/1Day-1Algo/blob/master/ssook/8%EC%9B%94/8%EC%9B%94%205%EC%A3%BC%EC%B0%A8/0828.ipynb\" target=\"_parent\"><img src=\"https://colab.research.google.com/assets/colab-badge.svg\" alt=\"Open In Colab\"/></a>"
      ]
    },
    {
      "cell_type": "markdown",
      "source": [
        "## BoJ"
      ],
      "metadata": {
        "id": "iCX1rWKwxnWl"
      }
    },
    {
      "cell_type": "markdown",
      "source": [
        "### 5235"
      ],
      "metadata": {
        "id": "p8auGvpkxpbc"
      }
    },
    {
      "cell_type": "code",
      "execution_count": 1,
      "metadata": {
        "id": "eW0nIX6Txl0M",
        "colab": {
          "base_uri": "https://localhost:8080/"
        },
        "outputId": "92e06d11-e128-401d-d8ba-99026cd97eb8"
      },
      "outputs": [
        {
          "output_type": "stream",
          "name": "stdout",
          "text": [
            "1\n",
            "8 5 7 2 1 10 13 6 12\n",
            "EVEN\n"
          ]
        }
      ],
      "source": [
        "n = int(input())\n",
        "\n",
        "for _ in range(n):\n",
        "\n",
        "  k, *nums = map(int, input().split())\n",
        "\n",
        "  odds = 0\n",
        "  evens = 0\n",
        "\n",
        "  for i in nums:\n",
        "    if i % 2 == 0 :\n",
        "      evens += i\n",
        "    else:\n",
        "      odds += i\n",
        "\n",
        "  if evens > odds:\n",
        "    print(\"EVEN\")\n",
        "\n",
        "  elif evens < odds:\n",
        "    print(\"ODD\")\n",
        "\n",
        "  else:\n",
        "    print(\"TIE\")"
      ]
    },
    {
      "cell_type": "markdown",
      "source": [
        " #### Value Error 7트 원인\n",
        "\n",
        " `split(\" \")`은 스페이스 하나를 구분자로 사용하므로,\n",
        " 여러 개의 스페이스가 연속으로 있는 경우에도 하나의 스페이스로 간주하여 분리함. 이로 인해 빈 문자열(\"\")이 생성되며, int(\"\")와 같이 빈 문자열을 정수로 변환하려고 하면 ValueError가 발생\n",
        "\n",
        "이를 해결하기 위해서는 `split()` 함수를 사용하여 스페이스를 구분자로 사용하면 됨. `split()` 함수를 호출할 때 인자를 지정하지 않으면\n",
        "스페이스뿐만 아니라 모든 공백 문자(스페이스, 탭, 개행 등)를 구분자로 사용 가능함."
      ],
      "metadata": {
        "id": "ANcKFbwMY5xI"
      }
    },
    {
      "cell_type": "markdown",
      "source": [
        "### 28417"
      ],
      "metadata": {
        "id": "p2F8U5gFxprR"
      }
    },
    {
      "cell_type": "code",
      "source": [
        "n = int(input())\n",
        "max_num = -1e9\n",
        "\n",
        "for i in range(n):\n",
        "  raw = list(map(int, input().split(\" \")))\n",
        "\n",
        "  run = raw[:2]\n",
        "\n",
        "  trick = raw[2:]\n",
        "  trick.sort(reverse = True)\n",
        "\n",
        "  if max_num < max(run)+sum(trick[:2]):\n",
        "    max_num = max(run)+sum(trick[:2])\n",
        "\n",
        "print(max_num)"
      ],
      "metadata": {
        "id": "suVsph1Ixp6r",
        "colab": {
          "base_uri": "https://localhost:8080/"
        },
        "outputId": "5d981995-ef99-48a2-f918-295be3b3010f"
      },
      "execution_count": 14,
      "outputs": [
        {
          "output_type": "stream",
          "name": "stdout",
          "text": [
            "2\n",
            "1 2 4 2 3 1 1\n",
            "5 5 5 5 5 5 5\n",
            "15\n"
          ]
        }
      ]
    },
    {
      "cell_type": "markdown",
      "source": [
        "---"
      ],
      "metadata": {
        "id": "72HJMutDxqdc"
      }
    },
    {
      "cell_type": "markdown",
      "source": [
        "## LeetCode"
      ],
      "metadata": {
        "id": "5qwV9tRgxqq8"
      }
    },
    {
      "cell_type": "markdown",
      "source": [
        "### 1108. Defanging an IP Address\n"
      ],
      "metadata": {
        "id": "RqpFjqk1xuV8"
      }
    },
    {
      "cell_type": "code",
      "source": [
        "class Solution:\n",
        "    def defangIPaddr(self, address: str) -> str:\n",
        "        address = address.replace('.', '[.]')\n",
        "        return address"
      ],
      "metadata": {
        "id": "6v_3ZGBkxut4"
      },
      "execution_count": null,
      "outputs": []
    }
  ]
}