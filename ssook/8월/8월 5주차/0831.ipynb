{
  "nbformat": 4,
  "nbformat_minor": 0,
  "metadata": {
    "colab": {
      "provenance": [],
      "authorship_tag": "ABX9TyM4Ql0Cq5IMV6g1cMKqTYGq",
      "include_colab_link": true
    },
    "kernelspec": {
      "name": "python3",
      "display_name": "Python 3"
    },
    "language_info": {
      "name": "python"
    }
  },
  "cells": [
    {
      "cell_type": "markdown",
      "metadata": {
        "id": "view-in-github",
        "colab_type": "text"
      },
      "source": [
        "<a href=\"https://colab.research.google.com/github/ssook1222/1Day-1Algo/blob/master/ssook/8%EC%9B%94/8%EC%9B%94%205%EC%A3%BC%EC%B0%A8/0831.ipynb\" target=\"_parent\"><img src=\"https://colab.research.google.com/assets/colab-badge.svg\" alt=\"Open In Colab\"/></a>"
      ]
    },
    {
      "cell_type": "markdown",
      "source": [
        "## BoJ"
      ],
      "metadata": {
        "id": "klYuoh4q0lm3"
      }
    },
    {
      "cell_type": "markdown",
      "source": [
        "### 13623"
      ],
      "metadata": {
        "id": "77B1fwyj0mr5"
      }
    },
    {
      "cell_type": "code",
      "execution_count": 1,
      "metadata": {
        "colab": {
          "base_uri": "https://localhost:8080/"
        },
        "id": "TOZ8G-Qj0jpn",
        "outputId": "2037001c-1fa8-44fd-e836-83bd8154d1c4"
      },
      "outputs": [
        {
          "output_type": "stream",
          "name": "stdout",
          "text": [
            "1 0 0\n",
            "a\n"
          ]
        }
      ],
      "source": [
        "a, b, c = map(int, input().split(\" \"))\n",
        "\n",
        "if a == b == c:\n",
        "  print('*')\n",
        "\n",
        "elif a == b and a != c:\n",
        "  print('C')\n",
        "\n",
        "elif a == c and a != b:\n",
        "  print('B')\n",
        "\n",
        "elif b == c and a != b:\n",
        "  print('A')"
      ]
    },
    {
      "cell_type": "markdown",
      "source": [
        "### 7530"
      ],
      "metadata": {
        "id": "fHdR6zCk0m9z"
      }
    },
    {
      "cell_type": "code",
      "source": [
        "import sys\n",
        "\n",
        "def main():\n",
        "    t = int(sys.stdin.readline().rstrip())\n",
        "    for i in range(1, t + 1):\n",
        "        print(f\"Scenario #{i}:\")\n",
        "\n",
        "        need, f = map(int, sys.stdin.readline().rstrip().split())\n",
        "        num = list(map(int, sys.stdin.readline().rstrip().split()))\n",
        "\n",
        "        num.sort(reverse=True)\n",
        "\n",
        "        a = 0\n",
        "\n",
        "        while need > 0 and a < f:\n",
        "            need -= num[a]\n",
        "            a += 1\n",
        "\n",
        "        if need <= 0:\n",
        "            print(a)\n",
        "        else:\n",
        "            print(\"impossible\")\n",
        "\n",
        "        print()\n",
        "\n",
        "if __name__ == \"__main__\":\n",
        "    main()\n"
      ],
      "metadata": {
        "colab": {
          "base_uri": "https://localhost:8080/"
        },
        "id": "TDJy6h3I0nPK",
        "outputId": "8f190f87-ff64-4590-9461-417dbce4a751"
      },
      "execution_count": 12,
      "outputs": [
        {
          "output_type": "stream",
          "name": "stdout",
          "text": [
            "3\n",
            "100 6\n",
            "13 17 42 9 23 57\n",
            "Scenario #1: \n",
            "3\n",
            " \n",
            "99 6\n",
            "13 17 42 9 23 57\n",
            "Scenario #2: \n",
            "2\n",
            " \n",
            "1000 3\n",
            "314 159 265\n",
            "impossible\n"
          ]
        }
      ]
    },
    {
      "cell_type": "markdown",
      "source": [
        "---"
      ],
      "metadata": {
        "id": "v0F66f460nbM"
      }
    },
    {
      "cell_type": "markdown",
      "source": [
        "## LeetCode"
      ],
      "metadata": {
        "id": "YB2arUyk0oIl"
      }
    },
    {
      "cell_type": "markdown",
      "source": [
        "### 2413. Smallest Even Multiple"
      ],
      "metadata": {
        "id": "Oiu9M-9e0pyQ"
      }
    },
    {
      "cell_type": "code",
      "source": [
        "class Solution:\n",
        "    def smallestEvenMultiple(self, n: int) -> int:\n",
        "        if n % 2 == 0:\n",
        "            return n\n",
        "        else:\n",
        "            return n * 2"
      ],
      "metadata": {
        "id": "fcwOoy3x0oUw"
      },
      "execution_count": null,
      "outputs": []
    }
  ]
}