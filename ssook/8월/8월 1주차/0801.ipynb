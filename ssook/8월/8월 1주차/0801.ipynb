{
  "nbformat": 4,
  "nbformat_minor": 0,
  "metadata": {
    "colab": {
      "provenance": [],
      "authorship_tag": "ABX9TyMnXmmYvqTXyLoi2mf0ov8E",
      "include_colab_link": true
    },
    "kernelspec": {
      "name": "python3",
      "display_name": "Python 3"
    },
    "language_info": {
      "name": "python"
    }
  },
  "cells": [
    {
      "cell_type": "markdown",
      "metadata": {
        "id": "view-in-github",
        "colab_type": "text"
      },
      "source": [
        "<a href=\"https://colab.research.google.com/github/ssook1222/1Day-1Algo/blob/master/ssook/8%EC%9B%94/8%EC%9B%94%201%EC%A3%BC%EC%B0%A8/0801.ipynb\" target=\"_parent\"><img src=\"https://colab.research.google.com/assets/colab-badge.svg\" alt=\"Open In Colab\"/></a>"
      ]
    },
    {
      "cell_type": "markdown",
      "source": [
        "## BoJ"
      ],
      "metadata": {
        "id": "Ia_0xqXRKvJg"
      }
    },
    {
      "cell_type": "markdown",
      "source": [
        "### 14652"
      ],
      "metadata": {
        "id": "F7FQwJAgK3T4"
      }
    },
    {
      "cell_type": "code",
      "execution_count": null,
      "metadata": {
        "id": "2QIpcBMTKc53",
        "colab": {
          "base_uri": "https://localhost:8080/"
        },
        "outputId": "4fc5629b-eeeb-4273-a678-62ab9a45e663"
      },
      "outputs": [
        {
          "output_type": "stream",
          "name": "stdout",
          "text": [
            "3 4 6\n",
            "1 2\n"
          ]
        }
      ],
      "source": [
        "n, m, k = map(int, input().split(\" \"))\n",
        "n = k // m\n",
        "m = k % m\n",
        "print(n, m)"
      ]
    },
    {
      "cell_type": "markdown",
      "source": [
        "### 1543"
      ],
      "metadata": {
        "id": "zXGr80WoK3nb"
      }
    },
    {
      "cell_type": "code",
      "source": [
        "cnt = 0\n",
        "\n",
        "s = input()\n",
        "bigyo = input()\n",
        "\n",
        "while bigyo in s:\n",
        "  s = s.replace(bigyo, '/', 1)\n",
        "  cnt += 1\n",
        "\n",
        "print(cnt)"
      ],
      "metadata": {
        "id": "Fiv9aXlsK33s",
        "colab": {
          "base_uri": "https://localhost:8080/"
        },
        "outputId": "2f9f3408-d215-4379-872c-8ac2ad34e21e"
      },
      "execution_count": null,
      "outputs": [
        {
          "output_type": "stream",
          "name": "stdout",
          "text": [
            "aabb\n",
            "ab\n",
            "1\n"
          ]
        }
      ]
    },
    {
      "cell_type": "markdown",
      "source": [
        "---"
      ],
      "metadata": {
        "id": "QxaiSNegK2Lr"
      }
    },
    {
      "cell_type": "markdown",
      "source": [
        "## HackerRank"
      ],
      "metadata": {
        "id": "6RR_Ph_TKzxd"
      }
    },
    {
      "cell_type": "markdown",
      "source": [
        "### Mod Divmod"
      ],
      "metadata": {
        "id": "_jxRc_DkU52T"
      }
    },
    {
      "cell_type": "code",
      "source": [
        "a = int(input())\n",
        "b = int(input())\n",
        "\n",
        "print(a//b)\n",
        "print(a%b)\n",
        "print(divmod(a, b))"
      ],
      "metadata": {
        "id": "34VE7o9rK1fP"
      },
      "execution_count": null,
      "outputs": []
    },
    {
      "cell_type": "markdown",
      "source": [
        "### Power - Mod Power"
      ],
      "metadata": {
        "id": "zQzTSB213bwl"
      }
    },
    {
      "cell_type": "code",
      "source": [
        "import math\n",
        "\n",
        "a = int(input())\n",
        "b = int(input())\n",
        "m = int(input())\n",
        "\n",
        "print(pow(a,b))\n",
        "print(pow(a,b,m))"
      ],
      "metadata": {
        "id": "t59r2vhK3b7D"
      },
      "execution_count": null,
      "outputs": []
    }
  ]
}