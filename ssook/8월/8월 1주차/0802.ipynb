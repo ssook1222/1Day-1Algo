{
  "nbformat": 4,
  "nbformat_minor": 0,
  "metadata": {
    "colab": {
      "provenance": [],
      "authorship_tag": "ABX9TyP0vJmTl6Qi3oh94rFVB8Fc",
      "include_colab_link": true
    },
    "kernelspec": {
      "name": "python3",
      "display_name": "Python 3"
    },
    "language_info": {
      "name": "python"
    }
  },
  "cells": [
    {
      "cell_type": "markdown",
      "metadata": {
        "id": "view-in-github",
        "colab_type": "text"
      },
      "source": [
        "<a href=\"https://colab.research.google.com/github/ssook1222/1Day-1Algo/blob/master/ssook/8%EC%9B%94/8%EC%9B%94%201%EC%A3%BC%EC%B0%A8/0802.ipynb\" target=\"_parent\"><img src=\"https://colab.research.google.com/assets/colab-badge.svg\" alt=\"Open In Colab\"/></a>"
      ]
    },
    {
      "cell_type": "markdown",
      "source": [
        "## BoJ"
      ],
      "metadata": {
        "id": "bDba1MtlQ0Tq"
      }
    },
    {
      "cell_type": "markdown",
      "source": [
        "### 17256"
      ],
      "metadata": {
        "id": "oPtlir5ZQ6LF"
      }
    },
    {
      "cell_type": "code",
      "execution_count": null,
      "metadata": {
        "colab": {
          "base_uri": "https://localhost:8080/"
        },
        "id": "Cx66exDxQyd1",
        "outputId": "4bb4643c-7be3-4b66-d7c7-3944c6bd4a55"
      },
      "outputs": [
        {
          "output_type": "stream",
          "name": "stdout",
          "text": [
            "15 16 17\n",
            "19 32 90\n",
            "2 2 75\n"
          ]
        }
      ],
      "source": [
        "ax, ay, az = map(int, input().split(\" \"))\n",
        "cx, cy, cz = map(int, input().split(\" \"))\n",
        "\n",
        "\n",
        "bx = cx-az\n",
        "by = cy//ay\n",
        "bz = cz-ax\n",
        "\n",
        "print(bx, by, bz)"
      ]
    },
    {
      "cell_type": "markdown",
      "source": [
        "### 1522"
      ],
      "metadata": {
        "id": "WE1N3F6NQ7zA"
      }
    },
    {
      "cell_type": "code",
      "source": [
        "import sys\n",
        "\n",
        "s = list(sys.stdin.readline().rstrip())\n",
        "\n",
        "a_cnt = s.count('a')\n",
        "answer = 1e9\n",
        "\n",
        "left = 0\n",
        "\n",
        "while left < len(s):\n",
        "  right = left + a_cnt\n",
        "\n",
        "  if right > len(s):\n",
        "    tmp = s[left:len(s)] + s[:right-len(s)]\n",
        "\n",
        "  else:\n",
        "    tmp = s[left:right]\n",
        "\n",
        "  answer = min(answer, tmp.count('b'))\n",
        "  left += 1\n",
        "\n",
        "print(answer)"
      ],
      "metadata": {
        "id": "2TcS2qt7Q7-o",
        "colab": {
          "base_uri": "https://localhost:8080/"
        },
        "outputId": "577cb0f5-bf14-4bef-8628-a645a4108a48"
      },
      "execution_count": 2,
      "outputs": [
        {
          "output_type": "stream",
          "name": "stdout",
          "text": [
            "abababababababa\n",
            "3\n"
          ]
        }
      ]
    },
    {
      "cell_type": "markdown",
      "source": [
        "a가 연속적이여야 한다 = **a의 개수 만큼 연속적으로 위치**해야 한다       \n",
        "\"ababa\" 라는 문자열이 있다면,     \n",
        "a가 3개이므로 \"aaabb\", \"baaab\", \"bbaaa\".... 등 a가 3개 연속적으로 위치해야 한다.     \n",
        "\n",
        "- 인덱스 0 부터 끝까지 **a의 개수 만큼의 길이를 슬라이딩 윈도우로 생각**하고    \n",
        "**b의 개수를 세면 b를 교환**해야 함. → 그리고 **b를 최소한으로 교환**하는 것이 정답."
      ],
      "metadata": {
        "id": "t0tx-RYbhPTQ"
      }
    },
    {
      "cell_type": "markdown",
      "source": [
        "---"
      ],
      "metadata": {
        "id": "X38SehXPQ8Wi"
      }
    },
    {
      "cell_type": "markdown",
      "source": [
        "## HackerRank"
      ],
      "metadata": {
        "id": "rbvZkhxfQ9Bn"
      }
    },
    {
      "cell_type": "markdown",
      "source": [
        "### Set .add()"
      ],
      "metadata": {
        "id": "jbNi4-liQ_A3"
      }
    },
    {
      "cell_type": "code",
      "source": [
        "n = int(input())\n",
        "country = set()\n",
        "\n",
        "for i in range(n):\n",
        "    country.add(input())\n",
        "\n",
        "print(len(country))"
      ],
      "metadata": {
        "id": "Odx79S0rQ_Rk"
      },
      "execution_count": null,
      "outputs": []
    }
  ]
}