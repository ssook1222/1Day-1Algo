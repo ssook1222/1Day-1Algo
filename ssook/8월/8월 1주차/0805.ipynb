{
  "nbformat": 4,
  "nbformat_minor": 0,
  "metadata": {
    "colab": {
      "provenance": [],
      "authorship_tag": "ABX9TyN3yXfpYNBe0b3Rh32sPmhz",
      "include_colab_link": true
    },
    "kernelspec": {
      "name": "python3",
      "display_name": "Python 3"
    },
    "language_info": {
      "name": "python"
    }
  },
  "cells": [
    {
      "cell_type": "markdown",
      "metadata": {
        "id": "view-in-github",
        "colab_type": "text"
      },
      "source": [
        "<a href=\"https://colab.research.google.com/github/ssook1222/1Day-1Algo/blob/master/ssook/8%EC%9B%94/8%EC%9B%94%201%EC%A3%BC%EC%B0%A8/0805.ipynb\" target=\"_parent\"><img src=\"https://colab.research.google.com/assets/colab-badge.svg\" alt=\"Open In Colab\"/></a>"
      ]
    },
    {
      "cell_type": "markdown",
      "source": [
        "## BoJ"
      ],
      "metadata": {
        "id": "b_Mba4reyWDc"
      }
    },
    {
      "cell_type": "markdown",
      "source": [
        "### 28279"
      ],
      "metadata": {
        "id": "kx5r3eGGyYvF"
      }
    },
    {
      "cell_type": "code",
      "execution_count": 1,
      "metadata": {
        "colab": {
          "base_uri": "https://localhost:8080/"
        },
        "id": "XwD9YLtQyUWY",
        "outputId": "aab71292-1962-40c4-bdd2-aa9b5cb9a66b"
      },
      "outputs": [
        {
          "output_type": "stream",
          "name": "stdout",
          "text": [
            "11\n",
            "6\n",
            "1\n",
            "1 3\n",
            "1 8\n",
            "7\n",
            "8\n",
            "8\n",
            "3\n",
            "3\n",
            "8\n",
            "2 5\n",
            "1 2\n",
            "5\n",
            "3\n",
            "4\n",
            "5\n",
            "4\n",
            "3\n"
          ]
        }
      ],
      "source": [
        "from collections import deque\n",
        "import sys\n",
        "\n",
        "deq = deque()\n",
        "\n",
        "n = int(sys.stdin.readline().rstrip())\n",
        "\n",
        "for i in range(n):\n",
        "\n",
        "  cmd_raw = sys.stdin.readline().rstrip()\n",
        "\n",
        "  if len(cmd_raw) == 1 :\n",
        "    cmd1 = int(cmd_raw)\n",
        "\n",
        "  elif len(cmd_raw) >= 2:\n",
        "    cmd1, cmd2 = map(int, cmd_raw.split(\" \"))\n",
        "\n",
        "  if cmd1 == 1:\n",
        "    deq.appendleft(cmd2)\n",
        "\n",
        "  if cmd1 == 2:\n",
        "    deq.append(cmd2)\n",
        "\n",
        "  if cmd1 == 3:\n",
        "    if deq:\n",
        "      num = deq.popleft()\n",
        "      print(num)\n",
        "    else:\n",
        "      print(-1)\n",
        "\n",
        "  if cmd1 == 4:\n",
        "    if deq:\n",
        "      num = deq.pop()\n",
        "      print(num)\n",
        "    else:\n",
        "      print(-1)\n",
        "\n",
        "  if cmd1 == 5:\n",
        "    print(len(deq))\n",
        "\n",
        "  if cmd1 == 6:\n",
        "    if deq:\n",
        "      print(0)\n",
        "    else:\n",
        "      print(1)\n",
        "\n",
        "  if cmd1 == 7:\n",
        "    if deq:\n",
        "      print(deq[0])\n",
        "    else:\n",
        "      print(-1)\n",
        "\n",
        "  if cmd1 == 8:\n",
        "    if deq:\n",
        "      print(deq[-1])\n",
        "    else:\n",
        "      print(-1)"
      ]
    },
    {
      "cell_type": "markdown",
      "source": [
        "### 2975"
      ],
      "metadata": {
        "id": "Fgw__KBryZAU"
      }
    },
    {
      "cell_type": "code",
      "source": [
        "def calculate_balance(starting_balance, transaction_type, amount):\n",
        "    if transaction_type == 'W':\n",
        "        new_balance = starting_balance - amount\n",
        "        if new_balance < -200:\n",
        "            return 'Not allowed'\n",
        "        return new_balance\n",
        "    elif transaction_type == 'D':\n",
        "        return starting_balance + amount\n",
        "\n",
        "\n",
        "while True:\n",
        "  line = input().split()\n",
        "  starting_balance = int(line[0])\n",
        "  transaction_type = line[1]\n",
        "  amount = int(line[2])\n",
        "\n",
        "  if starting_balance == 0 and transaction_type == 'W' and amount == 0:\n",
        "    break\n",
        "\n",
        "  new_balance = calculate_balance(starting_balance, transaction_type, amount)\n",
        "  print(new_balance)\n"
      ],
      "metadata": {
        "colab": {
          "base_uri": "https://localhost:8080/"
        },
        "id": "BzyQq1i9yZO6",
        "outputId": "b32b679e-8ede-4e64-f56c-8060b679e719"
      },
      "execution_count": 2,
      "outputs": [
        {
          "name": "stdout",
          "output_type": "stream",
          "text": [
            "10000 W 10\n",
            "9990\n",
            "-200 D 300\n",
            "100\n",
            "50 W 300\n",
            "Not allowed\n",
            "0 W 0\n"
          ]
        }
      ]
    },
    {
      "cell_type": "markdown",
      "source": [
        "---"
      ],
      "metadata": {
        "id": "C57FqGrDyZoO"
      }
    },
    {
      "cell_type": "markdown",
      "source": [
        "## HackerRank"
      ],
      "metadata": {
        "id": "-zqBrkICyad1"
      }
    },
    {
      "cell_type": "markdown",
      "source": [
        "### Built-Ins > Input()"
      ],
      "metadata": {
        "id": "IzF8G7h5yc5O"
      }
    },
    {
      "cell_type": "code",
      "source": [
        "x, y = map(int, input().split(\" \"))\n",
        "polynomial = input()\n",
        "\n",
        "result = eval(polynomial.replace('x', str(x)))\n",
        "\n",
        "if result == y:\n",
        "    print(True)\n",
        "else:\n",
        "    print(False)"
      ],
      "metadata": {
        "id": "vu6PnD6yyauY"
      },
      "execution_count": null,
      "outputs": []
    }
  ]
}