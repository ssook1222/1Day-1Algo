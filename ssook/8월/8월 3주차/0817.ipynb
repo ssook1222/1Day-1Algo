{
  "nbformat": 4,
  "nbformat_minor": 0,
  "metadata": {
    "colab": {
      "provenance": [],
      "authorship_tag": "ABX9TyO+xgfsuDwZldQ7uQseC/vS",
      "include_colab_link": true
    },
    "kernelspec": {
      "name": "python3",
      "display_name": "Python 3"
    },
    "language_info": {
      "name": "python"
    }
  },
  "cells": [
    {
      "cell_type": "markdown",
      "metadata": {
        "id": "view-in-github",
        "colab_type": "text"
      },
      "source": [
        "<a href=\"https://colab.research.google.com/github/ssook1222/1Day-1Algo/blob/master/ssook/8%EC%9B%94/8%EC%9B%94%203%EC%A3%BC%EC%B0%A8/0817.ipynb\" target=\"_parent\"><img src=\"https://colab.research.google.com/assets/colab-badge.svg\" alt=\"Open In Colab\"/></a>"
      ]
    },
    {
      "cell_type": "markdown",
      "source": [
        "## BoJ"
      ],
      "metadata": {
        "id": "R4PKmDLYdoqP"
      }
    },
    {
      "cell_type": "markdown",
      "source": [
        "### 25257"
      ],
      "metadata": {
        "id": "1wefx9nLdtUM"
      }
    },
    {
      "cell_type": "code",
      "execution_count": null,
      "metadata": {
        "colab": {
          "base_uri": "https://localhost:8080/"
        },
        "id": "5ioZUD2idmvx",
        "outputId": "cedd873c-1212-49f6-99d3-d800860f3460"
      },
      "outputs": [
        {
          "output_type": "stream",
          "name": "stdout",
          "text": [
            "7 Y\n",
            "lms0806\n",
            "lms0806\n",
            "exponetiale\n",
            "lms0806\n",
            "jthis\n",
            "lms0806\n",
            "leo020630\n",
            "4\n"
          ]
        }
      ],
      "source": [
        "import sys\n",
        "\n",
        "person = set()\n",
        "\n",
        "num, types = map(str, sys.stdin.readline().rstrip().split(\" \"))\n",
        "num = int(num)\n",
        "\n",
        "for i in range(num):\n",
        "  person.add(sys.stdin.readline().rstrip())\n",
        "\n",
        "if types == 'Y':\n",
        "  print(len(person))\n",
        "\n",
        "if types == 'F':\n",
        "  print(len(person)//2)\n",
        "\n",
        "if types == 'O':\n",
        "  print(len(person)//3)"
      ]
    },
    {
      "cell_type": "markdown",
      "source": [
        "### 27889"
      ],
      "metadata": {
        "id": "fbbaBhzwduOB"
      }
    },
    {
      "cell_type": "code",
      "source": [
        "school = input()\n",
        "\n",
        "if school == 'NLCS':\n",
        "  print('North London Collegiate School')\n",
        "\n",
        "elif school == 'BHA':\n",
        "  print('Branksome Hall Asia')\n",
        "\n",
        "elif school == 'KIS':\n",
        "  print('Korea International School')\n",
        "\n",
        "elif school == 'SJA':\n",
        "  print('St. Johnsbury Academy')"
      ],
      "metadata": {
        "colab": {
          "base_uri": "https://localhost:8080/"
        },
        "id": "wSz3sIHSduZy",
        "outputId": "a7cba116-305f-4007-fb4d-81bd8e7c46c9"
      },
      "execution_count": null,
      "outputs": [
        {
          "output_type": "stream",
          "name": "stdout",
          "text": [
            "KIS\n",
            "Korea International School\n"
          ]
        }
      ]
    },
    {
      "cell_type": "markdown",
      "source": [
        "---"
      ],
      "metadata": {
        "id": "SwlhNIPmdu1C"
      }
    },
    {
      "cell_type": "markdown",
      "source": [
        "## HackerRank"
      ],
      "metadata": {
        "id": "FAX_CM9vdquE"
      }
    },
    {
      "cell_type": "markdown",
      "source": [
        "### Mean, Var, and Std"
      ],
      "metadata": {
        "id": "SKMjOUS6dsVc"
      }
    },
    {
      "cell_type": "code",
      "source": [
        "import numpy as np\n",
        "\n",
        "n, m = map(int, input().split(\" \"))\n",
        "raw = []\n",
        "\n",
        "for i in range(n):\n",
        "    raw.append(list(map(int, input().split(\" \"))))\n",
        "\n",
        "res = np.array(raw)\n",
        "\n",
        "print(np.mean(res, axis=1))\n",
        "print(np.var(res, axis=0))\n",
        "print(round(np.std(res, axis=None), 11))"
      ],
      "metadata": {
        "id": "7O-kIBwpds3N"
      },
      "execution_count": null,
      "outputs": []
    }
  ]
}