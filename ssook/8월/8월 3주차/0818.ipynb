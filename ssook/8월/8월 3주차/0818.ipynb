{
  "nbformat": 4,
  "nbformat_minor": 0,
  "metadata": {
    "colab": {
      "provenance": [],
      "authorship_tag": "ABX9TyPm0/Jrj3X0DOAW+Liz2mct",
      "include_colab_link": true
    },
    "kernelspec": {
      "name": "python3",
      "display_name": "Python 3"
    },
    "language_info": {
      "name": "python"
    }
  },
  "cells": [
    {
      "cell_type": "markdown",
      "metadata": {
        "id": "view-in-github",
        "colab_type": "text"
      },
      "source": [
        "<a href=\"https://colab.research.google.com/github/ssook1222/1Day-1Algo/blob/master/ssook/8%EC%9B%94/8%EC%9B%94%203%EC%A3%BC%EC%B0%A8/0818.ipynb\" target=\"_parent\"><img src=\"https://colab.research.google.com/assets/colab-badge.svg\" alt=\"Open In Colab\"/></a>"
      ]
    },
    {
      "cell_type": "markdown",
      "source": [
        "## BoJ"
      ],
      "metadata": {
        "id": "dEnjPPOXysL4"
      }
    },
    {
      "cell_type": "markdown",
      "source": [
        "### 2511"
      ],
      "metadata": {
        "id": "sdf-BlolyuFH"
      }
    },
    {
      "cell_type": "code",
      "execution_count": 7,
      "metadata": {
        "colab": {
          "base_uri": "https://localhost:8080/"
        },
        "id": "D5BTY49sxkRZ",
        "outputId": "ad1fbaa3-2fba-4695-a3dc-c8c6274e6108"
      },
      "outputs": [
        {
          "output_type": "stream",
          "name": "stdout",
          "text": [
            "4 5 6 7 0 1 2 3 9 8\n",
            "1 2 3 4 5 6 7 8 9 0\n",
            "16 13\n",
            "A\n"
          ]
        }
      ],
      "source": [
        "a = list(map(int, input().split(\" \")))\n",
        "b = list(map(int, input().split(\" \")))\n",
        "\n",
        "a_score = 0\n",
        "b_score = 0\n",
        "final = ''\n",
        "\n",
        "for i in range(len(a)):\n",
        "  if a[i] == b[i]:\n",
        "    a_score += 1\n",
        "    b_score += 1\n",
        "\n",
        "  elif a[i] > b[i]:\n",
        "    a_score += 3\n",
        "    final += 'A'\n",
        "\n",
        "  elif a[i] < b[i]:\n",
        "    b_score += 3\n",
        "    final += 'B'\n",
        "\n",
        "print(a_score, b_score)\n",
        "\n",
        "if a_score > b_score:\n",
        "  print('A')\n",
        "\n",
        "elif a_score < b_score:\n",
        "  print('B')\n",
        "\n",
        "else:\n",
        "  if final:\n",
        "    if final[-1] == 'A':\n",
        "      print('A')\n",
        "    elif final[-1] == 'B':\n",
        "      print('B')\n",
        "  else:\n",
        "    print('D')"
      ]
    },
    {
      "cell_type": "markdown",
      "source": [
        "### 3986"
      ],
      "metadata": {
        "id": "flCM0o3myu70"
      }
    },
    {
      "cell_type": "code",
      "source": [
        "t = int(input())\n",
        "cnt = 0\n",
        "\n",
        "for i in range(t):\n",
        "  raw = input()\n",
        "  word = []\n",
        "\n",
        "  for i in range(len(raw)):\n",
        "    if word and raw[i] == word[-1]:\n",
        "      word.pop()\n",
        "    else:\n",
        "      word.append(raw[i])\n",
        "\n",
        "  if not word:\n",
        "    cnt += 1\n",
        "\n",
        "print(cnt)"
      ],
      "metadata": {
        "colab": {
          "base_uri": "https://localhost:8080/"
        },
        "id": "s9VpczhvyvLq",
        "outputId": "5a0bd4bb-a95a-4959-f5d0-5575b390fbe3"
      },
      "execution_count": 18,
      "outputs": [
        {
          "output_type": "stream",
          "name": "stdout",
          "text": [
            "3\n",
            "ABAB\n",
            "AABB\n",
            "ABBA\n",
            "2\n"
          ]
        }
      ]
    },
    {
      "cell_type": "markdown",
      "source": [
        "---"
      ],
      "metadata": {
        "id": "ulUbbk6oyyUx"
      }
    },
    {
      "cell_type": "markdown",
      "source": [
        "## HackerRank"
      ],
      "metadata": {
        "id": "pnFC3d8GyzMS"
      }
    },
    {
      "cell_type": "markdown",
      "source": [
        "### Dot and Cross"
      ],
      "metadata": {
        "id": "b-PoNMIfy1dW"
      }
    },
    {
      "cell_type": "code",
      "source": [
        "import numpy as np\n",
        "\n",
        "n = int(input())\n",
        "a = []\n",
        "b = []\n",
        "\n",
        "for _ in range(n):\n",
        "    a.append(list(map(int, input().split(\" \"))))\n",
        "\n",
        "for _ in range(n):\n",
        "    b.append(list(map(int, input().split(\" \"))))\n",
        "\n",
        "a = np.array(a)\n",
        "b = np.array(b)\n",
        "\n",
        "print(np.dot(a,b))"
      ],
      "metadata": {
        "id": "1_QkXDXSyxyd"
      },
      "execution_count": null,
      "outputs": []
    }
  ]
}