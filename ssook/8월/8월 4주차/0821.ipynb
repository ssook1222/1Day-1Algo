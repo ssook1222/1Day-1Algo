{
  "nbformat": 4,
  "nbformat_minor": 0,
  "metadata": {
    "colab": {
      "provenance": [],
      "authorship_tag": "ABX9TyMCG/p98QpcrEtdm19tF5DF",
      "include_colab_link": true
    },
    "kernelspec": {
      "name": "python3",
      "display_name": "Python 3"
    },
    "language_info": {
      "name": "python"
    }
  },
  "cells": [
    {
      "cell_type": "markdown",
      "metadata": {
        "id": "view-in-github",
        "colab_type": "text"
      },
      "source": [
        "<a href=\"https://colab.research.google.com/github/ssook1222/1Day-1Algo/blob/master/ssook/8%EC%9B%94/8%EC%9B%94%204%EC%A3%BC%EC%B0%A8/0821.ipynb\" target=\"_parent\"><img src=\"https://colab.research.google.com/assets/colab-badge.svg\" alt=\"Open In Colab\"/></a>"
      ]
    },
    {
      "cell_type": "markdown",
      "source": [
        "## BoJ"
      ],
      "metadata": {
        "id": "FZXJRV-qQUx8"
      }
    },
    {
      "cell_type": "markdown",
      "source": [
        "### 27465"
      ],
      "metadata": {
        "id": "OnvOed2PQWGs"
      }
    },
    {
      "cell_type": "code",
      "execution_count": 2,
      "metadata": {
        "colab": {
          "base_uri": "https://localhost:8080/"
        },
        "id": "gOW4sEJ9QSbv",
        "outputId": "8a4c22e8-b957-4450-8256-910a2bcc44e0"
      },
      "outputs": [
        {
          "output_type": "stream",
          "name": "stdout",
          "text": [
            "1\n",
            "1000000000\n"
          ]
        }
      ],
      "source": [
        "n = int(input())\n",
        "\n",
        "print(1000000000)"
      ]
    },
    {
      "cell_type": "markdown",
      "source": [
        "### 28490"
      ],
      "metadata": {
        "id": "4v_Fo_RYQWYN"
      }
    },
    {
      "cell_type": "code",
      "source": [
        "t = int(input())\n",
        "max_frame = -1\n",
        "\n",
        "for i in range(t):\n",
        "  h, w = map(int, input().split(\" \"))\n",
        "  if max_frame < h*w :\n",
        "    max_frame = h*w\n",
        "\n",
        "print(max_frame)"
      ],
      "metadata": {
        "colab": {
          "base_uri": "https://localhost:8080/"
        },
        "id": "1QdGputmQWim",
        "outputId": "14b7e679-b1c4-4dd9-8844-337ec27c74ef"
      },
      "execution_count": 3,
      "outputs": [
        {
          "output_type": "stream",
          "name": "stdout",
          "text": [
            "3\n",
            "5 9\n",
            "19 4\n",
            "8 10\n",
            "80\n"
          ]
        }
      ]
    },
    {
      "cell_type": "markdown",
      "source": [
        "---"
      ],
      "metadata": {
        "id": "N2eJ3iynQWvT"
      }
    },
    {
      "cell_type": "markdown",
      "source": [
        "## HackerRank"
      ],
      "metadata": {
        "id": "UU_XnweqQYQ6"
      }
    },
    {
      "cell_type": "markdown",
      "source": [
        "### Words Score"
      ],
      "metadata": {
        "id": "UBi-M7XlQaII"
      }
    },
    {
      "cell_type": "code",
      "source": [
        "def is_vowel(letter):\n",
        "    return letter in ['a', 'e', 'i', 'o', 'u', 'y']\n",
        "\n",
        "def score_words(words):\n",
        "    score = 0\n",
        "    for word in words:\n",
        "        num_vowels = 0\n",
        "        for letter in word:\n",
        "            if is_vowel(letter):\n",
        "                num_vowels += 1\n",
        "        if num_vowels % 2 == 0:\n",
        "            score += 2\n",
        "        elif num_vowels % 2 != 0:\n",
        "            score += 1\n",
        "    return score\n",
        "\n",
        "\n",
        "n = int(input())\n",
        "words = input().split()\n",
        "print(score_words(words))"
      ],
      "metadata": {
        "id": "SItVK_tZQYcI"
      },
      "execution_count": null,
      "outputs": []
    }
  ]
}