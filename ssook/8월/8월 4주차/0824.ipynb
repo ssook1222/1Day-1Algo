{
  "nbformat": 4,
  "nbformat_minor": 0,
  "metadata": {
    "colab": {
      "provenance": [],
      "authorship_tag": "ABX9TyOVZic+2hcZuoNrCYAfA+lv",
      "include_colab_link": true
    },
    "kernelspec": {
      "name": "python3",
      "display_name": "Python 3"
    },
    "language_info": {
      "name": "python"
    }
  },
  "cells": [
    {
      "cell_type": "markdown",
      "metadata": {
        "id": "view-in-github",
        "colab_type": "text"
      },
      "source": [
        "<a href=\"https://colab.research.google.com/github/ssook1222/1Day-1Algo/blob/master/ssook/8%EC%9B%94/8%EC%9B%94%204%EC%A3%BC%EC%B0%A8/0824.ipynb\" target=\"_parent\"><img src=\"https://colab.research.google.com/assets/colab-badge.svg\" alt=\"Open In Colab\"/></a>"
      ]
    },
    {
      "cell_type": "markdown",
      "source": [
        "## BoJ"
      ],
      "metadata": {
        "id": "Stsut6DPth0w"
      }
    },
    {
      "cell_type": "markdown",
      "source": [
        "### 17588"
      ],
      "metadata": {
        "id": "tip9xg6Ntk6B"
      }
    },
    {
      "cell_type": "code",
      "source": [
        "n = int(input())\n",
        "\n",
        "num = []\n",
        "\n",
        "for i in range(n):\n",
        "  raw = int(input())\n",
        "  num.append(raw)\n",
        "\n",
        "num = list(set(num))\n",
        "num.sort()\n",
        "\n",
        "check = True\n",
        "\n",
        "for i in range(1, max(num)+1):\n",
        "  if i not in num:\n",
        "    check = False\n",
        "    print(i)\n",
        "\n",
        "if check:\n",
        "  print(\"good job\")"
      ],
      "metadata": {
        "colab": {
          "base_uri": "https://localhost:8080/"
        },
        "id": "1w-b46Rethhw",
        "outputId": "081e1669-af2c-42e2-a2e3-1b685938c642"
      },
      "execution_count": 2,
      "outputs": [
        {
          "output_type": "stream",
          "name": "stdout",
          "text": [
            "5\n",
            "1\n",
            "2\n",
            "3\n",
            "4\n",
            "5\n",
            "good job\n"
          ]
        }
      ]
    },
    {
      "cell_type": "markdown",
      "source": [
        "### 11134"
      ],
      "metadata": {
        "id": "GsaXb7jQtlLH"
      }
    },
    {
      "cell_type": "code",
      "source": [
        "t = int(input())\n",
        "\n",
        "for _ in range(t):\n",
        "  n, c = map(int, input().split(\" \"))\n",
        "\n",
        "  if n % c == 0:\n",
        "    print(n//c)\n",
        "  else:\n",
        "    print((n//c)+1)"
      ],
      "metadata": {
        "colab": {
          "base_uri": "https://localhost:8080/"
        },
        "id": "B_j0MQXYtlYP",
        "outputId": "53f90ed8-0123-4343-be37-238ed6536148"
      },
      "execution_count": 3,
      "outputs": [
        {
          "output_type": "stream",
          "name": "stdout",
          "text": [
            "2\n",
            "6 2\n",
            "3\n",
            "10 3\n",
            "4\n"
          ]
        }
      ]
    },
    {
      "cell_type": "markdown",
      "source": [
        "---"
      ],
      "metadata": {
        "id": "_uZ2_QlUtmKs"
      }
    },
    {
      "cell_type": "markdown",
      "source": [
        "## HackerRank"
      ],
      "metadata": {
        "id": "NKdeDSTNtiEE"
      }
    },
    {
      "cell_type": "markdown",
      "source": [
        "### Validating phone numbers"
      ],
      "metadata": {
        "id": "O5l1UJyKyJGi"
      }
    },
    {
      "cell_type": "code",
      "execution_count": null,
      "metadata": {
        "id": "mzFC04k9tEUc"
      },
      "outputs": [],
      "source": [
        "t = int(input())\n",
        "\n",
        "for i in range(t):\n",
        "    num = input()\n",
        "\n",
        "    if num[0] in [\"7\",\"8\",\"9\"] and len(num)==10 and num.isdigit():\n",
        "        print(\"YES\")\n",
        "    else:\n",
        "        print(\"NO\")"
      ]
    }
  ]
}