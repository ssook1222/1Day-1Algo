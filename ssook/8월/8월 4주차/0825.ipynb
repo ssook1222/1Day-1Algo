{
  "nbformat": 4,
  "nbformat_minor": 0,
  "metadata": {
    "colab": {
      "provenance": [],
      "authorship_tag": "ABX9TyMadQpah25PDAFWi1OvAZGA",
      "include_colab_link": true
    },
    "kernelspec": {
      "name": "python3",
      "display_name": "Python 3"
    },
    "language_info": {
      "name": "python"
    }
  },
  "cells": [
    {
      "cell_type": "markdown",
      "metadata": {
        "id": "view-in-github",
        "colab_type": "text"
      },
      "source": [
        "<a href=\"https://colab.research.google.com/github/ssook1222/1Day-1Algo/blob/master/ssook/8%EC%9B%94/8%EC%9B%94%204%EC%A3%BC%EC%B0%A8/0825.ipynb\" target=\"_parent\"><img src=\"https://colab.research.google.com/assets/colab-badge.svg\" alt=\"Open In Colab\"/></a>"
      ]
    },
    {
      "cell_type": "markdown",
      "source": [
        "## BoJ"
      ],
      "metadata": {
        "id": "hc8hcCyKbNx5"
      }
    },
    {
      "cell_type": "markdown",
      "source": [
        "### 10214"
      ],
      "metadata": {
        "id": "324eXs7mbURO"
      }
    },
    {
      "cell_type": "code",
      "execution_count": 4,
      "metadata": {
        "colab": {
          "base_uri": "https://localhost:8080/"
        },
        "id": "RKbXo4r_bL0T",
        "outputId": "642446dc-1c6d-4601-b49a-5f4dbbccf3f5"
      },
      "outputs": [
        {
          "output_type": "stream",
          "name": "stdout",
          "text": [
            "1\n",
            "0 10\n",
            "1 0\n",
            "1 0\n",
            "1 0\n",
            "1 0\n",
            "1 0\n",
            "1 0\n",
            "1 0\n",
            "1 0\n",
            "Korea\n"
          ]
        }
      ],
      "source": [
        "t =int(input())\n",
        "\n",
        "for _ in range(t):\n",
        "\n",
        "  y_score = 0\n",
        "  k_score = 0\n",
        "\n",
        "  for _ in range(9):\n",
        "\n",
        "    y, k = map(int, input().split(\" \"))\n",
        "\n",
        "    y_score += y\n",
        "    k_score += k\n",
        "\n",
        "  if y_score > k_score:\n",
        "    print(\"Yonsei\")\n",
        "\n",
        "  elif k_score > y_score:\n",
        "    print(\"Korea\")\n",
        "\n",
        "  else:\n",
        "    print(\"Draw\")\n"
      ]
    },
    {
      "cell_type": "markdown",
      "source": [
        "### 17891"
      ],
      "metadata": {
        "id": "3SUopMaYbUmI"
      }
    },
    {
      "cell_type": "code",
      "source": [
        "import sys\n",
        "\n",
        "n = int(sys.stdin.readline().rstrip())\n",
        "raw = list(map(int, sys.stdin.readline().rstrip().split(\" \")))\n",
        "stack = []\n",
        "\n",
        "moves = 0\n",
        "\n",
        "while raw:\n",
        "    moves += 1\n",
        "\n",
        "    if not stack:\n",
        "        stack.append(raw.pop())\n",
        "        continue\n",
        "\n",
        "    if raw[-1] == stack[-1]:\n",
        "        raw.pop()\n",
        "        stack.pop()\n",
        "        continue\n",
        "\n",
        "    stack.append(raw.pop())\n",
        "\n",
        "if not stack:\n",
        "    print(moves)\n",
        "else:\n",
        "    print(\"impossible\")"
      ],
      "metadata": {
        "id": "W1v_reCST4C1"
      },
      "execution_count": null,
      "outputs": []
    },
    {
      "cell_type": "markdown",
      "source": [
        "---"
      ],
      "metadata": {
        "id": "0mBbMrESbcCJ"
      }
    },
    {
      "cell_type": "markdown",
      "source": [
        "## HackerRank"
      ],
      "metadata": {
        "id": "3eYKy-OCbQ8O"
      }
    },
    {
      "cell_type": "markdown",
      "source": [
        "### Find a string"
      ],
      "metadata": {
        "id": "yBLpGKqmbTnM"
      }
    },
    {
      "cell_type": "code",
      "source": [
        "def count_substring(string, sub_string):\n",
        "    count = 0\n",
        "\n",
        "    for i in range(len(string) - len(sub_string) + 1):\n",
        "        if string[i:i+len(sub_string)] == sub_string:\n",
        "            count += 1\n",
        "\n",
        "    return count\n",
        "\n",
        "if __name__ == '__main__':\n",
        "    string = input().strip()\n",
        "    sub_string = input().strip()\n",
        "\n",
        "    count = count_substring(string, sub_string)\n",
        "    print(count)"
      ],
      "metadata": {
        "id": "Mli0PukAbT7G"
      },
      "execution_count": null,
      "outputs": []
    }
  ]
}