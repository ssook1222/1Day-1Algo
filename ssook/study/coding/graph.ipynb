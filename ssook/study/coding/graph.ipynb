{
  "nbformat": 4,
  "nbformat_minor": 0,
  "metadata": {
    "colab": {
      "provenance": [],
      "authorship_tag": "ABX9TyP8SRcy0E2O/u5UFRPAAw32",
      "include_colab_link": true
    },
    "kernelspec": {
      "name": "python3",
      "display_name": "Python 3"
    },
    "language_info": {
      "name": "python"
    }
  },
  "cells": [
    {
      "cell_type": "markdown",
      "metadata": {
        "id": "view-in-github",
        "colab_type": "text"
      },
      "source": [
        "<a href=\"https://colab.research.google.com/github/ssook1222/1Day-1Algo/blob/master/ssook/study/coding/graph.ipynb\" target=\"_parent\"><img src=\"https://colab.research.google.com/assets/colab-badge.svg\" alt=\"Open In Colab\"/></a>"
      ]
    },
    {
      "cell_type": "markdown",
      "source": [
        "## BFS"
      ],
      "metadata": {
        "id": "qYvYEel89G0B"
      }
    },
    {
      "cell_type": "code",
      "execution_count": null,
      "metadata": {
        "id": "KtZLq4l6ku5M"
      },
      "outputs": [],
      "source": []
    },
    {
      "cell_type": "markdown",
      "source": [
        "## DFS"
      ],
      "metadata": {
        "id": "gtgBBDoP9Iwr"
      }
    },
    {
      "cell_type": "markdown",
      "source": [
        "### BoJ - 11724\n",
        "---\n",
        "#### 23-06-07"
      ],
      "metadata": {
        "id": "90g1VRO6-J9U"
      }
    },
    {
      "cell_type": "code",
      "source": [
        "import sys\n",
        "\n",
        "n, m = map(int, sys.stdin.readline().strip().split(\" \"))\n",
        "visited = [False] * (n+1)\n",
        "graph = [[] for i in range(n+1)]\n",
        "\n",
        "cnt = 0\n",
        "\n",
        "def dfs(k):\n",
        "\n",
        "  visited[k] = True\n",
        "\n",
        "  for i in graph[k]:\n",
        "    if visited[i] == False:\n",
        "      dfs(i)\n",
        "\n",
        "for i in range(m):\n",
        "  u, v = map(int, sys.stdin.readline().strip().split(\" \"))\n",
        "  graph[u].append(v)\n",
        "  graph[v].append(u)\n",
        "\n",
        "for i in range(1,n+1):\n",
        "  if visited[i] == False:\n",
        "    dfs(i)\n",
        "    cnt += 1\n",
        "\n",
        "print(cnt)"
      ],
      "metadata": {
        "colab": {
          "base_uri": "https://localhost:8080/"
        },
        "id": "Cat6BABQ9KXF",
        "outputId": "32fcf2c3-2a13-46b0-c147-8381aed9d353"
      },
      "execution_count": 4,
      "outputs": [
        {
          "output_type": "stream",
          "name": "stdout",
          "text": [
            "6 5\n",
            "1 2\n",
            "2 5\n",
            "5 1\n",
            "3 4\n",
            "4 6\n",
            "2\n"
          ]
        }
      ]
    },
    {
      "cell_type": "markdown",
      "source": [
        "### BoJ - 2667\n",
        "---\n",
        "#### 23-06-07"
      ],
      "metadata": {
        "id": "gGTbDPzEA755"
      }
    },
    {
      "cell_type": "code",
      "source": [
        "import sys\n",
        "\n",
        "n = int(sys.stdin.readline().rstrip())\n",
        "graph = [list(map(int, sys.stdin.readline().rstrip())) for _ in range(n)]\n",
        "\n",
        "cnt = 0\n",
        "res = []\n",
        "\n",
        "def dfs(x,y) :\n",
        "    \n",
        "    dx = [0, 1, 0, -1]\n",
        "    dy = [1, 0, -1, 0]\n",
        "    \n",
        "    global cnt\n",
        "    \n",
        "    graph[x][y] = 0 \n",
        "    cnt += 1 \n",
        "    \n",
        "    for i in range(4) : \n",
        "        nx = x + dx[i]\n",
        "        ny = y + dy[i]\n",
        "        \n",
        "        if nx < 0 or nx >= n or ny < 0 or ny >= n :\n",
        "            continue\n",
        "        \n",
        "        if graph[nx][ny] == 1 :\n",
        "            dfs(nx,ny)\n",
        "\n",
        "for i in range(n) :\n",
        "    for j in range(n) :\n",
        "        if graph[i][j] == 1 :\n",
        "            cnt = 0 \n",
        "            dfs(i,j)\n",
        "            res.append(cnt)\n",
        "\n",
        "print(len(res))\n",
        "\n",
        "res.sort()\n",
        "\n",
        "for k in res :\n",
        "    print(k)"
      ],
      "metadata": {
        "colab": {
          "base_uri": "https://localhost:8080/"
        },
        "id": "L7FkdnlfA8Sh",
        "outputId": "4241e3fd-4f58-449c-acca-53e90f4481c6"
      },
      "execution_count": 7,
      "outputs": [
        {
          "output_type": "stream",
          "name": "stdout",
          "text": [
            "7\n",
            "0110100\n",
            "0110101\n",
            "1110101\n",
            "0000111\n",
            "0100000\n",
            "0111110\n",
            "0111000\n",
            "0\n"
          ]
        }
      ]
    }
  ]
}