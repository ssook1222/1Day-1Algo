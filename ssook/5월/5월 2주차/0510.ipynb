{
  "nbformat": 4,
  "nbformat_minor": 0,
  "metadata": {
    "colab": {
      "provenance": [],
      "authorship_tag": "ABX9TyOdKccXHQ5DYnZPgcepchNS",
      "include_colab_link": true
    },
    "kernelspec": {
      "name": "python3",
      "display_name": "Python 3"
    },
    "language_info": {
      "name": "python"
    }
  },
  "cells": [
    {
      "cell_type": "markdown",
      "metadata": {
        "id": "view-in-github",
        "colab_type": "text"
      },
      "source": [
        "<a href=\"https://colab.research.google.com/github/ssook1222/1Day-1Algo/blob/master/ssook/5%EC%9B%94/5%EC%9B%94%202%EC%A3%BC%EC%B0%A8/0510.ipynb\" target=\"_parent\"><img src=\"https://colab.research.google.com/assets/colab-badge.svg\" alt=\"Open In Colab\"/></a>"
      ]
    },
    {
      "cell_type": "markdown",
      "source": [
        "## BoJ"
      ],
      "metadata": {
        "id": "71SHotplPPbd"
      }
    },
    {
      "cell_type": "markdown",
      "source": [
        "### 3273"
      ],
      "metadata": {
        "id": "kDf-mFJW3ECt"
      }
    },
    {
      "cell_type": "code",
      "execution_count": 8,
      "metadata": {
        "colab": {
          "base_uri": "https://localhost:8080/"
        },
        "id": "4FeXhmmT2JR9",
        "outputId": "ce42423e-5e84-4d6d-8991-bcf55c08eabd"
      },
      "outputs": [
        {
          "output_type": "stream",
          "name": "stdout",
          "text": [
            "9\n",
            "5 12 7 10 9 1 2 3 11\n",
            "13\n",
            "3\n"
          ]
        }
      ],
      "source": [
        "import sys\n",
        "\n",
        "n = int(sys.stdin.readline().strip())\n",
        "\n",
        "num = list(map(int, sys.stdin.readline().strip().split(\" \")))\n",
        "x = int(sys.stdin.readline().strip())\n",
        "\n",
        "num.sort()\n",
        "\n",
        "start = 0\n",
        "end = len(num)-1\n",
        "\n",
        "hap = -1\n",
        "cnt = 0\n",
        "\n",
        "while start < end:\n",
        "  hap = num[start] + num[end]\n",
        "\n",
        "  if hap > x:\n",
        "    hap -= num[end]\n",
        "    end -= 1\n",
        "  \n",
        "  elif hap < x :\n",
        "    start += 1\n",
        "    hap += num[start]\n",
        "\n",
        "  elif hap == x:\n",
        "    cnt += 1\n",
        "    hap -= num[end]\n",
        "    end -= 1\n",
        "  \n",
        "print(cnt)"
      ]
    },
    {
      "cell_type": "markdown",
      "source": [
        "### 17219"
      ],
      "metadata": {
        "id": "JKQ9BPmw7iYD"
      }
    },
    {
      "cell_type": "code",
      "source": [
        "import sys\n",
        "\n",
        "n, m = map(int, sys.stdin.readline().strip().split(\" \"))\n",
        "dictionary = {}\n",
        "\n",
        "for i in range(n):\n",
        "  site, pw = sys.stdin.readline().strip().split(\" \")\n",
        "  dictionary[site] = pw\n",
        "\n",
        "for j in range(m):\n",
        "  print(dictionary[sys.stdin.readline().strip()])"
      ],
      "metadata": {
        "id": "fMcBRvhE7i67"
      },
      "execution_count": null,
      "outputs": []
    },
    {
      "cell_type": "markdown",
      "source": [
        "### 1717"
      ],
      "metadata": {
        "id": "U73bTv7K9tdg"
      }
    },
    {
      "cell_type": "code",
      "source": [
        "import sys\n",
        "sys.setrecursionlimit(100000)\n",
        "\n",
        "n, m = map(int, sys.stdin.readline().rstrip().split(\" \"))\n",
        "\n",
        "parent = [i for i in range(n+1)]\n",
        "\n",
        "def find(x):\n",
        "  if parent[x] != x:\n",
        "    parent[x] = find(parent[x])  \n",
        "  return parent[x]\n",
        "\n",
        "def union(a, b):\n",
        "  a = find(a)\n",
        "  b = find(b)\n",
        "\n",
        "  if a < b:\n",
        "    parent[b] = a\n",
        "  else:\n",
        "    parent[a] = b\n",
        "\n",
        "for _ in range(m):\n",
        "  cmd = list(map(int, sys.stdin.readline().rstrip().split(\" \")))\n",
        "\n",
        "  if cmd[0] == 0:\n",
        "    union(cmd[1], cmd[2])\n",
        "\n",
        "  else:\n",
        "    if find(cmd[1]) == find(cmd[2]):\n",
        "      print(\"YES\")\n",
        "    else:\n",
        "      print(\"NO\")"
      ],
      "metadata": {
        "colab": {
          "base_uri": "https://localhost:8080/"
        },
        "id": "8jau7lSdAQWk",
        "outputId": "3fb9c547-3544-4194-ac6d-8df5bc50748a"
      },
      "execution_count": 19,
      "outputs": [
        {
          "output_type": "stream",
          "name": "stdout",
          "text": [
            "7 8\n",
            "0 1 3\n",
            "1 1 7\n",
            "NO\n",
            "0 7 6\n",
            "1 7 1\n",
            "NO\n",
            "0 3 7\n",
            "0 4 2\n",
            "0 1 1\n",
            "1 1 1\n",
            "YES\n"
          ]
        }
      ]
    },
    {
      "cell_type": "markdown",
      "source": [
        "#### Union - Find 알고리즘 문제\n",
        "\n",
        "---\n",
        "\n",
        "`찾기 연산 (Find)`    \n",
        "\n",
        "- 특정한 원소의 부모 원소를 찾는 연산.\n",
        "- 어떤 두 원소가 같은 부모 원소를 갖는다면 두 원소는 같은 집합에 속함.\n",
        "\n",
        "`합집합 연산 (Union)`\n",
        "\n",
        "- 원소를 1개씩 가지고 있는 집합들을 합침.\n",
        "- 찾기 연산을 사용하여 두 원소의 부모 원소 번호를 비교한 다음 더 작은 부모 원소로 합쳐 줌.\n",
        "\n",
        "\n",
        "\n",
        "\n"
      ],
      "metadata": {
        "id": "WJR9wHXaH_pf"
      }
    },
    {
      "cell_type": "markdown",
      "source": [
        "## Programmers"
      ],
      "metadata": {
        "id": "H0un7qrBPS5e"
      }
    },
    {
      "cell_type": "markdown",
      "source": [
        "### 주사위의 개수"
      ],
      "metadata": {
        "id": "e4OvsrJJPx2f"
      }
    },
    {
      "cell_type": "code",
      "source": [
        "def solution(box, n):\n",
        "    answer = 1\n",
        "    \n",
        "    answer *= box[0] // n\n",
        "    answer *= box[1] // n\n",
        "    answer *= box[2] // n\n",
        "    \n",
        "    return answer"
      ],
      "metadata": {
        "id": "Q_oE2jGpPyKK"
      },
      "execution_count": null,
      "outputs": []
    },
    {
      "cell_type": "markdown",
      "source": [
        "### 합성수 찾기"
      ],
      "metadata": {
        "id": "oQ_QmJLMRbV3"
      }
    },
    {
      "cell_type": "code",
      "source": [
        "def yaksu(x):\n",
        "    yaksu = []\n",
        "    for i in range(1, x+1):\n",
        "        if x % i == 0:\n",
        "            yaksu.append(i)\n",
        "    return yaksu\n",
        "\n",
        "def solution(n):\n",
        "    answer = 0\n",
        "    cnt = 0\n",
        "    num = []\n",
        "\n",
        "    for j in range(1, n+1):\n",
        "        if len(yaksu(j)) >=3:\n",
        "            num.append(j)\n",
        "    \n",
        "    print(*num)\n",
        "    \n",
        "    cnt += len(num)\n",
        "    \n",
        "    answer = cnt\n",
        "    \n",
        "    return answer"
      ],
      "metadata": {
        "id": "185wL-APRb6g"
      },
      "execution_count": null,
      "outputs": []
    },
    {
      "cell_type": "markdown",
      "source": [
        "### 최댓값 만들기"
      ],
      "metadata": {
        "id": "hz4Tc_d8UVR5"
      }
    },
    {
      "cell_type": "code",
      "source": [
        "def solution(numbers):\n",
        "    answer = 0\n",
        "    numbers.sort()\n",
        "    \n",
        "    answer = numbers[-1] * numbers[-2]\n",
        "    return answer"
      ],
      "metadata": {
        "id": "pT9uPYdJUWyH"
      },
      "execution_count": null,
      "outputs": []
    },
    {
      "cell_type": "markdown",
      "source": [
        "### 팩토리얼"
      ],
      "metadata": {
        "id": "FH7Sh-XdUgC7"
      }
    },
    {
      "cell_type": "code",
      "source": [
        "import math\n",
        "\n",
        "def solution(n):\n",
        "    f = 0\n",
        "    i = 0\n",
        "    while f < n:\n",
        "        i+=1\n",
        "        f = math.factorial(i)\n",
        "        if f > n:\n",
        "            i -= 1\n",
        "            break\n",
        "    return i"
      ],
      "metadata": {
        "id": "rwJ63Nz7V6bD"
      },
      "execution_count": null,
      "outputs": []
    }
  ]
}