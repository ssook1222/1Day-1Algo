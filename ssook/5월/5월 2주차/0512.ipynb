{
  "nbformat": 4,
  "nbformat_minor": 0,
  "metadata": {
    "colab": {
      "provenance": [],
      "authorship_tag": "ABX9TyMUDAwuISwqGYeNHqNyMhg/",
      "include_colab_link": true
    },
    "kernelspec": {
      "name": "python3",
      "display_name": "Python 3"
    },
    "language_info": {
      "name": "python"
    }
  },
  "cells": [
    {
      "cell_type": "markdown",
      "metadata": {
        "id": "view-in-github",
        "colab_type": "text"
      },
      "source": [
        "<a href=\"https://colab.research.google.com/github/ssook1222/1Day-1Algo/blob/master/ssook/5%EC%9B%94/5%EC%9B%94%202%EC%A3%BC%EC%B0%A8/0512.ipynb\" target=\"_parent\"><img src=\"https://colab.research.google.com/assets/colab-badge.svg\" alt=\"Open In Colab\"/></a>"
      ]
    },
    {
      "cell_type": "markdown",
      "source": [
        "### 13241"
      ],
      "metadata": {
        "id": "opOqLIsfNSGU"
      }
    },
    {
      "cell_type": "code",
      "execution_count": 2,
      "metadata": {
        "colab": {
          "base_uri": "https://localhost:8080/"
        },
        "id": "PraiAciLMSR2",
        "outputId": "30872e10-0671-4346-c895-22d27ad7eaba"
      },
      "outputs": [
        {
          "output_type": "stream",
          "name": "stdout",
          "text": [
            "3 5\n",
            "15\n"
          ]
        }
      ],
      "source": [
        "import math\n",
        "import sys\n",
        "\n",
        "a, b = map(int, sys.stdin.readline().strip().split(\" \"))\n",
        "print(math.lcm(a,b))"
      ]
    },
    {
      "cell_type": "markdown",
      "source": [
        "### 1850"
      ],
      "metadata": {
        "id": "jFgfQRxVNhrf"
      }
    },
    {
      "cell_type": "code",
      "source": [
        "import math\n",
        "import sys\n",
        "\n",
        "a, b = map(int, sys.stdin.readline().rstrip().split(\" \"))\n",
        "gcd = math.gcd(a,b)\n",
        "print('1' * gcd) #최대공약수 값 만큼 1을 출력해주면 됨."
      ],
      "metadata": {
        "colab": {
          "base_uri": "https://localhost:8080/"
        },
        "id": "r3Z9ozH9Nh2H",
        "outputId": "88093c04-5ca5-4502-d874-0d5c737d62be"
      },
      "execution_count": 13,
      "outputs": [
        {
          "output_type": "stream",
          "name": "stdout",
          "text": [
            "500000000000000000 500000000000000002\n",
            "11\n"
          ]
        }
      ]
    },
    {
      "cell_type": "markdown",
      "source": [
        "### 11656"
      ],
      "metadata": {
        "id": "ma4VmPSlpseN"
      }
    },
    {
      "cell_type": "code",
      "source": [
        "n = input()\n",
        "s = list(n)\n",
        "item = []\n",
        "\n",
        "for i in range(0,len(n)):\n",
        "  t = ''\n",
        "  for c in s[i:]:\n",
        "    if c != ' ':\n",
        "      t += c\n",
        "  item.append(t)\n",
        "\n",
        "item.sort()\n",
        "\n",
        "for o in item:\n",
        "  print(o)"
      ],
      "metadata": {
        "colab": {
          "base_uri": "https://localhost:8080/"
        },
        "id": "oIXLMZ11np_R",
        "outputId": "182bac38-6f96-467e-de63-ae2c8f8faacc"
      },
      "execution_count": 38,
      "outputs": [
        {
          "output_type": "stream",
          "name": "stdout",
          "text": [
            "baekjoon\n",
            "aekjoon\n",
            "baekjoon\n",
            "ekjoon\n",
            "joon\n",
            "kjoon\n",
            "n\n",
            "on\n",
            "oon\n"
          ]
        }
      ]
    }
  ]
}