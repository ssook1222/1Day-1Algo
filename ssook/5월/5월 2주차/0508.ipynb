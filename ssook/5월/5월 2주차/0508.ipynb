{
  "nbformat": 4,
  "nbformat_minor": 0,
  "metadata": {
    "colab": {
      "provenance": [],
      "authorship_tag": "ABX9TyOEgQfVGZZNs5DIK+vij5bV",
      "include_colab_link": true
    },
    "kernelspec": {
      "name": "python3",
      "display_name": "Python 3"
    },
    "language_info": {
      "name": "python"
    }
  },
  "cells": [
    {
      "cell_type": "markdown",
      "metadata": {
        "id": "view-in-github",
        "colab_type": "text"
      },
      "source": [
        "<a href=\"https://colab.research.google.com/github/ssook1222/1Day-1Algo/blob/master/ssook/5%EC%9B%94/5%EC%9B%94%202%EC%A3%BC%EC%B0%A8/0508.ipynb\" target=\"_parent\"><img src=\"https://colab.research.google.com/assets/colab-badge.svg\" alt=\"Open In Colab\"/></a>"
      ]
    },
    {
      "cell_type": "markdown",
      "source": [
        "## BoJ"
      ],
      "metadata": {
        "id": "zBtZp9bHkJNR"
      }
    },
    {
      "cell_type": "markdown",
      "source": [
        "### 2407"
      ],
      "metadata": {
        "id": "7nn2s9RGkH0s"
      }
    },
    {
      "cell_type": "code",
      "source": [
        "import sys\n",
        "\n",
        "def factorial(n):\n",
        "  if n == 1:\n",
        "    return 1\n",
        "  else:\n",
        "    return n * factorial(n-1)\n",
        "\n",
        "n, m = map(int, sys.stdin.readline().rstrip().split(\" \"))\n",
        "\n",
        "print( factorial(n) // (factorial(n-m) * factorial(m)) )"
      ],
      "metadata": {
        "colab": {
          "base_uri": "https://localhost:8080/"
        },
        "id": "hL9tKjdjiuqN",
        "outputId": "144c7988-0637-41d2-8993-b08fb8b13c14"
      },
      "execution_count": 2,
      "outputs": [
        {
          "output_type": "stream",
          "name": "stdout",
          "text": [
            "100 6\n",
            "1192052400\n"
          ]
        }
      ]
    },
    {
      "cell_type": "markdown",
      "source": [
        "---"
      ],
      "metadata": {
        "id": "pgeLzi8KkK43"
      }
    },
    {
      "cell_type": "markdown",
      "source": [
        "## Programmers"
      ],
      "metadata": {
        "id": "OHpxNe0FkL0v"
      }
    },
    {
      "cell_type": "markdown",
      "source": [
        "### 개미군단"
      ],
      "metadata": {
        "id": "YOfv_H1wlD9k"
      }
    },
    {
      "cell_type": "code",
      "source": [
        "def solution(hp):\n",
        "    answer = 0\n",
        "    cnt5 = 0\n",
        "    cnt3 = 0\n",
        "    cnt1 = 0\n",
        "    \n",
        "    cnt5 += hp // 5\n",
        "    hp -= cnt5 * 5\n",
        "\n",
        "    cnt3 += hp // 3\n",
        "    hp -= cnt3 * 3\n",
        "    \n",
        "    cnt1 += hp // 1\n",
        "    hp -= cnt1 * 1\n",
        "    \n",
        "    answer = cnt5 + cnt3+ cnt1\n",
        "    \n",
        "    return answer"
      ],
      "metadata": {
        "id": "zRx-3xv0kMKm"
      },
      "execution_count": null,
      "outputs": []
    },
    {
      "cell_type": "markdown",
      "source": [
        "### 모스부호"
      ],
      "metadata": {
        "id": "AhXJXHmumis3"
      }
    },
    {
      "cell_type": "code",
      "source": [
        "def solution(letter):\n",
        "    morse = { \n",
        "        '.-':'a','-...':'b','-.-.':'c','-..':'d','.':'e','..-.':'f',\n",
        "        '--.':'g','....':'h','..':'i','.---':'j','-.-':'k','.-..':'l',\n",
        "        '--':'m','-.':'n','---':'o','.--.':'p','--.-':'q','.-.':'r',\n",
        "        '...':'s','-':'t','..-':'u','...-':'v','.--':'w','-..-':'x',\n",
        "        '-.--':'y','--..':'z'\n",
        "    }\n",
        "    words = letter.split(' ')\n",
        "    result = ''\n",
        "    for word in words:\n",
        "        if word in morse:\n",
        "            result += morse[word]\n",
        "    return result"
      ],
      "metadata": {
        "id": "RKaTmRO5lHjh"
      },
      "execution_count": null,
      "outputs": []
    },
    {
      "cell_type": "markdown",
      "source": [
        "### 가위 바위 보"
      ],
      "metadata": {
        "id": "-yaPDYM5mmKN"
      }
    },
    {
      "cell_type": "code",
      "source": [
        "def solution(rsp):\n",
        "    answer = ''\n",
        "    \n",
        "    for i in rsp:\n",
        "        if i == '2':\n",
        "            answer += '0'\n",
        "        elif i == '0':\n",
        "            answer += '5'\n",
        "        elif i == '5':\n",
        "            answer += '2'\n",
        "    \n",
        "    return answer"
      ],
      "metadata": {
        "id": "kokNhbJnmmXD"
      },
      "execution_count": null,
      "outputs": []
    }
  ]
}