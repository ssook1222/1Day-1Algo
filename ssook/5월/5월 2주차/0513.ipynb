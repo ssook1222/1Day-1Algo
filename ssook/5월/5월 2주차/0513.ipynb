{
  "nbformat": 4,
  "nbformat_minor": 0,
  "metadata": {
    "colab": {
      "provenance": [],
      "authorship_tag": "ABX9TyPUhWVhKQc5vJ9755KSsXIN",
      "include_colab_link": true
    },
    "kernelspec": {
      "name": "python3",
      "display_name": "Python 3"
    },
    "language_info": {
      "name": "python"
    }
  },
  "cells": [
    {
      "cell_type": "markdown",
      "metadata": {
        "id": "view-in-github",
        "colab_type": "text"
      },
      "source": [
        "<a href=\"https://colab.research.google.com/github/ssook1222/1Day-1Algo/blob/master/ssook/5%EC%9B%94/5%EC%9B%94%202%EC%A3%BC%EC%B0%A8/0513.ipynb\" target=\"_parent\"><img src=\"https://colab.research.google.com/assets/colab-badge.svg\" alt=\"Open In Colab\"/></a>"
      ]
    },
    {
      "cell_type": "markdown",
      "source": [
        "## BoJ"
      ],
      "metadata": {
        "id": "zI3xTo3ZfjOT"
      }
    },
    {
      "cell_type": "markdown",
      "source": [
        "### 7891"
      ],
      "metadata": {
        "id": "uAYtDzgRflZv"
      }
    },
    {
      "cell_type": "code",
      "execution_count": 22,
      "metadata": {
        "colab": {
          "base_uri": "https://localhost:8080/"
        },
        "id": "ycDDLf_Xfhi5",
        "outputId": "743a1987-fca2-40d5-d056-28357f13ff3c"
      },
      "outputs": [
        {
          "output_type": "stream",
          "name": "stdout",
          "text": [
            "4\n",
            "-100 100\n",
            "0\n",
            "2 3\n",
            "5\n",
            "0 110101\n",
            "110101\n",
            "-1000000000 1\n",
            "-999999999\n"
          ]
        }
      ],
      "source": [
        "t = int(input())\n",
        "\n",
        "for i in range(t):\n",
        "  a, b = map(int, input().split(\" \"))\n",
        "  print(a+b)"
      ]
    }
  ]
}