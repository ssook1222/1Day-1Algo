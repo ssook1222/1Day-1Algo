{
  "nbformat": 4,
  "nbformat_minor": 0,
  "metadata": {
    "colab": {
      "provenance": [],
      "authorship_tag": "ABX9TyOpD0A94+8x5pY2/+Xxqg4w",
      "include_colab_link": true
    },
    "kernelspec": {
      "name": "python3",
      "display_name": "Python 3"
    },
    "language_info": {
      "name": "python"
    }
  },
  "cells": [
    {
      "cell_type": "markdown",
      "metadata": {
        "id": "view-in-github",
        "colab_type": "text"
      },
      "source": [
        "<a href=\"https://colab.research.google.com/github/ssook1222/1Day-1Algo/blob/master/ssook/5%EC%9B%94/5%EC%9B%94%202%EC%A3%BC%EC%B0%A8/0514.ipynb\" target=\"_parent\"><img src=\"https://colab.research.google.com/assets/colab-badge.svg\" alt=\"Open In Colab\"/></a>"
      ]
    },
    {
      "cell_type": "markdown",
      "source": [
        "## BoJ"
      ],
      "metadata": {
        "id": "-LWvTu9lhycI"
      }
    },
    {
      "cell_type": "markdown",
      "source": [
        "### 2824"
      ],
      "metadata": {
        "id": "UzM9LOXHhj4R"
      }
    },
    {
      "cell_type": "code",
      "execution_count": 1,
      "metadata": {
        "colab": {
          "base_uri": "https://localhost:8080/"
        },
        "id": "YzSzy04Leiqo",
        "outputId": "33c410a0-c723-4d20-aadc-f6885c4de4f1"
      },
      "outputs": [
        {
          "output_type": "stream",
          "name": "stdout",
          "text": [
            "3\n",
            "2 3 5\n",
            "2\n",
            "4 5\n",
            "10\n"
          ]
        }
      ],
      "source": [
        "import math\n",
        "import sys\n",
        "\n",
        "n = int(sys.stdin.readline().rstrip())\n",
        "a_list = list(map(int, sys.stdin.readline().rstrip().split(\" \")))\n",
        "a = 1\n",
        "\n",
        "for a_raw in a_list:\n",
        "  a *= a_raw\n",
        "\n",
        "m = int(sys.stdin.readline().rstrip())\n",
        "b_list = list(map(int, sys.stdin.readline().rstrip().split(\" \")))\n",
        "b = 1\n",
        "\n",
        "for b_raw in b_list:\n",
        "  b *= b_raw\n",
        "\n",
        "gcd_data = math.gcd(a,b)\n",
        "\n",
        "if len(str(gcd_data)) > 9 :\n",
        "    raw_data = gcd_data % 1000000000\n",
        "    print('{:09d}'.format(raw_data))\n",
        "\n",
        "else:\n",
        "    print(gcd_data)\n"
      ]
    },
    {
      "cell_type": "markdown",
      "source": [
        "### 10942"
      ],
      "metadata": {
        "id": "wb4jk4y-hxwY"
      }
    },
    {
      "cell_type": "markdown",
      "source": [
        "- DP 진짜 너무 어렵다 흑흑 -> 점화식 1도 모르겟음"
      ],
      "metadata": {
        "id": "jkAkYcTmp0ul"
      }
    },
    {
      "cell_type": "markdown",
      "source": [
        "### 시간초과 코드"
      ],
      "metadata": {
        "id": "rbpwDBTrp3V6"
      }
    },
    {
      "cell_type": "code",
      "source": [
        "n = int(input())\n",
        "num_list = list(map(int, input().split(\" \")))\n",
        "\n",
        "m = int(input())\n",
        "for i in range(m):\n",
        "  s, e = map(int, input().split(\" \"))\n",
        "  if num_list[s-1:e] == num_list[s-1:e][::-1]:\n",
        "    print(1)\n",
        "  else:\n",
        "    print(0)\n"
      ],
      "metadata": {
        "id": "Sw5F4zznhyAm"
      },
      "execution_count": null,
      "outputs": []
    },
    {
      "cell_type": "markdown",
      "source": [
        "### 블로그 참고한 코드\n",
        "\n",
        "[참고한 블로그1](https://ddiyeon.tistory.com/73)\n",
        "[참고한 블로그2](https://jshong1125.tistory.com/61)"
      ],
      "metadata": {
        "id": "iV-AvB__p5Fe"
      }
    },
    {
      "cell_type": "code",
      "source": [
        "n = int(input())\n",
        "num_list = list(map(int, input().split(\" \")))\n",
        "\n",
        "m = int(input())\n",
        "\n",
        "dp = [[0]* n for _ in range(n)]\n",
        "\n",
        "# 숫자가 1개일 경우\n",
        "for i in range(n):\n",
        "  dp[i][i] = 1\n",
        "\n",
        "# 숫자가 2개일 경우\n",
        "for i in range(n-1):\n",
        "  if num_list[i] == num_list[i+1]:\n",
        "    dp[i][i+1] = 1\n",
        "\n",
        "#숫자가 3개일 경우 \n",
        "for i in range(n-2):\n",
        "  for j in range(n-i-2):\n",
        "    k = i+j+2\n",
        "    if num_list[j] == num_list[k] and dp[j+1][k-1] == 1:\n",
        "      dp[j][k] = 1\n",
        "\n",
        "for i in range(m):\n",
        "  s, e = map(int, input().split(\" \"))\n",
        "  print(dp[s-1][e-1])"
      ],
      "metadata": {
        "colab": {
          "base_uri": "https://localhost:8080/"
        },
        "id": "vD7H91XhkhRy",
        "outputId": "b9b97141-b7b0-4a14-c390-abd408a60857"
      },
      "execution_count": 15,
      "outputs": [
        {
          "output_type": "stream",
          "name": "stdout",
          "text": [
            "7\n",
            "1 2 1 3 1 2 1\n",
            "4\n",
            "1 3\n",
            "1\n",
            "2 5\n",
            "0\n",
            "3 3\n",
            "1\n",
            "5 7\n",
            "1\n"
          ]
        }
      ]
    },
    {
      "cell_type": "markdown",
      "source": [
        "### 11279"
      ],
      "metadata": {
        "id": "SSdfP77IqYD4"
      }
    },
    {
      "cell_type": "code",
      "source": [
        "import sys\n",
        "import heapq\n",
        "\n",
        "n = int(sys.stdin.readline().rstrip())\n",
        "num_list= []\n",
        "\n",
        "for _ in range(n):\n",
        "  cmd = int(sys.stdin.readline().rstrip())\n",
        "\n",
        "  if cmd == 0:\n",
        "    if len(num_list) == 0:\n",
        "      print(0)\n",
        "    else:\n",
        "      print(-1 * heapq.heappop(num_list))\n",
        "  \n",
        "  else:\n",
        "    heapq.heappush(num_list, (-cmd))"
      ],
      "metadata": {
        "colab": {
          "base_uri": "https://localhost:8080/"
        },
        "id": "W8Nl7N0rqYZM",
        "outputId": "ea287633-ad78-4a6e-ef25-0f1e3920831a"
      },
      "execution_count": 18,
      "outputs": [
        {
          "output_type": "stream",
          "name": "stdout",
          "text": [
            "13\n",
            "0\n",
            "0\n",
            "1\n",
            "2\n",
            "0\n",
            "2\n",
            "0\n",
            "1\n",
            "3\n",
            "2\n",
            "1\n",
            "0\n",
            "3\n",
            "0\n",
            "2\n",
            "0\n",
            "1\n",
            "0\n",
            "0\n",
            "0\n",
            "0\n"
          ]
        }
      ]
    },
    {
      "cell_type": "markdown",
      "source": [
        "- 놀랍게도 파이썬에는 최소 힙 자료구조가 있었다...!"
      ],
      "metadata": {
        "id": "qOehB_wpuXnW"
      }
    },
    {
      "cell_type": "markdown",
      "source": [
        "## Programmers"
      ],
      "metadata": {
        "id": "FCltJdQdvNGu"
      }
    },
    {
      "cell_type": "markdown",
      "source": [
        "### 영어가 싫어요"
      ],
      "metadata": {
        "id": "m23xltfjwNQm"
      }
    },
    {
      "cell_type": "code",
      "source": [
        "def solution(numbers):\n",
        "    answer = 0\n",
        "    \n",
        "    numbers = numbers.replace('zero','0')\n",
        "    numbers = numbers.replace('one','1')\n",
        "    numbers = numbers.replace('two','2')\n",
        "    numbers = numbers.replace('three','3')\n",
        "    numbers = numbers.replace('four','4')\n",
        "    \n",
        "    numbers = numbers.replace('five','5')\n",
        "    numbers = numbers.replace('six','6')\n",
        "    numbers = numbers.replace('seven','7')\n",
        "    numbers = numbers.replace('eight','8')\n",
        "    numbers = numbers.replace('nine','9')\n",
        "    \n",
        "    answer = int(numbers)\n",
        "    \n",
        "    return answer"
      ],
      "metadata": {
        "id": "LZlDENxnvMml"
      },
      "execution_count": null,
      "outputs": []
    },
    {
      "cell_type": "markdown",
      "source": [
        "### 인덱스 바꾸기"
      ],
      "metadata": {
        "id": "pBFuKnRawQE9"
      }
    },
    {
      "cell_type": "code",
      "source": [
        "def solution(my_string, num1, num2):\n",
        "    answer = ''\n",
        "    \n",
        "    for i in range(len(my_string)):\n",
        "        if i != num1 and i != num2:\n",
        "            answer += my_string[i]\n",
        "    \n",
        "        elif i == num1:\n",
        "            answer += my_string[num2]\n",
        "            \n",
        "        elif i == num2:\n",
        "            answer += my_string[num1]\n",
        "    \n",
        "    return answer"
      ],
      "metadata": {
        "id": "ChoDMcrWxJ4z"
      },
      "execution_count": null,
      "outputs": []
    },
    {
      "cell_type": "markdown",
      "source": [
        "### 한 번만 등장한 문자"
      ],
      "metadata": {
        "id": "nkZInlDZxKUx"
      }
    },
    {
      "cell_type": "code",
      "source": [
        "def solution(s):\n",
        "    answer = ''\n",
        "    \n",
        "    check = {}\n",
        "    raw_data = []\n",
        "    \n",
        "    for letter in s:\n",
        "        if letter in check:\n",
        "            check[letter] += 1\n",
        "        else:\n",
        "            check[letter] = 1\n",
        "    \n",
        "    for key in check:\n",
        "        if check[key] == 1:\n",
        "            raw_data.append(key)\n",
        "\n",
        "    raw_data.sort()        \n",
        "    \n",
        "    for i in raw_data:\n",
        "        answer += i\n",
        "            \n",
        "    return answer"
      ],
      "metadata": {
        "id": "dgtExHKUxKuU"
      },
      "execution_count": null,
      "outputs": []
    },
    {
      "cell_type": "markdown",
      "source": [
        "### 약수 구하기"
      ],
      "metadata": {
        "id": "GL485sqrxLDZ"
      }
    },
    {
      "cell_type": "code",
      "source": [
        "def yaksu(n):\n",
        "    data = []\n",
        "    for i in range(1, n+1):\n",
        "        if n%i == 0:\n",
        "            data.append(i)\n",
        "    return data\n",
        "\n",
        "def solution(n):\n",
        "    answer = sorted(yaksu(n))\n",
        "    return answer"
      ],
      "metadata": {
        "id": "FB0GYqQyxLWb"
      },
      "execution_count": null,
      "outputs": []
    }
  ]
}