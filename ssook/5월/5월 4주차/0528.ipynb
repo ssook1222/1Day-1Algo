{
  "nbformat": 4,
  "nbformat_minor": 0,
  "metadata": {
    "colab": {
      "provenance": [],
      "authorship_tag": "ABX9TyPyCWAyCUvbMoC0DmkNfB9M",
      "include_colab_link": true
    },
    "kernelspec": {
      "name": "python3",
      "display_name": "Python 3"
    },
    "language_info": {
      "name": "python"
    }
  },
  "cells": [
    {
      "cell_type": "markdown",
      "metadata": {
        "id": "view-in-github",
        "colab_type": "text"
      },
      "source": [
        "<a href=\"https://colab.research.google.com/github/ssook1222/1Day-1Algo/blob/master/ssook/5%EC%9B%94/5%EC%9B%94%204%EC%A3%BC%EC%B0%A8/0528.ipynb\" target=\"_parent\"><img src=\"https://colab.research.google.com/assets/colab-badge.svg\" alt=\"Open In Colab\"/></a>"
      ]
    },
    {
      "cell_type": "markdown",
      "source": [
        "## BoJ"
      ],
      "metadata": {
        "id": "yxY3u2eYfWp6"
      }
    },
    {
      "cell_type": "markdown",
      "source": [
        "### 11053"
      ],
      "metadata": {
        "id": "LJY8CcxaO5Gd"
      }
    },
    {
      "cell_type": "code",
      "execution_count": null,
      "metadata": {
        "colab": {
          "base_uri": "https://localhost:8080/"
        },
        "id": "Wfsw2-J2L3PT",
        "outputId": "b7d488f2-66ba-4a34-bfc0-35383fa1f5c6"
      },
      "outputs": [
        {
          "output_type": "stream",
          "name": "stdout",
          "text": [
            "6\n",
            "10 20 10 30 20 50\n",
            "4\n"
          ]
        }
      ],
      "source": [
        "import sys\n",
        "\n",
        "n = int(sys.stdin.readline().strip())\n",
        "num_list = list(map(int, sys.stdin.readline().strip().split(\" \")))\n",
        "\n",
        "dp = [1] * (n)\n",
        "\n",
        "for i in range(1, n):\n",
        "  for j in range(i):\n",
        "    if num_list[i] > num_list[j]:\n",
        "      dp[i] = max(dp[i], dp[j]+1)\n",
        "\n",
        "print(max(dp))"
      ]
    },
    {
      "cell_type": "markdown",
      "source": [
        "### 1991"
      ],
      "metadata": {
        "id": "JZGMkInIO7NI"
      }
    },
    {
      "cell_type": "code",
      "source": [
        "import sys\n",
        "sys.setrecursionlimit(10**8)\n",
        "\n",
        "def preorder(v):\n",
        "  if v != '.':\n",
        "    result.append(v) \n",
        "    preorder(tree[v][0])\n",
        "    preorder(tree[v][1])\n",
        "\n",
        "def inorder(v):\n",
        "  if v != '.':\n",
        "    inorder(tree[v][0])\n",
        "    result.append(v)  \n",
        "    inorder(tree[v][1])    \n",
        "\n",
        "def postorder(v):\n",
        "  if v != '.':\n",
        "    postorder(tree[v][0])\n",
        "    postorder(tree[v][1])\n",
        "    result.append(v)  \n",
        "\n",
        "\n",
        "n = int(sys.stdin.readline().strip())\n",
        "tree = {}\n",
        "\n",
        "for i in range(n):\n",
        "  root, left, right = map(str, sys.stdin.readline().strip().split(\" \"))\n",
        "  tree[root] = left, right\n",
        "\n",
        "result = [] \n",
        "\n",
        "preorder('A')\n",
        "print(''.join(result)) \n",
        "\n",
        "result = []  \n",
        "inorder('A')\n",
        "print(''.join(result))\n",
        "\n",
        "result = []  \n",
        "postorder('A')\n",
        "print(''.join(result))\n"
      ],
      "metadata": {
        "id": "HH58h3eZO7wt"
      },
      "execution_count": null,
      "outputs": []
    },
    {
      "cell_type": "markdown",
      "source": [
        "---"
      ],
      "metadata": {
        "id": "nRlxo35cfbFm"
      }
    },
    {
      "cell_type": "markdown",
      "source": [
        "## Programmers"
      ],
      "metadata": {
        "id": "SXM1G8FffZB_"
      }
    },
    {
      "cell_type": "markdown",
      "source": [
        "### x만큼 간격이 있는 n개의 숫자"
      ],
      "metadata": {
        "id": "Ugh2TXEjfcGA"
      }
    },
    {
      "cell_type": "code",
      "source": [
        "def solution(x, n):\n",
        "    t = x\n",
        "    answer = []\n",
        "    for i in range(1,n+1):\n",
        "        t = x * i\n",
        "        answer.append(t)     \n",
        "    return answer"
      ],
      "metadata": {
        "id": "JwTETYzofcUs"
      },
      "execution_count": null,
      "outputs": []
    }
  ]
}