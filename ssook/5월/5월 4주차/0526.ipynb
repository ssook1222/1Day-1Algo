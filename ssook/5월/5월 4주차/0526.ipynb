{
  "nbformat": 4,
  "nbformat_minor": 0,
  "metadata": {
    "colab": {
      "provenance": [],
      "authorship_tag": "ABX9TyOANcHym9K7PjhDofCV0qKQ",
      "include_colab_link": true
    },
    "kernelspec": {
      "name": "python3",
      "display_name": "Python 3"
    },
    "language_info": {
      "name": "python"
    }
  },
  "cells": [
    {
      "cell_type": "markdown",
      "metadata": {
        "id": "view-in-github",
        "colab_type": "text"
      },
      "source": [
        "<a href=\"https://colab.research.google.com/github/ssook1222/1Day-1Algo/blob/master/ssook/5%EC%9B%94/5%EC%9B%94%204%EC%A3%BC%EC%B0%A8/0526.ipynb\" target=\"_parent\"><img src=\"https://colab.research.google.com/assets/colab-badge.svg\" alt=\"Open In Colab\"/></a>"
      ]
    },
    {
      "cell_type": "markdown",
      "source": [
        "## BoJ"
      ],
      "metadata": {
        "id": "yb4TH2lWGAI_"
      }
    },
    {
      "cell_type": "markdown",
      "source": [
        "### 10799"
      ],
      "metadata": {
        "id": "0sbKncZxD-Zu"
      }
    },
    {
      "cell_type": "code",
      "execution_count": 4,
      "metadata": {
        "colab": {
          "base_uri": "https://localhost:8080/"
        },
        "id": "Jp1B0DKU8W_m",
        "outputId": "42d386cc-2dc6-43ae-8d0a-2bf517ee3430"
      },
      "outputs": [
        {
          "output_type": "stream",
          "name": "stdout",
          "text": [
            "(((()(()()))(())()))(()())\n",
            "24\n"
          ]
        }
      ],
      "source": [
        "import sys\n",
        "\n",
        "raw = sys.stdin.readline().strip()\n",
        "stack = []\n",
        "ans = 0\n",
        "\n",
        "for i in range(len(raw)):\n",
        "  if raw[i] == '(':\n",
        "    stack.append(raw[i])\n",
        "  else:\n",
        "    if i!=0 and raw[i-1] == '(':\n",
        "      stack.pop()\n",
        "      ans += len(stack)\n",
        "    elif i!=0 and raw[i-1] == ')':\n",
        "      stack.pop()\n",
        "      ans += 1\n",
        "\n",
        "print(ans)"
      ]
    },
    {
      "cell_type": "markdown",
      "source": [
        "### 2331"
      ],
      "metadata": {
        "id": "FGXJs6euHS-k"
      }
    },
    {
      "cell_type": "code",
      "source": [
        "import math\n",
        "a, p = map(int, input().split(\" \"))\n",
        "\n",
        "d = [a]\n",
        "\n",
        "while True:\n",
        "  hap = 0\n",
        "  for i in str(d[-1]):\n",
        "    hap += int(i) ** p\n",
        "  \n",
        "  if hap in d:\n",
        "    d = d[:d.index(hap)]\n",
        "    break\n",
        "  \n",
        "  d.append(hap)\n",
        "\n",
        "print(len(d))"
      ],
      "metadata": {
        "colab": {
          "base_uri": "https://localhost:8080/"
        },
        "id": "vNx0L0vCHTN3",
        "outputId": "5a664a56-4c61-42a7-9dee-5317ade8ee66"
      },
      "execution_count": 16,
      "outputs": [
        {
          "output_type": "stream",
          "name": "stdout",
          "text": [
            "57 2\n",
            "4\n"
          ]
        }
      ]
    },
    {
      "cell_type": "markdown",
      "source": [
        "### 1747"
      ],
      "metadata": {
        "id": "HY-hN2jPM2q8"
      }
    },
    {
      "cell_type": "code",
      "source": [
        "def prime(n):\n",
        "  num = [False, False] + [True] * (1000002)\n",
        "  primes = []\n",
        "  answer = []\n",
        "\n",
        "  for i in range(2, len(num)):\n",
        "    if num[i] == True:\n",
        "      primes.append(i)\n",
        "\n",
        "      for j in range(2*i, len(num), i):\n",
        "        num[j] = False\n",
        "  \n",
        "  for i in range(len(primes)):\n",
        "    if primes[i] >= n:\n",
        "      if str(primes[i]) == str(primes[i])[::-1]:\n",
        "        answer.append(primes[i])\n",
        "\n",
        "  return answer\n",
        "\n",
        "n = int(input())\n",
        "ans = prime(n)\n",
        "\n",
        "if len(ans) == 0:\n",
        "  print(1003001)\n",
        "else:\n",
        "  print(min(ans))"
      ],
      "metadata": {
        "colab": {
          "base_uri": "https://localhost:8080/"
        },
        "id": "L0y14apuM28M",
        "outputId": "a20397e7-dcb4-4d0e-d135-d029dea810f1"
      },
      "execution_count": 53,
      "outputs": [
        {
          "output_type": "stream",
          "name": "stdout",
          "text": [
            "31\n",
            "101\n"
          ]
        }
      ]
    },
    {
      "cell_type": "markdown",
      "source": [
        "---"
      ],
      "metadata": {
        "id": "tNtfBrB-bmjF"
      }
    },
    {
      "cell_type": "markdown",
      "source": [
        "## Programmers"
      ],
      "metadata": {
        "id": "AHI3_XqfbnJL"
      }
    },
    {
      "cell_type": "markdown",
      "source": [
        "### 두 개 뽑아서 더하기"
      ],
      "metadata": {
        "id": "QDR6-M8hX8zA"
      }
    },
    {
      "cell_type": "code",
      "source": [
        "import itertools\n",
        "\n",
        "def solution(numbers):\n",
        "    num_list = itertools.combinations(numbers, 2)\n",
        "    answer = []\n",
        "    \n",
        "    for i in num_list:\n",
        "        if i[0] + i[1] not in answer:\n",
        "            answer.append(i[0] + i[1])\n",
        "            \n",
        "    answer.sort()    \n",
        "    return answer"
      ],
      "metadata": {
        "id": "d5400DQNYqPP"
      },
      "execution_count": null,
      "outputs": []
    },
    {
      "cell_type": "markdown",
      "source": [
        "### 소수 찾기"
      ],
      "metadata": {
        "id": "4JZ0fax6bRro"
      }
    },
    {
      "cell_type": "code",
      "source": [
        "def solution(n):\n",
        "    num = [False, False] + [True] * (n-1)\n",
        "    primes = []\n",
        "    \n",
        "    for i in range(2, n+1):\n",
        "        if num[i] == True:\n",
        "            primes.append(i)\n",
        "        \n",
        "            for j in range(2*i, n+1, i):\n",
        "                num[j] = False\n",
        "    \n",
        "    return len(primes)"
      ],
      "metadata": {
        "id": "UkxoDZu6bTBv"
      },
      "execution_count": null,
      "outputs": []
    }
  ]
}