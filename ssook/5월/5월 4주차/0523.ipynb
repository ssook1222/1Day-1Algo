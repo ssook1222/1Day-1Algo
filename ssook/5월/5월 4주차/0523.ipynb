{
  "nbformat": 4,
  "nbformat_minor": 0,
  "metadata": {
    "colab": {
      "provenance": []
    },
    "kernelspec": {
      "name": "python3",
      "display_name": "Python 3"
    },
    "language_info": {
      "name": "python"
    }
  },
  "cells": [
    {
      "cell_type": "markdown",
      "source": [
        "## BoJ"
      ],
      "metadata": {
        "id": "kM_90qWDCD4V"
      }
    },
    {
      "cell_type": "markdown",
      "source": [
        "### 15657"
      ],
      "metadata": {
        "id": "j7VHG21tCDk6"
      }
    },
    {
      "cell_type": "code",
      "execution_count": null,
      "metadata": {
        "colab": {
          "base_uri": "https://localhost:8080/"
        },
        "id": "-Vj9gOTT3Ykq",
        "outputId": "b03c2c61-225e-4e83-8525-8d89cd2e97ac"
      },
      "outputs": [
        {
          "output_type": "stream",
          "name": "stdout",
          "text": [
            "4 2\n",
            "9 8 7 1\n",
            "1 1\n",
            "1 7\n",
            "1 8\n",
            "1 9\n",
            "7 7\n",
            "7 8\n",
            "7 9\n",
            "8 8\n",
            "8 9\n",
            "9 9\n"
          ]
        }
      ],
      "source": [
        "import itertools\n",
        "import sys\n",
        "\n",
        "n, m = map(int, sys.stdin.readline().strip().split(\" \"))\n",
        "num_list = list(map(int, sys.stdin.readline().strip().split(\" \")))\n",
        "num_list.sort()\n",
        "\n",
        "raw = itertools.combinations_with_replacement(num_list, m)\n",
        "raw = list(raw)\n",
        "\n",
        "for i in raw:\n",
        "  print(*i)"
      ]
    },
    {
      "cell_type": "markdown",
      "source": [
        "### 1990"
      ],
      "metadata": {
        "id": "L220OYvtCL9Z"
      }
    },
    {
      "cell_type": "code",
      "source": [
        "import sys\n",
        "\n",
        "def prime(n):\n",
        "\n",
        "  if n > 10000000 :\n",
        "      n = 10000000\n",
        "    \n",
        "  num = [False, False] + [True]*(n-1)\n",
        "  primes = []\n",
        "\n",
        "  for i in range(2, n+1):\n",
        "    if num[i] == True:\n",
        "      primes.append(i)\n",
        "\n",
        "      for j in range(2*i, n+1, i):\n",
        "        num[j] = False\n",
        "\n",
        "  return primes\n",
        "\n",
        "a, b = map(int, sys.stdin.readline().strip().split(\" \"))\n",
        "\n",
        "for i in prime(b):\n",
        "  if i < a:\n",
        "    continue\n",
        "  \n",
        "  if str(i) != str(i)[::-1]:\n",
        "    continue\n",
        "  \n",
        "  elif str(i) == str(i)[::-1]:\n",
        "    print(i)\n",
        "\n",
        "print(-1)\n"
      ],
      "metadata": {
        "colab": {
          "base_uri": "https://localhost:8080/"
        },
        "id": "ZkT79PH_Cr_g",
        "outputId": "02d4f5b3-1d0c-4304-f476-c83d6f1862c7"
      },
      "execution_count": null,
      "outputs": [
        {
          "output_type": "stream",
          "name": "stdout",
          "text": [
            "5 550\n",
            "5\n",
            "7\n",
            "11\n",
            "101\n",
            "131\n",
            "151\n",
            "181\n",
            "191\n",
            "313\n",
            "353\n",
            "373\n",
            "383\n",
            "-1\n"
          ]
        }
      ]
    },
    {
      "cell_type": "markdown",
      "source": [
        "### 24553"
      ],
      "metadata": {
        "id": "-RVAslF6NlYU"
      }
    },
    {
      "cell_type": "code",
      "source": [
        "import sys\n",
        "\n",
        "t = int(sys.stdin.readline().strip())\n",
        "\n",
        "for i in range(t):\n",
        "  cnt = 0\n",
        "  n = int(sys.stdin.readline().strip())\n",
        "  \n",
        "  if str(n) == str(n)[::-1]:\n",
        "    print(0)\n",
        "  \n",
        "  else:\n",
        "    if n % 10 == 0:\n",
        "      print(1)\n",
        "    else:\n",
        "      print(0)"
      ],
      "metadata": {
        "colab": {
          "base_uri": "https://localhost:8080/"
        },
        "id": "1WdFsp3yNllD",
        "outputId": "b8413e82-2fcc-45a7-9fe7-f284c1385f14"
      },
      "execution_count": null,
      "outputs": [
        {
          "output_type": "stream",
          "name": "stdout",
          "text": [
            "4\n",
            "3\n",
            "0\n",
            "10\n",
            "1\n",
            "12\n",
            "0\n",
            "27\n",
            "0\n"
          ]
        }
      ]
    },
    {
      "cell_type": "markdown",
      "source": [
        "---"
      ],
      "metadata": {
        "id": "Q-7ENU4wTgUw"
      }
    },
    {
      "cell_type": "markdown",
      "source": [
        "### Programmers"
      ],
      "metadata": {
        "id": "dAND00FDTh7t"
      }
    },
    {
      "cell_type": "markdown",
      "source": [
        "### 치킨 쿠폰"
      ],
      "metadata": {
        "id": "E9EQoqFGTjmV"
      }
    },
    {
      "cell_type": "code",
      "source": [
        "def solution(chicken):\n",
        "    answer = 0 \n",
        "    coupon = 0  \n",
        "    rest = 0  \n",
        "    \n",
        "    while chicken > 0:\n",
        "        coupon += chicken  \n",
        "        rest += chicken  \n",
        "        \n",
        "        chicken = coupon // 10  \n",
        "        coupon %= 10 \n",
        "        \n",
        "        answer += chicken  \n",
        "        \n",
        "        if chicken == 0 and rest < 10:  \n",
        "            break\n",
        "    \n",
        "    return answer"
      ],
      "metadata": {
        "id": "hj-gzR28TjbR"
      },
      "execution_count": null,
      "outputs": []
    },
    {
      "cell_type": "markdown",
      "source": [
        "### 이진수 더하기"
      ],
      "metadata": {
        "id": "oGGj-TxiTj6c"
      }
    },
    {
      "cell_type": "code",
      "source": [
        "def solution(bin1, bin2):\n",
        "    return str(bin(int(bin1,2) + int(bin2,2))[2:])"
      ],
      "metadata": {
        "id": "7vAEm0jpTkGU"
      },
      "execution_count": null,
      "outputs": []
    },
    {
      "cell_type": "markdown",
      "source": [
        "### A로 B 만들기"
      ],
      "metadata": {
        "id": "MMmXDwqoxv1C"
      }
    },
    {
      "cell_type": "code",
      "source": [
        "def solution(before, after):\n",
        "    if len(before) != len(after):  \n",
        "        return 0\n",
        "    \n",
        "    before_dict = {}  \n",
        "    after_dict = {}  \n",
        "    \n",
        "    for ch in before:\n",
        "        before_dict[ch] = before_dict.get(ch, 0) + 1  \n",
        "    \n",
        "    for ch in after:\n",
        "        after_dict[ch] = after_dict.get(ch, 0) + 1 \n",
        "    \n",
        "    if before_dict == after_dict: \n",
        "        return 1\n",
        "    \n",
        "    return 0 "
      ],
      "metadata": {
        "id": "0-OLQlJ42ojI"
      },
      "execution_count": null,
      "outputs": []
    },
    {
      "cell_type": "markdown",
      "source": [
        "### k의 개수"
      ],
      "metadata": {
        "id": "0eEL9NJp5xlV"
      }
    },
    {
      "cell_type": "code",
      "source": [
        "def solution(i, j, k):\n",
        "    answer = 0\n",
        "    \n",
        "    for num in range(i, j+1):\n",
        "        answer += list(str(num)).count(str(k))\n",
        "    \n",
        "    return answer"
      ],
      "metadata": {
        "id": "L01m1TG65xy_"
      },
      "execution_count": null,
      "outputs": []
    }
  ]
}