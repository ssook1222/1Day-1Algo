{
  "nbformat": 4,
  "nbformat_minor": 0,
  "metadata": {
    "colab": {
      "provenance": [],
      "authorship_tag": "ABX9TyP2fbTYhWKChQ+bsTWTScgi",
      "include_colab_link": true
    },
    "kernelspec": {
      "name": "python3",
      "display_name": "Python 3"
    },
    "language_info": {
      "name": "python"
    }
  },
  "cells": [
    {
      "cell_type": "markdown",
      "metadata": {
        "id": "view-in-github",
        "colab_type": "text"
      },
      "source": [
        "<a href=\"https://colab.research.google.com/github/ssook1222/1Day-1Algo/blob/master/ssook/5%EC%9B%94/5%EC%9B%94%204%EC%A3%BC%EC%B0%A8/0525.ipynb\" target=\"_parent\"><img src=\"https://colab.research.google.com/assets/colab-badge.svg\" alt=\"Open In Colab\"/></a>"
      ]
    },
    {
      "cell_type": "markdown",
      "source": [
        "## BoJ"
      ],
      "metadata": {
        "id": "qequBUoGHMVI"
      }
    },
    {
      "cell_type": "markdown",
      "source": [
        "###  9711"
      ],
      "metadata": {
        "id": "bgP0Og4BHb2H"
      }
    },
    {
      "cell_type": "code",
      "execution_count": 9,
      "metadata": {
        "colab": {
          "base_uri": "https://localhost:8080/"
        },
        "id": "3ocffkn7HKMx",
        "outputId": "058d42c1-90e6-4fc2-e128-66627be7a4e2"
      },
      "outputs": [
        {
          "output_type": "stream",
          "name": "stdout",
          "text": [
            "10\n",
            "5 10\n",
            "Case #1: 5\n",
            "6 25\n",
            "Case #2: 8\n",
            "10 21\n",
            "Case #3: 13\n",
            "32 43\n",
            "Case #4: 15\n",
            "100 100\n",
            "Case #5: 75\n",
            "50 50\n",
            "Case #6: 25\n",
            "25 25\n",
            "Case #7: 0\n",
            "45 67\n",
            "Case #8: 19\n",
            "109 32\n",
            "Case #9: 9\n",
            "128 128\n",
            "Case #10: 69\n"
          ]
        }
      ],
      "source": [
        "import sys\n",
        "\n",
        "def fibo(n):\n",
        "  dp = [0] * (n+1)\n",
        "  dp[0] = 0 \n",
        "  dp[1] = 1 \n",
        "  for i in range(2, n+1):\n",
        "    dp[i] = (dp[i-2] + dp[i-1]) % q\n",
        "\n",
        "  if n == 0:\n",
        "      dp[0] = 0 % q\n",
        "      \n",
        "  elif n == 1:\n",
        "      dp[1] = 1 % q \n",
        "\n",
        "  return dp[n]\n",
        "\n",
        "t = int(sys.stdin.readline().strip())\n",
        "\n",
        "for i in range(t):\n",
        "  p, q = map(int, sys.stdin.readline().strip().split(\" \"))\n",
        "  print(\"Case #%d: %d\" %(i+1, fibo(p)))"
      ]
    },
    {
      "cell_type": "markdown",
      "source": [
        "### 1564"
      ],
      "metadata": {
        "id": "J-FKCld8MpTL"
      }
    },
    {
      "cell_type": "code",
      "source": [
        "import sys\n",
        "\n",
        "n = int(sys.stdin.readline().strip())\n",
        "\n",
        "f = 1\n",
        "\n",
        "for i in range(2,n+1):\n",
        "    f *= i\n",
        "    while True:\n",
        "        if str(f)[-1] == \"0\":\n",
        "            f //= 10\n",
        "        else:\n",
        "            break\n",
        "    f %= 100000000000000000\n",
        "\n",
        "text = str(f)\n",
        "\n",
        "print(text[-5:])"
      ],
      "metadata": {
        "colab": {
          "base_uri": "https://localhost:8080/"
        },
        "id": "GdBpSWziMpiV",
        "outputId": "a8b0937e-b60a-4c0a-9991-cb81ba94a612"
      },
      "execution_count": 17,
      "outputs": [
        {
          "output_type": "stream",
          "name": "stdout",
          "text": [
            "20\n",
            "17664\n"
          ]
        }
      ]
    },
    {
      "cell_type": "markdown",
      "source": [
        "## Programmers"
      ],
      "metadata": {
        "id": "22w8iYngtEcm"
      }
    },
    {
      "cell_type": "markdown",
      "source": [
        "### 두 정수 사이의 합"
      ],
      "metadata": {
        "id": "Swhcwljotqgx"
      }
    },
    {
      "cell_type": "code",
      "source": [
        "def solution(a, b):    \n",
        "    if a < b:\n",
        "        num = [ i for i in range(a, b+1)]\n",
        "        \n",
        "    else:\n",
        "        num = [ i for i in range(b, a+1)]\n",
        "    \n",
        "    return sum(num)"
      ],
      "metadata": {
        "id": "0okqRz5GtErg"
      },
      "execution_count": null,
      "outputs": []
    }
  ]
}