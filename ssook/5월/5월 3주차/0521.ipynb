{
  "nbformat": 4,
  "nbformat_minor": 0,
  "metadata": {
    "colab": {
      "provenance": [],
      "authorship_tag": "ABX9TyN1nzyOKoFQBXWzGUnm1ZT7",
      "include_colab_link": true
    },
    "kernelspec": {
      "name": "python3",
      "display_name": "Python 3"
    },
    "language_info": {
      "name": "python"
    }
  },
  "cells": [
    {
      "cell_type": "markdown",
      "metadata": {
        "id": "view-in-github",
        "colab_type": "text"
      },
      "source": [
        "<a href=\"https://colab.research.google.com/github/ssook1222/1Day-1Algo/blob/master/ssook/5%EC%9B%94/5%EC%9B%94%203%EC%A3%BC%EC%B0%A8/0521.ipynb\" target=\"_parent\"><img src=\"https://colab.research.google.com/assets/colab-badge.svg\" alt=\"Open In Colab\"/></a>"
      ]
    },
    {
      "cell_type": "markdown",
      "source": [
        "## BoJ"
      ],
      "metadata": {
        "id": "JbDUaB0hjjbH"
      }
    },
    {
      "cell_type": "markdown",
      "source": [
        "### 15663"
      ],
      "metadata": {
        "id": "R-Wf0GuTjhrk"
      }
    },
    {
      "cell_type": "code",
      "execution_count": 16,
      "metadata": {
        "colab": {
          "base_uri": "https://localhost:8080/"
        },
        "id": "_3xscs5Bfj61",
        "outputId": "a7555719-e7d2-4bdf-bc68-c23dc5ea6ec6"
      },
      "outputs": [
        {
          "output_type": "stream",
          "name": "stdout",
          "text": [
            "4 4\n",
            "1 1 1 1\n",
            "1 1 1 1\n"
          ]
        }
      ],
      "source": [
        "import itertools\n",
        "\n",
        "n, m = map(int, input().split(\" \"))\n",
        "num_list = list(map(int, input().split(\" \")))\n",
        "\n",
        "raw_data = itertools.permutations(num_list, m)\n",
        "raw_data = list(set(raw_data))\n",
        "\n",
        "raw_data.sort()\n",
        "\n",
        "for i in raw_data:\n",
        "  print(*i)"
      ]
    },
    {
      "cell_type": "markdown",
      "source": [
        "---"
      ],
      "metadata": {
        "id": "WN7I8kHyjlxR"
      }
    },
    {
      "cell_type": "markdown",
      "source": [
        "## Programmers"
      ],
      "metadata": {
        "id": "EoM2dH3ajk6n"
      }
    },
    {
      "cell_type": "markdown",
      "source": [
        "### 저주의 숫자3"
      ],
      "metadata": {
        "id": "_xofNOPon05E"
      }
    },
    {
      "cell_type": "code",
      "source": [
        "def solution(n):\n",
        "    answer = 0\n",
        "\n",
        "    natural_num = [i for i in range(1, 230)]\n",
        "    num = []\n",
        "    \n",
        "    for i in range(len(natural_num)):\n",
        "        if natural_num[i] % 3 != 0 and natural_num[i] % 10 != 3 and (natural_num[i] < 30 or natural_num[i] >=40) and (natural_num[i] < 130 or natural_num[i] >=140):\n",
        "            num.append(natural_num[i])\n",
        "    \n",
        "    answer = num[n-1]\n",
        "    \n",
        "    return answer"
      ],
      "metadata": {
        "id": "8wjugNkvn1pp"
      },
      "execution_count": null,
      "outputs": []
    },
    {
      "cell_type": "markdown",
      "source": [
        "### 평행"
      ],
      "metadata": {
        "id": "M5jc8_HcqUTh"
      }
    },
    {
      "cell_type": "code",
      "source": [
        "def solution(dots):\n",
        "    answer = 0\n",
        "    \n",
        "    #직선의 기울기 6개 모두 구하기\n",
        "    l1 = (dots[1][1] - dots[0][1])/(dots[1][0] - dots[0][0])\n",
        "    l2 = (dots[2][1] - dots[3][1])/(dots[2][0] - dots[3][0])\n",
        "    l3 = (dots[2][1] - dots[0][1])/(dots[2][0] - dots[0][0])\n",
        "    l4 = (dots[2][1] - dots[1][1])/(dots[2][0] - dots[1][0])\n",
        "    l5 = (dots[3][1] - dots[0][1])/(dots[3][0] - dots[0][0])\n",
        "    l6 = (dots[3][1] - dots[1][1])/(dots[3][0] - dots[1][0])\n",
        "    \n",
        "    if l1 == l2 or l3 == l6 or l4 == l5:\n",
        "        answer = 1\n",
        "    \n",
        "    return answer"
      ],
      "metadata": {
        "id": "Hd-aMuTLqUk3"
      },
      "execution_count": null,
      "outputs": []
    },
    {
      "cell_type": "markdown",
      "source": [
        "### 유한소수 판별하기"
      ],
      "metadata": {
        "id": "dXgt9C4lqaZw"
      }
    },
    {
      "cell_type": "code",
      "source": [
        "import math\n",
        "\n",
        "def solution(a, b):\n",
        "    answer = 1\n",
        "    \n",
        "    #기약분수\n",
        "    gcd = math.gcd(a,b)\n",
        "    a, b = a//gcd, b//gcd\n",
        "    \n",
        "    if a != b:\n",
        "        num = []\n",
        "        for i in range(2, b+1):\n",
        "            while b % i == 0:\n",
        "                b //= i\n",
        "                num.append(i)\n",
        "    \n",
        "    if all(x in (2,5) for x in num):\n",
        "        pass\n",
        "    else:\n",
        "        answer = 2\n",
        "    \n",
        "    return answer"
      ],
      "metadata": {
        "id": "X15PppE5qdSu"
      },
      "execution_count": null,
      "outputs": []
    },
    {
      "cell_type": "markdown",
      "source": [],
      "metadata": {
        "id": "vosTw_P-qZwB"
      }
    },
    {
      "cell_type": "code",
      "source": [],
      "metadata": {
        "id": "uF7BcSogqaIV"
      },
      "execution_count": null,
      "outputs": []
    }
  ]
}