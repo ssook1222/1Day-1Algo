{
  "nbformat": 4,
  "nbformat_minor": 0,
  "metadata": {
    "colab": {
      "provenance": []
    },
    "kernelspec": {
      "name": "python3",
      "display_name": "Python 3"
    },
    "language_info": {
      "name": "python"
    }
  },
  "cells": [
    {
      "cell_type": "markdown",
      "source": [
        "## BoJ"
      ],
      "metadata": {
        "id": "GRODPlHYwtbr"
      }
    },
    {
      "cell_type": "markdown",
      "source": [
        "### 2217"
      ],
      "metadata": {
        "id": "pzTR5-pdxrxy"
      }
    },
    {
      "cell_type": "code",
      "source": [
        "import sys\n",
        "\n",
        "n = int(sys.stdin.readline().strip())\n",
        "rope = []\n",
        "\n",
        "for _ in range(n):\n",
        "  rope.append(int(sys.stdin.readline().strip()))\n",
        "\n",
        "rope.sort(reverse = True)\n",
        "\n",
        "for i in range(n):\n",
        "  rope[i] = rope[i] * (i+1)\n",
        "\n",
        "print(max(rope))"
      ],
      "metadata": {
        "colab": {
          "base_uri": "https://localhost:8080/"
        },
        "id": "b-N-mbo5wtOq",
        "outputId": "d3da3ae8-dc46-4d8a-ae84-e408ca4759b8"
      },
      "execution_count": 1,
      "outputs": [
        {
          "output_type": "stream",
          "name": "stdout",
          "text": [
            "2\n",
            "10\n",
            "15\n",
            "20\n"
          ]
        }
      ]
    },
    {
      "cell_type": "markdown",
      "source": [
        "### 10825"
      ],
      "metadata": {
        "id": "EoPb-mloz_S0"
      }
    },
    {
      "cell_type": "code",
      "source": [
        "import sys\n",
        "\n",
        "n = int(sys.stdin.readline())\n",
        "score = {}\n",
        "\n",
        "for i in range(n):\n",
        "  name, kor, math, eng = sys.stdin.readline().split(\" \")\n",
        "  \n",
        "  kor = int(kor)\n",
        "  math = int(math)\n",
        "  eng = int(eng)\n",
        "\n",
        "  score[i] = [kor, math, eng, name]\n",
        "\n",
        "score = sorted(score.items(), key = lambda x: (-x[1][0], x[1][1], -x[1][2], x[1][3]))\n",
        "\n",
        "for i in range(len(score)):\n",
        "    print(score[i][1][3])"
      ],
      "metadata": {
        "id": "iZz4TTNwz_pQ"
      },
      "execution_count": null,
      "outputs": []
    },
    {
      "cell_type": "markdown",
      "source": [
        "### 2075 "
      ],
      "metadata": {
        "id": "uWazlF2vxsSt"
      }
    },
    {
      "cell_type": "code",
      "source": [
        "import sys\n",
        "\n",
        "n = int(sys.stdin.readline().strip())\n",
        "\n",
        "num = []\n",
        "\n",
        "for _ in range(n):\n",
        "    num = num + list(map(int, sys.stdin.readline().strip().split(\" \")))\n",
        "    num.sort(reverse = True)\n",
        "    num = num[:n]        \n",
        "\n",
        "print(num[-1])"
      ],
      "metadata": {
        "colab": {
          "base_uri": "https://localhost:8080/"
        },
        "id": "r_anZXZlxs4m",
        "outputId": "ab0c7100-605c-4ded-805b-8bb1bc578d59"
      },
      "execution_count": 30,
      "outputs": [
        {
          "output_type": "stream",
          "name": "stdout",
          "text": [
            "5 -2\n",
            "-1 -1 -1 -1 -1\n",
            "1\n"
          ]
        }
      ]
    },
    {
      "cell_type": "markdown",
      "source": [
        "---"
      ],
      "metadata": {
        "id": "eByl5CD9SLfh"
      }
    },
    {
      "cell_type": "markdown",
      "source": [
        "## Programmers"
      ],
      "metadata": {
        "id": "1pEv30lSSJBd"
      }
    },
    {
      "cell_type": "markdown",
      "source": [
        "### 직사각형 넓이 구하기"
      ],
      "metadata": {
        "id": "QlMzAEGRSG90"
      }
    },
    {
      "cell_type": "code",
      "execution_count": null,
      "metadata": {
        "id": "L0cATtDfSFNg"
      },
      "outputs": [],
      "source": [
        "def solution(dots):\n",
        "    answer = 0\n",
        "    length = []\n",
        "    height = []\n",
        "    \n",
        "    for i in range(4):\n",
        "        for j in range(i, 4):\n",
        "            if dots[i][0] == dots[j][0]:\n",
        "                height.append(abs(dots[i][1] - dots[j][1]))\n",
        "            if dots[i][1] == dots[j][1]:\n",
        "                length.append(abs(dots[i][0] - dots[j][0]))\n",
        "    answer = max(length) * max(height)\n",
        "    \n",
        "    return answer"
      ]
    },
    {
      "cell_type": "markdown",
      "source": [
        "### 캐릭터의 좌표"
      ],
      "metadata": {
        "id": "jmv9NH-4SK7S"
      }
    },
    {
      "cell_type": "code",
      "source": [
        "def solution(keyinput, board):\n",
        "    answer = [0, 0]\n",
        "    \n",
        "    for cmd in keyinput:\n",
        "        if cmd == 'left' and answer[0] > -(board[0] // 2):\n",
        "            answer[0] -=1\n",
        "        \n",
        "        if cmd == 'right' and answer[0] < (board[0] // 2):\n",
        "            answer[0] +=1\n",
        "            \n",
        "        if cmd == 'up' and answer[1] < (board[1] // 2):\n",
        "            answer[1] +=1\n",
        "        \n",
        "        if cmd == 'down' and answer[1] > -(board[1] // 2):\n",
        "            answer[1] -=1\n",
        "        \n",
        "    \n",
        "    return answer"
      ],
      "metadata": {
        "id": "ytIA8SYSSLGN"
      },
      "execution_count": null,
      "outputs": []
    },
    {
      "cell_type": "markdown",
      "source": [
        "### 최댓값 만들기 (2)"
      ],
      "metadata": {
        "id": "O3YXgiyLnF8d"
      }
    },
    {
      "cell_type": "code",
      "source": [
        "def solution(numbers):\n",
        "    answer = 0\n",
        "    num_list = []\n",
        "    \n",
        "    for i in range(0, len(numbers)):\n",
        "        for j in range(i+1, len(numbers)):\n",
        "            num_list.append(numbers[i] * numbers[j])\n",
        "    \n",
        "    if num_list:\n",
        "        answer = max(num_list)\n",
        "            \n",
        "    return answer"
      ],
      "metadata": {
        "id": "XF2r1AY_nHoV"
      },
      "execution_count": null,
      "outputs": []
    },
    {
      "cell_type": "markdown",
      "source": [
        "### 다항식 더하기"
      ],
      "metadata": {
        "id": "xUoAnCGdnIC_"
      }
    },
    {
      "cell_type": "code",
      "source": [
        "def solution(polynomial):\n",
        "    answer = ''\n",
        "    hap = 0\n",
        "    sangsu = 0\n",
        "    test = list(polynomial.strip().split(' + '))\n",
        "\n",
        "    for i in test:\n",
        "        \n",
        "        if i.isdigit()!=True:\n",
        "            if len(i) == 1:\n",
        "                hap += 1\n",
        "            else:\n",
        "                hap += int(i[:len(i)-1])\n",
        "        else:\n",
        "            sangsu += int(i)\n",
        "            \n",
        "    if hap == 1 and sangsu == 0:\n",
        "        answer = 'x'\n",
        "    elif hap > 1 and sangsu == 0:    \n",
        "        answer = str(hap) +'x'\n",
        "    elif hap == 1 and sangsu != 0:\n",
        "        answer = 'x + ' + str(sangsu)\n",
        "    elif hap > 1 and sangsu != 0:\n",
        "        answer = str(hap) + 'x + ' + str(sangsu)\n",
        "    elif hap == 0:\n",
        "        answer = str(sangsu)\n",
        "    \n",
        "    return answer"
      ],
      "metadata": {
        "id": "sUCya7HFnIaO"
      },
      "execution_count": null,
      "outputs": []
    }
  ]
}