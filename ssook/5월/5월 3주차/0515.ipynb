{
  "nbformat": 4,
  "nbformat_minor": 0,
  "metadata": {
    "colab": {
      "provenance": [],
      "authorship_tag": "ABX9TyNa+xFxxu0W40EEuHlr3D3r",
      "include_colab_link": true
    },
    "kernelspec": {
      "name": "python3",
      "display_name": "Python 3"
    },
    "language_info": {
      "name": "python"
    }
  },
  "cells": [
    {
      "cell_type": "markdown",
      "metadata": {
        "id": "view-in-github",
        "colab_type": "text"
      },
      "source": [
        "<a href=\"https://colab.research.google.com/github/ssook1222/1Day-1Algo/blob/master/ssook/5%EC%9B%94/5%EC%9B%94%203%EC%A3%BC%EC%B0%A8/0515.ipynb\" target=\"_parent\"><img src=\"https://colab.research.google.com/assets/colab-badge.svg\" alt=\"Open In Colab\"/></a>"
      ]
    },
    {
      "cell_type": "markdown",
      "source": [
        "## BoJ"
      ],
      "metadata": {
        "id": "VcvTA-q2n3ZZ"
      }
    },
    {
      "cell_type": "markdown",
      "source": [
        "### 1927"
      ],
      "metadata": {
        "id": "isQktq3Kn1oD"
      }
    },
    {
      "cell_type": "code",
      "execution_count": null,
      "metadata": {
        "id": "zvNiS2m9nzwp"
      },
      "outputs": [],
      "source": [
        "import sys\n",
        "import heapq\n",
        "\n",
        "n = int(sys.stdin.readline().rstrip())\n",
        "num_list= []\n",
        "\n",
        "for _ in range(n):\n",
        "  cmd = int(sys.stdin.readline().rstrip())\n",
        "\n",
        "  if cmd == 0:\n",
        "    if len(num_list) == 0:\n",
        "      print(0)\n",
        "    else:\n",
        "      print(heapq.heappop(num_list))\n",
        "  \n",
        "  else:\n",
        "    heapq.heappush(num_list, cmd)"
      ]
    },
    {
      "cell_type": "markdown",
      "source": [
        "### 1158"
      ],
      "metadata": {
        "id": "e_N-DqKSpKl2"
      }
    },
    {
      "cell_type": "code",
      "source": [
        "from collections import deque\n",
        "import sys\n",
        "\n",
        "n, k = map(int, sys.stdin.readline().rstrip().split(\" \"))\n",
        "person = deque([i for i in range(1, n+1)])\n",
        "result = []\n",
        "\n",
        "while len(person) > 0:\n",
        "  for _ in range(k-1):\n",
        "    person.append(person.popleft()) # 순서에 맞게 앞에서 빼서 뒤에 붙여넣어 순서 정렬\n",
        "\n",
        "  result.append(person.popleft())  # 순서대로 정렬된 수열을 리스트에 추가\n",
        "\n",
        "print('<', end = '')\n",
        "for j in range(len(result)):\n",
        "  if j != len(result)-1:\n",
        "    print(result[j], end=', ')\n",
        "  else:\n",
        "    print(result[j], end='')\n",
        "print('>', end = '')"
      ],
      "metadata": {
        "colab": {
          "base_uri": "https://localhost:8080/"
        },
        "id": "S38zBgr0pK8R",
        "outputId": "3b1c2c86-59f8-48a2-afe9-291476b6db7d"
      },
      "execution_count": 13,
      "outputs": [
        {
          "output_type": "stream",
          "name": "stdout",
          "text": [
            "7 3\n",
            "<3, 6, 2, 7, 5, 1, 4>"
          ]
        }
      ]
    },
    {
      "cell_type": "markdown",
      "source": [
        "### 11286"
      ],
      "metadata": {
        "id": "P1voumXZxFZM"
      }
    },
    {
      "cell_type": "code",
      "source": [
        "import sys\n",
        "import heapq\n",
        "\n",
        "n = int(sys.stdin.readline().rstrip())\n",
        "num_list= []\n",
        "\n",
        "for _ in range(n):\n",
        "  cmd = int(sys.stdin.readline().rstrip())\n",
        "\n",
        "  if cmd == 0:\n",
        "    if len(num_list) == 0:\n",
        "      print(0)\n",
        "    else:\n",
        "      print(heapq.heappop(num_list)[1]) # 원래 값만 나오게 추출\n",
        "  \n",
        "  else:\n",
        "    heapq.heappush(num_list, (abs(cmd), cmd)) #절댓값 쌍으로 heap에 추가"
      ],
      "metadata": {
        "id": "_EbLrOCsxFoN"
      },
      "execution_count": null,
      "outputs": []
    },
    {
      "cell_type": "markdown",
      "source": [
        "### 1912"
      ],
      "metadata": {
        "id": "jqpve9zG2RZ2"
      }
    },
    {
      "cell_type": "code",
      "source": [
        "n = int(input())\n",
        "num_list = list(map(int, input().split(\" \")))\n",
        "\n",
        "for i in range(1, len(num_list)):\n",
        "  num_list[i] = max(num_list[i], num_list[i-1]+num_list[i])\n",
        "\n",
        "print(max(num_list))"
      ],
      "metadata": {
        "colab": {
          "base_uri": "https://localhost:8080/"
        },
        "id": "nScDGqHR2R82",
        "outputId": "d12b2f4f-82d3-4e6a-ec16-6bdc57fe7d42"
      },
      "execution_count": 32,
      "outputs": [
        {
          "output_type": "stream",
          "name": "stdout",
          "text": [
            "10\n",
            "10 -4 3 1 5 6 -35 12 21 -1\n",
            "33\n"
          ]
        }
      ]
    },
    {
      "cell_type": "markdown",
      "source": [
        "---"
      ],
      "metadata": {
        "id": "PgsrMmS4zVBL"
      }
    },
    {
      "cell_type": "markdown",
      "source": [
        "## Programmers"
      ],
      "metadata": {
        "id": "z-AnX7kYzWb9"
      }
    },
    {
      "cell_type": "markdown",
      "source": [],
      "metadata": {
        "id": "gePw9OlDzYxR"
      }
    }
  ]
}