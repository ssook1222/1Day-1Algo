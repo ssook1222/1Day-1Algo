{
  "nbformat": 4,
  "nbformat_minor": 0,
  "metadata": {
    "colab": {
      "provenance": [],
      "authorship_tag": "ABX9TyPJldnChJQmK65FCTRiNPrg",
      "include_colab_link": true
    },
    "kernelspec": {
      "name": "python3",
      "display_name": "Python 3"
    },
    "language_info": {
      "name": "python"
    }
  },
  "cells": [
    {
      "cell_type": "markdown",
      "metadata": {
        "id": "view-in-github",
        "colab_type": "text"
      },
      "source": [
        "<a href=\"https://colab.research.google.com/github/ssook1222/1Day-1Algo/blob/master/ssook/5%EC%9B%94/5%EC%9B%94%205%EC%A3%BC%EC%B0%A8/0530.ipynb\" target=\"_parent\"><img src=\"https://colab.research.google.com/assets/colab-badge.svg\" alt=\"Open In Colab\"/></a>"
      ]
    },
    {
      "cell_type": "markdown",
      "source": [
        "## BoJ"
      ],
      "metadata": {
        "id": "r1Fn7S1QmImt"
      }
    },
    {
      "cell_type": "markdown",
      "source": [
        "### 15666"
      ],
      "metadata": {
        "id": "wRlJ8bLimG5x"
      }
    },
    {
      "cell_type": "code",
      "execution_count": 8,
      "metadata": {
        "colab": {
          "base_uri": "https://localhost:8080/"
        },
        "id": "RQFrxmTEiAjR",
        "outputId": "08f1e2e1-bb1f-4f68-c8b5-34432017ce3f"
      },
      "outputs": [
        {
          "output_type": "stream",
          "name": "stdout",
          "text": [
            "4 4\n",
            "1 1 2 2\n",
            "1 1 1 1\n",
            "1 1 1 2\n",
            "1 1 2 2\n",
            "1 2 2 2\n",
            "2 2 2 2\n"
          ]
        }
      ],
      "source": [
        "import itertools\n",
        "import sys\n",
        "\n",
        "n, m = map(int, sys.stdin.readline().strip().split(\" \"))\n",
        "num_list = list(set((map(int, sys.stdin.readline().strip().split(\" \")))))\n",
        "num_list.sort()\n",
        "\n",
        "nums = itertools.combinations_with_replacement(num_list, m)\n",
        "\n",
        "for num in nums:\n",
        "  print(*num)"
      ]
    },
    {
      "cell_type": "markdown",
      "source": [
        "### 1016"
      ],
      "metadata": {
        "id": "DYdh9bAonBiQ"
      }
    },
    {
      "cell_type": "code",
      "source": [
        "import sys\n",
        "\n",
        "def square(min, max):\n",
        "  ans = max - min + 1\n",
        "  num = [False] * ( ans )\n",
        "\n",
        "  for i in range(2, int((max**0.5)+1)):\n",
        "    square = (i * i)\n",
        "    n = (min-1) // square\n",
        "    for j in range((n+1)*square, max+1, square):\n",
        "        if not num[j-min]:\n",
        "            num[j-min] = True\n",
        "  return num.count(False)\n",
        "\n",
        "min, max = map(int, sys.stdin.readline().strip().split(\" \"))\n",
        "ans = square(min, max)\n",
        "\n",
        "print(ans)"
      ],
      "metadata": {
        "colab": {
          "base_uri": "https://localhost:8080/"
        },
        "id": "ggKvVbhYnB7b",
        "outputId": "fc7ae3c1-c030-4ef2-f5ba-d8c405fdfd45"
      },
      "execution_count": 27,
      "outputs": [
        {
          "output_type": "stream",
          "name": "stdout",
          "text": [
            "1 10\n",
            "7\n"
          ]
        }
      ]
    },
    {
      "cell_type": "markdown",
      "source": [
        "---"
      ],
      "metadata": {
        "id": "wLunQnE0CkTy"
      }
    },
    {
      "cell_type": "markdown",
      "source": [
        "### Programmers"
      ],
      "metadata": {
        "id": "khyxcduyCk-S"
      }
    },
    {
      "cell_type": "markdown",
      "source": [
        "### 제일 작은 수 제거하기"
      ],
      "metadata": {
        "id": "RYPmNxGGD9Ch"
      }
    },
    {
      "cell_type": "code",
      "source": [
        "def solution(arr):\n",
        "    if len(arr) != 1:\n",
        "        del arr[arr.index(min(arr))]\n",
        "    else:\n",
        "        arr[arr.index(min(arr))] = -1\n",
        "    \n",
        "    return arr"
      ],
      "metadata": {
        "id": "Th3iv9B3DisS"
      },
      "execution_count": null,
      "outputs": []
    }
  ]
}