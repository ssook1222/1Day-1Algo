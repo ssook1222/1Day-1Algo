{
  "nbformat": 4,
  "nbformat_minor": 0,
  "metadata": {
    "colab": {
      "provenance": [],
      "authorship_tag": "ABX9TyNc7aO4bXrX77EFMFs1lEFT",
      "include_colab_link": true
    },
    "kernelspec": {
      "name": "python3",
      "display_name": "Python 3"
    },
    "language_info": {
      "name": "python"
    }
  },
  "cells": [
    {
      "cell_type": "markdown",
      "metadata": {
        "id": "view-in-github",
        "colab_type": "text"
      },
      "source": [
        "<a href=\"https://colab.research.google.com/github/ssook1222/1Day-1Algo/blob/master/ssook/5%EC%9B%94/5%EC%9B%94%201%EC%A3%BC%EC%B0%A8/0503.ipynb\" target=\"_parent\"><img src=\"https://colab.research.google.com/assets/colab-badge.svg\" alt=\"Open In Colab\"/></a>"
      ]
    },
    {
      "cell_type": "markdown",
      "source": [
        "### 2163"
      ],
      "metadata": {
        "id": "jLnfhXq3-bGN"
      }
    },
    {
      "cell_type": "code",
      "execution_count": null,
      "metadata": {
        "id": "TTcgVkOa-CcO",
        "colab": {
          "base_uri": "https://localhost:8080/"
        },
        "outputId": "8bade612-65c7-4c18-c7fa-2c0fd93aa798"
      },
      "outputs": [
        {
          "output_type": "stream",
          "name": "stdout",
          "text": [
            "2 2\n",
            "3\n"
          ]
        }
      ],
      "source": [
        "n, m = map(int, input().split(\" \"))\n",
        "print((n-1)+((m-1)*n)) # 가로로 n-1 만큼 먼저 자르고, 잘라서 만들어진 n개의 조각을 m-1번 잘라야 함."
      ]
    },
    {
      "cell_type": "markdown",
      "source": [
        "### 2470"
      ],
      "metadata": {
        "id": "oAW4JOSt1MQZ"
      }
    },
    {
      "cell_type": "code",
      "source": [
        "n = int(input())\n",
        "\n",
        "liq = list(map(int, input().split(\" \")))\n",
        "liq.sort()\n",
        "\n",
        "start = 0\n",
        "end = n-1\n",
        "\n",
        "tmp = 2e+9+1\n",
        "\n",
        "s_indx = 0\n",
        "e_indx = n-1\n",
        "\n",
        "while start < end:\n",
        "\n",
        "  hap = liq[start] + liq[end]\n",
        "\n",
        "  if abs(hap) < tmp:\n",
        "    tmp = abs(hap)\n",
        "    s_indx = start\n",
        "    e_indx = end\n",
        "  \n",
        "  if hap < 0 :\n",
        "    start += 1\n",
        "  \n",
        "  else:\n",
        "    end -= 1\n",
        "\n",
        "print(liq[s_indx], liq[e_indx])"
      ],
      "metadata": {
        "colab": {
          "base_uri": "https://localhost:8080/"
        },
        "id": "z0D5sMmm1Mit",
        "outputId": "5b7a4f85-c692-4c40-e220-d7e1e6f530c7"
      },
      "execution_count": 18,
      "outputs": [
        {
          "output_type": "stream",
          "name": "stdout",
          "text": [
            "4\n",
            "999999995 999999996 999999997 1000000000\n",
            "999999995 999999996\n"
          ]
        }
      ]
    },
    {
      "cell_type": "markdown",
      "source": [
        "### 1806"
      ],
      "metadata": {
        "id": "uPbPjGNCIjAz"
      }
    },
    {
      "cell_type": "code",
      "source": [
        "import sys\n",
        "\n",
        "n, s = map(int, sys.stdin.readline().split(\" \"))\n",
        "\n",
        "num = list(map(int, sys.stdin.readline().split(\" \")))\n",
        "\n",
        "start = 0\n",
        "end = 0\n",
        "hap = 0\n",
        "min_len = 1e9\n",
        "\n",
        "while True :\n",
        "\n",
        "  if hap >= s:\n",
        "    min_len = min(min_len, end - start)\n",
        "\n",
        "    hap -= num[start]\n",
        "    start += 1\n",
        "\n",
        "  else :\n",
        "    if end == n:\n",
        "      break\n",
        "\n",
        "    hap += num[end]\n",
        "    end += 1\n",
        "\n",
        "if min_len == 1e9:\n",
        "  print(0)\n",
        "\n",
        "else:\n",
        "  print(min_len)"
      ],
      "metadata": {
        "colab": {
          "base_uri": "https://localhost:8080/"
        },
        "id": "T5cQ6rFEAQ10",
        "outputId": "678a0ccf-e7c6-4d29-99b1-c0f542a2e19f"
      },
      "execution_count": 2,
      "outputs": [
        {
          "output_type": "stream",
          "name": "stdout",
          "text": [
            "10 15\n",
            "5 1 3 5 10 7 4 9 2 8\n",
            "2\n"
          ]
        }
      ]
    }
  ]
}