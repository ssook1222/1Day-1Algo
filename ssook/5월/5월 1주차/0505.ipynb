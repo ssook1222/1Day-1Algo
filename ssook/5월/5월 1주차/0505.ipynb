{
  "nbformat": 4,
  "nbformat_minor": 0,
  "metadata": {
    "colab": {
      "provenance": [],
      "authorship_tag": "ABX9TyPlLRARFCa3KaJVP/Q4Kv6o"
    },
    "kernelspec": {
      "name": "python3",
      "display_name": "Python 3"
    },
    "language_info": {
      "name": "python"
    }
  },
  "cells": [
    {
      "cell_type": "markdown",
      "source": [
        "### 14405"
      ],
      "metadata": {
        "id": "8xUz3yDf2Jua"
      }
    },
    {
      "cell_type": "code",
      "execution_count": 5,
      "metadata": {
        "colab": {
          "base_uri": "https://localhost:8080/"
        },
        "id": "Yp_67Xk41pmm",
        "outputId": "92b01050-855f-491a-db70-5171e205cce1"
      },
      "outputs": [
        {
          "output_type": "stream",
          "name": "stdout",
          "text": [
            "YES\n"
          ]
        }
      ],
      "source": [
        "import sys\n",
        "\n",
        "s = sys.stdin.readline().strip()\n",
        "\n",
        "s = s.replace('pi',' ')\n",
        "s = s.replace('ka',' ')\n",
        "s = s.replace('chu',' ')\n",
        "\n",
        "if len(s.strip()) == 0:\n",
        "  print(\"YES\")\n",
        "\n",
        "else:\n",
        "  print(\"NO\")"
      ]
    },
    {
      "cell_type": "markdown",
      "source": [
        "### 11723"
      ],
      "metadata": {
        "id": "Ry5_SSxH3jin"
      }
    },
    {
      "cell_type": "code",
      "source": [
        "m = int(input())\n",
        "s = set()\n",
        "\n",
        "for i in range(m):\n",
        "  cmd = input().split(\" \")\n",
        "  \n",
        "  if len(cmd) == 1:\n",
        "    if cmd[0] == 'all':\n",
        "      s = set([i for i in range(1,21)])\n",
        "\n",
        "    elif cmd[0] == 'empty':\n",
        "      s = set()\n",
        "\n",
        "  else :\n",
        "    if cmd[0] == 'add':\n",
        "      s.add(int(cmd[1]))\n",
        "    \n",
        "    elif cmd[0] == 'remove':\n",
        "      s.remove(int(cmd[1]))\n",
        "\n",
        "    elif cmd[0] == 'check':\n",
        "      if int(cmd[1]) in s:\n",
        "        print(1)\n",
        "      else:\n",
        "        print(0)\n",
        "    \n",
        "    elif cmd[0] == 'toggle':\n",
        "      if int(cmd[1]) in s:\n",
        "        s.remove(int(cmd[1]))\n",
        "      else:\n",
        "        s.add(int(cmd[1]))"
      ],
      "metadata": {
        "colab": {
          "base_uri": "https://localhost:8080/"
        },
        "id": "xhVs6PSd3kEA",
        "outputId": "9c4cecb0-7c1f-4ee4-f883-062bfcb20c07"
      },
      "execution_count": 21,
      "outputs": [
        {
          "name": "stdout",
          "output_type": "stream",
          "text": [
            "26\n",
            "add 1\n",
            "add 2\n",
            "check 1\n",
            "1\n",
            "check 2\n",
            "1\n",
            "check 3\n",
            "0\n",
            "remove 2\n",
            "check 1\n",
            "1\n",
            "check 2\n",
            "0\n",
            "toggle 3\n",
            "check 1\n",
            "1\n",
            "check 2\n",
            "0\n",
            "check 3\n",
            "1\n",
            "check 4\n",
            "0\n",
            "all\n",
            "check 10\n",
            "1\n",
            "check 20\n",
            "1\n",
            "empty\n",
            "check 1\n",
            "0\n",
            "toggle 1\n",
            "check 1\n",
            "1\n",
            "toggle 1\n",
            "check 1\n",
            "0\n",
            "\n",
            "\n",
            "\n",
            "\n"
          ]
        }
      ]
    },
    {
      "cell_type": "markdown",
      "source": [
        "### 14425"
      ],
      "metadata": {
        "id": "FwMZDU7IkOTr"
      }
    },
    {
      "cell_type": "code",
      "source": [
        "n, m = int(input().split(\" \"))\n",
        "s = set()\n",
        "cnt = 0\n",
        "for i in range(n):\n",
        "  s.append(input())\n",
        "\n",
        "for j in range(m):\n",
        "  t = input()\n",
        "\n",
        "  if t in s:\n",
        "    cnt += 1\n",
        "\n",
        "print(cnt)"
      ],
      "metadata": {
        "id": "Qy46bEF-kOh5"
      },
      "execution_count": null,
      "outputs": []
    }
  ]
}