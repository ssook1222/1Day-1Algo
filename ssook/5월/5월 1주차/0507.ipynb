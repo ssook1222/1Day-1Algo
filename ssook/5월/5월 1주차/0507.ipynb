{
  "nbformat": 4,
  "nbformat_minor": 0,
  "metadata": {
    "colab": {
      "provenance": [],
      "authorship_tag": "ABX9TyMEYcCS8rr70MtCbek2BNfS"
    },
    "kernelspec": {
      "name": "python3",
      "display_name": "Python 3"
    },
    "language_info": {
      "name": "python"
    }
  },
  "cells": [
    {
      "cell_type": "markdown",
      "source": [
        "## BOJ"
      ],
      "metadata": {
        "id": "txpvFeDswDW6"
      }
    },
    {
      "cell_type": "markdown",
      "source": [
        "### 1654"
      ],
      "metadata": {
        "id": "RzerrNBuTumj"
      }
    },
    {
      "cell_type": "code",
      "execution_count": 10,
      "metadata": {
        "colab": {
          "base_uri": "https://localhost:8080/"
        },
        "id": "1z9M3JBzv_J6",
        "outputId": "0070f2d9-eb89-482f-814c-2d3d65ed0085"
      },
      "outputs": [
        {
          "output_type": "stream",
          "name": "stdout",
          "text": [
            "4 11\n",
            "802\n",
            "743\n",
            "457\n",
            "539\n",
            "200\n"
          ]
        }
      ],
      "source": [
        "k, n = map(int, input().split(\" \"))\n",
        "line = []\n",
        "\n",
        "for i in range(k):\n",
        "  line.append(int(input()))\n",
        "\n",
        "start = 1\n",
        "end = max(line)\n",
        "\n",
        "while start <= end:\n",
        "  \n",
        "  mid = (start + end) // 2\n",
        "  num = 0\n",
        "\n",
        "  for lan in line:\n",
        "    num += lan // mid\n",
        "\n",
        "    if num >= n:\n",
        "      start = mid + 1\n",
        "    \n",
        "    elif num < n:\n",
        "      end = mid - 1\n",
        "\n",
        "print(end)"
      ]
    },
    {
      "cell_type": "markdown",
      "source": [
        "## Programmers - Day 8"
      ],
      "metadata": {
        "id": "K1G7MGI3wAkw"
      }
    },
    {
      "cell_type": "markdown",
      "source": [
        "### 배열자르기"
      ],
      "metadata": {
        "id": "CE6SavzhwZrV"
      }
    },
    {
      "cell_type": "code",
      "source": [
        "def solution(numbers, num1, num2):\n",
        "    answer = numbers[num1:num2+1]\n",
        "    \n",
        "    return answer"
      ],
      "metadata": {
        "id": "J3uZKDTjwA45"
      },
      "execution_count": null,
      "outputs": []
    },
    {
      "cell_type": "markdown",
      "source": [
        "## 외계행성의 나이"
      ],
      "metadata": {
        "id": "YkSBRQGQwdEx"
      }
    },
    {
      "cell_type": "code",
      "source": [
        "def solution(age):\n",
        "    answer = ''\n",
        "    \n",
        "    age = str(age)\n",
        "    \n",
        "    for i in age:\n",
        "        if i == '0':\n",
        "            answer += 'a'\n",
        "        \n",
        "        elif i == '1':\n",
        "            answer += 'b'\n",
        "            \n",
        "        elif i == '2':\n",
        "            answer += 'c'\n",
        "    \n",
        "        elif i == '3':\n",
        "            answer += 'd'\n",
        "            \n",
        "        elif i == '4':\n",
        "            answer += 'e'\n",
        "            \n",
        "        elif i == '5':\n",
        "            answer += 'f'\n",
        "            \n",
        "        elif i == '6':\n",
        "            answer += 'g'\n",
        "        \n",
        "        elif i == '7':\n",
        "            answer += 'h'\n",
        "            \n",
        "        elif i == '8':\n",
        "            answer += 'i'\n",
        "        \n",
        "        elif i == '9': \n",
        "            answer += 'j'   \n",
        "    \n",
        "    return answer"
      ],
      "metadata": {
        "id": "YLJEsydQwOKt"
      },
      "execution_count": null,
      "outputs": []
    },
    {
      "cell_type": "markdown",
      "source": [
        "### 진료순서 정하기"
      ],
      "metadata": {
        "id": "q4kuS0PCwgUk"
      }
    },
    {
      "cell_type": "code",
      "source": [
        "def solution(emergency):\n",
        "    answer = []\n",
        "    \n",
        "    sorted_emer = sorted(emergency, reverse = True)\n",
        "    \n",
        "    for i in emergency:\n",
        "        answer.append(sorted_emer.index(i)+1)\n",
        "    \n",
        "    return answer"
      ],
      "metadata": {
        "id": "Y197DZxvwQ10"
      },
      "execution_count": null,
      "outputs": []
    },
    {
      "cell_type": "markdown",
      "source": [
        "### 순서쌍 정하기"
      ],
      "metadata": {
        "id": "myt9wgCuwgsH"
      }
    },
    {
      "cell_type": "code",
      "source": [
        "def solution(n):\n",
        "    answer = []\n",
        "    \n",
        "    for i in range(1,n+1):\n",
        "        if n % i == 0:\n",
        "            answer.append(i)\n",
        "    \n",
        "    return len(answer)"
      ],
      "metadata": {
        "id": "rQJhpWy5wTi_"
      },
      "execution_count": null,
      "outputs": []
    }
  ]
}