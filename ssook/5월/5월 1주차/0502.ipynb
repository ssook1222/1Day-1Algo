{
  "nbformat": 4,
  "nbformat_minor": 0,
  "metadata": {
    "colab": {
      "provenance": [],
      "authorship_tag": "ABX9TyOFL7h+JfJ4UusUprrgvzRC",
      "include_colab_link": true
    },
    "kernelspec": {
      "name": "python3",
      "display_name": "Python 3"
    },
    "language_info": {
      "name": "python"
    }
  },
  "cells": [
    {
      "cell_type": "markdown",
      "metadata": {
        "id": "view-in-github",
        "colab_type": "text"
      },
      "source": [
        "<a href=\"https://colab.research.google.com/github/ssook1222/1Day-1Algo/blob/master/ssook/5%EC%9B%94/5%EC%9B%94%201%EC%A3%BC%EC%B0%A8/0502.ipynb\" target=\"_parent\"><img src=\"https://colab.research.google.com/assets/colab-badge.svg\" alt=\"Open In Colab\"/></a>"
      ]
    },
    {
      "cell_type": "markdown",
      "source": [
        "### 1145"
      ],
      "metadata": {
        "id": "aiacaxL23qMT"
      }
    },
    {
      "cell_type": "code",
      "execution_count": null,
      "metadata": {
        "colab": {
          "base_uri": "https://localhost:8080/"
        },
        "id": "2fdU6-dM3h9R",
        "outputId": "b239a96f-1a0f-479e-811f-4447467a8b53"
      },
      "outputs": [
        {
          "output_type": "stream",
          "name": "stdout",
          "text": [
            "30 42 70 35 90\n",
            "210\n"
          ]
        }
      ],
      "source": [
        "a, b, c, d, e = map(int, input().split(\" \"))\n",
        "num = [a, b, c, d, e]\n",
        "min_num = min(num)\n",
        "\n",
        "while True:\n",
        "  cnt = 0\n",
        "  for i in range(5):\n",
        "    if min_num % num[i] == 0:\n",
        "      cnt += 1\n",
        "  if cnt > 2 :\n",
        "    print(min_num)\n",
        "    break\n",
        "  min_num += 1"
      ]
    },
    {
      "cell_type": "markdown",
      "source": [
        "### 1874"
      ],
      "metadata": {
        "id": "TLpYU0f_t2Ow"
      }
    },
    {
      "cell_type": "code",
      "source": [
        "import sys\n",
        "\n",
        "n = int(sys.stdin.readline().strip())\n",
        "\n",
        "stack = []\n",
        "answer = []\n",
        "\n",
        "flag = False\n",
        "cnt = 1\n",
        "\n",
        "for i in range(n):\n",
        "  num = int(sys.stdin.readline().strip())\n",
        "\n",
        "  while cnt <= num:\n",
        "    stack.append(cnt)\n",
        "    answer.append(\"+\")\n",
        "    cnt+=1\n",
        "  \n",
        "  if stack[-1] == num:\n",
        "    stack.pop()\n",
        "    answer.append(\"-\")\n",
        "  \n",
        "  else:\n",
        "    print(\"NO\")\n",
        "    flag = True\n",
        "    break\n",
        "\n",
        "if flag == False:\n",
        "  for i in answer:\n",
        "    print(i)"
      ],
      "metadata": {
        "colab": {
          "base_uri": "https://localhost:8080/"
        },
        "id": "jir9xl9Et2gG",
        "outputId": "65da81f2-8b96-4527-9e86-d67a80cb2011"
      },
      "execution_count": 1,
      "outputs": [
        {
          "output_type": "stream",
          "name": "stdout",
          "text": [
            "8\n",
            "4\n",
            "3\n",
            "6\n",
            "8\n",
            "7\n",
            "5\n",
            "2\n",
            "1\n",
            "+\n",
            "+\n",
            "+\n",
            "+\n",
            "-\n",
            "-\n",
            "+\n",
            "+\n",
            "-\n",
            "+\n",
            "+\n",
            "-\n",
            "-\n",
            "-\n",
            "-\n",
            "-\n"
          ]
        }
      ]
    },
    {
      "cell_type": "markdown",
      "source": [
        "### 1822"
      ],
      "metadata": {
        "id": "z07VkeOnv5Q3"
      }
    },
    {
      "cell_type": "code",
      "source": [
        "num_a, num_b = map(int, input().split(\" \"))\n",
        "\n",
        "a = set(map(int, input().split(\" \")))\n",
        "b = set(map(int, input().split(\" \")))\n",
        "\n",
        "c = a-b\n",
        "print(len(c))\n",
        "\n",
        "d = list(c)\n",
        "d.sort()\n",
        "\n",
        "if len(d)!=0:\n",
        "  for i in range(len(d)):\n",
        "    print(d[i], end=\" \")"
      ],
      "metadata": {
        "colab": {
          "base_uri": "https://localhost:8080/"
        },
        "id": "SkL5hn9hv5gD",
        "outputId": "e23e1346-14df-4f16-c7d0-e54011fd8b9c"
      },
      "execution_count": 7,
      "outputs": [
        {
          "output_type": "stream",
          "name": "stdout",
          "text": [
            "3 5\n",
            "2 5 4\n",
            "1 2 3 4 5\n",
            "0\n"
          ]
        }
      ]
    }
  ]
}