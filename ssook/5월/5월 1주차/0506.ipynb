{
  "nbformat": 4,
  "nbformat_minor": 0,
  "metadata": {
    "colab": {
      "provenance": [],
      "authorship_tag": "ABX9TyNYNuWENmVSiNWGCvATUJEo",
      "include_colab_link": true
    },
    "kernelspec": {
      "name": "python3",
      "display_name": "Python 3"
    },
    "language_info": {
      "name": "python"
    }
  },
  "cells": [
    {
      "cell_type": "markdown",
      "metadata": {
        "id": "view-in-github",
        "colab_type": "text"
      },
      "source": [
        "<a href=\"https://colab.research.google.com/github/ssook1222/1Day-1Algo/blob/master/ssook/5%EC%9B%94/5%EC%9B%94%201%EC%A3%BC%EC%B0%A8/0506.ipynb\" target=\"_parent\"><img src=\"https://colab.research.google.com/assets/colab-badge.svg\" alt=\"Open In Colab\"/></a>"
      ]
    },
    {
      "cell_type": "markdown",
      "source": [
        "### 1966"
      ],
      "metadata": {
        "id": "b8PB7VB4LyDz"
      }
    },
    {
      "cell_type": "code",
      "execution_count": 8,
      "metadata": {
        "colab": {
          "base_uri": "https://localhost:8080/"
        },
        "id": "qKk4rxitBTKp",
        "outputId": "0e78fbae-b8df-4f38-e17b-0838350a61b1"
      },
      "outputs": [
        {
          "output_type": "stream",
          "name": "stdout",
          "text": [
            "3\n",
            "1 0\n",
            "5\n",
            "1\n",
            "4 2\n",
            "1 2 3 4\n",
            "2\n",
            "6 0\n",
            "1 1 9 1 1 1\n",
            "5\n"
          ]
        }
      ],
      "source": [
        "from collections import deque\n",
        "import sys\n",
        "\n",
        "t = int(sys.stdin.readline().strip())\n",
        "doc = []\n",
        "\n",
        "for i in range(t):\n",
        "  cnt = 0\n",
        "\n",
        "  n, m = map(int, sys.stdin.readline().strip().split(\" \"))\n",
        "  priority = deque(list(map(int, sys.stdin.readline().strip().split(\" \"))))\n",
        "  pos = [False for t in range(0,n)]\n",
        "  pos[m] = True\n",
        "\n",
        "  doc = []\n",
        "\n",
        "  while True:\n",
        "    max_pri = max(priority)\n",
        "\n",
        "    if priority[0] == max_pri:\n",
        "      cnt += 1\n",
        "\n",
        "      if pos[0] == True:\n",
        "        print(cnt)\n",
        "        break\n",
        "\n",
        "      else:\n",
        "        priority.popleft()\n",
        "        del pos[0]\n",
        "\n",
        "    else:\n",
        "      priority.append(priority[0])\n",
        "      priority.popleft()\n",
        "\n",
        "      pos.append(pos[0])\n",
        "      del pos[0]"
      ]
    },
    {
      "cell_type": "markdown",
      "source": [
        "### 2805"
      ],
      "metadata": {
        "id": "7t5jaMJvOTAf"
      }
    },
    {
      "cell_type": "code",
      "source": [
        "import sys\n",
        "\n",
        "n, m = map(int, sys.stdin.readline().strip().split(\" \"))\n",
        "\n",
        "tree = list(map(int, sys.stdin.readline().strip().split(\" \")))\n",
        "start, end = 1, sum(tree)\n",
        "\n",
        "h = max(tree)\n",
        "\n",
        "while start <= end:\n",
        "  mid = int((start + end)/2)\n",
        "  hap = 0\n",
        "\n",
        "  for t in tree:\n",
        "    if t > mid:\n",
        "      hap += t - mid\n",
        "    \n",
        "    if hap > m:\n",
        "      break\n",
        "\n",
        "  if hap >= m:\n",
        "    start = mid + 1\n",
        "\n",
        "  else:  \n",
        "    end = mid - 1\n",
        "\n",
        "print(end)"
      ],
      "metadata": {
        "colab": {
          "base_uri": "https://localhost:8080/"
        },
        "id": "VxiiHBSkOUW8",
        "outputId": "8cbe6db9-30ab-4dbb-a78d-06558693468a"
      },
      "execution_count": 19,
      "outputs": [
        {
          "output_type": "stream",
          "name": "stdout",
          "text": [
            "4 7\n",
            "20 15 10 17\n",
            "15\n"
          ]
        }
      ]
    },
    {
      "cell_type": "markdown",
      "source": [
        "#### 시간초과"
      ],
      "metadata": {
        "id": "1DIbHSJzMHeQ"
      }
    },
    {
      "cell_type": "code",
      "source": [
        "n, m = map(int, input().split(\" \"))\n",
        "\n",
        "tree = list(map(int, input().split(\" \")))\n",
        "\n",
        "h = max(tree)\n",
        "hap = 0\n",
        "\n",
        "while True:\n",
        "  h -= 1\n",
        "\n",
        "  for i in range(len(tree)):\n",
        "    if tree[i] > h:\n",
        "      hap += tree[i] - h\n",
        "\n",
        "  if hap == m:\n",
        "    print(h)\n",
        "    break\n",
        "  \n",
        "  else:\n",
        "    hap = 0"
      ],
      "metadata": {
        "colab": {
          "base_uri": "https://localhost:8080/"
        },
        "id": "Vqkl0uZPMHts",
        "outputId": "06813d7a-3646-4d77-e606-f54dd331e4fd"
      },
      "execution_count": 12,
      "outputs": [
        {
          "output_type": "stream",
          "name": "stdout",
          "text": [
            "5 20\n",
            "4 42 40 26 46\n",
            "36\n"
          ]
        }
      ]
    },
    {
      "cell_type": "markdown",
      "source": [
        "### 1010"
      ],
      "metadata": {
        "id": "rm25CdXcVS4M"
      }
    },
    {
      "cell_type": "code",
      "source": [
        "def factorial(n):\n",
        "  if n > 1:\n",
        "    return (n * factorial(n-1))\n",
        "  else:\n",
        "    return 1\n",
        "\n",
        "t = int(input())\n",
        "\n",
        "for i in range(t):\n",
        "  n, m = map(int, input().split(\" \"))\n",
        "  print(factorial(m) // (factorial(m-n) * factorial(n)))"
      ],
      "metadata": {
        "colab": {
          "base_uri": "https://localhost:8080/"
        },
        "id": "T4fgKnU8VSrc",
        "outputId": "0affa7b1-43b3-4288-a47b-9534ac1c9245"
      },
      "execution_count": 28,
      "outputs": [
        {
          "output_type": "stream",
          "name": "stdout",
          "text": [
            "3\n",
            "2 2\n",
            "1\n",
            "1 5\n",
            "5\n",
            "13 29\n",
            "67863915\n"
          ]
        }
      ]
    }
  ]
}