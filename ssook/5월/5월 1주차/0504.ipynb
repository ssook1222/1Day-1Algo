{
  "nbformat": 4,
  "nbformat_minor": 0,
  "metadata": {
    "colab": {
      "provenance": [],
      "authorship_tag": "ABX9TyP0wxc3mz7Vze4+1bvoJOSa",
      "include_colab_link": true
    },
    "kernelspec": {
      "name": "python3",
      "display_name": "Python 3"
    },
    "language_info": {
      "name": "python"
    }
  },
  "cells": [
    {
      "cell_type": "markdown",
      "metadata": {
        "id": "view-in-github",
        "colab_type": "text"
      },
      "source": [
        "<a href=\"https://colab.research.google.com/github/ssook1222/1Day-1Algo/blob/master/ssook/5%EC%9B%94/5%EC%9B%94%201%EC%A3%BC%EC%B0%A8/0504.ipynb\" target=\"_parent\"><img src=\"https://colab.research.google.com/assets/colab-badge.svg\" alt=\"Open In Colab\"/></a>"
      ]
    },
    {
      "cell_type": "markdown",
      "source": [
        "### 6996"
      ],
      "metadata": {
        "id": "aBWPJGGzJAl8"
      }
    },
    {
      "cell_type": "code",
      "execution_count": 3,
      "metadata": {
        "colab": {
          "base_uri": "https://localhost:8080/"
        },
        "id": "v7twoeVlD6XI",
        "outputId": "90b7ab98-2675-4504-983e-77b64b8f4c08"
      },
      "outputs": [
        {
          "output_type": "stream",
          "name": "stdout",
          "text": [
            "3\n",
            "blather reblath\n",
            "blather & reblath are anagrams.\n",
            "maryland landam\n",
            "maryland & landam are NOT anagrams.\n",
            "bizarre brazier\n",
            "bizarre & brazier are anagrams.\n"
          ]
        }
      ],
      "source": [
        "import sys\n",
        "\n",
        "t = int(sys.stdin.readline().strip())\n",
        "\n",
        "for i in range(t):\n",
        "  a, b = map(str, sys.stdin.readline().strip().split(\" \"))\n",
        "  \n",
        "  a1 = list(a)\n",
        "  b1 = list(b)\n",
        "  \n",
        "  a1.sort()\n",
        "  b1.sort()\n",
        "\n",
        "  if a1 == b1:\n",
        "    print(\"%s & %s are anagrams.\" %(a,b))\n",
        "  else:\n",
        "    print(\"%s & %s are NOT anagrams.\" %(a,b))"
      ]
    },
    {
      "cell_type": "markdown",
      "source": [
        "### 1269"
      ],
      "metadata": {
        "id": "GH-VNzp8JDJc"
      }
    },
    {
      "cell_type": "code",
      "source": [
        "import sys\n",
        "\n",
        "a_num, b_num = map(int, sys.stdin.readline().strip().split(\" \"))\n",
        "\n",
        "a = set(map(int, sys.stdin.readline().strip().split(\" \")))\n",
        "b = set(map(int, sys.stdin.readline().strip().split(\" \")))\n",
        "\n",
        "answer = (a-b).union(b-a)\n",
        "\n",
        "print(len(answer))"
      ],
      "metadata": {
        "colab": {
          "base_uri": "https://localhost:8080/"
        },
        "id": "ccnF2g6NJDeW",
        "outputId": "74b6a81f-2b7e-4d63-8d2f-103ec4421e40"
      },
      "execution_count": 5,
      "outputs": [
        {
          "output_type": "stream",
          "name": "stdout",
          "text": [
            "3 5\n",
            "1 2 4\n",
            "2 3 4 5 6\n",
            "4\n"
          ]
        }
      ]
    },
    {
      "cell_type": "markdown",
      "source": [
        "### 1475"
      ],
      "metadata": {
        "id": "-Q-UGoL1Kz1s"
      }
    },
    {
      "cell_type": "code",
      "source": [
        "import sys\n",
        "\n",
        "n = sys.stdin.readline().strip()\n",
        "\n",
        "room_num = [0] * 10\n",
        "\n",
        "for i in str(n):\n",
        "  if i == '9' or i == '6':\n",
        "    if room_num[6] == room_num[9]:\n",
        "      room_num[6] += 1\n",
        "    else:\n",
        "      room_num[9] += 1\n",
        "  else:\n",
        "    room_num[int(i)] += 1\n",
        "\n",
        "print(max(room_num))"
      ],
      "metadata": {
        "colab": {
          "base_uri": "https://localhost:8080/"
        },
        "id": "PiCCvPHqK0B-",
        "outputId": "6b338295-9115-4df0-c4fe-f968857aa778"
      },
      "execution_count": 34,
      "outputs": [
        {
          "output_type": "stream",
          "name": "stdout",
          "text": [
            "9999\n",
            "2\n"
          ]
        }
      ]
    }
  ]
}