{
  "nbformat": 4,
  "nbformat_minor": 0,
  "metadata": {
    "colab": {
      "provenance": [],
      "authorship_tag": "ABX9TyNIOIZySDn60uVGNwbD+S9n",
      "include_colab_link": true
    },
    "kernelspec": {
      "name": "python3",
      "display_name": "Python 3"
    },
    "language_info": {
      "name": "python"
    }
  },
  "cells": [
    {
      "cell_type": "markdown",
      "metadata": {
        "id": "view-in-github",
        "colab_type": "text"
      },
      "source": [
        "<a href=\"https://colab.research.google.com/github/ssook1222/1Day-1Algo/blob/master/ssook/5%EC%9B%94/5%EC%9B%94%201%EC%A3%BC%EC%B0%A8/0501.ipynb\" target=\"_parent\"><img src=\"https://colab.research.google.com/assets/colab-badge.svg\" alt=\"Open In Colab\"/></a>"
      ]
    },
    {
      "cell_type": "markdown",
      "source": [
        "### 1316"
      ],
      "metadata": {
        "id": "kuIGadMyf-rP"
      }
    },
    {
      "cell_type": "code",
      "execution_count": 5,
      "metadata": {
        "colab": {
          "base_uri": "https://localhost:8080/"
        },
        "id": "CWWkt13BdIi3",
        "outputId": "478a61ea-3f3d-4e4a-d2f3-4285e79f7e85"
      },
      "outputs": [
        {
          "output_type": "stream",
          "name": "stdout",
          "text": [
            "2\n",
            "yzyzy\n",
            "zyzyz\n",
            "0\n"
          ]
        }
      ],
      "source": [
        "import sys\n",
        "n = int(sys.stdin.readline().strip())\n",
        "cnt = n\n",
        "\n",
        "for i in range(n):\n",
        "  word = sys.stdin.readline().strip()\n",
        "  for j in range(len(word)-1):\n",
        "    if word[j] == word[j+1]:\n",
        "      pass\n",
        "    elif word[j] in word[j+1:]:\n",
        "      cnt-=1\n",
        "      break\n",
        "print(cnt)"
      ]
    },
    {
      "cell_type": "markdown",
      "source": [
        "### 4134"
      ],
      "metadata": {
        "id": "ryQGFi2xgVb9"
      }
    },
    {
      "cell_type": "code",
      "source": [
        "def prime(n):\n",
        "  if n == 0 or n == 1:\n",
        "    return False\n",
        "  for i in range(2, int(n**(1/2))+1):\n",
        "    if n%i==0:\n",
        "      return False\n",
        "  return True\n",
        "\n",
        "t = int(input())\n",
        "\n",
        "for i in range(t):\n",
        "  \n",
        "  n = int(input())\n",
        "\n",
        "  while True:\n",
        "    if prime(n) == True:\n",
        "      print(n)\n",
        "      break\n",
        "    else:\n",
        "      n += 1"
      ],
      "metadata": {
        "colab": {
          "base_uri": "https://localhost:8080/"
        },
        "id": "rdBIrCvJgVxM",
        "outputId": "793d8d0d-f143-4b7c-ed49-370f324bed33"
      },
      "execution_count": 35,
      "outputs": [
        {
          "output_type": "stream",
          "name": "stdout",
          "text": [
            "3\n",
            "3\n",
            "3\n",
            "12\n",
            "13\n",
            "20\n",
            "23\n"
          ]
        }
      ]
    },
    {
      "cell_type": "markdown",
      "source": [
        "### 1764"
      ],
      "metadata": {
        "id": "wq_tOTFf2yAG"
      }
    },
    {
      "cell_type": "code",
      "source": [
        "import sys\n",
        "\n",
        "n, m = map(int, sys.stdin.readline().strip().split(\" \"))\n",
        "\n",
        "no_listen = set()\n",
        "no_look = set()\n",
        "\n",
        "for _ in range(n):\n",
        "  no_listen.add(sys.stdin.readline().strip())\n",
        "\n",
        "for _ in range(m):\n",
        "  no_look.add(sys.stdin.readline().strip())\n",
        "\n",
        "names = list( no_look & no_listen )\n",
        "names.sort()\n",
        "\n",
        "print(len(names))\n",
        "\n",
        "for i in names:\n",
        "    print(i)"
      ],
      "metadata": {
        "colab": {
          "base_uri": "https://localhost:8080/"
        },
        "id": "KtuzhGFY2yZ-",
        "outputId": "5b83511b-1437-4f0a-a2eb-5ae3cd95c70d"
      },
      "execution_count": 36,
      "outputs": [
        {
          "name": "stdout",
          "output_type": "stream",
          "text": [
            "3 4\n",
            "ohhenrie\n",
            "charlie\n",
            "baesangwook\n",
            "obama\n",
            "baesangwook\n",
            "ohhenrie\n",
            "clinton\n"
          ]
        }
      ]
    }
  ]
}