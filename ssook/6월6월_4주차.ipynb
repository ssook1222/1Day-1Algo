{
  "nbformat": 4,
  "nbformat_minor": 0,
  "metadata": {
    "colab": {
      "provenance": [],
      "authorship_tag": "ABX9TyMJW4jsgQ0VeGUw9m8iBxIX",
      "include_colab_link": true
    },
    "kernelspec": {
      "name": "python3",
      "display_name": "Python 3"
    },
    "language_info": {
      "name": "python"
    }
  },
  "cells": [
    {
      "cell_type": "markdown",
      "metadata": {
        "id": "view-in-github",
        "colab_type": "text"
      },
      "source": [
        "<a href=\"https://colab.research.google.com/github/ssook1222/1Day-1Algo/blob/master/ssook/6%EC%9B%946%EC%9B%94_4%EC%A3%BC%EC%B0%A8.ipynb\" target=\"_parent\"><img src=\"https://colab.research.google.com/assets/colab-badge.svg\" alt=\"Open In Colab\"/></a>"
      ]
    },
    {
      "cell_type": "markdown",
      "source": [
        "## BoJ"
      ],
      "metadata": {
        "id": "TQLSSxp87Laq"
      }
    },
    {
      "cell_type": "markdown",
      "source": [
        "### 06/26"
      ],
      "metadata": {
        "id": "dhcaqpoc7NhC"
      }
    },
    {
      "cell_type": "code",
      "execution_count": 3,
      "metadata": {
        "colab": {
          "base_uri": "https://localhost:8080/"
        },
        "id": "rSN1LcED5l7W",
        "outputId": "1e983219-e2c2-4b7f-bbc1-a396e1ee3a01"
      },
      "outputs": [
        {
          "output_type": "stream",
          "name": "stdout",
          "text": [
            "5 5 1\n",
            "1 4\n",
            "1 2\n",
            "2 3\n",
            "2 4\n",
            "3 4\n",
            "1\n",
            "2\n",
            "4\n",
            "3\n",
            "0\n"
          ]
        }
      ],
      "source": [
        "from collections import deque\n",
        "\n",
        "n, m, r = map(int, input().split(\" \"))\n",
        "\n",
        "visited = [0] * (n+1)\n",
        "graph = [[] for _ in range(n+1)]\n",
        "\n",
        "cnt = 1\n",
        "\n",
        "for _ in range(m):\n",
        "  u, v = map(int, input().split(\" \"))\n",
        "  graph[u].append(v)\n",
        "  graph[v].append(u)\n",
        "\n",
        "def bfs(n):\n",
        "\n",
        "  global cnt\n",
        "\n",
        "  q = deque([n])\n",
        "  visited[n] = 1\n",
        "\n",
        "  while q:\n",
        "    nodes = q.popleft()\n",
        "    graph[nodes].sort()\n",
        "\n",
        "    for node in graph[nodes]:\n",
        "      if visited[node] == 0:\n",
        "        cnt += 1\n",
        "        visited[node] = cnt\n",
        "        q.append(node)\n",
        "\n",
        "bfs(r)\n",
        "\n",
        "for v in visited[1:] :\n",
        "  print(v)"
      ]
    }
  ]
}