{
  "nbformat": 4,
  "nbformat_minor": 0,
  "metadata": {
    "colab": {
      "provenance": []
    },
    "kernelspec": {
      "name": "python3",
      "display_name": "Python 3"
    },
    "language_info": {
      "name": "python"
    }
  },
  "cells": [
    {
      "cell_type": "markdown",
      "source": [
        "## 3월 8일 문제풀이\n",
        "\n",
        "> 브론즈 뽀개기!!!\n",
        "\n",
        "---        \n",
        "\n",
        "`참여자` 최숙"
      ],
      "metadata": {
        "id": "T3l0StJTyMqJ"
      }
    },
    {
      "cell_type": "markdown",
      "source": [
        "### 2083\n",
        "[이동하기](https://www.acmicpc.net/problem/2083)"
      ],
      "metadata": {
        "id": "6W5AOgO6yLje"
      }
    },
    {
      "cell_type": "code",
      "execution_count": null,
      "metadata": {
        "colab": {
          "base_uri": "https://localhost:8080/"
        },
        "id": "Ty1DSPTVyKEk",
        "outputId": "1877e906-5113-43ba-8dc0-77f0fa756573"
      },
      "outputs": [
        {
          "name": "stdout",
          "output_type": "stream",
          "text": [
            "Joe 16 34\n",
            "Joe Junior\n",
            "Bill 18 65\n",
            "Bill Senior\n",
            "Billy 17 65\n",
            "Billy Junior\n",
            "Sam 17 85\n",
            "Sam Senior\n",
            "# 0 0\n"
          ]
        }
      ],
      "source": [
        "while True :\n",
        "  name, age, weight = map(str, input().split())\n",
        "\n",
        "  if name == \"#\" and age == \"0\" and weight == \"0\":\n",
        "    break\n",
        "  \n",
        "  if int(age) > 17 or int(weight) >= 80 :\n",
        "    print(\"%s Senior\" %name)\n",
        "\n",
        "  else :\n",
        "    print(\"%s Junior\" %name)"
      ]
    },
    {
      "cell_type": "markdown",
      "source": [
        "### 10786"
      ],
      "metadata": {
        "id": "Izh8RyymzTQ2"
      }
    },
    {
      "cell_type": "code",
      "source": [
        "month = int(input())\n",
        "day = int(input())\n",
        "\n",
        "if month < 2 :\n",
        "  print(\"Before\")\n",
        "\n",
        "elif month == 2 and day < 18 :\n",
        "  print(\"Before\")\n",
        "\n",
        "elif month == 2 and day == 18 :\n",
        "  print(\"Special\")\n",
        "\n",
        "elif month == 2 and day > 18 :\n",
        "  print(\"After\")\n",
        "\n",
        "elif month > 2 :\n",
        "  print(\"After\")"
      ],
      "metadata": {
        "colab": {
          "base_uri": "https://localhost:8080/"
        },
        "id": "17bN70vPzVjS",
        "outputId": "fd5fe31f-67df-491e-f542-113afaa2969e"
      },
      "execution_count": 1,
      "outputs": [
        {
          "output_type": "stream",
          "name": "stdout",
          "text": [
            "1\n",
            "7\n",
            "Before\n"
          ]
        }
      ]
    },
    {
      "cell_type": "markdown",
      "source": [
        "### 6749"
      ],
      "metadata": {
        "id": "1S09oP2M0Vbz"
      }
    },
    {
      "cell_type": "code",
      "source": [
        "third = int(input())\n",
        "second = int(input()) \n",
        "\n",
        "gap = second - third\n",
        "\n",
        "print(second + gap)"
      ],
      "metadata": {
        "colab": {
          "base_uri": "https://localhost:8080/"
        },
        "id": "5SJ1j44g0VMI",
        "outputId": "ddcc941d-f2bc-4849-8dc9-636bbe81b7a6"
      },
      "execution_count": 2,
      "outputs": [
        {
          "output_type": "stream",
          "name": "stdout",
          "text": [
            "12\n",
            "15\n",
            "18\n"
          ]
        }
      ]
    },
    {
      "cell_type": "markdown",
      "source": [
        "### 10953"
      ],
      "metadata": {
        "id": "hU74f3eE1RJz"
      }
    },
    {
      "cell_type": "code",
      "source": [
        "T = int(input())\n",
        "\n",
        "for i in range (0,T):\n",
        "  A,B = map(int, input().split(\",\"))\n",
        "  print(A+B)"
      ],
      "metadata": {
        "colab": {
          "base_uri": "https://localhost:8080/"
        },
        "id": "UhPyPEzh1T6G",
        "outputId": "ad09bc9c-0183-46f7-df1a-03d004bb8d50"
      },
      "execution_count": 3,
      "outputs": [
        {
          "output_type": "stream",
          "name": "stdout",
          "text": [
            "5\n",
            "1,1\n",
            "2\n",
            "2,3\n",
            "5\n",
            "3,4\n",
            "7\n",
            "9,8\n",
            "17\n",
            "5,2\n",
            "7\n"
          ]
        }
      ]
    }
  ]
}