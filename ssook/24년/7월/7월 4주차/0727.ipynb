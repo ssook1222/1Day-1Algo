{
  "nbformat": 4,
  "nbformat_minor": 0,
  "metadata": {
    "colab": {
      "provenance": [],
      "authorship_tag": "ABX9TyODuij23gzCnxFfzwrMa/jR",
      "include_colab_link": true
    },
    "kernelspec": {
      "name": "python3",
      "display_name": "Python 3"
    },
    "language_info": {
      "name": "python"
    }
  },
  "cells": [
    {
      "cell_type": "markdown",
      "metadata": {
        "id": "view-in-github",
        "colab_type": "text"
      },
      "source": [
        "<a href=\"https://colab.research.google.com/github/ssook1222/1Day-1Algo/blob/master/ssook/24%EB%85%84/7%EC%9B%94/7%EC%9B%94%204%EC%A3%BC%EC%B0%A8/0727.ipynb\" target=\"_parent\"><img src=\"https://colab.research.google.com/assets/colab-badge.svg\" alt=\"Open In Colab\"/></a>"
      ]
    },
    {
      "cell_type": "markdown",
      "source": [
        "## BoJ"
      ],
      "metadata": {
        "id": "2r3_rgtetpuk"
      }
    },
    {
      "cell_type": "markdown",
      "source": [
        "### 1111"
      ],
      "metadata": {
        "id": "_WtsA8Z-trOR"
      }
    },
    {
      "cell_type": "code",
      "execution_count": null,
      "metadata": {
        "id": "dlmpnqqntNym"
      },
      "outputs": [],
      "source": [
        "n = int(input())\n",
        "sequence = list(map(int, input().split()))\n",
        "\n",
        "if n == 1:\n",
        "    print('A')\n",
        "\n",
        "elif n == 2:\n",
        "    if sequence[0] == sequence[1]:\n",
        "        print(sequence[0])\n",
        "    else:\n",
        "        print('A')\n",
        "\n",
        "else:\n",
        "    if sequence[0] == sequence[1]:\n",
        "        a = 0\n",
        "    else:\n",
        "        a = (sequence[2] - sequence[1]) // (sequence[1] - sequence[0])\n",
        "\n",
        "    b = sequence[1] - sequence[0] * a\n",
        "\n",
        "    for i in range(n-1):\n",
        "        expected = sequence[i] * a + b\n",
        "        if sequence[i + 1] != expected:\n",
        "            print('B')\n",
        "            exit()\n",
        "\n",
        "    print(sequence[-1] * a + b)\n"
      ]
    },
    {
      "cell_type": "markdown",
      "source": [
        "### 1112"
      ],
      "metadata": {
        "id": "c6vMdPsHtr5a"
      }
    },
    {
      "cell_type": "code",
      "source": [
        "x, base = map(int, input().split())\n",
        "is_positive = base < 0 or (base >= 0 and x >= 0)\n",
        "if not is_positive:\n",
        "    x *= -1\n",
        "\n",
        "digits = []\n",
        "while x:\n",
        "    q, r = divmod(x, base)\n",
        "    if r < 0:\n",
        "        q += 1\n",
        "        r -= base\n",
        "    digits.append(r)\n",
        "    x = q\n",
        "\n",
        "result = ''.join(map(str, digits[::-1]))\n",
        "if digits:\n",
        "    print(result) if is_positive else print(f'-{result}')\n",
        "else:\n",
        "    print(0)"
      ],
      "metadata": {
        "id": "pfeu3G2ztsd8"
      },
      "execution_count": null,
      "outputs": []
    },
    {
      "cell_type": "markdown",
      "source": [
        "## CodeTree"
      ],
      "metadata": {
        "id": "O0W4Hue1tswe"
      }
    },
    {
      "cell_type": "markdown",
      "source": [
        "### 실수형 변수 선언하기"
      ],
      "metadata": {
        "id": "jOeVRqZLtuTo"
      }
    },
    {
      "cell_type": "code",
      "source": [
        "print('12.30     70.00     82.30')"
      ],
      "metadata": {
        "id": "2bZb4ZLJtu4H"
      },
      "execution_count": null,
      "outputs": []
    }
  ]
}