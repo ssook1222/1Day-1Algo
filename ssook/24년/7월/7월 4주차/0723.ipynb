{
  "nbformat": 4,
  "nbformat_minor": 0,
  "metadata": {
    "colab": {
      "provenance": [],
      "authorship_tag": "ABX9TyNkzAmI5/UlA6GPIlZoB6jj",
      "include_colab_link": true
    },
    "kernelspec": {
      "name": "python3",
      "display_name": "Python 3"
    },
    "language_info": {
      "name": "python"
    }
  },
  "cells": [
    {
      "cell_type": "markdown",
      "metadata": {
        "id": "view-in-github",
        "colab_type": "text"
      },
      "source": [
        "<a href=\"https://colab.research.google.com/github/ssook1222/1Day-1Algo/blob/master/ssook/24%EB%85%84/7%EC%9B%94/7%EC%9B%94%204%EC%A3%BC%EC%B0%A8/0723.ipynb\" target=\"_parent\"><img src=\"https://colab.research.google.com/assets/colab-badge.svg\" alt=\"Open In Colab\"/></a>"
      ]
    },
    {
      "cell_type": "markdown",
      "source": [
        "## BoJ"
      ],
      "metadata": {
        "id": "gBxeh4VxiCBJ"
      }
    },
    {
      "cell_type": "markdown",
      "source": [
        "### 2342"
      ],
      "metadata": {
        "id": "5XPhCWm6iDZO"
      }
    },
    {
      "cell_type": "code",
      "execution_count": null,
      "metadata": {
        "id": "kNq2d503hl7C"
      },
      "outputs": [],
      "source": [
        "import sys\n",
        "\n",
        "sys.setrecursionlimit(10 ** 8)\n",
        "\n",
        "MAX = 400000\n",
        "\n",
        "def get_add(lr, k):\n",
        "    if k == 0:\n",
        "        if lr == 0:\n",
        "            return 0\n",
        "        else:\n",
        "            return 2\n",
        "    elif k == lr:\n",
        "        return 1\n",
        "    elif abs(k - lr) == 1 or abs(k - lr) == 3:\n",
        "        return 3\n",
        "    else:\n",
        "        return 4\n",
        "\n",
        "move = list(map(int, sys.stdin.readline().rstrip().split()))\n",
        "move.pop()\n",
        "n = len(move)\n",
        "if n == 0:\n",
        "    print(0)\n",
        "    exit()\n",
        "\n",
        "dp = [[[MAX + 1 for _ in range(5)] for _ in range(5)] for _ in range(n + 1)]\n",
        "dp[-1][0][0] = 0\n",
        "\n",
        "for i in range(n):\n",
        "    for r in range(5):\n",
        "        for k in range(5):\n",
        "            add = get_add(move[i], k)\n",
        "            dp[i][move[i]][r] = min(dp[i][move[i]][r], dp[i - 1][k][r] + add)\n",
        "\n",
        "    for l in range(5):\n",
        "        for k in range(5):\n",
        "            add = get_add(move[i], k)\n",
        "            dp[i][l][move[i]] = min(dp[i][l][move[i]], dp[i - 1][l][k] + add)\n",
        "\n",
        "m = MAX + 1\n",
        "for l in range(5):\n",
        "    for r in range(5):\n",
        "        m = min(m, dp[n - 1][l][r])\n",
        "print(m)\n"
      ]
    },
    {
      "cell_type": "markdown",
      "source": [
        "### 12100"
      ],
      "metadata": {
        "id": "KFeSKs3piEKV"
      }
    },
    {
      "cell_type": "code",
      "source": [
        "import sys, copy\n",
        "\n",
        "N = int(input())\n",
        "board = []\n",
        "\n",
        "for _ in range(N):\n",
        "    board.append([int(x) for x in sys.stdin.readline().rstrip().split()])\n",
        "\n",
        "def move_left(board):\n",
        "    for i in range(N):\n",
        "        cursor = 0\n",
        "        for j in range(1, N):\n",
        "            if board[i][j] != 0:\n",
        "                tmp = board[i][j]\n",
        "                board[i][j] = 0\n",
        "\n",
        "                if board[i][cursor] == 0:\n",
        "                    board[i][cursor] = tmp\n",
        "                elif board[i][cursor] == tmp:\n",
        "                    board[i][cursor] *= 2\n",
        "                    cursor += 1\n",
        "                else:\n",
        "                    cursor += 1\n",
        "                    board[i][cursor] = tmp\n",
        "    return board\n",
        "\n",
        "def move_right(board):\n",
        "    for i in range(N):\n",
        "        cursor = N - 1\n",
        "        for j in range(N - 1, -1, -1):\n",
        "            if board[i][j] != 0:\n",
        "                tmp = board[i][j]\n",
        "                board[i][j] = 0\n",
        "\n",
        "                if board[i][cursor] == 0:\n",
        "                    board[i][cursor] = tmp\n",
        "                elif board[i][cursor] == tmp:\n",
        "                    board[i][cursor] *= 2\n",
        "                    cursor -= 1\n",
        "                else:\n",
        "                    cursor -= 1\n",
        "                    board[i][cursor] = tmp\n",
        "    return board\n",
        "\n",
        "def move_up(board):\n",
        "    for j in range(N):\n",
        "        cursor = 0\n",
        "        for i in range(N):\n",
        "            if board[i][j] != 0:\n",
        "                tmp = board[i][j]\n",
        "                board[i][j] = 0\n",
        "\n",
        "                if board[cursor][j] == 0:\n",
        "                    board[cursor][j] = tmp\n",
        "                elif board[cursor][j] == tmp:\n",
        "                    board[cursor][j] *= 2\n",
        "                    cursor += 1\n",
        "                else:\n",
        "                    cursor += 1\n",
        "                    board[cursor][j] = tmp\n",
        "    return board\n",
        "\n",
        "def move_down(board):\n",
        "    for j in range(N):\n",
        "        cursor = N - 1\n",
        "        for i in range(N - 1, -1, -1):\n",
        "            if board[i][j] != 0:\n",
        "                tmp = board[i][j]\n",
        "                board[i][j] = 0\n",
        "\n",
        "                if board[cursor][j] == 0:\n",
        "                    board[cursor][j] = tmp\n",
        "                elif board[cursor][j] == tmp:\n",
        "                    board[cursor][j] *= 2\n",
        "                    cursor -= 1\n",
        "                else:\n",
        "                    cursor -= 1\n",
        "                    board[cursor][j] = tmp\n",
        "    return board\n",
        "\n",
        "def dfs(depth, board):\n",
        "    global ans\n",
        "    if depth == 5:\n",
        "        for i in range(N):\n",
        "            for j in range(N):\n",
        "                if board[i][j] > ans:\n",
        "                    ans = board[i][j]\n",
        "        return\n",
        "\n",
        "    for i in range(4):\n",
        "        board_copy = copy.deepcopy(board)\n",
        "        if i == 0:\n",
        "            dfs(depth + 1, move_left(board_copy))\n",
        "        elif i == 1:\n",
        "            dfs(depth + 1, move_right(board_copy))\n",
        "        elif i == 2:\n",
        "            dfs(depth + 1, move_up(board_copy))\n",
        "        elif i == 3:\n",
        "            dfs(depth + 1, move_down(board_copy))\n",
        "\n",
        "ans = 0\n",
        "dfs(0, board)\n",
        "print(ans)\n"
      ],
      "metadata": {
        "id": "uKDXc1_MiE45"
      },
      "execution_count": null,
      "outputs": []
    },
    {
      "cell_type": "markdown",
      "source": [
        "---"
      ],
      "metadata": {
        "id": "VfF33-8CiFIG"
      }
    },
    {
      "cell_type": "markdown",
      "source": [
        "## CodeTree"
      ],
      "metadata": {
        "id": "IkCGhxGZiFvW"
      }
    },
    {
      "cell_type": "markdown",
      "source": [
        "### 5부터 차례로"
      ],
      "metadata": {
        "id": "8O2gEvn-iHMs"
      }
    },
    {
      "cell_type": "code",
      "source": [
        "n = int(input())\n",
        "\n",
        "for i in range(5, n+1):\n",
        "    print(i, end= ' ')"
      ],
      "metadata": {
        "id": "ftxv3R71iIBI"
      },
      "execution_count": null,
      "outputs": []
    }
  ]
}