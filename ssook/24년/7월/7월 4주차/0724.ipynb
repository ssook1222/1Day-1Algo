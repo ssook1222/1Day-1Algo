{
  "nbformat": 4,
  "nbformat_minor": 0,
  "metadata": {
    "colab": {
      "provenance": [],
      "authorship_tag": "ABX9TyNdXhOV+qPJlxVimgbiM3wS",
      "include_colab_link": true
    },
    "kernelspec": {
      "name": "python3",
      "display_name": "Python 3"
    },
    "language_info": {
      "name": "python"
    }
  },
  "cells": [
    {
      "cell_type": "markdown",
      "metadata": {
        "id": "view-in-github",
        "colab_type": "text"
      },
      "source": [
        "<a href=\"https://colab.research.google.com/github/ssook1222/1Day-1Algo/blob/master/ssook/24%EB%85%84/7%EC%9B%94/7%EC%9B%94%204%EC%A3%BC%EC%B0%A8/0724.ipynb\" target=\"_parent\"><img src=\"https://colab.research.google.com/assets/colab-badge.svg\" alt=\"Open In Colab\"/></a>"
      ]
    },
    {
      "cell_type": "markdown",
      "source": [
        "## BoJ"
      ],
      "metadata": {
        "id": "gBxeh4VxiCBJ"
      }
    },
    {
      "cell_type": "markdown",
      "source": [
        "### 2042"
      ],
      "metadata": {
        "id": "5XPhCWm6iDZO"
      }
    },
    {
      "cell_type": "code",
      "execution_count": null,
      "metadata": {
        "id": "kNq2d503hl7C"
      },
      "outputs": [],
      "source": [
        "import sys\n",
        "input = sys.stdin.readline\n",
        "\n",
        "N, M, K = map(int, input().split())\n",
        "\n",
        "l = []\n",
        "segment_tree = [0]*(N*4)\n",
        "\n",
        "def init(start, end, index):\n",
        "    if start == end:\n",
        "        segment_tree[index] = l[start-1]\n",
        "        return segment_tree[index]\n",
        "\n",
        "    mid = (start + end) // 2\n",
        "    segment_tree[index] = init(start, mid, index*2) + init(mid+1, end, index*2+1)\n",
        "    return segment_tree[index]\n",
        "\n",
        "def find(start, end, index, left, right):\n",
        "    if start > right or end < left:\n",
        "        return 0\n",
        "\n",
        "    if start >= left and end <= right:\n",
        "        return segment_tree[index]\n",
        "\n",
        "    mid = (start + end) // 2\n",
        "    sub_sum = find(start, mid, index*2, left, right) + find(mid+1, end, index*2+1, left, right)\n",
        "    return sub_sum\n",
        "\n",
        "def update(start, end, index, update_idx, update_data):\n",
        "    if start > update_idx or end < update_idx:\n",
        "        return\n",
        "\n",
        "    segment_tree[index] += update_data\n",
        "\n",
        "    if start == end:\n",
        "        return\n",
        "\n",
        "    mid = (start + end) // 2\n",
        "    update(start, mid, index*2, update_idx, update_data)\n",
        "    update(mid+1, end, index*2+1, update_idx, update_data)\n",
        "\n",
        "for _ in range(N):\n",
        "    l.append(int(input()))\n",
        "\n",
        "init(1, N, 1)\n",
        "\n",
        "output = []\n",
        "for _ in range(M+K):\n",
        "    a, b, c = map(int, input().split())\n",
        "    if a == 1:\n",
        "        temp = c - l[b-1]\n",
        "        l[b-1] = c\n",
        "        update(1, N, 1, b, temp)\n",
        "    elif a == 2:\n",
        "        result = find(1, N, 1, b, c)\n",
        "        output.append(result)\n",
        "\n",
        "for out in output:\n",
        "    print(out)"
      ]
    },
    {
      "cell_type": "markdown",
      "source": [
        "### 11505"
      ],
      "metadata": {
        "id": "KFeSKs3piEKV"
      }
    },
    {
      "cell_type": "code",
      "source": [
        "import sys\n",
        "import math\n",
        "\n",
        "def init_tree(start, end, index):\n",
        "    if start == end:\n",
        "        tree[index] = arr[start]\n",
        "    else:\n",
        "        mid = (start + end) // 2\n",
        "        tree[index] = init_tree(start, mid, 2 * index) * init_tree(mid + 1, end, 2 * index + 1) % 1000000007\n",
        "    return tree[index]\n",
        "\n",
        "def find_mul(start, end, index, left, right):\n",
        "    if left > end or right < start:\n",
        "        return 1\n",
        "    if left <= start and end <= right:\n",
        "        return tree[index]\n",
        "\n",
        "    mid = (start + end) // 2\n",
        "    return find_mul(start, mid, 2 * index, left, right) * find_mul(mid + 1, end, 2 * index + 1, left, right) % 1000000007\n",
        "\n",
        "def update_tree(start, end, index, where, diff):\n",
        "    if where < start or end < where:\n",
        "        return\n",
        "\n",
        "    if start == end:\n",
        "        tree[index] = diff\n",
        "    else:\n",
        "        mid = (start + end) // 2\n",
        "        update_tree(start, mid, index * 2, where, diff)\n",
        "        update_tree(mid + 1, end, index * 2 + 1, where, diff)\n",
        "        tree[index] = tree[2 * index] * tree[2 * index + 1] % 1000000007\n",
        "\n",
        "N, M, K = map(int, sys.stdin.readline().split())\n",
        "arr = [int(sys.stdin.readline()) for _ in range(N)]\n",
        "tree = [0] * (1 << (int(math.ceil(math.log2(N))) + 1))\n",
        "init_tree(0, N - 1, 1)\n",
        "\n",
        "for _ in range(M + K):\n",
        "    a, b, c = map(int, sys.stdin.readline().split())\n",
        "\n",
        "    if a == 1:\n",
        "        update_tree(0, N - 1, 1, b - 1, c)\n",
        "    elif a == 2:\n",
        "        print(find_mul(0, N - 1, 1, b - 1, c - 1))\n"
      ],
      "metadata": {
        "id": "uKDXc1_MiE45"
      },
      "execution_count": null,
      "outputs": []
    },
    {
      "cell_type": "markdown",
      "source": [
        "---"
      ],
      "metadata": {
        "id": "VfF33-8CiFIG"
      }
    },
    {
      "cell_type": "markdown",
      "source": [
        "## CodeTree"
      ],
      "metadata": {
        "id": "IkCGhxGZiFvW"
      }
    },
    {
      "cell_type": "markdown",
      "source": [
        "### 차례로 출력 2"
      ],
      "metadata": {
        "id": "8O2gEvn-iHMs"
      }
    },
    {
      "cell_type": "code",
      "source": [
        "print('1235 1236 1237 1238 1239 1240 1241 1242 1243 1244 1245')"
      ],
      "metadata": {
        "id": "ftxv3R71iIBI"
      },
      "execution_count": null,
      "outputs": []
    }
  ]
}