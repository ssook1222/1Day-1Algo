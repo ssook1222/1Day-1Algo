{
  "nbformat": 4,
  "nbformat_minor": 0,
  "metadata": {
    "colab": {
      "provenance": [],
      "authorship_tag": "ABX9TyPbya+Nr5jTlN6EDr9VHs8X",
      "include_colab_link": true
    },
    "kernelspec": {
      "name": "python3",
      "display_name": "Python 3"
    },
    "language_info": {
      "name": "python"
    }
  },
  "cells": [
    {
      "cell_type": "markdown",
      "metadata": {
        "id": "view-in-github",
        "colab_type": "text"
      },
      "source": [
        "<a href=\"https://colab.research.google.com/github/ssook1222/1Day-1Algo/blob/master/ssook/24%EB%85%84/7%EC%9B%94/7%EC%9B%94%204%EC%A3%BC%EC%B0%A8/0722.ipynb\" target=\"_parent\"><img src=\"https://colab.research.google.com/assets/colab-badge.svg\" alt=\"Open In Colab\"/></a>"
      ]
    },
    {
      "cell_type": "markdown",
      "source": [
        "## BoJ"
      ],
      "metadata": {
        "id": "1hc9t4iBd3vQ"
      }
    },
    {
      "cell_type": "markdown",
      "source": [
        "### 1967"
      ],
      "metadata": {
        "id": "j2bB8Ahod5hd"
      }
    },
    {
      "cell_type": "code",
      "execution_count": null,
      "metadata": {
        "id": "KgUeuBP4bcR6"
      },
      "outputs": [],
      "source": [
        "import sys\n",
        "input = sys.stdin.readline\n",
        "sys.setrecursionlimit(10**9)\n",
        "\n",
        "n = int(input().strip())\n",
        "\n",
        "tree = [[] for _ in range(n+1)]\n",
        "\n",
        "\n",
        "for _ in range(n-1):\n",
        "    p, c, d = map(int, input().split())\n",
        "\n",
        "    tree[p].append((c, d))\n",
        "    tree[c].append((p, d))\n",
        "\n",
        "def dfs(start, distance):\n",
        "    for next_node, next_dist in tree[start]:\n",
        "        if visited[next_node] == -1:\n",
        "            visited[next_node] = distance + next_dist\n",
        "            dfs(next_node, distance + next_dist)\n",
        "\n",
        "visited = [-1] * (n+1)\n",
        "visited[1] = 0\n",
        "dfs(1, 0)\n",
        "\n",
        "farthest_node = visited.index(max(visited))\n",
        "\n",
        "visited = [-1] * (n + 1)\n",
        "visited[farthest_node] = 0\n",
        "dfs(farthest_node, 0)\n",
        "\n",
        "print(max(visited))\n"
      ]
    },
    {
      "cell_type": "markdown",
      "source": [
        "### 1987\n",
        "---\n",
        "pypy로 풀음"
      ],
      "metadata": {
        "id": "u8-LkB2Vf2f6"
      }
    },
    {
      "cell_type": "code",
      "source": [
        "R, C = map(int, input().split())\n",
        "\n",
        "board = []\n",
        "for _ in range(R):\n",
        "    board.append(list(input().strip()))\n",
        "\n",
        "max_length = 0\n",
        "visited_letters = set()\n",
        "dx = [-1, 1, 0, 0]\n",
        "dy = [0, 0, -1, 1]\n",
        "\n",
        "def dfs(x, y, count):\n",
        "    global max_length\n",
        "    max_length = max(max_length, count)\n",
        "\n",
        "    for i in range(4):\n",
        "        nx = x + dx[i]\n",
        "        ny = y + dy[i]\n",
        "\n",
        "        if 0 <= nx < R and 0 <= ny < C and board[nx][ny] not in visited_letters:\n",
        "            visited_letters.add(board[nx][ny])\n",
        "            dfs(nx, ny, count + 1)\n",
        "            visited_letters.remove(board[nx][ny])\n",
        "\n",
        "visited_letters.add(board[0][0])\n",
        "dfs(0, 0, 1)\n",
        "\n",
        "print(max_length)"
      ],
      "metadata": {
        "id": "LmNNLL4mf3OE"
      },
      "execution_count": null,
      "outputs": []
    },
    {
      "cell_type": "markdown",
      "source": [
        "## CodeTree"
      ],
      "metadata": {
        "id": "OGf2rUBNguXQ"
      }
    },
    {
      "cell_type": "markdown",
      "source": [
        "### 입력받아 연산하기 2"
      ],
      "metadata": {
        "id": "cm39_4F2gw37"
      }
    },
    {
      "cell_type": "code",
      "source": [
        "a = int(input())\n",
        "b = int(input())\n",
        "\n",
        "a += 894\n",
        "b //= 10\n",
        "\n",
        "print(a)\n",
        "print(b)"
      ],
      "metadata": {
        "id": "jkgUNv23gxg2"
      },
      "execution_count": null,
      "outputs": []
    }
  ]
}