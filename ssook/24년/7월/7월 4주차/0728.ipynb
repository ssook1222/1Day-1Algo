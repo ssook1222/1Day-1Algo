{
  "nbformat": 4,
  "nbformat_minor": 0,
  "metadata": {
    "colab": {
      "provenance": [],
      "authorship_tag": "ABX9TyPXJqeUktXpbZ5Kwt94k8i7",
      "include_colab_link": true
    },
    "kernelspec": {
      "name": "python3",
      "display_name": "Python 3"
    },
    "language_info": {
      "name": "python"
    }
  },
  "cells": [
    {
      "cell_type": "markdown",
      "metadata": {
        "id": "view-in-github",
        "colab_type": "text"
      },
      "source": [
        "<a href=\"https://colab.research.google.com/github/ssook1222/1Day-1Algo/blob/master/ssook/24%EB%85%84/7%EC%9B%94/7%EC%9B%94%204%EC%A3%BC%EC%B0%A8/0728.ipynb\" target=\"_parent\"><img src=\"https://colab.research.google.com/assets/colab-badge.svg\" alt=\"Open In Colab\"/></a>"
      ]
    },
    {
      "cell_type": "markdown",
      "source": [
        "## BoJ"
      ],
      "metadata": {
        "id": "2r3_rgtetpuk"
      }
    },
    {
      "cell_type": "markdown",
      "source": [
        "### 1238"
      ],
      "metadata": {
        "id": "_WtsA8Z-trOR"
      }
    },
    {
      "cell_type": "code",
      "execution_count": null,
      "metadata": {
        "id": "dlmpnqqntNym"
      },
      "outputs": [],
      "source": [
        "import heapq\n",
        "import sys\n",
        "\n",
        "input = sys.stdin.readline\n",
        "INF = int(1e9)\n",
        "\n",
        "n, m, party_village = map(int, input().split())\n",
        "roads = [[] for _ in range(n + 1)]\n",
        "\n",
        "for _ in range(m):\n",
        "    u, v, time = map(int, input().split())\n",
        "    roads[u].append((v, time))\n",
        "\n",
        "\n",
        "def dijkstra(start):\n",
        "    q = []\n",
        "    min_time = [INF] * (n + 1)\n",
        "\n",
        "    heapq.heappush(q, (0, start))\n",
        "    min_time[start] = 0\n",
        "\n",
        "    while q:\n",
        "        current_time, current_village = heapq.heappop(q)\n",
        "\n",
        "        if min_time[current_village] < current_time:\n",
        "            continue\n",
        "\n",
        "        for neighbor, travel_time in roads[current_village]:\n",
        "            total_time = current_time + travel_time\n",
        "\n",
        "            if min_time[neighbor] > total_time:\n",
        "                min_time[neighbor] = total_time\n",
        "                heapq.heappush(q, (total_time, neighbor))\n",
        "\n",
        "    return min_time\n",
        "\n",
        "\n",
        "max_time = 0\n",
        "for student_village in range(1, n + 1):\n",
        "    time_to_party = dijkstra(student_village)\n",
        "    time_back_home = dijkstra(party_village)\n",
        "    total_time = time_to_party[party_village] + time_back_home[student_village]\n",
        "    max_time = max(max_time, total_time)\n",
        "\n",
        "print(max_time)"
      ]
    },
    {
      "cell_type": "markdown",
      "source": [
        "### 2638"
      ],
      "metadata": {
        "id": "c6vMdPsHtr5a"
      }
    },
    {
      "cell_type": "code",
      "source": [
        "import sys\n",
        "from collections import deque\n",
        "\n",
        "input = sys.stdin.readline\n",
        "\n",
        "def air_bfs(x, y):\n",
        "    queue = deque()\n",
        "    queue.append((x, y))\n",
        "    visited[x][y] = True\n",
        "\n",
        "    while queue:\n",
        "        cx, cy = queue.popleft()\n",
        "        for i in range(4):\n",
        "            nx = cx + dx[i]\n",
        "            ny = cy + dy[i]\n",
        "            if 0 <= nx < n and 0 <= ny < m:\n",
        "\n",
        "                if not visited[nx][ny] and cheese[nx][ny] == 0:\n",
        "                    queue.append((nx, ny))\n",
        "                    visited[nx][ny] = True\n",
        "\n",
        "                elif cheese[nx][ny] == 1:\n",
        "                    visited[nx][ny] += 1\n",
        "\n",
        "n, m = map(int, input().split())\n",
        "cheese = [list(map(int, input().split())) for _ in range(n)]\n",
        "\n",
        "dx = [-1, 1, 0, 0]\n",
        "dy = [0, 0, -1, 1]\n",
        "hours = 0\n",
        "\n",
        "while True:\n",
        "    visited = [[0] * m for _ in range(n)]\n",
        "    air_bfs(0, 0)\n",
        "\n",
        "    hours += 1\n",
        "\n",
        "    for i in range(n):\n",
        "        for j in range(m):\n",
        "            if visited[i][j] >= 2:\n",
        "                cheese[i][j] = 0\n",
        "\n",
        "    air_count = sum(row.count(0) for row in cheese)\n",
        "\n",
        "    if air_count == n * m:\n",
        "        break\n",
        "\n",
        "print(hours)\n"
      ],
      "metadata": {
        "id": "pfeu3G2ztsd8"
      },
      "execution_count": null,
      "outputs": []
    },
    {
      "cell_type": "markdown",
      "source": [
        "## CodeTree"
      ],
      "metadata": {
        "id": "O0W4Hue1tswe"
      }
    },
    {
      "cell_type": "markdown",
      "source": [
        "### 차례로 출력 3"
      ],
      "metadata": {
        "id": "jOeVRqZLtuTo"
      }
    },
    {
      "cell_type": "code",
      "source": [
        "print('3690 3689 3688 3687 3686 3685 3684 3683 3682 3681 3680 3679 3678 3677 3676')"
      ],
      "metadata": {
        "id": "2bZb4ZLJtu4H"
      },
      "execution_count": null,
      "outputs": []
    }
  ]
}