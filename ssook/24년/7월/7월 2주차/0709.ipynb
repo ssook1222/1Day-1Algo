{
  "nbformat": 4,
  "nbformat_minor": 0,
  "metadata": {
    "colab": {
      "provenance": [],
      "authorship_tag": "ABX9TyPKULUjAv7zIyFATc5EIG0x",
      "include_colab_link": true
    },
    "kernelspec": {
      "name": "python3",
      "display_name": "Python 3"
    },
    "language_info": {
      "name": "python"
    }
  },
  "cells": [
    {
      "cell_type": "markdown",
      "metadata": {
        "id": "view-in-github",
        "colab_type": "text"
      },
      "source": [
        "<a href=\"https://colab.research.google.com/github/ssook1222/1Day-1Algo/blob/master/ssook/24%EB%85%84/7%EC%9B%94/7%EC%9B%94%202%EC%A3%BC%EC%B0%A8/0709.ipynb\" target=\"_parent\"><img src=\"https://colab.research.google.com/assets/colab-badge.svg\" alt=\"Open In Colab\"/></a>"
      ]
    },
    {
      "cell_type": "markdown",
      "source": [
        "## BoJ"
      ],
      "metadata": {
        "id": "CI44DsKbq35s"
      }
    },
    {
      "cell_type": "markdown",
      "source": [
        "### 9663\n",
        "\n",
        "pypy로 푼 문제"
      ],
      "metadata": {
        "id": "rcBsRA0Aq5BL"
      }
    },
    {
      "cell_type": "code",
      "execution_count": null,
      "metadata": {
        "id": "5FKQEIuKqx_P"
      },
      "outputs": [],
      "source": [
        "n = int(input())\n",
        "\n",
        "solutions = 0\n",
        "queens = [0] * n\n",
        "\n",
        "def is_safe(column):\n",
        "    for previous_column in range(column):\n",
        "        if queens[column] == queens[previous_column] or abs(queens[column] - queens[previous_column]) == abs(column - previous_column):\n",
        "            return False\n",
        "    return True\n",
        "\n",
        "def solve_queens(column):\n",
        "    global solutions\n",
        "    if column == n:\n",
        "        solutions += 1\n",
        "        return\n",
        "    else:\n",
        "        for row in range(n):\n",
        "            queens[column] = row\n",
        "            if is_safe(column):\n",
        "                solve_queens(column + 1)\n",
        "\n",
        "solve_queens(0)\n",
        "print(solutions)"
      ]
    },
    {
      "cell_type": "markdown",
      "source": [
        "### 14502"
      ],
      "metadata": {
        "id": "hT4AF3tdq5jp"
      }
    },
    {
      "cell_type": "code",
      "source": [
        "import sys\n",
        "from collections import deque\n",
        "\n",
        "dx = [-1, 0, 1, 0]\n",
        "dy = [0, 1, 0, -1]\n",
        "\n",
        "n, m = map(int, sys.stdin.readline().rstrip().split())\n",
        "\n",
        "lab_map = [list(map(int, sys.stdin.readline().rstrip().split())) for _ in range(n)]\n",
        "\n",
        "empty_spaces = []\n",
        "for i in range(n):\n",
        "    for j in range(m):\n",
        "        if lab_map[i][j] == 0:\n",
        "            empty_spaces.append((i, j))\n",
        "\n",
        "def in_range(x, y):\n",
        "    return 0 <= x < n and 0 <= y < m\n",
        "\n",
        "def spread_virus_and_calculate_safe_area(temp_map):\n",
        "    visited = [[False for _ in range(m)] for _ in range(n)]\n",
        "    queue = deque()\n",
        "\n",
        "    for i in range(n):\n",
        "        for j in range(m):\n",
        "            if temp_map[i][j] == 2:\n",
        "                visited[i][j] = True\n",
        "                queue.append((i, j))\n",
        "\n",
        "    while queue:\n",
        "        x, y = queue.popleft()\n",
        "        for dir in range(4):\n",
        "            nx, ny = x + dx[dir], y + dy[dir]\n",
        "            if in_range(nx, ny) and not visited[nx][ny] and temp_map[nx][ny] == 0:\n",
        "                visited[nx][ny] = True\n",
        "                temp_map[nx][ny] = 2\n",
        "                queue.append((nx, ny))\n",
        "\n",
        "    safe_area = 0\n",
        "    for i in range(n):\n",
        "        for j in range(m):\n",
        "            if temp_map[i][j] == 0:\n",
        "                safe_area += 1\n",
        "    return safe_area\n",
        "\n",
        "def place_walls_and_calculate(lab_map, x1, y1, x2, y2, x3, y3):\n",
        "    temp_map = [row[:] for row in lab_map]\n",
        "    temp_map[x1][y1] = 1\n",
        "    temp_map[x2][y2] = 1\n",
        "    temp_map[x3][y3] = 1\n",
        "    return spread_virus_and_calculate_safe_area(temp_map)\n",
        "\n",
        "max_safe_area = -1\n",
        "for i in range(len(empty_spaces)):\n",
        "    for j in range(i + 1, len(empty_spaces)):\n",
        "        for k in range(j + 1, len(empty_spaces)):\n",
        "            x1, y1 = empty_spaces[i]\n",
        "            x2, y2 = empty_spaces[j]\n",
        "            x3, y3 = empty_spaces[k]\n",
        "            safe_area = place_walls_and_calculate(lab_map, x1, y1, x2, y2, x3, y3)\n",
        "            if safe_area > max_safe_area:\n",
        "                max_safe_area = safe_area\n",
        "\n",
        "print(max_safe_area)"
      ],
      "metadata": {
        "id": "s_mMXDTlq6Hl"
      },
      "execution_count": null,
      "outputs": []
    },
    {
      "cell_type": "markdown",
      "source": [
        "---"
      ],
      "metadata": {
        "id": "1pnldonpq6Z6"
      }
    },
    {
      "cell_type": "markdown",
      "source": [
        "## CodeTree"
      ],
      "metadata": {
        "id": "DnUNSiFpq7Bs"
      }
    },
    {
      "cell_type": "markdown",
      "source": [
        "### 4줄 출력"
      ],
      "metadata": {
        "id": "0NYkLIJYq8F4"
      }
    },
    {
      "cell_type": "code",
      "source": [
        "print(\"\"\"Height\n",
        "200 Cm\n",
        "Weight\n",
        "138.723 Kg\n",
        "\"\"\")"
      ],
      "metadata": {
        "id": "sSCuImZfq8mH"
      },
      "execution_count": null,
      "outputs": []
    }
  ]
}