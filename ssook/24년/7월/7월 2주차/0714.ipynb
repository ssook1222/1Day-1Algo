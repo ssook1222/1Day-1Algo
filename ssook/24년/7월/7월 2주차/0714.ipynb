{
  "nbformat": 4,
  "nbformat_minor": 0,
  "metadata": {
    "colab": {
      "provenance": [],
      "authorship_tag": "ABX9TyM2DaN+XwldVnl1I0gP4VHU",
      "include_colab_link": true
    },
    "kernelspec": {
      "name": "python3",
      "display_name": "Python 3"
    },
    "language_info": {
      "name": "python"
    }
  },
  "cells": [
    {
      "cell_type": "markdown",
      "metadata": {
        "id": "view-in-github",
        "colab_type": "text"
      },
      "source": [
        "<a href=\"https://colab.research.google.com/github/ssook1222/1Day-1Algo/blob/master/ssook/24%EB%85%84/7%EC%9B%94/7%EC%9B%94%202%EC%A3%BC%EC%B0%A8/0714.ipynb\" target=\"_parent\"><img src=\"https://colab.research.google.com/assets/colab-badge.svg\" alt=\"Open In Colab\"/></a>"
      ]
    },
    {
      "cell_type": "markdown",
      "source": [
        "## BoJ"
      ],
      "metadata": {
        "id": "Iy4ADL1ZRRbW"
      }
    },
    {
      "cell_type": "markdown",
      "source": [
        "### 15824"
      ],
      "metadata": {
        "id": "VII7mf8RRWLj"
      }
    },
    {
      "cell_type": "code",
      "execution_count": null,
      "metadata": {
        "id": "IDl-7cuPRKrJ"
      },
      "outputs": [],
      "source": [
        "import sys\n",
        "\n",
        "MOD = 1000000007\n",
        "\n",
        "def power(a, b):\n",
        "    if b == 0:\n",
        "        return 1\n",
        "    if b == 1:\n",
        "        return a\n",
        "\n",
        "    half = power(a, b // 2)\n",
        "    result = (half * half) % MOD\n",
        "    if b % 2 == 1:\n",
        "        result = (result * a) % MOD\n",
        "    return result\n",
        "\n",
        "N = int(sys.stdin.readline().strip())\n",
        "scoville = sorted(list(map(int, sys.stdin.readline().strip().split())))\n",
        "answer = 0\n",
        "\n",
        "for i in range(N):\n",
        "    answer += scoville[i] * (power(2, i) - power(2, N - i - 1))\n",
        "    answer %= MOD\n",
        "\n",
        "print(answer)"
      ]
    },
    {
      "cell_type": "markdown",
      "source": [
        "### 16565"
      ],
      "metadata": {
        "id": "IZt_oK4LRXts"
      }
    },
    {
      "cell_type": "code",
      "source": [
        "import sys\n",
        "\n",
        "input = sys.stdin.readline\n",
        "mod = 10007\n",
        "\n",
        "def power(x, n):\n",
        "    if n == 0:\n",
        "        return 1\n",
        "    if n == 1:\n",
        "        return x\n",
        "    half = power(x, n // 2)\n",
        "    half = (half * half) % mod\n",
        "    if n % 2 != 0:\n",
        "        half = (half * x) % mod\n",
        "    return half\n",
        "\n",
        "def modular_inverse(x):\n",
        "    return power(x, mod - 2)\n",
        "\n",
        "def combination(n, k):\n",
        "    if k > n:\n",
        "        return 0\n",
        "    numerator = 1\n",
        "    denominator = 1\n",
        "    for i in range(k):\n",
        "        numerator = (numerator * (n - i)) % mod\n",
        "        denominator = (denominator * (i + 1)) % mod\n",
        "    return (numerator * modular_inverse(denominator)) % mod\n",
        "\n",
        "def ways_to_win(N):\n",
        "    result = 0\n",
        "    for i in range(1, N // 4 + 1):\n",
        "        result += combination(52 - i * 4, N - i * 4) * combination(13, i) * ((-1) ** (i - 1))\n",
        "        result %= mod\n",
        "    return result\n",
        "\n",
        "N = int(input().strip())\n",
        "print(ways_to_win(N))"
      ],
      "metadata": {
        "id": "dxY3cRBrRY6x"
      },
      "execution_count": null,
      "outputs": []
    },
    {
      "cell_type": "markdown",
      "source": [
        "---"
      ],
      "metadata": {
        "id": "hkE2U5s7RZR_"
      }
    },
    {
      "cell_type": "markdown",
      "source": [
        "## CodeTree"
      ],
      "metadata": {
        "id": "LA0YfB4DRaeR"
      }
    },
    {
      "cell_type": "markdown",
      "source": [
        "### 실수와 문자 받아 출력하기 2"
      ],
      "metadata": {
        "id": "4RceilVeRdnO"
      }
    },
    {
      "cell_type": "code",
      "source": [
        "s = input()\n",
        "x = float(input())\n",
        "y = float(input())\n",
        "\n",
        "print(\"%.2f\" %round(y, 2))\n",
        "print(\"%.2f\" %round(x, 2))\n",
        "print(s)"
      ],
      "metadata": {
        "id": "AzqMM72YReqM"
      },
      "execution_count": null,
      "outputs": []
    }
  ]
}