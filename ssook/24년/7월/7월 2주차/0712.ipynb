{
  "nbformat": 4,
  "nbformat_minor": 0,
  "metadata": {
    "colab": {
      "provenance": [],
      "authorship_tag": "ABX9TyPAtPkQdL1Vgvr0rz8CAz9x",
      "include_colab_link": true
    },
    "kernelspec": {
      "name": "python3",
      "display_name": "Python 3"
    },
    "language_info": {
      "name": "python"
    }
  },
  "cells": [
    {
      "cell_type": "markdown",
      "metadata": {
        "id": "view-in-github",
        "colab_type": "text"
      },
      "source": [
        "<a href=\"https://colab.research.google.com/github/ssook1222/1Day-1Algo/blob/master/ssook/24%EB%85%84/7%EC%9B%94/7%EC%9B%94%202%EC%A3%BC%EC%B0%A8/0712.ipynb\" target=\"_parent\"><img src=\"https://colab.research.google.com/assets/colab-badge.svg\" alt=\"Open In Colab\"/></a>"
      ]
    },
    {
      "cell_type": "markdown",
      "source": [
        "## BoJ"
      ],
      "metadata": {
        "id": "CI44DsKbq35s"
      }
    },
    {
      "cell_type": "markdown",
      "source": [
        "### 2239\n",
        "pypy로"
      ],
      "metadata": {
        "id": "rcBsRA0Aq5BL"
      }
    },
    {
      "cell_type": "code",
      "execution_count": null,
      "metadata": {
        "id": "5FKQEIuKqx_P"
      },
      "outputs": [],
      "source": [
        "from sys import stdin\n",
        "input = stdin.readline\n",
        "\n",
        "def rowCheck(r, num):\n",
        "    for c in range(9):\n",
        "        if board[r][c] == num:\n",
        "            return False\n",
        "    return True\n",
        "\n",
        "def colCheck(c, num):\n",
        "    for r in range(9):\n",
        "        if board[r][c] == num:\n",
        "            return False\n",
        "    return True\n",
        "\n",
        "def squareCheck(r, c, num):\n",
        "    nr = (r // 3) * 3\n",
        "    nc = (c // 3) * 3\n",
        "    for i in range(3):\n",
        "        for j in range(3):\n",
        "            if board[nr + i][nc + j] == num:\n",
        "                return False\n",
        "    return True\n",
        "\n",
        "def dfs(depth):\n",
        "    if depth == len(zeros):\n",
        "        for row in range(9):\n",
        "            for col in range(9):\n",
        "                print(board[row][col], end=\"\")\n",
        "            print()\n",
        "        exit()\n",
        "\n",
        "    nr, nc = zeros[depth]\n",
        "    for num in range(1, 10):\n",
        "        if rowCheck(nr, num) and colCheck(nc, num) and squareCheck(nr, nc, num):\n",
        "            board[nr][nc] = num\n",
        "            dfs(depth + 1)\n",
        "            board[nr][nc] = 0\n",
        "\n",
        "board = []\n",
        "zeros = []\n",
        "for r in range(9):\n",
        "    board.append(list(map(int, input().rstrip())))\n",
        "    for c in range(9):\n",
        "        if board[r][c] == 0:\n",
        "            zeros.append((r, c))\n",
        "dfs(0)\n"
      ]
    },
    {
      "cell_type": "markdown",
      "source": [
        "### 11109"
      ],
      "metadata": {
        "id": "hT4AF3tdq5jp"
      }
    },
    {
      "cell_type": "code",
      "source": [
        "for _ in range(int(input())):\n",
        "    develop_time, num_executions, serial_time, parallel_time = map(int, input().split())\n",
        "    if develop_time + parallel_time * num_executions == num_executions * serial_time:\n",
        "        print(\"does not matter\")\n",
        "    elif develop_time + parallel_time * num_executions > num_executions * serial_time:\n",
        "        print(\"do not parallelize\")\n",
        "    else:\n",
        "        print(\"parallelize\")"
      ],
      "metadata": {
        "id": "s_mMXDTlq6Hl"
      },
      "execution_count": null,
      "outputs": []
    },
    {
      "cell_type": "markdown",
      "source": [
        "---"
      ],
      "metadata": {
        "id": "1pnldonpq6Z6"
      }
    },
    {
      "cell_type": "markdown",
      "source": [
        "## CodeTree"
      ],
      "metadata": {
        "id": "DnUNSiFpq7Bs"
      }
    },
    {
      "cell_type": "markdown",
      "source": [
        "### 변수 선언하기 3"
      ],
      "metadata": {
        "id": "0NYkLIJYq8F4"
      }
    },
    {
      "cell_type": "code",
      "source": [
        "a = 3\n",
        "b = 6\n",
        "c = 9\n",
        "\n",
        "print('%d + %d = %d' %(a,b,c))"
      ],
      "metadata": {
        "id": "sSCuImZfq8mH"
      },
      "execution_count": null,
      "outputs": []
    }
  ]
}