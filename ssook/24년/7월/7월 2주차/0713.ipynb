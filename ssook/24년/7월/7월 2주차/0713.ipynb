{
  "nbformat": 4,
  "nbformat_minor": 0,
  "metadata": {
    "colab": {
      "provenance": [],
      "authorship_tag": "ABX9TyO/AU76beQntnfiwB9avG3w",
      "include_colab_link": true
    },
    "kernelspec": {
      "name": "python3",
      "display_name": "Python 3"
    },
    "language_info": {
      "name": "python"
    }
  },
  "cells": [
    {
      "cell_type": "markdown",
      "metadata": {
        "id": "view-in-github",
        "colab_type": "text"
      },
      "source": [
        "<a href=\"https://colab.research.google.com/github/ssook1222/1Day-1Algo/blob/master/ssook/24%EB%85%84/7%EC%9B%94/7%EC%9B%94%202%EC%A3%BC%EC%B0%A8/0713.ipynb\" target=\"_parent\"><img src=\"https://colab.research.google.com/assets/colab-badge.svg\" alt=\"Open In Colab\"/></a>"
      ]
    },
    {
      "cell_type": "markdown",
      "source": [
        "## BoJ"
      ],
      "metadata": {
        "id": "Iy4ADL1ZRRbW"
      }
    },
    {
      "cell_type": "markdown",
      "source": [
        "### 2533"
      ],
      "metadata": {
        "id": "VII7mf8RRWLj"
      }
    },
    {
      "cell_type": "code",
      "execution_count": null,
      "metadata": {
        "id": "IDl-7cuPRKrJ"
      },
      "outputs": [],
      "source": [
        "import sys\n",
        "sys.setrecursionlimit(10 ** 9)\n",
        "\n",
        "n = int(sys.stdin.readline().strip())\n",
        "edges = [[] for _ in range(n + 1)]\n",
        "\n",
        "for _ in range(n - 1):\n",
        "    a, b = map(int, sys.stdin.readline().strip().split())\n",
        "    edges[a].append(b)\n",
        "    edges[b].append(a)\n",
        "\n",
        "dp = [[0, 0] for _ in range(n + 1)]\n",
        "\n",
        "visited = [0] * (n + 1)\n",
        "\n",
        "def dfs(node):\n",
        "    visited[node] = 1\n",
        "    if len(edges[node]) == 0:\n",
        "        dp[node][1] = 1\n",
        "        dp[node][0] = 0\n",
        "    else:\n",
        "        for neighbor in edges[node]:\n",
        "            if visited[neighbor] == 0:\n",
        "                dfs(neighbor)\n",
        "                dp[node][1] += min(dp[neighbor][0], dp[neighbor][1])\n",
        "                dp[node][0] += dp[neighbor][1]\n",
        "        dp[node][1] += 1\n",
        "dfs(1)\n",
        "\n",
        "print(min(dp[1][0], dp[1][1]))"
      ]
    },
    {
      "cell_type": "markdown",
      "source": [
        "### 14725"
      ],
      "metadata": {
        "id": "IZt_oK4LRXts"
      }
    },
    {
      "cell_type": "code",
      "source": [
        "import sys\n",
        "\n",
        "input = sys.stdin.readline\n",
        "N = int(input().strip())\n",
        "food_info = []\n",
        "\n",
        "for i in range(N):\n",
        "    data = list(input().strip().split())\n",
        "    food_info.append(data[1:])\n",
        "\n",
        "food_info.sort()\n",
        "\n",
        "dash = '--'\n",
        "answer = []\n",
        "\n",
        "for i in range(N):\n",
        "    if i == 0:\n",
        "        for j in range(len(food_info[i])):\n",
        "            answer.append(dash * j + food_info[i][j])\n",
        "    else:\n",
        "        idx = 0\n",
        "        for j in range(len(food_info[i])):\n",
        "            if food_info[i - 1][j] != food_info[i][j] or len(food_info[i - 1]) <= j:\n",
        "                break\n",
        "            else:\n",
        "                idx = j + 1\n",
        "\n",
        "        for j in range(idx, len(food_info[i])):\n",
        "            answer.append(dash * j + food_info[i][j])\n",
        "\n",
        "\n",
        "for ans in answer:\n",
        "    print(ans)"
      ],
      "metadata": {
        "id": "dxY3cRBrRY6x"
      },
      "execution_count": null,
      "outputs": []
    },
    {
      "cell_type": "markdown",
      "source": [
        "---"
      ],
      "metadata": {
        "id": "hkE2U5s7RZR_"
      }
    },
    {
      "cell_type": "markdown",
      "source": [
        "## CodeTree"
      ],
      "metadata": {
        "id": "LA0YfB4DRaeR"
      }
    },
    {
      "cell_type": "markdown",
      "source": [
        "### 두수의 몫과 곱"
      ],
      "metadata": {
        "id": "4RceilVeRdnO"
      }
    },
    {
      "cell_type": "code",
      "source": [
        "a, b = map(int, input().split())\n",
        "print('%d / %d = %d' %(a, b, a//b))\n",
        "print('%d * %d = %d' %(a, b, a*b))"
      ],
      "metadata": {
        "id": "AzqMM72YReqM"
      },
      "execution_count": null,
      "outputs": []
    }
  ]
}