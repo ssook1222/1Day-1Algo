{
  "nbformat": 4,
  "nbformat_minor": 0,
  "metadata": {
    "colab": {
      "provenance": [],
      "authorship_tag": "ABX9TyM5frpHjbRziue2myOxeJFh",
      "include_colab_link": true
    },
    "kernelspec": {
      "name": "python3",
      "display_name": "Python 3"
    },
    "language_info": {
      "name": "python"
    }
  },
  "cells": [
    {
      "cell_type": "markdown",
      "metadata": {
        "id": "view-in-github",
        "colab_type": "text"
      },
      "source": [
        "<a href=\"https://colab.research.google.com/github/ssook1222/1Day-1Algo/blob/master/ssook/24%EB%85%84/7%EC%9B%94/7%EC%9B%94%202%EC%A3%BC%EC%B0%A8/0710.ipynb\" target=\"_parent\"><img src=\"https://colab.research.google.com/assets/colab-badge.svg\" alt=\"Open In Colab\"/></a>"
      ]
    },
    {
      "cell_type": "markdown",
      "source": [
        "## BoJ"
      ],
      "metadata": {
        "id": "CI44DsKbq35s"
      }
    },
    {
      "cell_type": "markdown",
      "source": [
        "### 14500"
      ],
      "metadata": {
        "id": "rcBsRA0Aq5BL"
      }
    },
    {
      "cell_type": "code",
      "execution_count": null,
      "metadata": {
        "id": "5FKQEIuKqx_P"
      },
      "outputs": [],
      "source": [
        "import sys\n",
        "\n",
        "n, m = map(int, sys.stdin.readline().rstrip().split())\n",
        "grid = [list(map(int, sys.stdin.readline().rstrip().split())) for _ in range(n)]\n",
        "visited = [[False] * m for _ in range(n)]\n",
        "\n",
        "dx = [1, -1, 0, 0]\n",
        "dy = [0, 0, 1, -1]\n",
        "\n",
        "max_sum = 0\n",
        "\n",
        "def dfs(x, y, current_sum, count):\n",
        "    global max_sum\n",
        "    if count == 4:\n",
        "        max_sum = max(max_sum, current_sum)\n",
        "        return\n",
        "    for i in range(4):\n",
        "        nx = x + dx[i]\n",
        "        ny = y + dy[i]\n",
        "        if nx < 0 or nx >= m or ny < 0 or ny >= n or visited[ny][nx]:\n",
        "            continue\n",
        "        visited[ny][nx] = True\n",
        "        dfs(nx, ny, current_sum + grid[ny][nx], count + 1)\n",
        "        visited[ny][nx] = False\n",
        "\n",
        "def check_t_shape(x, y):\n",
        "    global max_sum\n",
        "    current_sum = grid[y][x]\n",
        "    neighbors = []\n",
        "    for i in range(4):\n",
        "        nx = x + dx[i]\n",
        "        ny = y + dy[i]\n",
        "        if nx < 0 or nx >= m or ny < 0 or ny >= n:\n",
        "            continue\n",
        "        neighbors.append(grid[ny][nx])\n",
        "    length = len(neighbors)\n",
        "    if length == 4:\n",
        "        neighbors.sort(reverse=True)\n",
        "        neighbors.pop()\n",
        "        max_sum = max(max_sum, sum(neighbors) + grid[y][x])\n",
        "    elif length == 3:\n",
        "        max_sum = max(max_sum, sum(neighbors) + grid[y][x])\n",
        "    return\n",
        "\n",
        "for i in range(n):\n",
        "    for j in range(m):\n",
        "        visited[i][j] = True\n",
        "        dfs(j, i, grid[i][j], 1)\n",
        "        check_t_shape(j, i)\n",
        "        visited[i][j] = False\n",
        "\n",
        "print(max_sum)"
      ]
    },
    {
      "cell_type": "markdown",
      "source": [
        "### 1197"
      ],
      "metadata": {
        "id": "hT4AF3tdq5jp"
      }
    },
    {
      "cell_type": "code",
      "source": [
        "import sys\n",
        "input = lambda: sys.stdin.readline().rstrip()\n",
        "\n",
        "V, E = map(int, input().split())\n",
        "\n",
        "edges = []\n",
        "for _ in range(E):\n",
        "    A, B, C = map(int, input().split())\n",
        "    edges.append((A, B, C))\n",
        "edges.sort(key=lambda x: x[2])\n",
        "\n",
        "parent = [i for i in range(V+1)]\n",
        "\n",
        "def find_parent(x):\n",
        "    if parent[x] == x:\n",
        "        return x\n",
        "    parent[x] = find_parent(parent[x])\n",
        "    return parent[x]\n",
        "\n",
        "def union(a, b):\n",
        "    root_a = find_parent(a)\n",
        "    root_b = find_parent(b)\n",
        "    if root_a < root_b:\n",
        "        parent[root_b] = root_a\n",
        "    else:\n",
        "        parent[root_a] = root_b\n",
        "\n",
        "def is_same_parent(a, b):\n",
        "    return find_parent(a) == find_parent(b)\n",
        "\n",
        "mst_weight = 0\n",
        "for a, b, cost in edges:\n",
        "    if not is_same_parent(a, b):\n",
        "        union(a, b)\n",
        "        mst_weight += cost\n",
        "\n",
        "print(mst_weight)"
      ],
      "metadata": {
        "id": "s_mMXDTlq6Hl"
      },
      "execution_count": null,
      "outputs": []
    },
    {
      "cell_type": "markdown",
      "source": [
        "---"
      ],
      "metadata": {
        "id": "1pnldonpq6Z6"
      }
    },
    {
      "cell_type": "markdown",
      "source": [
        "## CodeTree"
      ],
      "metadata": {
        "id": "DnUNSiFpq7Bs"
      }
    },
    {
      "cell_type": "markdown",
      "source": [
        "### 공백 넣어서 출력"
      ],
      "metadata": {
        "id": "0NYkLIJYq8F4"
      }
    },
    {
      "cell_type": "code",
      "source": [
        "print(\"\"\"score          subject          name\n",
        "\n",
        "  100             math           sam\n",
        "   88          science          paul\n",
        "   96         language          jack\n",
        "\"\"\")"
      ],
      "metadata": {
        "id": "sSCuImZfq8mH"
      },
      "execution_count": null,
      "outputs": []
    }
  ]
}