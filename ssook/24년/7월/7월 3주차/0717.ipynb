{
  "nbformat": 4,
  "nbformat_minor": 0,
  "metadata": {
    "colab": {
      "provenance": [],
      "authorship_tag": "ABX9TyOGANb/m2vNyskt6WQt9AX7",
      "include_colab_link": true
    },
    "kernelspec": {
      "name": "python3",
      "display_name": "Python 3"
    },
    "language_info": {
      "name": "python"
    }
  },
  "cells": [
    {
      "cell_type": "markdown",
      "metadata": {
        "id": "view-in-github",
        "colab_type": "text"
      },
      "source": [
        "<a href=\"https://colab.research.google.com/github/ssook1222/1Day-1Algo/blob/master/ssook/24%EB%85%84/7%EC%9B%94/7%EC%9B%94%203%EC%A3%BC%EC%B0%A8/0717.ipynb\" target=\"_parent\"><img src=\"https://colab.research.google.com/assets/colab-badge.svg\" alt=\"Open In Colab\"/></a>"
      ]
    },
    {
      "cell_type": "markdown",
      "source": [
        "## BoJ"
      ],
      "metadata": {
        "id": "Zijy0uc2dKqK"
      }
    },
    {
      "cell_type": "markdown",
      "source": [
        "### 1379"
      ],
      "metadata": {
        "id": "qpBIBB75dNJD"
      }
    },
    {
      "cell_type": "code",
      "execution_count": null,
      "metadata": {
        "id": "qHlpxrlKagp0"
      },
      "outputs": [],
      "source": [
        "import sys, heapq\n",
        "input = sys.stdin.readline\n",
        "n = int(input())\n",
        "arr = [list(map(int,input().split())) for _ in range(n)]\n",
        "lecture = [0 for _ in range(n+1)]\n",
        "arr.sort(key=lambda x: (x[1], x[2]))\n",
        "room = []\n",
        "for i in range(1, n+1):\n",
        "    heapq.heappush(room, i)\n",
        "\n",
        "minHeap = []\n",
        "for x in arr:\n",
        "    while minHeap and minHeap[0][0] <= x[1]:\n",
        "        end, r = heapq.heappop(minHeap)\n",
        "        heapq.heappush(room, r)\n",
        "\n",
        "    r = heapq.heappop(room)\n",
        "    heapq.heappush(minHeap, [x[2], r])\n",
        "    lecture[x[0]] = r\n",
        "\n",
        "print(max(lecture))\n",
        "for x in lecture[1:]:\n",
        "    print(x)"
      ]
    },
    {
      "cell_type": "markdown",
      "source": [
        "### 1520"
      ],
      "metadata": {
        "id": "RZDj0rhcdOid"
      }
    },
    {
      "cell_type": "code",
      "source": [
        "import sys\n",
        "sys.setrecursionlimit(10 ** 8)\n",
        "input = sys.stdin.readline\n",
        "\n",
        "m, n = map(int, input().split())\n",
        "graph = [list(map(int, input().split())) for _ in range(m)]\n",
        "dp = [[-1] * n for _ in range(m)]\n",
        "dx, dy = [1, -1, 0, 0], [0, 0, 1, -1]\n",
        "\n",
        "def dfs(sx, sy):\n",
        "    if sx == m - 1 and sy == n - 1:\n",
        "        return 1\n",
        "\n",
        "    if dp[sx][sy] != -1:\n",
        "        return dp[sx][sy]\n",
        "\n",
        "    ways = 0\n",
        "    for i in range(4):\n",
        "        nx, ny = sx + dx[i], sy + dy[i]\n",
        "        if 0 <= nx < m and 0 <= ny < n and graph[sx][sy] > graph[nx][ny]:\n",
        "            ways += dfs(nx, ny)\n",
        "\n",
        "    dp[sx][sy] = ways\n",
        "    return dp[sx][sy]\n",
        "\n",
        "print(dfs(0, 0))\n"
      ],
      "metadata": {
        "id": "wgH_u0FQdPUS"
      },
      "execution_count": null,
      "outputs": []
    },
    {
      "cell_type": "markdown",
      "source": [
        "---"
      ],
      "metadata": {
        "id": "R3ZuQsJIdP6w"
      }
    },
    {
      "cell_type": "markdown",
      "source": [
        "## CodeTree"
      ],
      "metadata": {
        "id": "PzWIQq5ndQrz"
      }
    },
    {
      "cell_type": "markdown",
      "source": [
        "### 틀린 덧셈식"
      ],
      "metadata": {
        "id": "S-30jsb1dTIZ"
      }
    },
    {
      "cell_type": "code",
      "source": [
        "print('123 + 43 = 80')"
      ],
      "metadata": {
        "id": "cD2r5q4GdT3z"
      },
      "execution_count": null,
      "outputs": []
    }
  ]
}