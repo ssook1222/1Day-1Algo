{
  "nbformat": 4,
  "nbformat_minor": 0,
  "metadata": {
    "colab": {
      "provenance": [],
      "authorship_tag": "ABX9TyOE6aBU9Yssbwbtk+ovhD9w",
      "include_colab_link": true
    },
    "kernelspec": {
      "name": "python3",
      "display_name": "Python 3"
    },
    "language_info": {
      "name": "python"
    }
  },
  "cells": [
    {
      "cell_type": "markdown",
      "metadata": {
        "id": "view-in-github",
        "colab_type": "text"
      },
      "source": [
        "<a href=\"https://colab.research.google.com/github/ssook1222/1Day-1Algo/blob/master/ssook/24%EB%85%84/7%EC%9B%94/7%EC%9B%94%203%EC%A3%BC%EC%B0%A8/0718.ipynb\" target=\"_parent\"><img src=\"https://colab.research.google.com/assets/colab-badge.svg\" alt=\"Open In Colab\"/></a>"
      ]
    },
    {
      "cell_type": "markdown",
      "source": [
        "## BoJ"
      ],
      "metadata": {
        "id": "Zijy0uc2dKqK"
      }
    },
    {
      "cell_type": "markdown",
      "source": [
        "### 1600"
      ],
      "metadata": {
        "id": "qpBIBB75dNJD"
      }
    },
    {
      "cell_type": "code",
      "execution_count": null,
      "metadata": {
        "id": "qHlpxrlKagp0"
      },
      "outputs": [],
      "source": [
        "from collections import deque\n",
        "\n",
        "k = int(input().strip())\n",
        "m, n = map(int, input().strip().split())\n",
        "graph = [list(map(int, input().strip().split())) for _ in range(n)]\n",
        "\n",
        "dist = [[1, 0], [0, 1], [-1, 0], [0, -1]]\n",
        "horse = [[-2, -1], [-2, 1], [-1, -2], [-1, 2], [2, -1], [2, 1], [1, -2], [1, 2]]\n",
        "\n",
        "def bfs():\n",
        "    visited = [[[0] * (k + 1) for _ in range(m)] for _ in range(n)]\n",
        "    queue = deque()\n",
        "    queue.append((0, 0, 0))\n",
        "    visited[0][0][0] = 1\n",
        "\n",
        "    while queue:\n",
        "        x, y, z = queue.popleft()\n",
        "\n",
        "        if x == n - 1 and y == m - 1:\n",
        "            return visited[x][y][z] - 1\n",
        "\n",
        "        for i, j in dist:\n",
        "            nx, ny = x + i, y + j\n",
        "            if 0 <= nx < n and 0 <= ny < m and not graph[nx][ny] and not visited[nx][ny][z]:\n",
        "                visited[nx][ny][z] = visited[x][y][z] + 1\n",
        "                queue.append((nx, ny, z))\n",
        "\n",
        "        if z < k:\n",
        "            for hi, hj in horse:\n",
        "                nx, ny = x + hi, y + hj\n",
        "                if 0 <= nx < n and 0 <= ny < m and not graph[nx][ny] and not visited[nx][ny][z + 1]:\n",
        "                    visited[nx][ny][z + 1] = visited[x][y][z] + 1\n",
        "                    queue.append((nx, ny, z + 1))\n",
        "\n",
        "    return -1\n",
        "\n",
        "print(bfs())"
      ]
    },
    {
      "cell_type": "markdown",
      "source": [
        "### 1701"
      ],
      "metadata": {
        "id": "RZDj0rhcdOid"
      }
    },
    {
      "cell_type": "code",
      "source": [
        "import sys\n",
        "\n",
        "def failure(pattern):\n",
        "    table = [0] * len(pattern)\n",
        "    j = 0\n",
        "    for i in range(1, len(pattern)):\n",
        "        while j > 0 and pattern[i] != pattern[j]:\n",
        "            j = table[j - 1]\n",
        "        if pattern[i] == pattern[j]:\n",
        "            j += 1\n",
        "            table[i] = j\n",
        "    return table\n",
        "\n",
        "pat = sys.stdin.readline().rstrip()\n",
        "\n",
        "ans = 0\n",
        "for i in range(len(pat)):\n",
        "    f = failure(pat[i:])\n",
        "    ans = max(ans, max(f))\n",
        "\n",
        "print(ans)"
      ],
      "metadata": {
        "id": "wgH_u0FQdPUS"
      },
      "execution_count": null,
      "outputs": []
    },
    {
      "cell_type": "markdown",
      "source": [
        "---"
      ],
      "metadata": {
        "id": "R3ZuQsJIdP6w"
      }
    },
    {
      "cell_type": "markdown",
      "source": [
        "## CodeTree"
      ],
      "metadata": {
        "id": "PzWIQq5ndQrz"
      }
    },
    {
      "cell_type": "markdown",
      "source": [
        "### 음수 구별"
      ],
      "metadata": {
        "id": "S-30jsb1dTIZ"
      }
    },
    {
      "cell_type": "code",
      "source": [
        "n = int(input())\n",
        "\n",
        "print(n)\n",
        "if n < 0:\n",
        "    print('minus')"
      ],
      "metadata": {
        "id": "cD2r5q4GdT3z"
      },
      "execution_count": null,
      "outputs": []
    }
  ]
}