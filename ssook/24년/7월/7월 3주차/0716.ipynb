{
  "nbformat": 4,
  "nbformat_minor": 0,
  "metadata": {
    "colab": {
      "provenance": [],
      "authorship_tag": "ABX9TyOP7Q/8+3yESUua8NU5Iulc",
      "include_colab_link": true
    },
    "kernelspec": {
      "name": "python3",
      "display_name": "Python 3"
    },
    "language_info": {
      "name": "python"
    }
  },
  "cells": [
    {
      "cell_type": "markdown",
      "metadata": {
        "id": "view-in-github",
        "colab_type": "text"
      },
      "source": [
        "<a href=\"https://colab.research.google.com/github/ssook1222/1Day-1Algo/blob/master/ssook/24%EB%85%84/7%EC%9B%94/7%EC%9B%94%203%EC%A3%BC%EC%B0%A8/0716.ipynb\" target=\"_parent\"><img src=\"https://colab.research.google.com/assets/colab-badge.svg\" alt=\"Open In Colab\"/></a>"
      ]
    },
    {
      "cell_type": "markdown",
      "source": [
        "## BoJ"
      ],
      "metadata": {
        "id": "Iy4ADL1ZRRbW"
      }
    },
    {
      "cell_type": "markdown",
      "source": [
        "### 14428"
      ],
      "metadata": {
        "id": "VII7mf8RRWLj"
      }
    },
    {
      "cell_type": "code",
      "execution_count": null,
      "metadata": {
        "id": "IDl-7cuPRKrJ"
      },
      "outputs": [],
      "source": [
        "import sys\n",
        "input = sys.stdin.readline\n",
        "\n",
        "def init(start, end, node):\n",
        "    if start == end:\n",
        "        seg_tree[node] = start\n",
        "    else:\n",
        "        mid = (start + end) // 2\n",
        "        init(start, mid, node * 2)\n",
        "        init(mid + 1, end, node * 2 + 1)\n",
        "        if arr[seg_tree[node * 2]] <= arr[seg_tree[node * 2 + 1]]:\n",
        "            seg_tree[node] = seg_tree[node * 2]\n",
        "        else:\n",
        "            seg_tree[node] = seg_tree[node * 2 + 1]\n",
        "\n",
        "def update(idx, value, start, end, node):\n",
        "    if start == end:\n",
        "        arr[idx] = value\n",
        "        return\n",
        "\n",
        "    mid = (start + end) // 2\n",
        "    if start <= idx <= mid:\n",
        "        update(idx, value, start, mid, node * 2)\n",
        "    else:\n",
        "        update(idx, value, mid + 1, end, node * 2 + 1)\n",
        "\n",
        "    if arr[seg_tree[node * 2]] <= arr[seg_tree[node * 2 + 1]]:\n",
        "        seg_tree[node] = seg_tree[node * 2]\n",
        "    else:\n",
        "        seg_tree[node] = seg_tree[node * 2 + 1]\n",
        "\n",
        "def query(left, right, start, end, node):\n",
        "    if right < start or left > end:\n",
        "        return -1\n",
        "\n",
        "    if left <= start and end <= right:\n",
        "        return seg_tree[node]\n",
        "\n",
        "    mid = (start + end) // 2\n",
        "    left_idx = query(left, right, start, mid, node * 2)\n",
        "    right_idx = query(left, right, mid + 1, end, node * 2 + 1)\n",
        "\n",
        "    if left_idx == -1:\n",
        "        return right_idx\n",
        "    elif right_idx == -1:\n",
        "        return left_idx\n",
        "    else:\n",
        "        if arr[left_idx] <= arr[right_idx]:\n",
        "            return left_idx\n",
        "        else:\n",
        "            return right_idx\n",
        "\n",
        "N = int(input().strip())\n",
        "arr = list(map(int, input().split()))\n",
        "\n",
        "seg_tree = [-1] * (4 * N)\n",
        "init(0, N - 1, 1)\n",
        "\n",
        "M = int(input().strip())\n",
        "results = []\n",
        "\n",
        "for _ in range(M):\n",
        "    query_type, i, j = map(int, input().split())\n",
        "\n",
        "    if query_type == 1:\n",
        "        update(i - 1, j, 0, N - 1, 1)\n",
        "    elif query_type == 2:\n",
        "        min_index = query(i - 1, j - 1, 0, N - 1, 1) + 1\n",
        "        results.append(min_index)\n",
        "\n",
        "for result in results:\n",
        "    print(result)"
      ]
    },
    {
      "cell_type": "markdown",
      "source": [
        "### 1082"
      ],
      "metadata": {
        "id": "IZt_oK4LRXts"
      }
    },
    {
      "cell_type": "code",
      "source": [
        "INF = 5001\n",
        "\n",
        "n = int(input())\n",
        "room_prices = list(map(int, input().split()))\n",
        "m = int(input())\n",
        "\n",
        "dp =  [-INF for _ in range(m+1)]\n",
        "\n",
        "for i in range(n - 1, -1, -1):\n",
        "    x = room_prices[i]\n",
        "    for j in range(x, m+1):\n",
        "        dp[j] = max(dp[j-x]*10+i, i, dp[j])\n",
        "\n",
        "print(dp[m])"
      ],
      "metadata": {
        "id": "dxY3cRBrRY6x"
      },
      "execution_count": null,
      "outputs": []
    },
    {
      "cell_type": "markdown",
      "source": [
        "---"
      ],
      "metadata": {
        "id": "hkE2U5s7RZR_"
      }
    },
    {
      "cell_type": "markdown",
      "source": [
        "## CodeTree"
      ],
      "metadata": {
        "id": "LA0YfB4DRaeR"
      }
    },
    {
      "cell_type": "markdown",
      "source": [
        "### 금액 출력\n"
      ],
      "metadata": {
        "id": "4RceilVeRdnO"
      }
    },
    {
      "cell_type": "code",
      "source": [
        "price = int(input())\n",
        "\n",
        "print(\"You have %d won.\" %price)"
      ],
      "metadata": {
        "id": "AzqMM72YReqM"
      },
      "execution_count": null,
      "outputs": []
    }
  ]
}