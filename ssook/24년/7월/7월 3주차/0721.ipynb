{
  "nbformat": 4,
  "nbformat_minor": 0,
  "metadata": {
    "colab": {
      "provenance": [],
      "authorship_tag": "ABX9TyPnRNukkBWT7Kqmi5uk3GDR",
      "include_colab_link": true
    },
    "kernelspec": {
      "name": "python3",
      "display_name": "Python 3"
    },
    "language_info": {
      "name": "python"
    }
  },
  "cells": [
    {
      "cell_type": "markdown",
      "metadata": {
        "id": "view-in-github",
        "colab_type": "text"
      },
      "source": [
        "<a href=\"https://colab.research.google.com/github/ssook1222/1Day-1Algo/blob/master/ssook/24%EB%85%84/7%EC%9B%94/7%EC%9B%94%203%EC%A3%BC%EC%B0%A8/0721.ipynb\" target=\"_parent\"><img src=\"https://colab.research.google.com/assets/colab-badge.svg\" alt=\"Open In Colab\"/></a>"
      ]
    },
    {
      "cell_type": "markdown",
      "source": [
        "## BoJ"
      ],
      "metadata": {
        "id": "vD_gX8_Ecavg"
      }
    },
    {
      "cell_type": "markdown",
      "source": [
        "### 1245"
      ],
      "metadata": {
        "id": "fF6pzZVOcb7B"
      }
    },
    {
      "cell_type": "code",
      "execution_count": null,
      "metadata": {
        "id": "BTcMm8j5cXSz"
      },
      "outputs": [],
      "source": [
        "import sys\n",
        "input = sys.stdin.readline\n",
        "from collections import deque\n",
        "\n",
        "N, M = map(int, input().split())\n",
        "heights = []\n",
        "for i in range(N):\n",
        "    heights.append(list(map(int, input().split())))\n",
        "\n",
        "dx = [-1, -1, -1, 0, 0, 1, 1, 1]\n",
        "dy = [-1, 0, 1, 1, -1, -1, 0, 1]\n",
        "\n",
        "visited_cells = []\n",
        "\n",
        "def bfs(x, y, visited_cells):\n",
        "    queue = deque([(x, y)])\n",
        "    visited[x][y] = 1\n",
        "    cells = [(x, y)]\n",
        "    while queue:\n",
        "        X, Y = queue.popleft()\n",
        "        for i in range(8):\n",
        "            nx, ny = X + dx[i], Y + dy[i]\n",
        "            if nx < 0 or nx >= N or ny < 0 or ny >= M:\n",
        "                continue\n",
        "            if visited[nx][ny] == 1:\n",
        "                continue\n",
        "            if heights[X][Y] < heights[nx][ny]:\n",
        "                return 0\n",
        "            if heights[X][Y] == heights[nx][ny]:\n",
        "                visited[nx][ny] = 1\n",
        "                queue.append((nx, ny))\n",
        "                cells.append((nx, ny))\n",
        "        visited_cells += cells\n",
        "    return 1\n",
        "\n",
        "total_peaks = 0\n",
        "visited = [[0]*M for _ in range(N)]\n",
        "for i in range(N):\n",
        "    for j in range(M):\n",
        "        if (i, j) not in visited_cells:\n",
        "            visited = [[0]*M for _ in range(N)]\n",
        "            total_peaks += bfs(i, j, visited_cells)\n",
        "print(total_peaks)"
      ]
    },
    {
      "cell_type": "markdown",
      "source": [
        "### 1334"
      ],
      "metadata": {
        "id": "7QT0hieLcdGA"
      }
    },
    {
      "cell_type": "code",
      "source": [
        "n = input()\n",
        "len_n = len(n)\n",
        "\n",
        "if len_n == 1:\n",
        "    n = int(n)\n",
        "    if n == 9:\n",
        "        print(11)\n",
        "    else:\n",
        "        print(n + 1)\n",
        "\n",
        "elif len_n % 2 == 1:\n",
        "    a = int(n[:len_n // 2][::-1])\n",
        "    b = int(n[len_n // 2 + 1:])\n",
        "    if a > b:\n",
        "        print(n[:len_n // 2] + n[len_n // 2] + n[:len_n // 2][::-1])\n",
        "    else:\n",
        "        if int(n[len_n // 2]) == 9:\n",
        "            c = str(int(n[:len_n // 2]) + 1)\n",
        "            if len(c) == len_n // 2:\n",
        "                print(c + \"0\" + c[::-1])\n",
        "            elif len(c) > len_n // 2:\n",
        "                print(c + c[::-1])\n",
        "        else:\n",
        "            print(n[:len_n // 2] + str(int(n[len_n // 2]) + 1) + n[:len_n // 2][::-1])\n",
        "\n",
        "else:\n",
        "    a = int(n[:len_n // 2][::-1])\n",
        "    b = int(n[len_n // 2:])\n",
        "    if a > b:\n",
        "        print(n[:len_n // 2] + n[:len_n // 2][::-1])\n",
        "    else:\n",
        "        c = str(int(n[:len_n // 2]) + 1)\n",
        "        if len(c) == len_n // 2:\n",
        "            print(c + c[::-1])\n",
        "        elif len(c) > len_n // 2:\n",
        "            print(c + c[::-1][1:])"
      ],
      "metadata": {
        "id": "3ntT1aLMcd0Z"
      },
      "execution_count": null,
      "outputs": []
    },
    {
      "cell_type": "markdown",
      "source": [
        "---"
      ],
      "metadata": {
        "id": "5VxwRsOmceKQ"
      }
    },
    {
      "cell_type": "markdown",
      "source": [
        "## CodeTree"
      ],
      "metadata": {
        "id": "BMs8t9AOce1e"
      }
    },
    {
      "cell_type": "markdown",
      "source": [
        "### 달에서 무게 구하기 2"
      ],
      "metadata": {
        "id": "0h4vMFVGcgGC"
      }
    },
    {
      "cell_type": "code",
      "source": [
        "robot = 147\n",
        "gravity = 0.165\n",
        "\n",
        "print(\"%d * %.5f = %.5f\" %(robot, gravity, (robot * gravity)))"
      ],
      "metadata": {
        "id": "USJ7l1C-cg0W"
      },
      "execution_count": null,
      "outputs": []
    }
  ]
}