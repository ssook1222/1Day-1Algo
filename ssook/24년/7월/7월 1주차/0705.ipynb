{
  "nbformat": 4,
  "nbformat_minor": 0,
  "metadata": {
    "colab": {
      "provenance": [],
      "authorship_tag": "ABX9TyPlQrR1YULc2b7WiB5sLSha",
      "include_colab_link": true
    },
    "kernelspec": {
      "name": "python3",
      "display_name": "Python 3"
    },
    "language_info": {
      "name": "python"
    }
  },
  "cells": [
    {
      "cell_type": "markdown",
      "metadata": {
        "id": "view-in-github",
        "colab_type": "text"
      },
      "source": [
        "<a href=\"https://colab.research.google.com/github/ssook1222/1Day-1Algo/blob/master/ssook/24%EB%85%84/7%EC%9B%94/7%EC%9B%94%201%EC%A3%BC%EC%B0%A8/0705.ipynb\" target=\"_parent\"><img src=\"https://colab.research.google.com/assets/colab-badge.svg\" alt=\"Open In Colab\"/></a>"
      ]
    },
    {
      "cell_type": "markdown",
      "source": [
        "## BoJ"
      ],
      "metadata": {
        "id": "CZO11ejc2qo2"
      }
    },
    {
      "cell_type": "markdown",
      "source": [
        "### 14889\n",
        "---\n",
        "pypy로"
      ],
      "metadata": {
        "id": "AUqeNUBS2s8-"
      }
    },
    {
      "cell_type": "code",
      "execution_count": null,
      "metadata": {
        "id": "GXyd2z-22An8"
      },
      "outputs": [],
      "source": [
        "import sys\n",
        "input = sys.stdin.readline\n",
        "\n",
        "N = int(input())\n",
        "ability = [list(map(int, input().split())) for _ in range(N)]\n",
        "selected = [False for _ in range(N)]\n",
        "INF = 1e9\n",
        "min_difference = INF\n",
        "\n",
        "def DFS(level, idx):\n",
        "    global min_difference\n",
        "    if level == N // 2:\n",
        "        start_team_score = 0\n",
        "        link_team_score = 0\n",
        "        for i in range(N):\n",
        "            for j in range(N):\n",
        "                if selected[i] and selected[j]:\n",
        "                    start_team_score += ability[i][j]\n",
        "                elif not selected[i] and not selected[j]:\n",
        "                    link_team_score += ability[i][j]\n",
        "        min_difference = min(min_difference, abs(start_team_score - link_team_score))\n",
        "        return\n",
        "\n",
        "    for i in range(idx, N):\n",
        "        if not selected[i]:\n",
        "            selected[i] = True\n",
        "            DFS(level + 1, i + 1)\n",
        "            selected[i] = False\n",
        "\n",
        "DFS(0, 0)\n",
        "print(min_difference)"
      ]
    },
    {
      "cell_type": "markdown",
      "source": [
        "### 5014"
      ],
      "metadata": {
        "id": "fhSd4NkH2t-N"
      }
    },
    {
      "cell_type": "code",
      "source": [
        "from collections import deque\n",
        "import sys\n",
        "\n",
        "total_floors, start_floor, goal_floor, up_move, down_move = map(int, sys.stdin.readline().split())\n",
        "visited = [0 for _ in range(total_floors + 1)]\n",
        "\n",
        "def bfs():\n",
        "    queue = deque()\n",
        "    queue.append(start_floor)\n",
        "    visited[start_floor] = 1\n",
        "\n",
        "    while queue:\n",
        "        current_floor = queue.popleft()\n",
        "\n",
        "        if current_floor == goal_floor:\n",
        "            return visited[current_floor] - 1\n",
        "\n",
        "        for next_floor in (current_floor + up_move, current_floor - down_move):\n",
        "            if 0 < next_floor <= total_floors and visited[next_floor] == 0:\n",
        "                visited[next_floor] = visited[current_floor] + 1\n",
        "                queue.append(next_floor)\n",
        "\n",
        "    return \"use the stairs\"\n",
        "\n",
        "print(bfs())"
      ],
      "metadata": {
        "id": "OSIplIt-2u17"
      },
      "execution_count": null,
      "outputs": []
    },
    {
      "cell_type": "markdown",
      "source": [
        "---"
      ],
      "metadata": {
        "id": "e2a0QO_12vdm"
      }
    },
    {
      "cell_type": "markdown",
      "source": [
        "## CodeTree"
      ],
      "metadata": {
        "id": "kpEIQEZX2wNb"
      }
    },
    {
      "cell_type": "markdown",
      "source": [
        "### 배열의 평균 2"
      ],
      "metadata": {
        "id": "Sjg1R0_02yDt"
      }
    },
    {
      "cell_type": "code",
      "source": [
        "matrix = []\n",
        "for _ in range(3):\n",
        "    matrix.append(list(map(int, input().split())))\n",
        "\n",
        "row_averages = [sum(row) / 3 for row in matrix]\n",
        "column_averages = [sum(matrix[row][col] for row in range(3)) / 3 for col in range(3)]\n",
        "total_average = sum(sum(row) for row in matrix) / 9\n",
        "\n",
        "print(\" \".join(f\"{avg:.1f}\" for avg in row_averages))\n",
        "print(\" \".join(f\"{avg:.1f}\" for avg in column_averages))\n",
        "print(f\"{total_average:.1f}\")"
      ],
      "metadata": {
        "id": "vsfwrisy2y9O"
      },
      "execution_count": null,
      "outputs": []
    }
  ]
}