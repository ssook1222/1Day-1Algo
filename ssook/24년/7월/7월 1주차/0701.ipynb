{
  "nbformat": 4,
  "nbformat_minor": 0,
  "metadata": {
    "colab": {
      "provenance": [],
      "authorship_tag": "ABX9TyOBUafVzU7hydMEUihNFOjK",
      "include_colab_link": true
    },
    "kernelspec": {
      "name": "python3",
      "display_name": "Python 3"
    },
    "language_info": {
      "name": "python"
    }
  },
  "cells": [
    {
      "cell_type": "markdown",
      "metadata": {
        "id": "view-in-github",
        "colab_type": "text"
      },
      "source": [
        "<a href=\"https://colab.research.google.com/github/ssook1222/1Day-1Algo/blob/master/ssook/24%EB%85%84/7%EC%9B%94/7%EC%9B%94%201%EC%A3%BC%EC%B0%A8/0701.ipynb\" target=\"_parent\"><img src=\"https://colab.research.google.com/assets/colab-badge.svg\" alt=\"Open In Colab\"/></a>"
      ]
    },
    {
      "cell_type": "markdown",
      "source": [
        "## BoJ"
      ],
      "metadata": {
        "id": "82QPo85d4JZT"
      }
    },
    {
      "cell_type": "markdown",
      "source": [
        "### 1421"
      ],
      "metadata": {
        "id": "YI9ySOAu4K9g"
      }
    },
    {
      "cell_type": "code",
      "execution_count": null,
      "metadata": {
        "id": "rQCQczXP4Ha2"
      },
      "outputs": [],
      "source": [
        "import sys\n",
        "input = sys.stdin.readline\n",
        "\n",
        "N, C, W = map(int, input().rstrip().split())\n",
        "woods = [int(input().rstrip()) for _ in range(N)]\n",
        "\n",
        "max_profit = 0\n",
        "\n",
        "max_length = max(woods)\n",
        "\n",
        "for l in range(1, max_length + 1):\n",
        "    total_profit = 0\n",
        "\n",
        "    for wood in woods:\n",
        "        q, r = divmod(wood, l)\n",
        "\n",
        "        if r:\n",
        "            expense = q * C\n",
        "        else:\n",
        "            expense = (q - 1) * C\n",
        "        profit = (q * l * W) - expense\n",
        "\n",
        "        if profit < 0:\n",
        "            continue\n",
        "\n",
        "        total_profit += profit\n",
        "\n",
        "    if total_profit >= max_profit:\n",
        "        max_profit = total_profit\n",
        "\n",
        "print(max_profit)"
      ]
    },
    {
      "cell_type": "markdown",
      "source": [
        "### 1660\n",
        "pypy로 풀음"
      ],
      "metadata": {
        "id": "rgSzCRFQ4L2m"
      }
    },
    {
      "cell_type": "code",
      "source": [
        "import sys\n",
        "input = sys.stdin.readline\n",
        "\n",
        "N = int(input().rstrip())\n",
        "\n",
        "tetrahedrons = []\n",
        "cannonballs = 0\n",
        "i = 1\n",
        "\n",
        "while cannonballs < N:\n",
        "    cannonballs += (i * (i + 1)) // 2\n",
        "    tetrahedrons.append(cannonballs)\n",
        "    i += 1\n",
        "\n",
        "MAX = sys.maxsize\n",
        "\n",
        "dp = [MAX] * (N + 1)\n",
        "\n",
        "for i in range(1, N + 1):\n",
        "    for t in tetrahedrons:\n",
        "        if t >= i:\n",
        "            if t == i:\n",
        "                dp[i] = 1\n",
        "            break\n",
        "        dp[i] = min(dp[i], 1 + dp[i - t])\n",
        "\n",
        "print(dp[N])"
      ],
      "metadata": {
        "id": "MBFLYiZn4Mov"
      },
      "execution_count": null,
      "outputs": []
    },
    {
      "cell_type": "markdown",
      "source": [
        "---"
      ],
      "metadata": {
        "id": "uda9DvhE4M5w"
      }
    },
    {
      "cell_type": "markdown",
      "source": [
        "## CodeTree"
      ],
      "metadata": {
        "id": "QR-_DLBD4NyE"
      }
    },
    {
      "cell_type": "markdown",
      "source": [
        "### 문자열의 특정 위치 찾기 3\n"
      ],
      "metadata": {
        "id": "h82bsI-b4Qw-"
      }
    },
    {
      "cell_type": "code",
      "source": [
        "string = input()\n",
        "c = input()\n",
        "\n",
        "if c in string:\n",
        "    print(string.index(c) + 1)\n",
        "\n",
        "else:\n",
        "    print('Not Found')"
      ],
      "metadata": {
        "id": "3SW-9_wR4RnL"
      },
      "execution_count": null,
      "outputs": []
    }
  ]
}