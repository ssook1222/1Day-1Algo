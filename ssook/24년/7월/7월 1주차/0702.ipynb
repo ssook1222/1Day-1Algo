{
  "nbformat": 4,
  "nbformat_minor": 0,
  "metadata": {
    "colab": {
      "provenance": [],
      "authorship_tag": "ABX9TyPJZ97S7XAvA+UjaTQcw1kf",
      "include_colab_link": true
    },
    "kernelspec": {
      "name": "python3",
      "display_name": "Python 3"
    },
    "language_info": {
      "name": "python"
    }
  },
  "cells": [
    {
      "cell_type": "markdown",
      "metadata": {
        "id": "view-in-github",
        "colab_type": "text"
      },
      "source": [
        "<a href=\"https://colab.research.google.com/github/ssook1222/1Day-1Algo/blob/master/ssook/24%EB%85%84/7%EC%9B%94/7%EC%9B%94%201%EC%A3%BC%EC%B0%A8/0702.ipynb\" target=\"_parent\"><img src=\"https://colab.research.google.com/assets/colab-badge.svg\" alt=\"Open In Colab\"/></a>"
      ]
    },
    {
      "cell_type": "markdown",
      "source": [
        "## BoJ"
      ],
      "metadata": {
        "id": "82QPo85d4JZT"
      }
    },
    {
      "cell_type": "markdown",
      "source": [
        "### 1495"
      ],
      "metadata": {
        "id": "YI9ySOAu4K9g"
      }
    },
    {
      "cell_type": "code",
      "execution_count": null,
      "metadata": {
        "id": "rQCQczXP4Ha2"
      },
      "outputs": [],
      "source": [
        "import sys\n",
        "input = sys.stdin.readline\n",
        "\n",
        "N, S, M = map(int, input().rstrip().split())\n",
        "V = list(map(int, input().rstrip().split()))\n",
        "\n",
        "dp = [[0] * (M + 1) for _ in range(N + 1)]\n",
        "dp[0][S] = 1\n",
        "\n",
        "for i in range(N):\n",
        "    for j in range(M + 1):\n",
        "        if dp[i][j] == 1:\n",
        "            if j + V[i] <= M:\n",
        "                dp[i + 1][j + V[i]] = 1\n",
        "            if j - V[i] >= 0:\n",
        "                dp[i + 1][j - V[i]] = 1\n",
        "\n",
        "max_volume = -1\n",
        "for i in range(M, -1, -1):\n",
        "    if dp[N][i] == 1:\n",
        "        max_volume = i\n",
        "        break\n",
        "\n",
        "print(max_volume)"
      ]
    },
    {
      "cell_type": "markdown",
      "source": [
        "### 1497"
      ],
      "metadata": {
        "id": "rgSzCRFQ4L2m"
      }
    },
    {
      "cell_type": "code",
      "source": [
        "import sys\n",
        "from itertools import combinations\n",
        "\n",
        "input = sys.stdin.readline\n",
        "N, M = map(int, input().rstrip().split())\n",
        "\n",
        "guitars = set()\n",
        "for _ in range(N):\n",
        "    name, pos = input().split()\n",
        "    bin_change = ''\n",
        "    for chr in pos:\n",
        "        if chr == \"Y\":\n",
        "            bin_change += '1'\n",
        "        else:\n",
        "            bin_change += '0'\n",
        "    guitars.add(int(bin_change, 2))\n",
        "\n",
        "guitars -= {0}\n",
        "if not guitars:\n",
        "    print(-1)\n",
        "    exit()\n",
        "\n",
        "max_songs = 0\n",
        "min_guitars = 0\n",
        "\n",
        "for i in range(1, N + 1):\n",
        "    for combs in combinations(guitars, i):\n",
        "\n",
        "        total = 0\n",
        "        for num in combs:\n",
        "            total |= num\n",
        "\n",
        "        song_count = 0\n",
        "        for j in range(M):\n",
        "            if total & (1 << j):\n",
        "                song_count += 1\n",
        "\n",
        "        if max_songs < song_count:\n",
        "            max_songs = song_count\n",
        "            min_guitars = i\n",
        "\n",
        "print(min_guitars)"
      ],
      "metadata": {
        "id": "MBFLYiZn4Mov"
      },
      "execution_count": null,
      "outputs": []
    },
    {
      "cell_type": "markdown",
      "source": [
        "---"
      ],
      "metadata": {
        "id": "uda9DvhE4M5w"
      }
    },
    {
      "cell_type": "markdown",
      "source": [
        "## CodeTree"
      ],
      "metadata": {
        "id": "QR-_DLBD4NyE"
      }
    },
    {
      "cell_type": "markdown",
      "source": [
        "### 숫자 아스키코드"
      ],
      "metadata": {
        "id": "h82bsI-b4Qw-"
      }
    },
    {
      "cell_type": "code",
      "source": [
        "n = int(input())\n",
        "\n",
        "for _ in range(n):\n",
        "    c = input()\n",
        "\n",
        "    if c.isalpha():\n",
        "        print(c)\n",
        "\n",
        "    else:\n",
        "        print(ord(c))"
      ],
      "metadata": {
        "id": "3SW-9_wR4RnL"
      },
      "execution_count": null,
      "outputs": []
    }
  ]
}