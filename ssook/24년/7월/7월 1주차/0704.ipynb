{
  "nbformat": 4,
  "nbformat_minor": 0,
  "metadata": {
    "colab": {
      "provenance": [],
      "authorship_tag": "ABX9TyPkP0FK02LWzP1H5Onc0fIS",
      "include_colab_link": true
    },
    "kernelspec": {
      "name": "python3",
      "display_name": "Python 3"
    },
    "language_info": {
      "name": "python"
    }
  },
  "cells": [
    {
      "cell_type": "markdown",
      "metadata": {
        "id": "view-in-github",
        "colab_type": "text"
      },
      "source": [
        "<a href=\"https://colab.research.google.com/github/ssook1222/1Day-1Algo/blob/master/ssook/24%EB%85%84/7%EC%9B%94/7%EC%9B%94%201%EC%A3%BC%EC%B0%A8/0704.ipynb\" target=\"_parent\"><img src=\"https://colab.research.google.com/assets/colab-badge.svg\" alt=\"Open In Colab\"/></a>"
      ]
    },
    {
      "cell_type": "markdown",
      "source": [
        "## BoJ"
      ],
      "metadata": {
        "id": "CZO11ejc2qo2"
      }
    },
    {
      "cell_type": "markdown",
      "source": [
        "### 2023"
      ],
      "metadata": {
        "id": "AUqeNUBS2s8-"
      }
    },
    {
      "cell_type": "code",
      "execution_count": null,
      "metadata": {
        "id": "GXyd2z-22An8"
      },
      "outputs": [],
      "source": [
        "import sys\n",
        "input = sys.stdin.readline\n",
        "sys.setrecursionlimit(10000)\n",
        "\n",
        "def find_special_primes():\n",
        "    N = int(input())\n",
        "\n",
        "    def is_prime(num):\n",
        "        for i in range(2, int(num**(1/2)) + 1):\n",
        "            if num % i == 0:\n",
        "                return False\n",
        "        return True\n",
        "\n",
        "    def dfs(current_number):\n",
        "        if len(str(current_number)) == N:\n",
        "            print(current_number)\n",
        "        else:\n",
        "            for i in range(1, 10, 2):\n",
        "                new_number = current_number * 10 + i\n",
        "                if is_prime(new_number):\n",
        "                    dfs(new_number)\n",
        "\n",
        "    dfs(2)\n",
        "    dfs(3)\n",
        "    dfs(5)\n",
        "    dfs(7)\n",
        "\n",
        "if __name__ == \"__main__\":\n",
        "    find_special_primes()"
      ]
    },
    {
      "cell_type": "markdown",
      "source": [
        "### 21608"
      ],
      "metadata": {
        "id": "fhSd4NkH2t-N"
      }
    },
    {
      "cell_type": "code",
      "source": [
        "import sys\n",
        "input = sys.stdin.readline\n",
        "\n",
        "directions = [(-1, 1, 0, 0), (0, 0, -1, 1)]\n",
        "\n",
        "N = int(input())\n",
        "classroom = [[0] * N for _ in range(N)]\n",
        "students_preferences = [list(map(int, input().split())) for _ in range(N ** 2)]\n",
        "\n",
        "for order in range(N ** 2):\n",
        "    student_info = students_preferences[order]\n",
        "    student_id = student_info[0]\n",
        "    preferred_students = student_info[1:]\n",
        "\n",
        "    possible_positions = []\n",
        "\n",
        "    for i in range(N):\n",
        "        for j in range(N):\n",
        "            if classroom[i][j] == 0:\n",
        "                like_count = 0\n",
        "                empty_count = 0\n",
        "\n",
        "                for k in range(4):\n",
        "                    ni, nj = i + directions[0][k], j + directions[1][k]\n",
        "                    if 0 <= ni < N and 0 <= nj < N:\n",
        "                        if classroom[ni][nj] in preferred_students:\n",
        "                            like_count += 1\n",
        "                        if classroom[ni][nj] == 0:\n",
        "                            empty_count += 1\n",
        "\n",
        "                possible_positions.append((like_count, empty_count, i, j))\n",
        "\n",
        "    possible_positions.sort(key=lambda x: (-x[0], -x[1], x[2], x[3]))\n",
        "\n",
        "    selected_position = possible_positions[0]\n",
        "    classroom[selected_position[2]][selected_position[3]] = student_id\n",
        "\n",
        "total_satisfaction = 0\n",
        "students_preferences.sort()\n",
        "\n",
        "for i in range(N):\n",
        "    for j in range(N):\n",
        "        student_id = classroom[i][j]\n",
        "        preferred_students = students_preferences[student_id - 1][1:]\n",
        "\n",
        "        satisfaction_score = 0\n",
        "        like_count = 0\n",
        "\n",
        "        for k in range(4):\n",
        "            ni, nj = i + directions[0][k], j + directions[1][k]\n",
        "            if 0 <= ni < N and 0 <= nj < N:\n",
        "                if classroom[ni][nj] in preferred_students:\n",
        "                    like_count += 1\n",
        "\n",
        "        if like_count > 0:\n",
        "            satisfaction_score = 10 ** (like_count - 1)\n",
        "\n",
        "        total_satisfaction += satisfaction_score\n",
        "\n",
        "print(total_satisfaction)"
      ],
      "metadata": {
        "id": "OSIplIt-2u17"
      },
      "execution_count": null,
      "outputs": []
    },
    {
      "cell_type": "markdown",
      "source": [
        "---"
      ],
      "metadata": {
        "id": "e2a0QO_12vdm"
      }
    },
    {
      "cell_type": "markdown",
      "source": [
        "## CodeTree"
      ],
      "metadata": {
        "id": "kpEIQEZX2wNb"
      }
    },
    {
      "cell_type": "markdown",
      "source": [
        "### 특정 위치의 숫자 2"
      ],
      "metadata": {
        "id": "Sjg1R0_02yDt"
      }
    },
    {
      "cell_type": "code",
      "source": [
        "n = int(input())\n",
        "\n",
        "nums = list(map(int, input().split()))\n",
        "hap = 0\n",
        "for i in range(len(nums)):\n",
        "    if i % 2 == 1:\n",
        "        hap += nums[i]\n",
        "\n",
        "print(hap, round(hap/int((n/2)), 1))"
      ],
      "metadata": {
        "id": "vsfwrisy2y9O"
      },
      "execution_count": null,
      "outputs": []
    }
  ]
}