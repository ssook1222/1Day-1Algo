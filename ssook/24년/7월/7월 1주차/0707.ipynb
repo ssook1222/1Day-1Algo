{
  "nbformat": 4,
  "nbformat_minor": 0,
  "metadata": {
    "colab": {
      "provenance": [],
      "authorship_tag": "ABX9TyN2RQdHajyF4DmGXLu1ZP3/",
      "include_colab_link": true
    },
    "kernelspec": {
      "name": "python3",
      "display_name": "Python 3"
    },
    "language_info": {
      "name": "python"
    }
  },
  "cells": [
    {
      "cell_type": "markdown",
      "metadata": {
        "id": "view-in-github",
        "colab_type": "text"
      },
      "source": [
        "<a href=\"https://colab.research.google.com/github/ssook1222/1Day-1Algo/blob/master/ssook/24%EB%85%84/7%EC%9B%94/7%EC%9B%94%201%EC%A3%BC%EC%B0%A8/0707.ipynb\" target=\"_parent\"><img src=\"https://colab.research.google.com/assets/colab-badge.svg\" alt=\"Open In Colab\"/></a>"
      ]
    },
    {
      "cell_type": "markdown",
      "source": [
        "## BoJ"
      ],
      "metadata": {
        "id": "CI44DsKbq35s"
      }
    },
    {
      "cell_type": "markdown",
      "source": [
        "### 2565"
      ],
      "metadata": {
        "id": "rcBsRA0Aq5BL"
      }
    },
    {
      "cell_type": "code",
      "execution_count": null,
      "metadata": {
        "id": "5FKQEIuKqx_P"
      },
      "outputs": [],
      "source": [
        "n = int(input())\n",
        "wires = []\n",
        "max_non_crossing = [1] * n\n",
        "\n",
        "for _ in range(n):\n",
        "    a, b = map(int, input().split())\n",
        "    wires.append([a, b])\n",
        "\n",
        "wires.sort()\n",
        "\n",
        "for i in range(1, n):\n",
        "    for j in range(0, i):\n",
        "        if wires[j][1] < wires[i][1]:\n",
        "            max_non_crossing[i] = max(max_non_crossing[i], max_non_crossing[j] + 1)\n",
        "\n",
        "min_remove = n - max(max_non_crossing)\n",
        "print(min_remove)"
      ]
    },
    {
      "cell_type": "markdown",
      "source": [
        "### 2493"
      ],
      "metadata": {
        "id": "hT4AF3tdq5jp"
      }
    },
    {
      "cell_type": "code",
      "source": [
        "import sys\n",
        "input = sys.stdin.readline\n",
        "\n",
        "n = int(input())\n",
        "heights = list(map(int, input().split()))\n",
        "\n",
        "stack = []\n",
        "receivers = [0] * n\n",
        "\n",
        "for i in range(n):\n",
        "    while stack:\n",
        "        if stack[-1][1] > heights[i]:\n",
        "            receivers[i] = stack[-1][0] + 1\n",
        "            break\n",
        "        else:\n",
        "            stack.pop()\n",
        "    stack.append((i, heights[i]))\n",
        "\n",
        "print(*receivers)"
      ],
      "metadata": {
        "id": "s_mMXDTlq6Hl"
      },
      "execution_count": null,
      "outputs": []
    },
    {
      "cell_type": "markdown",
      "source": [
        "---"
      ],
      "metadata": {
        "id": "1pnldonpq6Z6"
      }
    },
    {
      "cell_type": "markdown",
      "source": [
        "## CodeTree"
      ],
      "metadata": {
        "id": "DnUNSiFpq7Bs"
      }
    },
    {
      "cell_type": "markdown",
      "source": [
        "### 따옴표 출력 2"
      ],
      "metadata": {
        "id": "0NYkLIJYq8F4"
      }
    },
    {
      "cell_type": "code",
      "source": [
        "print('Sam said \"It\\'s a Potato!\".')"
      ],
      "metadata": {
        "id": "sSCuImZfq8mH"
      },
      "execution_count": null,
      "outputs": []
    }
  ]
}