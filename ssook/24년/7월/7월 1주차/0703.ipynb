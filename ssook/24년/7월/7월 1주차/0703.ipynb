{
  "nbformat": 4,
  "nbformat_minor": 0,
  "metadata": {
    "colab": {
      "provenance": [],
      "authorship_tag": "ABX9TyP1FU55A6LBlOT8GLsG0cz4",
      "include_colab_link": true
    },
    "kernelspec": {
      "name": "python3",
      "display_name": "Python 3"
    },
    "language_info": {
      "name": "python"
    }
  },
  "cells": [
    {
      "cell_type": "markdown",
      "metadata": {
        "id": "view-in-github",
        "colab_type": "text"
      },
      "source": [
        "<a href=\"https://colab.research.google.com/github/ssook1222/1Day-1Algo/blob/master/ssook/24%EB%85%84/7%EC%9B%94/7%EC%9B%94%201%EC%A3%BC%EC%B0%A8/0703.ipynb\" target=\"_parent\"><img src=\"https://colab.research.google.com/assets/colab-badge.svg\" alt=\"Open In Colab\"/></a>"
      ]
    },
    {
      "cell_type": "markdown",
      "source": [
        "## BoJ"
      ],
      "metadata": {
        "id": "82QPo85d4JZT"
      }
    },
    {
      "cell_type": "markdown",
      "source": [
        "### 17387"
      ],
      "metadata": {
        "id": "YI9ySOAu4K9g"
      }
    },
    {
      "cell_type": "code",
      "execution_count": null,
      "metadata": {
        "id": "rQCQczXP4Ha2"
      },
      "outputs": [],
      "source": [
        "import sys\n",
        "input = sys.stdin.readline\n",
        "\n",
        "def ccw(x1, y1, x2, y2, x3, y3):\n",
        "    return (x2 - x1) * (y3 - y1) - (y2 - y1) * (x3 - x1)\n",
        "\n",
        "def do_lines_intersect(x1, y1, x2, y2, x3, y3, x4, y4, min_x1, min_y1, max_x1, max_y1, min_x3, min_y3, max_x3, max_y3, max_x4, max_y4):\n",
        "    ccw1 = ccw(x1, y1, x2, y2, x3, y3)\n",
        "    ccw2 = ccw(x1, y1, x2, y2, x4, y4)\n",
        "    ccw3 = ccw(x3, y3, x4, y4, x1, y1)\n",
        "    ccw4 = ccw(x3, y3, x4, y4, x2, y2)\n",
        "\n",
        "    if ccw1 * ccw2 == 0 and ccw3 * ccw4 == 0:\n",
        "        if min_x1 <= max_x4 and min_x3 <= max_x1 and min_y1 <= max_y4 and min_y3 <= max_y1:\n",
        "            return 1\n",
        "    else:\n",
        "        if ccw1 * ccw2 <= 0 and ccw3 * ccw4 <= 0:\n",
        "            return 1\n",
        "\n",
        "    return 0\n",
        "\n",
        "if __name__ == '__main__':\n",
        "    x1, y1, x2, y2 = map(int, input().rstrip().split())\n",
        "    x3, y3, x4, y4 = map(int, input().rstrip().split())\n",
        "\n",
        "    min_x1, min_y1, max_x1, max_y1 = min(x1, x2), min(y1, y2), max(x1, x2), max(y1, y2)\n",
        "    min_x3, min_y3, max_x3, max_y3 = min(x3, x4), min(y3, y4), max(x3, x4), max(y3, y4)\n",
        "    max_x4, max_y4 = max(x3, x4), max(y3, y4)\n",
        "\n",
        "    print(do_lines_intersect(x1, y1, x2, y2, x3, y3, x4, y4, min_x1, min_y1, max_x1, max_y1, min_x3, min_y3, max_x3, max_y3, max_x4, max_y4))"
      ]
    },
    {
      "cell_type": "markdown",
      "source": [
        "### 7453\n",
        "pypy로 풀음"
      ],
      "metadata": {
        "id": "rgSzCRFQ4L2m"
      }
    },
    {
      "cell_type": "code",
      "source": [
        "import sys\n",
        "input = sys.stdin.readline\n",
        "\n",
        "if __name__ == \"__main__\":\n",
        "    n = int(input())\n",
        "    arrays = [list(map(int, input().split())) for _ in range(n)]\n",
        "    sum_ab, sum_cd = [], []\n",
        "\n",
        "    for i in range(n):\n",
        "        for j in range(n):\n",
        "            sum_ab.append(arrays[i][0] + arrays[j][1])\n",
        "            sum_cd.append(arrays[i][2] + arrays[j][3])\n",
        "\n",
        "    sum_ab.sort()\n",
        "    sum_cd.sort()\n",
        "\n",
        "    i, j = 0, len(sum_cd) - 1\n",
        "    result = 0\n",
        "\n",
        "    while i < len(sum_ab) and j >= 0:\n",
        "        if sum_ab[i] + sum_cd[j] == 0:\n",
        "            next_i, next_j = i + 1, j - 1\n",
        "\n",
        "            while next_i < len(sum_ab) and sum_ab[i] == sum_ab[next_i]:\n",
        "                next_i += 1\n",
        "\n",
        "            while next_j >= 0 and sum_cd[j] == sum_cd[next_j]:\n",
        "                next_j -= 1\n",
        "\n",
        "            result += (next_i - i) * (j - next_j)\n",
        "            i, j = next_i, next_j\n",
        "\n",
        "        elif sum_ab[i] + sum_cd[j] > 0:\n",
        "            j -= 1\n",
        "        else:\n",
        "            i += 1\n",
        "\n",
        "    print(result)"
      ],
      "metadata": {
        "id": "MBFLYiZn4Mov"
      },
      "execution_count": null,
      "outputs": []
    },
    {
      "cell_type": "markdown",
      "source": [
        "---"
      ],
      "metadata": {
        "id": "uda9DvhE4M5w"
      }
    },
    {
      "cell_type": "markdown",
      "source": [
        "## CodeTree"
      ],
      "metadata": {
        "id": "QR-_DLBD4NyE"
      }
    },
    {
      "cell_type": "markdown",
      "source": [
        "### 문자열의 앞뒤출력"
      ],
      "metadata": {
        "id": "h82bsI-b4Qw-"
      }
    },
    {
      "cell_type": "code",
      "source": [
        "s = input()\n",
        "print(s[:3])\n",
        "print(s[-4:])"
      ],
      "metadata": {
        "id": "3SW-9_wR4RnL"
      },
      "execution_count": null,
      "outputs": []
    }
  ]
}