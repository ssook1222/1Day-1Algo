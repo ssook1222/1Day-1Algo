{
  "nbformat": 4,
  "nbformat_minor": 0,
  "metadata": {
    "colab": {
      "provenance": [],
      "authorship_tag": "ABX9TyNzaNitUG5zYoVciw6dTAm/",
      "include_colab_link": true
    },
    "kernelspec": {
      "name": "python3",
      "display_name": "Python 3"
    },
    "language_info": {
      "name": "python"
    }
  },
  "cells": [
    {
      "cell_type": "markdown",
      "metadata": {
        "id": "view-in-github",
        "colab_type": "text"
      },
      "source": [
        "<a href=\"https://colab.research.google.com/github/ssook1222/1Day-1Algo/blob/master/ssook/24%EB%85%84/7%EC%9B%94/7%EC%9B%94%201%EC%A3%BC%EC%B0%A8/0706.ipynb\" target=\"_parent\"><img src=\"https://colab.research.google.com/assets/colab-badge.svg\" alt=\"Open In Colab\"/></a>"
      ]
    },
    {
      "cell_type": "markdown",
      "source": [
        "## BoJ"
      ],
      "metadata": {
        "id": "Qq_ZXkozpRpK"
      }
    },
    {
      "cell_type": "markdown",
      "source": [
        "### 2293"
      ],
      "metadata": {
        "id": "ewi9ueexpZha"
      }
    },
    {
      "cell_type": "code",
      "execution_count": null,
      "metadata": {
        "id": "lI7pzuVtpLyj"
      },
      "outputs": [],
      "source": [
        "n, k = map(int, input().split())\n",
        "coins = [int(input()) for _ in range(n)]\n",
        "\n",
        "ways = [0] * (k + 1)\n",
        "ways[0] = 1\n",
        "\n",
        "for coin in coins:\n",
        "    for amount in range(coin, k + 1):\n",
        "        ways[amount] += ways[amount - coin]\n",
        "\n",
        "print(ways[k])"
      ]
    },
    {
      "cell_type": "markdown",
      "source": [
        "### 2294"
      ],
      "metadata": {
        "id": "O8X0gB5lpaIU"
      }
    },
    {
      "cell_type": "code",
      "source": [
        "from sys import stdin\n",
        "\n",
        "n, k = map(int, stdin.readline().split())\n",
        "coins = []\n",
        "\n",
        "for _ in range(n):\n",
        "    coins.append(int(stdin.readline().rstrip()))\n",
        "\n",
        "min_coins = [10001] * (k + 1)\n",
        "min_coins[0] = 0\n",
        "\n",
        "for coin in coins:\n",
        "    for amount in range(coin, k + 1):\n",
        "        min_coins[amount] = min(min_coins[amount], min_coins[amount - coin] + 1)\n",
        "\n",
        "if min_coins[k] == 10001:\n",
        "    print(-1)\n",
        "else:\n",
        "    print(min_coins[k])"
      ],
      "metadata": {
        "id": "VMXYjmTFpbvI"
      },
      "execution_count": null,
      "outputs": []
    },
    {
      "cell_type": "markdown",
      "source": [
        "---"
      ],
      "metadata": {
        "id": "xreUBo8cpbOv"
      }
    },
    {
      "cell_type": "markdown",
      "source": [
        "## CodeTree"
      ],
      "metadata": {
        "id": "8bIIzwDApctk"
      }
    },
    {
      "cell_type": "markdown",
      "source": [
        "### 문장 출력 2"
      ],
      "metadata": {
        "id": "ibX4k0GbqqkK"
      }
    },
    {
      "cell_type": "code",
      "source": [
        "print('I Love CodeTree !')"
      ],
      "metadata": {
        "id": "K1fG8ZmKpa9T"
      },
      "execution_count": null,
      "outputs": []
    }
  ]
}