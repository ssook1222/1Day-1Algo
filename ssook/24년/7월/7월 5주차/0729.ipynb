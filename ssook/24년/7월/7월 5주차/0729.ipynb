{
  "nbformat": 4,
  "nbformat_minor": 0,
  "metadata": {
    "colab": {
      "provenance": [],
      "authorship_tag": "ABX9TyMTcC9XAEHRxm/eEHENiywi",
      "include_colab_link": true
    },
    "kernelspec": {
      "name": "python3",
      "display_name": "Python 3"
    },
    "language_info": {
      "name": "python"
    }
  },
  "cells": [
    {
      "cell_type": "markdown",
      "metadata": {
        "id": "view-in-github",
        "colab_type": "text"
      },
      "source": [
        "<a href=\"https://colab.research.google.com/github/ssook1222/1Day-1Algo/blob/master/ssook/24%EB%85%84/7%EC%9B%94/7%EC%9B%94%205%EC%A3%BC%EC%B0%A8/0729.ipynb\" target=\"_parent\"><img src=\"https://colab.research.google.com/assets/colab-badge.svg\" alt=\"Open In Colab\"/></a>"
      ]
    },
    {
      "cell_type": "markdown",
      "source": [
        "## BoJ"
      ],
      "metadata": {
        "id": "iY5jvaO6pkHN"
      }
    },
    {
      "cell_type": "markdown",
      "source": [
        "### 4179"
      ],
      "metadata": {
        "id": "fIBMDFWyplfR"
      }
    },
    {
      "cell_type": "code",
      "execution_count": null,
      "metadata": {
        "id": "J4T4BjN7pYQY"
      },
      "outputs": [],
      "source": [
        "from sys import stdin\n",
        "from collections import deque\n",
        "\n",
        "input = stdin.readline\n",
        "\n",
        "R, C = map(int, input().split())\n",
        "maze = []\n",
        "\n",
        "jihun_pos = []\n",
        "fire_pos = []\n",
        "for i in range(R):\n",
        "    row = list(input().strip())\n",
        "    for j in range(C):\n",
        "        if row[j] == \"J\":\n",
        "            jihun_pos.append((i, j))\n",
        "        elif row[j] == \"F\":\n",
        "            fire_pos.append((i, j))\n",
        "    maze.append(row)\n",
        "\n",
        "queue = deque()\n",
        "queue.append((jihun_pos[0][0], jihun_pos[0][1], \"J\"))\n",
        "maze[jihun_pos[0][0]][jihun_pos[0][1]] = 0\n",
        "\n",
        "if len(fire_pos) != 0:\n",
        "    for (r, c) in fire_pos:\n",
        "        queue.append((r, c, \"F\"))\n",
        "        maze[r][c] = \"#\"\n",
        "\n",
        "def bfs():\n",
        "    dx = [-1, 1, 0, 0]\n",
        "    dy = [0, 0, -1, 1]\n",
        "\n",
        "    while queue:\n",
        "        x, y, case = queue.popleft()\n",
        "\n",
        "        if case == \"J\" and (x == 0 or y == 0 or x == R - 1 or y == C - 1):\n",
        "            if maze[x][y] == \"#\":\n",
        "                continue\n",
        "            return maze[x][y] + 1\n",
        "\n",
        "        for i in range(4):\n",
        "            nx = x + dx[i]\n",
        "            ny = y + dy[i]\n",
        "\n",
        "            if 0 <= nx < R and 0 <= ny < C:\n",
        "                if maze[nx][ny] != \"#\" and case == \"F\":\n",
        "                    maze[nx][ny] = \"#\"\n",
        "                    queue.append((nx, ny, \"F\"))\n",
        "                elif maze[nx][ny] == \".\" and case == \"J\" and maze[x][y] != \"#\":\n",
        "                    maze[nx][ny] = maze[x][y] + 1\n",
        "                    queue.append((nx, ny, \"J\"))\n",
        "\n",
        "    return \"IMPOSSIBLE\"\n",
        "\n",
        "print(bfs())"
      ]
    },
    {
      "cell_type": "markdown",
      "source": [
        "### 2812"
      ],
      "metadata": {
        "id": "sWyim-Aspmai"
      }
    },
    {
      "cell_type": "code",
      "source": [
        "import sys\n",
        "input = sys.stdin.readline\n",
        "\n",
        "N, K = map(int, input().split())\n",
        "numbers = input().rstrip()\n",
        "stack = []\n",
        "\n",
        "for digit in numbers:\n",
        "    while stack and stack[-1] < digit and K > 0:\n",
        "        stack.pop()\n",
        "        K -= 1\n",
        "    stack.append(digit)\n",
        "\n",
        "if K > 0:\n",
        "    print(''.join(stack[:-K]))\n",
        "else:\n",
        "    print(''.join(stack))"
      ],
      "metadata": {
        "id": "pnMNFwb8pnID"
      },
      "execution_count": null,
      "outputs": []
    },
    {
      "cell_type": "markdown",
      "source": [
        "---"
      ],
      "metadata": {
        "id": "6iia27_npnYA"
      }
    },
    {
      "cell_type": "markdown",
      "source": [
        "## CodeTree"
      ],
      "metadata": {
        "id": "_3QKC-cUpohP"
      }
    },
    {
      "cell_type": "markdown",
      "source": [
        "### 두 정수값 비교"
      ],
      "metadata": {
        "id": "8-OF78xIppyB"
      }
    },
    {
      "cell_type": "code",
      "source": [
        "a, b = map(int, input().split())\n",
        "\n",
        "if a == b:\n",
        "    print(1)\n",
        "\n",
        "else:\n",
        "    print(0)\n",
        "\n",
        "if a == b:\n",
        "    print(0)\n",
        "\n",
        "else:\n",
        "    print(1)"
      ],
      "metadata": {
        "id": "LZ2R_O1jpqhX"
      },
      "execution_count": null,
      "outputs": []
    }
  ]
}