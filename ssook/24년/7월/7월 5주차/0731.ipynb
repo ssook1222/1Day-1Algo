{
  "nbformat": 4,
  "nbformat_minor": 0,
  "metadata": {
    "colab": {
      "provenance": [],
      "authorship_tag": "ABX9TyOZ5yOO+lQPJ3fdA0F1Wp1e",
      "include_colab_link": true
    },
    "kernelspec": {
      "name": "python3",
      "display_name": "Python 3"
    },
    "language_info": {
      "name": "python"
    }
  },
  "cells": [
    {
      "cell_type": "markdown",
      "metadata": {
        "id": "view-in-github",
        "colab_type": "text"
      },
      "source": [
        "<a href=\"https://colab.research.google.com/github/ssook1222/1Day-1Algo/blob/master/ssook/24%EB%85%84/7%EC%9B%94/7%EC%9B%94%205%EC%A3%BC%EC%B0%A8/0731.ipynb\" target=\"_parent\"><img src=\"https://colab.research.google.com/assets/colab-badge.svg\" alt=\"Open In Colab\"/></a>"
      ]
    },
    {
      "cell_type": "markdown",
      "source": [
        "## BoJ"
      ],
      "metadata": {
        "id": "eB-6yR0_cfHH"
      }
    },
    {
      "cell_type": "markdown",
      "source": [
        "### 17070"
      ],
      "metadata": {
        "id": "v2JopBc2ciM6"
      }
    },
    {
      "cell_type": "code",
      "execution_count": null,
      "metadata": {
        "id": "B2Kcq_CRYV6R"
      },
      "outputs": [],
      "source": [
        "def solution():\n",
        "    dp[0][0][1] = 1\n",
        "\n",
        "    for c in range(2, N):\n",
        "        if board[0][c] == 0:\n",
        "            dp[0][0][c] = dp[0][0][c - 1]\n",
        "\n",
        "    for r in range(1, N):\n",
        "        for c in range(1, N):\n",
        "\n",
        "            if board[r][c] == 0 and board[r][c - 1] == 0 and board[r - 1][c] == 0:\n",
        "                dp[1][r][c] = dp[0][r - 1][c - 1] + dp[1][r - 1][c - 1] + dp[2][r - 1][c - 1]\n",
        "\n",
        "            if board[r][c] == 0:\n",
        "                dp[0][r][c] = dp[0][r][c - 1] + dp[1][r][c - 1]\n",
        "                dp[2][r][c] = dp[2][r - 1][c] + dp[1][r - 1][c]\n",
        "\n",
        "    print(sum(dp[i][N - 1][N - 1] for i in range(3)))\n",
        "\n",
        "\n",
        "N = int(input())\n",
        "board = [list(map(int, input().split())) for _ in range(N)]\n",
        "dp = [[[0 for _ in range(N)] for _ in range(N)] for _ in range(3)]\n",
        "solution()\n"
      ]
    },
    {
      "cell_type": "markdown",
      "source": [
        "### 9205"
      ],
      "metadata": {
        "id": "CUVMNvJfckPK"
      }
    },
    {
      "cell_type": "code",
      "source": [
        "from collections import deque\n",
        "\n",
        "def can_reach_festival():\n",
        "    q = deque()\n",
        "    q.append((home_x, home_y))\n",
        "\n",
        "    while q:\n",
        "        x, y = q.popleft()\n",
        "\n",
        "        if abs(x - festival_x) + abs(y - festival_y) <= 1000:\n",
        "            print('happy')\n",
        "            return\n",
        "\n",
        "        for i in range(n):\n",
        "            if not visited[i]:\n",
        "                new_x, new_y = graph[i]\n",
        "                if abs(x - new_x) + abs(y - new_y) <= 1000:\n",
        "                    visited[i] = 1\n",
        "                    q.append((new_x, new_y))\n",
        "\n",
        "    print('sad')\n",
        "\n",
        "t = int(input())\n",
        "for _ in range(t):\n",
        "    n = int(input())\n",
        "    home_x, home_y = map(int, input().split())\n",
        "    graph = []\n",
        "\n",
        "    for _ in range(n):\n",
        "        x, y = map(int, input().split())\n",
        "        graph.append((x, y))\n",
        "\n",
        "    festival_x, festival_y = map(int, input().split())\n",
        "    visited = [0] * n\n",
        "    can_reach_festival()"
      ],
      "metadata": {
        "id": "JKN2kAv7clAR"
      },
      "execution_count": null,
      "outputs": []
    },
    {
      "cell_type": "markdown",
      "source": [
        "---"
      ],
      "metadata": {
        "id": "K7kGCnmcclTi"
      }
    },
    {
      "cell_type": "markdown",
      "source": [
        "## CodeTree"
      ],
      "metadata": {
        "id": "zzzW7QAZclsI"
      }
    },
    {
      "cell_type": "markdown",
      "source": [
        "### 이모티콘 출력\n"
      ],
      "metadata": {
        "id": "J6vHZrXYcnBR"
      }
    },
    {
      "cell_type": "code",
      "source": [
        "print(\"(*´∪`)\")\n",
        "print(\"(^・ω・^)\")\n",
        "print(\"(=^･^=)\")"
      ],
      "metadata": {
        "id": "zlPY96DFcnq4"
      },
      "execution_count": null,
      "outputs": []
    }
  ]
}