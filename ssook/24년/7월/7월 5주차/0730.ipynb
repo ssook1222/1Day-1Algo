{
  "nbformat": 4,
  "nbformat_minor": 0,
  "metadata": {
    "colab": {
      "provenance": [],
      "authorship_tag": "ABX9TyPmrD3jIR9C4SuW18mAqgei",
      "include_colab_link": true
    },
    "kernelspec": {
      "name": "python3",
      "display_name": "Python 3"
    },
    "language_info": {
      "name": "python"
    }
  },
  "cells": [
    {
      "cell_type": "markdown",
      "metadata": {
        "id": "view-in-github",
        "colab_type": "text"
      },
      "source": [
        "<a href=\"https://colab.research.google.com/github/ssook1222/1Day-1Algo/blob/master/ssook/24%EB%85%84/7%EC%9B%94/7%EC%9B%94%205%EC%A3%BC%EC%B0%A8/0730.ipynb\" target=\"_parent\"><img src=\"https://colab.research.google.com/assets/colab-badge.svg\" alt=\"Open In Colab\"/></a>"
      ]
    },
    {
      "cell_type": "markdown",
      "source": [
        "## BoJ"
      ],
      "metadata": {
        "id": "LYFQ0bbUYdLD"
      }
    },
    {
      "cell_type": "markdown",
      "source": [
        "### 12865"
      ],
      "metadata": {
        "id": "a_0HaobSYeuu"
      }
    },
    {
      "cell_type": "code",
      "execution_count": null,
      "metadata": {
        "id": "H6tI_jKSYPPQ"
      },
      "outputs": [],
      "source": [
        "import sys\n",
        "input = sys.stdin.readline\n",
        "\n",
        "N, K = map(int, input().split())\n",
        "items = [list(map(int, input().split())) for _ in range(N)]\n",
        "dp = [[0]*(K+1) for _ in range(N+1)]\n",
        "\n",
        "for i in range(1, N+1):\n",
        "    for j in range(1, K+1):\n",
        "        if j >= items[i-1][0]:\n",
        "            dp[i][j] = max(items[i-1][1] + dp[i-1][j-items[i-1][0]], dp[i-1][j])\n",
        "        else:\n",
        "            dp[i][j] = dp[i-1][j]\n",
        "\n",
        "print(dp[N][K])"
      ]
    },
    {
      "cell_type": "markdown",
      "source": [
        "### 1107"
      ],
      "metadata": {
        "id": "Mky6mLY0YfjV"
      }
    },
    {
      "cell_type": "code",
      "source": [
        "import sys\n",
        "input = sys.stdin.readline\n",
        "target = int(input())\n",
        "n = int(input())\n",
        "broken_buttons = list(map(int, input().split()))\n",
        "\n",
        "min_press = abs(100 - target)\n",
        "\n",
        "for number in range(1000001):\n",
        "    number_str = str(number)\n",
        "    can_use = True\n",
        "\n",
        "    for digit in number_str:\n",
        "        if int(digit) in broken_buttons:\n",
        "            can_use = False\n",
        "            break\n",
        "\n",
        "    if can_use:\n",
        "        min_press = min(min_press, abs(int(number_str) - target) + len(number_str))\n",
        "\n",
        "print(min_press)"
      ],
      "metadata": {
        "id": "o_kuMY0iYgSs"
      },
      "execution_count": null,
      "outputs": []
    },
    {
      "cell_type": "markdown",
      "source": [
        "---"
      ],
      "metadata": {
        "id": "DP-PoBteYgq1"
      }
    },
    {
      "cell_type": "markdown",
      "source": [
        "## CodeTree"
      ],
      "metadata": {
        "id": "9hjPZJ1nYhU3"
      }
    },
    {
      "cell_type": "markdown",
      "source": [
        "### 정수와 실수의 곱셈"
      ],
      "metadata": {
        "id": "P_jBgxsnYiwZ"
      }
    },
    {
      "cell_type": "code",
      "source": [
        "print('9 * 358.273 = 3224.457')"
      ],
      "metadata": {
        "id": "6EhdCgOUYk6-"
      },
      "execution_count": null,
      "outputs": []
    }
  ]
}