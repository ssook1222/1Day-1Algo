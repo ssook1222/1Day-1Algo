{
  "nbformat": 4,
  "nbformat_minor": 0,
  "metadata": {
    "colab": {
      "provenance": [],
      "authorship_tag": "ABX9TyMkrA5/mXIv6bxIuVOOKtd1",
      "include_colab_link": true
    },
    "kernelspec": {
      "name": "python3",
      "display_name": "Python 3"
    },
    "language_info": {
      "name": "python"
    }
  },
  "cells": [
    {
      "cell_type": "markdown",
      "metadata": {
        "id": "view-in-github",
        "colab_type": "text"
      },
      "source": [
        "<a href=\"https://colab.research.google.com/github/ssook1222/1Day-1Algo/blob/master/ssook/24%EB%85%84/12%EC%9B%94/12%EC%9B%94%205%EC%A3%BC%EC%B0%A8/1230.ipynb\" target=\"_parent\"><img src=\"https://colab.research.google.com/assets/colab-badge.svg\" alt=\"Open In Colab\"/></a>"
      ]
    },
    {
      "cell_type": "markdown",
      "source": [
        "## BoJ"
      ],
      "metadata": {
        "id": "gdcJTq6oA8Sd"
      }
    },
    {
      "cell_type": "markdown",
      "source": [
        "### 1060"
      ],
      "metadata": {
        "id": "elTVdl1UA-Ws"
      }
    },
    {
      "cell_type": "code",
      "source": [
        "import sys\n",
        "from collections import deque\n",
        "import heapq\n",
        "import copy\n",
        "# input=sys.stdin.readline\n",
        "# sys.setrecursionlimit(100000000)\n",
        "\n",
        "length = int(input())\n",
        "integer_set = list(map(int, input().split()))\n",
        "integer_set.sort()\n",
        "count = int(input())\n",
        "intervals = []\n",
        "result = []\n",
        "good_intervals_count = 0\n",
        "\n",
        "if integer_set[0] == 2:\n",
        "    result.append([0, 1])\n",
        "elif integer_set[0] > 2:\n",
        "    intervals.append([integer_set[0] - 1, 1])\n",
        "    good_intervals_count += 1\n",
        "\n",
        "for i in range(length - 1):\n",
        "    if integer_set[i + 1] - integer_set[i] - 1 == 1:\n",
        "        result.append([0, integer_set[i] + 1])\n",
        "    else:\n",
        "        intervals.append([integer_set[i + 1] - integer_set[i] - 1, integer_set[i] + 1])\n",
        "        good_intervals_count += 1\n",
        "\n",
        "intervals.sort()\n",
        "\n",
        "for num in integer_set:\n",
        "    result.append([0, num])\n",
        "\n",
        "for interval_length, start in intervals:\n",
        "    p = 0\n",
        "    half_length = interval_length // 2\n",
        "    k = 0\n",
        "    while p < half_length and k < count:\n",
        "        m = 0\n",
        "        if p > 1:\n",
        "            m = sum(range(p))\n",
        "        result.append([sum(range(interval_length - 1, interval_length - p - 2, -1)) - m, start + p])\n",
        "        result.append([sum(range(interval_length - 1, interval_length - p - 2, -1)) - m, start + interval_length - 1 - p])\n",
        "        k += 2\n",
        "        p += 1\n",
        "    if interval_length % 2:\n",
        "        m = 0\n",
        "        if p > 1:\n",
        "            m = sum(range(p))\n",
        "        result.append([sum(range(interval_length - 1, interval_length - p - 2, -1)) - m, start + p])\n",
        "\n",
        "result.sort()\n",
        "total = len(result)\n",
        "k = 1\n",
        "while total < count:\n",
        "    result.append([0, integer_set[length - 1] + k])\n",
        "    total += 1\n",
        "    k += 1\n",
        "\n",
        "for i in range(count):\n",
        "    print(result[i][1], end='')\n",
        "    if i != count - 1:\n",
        "        print(end=' ')"
      ],
      "metadata": {
        "id": "lt7YxfyTA-2h"
      },
      "execution_count": null,
      "outputs": []
    },
    {
      "cell_type": "markdown",
      "source": [
        "## 프로그래머스"
      ],
      "metadata": {
        "id": "IswKv_5_A_NX"
      }
    },
    {
      "cell_type": "markdown",
      "source": [
        "### 제곱수 판별하기"
      ],
      "metadata": {
        "id": "s8NQq13dBAaW"
      }
    },
    {
      "cell_type": "code",
      "source": [
        "import math\n",
        "def solution(n):\n",
        "    if (math.sqrt(n)) % 1 == 0:\n",
        "        return 1\n",
        "    return 2"
      ],
      "metadata": {
        "id": "oe0xmS7ABBGp"
      },
      "execution_count": null,
      "outputs": []
    }
  ]
}