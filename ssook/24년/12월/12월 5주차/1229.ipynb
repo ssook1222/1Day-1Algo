{
  "nbformat": 4,
  "nbformat_minor": 0,
  "metadata": {
    "colab": {
      "provenance": [],
      "authorship_tag": "ABX9TyNj0D/wb01uvrB8ftEmRtQl",
      "include_colab_link": true
    },
    "kernelspec": {
      "name": "python3",
      "display_name": "Python 3"
    },
    "language_info": {
      "name": "python"
    }
  },
  "cells": [
    {
      "cell_type": "markdown",
      "metadata": {
        "id": "view-in-github",
        "colab_type": "text"
      },
      "source": [
        "<a href=\"https://colab.research.google.com/github/ssook1222/1Day-1Algo/blob/master/ssook/24%EB%85%84/12%EC%9B%94/12%EC%9B%94%205%EC%A3%BC%EC%B0%A8/1229.ipynb\" target=\"_parent\"><img src=\"https://colab.research.google.com/assets/colab-badge.svg\" alt=\"Open In Colab\"/></a>"
      ]
    },
    {
      "cell_type": "markdown",
      "source": [
        "## BoJ"
      ],
      "metadata": {
        "id": "cWLKDZvmNAfZ"
      }
    },
    {
      "cell_type": "markdown",
      "source": [
        "### 15684"
      ],
      "metadata": {
        "id": "KwbYQyHlNCIJ"
      }
    },
    {
      "cell_type": "code",
      "source": [
        "import sys\n",
        "N,M,H = map(int, sys.stdin.readline().split())\n",
        "sadari = [[0] * N for _ in range(H)]\n",
        "for i in range(M):\n",
        "    a,b = map(int, sys.stdin.readline().split())\n",
        "    sadari[a-1][b-1] = 1\n",
        "\n",
        "def bebero():\n",
        "    for i in range(N):\n",
        "        start_num = i\n",
        "        for j in range(H):\n",
        "            if sadari[j][start_num]==1:\n",
        "                start_num += 1\n",
        "            elif start_num>0 and sadari[j][start_num-1] == 1:\n",
        "                start_num -= 1\n",
        "        if i != start_num:\n",
        "            return False\n",
        "    return True\n",
        "def dfs(cnt, x, y):\n",
        "    global answer\n",
        "    if answer <= cnt:\n",
        "        return\n",
        "    if bebero():\n",
        "        answer = min(answer, cnt)\n",
        "        return\n",
        "    if cnt == 3:\n",
        "        return\n",
        "    for i in range(x, H):\n",
        "        for j in range(0, N - 1):\n",
        "            if sadari[i][j] == 0:\n",
        "                sadari[i][j] = 1\n",
        "                dfs(cnt + 1, i, j + 2)\n",
        "                sadari[i][j] = 0\n",
        "answer = 4\n",
        "dfs(0,0,0)\n",
        "if answer>3:\n",
        "    answer = -1\n",
        "print(answer)"
      ],
      "metadata": {
        "id": "xfgegPqFNDHc"
      },
      "execution_count": null,
      "outputs": []
    },
    {
      "cell_type": "markdown",
      "source": [
        "## CodeTree"
      ],
      "metadata": {
        "id": "mU1784aONDXX"
      }
    },
    {
      "cell_type": "markdown",
      "source": [
        "### 왼쪽 오른쪽"
      ],
      "metadata": {
        "id": "iMiwnvr5NEbW"
      }
    },
    {
      "cell_type": "code",
      "source": [
        "def solution(str_list):\n",
        "    answer = []\n",
        "\n",
        "    for i in range(len(str_list)):\n",
        "        if str_list[i] == 'l':\n",
        "            answer = str_list[:i]\n",
        "            break\n",
        "        elif str_list[i] == 'r':\n",
        "            answer = str_list[i+1:]\n",
        "            break\n",
        "        elif 'l' not in str_list and 'r' not in str_list:\n",
        "            answer = []\n",
        "\n",
        "    return answer"
      ],
      "metadata": {
        "id": "6L7LBO3pNFWZ"
      },
      "execution_count": null,
      "outputs": []
    }
  ]
}