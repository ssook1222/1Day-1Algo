{
  "nbformat": 4,
  "nbformat_minor": 0,
  "metadata": {
    "colab": {
      "provenance": [],
      "authorship_tag": "ABX9TyNFuOys6yHtvFMwdqkld+CR",
      "include_colab_link": true
    },
    "kernelspec": {
      "name": "python3",
      "display_name": "Python 3"
    },
    "language_info": {
      "name": "python"
    }
  },
  "cells": [
    {
      "cell_type": "markdown",
      "metadata": {
        "id": "view-in-github",
        "colab_type": "text"
      },
      "source": [
        "<a href=\"https://colab.research.google.com/github/ssook1222/1Day-1Algo/blob/master/ssook/24%EB%85%84/12%EC%9B%94/12%EC%9B%94%205%EC%A3%BC%EC%B0%A8/1231.ipynb\" target=\"_parent\"><img src=\"https://colab.research.google.com/assets/colab-badge.svg\" alt=\"Open In Colab\"/></a>"
      ]
    },
    {
      "cell_type": "markdown",
      "source": [
        "## BoJ"
      ],
      "metadata": {
        "id": "gdcJTq6oA8Sd"
      }
    },
    {
      "cell_type": "markdown",
      "source": [
        "### 20119"
      ],
      "metadata": {
        "id": "elTVdl1UA-Ws"
      }
    },
    {
      "cell_type": "code",
      "source": [
        "import sys\n",
        "from dataclasses import dataclass, field\n",
        "from collections import deque\n",
        "from typing import List\n",
        "\n",
        "# 물약 데이터 클래스\n",
        "@dataclass\n",
        "class Potion:\n",
        "    number: int = None\n",
        "    connections: List[int] = field(default_factory=list)\n",
        "    recipes: List[int] = field(default_factory=list)\n",
        "    indegrees: List[int] = field(default_factory=list)\n",
        "    is_available: bool = False\n",
        "\n",
        "\n",
        "input = sys.stdin.readline\n",
        "\n",
        "num_potions, num_recipes = map(int, input().split())\n",
        "result = []\n",
        "potion_list = [Potion() for _ in range(num_potions + 1)]\n",
        "\n",
        "for _ in range(num_recipes):\n",
        "    k, *ingredients, result_potion = map(int, input().split())\n",
        "    for ingredient in ingredients:\n",
        "        potion_list[ingredient].connections.append(result_potion)\n",
        "    # 포션 레시피 추가 및 진입 차수 저장\n",
        "    potion_list[result_potion].recipes.append(ingredients)\n",
        "    potion_list[result_potion].indegrees.append(len(ingredients))\n",
        "\n",
        "num_initial = int(input())\n",
        "\n",
        "# 현재 가지고 있는 포션 처리\n",
        "initial_potions = map(int, input().split())\n",
        "for potion in initial_potions:\n",
        "    potion_list[potion].is_available = True\n",
        "    potion_list[potion].number = potion\n",
        "    result.append(potion)\n",
        "\n",
        "queue = deque()\n",
        "\n",
        "for potion in result:\n",
        "    queue.append(potion_list[potion])\n",
        "\n",
        "while queue:\n",
        "    current_potion = queue.popleft()\n",
        "    current_number = current_potion.number\n",
        "    # 현재 포션과 연결된 포션 탐색\n",
        "    for next_potion in current_potion.connections:\n",
        "        if potion_list[next_potion].is_available:\n",
        "            continue\n",
        "        for recipe_index in range(len(potion_list[next_potion].recipes)):\n",
        "            if potion_list[next_potion].is_available:\n",
        "                break\n",
        "            for ingredient_index in range(len(potion_list[next_potion].recipes[recipe_index])):\n",
        "                if current_number == potion_list[next_potion].recipes[recipe_index][ingredient_index]:\n",
        "                    potion_list[next_potion].recipes[recipe_index][ingredient_index] = -1\n",
        "                    potion_list[next_potion].indegrees[recipe_index] -= 1\n",
        "                    if potion_list[next_potion].indegrees[recipe_index] == 0:\n",
        "                        potion_list[next_potion].is_available = True\n",
        "                        break\n",
        "\n",
        "        if potion_list[next_potion].is_available:\n",
        "            result.append(next_potion)\n",
        "            potion_list[next_potion].number = next_potion\n",
        "            queue.append(potion_list[next_potion])\n",
        "\n",
        "result.sort()\n",
        "print(len(result))\n",
        "print(*result, end=\" \")"
      ],
      "metadata": {
        "id": "lt7YxfyTA-2h"
      },
      "execution_count": null,
      "outputs": []
    },
    {
      "cell_type": "markdown",
      "source": [
        "## 프로그래머스"
      ],
      "metadata": {
        "id": "IswKv_5_A_NX"
      }
    },
    {
      "cell_type": "markdown",
      "source": [
        "### 배열 두배 만들기"
      ],
      "metadata": {
        "id": "s8NQq13dBAaW"
      }
    },
    {
      "cell_type": "code",
      "source": [
        "def solution(numbers):\n",
        "    for i in range(len(numbers)):\n",
        "        numbers[i] = numbers[i] * 2\n",
        "    return numbers"
      ],
      "metadata": {
        "id": "oe0xmS7ABBGp"
      },
      "execution_count": null,
      "outputs": []
    }
  ]
}