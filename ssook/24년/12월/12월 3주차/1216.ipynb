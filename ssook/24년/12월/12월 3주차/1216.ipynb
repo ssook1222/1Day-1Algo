{
  "nbformat": 4,
  "nbformat_minor": 0,
  "metadata": {
    "colab": {
      "provenance": [],
      "authorship_tag": "ABX9TyPM0uuMs15luMxOA63Jh3ir",
      "include_colab_link": true
    },
    "kernelspec": {
      "name": "python3",
      "display_name": "Python 3"
    },
    "language_info": {
      "name": "python"
    }
  },
  "cells": [
    {
      "cell_type": "markdown",
      "metadata": {
        "id": "view-in-github",
        "colab_type": "text"
      },
      "source": [
        "<a href=\"https://colab.research.google.com/github/ssook1222/1Day-1Algo/blob/master/ssook/24%EB%85%84/12%EC%9B%94/12%EC%9B%94%203%EC%A3%BC%EC%B0%A8/1216.ipynb\" target=\"_parent\"><img src=\"https://colab.research.google.com/assets/colab-badge.svg\" alt=\"Open In Colab\"/></a>"
      ]
    },
    {
      "cell_type": "markdown",
      "source": [
        "## BoJ"
      ],
      "metadata": {
        "id": "dp2IDwJQHqrO"
      }
    },
    {
      "cell_type": "markdown",
      "source": [
        "### 14501"
      ],
      "metadata": {
        "id": "8N47auV6Hsul"
      }
    },
    {
      "cell_type": "code",
      "source": [
        "N = int(input())\n",
        "li = [list(map(int, input().split())) for _ in range(N)]\n",
        "dp = [0 for _ in range(N+1)]\n",
        "\n",
        "for i in range(N-1, -1, -1):\n",
        "    if i + li[i][0] > N:\n",
        "        dp[i] = dp[i+1]\n",
        "    else:\n",
        "        dp[i] = max(dp[i+1], li[i][1] + dp[i + li[i][0]])\n",
        "\n",
        "print(dp[0]"
      ],
      "metadata": {
        "id": "ym5oXq-2HtRC"
      },
      "execution_count": null,
      "outputs": []
    },
    {
      "cell_type": "markdown",
      "source": [
        "## Programmers"
      ],
      "metadata": {
        "id": "-SQ-zeULHtsi"
      }
    },
    {
      "cell_type": "markdown",
      "source": [
        "### 안전지대"
      ],
      "metadata": {
        "id": "BBwaT4dSHu5q"
      }
    },
    {
      "cell_type": "code",
      "source": [
        "def solution(board):\n",
        "    n = len(board) # 배열의 크기\n",
        "    safe_count = 0 # 안전한 지역의 칸 수\n",
        "\n",
        "    # 8방향 이동을 위한 방향 벡터\n",
        "    dx = [-1, 1, 0, 0, -1, -1, 1, 1]\n",
        "    dy = [0, 0, -1, 1, -1, 1, -1, 1]\n",
        "\n",
        "    # 배열 순회\n",
        "    for i in range(n):\n",
        "        for j in range(n):\n",
        "            if board[i][j] == 1: # 현재 위치가 지뢰가 있는 지역인 경우\n",
        "                continue\n",
        "\n",
        "            is_safe = True # 현재 위치가 안전한 지역인지 확인하기 위한 변수\n",
        "\n",
        "            # 인접한 8방향을 검사\n",
        "            for k in range(8):\n",
        "                nx = i + dx[k]\n",
        "                ny = j + dy[k]\n",
        "\n",
        "                # 배열 범위를 벗어나면 다음 방향으로 이동\n",
        "                if nx < 0 or nx >= n or ny < 0 or ny >= n:\n",
        "                    continue\n",
        "\n",
        "                if board[nx][ny] == 1: # 인접한 위치에 지뢰가 있는 경우\n",
        "                    is_safe = False\n",
        "                    break\n",
        "\n",
        "            if is_safe:\n",
        "                safe_count += 1\n",
        "\n",
        "    return safe_count\n"
      ],
      "metadata": {
        "id": "3SAB70f8Hvla"
      },
      "execution_count": null,
      "outputs": []
    }
  ]
}