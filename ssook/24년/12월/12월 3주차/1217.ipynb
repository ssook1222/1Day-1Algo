{
  "nbformat": 4,
  "nbformat_minor": 0,
  "metadata": {
    "colab": {
      "provenance": [],
      "authorship_tag": "ABX9TyMC5k7XoLloYPM6GegyFeNX",
      "include_colab_link": true
    },
    "kernelspec": {
      "name": "python3",
      "display_name": "Python 3"
    },
    "language_info": {
      "name": "python"
    }
  },
  "cells": [
    {
      "cell_type": "markdown",
      "metadata": {
        "id": "view-in-github",
        "colab_type": "text"
      },
      "source": [
        "<a href=\"https://colab.research.google.com/github/ssook1222/1Day-1Algo/blob/master/ssook/24%EB%85%84/12%EC%9B%94/12%EC%9B%94%203%EC%A3%BC%EC%B0%A8/1217.ipynb\" target=\"_parent\"><img src=\"https://colab.research.google.com/assets/colab-badge.svg\" alt=\"Open In Colab\"/></a>"
      ]
    },
    {
      "cell_type": "markdown",
      "source": [
        "## BoJ"
      ],
      "metadata": {
        "id": "dp2IDwJQHqrO"
      }
    },
    {
      "cell_type": "markdown",
      "source": [
        "### 2193"
      ],
      "metadata": {
        "id": "8N47auV6Hsul"
      }
    },
    {
      "cell_type": "code",
      "source": [
        "n = int(input())\n",
        "\n",
        "if n == 1:\n",
        "\tprint(1)\n",
        "\n",
        "else:\n",
        "\tdp = [0] * n\n",
        "\tdp[0] = 1\n",
        "\tdp[1] = 1\n",
        "\tfor i in range(2, n):\n",
        "\t\tdp[i] = dp[i - 2] + dp[i - 1]\n",
        "\tprint(dp[n - 1])"
      ],
      "metadata": {
        "id": "ym5oXq-2HtRC"
      },
      "execution_count": null,
      "outputs": []
    },
    {
      "cell_type": "markdown",
      "source": [
        "## Programmers"
      ],
      "metadata": {
        "id": "-SQ-zeULHtsi"
      }
    },
    {
      "cell_type": "markdown",
      "source": [
        "### 등수 매기기"
      ],
      "metadata": {
        "id": "BBwaT4dSHu5q"
      }
    },
    {
      "cell_type": "code",
      "source": [
        "def solution(score):\n",
        "    n = len(score)\n",
        "    rank = [1] * n\n",
        "\n",
        "    for i in range(n):\n",
        "        avg = sum(score[i]) / 2\n",
        "        for j in range(n):\n",
        "            if i != j:\n",
        "                compare_avg = sum(score[j]) / 2\n",
        "                if avg < compare_avg:\n",
        "                    rank[i] += 1\n",
        "    return rank"
      ],
      "metadata": {
        "id": "3SAB70f8Hvla"
      },
      "execution_count": null,
      "outputs": []
    }
  ]
}