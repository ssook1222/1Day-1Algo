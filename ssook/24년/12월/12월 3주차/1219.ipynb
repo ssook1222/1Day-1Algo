{
  "nbformat": 4,
  "nbformat_minor": 0,
  "metadata": {
    "colab": {
      "provenance": [],
      "authorship_tag": "ABX9TyMroxDzpsKEoREgst0TVm6+",
      "include_colab_link": true
    },
    "kernelspec": {
      "name": "python3",
      "display_name": "Python 3"
    },
    "language_info": {
      "name": "python"
    }
  },
  "cells": [
    {
      "cell_type": "markdown",
      "metadata": {
        "id": "view-in-github",
        "colab_type": "text"
      },
      "source": [
        "<a href=\"https://colab.research.google.com/github/ssook1222/1Day-1Algo/blob/master/ssook/24%EB%85%84/12%EC%9B%94/12%EC%9B%94%203%EC%A3%BC%EC%B0%A8/1219.ipynb\" target=\"_parent\"><img src=\"https://colab.research.google.com/assets/colab-badge.svg\" alt=\"Open In Colab\"/></a>"
      ]
    },
    {
      "cell_type": "markdown",
      "source": [
        "## BoJ"
      ],
      "metadata": {
        "id": "dp2IDwJQHqrO"
      }
    },
    {
      "cell_type": "markdown",
      "source": [
        "### 9465"
      ],
      "metadata": {
        "id": "8N47auV6Hsul"
      }
    },
    {
      "cell_type": "code",
      "source": [
        "import sys\n",
        "input = sys.stdin.readline\n",
        "\n",
        "T = int(input())\n",
        "for _ in range(T):\n",
        "    N = int(input())\n",
        "    arr = [list(map(int, input().split())) for _ in range(2)]\n",
        "\n",
        "    DP = [[0] * N for _ in range(2)]\n",
        "\n",
        "    DP[0][0] = arr[0][0]\n",
        "    DP[1][0] = arr[1][0]\n",
        "    if N == 1:\n",
        "        print(max(DP[0][0], DP[1][0]))\n",
        "        continue\n",
        "\n",
        "    DP[0][1] = arr[1][0] + arr[0][1]\n",
        "    DP[1][1] = arr[0][0] + arr[1][1]\n",
        "    if N == 2:\n",
        "        print(max(DP[0][1], DP[1][1]))\n",
        "        continue\n",
        "\n",
        "    for i in range(2, N):\n",
        "        DP[0][i] = max(DP[1][i - 2], DP[1][i - 1]) + arr[0][i]\n",
        "        DP[1][i] = max(DP[0][i - 2], DP[0][i - 1]) + arr[1][i]\n",
        "\n",
        "    print(max(DP[0][-1], DP[1][-1]))"
      ],
      "metadata": {
        "id": "ym5oXq-2HtRC"
      },
      "execution_count": null,
      "outputs": []
    },
    {
      "cell_type": "markdown",
      "source": [
        "## Programmers"
      ],
      "metadata": {
        "id": "-SQ-zeULHtsi"
      }
    },
    {
      "cell_type": "markdown",
      "source": [
        "### 유한소수 판별하기"
      ],
      "metadata": {
        "id": "BBwaT4dSHu5q"
      }
    },
    {
      "cell_type": "code",
      "source": [
        "import math\n",
        "\n",
        "def solution(a, b):\n",
        "    answer = 1\n",
        "\n",
        "    #기약분수\n",
        "    gcd = math.gcd(a,b)\n",
        "    a, b = a//gcd, b//gcd\n",
        "\n",
        "    if a != b:\n",
        "        num = []\n",
        "        for i in range(2, b+1):\n",
        "            while b % i == 0:\n",
        "                b //= i\n",
        "                num.append(i)\n",
        "\n",
        "    if all(x in (2,5) for x in num):\n",
        "        pass\n",
        "    else:\n",
        "        answer = 2\n",
        "\n",
        "    return answer"
      ],
      "metadata": {
        "id": "3SAB70f8Hvla"
      },
      "execution_count": null,
      "outputs": []
    }
  ]
}