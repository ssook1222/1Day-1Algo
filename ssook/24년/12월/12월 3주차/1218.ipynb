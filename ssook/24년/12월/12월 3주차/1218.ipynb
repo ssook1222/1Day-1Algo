{
  "nbformat": 4,
  "nbformat_minor": 0,
  "metadata": {
    "colab": {
      "provenance": [],
      "authorship_tag": "ABX9TyPs9Unnt/qPVopBS2L4pyn/",
      "include_colab_link": true
    },
    "kernelspec": {
      "name": "python3",
      "display_name": "Python 3"
    },
    "language_info": {
      "name": "python"
    }
  },
  "cells": [
    {
      "cell_type": "markdown",
      "metadata": {
        "id": "view-in-github",
        "colab_type": "text"
      },
      "source": [
        "<a href=\"https://colab.research.google.com/github/ssook1222/1Day-1Algo/blob/master/ssook/24%EB%85%84/12%EC%9B%94/12%EC%9B%94%203%EC%A3%BC%EC%B0%A8/1218.ipynb\" target=\"_parent\"><img src=\"https://colab.research.google.com/assets/colab-badge.svg\" alt=\"Open In Colab\"/></a>"
      ]
    },
    {
      "cell_type": "markdown",
      "source": [
        "## BoJ"
      ],
      "metadata": {
        "id": "dp2IDwJQHqrO"
      }
    },
    {
      "cell_type": "markdown",
      "source": [
        "### 1904"
      ],
      "metadata": {
        "id": "8N47auV6Hsul"
      }
    },
    {
      "cell_type": "code",
      "source": [
        "import sys\n",
        "input = sys.stdin.readline\n",
        "\n",
        "n = int(input())\n",
        "dp = [0] * 1000001\n",
        "dp[1] = 1\n",
        "dp[2] = 2\n",
        "\n",
        "for k in range(3,n+1):\n",
        "    dp[k] = (dp[k-1]+ dp[k-2])%15746\n",
        "print(dp[n])"
      ],
      "metadata": {
        "id": "ym5oXq-2HtRC"
      },
      "execution_count": null,
      "outputs": []
    },
    {
      "cell_type": "markdown",
      "source": [
        "## Programmers"
      ],
      "metadata": {
        "id": "-SQ-zeULHtsi"
      }
    },
    {
      "cell_type": "markdown",
      "source": [
        "### 저주의 숫자"
      ],
      "metadata": {
        "id": "BBwaT4dSHu5q"
      }
    },
    {
      "cell_type": "code",
      "source": [
        "def solution(n):\n",
        "    answer = 0\n",
        "\n",
        "    natural_num = [i for i in range(1, 230)]\n",
        "    num = []\n",
        "\n",
        "    for i in range(len(natural_num)):\n",
        "        if natural_num[i] % 3 != 0 and natural_num[i] % 10 != 3 and (natural_num[i] < 30 or natural_num[i] >=40) and (natural_num[i] < 130 or natural_num[i] >=140):\n",
        "            num.append(natural_num[i])\n",
        "\n",
        "    answer = num[n-1]\n",
        "\n",
        "    return answer"
      ],
      "metadata": {
        "id": "3SAB70f8Hvla"
      },
      "execution_count": null,
      "outputs": []
    }
  ]
}