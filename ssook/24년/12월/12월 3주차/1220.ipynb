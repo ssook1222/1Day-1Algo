{
  "nbformat": 4,
  "nbformat_minor": 0,
  "metadata": {
    "colab": {
      "provenance": [],
      "authorship_tag": "ABX9TyNgDGG0dNezrHSAR4BXDdfY",
      "include_colab_link": true
    },
    "kernelspec": {
      "name": "python3",
      "display_name": "Python 3"
    },
    "language_info": {
      "name": "python"
    }
  },
  "cells": [
    {
      "cell_type": "markdown",
      "metadata": {
        "id": "view-in-github",
        "colab_type": "text"
      },
      "source": [
        "<a href=\"https://colab.research.google.com/github/ssook1222/1Day-1Algo/blob/master/ssook/24%EB%85%84/12%EC%9B%94/12%EC%9B%94%203%EC%A3%BC%EC%B0%A8/1220.ipynb\" target=\"_parent\"><img src=\"https://colab.research.google.com/assets/colab-badge.svg\" alt=\"Open In Colab\"/></a>"
      ]
    },
    {
      "cell_type": "markdown",
      "source": [
        "## BoJ"
      ],
      "metadata": {
        "id": "dp2IDwJQHqrO"
      }
    },
    {
      "cell_type": "markdown",
      "source": [
        "### 11052"
      ],
      "metadata": {
        "id": "8N47auV6Hsul"
      }
    },
    {
      "cell_type": "code",
      "source": [
        "n = int(input())\n",
        "lst = list(map(int,input().split()))\n",
        "\n",
        "card = lst[:]\n",
        "for i in range(n):\n",
        "    for j in range(i):\n",
        "        card[i] = max(card[i], card[i-j-1] + lst[j])\n",
        "print(card[n-1])"
      ],
      "metadata": {
        "id": "ym5oXq-2HtRC"
      },
      "execution_count": null,
      "outputs": []
    },
    {
      "cell_type": "markdown",
      "source": [
        "## Programmers"
      ],
      "metadata": {
        "id": "-SQ-zeULHtsi"
      }
    },
    {
      "cell_type": "markdown",
      "source": [
        "### 로그인 성공?"
      ],
      "metadata": {
        "id": "BBwaT4dSHu5q"
      }
    },
    {
      "cell_type": "code",
      "source": [
        "def solution(id_pw, db):\n",
        "    answer = ''\n",
        "    id_ck = False\n",
        "    pw_ck = False\n",
        "\n",
        "    for i in db:\n",
        "        if i[0] == id_pw[0]:\n",
        "            id_ck = True\n",
        "            if i[1] == id_pw[1]:\n",
        "                pw_ck = True\n",
        "                break\n",
        "\n",
        "    if id_ck == True :\n",
        "        if pw_ck == True:\n",
        "            answer = 'login'\n",
        "        else:\n",
        "            answer = 'wrong pw'\n",
        "\n",
        "    else:\n",
        "        answer = 'fail'\n",
        "\n",
        "    return answer"
      ],
      "metadata": {
        "id": "3SAB70f8Hvla"
      },
      "execution_count": null,
      "outputs": []
    }
  ]
}