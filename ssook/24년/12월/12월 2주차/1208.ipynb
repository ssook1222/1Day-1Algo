{
  "nbformat": 4,
  "nbformat_minor": 0,
  "metadata": {
    "colab": {
      "provenance": [],
      "authorship_tag": "ABX9TyNPJg8LlA7v0ICsrCIlpEQI",
      "include_colab_link": true
    },
    "kernelspec": {
      "name": "python3",
      "display_name": "Python 3"
    },
    "language_info": {
      "name": "python"
    }
  },
  "cells": [
    {
      "cell_type": "markdown",
      "metadata": {
        "id": "view-in-github",
        "colab_type": "text"
      },
      "source": [
        "<a href=\"https://colab.research.google.com/github/ssook1222/1Day-1Algo/blob/master/ssook/24%EB%85%84/12%EC%9B%94/12%EC%9B%94%202%EC%A3%BC%EC%B0%A8/1208.ipynb\" target=\"_parent\"><img src=\"https://colab.research.google.com/assets/colab-badge.svg\" alt=\"Open In Colab\"/></a>"
      ]
    },
    {
      "cell_type": "markdown",
      "source": [
        "## BoJ"
      ],
      "metadata": {
        "id": "4qBzibjD1DQo"
      }
    },
    {
      "cell_type": "markdown",
      "source": [
        "### 2789"
      ],
      "metadata": {
        "id": "xyoC445n1ElE"
      }
    },
    {
      "cell_type": "code",
      "source": [
        "str = input()\n",
        "\n",
        "for i in \"CAMBRIDGE\":\n",
        "    str = str.replace(i,\"\")\n",
        "print(str)"
      ],
      "metadata": {
        "id": "JOi484Ya1FNm"
      },
      "execution_count": null,
      "outputs": []
    },
    {
      "cell_type": "markdown",
      "source": [
        "## CodeTree"
      ],
      "metadata": {
        "id": "tmWpMjhF1FgV"
      }
    },
    {
      "cell_type": "markdown",
      "source": [
        "### 캐릭터의 좌표"
      ],
      "metadata": {
        "id": "HH-O9A1s1GtK"
      }
    },
    {
      "cell_type": "code",
      "source": [
        "def solution(keyinput, board):\n",
        "    answer = [0, 0]\n",
        "\n",
        "    for cmd in keyinput:\n",
        "        if cmd == 'left' and answer[0] > -(board[0] // 2):\n",
        "            answer[0] -=1\n",
        "\n",
        "        if cmd == 'right' and answer[0] < (board[0] // 2):\n",
        "            answer[0] +=1\n",
        "\n",
        "        if cmd == 'up' and answer[1] < (board[1] // 2):\n",
        "            answer[1] +=1\n",
        "\n",
        "        if cmd == 'down' and answer[1] > -(board[1] // 2):\n",
        "            answer[1] -=1\n",
        "\n",
        "\n",
        "    return answer"
      ],
      "metadata": {
        "id": "0iOyQa0h1Hfg"
      },
      "execution_count": null,
      "outputs": []
    }
  ]
}