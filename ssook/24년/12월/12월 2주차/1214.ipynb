{
  "nbformat": 4,
  "nbformat_minor": 0,
  "metadata": {
    "colab": {
      "provenance": [],
      "authorship_tag": "ABX9TyM1AJ6kvlb4zRKfs8BJQdPc",
      "include_colab_link": true
    },
    "kernelspec": {
      "name": "python3",
      "display_name": "Python 3"
    },
    "language_info": {
      "name": "python"
    }
  },
  "cells": [
    {
      "cell_type": "markdown",
      "metadata": {
        "id": "view-in-github",
        "colab_type": "text"
      },
      "source": [
        "<a href=\"https://colab.research.google.com/github/ssook1222/1Day-1Algo/blob/master/ssook/24%EB%85%84/12%EC%9B%94/12%EC%9B%94%202%EC%A3%BC%EC%B0%A8/1214.ipynb\" target=\"_parent\"><img src=\"https://colab.research.google.com/assets/colab-badge.svg\" alt=\"Open In Colab\"/></a>"
      ]
    },
    {
      "cell_type": "markdown",
      "source": [
        "## BoJ"
      ],
      "metadata": {
        "id": "9Ph6Aro1zEe5"
      }
    },
    {
      "cell_type": "markdown",
      "source": [
        "### 11006"
      ],
      "metadata": {
        "id": "0HP6h5tjzGYx"
      }
    },
    {
      "cell_type": "code",
      "execution_count": null,
      "metadata": {
        "id": "gT1ue0a6ybc1"
      },
      "outputs": [],
      "source": [
        "t = int(input())\n",
        "\n",
        "for _ in range(t) :\n",
        "  n, m = map(int, input().split())\n",
        "  u = ( m * 2 ) - n\n",
        "  t = n - m\n",
        "  print(u, t)"
      ]
    },
    {
      "cell_type": "markdown",
      "source": [
        "## CodeTree"
      ],
      "metadata": {
        "id": "nCN0cXv2zHdZ"
      }
    },
    {
      "cell_type": "markdown",
      "source": [
        "### 코드 처리하기\n"
      ],
      "metadata": {
        "id": "_DtA43NazI3i"
      }
    },
    {
      "cell_type": "code",
      "source": [
        "def solution(code):\n",
        "    answer = ''\n",
        "    mode = 0\n",
        "\n",
        "    for i in range(len(code)):\n",
        "        if mode == 0:\n",
        "            if code[i] != '1':\n",
        "                if i%2==0:\n",
        "                    answer += code[i]\n",
        "            else:\n",
        "                mode = 1\n",
        "        else:\n",
        "            if code[i] != '1':\n",
        "                if i%2!=0:\n",
        "                    answer += code[i]\n",
        "            else:\n",
        "                mode = 0\n",
        "\n",
        "    if answer == '':\n",
        "        return 'EMPTY'\n",
        "\n",
        "    return answer"
      ],
      "metadata": {
        "id": "GpZy4mNDzJip"
      },
      "execution_count": null,
      "outputs": []
    }
  ]
}