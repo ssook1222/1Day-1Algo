{
  "nbformat": 4,
  "nbformat_minor": 0,
  "metadata": {
    "colab": {
      "provenance": [],
      "authorship_tag": "ABX9TyPT6EjygqIk3+cvnBpeszyc",
      "include_colab_link": true
    },
    "kernelspec": {
      "name": "python3",
      "display_name": "Python 3"
    },
    "language_info": {
      "name": "python"
    }
  },
  "cells": [
    {
      "cell_type": "markdown",
      "metadata": {
        "id": "view-in-github",
        "colab_type": "text"
      },
      "source": [
        "<a href=\"https://colab.research.google.com/github/ssook1222/1Day-1Algo/blob/master/ssook/24%EB%85%84/12%EC%9B%94/12%EC%9B%94%202%EC%A3%BC%EC%B0%A8/1209.ipynb\" target=\"_parent\"><img src=\"https://colab.research.google.com/assets/colab-badge.svg\" alt=\"Open In Colab\"/></a>"
      ]
    },
    {
      "cell_type": "markdown",
      "source": [
        "## BoJ"
      ],
      "metadata": {
        "id": "9Ph6Aro1zEe5"
      }
    },
    {
      "cell_type": "markdown",
      "source": [
        "### 10995"
      ],
      "metadata": {
        "id": "0HP6h5tjzGYx"
      }
    },
    {
      "cell_type": "code",
      "execution_count": null,
      "metadata": {
        "id": "gT1ue0a6ybc1"
      },
      "outputs": [],
      "source": [
        "N = int(input())\n",
        "\n",
        "if N == 1:\n",
        "    print('*')\n",
        "\n",
        "else:\n",
        "    for n in range(N):\n",
        "        if n % 2 == 0:\n",
        "            a = print('* ' * N)\n",
        "        else:\n",
        "            b = print(' *' * N)"
      ]
    },
    {
      "cell_type": "markdown",
      "source": [
        "## CodeTree"
      ],
      "metadata": {
        "id": "nCN0cXv2zHdZ"
      }
    },
    {
      "cell_type": "markdown",
      "source": [
        "### 문자열 여러 번 뒤집기\n"
      ],
      "metadata": {
        "id": "_DtA43NazI3i"
      }
    },
    {
      "cell_type": "code",
      "source": [
        "def solution(my_string, queries):\n",
        "    answer = ''\n",
        "\n",
        "    for query in queries:\n",
        "        s = query[0]\n",
        "        e = query[1]\n",
        "\n",
        "        my_string = my_string[:s] + my_string[s:e+1][::-1] + my_string[e+1:]\n",
        "        answer = my_string\n",
        "\n",
        "    return answer"
      ],
      "metadata": {
        "id": "GpZy4mNDzJip"
      },
      "execution_count": null,
      "outputs": []
    }
  ]
}