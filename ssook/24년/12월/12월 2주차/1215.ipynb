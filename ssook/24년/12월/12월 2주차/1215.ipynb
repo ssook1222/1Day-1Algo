{
  "nbformat": 4,
  "nbformat_minor": 0,
  "metadata": {
    "colab": {
      "provenance": [],
      "authorship_tag": "ABX9TyOE6g9azhWabUp20KdXDxPk",
      "include_colab_link": true
    },
    "kernelspec": {
      "name": "python3",
      "display_name": "Python 3"
    },
    "language_info": {
      "name": "python"
    }
  },
  "cells": [
    {
      "cell_type": "markdown",
      "metadata": {
        "id": "view-in-github",
        "colab_type": "text"
      },
      "source": [
        "<a href=\"https://colab.research.google.com/github/ssook1222/1Day-1Algo/blob/master/ssook/24%EB%85%84/12%EC%9B%94/12%EC%9B%94%202%EC%A3%BC%EC%B0%A8/1215.ipynb\" target=\"_parent\"><img src=\"https://colab.research.google.com/assets/colab-badge.svg\" alt=\"Open In Colab\"/></a>"
      ]
    },
    {
      "cell_type": "markdown",
      "source": [
        "## BoJ"
      ],
      "metadata": {
        "id": "9Ph6Aro1zEe5"
      }
    },
    {
      "cell_type": "markdown",
      "source": [
        "### 16673"
      ],
      "metadata": {
        "id": "0HP6h5tjzGYx"
      }
    },
    {
      "cell_type": "code",
      "execution_count": null,
      "metadata": {
        "id": "gT1ue0a6ybc1"
      },
      "outputs": [],
      "source": [
        "C, K, P = map(int, input().split())\n",
        "answer = 0\n",
        "\n",
        "for i in range(1, C + 1):\n",
        "    answer += K*i + P*(i**2)\n",
        "\n",
        "print(answer)"
      ]
    },
    {
      "cell_type": "markdown",
      "source": [
        "## CodeTree"
      ],
      "metadata": {
        "id": "nCN0cXv2zHdZ"
      }
    },
    {
      "cell_type": "markdown",
      "source": [
        "### 전국 대회 선발 고사\n"
      ],
      "metadata": {
        "id": "_DtA43NazI3i"
      }
    },
    {
      "cell_type": "code",
      "source": [
        "def solution(rank, attendance):\n",
        "    answer = 0\n",
        "\n",
        "    data = {}\n",
        "\n",
        "    for i in range(len(attendance)):\n",
        "        if attendance[i] == True:\n",
        "            data[i] = rank[i]\n",
        "\n",
        "    person_dict = sorted(data.items(), key=lambda x:x[1])\n",
        "\n",
        "    answer = 10000 * person_dict[0][0] + 100 * person_dict[1][0] + person_dict[2][0]\n",
        "\n",
        "    return answer"
      ],
      "metadata": {
        "id": "GpZy4mNDzJip"
      },
      "execution_count": null,
      "outputs": []
    }
  ]
}