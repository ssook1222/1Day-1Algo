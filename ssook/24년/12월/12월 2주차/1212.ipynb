{
  "nbformat": 4,
  "nbformat_minor": 0,
  "metadata": {
    "colab": {
      "provenance": [],
      "authorship_tag": "ABX9TyO4NYiDmPtKyZCGB7KXYh48",
      "include_colab_link": true
    },
    "kernelspec": {
      "name": "python3",
      "display_name": "Python 3"
    },
    "language_info": {
      "name": "python"
    }
  },
  "cells": [
    {
      "cell_type": "markdown",
      "metadata": {
        "id": "view-in-github",
        "colab_type": "text"
      },
      "source": [
        "<a href=\"https://colab.research.google.com/github/ssook1222/1Day-1Algo/blob/master/ssook/24%EB%85%84/12%EC%9B%94/12%EC%9B%94%202%EC%A3%BC%EC%B0%A8/1212.ipynb\" target=\"_parent\"><img src=\"https://colab.research.google.com/assets/colab-badge.svg\" alt=\"Open In Colab\"/></a>"
      ]
    },
    {
      "cell_type": "markdown",
      "source": [
        "## BoJ"
      ],
      "metadata": {
        "id": "9Ph6Aro1zEe5"
      }
    },
    {
      "cell_type": "markdown",
      "source": [
        "### 17496"
      ],
      "metadata": {
        "id": "0HP6h5tjzGYx"
      }
    },
    {
      "cell_type": "code",
      "execution_count": null,
      "metadata": {
        "id": "gT1ue0a6ybc1"
      },
      "outputs": [],
      "source": [
        "n, t, c, p=map(int,input().split())\n",
        "print(( n - 1 ) // t * c * p )"
      ]
    },
    {
      "cell_type": "markdown",
      "source": [
        "## CodeTree"
      ],
      "metadata": {
        "id": "nCN0cXv2zHdZ"
      }
    },
    {
      "cell_type": "markdown",
      "source": [
        "### 배열 만들기 4"
      ],
      "metadata": {
        "id": "_DtA43NazI3i"
      }
    },
    {
      "cell_type": "code",
      "source": [
        "def solution(arr):\n",
        "    stk = []\n",
        "    i = 0\n",
        "\n",
        "    while i < len(arr):\n",
        "        if stk == []:\n",
        "            stk.append(arr[i])\n",
        "            i += 1\n",
        "        elif len(stk) != 0 and stk[-1] < arr[i]:\n",
        "            stk.append(arr[i])\n",
        "            i += 1\n",
        "        elif len(stk) != 0 and stk[-1] >= arr[i]:\n",
        "            stk.remove(stk[-1])\n",
        "\n",
        "    return stk"
      ],
      "metadata": {
        "id": "GpZy4mNDzJip"
      },
      "execution_count": null,
      "outputs": []
    }
  ]
}