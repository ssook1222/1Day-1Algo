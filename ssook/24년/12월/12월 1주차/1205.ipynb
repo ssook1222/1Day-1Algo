{
  "nbformat": 4,
  "nbformat_minor": 0,
  "metadata": {
    "colab": {
      "provenance": [],
      "authorship_tag": "ABX9TyMvn4PmUcyi/mavuEtLoi3V",
      "include_colab_link": true
    },
    "kernelspec": {
      "name": "python3",
      "display_name": "Python 3"
    },
    "language_info": {
      "name": "python"
    }
  },
  "cells": [
    {
      "cell_type": "markdown",
      "metadata": {
        "id": "view-in-github",
        "colab_type": "text"
      },
      "source": [
        "<a href=\"https://colab.research.google.com/github/ssook1222/1Day-1Algo/blob/master/ssook/24%EB%85%84/12%EC%9B%94/12%EC%9B%94%201%EC%A3%BC%EC%B0%A8/1205.ipynb\" target=\"_parent\"><img src=\"https://colab.research.google.com/assets/colab-badge.svg\" alt=\"Open In Colab\"/></a>"
      ]
    },
    {
      "cell_type": "markdown",
      "source": [
        "## BoJ"
      ],
      "metadata": {
        "id": "4qBzibjD1DQo"
      }
    },
    {
      "cell_type": "markdown",
      "source": [
        "### 1652"
      ],
      "metadata": {
        "id": "xyoC445n1ElE"
      }
    },
    {
      "cell_type": "code",
      "source": [
        "import sys\n",
        "input = sys.stdin.readline\n",
        "\n",
        "room_size = int(input())\n",
        "room_layout = [list(input().rstrip()) for _ in range(room_size)]\n",
        "\n",
        "available_positions = [0, 0]\n",
        "for row in range(room_size):\n",
        "    horizontal_length, vertical_length = 0, 0\n",
        "    for col in range(room_size):\n",
        "        # 가로\n",
        "        if room_layout[row][col] == '.':\n",
        "            horizontal_length += 1\n",
        "        else:\n",
        "            horizontal_length = 0\n",
        "        if horizontal_length == 2:\n",
        "            available_positions[0] += 1\n",
        "\n",
        "        # 세로\n",
        "        if room_layout[col][row] == '.':\n",
        "            vertical_length += 1\n",
        "        else:\n",
        "            vertical_length = 0\n",
        "        if vertical_length == 2:\n",
        "            available_positions[1] += 1\n",
        "\n",
        "print(*available_positions)"
      ],
      "metadata": {
        "id": "JOi484Ya1FNm"
      },
      "execution_count": null,
      "outputs": []
    },
    {
      "cell_type": "markdown",
      "source": [
        "## CodeTree"
      ],
      "metadata": {
        "id": "tmWpMjhF1FgV"
      }
    },
    {
      "cell_type": "markdown",
      "source": [
        "### 특이한 정렬"
      ],
      "metadata": {
        "id": "HH-O9A1s1GtK"
      }
    },
    {
      "cell_type": "code",
      "source": [
        "def solution(numlist, n):\n",
        "    answer = []\n",
        "    raw_data = {}\n",
        "\n",
        "    for i in numlist:\n",
        "        raw_data[i] = abs(i-n)\n",
        "\n",
        "    raw_data = sorted(raw_data.items(), key = lambda x: (x[1], -x[0]))\n",
        "\n",
        "    for i in raw_data:\n",
        "        answer.append(i[0])\n",
        "\n",
        "    return answer"
      ],
      "metadata": {
        "id": "0iOyQa0h1Hfg"
      },
      "execution_count": null,
      "outputs": []
    }
  ]
}