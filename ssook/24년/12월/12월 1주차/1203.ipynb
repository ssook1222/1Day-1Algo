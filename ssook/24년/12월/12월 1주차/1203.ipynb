{
  "nbformat": 4,
  "nbformat_minor": 0,
  "metadata": {
    "colab": {
      "provenance": [],
      "authorship_tag": "ABX9TyOaiPZLzv7ChB6857RR+b6B",
      "include_colab_link": true
    },
    "kernelspec": {
      "name": "python3",
      "display_name": "Python 3"
    },
    "language_info": {
      "name": "python"
    }
  },
  "cells": [
    {
      "cell_type": "markdown",
      "metadata": {
        "id": "view-in-github",
        "colab_type": "text"
      },
      "source": [
        "<a href=\"https://colab.research.google.com/github/ssook1222/1Day-1Algo/blob/master/ssook/24%EB%85%84/12%EC%9B%94/12%EC%9B%94%201%EC%A3%BC%EC%B0%A8/1203.ipynb\" target=\"_parent\"><img src=\"https://colab.research.google.com/assets/colab-badge.svg\" alt=\"Open In Colab\"/></a>"
      ]
    },
    {
      "cell_type": "markdown",
      "source": [
        "## BoJ"
      ],
      "metadata": {
        "id": "4qBzibjD1DQo"
      }
    },
    {
      "cell_type": "markdown",
      "source": [
        "### 1120"
      ],
      "metadata": {
        "id": "xyoC445n1ElE"
      }
    },
    {
      "cell_type": "code",
      "source": [
        "str_a, str_b = input().split()\n",
        "\n",
        "difference_counts = []\n",
        "for index in range(len(str_b) - len(str_a) + 1):\n",
        "    mismatch_count = 0\n",
        "    for char_index in range(len(str_a)):\n",
        "        if str_a[char_index] != str_b[index + char_index]:\n",
        "            mismatch_count += 1\n",
        "    difference_counts.append(mismatch_count)\n",
        "\n",
        "print(min(difference_counts))"
      ],
      "metadata": {
        "id": "JOi484Ya1FNm"
      },
      "execution_count": null,
      "outputs": []
    },
    {
      "cell_type": "markdown",
      "source": [
        "## CodeTree"
      ],
      "metadata": {
        "id": "tmWpMjhF1FgV"
      }
    },
    {
      "cell_type": "markdown",
      "source": [
        "### 이진수 더하기"
      ],
      "metadata": {
        "id": "HH-O9A1s1GtK"
      }
    },
    {
      "cell_type": "code",
      "source": [
        "def solution(bin1, bin2):\n",
        "    return str(bin(int(bin1,2) + int(bin2,2))[2:])"
      ],
      "metadata": {
        "id": "0iOyQa0h1Hfg"
      },
      "execution_count": null,
      "outputs": []
    }
  ]
}