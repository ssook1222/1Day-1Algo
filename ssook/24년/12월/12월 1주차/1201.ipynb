{
  "nbformat": 4,
  "nbformat_minor": 0,
  "metadata": {
    "colab": {
      "provenance": [],
      "authorship_tag": "ABX9TyMokMJ43TFwavLVxTXjMknI",
      "include_colab_link": true
    },
    "kernelspec": {
      "name": "python3",
      "display_name": "Python 3"
    },
    "language_info": {
      "name": "python"
    }
  },
  "cells": [
    {
      "cell_type": "markdown",
      "metadata": {
        "id": "view-in-github",
        "colab_type": "text"
      },
      "source": [
        "<a href=\"https://colab.research.google.com/github/ssook1222/1Day-1Algo/blob/master/ssook/24%EB%85%84/12%EC%9B%94/12%EC%9B%94%201%EC%A3%BC%EC%B0%A8/1201.ipynb\" target=\"_parent\"><img src=\"https://colab.research.google.com/assets/colab-badge.svg\" alt=\"Open In Colab\"/></a>"
      ]
    },
    {
      "cell_type": "markdown",
      "source": [
        "## BoJ"
      ],
      "metadata": {
        "id": "zqJCP2D0aQGV"
      }
    },
    {
      "cell_type": "markdown",
      "source": [
        "### 2529"
      ],
      "metadata": {
        "id": "BpoOvukeaRRq"
      }
    },
    {
      "cell_type": "code",
      "source": [
        "from sys import stdin\n",
        "input = stdin.readline\n",
        "\n",
        "K = int(input())\n",
        "inequalities = list(input().split())\n",
        "\n",
        "visited = [0] * 10\n",
        "max_number = \"\"\n",
        "min_number = \"\"\n",
        "\n",
        "def check(i, j, operator):\n",
        "    if operator == \"<\":\n",
        "        return i < j\n",
        "    else:\n",
        "        return i > j\n",
        "\n",
        "def solve(depth, current_number):\n",
        "    global max_number, min_number\n",
        "\n",
        "    if depth == K + 1:\n",
        "        # 맨 처음 생성, 최소값\n",
        "        if len(min_number) == 0:\n",
        "            min_number = current_number\n",
        "        # 계속 대입, 마지막에는 최대값\n",
        "        else:\n",
        "            max_number = current_number\n",
        "        return\n",
        "\n",
        "    for i in range(10):\n",
        "        if not visited[i]:\n",
        "            if depth == 0 or check(current_number[-1], str(i), inequalities[depth - 1]):\n",
        "                visited[i] = True\n",
        "                solve(depth + 1, current_number + str(i))\n",
        "                visited[i] = False\n",
        "\n",
        "solve(0, \"\")\n",
        "print(max_number)\n",
        "print(min_number)"
      ],
      "metadata": {
        "id": "yoFWNS7EaR0G"
      },
      "execution_count": null,
      "outputs": []
    },
    {
      "cell_type": "markdown",
      "source": [
        "## CodeTree"
      ],
      "metadata": {
        "id": "CY57T0ZaaSI0"
      }
    },
    {
      "cell_type": "markdown",
      "source": [
        "### 이차원 배열 대각선 순회하기\n"
      ],
      "metadata": {
        "id": "EF0HP8UwaTja"
      }
    },
    {
      "cell_type": "code",
      "source": [
        "def solution(board, k):\n",
        "    answer = 0\n",
        "    hap = 0\n",
        "\n",
        "    for i in range(len(board)):\n",
        "        for j in range(len(board[i])):\n",
        "            if i+j <=k:\n",
        "                hap += board[i][j]\n",
        "\n",
        "    answer = hap\n",
        "\n",
        "    return answer"
      ],
      "metadata": {
        "id": "ouU0vy0waULD"
      },
      "execution_count": null,
      "outputs": []
    }
  ]
}