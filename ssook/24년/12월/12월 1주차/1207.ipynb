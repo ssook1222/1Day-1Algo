{
  "nbformat": 4,
  "nbformat_minor": 0,
  "metadata": {
    "colab": {
      "provenance": [],
      "authorship_tag": "ABX9TyNUrCcRHzEP546ltI0Hr4HO",
      "include_colab_link": true
    },
    "kernelspec": {
      "name": "python3",
      "display_name": "Python 3"
    },
    "language_info": {
      "name": "python"
    }
  },
  "cells": [
    {
      "cell_type": "markdown",
      "metadata": {
        "id": "view-in-github",
        "colab_type": "text"
      },
      "source": [
        "<a href=\"https://colab.research.google.com/github/ssook1222/1Day-1Algo/blob/master/ssook/24%EB%85%84/12%EC%9B%94/12%EC%9B%94%201%EC%A3%BC%EC%B0%A8/1207.ipynb\" target=\"_parent\"><img src=\"https://colab.research.google.com/assets/colab-badge.svg\" alt=\"Open In Colab\"/></a>"
      ]
    },
    {
      "cell_type": "markdown",
      "source": [
        "## BoJ"
      ],
      "metadata": {
        "id": "4qBzibjD1DQo"
      }
    },
    {
      "cell_type": "markdown",
      "source": [
        "### 1225"
      ],
      "metadata": {
        "id": "xyoC445n1ElE"
      }
    },
    {
      "cell_type": "code",
      "source": [
        "num1, num2 = input().split()\n",
        "num1, num2 = list(map(int, num1)), list(map(int, num2))\n",
        "\n",
        "print(sum(num1) * sum(num2))"
      ],
      "metadata": {
        "id": "JOi484Ya1FNm"
      },
      "execution_count": null,
      "outputs": []
    },
    {
      "cell_type": "markdown",
      "source": [
        "## CodeTree"
      ],
      "metadata": {
        "id": "tmWpMjhF1FgV"
      }
    },
    {
      "cell_type": "markdown",
      "source": [
        "### 세균 증식"
      ],
      "metadata": {
        "id": "HH-O9A1s1GtK"
      }
    },
    {
      "cell_type": "code",
      "source": [
        "def solution(n, t):\n",
        "    for i in range(t):\n",
        "        n *= 2\n",
        "    return n"
      ],
      "metadata": {
        "id": "0iOyQa0h1Hfg"
      },
      "execution_count": null,
      "outputs": []
    }
  ]
}