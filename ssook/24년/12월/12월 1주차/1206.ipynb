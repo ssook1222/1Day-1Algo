{
  "nbformat": 4,
  "nbformat_minor": 0,
  "metadata": {
    "colab": {
      "provenance": [],
      "authorship_tag": "ABX9TyO+EPZbuAryifbTZ4cbpCDw",
      "include_colab_link": true
    },
    "kernelspec": {
      "name": "python3",
      "display_name": "Python 3"
    },
    "language_info": {
      "name": "python"
    }
  },
  "cells": [
    {
      "cell_type": "markdown",
      "metadata": {
        "id": "view-in-github",
        "colab_type": "text"
      },
      "source": [
        "<a href=\"https://colab.research.google.com/github/ssook1222/1Day-1Algo/blob/master/ssook/24%EB%85%84/12%EC%9B%94/12%EC%9B%94%201%EC%A3%BC%EC%B0%A8/1206.ipynb\" target=\"_parent\"><img src=\"https://colab.research.google.com/assets/colab-badge.svg\" alt=\"Open In Colab\"/></a>"
      ]
    },
    {
      "cell_type": "markdown",
      "source": [
        "## BoJ"
      ],
      "metadata": {
        "id": "4qBzibjD1DQo"
      }
    },
    {
      "cell_type": "markdown",
      "source": [
        "### 12891"
      ],
      "metadata": {
        "id": "xyoC445n1ElE"
      }
    },
    {
      "cell_type": "code",
      "source": [
        "from collections import deque\n",
        "\n",
        "string_length, substring_length = map(int, input().split())\n",
        "dna_string = list(str(input()))\n",
        "min_a, min_c, min_g, min_t = map(int, input().split())\n",
        "\n",
        "count_dict = {'A': 0, 'C': 0, 'G': 0, 'T': 0}\n",
        "left_index, right_index = 0, substring_length - 1\n",
        "current_window = deque(dna_string[left_index:right_index])\n",
        "for char in current_window:\n",
        "    count_dict[char] += 1\n",
        "valid_count = 0\n",
        "\n",
        "while right_index < string_length:\n",
        "\n",
        "    # 구간 완성\n",
        "    count_dict[dna_string[right_index]] += 1  # 가장 오른쪽 원소 추가\n",
        "\n",
        "    # 계산\n",
        "    if (count_dict['A'] >= min_a and\n",
        "        count_dict['C'] >= min_c and\n",
        "        count_dict['G'] >= min_g and\n",
        "        count_dict['T'] >= min_t):\n",
        "        valid_count += 1\n",
        "\n",
        "    # 구간 이동\n",
        "    count_dict[dna_string[left_index]] -= 1  # 가장 왼쪽 원소 제거\n",
        "    left_index += 1\n",
        "    right_index += 1\n",
        "\n",
        "print(valid_count)"
      ],
      "metadata": {
        "id": "JOi484Ya1FNm"
      },
      "execution_count": null,
      "outputs": []
    },
    {
      "cell_type": "markdown",
      "source": [
        "## CodeTree"
      ],
      "metadata": {
        "id": "tmWpMjhF1FgV"
      }
    },
    {
      "cell_type": "markdown",
      "source": [
        "### 평행"
      ],
      "metadata": {
        "id": "HH-O9A1s1GtK"
      }
    },
    {
      "cell_type": "code",
      "source": [
        "def solution(dots):\n",
        "    answer = 0\n",
        "\n",
        "    #직선의 기울기 6개 모두 구하기\n",
        "    l1 = (dots[1][1] - dots[0][1])/(dots[1][0] - dots[0][0])\n",
        "    l2 = (dots[2][1] - dots[3][1])/(dots[2][0] - dots[3][0])\n",
        "    l3 = (dots[2][1] - dots[0][1])/(dots[2][0] - dots[0][0])\n",
        "    l4 = (dots[2][1] - dots[1][1])/(dots[2][0] - dots[1][0])\n",
        "    l5 = (dots[3][1] - dots[0][1])/(dots[3][0] - dots[0][0])\n",
        "    l6 = (dots[3][1] - dots[1][1])/(dots[3][0] - dots[1][0])\n",
        "\n",
        "    if l1 == l2 or l3 == l6 or l4 == l5:\n",
        "        answer = 1\n",
        "\n",
        "    return answer"
      ],
      "metadata": {
        "id": "0iOyQa0h1Hfg"
      },
      "execution_count": null,
      "outputs": []
    }
  ]
}