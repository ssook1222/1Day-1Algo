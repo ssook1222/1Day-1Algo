{
  "nbformat": 4,
  "nbformat_minor": 0,
  "metadata": {
    "colab": {
      "provenance": [],
      "authorship_tag": "ABX9TyMBuyLEvKObA3/8aBDyJ0Q5",
      "include_colab_link": true
    },
    "kernelspec": {
      "name": "python3",
      "display_name": "Python 3"
    },
    "language_info": {
      "name": "python"
    }
  },
  "cells": [
    {
      "cell_type": "markdown",
      "metadata": {
        "id": "view-in-github",
        "colab_type": "text"
      },
      "source": [
        "<a href=\"https://colab.research.google.com/github/ssook1222/1Day-1Algo/blob/master/ssook/24%EB%85%84/12%EC%9B%94/12%EC%9B%94%201%EC%A3%BC%EC%B0%A8/1204.ipynb\" target=\"_parent\"><img src=\"https://colab.research.google.com/assets/colab-badge.svg\" alt=\"Open In Colab\"/></a>"
      ]
    },
    {
      "cell_type": "markdown",
      "source": [
        "## BoJ"
      ],
      "metadata": {
        "id": "4qBzibjD1DQo"
      }
    },
    {
      "cell_type": "markdown",
      "source": [
        "### 1213"
      ],
      "metadata": {
        "id": "xyoC445n1ElE"
      }
    },
    {
      "cell_type": "code",
      "source": [
        "import collections\n",
        "import sys\n",
        "\n",
        "input_word = sys.stdin.readline().rstrip()\n",
        "char_count = collections.Counter(input_word)\n",
        "odd_count = 0\n",
        "palindrome_half = ''\n",
        "middle_char = ''\n",
        "\n",
        "for character, frequency in list(char_count.items()):\n",
        "    if frequency % 2 == 1:\n",
        "        odd_count += 1\n",
        "        middle_char = character\n",
        "        if odd_count >= 2:\n",
        "            print(\"I'm Sorry Hansoo\")\n",
        "            exit()\n",
        "\n",
        "for character, frequency in sorted(char_count.items()):\n",
        "    palindrome_half += (character * (frequency // 2))\n",
        "\n",
        "print(palindrome_half + middle_char + palindrome_half[::-1])"
      ],
      "metadata": {
        "id": "JOi484Ya1FNm"
      },
      "execution_count": null,
      "outputs": []
    },
    {
      "cell_type": "markdown",
      "source": [
        "## CodeTree"
      ],
      "metadata": {
        "id": "tmWpMjhF1FgV"
      }
    },
    {
      "cell_type": "markdown",
      "source": [
        "### 종이 자르기"
      ],
      "metadata": {
        "id": "HH-O9A1s1GtK"
      }
    },
    {
      "cell_type": "code",
      "source": [
        "def solution(M, N):\n",
        "    return M*N-1"
      ],
      "metadata": {
        "id": "0iOyQa0h1Hfg"
      },
      "execution_count": null,
      "outputs": []
    }
  ]
}