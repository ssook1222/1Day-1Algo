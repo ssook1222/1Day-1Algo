{
  "nbformat": 4,
  "nbformat_minor": 0,
  "metadata": {
    "colab": {
      "provenance": [],
      "authorship_tag": "ABX9TyO/xz0h9yxbrEOcB8SQHxB4",
      "include_colab_link": true
    },
    "kernelspec": {
      "name": "python3",
      "display_name": "Python 3"
    },
    "language_info": {
      "name": "python"
    }
  },
  "cells": [
    {
      "cell_type": "markdown",
      "metadata": {
        "id": "view-in-github",
        "colab_type": "text"
      },
      "source": [
        "<a href=\"https://colab.research.google.com/github/ssook1222/1Day-1Algo/blob/master/ssook/24%EB%85%84/12%EC%9B%94/12%EC%9B%94%204%EC%A3%BC%EC%B0%A8/1228.ipynb\" target=\"_parent\"><img src=\"https://colab.research.google.com/assets/colab-badge.svg\" alt=\"Open In Colab\"/></a>"
      ]
    },
    {
      "cell_type": "markdown",
      "source": [
        "## BoJ"
      ],
      "metadata": {
        "id": "cWLKDZvmNAfZ"
      }
    },
    {
      "cell_type": "markdown",
      "source": [
        "### 1057"
      ],
      "metadata": {
        "id": "KwbYQyHlNCIJ"
      }
    },
    {
      "cell_type": "code",
      "source": [
        "n, start, end = map(int, input().split())\n",
        "cnt=0\n",
        "\n",
        "while start!=end:\n",
        "  start -= start//2\n",
        "  end -= end//2\n",
        "  cnt += 1\n",
        "\n",
        "print(cnt)"
      ],
      "metadata": {
        "id": "xfgegPqFNDHc"
      },
      "execution_count": null,
      "outputs": []
    },
    {
      "cell_type": "markdown",
      "source": [
        "## CodeTree"
      ],
      "metadata": {
        "id": "mU1784aONDXX"
      }
    },
    {
      "cell_type": "markdown",
      "source": [
        "### 무작위로 k개의 수 뽑기"
      ],
      "metadata": {
        "id": "iMiwnvr5NEbW"
      }
    },
    {
      "cell_type": "code",
      "source": [
        "def solution(arr, k):\n",
        "    answer = []\n",
        "    nums = set(answer)\n",
        "\n",
        "    for num in arr:\n",
        "        if num in nums:\n",
        "            continue\n",
        "        nums.add(num)\n",
        "        answer.append(num)\n",
        "\n",
        "        if len(answer) == k:\n",
        "            break\n",
        "\n",
        "    if len(answer) < k:\n",
        "        answer += [-1] * (k - len(answer))\n",
        "\n",
        "    return answer"
      ],
      "metadata": {
        "id": "6L7LBO3pNFWZ"
      },
      "execution_count": null,
      "outputs": []
    }
  ]
}