{
  "nbformat": 4,
  "nbformat_minor": 0,
  "metadata": {
    "colab": {
      "provenance": [],
      "authorship_tag": "ABX9TyOVqTRlIEBWWPsgvXB3eh6G",
      "include_colab_link": true
    },
    "kernelspec": {
      "name": "python3",
      "display_name": "Python 3"
    },
    "language_info": {
      "name": "python"
    }
  },
  "cells": [
    {
      "cell_type": "markdown",
      "metadata": {
        "id": "view-in-github",
        "colab_type": "text"
      },
      "source": [
        "<a href=\"https://colab.research.google.com/github/ssook1222/1Day-1Algo/blob/master/ssook/24%EB%85%84/12%EC%9B%94/12%EC%9B%94%204%EC%A3%BC%EC%B0%A8/1225.ipynb\" target=\"_parent\"><img src=\"https://colab.research.google.com/assets/colab-badge.svg\" alt=\"Open In Colab\"/></a>"
      ]
    },
    {
      "cell_type": "markdown",
      "source": [
        "## BoJ"
      ],
      "metadata": {
        "id": "cWLKDZvmNAfZ"
      }
    },
    {
      "cell_type": "markdown",
      "source": [
        "### 2589"
      ],
      "metadata": {
        "id": "KwbYQyHlNCIJ"
      }
    },
    {
      "cell_type": "code",
      "source": [
        "from collections import deque\n",
        "\n",
        "dx = [1, -1, 0, 0]\n",
        "dy = [0, 0, 1, -1]\n",
        "\n",
        "def bfs(x, y):\n",
        "    q.append([x, y])\n",
        "    c = [[0]*m for _ in range(n)]\n",
        "    c[x][y] = 1\n",
        "    num = 0\n",
        "    while q:\n",
        "        x, y = q.popleft()\n",
        "        for i in range(4):\n",
        "            nx = x + dx[i]\n",
        "            ny = y + dy[i]\n",
        "            if 0 <= nx < n and 0 <= ny < m:\n",
        "                if a[nx][ny] == 'L' and c[nx][ny] == 0:\n",
        "                    c[nx][ny] = c[x][y] + 1\n",
        "                    num = max(num, c[nx][ny])\n",
        "                    q.append([nx, ny])\n",
        "    return num-1\n",
        "\n",
        "n, m = map(int, input().split())\n",
        "a = [list(map(str, input())) for _ in range(n)]\n",
        "q = deque()\n",
        "\n",
        "cnt = 0\n",
        "for i in range(n):\n",
        "    for j in range(m):\n",
        "        if a[i][j] == 'L':\n",
        "            cnt = max(cnt, bfs(i, j))\n",
        "print(cnt)"
      ],
      "metadata": {
        "id": "xfgegPqFNDHc"
      },
      "execution_count": null,
      "outputs": []
    },
    {
      "cell_type": "markdown",
      "source": [
        "## CodeTree"
      ],
      "metadata": {
        "id": "mU1784aONDXX"
      }
    },
    {
      "cell_type": "markdown",
      "source": [
        "### 대소문자 출력하기"
      ],
      "metadata": {
        "id": "iMiwnvr5NEbW"
      }
    },
    {
      "cell_type": "code",
      "source": [
        "str = input()\n",
        "raw = list(str)\n",
        "\n",
        "for i in range(len(raw)):\n",
        "    if raw[i].islower() == True:\n",
        "        raw[i] = raw[i].upper()\n",
        "    else:\n",
        "        raw[i] = raw[i].lower()\n",
        "\n",
        "print(*raw, sep=\"\")"
      ],
      "metadata": {
        "id": "6L7LBO3pNFWZ"
      },
      "execution_count": null,
      "outputs": []
    }
  ]
}
