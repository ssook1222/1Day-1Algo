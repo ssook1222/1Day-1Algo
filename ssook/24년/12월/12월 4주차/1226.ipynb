{
  "nbformat": 4,
  "nbformat_minor": 0,
  "metadata": {
    "colab": {
      "provenance": [],
      "authorship_tag": "ABX9TyMmZ2g7RkVC3c6eci+4qsH6",
      "include_colab_link": true
    },
    "kernelspec": {
      "name": "python3",
      "display_name": "Python 3"
    },
    "language_info": {
      "name": "python"
    }
  },
  "cells": [
    {
      "cell_type": "markdown",
      "metadata": {
        "id": "view-in-github",
        "colab_type": "text"
      },
      "source": [
        "<a href=\"https://colab.research.google.com/github/ssook1222/1Day-1Algo/blob/master/ssook/24%EB%85%84/12%EC%9B%94/12%EC%9B%94%204%EC%A3%BC%EC%B0%A8/1226.ipynb\" target=\"_parent\"><img src=\"https://colab.research.google.com/assets/colab-badge.svg\" alt=\"Open In Colab\"/></a>"
      ]
    },
    {
      "cell_type": "markdown",
      "source": [
        "## BoJ"
      ],
      "metadata": {
        "id": "cWLKDZvmNAfZ"
      }
    },
    {
      "cell_type": "markdown",
      "source": [
        "### 2589\n",
        "---\n",
        "pypy"
      ],
      "metadata": {
        "id": "KwbYQyHlNCIJ"
      }
    },
    {
      "cell_type": "code",
      "source": [
        "from collections import deque\n",
        "\n",
        "dx = [1, -1, 0, 0]\n",
        "dy = [0, 0, 1, -1]\n",
        "\n",
        "def bfs(x, y):\n",
        "    q.append([x, y])\n",
        "    c = [[0]*m for _ in range(n)]\n",
        "    c[x][y] = 1\n",
        "    num = 0\n",
        "    while q:\n",
        "        x, y = q.popleft()\n",
        "        for i in range(4):\n",
        "            nx = x + dx[i]\n",
        "            ny = y + dy[i]\n",
        "            if 0 <= nx < n and 0 <= ny < m:\n",
        "                if a[nx][ny] == 'L' and c[nx][ny] == 0:\n",
        "                    c[nx][ny] = c[x][y] + 1\n",
        "                    num = max(num, c[nx][ny])\n",
        "                    q.append([nx, ny])\n",
        "    return num-1\n",
        "\n",
        "n, m = map(int, input().split())\n",
        "a = [list(map(str, input())) for _ in range(n)]\n",
        "q = deque()\n",
        "\n",
        "cnt = 0\n",
        "for i in range(n):\n",
        "    for j in range(m):\n",
        "        if a[i][j] == 'L':\n",
        "            cnt = max(cnt, bfs(i, j))\n",
        "print(cnt)"
      ],
      "metadata": {
        "id": "xfgegPqFNDHc"
      },
      "execution_count": null,
      "outputs": []
    },
    {
      "cell_type": "markdown",
      "source": [
        "## CodeTree"
      ],
      "metadata": {
        "id": "mU1784aONDXX"
      }
    },
    {
      "cell_type": "markdown",
      "source": [
        "### a와 b 출력하기"
      ],
      "metadata": {
        "id": "iMiwnvr5NEbW"
      }
    },
    {
      "cell_type": "code",
      "source": [
        "a, b = map(int, input().strip().split(' '))\n",
        "print(\"a = %d\" %a)\n",
        "print(\"b = %d\" %b)"
      ],
      "metadata": {
        "id": "6L7LBO3pNFWZ"
      },
      "execution_count": null,
      "outputs": []
    }
  ]
}