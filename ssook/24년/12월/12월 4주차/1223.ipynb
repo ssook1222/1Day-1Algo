{
  "nbformat": 4,
  "nbformat_minor": 0,
  "metadata": {
    "colab": {
      "provenance": [],
      "authorship_tag": "ABX9TyOUrlMM1CyhXk7ZrgaAB3Uu",
      "include_colab_link": true
    },
    "kernelspec": {
      "name": "python3",
      "display_name": "Python 3"
    },
    "language_info": {
      "name": "python"
    }
  },
  "cells": [
    {
      "cell_type": "markdown",
      "metadata": {
        "id": "view-in-github",
        "colab_type": "text"
      },
      "source": [
        "<a href=\"https://colab.research.google.com/github/ssook1222/1Day-1Algo/blob/master/ssook/24%EB%85%84/12%EC%9B%94/12%EC%9B%94%204%EC%A3%BC%EC%B0%A8/1223.ipynb\" target=\"_parent\"><img src=\"https://colab.research.google.com/assets/colab-badge.svg\" alt=\"Open In Colab\"/></a>"
      ]
    },
    {
      "cell_type": "markdown",
      "source": [
        "## BoJ"
      ],
      "metadata": {
        "id": "cWLKDZvmNAfZ"
      }
    },
    {
      "cell_type": "markdown",
      "source": [
        "### 6064"
      ],
      "metadata": {
        "id": "KwbYQyHlNCIJ"
      }
    },
    {
      "cell_type": "code",
      "source": [
        "import sys\n",
        "\n",
        "\n",
        "def calculate(m, n, x, y):\n",
        "    k = x\n",
        "    while k <= m * n:\n",
        "        if (k - x) % m == 0 and (k - y) % n == 0:\n",
        "            return k\n",
        "        k += m\n",
        "    return -1\n",
        "\n",
        "t = int(input())\n",
        "\n",
        "for _ in range(t):\n",
        "    m, n, x, y = map(int, sys.stdin.readline().split())\n",
        "\n",
        "    print(calculate(m, n, x, y))"
      ],
      "metadata": {
        "id": "xfgegPqFNDHc"
      },
      "execution_count": null,
      "outputs": []
    },
    {
      "cell_type": "markdown",
      "source": [
        "## CodeTree"
      ],
      "metadata": {
        "id": "mU1784aONDXX"
      }
    },
    {
      "cell_type": "markdown",
      "source": [
        "### 코드 처리하기"
      ],
      "metadata": {
        "id": "iMiwnvr5NEbW"
      }
    },
    {
      "cell_type": "code",
      "source": [
        "def solution(code):\n",
        "    answer = ''\n",
        "    mode = 0\n",
        "\n",
        "    for i in range(len(code)):\n",
        "        if mode == 0:\n",
        "            if code[i] != '1':\n",
        "                if i%2==0:\n",
        "                    answer += code[i]\n",
        "            else:\n",
        "                mode = 1\n",
        "        else:\n",
        "            if code[i] != '1':\n",
        "                if i%2!=0:\n",
        "                    answer += code[i]\n",
        "            else:\n",
        "                mode = 0\n",
        "\n",
        "    if answer == '':\n",
        "        return 'EMPTY'\n",
        "\n",
        "    return answer"
      ],
      "metadata": {
        "id": "6L7LBO3pNFWZ"
      },
      "execution_count": null,
      "outputs": []
    }
  ]
}