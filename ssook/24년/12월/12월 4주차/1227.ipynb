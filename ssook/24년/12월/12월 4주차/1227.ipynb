{
  "nbformat": 4,
  "nbformat_minor": 0,
  "metadata": {
    "colab": {
      "provenance": [],
      "authorship_tag": "ABX9TyNd2hNUnM72Utyw9Fj1tRB5",
      "include_colab_link": true
    },
    "kernelspec": {
      "name": "python3",
      "display_name": "Python 3"
    },
    "language_info": {
      "name": "python"
    }
  },
  "cells": [
    {
      "cell_type": "markdown",
      "metadata": {
        "id": "view-in-github",
        "colab_type": "text"
      },
      "source": [
        "<a href=\"https://colab.research.google.com/github/ssook1222/1Day-1Algo/blob/master/ssook/24%EB%85%84/12%EC%9B%94/12%EC%9B%94%204%EC%A3%BC%EC%B0%A8/1227.ipynb\" target=\"_parent\"><img src=\"https://colab.research.google.com/assets/colab-badge.svg\" alt=\"Open In Colab\"/></a>"
      ]
    },
    {
      "cell_type": "markdown",
      "source": [
        "## BoJ"
      ],
      "metadata": {
        "id": "cWLKDZvmNAfZ"
      }
    },
    {
      "cell_type": "markdown",
      "source": [
        "### 3085"
      ],
      "metadata": {
        "id": "KwbYQyHlNCIJ"
      }
    },
    {
      "cell_type": "code",
      "source": [
        "import sys\n",
        "\n",
        "input = sys.stdin.readline\n",
        "n = int(input())\n",
        "c = [list(input()) for _ in range(n)]\n",
        "\n",
        "def checkCurMaxNum():\n",
        "    max_cnt = 1\n",
        "    for i in range(n):\n",
        "        cnt = 1\n",
        "        for j in range(1, n):\n",
        "            if c[i][j] == c[i][j - 1]:\n",
        "                cnt += 1\n",
        "            else:\n",
        "                cnt = 1\n",
        "            max_cnt = max(cnt, max_cnt)\n",
        "\n",
        "        cnt = 1\n",
        "        for j in range(1, n):\n",
        "            if c[j][i] == c[j - 1][i]:\n",
        "                cnt += 1\n",
        "            else:\n",
        "                cnt = 1\n",
        "            max_cnt = max(cnt, max_cnt)\n",
        "\n",
        "    return max_cnt\n",
        "\n",
        "\n",
        "result = 1\n",
        "for i in range(n):\n",
        "    for j in range(n - 1):\n",
        "        if j + 1 < n and c[i][j] != c[i][j + 1]:\n",
        "            c[i][j], c[i][j + 1] = c[i][j + 1], c[i][j]\n",
        "            result = max(result, checkCurMaxNum())\n",
        "            c[i][j], c[i][j + 1] = c[i][j + 1], c[i][j]\n",
        "\n",
        "        if i + 1 < n and c[i][j] != c[i + 1][j]:\n",
        "            c[i][j], c[i + 1][j] = c[i + 1][j], c[i][j]\n",
        "\n",
        "            result = max(result, checkCurMaxNum())\n",
        "            c[i][j], c[i + 1][j] = c[i + 1][j], c[i][j]\n",
        "\n",
        "print(result)"
      ],
      "metadata": {
        "id": "xfgegPqFNDHc"
      },
      "execution_count": null,
      "outputs": []
    },
    {
      "cell_type": "markdown",
      "source": [
        "## CodeTree"
      ],
      "metadata": {
        "id": "mU1784aONDXX"
      }
    },
    {
      "cell_type": "markdown",
      "source": [
        "### 정사각형으로 만들기"
      ],
      "metadata": {
        "id": "iMiwnvr5NEbW"
      }
    },
    {
      "cell_type": "code",
      "source": [
        "def solution(arr):\n",
        "\n",
        "    num_rows = len(arr)\n",
        "    num_cols = len(arr[0])\n",
        "\n",
        "    if num_rows > num_cols:\n",
        "        for i in range(num_rows):\n",
        "            while len(arr[i]) < num_rows:\n",
        "                arr[i].append(0)\n",
        "\n",
        "    else:\n",
        "        for i in range(num_rows):\n",
        "            while len(arr[i]) < num_cols:\n",
        "                arr[i].append(0)\n",
        "        while len(arr) < num_cols:\n",
        "            arr.append([0] * num_cols)\n",
        "\n",
        "    return arr"
      ],
      "metadata": {
        "id": "6L7LBO3pNFWZ"
      },
      "execution_count": null,
      "outputs": []
    }
  ]
}