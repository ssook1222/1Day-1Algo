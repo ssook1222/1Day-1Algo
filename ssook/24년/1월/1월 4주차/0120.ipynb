{
  "nbformat": 4,
  "nbformat_minor": 0,
  "metadata": {
    "colab": {
      "provenance": [],
      "authorship_tag": "ABX9TyPuNn64qb4+Ysf1YqQP3Qlk",
      "include_colab_link": true
    },
    "kernelspec": {
      "name": "python3",
      "display_name": "Python 3"
    },
    "language_info": {
      "name": "python"
    }
  },
  "cells": [
    {
      "cell_type": "markdown",
      "metadata": {
        "id": "view-in-github",
        "colab_type": "text"
      },
      "source": [
        "<a href=\"https://colab.research.google.com/github/ssook1222/1Day-1Algo/blob/master/ssook/24%EB%85%84/1%EC%9B%94/1%EC%9B%94%204%EC%A3%BC%EC%B0%A8/0120.ipynb\" target=\"_parent\"><img src=\"https://colab.research.google.com/assets/colab-badge.svg\" alt=\"Open In Colab\"/></a>"
      ]
    },
    {
      "cell_type": "markdown",
      "source": [
        "## BoJ"
      ],
      "metadata": {
        "id": "rOWeQ01GBHBc"
      }
    },
    {
      "cell_type": "markdown",
      "source": [
        "### 9366"
      ],
      "metadata": {
        "id": "Aw_ecQrLBMSk"
      }
    },
    {
      "cell_type": "code",
      "execution_count": null,
      "metadata": {
        "colab": {
          "base_uri": "https://localhost:8080/"
        },
        "id": "Ib6AVVusBEeP",
        "outputId": "e2826654-743d-4c9d-bab6-d0e3b084f8fa"
      },
      "outputs": [
        {
          "output_type": "stream",
          "name": "stdout",
          "text": [
            "3\n",
            "3 3 4\n",
            "Case #1: isosceles\n",
            "3 3 3\n",
            "Case #2: equilateral\n",
            "6 4 2\n",
            "Case #3: invalid!\n"
          ]
        }
      ],
      "source": [
        "import sys\n",
        "\n",
        "t = int(sys.stdin.readline().rstrip())\n",
        "\n",
        "for i in range(1, t+1):\n",
        "  line = list(map(int, sys.stdin.readline().rstrip().split()))\n",
        "  line.sort()\n",
        "\n",
        "  if line[2] >= line[0]+line[1]:\n",
        "    print(\"Case #%d: invalid!\" %i)\n",
        "    continue\n",
        "\n",
        "  else:\n",
        "    if line[0] == line[1] == line[2]:\n",
        "      print(\"Case #%d: equilateral\" %i)\n",
        "      continue\n",
        "\n",
        "    if (line[0] == line[1]) or (line[0] == line[2]) or (line[1] == line[2]):\n",
        "      print(\"Case #%d: isosceles\" %i)\n",
        "      continue\n",
        "\n",
        "    if not ((line[0] == line[1]) or (line[0] == line[2]) or (line[1] == line[2]))  :\n",
        "      print(\"Case #%d: scalene\" %i)\n",
        "      continue"
      ]
    },
    {
      "cell_type": "markdown",
      "source": [
        "### 26502"
      ],
      "metadata": {
        "id": "aoNceWZvBNoL"
      }
    },
    {
      "cell_type": "code",
      "source": [
        "import sys\n",
        "\n",
        "chg = {'y': 'a', 'a': 'e', 'e':'i', 'i':'o', 'o':'u', 'u':'y', 'Y':'A', 'A':'E', 'E':'I', 'I':'O', 'O':'U', 'U':'Y'}\n",
        "\n",
        "n = int(sys.stdin.readline().rstrip())\n",
        "\n",
        "for _ in range(n):\n",
        "  raw = list(sys.stdin.readline().rstrip())\n",
        "  for i in range(len(raw)):\n",
        "    if raw[i] in chg:\n",
        "      raw[i] = chg[raw[i]]\n",
        "\n",
        "  print(''.join(raw))"
      ],
      "metadata": {
        "colab": {
          "base_uri": "https://localhost:8080/"
        },
        "id": "cKawKP3oBOWm",
        "outputId": "8a7c84db-d69f-4801-b942-d76de8e7191f"
      },
      "execution_count": null,
      "outputs": [
        {
          "output_type": "stream",
          "name": "stdout",
          "text": [
            "4\n",
            "Wa most fend ynd dastriu Loka\n",
            "We must find and destroy Luke\n",
            "Skuwylkar, bafira ha bacimas\n",
            "Skywalker, before he becomes\n",
            "ynithar Ibe-Wyn.\n",
            "another Ibi-Wan.\n",
            "- Kuli Ran\n",
            "- Kylo Ren\n"
          ]
        }
      ]
    },
    {
      "cell_type": "markdown",
      "source": [
        "---"
      ],
      "metadata": {
        "id": "jkXoBR26BPVo"
      }
    },
    {
      "cell_type": "markdown",
      "source": [
        "## CodeTree"
      ],
      "metadata": {
        "id": "uZO2aYMpBQWK"
      }
    },
    {
      "cell_type": "markdown",
      "source": [
        "### 완전수 판별기"
      ],
      "metadata": {
        "id": "GjqWOfAoBTdx"
      }
    },
    {
      "cell_type": "code",
      "source": [
        "n = int(input())\n",
        "\n",
        "yaksu = []\n",
        "\n",
        "for i in range(1, n):\n",
        "    if n % i == 0:\n",
        "        yaksu.append(i)\n",
        "\n",
        "if sum(yaksu) == n:\n",
        "    print('P')\n",
        "else:\n",
        "    print('N')"
      ],
      "metadata": {
        "id": "lkrWbF3nBUyQ"
      },
      "execution_count": null,
      "outputs": []
    }
  ]
}