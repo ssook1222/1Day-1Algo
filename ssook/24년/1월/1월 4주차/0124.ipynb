{
  "nbformat": 4,
  "nbformat_minor": 0,
  "metadata": {
    "colab": {
      "provenance": [],
      "authorship_tag": "ABX9TyNMurEtPhcrkoe5E3EUXC5F",
      "include_colab_link": true
    },
    "kernelspec": {
      "name": "python3",
      "display_name": "Python 3"
    },
    "language_info": {
      "name": "python"
    }
  },
  "cells": [
    {
      "cell_type": "markdown",
      "metadata": {
        "id": "view-in-github",
        "colab_type": "text"
      },
      "source": [
        "<a href=\"https://colab.research.google.com/github/ssook1222/1Day-1Algo/blob/master/ssook/24%EB%85%84/1%EC%9B%94/1%EC%9B%94%204%EC%A3%BC%EC%B0%A8/0124.ipynb\" target=\"_parent\"><img src=\"https://colab.research.google.com/assets/colab-badge.svg\" alt=\"Open In Colab\"/></a>"
      ]
    },
    {
      "cell_type": "markdown",
      "source": [
        "## BoJ"
      ],
      "metadata": {
        "id": "AeHB-px30Qdv"
      }
    },
    {
      "cell_type": "markdown",
      "source": [
        "### 24078"
      ],
      "metadata": {
        "id": "q55PFeN80STS"
      }
    },
    {
      "cell_type": "code",
      "execution_count": null,
      "metadata": {
        "id": "--xKUDCP0N8V",
        "colab": {
          "base_uri": "https://localhost:8080/"
        },
        "outputId": "27cbbb3b-78fd-43c8-8ebf-c103bb4e3466"
      },
      "outputs": [
        {
          "output_type": "stream",
          "name": "stdout",
          "text": [
            "50\n",
            "8\n"
          ]
        }
      ],
      "source": [
        "n = int(input())\n",
        "print(n%21)"
      ]
    },
    {
      "cell_type": "markdown",
      "source": [
        "### 30664"
      ],
      "metadata": {
        "id": "GGV6j7Y90TIn"
      }
    },
    {
      "cell_type": "code",
      "source": [
        "while True:\n",
        "  n = int(input())\n",
        "  if n == 0:\n",
        "    break\n",
        "  else:\n",
        "    if n % 42 == 0:\n",
        "      print('PREMIADO')\n",
        "    else:\n",
        "      print('TENTE NOVAMENTE')"
      ],
      "metadata": {
        "id": "OweDQdaR0VNq",
        "colab": {
          "base_uri": "https://localhost:8080/"
        },
        "outputId": "7ba8a62f-8ded-4448-c315-7a2d13cc4e43"
      },
      "execution_count": null,
      "outputs": [
        {
          "name": "stdout",
          "output_type": "stream",
          "text": [
            "42\n",
            "PREMIADO\n",
            "17283940536172938433\n",
            "TENTE NOVAMENTE\n",
            "0\n"
          ]
        }
      ]
    },
    {
      "cell_type": "markdown",
      "source": [
        "---"
      ],
      "metadata": {
        "id": "btpeJPgl0VsN"
      }
    },
    {
      "cell_type": "markdown",
      "source": [
        "## CodeTree"
      ],
      "metadata": {
        "id": "RTiZmeOq0WmB"
      }
    },
    {
      "cell_type": "markdown",
      "source": [
        "### 숫자들의 배수"
      ],
      "metadata": {
        "id": "SaKs7nL90YZV"
      }
    },
    {
      "cell_type": "code",
      "source": [
        "n = int(input())\n",
        "cnt = 0\n",
        "i = 1\n",
        "\n",
        "if n !=5 and n!=10:\n",
        "    while True:\n",
        "        print(n*i, end= ' ')\n",
        "        i += 1\n",
        "        if (n*i) % 5 == 0:\n",
        "            cnt += 1\n",
        "            if cnt == 2:\n",
        "                print(n*i)\n",
        "                break\n",
        "else:\n",
        "    if n==5:\n",
        "        print(5, 10)\n",
        "    elif n==10:\n",
        "        print(10, 20)"
      ],
      "metadata": {
        "id": "lIbsrBYL0ZPs"
      },
      "execution_count": null,
      "outputs": []
    }
  ]
}