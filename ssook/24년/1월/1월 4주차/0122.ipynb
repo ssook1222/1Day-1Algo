{
  "nbformat": 4,
  "nbformat_minor": 0,
  "metadata": {
    "colab": {
      "provenance": [],
      "authorship_tag": "ABX9TyN0XtLaunQpQyyHKlafCaHO",
      "include_colab_link": true
    },
    "kernelspec": {
      "name": "python3",
      "display_name": "Python 3"
    },
    "language_info": {
      "name": "python"
    }
  },
  "cells": [
    {
      "cell_type": "markdown",
      "metadata": {
        "id": "view-in-github",
        "colab_type": "text"
      },
      "source": [
        "<a href=\"https://colab.research.google.com/github/ssook1222/1Day-1Algo/blob/master/ssook/24%EB%85%84/1%EC%9B%94/1%EC%9B%94%204%EC%A3%BC%EC%B0%A8/0122.ipynb\" target=\"_parent\"><img src=\"https://colab.research.google.com/assets/colab-badge.svg\" alt=\"Open In Colab\"/></a>"
      ]
    },
    {
      "cell_type": "markdown",
      "source": [
        "## BoJ"
      ],
      "metadata": {
        "id": "IuD3dmT9skAF"
      }
    },
    {
      "cell_type": "markdown",
      "source": [
        "### 30676"
      ],
      "metadata": {
        "id": "jqaRY-8zsmy-"
      }
    },
    {
      "cell_type": "markdown",
      "source": [
        "빨간색: 620nm 이상 780nm 이하    \n",
        "주황색: 590nm 이상 620nm 미만    \n",
        "노란색: 570nm 이상 590nm 미만    \n",
        "초록색: 495nm 이상 570nm 미만    \n",
        "파란색: 450nm 이상 495nm 미만    \n",
        "남색: 425nm 이상 450nm 미만     \n",
        "보라색: 380nm 이상 425nm 미만    \n"
      ],
      "metadata": {
        "id": "Fq1lHog_udm6"
      }
    },
    {
      "cell_type": "code",
      "execution_count": null,
      "metadata": {
        "id": "kLoC1P1Jq0op"
      },
      "outputs": [],
      "source": [
        "n = int(input())\n",
        "\n",
        "if 620 <= n <= 780:\n",
        "  print('Red')\n",
        "\n",
        "elif 590 <= n < 620:\n",
        "  print('Orange')\n",
        "\n",
        "elif 570 <= n < 590:\n",
        "  print('Yellow')\n",
        "\n",
        "elif 495 <= n < 570:\n",
        "  print('Green')\n",
        "\n",
        "elif 450 <= n < 495:\n",
        "  print('Blue')\n",
        "\n",
        "elif 425 <= n < 450:\n",
        "  print('Indigo')\n",
        "\n",
        "elif 380 <= n < 425:\n",
        "  print('Violet')"
      ]
    },
    {
      "cell_type": "markdown",
      "source": [
        "### 28444"
      ],
      "metadata": {
        "id": "C1nm0cLRsoDA"
      }
    },
    {
      "cell_type": "code",
      "source": [
        "h, i, a, r, c = map(int, input().split())\n",
        "\n",
        "hi = h*i\n",
        "arc = a*r*c\n",
        "\n",
        "print(hi - arc)"
      ],
      "metadata": {
        "id": "EglKkAuqsoxb"
      },
      "execution_count": null,
      "outputs": []
    },
    {
      "cell_type": "markdown",
      "source": [
        "## CodeTree"
      ],
      "metadata": {
        "id": "ffJrx3rOsltc"
      }
    },
    {
      "cell_type": "markdown",
      "source": [
        "### 배열의 특정 위치 찾기 2"
      ],
      "metadata": {
        "id": "hQS4AiVkspXX"
      }
    },
    {
      "cell_type": "code",
      "source": [
        "nums = list(map(int, input().split()))\n",
        "hol = 0\n",
        "jjak = 0\n",
        "\n",
        "for i in range(10):\n",
        "    if i % 2 == 0:\n",
        "        hol += nums[i]\n",
        "\n",
        "    else:\n",
        "        jjak += nums[i]\n",
        "\n",
        "if hol > jjak :\n",
        "    print(hol - jjak)\n",
        "\n",
        "else:\n",
        "    print(jjak - hol)"
      ],
      "metadata": {
        "id": "8fAOzVpTsqS0"
      },
      "execution_count": null,
      "outputs": []
    }
  ]
}