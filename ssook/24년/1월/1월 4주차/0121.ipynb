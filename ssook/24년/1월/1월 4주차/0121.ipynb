{
  "nbformat": 4,
  "nbformat_minor": 0,
  "metadata": {
    "colab": {
      "provenance": [],
      "authorship_tag": "ABX9TyPMyP+bbX3RDyfJ8dQmKxT0",
      "include_colab_link": true
    },
    "kernelspec": {
      "name": "python3",
      "display_name": "Python 3"
    },
    "language_info": {
      "name": "python"
    }
  },
  "cells": [
    {
      "cell_type": "markdown",
      "metadata": {
        "id": "view-in-github",
        "colab_type": "text"
      },
      "source": [
        "<a href=\"https://colab.research.google.com/github/ssook1222/1Day-1Algo/blob/master/ssook/24%EB%85%84/1%EC%9B%94/1%EC%9B%94%204%EC%A3%BC%EC%B0%A8/0121.ipynb\" target=\"_parent\"><img src=\"https://colab.research.google.com/assets/colab-badge.svg\" alt=\"Open In Colab\"/></a>"
      ]
    },
    {
      "cell_type": "markdown",
      "source": [
        "## BoJ"
      ],
      "metadata": {
        "id": "jBrNeVlAJ6xS"
      }
    },
    {
      "cell_type": "markdown",
      "source": [
        "### 3733"
      ],
      "metadata": {
        "id": "GuIekbgNJ84-"
      }
    },
    {
      "cell_type": "code",
      "execution_count": null,
      "metadata": {
        "id": "zYQVAoPfJ4me"
      },
      "outputs": [],
      "source": [
        "import sys\n",
        "\n",
        "while True:\n",
        "    raw = sys.stdin.readline().rstrip()\n",
        "\n",
        "    if not raw:\n",
        "        break\n",
        "\n",
        "    s, x = map(int, raw.split())\n",
        "    s += 1\n",
        "\n",
        "    print(x // s)"
      ]
    },
    {
      "cell_type": "markdown",
      "source": [
        "### 6840"
      ],
      "metadata": {
        "id": "J5doJLKuJ9wl"
      }
    },
    {
      "cell_type": "code",
      "source": [
        "import sys\n",
        "\n",
        "nums = []\n",
        "\n",
        "for _ in range(3):\n",
        "  nums.append(int(sys.stdin.readline().rstrip()))\n",
        "\n",
        "nums.sort()\n",
        "\n",
        "print(nums[1])"
      ],
      "metadata": {
        "colab": {
          "base_uri": "https://localhost:8080/"
        },
        "id": "t5eL1myoJ-gr",
        "outputId": "9e88af4e-ef90-4413-8165-b95153679d2f"
      },
      "execution_count": null,
      "outputs": [
        {
          "output_type": "stream",
          "name": "stdout",
          "text": [
            "Animal      Count\n",
            "-----------------\n",
            "Chickens      100\n",
            "Clydesdales     5\n",
            "Cows           40\n",
            "Goats          22\n",
            "Steers          2\n"
          ]
        }
      ]
    },
    {
      "cell_type": "markdown",
      "source": [
        "---"
      ],
      "metadata": {
        "id": "x4hcrSegJ_Tn"
      }
    },
    {
      "cell_type": "markdown",
      "source": [
        "## CodeTree"
      ],
      "metadata": {
        "id": "iIHgAK8lKAIu"
      }
    },
    {
      "cell_type": "markdown",
      "source": [
        "### 숫자 사이의 배수"
      ],
      "metadata": {
        "id": "0McTjo0WKBdF"
      }
    },
    {
      "cell_type": "code",
      "source": [
        "a, b = map(int, input().split())\n",
        "hap = 0\n",
        "avg = 0\n",
        "cnt = 0\n",
        "\n",
        "for i in range(a, b+1):\n",
        "    if i % 5 == 0 or i % 7 == 0:\n",
        "        hap += i\n",
        "        cnt += 1\n",
        "\n",
        "avg = hap / cnt\n",
        "\n",
        "print(hap, round(avg, 1))"
      ],
      "metadata": {
        "id": "R1QwKLy2KCSM"
      },
      "execution_count": null,
      "outputs": []
    }
  ]
}