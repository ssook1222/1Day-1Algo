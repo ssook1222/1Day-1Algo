{
  "nbformat": 4,
  "nbformat_minor": 0,
  "metadata": {
    "colab": {
      "provenance": [],
      "authorship_tag": "ABX9TyNyub8jSkr2ai1vzdkR9ycX",
      "include_colab_link": true
    },
    "kernelspec": {
      "name": "python3",
      "display_name": "Python 3"
    },
    "language_info": {
      "name": "python"
    }
  },
  "cells": [
    {
      "cell_type": "markdown",
      "metadata": {
        "id": "view-in-github",
        "colab_type": "text"
      },
      "source": [
        "<a href=\"https://colab.research.google.com/github/ssook1222/1Day-1Algo/blob/master/ssook/24%EB%85%84/1%EC%9B%94/1%EC%9B%94%204%EC%A3%BC%EC%B0%A8/0126.ipynb\" target=\"_parent\"><img src=\"https://colab.research.google.com/assets/colab-badge.svg\" alt=\"Open In Colab\"/></a>"
      ]
    },
    {
      "cell_type": "markdown",
      "source": [
        "## BoJ"
      ],
      "metadata": {
        "id": "f0W2szvUCltE"
      }
    },
    {
      "cell_type": "markdown",
      "source": [
        "### 30214"
      ],
      "metadata": {
        "id": "8aMTxlb2CnKu"
      }
    },
    {
      "cell_type": "code",
      "source": [
        "s1, s2 = map(int, input().split())\n",
        "\n",
        "half = s2 / 2\n",
        "\n",
        "if s1 >= half:\n",
        "    print('E')\n",
        "else:\n",
        "    print('H')"
      ],
      "metadata": {
        "colab": {
          "base_uri": "https://localhost:8080/"
        },
        "id": "q7PKBQlNEse0",
        "outputId": "ec90cfc5-b17d-4ce2-8a7f-5de7f27f800c"
      },
      "execution_count": null,
      "outputs": [
        {
          "output_type": "stream",
          "name": "stdout",
          "text": [
            "6 13\n",
            "H\n"
          ]
        }
      ]
    },
    {
      "cell_type": "markdown",
      "source": [
        "### 24086"
      ],
      "metadata": {
        "id": "tkUpwmQ0Cn8M"
      }
    },
    {
      "cell_type": "code",
      "source": [
        "a = int(input())\n",
        "b = int(input())\n",
        "\n",
        "print(b-a)"
      ],
      "metadata": {
        "colab": {
          "base_uri": "https://localhost:8080/"
        },
        "id": "A7JahMgQCpNO",
        "outputId": "6a40c5d9-de60-42a2-a447-c7472a6e94e6"
      },
      "execution_count": null,
      "outputs": [
        {
          "output_type": "stream",
          "name": "stdout",
          "text": [
            "150\n",
            "144\n",
            "-6\n"
          ]
        }
      ]
    },
    {
      "cell_type": "markdown",
      "source": [
        "---"
      ],
      "metadata": {
        "id": "y5md5BKbCpav"
      }
    },
    {
      "cell_type": "markdown",
      "source": [
        "## CodeTree"
      ],
      "metadata": {
        "id": "_TD0CMq4CqXO"
      }
    },
    {
      "cell_type": "markdown",
      "source": [
        "### 배열 채우기"
      ],
      "metadata": {
        "id": "1AiPAOFzCrjg"
      }
    },
    {
      "cell_type": "code",
      "source": [
        "nums = list(map(int, input().split()))\n",
        "ans = []\n",
        "\n",
        "for num in nums:\n",
        "    if num == 0:\n",
        "        break\n",
        "    else:\n",
        "        ans.append(num)\n",
        "\n",
        "ans = ans[::-1]\n",
        "\n",
        "for a in ans:\n",
        "    print(a, end = ' ')"
      ],
      "metadata": {
        "id": "cxDXyqUrCsYQ"
      },
      "execution_count": null,
      "outputs": []
    }
  ]
}