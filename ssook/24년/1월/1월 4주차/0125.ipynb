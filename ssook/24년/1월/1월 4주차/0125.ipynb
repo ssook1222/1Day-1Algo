{
  "nbformat": 4,
  "nbformat_minor": 0,
  "metadata": {
    "colab": {
      "provenance": [],
      "authorship_tag": "ABX9TyP4Rw86WR1QGktux++On31I",
      "include_colab_link": true
    },
    "kernelspec": {
      "name": "python3",
      "display_name": "Python 3"
    },
    "language_info": {
      "name": "python"
    }
  },
  "cells": [
    {
      "cell_type": "markdown",
      "metadata": {
        "id": "view-in-github",
        "colab_type": "text"
      },
      "source": [
        "<a href=\"https://colab.research.google.com/github/ssook1222/1Day-1Algo/blob/master/ssook/24%EB%85%84/1%EC%9B%94/1%EC%9B%94%204%EC%A3%BC%EC%B0%A8/0125.ipynb\" target=\"_parent\"><img src=\"https://colab.research.google.com/assets/colab-badge.svg\" alt=\"Open In Colab\"/></a>"
      ]
    },
    {
      "cell_type": "markdown",
      "source": [
        "## BoJ"
      ],
      "metadata": {
        "id": "mezJNdXx8MVF"
      }
    },
    {
      "cell_type": "markdown",
      "source": [
        "### 30328"
      ],
      "metadata": {
        "id": "DwwTY27i8OJ9"
      }
    },
    {
      "cell_type": "code",
      "execution_count": null,
      "metadata": {
        "colab": {
          "base_uri": "https://localhost:8080/"
        },
        "id": "j1Il_jsH24Dz",
        "outputId": "ebcf607c-718f-4477-aaec-e4702b07453f"
      },
      "outputs": [
        {
          "output_type": "stream",
          "name": "stdout",
          "text": [
            "1\n",
            "4000\n"
          ]
        }
      ],
      "source": [
        "import sys\n",
        "\n",
        "n = int(sys.stdin.readline().rstrip())\n",
        "\n",
        "print(n*4000)"
      ]
    },
    {
      "cell_type": "markdown",
      "source": [
        "### 30224"
      ],
      "metadata": {
        "id": "yWM_E9z-8O59"
      }
    },
    {
      "cell_type": "code",
      "source": [
        "n = int(input())\n",
        "\n",
        "if '7' not in str(n) and n % 7 !=0 :\n",
        "  print(0)\n",
        "\n",
        "elif '7' not in str(n) and n % 7 ==0 :\n",
        "  print(1)\n",
        "\n",
        "elif '7' in str(n) and n % 7 !=0 :\n",
        "  print(2)\n",
        "\n",
        "else:\n",
        "  print(3)"
      ],
      "metadata": {
        "colab": {
          "base_uri": "https://localhost:8080/"
        },
        "id": "FnujozLC8PtF",
        "outputId": "e9013df5-5d18-4baf-a808-d4e5d0aa7c07"
      },
      "execution_count": null,
      "outputs": [
        {
          "output_type": "stream",
          "name": "stdout",
          "text": [
            "25\n",
            "0\n"
          ]
        }
      ]
    },
    {
      "cell_type": "markdown",
      "source": [
        "---"
      ],
      "metadata": {
        "id": "L1_Vjqeb8QAO"
      }
    },
    {
      "cell_type": "markdown",
      "source": [
        "## CodeTree"
      ],
      "metadata": {
        "id": "t5wo_nOf8RC8"
      }
    },
    {
      "cell_type": "markdown",
      "source": [
        "### 특정 숫자 도달하기"
      ],
      "metadata": {
        "id": "FsHNQkXS8TFG"
      }
    },
    {
      "cell_type": "code",
      "source": [
        "raws = list(map(int, input().split()))\n",
        "nums = []\n",
        "for i in range(len(raws)):\n",
        "    if raws[i] >= 250 and i!=len(raws)-1:\n",
        "        break\n",
        "    nums.append(raws[i])\n",
        "\n",
        "if nums:\n",
        "    avg = sum(nums)/len(nums)\n",
        "    print(\"%d %.1f\" %(sum(nums), avg))\n",
        "\n",
        "else:\n",
        "    avg = sum(raws)/len(raws)\n",
        "    print(\"%d %.1f\" %(sum(raws), avg))"
      ],
      "metadata": {
        "id": "KgJDqMwl8T0I"
      },
      "execution_count": null,
      "outputs": []
    }
  ]
}