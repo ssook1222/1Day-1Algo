{
  "nbformat": 4,
  "nbformat_minor": 0,
  "metadata": {
    "colab": {
      "provenance": [],
      "authorship_tag": "ABX9TyPIAmSKYyFbqDJAS9luMfB7",
      "include_colab_link": true
    },
    "kernelspec": {
      "name": "python3",
      "display_name": "Python 3"
    },
    "language_info": {
      "name": "python"
    }
  },
  "cells": [
    {
      "cell_type": "markdown",
      "metadata": {
        "id": "view-in-github",
        "colab_type": "text"
      },
      "source": [
        "<a href=\"https://colab.research.google.com/github/ssook1222/1Day-1Algo/blob/master/ssook/24%EB%85%84/1%EC%9B%94/1%EC%9B%94%202%EC%A3%BC%EC%B0%A8/0107.ipynb\" target=\"_parent\"><img src=\"https://colab.research.google.com/assets/colab-badge.svg\" alt=\"Open In Colab\"/></a>"
      ]
    },
    {
      "cell_type": "markdown",
      "source": [
        "## BoJ"
      ],
      "metadata": {
        "id": "pSwfnaO4bVLv"
      }
    },
    {
      "cell_type": "markdown",
      "source": [
        "### 3765"
      ],
      "metadata": {
        "id": "ETcJfWm5bfxC"
      }
    },
    {
      "cell_type": "code",
      "execution_count": null,
      "metadata": {
        "id": "peY8AiySbQR4"
      },
      "outputs": [],
      "source": [
        "import sys\n",
        "\n",
        "while True:\n",
        "    try:\n",
        "        s = sys.stdin.readline().rstrip()\n",
        "        if s == '':\n",
        "            break\n",
        "        else:\n",
        "            print(s)\n",
        "\n",
        "    except EOFError:\n",
        "        break"
      ]
    },
    {
      "cell_type": "markdown",
      "source": [
        "### 6830"
      ],
      "metadata": {
        "id": "XrFj0OOwbg4a"
      }
    },
    {
      "cell_type": "code",
      "source": [
        "import sys\n",
        "\n",
        "city = {}\n",
        "\n",
        "while True:\n",
        "    try:\n",
        "        s = sys.stdin.readline().rstrip()\n",
        "        if s == '':\n",
        "            break\n",
        "        else:\n",
        "            name, temp_str = s.split()\n",
        "            temp = int(temp_str)\n",
        "\n",
        "            city[name] = temp\n",
        "\n",
        "    except EOFError:\n",
        "        break\n",
        "\n",
        "city = dict(sorted(city.items(), key=lambda x: x[1]))\n",
        "\n",
        "for name in city:\n",
        "    print(name)\n",
        "    break\n"
      ],
      "metadata": {
        "id": "iiapBQL4bhhg"
      },
      "execution_count": null,
      "outputs": []
    },
    {
      "cell_type": "markdown",
      "source": [
        "## CodeTree"
      ],
      "metadata": {
        "id": "6qzFnHy-bWcD"
      }
    },
    {
      "cell_type": "markdown",
      "source": [
        "### 친근하지 않은 수"
      ],
      "metadata": {
        "id": "XyVHlsdfbiEi"
      }
    },
    {
      "cell_type": "code",
      "source": [
        "n = int(input())\n",
        "cnt = 0\n",
        "\n",
        "for i in range(1, n+1):\n",
        "    if i % 2 == 0 or i % 3 == 0 or i % 5 == 0:\n",
        "        pass\n",
        "    else:\n",
        "        cnt += 1\n",
        "\n",
        "print(cnt)"
      ],
      "metadata": {
        "id": "BrDgPMG2bYFB"
      },
      "execution_count": null,
      "outputs": []
    }
  ]
}