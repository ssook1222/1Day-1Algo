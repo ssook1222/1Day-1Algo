{
  "nbformat": 4,
  "nbformat_minor": 0,
  "metadata": {
    "colab": {
      "provenance": [],
      "authorship_tag": "ABX9TyMxYwBIUgQvOsvQ0SH9KjM2",
      "include_colab_link": true
    },
    "kernelspec": {
      "name": "python3",
      "display_name": "Python 3"
    },
    "language_info": {
      "name": "python"
    }
  },
  "cells": [
    {
      "cell_type": "markdown",
      "metadata": {
        "id": "view-in-github",
        "colab_type": "text"
      },
      "source": [
        "<a href=\"https://colab.research.google.com/github/ssook1222/1Day-1Algo/blob/master/ssook/24%EB%85%84/1%EC%9B%94/1%EC%9B%94%202%EC%A3%BC%EC%B0%A8/0110.ipynb\" target=\"_parent\"><img src=\"https://colab.research.google.com/assets/colab-badge.svg\" alt=\"Open In Colab\"/></a>"
      ]
    },
    {
      "cell_type": "markdown",
      "source": [
        "## BoJ"
      ],
      "metadata": {
        "id": "gTQU5IYHm--G"
      }
    },
    {
      "cell_type": "markdown",
      "source": [
        "### 9783"
      ],
      "metadata": {
        "id": "Jc70oqNqnAel"
      }
    },
    {
      "cell_type": "code",
      "execution_count": null,
      "metadata": {
        "id": "vB58ujHXm9P6",
        "colab": {
          "base_uri": "https://localhost:8080/"
        },
        "outputId": "c71f3995-a666-4253-be51-3659fe0e25f1"
      },
      "outputs": [
        {
          "output_type": "stream",
          "name": "stdout",
          "text": [
            "Meet in library at 10:45 AM.\n",
            "39050520 0914 12090218011825 0120 #1#0:#4#5 2739.\n"
          ]
        }
      ],
      "source": [
        "import sys\n",
        "\n",
        "s = sys.stdin.readline().rstrip()\n",
        "tmp = ''\n",
        "\n",
        "for c in s:\n",
        "  if c.isdigit():\n",
        "    tmp += '#'+c\n",
        "  elif c == ' ':\n",
        "    tmp += ' '\n",
        "  elif c.isalpha():\n",
        "    if c.islower():\n",
        "      if len(str(ord(c)-96)) < 2:\n",
        "        tmp += '0'+str(ord(c)-96)\n",
        "      else:\n",
        "        tmp += str(ord(c)-96)\n",
        "    else:\n",
        "      if len(str(ord(c)-96)) < 2:\n",
        "        tmp += '0'+str(ord(c)-96)\n",
        "      else:\n",
        "        tmp += str(ord(c)-38)\n",
        "  else:\n",
        "    tmp += c\n",
        "\n",
        "print(tmp)"
      ]
    },
    {
      "cell_type": "markdown",
      "source": [
        "### 20291"
      ],
      "metadata": {
        "id": "a2WNG5YnnBUm"
      }
    },
    {
      "cell_type": "code",
      "source": [
        "import sys\n",
        "\n",
        "n = int(sys.stdin.readline().rstrip())\n",
        "files = {}\n",
        "\n",
        "for _ in range(n):\n",
        "  s = list(sys.stdin.readline().rstrip().split('.'))\n",
        "  add = s[1]\n",
        "\n",
        "  if add in files:\n",
        "    files[add] += 1\n",
        "  else:\n",
        "    files[add] = 1\n",
        "\n",
        "files = dict(sorted(files.items(), key = lambda x:x[0]))\n",
        "\n",
        "for file in files:\n",
        "  print(file, files[file])\n"
      ],
      "metadata": {
        "id": "YlA71wpVnDDh",
        "colab": {
          "base_uri": "https://localhost:8080/"
        },
        "outputId": "fc316265-11c9-47fb-982b-d2fa0ba492fe"
      },
      "execution_count": null,
      "outputs": [
        {
          "output_type": "stream",
          "name": "stdout",
          "text": [
            "8\n",
            "sbrus.txt\n",
            "spc.spc\n",
            "acm.icpc\n",
            "korea.icpc\n",
            "sample.txt\n",
            "hello.world\n",
            "sogang.spc\n",
            "example.txt\n",
            "icpc 2\n",
            "spc 2\n",
            "txt 3\n",
            "world 1\n"
          ]
        }
      ]
    },
    {
      "cell_type": "markdown",
      "source": [
        "---"
      ],
      "metadata": {
        "id": "9ClsSpGGnDkV"
      }
    },
    {
      "cell_type": "markdown",
      "source": [
        "## CodeTree"
      ],
      "metadata": {
        "id": "bYBCG52rnEke"
      }
    },
    {
      "cell_type": "markdown",
      "source": [
        "### 특정 문자열 존재 유무"
      ],
      "metadata": {
        "id": "nMPGGPu6nGhG"
      }
    },
    {
      "cell_type": "code",
      "source": [
        "n, s = map(str, input().split())\n",
        "\n",
        "n = int(n)\n",
        "\n",
        "for _ in range(n):\n",
        "    st = input()\n",
        "    if s in st:\n",
        "        print(st)\n",
        "    else:\n",
        "        pass"
      ],
      "metadata": {
        "id": "8RZisyYlnHzw"
      },
      "execution_count": null,
      "outputs": []
    }
  ]
}