{
  "nbformat": 4,
  "nbformat_minor": 0,
  "metadata": {
    "colab": {
      "provenance": [],
      "authorship_tag": "ABX9TyPsXg0abj5zKROxTpVFwJvn",
      "include_colab_link": true
    },
    "kernelspec": {
      "name": "python3",
      "display_name": "Python 3"
    },
    "language_info": {
      "name": "python"
    }
  },
  "cells": [
    {
      "cell_type": "markdown",
      "metadata": {
        "id": "view-in-github",
        "colab_type": "text"
      },
      "source": [
        "<a href=\"https://colab.research.google.com/github/ssook1222/1Day-1Algo/blob/master/ssook/24%EB%85%84/1%EC%9B%94/1%EC%9B%94%202%EC%A3%BC%EC%B0%A8/0111.ipynb\" target=\"_parent\"><img src=\"https://colab.research.google.com/assets/colab-badge.svg\" alt=\"Open In Colab\"/></a>"
      ]
    },
    {
      "cell_type": "markdown",
      "source": [
        "## BoJ"
      ],
      "metadata": {
        "id": "dk1ctdiQyu0X"
      }
    },
    {
      "cell_type": "markdown",
      "source": [
        "### 1371"
      ],
      "metadata": {
        "id": "PSf-85dPywcD"
      }
    },
    {
      "cell_type": "code",
      "execution_count": null,
      "metadata": {
        "id": "-E-fbaGHys41",
        "colab": {
          "base_uri": "https://localhost:8080/"
        },
        "outputId": "4c173afc-34a4-4fe1-aced-eca8808a77f9"
      },
      "outputs": [
        {
          "name": "stdout",
          "output_type": "stream",
          "text": [
            "abc a\n"
          ]
        }
      ],
      "source": [
        "import sys\n",
        "\n",
        "s = sys.stdin.read().replace(\"\\n\",\"\").replace(\" \", \"\")\n",
        "\n",
        "alpha_list = list('abcdefghijklmnopqrstuvwxyz')\n",
        "alpha = {}\n",
        "\n",
        "for a in alpha_list:\n",
        "    alpha[a] = 0\n",
        "\n",
        "for c in s:\n",
        "    if c in alpha:\n",
        "        alpha[c] += 1\n",
        "    else:\n",
        "        alpha[c] = 1\n",
        "\n",
        "maxx = max(alpha.values())\n",
        "res = []\n",
        "\n",
        "for i in alpha:\n",
        "    if alpha[i] == maxx:\n",
        "        res.append(i)\n",
        "\n",
        "res.sort()\n",
        "print(*res, sep=\"\")"
      ]
    },
    {
      "cell_type": "markdown",
      "source": [
        "### 10105"
      ],
      "metadata": {
        "id": "WNRoXwbUyxTQ"
      }
    },
    {
      "cell_type": "code",
      "source": [
        "import sys\n",
        "\n",
        "n = int(sys.stdin.readline().rstrip())\n",
        "\n",
        "first = sys.stdin.readline().rstrip().split()\n",
        "second = sys.stdin.readline().rstrip().split()\n",
        "\n",
        "i = 0\n",
        "chk = True\n",
        "while i < n and chk:\n",
        "    position = first.index(second[i])\n",
        "    if first[i] != second[position] or position == i:\n",
        "        chk = False\n",
        "    i += 1\n",
        "\n",
        "if chk:\n",
        "    print('good')\n",
        "else:\n",
        "    print('bad')"
      ],
      "metadata": {
        "id": "CNUxuDeyyyIV",
        "colab": {
          "base_uri": "https://localhost:8080/"
        },
        "outputId": "14e08172-617d-4165-e471-681855e915d3"
      },
      "execution_count": null,
      "outputs": [
        {
          "output_type": "stream",
          "name": "stdout",
          "text": [
            "7\n",
            "Rich Graeme Michelle Sandy Vlado Ron Jacob\n",
            "Ron Vlado Sandy Michelle Rich Graeme Jacob\n",
            "bad\n"
          ]
        }
      ]
    },
    {
      "cell_type": "markdown",
      "source": [
        "---"
      ],
      "metadata": {
        "id": "WUimHUXTyybI"
      }
    },
    {
      "cell_type": "markdown",
      "source": [
        "## CodeTree"
      ],
      "metadata": {
        "id": "yqiZek8TyzYL"
      }
    },
    {
      "cell_type": "markdown",
      "source": [
        "### 123수 출력"
      ],
      "metadata": {
        "id": "dam17Wwfy0lg"
      }
    },
    {
      "cell_type": "code",
      "source": [
        "import itertools\n",
        "\n",
        "n = int(input())\n",
        "num_raw = [1,2,3]\n",
        "\n",
        "raw = list(itertools.product(num_raw, repeat = n))\n",
        "\n",
        "tmps = []\n",
        "for nums in raw:\n",
        "    tmp = ''\n",
        "    for num in nums:\n",
        "        tmp += str(num)\n",
        "\n",
        "    if tmp.count('1') <= tmp.count('2') <=tmp.count('3'):\n",
        "        tmps.append(tmp)\n",
        "\n",
        "for ans in tmps:\n",
        "    print(ans)"
      ],
      "metadata": {
        "id": "WoeeMnPRy1cT"
      },
      "execution_count": null,
      "outputs": []
    }
  ]
}