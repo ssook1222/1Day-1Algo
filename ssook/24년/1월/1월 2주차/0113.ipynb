{
  "nbformat": 4,
  "nbformat_minor": 0,
  "metadata": {
    "colab": {
      "provenance": [],
      "authorship_tag": "ABX9TyOYtXaLzuyxHXK4KPiopnEz",
      "include_colab_link": true
    },
    "kernelspec": {
      "name": "python3",
      "display_name": "Python 3"
    },
    "language_info": {
      "name": "python"
    }
  },
  "cells": [
    {
      "cell_type": "markdown",
      "metadata": {
        "id": "view-in-github",
        "colab_type": "text"
      },
      "source": [
        "<a href=\"https://colab.research.google.com/github/ssook1222/1Day-1Algo/blob/master/ssook/24%EB%85%84/1%EC%9B%94/1%EC%9B%94%202%EC%A3%BC%EC%B0%A8/0113.ipynb\" target=\"_parent\"><img src=\"https://colab.research.google.com/assets/colab-badge.svg\" alt=\"Open In Colab\"/></a>"
      ]
    },
    {
      "cell_type": "markdown",
      "source": [
        "## BoJ"
      ],
      "metadata": {
        "id": "4Vv-qa_PHsjS"
      }
    },
    {
      "cell_type": "markdown",
      "source": [
        "### 4287"
      ],
      "metadata": {
        "id": "T9FfYP7DHyAN"
      }
    },
    {
      "cell_type": "code",
      "execution_count": null,
      "metadata": {
        "id": "Q5SvtY4oHqAE",
        "colab": {
          "base_uri": "https://localhost:8080/"
        },
        "outputId": "d438ef4e-3d9b-4ea8-d553-e9cd11ed264a"
      },
      "outputs": [
        {
          "name": "stdout",
          "output_type": "stream",
          "text": [
            "cat dog emu\n",
            "cat dog emu fah\n",
            "frog wolf bear\n",
            "frog wolf bear sbxq\n",
            "#\n"
          ]
        }
      ],
      "source": [
        "import sys\n",
        "\n",
        "while True:\n",
        "    s = sys.stdin.readline().rstrip()\n",
        "\n",
        "    if s == '#':\n",
        "        sys.exit()\n",
        "\n",
        "    else:\n",
        "        first, second, third = map(str, s.split())\n",
        "        gap = 0\n",
        "        gaps = []\n",
        "        for i in range(len(first)):\n",
        "            gap = ord(second[i]) - ord(first[i])\n",
        "            gaps.append(gap)\n",
        "\n",
        "        tmp = ''\n",
        "        for i in range(len(third)):\n",
        "            raw_ans = gaps[i] + ord(third[i])\n",
        "\n",
        "            if raw_ans > ord('z'):\n",
        "                raw_ans -= 26\n",
        "            elif raw_ans < ord('a'):\n",
        "                raw_ans += 26\n",
        "\n",
        "            tmp += chr(raw_ans)\n",
        "\n",
        "        print(first, second, third, tmp)\n"
      ]
    },
    {
      "cell_type": "markdown",
      "source": [
        "### 28772"
      ],
      "metadata": {
        "id": "j0l4W0T8HzHz"
      }
    },
    {
      "cell_type": "code",
      "source": [
        "import sys\n",
        "from collections import defaultdict\n",
        "\n",
        "raws = sys.stdin.readline().rstrip().split()\n",
        "\n",
        "cnt = defaultdict(int)\n",
        "for raw in raws:\n",
        "    if raw.startswith(\"#\") and len(raw) >= 2 and all(c != \"#\" for c in raw[1:]):\n",
        "        cnt[raw[1:]] += 1\n",
        "\n",
        "sorted_cnt = dict(sorted(cnt.items(), key=lambda x: x[0]))\n",
        "\n",
        "print(len(sorted_cnt))\n",
        "for ans, count in sorted_cnt.items():\n",
        "    print(f\"#{ans} {count}\")"
      ],
      "metadata": {
        "id": "DCki2bwvH0FE",
        "colab": {
          "base_uri": "https://localhost:8080/"
        },
        "outputId": "d719bcb2-221d-4efe-9b21-9435974f5bf7"
      },
      "execution_count": null,
      "outputs": [
        {
          "output_type": "stream",
          "name": "stdout",
          "text": [
            "0\n"
          ]
        }
      ]
    },
    {
      "cell_type": "markdown",
      "source": [
        "## CodeTree"
      ],
      "metadata": {
        "id": "dczAriVLHuLs"
      }
    },
    {
      "cell_type": "markdown",
      "source": [
        "### 1-9 개수 세기"
      ],
      "metadata": {
        "id": "DfqZxzlrHxC1"
      }
    },
    {
      "cell_type": "code",
      "source": [
        "n = int(input())\n",
        "nums = list(map(int, input().split()))\n",
        "\n",
        "cnt = {1:0, 2:0, 3:0, 4:0, 5:0, 6:0, 7:0, 8:0, 9:0}\n",
        "\n",
        "for num in nums:\n",
        "    if num in cnt:\n",
        "        cnt[num] += 1\n",
        "\n",
        "for ans in cnt:\n",
        "    print(cnt[ans])"
      ],
      "metadata": {
        "id": "oGuCeI5fHwaG"
      },
      "execution_count": null,
      "outputs": []
    }
  ]
}