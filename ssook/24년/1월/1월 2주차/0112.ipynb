{
  "nbformat": 4,
  "nbformat_minor": 0,
  "metadata": {
    "colab": {
      "provenance": [],
      "authorship_tag": "ABX9TyPZb0/GLnfldmhx4PnD8Yau",
      "include_colab_link": true
    },
    "kernelspec": {
      "name": "python3",
      "display_name": "Python 3"
    },
    "language_info": {
      "name": "python"
    }
  },
  "cells": [
    {
      "cell_type": "markdown",
      "metadata": {
        "id": "view-in-github",
        "colab_type": "text"
      },
      "source": [
        "<a href=\"https://colab.research.google.com/github/ssook1222/1Day-1Algo/blob/master/ssook/24%EB%85%84/1%EC%9B%94/1%EC%9B%94%202%EC%A3%BC%EC%B0%A8/0112.ipynb\" target=\"_parent\"><img src=\"https://colab.research.google.com/assets/colab-badge.svg\" alt=\"Open In Colab\"/></a>"
      ]
    },
    {
      "cell_type": "markdown",
      "source": [
        "## BoJ"
      ],
      "metadata": {
        "id": "GBbH86BVCmff"
      }
    },
    {
      "cell_type": "markdown",
      "source": [
        "### 2857"
      ],
      "metadata": {
        "id": "KLSLWY2aCoK2"
      }
    },
    {
      "cell_type": "code",
      "execution_count": null,
      "metadata": {
        "id": "paU1MClYCkwD",
        "colab": {
          "base_uri": "https://localhost:8080/"
        },
        "outputId": "45846ede-0603-4e7a-e38c-fab6ab20775e"
      },
      "outputs": [
        {
          "output_type": "stream",
          "name": "stdout",
          "text": [
            "47-FBI\n",
            "BOND-007\n",
            "RF-FBI18\n",
            "MARICA-13\n",
            "13A-FBILL\n",
            "1 3 5\n"
          ]
        }
      ],
      "source": [
        "import sys\n",
        "\n",
        "ans = []\n",
        "for i in range(1, 6):\n",
        "  s = sys.stdin.readline().rstrip()\n",
        "  if 'FBI' in s:\n",
        "    ans.append(i)\n",
        "\n",
        "if ans:\n",
        "  print(*ans)\n",
        "else:\n",
        "  print('HE GOT AWAY!')"
      ]
    },
    {
      "cell_type": "markdown",
      "source": [
        "### 17599"
      ],
      "metadata": {
        "id": "4JJJder0Co_0"
      }
    },
    {
      "cell_type": "code",
      "source": [
        "import sys\n",
        "\n",
        "n = int(sys.stdin.readline().rstrip())\n",
        "\n",
        "raw = list(set(map(int, sys.stdin.readline().rstrip().split())))\n",
        "print(len(raw))"
      ],
      "metadata": {
        "id": "9G5ZuIuQCpxu",
        "colab": {
          "base_uri": "https://localhost:8080/"
        },
        "outputId": "0580dc53-7b64-475b-db25-428991983044"
      },
      "execution_count": null,
      "outputs": [
        {
          "output_type": "stream",
          "name": "stdout",
          "text": [
            "5\n",
            "5 5 6 8 8\n",
            "3\n"
          ]
        }
      ]
    },
    {
      "cell_type": "markdown",
      "source": [
        "---"
      ],
      "metadata": {
        "id": "nuR2H14JCqIv"
      }
    },
    {
      "cell_type": "markdown",
      "source": [
        "## CodeTree"
      ],
      "metadata": {
        "id": "7t-JvB4gCrMF"
      }
    },
    {
      "cell_type": "markdown",
      "source": [
        "### 윤년인가"
      ],
      "metadata": {
        "id": "KgUnhTwLCsvh"
      }
    },
    {
      "cell_type": "code",
      "source": [
        "y = int(input())\n",
        "chk = False\n",
        "\n",
        "if y % 4 == 0 and y % 100 != 0 :\n",
        "    chk = True\n",
        "if y % 4 == 0 and y % 100 == 0 and y % 400 == 0:\n",
        "    chk = True\n",
        "\n",
        "if chk:\n",
        "    print('true')\n",
        "else:\n",
        "    print('false')"
      ],
      "metadata": {
        "id": "Z45de4JgCtdy"
      },
      "execution_count": null,
      "outputs": []
    }
  ]
}