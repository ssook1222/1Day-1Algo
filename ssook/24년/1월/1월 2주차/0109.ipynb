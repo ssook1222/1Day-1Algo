{
  "nbformat": 4,
  "nbformat_minor": 0,
  "metadata": {
    "colab": {
      "provenance": [],
      "authorship_tag": "ABX9TyM9XkcxJPVsqtZlHTimcQWU",
      "include_colab_link": true
    },
    "kernelspec": {
      "name": "python3",
      "display_name": "Python 3"
    },
    "language_info": {
      "name": "python"
    }
  },
  "cells": [
    {
      "cell_type": "markdown",
      "metadata": {
        "id": "view-in-github",
        "colab_type": "text"
      },
      "source": [
        "<a href=\"https://colab.research.google.com/github/ssook1222/1Day-1Algo/blob/master/ssook/24%EB%85%84/1%EC%9B%94/1%EC%9B%94%202%EC%A3%BC%EC%B0%A8/0109.ipynb\" target=\"_parent\"><img src=\"https://colab.research.google.com/assets/colab-badge.svg\" alt=\"Open In Colab\"/></a>"
      ]
    },
    {
      "cell_type": "markdown",
      "source": [
        "## BoJ"
      ],
      "metadata": {
        "id": "4iIG8TGKuHXN"
      }
    },
    {
      "cell_type": "markdown",
      "source": [
        "### 8371"
      ],
      "metadata": {
        "id": "-DX8kblVuJEi"
      }
    },
    {
      "cell_type": "code",
      "execution_count": null,
      "metadata": {
        "id": "Ly4V4GOPuFCy"
      },
      "outputs": [],
      "source": [
        "import sys\n",
        "\n",
        "n = int(sys.stdin.readline().rstrip())\n",
        "\n",
        "ori = sys.stdin.readline().rstrip()\n",
        "raw = sys.stdin.readline().rstrip()\n",
        "\n",
        "cnt = 0\n",
        "for i in range(len(ori)):\n",
        "  if ori[i] != raw[i]:\n",
        "    cnt += 1\n",
        "\n",
        "print(cnt)"
      ]
    },
    {
      "cell_type": "markdown",
      "source": [
        "###"
      ],
      "metadata": {
        "id": "l0UohgJzuKPy"
      }
    },
    {
      "cell_type": "code",
      "source": [
        "import sys\n",
        "\n",
        "def score(x):\n",
        "  if 0 <= x <= 4 :\n",
        "     return 1\n",
        "\n",
        "  elif 4 < x <= 11 :\n",
        "     return 2\n",
        "\n",
        "  elif 11 < x <= 23 :\n",
        "     return 3\n",
        "\n",
        "  elif 23 < x <= 40 :\n",
        "     return 4\n",
        "\n",
        "  elif 40 < x <= 60 :\n",
        "     return 5\n",
        "\n",
        "  elif 60 < x <= 77 :\n",
        "     return 6\n",
        "\n",
        "  elif 77 < x <= 89 :\n",
        "     return 7\n",
        "\n",
        "  elif 89 < x <= 96 :\n",
        "     return 8\n",
        "\n",
        "  else:\n",
        "    return 9\n",
        "\n",
        "n, k = map(int, sys.stdin.readline().rstrip().split())\n",
        "nums = list(map(int, sys.stdin.readline().rstrip().split()))\n",
        "\n",
        "for num in nums:\n",
        "  raw = (num * 100) // n\n",
        "  print(score(raw), end = ' ')\n"
      ],
      "metadata": {
        "id": "GiScvq-ZuK_A",
        "colab": {
          "base_uri": "https://localhost:8080/"
        },
        "outputId": "859d4748-7baf-40e1-acc9-2d92a7d5bc80"
      },
      "execution_count": null,
      "outputs": [
        {
          "output_type": "stream",
          "name": "stdout",
          "text": [
            "255 5\n",
            "30 37 50 7 35\n",
            "2 3 3 1 3 "
          ]
        }
      ]
    },
    {
      "cell_type": "markdown",
      "source": [
        "---"
      ],
      "metadata": {
        "id": "uoLn6ZRRuLY_"
      }
    },
    {
      "cell_type": "markdown",
      "source": [
        "## CodeTree"
      ],
      "metadata": {
        "id": "ad09Hx1tuMnF"
      }
    },
    {
      "cell_type": "markdown",
      "source": [
        "### 소문자와 숫자"
      ],
      "metadata": {
        "id": "e4ejYzuyuORZ"
      }
    },
    {
      "cell_type": "code",
      "source": [
        "s = input()\n",
        "tmp = ''\n",
        "\n",
        "for c in s:\n",
        "    if c.isalpha():\n",
        "        tmp += c.lower()\n",
        "    elif c.isdigit():\n",
        "        tmp += c\n",
        "\n",
        "print(tmp)"
      ],
      "metadata": {
        "id": "RlKSdtvauPDp"
      },
      "execution_count": null,
      "outputs": []
    }
  ]
}