{
  "nbformat": 4,
  "nbformat_minor": 0,
  "metadata": {
    "colab": {
      "provenance": [],
      "authorship_tag": "ABX9TyMAqaPruyq69DIQvJwWWngP",
      "include_colab_link": true
    },
    "kernelspec": {
      "name": "python3",
      "display_name": "Python 3"
    },
    "language_info": {
      "name": "python"
    }
  },
  "cells": [
    {
      "cell_type": "markdown",
      "metadata": {
        "id": "view-in-github",
        "colab_type": "text"
      },
      "source": [
        "<a href=\"https://colab.research.google.com/github/ssook1222/1Day-1Algo/blob/master/ssook/24%EB%85%84/1%EC%9B%94/1%EC%9B%94%202%EC%A3%BC%EC%B0%A8/0108.ipynb\" target=\"_parent\"><img src=\"https://colab.research.google.com/assets/colab-badge.svg\" alt=\"Open In Colab\"/></a>"
      ]
    },
    {
      "cell_type": "markdown",
      "source": [
        "## BoJ"
      ],
      "metadata": {
        "id": "CTPGvuCVbYp6"
      }
    },
    {
      "cell_type": "markdown",
      "source": [
        "### 3029"
      ],
      "metadata": {
        "id": "fH7i1Z8ibdIS"
      }
    },
    {
      "cell_type": "code",
      "execution_count": null,
      "metadata": {
        "colab": {
          "base_uri": "https://localhost:8080/"
        },
        "id": "4awhR3SNbNlw",
        "outputId": "25c893ee-88b9-468b-b341-d055e694a4d9"
      },
      "outputs": [
        {
          "output_type": "stream",
          "name": "stdout",
          "text": [
            "20:00:00\n",
            "04:00:00\n",
            "08:00:00\n"
          ]
        }
      ],
      "source": [
        "import sys\n",
        "from datetime import datetime, timedelta\n",
        "\n",
        "current_time_str = sys.stdin.readline().rstrip()\n",
        "current_time = datetime.strptime(current_time_str, \"%H:%M:%S\")\n",
        "\n",
        "throw_time_str = sys.stdin.readline().strip()\n",
        "throw_time = datetime.strptime(throw_time_str, \"%H:%M:%S\")\n",
        "\n",
        "wait_time = throw_time - current_time\n",
        "if wait_time.total_seconds() < 0:\n",
        "    wait_time += timedelta(days=1)\n",
        "\n",
        "if wait_time.days == 0 and wait_time.seconds == 0:\n",
        "    print(\"24:00:00\")\n",
        "\n",
        "else:\n",
        "    hours, remainder = divmod(wait_time.seconds, 3600)\n",
        "    minutes, seconds = divmod(remainder, 60)\n",
        "\n",
        "    print(f\"{hours:02d}:{minutes:02d}:{seconds:02d}\")"
      ]
    },
    {
      "cell_type": "markdown",
      "source": [
        "### 15238"
      ],
      "metadata": {
        "id": "RSDZcrBBbdZg"
      }
    },
    {
      "cell_type": "code",
      "source": [
        "import sys\n",
        "\n",
        "n = int(sys.stdin.readline().rstrip())\n",
        "s = sys.stdin.readline().rstrip()\n",
        "\n",
        "alpha = {}\n",
        "\n",
        "for c in s:\n",
        "  if not c in alpha:\n",
        "    alpha[c] = 1\n",
        "  else:\n",
        "    alpha[c] += 1\n",
        "\n",
        "alpha = dict(sorted(alpha.items(), key = lambda x:-x[1]))\n",
        "\n",
        "for raw in alpha:\n",
        "  print(raw, alpha[raw])\n",
        "  break"
      ],
      "metadata": {
        "colab": {
          "base_uri": "https://localhost:8080/"
        },
        "id": "SifBVJYJbdoT",
        "outputId": "41bdb32d-3cd4-4f4c-cecf-1e074fd8e288"
      },
      "execution_count": null,
      "outputs": [
        {
          "output_type": "stream",
          "name": "stdout",
          "text": [
            "10\n",
            "arrrrrrghh\n",
            "r 6\n"
          ]
        }
      ]
    },
    {
      "cell_type": "markdown",
      "source": [
        "## CodeTree"
      ],
      "metadata": {
        "id": "bfLmT7UsbarK"
      }
    },
    {
      "cell_type": "markdown",
      "source": [
        "### 1부터의 합"
      ],
      "metadata": {
        "id": "Szfot9HKjvLd"
      }
    },
    {
      "cell_type": "code",
      "source": [
        "n = int(input())\n",
        "hap, i = 0, 0\n",
        "\n",
        "while hap < n :\n",
        "    i += 1\n",
        "    hap += i\n",
        "print(i)"
      ],
      "metadata": {
        "id": "LzSckDZgbcJr"
      },
      "execution_count": null,
      "outputs": []
    }
  ]
}