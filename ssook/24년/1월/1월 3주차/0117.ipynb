{
  "nbformat": 4,
  "nbformat_minor": 0,
  "metadata": {
    "colab": {
      "provenance": [],
      "authorship_tag": "ABX9TyNY+tkEl7Kfp0MaLoulMeD0",
      "include_colab_link": true
    },
    "kernelspec": {
      "name": "python3",
      "display_name": "Python 3"
    },
    "language_info": {
      "name": "python"
    }
  },
  "cells": [
    {
      "cell_type": "markdown",
      "metadata": {
        "id": "view-in-github",
        "colab_type": "text"
      },
      "source": [
        "<a href=\"https://colab.research.google.com/github/ssook1222/1Day-1Algo/blob/master/ssook/24%EB%85%84/1%EC%9B%94/1%EC%9B%94%203%EC%A3%BC%EC%B0%A8/0117.ipynb\" target=\"_parent\"><img src=\"https://colab.research.google.com/assets/colab-badge.svg\" alt=\"Open In Colab\"/></a>"
      ]
    },
    {
      "cell_type": "markdown",
      "source": [
        "## BoJ"
      ],
      "metadata": {
        "id": "Pkc5hxEPe3kr"
      }
    },
    {
      "cell_type": "markdown",
      "source": [
        "### 26736"
      ],
      "metadata": {
        "id": "pMparUise5fc"
      }
    },
    {
      "cell_type": "code",
      "source": [
        "import sys\n",
        "\n",
        "s = sys.stdin.readline().rstrip()\n",
        "\n",
        "a_score = s.count('A')\n",
        "b_score = s.count('B')\n",
        "\n",
        "print('%d : %d' %(a_score, b_score))"
      ],
      "metadata": {
        "colab": {
          "base_uri": "https://localhost:8080/"
        },
        "id": "S9M6bo-Ve6Qa",
        "outputId": "ed8ab503-dd0a-494f-d00e-5f48667546ba"
      },
      "execution_count": null,
      "outputs": [
        {
          "output_type": "stream",
          "name": "stdout",
          "text": [
            "AAABBBA\n",
            "4 : 3\n"
          ]
        }
      ]
    },
    {
      "cell_type": "markdown",
      "source": [
        "### 2371"
      ],
      "metadata": {
        "id": "6RcWs5eshlrF"
      }
    },
    {
      "cell_type": "code",
      "source": [
        "import sys\n",
        "\n",
        "n = int(sys.stdin.readline().rstrip())\n",
        "files = []\n",
        "\n",
        "for _ in range(n):\n",
        "    file_info = list(map(int, sys.stdin.readline().rstrip().split()))\n",
        "    files.append(file_info[:-1])\n",
        "\n",
        "max_lengths = max(len(file) for file in files)\n",
        "k_values = []\n",
        "\n",
        "for k in range(1, max_lengths + 1):\n",
        "    prefixes = set()\n",
        "\n",
        "    for file in files:\n",
        "        prefix = tuple(file[:k] + [0] * (k - len(file)))\n",
        "        prefixes.add(prefix)\n",
        "\n",
        "    if len(prefixes) == len(files):\n",
        "        k_values.append(k)\n",
        "\n",
        "result = min(k_values)\n",
        "print(result)"
      ],
      "metadata": {
        "id": "gntdRdCHhm5b"
      },
      "execution_count": null,
      "outputs": []
    },
    {
      "cell_type": "markdown",
      "source": [
        "---"
      ],
      "metadata": {
        "id": "ApjB4eB9t2qI"
      }
    },
    {
      "cell_type": "markdown",
      "source": [
        "## CodeTree"
      ],
      "metadata": {
        "id": "eMt8XGXeezsJ"
      }
    },
    {
      "cell_type": "markdown",
      "source": [
        "### 100 도달하기"
      ],
      "metadata": {
        "id": "__C4nwove1hk"
      }
    },
    {
      "cell_type": "code",
      "execution_count": null,
      "metadata": {
        "id": "YAjLVZJMeyZN"
      },
      "outputs": [],
      "source": [
        "n = int(input())\n",
        "\n",
        "nums = [1, n]\n",
        "\n",
        "i = 1\n",
        "while nums[i] < 100:\n",
        "    nums.append(nums[i-1] + nums[i])\n",
        "    i += 1\n",
        "\n",
        "print(*nums)"
      ]
    }
  ]
}