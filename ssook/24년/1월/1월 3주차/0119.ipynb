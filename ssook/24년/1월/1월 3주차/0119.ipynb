{
  "nbformat": 4,
  "nbformat_minor": 0,
  "metadata": {
    "colab": {
      "provenance": [],
      "authorship_tag": "ABX9TyMQVoxasFQFxDal+acoqtIX",
      "include_colab_link": true
    },
    "kernelspec": {
      "name": "python3",
      "display_name": "Python 3"
    },
    "language_info": {
      "name": "python"
    }
  },
  "cells": [
    {
      "cell_type": "markdown",
      "metadata": {
        "id": "view-in-github",
        "colab_type": "text"
      },
      "source": [
        "<a href=\"https://colab.research.google.com/github/ssook1222/1Day-1Algo/blob/master/ssook/24%EB%85%84/1%EC%9B%94/1%EC%9B%94%203%EC%A3%BC%EC%B0%A8/0119.ipynb\" target=\"_parent\"><img src=\"https://colab.research.google.com/assets/colab-badge.svg\" alt=\"Open In Colab\"/></a>"
      ]
    },
    {
      "cell_type": "markdown",
      "source": [
        "## BoJ"
      ],
      "metadata": {
        "id": "AcpareCPzcc2"
      }
    },
    {
      "cell_type": "markdown",
      "source": [
        "### 26768"
      ],
      "metadata": {
        "id": "3O0a7cb_zg4H"
      }
    },
    {
      "cell_type": "code",
      "execution_count": null,
      "metadata": {
        "colab": {
          "base_uri": "https://localhost:8080/"
        },
        "id": "mrbuAd9fzXfu",
        "outputId": "6ac7e91b-60b3-460f-b9d3-b437d51d835d"
      },
      "outputs": [
        {
          "output_type": "stream",
          "name": "stdout",
          "text": [
            "haxor\n",
            "h4x0r\n"
          ]
        }
      ],
      "source": [
        "import sys\n",
        "\n",
        "chg = {'a':'4', 'e':'3', 'i':'1', 'o':'0', 's':'5'}\n",
        "\n",
        "s = list(sys.stdin.readline().rstrip())\n",
        "\n",
        "for i in range(len(s)):\n",
        "    if s[i] in chg:\n",
        "        s[i] = chg[s[i]]\n",
        "\n",
        "print(''.join(s))"
      ]
    },
    {
      "cell_type": "markdown",
      "source": [
        "### 17598"
      ],
      "metadata": {
        "id": "gqVyHCnrzh9b"
      }
    },
    {
      "cell_type": "code",
      "source": [
        "import sys\n",
        "\n",
        "l_cnt = 0\n",
        "t_cnt = 0\n",
        "\n",
        "for i in range(9):\n",
        "  s = sys.stdin.readline().rstrip()\n",
        "\n",
        "  if s == 'Lion':\n",
        "    l_cnt += 1\n",
        "  elif s == 'Tiger':\n",
        "    t_cnt += 1\n",
        "\n",
        "if l_cnt >= 5 :\n",
        "  print('Lion')\n",
        "\n",
        "if t_cnt >=5 :\n",
        "  print('Tiger')"
      ],
      "metadata": {
        "id": "MPv_roSOziuH"
      },
      "execution_count": null,
      "outputs": []
    },
    {
      "cell_type": "markdown",
      "source": [
        "---"
      ],
      "metadata": {
        "id": "vvuJ2RITzjSN"
      }
    },
    {
      "cell_type": "markdown",
      "source": [
        "## CodeTree"
      ],
      "metadata": {
        "id": "a1xlkW3SzkRp"
      }
    },
    {
      "cell_type": "markdown",
      "source": [
        "### 500 근처의 수"
      ],
      "metadata": {
        "id": "pZ7rUkFLzl8R"
      }
    },
    {
      "cell_type": "code",
      "source": [
        "nums = list(map(int, input().split()))\n",
        "\n",
        "minn = 1e9\n",
        "maxn = -1e9\n",
        "\n",
        "for num in nums:\n",
        "    if num < 500:\n",
        "        if maxn < num:\n",
        "            maxn = num\n",
        "    elif num > 500:\n",
        "        if minn > num:\n",
        "            minn = num\n",
        "\n",
        "print(maxn, minn)"
      ],
      "metadata": {
        "id": "zLpgFs4kzmn5"
      },
      "execution_count": null,
      "outputs": []
    }
  ]
}