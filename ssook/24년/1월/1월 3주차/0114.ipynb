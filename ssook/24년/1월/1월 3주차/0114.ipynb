{
  "nbformat": 4,
  "nbformat_minor": 0,
  "metadata": {
    "colab": {
      "provenance": [],
      "authorship_tag": "ABX9TyM3T6Xv05DMJmOOWzrTd38E",
      "include_colab_link": true
    },
    "kernelspec": {
      "name": "python3",
      "display_name": "Python 3"
    },
    "language_info": {
      "name": "python"
    }
  },
  "cells": [
    {
      "cell_type": "markdown",
      "metadata": {
        "id": "view-in-github",
        "colab_type": "text"
      },
      "source": [
        "<a href=\"https://colab.research.google.com/github/ssook1222/1Day-1Algo/blob/master/ssook/24%EB%85%84/1%EC%9B%94/1%EC%9B%94%203%EC%A3%BC%EC%B0%A8/0114.ipynb\" target=\"_parent\"><img src=\"https://colab.research.google.com/assets/colab-badge.svg\" alt=\"Open In Colab\"/></a>"
      ]
    },
    {
      "cell_type": "markdown",
      "source": [
        "## BoJ"
      ],
      "metadata": {
        "id": "_R0YNHmyzm1B"
      }
    },
    {
      "cell_type": "markdown",
      "source": [
        "### 30958"
      ],
      "metadata": {
        "id": "pQBNPUajzpPv"
      }
    },
    {
      "cell_type": "code",
      "execution_count": null,
      "metadata": {
        "colab": {
          "base_uri": "https://localhost:8080/"
        },
        "id": "o5PNFeQgzh_f",
        "outputId": "32a89f7b-281c-43bb-a0e8-d57fc608d7a7"
      },
      "outputs": [
        {
          "output_type": "stream",
          "name": "stdout",
          "text": [
            "51\n",
            "my era of success began with seoul cyber university\n",
            "6\n"
          ]
        }
      ],
      "source": [
        "import sys\n",
        "\n",
        "n = int(sys.stdin.readline().rstrip())\n",
        "\n",
        "s = sys.stdin.readline().rstrip()\n",
        "cnt = {}\n",
        "\n",
        "for c in s:\n",
        "  if c.isalpha():\n",
        "    if c in cnt:\n",
        "      cnt[c] += 1\n",
        "    else:\n",
        "      cnt[c] = 1\n",
        "\n",
        "cnt = dict(sorted(cnt.items(), key = lambda x:-x[1]))\n",
        "\n",
        "for ans in cnt:\n",
        "  print(cnt[ans])\n",
        "  break"
      ]
    },
    {
      "cell_type": "markdown",
      "source": [
        "### 2386"
      ],
      "metadata": {
        "id": "vL2ZNQnBzqbj"
      }
    },
    {
      "cell_type": "code",
      "source": [
        "import sys\n",
        "\n",
        "while True:\n",
        "  s = sys.stdin.readline().rstrip()\n",
        "  if s == '#':\n",
        "    break\n",
        "\n",
        "  else:\n",
        "    raw = list(map(str, s.split()))\n",
        "\n",
        "    alpha = raw[0]\n",
        "    find = ''.join(raw[1:]).lower()\n",
        "\n",
        "    ans = find.count(alpha)\n",
        "    print(alpha, ans)"
      ],
      "metadata": {
        "colab": {
          "base_uri": "https://localhost:8080/"
        },
        "id": "Dm_022KzzrRK",
        "outputId": "e071426b-c9d8-4a5f-b208-15c6ad00896b"
      },
      "execution_count": null,
      "outputs": [
        {
          "name": "stdout",
          "output_type": "stream",
          "text": [
            "g Programming Contest\n",
            "g 2\n",
            "n New Zealand\n",
            "n 2\n",
            "x This is quite a simple problem.\n",
            "x 0\n",
            "#\n"
          ]
        }
      ]
    },
    {
      "cell_type": "markdown",
      "source": [
        "---"
      ],
      "metadata": {
        "id": "5-GC3mNezri8"
      }
    },
    {
      "cell_type": "markdown",
      "source": [
        "## CodeTree"
      ],
      "metadata": {
        "id": "imop4_jJzsdI"
      }
    },
    {
      "cell_type": "markdown",
      "source": [
        "### n개의 숫자 중 최소"
      ],
      "metadata": {
        "id": "x7-mJ9B4zvdA"
      }
    },
    {
      "cell_type": "code",
      "source": [
        "n = int(input())\n",
        "nums = list(map(int, input().split()))\n",
        "\n",
        "mins = min(nums)\n",
        "cnt = 0\n",
        "\n",
        "for num in nums:\n",
        "    if num == mins:\n",
        "        cnt += 1\n",
        "\n",
        "print(mins, cnt)"
      ],
      "metadata": {
        "id": "PlJ_6t3pzwh0"
      },
      "execution_count": null,
      "outputs": []
    }
  ]
}