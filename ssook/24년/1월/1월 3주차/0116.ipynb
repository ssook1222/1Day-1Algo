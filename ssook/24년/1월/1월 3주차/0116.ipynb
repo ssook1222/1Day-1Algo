{
  "nbformat": 4,
  "nbformat_minor": 0,
  "metadata": {
    "colab": {
      "provenance": [],
      "authorship_tag": "ABX9TyNvj8ODx08BkatOT3EePgzT",
      "include_colab_link": true
    },
    "kernelspec": {
      "name": "python3",
      "display_name": "Python 3"
    },
    "language_info": {
      "name": "python"
    }
  },
  "cells": [
    {
      "cell_type": "markdown",
      "metadata": {
        "id": "view-in-github",
        "colab_type": "text"
      },
      "source": [
        "<a href=\"https://colab.research.google.com/github/ssook1222/1Day-1Algo/blob/master/ssook/24%EB%85%84/1%EC%9B%94/1%EC%9B%94%203%EC%A3%BC%EC%B0%A8/0116.ipynb\" target=\"_parent\"><img src=\"https://colab.research.google.com/assets/colab-badge.svg\" alt=\"Open In Colab\"/></a>"
      ]
    },
    {
      "cell_type": "markdown",
      "source": [
        "## BoJ"
      ],
      "metadata": {
        "id": "8AqyOm9wXCL4"
      }
    },
    {
      "cell_type": "markdown",
      "source": [
        "### 24196"
      ],
      "metadata": {
        "id": "xxUQobLVXG6t"
      }
    },
    {
      "cell_type": "code",
      "execution_count": null,
      "metadata": {
        "colab": {
          "base_uri": "https://localhost:8080/"
        },
        "id": "p8c9dXx3WiEm",
        "outputId": "27c04137-973d-40be-da8f-c8bc6faad1ff"
      },
      "outputs": [
        {
          "output_type": "stream",
          "name": "stdout",
          "text": [
            "HZBKRYAFEAAAAJ\n",
            "HEJ\n"
          ]
        }
      ],
      "source": [
        "#'A'는 다음 문자가 한 자리 앞이라는 뜻이고, 'B'는 두 자리 앞이라는 뜻\n",
        "\n",
        "import sys\n",
        "\n",
        "s = sys.stdin.readline().rstrip()\n",
        "tmp = ''\n",
        "i= 0\n",
        "\n",
        "while i < len(s):\n",
        "  tmp += s[i]\n",
        "  i += ord(s[i]) - 64\n",
        "\n",
        "print(tmp)"
      ]
    },
    {
      "cell_type": "markdown",
      "source": [
        "### 13211"
      ],
      "metadata": {
        "id": "H3pU7epLXIlX"
      }
    },
    {
      "cell_type": "code",
      "source": [
        "import sys\n",
        "\n",
        "steal = {}\n",
        "cnt = 0\n",
        "\n",
        "n = int(sys.stdin.readline().rstrip())\n",
        "\n",
        "for _ in range(n):\n",
        "  s = sys.stdin.readline().rstrip()\n",
        "  steal[s] = True\n",
        "\n",
        "m = int(sys.stdin.readline().rstrip())\n",
        "\n",
        "for _ in range(m):\n",
        "  k = sys.stdin.readline().rstrip()\n",
        "  if k in steal:\n",
        "    cnt += 1\n",
        "\n",
        "print(cnt)"
      ],
      "metadata": {
        "id": "ytImXltpXJB2"
      },
      "execution_count": null,
      "outputs": []
    },
    {
      "cell_type": "markdown",
      "source": [
        "## CodeTree"
      ],
      "metadata": {
        "id": "cd2bYEA1XD9O"
      }
    },
    {
      "cell_type": "markdown",
      "source": [
        "### 일의 자리 배열"
      ],
      "metadata": {
        "id": "zz2WjYkyXGC8"
      }
    },
    {
      "cell_type": "code",
      "source": [
        "nums = list(map(int, input().split()))\n",
        "i = 0\n",
        "\n",
        "while len(nums) < 10:\n",
        "    i += 1\n",
        "    nums.append((nums[i-1] + nums[i])%10)\n",
        "\n",
        "print(*nums)"
      ],
      "metadata": {
        "id": "XHEG7wC7XFoA"
      },
      "execution_count": null,
      "outputs": []
    }
  ]
}