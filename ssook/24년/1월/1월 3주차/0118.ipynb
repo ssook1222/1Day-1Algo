{
  "nbformat": 4,
  "nbformat_minor": 0,
  "metadata": {
    "colab": {
      "provenance": [],
      "authorship_tag": "ABX9TyPsbDWxq20rDO2Wauyq9gQL",
      "include_colab_link": true
    },
    "kernelspec": {
      "name": "python3",
      "display_name": "Python 3"
    },
    "language_info": {
      "name": "python"
    }
  },
  "cells": [
    {
      "cell_type": "markdown",
      "metadata": {
        "id": "view-in-github",
        "colab_type": "text"
      },
      "source": [
        "<a href=\"https://colab.research.google.com/github/ssook1222/1Day-1Algo/blob/master/ssook/24%EB%85%84/1%EC%9B%94/1%EC%9B%94%203%EC%A3%BC%EC%B0%A8/0118.ipynb\" target=\"_parent\"><img src=\"https://colab.research.google.com/assets/colab-badge.svg\" alt=\"Open In Colab\"/></a>"
      ]
    },
    {
      "cell_type": "markdown",
      "source": [
        "## BoJ"
      ],
      "metadata": {
        "id": "xTPPyPTXAOvD"
      }
    },
    {
      "cell_type": "markdown",
      "source": [
        "### 26742"
      ],
      "metadata": {
        "id": "vYTxx0UCAQLq"
      }
    },
    {
      "cell_type": "code",
      "execution_count": null,
      "metadata": {
        "id": "pDxe5poSANLm",
        "colab": {
          "base_uri": "https://localhost:8080/"
        },
        "outputId": "30cd3f80-2383-4cff-def1-b079f68fd429"
      },
      "outputs": [
        {
          "output_type": "stream",
          "name": "stdout",
          "text": [
            "CBBCBCCB\n",
            "4\n"
          ]
        }
      ],
      "source": [
        "import sys\n",
        "\n",
        "s = sys.stdin.readline().rstrip()\n",
        "\n",
        "b_count = s.count('B')\n",
        "c_count = s.count('C')\n",
        "\n",
        "b_pair = b_count // 2\n",
        "c_pair = c_count // 2\n",
        "\n",
        "pairs = b_pair + c_pair\n",
        "\n",
        "print(pairs)"
      ]
    },
    {
      "cell_type": "markdown",
      "source": [
        "### 6325"
      ],
      "metadata": {
        "id": "JsVXtaXUAQ-Q"
      }
    },
    {
      "cell_type": "code",
      "source": [
        "import sys\n",
        "\n",
        "def analyze_program(tc, assignments):\n",
        "    variable_set = set()\n",
        "\n",
        "    variable_set.add('a')\n",
        "\n",
        "    for assignment in assignments:\n",
        "        left, _, right = assignment\n",
        "        if right in variable_set:\n",
        "            variable_set.add(left)\n",
        "        else:\n",
        "            variable_set.discard(left)\n",
        "\n",
        "    print(f\"Program #{tc}\")\n",
        "    if variable_set:\n",
        "        print(\" \".join(sorted(variable_set)))\n",
        "    else:\n",
        "        print(\"none\")\n",
        "    print()\n",
        "\n",
        "\n",
        "def main():\n",
        "    tc = 1\n",
        "\n",
        "    while True:\n",
        "        N = int(sys.stdin.readline().rstrip())\n",
        "        if N == 0:\n",
        "            break\n",
        "\n",
        "        assignments = [sys.stdin.readline().rstrip().split() for _ in range(N)]\n",
        "        analyze_program(tc, assignments)\n",
        "        tc += 1\n",
        "\n",
        "if __name__ == \"__main__\":\n",
        "    main()"
      ],
      "metadata": {
        "id": "sfs-N1AVASPI"
      },
      "execution_count": null,
      "outputs": []
    },
    {
      "cell_type": "markdown",
      "source": [
        "## CodeTree"
      ],
      "metadata": {
        "id": "3bwu3_GNASi_"
      }
    },
    {
      "cell_type": "markdown",
      "source": [
        "### 코로나 메뉴얼"
      ],
      "metadata": {
        "id": "23BjXq_EATzK"
      }
    },
    {
      "cell_type": "code",
      "source": [
        "cnt = 0\n",
        "for _ in range(3):\n",
        "    symp, temp = map(str, input().split())\n",
        "\n",
        "    temp = int(temp)\n",
        "\n",
        "    if symp == 'Y' and temp >= 37:\n",
        "        cnt += 1\n",
        "    elif symp == 'N' and temp >= 37:\n",
        "        pass\n",
        "    elif symp == 'Y' and temp < 37:\n",
        "        pass\n",
        "    else:\n",
        "        pass\n",
        "\n",
        "if cnt >= 2:\n",
        "    print('E')\n",
        "else:\n",
        "    print('N')"
      ],
      "metadata": {
        "id": "j5ilYCAjAUjh"
      },
      "execution_count": null,
      "outputs": []
    }
  ]
}