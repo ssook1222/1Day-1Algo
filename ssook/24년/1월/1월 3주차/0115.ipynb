{
  "nbformat": 4,
  "nbformat_minor": 0,
  "metadata": {
    "colab": {
      "provenance": [],
      "authorship_tag": "ABX9TyPRNk6+JEGZc0s0Fe61Yd9I",
      "include_colab_link": true
    },
    "kernelspec": {
      "name": "python3",
      "display_name": "Python 3"
    },
    "language_info": {
      "name": "python"
    }
  },
  "cells": [
    {
      "cell_type": "markdown",
      "metadata": {
        "id": "view-in-github",
        "colab_type": "text"
      },
      "source": [
        "<a href=\"https://colab.research.google.com/github/ssook1222/1Day-1Algo/blob/master/ssook/24%EB%85%84/1%EC%9B%94/1%EC%9B%94%203%EC%A3%BC%EC%B0%A8/0115.ipynb\" target=\"_parent\"><img src=\"https://colab.research.google.com/assets/colab-badge.svg\" alt=\"Open In Colab\"/></a>"
      ]
    },
    {
      "cell_type": "markdown",
      "source": [
        "## BoJ"
      ],
      "metadata": {
        "id": "D0jTFnoU9v9c"
      }
    },
    {
      "cell_type": "markdown",
      "source": [
        "### 21665"
      ],
      "metadata": {
        "id": "3RWgZn359xee"
      }
    },
    {
      "cell_type": "code",
      "execution_count": null,
      "metadata": {
        "colab": {
          "base_uri": "https://localhost:8080/",
          "height": 394
        },
        "id": "-7ULhAH29uBa",
        "outputId": "98db6d41-460a-47a8-d7d6-8c685a44aa8a"
      },
      "outputs": [
        {
          "name": "stdout",
          "output_type": "stream",
          "text": [
            "3 4\n",
            "WBBW\n",
            "BBBB\n",
            "WBBW\n",
            "\n",
            "BWWW\n",
            "WWWB\n",
            "BWWB\n"
          ]
        },
        {
          "output_type": "error",
          "ename": "IndexError",
          "evalue": "list index out of range",
          "traceback": [
            "\u001b[0;31m---------------------------------------------------------------------------\u001b[0m",
            "\u001b[0;31mIndexError\u001b[0m                                Traceback (most recent call last)",
            "\u001b[0;32m<ipython-input-3-de73f78cc97e>\u001b[0m in \u001b[0;36m<cell line: 15>\u001b[0;34m()\u001b[0m\n\u001b[1;32m     15\u001b[0m \u001b[0;32mfor\u001b[0m \u001b[0mi\u001b[0m \u001b[0;32min\u001b[0m \u001b[0mrange\u001b[0m\u001b[0;34m(\u001b[0m\u001b[0mn\u001b[0m\u001b[0;34m)\u001b[0m\u001b[0;34m:\u001b[0m\u001b[0;34m\u001b[0m\u001b[0;34m\u001b[0m\u001b[0m\n\u001b[1;32m     16\u001b[0m   \u001b[0;32mfor\u001b[0m \u001b[0mj\u001b[0m \u001b[0;32min\u001b[0m \u001b[0mrange\u001b[0m\u001b[0;34m(\u001b[0m\u001b[0mm\u001b[0m\u001b[0;34m)\u001b[0m\u001b[0;34m:\u001b[0m\u001b[0;34m\u001b[0m\u001b[0;34m\u001b[0m\u001b[0m\n\u001b[0;32m---> 17\u001b[0;31m     \u001b[0;32mif\u001b[0m \u001b[0mnums_ori\u001b[0m\u001b[0;34m[\u001b[0m\u001b[0mi\u001b[0m\u001b[0;34m]\u001b[0m\u001b[0;34m[\u001b[0m\u001b[0mj\u001b[0m\u001b[0;34m]\u001b[0m \u001b[0;34m==\u001b[0m \u001b[0mnums_real\u001b[0m\u001b[0;34m[\u001b[0m\u001b[0mi\u001b[0m\u001b[0;34m]\u001b[0m\u001b[0;34m[\u001b[0m\u001b[0mj\u001b[0m\u001b[0;34m]\u001b[0m\u001b[0;34m:\u001b[0m\u001b[0;34m\u001b[0m\u001b[0;34m\u001b[0m\u001b[0m\n\u001b[0m\u001b[1;32m     18\u001b[0m       \u001b[0mcnt\u001b[0m \u001b[0;34m+=\u001b[0m \u001b[0;36m1\u001b[0m\u001b[0;34m\u001b[0m\u001b[0;34m\u001b[0m\u001b[0m\n\u001b[1;32m     19\u001b[0m \u001b[0;34m\u001b[0m\u001b[0m\n",
            "\u001b[0;31mIndexError\u001b[0m: list index out of range"
          ]
        }
      ],
      "source": [
        "import sys\n",
        "\n",
        "n, m = map(int, sys.stdin.readline().rstrip().split())\n",
        "nums_ori = []\n",
        "nums_real = []\n",
        "\n",
        "for _ in range(n):\n",
        "    nums_ori.append(list(map(str, sys.stdin.readline().rstrip())))\n",
        "\n",
        "input()\n",
        "\n",
        "for _ in range(n):\n",
        "    nums_real.append(list(map(str, sys.stdin.readline().rstrip())))\n",
        "\n",
        "cnt = 0\n",
        "\n",
        "for i in range(n):\n",
        "    for j in range(m):\n",
        "        if nums_ori[i][j] == nums_real[i][j]:\n",
        "            cnt += 1\n",
        "\n",
        "print(cnt)\n"
      ]
    },
    {
      "cell_type": "markdown",
      "source": [
        "### 2445"
      ],
      "metadata": {
        "id": "R3LDYwnR9yjM"
      }
    },
    {
      "cell_type": "code",
      "source": [
        "import sys\n",
        "\n",
        "n = int(sys.stdin.readline().rstrip())\n",
        "\n",
        "for i in range(1, n+1):\n",
        "  print('*'*i + ' '*(n-i) + ' '*(n-i) + '*'*(i))\n",
        "for j in range(n):\n",
        "    if j == n-1:\n",
        "      break\n",
        "    print('*'*((n-1)-j)+' '*(j+1) + ' '*(j+1)+'*'*((n-1)-j))"
      ],
      "metadata": {
        "colab": {
          "base_uri": "https://localhost:8080/"
        },
        "id": "tylsSLi69zjW",
        "outputId": "057018f2-7f38-42c1-a846-7a1a17faa96d"
      },
      "execution_count": null,
      "outputs": [
        {
          "output_type": "stream",
          "name": "stdout",
          "text": [
            "5\n",
            "*        *\n",
            "**      **\n",
            "***    ***\n",
            "****  ****\n",
            "**********\n",
            "****  ****\n",
            "***    ***\n",
            "**      **\n",
            "*        *\n"
          ]
        }
      ]
    },
    {
      "cell_type": "markdown",
      "source": [
        "### 6784"
      ],
      "metadata": {
        "id": "t7KnOZGCF5n8"
      }
    },
    {
      "cell_type": "code",
      "source": [
        "import sys\n",
        "\n",
        "n = int(sys.stdin.readline().rstrip())\n",
        "student = []\n",
        "ans = []\n",
        "\n",
        "cnt = 0\n",
        "\n",
        "for _ in range(n):\n",
        "  student.append(sys.stdin.readline().rstrip())\n",
        "\n",
        "for _ in range(n):\n",
        "  ans.append(sys.stdin.readline().rstrip())\n",
        "\n",
        "for i in range(len(ans)):\n",
        "  if ans[i] == student[i]:\n",
        "    cnt += 1\n",
        "\n",
        "print(cnt)"
      ],
      "metadata": {
        "colab": {
          "base_uri": "https://localhost:8080/"
        },
        "id": "dpjCEarFF56U",
        "outputId": "b9b9cead-b084-41a0-c757-1365229a35fd"
      },
      "execution_count": null,
      "outputs": [
        {
          "output_type": "stream",
          "name": "stdout",
          "text": [
            "3\n",
            "A\n",
            "B\n",
            "C\n",
            "A\n",
            "C\n",
            "B\n",
            "1\n"
          ]
        }
      ]
    },
    {
      "cell_type": "markdown",
      "source": [
        "---"
      ],
      "metadata": {
        "id": "3TFcp8q_90MT"
      }
    },
    {
      "cell_type": "markdown",
      "source": [
        "## CodeTree"
      ],
      "metadata": {
        "id": "ezPDdSKH91ye"
      }
    },
    {
      "cell_type": "markdown",
      "source": [
        "### 999 또는 -999"
      ],
      "metadata": {
        "id": "BpXWCRC593PQ"
      }
    },
    {
      "cell_type": "code",
      "source": [
        "nums = list(map(int, input().split()))\n",
        "mins = 1e9\n",
        "maxs = -1e9\n",
        "for num in nums:\n",
        "    if num == -999 or num == 999:\n",
        "        break\n",
        "    else:\n",
        "        if num < mins:\n",
        "            mins = num\n",
        "        elif num > maxs:\n",
        "            maxs = num\n",
        "\n",
        "print(maxs, mins)"
      ],
      "metadata": {
        "id": "RAt4qlu994CP"
      },
      "execution_count": null,
      "outputs": []
    }
  ]
}