{
  "nbformat": 4,
  "nbformat_minor": 0,
  "metadata": {
    "colab": {
      "provenance": [],
      "authorship_tag": "ABX9TyOmdXES/QlFff2mSl1y/o/6",
      "include_colab_link": true
    },
    "kernelspec": {
      "name": "python3",
      "display_name": "Python 3"
    },
    "language_info": {
      "name": "python"
    }
  },
  "cells": [
    {
      "cell_type": "markdown",
      "metadata": {
        "id": "view-in-github",
        "colab_type": "text"
      },
      "source": [
        "<a href=\"https://colab.research.google.com/github/ssook1222/1Day-1Algo/blob/master/ssook/24%EB%85%84/1%EC%9B%94/1%EC%9B%94%201%EC%A3%BC%EC%B0%A8/0101.ipynb\" target=\"_parent\"><img src=\"https://colab.research.google.com/assets/colab-badge.svg\" alt=\"Open In Colab\"/></a>"
      ]
    },
    {
      "cell_type": "markdown",
      "source": [
        "## BoJ"
      ],
      "metadata": {
        "id": "CamWml9zVWqH"
      }
    },
    {
      "cell_type": "markdown",
      "source": [
        "### 4408"
      ],
      "metadata": {
        "id": "NCNhrqknVYxb"
      }
    },
    {
      "cell_type": "code",
      "execution_count": null,
      "metadata": {
        "id": "B-uubFwRVBYi"
      },
      "outputs": [],
      "source": [
        "from collections import defaultdict\n",
        "import sys\n",
        "\n",
        "def cmp(a, b):\n",
        "    return m[a[0]] > m[b[0]]\n",
        "\n",
        "N = int(sys.stdin.readline().rstrip())\n",
        "v = []\n",
        "\n",
        "for _ in range(N):\n",
        "    v.append((sys.stdin.readline().rstrip(), sys.stdin.readline().rstrip()))\n",
        "\n",
        "M = int(sys.stdin.readline().rstrip())\n",
        "m = defaultdict(int)\n",
        "\n",
        "for _ in range(M):\n",
        "    str_input = sys.stdin.readline().rstrip()\n",
        "    m[str_input] += 1\n",
        "\n",
        "v.sort(key=lambda x: m[x[0]], reverse=True)\n",
        "\n",
        "if m[v[0][0]] > m[v[1][0]]:\n",
        "    print(v[0][1])\n",
        "else:\n",
        "    print(\"tie\")"
      ]
    },
    {
      "cell_type": "markdown",
      "source": [
        "### 26560"
      ],
      "metadata": {
        "id": "lCA3ncgtVa-b"
      }
    },
    {
      "cell_type": "code",
      "source": [
        "t = int(input())\n",
        "\n",
        "for _ in range(t):\n",
        "  tmp = ''\n",
        "  s = input()\n",
        "  s_raw = list(s.split())\n",
        "  if '.' not in s_raw[-1]:\n",
        "    s_raw[-1] = s_raw[-1] + '.'\n",
        "\n",
        "  tmp = ' '.join(s_raw)\n",
        "\n",
        "  print(tmp)"
      ],
      "metadata": {
        "colab": {
          "base_uri": "https://localhost:8080/"
        },
        "id": "-DYptFueVbqt",
        "outputId": "a32faaac-32d9-4d79-9a73-9877a5ed9c24"
      },
      "execution_count": 2,
      "outputs": [
        {
          "output_type": "stream",
          "name": "stdout",
          "text": [
            "3\n",
            "You kicked my dog\n",
            "You kicked my dog.\n",
            "No I did not.\n",
            "No I did not.\n",
            "It was the kid that did\n",
            "It was the kid that did.\n"
          ]
        }
      ]
    },
    {
      "cell_type": "markdown",
      "source": [
        "---"
      ],
      "metadata": {
        "id": "t09unbPfWhba"
      }
    },
    {
      "cell_type": "markdown",
      "source": [
        "## CodeTree"
      ],
      "metadata": {
        "id": "5tn0dBtGWizz"
      }
    },
    {
      "cell_type": "markdown",
      "source": [
        "### 특정 조건 배수의 합"
      ],
      "metadata": {
        "id": "lY7DoHIBWj5u"
      }
    },
    {
      "cell_type": "code",
      "source": [
        "a, b = map(int, input().split())\n",
        "hap = 0\n",
        "\n",
        "tmp = 0\n",
        "if a > b:\n",
        "    tmp = a\n",
        "    a = b\n",
        "    b = tmp\n",
        "\n",
        "for i in range(a, b+1):\n",
        "    if i % 5 == 0:\n",
        "        hap += i\n",
        "\n",
        "print(hap)"
      ],
      "metadata": {
        "id": "uGuFWu68WlPL"
      },
      "execution_count": null,
      "outputs": []
    }
  ]
}