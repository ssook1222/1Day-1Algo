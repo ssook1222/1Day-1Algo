{
  "nbformat": 4,
  "nbformat_minor": 0,
  "metadata": {
    "colab": {
      "provenance": [],
      "authorship_tag": "ABX9TyN8YLEtWthL8qTF8uss9DhW",
      "include_colab_link": true
    },
    "kernelspec": {
      "name": "python3",
      "display_name": "Python 3"
    },
    "language_info": {
      "name": "python"
    }
  },
  "cells": [
    {
      "cell_type": "markdown",
      "metadata": {
        "id": "view-in-github",
        "colab_type": "text"
      },
      "source": [
        "<a href=\"https://colab.research.google.com/github/ssook1222/1Day-1Algo/blob/master/ssook/24%EB%85%84/1%EC%9B%94/1%EC%9B%94%201%EC%A3%BC%EC%B0%A8/0102.ipynb\" target=\"_parent\"><img src=\"https://colab.research.google.com/assets/colab-badge.svg\" alt=\"Open In Colab\"/></a>"
      ]
    },
    {
      "cell_type": "markdown",
      "source": [
        "## BoJ"
      ],
      "metadata": {
        "id": "OINjmbASt6nX"
      }
    },
    {
      "cell_type": "markdown",
      "source": [
        "### 11121"
      ],
      "metadata": {
        "id": "2naWRDK_t87V"
      }
    },
    {
      "cell_type": "code",
      "execution_count": 4,
      "metadata": {
        "id": "HNYAXBmKt3fK",
        "colab": {
          "base_uri": "https://localhost:8080/"
        },
        "outputId": "5da9d37c-21cc-4784-97f5-7bdbcbca74eb"
      },
      "outputs": [
        {
          "output_type": "stream",
          "name": "stdout",
          "text": [
            "2\n",
            "10 10\n",
            "OK\n",
            "10 11\n",
            "ERROR\n"
          ]
        }
      ],
      "source": [
        "t = int(input())\n",
        "\n",
        "for _ in range(t):\n",
        "  chk = True\n",
        "  a, b = map(str, input().split())\n",
        "\n",
        "  for i in range(len(a)):\n",
        "    if a[i] == b[i]:\n",
        "      pass\n",
        "    else:\n",
        "      chk = False\n",
        "      break\n",
        "\n",
        "  if chk:\n",
        "    print('OK')\n",
        "  else:\n",
        "    print('ERROR')"
      ]
    },
    {
      "cell_type": "markdown",
      "source": [
        "### 7805"
      ],
      "metadata": {
        "id": "l8AAaWslt-Bn"
      }
    },
    {
      "cell_type": "code",
      "source": [
        "import sys\n",
        "\n",
        "while True:\n",
        "      s = sys.stdin.readline().rstrip()\n",
        "\n",
        "      if s == '':\n",
        "          break\n",
        "\n",
        "      raw_s = list(s)\n",
        "\n",
        "      for i in range(len(raw_s)):\n",
        "        raw_s[i] = ord(raw_s[i]) - 97\n",
        "\n",
        "      sorted_s = sorted(raw_s)\n",
        "\n",
        "      cnt = 0\n",
        "\n",
        "      n = len(raw_s)\n",
        "      for i in range(n):\n",
        "          if raw_s[i] != sorted_s[i]:\n",
        "              p = raw_s.index(sorted_s[i])\n",
        "              raw_s[p], raw_s[i] = raw_s[i], raw_s[p]\n",
        "              cnt += 1\n",
        "\n",
        "      print(cnt)"
      ],
      "metadata": {
        "id": "dNdvns6vjX66"
      },
      "execution_count": null,
      "outputs": []
    },
    {
      "cell_type": "markdown",
      "source": [
        "---"
      ],
      "metadata": {
        "id": "NV28Nv_yt_Bd"
      }
    },
    {
      "cell_type": "markdown",
      "source": [
        "## CodeTree"
      ],
      "metadata": {
        "id": "S_Iuadbyt_0-"
      }
    },
    {
      "cell_type": "markdown",
      "source": [
        "### 100점 도달하기"
      ],
      "metadata": {
        "id": "McDa9LCHuB8U"
      }
    },
    {
      "cell_type": "code",
      "source": [
        "n = int(input())\n",
        "rest = 100 - n\n",
        "\n",
        "for j in range(rest+1):\n",
        "    i = n+j\n",
        "    if i >= 90:\n",
        "        print('A', end = ' ')\n",
        "    elif i >= 80:\n",
        "        print('B', end = ' ')\n",
        "    elif i >= 70:\n",
        "        print('C', end = ' ')\n",
        "    elif i >= 60:\n",
        "        print('D', end = ' ')\n",
        "    elif i < 60:\n",
        "        print('F', end = ' ')"
      ],
      "metadata": {
        "id": "BL3shN-YuC3X"
      },
      "execution_count": null,
      "outputs": []
    }
  ]
}