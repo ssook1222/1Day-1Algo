{
  "nbformat": 4,
  "nbformat_minor": 0,
  "metadata": {
    "colab": {
      "provenance": [],
      "authorship_tag": "ABX9TyP0ngtjhZdTob9FyCf3Ef6K",
      "include_colab_link": true
    },
    "kernelspec": {
      "name": "python3",
      "display_name": "Python 3"
    },
    "language_info": {
      "name": "python"
    }
  },
  "cells": [
    {
      "cell_type": "markdown",
      "metadata": {
        "id": "view-in-github",
        "colab_type": "text"
      },
      "source": [
        "<a href=\"https://colab.research.google.com/github/ssook1222/1Day-1Algo/blob/master/ssook/24%EB%85%84/1%EC%9B%94/1%EC%9B%94%201%EC%A3%BC%EC%B0%A8/0106.ipynb\" target=\"_parent\"><img src=\"https://colab.research.google.com/assets/colab-badge.svg\" alt=\"Open In Colab\"/></a>"
      ]
    },
    {
      "cell_type": "markdown",
      "source": [
        "## BoJ"
      ],
      "metadata": {
        "id": "1Q9jWdVRHseS"
      }
    },
    {
      "cell_type": "markdown",
      "source": [
        "### 7587"
      ],
      "metadata": {
        "id": "ZiuCaTF_HuLE"
      }
    },
    {
      "cell_type": "code",
      "execution_count": null,
      "metadata": {
        "id": "mPpjto5THqzv",
        "colab": {
          "base_uri": "https://localhost:8080/"
        },
        "outputId": "49e2dbd3-ed6a-4b92-c739-074575123b5f"
      },
      "outputs": [
        {
          "name": "stdout",
          "output_type": "stream",
          "text": [
            "6\n",
            "not\n",
            "ant\n",
            "tan\n",
            "ton\n",
            "cat\n",
            "nat\n",
            "ant 2\n",
            "4\n",
            "time\n",
            "timer\n",
            "emit\n",
            "mote\n",
            "time 1\n",
            "0\n"
          ]
        }
      ],
      "source": [
        "import sys\n",
        "\n",
        "while True:\n",
        "    s = int(sys.stdin.readline().rstrip())\n",
        "\n",
        "    if s == 0:\n",
        "        break\n",
        "\n",
        "    else:\n",
        "        word = {}\n",
        "        for _ in range(s):\n",
        "            raw = sys.stdin.readline().rstrip()\n",
        "            raw_list = list(set(raw))\n",
        "            raw_list.sort()\n",
        "            raw_str = ''.join(raw_list)\n",
        "\n",
        "            if raw_str in word:\n",
        "                word[raw_str][1] += 1\n",
        "            else:\n",
        "                word[raw_str] = [raw, 1]\n",
        "\n",
        "        word = dict(sorted(word.items(), key=lambda x: -x[1][1]))\n",
        "\n",
        "        for raw in word:\n",
        "            print(word[raw][0], word[raw][1] - 1)\n",
        "            break\n"
      ]
    },
    {
      "cell_type": "markdown",
      "source": [
        "### 11367"
      ],
      "metadata": {
        "id": "7mpGOBTGHvDt"
      }
    },
    {
      "cell_type": "code",
      "source": [
        "n = int(input())\n",
        "\n",
        "for _ in range(n):\n",
        "  name, score = map(str, input().split())\n",
        "  score = int(score)\n",
        "\n",
        "  if 97 <= score <= 100:\n",
        "    print(name, 'A+')\n",
        "\n",
        "  elif 90 <= score <= 96:\n",
        "    print(name, 'A')\n",
        "\n",
        "  elif 87 <= score <= 89:\n",
        "    print(name, 'B+')\n",
        "\n",
        "  elif 80 <= score <= 86:\n",
        "    print(name, 'B')\n",
        "\n",
        "  elif 77 <= score <= 79:\n",
        "    print(name, 'C+')\n",
        "\n",
        "  elif 70 <= score <= 76:\n",
        "    print(name, 'C')\n",
        "\n",
        "  elif 67 <= score <= 69:\n",
        "    print(name, 'D+')\n",
        "\n",
        "  elif 60 <= score <= 66:\n",
        "    print(name, 'D')\n",
        "\n",
        "  else:\n",
        "    print(name, 'F')"
      ],
      "metadata": {
        "id": "9XeqBqloHwOB",
        "colab": {
          "base_uri": "https://localhost:8080/"
        },
        "outputId": "420a6d93-1fec-4c46-cf20-360002b23a1a"
      },
      "execution_count": null,
      "outputs": [
        {
          "output_type": "stream",
          "name": "stdout",
          "text": [
            "5\n",
            "Bilbo 13\n",
            "Bilbo F\n",
            "Sam 90\n",
            "Sam A\n",
            "Pippin 78\n",
            "Pippin C+\n",
            "Frodo 97\n",
            "Frodo A+\n",
            "Merry 70\n",
            "Merry C\n"
          ]
        }
      ]
    },
    {
      "cell_type": "markdown",
      "source": [
        "---"
      ],
      "metadata": {
        "id": "TxyM7Nw1HwmK"
      }
    },
    {
      "cell_type": "markdown",
      "source": [
        "## CodeTree"
      ],
      "metadata": {
        "id": "fpVPjg84HxnK"
      }
    },
    {
      "cell_type": "markdown",
      "source": [
        "### 숫자의 증감"
      ],
      "metadata": {
        "id": "EYmJKj8QHzH-"
      }
    },
    {
      "cell_type": "code",
      "source": [
        "c, n = map(str, input().split())\n",
        "n = int(n)\n",
        "if c == 'A':\n",
        "    for i in range(1, n+1):\n",
        "        print(i, end=' ')\n",
        "else:\n",
        "    for i in range(n, 0, -1):\n",
        "        print(i, end=' ')"
      ],
      "metadata": {
        "id": "oyzA8UxoHz69"
      },
      "execution_count": null,
      "outputs": []
    }
  ]
}