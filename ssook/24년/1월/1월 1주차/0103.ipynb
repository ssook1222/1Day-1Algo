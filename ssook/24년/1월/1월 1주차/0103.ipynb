{
  "nbformat": 4,
  "nbformat_minor": 0,
  "metadata": {
    "colab": {
      "provenance": [],
      "authorship_tag": "ABX9TyNEfEypQP/zZgywfVUgk/qf",
      "include_colab_link": true
    },
    "kernelspec": {
      "name": "python3",
      "display_name": "Python 3"
    },
    "language_info": {
      "name": "python"
    }
  },
  "cells": [
    {
      "cell_type": "markdown",
      "metadata": {
        "id": "view-in-github",
        "colab_type": "text"
      },
      "source": [
        "<a href=\"https://colab.research.google.com/github/ssook1222/1Day-1Algo/blob/master/ssook/24%EB%85%84/1%EC%9B%94/1%EC%9B%94%201%EC%A3%BC%EC%B0%A8/0103.ipynb\" target=\"_parent\"><img src=\"https://colab.research.google.com/assets/colab-badge.svg\" alt=\"Open In Colab\"/></a>"
      ]
    },
    {
      "cell_type": "markdown",
      "source": [
        "## BoJ"
      ],
      "metadata": {
        "id": "CyftDiRY0RLM"
      }
    },
    {
      "cell_type": "markdown",
      "source": [
        "### 18698"
      ],
      "metadata": {
        "id": "wX8nQrCh0Szy"
      }
    },
    {
      "cell_type": "code",
      "execution_count": null,
      "metadata": {
        "colab": {
          "base_uri": "https://localhost:8080/"
        },
        "id": "MRXsEZsw0Pnv",
        "outputId": "09fff559-92f0-4689-cf0a-44ed4aacdbd7"
      },
      "outputs": [
        {
          "output_type": "stream",
          "name": "stdout",
          "text": [
            "3\n",
            "UUUDU\n",
            "3\n",
            "DDD\n",
            "0\n",
            "UU\n",
            "2\n"
          ]
        }
      ],
      "source": [
        "import sys\n",
        "\n",
        "t = int(sys.stdin.readline().rstrip())\n",
        "\n",
        "for _ in range(t):\n",
        "  cnt = 0\n",
        "  s = sys.stdin.readline().rstrip()\n",
        "  for c in s:\n",
        "    if c == 'D':\n",
        "      break\n",
        "    else:\n",
        "      cnt += 1\n",
        "  print(cnt)"
      ]
    },
    {
      "cell_type": "markdown",
      "source": [
        "### 31090"
      ],
      "metadata": {
        "id": "D0nE1Ebu0Wu7"
      }
    },
    {
      "cell_type": "code",
      "source": [
        "import sys\n",
        "\n",
        "t = int(sys.stdin.readline().rstrip())\n",
        "\n",
        "for _ in range(t):\n",
        "  yr = int(sys.stdin.readline().rstrip())\n",
        "  yr2 = int(str(yr)[-2:])\n",
        "\n",
        "  if (yr+1) % yr2 == 0:\n",
        "    print('Good')\n",
        "  else:\n",
        "    print('Bye')"
      ],
      "metadata": {
        "colab": {
          "base_uri": "https://localhost:8080/"
        },
        "id": "ja7jbYCw0XbG",
        "outputId": "bf1e48be-f82b-43e2-fc53-1295a805ccd1"
      },
      "execution_count": null,
      "outputs": [
        {
          "output_type": "stream",
          "name": "stdout",
          "text": [
            "3\n",
            "2023\n",
            "Good\n",
            "2024\n",
            "Bye\n",
            "2029\n",
            "Good\n"
          ]
        }
      ]
    },
    {
      "cell_type": "markdown",
      "source": [
        "---"
      ],
      "metadata": {
        "id": "_cuqlGoz0YNI"
      }
    },
    {
      "cell_type": "markdown",
      "source": [
        "## CodeTree"
      ],
      "metadata": {
        "id": "gmQXC8BM0Y-5"
      }
    },
    {
      "cell_type": "markdown",
      "source": [
        "### 자리 곱을 구하는 재귀함수"
      ],
      "metadata": {
        "id": "2EpaUo4n1N_r"
      }
    },
    {
      "cell_type": "code",
      "source": [
        "def func(a,b,c):\n",
        "    raw = a*b*c\n",
        "    raw_list = []\n",
        "\n",
        "    res = 1\n",
        "    for r in list(str(raw)):\n",
        "        if r == '0':\n",
        "            pass\n",
        "        else:\n",
        "            res *= int(r)\n",
        "\n",
        "    return res\n",
        "\n",
        "a, b, c = map(int, input().split())\n",
        "print(func(a, b, c))"
      ],
      "metadata": {
        "id": "j1g-hqSg1Ok8"
      },
      "execution_count": null,
      "outputs": []
    }
  ]
}