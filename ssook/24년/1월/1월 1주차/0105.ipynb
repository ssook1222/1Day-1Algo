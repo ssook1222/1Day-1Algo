{
  "nbformat": 4,
  "nbformat_minor": 0,
  "metadata": {
    "colab": {
      "provenance": [],
      "authorship_tag": "ABX9TyOZq4Y61GaZ1VmxBIzYqsdm",
      "include_colab_link": true
    },
    "kernelspec": {
      "name": "python3",
      "display_name": "Python 3"
    },
    "language_info": {
      "name": "python"
    }
  },
  "cells": [
    {
      "cell_type": "markdown",
      "metadata": {
        "id": "view-in-github",
        "colab_type": "text"
      },
      "source": [
        "<a href=\"https://colab.research.google.com/github/ssook1222/1Day-1Algo/blob/master/ssook/24%EB%85%84/1%EC%9B%94/1%EC%9B%94%201%EC%A3%BC%EC%B0%A8/0105.ipynb\" target=\"_parent\"><img src=\"https://colab.research.google.com/assets/colab-badge.svg\" alt=\"Open In Colab\"/></a>"
      ]
    },
    {
      "cell_type": "markdown",
      "source": [
        "## BoJ"
      ],
      "metadata": {
        "id": "KV9xTXLUuc9N"
      }
    },
    {
      "cell_type": "markdown",
      "source": [
        "### 30999"
      ],
      "metadata": {
        "id": "WsC2lWkNuee9"
      }
    },
    {
      "cell_type": "code",
      "execution_count": null,
      "metadata": {
        "colab": {
          "base_uri": "https://localhost:8080/"
        },
        "id": "bWx7DrHhuagh",
        "outputId": "1825a950-26be-4571-e08e-070124ec25a6"
      },
      "outputs": [
        {
          "output_type": "stream",
          "name": "stdout",
          "text": [
            "2 3\n",
            "OOX\n",
            "OXX\n",
            "1\n"
          ]
        }
      ],
      "source": [
        "import sys\n",
        "\n",
        "n, m = map(int, sys.stdin.readline().rstrip().split())\n",
        "m = (m // 2) + 1\n",
        "\n",
        "res = 0\n",
        "\n",
        "for i in range(n):\n",
        "    vote = sys.stdin.readline().rstrip()\n",
        "    cnt = vote.count('O')\n",
        "\n",
        "    if m <= cnt:\n",
        "        res += 1\n",
        "\n",
        "print(res)"
      ]
    },
    {
      "cell_type": "markdown",
      "source": [
        "### 13915\n",
        "\n"
      ],
      "metadata": {
        "id": "GA_M5hi6ufab"
      }
    },
    {
      "cell_type": "code",
      "source": [
        "import sys\n",
        "\n",
        "while True:\n",
        "  s = sys.stdin.readline().rstrip()\n",
        "\n",
        "  if s == '':\n",
        "    break\n",
        "\n",
        "  else:\n",
        "    hubo = {}\n",
        "    s = int(s)\n",
        "\n",
        "    for _ in range(s):\n",
        "      raw = list(set(list(sys.stdin.readline().rstrip())))\n",
        "      raw.sort()\n",
        "\n",
        "      if ''.join(raw) in hubo:\n",
        "        hubo[''.join(raw)] += 1\n",
        "      else:\n",
        "        hubo[''.join(raw)] = 1\n",
        "\n",
        "    print(len(hubo))"
      ],
      "metadata": {
        "colab": {
          "base_uri": "https://localhost:8080/"
        },
        "id": "jEVe9aegugJm",
        "outputId": "4590ce6d-78fd-4e73-9d99-c1f8f56984c3"
      },
      "execution_count": null,
      "outputs": [
        {
          "name": "stdout",
          "output_type": "stream",
          "text": [
            "5\n",
            "132\n",
            "42\n",
            "3312\n",
            "43\n",
            "24424\n",
            "3\n",
            "3\n",
            "222\n",
            "22\n",
            "2\n",
            "1\n",
            "\n"
          ]
        }
      ]
    },
    {
      "cell_type": "markdown",
      "source": [
        "---"
      ],
      "metadata": {
        "id": "UwcjfPEIugqA"
      }
    },
    {
      "cell_type": "markdown",
      "source": [
        "## CodeTree"
      ],
      "metadata": {
        "id": "oLZS-CYQuhzb"
      }
    },
    {
      "cell_type": "markdown",
      "source": [
        "### 공약수"
      ],
      "metadata": {
        "id": "L83nEWtzujUf"
      }
    },
    {
      "cell_type": "code",
      "source": [
        "import math\n",
        "\n",
        "def find_common_factors(n, numbers):\n",
        "    common_factor = numbers[0]\n",
        "\n",
        "    for num in numbers[1:]:\n",
        "        common_factor = math.gcd(common_factor, num)\n",
        "\n",
        "    factors = set()\n",
        "    for i in range(1, int(common_factor**0.5) + 1):\n",
        "        if common_factor % i == 0:\n",
        "            factors.add(i)\n",
        "            factors.add(common_factor // i)\n",
        "\n",
        "    result = sorted(factors)\n",
        "    for factor in result:\n",
        "        print(factor)\n",
        "\n",
        "n = int(input())\n",
        "numbers = list(map(int, input().split()))\n",
        "\n",
        "find_common_factors(n, numbers)"
      ],
      "metadata": {
        "id": "SxLLUyJnuj7d"
      },
      "execution_count": null,
      "outputs": []
    }
  ]
}