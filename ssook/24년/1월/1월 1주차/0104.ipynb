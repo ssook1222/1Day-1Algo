{
  "nbformat": 4,
  "nbformat_minor": 0,
  "metadata": {
    "colab": {
      "provenance": [],
      "authorship_tag": "ABX9TyMj65o/cRE6HEcBGDQmQ3dL",
      "include_colab_link": true
    },
    "kernelspec": {
      "name": "python3",
      "display_name": "Python 3"
    },
    "language_info": {
      "name": "python"
    }
  },
  "cells": [
    {
      "cell_type": "markdown",
      "metadata": {
        "id": "view-in-github",
        "colab_type": "text"
      },
      "source": [
        "<a href=\"https://colab.research.google.com/github/ssook1222/1Day-1Algo/blob/master/ssook/24%EB%85%84/1%EC%9B%94/1%EC%9B%94%201%EC%A3%BC%EC%B0%A8/0104.ipynb\" target=\"_parent\"><img src=\"https://colab.research.google.com/assets/colab-badge.svg\" alt=\"Open In Colab\"/></a>"
      ]
    },
    {
      "cell_type": "markdown",
      "source": [
        "## BoJ"
      ],
      "metadata": {
        "id": "zLsm5Se4pu2a"
      }
    },
    {
      "cell_type": "markdown",
      "source": [
        "### 26731\n",
        "\n"
      ],
      "metadata": {
        "id": "7k9lzrYApwjC"
      }
    },
    {
      "cell_type": "code",
      "execution_count": null,
      "metadata": {
        "id": "gmlwaKJ3ptIN",
        "colab": {
          "base_uri": "https://localhost:8080/"
        },
        "outputId": "fae411dd-f44d-4b1d-ae76-5fd1bca7ce60"
      },
      "outputs": [
        {
          "output_type": "stream",
          "name": "stdout",
          "text": [
            "ABCDEFGHIKLMNOPQRSTUVWXYZ\n",
            "J\n"
          ]
        }
      ],
      "source": [
        "import sys\n",
        "\n",
        "ori = 'ABCDEFGHIJKLMNOPQRSTUVWXYZ'\n",
        "ori_list = list(ori)\n",
        "\n",
        "s = list(sys.stdin.readline().rstrip())\n",
        "\n",
        "for i in range(len(ori_list)):\n",
        "  if not ori_list[i] in s:\n",
        "    print(ori_list[i])\n",
        "    break"
      ]
    },
    {
      "cell_type": "markdown",
      "source": [
        "### 29752"
      ],
      "metadata": {
        "id": "Eo-sXxwRJ1is"
      }
    },
    {
      "cell_type": "code",
      "source": [
        "import sys\n",
        "\n",
        "n = int(sys.stdin.readline().rstrip())\n",
        "\n",
        "problems = list(map(int, sys.stdin.readline().rstrip().split()))\n",
        "\n",
        "res = 0\n",
        "hap = 0\n",
        "\n",
        "for question in problems:\n",
        "  if question != 0:\n",
        "    hap += 1\n",
        "    res = max(res, hap)\n",
        "\n",
        "  if question == 0\n",
        "    res = max(res, hap)\n",
        "    hap = 0\n",
        "\n",
        "print(res)"
      ],
      "metadata": {
        "colab": {
          "base_uri": "https://localhost:8080/"
        },
        "id": "MZH2CGYWJ1yj",
        "outputId": "e529200d-bc3c-4d22-da3c-51be57d11e41"
      },
      "execution_count": null,
      "outputs": [
        {
          "output_type": "stream",
          "name": "stdout",
          "text": [
            "4\n",
            "1 4 0 1\n",
            "2\n"
          ]
        }
      ]
    },
    {
      "cell_type": "markdown",
      "source": [
        "---"
      ],
      "metadata": {
        "id": "MiKQCZ9npy5q"
      }
    },
    {
      "cell_type": "markdown",
      "source": [
        "## CodeTree"
      ],
      "metadata": {
        "id": "YyjI63AvpzYG"
      }
    },
    {
      "cell_type": "markdown",
      "source": [
        "### 곱셈의 결과"
      ],
      "metadata": {
        "id": "Amxt1H-5p6K3"
      }
    },
    {
      "cell_type": "code",
      "source": [
        "res = 1\n",
        "\n",
        "res *= int(input())\n",
        "res *= int(input())\n",
        "res *= int(input())\n",
        "\n",
        "nums = {0:0, 1:0, 2:0, 3:0, 4:0, 5:0, 6:0, 7:0, 8:0, 9:0}\n",
        "\n",
        "for r in list(str(res)):\n",
        "    if int(r) in nums:\n",
        "        nums[int(r)] += 1\n",
        "\n",
        "for ans in nums:\n",
        "    print(nums[ans])"
      ],
      "metadata": {
        "id": "Rzfp9s_Rp7KG"
      },
      "execution_count": null,
      "outputs": []
    }
  ]
}