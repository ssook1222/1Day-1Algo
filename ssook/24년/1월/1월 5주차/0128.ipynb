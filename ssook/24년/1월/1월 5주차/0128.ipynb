{
  "nbformat": 4,
  "nbformat_minor": 0,
  "metadata": {
    "colab": {
      "provenance": [],
      "authorship_tag": "ABX9TyPcDL7c+WqvlAJfcNa5HKEk",
      "include_colab_link": true
    },
    "kernelspec": {
      "name": "python3",
      "display_name": "Python 3"
    },
    "language_info": {
      "name": "python"
    }
  },
  "cells": [
    {
      "cell_type": "markdown",
      "metadata": {
        "id": "view-in-github",
        "colab_type": "text"
      },
      "source": [
        "<a href=\"https://colab.research.google.com/github/ssook1222/1Day-1Algo/blob/master/ssook/24%EB%85%84/1%EC%9B%94/1%EC%9B%94%205%EC%A3%BC%EC%B0%A8/0128.ipynb\" target=\"_parent\"><img src=\"https://colab.research.google.com/assets/colab-badge.svg\" alt=\"Open In Colab\"/></a>"
      ]
    },
    {
      "cell_type": "markdown",
      "source": [
        "## BoJ"
      ],
      "metadata": {
        "id": "PguChuAOkDRr"
      }
    },
    {
      "cell_type": "markdown",
      "source": [
        "### 27324"
      ],
      "metadata": {
        "id": "jZDYdf9skExU"
      }
    },
    {
      "cell_type": "code",
      "execution_count": null,
      "metadata": {
        "id": "nvAkksKWkA7P",
        "colab": {
          "base_uri": "https://localhost:8080/"
        },
        "outputId": "c47dba60-0d01-46d9-831d-61fc03463853"
      },
      "outputs": [
        {
          "output_type": "stream",
          "name": "stdout",
          "text": [
            "22\n",
            "1\n"
          ]
        }
      ],
      "source": [
        "n = input()\n",
        "\n",
        "all = len(n)\n",
        "no_dup = len(set(n))\n",
        "\n",
        "print(all-no_dup)"
      ]
    },
    {
      "cell_type": "markdown",
      "source": [
        "### 24568"
      ],
      "metadata": {
        "id": "OVRAcRTikFsk"
      }
    },
    {
      "cell_type": "code",
      "source": [
        "a = int(input())\n",
        "b = int(input())\n",
        "\n",
        "all = a * 8 + b * 3\n",
        "\n",
        "print(all-28)"
      ],
      "metadata": {
        "id": "uVu9PBl3kKxD",
        "colab": {
          "base_uri": "https://localhost:8080/"
        },
        "outputId": "95c0f7e8-89ee-46da-d637-9b8b08f94e72"
      },
      "execution_count": null,
      "outputs": [
        {
          "output_type": "stream",
          "name": "stdout",
          "text": [
            "2\n",
            "5\n",
            "3\n"
          ]
        }
      ]
    },
    {
      "cell_type": "markdown",
      "source": [
        "---"
      ],
      "metadata": {
        "id": "z5VztNUykHPs"
      }
    },
    {
      "cell_type": "markdown",
      "source": [
        "## CodeTree"
      ],
      "metadata": {
        "id": "bwNIJe4akH8E"
      }
    },
    {
      "cell_type": "markdown",
      "source": [
        "### 개수 세기"
      ],
      "metadata": {
        "id": "67FYmJW-kJNs"
      }
    },
    {
      "cell_type": "code",
      "source": [
        "n, m = map(int, input().split())\n",
        "cnt = 0\n",
        "\n",
        "nums = list(map(int, input().split()))\n",
        "\n",
        "for num in nums:\n",
        "    if num == m:\n",
        "        cnt += 1\n",
        "\n",
        "print(cnt)"
      ],
      "metadata": {
        "id": "jZiM3JyrkKJf"
      },
      "execution_count": null,
      "outputs": []
    }
  ]
}