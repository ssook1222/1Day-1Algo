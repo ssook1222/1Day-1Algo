{
  "nbformat": 4,
  "nbformat_minor": 0,
  "metadata": {
    "colab": {
      "provenance": [],
      "authorship_tag": "ABX9TyOZa/SEGgxT6qQpvPZu2O8+",
      "include_colab_link": true
    },
    "kernelspec": {
      "name": "python3",
      "display_name": "Python 3"
    },
    "language_info": {
      "name": "python"
    }
  },
  "cells": [
    {
      "cell_type": "markdown",
      "metadata": {
        "id": "view-in-github",
        "colab_type": "text"
      },
      "source": [
        "<a href=\"https://colab.research.google.com/github/ssook1222/1Day-1Algo/blob/master/ssook/24%EB%85%84/1%EC%9B%94/1%EC%9B%94%205%EC%A3%BC%EC%B0%A8/0130.ipynb\" target=\"_parent\"><img src=\"https://colab.research.google.com/assets/colab-badge.svg\" alt=\"Open In Colab\"/></a>"
      ]
    },
    {
      "cell_type": "markdown",
      "source": [
        "## BoJ"
      ],
      "metadata": {
        "id": "5FIDtzw0f1_0"
      }
    },
    {
      "cell_type": "markdown",
      "source": [
        "### 26574"
      ],
      "metadata": {
        "id": "zm7TYTAnf3Zp"
      }
    },
    {
      "cell_type": "code",
      "execution_count": null,
      "metadata": {
        "colab": {
          "base_uri": "https://localhost:8080/"
        },
        "id": "jtCftq_tf0Ih",
        "outputId": "b23fa2c5-94e0-480e-d80f-1ef828a9c580"
      },
      "outputs": [
        {
          "output_type": "stream",
          "name": "stdout",
          "text": [
            "3\n",
            "7\n",
            "7 7\n",
            "3\n",
            "3 3\n",
            "10\n",
            "10 10\n"
          ]
        }
      ],
      "source": [
        "n = int(input())\n",
        "\n",
        "for _ in range(n):\n",
        "  a = int(input())\n",
        "  print(a, a)"
      ]
    },
    {
      "cell_type": "markdown",
      "source": [
        "### 30087"
      ],
      "metadata": {
        "id": "lrYWkamPf4YR"
      }
    },
    {
      "cell_type": "code",
      "source": [
        "classed = {'Algorithm':204, 'DataAnalysis':207, 'ArtificialIntelligence':302, 'CyberSecurity': 'B101', 'Network': 303, 'Startup': 501, 'TestStrategy':105}\n",
        "\n",
        "n = int(input())\n",
        "\n",
        "for _ in range(n):\n",
        "  s = input()\n",
        "  print(classed[s])"
      ],
      "metadata": {
        "colab": {
          "base_uri": "https://localhost:8080/"
        },
        "id": "OEjJa1bTf5KB",
        "outputId": "5cc07882-b3a3-41fe-d5c0-f6d74694e89a"
      },
      "execution_count": null,
      "outputs": [
        {
          "output_type": "stream",
          "name": "stdout",
          "text": [
            "4\n",
            "Algorithm\n",
            "204\n",
            "Network\n",
            "303\n",
            "CyberSecurity\n",
            "B101\n",
            "Startup\n",
            "501\n"
          ]
        }
      ]
    },
    {
      "cell_type": "markdown",
      "source": [
        "---"
      ],
      "metadata": {
        "id": "ElwMFWy9f5nj"
      }
    },
    {
      "cell_type": "markdown",
      "source": [
        "## CodeTree"
      ],
      "metadata": {
        "id": "9WXBlGBQf7Mu"
      }
    },
    {
      "cell_type": "markdown",
      "source": [
        "###"
      ],
      "metadata": {
        "id": "7jrmFcNdf8Lv"
      }
    },
    {
      "cell_type": "code",
      "source": [],
      "metadata": {
        "id": "32min77Yf9RM"
      },
      "execution_count": null,
      "outputs": []
    }
  ]
}