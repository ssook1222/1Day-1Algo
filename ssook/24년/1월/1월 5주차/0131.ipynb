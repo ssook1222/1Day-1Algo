{
  "nbformat": 4,
  "nbformat_minor": 0,
  "metadata": {
    "colab": {
      "provenance": [],
      "authorship_tag": "ABX9TyNDcFYqC4C0nGER2qlFARrX",
      "include_colab_link": true
    },
    "kernelspec": {
      "name": "python3",
      "display_name": "Python 3"
    },
    "language_info": {
      "name": "python"
    }
  },
  "cells": [
    {
      "cell_type": "markdown",
      "metadata": {
        "id": "view-in-github",
        "colab_type": "text"
      },
      "source": [
        "<a href=\"https://colab.research.google.com/github/ssook1222/1Day-1Algo/blob/master/ssook/24%EB%85%84/1%EC%9B%94/1%EC%9B%94%205%EC%A3%BC%EC%B0%A8/0131.ipynb\" target=\"_parent\"><img src=\"https://colab.research.google.com/assets/colab-badge.svg\" alt=\"Open In Colab\"/></a>"
      ]
    },
    {
      "cell_type": "markdown",
      "source": [
        "## BoJ"
      ],
      "metadata": {
        "id": "lk-f3L_nJHAL"
      }
    },
    {
      "cell_type": "markdown",
      "source": [
        "### 27327"
      ],
      "metadata": {
        "id": "OO4ZfaB-JI-c"
      }
    },
    {
      "cell_type": "code",
      "execution_count": null,
      "metadata": {
        "colab": {
          "base_uri": "https://localhost:8080/"
        },
        "id": "MtIDK4EOJFR_",
        "outputId": "c680f3f9-0a1b-489a-ae95-da3d1d913dff"
      },
      "outputs": [
        {
          "output_type": "stream",
          "name": "stdout",
          "text": [
            "3\n",
            "72\n"
          ]
        }
      ],
      "source": [
        "n = int(input())\n",
        "print(n*24)"
      ]
    },
    {
      "cell_type": "markdown",
      "source": [
        "### 18408"
      ],
      "metadata": {
        "id": "CqkPQxZIJJ0h"
      }
    },
    {
      "cell_type": "code",
      "source": [
        "nums = list(map(int, input().split()))\n",
        "\n",
        "cnt1 = nums.count(1)\n",
        "cnt2 = nums.count(2)\n",
        "\n",
        "if cnt1 > cnt2:\n",
        "  print(1)\n",
        "\n",
        "elif cnt1 < cnt2:\n",
        "  print(2)\n",
        "\n",
        "else:\n",
        "  pass"
      ],
      "metadata": {
        "colab": {
          "base_uri": "https://localhost:8080/"
        },
        "id": "t-gBlNnvJMXT",
        "outputId": "e4c3aef2-d866-49db-c892-cec2f0b431c1"
      },
      "execution_count": null,
      "outputs": [
        {
          "output_type": "stream",
          "name": "stdout",
          "text": [
            "1 2 1\n",
            "1\n"
          ]
        }
      ]
    },
    {
      "cell_type": "markdown",
      "source": [
        "---"
      ],
      "metadata": {
        "id": "7O8fMZ8GJNiq"
      }
    },
    {
      "cell_type": "markdown",
      "source": [
        "## CodeTree"
      ],
      "metadata": {
        "id": "0EY10e9gJOvN"
      }
    },
    {
      "cell_type": "markdown",
      "source": [
        "### 특정 숫자 맞추기"
      ],
      "metadata": {
        "id": "ITx30JNFJQPS"
      }
    },
    {
      "cell_type": "code",
      "source": [
        "while True:\n",
        "    try:\n",
        "        n = input()\n",
        "        if n == '':\n",
        "            break\n",
        "        else:\n",
        "            n = int(n)\n",
        "            if n < 25:\n",
        "                print('Higher')\n",
        "            elif n > 25:\n",
        "                print('Lower')\n",
        "            elif n == 25:\n",
        "                print('Good')\n",
        "                break\n",
        "    except EOFError:\n",
        "        break"
      ],
      "metadata": {
        "id": "3O-YO-HHJRKN"
      },
      "execution_count": null,
      "outputs": []
    }
  ]
}