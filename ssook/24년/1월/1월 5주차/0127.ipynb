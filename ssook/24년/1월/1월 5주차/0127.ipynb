{
  "nbformat": 4,
  "nbformat_minor": 0,
  "metadata": {
    "colab": {
      "provenance": [],
      "authorship_tag": "ABX9TyOJN7bBxbBOPYUmKklNSaOB",
      "include_colab_link": true
    },
    "kernelspec": {
      "name": "python3",
      "display_name": "Python 3"
    },
    "language_info": {
      "name": "python"
    }
  },
  "cells": [
    {
      "cell_type": "markdown",
      "metadata": {
        "id": "view-in-github",
        "colab_type": "text"
      },
      "source": [
        "<a href=\"https://colab.research.google.com/github/ssook1222/1Day-1Algo/blob/master/ssook/24%EB%85%84/1%EC%9B%94/1%EC%9B%94%205%EC%A3%BC%EC%B0%A8/0127.ipynb\" target=\"_parent\"><img src=\"https://colab.research.google.com/assets/colab-badge.svg\" alt=\"Open In Colab\"/></a>"
      ]
    },
    {
      "cell_type": "markdown",
      "source": [
        "## BoJ"
      ],
      "metadata": {
        "id": "m4oXGdvzT5sm"
      }
    },
    {
      "cell_type": "markdown",
      "source": [
        "### 21598"
      ],
      "metadata": {
        "id": "rU1v05HZT7Zw"
      }
    },
    {
      "cell_type": "code",
      "execution_count": null,
      "metadata": {
        "id": "ylfCQJa1T4Ke",
        "colab": {
          "base_uri": "https://localhost:8080/"
        },
        "outputId": "3bf39086-b53d-4df7-8111-05df8bb9e30f"
      },
      "outputs": [
        {
          "output_type": "stream",
          "name": "stdout",
          "text": [
            "1\n",
            "SciComLove\n"
          ]
        }
      ],
      "source": [
        "n = int(input())\n",
        "\n",
        "for _ in range(n):\n",
        "  print('SciComLove')"
      ]
    },
    {
      "cell_type": "markdown",
      "source": [
        "### 24082"
      ],
      "metadata": {
        "id": "vAyW6WnXT8Mj"
      }
    },
    {
      "cell_type": "code",
      "source": [
        "n = int(input())\n",
        "print(n*n*n)"
      ],
      "metadata": {
        "id": "Ph0mgIg2T869",
        "colab": {
          "base_uri": "https://localhost:8080/"
        },
        "outputId": "3a6a4894-23ee-4c8d-ef5a-99e3e76028de"
      },
      "execution_count": null,
      "outputs": [
        {
          "output_type": "stream",
          "name": "stdout",
          "text": [
            "4\n",
            "64\n"
          ]
        }
      ]
    },
    {
      "cell_type": "markdown",
      "source": [
        "---"
      ],
      "metadata": {
        "id": "JT4Up8kmT9M3"
      }
    },
    {
      "cell_type": "markdown",
      "source": [
        "## CodeTree"
      ],
      "metadata": {
        "id": "UY8xAPo4T-BO"
      }
    },
    {
      "cell_type": "markdown",
      "source": [
        "###"
      ],
      "metadata": {
        "id": "FMN6TEaPUBR5"
      }
    },
    {
      "cell_type": "code",
      "source": [
        "nums = list(map(int, input().split()))\n",
        "ans = []\n",
        "\n",
        "for num in nums:\n",
        "    if num == 0 :\n",
        "        break\n",
        "    else:\n",
        "        if num % 2 == 0:\n",
        "            ans.append(num)\n",
        "\n",
        "print(len(ans), sum(ans))"
      ],
      "metadata": {
        "id": "qBDEbLdcUCHf"
      },
      "execution_count": null,
      "outputs": []
    }
  ]
}