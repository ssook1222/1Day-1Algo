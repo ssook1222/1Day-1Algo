{
  "nbformat": 4,
  "nbformat_minor": 0,
  "metadata": {
    "colab": {
      "provenance": [],
      "authorship_tag": "ABX9TyPztSdBYH5mzedLvzSZFILb",
      "include_colab_link": true
    },
    "kernelspec": {
      "name": "python3",
      "display_name": "Python 3"
    },
    "language_info": {
      "name": "python"
    }
  },
  "cells": [
    {
      "cell_type": "markdown",
      "metadata": {
        "id": "view-in-github",
        "colab_type": "text"
      },
      "source": [
        "<a href=\"https://colab.research.google.com/github/ssook1222/1Day-1Algo/blob/master/ssook/24%EB%85%84/1%EC%9B%94/1%EC%9B%94%205%EC%A3%BC%EC%B0%A8/0129.ipynb\" target=\"_parent\"><img src=\"https://colab.research.google.com/assets/colab-badge.svg\" alt=\"Open In Colab\"/></a>"
      ]
    },
    {
      "cell_type": "markdown",
      "source": [
        "## BoJ"
      ],
      "metadata": {
        "id": "16eV3RoGdHcc"
      }
    },
    {
      "cell_type": "markdown",
      "source": [
        "### 26307"
      ],
      "metadata": {
        "id": "P2ijR1COdIvR"
      }
    },
    {
      "cell_type": "code",
      "execution_count": 2,
      "metadata": {
        "colab": {
          "base_uri": "https://localhost:8080/"
        },
        "id": "EpZTHZBSdF6e",
        "outputId": "db98580c-bd0e-4138-e794-79f3f6a019ce"
      },
      "outputs": [
        {
          "output_type": "stream",
          "name": "stdout",
          "text": [
            "11 59\n",
            "179\n"
          ]
        }
      ],
      "source": [
        "h, m = map(int, input().split())\n",
        "\n",
        "raw_h = (h - 9) * 60\n",
        "raw_m = m\n",
        "\n",
        "print(raw_h+raw_m)"
      ]
    },
    {
      "cell_type": "markdown",
      "source": [
        "### 24309"
      ],
      "metadata": {
        "id": "RL8C61qtdJbt"
      }
    },
    {
      "cell_type": "code",
      "source": [
        "a = int(input())\n",
        "b = int(input())\n",
        "c = int(input())\n",
        "\n",
        "ans = (b - c) // a\n",
        "\n",
        "print(ans)"
      ],
      "metadata": {
        "colab": {
          "base_uri": "https://localhost:8080/"
        },
        "id": "7JlDyCnudKRB",
        "outputId": "f379ae25-4e4d-461b-88f2-c5cd72e89166"
      },
      "execution_count": 3,
      "outputs": [
        {
          "output_type": "stream",
          "name": "stdout",
          "text": [
            "4\n",
            "20\n",
            "8\n",
            "3\n"
          ]
        }
      ]
    },
    {
      "cell_type": "markdown",
      "source": [
        "## CodeTree"
      ],
      "metadata": {
        "id": "zeAYLy4IdKdl"
      }
    },
    {
      "cell_type": "markdown",
      "source": [
        "### 배수의 개수"
      ],
      "metadata": {
        "id": "Mjf1rTbgdMOz"
      }
    },
    {
      "cell_type": "code",
      "source": [
        "cnt_3 = 0\n",
        "cnt_5 = 0\n",
        "\n",
        "for _ in range(10):\n",
        "    n = int(input())\n",
        "\n",
        "    if n % 3 == 0:\n",
        "        cnt_3 += 1\n",
        "\n",
        "    if n % 5 == 0:\n",
        "        cnt_5 += 1\n",
        "\n",
        "print(cnt_3, cnt_5)"
      ],
      "metadata": {
        "id": "KkQwif8hdKI8"
      },
      "execution_count": null,
      "outputs": []
    }
  ]
}