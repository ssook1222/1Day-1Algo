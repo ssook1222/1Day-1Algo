{
  "nbformat": 4,
  "nbformat_minor": 0,
  "metadata": {
    "colab": {
      "provenance": [],
      "authorship_tag": "ABX9TyO5umOb5hdf8xbOXVy18XXY",
      "include_colab_link": true
    },
    "kernelspec": {
      "name": "python3",
      "display_name": "Python 3"
    },
    "language_info": {
      "name": "python"
    }
  },
  "cells": [
    {
      "cell_type": "markdown",
      "metadata": {
        "id": "view-in-github",
        "colab_type": "text"
      },
      "source": [
        "<a href=\"https://colab.research.google.com/github/ssook1222/1Day-1Algo/blob/master/ssook/24%EB%85%84/9%EC%9B%94/9%EC%9B%94%202%EC%A3%BC%EC%B0%A8/0911.ipynb\" target=\"_parent\"><img src=\"https://colab.research.google.com/assets/colab-badge.svg\" alt=\"Open In Colab\"/></a>"
      ]
    },
    {
      "cell_type": "markdown",
      "source": [
        "## BoJ"
      ],
      "metadata": {
        "id": "5-xAVpEhzQha"
      }
    },
    {
      "cell_type": "markdown",
      "source": [
        "### 16933\n",
        "---\n",
        "pypy로 문제 풀이"
      ],
      "metadata": {
        "id": "LSmxZuAnzS6S"
      }
    },
    {
      "cell_type": "code",
      "execution_count": null,
      "metadata": {
        "id": "Wfb_jN_cvP6K"
      },
      "outputs": [],
      "source": [
        "from collections import deque\n",
        "import sys\n",
        "input = sys.stdin.readline\n",
        "\n",
        "# 이동 방향 정의 (우, 하, 좌, 상)\n",
        "directions_x = [1, 0, -1, 0]\n",
        "directions_y = [0, 1, 0, -1]\n",
        "\n",
        "rows, cols, max_walls = map(int, input().split())\n",
        "infinity = float('inf')\n",
        "\n",
        "# 맵 입력\n",
        "map_grid = [list(map(int, input().strip())) for _ in range(rows)]\n",
        "# 방문 기록 (각 위치, 벽을 부술 수 있는 횟수)\n",
        "visited = [[[infinity] * (max_walls + 1) for _ in range(cols)] for _ in range(rows)]\n",
        "visited[0][0][max_walls] = 0\n",
        "\n",
        "# BFS 큐 초기화 (시작 위치, 경과 시간, 남은 벽 부수기 횟수)\n",
        "queue = deque([(0, 0, 1, max_walls)])\n",
        "shortest_path = infinity\n",
        "\n",
        "while queue:\n",
        "    x, y, time, remaining_walls = queue.popleft()\n",
        "    if (x, y) == (cols - 1, rows - 1):\n",
        "        shortest_path = min(shortest_path, time)\n",
        "        continue\n",
        "\n",
        "    is_daytime = time % 2\n",
        "    for direction in range(4):\n",
        "        new_x, new_y = x + directions_x[direction], y + directions_y[direction]\n",
        "        if 0 <= new_x < cols and 0 <= new_y < rows:\n",
        "            if map_grid[new_y][new_x] == 0 and visited[new_y][new_x][remaining_walls] > time:\n",
        "                visited[new_y][new_x][remaining_walls] = time\n",
        "                queue.append((new_x, new_y, time + 1, remaining_walls))\n",
        "            if map_grid[new_y][new_x] == 1 and remaining_walls > 0 and visited[new_y][new_x][remaining_walls - 1] > time:\n",
        "                if is_daytime:\n",
        "                    visited[new_y][new_x][remaining_walls - 1] = time\n",
        "                    queue.append((new_x, new_y, time + 1, remaining_walls - 1))\n",
        "                else:\n",
        "                    queue.append((x, y, time + 1, remaining_walls))\n",
        "\n",
        "print(shortest_path if shortest_path < infinity else -1)"
      ]
    },
    {
      "cell_type": "markdown",
      "source": [
        "## CodeTree"
      ],
      "metadata": {
        "id": "rUeY0ZoozVMy"
      }
    },
    {
      "cell_type": "markdown",
      "source": [
        "### 두 배열의 곱 2\n"
      ],
      "metadata": {
        "id": "sNKnRJFZzWx0"
      }
    },
    {
      "cell_type": "code",
      "source": [
        "# 두 배열을 곱하여 새로운 배열을 생성하는 함수\n",
        "def multiply_arrays(arr1, arr2):\n",
        "    result = []\n",
        "    for i in range(4):\n",
        "        row = []\n",
        "        for j in range(2):\n",
        "            row.append(arr1[i][j] * arr2[i][j])\n",
        "        result.append(row)\n",
        "    return result\n",
        "\n",
        "# 첫 번째 배열 입력 받기\n",
        "arr1 = []\n",
        "for _ in range(4):\n",
        "    arr1.append(list(map(int, input().split())))\n",
        "\n",
        "# 빈 줄을 건너뛰기\n",
        "input()\n",
        "\n",
        "# 두 번째 배열 입력 받기\n",
        "arr2 = []\n",
        "for _ in range(4):\n",
        "    arr2.append(list(map(int, input().split())))\n",
        "\n",
        "# 배열의 곱 계산\n",
        "result = multiply_arrays(arr1, arr2)\n",
        "\n",
        "# 결과 출력\n",
        "for row in result:\n",
        "    print(\" \".join(map(str, row)))"
      ],
      "metadata": {
        "id": "4k3JCE_pzXbK"
      },
      "execution_count": null,
      "outputs": []
    }
  ]
}