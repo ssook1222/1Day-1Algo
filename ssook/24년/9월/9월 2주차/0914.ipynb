{
  "nbformat": 4,
  "nbformat_minor": 0,
  "metadata": {
    "colab": {
      "provenance": [],
      "authorship_tag": "ABX9TyPdJ/eZ4UaPpj9/qrSaRC3h",
      "include_colab_link": true
    },
    "kernelspec": {
      "name": "python3",
      "display_name": "Python 3"
    },
    "language_info": {
      "name": "python"
    }
  },
  "cells": [
    {
      "cell_type": "markdown",
      "metadata": {
        "id": "view-in-github",
        "colab_type": "text"
      },
      "source": [
        "<a href=\"https://colab.research.google.com/github/ssook1222/1Day-1Algo/blob/master/ssook/24%EB%85%84/9%EC%9B%94/9%EC%9B%94%202%EC%A3%BC%EC%B0%A8/0914.ipynb\" target=\"_parent\"><img src=\"https://colab.research.google.com/assets/colab-badge.svg\" alt=\"Open In Colab\"/></a>"
      ]
    },
    {
      "cell_type": "markdown",
      "source": [
        "## BoJ"
      ],
      "metadata": {
        "id": "5-xAVpEhzQha"
      }
    },
    {
      "cell_type": "markdown",
      "source": [
        "### 11401"
      ],
      "metadata": {
        "id": "LSmxZuAnzS6S"
      }
    },
    {
      "cell_type": "code",
      "execution_count": null,
      "metadata": {
        "id": "Wfb_jN_cvP6K"
      },
      "outputs": [],
      "source": [
        "import sys\n",
        "input = sys.stdin.readline\n",
        "\n",
        "n, k = map(int, input().split())\n",
        "mod = 1000000007\n",
        "\n",
        "# 팩토리얼 값 계산(나머지 연산 적용)\n",
        "def compute_factorial(n):\n",
        "    result = 1\n",
        "    for i in range(2, n + 1):\n",
        "        result = (result * i) % mod\n",
        "    return result\n",
        "\n",
        "# 거듭제곱 계산(나머지 연산 적용)\n",
        "def modular_exponentiation(base, exponent):\n",
        "    if exponent == 0:\n",
        "        return 1\n",
        "    elif exponent == 1:\n",
        "        return base\n",
        "\n",
        "    half_pow = modular_exponentiation(base, exponent // 2)\n",
        "    if exponent % 2:\n",
        "        return half_pow * half_pow * base % mod\n",
        "    else:\n",
        "        return half_pow * half_pow % mod\n",
        "\n",
        "factorial_n = compute_factorial(n)\n",
        "factorial_n_k = compute_factorial(n - k) * compute_factorial(k) % mod\n",
        "\n",
        "# 페르마의 소정리 이용해서 조합 공식 곱셈 형태로 변형\n",
        "print(factorial_n * modular_exponentiation(factorial_n_k, mod - 2) % mod)"
      ]
    },
    {
      "cell_type": "markdown",
      "source": [
        "## CodeTree"
      ],
      "metadata": {
        "id": "rUeY0ZoozVMy"
      }
    },
    {
      "cell_type": "markdown",
      "source": [
        "### 네 번째 문자"
      ],
      "metadata": {
        "id": "sNKnRJFZzWx0"
      }
    },
    {
      "cell_type": "code",
      "source": [
        "# 입력 받기\n",
        "first_line = input().strip().split()\n",
        "n = int(first_line[0])\n",
        "char = first_line[1]\n",
        "\n",
        "# 문자열 리스트 입력 받기\n",
        "strings = [input().strip() for _ in range(n)]\n",
        "\n",
        "# 조건에 맞는 문자열 찾기\n",
        "matching_strings = [s for s in strings if s[3] == char]\n",
        "\n",
        "# 조건에 맞는 문자열의 개수 출력\n",
        "print(len(matching_strings))\n",
        "\n",
        "# 조건에 맞는 문자열들 출력\n",
        "for string in matching_strings:\n",
        "    print(string)"
      ],
      "metadata": {
        "id": "4k3JCE_pzXbK"
      },
      "execution_count": null,
      "outputs": []
    }
  ]
}