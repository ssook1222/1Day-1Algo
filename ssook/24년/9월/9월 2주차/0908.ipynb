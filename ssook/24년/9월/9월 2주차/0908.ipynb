{
  "nbformat": 4,
  "nbformat_minor": 0,
  "metadata": {
    "colab": {
      "provenance": [],
      "authorship_tag": "ABX9TyP2nhhAkKWTS5PRjJA99kJ+",
      "include_colab_link": true
    },
    "kernelspec": {
      "name": "python3",
      "display_name": "Python 3"
    },
    "language_info": {
      "name": "python"
    }
  },
  "cells": [
    {
      "cell_type": "markdown",
      "metadata": {
        "id": "view-in-github",
        "colab_type": "text"
      },
      "source": [
        "<a href=\"https://colab.research.google.com/github/ssook1222/1Day-1Algo/blob/master/ssook/24%EB%85%84/9%EC%9B%94/9%EC%9B%94%202%EC%A3%BC%EC%B0%A8/0908.ipynb\" target=\"_parent\"><img src=\"https://colab.research.google.com/assets/colab-badge.svg\" alt=\"Open In Colab\"/></a>"
      ]
    },
    {
      "cell_type": "markdown",
      "source": [
        "## BoJ"
      ],
      "metadata": {
        "id": "JIHHEhdkrrE1"
      }
    },
    {
      "cell_type": "markdown",
      "source": [
        "### 17822"
      ],
      "metadata": {
        "id": "8oZihCaSrtIO"
      }
    },
    {
      "cell_type": "code",
      "execution_count": null,
      "metadata": {
        "id": "W3XWp2L4qtfx"
      },
      "outputs": [],
      "source": [
        "import sys\n",
        "from collections import deque\n",
        "\n",
        "input = sys.stdin.readline\n",
        "\n",
        "N, M, T = map(int, input().split())\n",
        "circle = [list(map(int, input().split())) for _ in range(N)]\n",
        "dx = [0, 0, 1, -1]\n",
        "dy = [1, -1, 0, 0]\n",
        "\n",
        "def rotate_circle(x, d, k):\n",
        "    q = deque(circle[x])\n",
        "    if d == 0:\n",
        "        q.rotate(k)\n",
        "    else:\n",
        "        q.rotate(-k)\n",
        "    circle[x] = list(q)\n",
        "\n",
        "def change_avg():\n",
        "    avg_count = 0\n",
        "    all_sum = 0\n",
        "    for i in range(N):\n",
        "        for j in range(M):\n",
        "            if circle[i][j] != 0:\n",
        "                avg_count += 1\n",
        "                all_sum += circle[i][j]\n",
        "    if avg_count == 0:\n",
        "        return False\n",
        "    avg = all_sum / avg_count\n",
        "    for i in range(N):\n",
        "        for j in range(M):\n",
        "            if circle[i][j] != 0:\n",
        "                if circle[i][j] > avg:\n",
        "                    circle[i][j] -= 1\n",
        "                elif circle[i][j] < avg:\n",
        "                    circle[i][j] += 1\n",
        "    return True\n",
        "\n",
        "def find_adjacent(x, y):\n",
        "    q = deque()\n",
        "    q.append((x, y))\n",
        "    visited[x][y] = True\n",
        "    value = circle[x][y]\n",
        "    circle[x][y] = 0\n",
        "    count = 0\n",
        "    while q:\n",
        "        x, y = q.popleft()\n",
        "        for i in range(4):\n",
        "            nx = x + dx[i]\n",
        "            ny = (y + dy[i]) % M  # 인접한 열 계산 (원형 구조)\n",
        "            if 0 <= nx < N and 0 <= ny < M:\n",
        "                if not visited[nx][ny] and circle[nx][ny] == value:\n",
        "                    count += 1\n",
        "                    circle[nx][ny] = 0\n",
        "                    visited[nx][ny] = True\n",
        "                    q.append((nx, ny))\n",
        "    if count == 0:\n",
        "        circle[x][y] = value\n",
        "    return count\n",
        "\n",
        "answer = 0\n",
        "\n",
        "for _ in range(T):\n",
        "    x, d, k = map(int, input().split())\n",
        "    total_sum = 0\n",
        "    for i in range(N):\n",
        "        total_sum += sum(circle[i])\n",
        "        if (i+1) % x == 0:\n",
        "            rotate_circle(i, d, k)\n",
        "    if total_sum == 0:\n",
        "        break\n",
        "    else:\n",
        "        visited = [[False] * M for _ in range(N)]\n",
        "        count = 0\n",
        "        for i in range(N):\n",
        "            for j in range(M):\n",
        "                if not visited[i][j] and circle[i][j] != 0:\n",
        "                    count += find_adjacent(i, j)\n",
        "        if count == 0:\n",
        "            change_avg()\n",
        "\n",
        "for i in range(N):\n",
        "    answer += sum(circle[i])\n",
        "\n",
        "print(answer)"
      ]
    },
    {
      "cell_type": "markdown",
      "source": [
        "## CodeTree"
      ],
      "metadata": {
        "id": "jb6AHgWurt0x"
      }
    },
    {
      "cell_type": "markdown",
      "source": [
        "### 특정 위치의 숫자 3"
      ],
      "metadata": {
        "id": "zmuY1ibKrvIR"
      }
    },
    {
      "cell_type": "code",
      "source": [
        "n = int(input().strip())  # 개수 n 입력받기\n",
        "numbers = list(map(int, input().strip().split()))  # 숫자들을 리스트로 입력받기\n",
        "\n",
        "# 특정 위치의 정수들을 더하고 빼서 결과 계산\n",
        "result = numbers[2] + numbers[4] + numbers[7] - numbers[6]\n",
        "\n",
        "# 결과 출력\n",
        "print(result)\n"
      ],
      "metadata": {
        "id": "38PlPbUcrvrs"
      },
      "execution_count": null,
      "outputs": []
    }
  ]
}