{
  "nbformat": 4,
  "nbformat_minor": 0,
  "metadata": {
    "colab": {
      "provenance": [],
      "authorship_tag": "ABX9TyN/xeOi3R3nTVmHwteTX4pg",
      "include_colab_link": true
    },
    "kernelspec": {
      "name": "python3",
      "display_name": "Python 3"
    },
    "language_info": {
      "name": "python"
    }
  },
  "cells": [
    {
      "cell_type": "markdown",
      "metadata": {
        "id": "view-in-github",
        "colab_type": "text"
      },
      "source": [
        "<a href=\"https://colab.research.google.com/github/ssook1222/1Day-1Algo/blob/master/ssook/24%EB%85%84/9%EC%9B%94/9%EC%9B%94%202%EC%A3%BC%EC%B0%A8/0913.ipynb\" target=\"_parent\"><img src=\"https://colab.research.google.com/assets/colab-badge.svg\" alt=\"Open In Colab\"/></a>"
      ]
    },
    {
      "cell_type": "markdown",
      "source": [
        "## BoJ"
      ],
      "metadata": {
        "id": "5-xAVpEhzQha"
      }
    },
    {
      "cell_type": "markdown",
      "source": [
        "### 2213"
      ],
      "metadata": {
        "id": "LSmxZuAnzS6S"
      }
    },
    {
      "cell_type": "code",
      "execution_count": null,
      "metadata": {
        "id": "Wfb_jN_cvP6K"
      },
      "outputs": [],
      "source": [
        "import sys\n",
        "\n",
        "# 입력 처리\n",
        "num_nodes = int(sys.stdin.readline())\n",
        "adjacency_list = [[] for _ in range(num_nodes + 1)]\n",
        "node_weights = [0] + list(map(int, sys.stdin.readline().split()))\n",
        "dp = [[0, 0] for _ in range(num_nodes + 1)]\n",
        "independent_set_paths = [[[] for _ in range(2)] for _ in range(num_nodes + 1)]\n",
        "visited = [False] * (num_nodes + 1)\n",
        "\n",
        "# 트리의 간선 입력 처리\n",
        "for _ in range(num_nodes - 1):\n",
        "    u, v = map(int, sys.stdin.readline().split())\n",
        "    adjacency_list[u].append(v)\n",
        "    adjacency_list[v].append(u)\n",
        "\n",
        "def dfs(node):\n",
        "    visited[node] = True\n",
        "    dp[node][1] += node_weights[node]\n",
        "    independent_set_paths[node][1].append(node)\n",
        "\n",
        "    for neighbor in adjacency_list[node]:\n",
        "        if not visited[neighbor]:\n",
        "            result = dfs(neighbor)\n",
        "            dp[node][0] += max(dp[neighbor][0], dp[neighbor][1])\n",
        "            dp[node][1] += dp[neighbor][0]\n",
        "\n",
        "            independent_set_paths[node][1] += result[0]\n",
        "            if dp[neighbor][0] > dp[neighbor][1]:\n",
        "                independent_set_paths[node][0] += result[0]\n",
        "            else:\n",
        "                independent_set_paths[node][0] += result[1]\n",
        "\n",
        "    return independent_set_paths[node]\n",
        "\n",
        "# DFS를 시작하고 최대 독립 집합 출력\n",
        "independent_sets = dfs(1)\n",
        "if dp[1][0] > dp[1][1]:\n",
        "    print(dp[1][0])\n",
        "    independent_sets[0].sort()\n",
        "    for node in independent_sets[0]:\n",
        "        print(node, end=' ')\n",
        "else:\n",
        "    print(dp[1][1])\n",
        "    independent_sets[1].sort()\n",
        "    for node in independent_sets[1]:\n",
        "        print(node, end=' ')"
      ]
    },
    {
      "cell_type": "markdown",
      "source": [
        "## CodeTree"
      ],
      "metadata": {
        "id": "rUeY0ZoozVMy"
      }
    },
    {
      "cell_type": "markdown",
      "source": [
        "### 단어로 구분하기 4"
      ],
      "metadata": {
        "id": "sNKnRJFZzWx0"
      }
    },
    {
      "cell_type": "code",
      "source": [
        "# 문자열 입력 받기\n",
        "input_string = input().strip()\n",
        "\n",
        "# 문자열을 공백으로 구분하여 단어 리스트로 변환\n",
        "words = input_string.split()\n",
        "\n",
        "# 단어의 개수 출력\n",
        "print(len(words))\n",
        "\n",
        "# 각 단어를 출력\n",
        "for word in words:\n",
        "    print(word)"
      ],
      "metadata": {
        "id": "4k3JCE_pzXbK"
      },
      "execution_count": null,
      "outputs": []
    }
  ]
}