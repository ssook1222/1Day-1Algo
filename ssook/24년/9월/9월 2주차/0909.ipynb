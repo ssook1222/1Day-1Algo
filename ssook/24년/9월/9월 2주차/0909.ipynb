{
  "nbformat": 4,
  "nbformat_minor": 0,
  "metadata": {
    "colab": {
      "provenance": [],
      "authorship_tag": "ABX9TyMnXnFYmnukUNF4nngzDTQW",
      "include_colab_link": true
    },
    "kernelspec": {
      "name": "python3",
      "display_name": "Python 3"
    },
    "language_info": {
      "name": "python"
    }
  },
  "cells": [
    {
      "cell_type": "markdown",
      "metadata": {
        "id": "view-in-github",
        "colab_type": "text"
      },
      "source": [
        "<a href=\"https://colab.research.google.com/github/ssook1222/1Day-1Algo/blob/master/ssook/24%EB%85%84/9%EC%9B%94/9%EC%9B%94%202%EC%A3%BC%EC%B0%A8/0909.ipynb\" target=\"_parent\"><img src=\"https://colab.research.google.com/assets/colab-badge.svg\" alt=\"Open In Colab\"/></a>"
      ]
    },
    {
      "cell_type": "markdown",
      "source": [
        "## BoJ"
      ],
      "metadata": {
        "id": "5-xAVpEhzQha"
      }
    },
    {
      "cell_type": "markdown",
      "source": [
        "### 14438"
      ],
      "metadata": {
        "id": "LSmxZuAnzS6S"
      }
    },
    {
      "cell_type": "code",
      "execution_count": null,
      "metadata": {
        "id": "Wfb_jN_cvP6K"
      },
      "outputs": [],
      "source": [
        "import sys\n",
        "input = sys.stdin.readline\n",
        "INF = float('inf')\n",
        "\n",
        "N = int(input())\n",
        "sequence = list(map(int, input().split()))\n",
        "segment_tree = [INF] * (4 * N)\n",
        "\n",
        "def build_tree(start, end, node) :\n",
        "    if start == end :\n",
        "        segment_tree[node] = sequence[start]\n",
        "        return\n",
        "    mid = (start + end) // 2\n",
        "    build_tree(start, mid, node * 2)\n",
        "    build_tree(mid + 1, end, node * 2 + 1)\n",
        "    segment_tree[node] = min(segment_tree[node * 2], segment_tree[node * 2 + 1])\n",
        "\n",
        "def update_value(start, end, node, index, value) :\n",
        "    if start > index or end < index :\n",
        "        return\n",
        "    if start == end :\n",
        "        segment_tree[node] = value\n",
        "        return\n",
        "    mid = (start + end) // 2\n",
        "    update_value(start, mid, node * 2, index, value)\n",
        "    update_value(mid + 1, end, node * 2 + 1, index, value)\n",
        "    segment_tree[node] = min(segment_tree[node * 2], segment_tree[node * 2 + 1])\n",
        "\n",
        "def query_min(start, end, node, left, right) :\n",
        "    if right < start or end < left :\n",
        "        return INF\n",
        "    if left <= start <= end <= right :\n",
        "        return segment_tree[node]\n",
        "    mid = (start + end) // 2\n",
        "    left_min = query_min(start, mid, node * 2, left, right)\n",
        "    right_min = query_min(mid + 1, end, node * 2 + 1, left, right)\n",
        "    return min(left_min, right_min)\n",
        "\n",
        "build_tree(0, N - 1, 1)\n",
        "M = int(input())\n",
        "for _ in range(M) :\n",
        "    query_type, x, y = map(int, input().split())\n",
        "    if query_type == 1 :\n",
        "        update_value(0, N - 1, 1, x - 1, y)\n",
        "    else :\n",
        "        print(query_min(0, N - 1, 1, x - 1, y - 1))"
      ]
    },
    {
      "cell_type": "markdown",
      "source": [
        "## CodeTree"
      ],
      "metadata": {
        "id": "rUeY0ZoozVMy"
      }
    },
    {
      "cell_type": "markdown",
      "source": [
        "### 백의 자리 숫자"
      ],
      "metadata": {
        "id": "sNKnRJFZzWx0"
      }
    },
    {
      "cell_type": "code",
      "source": [
        "def count_hundreds_place(n, numbers):\n",
        "    count = [0] * 10  # 백의 자리 숫자 빈도를 저장할 리스트 (0~9)\n",
        "\n",
        "    for num in numbers:\n",
        "        hundreds_place = num // 100  # 백의 자리 숫자를 추출\n",
        "        count[hundreds_place] += 1  # 해당 백의 자리 숫자의 빈도수를 증가\n",
        "\n",
        "    for i in range(10):\n",
        "        if count[i] > 0:\n",
        "            print(f\"{i} - {count[i]}\")\n",
        "\n",
        "# 입력 받기\n",
        "n = int(input())\n",
        "numbers = list(map(int, input().split()))\n",
        "\n",
        "count_hundreds_place(n, numbers)"
      ],
      "metadata": {
        "id": "4k3JCE_pzXbK"
      },
      "execution_count": null,
      "outputs": []
    }
  ]
}