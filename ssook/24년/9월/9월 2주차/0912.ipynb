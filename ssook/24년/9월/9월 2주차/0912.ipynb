{
  "nbformat": 4,
  "nbformat_minor": 0,
  "metadata": {
    "colab": {
      "provenance": [],
      "authorship_tag": "ABX9TyP/h5H8Oa7yAMz6Y8i/QcMY",
      "include_colab_link": true
    },
    "kernelspec": {
      "name": "python3",
      "display_name": "Python 3"
    },
    "language_info": {
      "name": "python"
    }
  },
  "cells": [
    {
      "cell_type": "markdown",
      "metadata": {
        "id": "view-in-github",
        "colab_type": "text"
      },
      "source": [
        "<a href=\"https://colab.research.google.com/github/ssook1222/1Day-1Algo/blob/master/ssook/24%EB%85%84/9%EC%9B%94/9%EC%9B%94%202%EC%A3%BC%EC%B0%A8/0912.ipynb\" target=\"_parent\"><img src=\"https://colab.research.google.com/assets/colab-badge.svg\" alt=\"Open In Colab\"/></a>"
      ]
    },
    {
      "cell_type": "markdown",
      "source": [
        "## BoJ"
      ],
      "metadata": {
        "id": "5-xAVpEhzQha"
      }
    },
    {
      "cell_type": "markdown",
      "source": [
        "### 2933"
      ],
      "metadata": {
        "id": "LSmxZuAnzS6S"
      }
    },
    {
      "cell_type": "code",
      "execution_count": null,
      "metadata": {
        "id": "Wfb_jN_cvP6K"
      },
      "outputs": [],
      "source": [
        "from sys import stdin\n",
        "input = stdin.readline\n",
        "from collections import deque\n",
        "\n",
        "# 이동 방향 정의 (상, 하, 좌, 우)\n",
        "delta_row = (-1, 1, 0, 0)\n",
        "delta_col = (0, 0, -1, 1)\n",
        "\n",
        "# 미네랄이 떨어질 수 있는 최대 거리 계산\n",
        "def calculate_fall_distance(fall_cluster, land_check):\n",
        "    max_fall_distance, stop_flag = 1, 0\n",
        "    while True:\n",
        "        for r, c in fall_cluster:\n",
        "            if r + max_fall_distance == rows - 1:\n",
        "                stop_flag = 1\n",
        "                break\n",
        "            if cave[r + max_fall_distance + 1][c] == 'x' and land_check[r + max_fall_distance + 1][c]:\n",
        "                stop_flag = 1\n",
        "                break\n",
        "        if stop_flag:\n",
        "            break\n",
        "        max_fall_distance += 1\n",
        "    return max_fall_distance\n",
        "\n",
        "# 땅에 붙어 있는 미네랄 체크\n",
        "def identify_attached_minerals():\n",
        "    land_check = [[0] * cols for _ in range(rows)]\n",
        "    for col in range(cols):\n",
        "        if cave[rows - 1][col] == \"x\" and not land_check[rows - 1][col]:\n",
        "            land_check[rows - 1][col] = 1\n",
        "            queue = deque([(rows - 1, col)])\n",
        "            while queue:\n",
        "                row, col = queue.popleft()\n",
        "                for direction in range(4):\n",
        "                    new_row = row + delta_row[direction]\n",
        "                    new_col = col + delta_col[direction]\n",
        "                    if not (0 <= new_row < rows and 0 <= new_col < cols):\n",
        "                        continue\n",
        "                    if cave[new_row][new_col] == \"x\" and not land_check[new_row][new_col]:\n",
        "                        land_check[new_row][new_col] = 1\n",
        "                        queue.append((new_row, new_col))\n",
        "    return land_check\n",
        "\n",
        "# 미네랄 파괴 후 떨어지는 처리\n",
        "def process_mineral_breakage(break_row, break_col):\n",
        "    land_check = identify_attached_minerals()\n",
        "\n",
        "    floating_minerals = []\n",
        "    fall_cluster = []\n",
        "    for direction in range(4):\n",
        "        row = break_row + delta_row[direction]\n",
        "        col = break_col + delta_col[direction]\n",
        "        if not (0 <= row < rows and 0 <= col < cols):\n",
        "            continue\n",
        "\n",
        "        if cave[row][col] == \"x\" and not land_check[row][col]:\n",
        "            queue = deque([(row, col)])\n",
        "            land_check[row][col] = 2\n",
        "            floating_minerals.append((row, col))\n",
        "            cave[row][col] = \".\"\n",
        "            while queue:\n",
        "                row, col = queue.popleft()\n",
        "                if cave[row + 1][col] == \".\":\n",
        "                    fall_cluster.append((row, col))\n",
        "                for direction in range(4):\n",
        "                    new_row = row + delta_row[direction]\n",
        "                    new_col = col + delta_col[direction]\n",
        "                    if not (0 <= new_row < rows and 0 <= new_col < cols):\n",
        "                        continue\n",
        "                    if cave[new_row][new_col] == \"x\" and not land_check[new_row][new_col]:\n",
        "                        land_check[new_row][new_col] = 2\n",
        "                        queue.append((new_row, new_col))\n",
        "                        floating_minerals.append((new_row, new_col))\n",
        "                        cave[new_row][new_col] = \".\"\n",
        "\n",
        "    if fall_cluster:\n",
        "        max_fall_distance = calculate_fall_distance(fall_cluster, land_check)\n",
        "        for mineral_row, mineral_col in floating_minerals:\n",
        "            cave[mineral_row + max_fall_distance][mineral_col] = \"x\"\n",
        "\n",
        "# main\n",
        "rows, cols = map(int, input().split())\n",
        "cave = [list(input().rstrip()) for _ in range(rows)]\n",
        "num_turns = int(input())\n",
        "heights = list(map(int, input().split()))\n",
        "\n",
        "for i in range(num_turns):\n",
        "    break_row = rows - heights[i]\n",
        "    if not i % 2:\n",
        "        for break_col in range(cols):\n",
        "            if cave[break_row][break_col] == \"x\":\n",
        "                cave[break_row][break_col] = \".\"\n",
        "                process_mineral_breakage(break_row, break_col)\n",
        "                break\n",
        "    else:\n",
        "        for break_col in range(cols - 1, -1, -1):\n",
        "            if cave[break_row][break_col] == \"x\":\n",
        "                cave[break_row][break_col] = \".\"\n",
        "                process_mineral_breakage(break_row, break_col)\n",
        "                break\n",
        "\n",
        "for row in cave:\n",
        "    print(''.join(row))"
      ]
    },
    {
      "cell_type": "markdown",
      "source": [
        "## CodeTree"
      ],
      "metadata": {
        "id": "rUeY0ZoozVMy"
      }
    },
    {
      "cell_type": "markdown",
      "source": [
        "### 문자열의 길이 출력하기 2"
      ],
      "metadata": {
        "id": "sNKnRJFZzWx0"
      }
    },
    {
      "cell_type": "code",
      "source": [
        "# 문자열 입력 받기\n",
        "str1 = input().strip()\n",
        "str2 = input().strip()\n",
        "str3 = input().strip()\n",
        "\n",
        "# 문자열 길이 계산\n",
        "length_sum = len(str1) + len(str2) + len(str3)\n",
        "\n",
        "# 결과 출력\n",
        "print(length_sum)"
      ],
      "metadata": {
        "id": "4k3JCE_pzXbK"
      },
      "execution_count": null,
      "outputs": []
    }
  ]
}