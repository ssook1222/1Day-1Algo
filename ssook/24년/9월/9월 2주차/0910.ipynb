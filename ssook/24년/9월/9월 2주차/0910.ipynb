{
  "nbformat": 4,
  "nbformat_minor": 0,
  "metadata": {
    "colab": {
      "provenance": [],
      "authorship_tag": "ABX9TyNKPNZQimDBrpTk87FVOaGg",
      "include_colab_link": true
    },
    "kernelspec": {
      "name": "python3",
      "display_name": "Python 3"
    },
    "language_info": {
      "name": "python"
    }
  },
  "cells": [
    {
      "cell_type": "markdown",
      "metadata": {
        "id": "view-in-github",
        "colab_type": "text"
      },
      "source": [
        "<a href=\"https://colab.research.google.com/github/ssook1222/1Day-1Algo/blob/master/ssook/24%EB%85%84/9%EC%9B%94/9%EC%9B%94%202%EC%A3%BC%EC%B0%A8/0910.ipynb\" target=\"_parent\"><img src=\"https://colab.research.google.com/assets/colab-badge.svg\" alt=\"Open In Colab\"/></a>"
      ]
    },
    {
      "cell_type": "markdown",
      "source": [
        "## BoJ"
      ],
      "metadata": {
        "id": "5-xAVpEhzQha"
      }
    },
    {
      "cell_type": "markdown",
      "source": [
        "### 2014"
      ],
      "metadata": {
        "id": "LSmxZuAnzS6S"
      }
    },
    {
      "cell_type": "code",
      "execution_count": null,
      "metadata": {
        "id": "Wfb_jN_cvP6K"
      },
      "outputs": [],
      "source": [
        "import heapq\n",
        "\n",
        "num_primes, target_rank = map(int, input().split())\n",
        "primes = list(map(int, input().split()))\n",
        "min_heap = []\n",
        "\n",
        "for prime in primes:\n",
        "    heapq.heappush(min_heap, prime)\n",
        "\n",
        "for _ in range(target_rank):\n",
        "    smallest = heapq.heappop(min_heap)\n",
        "    for prime in primes:\n",
        "        new_value = smallest * prime\n",
        "        heapq.heappush(min_heap, new_value)\n",
        "\n",
        "        if smallest % prime == 0:\n",
        "            break\n",
        "\n",
        "print(smallest)"
      ]
    },
    {
      "cell_type": "markdown",
      "source": [
        "## CodeTree"
      ],
      "metadata": {
        "id": "rUeY0ZoozVMy"
      }
    },
    {
      "cell_type": "markdown",
      "source": [
        "### 999 도달하기"
      ],
      "metadata": {
        "id": "sNKnRJFZzWx0"
      }
    },
    {
      "cell_type": "code",
      "source": [
        "def generate_sequence(n):\n",
        "    sequence = [1, n]  # 첫 번째 항은 1, 두 번째 항은 주어진 n으로 초기화\n",
        "\n",
        "    while True:\n",
        "        next_value = sequence[-2] + sequence[-1]  # 전전항과 전항의 합으로 다음 항을 계산\n",
        "        sequence.append(next_value)\n",
        "        if next_value > 999:  # 999를 넘기면 종료\n",
        "            break\n",
        "\n",
        "    print(\" \".join(map(str, sequence)))  # 공백으로 구분하여 출력\n",
        "\n",
        "# 입력 받기\n",
        "n = int(input())\n",
        "generate_sequence(n)"
      ],
      "metadata": {
        "id": "4k3JCE_pzXbK"
      },
      "execution_count": null,
      "outputs": []
    }
  ]
}