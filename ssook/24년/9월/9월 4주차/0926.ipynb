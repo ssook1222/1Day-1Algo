{
  "nbformat": 4,
  "nbformat_minor": 0,
  "metadata": {
    "colab": {
      "provenance": [],
      "authorship_tag": "ABX9TyOkTYJRS6zBzyIwWb3ckjdh",
      "include_colab_link": true
    },
    "kernelspec": {
      "name": "python3",
      "display_name": "Python 3"
    },
    "language_info": {
      "name": "python"
    }
  },
  "cells": [
    {
      "cell_type": "markdown",
      "metadata": {
        "id": "view-in-github",
        "colab_type": "text"
      },
      "source": [
        "<a href=\"https://colab.research.google.com/github/ssook1222/1Day-1Algo/blob/master/ssook/24%EB%85%84/9%EC%9B%94/9%EC%9B%94%204%EC%A3%BC%EC%B0%A8/0926.ipynb\" target=\"_parent\"><img src=\"https://colab.research.google.com/assets/colab-badge.svg\" alt=\"Open In Colab\"/></a>"
      ]
    },
    {
      "cell_type": "markdown",
      "source": [
        "## BoJ"
      ],
      "metadata": {
        "id": "XAtcwiwRQv-t"
      }
    },
    {
      "cell_type": "markdown",
      "source": [
        "### 3745"
      ],
      "metadata": {
        "id": "qYhhmiU3QzDC"
      }
    },
    {
      "cell_type": "code",
      "source": [
        "import sys\n",
        "from bisect import bisect_left\n",
        "\n",
        "input = sys.stdin.readline\n",
        "\n",
        "if __name__ == '__main__':\n",
        "    while True:\n",
        "        try:\n",
        "            days = int(input())\n",
        "            prices = list(map(int, input().split()))\n",
        "\n",
        "            length_dp = [1]\n",
        "            longest_seq = [prices[0]]\n",
        "\n",
        "            for i in range(1, days):\n",
        "                idx = bisect_left(longest_seq, prices[i])\n",
        "\n",
        "                if idx == len(length_dp):\n",
        "                    length_dp.append(length_dp[-1] + 1)\n",
        "                    longest_seq.append(prices[i])\n",
        "                else:\n",
        "                    longest_seq[idx] = prices[i]\n",
        "\n",
        "            print(length_dp[-1])\n",
        "        except:\n",
        "            break\n"
      ],
      "metadata": {
        "id": "YXK2tTACQ1UF"
      },
      "execution_count": null,
      "outputs": []
    },
    {
      "cell_type": "markdown",
      "source": [
        "## CodeTree"
      ],
      "metadata": {
        "id": "ILsBJjsPQxim"
      }
    },
    {
      "cell_type": "markdown",
      "source": [
        "### 문자열 길이 나누기"
      ],
      "metadata": {
        "id": "WPoZE0c6Q0Mr"
      }
    },
    {
      "cell_type": "code",
      "source": [
        "# 문자열의 개수 입력\n",
        "n = int(input())\n",
        "\n",
        "# 문자열을 저장할 리스트\n",
        "strings = [input().strip() for _ in range(n)]\n",
        "\n",
        "# 모든 문자열을 이어 붙이기\n",
        "combined_string = ''.join(strings)\n",
        "\n",
        "# 문자열의 총 길이\n",
        "total_length = len(combined_string)\n",
        "\n",
        "# 문자열을 두 부분으로 나누기\n",
        "mid_point = total_length // 2\n",
        "first_half = combined_string[:mid_point]\n",
        "second_half = combined_string[mid_point:]\n",
        "\n",
        "# 결과 출력\n",
        "print(first_half)\n",
        "print(second_half)"
      ],
      "metadata": {
        "id": "d_7RgtXVQ1Bu"
      },
      "execution_count": null,
      "outputs": []
    }
  ]
}