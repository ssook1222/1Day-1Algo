{
  "nbformat": 4,
  "nbformat_minor": 0,
  "metadata": {
    "colab": {
      "provenance": [],
      "authorship_tag": "ABX9TyOWIFLFEtR8Fa9U9syX1G9A",
      "include_colab_link": true
    },
    "kernelspec": {
      "name": "python3",
      "display_name": "Python 3"
    },
    "language_info": {
      "name": "python"
    }
  },
  "cells": [
    {
      "cell_type": "markdown",
      "metadata": {
        "id": "view-in-github",
        "colab_type": "text"
      },
      "source": [
        "<a href=\"https://colab.research.google.com/github/ssook1222/1Day-1Algo/blob/master/ssook/24%EB%85%84/9%EC%9B%94/9%EC%9B%94%204%EC%A3%BC%EC%B0%A8/0928.ipynb\" target=\"_parent\"><img src=\"https://colab.research.google.com/assets/colab-badge.svg\" alt=\"Open In Colab\"/></a>"
      ]
    },
    {
      "cell_type": "markdown",
      "source": [
        "## BoJ"
      ],
      "metadata": {
        "id": "XAtcwiwRQv-t"
      }
    },
    {
      "cell_type": "markdown",
      "source": [
        "### 3687"
      ],
      "metadata": {
        "id": "qYhhmiU3QzDC"
      }
    },
    {
      "cell_type": "code",
      "source": [
        "import sys\n",
        "input = sys.stdin.readline\n",
        "\n",
        "min_num = [float('inf')] * 101\n",
        "matchsticks = ['', '', 1, 7, 4, 2, 6, 8]\n",
        "for i in range(2, 8):\n",
        "    min_num[i] = matchsticks[i]\n",
        "\n",
        "for i in range(8, 101):\n",
        "    for j in range(2, i - 1):\n",
        "        min_num[i] = min(min_num[i], int(str(min_num[j]) + str(min_num[i - j])))\n",
        "        if j == 6:\n",
        "            min_num[i] = min(min_num[i], int(str(min_num[i - j]) + '0'))\n",
        "\n",
        "def find_largest(num):\n",
        "    result = '1' * (num // 2)\n",
        "    if num % 2:\n",
        "        result = '7' + result[1:]\n",
        "    return result\n",
        "\n",
        "def find_smallest(num):\n",
        "    return min_num[num]\n",
        "\n",
        "T = int(input())\n",
        "for _ in range(T):\n",
        "    N = int(input())\n",
        "    print(find_smallest(N), find_largest(N))\n"
      ],
      "metadata": {
        "id": "YXK2tTACQ1UF"
      },
      "execution_count": null,
      "outputs": []
    },
    {
      "cell_type": "markdown",
      "source": [
        "## CodeTree"
      ],
      "metadata": {
        "id": "ILsBJjsPQxim"
      }
    },
    {
      "cell_type": "markdown",
      "source": [
        "### 없는 번호 찾아내기"
      ],
      "metadata": {
        "id": "WPoZE0c6Q0Mr"
      }
    },
    {
      "cell_type": "code",
      "source": [
        "# 전체 번호 집합 생성\n",
        "full_set = set(range(1, 31))\n",
        "\n",
        "# 입력으로 주어진 번호를 집합으로 저장\n",
        "given_set = set()\n",
        "for _ in range(28):\n",
        "    given_set.add(int(input().strip()))\n",
        "\n",
        "# 빠진 번호 찾기\n",
        "missing_numbers = list(full_set - given_set)\n",
        "\n",
        "# 빠진 번호를 오름차순으로 정렬\n",
        "missing_numbers.sort()\n",
        "\n",
        "# 출력\n",
        "print(missing_numbers[0])\n",
        "print(missing_numbers[1])"
      ],
      "metadata": {
        "id": "d_7RgtXVQ1Bu"
      },
      "execution_count": null,
      "outputs": []
    }
  ]
}