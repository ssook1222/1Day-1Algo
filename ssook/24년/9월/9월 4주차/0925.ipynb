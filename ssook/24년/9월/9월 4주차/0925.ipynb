{
  "nbformat": 4,
  "nbformat_minor": 0,
  "metadata": {
    "colab": {
      "provenance": [],
      "authorship_tag": "ABX9TyNoIqJ00pA5kFmASNg9f/OW",
      "include_colab_link": true
    },
    "kernelspec": {
      "name": "python3",
      "display_name": "Python 3"
    },
    "language_info": {
      "name": "python"
    }
  },
  "cells": [
    {
      "cell_type": "markdown",
      "metadata": {
        "id": "view-in-github",
        "colab_type": "text"
      },
      "source": [
        "<a href=\"https://colab.research.google.com/github/ssook1222/1Day-1Algo/blob/master/ssook/24%EB%85%84/9%EC%9B%94/9%EC%9B%94%204%EC%A3%BC%EC%B0%A8/0925.ipynb\" target=\"_parent\"><img src=\"https://colab.research.google.com/assets/colab-badge.svg\" alt=\"Open In Colab\"/></a>"
      ]
    },
    {
      "cell_type": "markdown",
      "source": [
        "## BoJ"
      ],
      "metadata": {
        "id": "XAtcwiwRQv-t"
      }
    },
    {
      "cell_type": "markdown",
      "source": [
        "### 5214"
      ],
      "metadata": {
        "id": "qYhhmiU3QzDC"
      }
    },
    {
      "cell_type": "code",
      "source": [
        "from sys import stdin\n",
        "from collections import deque\n",
        "\n",
        "input = stdin.readline\n",
        "\n",
        "num_stations, num_tubes, num_hyper_tubes = map(int, input().split())\n",
        "station_to_tube = [[] for _ in range(num_stations)]\n",
        "tube_to_station = [[] for _ in range(num_hyper_tubes)]\n",
        "\n",
        "for _ in range(num_hyper_tubes):\n",
        "    tube_info = list(map(int, input().split()))\n",
        "    for station in tube_info:\n",
        "        station_to_tube[station-1].append(_)\n",
        "        tube_to_station[_].append(station-1)\n",
        "\n",
        "def find_min_stations():\n",
        "    visited_stations = [False] * num_stations\n",
        "    visited_tubes = [False] * num_hyper_tubes\n",
        "    queue = deque([(0, 1)])  # Start from station 0, with 1 station visited\n",
        "\n",
        "    visited_stations[0] = True\n",
        "    while queue:\n",
        "        current_station, count = queue.popleft()\n",
        "\n",
        "        next_tubes = []\n",
        "        for tube_idx in station_to_tube[current_station]:\n",
        "            if not visited_tubes[tube_idx]:\n",
        "                next_tubes.append(tube_idx)\n",
        "                visited_tubes[tube_idx] = True\n",
        "\n",
        "        for tube in next_tubes:\n",
        "            for adjacent_station in tube_to_station[tube]:\n",
        "                if not visited_stations[adjacent_station]:\n",
        "                    if adjacent_station == num_stations - 1:\n",
        "                        print(count + 1)\n",
        "                        return\n",
        "                    visited_stations[adjacent_station] = True\n",
        "                    queue.append((adjacent_station, count + 1))\n",
        "    print(-1)\n",
        "\n",
        "if num_stations == 1:\n",
        "    print(1)\n",
        "else:\n",
        "    find_min_stations()"
      ],
      "metadata": {
        "id": "YXK2tTACQ1UF"
      },
      "execution_count": null,
      "outputs": []
    },
    {
      "cell_type": "markdown",
      "source": [
        "## CodeTree"
      ],
      "metadata": {
        "id": "ILsBJjsPQxim"
      }
    },
    {
      "cell_type": "markdown",
      "source": [
        "### 아스키코드 순"
      ],
      "metadata": {
        "id": "WPoZE0c6Q0Mr"
      }
    },
    {
      "cell_type": "code",
      "source": [
        "# 문자열의 개수 입력\n",
        "n = int(input())\n",
        "\n",
        "# 문자열을 저장할 리스트\n",
        "strings = [input().strip() for _ in range(n)]\n",
        "\n",
        "# 아스키 코드 순서로 가장 먼저 나오는 문자열 찾기\n",
        "# sorted() 함수를 사용하여 리스트를 정렬한 후, 첫 번째 요소를 출력\n",
        "smallest_string = min(strings)\n",
        "\n",
        "# 결과 출력\n",
        "print(smallest_string)"
      ],
      "metadata": {
        "id": "d_7RgtXVQ1Bu"
      },
      "execution_count": null,
      "outputs": []
    }
  ]
}