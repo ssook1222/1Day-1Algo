{
  "nbformat": 4,
  "nbformat_minor": 0,
  "metadata": {
    "colab": {
      "provenance": [],
      "authorship_tag": "ABX9TyNY00lGRiA9a5C4bjtg+1NU",
      "include_colab_link": true
    },
    "kernelspec": {
      "name": "python3",
      "display_name": "Python 3"
    },
    "language_info": {
      "name": "python"
    }
  },
  "cells": [
    {
      "cell_type": "markdown",
      "metadata": {
        "id": "view-in-github",
        "colab_type": "text"
      },
      "source": [
        "<a href=\"https://colab.research.google.com/github/ssook1222/1Day-1Algo/blob/master/ssook/24%EB%85%84/9%EC%9B%94/9%EC%9B%94%204%EC%A3%BC%EC%B0%A8/0923.ipynb\" target=\"_parent\"><img src=\"https://colab.research.google.com/assets/colab-badge.svg\" alt=\"Open In Colab\"/></a>"
      ]
    },
    {
      "cell_type": "markdown",
      "source": [
        "## BoJ"
      ],
      "metadata": {
        "id": "XAtcwiwRQv-t"
      }
    },
    {
      "cell_type": "markdown",
      "source": [
        "### 20061"
      ],
      "metadata": {
        "id": "qYhhmiU3QzDC"
      }
    },
    {
      "cell_type": "code",
      "source": [
        "import sys\n",
        "\n",
        "input = sys.stdin.readline\n",
        "\n",
        "\n",
        "def check_blue_board():\n",
        "    global score\n",
        "    for col in range(2, 6):\n",
        "        cnt = 0\n",
        "        for row in range(4):\n",
        "            if blue_board[row][col]:\n",
        "                cnt += 1\n",
        "\n",
        "        if cnt == 4:\n",
        "            clear_blue_column(col)\n",
        "            score += 1\n",
        "\n",
        "\n",
        "def check_green_board():\n",
        "    global score\n",
        "    for row in range(2, 6):\n",
        "        cnt = 0\n",
        "        for col in range(4):\n",
        "            if green_board[row][col]:\n",
        "                cnt += 1\n",
        "\n",
        "        if cnt == 4:\n",
        "            clear_green_row(row)\n",
        "            score += 1\n",
        "\n",
        "\n",
        "def clear_blue_column(col_idx):\n",
        "    for col in range(col_idx, 0, -1):\n",
        "        for row in range(4):\n",
        "            blue_board[row][col] = blue_board[row][col-1]\n",
        "    for row in range(4):\n",
        "        blue_board[row][0] = 0\n",
        "\n",
        "\n",
        "def clear_green_row(row_idx):\n",
        "    for row in range(row_idx, 0, -1):\n",
        "        for col in range(4):\n",
        "            green_board[row][col] = green_board[row-1][col]\n",
        "    for col in range(4):\n",
        "        green_board[0][col] = 0\n",
        "\n",
        "\n",
        "def drop_blue_block(type, x):\n",
        "    global blue_board\n",
        "    y = 1\n",
        "    if type == 1 or type == 2:\n",
        "        while True:\n",
        "            if y + 1 > 5 or blue_board[x][y+1]:\n",
        "                blue_board[x][y] = 1\n",
        "                if type == 2:\n",
        "                    blue_board[x][y-1] = 1\n",
        "                break\n",
        "            y += 1\n",
        "\n",
        "    else:\n",
        "        while True:\n",
        "            if y + 1 > 5 or blue_board[x][y+1] != 0 or blue_board[x+1][y+1] != 0:\n",
        "                blue_board[x][y], blue_board[x+1][y] = 1, 1\n",
        "                break\n",
        "            y += 1\n",
        "\n",
        "    check_blue_board()\n",
        "\n",
        "    for col in range(2):\n",
        "        for row in range(4):\n",
        "            if blue_board[row][col]:\n",
        "                clear_blue_column(5)\n",
        "                break\n",
        "\n",
        "\n",
        "def drop_green_block(type, y):\n",
        "    global green_board\n",
        "    x = 1\n",
        "    if type == 1 or type == 3:\n",
        "        while True:\n",
        "            if x + 1 > 5 or green_board[x+1][y]:\n",
        "                green_board[x][y] = 1\n",
        "                if type == 3:\n",
        "                    green_board[x-1][y] = 1\n",
        "                break\n",
        "            x += 1\n",
        "\n",
        "    else:\n",
        "        while True:\n",
        "            if x + 1 > 5 or green_board[x+1][y] or green_board[x+1][y+1]:\n",
        "                green_board[x][y], green_board[x][y+1] = 1, 1\n",
        "                break\n",
        "            x += 1\n",
        "\n",
        "    check_green_board()\n",
        "\n",
        "    for row in range(2):\n",
        "        for col in range(4):\n",
        "            if green_board[row][col]:\n",
        "                clear_green_row(5)\n",
        "                break\n",
        "\n",
        "\n",
        "# Read input\n",
        "tc = int(input())\n",
        "blue_board = [[0] * 6 for _ in range(4)]\n",
        "green_board = [[0] * 4 for _ in range(6)]\n",
        "\n",
        "score = 0\n",
        "for _ in range(tc):\n",
        "    block_type, x, y = map(int, input().split())\n",
        "    drop_blue_block(block_type, x)\n",
        "    drop_green_block(block_type, y)\n",
        "\n",
        "# Calculate remaining tiles\n",
        "remaining_blue_tiles = sum(blue_board[row][col] for row in range(4) for col in range(2, 6))\n",
        "remaining_green_tiles = sum(green_board[row][col] for row in range(2, 6) for col in range(4))\n",
        "\n",
        "# Print results\n",
        "print(score)\n",
        "print(remaining_blue_tiles + remaining_green_tiles)"
      ],
      "metadata": {
        "id": "YXK2tTACQ1UF"
      },
      "execution_count": null,
      "outputs": []
    },
    {
      "cell_type": "markdown",
      "source": [
        "## CodeTree"
      ],
      "metadata": {
        "id": "ILsBJjsPQxim"
      }
    },
    {
      "cell_type": "markdown",
      "source": [
        "### 마지막으로 끝난 문자"
      ],
      "metadata": {
        "id": "WPoZE0c6Q0Mr"
      }
    },
    {
      "cell_type": "code",
      "source": [
        "# 입력 받기\n",
        "n = int(input().strip())\n",
        "strings = [input().strip() for _ in range(n)]\n",
        "target_char = input().strip()\n",
        "\n",
        "# 특정 문자로 끝나는 문자열 필터링\n",
        "filtered_strings = [s for s in strings if s.endswith(target_char)]\n",
        "\n",
        "# 결과 출력\n",
        "print(len(filtered_strings))\n",
        "for s in filtered_strings:\n",
        "    print(s)"
      ],
      "metadata": {
        "id": "d_7RgtXVQ1Bu"
      },
      "execution_count": null,
      "outputs": []
    }
  ]
}