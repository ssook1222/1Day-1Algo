{
  "nbformat": 4,
  "nbformat_minor": 0,
  "metadata": {
    "colab": {
      "provenance": [],
      "authorship_tag": "ABX9TyN10Ecqer7HbITl2GDK8aMB",
      "include_colab_link": true
    },
    "kernelspec": {
      "name": "python3",
      "display_name": "Python 3"
    },
    "language_info": {
      "name": "python"
    }
  },
  "cells": [
    {
      "cell_type": "markdown",
      "metadata": {
        "id": "view-in-github",
        "colab_type": "text"
      },
      "source": [
        "<a href=\"https://colab.research.google.com/github/ssook1222/1Day-1Algo/blob/master/ssook/24%EB%85%84/9%EC%9B%94/9%EC%9B%94%204%EC%A3%BC%EC%B0%A8/0927.ipynb\" target=\"_parent\"><img src=\"https://colab.research.google.com/assets/colab-badge.svg\" alt=\"Open In Colab\"/></a>"
      ]
    },
    {
      "cell_type": "markdown",
      "source": [
        "## BoJ"
      ],
      "metadata": {
        "id": "XAtcwiwRQv-t"
      }
    },
    {
      "cell_type": "markdown",
      "source": [
        "### 2610"
      ],
      "metadata": {
        "id": "qYhhmiU3QzDC"
      }
    },
    {
      "cell_type": "code",
      "source": [
        "from collections import defaultdict\n",
        "import sys\n",
        "\n",
        "input = sys.stdin.readline\n",
        "MAX = float('inf')\n",
        "\n",
        "num_people = int(input())\n",
        "num_relations = int(input())\n",
        "parent = list(range(num_people))\n",
        "committees = defaultdict(list)\n",
        "\n",
        "def find(person):\n",
        "    if person == parent[person]:\n",
        "        return person\n",
        "    parent[person] = find(parent[person])\n",
        "    return parent[person]\n",
        "\n",
        "def union(person1, person2):\n",
        "    root1 = find(person1)\n",
        "    root2 = find(person2)\n",
        "    if root1 > root2:\n",
        "        parent[root2] = root1\n",
        "    else:\n",
        "        parent[root1] = root2\n",
        "\n",
        "distances = [[MAX]*num_people for _ in range(num_people)]\n",
        "for _ in range(num_relations):\n",
        "    person1, person2 = map(int, input().split())\n",
        "    person1 -= 1\n",
        "    person2 -= 1\n",
        "    distances[person1][person2] = distances[person2][person1] = 1\n",
        "    union(person1, person2)\n",
        "\n",
        "for k in range(num_people):\n",
        "    root_k = find(k)\n",
        "    committees[root_k].append(k)\n",
        "    for i in range(num_people):\n",
        "        for j in range(num_people):\n",
        "            if distances[i][j] > distances[i][k] + distances[k][j]:\n",
        "                distances[i][j] = distances[i][k] + distances[k][j]\n",
        "\n",
        "results = []\n",
        "for group in committees.values():\n",
        "    representative, min_max_distance = 0, MAX\n",
        "    for person in group:\n",
        "        max_distance = 0\n",
        "        for other_person in group:\n",
        "            if pers"
      ],
      "metadata": {
        "id": "YXK2tTACQ1UF"
      },
      "execution_count": null,
      "outputs": []
    },
    {
      "cell_type": "markdown",
      "source": [
        "## CodeTree"
      ],
      "metadata": {
        "id": "ILsBJjsPQxim"
      }
    },
    {
      "cell_type": "markdown",
      "source": [
        "### 문자열 밀며 출력하기"
      ],
      "metadata": {
        "id": "WPoZE0c6Q0Mr"
      }
    },
    {
      "cell_type": "code",
      "source": [
        "# 입력 문자열 받기\n",
        "s = input().strip()\n",
        "\n",
        "# 문자열 길이\n",
        "length = len(s)\n",
        "\n",
        "# 문자열을 한 칸씩 밀면서 출력\n",
        "for i in range(length):\n",
        "    # 현재 회전된 문자열 출력\n",
        "    print(s[i:] + s[:i])\n",
        "\n",
        "print(s)"
      ],
      "metadata": {
        "id": "d_7RgtXVQ1Bu"
      },
      "execution_count": null,
      "outputs": []
    }
  ]
}