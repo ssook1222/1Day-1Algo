{
  "nbformat": 4,
  "nbformat_minor": 0,
  "metadata": {
    "colab": {
      "provenance": [],
      "authorship_tag": "ABX9TyPMQs0nL39KvhWKBnieMVoi",
      "include_colab_link": true
    },
    "kernelspec": {
      "name": "python3",
      "display_name": "Python 3"
    },
    "language_info": {
      "name": "python"
    }
  },
  "cells": [
    {
      "cell_type": "markdown",
      "metadata": {
        "id": "view-in-github",
        "colab_type": "text"
      },
      "source": [
        "<a href=\"https://colab.research.google.com/github/ssook1222/1Day-1Algo/blob/master/ssook/24%EB%85%84/9%EC%9B%94/9%EC%9B%94%204%EC%A3%BC%EC%B0%A8/0924.ipynb\" target=\"_parent\"><img src=\"https://colab.research.google.com/assets/colab-badge.svg\" alt=\"Open In Colab\"/></a>"
      ]
    },
    {
      "cell_type": "markdown",
      "source": [
        "## BoJ"
      ],
      "metadata": {
        "id": "XAtcwiwRQv-t"
      }
    },
    {
      "cell_type": "markdown",
      "source": [
        "### 16985"
      ],
      "metadata": {
        "id": "qYhhmiU3QzDC"
      }
    },
    {
      "cell_type": "code",
      "source": [
        "import sys\n",
        "from collections import deque\n",
        "from itertools import permutations\n",
        "\n",
        "layers = [[list(map(int, input().split(' '))) for _ in range(5)] for _ in range(5)]\n",
        "current_layers = [[[0] * 5 for _ in range(5)] for _ in range(5)]\n",
        "min_steps = sys.maxsize\n",
        "\n",
        "d_height = (0, 0, 0, 0, 1, -1)\n",
        "d_y = (0, 0, 1, -1, 0, 0)\n",
        "d_x = (1, -1, 0, 0, 0, 0)\n",
        "\n",
        "def rotate(layer):\n",
        "    rotated_layer = [[0] * 5 for _ in range(5)]\n",
        "    for i in range(len(layer)):\n",
        "        for j in range(len(layer[0])):\n",
        "            rotated_layer[j][4 - i] = layer[i][j]\n",
        "    return rotated_layer\n",
        "\n",
        "def bfs(layers):\n",
        "    global min_steps\n",
        "    queue = deque()\n",
        "    distances = [[[0, 0, 0, 0, 0] for _ in range(5)] for _ in range(5)]\n",
        "    queue.append((0, 0, 0))\n",
        "\n",
        "    while queue:\n",
        "        h, y, x = queue.popleft()\n",
        "        if (h, y, x) == (4, 4, 4):\n",
        "            min_steps = min(min_steps, distances[4][4][4])\n",
        "            if min_steps == 12: # 가장 짧은 경로가 12인 경우 바로 종료\n",
        "                print(min_steps)\n",
        "                exit()\n",
        "            return\n",
        "\n",
        "        for i in range(6):\n",
        "            nh = h + d_height[i]\n",
        "            ny = y + d_y[i]\n",
        "            nx = x + d_x[i]\n",
        "\n",
        "            if nh < 0 or nh >= 5 or ny < 0 or ny >= 5 or nx < 0 or nx >= 5:\n",
        "                continue\n",
        "            elif layers[nh][ny][nx] == 0 or distances[nh][ny][nx] != 0:\n",
        "                continue\n",
        "            queue.append((nh, ny, nx))\n",
        "            distances[nh][ny][nx] = distances[h][y][x] + 1\n",
        "\n",
        "def dfs(depth):\n",
        "    global current_layers\n",
        "    if depth == 5:\n",
        "        if current_layers[4][4][4]:\n",
        "            bfs(current_layers)\n",
        "        return\n",
        "\n",
        "    for i in range(4):\n",
        "        if current_layers[0][0][0]:\n",
        "            dfs(depth + 1)\n",
        "        current_layers[depth] = rotate(current_layers[depth])\n",
        "\n",
        "def solve():\n",
        "    for permutation in permutations([0, 1, 2, 3, 4]):\n",
        "        for i in range(5):\n",
        "            current_layers[permutation[i]] = layers[i]\n",
        "        dfs(0)\n",
        "\n",
        "solve()\n",
        "\n",
        "if min_steps == sys.maxsize:\n",
        "    min_steps = -1\n",
        "print(min_steps)"
      ],
      "metadata": {
        "id": "YXK2tTACQ1UF"
      },
      "execution_count": null,
      "outputs": []
    },
    {
      "cell_type": "markdown",
      "source": [
        "## CodeTree"
      ],
      "metadata": {
        "id": "ILsBJjsPQxim"
      }
    },
    {
      "cell_type": "markdown",
      "source": [
        "### 문자열 이어붙이기"
      ],
      "metadata": {
        "id": "WPoZE0c6Q0Mr"
      }
    },
    {
      "cell_type": "code",
      "source": [
        "# 두 개의 문자열을 입력받음\n",
        "string1, string2 = input().split()\n",
        "\n",
        "# 두 번째 문자열의 앞부분 3개 문자를 추출\n",
        "prefix_of_second = string2[:3]\n",
        "\n",
        "# 두 번째 문자열의 앞부분 3개 문자를 첫 번째 문자열의 앞부분에 이어붙임\n",
        "result = prefix_of_second + string1\n",
        "\n",
        "# 결과 출력\n",
        "print(result)"
      ],
      "metadata": {
        "id": "d_7RgtXVQ1Bu"
      },
      "execution_count": null,
      "outputs": []
    }
  ]
}