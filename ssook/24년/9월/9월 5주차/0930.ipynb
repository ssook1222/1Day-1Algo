{
  "nbformat": 4,
  "nbformat_minor": 0,
  "metadata": {
    "colab": {
      "provenance": [],
      "authorship_tag": "ABX9TyOxmhxtnovneD+BuCpf6xXH",
      "include_colab_link": true
    },
    "kernelspec": {
      "name": "python3",
      "display_name": "Python 3"
    },
    "language_info": {
      "name": "python"
    }
  },
  "cells": [
    {
      "cell_type": "markdown",
      "metadata": {
        "id": "view-in-github",
        "colab_type": "text"
      },
      "source": [
        "<a href=\"https://colab.research.google.com/github/ssook1222/1Day-1Algo/blob/master/ssook/24%EB%85%84/9%EC%9B%94/9%EC%9B%94%205%EC%A3%BC%EC%B0%A8/0930.ipynb\" target=\"_parent\"><img src=\"https://colab.research.google.com/assets/colab-badge.svg\" alt=\"Open In Colab\"/></a>"
      ]
    },
    {
      "cell_type": "markdown",
      "source": [
        "## BoJ"
      ],
      "metadata": {
        "id": "YdPsKYYYthvm"
      }
    },
    {
      "cell_type": "markdown",
      "source": [
        "### 21757"
      ],
      "metadata": {
        "id": "B6Hus3rbtmxt"
      }
    },
    {
      "cell_type": "code",
      "execution_count": null,
      "metadata": {
        "id": "AEIqWR3ishnQ"
      },
      "outputs": [],
      "source": [
        "import sys\n",
        "\n",
        "sys.setrecursionlimit(200000)\n",
        "\n",
        "def go(idx, cnt):\n",
        "    if cnt == 3:\n",
        "        if idx <= n - 1:\n",
        "            return 1\n",
        "        return 0\n",
        "    if idx == n:\n",
        "        return 0\n",
        "    if dp[idx][cnt] != -1:\n",
        "        return dp[idx][cnt]\n",
        "    dp[idx][cnt] = 0\n",
        "\n",
        "    if pf[idx] == (cnt + 1) * k:\n",
        "        dp[idx][cnt] += go(idx + 1, cnt + 1)\n",
        "    dp[idx][cnt] += go(idx + 1, cnt)\n",
        "\n",
        "    return dp[idx][cnt]\n",
        "\n",
        "n = int(sys.stdin.readline())\n",
        "arr = list(map(int, sys.stdin.readline().split()))\n",
        "\n",
        "pf = [0] * n\n",
        "pf[0] = arr[0]\n",
        "for i in range(1, n):\n",
        "    pf[i] = pf[i - 1] + arr[i]\n",
        "\n",
        "if pf[-1] % 4 != 0:\n",
        "    print(0)\n",
        "\n",
        "else:\n",
        "    k = pf[-1] // 4\n",
        "    dp = [[-1] * 4 for _ in range(n)]\n",
        "    print(go(0, 0))"
      ]
    },
    {
      "cell_type": "markdown",
      "source": [
        "## CodeTree"
      ],
      "metadata": {
        "id": "BbOuRRjbtniS"
      }
    },
    {
      "cell_type": "markdown",
      "source": [
        "### 진법 변환"
      ],
      "metadata": {
        "id": "7PY5mNa2tonF"
      }
    },
    {
      "cell_type": "code",
      "source": [
        "def convert_to_decimal(n, m):\n",
        "    # '0'~'9'는 0~9로 매핑\n",
        "    # 'A'~'Z'는 10~35로 매핑\n",
        "    # 예를 들어, 'A'는 10, 'B'는 11, ..., 'Z'는 35입니다.\n",
        "    digits = \"0123456789ABCDEFGHIJKLMNOPQRSTUVWXYZ\"\n",
        "\n",
        "    decimal_value = 0\n",
        "    power = 1  # M^0\n",
        "\n",
        "    # 입력된 숫자를 뒤에서부터 처리\n",
        "    for digit in reversed(n):\n",
        "        # 현재 자리의 숫자 값을 찾기\n",
        "        if '0' <= digit <= '9':\n",
        "            value = ord(digit) - ord('0')\n",
        "        else:\n",
        "            value = ord(digit) - ord('A') + 10\n",
        "\n",
        "        # 현재 자리의 값을 10진수로 변환하여 추가\n",
        "        decimal_value += value * power\n",
        "\n",
        "        # 진법 M의 거듭제곱 업데이트\n",
        "        power *= m\n",
        "\n",
        "    return decimal_value\n",
        "\n",
        "# 입력 처리\n",
        "input_line = input().strip()\n",
        "n, m = input_line.split()\n",
        "m = int(m)\n",
        "\n",
        "# 변환 및 출력\n",
        "result = convert_to_decimal(n, m)\n",
        "print(result)"
      ],
      "metadata": {
        "id": "-vGX11NNtpiT"
      },
      "execution_count": null,
      "outputs": []
    }
  ]
}