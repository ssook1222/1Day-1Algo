{
  "nbformat": 4,
  "nbformat_minor": 0,
  "metadata": {
    "colab": {
      "provenance": [],
      "authorship_tag": "ABX9TyP+vJdjA+D9z+bV6yIfcSyt",
      "include_colab_link": true
    },
    "kernelspec": {
      "name": "python3",
      "display_name": "Python 3"
    },
    "language_info": {
      "name": "python"
    }
  },
  "cells": [
    {
      "cell_type": "markdown",
      "metadata": {
        "id": "view-in-github",
        "colab_type": "text"
      },
      "source": [
        "<a href=\"https://colab.research.google.com/github/ssook1222/1Day-1Algo/blob/master/ssook/24%EB%85%84/9%EC%9B%94/9%EC%9B%94%205%EC%A3%BC%EC%B0%A8/0929.ipynb\" target=\"_parent\"><img src=\"https://colab.research.google.com/assets/colab-badge.svg\" alt=\"Open In Colab\"/></a>"
      ]
    },
    {
      "cell_type": "markdown",
      "source": [
        "## BoJ"
      ],
      "metadata": {
        "id": "XAtcwiwRQv-t"
      }
    },
    {
      "cell_type": "markdown",
      "source": [
        "### 9661"
      ],
      "metadata": {
        "id": "qYhhmiU3QzDC"
      }
    },
    {
      "cell_type": "code",
      "source": [
        "total_stones = int(input())\n",
        "if total_stones % 5 == 2 or total_stones % 5 == 0:\n",
        "    print('CY')\n",
        "else:\n",
        "    print('SK')"
      ],
      "metadata": {
        "id": "YXK2tTACQ1UF"
      },
      "execution_count": null,
      "outputs": []
    },
    {
      "cell_type": "markdown",
      "source": [
        "## CodeTree"
      ],
      "metadata": {
        "id": "ILsBJjsPQxim"
      }
    },
    {
      "cell_type": "markdown",
      "source": [
        "### 격자 늘리기\n"
      ],
      "metadata": {
        "id": "WPoZE0c6Q0Mr"
      }
    },
    {
      "cell_type": "code",
      "source": [
        "import sys\n",
        "input = sys.stdin.readline\n",
        "\n",
        "# 입력값 읽기\n",
        "N, M, K = map(int, input().split())\n",
        "grid = [input().strip() for _ in range(N)]\n",
        "\n",
        "# 격자 확대 및 출력\n",
        "for row in grid:\n",
        "    # 가로 방향으로 K배 확대\n",
        "    expanded_row = ''.join(char * K for char in row)\n",
        "\n",
        "    # 세로 방향으로 K배 확대\n",
        "    for _ in range(K):\n",
        "        print(expanded_row)"
      ],
      "metadata": {
        "id": "d_7RgtXVQ1Bu"
      },
      "execution_count": null,
      "outputs": []
    }
  ]
}