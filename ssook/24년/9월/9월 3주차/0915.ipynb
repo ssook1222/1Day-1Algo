{
  "nbformat": 4,
  "nbformat_minor": 0,
  "metadata": {
    "colab": {
      "provenance": [],
      "authorship_tag": "ABX9TyOoAR0CSB9eTHGycby+KO4+",
      "include_colab_link": true
    },
    "kernelspec": {
      "name": "python3",
      "display_name": "Python 3"
    },
    "language_info": {
      "name": "python"
    }
  },
  "cells": [
    {
      "cell_type": "markdown",
      "metadata": {
        "id": "view-in-github",
        "colab_type": "text"
      },
      "source": [
        "<a href=\"https://colab.research.google.com/github/ssook1222/1Day-1Algo/blob/master/ssook/24%EB%85%84/9%EC%9B%94/9%EC%9B%94%203%EC%A3%BC%EC%B0%A8/0915.ipynb\" target=\"_parent\"><img src=\"https://colab.research.google.com/assets/colab-badge.svg\" alt=\"Open In Colab\"/></a>"
      ]
    },
    {
      "cell_type": "markdown",
      "source": [
        "## BoJ"
      ],
      "metadata": {
        "id": "5-xAVpEhzQha"
      }
    },
    {
      "cell_type": "markdown",
      "source": [
        "### 10868"
      ],
      "metadata": {
        "id": "LSmxZuAnzS6S"
      }
    },
    {
      "cell_type": "code",
      "execution_count": null,
      "metadata": {
        "id": "Wfb_jN_cvP6K"
      },
      "outputs": [],
      "source": [
        "import sys\n",
        "sys.setrecursionlimit(10**6)\n",
        "input = sys.stdin.readline\n",
        "INF = sys.maxsize\n",
        "\n",
        "# N개의 정수와 쿼리의 개수 M\n",
        "n, m = map(int, input().split())\n",
        "values = [0] + [int(input()) for _ in range(n)]\n",
        "segment_tree = [0] * (n * 4)\n",
        "\n",
        "# 세그먼트 트리 생성 및 초기화\n",
        "def build_tree(start, end, index):\n",
        "    # 리프 노드인 경우\n",
        "    if start == end:\n",
        "        segment_tree[index] = values[start]\n",
        "        return segment_tree[index]\n",
        "\n",
        "    # 리프 노드가 아닌 경우\n",
        "    mid = (start + end) // 2\n",
        "    segment_tree[index] = min(build_tree(start, mid, index * 2), build_tree(mid + 1, end, index * 2 + 1))\n",
        "    return segment_tree[index]\n",
        "\n",
        "# 특정 구간의 최솟값을 찾는 함수\n",
        "def range_min_query(start, end, index, left, right):\n",
        "    # 범위를 벗어난 경우\n",
        "    if left > end or right < start:\n",
        "        return INF\n",
        "\n",
        "    # 범위에 완전히 포함된 경우\n",
        "    if left <= start and end <= right:\n",
        "        return segment_tree[index]\n",
        "\n",
        "    # 부분적으로 포함된 경우\n",
        "    mid = (start + end) // 2\n",
        "    return min(range_min_query(start, mid, index * 2, left, right), range_min_query(mid + 1, end, index * 2 + 1, left, right))\n",
        "\n",
        "# 세그먼트 트리 생성\n",
        "build_tree(1, n, 1)\n",
        "\n",
        "# 쿼리 처리\n",
        "for _ in range(m):\n",
        "    a, b = map(int, input().split())\n",
        "    # a부터 b까지의 최솟값을 찾기\n",
        "    print(range_min_query(1, n, 1, a, b))"
      ]
    },
    {
      "cell_type": "markdown",
      "source": [
        "## CodeTree"
      ],
      "metadata": {
        "id": "rUeY0ZoozVMy"
      }
    },
    {
      "cell_type": "markdown",
      "source": [
        "### 아스키코드의 곱과 몫"
      ],
      "metadata": {
        "id": "sNKnRJFZzWx0"
      }
    },
    {
      "cell_type": "code",
      "source": [
        "# 입력 받기\n",
        "char1, char2 = input().strip().split()\n",
        "\n",
        "# 각 문자의 ASCII 코드값 구하기\n",
        "ascii1 = ord(char1)\n",
        "ascii2 = ord(char2)\n",
        "\n",
        "# 곱 계산\n",
        "product = ascii1 * ascii2\n",
        "\n",
        "# 나머지 계산: 더 큰 ASCII 값에서 작은 ASCII 값을 나눈 나머지\n",
        "if ascii1 > ascii2:\n",
        "    remainder = ascii1 % ascii2\n",
        "else:\n",
        "    remainder = ascii2 % ascii1\n",
        "\n",
        "# 결과 출력\n",
        "print(product, remainder)"
      ],
      "metadata": {
        "id": "4k3JCE_pzXbK"
      },
      "execution_count": null,
      "outputs": []
    }
  ]
}