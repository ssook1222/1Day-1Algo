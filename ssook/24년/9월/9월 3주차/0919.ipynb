{
  "nbformat": 4,
  "nbformat_minor": 0,
  "metadata": {
    "colab": {
      "provenance": [],
      "authorship_tag": "ABX9TyNn72xwgmbBkBFc9FrUOT/A",
      "include_colab_link": true
    },
    "kernelspec": {
      "name": "python3",
      "display_name": "Python 3"
    },
    "language_info": {
      "name": "python"
    }
  },
  "cells": [
    {
      "cell_type": "markdown",
      "metadata": {
        "id": "view-in-github",
        "colab_type": "text"
      },
      "source": [
        "<a href=\"https://colab.research.google.com/github/ssook1222/1Day-1Algo/blob/master/ssook/24%EB%85%84/9%EC%9B%94/9%EC%9B%94%203%EC%A3%BC%EC%B0%A8/0919.ipynb\" target=\"_parent\"><img src=\"https://colab.research.google.com/assets/colab-badge.svg\" alt=\"Open In Colab\"/></a>"
      ]
    },
    {
      "cell_type": "markdown",
      "source": [
        "## BoJ"
      ],
      "metadata": {
        "id": "nXCMjAYJn0hu"
      }
    },
    {
      "cell_type": "markdown",
      "source": [
        "### 14890"
      ],
      "metadata": {
        "id": "1vWP-0fsn3Uj"
      }
    },
    {
      "cell_type": "code",
      "execution_count": null,
      "metadata": {
        "id": "Y1r3sfzbnxmj"
      },
      "outputs": [],
      "source": [
        "import sys\n",
        "\n",
        "# 입력 받기\n",
        "N, L = map(int, sys.stdin.readline().split())\n",
        "height_map = [list(map(int, sys.stdin.readline().split())) for _ in range(N)]\n",
        "\n",
        "def can_pass(line, L):\n",
        "    # 경사로 설치 여부를 확인하기 위한 리스트\n",
        "    slope_installed = [False for _ in range(N)]\n",
        "\n",
        "    for i in range(N - 1):\n",
        "        # 인접한 두 칸의 높이가 같으면 계속 진행\n",
        "        if line[i] == line[i + 1]:\n",
        "            continue\n",
        "        # 높이 차이가 1을 초과하면 통과 불가\n",
        "        elif abs(line[i] - line[i + 1]) > 1:\n",
        "            return False\n",
        "        # 현재 칸이 더 높고, 다음 칸에 경사로를 설치할 수 있는지 확인\n",
        "        elif line[i] > line[i + 1]:\n",
        "            next_height = line[i + 1]\n",
        "            for j in range(i + 1, i + L + 1):\n",
        "                if 0 <= j < N:\n",
        "                    if next_height != line[j]:\n",
        "                        return False\n",
        "                    if slope_installed[j]:\n",
        "                        return False\n",
        "                    slope_installed[j] = True\n",
        "                else:\n",
        "                    return False\n",
        "        # 다음 칸이 더 높고, 현재 칸에 경사로를 설치할 수 있는지 확인\n",
        "        else:\n",
        "            current_height = line[i]\n",
        "            for j in range(i, i - L, -1):\n",
        "                if 0 <= j < N:\n",
        "                    if current_height != line[j]:\n",
        "                        return False\n",
        "                    if slope_installed[j]:\n",
        "                        return False\n",
        "                    slope_installed[j] = True\n",
        "                else:\n",
        "                    return False\n",
        "    return True\n",
        "\n",
        "valid_paths = 0\n",
        "\n",
        "# 각 행에 대해 경로 검사\n",
        "for row in height_map:\n",
        "    if can_pass(row, L):\n",
        "        valid_paths += 1\n",
        "\n",
        "# 각 열에 대해 경로 검사\n",
        "for col in range(N):\n",
        "    column = [height_map[row][col] for row in range(N)]\n",
        "    if can_pass(column, L):\n",
        "        valid_paths += 1\n",
        "\n",
        "print(valid_paths)"
      ]
    },
    {
      "cell_type": "markdown",
      "source": [
        "## CodeTree"
      ],
      "metadata": {
        "id": "2-LwUO2In1zI"
      }
    },
    {
      "cell_type": "markdown",
      "source": [
        "### 부분 문자열의 존재 유무"
      ],
      "metadata": {
        "id": "myjIrWsWn37l"
      }
    },
    {
      "cell_type": "code",
      "source": [
        "def check_substrings(s):\n",
        "    # 'ee'와 'ea'의 존재 유무를 확인\n",
        "    has_ee = 'ee' in s\n",
        "    has_ea = 'ea' in s\n",
        "\n",
        "    # 결과를 'YES' 또는 'NO'로 출력\n",
        "    print('YES' if has_ee else 'NO', 'YES' if has_ea else 'NO')\n",
        "\n",
        "# 입력 받기\n",
        "input_string = input().strip()\n",
        "check_substrings(input_string)"
      ],
      "metadata": {
        "id": "C9itGs-Gn3Ft"
      },
      "execution_count": null,
      "outputs": []
    }
  ]
}