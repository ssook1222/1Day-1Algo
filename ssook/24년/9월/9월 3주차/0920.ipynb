{
  "nbformat": 4,
  "nbformat_minor": 0,
  "metadata": {
    "colab": {
      "provenance": [],
      "authorship_tag": "ABX9TyOFXuwk9xz9209T/48S2wK6",
      "include_colab_link": true
    },
    "kernelspec": {
      "name": "python3",
      "display_name": "Python 3"
    },
    "language_info": {
      "name": "python"
    }
  },
  "cells": [
    {
      "cell_type": "markdown",
      "metadata": {
        "id": "view-in-github",
        "colab_type": "text"
      },
      "source": [
        "<a href=\"https://colab.research.google.com/github/ssook1222/1Day-1Algo/blob/master/ssook/24%EB%85%84/9%EC%9B%94/9%EC%9B%94%203%EC%A3%BC%EC%B0%A8/0920.ipynb\" target=\"_parent\"><img src=\"https://colab.research.google.com/assets/colab-badge.svg\" alt=\"Open In Colab\"/></a>"
      ]
    },
    {
      "cell_type": "markdown",
      "source": [
        "## BoJ"
      ],
      "metadata": {
        "id": "nXCMjAYJn0hu"
      }
    },
    {
      "cell_type": "markdown",
      "source": [
        "### 11066"
      ],
      "metadata": {
        "id": "1vWP-0fsn3Uj"
      }
    },
    {
      "cell_type": "code",
      "execution_count": null,
      "metadata": {
        "id": "Y1r3sfzbnxmj"
      },
      "outputs": [],
      "source": [
        "import sys\n",
        "input = sys.stdin.readline\n",
        "\n",
        "# 테스트 케이스 수 입력\n",
        "t = int(input())\n",
        "\n",
        "for _ in range(t):\n",
        "    # 파일 개수 입력\n",
        "    n = int(input())\n",
        "\n",
        "    # 각 파일의 크기 입력\n",
        "    file_sizes = list(map(int, input().split()))\n",
        "\n",
        "    # 파일 크기의 누적합을 저장할 리스트\n",
        "    cumulative_sum = [0] * (n + 1)\n",
        "\n",
        "    # 누적합 계산\n",
        "    for i in range(1, n + 1):\n",
        "        cumulative_sum[i] = file_sizes[i - 1]\n",
        "        cumulative_sum[i] += cumulative_sum[i - 1]\n",
        "\n",
        "    # DP 테이블 초기화\n",
        "    dp = [[1e9] * n for _ in range(n)]\n",
        "\n",
        "    # 길이가 1인 파일의 경우 비용은 0\n",
        "    for i in range(n):\n",
        "        dp[i][i] = 0\n",
        "\n",
        "    # 길이 2 이상인 부분 배열에 대한 DP 테이블 채우기\n",
        "    for length in range(2, n + 1):  # 길이\n",
        "        for start in range(n - length + 1):  # 시작 인덱스\n",
        "            end = start + length - 1  # 끝 인덱스\n",
        "            for mid in range(start, end):  # 분할 지점\n",
        "                dp[start][end] = min(\n",
        "                    dp[start][end],\n",
        "                    dp[start][mid] + dp[mid + 1][end] + cumulative_sum[end + 1] - cumulative_sum[start]\n",
        "                )\n",
        "\n",
        "    # 결과 출력\n",
        "    print(dp[0][n - 1])"
      ]
    },
    {
      "cell_type": "markdown",
      "source": [
        "## CodeTree"
      ],
      "metadata": {
        "id": "2-LwUO2In1zI"
      }
    },
    {
      "cell_type": "markdown",
      "source": [
        "### 문자열 거꾸로 출력하기 2"
      ],
      "metadata": {
        "id": "myjIrWsWn37l"
      }
    },
    {
      "cell_type": "code",
      "source": [
        "def reverse_strings(n, strings):\n",
        "    # 각 문자열을 뒤집어서 출력\n",
        "    for string in strings:\n",
        "        print(string[::-1])\n",
        "\n",
        "# 입력 받기\n",
        "n = int(input().strip())\n",
        "strings = [input().strip() for _ in range(n)]\n",
        "\n",
        "reverse_strings(n, strings)"
      ],
      "metadata": {
        "id": "C9itGs-Gn3Ft"
      },
      "execution_count": null,
      "outputs": []
    }
  ]
}