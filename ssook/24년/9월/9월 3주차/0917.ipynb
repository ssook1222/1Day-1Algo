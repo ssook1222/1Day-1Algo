{
  "nbformat": 4,
  "nbformat_minor": 0,
  "metadata": {
    "colab": {
      "provenance": [],
      "authorship_tag": "ABX9TyNrHXsUlbTtIDHK5cqrAVU/",
      "include_colab_link": true
    },
    "kernelspec": {
      "name": "python3",
      "display_name": "Python 3"
    },
    "language_info": {
      "name": "python"
    }
  },
  "cells": [
    {
      "cell_type": "markdown",
      "metadata": {
        "id": "view-in-github",
        "colab_type": "text"
      },
      "source": [
        "<a href=\"https://colab.research.google.com/github/ssook1222/1Day-1Algo/blob/master/ssook/24%EB%85%84/9%EC%9B%94/9%EC%9B%94%203%EC%A3%BC%EC%B0%A8/0917.ipynb\" target=\"_parent\"><img src=\"https://colab.research.google.com/assets/colab-badge.svg\" alt=\"Open In Colab\"/></a>"
      ]
    },
    {
      "cell_type": "markdown",
      "source": [
        "## BoJ"
      ],
      "metadata": {
        "id": "nXCMjAYJn0hu"
      }
    },
    {
      "cell_type": "markdown",
      "source": [
        "### 16236"
      ],
      "metadata": {
        "id": "1vWP-0fsn3Uj"
      }
    },
    {
      "cell_type": "code",
      "execution_count": null,
      "metadata": {
        "id": "Y1r3sfzbnxmj"
      },
      "outputs": [],
      "source": [
        "from collections import deque\n",
        "\n",
        "# 공간의 크기 입력\n",
        "N = int(input())\n",
        "# 공간 상태 입력\n",
        "grid = [list(map(int, input().split())) for _ in range(N)]\n",
        "\n",
        "# 상하좌우 이동을 위한 변화량\n",
        "deltas_x, deltas_y = [-1, 0, 1, 0], [0, 1, 0, -1]\n",
        "\n",
        "# 아기 상어의 초기 위치를 저장\n",
        "shark_pos = []\n",
        "for i in range(N):\n",
        "    for j in range(N):\n",
        "        if grid[i][j] == 9:\n",
        "            shark_pos.append(i)\n",
        "            shark_pos.append(j)\n",
        "\n",
        "time_spent = 0\n",
        "\n",
        "# BFS를 사용하여 가까운 먹이를 찾는 함수\n",
        "def bfs(x, y):\n",
        "    visited = [[0]*N for _ in range(N)]\n",
        "    queue = deque([[x, y]])\n",
        "    candidates = []\n",
        "\n",
        "    visited[x][y] = 1\n",
        "\n",
        "    while queue:\n",
        "        i, j = queue.popleft()\n",
        "\n",
        "        for idx in range(4):\n",
        "            new_x, new_y = i + deltas_x[idx], j + deltas_y[idx]\n",
        "\n",
        "            if 0 <= new_x < N and 0 <= new_y < N and visited[new_x][new_y] == 0:\n",
        "                # 이동 가능한지, 먹을 수 있는지 체크\n",
        "                if grid[new_x][new_y] > 0 and grid[new_x][new_y] < size[0]:\n",
        "                    visited[new_x][new_y] = visited[i][j] + 1\n",
        "                    candidates.append((visited[new_x][new_y] - 1, new_x, new_y))\n",
        "                elif grid[new_x][new_y] == 0 or grid[new_x][new_y] == size[0]:\n",
        "                    visited[new_x][new_y] = visited[i][j] + 1\n",
        "                    queue.append([new_x, new_y])\n",
        "\n",
        "    # 후보 리스트를 거리, 행, 열 순서로 정렬\n",
        "    return sorted(candidates, key=lambda x: (x[0], x[1], x[2]))\n",
        "\n",
        "# 아기 상어의 초기 위치와 크기 설정\n",
        "x, y = shark_pos\n",
        "size = [2, 0]  # size[0]: 현재 상어의 크기, size[1]: 먹은 물고기 수\n",
        "\n",
        "# BFS를 통해 먹이를 찾아서 이동하는 루프\n",
        "while True:\n",
        "    grid[x][y] = size[0]\n",
        "    candidates = deque(bfs(x, y))\n",
        "\n",
        "    if not candidates:\n",
        "        break\n",
        "\n",
        "    # 가장 가까운 먹이로 이동\n",
        "    distance, target_x, target_y = candidates.popleft()\n",
        "    time_spent += distance\n",
        "    size[1] += 1\n",
        "\n",
        "    # 크기가 증가할 조건을 체크\n",
        "    if size[0] == size[1]:\n",
        "        size[0] += 1\n",
        "        size[1] = 0\n",
        "\n",
        "    grid[x][y] = 0\n",
        "    x, y = target_x, target_y\n",
        "\n",
        "print(time_spent)"
      ]
    },
    {
      "cell_type": "markdown",
      "source": [
        "## CodeTree"
      ],
      "metadata": {
        "id": "2-LwUO2In1zI"
      }
    },
    {
      "cell_type": "markdown",
      "source": [
        "### 세로 읽기"
      ],
      "metadata": {
        "id": "myjIrWsWn37l"
      }
    },
    {
      "cell_type": "code",
      "source": [
        "def vertical_read(words):\n",
        "    # 최대 단어 길이 구하기\n",
        "    max_length = max(len(word) for word in words)\n",
        "\n",
        "    # 세로 읽기\n",
        "    result = []\n",
        "    for col in range(max_length):\n",
        "        for row in range(5):\n",
        "            if col < len(words[row]):\n",
        "                result.append(words[row][col])\n",
        "\n",
        "    # 결과를 문자열로 출력\n",
        "    print(''.join(result))\n",
        "\n",
        "# 입력 받기\n",
        "words = [input().strip() for _ in range(5)]\n",
        "vertical_read(words)"
      ],
      "metadata": {
        "id": "C9itGs-Gn3Ft"
      },
      "execution_count": null,
      "outputs": []
    }
  ]
}