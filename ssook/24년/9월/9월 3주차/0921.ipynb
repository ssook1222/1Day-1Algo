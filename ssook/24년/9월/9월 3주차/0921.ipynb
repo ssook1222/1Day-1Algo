{
  "nbformat": 4,
  "nbformat_minor": 0,
  "metadata": {
    "colab": {
      "provenance": [],
      "authorship_tag": "ABX9TyMrl48Z3CLsYUJIxLimo3hi",
      "include_colab_link": true
    },
    "kernelspec": {
      "name": "python3",
      "display_name": "Python 3"
    },
    "language_info": {
      "name": "python"
    }
  },
  "cells": [
    {
      "cell_type": "markdown",
      "metadata": {
        "id": "view-in-github",
        "colab_type": "text"
      },
      "source": [
        "<a href=\"https://colab.research.google.com/github/ssook1222/1Day-1Algo/blob/master/ssook/24%EB%85%84/9%EC%9B%94/9%EC%9B%94%203%EC%A3%BC%EC%B0%A8/0921.ipynb\" target=\"_parent\"><img src=\"https://colab.research.google.com/assets/colab-badge.svg\" alt=\"Open In Colab\"/></a>"
      ]
    },
    {
      "cell_type": "markdown",
      "source": [
        "## BoJ"
      ],
      "metadata": {
        "id": "nXCMjAYJn0hu"
      }
    },
    {
      "cell_type": "markdown",
      "source": [
        "### 15685"
      ],
      "metadata": {
        "id": "1vWP-0fsn3Uj"
      }
    },
    {
      "cell_type": "code",
      "execution_count": null,
      "metadata": {
        "id": "Y1r3sfzbnxmj"
      },
      "outputs": [],
      "source": [
        "n = int(input())\n",
        "\n",
        "# 101x101 크기의 그래프 초기화\n",
        "grid = [[0] * 101 for _ in range(101)]\n",
        "dx = [0, -1, 0, 1]  # 동, 북, 서, 남\n",
        "dy = [1, 0, -1, 0]  # 동, 북, 서, 남\n",
        "\n",
        "for _ in range(n):\n",
        "    y, x, d, g = map(int, input().split())\n",
        "\n",
        "    grid[x][y] = 1\n",
        "\n",
        "    # 커브 리스트 초기화\n",
        "    curve = [d]\n",
        "    for _ in range(g):\n",
        "        # 현재 커브를 거꾸로 뒤집어서 새로운 커브를 생성\n",
        "        for k in range(len(curve) - 1, -1, -1):\n",
        "            curve.append((curve[k] + 1) % 4)\n",
        "\n",
        "    # 드래곤 커브 그리기\n",
        "    for direction in curve:\n",
        "        x += dx[direction]\n",
        "        y += dy[direction]\n",
        "        if 0 <= x < 101 and 0 <= y < 101:\n",
        "            grid[x][y] = 1\n",
        "\n",
        "# 1x1 정사각형을 모두 포함하는 2x2 정사각형의 개수를 세기\n",
        "count = 0\n",
        "for i in range(100):\n",
        "    for j in range(100):\n",
        "        if (grid[i][j] == 1 and grid[i + 1][j] == 1 and\n",
        "            grid[i][j + 1] == 1 and grid[i + 1][j + 1] == 1):\n",
        "            count += 1\n",
        "\n",
        "print(count)\n"
      ]
    },
    {
      "cell_type": "markdown",
      "source": [
        "## CodeTree"
      ],
      "metadata": {
        "id": "2-LwUO2In1zI"
      }
    },
    {
      "cell_type": "markdown",
      "source": [
        "### 문자열의 개수 2"
      ],
      "metadata": {
        "id": "myjIrWsWn37l"
      }
    },
    {
      "cell_type": "code",
      "source": [
        "def process_strings():\n",
        "    strings = []\n",
        "\n",
        "    while True:\n",
        "        string = input().strip()\n",
        "        if string == '0':\n",
        "            break\n",
        "        strings.append(string)\n",
        "\n",
        "    # 전체 문자열 개수 출력\n",
        "    print(len(strings))\n",
        "\n",
        "    # 짝수 번째 문자열 출력\n",
        "    for i in range(1, len(strings), 2):\n",
        "        print(strings[i])\n",
        "\n",
        "# 프로그램 실행\n",
        "process_strings()"
      ],
      "metadata": {
        "id": "C9itGs-Gn3Ft"
      },
      "execution_count": null,
      "outputs": []
    }
  ]
}