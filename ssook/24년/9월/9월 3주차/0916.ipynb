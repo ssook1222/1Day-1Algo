{
  "nbformat": 4,
  "nbformat_minor": 0,
  "metadata": {
    "colab": {
      "provenance": [],
      "authorship_tag": "ABX9TyMYFvqmMZCbYGr1WhvaLiJW",
      "include_colab_link": true
    },
    "kernelspec": {
      "name": "python3",
      "display_name": "Python 3"
    },
    "language_info": {
      "name": "python"
    }
  },
  "cells": [
    {
      "cell_type": "markdown",
      "metadata": {
        "id": "view-in-github",
        "colab_type": "text"
      },
      "source": [
        "<a href=\"https://colab.research.google.com/github/ssook1222/1Day-1Algo/blob/master/ssook/24%EB%85%84/9%EC%9B%94/9%EC%9B%94%203%EC%A3%BC%EC%B0%A8/0916.ipynb\" target=\"_parent\"><img src=\"https://colab.research.google.com/assets/colab-badge.svg\" alt=\"Open In Colab\"/></a>"
      ]
    },
    {
      "cell_type": "markdown",
      "source": [
        "## BoJ"
      ],
      "metadata": {
        "id": "nXCMjAYJn0hu"
      }
    },
    {
      "cell_type": "markdown",
      "source": [
        "### 2206"
      ],
      "metadata": {
        "id": "1vWP-0fsn3Uj"
      }
    },
    {
      "cell_type": "code",
      "execution_count": null,
      "metadata": {
        "id": "Y1r3sfzbnxmj"
      },
      "outputs": [],
      "source": [
        "from collections import deque\n",
        "\n",
        "# 행과 열의 수 입력\n",
        "rows, cols = map(int, input().split())\n",
        "grid = []\n",
        "\n",
        "# 3차원 행렬을 통해 벽의 파괴를 파악함. visited[x][y][0]은 벽 파괴 가능. [x][y][1]은 불가능.\n",
        "visited = [[[0] * 2 for _ in range(cols)] for _ in range(rows)]\n",
        "visited[0][0][0] = 1\n",
        "\n",
        "# 맵의 정보 입력\n",
        "for i in range(rows):\n",
        "    grid.append(list(map(int, input())))\n",
        "\n",
        "# 상하좌우 이동을 위한 변화량\n",
        "deltas_x = [0, 0, 1, -1]\n",
        "deltas_y = [1, -1, 0, 0]\n",
        "\n",
        "def bfs(start_x, start_y, broken_wall):\n",
        "    queue = deque()\n",
        "    queue.append((start_x, start_y, broken_wall))\n",
        "\n",
        "    while queue:\n",
        "        x, y, wall_broken = queue.popleft()\n",
        "        # 도착 지점에 도달하면 이동 횟수를 출력\n",
        "        if x == rows - 1 and y == cols - 1:\n",
        "            return visited[x][y][wall_broken]\n",
        "\n",
        "        for i in range(4):\n",
        "            new_x = x + deltas_x[i]\n",
        "            new_y = y + deltas_y[i]\n",
        "\n",
        "            # 경계 조건 체크\n",
        "            if new_x < 0 or new_x >= rows or new_y < 0 or new_y >= cols:\n",
        "                continue\n",
        "\n",
        "            # 다음 이동할 곳이 벽이고, 벽을 부순 적이 없는 경우\n",
        "            if grid[new_x][new_y] == 1 and wall_broken == 0:\n",
        "                visited[new_x][new_y][1] = visited[x][y][0] + 1\n",
        "                queue.append((new_x, new_y, 1))\n",
        "            # 다음 이동할 곳이 벽이 아니고, 아직 방문하지 않은 곳이면\n",
        "            elif grid[new_x][new_y] == 0 and visited[new_x][new_y][wall_broken] == 0:\n",
        "                visited[new_x][new_y][wall_broken] = visited[x][y][wall_broken] + 1\n",
        "                queue.append((new_x, new_y, wall_broken))\n",
        "\n",
        "    return -1\n",
        "\n",
        "print(bfs(0, 0, 0))"
      ]
    },
    {
      "cell_type": "markdown",
      "source": [
        "## CodeTree"
      ],
      "metadata": {
        "id": "2-LwUO2In1zI"
      }
    },
    {
      "cell_type": "markdown",
      "source": [
        "### 문자열 찾기"
      ],
      "metadata": {
        "id": "myjIrWsWn37l"
      }
    },
    {
      "cell_type": "code",
      "source": [
        "def count_patterns(s):\n",
        "    koi_count = 0\n",
        "    ioi_count = 0\n",
        "    length = len(s)\n",
        "\n",
        "    for i in range(length - 2):\n",
        "        if s[i:i+3] == 'KOI':\n",
        "            koi_count += 1\n",
        "        elif s[i:i+3] == 'IOI':\n",
        "            ioi_count += 1\n",
        "\n",
        "    return koi_count, ioi_count\n",
        "\n",
        "# 입력받기\n",
        "s = input().strip()\n",
        "koi_count, ioi_count = count_patterns(s)\n",
        "print(koi_count, ioi_count)"
      ],
      "metadata": {
        "id": "C9itGs-Gn3Ft"
      },
      "execution_count": null,
      "outputs": []
    }
  ]
}