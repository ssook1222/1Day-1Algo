{
  "nbformat": 4,
  "nbformat_minor": 0,
  "metadata": {
    "colab": {
      "provenance": [],
      "authorship_tag": "ABX9TyPSTY+ymKh7TVgxpQsR2yrx",
      "include_colab_link": true
    },
    "kernelspec": {
      "name": "python3",
      "display_name": "Python 3"
    },
    "language_info": {
      "name": "python"
    }
  },
  "cells": [
    {
      "cell_type": "markdown",
      "metadata": {
        "id": "view-in-github",
        "colab_type": "text"
      },
      "source": [
        "<a href=\"https://colab.research.google.com/github/ssook1222/1Day-1Algo/blob/master/ssook/24%EB%85%84/9%EC%9B%94/9%EC%9B%94%201%EC%A3%BC%EC%B0%A8/0901.ipynb\" target=\"_parent\"><img src=\"https://colab.research.google.com/assets/colab-badge.svg\" alt=\"Open In Colab\"/></a>"
      ]
    },
    {
      "cell_type": "markdown",
      "source": [
        "## BoJ"
      ],
      "metadata": {
        "id": "y06FCA1fz6zF"
      }
    },
    {
      "cell_type": "markdown",
      "source": [
        "### 2086"
      ],
      "metadata": {
        "id": "HQqx2Wy0z8Ju"
      }
    },
    {
      "cell_type": "code",
      "execution_count": null,
      "metadata": {
        "id": "UOdM4AvHz5Gh"
      },
      "outputs": [],
      "source": [
        "import sys\n",
        "input = sys.stdin.readline\n",
        "\n",
        "memory = {1: 1, 2: 1, 3: 2, 4: 3, 5: 5}\n",
        "\n",
        "def fibonacci(n):\n",
        "    if memory.get(n):\n",
        "        return memory[n]\n",
        "    else:\n",
        "        if n % 2 == 1:\n",
        "            memory[n] = (fibonacci(n // 2) ** 2 + fibonacci(n // 2 + 1) ** 2) % 1000000000\n",
        "        else:\n",
        "            memory[n] = (fibonacci(n + 1) - fibonacci(n - 1)) % 1000000000\n",
        "        return memory[n]\n",
        "\n",
        "a, b = map(int, input().split())\n",
        "result = (fibonacci(b + 2) - fibonacci(a + 1)) % 1000000000\n",
        "print(result)"
      ]
    },
    {
      "cell_type": "markdown",
      "source": [
        "---"
      ],
      "metadata": {
        "id": "in3Skkoxz9C4"
      }
    },
    {
      "cell_type": "markdown",
      "source": [
        "## CodeTree"
      ],
      "metadata": {
        "id": "C5nc8vqqz910"
      }
    },
    {
      "cell_type": "markdown",
      "source": [
        "### 문자에 따른 명령 2"
      ],
      "metadata": {
        "id": "XYxetbBuz_GS"
      }
    },
    {
      "cell_type": "code",
      "source": [
        "def move(command):\n",
        "    directions = ['N', 'E', 'S', 'W']\n",
        "    dx = [0, 1, 0, -1]\n",
        "    dy = [1, 0, -1, 0]\n",
        "\n",
        "    x, y = 0, 0\n",
        "    direction_idx = 0  # 시작 방향은 북쪽 (0: 북, 1: 동, 2: 남, 3: 서)\n",
        "\n",
        "    for cmd in command:\n",
        "        if cmd == 'L':\n",
        "            direction_idx = (direction_idx - 1) % 4\n",
        "        elif cmd == 'R':\n",
        "            direction_idx = (direction_idx + 1) % 4\n",
        "        elif cmd == 'F':\n",
        "            x += dx[direction_idx]\n",
        "            y += dy[direction_idx]\n",
        "\n",
        "    return x, y\n",
        "\n",
        "# 입력 받기\n",
        "commands = input().strip()\n",
        "\n",
        "# 최종 위치 계산\n",
        "final_x, final_y = move(commands)\n",
        "\n",
        "# 출력\n",
        "print(final_x, final_y)\n"
      ],
      "metadata": {
        "id": "-xCMUkUGz_9m"
      },
      "execution_count": null,
      "outputs": []
    }
  ]
}