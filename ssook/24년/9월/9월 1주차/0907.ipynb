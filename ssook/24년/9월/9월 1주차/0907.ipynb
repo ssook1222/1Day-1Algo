{
  "nbformat": 4,
  "nbformat_minor": 0,
  "metadata": {
    "colab": {
      "provenance": [],
      "authorship_tag": "ABX9TyNCxlaLmeoqaaOazWSWsKJa",
      "include_colab_link": true
    },
    "kernelspec": {
      "name": "python3",
      "display_name": "Python 3"
    },
    "language_info": {
      "name": "python"
    }
  },
  "cells": [
    {
      "cell_type": "markdown",
      "metadata": {
        "id": "view-in-github",
        "colab_type": "text"
      },
      "source": [
        "<a href=\"https://colab.research.google.com/github/ssook1222/1Day-1Algo/blob/master/ssook/24%EB%85%84/9%EC%9B%94/9%EC%9B%94%201%EC%A3%BC%EC%B0%A8/0907.ipynb\" target=\"_parent\"><img src=\"https://colab.research.google.com/assets/colab-badge.svg\" alt=\"Open In Colab\"/></a>"
      ]
    },
    {
      "cell_type": "markdown",
      "source": [
        "## BoJ"
      ],
      "metadata": {
        "id": "JIHHEhdkrrE1"
      }
    },
    {
      "cell_type": "markdown",
      "source": [
        "### 17136"
      ],
      "metadata": {
        "id": "8oZihCaSrtIO"
      }
    },
    {
      "cell_type": "code",
      "execution_count": null,
      "metadata": {
        "id": "W3XWp2L4qtfx"
      },
      "outputs": [],
      "source": [
        "import sys\n",
        "sys.setrecursionlimit(10**6)\n",
        "input = sys.stdin.readline\n",
        "paper = [ list(map(int, input().split())) for _ in range(10) ]\n",
        "remain = [5, 5, 5, 5, 5]  # 각 크기의 남은 색종이 개수\n",
        "min_count = 25  # 최소 색종이 개수, 초기값으로 매우 큰 수 설정\n",
        "\n",
        "def check(y, x, size):\n",
        "    \"\"\"\n",
        "    (y, x)에서 시작하는 size 크기의 정사각형 모양 색종이를 붙일 수 있는지 확인하는 함수\n",
        "    \"\"\"\n",
        "    for i in range(y, y+size):\n",
        "        for j in range(x, x+size):\n",
        "            if paper[i][j] != 1:\n",
        "                return False\n",
        "    return True\n",
        "\n",
        "def backtracking(y, x, count):\n",
        "    \"\"\"\n",
        "    (y, x)부터 색종이를 붙이는 백트래킹 함수\n",
        "    \"\"\"\n",
        "    global remain, min_count\n",
        "\n",
        "    if y >= 10:\n",
        "        min_count = min(min_count, count)\n",
        "        return\n",
        "\n",
        "    if x >= 10:\n",
        "        backtracking(y+1, 0, count)\n",
        "        return\n",
        "\n",
        "    if paper[y][x] == 1:\n",
        "        for size in range(5):\n",
        "            if remain[size] == 0:\n",
        "                continue\n",
        "            if y+size >= 10 or x+size >= 10:\n",
        "                continue\n",
        "\n",
        "            if not check(y, x, size+1):\n",
        "                continue\n",
        "\n",
        "            # 색종이 붙이기\n",
        "            for i in range(y, y+size+1):\n",
        "                for j in range(x, x+size+1):\n",
        "                    paper[i][j] = 0\n",
        "\n",
        "            remain[size] -= 1\n",
        "            backtracking(y, x+size+1, count+1)\n",
        "            remain[size] += 1\n",
        "\n",
        "            # 색종이 제거하기 (백트래킹)\n",
        "            for i in range(y, y+size+1):\n",
        "                for j in range(x, x+size+1):\n",
        "                    paper[i][j] = 1\n",
        "    else:\n",
        "        backtracking(y, x+1, count)\n",
        "\n",
        "# 백트래킹을 통해 최소 색종이 개수 구하기\n",
        "backtracking(0, 0, 0)\n",
        "\n",
        "# 최소 색종이 개수 출력\n",
        "print(-1 if min_count == 25 else min_count)\n"
      ]
    },
    {
      "cell_type": "markdown",
      "source": [
        "## CodeTree"
      ],
      "metadata": {
        "id": "jb6AHgWurt0x"
      }
    },
    {
      "cell_type": "markdown",
      "source": [
        "### 숫자 재배치 2\n"
      ],
      "metadata": {
        "id": "zmuY1ibKrvIR"
      }
    },
    {
      "cell_type": "code",
      "source": [
        "n = int(input().strip())  # 개수 n 입력받기\n",
        "numbers = list(map(int, input().strip().split()))  # 숫자들을 리스트로 입력받기\n",
        "\n",
        "# 리스트를 뒤집어서 출력\n",
        "print(\" \".join(map(str, numbers[::-1])))"
      ],
      "metadata": {
        "id": "38PlPbUcrvrs"
      },
      "execution_count": null,
      "outputs": []
    }
  ]
}