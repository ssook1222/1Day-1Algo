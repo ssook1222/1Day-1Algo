{
  "nbformat": 4,
  "nbformat_minor": 0,
  "metadata": {
    "colab": {
      "provenance": [],
      "authorship_tag": "ABX9TyP9KS3CF7wV+AySYzJEadES",
      "include_colab_link": true
    },
    "kernelspec": {
      "name": "python3",
      "display_name": "Python 3"
    },
    "language_info": {
      "name": "python"
    }
  },
  "cells": [
    {
      "cell_type": "markdown",
      "metadata": {
        "id": "view-in-github",
        "colab_type": "text"
      },
      "source": [
        "<a href=\"https://colab.research.google.com/github/ssook1222/1Day-1Algo/blob/master/ssook/24%EB%85%84/9%EC%9B%94%204%EC%A3%BC%EC%B0%A8/0922.ipynb\" target=\"_parent\"><img src=\"https://colab.research.google.com/assets/colab-badge.svg\" alt=\"Open In Colab\"/></a>"
      ]
    },
    {
      "cell_type": "markdown",
      "source": [
        "## BoJ"
      ],
      "metadata": {
        "id": "nXCMjAYJn0hu"
      }
    },
    {
      "cell_type": "markdown",
      "source": [
        "### 2146"
      ],
      "metadata": {
        "id": "1vWP-0fsn3Uj"
      }
    },
    {
      "cell_type": "code",
      "execution_count": null,
      "metadata": {
        "id": "Y1r3sfzbnxmj"
      },
      "outputs": [],
      "source": [
        "from collections import deque\n",
        "\n",
        "# 입력값\n",
        "n = int(input())\n",
        "map_grid = [list(map(int, input().split())) for _ in range(n)]\n",
        "\n",
        "visited = [[0] * n for _ in range(n)]\n",
        "island_number = 1\n",
        "shortest_bridge = int(1e9)\n",
        "\n",
        "# 1번째 BFS (섬 구분)\n",
        "def identify_island(x, y):\n",
        "    queue = deque()\n",
        "    queue.append([x, y])\n",
        "    while queue:\n",
        "        cx, cy = queue.popleft()\n",
        "        for (dx, dy) in [(1, 0), (0, 1), (-1, 0), (0, -1)]:\n",
        "            nx, ny = cx + dx, cy + dy\n",
        "            if 0 <= nx < n and 0 <= ny < n and not visited[nx][ny] and map_grid[nx][ny]:\n",
        "                visited[nx][ny] = 1\n",
        "                map_grid[nx][ny] = island_number\n",
        "                queue.append([nx, ny])\n",
        "\n",
        "\n",
        "# 2번째 BFS (최단 거리 구하기)\n",
        "def find_shortest_bridge(island_id):\n",
        "    queue = deque()\n",
        "    distance = [[-1] * n for _ in range(n)]\n",
        "\n",
        "    for i in range(n):\n",
        "        for j in range(n):\n",
        "            if map_grid[i][j] == island_id:\n",
        "                distance[i][j] = 0\n",
        "                queue.append([i, j])\n",
        "\n",
        "    while queue:\n",
        "        cx, cy = queue.popleft()\n",
        "        for (dx, dy) in [(1, 0), (0, 1), (-1, 0), (0, -1)]:\n",
        "            nx, ny = cx + dx, cy + dy\n",
        "            if 0 <= nx < n and 0 <= ny < n:\n",
        "                # 다른 섬을 발견하면 최단 거리 반환\n",
        "                if map_grid[nx][ny] and map_grid[nx][ny] != island_id:\n",
        "                    return distance[cx][cy]\n",
        "                # 바다이고 아직 다리가 없는 곳\n",
        "                elif not map_grid[nx][ny] and distance[nx][ny] == -1:\n",
        "                    distance[nx][ny] = distance[cx][cy] + 1\n",
        "                    queue.append([nx, ny])\n",
        "\n",
        "    return int(1e9)\n",
        "\n",
        "\n",
        "# 섬 구분\n",
        "for i in range(n):\n",
        "    for j in range(n):\n",
        "        if map_grid[i][j] and not visited[i][j]:\n",
        "            visited[i][j] = 1\n",
        "            map_grid[i][j] = island_number\n",
        "            identify_island(i, j)\n",
        "            island_number += 1\n",
        "\n",
        "# 최단 거리 구하기\n",
        "for island_id in range(1, island_number):\n",
        "    shortest_bridge = min(shortest_bridge, find_shortest_bridge(island_id))\n",
        "\n",
        "print(shortest_bridge)"
      ]
    },
    {
      "cell_type": "markdown",
      "source": [
        "## CodeTree"
      ],
      "metadata": {
        "id": "2-LwUO2In1zI"
      }
    },
    {
      "cell_type": "markdown",
      "source": [
        "### 단어로 구분하기 6"
      ],
      "metadata": {
        "id": "myjIrWsWn37l"
      }
    },
    {
      "cell_type": "code",
      "source": [
        "def print_third_words(sentence):\n",
        "    # 문자열을 공백을 기준으로 분리하여 단어 목록 생성\n",
        "    words = sentence.split()\n",
        "\n",
        "    # 3의 배수 번째 단어 출력 (인덱스는 0부터 시작)\n",
        "    for i in range(2, len(words), 3):\n",
        "        print(words[i])\n",
        "\n",
        "# 입력 읽기\n",
        "sentence = input().strip()\n",
        "print_third_words(sentence)"
      ],
      "metadata": {
        "id": "C9itGs-Gn3Ft"
      },
      "execution_count": null,
      "outputs": []
    }
  ]
}