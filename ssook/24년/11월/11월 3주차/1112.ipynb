{
  "nbformat": 4,
  "nbformat_minor": 0,
  "metadata": {
    "colab": {
      "provenance": [],
      "authorship_tag": "ABX9TyOtkWfET9S647tOoJ+bYRui",
      "include_colab_link": true
    },
    "kernelspec": {
      "name": "python3",
      "display_name": "Python 3"
    },
    "language_info": {
      "name": "python"
    }
  },
  "cells": [
    {
      "cell_type": "markdown",
      "metadata": {
        "id": "view-in-github",
        "colab_type": "text"
      },
      "source": [
        "<a href=\"https://colab.research.google.com/github/ssook1222/1Day-1Algo/blob/master/ssook/24%EB%85%84/11%EC%9B%94/11%EC%9B%94%203%EC%A3%BC%EC%B0%A8/1112.ipynb\" target=\"_parent\"><img src=\"https://colab.research.google.com/assets/colab-badge.svg\" alt=\"Open In Colab\"/></a>"
      ]
    },
    {
      "cell_type": "markdown",
      "source": [
        "## BoJ"
      ],
      "metadata": {
        "id": "AxY8ZVJPLtYE"
      }
    },
    {
      "cell_type": "markdown",
      "source": [
        "### 21735"
      ],
      "metadata": {
        "id": "VQxmffesL85q"
      }
    },
    {
      "cell_type": "code",
      "source": [
        "def Back(time, index, size):\n",
        "    global answer\n",
        "    size += arr[index]\n",
        "    if time == m:\n",
        "        answer = max(answer, size)\n",
        "        return\n",
        "    if index == n - 1:\n",
        "        answer = max(answer, size)\n",
        "        return\n",
        "    if index + 1 < n:\n",
        "        Back(time + 1, index + 1, size)\n",
        "    if index + 2 < n:\n",
        "        Back(time + 1, index + 2, size // 2)\n",
        "\n",
        "n, m = map(int, input().split())\n",
        "arr = list(map(int, input().split()))\n",
        "answer = 0\n",
        "Back(1, 0, 1)  # 눈덩이 시작 크기 1, 위치 0에서 시작\n",
        "if n > 1:\n",
        "    Back(1, 1, 0)  # 두 번째 위치에서 시작할 수 있는 경우\n",
        "print(answer)"
      ],
      "metadata": {
        "id": "bkXnQBjzL8qU"
      },
      "execution_count": null,
      "outputs": []
    },
    {
      "cell_type": "markdown",
      "source": [
        "## CodeTree"
      ],
      "metadata": {
        "id": "XtfW6ZOjL4_j"
      }
    },
    {
      "cell_type": "markdown",
      "source": [
        "### 대응되는 수와 문자"
      ],
      "metadata": {
        "id": "oZqZKxZcL9fd"
      }
    },
    {
      "cell_type": "code",
      "source": [
        "# 입력 받기\n",
        "n, m = map(int, input().split())\n",
        "\n",
        "# 숫자와 문자열 대응을 위한 리스트 및 딕셔너리 생성\n",
        "string_list = [input().strip() for _ in range(n)]\n",
        "string_to_number = {string: i + 1 for i, string in enumerate(string_list)}\n",
        "\n",
        "# 조사할 값에 대한 입력 및 처리\n",
        "for _ in range(m):\n",
        "    query = input().strip()\n",
        "    if query.isdigit():  # 숫자일 경우\n",
        "        index = int(query) - 1\n",
        "        print(string_list[index])\n",
        "    else:  # 문자열일 경우\n",
        "        print(string_to_number[query])"
      ],
      "metadata": {
        "id": "lD3qa15kL-K1"
      },
      "execution_count": null,
      "outputs": []
    }
  ]
}