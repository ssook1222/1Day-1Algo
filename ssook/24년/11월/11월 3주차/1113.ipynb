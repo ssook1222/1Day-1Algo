{
  "nbformat": 4,
  "nbformat_minor": 0,
  "metadata": {
    "colab": {
      "provenance": [],
      "authorship_tag": "ABX9TyPLq6UFUM/hd+8kORV/WRkr",
      "include_colab_link": true
    },
    "kernelspec": {
      "name": "python3",
      "display_name": "Python 3"
    },
    "language_info": {
      "name": "python"
    }
  },
  "cells": [
    {
      "cell_type": "markdown",
      "metadata": {
        "id": "view-in-github",
        "colab_type": "text"
      },
      "source": [
        "<a href=\"https://colab.research.google.com/github/ssook1222/1Day-1Algo/blob/master/ssook/24%EB%85%84/11%EC%9B%94/11%EC%9B%94%203%EC%A3%BC%EC%B0%A8/1113.ipynb\" target=\"_parent\"><img src=\"https://colab.research.google.com/assets/colab-badge.svg\" alt=\"Open In Colab\"/></a>"
      ]
    },
    {
      "cell_type": "markdown",
      "source": [
        "## BoJ"
      ],
      "metadata": {
        "id": "AxY8ZVJPLtYE"
      }
    },
    {
      "cell_type": "markdown",
      "source": [
        "### 29700"
      ],
      "metadata": {
        "id": "VQxmffesL85q"
      }
    },
    {
      "cell_type": "code",
      "source": [
        "import sys\n",
        "input = sys.stdin.readline\n",
        "\n",
        "rows, cols, club_size = map(int, input().split())\n",
        "\n",
        "seats = [list(input().rstrip()) for _ in range(rows)]\n",
        "total_ways = 0\n",
        "\n",
        "for i in range(rows):\n",
        "    available_count = 1\n",
        "    for j in range(cols):\n",
        "        if seats[i][j] == \"0\":\n",
        "            if available_count >= club_size:\n",
        "                total_ways += 1\n",
        "            available_count += 1\n",
        "        else:\n",
        "            available_count = 1\n",
        "\n",
        "print(total_ways)"
      ],
      "metadata": {
        "id": "bkXnQBjzL8qU"
      },
      "execution_count": null,
      "outputs": []
    },
    {
      "cell_type": "markdown",
      "source": [
        "## CodeTree"
      ],
      "metadata": {
        "id": "XtfW6ZOjL4_j"
      }
    },
    {
      "cell_type": "markdown",
      "source": [
        "### 스승의 은혜"
      ],
      "metadata": {
        "id": "oZqZKxZcL9fd"
      }
    },
    {
      "cell_type": "code",
      "source": [
        "def max_students(n, budget, gifts):\n",
        "    max_count = 0\n",
        "\n",
        "    # 모든 학생에 대해 쿠폰을 사용할 수 있는 경우를 고려\n",
        "    for i in range(n):\n",
        "        # 각 학생 i에 대해 쿠폰을 사용할 경우의 비용 계산\n",
        "        total_cost = 0\n",
        "        coupon_cost = gifts[i][0] // 2 + gifts[i][1]  # P(i)/2 + S(i)\n",
        "\n",
        "        # 다른 학생들의 비용 계산\n",
        "        for j in range(n):\n",
        "            if j == i:\n",
        "                total_cost += coupon_cost\n",
        "            else:\n",
        "                total_cost += gifts[j][0] + gifts[j][1]  # P(j) + S(j)\n",
        "\n",
        "        # 예산 안에서 선물 가능한 최대 학생 수 계산\n",
        "        if total_cost <= budget:\n",
        "            max_count = max(max_count, n)\n",
        "            continue\n",
        "\n",
        "        # 예산을 초과할 경우, 가능한 최대 학생 수 찾기\n",
        "        current_count = 0\n",
        "        costs = []\n",
        "\n",
        "        for j in range(n):\n",
        "            if j == i:\n",
        "                costs.append(coupon_cost)\n",
        "            else:\n",
        "                costs.append(gifts[j][0] + gifts[j][1])\n",
        "\n",
        "        # 비용을 정렬하여 최소 비용부터 계산\n",
        "        costs.sort()\n",
        "\n",
        "        current_budget = budget\n",
        "        for cost in costs:\n",
        "            if current_budget >= cost:\n",
        "                current_budget -= cost\n",
        "                current_count += 1\n",
        "            else:\n",
        "                break\n",
        "\n",
        "        max_count = max(max_count, current_count)\n",
        "\n",
        "    return max_count\n",
        "\n",
        "# 입력 받기\n",
        "n, budget = map(int, input().split())\n",
        "gifts = [tuple(map(int, input().split())) for _ in range(n)]\n",
        "\n",
        "# 최대 학생 수 출력\n",
        "result = max_students(n, budget, gifts)\n",
        "print(result)"
      ],
      "metadata": {
        "id": "lD3qa15kL-K1"
      },
      "execution_count": null,
      "outputs": []
    }
  ]
}