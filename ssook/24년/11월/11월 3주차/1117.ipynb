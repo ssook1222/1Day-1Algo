{
  "nbformat": 4,
  "nbformat_minor": 0,
  "metadata": {
    "colab": {
      "provenance": [],
      "authorship_tag": "ABX9TyOaTSOkHuecoyiUkWOuDQcb",
      "include_colab_link": true
    },
    "kernelspec": {
      "name": "python3",
      "display_name": "Python 3"
    },
    "language_info": {
      "name": "python"
    }
  },
  "cells": [
    {
      "cell_type": "markdown",
      "metadata": {
        "id": "view-in-github",
        "colab_type": "text"
      },
      "source": [
        "<a href=\"https://colab.research.google.com/github/ssook1222/1Day-1Algo/blob/master/ssook/24%EB%85%84/11%EC%9B%94/11%EC%9B%94%203%EC%A3%BC%EC%B0%A8/1117.ipynb\" target=\"_parent\"><img src=\"https://colab.research.google.com/assets/colab-badge.svg\" alt=\"Open In Colab\"/></a>"
      ]
    },
    {
      "cell_type": "markdown",
      "source": [
        "## BoJ"
      ],
      "metadata": {
        "id": "AxY8ZVJPLtYE"
      }
    },
    {
      "cell_type": "markdown",
      "source": [
        "### 9699"
      ],
      "metadata": {
        "id": "VQxmffesL85q"
      }
    },
    {
      "cell_type": "code",
      "source": [
        "for i in range(int(input())):\n",
        "    res = max(map(int, input().split()))\n",
        "    print(f\"Case #{i+1}: {res}\")"
      ],
      "metadata": {
        "id": "bkXnQBjzL8qU"
      },
      "execution_count": null,
      "outputs": []
    },
    {
      "cell_type": "markdown",
      "source": [
        "## CodeTree"
      ],
      "metadata": {
        "id": "XtfW6ZOjL4_j"
      }
    },
    {
      "cell_type": "markdown",
      "source": [
        "### 블럭쌓는 명령"
      ],
      "metadata": {
        "id": "oZqZKxZcL9fd"
      }
    },
    {
      "cell_type": "code",
      "source": [
        "import sys\n",
        "\n",
        "input = sys.stdin.readline\n",
        "\n",
        "# N: 칸의 개수, K: 명령의 개수\n",
        "N, K = map(int, input().split())\n",
        "\n",
        "# 블록 수를 저장할 배열 (N+1 크기, 1-indexed)\n",
        "blocks = [0] * (N + 1)\n",
        "\n",
        "# 명령을 처리\n",
        "for _ in range(K):\n",
        "    A, B = map(int, input().split())\n",
        "    blocks[A] += 1\n",
        "    if B + 1 <= N:\n",
        "        blocks[B + 1] -= 1\n",
        "\n",
        "# 블록 수를 누적합으로 계산\n",
        "for i in range(1, N + 1):\n",
        "    blocks[i] += blocks[i - 1]\n",
        "\n",
        "# 블록 수는 blocks[1:]로 가져옴\n",
        "sorted_blocks = sorted(blocks[1:])\n",
        "\n",
        "# 가운데 값을 출력\n",
        "print(sorted_blocks[N // 2])"
      ],
      "metadata": {
        "id": "lD3qa15kL-K1"
      },
      "execution_count": null,
      "outputs": []
    }
  ]
}