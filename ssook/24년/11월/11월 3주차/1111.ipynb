{
  "nbformat": 4,
  "nbformat_minor": 0,
  "metadata": {
    "colab": {
      "provenance": [],
      "authorship_tag": "ABX9TyOinP8L7Z/uVGyS4ex10HE5",
      "include_colab_link": true
    },
    "kernelspec": {
      "name": "python3",
      "display_name": "Python 3"
    },
    "language_info": {
      "name": "python"
    }
  },
  "cells": [
    {
      "cell_type": "markdown",
      "metadata": {
        "id": "view-in-github",
        "colab_type": "text"
      },
      "source": [
        "<a href=\"https://colab.research.google.com/github/ssook1222/1Day-1Algo/blob/master/ssook/24%EB%85%84/11%EC%9B%94/11%EC%9B%94%203%EC%A3%BC%EC%B0%A8/1111.ipynb\" target=\"_parent\"><img src=\"https://colab.research.google.com/assets/colab-badge.svg\" alt=\"Open In Colab\"/></a>"
      ]
    },
    {
      "cell_type": "markdown",
      "source": [
        "## BoJ"
      ],
      "metadata": {
        "id": "AxY8ZVJPLtYE"
      }
    },
    {
      "cell_type": "markdown",
      "source": [
        "### 21734"
      ],
      "metadata": {
        "id": "VQxmffesL85q"
      }
    },
    {
      "cell_type": "code",
      "source": [
        "def sum_of_digits(n):\n",
        "    return sum(int(digit) for digit in str(n))\n",
        "\n",
        "def main():\n",
        "    S = input().strip()  # 문자열 입력 받기\n",
        "    for char in S:\n",
        "        ascii_value = ord(char)  # 문자에 대한 ASCII 코드 값\n",
        "        digit_sum = sum_of_digits(ascii_value)  # 각 자릿수의 합\n",
        "        print(char * digit_sum)  # 해당 문자를 digit_sum만큼 출력\n",
        "\n",
        "if __name__ == \"__main__\":\n",
        "    main()"
      ],
      "metadata": {
        "id": "bkXnQBjzL8qU"
      },
      "execution_count": null,
      "outputs": []
    },
    {
      "cell_type": "markdown",
      "source": [
        "## CodeTree"
      ],
      "metadata": {
        "id": "XtfW6ZOjL4_j"
      }
    },
    {
      "cell_type": "markdown",
      "source": [
        "### 가장 많은 데이터"
      ],
      "metadata": {
        "id": "oZqZKxZcL9fd"
      }
    },
    {
      "cell_type": "code",
      "source": [
        "from collections import defaultdict\n",
        "\n",
        "# 문자열 개수 입력\n",
        "n = int(input())\n",
        "\n",
        "# 문자열 등장 횟수를 저장할 딕셔너리\n",
        "count_dict = defaultdict(int)\n",
        "\n",
        "# 문자열 입력 및 횟수 세기\n",
        "for _ in range(n):\n",
        "    string = input().strip()\n",
        "    count_dict[string] += 1\n",
        "\n",
        "# 가장 많이 등장한 문자열의 횟수 찾기\n",
        "max_count = max(count_dict.values())\n",
        "\n",
        "# 결과 출력\n",
        "print(max_count)"
      ],
      "metadata": {
        "id": "lD3qa15kL-K1"
      },
      "execution_count": null,
      "outputs": []
    }
  ]
}