{
  "nbformat": 4,
  "nbformat_minor": 0,
  "metadata": {
    "colab": {
      "provenance": [],
      "authorship_tag": "ABX9TyO5Lr49NmkeFhKZZvSn2fwD",
      "include_colab_link": true
    },
    "kernelspec": {
      "name": "python3",
      "display_name": "Python 3"
    },
    "language_info": {
      "name": "python"
    }
  },
  "cells": [
    {
      "cell_type": "markdown",
      "metadata": {
        "id": "view-in-github",
        "colab_type": "text"
      },
      "source": [
        "<a href=\"https://colab.research.google.com/github/ssook1222/1Day-1Algo/blob/master/ssook/24%EB%85%84/11%EC%9B%94/11%EC%9B%94%203%EC%A3%BC%EC%B0%A8/1114.ipynb\" target=\"_parent\"><img src=\"https://colab.research.google.com/assets/colab-badge.svg\" alt=\"Open In Colab\"/></a>"
      ]
    },
    {
      "cell_type": "markdown",
      "source": [
        "## BoJ"
      ],
      "metadata": {
        "id": "AxY8ZVJPLtYE"
      }
    },
    {
      "cell_type": "markdown",
      "source": [
        "### 31859"
      ],
      "metadata": {
        "id": "VQxmffesL85q"
      }
    },
    {
      "cell_type": "code",
      "source": [
        "registration_number, contestant_name = input().split()\n",
        "smupc_result = \"\"\n",
        "\n",
        "# 1. 중복되지 않은 문자 추출\n",
        "discarded_count = 0  # 버려진 문자 수\n",
        "for char in contestant_name:\n",
        "    if char not in smupc_result:\n",
        "        smupc_result += char\n",
        "    else:\n",
        "        discarded_count += 1\n",
        "\n",
        "# 2, 3. 문자열 결합\n",
        "smupc_result = str(int(registration_number) + 1906) + smupc_result + str(discarded_count + 4)\n",
        "\n",
        "# 4, 5. 문자열 뒤집기 및 접두사 추가\n",
        "smupc_result = \"smupc_\" + smupc_result[::-1]\n",
        "\n",
        "print(smupc_result)"
      ],
      "metadata": {
        "id": "bkXnQBjzL8qU"
      },
      "execution_count": null,
      "outputs": []
    },
    {
      "cell_type": "markdown",
      "source": [
        "## CodeTree"
      ],
      "metadata": {
        "id": "XtfW6ZOjL4_j"
      }
    },
    {
      "cell_type": "markdown",
      "source": [
        "### 소 삼형제"
      ],
      "metadata": {
        "id": "oZqZKxZcL9fd"
      }
    },
    {
      "cell_type": "code",
      "source": [
        "from collections import defaultdict\n",
        "\n",
        "# 입력 받기\n",
        "n = int(input())\n",
        "visits = defaultdict(int)\n",
        "\n",
        "# 소의 이름 조합을 기록\n",
        "for _ in range(n):\n",
        "    names = input().strip().split()\n",
        "    # 이름을 정렬하여 조합으로 사용\n",
        "    names.sort()\n",
        "    combo = tuple(names)  # 튜플로 변환하여 해시 가능하게 만듭니다.\n",
        "    visits[combo] += 1\n",
        "\n",
        "# 가장 많이 방문한 조합의 최대 방문 횟수 찾기\n",
        "max_visits = max(visits.values())\n",
        "\n",
        "# 결과 출력\n",
        "print(max_visits)"
      ],
      "metadata": {
        "id": "lD3qa15kL-K1"
      },
      "execution_count": null,
      "outputs": []
    }
  ]
}