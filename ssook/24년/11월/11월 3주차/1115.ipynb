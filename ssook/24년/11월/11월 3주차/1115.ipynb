{
  "nbformat": 4,
  "nbformat_minor": 0,
  "metadata": {
    "colab": {
      "provenance": [],
      "authorship_tag": "ABX9TyO8TeLL8tn8f7g6ppEBs6pL",
      "include_colab_link": true
    },
    "kernelspec": {
      "name": "python3",
      "display_name": "Python 3"
    },
    "language_info": {
      "name": "python"
    }
  },
  "cells": [
    {
      "cell_type": "markdown",
      "metadata": {
        "id": "view-in-github",
        "colab_type": "text"
      },
      "source": [
        "<a href=\"https://colab.research.google.com/github/ssook1222/1Day-1Algo/blob/master/ssook/24%EB%85%84/11%EC%9B%94/11%EC%9B%94%203%EC%A3%BC%EC%B0%A8/1115.ipynb\" target=\"_parent\"><img src=\"https://colab.research.google.com/assets/colab-badge.svg\" alt=\"Open In Colab\"/></a>"
      ]
    },
    {
      "cell_type": "markdown",
      "source": [
        "## BoJ"
      ],
      "metadata": {
        "id": "AxY8ZVJPLtYE"
      }
    },
    {
      "cell_type": "markdown",
      "source": [
        "### 32025"
      ],
      "metadata": {
        "id": "VQxmffesL85q"
      }
    },
    {
      "cell_type": "code",
      "source": [
        "Height = int(input())\n",
        "Width = int(input())\n",
        "\n",
        "print(int(min(Height, Width) * 100 / 2))"
      ],
      "metadata": {
        "id": "bkXnQBjzL8qU"
      },
      "execution_count": null,
      "outputs": []
    },
    {
      "cell_type": "markdown",
      "source": [
        "## CodeTree"
      ],
      "metadata": {
        "id": "XtfW6ZOjL4_j"
      }
    },
    {
      "cell_type": "markdown",
      "source": [
        "### 우유 생산량 경쟁"
      ],
      "metadata": {
        "id": "oZqZKxZcL9fd"
      }
    },
    {
      "cell_type": "code",
      "source": [
        "# 초기 우유 생산량 설정\n",
        "milk_production = {\n",
        "    \"Bessie\": 7,\n",
        "    \"Elsie\": 7,\n",
        "    \"Mildred\": 7\n",
        "}\n",
        "\n",
        "# 입력 받기\n",
        "n = int(input())\n",
        "records = []\n",
        "\n",
        "for _ in range(n):\n",
        "    day, name, change = input().split()\n",
        "    day = int(day)\n",
        "    change = int(change)\n",
        "    records.append((day, name, change))\n",
        "\n",
        "# 기록을 날짜 기준으로 정렬\n",
        "records.sort()\n",
        "\n",
        "# 전광판의 현재 상태\n",
        "current_leaders = set(milk_production.keys())\n",
        "changes_count = 0\n",
        "\n",
        "# 기록 처리\n",
        "for day, name, change in records:\n",
        "    # 생산량 업데이트\n",
        "    milk_production[name] += change\n",
        "\n",
        "    # 현재 가장 많이 생산하는 소를 찾기\n",
        "    max_production = max(milk_production.values())\n",
        "    new_leaders = {cow for cow, production in milk_production.items() if production == max_production}\n",
        "\n",
        "    # 전광판의 상태가 바뀌면 카운트 증가\n",
        "    if new_leaders != current_leaders:\n",
        "        changes_count += 1\n",
        "        current_leaders = new_leaders\n",
        "\n",
        "# 결과 출력\n",
        "print(changes_count)"
      ],
      "metadata": {
        "id": "lD3qa15kL-K1"
      },
      "execution_count": null,
      "outputs": []
    }
  ]
}