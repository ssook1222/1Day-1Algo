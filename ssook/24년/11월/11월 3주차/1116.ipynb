{
  "nbformat": 4,
  "nbformat_minor": 0,
  "metadata": {
    "colab": {
      "provenance": [],
      "authorship_tag": "ABX9TyNZCoR0GaE/IpJ1gR6gbDmb",
      "include_colab_link": true
    },
    "kernelspec": {
      "name": "python3",
      "display_name": "Python 3"
    },
    "language_info": {
      "name": "python"
    }
  },
  "cells": [
    {
      "cell_type": "markdown",
      "metadata": {
        "id": "view-in-github",
        "colab_type": "text"
      },
      "source": [
        "<a href=\"https://colab.research.google.com/github/ssook1222/1Day-1Algo/blob/master/ssook/24%EB%85%84/11%EC%9B%94/11%EC%9B%94%203%EC%A3%BC%EC%B0%A8/1116.ipynb\" target=\"_parent\"><img src=\"https://colab.research.google.com/assets/colab-badge.svg\" alt=\"Open In Colab\"/></a>"
      ]
    },
    {
      "cell_type": "markdown",
      "source": [
        "## BoJ"
      ],
      "metadata": {
        "id": "AxY8ZVJPLtYE"
      }
    },
    {
      "cell_type": "markdown",
      "source": [
        "### 31922"
      ],
      "metadata": {
        "id": "VQxmffesL85q"
      }
    },
    {
      "cell_type": "code",
      "source": [
        "A, P, C = map(int, input().split())\n",
        "print(max(A + C , P))"
      ],
      "metadata": {
        "id": "bkXnQBjzL8qU"
      },
      "execution_count": null,
      "outputs": []
    },
    {
      "cell_type": "markdown",
      "source": [
        "## CodeTree"
      ],
      "metadata": {
        "id": "XtfW6ZOjL4_j"
      }
    },
    {
      "cell_type": "markdown",
      "source": [
        "### 특정 조건에 따라 줄세우기"
      ],
      "metadata": {
        "id": "oZqZKxZcL9fd"
      }
    },
    {
      "cell_type": "code",
      "source": [
        "from itertools import permutations\n",
        "\n",
        "# 주어진 소의 이름\n",
        "cows = [\"Bessie\", \"Buttercup\", \"Belinda\", \"Beatrice\", \"Bella\", \"Blue\", \"Betsy\", \"Sue\"]\n",
        "\n",
        "# 입력 받기\n",
        "N = int(input())\n",
        "conditions = [input().strip() for _ in range(N)]\n",
        "\n",
        "# 조건을 파싱하여 인접 관계를 리스트에 저장\n",
        "adjacency = {}\n",
        "for condition in conditions:\n",
        "    parts = condition.split()\n",
        "    a = parts[0]\n",
        "    b = parts[-1]\n",
        "\n",
        "    if a not in adjacency:\n",
        "        adjacency[a] = []\n",
        "    if b not in adjacency:\n",
        "        adjacency[b] = []\n",
        "    adjacency[a].append(b)\n",
        "    adjacency[b].append(a)\n",
        "\n",
        "# 조건을 만족하는 줄세우기 함수\n",
        "def is_valid(arrangement):\n",
        "    for cow, neighbors in adjacency.items():\n",
        "        for neighbor in neighbors:\n",
        "            # 두 소가 인접해 있지 않으면 False\n",
        "            if abs(arrangement.index(cow) - arrangement.index(neighbor)) != 1:\n",
        "                return False\n",
        "    return True\n",
        "\n",
        "# 가능한 모든 순열을 생성하여 사전순으로 정렬\n",
        "possible_arrangements = sorted(permutations(cows))\n",
        "\n",
        "# 조건을 만족하는 첫 번째 순열을 출력\n",
        "for arrangement in possible_arrangements:\n",
        "    if is_valid(arrangement):\n",
        "        print(\"\\n\".join(arrangement))\n",
        "        break"
      ],
      "metadata": {
        "id": "lD3qa15kL-K1"
      },
      "execution_count": null,
      "outputs": []
    }
  ]
}