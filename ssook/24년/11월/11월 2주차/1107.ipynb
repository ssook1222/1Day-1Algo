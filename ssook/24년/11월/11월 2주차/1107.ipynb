{
  "nbformat": 4,
  "nbformat_minor": 0,
  "metadata": {
    "colab": {
      "provenance": [],
      "authorship_tag": "ABX9TyP2EQ+v1LNZfrghB/OXEGq2",
      "include_colab_link": true
    },
    "kernelspec": {
      "name": "python3",
      "display_name": "Python 3"
    },
    "language_info": {
      "name": "python"
    }
  },
  "cells": [
    {
      "cell_type": "markdown",
      "metadata": {
        "id": "view-in-github",
        "colab_type": "text"
      },
      "source": [
        "<a href=\"https://colab.research.google.com/github/ssook1222/1Day-1Algo/blob/master/ssook/24%EB%85%84/11%EC%9B%94/11%EC%9B%94%202%EC%A3%BC%EC%B0%A8/1107.ipynb\" target=\"_parent\"><img src=\"https://colab.research.google.com/assets/colab-badge.svg\" alt=\"Open In Colab\"/></a>"
      ]
    },
    {
      "cell_type": "markdown",
      "source": [
        "## BoJ"
      ],
      "metadata": {
        "id": "vv6WwBquNHcd"
      }
    },
    {
      "cell_type": "markdown",
      "source": [
        "### 1708"
      ],
      "metadata": {
        "id": "I7X_hyqtNIxk"
      }
    },
    {
      "cell_type": "code",
      "source": [
        "def ccw(x1, y1, x2, y2, x3, y3):\n",
        "    cross_product = (x2 - x1) * (y3 - y1) - (y2 - y1) * (x3 - x1)\n",
        "    return cross_product > 0\n",
        "\n",
        "def convex_hull(points):\n",
        "    hull = []\n",
        "    for current_point in points:\n",
        "        while len(hull) >= 2:\n",
        "            p1, p2 = hull[-2], hull[-1]\n",
        "            if ccw(*p1, *p2, *current_point):\n",
        "                break\n",
        "            hull.pop()\n",
        "        hull.append(current_point)\n",
        "\n",
        "    return len(hull)\n",
        "\n",
        "n = int(input())\n",
        "points = sorted([list(map(int, input().split())) for _ in range(n)], key=lambda x: (x[0], x[1]))\n",
        "print(convex_hull(points) + convex_hull(points[::-1]) - 2)"
      ],
      "metadata": {
        "id": "aKGZNvRLNJdL"
      },
      "execution_count": null,
      "outputs": []
    },
    {
      "cell_type": "markdown",
      "source": [
        "## CodeTree"
      ],
      "metadata": {
        "id": "OLmT7kmENJsa"
      }
    },
    {
      "cell_type": "markdown",
      "source": [
        "### 최대 마을의 크기"
      ],
      "metadata": {
        "id": "Ty1OTd-PNK8I"
      }
    },
    {
      "cell_type": "code",
      "source": [
        "def main():\n",
        "    import sys\n",
        "    input = sys.stdin.read\n",
        "    from collections import deque\n",
        "\n",
        "    # 입력 받기\n",
        "    data = input().strip().split()\n",
        "    n = int(data[0])\n",
        "    grid = []\n",
        "    index = 1\n",
        "    for i in range(n):\n",
        "        grid.append([int(data[index + j]) for j in range(n)])\n",
        "        index += n\n",
        "\n",
        "    def bfs(start_r, start_c):\n",
        "        queue = deque([(start_r, start_c)])\n",
        "        grid[start_r][start_c] = 0  # Mark as visited\n",
        "        size = 0\n",
        "        while queue:\n",
        "            r, c = queue.popleft()\n",
        "            size += 1\n",
        "            for dr, dc in [(-1, 0), (1, 0), (0, -1), (0, 1)]:\n",
        "                nr, nc = r + dr, c + dc\n",
        "                if 0 <= nr < n and 0 <= nc < n and grid[nr][nc] == 1:\n",
        "                    grid[nr][nc] = 0  # Mark as visited\n",
        "                    queue.append((nr, nc))\n",
        "        return size\n",
        "\n",
        "    largest_size = 0\n",
        "\n",
        "    for r in range(n):\n",
        "        for c in range(n):\n",
        "            if grid[r][c] == 1:\n",
        "                size = bfs(r, c)\n",
        "                largest_size = max(largest_size, size)\n",
        "\n",
        "    print(largest_size)\n",
        "\n",
        "if __name__ == \"__main__\":\n",
        "    main()"
      ],
      "metadata": {
        "id": "bjSIR7-UNLnw"
      },
      "execution_count": null,
      "outputs": []
    }
  ]
}