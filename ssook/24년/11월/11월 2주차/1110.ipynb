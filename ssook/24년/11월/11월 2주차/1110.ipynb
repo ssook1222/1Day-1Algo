{
  "nbformat": 4,
  "nbformat_minor": 0,
  "metadata": {
    "colab": {
      "provenance": [],
      "authorship_tag": "ABX9TyPjQjqCXc1bmZQo4buWatHo",
      "include_colab_link": true
    },
    "kernelspec": {
      "name": "python3",
      "display_name": "Python 3"
    },
    "language_info": {
      "name": "python"
    }
  },
  "cells": [
    {
      "cell_type": "markdown",
      "metadata": {
        "id": "view-in-github",
        "colab_type": "text"
      },
      "source": [
        "<a href=\"https://colab.research.google.com/github/ssook1222/1Day-1Algo/blob/master/ssook/24%EB%85%84/11%EC%9B%94/11%EC%9B%94%202%EC%A3%BC%EC%B0%A8/1110.ipynb\" target=\"_parent\"><img src=\"https://colab.research.google.com/assets/colab-badge.svg\" alt=\"Open In Colab\"/></a>"
      ]
    },
    {
      "cell_type": "markdown",
      "source": [
        "## BoJ"
      ],
      "metadata": {
        "id": "vv6WwBquNHcd"
      }
    },
    {
      "cell_type": "markdown",
      "source": [
        "### 2393"
      ],
      "metadata": {
        "id": "I7X_hyqtNIxk"
      }
    },
    {
      "cell_type": "code",
      "source": [
        "print('  ___  ___  ___')\n",
        "print('  | |__| |__| |')\n",
        "print('  |           |')\n",
        "print('   \\_________/')\n",
        "print('    \\_______/')\n",
        "print('     |     |')\n",
        "print('     |     |')\n",
        "print('     |     |')\n",
        "print('     |     |')\n",
        "print('     |_____|')\n",
        "print('  __/       \\__')\n",
        "print(' /             \\\\')\n",
        "print('/_______________\\\\')"
      ],
      "metadata": {
        "id": "aKGZNvRLNJdL"
      },
      "execution_count": null,
      "outputs": []
    },
    {
      "cell_type": "markdown",
      "source": [
        "## CodeTree"
      ],
      "metadata": {
        "id": "OLmT7kmENJsa"
      }
    },
    {
      "cell_type": "markdown",
      "source": [
        "### 숫자 등장 횟수"
      ],
      "metadata": {
        "id": "Ty1OTd-PNK8I"
      }
    },
    {
      "cell_type": "code",
      "source": [
        "from collections import Counter\n",
        "\n",
        "def main():\n",
        "    import sys\n",
        "    input = sys.stdin.read\n",
        "    data = input().split()\n",
        "\n",
        "    # Read n and m\n",
        "    index = 0\n",
        "    n = int(data[index])\n",
        "    m = int(data[index + 1])\n",
        "    index += 2\n",
        "\n",
        "    # Read the sequence of n numbers\n",
        "    sequence = map(int, data[index:index + n])\n",
        "    index += n\n",
        "\n",
        "    # Read the m queries\n",
        "    queries = map(int, data[index:index + m])\n",
        "\n",
        "    # Count occurrences in the sequence\n",
        "    count = Counter(sequence)\n",
        "\n",
        "    # Output the counts for each query\n",
        "    result = [str(count[query]) for query in queries]\n",
        "    print(' '.join(result))\n",
        "\n",
        "if __name__ == \"__main__\":\n",
        "    main()\n"
      ],
      "metadata": {
        "id": "bjSIR7-UNLnw"
      },
      "execution_count": null,
      "outputs": []
    }
  ]
}