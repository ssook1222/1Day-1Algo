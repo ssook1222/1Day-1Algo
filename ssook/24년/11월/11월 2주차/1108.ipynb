{
  "nbformat": 4,
  "nbformat_minor": 0,
  "metadata": {
    "colab": {
      "provenance": [],
      "authorship_tag": "ABX9TyOSb+HdWPK71HrRUbMFBiuI",
      "include_colab_link": true
    },
    "kernelspec": {
      "name": "python3",
      "display_name": "Python 3"
    },
    "language_info": {
      "name": "python"
    }
  },
  "cells": [
    {
      "cell_type": "markdown",
      "metadata": {
        "id": "view-in-github",
        "colab_type": "text"
      },
      "source": [
        "<a href=\"https://colab.research.google.com/github/ssook1222/1Day-1Algo/blob/master/ssook/24%EB%85%84/11%EC%9B%94/11%EC%9B%94%202%EC%A3%BC%EC%B0%A8/1108.ipynb\" target=\"_parent\"><img src=\"https://colab.research.google.com/assets/colab-badge.svg\" alt=\"Open In Colab\"/></a>"
      ]
    },
    {
      "cell_type": "markdown",
      "source": [
        "## BoJ"
      ],
      "metadata": {
        "id": "vv6WwBquNHcd"
      }
    },
    {
      "cell_type": "markdown",
      "source": [
        "### 2618"
      ],
      "metadata": {
        "id": "I7X_hyqtNIxk"
      }
    },
    {
      "cell_type": "code",
      "source": [
        "import sys\n",
        "sys.setrecursionlimit(10**8)  # 재귀 호출 깊이 제한을 늘립니다.\n",
        "\n",
        "def calc(c1, c2):\n",
        "    distance = abs(locations[c1][0] - locations[c2][0]) + abs(locations[c1][1] - locations[c2][1])\n",
        "    return distance\n",
        "\n",
        "# 두 경찰차가 각각 최근 c1, c2번째 사건을 해결했을 때 남은 사건의 이동거리의 최솟값\n",
        "def solve(c1, c2):\n",
        "    if dp[c1][c2] != -1:\n",
        "        return dp[c1][c2]\n",
        "\n",
        "    # 다음 사건\n",
        "    next_event = max(c1, c2) + 1\n",
        "\n",
        "    # 다음 사건이 없음\n",
        "    if next_event == W + 2:\n",
        "        return 0\n",
        "\n",
        "    # 해당 사건을 첫 번째 또는 두 번째 경찰차가 해결\n",
        "    assign_to_c1 = solve(next_event, c2) + calc(c1, next_event)\n",
        "    assign_to_c2 = solve(c1, next_event) + calc(c2, next_event)\n",
        "\n",
        "    if assign_to_c1 < assign_to_c2:\n",
        "        dp_trace[c1][c2] = 1\n",
        "        dp[c1][c2] = assign_to_c1\n",
        "    else:\n",
        "        dp_trace[c1][c2] = 2\n",
        "        dp[c1][c2] = assign_to_c2\n",
        "\n",
        "    return dp[c1][c2]\n",
        "\n",
        "N = int(input())\n",
        "W = int(input())\n",
        "locations = [[1, 1], [N, N]]\n",
        "for _ in range(W):\n",
        "    locations.append(list(map(int, input().split())))\n",
        "\n",
        "dp = [[-1] * 1002 for _ in range(1002)]\n",
        "dp_trace = [[-1] * 1002 for _ in range(1002)]\n",
        "\n",
        "print(solve(0, 1))\n",
        "\n",
        "## dp 역추적\n",
        "c1, c2 = 0, 1\n",
        "for i in range(2, W + 2):\n",
        "    print(dp_trace[c1][c2])\n",
        "    if dp_trace[c1][c2] == 1:\n",
        "        c1 = i\n",
        "    else:\n",
        "        c2 = i"
      ],
      "metadata": {
        "id": "aKGZNvRLNJdL"
      },
      "execution_count": null,
      "outputs": []
    },
    {
      "cell_type": "markdown",
      "source": [
        "## CodeTree"
      ],
      "metadata": {
        "id": "OLmT7kmENJsa"
      }
    },
    {
      "cell_type": "markdown",
      "source": [
        "### 합이 최대가 되는 경로 찾기 3"
      ],
      "metadata": {
        "id": "Ty1OTd-PNK8I"
      }
    },
    {
      "cell_type": "code",
      "source": [
        "def main():\n",
        "    import sys\n",
        "    input = sys.stdin.read\n",
        "    data = input().split()\n",
        "\n",
        "    n = int(data[0])\n",
        "    matrix = []\n",
        "    index = 1\n",
        "    for i in range(n):\n",
        "        row = list(map(int, data[index:index + n]))\n",
        "        matrix.append(row)\n",
        "        index += n\n",
        "\n",
        "    # DP 테이블을 초기화\n",
        "    dp = [[-float('inf')] * n for _ in range(n)]\n",
        "    dp[0][n-1] = matrix[0][n-1]\n",
        "\n",
        "    # DP 계산\n",
        "    for r in range(n):\n",
        "        for c in range(n-1, -1, -1):\n",
        "            if r > 0:\n",
        "                dp[r][c] = max(dp[r][c], dp[r-1][c] + matrix[r][c])\n",
        "            if c < n-1:\n",
        "                dp[r][c] = max(dp[r][c], dp[r][c+1] + matrix[r][c])\n",
        "            if r > 0 and c < n-1:\n",
        "                dp[r][c] = max(dp[r][c], dp[r-1][c+1] + matrix[r][c])\n",
        "\n",
        "    # 결과 출력\n",
        "    print(dp[n-1][0])\n",
        "\n",
        "if __name__ == \"__main__\":\n",
        "    main()"
      ],
      "metadata": {
        "id": "bjSIR7-UNLnw"
      },
      "execution_count": null,
      "outputs": []
    }
  ]
}