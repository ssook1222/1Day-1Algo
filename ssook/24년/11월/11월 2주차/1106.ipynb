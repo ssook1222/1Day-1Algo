{
  "nbformat": 4,
  "nbformat_minor": 0,
  "metadata": {
    "colab": {
      "provenance": [],
      "authorship_tag": "ABX9TyPfyVtxdCh2xZxnszOh3kZ5",
      "include_colab_link": true
    },
    "kernelspec": {
      "name": "python3",
      "display_name": "Python 3"
    },
    "language_info": {
      "name": "python"
    }
  },
  "cells": [
    {
      "cell_type": "markdown",
      "metadata": {
        "id": "view-in-github",
        "colab_type": "text"
      },
      "source": [
        "<a href=\"https://colab.research.google.com/github/ssook1222/1Day-1Algo/blob/master/ssook/24%EB%85%84/11%EC%9B%94/11%EC%9B%94%202%EC%A3%BC%EC%B0%A8/1106.ipynb\" target=\"_parent\"><img src=\"https://colab.research.google.com/assets/colab-badge.svg\" alt=\"Open In Colab\"/></a>"
      ]
    },
    {
      "cell_type": "markdown",
      "source": [
        "## BoJ"
      ],
      "metadata": {
        "id": "vv6WwBquNHcd"
      }
    },
    {
      "cell_type": "markdown",
      "source": [
        "### 2150"
      ],
      "metadata": {
        "id": "I7X_hyqtNIxk"
      }
    },
    {
      "cell_type": "code",
      "source": [
        "import sys\n",
        "sys.setrecursionlimit(100000)\n",
        "input = sys.stdin.readline\n",
        "\n",
        "V, E = map(int, input().split())\n",
        "graph = [[] for _ in range(V + 1)]\n",
        "reverse_graph = [[] for _ in range(V + 1)]\n",
        "\n",
        "for _ in range(E):\n",
        "    u, v = map(int, input().split())\n",
        "    graph[u].append(v)\n",
        "    reverse_graph[v].append(u)\n",
        "\n",
        "# Tarjan's algorithm initialization\n",
        "index = 0\n",
        "stack = []\n",
        "on_stack = [False] * (V + 1)\n",
        "indexes = [-1] * (V + 1)\n",
        "lowlink = [-1] * (V + 1)\n",
        "sccs = []\n",
        "scc_stack = []\n",
        "\n",
        "def tarjan(v):\n",
        "    global index\n",
        "    indexes[v] = index\n",
        "    lowlink[v] = index\n",
        "    index += 1\n",
        "    stack.append(v)\n",
        "    on_stack[v] = True\n",
        "\n",
        "    for w in graph[v]:\n",
        "        if indexes[w] == -1:\n",
        "            tarjan(w)\n",
        "            lowlink[v] = min(lowlink[v], lowlink[w])\n",
        "        elif on_stack[w]:\n",
        "            lowlink[v] = min(lowlink[v], indexes[w])\n",
        "\n",
        "    if lowlink[v] == indexes[v]:\n",
        "        scc = []\n",
        "        while True:\n",
        "            w = stack.pop()\n",
        "            on_stack[w] = False\n",
        "            scc.append(w)\n",
        "            if w == v:\n",
        "                break\n",
        "        sccs.append(sorted(scc))\n",
        "\n",
        "# Find all SCCs\n",
        "for i in range(1, V + 1):\n",
        "    if indexes[i] == -1:\n",
        "        tarjan(i)\n",
        "\n",
        "# Sorting SCCs by the smallest vertex number\n",
        "sccs.sort(key=lambda x: x[0])\n",
        "\n",
        "print(len(sccs))\n",
        "for scc in sccs:\n",
        "    print(' '.join(map(str, scc)) + ' -1')"
      ],
      "metadata": {
        "id": "aKGZNvRLNJdL"
      },
      "execution_count": null,
      "outputs": []
    },
    {
      "cell_type": "markdown",
      "source": [
        "## CodeTree"
      ],
      "metadata": {
        "id": "OLmT7kmENJsa"
      }
    },
    {
      "cell_type": "markdown",
      "source": [
        "### 이진수 출력 4"
      ],
      "metadata": {
        "id": "Ty1OTd-PNK8I"
      }
    },
    {
      "cell_type": "code",
      "source": [
        "def main():\n",
        "    import itertools\n",
        "\n",
        "    # 입력 받기\n",
        "    import sys\n",
        "    input = sys.stdin.read\n",
        "    n = int(input().strip())\n",
        "\n",
        "    # 조건을 만족하는 이진수를 저장할 리스트\n",
        "    valid_binaries = []\n",
        "\n",
        "    # 모든 가능한 n자리 이진수 생성\n",
        "    for bits in itertools.product('01', repeat=n):\n",
        "        binary_str = ''.join(bits)\n",
        "        count0 = binary_str.count('0')\n",
        "        count1 = binary_str.count('1')\n",
        "\n",
        "        # 조건 확인: 0과 1이 각각 2번 이상 나타나는지 확인\n",
        "        if count0 >= 2 and count1 >= 2:\n",
        "            valid_binaries.append(binary_str)\n",
        "\n",
        "    # 결과 출력\n",
        "    for binary in valid_binaries:\n",
        "        print(binary)\n",
        "\n",
        "if __name__ == \"__main__\":\n",
        "    main()"
      ],
      "metadata": {
        "id": "bjSIR7-UNLnw"
      },
      "execution_count": null,
      "outputs": []
    }
  ]
}