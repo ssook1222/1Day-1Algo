{
  "nbformat": 4,
  "nbformat_minor": 0,
  "metadata": {
    "colab": {
      "provenance": [],
      "authorship_tag": "ABX9TyMbKSfPlaRo1A9ypZDHzv1h",
      "include_colab_link": true
    },
    "kernelspec": {
      "name": "python3",
      "display_name": "Python 3"
    },
    "language_info": {
      "name": "python"
    }
  },
  "cells": [
    {
      "cell_type": "markdown",
      "metadata": {
        "id": "view-in-github",
        "colab_type": "text"
      },
      "source": [
        "<a href=\"https://colab.research.google.com/github/ssook1222/1Day-1Algo/blob/master/ssook/24%EB%85%84/11%EC%9B%94/11%EC%9B%94%202%EC%A3%BC%EC%B0%A8/1104.ipynb\" target=\"_parent\"><img src=\"https://colab.research.google.com/assets/colab-badge.svg\" alt=\"Open In Colab\"/></a>"
      ]
    },
    {
      "cell_type": "markdown",
      "source": [
        "## BoJ"
      ],
      "metadata": {
        "id": "vv6WwBquNHcd"
      }
    },
    {
      "cell_type": "markdown",
      "source": [
        "### 3015\n",
        "----\n",
        "pypy로"
      ],
      "metadata": {
        "id": "I7X_hyqtNIxk"
      }
    },
    {
      "cell_type": "code",
      "source": [
        "# 각 사람의 키를 입력받아 리스트에 저장\n",
        "heights = [int(input()) for _ in range(int(input()))]\n",
        "\n",
        "stack = []  # (키, 카운트)로 append\n",
        "visible_pairs = 0\n",
        "\n",
        "for height in heights:\n",
        "\n",
        "    # 스택 끝 값보다 키가 크면 pop\n",
        "    while stack and stack[-1][0] < height:\n",
        "        visible_pairs += stack.pop()[1]\n",
        "\n",
        "    # 스택이 비어있으면 해당 키를 append하고 continue\n",
        "    if not stack:\n",
        "        stack.append((height, 1))\n",
        "        continue\n",
        "\n",
        "    # 스택 끝 값의 키와 같을 때\n",
        "    if stack[-1][0] == height:\n",
        "        count = stack.pop()[1]\n",
        "        visible_pairs += count\n",
        "\n",
        "        if stack: visible_pairs += 1\n",
        "        stack.append((height, count + 1))\n",
        "\n",
        "    # 스택 끝 값의 키보다 작을 때\n",
        "    else:\n",
        "        stack.append((height, 1))\n",
        "        visible_pairs += 1\n",
        "\n",
        "# 결과값 출력\n",
        "print(visible_pairs)"
      ],
      "metadata": {
        "id": "aKGZNvRLNJdL"
      },
      "execution_count": null,
      "outputs": []
    },
    {
      "cell_type": "markdown",
      "source": [
        "## CodeTree"
      ],
      "metadata": {
        "id": "OLmT7kmENJsa"
      }
    },
    {
      "cell_type": "markdown",
      "source": [
        "### c의 약수의 합"
      ],
      "metadata": {
        "id": "Ty1OTd-PNK8I"
      }
    },
    {
      "cell_type": "code",
      "source": [
        "a,b,c = map(int, input().split())\n",
        "ans = 0\n",
        "for i in range(a, b+1):\n",
        "    if c % i == 0:\n",
        "        ans += i\n",
        "print(ans)"
      ],
      "metadata": {
        "id": "bjSIR7-UNLnw"
      },
      "execution_count": null,
      "outputs": []
    }
  ]
}