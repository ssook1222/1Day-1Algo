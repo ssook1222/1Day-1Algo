{
  "nbformat": 4,
  "nbformat_minor": 0,
  "metadata": {
    "colab": {
      "provenance": [],
      "authorship_tag": "ABX9TyMoFwVU7w/TujkEuTz7NHzZ",
      "include_colab_link": true
    },
    "kernelspec": {
      "name": "python3",
      "display_name": "Python 3"
    },
    "language_info": {
      "name": "python"
    }
  },
  "cells": [
    {
      "cell_type": "markdown",
      "metadata": {
        "id": "view-in-github",
        "colab_type": "text"
      },
      "source": [
        "<a href=\"https://colab.research.google.com/github/ssook1222/1Day-1Algo/blob/master/ssook/24%EB%85%84/11%EC%9B%94/11%EC%9B%94%202%EC%A3%BC%EC%B0%A8/1109.ipynb\" target=\"_parent\"><img src=\"https://colab.research.google.com/assets/colab-badge.svg\" alt=\"Open In Colab\"/></a>"
      ]
    },
    {
      "cell_type": "markdown",
      "source": [
        "## BoJ"
      ],
      "metadata": {
        "id": "vv6WwBquNHcd"
      }
    },
    {
      "cell_type": "markdown",
      "source": [
        "### 2243"
      ],
      "metadata": {
        "id": "I7X_hyqtNIxk"
      }
    },
    {
      "cell_type": "code",
      "source": [
        "import sys\n",
        "def input(): return sys.stdin.readline().rstrip()\n",
        "\n",
        "def update_tree(position, quantity, node, left, right):\n",
        "    if right < position or position < left:\n",
        "        return\n",
        "\n",
        "    segment_tree[node] += quantity\n",
        "    if left != right:\n",
        "        update_tree(position, quantity, node*2, left, (left+right)//2)\n",
        "        update_tree(position, quantity, node*2+1, (left+right)//2 + 1, right)\n",
        "\n",
        "def find_kth_sweet(k, node, left, right):\n",
        "    if left == right:  # 리프 노드 도달\n",
        "        return left\n",
        "    else:\n",
        "        if segment_tree[node*2] >= k:\n",
        "            return find_kth_sweet(k, node*2, left, (left+right)//2)\n",
        "        else:\n",
        "            return find_kth_sweet(k - segment_tree[node*2], node*2 + 1, (left+right)//2 + 1, right)\n",
        "\n",
        "# N은 사탕의 맛 종류 수\n",
        "N = 1_000_000\n",
        "candy_count = [0] * (N + 1)  # 각 맛의 사탕 개수\n",
        "segment_tree = [0] * (2**21)  # 세그먼트 트리\n",
        "\n",
        "M = int(input())\n",
        "for _ in range(M):\n",
        "    operation, *details = map(int, input().split())\n",
        "    if operation > 1:\n",
        "        update_tree(details[0], details[1], 1, 1, N)\n",
        "        candy_count[details[0]] += details[1]\n",
        "    else:\n",
        "        sweet = find_kth_sweet(details[0], 1, 1, N)\n",
        "        print(sweet)\n",
        "        update_tree(sweet, -1, 1, 1, N)\n",
        "        candy_count[sweet] -= 1"
      ],
      "metadata": {
        "id": "aKGZNvRLNJdL"
      },
      "execution_count": null,
      "outputs": []
    },
    {
      "cell_type": "markdown",
      "source": [
        "## CodeTree"
      ],
      "metadata": {
        "id": "OLmT7kmENJsa"
      }
    },
    {
      "cell_type": "markdown",
      "source": [
        "### hashmap 기본"
      ],
      "metadata": {
        "id": "Ty1OTd-PNK8I"
      }
    },
    {
      "cell_type": "code",
      "source": [
        "def main():\n",
        "    import sys\n",
        "    input = sys.stdin.read\n",
        "    data = input().splitlines()\n",
        "\n",
        "    n = int(data[0])\n",
        "\n",
        "    hashmap = {}\n",
        "    results = []\n",
        "\n",
        "    for i in range(1, n + 1):\n",
        "        command = data[i].split()\n",
        "        action = command[0]\n",
        "        key = int(command[1])\n",
        "\n",
        "        if action == 'add':\n",
        "            value = int(command[2])\n",
        "            hashmap[key] = value\n",
        "        elif action == 'remove':\n",
        "            if key in hashmap:\n",
        "                del hashmap[key]\n",
        "        elif action == 'find':\n",
        "            if key in hashmap:\n",
        "                results.append(hashmap[key])\n",
        "            else:\n",
        "                results.append('None')\n",
        "\n",
        "    # Output all results\n",
        "    print('\\n'.join(map(str, results)))\n",
        "\n",
        "if __name__ == \"__main__\":\n",
        "    main()"
      ],
      "metadata": {
        "id": "bjSIR7-UNLnw"
      },
      "execution_count": null,
      "outputs": []
    }
  ]
}