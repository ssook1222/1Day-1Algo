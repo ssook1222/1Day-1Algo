{
  "nbformat": 4,
  "nbformat_minor": 0,
  "metadata": {
    "colab": {
      "provenance": [],
      "authorship_tag": "ABX9TyPHq9HGiECnv8tXjznh++ab",
      "include_colab_link": true
    },
    "kernelspec": {
      "name": "python3",
      "display_name": "Python 3"
    },
    "language_info": {
      "name": "python"
    }
  },
  "cells": [
    {
      "cell_type": "markdown",
      "metadata": {
        "id": "view-in-github",
        "colab_type": "text"
      },
      "source": [
        "<a href=\"https://colab.research.google.com/github/ssook1222/1Day-1Algo/blob/master/ssook/24%EB%85%84/11%EC%9B%94/11%EC%9B%94%201%EC%A3%BC%EC%B0%A8/1103.ipynb\" target=\"_parent\"><img src=\"https://colab.research.google.com/assets/colab-badge.svg\" alt=\"Open In Colab\"/></a>"
      ]
    },
    {
      "cell_type": "markdown",
      "source": [
        "## BoJ"
      ],
      "metadata": {
        "id": "F0v_s2j0FD5K"
      }
    },
    {
      "cell_type": "markdown",
      "source": [
        "### 1450"
      ],
      "metadata": {
        "id": "gGv79MvuFGse"
      }
    },
    {
      "cell_type": "code",
      "source": [
        "import sys\n",
        "from itertools import combinations\n",
        "\n",
        "input = sys.stdin.readline\n",
        "\n",
        "num_items, max_weight = map(int, input().split())\n",
        "weights = list(map(int, input().split()))\n",
        "\n",
        "# meet in the middle\n",
        "half1 = weights[:num_items // 2]\n",
        "half2 = weights[num_items // 2:]\n",
        "\n",
        "subset_sums1 = []\n",
        "subset_sums2 = []\n",
        "\n",
        "# Generate all subset sums for the first half of the items\n",
        "for i in range(len(half1) + 1):\n",
        "    comb1 = combinations(half1, i)\n",
        "    for comb in comb1:\n",
        "        subset_sums1.append(sum(comb))\n",
        "\n",
        "# Generate all subset sums for the second half of the items\n",
        "for i in range(len(half2) + 1):\n",
        "    comb2 = combinations(half2, i)\n",
        "    for comb in comb2:\n",
        "        subset_sums2.append(sum(comb))\n",
        "\n",
        "subset_sums1.sort()\n",
        "answer = 0\n",
        "\n",
        "# Find pairs of subset sums that do not exceed the max_weight using binary search\n",
        "for sum2 in subset_sums2:\n",
        "    if sum2 > max_weight:\n",
        "        continue\n",
        "\n",
        "    start = 0\n",
        "    end = len(subset_sums1) - 1\n",
        "\n",
        "    while start <= end:\n",
        "        mid = (start + end) // 2\n",
        "\n",
        "        if subset_sums1[mid] + sum2 > max_weight:\n",
        "            end = mid - 1\n",
        "        else:\n",
        "            start = mid + 1\n",
        "\n",
        "    answer += end + 1\n",
        "\n",
        "print(answer)"
      ],
      "metadata": {
        "id": "cpl4IwCfFHol"
      },
      "execution_count": null,
      "outputs": []
    },
    {
      "cell_type": "markdown",
      "source": [
        "## CodeTree"
      ],
      "metadata": {
        "id": "72nh4ovSFH3S"
      }
    },
    {
      "cell_type": "markdown",
      "source": [
        "### 등차수열"
      ],
      "metadata": {
        "id": "krG_4UMzFJnj"
      }
    },
    {
      "cell_type": "code",
      "source": [
        "def can_form_sequence(A, n, a, d, length):\n",
        "    target = a\n",
        "    index = 0\n",
        "\n",
        "    for i in range(length):\n",
        "        while index < n and A[index] != target:\n",
        "            index += 1\n",
        "        if index == n:\n",
        "            return False\n",
        "        target += d\n",
        "        index += 1\n",
        "\n",
        "    return True\n",
        "\n",
        "def find_max_length(A, n, a, d):\n",
        "    left, right = 0, n\n",
        "    best_length = 0\n",
        "\n",
        "    while left <= right:\n",
        "        mid = (left + right) // 2\n",
        "        if can_form_sequence(A, n, a, d, mid):\n",
        "            best_length = mid\n",
        "            left = mid + 1\n",
        "        else:\n",
        "            right = mid - 1\n",
        "\n",
        "    return best_length\n",
        "\n",
        "def main():\n",
        "    import sys\n",
        "    input = sys.stdin.read\n",
        "    data = input().split()\n",
        "\n",
        "    n = int(data[0])\n",
        "    a = int(data[1])\n",
        "    d = int(data[2])\n",
        "    A = list(map(int, data[3:]))\n",
        "\n",
        "    result = find_max_length(A, n, a, d)\n",
        "    print(result)\n",
        "\n",
        "main()"
      ],
      "metadata": {
        "id": "cTMkR_vxFKVC"
      },
      "execution_count": null,
      "outputs": []
    }
  ]
}