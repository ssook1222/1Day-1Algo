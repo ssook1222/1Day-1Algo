{
  "nbformat": 4,
  "nbformat_minor": 0,
  "metadata": {
    "colab": {
      "provenance": [],
      "authorship_tag": "ABX9TyM/xflmDOfU9HaSvqSzXkIs",
      "include_colab_link": true
    },
    "kernelspec": {
      "name": "python3",
      "display_name": "Python 3"
    },
    "language_info": {
      "name": "python"
    }
  },
  "cells": [
    {
      "cell_type": "markdown",
      "metadata": {
        "id": "view-in-github",
        "colab_type": "text"
      },
      "source": [
        "<a href=\"https://colab.research.google.com/github/ssook1222/1Day-1Algo/blob/master/ssook/24%EB%85%84/11%EC%9B%94/11%EC%9B%94%201%EC%A3%BC%EC%B0%A8/1101.ipynb\" target=\"_parent\"><img src=\"https://colab.research.google.com/assets/colab-badge.svg\" alt=\"Open In Colab\"/></a>"
      ]
    },
    {
      "cell_type": "markdown",
      "source": [
        "## BoJ"
      ],
      "metadata": {
        "id": "F0v_s2j0FD5K"
      }
    },
    {
      "cell_type": "markdown",
      "source": [
        "### 1509"
      ],
      "metadata": {
        "id": "gGv79MvuFGse"
      }
    },
    {
      "cell_type": "code",
      "source": [
        "import sys\n",
        "\n",
        "sys.setrecursionlimit(10 ** 8)\n",
        "input = lambda: sys.stdin.readline().rstrip()\n",
        "\n",
        "string = input()\n",
        "length = len(string)\n",
        "\n",
        "# 최솟값을 구하기 위한 dp 배열\n",
        "min_partition = [2500 for _ in range(length + 1)]\n",
        "min_partition[-1] = 0\n",
        "\n",
        "# 팰린드롬 여부를 기록할 2차원 배열\n",
        "is_palindrome = [[0 for _ in range(length)] for _ in range(length)]\n",
        "\n",
        "# 길이 1짜리 팰린드롬\n",
        "for i in range(length):\n",
        "    is_palindrome[i][i] = 1\n",
        "\n",
        "# 길이 2짜리 팰린드롬\n",
        "for i in range(1, length):\n",
        "    if string[i - 1] == string[i]:\n",
        "        is_palindrome[i - 1][i] = 1\n",
        "\n",
        "# 길이 3 이상의 팰린드롬\n",
        "for l in range(3, length + 1):\n",
        "    for start in range(length - l + 1):\n",
        "        end = start + l - 1\n",
        "        if string[start] == string[end] and is_palindrome[start + 1][end - 1]:\n",
        "            is_palindrome[start][end] = 1\n",
        "\n",
        "# 최소 분할 개수 계산\n",
        "for end in range(length):\n",
        "    for start in range(end + 1):\n",
        "        if is_palindrome[start][end]:\n",
        "            min_partition[end] = min(min_partition[end], min_partition[start - 1] + 1)\n",
        "        else:\n",
        "            min_partition[end] = min(min_partition[end], min_partition[end - 1] + 1)\n",
        "\n",
        "print(min_partition[length - 1])"
      ],
      "metadata": {
        "id": "cpl4IwCfFHol"
      },
      "execution_count": null,
      "outputs": []
    },
    {
      "cell_type": "markdown",
      "source": [
        "## CodeTree"
      ],
      "metadata": {
        "id": "72nh4ovSFH3S"
      }
    },
    {
      "cell_type": "markdown",
      "source": [
        "### 거듭제곱을 출력하는 함수 2"
      ],
      "metadata": {
        "id": "krG_4UMzFJnj"
      }
    },
    {
      "cell_type": "code",
      "source": [
        "def power(base, exponent):\n",
        "    \"\"\"재귀적으로 거듭제곱을 계산하는 함수\"\"\"\n",
        "    if exponent == 0:\n",
        "        return 1\n",
        "    elif exponent == 1:\n",
        "        return base\n",
        "    else:\n",
        "        return base * power(base, exponent - 1)\n",
        "\n",
        "def main():\n",
        "    import sys\n",
        "    input = sys.stdin.read\n",
        "    data = input().strip()\n",
        "\n",
        "    x, y = map(int, data.split())\n",
        "\n",
        "    # x^y와 y^x를 계산\n",
        "    result1 = power(x, y)\n",
        "    result2 = power(y, x)\n",
        "\n",
        "    # 두 결과의 차이 계산\n",
        "    difference = abs(result1 - result2)\n",
        "\n",
        "    # 결과 출력\n",
        "    print(difference)\n",
        "\n",
        "main()"
      ],
      "metadata": {
        "id": "cTMkR_vxFKVC"
      },
      "execution_count": null,
      "outputs": []
    }
  ]
}