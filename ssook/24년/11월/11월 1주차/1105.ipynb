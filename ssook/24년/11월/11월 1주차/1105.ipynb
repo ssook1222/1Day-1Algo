{
  "nbformat": 4,
  "nbformat_minor": 0,
  "metadata": {
    "colab": {
      "provenance": [],
      "authorship_tag": "ABX9TyPMqPPaYtkKKvgYAYmoJ0ZB",
      "include_colab_link": true
    },
    "kernelspec": {
      "name": "python3",
      "display_name": "Python 3"
    },
    "language_info": {
      "name": "python"
    }
  },
  "cells": [
    {
      "cell_type": "markdown",
      "metadata": {
        "id": "view-in-github",
        "colab_type": "text"
      },
      "source": [
        "<a href=\"https://colab.research.google.com/github/ssook1222/1Day-1Algo/blob/master/ssook/24%EB%85%84/11%EC%9B%94/11%EC%9B%94%201%EC%A3%BC%EC%B0%A8/1105.ipynb\" target=\"_parent\"><img src=\"https://colab.research.google.com/assets/colab-badge.svg\" alt=\"Open In Colab\"/></a>"
      ]
    },
    {
      "cell_type": "markdown",
      "source": [
        "## BoJ"
      ],
      "metadata": {
        "id": "vv6WwBquNHcd"
      }
    },
    {
      "cell_type": "markdown",
      "source": [
        "### 1019"
      ],
      "metadata": {
        "id": "I7X_hyqtNIxk"
      }
    },
    {
      "cell_type": "code",
      "source": [
        "n = int(input())\n",
        "digit_count = [0] * 10  # 각 숫자의 등장 횟수\n",
        "num = 1  # 자릿수 증가 변수\n",
        "\n",
        "# 일의 자리까지 9로 맞추는 함수\n",
        "def adjust_to_next_lower(number):\n",
        "    while number % 10 != 9:\n",
        "        for digit in str(number):\n",
        "            digit_count[int(digit)] += num\n",
        "        number -= 1\n",
        "\n",
        "    return number\n",
        "\n",
        "# 일의 자리부터 num만큼 더해주며 연산\n",
        "# n을 10씩 나눠가며 자릿수 증가시키기\n",
        "while n > 0:\n",
        "    # 현재 n의 1의 자리 9로 맞추기\n",
        "    n = adjust_to_next_lower(n)\n",
        "\n",
        "    if n < 10:\n",
        "        # 한 자리가 된다면 -> 최고 자리수라면 n까지 num만큼 + 해주기\n",
        "        for i in range(n + 1):\n",
        "            digit_count[i] += num\n",
        "    else:\n",
        "        # 아직 최고 자릿수가 아니라면 0~9까지\n",
        "        for j in range(10):\n",
        "            digit_count[j] += (n // 10 + 1) * num\n",
        "\n",
        "    digit_count[0] -= num\n",
        "    num *= 10\n",
        "    n //= 10\n",
        "\n",
        "print(*digit_count)"
      ],
      "metadata": {
        "id": "aKGZNvRLNJdL"
      },
      "execution_count": null,
      "outputs": []
    },
    {
      "cell_type": "markdown",
      "source": [
        "## CodeTree"
      ],
      "metadata": {
        "id": "OLmT7kmENJsa"
      }
    },
    {
      "cell_type": "markdown",
      "source": [
        "### 이차원 격자 10"
      ],
      "metadata": {
        "id": "Ty1OTd-PNK8I"
      }
    },
    {
      "cell_type": "code",
      "source": [
        "def main():\n",
        "    import sys\n",
        "    input = sys.stdin.read\n",
        "    data = input().split()\n",
        "\n",
        "    # Read the first line\n",
        "    idx = 0\n",
        "    n = int(data[idx])\n",
        "    k = int(data[idx + 1])\n",
        "    idx += 2\n",
        "\n",
        "    # Read the grid\n",
        "    grid = []\n",
        "    for _ in range(n):\n",
        "        row = list(map(int, data[idx:idx + n]))\n",
        "        grid.append(row)\n",
        "        idx += n\n",
        "\n",
        "    # Read the (r1, c1) and (r2, c2)\n",
        "    r1 = int(data[idx]) - 1\n",
        "    c1 = int(data[idx + 1]) - 1\n",
        "    r2 = int(data[idx + 2]) - 1\n",
        "    c2 = int(data[idx + 3]) - 1\n",
        "\n",
        "    # Calculate the sum of values <= k in the specified range\n",
        "    total_sum = 0\n",
        "    for i in range(r1, r2 + 1):\n",
        "        for j in range(c1, c2 + 1):\n",
        "            if grid[i][j] <= k:\n",
        "                total_sum += grid[i][j]\n",
        "\n",
        "    # Print the result\n",
        "    print(total_sum)\n",
        "\n",
        "if __name__ == \"__main__\":\n",
        "    main()"
      ],
      "metadata": {
        "id": "bjSIR7-UNLnw"
      },
      "execution_count": null,
      "outputs": []
    }
  ]
}