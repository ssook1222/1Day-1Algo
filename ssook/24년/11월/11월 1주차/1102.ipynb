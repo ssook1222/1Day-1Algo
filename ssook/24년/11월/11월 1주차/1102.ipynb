{
  "nbformat": 4,
  "nbformat_minor": 0,
  "metadata": {
    "colab": {
      "provenance": [],
      "authorship_tag": "ABX9TyPE9fbUIOxqkF7SQ0hOl/LB",
      "include_colab_link": true
    },
    "kernelspec": {
      "name": "python3",
      "display_name": "Python 3"
    },
    "language_info": {
      "name": "python"
    }
  },
  "cells": [
    {
      "cell_type": "markdown",
      "metadata": {
        "id": "view-in-github",
        "colab_type": "text"
      },
      "source": [
        "<a href=\"https://colab.research.google.com/github/ssook1222/1Day-1Algo/blob/master/ssook/24%EB%85%84/11%EC%9B%94/11%EC%9B%94%201%EC%A3%BC%EC%B0%A8/1102.ipynb\" target=\"_parent\"><img src=\"https://colab.research.google.com/assets/colab-badge.svg\" alt=\"Open In Colab\"/></a>"
      ]
    },
    {
      "cell_type": "markdown",
      "source": [
        "## BoJ"
      ],
      "metadata": {
        "id": "F0v_s2j0FD5K"
      }
    },
    {
      "cell_type": "markdown",
      "source": [
        "### 19237"
      ],
      "metadata": {
        "id": "gGv79MvuFGse"
      }
    },
    {
      "cell_type": "code",
      "source": [
        "import sys\n",
        "\n",
        "sys.setrecursionlimit(10 ** 8)\n",
        "input = lambda: sys.stdin.readline().rstrip()\n",
        "\n",
        "# 입력값 처리\n",
        "grid_size, num_sharks, smell_duration = map(int, input().split())\n",
        "grid = [list(map(int, input().split())) for _ in range(grid_size)] # 격자 모양\n",
        "initial_directions = list(map(int, input().split())) # 상어의 초기 방향\n",
        "sharks = [[] for _ in range(num_sharks)] # 상어의 위치와 방향 정보\n",
        "priority = [[] for _ in range(num_sharks)] # 각 상어의 이동 우선순위\n",
        "\n",
        "# 상하좌우 이동 벡터\n",
        "dx = [-1, 1, 0, 0]\n",
        "dy = [0, 0, -1, 1]\n",
        "\n",
        "# 각 상어의 우선순위 입력\n",
        "for i in range(num_sharks):\n",
        "    for _ in range(4): # 상어 우선순위 저장\n",
        "        priority[i].append(list(map(int, input().split())))\n",
        "\n",
        "# 초기 상어 위치와 방향 설정\n",
        "for i in range(grid_size):\n",
        "    for j in range(grid_size):\n",
        "        if grid[i][j] != 0: # 상어가 위치한 칸\n",
        "            shark_index = grid[i][j] - 1\n",
        "            sharks[shark_index] = [i, j, initial_directions[shark_index] - 1]\n",
        "        grid[i][j] = [0, 0] # 격자값 초기화\n",
        "\n",
        "# 자신의 위치에 냄새 남기기\n",
        "def leave_smell(grid, sharks):\n",
        "    for i in range(len(sharks)):\n",
        "        if sharks[i]: # 남아있는 상어에 대해\n",
        "            x, y, direction = sharks[i]\n",
        "            grid[x][y] = [smell_duration, i] # 냄새 남기기\n",
        "    return grid\n",
        "\n",
        "# 1초가 지나면 냄새가 1씩 줄어들기\n",
        "def update_smell(grid):\n",
        "    for i in range(grid_size):\n",
        "        for j in range(grid_size):\n",
        "            if grid[i][j][0] > 0: # 냄새가 남아있으면\n",
        "                grid[i][j][0] -= 1 # 1씩 감소\n",
        "    return grid\n",
        "\n",
        "# 상어 이동\n",
        "def move_sharks(sharks):\n",
        "    temp_grid = [[[] for _ in range(grid_size)] for _ in range(grid_size)] # 임시 배열\n",
        "    for i in range(len(sharks)): # 상어 배열을 돌면서\n",
        "        if sharks[i]:\n",
        "            x, y, direction = sharks[i]\n",
        "            empty_spaces = [] # 빈자리\n",
        "            own_smell_spaces = [] # 내 냄새가 있는 곳\n",
        "            for k in range(4): # 상하좌우 탐색\n",
        "                nx, ny = x + dx[k], y + dy[k]\n",
        "                if 0 <= nx < grid_size and 0 <= ny < grid_size: # 범위 안에 있으면\n",
        "                    if grid[nx][ny][0] == 0: # 빈자리\n",
        "                        empty_spaces.append((nx, ny, k))\n",
        "                    elif grid[nx][ny][1] == i: # 내 냄새가 남아있는 곳\n",
        "                        own_smell_spaces.append((nx, ny, k))\n",
        "            new_direction = direction # 상어의 다음 방향\n",
        "            if not empty_spaces: # 빈자리가 없다면\n",
        "                empty_spaces = own_smell_spaces # 최종 후보군은 내 냄새가 있는 곳\n",
        "            if len(empty_spaces) >= 2: # 후보군이 여러 개라면\n",
        "                shark_priority = priority[i][direction] # 우선순위대로\n",
        "                for r in shark_priority:\n",
        "                    flag = False\n",
        "                    for a, b, c in empty_spaces:\n",
        "                        if r - 1 == c: # 우선순위와 일치하면\n",
        "                            new_direction = r - 1 # 방향 업데이트\n",
        "                            flag = True\n",
        "                            break\n",
        "                    if flag:\n",
        "                        break\n",
        "            else: # 후보군이 하나라면\n",
        "                new_direction = empty_spaces[0][2] # 바로 방향 업데이트\n",
        "            sharks[i] = [x + dx[new_direction], y + dy[new_direction], new_direction] # 상어 최종 정보 업데이트\n",
        "            temp_grid[x + dx[new_direction]][y + dy[new_direction]].append(i) # 임시 배열에 저장\n",
        "\n",
        "    # 임시 배열을 돌면서 상어가 겹치는 칸이 있으면 처리\n",
        "    for i in range(grid_size):\n",
        "        for j in range(grid_size):\n",
        "            if len(temp_grid[i][j]) > 1: # 상어가 겹치는 칸이 있으면\n",
        "                temp_grid[i][j].sort() # 정렬하여 맨 앞 상어만 남기기\n",
        "                for k in temp_grid[i][j][1:]:\n",
        "                    sharks[k] = [] # 나머지 상어는 삭제\n",
        "\n",
        "    # 남은 상어의 개수 계산\n",
        "    remaining_sharks = sum(1 for i in range(num_sharks) if sharks[i] != [])\n",
        "    return sharks, remaining_sharks\n",
        "\n",
        "# 시뮬레이션 실행\n",
        "for time in range(1000):\n",
        "    grid = leave_smell(grid, sharks) # 냄새 남기기\n",
        "    sharks, remaining = move_sharks(sharks) # 상어 이동\n",
        "    grid = update_smell(grid) # 1초 지남\n",
        "    if remaining == 1: # 1번 상어만 남았으면\n",
        "        print(time + 1) # 종료 시간 출력\n",
        "        break\n",
        "else: # 1000초가 지나버린 경우\n",
        "    print(-1)"
      ],
      "metadata": {
        "id": "cpl4IwCfFHol"
      },
      "execution_count": null,
      "outputs": []
    },
    {
      "cell_type": "markdown",
      "source": [
        "## CodeTree"
      ],
      "metadata": {
        "id": "72nh4ovSFH3S"
      }
    },
    {
      "cell_type": "markdown",
      "source": [
        "### 섞기 전 카드 위치"
      ],
      "metadata": {
        "id": "krG_4UMzFJnj"
      }
    },
    {
      "cell_type": "code",
      "source": [
        "def reverse_shuffle(N, A, final_state):\n",
        "    # Initializing the reversed position mapping\n",
        "    reversed_A = [0] * N\n",
        "    for i in range(N):\n",
        "        reversed_A[A[i] - 1] = i\n",
        "\n",
        "    # Start with the final state and reverse shuffle it 3 times\n",
        "    current_state = final_state[:]\n",
        "\n",
        "    for _ in range(3):\n",
        "        new_state = [0] * N\n",
        "        for i in range(N):\n",
        "            new_state[reversed_A[i]] = current_state[i]\n",
        "        current_state = new_state\n",
        "\n",
        "    return current_state\n",
        "\n",
        "def main():\n",
        "    import sys\n",
        "    input = sys.stdin.read\n",
        "    data = input().strip().split('\\n')\n",
        "\n",
        "    N = int(data[0].strip())\n",
        "    A = list(map(int, data[1].strip().split()))\n",
        "    final_state = list(map(int, data[2].strip().split()))\n",
        "\n",
        "    initial_state = reverse_shuffle(N, A, final_state)\n",
        "\n",
        "    for value in initial_state:\n",
        "        print(value)\n",
        "\n",
        "main()"
      ],
      "metadata": {
        "id": "cTMkR_vxFKVC"
      },
      "execution_count": null,
      "outputs": []
    }
  ]
}