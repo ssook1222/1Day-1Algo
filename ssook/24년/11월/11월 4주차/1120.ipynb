{
  "nbformat": 4,
  "nbformat_minor": 0,
  "metadata": {
    "colab": {
      "provenance": [],
      "authorship_tag": "ABX9TyMcvqXfc05mLypd2NzlVFCV",
      "include_colab_link": true
    },
    "kernelspec": {
      "name": "python3",
      "display_name": "Python 3"
    },
    "language_info": {
      "name": "python"
    }
  },
  "cells": [
    {
      "cell_type": "markdown",
      "metadata": {
        "id": "view-in-github",
        "colab_type": "text"
      },
      "source": [
        "<a href=\"https://colab.research.google.com/github/ssook1222/1Day-1Algo/blob/master/ssook/24%EB%85%84/11%EC%9B%94/11%EC%9B%94%204%EC%A3%BC%EC%B0%A8/1120.ipynb\" target=\"_parent\"><img src=\"https://colab.research.google.com/assets/colab-badge.svg\" alt=\"Open In Colab\"/></a>"
      ]
    },
    {
      "cell_type": "markdown",
      "source": [
        "## BoJ"
      ],
      "metadata": {
        "id": "WSWPFXxPmvvD"
      }
    },
    {
      "cell_type": "markdown",
      "source": [
        "### 16431"
      ],
      "metadata": {
        "id": "s-De54EMnwYa"
      }
    },
    {
      "cell_type": "code",
      "source": [
        "Br, Bc = map(int, input().split())\n",
        "Dr, Dc = map(int, input().split())\n",
        "Jr, Jc = map(int, input().split())\n",
        "B = max(abs(Jr-Br), abs(Jc-Bc))\n",
        "D = abs(Jr-Dr) + abs(Jc-Dc)\n",
        "if B == D:\n",
        "    print(\"tie\")\n",
        "elif B < D:\n",
        "    print(\"bessie\")\n",
        "else:\n",
        "    print(\"daisy\")"
      ],
      "metadata": {
        "id": "4iq5qaFpmyje"
      },
      "execution_count": null,
      "outputs": []
    },
    {
      "cell_type": "markdown",
      "source": [
        "## CodeTree"
      ],
      "metadata": {
        "id": "JlqjLNIImzB5"
      }
    },
    {
      "cell_type": "markdown",
      "source": [
        "### 수열 재조합"
      ],
      "metadata": {
        "id": "BdBHz41lrIw9"
      }
    },
    {
      "cell_type": "code",
      "source": [
        "def stack_sequence(n, sequence):\n",
        "    stack = []\n",
        "    result = []\n",
        "    current_number = 1\n",
        "    index = 0\n",
        "\n",
        "    while index < n:\n",
        "        while current_number <= n and (not stack or stack[-1] != sequence[index]):\n",
        "            stack.append(current_number)\n",
        "            result.append('+')\n",
        "            current_number += 1\n",
        "\n",
        "        if stack and stack[-1] == sequence[index]:\n",
        "            stack.pop()\n",
        "            result.append('-')\n",
        "            index += 1\n",
        "        else:\n",
        "            print(\"NO\")\n",
        "            return\n",
        "\n",
        "    print('\\n'.join(result))\n",
        "\n",
        "# 입력 처리\n",
        "n = int(input())\n",
        "sequence = [int(input()) for _ in range(n)]\n",
        "\n",
        "# 스택 수열 생성\n",
        "stack_sequence(n, sequence)\n"
      ],
      "metadata": {
        "id": "4wTONuO7m0hn"
      },
      "execution_count": null,
      "outputs": []
    }
  ]
}