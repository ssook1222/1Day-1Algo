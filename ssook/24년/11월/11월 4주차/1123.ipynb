{
  "nbformat": 4,
  "nbformat_minor": 0,
  "metadata": {
    "colab": {
      "provenance": [],
      "authorship_tag": "ABX9TyOFRlT+SPqWoc3fZL6usu0b",
      "include_colab_link": true
    },
    "kernelspec": {
      "name": "python3",
      "display_name": "Python 3"
    },
    "language_info": {
      "name": "python"
    }
  },
  "cells": [
    {
      "cell_type": "markdown",
      "metadata": {
        "id": "view-in-github",
        "colab_type": "text"
      },
      "source": [
        "<a href=\"https://colab.research.google.com/github/ssook1222/1Day-1Algo/blob/master/ssook/24%EB%85%84/11%EC%9B%94/11%EC%9B%94%204%EC%A3%BC%EC%B0%A8/1123.ipynb\" target=\"_parent\"><img src=\"https://colab.research.google.com/assets/colab-badge.svg\" alt=\"Open In Colab\"/></a>"
      ]
    },
    {
      "cell_type": "markdown",
      "source": [
        "## BoJ"
      ],
      "metadata": {
        "id": "WSWPFXxPmvvD"
      }
    },
    {
      "cell_type": "markdown",
      "source": [
        "### 10419"
      ],
      "metadata": {
        "id": "RM63xpHeoADi"
      }
    },
    {
      "cell_type": "code",
      "source": [
        "for _ in range(int(input())):\n",
        "    n = int(input())\n",
        "    t = 0\n",
        "    while (t+1) + (t+1)**2 <= n:\n",
        "        t += 1\n",
        "    print(t)"
      ],
      "metadata": {
        "id": "4iq5qaFpmyje"
      },
      "execution_count": null,
      "outputs": []
    },
    {
      "cell_type": "markdown",
      "source": [
        "## CodeTree"
      ],
      "metadata": {
        "id": "JlqjLNIImzB5"
      }
    },
    {
      "cell_type": "markdown",
      "source": [
        "### 0,1 상태 바꾸기 2"
      ],
      "metadata": {
        "id": "JC0C5vNxsQEt"
      }
    },
    {
      "cell_type": "code",
      "source": [
        "def toggle_switches(switches, index):\n",
        "    switches[index] = 1 - switches[index]  # 상태 반전\n",
        "\n",
        "def operation_type_1(switches, num):\n",
        "    for i in range(num - 1, len(switches), num):\n",
        "        toggle_switches(switches, i)\n",
        "\n",
        "def operation_type_2(switches, num):\n",
        "    center = num - 1\n",
        "    left = center\n",
        "    right = center\n",
        "\n",
        "    # 대칭 구간 찾기\n",
        "    while left >= 0 and right < len(switches) and switches[left] == switches[right]:\n",
        "        left -= 1\n",
        "        right += 1\n",
        "\n",
        "    # 반전할 구간\n",
        "    for i in range(left + 1, right):\n",
        "        toggle_switches(switches, i)\n",
        "\n",
        "# 입력 처리\n",
        "n = int(input())\n",
        "switches = list(map(int, input().split()))\n",
        "m = int(input())\n",
        "\n",
        "for _ in range(m):\n",
        "    operation_type, num = map(int, input().split())\n",
        "    if operation_type == 1:\n",
        "        operation_type_1(switches, num)\n",
        "    elif operation_type == 2:\n",
        "        operation_type_2(switches, num)\n",
        "\n",
        "# 결과 출력\n",
        "print(\" \".join(map(str, switches)))\n"
      ],
      "metadata": {
        "id": "4wTONuO7m0hn"
      },
      "execution_count": null,
      "outputs": []
    }
  ]
}