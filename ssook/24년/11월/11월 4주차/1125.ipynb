{
  "nbformat": 4,
  "nbformat_minor": 0,
  "metadata": {
    "colab": {
      "provenance": [],
      "authorship_tag": "ABX9TyMO3glAis3TjFgnSfkYqexo",
      "include_colab_link": true
    },
    "kernelspec": {
      "name": "python3",
      "display_name": "Python 3"
    },
    "language_info": {
      "name": "python"
    }
  },
  "cells": [
    {
      "cell_type": "markdown",
      "metadata": {
        "id": "view-in-github",
        "colab_type": "text"
      },
      "source": [
        "<a href=\"https://colab.research.google.com/github/ssook1222/1Day-1Algo/blob/master/ssook/24%EB%85%84/11%EC%9B%94/11%EC%9B%94%204%EC%A3%BC%EC%B0%A8/1125.ipynb\" target=\"_parent\"><img src=\"https://colab.research.google.com/assets/colab-badge.svg\" alt=\"Open In Colab\"/></a>"
      ]
    },
    {
      "cell_type": "markdown",
      "source": [
        "## BoJ"
      ],
      "metadata": {
        "id": "zqJCP2D0aQGV"
      }
    },
    {
      "cell_type": "markdown",
      "source": [
        "### 2583"
      ],
      "metadata": {
        "id": "BpoOvukeaRRq"
      }
    },
    {
      "cell_type": "code",
      "source": [
        "import sys\n",
        "sys.setrecursionlimit(10**6) # 재귀의 깊이 변경 (RecursionError)\n",
        "\n",
        "height, width, rect_count = map(int, input().split())\n",
        "grid = [[0] * width for _ in range(height)]\n",
        "for _ in range(rect_count):\n",
        "    x1, y1, x2, y2 = map(int, input().split())\n",
        "    for i in range(y1, y2):\n",
        "        for j in range(x1, x2):\n",
        "            grid[i][j] = 1\n",
        "\n",
        "dx = [-1, 1, 0, 0]\n",
        "dy = [0, 0, -1, 1]\n",
        "area_count = 0\n",
        "\n",
        "def dfs(x, y):\n",
        "    global area_count\n",
        "    if x < 0 or x >= height or y < 0 or y >= width:\n",
        "        return 0\n",
        "    if grid[x][y] == 1:\n",
        "        return 0\n",
        "\n",
        "    grid[x][y] = 1\n",
        "    area_count += 1\n",
        "    for i in range(4):\n",
        "        dfs(x + dx[i], y + dy[i])\n",
        "\n",
        "    return area_count\n",
        "\n",
        "result_areas = []\n",
        "for i in range(height):\n",
        "    for j in range(width):\n",
        "        area_size = dfs(i, j)\n",
        "        if area_size:\n",
        "            result_areas.append(area_size)\n",
        "            area_count = 0\n",
        "\n",
        "result_areas.sort()\n",
        "print(len(result_areas))\n",
        "for area in result_areas:\n",
        "    print(area, end=' ')"
      ],
      "metadata": {
        "id": "yoFWNS7EaR0G"
      },
      "execution_count": null,
      "outputs": []
    },
    {
      "cell_type": "markdown",
      "source": [
        "## CodeTree"
      ],
      "metadata": {
        "id": "CY57T0ZaaSI0"
      }
    },
    {
      "cell_type": "markdown",
      "source": [
        "### [PCCE 기출문제] 2번 / 각도 합치기\n"
      ],
      "metadata": {
        "id": "EF0HP8UwaTja"
      }
    },
    {
      "cell_type": "code",
      "source": [
        "angle1 = int(input())\n",
        "angle2 = int(input())\n",
        "\n",
        "sum_angle = (angle1 + angle2) % 360\n",
        "print(sum_angle)"
      ],
      "metadata": {
        "id": "ouU0vy0waULD"
      },
      "execution_count": null,
      "outputs": []
    }
  ]
}