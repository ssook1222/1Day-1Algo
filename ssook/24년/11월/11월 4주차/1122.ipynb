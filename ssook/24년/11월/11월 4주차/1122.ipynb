{
  "nbformat": 4,
  "nbformat_minor": 0,
  "metadata": {
    "colab": {
      "provenance": [],
      "authorship_tag": "ABX9TyMKdiJKO9nstYzLmYZMfugA",
      "include_colab_link": true
    },
    "kernelspec": {
      "name": "python3",
      "display_name": "Python 3"
    },
    "language_info": {
      "name": "python"
    }
  },
  "cells": [
    {
      "cell_type": "markdown",
      "metadata": {
        "id": "view-in-github",
        "colab_type": "text"
      },
      "source": [
        "<a href=\"https://colab.research.google.com/github/ssook1222/1Day-1Algo/blob/master/ssook/24%EB%85%84/11%EC%9B%94/11%EC%9B%94%204%EC%A3%BC%EC%B0%A8/1122.ipynb\" target=\"_parent\"><img src=\"https://colab.research.google.com/assets/colab-badge.svg\" alt=\"Open In Colab\"/></a>"
      ]
    },
    {
      "cell_type": "markdown",
      "source": [
        "## BoJ"
      ],
      "metadata": {
        "id": "WSWPFXxPmvvD"
      }
    },
    {
      "cell_type": "markdown",
      "source": [
        "### 14920"
      ],
      "metadata": {
        "id": "LvazVULNn-hm"
      }
    },
    {
      "cell_type": "code",
      "source": [
        "n = int(input())\n",
        "i = 1\n",
        "while n != 1:\n",
        "    if n % 2:\n",
        "        n = 3*n + 1\n",
        "    else:\n",
        "        n = n//2\n",
        "    i += 1\n",
        "print(i)"
      ],
      "metadata": {
        "id": "4iq5qaFpmyje"
      },
      "execution_count": null,
      "outputs": []
    },
    {
      "cell_type": "markdown",
      "source": [
        "## CodeTree"
      ],
      "metadata": {
        "id": "JlqjLNIImzB5"
      }
    },
    {
      "cell_type": "markdown",
      "source": [
        "### 서로소 평균"
      ],
      "metadata": {
        "id": "TDfz0ClBsImm"
      }
    },
    {
      "cell_type": "code",
      "source": [
        "import sys\n",
        "import math\n",
        "\n",
        "def calculate_coprime_average(n, numbers, x):\n",
        "    coprime_numbers = [num for num in numbers if math.gcd(num, x) == 1]\n",
        "\n",
        "    if not coprime_numbers:\n",
        "        return 0.0  # 서로소인 수가 없는 경우\n",
        "\n",
        "    average = sum(coprime_numbers) / len(coprime_numbers)\n",
        "    return average\n",
        "\n",
        "# 입력 처리\n",
        "n = int(input())\n",
        "numbers = list(map(int, input().split()))\n",
        "x = int(input())\n",
        "\n",
        "# 평균 계산\n",
        "average = calculate_coprime_average(n, numbers, x)\n",
        "print(f\"{average:.2f}\")\n"
      ],
      "metadata": {
        "id": "4wTONuO7m0hn"
      },
      "execution_count": null,
      "outputs": []
    }
  ]
}