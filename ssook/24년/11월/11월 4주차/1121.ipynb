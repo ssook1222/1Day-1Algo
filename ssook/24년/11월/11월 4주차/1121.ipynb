{
  "nbformat": 4,
  "nbformat_minor": 0,
  "metadata": {
    "colab": {
      "provenance": [],
      "authorship_tag": "ABX9TyPr2YZOYw00Pa49nQnD+Qqj",
      "include_colab_link": true
    },
    "kernelspec": {
      "name": "python3",
      "display_name": "Python 3"
    },
    "language_info": {
      "name": "python"
    }
  },
  "cells": [
    {
      "cell_type": "markdown",
      "metadata": {
        "id": "view-in-github",
        "colab_type": "text"
      },
      "source": [
        "<a href=\"https://colab.research.google.com/github/ssook1222/1Day-1Algo/blob/master/ssook/24%EB%85%84/11%EC%9B%94/11%EC%9B%94%204%EC%A3%BC%EC%B0%A8/1121.ipynb\" target=\"_parent\"><img src=\"https://colab.research.google.com/assets/colab-badge.svg\" alt=\"Open In Colab\"/></a>"
      ]
    },
    {
      "cell_type": "markdown",
      "source": [
        "## BoJ"
      ],
      "metadata": {
        "id": "WSWPFXxPmvvD"
      }
    },
    {
      "cell_type": "markdown",
      "source": [
        "### 10474"
      ],
      "metadata": {
        "id": "KqXcXBWMn9nw"
      }
    },
    {
      "cell_type": "code",
      "source": [
        "while True:\n",
        "    a, b = map(int, input().split())\n",
        "    if a == b == 0:\n",
        "        break\n",
        "    print(f\"{a//b} {a%b} / {b}\")"
      ],
      "metadata": {
        "id": "4iq5qaFpmyje"
      },
      "execution_count": null,
      "outputs": []
    },
    {
      "cell_type": "markdown",
      "source": [
        "## CodeTree"
      ],
      "metadata": {
        "id": "JlqjLNIImzB5"
      }
    },
    {
      "cell_type": "markdown",
      "source": [
        "### 단어 뒤집기"
      ],
      "metadata": {
        "id": "pdRBdlgwr92i"
      }
    },
    {
      "cell_type": "code",
      "source": [
        "def reverse_words(s):\n",
        "    result = []\n",
        "    i = 0\n",
        "    n = len(s)\n",
        "\n",
        "    while i < n:\n",
        "        if s[i] == '<':  # \"<\"를 만나면\n",
        "            j = s.find('>', i)  # \">\"의 위치 찾기\n",
        "            result.append(s[i:j+1])  # \"<...>\"를 그대로 추가\n",
        "            i = j + 1  # 다음 문자로 이동\n",
        "        else:\n",
        "            start = i\n",
        "            while i < n and s[i] != ' ' and s[i] != '<':  # 단어 찾기\n",
        "                i += 1\n",
        "            word = s[start:i]  # 단어 추출\n",
        "            result.append(word[::-1])  # 단어 뒤집어서 추가\n",
        "\n",
        "        # 공백 추가\n",
        "        while i < n and s[i] == ' ':\n",
        "            result.append(' ')\n",
        "            i += 1\n",
        "\n",
        "    return ''.join(result)\n",
        "\n",
        "# 입력 처리\n",
        "input_string = input()\n",
        "output_string = reverse_words(input_string)\n",
        "print(output_string)\n"
      ],
      "metadata": {
        "id": "4wTONuO7m0hn"
      },
      "execution_count": null,
      "outputs": []
    }
  ]
}