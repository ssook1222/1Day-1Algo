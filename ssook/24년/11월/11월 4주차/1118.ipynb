{
  "nbformat": 4,
  "nbformat_minor": 0,
  "metadata": {
    "colab": {
      "provenance": [],
      "authorship_tag": "ABX9TyMFTCt2K6KiWrobyp+x6cYS",
      "include_colab_link": true
    },
    "kernelspec": {
      "name": "python3",
      "display_name": "Python 3"
    },
    "language_info": {
      "name": "python"
    }
  },
  "cells": [
    {
      "cell_type": "markdown",
      "metadata": {
        "id": "view-in-github",
        "colab_type": "text"
      },
      "source": [
        "<a href=\"https://colab.research.google.com/github/ssook1222/1Day-1Algo/blob/master/ssook/24%EB%85%84/11%EC%9B%94/11%EC%9B%94%204%EC%A3%BC%EC%B0%A8/1118.ipynb\" target=\"_parent\"><img src=\"https://colab.research.google.com/assets/colab-badge.svg\" alt=\"Open In Colab\"/></a>"
      ]
    },
    {
      "cell_type": "markdown",
      "source": [
        "## BoJ"
      ],
      "metadata": {
        "id": "WSWPFXxPmvvD"
      }
    },
    {
      "cell_type": "markdown",
      "source": [
        "### 6321"
      ],
      "metadata": {
        "id": "QGT-IpAEngIv"
      }
    },
    {
      "cell_type": "code",
      "source": [
        "n = int(input())\n",
        "\n",
        "for x in range(1, n+1) :\n",
        "  data = input()\n",
        "  result = ''\n",
        "  for i in range(len(data)) :\n",
        "    value = ord(data[i]) + 1\n",
        "    if value > 90 :\n",
        "      value = 65\n",
        "    result += chr(value)\n",
        "\n",
        "  print('String #%d' % x)\n",
        "  print(result)\n",
        "  print()"
      ],
      "metadata": {
        "id": "4iq5qaFpmyje"
      },
      "execution_count": null,
      "outputs": []
    },
    {
      "cell_type": "markdown",
      "source": [
        "## CodeTree"
      ],
      "metadata": {
        "id": "JlqjLNIImzB5"
      }
    },
    {
      "cell_type": "markdown",
      "source": [
        "### 거리 합의 최소합"
      ],
      "metadata": {
        "id": "gTZp7hLzqsLr"
      }
    },
    {
      "cell_type": "code",
      "source": [
        "def manhattan_distance(points, median_x, median_y):\n",
        "    total_distance = 0\n",
        "    for x, y in points:\n",
        "        total_distance += abs(x - median_x) + abs(y - median_y)\n",
        "    return total_distance\n",
        "\n",
        "def find_min_distance(points):\n",
        "    n = len(points)\n",
        "\n",
        "    # x 좌표와 y 좌표를 분리\n",
        "    x_coords = [point[0] for point in points]\n",
        "    y_coords = [point[1] for point in points]\n",
        "\n",
        "    # 중앙값 계산\n",
        "    x_coords.sort()\n",
        "    y_coords.sort()\n",
        "\n",
        "    median_x = x_coords[n // 2]  # n이 홀수/짝수 관계없이 중앙값\n",
        "    median_y = y_coords[n // 2]\n",
        "\n",
        "    # 거리의 합 계산\n",
        "    return manhattan_distance(points, median_x, median_y)\n",
        "\n",
        "# 입력 처리\n",
        "n = int(input())\n",
        "points = [tuple(map(int, input().split())) for _ in range(n)]\n",
        "\n",
        "# 최소 거리 합 계산\n",
        "result = find_min_distance(points)\n",
        "print(result)"
      ],
      "metadata": {
        "id": "4wTONuO7m0hn"
      },
      "execution_count": null,
      "outputs": []
    }
  ]
}