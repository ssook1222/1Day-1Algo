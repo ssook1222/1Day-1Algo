{
  "nbformat": 4,
  "nbformat_minor": 0,
  "metadata": {
    "colab": {
      "provenance": [],
      "authorship_tag": "ABX9TyP3pbMni02gBs6+yZtOQ2tw",
      "include_colab_link": true
    },
    "kernelspec": {
      "name": "python3",
      "display_name": "Python 3"
    },
    "language_info": {
      "name": "python"
    }
  },
  "cells": [
    {
      "cell_type": "markdown",
      "metadata": {
        "id": "view-in-github",
        "colab_type": "text"
      },
      "source": [
        "<a href=\"https://colab.research.google.com/github/ssook1222/1Day-1Algo/blob/master/ssook/24%EB%85%84/11%EC%9B%94/11%EC%9B%94%204%EC%A3%BC%EC%B0%A8/1119.ipynb\" target=\"_parent\"><img src=\"https://colab.research.google.com/assets/colab-badge.svg\" alt=\"Open In Colab\"/></a>"
      ]
    },
    {
      "cell_type": "markdown",
      "source": [
        "## BoJ"
      ],
      "metadata": {
        "id": "WSWPFXxPmvvD"
      }
    },
    {
      "cell_type": "markdown",
      "source": [
        "### 6131"
      ],
      "metadata": {
        "id": "HbdE-hQHntL1"
      }
    },
    {
      "cell_type": "code",
      "source": [
        "N = int(input())\n",
        "cnt = 0\n",
        "for i in range(1, N):\n",
        "    if i**2 - (i-1)**2 > N:\n",
        "        break\n",
        "    for j in range(1, i+1):\n",
        "        if i**2 - j**2 == N:\n",
        "            cnt += 1\n",
        "print(cnt)"
      ],
      "metadata": {
        "id": "4iq5qaFpmyje"
      },
      "execution_count": null,
      "outputs": []
    },
    {
      "cell_type": "markdown",
      "source": [
        "## CodeTree"
      ],
      "metadata": {
        "id": "JlqjLNIImzB5"
      }
    },
    {
      "cell_type": "markdown",
      "source": [
        "### 경우의 수 구하기"
      ],
      "metadata": {
        "id": "wNnBn96Sq7mB"
      }
    },
    {
      "cell_type": "code",
      "source": [
        "def count_combinations(n, items):\n",
        "    from collections import defaultdict\n",
        "\n",
        "    group_map = defaultdict(int)\n",
        "\n",
        "    # 그룹화: 각 그룹에 속한 물건의 수 카운트\n",
        "    for item in items:\n",
        "        name, group = item.split()\n",
        "        group_map[group] += 1\n",
        "\n",
        "    total_combinations = 1\n",
        "\n",
        "    # 각 그룹에서 선택 가능한 경우의 수를 계산\n",
        "    for count in group_map.values():\n",
        "        total_combinations *= (count + 1)  # 선택하지 않는 경우를 포함\n",
        "\n",
        "    # 최소 1개의 물건을 선택해야 하므로 1을 빼줌\n",
        "    return total_combinations - 1\n",
        "\n",
        "# 입력 처리\n",
        "n = int(input())\n",
        "items = [input().strip() for _ in range(n)]\n",
        "\n",
        "# 경우의 수 계산\n",
        "result = count_combinations(n, items)\n",
        "print(result)\n"
      ],
      "metadata": {
        "id": "4wTONuO7m0hn"
      },
      "execution_count": null,
      "outputs": []
    }
  ]
}