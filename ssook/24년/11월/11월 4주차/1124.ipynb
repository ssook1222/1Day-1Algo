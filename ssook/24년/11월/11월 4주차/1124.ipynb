{
  "nbformat": 4,
  "nbformat_minor": 0,
  "metadata": {
    "colab": {
      "provenance": [],
      "authorship_tag": "ABX9TyNQuvL7L9jvKtVZzneiyaoV",
      "include_colab_link": true
    },
    "kernelspec": {
      "name": "python3",
      "display_name": "Python 3"
    },
    "language_info": {
      "name": "python"
    }
  },
  "cells": [
    {
      "cell_type": "markdown",
      "metadata": {
        "id": "view-in-github",
        "colab_type": "text"
      },
      "source": [
        "<a href=\"https://colab.research.google.com/github/ssook1222/1Day-1Algo/blob/master/ssook/24%EB%85%84/11%EC%9B%94/11%EC%9B%94%204%EC%A3%BC%EC%B0%A8/1124.ipynb\" target=\"_parent\"><img src=\"https://colab.research.google.com/assets/colab-badge.svg\" alt=\"Open In Colab\"/></a>"
      ]
    },
    {
      "cell_type": "markdown",
      "source": [
        "## BoJ"
      ],
      "metadata": {
        "id": "WSWPFXxPmvvD"
      }
    },
    {
      "cell_type": "markdown",
      "source": [
        "### 15781"
      ],
      "metadata": {
        "id": "2JvICJk7oBDp"
      }
    },
    {
      "cell_type": "code",
      "source": [
        "N, M = map(int, input().split())\n",
        "h = max(map(int, input().split()))\n",
        "a = max(map(int, input().split()))\n",
        "print(h+a)"
      ],
      "metadata": {
        "id": "4iq5qaFpmyje"
      },
      "execution_count": null,
      "outputs": []
    },
    {
      "cell_type": "markdown",
      "source": [
        "## CodeTree"
      ],
      "metadata": {
        "id": "JlqjLNIImzB5"
      }
    },
    {
      "cell_type": "markdown",
      "source": [
        "### 산책"
      ],
      "metadata": {
        "id": "pqg7zdn5soNE"
      }
    },
    {
      "cell_type": "code",
      "source": [
        "def count_outfits(n, outfits):\n",
        "    from collections import defaultdict\n",
        "\n",
        "    # 복장 종류를 저장할 딕셔너리\n",
        "    wardrobe = defaultdict(int)\n",
        "\n",
        "    # 각 복장 종류 카운트\n",
        "    for outfit in outfits:\n",
        "        name, category = outfit.split()\n",
        "        wardrobe[category] += 1\n",
        "\n",
        "    # 가능한 조합의 수 계산\n",
        "    combinations = 1\n",
        "    for count in wardrobe.values():\n",
        "        combinations *= (count + 1)  # 각 종류에서 착용 안함 + 착용할 수 있는 수\n",
        "\n",
        "    # 전체 경우의 수에서 아무것도 안 입는 경우를 제외\n",
        "    return combinations - 1\n",
        "\n",
        "# 입력 처리\n",
        "n = int(input())\n",
        "outfits = [input().strip() for _ in range(n)]\n",
        "\n",
        "# 결과 출력\n",
        "result = count_outfits(n, outfits)\n",
        "print(result)\n"
      ],
      "metadata": {
        "id": "4wTONuO7m0hn"
      },
      "execution_count": null,
      "outputs": []
    }
  ]
}