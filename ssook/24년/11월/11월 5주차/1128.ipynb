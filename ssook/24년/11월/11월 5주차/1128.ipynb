{
  "nbformat": 4,
  "nbformat_minor": 0,
  "metadata": {
    "colab": {
      "provenance": [],
      "authorship_tag": "ABX9TyPOkkcho81WbydZc45rDvQc",
      "include_colab_link": true
    },
    "kernelspec": {
      "name": "python3",
      "display_name": "Python 3"
    },
    "language_info": {
      "name": "python"
    }
  },
  "cells": [
    {
      "cell_type": "markdown",
      "metadata": {
        "id": "view-in-github",
        "colab_type": "text"
      },
      "source": [
        "<a href=\"https://colab.research.google.com/github/ssook1222/1Day-1Algo/blob/master/ssook/24%EB%85%84/11%EC%9B%94/11%EC%9B%94%205%EC%A3%BC%EC%B0%A8/1128.ipynb\" target=\"_parent\"><img src=\"https://colab.research.google.com/assets/colab-badge.svg\" alt=\"Open In Colab\"/></a>"
      ]
    },
    {
      "cell_type": "markdown",
      "source": [
        "## BoJ"
      ],
      "metadata": {
        "id": "zqJCP2D0aQGV"
      }
    },
    {
      "cell_type": "markdown",
      "source": [
        "### 11057"
      ],
      "metadata": {
        "id": "BpoOvukeaRRq"
      }
    },
    {
      "cell_type": "code",
      "source": [
        "n = int(input())\n",
        "count = [1] * 10\n",
        "for i in range(1, n):\n",
        "    for j in range(1, 10):\n",
        "        count[j] += count[j - 1]\n",
        "\n",
        "print(sum(count) % 10007)"
      ],
      "metadata": {
        "id": "yoFWNS7EaR0G"
      },
      "execution_count": null,
      "outputs": []
    },
    {
      "cell_type": "markdown",
      "source": [
        "## CodeTree"
      ],
      "metadata": {
        "id": "CY57T0ZaaSI0"
      }
    },
    {
      "cell_type": "markdown",
      "source": [
        "### 정수를 나선형으로 배치하기"
      ],
      "metadata": {
        "id": "EF0HP8UwaTja"
      }
    },
    {
      "cell_type": "code",
      "source": [
        "def solution(n):\n",
        "    answer = [[0] * n for _ in range(n)]\n",
        "\n",
        "    dx = [0,1,0,-1]\n",
        "    dy = [1,0,-1,0]\n",
        "    x, y, dir = 0,0,0\n",
        "\n",
        "    for i in range(1, n*n+1):\n",
        "        answer[x][y] = i\n",
        "\n",
        "        nx = x + dx[dir]\n",
        "        ny = y + dy[dir]\n",
        "\n",
        "        if nx < 0 or nx >= n or ny < 0 or ny >= n or answer[nx][ny] != 0:\n",
        "            dir = (dir + 1) % 4\n",
        "            nx, ny = x + dx[dir], y + dy[dir]\n",
        "\n",
        "        x, y = nx, ny\n",
        "\n",
        "    return answer"
      ],
      "metadata": {
        "id": "ouU0vy0waULD"
      },
      "execution_count": null,
      "outputs": []
    }
  ]
}