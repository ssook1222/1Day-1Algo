{
  "nbformat": 4,
  "nbformat_minor": 0,
  "metadata": {
    "colab": {
      "provenance": [],
      "authorship_tag": "ABX9TyOEdv/+6GnYAFAJIGXyDYOT",
      "include_colab_link": true
    },
    "kernelspec": {
      "name": "python3",
      "display_name": "Python 3"
    },
    "language_info": {
      "name": "python"
    }
  },
  "cells": [
    {
      "cell_type": "markdown",
      "metadata": {
        "id": "view-in-github",
        "colab_type": "text"
      },
      "source": [
        "<a href=\"https://colab.research.google.com/github/ssook1222/1Day-1Algo/blob/master/ssook/24%EB%85%84/11%EC%9B%94/11%EC%9B%94%205%EC%A3%BC%EC%B0%A8/1127.ipynb\" target=\"_parent\"><img src=\"https://colab.research.google.com/assets/colab-badge.svg\" alt=\"Open In Colab\"/></a>"
      ]
    },
    {
      "cell_type": "markdown",
      "source": [
        "## BoJ"
      ],
      "metadata": {
        "id": "zqJCP2D0aQGV"
      }
    },
    {
      "cell_type": "markdown",
      "source": [
        "### 11052"
      ],
      "metadata": {
        "id": "BpoOvukeaRRq"
      }
    },
    {
      "cell_type": "code",
      "source": [
        "n = int(input())\n",
        "prices = list(map(int, input().split()))\n",
        "prices.insert(0, 0)\n",
        "dp = [0 for _ in range(n + 1)]\n",
        "\n",
        "for i in range(1, n + 1):\n",
        "    for j in range(1, i + 1):\n",
        "        dp[i] = max(dp[i], prices[j] + dp[i - j])\n",
        "print(dp[n])"
      ],
      "metadata": {
        "id": "yoFWNS7EaR0G"
      },
      "execution_count": null,
      "outputs": []
    },
    {
      "cell_type": "markdown",
      "source": [
        "## CodeTree"
      ],
      "metadata": {
        "id": "CY57T0ZaaSI0"
      }
    },
    {
      "cell_type": "markdown",
      "source": [
        "### 조건에 맞게 수열 변환하기 3\n"
      ],
      "metadata": {
        "id": "EF0HP8UwaTja"
      }
    },
    {
      "cell_type": "code",
      "source": [
        "def solution(arr, k):\n",
        "    answer = []\n",
        "\n",
        "    if k % 2 != 0:\n",
        "        for i in range(len(arr)):\n",
        "            arr[i] = arr[i] * k\n",
        "    else:\n",
        "        for i in range(len(arr)):\n",
        "            arr[i] = arr[i] + k\n",
        "\n",
        "    return arr"
      ],
      "metadata": {
        "id": "ouU0vy0waULD"
      },
      "execution_count": null,
      "outputs": []
    }
  ]
}