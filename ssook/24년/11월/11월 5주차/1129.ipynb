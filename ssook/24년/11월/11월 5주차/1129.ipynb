{
  "nbformat": 4,
  "nbformat_minor": 0,
  "metadata": {
    "colab": {
      "provenance": [],
      "authorship_tag": "ABX9TyMn4EeJdD8908VDS7CjoJq8",
      "include_colab_link": true
    },
    "kernelspec": {
      "name": "python3",
      "display_name": "Python 3"
    },
    "language_info": {
      "name": "python"
    }
  },
  "cells": [
    {
      "cell_type": "markdown",
      "metadata": {
        "id": "view-in-github",
        "colab_type": "text"
      },
      "source": [
        "<a href=\"https://colab.research.google.com/github/ssook1222/1Day-1Algo/blob/master/ssook/24%EB%85%84/11%EC%9B%94/11%EC%9B%94%205%EC%A3%BC%EC%B0%A8/1129.ipynb\" target=\"_parent\"><img src=\"https://colab.research.google.com/assets/colab-badge.svg\" alt=\"Open In Colab\"/></a>"
      ]
    },
    {
      "cell_type": "markdown",
      "source": [
        "## BoJ"
      ],
      "metadata": {
        "id": "zqJCP2D0aQGV"
      }
    },
    {
      "cell_type": "markdown",
      "source": [
        "### 1890"
      ],
      "metadata": {
        "id": "BpoOvukeaRRq"
      }
    },
    {
      "cell_type": "code",
      "source": [
        "import sys\n",
        "input = sys.stdin.readline\n",
        "\n",
        "n = int(input())  # 게임판의 크기\n",
        "game_board = [input().split() for _ in range(n)]\n",
        "m = len(game_board[0])  # 열의 길이\n",
        "dp = [[0] * m for _ in range(n)]\n",
        "dp[0][0] = 1\n",
        "\n",
        "def count_paths():\n",
        "    for i in range(n):\n",
        "        for j in range(m):\n",
        "            jump_distance = int(game_board[i][j])\n",
        "            # 이동 가능한 거리가 0이라면 넘어간다.\n",
        "            # 또는 dp가 0이라는 것은 현재 위치에 도달할 수 없음을 의미함으로 넘어간다.\n",
        "            if jump_distance == 0 or dp[i][j] == 0:\n",
        "                continue\n",
        "            if i + jump_distance < n:  # 아래쪽으로 이동하는 경우\n",
        "                dp[i + jump_distance][j] += dp[i][j]\n",
        "            if j + jump_distance < m:  # 오른쪽으로 이동하는 경우\n",
        "                dp[i][j + jump_distance] += dp[i][j]\n",
        "    return dp[-1][-1]  # 가장 오른쪽 아래에 담긴 경우의 수를 return\n",
        "\n",
        "print(count_paths())"
      ],
      "metadata": {
        "id": "yoFWNS7EaR0G"
      },
      "execution_count": null,
      "outputs": []
    },
    {
      "cell_type": "markdown",
      "source": [
        "## CodeTree"
      ],
      "metadata": {
        "id": "CY57T0ZaaSI0"
      }
    },
    {
      "cell_type": "markdown",
      "source": [
        "### 정사각형으로 만들기\n"
      ],
      "metadata": {
        "id": "EF0HP8UwaTja"
      }
    },
    {
      "cell_type": "code",
      "source": [
        "def solution(arr):\n",
        "\n",
        "    num_rows = len(arr)\n",
        "    num_cols = len(arr[0])\n",
        "\n",
        "    if num_rows > num_cols:\n",
        "        for i in range(num_rows):\n",
        "            while len(arr[i]) < num_rows:\n",
        "                arr[i].append(0)\n",
        "\n",
        "    else:\n",
        "        for i in range(num_rows):\n",
        "            while len(arr[i]) < num_cols:\n",
        "                arr[i].append(0)\n",
        "        while len(arr) < num_cols:\n",
        "            arr.append([0] * num_cols)\n",
        "\n",
        "    return arr"
      ],
      "metadata": {
        "id": "ouU0vy0waULD"
      },
      "execution_count": null,
      "outputs": []
    }
  ]
}