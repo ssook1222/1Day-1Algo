{
  "nbformat": 4,
  "nbformat_minor": 0,
  "metadata": {
    "colab": {
      "provenance": [],
      "authorship_tag": "ABX9TyMUEu9VQiptuk0MatZxtIJQ",
      "include_colab_link": true
    },
    "kernelspec": {
      "name": "python3",
      "display_name": "Python 3"
    },
    "language_info": {
      "name": "python"
    }
  },
  "cells": [
    {
      "cell_type": "markdown",
      "metadata": {
        "id": "view-in-github",
        "colab_type": "text"
      },
      "source": [
        "<a href=\"https://colab.research.google.com/github/ssook1222/1Day-1Algo/blob/master/ssook/24%EB%85%84/11%EC%9B%94/11%EC%9B%94%205%EC%A3%BC%EC%B0%A8/1126.ipynb\" target=\"_parent\"><img src=\"https://colab.research.google.com/assets/colab-badge.svg\" alt=\"Open In Colab\"/></a>"
      ]
    },
    {
      "cell_type": "markdown",
      "source": [
        "## BoJ"
      ],
      "metadata": {
        "id": "zqJCP2D0aQGV"
      }
    },
    {
      "cell_type": "markdown",
      "source": [
        "### 9465"
      ],
      "metadata": {
        "id": "BpoOvukeaRRq"
      }
    },
    {
      "cell_type": "code",
      "source": [
        "import sys\n",
        "input = sys.stdin.readline\n",
        "\n",
        "T = int(input())\n",
        "for _ in range(T):\n",
        "    n = int(input())\n",
        "    stickers = [list(map(int, input().split())) for _ in range(2)]\n",
        "\n",
        "    # 2행 DP 배열 형성\n",
        "    dp = [[0] * n for _ in range(2)]\n",
        "\n",
        "    # 스티커 길이가 1일 경우\n",
        "    dp[0][0] = stickers[0][0]\n",
        "    dp[1][0] = stickers[1][0]\n",
        "    if n == 1:\n",
        "        print(max(dp[0][0], dp[1][0]))\n",
        "        continue\n",
        "\n",
        "    # 스티커 길이가 2일 경우\n",
        "    dp[0][1] = stickers[1][0] + stickers[0][1]\n",
        "    dp[1][1] = stickers[0][0] + stickers[1][1]\n",
        "    if n == 2:\n",
        "        print(max(dp[0][1], dp[1][1]))\n",
        "        continue\n",
        "\n",
        "    # 스티커 길이가 3이상일 경우\n",
        "    for i in range(2, n):\n",
        "        # 메인 아이디어\n",
        "        dp[0][i] = max(dp[1][i - 2], dp[1][i - 1]) + stickers[0][i]\n",
        "        dp[1][i] = max(dp[0][i - 2], dp[0][i - 1]) + stickers[1][i]\n",
        "\n",
        "    print(max(dp[0][-1], dp[1][-1]))"
      ],
      "metadata": {
        "id": "yoFWNS7EaR0G"
      },
      "execution_count": null,
      "outputs": []
    },
    {
      "cell_type": "markdown",
      "source": [
        "## CodeTree"
      ],
      "metadata": {
        "id": "CY57T0ZaaSI0"
      }
    },
    {
      "cell_type": "markdown",
      "source": [
        "### 커피 심부름\n"
      ],
      "metadata": {
        "id": "EF0HP8UwaTja"
      }
    },
    {
      "cell_type": "code",
      "source": [
        "def solution(order):\n",
        "    answer = 0\n",
        "\n",
        "    for i in order:\n",
        "        if i == 'iceamericano' or i == 'americanoice' or i == 'americano' or i == 'anything':\n",
        "            answer += 4500\n",
        "\n",
        "        if i == 'hotamericano' or i == 'americanohot':\n",
        "            answer += 4500\n",
        "\n",
        "        if i == 'icecafelatte' or i == 'cafelatteice' or i == 'cafelatte':\n",
        "            answer += 5000\n",
        "\n",
        "        if i == 'hotcafelatte' or i == 'cafelattehot':\n",
        "            answer += 5000\n",
        "\n",
        "\n",
        "\n",
        "    return answer"
      ],
      "metadata": {
        "id": "ouU0vy0waULD"
      },
      "execution_count": null,
      "outputs": []
    }
  ]
}