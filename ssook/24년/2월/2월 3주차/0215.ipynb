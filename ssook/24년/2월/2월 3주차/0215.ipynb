{
  "nbformat": 4,
  "nbformat_minor": 0,
  "metadata": {
    "colab": {
      "provenance": [],
      "authorship_tag": "ABX9TyNqCxFGshn3oDWhQtB2kTx+",
      "include_colab_link": true
    },
    "kernelspec": {
      "name": "python3",
      "display_name": "Python 3"
    },
    "language_info": {
      "name": "python"
    }
  },
  "cells": [
    {
      "cell_type": "markdown",
      "metadata": {
        "id": "view-in-github",
        "colab_type": "text"
      },
      "source": [
        "<a href=\"https://colab.research.google.com/github/ssook1222/1Day-1Algo/blob/master/ssook/24%EB%85%84/2%EC%9B%94/2%EC%9B%94%203%EC%A3%BC%EC%B0%A8/0215.ipynb\" target=\"_parent\"><img src=\"https://colab.research.google.com/assets/colab-badge.svg\" alt=\"Open In Colab\"/></a>"
      ]
    },
    {
      "cell_type": "markdown",
      "source": [
        "## BoJ"
      ],
      "metadata": {
        "id": "MsHjT4FE28DP"
      }
    },
    {
      "cell_type": "markdown",
      "source": [
        "### 26575"
      ],
      "metadata": {
        "id": "kidtvAgm29sO"
      }
    },
    {
      "cell_type": "code",
      "source": [
        "n = int(input())\n",
        "\n",
        "for _ in range(n):\n",
        "  n, f, p = map(float, input().split())\n",
        "  total = n * f * p\n",
        "  print('$%.2f' %total)"
      ],
      "metadata": {
        "colab": {
          "base_uri": "https://localhost:8080/"
        },
        "id": "do-zCXDY2-_n",
        "outputId": "7d652ce5-c6f8-4ff7-c883-abe0402183a1"
      },
      "execution_count": null,
      "outputs": [
        {
          "output_type": "stream",
          "name": "stdout",
          "text": [
            "3\n",
            "3 2 1\n",
            "6.00\n",
            "5 .16 4.54\n",
            "3.63\n",
            "3 3.7 3.6\n",
            "39.96\n"
          ]
        }
      ]
    },
    {
      "cell_type": "markdown",
      "source": [
        "### 30007"
      ],
      "metadata": {
        "id": "vWxULk982-jd"
      }
    },
    {
      "cell_type": "code",
      "execution_count": null,
      "metadata": {
        "colab": {
          "base_uri": "https://localhost:8080/"
        },
        "id": "DI64t-hD26oE",
        "outputId": "3695fac4-df31-4ad7-e3d5-fc42d8447c0a"
      },
      "outputs": [
        {
          "output_type": "stream",
          "name": "stdout",
          "text": [
            "2\n",
            "500 550 4\n",
            "2050\n",
            "450 500 7\n",
            "3200\n"
          ]
        }
      ],
      "source": [
        "n = int(input())\n",
        "\n",
        "for _ in range(n):\n",
        "  a, b, x = map(int, input().split())\n",
        "  ans = ( a * (x - 1) + b )\n",
        "\n",
        "  print(ans)"
      ]
    },
    {
      "cell_type": "markdown",
      "source": [
        "---"
      ],
      "metadata": {
        "id": "RJEdTXMa2_6a"
      }
    },
    {
      "cell_type": "markdown",
      "source": [
        "## CodeTree"
      ],
      "metadata": {
        "id": "AOI1bdXy3CV2"
      }
    },
    {
      "cell_type": "markdown",
      "source": [
        "### 십진수와 이진수 2"
      ],
      "metadata": {
        "id": "_QO5wzBS3Ddr"
      }
    },
    {
      "cell_type": "code",
      "source": [
        "n = int(input(), 2)\n",
        "n *= 17\n",
        "nb = bin(n)[2:]\n",
        "\n",
        "print(nb)"
      ],
      "metadata": {
        "id": "AhaHBlgw3ESH"
      },
      "execution_count": null,
      "outputs": []
    }
  ]
}