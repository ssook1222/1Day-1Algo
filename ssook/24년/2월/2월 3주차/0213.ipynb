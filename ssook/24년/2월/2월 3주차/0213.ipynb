{
  "nbformat": 4,
  "nbformat_minor": 0,
  "metadata": {
    "colab": {
      "provenance": [],
      "authorship_tag": "ABX9TyM+LjJX9GJEvwckTrgwpUap",
      "include_colab_link": true
    },
    "kernelspec": {
      "name": "python3",
      "display_name": "Python 3"
    },
    "language_info": {
      "name": "python"
    }
  },
  "cells": [
    {
      "cell_type": "markdown",
      "metadata": {
        "id": "view-in-github",
        "colab_type": "text"
      },
      "source": [
        "<a href=\"https://colab.research.google.com/github/ssook1222/1Day-1Algo/blob/master/ssook/24%EB%85%84/2%EC%9B%94/2%EC%9B%94%203%EC%A3%BC%EC%B0%A8/0213.ipynb\" target=\"_parent\"><img src=\"https://colab.research.google.com/assets/colab-badge.svg\" alt=\"Open In Colab\"/></a>"
      ]
    },
    {
      "cell_type": "markdown",
      "source": [
        "## BoJ"
      ],
      "metadata": {
        "id": "ZorkZdA7ryni"
      }
    },
    {
      "cell_type": "markdown",
      "source": [
        "### 10189"
      ],
      "metadata": {
        "id": "b7H3ekVhrz7J"
      }
    },
    {
      "cell_type": "code",
      "execution_count": 1,
      "metadata": {
        "colab": {
          "base_uri": "https://localhost:8080/"
        },
        "id": "dMUJT5Frre6q",
        "outputId": "cd98a2f6-323c-4680-98b5-99ada1a7ce52"
      },
      "outputs": [
        {
          "output_type": "stream",
          "name": "stdout",
          "text": [
            "#  # #### #### #  #\n",
            "#### #  # #  # # #\n",
            "#### #  # #  # # #\n",
            "#  # #### #### #  #\n"
          ]
        }
      ],
      "source": [
        "print(\"\"\"#  # #### #### #  #\n",
        "#### #  # #  # # #\n",
        "#### #  # #  # # #\n",
        "#  # #### #### #  #\"\"\")"
      ]
    },
    {
      "cell_type": "markdown",
      "source": [
        "###"
      ],
      "metadata": {
        "id": "Q_VPywzGr03t"
      }
    },
    {
      "cell_type": "code",
      "source": [
        "bottles = list(map(int, input().split()))\n",
        "hap = sum(bottles)\n",
        "\n",
        "print(hap*5)"
      ],
      "metadata": {
        "colab": {
          "base_uri": "https://localhost:8080/"
        },
        "id": "YDL9fic2r1Yz",
        "outputId": "740adb3c-b2e9-4ebd-ad3e-1950187989b0"
      },
      "execution_count": 2,
      "outputs": [
        {
          "output_type": "stream",
          "name": "stdout",
          "text": [
            "0 0 0 23 3 100\n",
            "630\n"
          ]
        }
      ]
    },
    {
      "cell_type": "markdown",
      "source": [
        "---"
      ],
      "metadata": {
        "id": "aBBLxrqfr1oY"
      }
    },
    {
      "cell_type": "markdown",
      "source": [
        "## CodeTree"
      ],
      "metadata": {
        "id": "tWo-xMUIr2xx"
      }
    },
    {
      "cell_type": "markdown",
      "source": [
        "### 순서를 바꾸었을 때 같은 단어인지 판별하기"
      ],
      "metadata": {
        "id": "PME7hLYMr4lD"
      }
    },
    {
      "cell_type": "code",
      "source": [
        "a = list(input())\n",
        "b = list(input())\n",
        "\n",
        "a.sort()\n",
        "b.sort()\n",
        "\n",
        "if a == b:\n",
        "    print('Yes')\n",
        "\n",
        "else:\n",
        "    print('No')"
      ],
      "metadata": {
        "id": "xdajErNur5LV"
      },
      "execution_count": null,
      "outputs": []
    }
  ]
}