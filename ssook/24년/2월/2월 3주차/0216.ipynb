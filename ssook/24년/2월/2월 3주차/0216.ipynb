{
  "nbformat": 4,
  "nbformat_minor": 0,
  "metadata": {
    "colab": {
      "provenance": [],
      "authorship_tag": "ABX9TyP1kCO0VFAyFgRg+jDoZcN7",
      "include_colab_link": true
    },
    "kernelspec": {
      "name": "python3",
      "display_name": "Python 3"
    },
    "language_info": {
      "name": "python"
    }
  },
  "cells": [
    {
      "cell_type": "markdown",
      "metadata": {
        "id": "view-in-github",
        "colab_type": "text"
      },
      "source": [
        "<a href=\"https://colab.research.google.com/github/ssook1222/1Day-1Algo/blob/master/ssook/24%EB%85%84/2%EC%9B%94/2%EC%9B%94%203%EC%A3%BC%EC%B0%A8/0216.ipynb\" target=\"_parent\"><img src=\"https://colab.research.google.com/assets/colab-badge.svg\" alt=\"Open In Colab\"/></a>"
      ]
    },
    {
      "cell_type": "markdown",
      "source": [
        "## BoJ"
      ],
      "metadata": {
        "id": "Q3dBORxs9jHl"
      }
    },
    {
      "cell_type": "markdown",
      "source": [
        "### 28927"
      ],
      "metadata": {
        "id": "CbXwH5Vl9lLF"
      }
    },
    {
      "cell_type": "code",
      "execution_count": null,
      "metadata": {
        "colab": {
          "base_uri": "https://localhost:8080/"
        },
        "id": "zHjHLd8M9hPQ",
        "outputId": "8ccb0a28-db25-4245-d193-70ed189dbadd"
      },
      "outputs": [
        {
          "output_type": "stream",
          "name": "stdout",
          "text": [
            "15 1 3\n",
            "1 3 3\n",
            "Max\n"
          ]
        }
      ],
      "source": [
        "max_cnt = 0\n",
        "mel_cnt = 0\n",
        "\n",
        "t1, e1, f1 = map(int, input().split())\n",
        "t2, e2, f2 = map(int, input().split())\n",
        "\n",
        "max_cnt = t1 * 3 + e1 * 20 + f1 * 120\n",
        "mel_cnt = t2 * 3 + e2 * 20 + f2 * 120\n",
        "\n",
        "if max_cnt > mel_cnt:\n",
        "  print('Max')\n",
        "\n",
        "elif max_cnt < mel_cnt:\n",
        "  print('Mel')\n",
        "\n",
        "else:\n",
        "  print('Draw')"
      ]
    },
    {
      "cell_type": "markdown",
      "source": [
        "### 26082"
      ],
      "metadata": {
        "id": "o2_e-rfo9l8c"
      }
    },
    {
      "cell_type": "code",
      "source": [
        "gasungbi = 0\n",
        "\n",
        "a, b, c = map(int, input().split())\n",
        "gasungbi = b / a\n",
        "real = gasungbi * 3\n",
        "\n",
        "ans = real * c\n",
        "\n",
        "print(\"%d\" %ans)"
      ],
      "metadata": {
        "colab": {
          "base_uri": "https://localhost:8080/"
        },
        "id": "xOvDpfJ09mnp",
        "outputId": "4e256084-6b72-4bfc-a154-a3ee5ff1e814"
      },
      "execution_count": null,
      "outputs": [
        {
          "output_type": "stream",
          "name": "stdout",
          "text": [
            "10 100 7\n",
            "210\n"
          ]
        }
      ]
    },
    {
      "cell_type": "markdown",
      "source": [
        "## CodeTree"
      ],
      "metadata": {
        "id": "EOtahOEb9nhv"
      }
    },
    {
      "cell_type": "markdown",
      "source": [
        "### 1부터 특정 수까지의 합"
      ],
      "metadata": {
        "id": "oHPYfOvl9o2p"
      }
    },
    {
      "cell_type": "code",
      "source": [
        "def ans(n):\n",
        "    hap = 0\n",
        "    for i in range(1, n+1):\n",
        "        hap += i\n",
        "    return hap // 10\n",
        "\n",
        "n = int(input())\n",
        "print(ans(n))"
      ],
      "metadata": {
        "id": "TFDrY2m29ph2"
      },
      "execution_count": null,
      "outputs": []
    }
  ]
}