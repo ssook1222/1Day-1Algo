{
  "nbformat": 4,
  "nbformat_minor": 0,
  "metadata": {
    "colab": {
      "provenance": [],
      "authorship_tag": "ABX9TyPVuEoEbrEFw8m9ibKucBYv",
      "include_colab_link": true
    },
    "kernelspec": {
      "name": "python3",
      "display_name": "Python 3"
    },
    "language_info": {
      "name": "python"
    }
  },
  "cells": [
    {
      "cell_type": "markdown",
      "metadata": {
        "id": "view-in-github",
        "colab_type": "text"
      },
      "source": [
        "<a href=\"https://colab.research.google.com/github/ssook1222/1Day-1Algo/blob/master/ssook/24%EB%85%84/2%EC%9B%94/2%EC%9B%94%203%EC%A3%BC%EC%B0%A8/0217.ipynb\" target=\"_parent\"><img src=\"https://colab.research.google.com/assets/colab-badge.svg\" alt=\"Open In Colab\"/></a>"
      ]
    },
    {
      "cell_type": "markdown",
      "source": [
        "## BoJ"
      ],
      "metadata": {
        "id": "C0HmwNkXER4j"
      }
    },
    {
      "cell_type": "markdown",
      "source": [
        "### 26489"
      ],
      "metadata": {
        "id": "XVxSnQfMETLy"
      }
    },
    {
      "cell_type": "code",
      "execution_count": null,
      "metadata": {
        "id": "4U3zRpLZEPmh"
      },
      "outputs": [],
      "source": [
        "cnt = 0\n",
        "\n",
        "while True:\n",
        "  try:\n",
        "    input()\n",
        "    cnt += 1\n",
        "  except EOFError:\n",
        "    break\n",
        "\n",
        "print(cnt)"
      ]
    },
    {
      "cell_type": "markdown",
      "source": [
        "### 6764"
      ],
      "metadata": {
        "id": "RZIIwbDWEULG"
      }
    },
    {
      "cell_type": "code",
      "source": [
        "ori = []\n",
        "for _ in range(4):\n",
        "  ori.append(int(input()))\n",
        "\n",
        "ori_set = list(set(ori))\n",
        "\n",
        "if len(ori_set) == 1:\n",
        "  print('Fish At Constant Depth')\n",
        "\n",
        "elif ori[0] < ori[1] and ori[1] < ori[2] and ori[2] < ori[3]:\n",
        "  print('Fish Rising')\n",
        "\n",
        "elif ori[0] > ori[1] and ori[1] > ori[2] and ori[2] > ori[3]:\n",
        "  print('Fish Diving')\n",
        "\n",
        "else:\n",
        "  print('No Fish')"
      ],
      "metadata": {
        "colab": {
          "base_uri": "https://localhost:8080/"
        },
        "id": "4Ejq6WCFEUug",
        "outputId": "60710d98-fd4c-44d8-abb7-b577eb4b1f79"
      },
      "execution_count": null,
      "outputs": [
        {
          "output_type": "stream",
          "name": "stdout",
          "text": [
            "1\n",
            "1\n",
            "2\n",
            "1\n",
            "No Fish\n"
          ]
        }
      ]
    },
    {
      "cell_type": "markdown",
      "source": [
        "---"
      ],
      "metadata": {
        "id": "l52-gQlgEVYN"
      }
    },
    {
      "cell_type": "markdown",
      "source": [
        "## CodeTree"
      ],
      "metadata": {
        "id": "FtsqlNq_EWa6"
      }
    },
    {
      "cell_type": "markdown",
      "source": [
        "### 짝수이면서 합이 5의 배수인 수"
      ],
      "metadata": {
        "id": "LnfKEV1iEXjq"
      }
    },
    {
      "cell_type": "code",
      "source": [
        "def ans(n):\n",
        "    if n % 2 == 0 and (int(str(n)[0]) + int(str(n)[1])) % 5 == 0:\n",
        "        return True\n",
        "    else:\n",
        "        return False\n",
        "\n",
        "n = int(input())\n",
        "\n",
        "if ans(n):\n",
        "    print(\"Yes\")\n",
        "else:\n",
        "    print(\"No\")"
      ],
      "metadata": {
        "id": "4tovc6zeEYUd"
      },
      "execution_count": null,
      "outputs": []
    }
  ]
}