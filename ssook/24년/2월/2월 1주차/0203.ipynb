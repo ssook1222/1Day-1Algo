{
  "nbformat": 4,
  "nbformat_minor": 0,
  "metadata": {
    "colab": {
      "provenance": [],
      "authorship_tag": "ABX9TyNofcO5/Iz8k6Q/JBWMrWkn",
      "include_colab_link": true
    },
    "kernelspec": {
      "name": "python3",
      "display_name": "Python 3"
    },
    "language_info": {
      "name": "python"
    }
  },
  "cells": [
    {
      "cell_type": "markdown",
      "metadata": {
        "id": "view-in-github",
        "colab_type": "text"
      },
      "source": [
        "<a href=\"https://colab.research.google.com/github/ssook1222/1Day-1Algo/blob/master/ssook/24%EB%85%84/2%EC%9B%94/2%EC%9B%94%201%EC%A3%BC%EC%B0%A8/0203.ipynb\" target=\"_parent\"><img src=\"https://colab.research.google.com/assets/colab-badge.svg\" alt=\"Open In Colab\"/></a>"
      ]
    },
    {
      "cell_type": "markdown",
      "source": [
        "## BoJ"
      ],
      "metadata": {
        "id": "NqTBYS14C--_"
      }
    },
    {
      "cell_type": "markdown",
      "source": [
        "### 27541"
      ],
      "metadata": {
        "id": "k--X2801DDwn"
      }
    },
    {
      "cell_type": "code",
      "execution_count": null,
      "metadata": {
        "colab": {
          "base_uri": "https://localhost:8080/"
        },
        "id": "VrKQBFofCbFa",
        "outputId": "7284f0de-4846-49a8-d70c-93436bdad32e"
      },
      "outputs": [
        {
          "output_type": "stream",
          "name": "stdout",
          "text": [
            "3\n",
            "EGG\n",
            "EG\n"
          ]
        }
      ],
      "source": [
        "n = int(input())\n",
        "\n",
        "s = input()\n",
        "if s[-1] == 'G':\n",
        "  print(s[:-1])\n",
        "\n",
        "else:\n",
        "  print(s+'G')"
      ]
    },
    {
      "cell_type": "markdown",
      "source": [
        "### 25858"
      ],
      "metadata": {
        "id": "0hcHvZoyDEcF"
      }
    },
    {
      "cell_type": "code",
      "source": [
        "n, total = map(int, input().split())\n",
        "\n",
        "nums = []\n",
        "\n",
        "for _ in range(n):\n",
        "  nums.append(int(input()))\n",
        "\n",
        "hap = sum(nums)\n",
        "\n",
        "for i in range(n):\n",
        "  nums[i] = (nums[i] / hap) * total\n",
        "\n",
        "for num in nums:\n",
        "  print(int(num))"
      ],
      "metadata": {
        "colab": {
          "base_uri": "https://localhost:8080/"
        },
        "id": "-wLyWB_lDE-j",
        "outputId": "dcc0de51-eff1-4c0f-eac4-9ba5fbdcb4f1"
      },
      "execution_count": null,
      "outputs": [
        {
          "output_type": "stream",
          "name": "stdout",
          "text": [
            "1 500\n",
            "10\n",
            "500\n"
          ]
        }
      ]
    },
    {
      "cell_type": "markdown",
      "source": [
        "---"
      ],
      "metadata": {
        "id": "p60LiNcmDFoG"
      }
    },
    {
      "cell_type": "markdown",
      "source": [
        "## CodeTree"
      ],
      "metadata": {
        "id": "oTHUo5hoDGbO"
      }
    },
    {
      "cell_type": "markdown",
      "source": [
        "### 아스키코드의 합과 차"
      ],
      "metadata": {
        "id": "kOO4GSZeDIKy"
      }
    },
    {
      "cell_type": "code",
      "source": [
        "a, b = map(str, input().split())\n",
        "\n",
        "a = ord(a)\n",
        "b = ord(b)\n",
        "\n",
        "cha = a - b if a > b else b - a\n",
        "\n",
        "print(a+b, cha)"
      ],
      "metadata": {
        "id": "AHd1kty2DI12"
      },
      "execution_count": null,
      "outputs": []
    }
  ]
}