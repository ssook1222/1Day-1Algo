{
  "nbformat": 4,
  "nbformat_minor": 0,
  "metadata": {
    "colab": {
      "provenance": [],
      "authorship_tag": "ABX9TyOoVk4PoXLd9SJZURJWbsQ1",
      "include_colab_link": true
    },
    "kernelspec": {
      "name": "python3",
      "display_name": "Python 3"
    },
    "language_info": {
      "name": "python"
    }
  },
  "cells": [
    {
      "cell_type": "markdown",
      "metadata": {
        "id": "view-in-github",
        "colab_type": "text"
      },
      "source": [
        "<a href=\"https://colab.research.google.com/github/ssook1222/1Day-1Algo/blob/master/ssook/24%EB%85%84/2%EC%9B%94/2%EC%9B%94%201%EC%A3%BC%EC%B0%A8/0201.ipynb\" target=\"_parent\"><img src=\"https://colab.research.google.com/assets/colab-badge.svg\" alt=\"Open In Colab\"/></a>"
      ]
    },
    {
      "cell_type": "markdown",
      "source": [
        "## BoJ"
      ],
      "metadata": {
        "id": "Bx4WXc2-x08F"
      }
    },
    {
      "cell_type": "markdown",
      "source": [
        "### 27328"
      ],
      "metadata": {
        "id": "er09Oi_zx3ER"
      }
    },
    {
      "cell_type": "code",
      "execution_count": null,
      "metadata": {
        "colab": {
          "base_uri": "https://localhost:8080/"
        },
        "id": "mymA7C91xzDo",
        "outputId": "0ff6e2f6-083f-4530-f30b-c934d54240cb"
      },
      "outputs": [
        {
          "output_type": "stream",
          "name": "stdout",
          "text": [
            "1000\n",
            "1\n",
            "1\n"
          ]
        }
      ],
      "source": [
        "a = int(input())\n",
        "b = int(input())\n",
        "\n",
        "if a < b :\n",
        "  print(-1)\n",
        "elif a == b:\n",
        "  print(0)\n",
        "else:\n",
        "  print(1)"
      ]
    },
    {
      "cell_type": "markdown",
      "source": [
        "### 31306"
      ],
      "metadata": {
        "id": "ZvjGUUgex5H6"
      }
    },
    {
      "cell_type": "code",
      "source": [
        "s = input()\n",
        "vowel_ori = ['a', 'e', 'i', 'o', 'u']\n",
        "vowel_new = ['a', 'e', 'i', 'o', 'u', 'y']\n",
        "\n",
        "ori = 0\n",
        "new = 0\n",
        "\n",
        "for c in s:\n",
        "  if c in vowel_ori:\n",
        "    ori += 1\n",
        "  if c in vowel_new:\n",
        "    new += 1\n",
        "\n",
        "print(ori, new)"
      ],
      "metadata": {
        "colab": {
          "base_uri": "https://localhost:8080/"
        },
        "id": "mibCvFEgx5yK",
        "outputId": "a802fd57-34e8-4e5a-ea19-f08257b24544"
      },
      "execution_count": null,
      "outputs": [
        {
          "output_type": "stream",
          "name": "stdout",
          "text": [
            "asdfiy\n",
            "2 3\n"
          ]
        }
      ]
    },
    {
      "cell_type": "markdown",
      "source": [
        "---"
      ],
      "metadata": {
        "id": "hIo0o5Gtx6Ik"
      }
    },
    {
      "cell_type": "markdown",
      "source": [
        "## CodeTree"
      ],
      "metadata": {
        "id": "esSATdhNx6-2"
      }
    },
    {
      "cell_type": "markdown",
      "source": [
        "### 사각형의 넓이 계속 계산하기"
      ],
      "metadata": {
        "id": "uBL75TSGx8kC"
      }
    },
    {
      "cell_type": "code",
      "source": [
        "while True:\n",
        "    w,h,c = map(str, input().split())\n",
        "    w = int(w)\n",
        "    h = int(h)\n",
        "    print(w*h)\n",
        "\n",
        "    if c == 'C':\n",
        "        break"
      ],
      "metadata": {
        "id": "3VzvsKLpx9OI"
      },
      "execution_count": null,
      "outputs": []
    }
  ]
}