{
  "nbformat": 4,
  "nbformat_minor": 0,
  "metadata": {
    "colab": {
      "provenance": [],
      "authorship_tag": "ABX9TyNRKD04n25uBf6VdjXZBZiz",
      "include_colab_link": true
    },
    "kernelspec": {
      "name": "python3",
      "display_name": "Python 3"
    },
    "language_info": {
      "name": "python"
    }
  },
  "cells": [
    {
      "cell_type": "markdown",
      "metadata": {
        "id": "view-in-github",
        "colab_type": "text"
      },
      "source": [
        "<a href=\"https://colab.research.google.com/github/ssook1222/1Day-1Algo/blob/master/ssook/24%EB%85%84/2%EC%9B%94/2%EC%9B%94%201%EC%A3%BC%EC%B0%A8/0202.ipynb\" target=\"_parent\"><img src=\"https://colab.research.google.com/assets/colab-badge.svg\" alt=\"Open In Colab\"/></a>"
      ]
    },
    {
      "cell_type": "markdown",
      "source": [
        "## BoJ"
      ],
      "metadata": {
        "id": "JzPX1hH447MH"
      }
    },
    {
      "cell_type": "markdown",
      "source": [
        "### 28235"
      ],
      "metadata": {
        "id": "Lk5lYeQE48sW"
      }
    },
    {
      "cell_type": "code",
      "execution_count": null,
      "metadata": {
        "colab": {
          "base_uri": "https://localhost:8080/"
        },
        "id": "K-EW0iAf45rG",
        "outputId": "55d00cf9-6cf2-4547-ad92-001896e465b2"
      },
      "outputs": [
        {
          "output_type": "stream",
          "name": "stdout",
          "text": [
            "CODE\n",
            "MASTER\n"
          ]
        }
      ],
      "source": [
        "s = input()\n",
        "\n",
        "if s == 'SONGDO':\n",
        "  print('HIGHSCHOOL')\n",
        "\n",
        "elif s == 'CODE':\n",
        "  print('MASTER')\n",
        "\n",
        "elif s == '2023':\n",
        "  print('0611')\n",
        "\n",
        "elif s == 'ALGORITHM':\n",
        "  print('CONTEST')"
      ]
    },
    {
      "cell_type": "markdown",
      "source": [
        "### 27918"
      ],
      "metadata": {
        "id": "6zFtlh2J49sM"
      }
    },
    {
      "cell_type": "code",
      "source": [
        "import sys\n",
        "\n",
        "n = int(sys.stdin.readline().rstrip())\n",
        "d = 0\n",
        "p = 0\n",
        "\n",
        "score = [sys.stdin.readline().rstrip() for _ in range(n)]\n",
        "\n",
        "for s in score:\n",
        "    if s == \"D\":\n",
        "        d += 1\n",
        "    else:\n",
        "        p += 1\n",
        "\n",
        "    if abs(d - p) >= 2:\n",
        "        break\n",
        "\n",
        "print(\"%d:%d\" %(d,p))"
      ],
      "metadata": {
        "colab": {
          "base_uri": "https://localhost:8080/"
        },
        "id": "6AWvBjPG4-W-",
        "outputId": "92b56004-7aac-4113-a00c-dd485c1f7d95"
      },
      "execution_count": null,
      "outputs": [
        {
          "output_type": "stream",
          "name": "stdout",
          "text": [
            "10\n",
            "D\n",
            "P\n",
            "P\n",
            "\n",
            "D\n",
            "D\n",
            "P\n",
            "P\n",
            "P\n",
            "D\n",
            "3:5\n"
          ]
        }
      ]
    },
    {
      "cell_type": "markdown",
      "source": [
        "---"
      ],
      "metadata": {
        "id": "u0naZtEb4-w8"
      }
    },
    {
      "cell_type": "markdown",
      "source": [
        "## CodeTree"
      ],
      "metadata": {
        "id": "1tf_-X-X4_pj"
      }
    },
    {
      "cell_type": "markdown",
      "source": [
        "### 중복되지 않는 숫자 중 최대"
      ],
      "metadata": {
        "id": "gUNcs-zx5A44"
      }
    },
    {
      "cell_type": "code",
      "source": [
        "n = int(input())\n",
        "\n",
        "nums = list(map(int, input().split()))\n",
        "\n",
        "ori = len(nums)\n",
        "new = len(set(nums))\n",
        "\n",
        "if ori / 2 == new:\n",
        "    print(-1)\n",
        "else:\n",
        "    maxn = -1e9\n",
        "    for n in nums:\n",
        "        if nums.count(n) > 1:\n",
        "            pass\n",
        "        else:\n",
        "            if n > maxn:\n",
        "                maxn = n\n",
        "    print(maxn)"
      ],
      "metadata": {
        "id": "HcsrZHzH5Bia"
      },
      "execution_count": null,
      "outputs": []
    }
  ]
}