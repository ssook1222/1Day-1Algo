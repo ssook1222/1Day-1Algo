{
  "nbformat": 4,
  "nbformat_minor": 0,
  "metadata": {
    "colab": {
      "provenance": [],
      "authorship_tag": "ABX9TyOuKoWZZwe2Td9xHiGgmpdK",
      "include_colab_link": true
    },
    "kernelspec": {
      "name": "python3",
      "display_name": "Python 3"
    },
    "language_info": {
      "name": "python"
    }
  },
  "cells": [
    {
      "cell_type": "markdown",
      "metadata": {
        "id": "view-in-github",
        "colab_type": "text"
      },
      "source": [
        "<a href=\"https://colab.research.google.com/github/ssook1222/1Day-1Algo/blob/master/ssook/24%EB%85%84/2%EC%9B%94/2%EC%9B%94%205%EC%A3%BC%EC%B0%A8/0227.ipynb\" target=\"_parent\"><img src=\"https://colab.research.google.com/assets/colab-badge.svg\" alt=\"Open In Colab\"/></a>"
      ]
    },
    {
      "cell_type": "markdown",
      "source": [
        "## BoJ"
      ],
      "metadata": {
        "id": "vD-3Xix-o9ix"
      }
    },
    {
      "cell_type": "markdown",
      "source": [
        "### 8760"
      ],
      "metadata": {
        "id": "KA-LU1gZo-_d"
      }
    },
    {
      "cell_type": "code",
      "execution_count": null,
      "metadata": {
        "colab": {
          "base_uri": "https://localhost:8080/"
        },
        "id": "07jzg8i6o2uw",
        "outputId": "b5b35b21-0430-4f8a-85b3-97e771154cbe"
      },
      "outputs": [
        {
          "output_type": "stream",
          "name": "stdout",
          "text": [
            "3\n",
            "1 1\n",
            "0\n",
            "2 2\n",
            "2\n",
            "2 3\n",
            "3\n"
          ]
        }
      ],
      "source": [
        "k = int(input())\n",
        "\n",
        "for _ in range(k):\n",
        "  n, m = map(int, input().split())\n",
        "  print((n*m)//2)"
      ]
    },
    {
      "cell_type": "markdown",
      "source": [
        "### 18330"
      ],
      "metadata": {
        "id": "DeazhMXgpBEe"
      }
    },
    {
      "cell_type": "code",
      "source": [
        "n = int(input())\n",
        "k = int(input())\n",
        "\n",
        "min_n = min(k + 60, n)\n",
        "\n",
        "res = min_n * 1500 + (n - min_n) * 3000\n",
        "print(res)"
      ],
      "metadata": {
        "colab": {
          "base_uri": "https://localhost:8080/"
        },
        "id": "Q3qPkx1xpCG8",
        "outputId": "77a4aabb-8098-4694-e7cd-b37061bcd698"
      },
      "execution_count": null,
      "outputs": [
        {
          "output_type": "stream",
          "name": "stdout",
          "text": [
            "41\n",
            "0\n",
            "61500\n"
          ]
        }
      ]
    },
    {
      "cell_type": "markdown",
      "source": [
        "---"
      ],
      "metadata": {
        "id": "QuEwXKWApCnN"
      }
    },
    {
      "cell_type": "markdown",
      "source": [
        "## CodeTree"
      ],
      "metadata": {
        "id": "ELj38JQOpDmO"
      }
    },
    {
      "cell_type": "markdown",
      "source": [
        "### 특정 구간의 합"
      ],
      "metadata": {
        "id": "dKMMdMDHpE32"
      }
    },
    {
      "cell_type": "code",
      "source": [
        "n, m = map(int, input().split())\n",
        "\n",
        "nums = list(map(int, input().split()))\n",
        "\n",
        "for _ in range(m):\n",
        "    a, b = map(int, input().split())\n",
        "    a -= 1\n",
        "\n",
        "    print(sum(nums[a:b]))"
      ],
      "metadata": {
        "id": "_90EywD7pFlO"
      },
      "execution_count": null,
      "outputs": []
    }
  ]
}