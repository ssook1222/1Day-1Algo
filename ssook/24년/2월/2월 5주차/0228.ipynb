{
  "nbformat": 4,
  "nbformat_minor": 0,
  "metadata": {
    "colab": {
      "provenance": [],
      "authorship_tag": "ABX9TyNYinjkDcF8Tz/kENQlo8CE",
      "include_colab_link": true
    },
    "kernelspec": {
      "name": "python3",
      "display_name": "Python 3"
    },
    "language_info": {
      "name": "python"
    }
  },
  "cells": [
    {
      "cell_type": "markdown",
      "metadata": {
        "id": "view-in-github",
        "colab_type": "text"
      },
      "source": [
        "<a href=\"https://colab.research.google.com/github/ssook1222/1Day-1Algo/blob/master/ssook/24%EB%85%84/2%EC%9B%94/2%EC%9B%94%205%EC%A3%BC%EC%B0%A8/0228.ipynb\" target=\"_parent\"><img src=\"https://colab.research.google.com/assets/colab-badge.svg\" alt=\"Open In Colab\"/></a>"
      ]
    },
    {
      "cell_type": "markdown",
      "source": [
        "## BoJ"
      ],
      "metadata": {
        "id": "zIRrnL0fwK12"
      }
    },
    {
      "cell_type": "markdown",
      "source": [
        "### 17874"
      ],
      "metadata": {
        "id": "3ZOOfUxPwMKj"
      }
    },
    {
      "cell_type": "code",
      "execution_count": null,
      "metadata": {
        "colab": {
          "base_uri": "https://localhost:8080/"
        },
        "id": "nAmHQtJ6wH-T",
        "outputId": "1f6ab873-9586-417e-93aa-0a7731784158"
      },
      "outputs": [
        {
          "output_type": "stream",
          "name": "stdout",
          "text": [
            "10 4 7\n",
            "168\n"
          ]
        }
      ],
      "source": [
        "n, h, v = map(int, input().split())\n",
        "\n",
        "ans = max(h, n-h) * max(v, n-v)\n",
        "print(ans * 4)"
      ]
    },
    {
      "cell_type": "markdown",
      "source": [
        "### 25377"
      ],
      "metadata": {
        "id": "jkLEENNIwNXj"
      }
    },
    {
      "cell_type": "code",
      "source": [
        "n = int(input())\n",
        "\n",
        "ans = 1e9\n",
        "\n",
        "for _ in range(n):\n",
        "  a, b = map(int, input().split())\n",
        "\n",
        "  if b >= a and b < ans:\n",
        "    ans = b\n",
        "\n",
        "if ans == 1e9:\n",
        "  print(-1)\n",
        "\n",
        "else:\n",
        "  print(ans)"
      ],
      "metadata": {
        "colab": {
          "base_uri": "https://localhost:8080/"
        },
        "id": "sEBfHDwlwOJK",
        "outputId": "6739a3bd-573a-4e3a-bbb2-b4384d8432a7"
      },
      "execution_count": null,
      "outputs": [
        {
          "output_type": "stream",
          "name": "stdout",
          "text": [
            "3\n",
            "10 20\n",
            "15 18\n",
            "20 15\n",
            "18\n"
          ]
        }
      ]
    },
    {
      "cell_type": "markdown",
      "source": [
        "---"
      ],
      "metadata": {
        "id": "T9AuVZC5wOoU"
      }
    },
    {
      "cell_type": "markdown",
      "source": [
        "## CodeTree"
      ],
      "metadata": {
        "id": "GO8FDl0OwPxN"
      }
    },
    {
      "cell_type": "markdown",
      "source": [
        "### 재귀함수의 꽃"
      ],
      "metadata": {
        "id": "osdS63nWwRij"
      }
    },
    {
      "cell_type": "code",
      "source": [
        "n = int(input())\n",
        "\n",
        "for i in range(n, 0, -1):\n",
        "    print(i, end= ' ')\n",
        "\n",
        "for i in range(1, n+1):\n",
        "    print(i, end= ' ')"
      ],
      "metadata": {
        "id": "5fa6IUBhwSPz"
      },
      "execution_count": null,
      "outputs": []
    }
  ]
}