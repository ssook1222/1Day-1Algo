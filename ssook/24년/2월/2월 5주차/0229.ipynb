{
  "nbformat": 4,
  "nbformat_minor": 0,
  "metadata": {
    "colab": {
      "provenance": [],
      "authorship_tag": "ABX9TyNhk165AOtA+05UopvXC/GF",
      "include_colab_link": true
    },
    "kernelspec": {
      "name": "python3",
      "display_name": "Python 3"
    },
    "language_info": {
      "name": "python"
    }
  },
  "cells": [
    {
      "cell_type": "markdown",
      "metadata": {
        "id": "view-in-github",
        "colab_type": "text"
      },
      "source": [
        "<a href=\"https://colab.research.google.com/github/ssook1222/1Day-1Algo/blob/master/ssook/24%EB%85%84/2%EC%9B%94/2%EC%9B%94%205%EC%A3%BC%EC%B0%A8/0229.ipynb\" target=\"_parent\"><img src=\"https://colab.research.google.com/assets/colab-badge.svg\" alt=\"Open In Colab\"/></a>"
      ]
    },
    {
      "cell_type": "markdown",
      "source": [
        "## BoJ"
      ],
      "metadata": {
        "id": "El9POe1I7jNT"
      }
    },
    {
      "cell_type": "markdown",
      "source": [
        "### 17903"
      ],
      "metadata": {
        "id": "wk1Hiuqb7krW"
      }
    },
    {
      "cell_type": "code",
      "source": [
        "m, n = map(int, input().split())\n",
        "\n",
        "for _ in range(m):\n",
        "  a, b, c = map(int, input().split())\n",
        "\n",
        "if m >= 8:\n",
        "  print(\"satisfactory\")\n",
        "\n",
        "else:\n",
        "  print(\"unsatisfactory\")"
      ],
      "metadata": {
        "colab": {
          "base_uri": "https://localhost:8080/"
        },
        "id": "3ZI3Q6eL7lOw",
        "outputId": "82d75b4c-49f7-4ba7-9f55-0e23294fa1d9"
      },
      "execution_count": null,
      "outputs": [
        {
          "output_type": "stream",
          "name": "stdout",
          "text": [
            "5 3\n",
            "-1 2 3\n",
            "-1 -2 3\n",
            "1 -2 3\n",
            "1 -2 -3\n",
            "1 2 -3\n",
            "unsatisfactory\n"
          ]
        }
      ]
    },
    {
      "cell_type": "markdown",
      "source": [
        "### 6810"
      ],
      "metadata": {
        "id": "kdg2oan07lqP"
      }
    },
    {
      "cell_type": "code",
      "execution_count": null,
      "metadata": {
        "colab": {
          "base_uri": "https://localhost:8080/"
        },
        "id": "eVjoCyn87cvt",
        "outputId": "031ad676-f767-4ee5-a606-2db2df9f2354"
      },
      "outputs": [
        {
          "output_type": "stream",
          "name": "stdout",
          "text": [
            "9\n",
            "4\n",
            "8\n",
            "The 1-3-sum is 120\n"
          ]
        }
      ],
      "source": [
        "a = int(input())\n",
        "b = int(input())\n",
        "c = int(input())\n",
        "\n",
        "print(\"The 1-3-sum is\", 91 + a + (b * 3) + c)"
      ]
    },
    {
      "cell_type": "markdown",
      "source": [
        "---"
      ],
      "metadata": {
        "id": "S2YEI5Xl7nLc"
      }
    },
    {
      "cell_type": "markdown",
      "source": [
        "## CodeTree"
      ],
      "metadata": {
        "id": "nGHXzj587oIa"
      }
    },
    {
      "cell_type": "markdown",
      "source": [
        "### 함수를 이용한 윤년 판별"
      ],
      "metadata": {
        "id": "lADDOktR7qZv"
      }
    },
    {
      "cell_type": "code",
      "source": [
        "y = int(input())\n",
        "\n",
        "if y % 4 == 0:\n",
        "    if y % 100 == 0 and y % 400 != 0:\n",
        "        print(\"false\")\n",
        "    else:\n",
        "        print(\"true\")\n",
        "else:\n",
        "    print(\"false\")"
      ],
      "metadata": {
        "id": "MHdCisTt7rI6"
      },
      "execution_count": null,
      "outputs": []
    }
  ]
}