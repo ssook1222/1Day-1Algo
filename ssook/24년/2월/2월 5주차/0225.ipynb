{
  "nbformat": 4,
  "nbformat_minor": 0,
  "metadata": {
    "colab": {
      "provenance": [],
      "authorship_tag": "ABX9TyPF6WaKH7qh9j/Zr8sNMEq8",
      "include_colab_link": true
    },
    "kernelspec": {
      "name": "python3",
      "display_name": "Python 3"
    },
    "language_info": {
      "name": "python"
    }
  },
  "cells": [
    {
      "cell_type": "markdown",
      "metadata": {
        "id": "view-in-github",
        "colab_type": "text"
      },
      "source": [
        "<a href=\"https://colab.research.google.com/github/ssook1222/1Day-1Algo/blob/master/ssook/24%EB%85%84/2%EC%9B%94/2%EC%9B%94%205%EC%A3%BC%EC%B0%A8/0225.ipynb\" target=\"_parent\"><img src=\"https://colab.research.google.com/assets/colab-badge.svg\" alt=\"Open In Colab\"/></a>"
      ]
    },
    {
      "cell_type": "markdown",
      "source": [
        "## BoJ"
      ],
      "metadata": {
        "id": "PwxWIyWQ-Phy"
      }
    },
    {
      "cell_type": "markdown",
      "source": [
        "### 6763"
      ],
      "metadata": {
        "id": "dD0QW42L-RUY"
      }
    },
    {
      "cell_type": "code",
      "execution_count": null,
      "metadata": {
        "colab": {
          "base_uri": "https://localhost:8080/"
        },
        "id": "LFcHwL3b-NxW",
        "outputId": "04b49ca1-9e3d-4e78-fa29-3b80cb9b071c"
      },
      "outputs": [
        {
          "output_type": "stream",
          "name": "stdout",
          "text": [
            "100\n",
            "131\n",
            "You are speeding and your fine is $500.\n"
          ]
        }
      ],
      "source": [
        "l = int(input())\n",
        "s = int(input())\n",
        "\n",
        "if s - l <= 0:\n",
        "  print(\"Congratulations, you are within the speed limit!\")\n",
        "\n",
        "elif 1<= s-l <= 20:\n",
        "  print(\"You are speeding and your fine is $100.\")\n",
        "\n",
        "elif 21 <= s-l <= 30:\n",
        "  print(\"You are speeding and your fine is $270.\")\n",
        "\n",
        "elif s-l >= 31:\n",
        "  print(\"You are speeding and your fine is $500.\")"
      ]
    },
    {
      "cell_type": "markdown",
      "source": [
        "### 8558"
      ],
      "metadata": {
        "id": "DzBPbmIw-SXj"
      }
    },
    {
      "cell_type": "code",
      "source": [
        "from math import factorial\n",
        "\n",
        "n = int(input())\n",
        "ans = factorial(n)\n",
        "\n",
        "print(str(ans)[-1])"
      ],
      "metadata": {
        "colab": {
          "base_uri": "https://localhost:8080/"
        },
        "id": "ZxPfTskR-TQo",
        "outputId": "24b5b7ad-8c45-461d-8d28-0e5933c99471"
      },
      "execution_count": null,
      "outputs": [
        {
          "output_type": "stream",
          "name": "stdout",
          "text": [
            "4\n",
            "4\n"
          ]
        }
      ]
    },
    {
      "cell_type": "markdown",
      "source": [
        "---"
      ],
      "metadata": {
        "id": "XY9eSgCL-T1M"
      }
    },
    {
      "cell_type": "markdown",
      "source": [
        "## CodeTree"
      ],
      "metadata": {
        "id": "YYlXCDZ4-Uvo"
      }
    },
    {
      "cell_type": "markdown",
      "source": [
        "### 함수를 이용한 부분 문자열의 위치 구하기"
      ],
      "metadata": {
        "id": "1rJvu2I7-WQk"
      }
    },
    {
      "cell_type": "code",
      "source": [
        "whole = input()\n",
        "short = input()\n",
        "\n",
        "if short in whole:\n",
        "    print(whole.index(short))\n",
        "\n",
        "else:\n",
        "    print(-1)"
      ],
      "metadata": {
        "id": "JmgwZAH5-XE1"
      },
      "execution_count": null,
      "outputs": []
    }
  ]
}