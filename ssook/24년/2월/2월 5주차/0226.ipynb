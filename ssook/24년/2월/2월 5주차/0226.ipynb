{
  "nbformat": 4,
  "nbformat_minor": 0,
  "metadata": {
    "colab": {
      "provenance": [],
      "authorship_tag": "ABX9TyMQXSBE1TKbKi8E+W65ErsE",
      "include_colab_link": true
    },
    "kernelspec": {
      "name": "python3",
      "display_name": "Python 3"
    },
    "language_info": {
      "name": "python"
    }
  },
  "cells": [
    {
      "cell_type": "markdown",
      "metadata": {
        "id": "view-in-github",
        "colab_type": "text"
      },
      "source": [
        "<a href=\"https://colab.research.google.com/github/ssook1222/1Day-1Algo/blob/master/ssook/24%EB%85%84/2%EC%9B%94/2%EC%9B%94%205%EC%A3%BC%EC%B0%A8/0226.ipynb\" target=\"_parent\"><img src=\"https://colab.research.google.com/assets/colab-badge.svg\" alt=\"Open In Colab\"/></a>"
      ]
    },
    {
      "cell_type": "markdown",
      "source": [
        "## BoJ"
      ],
      "metadata": {
        "id": "VU5Hg1c5grJ2"
      }
    },
    {
      "cell_type": "markdown",
      "source": [
        "### 18398"
      ],
      "metadata": {
        "id": "mop8h2ikgsxq"
      }
    },
    {
      "cell_type": "code",
      "execution_count": null,
      "metadata": {
        "colab": {
          "base_uri": "https://localhost:8080/"
        },
        "id": "mhb2PckFgpWD",
        "outputId": "af19152c-6595-43c7-b3a8-f407f4170801"
      },
      "outputs": [
        {
          "output_type": "stream",
          "name": "stdout",
          "text": [
            "1\n",
            "2\n",
            "20 30\n",
            "50 600\n",
            "40 60\n",
            "100 2400\n"
          ]
        }
      ],
      "source": [
        "t = int(input())\n",
        "\n",
        "for _ in range(t):\n",
        "  p = int(input())\n",
        "  for _ in range(p):\n",
        "    nums = list(map(int, input().split()))\n",
        "    print(nums[0]+nums[1], nums[0]*nums[1])"
      ]
    },
    {
      "cell_type": "markdown",
      "source": [
        "### 15059"
      ],
      "metadata": {
        "id": "njN098kDgt-p"
      }
    },
    {
      "cell_type": "code",
      "source": [
        "a, b, c = map(int, input().split())\n",
        "d, e, f = map(int, input().split())\n",
        "\n",
        "n = max(0, d-a) + max(0, e-b) + max(0, f-c)\n",
        "print(n)"
      ],
      "metadata": {
        "colab": {
          "base_uri": "https://localhost:8080/"
        },
        "id": "eHjbKl0bgu8O",
        "outputId": "97637eb1-8cc8-413f-cd8b-5805f68320ee"
      },
      "execution_count": null,
      "outputs": [
        {
          "output_type": "stream",
          "name": "stdout",
          "text": [
            "80 20 40\n",
            "45 24 48\n",
            "12\n"
          ]
        }
      ]
    },
    {
      "cell_type": "code",
      "source": [],
      "metadata": {
        "id": "9jVTAznBngEk"
      },
      "execution_count": null,
      "outputs": []
    },
    {
      "cell_type": "markdown",
      "source": [
        "---"
      ],
      "metadata": {
        "id": "_jQa2Q_hgwZk"
      }
    },
    {
      "cell_type": "markdown",
      "source": [
        "## CodeTree"
      ],
      "metadata": {
        "id": "IHEqw9eCgxQ6"
      }
    },
    {
      "cell_type": "markdown",
      "source": [
        "### 나누고 빼면서 합하기"
      ],
      "metadata": {
        "id": "DhPUNEjQgyUm"
      }
    },
    {
      "cell_type": "code",
      "source": [
        "n, m = map(int, input().split())\n",
        "\n",
        "nums = list(map(int, input().split()))\n",
        "chg = []\n",
        "\n",
        "while True:\n",
        "    chg.append(int(m-1))\n",
        "\n",
        "    if m == 1:\n",
        "        break\n",
        "\n",
        "    if m % 2 != 0:\n",
        "        m -= 1\n",
        "    else:\n",
        "        m = m / 2\n",
        "\n",
        "hap = 0\n",
        "for i in chg:\n",
        "    hap += nums[i]\n",
        "\n",
        "print(hap)"
      ],
      "metadata": {
        "id": "SXCXxgqkgzFK"
      },
      "execution_count": null,
      "outputs": []
    }
  ]
}