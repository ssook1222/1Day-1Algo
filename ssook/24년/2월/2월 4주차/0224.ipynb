{
  "nbformat": 4,
  "nbformat_minor": 0,
  "metadata": {
    "colab": {
      "provenance": [],
      "authorship_tag": "ABX9TyPOKpoh+9w0YliDk7vuh15x",
      "include_colab_link": true
    },
    "kernelspec": {
      "name": "python3",
      "display_name": "Python 3"
    },
    "language_info": {
      "name": "python"
    }
  },
  "cells": [
    {
      "cell_type": "markdown",
      "metadata": {
        "id": "view-in-github",
        "colab_type": "text"
      },
      "source": [
        "<a href=\"https://colab.research.google.com/github/ssook1222/1Day-1Algo/blob/master/ssook/24%EB%85%84/2%EC%9B%94/2%EC%9B%94%204%EC%A3%BC%EC%B0%A8/0224.ipynb\" target=\"_parent\"><img src=\"https://colab.research.google.com/assets/colab-badge.svg\" alt=\"Open In Colab\"/></a>"
      ]
    },
    {
      "cell_type": "markdown",
      "source": [
        "## BoJ"
      ],
      "metadata": {
        "id": "ph_ir_Y1PPfh"
      }
    },
    {
      "cell_type": "markdown",
      "source": [
        "### 27182"
      ],
      "metadata": {
        "id": "mQw-rY1CPTT9"
      }
    },
    {
      "cell_type": "code",
      "execution_count": null,
      "metadata": {
        "colab": {
          "base_uri": "https://localhost:8080/"
        },
        "id": "ihSmV4w9PN5A",
        "outputId": "85da5a4f-3d6a-4a8a-f363-5b87e5a92dc1"
      },
      "outputs": [
        {
          "output_type": "stream",
          "name": "stdout",
          "text": [
            "9 24\n",
            "2\n"
          ]
        }
      ],
      "source": [
        "n, m = map(int, input().split())\n",
        "\n",
        "if n >= 8 :\n",
        "  print(n-7)\n",
        "\n",
        "else:\n",
        "  print(m+7)"
      ]
    },
    {
      "cell_type": "markdown",
      "source": [
        "### 30791"
      ],
      "metadata": {
        "id": "DiBo6V8LPURf"
      }
    },
    {
      "cell_type": "code",
      "source": [
        "vote = list(map(int, input().split()))\n",
        "\n",
        "cnt = 0\n",
        "\n",
        "for i in range(1, 5):\n",
        "  if abs(vote[0] - vote[i]) <= 1000:\n",
        "    cnt += 1\n",
        "\n",
        "print(cnt)"
      ],
      "metadata": {
        "colab": {
          "base_uri": "https://localhost:8080/"
        },
        "id": "kKCdPSamTjcA",
        "outputId": "387aace7-8e57-4857-864f-8cb8e84a56f7"
      },
      "execution_count": null,
      "outputs": [
        {
          "output_type": "stream",
          "name": "stdout",
          "text": [
            "40060 40000 39800 38996 37737\n",
            "2\n"
          ]
        }
      ]
    },
    {
      "cell_type": "markdown",
      "source": [
        "---"
      ],
      "metadata": {
        "id": "hwJpIzlnPVmQ"
      }
    },
    {
      "cell_type": "markdown",
      "source": [
        "## CodeTree"
      ],
      "metadata": {
        "id": "a-Vfe4u0PWjG"
      }
    },
    {
      "cell_type": "markdown",
      "source": [
        "### 두 정수에 대한 연산값 2"
      ],
      "metadata": {
        "id": "Nmy6ZCePPdpd"
      }
    },
    {
      "cell_type": "code",
      "source": [
        "a, b = map(int, input().split())\n",
        "\n",
        "minn = min(a,b) + 10\n",
        "maxn = max(a,b) * 2\n",
        "\n",
        "if min(a,b) == a:\n",
        "    print(minn, maxn)\n",
        "\n",
        "else:\n",
        "    print(maxn, minn)"
      ],
      "metadata": {
        "id": "cTQJKGKePeiv"
      },
      "execution_count": null,
      "outputs": []
    }
  ]
}