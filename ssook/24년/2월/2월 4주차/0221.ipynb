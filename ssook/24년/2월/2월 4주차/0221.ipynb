{
  "nbformat": 4,
  "nbformat_minor": 0,
  "metadata": {
    "colab": {
      "provenance": [],
      "authorship_tag": "ABX9TyNPbZoNUKbV5rcelduXf6gi",
      "include_colab_link": true
    },
    "kernelspec": {
      "name": "python3",
      "display_name": "Python 3"
    },
    "language_info": {
      "name": "python"
    }
  },
  "cells": [
    {
      "cell_type": "markdown",
      "metadata": {
        "id": "view-in-github",
        "colab_type": "text"
      },
      "source": [
        "<a href=\"https://colab.research.google.com/github/ssook1222/1Day-1Algo/blob/master/ssook/24%EB%85%84/2%EC%9B%94/2%EC%9B%94%204%EC%A3%BC%EC%B0%A8/0221.ipynb\" target=\"_parent\"><img src=\"https://colab.research.google.com/assets/colab-badge.svg\" alt=\"Open In Colab\"/></a>"
      ]
    },
    {
      "cell_type": "markdown",
      "source": [
        "## BoJ"
      ],
      "metadata": {
        "id": "o-s6zP-uts2S"
      }
    },
    {
      "cell_type": "markdown",
      "source": [
        "### 13597"
      ],
      "metadata": {
        "id": "wqvs1Dg5tuOd"
      }
    },
    {
      "cell_type": "code",
      "execution_count": null,
      "metadata": {
        "colab": {
          "base_uri": "https://localhost:8080/"
        },
        "id": "2dMvl14dtrZw",
        "outputId": "6fbab0df-2b83-4626-ab1b-1325d7876a45"
      },
      "outputs": [
        {
          "output_type": "stream",
          "name": "stdout",
          "text": [
            "10 7\n",
            "10\n"
          ]
        }
      ],
      "source": [
        "a, b = map(int, input().split())\n",
        "\n",
        "if a == b:\n",
        "  print(a)\n",
        "else:\n",
        "  print(max(a, b))"
      ]
    },
    {
      "cell_type": "markdown",
      "source": [
        "### 26766"
      ],
      "metadata": {
        "id": "PJtk8Zt3tu5q"
      }
    },
    {
      "cell_type": "code",
      "source": [
        "n = int(input())\n",
        "\n",
        "for _ in range(n):\n",
        "  print(\"\"\" @@@   @@@\n",
        "@   @ @   @\n",
        "@    @    @\n",
        "@         @\n",
        " @       @\n",
        "  @     @\n",
        "   @   @\n",
        "    @ @\n",
        "     @     \"\"\")"
      ],
      "metadata": {
        "colab": {
          "base_uri": "https://localhost:8080/"
        },
        "id": "ii3bQcUQtvpp",
        "outputId": "ce69ee7d-2a17-4232-d9a6-8cf22723c360"
      },
      "execution_count": null,
      "outputs": [
        {
          "output_type": "stream",
          "name": "stdout",
          "text": [
            "2\n",
            " @@@   @@@ \n",
            "@   @ @   @\n",
            "@    @    @\n",
            "@         @\n",
            " @       @ \n",
            "  @     @  \n",
            "   @   @   \n",
            "    @ @    \n",
            "     @     \n",
            " @@@   @@@ \n",
            "@   @ @   @\n",
            "@    @    @\n",
            "@         @\n",
            " @       @ \n",
            "  @     @  \n",
            "   @   @   \n",
            "    @ @    \n",
            "     @     \n"
          ]
        }
      ]
    },
    {
      "cell_type": "markdown",
      "source": [
        "---"
      ],
      "metadata": {
        "id": "qcdP9z6qtwgM"
      }
    },
    {
      "cell_type": "markdown",
      "source": [
        "## CodeTree"
      ],
      "metadata": {
        "id": "dtN05CfqtxP6"
      }
    },
    {
      "cell_type": "markdown",
      "source": [
        "### 사칙연산 함수"
      ],
      "metadata": {
        "id": "pnuJvd63tybq"
      }
    },
    {
      "cell_type": "code",
      "source": [
        "ans = 0\n",
        "\n",
        "def expr(a, o, c):\n",
        "    global ans\n",
        "\n",
        "    if o == '+':\n",
        "        ans = a + c\n",
        "\n",
        "    elif o == '-':\n",
        "        ans = a - c\n",
        "\n",
        "    elif o == '*':\n",
        "        ans = a * c\n",
        "\n",
        "    elif o == '/':\n",
        "        ans = a / c\n",
        "        ans = int(ans)\n",
        "\n",
        "    else:\n",
        "        return False\n",
        "\n",
        "    return True\n",
        "\n",
        "a, o, c = map(str, input().split())\n",
        "a = int(a)\n",
        "c = int(c)\n",
        "\n",
        "chk = expr(a, o, c)\n",
        "\n",
        "if not chk:\n",
        "    print(chk)\n",
        "\n",
        "else:\n",
        "    print(\"%d %s %d = %d\" %(a, o, c, ans))"
      ],
      "metadata": {
        "id": "bEnPT2a7tzJc"
      },
      "execution_count": null,
      "outputs": []
    }
  ]
}