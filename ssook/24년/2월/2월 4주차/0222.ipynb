{
  "nbformat": 4,
  "nbformat_minor": 0,
  "metadata": {
    "colab": {
      "provenance": [],
      "authorship_tag": "ABX9TyO6iKxLkDLZVo6q7x3ggc2e",
      "include_colab_link": true
    },
    "kernelspec": {
      "name": "python3",
      "display_name": "Python 3"
    },
    "language_info": {
      "name": "python"
    }
  },
  "cells": [
    {
      "cell_type": "markdown",
      "metadata": {
        "id": "view-in-github",
        "colab_type": "text"
      },
      "source": [
        "<a href=\"https://colab.research.google.com/github/ssook1222/1Day-1Algo/blob/master/ssook/24%EB%85%84/2%EC%9B%94/2%EC%9B%94%204%EC%A3%BC%EC%B0%A8/0222.ipynb\" target=\"_parent\"><img src=\"https://colab.research.google.com/assets/colab-badge.svg\" alt=\"Open In Colab\"/></a>"
      ]
    },
    {
      "cell_type": "markdown",
      "source": [
        "## BoJ"
      ],
      "metadata": {
        "id": "NxC-DCM66nxi"
      }
    },
    {
      "cell_type": "markdown",
      "source": [
        "### 20215"
      ],
      "metadata": {
        "id": "gtwbVwQ66pPg"
      }
    },
    {
      "cell_type": "code",
      "source": [
        "width, height = map(int, input().split())\n",
        "\n",
        "ans = width + height - (width**2 + height**2)**0.5\n",
        "\n",
        "print(ans)"
      ],
      "metadata": {
        "colab": {
          "base_uri": "https://localhost:8080/"
        },
        "id": "3wHu0ptT6qD9",
        "outputId": "ac0c638a-c765-4236-86ba-ba376113ed38"
      },
      "execution_count": null,
      "outputs": [
        {
          "output_type": "stream",
          "name": "stdout",
          "text": [
            "12 7\n",
            "5.107556010550196\n"
          ]
        }
      ]
    },
    {
      "cell_type": "markdown",
      "source": [
        "### 8871"
      ],
      "metadata": {
        "id": "Sm7z77qb6qdz"
      }
    },
    {
      "cell_type": "code",
      "source": [
        "n = int(input())\n",
        "\n",
        "min_task = 2*(n+1)\n",
        "max_task = 3*(n+1)\n",
        "\n",
        "print(min_task, max_task)"
      ],
      "metadata": {
        "colab": {
          "base_uri": "https://localhost:8080/"
        },
        "id": "Zzbwwp2W6q-d",
        "outputId": "153931db-3ba5-41a5-c108-7ca21a9f9f68"
      },
      "execution_count": null,
      "outputs": [
        {
          "output_type": "stream",
          "name": "stdout",
          "text": [
            "5\n",
            "12 18\n"
          ]
        }
      ]
    },
    {
      "cell_type": "markdown",
      "source": [
        "---"
      ],
      "metadata": {
        "id": "jhnILQRI6rSB"
      }
    },
    {
      "cell_type": "markdown",
      "source": [
        "## CodeTree"
      ],
      "metadata": {
        "id": "0ZUvwecA6kdP"
      }
    },
    {
      "cell_type": "markdown",
      "source": [
        "### 두 정수 값 교환하기"
      ],
      "metadata": {
        "id": "AUMj7c0B6l87"
      }
    },
    {
      "cell_type": "code",
      "execution_count": null,
      "metadata": {
        "id": "0kR9fL505xOv"
      },
      "outputs": [],
      "source": [
        "n, m = map(int, input().split())\n",
        "\n",
        "def chg(n, m):\n",
        "    tmp = n\n",
        "    n = m\n",
        "    m = tmp\n",
        "    return n, m\n",
        "\n",
        "n, m = chg(n, m)\n",
        "print(n, m)"
      ]
    }
  ]
}