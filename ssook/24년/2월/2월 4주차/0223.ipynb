{
  "nbformat": 4,
  "nbformat_minor": 0,
  "metadata": {
    "colab": {
      "provenance": [],
      "authorship_tag": "ABX9TyMj0poM/4cOP2jASOEoSOXq",
      "include_colab_link": true
    },
    "kernelspec": {
      "name": "python3",
      "display_name": "Python 3"
    },
    "language_info": {
      "name": "python"
    }
  },
  "cells": [
    {
      "cell_type": "markdown",
      "metadata": {
        "id": "view-in-github",
        "colab_type": "text"
      },
      "source": [
        "<a href=\"https://colab.research.google.com/github/ssook1222/1Day-1Algo/blob/master/ssook/24%EB%85%84/2%EC%9B%94/2%EC%9B%94%204%EC%A3%BC%EC%B0%A8/0223.ipynb\" target=\"_parent\"><img src=\"https://colab.research.google.com/assets/colab-badge.svg\" alt=\"Open In Colab\"/></a>"
      ]
    },
    {
      "cell_type": "markdown",
      "source": [
        "## BoJ"
      ],
      "metadata": {
        "id": "WOYKqDMAB1Lg"
      }
    },
    {
      "cell_type": "markdown",
      "source": [
        "### 25600"
      ],
      "metadata": {
        "id": "pQHNndt5B3n6"
      }
    },
    {
      "cell_type": "code",
      "execution_count": null,
      "metadata": {
        "colab": {
          "base_uri": "https://localhost:8080/"
        },
        "id": "6mvMN0xrBsvA",
        "outputId": "9f50eb99-f684-45bb-8ebe-55d89f44ec9f"
      },
      "outputs": [
        {
          "output_type": "stream",
          "name": "stdout",
          "text": [
            "5\n",
            "1 0 1\n",
            "5 2 3\n",
            "5 5 4\n",
            "0 1 4\n",
            "3 7 2\n",
            "50\n"
          ]
        }
      ],
      "source": [
        "n = int(input())\n",
        "score = []\n",
        "for _ in range(n):\n",
        "  a, d, g = map(int, input().split())\n",
        "  if a == d+g:\n",
        "    score.append((a*(d+g))*2)\n",
        "\n",
        "  else:\n",
        "    score.append(a*(d+g))\n",
        "\n",
        "print(max(score))"
      ]
    },
    {
      "cell_type": "markdown",
      "source": [
        "### 31429"
      ],
      "metadata": {
        "id": "HQkUCpEYB4sG"
      }
    },
    {
      "cell_type": "code",
      "source": [
        "q = [12, 11, 11, 10, 9, 9, 9, 8, 7, 6, 6]\n",
        "p = [1600, 894, 1327, 1311, 1004, 1178, 1357, 837, 1055, 556, 773]\n",
        "\n",
        "n = int(input())\n",
        "\n",
        "print(q[n-1], p[n-1])"
      ],
      "metadata": {
        "colab": {
          "base_uri": "https://localhost:8080/"
        },
        "id": "yTvyJ7y7B6KL",
        "outputId": "c926749a-f604-4039-bcfa-890f9771e31a"
      },
      "execution_count": null,
      "outputs": [
        {
          "output_type": "stream",
          "name": "stdout",
          "text": [
            "1\n",
            "12 1600\n"
          ]
        }
      ]
    },
    {
      "cell_type": "markdown",
      "source": [
        "---"
      ],
      "metadata": {
        "id": "jOsIMuGpB64R"
      }
    },
    {
      "cell_type": "markdown",
      "source": [
        "## CodeTree"
      ],
      "metadata": {
        "id": "3GxSeENgB9NA"
      }
    },
    {
      "cell_type": "markdown",
      "source": [
        "### 짝수만 2로 나누기"
      ],
      "metadata": {
        "id": "MCn06rjVB_JS"
      }
    },
    {
      "cell_type": "code",
      "source": [
        "def ans(nums):\n",
        "    for i in range(len(nums)):\n",
        "        if nums[i] % 2 == 0:\n",
        "            nums[i] = int(nums[i] / 2)\n",
        "        else:\n",
        "            pass\n",
        "    return nums\n",
        "\n",
        "n = int(input())\n",
        "number = list(map(int, input().split()))\n",
        "\n",
        "number = ans(number)\n",
        "\n",
        "print(*number)"
      ],
      "metadata": {
        "id": "8ldVfZkpB7x2"
      },
      "execution_count": null,
      "outputs": []
    }
  ]
}