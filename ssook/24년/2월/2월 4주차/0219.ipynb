{
  "nbformat": 4,
  "nbformat_minor": 0,
  "metadata": {
    "colab": {
      "provenance": [],
      "authorship_tag": "ABX9TyPLPxL/f/MxZqHj+k2GeYLM",
      "include_colab_link": true
    },
    "kernelspec": {
      "name": "python3",
      "display_name": "Python 3"
    },
    "language_info": {
      "name": "python"
    }
  },
  "cells": [
    {
      "cell_type": "markdown",
      "metadata": {
        "id": "view-in-github",
        "colab_type": "text"
      },
      "source": [
        "<a href=\"https://colab.research.google.com/github/ssook1222/1Day-1Algo/blob/master/ssook/24%EB%85%84/2%EC%9B%94/2%EC%9B%94%204%EC%A3%BC%EC%B0%A8/0219.ipynb\" target=\"_parent\"><img src=\"https://colab.research.google.com/assets/colab-badge.svg\" alt=\"Open In Colab\"/></a>"
      ]
    },
    {
      "cell_type": "markdown",
      "source": [
        "## BoJ"
      ],
      "metadata": {
        "id": "K9_4sHGIrL2K"
      }
    },
    {
      "cell_type": "markdown",
      "source": [
        "### 27389"
      ],
      "metadata": {
        "id": "oFR6OastrNZI"
      }
    },
    {
      "cell_type": "code",
      "execution_count": 4,
      "metadata": {
        "colab": {
          "base_uri": "https://localhost:8080/"
        },
        "id": "oxhWiPUknvrg",
        "outputId": "da3bcbaa-9cd4-40c5-8b0e-54fd1aafe220"
      },
      "outputs": [
        {
          "output_type": "stream",
          "name": "stdout",
          "text": [
            "16\n",
            "4.00\n"
          ]
        }
      ],
      "source": [
        "n = int(input())\n",
        "\n",
        "ans = n / 4.0\n",
        "\n",
        "print(\"%.2f\" %ans)"
      ]
    },
    {
      "cell_type": "markdown",
      "source": [
        "### 28224"
      ],
      "metadata": {
        "id": "C_Qth-PprOAG"
      }
    },
    {
      "cell_type": "code",
      "source": [
        "hap = 0\n",
        "\n",
        "n = int(input())\n",
        "\n",
        "for _ in range(n):\n",
        "  hap += int(input())\n",
        "\n",
        "print(hap)"
      ],
      "metadata": {
        "colab": {
          "base_uri": "https://localhost:8080/"
        },
        "id": "F9Kv-Go3rOul",
        "outputId": "791c18d9-c7e6-4772-bb30-996886c9a733"
      },
      "execution_count": 7,
      "outputs": [
        {
          "output_type": "stream",
          "name": "stdout",
          "text": [
            "2\n",
            "11\n",
            "68\n",
            "79\n"
          ]
        }
      ]
    },
    {
      "cell_type": "markdown",
      "source": [
        "---"
      ],
      "metadata": {
        "id": "2fCHmV5HrO9E"
      }
    },
    {
      "cell_type": "markdown",
      "source": [
        "## CodeTree"
      ],
      "metadata": {
        "id": "2z3wpvcPrP6D"
      }
    },
    {
      "cell_type": "markdown",
      "source": [
        "### 함수를 이용한 369 게임"
      ],
      "metadata": {
        "id": "fCLO6E89rRBj"
      }
    },
    {
      "cell_type": "code",
      "source": [
        "a, b = map(int, input().split())\n",
        "cnt = 0\n",
        "\n",
        "for i in range(a, b+1):\n",
        "    i_str = str(i)\n",
        "    if ('3' in i_str or '6' in i_str or '9' in i_str) or i % 3 == 0:\n",
        "        cnt += 1\n",
        "\n",
        "print(cnt)"
      ],
      "metadata": {
        "id": "gYPmJL7IrRhs"
      },
      "execution_count": null,
      "outputs": []
    }
  ]
}