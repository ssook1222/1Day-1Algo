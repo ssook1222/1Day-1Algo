{
  "nbformat": 4,
  "nbformat_minor": 0,
  "metadata": {
    "colab": {
      "provenance": [],
      "authorship_tag": "ABX9TyMgTP1LKZ87iXrdlzEbeDdS",
      "include_colab_link": true
    },
    "kernelspec": {
      "name": "python3",
      "display_name": "Python 3"
    },
    "language_info": {
      "name": "python"
    }
  },
  "cells": [
    {
      "cell_type": "markdown",
      "metadata": {
        "id": "view-in-github",
        "colab_type": "text"
      },
      "source": [
        "<a href=\"https://colab.research.google.com/github/ssook1222/1Day-1Algo/blob/master/ssook/24%EB%85%84/2%EC%9B%94/2%EC%9B%94%204%EC%A3%BC%EC%B0%A8/0220.ipynb\" target=\"_parent\"><img src=\"https://colab.research.google.com/assets/colab-badge.svg\" alt=\"Open In Colab\"/></a>"
      ]
    },
    {
      "cell_type": "markdown",
      "source": [
        "## BoJ"
      ],
      "metadata": {
        "id": "2kCLnCTB0JFi"
      }
    },
    {
      "cell_type": "markdown",
      "source": [
        "### 31261"
      ],
      "metadata": {
        "id": "fCwZDXZS0Kkr"
      }
    },
    {
      "cell_type": "code",
      "execution_count": null,
      "metadata": {
        "colab": {
          "base_uri": "https://localhost:8080/"
        },
        "id": "RDugEHwe0HQo",
        "outputId": "406c8c2a-8639-488f-d9f7-67cfe0ae2451"
      },
      "outputs": [
        {
          "output_type": "stream",
          "name": "stdout",
          "text": [
            "7 33\n",
            "2009\n"
          ]
        }
      ],
      "source": [
        "a, b = map(int, input().split())\n",
        "n1 = (a + b) * a\n",
        "n2 = (a + n1) * a\n",
        "\n",
        "print(n2)"
      ]
    },
    {
      "cell_type": "markdown",
      "source": [
        "### 8437"
      ],
      "metadata": {
        "id": "bNIPdYoY0LgR"
      }
    },
    {
      "cell_type": "code",
      "source": [
        "total_apples = int(input())\n",
        "extra_apples_for_klaudia = int(input())\n",
        "\n",
        "claudia_apples = (total_apples + extra_apples_for_klaudia) // 2\n",
        "natalia_apples = total_apples - claudia_apples\n",
        "\n",
        "print(claudia_apples)\n",
        "print(natalia_apples)"
      ],
      "metadata": {
        "colab": {
          "base_uri": "https://localhost:8080/"
        },
        "id": "FSV-ZqLv0M3O",
        "outputId": "9a9954f2-6f6a-4c7c-ace8-3661bbbc8177"
      },
      "execution_count": null,
      "outputs": [
        {
          "output_type": "stream",
          "name": "stdout",
          "text": [
            "10\n",
            "2\n",
            "6\n",
            "4\n"
          ]
        }
      ]
    },
    {
      "cell_type": "markdown",
      "source": [
        "## CodeTree"
      ],
      "metadata": {
        "id": "SPae7j9_0NE6"
      }
    },
    {
      "cell_type": "markdown",
      "source": [
        "### 함수를 이용한 소수 판별"
      ],
      "metadata": {
        "id": "Zr3OsONa0O-2"
      }
    },
    {
      "cell_type": "code",
      "source": [
        "def is_prime(num):\n",
        "    if num < 2:\n",
        "        return False\n",
        "    for i in range(2, int(num**0.5) + 1):\n",
        "        if num % i == 0:\n",
        "            return False\n",
        "    return True\n",
        "\n",
        "def prime_check(a, b):\n",
        "    b += 1\n",
        "    hap = 0\n",
        "    for num in range(a, b):\n",
        "        if is_prime(num):\n",
        "            hap += num\n",
        "    return hap\n",
        "\n",
        "a, b = map(int, input().split())\n",
        "prime_sum = prime_check(a, b)\n",
        "print(prime_sum)"
      ],
      "metadata": {
        "id": "pkG30YOh0PrJ"
      },
      "execution_count": null,
      "outputs": []
    }
  ]
}