{
  "nbformat": 4,
  "nbformat_minor": 0,
  "metadata": {
    "colab": {
      "provenance": [],
      "authorship_tag": "ABX9TyNoPH+OPJ4O/QLuSXu30MJL",
      "include_colab_link": true
    },
    "kernelspec": {
      "name": "python3",
      "display_name": "Python 3"
    },
    "language_info": {
      "name": "python"
    }
  },
  "cells": [
    {
      "cell_type": "markdown",
      "metadata": {
        "id": "view-in-github",
        "colab_type": "text"
      },
      "source": [
        "<a href=\"https://colab.research.google.com/github/ssook1222/1Day-1Algo/blob/master/ssook/24%EB%85%84/2%EC%9B%94/2%EC%9B%94%204%EC%A3%BC%EC%B0%A8/0218.ipynb\" target=\"_parent\"><img src=\"https://colab.research.google.com/assets/colab-badge.svg\" alt=\"Open In Colab\"/></a>"
      ]
    },
    {
      "cell_type": "markdown",
      "source": [
        "## BoJ"
      ],
      "metadata": {
        "id": "YEc4f_wvksKV"
      }
    },
    {
      "cell_type": "markdown",
      "source": [
        "### 4589"
      ],
      "metadata": {
        "id": "HoGuBruukusy"
      }
    },
    {
      "cell_type": "code",
      "execution_count": 1,
      "metadata": {
        "id": "OEJM6xNdkI5D",
        "colab": {
          "base_uri": "https://localhost:8080/"
        },
        "outputId": "d47eb573-ba0c-4e9e-cbd7-8ddedbb40845"
      },
      "outputs": [
        {
          "output_type": "stream",
          "name": "stdout",
          "text": [
            "3\n",
            "Gnomes:\n",
            "40 62 77\n",
            "Ordered\n",
            "88 62 77\n",
            "Unordered\n",
            "91 33 18\n",
            "Ordered\n"
          ]
        }
      ],
      "source": [
        "n = int(input())\n",
        "\n",
        "print(\"Gnomes:\")\n",
        "\n",
        "for _ in range(n):\n",
        "  ori = list(map(int, input().split()))\n",
        "  ori_up = sorted(ori)\n",
        "  ori_down = sorted(ori, reverse = True)\n",
        "\n",
        "  if ori == ori_up or ori == ori_down:\n",
        "    print(\"Ordered\")\n",
        "\n",
        "  else:\n",
        "    print(\"Unordered\")"
      ]
    },
    {
      "cell_type": "markdown",
      "source": [
        "---"
      ],
      "metadata": {
        "id": "9GBYy4Uykwua"
      }
    },
    {
      "cell_type": "markdown",
      "source": [
        "## CodeTree"
      ],
      "metadata": {
        "id": "gAAbZbzVkx0N"
      }
    },
    {
      "cell_type": "markdown",
      "source": [
        "### 1부터 특정 수까지의 합"
      ],
      "metadata": {
        "id": "431-LTFNkziq"
      }
    },
    {
      "cell_type": "code",
      "source": [
        "def ans(n):\n",
        "    hap = 0\n",
        "    for i in range(1, n+1):\n",
        "        hap += i\n",
        "    return hap // 10\n",
        "\n",
        "n = int(input())\n",
        "print(ans(n))"
      ],
      "metadata": {
        "id": "h4DQHKbDk02G"
      },
      "execution_count": null,
      "outputs": []
    }
  ]
}