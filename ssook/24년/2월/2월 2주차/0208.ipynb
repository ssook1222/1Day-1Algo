{
  "nbformat": 4,
  "nbformat_minor": 0,
  "metadata": {
    "colab": {
      "provenance": [],
      "authorship_tag": "ABX9TyPEz2NDnqbsW7yrVLaziyqs",
      "include_colab_link": true
    },
    "kernelspec": {
      "name": "python3",
      "display_name": "Python 3"
    },
    "language_info": {
      "name": "python"
    }
  },
  "cells": [
    {
      "cell_type": "markdown",
      "metadata": {
        "id": "view-in-github",
        "colab_type": "text"
      },
      "source": [
        "<a href=\"https://colab.research.google.com/github/ssook1222/1Day-1Algo/blob/master/ssook/24%EB%85%84/2%EC%9B%94/2%EC%9B%94%202%EC%A3%BC%EC%B0%A8/0208.ipynb\" target=\"_parent\"><img src=\"https://colab.research.google.com/assets/colab-badge.svg\" alt=\"Open In Colab\"/></a>"
      ]
    },
    {
      "cell_type": "markdown",
      "source": [
        "## BoJ"
      ],
      "metadata": {
        "id": "g3XFWmYHz4K6"
      }
    },
    {
      "cell_type": "markdown",
      "source": [
        "### 21591\n"
      ],
      "metadata": {
        "id": "Ou9O8i4L0-KH"
      }
    },
    {
      "cell_type": "code",
      "source": [
        "cw, ch, sw, sh = map(int, input().split())\n",
        "chk = True\n",
        "\n",
        "if cw <= sw + 1:\n",
        "  chk = False\n",
        "\n",
        "if ch <= sh + 1:\n",
        "  chk = False\n",
        "\n",
        "if chk:\n",
        "  print(1)\n",
        "\n",
        "else:\n",
        "  print(0)"
      ],
      "metadata": {
        "colab": {
          "base_uri": "https://localhost:8080/"
        },
        "id": "uz4cq9VV0_dW",
        "outputId": "ca73cfcb-92fc-480c-b00a-4e34706b248f"
      },
      "execution_count": null,
      "outputs": [
        {
          "output_type": "stream",
          "name": "stdout",
          "text": [
            "35 30 25 29\n",
            "0\n"
          ]
        }
      ]
    },
    {
      "cell_type": "markdown",
      "source": [
        "### 28938"
      ],
      "metadata": {
        "id": "7JcbUAa53eiF"
      }
    },
    {
      "cell_type": "code",
      "source": [
        "n = int(input())\n",
        "moves = list(map(int, input().split()))\n",
        "\n",
        "hap = sum(moves)\n",
        "\n",
        "if hap > 0:\n",
        "  print('Right')\n",
        "\n",
        "if hap < 0:\n",
        "  print('Left')\n",
        "\n",
        "if hap == 0:\n",
        "  print('Stay')"
      ],
      "metadata": {
        "colab": {
          "base_uri": "https://localhost:8080/"
        },
        "id": "vlW5uJIE3exy",
        "outputId": "fe5fe5b7-480b-4c9d-cf4e-94aea952bb46"
      },
      "execution_count": null,
      "outputs": [
        {
          "output_type": "stream",
          "name": "stdout",
          "text": [
            "5\n",
            "1 0 1 -1 0\n",
            "Right\n"
          ]
        }
      ]
    },
    {
      "cell_type": "markdown",
      "source": [
        "---"
      ],
      "metadata": {
        "id": "azntAXC81ALC"
      }
    },
    {
      "cell_type": "markdown",
      "source": [
        "## CodeTree"
      ],
      "metadata": {
        "id": "wVjDMAy81Bdv"
      }
    },
    {
      "cell_type": "markdown",
      "source": [
        "### 단어 정렬"
      ],
      "metadata": {
        "id": "RsTMjBis1DK_"
      }
    },
    {
      "cell_type": "code",
      "source": [
        "words = []\n",
        "\n",
        "n = int(input())\n",
        "\n",
        "for _ in range(n):\n",
        "    words.append(input())\n",
        "\n",
        "words.sort()\n",
        "\n",
        "for word in words:\n",
        "    print(word)"
      ],
      "metadata": {
        "id": "rHvd_ioS1Dg-"
      },
      "execution_count": null,
      "outputs": []
    }
  ]
}