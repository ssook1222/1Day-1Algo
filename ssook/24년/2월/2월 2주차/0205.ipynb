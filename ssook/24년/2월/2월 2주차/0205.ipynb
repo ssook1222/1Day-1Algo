{
  "nbformat": 4,
  "nbformat_minor": 0,
  "metadata": {
    "colab": {
      "provenance": [],
      "authorship_tag": "ABX9TyNt0RVdpVJRxcNx4ut7qRCP",
      "include_colab_link": true
    },
    "kernelspec": {
      "name": "python3",
      "display_name": "Python 3"
    },
    "language_info": {
      "name": "python"
    }
  },
  "cells": [
    {
      "cell_type": "markdown",
      "metadata": {
        "id": "view-in-github",
        "colab_type": "text"
      },
      "source": [
        "<a href=\"https://colab.research.google.com/github/ssook1222/1Day-1Algo/blob/master/ssook/24%EB%85%84/2%EC%9B%94/2%EC%9B%94%202%EC%A3%BC%EC%B0%A8/0205.ipynb\" target=\"_parent\"><img src=\"https://colab.research.google.com/assets/colab-badge.svg\" alt=\"Open In Colab\"/></a>"
      ]
    },
    {
      "cell_type": "markdown",
      "source": [
        "## BoJ"
      ],
      "metadata": {
        "id": "DnXhCxU_fzpY"
      }
    },
    {
      "cell_type": "markdown",
      "source": [
        "### 29699"
      ],
      "metadata": {
        "id": "kBQZKXjRf1cv"
      }
    },
    {
      "cell_type": "code",
      "execution_count": 9,
      "metadata": {
        "colab": {
          "base_uri": "https://localhost:8080/"
        },
        "id": "IuicX_oBfx9p",
        "outputId": "bae21b46-19c2-4b08-80aa-ed1bd687ceec"
      },
      "outputs": [
        {
          "output_type": "stream",
          "name": "stdout",
          "text": [
            "2\n",
            "e\n"
          ]
        }
      ],
      "source": [
        "s = 'WelcomeToSMUPC'\n",
        "\n",
        "n = int(input())\n",
        "\n",
        "if n >= len(s):\n",
        "  indx = (n-1) % len(s)\n",
        "  print(s[indx])\n",
        "\n",
        "else:\n",
        "  print(s[n-1])"
      ]
    },
    {
      "cell_type": "markdown",
      "source": [
        "### 28453"
      ],
      "metadata": {
        "id": "NDQLYuAyf2ar"
      }
    },
    {
      "cell_type": "code",
      "source": [
        "n = int(input())\n",
        "\n",
        "levels = list(map(int, input().split()))\n",
        "tmp = ''\n",
        "\n",
        "for level in levels:\n",
        "  if level == 300:\n",
        "    tmp += '1 '\n",
        "\n",
        "  elif 275 <= level < 300:\n",
        "    tmp += '2 '\n",
        "\n",
        "  elif 250 <= level < 275:\n",
        "    tmp += '3 '\n",
        "\n",
        "  else:\n",
        "    tmp += '4 '\n",
        "\n",
        "print(tmp.rstrip())"
      ],
      "metadata": {
        "colab": {
          "base_uri": "https://localhost:8080/"
        },
        "id": "o-AJByHWf33y",
        "outputId": "a837a0c8-ce3e-4afd-b189-8ca2d8afa6a9"
      },
      "execution_count": 10,
      "outputs": [
        {
          "output_type": "stream",
          "name": "stdout",
          "text": [
            "5\n",
            "220 260 263 275 300\n",
            "4 3 3 2 1\n"
          ]
        }
      ]
    },
    {
      "cell_type": "markdown",
      "source": [
        "---"
      ],
      "metadata": {
        "id": "0IOhFWfdf6-l"
      }
    },
    {
      "cell_type": "markdown",
      "source": [
        "## CodeTree"
      ],
      "metadata": {
        "id": "Ji0Lf2ASf4KP"
      }
    },
    {
      "cell_type": "markdown",
      "source": [
        "###  그 다음 알파벳"
      ],
      "metadata": {
        "id": "otsbCM0Df5lB"
      }
    },
    {
      "cell_type": "code",
      "source": [
        "c = input()\n",
        "\n",
        "if c == 'z':\n",
        "    print('a')\n",
        "else:\n",
        "    print(chr(ord(c)+1))"
      ],
      "metadata": {
        "id": "P_OlhNmMf6I-"
      },
      "execution_count": null,
      "outputs": []
    }
  ]
}