{
  "nbformat": 4,
  "nbformat_minor": 0,
  "metadata": {
    "colab": {
      "provenance": [],
      "authorship_tag": "ABX9TyPdt7DYsgcVmrjNPPbWTAF9",
      "include_colab_link": true
    },
    "kernelspec": {
      "name": "python3",
      "display_name": "Python 3"
    },
    "language_info": {
      "name": "python"
    }
  },
  "cells": [
    {
      "cell_type": "markdown",
      "metadata": {
        "id": "view-in-github",
        "colab_type": "text"
      },
      "source": [
        "<a href=\"https://colab.research.google.com/github/ssook1222/1Day-1Algo/blob/master/ssook/24%EB%85%84/2%EC%9B%94/2%EC%9B%94%202%EC%A3%BC%EC%B0%A8/0207.ipynb\" target=\"_parent\"><img src=\"https://colab.research.google.com/assets/colab-badge.svg\" alt=\"Open In Colab\"/></a>"
      ]
    },
    {
      "cell_type": "markdown",
      "source": [
        "## BoJ"
      ],
      "metadata": {
        "id": "PQPmH3z-oUWT"
      }
    },
    {
      "cell_type": "markdown",
      "source": [
        "### 25285"
      ],
      "metadata": {
        "id": "G4llhhspoWAI"
      }
    },
    {
      "cell_type": "code",
      "execution_count": null,
      "metadata": {
        "colab": {
          "base_uri": "https://localhost:8080/"
        },
        "id": "We_SjEEvoRt7",
        "outputId": "26f61b2d-46e9-4c00-d238-f005c1d3000f"
      },
      "outputs": [
        {
          "output_type": "stream",
          "name": "stdout",
          "text": [
            "6\n",
            "175 65\n",
            "1\n",
            "175 60\n",
            "2\n",
            "175 49\n",
            "3\n",
            "175 48\n",
            "4\n",
            "145 50\n",
            "5\n",
            "140 45\n",
            "6\n"
          ]
        }
      ],
      "source": [
        "n = int(input())\n",
        "\n",
        "for _ in range(n):\n",
        "  h, w = map(float, input().split())\n",
        "  bmi = (w / (h * h))*10000\n",
        "\n",
        "  if h < 140.1:\n",
        "    print(6)\n",
        "\n",
        "  if 140.1 <= h < 146:\n",
        "    print(5)\n",
        "\n",
        "  if 146 <= h < 159:\n",
        "    print(4)\n",
        "\n",
        "  if 159 <= h < 161:\n",
        "    if 16.0 <= bmi < 35.0:\n",
        "      print(3)\n",
        "    if bmi < 16 or bmi >= 35.0:\n",
        "      print(4)\n",
        "\n",
        "  if 161 <= h < 204:\n",
        "    if 20.0 <= bmi < 25.0:\n",
        "      print(1)\n",
        "    if 18.5 <= bmi < 20 or 25.0 <= bmi < 30:\n",
        "      print(2)\n",
        "    if 16.0 <= bmi < 18.5 or 30.0 <= bmi < 35.0:\n",
        "      print(3)\n",
        "    if bmi < 16.0 or bmi >= 35.0:\n",
        "      print(4)\n",
        "\n",
        "  if h > 204:\n",
        "    print(4)"
      ]
    },
    {
      "cell_type": "markdown",
      "source": [
        "### 2446"
      ],
      "metadata": {
        "id": "UETlz-ZmoWtY"
      }
    },
    {
      "cell_type": "code",
      "source": [
        "n = int(input())\n",
        "\n",
        "for i in range(n, 0, -1):\n",
        "  top = 2*i-1\n",
        "  blank = n-i\n",
        "  print(' '*blank + '*'*top)\n",
        "\n",
        "for i in range(1, n):\n",
        "  top = 2*i+1\n",
        "  blank = n-i-1\n",
        "  print(' '*blank + '*'*top)"
      ],
      "metadata": {
        "colab": {
          "base_uri": "https://localhost:8080/"
        },
        "id": "e-zv0uh7oXo_",
        "outputId": "392f5e76-3873-43c9-cff7-d51cd3c35c56"
      },
      "execution_count": null,
      "outputs": [
        {
          "output_type": "stream",
          "name": "stdout",
          "text": [
            "5\n",
            "*********\n",
            " ******* \n",
            "  *****  \n",
            "   ***   \n",
            "    *    \n",
            "   ***   \n",
            "  *****  \n",
            " ******* \n",
            "*********\n"
          ]
        }
      ]
    },
    {
      "cell_type": "markdown",
      "source": [
        "---"
      ],
      "metadata": {
        "id": "a8POS441oX58"
      }
    },
    {
      "cell_type": "markdown",
      "source": [
        "## CodeTree"
      ],
      "metadata": {
        "id": "ya44797ooYww"
      }
    },
    {
      "cell_type": "markdown",
      "source": [
        "### 오름 내림차순 정렬"
      ],
      "metadata": {
        "id": "6bLoI6LhoZ6C"
      }
    },
    {
      "cell_type": "code",
      "source": [
        "n = int(input())\n",
        "nums = list(map(int, input().split()))\n",
        "\n",
        "nums.sort()\n",
        "print(*nums)\n",
        "\n",
        "nums = nums[::-1]\n",
        "print(*nums)"
      ],
      "metadata": {
        "id": "z4U5kZCSoaiY"
      },
      "execution_count": null,
      "outputs": []
    }
  ]
}