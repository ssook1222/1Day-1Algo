{
  "nbformat": 4,
  "nbformat_minor": 0,
  "metadata": {
    "colab": {
      "provenance": [],
      "authorship_tag": "ABX9TyOgC0HzRdbvbQ3UH4nWLfRf",
      "include_colab_link": true
    },
    "kernelspec": {
      "name": "python3",
      "display_name": "Python 3"
    },
    "language_info": {
      "name": "python"
    }
  },
  "cells": [
    {
      "cell_type": "markdown",
      "metadata": {
        "id": "view-in-github",
        "colab_type": "text"
      },
      "source": [
        "<a href=\"https://colab.research.google.com/github/ssook1222/1Day-1Algo/blob/master/ssook/24%EB%85%84/2%EC%9B%94/2%EC%9B%94%202%EC%A3%BC%EC%B0%A8/0209.ipynb\" target=\"_parent\"><img src=\"https://colab.research.google.com/assets/colab-badge.svg\" alt=\"Open In Colab\"/></a>"
      ]
    },
    {
      "cell_type": "markdown",
      "source": [
        "## BoJ"
      ],
      "metadata": {
        "id": "-JdieAEsSydB"
      }
    },
    {
      "cell_type": "markdown",
      "source": [
        "### 29863"
      ],
      "metadata": {
        "id": "S1Fs-aQ3S0gs"
      }
    },
    {
      "cell_type": "code",
      "execution_count": null,
      "metadata": {
        "id": "fldA3AUXSueg",
        "colab": {
          "base_uri": "https://localhost:8080/"
        },
        "outputId": "5a7cc1f0-ca6f-49a6-b057-f504d7305d80"
      },
      "outputs": [
        {
          "output_type": "stream",
          "name": "stdout",
          "text": [
            "2\n",
            "7\n",
            "5\n"
          ]
        }
      ],
      "source": [
        "n1 = int(input())\n",
        "n2 = int(input())\n",
        "hap = 0\n",
        "\n",
        "if 20 <= n1 <= 23 :\n",
        "  hap = (24 - n1) + n2\n",
        "\n",
        "elif 0 <= n1 <= 3:\n",
        "  hap = n2 - n1\n",
        "\n",
        "print(hap)"
      ]
    },
    {
      "cell_type": "markdown",
      "source": [
        "### 29163"
      ],
      "metadata": {
        "id": "LaNyOnrnS1SS"
      }
    },
    {
      "cell_type": "code",
      "source": [
        "n = int(input())\n",
        "nums = list(map(int, input().split()))\n",
        "\n",
        "odd = 0\n",
        "even = 0\n",
        "\n",
        "for num in nums:\n",
        "  if num % 2 == 0:\n",
        "    even += 1\n",
        "  else:\n",
        "    odd += 1\n",
        "\n",
        "if even > odd:\n",
        "  print('Happy')\n",
        "\n",
        "elif even <= odd:\n",
        "  print('Sad')"
      ],
      "metadata": {
        "id": "HlmkTq29S2QU"
      },
      "execution_count": null,
      "outputs": []
    },
    {
      "cell_type": "markdown",
      "source": [
        "---"
      ],
      "metadata": {
        "id": "w80jjWlVS2hI"
      }
    },
    {
      "cell_type": "markdown",
      "source": [
        "## CodeTree"
      ],
      "metadata": {
        "id": "8-o4u6KqS3mk"
      }
    },
    {
      "cell_type": "markdown",
      "source": [
        "### 두 개의 동일한 수열"
      ],
      "metadata": {
        "id": "ZnJVYQpIS4yG"
      }
    },
    {
      "cell_type": "code",
      "source": [
        "n = int(input())\n",
        "\n",
        "nums1 = list(map(int, input().split()))\n",
        "nums2 = list(map(int, input().split()))\n",
        "\n",
        "nums1.sort()\n",
        "nums2.sort()\n",
        "\n",
        "if nums1 == nums2:\n",
        "    print(\"Yes\")\n",
        "else:\n",
        "    print(\"No\")"
      ],
      "metadata": {
        "id": "XpvYLRajS5pA"
      },
      "execution_count": null,
      "outputs": []
    }
  ]
}