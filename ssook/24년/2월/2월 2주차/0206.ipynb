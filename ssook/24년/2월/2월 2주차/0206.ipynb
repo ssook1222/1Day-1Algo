{
  "nbformat": 4,
  "nbformat_minor": 0,
  "metadata": {
    "colab": {
      "provenance": [],
      "authorship_tag": "ABX9TyNn7vXlMHNbqjrFybaknfzP",
      "include_colab_link": true
    },
    "kernelspec": {
      "name": "python3",
      "display_name": "Python 3"
    },
    "language_info": {
      "name": "python"
    }
  },
  "cells": [
    {
      "cell_type": "markdown",
      "metadata": {
        "id": "view-in-github",
        "colab_type": "text"
      },
      "source": [
        "<a href=\"https://colab.research.google.com/github/ssook1222/1Day-1Algo/blob/master/ssook/24%EB%85%84/2%EC%9B%94/2%EC%9B%94%202%EC%A3%BC%EC%B0%A8/0206.ipynb\" target=\"_parent\"><img src=\"https://colab.research.google.com/assets/colab-badge.svg\" alt=\"Open In Colab\"/></a>"
      ]
    },
    {
      "cell_type": "markdown",
      "source": [
        "## BoJ\n"
      ],
      "metadata": {
        "id": "rhrMyOIGnoKP"
      }
    },
    {
      "cell_type": "markdown",
      "source": [
        "### 24783"
      ],
      "metadata": {
        "id": "g1YJSfG7oTxn"
      }
    },
    {
      "cell_type": "code",
      "execution_count": null,
      "metadata": {
        "colab": {
          "base_uri": "https://localhost:8080/"
        },
        "id": "CjqfSUXxnlUe",
        "outputId": "40e65d42-14b8-4be7-dcc8-1192ab950cbc"
      },
      "outputs": [
        {
          "output_type": "stream",
          "name": "stdout",
          "text": [
            "6\n",
            "1 2 3\n",
            "Possible\n",
            "2 24 12\n",
            "Possible\n",
            "5 3 1\n",
            "Impossible\n",
            "9 16 7\n",
            "Possible\n",
            "7 2 14\n",
            "Possible\n",
            "12 4 2\n",
            "Impossible\n"
          ]
        }
      ],
      "source": [
        "n = int(input())\n",
        "\n",
        "for _ in range(n):\n",
        "  a, b, c = map(int, input().split())\n",
        "\n",
        "  if a + b == c or a - b == c or a * b == c or a / b == c or b + a == c or b - a == c or b * a == c or b / a == c:\n",
        "    print(\"Possible\")\n",
        "\n",
        "  else:\n",
        "    print(\"Impossible\")"
      ]
    },
    {
      "cell_type": "markdown",
      "source": [
        "### 31403"
      ],
      "metadata": {
        "id": "7D60o-hcoVAn"
      }
    },
    {
      "cell_type": "code",
      "source": [
        "a = int(input())\n",
        "b = int(input())\n",
        "c = int(input())\n",
        "\n",
        "hap = str(a) + str(b)\n",
        "hap = int(hap)\n",
        "\n",
        "print(a+b-c)\n",
        "print(hap-c)"
      ],
      "metadata": {
        "colab": {
          "base_uri": "https://localhost:8080/"
        },
        "id": "pfGjibIdoVsQ",
        "outputId": "dd223fbd-7a82-4036-c7f5-b2120b8b05b9"
      },
      "execution_count": null,
      "outputs": [
        {
          "output_type": "stream",
          "name": "stdout",
          "text": [
            "3\n",
            "4\n",
            "5\n",
            "2\n",
            "29\n"
          ]
        }
      ]
    },
    {
      "cell_type": "markdown",
      "source": [
        "---"
      ],
      "metadata": {
        "id": "7GX1DVqwoW0k"
      }
    },
    {
      "cell_type": "markdown",
      "source": [
        "## CodeTree"
      ],
      "metadata": {
        "id": "duYxS3fxoX8L"
      }
    },
    {
      "cell_type": "markdown",
      "source": [
        "### 별 찍는 것을 5번 반복하기"
      ],
      "metadata": {
        "id": "DbXi95xaoZV3"
      }
    },
    {
      "cell_type": "code",
      "source": [
        "def printing_stars():\n",
        "    print('*'*10)\n",
        "\n",
        "printing_stars()\n",
        "printing_stars()\n",
        "printing_stars()\n",
        "printing_stars()\n",
        "printing_stars()"
      ],
      "metadata": {
        "id": "Q63ppQcToaD-"
      },
      "execution_count": null,
      "outputs": []
    }
  ]
}