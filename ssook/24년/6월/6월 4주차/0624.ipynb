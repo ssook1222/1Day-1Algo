{
  "nbformat": 4,
  "nbformat_minor": 0,
  "metadata": {
    "colab": {
      "provenance": [],
      "authorship_tag": "ABX9TyPEKNfiBL+cd/04NyxL+qPb",
      "include_colab_link": true
    },
    "kernelspec": {
      "name": "python3",
      "display_name": "Python 3"
    },
    "language_info": {
      "name": "python"
    }
  },
  "cells": [
    {
      "cell_type": "markdown",
      "metadata": {
        "id": "view-in-github",
        "colab_type": "text"
      },
      "source": [
        "<a href=\"https://colab.research.google.com/github/ssook1222/1Day-1Algo/blob/master/ssook/24%EB%85%84/6%EC%9B%94/6%EC%9B%94%204%EC%A3%BC%EC%B0%A8/0624.ipynb\" target=\"_parent\"><img src=\"https://colab.research.google.com/assets/colab-badge.svg\" alt=\"Open In Colab\"/></a>"
      ]
    },
    {
      "cell_type": "markdown",
      "source": [
        "## BoJ"
      ],
      "metadata": {
        "id": "tNESEG0NOCh7"
      }
    },
    {
      "cell_type": "markdown",
      "source": [
        "### 2156"
      ],
      "metadata": {
        "id": "QTDpxYBeOEFk"
      }
    },
    {
      "cell_type": "code",
      "execution_count": null,
      "metadata": {
        "id": "lRBj-kWoN9zO"
      },
      "outputs": [],
      "source": [
        "import sys\n",
        "input = sys.stdin.readline\n",
        "\n",
        "n = int(input().rstrip())\n",
        "\n",
        "wine = []\n",
        "\n",
        "for i in range(n):\n",
        "    wine.append(int(input().rstrip()))\n",
        "\n",
        "intake = [0]*n\n",
        "\n",
        "intake[0] = wine[0]\n",
        "if n > 1:\n",
        "    intake[1] = wine[0] + wine[1]\n",
        "\n",
        "if n > 2:\n",
        "    intake[2] = max(wine[2] + wine[1], wine[2] + wine[0], intake[1])\n",
        "\n",
        "for i in range(3, n):\n",
        "    intake[i] = max(intake[i-1], intake[i-3] + wine[i-1] + wine[i], intake[i-2] + wine[i])\n",
        "\n",
        "print(intake[n-1])"
      ]
    },
    {
      "cell_type": "markdown",
      "source": [
        "### 10844"
      ],
      "metadata": {
        "id": "uPv01_24OEyA"
      }
    },
    {
      "cell_type": "code",
      "source": [
        "import sys\n",
        "input = sys.stdin.readline\n",
        "\n",
        "N = int(input().rstrip())\n",
        "\n",
        "stairs = [[0] * 10 for _ in range(N)]\n",
        "\n",
        "stairs[0] = [0, 1, 1, 1, 1, 1, 1, 1, 1, 1]\n",
        "\n",
        "for n in range(1, N):\n",
        "    stairs[n][0] = stairs[n-1][1]\n",
        "    stairs[n][9] = stairs[n-1][8]\n",
        "\n",
        "    for k in range(1, 9):\n",
        "        stairs[n][k] = stairs[n-1][k-1] + stairs[n-1][k+1]\n",
        "\n",
        "result = sum(stairs[N-1]) % 1000000000\n",
        "print(result)\n"
      ],
      "metadata": {
        "id": "fHV0Q2pOOFfC"
      },
      "execution_count": null,
      "outputs": []
    },
    {
      "cell_type": "markdown",
      "source": [
        "---"
      ],
      "metadata": {
        "id": "eOQYXwvtOFvb"
      }
    },
    {
      "cell_type": "markdown",
      "source": [
        "## CodeTree"
      ],
      "metadata": {
        "id": "B_dRudIJOGsO"
      }
    },
    {
      "cell_type": "markdown",
      "source": [
        "### 피보나치 속 일의 자리"
      ],
      "metadata": {
        "id": "XDEqKdvLOH2v"
      }
    },
    {
      "cell_type": "code",
      "source": [
        "import sys\n",
        "input = sys.stdin.readline\n",
        "\n",
        "n = int(input().rstrip())\n",
        "\n",
        "first, second = map(int, input().rstrip().split())\n",
        "\n",
        "sequence = [first, second]\n",
        "\n",
        "for i in range(2, n):\n",
        "    next_term = (sequence[-1] + sequence[-2]) % 10\n",
        "    sequence.append(next_term)\n",
        "\n",
        "\n",
        "print(\" \".join(map(str, sequence)))"
      ],
      "metadata": {
        "id": "AfE48lQZOJWX"
      },
      "execution_count": null,
      "outputs": []
    }
  ]
}