{
  "nbformat": 4,
  "nbformat_minor": 0,
  "metadata": {
    "colab": {
      "provenance": [],
      "authorship_tag": "ABX9TyOkXF2X++ZBDWD+fkkdaw3l",
      "include_colab_link": true
    },
    "kernelspec": {
      "name": "python3",
      "display_name": "Python 3"
    },
    "language_info": {
      "name": "python"
    }
  },
  "cells": [
    {
      "cell_type": "markdown",
      "metadata": {
        "id": "view-in-github",
        "colab_type": "text"
      },
      "source": [
        "<a href=\"https://colab.research.google.com/github/ssook1222/1Day-1Algo/blob/master/ssook/24%EB%85%84/6%EC%9B%94/6%EC%9B%94%204%EC%A3%BC%EC%B0%A8/0627.ipynb\" target=\"_parent\"><img src=\"https://colab.research.google.com/assets/colab-badge.svg\" alt=\"Open In Colab\"/></a>"
      ]
    },
    {
      "cell_type": "markdown",
      "source": [
        "## BoJ"
      ],
      "metadata": {
        "id": "1LHzNniNR-H1"
      }
    },
    {
      "cell_type": "markdown",
      "source": [
        "### 11000"
      ],
      "metadata": {
        "id": "u3xRDtsJSACg"
      }
    },
    {
      "cell_type": "code",
      "source": [
        "import sys\n",
        "import heapq\n",
        "input = sys.stdin.readline\n",
        "\n",
        "N = int(input())\n",
        "class_times = []\n",
        "\n",
        "for _ in range(N):\n",
        "    class_times.append(list(map(int, input().split(' '))))\n",
        "\n",
        "class_times.sort(key=lambda x: (x[0], x[1]))\n",
        "\n",
        "end_times_heap = [class_times[0][1]]\n",
        "\n",
        "for i in range(1, N):\n",
        "    if end_times_heap[0] <= class_times[i][0]:\n",
        "        heapq.heappop(end_times_heap)\n",
        "    heapq.heappush(end_times_heap, class_times[i][1])\n",
        "\n",
        "print(len(end_times_heap))"
      ],
      "metadata": {
        "id": "nTzWzUNoSDly"
      },
      "execution_count": null,
      "outputs": []
    },
    {
      "cell_type": "markdown",
      "source": [
        "### 13023"
      ],
      "metadata": {
        "id": "iJsKsoc3SCNB"
      }
    },
    {
      "cell_type": "code",
      "execution_count": null,
      "metadata": {
        "id": "iMRTMgJIR4AA"
      },
      "outputs": [],
      "source": [
        "import sys\n",
        "from collections import deque\n",
        "\n",
        "input = sys.stdin.readline\n",
        "sys.setrecursionlimit(100000)\n",
        "\n",
        "N, M = map(int, input().split())\n",
        "\n",
        "visited = [False] * N\n",
        "adjacent = [[] for _ in range(N)]\n",
        "arrive = False\n",
        "\n",
        "for _ in range(M):\n",
        "    a, b = map(int, input().split())\n",
        "    adjacent[a].append(b)\n",
        "    adjacent[b].append(a)\n",
        "\n",
        "def dfs(start, depth):\n",
        "    global arrive\n",
        "    visited[start] = True\n",
        "    if depth == 5:\n",
        "        arrive = True\n",
        "        return\n",
        "    for i in adjacent[start]:\n",
        "        if not visited[i]:\n",
        "            dfs(i, depth + 1)\n",
        "    visited[start] = False\n",
        "\n",
        "for i in range(N):\n",
        "    dfs(i, 1)\n",
        "    if arrive:\n",
        "        break\n",
        "\n",
        "if arrive:\n",
        "    print(1)\n",
        "else:\n",
        "    print(0)"
      ]
    },
    {
      "cell_type": "markdown",
      "source": [
        "---"
      ],
      "metadata": {
        "id": "AsOycc2DSD6o"
      }
    },
    {
      "cell_type": "markdown",
      "source": [
        "## CodeTree"
      ],
      "metadata": {
        "id": "cw6Hi10zSEbw"
      }
    },
    {
      "cell_type": "markdown",
      "source": [
        "### 문자열 범위 출력하기 3"
      ],
      "metadata": {
        "id": "6cLPu8aWSFpp"
      }
    },
    {
      "cell_type": "code",
      "source": [
        "input_string = input().strip()\n",
        "\n",
        "print(input_string[4:17])"
      ],
      "metadata": {
        "id": "-zas04DxT4Sx"
      },
      "execution_count": null,
      "outputs": []
    }
  ]
}