{
  "nbformat": 4,
  "nbformat_minor": 0,
  "metadata": {
    "colab": {
      "provenance": [],
      "authorship_tag": "ABX9TyPolLLx7SrddBeOXpGeaOcM",
      "include_colab_link": true
    },
    "kernelspec": {
      "name": "python3",
      "display_name": "Python 3"
    },
    "language_info": {
      "name": "python"
    }
  },
  "cells": [
    {
      "cell_type": "markdown",
      "metadata": {
        "id": "view-in-github",
        "colab_type": "text"
      },
      "source": [
        "<a href=\"https://colab.research.google.com/github/ssook1222/1Day-1Algo/blob/master/ssook/24%EB%85%84/6%EC%9B%94/6%EC%9B%94%204%EC%A3%BC%EC%B0%A8/0628.ipynb\" target=\"_parent\"><img src=\"https://colab.research.google.com/assets/colab-badge.svg\" alt=\"Open In Colab\"/></a>"
      ]
    },
    {
      "cell_type": "markdown",
      "source": [
        "## BoJ"
      ],
      "metadata": {
        "id": "1LHzNniNR-H1"
      }
    },
    {
      "cell_type": "markdown",
      "source": [
        "### 2251"
      ],
      "metadata": {
        "id": "u3xRDtsJSACg"
      }
    },
    {
      "cell_type": "code",
      "source": [
        "import sys\n",
        "from collections import deque\n",
        "\n",
        "a, b, c = map(int, sys.stdin.readline().split())\n",
        "\n",
        "q = deque()\n",
        "q.append((0, 0))\n",
        "\n",
        "visited = [[False] * (b + 1) for _ in range(a + 1)]\n",
        "visited[0][0] = True\n",
        "\n",
        "answer = []\n",
        "\n",
        "def pour(x, y):\n",
        "    if not visited[x][y]:\n",
        "        visited[x][y] = True\n",
        "        q.append((x, y))\n",
        "\n",
        "def bfs():\n",
        "    while q:\n",
        "        x, y = q.popleft()\n",
        "        z = c - x - y\n",
        "\n",
        "        if x == 0:\n",
        "            answer.append(z)\n",
        "\n",
        "        water = min(x, b - y)\n",
        "        pour(x - water, y + water)\n",
        "\n",
        "        water = min(x, c - z)\n",
        "        pour(x - water, y)\n",
        "\n",
        "        water = min(y, c - z)\n",
        "        pour(x, y - water)\n",
        "\n",
        "        water = min(y, a - x)\n",
        "        pour(x + water, y - water)\n",
        "\n",
        "        water = min(z, a - x)\n",
        "        pour(x + water, y)\n",
        "\n",
        "        water = min(z, b - y)\n",
        "        pour(x, y + water)\n",
        "\n",
        "bfs()\n",
        "\n",
        "answer.sort()\n",
        "for i in answer:\n",
        "    print(i, end=\" \")"
      ],
      "metadata": {
        "id": "nTzWzUNoSDly"
      },
      "execution_count": null,
      "outputs": []
    },
    {
      "cell_type": "markdown",
      "source": [
        "### 2212"
      ],
      "metadata": {
        "id": "iJsKsoc3SCNB"
      }
    },
    {
      "cell_type": "code",
      "execution_count": null,
      "metadata": {
        "id": "iMRTMgJIR4AA"
      },
      "outputs": [],
      "source": [
        "import sys\n",
        "input = sys.stdin.readline\n",
        "\n",
        "num_sensors = int(input())\n",
        "max_stations = int(input())\n",
        "\n",
        "sensor_positions = list(map(int, input().split()))\n",
        "sensor_positions.sort()\n",
        "\n",
        "distances = []\n",
        "for i in range(0, num_sensors - 1):\n",
        "    distances.append(sensor_positions[i + 1] - sensor_positions[i])\n",
        "distances.sort()\n",
        "\n",
        "min_coverage_length = sum(distances[:num_sensors - max_stations])\n",
        "\n",
        "print(min_coverage_length)"
      ]
    },
    {
      "cell_type": "markdown",
      "source": [
        "---"
      ],
      "metadata": {
        "id": "AsOycc2DSD6o"
      }
    },
    {
      "cell_type": "markdown",
      "source": [
        "## CodeTree"
      ],
      "metadata": {
        "id": "cw6Hi10zSEbw"
      }
    },
    {
      "cell_type": "markdown",
      "source": [
        "### 문자열 범위 출력하기 4"
      ],
      "metadata": {
        "id": "6cLPu8aWSFpp"
      }
    },
    {
      "cell_type": "code",
      "source": [
        "n = int(input())\n",
        "\n",
        "string = input().strip()\n",
        "\n",
        "print(string[:n])"
      ],
      "metadata": {
        "id": "-zas04DxT4Sx"
      },
      "execution_count": null,
      "outputs": []
    }
  ]
}