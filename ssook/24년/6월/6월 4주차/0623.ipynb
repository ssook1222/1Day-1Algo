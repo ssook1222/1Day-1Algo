{
  "nbformat": 4,
  "nbformat_minor": 0,
  "metadata": {
    "colab": {
      "provenance": [],
      "authorship_tag": "ABX9TyPs+spoaVeqLC4RlnWhrSnm",
      "include_colab_link": true
    },
    "kernelspec": {
      "name": "python3",
      "display_name": "Python 3"
    },
    "language_info": {
      "name": "python"
    }
  },
  "cells": [
    {
      "cell_type": "markdown",
      "metadata": {
        "id": "view-in-github",
        "colab_type": "text"
      },
      "source": [
        "<a href=\"https://colab.research.google.com/github/ssook1222/1Day-1Algo/blob/master/ssook/24%EB%85%84/6%EC%9B%94/6%EC%9B%94%204%EC%A3%BC%EC%B0%A8/0623.ipynb\" target=\"_parent\"><img src=\"https://colab.research.google.com/assets/colab-badge.svg\" alt=\"Open In Colab\"/></a>"
      ]
    },
    {
      "cell_type": "markdown",
      "source": [
        "## BoJ"
      ],
      "metadata": {
        "id": "6_ZLa2a0fWwg"
      }
    },
    {
      "cell_type": "markdown",
      "source": [
        "### 11908"
      ],
      "metadata": {
        "id": "EnGv3kFrfYC6"
      }
    },
    {
      "cell_type": "code",
      "execution_count": null,
      "metadata": {
        "id": "hYl6YvWXfS6M"
      },
      "outputs": [],
      "source": [
        "n = int(input())\n",
        "lst = sorted(list(map(int, input().split())))\n",
        "\n",
        "print(sum(lst[:-1]))"
      ]
    },
    {
      "cell_type": "markdown",
      "source": [
        "### 12840"
      ],
      "metadata": {
        "id": "VhbLTQulfZE1"
      }
    },
    {
      "cell_type": "code",
      "source": [
        "import sys\n",
        "\n",
        "def adjust_time(h, m, s, lst):\n",
        "    t = h*3600 + m*60 + s\n",
        "    if lst[0] == 1:\n",
        "        t += lst[1]\n",
        "    elif lst[0] == 2:\n",
        "        t -= lst[1]\n",
        "\n",
        "    if t < 0:\n",
        "        t += 86400\n",
        "\n",
        "    t = t % 86400\n",
        "    h, m, s = t // 3600, (t % 3600) // 60, t % 60\n",
        "    return h, m, s\n",
        "\n",
        "h, m, s = map(int, sys.stdin.readline().split())\n",
        "n = int(sys.stdin.readline())\n",
        "\n",
        "for _ in range(n):\n",
        "    lst = list(map(int, sys.stdin.readline().split()))\n",
        "    if len(lst) == 1 and lst[0] == 3:\n",
        "        print(h, m, s)\n",
        "    else:\n",
        "        h, m, s = adjust_time(h, m, s, lst)"
      ],
      "metadata": {
        "id": "JKXsw64QfZs6"
      },
      "execution_count": null,
      "outputs": []
    },
    {
      "cell_type": "markdown",
      "source": [
        "---"
      ],
      "metadata": {
        "id": "9511ijfFfZ8C"
      }
    },
    {
      "cell_type": "markdown",
      "source": [
        "## CodeTree"
      ],
      "metadata": {
        "id": "qi-C1YX9fagl"
      }
    },
    {
      "cell_type": "markdown",
      "source": [
        "### 문자열 뒤집어서 출력하기"
      ],
      "metadata": {
        "id": "dgXfP147kRun"
      }
    },
    {
      "cell_type": "code",
      "source": [
        "words = []\n",
        "\n",
        "for _ in range(4):\n",
        "    raw = input()\n",
        "    words.append(raw[::-1])\n",
        "\n",
        "for i in range(len(words)-1, -1, -1):\n",
        "    print(words[i])"
      ],
      "metadata": {
        "id": "DkB9q3Brfbnm"
      },
      "execution_count": null,
      "outputs": []
    }
  ]
}