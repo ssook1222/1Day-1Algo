{
  "nbformat": 4,
  "nbformat_minor": 0,
  "metadata": {
    "colab": {
      "provenance": [],
      "authorship_tag": "ABX9TyNLOhAOeZHSMqkob5xQEdEJ",
      "include_colab_link": true
    },
    "kernelspec": {
      "name": "python3",
      "display_name": "Python 3"
    },
    "language_info": {
      "name": "python"
    }
  },
  "cells": [
    {
      "cell_type": "markdown",
      "metadata": {
        "id": "view-in-github",
        "colab_type": "text"
      },
      "source": [
        "<a href=\"https://colab.research.google.com/github/ssook1222/1Day-1Algo/blob/master/ssook/24%EB%85%84/6%EC%9B%94/6%EC%9B%94%204%EC%A3%BC%EC%B0%A8/0625.ipynb\" target=\"_parent\"><img src=\"https://colab.research.google.com/assets/colab-badge.svg\" alt=\"Open In Colab\"/></a>"
      ]
    },
    {
      "cell_type": "markdown",
      "source": [
        "## BoJ"
      ],
      "metadata": {
        "id": "1LHzNniNR-H1"
      }
    },
    {
      "cell_type": "markdown",
      "source": [
        "### 1992"
      ],
      "metadata": {
        "id": "u3xRDtsJSACg"
      }
    },
    {
      "cell_type": "code",
      "source": [
        "import sys\n",
        "input = sys.stdin.readline\n",
        "\n",
        "N = int(input().rstrip())\n",
        "\n",
        "video = [list(map(int, input().rstrip())) for _ in range(N)]\n",
        "\n",
        "def quadtree_compress(x, y, size):\n",
        "    initial_value = video[x][y]\n",
        "    all_same = True\n",
        "\n",
        "    for i in range(x, x + size):\n",
        "        for j in range(y, y + size):\n",
        "            if video[i][j] != initial_value:\n",
        "                all_same = False\n",
        "                break\n",
        "        if not all_same:\n",
        "            break\n",
        "\n",
        "    if all_same:\n",
        "        print(initial_value, end='')\n",
        "    else:\n",
        "        print(\"(\", end='')\n",
        "        half_size = size // 2\n",
        "        quadtree_compress(x, y, half_size)\n",
        "        quadtree_compress(x, y + half_size, half_size)\n",
        "        quadtree_compress(x + half_size, y, half_size)\n",
        "        quadtree_compress(x + half_size, y + half_size, half_size)\n",
        "        print(\")\", end='')\n",
        "\n",
        "quadtree_compress(0, 0, N)"
      ],
      "metadata": {
        "id": "nTzWzUNoSDly"
      },
      "execution_count": null,
      "outputs": []
    },
    {
      "cell_type": "markdown",
      "source": [
        "### 1080"
      ],
      "metadata": {
        "id": "iJsKsoc3SCNB"
      }
    },
    {
      "cell_type": "code",
      "execution_count": null,
      "metadata": {
        "id": "iMRTMgJIR4AA"
      },
      "outputs": [],
      "source": [
        "import sys\n",
        "input = sys.stdin.readline\n",
        "\n",
        "n, m = map(int, input().split())\n",
        "\n",
        "matrixA = [list(map(int, input().rstrip())) for _ in range(n)]\n",
        "matrixB = [list(map(int, input().rstrip())) for _ in range(n)]\n",
        "\n",
        "def flip_submatrix(x, y):\n",
        "    for i in range(x, x + 3):\n",
        "        for j in range(y, y + 3):\n",
        "            matrixA[i][j] = 1 - matrixA[i][j]\n",
        "\n",
        "operation_count = 0\n",
        "\n",
        "if (n < 3 or m < 3) and matrixA != matrixB:\n",
        "    operation_count = -1\n",
        "else:\n",
        "    for i in range(n - 2):\n",
        "        for j in range(m - 2):\n",
        "            if matrixA[i][j] != matrixB[i][j]:\n",
        "                flip_submatrix(i, j)\n",
        "                operation_count += 1\n",
        "\n",
        "if operation_count != -1 and matrixA != matrixB:\n",
        "    operation_count = -1\n",
        "\n",
        "print(operation_count)"
      ]
    },
    {
      "cell_type": "markdown",
      "source": [
        "---"
      ],
      "metadata": {
        "id": "AsOycc2DSD6o"
      }
    },
    {
      "cell_type": "markdown",
      "source": [
        "## CodeTree"
      ],
      "metadata": {
        "id": "cw6Hi10zSEbw"
      }
    },
    {
      "cell_type": "markdown",
      "source": [
        "### 아스키코드 출력"
      ],
      "metadata": {
        "id": "6cLPu8aWSFpp"
      }
    },
    {
      "cell_type": "code",
      "source": [
        "import sys\n",
        "input = sys.stdin.readline\n",
        "\n",
        "n = int(input().rstrip())\n",
        "\n",
        "for _ in range(n):\n",
        "    ascii_code = int(input().rstrip())\n",
        "    print(chr(ascii_code))"
      ],
      "metadata": {
        "id": "MHnTl_JvSGdq"
      },
      "execution_count": null,
      "outputs": []
    }
  ]
}