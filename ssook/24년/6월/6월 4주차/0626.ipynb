{
  "nbformat": 4,
  "nbformat_minor": 0,
  "metadata": {
    "colab": {
      "provenance": [],
      "authorship_tag": "ABX9TyPbrEgnlYahTUs6M3jXDOZQ",
      "include_colab_link": true
    },
    "kernelspec": {
      "name": "python3",
      "display_name": "Python 3"
    },
    "language_info": {
      "name": "python"
    }
  },
  "cells": [
    {
      "cell_type": "markdown",
      "metadata": {
        "id": "view-in-github",
        "colab_type": "text"
      },
      "source": [
        "<a href=\"https://colab.research.google.com/github/ssook1222/1Day-1Algo/blob/master/ssook/24%EB%85%84/6%EC%9B%94/6%EC%9B%94%204%EC%A3%BC%EC%B0%A8/0626.ipynb\" target=\"_parent\"><img src=\"https://colab.research.google.com/assets/colab-badge.svg\" alt=\"Open In Colab\"/></a>"
      ]
    },
    {
      "cell_type": "markdown",
      "source": [
        "## BoJ"
      ],
      "metadata": {
        "id": "1LHzNniNR-H1"
      }
    },
    {
      "cell_type": "markdown",
      "source": [
        "### 2504"
      ],
      "metadata": {
        "id": "u3xRDtsJSACg"
      }
    },
    {
      "cell_type": "code",
      "source": [
        "import sys\n",
        "input = sys.stdin.readline\n",
        "\n",
        "parentheses = input().strip()\n",
        "stack = []\n",
        "\n",
        "total_value = 0\n",
        "temp_value = 1\n",
        "\n",
        "for i in range(len(parentheses)):\n",
        "    if parentheses[i] == '(':\n",
        "        stack.append(parentheses[i])\n",
        "        temp_value *= 2\n",
        "    elif parentheses[i] == '[':\n",
        "        stack.append(parentheses[i])\n",
        "        temp_value *= 3\n",
        "    elif parentheses[i] == ')':\n",
        "        if not stack or stack[-1] == '[':\n",
        "            total_value = 0\n",
        "            break\n",
        "        if parentheses[i - 1] == '(':\n",
        "            total_value += temp_value\n",
        "        stack.pop()\n",
        "        temp_value //= 2\n",
        "    elif parentheses[i] == ']':\n",
        "        if not stack or stack[-1] == '(':\n",
        "            total_value = 0\n",
        "            break\n",
        "        if parentheses[i - 1] == '[':\n",
        "            total_value += temp_value\n",
        "        stack.pop()\n",
        "        temp_value //= 3\n",
        "\n",
        "if stack:\n",
        "    print(0)\n",
        "else:\n",
        "    print(total_value)"
      ],
      "metadata": {
        "id": "nTzWzUNoSDly"
      },
      "execution_count": null,
      "outputs": []
    },
    {
      "cell_type": "markdown",
      "source": [
        "### 2225"
      ],
      "metadata": {
        "id": "iJsKsoc3SCNB"
      }
    },
    {
      "cell_type": "code",
      "execution_count": null,
      "metadata": {
        "id": "iMRTMgJIR4AA"
      },
      "outputs": [],
      "source": [
        "import sys\n",
        "input = sys.stdin.readline\n",
        "\n",
        "N, K = map(int, input().rstrip().split())\n",
        "\n",
        "dp = [[0] * (K + 1) for _ in range(N + 1)]\n",
        "dp[0][0] = 1\n",
        "\n",
        "for i in range(N + 1):\n",
        "    for j in range(1, K + 1):\n",
        "        dp[i][j] = dp[i - 1][j] + dp[i][j - 1]\n",
        "\n",
        "print(dp[N][K] % 1000000000)"
      ]
    },
    {
      "cell_type": "markdown",
      "source": [
        "---"
      ],
      "metadata": {
        "id": "AsOycc2DSD6o"
      }
    },
    {
      "cell_type": "markdown",
      "source": [
        "## CodeTree"
      ],
      "metadata": {
        "id": "cw6Hi10zSEbw"
      }
    },
    {
      "cell_type": "markdown",
      "source": [
        "### 소문자로 출력하기"
      ],
      "metadata": {
        "id": "6cLPu8aWSFpp"
      }
    },
    {
      "cell_type": "code",
      "source": [
        "import sys\n",
        "input = sys.stdin.read\n",
        "\n",
        "input_string = input().strip()\n",
        "\n",
        "result = \"\"\n",
        "\n",
        "for char in input_string:\n",
        "    if char.isalpha():\n",
        "        result += char.lower()\n",
        "\n",
        "print(result)"
      ],
      "metadata": {
        "id": "-zas04DxT4Sx"
      },
      "execution_count": null,
      "outputs": []
    }
  ]
}