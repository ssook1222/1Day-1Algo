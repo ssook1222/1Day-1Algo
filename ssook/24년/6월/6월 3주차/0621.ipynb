{
  "nbformat": 4,
  "nbformat_minor": 0,
  "metadata": {
    "colab": {
      "provenance": [],
      "authorship_tag": "ABX9TyP5tfNBCx9zL02TPMWIFhXC",
      "include_colab_link": true
    },
    "kernelspec": {
      "name": "python3",
      "display_name": "Python 3"
    },
    "language_info": {
      "name": "python"
    }
  },
  "cells": [
    {
      "cell_type": "markdown",
      "metadata": {
        "id": "view-in-github",
        "colab_type": "text"
      },
      "source": [
        "<a href=\"https://colab.research.google.com/github/ssook1222/1Day-1Algo/blob/master/ssook/24%EB%85%84/6%EC%9B%94/6%EC%9B%94%203%EC%A3%BC%EC%B0%A8/0621.ipynb\" target=\"_parent\"><img src=\"https://colab.research.google.com/assets/colab-badge.svg\" alt=\"Open In Colab\"/></a>"
      ]
    },
    {
      "cell_type": "markdown",
      "source": [
        "## BoJ"
      ],
      "metadata": {
        "id": "6_ZLa2a0fWwg"
      }
    },
    {
      "cell_type": "markdown",
      "source": [
        "### 11024"
      ],
      "metadata": {
        "id": "EnGv3kFrfYC6"
      }
    },
    {
      "cell_type": "code",
      "execution_count": null,
      "metadata": {
        "id": "hYl6YvWXfS6M"
      },
      "outputs": [],
      "source": [
        "t = int(input())\n",
        "for _ in range(t):\n",
        "    print(sum(map(int, input().split())))"
      ]
    },
    {
      "cell_type": "markdown",
      "source": [
        "### 11034"
      ],
      "metadata": {
        "id": "VhbLTQulfZE1"
      }
    },
    {
      "cell_type": "code",
      "source": [
        "while True:\n",
        "    try:\n",
        "        A, B, C = map(int, input().split())\n",
        "        ans = max(B-A, C-B)-1\n",
        "        print(ans)\n",
        "\n",
        "    except:\n",
        "        break"
      ],
      "metadata": {
        "id": "JKXsw64QfZs6"
      },
      "execution_count": null,
      "outputs": []
    },
    {
      "cell_type": "markdown",
      "source": [
        "---"
      ],
      "metadata": {
        "id": "9511ijfFfZ8C"
      }
    },
    {
      "cell_type": "markdown",
      "source": [
        "## CodeTree"
      ],
      "metadata": {
        "id": "qi-C1YX9fagl"
      }
    },
    {
      "cell_type": "markdown",
      "source": [
        "### 특정 조건의 수 뽑기"
      ],
      "metadata": {
        "id": "ahpOqT0ihnXN"
      }
    },
    {
      "cell_type": "code",
      "source": [
        "def find_numbers(n, numbers):\n",
        "    closest_to_100 = None\n",
        "    min_above_100 = None\n",
        "\n",
        "    for number in numbers:\n",
        "        if closest_to_100 is None or abs(number - 100) < abs(closest_to_100 - 100) or (abs(number - 100) == abs(closest_to_100 - 100) and number < closest_to_100):\n",
        "            closest_to_100 = number\n",
        "\n",
        "        if number >= 100 and (min_above_100 is None or number < min_above_100):\n",
        "            min_above_100 = number\n",
        "\n",
        "    if min_above_100 is None:\n",
        "        min_above_100 = -1\n",
        "\n",
        "    return closest_to_100, min_above_100\n",
        "\n",
        "n = int(input())\n",
        "numbers = list(map(int, input().split()))\n",
        "closest_to_100, min_above_100 = find_numbers(n, numbers)\n",
        "print(closest_to_100, min_above_100)"
      ],
      "metadata": {
        "id": "DkB9q3Brfbnm"
      },
      "execution_count": null,
      "outputs": []
    }
  ]
}