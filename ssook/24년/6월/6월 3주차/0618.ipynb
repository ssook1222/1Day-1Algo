{
  "nbformat": 4,
  "nbformat_minor": 0,
  "metadata": {
    "colab": {
      "provenance": [],
      "authorship_tag": "ABX9TyN+LReKdmSpkq/z2uyXYadH",
      "include_colab_link": true
    },
    "kernelspec": {
      "name": "python3",
      "display_name": "Python 3"
    },
    "language_info": {
      "name": "python"
    }
  },
  "cells": [
    {
      "cell_type": "markdown",
      "metadata": {
        "id": "view-in-github",
        "colab_type": "text"
      },
      "source": [
        "<a href=\"https://colab.research.google.com/github/ssook1222/1Day-1Algo/blob/master/ssook/24%EB%85%84/6%EC%9B%94/6%EC%9B%94%203%EC%A3%BC%EC%B0%A8/0618.ipynb\" target=\"_parent\"><img src=\"https://colab.research.google.com/assets/colab-badge.svg\" alt=\"Open In Colab\"/></a>"
      ]
    },
    {
      "cell_type": "markdown",
      "source": [
        "## BoJ"
      ],
      "metadata": {
        "id": "U_q_6ApBJj8X"
      }
    },
    {
      "cell_type": "markdown",
      "source": [
        "### 1074"
      ],
      "metadata": {
        "id": "RlVXLJcuJmCE"
      }
    },
    {
      "cell_type": "code",
      "execution_count": null,
      "metadata": {
        "id": "Mf2FKl0HJhZ1"
      },
      "outputs": [],
      "source": [
        "N, r, c = map(int, input().split())\n",
        "\n",
        "order = 0\n",
        "\n",
        "while N != 0:\n",
        "\n",
        "    N -= 1\n",
        "\n",
        "    if r < 2 ** N and c < 2 ** N:\n",
        "        order += (2 ** (2 * N)) * 0\n",
        "\n",
        "    elif r < 2 ** N and c >= 2 ** N:\n",
        "        order += (2 ** (2 * N)) * 1\n",
        "        c -= (2 ** N)\n",
        "\n",
        "    elif r >= 2 ** N and c < 2 ** N:\n",
        "        order += (2 ** (2 * N)) * 2\n",
        "        r -= (2 ** N)\n",
        "\n",
        "    else:\n",
        "        order += (2 ** (2 * N)) * 3\n",
        "        r -= (2 ** N)\n",
        "        c -= (2 ** N)\n",
        "\n",
        "print(order)"
      ]
    },
    {
      "cell_type": "markdown",
      "source": [
        "### 10026"
      ],
      "metadata": {
        "id": "4Id3qwemJnTz"
      }
    },
    {
      "cell_type": "code",
      "source": [
        "import sys\n",
        "sys.setrecursionlimit(1000000)\n",
        "\n",
        "N = int(sys.stdin.readline().rstrip())\n",
        "grid = [list(sys.stdin.readline().rstrip()) for _ in range(N)]\n",
        "visited = [[False] * N for _ in range(N)]\n",
        "\n",
        "normal_cnt, abnormal_cnt = 0, 0\n",
        "dx = [-1, 1, 0, 0]\n",
        "dy = [0, 0, -1, 1]\n",
        "\n",
        "def dfs(x, y):\n",
        "    visited[x][y] = True\n",
        "    current_color = grid[x][y]\n",
        "\n",
        "    for k in range(4):\n",
        "        nx = x + dx[k]\n",
        "        ny = y + dy[k]\n",
        "        if 0 <= nx < N and 0 <= ny < N:\n",
        "            if not visited[nx][ny]:\n",
        "                if grid[nx][ny] == current_color:\n",
        "                    dfs(nx, ny)\n",
        "\n",
        "for i in range(N):\n",
        "    for j in range(N):\n",
        "        if not visited[i][j]:\n",
        "            dfs(i, j)\n",
        "            normal_cnt += 1\n",
        "\n",
        "for i in range(N):\n",
        "    for j in range(N):\n",
        "        if grid[i][j] == 'R':\n",
        "            grid[i][j] = 'G'\n",
        "\n",
        "visited = [[False] * N for _ in range(N)]\n",
        "\n",
        "for i in range(N):\n",
        "    for j in range(N):\n",
        "        if not visited[i][j]:\n",
        "            dfs(i, j)\n",
        "            abnormal_cnt += 1\n",
        "\n",
        "print(normal_cnt, abnormal_cnt)"
      ],
      "metadata": {
        "id": "3BpxWBrKJoya"
      },
      "execution_count": null,
      "outputs": []
    },
    {
      "cell_type": "markdown",
      "source": [
        "---"
      ],
      "metadata": {
        "id": "masBTZ91JpkB"
      }
    },
    {
      "cell_type": "markdown",
      "source": [
        "## CodeTree"
      ],
      "metadata": {
        "id": "vuhBd-n5Jrad"
      }
    },
    {
      "cell_type": "markdown",
      "source": [
        "### 차례대로 짝수 감소시키기"
      ],
      "metadata": {
        "id": "xShCIE2IJs7e"
      }
    },
    {
      "cell_type": "code",
      "source": [
        "n = int(input().strip())\n",
        "\n",
        "if n == 1000:\n",
        "    print('0 0')\n",
        "\n",
        "else:\n",
        "    even_count = 1\n",
        "    even_sum = 0\n",
        "\n",
        "    current_num = 1000\n",
        "\n",
        "    while current_num >= n:\n",
        "        current_num -= 2 * even_count\n",
        "        even_count += 1\n",
        "        even_sum += 2 * (even_count - 1)\n",
        "\n",
        "    print(even_count-1, even_sum)"
      ],
      "metadata": {
        "id": "d8NCEF1aJt0x"
      },
      "execution_count": null,
      "outputs": []
    }
  ]
}