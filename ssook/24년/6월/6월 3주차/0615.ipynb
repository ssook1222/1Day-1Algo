{
  "nbformat": 4,
  "nbformat_minor": 0,
  "metadata": {
    "colab": {
      "provenance": [],
      "authorship_tag": "ABX9TyOlRUHdfSyMhRyuMhQG4gFJ",
      "include_colab_link": true
    },
    "kernelspec": {
      "name": "python3",
      "display_name": "Python 3"
    },
    "language_info": {
      "name": "python"
    }
  },
  "cells": [
    {
      "cell_type": "markdown",
      "metadata": {
        "id": "view-in-github",
        "colab_type": "text"
      },
      "source": [
        "<a href=\"https://colab.research.google.com/github/ssook1222/1Day-1Algo/blob/master/ssook/24%EB%85%84/6%EC%9B%94/6%EC%9B%94%203%EC%A3%BC%EC%B0%A8/0615.ipynb\" target=\"_parent\"><img src=\"https://colab.research.google.com/assets/colab-badge.svg\" alt=\"Open In Colab\"/></a>"
      ]
    },
    {
      "cell_type": "markdown",
      "source": [
        "## BoJ"
      ],
      "metadata": {
        "id": "V6PejHqe9U2X"
      }
    },
    {
      "cell_type": "markdown",
      "source": [
        "### 30802"
      ],
      "metadata": {
        "id": "DLvh3HMU9WEB"
      }
    },
    {
      "cell_type": "code",
      "execution_count": null,
      "metadata": {
        "id": "DJQl8l1U9SD3"
      },
      "outputs": [],
      "source": [
        "def solve():\n",
        "    n = int(input())\n",
        "    a = list(map(int, input().split()))\n",
        "    t, p = map(int, input().split())\n",
        "\n",
        "    ans = 0\n",
        "    for i in range(6):\n",
        "        ans += (a[i] + t - 1) // t\n",
        "\n",
        "    print(ans)\n",
        "    print(n // p, n % p)\n",
        "\n",
        "if __name__ == \"__main__\":\n",
        "    solve()"
      ]
    },
    {
      "cell_type": "markdown",
      "source": [
        "### 28702"
      ],
      "metadata": {
        "id": "C2FeINeI9XKA"
      }
    },
    {
      "cell_type": "code",
      "source": [
        "import sys\n",
        "\n",
        "ans = 0\n",
        "for i in [3, 2, 1]:\n",
        "    tmp = sys.stdin.readline().rstrip()\n",
        "\n",
        "    if tmp not in ['Fizz', 'Buzz', 'FizzBuzz']:\n",
        "        ans = int(tmp) + i\n",
        "\n",
        "if ans % 3 == 0 and ans % 5 == 0:\n",
        "    print('FizzBuzz')\n",
        "elif ans % 3 == 0:\n",
        "    print('Fizz')\n",
        "elif ans % 5 == 0:\n",
        "    print('Buzz')\n",
        "else:\n",
        "    print(ans)"
      ],
      "metadata": {
        "id": "YFJZxUb_9YMG"
      },
      "execution_count": null,
      "outputs": []
    },
    {
      "cell_type": "markdown",
      "source": [
        "---"
      ],
      "metadata": {
        "id": "7UT00Lkw9YrN"
      }
    },
    {
      "cell_type": "markdown",
      "source": [
        "## CodeTree"
      ],
      "metadata": {
        "id": "XY3SmUZh9Zgo"
      }
    },
    {
      "cell_type": "markdown",
      "source": [
        "### 약수 출력하기"
      ],
      "metadata": {
        "id": "y8oua5vw9axg"
      }
    },
    {
      "cell_type": "code",
      "source": [
        "import sys\n",
        "input = sys.stdin.readline\n",
        "\n",
        "def find_divisors(n):\n",
        "    divisors = []\n",
        "    for i in range(1, int(n**0.5) + 1):\n",
        "        if n % i == 0:\n",
        "            divisors.append(i)\n",
        "            if i != n // i:\n",
        "                divisors.append(n // i)\n",
        "    return sorted(divisors)\n",
        "\n",
        "def main():\n",
        "    N = int(input().rstrip())\n",
        "    divisors = find_divisors(N)\n",
        "    print(\" \".join(map(str, divisors)))\n",
        "\n",
        "if __name__ == \"__main__\":\n",
        "    main()"
      ],
      "metadata": {
        "id": "kxtEWVXu9bwz"
      },
      "execution_count": null,
      "outputs": []
    }
  ]
}