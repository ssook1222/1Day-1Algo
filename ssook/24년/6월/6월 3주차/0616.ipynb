{
  "nbformat": 4,
  "nbformat_minor": 0,
  "metadata": {
    "colab": {
      "provenance": [],
      "authorship_tag": "ABX9TyNffOHiUzctnNqdZ80GPprJ",
      "include_colab_link": true
    },
    "kernelspec": {
      "name": "python3",
      "display_name": "Python 3"
    },
    "language_info": {
      "name": "python"
    }
  },
  "cells": [
    {
      "cell_type": "markdown",
      "metadata": {
        "id": "view-in-github",
        "colab_type": "text"
      },
      "source": [
        "<a href=\"https://colab.research.google.com/github/ssook1222/1Day-1Algo/blob/master/ssook/24%EB%85%84/6%EC%9B%94/6%EC%9B%94%203%EC%A3%BC%EC%B0%A8/0616.ipynb\" target=\"_parent\"><img src=\"https://colab.research.google.com/assets/colab-badge.svg\" alt=\"Open In Colab\"/></a>"
      ]
    },
    {
      "cell_type": "markdown",
      "source": [
        "## BoJ"
      ],
      "metadata": {
        "id": "kLxDrE8UFEaE"
      }
    },
    {
      "cell_type": "markdown",
      "source": [
        "### 11726"
      ],
      "metadata": {
        "id": "0tcr5cPSFGiz"
      }
    },
    {
      "cell_type": "code",
      "execution_count": null,
      "metadata": {
        "id": "o1rcwuCPE8L5"
      },
      "outputs": [],
      "source": [
        "import sys\n",
        "\n",
        "def count_tiling_ways():\n",
        "    n = int(sys.stdin.readline().rstrip())\n",
        "    dp = [0] * 1001\n",
        "    dp[1] = 1\n",
        "    dp[2] = 2\n",
        "\n",
        "    for i in range(3, n + 1):\n",
        "        dp[i] = (dp[i - 1] + dp[i - 2]) % 10007\n",
        "\n",
        "    print(dp[n])\n",
        "\n",
        "if __name__ == \"__main__\":\n",
        "    count_tiling_ways()"
      ]
    },
    {
      "cell_type": "markdown",
      "source": [
        "### 14940"
      ],
      "metadata": {
        "id": "i1YxPB6zFHrT"
      }
    },
    {
      "cell_type": "code",
      "source": [
        "import sys\n",
        "from collections import deque\n",
        "\n",
        "n, m = map(int, sys.stdin.readline().rstrip().split())\n",
        "map_data = [list(map(int, sys.stdin.readline().split())) for _ in range(n)]\n",
        "\n",
        "distances = [[-1] * m for _ in range(n)]\n",
        "\n",
        "dx = [0, 0, -1, 1]\n",
        "dy = [-1, 1, 0, 0]\n",
        "\n",
        "def bfs(start_x, start_y):\n",
        "    queue = deque()\n",
        "    queue.append((start_x, start_y))\n",
        "    distances[start_x][start_y] = 0\n",
        "\n",
        "    while queue:\n",
        "        x, y = queue.popleft()\n",
        "\n",
        "        for i in range(4):\n",
        "            nx, ny = x + dx[i], y + dy[i]\n",
        "\n",
        "            if 0 <= nx < n and 0 <= ny < m and distances[nx][ny] == -1:\n",
        "                if map_data[nx][ny] == 1:\n",
        "                    distances[nx][ny] = distances[x][y] + 1\n",
        "                    queue.append((nx, ny))\n",
        "                elif map_data[nx][ny] == 0:\n",
        "                    distances[nx][ny] = 0\n",
        "\n",
        "for i in range(n):\n",
        "    for j in range(m):\n",
        "        if map_data[i][j] == 2:\n",
        "            bfs(i, j)\n",
        "            break\n",
        "\n",
        "for i in range(n):\n",
        "    for j in range(m):\n",
        "        if map_data[i][j] == 0:\n",
        "            print(0, end=' ')\n",
        "        else:\n",
        "            print(distances[i][j], end=' ')\n",
        "    print()"
      ],
      "metadata": {
        "id": "qzXFgFRFFISc"
      },
      "execution_count": null,
      "outputs": []
    },
    {
      "cell_type": "markdown",
      "source": [
        "---"
      ],
      "metadata": {
        "id": "foUtCTUaFI7C"
      }
    },
    {
      "cell_type": "markdown",
      "source": [
        "## CodeTree"
      ],
      "metadata": {
        "id": "pDdW5R3XFJ2-"
      }
    },
    {
      "cell_type": "markdown",
      "source": [
        "### 조건을 만족하는 수의 합"
      ],
      "metadata": {
        "id": "FiaQ5KqOFLoc"
      }
    },
    {
      "cell_type": "code",
      "source": [
        "import sys\n",
        "input = sys.stdin.readline\n",
        "\n",
        "n = int(input().rstrip())\n",
        "\n",
        "even_sum = 0\n",
        "for i in range(n, 501):\n",
        "    if i % 2 == 0:\n",
        "        even_sum += i\n",
        "\n",
        "print(even_sum)"
      ],
      "metadata": {
        "id": "EaEqbj9VFLJx"
      },
      "execution_count": null,
      "outputs": []
    }
  ]
}