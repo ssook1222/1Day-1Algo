{
  "nbformat": 4,
  "nbformat_minor": 0,
  "metadata": {
    "colab": {
      "provenance": [],
      "authorship_tag": "ABX9TyMxmfrBdg6w9PZwiRHwb9C8",
      "include_colab_link": true
    },
    "kernelspec": {
      "name": "python3",
      "display_name": "Python 3"
    },
    "language_info": {
      "name": "python"
    }
  },
  "cells": [
    {
      "cell_type": "markdown",
      "metadata": {
        "id": "view-in-github",
        "colab_type": "text"
      },
      "source": [
        "<a href=\"https://colab.research.google.com/github/ssook1222/1Day-1Algo/blob/master/ssook/24%EB%85%84/6%EC%9B%94/6%EC%9B%94%203%EC%A3%BC%EC%B0%A8/0619.ipynb\" target=\"_parent\"><img src=\"https://colab.research.google.com/assets/colab-badge.svg\" alt=\"Open In Colab\"/></a>"
      ]
    },
    {
      "cell_type": "markdown",
      "source": [
        "## BoJ"
      ],
      "metadata": {
        "id": "6uOL2sa7dICB"
      }
    },
    {
      "cell_type": "markdown",
      "source": [
        "### 1356"
      ],
      "metadata": {
        "id": "fWPj6j1CdJ0m"
      }
    },
    {
      "cell_type": "code",
      "execution_count": null,
      "metadata": {
        "id": "CGcl6wXndGjM"
      },
      "outputs": [],
      "source": [
        "number = input()\n",
        "is_eugene_number = False\n",
        "\n",
        "for i in range(1, len(number)):\n",
        "    first_part, second_part = number[:i], number[i:]\n",
        "    product_first_part = product_second_part = 1\n",
        "\n",
        "    for digit in first_part:\n",
        "        product_first_part *= int(digit)\n",
        "    for digit in second_part:\n",
        "        product_second_part *= int(digit)\n",
        "\n",
        "    if product_first_part == product_second_part:\n",
        "        is_eugene_number = True\n",
        "        break\n",
        "\n",
        "if is_eugene_number:\n",
        "    print(\"YES\")\n",
        "else:\n",
        "    print(\"NO\")"
      ]
    },
    {
      "cell_type": "markdown",
      "source": [
        "### 1524"
      ],
      "metadata": {
        "id": "hSP-hIGvdKtZ"
      }
    },
    {
      "cell_type": "code",
      "source": [
        "num_test_cases = int(input())\n",
        "\n",
        "for _ in range(num_test_cases):\n",
        "    input()\n",
        "    num_soldiers_sejun, num_soldiers_sebi = map(int, input().split())\n",
        "    soldiers_sejun = sorted(list(map(int, input().split())), reverse=True)\n",
        "    soldiers_sebi = sorted(list(map(int, input().split())), reverse=True)\n",
        "\n",
        "    while soldiers_sejun and soldiers_sebi:\n",
        "        if soldiers_sejun[-1] >= soldiers_sebi[-1]:\n",
        "            soldiers_sebi.pop()\n",
        "        else:\n",
        "            soldiers_sejun.pop()\n",
        "\n",
        "    if soldiers_sejun:\n",
        "        print('S')\n",
        "    elif soldiers_sebi:\n",
        "        print('B')\n",
        "    else:\n",
        "        print('C')"
      ],
      "metadata": {
        "id": "T_b181LSdLZ1"
      },
      "execution_count": null,
      "outputs": []
    },
    {
      "cell_type": "markdown",
      "source": [
        "---"
      ],
      "metadata": {
        "id": "rcyPtQDndMIa"
      }
    },
    {
      "cell_type": "markdown",
      "source": [
        "## CodeTree"
      ],
      "metadata": {
        "id": "QAQuhWLDdMvm"
      }
    },
    {
      "cell_type": "markdown",
      "source": [
        "### 가장 작은 수 고르기"
      ],
      "metadata": {
        "id": "Rm-cq4ZidN7M"
      }
    },
    {
      "cell_type": "code",
      "source": [
        "numbers = list(map(int, input().split()))\n",
        "min_number = min(numbers)\n",
        "print(min_number)"
      ],
      "metadata": {
        "id": "AQPSn3z4dPJn"
      },
      "execution_count": null,
      "outputs": []
    }
  ]
}