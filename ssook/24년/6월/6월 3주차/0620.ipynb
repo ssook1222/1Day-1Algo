{
  "nbformat": 4,
  "nbformat_minor": 0,
  "metadata": {
    "colab": {
      "provenance": [],
      "authorship_tag": "ABX9TyNHFHp5cmJ0H7JqQEnsjPyX",
      "include_colab_link": true
    },
    "kernelspec": {
      "name": "python3",
      "display_name": "Python 3"
    },
    "language_info": {
      "name": "python"
    }
  },
  "cells": [
    {
      "cell_type": "markdown",
      "metadata": {
        "id": "view-in-github",
        "colab_type": "text"
      },
      "source": [
        "<a href=\"https://colab.research.google.com/github/ssook1222/1Day-1Algo/blob/master/ssook/24%EB%85%84/6%EC%9B%94/6%EC%9B%94%203%EC%A3%BC%EC%B0%A8/0620.ipynb\" target=\"_parent\"><img src=\"https://colab.research.google.com/assets/colab-badge.svg\" alt=\"Open In Colab\"/></a>"
      ]
    },
    {
      "cell_type": "markdown",
      "source": [
        "## BoJ"
      ],
      "metadata": {
        "id": "0cnCnFKrfMLE"
      }
    },
    {
      "cell_type": "markdown",
      "source": [
        "### 1526"
      ],
      "metadata": {
        "id": "hK2xPqs4fOXy"
      }
    },
    {
      "cell_type": "code",
      "execution_count": null,
      "metadata": {
        "id": "WeMtn3DdfK7J"
      },
      "outputs": [],
      "source": [
        "n = int(input())\n",
        "\n",
        "for i in range(n,3,-1):\n",
        "    if all([(s == '4' or s == '7') for s in str(i)]):\n",
        "        print(i)\n",
        "        break"
      ]
    },
    {
      "cell_type": "markdown",
      "source": [
        "### 1672"
      ],
      "metadata": {
        "id": "FvtwKVGjfPQw"
      }
    },
    {
      "cell_type": "code",
      "source": [
        "import sys\n",
        "\n",
        "n = int(sys.stdin.readline())\n",
        "dna = list(sys.stdin.readline().rstrip())\n",
        "itp = {\"AG\":\"C\", \"AC\":\"A\", \"AT\":\"G\", \"GC\":\"T\", \"GT\":\"A\", \"CT\":\"G\", \"GA\":\"C\", \"CA\":\"A\", \"TA\":\"G\", \"CG\":\"T\", \"TG\":\"A\",\"TC\":\"G\"}\n",
        "\n",
        "a, b = \"\", dna.pop()\n",
        "for _ in range(n-1):\n",
        "    a = dna.pop()\n",
        "    if a == b:\n",
        "        continue\n",
        "\n",
        "    b = itp[a+b]\n",
        "print(b)"
      ],
      "metadata": {
        "id": "geNeSda2fQR-"
      },
      "execution_count": null,
      "outputs": []
    },
    {
      "cell_type": "markdown",
      "source": [
        "---"
      ],
      "metadata": {
        "id": "88gQnnZDfQj5"
      }
    },
    {
      "cell_type": "markdown",
      "source": [
        "## CodeTree"
      ],
      "metadata": {
        "id": "CIFv9QLgfRNZ"
      }
    },
    {
      "cell_type": "markdown",
      "source": [
        "### 평균점수 구하기 2"
      ],
      "metadata": {
        "id": "ORUzk78NfS_e"
      }
    },
    {
      "cell_type": "code",
      "source": [
        "n = int(input())\n",
        "scores = list(map(float, input().split()))\n",
        "\n",
        "average = sum(scores) / n\n",
        "print('{:.1f}'.format(average))"
      ],
      "metadata": {
        "id": "EFs-CxWWfTwg"
      },
      "execution_count": null,
      "outputs": []
    }
  ]
}