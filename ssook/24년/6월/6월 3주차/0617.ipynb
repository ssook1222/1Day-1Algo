{
  "nbformat": 4,
  "nbformat_minor": 0,
  "metadata": {
    "colab": {
      "provenance": [],
      "authorship_tag": "ABX9TyMG3rfz9eCwVOsez3OzcWzC",
      "include_colab_link": true
    },
    "kernelspec": {
      "name": "python3",
      "display_name": "Python 3"
    },
    "language_info": {
      "name": "python"
    }
  },
  "cells": [
    {
      "cell_type": "markdown",
      "metadata": {
        "id": "view-in-github",
        "colab_type": "text"
      },
      "source": [
        "<a href=\"https://colab.research.google.com/github/ssook1222/1Day-1Algo/blob/master/ssook/24%EB%85%84/6%EC%9B%94/6%EC%9B%94%203%EC%A3%BC%EC%B0%A8/0617.ipynb\" target=\"_parent\"><img src=\"https://colab.research.google.com/assets/colab-badge.svg\" alt=\"Open In Colab\"/></a>"
      ]
    },
    {
      "cell_type": "markdown",
      "source": [
        "## BoJ"
      ],
      "metadata": {
        "id": "QDaQI9DiHXz8"
      }
    },
    {
      "cell_type": "markdown",
      "source": [
        "### 11727"
      ],
      "metadata": {
        "id": "MFxOVD62HZse"
      }
    },
    {
      "cell_type": "code",
      "execution_count": null,
      "metadata": {
        "id": "xReFvMHrHUoZ"
      },
      "outputs": [],
      "source": [
        "import sys\n",
        "\n",
        "n = int(sys.stdin.readline().rstrip())\n",
        "dp = [0] * 1001\n",
        "\n",
        "dp[0] = 1\n",
        "dp[1] = 1\n",
        "\n",
        "for i in range(2, n+1):\n",
        "    dp[i] = (dp[i-1] + 2 * dp[i-2])\n",
        "\n",
        "print(dp[n]%10007)"
      ]
    },
    {
      "cell_type": "markdown",
      "source": [
        "### 7576"
      ],
      "metadata": {
        "id": "Hz0IxJDcHadN"
      }
    },
    {
      "cell_type": "code",
      "source": [
        "import sys\n",
        "from collections import deque\n",
        "\n",
        "m, n = map(int, sys.stdin.readline().split())\n",
        "storage = [list(map(int, sys.stdin.readline().split())) for _ in range(n)]\n",
        "queue = deque()\n",
        "\n",
        "for i in range(n):\n",
        "    for j in range(m):\n",
        "        if storage[i][j] == 1:\n",
        "            queue.append([i, j])\n",
        "\n",
        "dx, dy = [1, -1, 0, 0], [0, 0, 1, -1]\n",
        "\n",
        "while queue:\n",
        "    x, y = queue.popleft()\n",
        "    for i in range(4):\n",
        "        nx = x + dx[i]\n",
        "        ny = y + dy[i]\n",
        "\n",
        "        if 0 <= nx < n and 0 <= ny < m:\n",
        "            if storage[nx][ny] == 0:\n",
        "                storage[nx][ny] = storage[x][y] + 1\n",
        "                queue.append([nx, ny])\n",
        "\n",
        "days_needed = 0\n",
        "for row in storage:\n",
        "    for tomato in row:\n",
        "        if tomato == 0:\n",
        "            print(-1)\n",
        "            exit()\n",
        "    days_needed = max(days_needed, max(row))\n",
        "print(days_needed - 1)"
      ],
      "metadata": {
        "id": "YtNDRtOPHbar"
      },
      "execution_count": null,
      "outputs": []
    },
    {
      "cell_type": "markdown",
      "source": [
        "---"
      ],
      "metadata": {
        "id": "0BP5xlicHbpU"
      }
    },
    {
      "cell_type": "markdown",
      "source": [
        "## CodeTree"
      ],
      "metadata": {
        "id": "sw67Yi5FHcTH"
      }
    },
    {
      "cell_type": "markdown",
      "source": [
        "### 5의 배수를 제외한 모든 수"
      ],
      "metadata": {
        "id": "io9bEATUHdf9"
      }
    },
    {
      "cell_type": "code",
      "source": [
        "import sys\n",
        "input = sys.stdin.readline\n",
        "\n",
        "x, y = map(int, input().split())\n",
        "\n",
        "total_sum = 0\n",
        "count = 0\n",
        "\n",
        "start = min(x, y)\n",
        "end = max(x, y)\n",
        "\n",
        "for num in range(start, end + 1):\n",
        "    if num % 5 != 0:\n",
        "        total_sum += num\n",
        "        count += 1\n",
        "\n",
        "average = total_sum / count if count != 0 else 0\n",
        "\n",
        "print(total_sum, round(average, 1))"
      ],
      "metadata": {
        "id": "tOe8O0X7HeNI"
      },
      "execution_count": null,
      "outputs": []
    }
  ]
}