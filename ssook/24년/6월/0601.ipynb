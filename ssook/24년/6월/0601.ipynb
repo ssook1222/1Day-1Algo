{
  "nbformat": 4,
  "nbformat_minor": 0,
  "metadata": {
    "colab": {
      "provenance": [],
      "authorship_tag": "ABX9TyMGilqbVTj/O2U0zg/t7mzb",
      "include_colab_link": true
    },
    "kernelspec": {
      "name": "python3",
      "display_name": "Python 3"
    },
    "language_info": {
      "name": "python"
    }
  },
  "cells": [
    {
      "cell_type": "markdown",
      "metadata": {
        "id": "view-in-github",
        "colab_type": "text"
      },
      "source": [
        "<a href=\"https://colab.research.google.com/github/ssook1222/1Day-1Algo/blob/master/ssook/24%EB%85%84/6%EC%9B%94/0601.ipynb\" target=\"_parent\"><img src=\"https://colab.research.google.com/assets/colab-badge.svg\" alt=\"Open In Colab\"/></a>"
      ]
    },
    {
      "cell_type": "markdown",
      "source": [
        "## BoJ"
      ],
      "metadata": {
        "id": "UeSaFo-oYjfO"
      }
    },
    {
      "cell_type": "markdown",
      "source": [
        "### 1837"
      ],
      "metadata": {
        "id": "dLa9mb7OYlWL"
      }
    },
    {
      "cell_type": "code",
      "execution_count": null,
      "metadata": {
        "id": "FZWOcuPwYhm_"
      },
      "outputs": [],
      "source": [
        "p, k = map(int, input().split())\n",
        "\n",
        "for i in range(2, k):\n",
        "    if p % i == 0:\n",
        "        print(\"BAD\", i)\n",
        "        break\n",
        "else:\n",
        "    print(\"GOOD\")"
      ]
    },
    {
      "cell_type": "markdown",
      "source": [
        "### 2863"
      ],
      "metadata": {
        "id": "2y8k6-DxYo-q"
      }
    },
    {
      "cell_type": "code",
      "source": [
        "a, b = map(int, input().split())\n",
        "c, d = map(int, input().split())\n",
        "\n",
        "values = []\n",
        "values.append(a / c + b / d)  # 원래 상태\n",
        "values.append(c / d + a / b)  # 90도 회전\n",
        "values.append(d / b + c / a)  # 180도 회전\n",
        "values.append(b / a + d / c)  # 270도 회전\n",
        "\n",
        "max_value = max(values)\n",
        "print(values.index(max_value))"
      ],
      "metadata": {
        "id": "_-Vj47gtYpix"
      },
      "execution_count": null,
      "outputs": []
    },
    {
      "cell_type": "markdown",
      "source": [
        "---"
      ],
      "metadata": {
        "id": "kFrtrSPPYyUQ"
      }
    },
    {
      "cell_type": "markdown",
      "source": [
        "## CodeTree"
      ],
      "metadata": {
        "id": "Z0zZOBijYy9N"
      }
    },
    {
      "cell_type": "markdown",
      "source": [
        "### 이차원 격자 9"
      ],
      "metadata": {
        "id": "lfxz24iBY08m"
      }
    },
    {
      "cell_type": "code",
      "source": [
        "n = int(input())\n",
        "grid = [list(map(int, input().split())) for _ in range(n)]\n",
        "r1, c1 = map(int, input().split())\n",
        "r2, c2 = map(int, input().split())\n",
        "\n",
        "r1 -= 1\n",
        "c1 -= 1\n",
        "r2 -= 1\n",
        "c2 -= 1\n",
        "\n",
        "min_value = float('inf')\n",
        "for i in range(r1, r2 + 1):\n",
        "    for j in range(c1, c2 + 1):\n",
        "        if grid[i][j] < min_value:\n",
        "            min_value = grid[i][j]\n",
        "\n",
        "print(min_value)"
      ],
      "metadata": {
        "id": "lLV_5DqBY1fC"
      },
      "execution_count": null,
      "outputs": []
    }
  ]
}