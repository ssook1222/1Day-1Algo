{
  "nbformat": 4,
  "nbformat_minor": 0,
  "metadata": {
    "colab": {
      "provenance": [],
      "authorship_tag": "ABX9TyMxOeXw+Qbrt8XH46mX63+H",
      "include_colab_link": true
    },
    "kernelspec": {
      "name": "python3",
      "display_name": "Python 3"
    },
    "language_info": {
      "name": "python"
    }
  },
  "cells": [
    {
      "cell_type": "markdown",
      "metadata": {
        "id": "view-in-github",
        "colab_type": "text"
      },
      "source": [
        "<a href=\"https://colab.research.google.com/github/ssook1222/1Day-1Algo/blob/master/ssook/24%EB%85%84/6%EC%9B%94/6%EC%9B%94%201%EC%A3%BC%EC%B0%A8/0606.ipynb\" target=\"_parent\"><img src=\"https://colab.research.google.com/assets/colab-badge.svg\" alt=\"Open In Colab\"/></a>"
      ]
    },
    {
      "cell_type": "markdown",
      "source": [
        "## BoJ"
      ],
      "metadata": {
        "id": "gFtxc3-0nu6-"
      }
    },
    {
      "cell_type": "markdown",
      "source": [
        "### 15734"
      ],
      "metadata": {
        "id": "fco-9sgznwPl"
      }
    },
    {
      "cell_type": "code",
      "execution_count": null,
      "metadata": {
        "id": "lDolN5rAntZR"
      },
      "outputs": [],
      "source": [
        "l, r, a = map(int, input().split())\n",
        "a_min, a_max = min(l, r), max(l, r)\n",
        "\n",
        "t = min(a, a_max - a_min)\n",
        "a_min += t\n",
        "a -= t\n",
        "res = a_min * 2\n",
        "\n",
        "if a > 0:\n",
        "    res += (a // 2) * 2\n",
        "\n",
        "print(res)"
      ]
    },
    {
      "cell_type": "markdown",
      "source": [
        "### 15731"
      ],
      "metadata": {
        "id": "GNyVBjdqnwzy"
      }
    },
    {
      "cell_type": "code",
      "source": [
        "a, b, x, y = map(int, input().split())\n",
        "\n",
        "a, b = min(a, b), max(a, b)\n",
        "x, y = min(x, y), max(x, y)\n",
        "\n",
        "dist = b-a\n",
        "t = abs(x-a) + abs(y-b)\n",
        "ans = min(dist, t)\n",
        "\n",
        "print(ans)"
      ],
      "metadata": {
        "id": "xE6aOCnJnxXK"
      },
      "execution_count": null,
      "outputs": []
    },
    {
      "cell_type": "markdown",
      "source": [
        "---"
      ],
      "metadata": {
        "id": "XcAfb8SCnxjv"
      }
    },
    {
      "cell_type": "markdown",
      "source": [
        "## CodeTree"
      ],
      "metadata": {
        "id": "s6sZJiLanyKh"
      }
    },
    {
      "cell_type": "markdown",
      "source": [
        "### 약수와 배수"
      ],
      "metadata": {
        "id": "_jwSjVTrnzGK"
      }
    },
    {
      "cell_type": "code",
      "source": [
        "n = int(input())\n",
        "numbers = list(map(int, input().split()))\n",
        "k = int(input())\n",
        "\n",
        "divisor_sum = 0\n",
        "multiple_sum = 0\n",
        "\n",
        "for num in numbers:\n",
        "    if k % num == 0:\n",
        "        divisor_sum += num\n",
        "    if num % k == 0:\n",
        "        multiple_sum += num\n",
        "\n",
        "print(divisor_sum)\n",
        "print(multiple_sum)"
      ],
      "metadata": {
        "id": "SbsYPOb9nzmg"
      },
      "execution_count": null,
      "outputs": []
    }
  ]
}