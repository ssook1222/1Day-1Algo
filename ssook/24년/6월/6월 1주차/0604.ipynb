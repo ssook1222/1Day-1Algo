{
  "nbformat": 4,
  "nbformat_minor": 0,
  "metadata": {
    "colab": {
      "provenance": [],
      "authorship_tag": "ABX9TyNmFwbcQzCNzrJRiO1/96gN",
      "include_colab_link": true
    },
    "kernelspec": {
      "name": "python3",
      "display_name": "Python 3"
    },
    "language_info": {
      "name": "python"
    }
  },
  "cells": [
    {
      "cell_type": "markdown",
      "metadata": {
        "id": "view-in-github",
        "colab_type": "text"
      },
      "source": [
        "<a href=\"https://colab.research.google.com/github/ssook1222/1Day-1Algo/blob/master/ssook/24%EB%85%84/6%EC%9B%94/6%EC%9B%94%201%EC%A3%BC%EC%B0%A8/0604.ipynb\" target=\"_parent\"><img src=\"https://colab.research.google.com/assets/colab-badge.svg\" alt=\"Open In Colab\"/></a>"
      ]
    },
    {
      "cell_type": "markdown",
      "source": [
        "## BoJ"
      ],
      "metadata": {
        "id": "MMTOfxFpko2H"
      }
    },
    {
      "cell_type": "markdown",
      "source": [
        "### 3034"
      ],
      "metadata": {
        "id": "jgpTiea5kqGs"
      }
    },
    {
      "cell_type": "code",
      "execution_count": null,
      "metadata": {
        "id": "_U1b6R1dkmu7"
      },
      "outputs": [],
      "source": [
        "n, w, h = map(int, input().split())\n",
        "d = (w**2 + h**2)**0.5\n",
        "\n",
        "for _ in range(n):\n",
        "    length = int(input())\n",
        "    if length <= d:\n",
        "        print(\"DA\")\n",
        "    else:\n",
        "        print(\"NE\")"
      ]
    },
    {
      "cell_type": "markdown",
      "source": [
        "### 3276"
      ],
      "metadata": {
        "id": "EISFSB4Ekqrm"
      }
    },
    {
      "cell_type": "code",
      "source": [
        "a, b = 1,1\n",
        "n = int(input())\n",
        "\n",
        "while a*b < n:\n",
        "    if a > b:\n",
        "      b += 1\n",
        "    else:\n",
        "      a += 1\n",
        "\n",
        "print(a, b)"
      ],
      "metadata": {
        "id": "6epv4rAzkrRU"
      },
      "execution_count": null,
      "outputs": []
    },
    {
      "cell_type": "markdown",
      "source": [
        "---"
      ],
      "metadata": {
        "id": "3evr2PP5krf_"
      }
    },
    {
      "cell_type": "markdown",
      "source": [
        "## CodeTree"
      ],
      "metadata": {
        "id": "jSq7CQrtksFA"
      }
    },
    {
      "cell_type": "markdown",
      "source": [
        "### c를 제외한 수 출력"
      ],
      "metadata": {
        "id": "5J4wClVaks9v"
      }
    },
    {
      "cell_type": "code",
      "source": [
        "a, b, c = map(int, input().split())\n",
        "\n",
        "for i in range(a, b+1):\n",
        "    if i  == c:\n",
        "        pass\n",
        "    else:\n",
        "        print(i, end = ' ')"
      ],
      "metadata": {
        "id": "3rnflgOZktmt"
      },
      "execution_count": null,
      "outputs": []
    }
  ]
}