{
  "nbformat": 4,
  "nbformat_minor": 0,
  "metadata": {
    "colab": {
      "provenance": [],
      "authorship_tag": "ABX9TyPR6zuVmv0ldP7G8CqQ+YFE",
      "include_colab_link": true
    },
    "kernelspec": {
      "name": "python3",
      "display_name": "Python 3"
    },
    "language_info": {
      "name": "python"
    }
  },
  "cells": [
    {
      "cell_type": "markdown",
      "metadata": {
        "id": "view-in-github",
        "colab_type": "text"
      },
      "source": [
        "<a href=\"https://colab.research.google.com/github/ssook1222/1Day-1Algo/blob/master/ssook/24%EB%85%84/6%EC%9B%94/6%EC%9B%94%201%EC%A3%BC%EC%B0%A8/0602.ipynb\" target=\"_parent\"><img src=\"https://colab.research.google.com/assets/colab-badge.svg\" alt=\"Open In Colab\"/></a>"
      ]
    },
    {
      "cell_type": "markdown",
      "source": [
        "## BoJ"
      ],
      "metadata": {
        "id": "U3DyXw_6LnPD"
      }
    },
    {
      "cell_type": "markdown",
      "source": [
        "### 2965"
      ],
      "metadata": {
        "id": "3w8Qpp5bLpU_"
      }
    },
    {
      "cell_type": "code",
      "execution_count": 1,
      "metadata": {
        "colab": {
          "base_uri": "https://localhost:8080/"
        },
        "id": "OTnUFiWJLlDS",
        "outputId": "8b6a75d8-74ae-46f6-a2bd-bcf9140e1eaa"
      },
      "outputs": [
        {
          "output_type": "stream",
          "name": "stdout",
          "text": [
            "2 3 5\n",
            "1\n"
          ]
        }
      ],
      "source": [
        "a, b, c = map(int, input().split())\n",
        "ans = max(b-a-1, c-b-1)\n",
        "\n",
        "print(ans)"
      ]
    },
    {
      "cell_type": "markdown",
      "source": [
        "### 2991"
      ],
      "metadata": {
        "id": "3-uCcExzLqhZ"
      }
    },
    {
      "cell_type": "code",
      "source": [
        "a, b, c, d = map(int, input().split())\n",
        "arrival_times = list(map(int, input().split()))\n",
        "\n",
        "for arrival_time in arrival_times:\n",
        "    attacked = 0\n",
        "    if 0 < arrival_time % (a + b) <= a:\n",
        "        attacked += 1\n",
        "    if 0 < arrival_time % (c + d) <= c:\n",
        "        attacked += 1\n",
        "    print(attacked)"
      ],
      "metadata": {
        "colab": {
          "base_uri": "https://localhost:8080/"
        },
        "id": "TPw34LXeLrVb",
        "outputId": "ecc2d90e-4365-4e10-ed34-fc9bbf988d1f"
      },
      "execution_count": 2,
      "outputs": [
        {
          "output_type": "stream",
          "name": "stdout",
          "text": [
            "2 2 3 3\n",
            "1 3 4\n",
            "2\n",
            "1\n",
            "0\n"
          ]
        }
      ]
    },
    {
      "cell_type": "markdown",
      "source": [
        "---"
      ],
      "metadata": {
        "id": "1qEVCy85LrzF"
      }
    },
    {
      "cell_type": "markdown",
      "source": [
        "## CodeTree"
      ],
      "metadata": {
        "id": "fF-So-r4Ls7J"
      }
    },
    {
      "cell_type": "markdown",
      "source": [
        "### 거꾸로 순열 3"
      ],
      "metadata": {
        "id": "3pftL6hdLuNy"
      }
    },
    {
      "cell_type": "code",
      "source": [
        "from itertools import permutations\n",
        "\n",
        "n = int(input())\n",
        "\n",
        "numbers = list(range(1, n + 1))\n",
        "all_permutations = list(permutations(numbers))\n",
        "\n",
        "all_permutations.sort(reverse=True)\n",
        "\n",
        "for perm in all_permutations:\n",
        "    print(' '.join(map(str, perm)))"
      ],
      "metadata": {
        "id": "oDktV_h6LvII"
      },
      "execution_count": null,
      "outputs": []
    }
  ]
}