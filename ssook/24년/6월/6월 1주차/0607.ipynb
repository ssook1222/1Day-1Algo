{
  "nbformat": 4,
  "nbformat_minor": 0,
  "metadata": {
    "colab": {
      "provenance": [],
      "authorship_tag": "ABX9TyPd3w04O1f+mShdVXDevBbC",
      "include_colab_link": true
    },
    "kernelspec": {
      "name": "python3",
      "display_name": "Python 3"
    },
    "language_info": {
      "name": "python"
    }
  },
  "cells": [
    {
      "cell_type": "markdown",
      "metadata": {
        "id": "view-in-github",
        "colab_type": "text"
      },
      "source": [
        "<a href=\"https://colab.research.google.com/github/ssook1222/1Day-1Algo/blob/master/ssook/24%EB%85%84/6%EC%9B%94/6%EC%9B%94%201%EC%A3%BC%EC%B0%A8/0607.ipynb\" target=\"_parent\"><img src=\"https://colab.research.google.com/assets/colab-badge.svg\" alt=\"Open In Colab\"/></a>"
      ]
    },
    {
      "cell_type": "markdown",
      "source": [
        "## BoJ"
      ],
      "metadata": {
        "id": "2Pjs369kXxx4"
      }
    },
    {
      "cell_type": "markdown",
      "source": [
        "### 4655"
      ],
      "metadata": {
        "id": "qSTXgd87XzMq"
      }
    },
    {
      "cell_type": "code",
      "execution_count": null,
      "metadata": {
        "id": "q7CUywSvXWMz"
      },
      "outputs": [],
      "source": [
        "while True:\n",
        "    n = float(input())\n",
        "\n",
        "    if n == 0:\n",
        "        break\n",
        "\n",
        "    i = 2\n",
        "    t = 0\n",
        "\n",
        "    while t < n:\n",
        "        t += 1/i\n",
        "        i += 1\n",
        "    print(\"%d card(s)\" %(i-2))"
      ]
    },
    {
      "cell_type": "markdown",
      "source": [
        "### 4758"
      ],
      "metadata": {
        "id": "myWUdVXlXzz5"
      }
    },
    {
      "cell_type": "code",
      "source": [
        "while True:\n",
        "    sp, w, st = map(float, input().split())\n",
        "    p = 0\n",
        "\n",
        "    if sp == w == st == 0:\n",
        "        break\n",
        "\n",
        "    if sp <= 4.5 and w >= 150 and st >= 200:\n",
        "        p = 1\n",
        "        print(\"Wide Receiver\", end = ' ')\n",
        "\n",
        "    if sp <= 6.0 and w >= 300 and st >= 500:\n",
        "        p = 1\n",
        "        print(\"Lineman\", end = ' ')\n",
        "\n",
        "    if sp <= 5.0 and w >= 200 and st >= 300:\n",
        "        p = 1\n",
        "        print(\"Quarterback\", end = ' ')\n",
        "\n",
        "    if p == 0:\n",
        "        print(\"No positions\", end = ' ')\n",
        "\n",
        "    print()"
      ],
      "metadata": {
        "id": "mFRVLSTiX0Uh"
      },
      "execution_count": null,
      "outputs": []
    },
    {
      "cell_type": "markdown",
      "source": [
        "---"
      ],
      "metadata": {
        "id": "HkAyAVp8X08M"
      }
    },
    {
      "cell_type": "markdown",
      "source": [
        "## CodeTree"
      ],
      "metadata": {
        "id": "QpyFKUP0X14r"
      }
    },
    {
      "cell_type": "markdown",
      "source": [
        "### 조건에 따라 출력하기"
      ],
      "metadata": {
        "id": "cWN-ODiyX2uK"
      }
    },
    {
      "cell_type": "code",
      "source": [
        "n = int(input())\n",
        "numbers = [int(input()) for _ in range(n)]\n",
        "\n",
        "for num in numbers:\n",
        "    if num == 0:\n",
        "        break\n",
        "    if num % 3 == 0:\n",
        "        print(num // 3)\n",
        "    else:\n",
        "        print(num + 2)"
      ],
      "metadata": {
        "id": "WtDSfTW4X3Po"
      },
      "execution_count": null,
      "outputs": []
    }
  ]
}