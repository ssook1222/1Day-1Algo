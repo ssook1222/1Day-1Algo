{
  "nbformat": 4,
  "nbformat_minor": 0,
  "metadata": {
    "colab": {
      "provenance": [],
      "authorship_tag": "ABX9TyNSMKtfEEuDoD1QI6kHYKBz",
      "include_colab_link": true
    },
    "kernelspec": {
      "name": "python3",
      "display_name": "Python 3"
    },
    "language_info": {
      "name": "python"
    }
  },
  "cells": [
    {
      "cell_type": "markdown",
      "metadata": {
        "id": "view-in-github",
        "colab_type": "text"
      },
      "source": [
        "<a href=\"https://colab.research.google.com/github/ssook1222/1Day-1Algo/blob/master/ssook/24%EB%85%84/6%EC%9B%94/6%EC%9B%94%201%EC%A3%BC%EC%B0%A8/0605.ipynb\" target=\"_parent\"><img src=\"https://colab.research.google.com/assets/colab-badge.svg\" alt=\"Open In Colab\"/></a>"
      ]
    },
    {
      "cell_type": "markdown",
      "source": [
        "## BoJ"
      ],
      "metadata": {
        "id": "mGuMb5L6lnuC"
      }
    },
    {
      "cell_type": "markdown",
      "source": [
        "### 9550"
      ],
      "metadata": {
        "id": "t_jGBqf-lpcj"
      }
    },
    {
      "cell_type": "code",
      "execution_count": null,
      "metadata": {
        "id": "NIgrriSHlmSP"
      },
      "outputs": [],
      "source": [
        "t = int(input())\n",
        "\n",
        "for _ in range(t):\n",
        "    n, k = map(int, input().split())\n",
        "    candy = list(map(int, input().split()))\n",
        "    answer = 0\n",
        "\n",
        "    for i in candy:\n",
        "        answer += i // k\n",
        "    print(answer)"
      ]
    },
    {
      "cell_type": "markdown",
      "source": [
        "### 10250"
      ],
      "metadata": {
        "id": "x2WJZ8bnlqQV"
      }
    },
    {
      "cell_type": "code",
      "source": [
        "t = int(input())\n",
        "\n",
        "for i in range(t):\n",
        "    h, w, n = map(int, input().split())\n",
        "\n",
        "    floor = n % h\n",
        "    room_line = (n // h) + 1\n",
        "    if floor == 0:\n",
        "        floor = h\n",
        "        room_line -= 1\n",
        "\n",
        "    ans = floor * 100 + room_line\n",
        "\n",
        "    print(ans)"
      ],
      "metadata": {
        "id": "C437aH2_lqwU"
      },
      "execution_count": null,
      "outputs": []
    },
    {
      "cell_type": "markdown",
      "source": [
        "---"
      ],
      "metadata": {
        "id": "88VXKkHnlra8"
      }
    },
    {
      "cell_type": "markdown",
      "source": [
        "## CodeTree"
      ],
      "metadata": {
        "id": "61zLvd7DlsL8"
      }
    },
    {
      "cell_type": "markdown",
      "source": [
        "### 순서대로 구구단"
      ],
      "metadata": {
        "id": "uYpnPwTultKv"
      }
    },
    {
      "cell_type": "code",
      "source": [
        "a, b = map(int, input().split())\n",
        "\n",
        "if a < b:\n",
        "    for i in range(1, 10):\n",
        "        for j in range(a, b + 1):\n",
        "            print(f\"{j} * {i} = {j * i}\", end=\"  \")\n",
        "        print()\n",
        "else:\n",
        "    for i in range(1, 10):\n",
        "        for j in range(a, b - 1, -1):\n",
        "            print(f\"{j} * {i} = {j * i}\", end=\"  \")\n",
        "        print()"
      ],
      "metadata": {
        "id": "CO-Z6YL0lt5E"
      },
      "execution_count": null,
      "outputs": []
    }
  ]
}