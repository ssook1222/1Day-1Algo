{
  "nbformat": 4,
  "nbformat_minor": 0,
  "metadata": {
    "colab": {
      "provenance": [],
      "authorship_tag": "ABX9TyNaJWyd6XmWpbIuj1VoC72e",
      "include_colab_link": true
    },
    "kernelspec": {
      "name": "python3",
      "display_name": "Python 3"
    },
    "language_info": {
      "name": "python"
    }
  },
  "cells": [
    {
      "cell_type": "markdown",
      "metadata": {
        "id": "view-in-github",
        "colab_type": "text"
      },
      "source": [
        "<a href=\"https://colab.research.google.com/github/ssook1222/1Day-1Algo/blob/master/ssook/24%EB%85%84/6%EC%9B%94/6%EC%9B%94%201%EC%A3%BC%EC%B0%A8/0603.ipynb\" target=\"_parent\"><img src=\"https://colab.research.google.com/assets/colab-badge.svg\" alt=\"Open In Colab\"/></a>"
      ]
    },
    {
      "cell_type": "markdown",
      "source": [
        "## BoJ"
      ],
      "metadata": {
        "id": "p8J-9KW6i9iy"
      }
    },
    {
      "cell_type": "markdown",
      "source": [
        "### 5612"
      ],
      "metadata": {
        "id": "cbQAKQrRi_Vu"
      }
    },
    {
      "cell_type": "code",
      "execution_count": null,
      "metadata": {
        "colab": {
          "base_uri": "https://localhost:8080/"
        },
        "id": "u9gdaW28i7W5",
        "outputId": "db984c44-3e08-4bf8-d448-0780d1e3a6ff"
      },
      "outputs": [
        {
          "output_type": "stream",
          "name": "stdout",
          "text": [
            "3\n",
            "2\n",
            "2 3\n",
            "2 3\n",
            "4 1\n",
            "3\n"
          ]
        }
      ],
      "source": [
        "n = int(input())\n",
        "raw = int(input())\n",
        "\n",
        "tmp = []\n",
        "tmp.append(raw)\n",
        "\n",
        "for i in range(n):\n",
        "    a, b = map(int, input().split())\n",
        "    tmp.append(tmp[i] + a - b)\n",
        "\n",
        "for i in range(n + 1):\n",
        "    if tmp[i] < 0:\n",
        "        print(0)\n",
        "        exit()\n",
        "print(max(tmp))"
      ]
    },
    {
      "cell_type": "markdown",
      "source": [
        "### 3004"
      ],
      "metadata": {
        "id": "tmTQ3HlIjAYx"
      }
    },
    {
      "cell_type": "code",
      "source": [
        "n = int(input())\n",
        "\n",
        "if n % 2 == 0:\n",
        "    print((n // 2 + 1) ** 2)\n",
        "else:\n",
        "    print((n // 2 + 1) * (n // 2 + 2))"
      ],
      "metadata": {
        "id": "HbUqZ1QhjA9l"
      },
      "execution_count": null,
      "outputs": []
    },
    {
      "cell_type": "markdown",
      "source": [
        "---"
      ],
      "metadata": {
        "id": "uiCpMZG7jBhi"
      }
    },
    {
      "cell_type": "markdown",
      "source": [
        "## CodeTree"
      ],
      "metadata": {
        "id": "7XiKFpjkjClw"
      }
    },
    {
      "cell_type": "markdown",
      "source": [
        "### 3명의 사람"
      ],
      "metadata": {
        "id": "w7jbUJwKjFcT"
      }
    },
    {
      "cell_type": "code",
      "source": [
        "def is_valid(x, y, n):\n",
        "    return 0 <= x < n and 0 <= y < n\n",
        "\n",
        "def dfs(x, y, grid, visited):\n",
        "    stack = [(x, y)]\n",
        "    directions = [(-1, 0), (1, 0), (0, -1), (0, 1)]\n",
        "    while stack:\n",
        "        cx, cy = stack.pop()\n",
        "        for dx, dy in directions:\n",
        "            nx, ny = cx + dx, cy + dy\n",
        "            if is_valid(nx, ny, len(grid)) and not visited[nx][ny] and grid[nx][ny] == 1:\n",
        "                visited[nx][ny] = True\n",
        "                stack.append((nx, ny))\n",
        "\n",
        "def check_same_village(n, grid, people):\n",
        "    visited = [[False] * n for _ in range(n)]\n",
        "    start_x, start_y = people[0]\n",
        "    dfs(start_x, start_y, grid, visited)\n",
        "\n",
        "    for x, y in people:\n",
        "        if not visited[x][y]:\n",
        "            return 0\n",
        "    return 1\n",
        "\n",
        "# 입력 받기\n",
        "n = int(input())\n",
        "grid = [list(map(int, input().split())) for _ in range(n)]\n",
        "people = [tuple(map(lambda x: int(x) - 1, input().split())) for _ in range(3)]\n",
        "\n",
        "# 결과 출력\n",
        "print(check_same_village(n, grid, people))"
      ],
      "metadata": {
        "id": "FTQlHKSAjGA_"
      },
      "execution_count": null,
      "outputs": []
    }
  ]
}