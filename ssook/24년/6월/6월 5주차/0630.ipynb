{
  "nbformat": 4,
  "nbformat_minor": 0,
  "metadata": {
    "colab": {
      "provenance": [],
      "authorship_tag": "ABX9TyNXv7bcaRnVCDKrL+o3TfMf",
      "include_colab_link": true
    },
    "kernelspec": {
      "name": "python3",
      "display_name": "Python 3"
    },
    "language_info": {
      "name": "python"
    }
  },
  "cells": [
    {
      "cell_type": "markdown",
      "metadata": {
        "id": "view-in-github",
        "colab_type": "text"
      },
      "source": [
        "<a href=\"https://colab.research.google.com/github/ssook1222/1Day-1Algo/blob/master/ssook/24%EB%85%84/6%EC%9B%94/6%EC%9B%94%205%EC%A3%BC%EC%B0%A8/0630.ipynb\" target=\"_parent\"><img src=\"https://colab.research.google.com/assets/colab-badge.svg\" alt=\"Open In Colab\"/></a>"
      ]
    },
    {
      "cell_type": "markdown",
      "source": [
        "## BoJ"
      ],
      "metadata": {
        "id": "1LHzNniNR-H1"
      }
    },
    {
      "cell_type": "markdown",
      "source": [
        "### 17144"
      ],
      "metadata": {
        "id": "u3xRDtsJSACg"
      }
    },
    {
      "cell_type": "code",
      "source": [
        "import sys\n",
        "\n",
        "input = sys.stdin.readline\n",
        "\n",
        "R, C, T = map(int, input().split())\n",
        "\n",
        "grid = [list(map(int, input().split())) for _ in range(R)]\n",
        "\n",
        "upper_cleaner = -1\n",
        "lower_cleaner = -1\n",
        "\n",
        "for i in range(R):\n",
        "    if grid[i][0] == -1:\n",
        "        upper_cleaner = i\n",
        "        lower_cleaner = i + 1\n",
        "        break\n",
        "\n",
        "def spread_dust():\n",
        "    dx = [-1, 0, 0, 1]\n",
        "    dy = [0, -1, 1, 0]\n",
        "    tmp_grid = [[0] * C for _ in range(R)]\n",
        "    for i in range(R):\n",
        "        for j in range(C):\n",
        "            if grid[i][j] != 0 and grid[i][j] != -1:\n",
        "                spread_amount = grid[i][j] // 5\n",
        "                for k in range(4):\n",
        "                    nx, ny = i + dx[k], j + dy[k]\n",
        "                    if 0 <= nx < R and 0 <= ny < C and grid[nx][ny] != -1:\n",
        "                        tmp_grid[nx][ny] += spread_amount\n",
        "                        grid[i][j] -= spread_amount\n",
        "    for i in range(R):\n",
        "        for j in range(C):\n",
        "            grid[i][j] += tmp_grid[i][j]\n",
        "\n",
        "def operate_upper_cleaner():\n",
        "    dx = [0, -1, 0, 1]\n",
        "    dy = [1, 0, -1, 0]\n",
        "    direct = 0\n",
        "    x, y = upper_cleaner, 1\n",
        "    before = 0\n",
        "    while True:\n",
        "        nx, ny = x + dx[direct], y + dy[direct]\n",
        "        if x == upper_cleaner and y == 0:\n",
        "            break\n",
        "        if nx < 0 or nx >= R or ny < 0 or ny >= C:\n",
        "            direct += 1\n",
        "            continue\n",
        "        grid[x][y], before = before, grid[x][y]\n",
        "        x, y = nx, ny\n",
        "\n",
        "def operate_lower_cleaner():\n",
        "    dx = [0, 1, 0, -1]\n",
        "    dy = [1, 0, -1, 0]\n",
        "    direct = 0\n",
        "    x, y = lower_cleaner, 1\n",
        "    before = 0\n",
        "\n",
        "    while True:\n",
        "        nx, ny = x + dx[direct], y + dy[direct]\n",
        "        if x == lower_cleaner and y == 0:\n",
        "            break\n",
        "        if nx < 0 or nx >= R or ny < 0 or ny >= C:\n",
        "            direct += 1\n",
        "            continue\n",
        "        grid[x][y], before = before, grid[x][y]\n",
        "        x, y = nx, ny\n",
        "\n",
        "for _ in range(T):\n",
        "    spread_dust()\n",
        "    operate_upper_cleaner()\n",
        "    operate_lower_cleaner()\n",
        "\n",
        "total_dust = 0\n",
        "for i in range(R):\n",
        "    for j in range(C):\n",
        "        if grid[i][j] > 0:\n",
        "            total_dust += grid[i][j]\n",
        "\n",
        "print(total_dust)"
      ],
      "metadata": {
        "id": "nTzWzUNoSDly"
      },
      "execution_count": null,
      "outputs": []
    },
    {
      "cell_type": "markdown",
      "source": [
        "### 1922"
      ],
      "metadata": {
        "id": "iJsKsoc3SCNB"
      }
    },
    {
      "cell_type": "code",
      "execution_count": null,
      "metadata": {
        "id": "iMRTMgJIR4AA"
      },
      "outputs": [],
      "source": [
        "def find(parents, node):\n",
        "    if parents[node] != node:\n",
        "        parents[node] = find(parents, parents[node])\n",
        "    return parents[node]\n",
        "\n",
        "def union(parents, a, b):\n",
        "    a = find(parents, a)\n",
        "    b = find(parents, b)\n",
        "    if a < b:\n",
        "        parents[b] = a\n",
        "    else:\n",
        "        parents[a] = b\n",
        "\n",
        "N = int(sys.stdin.readline().rstrip())\n",
        "M = int(sys.stdin.readline().rstrip())\n",
        "parents = [num for num in range(N+1)]\n",
        "\n",
        "edges = []\n",
        "\n",
        "for _ in range(M):\n",
        "    a, b, cost = map(int, sys.stdin.readline().rstrip().split())\n",
        "    edges.append((cost, a, b))\n",
        "\n",
        "edges.sort()\n",
        "total_cost = 0\n",
        "\n",
        "for edge in edges:\n",
        "    cost, a, b = edge\n",
        "    if find(parents, a) != find(parents, b):\n",
        "        union(parents, a, b)\n",
        "        total_cost += cost\n",
        "\n",
        "print(total_cost)"
      ]
    },
    {
      "cell_type": "markdown",
      "source": [
        "---"
      ],
      "metadata": {
        "id": "AsOycc2DSD6o"
      }
    },
    {
      "cell_type": "markdown",
      "source": [
        "## CodeTree"
      ],
      "metadata": {
        "id": "cw6Hi10zSEbw"
      }
    },
    {
      "cell_type": "markdown",
      "source": [
        "### 특정 위치의 문자 2"
      ],
      "metadata": {
        "id": "6cLPu8aWSFpp"
      }
    },
    {
      "cell_type": "code",
      "source": [
        "n = int(input())\n",
        "\n",
        "chars = list(map(str, input().split(' ')))\n",
        "\n",
        "print(chars[2], chars[4], chars[7])"
      ],
      "metadata": {
        "id": "-zas04DxT4Sx"
      },
      "execution_count": null,
      "outputs": []
    }
  ]
}