{
  "nbformat": 4,
  "nbformat_minor": 0,
  "metadata": {
    "colab": {
      "provenance": [],
      "authorship_tag": "ABX9TyOP26t/vVP90C/Clz6C2+uf",
      "include_colab_link": true
    },
    "kernelspec": {
      "name": "python3",
      "display_name": "Python 3"
    },
    "language_info": {
      "name": "python"
    }
  },
  "cells": [
    {
      "cell_type": "markdown",
      "metadata": {
        "id": "view-in-github",
        "colab_type": "text"
      },
      "source": [
        "<a href=\"https://colab.research.google.com/github/ssook1222/1Day-1Algo/blob/master/ssook/24%EB%85%84/6%EC%9B%94/6%EC%9B%94%205%EC%A3%BC%EC%B0%A8/0629.ipynb\" target=\"_parent\"><img src=\"https://colab.research.google.com/assets/colab-badge.svg\" alt=\"Open In Colab\"/></a>"
      ]
    },
    {
      "cell_type": "markdown",
      "source": [
        "## BoJ"
      ],
      "metadata": {
        "id": "1LHzNniNR-H1"
      }
    },
    {
      "cell_type": "markdown",
      "source": [
        "### 1339"
      ],
      "metadata": {
        "id": "u3xRDtsJSACg"
      }
    },
    {
      "cell_type": "code",
      "source": [
        "import sys\n",
        "n = int(sys.stdin.readline())\n",
        "\n",
        "alphabet_count = {'A': 0, 'B': 0, 'C': 0, 'D': 0, 'E': 0, 'F': 0, 'G': 0, 'H': 0, 'I': 0, 'J': 0,\n",
        "                  'K': 0, 'L': 0, 'M': 0, 'N': 0, 'O': 0, 'P': 0, 'Q': 0, 'R': 0, 'S': 0, 'T': 0,\n",
        "                  'U': 0, 'V': 0, 'W': 0, 'X': 0, 'Y': 0, 'Z': 0}\n",
        "\n",
        "numerical_values = []\n",
        "answer = 0\n",
        "words = []\n",
        "\n",
        "for _ in range(n):\n",
        "    word = sys.stdin.readline().strip()\n",
        "    words.append(word)\n",
        "\n",
        "for word in words:\n",
        "    for i in range(len(word)):\n",
        "        num = 10 ** (len(word) - i - 1)\n",
        "        alphabet_count[word[i]] += num\n",
        "\n",
        "for value in alphabet_count.values():\n",
        "    if value > 0:\n",
        "        numerical_values.append(value)\n",
        "\n",
        "sorted_values = sorted(numerical_values, reverse=True)\n",
        "\n",
        "for i in range(len(sorted_values)):\n",
        "    answer += sorted_values[i] * (9 - i)\n",
        "\n",
        "print(answer)"
      ],
      "metadata": {
        "id": "nTzWzUNoSDly"
      },
      "execution_count": null,
      "outputs": []
    },
    {
      "cell_type": "markdown",
      "source": [
        "### 9019\n",
        "pypy로 풀음"
      ],
      "metadata": {
        "id": "iJsKsoc3SCNB"
      }
    },
    {
      "cell_type": "code",
      "execution_count": null,
      "metadata": {
        "id": "iMRTMgJIR4AA"
      },
      "outputs": [],
      "source": [
        "import sys\n",
        "from collections import deque\n",
        "\n",
        "T = int(sys.stdin.readline().rstrip())\n",
        "\n",
        "def transform(A, B):\n",
        "    visited = [False for i in range(10001)]\n",
        "    deq = deque()\n",
        "    deq.append([A, ''])\n",
        "    visited[A] = True\n",
        "\n",
        "    while deq:\n",
        "        num, command = deq.popleft()\n",
        "\n",
        "        if num == B:\n",
        "            return command\n",
        "\n",
        "        d = num * 2 % 10000\n",
        "        if not visited[d]:\n",
        "            visited[d] = True\n",
        "            deq.append([d, command + 'D'])\n",
        "\n",
        "        s = (num - 1) % 10000\n",
        "        if not visited[s]:\n",
        "            visited[s] = True\n",
        "            deq.append([s, command + 'S'])\n",
        "\n",
        "        l = num // 1000 + (num % 1000) * 10\n",
        "        if not visited[l]:\n",
        "            visited[l] = True\n",
        "            deq.append([l, command + 'L'])\n",
        "\n",
        "        r = num // 10 + (num % 10) * 1000\n",
        "        if not visited[r]:\n",
        "            visited[r] = True\n",
        "            deq.append([r, command + 'R'])\n",
        "\n",
        "for _ in range(T):\n",
        "    A, B = map(int, sys.stdin.readline().rstrip().split())\n",
        "    result = transform(A, B)\n",
        "    print(result)"
      ]
    },
    {
      "cell_type": "markdown",
      "source": [
        "---"
      ],
      "metadata": {
        "id": "AsOycc2DSD6o"
      }
    },
    {
      "cell_type": "markdown",
      "source": [
        "## CodeTree"
      ],
      "metadata": {
        "id": "cw6Hi10zSEbw"
      }
    },
    {
      "cell_type": "markdown",
      "source": [
        "### 문자열 세번 출력하기"
      ],
      "metadata": {
        "id": "6cLPu8aWSFpp"
      }
    },
    {
      "cell_type": "code",
      "source": [
        "n = input()\n",
        "\n",
        "print(n)\n",
        "print(n)\n",
        "print(n)"
      ],
      "metadata": {
        "id": "-zas04DxT4Sx"
      },
      "execution_count": null,
      "outputs": []
    }
  ]
}