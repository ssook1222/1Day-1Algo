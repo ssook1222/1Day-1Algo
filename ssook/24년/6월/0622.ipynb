{
  "nbformat": 4,
  "nbformat_minor": 0,
  "metadata": {
    "colab": {
      "provenance": [],
      "authorship_tag": "ABX9TyNOetGcZgEel9BnGGaOnzRf",
      "include_colab_link": true
    },
    "kernelspec": {
      "name": "python3",
      "display_name": "Python 3"
    },
    "language_info": {
      "name": "python"
    }
  },
  "cells": [
    {
      "cell_type": "markdown",
      "metadata": {
        "id": "view-in-github",
        "colab_type": "text"
      },
      "source": [
        "<a href=\"https://colab.research.google.com/github/ssook1222/1Day-1Algo/blob/master/ssook/24%EB%85%84/6%EC%9B%94/0622.ipynb\" target=\"_parent\"><img src=\"https://colab.research.google.com/assets/colab-badge.svg\" alt=\"Open In Colab\"/></a>"
      ]
    },
    {
      "cell_type": "markdown",
      "source": [
        "## BoJ"
      ],
      "metadata": {
        "id": "6_ZLa2a0fWwg"
      }
    },
    {
      "cell_type": "markdown",
      "source": [
        "### 11320"
      ],
      "metadata": {
        "id": "EnGv3kFrfYC6"
      }
    },
    {
      "cell_type": "code",
      "execution_count": null,
      "metadata": {
        "id": "hYl6YvWXfS6M",
        "colab": {
          "base_uri": "https://localhost:8080/"
        },
        "outputId": "c38168b7-db20-4b9b-81e4-740974b72b10"
      },
      "outputs": [
        {
          "output_type": "stream",
          "name": "stdout",
          "text": [
            "2\n",
            "2 1\n",
            "4\n",
            "3 3\n",
            "1\n"
          ]
        }
      ],
      "source": [
        "t = int(input())\n",
        "\n",
        "for _ in range(t):\n",
        "    a, b = map(int, input().split())\n",
        "    ans = (a//b)**2\n",
        "    print(ans)"
      ]
    },
    {
      "cell_type": "markdown",
      "source": [
        "### 11312"
      ],
      "metadata": {
        "id": "VhbLTQulfZE1"
      }
    },
    {
      "cell_type": "code",
      "source": [
        "t = int(input())\n",
        "\n",
        "for _ in range(t):\n",
        "    a, b = map(int, input().split())\n",
        "    ans = (a//b)**2\n",
        "    print(ans)"
      ],
      "metadata": {
        "id": "JKXsw64QfZs6"
      },
      "execution_count": null,
      "outputs": []
    },
    {
      "cell_type": "markdown",
      "source": [
        "---"
      ],
      "metadata": {
        "id": "9511ijfFfZ8C"
      }
    },
    {
      "cell_type": "markdown",
      "source": [
        "## CodeTree"
      ],
      "metadata": {
        "id": "qi-C1YX9fagl"
      }
    },
    {
      "cell_type": "markdown",
      "source": [
        "### 학생들의 점수대 파악하기"
      ],
      "metadata": {
        "id": "PX0-kbWjinbX"
      }
    },
    {
      "cell_type": "code",
      "source": [
        "def score_distribution(n, scores):\n",
        "    score_ranges = {}\n",
        "\n",
        "    for score in scores:\n",
        "        if score >= 10:\n",
        "            range_key = (score // 10) * 10\n",
        "            if range_key in score_ranges:\n",
        "                score_ranges[range_key] += 1\n",
        "            else:\n",
        "                score_ranges[range_key] = 1\n",
        "\n",
        "    for key in sorted(score_ranges.keys(), reverse=True):\n",
        "        print(f\"{key} - {score_ranges[key]}\")\n",
        "\n",
        "n = int(input())\n",
        "scores = list(map(int, input().split()))\n",
        "score_distribution(n, scores)"
      ],
      "metadata": {
        "id": "DkB9q3Brfbnm"
      },
      "execution_count": null,
      "outputs": []
    }
  ]
}