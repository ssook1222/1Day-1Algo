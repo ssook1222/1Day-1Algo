{
  "nbformat": 4,
  "nbformat_minor": 0,
  "metadata": {
    "colab": {
      "provenance": [],
      "authorship_tag": "ABX9TyO8xXhcojX8Wa8DLaQlpD50",
      "include_colab_link": true
    },
    "kernelspec": {
      "name": "python3",
      "display_name": "Python 3"
    },
    "language_info": {
      "name": "python"
    }
  },
  "cells": [
    {
      "cell_type": "markdown",
      "metadata": {
        "id": "view-in-github",
        "colab_type": "text"
      },
      "source": [
        "<a href=\"https://colab.research.google.com/github/ssook1222/1Day-1Algo/blob/master/ssook/24%EB%85%84/6%EC%9B%94/6%EC%9B%94%202%EC%A3%BC%EC%B0%A8/0611.ipynb\" target=\"_parent\"><img src=\"https://colab.research.google.com/assets/colab-badge.svg\" alt=\"Open In Colab\"/></a>"
      ]
    },
    {
      "cell_type": "markdown",
      "source": [
        "## BoJ"
      ],
      "metadata": {
        "id": "kienRbgVBhpv"
      }
    },
    {
      "cell_type": "markdown",
      "source": [
        "### 1350"
      ],
      "metadata": {
        "id": "8DqyDOYbBi_J"
      }
    },
    {
      "cell_type": "code",
      "execution_count": null,
      "metadata": {
        "id": "Ial0BebEBbKO"
      },
      "outputs": [],
      "source": [
        "num_files = int(input())\n",
        "\n",
        "file_sizes = list(map(int, input().split()))\n",
        "cluster_size = int(input())\n",
        "\n",
        "used_disk_space = 0\n",
        "\n",
        "for size in file_sizes:\n",
        "    if size == 0:\n",
        "        continue\n",
        "    if size % cluster_size != 0:\n",
        "        used_disk_space += (size // cluster_size) + 1\n",
        "    else:\n",
        "        used_disk_space += size // cluster_size\n",
        "\n",
        "print(used_disk_space * cluster_size)"
      ]
    },
    {
      "cell_type": "markdown",
      "source": [
        "### 1362"
      ],
      "metadata": {
        "id": "aQpauvz_Bj1T"
      }
    },
    {
      "cell_type": "code",
      "source": [
        "import sys\n",
        "\n",
        "scenario_number = 0\n",
        "\n",
        "while True:\n",
        "    optimal_weight, current_weight = map(int, sys.stdin.readline().split())\n",
        "\n",
        "    if optimal_weight == current_weight == 0:\n",
        "        break\n",
        "\n",
        "    scenario_number += 1\n",
        "\n",
        "    is_dead = False\n",
        "\n",
        "    while True:\n",
        "        line = sys.stdin.readline().rstrip()\n",
        "\n",
        "        if line == '# 0':\n",
        "            break\n",
        "\n",
        "        action, n = line.split()\n",
        "\n",
        "        if action == 'E':\n",
        "            current_weight -= int(n)\n",
        "        elif action == 'F':\n",
        "            current_weight += int(n)\n",
        "\n",
        "        if current_weight <= 0:\n",
        "            is_dead = True\n",
        "\n",
        "    pet_state = ''\n",
        "\n",
        "    if is_dead:\n",
        "        pet_state = 'RIP'\n",
        "    else:\n",
        "        if optimal_weight / 2 < current_weight < optimal_weight * 2:\n",
        "            pet_state = ':-)'\n",
        "        else:\n",
        "            pet_state = ':-('\n",
        "\n",
        "    print(f'{scenario_number} {pet_state}')"
      ],
      "metadata": {
        "id": "y2gi1cpNBkYt"
      },
      "execution_count": null,
      "outputs": []
    },
    {
      "cell_type": "markdown",
      "source": [
        "---"
      ],
      "metadata": {
        "id": "cRbkZkIfBknr"
      }
    },
    {
      "cell_type": "markdown",
      "source": [
        "## CodeTree"
      ],
      "metadata": {
        "id": "uKtJ6C7lBlZX"
      }
    },
    {
      "cell_type": "markdown",
      "source": [
        "### 이전의 숫자"
      ],
      "metadata": {
        "id": "G4Ap5iJPBmgY"
      }
    },
    {
      "cell_type": "code",
      "source": [
        "n = int(input())\n",
        "numbers = list(map(int, input().split()))\n",
        "\n",
        "sum_last_five = 0\n",
        "count = 0\n",
        "\n",
        "for num in numbers:\n",
        "    if num == 0:\n",
        "        break\n",
        "    sum_last_five += num\n",
        "    count += 1\n",
        "    if count > 5:\n",
        "        sum_last_five -= numbers[count - 6]\n",
        "\n",
        "print(sum_last_five)"
      ],
      "metadata": {
        "id": "pns456VTBnNh"
      },
      "execution_count": null,
      "outputs": []
    }
  ]
}