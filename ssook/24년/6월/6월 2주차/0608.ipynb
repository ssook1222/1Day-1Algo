{
  "nbformat": 4,
  "nbformat_minor": 0,
  "metadata": {
    "colab": {
      "provenance": [],
      "authorship_tag": "ABX9TyOgKa3aEJ0nfzK3wuOdWHKs",
      "include_colab_link": true
    },
    "kernelspec": {
      "name": "python3",
      "display_name": "Python 3"
    },
    "language_info": {
      "name": "python"
    }
  },
  "cells": [
    {
      "cell_type": "markdown",
      "metadata": {
        "id": "view-in-github",
        "colab_type": "text"
      },
      "source": [
        "<a href=\"https://colab.research.google.com/github/ssook1222/1Day-1Algo/blob/master/ssook/24%EB%85%84/6%EC%9B%94/6%EC%9B%94%202%EC%A3%BC%EC%B0%A8/0608.ipynb\" target=\"_parent\"><img src=\"https://colab.research.google.com/assets/colab-badge.svg\" alt=\"Open In Colab\"/></a>"
      ]
    },
    {
      "cell_type": "markdown",
      "source": [
        "## BoJ"
      ],
      "metadata": {
        "id": "YTqNTfOD7dkG"
      }
    },
    {
      "cell_type": "markdown",
      "source": [
        "### 25088"
      ],
      "metadata": {
        "id": "U6e_Rg4_7fEQ"
      }
    },
    {
      "cell_type": "code",
      "execution_count": null,
      "metadata": {
        "id": "oJgb3PzuP-ua"
      },
      "outputs": [],
      "source": [
        "def ready():\n",
        "    ascii_map = [['+', '-'], ['|', '.']]\n",
        "    map_grid = [['' for _ in range(101)] for _ in range(101)]\n",
        "\n",
        "    for r in range(100):\n",
        "        ar = r % 2\n",
        "        for c in range(100):\n",
        "            cr = c % 2\n",
        "            map_grid[r][c] = ascii_map[ar][cr]\n",
        "\n",
        "    for r in range(2):\n",
        "        for c in range(2):\n",
        "            map_grid[r][c] = '.'\n",
        "\n",
        "    return map_grid\n",
        "\n",
        "def solve(R, C, map_grid):\n",
        "    tr = R * 2 + 1\n",
        "    tc = C * 2 + 1\n",
        "\n",
        "    result = []\n",
        "    for r in range(tr):\n",
        "        line = ''.join(map_grid[r][c] for c in range(tc))\n",
        "        result.append(line)\n",
        "    return result\n",
        "\n",
        "def main():\n",
        "    import sys\n",
        "    input = sys.stdin.read\n",
        "    data = input().split()\n",
        "\n",
        "    count = int(data[0])\n",
        "    map_grid = ready()\n",
        "\n",
        "    index = 1\n",
        "    results = []\n",
        "    for i in range(count):\n",
        "        R = int(data[index])\n",
        "        C = int(data[index + 1])\n",
        "        index += 2\n",
        "\n",
        "        results.append(f\"Case #{i + 1}:\")\n",
        "        result = solve(R, C, map_grid)\n",
        "        results.extend(result)\n",
        "\n",
        "    for result in results:\n",
        "        print(result)\n",
        "\n",
        "if __name__ == \"__main__\":\n",
        "    main()"
      ]
    },
    {
      "cell_type": "markdown",
      "source": [
        "### 1075"
      ],
      "metadata": {
        "id": "tAQHdTW47gJ7"
      }
    },
    {
      "cell_type": "code",
      "source": [
        "n = int(input())\n",
        "f = int(input())\n",
        "front = n // 100\n",
        "raw = front * 100\n",
        "\n",
        "while raw % f != 0:\n",
        "    raw += 1\n",
        "\n",
        "ans = str(raw)[-2:]\n",
        "print(ans)"
      ],
      "metadata": {
        "colab": {
          "base_uri": "https://localhost:8080/"
        },
        "id": "LIouRvZD7gvZ",
        "outputId": "26408b68-fa2a-4101-c4d9-ba4453c632e4"
      },
      "execution_count": null,
      "outputs": [
        {
          "output_type": "stream",
          "name": "stdout",
          "text": [
            "1000\n",
            "3\n",
            "02\n"
          ]
        }
      ]
    },
    {
      "cell_type": "markdown",
      "source": [
        "---"
      ],
      "metadata": {
        "id": "3X60KnSQ7hhY"
      }
    },
    {
      "cell_type": "markdown",
      "source": [
        "## CodeTree"
      ],
      "metadata": {
        "id": "Kpubz8HB7iXN"
      }
    },
    {
      "cell_type": "markdown",
      "source": [
        "### 짝수홀수 개수세기"
      ],
      "metadata": {
        "id": "d5nKFKvx7jb_"
      }
    },
    {
      "cell_type": "code",
      "source": [
        "n = int(input())\n",
        "\n",
        "even_count = 0\n",
        "odd_count = 0\n",
        "\n",
        "for _ in range(n):\n",
        "    value = int(input())\n",
        "    if value == 0:\n",
        "        break\n",
        "    elif value % 2 == 0:\n",
        "        even_count += 1\n",
        "    else:\n",
        "        odd_count += 1\n",
        "\n",
        "print(even_count)\n",
        "print(odd_count)"
      ],
      "metadata": {
        "id": "_KdXV8Sn7klt"
      },
      "execution_count": null,
      "outputs": []
    }
  ]
}