{
  "nbformat": 4,
  "nbformat_minor": 0,
  "metadata": {
    "colab": {
      "provenance": [],
      "authorship_tag": "ABX9TyPFqmMr8CuYWiIK3E5FBVwS",
      "include_colab_link": true
    },
    "kernelspec": {
      "name": "python3",
      "display_name": "Python 3"
    },
    "language_info": {
      "name": "python"
    }
  },
  "cells": [
    {
      "cell_type": "markdown",
      "metadata": {
        "id": "view-in-github",
        "colab_type": "text"
      },
      "source": [
        "<a href=\"https://colab.research.google.com/github/ssook1222/1Day-1Algo/blob/master/ssook/24%EB%85%84/6%EC%9B%94/6%EC%9B%94%202%EC%A3%BC%EC%B0%A8/0609.ipynb\" target=\"_parent\"><img src=\"https://colab.research.google.com/assets/colab-badge.svg\" alt=\"Open In Colab\"/></a>"
      ]
    },
    {
      "cell_type": "markdown",
      "source": [
        "## BoJ"
      ],
      "metadata": {
        "id": "G0scbN-y9_UA"
      }
    },
    {
      "cell_type": "markdown",
      "source": [
        "### 1159"
      ],
      "metadata": {
        "id": "6EDlxom7-A_O"
      }
    },
    {
      "cell_type": "code",
      "execution_count": null,
      "metadata": {
        "id": "hlJjMOTd9c0v"
      },
      "outputs": [],
      "source": [
        "n = int(input())\n",
        "player_last_names = []\n",
        "selected_initials = []\n",
        "\n",
        "for _ in range(n):\n",
        "    last_name = input()\n",
        "    player_last_names.append(last_name[0])\n",
        "\n",
        "unique_initials = set(player_last_names)\n",
        "\n",
        "for initial in unique_initials:\n",
        "    if player_last_names.count(initial) >= 5:\n",
        "        selected_initials.append(initial)\n",
        "\n",
        "if len(selected_initials) > 0:\n",
        "    print(''.join(sorted(selected_initials)))\n",
        "else:\n",
        "    print(\"PREDAJA\")"
      ]
    },
    {
      "cell_type": "markdown",
      "source": [
        "### 1174"
      ],
      "metadata": {
        "id": "29KkdZ_R-BvQ"
      }
    },
    {
      "cell_type": "code",
      "source": [
        "import sys\n",
        "from itertools import combinations\n",
        "\n",
        "n = int(sys.stdin.readline().rstrip())\n",
        "\n",
        "decreasing_numbers = []\n",
        "for length in range(1, 11):\n",
        "    for comb in combinations(range(0, 10), length):\n",
        "        comb = list(comb)\n",
        "        comb.sort(reverse=True)\n",
        "        decreasing_numbers.append(int(\"\".join(map(str, comb))))\n",
        "\n",
        "decreasing_numbers.sort()\n",
        "\n",
        "try:\n",
        "    print(decreasing_numbers[n - 1])\n",
        "except IndexError:\n",
        "    print(-1)"
      ],
      "metadata": {
        "id": "DMxBkFZB-Ce_"
      },
      "execution_count": null,
      "outputs": []
    },
    {
      "cell_type": "markdown",
      "source": [
        "---"
      ],
      "metadata": {
        "id": "pC6tI1t_-CxQ"
      }
    },
    {
      "cell_type": "markdown",
      "source": [
        "## CodeTree"
      ],
      "metadata": {
        "id": "c9z6qZhJ-DrP"
      }
    },
    {
      "cell_type": "markdown",
      "source": [
        "### 특이한 명령어"
      ],
      "metadata": {
        "id": "EIe6X7z6-FM3"
      }
    },
    {
      "cell_type": "code",
      "source": [
        "n = int(input())\n",
        "\n",
        "for _ in range(n):\n",
        "    a, b, command = input().split()\n",
        "    a = int(a)\n",
        "    b = int(b)\n",
        "\n",
        "    if command == 's':\n",
        "        area = a * b\n",
        "        print(area)\n",
        "    elif command == 't':\n",
        "        area = 0.5 * a * b\n",
        "        print(f\"{area:.1f}\")"
      ],
      "metadata": {
        "id": "CHEtmTat-F27"
      },
      "execution_count": null,
      "outputs": []
    }
  ]
}