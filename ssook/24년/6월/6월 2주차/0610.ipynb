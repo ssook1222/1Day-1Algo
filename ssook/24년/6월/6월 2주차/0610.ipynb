{
  "nbformat": 4,
  "nbformat_minor": 0,
  "metadata": {
    "colab": {
      "provenance": [],
      "authorship_tag": "ABX9TyMEu7OXYRj3HaaVtV5vQ0P0",
      "include_colab_link": true
    },
    "kernelspec": {
      "name": "python3",
      "display_name": "Python 3"
    },
    "language_info": {
      "name": "python"
    }
  },
  "cells": [
    {
      "cell_type": "markdown",
      "metadata": {
        "id": "view-in-github",
        "colab_type": "text"
      },
      "source": [
        "<a href=\"https://colab.research.google.com/github/ssook1222/1Day-1Algo/blob/master/ssook/24%EB%85%84/6%EC%9B%94/6%EC%9B%94%202%EC%A3%BC%EC%B0%A8/0610.ipynb\" target=\"_parent\"><img src=\"https://colab.research.google.com/assets/colab-badge.svg\" alt=\"Open In Colab\"/></a>"
      ]
    },
    {
      "cell_type": "markdown",
      "source": [
        "## BoJ"
      ],
      "metadata": {
        "id": "61Ghsyif_xlq"
      }
    },
    {
      "cell_type": "markdown",
      "source": [
        "### 1173"
      ],
      "metadata": {
        "id": "gpAiRTqp_z95"
      }
    },
    {
      "cell_type": "code",
      "execution_count": null,
      "metadata": {
        "id": "U6zVfIvv_vA4"
      },
      "outputs": [],
      "source": [
        "n, m, m_max, t, r = map(int, input().split())\n",
        "count = time = 0\n",
        "current = m\n",
        "\n",
        "while count < n:\n",
        "    if m + t > m_max:\n",
        "        break\n",
        "    if current + t <= m_max:\n",
        "        current += t\n",
        "        count += 1\n",
        "    else:\n",
        "        current = max(current - r, m)\n",
        "    time += 1\n",
        "\n",
        "if count == n:\n",
        "    print(time)\n",
        "else:\n",
        "    print(-1)"
      ]
    },
    {
      "cell_type": "markdown",
      "source": [
        "### 1333"
      ],
      "metadata": {
        "id": "Zg3HfIvS_0ls"
      }
    },
    {
      "cell_type": "code",
      "source": [
        "import sys\n",
        "\n",
        "n, l, d = map(int, sys.stdin.readline().rstrip().split())\n",
        "\n",
        "total_length = n * l + (n - 1) * 5\n",
        "\n",
        "song_play_times = [False] * total_length\n",
        "\n",
        "for i in range(0, total_length, l + 5):\n",
        "    for j in range(i, i + l):\n",
        "        song_play_times[j] = True\n",
        "\n",
        "for i in range(0, total_length, d):\n",
        "    if not song_play_times[i]:\n",
        "        print(i)\n",
        "        break\n",
        "else:\n",
        "    print(i + d)"
      ],
      "metadata": {
        "id": "8llMMgE6_1YG"
      },
      "execution_count": null,
      "outputs": []
    },
    {
      "cell_type": "markdown",
      "source": [
        "---"
      ],
      "metadata": {
        "id": "twwFYHZJ_1vw"
      }
    },
    {
      "cell_type": "markdown",
      "source": [
        "## CodeTree"
      ],
      "metadata": {
        "id": "6nVH9k4I_2ft"
      }
    },
    {
      "cell_type": "markdown",
      "source": [
        "### 누적합이 200"
      ],
      "metadata": {
        "id": "Vpleod4L_338"
      }
    },
    {
      "cell_type": "code",
      "source": [
        "n = int(input())\n",
        "numbers = list(map(int, input().split()))\n",
        "\n",
        "total = 0\n",
        "i = 0\n",
        "for num in numbers:\n",
        "    total += num\n",
        "    i += 1\n",
        "    if total > 200:\n",
        "        break\n",
        "\n",
        "print(total)\n",
        "print(round(total / i, 1))"
      ],
      "metadata": {
        "id": "WTp-tgia_5IN"
      },
      "execution_count": null,
      "outputs": []
    }
  ]
}