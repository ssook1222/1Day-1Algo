{
  "nbformat": 4,
  "nbformat_minor": 0,
  "metadata": {
    "colab": {
      "provenance": [],
      "authorship_tag": "ABX9TyP4VHwNQbX4TymOrPgm4oym",
      "include_colab_link": true
    },
    "kernelspec": {
      "name": "python3",
      "display_name": "Python 3"
    },
    "language_info": {
      "name": "python"
    }
  },
  "cells": [
    {
      "cell_type": "markdown",
      "metadata": {
        "id": "view-in-github",
        "colab_type": "text"
      },
      "source": [
        "<a href=\"https://colab.research.google.com/github/ssook1222/1Day-1Algo/blob/master/ssook/24%EB%85%84/6%EC%9B%94/6%EC%9B%94%202%EC%A3%BC%EC%B0%A8/0612.ipynb\" target=\"_parent\"><img src=\"https://colab.research.google.com/assets/colab-badge.svg\" alt=\"Open In Colab\"/></a>"
      ]
    },
    {
      "cell_type": "markdown",
      "source": [
        "## BoJ"
      ],
      "metadata": {
        "id": "hbLA0Q1RDZup"
      }
    },
    {
      "cell_type": "markdown",
      "source": [
        "### 1297"
      ],
      "metadata": {
        "id": "yTGwAaJlDRGF"
      }
    },
    {
      "cell_type": "code",
      "execution_count": null,
      "metadata": {
        "colab": {
          "base_uri": "https://localhost:8080/"
        },
        "id": "mwGKDG8jBe6b",
        "outputId": "9f02a278-ec9d-4487-ca88-639b0b68da33"
      },
      "outputs": [
        {
          "output_type": "stream",
          "name": "stdout",
          "text": [
            "7 32 47\n",
            "3 5\n"
          ]
        }
      ],
      "source": [
        "d, h, w = map(int,input().split())\n",
        "r = d / ((h*h) + (w*w)) ** 0.5\n",
        "print(int(h*r), int(w*r))"
      ]
    },
    {
      "cell_type": "markdown",
      "source": [
        "### 1408"
      ],
      "metadata": {
        "id": "RX7XEwjMDSeM"
      }
    },
    {
      "cell_type": "code",
      "source": [
        "current_time = list(map(int, input().split(':')))\n",
        "mission_start_time = list(map(int, input().split(':')))\n",
        "remaining_time = []\n",
        "\n",
        "t = mission_start_time[0] * 3600 + mission_start_time[1] * 60 + mission_start_time[2] - (current_time[0] * 3600 + current_time[1] * 60 + current_time[2])\n",
        "\n",
        "if t < 0:\n",
        "    t += 60*60*24\n",
        "\n",
        "remaining_time.append(t // 3600)\n",
        "remaining_time.append((t % 3600) // 60)\n",
        "remaining_time.append(t % 60)\n",
        "\n",
        "for i in range(3):\n",
        "    remaining_time[i] = str(remaining_time[i]).zfill(2)\n",
        "\n",
        "print('%s:%s:%s' % (remaining_time[0], remaining_time[1], remaining_time[2]))"
      ],
      "metadata": {
        "id": "rXmW_QvNDTB8"
      },
      "execution_count": null,
      "outputs": []
    },
    {
      "cell_type": "markdown",
      "source": [
        "---"
      ],
      "metadata": {
        "id": "jZmAki6UDTuQ"
      }
    },
    {
      "cell_type": "markdown",
      "source": [
        "## CodeTree"
      ],
      "metadata": {
        "id": "DNaz4lAmDUjj"
      }
    },
    {
      "cell_type": "markdown",
      "source": [
        "### 두 반의 평균점수"
      ],
      "metadata": {
        "id": "xVYpXaOmDWYo"
      }
    },
    {
      "cell_type": "code",
      "source": [
        "n = int(input())\n",
        "scores = list(map(int, input().split()))\n",
        "selected_classes = list(map(int, input().split()))\n",
        "\n",
        "class1_scores = [scores[i - 1] for i in selected_classes]\n",
        "average_class1 = sum(class1_scores) / len(class1_scores)\n",
        "\n",
        "print(f\"{average_class1:.1f}\")"
      ],
      "metadata": {
        "id": "sI6KblvKDXC9"
      },
      "execution_count": null,
      "outputs": []
    }
  ]
}