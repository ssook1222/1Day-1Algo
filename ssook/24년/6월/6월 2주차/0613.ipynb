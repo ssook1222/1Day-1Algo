{
  "nbformat": 4,
  "nbformat_minor": 0,
  "metadata": {
    "colab": {
      "provenance": [],
      "authorship_tag": "ABX9TyMD6UP36Ja9oAz6e7yXAow/",
      "include_colab_link": true
    },
    "kernelspec": {
      "name": "python3",
      "display_name": "Python 3"
    },
    "language_info": {
      "name": "python"
    }
  },
  "cells": [
    {
      "cell_type": "markdown",
      "metadata": {
        "id": "view-in-github",
        "colab_type": "text"
      },
      "source": [
        "<a href=\"https://colab.research.google.com/github/ssook1222/1Day-1Algo/blob/master/ssook/24%EB%85%84/6%EC%9B%94/6%EC%9B%94%202%EC%A3%BC%EC%B0%A8/0613.ipynb\" target=\"_parent\"><img src=\"https://colab.research.google.com/assets/colab-badge.svg\" alt=\"Open In Colab\"/></a>"
      ]
    },
    {
      "cell_type": "markdown",
      "source": [
        "## BoJ"
      ],
      "metadata": {
        "id": "hlNVYUk_Fy6K"
      }
    },
    {
      "cell_type": "markdown",
      "source": [
        "### 13458"
      ],
      "metadata": {
        "id": "3hfKXhnPF1EG"
      }
    },
    {
      "cell_type": "code",
      "execution_count": null,
      "metadata": {
        "id": "B2I2zxLnFxQX"
      },
      "outputs": [],
      "source": [
        "n = int(input())\n",
        "tester = list(map(int, input().split()))\n",
        "a, b = map(int, input().split())\n",
        "\n",
        "cnt = n\n",
        "for i in tester:\n",
        "    i -= a\n",
        "    if i > 0:\n",
        "        if i % b:\n",
        "            cnt += (i // b) + 1\n",
        "        else:\n",
        "            cnt += (i // b)\n",
        "\n",
        "print(cnt)"
      ]
    },
    {
      "cell_type": "markdown",
      "source": [
        "### 10812"
      ],
      "metadata": {
        "id": "v_pE2vHVF1sq"
      }
    },
    {
      "cell_type": "code",
      "source": [
        "import sys\n",
        "\n",
        "input_function = lambda: sys.stdin.readline().rstrip()\n",
        "\n",
        "n, m = map(int, input_function().split())\n",
        "buckets = [i for i in range(1, n + 1)]\n",
        "\n",
        "for _ in range(m):\n",
        "    i, j, k = map(int, input_function().split())\n",
        "    i -= 1\n",
        "    j -= 1\n",
        "    k -= 1\n",
        "    new_buckets = buckets[:i]\n",
        "    new_buckets += buckets[k:j + 1]\n",
        "    new_buckets += buckets[i:k]\n",
        "    new_buckets += buckets[j + 1:]\n",
        "    buckets = new_buckets\n",
        "\n",
        "print(*buckets)"
      ],
      "metadata": {
        "id": "jS4BcGWHF2NO"
      },
      "execution_count": null,
      "outputs": []
    },
    {
      "cell_type": "markdown",
      "source": [
        "---"
      ],
      "metadata": {
        "id": "7xPPwXX6F26k"
      }
    },
    {
      "cell_type": "markdown",
      "source": [
        "## CodeTree"
      ],
      "metadata": {
        "id": "bGtpuHQoF3nO"
      }
    },
    {
      "cell_type": "markdown",
      "source": [
        "### 문자 재배치 2"
      ],
      "metadata": {
        "id": "z-YCMW5IF4iI"
      }
    },
    {
      "cell_type": "code",
      "source": [
        "n = int(input())\n",
        "letters = input().split()\n",
        "reversed_letters = letters[::-1]\n",
        "print(' '.join(reversed_letters))"
      ],
      "metadata": {
        "id": "i42W5WHGF5F5"
      },
      "execution_count": null,
      "outputs": []
    }
  ]
}