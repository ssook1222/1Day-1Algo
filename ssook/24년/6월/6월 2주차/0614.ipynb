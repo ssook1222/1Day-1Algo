{
  "nbformat": 4,
  "nbformat_minor": 0,
  "metadata": {
    "colab": {
      "provenance": [],
      "authorship_tag": "ABX9TyNDOtpIshbBuKjDLm6OCBQc",
      "include_colab_link": true
    },
    "kernelspec": {
      "name": "python3",
      "display_name": "Python 3"
    },
    "language_info": {
      "name": "python"
    }
  },
  "cells": [
    {
      "cell_type": "markdown",
      "metadata": {
        "id": "view-in-github",
        "colab_type": "text"
      },
      "source": [
        "<a href=\"https://colab.research.google.com/github/ssook1222/1Day-1Algo/blob/master/ssook/24%EB%85%84/6%EC%9B%94/6%EC%9B%94%202%EC%A3%BC%EC%B0%A8/0614.ipynb\" target=\"_parent\"><img src=\"https://colab.research.google.com/assets/colab-badge.svg\" alt=\"Open In Colab\"/></a>"
      ]
    },
    {
      "cell_type": "markdown",
      "source": [
        "## BoJ"
      ],
      "metadata": {
        "id": "hlNVYUk_Fy6K"
      }
    },
    {
      "cell_type": "markdown",
      "source": [
        "### 1568"
      ],
      "metadata": {
        "id": "3hfKXhnPF1EG"
      }
    },
    {
      "cell_type": "code",
      "execution_count": null,
      "metadata": {
        "id": "B2I2zxLnFxQX"
      },
      "outputs": [],
      "source": [
        "import sys\n",
        "\n",
        "n = int(sys.stdin.readline().rstrip())\n",
        "\n",
        "count = 0\n",
        "k = 1\n",
        "\n",
        "while n > 0:\n",
        "    if k > n:\n",
        "        k = 1\n",
        "    n -= k\n",
        "    k += 1\n",
        "    count += 1\n",
        "\n",
        "print(count)"
      ]
    },
    {
      "cell_type": "markdown",
      "source": [
        "### 2355"
      ],
      "metadata": {
        "id": "v_pE2vHVF1sq"
      }
    },
    {
      "cell_type": "code",
      "source": [
        "a, b = map(int,input().split())\n",
        "tmp = 0\n",
        "\n",
        "if a > b:\n",
        "    tmp = a\n",
        "    a = b\n",
        "    b = tmp\n",
        "\n",
        "print( b * (b + 1) // 2 - a * ( a - 1 ) // 2)"
      ],
      "metadata": {
        "id": "jS4BcGWHF2NO"
      },
      "execution_count": null,
      "outputs": []
    },
    {
      "cell_type": "markdown",
      "source": [
        "---"
      ],
      "metadata": {
        "id": "7xPPwXX6F26k"
      }
    },
    {
      "cell_type": "markdown",
      "source": [
        "## CodeTree"
      ],
      "metadata": {
        "id": "bGtpuHQoF3nO"
      }
    },
    {
      "cell_type": "markdown",
      "source": [
        "### 배열 행의 합\n"
      ],
      "metadata": {
        "id": "z-YCMW5IF4iI"
      }
    },
    {
      "cell_type": "code",
      "source": [
        "import sys\n",
        "\n",
        "def row_sum(row):\n",
        "    return sum(row)\n",
        "\n",
        "rows = [list(map(int, sys.stdin.readline().split())) for _ in range(5)]\n",
        "\n",
        "for row in rows:\n",
        "    print(row_sum(row))"
      ],
      "metadata": {
        "id": "i42W5WHGF5F5"
      },
      "execution_count": null,
      "outputs": []
    }
  ]
}