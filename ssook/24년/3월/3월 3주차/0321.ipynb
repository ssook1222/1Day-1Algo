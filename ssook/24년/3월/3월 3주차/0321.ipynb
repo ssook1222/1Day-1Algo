{
  "nbformat": 4,
  "nbformat_minor": 0,
  "metadata": {
    "colab": {
      "provenance": [],
      "authorship_tag": "ABX9TyMgSZecXzqW7bs44Qw/saWG",
      "include_colab_link": true
    },
    "kernelspec": {
      "name": "python3",
      "display_name": "Python 3"
    },
    "language_info": {
      "name": "python"
    }
  },
  "cells": [
    {
      "cell_type": "markdown",
      "metadata": {
        "id": "view-in-github",
        "colab_type": "text"
      },
      "source": [
        "<a href=\"https://colab.research.google.com/github/ssook1222/1Day-1Algo/blob/master/ssook/24%EB%85%84/3%EC%9B%94/3%EC%9B%94%203%EC%A3%BC%EC%B0%A8/0321.ipynb\" target=\"_parent\"><img src=\"https://colab.research.google.com/assets/colab-badge.svg\" alt=\"Open In Colab\"/></a>"
      ]
    },
    {
      "cell_type": "markdown",
      "source": [
        "## BoJ"
      ],
      "metadata": {
        "id": "kMoUN3iYEY_x"
      }
    },
    {
      "cell_type": "markdown",
      "source": [
        "### 4696"
      ],
      "metadata": {
        "id": "5TgFviSsEbI3"
      }
    },
    {
      "cell_type": "code",
      "execution_count": null,
      "metadata": {
        "colab": {
          "base_uri": "https://localhost:8080/"
        },
        "id": "0GVfZJCxDkXy",
        "outputId": "3cc07245-9de0-40cd-8918-a4056d249fbe"
      },
      "outputs": [
        {
          "name": "stdout",
          "output_type": "stream",
          "text": [
            "7\n",
            "2801.00\n",
            "1\n",
            "5.00\n",
            "2.5\n",
            "64.44\n",
            "0\n"
          ]
        }
      ],
      "source": [
        "while True:\n",
        "  n = float(input())\n",
        "\n",
        "  if n == 0:\n",
        "    break\n",
        "\n",
        "  else:\n",
        "    ans = 1 + n + n**2 + n**3 + n**4\n",
        "    print('%.2f' %(ans))"
      ]
    },
    {
      "cell_type": "markdown",
      "source": [
        "### 30017"
      ],
      "metadata": {
        "id": "2EMcncuhEb28"
      }
    },
    {
      "cell_type": "code",
      "source": [
        "a, b = map(int, input().split())\n",
        "\n",
        "cnt = 3\n",
        "\n",
        "a -= 2\n",
        "b -= 1\n",
        "c = min(a, b)\n",
        "\n",
        "ans = cnt + (2*c)\n",
        "\n",
        "print(ans)"
      ],
      "metadata": {
        "colab": {
          "base_uri": "https://localhost:8080/"
        },
        "id": "HWell1NcEcrt",
        "outputId": "1cbb5bcc-0b3a-403b-e935-4c452cabb546"
      },
      "execution_count": null,
      "outputs": [
        {
          "output_type": "stream",
          "name": "stdout",
          "text": [
            "4 5\n",
            "7\n"
          ]
        }
      ]
    },
    {
      "cell_type": "markdown",
      "source": [
        "---"
      ],
      "metadata": {
        "id": "KXh7-TiIE5-h"
      }
    },
    {
      "cell_type": "markdown",
      "source": [
        "## CodeTree"
      ],
      "metadata": {
        "id": "BLd2M-IyE6tB"
      }
    },
    {
      "cell_type": "markdown",
      "source": [
        "### 두 선분"
      ],
      "metadata": {
        "id": "yHvC25svE8om"
      }
    },
    {
      "cell_type": "code",
      "source": [
        "x1, x2, y1, y2 = map(int, input().split())\n",
        "\n",
        "if y1 <= x1 <= y2 or y1 <= x2 <= y2 or x1 <= y1 <= x2 or x1 <= y2 < x2:\n",
        "    print(\"intersecting\")\n",
        "\n",
        "else:\n",
        "    print(\"nonintersecting\")"
      ],
      "metadata": {
        "id": "RLWLE5_YE8J_"
      },
      "execution_count": null,
      "outputs": []
    }
  ]
}