{
  "nbformat": 4,
  "nbformat_minor": 0,
  "metadata": {
    "colab": {
      "provenance": [],
      "authorship_tag": "ABX9TyPvBWeuoGmf5vpQXLy5PNXb",
      "include_colab_link": true
    },
    "kernelspec": {
      "name": "python3",
      "display_name": "Python 3"
    },
    "language_info": {
      "name": "python"
    }
  },
  "cells": [
    {
      "cell_type": "markdown",
      "metadata": {
        "id": "view-in-github",
        "colab_type": "text"
      },
      "source": [
        "<a href=\"https://colab.research.google.com/github/ssook1222/1Day-1Algo/blob/master/ssook/24%EB%85%84/3%EC%9B%94/3%EC%9B%94%203%EC%A3%BC%EC%B0%A8/0318.ipynb\" target=\"_parent\"><img src=\"https://colab.research.google.com/assets/colab-badge.svg\" alt=\"Open In Colab\"/></a>"
      ]
    },
    {
      "cell_type": "markdown",
      "source": [
        "## BoJ"
      ],
      "metadata": {
        "id": "egqutIug4Kv_"
      }
    },
    {
      "cell_type": "markdown",
      "source": [
        "### 22015"
      ],
      "metadata": {
        "id": "7sMoaHYV4NLV"
      }
    },
    {
      "cell_type": "code",
      "execution_count": null,
      "metadata": {
        "colab": {
          "base_uri": "https://localhost:8080/"
        },
        "id": "UzSp6Wfy33Wr",
        "outputId": "18c87c25-e227-46e0-87e2-9800940932a2"
      },
      "outputs": [
        {
          "output_type": "stream",
          "name": "stdout",
          "text": [
            "4 6 9\n",
            "8\n"
          ]
        }
      ],
      "source": [
        "a, b, c = map(int, input().split())\n",
        "lst = [a, b, c]\n",
        "res = max(lst)*3 - sum(lst)\n",
        "print(res)"
      ]
    },
    {
      "cell_type": "markdown",
      "source": [
        "### 20232"
      ],
      "metadata": {
        "id": "Pa_1Zf-a4OE7"
      }
    },
    {
      "cell_type": "code",
      "source": [
        "indx = int(input())\n",
        "\n",
        "award_dict = {1995: 'ITMO',\n",
        "1996: 'SPbSU',\n",
        "1997: 'SPbSU',\n",
        "1998: 'ITMO',\n",
        "1999: 'ITMO',\n",
        "2000: 'SPbSU',\n",
        "2001: 'ITMO',\n",
        "2002: 'ITMO',\n",
        "2003: 'ITMO',\n",
        "2004: 'ITMO',\n",
        "2005: 'ITMO',\n",
        "2006: 'PetrSU, ITMO',\n",
        "2007: 'SPbSU',\n",
        "2008: 'SPbSU',\n",
        "2009: 'ITMO',\n",
        "2010: 'ITMO',\n",
        "2011: 'ITMO',\n",
        "2012: 'ITMO',\n",
        "2013: 'SPbSU',\n",
        "2014: 'ITMO',\n",
        "2015: 'ITMO',\n",
        "2016: 'ITMO',\n",
        "2017: 'ITMO',\n",
        "2018: 'SPbSU',\n",
        "2019: 'ITMO'}\n",
        "\n",
        "print(award_dict[indx])"
      ],
      "metadata": {
        "colab": {
          "base_uri": "https://localhost:8080/"
        },
        "id": "YLuuI85e4O0U",
        "outputId": "7bbf79ad-c466-40ba-ace7-8aa4cbf6c5a7"
      },
      "execution_count": null,
      "outputs": [
        {
          "output_type": "stream",
          "name": "stdout",
          "text": [
            "2006\n",
            "PetrSU, ITMO\n"
          ]
        }
      ]
    },
    {
      "cell_type": "markdown",
      "source": [
        "---"
      ],
      "metadata": {
        "id": "EP3JlY5I4PoH"
      }
    },
    {
      "cell_type": "markdown",
      "source": [
        "## CodeTree"
      ],
      "metadata": {
        "id": "K_wvpJT04QrC"
      }
    },
    {
      "cell_type": "markdown",
      "source": [
        "### 줄 세우기"
      ],
      "metadata": {
        "id": "f-SaYkU74Sol"
      }
    },
    {
      "cell_type": "code",
      "source": [
        "N = int(input())\n",
        "\n",
        "students = {}\n",
        "\n",
        "for i in range(1, N+1):\n",
        "    h, w = map(int, input().split())\n",
        "    students[i] = (h, w, i)\n",
        "\n",
        "def sort_key(student):\n",
        "    return (-student[0], -student[1], student[2])\n",
        "\n",
        "sorted_students = sorted(students.items(), key=lambda x: sort_key(x[1]))\n",
        "\n",
        "for student in sorted_students:\n",
        "    print(student[1][0], student[1][1], student[0])"
      ],
      "metadata": {
        "id": "w1wRuciM4Rjn"
      },
      "execution_count": null,
      "outputs": []
    }
  ]
}