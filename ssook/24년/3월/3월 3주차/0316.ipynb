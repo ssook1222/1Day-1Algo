{
  "nbformat": 4,
  "nbformat_minor": 0,
  "metadata": {
    "colab": {
      "provenance": [],
      "authorship_tag": "ABX9TyOfNugpk5Y0RxPel298rT+2",
      "include_colab_link": true
    },
    "kernelspec": {
      "name": "python3",
      "display_name": "Python 3"
    },
    "language_info": {
      "name": "python"
    }
  },
  "cells": [
    {
      "cell_type": "markdown",
      "metadata": {
        "id": "view-in-github",
        "colab_type": "text"
      },
      "source": [
        "<a href=\"https://colab.research.google.com/github/ssook1222/1Day-1Algo/blob/master/ssook/24%EB%85%84/3%EC%9B%94/3%EC%9B%94%203%EC%A3%BC%EC%B0%A8/0316.ipynb\" target=\"_parent\"><img src=\"https://colab.research.google.com/assets/colab-badge.svg\" alt=\"Open In Colab\"/></a>"
      ]
    },
    {
      "cell_type": "markdown",
      "source": [
        "## BoJ"
      ],
      "metadata": {
        "id": "iU1qdXkZUgc1"
      }
    },
    {
      "cell_type": "markdown",
      "source": [
        "### 18414"
      ],
      "metadata": {
        "id": "6c_jK76RUh11"
      }
    },
    {
      "cell_type": "code",
      "execution_count": null,
      "metadata": {
        "colab": {
          "base_uri": "https://localhost:8080/"
        },
        "id": "ipTyPu4BUfFO",
        "outputId": "6bf75263-533b-4e8f-8740-ab55c15400bb"
      },
      "outputs": [
        {
          "output_type": "stream",
          "name": "stdout",
          "text": [
            "8 3 6\n",
            "6\n"
          ]
        }
      ],
      "source": [
        "x, l, r = map(int, input().split())\n",
        "\n",
        "res = [x, l, r]\n",
        "res.sort()\n",
        "\n",
        "print(res[1])"
      ]
    },
    {
      "cell_type": "markdown",
      "source": [
        "### 15474"
      ],
      "metadata": {
        "id": "X6aGDwVQUkLA"
      }
    },
    {
      "cell_type": "code",
      "source": [
        "n, a, b, c, d = map(int, input().split())\n",
        "\n",
        "if n % a:\n",
        "  a = ((n // a) + 1) * b\n",
        "\n",
        "else:\n",
        "  a = ((n // a)) * b\n",
        "\n",
        "if n % c:\n",
        "  c = ((n // c) + 1) * d\n",
        "\n",
        "else:\n",
        "  c = ((n // c)) * d\n",
        "\n",
        "print(min(a, c))"
      ],
      "metadata": {
        "colab": {
          "base_uri": "https://localhost:8080/"
        },
        "id": "a8_KdXO7UlKK",
        "outputId": "7d876815-e581-46b5-ca5d-81be29284017"
      },
      "execution_count": null,
      "outputs": [
        {
          "output_type": "stream",
          "name": "stdout",
          "text": [
            "10 3 100 5 180\n",
            "360\n"
          ]
        }
      ]
    },
    {
      "cell_type": "markdown",
      "source": [
        "---"
      ],
      "metadata": {
        "id": "A5cVknjmUltB"
      }
    },
    {
      "cell_type": "markdown",
      "source": [
        "## CodeTree"
      ],
      "metadata": {
        "id": "y6EHI_FDUmiN"
      }
    },
    {
      "cell_type": "markdown",
      "source": [
        "### 연속되는 수 2"
      ],
      "metadata": {
        "id": "69hyFbfiUoCu"
      }
    },
    {
      "cell_type": "code",
      "source": [
        "n = int(input())\n",
        "\n",
        "nums = []\n",
        "cnt = 1\n",
        "max_cnt = 1\n",
        "\n",
        "for _ in range(n):\n",
        "    raw = int(input())\n",
        "    nums.append(raw)\n",
        "\n",
        "for i in range(1, n):\n",
        "    if nums[i] != nums[i-1]:\n",
        "        max_cnt = max(max_cnt, cnt)\n",
        "        cnt = 1\n",
        "    else:\n",
        "        cnt += 1\n",
        "\n",
        "max_cnt = max(max_cnt, cnt)\n",
        "\n",
        "print(max_cnt)"
      ],
      "metadata": {
        "id": "QtEQLPydUpJA"
      },
      "execution_count": null,
      "outputs": []
    }
  ]
}