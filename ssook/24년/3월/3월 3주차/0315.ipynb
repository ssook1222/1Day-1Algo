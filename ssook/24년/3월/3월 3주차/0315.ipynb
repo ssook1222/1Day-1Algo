{
  "nbformat": 4,
  "nbformat_minor": 0,
  "metadata": {
    "colab": {
      "provenance": [],
      "authorship_tag": "ABX9TyM09YdvvmJWfrfiugSNsTvt",
      "include_colab_link": true
    },
    "kernelspec": {
      "name": "python3",
      "display_name": "Python 3"
    },
    "language_info": {
      "name": "python"
    }
  },
  "cells": [
    {
      "cell_type": "markdown",
      "metadata": {
        "id": "view-in-github",
        "colab_type": "text"
      },
      "source": [
        "<a href=\"https://colab.research.google.com/github/ssook1222/1Day-1Algo/blob/master/ssook/24%EB%85%84/3%EC%9B%94/3%EC%9B%94%203%EC%A3%BC%EC%B0%A8/0315.ipynb\" target=\"_parent\"><img src=\"https://colab.research.google.com/assets/colab-badge.svg\" alt=\"Open In Colab\"/></a>"
      ]
    },
    {
      "cell_type": "markdown",
      "source": [
        "## BoJ"
      ],
      "metadata": {
        "id": "8z4-PcJbOY_i"
      }
    },
    {
      "cell_type": "markdown",
      "source": [
        "### 27310"
      ],
      "metadata": {
        "id": "uKI54qBXOcIe"
      }
    },
    {
      "cell_type": "code",
      "execution_count": null,
      "metadata": {
        "colab": {
          "base_uri": "https://localhost:8080/"
        },
        "id": "FRMnH4nTOWhG",
        "outputId": "50b0538f-95a8-4e17-a9e6-55758c971cce"
      },
      "outputs": [
        {
          "output_type": "stream",
          "name": "stdout",
          "text": [
            ":chino_shock:\n",
            "20\n"
          ]
        }
      ],
      "source": [
        "raw = input()\n",
        "\n",
        "c = raw.count(':')\n",
        "u = raw.count('_')\n",
        "total = len(raw)\n",
        "\n",
        "ans = c + (u * 5) + total\n",
        "print(ans)"
      ]
    },
    {
      "cell_type": "markdown",
      "source": [
        "### 25625"
      ],
      "metadata": {
        "id": "rQdcE-doOfY9"
      }
    },
    {
      "cell_type": "code",
      "source": [
        "x, y = map(int, input().split())\n",
        "\n",
        "if y > x :\n",
        "  print(y - x)\n",
        "\n",
        "else:\n",
        "  print(x + y)"
      ],
      "metadata": {
        "colab": {
          "base_uri": "https://localhost:8080/"
        },
        "id": "5uDWSjyPOgxS",
        "outputId": "b7b0c4db-1bec-4603-c7fd-b06ef68805af"
      },
      "execution_count": null,
      "outputs": [
        {
          "output_type": "stream",
          "name": "stdout",
          "text": [
            "10 3\n",
            "13\n"
          ]
        }
      ]
    },
    {
      "cell_type": "markdown",
      "source": [
        "---"
      ],
      "metadata": {
        "id": "f6z4FjQoP8__"
      }
    },
    {
      "cell_type": "markdown",
      "source": [
        "## Codetree"
      ],
      "metadata": {
        "id": "Cb4yMNRPP9rD"
      }
    },
    {
      "cell_type": "markdown",
      "source": [
        "### 모이자"
      ],
      "metadata": {
        "id": "VYUIay5iP-wY"
      }
    },
    {
      "cell_type": "code",
      "source": [
        "n = int(input())\n",
        "\n",
        "house = list(map(int, input().split()))\n",
        "moves = []\n",
        "hap = 0\n",
        "\n",
        "for i in range(len(house)):\n",
        "    for j in range(len(house)):\n",
        "        hap += house[j] * abs(j-i)\n",
        "    moves.append(hap)\n",
        "    hap = 0\n",
        "\n",
        "print(min(moves))"
      ],
      "metadata": {
        "id": "jtJvIFxhP_Zg"
      },
      "execution_count": null,
      "outputs": []
    }
  ]
}