{
  "nbformat": 4,
  "nbformat_minor": 0,
  "metadata": {
    "colab": {
      "provenance": [],
      "authorship_tag": "ABX9TyOqSZOpyx5k3TVgZ6l2Ae3h",
      "include_colab_link": true
    },
    "kernelspec": {
      "name": "python3",
      "display_name": "Python 3"
    },
    "language_info": {
      "name": "python"
    }
  },
  "cells": [
    {
      "cell_type": "markdown",
      "metadata": {
        "id": "view-in-github",
        "colab_type": "text"
      },
      "source": [
        "<a href=\"https://colab.research.google.com/github/ssook1222/1Day-1Algo/blob/master/ssook/24%EB%85%84/3%EC%9B%94/3%EC%9B%94%203%EC%A3%BC%EC%B0%A8/0320.ipynb\" target=\"_parent\"><img src=\"https://colab.research.google.com/assets/colab-badge.svg\" alt=\"Open In Colab\"/></a>"
      ]
    },
    {
      "cell_type": "markdown",
      "source": [
        "## BoJ"
      ],
      "metadata": {
        "id": "hm06eFXU6IyI"
      }
    },
    {
      "cell_type": "markdown",
      "source": [
        "### 15051"
      ],
      "metadata": {
        "id": "v5UwMJiZ6XQg"
      }
    },
    {
      "cell_type": "code",
      "source": [
        "a1 = int(input())\n",
        "a2 = int(input())\n",
        "a3 = int(input())\n",
        "\n",
        "r1 = a2*2 + a3*4\n",
        "r2 = a1*2 + a3*2\n",
        "r3 = a1*4 + a2*2\n",
        "\n",
        "ans = min(r1, r2, r3)\n",
        "\n",
        "print(ans)"
      ],
      "metadata": {
        "colab": {
          "base_uri": "https://localhost:8080/"
        },
        "id": "2GktHLja6WGT",
        "outputId": "f0c4c4ea-6873-45e6-f6b7-68415e639f02"
      },
      "execution_count": null,
      "outputs": [
        {
          "output_type": "stream",
          "name": "stdout",
          "text": [
            "10\n",
            "20\n",
            "30\n",
            "80\n"
          ]
        }
      ]
    },
    {
      "cell_type": "markdown",
      "source": [
        "### 24083"
      ],
      "metadata": {
        "id": "SjDC1LrY6X7C"
      }
    },
    {
      "cell_type": "code",
      "source": [
        "a = int(input())\n",
        "b = int(input())\n",
        "\n",
        "if (a+b) % 12 != 0:\n",
        "  print((a+b) % 12)\n",
        "\n",
        "else:\n",
        "  print(12)"
      ],
      "metadata": {
        "colab": {
          "base_uri": "https://localhost:8080/"
        },
        "id": "Qehs1Fo86YbT",
        "outputId": "52c5ef79-ea2e-4dd7-b190-79b50001b61d"
      },
      "execution_count": null,
      "outputs": [
        {
          "output_type": "stream",
          "name": "stdout",
          "text": [
            "9\n",
            "5\n",
            "2\n"
          ]
        }
      ]
    },
    {
      "cell_type": "markdown",
      "source": [
        "## CodeTree"
      ],
      "metadata": {
        "id": "lobp7pQp6VIM"
      }
    },
    {
      "cell_type": "markdown",
      "source": [
        "### 구간 중 최대 합"
      ],
      "metadata": {
        "id": "lEETPmw16b2m"
      }
    },
    {
      "cell_type": "code",
      "execution_count": null,
      "metadata": {
        "id": "XbD5xnVw5G3W"
      },
      "outputs": [],
      "source": [
        "n, k = map(int, input().split())\n",
        "\n",
        "nums = list(map(int, input().split()))\n",
        "max_hap = -1e9\n",
        "\n",
        "for i in range(n):\n",
        "    hap = sum(nums[i:i+k])\n",
        "\n",
        "    if max_hap < hap:\n",
        "        max_hap = hap\n",
        "\n",
        "print(max_hap)"
      ]
    }
  ]
}