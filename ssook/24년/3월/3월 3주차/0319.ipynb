{
  "nbformat": 4,
  "nbformat_minor": 0,
  "metadata": {
    "colab": {
      "provenance": [],
      "authorship_tag": "ABX9TyPugHJqho9pcjih8E6A5AaH",
      "include_colab_link": true
    },
    "kernelspec": {
      "name": "python3",
      "display_name": "Python 3"
    },
    "language_info": {
      "name": "python"
    }
  },
  "cells": [
    {
      "cell_type": "markdown",
      "metadata": {
        "id": "view-in-github",
        "colab_type": "text"
      },
      "source": [
        "<a href=\"https://colab.research.google.com/github/ssook1222/1Day-1Algo/blob/master/ssook/24%EB%85%84/3%EC%9B%94/3%EC%9B%94%203%EC%A3%BC%EC%B0%A8/0319.ipynb\" target=\"_parent\"><img src=\"https://colab.research.google.com/assets/colab-badge.svg\" alt=\"Open In Colab\"/></a>"
      ]
    },
    {
      "cell_type": "markdown",
      "source": [
        "## BoJ"
      ],
      "metadata": {
        "id": "etnrH74TvvFl"
      }
    },
    {
      "cell_type": "markdown",
      "source": [
        "### 20673"
      ],
      "metadata": {
        "id": "QoNrXp-svxH3"
      }
    },
    {
      "cell_type": "code",
      "execution_count": null,
      "metadata": {
        "colab": {
          "base_uri": "https://localhost:8080/"
        },
        "id": "YXEpWVdHvs30",
        "outputId": "8f4e4b64-62d9-4714-d19a-3d6697aa746e"
      },
      "outputs": [
        {
          "output_type": "stream",
          "name": "stdout",
          "text": [
            "50\n",
            "7\n",
            "White\n"
          ]
        }
      ],
      "source": [
        "p = int(input())\n",
        "q = int(input())\n",
        "\n",
        "if p <= 50 and q <= 10:\n",
        "    print(\"White\")\n",
        "\n",
        "elif q > 30:\n",
        "  print(\"Red\")\n",
        "\n",
        "else:\n",
        "  print(\"Yellow\")"
      ]
    },
    {
      "cell_type": "markdown",
      "source": [
        "### 31495"
      ],
      "metadata": {
        "id": "J_tz97YcvygU"
      }
    },
    {
      "cell_type": "code",
      "source": [
        "raw = input()\n",
        "\n",
        "if raw[0] != '\"' or raw[-1] != '\"' or len(raw) < 3:\n",
        "    print('CE')\n",
        "else:\n",
        "    print(raw[1:-1])"
      ],
      "metadata": {
        "colab": {
          "base_uri": "https://localhost:8080/"
        },
        "id": "sqJld64evzND",
        "outputId": "00fde5cb-072c-44aa-c6c6-b720479f6421"
      },
      "execution_count": null,
      "outputs": [
        {
          "output_type": "stream",
          "name": "stdout",
          "text": [
            "\"hello\" a\n",
            "CE\n"
          ]
        }
      ]
    },
    {
      "cell_type": "markdown",
      "source": [
        "---"
      ],
      "metadata": {
        "id": "kD96S_hCvzYy"
      }
    },
    {
      "cell_type": "markdown",
      "source": [
        "## CodeTree"
      ],
      "metadata": {
        "id": "fg62mLdQv0Q_"
      }
    },
    {
      "cell_type": "markdown",
      "source": [
        "### 개인정보"
      ],
      "metadata": {
        "id": "_PYGYAHfv2z2"
      }
    },
    {
      "cell_type": "code",
      "source": [
        "human = {}\n",
        "\n",
        "for _ in range(5):\n",
        "    name, h, w = map(str, input().split())\n",
        "    h = float(h)\n",
        "    w = float(w)\n",
        "    human[name] = (h, w)\n",
        "\n",
        "human1 = dict(sorted(human.items(), key = lambda x: x[0]))\n",
        "human2 = dict(sorted(human.items(), key = lambda x: -x[1][0]))\n",
        "\n",
        "print(\"name\")\n",
        "for h in human1:\n",
        "    print('%s %d %.1f' %(h, *human1[h]))\n",
        "\n",
        "print(\"\")\n",
        "print(\"height\")\n",
        "for h in human2:\n",
        "    print('%s %d %.1f' %(h, *human2[h]))"
      ],
      "metadata": {
        "id": "qpyzGu_6v3eX"
      },
      "execution_count": null,
      "outputs": []
    }
  ]
}