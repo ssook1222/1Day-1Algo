{
  "nbformat": 4,
  "nbformat_minor": 0,
  "metadata": {
    "colab": {
      "provenance": [],
      "authorship_tag": "ABX9TyMUnewlFHVmOhtDyPUmiNWd",
      "include_colab_link": true
    },
    "kernelspec": {
      "name": "python3",
      "display_name": "Python 3"
    },
    "language_info": {
      "name": "python"
    }
  },
  "cells": [
    {
      "cell_type": "markdown",
      "metadata": {
        "id": "view-in-github",
        "colab_type": "text"
      },
      "source": [
        "<a href=\"https://colab.research.google.com/github/ssook1222/1Day-1Algo/blob/master/ssook/24%EB%85%84/3%EC%9B%94/3%EC%9B%94%203%EC%A3%BC%EC%B0%A8/0317.ipynb\" target=\"_parent\"><img src=\"https://colab.research.google.com/assets/colab-badge.svg\" alt=\"Open In Colab\"/></a>"
      ]
    },
    {
      "cell_type": "markdown",
      "source": [
        "## BoJ"
      ],
      "metadata": {
        "id": "Ug3SnOTVLTCT"
      }
    },
    {
      "cell_type": "markdown",
      "source": [
        "### 28352"
      ],
      "metadata": {
        "id": "ep9vQgVwLU_V"
      }
    },
    {
      "cell_type": "code",
      "execution_count": null,
      "metadata": {
        "colab": {
          "base_uri": "https://localhost:8080/"
        },
        "id": "s6a7dL70LPzf",
        "outputId": "e7f6a0a9-8334-455f-dcbd-db95a1370724"
      },
      "outputs": [
        {
          "output_type": "stream",
          "name": "stdout",
          "text": [
            "17\n",
            "588107520\n"
          ]
        }
      ],
      "source": [
        "import math\n",
        "\n",
        "n = int(input())\n",
        "\n",
        "if n == 10:\n",
        "  print(6)\n",
        "\n",
        "else:\n",
        "  print(6 * (math.factorial(n)//math.factorial(10)))"
      ]
    },
    {
      "cell_type": "markdown",
      "source": [
        "### 8674"
      ],
      "metadata": {
        "id": "ZgV6SufgLWA-"
      }
    },
    {
      "cell_type": "code",
      "source": [
        "a, b = map(int, input().split())\n",
        "\n",
        "if a % 2 == 1 and b % 2 == 1:\n",
        "  print(min(a, b))\n",
        "\n",
        "else:\n",
        "  print(0)"
      ],
      "metadata": {
        "colab": {
          "base_uri": "https://localhost:8080/"
        },
        "id": "hUi0iyo6LuZt",
        "outputId": "22ea2e38-c8d1-4232-b46b-34984570bd53"
      },
      "execution_count": null,
      "outputs": [
        {
          "output_type": "stream",
          "name": "stdout",
          "text": [
            "5 3\n",
            "3\n"
          ]
        }
      ]
    },
    {
      "cell_type": "markdown",
      "source": [
        "---"
      ],
      "metadata": {
        "id": "szBXp23RLvc8"
      }
    },
    {
      "cell_type": "markdown",
      "source": [
        "## CodeTree"
      ],
      "metadata": {
        "id": "WzSigCMWLwic"
      }
    },
    {
      "cell_type": "markdown",
      "source": [
        "###  총점 비교"
      ],
      "metadata": {
        "id": "X83sWTO6Lznj"
      }
    },
    {
      "cell_type": "code",
      "source": [
        "n = int(input())\n",
        "students = []\n",
        "\n",
        "for _ in range(n):\n",
        "    name, score1, score2, score3 = input().split()\n",
        "    total_score = int(score1) + int(score2) + int(score3)\n",
        "    students.append((name, total_score, int(score1), int(score2), int(score3)))\n",
        "\n",
        "students.sort(key=lambda x: x[1])\n",
        "\n",
        "for student in students:\n",
        "    print(student[0], student[2], student[3], student[4])"
      ],
      "metadata": {
        "id": "uhJ7goOsL0eL"
      },
      "execution_count": null,
      "outputs": []
    }
  ]
}