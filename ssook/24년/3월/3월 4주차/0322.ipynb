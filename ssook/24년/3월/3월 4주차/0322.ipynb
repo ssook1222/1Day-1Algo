{
  "nbformat": 4,
  "nbformat_minor": 0,
  "metadata": {
    "colab": {
      "provenance": [],
      "authorship_tag": "ABX9TyM7i4/YbmX6iNrM95E6Ex7G",
      "include_colab_link": true
    },
    "kernelspec": {
      "name": "python3",
      "display_name": "Python 3"
    },
    "language_info": {
      "name": "python"
    }
  },
  "cells": [
    {
      "cell_type": "markdown",
      "metadata": {
        "id": "view-in-github",
        "colab_type": "text"
      },
      "source": [
        "<a href=\"https://colab.research.google.com/github/ssook1222/1Day-1Algo/blob/master/ssook/24%EB%85%84/3%EC%9B%94/3%EC%9B%94%204%EC%A3%BC%EC%B0%A8/0322.ipynb\" target=\"_parent\"><img src=\"https://colab.research.google.com/assets/colab-badge.svg\" alt=\"Open In Colab\"/></a>"
      ]
    },
    {
      "cell_type": "markdown",
      "source": [
        "## BoJ"
      ],
      "metadata": {
        "id": "lVHqIqA3M4w3"
      }
    },
    {
      "cell_type": "markdown",
      "source": [
        "### 20352"
      ],
      "metadata": {
        "id": "LObLnpsiM6uo"
      }
    },
    {
      "cell_type": "code",
      "execution_count": null,
      "metadata": {
        "colab": {
          "base_uri": "https://localhost:8080/"
        },
        "id": "6FXGwizxM0CW",
        "outputId": "c45ab1f5-e5c3-48ac-ec82-3cb1230f4bf1"
      },
      "outputs": [
        {
          "output_type": "stream",
          "name": "stdout",
          "text": [
            "64\n",
            "28.359261614488254\n"
          ]
        }
      ],
      "source": [
        "import math\n",
        "\n",
        "a = int(input())\n",
        "\n",
        "ans = ( a / math.pi )**0.5 * 2 * math.pi\n",
        "\n",
        "print(ans)"
      ]
    },
    {
      "cell_type": "markdown",
      "source": [
        "### 20233"
      ],
      "metadata": {
        "id": "D8rznmjKNK0H"
      }
    },
    {
      "cell_type": "code",
      "source": [
        "a = int(input())\n",
        "x = int(input())\n",
        "b = int(input())\n",
        "y = int(input())\n",
        "T = int(input())\n",
        "\n",
        "if T > 30:\n",
        "  a += (T-30)*x*21\n",
        "\n",
        "if T > 45:\n",
        "  b += (T-45)*y*21\n",
        "\n",
        "print(a, b)"
      ],
      "metadata": {
        "colab": {
          "base_uri": "https://localhost:8080/"
        },
        "id": "4D3-pVEjNLYO",
        "outputId": "373b0146-f56e-4f63-ee7e-f68993ab060b"
      },
      "execution_count": null,
      "outputs": [
        {
          "output_type": "stream",
          "name": "stdout",
          "text": [
            "10\n",
            "1\n",
            "20\n",
            "5\n",
            "50\n",
            "430 545\n"
          ]
        }
      ]
    },
    {
      "cell_type": "markdown",
      "source": [
        "---"
      ],
      "metadata": {
        "id": "ooY3esRbNLug"
      }
    },
    {
      "cell_type": "markdown",
      "source": [
        "## CodeTree"
      ],
      "metadata": {
        "id": "6DK1f4Z3NMS3"
      }
    },
    {
      "cell_type": "markdown",
      "source": [
        "### 이진수 출력 4"
      ],
      "metadata": {
        "id": "O08FTIg9NOrt"
      }
    },
    {
      "cell_type": "code",
      "source": [
        "def generate_binary_with_repeated_digits(n):\n",
        "    def backtrack(curr, zeros, ones):\n",
        "        if zeros + ones == n:\n",
        "            if zeros >= 2 and ones >= 2:\n",
        "                print(curr)\n",
        "            return\n",
        "        backtrack(curr + '0', zeros + 1, ones)\n",
        "        backtrack(curr + '1', zeros, ones + 1)\n",
        "\n",
        "    backtrack('', 0, 0)\n",
        "\n",
        "n = int(input())\n",
        "\n",
        "generate_binary_with_repeated_digits(n)"
      ],
      "metadata": {
        "id": "hT6hJGWHNPN5"
      },
      "execution_count": null,
      "outputs": []
    }
  ]
}