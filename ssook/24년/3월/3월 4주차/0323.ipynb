{
  "nbformat": 4,
  "nbformat_minor": 0,
  "metadata": {
    "colab": {
      "provenance": [],
      "authorship_tag": "ABX9TyM/Et7JdYjfi1KENhPc2syY",
      "include_colab_link": true
    },
    "kernelspec": {
      "name": "python3",
      "display_name": "Python 3"
    },
    "language_info": {
      "name": "python"
    }
  },
  "cells": [
    {
      "cell_type": "markdown",
      "metadata": {
        "id": "view-in-github",
        "colab_type": "text"
      },
      "source": [
        "<a href=\"https://colab.research.google.com/github/ssook1222/1Day-1Algo/blob/master/ssook/24%EB%85%84/3%EC%9B%94/3%EC%9B%94%204%EC%A3%BC%EC%B0%A8/0323.ipynb\" target=\"_parent\"><img src=\"https://colab.research.google.com/assets/colab-badge.svg\" alt=\"Open In Colab\"/></a>"
      ]
    },
    {
      "cell_type": "markdown",
      "source": [
        "## BoJ"
      ],
      "metadata": {
        "id": "kzpQQ-mFpvqg"
      }
    },
    {
      "cell_type": "markdown",
      "source": [
        "### 24860"
      ],
      "metadata": {
        "id": "N9MzT0ijpxfc"
      }
    },
    {
      "cell_type": "code",
      "execution_count": null,
      "metadata": {
        "colab": {
          "base_uri": "https://localhost:8080/"
        },
        "id": "nlTC000apqO7",
        "outputId": "ef7d5c0e-6594-405b-9581-00af88610752"
      },
      "outputs": [
        {
          "output_type": "stream",
          "name": "stdout",
          "text": [
            "40 5\n",
            "41 6\n",
            "50 30 6\n",
            "4014000\n"
          ]
        }
      ],
      "source": [
        "v1, j1 = map(int, input().split())\n",
        "v2, j2 = map(int, input().split())\n",
        "v3, d3, j3 = map(int, input().split())\n",
        "\n",
        "ans = ((v1 * j1) + (v2 * j2)) * (v3 * d3 * j3)\n",
        "print(ans)"
      ]
    },
    {
      "cell_type": "markdown",
      "source": [
        "### 21354"
      ],
      "metadata": {
        "id": "a5rse9NcpzKJ"
      }
    },
    {
      "cell_type": "code",
      "source": [
        "a, p = map(int, input().split())\n",
        "\n",
        "axel = a * 7\n",
        "petra = p * 13\n",
        "\n",
        "if axel > petra:\n",
        "  print(\"Axel\")\n",
        "\n",
        "elif axel < petra:\n",
        "   print(\"Petra\")\n",
        "\n",
        "else:\n",
        "  print(\"lika\")"
      ],
      "metadata": {
        "colab": {
          "base_uri": "https://localhost:8080/"
        },
        "id": "smcGFVPKp0Iz",
        "outputId": "03eb6364-ac85-4fb6-da7b-e585e7a2c68c"
      },
      "execution_count": null,
      "outputs": [
        {
          "output_type": "stream",
          "name": "stdout",
          "text": [
            "1 1\n",
            "Petra\n"
          ]
        }
      ]
    },
    {
      "cell_type": "markdown",
      "source": [
        "---"
      ],
      "metadata": {
        "id": "Oz8j3QC9p0t5"
      }
    },
    {
      "cell_type": "markdown",
      "source": [
        "## CodeTree"
      ],
      "metadata": {
        "id": "w_yl5oE6p1Vj"
      }
    },
    {
      "cell_type": "markdown",
      "source": [
        "### 이차원 격자9"
      ],
      "metadata": {
        "id": "xcHegYdzp296"
      }
    },
    {
      "cell_type": "code",
      "source": [
        "n = int(input())\n",
        "nums = []\n",
        "for _ in range(n):\n",
        "    nums.append(list(map(int, input().split())))\n",
        "\n",
        "r1, c1 = map(int, input().split())\n",
        "r2, c2 = map(int, input().split())\n",
        "\n",
        "min_n = 1e9\n",
        "\n",
        "for i in range(r1-1, r2):\n",
        "    for j in range(c1-1, c2):\n",
        "        if min_n > nums[i][j] :\n",
        "            min_n = nums[i][j]\n",
        "\n",
        "print(min_n)"
      ],
      "metadata": {
        "id": "Bj-eypQXp3u5"
      },
      "execution_count": null,
      "outputs": []
    }
  ]
}