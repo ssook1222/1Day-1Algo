{
  "nbformat": 4,
  "nbformat_minor": 0,
  "metadata": {
    "colab": {
      "provenance": [],
      "authorship_tag": "ABX9TyMAAut7LAwgQyfXYklTlGOw",
      "include_colab_link": true
    },
    "kernelspec": {
      "name": "python3",
      "display_name": "Python 3"
    },
    "language_info": {
      "name": "python"
    }
  },
  "cells": [
    {
      "cell_type": "markdown",
      "metadata": {
        "id": "view-in-github",
        "colab_type": "text"
      },
      "source": [
        "<a href=\"https://colab.research.google.com/github/ssook1222/1Day-1Algo/blob/master/ssook/24%EB%85%84/3%EC%9B%94/3%EC%9B%94%204%EC%A3%BC%EC%B0%A8/0325.ipynb\" target=\"_parent\"><img src=\"https://colab.research.google.com/assets/colab-badge.svg\" alt=\"Open In Colab\"/></a>"
      ]
    },
    {
      "cell_type": "markdown",
      "source": [
        "## BoJ"
      ],
      "metadata": {
        "id": "BviIhAGGe_uq"
      }
    },
    {
      "cell_type": "markdown",
      "source": [
        "### 28290"
      ],
      "metadata": {
        "id": "JHOb8k1YfBHW"
      }
    },
    {
      "cell_type": "code",
      "execution_count": null,
      "metadata": {
        "colab": {
          "base_uri": "https://localhost:8080/"
        },
        "id": "PctFAOhqe6ft",
        "outputId": "50cb886f-44d2-4836-899b-14aa44b15bd7"
      },
      "outputs": [
        {
          "output_type": "stream",
          "name": "stdout",
          "text": [
            "fdsajkl;\n",
            "in-out\n"
          ]
        }
      ],
      "source": [
        "s = input()\n",
        "\n",
        "if s == \"fdsajkl;\" or s == \"jkl;fdsa\":\n",
        "  print(\"in-out\")\n",
        "\n",
        "elif s == \"asdf;lkj\" or s == \";lkjasdf\":\n",
        "  print(\"out-in\")\n",
        "\n",
        "elif s == \"asdfjkl;\":\n",
        "  print(\"stairs\")\n",
        "\n",
        "elif s == \";lkjfdsa\":\n",
        "  print(\"reverse\")\n",
        "\n",
        "else:\n",
        "  print(\"molu\")"
      ]
    },
    {
      "cell_type": "markdown",
      "source": [
        "### 24087"
      ],
      "metadata": {
        "id": "a0TO6nBdfCTg"
      }
    },
    {
      "cell_type": "code",
      "source": [
        "a = int(input())\n",
        "b = int(input())\n",
        "c = int(input())\n",
        "\n",
        "ans = 250\n",
        "if a <= b:\n",
        "  print(ans)\n",
        "\n",
        "else:\n",
        "  ans += ((a-b)//c) * 100\n",
        "\n",
        "  if (a-b)%c != 0:\n",
        "    ans += 100\n",
        "\n",
        "  print(ans)"
      ],
      "metadata": {
        "colab": {
          "base_uri": "https://localhost:8080/"
        },
        "id": "T2zuSP1vfDvG",
        "outputId": "a7088f02-ea7c-4dd2-e1e0-274547b549d6"
      },
      "execution_count": null,
      "outputs": [
        {
          "output_type": "stream",
          "name": "stdout",
          "text": [
            "28\n",
            "20\n",
            "5\n",
            "450\n"
          ]
        }
      ]
    },
    {
      "cell_type": "markdown",
      "source": [
        "---"
      ],
      "metadata": {
        "id": "TZZ6H7o4fES0"
      }
    },
    {
      "cell_type": "markdown",
      "source": [
        "## CodeTree"
      ],
      "metadata": {
        "id": "IrL4sUYPfFRa"
      }
    },
    {
      "cell_type": "markdown",
      "source": [
        "###  운행 되고 있는 시간"
      ],
      "metadata": {
        "id": "9O7BwUrtfGhk"
      }
    },
    {
      "cell_type": "code",
      "source": [
        "def max_operating_time(N, developers):\n",
        "    developers.sort(key=lambda x: x[0])\n",
        "    max_time = 0\n",
        "\n",
        "    for i in range(N):\n",
        "        start_time, end_time = developers[i]\n",
        "        remaining_developers = developers[:i] + developers[i+1:]\n",
        "        max_time = max(max_time, calculate_operating_time(remaining_developers))\n",
        "\n",
        "    return max_time\n",
        "\n",
        "def calculate_operating_time(developers):\n",
        "    operating_time = 0\n",
        "    end_time = 0\n",
        "\n",
        "    for start, end in developers:\n",
        "        if start >= end_time:\n",
        "            operating_time += end - start\n",
        "            end_time = end\n",
        "        elif end > end_time:\n",
        "            operating_time += end - end_time\n",
        "            end_time = end\n",
        "    return operating_time\n",
        "\n",
        "N = int(input())\n",
        "developers = []\n",
        "\n",
        "for _ in range(N):\n",
        "    start, end = map(int, input().split())\n",
        "    developers.append((start, end))\n",
        "\n",
        "print(max_operating_time(N, developers))"
      ],
      "metadata": {
        "id": "3klCKZzqfHYf"
      },
      "execution_count": null,
      "outputs": []
    }
  ]
}