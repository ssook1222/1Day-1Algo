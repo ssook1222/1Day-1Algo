{
  "nbformat": 4,
  "nbformat_minor": 0,
  "metadata": {
    "colab": {
      "provenance": [],
      "authorship_tag": "ABX9TyOEikKbjX3j0cModuPTqCch",
      "include_colab_link": true
    },
    "kernelspec": {
      "name": "python3",
      "display_name": "Python 3"
    },
    "language_info": {
      "name": "python"
    }
  },
  "cells": [
    {
      "cell_type": "markdown",
      "metadata": {
        "id": "view-in-github",
        "colab_type": "text"
      },
      "source": [
        "<a href=\"https://colab.research.google.com/github/ssook1222/1Day-1Algo/blob/master/ssook/24%EB%85%84/3%EC%9B%94/3%EC%9B%94%204%EC%A3%BC%EC%B0%A8/0327.ipynb\" target=\"_parent\"><img src=\"https://colab.research.google.com/assets/colab-badge.svg\" alt=\"Open In Colab\"/></a>"
      ]
    },
    {
      "cell_type": "markdown",
      "source": [
        "## BoJ"
      ],
      "metadata": {
        "id": "MGbc7wVCBAgt"
      }
    },
    {
      "cell_type": "markdown",
      "source": [
        "### 21631"
      ],
      "metadata": {
        "id": "hINJsoPoBD9f"
      }
    },
    {
      "cell_type": "code",
      "execution_count": null,
      "metadata": {
        "colab": {
          "base_uri": "https://localhost:8080/"
        },
        "id": "y0ErJ_oDA-qr",
        "outputId": "aea3ef56-946e-4d1f-af00-e2f61fd46a51"
      },
      "outputs": [
        {
          "output_type": "stream",
          "name": "stdout",
          "text": [
            "1 2\n",
            "2\n"
          ]
        }
      ],
      "source": [
        "w, b = map(int, input().split())\n",
        "\n",
        "if w >= b:\n",
        "  print(b)\n",
        "\n",
        "else:\n",
        "  print(w+1)"
      ]
    },
    {
      "cell_type": "markdown",
      "source": [
        "### 27590"
      ],
      "metadata": {
        "id": "ghXTAAtvBEkD"
      }
    },
    {
      "cell_type": "code",
      "source": [
        "s1, s2 = map(int, input().split())\n",
        "m1, m2 = map(int, input().split())\n",
        "\n",
        "s = s2 - s1\n",
        "m = m2 - m1\n",
        "\n",
        "while s != m:\n",
        "  if s < m:\n",
        "    s += s2\n",
        "  else:\n",
        "    m += m2\n",
        "\n",
        "print(s)"
      ],
      "metadata": {
        "colab": {
          "base_uri": "https://localhost:8080/"
        },
        "id": "2hxI4JGRBFRB",
        "outputId": "8fc8b2fe-2f36-4eb3-b26d-ffbd35ae57b1"
      },
      "execution_count": null,
      "outputs": [
        {
          "output_type": "stream",
          "name": "stdout",
          "text": [
            "3 10\n",
            "1 2\n",
            "7\n"
          ]
        }
      ]
    },
    {
      "cell_type": "markdown",
      "source": [
        "---"
      ],
      "metadata": {
        "id": "e2z7JRGtBF8F"
      }
    },
    {
      "cell_type": "markdown",
      "source": [
        "## CodeTree"
      ],
      "metadata": {
        "id": "1Dv09K11BGZw"
      }
    },
    {
      "cell_type": "markdown",
      "source": [
        "### 비둘기와 전기줄"
      ],
      "metadata": {
        "id": "tCSH1FAmBJgS"
      }
    },
    {
      "cell_type": "code",
      "source": [
        "def min_crossings(N, observations):\n",
        "    crossings = {}\n",
        "\n",
        "    for pigeon, location in observations:\n",
        "        if pigeon not in crossings:\n",
        "            crossings[pigeon] = {\"prev_location\": None, \"cross_count\": 0}\n",
        "\n",
        "        if crossings[pigeon][\"prev_location\"] is not None:\n",
        "            if crossings[pigeon][\"prev_location\"] != location:\n",
        "                crossings[pigeon][\"cross_count\"] += 1\n",
        "\n",
        "        crossings[pigeon][\"prev_location\"] = location\n",
        "\n",
        "    return sum(cross[\"cross_count\"] for cross in crossings.values())\n",
        "\n",
        "N = int(input())\n",
        "observations = []\n",
        "for _ in range(N):\n",
        "    pigeon, location = map(int, input().split())\n",
        "    observations.append((pigeon, location))\n",
        "\n",
        "print(min_crossings(N, observations))"
      ],
      "metadata": {
        "id": "ky2YhWaiBKSl"
      },
      "execution_count": null,
      "outputs": []
    }
  ]
}