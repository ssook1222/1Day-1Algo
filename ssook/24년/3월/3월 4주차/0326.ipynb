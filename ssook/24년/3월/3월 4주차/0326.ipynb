{
  "nbformat": 4,
  "nbformat_minor": 0,
  "metadata": {
    "colab": {
      "provenance": [],
      "authorship_tag": "ABX9TyNfLfUL2iiJZFUGEygNE+bN",
      "include_colab_link": true
    },
    "kernelspec": {
      "name": "python3",
      "display_name": "Python 3"
    },
    "language_info": {
      "name": "python"
    }
  },
  "cells": [
    {
      "cell_type": "markdown",
      "metadata": {
        "id": "view-in-github",
        "colab_type": "text"
      },
      "source": [
        "<a href=\"https://colab.research.google.com/github/ssook1222/1Day-1Algo/blob/master/ssook/24%EB%85%84/3%EC%9B%94/3%EC%9B%94%204%EC%A3%BC%EC%B0%A8/0326.ipynb\" target=\"_parent\"><img src=\"https://colab.research.google.com/assets/colab-badge.svg\" alt=\"Open In Colab\"/></a>"
      ]
    },
    {
      "cell_type": "markdown",
      "source": [
        "## BoJ"
      ],
      "metadata": {
        "id": "jsPr2-n_zzOh"
      }
    },
    {
      "cell_type": "markdown",
      "source": [
        "### 24072"
      ],
      "metadata": {
        "id": "AN8EiSFXz775"
      }
    },
    {
      "cell_type": "code",
      "execution_count": null,
      "metadata": {
        "colab": {
          "base_uri": "https://localhost:8080/"
        },
        "id": "EHrG25J0zixt",
        "outputId": "ca26eea9-3a5c-49ff-b819-cd9c234fe581"
      },
      "outputs": [
        {
          "output_type": "stream",
          "name": "stdout",
          "text": [
            "2 5 3\n",
            "1\n"
          ]
        }
      ],
      "source": [
        "a, b, c = map(int, input().split())\n",
        "\n",
        "if a <= c < b:\n",
        "  print(1)\n",
        "\n",
        "else:\n",
        "  print(0)"
      ]
    },
    {
      "cell_type": "markdown",
      "source": [
        "### 26566"
      ],
      "metadata": {
        "id": "SYp7XnzVz884"
      }
    },
    {
      "cell_type": "code",
      "source": [
        "import math\n",
        "\n",
        "n = int(input())\n",
        "\n",
        "for _ in range(n):\n",
        "  a, p1 = map(float, input().split())\n",
        "  r, p2 = map(float, input().split())\n",
        "\n",
        "  v1 = a / p1\n",
        "  v2 = (math.pi * r**2) / p2\n",
        "\n",
        "  if v1 > v2 :\n",
        "    print(\"Slice of pizza\")\n",
        "\n",
        "  else:\n",
        "    print(\"Whole pizza\")"
      ],
      "metadata": {
        "colab": {
          "base_uri": "https://localhost:8080/"
        },
        "id": "gn7euo78z9rm",
        "outputId": "d8436fbe-489a-4fc6-e6c8-d78360a239ca"
      },
      "execution_count": null,
      "outputs": [
        {
          "output_type": "stream",
          "name": "stdout",
          "text": [
            "3\n",
            "8 4\n",
            "7 9\n",
            "Whole Pizza\n",
            "9 2\n",
            "4 7\n",
            "Whole Pizza\n",
            "841 108\n",
            "8 106\n",
            "Slice of pizza\n"
          ]
        }
      ]
    },
    {
      "cell_type": "markdown",
      "source": [
        "---"
      ],
      "metadata": {
        "id": "3YYrLC9Hz-Oc"
      }
    },
    {
      "cell_type": "markdown",
      "source": [
        "## CodeTree"
      ],
      "metadata": {
        "id": "l72iJVyTz-8-"
      }
    },
    {
      "cell_type": "markdown",
      "source": [
        "###  한 가지로 열리는 자물쇠"
      ],
      "metadata": {
        "id": "4IfC5dTB0AVZ"
      }
    },
    {
      "cell_type": "code",
      "source": [
        "n = int(input())\n",
        "\n",
        "a, b, c = map(int, input().split())\n",
        "total = n**3\n",
        "exclude = 0\n",
        "\n",
        "for i in range(1, n+1):\n",
        "    for j in range(1, n+1):\n",
        "        for k in range(1, n+1):\n",
        "            if abs(a-i) >=3 and abs(b-j) >=3 and abs(c-k) >=3:\n",
        "                exclude += 1\n",
        "\n",
        "print(total - exclude)"
      ],
      "metadata": {
        "id": "_jPT47m10BKl"
      },
      "execution_count": null,
      "outputs": []
    }
  ]
}