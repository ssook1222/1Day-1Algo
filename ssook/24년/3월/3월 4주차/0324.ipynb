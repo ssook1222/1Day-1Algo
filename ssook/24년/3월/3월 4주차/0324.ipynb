{
  "nbformat": 4,
  "nbformat_minor": 0,
  "metadata": {
    "colab": {
      "provenance": [],
      "authorship_tag": "ABX9TyOKwmMxoaO7TV7GWbQlWn/S",
      "include_colab_link": true
    },
    "kernelspec": {
      "name": "python3",
      "display_name": "Python 3"
    },
    "language_info": {
      "name": "python"
    }
  },
  "cells": [
    {
      "cell_type": "markdown",
      "metadata": {
        "id": "view-in-github",
        "colab_type": "text"
      },
      "source": [
        "<a href=\"https://colab.research.google.com/github/ssook1222/1Day-1Algo/blob/master/ssook/24%EB%85%84/3%EC%9B%94/3%EC%9B%94%204%EC%A3%BC%EC%B0%A8/0324.ipynb\" target=\"_parent\"><img src=\"https://colab.research.google.com/assets/colab-badge.svg\" alt=\"Open In Colab\"/></a>"
      ]
    },
    {
      "cell_type": "markdown",
      "source": [
        "## BoJ"
      ],
      "metadata": {
        "id": "QJguMKxDKYd0"
      }
    },
    {
      "cell_type": "markdown",
      "source": [
        "### 20833"
      ],
      "metadata": {
        "id": "jWgDuMBTKZr8"
      }
    },
    {
      "cell_type": "code",
      "execution_count": null,
      "metadata": {
        "colab": {
          "base_uri": "https://localhost:8080/"
        },
        "id": "D8stHcfLKVDO",
        "outputId": "f68c8758-fb1b-407d-fff4-689ee605b215"
      },
      "outputs": [
        {
          "output_type": "stream",
          "name": "stdout",
          "text": [
            "4\n",
            "100\n"
          ]
        }
      ],
      "source": [
        "n = int(input())\n",
        "\n",
        "hap = 0\n",
        "\n",
        "for i in range(n):\n",
        "  hap += (i+1)**3\n",
        "\n",
        "print(hap)"
      ]
    },
    {
      "cell_type": "markdown",
      "source": [
        "### 21633"
      ],
      "metadata": {
        "id": "UmPBcgurKbAB"
      }
    },
    {
      "cell_type": "code",
      "source": [
        "k = int(input())\n",
        "\n",
        "fee = k * 0.01 + 25\n",
        "\n",
        "if fee < 100:\n",
        "  print(100)\n",
        "\n",
        "elif fee > 2000:\n",
        "  print(2000)\n",
        "\n",
        "else:\n",
        "  print(\"%.2f\" %fee)"
      ],
      "metadata": {
        "colab": {
          "base_uri": "https://localhost:8080/"
        },
        "id": "efBWvPIzKb2E",
        "outputId": "24f66730-90ad-48d4-f6c0-fab597c8bd54"
      },
      "execution_count": null,
      "outputs": [
        {
          "output_type": "stream",
          "name": "stdout",
          "text": [
            "20210\n",
            "227.10\n"
          ]
        }
      ]
    },
    {
      "cell_type": "markdown",
      "source": [
        "---"
      ],
      "metadata": {
        "id": "IV0y29XSKcZD"
      }
    },
    {
      "cell_type": "markdown",
      "source": [
        "## CodeTree"
      ],
      "metadata": {
        "id": "GFDLbzaIKeB7"
      }
    },
    {
      "cell_type": "markdown",
      "source": [
        "### 좌표평면 위의 특정 구역 2\n",
        "\n"
      ],
      "metadata": {
        "id": "lKVEYVaUKg4T"
      }
    },
    {
      "cell_type": "code",
      "source": [
        "def min_rectangle_area(points):\n",
        "    min_area = float('inf')\n",
        "\n",
        "    for i, (x1, y1) in enumerate(points):\n",
        "        max_x = max_y = float('-inf')\n",
        "        min_x = min_y = float('inf')\n",
        "\n",
        "        for j, (x2, y2) in enumerate(points):\n",
        "            if i != j:\n",
        "                min_x = min(min_x, x2)\n",
        "                max_x = max(max_x, x2)\n",
        "                min_y = min(min_y, y2)\n",
        "                max_y = max(max_y, y2)\n",
        "\n",
        "        width = max_x - min_x\n",
        "        height = max_y - min_y\n",
        "        min_area = min(min_area, width * height)\n",
        "\n",
        "    return min_area\n",
        "\n",
        "N = int(input())\n",
        "points = []\n",
        "for _ in range(N):\n",
        "    x, y = map(int, input().split())\n",
        "    points.append((x, y))\n",
        "\n",
        "result = min_rectangle_area(points)\n",
        "print(result)"
      ],
      "metadata": {
        "id": "jWGz3tAHKfy3"
      },
      "execution_count": null,
      "outputs": []
    }
  ]
}