{
  "nbformat": 4,
  "nbformat_minor": 0,
  "metadata": {
    "colab": {
      "provenance": [],
      "authorship_tag": "ABX9TyPZTkrBhRrvwNZvCcbboFH6",
      "include_colab_link": true
    },
    "kernelspec": {
      "name": "python3",
      "display_name": "Python 3"
    },
    "language_info": {
      "name": "python"
    }
  },
  "cells": [
    {
      "cell_type": "markdown",
      "metadata": {
        "id": "view-in-github",
        "colab_type": "text"
      },
      "source": [
        "<a href=\"https://colab.research.google.com/github/ssook1222/1Day-1Algo/blob/master/ssook/24%EB%85%84/3%EC%9B%94/3%EC%9B%94%201%EC%A3%BC%EC%B0%A8/0302.ipynb\" target=\"_parent\"><img src=\"https://colab.research.google.com/assets/colab-badge.svg\" alt=\"Open In Colab\"/></a>"
      ]
    },
    {
      "cell_type": "markdown",
      "source": [
        "## BoJ"
      ],
      "metadata": {
        "id": "iLDYR1IWZWPH"
      }
    },
    {
      "cell_type": "markdown",
      "source": [
        "### 13136"
      ],
      "metadata": {
        "id": "3M6UZSxgZX49"
      }
    },
    {
      "cell_type": "code",
      "execution_count": null,
      "metadata": {
        "colab": {
          "base_uri": "https://localhost:8080/"
        },
        "id": "mQbHVJ3nZUw5",
        "outputId": "4a031599-6e7f-4f7e-c1e0-bc9b7a38f6dc"
      },
      "outputs": [
        {
          "output_type": "stream",
          "name": "stdout",
          "text": [
            "7 9 3\n",
            "9\n"
          ]
        }
      ],
      "source": [
        "import math\n",
        "\n",
        "a, b, c = map(int, input().split())\n",
        "\n",
        "print(math.ceil(a/c) * math.ceil(b/c))"
      ]
    },
    {
      "cell_type": "markdown",
      "source": [
        "### 15610"
      ],
      "metadata": {
        "id": "ilBsXpA3ZYx7"
      }
    },
    {
      "cell_type": "code",
      "source": [
        "import math\n",
        "\n",
        "a = int(input())\n",
        "\n",
        "print(math.sqrt(a)*4)"
      ],
      "metadata": {
        "colab": {
          "base_uri": "https://localhost:8080/"
        },
        "id": "EfnYR4FZZafA",
        "outputId": "05e9c2c6-2d53-45d2-e97d-4e3097fb119f"
      },
      "execution_count": null,
      "outputs": [
        {
          "output_type": "stream",
          "name": "stdout",
          "text": [
            "64\n",
            "32.0\n"
          ]
        }
      ]
    },
    {
      "cell_type": "markdown",
      "source": [
        "---"
      ],
      "metadata": {
        "id": "Edha1vr5Za-J"
      }
    },
    {
      "cell_type": "markdown",
      "source": [
        "## CodeTree"
      ],
      "metadata": {
        "id": "4L35hMlUZbto"
      }
    },
    {
      "cell_type": "markdown",
      "source": [
        "### 함수를 이용한 온전수 판별"
      ],
      "metadata": {
        "id": "cZdL3ZDzZc9Y"
      }
    },
    {
      "cell_type": "code",
      "source": [
        "a, b = map(int, input().split())\n",
        "cnt = 0\n",
        "\n",
        "for i in range(a, b+1):\n",
        "    if ((i % 2 != 0) and (i % 10 != 5) and (i % 3 != 0 or i % 9 == 0)):\n",
        "        cnt += 1\n",
        "    else:\n",
        "        pass\n",
        "\n",
        "print(cnt)"
      ],
      "metadata": {
        "id": "I86xsJnWZdzV"
      },
      "execution_count": null,
      "outputs": []
    }
  ]
}