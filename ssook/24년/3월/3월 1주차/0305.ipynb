{
  "nbformat": 4,
  "nbformat_minor": 0,
  "metadata": {
    "colab": {
      "provenance": [],
      "authorship_tag": "ABX9TyNMtISjLRTVDCXPM/boTDgM",
      "include_colab_link": true
    },
    "kernelspec": {
      "name": "python3",
      "display_name": "Python 3"
    },
    "language_info": {
      "name": "python"
    }
  },
  "cells": [
    {
      "cell_type": "markdown",
      "metadata": {
        "id": "view-in-github",
        "colab_type": "text"
      },
      "source": [
        "<a href=\"https://colab.research.google.com/github/ssook1222/1Day-1Algo/blob/master/ssook/24%EB%85%84/3%EC%9B%94/3%EC%9B%94%201%EC%A3%BC%EC%B0%A8/0305.ipynb\" target=\"_parent\"><img src=\"https://colab.research.google.com/assets/colab-badge.svg\" alt=\"Open In Colab\"/></a>"
      ]
    },
    {
      "cell_type": "markdown",
      "source": [
        "## BoJ"
      ],
      "metadata": {
        "id": "7_hObNQmqW2N"
      }
    },
    {
      "cell_type": "markdown",
      "source": [
        "### 15080"
      ],
      "metadata": {
        "id": "qhra0XNWqfXv"
      }
    },
    {
      "cell_type": "code",
      "execution_count": null,
      "metadata": {
        "colab": {
          "base_uri": "https://localhost:8080/"
        },
        "id": "5BigctMDqTEK",
        "outputId": "875aa325-4ae4-49c5-996b-5517a5bb4ade"
      },
      "outputs": [
        {
          "output_type": "stream",
          "name": "stdout",
          "text": [
            "10 : 0 : 0\n",
            "11 : 0 : 0\n",
            "3600\n"
          ]
        }
      ],
      "source": [
        "h1, m1, s1 = map(int, input().split(':'))\n",
        "h2, m2, s2 = map(int, input().split(':'))\n",
        "\n",
        "total1 = h1*3600 + m1*60 + s1\n",
        "total2 = h2*3600 + m2*60 + s2\n",
        "\n",
        "if total1 > total2:\n",
        "  print(total2 - total1 + 3600 * 24)\n",
        "\n",
        "else:\n",
        "  print(total2 - total1)"
      ]
    },
    {
      "cell_type": "markdown",
      "source": [
        "### 13118"
      ],
      "metadata": {
        "id": "ey_E3Kprqie7"
      }
    },
    {
      "cell_type": "code",
      "source": [
        "people = list(map(int, input().split()))\n",
        "\n",
        "x, y, r = map(int, input().split())\n",
        "chk = True\n",
        "\n",
        "for p in people:\n",
        "  if p == x:\n",
        "    print(people.index(p)+1)\n",
        "    chk = False\n",
        "\n",
        "if chk:\n",
        "  print(0)"
      ],
      "metadata": {
        "colab": {
          "base_uri": "https://localhost:8080/"
        },
        "id": "WYFc0IzEql8y",
        "outputId": "901409d6-a25c-43ce-f2df-42f06b2d6028"
      },
      "execution_count": null,
      "outputs": [
        {
          "output_type": "stream",
          "name": "stdout",
          "text": [
            "-5 -2 1 5\n",
            "1 4 2\n",
            "3\n"
          ]
        }
      ]
    },
    {
      "cell_type": "markdown",
      "source": [
        "---"
      ],
      "metadata": {
        "id": "R6NMpAvZrC84"
      }
    },
    {
      "cell_type": "markdown",
      "source": [
        "## CodeTree"
      ],
      "metadata": {
        "id": "JYq8YTfTtBD0"
      }
    },
    {
      "cell_type": "markdown",
      "source": [
        "### 1부터 특정 수까지의 합 2"
      ],
      "metadata": {
        "id": "qafKWSjOtCnf"
      }
    },
    {
      "cell_type": "code",
      "source": [
        "n = int(input())\n",
        "res = 0\n",
        "\n",
        "for i in range(1, n+1):\n",
        "    res += i\n",
        "\n",
        "print(res)"
      ],
      "metadata": {
        "id": "zBEsFPLLtDMr"
      },
      "execution_count": null,
      "outputs": []
    }
  ]
}