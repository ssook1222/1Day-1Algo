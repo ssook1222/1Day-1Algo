{
  "nbformat": 4,
  "nbformat_minor": 0,
  "metadata": {
    "colab": {
      "provenance": [],
      "authorship_tag": "ABX9TyNkqiXr/ja5wGUlEEAKnn2L",
      "include_colab_link": true
    },
    "kernelspec": {
      "name": "python3",
      "display_name": "Python 3"
    },
    "language_info": {
      "name": "python"
    }
  },
  "cells": [
    {
      "cell_type": "markdown",
      "metadata": {
        "id": "view-in-github",
        "colab_type": "text"
      },
      "source": [
        "<a href=\"https://colab.research.google.com/github/ssook1222/1Day-1Algo/blob/master/ssook/24%EB%85%84/3%EC%9B%94/3%EC%9B%94%201%EC%A3%BC%EC%B0%A8/0306.ipynb\" target=\"_parent\"><img src=\"https://colab.research.google.com/assets/colab-badge.svg\" alt=\"Open In Colab\"/></a>"
      ]
    },
    {
      "cell_type": "markdown",
      "source": [
        "## BoJ"
      ],
      "metadata": {
        "id": "PKtQSwWay8ci"
      }
    },
    {
      "cell_type": "markdown",
      "source": [
        "### 15025"
      ],
      "metadata": {
        "id": "si4ZFQb_y94r"
      }
    },
    {
      "cell_type": "code",
      "execution_count": null,
      "metadata": {
        "colab": {
          "base_uri": "https://localhost:8080/"
        },
        "id": "fj21P6m8y5os",
        "outputId": "ad5713c3-1b63-4620-9abc-fd67a6b230ba"
      },
      "outputs": [
        {
          "output_type": "stream",
          "name": "stdout",
          "text": [
            "2 3\n",
            "Odd 6\n"
          ]
        }
      ],
      "source": [
        "a, b = map(int, input().split())\n",
        "\n",
        "diff = max(a, b) *  2\n",
        "same = b * 2\n",
        "\n",
        "if a == b == 0:\n",
        "  print(\"Not a moose\")\n",
        "\n",
        "elif a != b:\n",
        "  print(\"Odd %d\" %(diff))\n",
        "\n",
        "elif a == b:\n",
        "  print(\"Even %d\" %(same))"
      ]
    },
    {
      "cell_type": "markdown",
      "source": [
        "### 15128"
      ],
      "metadata": {
        "id": "f58vQm0Hy-6k"
      }
    },
    {
      "cell_type": "code",
      "source": [
        "p1, q1, p2, q2 = map(int, input().split())\n",
        "\n",
        "res = p1 / q1 * p2 / q2 / 2\n",
        "\n",
        "if int(res) == res:\n",
        "  print(1)\n",
        "\n",
        "else:\n",
        "  print(0)"
      ],
      "metadata": {
        "colab": {
          "base_uri": "https://localhost:8080/"
        },
        "id": "PcRcUxcfy_39",
        "outputId": "739e918b-92e9-4b66-8218-fcb14aeb5bf5"
      },
      "execution_count": null,
      "outputs": [
        {
          "output_type": "stream",
          "name": "stdout",
          "text": [
            "3 1 4 1\n",
            "1\n"
          ]
        }
      ]
    },
    {
      "cell_type": "markdown",
      "source": [
        "---"
      ],
      "metadata": {
        "id": "oo815_-jzAY7"
      }
    },
    {
      "cell_type": "markdown",
      "source": [
        "## CodeTree"
      ],
      "metadata": {
        "id": "AwPFT0GSzBHr"
      }
    },
    {
      "cell_type": "markdown",
      "source": [
        "### 홀수 짝수에 따른 출력값"
      ],
      "metadata": {
        "id": "pWk7AWFizCVm"
      }
    },
    {
      "cell_type": "code",
      "source": [
        "n = int(input())\n",
        "res = 0\n",
        "\n",
        "if n % 2 != 0:\n",
        "    for i in range(1, n+1):\n",
        "        if i % 2 != 0:\n",
        "            res += i\n",
        "\n",
        "if n % 2 == 0:\n",
        "    for i in range(2, n+1):\n",
        "        if i % 2 == 0:\n",
        "            res += i\n",
        "\n",
        "print(res)"
      ],
      "metadata": {
        "id": "fuDeiFcEzC9y"
      },
      "execution_count": null,
      "outputs": []
    }
  ]
}