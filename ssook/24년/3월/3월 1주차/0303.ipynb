{
  "nbformat": 4,
  "nbformat_minor": 0,
  "metadata": {
    "colab": {
      "provenance": [],
      "authorship_tag": "ABX9TyO6RFvHEgna7dquyDevaMDR",
      "include_colab_link": true
    },
    "kernelspec": {
      "name": "python3",
      "display_name": "Python 3"
    },
    "language_info": {
      "name": "python"
    }
  },
  "cells": [
    {
      "cell_type": "markdown",
      "metadata": {
        "id": "view-in-github",
        "colab_type": "text"
      },
      "source": [
        "<a href=\"https://colab.research.google.com/github/ssook1222/1Day-1Algo/blob/master/ssook/24%EB%85%84/3%EC%9B%94/3%EC%9B%94%201%EC%A3%BC%EC%B0%A8/0303.ipynb\" target=\"_parent\"><img src=\"https://colab.research.google.com/assets/colab-badge.svg\" alt=\"Open In Colab\"/></a>"
      ]
    },
    {
      "cell_type": "markdown",
      "source": [
        "## BoJ"
      ],
      "metadata": {
        "id": "qePLvhhUscyv"
      }
    },
    {
      "cell_type": "markdown",
      "source": [
        "### 13580"
      ],
      "metadata": {
        "id": "lG7MUmJVsepM"
      }
    },
    {
      "cell_type": "code",
      "execution_count": null,
      "metadata": {
        "colab": {
          "base_uri": "https://localhost:8080/"
        },
        "id": "1mbdNSH4saW1",
        "outputId": "e91d37e3-65ee-41c0-861c-730b938634a9"
      },
      "outputs": [
        {
          "output_type": "stream",
          "name": "stdout",
          "text": [
            "22 5 22\n",
            "S\n"
          ]
        }
      ],
      "source": [
        "a, b, c = map(int, input().split())\n",
        "\n",
        "if a == b or b == c or a == c:\n",
        "  print(\"S\")\n",
        "\n",
        "elif a+b == c or a+c == b or b+c == a:\n",
        "  print(\"S\")\n",
        "\n",
        "else:\n",
        "  print(\"N\")"
      ]
    },
    {
      "cell_type": "markdown",
      "source": [
        "### 14065"
      ],
      "metadata": {
        "id": "Aau0ADFXsfuI"
      }
    },
    {
      "cell_type": "code",
      "source": [
        "gallon = 3.785411784\n",
        "mile = 1.609344\n",
        "\n",
        "n = float(input())\n",
        "ans = 100.0 / ((mile / gallon) * n)\n",
        "\n",
        "print(\"%.6f\" %ans)"
      ],
      "metadata": {
        "colab": {
          "base_uri": "https://localhost:8080/"
        },
        "id": "cLjG3lrFsgrj",
        "outputId": "398768e9-0b92-4ee9-86b0-1488e08911c7"
      },
      "execution_count": null,
      "outputs": [
        {
          "output_type": "stream",
          "name": "stdout",
          "text": [
            "10.00\n",
            "23.521458\n"
          ]
        }
      ]
    },
    {
      "cell_type": "markdown",
      "source": [
        "---"
      ],
      "metadata": {
        "id": "bHlLoDh4shZR"
      }
    },
    {
      "cell_type": "markdown",
      "source": [
        "## CodeTree"
      ],
      "metadata": {
        "id": "5_n5odGEsiqF"
      }
    },
    {
      "cell_type": "markdown",
      "source": [
        "### 007"
      ],
      "metadata": {
        "id": "n79YnmCEskDg"
      }
    },
    {
      "cell_type": "code",
      "source": [
        "class H007:\n",
        "    def __init__(self, code, point, time):\n",
        "        self.code = code\n",
        "        self.point = point\n",
        "        self.time = time\n",
        "\n",
        "a, b, c = map(str, input().split())\n",
        "ans = H007(a, b, int(c))\n",
        "\n",
        "print(\"secret code : %s\" %a)\n",
        "print(\"meeting point : %s\" %b)\n",
        "print(\"time : %d\" %int(c))"
      ],
      "metadata": {
        "id": "qzM50O_ssk4p"
      },
      "execution_count": null,
      "outputs": []
    }
  ]
}