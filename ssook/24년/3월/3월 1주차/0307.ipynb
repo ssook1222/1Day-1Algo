{
  "nbformat": 4,
  "nbformat_minor": 0,
  "metadata": {
    "colab": {
      "provenance": [],
      "authorship_tag": "ABX9TyM2/vD3vcheDNbq5SjRQxxj",
      "include_colab_link": true
    },
    "kernelspec": {
      "name": "python3",
      "display_name": "Python 3"
    },
    "language_info": {
      "name": "python"
    }
  },
  "cells": [
    {
      "cell_type": "markdown",
      "metadata": {
        "id": "view-in-github",
        "colab_type": "text"
      },
      "source": [
        "<a href=\"https://colab.research.google.com/github/ssook1222/1Day-1Algo/blob/master/ssook/24%EB%85%84/3%EC%9B%94/3%EC%9B%94%201%EC%A3%BC%EC%B0%A8/0307.ipynb\" target=\"_parent\"><img src=\"https://colab.research.google.com/assets/colab-badge.svg\" alt=\"Open In Colab\"/></a>"
      ]
    },
    {
      "cell_type": "markdown",
      "source": [
        "## BoJ"
      ],
      "metadata": {
        "id": "jzs5YoiK-Uxy"
      }
    },
    {
      "cell_type": "markdown",
      "source": [
        "### 16204"
      ],
      "metadata": {
        "id": "Pzxhmbff-V5J"
      }
    },
    {
      "cell_type": "code",
      "execution_count": null,
      "metadata": {
        "colab": {
          "base_uri": "https://localhost:8080/"
        },
        "id": "u6gfcNIt-Tmj",
        "outputId": "9ae36fdc-32e9-4de2-91db-629031a3d978"
      },
      "outputs": [
        {
          "output_type": "stream",
          "name": "stdout",
          "text": [
            "4 3 2\n",
            "3\n"
          ]
        }
      ],
      "source": [
        "n, m, k = map(int, input().split())\n",
        "\n",
        "min_num = min(m, k)\n",
        "max_num = max(m, k)\n",
        "\n",
        "res = min_num + n - max_num\n",
        "print(res)"
      ]
    },
    {
      "cell_type": "markdown",
      "source": [
        "### 16693"
      ],
      "metadata": {
        "id": "Un_SHNG_-WhE"
      }
    },
    {
      "cell_type": "code",
      "source": [
        "import math\n",
        "\n",
        "a1, p1 = map(int, input().split())\n",
        "r1, p2 = map(int, input().split())\n",
        "\n",
        "if p1/a1 < p2 / ((r1**2)*math.pi):\n",
        "  print(\"Slice of pizza\")\n",
        "\n",
        "else:\n",
        "  print(\"Whole pizza\")"
      ],
      "metadata": {
        "colab": {
          "base_uri": "https://localhost:8080/"
        },
        "id": "HVzpMlON-XDp",
        "outputId": "f0b67eee-c955-4107-ef91-8a0ceb729222"
      },
      "execution_count": null,
      "outputs": [
        {
          "output_type": "stream",
          "name": "stdout",
          "text": [
            "8 4\n",
            "7 9\n",
            "Whole pizza\n"
          ]
        }
      ]
    },
    {
      "cell_type": "markdown",
      "source": [
        "---"
      ],
      "metadata": {
        "id": "K9hAnA3u-Xu5"
      }
    },
    {
      "cell_type": "markdown",
      "source": [
        "## CodeTree"
      ],
      "metadata": {
        "id": "GOfI969E-YdE"
      }
    },
    {
      "cell_type": "markdown",
      "source": [
        "### 중앙값 계산 2"
      ],
      "metadata": {
        "id": "fSda0Tzo-ZVg"
      }
    },
    {
      "cell_type": "code",
      "source": [
        "n = int(input())\n",
        "raw = list(map(int, input().split()))\n",
        "nums = []\n",
        "for i in range(len(raw)):\n",
        "    nums.append(raw[i])\n",
        "    nums.sort()\n",
        "\n",
        "    if i % 2 == 0:\n",
        "        print(nums[(len(nums)//2)], end = ' ')"
      ],
      "metadata": {
        "id": "7aCrlRnf-aCF"
      },
      "execution_count": null,
      "outputs": []
    }
  ]
}