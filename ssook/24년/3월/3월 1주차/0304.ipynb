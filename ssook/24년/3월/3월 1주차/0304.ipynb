{
  "nbformat": 4,
  "nbformat_minor": 0,
  "metadata": {
    "colab": {
      "provenance": [],
      "authorship_tag": "ABX9TyPkNZv+NGc6SOMDSPwbFHxb",
      "include_colab_link": true
    },
    "kernelspec": {
      "name": "python3",
      "display_name": "Python 3"
    },
    "language_info": {
      "name": "python"
    }
  },
  "cells": [
    {
      "cell_type": "markdown",
      "metadata": {
        "id": "view-in-github",
        "colab_type": "text"
      },
      "source": [
        "<a href=\"https://colab.research.google.com/github/ssook1222/1Day-1Algo/blob/master/ssook/24%EB%85%84/3%EC%9B%94/3%EC%9B%94%201%EC%A3%BC%EC%B0%A8/0304.ipynb\" target=\"_parent\"><img src=\"https://colab.research.google.com/assets/colab-badge.svg\" alt=\"Open In Colab\"/></a>"
      ]
    },
    {
      "cell_type": "markdown",
      "source": [
        "## BoJ"
      ],
      "metadata": {
        "id": "Uy8lpf1Ty3ND"
      }
    },
    {
      "cell_type": "markdown",
      "source": [
        "### 16199"
      ],
      "metadata": {
        "id": "WqUHE6eEy4ld"
      }
    },
    {
      "cell_type": "code",
      "execution_count": null,
      "metadata": {
        "colab": {
          "base_uri": "https://localhost:8080/"
        },
        "id": "UWjIcMxYy0dE",
        "outputId": "3a659297-a220-434d-851c-2b896f908fc8"
      },
      "outputs": [
        {
          "output_type": "stream",
          "name": "stdout",
          "text": [
            "2003 3 5\n",
            "2003 4 5\n",
            "0\n",
            "1\n",
            "0\n"
          ]
        }
      ],
      "source": [
        "y1, m1, d1 = map(int, input().split())\n",
        "y2, m2, d2 = map(int, input().split())\n",
        "\n",
        "yr_age = y2 - y1\n",
        "man_age = yr_age + 1\n",
        "\n",
        "if m2 > m1 or (m2 == m1 and d2 >= d1):\n",
        "  print(yr_age)\n",
        "else:\n",
        "  print(yr_age-1)\n",
        "\n",
        "print(man_age)\n",
        "print(yr_age)"
      ]
    },
    {
      "cell_type": "markdown",
      "source": [
        "### 15372"
      ],
      "metadata": {
        "id": "98xcmYZ0y5Po"
      }
    },
    {
      "cell_type": "code",
      "source": [
        "import sys\n",
        "\n",
        "n = int(sys.stdin.readline().rstrip())\n",
        "\n",
        "for  _ in range(n):\n",
        "  num = int(sys.stdin.readline().rstrip())\n",
        "  print(num**2)"
      ],
      "metadata": {
        "id": "93n7EaCJy54n"
      },
      "execution_count": null,
      "outputs": []
    },
    {
      "cell_type": "markdown",
      "source": [
        "---"
      ],
      "metadata": {
        "id": "0d3bx8ITy6vB"
      }
    },
    {
      "cell_type": "markdown",
      "source": [
        "## CodeTree"
      ],
      "metadata": {
        "id": "FmuUdn4Uy7g5"
      }
    },
    {
      "cell_type": "markdown",
      "source": [
        "### 이차원 격자 6"
      ],
      "metadata": {
        "id": "hiY1DFXBy9wo"
      }
    },
    {
      "cell_type": "code",
      "source": [
        "n = int(input())\n",
        "nums = []\n",
        "\n",
        "for i in range(n):\n",
        "    nums.append(list(map(int, input().split())))\n",
        "\n",
        "r, c = map(int, input().split())\n",
        "\n",
        "r -= 1\n",
        "c -= 1\n",
        "\n",
        "base = nums[r][c]\n",
        "# print(base)\n",
        "\n",
        "for i in range(n):\n",
        "    for j in range(n):\n",
        "        if (nums[i][j] < base) and (i == r or j == c):\n",
        "            nums[i][j] = 0\n",
        "\n",
        "for i in range(n):\n",
        "    for j in range(n):\n",
        "        print(nums[i][j], end= ' ')\n",
        "    print()"
      ],
      "metadata": {
        "id": "X4LiOUHsy8Wa"
      },
      "execution_count": null,
      "outputs": []
    }
  ]
}