{
  "nbformat": 4,
  "nbformat_minor": 0,
  "metadata": {
    "colab": {
      "provenance": [],
      "authorship_tag": "ABX9TyOjRRNFPWnuFjGWOVwIZJ6X",
      "include_colab_link": true
    },
    "kernelspec": {
      "name": "python3",
      "display_name": "Python 3"
    },
    "language_info": {
      "name": "python"
    }
  },
  "cells": [
    {
      "cell_type": "markdown",
      "metadata": {
        "id": "view-in-github",
        "colab_type": "text"
      },
      "source": [
        "<a href=\"https://colab.research.google.com/github/ssook1222/1Day-1Algo/blob/master/ssook/24%EB%85%84/3%EC%9B%94/3%EC%9B%94%201%EC%A3%BC%EC%B0%A8/0301.ipynb\" target=\"_parent\"><img src=\"https://colab.research.google.com/assets/colab-badge.svg\" alt=\"Open In Colab\"/></a>"
      ]
    },
    {
      "cell_type": "markdown",
      "source": [
        "## BoJ"
      ],
      "metadata": {
        "id": "INGArb00Dsiw"
      }
    },
    {
      "cell_type": "markdown",
      "source": [
        "### 24751"
      ],
      "metadata": {
        "id": "VpQrjSoYDuY4"
      }
    },
    {
      "cell_type": "code",
      "execution_count": null,
      "metadata": {
        "colab": {
          "base_uri": "https://localhost:8080/"
        },
        "id": "qQh_uzekDqqu",
        "outputId": "3971941f-0660-4bcc-c955-76f3130cbde3"
      },
      "outputs": [
        {
          "output_type": "stream",
          "name": "stdout",
          "text": [
            "80\n",
            "1.2500000000\n",
            "5.0000000000\n"
          ]
        }
      ],
      "source": [
        "a = int(input())\n",
        "\n",
        "n = 100 / a\n",
        "m = 100 / (100 - a)\n",
        "\n",
        "print(\"%.10f\" %n)\n",
        "print(\"%.10f\" %m)"
      ]
    },
    {
      "cell_type": "markdown",
      "source": [
        "### 14038"
      ],
      "metadata": {
        "id": "GDSXE754Dvf3"
      }
    },
    {
      "cell_type": "code",
      "source": [
        "cnt = 0\n",
        "\n",
        "for _ in range(6):\n",
        "  res = input()\n",
        "\n",
        "  if res == 'L':\n",
        "    pass\n",
        "  if res == 'W':\n",
        "    cnt += 1\n",
        "\n",
        "if 1 <= cnt <= 2:\n",
        "  print(3)\n",
        "\n",
        "if 3 <= cnt <= 4:\n",
        "  print(2)\n",
        "\n",
        "if 5<= cnt <= 6:\n",
        "  print(1)\n",
        "\n",
        "if cnt == 0:\n",
        "  print(-1)"
      ],
      "metadata": {
        "colab": {
          "base_uri": "https://localhost:8080/"
        },
        "id": "Oau6NCVoDwK5",
        "outputId": "59c69159-16ca-4384-d55e-c02701291173"
      },
      "execution_count": null,
      "outputs": [
        {
          "output_type": "stream",
          "name": "stdout",
          "text": [
            "W\n",
            "L\n",
            "W\n",
            "W\n",
            "L\n",
            "W\n",
            "2\n"
          ]
        }
      ]
    },
    {
      "cell_type": "markdown",
      "source": [
        "---"
      ],
      "metadata": {
        "id": "F-RESFV8DwWH"
      }
    },
    {
      "cell_type": "markdown",
      "source": [
        "## CodeTree"
      ],
      "metadata": {
        "id": "cFB83uY8DxL-"
      }
    },
    {
      "cell_type": "markdown",
      "source": [
        "### 함수를 이용한 합과 소수 판별"
      ],
      "metadata": {
        "id": "4YCt4-n6DyiP"
      }
    },
    {
      "cell_type": "code",
      "source": [
        "def prime(n):\n",
        "    for i in range(2, n):\n",
        "        if n % i == 0:\n",
        "            return False\n",
        "    return True\n",
        "\n",
        "\n",
        "a, b = map(int, input().split())\n",
        "cnt = 0\n",
        "\n",
        "for i in range(a, b+1):\n",
        "    chk = prime(i)\n",
        "\n",
        "    if chk and sum(list(map(int, str(i)))) % 2 == 0:\n",
        "        cnt += 1\n",
        "\n",
        "print(cnt)"
      ],
      "metadata": {
        "id": "lkehBMSzDzO0"
      },
      "execution_count": null,
      "outputs": []
    }
  ]
}