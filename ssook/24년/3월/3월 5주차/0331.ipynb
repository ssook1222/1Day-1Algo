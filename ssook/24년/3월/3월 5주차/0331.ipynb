{
  "nbformat": 4,
  "nbformat_minor": 0,
  "metadata": {
    "colab": {
      "provenance": [],
      "authorship_tag": "ABX9TyPKymJ3lYhsXgM5uBmL+PWm",
      "include_colab_link": true
    },
    "kernelspec": {
      "name": "python3",
      "display_name": "Python 3"
    },
    "language_info": {
      "name": "python"
    }
  },
  "cells": [
    {
      "cell_type": "markdown",
      "metadata": {
        "id": "view-in-github",
        "colab_type": "text"
      },
      "source": [
        "<a href=\"https://colab.research.google.com/github/ssook1222/1Day-1Algo/blob/master/ssook/24%EB%85%84/3%EC%9B%94/3%EC%9B%94%205%EC%A3%BC%EC%B0%A8/0331.ipynb\" target=\"_parent\"><img src=\"https://colab.research.google.com/assets/colab-badge.svg\" alt=\"Open In Colab\"/></a>"
      ]
    },
    {
      "cell_type": "markdown",
      "source": [
        "## BoJ"
      ],
      "metadata": {
        "id": "4kY8D2sjQA8V"
      }
    },
    {
      "cell_type": "markdown",
      "source": [
        "### 20839"
      ],
      "metadata": {
        "id": "HErn5F15QCF5"
      }
    },
    {
      "cell_type": "code",
      "execution_count": null,
      "metadata": {
        "colab": {
          "base_uri": "https://localhost:8080/"
        },
        "id": "XA6o9DUwP9Hc",
        "outputId": "68c52c94-a9b8-49f4-b3eb-0d8afeed8c60"
      },
      "outputs": [
        {
          "output_type": "stream",
          "name": "stdout",
          "text": [
            "10 10 10\n",
            "9 10 10\n",
            "B\n"
          ]
        }
      ],
      "source": [
        "st1, st2, st3 = map(int, input().split())\n",
        "sc1, sc2, sc3 = map(int, input().split())\n",
        "\n",
        "if st1 <= sc1 and st2 <= sc2 and st3 <= sc3:\n",
        "    print(\"A\")\n",
        "elif (st1)/2 <= sc1 and st2 <= sc2 and st3 <= sc3:\n",
        "    print(\"B\")\n",
        "elif st2 <= sc2 and st3 <= sc3:\n",
        "    print(\"C\")\n",
        "elif (st2)/2 <= sc2 and st3 <= sc3:\n",
        "    print(\"D\")\n",
        "elif st3 <= sc3:\n",
        "    print(\"E\")"
      ]
    },
    {
      "cell_type": "markdown",
      "source": [
        "### 20867"
      ],
      "metadata": {
        "id": "o2_aPzr5QDDQ"
      }
    },
    {
      "cell_type": "code",
      "source": [
        "M, S, G = map(float, input().split())\n",
        "A, B = map(float, input().split())\n",
        "L, R = map(float, input().split())\n",
        "\n",
        "lwait = L/A\n",
        "rwait = R/B\n",
        "\n",
        "if M % G:\n",
        "  lv = M/G + 1\n",
        "\n",
        "else:\n",
        "  lv = M/G\n",
        "\n",
        "if M % S:\n",
        "  rv = M/S + 1\n",
        "\n",
        "else:\n",
        "  rv = M/S\n",
        "\n",
        "if lv + lwait < rv + rwait:\n",
        "    print(\"friskus\")\n",
        "else:\n",
        "    print(\"latmask\")"
      ],
      "metadata": {
        "colab": {
          "base_uri": "https://localhost:8080/"
        },
        "id": "cxwzfHLfQDjI",
        "outputId": "8eca2ee9-fe87-4ca0-ce91-650410aee8ee"
      },
      "execution_count": null,
      "outputs": [
        {
          "output_type": "stream",
          "name": "stdout",
          "text": [
            "50 1 2\n",
            "1 1\n",
            "0 0\n",
            "friskus\n"
          ]
        }
      ]
    },
    {
      "cell_type": "markdown",
      "source": [
        "---"
      ],
      "metadata": {
        "id": "TArqZH8gQEQf"
      }
    },
    {
      "cell_type": "markdown",
      "source": [
        "## CodeTree"
      ],
      "metadata": {
        "id": "eiw2UFutQE1w"
      }
    },
    {
      "cell_type": "markdown",
      "source": [
        "### Time to Time"
      ],
      "metadata": {
        "id": "7t6C0Z7mQF0j"
      }
    },
    {
      "cell_type": "code",
      "source": [
        "from datetime import datetime\n",
        "\n",
        "\n",
        "a, b, c, d = map(int, input().split())\n",
        "\n",
        "start_time = datetime(2011, 11, 11, a, b)\n",
        "end_time = datetime(2011, 11, 11, c, d)\n",
        "\n",
        "\n",
        "diff = end_time - start_time\n",
        "\n",
        "total_minutes = diff.days * 24 * 60 + diff.seconds // 60\n",
        "print(total_minutes)"
      ],
      "metadata": {
        "id": "1PHtaHfJQG2R"
      },
      "execution_count": null,
      "outputs": []
    }
  ]
}