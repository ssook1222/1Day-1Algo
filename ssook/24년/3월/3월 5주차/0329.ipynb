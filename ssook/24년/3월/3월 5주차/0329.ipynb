{
  "nbformat": 4,
  "nbformat_minor": 0,
  "metadata": {
    "colab": {
      "provenance": [],
      "authorship_tag": "ABX9TyPKiiMdY8WuX/8kljAn4GtY",
      "include_colab_link": true
    },
    "kernelspec": {
      "name": "python3",
      "display_name": "Python 3"
    },
    "language_info": {
      "name": "python"
    }
  },
  "cells": [
    {
      "cell_type": "markdown",
      "metadata": {
        "id": "view-in-github",
        "colab_type": "text"
      },
      "source": [
        "<a href=\"https://colab.research.google.com/github/ssook1222/1Day-1Algo/blob/master/ssook/24%EB%85%84/3%EC%9B%94/3%EC%9B%94%205%EC%A3%BC%EC%B0%A8/0329.ipynb\" target=\"_parent\"><img src=\"https://colab.research.google.com/assets/colab-badge.svg\" alt=\"Open In Colab\"/></a>"
      ]
    },
    {
      "cell_type": "markdown",
      "source": [
        "## BoJ"
      ],
      "metadata": {
        "id": "35eVULvhNzk5"
      }
    },
    {
      "cell_type": "markdown",
      "source": [
        "### 21638"
      ],
      "metadata": {
        "id": "uNV0stWPN1JF"
      }
    },
    {
      "cell_type": "code",
      "execution_count": null,
      "metadata": {
        "colab": {
          "base_uri": "https://localhost:8080/"
        },
        "id": "f8ypryPGNv-f",
        "outputId": "0173cdb9-d91b-4e8f-ae40-52f50b99ccd8"
      },
      "outputs": [
        {
          "output_type": "stream",
          "name": "stdout",
          "text": [
            "15 2\n",
            "5 3\n",
            "MCHS warns! Low temperature is expected tomorrow.\n"
          ]
        }
      ],
      "source": [
        "t1, v1 = map(int, input().split())\n",
        "t2, v2 = map(int, input().split())\n",
        "\n",
        "if t2 < 0 and v2 >= 10:\n",
        "  print(\"A storm warning for tomorrow! Be careful and stay home if possible!\")\n",
        "\n",
        "elif t2 < t1 :\n",
        "  print(\"MCHS warns! Low temperature is expected tomorrow.\")\n",
        "\n",
        "elif v1 < v2 :\n",
        "  print(\"MCHS warns! Strong wind is expected tomorrow.\")\n",
        "\n",
        "else:\n",
        "  print(\"No message\")"
      ]
    },
    {
      "cell_type": "markdown",
      "source": [
        "### 24183"
      ],
      "metadata": {
        "id": "zkmUeTcFN2Nu"
      }
    },
    {
      "cell_type": "code",
      "source": [
        "a, b, c = map(int, input().split())\n",
        "\n",
        "e = 229 * 324 * a * 2\n",
        "p = 297 * 420 * b * 2\n",
        "s = 210 * 297 * c\n",
        "\n",
        "ans = (e + p + s) * 0.000001\n",
        "\n",
        "print('%.6f' %(ans))"
      ],
      "metadata": {
        "colab": {
          "base_uri": "https://localhost:8080/"
        },
        "id": "4OuFuRiDN3FE",
        "outputId": "39015d13-82c6-4f08-e790-7b5a34d07794"
      },
      "execution_count": null,
      "outputs": [
        {
          "output_type": "stream",
          "name": "stdout",
          "text": [
            "120 90 70\n",
            "44.626140\n"
          ]
        }
      ]
    },
    {
      "cell_type": "markdown",
      "source": [
        "---"
      ],
      "metadata": {
        "id": "IQBYankFN4PV"
      }
    },
    {
      "cell_type": "markdown",
      "source": [
        "## CodeTree"
      ],
      "metadata": {
        "id": "-HzisE0LN5Pl"
      }
    },
    {
      "cell_type": "markdown",
      "source": [
        "### 폭탄 해제"
      ],
      "metadata": {
        "id": "lEqepXO6QM--"
      }
    },
    {
      "cell_type": "code",
      "source": [
        "class LineInfo:\n",
        "    def __init__(self, code, color, second):\n",
        "        self.code = code\n",
        "        self.color = color\n",
        "        self.second = second\n",
        "\n",
        "def parse_input(input_str):\n",
        "    code, color, second = input_str.split()\n",
        "    return LineInfo(code, color, int(second))\n",
        "\n",
        "def print_output(line_info):\n",
        "    print(\"code :\", line_info.code)\n",
        "    print(\"color :\", line_info.color)\n",
        "    print(\"second :\", line_info.second)\n",
        "\n",
        "input_str = input().strip()\n",
        "line_info = parse_input(input_str)\n",
        "print_output(line_info)"
      ],
      "metadata": {
        "id": "x9SGeYB-QN_f"
      },
      "execution_count": null,
      "outputs": []
    }
  ]
}