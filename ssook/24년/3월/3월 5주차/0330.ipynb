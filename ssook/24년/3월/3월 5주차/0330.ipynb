{
  "nbformat": 4,
  "nbformat_minor": 0,
  "metadata": {
    "colab": {
      "provenance": [],
      "authorship_tag": "ABX9TyO4/1NLXM8tIUOtVfNGSEw+",
      "include_colab_link": true
    },
    "kernelspec": {
      "name": "python3",
      "display_name": "Python 3"
    },
    "language_info": {
      "name": "python"
    }
  },
  "cells": [
    {
      "cell_type": "markdown",
      "metadata": {
        "id": "view-in-github",
        "colab_type": "text"
      },
      "source": [
        "<a href=\"https://colab.research.google.com/github/ssook1222/1Day-1Algo/blob/master/ssook/24%EB%85%84/3%EC%9B%94/3%EC%9B%94%205%EC%A3%BC%EC%B0%A8/0330.ipynb\" target=\"_parent\"><img src=\"https://colab.research.google.com/assets/colab-badge.svg\" alt=\"Open In Colab\"/></a>"
      ]
    },
    {
      "cell_type": "markdown",
      "source": [
        "## BoJ"
      ],
      "metadata": {
        "id": "CkDzArM4bQfy"
      }
    },
    {
      "cell_type": "markdown",
      "source": [
        "### 31656"
      ],
      "metadata": {
        "id": "XFiUSMgIbSIh"
      }
    },
    {
      "cell_type": "code",
      "execution_count": null,
      "metadata": {
        "colab": {
          "base_uri": "https://localhost:8080/"
        },
        "id": "LxslXg6xbOSg",
        "outputId": "68d1fd1b-38f1-4895-c162-36a8d8d7de46"
      },
      "outputs": [
        {
          "output_type": "stream",
          "name": "stdout",
          "text": [
            "UUAAPPCCC is my 11th faavvorite conNtEest\n",
            "UAPC is my 1th favorite conNtEest\n"
          ]
        }
      ],
      "source": [
        "s = input()\n",
        "ans = ''\n",
        "\n",
        "ans += s[0]\n",
        "\n",
        "for i in range(1, len(s)):\n",
        "  if s[i-1] == s[i]:\n",
        "    pass\n",
        "\n",
        "  else:\n",
        "    ans += s[i]\n",
        "\n",
        "print(ans)"
      ]
    },
    {
      "cell_type": "markdown",
      "source": [
        "### 31608"
      ],
      "metadata": {
        "id": "hDkrc8RHbTOy"
      }
    },
    {
      "cell_type": "code",
      "source": [
        "n = int(input())\n",
        "\n",
        "a = input()\n",
        "b = input()\n",
        "\n",
        "cnt = 0\n",
        "\n",
        "for i in range(n):\n",
        "  if a[i] != b[i]:\n",
        "    cnt += 1\n",
        "\n",
        "print(cnt)\n"
      ],
      "metadata": {
        "colab": {
          "base_uri": "https://localhost:8080/"
        },
        "id": "7aThG6bFbUkg",
        "outputId": "b584ed39-99b9-4c29-d89b-023c09db319f"
      },
      "execution_count": null,
      "outputs": [
        {
          "output_type": "stream",
          "name": "stdout",
          "text": [
            "5\n",
            "march\n",
            "april\n",
            "4\n"
          ]
        }
      ]
    },
    {
      "cell_type": "markdown",
      "source": [
        "----"
      ],
      "metadata": {
        "id": "1Gv1gby0bVq6"
      }
    },
    {
      "cell_type": "markdown",
      "source": [
        "## CodeTree"
      ],
      "metadata": {
        "id": "c0bAn2_ybW5Q"
      }
    },
    {
      "cell_type": "markdown",
      "source": [
        "### Date to Date"
      ],
      "metadata": {
        "id": "9pj596-IbYSH"
      }
    },
    {
      "cell_type": "code",
      "source": [
        "from datetime import datetime\n",
        "\n",
        "def days_between_dates(m1, d1, m2, d2):\n",
        "    start_date = datetime(2011, m1, d1)\n",
        "    end_date = datetime(2011, m2, d2)\n",
        "\n",
        "    days = (end_date - start_date).days + 1\n",
        "\n",
        "    return days\n",
        "\n",
        "m1, d1, m2, d2 = map(int, input().split())\n",
        "\n",
        "print(days_between_dates(m1, d1, m2, d2))"
      ],
      "metadata": {
        "id": "LWzJJIh5bZPF"
      },
      "execution_count": null,
      "outputs": []
    }
  ]
}