{
  "nbformat": 4,
  "nbformat_minor": 0,
  "metadata": {
    "colab": {
      "provenance": [],
      "authorship_tag": "ABX9TyNHw9+3OdQZx1rdr7nHke0V",
      "include_colab_link": true
    },
    "kernelspec": {
      "name": "python3",
      "display_name": "Python 3"
    },
    "language_info": {
      "name": "python"
    }
  },
  "cells": [
    {
      "cell_type": "markdown",
      "metadata": {
        "id": "view-in-github",
        "colab_type": "text"
      },
      "source": [
        "<a href=\"https://colab.research.google.com/github/ssook1222/1Day-1Algo/blob/master/ssook/24%EB%85%84/3%EC%9B%94/3%EC%9B%94%205%EC%A3%BC%EC%B0%A8/0328.ipynb\" target=\"_parent\"><img src=\"https://colab.research.google.com/assets/colab-badge.svg\" alt=\"Open In Colab\"/></a>"
      ]
    },
    {
      "cell_type": "markdown",
      "source": [
        "## BoJ"
      ],
      "metadata": {
        "id": "BwxFtQBoKDXJ"
      }
    },
    {
      "cell_type": "markdown",
      "source": [
        "### 27890"
      ],
      "metadata": {
        "id": "nhPfoubHKElf"
      }
    },
    {
      "cell_type": "code",
      "execution_count": null,
      "metadata": {
        "colab": {
          "base_uri": "https://localhost:8080/"
        },
        "id": "2WcOosdeKCD8",
        "outputId": "154652fd-9027-41c2-9da4-82f99adcd4d8"
      },
      "outputs": [
        {
          "output_type": "stream",
          "name": "stdout",
          "text": [
            "512 2\n",
            "133\n"
          ]
        }
      ],
      "source": [
        "x, n = map(int, input().split())\n",
        "\n",
        "for i in range(n):\n",
        "  if x % 2 == 0:\n",
        "    x = int(x / 2)^6\n",
        "\n",
        "  else:\n",
        "    x = (2*x)^6\n",
        "\n",
        "print(x)"
      ]
    },
    {
      "cell_type": "markdown",
      "source": [
        "### 31281"
      ],
      "metadata": {
        "id": "67lqK0-RKFTA"
      }
    },
    {
      "cell_type": "code",
      "source": [
        "nums = list(map(int, input().split()))\n",
        "nums.sort()\n",
        "\n",
        "print(nums[1])"
      ],
      "metadata": {
        "colab": {
          "base_uri": "https://localhost:8080/"
        },
        "id": "aBDXKjNYKGAZ",
        "outputId": "69ea03f3-e0b7-44ed-89c3-cdd6b0b7c780"
      },
      "execution_count": null,
      "outputs": [
        {
          "output_type": "stream",
          "name": "stdout",
          "text": [
            "5 15 10\n",
            "10\n"
          ]
        }
      ]
    },
    {
      "cell_type": "markdown",
      "source": [
        "---"
      ],
      "metadata": {
        "id": "yK-37vfcKG6X"
      }
    },
    {
      "cell_type": "markdown",
      "source": [
        "## CodeTree"
      ],
      "metadata": {
        "id": "2E58TfmqKHhd"
      }
    },
    {
      "cell_type": "markdown",
      "source": [
        "### 2개씩 그룹짓기\n"
      ],
      "metadata": {
        "id": "N12-ZOm1KJXm"
      }
    },
    {
      "cell_type": "code",
      "source": [
        "def maximize_min_group_sum(N, numbers):\n",
        "    numbers.sort(reverse=True)\n",
        "\n",
        "    max_sum = float('-inf')\n",
        "    for i in range(N):\n",
        "        group_sum = numbers[i] + numbers[2 * N - i - 1]\n",
        "        max_sum = max(max_sum, group_sum)\n",
        "\n",
        "    return max_sum\n",
        "\n",
        "N = int(input())\n",
        "numbers = list(map(int, input().split()))\n",
        "\n",
        "print(maximize_min_group_sum(N, numbers))"
      ],
      "metadata": {
        "id": "05qE_Y37KJ9d"
      },
      "execution_count": null,
      "outputs": []
    }
  ]
}