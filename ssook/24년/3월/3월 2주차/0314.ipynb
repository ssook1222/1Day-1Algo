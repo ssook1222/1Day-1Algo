{
  "nbformat": 4,
  "nbformat_minor": 0,
  "metadata": {
    "colab": {
      "provenance": [],
      "authorship_tag": "ABX9TyPky/j0lrsBO1ftS3EyChqg",
      "include_colab_link": true
    },
    "kernelspec": {
      "name": "python3",
      "display_name": "Python 3"
    },
    "language_info": {
      "name": "python"
    }
  },
  "cells": [
    {
      "cell_type": "markdown",
      "metadata": {
        "id": "view-in-github",
        "colab_type": "text"
      },
      "source": [
        "<a href=\"https://colab.research.google.com/github/ssook1222/1Day-1Algo/blob/master/ssook/24%EB%85%84/3%EC%9B%94/3%EC%9B%94%202%EC%A3%BC%EC%B0%A8/0314.ipynb\" target=\"_parent\"><img src=\"https://colab.research.google.com/assets/colab-badge.svg\" alt=\"Open In Colab\"/></a>"
      ]
    },
    {
      "cell_type": "markdown",
      "source": [
        "## BoJ"
      ],
      "metadata": {
        "id": "NgbOQJqegR2_"
      }
    },
    {
      "cell_type": "markdown",
      "source": [
        "### 20976"
      ],
      "metadata": {
        "id": "vMCXFGmfgTaE"
      }
    },
    {
      "cell_type": "code",
      "execution_count": null,
      "metadata": {
        "colab": {
          "base_uri": "https://localhost:8080/"
        },
        "id": "0zVvFDMtgPID",
        "outputId": "8294eeab-c426-4aed-a238-708556ee36ce"
      },
      "outputs": [
        {
          "output_type": "stream",
          "name": "stdout",
          "text": [
            "7 5 3\n",
            "5\n"
          ]
        }
      ],
      "source": [
        "lst = list(map(int, input().split()))\n",
        "lst.sort()\n",
        "print(lst[1])"
      ]
    },
    {
      "cell_type": "markdown",
      "source": [
        "### 25704"
      ],
      "metadata": {
        "id": "HjWpYGWhgUz-"
      }
    },
    {
      "cell_type": "code",
      "source": [
        "n = int(input())\n",
        "p = int(input())\n",
        "\n",
        "dis = 0\n",
        "\n",
        "if n >= 5:\n",
        "  dis = max(dis, 500)\n",
        "\n",
        "if n >= 10:\n",
        "  dis = max(dis, p//10)\n",
        "\n",
        "if n >= 15:\n",
        "  dis = max(dis, 2000)\n",
        "\n",
        "if n >= 20:\n",
        "  dis = max(dis, p//4)\n",
        "\n",
        "if p <= dis:\n",
        "  print(0)\n",
        "\n",
        "else:\n",
        "  print(p - dis)"
      ],
      "metadata": {
        "colab": {
          "base_uri": "https://localhost:8080/"
        },
        "id": "a83iiWaagWJ7",
        "outputId": "a20484a6-1ebd-49f0-d067-52f7761f9841"
      },
      "execution_count": null,
      "outputs": [
        {
          "output_type": "stream",
          "name": "stdout",
          "text": [
            "12\n",
            "50000\n",
            "45000\n"
          ]
        }
      ]
    },
    {
      "cell_type": "markdown",
      "source": [
        "---"
      ],
      "metadata": {
        "id": "G4GIwliRgWZt"
      }
    },
    {
      "cell_type": "markdown",
      "source": [
        "## CodeTree"
      ],
      "metadata": {
        "id": "7-NA_1fFgXfx"
      }
    },
    {
      "cell_type": "markdown",
      "source": [
        "### 1이 되는 순간까지"
      ],
      "metadata": {
        "id": "c5z7yu5Bgamu"
      }
    },
    {
      "cell_type": "code",
      "source": [
        "n = int(input())\n",
        "cnt = 0\n",
        "\n",
        "while n != 1:\n",
        "    cnt += 1\n",
        "    if n % 2 == 0:\n",
        "        n = n / 2\n",
        "\n",
        "    else:\n",
        "        n = n // 3\n",
        "\n",
        "print(cnt)"
      ],
      "metadata": {
        "id": "VIaWkEVAgaHc"
      },
      "execution_count": null,
      "outputs": []
    }
  ]
}