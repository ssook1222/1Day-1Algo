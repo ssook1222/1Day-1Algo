{
  "nbformat": 4,
  "nbformat_minor": 0,
  "metadata": {
    "colab": {
      "provenance": [],
      "authorship_tag": "ABX9TyMKlUzkBkZHAR40Td2OPsgO",
      "include_colab_link": true
    },
    "kernelspec": {
      "name": "python3",
      "display_name": "Python 3"
    },
    "language_info": {
      "name": "python"
    }
  },
  "cells": [
    {
      "cell_type": "markdown",
      "metadata": {
        "id": "view-in-github",
        "colab_type": "text"
      },
      "source": [
        "<a href=\"https://colab.research.google.com/github/ssook1222/1Day-1Algo/blob/master/ssook/24%EB%85%84/3%EC%9B%94/3%EC%9B%94%202%EC%A3%BC%EC%B0%A8/0311.ipynb\" target=\"_parent\"><img src=\"https://colab.research.google.com/assets/colab-badge.svg\" alt=\"Open In Colab\"/></a>"
      ]
    },
    {
      "cell_type": "markdown",
      "source": [
        "## BoJ"
      ],
      "metadata": {
        "id": "AOj4qPx9pedU"
      }
    },
    {
      "cell_type": "markdown",
      "source": [
        "### 25628"
      ],
      "metadata": {
        "id": "LecddxXUpgSm"
      }
    },
    {
      "cell_type": "code",
      "execution_count": null,
      "metadata": {
        "colab": {
          "base_uri": "https://localhost:8080/"
        },
        "id": "98nfNGCwpcUr",
        "outputId": "ff36164b-c6bb-4b8c-a019-733006b4c87e"
      },
      "outputs": [
        {
          "output_type": "stream",
          "name": "stdout",
          "text": [
            "6 3\n",
            "3\n"
          ]
        }
      ],
      "source": [
        "a, b = map(int, input().split())\n",
        "\n",
        "bread = a // 2\n",
        "patty = b\n",
        "\n",
        "print(min(bread, patty))"
      ]
    },
    {
      "cell_type": "markdown",
      "source": [
        "### 18411"
      ],
      "metadata": {
        "id": "L0qY6dJ3phVi"
      }
    },
    {
      "cell_type": "code",
      "source": [
        "scores = list(map(int, input().split()))\n",
        "scores.sort(reverse = True)\n",
        "\n",
        "print(sum(scores[:2]))"
      ],
      "metadata": {
        "colab": {
          "base_uri": "https://localhost:8080/"
        },
        "id": "YaXkp-JopiGc",
        "outputId": "fe907157-0cdf-4ac1-ef0c-062c1a49778b"
      },
      "execution_count": null,
      "outputs": [
        {
          "output_type": "stream",
          "name": "stdout",
          "text": [
            "70 80 90\n",
            "170\n"
          ]
        }
      ]
    },
    {
      "cell_type": "markdown",
      "source": [
        "---"
      ],
      "metadata": {
        "id": "pLwlbjSRpiZN"
      }
    },
    {
      "cell_type": "markdown",
      "source": [
        "## CodeTree"
      ],
      "metadata": {
        "id": "zPKhnDr8pjUs"
      }
    },
    {
      "cell_type": "markdown",
      "source": [
        "### 재귀함수를 이용한 최소공배수"
      ],
      "metadata": {
        "id": "kBxPIfDopkuh"
      }
    },
    {
      "cell_type": "code",
      "source": [
        "import math\n",
        "\n",
        "n = int(input())\n",
        "nums = list(map(int, input().split()))\n",
        "\n",
        "if nums:\n",
        "    if len(nums) == 1:\n",
        "        print(nums[0])\n",
        "\n",
        "    else:\n",
        "        raw = math.lcm(nums[0], nums[1])\n",
        "        for i in range(2, n):\n",
        "            raw = math.lcm(raw, nums[i])\n",
        "\n",
        "        print(raw)\n",
        "else:\n",
        "    print(0)"
      ],
      "metadata": {
        "id": "4cyAQpXbpl1v"
      },
      "execution_count": null,
      "outputs": []
    }
  ]
}