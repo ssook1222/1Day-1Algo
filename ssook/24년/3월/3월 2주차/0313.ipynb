{
  "nbformat": 4,
  "nbformat_minor": 0,
  "metadata": {
    "colab": {
      "provenance": [],
      "authorship_tag": "ABX9TyP6Y7le8ySgDpmL+jxQ/N2a",
      "include_colab_link": true
    },
    "kernelspec": {
      "name": "python3",
      "display_name": "Python 3"
    },
    "language_info": {
      "name": "python"
    }
  },
  "cells": [
    {
      "cell_type": "markdown",
      "metadata": {
        "id": "view-in-github",
        "colab_type": "text"
      },
      "source": [
        "<a href=\"https://colab.research.google.com/github/ssook1222/1Day-1Algo/blob/master/ssook/24%EB%85%84/3%EC%9B%94/3%EC%9B%94%202%EC%A3%BC%EC%B0%A8/0313.ipynb\" target=\"_parent\"><img src=\"https://colab.research.google.com/assets/colab-badge.svg\" alt=\"Open In Colab\"/></a>"
      ]
    },
    {
      "cell_type": "markdown",
      "source": [
        "## BoJ"
      ],
      "metadata": {
        "id": "XTCeYD-J2-e5"
      }
    },
    {
      "cell_type": "markdown",
      "source": [
        "### 21612"
      ],
      "metadata": {
        "id": "_CruAJyh3ASS"
      }
    },
    {
      "cell_type": "code",
      "execution_count": null,
      "metadata": {
        "colab": {
          "base_uri": "https://localhost:8080/"
        },
        "id": "JQlmYCec24LE",
        "outputId": "7186a2e4-1bef-4eda-81cc-4c637ba3bcf7"
      },
      "outputs": [
        {
          "output_type": "stream",
          "name": "stdout",
          "text": [
            "99\n",
            "95\n",
            "1\n"
          ]
        }
      ],
      "source": [
        "bp = int(input())\n",
        "\n",
        "ans = bp * 5 - 400\n",
        "print(ans)\n",
        "\n",
        "if ans < 100:\n",
        "  print(1)\n",
        "\n",
        "elif ans == 100:\n",
        "  print(0)\n",
        "\n",
        "else:\n",
        "  print(-1)"
      ]
    },
    {
      "cell_type": "markdown",
      "source": [
        "### 25591"
      ],
      "metadata": {
        "id": "VBQBQXwp3BCa"
      }
    },
    {
      "cell_type": "code",
      "source": [
        "i, j = map(int, input().split())\n",
        "\n",
        "a = 100 - i\n",
        "b = 100 - j\n",
        "c = 100 - (a+b)\n",
        "d = a * b\n",
        "\n",
        "q = d // 100\n",
        "r = d % 100\n",
        "\n",
        "print(a, b, c, d, q, r)\n",
        "print(c+q, r)"
      ],
      "metadata": {
        "colab": {
          "base_uri": "https://localhost:8080/"
        },
        "id": "ifSRMy0j3BvZ",
        "outputId": "dbeef62f-d9c2-4cdf-ea3c-f4cc1d307f92"
      },
      "execution_count": null,
      "outputs": [
        {
          "output_type": "stream",
          "name": "stdout",
          "text": [
            "97 96\n",
            "3 4 93 12 0 12\n",
            "93 12\n"
          ]
        }
      ]
    },
    {
      "cell_type": "markdown",
      "source": [
        "---"
      ],
      "metadata": {
        "id": "-ZLtDoEg3CJh"
      }
    },
    {
      "cell_type": "markdown",
      "source": [
        "## CodeTree"
      ],
      "metadata": {
        "id": "Lph_3bys3C_p"
      }
    },
    {
      "cell_type": "markdown",
      "source": [
        "### 숫자로 이루어진 사각형"
      ],
      "metadata": {
        "id": "TRrgAz4n3EOi"
      }
    },
    {
      "cell_type": "code",
      "source": [
        "def print_square(n):\n",
        "    num = 1\n",
        "    for i in range(n):\n",
        "        for j in range(n):\n",
        "            print(num, end=' ')\n",
        "            num += 1\n",
        "            if num == 10:\n",
        "                num = 1\n",
        "        print()\n",
        "\n",
        "N = int(input())\n",
        "print_square(N)"
      ],
      "metadata": {
        "id": "GKkCW4Up3FH0"
      },
      "execution_count": null,
      "outputs": []
    }
  ]
}