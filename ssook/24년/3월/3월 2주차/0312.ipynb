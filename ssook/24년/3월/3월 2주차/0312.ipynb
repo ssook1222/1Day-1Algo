{
  "nbformat": 4,
  "nbformat_minor": 0,
  "metadata": {
    "colab": {
      "provenance": [],
      "authorship_tag": "ABX9TyMcdME0zpwp/QXuBwadvzUh",
      "include_colab_link": true
    },
    "kernelspec": {
      "name": "python3",
      "display_name": "Python 3"
    },
    "language_info": {
      "name": "python"
    }
  },
  "cells": [
    {
      "cell_type": "markdown",
      "metadata": {
        "id": "view-in-github",
        "colab_type": "text"
      },
      "source": [
        "<a href=\"https://colab.research.google.com/github/ssook1222/1Day-1Algo/blob/master/ssook/24%EB%85%84/3%EC%9B%94/3%EC%9B%94%202%EC%A3%BC%EC%B0%A8/0312.ipynb\" target=\"_parent\"><img src=\"https://colab.research.google.com/assets/colab-badge.svg\" alt=\"Open In Colab\"/></a>"
      ]
    },
    {
      "cell_type": "markdown",
      "source": [
        "## BoJ"
      ],
      "metadata": {
        "id": "_8HCcD5Lu_I5"
      }
    },
    {
      "cell_type": "markdown",
      "source": [
        "### 8710"
      ],
      "metadata": {
        "id": "WYrF8hN5vBHx"
      }
    },
    {
      "cell_type": "code",
      "execution_count": null,
      "metadata": {
        "colab": {
          "base_uri": "https://localhost:8080/"
        },
        "id": "0OR30QwVu9gs",
        "outputId": "cda0b9f2-1284-4a18-c510-828d1f067781"
      },
      "outputs": [
        {
          "output_type": "stream",
          "name": "stdout",
          "text": [
            "180 202 10\n",
            "3\n"
          ]
        }
      ],
      "source": [
        "k, w, m = map(int, input().split())\n",
        "\n",
        "raw = w - k\n",
        "\n",
        "if raw % m :\n",
        "  plus = 1\n",
        "else:\n",
        "  plus = 0\n",
        "\n",
        "print((raw // m) + plus)\n"
      ]
    },
    {
      "cell_type": "markdown",
      "source": [
        "### 28295"
      ],
      "metadata": {
        "id": "M63B3S0fvBxu"
      }
    },
    {
      "cell_type": "code",
      "source": [
        "dir = ['N', 'E', 'S', 'W']\n",
        "res = 'N'\n",
        "\n",
        "for _ in range(10):\n",
        "  cmd = int(input())\n",
        "\n",
        "  if cmd == 1:\n",
        "    idx = (dir.index(res)+1)%4\n",
        "    res = dir[idx]\n",
        "\n",
        "  elif cmd == 2:\n",
        "    idx = (dir.index(res)+2)%4\n",
        "    res = dir[idx]\n",
        "\n",
        "  elif cmd == 3:\n",
        "    idx = (dir.index(res)+3)%4\n",
        "    res = dir[idx]\n",
        "\n",
        "print(res)"
      ],
      "metadata": {
        "colab": {
          "base_uri": "https://localhost:8080/"
        },
        "id": "brGeFC_xvDtK",
        "outputId": "36ad8111-fd3e-4b8f-8af8-95d2fd8111e4"
      },
      "execution_count": null,
      "outputs": [
        {
          "output_type": "stream",
          "name": "stdout",
          "text": [
            "1\n",
            "2\n",
            "3\n",
            "1\n",
            "2\n",
            "3\n",
            "1\n",
            "2\n",
            "3\n",
            "1\n",
            "w\n"
          ]
        }
      ]
    },
    {
      "cell_type": "markdown",
      "source": [
        "---"
      ],
      "metadata": {
        "id": "RhAllVuQvEXt"
      }
    },
    {
      "cell_type": "markdown",
      "source": [
        "## CodeTree"
      ],
      "metadata": {
        "id": "aHwRJLM8vFi5"
      }
    },
    {
      "cell_type": "markdown",
      "source": [
        "### 큰 숫자 자리수의 합"
      ],
      "metadata": {
        "id": "3LdGkErCvGhy"
      }
    },
    {
      "cell_type": "code",
      "source": [
        "a, b, c = map(int, input().split())\n",
        "\n",
        "raw = a * b * c\n",
        "lst = list(str(raw))\n",
        "\n",
        "lst = list(map(int, lst))\n",
        "print(sum(lst))"
      ],
      "metadata": {
        "id": "hC7H1eYjvHS4"
      },
      "execution_count": null,
      "outputs": []
    }
  ]
}