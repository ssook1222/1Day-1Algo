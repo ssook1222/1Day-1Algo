{
  "nbformat": 4,
  "nbformat_minor": 0,
  "metadata": {
    "colab": {
      "provenance": [],
      "authorship_tag": "ABX9TyNjlBhQvYIjmjdtCf43+dZq",
      "include_colab_link": true
    },
    "kernelspec": {
      "name": "python3",
      "display_name": "Python 3"
    },
    "language_info": {
      "name": "python"
    }
  },
  "cells": [
    {
      "cell_type": "markdown",
      "metadata": {
        "id": "view-in-github",
        "colab_type": "text"
      },
      "source": [
        "<a href=\"https://colab.research.google.com/github/ssook1222/1Day-1Algo/blob/master/ssook/24%EB%85%84/3%EC%9B%94/3%EC%9B%94%202%EC%A3%BC%EC%B0%A8/0310.ipynb\" target=\"_parent\"><img src=\"https://colab.research.google.com/assets/colab-badge.svg\" alt=\"Open In Colab\"/></a>"
      ]
    },
    {
      "cell_type": "markdown",
      "source": [
        "## BoJ"
      ],
      "metadata": {
        "id": "SbhzdJsDNTzm"
      }
    },
    {
      "cell_type": "markdown",
      "source": [
        "### 5928"
      ],
      "metadata": {
        "id": "Cv6bDwH7NVP3"
      }
    },
    {
      "cell_type": "code",
      "execution_count": null,
      "metadata": {
        "colab": {
          "base_uri": "https://localhost:8080/"
        },
        "id": "ew0GyYnANRii",
        "outputId": "5619d767-7d76-48df-d04c-cec1cc39aa9d"
      },
      "outputs": [
        {
          "output_type": "stream",
          "name": "stdout",
          "text": [
            "12 13 14\n",
            "1563\n"
          ]
        }
      ],
      "source": [
        "d, h, m = map(int, input().split())\n",
        "\n",
        "t1 = d * 24 * 60 + h * 60 + m\n",
        "t2 = 11 * 24 * 60 + 11 * 60 + 11\n",
        "\n",
        "diff = t1 - t2\n",
        "\n",
        "if diff < 0 :\n",
        "  print(-1)\n",
        "\n",
        "else:\n",
        "  print(diff)"
      ]
    },
    {
      "cell_type": "markdown",
      "source": [
        "### 19602"
      ],
      "metadata": {
        "id": "NE5Bv9WrNWpK"
      }
    },
    {
      "cell_type": "code",
      "source": [
        "s = int(input())\n",
        "m = int(input())\n",
        "l = int(input())\n",
        "\n",
        "if s*1 + m*2 + l*3 >= 10:\n",
        "  print(\"happy\")\n",
        "\n",
        "else:\n",
        "  print(\"sad\")"
      ],
      "metadata": {
        "colab": {
          "base_uri": "https://localhost:8080/"
        },
        "id": "cBfIYLdwNXjM",
        "outputId": "0dd8aced-c5ab-4bbc-81a6-34d3c4b76b7b"
      },
      "execution_count": null,
      "outputs": [
        {
          "output_type": "stream",
          "name": "stdout",
          "text": [
            "3\n",
            "1\n",
            "0\n",
            "sad\n"
          ]
        }
      ]
    },
    {
      "cell_type": "markdown",
      "source": [
        "---"
      ],
      "metadata": {
        "id": "vg7GzinbNXxJ"
      }
    },
    {
      "cell_type": "markdown",
      "source": [
        "## CodeTree"
      ],
      "metadata": {
        "id": "BzBfTYwoNZFs"
      }
    },
    {
      "cell_type": "markdown",
      "source": [
        "###  국영수 순이지"
      ],
      "metadata": {
        "id": "O384Ow8vNbFj"
      }
    },
    {
      "cell_type": "code",
      "source": [
        "n = int(input())\n",
        "student = {}\n",
        "\n",
        "for _ in range(n):\n",
        "    name, kor, eng, math = input().split()\n",
        "    kor = int(kor)\n",
        "    eng = int(eng)\n",
        "    math = int(math)\n",
        "\n",
        "    student[name] = [kor, eng, math]\n",
        "\n",
        "student = dict(sorted(student.items(), key=lambda x: (-x[1][0], -x[1][1], -x[1][2], x[0])))\n",
        "\n",
        "for p in student:\n",
        "    print(p, *student[p])\n"
      ],
      "metadata": {
        "id": "hssrc9JdNcso"
      },
      "execution_count": null,
      "outputs": []
    }
  ]
}