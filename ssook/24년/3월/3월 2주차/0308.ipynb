{
  "nbformat": 4,
  "nbformat_minor": 0,
  "metadata": {
    "colab": {
      "provenance": [],
      "authorship_tag": "ABX9TyOjbUjxqqMvRLT+OCrFT8iR",
      "include_colab_link": true
    },
    "kernelspec": {
      "name": "python3",
      "display_name": "Python 3"
    },
    "language_info": {
      "name": "python"
    }
  },
  "cells": [
    {
      "cell_type": "markdown",
      "metadata": {
        "id": "view-in-github",
        "colab_type": "text"
      },
      "source": [
        "<a href=\"https://colab.research.google.com/github/ssook1222/1Day-1Algo/blob/master/ssook/24%EB%85%84/3%EC%9B%94/3%EC%9B%94%202%EC%A3%BC%EC%B0%A8/0308.ipynb\" target=\"_parent\"><img src=\"https://colab.research.google.com/assets/colab-badge.svg\" alt=\"Open In Colab\"/></a>"
      ]
    },
    {
      "cell_type": "markdown",
      "source": [
        "## BoJ"
      ],
      "metadata": {
        "id": "2f8WZG7SH6F3"
      }
    },
    {
      "cell_type": "markdown",
      "source": [
        "### 5575"
      ],
      "metadata": {
        "id": "ZYvNsDrcH9FQ"
      }
    },
    {
      "cell_type": "code",
      "source": [
        "for _ in range(3):\n",
        "  h1, m1, s1, h2, m2, s2 = map(int, input().split())\n",
        "\n",
        "  t1 = h1 * 3600 + m1 * 60 + s1\n",
        "  t2 = h2 * 3600 + m2 * 60 + s2\n",
        "\n",
        "  t_diff = t2 - t1\n",
        "\n",
        "  h = ((t_diff//60)//60) % 24\n",
        "  m = t_diff//60 % 60\n",
        "  s = t_diff % 60\n",
        "\n",
        "  print(h, m, s)"
      ],
      "metadata": {
        "colab": {
          "base_uri": "https://localhost:8080/"
        },
        "id": "94N0iffIH96c",
        "outputId": "626d0d2d-f5fe-43da-d2ee-716d47377724"
      },
      "execution_count": null,
      "outputs": [
        {
          "output_type": "stream",
          "name": "stdout",
          "text": [
            "9 0 0 18 0 0\n",
            "9 0 0\n",
            "9 0 1 18 0 0\n",
            "8 59 59\n",
            "12 14 52 12 15 30\n",
            "0 0 38\n"
          ]
        }
      ]
    },
    {
      "cell_type": "markdown",
      "source": [
        "### 15700"
      ],
      "metadata": {
        "id": "T04DjCC1H8Wx"
      }
    },
    {
      "cell_type": "code",
      "execution_count": null,
      "metadata": {
        "colab": {
          "base_uri": "https://localhost:8080/"
        },
        "id": "lNvZOqZpH11_",
        "outputId": "142a17d1-e1dd-443a-9a8e-a2568c1e346e"
      },
      "outputs": [
        {
          "output_type": "stream",
          "name": "stdout",
          "text": [
            "1 2\n",
            "1\n"
          ]
        }
      ],
      "source": [
        "n, m = map(int, input().split())\n",
        "print((n *m) // 2)"
      ]
    },
    {
      "cell_type": "markdown",
      "source": [
        "---"
      ],
      "metadata": {
        "id": "jeoNF6WLH-Zf"
      }
    },
    {
      "cell_type": "markdown",
      "source": [
        "## CodeTree"
      ],
      "metadata": {
        "id": "adYz64l5H_E2"
      }
    },
    {
      "cell_type": "markdown",
      "source": [
        "### 키를 기준으로 정렬"
      ],
      "metadata": {
        "id": "Jase4DTNIBgk"
      }
    },
    {
      "cell_type": "code",
      "source": [
        "n = int(input())\n",
        "student = {}\n",
        "\n",
        "for _ in range(n):\n",
        "    name, height, weight = input().split()\n",
        "    height = int(height)\n",
        "    weight = int(weight)\n",
        "\n",
        "    student[name] = (height, weight)\n",
        "\n",
        "sorted_student = sorted(student.items(), key=lambda x: x[1][0])\n",
        "\n",
        "for p in sorted_student:\n",
        "    print(p[0], *p[1])"
      ],
      "metadata": {
        "id": "6bQwyJF3J3X_"
      },
      "execution_count": null,
      "outputs": []
    }
  ]
}