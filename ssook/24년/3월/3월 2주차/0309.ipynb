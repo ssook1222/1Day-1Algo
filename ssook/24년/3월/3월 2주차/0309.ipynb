{
  "nbformat": 4,
  "nbformat_minor": 0,
  "metadata": {
    "colab": {
      "provenance": [],
      "authorship_tag": "ABX9TyNN8nL6Z2aZcPaXeKuGgnrL",
      "include_colab_link": true
    },
    "kernelspec": {
      "name": "python3",
      "display_name": "Python 3"
    },
    "language_info": {
      "name": "python"
    }
  },
  "cells": [
    {
      "cell_type": "markdown",
      "metadata": {
        "id": "view-in-github",
        "colab_type": "text"
      },
      "source": [
        "<a href=\"https://colab.research.google.com/github/ssook1222/1Day-1Algo/blob/master/ssook/24%EB%85%84/3%EC%9B%94/3%EC%9B%94%202%EC%A3%BC%EC%B0%A8/0309.ipynb\" target=\"_parent\"><img src=\"https://colab.research.google.com/assets/colab-badge.svg\" alt=\"Open In Colab\"/></a>"
      ]
    },
    {
      "cell_type": "markdown",
      "source": [
        "## BoJ"
      ],
      "metadata": {
        "id": "arfCFcZLQCgP"
      }
    },
    {
      "cell_type": "markdown",
      "source": [
        "### 19698"
      ],
      "metadata": {
        "id": "pl4ae45UQD-A"
      }
    },
    {
      "cell_type": "code",
      "execution_count": null,
      "metadata": {
        "colab": {
          "base_uri": "https://localhost:8080/"
        },
        "id": "VkJBZRL8P_gO",
        "outputId": "00404bde-feec-49e7-e9d3-8659f13984fb"
      },
      "outputs": [
        {
          "output_type": "stream",
          "name": "stdout",
          "text": [
            "7 17 11 5\n",
            "6\n"
          ]
        }
      ],
      "source": [
        "n, w, h, l = map(int, input().split())\n",
        "\n",
        "one = (w//l) * (h//l)\n",
        "ans = min(one, n)\n",
        "\n",
        "print(ans)"
      ]
    },
    {
      "cell_type": "markdown",
      "source": [
        "### 6778"
      ],
      "metadata": {
        "id": "v0V3Bvx3QEoT"
      }
    },
    {
      "cell_type": "code",
      "source": [
        "alien = int(input())\n",
        "eyes = int(input())\n",
        "\n",
        "if alien >=3 and eyes <= 4:\n",
        "  print(\"TroyMartian\")\n",
        "\n",
        "if alien <=6 and eyes >= 2:\n",
        "  print(\"VladSaturnian\")\n",
        "\n",
        "if alien <= 2 and eyes <= 3:\n",
        "  print(\"GraemeMercurian\")"
      ],
      "metadata": {
        "colab": {
          "base_uri": "https://localhost:8080/"
        },
        "id": "mSYdaxfMQFPF",
        "outputId": "be8d4517-a16a-4292-8ea1-73a148162e28"
      },
      "execution_count": null,
      "outputs": [
        {
          "output_type": "stream",
          "name": "stdout",
          "text": [
            "2\n",
            "3\n",
            "VladSaturnian\n",
            "GraemeMercurian\n"
          ]
        }
      ]
    },
    {
      "cell_type": "markdown",
      "source": [
        "### 4299"
      ],
      "metadata": {
        "id": "qs6JiGWgQNGf"
      }
    },
    {
      "cell_type": "code",
      "source": [
        "a, b = map(int, input().split())\n",
        "\n",
        "if a < b:\n",
        "  print(-1)\n",
        "\n",
        "elif a >= b:\n",
        "  c = (a + b) // 2\n",
        "  d = (a - b) // 2\n",
        "\n",
        "  if c + d == a and c - d == b:\n",
        "    print(c, d)\n",
        "\n",
        "  else:\n",
        "    print(-1)"
      ],
      "metadata": {
        "colab": {
          "base_uri": "https://localhost:8080/"
        },
        "id": "akfKcDXKQN9l",
        "outputId": "c62fc5c3-bb7c-4f40-a0ec-e1bcafb46ca1"
      },
      "execution_count": null,
      "outputs": [
        {
          "output_type": "stream",
          "name": "stdout",
          "text": [
            "3 1\n",
            "2 1\n"
          ]
        }
      ]
    },
    {
      "cell_type": "markdown",
      "source": [
        "---"
      ],
      "metadata": {
        "id": "jKuQjFYgQF4x"
      }
    },
    {
      "cell_type": "markdown",
      "source": [
        "## CodeTree"
      ],
      "metadata": {
        "id": "RuoFzsNQQGlh"
      }
    },
    {
      "cell_type": "markdown",
      "source": [
        "###  k번째로 신기한 문자열"
      ],
      "metadata": {
        "id": "DBechxb6QHzj"
      }
    },
    {
      "cell_type": "code",
      "source": [
        "n, k, t = map(str, input().split())\n",
        "\n",
        "n = int(n)\n",
        "k = int(k)\n",
        "\n",
        "words = []\n",
        "\n",
        "for _ in range(n):\n",
        "    raw = input()\n",
        "    if raw.startswith(t):\n",
        "        words.append(raw)\n",
        "\n",
        "words.sort()\n",
        "print(words[k-1])"
      ],
      "metadata": {
        "id": "tN-YSlQtQIkx"
      },
      "execution_count": null,
      "outputs": []
    }
  ]
}