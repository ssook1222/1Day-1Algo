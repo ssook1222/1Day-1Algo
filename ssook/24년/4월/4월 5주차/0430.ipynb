{
  "nbformat": 4,
  "nbformat_minor": 0,
  "metadata": {
    "colab": {
      "provenance": [],
      "authorship_tag": "ABX9TyOSxE8HQu5sE5Bm8BRPh9cR",
      "include_colab_link": true
    },
    "kernelspec": {
      "name": "python3",
      "display_name": "Python 3"
    },
    "language_info": {
      "name": "python"
    }
  },
  "cells": [
    {
      "cell_type": "markdown",
      "metadata": {
        "id": "view-in-github",
        "colab_type": "text"
      },
      "source": [
        "<a href=\"https://colab.research.google.com/github/ssook1222/1Day-1Algo/blob/master/ssook/24%EB%85%84/4%EC%9B%94/4%EC%9B%94%205%EC%A3%BC%EC%B0%A8/0430.ipynb\" target=\"_parent\"><img src=\"https://colab.research.google.com/assets/colab-badge.svg\" alt=\"Open In Colab\"/></a>"
      ]
    },
    {
      "cell_type": "markdown",
      "source": [
        "## BoJ"
      ],
      "metadata": {
        "id": "Ao8VUxKOEYxJ"
      }
    },
    {
      "cell_type": "markdown",
      "source": [
        "### 9252"
      ],
      "metadata": {
        "id": "FgK7uJmkGaZu"
      }
    },
    {
      "cell_type": "code",
      "source": [
        "import sys\n",
        "\n",
        "def longest_common_subsequence(str1, str2):\n",
        "    m = len(str1)\n",
        "    n = len(str2)\n",
        "\n",
        "    dp = [[0] * (n + 1) for _ in range(m + 1)]\n",
        "\n",
        "    for i in range(1, m + 1):\n",
        "        for j in range(1, n + 1):\n",
        "            if str1[i - 1] == str2[j - 1]:\n",
        "                dp[i][j] = dp[i - 1][j - 1] + 1\n",
        "            else:\n",
        "                dp[i][j] = max(dp[i - 1][j], dp[i][j - 1])\n",
        "\n",
        "    lcs_length = dp[m][n]\n",
        "    lcs = ''\n",
        "    i, j = m, n\n",
        "    while i > 0 and j > 0:\n",
        "        if str1[i - 1] == str2[j - 1]:\n",
        "            lcs = str1[i - 1] + lcs\n",
        "            i -= 1\n",
        "            j -= 1\n",
        "        elif dp[i - 1][j] > dp[i][j - 1]:\n",
        "            i -= 1\n",
        "        else:\n",
        "            j -= 1\n",
        "\n",
        "    return lcs_length, lcs\n",
        "\n",
        "str1 = sys.stdin.readline().rstrip()\n",
        "str2 = sys.stdin.readline().rstrip()\n",
        "\n",
        "lcs_length, lcs = longest_common_subsequence(str1, str2)\n",
        "\n",
        "print(lcs_length)\n",
        "if lcs_length > 0:\n",
        "    print(lcs)"
      ],
      "metadata": {
        "id": "xqxoGCj-G-3H"
      },
      "execution_count": null,
      "outputs": []
    },
    {
      "cell_type": "markdown",
      "source": [
        "### 2712"
      ],
      "metadata": {
        "id": "t4bJTofLHWcC"
      }
    },
    {
      "cell_type": "code",
      "source": [
        "n = int(input())\n",
        "\n",
        "for _ in range(n):\n",
        "  num, danwe = map(str, input().split())\n",
        "  num = float(num)\n",
        "\n",
        "  if danwe == 'kg':\n",
        "    num *= 2.2046\n",
        "    print(\"%.4f lb\" %num)\n",
        "\n",
        "  elif danwe == 'lb':\n",
        "    num *= 0.4536\n",
        "    print(\"%.4f kg\" %num)\n",
        "\n",
        "  elif danwe == 'l':\n",
        "    num *= 0.2642\n",
        "    print(\"%.4f g\" %num)\n",
        "\n",
        "  elif danwe == 'g':\n",
        "    num *= 3.7854\n",
        "    print(\"%.4f l\" %num)"
      ],
      "metadata": {
        "colab": {
          "base_uri": "https://localhost:8080/"
        },
        "id": "JntMTf5zHX-N",
        "outputId": "32b98bac-eee5-4cc3-b3e6-daf4ae9d476b"
      },
      "execution_count": null,
      "outputs": [
        {
          "output_type": "stream",
          "name": "stdout",
          "text": [
            "5\n",
            "1 kg\n",
            "2.2046 lb\n",
            "2 l\n",
            "0.5284 g\n",
            "7 lb\n",
            "3.1752 kg\n",
            "3.5 g\n",
            "13.2489 l\n",
            "0 l\n",
            "0.0000 g\n"
          ]
        }
      ]
    },
    {
      "cell_type": "markdown",
      "source": [
        "---"
      ],
      "metadata": {
        "id": "5V2Y_dOLOO0o"
      }
    },
    {
      "cell_type": "markdown",
      "source": [
        "## LeetCode"
      ],
      "metadata": {
        "id": "vR2lY45pOPtX"
      }
    },
    {
      "cell_type": "markdown",
      "source": [
        "### Find Words Containing Character"
      ],
      "metadata": {
        "id": "Qhd7c0SiORBc"
      }
    },
    {
      "cell_type": "code",
      "source": [
        "class Solution:\n",
        "    def findWordsContaining(self, words: List[str], x: str) -> List[int]:\n",
        "        result = []\n",
        "        for i, word in enumerate(words):\n",
        "            if x in word:\n",
        "                result.append(i)\n",
        "        return result"
      ],
      "metadata": {
        "id": "zKb4WoUcORrj"
      },
      "execution_count": null,
      "outputs": []
    }
  ]
}