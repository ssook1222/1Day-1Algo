{
  "nbformat": 4,
  "nbformat_minor": 0,
  "metadata": {
    "colab": {
      "provenance": [],
      "authorship_tag": "ABX9TyPD9r9a3u5yx5f4K6vCbkXA",
      "include_colab_link": true
    },
    "kernelspec": {
      "name": "python3",
      "display_name": "Python 3"
    },
    "language_info": {
      "name": "python"
    }
  },
  "cells": [
    {
      "cell_type": "markdown",
      "metadata": {
        "id": "view-in-github",
        "colab_type": "text"
      },
      "source": [
        "<a href=\"https://colab.research.google.com/github/ssook1222/1Day-1Algo/blob/master/ssook/24%EB%85%84/4%EC%9B%94/4%EC%9B%94%205%EC%A3%BC%EC%B0%A8/0429.ipynb\" target=\"_parent\"><img src=\"https://colab.research.google.com/assets/colab-badge.svg\" alt=\"Open In Colab\"/></a>"
      ]
    },
    {
      "cell_type": "markdown",
      "source": [
        "## BoJ"
      ],
      "metadata": {
        "id": "37L9588Gm8k9"
      }
    },
    {
      "cell_type": "markdown",
      "source": [
        "### 13904"
      ],
      "metadata": {
        "id": "vd6u5D0Vm-0O"
      }
    },
    {
      "cell_type": "code",
      "execution_count": null,
      "metadata": {
        "colab": {
          "base_uri": "https://localhost:8080/"
        },
        "id": "6J4HwM3qm6ef",
        "outputId": "8f53ddd3-7db8-4ca9-f4fb-328d7f6f5fdf"
      },
      "outputs": [
        {
          "output_type": "stream",
          "name": "stdout",
          "text": [
            "7\n",
            "4 60\n",
            "4 40\n",
            "1 20\n",
            "2 50\n",
            "3 30\n",
            "4 10\n",
            "6 5\n",
            "185\n"
          ]
        }
      ],
      "source": [
        "def maximize_score(N, assignments):\n",
        "    assignments.sort()\n",
        "\n",
        "    total_score = 0\n",
        "    max_deadline = max(assignments, key=lambda x: x[0])[0]\n",
        "    day_counter = max_deadline\n",
        "\n",
        "    while day_counter > 0:\n",
        "        max_score = 0\n",
        "        max_index = -1\n",
        "\n",
        "        i = 0\n",
        "        while i < len(assignments):\n",
        "            if assignments[i][0] >= day_counter and assignments[i][1] > max_score:\n",
        "                max_score = assignments[i][1]\n",
        "                max_index = i\n",
        "            i += 1\n",
        "\n",
        "        if max_index != -1:\n",
        "            total_score += max_score\n",
        "            del assignments[max_index]\n",
        "\n",
        "        day_counter -= 1\n",
        "\n",
        "    return total_score\n",
        "\n",
        "N = int(input())\n",
        "assignments = []\n",
        "for _ in range(N):\n",
        "    d, w = map(int, input().split())\n",
        "    assignments.append((d, w))\n",
        "\n",
        "print(maximize_score(N, assignments))"
      ]
    },
    {
      "cell_type": "markdown",
      "source": [
        "### 2875"
      ],
      "metadata": {
        "id": "6za4l9q6m_eX"
      }
    },
    {
      "cell_type": "code",
      "source": [
        "N, M, K = map(int, input().split())\n",
        "\n",
        "def max_teams(N, M, K):\n",
        "    teams = min(N // 2, M)\n",
        "\n",
        "    while N + M - teams * 3 < K:\n",
        "        teams -= 1\n",
        "\n",
        "    return teams\n",
        "\n",
        "print(max_teams(N, M, K))"
      ],
      "metadata": {
        "colab": {
          "base_uri": "https://localhost:8080/"
        },
        "id": "06HxeiCxnAbG",
        "outputId": "20f22525-b406-47c2-9f64-5cce832a7c40"
      },
      "execution_count": null,
      "outputs": [
        {
          "output_type": "stream",
          "name": "stdout",
          "text": [
            "2 1 1\n",
            "0\n"
          ]
        }
      ]
    },
    {
      "cell_type": "markdown",
      "source": [
        "---"
      ],
      "metadata": {
        "id": "m30zh08bnBLp"
      }
    },
    {
      "cell_type": "markdown",
      "source": [
        "## Leetcode"
      ],
      "metadata": {
        "id": "_a--2LR3nCZb"
      }
    },
    {
      "cell_type": "markdown",
      "source": [
        "### Jewels and Stones"
      ],
      "metadata": {
        "id": "kPdgnHBB3Zng"
      }
    },
    {
      "cell_type": "code",
      "source": [
        "class Solution:\n",
        "    def numJewelsInStones(self, jewels: str, stones: str) -> int:\n",
        "        jewel_set = set(jewels)\n",
        "        count = 0\n",
        "        for stone in stones:\n",
        "            if stone in jewel_set:\n",
        "                count += 1\n",
        "        return count"
      ],
      "metadata": {
        "id": "hc7AHfl3nExM"
      },
      "execution_count": null,
      "outputs": []
    }
  ]
}