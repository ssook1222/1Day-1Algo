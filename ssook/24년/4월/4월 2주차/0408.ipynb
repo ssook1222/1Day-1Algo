{
  "nbformat": 4,
  "nbformat_minor": 0,
  "metadata": {
    "colab": {
      "provenance": [],
      "authorship_tag": "ABX9TyPDFN8qNVLw5TMSaqidBXtW",
      "include_colab_link": true
    },
    "kernelspec": {
      "name": "python3",
      "display_name": "Python 3"
    },
    "language_info": {
      "name": "python"
    }
  },
  "cells": [
    {
      "cell_type": "markdown",
      "metadata": {
        "id": "view-in-github",
        "colab_type": "text"
      },
      "source": [
        "<a href=\"https://colab.research.google.com/github/ssook1222/1Day-1Algo/blob/master/ssook/24%EB%85%84/4%EC%9B%94/4%EC%9B%94%202%EC%A3%BC%EC%B0%A8/0408.ipynb\" target=\"_parent\"><img src=\"https://colab.research.google.com/assets/colab-badge.svg\" alt=\"Open In Colab\"/></a>"
      ]
    },
    {
      "cell_type": "markdown",
      "source": [
        "## BoJ"
      ],
      "metadata": {
        "id": "bsPKbdukCBPd"
      }
    },
    {
      "cell_type": "markdown",
      "source": [
        "### 31428"
      ],
      "metadata": {
        "id": "si7EGviWCDNl"
      }
    },
    {
      "cell_type": "code",
      "execution_count": null,
      "metadata": {
        "colab": {
          "base_uri": "https://localhost:8080/"
        },
        "id": "BYDcShQzB_ZB",
        "outputId": "4060951e-09bd-471d-9a79-d66443b0bb54"
      },
      "outputs": [
        {
          "output_type": "stream",
          "name": "stdout",
          "text": [
            "1\n",
            "C\n",
            "A\n",
            "0\n"
          ]
        }
      ],
      "source": [
        "n = int(input())\n",
        "\n",
        "tracks = list(map(str, input().split()))\n",
        "standard = input()\n",
        "\n",
        "cnt = 0\n",
        "\n",
        "for track in tracks:\n",
        "  if track == standard:\n",
        "    cnt += 1\n",
        "\n",
        "print(cnt)"
      ]
    },
    {
      "cell_type": "markdown",
      "source": [
        "### 28808"
      ],
      "metadata": {
        "id": "Baw5dvLTCD1-"
      }
    },
    {
      "cell_type": "code",
      "source": [
        "n, m = map(int, input().split())\n",
        "cnt = 0\n",
        "\n",
        "for _ in range(n):\n",
        "  s = input()\n",
        "\n",
        "  if '+' in s:\n",
        "    cnt += 1\n",
        "\n",
        "print(cnt)"
      ],
      "metadata": {
        "colab": {
          "base_uri": "https://localhost:8080/"
        },
        "id": "ynf_rPbrCEZc",
        "outputId": "2a5271ae-3018-4ba1-ff39-00ff937c6ede"
      },
      "execution_count": null,
      "outputs": [
        {
          "output_type": "stream",
          "name": "stdout",
          "text": [
            "1 4\n",
            "-++-\n",
            "1\n"
          ]
        }
      ]
    },
    {
      "cell_type": "markdown",
      "source": [
        "---"
      ],
      "metadata": {
        "id": "eENHkTZGCFEq"
      }
    },
    {
      "cell_type": "markdown",
      "source": [
        "## CodeTree"
      ],
      "metadata": {
        "id": "XIatKfamCGWy"
      }
    },
    {
      "cell_type": "markdown",
      "source": [
        "### 격자 반대로 채우기"
      ],
      "metadata": {
        "id": "bkHRtLg6CHVE"
      }
    },
    {
      "cell_type": "code",
      "source": [
        "def fill_grid(n):\n",
        "    grid = [[0] * n for _ in range(n)]\n",
        "\n",
        "    num = 1\n",
        "    for i in range(n - 1, -1, -1):\n",
        "        if (n - i) % 2 == 0:\n",
        "            for j in range(n - 1, -1, -1):\n",
        "                grid[j][i] = num\n",
        "                num += 1\n",
        "        else:\n",
        "            for j in range(n):\n",
        "                grid[j][i] = num\n",
        "                num += 1\n",
        "\n",
        "    return grid\n",
        "\n",
        "def print_grid(grid):\n",
        "    for row in reversed(grid):\n",
        "        print(\" \".join(map(str, row)))\n",
        "\n",
        "n = int(input())\n",
        "result = fill_grid(n)\n",
        "\n",
        "print_grid(result)"
      ],
      "metadata": {
        "id": "l1KKjb1jCII_"
      },
      "execution_count": null,
      "outputs": []
    }
  ]
}