{
  "nbformat": 4,
  "nbformat_minor": 0,
  "metadata": {
    "colab": {
      "provenance": [],
      "authorship_tag": "ABX9TyNkQDrTqsncefJ6P030ltWV",
      "include_colab_link": true
    },
    "kernelspec": {
      "name": "python3",
      "display_name": "Python 3"
    },
    "language_info": {
      "name": "python"
    }
  },
  "cells": [
    {
      "cell_type": "markdown",
      "metadata": {
        "id": "view-in-github",
        "colab_type": "text"
      },
      "source": [
        "<a href=\"https://colab.research.google.com/github/ssook1222/1Day-1Algo/blob/master/ssook/24%EB%85%84/4%EC%9B%94/4%EC%9B%94%202%EC%A3%BC%EC%B0%A8/0414.ipynb\" target=\"_parent\"><img src=\"https://colab.research.google.com/assets/colab-badge.svg\" alt=\"Open In Colab\"/></a>"
      ]
    },
    {
      "cell_type": "markdown",
      "source": [
        "## BoJ"
      ],
      "metadata": {
        "id": "H53yz7pJT9mD"
      }
    },
    {
      "cell_type": "markdown",
      "source": [
        "### 30585"
      ],
      "metadata": {
        "id": "T25b12MOT-0X"
      }
    },
    {
      "cell_type": "code",
      "execution_count": null,
      "metadata": {
        "colab": {
          "base_uri": "https://localhost:8080/"
        },
        "id": "QZb_MMVJT7K5",
        "outputId": "119e9ba3-b1a0-4177-d461-1a11f63c9539"
      },
      "outputs": [
        {
          "output_type": "stream",
          "name": "stdout",
          "text": [
            "5 4\n",
            "1111\n",
            "1010\n",
            "1101\n",
            "1010\n",
            "0111\n",
            "6\n"
          ]
        }
      ],
      "source": [
        "n, m = map(int, input().split())\n",
        "raws = []\n",
        "cnt = 0\n",
        "\n",
        "for _ in range(n):\n",
        "    raws.append(input())\n",
        "\n",
        "for raw in raws:\n",
        "    cnt += raw.count('1')\n",
        "\n",
        "ans = min(cnt, n * m - cnt)\n",
        "\n",
        "print(ans)"
      ]
    },
    {
      "cell_type": "markdown",
      "source": [
        "### 29340"
      ],
      "metadata": {
        "id": "blLIEYvDT_cZ"
      }
    },
    {
      "cell_type": "code",
      "source": [
        "def merge_scores(score1, score2):\n",
        "    merged_scores = []\n",
        "    for s1, s2 in zip(score1, score2):\n",
        "        merged_scores.append(max(s1, s2))\n",
        "    return merged_scores\n",
        "\n",
        "score1 = input().strip()\n",
        "score2 = input().strip()\n",
        "\n",
        "merged_score = merge_scores(score1, score2)\n",
        "\n",
        "print(''.join(merged_score))"
      ],
      "metadata": {
        "colab": {
          "base_uri": "https://localhost:8080/"
        },
        "id": "XyBfIQ94UABv",
        "outputId": "c6ce3ab8-3a06-4f3f-af7c-b601fb306e52"
      },
      "execution_count": null,
      "outputs": [
        {
          "output_type": "stream",
          "name": "stdout",
          "text": [
            "1234\n",
            "4321\n",
            "4334\n"
          ]
        }
      ]
    },
    {
      "cell_type": "markdown",
      "source": [
        "---"
      ],
      "metadata": {
        "id": "tbmL9NEbUAVy"
      }
    },
    {
      "cell_type": "markdown",
      "source": [
        "## CodeTree"
      ],
      "metadata": {
        "id": "n5bMQNgWUCiL"
      }
    },
    {
      "cell_type": "markdown",
      "source": [
        "### 격자에 점 그리기"
      ],
      "metadata": {
        "id": "dx_ZDNiDUEJF"
      }
    },
    {
      "cell_type": "code",
      "source": [
        "n, m = map(int, input().split())\n",
        "\n",
        "grid = [[0] * n for _ in range(n)]\n",
        "point_num = 1\n",
        "\n",
        "for _ in range(m):\n",
        "    r, c = map(int, input().split())\n",
        "    grid[r-1][c-1] = point_num\n",
        "    point_num += 1\n",
        "\n",
        "for row in grid:\n",
        "    print(*row)"
      ],
      "metadata": {
        "id": "sh1xJ0PpUBJS"
      },
      "execution_count": null,
      "outputs": []
    }
  ]
}