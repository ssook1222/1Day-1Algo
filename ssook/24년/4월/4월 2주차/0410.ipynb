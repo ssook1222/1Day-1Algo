{
  "nbformat": 4,
  "nbformat_minor": 0,
  "metadata": {
    "colab": {
      "provenance": [],
      "authorship_tag": "ABX9TyOkXt4GjhaaaTkl5yvA3fN1",
      "include_colab_link": true
    },
    "kernelspec": {
      "name": "python3",
      "display_name": "Python 3"
    },
    "language_info": {
      "name": "python"
    }
  },
  "cells": [
    {
      "cell_type": "markdown",
      "metadata": {
        "id": "view-in-github",
        "colab_type": "text"
      },
      "source": [
        "<a href=\"https://colab.research.google.com/github/ssook1222/1Day-1Algo/blob/master/ssook/24%EB%85%84/4%EC%9B%94/4%EC%9B%94%202%EC%A3%BC%EC%B0%A8/0410.ipynb\" target=\"_parent\"><img src=\"https://colab.research.google.com/assets/colab-badge.svg\" alt=\"Open In Colab\"/></a>"
      ]
    },
    {
      "cell_type": "markdown",
      "source": [
        "## BoJ"
      ],
      "metadata": {
        "id": "_bn9ljz8do1h"
      }
    },
    {
      "cell_type": "markdown",
      "source": [
        "### 29683"
      ],
      "metadata": {
        "id": "3eTL5B6FdqG0"
      }
    },
    {
      "cell_type": "code",
      "execution_count": null,
      "metadata": {
        "id": "lXJi9JKtdna-",
        "colab": {
          "base_uri": "https://localhost:8080/"
        },
        "outputId": "04c52137-47bb-4b69-b74d-5570921789a2"
      },
      "outputs": [
        {
          "output_type": "stream",
          "name": "stdout",
          "text": [
            "3 2\n",
            "1 2 4\n",
            "3\n"
          ]
        }
      ],
      "source": [
        "n, a = map(int, input().split())\n",
        "lotto = list(map(int, input().split()))\n",
        "cnt = 0\n",
        "\n",
        "for num in lotto:\n",
        "  cnt += num // a\n",
        "\n",
        "print(cnt)"
      ]
    },
    {
      "cell_type": "markdown",
      "source": [
        "### 27262"
      ],
      "metadata": {
        "id": "wNZYdeBFdrER"
      }
    },
    {
      "cell_type": "code",
      "source": [
        "n, k, a, b = map(int, input().split())\n",
        "\n",
        "elevator = (abs(1 - k) * b) + (n - 1) * b\n",
        "stairs = ( n - 1 )* a\n",
        "\n",
        "print(elevator, stairs)"
      ],
      "metadata": {
        "id": "a4DpTJpFdrtz",
        "colab": {
          "base_uri": "https://localhost:8080/"
        },
        "outputId": "3ed22da5-255a-469e-8fdf-80d1218d1782"
      },
      "execution_count": null,
      "outputs": [
        {
          "output_type": "stream",
          "name": "stdout",
          "text": [
            "15 8 5 3\n",
            "63 70\n"
          ]
        }
      ]
    },
    {
      "cell_type": "markdown",
      "source": [
        "---"
      ],
      "metadata": {
        "id": "Qf0UNT75dsg5"
      }
    },
    {
      "cell_type": "markdown",
      "source": [
        "## CodeTree"
      ],
      "metadata": {
        "id": "jdQqFgXXdtVQ"
      }
    },
    {
      "cell_type": "markdown",
      "source": [
        "### 배열로 사각형 만들기"
      ],
      "metadata": {
        "id": "Wo3NL83NduSL"
      }
    },
    {
      "cell_type": "code",
      "source": [
        "array = [[0] * 5 for _ in range(5)]\n",
        "\n",
        "for i in range(5):\n",
        "    array[0][i] = 1\n",
        "    array[i][0] = 1\n",
        "\n",
        "for i in range(1, 5):\n",
        "    for j in range(1, 5):\n",
        "        array[i][j] = array[i-1][j] + array[i][j-1]\n",
        "\n",
        "for row in array:\n",
        "    print(*row)"
      ],
      "metadata": {
        "id": "WlC6-6EGdvGf"
      },
      "execution_count": null,
      "outputs": []
    }
  ]
}