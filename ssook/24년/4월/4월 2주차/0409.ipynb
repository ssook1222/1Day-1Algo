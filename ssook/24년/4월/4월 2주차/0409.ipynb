{
  "nbformat": 4,
  "nbformat_minor": 0,
  "metadata": {
    "colab": {
      "provenance": [],
      "authorship_tag": "ABX9TyM5hAT4sBPSOXjIF9jz5uAz",
      "include_colab_link": true
    },
    "kernelspec": {
      "name": "python3",
      "display_name": "Python 3"
    },
    "language_info": {
      "name": "python"
    }
  },
  "cells": [
    {
      "cell_type": "markdown",
      "metadata": {
        "id": "view-in-github",
        "colab_type": "text"
      },
      "source": [
        "<a href=\"https://colab.research.google.com/github/ssook1222/1Day-1Algo/blob/master/ssook/24%EB%85%84/4%EC%9B%94/4%EC%9B%94%202%EC%A3%BC%EC%B0%A8/0409.ipynb\" target=\"_parent\"><img src=\"https://colab.research.google.com/assets/colab-badge.svg\" alt=\"Open In Colab\"/></a>"
      ]
    },
    {
      "cell_type": "markdown",
      "source": [
        "## BoJ"
      ],
      "metadata": {
        "id": "kybtXGDA5ezy"
      }
    },
    {
      "cell_type": "markdown",
      "source": [
        "### 29546"
      ],
      "metadata": {
        "id": "62oOJ9_M5h4h"
      }
    },
    {
      "cell_type": "code",
      "execution_count": null,
      "metadata": {
        "colab": {
          "base_uri": "https://localhost:8080/"
        },
        "id": "_d7ndzsJ5dhm",
        "outputId": "138d4081-5bd6-4714-f75d-256bdbabf6f3"
      },
      "outputs": [
        {
          "output_type": "stream",
          "name": "stdout",
          "text": [
            "3\n",
            "idx1001.jpg\n",
            "idx1000.jpg\n",
            "idx1014.jpg\n",
            "2\n",
            "2 3\n",
            "idx1000.jpg\n",
            "idx1014.jpg\n",
            "1 2\n",
            "idx1001.jpg\n",
            "idx1000.jpg\n"
          ]
        }
      ],
      "source": [
        "n = int(input())\n",
        "imgs = []\n",
        "\n",
        "for _ in range(n):\n",
        "  img = input()\n",
        "  imgs.append(img)\n",
        "\n",
        "m = int(input())\n",
        "\n",
        "for _ in range(m):\n",
        "  a, b = map(int, input().split())\n",
        "  a -= 1\n",
        "  b -= 1\n",
        "\n",
        "  for i in range(a, b+1):\n",
        "    print(imgs[i])"
      ]
    },
    {
      "cell_type": "markdown",
      "source": [
        "### 29823"
      ],
      "metadata": {
        "id": "1UzGsytQ5ig1"
      }
    },
    {
      "cell_type": "code",
      "source": [
        "n = int(input())\n",
        "dirs = input()\n",
        "\n",
        "x = 0\n",
        "y = 0\n",
        "\n",
        "for dir in dirs:\n",
        "    if dir == 'E':\n",
        "        x += 1\n",
        "    elif dir == 'W':\n",
        "        x -= 1\n",
        "    elif dir == 'N':\n",
        "        y += 1\n",
        "    elif dir == 'S':\n",
        "        y -= 1\n",
        "\n",
        "dist = abs(x) + abs(y)\n",
        "\n",
        "print(dist)"
      ],
      "metadata": {
        "colab": {
          "base_uri": "https://localhost:8080/"
        },
        "id": "ILH2hCxF5jG2",
        "outputId": "fc2a120f-90fb-45f1-d682-2b225baca9a9"
      },
      "execution_count": null,
      "outputs": [
        {
          "output_type": "stream",
          "name": "stdout",
          "text": [
            "5\n",
            "NNEEE\n",
            "5\n"
          ]
        }
      ]
    },
    {
      "cell_type": "markdown",
      "source": [
        "---"
      ],
      "metadata": {
        "id": "GqzE9SaA5j4W"
      }
    },
    {
      "cell_type": "markdown",
      "source": [
        "## CodeTree"
      ],
      "metadata": {
        "id": "aAR7OJ6U5koe"
      }
    },
    {
      "cell_type": "markdown",
      "source": [
        "### 지그재그로 숫자 채우기"
      ],
      "metadata": {
        "id": "szUTGniN5mWq"
      }
    },
    {
      "cell_type": "code",
      "source": [
        "def zigzag_matrix(n, m):\n",
        "    matrix = [[0] * m for _ in range(n)]\n",
        "\n",
        "    num = 0\n",
        "    direction = 1\n",
        "\n",
        "    for j in range(m):\n",
        "        if j % 2 == 0:\n",
        "            for i in range(n):\n",
        "                matrix[i][j] = num\n",
        "                num += 1\n",
        "        else:\n",
        "            for i in range(n - 1, -1, -1):\n",
        "                matrix[i][j] = num\n",
        "                num += 1\n",
        "    for row in matrix:\n",
        "        print(\" \".join(map(str, row)))\n",
        "\n",
        "n, m = map(int, input().split())\n",
        "zigzag_matrix(n, m)"
      ],
      "metadata": {
        "id": "1jLoqsTr5m4B"
      },
      "execution_count": null,
      "outputs": []
    }
  ]
}