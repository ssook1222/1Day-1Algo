{
  "nbformat": 4,
  "nbformat_minor": 0,
  "metadata": {
    "colab": {
      "provenance": [],
      "authorship_tag": "ABX9TyN/5MXUwNlQBjZnHPOh8y4b",
      "include_colab_link": true
    },
    "kernelspec": {
      "name": "python3",
      "display_name": "Python 3"
    },
    "language_info": {
      "name": "python"
    }
  },
  "cells": [
    {
      "cell_type": "markdown",
      "metadata": {
        "id": "view-in-github",
        "colab_type": "text"
      },
      "source": [
        "<a href=\"https://colab.research.google.com/github/ssook1222/1Day-1Algo/blob/master/ssook/24%EB%85%84/4%EC%9B%94/4%EC%9B%94%202%EC%A3%BC%EC%B0%A8/0412.ipynb\" target=\"_parent\"><img src=\"https://colab.research.google.com/assets/colab-badge.svg\" alt=\"Open In Colab\"/></a>"
      ]
    },
    {
      "cell_type": "markdown",
      "source": [
        "## BoJ"
      ],
      "metadata": {
        "id": "rhWkys_3VaaH"
      }
    },
    {
      "cell_type": "markdown",
      "source": [
        "### 31280"
      ],
      "metadata": {
        "id": "CvNEc19tVbtO"
      }
    },
    {
      "cell_type": "code",
      "execution_count": null,
      "metadata": {
        "colab": {
          "base_uri": "https://localhost:8080/"
        },
        "id": "1-diKCiUVPDu",
        "outputId": "cb208408-962c-4663-fc27-7f048021d163"
      },
      "outputs": [
        {
          "output_type": "stream",
          "name": "stdout",
          "text": [
            "14 9 4 7\n",
            "31\n"
          ]
        }
      ],
      "source": [
        "a, b, c, d = map(int, input().split())\n",
        "\n",
        "nums = [a, b, c, d]\n",
        "nums.sort()\n",
        "\n",
        "total = sum(nums)\n",
        "ans = total - nums[0] + 1\n",
        "\n",
        "print(ans)"
      ]
    },
    {
      "cell_type": "markdown",
      "source": [
        "### 31282"
      ],
      "metadata": {
        "id": "Qy9GOciqVczG"
      }
    },
    {
      "cell_type": "code",
      "source": [
        "n, m, k = map(int, input().split())\n",
        "\n",
        "rabbit = 0\n",
        "dog = -n\n",
        "cnt = 0\n",
        "\n",
        "while rabbit > dog:\n",
        "  rabbit += m\n",
        "  dog += k\n",
        "  cnt += 1\n",
        "\n",
        "print(cnt)"
      ],
      "metadata": {
        "colab": {
          "base_uri": "https://localhost:8080/"
        },
        "id": "guJXefxpXiL7",
        "outputId": "1c84a8fe-6fbf-40fb-ea51-ba9a350643e8"
      },
      "execution_count": null,
      "outputs": [
        {
          "output_type": "stream",
          "name": "stdout",
          "text": [
            "150 7 9\n",
            "75\n"
          ]
        }
      ]
    },
    {
      "cell_type": "markdown",
      "source": [
        "---"
      ],
      "metadata": {
        "id": "1cOAMpKTVeIQ"
      }
    },
    {
      "cell_type": "markdown",
      "source": [
        "## CodeTree"
      ],
      "metadata": {
        "id": "ryTzxEkyVfNc"
      }
    },
    {
      "cell_type": "markdown",
      "source": [
        "### 격자로 사각형 만들기"
      ],
      "metadata": {
        "id": "ccNGYaOyVgDl"
      }
    },
    {
      "cell_type": "code",
      "source": [
        "def generate_grid(n):\n",
        "    grid = [[0] * n for _ in range(n)]\n",
        "\n",
        "    for i in range(n):\n",
        "        grid[0][i] = 1\n",
        "        grid[i][0] = 1\n",
        "\n",
        "    for i in range(1, n):\n",
        "        for j in range(1, n):\n",
        "            grid[i][j] = grid[i-1][j] + grid[i][j-1] + grid[i-1][j-1]\n",
        "\n",
        "    return grid\n",
        "\n",
        "def print_grid(grid):\n",
        "    for row in grid:\n",
        "        print(' '.join(map(str, row)))\n",
        "\n",
        "n = int(input())\n",
        "\n",
        "grid = generate_grid(n)\n",
        "print_grid(grid)"
      ],
      "metadata": {
        "id": "FX2dvmxZVgs4"
      },
      "execution_count": null,
      "outputs": []
    }
  ]
}