{
  "nbformat": 4,
  "nbformat_minor": 0,
  "metadata": {
    "colab": {
      "provenance": [],
      "authorship_tag": "ABX9TyPOYSTNIES3y8QrA0MKaZgK",
      "include_colab_link": true
    },
    "kernelspec": {
      "name": "python3",
      "display_name": "Python 3"
    },
    "language_info": {
      "name": "python"
    }
  },
  "cells": [
    {
      "cell_type": "markdown",
      "metadata": {
        "id": "view-in-github",
        "colab_type": "text"
      },
      "source": [
        "<a href=\"https://colab.research.google.com/github/ssook1222/1Day-1Algo/blob/master/ssook/24%EB%85%84/4%EC%9B%94/4%EC%9B%94%202%EC%A3%BC%EC%B0%A8/0411.ipynb\" target=\"_parent\"><img src=\"https://colab.research.google.com/assets/colab-badge.svg\" alt=\"Open In Colab\"/></a>"
      ]
    },
    {
      "cell_type": "markdown",
      "source": [
        "## BoJ"
      ],
      "metadata": {
        "id": "0EZAEJQ70iYe"
      }
    },
    {
      "cell_type": "markdown",
      "source": [
        "### 30658"
      ],
      "metadata": {
        "id": "LHgIBMgh0j28"
      }
    },
    {
      "cell_type": "code",
      "execution_count": null,
      "metadata": {
        "colab": {
          "base_uri": "https://localhost:8080/"
        },
        "id": "0F3M1DfZ0gV9",
        "outputId": "9c9a5eed-3a70-4d6a-e52d-e7a30f3a8e72"
      },
      "outputs": [
        {
          "name": "stdout",
          "output_type": "stream",
          "text": [
            "5\n",
            "3\n",
            "4\n",
            "2\n",
            "5\n",
            "1\n",
            "1\n",
            "5\n",
            "2\n",
            "4\n",
            "3\n",
            "0\n",
            "2\n",
            "1\n",
            "2\n",
            "2\n",
            "1\n",
            "0\n",
            "0\n"
          ]
        }
      ],
      "source": [
        "while True:\n",
        "  chk = int(input())\n",
        "\n",
        "  if chk == 0:\n",
        "    break\n",
        "  else:\n",
        "    nums = []\n",
        "    for _ in range(chk):\n",
        "      raw = int(input())\n",
        "      nums.append(raw)\n",
        "\n",
        "    nums = nums[::-1]\n",
        "\n",
        "    for num in nums:\n",
        "      print(num)\n",
        "\n",
        "    print(0)"
      ]
    },
    {
      "cell_type": "markdown",
      "source": [
        "### 25991"
      ],
      "metadata": {
        "id": "05UptHnr0kf1"
      }
    },
    {
      "cell_type": "code",
      "source": [
        "n = input()\n",
        "\n",
        "lines = list(map(float, input().split()))\n",
        "hap = 0\n",
        "\n",
        "for line in lines:\n",
        "  hap += line**3\n",
        "\n",
        "ans = hap ** (1/3)\n",
        "\n",
        "print(ans)"
      ],
      "metadata": {
        "colab": {
          "base_uri": "https://localhost:8080/"
        },
        "id": "lp6zTOiT0lJe",
        "outputId": "1e6095e8-86cf-49aa-aff2-1cf47d365c74"
      },
      "execution_count": null,
      "outputs": [
        {
          "output_type": "stream",
          "name": "stdout",
          "text": [
            "3\n",
            "22.10 2022 1337\n",
            "2200.6131345362505\n"
          ]
        }
      ]
    },
    {
      "cell_type": "markdown",
      "source": [
        "---"
      ],
      "metadata": {
        "id": "jMT72pkr0la1"
      }
    },
    {
      "cell_type": "markdown",
      "source": [
        "## CodeTree"
      ],
      "metadata": {
        "id": "zpw4Xr5t0mSM"
      }
    },
    {
      "cell_type": "markdown",
      "source": [
        "### 격자 모양 출력하기"
      ],
      "metadata": {
        "id": "sa7xjmUI0nk3"
      }
    },
    {
      "cell_type": "code",
      "source": [
        "n, m = map(int, input().split())\n",
        "\n",
        "grid = [[0] * n for _ in range(n)]\n",
        "\n",
        "for _ in range(m):\n",
        "    row, col = map(int, input().split())\n",
        "    size = row * col\n",
        "    grid[row - 1][col - 1] = size\n",
        "\n",
        "for row in grid:\n",
        "    print(*row)"
      ],
      "metadata": {
        "id": "x2fpdVUh0oOg"
      },
      "execution_count": null,
      "outputs": []
    }
  ]
}