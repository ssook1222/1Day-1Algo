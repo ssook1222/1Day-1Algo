{
  "nbformat": 4,
  "nbformat_minor": 0,
  "metadata": {
    "colab": {
      "provenance": [],
      "authorship_tag": "ABX9TyN92BpK0zvfWbrY2YF0Nhqs",
      "include_colab_link": true
    },
    "kernelspec": {
      "name": "python3",
      "display_name": "Python 3"
    },
    "language_info": {
      "name": "python"
    }
  },
  "cells": [
    {
      "cell_type": "markdown",
      "metadata": {
        "id": "view-in-github",
        "colab_type": "text"
      },
      "source": [
        "<a href=\"https://colab.research.google.com/github/ssook1222/1Day-1Algo/blob/master/ssook/24%EB%85%84/4%EC%9B%94/4%EC%9B%94%202%EC%A3%BC%EC%B0%A8/0413.ipynb\" target=\"_parent\"><img src=\"https://colab.research.google.com/assets/colab-badge.svg\" alt=\"Open In Colab\"/></a>"
      ]
    },
    {
      "cell_type": "markdown",
      "source": [
        "## BoJ"
      ],
      "metadata": {
        "id": "3g5wgdkUgRBq"
      }
    },
    {
      "cell_type": "markdown",
      "source": [
        "### 24075"
      ],
      "metadata": {
        "id": "_2a0smSRgTPS"
      }
    },
    {
      "cell_type": "code",
      "execution_count": null,
      "metadata": {
        "colab": {
          "base_uri": "https://localhost:8080/"
        },
        "id": "VXNNfVM7gNNH",
        "outputId": "60f2c116-76be-4acf-8f48-426fffbe0a29"
      },
      "outputs": [
        {
          "output_type": "stream",
          "name": "stdout",
          "text": [
            "-3 -4\n",
            "1\n",
            "-7\n"
          ]
        }
      ],
      "source": [
        "a, b = map(int, input().split())\n",
        "\n",
        "first = a + b\n",
        "second = a - b\n",
        "\n",
        "print(max(first, second))\n",
        "print(min(first, second))"
      ]
    },
    {
      "cell_type": "markdown",
      "source": [
        "### 24079"
      ],
      "metadata": {
        "id": "AP1zB9X6gT1c"
      }
    },
    {
      "cell_type": "code",
      "source": [
        "x = int(input())\n",
        "y = int(input())\n",
        "z = int(input())\n",
        "\n",
        "if x + y <= z + 0.5:\n",
        "  print(1)\n",
        "else:\n",
        "  print(0)"
      ],
      "metadata": {
        "colab": {
          "base_uri": "https://localhost:8080/"
        },
        "id": "tS2iEI1bgUWz",
        "outputId": "132014a0-2b21-43e3-ea60-56e66423b57c"
      },
      "execution_count": null,
      "outputs": [
        {
          "output_type": "stream",
          "name": "stdout",
          "text": [
            "3\n",
            "4\n",
            "10\n",
            "1\n"
          ]
        }
      ]
    },
    {
      "cell_type": "markdown",
      "source": [
        "---"
      ],
      "metadata": {
        "id": "-ffOUbIZgVOE"
      }
    },
    {
      "cell_type": "markdown",
      "source": [
        "## CodeTree"
      ],
      "metadata": {
        "id": "VkgAGfZKgWIB"
      }
    },
    {
      "cell_type": "markdown",
      "source": [
        "### 특정 원소들의 합"
      ],
      "metadata": {
        "id": "1f6C7HFkgXgD"
      }
    },
    {
      "cell_type": "code",
      "source": [
        "nums = []\n",
        "\n",
        "for _ in range(4):\n",
        "    nums.append(list(map(int, input().split())))\n",
        "\n",
        "hap = nums[0][0] + sum(nums[1][:2]) + sum(nums[2][:3]) + sum(nums[3])\n",
        "\n",
        "print(hap)"
      ],
      "metadata": {
        "id": "K9CPdZmogYTl"
      },
      "execution_count": null,
      "outputs": []
    }
  ]
}