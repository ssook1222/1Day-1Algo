{
  "nbformat": 4,
  "nbformat_minor": 0,
  "metadata": {
    "colab": {
      "provenance": [],
      "authorship_tag": "ABX9TyOgWKLAphIGSJJY1kZLLqJl",
      "include_colab_link": true
    },
    "kernelspec": {
      "name": "python3",
      "display_name": "Python 3"
    },
    "language_info": {
      "name": "python"
    }
  },
  "cells": [
    {
      "cell_type": "markdown",
      "metadata": {
        "id": "view-in-github",
        "colab_type": "text"
      },
      "source": [
        "<a href=\"https://colab.research.google.com/github/ssook1222/1Day-1Algo/blob/master/ssook/24%EB%85%84/4%EC%9B%94/4%EC%9B%94%204%EC%A3%BC%EC%B0%A8/0423.ipynb\" target=\"_parent\"><img src=\"https://colab.research.google.com/assets/colab-badge.svg\" alt=\"Open In Colab\"/></a>"
      ]
    },
    {
      "cell_type": "markdown",
      "source": [
        "## BoJ"
      ],
      "metadata": {
        "id": "_TwsTL90-0jF"
      }
    },
    {
      "cell_type": "markdown",
      "source": [
        "### 29986"
      ],
      "metadata": {
        "id": "64Tw73kJ-2BR"
      }
    },
    {
      "cell_type": "code",
      "execution_count": null,
      "metadata": {
        "id": "GCmQD26D-zOl"
      },
      "outputs": [],
      "source": [
        "n, height = map(int, input().split())\n",
        "able = list(map(int, input().split()))\n",
        "\n",
        "cnt = 0\n",
        "\n",
        "for i in able:\n",
        "  if height >= i:\n",
        "    cnt += 1\n",
        "\n",
        "print(cnt)"
      ]
    },
    {
      "cell_type": "markdown",
      "source": [
        "### 11719"
      ],
      "metadata": {
        "id": "XhJ-k7Kx-2h0"
      }
    },
    {
      "cell_type": "code",
      "source": [
        "import sys\n",
        "\n",
        "raw = sys.stdin.read()\n",
        "print(raw)"
      ],
      "metadata": {
        "id": "u91G4b64-3Bz"
      },
      "execution_count": null,
      "outputs": []
    },
    {
      "cell_type": "markdown",
      "source": [
        "---"
      ],
      "metadata": {
        "id": "JgXEviCU-35C"
      }
    },
    {
      "cell_type": "markdown",
      "source": [
        "## CodeTree"
      ],
      "metadata": {
        "id": "beiM1nX2-4-F"
      }
    },
    {
      "cell_type": "markdown",
      "source": [
        "###  첫 번째와 두 번째 교환"
      ],
      "metadata": {
        "id": "0oXdqn_f-6Hx"
      }
    },
    {
      "cell_type": "code",
      "source": [
        "def exchange_chars(input_str):\n",
        "    first_char = input_str[0]\n",
        "    second_char = input_str[1]\n",
        "    result = ''\n",
        "\n",
        "    for char in input_str:\n",
        "        if char == first_char:\n",
        "            result += second_char\n",
        "        elif char == second_char:\n",
        "            result += first_char\n",
        "        else:\n",
        "            result += char\n",
        "\n",
        "    return result\n",
        "\n",
        "input_str = input()\n",
        "\n",
        "print(exchange_chars(input_str))"
      ],
      "metadata": {
        "id": "o_a_JG41-7AG"
      },
      "execution_count": null,
      "outputs": []
    }
  ]
}