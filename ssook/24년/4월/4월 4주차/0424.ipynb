{
  "nbformat": 4,
  "nbformat_minor": 0,
  "metadata": {
    "colab": {
      "provenance": [],
      "authorship_tag": "ABX9TyMywn3baDgsNczQjQ4knSEW",
      "include_colab_link": true
    },
    "kernelspec": {
      "name": "python3",
      "display_name": "Python 3"
    },
    "language_info": {
      "name": "python"
    }
  },
  "cells": [
    {
      "cell_type": "markdown",
      "metadata": {
        "id": "view-in-github",
        "colab_type": "text"
      },
      "source": [
        "<a href=\"https://colab.research.google.com/github/ssook1222/1Day-1Algo/blob/master/ssook/24%EB%85%84/4%EC%9B%94/4%EC%9B%94%204%EC%A3%BC%EC%B0%A8/0424.ipynb\" target=\"_parent\"><img src=\"https://colab.research.google.com/assets/colab-badge.svg\" alt=\"Open In Colab\"/></a>"
      ]
    },
    {
      "cell_type": "markdown",
      "source": [
        "## BoJ"
      ],
      "metadata": {
        "id": "vgRnYjItCgk0"
      }
    },
    {
      "cell_type": "markdown",
      "source": [
        "### 31606"
      ],
      "metadata": {
        "id": "-CQJGzAnCj3V"
      }
    },
    {
      "cell_type": "code",
      "execution_count": null,
      "metadata": {
        "colab": {
          "base_uri": "https://localhost:8080/"
        },
        "id": "pEldLRZYCfJm",
        "outputId": "bff99082-903f-4b12-c9cb-624e3c7f2c2e"
      },
      "outputs": [
        {
          "output_type": "stream",
          "name": "stdout",
          "text": [
            "2\n",
            "4\n",
            "9\n"
          ]
        }
      ],
      "source": [
        "ans = 3\n",
        "\n",
        "x = int(input())\n",
        "y = int(input())\n",
        "\n",
        "ans += x + y\n",
        "print(ans)"
      ]
    },
    {
      "cell_type": "markdown",
      "source": [
        "### 31614"
      ],
      "metadata": {
        "id": "6X8hiTJpCka4"
      }
    },
    {
      "cell_type": "code",
      "source": [
        "h = int(input())\n",
        "m = int(input())\n",
        "\n",
        "ans = h * 60 + m\n",
        "\n",
        "print(ans)"
      ],
      "metadata": {
        "colab": {
          "base_uri": "https://localhost:8080/"
        },
        "id": "-T-Wn3ryClMp",
        "outputId": "1bcb6764-9324-4258-a003-33cf1fdc14b8"
      },
      "execution_count": null,
      "outputs": [
        {
          "output_type": "stream",
          "name": "stdout",
          "text": [
            "8\n",
            "30\n",
            "510\n"
          ]
        }
      ]
    },
    {
      "cell_type": "markdown",
      "source": [
        "---"
      ],
      "metadata": {
        "id": "SUowiB41CmuZ"
      }
    },
    {
      "cell_type": "markdown",
      "source": [
        "## CodeTree"
      ],
      "metadata": {
        "id": "3iHucZpFCnaB"
      }
    },
    {
      "cell_type": "markdown",
      "source": [
        "### 문자열 놀이"
      ],
      "metadata": {
        "id": "Kr_VX1gsColx"
      }
    },
    {
      "cell_type": "code",
      "source": [
        "def perform_queries(s, queries):\n",
        "    result = []\n",
        "\n",
        "    for query in queries:\n",
        "        query_type, a, b = query\n",
        "\n",
        "        if query_type == 1:\n",
        "            a = int(a) - 1\n",
        "            b = int(b) - 1\n",
        "            s_list = list(s)\n",
        "            s_list[a], s_list[b] = s_list[b], s_list[a]\n",
        "            s = ''.join(s_list)\n",
        "        elif query_type == 2:\n",
        "            s = s.replace(a, b)\n",
        "\n",
        "        result.append(s)\n",
        "\n",
        "    return result\n",
        "\n",
        "s, q = input().split()\n",
        "s = str(s)\n",
        "q = int(q)\n",
        "\n",
        "queries = []\n",
        "for _ in range(q):\n",
        "    query = input().split()\n",
        "    queries.append((int(query[0]), query[1], query[2]))\n",
        "\n",
        "results = perform_queries(s, queries)\n",
        "for res in results:\n",
        "    print(res)"
      ],
      "metadata": {
        "id": "ZzyHCoKkCpPu"
      },
      "execution_count": null,
      "outputs": []
    }
  ]
}