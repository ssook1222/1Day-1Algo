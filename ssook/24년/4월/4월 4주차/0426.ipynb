{
  "nbformat": 4,
  "nbformat_minor": 0,
  "metadata": {
    "colab": {
      "provenance": [],
      "authorship_tag": "ABX9TyOo4ASav5+qmX21jLDGZTqb",
      "include_colab_link": true
    },
    "kernelspec": {
      "name": "python3",
      "display_name": "Python 3"
    },
    "language_info": {
      "name": "python"
    }
  },
  "cells": [
    {
      "cell_type": "markdown",
      "metadata": {
        "id": "view-in-github",
        "colab_type": "text"
      },
      "source": [
        "<a href=\"https://colab.research.google.com/github/ssook1222/1Day-1Algo/blob/master/ssook/24%EB%85%84/4%EC%9B%94/4%EC%9B%94%204%EC%A3%BC%EC%B0%A8/0426.ipynb\" target=\"_parent\"><img src=\"https://colab.research.google.com/assets/colab-badge.svg\" alt=\"Open In Colab\"/></a>"
      ]
    },
    {
      "cell_type": "markdown",
      "source": [
        "## BoJ"
      ],
      "metadata": {
        "id": "wWfEgsc5_HXu"
      }
    },
    {
      "cell_type": "markdown",
      "source": [
        "### 26532"
      ],
      "metadata": {
        "id": "sgfnFIIc_JDw"
      }
    },
    {
      "cell_type": "code",
      "execution_count": null,
      "metadata": {
        "id": "w6_j3xqk_Bfd",
        "colab": {
          "base_uri": "https://localhost:8080/"
        },
        "outputId": "47a254b7-424e-4e0d-d7f2-4607c7633540"
      },
      "outputs": [
        {
          "output_type": "stream",
          "name": "stdout",
          "text": [
            "100 1000\n",
            "5\n"
          ]
        }
      ],
      "source": [
        "yard = 4840\n",
        "\n",
        "a, b = map(int, input().split())\n",
        "square = a*b\n",
        "\n",
        "acre = square / yard\n",
        "\n",
        "if acre//5 == acre/5:\n",
        "  print(int(acre//5))\n",
        "\n",
        "else:\n",
        "  print(int(acre//5)+1)\n"
      ]
    },
    {
      "cell_type": "markdown",
      "source": [
        "### 25881"
      ],
      "metadata": {
        "id": "ej4VPKMT_J0o"
      }
    },
    {
      "cell_type": "code",
      "source": [
        "init, plus = map(int, input().split())\n",
        "\n",
        "n = int(input())\n",
        "\n",
        "for _ in range(n):\n",
        "    consumption = int(input())\n",
        "\n",
        "    if consumption <= 1000:\n",
        "        fee = consumption * init\n",
        "    else:\n",
        "        fee = 1000 * init + (consumption - 1000) * plus\n",
        "\n",
        "    print(consumption, fee)"
      ],
      "metadata": {
        "id": "ddbbE19X_LQO",
        "colab": {
          "base_uri": "https://localhost:8080/"
        },
        "outputId": "72b6bd25-7c6d-4168-eae5-d382ea8116cd"
      },
      "execution_count": null,
      "outputs": [
        {
          "output_type": "stream",
          "name": "stdout",
          "text": [
            "6 10\n",
            "4\n",
            "1000\n",
            "1000 6000\n",
            "1001\n",
            "1001 6010\n",
            "700\n",
            "700 4200\n",
            "4800\n",
            "4800 44000\n"
          ]
        }
      ]
    },
    {
      "cell_type": "markdown",
      "source": [
        "---"
      ],
      "metadata": {
        "id": "0d1mmjGK_Mey"
      }
    },
    {
      "cell_type": "markdown",
      "source": [
        "## CodeTree"
      ],
      "metadata": {
        "id": "276RDPrV_O8G"
      }
    },
    {
      "cell_type": "markdown",
      "source": [
        "\n",
        "### 나눗셈의 나머지"
      ],
      "metadata": {
        "id": "tlCbYXDP_Q8p"
      }
    },
    {
      "cell_type": "code",
      "source": [
        "a, b = map(int, input().split())\n",
        "\n",
        "remainders = {}\n",
        "\n",
        "while a > 1:\n",
        "    remainder = a % b\n",
        "    if remainder in remainders:\n",
        "        remainders[remainder] += 1\n",
        "    else:\n",
        "        remainders[remainder] = 1\n",
        "    a //= b\n",
        "\n",
        "print(sum(count ** 2 for count in remainders.values()))"
      ],
      "metadata": {
        "id": "39BkSSpT_T9V"
      },
      "execution_count": null,
      "outputs": []
    }
  ]
}