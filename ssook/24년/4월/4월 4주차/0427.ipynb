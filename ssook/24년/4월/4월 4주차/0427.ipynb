{
  "nbformat": 4,
  "nbformat_minor": 0,
  "metadata": {
    "colab": {
      "provenance": [],
      "authorship_tag": "ABX9TyPIoCLsCS6CpaES/vKuLac8",
      "include_colab_link": true
    },
    "kernelspec": {
      "name": "python3",
      "display_name": "Python 3"
    },
    "language_info": {
      "name": "python"
    }
  },
  "cells": [
    {
      "cell_type": "markdown",
      "metadata": {
        "id": "view-in-github",
        "colab_type": "text"
      },
      "source": [
        "<a href=\"https://colab.research.google.com/github/ssook1222/1Day-1Algo/blob/master/ssook/24%EB%85%84/4%EC%9B%94/4%EC%9B%94%204%EC%A3%BC%EC%B0%A8/0427.ipynb\" target=\"_parent\"><img src=\"https://colab.research.google.com/assets/colab-badge.svg\" alt=\"Open In Colab\"/></a>"
      ]
    },
    {
      "cell_type": "markdown",
      "source": [
        "## BoJ"
      ],
      "metadata": {
        "id": "t7A56M0pEC-P"
      }
    },
    {
      "cell_type": "markdown",
      "source": [
        "### 7218"
      ],
      "metadata": {
        "id": "AUCw6vJSEEk5"
      }
    },
    {
      "cell_type": "code",
      "source": [
        "n = int(input())\n",
        "raw = input()\n",
        "\n",
        "nums = {'I': 1, 'II': 2, 'III': 3, 'IV': 4, 'V': 5, 'VI': 6, 'VII': 7, 'VIII': 8, 'IX': 9, 'X': 10, 'XI': 11, 'XII': 12}\n",
        "\n",
        "hidden_numbers = set()\n",
        "\n",
        "for i in range(len(raw)):\n",
        "    for j in range(i, len(raw)):\n",
        "        substring = raw[i:j + 1]\n",
        "        if substring in nums:\n",
        "            hidden_numbers.add(nums[substring])\n",
        "\n",
        "hidden_numbers = sorted(hidden_numbers)\n",
        "print(' '.join(map(str, hidden_numbers)))"
      ],
      "metadata": {
        "colab": {
          "base_uri": "https://localhost:8080/"
        },
        "id": "Dx7N8j4vGgAj",
        "outputId": "242a96e3-1269-4234-efa0-6b0cb4eda5e2"
      },
      "execution_count": null,
      "outputs": [
        {
          "output_type": "stream",
          "name": "stdout",
          "text": [
            "5\n",
            "XIIIX\n",
            "1 2 3 9 10 11 12\n"
          ]
        }
      ]
    },
    {
      "cell_type": "markdown",
      "source": [
        "### 27239"
      ],
      "metadata": {
        "id": "-CZAD8IIEFaK"
      }
    },
    {
      "cell_type": "code",
      "source": [
        "n = int(input())\n",
        "remainder = (n - 1) % 8\n",
        "if remainder == 0:\n",
        "    letter = 'a'\n",
        "elif remainder == 1:\n",
        "    letter = 'b'\n",
        "elif remainder == 2:\n",
        "    letter = 'c'\n",
        "elif remainder == 3:\n",
        "    letter = 'd'\n",
        "elif remainder == 4:\n",
        "    letter = 'e'\n",
        "elif remainder == 5:\n",
        "    letter = 'f'\n",
        "elif remainder == 6:\n",
        "    letter = 'g'\n",
        "else:\n",
        "    letter = 'h'\n",
        "\n",
        "number = (n + 7) // 8\n",
        "print(letter + str(number))"
      ],
      "metadata": {
        "colab": {
          "base_uri": "https://localhost:8080/"
        },
        "id": "jXlfdJQfEGJ3",
        "outputId": "e1dd52c9-75cd-48cb-8935-0c163bba987c"
      },
      "execution_count": null,
      "outputs": [
        {
          "output_type": "stream",
          "name": "stdout",
          "text": [
            "1\n",
            "a1\n"
          ]
        }
      ]
    },
    {
      "cell_type": "markdown",
      "source": [
        "---"
      ],
      "metadata": {
        "id": "P103GoL6EGdH"
      }
    },
    {
      "cell_type": "markdown",
      "source": [
        "## CodeTree"
      ],
      "metadata": {
        "id": "NF1NpuR1EHfd"
      }
    },
    {
      "cell_type": "markdown",
      "source": [
        "### 개발자의 컴퓨터"
      ],
      "metadata": {
        "id": "lKpCBV__EOeP"
      }
    },
    {
      "cell_type": "code",
      "source": [
        "N = int(input())\n",
        "\n",
        "records = []\n",
        "for _ in range(N):\n",
        "    s, t, b = map(int, input().split())\n",
        "    records.append((s, t, b))\n",
        "\n",
        "computers_needed = [0] * 1001\n",
        "for record in records:\n",
        "    s, t, b = record\n",
        "    for i in range(s, t):\n",
        "        computers_needed[i] += b\n",
        "\n",
        "max_computers_needed = max(computers_needed)\n",
        "\n",
        "print(max_computers_needed)"
      ],
      "metadata": {
        "id": "ld524-JiEPBO"
      },
      "execution_count": null,
      "outputs": []
    }
  ]
}