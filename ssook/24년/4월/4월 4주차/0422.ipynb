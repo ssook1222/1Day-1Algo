{
  "nbformat": 4,
  "nbformat_minor": 0,
  "metadata": {
    "colab": {
      "provenance": [],
      "authorship_tag": "ABX9TyOgbFv7yGvxtvrRWHX9yLH3",
      "include_colab_link": true
    },
    "kernelspec": {
      "name": "python3",
      "display_name": "Python 3"
    },
    "language_info": {
      "name": "python"
    }
  },
  "cells": [
    {
      "cell_type": "markdown",
      "metadata": {
        "id": "view-in-github",
        "colab_type": "text"
      },
      "source": [
        "<a href=\"https://colab.research.google.com/github/ssook1222/1Day-1Algo/blob/master/ssook/24%EB%85%84/4%EC%9B%94/4%EC%9B%94%204%EC%A3%BC%EC%B0%A8/0422.ipynb\" target=\"_parent\"><img src=\"https://colab.research.google.com/assets/colab-badge.svg\" alt=\"Open In Colab\"/></a>"
      ]
    },
    {
      "cell_type": "markdown",
      "source": [
        "## BoJ"
      ],
      "metadata": {
        "id": "jYhUs_E2lS_z"
      }
    },
    {
      "cell_type": "markdown",
      "source": [
        "### 11608"
      ],
      "metadata": {
        "id": "tVdDl0zilUZq"
      }
    },
    {
      "cell_type": "code",
      "execution_count": null,
      "metadata": {
        "colab": {
          "base_uri": "https://localhost:8080/"
        },
        "id": "zZgUnrOGlRAL",
        "outputId": "57dc8274-e3cb-4cc0-857b-77477de2b8a3"
      },
      "outputs": [
        {
          "output_type": "stream",
          "name": "stdout",
          "text": [
            "assesses\n",
            "1\n"
          ]
        }
      ],
      "source": [
        "s = input()\n",
        "alpha = [0] * 26\n",
        "for char in s:\n",
        "    alpha[ord(char) - ord('a')] += 1\n",
        "\n",
        "v = []\n",
        "for freq in alpha:\n",
        "    if freq:\n",
        "        v.append(freq)\n",
        "cnt = len(v)\n",
        "v.sort()\n",
        "\n",
        "ans = sum(v[:cnt - 2])\n",
        "print(ans)"
      ]
    },
    {
      "cell_type": "markdown",
      "source": [
        "### 30684"
      ],
      "metadata": {
        "id": "5P5pkcn-lVGw"
      }
    },
    {
      "cell_type": "code",
      "source": [
        "import sys\n",
        "\n",
        "n = int(sys.stdin.readline().rstrip())\n",
        "hubo = []\n",
        "\n",
        "for _ in range(n):\n",
        "  name = sys.stdin.readline().rstrip()\n",
        "\n",
        "  if len(name) == 3:\n",
        "    hubo.append(name)\n",
        "\n",
        "hubo.sort()\n",
        "\n",
        "print(hubo[0])"
      ],
      "metadata": {
        "colab": {
          "base_uri": "https://localhost:8080/"
        },
        "id": "IktBtGD2lV1b",
        "outputId": "7033b431-d929-407f-d061-064da1ff68ec"
      },
      "execution_count": null,
      "outputs": [
        {
          "output_type": "stream",
          "name": "stdout",
          "text": [
            "7\n",
            "KGW\n",
            "LH\n",
            "AHC\n",
            "LKY\n",
            "DREAM\n",
            "AA\n",
            "KTY\n",
            "AHC\n"
          ]
        }
      ]
    },
    {
      "cell_type": "markdown",
      "source": [
        "---"
      ],
      "metadata": {
        "id": "yURRCsOGlW5q"
      }
    },
    {
      "cell_type": "markdown",
      "source": [
        "## CodeTree"
      ],
      "metadata": {
        "id": "ZJP_VeotlXu5"
      }
    },
    {
      "cell_type": "markdown",
      "source": [
        "### 문자열 계속 지우기"
      ],
      "metadata": {
        "id": "NHaLa3WFlZaq"
      }
    },
    {
      "cell_type": "code",
      "source": [
        "def remove_substring(a, b):\n",
        "    while True:\n",
        "        idx = a.find(b)\n",
        "        if idx == -1:\n",
        "            break\n",
        "        a = a[:idx] + a[idx+len(b):]\n",
        "    return a\n",
        "\n",
        "A = input().strip()\n",
        "B = input().strip()\n",
        "\n",
        "result = remove_substring(A, B)\n",
        "print(result)"
      ],
      "metadata": {
        "id": "kY8ZiMGFlaEL"
      },
      "execution_count": null,
      "outputs": []
    }
  ]
}