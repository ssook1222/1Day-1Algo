{
  "nbformat": 4,
  "nbformat_minor": 0,
  "metadata": {
    "colab": {
      "provenance": [],
      "authorship_tag": "ABX9TyNPlrrfdJOfw/aDSpu3WThD",
      "include_colab_link": true
    },
    "kernelspec": {
      "name": "python3",
      "display_name": "Python 3"
    },
    "language_info": {
      "name": "python"
    }
  },
  "cells": [
    {
      "cell_type": "markdown",
      "metadata": {
        "id": "view-in-github",
        "colab_type": "text"
      },
      "source": [
        "<a href=\"https://colab.research.google.com/github/ssook1222/1Day-1Algo/blob/master/ssook/24%EB%85%84/4%EC%9B%94/4%EC%9B%94%204%EC%A3%BC%EC%B0%A8/0428.ipynb\" target=\"_parent\"><img src=\"https://colab.research.google.com/assets/colab-badge.svg\" alt=\"Open In Colab\"/></a>"
      ]
    },
    {
      "cell_type": "markdown",
      "source": [
        "## BoJ"
      ],
      "metadata": {
        "id": "SqhVE4VELP9I"
      }
    },
    {
      "cell_type": "markdown",
      "source": [
        "### 29725"
      ],
      "metadata": {
        "id": "KvzBvVQKLRhU"
      }
    },
    {
      "cell_type": "code",
      "execution_count": null,
      "metadata": {
        "colab": {
          "base_uri": "https://localhost:8080/"
        },
        "id": "zWCDxq6bLMXT",
        "outputId": "840ea313-1b75-4c09-de75-4b0b8cd49268"
      },
      "outputs": [
        {
          "output_type": "stream",
          "name": "stdout",
          "text": [
            "rnbqkbnk\n",
            "pppppppp\n",
            "........\n",
            "........\n",
            "........\n",
            "........\n",
            "PPPPPPPP\n",
            "RNBQKBNK\n",
            "0\n"
          ]
        }
      ],
      "source": [
        "black_chess = {'k': 0, 'p': 1, 'n': 3, 'b': 3, 'r': 5, 'q': 9}\n",
        "white_chess = {'K': 0, 'P': 1, 'N': 3, 'B': 3, 'R': 5, 'Q': 9}\n",
        "\n",
        "black_score = 0\n",
        "white_score = 0\n",
        "\n",
        "for _ in range(8):\n",
        "    chess = input()\n",
        "\n",
        "    for c in chess:\n",
        "        if c.islower() and c in black_chess:\n",
        "            black_score += black_chess[c]\n",
        "        elif c.isupper() and c in white_chess:\n",
        "            white_score += white_chess[c]\n",
        "\n",
        "print(white_score - black_score)"
      ]
    },
    {
      "cell_type": "markdown",
      "source": [
        "### 6322"
      ],
      "metadata": {
        "id": "8F13lyYsLSLf"
      }
    },
    {
      "cell_type": "code",
      "source": [
        "cnt = 0\n",
        "\n",
        "while True:\n",
        "    cnt += 1\n",
        "    a, b, c = map(int, input().split())\n",
        "    if a == b == c == 0:\n",
        "        break\n",
        "\n",
        "    if cnt > 1:\n",
        "        print()\n",
        "    print(\"Triangle #%d\" %cnt)\n",
        "\n",
        "\n",
        "    # 세 변 중 하나가 -1인 경우\n",
        "    if a == -1:\n",
        "        if c ** 2 - b ** 2 > 0:\n",
        "            a = (c ** 2 - b ** 2) ** 0.5\n",
        "            print(\"a = {:.3f}\".format(a))\n",
        "        else:\n",
        "            print(\"Impossible.\")\n",
        "\n",
        "    elif b == -1:\n",
        "        if c ** 2 - a ** 2 > 0:\n",
        "            b = (c ** 2 - a ** 2) ** 0.5\n",
        "            print(\"b = {:.3f}\".format(b))\n",
        "        else:\n",
        "            print(\"Impossible.\")\n",
        "\n",
        "    elif c == -1:\n",
        "        if a ** 2 + b ** 2 > 0:\n",
        "            c = (a ** 2 + b ** 2) ** 0.5\n",
        "            print(\"c = {:.3f}\".format(c))\n",
        "\n",
        "        else:\n",
        "            print(\"Impossible.\")\n",
        "\n",
        "    else:\n",
        "        print(\"Impossible.\")"
      ],
      "metadata": {
        "colab": {
          "base_uri": "https://localhost:8080/"
        },
        "id": "0qQowsvFLS_8",
        "outputId": "2495cd53-4821-421e-9174-c5b6da102226"
      },
      "execution_count": null,
      "outputs": [
        {
          "name": "stdout",
          "output_type": "stream",
          "text": [
            "3 4 -1\n",
            "Triangle #1\n",
            "c = 5.000\n",
            "\n",
            "-1 2 7\n",
            "\n",
            "Triangle #2\n",
            "a = 6.708\n",
            "\n",
            "0 0 0\n"
          ]
        }
      ]
    },
    {
      "cell_type": "markdown",
      "source": [
        "---"
      ],
      "metadata": {
        "id": "YyjCOAjaLTNB"
      }
    },
    {
      "cell_type": "markdown",
      "source": [
        "## LeetCode"
      ],
      "metadata": {
        "id": "YlfV59sXLVly"
      }
    },
    {
      "cell_type": "markdown",
      "source": [
        "### 3110. score-of-a-string"
      ],
      "metadata": {
        "id": "iqjc9euiLXbp"
      }
    },
    {
      "cell_type": "code",
      "source": [
        "class Solution:\n",
        "    def scoreOfString(self, s: str) -> int:\n",
        "        ans = 0\n",
        "        for i in range(1, len(s)):\n",
        "            ans += abs(ord(s[i-1]) - ord(s[i]))\n",
        "\n",
        "        return ans"
      ],
      "metadata": {
        "id": "WlUzkQetLYUa"
      },
      "execution_count": null,
      "outputs": []
    }
  ]
}