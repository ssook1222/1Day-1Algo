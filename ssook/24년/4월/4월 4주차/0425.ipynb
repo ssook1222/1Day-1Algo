{
  "nbformat": 4,
  "nbformat_minor": 0,
  "metadata": {
    "colab": {
      "provenance": [],
      "authorship_tag": "ABX9TyMObQo3ukVObRb/ym9/m6UC",
      "include_colab_link": true
    },
    "kernelspec": {
      "name": "python3",
      "display_name": "Python 3"
    },
    "language_info": {
      "name": "python"
    }
  },
  "cells": [
    {
      "cell_type": "markdown",
      "metadata": {
        "id": "view-in-github",
        "colab_type": "text"
      },
      "source": [
        "<a href=\"https://colab.research.google.com/github/ssook1222/1Day-1Algo/blob/master/ssook/24%EB%85%84/4%EC%9B%94/4%EC%9B%94%204%EC%A3%BC%EC%B0%A8/0425.ipynb\" target=\"_parent\"><img src=\"https://colab.research.google.com/assets/colab-badge.svg\" alt=\"Open In Colab\"/></a>"
      ]
    },
    {
      "cell_type": "markdown",
      "source": [
        "## BoJ"
      ],
      "metadata": {
        "id": "HqoppEviI3m7"
      }
    },
    {
      "cell_type": "markdown",
      "source": [
        "### 26500"
      ],
      "metadata": {
        "id": "P6HrUN9yI5YZ"
      }
    },
    {
      "cell_type": "code",
      "execution_count": null,
      "metadata": {
        "colab": {
          "base_uri": "https://localhost:8080/"
        },
        "id": "rd6OcaGCI1uq",
        "outputId": "b8f36e33-50f0-4890-f8c8-70360f5859b8"
      },
      "outputs": [
        {
          "output_type": "stream",
          "name": "stdout",
          "text": [
            "3\n",
            "3 5\n",
            "2.0\n",
            "8.1 -9\n",
            "17.1\n",
            "-6.4 -18.34\n",
            "11.9\n"
          ]
        }
      ],
      "source": [
        "n = int(input())\n",
        "\n",
        "for _ in range(n):\n",
        "  v1, v2 = map(float, input().split())\n",
        "\n",
        "  ans = round(abs(v1 - v2), 1)\n",
        "\n",
        "  print(ans)"
      ]
    },
    {
      "cell_type": "markdown",
      "source": [
        "### 25932"
      ],
      "metadata": {
        "id": "5Yuh5Q2kI5_g"
      }
    },
    {
      "cell_type": "code",
      "source": [
        "n = int(input())\n",
        "\n",
        "for _ in range(n):\n",
        "  nums = list(map(int, input().split()))\n",
        "  print(*nums)\n",
        "  if 17 in nums and not 18 in nums:\n",
        "    print('zack')\n",
        "\n",
        "  elif 18 in nums and not 17 in nums:\n",
        "    print('mack')\n",
        "\n",
        "  elif 17 in nums and 18 in nums:\n",
        "    print('both')\n",
        "\n",
        "  else:\n",
        "    print('none')\n",
        "  print(' ')"
      ],
      "metadata": {
        "colab": {
          "base_uri": "https://localhost:8080/"
        },
        "id": "1jQ-EYkrI67Y",
        "outputId": "33fcb8cb-8a7c-4318-a2cf-27dbeb129cbc"
      },
      "execution_count": null,
      "outputs": [
        {
          "output_type": "stream",
          "name": "stdout",
          "text": [
            "4\n",
            "11 99 88 17 19 20 12 13 33 44\n",
            "11 99 88 17 19 20 12 13 33 44\n",
            "zack\n",
            " \n",
            "11 12 13 14 15 16 66 88 19 20\n",
            "11 12 13 14 15 16 66 88 19 20\n",
            "none\n",
            " \n",
            "20 18 55 66 77 88 17 33 44 11\n",
            "20 18 55 66 77 88 17 33 44 11\n",
            "zack\n",
            " \n",
            "12 23 34 45 56 67 78 89 91 18\n",
            "12 23 34 45 56 67 78 89 91 18\n",
            "mack\n",
            " \n"
          ]
        }
      ]
    },
    {
      "cell_type": "markdown",
      "source": [
        "---"
      ],
      "metadata": {
        "id": "dw1sIWRqI7Mn"
      }
    },
    {
      "cell_type": "markdown",
      "source": [
        "## CodeTree"
      ],
      "metadata": {
        "id": "IcQpjs0pI71N"
      }
    },
    {
      "cell_type": "markdown",
      "source": [
        "### 문자열 한 칸씩 밀어내며 뒤집기"
      ],
      "metadata": {
        "id": "L2s31hPEI9IW"
      }
    },
    {
      "cell_type": "code",
      "source": [
        "def shift_and_reverse(s, q):\n",
        "    for _ in range(q):\n",
        "        command = input().strip()\n",
        "        if command == '1':\n",
        "            s = s[1:] + s[0]\n",
        "        elif command == '2':\n",
        "            s = s[-1] + s[:-1]\n",
        "        elif command == '3':\n",
        "            s = s[::-1]\n",
        "        print(s)\n",
        "\n",
        "initial_string, num_requests = input().split()\n",
        "num_requests = int(num_requests)\n",
        "\n",
        "shift_and_reverse(initial_string, num_requests)"
      ],
      "metadata": {
        "id": "pdqSbsg1I9re"
      },
      "execution_count": null,
      "outputs": []
    }
  ]
}