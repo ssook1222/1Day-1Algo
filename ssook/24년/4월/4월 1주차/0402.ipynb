{
  "nbformat": 4,
  "nbformat_minor": 0,
  "metadata": {
    "colab": {
      "provenance": [],
      "authorship_tag": "ABX9TyOZCjyjpxxlpC7mHaRZqJ7Q",
      "include_colab_link": true
    },
    "kernelspec": {
      "name": "python3",
      "display_name": "Python 3"
    },
    "language_info": {
      "name": "python"
    }
  },
  "cells": [
    {
      "cell_type": "markdown",
      "metadata": {
        "id": "view-in-github",
        "colab_type": "text"
      },
      "source": [
        "<a href=\"https://colab.research.google.com/github/ssook1222/1Day-1Algo/blob/master/ssook/24%EB%85%84/4%EC%9B%94/4%EC%9B%94%201%EC%A3%BC%EC%B0%A8/0402.ipynb\" target=\"_parent\"><img src=\"https://colab.research.google.com/assets/colab-badge.svg\" alt=\"Open In Colab\"/></a>"
      ]
    },
    {
      "cell_type": "markdown",
      "source": [
        "## BoJ"
      ],
      "metadata": {
        "id": "24vqyJ7i2Byw"
      }
    },
    {
      "cell_type": "markdown",
      "source": [
        "### 31636"
      ],
      "metadata": {
        "id": "ROw5iKm_2DoV"
      }
    },
    {
      "cell_type": "code",
      "execution_count": null,
      "metadata": {
        "id": "u43lVwZg2Adu"
      },
      "outputs": [],
      "source": [
        "n = int(input())\n",
        "s = input()\n",
        "\n",
        "if \"ooo\" in s:\n",
        "  print(\"Yes\")\n",
        "\n",
        "else:\n",
        "  print(\"No\")"
      ]
    },
    {
      "cell_type": "markdown",
      "source": [
        "### 31518"
      ],
      "metadata": {
        "id": "Gtj1gIxp2EH6"
      }
    },
    {
      "cell_type": "code",
      "source": [
        "n = int(input())\n",
        "ans = 0\n",
        "\n",
        "for _ in range(3):\n",
        "  nums = list(map(int, input().split()))\n",
        "\n",
        "  if 7 in nums:\n",
        "    ans += 1\n",
        "\n",
        "if ans >= 3:\n",
        "  print(777)\n",
        "\n",
        "else:\n",
        "  print(0)"
      ],
      "metadata": {
        "id": "MsamRDBy2E_j"
      },
      "execution_count": null,
      "outputs": []
    },
    {
      "cell_type": "markdown",
      "source": [
        "---"
      ],
      "metadata": {
        "id": "YdcHccI22FZZ"
      }
    },
    {
      "cell_type": "markdown",
      "source": [
        "## CodeTree"
      ],
      "metadata": {
        "id": "U1BQ6ey92GcZ"
      }
    },
    {
      "cell_type": "markdown",
      "source": [
        "### ab 사이에 없는 c"
      ],
      "metadata": {
        "id": "Q-yCj22m2H7I"
      }
    },
    {
      "cell_type": "code",
      "source": [
        "chk = False\n",
        "\n",
        "a, b, c = map(int, input().split())\n",
        "\n",
        "for i in range(a, b+1):\n",
        "    if i % c == 0:\n",
        "        chk = True\n",
        "\n",
        "if not chk:\n",
        "    print(\"YES\")\n",
        "\n",
        "else:\n",
        "    print(\"NO\")"
      ],
      "metadata": {
        "id": "_ngCzZn-2Ico"
      },
      "execution_count": null,
      "outputs": []
    }
  ]
}