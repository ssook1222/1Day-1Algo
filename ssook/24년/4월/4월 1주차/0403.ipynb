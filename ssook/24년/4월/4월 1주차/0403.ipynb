{
  "nbformat": 4,
  "nbformat_minor": 0,
  "metadata": {
    "colab": {
      "provenance": [],
      "authorship_tag": "ABX9TyMU1SCNJLsUyxFBEyvkylWS",
      "include_colab_link": true
    },
    "kernelspec": {
      "name": "python3",
      "display_name": "Python 3"
    },
    "language_info": {
      "name": "python"
    }
  },
  "cells": [
    {
      "cell_type": "markdown",
      "metadata": {
        "id": "view-in-github",
        "colab_type": "text"
      },
      "source": [
        "<a href=\"https://colab.research.google.com/github/ssook1222/1Day-1Algo/blob/master/ssook/24%EB%85%84/4%EC%9B%94/4%EC%9B%94%201%EC%A3%BC%EC%B0%A8/0403.ipynb\" target=\"_parent\"><img src=\"https://colab.research.google.com/assets/colab-badge.svg\" alt=\"Open In Colab\"/></a>"
      ]
    },
    {
      "cell_type": "markdown",
      "source": [
        "## BoJ"
      ],
      "metadata": {
        "id": "5RM2vZ9GCvR-"
      }
    },
    {
      "cell_type": "markdown",
      "source": [
        "### 31612"
      ],
      "metadata": {
        "id": "ixuLy1n4CxFw"
      }
    },
    {
      "cell_type": "code",
      "execution_count": null,
      "metadata": {
        "colab": {
          "base_uri": "https://localhost:8080/"
        },
        "id": "t1Let7yJCtmn",
        "outputId": "8e98abcc-6811-40dd-ab52-7a5970d7e9f7"
      },
      "outputs": [
        {
          "output_type": "stream",
          "name": "stdout",
          "text": [
            "6\n",
            "jjooii\n",
            "10\n"
          ]
        }
      ],
      "source": [
        "n = int(input())\n",
        "s = input()\n",
        "\n",
        "alpha = {\"j\":2, \"o\":1, \"i\":2}\n",
        "\n",
        "cnt = 0\n",
        "\n",
        "for c in s:\n",
        "  cnt += alpha[c]\n",
        "\n",
        "print(cnt)"
      ]
    },
    {
      "cell_type": "markdown",
      "source": [
        "### 26350"
      ],
      "metadata": {
        "id": "hrm7gv6eCx1d"
      }
    },
    {
      "cell_type": "code",
      "source": [
        "t = int(input())\n",
        "\n",
        "for _ in range(t):\n",
        "    n, *coins = map(int, input().split())\n",
        "\n",
        "    flag = True\n",
        "    for i in range(1, n):\n",
        "        if coins[i] < 2 * coins[i-1]:\n",
        "            flag = False\n",
        "            break\n",
        "\n",
        "    print(\"Denominations:\", end=\"\")\n",
        "    for coin in coins:\n",
        "        print(\" \" + str(coin), end=\"\")\n",
        "    print()\n",
        "\n",
        "    if flag:\n",
        "        print(\"Good coin denominations!\")\n",
        "    else:\n",
        "        print(\"Bad coin denominations!\")\n",
        "\n",
        "    print()"
      ],
      "metadata": {
        "colab": {
          "base_uri": "https://localhost:8080/"
        },
        "id": "SDJKWQDtCzDZ",
        "outputId": "ae558ff4-d8a2-4c3e-b915-20cc62e29e62"
      },
      "execution_count": null,
      "outputs": [
        {
          "output_type": "stream",
          "name": "stdout",
          "text": [
            "2\n",
            "4 1 5 10 25\n",
            "Denominations: 1 5 10 25\n",
            "Good coin denominations!\n",
            "3 1 5 6\n",
            "Denominations: 1 5 6\n",
            "Bad coin denominations! \n"
          ]
        }
      ]
    },
    {
      "cell_type": "markdown",
      "source": [
        "---"
      ],
      "metadata": {
        "id": "V-ImBTQUCzuL"
      }
    },
    {
      "cell_type": "markdown",
      "source": [
        "## CodeTree"
      ],
      "metadata": {
        "id": "_dhA_SmSC0xT"
      }
    },
    {
      "cell_type": "markdown",
      "source": [
        "### 정상적인 구구단"
      ],
      "metadata": {
        "id": "l4uBMzuUC14k"
      }
    },
    {
      "cell_type": "code",
      "source": [
        "n = int(input())\n",
        "\n",
        "for i in range(1, n+1):\n",
        "    for j in range(1, n+1):\n",
        "        if j != n:\n",
        "            print(\"%d * %d = %d,\" %(i, j, i*j), end= ' ')\n",
        "        else:\n",
        "            print(\"%d * %d = %d\" %(i, j, i*j))"
      ],
      "metadata": {
        "id": "3-l0Pb__C2qb"
      },
      "execution_count": null,
      "outputs": []
    }
  ]
}