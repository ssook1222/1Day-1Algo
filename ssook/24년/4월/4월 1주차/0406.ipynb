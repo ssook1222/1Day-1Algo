{
  "nbformat": 4,
  "nbformat_minor": 0,
  "metadata": {
    "colab": {
      "provenance": [],
      "authorship_tag": "ABX9TyNCZtDSRAusYeTQTwOsWrdq",
      "include_colab_link": true
    },
    "kernelspec": {
      "name": "python3",
      "display_name": "Python 3"
    },
    "language_info": {
      "name": "python"
    }
  },
  "cells": [
    {
      "cell_type": "markdown",
      "metadata": {
        "id": "view-in-github",
        "colab_type": "text"
      },
      "source": [
        "<a href=\"https://colab.research.google.com/github/ssook1222/1Day-1Algo/blob/master/ssook/24%EB%85%84/4%EC%9B%94/4%EC%9B%94%201%EC%A3%BC%EC%B0%A8/0406.ipynb\" target=\"_parent\"><img src=\"https://colab.research.google.com/assets/colab-badge.svg\" alt=\"Open In Colab\"/></a>"
      ]
    },
    {
      "cell_type": "markdown",
      "source": [
        "## BoJ"
      ],
      "metadata": {
        "id": "CpLh_8TfeqQ2"
      }
    },
    {
      "cell_type": "markdown",
      "source": [
        "### 28940"
      ],
      "metadata": {
        "id": "cxqrx1cKesRO"
      }
    },
    {
      "cell_type": "code",
      "execution_count": null,
      "metadata": {
        "colab": {
          "base_uri": "https://localhost:8080/"
        },
        "id": "sHd2QEuaeEQ2",
        "outputId": "dfbe48a4-178f-4a44-c3b7-f93f1870048d"
      },
      "outputs": [
        {
          "output_type": "stream",
          "name": "stdout",
          "text": [
            "7 18\n",
            "25 2 6\n",
            "3\n"
          ]
        }
      ],
      "source": [
        "from math import ceil\n",
        "\n",
        "w, h = map(int, input().split())\n",
        "n, a, b = map(int, input().split())\n",
        "\n",
        "if w < a or h < b:\n",
        "    print(-1)\n",
        "\n",
        "else:\n",
        "    letter = (w // a) * (h // b)\n",
        "    ans = ceil(n / letter)\n",
        "    print(ans)"
      ]
    },
    {
      "cell_type": "markdown",
      "source": [
        "### 31615"
      ],
      "metadata": {
        "id": "KxpnVm1-etDa"
      }
    },
    {
      "cell_type": "code",
      "source": [
        "a1 = int(input())\n",
        "a2 = int(input())\n",
        "\n",
        "raw = str(a1+a2)\n",
        "ans = len(raw)\n",
        "\n",
        "print(ans)"
      ],
      "metadata": {
        "colab": {
          "base_uri": "https://localhost:8080/"
        },
        "id": "cY5RANWTetjZ",
        "outputId": "f934827a-8b66-4a7f-a28d-12541212602d"
      },
      "execution_count": null,
      "outputs": [
        {
          "output_type": "stream",
          "name": "stdout",
          "text": [
            "3\n",
            "9\n",
            "2\n"
          ]
        }
      ]
    },
    {
      "cell_type": "markdown",
      "source": [
        "---"
      ],
      "metadata": {
        "id": "9fiXt3o6euuu"
      }
    },
    {
      "cell_type": "markdown",
      "source": [
        "## CodeTree"
      ],
      "metadata": {
        "id": "ioAEYBKrevfz"
      }
    },
    {
      "cell_type": "markdown",
      "source": [
        "### 좌우 지그재그 출력"
      ],
      "metadata": {
        "id": "Xf0t3hKlew3_"
      }
    },
    {
      "cell_type": "code",
      "source": [
        "def print_pattern(n):\n",
        "    matrix = [[0] * n for _ in range(n)]\n",
        "    num = 1\n",
        "    for i in range(n):\n",
        "        if i % 2 == 0:\n",
        "            for j in range(n):\n",
        "                matrix[i][j] = num\n",
        "                num += 1\n",
        "        else:\n",
        "            for j in range(n - 1, -1, -1):\n",
        "                matrix[i][j] = num\n",
        "                num += 1\n",
        "\n",
        "    for row in matrix:\n",
        "        print(*row)\n",
        "\n",
        "\n",
        "n = int(input())\n",
        "\n",
        "print_pattern(n)"
      ],
      "metadata": {
        "id": "MJF7KH_4exgU"
      },
      "execution_count": null,
      "outputs": []
    }
  ]
}