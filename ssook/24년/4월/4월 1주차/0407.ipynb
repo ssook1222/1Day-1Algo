{
  "nbformat": 4,
  "nbformat_minor": 0,
  "metadata": {
    "colab": {
      "provenance": [],
      "authorship_tag": "ABX9TyMhiDuJPAqhYZyFQd5Y2z5o",
      "include_colab_link": true
    },
    "kernelspec": {
      "name": "python3",
      "display_name": "Python 3"
    },
    "language_info": {
      "name": "python"
    }
  },
  "cells": [
    {
      "cell_type": "markdown",
      "metadata": {
        "id": "view-in-github",
        "colab_type": "text"
      },
      "source": [
        "<a href=\"https://colab.research.google.com/github/ssook1222/1Day-1Algo/blob/master/ssook/24%EB%85%84/4%EC%9B%94/4%EC%9B%94%201%EC%A3%BC%EC%B0%A8/0407.ipynb\" target=\"_parent\"><img src=\"https://colab.research.google.com/assets/colab-badge.svg\" alt=\"Open In Colab\"/></a>"
      ]
    },
    {
      "cell_type": "markdown",
      "source": [
        "## BoJ"
      ],
      "metadata": {
        "id": "TP-3u9I8Bslj"
      }
    },
    {
      "cell_type": "markdown",
      "source": [
        "### 31746"
      ],
      "metadata": {
        "id": "8AQeziwTBtys"
      }
    },
    {
      "cell_type": "code",
      "execution_count": null,
      "metadata": {
        "colab": {
          "base_uri": "https://localhost:8080/"
        },
        "id": "W4tIA4DVBqpf",
        "outputId": "96587602-a357-4331-cd9f-42bfdcef9e39"
      },
      "outputs": [
        {
          "output_type": "stream",
          "name": "stdout",
          "text": [
            "2\n",
            "SciComLove\n"
          ]
        }
      ],
      "source": [
        "n = int(input())\n",
        "s = \"SciComLove\"\n",
        "\n",
        "if n % 2 != 0:\n",
        "    print(s[::-1])\n",
        "else:\n",
        "    print(s)"
      ]
    },
    {
      "cell_type": "markdown",
      "source": [
        "### 30319"
      ],
      "metadata": {
        "id": "mEp3xQXrBvnN"
      }
    },
    {
      "cell_type": "code",
      "source": [
        "from datetime import datetime, timedelta\n",
        "\n",
        "def check_contest_date(date_str):\n",
        "    contest_date = datetime.strptime(date_str, \"%Y-%m-%d\")\n",
        "    contest_start_date = datetime(2023, 10, 21)\n",
        "\n",
        "    latest_date = contest_start_date - timedelta(days=35)\n",
        "\n",
        "    if contest_date <= latest_date:\n",
        "        return \"GOOD\"\n",
        "    else:\n",
        "        return \"TOO LATE\"\n",
        "\n",
        "date_input = input().strip()\n",
        "\n",
        "print(check_contest_date(date_input))"
      ],
      "metadata": {
        "colab": {
          "base_uri": "https://localhost:8080/"
        },
        "id": "t5Hzk56QBwNu",
        "outputId": "8146c186-b801-4dd2-e43e-90ec7eff7364"
      },
      "execution_count": null,
      "outputs": [
        {
          "output_type": "stream",
          "name": "stdout",
          "text": [
            "2023-09-16\n",
            "GOOD\n"
          ]
        }
      ]
    },
    {
      "cell_type": "markdown",
      "source": [
        "---"
      ],
      "metadata": {
        "id": "cHFNpM5aBw_c"
      }
    },
    {
      "cell_type": "markdown",
      "source": [
        "## CodeTree"
      ],
      "metadata": {
        "id": "gDcbpD6ABx-1"
      }
    },
    {
      "cell_type": "markdown",
      "source": [
        "### 대각선으로 숫자 채우기"
      ],
      "metadata": {
        "id": "Aqz_-sYvBzMJ"
      }
    },
    {
      "cell_type": "code",
      "source": [
        "def fill_rectangle(n, m):\n",
        "    rectangle = [[0] * m for _ in range(n)]\n",
        "\n",
        "    num = 1\n",
        "    for i in range(n + m - 1):\n",
        "        for j in range(max(0, i - m + 1), min(i + 1, n)):\n",
        "            rectangle[j][i - j] = num\n",
        "            num += 1\n",
        "\n",
        "    for row in rectangle:\n",
        "        print(\" \".join(map(str, row)))\n",
        "\n",
        "n, m = map(int, input().split())\n",
        "\n",
        "fill_rectangle(n, m)"
      ],
      "metadata": {
        "id": "6vJbkLMYBz0R"
      },
      "execution_count": null,
      "outputs": []
    }
  ]
}