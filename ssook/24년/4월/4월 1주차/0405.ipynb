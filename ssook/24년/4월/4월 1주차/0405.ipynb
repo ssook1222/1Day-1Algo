{
  "nbformat": 4,
  "nbformat_minor": 0,
  "metadata": {
    "colab": {
      "provenance": [],
      "authorship_tag": "ABX9TyObYJ+9sMQgp4HmM3kxHmd2",
      "include_colab_link": true
    },
    "kernelspec": {
      "name": "python3",
      "display_name": "Python 3"
    },
    "language_info": {
      "name": "python"
    }
  },
  "cells": [
    {
      "cell_type": "markdown",
      "metadata": {
        "id": "view-in-github",
        "colab_type": "text"
      },
      "source": [
        "<a href=\"https://colab.research.google.com/github/ssook1222/1Day-1Algo/blob/master/ssook/24%EB%85%84/4%EC%9B%94/4%EC%9B%94%201%EC%A3%BC%EC%B0%A8/0405.ipynb\" target=\"_parent\"><img src=\"https://colab.research.google.com/assets/colab-badge.svg\" alt=\"Open In Colab\"/></a>"
      ]
    },
    {
      "cell_type": "markdown",
      "source": [
        "## BoJ"
      ],
      "metadata": {
        "id": "r3-7zxrE5RLl"
      }
    },
    {
      "cell_type": "markdown",
      "source": [
        "### 31607"
      ],
      "metadata": {
        "id": "t16g-Unv5Sty"
      }
    },
    {
      "cell_type": "code",
      "execution_count": null,
      "metadata": {
        "colab": {
          "base_uri": "https://localhost:8080/"
        },
        "id": "IyHW5QCt5Okd",
        "outputId": "c874bfe7-2e67-4785-e1f1-626998a572eb"
      },
      "outputs": [
        {
          "output_type": "stream",
          "name": "stdout",
          "text": [
            "3\n",
            "5\n",
            "2\n",
            "1\n"
          ]
        }
      ],
      "source": [
        "nums = []\n",
        "\n",
        "for _ in range(3):\n",
        "  num = int(input())\n",
        "  nums.append(num)\n",
        "\n",
        "nums.sort()\n",
        "\n",
        "if nums[0] + nums[1] == nums[2]:\n",
        "  print(1)\n",
        "\n",
        "else:\n",
        "  print(0)\n"
      ]
    },
    {
      "cell_type": "markdown",
      "source": [
        "### 28960"
      ],
      "metadata": {
        "id": "_6-SpbVn5USF"
      }
    },
    {
      "cell_type": "code",
      "source": [
        "h, l, a, b = map(int, input().split())\n",
        "\n",
        "if (h >= a / 2 and l >= b) or (h >= b / 2 and l >= a):\n",
        "    print(\"YES\")\n",
        "else:\n",
        "    print(\"NO\")"
      ],
      "metadata": {
        "colab": {
          "base_uri": "https://localhost:8080/"
        },
        "id": "Fw5aoh8T5V4v",
        "outputId": "97001f09-88fd-45c2-d300-47705e9b9c02"
      },
      "execution_count": null,
      "outputs": [
        {
          "output_type": "stream",
          "name": "stdout",
          "text": [
            "100 100 50 50\n",
            "YES\n"
          ]
        }
      ]
    },
    {
      "cell_type": "markdown",
      "source": [
        "## CodeTree"
      ],
      "metadata": {
        "id": "yd0DM7Qy5WFa"
      }
    },
    {
      "cell_type": "markdown",
      "source": [
        "### 좌우로 반복하며 출력"
      ],
      "metadata": {
        "id": "qVgSSBUr5XLH"
      }
    },
    {
      "cell_type": "code",
      "source": [
        "n = int(input())\n",
        "\n",
        "for i in range(n):\n",
        "    if i % 2 == 0:\n",
        "        print(\"\".join(str(j) for j in range(1, n+1)))\n",
        "    else:\n",
        "        print(\"\".join(str(j) for j in range(n, 0, -1)))"
      ],
      "metadata": {
        "id": "mhIozNQj5X8x"
      },
      "execution_count": null,
      "outputs": []
    }
  ]
}