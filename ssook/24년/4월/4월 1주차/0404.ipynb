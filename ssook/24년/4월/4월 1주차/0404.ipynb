{
  "nbformat": 4,
  "nbformat_minor": 0,
  "metadata": {
    "colab": {
      "provenance": [],
      "authorship_tag": "ABX9TyMUDHoZD+5T/wlvsbA3wcxD",
      "include_colab_link": true
    },
    "kernelspec": {
      "name": "python3",
      "display_name": "Python 3"
    },
    "language_info": {
      "name": "python"
    }
  },
  "cells": [
    {
      "cell_type": "markdown",
      "metadata": {
        "id": "view-in-github",
        "colab_type": "text"
      },
      "source": [
        "<a href=\"https://colab.research.google.com/github/ssook1222/1Day-1Algo/blob/master/ssook/24%EB%85%84/4%EC%9B%94/4%EC%9B%94%201%EC%A3%BC%EC%B0%A8/0404.ipynb\" target=\"_parent\"><img src=\"https://colab.research.google.com/assets/colab-badge.svg\" alt=\"Open In Colab\"/></a>"
      ]
    },
    {
      "cell_type": "markdown",
      "source": [
        "## BoJ"
      ],
      "metadata": {
        "id": "yUrN3Yd5b0RZ"
      }
    },
    {
      "cell_type": "markdown",
      "source": [
        "### 31520"
      ],
      "metadata": {
        "id": "cYCYrXe4b11m"
      }
    },
    {
      "cell_type": "code",
      "execution_count": null,
      "metadata": {
        "colab": {
          "base_uri": "https://localhost:8080/"
        },
        "id": "qhP1JE-0bov_",
        "outputId": "865f0895-ef28-42ba-92a6-b24c4e364e1a"
      },
      "outputs": [
        {
          "output_type": "stream",
          "name": "stdout",
          "text": [
            "123456789\n",
            "9\n"
          ]
        }
      ],
      "source": [
        "raw = input()\n",
        "chk = False\n",
        "\n",
        "for i in range(len(raw)):\n",
        "  if int(raw[i]) != i+1:\n",
        "    chk = True\n",
        "\n",
        "if chk:\n",
        "  print(-1)\n",
        "else:\n",
        "  print(raw[-1])"
      ]
    },
    {
      "cell_type": "markdown",
      "source": [
        "### 26495"
      ],
      "metadata": {
        "id": "nGjdI6Gpb9aR"
      }
    },
    {
      "cell_type": "code",
      "source": [
        "raw = [\"0000\\n0  0\\n0  0\\n0  0\\n0000\",\n",
        "        \"   1\\n   1\\n   1\\n   1\\n   1\",\n",
        "        \"2222\\n   2\\n2222\\n2\\n2222\",\n",
        "        \"3333\\n   3\\n3333\\n   3\\n3333\",\n",
        "        \"4  4\\n4  4\\n4444\\n   4\\n   4\",\n",
        "        \"5555\\n5\\n5555\\n   5\\n5555\",\n",
        "        \"6666\\n6\\n6666\\n6  6\\n6666\",\n",
        "        \"7777\\n   7\\n   7\\n   7\\n   7\",\n",
        "        \"8888\\n8  8\\n8888\\n8  8\\n8888\",\n",
        "        \"9999\\n9  9\\n9999\\n   9\\n   9\"]\n",
        "\n",
        "s = input()\n",
        "for i in range(len(s)):\n",
        "  print(raw[int(s[i])] + \"\\n\")"
      ],
      "metadata": {
        "colab": {
          "base_uri": "https://localhost:8080/"
        },
        "id": "d-EjdNOyb-GS",
        "outputId": "7ee96ce4-34ba-4b1d-b4bc-9bdb082ac295"
      },
      "execution_count": null,
      "outputs": [
        {
          "output_type": "stream",
          "name": "stdout",
          "text": [
            "8436\n",
            "8888\n",
            "8  8\n",
            "8888\n",
            "8  8\n",
            "8888\n",
            "\n",
            "4  4\n",
            "4  4\n",
            "4444\n",
            "   4\n",
            "   4\n",
            "\n",
            "3333\n",
            "   3\n",
            "3333\n",
            "   3\n",
            "3333\n",
            "\n",
            "6666\n",
            "6\n",
            "6666\n",
            "6  6\n",
            "6666\n",
            "\n"
          ]
        }
      ]
    },
    {
      "cell_type": "markdown",
      "source": [
        "---"
      ],
      "metadata": {
        "id": "HPYiKeqKb-re"
      }
    },
    {
      "cell_type": "markdown",
      "source": [
        "## CodeTree"
      ],
      "metadata": {
        "id": "gZ3OJbLdb_hV"
      }
    },
    {
      "cell_type": "markdown",
      "source": [
        "### 정사각 알파벳 출력하기"
      ],
      "metadata": {
        "id": "s6rfPDeacBsh"
      }
    },
    {
      "cell_type": "code",
      "source": [
        "def print_alphabets(n):\n",
        "    current_char = ord('A')\n",
        "\n",
        "    for i in range(n):\n",
        "        for j in range(n):\n",
        "            print(chr(current_char), end=\"\")\n",
        "            current_char += 1\n",
        "\n",
        "            if current_char > ord('Z'):\n",
        "                current_char = ord('A')\n",
        "        print()\n",
        "\n",
        "n = int(input())\n",
        "\n",
        "print_alphabets(n)"
      ],
      "metadata": {
        "id": "Cd9KX4HpcDIZ"
      },
      "execution_count": null,
      "outputs": []
    }
  ]
}