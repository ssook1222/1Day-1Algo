{
  "nbformat": 4,
  "nbformat_minor": 0,
  "metadata": {
    "colab": {
      "provenance": [],
      "authorship_tag": "ABX9TyPJ2zylVknAOPVQi4MSDjen",
      "include_colab_link": true
    },
    "kernelspec": {
      "name": "python3",
      "display_name": "Python 3"
    },
    "language_info": {
      "name": "python"
    }
  },
  "cells": [
    {
      "cell_type": "markdown",
      "metadata": {
        "id": "view-in-github",
        "colab_type": "text"
      },
      "source": [
        "<a href=\"https://colab.research.google.com/github/ssook1222/1Day-1Algo/blob/master/ssook/24%EB%85%84/4%EC%9B%94/4%EC%9B%94%201%EC%A3%BC%EC%B0%A8/0401.ipynb\" target=\"_parent\"><img src=\"https://colab.research.google.com/assets/colab-badge.svg\" alt=\"Open In Colab\"/></a>"
      ]
    },
    {
      "cell_type": "markdown",
      "source": [
        "## BoJ"
      ],
      "metadata": {
        "id": "g00O1Tr9npGQ"
      }
    },
    {
      "cell_type": "markdown",
      "source": [
        "### 31616"
      ],
      "metadata": {
        "id": "KgpVuTNNnqts"
      }
    },
    {
      "cell_type": "code",
      "execution_count": null,
      "metadata": {
        "colab": {
          "base_uri": "https://localhost:8080/"
        },
        "id": "mOSkct7HnmaV",
        "outputId": "e0cafeba-d3d5-45e8-926e-746995954372"
      },
      "outputs": [
        {
          "output_type": "stream",
          "name": "stdout",
          "text": [
            "4\n",
            "bbbb\n",
            "Yes\n"
          ]
        }
      ],
      "source": [
        "n = input()\n",
        "\n",
        "standard = set(input())\n",
        "length = len(standard)\n",
        "\n",
        "if length == 1:\n",
        "  print(\"Yes\")\n",
        "\n",
        "else:\n",
        "  print(\"No\")"
      ]
    },
    {
      "cell_type": "markdown",
      "source": [
        "### 31609"
      ],
      "metadata": {
        "id": "YmuFus66nrVV"
      }
    },
    {
      "cell_type": "code",
      "source": [
        "n = input()\n",
        "\n",
        "lst = sorted(set(list(map(int, input().split()))))\n",
        "lst.sort()\n",
        "\n",
        "for n in lst:\n",
        "  print(n)"
      ],
      "metadata": {
        "colab": {
          "base_uri": "https://localhost:8080/"
        },
        "id": "rbpUsWqcnr91",
        "outputId": "d009f313-c9a9-45ee-f620-ca35ce20de6f"
      },
      "execution_count": null,
      "outputs": [
        {
          "output_type": "stream",
          "name": "stdout",
          "text": [
            "8\n",
            "2 0 2 3 0 9 1 6\n",
            "0\n",
            "1\n",
            "2\n",
            "3\n",
            "6\n",
            "9\n"
          ]
        }
      ]
    },
    {
      "cell_type": "markdown",
      "source": [
        "---"
      ],
      "metadata": {
        "id": "zMgIraGPnsoc"
      }
    },
    {
      "cell_type": "markdown",
      "source": [
        "## CodeTree"
      ],
      "metadata": {
        "id": "0YS6dEsKntYM"
      }
    },
    {
      "cell_type": "markdown",
      "source": [
        "### a/b 출력"
      ],
      "metadata": {
        "id": "BogVVgEHnvFb"
      }
    },
    {
      "cell_type": "code",
      "source": [
        "from decimal import Decimal, getcontext\n",
        "\n",
        "getcontext().prec = 28\n",
        "\n",
        "a, b = map(int, input().split())\n",
        "\n",
        "result = Decimal(a) / Decimal(b)\n",
        "rounded_result = \"{:.21f}\".format(result)\n",
        "print(rounded_result[:22])"
      ],
      "metadata": {
        "id": "hxugHxZ6nvmb"
      },
      "execution_count": null,
      "outputs": []
    }
  ]
}