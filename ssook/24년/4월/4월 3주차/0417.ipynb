{
  "nbformat": 4,
  "nbformat_minor": 0,
  "metadata": {
    "colab": {
      "provenance": [],
      "authorship_tag": "ABX9TyPNFbibQEWltPrAZwAYV4HA",
      "include_colab_link": true
    },
    "kernelspec": {
      "name": "python3",
      "display_name": "Python 3"
    },
    "language_info": {
      "name": "python"
    }
  },
  "cells": [
    {
      "cell_type": "markdown",
      "metadata": {
        "id": "view-in-github",
        "colab_type": "text"
      },
      "source": [
        "<a href=\"https://colab.research.google.com/github/ssook1222/1Day-1Algo/blob/master/ssook/24%EB%85%84/4%EC%9B%94/4%EC%9B%94%203%EC%A3%BC%EC%B0%A8/0417.ipynb\" target=\"_parent\"><img src=\"https://colab.research.google.com/assets/colab-badge.svg\" alt=\"Open In Colab\"/></a>"
      ]
    },
    {
      "cell_type": "markdown",
      "source": [
        "## BoJ"
      ],
      "metadata": {
        "id": "ml8TmUfbjHRJ"
      }
    },
    {
      "cell_type": "markdown",
      "source": [
        "### 27332"
      ],
      "metadata": {
        "id": "dSlM8bCfjJES"
      }
    },
    {
      "cell_type": "code",
      "execution_count": null,
      "metadata": {
        "id": "2n9aPYaUjFma",
        "colab": {
          "base_uri": "https://localhost:8080/"
        },
        "outputId": "b8242bb8-2fdd-42c5-c02e-cc19509d2a80"
      },
      "outputs": [
        {
          "output_type": "stream",
          "name": "stdout",
          "text": [
            "8\n",
            "3\n",
            "1\n"
          ]
        }
      ],
      "source": [
        "a = int(input())\n",
        "b = int(input())\n",
        "\n",
        "if a + b * 7 > 30:\n",
        "  print(0)\n",
        "\n",
        "else:\n",
        "  print(1)"
      ]
    },
    {
      "cell_type": "markdown",
      "source": [
        "### 27475"
      ],
      "metadata": {
        "id": "acscOwC2jKNh"
      }
    },
    {
      "cell_type": "code",
      "source": [
        "def main():\n",
        "    cnt_case = int(input())\n",
        "\n",
        "    for _ in range(cnt_case):\n",
        "        n, m = map(int, input().split())\n",
        "\n",
        "        bottom = list(map(int, input().split()))\n",
        "        left = list(map(int, input().split()))\n",
        "\n",
        "        ans = 0\n",
        "        for i in range(n):\n",
        "            if bottom[i] in left:\n",
        "                ans += 1\n",
        "\n",
        "        print(ans)\n",
        "\n",
        "if __name__ == \"__main__\":\n",
        "    main()"
      ],
      "metadata": {
        "id": "fj3Jyw6jjK1K",
        "colab": {
          "base_uri": "https://localhost:8080/"
        },
        "outputId": "30ef2f2e-bdc8-4d16-eddd-be3158af0c9b"
      },
      "execution_count": null,
      "outputs": [
        {
          "output_type": "stream",
          "name": "stdout",
          "text": [
            "3\n",
            "1 2\n",
            "1\n",
            "3 4\n",
            "0\n",
            "3 2\n",
            "1 3 4\n",
            "2 4\n",
            "1\n",
            "9 14\n",
            "2 7 16 28 33 57 59 86 99\n",
            "3 9 14 19 25 26 28 35 41 59 85 87 99 100\n",
            "3\n"
          ]
        }
      ]
    },
    {
      "cell_type": "markdown",
      "source": [
        "---"
      ],
      "metadata": {
        "id": "2dIhqoYSjLki"
      }
    },
    {
      "cell_type": "markdown",
      "source": [
        "## CodeTree"
      ],
      "metadata": {
        "id": "bKqH4TDtjMc3"
      }
    },
    {
      "cell_type": "markdown",
      "source": [
        "### 구구단으로 이루어진 직각 삼각형"
      ],
      "metadata": {
        "id": "scOXNZ8hjN6L"
      }
    },
    {
      "cell_type": "code",
      "source": [
        "def print_gugu_triangle(n):\n",
        "    for i in range(1, n+1):\n",
        "        for j in range(1, n+2-i):\n",
        "            if j == n+1-i:\n",
        "                print(f\"{i} * {j} = {i*j}\")\n",
        "            else:\n",
        "                print(f\"{i} * {j} = {i*j}\", end=\" / \")\n",
        "\n",
        "def main():\n",
        "    n = int(input())\n",
        "\n",
        "    print_gugu_triangle(n)\n",
        "\n",
        "if __name__ == \"__main__\":\n",
        "    main()"
      ],
      "metadata": {
        "id": "RNyTAR5bjO1x"
      },
      "execution_count": null,
      "outputs": []
    }
  ]
}