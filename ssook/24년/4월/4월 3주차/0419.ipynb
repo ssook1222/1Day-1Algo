{
  "nbformat": 4,
  "nbformat_minor": 0,
  "metadata": {
    "colab": {
      "provenance": [],
      "authorship_tag": "ABX9TyMGjXgX1w/3w4VsuPR8CqpM",
      "include_colab_link": true
    },
    "kernelspec": {
      "name": "python3",
      "display_name": "Python 3"
    },
    "language_info": {
      "name": "python"
    }
  },
  "cells": [
    {
      "cell_type": "markdown",
      "metadata": {
        "id": "view-in-github",
        "colab_type": "text"
      },
      "source": [
        "<a href=\"https://colab.research.google.com/github/ssook1222/1Day-1Algo/blob/master/ssook/24%EB%85%84/4%EC%9B%94/4%EC%9B%94%203%EC%A3%BC%EC%B0%A8/0419.ipynb\" target=\"_parent\"><img src=\"https://colab.research.google.com/assets/colab-badge.svg\" alt=\"Open In Colab\"/></a>"
      ]
    },
    {
      "cell_type": "markdown",
      "source": [
        "## BoJ"
      ],
      "metadata": {
        "id": "wHPyhzjY2jdt"
      }
    },
    {
      "cell_type": "markdown",
      "source": [
        "### 28249"
      ],
      "metadata": {
        "id": "BTvKFeYg2kwG"
      }
    },
    {
      "cell_type": "code",
      "execution_count": null,
      "metadata": {
        "id": "_rjW8vve2g3c",
        "colab": {
          "base_uri": "https://localhost:8080/"
        },
        "outputId": "6a5063bc-dd05-442f-a095-08cbc0728035"
      },
      "outputs": [
        {
          "output_type": "stream",
          "name": "stdout",
          "text": [
            "4\n",
            "Poblano\n",
            "Cayenne\n",
            "Thai\n",
            "Poblano\n",
            "118000\n"
          ]
        }
      ],
      "source": [
        "n = int(input())\n",
        "chili = {'Poblano':1500, 'Mirasol': 6000, 'Serrano': 15500, 'Cayenne': 40000, 'Thai': 75000, 'Habanero': 125000}\n",
        "ans = 0\n",
        "\n",
        "for _ in range(n):\n",
        "  name = input()\n",
        "\n",
        "  ans += chili[name]\n",
        "\n",
        "print(ans)"
      ]
    },
    {
      "cell_type": "markdown",
      "source": [
        "### 25828"
      ],
      "metadata": {
        "id": "FcrEW5w_2lYt"
      }
    },
    {
      "cell_type": "code",
      "source": [
        "g, p, t = map(int, input().split())\n",
        "\n",
        "group_test = (t * p) + g\n",
        "total_people = g * p\n",
        "\n",
        "if group_test > total_people:\n",
        "  print(1)\n",
        "\n",
        "elif group_test < total_people:\n",
        "  print(2)\n",
        "\n",
        "else:\n",
        "  print(0)"
      ],
      "metadata": {
        "id": "KeJXVsEQ2mB0",
        "colab": {
          "base_uri": "https://localhost:8080/"
        },
        "outputId": "1d6c2e90-470d-468b-e8a8-2d11159211c5"
      },
      "execution_count": null,
      "outputs": [
        {
          "output_type": "stream",
          "name": "stdout",
          "text": [
            "20 10 18\n",
            "0\n"
          ]
        }
      ]
    },
    {
      "cell_type": "markdown",
      "source": [
        "---"
      ],
      "metadata": {
        "id": "q6GGb3JG2m4H"
      }
    },
    {
      "cell_type": "markdown",
      "source": [
        "## CodeTree"
      ],
      "metadata": {
        "id": "0e-fI4MF2oAB"
      }
    },
    {
      "cell_type": "markdown",
      "source": [
        "### 자동차 단일 거래 이익 최대화하기"
      ],
      "metadata": {
        "id": "Wj9LHP1w2pMd"
      }
    },
    {
      "cell_type": "code",
      "source": [
        "n = int(input())\n",
        "price = list(map(int, input().split()))\n",
        "\n",
        "max_profit = 0\n",
        "min_price = price[0]\n",
        "\n",
        "for i in range(1, n):\n",
        "    min_price = min(min_price, price[i])\n",
        "    max_profit = max(max_profit, price[i] - min_price)\n",
        "\n",
        "print(max_profit)"
      ],
      "metadata": {
        "id": "Fy2lto0l2p2d"
      },
      "execution_count": null,
      "outputs": []
    }
  ]
}