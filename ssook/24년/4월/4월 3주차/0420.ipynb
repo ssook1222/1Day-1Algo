{
  "nbformat": 4,
  "nbformat_minor": 0,
  "metadata": {
    "colab": {
      "provenance": [],
      "authorship_tag": "ABX9TyOAbxQ/8QdHp7gjymqO8g29",
      "include_colab_link": true
    },
    "kernelspec": {
      "name": "python3",
      "display_name": "Python 3"
    },
    "language_info": {
      "name": "python"
    }
  },
  "cells": [
    {
      "cell_type": "markdown",
      "metadata": {
        "id": "view-in-github",
        "colab_type": "text"
      },
      "source": [
        "<a href=\"https://colab.research.google.com/github/ssook1222/1Day-1Algo/blob/master/ssook/24%EB%85%84/4%EC%9B%94/4%EC%9B%94%203%EC%A3%BC%EC%B0%A8/0420.ipynb\" target=\"_parent\"><img src=\"https://colab.research.google.com/assets/colab-badge.svg\" alt=\"Open In Colab\"/></a>"
      ]
    },
    {
      "cell_type": "markdown",
      "source": [
        "## BoJ"
      ],
      "metadata": {
        "id": "p891jU4g2U4x"
      }
    },
    {
      "cell_type": "markdown",
      "source": [
        "### 22279"
      ],
      "metadata": {
        "id": "J-O0-z4B2WBg"
      }
    },
    {
      "cell_type": "code",
      "source": [
        "n = int(input())\n",
        "qaly = 0.0\n",
        "\n",
        "for _ in range(n):\n",
        "  n, q = map(float, input().split())\n",
        "  qaly += n*q\n",
        "\n",
        "print(qaly)"
      ],
      "metadata": {
        "colab": {
          "base_uri": "https://localhost:8080/"
        },
        "id": "Uonfd7L57z_p",
        "outputId": "09005f27-ae8b-486a-b020-24d5b91b489f"
      },
      "execution_count": null,
      "outputs": [
        {
          "output_type": "stream",
          "name": "stdout",
          "text": [
            "5\n",
            "1.0 12.0\n",
            "0.7 5.2\n",
            "0.9 10.7\n",
            "0.5 20.4\n",
            "0.2 30.0\n",
            "41.47\n"
          ]
        }
      ]
    },
    {
      "cell_type": "markdown",
      "source": [
        "### 30793"
      ],
      "metadata": {
        "id": "KP6Q1_if2Wp0"
      }
    },
    {
      "cell_type": "code",
      "source": [
        "p, r = map(int, input().split())\n",
        "\n",
        "rate = p / r\n",
        "\n",
        "if rate < 0.2:\n",
        "  print('weak')\n",
        "\n",
        "elif 0.2 <= rate < 0.4:\n",
        "  print('normal')\n",
        "\n",
        "elif 0.4 <= rate < 0.6:\n",
        "  print('strong')\n",
        "\n",
        "else:\n",
        "  print('very strong')"
      ],
      "metadata": {
        "colab": {
          "base_uri": "https://localhost:8080/"
        },
        "id": "Mkba4_-b2XMA",
        "outputId": "b62a5663-ce88-4c6d-ee4b-16350426f000"
      },
      "execution_count": null,
      "outputs": [
        {
          "output_type": "stream",
          "name": "stdout",
          "text": [
            "19 100\n",
            "weak\n"
          ]
        }
      ]
    },
    {
      "cell_type": "markdown",
      "source": [
        "---"
      ],
      "metadata": {
        "id": "JGy-JMwe2Xl6"
      }
    },
    {
      "cell_type": "markdown",
      "source": [
        "## CodeTree"
      ],
      "metadata": {
        "id": "1Sefr6wQ2YeA"
      }
    },
    {
      "cell_type": "markdown",
      "source": [
        "### 9-1 정사각형"
      ],
      "metadata": {
        "id": "RtUGeyVc2ZcQ"
      }
    },
    {
      "cell_type": "code",
      "source": [
        "def print_square(n):\n",
        "    num = 9\n",
        "    for i in range(n):\n",
        "        row = ''\n",
        "        for j in range(n):\n",
        "            row += str(num)\n",
        "            num -= 1\n",
        "            if num == 0:\n",
        "                num = 9\n",
        "        print(row)\n",
        "\n",
        "n = int(input())\n",
        "print_square(n)"
      ],
      "metadata": {
        "id": "gk8GvqsZ2aJZ"
      },
      "execution_count": null,
      "outputs": []
    }
  ]
}