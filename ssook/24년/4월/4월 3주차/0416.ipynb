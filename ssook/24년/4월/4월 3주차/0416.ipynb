{
  "nbformat": 4,
  "nbformat_minor": 0,
  "metadata": {
    "colab": {
      "provenance": [],
      "authorship_tag": "ABX9TyO+7d6QjnZ1KBhYLABuasx2",
      "include_colab_link": true
    },
    "kernelspec": {
      "name": "python3",
      "display_name": "Python 3"
    },
    "language_info": {
      "name": "python"
    }
  },
  "cells": [
    {
      "cell_type": "markdown",
      "metadata": {
        "id": "view-in-github",
        "colab_type": "text"
      },
      "source": [
        "<a href=\"https://colab.research.google.com/github/ssook1222/1Day-1Algo/blob/master/ssook/24%EB%85%84/4%EC%9B%94/4%EC%9B%94%203%EC%A3%BC%EC%B0%A8/0416.ipynb\" target=\"_parent\"><img src=\"https://colab.research.google.com/assets/colab-badge.svg\" alt=\"Open In Colab\"/></a>"
      ]
    },
    {
      "cell_type": "markdown",
      "source": [
        "## BoJ"
      ],
      "metadata": {
        "id": "jfMfa5Ey6t8a"
      }
    },
    {
      "cell_type": "markdown",
      "source": [
        "### 25784"
      ],
      "metadata": {
        "id": "r_8V3-dh6sJp"
      }
    },
    {
      "cell_type": "code",
      "execution_count": null,
      "metadata": {
        "colab": {
          "base_uri": "https://localhost:8080/"
        },
        "id": "2xj7bwWj6n9m",
        "outputId": "73da22cc-d116-4d74-8e95-590b1ba7821a"
      },
      "outputs": [
        {
          "output_type": "stream",
          "name": "stdout",
          "text": [
            "10 30 20\n",
            "1\n"
          ]
        }
      ],
      "source": [
        "nums = list(map(int, input().split()))\n",
        "nums.sort()\n",
        "\n",
        "if nums[0] + nums[1] == nums[2]:\n",
        "  print('1')\n",
        "\n",
        "elif nums[0] * nums[1] == nums[2]:\n",
        "  print('2')\n",
        "\n",
        "else:\n",
        "  print('3')"
      ]
    },
    {
      "cell_type": "markdown",
      "source": [
        "### 26933"
      ],
      "metadata": {
        "id": "5ckAGMWz6vz1"
      }
    },
    {
      "cell_type": "code",
      "source": [
        "n = int(input())\n",
        "ans = 0\n",
        "\n",
        "for _ in range(n):\n",
        "  now, need, cost = map(int, input().split())\n",
        "\n",
        "  if now > need:\n",
        "    pass\n",
        "\n",
        "  else:\n",
        "    ans += (need - now) * cost\n",
        "\n",
        "print(ans)"
      ],
      "metadata": {
        "colab": {
          "base_uri": "https://localhost:8080/"
        },
        "id": "VkyrxtwU6wuW",
        "outputId": "aa3ba723-4513-44de-93c9-4e47f5dcf92e"
      },
      "execution_count": null,
      "outputs": [
        {
          "output_type": "stream",
          "name": "stdout",
          "text": [
            "3\n",
            "10 5 1000\n",
            "0 4 5\n",
            "2 5 1\n",
            "23\n"
          ]
        }
      ]
    },
    {
      "cell_type": "markdown",
      "source": [
        "---"
      ],
      "metadata": {
        "id": "ORiidC-q6xA8"
      }
    },
    {
      "cell_type": "markdown",
      "source": [
        "## CodeTree"
      ],
      "metadata": {
        "id": "BHXF0iQW6zSI"
      }
    },
    {
      "cell_type": "markdown",
      "source": [
        "### 특이한 출력"
      ],
      "metadata": {
        "id": "pU5QHYAL60Lk"
      }
    },
    {
      "cell_type": "code",
      "source": [
        "def print_special_pattern(n):\n",
        "    for i in range(1, n + 1):\n",
        "        for j in range(1, n + 1):\n",
        "            print(f'({i}, {j})', end=' ')\n",
        "            if (i + j) % 4 == 0:\n",
        "                print()\n",
        "\n",
        "n = int(input())\n",
        "print_special_pattern(n)"
      ],
      "metadata": {
        "id": "yOdmqJSR60-J"
      },
      "execution_count": null,
      "outputs": []
    }
  ]
}