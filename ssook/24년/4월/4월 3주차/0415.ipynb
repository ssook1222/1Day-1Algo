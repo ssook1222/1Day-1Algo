{
  "nbformat": 4,
  "nbformat_minor": 0,
  "metadata": {
    "colab": {
      "provenance": [],
      "authorship_tag": "ABX9TyPSHKDKk8Bd/XvoAZgKq5V7",
      "include_colab_link": true
    },
    "kernelspec": {
      "name": "python3",
      "display_name": "Python 3"
    },
    "language_info": {
      "name": "python"
    }
  },
  "cells": [
    {
      "cell_type": "markdown",
      "metadata": {
        "id": "view-in-github",
        "colab_type": "text"
      },
      "source": [
        "<a href=\"https://colab.research.google.com/github/ssook1222/1Day-1Algo/blob/master/ssook/24%EB%85%84/4%EC%9B%94/4%EC%9B%94%203%EC%A3%BC%EC%B0%A8/0415.ipynb\" target=\"_parent\"><img src=\"https://colab.research.google.com/assets/colab-badge.svg\" alt=\"Open In Colab\"/></a>"
      ]
    },
    {
      "cell_type": "markdown",
      "source": [
        "## BoJ"
      ],
      "metadata": {
        "id": "34NaM0yN_k-V"
      }
    },
    {
      "cell_type": "markdown",
      "source": [
        "### 26332"
      ],
      "metadata": {
        "id": "OxB34htP_m6c"
      }
    },
    {
      "cell_type": "code",
      "execution_count": null,
      "metadata": {
        "colab": {
          "base_uri": "https://localhost:8080/"
        },
        "id": "JAid6FPB_g_4",
        "outputId": "ed16b40e-abb0-4320-d64c-b2dc52c81118"
      },
      "outputs": [
        {
          "output_type": "stream",
          "name": "stdout",
          "text": [
            "2\n",
            "1 5\n",
            "1 5\n",
            "5\n",
            "3 10\n",
            "3 10\n",
            "26\n"
          ]
        }
      ],
      "source": [
        "def calculate_total_cost(items, price):\n",
        "    if items == 1:\n",
        "        return items * price\n",
        "    else:\n",
        "        return price + (items - 1) * (price - 2)\n",
        "\n",
        "n = int(input())\n",
        "\n",
        "for _ in range(n):\n",
        "    items, price = map(int, input().split())\n",
        "\n",
        "    total_cost = calculate_total_cost(items, price)\n",
        "\n",
        "    print(items, price)\n",
        "    print(total_cost)"
      ]
    },
    {
      "cell_type": "markdown",
      "source": [
        "### 30033"
      ],
      "metadata": {
        "id": "6RMXYx5q_o6X"
      }
    },
    {
      "cell_type": "code",
      "source": [
        "n = int(input())\n",
        "\n",
        "goal = list(map(int, input().split()))\n",
        "real = list(map(int, input().split()))\n",
        "\n",
        "cnt = 0\n",
        "\n",
        "for i in range(n):\n",
        "  if goal[i] <= real[i]:\n",
        "    cnt += 1\n",
        "\n",
        "print(cnt)"
      ],
      "metadata": {
        "colab": {
          "base_uri": "https://localhost:8080/"
        },
        "id": "I8Qg9c9X_rxH",
        "outputId": "cd6c8009-9e22-4d62-b7d3-2eb2655c6705"
      },
      "execution_count": null,
      "outputs": [
        {
          "output_type": "stream",
          "name": "stdout",
          "text": [
            "5\n",
            "5 6 7 8 9\n",
            "5 5 5 10 10\n",
            "3\n"
          ]
        }
      ]
    },
    {
      "cell_type": "markdown",
      "source": [
        "---"
      ],
      "metadata": {
        "id": "xXy4igUR_tep"
      }
    },
    {
      "cell_type": "markdown",
      "source": [
        "## CodeTree"
      ],
      "metadata": {
        "id": "pPn4zhis_vbC"
      }
    },
    {
      "cell_type": "markdown",
      "source": [
        "### 숫자 피라미드 3"
      ],
      "metadata": {
        "id": "AwopJ0pZ_xGn"
      }
    },
    {
      "cell_type": "code",
      "source": [
        "n = int(input())\n",
        "\n",
        "for i in range(1, n+1):\n",
        "    for j in range(1, i+1):\n",
        "        print(\"%d\" %(i*j), end=' ')\n",
        "    print()"
      ],
      "metadata": {
        "id": "3u_r-im6_xnX"
      },
      "execution_count": null,
      "outputs": []
    }
  ]
}