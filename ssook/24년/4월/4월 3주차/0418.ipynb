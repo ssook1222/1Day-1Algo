{
  "nbformat": 4,
  "nbformat_minor": 0,
  "metadata": {
    "colab": {
      "provenance": [],
      "authorship_tag": "ABX9TyPGc5PnrQ33o3YLHMrzBdOs",
      "include_colab_link": true
    },
    "kernelspec": {
      "name": "python3",
      "display_name": "Python 3"
    },
    "language_info": {
      "name": "python"
    }
  },
  "cells": [
    {
      "cell_type": "markdown",
      "metadata": {
        "id": "view-in-github",
        "colab_type": "text"
      },
      "source": [
        "<a href=\"https://colab.research.google.com/github/ssook1222/1Day-1Algo/blob/master/ssook/24%EB%85%84/4%EC%9B%94/4%EC%9B%94%203%EC%A3%BC%EC%B0%A8/0418.ipynb\" target=\"_parent\"><img src=\"https://colab.research.google.com/assets/colab-badge.svg\" alt=\"Open In Colab\"/></a>"
      ]
    },
    {
      "cell_type": "markdown",
      "source": [
        "## BoJ"
      ],
      "metadata": {
        "id": "sfjs-CRMqgwF"
      }
    },
    {
      "cell_type": "markdown",
      "source": [
        "### 27855"
      ],
      "metadata": {
        "id": "YHpOG1YbqiQg"
      }
    },
    {
      "cell_type": "code",
      "execution_count": null,
      "metadata": {
        "id": "AncG21v4qOT9",
        "colab": {
          "base_uri": "https://localhost:8080/"
        },
        "outputId": "75cd1805-ae9a-48ca-cfa2-abb6e48ec6ac"
      },
      "outputs": [
        {
          "output_type": "stream",
          "name": "stdout",
          "text": [
            "2 1\n",
            "0 4\n",
            "1 3\n"
          ]
        }
      ],
      "source": [
        "h1, b1 = map(int, input().split())\n",
        "h2, b2 = map(int, input().split())\n",
        "\n",
        "p1 = (h1 * 3) + b1\n",
        "p2 = (h2 * 3) + b2\n",
        "\n",
        "if p1 == p2:\n",
        "  print(\"NO SCORE\")\n",
        "\n",
        "elif p2 < p1:\n",
        "  print(\"1 %d\" %(p1-p2))\n",
        "\n",
        "elif p2 > p1:\n",
        "  print(\"2 %d\" %(p2-p1))"
      ]
    },
    {
      "cell_type": "markdown",
      "source": [
        "### 21022"
      ],
      "metadata": {
        "id": "jdA47Fw1qgHC"
      }
    },
    {
      "cell_type": "code",
      "source": [
        "n = int(input())\n",
        "binus = list(map(int, input().split()))\n",
        "versus = list(map(int, input().split()))\n",
        "\n",
        "score = 0\n",
        "\n",
        "for i in range(n):\n",
        "  if binus[i] > versus[i]:\n",
        "    score += 3\n",
        "\n",
        "  elif binus[i] == versus[i]:\n",
        "    score += 1\n",
        "\n",
        "  else:\n",
        "    pass\n",
        "\n",
        "print(score)"
      ],
      "metadata": {
        "id": "ljx3HwNiqkHi",
        "colab": {
          "base_uri": "https://localhost:8080/"
        },
        "outputId": "6bfc9876-cde8-4f12-b863-61c71ea9bfa5"
      },
      "execution_count": null,
      "outputs": [
        {
          "output_type": "stream",
          "name": "stdout",
          "text": [
            "4\n",
            "3 0 2 4\n",
            "1 1 2 3\n",
            "7\n"
          ]
        }
      ]
    },
    {
      "cell_type": "markdown",
      "source": [
        "---"
      ],
      "metadata": {
        "id": "2zpcv8ekqlDt"
      }
    },
    {
      "cell_type": "markdown",
      "source": [
        "## CodeTree"
      ],
      "metadata": {
        "id": "HbQ9HMDcqlxU"
      }
    },
    {
      "cell_type": "markdown",
      "source": [
        "### 3n + 1 수열 m번"
      ],
      "metadata": {
        "id": "EL6Ph1wrqnb4"
      }
    },
    {
      "cell_type": "code",
      "source": [
        "def calculate_steps(n):\n",
        "    steps = 0\n",
        "    while n != 1:\n",
        "        if n % 2 == 0:\n",
        "            n //= 2\n",
        "        else:\n",
        "            n = 3 * n + 1\n",
        "        steps += 1\n",
        "    return steps\n",
        "\n",
        "def main():\n",
        "    m = int(input())\n",
        "    for _ in range(m):\n",
        "        n = int(input())\n",
        "        print(calculate_steps(n))\n",
        "\n",
        "if __name__ == \"__main__\":\n",
        "    main()"
      ],
      "metadata": {
        "id": "JBldHtMOqoGc"
      },
      "execution_count": null,
      "outputs": []
    }
  ]
}