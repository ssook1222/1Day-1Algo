{
  "nbformat": 4,
  "nbformat_minor": 0,
  "metadata": {
    "colab": {
      "provenance": [],
      "authorship_tag": "ABX9TyMJQEMgIKQhmk+vOWoMZ5tK",
      "include_colab_link": true
    },
    "kernelspec": {
      "name": "python3",
      "display_name": "Python 3"
    },
    "language_info": {
      "name": "python"
    }
  },
  "cells": [
    {
      "cell_type": "markdown",
      "metadata": {
        "id": "view-in-github",
        "colab_type": "text"
      },
      "source": [
        "<a href=\"https://colab.research.google.com/github/ssook1222/1Day-1Algo/blob/master/ssook/24%EB%85%84/4%EC%9B%94/4%EC%9B%94%203%EC%A3%BC%EC%B0%A8/0421.ipynb\" target=\"_parent\"><img src=\"https://colab.research.google.com/assets/colab-badge.svg\" alt=\"Open In Colab\"/></a>"
      ]
    },
    {
      "cell_type": "markdown",
      "source": [
        "## BoJ"
      ],
      "metadata": {
        "id": "4ZX7WTr7EHY3"
      }
    },
    {
      "cell_type": "markdown",
      "source": [
        "### 10180"
      ],
      "metadata": {
        "id": "YMd1uY_eEKbH"
      }
    },
    {
      "cell_type": "code",
      "execution_count": null,
      "metadata": {
        "id": "FPX7xyr0EFzM"
      },
      "outputs": [],
      "source": [
        "t = int(input())\n",
        "\n",
        "for _ in range(t):\n",
        "    n, d = map(int, input().split())\n",
        "    count = 0\n",
        "\n",
        "    for _ in range(n):\n",
        "        v, f, c = map(int, input().split())\n",
        "        if d * c <= v * f:\n",
        "            count += 1\n",
        "\n",
        "    print(count)"
      ]
    },
    {
      "cell_type": "markdown",
      "source": [
        "### 26340"
      ],
      "metadata": {
        "id": "S-34hQYLELHN"
      }
    },
    {
      "cell_type": "code",
      "source": [
        "t = int(input())\n",
        "\n",
        "for _ in range(t):\n",
        "  a, b, times = map(int, input().split())\n",
        "  first_a, first_b = a, b\n",
        "\n",
        "  for _ in range(times):\n",
        "    if a >= b:\n",
        "      a //= 2\n",
        "\n",
        "    else:\n",
        "      b //= 2\n",
        "\n",
        "  print(\"Data set: %d %d %d\" %(first_a, first_b, times))\n",
        "  print(\"%d %d\" %(max(a, b), min(a, b)))\n",
        "  print()"
      ],
      "metadata": {
        "colab": {
          "base_uri": "https://localhost:8080/"
        },
        "id": "KRsrADf_EMQw",
        "outputId": "b8071480-5feb-4c0a-dce2-94cfc02d2132"
      },
      "execution_count": null,
      "outputs": [
        {
          "output_type": "stream",
          "name": "stdout",
          "text": [
            "3\n",
            "60 51 4\n",
            "Data set: 60 51 4\n",
            "15 12\n",
            "3 2 50\n",
            "Data set: 3 2 50\n",
            "0 0\n",
            "3 2 1\n",
            "Data set: 3 2 1\n",
            "2 1\n"
          ]
        }
      ]
    },
    {
      "cell_type": "markdown",
      "source": [
        "## CodeTree"
      ],
      "metadata": {
        "id": "JIxuFFSxEI-t"
      }
    },
    {
      "cell_type": "markdown",
      "source": [
        "### 완전수"
      ],
      "metadata": {
        "id": "YwaLRwSlENQP"
      }
    },
    {
      "cell_type": "code",
      "source": [
        "def divisor_sum(num):\n",
        "    total = 0\n",
        "    for i in range(1, num):\n",
        "        if num % i == 0:\n",
        "            total += i\n",
        "    return total\n",
        "\n",
        "def perfect_number_count(start, end):\n",
        "    count = 0\n",
        "    for num in range(start, end + 1):\n",
        "        if divisor_sum(num) == num:\n",
        "            count += 1\n",
        "    return count\n",
        "\n",
        "start, end = map(int, input().split())\n",
        "print(perfect_number_count(start, end))"
      ],
      "metadata": {
        "id": "wpRwfMFwEN01"
      },
      "execution_count": null,
      "outputs": []
    }
  ]
}