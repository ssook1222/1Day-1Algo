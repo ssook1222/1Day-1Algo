{
  "nbformat": 4,
  "nbformat_minor": 0,
  "metadata": {
    "colab": {
      "provenance": [],
      "authorship_tag": "ABX9TyOQiopxnMKkpNMnCHWDzEHD",
      "include_colab_link": true
    },
    "kernelspec": {
      "name": "python3",
      "display_name": "Python 3"
    },
    "language_info": {
      "name": "python"
    }
  },
  "cells": [
    {
      "cell_type": "markdown",
      "metadata": {
        "id": "view-in-github",
        "colab_type": "text"
      },
      "source": [
        "<a href=\"https://colab.research.google.com/github/ssook1222/1Day-1Algo/blob/master/ssook/24%EB%85%84/5%EC%9B%94/5%EC%9B%94%202%EC%A3%BC%EC%B0%A8/0507.ipynb\" target=\"_parent\"><img src=\"https://colab.research.google.com/assets/colab-badge.svg\" alt=\"Open In Colab\"/></a>"
      ]
    },
    {
      "cell_type": "markdown",
      "source": [
        "## BoJ"
      ],
      "metadata": {
        "id": "meMv4Qr1UMZh"
      }
    },
    {
      "cell_type": "markdown",
      "source": [
        "### 11049"
      ],
      "metadata": {
        "id": "XLOipLKgUOGg"
      }
    },
    {
      "cell_type": "markdown",
      "source": [
        "pypy3로 통과"
      ],
      "metadata": {
        "id": "Shn0bnxdZMnF"
      }
    },
    {
      "cell_type": "code",
      "execution_count": null,
      "metadata": {
        "id": "RrXo_0cwUJ-F"
      },
      "outputs": [],
      "source": [
        "import sys\n",
        "\n",
        "N = int(sys.stdin.readline().rstrip())\n",
        "arr = [list(map(int, sys.stdin.readline().split())) for _ in range(N)]\n",
        "\n",
        "dp = [[0] * N for _ in range(N)]\n",
        "\n",
        "for term in range(1, N):\n",
        "    for start in range(N - term):\n",
        "        end = start + term\n",
        "        dp[start][end] = float('inf')\n",
        "\n",
        "        for k in range(start, end):\n",
        "            dp[start][end] = min(dp[start][end], dp[start][k] + dp[k+1][end]\n",
        "                                 + (arr[start][0] * arr[k][1] * arr[end][1]))\n",
        "\n",
        "print(dp[0][N - 1])"
      ]
    },
    {
      "cell_type": "markdown",
      "source": [
        "### 20977"
      ],
      "metadata": {
        "id": "8D34WJkLUPGa"
      }
    },
    {
      "cell_type": "code",
      "source": [
        "n = int(input())\n",
        "raw = list(input())\n",
        "ans = ''\n",
        "\n",
        "j_count = 0\n",
        "o_count = 0\n",
        "i_count = 0\n",
        "\n",
        "for c in raw:\n",
        "    if c == 'J':\n",
        "        j_count += 1\n",
        "    elif c == 'O':\n",
        "        o_count += 1\n",
        "    elif c == 'I':\n",
        "        i_count += 1\n",
        "\n",
        "for _ in range(j_count):\n",
        "    ans += 'J'\n",
        "for _ in range(o_count):\n",
        "    ans += 'O'\n",
        "for _ in range(i_count):\n",
        "    ans += 'I'\n",
        "\n",
        "print(ans)"
      ],
      "metadata": {
        "colab": {
          "base_uri": "https://localhost:8080/"
        },
        "id": "wP2v68SFUQHI",
        "outputId": "c73fa4d3-689d-4ca4-8c17-fdbf71466da6"
      },
      "execution_count": null,
      "outputs": [
        {
          "output_type": "stream",
          "name": "stdout",
          "text": [
            "10\n",
            "OIJJJIOIOI\n",
            "OOOJJJIIII\n"
          ]
        }
      ]
    },
    {
      "cell_type": "markdown",
      "source": [
        "---"
      ],
      "metadata": {
        "id": "ldpwKTd1UQwv"
      }
    },
    {
      "cell_type": "markdown",
      "source": [
        "## LeetCode"
      ],
      "metadata": {
        "id": "ZzbL_UY0URjD"
      }
    },
    {
      "cell_type": "markdown",
      "source": [
        "### Sum of values at indices with k set bits"
      ],
      "metadata": {
        "id": "Xjk8dwhSUTDr"
      }
    },
    {
      "cell_type": "code",
      "source": [
        "from typing import List\n",
        "\n",
        "class Solution:\n",
        "    def sumIndicesWithKSetBits(self, nums: List[int], k: int) -> int:\n",
        "        total_sum = 0\n",
        "\n",
        "        for i, num in enumerate(nums):\n",
        "            if self.count_set_bits(i) == k:\n",
        "                total_sum += num\n",
        "\n",
        "        return total_sum\n",
        "\n",
        "    def count_set_bits(self, num: int) -> int:\n",
        "        count = 0\n",
        "        while num:\n",
        "            count += num & 1\n",
        "            num >>= 1\n",
        "        return count"
      ],
      "metadata": {
        "id": "n58zseaYUT30"
      },
      "execution_count": null,
      "outputs": []
    }
  ]
}