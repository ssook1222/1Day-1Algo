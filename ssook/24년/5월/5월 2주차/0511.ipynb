{
  "nbformat": 4,
  "nbformat_minor": 0,
  "metadata": {
    "colab": {
      "provenance": [],
      "authorship_tag": "ABX9TyNSQDt6ZhjBZIPoQgbttjMw",
      "include_colab_link": true
    },
    "kernelspec": {
      "name": "python3",
      "display_name": "Python 3"
    },
    "language_info": {
      "name": "python"
    }
  },
  "cells": [
    {
      "cell_type": "markdown",
      "metadata": {
        "id": "view-in-github",
        "colab_type": "text"
      },
      "source": [
        "<a href=\"https://colab.research.google.com/github/ssook1222/1Day-1Algo/blob/master/ssook/24%EB%85%84/5%EC%9B%94/5%EC%9B%94%202%EC%A3%BC%EC%B0%A8/0511.ipynb\" target=\"_parent\"><img src=\"https://colab.research.google.com/assets/colab-badge.svg\" alt=\"Open In Colab\"/></a>"
      ]
    },
    {
      "cell_type": "markdown",
      "source": [
        "## BoJ"
      ],
      "metadata": {
        "id": "TmBHupV222ns"
      }
    },
    {
      "cell_type": "markdown",
      "source": [
        "### 1916"
      ],
      "metadata": {
        "id": "4MX-Xalv24Ku"
      }
    },
    {
      "cell_type": "code",
      "execution_count": null,
      "metadata": {
        "id": "-oyepF-F21M1"
      },
      "outputs": [],
      "source": [
        "import sys\n",
        "import heapq\n",
        "\n",
        "def dijkstra(graph, start, end):\n",
        "    distance = [float('inf')] * (len(graph) + 1)\n",
        "    distance[start] = 0\n",
        "\n",
        "    queue = []\n",
        "    heapq.heappush(queue, (0, start))\n",
        "\n",
        "    while queue:\n",
        "        dist, node = heapq.heappop(queue)\n",
        "\n",
        "        if dist > distance[node]:\n",
        "            continue\n",
        "        for adjacent, cost in graph[node]:\n",
        "            new_distance = distance[node] + cost\n",
        "\n",
        "            if new_distance < distance[adjacent]:\n",
        "                distance[adjacent] = new_distance\n",
        "                heapq.heappush(queue, (new_distance, adjacent))\n",
        "\n",
        "    return distance[end]\n",
        "\n",
        "N = int(sys.stdin.readline().rstrip())\n",
        "M = int(sys.stdin.readline().rstrip())\n",
        "\n",
        "graph = [[] for _ in range(N + 1)]\n",
        "for _ in range(M):\n",
        "    start, end, cost = map(int, sys.stdin.readline().rstrip().split())\n",
        "    graph[start].append((end, cost))\n",
        "\n",
        "start_city, end_city = map(int, sys.stdin.readline().rstrip().split())\n",
        "\n",
        "result = dijkstra(graph, start_city, end_city)\n",
        "\n",
        "print(result)"
      ]
    },
    {
      "cell_type": "markdown",
      "source": [
        "### 2914"
      ],
      "metadata": {
        "id": "a3tumXb325CC"
      }
    },
    {
      "cell_type": "code",
      "source": [
        "import math\n",
        "\n",
        "A, I = map(int, input().split())\n",
        "\n",
        "total = A * (I-1) + 1\n",
        "\n",
        "print(total)"
      ],
      "metadata": {
        "colab": {
          "base_uri": "https://localhost:8080/"
        },
        "id": "JD0SJ2KU25y-",
        "outputId": "398babd0-8754-4f59-d0b2-9f0d1250cb25"
      },
      "execution_count": null,
      "outputs": [
        {
          "output_type": "stream",
          "name": "stdout",
          "text": [
            "1 100\n",
            "100\n"
          ]
        }
      ]
    },
    {
      "cell_type": "markdown",
      "source": [
        "---"
      ],
      "metadata": {
        "id": "HBas9Ibn26to"
      }
    },
    {
      "cell_type": "markdown",
      "source": [
        "## LeetCode"
      ],
      "metadata": {
        "id": "hswhoENk28B_"
      }
    },
    {
      "cell_type": "markdown",
      "source": [
        "### Decode xored array"
      ],
      "metadata": {
        "id": "HbaxfKG82_KC"
      }
    },
    {
      "cell_type": "code",
      "source": [
        "from typing import List\n",
        "\n",
        "class Solution:\n",
        "    def decode(self, encoded: List[int], first: int) -> List[int]:\n",
        "        n = len(encoded) + 1\n",
        "        arr = [first]\n",
        "\n",
        "        for i in range(n - 1):\n",
        "            arr.append(arr[-1] ^ encoded[i])\n",
        "\n",
        "        return arr"
      ],
      "metadata": {
        "id": "pd8iMb3B2_38"
      },
      "execution_count": null,
      "outputs": []
    }
  ]
}