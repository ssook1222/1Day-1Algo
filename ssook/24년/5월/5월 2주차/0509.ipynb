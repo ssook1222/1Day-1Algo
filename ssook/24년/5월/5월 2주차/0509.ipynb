{
  "nbformat": 4,
  "nbformat_minor": 0,
  "metadata": {
    "colab": {
      "provenance": [],
      "authorship_tag": "ABX9TyNlyRaFc2XNxG9187olrjPS",
      "include_colab_link": true
    },
    "kernelspec": {
      "name": "python3",
      "display_name": "Python 3"
    },
    "language_info": {
      "name": "python"
    }
  },
  "cells": [
    {
      "cell_type": "markdown",
      "metadata": {
        "id": "view-in-github",
        "colab_type": "text"
      },
      "source": [
        "<a href=\"https://colab.research.google.com/github/ssook1222/1Day-1Algo/blob/master/ssook/24%EB%85%84/5%EC%9B%94/5%EC%9B%94%202%EC%A3%BC%EC%B0%A8/0509.ipynb\" target=\"_parent\"><img src=\"https://colab.research.google.com/assets/colab-badge.svg\" alt=\"Open In Colab\"/></a>"
      ]
    },
    {
      "cell_type": "markdown",
      "source": [
        "## BoJ"
      ],
      "metadata": {
        "id": "RGRUBTd_nQCJ"
      }
    },
    {
      "cell_type": "markdown",
      "source": [
        "### 20040"
      ],
      "metadata": {
        "id": "dXgB3KPBnTs2"
      }
    },
    {
      "cell_type": "code",
      "execution_count": null,
      "metadata": {
        "id": "CL_k0dVxmJmm"
      },
      "outputs": [],
      "source": [
        "import sys\n",
        "\n",
        "class UnionFind:\n",
        "    def __init__(self, n):\n",
        "        self.parent = list(range(n))\n",
        "        self.rank = [0] * n\n",
        "\n",
        "    def find(self, x):\n",
        "        if self.parent[x] != x:\n",
        "            self.parent[x] = self.find(self.parent[x])\n",
        "        return self.parent[x]\n",
        "\n",
        "    def union(self, x, y):\n",
        "        root_x = self.find(x)\n",
        "        root_y = self.find(y)\n",
        "\n",
        "        if root_x == root_y:\n",
        "            return False\n",
        "\n",
        "        if self.rank[root_x] < self.rank[root_y]:\n",
        "            self.parent[root_x] = root_y\n",
        "        elif self.rank[root_x] > self.rank[root_y]:\n",
        "            self.parent[root_y] = root_x\n",
        "        else:\n",
        "            self.parent[root_y] = root_x\n",
        "            self.rank[root_x] += 1\n",
        "\n",
        "        return True\n",
        "\n",
        "def detect_cycle(n, edges):\n",
        "    uf = UnionFind(n)\n",
        "    for i, (u, v) in enumerate(edges):\n",
        "        if not uf.union(u, v):\n",
        "            return i + 1\n",
        "    return 0\n",
        "\n",
        "n, m = map(int, sys.stdin.readline().rstrip().split())\n",
        "edges = [tuple(map(int, sys.stdin.readline().rstrip().split())) for _ in range(m)]\n",
        "\n",
        "print(detect_cycle(n, edges))"
      ]
    },
    {
      "cell_type": "markdown",
      "source": [
        "### 5582"
      ],
      "metadata": {
        "id": "WpeStg2TnU95"
      }
    },
    {
      "cell_type": "markdown",
      "source": [
        "pypy3로 문제 풀이"
      ],
      "metadata": {
        "id": "K5kJAiPKrC3l"
      }
    },
    {
      "cell_type": "code",
      "source": [
        "def longest_common_substring(s1, s2):\n",
        "    m = len(s1)\n",
        "    n = len(s2)\n",
        "\n",
        "    dp = [[0] * (n + 1) for _ in range(m + 1)]\n",
        "\n",
        "    max_length = 0\n",
        "    end_index = 0\n",
        "\n",
        "    for i in range(1, m + 1):\n",
        "        for j in range(1, n + 1):\n",
        "            if s1[i - 1] == s2[j - 1]:\n",
        "                dp[i][j] = dp[i - 1][j - 1] + 1\n",
        "                if dp[i][j] > max_length:\n",
        "                    max_length = dp[i][j]\n",
        "                    end_index = i\n",
        "\n",
        "    start_index = end_index - max_length\n",
        "\n",
        "    return max_length\n",
        "\n",
        "s1 = input().strip()\n",
        "s2 = input().strip()\n",
        "\n",
        "print(longest_common_substring(s1, s2))"
      ],
      "metadata": {
        "id": "Nl-ONib3nVzQ"
      },
      "execution_count": null,
      "outputs": []
    },
    {
      "cell_type": "markdown",
      "source": [
        "----"
      ],
      "metadata": {
        "id": "hiueCb6inWeT"
      }
    },
    {
      "cell_type": "markdown",
      "source": [
        "## CodeTree"
      ],
      "metadata": {
        "id": "ppbtd9fdnXxE"
      }
    },
    {
      "cell_type": "markdown",
      "source": [
        "### 절대값의 합을 구하는 함수"
      ],
      "metadata": {
        "id": "kFHe37rMna15"
      }
    },
    {
      "cell_type": "code",
      "source": [
        "def absolute_sum(n, numbers):\n",
        "    abs_sum = 0\n",
        "    for num in numbers:\n",
        "        abs_sum += abs(num)\n",
        "\n",
        "    return abs_sum\n",
        "\n",
        "def main():\n",
        "    n = int(input())\n",
        "\n",
        "    numbers = list(map(int, input().split()))\n",
        "    result = absolute_sum(n, numbers)\n",
        "\n",
        "    print(result)\n",
        "\n",
        "if __name__ == \"__main__\":\n",
        "    main()"
      ],
      "metadata": {
        "id": "wLxcqISznbmA"
      },
      "execution_count": null,
      "outputs": []
    }
  ]
}