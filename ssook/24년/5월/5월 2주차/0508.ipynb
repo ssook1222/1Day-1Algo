{
  "nbformat": 4,
  "nbformat_minor": 0,
  "metadata": {
    "colab": {
      "provenance": [],
      "authorship_tag": "ABX9TyOt8kufQ5UxqV70ghwnMxhi",
      "include_colab_link": true
    },
    "kernelspec": {
      "name": "python3",
      "display_name": "Python 3"
    },
    "language_info": {
      "name": "python"
    }
  },
  "cells": [
    {
      "cell_type": "markdown",
      "metadata": {
        "id": "view-in-github",
        "colab_type": "text"
      },
      "source": [
        "<a href=\"https://colab.research.google.com/github/ssook1222/1Day-1Algo/blob/master/ssook/24%EB%85%84/5%EC%9B%94/5%EC%9B%94%202%EC%A3%BC%EC%B0%A8/0508.ipynb\" target=\"_parent\"><img src=\"https://colab.research.google.com/assets/colab-badge.svg\" alt=\"Open In Colab\"/></a>"
      ]
    },
    {
      "cell_type": "markdown",
      "source": [
        "## BoJ"
      ],
      "metadata": {
        "id": "fWjay7RRawBL"
      }
    },
    {
      "cell_type": "markdown",
      "source": [
        "### 14888"
      ],
      "metadata": {
        "id": "G4diU_nXazHb"
      }
    },
    {
      "cell_type": "code",
      "execution_count": null,
      "metadata": {
        "id": "zmlkYyXwatva"
      },
      "outputs": [],
      "source": [
        "def calculate(expression):\n",
        "    return eval(expression)\n",
        "\n",
        "def dfs(idx, result, add, subtract, multiply, divide):\n",
        "    global max_result, min_result\n",
        "\n",
        "    if idx == N:\n",
        "        max_result = max(max_result, result)\n",
        "        min_result = min(min_result, result)\n",
        "        return\n",
        "\n",
        "    if add > 0:\n",
        "        dfs(idx + 1, result + numbers[idx], add - 1, subtract, multiply, divide)\n",
        "    if subtract > 0:\n",
        "        dfs(idx + 1, result - numbers[idx], add, subtract - 1, multiply, divide)\n",
        "    if multiply > 0:\n",
        "        dfs(idx + 1, result * numbers[idx], add, subtract, multiply - 1, divide)\n",
        "    if divide > 0:\n",
        "        if result >= 0:\n",
        "            dfs(idx + 1, result // numbers[idx], add, subtract, multiply, divide - 1)\n",
        "        else:\n",
        "            dfs(idx + 1, -(-result // numbers[idx]), add, subtract, multiply, divide - 1)\n",
        "\n",
        "N = int(input())\n",
        "numbers = list(map(int, input().split()))\n",
        "operators = list(map(int, input().split()))\n",
        "\n",
        "max_result = float('-inf')\n",
        "min_result = float('inf')\n",
        "\n",
        "dfs(1, numbers[0], operators[0], operators[1], operators[2], operators[3])\n",
        "\n",
        "print(max_result)\n",
        "print(min_result)"
      ]
    },
    {
      "cell_type": "markdown",
      "source": [
        "### 31775"
      ],
      "metadata": {
        "id": "Ft5iK58Xa00s"
      }
    },
    {
      "cell_type": "code",
      "source": [
        "raw = [input() for _ in range(3)]\n",
        "l = k = p = False\n",
        "\n",
        "for i in raw:\n",
        "    if i[0] == \"l\":\n",
        "        l = True\n",
        "    elif i[0] == \"k\":\n",
        "        k = True\n",
        "    elif i[0] == \"p\":\n",
        "        p = True\n",
        "\n",
        "if l == k == p == True:\n",
        "    print(\"GLOBAL\")\n",
        "else:\n",
        "    print(\"PONIX\")"
      ],
      "metadata": {
        "colab": {
          "base_uri": "https://localhost:8080/"
        },
        "id": "EMmc3aC3a1qS",
        "outputId": "b6e18042-e86b-4d8f-9ccd-724d89df97de"
      },
      "execution_count": null,
      "outputs": [
        {
          "output_type": "stream",
          "name": "stdout",
          "text": [
            "korea\n",
            "legend\n",
            "postech\n",
            "GLOBAL\n"
          ]
        }
      ]
    },
    {
      "cell_type": "markdown",
      "source": [
        "---"
      ],
      "metadata": {
        "id": "ymPrUiQsa2yv"
      }
    },
    {
      "cell_type": "markdown",
      "source": [
        "## LeetCode"
      ],
      "metadata": {
        "id": "3hpHP3RWa4uS"
      }
    },
    {
      "cell_type": "markdown",
      "source": [
        "### Minimum Sum of Four Digit Number After Splitting Digits"
      ],
      "metadata": {
        "id": "X9Uz8N07a688"
      }
    },
    {
      "cell_type": "code",
      "source": [
        "class Solution:\n",
        "    def minimumSum(self, num: int) -> int:\n",
        "\n",
        "        nums = []\n",
        "\n",
        "        while num:\n",
        "            nums.append(num % 10)\n",
        "            num //= 10\n",
        "\n",
        "        nums.sort()\n",
        "\n",
        "        return 10 * (nums[0] + nums[1]) + nums[2] + nums[3]"
      ],
      "metadata": {
        "id": "tLdrnTdHa7wn"
      },
      "execution_count": null,
      "outputs": []
    }
  ]
}