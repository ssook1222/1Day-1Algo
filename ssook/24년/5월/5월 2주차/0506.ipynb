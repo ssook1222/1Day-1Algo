{
  "nbformat": 4,
  "nbformat_minor": 0,
  "metadata": {
    "colab": {
      "provenance": [],
      "authorship_tag": "ABX9TyPhTMlP5Ko49gIi7PtP25Kk",
      "include_colab_link": true
    },
    "kernelspec": {
      "name": "python3",
      "display_name": "Python 3"
    },
    "language_info": {
      "name": "python"
    }
  },
  "cells": [
    {
      "cell_type": "markdown",
      "metadata": {
        "id": "view-in-github",
        "colab_type": "text"
      },
      "source": [
        "<a href=\"https://colab.research.google.com/github/ssook1222/1Day-1Algo/blob/master/ssook/24%EB%85%84/5%EC%9B%94/5%EC%9B%94%202%EC%A3%BC%EC%B0%A8/0506.ipynb\" target=\"_parent\"><img src=\"https://colab.research.google.com/assets/colab-badge.svg\" alt=\"Open In Colab\"/></a>"
      ]
    },
    {
      "cell_type": "markdown",
      "source": [
        "## BoJ"
      ],
      "metadata": {
        "id": "VgXWqehagSqz"
      }
    },
    {
      "cell_type": "markdown",
      "source": [
        "### 1267"
      ],
      "metadata": {
        "id": "S9beJwdDgUG1"
      }
    },
    {
      "cell_type": "code",
      "execution_count": null,
      "metadata": {
        "colab": {
          "base_uri": "https://localhost:8080/"
        },
        "id": "fvffOqD0gRDB",
        "outputId": "3d9b4206-48b5-4095-ccee-14b419c5ef97"
      },
      "outputs": [
        {
          "output_type": "stream",
          "name": "stdout",
          "text": [
            "3\n",
            "40 40 40\n",
            "M 45\n"
          ]
        }
      ],
      "source": [
        "N = int(input())\n",
        "lst = list(map(int, input().split()))\n",
        "\n",
        "y = 0\n",
        "m = 0\n",
        "\n",
        "for n in lst:\n",
        "    a = ( (n // 30) + 1 )\n",
        "    b = ( (n // 60) + 1 )\n",
        "\n",
        "    y += a * 10\n",
        "    m += b * 15\n",
        "\n",
        "if m == y:\n",
        "    print(\"Y M %d\" %m)\n",
        "elif m < y:\n",
        "    print(\"M %d\" %m)\n",
        "else:\n",
        "    print(\"Y %d\" %y)"
      ]
    },
    {
      "cell_type": "markdown",
      "source": [
        "### 1284"
      ],
      "metadata": {
        "id": "kElRr5KkgUzo"
      }
    },
    {
      "cell_type": "code",
      "source": [
        "while True:\n",
        "  n = input()\n",
        "\n",
        "  if n == '0':\n",
        "    break\n",
        "\n",
        "  ans = len(n) + 1\n",
        "\n",
        "  for c in n:\n",
        "    if c == '0':\n",
        "      ans += 4\n",
        "    elif c == '1':\n",
        "      ans += 2\n",
        "    else:\n",
        "      ans += 3\n",
        "\n",
        "  print(ans)"
      ],
      "metadata": {
        "id": "6kG1FY_agVkL"
      },
      "execution_count": null,
      "outputs": []
    },
    {
      "cell_type": "markdown",
      "source": [
        "---"
      ],
      "metadata": {
        "id": "zEOH9ZvSgWvP"
      }
    },
    {
      "cell_type": "markdown",
      "source": [
        "## LeetCode"
      ],
      "metadata": {
        "id": "ZR7S8y8ngXvf"
      }
    },
    {
      "cell_type": "markdown",
      "source": [
        "### 1637. Widest Vertical Area Between Two Points Containing No Points"
      ],
      "metadata": {
        "id": "qj2EbJT2gZPM"
      }
    },
    {
      "cell_type": "code",
      "source": [
        "class Solution:\n",
        "    def maxWidthOfVerticalArea(self, points: List[List[int]]) -> int:\n",
        "        points.sort(key=lambda x: x[0])\n",
        "\n",
        "        max_width = 0\n",
        "        # Iterate through the sorted points to find the maximum width\n",
        "        for i in range(1, len(points)):\n",
        "            max_width = max(max_width, points[i][0] - points[i-1][0])\n",
        "\n",
        "        return max_width"
      ],
      "metadata": {
        "id": "3Fs2oXgKgZ8x"
      },
      "execution_count": null,
      "outputs": []
    }
  ]
}