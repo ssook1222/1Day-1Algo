{
  "nbformat": 4,
  "nbformat_minor": 0,
  "metadata": {
    "colab": {
      "provenance": [],
      "authorship_tag": "ABX9TyPxdCUl3TTUfFdkKxQMBt0M",
      "include_colab_link": true
    },
    "kernelspec": {
      "name": "python3",
      "display_name": "Python 3"
    },
    "language_info": {
      "name": "python"
    }
  },
  "cells": [
    {
      "cell_type": "markdown",
      "metadata": {
        "id": "view-in-github",
        "colab_type": "text"
      },
      "source": [
        "<a href=\"https://colab.research.google.com/github/ssook1222/1Day-1Algo/blob/master/ssook/24%EB%85%84/5%EC%9B%94/5%EC%9B%94%202%EC%A3%BC%EC%B0%A8/0510.ipynb\" target=\"_parent\"><img src=\"https://colab.research.google.com/assets/colab-badge.svg\" alt=\"Open In Colab\"/></a>"
      ]
    },
    {
      "cell_type": "markdown",
      "source": [
        "## BoJ"
      ],
      "metadata": {
        "id": "5Gb2PyeRbPuT"
      }
    },
    {
      "cell_type": "markdown",
      "source": [
        "### 1389"
      ],
      "metadata": {
        "id": "y3giKJPTbRLH"
      }
    },
    {
      "cell_type": "code",
      "execution_count": null,
      "metadata": {
        "id": "SBNSCHUxbN7c"
      },
      "outputs": [],
      "source": [
        "import sys\n",
        "\n",
        "INF = 1000000000\n",
        "\n",
        "def floyd_warshall(graph, N):\n",
        "    dist = [[INF] * (N + 1) for _ in range(N + 1)]\n",
        "\n",
        "    for i in range(1, N + 1):\n",
        "        for j in range(1, N + 1):\n",
        "            if i == j:\n",
        "                dist[i][j] = 0\n",
        "\n",
        "    for a in range(1, N + 1):\n",
        "        for b in range(1, N + 1):\n",
        "            if graph[a][b]:\n",
        "                dist[a][b] = 1\n",
        "                dist[b][a] = 1\n",
        "\n",
        "    for k in range(1, N + 1):\n",
        "        for i in range(1, N + 1):\n",
        "            for j in range(1, N + 1):\n",
        "                dist[i][j] = min(dist[i][j], dist[i][k] + dist[k][j])\n",
        "\n",
        "    return dist\n",
        "\n",
        "def find_kevin_bacon(dist, N):\n",
        "    min_kevin_bacon = INF\n",
        "    kevin_bacon_person = 0\n",
        "\n",
        "    for i in range(1, N + 1):\n",
        "        kevin_bacon_sum = sum(dist[i][1:])\n",
        "        if kevin_bacon_sum < min_kevin_bacon:\n",
        "            min_kevin_bacon = kevin_bacon_sum\n",
        "            kevin_bacon_person = i\n",
        "\n",
        "    return kevin_bacon_person\n",
        "\n",
        "if __name__ == \"__main__\":\n",
        "    N, M = map(int, sys.stdin.readline().rstrip().split())\n",
        "    graph = [[0] * (N + 1) for _ in range(N + 1)]\n",
        "\n",
        "    for _ in range(M):\n",
        "        a, b = map(int, sys.stdin.readline().rstrip().split())\n",
        "        graph[a][b] = 1\n",
        "        graph[b][a] = 1\n",
        "\n",
        "    dist = floyd_warshall(graph, N)\n",
        "    result = find_kevin_bacon(dist, N)\n",
        "    print(result)\n"
      ]
    },
    {
      "cell_type": "markdown",
      "source": [
        "### 18290"
      ],
      "metadata": {
        "id": "L0DiORucbSE7"
      }
    },
    {
      "cell_type": "markdown",
      "source": [
        "pypy로 문제풀이"
      ],
      "metadata": {
        "id": "SHh-fId-gDgS"
      }
    },
    {
      "cell_type": "code",
      "source": [
        "import sys\n",
        "\n",
        "def main():\n",
        "    n, m, k = map(int, sys.stdin.readline().split())\n",
        "    arr = [list(map(int, sys.stdin.readline().split())) for _ in range(n)]\n",
        "    visited = [[False] * m for _ in range(n)]\n",
        "\n",
        "    dx = [0, 0, 1, -1]\n",
        "    dy = [1, -1, 0, 0]\n",
        "\n",
        "    def dfs(px, py, selected, total):\n",
        "        if selected == k:\n",
        "            return total\n",
        "\n",
        "        max_sum = -1000000\n",
        "\n",
        "        for x in range(px, n):\n",
        "            for y in range(py if x == px else 0, m):\n",
        "                if visited[x][y]:\n",
        "                    continue\n",
        "\n",
        "                ok = True\n",
        "                for i in range(4):\n",
        "                    nx = x + dx[i]\n",
        "                    ny = y + dy[i]\n",
        "\n",
        "                    if 0 <= nx < n and 0 <= ny < m:\n",
        "                        if visited[nx][ny]:\n",
        "                            ok = False\n",
        "                            break\n",
        "\n",
        "                if ok:\n",
        "                    visited[x][y] = True\n",
        "                    max_sum = max(max_sum, dfs(px, py, selected + 1, total + arr[x][y]))\n",
        "                    visited[x][y] = False\n",
        "\n",
        "        return max_sum\n",
        "\n",
        "    print(dfs(0, 0, 0, 0))\n",
        "\n",
        "if __name__ == \"__main__\":\n",
        "    main()\n"
      ],
      "metadata": {
        "id": "v6CzmaKqbStB"
      },
      "execution_count": null,
      "outputs": []
    },
    {
      "cell_type": "markdown",
      "source": [
        "---"
      ],
      "metadata": {
        "id": "nh-x_TydbS_F"
      }
    },
    {
      "cell_type": "markdown",
      "source": [
        "## CodeTree"
      ],
      "metadata": {
        "id": "0M0Acpg-bTqZ"
      }
    },
    {
      "cell_type": "markdown",
      "source": [
        "### 음양 판별기"
      ],
      "metadata": {
        "id": "41mH5D2obU7X"
      }
    },
    {
      "cell_type": "code",
      "source": [
        "n = int(input())\n",
        "\n",
        "for _ in range(n):\n",
        "    num = int(input())\n",
        "\n",
        "    if num == 0:\n",
        "        print('zero')\n",
        "    elif num > 0 :\n",
        "        print('plus')\n",
        "    else:\n",
        "        print('minus')"
      ],
      "metadata": {
        "id": "LnUkQubgbVlk"
      },
      "execution_count": null,
      "outputs": []
    }
  ]
}