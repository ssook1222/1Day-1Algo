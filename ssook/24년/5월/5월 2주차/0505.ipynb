{
  "nbformat": 4,
  "nbformat_minor": 0,
  "metadata": {
    "colab": {
      "provenance": [],
      "authorship_tag": "ABX9TyO2sOd8GLgq4FaZhNud0MDE",
      "include_colab_link": true
    },
    "kernelspec": {
      "name": "python3",
      "display_name": "Python 3"
    },
    "language_info": {
      "name": "python"
    }
  },
  "cells": [
    {
      "cell_type": "markdown",
      "metadata": {
        "id": "view-in-github",
        "colab_type": "text"
      },
      "source": [
        "<a href=\"https://colab.research.google.com/github/ssook1222/1Day-1Algo/blob/master/ssook/24%EB%85%84/5%EC%9B%94/5%EC%9B%94%202%EC%A3%BC%EC%B0%A8/0505.ipynb\" target=\"_parent\"><img src=\"https://colab.research.google.com/assets/colab-badge.svg\" alt=\"Open In Colab\"/></a>"
      ]
    },
    {
      "cell_type": "markdown",
      "source": [
        "## BoJ"
      ],
      "metadata": {
        "id": "6Uxk2Rw1rNZ5"
      }
    },
    {
      "cell_type": "markdown",
      "source": [
        "### 2263"
      ],
      "metadata": {
        "id": "MCVIdBjjrPSF"
      }
    },
    {
      "cell_type": "code",
      "execution_count": null,
      "metadata": {
        "id": "5HuHHihmq_Mz"
      },
      "outputs": [],
      "source": [
        "import sys\n",
        "\n",
        "def find_preorder(inorder, postorder):\n",
        "    n = len(inorder)\n",
        "    inorder_index = {value: index for index, value in enumerate(inorder)}\n",
        "    preorder = []\n",
        "\n",
        "    stack = [(0, n - 1, 0, n - 1)]\n",
        "\n",
        "    while stack:\n",
        "        in_start, in_end, post_start, post_end = stack.pop()\n",
        "\n",
        "        if in_start > in_end or post_start > post_end:\n",
        "            continue\n",
        "\n",
        "        root_value = postorder[post_end]\n",
        "        root_index = inorder_index[root_value]\n",
        "\n",
        "        left_size = root_index - in_start\n",
        "\n",
        "        preorder.append(root_value)\n",
        "\n",
        "        stack.append((root_index + 1, in_end, post_start + left_size, post_end - 1))\n",
        "        stack.append((in_start, root_index - 1, post_start, post_start + left_size - 1))\n",
        "\n",
        "    return preorder\n",
        "\n",
        "n = int(sys.stdin.readline().rstrip())\n",
        "inorder = list(map(int, sys.stdin.readline().rstrip().split()))\n",
        "postorder = list(map(int, sys.stdin.readline().rstrip().split()))\n",
        "\n",
        "preorder = find_preorder(inorder, postorder)\n",
        "print(*preorder)"
      ]
    },
    {
      "cell_type": "markdown",
      "source": [
        "### 29319"
      ],
      "metadata": {
        "id": "0b5InnQjrQRP"
      }
    },
    {
      "cell_type": "code",
      "source": [
        "n = int(input())\n",
        "\n",
        "rings_per_group = list(map(int, input().split()))\n",
        "\n",
        "max_rings = max(rings_per_group)\n",
        "total_rings = sum(rings_per_group) - max_rings\n",
        "\n",
        "print(total_rings)"
      ],
      "metadata": {
        "id": "_1kB0RzNrRQP"
      },
      "execution_count": null,
      "outputs": []
    },
    {
      "cell_type": "markdown",
      "source": [
        "---"
      ],
      "metadata": {
        "id": "E--wCqjXrR0Y"
      }
    },
    {
      "cell_type": "markdown",
      "source": [
        "## LeetCode"
      ],
      "metadata": {
        "id": "XeLFor96rTR7"
      }
    },
    {
      "cell_type": "markdown",
      "source": [
        "### 13. Roman to Integer"
      ],
      "metadata": {
        "id": "yZCw_hQTrXYz"
      }
    },
    {
      "cell_type": "code",
      "source": [
        "class Solution:\n",
        "    def romanToInt(self, s: str) -> int:\n",
        "        roman_values = {\n",
        "            'I': 1,\n",
        "            'V': 5,\n",
        "            'X': 10,\n",
        "            'L': 50,\n",
        "            'C': 100,\n",
        "            'D': 500,\n",
        "            'M': 1000\n",
        "        }\n",
        "\n",
        "        result = 0\n",
        "\n",
        "        last_value = 0\n",
        "\n",
        "        for i in range(len(s) - 1, -1, -1):\n",
        "            value = roman_values[s[i]]\n",
        "            if value < last_value:\n",
        "                result -= value\n",
        "            else:\n",
        "                result += value\n",
        "            last_value = value\n",
        "\n",
        "        return result"
      ],
      "metadata": {
        "id": "6zGhkUqorZL7"
      },
      "execution_count": null,
      "outputs": []
    }
  ]
}