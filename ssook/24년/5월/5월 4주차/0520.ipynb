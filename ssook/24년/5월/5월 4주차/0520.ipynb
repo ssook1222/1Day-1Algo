{
  "nbformat": 4,
  "nbformat_minor": 0,
  "metadata": {
    "colab": {
      "provenance": [],
      "authorship_tag": "ABX9TyOBLmQwDlg+OwFFuuR8s3Jp",
      "include_colab_link": true
    },
    "kernelspec": {
      "name": "python3",
      "display_name": "Python 3"
    },
    "language_info": {
      "name": "python"
    }
  },
  "cells": [
    {
      "cell_type": "markdown",
      "metadata": {
        "id": "view-in-github",
        "colab_type": "text"
      },
      "source": [
        "<a href=\"https://colab.research.google.com/github/ssook1222/1Day-1Algo/blob/master/ssook/24%EB%85%84/5%EC%9B%94/5%EC%9B%94%204%EC%A3%BC%EC%B0%A8/0520.ipynb\" target=\"_parent\"><img src=\"https://colab.research.google.com/assets/colab-badge.svg\" alt=\"Open In Colab\"/></a>"
      ]
    },
    {
      "cell_type": "markdown",
      "source": [
        "## BoJ"
      ],
      "metadata": {
        "id": "DwWGm5Uxi9N8"
      }
    },
    {
      "cell_type": "markdown",
      "source": [
        "### 2523"
      ],
      "metadata": {
        "id": "-RGUfshwi-uZ"
      }
    },
    {
      "cell_type": "code",
      "execution_count": null,
      "metadata": {
        "colab": {
          "base_uri": "https://localhost:8080/"
        },
        "id": "g4sma4kiizz-",
        "outputId": "a919b4ac-565f-44c8-d32b-8f8217ef5e5d"
      },
      "outputs": [
        {
          "output_type": "stream",
          "name": "stdout",
          "text": [
            "3\n",
            "*\n",
            "**\n",
            "***\n",
            "**\n",
            "*\n"
          ]
        }
      ],
      "source": [
        "n = int(input())\n",
        "\n",
        "for i in range(1, n+1):\n",
        "  print('*' * i)\n",
        "\n",
        "for j in range(n-1, 0, -1):\n",
        "  print('*' * j)"
      ]
    },
    {
      "cell_type": "markdown",
      "source": [
        "### 2522"
      ],
      "metadata": {
        "id": "JkCtD5hJkAiC"
      }
    },
    {
      "cell_type": "code",
      "source": [
        "n = int(input())\n",
        "\n",
        "for i in range(1, n+1):\n",
        "  print(' '* (n-i) + '*' * i )\n",
        "\n",
        "for j in range(1, n):\n",
        "  print(' '* j + '*' * (n-j))"
      ],
      "metadata": {
        "colab": {
          "base_uri": "https://localhost:8080/"
        },
        "id": "I-GVeOp_kBJW",
        "outputId": "afc62b8d-05a5-4413-a6f6-9887021e6e38"
      },
      "execution_count": null,
      "outputs": [
        {
          "output_type": "stream",
          "name": "stdout",
          "text": [
            "3\n",
            "   *\n",
            "  **\n",
            " ***\n",
            "  **\n",
            "   *\n"
          ]
        }
      ]
    },
    {
      "cell_type": "markdown",
      "source": [
        "---"
      ],
      "metadata": {
        "id": "BC52-X_okDH_"
      }
    },
    {
      "cell_type": "markdown",
      "source": [
        "## CodeTree"
      ],
      "metadata": {
        "id": "X9A5TmZokF0a"
      }
    },
    {
      "cell_type": "markdown",
      "source": [
        "### 모양대로 숫자 출력하기"
      ],
      "metadata": {
        "id": "bbgWvkuIkGhe"
      }
    },
    {
      "cell_type": "code",
      "source": [
        "n = int(input())\n",
        "\n",
        "for l in range(n):\n",
        "    print('  ' * l, end='')\n",
        "\n",
        "    for i in range(n-l, 0, -1):\n",
        "        print(i, end=' ')\n",
        "\n",
        "    print()"
      ],
      "metadata": {
        "colab": {
          "base_uri": "https://localhost:8080/"
        },
        "id": "20CxHWM1kEVm",
        "outputId": "709ffd9b-7920-4776-8257-bc07a54cec35"
      },
      "execution_count": null,
      "outputs": [
        {
          "output_type": "stream",
          "name": "stdout",
          "text": [
            "5\n",
            "5 4 3 2 1 \n",
            "  4 3 2 1 \n",
            "    3 2 1 \n",
            "      2 1 \n",
            "        1 \n"
          ]
        }
      ]
    }
  ]
}