{
  "nbformat": 4,
  "nbformat_minor": 0,
  "metadata": {
    "colab": {
      "provenance": [],
      "authorship_tag": "ABX9TyMjGz86TDIBCtTdoIMHAerg",
      "include_colab_link": true
    },
    "kernelspec": {
      "name": "python3",
      "display_name": "Python 3"
    },
    "language_info": {
      "name": "python"
    }
  },
  "cells": [
    {
      "cell_type": "markdown",
      "metadata": {
        "id": "view-in-github",
        "colab_type": "text"
      },
      "source": [
        "<a href=\"https://colab.research.google.com/github/ssook1222/1Day-1Algo/blob/master/ssook/24%EB%85%84/5%EC%9B%94/5%EC%9B%94%204%EC%A3%BC%EC%B0%A8/0523.ipynb\" target=\"_parent\"><img src=\"https://colab.research.google.com/assets/colab-badge.svg\" alt=\"Open In Colab\"/></a>"
      ]
    },
    {
      "cell_type": "markdown",
      "source": [
        "## BoJ"
      ],
      "metadata": {
        "id": "ssZ2jO_GhZ86"
      }
    },
    {
      "cell_type": "markdown",
      "source": [
        "### 1547"
      ],
      "metadata": {
        "id": "v250LlSRhbeS"
      }
    },
    {
      "cell_type": "code",
      "execution_count": null,
      "metadata": {
        "colab": {
          "base_uri": "https://localhost:8080/"
        },
        "id": "n0BAnAQ9hYGX",
        "outputId": "d0da7c16-461a-4234-cd53-14efd3979185"
      },
      "outputs": [
        {
          "output_type": "stream",
          "name": "stdout",
          "text": [
            "4\n",
            "3 1\n",
            "2 3\n",
            "3 1\n",
            "3 2\n",
            "3\n"
          ]
        }
      ],
      "source": [
        "n = int(input())\n",
        "\n",
        "cups = [1,2,3]\n",
        "\n",
        "for _ in range(n):\n",
        "  x, y = map(int, input().split())\n",
        "\n",
        "  i1 = cups.index(x)\n",
        "  i2 = cups.index(y)\n",
        "\n",
        "  tmp = cups[i1]\n",
        "  cups[i1] = cups[i2]\n",
        "  cups[i2] = tmp\n",
        "\n",
        "print(cups[0])"
      ]
    },
    {
      "cell_type": "markdown",
      "source": [
        "### 2460"
      ],
      "metadata": {
        "id": "iRmfAN8GhcZC"
      }
    },
    {
      "cell_type": "code",
      "source": [
        "p = 0\n",
        "mp = 0\n",
        "\n",
        "for _ in range(10):\n",
        "  out_p, in_p = map(int, input().split())\n",
        "  p += in_p - out_p\n",
        "  mp = max(p, mp)\n",
        "\n",
        "print(mp)"
      ],
      "metadata": {
        "colab": {
          "base_uri": "https://localhost:8080/"
        },
        "id": "_0RneQ43hdSd",
        "outputId": "6e6253de-8d4e-441e-aff1-e1adb6f05c30"
      },
      "execution_count": null,
      "outputs": [
        {
          "output_type": "stream",
          "name": "stdout",
          "text": [
            "0 32\n",
            "3 13\n",
            "28 25\n",
            "17 5\n",
            "21 20\n",
            "11 0\n",
            "12 12\n",
            "4 2\n",
            "0 8\n",
            "21 0\n",
            "42\n"
          ]
        }
      ]
    },
    {
      "cell_type": "markdown",
      "source": [
        "---"
      ],
      "metadata": {
        "id": "5p-w3N0rhfAq"
      }
    },
    {
      "cell_type": "markdown",
      "source": [
        "## CodeTree"
      ],
      "metadata": {
        "id": "a2HaVtCahf7d"
      }
    },
    {
      "cell_type": "markdown",
      "source": [
        "### 숫자 출력하기 3"
      ],
      "metadata": {
        "id": "aCjY9H6lhiMp"
      }
    },
    {
      "cell_type": "code",
      "source": [
        "n, m = map(int, input().split())\n",
        "\n",
        "for i in range(n):\n",
        "    for j in range(m):\n",
        "        print(i + 1 + j * n, end=' ')\n",
        "    print()"
      ],
      "metadata": {
        "id": "mKp_UHj3hjVh"
      },
      "execution_count": null,
      "outputs": []
    }
  ]
}