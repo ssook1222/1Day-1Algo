{
  "nbformat": 4,
  "nbformat_minor": 0,
  "metadata": {
    "colab": {
      "provenance": [],
      "authorship_tag": "ABX9TyMrntSsiBYFH9Itp5xSrXtn",
      "include_colab_link": true
    },
    "kernelspec": {
      "name": "python3",
      "display_name": "Python 3"
    },
    "language_info": {
      "name": "python"
    }
  },
  "cells": [
    {
      "cell_type": "markdown",
      "metadata": {
        "id": "view-in-github",
        "colab_type": "text"
      },
      "source": [
        "<a href=\"https://colab.research.google.com/github/ssook1222/1Day-1Algo/blob/master/ssook/24%EB%85%84/5%EC%9B%94/5%EC%9B%94%204%EC%A3%BC%EC%B0%A8/0519.ipynb\" target=\"_parent\"><img src=\"https://colab.research.google.com/assets/colab-badge.svg\" alt=\"Open In Colab\"/></a>"
      ]
    },
    {
      "cell_type": "markdown",
      "source": [
        "## BoJ"
      ],
      "metadata": {
        "id": "NNT-ydRj5CVP"
      }
    },
    {
      "cell_type": "markdown",
      "source": [
        "### 10865"
      ],
      "metadata": {
        "id": "Q6mM-87V5D0a"
      }
    },
    {
      "cell_type": "code",
      "execution_count": null,
      "metadata": {
        "id": "mAephpGz4--c",
        "colab": {
          "base_uri": "https://localhost:8080/"
        },
        "outputId": "8af87c67-a28d-4e8e-d46b-d83909a150f1"
      },
      "outputs": [
        {
          "output_type": "stream",
          "name": "stdout",
          "text": [
            "5 5\n",
            "1 2\n",
            "3 4\n",
            "2 5\n",
            "5 1\n",
            "4 2\n",
            "2\n",
            "3\n",
            "1\n",
            "2\n",
            "2\n"
          ]
        }
      ],
      "source": [
        "import sys\n",
        "input = sys.stdin.readline\n",
        "\n",
        "n, m = map(int, input().split())\n",
        "friend_counts = [0] * (n + 1)\n",
        "\n",
        "for _ in range(m):\n",
        "    a, b = map(int, input().split())\n",
        "    friend_counts[a] += 1\n",
        "    friend_counts[b] += 1\n",
        "\n",
        "for i in range(1, n + 1):\n",
        "    print(friend_counts[i])"
      ]
    },
    {
      "cell_type": "markdown",
      "source": [
        "### 4084"
      ],
      "metadata": {
        "id": "NVv39BZA5FEh"
      }
    },
    {
      "cell_type": "code",
      "source": [
        "def calculate_iterations(a, b, c, d):\n",
        "    steps = 0\n",
        "    while not (a == b == c == d):\n",
        "        a, b, c, d = abs(a - b), abs(b - c), abs(c - d), abs(d - a)\n",
        "        steps += 1\n",
        "    return steps\n",
        "\n",
        "while True:\n",
        "    a, b, c, d = map(int, input().split())\n",
        "    if a == b == c == d == 0:\n",
        "        break\n",
        "    print(calculate_iterations(a, b, c, d))"
      ],
      "metadata": {
        "id": "8LOK3PHS5Fvi",
        "colab": {
          "base_uri": "https://localhost:8080/"
        },
        "outputId": "0d13a207-cd32-450e-a634-cfc93fef5ee7"
      },
      "execution_count": null,
      "outputs": [
        {
          "name": "stdout",
          "output_type": "stream",
          "text": [
            "1 3 5 9\n",
            "6\n",
            "4 3 2 1\n",
            "4\n",
            "1 1 1 1\n",
            "0\n",
            "0 0 0 0\n"
          ]
        }
      ]
    },
    {
      "cell_type": "markdown",
      "source": [
        "## CodeTree"
      ],
      "metadata": {
        "id": "xHnJV01_5GOC"
      }
    },
    {
      "cell_type": "markdown",
      "source": [
        "### 윤년"
      ],
      "metadata": {
        "id": "UbX_YKxyhjZm"
      }
    },
    {
      "cell_type": "code",
      "source": [
        "yr = int(input())\n",
        "\n",
        "if (yr % 4 == 0 and yr % 100 != 0) or yr % 400 == 0:\n",
        "    print(1)\n",
        "else:\n",
        "    print(0)"
      ],
      "metadata": {
        "id": "JOyd58Vahkwn"
      },
      "execution_count": null,
      "outputs": []
    }
  ]
}