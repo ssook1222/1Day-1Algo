{
  "nbformat": 4,
  "nbformat_minor": 0,
  "metadata": {
    "colab": {
      "provenance": [],
      "authorship_tag": "ABX9TyPpKRueCLaMucawk9+mXj3n",
      "include_colab_link": true
    },
    "kernelspec": {
      "name": "python3",
      "display_name": "Python 3"
    },
    "language_info": {
      "name": "python"
    }
  },
  "cells": [
    {
      "cell_type": "markdown",
      "metadata": {
        "id": "view-in-github",
        "colab_type": "text"
      },
      "source": [
        "<a href=\"https://colab.research.google.com/github/ssook1222/1Day-1Algo/blob/master/ssook/24%EB%85%84/5%EC%9B%94/5%EC%9B%94%204%EC%A3%BC%EC%B0%A8/0522.ipynb\" target=\"_parent\"><img src=\"https://colab.research.google.com/assets/colab-badge.svg\" alt=\"Open In Colab\"/></a>"
      ]
    },
    {
      "cell_type": "markdown",
      "source": [
        "## BoJ"
      ],
      "metadata": {
        "id": "RBsWYUfkEZqe"
      }
    },
    {
      "cell_type": "markdown",
      "source": [
        "### 10992"
      ],
      "metadata": {
        "id": "3bCh-VXGEhTP"
      }
    },
    {
      "cell_type": "code",
      "execution_count": null,
      "metadata": {
        "colab": {
          "base_uri": "https://localhost:8080/"
        },
        "id": "au6DhDUHEXjF",
        "outputId": "e9f346b0-3858-4618-996d-c5efc69c32f1"
      },
      "outputs": [
        {
          "output_type": "stream",
          "name": "stdout",
          "text": [
            "3\n",
            "  *\n",
            " * *\n",
            "*****\n"
          ]
        }
      ],
      "source": [
        "n = int(input())\n",
        "\n",
        "print(\" \"*(n-1) + \"*\")\n",
        "\n",
        "if n != 1:\n",
        "  for i in range(1, n-1):\n",
        "    print(\" \" * (n-1-i) + \"*\" + \" \" * (2*i-1) + \"*\")\n",
        "  print(\"*\" * (2*n-1))"
      ]
    },
    {
      "cell_type": "markdown",
      "source": [
        "### 9063"
      ],
      "metadata": {
        "id": "oRhLzlSNEi9V"
      }
    },
    {
      "cell_type": "code",
      "source": [
        "n = int(input())\n",
        "x_list = []\n",
        "y_list = []\n",
        "\n",
        "for _ in range(n):\n",
        "  x, y = map(int, input().split())\n",
        "\n",
        "  x_list.append(x)\n",
        "  y_list.append(y)\n",
        "\n",
        "x_diff = max(x_list) - min(x_list)\n",
        "y_diff = max(y_list) - min(y_list)\n",
        "\n",
        "print(x_diff * y_diff)"
      ],
      "metadata": {
        "colab": {
          "base_uri": "https://localhost:8080/"
        },
        "id": "e_5ZnukcEoV3",
        "outputId": "da1ff5c4-c3c1-4ec2-8940-15152ae75b6c"
      },
      "execution_count": null,
      "outputs": [
        {
          "output_type": "stream",
          "name": "stdout",
          "text": [
            "1\n",
            "15 13\n",
            "0\n"
          ]
        }
      ]
    },
    {
      "cell_type": "markdown",
      "source": [
        "---"
      ],
      "metadata": {
        "id": "nWnspB06EtSg"
      }
    },
    {
      "cell_type": "markdown",
      "source": [
        "## CodeTree"
      ],
      "metadata": {
        "id": "Fj-mpkZUEubS"
      }
    },
    {
      "cell_type": "markdown",
      "source": [
        "### 100을 넘기는 순간"
      ],
      "metadata": {
        "id": "_AC41jquE0IS"
      }
    },
    {
      "cell_type": "code",
      "source": [
        "n = int(input())\n",
        "\n",
        "nums = list(map(int, input().split()))\n",
        "\n",
        "hap = 0\n",
        "cnt = 0\n",
        "\n",
        "for num in nums:\n",
        "    if num >= 100:\n",
        "        hap += num\n",
        "        cnt += 1\n",
        "        break\n",
        "\n",
        "    hap += num\n",
        "    cnt += 1\n",
        "\n",
        "print(\"%d\" %hap)\n",
        "print(\"%0.1f\" %(hap/cnt))"
      ],
      "metadata": {
        "id": "n0dJeMMYE1nL"
      },
      "execution_count": null,
      "outputs": []
    }
  ]
}