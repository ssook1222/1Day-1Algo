{
  "nbformat": 4,
  "nbformat_minor": 0,
  "metadata": {
    "colab": {
      "provenance": [],
      "authorship_tag": "ABX9TyOVME3CMUDgVaHWukPcdCSO",
      "include_colab_link": true
    },
    "kernelspec": {
      "name": "python3",
      "display_name": "Python 3"
    },
    "language_info": {
      "name": "python"
    }
  },
  "cells": [
    {
      "cell_type": "markdown",
      "metadata": {
        "id": "view-in-github",
        "colab_type": "text"
      },
      "source": [
        "<a href=\"https://colab.research.google.com/github/ssook1222/1Day-1Algo/blob/master/ssook/24%EB%85%84/5%EC%9B%94/5%EC%9B%94%204%EC%A3%BC%EC%B0%A8/0524.ipynb\" target=\"_parent\"><img src=\"https://colab.research.google.com/assets/colab-badge.svg\" alt=\"Open In Colab\"/></a>"
      ]
    },
    {
      "cell_type": "markdown",
      "source": [
        "## BoJ"
      ],
      "metadata": {
        "id": "XxbsxIZy3x-Q"
      }
    },
    {
      "cell_type": "markdown",
      "source": [
        "### 2721"
      ],
      "metadata": {
        "id": "z1bWGa-u3zM_"
      }
    },
    {
      "cell_type": "code",
      "execution_count": null,
      "metadata": {
        "colab": {
          "base_uri": "https://localhost:8080/"
        },
        "id": "XPFL0Tdy3vUi",
        "outputId": "263cdd5c-b1bb-43e8-8b11-8c9de8ca8178"
      },
      "outputs": [
        {
          "output_type": "stream",
          "name": "stdout",
          "text": [
            "4\n",
            "3\n",
            "4\n",
            "5\n",
            "10\n",
            "45\n",
            "105\n",
            "210\n",
            "2145\n"
          ]
        }
      ],
      "source": [
        "def triangular_number(k):\n",
        "    return k * (k + 1) // 2\n",
        "\n",
        "def weighted_triangular_sum(n):\n",
        "    W_n = 0\n",
        "    for k in range(1, n + 1):\n",
        "        T_k_plus_1 = triangular_number(k + 1)\n",
        "        W_n += k * T_k_plus_1\n",
        "    return W_n\n",
        "\n",
        "t = int(input())\n",
        "results = []\n",
        "for _ in range(t):\n",
        "    n = int(input())\n",
        "    results.append(weighted_triangular_sum(n))\n",
        "\n",
        "for result in results:\n",
        "    print(result)"
      ]
    },
    {
      "cell_type": "markdown",
      "source": [
        "### 2765"
      ],
      "metadata": {
        "id": "AEZ7Z4FB30D-"
      }
    },
    {
      "cell_type": "code",
      "source": [
        "import math\n",
        "\n",
        "cnt = 0\n",
        "\n",
        "while True:\n",
        "    cnt += 1\n",
        "    data = input().strip()\n",
        "    if not data:\n",
        "        break\n",
        "    r, roll, t = map(float, data.split())\n",
        "    roll = int(roll)\n",
        "\n",
        "    if roll == 0:\n",
        "        break\n",
        "\n",
        "    distance = (roll * math.pi * r) / (12 * 5280)\n",
        "\n",
        "    time_hours = t / 3600\n",
        "    if time_hours > 0:\n",
        "        speed = distance / time_hours\n",
        "    else:\n",
        "        speed = 0\n",
        "\n",
        "    print(f\"Trip #{cnt}: {distance:.2f} {speed:.2f}\")"
      ],
      "metadata": {
        "id": "UJoP-WPT302l",
        "colab": {
          "base_uri": "https://localhost:8080/"
        },
        "outputId": "f75efc79-5bed-49cc-a1d1-218ad7363c87"
      },
      "execution_count": null,
      "outputs": [
        {
          "name": "stdout",
          "output_type": "stream",
          "text": [
            "26 1000 5\n",
            "Trip #1: 1.29 928.20\n",
            "27.25 873234 3000\n",
            "Trip #2: 1179.86 1415.84\n",
            "26 0 1000\n"
          ]
        }
      ]
    },
    {
      "cell_type": "markdown",
      "source": [
        "---"
      ],
      "metadata": {
        "id": "xkwsgPha31Ov"
      }
    },
    {
      "cell_type": "markdown",
      "source": [
        "## CodeTree"
      ],
      "metadata": {
        "id": "qRho-51q32LB"
      }
    },
    {
      "cell_type": "markdown",
      "source": [
        "### 숫자 출력하기 1"
      ],
      "metadata": {
        "id": "LI3L_6Ja34Lk"
      }
    },
    {
      "cell_type": "code",
      "source": [
        "n, m = map(int, input().split())\n",
        "cur = 0\n",
        "for i in range(1, n+1):\n",
        "    for j in range(1, m+1):\n",
        "        cur += 1\n",
        "        print(cur, end = ' ')\n",
        "    print()"
      ],
      "metadata": {
        "id": "6cmiPsVn34t_"
      },
      "execution_count": null,
      "outputs": []
    }
  ]
}