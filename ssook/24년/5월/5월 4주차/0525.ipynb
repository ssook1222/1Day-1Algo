{
  "nbformat": 4,
  "nbformat_minor": 0,
  "metadata": {
    "colab": {
      "provenance": [],
      "authorship_tag": "ABX9TyO4oIEXbHKhZZkwg5rdBnFw",
      "include_colab_link": true
    },
    "kernelspec": {
      "name": "python3",
      "display_name": "Python 3"
    },
    "language_info": {
      "name": "python"
    }
  },
  "cells": [
    {
      "cell_type": "markdown",
      "metadata": {
        "id": "view-in-github",
        "colab_type": "text"
      },
      "source": [
        "<a href=\"https://colab.research.google.com/github/ssook1222/1Day-1Algo/blob/master/ssook/24%EB%85%84/5%EC%9B%94/5%EC%9B%94%204%EC%A3%BC%EC%B0%A8/0525.ipynb\" target=\"_parent\"><img src=\"https://colab.research.google.com/assets/colab-badge.svg\" alt=\"Open In Colab\"/></a>"
      ]
    },
    {
      "cell_type": "markdown",
      "source": [
        "## BoJ"
      ],
      "metadata": {
        "id": "0ZzgbKJF1gvu"
      }
    },
    {
      "cell_type": "markdown",
      "source": [
        "### 5063"
      ],
      "metadata": {
        "id": "hycrOnma1jFu"
      }
    },
    {
      "cell_type": "code",
      "execution_count": 2,
      "metadata": {
        "colab": {
          "base_uri": "https://localhost:8080/"
        },
        "id": "F_lqGVuO1N47",
        "outputId": "c82fabfd-4690-45c4-97e6-47a597d65f3c"
      },
      "outputs": [
        {
          "output_type": "stream",
          "name": "stdout",
          "text": [
            "3\n",
            "0 100 70\n",
            "advertise\n",
            "100 130 30\n",
            "does not matter\n",
            "-100 -70 40\n",
            "do not advertise\n"
          ]
        }
      ],
      "source": [
        "t = int(input())\n",
        "\n",
        "for _ in range(t):\n",
        "  r, e, c = map(int, input().split())\n",
        "\n",
        "  if r < e - c:\n",
        "    print('advertise')\n",
        "\n",
        "  elif r == e - c:\n",
        "    print('does not matter')\n",
        "\n",
        "  else:\n",
        "    print('do not advertise')"
      ]
    },
    {
      "cell_type": "markdown",
      "source": [
        "### 10833"
      ],
      "metadata": {
        "id": "h3WtmXQT2wO6"
      }
    },
    {
      "cell_type": "code",
      "source": [
        "n = int(input())\n",
        "\n",
        "ans = 0\n",
        "\n",
        "for _ in range(n):\n",
        "  a, b = map(int, input().split())\n",
        "  ans += b % a\n",
        "\n",
        "print(ans)"
      ],
      "metadata": {
        "colab": {
          "base_uri": "https://localhost:8080/"
        },
        "id": "Q5yZAgv_2xtm",
        "outputId": "97e386e3-6ce1-42af-dcff-10bb1cfbb94f"
      },
      "execution_count": 3,
      "outputs": [
        {
          "output_type": "stream",
          "name": "stdout",
          "text": [
            "3\n",
            "10 20\n",
            "5 5\n",
            "1 13\n",
            "0\n"
          ]
        }
      ]
    },
    {
      "cell_type": "markdown",
      "source": [
        "---"
      ],
      "metadata": {
        "id": "QztpOmwU4Qoq"
      }
    },
    {
      "cell_type": "markdown",
      "source": [
        "## CodeTree"
      ],
      "metadata": {
        "id": "EkOr49_v4UMl"
      }
    },
    {
      "cell_type": "markdown",
      "source": [
        "### 5와 7의 배수의 개수 세기"
      ],
      "metadata": {
        "id": "4r4UEBiD51Eu"
      }
    },
    {
      "cell_type": "code",
      "source": [
        "n = int(input())\n",
        "\n",
        "nums = list(map(int, input().split()))\n",
        "\n",
        "cnt5 = 0\n",
        "cnt7 = 0\n",
        "\n",
        "for num in nums:\n",
        "    if num % 5 == 0:\n",
        "        cnt5 += 1\n",
        "\n",
        "    if num % 7 == 0:\n",
        "        cnt7 += 1\n",
        "\n",
        "print(cnt5)\n",
        "print(cnt7)"
      ],
      "metadata": {
        "id": "HjrVucTQ4Wzu"
      },
      "execution_count": null,
      "outputs": []
    }
  ]
}