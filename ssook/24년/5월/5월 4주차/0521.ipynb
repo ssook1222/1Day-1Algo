{
  "nbformat": 4,
  "nbformat_minor": 0,
  "metadata": {
    "colab": {
      "provenance": [],
      "authorship_tag": "ABX9TyPv2eexGo9dwx0OqYwZ4Hr2",
      "include_colab_link": true
    },
    "kernelspec": {
      "name": "python3",
      "display_name": "Python 3"
    },
    "language_info": {
      "name": "python"
    }
  },
  "cells": [
    {
      "cell_type": "markdown",
      "metadata": {
        "id": "view-in-github",
        "colab_type": "text"
      },
      "source": [
        "<a href=\"https://colab.research.google.com/github/ssook1222/1Day-1Algo/blob/master/ssook/24%EB%85%84/5%EC%9B%94/5%EC%9B%94%204%EC%A3%BC%EC%B0%A8/0521.ipynb\" target=\"_parent\"><img src=\"https://colab.research.google.com/assets/colab-badge.svg\" alt=\"Open In Colab\"/></a>"
      ]
    },
    {
      "cell_type": "markdown",
      "source": [
        "## BoJ"
      ],
      "metadata": {
        "id": "kDchh3KSaDbS"
      }
    },
    {
      "cell_type": "markdown",
      "source": [
        "### 10991"
      ],
      "metadata": {
        "id": "SmycfkotaFY9"
      }
    },
    {
      "cell_type": "code",
      "execution_count": null,
      "metadata": {
        "colab": {
          "base_uri": "https://localhost:8080/"
        },
        "id": "rAFqNIPYaBFE",
        "outputId": "2ef6b336-cbc3-421c-ea0c-245ec69ceed0"
      },
      "outputs": [
        {
          "output_type": "stream",
          "name": "stdout",
          "text": [
            "3\n",
            "  *\n",
            " * *\n",
            "* * *\n"
          ]
        }
      ],
      "source": [
        "n = int(input())\n",
        "\n",
        "for i in range(1, n+1):\n",
        "  print(\" \" * (n-i) + \"* \" * (i-1) + \"*\")"
      ]
    },
    {
      "cell_type": "markdown",
      "source": [
        "### 2903"
      ],
      "metadata": {
        "id": "EhprvBBlaGQi"
      }
    },
    {
      "cell_type": "code",
      "source": [
        "n = int(input())\n",
        "\n",
        "ans = ((2**n)+1)**2\n",
        "print(ans)"
      ],
      "metadata": {
        "colab": {
          "base_uri": "https://localhost:8080/"
        },
        "id": "VgvV3lk4aHFC",
        "outputId": "5871eda5-e0e9-4c0b-9917-5bbffe275ddd"
      },
      "execution_count": null,
      "outputs": [
        {
          "output_type": "stream",
          "name": "stdout",
          "text": [
            "2\n",
            "25\n"
          ]
        }
      ]
    },
    {
      "cell_type": "markdown",
      "source": [
        "---"
      ],
      "metadata": {
        "id": "y_eea1W6aIFM"
      }
    },
    {
      "cell_type": "markdown",
      "source": [
        "## CodeTree"
      ],
      "metadata": {
        "id": "L8nvTjRvaK0j"
      }
    },
    {
      "cell_type": "markdown",
      "source": [
        "### 숫자 피라미드 2"
      ],
      "metadata": {
        "id": "5-uJMVLoaMLh"
      }
    },
    {
      "cell_type": "code",
      "source": [
        "n = int(input())\n",
        "\n",
        "current_number = 1\n",
        "\n",
        "for i in range(1, n + 1):\n",
        "    for j in range(i):\n",
        "        print(current_number, end=' ')\n",
        "        current_number += 1\n",
        "    print()"
      ],
      "metadata": {
        "id": "PZKkETWvaNGD"
      },
      "execution_count": null,
      "outputs": []
    }
  ]
}