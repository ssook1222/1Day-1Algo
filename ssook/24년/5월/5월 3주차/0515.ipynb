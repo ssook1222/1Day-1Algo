{
  "nbformat": 4,
  "nbformat_minor": 0,
  "metadata": {
    "colab": {
      "provenance": [],
      "authorship_tag": "ABX9TyMat1awde3TrD1nevsUH/n7",
      "include_colab_link": true
    },
    "kernelspec": {
      "name": "python3",
      "display_name": "Python 3"
    },
    "language_info": {
      "name": "python"
    }
  },
  "cells": [
    {
      "cell_type": "markdown",
      "metadata": {
        "id": "view-in-github",
        "colab_type": "text"
      },
      "source": [
        "<a href=\"https://colab.research.google.com/github/ssook1222/1Day-1Algo/blob/master/ssook/24%EB%85%84/5%EC%9B%94/5%EC%9B%94%203%EC%A3%BC%EC%B0%A8/0515.ipynb\" target=\"_parent\"><img src=\"https://colab.research.google.com/assets/colab-badge.svg\" alt=\"Open In Colab\"/></a>"
      ]
    },
    {
      "cell_type": "markdown",
      "source": [
        "## BoJ"
      ],
      "metadata": {
        "id": "nCc12W6Ta4RR"
      }
    },
    {
      "cell_type": "markdown",
      "source": [
        "### 17404"
      ],
      "metadata": {
        "id": "GyO3m0-UdcGk"
      }
    },
    {
      "cell_type": "code",
      "execution_count": null,
      "metadata": {
        "id": "LtDicz82ZtAn"
      },
      "outputs": [],
      "source": [
        "import sys\n",
        "\n",
        "INF = 2147000000\n",
        "n = int(sys.stdin.readline().rstrip())\n",
        "rgb = []\n",
        "ans = INF\n",
        "for _ in range(n):\n",
        "    rgb.append(list(map(int, sys.stdin.readline().rstrip().split())))\n",
        "\n",
        "for start_color in range(3):\n",
        "    dp = [[INF] * 3 for _ in range(n)]\n",
        "    dp[0][start_color] = rgb[0][start_color]\n",
        "\n",
        "    for i in range(1, n):\n",
        "        for color in range(3):\n",
        "            for prev_color in range(3):\n",
        "                if color != prev_color:\n",
        "                    dp[i][color] = min(dp[i][color], dp[i-1][prev_color] + rgb[i][color])\n",
        "\n",
        "    for end_color in range(3):\n",
        "        if start_color != end_color:\n",
        "            ans = min(ans, dp[-1][end_color])\n",
        "\n",
        "print(ans)"
      ]
    },
    {
      "cell_type": "markdown",
      "source": [
        "### 31394"
      ],
      "metadata": {
        "id": "aI5i_DvAdd04"
      }
    },
    {
      "cell_type": "code",
      "source": [
        "n = int(input())\n",
        "scores = []\n",
        "\n",
        "for _ in range(n):\n",
        "  scores.append(int(input()))\n",
        "\n",
        "individual = True\n",
        "nones = False\n",
        "great = False\n",
        "\n",
        "for score in scores:\n",
        "  if score != 5:\n",
        "    individual = False\n",
        "\n",
        "  if score <= 3:\n",
        "    nones = True\n",
        "\n",
        "if not individual and not nones:\n",
        "  if sum(scores) / n >= 4.5:\n",
        "    great = True\n",
        "\n",
        "if nones:\n",
        "  print('None')\n",
        "\n",
        "elif great and not individual:\n",
        "  print('High')\n",
        "\n",
        "elif individual:\n",
        "  print('Named')\n",
        "\n",
        "else:\n",
        "  print('Common')"
      ],
      "metadata": {
        "colab": {
          "base_uri": "https://localhost:8080/"
        },
        "id": "8zjVgiHqdehn",
        "outputId": "2fe39a7d-cf00-4055-8c4e-f7721b1e9c2f"
      },
      "execution_count": null,
      "outputs": [
        {
          "output_type": "stream",
          "name": "stdout",
          "text": [
            "3\n",
            "3\n",
            "3\n",
            "3\n",
            "None\n"
          ]
        }
      ]
    },
    {
      "cell_type": "markdown",
      "source": [
        "---"
      ],
      "metadata": {
        "id": "JIIeijc-dika"
      }
    },
    {
      "cell_type": "markdown",
      "source": [
        "## CodeTree"
      ],
      "metadata": {
        "id": "qQeL_K1ZdjpH"
      }
    },
    {
      "cell_type": "markdown",
      "source": [
        "### 특정 연산을 이행하는 함수"
      ],
      "metadata": {
        "id": "nlolbvb1dlcl"
      }
    },
    {
      "cell_type": "code",
      "source": [
        "a, b, c = map(int, input().split())\n",
        "\n",
        "def cal(n):\n",
        "    if n % 2 == 0:\n",
        "        return n / 2\n",
        "\n",
        "    else:\n",
        "        return n * 3 - 20\n",
        "\n",
        "print(\"%d %d %d\" %(cal(a), cal(b), cal(c)))"
      ],
      "metadata": {
        "id": "kSl-akKvdmKI"
      },
      "execution_count": null,
      "outputs": []
    }
  ]
}