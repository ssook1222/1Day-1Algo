{
  "nbformat": 4,
  "nbformat_minor": 0,
  "metadata": {
    "colab": {
      "provenance": [],
      "authorship_tag": "ABX9TyOitmV/DaIfFASd6IGmC6nx",
      "include_colab_link": true
    },
    "kernelspec": {
      "name": "python3",
      "display_name": "Python 3"
    },
    "language_info": {
      "name": "python"
    }
  },
  "cells": [
    {
      "cell_type": "markdown",
      "metadata": {
        "id": "view-in-github",
        "colab_type": "text"
      },
      "source": [
        "<a href=\"https://colab.research.google.com/github/ssook1222/1Day-1Algo/blob/master/ssook/24%EB%85%84/5%EC%9B%94/5%EC%9B%94%203%EC%A3%BC%EC%B0%A8/0513.ipynb\" target=\"_parent\"><img src=\"https://colab.research.google.com/assets/colab-badge.svg\" alt=\"Open In Colab\"/></a>"
      ]
    },
    {
      "cell_type": "markdown",
      "source": [
        "## BoJ"
      ],
      "metadata": {
        "id": "Dg52UfAO8DfE"
      }
    },
    {
      "cell_type": "markdown",
      "source": [
        "### 20303"
      ],
      "metadata": {
        "id": "U0H_4zua8FHw"
      }
    },
    {
      "cell_type": "markdown",
      "source": [
        "pypy3로 문제 풀이 진행"
      ],
      "metadata": {
        "id": "m8Omt_GlGtBR"
      }
    },
    {
      "cell_type": "code",
      "execution_count": null,
      "metadata": {
        "id": "Q7eULhvg8B6I"
      },
      "outputs": [],
      "source": [
        "import collections\n",
        "\n",
        "def trick_or_treat(children_N, relationship_N, resonance, candy_list, friend_list):\n",
        "    visited = [0] * (children_N + 1)\n",
        "\n",
        "    def bfs(x):\n",
        "        group = [[x], candy_list[x]]\n",
        "        queue = collections.deque()\n",
        "        queue.append(x)\n",
        "        visited[x] = 1\n",
        "\n",
        "        while queue:\n",
        "            now_x = queue.popleft()\n",
        "\n",
        "            for i in range(len(friend_list[now_x])):\n",
        "                if visited[friend_list[now_x][i]] == 0:\n",
        "                    friend = friend_list[now_x][i]\n",
        "                    visited[friend] = 1\n",
        "                    queue.append(friend)\n",
        "                    group[0].append(friend)\n",
        "                    group[1] += candy_list[friend]\n",
        "\n",
        "        return group\n",
        "\n",
        "    children_group = []\n",
        "    for i in range(1, children_N + 1):\n",
        "        if visited[i] == 0:\n",
        "            children_group.append(bfs(i))\n",
        "    children_group = [0] + children_group\n",
        "\n",
        "    dp = [[0] * (resonance + 1) for _ in range(len(children_group))]\n",
        "\n",
        "    for i in range(1, len(children_group)):\n",
        "        children, candy = len(children_group[i][0]), children_group[i][1]\n",
        "        for reso in range(1, resonance + 1):\n",
        "            if reso <= children:\n",
        "                dp[i][reso] = dp[i - 1][reso]\n",
        "            else:\n",
        "                dp[i][reso] = max(dp[i - 1][reso - children] + children_group[i][1], dp[i - 1][reso])\n",
        "\n",
        "    return dp[len(children_group) - 1][resonance]\n",
        "\n",
        "children_N, relationship_N, resonance = map(int, input().strip().split())\n",
        "\n",
        "candy_list = [0] + list(map(int, input().strip().split()))\n",
        "friend_list = [[] for _ in range(children_N + 1)]\n",
        "\n",
        "for _ in range(relationship_N):\n",
        "    a, b = map(int, input().strip().split())\n",
        "    friend_list[a].append(b)\n",
        "    friend_list[b].append(a)\n",
        "\n",
        "print(trick_or_treat(children_N, relationship_N, resonance, candy_list, friend_list))"
      ]
    },
    {
      "cell_type": "markdown",
      "source": [
        "### 5751"
      ],
      "metadata": {
        "id": "5upG-Xrf8Geu"
      }
    },
    {
      "cell_type": "code",
      "source": [
        "while True:\n",
        "    N = int(input())\n",
        "    if N == 0:\n",
        "        break\n",
        "    results = list(map(int, input().split()))\n",
        "    mary_wins = results.count(0)\n",
        "    john_wins = results.count(1)\n",
        "    print(\"Mary won\", mary_wins, \"times and John won\", john_wins, \"times\")"
      ],
      "metadata": {
        "id": "kAjubeLy8HE_"
      },
      "execution_count": null,
      "outputs": []
    },
    {
      "cell_type": "markdown",
      "source": [
        "---"
      ],
      "metadata": {
        "id": "rJcvjgbr8Hmo"
      }
    },
    {
      "cell_type": "markdown",
      "source": [
        "## CodeTree"
      ],
      "metadata": {
        "id": "As6uCaRm8IXl"
      }
    },
    {
      "cell_type": "markdown",
      "source": [
        "### 배열 재초기화"
      ],
      "metadata": {
        "id": "RfwDXleg8K1o"
      }
    },
    {
      "cell_type": "code",
      "source": [
        "n = int(input())\n",
        "array = [list(map(int, input().split())) for _ in range(n)]\n",
        "\n",
        "for i in range(n):\n",
        "    for j in range(n):\n",
        "        if i % 2 == 0:\n",
        "            array[i][j] = 1\n",
        "        if j % 2 == 1:\n",
        "            array[i][j] = 2\n",
        "\n",
        "for row in array:\n",
        "    print(*row)\n"
      ],
      "metadata": {
        "id": "YU3YFAk18La8"
      },
      "execution_count": null,
      "outputs": []
    }
  ]
}