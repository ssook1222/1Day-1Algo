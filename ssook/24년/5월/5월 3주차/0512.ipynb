{
  "nbformat": 4,
  "nbformat_minor": 0,
  "metadata": {
    "colab": {
      "provenance": [],
      "authorship_tag": "ABX9TyMvxDaCBWsOJKnldQh9IcF8",
      "include_colab_link": true
    },
    "kernelspec": {
      "name": "python3",
      "display_name": "Python 3"
    },
    "language_info": {
      "name": "python"
    }
  },
  "cells": [
    {
      "cell_type": "markdown",
      "metadata": {
        "id": "view-in-github",
        "colab_type": "text"
      },
      "source": [
        "<a href=\"https://colab.research.google.com/github/ssook1222/1Day-1Algo/blob/master/ssook/24%EB%85%84/5%EC%9B%94/5%EC%9B%94%203%EC%A3%BC%EC%B0%A8/0512.ipynb\" target=\"_parent\"><img src=\"https://colab.research.google.com/assets/colab-badge.svg\" alt=\"Open In Colab\"/></a>"
      ]
    },
    {
      "cell_type": "markdown",
      "source": [
        "## BoJ"
      ],
      "metadata": {
        "id": "I88k2NWWlPgQ"
      }
    },
    {
      "cell_type": "markdown",
      "source": [
        "### 27172"
      ],
      "metadata": {
        "id": "7_QQlgtklRFb"
      }
    },
    {
      "cell_type": "code",
      "execution_count": null,
      "metadata": {
        "id": "a5xtsLXbjJGl"
      },
      "outputs": [],
      "source": [
        "import sys\n",
        "\n",
        "n = int(sys.stdin.readline().rstrip())\n",
        "\n",
        "cards = []\n",
        "\n",
        "answer = dict()\n",
        "\n",
        "max_num = 0\n",
        "\n",
        "for i, num in enumerate([*map(int, sys.stdin.readline().rstrip().split())]):\n",
        "    max_num = max(max_num, num)\n",
        "    cards.append((i, num))\n",
        "    answer[num] = 0\n",
        "\n",
        "cards.sort(key=lambda x: x[1])\n",
        "\n",
        "for card_index in range(n):\n",
        "    origin_pos, num = cards[card_index]\n",
        "    for target in range(num * 2, max_num + 1, num):\n",
        "        if target in answer:\n",
        "            answer[num] += 1\n",
        "            answer[target] -= 1\n",
        "\n",
        "for key, item in answer.items():\n",
        "    print(item, end=\" \")"
      ]
    },
    {
      "cell_type": "markdown",
      "source": [
        "### 10162"
      ],
      "metadata": {
        "id": "fplH6awQlSna"
      }
    },
    {
      "cell_type": "code",
      "source": [
        "import sys\n",
        "\n",
        "T = int(sys.stdin.readline().rstrip())\n",
        "\n",
        "button_times = [300, 60, 10]\n",
        "button_counts = [0, 0, 0]\n",
        "\n",
        "for i in range(len(button_times)):\n",
        "    button_counts[i] = T // button_times[i]\n",
        "    T %= button_times[i]\n",
        "\n",
        "if T != 0:\n",
        "    print(\"-1\")\n",
        "else:\n",
        "    print(*button_counts)"
      ],
      "metadata": {
        "id": "oz5Seid9lTTn"
      },
      "execution_count": null,
      "outputs": []
    },
    {
      "cell_type": "markdown",
      "source": [
        "---"
      ],
      "metadata": {
        "id": "zKmn3ZK-lT7J"
      }
    },
    {
      "cell_type": "markdown",
      "source": [
        "## LeetCode"
      ],
      "metadata": {
        "id": "WOu8Q6XWlU0G"
      }
    },
    {
      "cell_type": "markdown",
      "source": [
        "### Reverse prefix of word"
      ],
      "metadata": {
        "id": "QApUd10TlWiV"
      }
    },
    {
      "cell_type": "code",
      "source": [
        "class Solution:\n",
        "    def reversePrefix(self, word: str, ch: str) -> str:\n",
        "        if ch not in word:\n",
        "            return word\n",
        "\n",
        "        index = word.index(ch)\n",
        "\n",
        "        prefix = word[:index + 1]\n",
        "        suffix = word[index + 1:]\n",
        "\n",
        "        return prefix[::-1] + suffix"
      ],
      "metadata": {
        "id": "-vpGkGkRlXNZ"
      },
      "execution_count": null,
      "outputs": []
    }
  ]
}