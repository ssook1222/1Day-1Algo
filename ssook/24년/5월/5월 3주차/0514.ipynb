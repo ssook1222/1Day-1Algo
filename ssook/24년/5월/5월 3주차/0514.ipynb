{
  "nbformat": 4,
  "nbformat_minor": 0,
  "metadata": {
    "colab": {
      "provenance": [],
      "authorship_tag": "ABX9TyM5WZHf5eEI2TuYo8SwW3xI",
      "include_colab_link": true
    },
    "kernelspec": {
      "name": "python3",
      "display_name": "Python 3"
    },
    "language_info": {
      "name": "python"
    }
  },
  "cells": [
    {
      "cell_type": "markdown",
      "metadata": {
        "id": "view-in-github",
        "colab_type": "text"
      },
      "source": [
        "<a href=\"https://colab.research.google.com/github/ssook1222/1Day-1Algo/blob/master/ssook/24%EB%85%84/5%EC%9B%94/5%EC%9B%94%203%EC%A3%BC%EC%B0%A8/0514.ipynb\" target=\"_parent\"><img src=\"https://colab.research.google.com/assets/colab-badge.svg\" alt=\"Open In Colab\"/></a>"
      ]
    },
    {
      "cell_type": "markdown",
      "source": [
        "## BoJ"
      ],
      "metadata": {
        "id": "JWp7ZYop392V"
      }
    },
    {
      "cell_type": "markdown",
      "source": [
        "### 2623"
      ],
      "metadata": {
        "id": "uHfTPpBg4CT8"
      }
    },
    {
      "cell_type": "markdown",
      "source": [
        "위상정렬 문제"
      ],
      "metadata": {
        "id": "U2mTSckYOeMw"
      }
    },
    {
      "cell_type": "code",
      "execution_count": null,
      "metadata": {
        "id": "5Qxc5Nkz37Fb"
      },
      "outputs": [],
      "source": [
        "import sys\n",
        "from collections import defaultdict, deque\n",
        "\n",
        "N, M = map(int, sys.stdin.readline().rstrip().split())\n",
        "\n",
        "graph = defaultdict(list)\n",
        "in_degree = [0] * (N + 1)\n",
        "\n",
        "for _ in range(M):\n",
        "    order = list(map(int, sys.stdin.readline().rstrip().split()))[1:]\n",
        "    for i in range(len(order) - 1):\n",
        "        graph[order[i]].append(order[i + 1])\n",
        "        in_degree[order[i + 1]] += 1\n",
        "\n",
        "def topological_sort():\n",
        "    result = []\n",
        "    queue = deque()\n",
        "\n",
        "    for i in range(1, N + 1):\n",
        "        if in_degree[i] == 0:\n",
        "            queue.append(i)\n",
        "\n",
        "    while queue:\n",
        "        current = queue.popleft()\n",
        "        result.append(current)\n",
        "\n",
        "        for next_node in graph[current]:\n",
        "            in_degree[next_node] -= 1\n",
        "\n",
        "            if in_degree[next_node] == 0:\n",
        "                queue.append(next_node)\n",
        "\n",
        "    if len(result) != N:\n",
        "        print(0)\n",
        "        return\n",
        "\n",
        "    for singer in result:\n",
        "        print(singer)\n",
        "\n",
        "topological_sort()"
      ]
    },
    {
      "cell_type": "markdown",
      "source": [
        "### 30569"
      ],
      "metadata": {
        "id": "351KLEc14Ej5"
      }
    },
    {
      "cell_type": "code",
      "source": [
        "import math\n",
        "\n",
        "def time_to_destroy(h, d, t):\n",
        "    shots = math.ceil(h / d)\n",
        "    return (shots - 1) * t\n",
        "\n",
        "h1, d1, t1 = map(int, input().split())\n",
        "h2, d2, t2 = map(int, input().split())\n",
        "\n",
        "time_to_destroy_1 = time_to_destroy(h2, d1, t1)\n",
        "time_to_destroy_2 = time_to_destroy(h1, d2, t2)\n",
        "\n",
        "if time_to_destroy_1 < time_to_destroy_2:\n",
        "    print(\"player one\")\n",
        "elif time_to_destroy_1 > time_to_destroy_2:\n",
        "    print(\"player two\")\n",
        "else:\n",
        "    print(\"draw\")"
      ],
      "metadata": {
        "id": "jmLeVklf4Ful"
      },
      "execution_count": null,
      "outputs": []
    },
    {
      "cell_type": "markdown",
      "source": [
        "---"
      ],
      "metadata": {
        "id": "nN6MOust4Gl9"
      }
    },
    {
      "cell_type": "markdown",
      "source": [
        "## CodeTree"
      ],
      "metadata": {
        "id": "QVxA3PtB4HrW"
      }
    },
    {
      "cell_type": "markdown",
      "source": [
        "### 소수 3"
      ],
      "metadata": {
        "id": "MP_bvBMc4MSs"
      }
    },
    {
      "cell_type": "code",
      "source": [
        "import math\n",
        "\n",
        "def is_prime(n):\n",
        "    if n < 2:  # 1 미만의 숫자는 소수가 아님\n",
        "        return False\n",
        "    for i in range(2, int(math.sqrt(n)) + 1):  # 주어진 수의 제곱근까지만 확인\n",
        "        if n % i == 0:\n",
        "            return False\n",
        "    return True\n",
        "\n",
        "n = int(input())\n",
        "nums = list(map(int, input().split()))\n",
        "\n",
        "cnt = 0\n",
        "\n",
        "for num in nums:\n",
        "    if is_prime(num):\n",
        "        cnt += 1\n",
        "\n",
        "print(cnt)"
      ],
      "metadata": {
        "id": "QRX31Rc-4N5p"
      },
      "execution_count": null,
      "outputs": []
    }
  ]
}