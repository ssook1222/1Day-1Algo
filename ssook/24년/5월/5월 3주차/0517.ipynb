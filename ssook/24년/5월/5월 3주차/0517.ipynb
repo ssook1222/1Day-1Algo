{
  "nbformat": 4,
  "nbformat_minor": 0,
  "metadata": {
    "colab": {
      "provenance": [],
      "authorship_tag": "ABX9TyORtJvmy1W5QoHLB7MwcP+U",
      "include_colab_link": true
    },
    "kernelspec": {
      "name": "python3",
      "display_name": "Python 3"
    },
    "language_info": {
      "name": "python"
    }
  },
  "cells": [
    {
      "cell_type": "markdown",
      "metadata": {
        "id": "view-in-github",
        "colab_type": "text"
      },
      "source": [
        "<a href=\"https://colab.research.google.com/github/ssook1222/1Day-1Algo/blob/master/ssook/24%EB%85%84/5%EC%9B%94/5%EC%9B%94%203%EC%A3%BC%EC%B0%A8/0517.ipynb\" target=\"_parent\"><img src=\"https://colab.research.google.com/assets/colab-badge.svg\" alt=\"Open In Colab\"/></a>"
      ]
    },
    {
      "cell_type": "markdown",
      "source": [
        "## BoJ"
      ],
      "metadata": {
        "id": "WpA6pgEsjOCh"
      }
    },
    {
      "cell_type": "markdown",
      "source": [
        "### 9466"
      ],
      "metadata": {
        "id": "iGH8_FfhjROs"
      }
    },
    {
      "cell_type": "code",
      "execution_count": null,
      "metadata": {
        "id": "HZj2kIIqjI3h"
      },
      "outputs": [],
      "source": [
        "import sys\n",
        "\n",
        "sys.setrecursionlimit(10**8)\n",
        "\n",
        "def dfs(x):\n",
        "    global result, visited\n",
        "    visited[x] = True\n",
        "    cycle.append(x)\n",
        "    number = numbers[x]\n",
        "\n",
        "    if visited[number]:\n",
        "        if number in cycle:\n",
        "            result += cycle[cycle.index(number):]\n",
        "        return\n",
        "    else:\n",
        "        dfs(number)\n",
        "\n",
        "def count_students_not_in_team(T):\n",
        "    global visited, numbers, result, cycle\n",
        "    for _ in range(T):\n",
        "        N = int(sys.stdin.readline().rstrip())\n",
        "        numbers = [0] + list(map(int, sys.stdin.readline().rstrip().split()))\n",
        "        visited = [True] + [False] * N\n",
        "        result = []\n",
        "\n",
        "        for i in range(1, N + 1):\n",
        "            if not visited[i]:\n",
        "                cycle = []\n",
        "                dfs(i)\n",
        "\n",
        "        print(N - len(result))\n",
        "\n",
        "def main():\n",
        "    T = int(sys.stdin.readline().rstrip())\n",
        "    count_students_not_in_team(T)\n",
        "\n",
        "if __name__ == \"__main__\":\n",
        "    main()"
      ]
    },
    {
      "cell_type": "markdown",
      "source": [
        "### 31833"
      ],
      "metadata": {
        "id": "mS0qOSP5jTLr"
      }
    },
    {
      "cell_type": "code",
      "source": [
        "n = int(input())\n",
        "\n",
        "a = list(map(str, input().split()))\n",
        "b = list(map(str, input().split()))\n",
        "\n",
        "a_hap = ''\n",
        "b_hap = ''\n",
        "\n",
        "for c in a:\n",
        "  a_hap += c\n",
        "\n",
        "for c in b:\n",
        "  b_hap += c\n",
        "\n",
        "print(min(int(a_hap), int(b_hap)))"
      ],
      "metadata": {
        "colab": {
          "base_uri": "https://localhost:8080/"
        },
        "id": "qO6Bu35tjUL6",
        "outputId": "b54ecdb5-510b-4a96-97f6-f7a71aedb377"
      },
      "execution_count": null,
      "outputs": [
        {
          "output_type": "stream",
          "name": "stdout",
          "text": [
            "5\n",
            "5 4 3 2 1\n",
            "1 2 34 5 6\n",
            "54321\n"
          ]
        }
      ]
    },
    {
      "cell_type": "markdown",
      "source": [
        "---"
      ],
      "metadata": {
        "id": "Z1JJ7-uijVAA"
      }
    },
    {
      "cell_type": "markdown",
      "source": [
        "## CodeTree"
      ],
      "metadata": {
        "id": "zmJ4t6bCjXII"
      }
    },
    {
      "cell_type": "markdown",
      "source": [
        "### 특정 규칙에 따른 숫자 출력 2\n"
      ],
      "metadata": {
        "id": "eGD1r4d0jbby"
      }
    },
    {
      "cell_type": "code",
      "source": [
        "n = int(input())\n",
        "num = 11\n",
        "\n",
        "for i in range(n):\n",
        "    for j in range(n):\n",
        "        if num == 1:\n",
        "            num = 11\n",
        "        num -= 2\n",
        "        print(num, end = ' ')\n",
        "    print()"
      ],
      "metadata": {
        "id": "OmM532VUjYX6"
      },
      "execution_count": null,
      "outputs": []
    }
  ]
}