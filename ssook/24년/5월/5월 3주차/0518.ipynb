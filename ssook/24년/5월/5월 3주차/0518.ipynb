{
  "nbformat": 4,
  "nbformat_minor": 0,
  "metadata": {
    "colab": {
      "provenance": [],
      "authorship_tag": "ABX9TyPxsTv+NiD2cj08+un4KYjx",
      "include_colab_link": true
    },
    "kernelspec": {
      "name": "python3",
      "display_name": "Python 3"
    },
    "language_info": {
      "name": "python"
    }
  },
  "cells": [
    {
      "cell_type": "markdown",
      "metadata": {
        "id": "view-in-github",
        "colab_type": "text"
      },
      "source": [
        "<a href=\"https://colab.research.google.com/github/ssook1222/1Day-1Algo/blob/master/ssook/24%EB%85%84/5%EC%9B%94/5%EC%9B%94%203%EC%A3%BC%EC%B0%A8/0518.ipynb\" target=\"_parent\"><img src=\"https://colab.research.google.com/assets/colab-badge.svg\" alt=\"Open In Colab\"/></a>"
      ]
    },
    {
      "cell_type": "markdown",
      "source": [
        "## BoJ"
      ],
      "metadata": {
        "id": "s4J9ZFltIwYa"
      }
    },
    {
      "cell_type": "markdown",
      "source": [
        "### 14215\n"
      ],
      "metadata": {
        "id": "dorBA-_6Izuv"
      }
    },
    {
      "cell_type": "code",
      "execution_count": null,
      "metadata": {
        "colab": {
          "base_uri": "https://localhost:8080/"
        },
        "id": "NY2W6AcyDRnp",
        "outputId": "a39451ca-8038-4cf7-ff06-66b420e5f939"
      },
      "outputs": [
        {
          "output_type": "stream",
          "name": "stdout",
          "text": [
            "1 2 3\n",
            "5\n"
          ]
        }
      ],
      "source": [
        "def max_triangle_perimeter(a, b, c):\n",
        "    sides = sorted([a, b, c], reverse=True)\n",
        "    a, b, c = sides\n",
        "\n",
        "    while a >= b + c:\n",
        "        a -= 1\n",
        "\n",
        "    return a + b + c\n",
        "\n",
        "a, b, c = map(int, input().split())\n",
        "print(max_triangle_perimeter(a, b, c))"
      ]
    },
    {
      "cell_type": "markdown",
      "source": [
        "### 5365"
      ],
      "metadata": {
        "id": "0ZVbCYUeI0VS"
      }
    },
    {
      "cell_type": "code",
      "source": [
        "def decode_message(n, words):\n",
        "    decoded_message = []\n",
        "    len_prev_word = 1\n",
        "\n",
        "    for word in words:\n",
        "        if len(word) < len_prev_word:\n",
        "            decoded_message.append(' ')\n",
        "        else:\n",
        "            decoded_message.append(word[len_prev_word - 1])\n",
        "\n",
        "        len_prev_word = len(word)\n",
        "\n",
        "    print(''.join(decoded_message))\n",
        "\n",
        "n = int(input())\n",
        "words = input().split()\n",
        "decode_message(n, words)"
      ],
      "metadata": {
        "colab": {
          "base_uri": "https://localhost:8080/"
        },
        "id": "QXtrXRUsI1U7",
        "outputId": "b9fcd310-948e-41e6-a179-035f96e21817"
      },
      "execution_count": null,
      "outputs": [
        {
          "output_type": "stream",
          "name": "stdout",
          "text": [
            "10\n",
            "Give Solo a total Naboo map DEV reject bateau German\n",
            "Go to Vjun\n"
          ]
        }
      ]
    },
    {
      "cell_type": "markdown",
      "source": [
        "---"
      ],
      "metadata": {
        "id": "6A9AgHaTI2nC"
      }
    },
    {
      "cell_type": "markdown",
      "source": [
        "## CodeTree"
      ],
      "metadata": {
        "id": "4D0T1slpI3yo"
      }
    },
    {
      "cell_type": "markdown",
      "source": [
        "### 숫자 출력하기 2"
      ],
      "metadata": {
        "id": "MXYLB_mjI5PV"
      }
    },
    {
      "cell_type": "code",
      "source": [
        "n, m = map(int, input().split())\n",
        "\n",
        "current_number = 1\n",
        "\n",
        "for i in range(n):\n",
        "    if i % 2 == 0:\n",
        "        for j in range(m):\n",
        "            print(current_number, end=' ')\n",
        "            current_number += 1\n",
        "    else:\n",
        "        current_number += m - 1\n",
        "        for j in range(m):\n",
        "            print(current_number, end=' ')\n",
        "            current_number -= 1\n",
        "        current_number += m + 1\n",
        "    print()"
      ],
      "metadata": {
        "id": "7UDaOaFqI560"
      },
      "execution_count": null,
      "outputs": []
    }
  ]
}