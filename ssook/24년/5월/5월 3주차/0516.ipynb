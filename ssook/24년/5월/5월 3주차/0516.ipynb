{
  "nbformat": 4,
  "nbformat_minor": 0,
  "metadata": {
    "colab": {
      "provenance": [],
      "authorship_tag": "ABX9TyMhU+769a4QJY078klF1gIh",
      "include_colab_link": true
    },
    "kernelspec": {
      "name": "python3",
      "display_name": "Python 3"
    },
    "language_info": {
      "name": "python"
    }
  },
  "cells": [
    {
      "cell_type": "markdown",
      "metadata": {
        "id": "view-in-github",
        "colab_type": "text"
      },
      "source": [
        "<a href=\"https://colab.research.google.com/github/ssook1222/1Day-1Algo/blob/master/ssook/24%EB%85%84/5%EC%9B%94/5%EC%9B%94%203%EC%A3%BC%EC%B0%A8/0516.ipynb\" target=\"_parent\"><img src=\"https://colab.research.google.com/assets/colab-badge.svg\" alt=\"Open In Colab\"/></a>"
      ]
    },
    {
      "cell_type": "markdown",
      "source": [
        "## BoJ"
      ],
      "metadata": {
        "id": "QkzlT1blp11K"
      }
    },
    {
      "cell_type": "markdown",
      "source": [
        "### 13460"
      ],
      "metadata": {
        "id": "RdmipKyIp3tN"
      }
    },
    {
      "cell_type": "code",
      "execution_count": null,
      "metadata": {
        "id": "PxGSA_VapzQK"
      },
      "outputs": [],
      "source": [
        "import sys\n",
        "from collections import deque\n",
        "\n",
        "dx = [-1, 1, 0, 0]\n",
        "dy = [0, 0, -1, 1]\n",
        "\n",
        "def move(x, y, dx, dy):\n",
        "    count = 0\n",
        "    while board[x+dx][y+dy] != '#' and board[x][y] != 'O':\n",
        "        x += dx\n",
        "        y += dy\n",
        "        count += 1\n",
        "    return x, y, count\n",
        "\n",
        "def bfs(rx, ry, bx, by):\n",
        "    visited = [[[[False] * M for _ in range(N)] for _ in range(M)] for _ in range(N)]\n",
        "    q = deque()\n",
        "    q.append((rx, ry, bx, by, 0))\n",
        "    visited[rx][ry][bx][by] = True\n",
        "\n",
        "    while q:\n",
        "        rx, ry, bx, by, depth = q.popleft()\n",
        "        if depth > 10:\n",
        "            break\n",
        "\n",
        "        for i in range(4):\n",
        "            nrx, nry, r_count = move(rx, ry, dx[i], dy[i])\n",
        "            nbx, nby, b_count = move(bx, by, dx[i], dy[i])\n",
        "\n",
        "            if board[nbx][nby] == 'O':\n",
        "                continue\n",
        "\n",
        "            if board[nrx][nry] == 'O':\n",
        "                return depth + 1\n",
        "\n",
        "            if nrx == nbx and nry == nby:\n",
        "                if r_count > b_count:\n",
        "                    nrx -= dx[i]\n",
        "                    nry -= dy[i]\n",
        "                else:\n",
        "                    nbx -= dx[i]\n",
        "                    nby -= dy[i]\n",
        "\n",
        "            if not visited[nrx][nry][nbx][nby]:\n",
        "                visited[nrx][nry][nbx][nby] = True\n",
        "                q.append((nrx, nry, nbx, nby, depth + 1))\n",
        "    return -1\n",
        "\n",
        "N, M = map(int, sys.stdin.readline().rstrip().split())\n",
        "board = [list(sys.stdin.readline().rstrip()) for _ in range(N)]\n",
        "\n",
        "for i in range(N):\n",
        "    for j in range(M):\n",
        "        if board[i][j] == 'R':\n",
        "            rx, ry = i, j\n",
        "            board[i][j] = '.'\n",
        "        elif board[i][j] == 'B':\n",
        "            bx, by = i, j\n",
        "            board[i][j] = '.'\n",
        "\n",
        "ans = bfs(rx, ry, bx, by)\n",
        "if ans > 10:\n",
        "    print('-1')\n",
        "else:\n",
        "    print(ans)"
      ]
    },
    {
      "cell_type": "markdown",
      "source": [
        "### 3053"
      ],
      "metadata": {
        "id": "5jhC8YbJp4tV"
      }
    },
    {
      "cell_type": "code",
      "source": [
        "import math\n",
        "\n",
        "def euclidean_circle_area(radius):\n",
        "    return math.pi * radius ** 2\n",
        "\n",
        "def taxi_circle_area(radius):\n",
        "    return 2 * radius ** 2\n",
        "\n",
        "radius = int(input())\n",
        "\n",
        "euclidean_area = euclidean_circle_area(radius)\n",
        "taxi_area = taxi_circle_area(radius)\n",
        "\n",
        "print(f\"{euclidean_area:.6f}\")\n",
        "print(f\"{taxi_area:.6f}\")"
      ],
      "metadata": {
        "id": "2l4bRNklp6J6"
      },
      "execution_count": null,
      "outputs": []
    },
    {
      "cell_type": "markdown",
      "source": [
        "---"
      ],
      "metadata": {
        "id": "R6dqluT0p7S0"
      }
    },
    {
      "cell_type": "markdown",
      "source": [
        "## CodeTree"
      ],
      "metadata": {
        "id": "MF6hd6Vlp7-R"
      }
    },
    {
      "cell_type": "markdown",
      "source": [
        "### 두 수의 최대공약수와 최소공배수"
      ],
      "metadata": {
        "id": "N0iHmYA1p9oC"
      }
    },
    {
      "cell_type": "code",
      "source": [
        "import math\n",
        "\n",
        "a, b = map(int, input().split())\n",
        "\n",
        "num1 = math.gcd(a, b)\n",
        "num2 = math.lcm(a, b)\n",
        "\n",
        "print(num1, num2)"
      ],
      "metadata": {
        "id": "Ld9CwKy8p-fC"
      },
      "execution_count": null,
      "outputs": []
    }
  ]
}