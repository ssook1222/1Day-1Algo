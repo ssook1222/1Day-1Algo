{
  "nbformat": 4,
  "nbformat_minor": 0,
  "metadata": {
    "colab": {
      "provenance": [],
      "authorship_tag": "ABX9TyPgZP47wj1qYEW5GtVJzWC/",
      "include_colab_link": true
    },
    "kernelspec": {
      "name": "python3",
      "display_name": "Python 3"
    },
    "language_info": {
      "name": "python"
    }
  },
  "cells": [
    {
      "cell_type": "markdown",
      "metadata": {
        "id": "view-in-github",
        "colab_type": "text"
      },
      "source": [
        "<a href=\"https://colab.research.google.com/github/ssook1222/1Day-1Algo/blob/master/ssook/24%EB%85%84/5%EC%9B%94/5%EC%9B%94%205%EC%A3%BC%EC%B0%A8/0530.ipynb\" target=\"_parent\"><img src=\"https://colab.research.google.com/assets/colab-badge.svg\" alt=\"Open In Colab\"/></a>"
      ]
    },
    {
      "cell_type": "markdown",
      "source": [
        "## BoJ"
      ],
      "metadata": {
        "id": "jUlh6_yjyxtE"
      }
    },
    {
      "cell_type": "markdown",
      "source": [
        "### 5361"
      ],
      "metadata": {
        "id": "t-1MnZ7pyf9L"
      }
    },
    {
      "cell_type": "code",
      "execution_count": null,
      "metadata": {
        "id": "MUXEouD8w514"
      },
      "outputs": [],
      "source": [
        "t = int(input())\n",
        "\n",
        "for _ in range(t):\n",
        "    a, b, c, d, e = map(int, input().split())\n",
        "    res = a*350.34 + b*230.9 + c*190.55 + d*125.3 + e*180.9\n",
        "    print(\"$%.2f\" % (res))"
      ]
    },
    {
      "cell_type": "markdown",
      "source": [
        "### 2783"
      ],
      "metadata": {
        "id": "IhvUgmYdyiY5"
      }
    },
    {
      "cell_type": "code",
      "source": [
        "X, Y = map(int, input().split())\n",
        "lst = [X/Y]\n",
        "\n",
        "for _ in range(int(input())):\n",
        "    X, Y = map(int, input().split())\n",
        "    lst.append(X/Y)\n",
        "\n",
        "min_num = min(lst)\n",
        "\n",
        "print(\"%.2f\" % (min_num*1000))"
      ],
      "metadata": {
        "id": "Q5xyCmJkyjT1"
      },
      "execution_count": null,
      "outputs": []
    },
    {
      "cell_type": "markdown",
      "source": [
        "## CodeTree"
      ],
      "metadata": {
        "id": "ERAeWyfLyzMT"
      }
    },
    {
      "cell_type": "markdown",
      "source": [
        "### 자동차 단일 거래 이익 최대화하기"
      ],
      "metadata": {
        "id": "ImW_Wf5Fy0bE"
      }
    },
    {
      "cell_type": "code",
      "source": [
        "n = int(input())\n",
        "price = list(map(int, input().split()))\n",
        "\n",
        "max_profit = 0\n",
        "min_price = price[0]\n",
        "\n",
        "for i in range(1, n):\n",
        "    min_price = min(min_price, price[i])\n",
        "    max_profit = max(max_profit, price[i] - min_price)\n",
        "\n",
        "print(max_profit)"
      ],
      "metadata": {
        "id": "KRUGbTj-y0L0"
      },
      "execution_count": null,
      "outputs": []
    }
  ]
}