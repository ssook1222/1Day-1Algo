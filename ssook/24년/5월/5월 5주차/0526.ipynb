{
  "nbformat": 4,
  "nbformat_minor": 0,
  "metadata": {
    "colab": {
      "provenance": [],
      "authorship_tag": "ABX9TyO44hXxUziJFFN6lQkbrb5T",
      "include_colab_link": true
    },
    "kernelspec": {
      "name": "python3",
      "display_name": "Python 3"
    },
    "language_info": {
      "name": "python"
    }
  },
  "cells": [
    {
      "cell_type": "markdown",
      "metadata": {
        "id": "view-in-github",
        "colab_type": "text"
      },
      "source": [
        "<a href=\"https://colab.research.google.com/github/ssook1222/1Day-1Algo/blob/master/ssook/24%EB%85%84/5%EC%9B%94/5%EC%9B%94%205%EC%A3%BC%EC%B0%A8/0526.ipynb\" target=\"_parent\"><img src=\"https://colab.research.google.com/assets/colab-badge.svg\" alt=\"Open In Colab\"/></a>"
      ]
    },
    {
      "cell_type": "markdown",
      "source": [
        "## BoJ"
      ],
      "metadata": {
        "id": "pBIv39DG9ekt"
      }
    },
    {
      "cell_type": "markdown",
      "source": [
        "### 10990"
      ],
      "metadata": {
        "id": "XQHfmwhK9gRM"
      }
    },
    {
      "cell_type": "code",
      "execution_count": null,
      "metadata": {
        "colab": {
          "base_uri": "https://localhost:8080/"
        },
        "id": "3pC9fNvm6Wud",
        "outputId": "4d17d0da-54e2-4fe1-cfbf-ee43f3f1d224"
      },
      "outputs": [
        {
          "output_type": "stream",
          "name": "stdout",
          "text": [
            "2\n",
            " *\n",
            "* *\n"
          ]
        }
      ],
      "source": [
        "n = int(input())\n",
        "\n",
        "print( ' '*(n-1) + '*' )\n",
        "\n",
        "for i in range(n-1):\n",
        "  print( ' ' *( (n-2)-i ) + '*' + ' ' * ((2*i)+1) + '*')"
      ]
    },
    {
      "cell_type": "markdown",
      "source": [
        "### 9325"
      ],
      "metadata": {
        "id": "cNFdp0Ir9iIO"
      }
    },
    {
      "cell_type": "code",
      "source": [
        "t = int(input())\n",
        "\n",
        "for _ in range(t):\n",
        "  s = int(input())\n",
        "  n = int(input())\n",
        "\n",
        "  price = s\n",
        "\n",
        "  for _ in range(n):\n",
        "    q, p = map(int, input().split())\n",
        "    price += q * p\n",
        "\n",
        "  print(price)"
      ],
      "metadata": {
        "colab": {
          "base_uri": "https://localhost:8080/"
        },
        "id": "7diuggOU9jxP",
        "outputId": "6521a723-df9f-486b-ef89-e03db89c6c0f"
      },
      "execution_count": null,
      "outputs": [
        {
          "output_type": "stream",
          "name": "stdout",
          "text": [
            "2\n",
            "10000\n",
            "2\n",
            "1 2000\n",
            "3 400\n",
            "13200\n",
            "50000\n",
            "0\n",
            "50000\n"
          ]
        }
      ]
    },
    {
      "cell_type": "markdown",
      "source": [
        "---"
      ],
      "metadata": {
        "id": "llyEQRUd9kf3"
      }
    },
    {
      "cell_type": "markdown",
      "source": [
        "## CodeTree"
      ],
      "metadata": {
        "id": "FmnbJYg99lMj"
      }
    },
    {
      "cell_type": "markdown",
      "source": [
        "### 특정 조건 세 정수 비교 2"
      ],
      "metadata": {
        "id": "NlbHmlFr9mv4"
      }
    },
    {
      "cell_type": "code",
      "source": [
        "a, b, c = map(int, input().split())\n",
        "\n",
        "nums = [a, b, c]\n",
        "\n",
        "if b == max(nums) and not (a == b == c):\n",
        "    print(1, end= ' ')\n",
        "\n",
        "else:\n",
        "    print(0, end= ' ')\n",
        "\n",
        "if a == b == c:\n",
        "    print(1)\n",
        "\n",
        "else:\n",
        "    print(0)"
      ],
      "metadata": {
        "id": "RJF3v1DO9nVb"
      },
      "execution_count": null,
      "outputs": []
    }
  ]
}