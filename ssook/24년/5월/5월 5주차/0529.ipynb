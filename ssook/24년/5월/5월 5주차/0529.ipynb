{
  "nbformat": 4,
  "nbformat_minor": 0,
  "metadata": {
    "colab": {
      "provenance": [],
      "authorship_tag": "ABX9TyN0oVVGMmejkrUz1bhhhnLC",
      "include_colab_link": true
    },
    "kernelspec": {
      "name": "python3",
      "display_name": "Python 3"
    },
    "language_info": {
      "name": "python"
    }
  },
  "cells": [
    {
      "cell_type": "markdown",
      "metadata": {
        "id": "view-in-github",
        "colab_type": "text"
      },
      "source": [
        "<a href=\"https://colab.research.google.com/github/ssook1222/1Day-1Algo/blob/master/ssook/24%EB%85%84/5%EC%9B%94/5%EC%9B%94%205%EC%A3%BC%EC%B0%A8/0529.ipynb\" target=\"_parent\"><img src=\"https://colab.research.google.com/assets/colab-badge.svg\" alt=\"Open In Colab\"/></a>"
      ]
    },
    {
      "cell_type": "markdown",
      "source": [
        "## BoJ"
      ],
      "metadata": {
        "id": "VO-c9e_YwsTb"
      }
    },
    {
      "cell_type": "markdown",
      "source": [
        "### 2921"
      ],
      "metadata": {
        "id": "AbAawKVWwvO4"
      }
    },
    {
      "cell_type": "code",
      "execution_count": null,
      "metadata": {
        "colab": {
          "base_uri": "https://localhost:8080/"
        },
        "id": "RY6qutRPwqUT",
        "outputId": "00bec7a8-71a2-4ad5-aa9d-7a7f83d8ce3d"
      },
      "outputs": [
        {
          "output_type": "stream",
          "name": "stdout",
          "text": [
            "2\n",
            "12\n"
          ]
        }
      ],
      "source": [
        "n = int(input())\n",
        "hap = 0\n",
        "\n",
        "for i in range(n+1):\n",
        "    for j in range(i, n+1):\n",
        "        hap += (i + j)\n",
        "\n",
        "print(hap)"
      ]
    },
    {
      "cell_type": "markdown",
      "source": [
        "### 2959"
      ],
      "metadata": {
        "id": "calyjloSwwUn"
      }
    },
    {
      "cell_type": "code",
      "source": [
        "lst = sorted(map(int, input().split()))\n",
        "print(lst[0]*lst[2])"
      ],
      "metadata": {
        "colab": {
          "base_uri": "https://localhost:8080/"
        },
        "id": "E9iMTLhtwxtV",
        "outputId": "0aca5a25-edf6-4a6b-a018-9532c894387b"
      },
      "execution_count": null,
      "outputs": [
        {
          "output_type": "stream",
          "name": "stdout",
          "text": [
            "1 2 3 4\n",
            "3\n"
          ]
        }
      ]
    },
    {
      "cell_type": "markdown",
      "source": [
        "---"
      ],
      "metadata": {
        "id": "GuuBAtlywx9u"
      }
    },
    {
      "cell_type": "markdown",
      "source": [
        "## CodeTree"
      ],
      "metadata": {
        "id": "nAi6NekUwzwH"
      }
    },
    {
      "cell_type": "markdown",
      "source": [
        "### n의 배수"
      ],
      "metadata": {
        "id": "C8KH_Bb2w13d"
      }
    },
    {
      "cell_type": "code",
      "source": [
        "def print_multiples(n):\n",
        "    i = 1\n",
        "    while True:\n",
        "        multiple = n * i\n",
        "        if multiple >= 200:\n",
        "            break\n",
        "        print(multiple, end=\" \")\n",
        "        if multiple % 10 == 0:\n",
        "            break\n",
        "        i += 1\n",
        "\n",
        "n = int(input().strip())\n",
        "\n",
        "print_multiples(n)"
      ],
      "metadata": {
        "id": "sBKTE11Iw3Yg"
      },
      "execution_count": null,
      "outputs": []
    }
  ]
}