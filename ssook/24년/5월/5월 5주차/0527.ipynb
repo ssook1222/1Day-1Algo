{
  "nbformat": 4,
  "nbformat_minor": 0,
  "metadata": {
    "colab": {
      "provenance": [],
      "authorship_tag": "ABX9TyPzB+mhSmGPUIpHjS++V2bj",
      "include_colab_link": true
    },
    "kernelspec": {
      "name": "python3",
      "display_name": "Python 3"
    },
    "language_info": {
      "name": "python"
    }
  },
  "cells": [
    {
      "cell_type": "markdown",
      "metadata": {
        "id": "view-in-github",
        "colab_type": "text"
      },
      "source": [
        "<a href=\"https://colab.research.google.com/github/ssook1222/1Day-1Algo/blob/master/ssook/24%EB%85%84/5%EC%9B%94/5%EC%9B%94%205%EC%A3%BC%EC%B0%A8/0527.ipynb\" target=\"_parent\"><img src=\"https://colab.research.google.com/assets/colab-badge.svg\" alt=\"Open In Colab\"/></a>"
      ]
    },
    {
      "cell_type": "markdown",
      "source": [
        "## BoJ"
      ],
      "metadata": {
        "id": "D4m6oLoGE2pC"
      }
    },
    {
      "cell_type": "markdown",
      "source": [
        "### 12790"
      ],
      "metadata": {
        "id": "VfO8e-J8E5ma"
      }
    },
    {
      "cell_type": "code",
      "execution_count": null,
      "metadata": {
        "colab": {
          "base_uri": "https://localhost:8080/"
        },
        "id": "n5ehPUeREmPF",
        "outputId": "5ecf0829-1f6e-42b2-e7a0-8c5f5d0d20f3"
      },
      "outputs": [
        {
          "output_type": "stream",
          "name": "stdout",
          "text": [
            "3\n",
            "100 100 100 100 0 0 0 0\n",
            "1000\n",
            "10 20 30 40 40 30 20 10\n",
            "500\n",
            "100 100 100 100 -200 0 400 400\n",
            "2501\n"
          ]
        }
      ],
      "source": [
        "t = int(input())\n",
        "\n",
        "for _ in range(t):\n",
        "  s = []\n",
        "  lst = list(map(int, input().split()))\n",
        "\n",
        "  for i in range(4):\n",
        "    s.append(lst[i] + lst[i+4])\n",
        "  res = max(s[0], 1) + max(s[1], 1)*5 + max(s[2], 0)*2 + s[3]*2\n",
        "  print(res)"
      ]
    },
    {
      "cell_type": "markdown",
      "source": [
        "### 4892"
      ],
      "metadata": {
        "id": "kaKUetLIE6f0"
      }
    },
    {
      "cell_type": "code",
      "source": [
        "cur = 1\n",
        "\n",
        "while True:\n",
        "  n0 = int(input())\n",
        "\n",
        "  if n0 == 0:\n",
        "    break\n",
        "\n",
        "  n1 = 3 * n0\n",
        "\n",
        "  if n1 % 2 == 0:\n",
        "    n2 = (n1+1)//2\n",
        "  else:\n",
        "    n2 = n1//2\n",
        "\n",
        "  n3 = 3*n2\n",
        "  n4 = n3//9\n",
        "\n",
        "  if n0 == 2*n4:\n",
        "    print(f\"{cur}. even {n4}\")\n",
        "  else:\n",
        "    print(f\"{cur}. odd {n4}\")\n",
        "\n",
        "  cur += 1"
      ],
      "metadata": {
        "colab": {
          "base_uri": "https://localhost:8080/"
        },
        "id": "ajU2-RCPE7DZ",
        "outputId": "2cbad2b6-999b-4306-992d-cd21e3d6154d"
      },
      "execution_count": null,
      "outputs": [
        {
          "name": "stdout",
          "output_type": "stream",
          "text": [
            "37\n",
            "1. odd 18\n",
            "38\n",
            "2. even 19\n",
            "0\n"
          ]
        }
      ]
    },
    {
      "cell_type": "markdown",
      "source": [
        "---"
      ],
      "metadata": {
        "id": "03Wz2DzFE7h0"
      }
    },
    {
      "cell_type": "markdown",
      "source": [
        "## CodeTree"
      ],
      "metadata": {
        "id": "TMmcwSSeE85W"
      }
    },
    {
      "cell_type": "markdown",
      "source": [
        "### 숫자 출력하기 4"
      ],
      "metadata": {
        "id": "Y-4YQl_-E_C0"
      }
    },
    {
      "cell_type": "code",
      "source": [
        "n, k = map(int, input().split())\n",
        "\n",
        "if k == 1:\n",
        "    for j in range(1, n+1):\n",
        "        for i in range(1, n+1):\n",
        "            print(j, end = ' ')\n",
        "        print(' ')\n",
        "\n",
        "if k == 2:\n",
        "    for j in range(n):\n",
        "        if j % 2 == 0:\n",
        "            for i in range(1, n+1):\n",
        "                print(i, end = ' ')\n",
        "        if j % 2 != 0:\n",
        "            for i in range(n, 0, -1):\n",
        "                print(i, end = ' ')\n",
        "        print(' ')\n",
        "\n",
        "if k == 3:\n",
        "    for j in range(1, n+1):\n",
        "        for i in range(1, n+1):\n",
        "            print(i * j, end = ' ')\n",
        "        print(' ')"
      ],
      "metadata": {
        "id": "cfY-9tKzE_ir"
      },
      "execution_count": null,
      "outputs": []
    }
  ]
}