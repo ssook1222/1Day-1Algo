{
  "nbformat": 4,
  "nbformat_minor": 0,
  "metadata": {
    "colab": {
      "provenance": [],
      "authorship_tag": "ABX9TyO9mmqE6fUoxm8ngbTrjzKR",
      "include_colab_link": true
    },
    "kernelspec": {
      "name": "python3",
      "display_name": "Python 3"
    },
    "language_info": {
      "name": "python"
    }
  },
  "cells": [
    {
      "cell_type": "markdown",
      "metadata": {
        "id": "view-in-github",
        "colab_type": "text"
      },
      "source": [
        "<a href=\"https://colab.research.google.com/github/ssook1222/1Day-1Algo/blob/master/ssook/24%EB%85%84/5%EC%9B%94/5%EC%9B%94%205%EC%A3%BC%EC%B0%A8/0528.ipynb\" target=\"_parent\"><img src=\"https://colab.research.google.com/assets/colab-badge.svg\" alt=\"Open In Colab\"/></a>"
      ]
    },
    {
      "cell_type": "markdown",
      "source": [
        "## BoJ"
      ],
      "metadata": {
        "id": "dHP4b42r5COO"
      }
    },
    {
      "cell_type": "markdown",
      "source": [
        "### 1598"
      ],
      "metadata": {
        "id": "g3dC6v4h5D_-"
      }
    },
    {
      "cell_type": "code",
      "execution_count": null,
      "metadata": {
        "colab": {
          "base_uri": "https://localhost:8080/"
        },
        "id": "A1sV5YM84MFD",
        "outputId": "a5155a3d-3c15-4948-9d2a-5920616c615c"
      },
      "outputs": [
        {
          "output_type": "stream",
          "name": "stdout",
          "text": [
            "11 33\n",
            "8\n"
          ]
        }
      ],
      "source": [
        "a, b = map (int, input().split())\n",
        "a -= 1\n",
        "b -= 1\n",
        "\n",
        "move1 = abs(a//4 - b//4)\n",
        "move2 = abs(a%4 - b%4)\n",
        "\n",
        "print(move1 + move2)"
      ]
    },
    {
      "cell_type": "markdown",
      "source": [
        "### 1703"
      ],
      "metadata": {
        "id": "cewQTABR5ZsZ"
      }
    },
    {
      "cell_type": "code",
      "source": [
        "while True:\n",
        "    lst = list(map(int, input().split()))\n",
        "\n",
        "    if lst[0] == 0:\n",
        "        break\n",
        "\n",
        "    n = 1\n",
        "    num = lst[0]\n",
        "\n",
        "    for i in range(num):\n",
        "        sf = lst[2 * i + 1]\n",
        "        p = lst[2 * i + 2]\n",
        "        n = n * sf - p\n",
        "\n",
        "    print(n)"
      ],
      "metadata": {
        "id": "9MWxfyJE5c0e"
      },
      "execution_count": null,
      "outputs": []
    },
    {
      "cell_type": "markdown",
      "source": [
        "## CodeTree"
      ],
      "metadata": {
        "id": "PDIYN8oI58gR"
      }
    },
    {
      "cell_type": "markdown",
      "source": [
        "### 별표 출력하기"
      ],
      "metadata": {
        "id": "McA-qZVu59QL"
      }
    },
    {
      "cell_type": "code",
      "source": [
        "n = int(input())\n",
        "\n",
        "for i in range(n):\n",
        "    if i % 2 != 1:\n",
        "        print('*')\n",
        "\n",
        "    else:\n",
        "        print('* '* (i+1))"
      ],
      "metadata": {
        "id": "bCee3F875-iN"
      },
      "execution_count": null,
      "outputs": []
    }
  ]
}