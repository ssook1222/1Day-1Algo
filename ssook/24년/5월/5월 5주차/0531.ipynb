{
  "nbformat": 4,
  "nbformat_minor": 0,
  "metadata": {
    "colab": {
      "provenance": [],
      "authorship_tag": "ABX9TyOrdgxPwSGmTl49SLlSGvaV",
      "include_colab_link": true
    },
    "kernelspec": {
      "name": "python3",
      "display_name": "Python 3"
    },
    "language_info": {
      "name": "python"
    }
  },
  "cells": [
    {
      "cell_type": "markdown",
      "metadata": {
        "id": "view-in-github",
        "colab_type": "text"
      },
      "source": [
        "<a href=\"https://colab.research.google.com/github/ssook1222/1Day-1Algo/blob/master/ssook/24%EB%85%84/5%EC%9B%94/5%EC%9B%94%205%EC%A3%BC%EC%B0%A8/0531.ipynb\" target=\"_parent\"><img src=\"https://colab.research.google.com/assets/colab-badge.svg\" alt=\"Open In Colab\"/></a>"
      ]
    },
    {
      "cell_type": "markdown",
      "source": [
        "## BoJ"
      ],
      "metadata": {
        "id": "cp2Ui5D15RV2"
      }
    },
    {
      "cell_type": "markdown",
      "source": [
        "### 23971"
      ],
      "metadata": {
        "id": "9TB3DGSE5S_T"
      }
    },
    {
      "cell_type": "code",
      "execution_count": null,
      "metadata": {
        "colab": {
          "base_uri": "https://localhost:8080/"
        },
        "id": "LH5RM44y5O8i",
        "outputId": "a385553f-b524-4901-b0af-381f87914f58"
      },
      "outputs": [
        {
          "output_type": "stream",
          "name": "stdout",
          "text": [
            "5 4 1 1\n",
            "6\n"
          ]
        }
      ],
      "source": [
        "import math\n",
        "\n",
        "h, w, n, m = map(int, input().split())\n",
        "\n",
        "a = math.ceil(w / (m + 1))\n",
        "b = math.ceil(h / (n + 1))\n",
        "\n",
        "print(a * b)"
      ]
    },
    {
      "cell_type": "markdown",
      "source": [
        "### 5361"
      ],
      "metadata": {
        "id": "1-N6uQ9i5TpB"
      }
    },
    {
      "cell_type": "code",
      "source": [
        "t = int(input())\n",
        "\n",
        "for _ in range(t):\n",
        "    a,b,c,d,e = map(int,input().split())\n",
        "    print('$%.2f' %(a*350.34 + b*230.90 + c*190.55 + d*125.30 + e*180.90))"
      ],
      "metadata": {
        "colab": {
          "base_uri": "https://localhost:8080/"
        },
        "id": "rjgr4_ws5UMR",
        "outputId": "39e2f33d-473a-4014-eb8f-4c795d1ac225"
      },
      "execution_count": null,
      "outputs": [
        {
          "output_type": "stream",
          "name": "stdout",
          "text": [
            "1\n",
            "20 10 14 3 9\n",
            "$13987.50\n"
          ]
        }
      ]
    },
    {
      "cell_type": "markdown",
      "source": [
        "---"
      ],
      "metadata": {
        "id": "kh3qJrZK5UaV"
      }
    },
    {
      "cell_type": "markdown",
      "source": [
        "## CodeTree"
      ],
      "metadata": {
        "id": "AaIwyr3t5VXT"
      }
    },
    {
      "cell_type": "markdown",
      "source": [
        "### 부분문자열 위치 구하기"
      ],
      "metadata": {
        "id": "zm8adnBM5W-L"
      }
    },
    {
      "cell_type": "code",
      "source": [
        "def find_substring(input_str, target_str):\n",
        "    for i in range(len(input_str) - len(target_str) + 1):\n",
        "        if input_str[i:i+len(target_str)] == target_str:\n",
        "            return i\n",
        "    return -1\n",
        "\n",
        "input_str = input().strip()\n",
        "target_str = input().strip()\n",
        "\n",
        "result = find_substring(input_str, target_str)\n",
        "print(result)"
      ],
      "metadata": {
        "id": "MtU9cG9O5XxY"
      },
      "execution_count": null,
      "outputs": []
    }
  ]
}