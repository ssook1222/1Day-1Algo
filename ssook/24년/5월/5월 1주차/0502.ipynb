{
  "nbformat": 4,
  "nbformat_minor": 0,
  "metadata": {
    "colab": {
      "provenance": [],
      "authorship_tag": "ABX9TyPHPd3tiqyM4BgnZQxyHZLp",
      "include_colab_link": true
    },
    "kernelspec": {
      "name": "python3",
      "display_name": "Python 3"
    },
    "language_info": {
      "name": "python"
    }
  },
  "cells": [
    {
      "cell_type": "markdown",
      "metadata": {
        "id": "view-in-github",
        "colab_type": "text"
      },
      "source": [
        "<a href=\"https://colab.research.google.com/github/ssook1222/1Day-1Algo/blob/master/ssook/24%EB%85%84/5%EC%9B%94/5%EC%9B%94%201%EC%A3%BC%EC%B0%A8/0502.ipynb\" target=\"_parent\"><img src=\"https://colab.research.google.com/assets/colab-badge.svg\" alt=\"Open In Colab\"/></a>"
      ]
    },
    {
      "cell_type": "markdown",
      "source": [
        "## BoJ"
      ],
      "metadata": {
        "id": "r-ha_npLqCU1"
      }
    },
    {
      "cell_type": "markdown",
      "source": [
        "### 12015"
      ],
      "metadata": {
        "id": "axljIDNFqK3h"
      }
    },
    {
      "cell_type": "code",
      "source": [
        "import bisect\n",
        "import sys\n",
        "\n",
        "def lis(arr):\n",
        "    lis_arr = [arr[0]]\n",
        "    for num in arr[1:]:\n",
        "        if num > lis_arr[-1]:\n",
        "            lis_arr.append(num)\n",
        "        else:\n",
        "            lis_arr[bisect.bisect_left(lis_arr, num)] = num\n",
        "    return len(lis_arr)\n",
        "\n",
        "if __name__ == \"__main__\":\n",
        "    N = int(sys.stdin.readline().rstrip())\n",
        "    A = list(map(int, sys.stdin.readline().rstrip().split()))\n",
        "\n",
        "    print(lis(A))"
      ],
      "metadata": {
        "id": "iF5sw6FXthSQ"
      },
      "execution_count": null,
      "outputs": []
    },
    {
      "cell_type": "markdown",
      "source": [
        "`bisect`             \n",
        "정렬된 시퀀스(리스트 등)에서 특정 요소가 들어갈 위치를 이진 탐색으로 찾아주는 기능을 제공함.    \n",
        "이 모듈은 `bisect_left()`와 `bisect_right()`로 구성\n",
        "\n",
        "- bisect_left(a, x, lo=0, hi=len(a)): 정렬된 시퀀스 a에 값 x를 삽입할 때 왼쪽 경계를 반환. lo와 hi는 탐색할 범위를 지정합니다. 기본값으로 전체 시퀀스가 탐색 대상이 됨.    \n",
        "- bisect_right(a, x, lo=0, hi=len(a)): bisect_left()와 유사하지만, 삽입할 때 오른쪽 경계를 반환.\n",
        "\n",
        "이 함수들은 이진 탐색을 사용하기 때문에 시간 복잡도가 O(log N)임.  \n",
        "주로 이진 탐색 알고리즘을 직접 구현하지 않고도 간단히 이 모듈을 사용하여 이진 탐색을 수행 가능.     \n",
        "\n",
        "``` python\n",
        "\n",
        "import bisect\n",
        "\n",
        "# 정렬된 리스트 생성\n",
        "arr = [1, 3, 5, 7, 9]\n",
        "\n",
        "# bisect_left를 사용하여 특정 값이 삽입될 위치를 찾기\n",
        "index_left = bisect.bisect_left(arr, 6)\n",
        "print(\"bisect_left(6):\", index_left)  # 3 (6이 삽입될 위치는 2번째 인덱스)\n",
        "\n",
        "# bisect_right를 사용하여 특정 값이 삽입될 위치를 찾기\n",
        "index_right = bisect.bisect_right(arr, 6)\n",
        "print(\"bisect_right(6):\", index_right)  # 3 (6이 삽입될 위치는 3번째 인덱스)\n",
        "\n",
        "# bisect_left를 사용하여 특정 값이 삽입될 위치를 찾기 (범위 지정)\n",
        "index_left_range = bisect.bisect_left(arr, 6, 1, 3)\n",
        "print(\"bisect_left(6, 1, 3):\", index_left_range)  # 2 (1부터 3번째 인덱스까지 탐색하여 6이 삽입될 위치는 2번째 인덱스)\n",
        "\n",
        "# bisect_right를 사용하여 특정 값이 삽입될 위치를 찾기 (범위 지정)\n",
        "index_right_range = bisect.bisect_right(arr, 6, 1, 3)\n",
        "print(\"bisect_right(6, 1, 3):\", index_right_range)  # 2 (1부터 3번째 인덱스까지 탐색하여 6이 삽입될 위치는 2번째 인덱스)\n",
        "\n",
        "\n",
        "```"
      ],
      "metadata": {
        "id": "xzWd7J2evZrv"
      }
    },
    {
      "cell_type": "markdown",
      "source": [
        "### 23284"
      ],
      "metadata": {
        "id": "AFvu19sithiK"
      }
    },
    {
      "cell_type": "code",
      "source": [
        "import sys\n",
        "\n",
        "sys.setrecursionlimit(10**8)\n",
        "\n",
        "def generate_stack_sequences(n):\n",
        "    num = [0] * n\n",
        "\n",
        "    def function(cnt, next_val):\n",
        "        if cnt == n:\n",
        "            print(\" \".join(map(str, num)))\n",
        "        else:\n",
        "            for i in range(1, n + 1):\n",
        "                can = True\n",
        "                num[cnt] = i\n",
        "                for j in range(cnt):\n",
        "                    if num[j] == num[cnt]:\n",
        "                        can = False\n",
        "                        break\n",
        "                if can:\n",
        "                    if num[cnt - 1] < num[cnt] and num[cnt] < next_val:\n",
        "                        break\n",
        "                if can:\n",
        "                    if next_val <= num[cnt]:\n",
        "                        function(cnt + 1, num[cnt] + 1)\n",
        "                    else:\n",
        "                        function(cnt + 1, next_val)\n",
        "\n",
        "    function(0, 0)\n",
        "\n",
        "if __name__ == \"__main__\":\n",
        "    n = int(sys.stdin.readline().rstrip())\n",
        "    generate_stack_sequences(n)"
      ],
      "metadata": {
        "id": "YjKrDnr8tiWr"
      },
      "execution_count": null,
      "outputs": []
    },
    {
      "cell_type": "markdown",
      "source": [
        "---"
      ],
      "metadata": {
        "id": "PCNty6Xb0XYw"
      }
    },
    {
      "cell_type": "markdown",
      "source": [
        "## Programmers"
      ],
      "metadata": {
        "id": "EQS-iXYz0YLx"
      }
    },
    {
      "cell_type": "markdown",
      "source": [
        "### PCCE 5번"
      ],
      "metadata": {
        "id": "sQuk0LfA0lfg"
      }
    },
    {
      "cell_type": "code",
      "source": [
        "def solution(route):\n",
        "    east = 0\n",
        "    north = 0\n",
        "    for i in route:\n",
        "        if i == \"N\":\n",
        "            north += 1\n",
        "        elif i == \"S\":\n",
        "            north -= 1\n",
        "        elif i == \"E\":\n",
        "            east += 1\n",
        "        elif i == \"W\":\n",
        "            east -= 1\n",
        "    return [east, north]"
      ],
      "metadata": {
        "id": "u3GSZusg0mco"
      },
      "execution_count": null,
      "outputs": []
    }
  ]
}