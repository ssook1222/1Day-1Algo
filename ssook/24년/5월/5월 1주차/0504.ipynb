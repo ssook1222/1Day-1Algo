{
  "nbformat": 4,
  "nbformat_minor": 0,
  "metadata": {
    "colab": {
      "provenance": [],
      "authorship_tag": "ABX9TyMgVWpGFal36BHtw1IE++Zu",
      "include_colab_link": true
    },
    "kernelspec": {
      "name": "python3",
      "display_name": "Python 3"
    },
    "language_info": {
      "name": "python"
    }
  },
  "cells": [
    {
      "cell_type": "markdown",
      "metadata": {
        "id": "view-in-github",
        "colab_type": "text"
      },
      "source": [
        "<a href=\"https://colab.research.google.com/github/ssook1222/1Day-1Algo/blob/master/ssook/24%EB%85%84/5%EC%9B%94/5%EC%9B%94%201%EC%A3%BC%EC%B0%A8/0504.ipynb\" target=\"_parent\"><img src=\"https://colab.research.google.com/assets/colab-badge.svg\" alt=\"Open In Colab\"/></a>"
      ]
    },
    {
      "cell_type": "markdown",
      "source": [
        "## BoJ"
      ],
      "metadata": {
        "id": "YhEIoZw3DLOt"
      }
    },
    {
      "cell_type": "markdown",
      "source": [
        "### 11520"
      ],
      "metadata": {
        "id": "PjPzeyBCDMv4"
      }
    },
    {
      "cell_type": "code",
      "execution_count": null,
      "metadata": {
        "id": "Edu4HOpsC1Am"
      },
      "outputs": [],
      "source": [
        "n = int(input())\n",
        "res = []\n",
        "\n",
        "for i in range(n):\n",
        "    p, d = map(int, input().split())\n",
        "    raw = str(d) + ' 5'\n",
        "    res.append(raw)\n",
        "\n",
        "for i in res:\n",
        "    print(i)"
      ]
    },
    {
      "cell_type": "markdown",
      "source": [
        "### 26940"
      ],
      "metadata": {
        "id": "Vm_WRs71DNrq"
      }
    },
    {
      "cell_type": "code",
      "source": [
        "n = int(input())\n",
        "choco = list(map(int, input().split()))\n",
        "\n",
        "cnt = 0\n",
        "\n",
        "for i in range(1, n):\n",
        "    if choco[i] > choco[i-1]:\n",
        "        cnt += 1\n",
        "\n",
        "print(cnt)"
      ],
      "metadata": {
        "id": "Dz9NBV0aDOiD"
      },
      "execution_count": null,
      "outputs": []
    },
    {
      "cell_type": "markdown",
      "source": [
        "---"
      ],
      "metadata": {
        "id": "Lgb4OvNkDPRI"
      }
    },
    {
      "cell_type": "markdown",
      "source": [
        "## LeetCode"
      ],
      "metadata": {
        "id": "uT3aRJ4hDQKK"
      }
    },
    {
      "cell_type": "markdown",
      "source": [
        "### Design Parking System"
      ],
      "metadata": {
        "id": "4ZziicriDR4j"
      }
    },
    {
      "cell_type": "code",
      "source": [
        "class ParkingSystem:\n",
        "\n",
        "    def __init__(self, big: int, medium: int, small: int):\n",
        "        self.slots = {1: big, 2: medium, 3: small}\n",
        "\n",
        "    def addCar(self, carType: int) -> bool:\n",
        "        if self.slots[carType] > 0:\n",
        "            self.slots[carType] -= 1\n",
        "            return True\n",
        "        else:\n",
        "            return False"
      ],
      "metadata": {
        "id": "tceqbQxNDSd3"
      },
      "execution_count": null,
      "outputs": []
    }
  ]
}