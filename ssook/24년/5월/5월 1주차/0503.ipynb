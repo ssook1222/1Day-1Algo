{
  "nbformat": 4,
  "nbformat_minor": 0,
  "metadata": {
    "colab": {
      "provenance": [],
      "authorship_tag": "ABX9TyNpyaFT4WQxjQBJnYIipAkJ",
      "include_colab_link": true
    },
    "kernelspec": {
      "name": "python3",
      "display_name": "Python 3"
    },
    "language_info": {
      "name": "python"
    }
  },
  "cells": [
    {
      "cell_type": "markdown",
      "metadata": {
        "id": "view-in-github",
        "colab_type": "text"
      },
      "source": [
        "<a href=\"https://colab.research.google.com/github/ssook1222/1Day-1Algo/blob/master/ssook/24%EB%85%84/5%EC%9B%94/5%EC%9B%94%201%EC%A3%BC%EC%B0%A8/0503.ipynb\" target=\"_parent\"><img src=\"https://colab.research.google.com/assets/colab-badge.svg\" alt=\"Open In Colab\"/></a>"
      ]
    },
    {
      "cell_type": "markdown",
      "source": [
        "## BoJ"
      ],
      "metadata": {
        "id": "8L2PVomnl3Yk"
      }
    },
    {
      "cell_type": "markdown",
      "source": [
        "### 2252"
      ],
      "metadata": {
        "id": "hSErAB6vvegz"
      }
    },
    {
      "cell_type": "code",
      "execution_count": null,
      "metadata": {
        "id": "oF1TEnkJl0QT"
      },
      "outputs": [],
      "source": [
        "import sys\n",
        "from collections import deque\n",
        "\n",
        "num_students, num_pairs = map(int, sys.stdin.readline().split())\n",
        "\n",
        "student_graph = [[] for _ in range(num_students+1)]\n",
        "in_degree = [0 for _ in range(num_students+1)]\n",
        "\n",
        "queue = deque()\n",
        "result = []\n",
        "\n",
        "for _ in range(num_pairs):\n",
        "    student_a, student_b = map(int, sys.stdin.readline().rstrip().split())\n",
        "    student_graph[student_a].append(student_b)\n",
        "    in_degree[student_b] += 1\n",
        "\n",
        "for student in range(1, num_students+1):\n",
        "    if in_degree[student] == 0:\n",
        "        queue.append(student)\n",
        "\n",
        "while queue:\n",
        "    current_student = queue.popleft()\n",
        "    result.append(current_student)\n",
        "\n",
        "    for neighbor in student_graph[current_student]:\n",
        "        in_degree[neighbor] -= 1\n",
        "        if in_degree[neighbor] == 0:\n",
        "            queue.append(neighbor)\n",
        "\n",
        "print(*result)"
      ]
    },
    {
      "cell_type": "markdown",
      "source": [
        "`위상 정렬`\n",
        "\n",
        "위상 정렬을 하게 되면, 선후관계를 지켜가며 각 작업을 순서대로 정렬할 수 있음.\n",
        "그 결과로 어떤 작업을 먼저 해야 하는지 혹은 그래프의 모든 정점을 방문하는 순서를 찾을 수 있음.\n",
        "\n",
        "핵심은 **\"진입 차수(in-degree)\"라는 개념**.\n",
        "**진입 차수는 각 정점에 대해 그 정점으로 들어오는 간선의 수를 의미**함.    \n",
        "1. 진입 차수가 0인 정점을 선택하고, 이를 큐에 넣어서 시작함       \n",
        "2. 이 정점을 큐에서 제거하면서 그 정점과 연결된 간선들을 제거하고,    \n",
        "3. 이에 따라 진입 차수가 0이 되는 정점들을 찾아 큐에 넣음.     \n",
        "\n",
        "**진입 차수가 0인 정점을 큐에 넣는 과정을 반복하여 모든 정점을 방문하면서, 방문하는 순서대로 정점들을 기록하면 위상 정렬이 완료됨.**\n",
        "\n",
        "주의할 점은, **위상 정렬을 할 수 있는 그래프는 사이클이 없는(DAG) 그래프**여야 함.\n",
        "왜냐하면 사이클이 있는 그래프에서는 어떤 작업을 먼저 할지 정렬하는 것이 불가능하기 때문임."
      ],
      "metadata": {
        "id": "hZ-tMx_o3ojZ"
      }
    },
    {
      "cell_type": "markdown",
      "source": [
        "### 15295"
      ],
      "metadata": {
        "id": "PlmSreL4vg_H"
      }
    },
    {
      "cell_type": "code",
      "source": [
        "def calculate_candles(days):\n",
        "    total_candles = days * (days + 1) // 2\n",
        "    total_candles += days\n",
        "    return total_candles\n",
        "\n",
        "num_datasets = int(input().strip())\n",
        "\n",
        "for i in range(num_datasets):\n",
        "    dataset_num, days = map(int, input().strip().split())\n",
        "    candles_needed = calculate_candles(days)\n",
        "\n",
        "    print(f\"{dataset_num} {candles_needed}\")"
      ],
      "metadata": {
        "id": "c6tXCrXRvh-C"
      },
      "execution_count": null,
      "outputs": []
    },
    {
      "cell_type": "markdown",
      "source": [
        "---"
      ],
      "metadata": {
        "id": "3rsdzO28viPq"
      }
    },
    {
      "cell_type": "markdown",
      "source": [
        "## LeetCode"
      ],
      "metadata": {
        "id": "a3oHQONPvjgV"
      }
    },
    {
      "cell_type": "markdown",
      "source": [
        "### Running sum of 1d array"
      ],
      "metadata": {
        "id": "L3ZhfNeIvmdA"
      }
    },
    {
      "cell_type": "code",
      "source": [
        "class Solution:\n",
        "    def runningSum(self, nums: List[int]) -> List[int]:\n",
        "        running_sum = []\n",
        "        current_sum = 0\n",
        "\n",
        "        for num in nums:\n",
        "            current_sum += num\n",
        "            running_sum.append(current_sum)\n",
        "\n",
        "        return running_sum"
      ],
      "metadata": {
        "id": "TnzOYED7vngU"
      },
      "execution_count": null,
      "outputs": []
    }
  ]
}