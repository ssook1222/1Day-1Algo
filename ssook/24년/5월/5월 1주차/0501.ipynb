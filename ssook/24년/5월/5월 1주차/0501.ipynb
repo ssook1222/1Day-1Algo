{
  "nbformat": 4,
  "nbformat_minor": 0,
  "metadata": {
    "colab": {
      "provenance": [],
      "authorship_tag": "ABX9TyMWtCCHNWFPi7hgh2lGsik9",
      "include_colab_link": true
    },
    "kernelspec": {
      "name": "python3",
      "display_name": "Python 3"
    },
    "language_info": {
      "name": "python"
    }
  },
  "cells": [
    {
      "cell_type": "markdown",
      "metadata": {
        "id": "view-in-github",
        "colab_type": "text"
      },
      "source": [
        "<a href=\"https://colab.research.google.com/github/ssook1222/1Day-1Algo/blob/master/ssook/24%EB%85%84/5%EC%9B%94/5%EC%9B%94%201%EC%A3%BC%EC%B0%A8/0501.ipynb\" target=\"_parent\"><img src=\"https://colab.research.google.com/assets/colab-badge.svg\" alt=\"Open In Colab\"/></a>"
      ]
    },
    {
      "cell_type": "markdown",
      "source": [
        "## BoJ"
      ],
      "metadata": {
        "id": "qgXW9cEgNncr"
      }
    },
    {
      "cell_type": "markdown",
      "source": [
        "### 22380"
      ],
      "metadata": {
        "id": "RmZzCYzZNptS"
      }
    },
    {
      "cell_type": "code",
      "execution_count": null,
      "metadata": {
        "id": "4WGZhyBzNlbK"
      },
      "outputs": [],
      "source": [
        "import sys\n",
        "\n",
        "n, m = map(int, sys.stdin.readline().rsplit())\n",
        "\n",
        "power = list(map(int, sys.stdin.readline().split()))\n",
        "power.sort(reverse=True)\n",
        "\n",
        "left, right = 0, n - 1\n",
        "team_count = 0\n",
        "\n",
        "while left < right:\n",
        "    if power[left] + power[right] >= m:\n",
        "        team_count += 1\n",
        "        left += 1\n",
        "        right -= 1\n",
        "    else:\n",
        "        right -= 1\n",
        "\n",
        "print(team_count)"
      ]
    },
    {
      "cell_type": "markdown",
      "source": [
        "### 2166"
      ],
      "metadata": {
        "id": "gl47tHmHNrm4"
      }
    },
    {
      "cell_type": "code",
      "source": [
        "import sys\n",
        "\n",
        "def polygon_area(vertices):\n",
        "    n = len(vertices)\n",
        "    total = 0\n",
        "    for i in range(n):\n",
        "        j = (i + 1) % n\n",
        "        total += vertices[i][0] * vertices[j][1] - vertices[j][0] * vertices[i][1]\n",
        "    return abs(total) / 2\n",
        "\n",
        "n = int(sys.stdin.readline().rstrip())\n",
        "vertices = []\n",
        "for _ in range(n):\n",
        "    x, y = map(int, sys.stdin.readline().rstrip().split())\n",
        "    vertices.append((x, y))\n",
        "\n",
        "area = polygon_area(vertices)\n",
        "\n",
        "print(round(area, 1))"
      ],
      "metadata": {
        "id": "nEpGoQezNs-f"
      },
      "execution_count": null,
      "outputs": []
    },
    {
      "cell_type": "markdown",
      "source": [
        "---"
      ],
      "metadata": {
        "id": "Yrf6Y8J7b4bc"
      }
    },
    {
      "cell_type": "markdown",
      "source": [
        "## LeetCode"
      ],
      "metadata": {
        "id": "6BcmheQXNvB3"
      }
    },
    {
      "cell_type": "markdown",
      "source": [
        "### Divisible and non divisible sums difference"
      ],
      "metadata": {
        "id": "szdyUPD2edw6"
      }
    },
    {
      "cell_type": "code",
      "source": [
        "class Solution:\n",
        "    def differenceOfSums(self, n: int, m: int) -> int:\n",
        "        num1 = 0\n",
        "        num2 = 0\n",
        "        for i in range(1, n+1):\n",
        "            if i % m == 0:\n",
        "                num1 += i\n",
        "            else:\n",
        "                num2 += i\n",
        "\n",
        "        return num2 - num1"
      ],
      "metadata": {
        "id": "1_PK_PMdb3gK"
      },
      "execution_count": null,
      "outputs": []
    }
  ]
}