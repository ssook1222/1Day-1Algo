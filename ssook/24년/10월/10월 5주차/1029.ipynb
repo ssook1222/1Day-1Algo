{
  "nbformat": 4,
  "nbformat_minor": 0,
  "metadata": {
    "colab": {
      "provenance": [],
      "authorship_tag": "ABX9TyM9svAwUBLH3MK5Lm2qzfMn",
      "include_colab_link": true
    },
    "kernelspec": {
      "name": "python3",
      "display_name": "Python 3"
    },
    "language_info": {
      "name": "python"
    }
  },
  "cells": [
    {
      "cell_type": "markdown",
      "metadata": {
        "id": "view-in-github",
        "colab_type": "text"
      },
      "source": [
        "<a href=\"https://colab.research.google.com/github/ssook1222/1Day-1Algo/blob/master/ssook/24%EB%85%84/10%EC%9B%94/10%EC%9B%94%205%EC%A3%BC%EC%B0%A8/1029.ipynb\" target=\"_parent\"><img src=\"https://colab.research.google.com/assets/colab-badge.svg\" alt=\"Open In Colab\"/></a>"
      ]
    },
    {
      "cell_type": "markdown",
      "source": [
        "## BoJ"
      ],
      "metadata": {
        "id": "F0v_s2j0FD5K"
      }
    },
    {
      "cell_type": "markdown",
      "source": [
        "### 11003"
      ],
      "metadata": {
        "id": "gGv79MvuFGse"
      }
    },
    {
      "cell_type": "code",
      "source": [
        "import sys\n",
        "from collections import deque\n",
        "input = sys.stdin.readline\n",
        "N, L = map(int,input().split())\n",
        "num = list(map(int, input().split()))\n",
        "##최솟값을 구할 곳\n",
        "temp = deque([])\n",
        "\n",
        "for i in range(N):\n",
        "  ## 슬라이딩 윈도우 범위를 벗어나는 원소 삭제(당연히 맨 앞의 원소)\n",
        "  if temp and temp[0][0] <= i-L:\n",
        "    temp.popleft()\n",
        "\n",
        "  ## 들어올 원소가 기존의 원소보다 작으면 기존원소 삭제\n",
        "  while len(temp) >= 1 and num[i] < temp[-1][1]:\n",
        "    temp.pop()\n",
        "\n",
        "  ## 들어올 원소 추가\n",
        "  temp.append((i,num[i]))\n",
        "\n",
        "  print(temp[0][1], end = \" \")"
      ],
      "metadata": {
        "id": "cpl4IwCfFHol"
      },
      "execution_count": null,
      "outputs": []
    },
    {
      "cell_type": "markdown",
      "source": [
        "## CodeTree"
      ],
      "metadata": {
        "id": "72nh4ovSFH3S"
      }
    },
    {
      "cell_type": "markdown",
      "source": [
        "###"
      ],
      "metadata": {
        "id": "krG_4UMzFJnj"
      }
    },
    {
      "cell_type": "code",
      "source": [],
      "metadata": {
        "id": "cTMkR_vxFKVC"
      },
      "execution_count": null,
      "outputs": []
    }
  ]
}