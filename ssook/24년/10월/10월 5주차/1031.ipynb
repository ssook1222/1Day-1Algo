{
  "nbformat": 4,
  "nbformat_minor": 0,
  "metadata": {
    "colab": {
      "provenance": [],
      "authorship_tag": "ABX9TyO3SgRt/DrcsNdEb6HGe4RC",
      "include_colab_link": true
    },
    "kernelspec": {
      "name": "python3",
      "display_name": "Python 3"
    },
    "language_info": {
      "name": "python"
    }
  },
  "cells": [
    {
      "cell_type": "markdown",
      "metadata": {
        "id": "view-in-github",
        "colab_type": "text"
      },
      "source": [
        "<a href=\"https://colab.research.google.com/github/ssook1222/1Day-1Algo/blob/master/ssook/24%EB%85%84/10%EC%9B%94/10%EC%9B%94%205%EC%A3%BC%EC%B0%A8/1031.ipynb\" target=\"_parent\"><img src=\"https://colab.research.google.com/assets/colab-badge.svg\" alt=\"Open In Colab\"/></a>"
      ]
    },
    {
      "cell_type": "markdown",
      "source": [
        "## BoJ"
      ],
      "metadata": {
        "id": "F0v_s2j0FD5K"
      }
    },
    {
      "cell_type": "markdown",
      "source": [
        "### 1275"
      ],
      "metadata": {
        "id": "gGv79MvuFGse"
      }
    },
    {
      "cell_type": "code",
      "source": [
        "import math\n",
        "import sys\n",
        "\n",
        "sys.setrecursionlimit(10 ** 8)  # pypy 제출시 삭제!\n",
        "input = lambda: sys.stdin.readline().rstrip()\n",
        "\n",
        "def build_segment_tree(node_index, start, end):\n",
        "    if start == end:\n",
        "        segment_tree[node_index] = numbers[start]\n",
        "        return segment_tree[node_index]\n",
        "\n",
        "    mid = (start + end) // 2\n",
        "    left_sum = build_segment_tree(node_index * 2, start, mid)\n",
        "    right_sum = build_segment_tree(node_index * 2 + 1, mid + 1, end)\n",
        "    segment_tree[node_index] = left_sum + right_sum\n",
        "    return segment_tree[node_index]\n",
        "\n",
        "def update_segment_tree(node_index, start, end):\n",
        "    if start == end:\n",
        "        segment_tree[node_index] = update_value\n",
        "        return\n",
        "\n",
        "    segment_tree[node_index] += difference\n",
        "    mid = (start + end) // 2\n",
        "    if start <= update_index <= mid:\n",
        "        update_segment_tree(node_index * 2, start, mid)\n",
        "    else:\n",
        "        update_segment_tree(node_index * 2 + 1, mid + 1, end)\n",
        "\n",
        "def query_segment_tree(node_index, start, end):\n",
        "    if query_end < start or end < query_start:\n",
        "        return 0\n",
        "\n",
        "    if query_start <= start and end <= query_end:\n",
        "        return segment_tree[node_index]\n",
        "    else:\n",
        "        mid = (start + end) // 2\n",
        "        left_sum = query_segment_tree(node_index * 2, start, mid)\n",
        "        right_sum = query_segment_tree(node_index * 2 + 1, mid + 1, end)\n",
        "        return left_sum + right_sum\n",
        "\n",
        "n, q = map(int, input().split())\n",
        "numbers = list(map(int, input().split()))\n",
        "\n",
        "tree_height = math.ceil(math.log2(n)) + 1\n",
        "total_nodes = 1 << tree_height\n",
        "segment_tree = [0 for _ in range(total_nodes)]\n",
        "\n",
        "build_segment_tree(1, 0, n - 1)\n",
        "\n",
        "for _ in range(q):\n",
        "    query_start, query_end, update_index, update_value = map(int, input().split())\n",
        "    query_start, query_end, update_index = query_start - 1, query_end - 1, update_index - 1\n",
        "    if query_start > query_end:\n",
        "        query_start, query_end = query_end, query_start\n",
        "    difference = update_value - numbers[update_index]\n",
        "    numbers[update_index] = update_value\n",
        "    print(query_segment_tree(1, 0, n - 1))\n",
        "    update_segment_tree(1, 0, n - 1)"
      ],
      "metadata": {
        "id": "cpl4IwCfFHol"
      },
      "execution_count": null,
      "outputs": []
    },
    {
      "cell_type": "markdown",
      "source": [
        "## CodeTree"
      ],
      "metadata": {
        "id": "72nh4ovSFH3S"
      }
    },
    {
      "cell_type": "markdown",
      "source": [
        "### 두 단어 중 특정 알파벳"
      ],
      "metadata": {
        "id": "krG_4UMzFJnj"
      }
    },
    {
      "cell_type": "code",
      "source": [
        "from collections import Counter\n",
        "from itertools import product\n",
        "\n",
        "def find_max_alphabet_counts(word_pairs):\n",
        "    # 알파벳 'a'부터 'z'까지의 최대 빈도수를 저장할 리스트\n",
        "    max_counts = [0] * 26\n",
        "\n",
        "    # 모든 가능한 조합을 탐색\n",
        "    for choices in product(*word_pairs):\n",
        "        # 선택된 단어들에서 알파벳 빈도수 계산\n",
        "        combined_counts = Counter()\n",
        "        for word in choices:\n",
        "            combined_counts.update(word)\n",
        "\n",
        "        # 각 알파벳의 최대 빈도수 갱신\n",
        "        for char in combined_counts:\n",
        "            index = ord(char) - ord('a')\n",
        "            max_counts[index] = max(max_counts[index], combined_counts[char])\n",
        "\n",
        "    return max_counts\n",
        "\n",
        "def main():\n",
        "    import sys\n",
        "    input = sys.stdin.read\n",
        "    data = input().splitlines()\n",
        "\n",
        "    N = int(data[0])\n",
        "    word_pairs = [tuple(line.split()) for line in data[1:N+1]]\n",
        "\n",
        "    max_counts = find_max_alphabet_counts(word_pairs)\n",
        "\n",
        "    # 결과 출력\n",
        "    for count in max_counts:\n",
        "        print(count)\n",
        "\n",
        "main()"
      ],
      "metadata": {
        "id": "cTMkR_vxFKVC"
      },
      "execution_count": null,
      "outputs": []
    }
  ]
}