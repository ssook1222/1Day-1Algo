{
  "nbformat": 4,
  "nbformat_minor": 0,
  "metadata": {
    "colab": {
      "provenance": [],
      "authorship_tag": "ABX9TyN4xvOpQ2iD4Lat8u5JuOBd",
      "include_colab_link": true
    },
    "kernelspec": {
      "name": "python3",
      "display_name": "Python 3"
    },
    "language_info": {
      "name": "python"
    }
  },
  "cells": [
    {
      "cell_type": "markdown",
      "metadata": {
        "id": "view-in-github",
        "colab_type": "text"
      },
      "source": [
        "<a href=\"https://colab.research.google.com/github/ssook1222/1Day-1Algo/blob/master/ssook/24%EB%85%84/10%EC%9B%94/10%EC%9B%94%205%EC%A3%BC%EC%B0%A8/1030.ipynb\" target=\"_parent\"><img src=\"https://colab.research.google.com/assets/colab-badge.svg\" alt=\"Open In Colab\"/></a>"
      ]
    },
    {
      "cell_type": "markdown",
      "source": [
        "## BoJ"
      ],
      "metadata": {
        "id": "F0v_s2j0FD5K"
      }
    },
    {
      "cell_type": "markdown",
      "source": [
        "### 1786"
      ],
      "metadata": {
        "id": "gGv79MvuFGse"
      }
    },
    {
      "cell_type": "code",
      "source": [
        "def make_pi():\n",
        "    pi = [0 for i in range(0, len(P))]\n",
        "\n",
        "    j = 0\n",
        "    for i in range(1, len(P)):\n",
        "        while j > 0 and P[i] != P[j]:\n",
        "            j = pi[j - 1]\n",
        "\n",
        "        if (P[i] == P[j]):\n",
        "            j += 1\n",
        "            pi[i] = j\n",
        "    return pi\n",
        "\n",
        "\n",
        "def solution(pi):\n",
        "    result = []\n",
        "    count = 0\n",
        "\n",
        "    j = 0\n",
        "    for i in range(0, len(T)):\n",
        "\n",
        "        while j > 0 and T[i] != P[j]:\n",
        "            j = pi[j - 1]\n",
        "\n",
        "        if T[i] == P[j]:\n",
        "            if j == (len(P) - 1):\n",
        "                result.append(i - len(P) + 2)\n",
        "                count += 1\n",
        "                j = pi[j]\n",
        "            else:\n",
        "                j += 1\n",
        "\n",
        "    print(count)\n",
        "    for element in result:\n",
        "        print(element)\n",
        "\n",
        "T = input()\n",
        "P = input()\n",
        "solution(make_pi())"
      ],
      "metadata": {
        "id": "cpl4IwCfFHol"
      },
      "execution_count": null,
      "outputs": []
    },
    {
      "cell_type": "markdown",
      "source": [
        "## CodeTree"
      ],
      "metadata": {
        "id": "72nh4ovSFH3S"
      }
    },
    {
      "cell_type": "markdown",
      "source": [
        "### 185부터 n의 10배까지"
      ],
      "metadata": {
        "id": "krG_4UMzFJnj"
      }
    },
    {
      "cell_type": "code",
      "source": [
        "def main():\n",
        "    import sys\n",
        "    input = sys.stdin.read\n",
        "\n",
        "    # 입력 읽기\n",
        "    n = int(input().strip())\n",
        "\n",
        "    # 시작과 끝 값을 설정\n",
        "    start = 185\n",
        "    end = n * 10\n",
        "\n",
        "    # 합계와 평균 계산\n",
        "    total_sum = sum(range(start, end + 1))\n",
        "    count = end - start + 1\n",
        "    average = total_sum / count\n",
        "\n",
        "    # 평균을 소수점 첫째 자리까지 반올림\n",
        "    rounded_average = round(average, 1)\n",
        "\n",
        "    # 결과 출력\n",
        "    print(total_sum, rounded_average)\n",
        "\n",
        "main()"
      ],
      "metadata": {
        "id": "cTMkR_vxFKVC"
      },
      "execution_count": null,
      "outputs": []
    }
  ]
}