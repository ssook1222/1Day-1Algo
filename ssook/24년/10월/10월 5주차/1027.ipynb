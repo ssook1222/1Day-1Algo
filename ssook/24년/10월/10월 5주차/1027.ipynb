{
  "nbformat": 4,
  "nbformat_minor": 0,
  "metadata": {
    "colab": {
      "provenance": [],
      "authorship_tag": "ABX9TyOPS8u5vuf79d2BnuCEnVPx",
      "include_colab_link": true
    },
    "kernelspec": {
      "name": "python3",
      "display_name": "Python 3"
    },
    "language_info": {
      "name": "python"
    }
  },
  "cells": [
    {
      "cell_type": "markdown",
      "metadata": {
        "id": "view-in-github",
        "colab_type": "text"
      },
      "source": [
        "<a href=\"https://colab.research.google.com/github/ssook1222/1Day-1Algo/blob/master/ssook/24%EB%85%84/10%EC%9B%94/10%EC%9B%94%205%EC%A3%BC%EC%B0%A8/1027.ipynb\" target=\"_parent\"><img src=\"https://colab.research.google.com/assets/colab-badge.svg\" alt=\"Open In Colab\"/></a>"
      ]
    },
    {
      "cell_type": "markdown",
      "source": [
        "## BoJ\n",
        "---\n",
        "pypy"
      ],
      "metadata": {
        "id": "IPj05ZfBNd5R"
      }
    },
    {
      "cell_type": "markdown",
      "source": [
        "### 18809"
      ],
      "metadata": {
        "id": "DmdjPmGeNgMa"
      }
    },
    {
      "cell_type": "code",
      "source": [
        "import sys\n",
        "input = sys.stdin.readline\n",
        "from itertools import combinations\n",
        "from collections import deque\n",
        "\n",
        "dy = [1, -1, 0, 0]\n",
        "dx = [0, 0, 1, -1]\n",
        "\n",
        "def BFS():\n",
        "    flowers = 0\n",
        "    while dq:\n",
        "        y, x, y_prev, x_prev, time, color = dq.popleft()\n",
        "        if visited[y_prev][x_prev] == 1:  # If the flower has already bloomed\n",
        "            continue\n",
        "        if visited[y][x]:\n",
        "            if visited[y][x] == (time, -color):\n",
        "                visited[y][x] = 1\n",
        "                flowers += 1\n",
        "            continue\n",
        "        visited[y][x] = (time, color)\n",
        "        for i in range(4):\n",
        "            y1, x1 = y + dy[i], x + dx[i]\n",
        "            if 0 <= y1 < N and 0 <= x1 < M and garden[y1][x1]:\n",
        "                dq.append((y1, x1, y, x, time + 1, color))\n",
        "    return flowers\n",
        "\n",
        "N, M, G, R = map(int, input().split())\n",
        "\n",
        "garden = []\n",
        "for i in range(N):\n",
        "    garden.append([*map(int, input().split())])\n",
        "\n",
        "available_spots = []\n",
        "for i in range(N):\n",
        "    for j in range(M):\n",
        "        if garden[i][j] == 2:\n",
        "            available_spots.append((i, j))\n",
        "\n",
        "max_flowers = 0\n",
        "for green_red_spots in combinations(available_spots, G + R):\n",
        "    for green_spots in combinations(green_red_spots, G):\n",
        "        visited = [[0] * M for _ in range(N)]\n",
        "        dq = deque()\n",
        "        for y, x in green_spots:\n",
        "            visited[y][x] = 1\n",
        "            dq.append((y, x, y, x, 1, 1))  # y, x, y_prev, x_prev, time, color\n",
        "        for y, x in green_red_spots:\n",
        "            if visited[y][x]:\n",
        "                continue\n",
        "            dq.append((y, x, y, x, 1, -1))\n",
        "        visited = [[0] * M for _ in range(N)]\n",
        "        max_flowers = max(max_flowers, BFS())\n",
        "\n",
        "print(max_flowers)"
      ],
      "metadata": {
        "id": "DZ7KUFWpNdlm"
      },
      "execution_count": null,
      "outputs": []
    },
    {
      "cell_type": "markdown",
      "source": [
        "## CodeTree"
      ],
      "metadata": {
        "id": "MCVJ430wNhop"
      }
    },
    {
      "cell_type": "markdown",
      "source": [
        "### 순서대로 구구단 2"
      ],
      "metadata": {
        "id": "yd0-h7KHNkGo"
      }
    },
    {
      "cell_type": "code",
      "source": [
        "def print_multiplication_table(a, b):\n",
        "    # 구구단의 범위 설정\n",
        "    if a > b:\n",
        "        start, end = b, a\n",
        "        reverse = True\n",
        "    else:\n",
        "        start, end = a, b\n",
        "        reverse = False\n",
        "\n",
        "    # 각 구구단을 저장할 리스트\n",
        "    all_results = []\n",
        "\n",
        "    # 구구단 결과를 모두 저장\n",
        "    for num in range(start, end + 1):\n",
        "        results = []\n",
        "        for i in range(1, 10):\n",
        "            results.append(f\"{num} * {i} = {num * i}\")\n",
        "        all_results.append(results)\n",
        "\n",
        "    # 출력 순서를 결정\n",
        "    if reverse:\n",
        "        all_results.reverse()\n",
        "\n",
        "    # 각 구구단을 3개씩 출력\n",
        "    for results in all_results:\n",
        "        for i in range(0, len(results), 3):\n",
        "            print(\"  \".join(results[i:i + 3]))\n",
        "        # 구분을 위해 빈 줄을 추가\n",
        "        if results != all_results[-1]:\n",
        "            print()\n",
        "\n",
        "# 입력 받기\n",
        "a, b = map(int, input().split())\n",
        "print_multiplication_table(a, b)"
      ],
      "metadata": {
        "id": "xP8fBFnZNlZf"
      },
      "execution_count": null,
      "outputs": []
    }
  ]
}