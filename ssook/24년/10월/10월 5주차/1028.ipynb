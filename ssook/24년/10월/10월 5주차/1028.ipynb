{
  "nbformat": 4,
  "nbformat_minor": 0,
  "metadata": {
    "colab": {
      "provenance": [],
      "authorship_tag": "ABX9TyPNRg9IM2SRGMI2nVVY4Wgb",
      "include_colab_link": true
    },
    "kernelspec": {
      "name": "python3",
      "display_name": "Python 3"
    },
    "language_info": {
      "name": "python"
    }
  },
  "cells": [
    {
      "cell_type": "markdown",
      "metadata": {
        "id": "view-in-github",
        "colab_type": "text"
      },
      "source": [
        "<a href=\"https://colab.research.google.com/github/ssook1222/1Day-1Algo/blob/master/ssook/24%EB%85%84/10%EC%9B%94/10%EC%9B%94%205%EC%A3%BC%EC%B0%A8/1028.ipynb\" target=\"_parent\"><img src=\"https://colab.research.google.com/assets/colab-badge.svg\" alt=\"Open In Colab\"/></a>"
      ]
    },
    {
      "cell_type": "markdown",
      "source": [
        "## BoJ"
      ],
      "metadata": {
        "id": "F0v_s2j0FD5K"
      }
    },
    {
      "cell_type": "markdown",
      "source": [
        "### 14003"
      ],
      "metadata": {
        "id": "gGv79MvuFGse"
      }
    },
    {
      "cell_type": "code",
      "source": [
        "import sys\n",
        "input = sys.stdin.readline\n",
        "\n",
        "_ = input()\n",
        "sequence = list(map(int, input().split()))\n",
        "\n",
        "# Binary_search method\n",
        "\n",
        "def find_insert_position(increasing_sequence, current_value):\n",
        "    low = -1\n",
        "    high = len(increasing_sequence)\n",
        "\n",
        "    # 결정 문제\n",
        "    # [1 3 5] 에서 2가 들어오면 [2 3 5]가 되어야 함\n",
        "\n",
        "    # current_value는 mid보다 큰가? -> TF문제에서 가장 작은 F (high)\n",
        "    # 왜 초과인가? -> 같은 숫자가 들어올 수 있기 때문\n",
        "\n",
        "    while low + 1 < high:\n",
        "        mid = (low + high) // 2\n",
        "\n",
        "        if current_value > increasing_sequence[mid]: # TTF므로 왼쪽 탐색 X\n",
        "            low = mid\n",
        "        else:\n",
        "            high = mid\n",
        "\n",
        "    return high\n",
        "\n",
        "increasing_sequence = [-1000000001]\n",
        "sequence_info = [(-1000000001, 0)] # value, index\n",
        "\n",
        "sequence = sequence[::-1] # stack처럼 쓰기 위해\n",
        "\n",
        "while sequence:\n",
        "    current_value = sequence.pop()\n",
        "\n",
        "    if current_value > increasing_sequence[-1]:\n",
        "        sequence_info.append((current_value, len(increasing_sequence)))\n",
        "        increasing_sequence.append(current_value)\n",
        "\n",
        "    else:\n",
        "        position = find_insert_position(increasing_sequence, current_value)\n",
        "        increasing_sequence[position] = current_value\n",
        "        sequence_info.append((current_value, position))\n",
        "\n",
        "lis_length = len(increasing_sequence) - 1\n",
        "longest_increasing_subsequence = []\n",
        "\n",
        "while sequence_info and lis_length:\n",
        "    value, index = sequence_info.pop()\n",
        "    if index == lis_length:\n",
        "        longest_increasing_subsequence.append(value)\n",
        "        lis_length -= 1\n",
        "\n",
        "print(len(longest_increasing_subsequence))\n",
        "print(*longest_increasing_subsequence[::-1])"
      ],
      "metadata": {
        "id": "cpl4IwCfFHol"
      },
      "execution_count": null,
      "outputs": []
    },
    {
      "cell_type": "markdown",
      "source": [
        "## CodeTree"
      ],
      "metadata": {
        "id": "72nh4ovSFH3S"
      }
    },
    {
      "cell_type": "markdown",
      "source": [
        "### 이상한 진수"
      ],
      "metadata": {
        "id": "krG_4UMzFJnj"
      }
    },
    {
      "cell_type": "code",
      "source": [
        "def generate_candidates_from_binary(a):\n",
        "    candidates = set()\n",
        "    length = len(a)\n",
        "\n",
        "    # Try changing each bit to 0 or 1 and check\n",
        "    for i in range(length):\n",
        "        if a[i] == '0':\n",
        "            candidate = a[:i] + '1' + a[i+1:]\n",
        "        else:\n",
        "            candidate = a[:i] + '0' + a[i+1:]\n",
        "\n",
        "        candidates.add(int(candidate, 2))\n",
        "\n",
        "    return candidates\n",
        "\n",
        "def generate_candidates_from_ternary(b):\n",
        "    candidates = set()\n",
        "    length = len(b)\n",
        "\n",
        "    # Try changing each digit to 0, 1, or 2 and check\n",
        "    for i in range(length):\n",
        "        for d in '012':\n",
        "            if b[i] != d:\n",
        "                candidate = b[:i] + d + b[i+1:]\n",
        "                candidates.add(int(candidate, 3))\n",
        "\n",
        "    return candidates\n",
        "\n",
        "def solve(a, b):\n",
        "    # Generate all candidate numbers for each base\n",
        "    binary_candidates = generate_candidates_from_binary(a)\n",
        "    ternary_candidates = generate_candidates_from_ternary(b)\n",
        "\n",
        "    # Find intersection of both candidate sets\n",
        "    possible_n = binary_candidates.intersection(ternary_candidates)\n",
        "\n",
        "    # There is guaranteed to be exactly one possible N\n",
        "    return possible_n.pop()\n",
        "\n",
        "# Read input\n",
        "a = input().strip()\n",
        "b = input().strip()\n",
        "\n",
        "# Compute and print result\n",
        "print(solve(a, b))"
      ],
      "metadata": {
        "id": "cTMkR_vxFKVC"
      },
      "execution_count": null,
      "outputs": []
    }
  ]
}