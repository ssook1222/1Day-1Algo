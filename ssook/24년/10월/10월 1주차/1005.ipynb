{
  "nbformat": 4,
  "nbformat_minor": 0,
  "metadata": {
    "colab": {
      "provenance": [],
      "authorship_tag": "ABX9TyPeFmO4T+R5WcYcrdCzzAbh",
      "include_colab_link": true
    },
    "kernelspec": {
      "name": "python3",
      "display_name": "Python 3"
    },
    "language_info": {
      "name": "python"
    }
  },
  "cells": [
    {
      "cell_type": "markdown",
      "metadata": {
        "id": "view-in-github",
        "colab_type": "text"
      },
      "source": [
        "<a href=\"https://colab.research.google.com/github/ssook1222/1Day-1Algo/blob/master/ssook/24%EB%85%84/10%EC%9B%94/10%EC%9B%94%201%EC%A3%BC%EC%B0%A8/1005.ipynb\" target=\"_parent\"><img src=\"https://colab.research.google.com/assets/colab-badge.svg\" alt=\"Open In Colab\"/></a>"
      ]
    },
    {
      "cell_type": "markdown",
      "source": [
        "## BoJ"
      ],
      "metadata": {
        "id": "YdPsKYYYthvm"
      }
    },
    {
      "cell_type": "markdown",
      "source": [
        "### 1943"
      ],
      "metadata": {
        "id": "B6Hus3rbtmxt"
      }
    },
    {
      "cell_type": "code",
      "execution_count": null,
      "metadata": {
        "id": "AEIqWR3ishnQ"
      },
      "outputs": [],
      "source": [
        "from collections import deque\n",
        "import sys\n",
        "input = sys.stdin.readline\n",
        "\n",
        "def solve() :\n",
        "  N = int(input())\n",
        "  coin_list = [ list(map(int, input().split())) for _ in range(N) ]\n",
        "  target_value = sum([c[0]*c[1] for c in coin_list])\n",
        "  if target_value % 2 :\n",
        "    return 0\n",
        "  target_value //= 2\n",
        "\n",
        "  q = deque([0])\n",
        "  for i in range(N) :\n",
        "    coin, cnt = coin_list[i]\n",
        "    next_q = deque()\n",
        "    visited = [False]*(target_value+1)\n",
        "    while q :\n",
        "      cur = q.popleft()\n",
        "      for j in range(cur, cur+coin*cnt+1, coin) :\n",
        "        if j > target_value :\n",
        "          continue\n",
        "        if j == target_value :\n",
        "          return 1\n",
        "        if not visited[j] :\n",
        "          visited[j] = True\n",
        "          next_q.append(j)\n",
        "    q = next_q\n",
        "  return 0\n",
        "\n",
        "for _ in range(3) :\n",
        "  print(solve())"
      ]
    },
    {
      "cell_type": "markdown",
      "source": [
        "## CodeTree"
      ],
      "metadata": {
        "id": "BbOuRRjbtniS"
      }
    },
    {
      "cell_type": "markdown",
      "source": [
        "### 10부터 합을 구하는 함수"
      ],
      "metadata": {
        "id": "7PY5mNa2tonF"
      }
    },
    {
      "cell_type": "code",
      "source": [
        "def sum_from_10_to_n(n):\n",
        "    # 10부터 n까지의 합을 계산합니다.\n",
        "    return sum(range(10, n + 1))\n",
        "\n",
        "# 입력을 받습니다.\n",
        "n = int(input().strip())\n",
        "\n",
        "# 함수 호출 및 결과 출력\n",
        "result = sum_from_10_to_n(n)\n",
        "print(result)"
      ],
      "metadata": {
        "id": "-vGX11NNtpiT"
      },
      "execution_count": null,
      "outputs": []
    }
  ]
}