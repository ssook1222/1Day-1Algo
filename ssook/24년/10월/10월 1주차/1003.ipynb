{
  "nbformat": 4,
  "nbformat_minor": 0,
  "metadata": {
    "colab": {
      "provenance": [],
      "authorship_tag": "ABX9TyPP+jiNbsITx6/ZuXGzaBMm",
      "include_colab_link": true
    },
    "kernelspec": {
      "name": "python3",
      "display_name": "Python 3"
    },
    "language_info": {
      "name": "python"
    }
  },
  "cells": [
    {
      "cell_type": "markdown",
      "metadata": {
        "id": "view-in-github",
        "colab_type": "text"
      },
      "source": [
        "<a href=\"https://colab.research.google.com/github/ssook1222/1Day-1Algo/blob/master/ssook/24%EB%85%84/10%EC%9B%94/10%EC%9B%94%201%EC%A3%BC%EC%B0%A8/1003.ipynb\" target=\"_parent\"><img src=\"https://colab.research.google.com/assets/colab-badge.svg\" alt=\"Open In Colab\"/></a>"
      ]
    },
    {
      "cell_type": "markdown",
      "source": [
        "## BoJ"
      ],
      "metadata": {
        "id": "YdPsKYYYthvm"
      }
    },
    {
      "cell_type": "markdown",
      "source": [
        "### 6209"
      ],
      "metadata": {
        "id": "B6Hus3rbtmxt"
      }
    },
    {
      "cell_type": "code",
      "execution_count": null,
      "metadata": {
        "id": "AEIqWR3ishnQ"
      },
      "outputs": [],
      "source": [
        "import sys\n",
        "input = sys.stdin.readline\n",
        "\n",
        "d, n, m = map(int, input().split())\n",
        "\n",
        "stone = [int(input()) for _ in range(n)]\n",
        "stone.sort()\n",
        "\n",
        "start = 0\n",
        "end = d\n",
        "dist = 0\n",
        "\n",
        "while start <= end:\n",
        "    mid = (start + end) // 2\n",
        "    count = 0\n",
        "    now = 0\n",
        "    min_distance = d\n",
        "    for x in stone:\n",
        "        if x - now >= mid:\n",
        "            min_distance = min(min_distance, x - now)\n",
        "            now = x\n",
        "        else:\n",
        "            count += 1\n",
        "\n",
        "    min_distance = min(min_distance, d - now)\n",
        "\n",
        "    if count > m:\n",
        "        end = mid - 1\n",
        "    else:\n",
        "        dist = max(dist, min_distance)\n",
        "        start = mid + 1\n",
        "\n",
        "print(dist)"
      ]
    },
    {
      "cell_type": "markdown",
      "source": [
        "## CodeTree"
      ],
      "metadata": {
        "id": "BbOuRRjbtniS"
      }
    },
    {
      "cell_type": "markdown",
      "source": [
        "### 최댓값을 출력하는 함수"
      ],
      "metadata": {
        "id": "7PY5mNa2tonF"
      }
    },
    {
      "cell_type": "code",
      "source": [
        "def find_max(a, b, c):\n",
        "    # 주어진 세 정수 중 최대값을 반환합니다.\n",
        "    return max(a, b, c)\n",
        "\n",
        "# 입력을 받습니다.\n",
        "a, b, c = map(int, input().split())\n",
        "\n",
        "# 함수 호출 및 결과 출력\n",
        "print(find_max(a, b, c))"
      ],
      "metadata": {
        "id": "-vGX11NNtpiT"
      },
      "execution_count": null,
      "outputs": []
    }
  ]
}