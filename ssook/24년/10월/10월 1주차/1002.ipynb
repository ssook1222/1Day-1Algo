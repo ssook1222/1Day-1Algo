{
  "nbformat": 4,
  "nbformat_minor": 0,
  "metadata": {
    "colab": {
      "provenance": [],
      "authorship_tag": "ABX9TyPu8aIHpmqLQWGoW+3r4YDx",
      "include_colab_link": true
    },
    "kernelspec": {
      "name": "python3",
      "display_name": "Python 3"
    },
    "language_info": {
      "name": "python"
    }
  },
  "cells": [
    {
      "cell_type": "markdown",
      "metadata": {
        "id": "view-in-github",
        "colab_type": "text"
      },
      "source": [
        "<a href=\"https://colab.research.google.com/github/ssook1222/1Day-1Algo/blob/master/ssook/24%EB%85%84/10%EC%9B%94/10%EC%9B%94%201%EC%A3%BC%EC%B0%A8/1002.ipynb\" target=\"_parent\"><img src=\"https://colab.research.google.com/assets/colab-badge.svg\" alt=\"Open In Colab\"/></a>"
      ]
    },
    {
      "cell_type": "markdown",
      "source": [
        "## BoJ"
      ],
      "metadata": {
        "id": "YdPsKYYYthvm"
      }
    },
    {
      "cell_type": "markdown",
      "source": [
        "### 1765"
      ],
      "metadata": {
        "id": "B6Hus3rbtmxt"
      }
    },
    {
      "cell_type": "code",
      "execution_count": null,
      "metadata": {
        "id": "AEIqWR3ishnQ"
      },
      "outputs": [],
      "source": [
        "import sys\n",
        "\n",
        "N = int(sys.stdin.readline())\n",
        "M = int(sys.stdin.readline())\n",
        "\n",
        "parent = list(range(N))\n",
        "\n",
        "def find(a) :\n",
        "  if a == parent[a] :\n",
        "    return a\n",
        "  parent[a] = find(parent[a])\n",
        "  return parent[a]\n",
        "\n",
        "def union(a, b) :\n",
        "  pa = find(a)\n",
        "  pb = find(b)\n",
        "\n",
        "  if pa <= pb :\n",
        "    parent[pb] = pa\n",
        "  else :\n",
        "    parent[pa] = pb\n",
        "\n",
        "def init() :\n",
        "  enemy_adj_dict = { key : list() for key in range(N) }\n",
        "\n",
        "  for _ in range(M) :\n",
        "    typ, p, q = sys.stdin.readline().split()\n",
        "    p, q = int(p)-1, int(q)-1\n",
        "\n",
        "    if typ == 'F' :\n",
        "        union(p, q)\n",
        "    else :\n",
        "        enemy_adj_dict[p].append(q)\n",
        "        enemy_adj_dict[q].append(p)\n",
        "  return enemy_adj_dict\n",
        "\n",
        "def ismatch(a, b, adj_dict) :\n",
        "    for i in adj_dict[a] :\n",
        "        for j in adj_dict[b] :\n",
        "            if i == j :\n",
        "                return True\n",
        "\n",
        "    return False\n",
        "\n",
        "def full_search(adj_dict) :\n",
        "  for i in range(N-1) :\n",
        "    for j in range(i+1, N) :\n",
        "      if parent[i] != parent[j] and ismatch(i, j, adj_dict):\n",
        "        union(i, j)\n",
        "\n",
        "  for i in range(N) :\n",
        "    find(i)\n",
        "\n",
        "  print(len(set(parent)))\n",
        "\n",
        "def solve() :\n",
        "  adj_dict = init()\n",
        "  full_search(adj_dict)\n",
        "\n",
        "solve()"
      ]
    },
    {
      "cell_type": "markdown",
      "source": [
        "## CodeTree"
      ],
      "metadata": {
        "id": "BbOuRRjbtniS"
      }
    },
    {
      "cell_type": "markdown",
      "source": [
        "### 문자열을 출력하는 함수"
      ],
      "metadata": {
        "id": "7PY5mNa2tonF"
      }
    },
    {
      "cell_type": "code",
      "source": [
        "def print_code_tree(n):\n",
        "    # n번 반복하여 \"CodeTree!\"를 출력합니다.\n",
        "    for _ in range(n):\n",
        "        print(\"CodeTree!\")\n",
        "\n",
        "# 입력을 받습니다.\n",
        "n = int(input().strip())\n",
        "\n",
        "# 함수 호출\n",
        "print_code_tree(n)\n"
      ],
      "metadata": {
        "id": "-vGX11NNtpiT"
      },
      "execution_count": null,
      "outputs": []
    }
  ]
}