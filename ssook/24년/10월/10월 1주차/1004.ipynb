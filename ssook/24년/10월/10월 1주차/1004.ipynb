{
  "nbformat": 4,
  "nbformat_minor": 0,
  "metadata": {
    "colab": {
      "provenance": [],
      "authorship_tag": "ABX9TyNs0mbSm2SUU30h6UYvTldl",
      "include_colab_link": true
    },
    "kernelspec": {
      "name": "python3",
      "display_name": "Python 3"
    },
    "language_info": {
      "name": "python"
    }
  },
  "cells": [
    {
      "cell_type": "markdown",
      "metadata": {
        "id": "view-in-github",
        "colab_type": "text"
      },
      "source": [
        "<a href=\"https://colab.research.google.com/github/ssook1222/1Day-1Algo/blob/master/ssook/24%EB%85%84/10%EC%9B%94/10%EC%9B%94%201%EC%A3%BC%EC%B0%A8/1004.ipynb\" target=\"_parent\"><img src=\"https://colab.research.google.com/assets/colab-badge.svg\" alt=\"Open In Colab\"/></a>"
      ]
    },
    {
      "cell_type": "markdown",
      "source": [
        "## BoJ"
      ],
      "metadata": {
        "id": "YdPsKYYYthvm"
      }
    },
    {
      "cell_type": "markdown",
      "source": [
        "### 16681"
      ],
      "metadata": {
        "id": "B6Hus3rbtmxt"
      }
    },
    {
      "cell_type": "code",
      "execution_count": null,
      "metadata": {
        "id": "AEIqWR3ishnQ"
      },
      "outputs": [],
      "source": [
        "import sys, heapq\n",
        "\n",
        "def dijkstra(num):\n",
        "    d = [inf] * (n + 1)\n",
        "    d[num] = 0\n",
        "    q = []\n",
        "    heapq.heappush(q, (0, num))\n",
        "    while q:\n",
        "        cur_dist, cur = heapq.heappop(q)\n",
        "        if d[cur] < cur_dist:\n",
        "            continue\n",
        "        for (next, next_dist) in adj[cur]:\n",
        "\n",
        "            if arr[next] > arr[cur]:\n",
        "                if d[next] > next_dist + cur_dist:\n",
        "                    d[next] = next_dist + cur_dist\n",
        "                    heapq.heappush(q, (next_dist + cur_dist, next))\n",
        "    return d\n",
        "\n",
        "n,m,d,e = map(int, sys.stdin.readline().split())\n",
        "arr = [-1] + list(map(int, sys.stdin.readline().split()))\n",
        "adj = [[] for _ in range(n + 1)]\n",
        "for _ in range(m):\n",
        "    a,b,c = map(int, sys.stdin.readline().split())\n",
        "    adj[a].append((b,c))\n",
        "    adj[b].append((a,c))\n",
        "\n",
        "inf = 98765432109876543210\n",
        "\n",
        "res1 = dijkstra(1)\n",
        "res2 = dijkstra(n)\n",
        "\n",
        "ans = []\n",
        "for i in range(1, n + 1):\n",
        "    if res1[i] != inf and res2[i] != inf:\n",
        "        ans.append(arr[i] * e - d * (res1[i] + res2[i]))\n",
        "\n",
        "print(max(ans) if ans else 'Impossible')"
      ]
    },
    {
      "cell_type": "markdown",
      "source": [
        "## CodeTree"
      ],
      "metadata": {
        "id": "BbOuRRjbtniS"
      }
    },
    {
      "cell_type": "markdown",
      "source": [
        "### 사칙연산을 이행하는 함수"
      ],
      "metadata": {
        "id": "7PY5mNa2tonF"
      }
    },
    {
      "cell_type": "code",
      "source": [
        "def add(x, y):\n",
        "    return x + y\n",
        "\n",
        "def subtract(x, y):\n",
        "    return x - y\n",
        "\n",
        "def multiply(x, y):\n",
        "    return x * y\n",
        "\n",
        "def divide(x, y):\n",
        "    return x // y  # 정수 나눗셈 결과를 반환합니다.\n",
        "\n",
        "def perform_operation(x, operator, y):\n",
        "    if operator == '+':\n",
        "        return add(x, y)\n",
        "    elif operator == '-':\n",
        "        return subtract(x, y)\n",
        "    elif operator == '*':\n",
        "        return multiply(x, y)\n",
        "    elif operator == '/':\n",
        "        return divide(x, y)\n",
        "    else:\n",
        "        raise ValueError(\"Invalid operator\")\n",
        "\n",
        "# 입력을 처리합니다.\n",
        "x, operator, y = input().split()\n",
        "x = int(x)\n",
        "y = int(y)\n",
        "\n",
        "# 연산 수행 및 결과 출력\n",
        "result = perform_operation(x, operator, y)\n",
        "print(f\"{x} {operator} {y} = {result}\")"
      ],
      "metadata": {
        "id": "-vGX11NNtpiT"
      },
      "execution_count": null,
      "outputs": []
    }
  ]
}