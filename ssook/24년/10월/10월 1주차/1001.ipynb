{
  "nbformat": 4,
  "nbformat_minor": 0,
  "metadata": {
    "colab": {
      "provenance": [],
      "authorship_tag": "ABX9TyOipENvJYnxksAsJHyKOK22",
      "include_colab_link": true
    },
    "kernelspec": {
      "name": "python3",
      "display_name": "Python 3"
    },
    "language_info": {
      "name": "python"
    }
  },
  "cells": [
    {
      "cell_type": "markdown",
      "metadata": {
        "id": "view-in-github",
        "colab_type": "text"
      },
      "source": [
        "<a href=\"https://colab.research.google.com/github/ssook1222/1Day-1Algo/blob/master/ssook/24%EB%85%84/10%EC%9B%94/10%EC%9B%94%201%EC%A3%BC%EC%B0%A8/1001.ipynb\" target=\"_parent\"><img src=\"https://colab.research.google.com/assets/colab-badge.svg\" alt=\"Open In Colab\"/></a>"
      ]
    },
    {
      "cell_type": "markdown",
      "source": [
        "## BoJ"
      ],
      "metadata": {
        "id": "YdPsKYYYthvm"
      }
    },
    {
      "cell_type": "markdown",
      "source": [
        "### 12014"
      ],
      "metadata": {
        "id": "B6Hus3rbtmxt"
      }
    },
    {
      "cell_type": "code",
      "execution_count": null,
      "metadata": {
        "id": "AEIqWR3ishnQ"
      },
      "outputs": [],
      "source": [
        "import sys\n",
        "\n",
        "test_case = int(sys.stdin.readline())\n",
        "for tc in range(test_case):\n",
        "    N, K = map(int, sys.stdin.readlinet().split())\n",
        "    prices = list(map(int, sys.stdin.readline().split()))\n",
        "    cache = [1 for _ in range(N)]\n",
        "\n",
        "    for i in range(N):\n",
        "        for j in range(i):\n",
        "            if prices[j] < prices[i]:\n",
        "                cache[i] = max(cache[j]+1, cache[i])\n",
        "\n",
        "    answer = 0\n",
        "    for c in cache:\n",
        "        if c == K:\n",
        "            answer = 1\n",
        "            break\n",
        "    print(\"Case #{}\".format(tc+1))\n",
        "    print(answer)"
      ]
    },
    {
      "cell_type": "markdown",
      "source": [
        "## CodeTree"
      ],
      "metadata": {
        "id": "BbOuRRjbtniS"
      }
    },
    {
      "cell_type": "markdown",
      "source": [
        "### 진법 변환 3"
      ],
      "metadata": {
        "id": "7PY5mNa2tonF"
      }
    },
    {
      "cell_type": "code",
      "source": [
        "def octal_to_binary(octal_str):\n",
        "    # 8진수에서 2진수로 변환하기 위해 8진수의 각 자릿수를 3자리 2진수로 변환합니다.\n",
        "    binary_str = ''.join(f'{int(digit, 8):03b}' for digit in octal_str)\n",
        "\n",
        "    # 결과에서 불필요한 앞의 0들을 제거합니다.\n",
        "    return binary_str.lstrip('0') or '0'\n",
        "\n",
        "# 입력 처리\n",
        "octal_input = input().strip()\n",
        "\n",
        "# 변환 및 출력\n",
        "binary_output = octal_to_binary(octal_input)\n",
        "print(binary_output)"
      ],
      "metadata": {
        "id": "-vGX11NNtpiT"
      },
      "execution_count": null,
      "outputs": []
    }
  ]
}