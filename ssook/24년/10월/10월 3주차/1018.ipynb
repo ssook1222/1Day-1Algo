{
  "nbformat": 4,
  "nbformat_minor": 0,
  "metadata": {
    "colab": {
      "provenance": [],
      "authorship_tag": "ABX9TyPLRulNUrU8bC4iIvkeJeoI",
      "include_colab_link": true
    },
    "kernelspec": {
      "name": "python3",
      "display_name": "Python 3"
    },
    "language_info": {
      "name": "python"
    }
  },
  "cells": [
    {
      "cell_type": "markdown",
      "metadata": {
        "id": "view-in-github",
        "colab_type": "text"
      },
      "source": [
        "<a href=\"https://colab.research.google.com/github/ssook1222/1Day-1Algo/blob/master/ssook/24%EB%85%84/10%EC%9B%94/10%EC%9B%94%203%EC%A3%BC%EC%B0%A8/1018.ipynb\" target=\"_parent\"><img src=\"https://colab.research.google.com/assets/colab-badge.svg\" alt=\"Open In Colab\"/></a>"
      ]
    },
    {
      "cell_type": "markdown",
      "source": [
        "## BoJ"
      ],
      "metadata": {
        "id": "Mj7xSjDGzmiJ"
      }
    },
    {
      "cell_type": "markdown",
      "source": [
        "### 6988"
      ],
      "metadata": {
        "id": "Q-qN7o-B9SII"
      }
    },
    {
      "cell_type": "code",
      "execution_count": null,
      "metadata": {
        "id": "pFd--JizzfTD"
      },
      "outputs": [],
      "source": [
        "import sys\n",
        "\n",
        "# 입력부\n",
        "num_tiles = int(sys.stdin.readline())\n",
        "tile_values = list(map(int, sys.stdin.readline().split()))\n",
        "\n",
        "# max_value : 배열의 최대값\n",
        "max_value = max(tile_values)\n",
        "\n",
        "# index_check : 현재 숫자가 배열에 존재하지 않으면 -1, 존재하면 그 인덱스를 저장하는 배열\n",
        "index_check = [-1] * (max_value + 1)\n",
        "for i in range(num_tiles):\n",
        "    index_check[tile_values[i]] = i\n",
        "\n",
        "# dp : 현재 i번째 인덱스에서 시작하여 j번째 인덱스를 밟을 때 얻는 최대값을 저장하는 상태 공간\n",
        "dp = [[0] * num_tiles for _ in range(num_tiles)]\n",
        "\n",
        "# 초기화\n",
        "for i in range(num_tiles):\n",
        "    for j in range(i + 1, num_tiles):\n",
        "        difference = abs(tile_values[i] - tile_values[j])\n",
        "        # 현재 끝나는 지점에서 간격만큼의 수가 있다면 (최소 3개를 밟을 수 있다면) 초기화\n",
        "        if tile_values[j] + difference <= max_value and index_check[tile_values[j] + difference] != -1:\n",
        "            dp[i][j] = tile_values[i] + tile_values[j]\n",
        "\n",
        "# 점화식\n",
        "for i in range(num_tiles - 1):\n",
        "    for j in range(num_tiles):\n",
        "        # 현재 상태가 가능하다면\n",
        "        if dp[i][j]:\n",
        "            difference = abs(tile_values[i] - tile_values[j])\n",
        "            # 그 다음 타일을 밟을 수 있다면 채운다\n",
        "            if tile_values[j] + difference <= max_value and index_check[tile_values[j] + difference] != -1:\n",
        "                dp[j][index_check[tile_values[j] + difference]] = max(dp[j][index_check[tile_values[j] + difference]], dp[i][j] + tile_values[index_check[tile_values[j] + difference]])\n",
        "\n",
        "# 정답 출력\n",
        "max_sum = 0\n",
        "for row in dp:\n",
        "    max_sum = max(max_sum, max(row))\n",
        "\n",
        "print(max_sum)"
      ]
    },
    {
      "cell_type": "markdown",
      "source": [
        "## CodeTree"
      ],
      "metadata": {
        "id": "MFZbTUWK0Rdw"
      }
    },
    {
      "cell_type": "markdown",
      "source": [
        "### 길이 늘리기"
      ],
      "metadata": {
        "id": "GEf5ci-VCSBO"
      }
    },
    {
      "cell_type": "code",
      "source": [
        "def max_size_after_removal(n, m, sequence):\n",
        "    # 수열을 오름차순으로 정렬\n",
        "    sequence.sort()\n",
        "\n",
        "    current_size = m\n",
        "\n",
        "    for number in sequence:\n",
        "        if number <= current_size:\n",
        "            # 현재 정수의 크기보다 작거나 같은 경우, 정수 크기를 증가시키고 다음 원소로 이동\n",
        "            current_size += 1\n",
        "\n",
        "    return current_size\n",
        "\n",
        "# 입력 받기\n",
        "n, m = map(int, input().strip().split())\n",
        "sequence = list(map(int, input().strip().split()))\n",
        "\n",
        "# 최대 크기 계산\n",
        "result = max_size_after_removal(n, m, sequence)\n",
        "\n",
        "# 결과 출력\n",
        "print(result)"
      ],
      "metadata": {
        "id": "93UzAp0P0VFw"
      },
      "execution_count": null,
      "outputs": []
    }
  ]
}