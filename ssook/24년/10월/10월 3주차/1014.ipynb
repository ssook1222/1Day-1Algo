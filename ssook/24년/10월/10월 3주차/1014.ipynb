{
  "nbformat": 4,
  "nbformat_minor": 0,
  "metadata": {
    "colab": {
      "provenance": [],
      "authorship_tag": "ABX9TyNTUEjai+c7EXmqqkCrciAc",
      "include_colab_link": true
    },
    "kernelspec": {
      "name": "python3",
      "display_name": "Python 3"
    },
    "language_info": {
      "name": "python"
    }
  },
  "cells": [
    {
      "cell_type": "markdown",
      "metadata": {
        "id": "view-in-github",
        "colab_type": "text"
      },
      "source": [
        "<a href=\"https://colab.research.google.com/github/ssook1222/1Day-1Algo/blob/master/ssook/24%EB%85%84/10%EC%9B%94/10%EC%9B%94%203%EC%A3%BC%EC%B0%A8/1014.ipynb\" target=\"_parent\"><img src=\"https://colab.research.google.com/assets/colab-badge.svg\" alt=\"Open In Colab\"/></a>"
      ]
    },
    {
      "cell_type": "markdown",
      "source": [
        "## BoJ"
      ],
      "metadata": {
        "id": "Mj7xSjDGzmiJ"
      }
    },
    {
      "cell_type": "markdown",
      "source": [
        "### 5354"
      ],
      "metadata": {
        "id": "CwE4BzTM0-jw"
      }
    },
    {
      "cell_type": "code",
      "execution_count": null,
      "metadata": {
        "id": "pFd--JizzfTD"
      },
      "outputs": [],
      "source": [
        "for _ in range(int(input())):\n",
        "    n = int(input())\n",
        "    if n < 3:\n",
        "        for i in range(n):\n",
        "            print('#'*n)\n",
        "        print()\n",
        "    else:\n",
        "        print('#'*n)\n",
        "        for i in range(n-2):\n",
        "            print('#' + 'J'*(n-2) + '#')\n",
        "        print('#'*n, '\\n')"
      ]
    },
    {
      "cell_type": "markdown",
      "source": [
        "## CodeTree"
      ],
      "metadata": {
        "id": "MFZbTUWK0Rdw"
      }
    },
    {
      "cell_type": "markdown",
      "source": [
        "### 함께가는 열차"
      ],
      "metadata": {
        "id": "YFuLOp4IA6FN"
      }
    },
    {
      "cell_type": "code",
      "source": [
        "def count_train_groups(trains):\n",
        "    # 초기 덩어리 수는 1개\n",
        "    group_count = 1\n",
        "    # 마지막 열차의 속도를 기준 속도로 설정\n",
        "    current_speed = trains[-1][1]\n",
        "\n",
        "    # 뒤에서부터 두 번째 열차부터 탐색 시작\n",
        "    for i in range(len(trains) - 2, -1, -1):\n",
        "        position, speed = trains[i]\n",
        "        if speed > current_speed:\n",
        "            # 속도가 더 빠르면 같은 덩어리로 묶이므로 기준 속도 변경 없음\n",
        "            continue\n",
        "        else:\n",
        "            # 새로운 덩어리가 생성되므로 덩어리 수 증가 및 기준 속도 업데이트\n",
        "            group_count += 1\n",
        "            current_speed = speed\n",
        "\n",
        "    return group_count\n",
        "\n",
        "# 입력 받기\n",
        "N = int(input().strip())\n",
        "trains = []\n",
        "\n",
        "for _ in range(N):\n",
        "    position, speed = map(int, input().strip().split())\n",
        "    trains.append((position, speed))\n",
        "\n",
        "# 덩어리 수 계산\n",
        "result = count_train_groups(trains)\n",
        "print(result)"
      ],
      "metadata": {
        "id": "93UzAp0P0VFw"
      },
      "execution_count": null,
      "outputs": []
    }
  ]
}