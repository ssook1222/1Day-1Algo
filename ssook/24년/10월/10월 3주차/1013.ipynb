{
  "nbformat": 4,
  "nbformat_minor": 0,
  "metadata": {
    "colab": {
      "provenance": [],
      "authorship_tag": "ABX9TyOmYhjWnX0xtI/OgiSumnoR",
      "include_colab_link": true
    },
    "kernelspec": {
      "name": "python3",
      "display_name": "Python 3"
    },
    "language_info": {
      "name": "python"
    }
  },
  "cells": [
    {
      "cell_type": "markdown",
      "metadata": {
        "id": "view-in-github",
        "colab_type": "text"
      },
      "source": [
        "<a href=\"https://colab.research.google.com/github/ssook1222/1Day-1Algo/blob/master/ssook/24%EB%85%84/10%EC%9B%94/10%EC%9B%94%203%EC%A3%BC%EC%B0%A8/1013.ipynb\" target=\"_parent\"><img src=\"https://colab.research.google.com/assets/colab-badge.svg\" alt=\"Open In Colab\"/></a>"
      ]
    },
    {
      "cell_type": "markdown",
      "source": [
        "## BoJ"
      ],
      "metadata": {
        "id": "Kut6P1OGyzuH"
      }
    },
    {
      "cell_type": "markdown",
      "source": [
        "### 17371"
      ],
      "metadata": {
        "id": "T_HtdrjPy1Sm"
      }
    },
    {
      "cell_type": "code",
      "execution_count": null,
      "metadata": {
        "id": "5DNkgNVKyRO1"
      },
      "outputs": [],
      "source": [
        "import math\n",
        "\n",
        "def calc_distance(x1, y1, x2, y2):\n",
        "    return math.sqrt((x1 - x2) ** 2 + (y1 - y2) ** 2)\n",
        "\n",
        "n = int(input())\n",
        "facilities = []\n",
        "min_average_distance = float('inf')\n",
        "best_x, best_y = 0, 0\n",
        "\n",
        "for _ in range(n):\n",
        "    facilities.append(list(map(int, input().split())))\n",
        "\n",
        "for fx, fy in facilities:\n",
        "    max_distance = 0\n",
        "    for gx, gy in facilities:\n",
        "        distance = calc_distance(fx, fy, gx, gy)\n",
        "        if max_distance < distance:\n",
        "            max_distance = distance\n",
        "    if min_average_distance > max_distance:\n",
        "        min_average_distance = max_distance\n",
        "        best_x, best_y = fx, fy\n",
        "\n",
        "print(best_x, best_y)"
      ]
    },
    {
      "cell_type": "markdown",
      "source": [
        "## CodeTree"
      ],
      "metadata": {
        "id": "p1AEW4-Xy127"
      }
    },
    {
      "cell_type": "markdown",
      "source": [
        "### 1까지 나누는 재귀함수"
      ],
      "metadata": {
        "id": "rAHQfFj3y34U"
      }
    },
    {
      "cell_type": "code",
      "source": [
        "def divide(n):\n",
        "    # 출력 현재 n\n",
        "    print(n, end=' ')\n",
        "\n",
        "    # 종료 조건: n이 1일 때\n",
        "    if n == 1:\n",
        "        return\n",
        "\n",
        "    # 재귀 호출\n",
        "    if n % 2 == 0:\n",
        "        divide(n // 2)\n",
        "    else:\n",
        "        divide(n // 3)\n",
        "\n",
        "# 입력 처리\n",
        "import sys\n",
        "input = sys.stdin.read\n",
        "n = int(input().strip())\n",
        "\n",
        "# 함수 호출\n",
        "divide(n)"
      ],
      "metadata": {
        "id": "3YTd93rry4Yt"
      },
      "execution_count": null,
      "outputs": []
    }
  ]
}