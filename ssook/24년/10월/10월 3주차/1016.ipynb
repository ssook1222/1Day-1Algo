{
  "nbformat": 4,
  "nbformat_minor": 0,
  "metadata": {
    "colab": {
      "provenance": [],
      "authorship_tag": "ABX9TyMMvkHE440WOraCOIKLMTJC",
      "include_colab_link": true
    },
    "kernelspec": {
      "name": "python3",
      "display_name": "Python 3"
    },
    "language_info": {
      "name": "python"
    }
  },
  "cells": [
    {
      "cell_type": "markdown",
      "metadata": {
        "id": "view-in-github",
        "colab_type": "text"
      },
      "source": [
        "<a href=\"https://colab.research.google.com/github/ssook1222/1Day-1Algo/blob/master/ssook/24%EB%85%84/10%EC%9B%94/10%EC%9B%94%203%EC%A3%BC%EC%B0%A8/1016.ipynb\" target=\"_parent\"><img src=\"https://colab.research.google.com/assets/colab-badge.svg\" alt=\"Open In Colab\"/></a>"
      ]
    },
    {
      "cell_type": "markdown",
      "source": [
        "## BoJ"
      ],
      "metadata": {
        "id": "Mj7xSjDGzmiJ"
      }
    },
    {
      "cell_type": "markdown",
      "source": [
        "### 2136"
      ],
      "metadata": {
        "id": "2P4d-zYQ8T2n"
      }
    },
    {
      "cell_type": "code",
      "execution_count": null,
      "metadata": {
        "id": "pFd--JizzfTD"
      },
      "outputs": [],
      "source": [
        "import sys\n",
        "\n",
        "input = sys.stdin.readline\n",
        "\n",
        "def solution():\n",
        "    num_ants, rod_length = map(int, input().split())\n",
        "    positions = []\n",
        "    leftmost_fall_time = rightmost_fall_time = 0\n",
        "    leftmost_index = 0\n",
        "\n",
        "    for _ in range(num_ants):\n",
        "        position = int(input().strip())\n",
        "        if position < 0:\n",
        "            position = -position\n",
        "            leftmost_index += 1\n",
        "            if position > leftmost_fall_time:\n",
        "                leftmost_fall_time = position\n",
        "        elif rod_length - position > rightmost_fall_time:\n",
        "            rightmost_fall_time = rod_length - position\n",
        "        positions.append(position)\n",
        "\n",
        "    sorted_positions = sorted(positions)\n",
        "    if leftmost_fall_time > rightmost_fall_time:\n",
        "        print(positions.index(sorted_positions[leftmost_index - 1]) + 1, leftmost_fall_time)\n",
        "    else:\n",
        "        print(positions.index(sorted_positions[leftmost_index]) + 1, rightmost_fall_time)\n",
        "\n",
        "solution()"
      ]
    },
    {
      "cell_type": "markdown",
      "source": [
        "## CodeTree"
      ],
      "metadata": {
        "id": "MFZbTUWK0Rdw"
      }
    },
    {
      "cell_type": "markdown",
      "source": [
        "### 제곱수의 합으로 나타내기"
      ],
      "metadata": {
        "id": "ytEPNcE1BQSX"
      }
    },
    {
      "cell_type": "code",
      "source": [
        "import math\n",
        "\n",
        "def min_square_sum(n):\n",
        "    # DP 배열 초기화\n",
        "    dp = [float('inf')] * (n + 1)\n",
        "    dp[0] = 0\n",
        "\n",
        "    # DP 계산\n",
        "    for i in range(1, n + 1):\n",
        "        j = 1\n",
        "        while j * j <= i:\n",
        "            dp[i] = min(dp[i], dp[i - j * j] + 1)\n",
        "            j += 1\n",
        "\n",
        "    return dp[n]\n",
        "\n",
        "# 입력 받기\n",
        "n = int(input().strip())\n",
        "\n",
        "# 최소 제곱수의 개수 계산\n",
        "result = min_square_sum(n)\n",
        "print(result)"
      ],
      "metadata": {
        "id": "93UzAp0P0VFw"
      },
      "execution_count": null,
      "outputs": []
    }
  ]
}