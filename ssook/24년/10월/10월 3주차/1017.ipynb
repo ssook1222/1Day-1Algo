{
  "nbformat": 4,
  "nbformat_minor": 0,
  "metadata": {
    "colab": {
      "provenance": [],
      "authorship_tag": "ABX9TyOrHKa38KVdIbqH8iWCXZgj",
      "include_colab_link": true
    },
    "kernelspec": {
      "name": "python3",
      "display_name": "Python 3"
    },
    "language_info": {
      "name": "python"
    }
  },
  "cells": [
    {
      "cell_type": "markdown",
      "metadata": {
        "id": "view-in-github",
        "colab_type": "text"
      },
      "source": [
        "<a href=\"https://colab.research.google.com/github/ssook1222/1Day-1Algo/blob/master/ssook/24%EB%85%84/10%EC%9B%94/10%EC%9B%94%203%EC%A3%BC%EC%B0%A8/1017.ipynb\" target=\"_parent\"><img src=\"https://colab.research.google.com/assets/colab-badge.svg\" alt=\"Open In Colab\"/></a>"
      ]
    },
    {
      "cell_type": "markdown",
      "source": [
        "## BoJ"
      ],
      "metadata": {
        "id": "Mj7xSjDGzmiJ"
      }
    },
    {
      "cell_type": "markdown",
      "source": [
        "### 1480"
      ],
      "metadata": {
        "id": "WUCMDiU09QQB"
      }
    },
    {
      "cell_type": "code",
      "execution_count": null,
      "metadata": {
        "id": "pFd--JizzfTD"
      },
      "outputs": [],
      "source": [
        "import sys\n",
        "input = sys.stdin.readline\n",
        "\n",
        "# Read input values\n",
        "num_gems, num_bags, bag_capacity = map(int, input().split())\n",
        "gem_weights = list(map(int, input().split()))\n",
        "\n",
        "# Initialize dp array\n",
        "dp = [[[0 for _ in range(bag_capacity + 1)] for _ in range(num_bags + 1)] for _ in range(1 << 14)]\n",
        "\n",
        "def maximize_gems(gem_mask, current_bag, remaining_capacity):\n",
        "    # Check if all gems are used or all bags are filled\n",
        "    if gem_mask == ((1 << num_gems) - 1) or current_bag >= num_bags:\n",
        "        return 0\n",
        "\n",
        "    # Return the result from the dp table if already computed\n",
        "    if dp[gem_mask][current_bag][remaining_capacity] != 0:\n",
        "        return dp[gem_mask][current_bag][remaining_capacity]\n",
        "\n",
        "    max_gems = 0\n",
        "\n",
        "    # Try to put each gem into the current bag\n",
        "    for i in range(num_gems):\n",
        "        # Skip if the gem is already used or if the gem's weight exceeds the bag's capacity\n",
        "        if (gem_mask & (1 << i)) != 0 or gem_weights[i] > bag_capacity:\n",
        "            continue\n",
        "\n",
        "        # If the gem can fit in the current bag\n",
        "        if remaining_capacity >= gem_weights[i]:\n",
        "            max_gems = max(max_gems, maximize_gems(gem_mask | (1 << i), current_bag, remaining_capacity - gem_weights[i]) + 1)\n",
        "        else:\n",
        "            # If the gem cannot fit, try the next bag\n",
        "            max_gems = max(max_gems, maximize_gems(gem_mask, current_bag + 1, bag_capacity))\n",
        "\n",
        "    dp[gem_mask][current_bag][remaining_capacity] = max_gems\n",
        "    return max_gems\n",
        "\n",
        "# Print the maximum number of gems that can be taken\n",
        "print(maximize_gems(0, 0, bag_capacity))"
      ]
    },
    {
      "cell_type": "markdown",
      "source": [
        "## CodeTree"
      ],
      "metadata": {
        "id": "MFZbTUWK0Rdw"
      }
    },
    {
      "cell_type": "markdown",
      "source": [
        "### 문자 대치"
      ],
      "metadata": {
        "id": "BCds2EmdCLTf"
      }
    },
    {
      "cell_type": "code",
      "source": [
        "def replace_string(s):\n",
        "    result = []\n",
        "    i = 0\n",
        "    n = len(s)\n",
        "\n",
        "    while i < n:\n",
        "        if s[i] == 'X':\n",
        "            start = i\n",
        "            while i < n and s[i] == 'X':\n",
        "                i += 1\n",
        "            length = i - start\n",
        "\n",
        "            if length % 2 != 0:\n",
        "                return -1\n",
        "\n",
        "            # aaaa를 최대한 사용하고, 남은 부분을 bb로 채운다\n",
        "            result.append('aaaa' * (length // 4))\n",
        "            if length % 4 != 0:\n",
        "                result.append('bb')\n",
        "        else:\n",
        "            result.append('.')\n",
        "            i += 1\n",
        "\n",
        "    return ''.join(result)\n",
        "\n",
        "# 입력 받기\n",
        "s = input().strip()\n",
        "\n",
        "# 결과 출력\n",
        "print(replace_string(s))\n"
      ],
      "metadata": {
        "id": "93UzAp0P0VFw"
      },
      "execution_count": null,
      "outputs": []
    }
  ]
}