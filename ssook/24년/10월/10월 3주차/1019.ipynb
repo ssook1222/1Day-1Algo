{
  "nbformat": 4,
  "nbformat_minor": 0,
  "metadata": {
    "colab": {
      "provenance": [],
      "authorship_tag": "ABX9TyMpVqOLNhAnbwMuaJeoClSk",
      "include_colab_link": true
    },
    "kernelspec": {
      "name": "python3",
      "display_name": "Python 3"
    },
    "language_info": {
      "name": "python"
    }
  },
  "cells": [
    {
      "cell_type": "markdown",
      "metadata": {
        "id": "view-in-github",
        "colab_type": "text"
      },
      "source": [
        "<a href=\"https://colab.research.google.com/github/ssook1222/1Day-1Algo/blob/master/ssook/24%EB%85%84/10%EC%9B%94/10%EC%9B%94%203%EC%A3%BC%EC%B0%A8/1019.ipynb\" target=\"_parent\"><img src=\"https://colab.research.google.com/assets/colab-badge.svg\" alt=\"Open In Colab\"/></a>"
      ]
    },
    {
      "cell_type": "markdown",
      "source": [
        "## BoJ"
      ],
      "metadata": {
        "id": "Mj7xSjDGzmiJ"
      }
    },
    {
      "cell_type": "markdown",
      "source": [
        "### 4574"
      ],
      "metadata": {
        "id": "f1heQJ9Z_kBt"
      }
    },
    {
      "cell_type": "code",
      "execution_count": null,
      "metadata": {
        "id": "pFd--JizzfTD"
      },
      "outputs": [],
      "source": [
        "def solve_puzzle(tile_count, puzzle_number):\n",
        "\n",
        "    is_solved = False\n",
        "\n",
        "    if tile_count == empty_tile_count:\n",
        "        print(f'Puzzle {puzzle_number}')\n",
        "        for row in range(9):\n",
        "            for col in range(9):\n",
        "                print(puzzle[row][col], end='')\n",
        "            print()\n",
        "        return True\n",
        "    row, col = empty_tiles[tile_count]\n",
        "\n",
        "    if puzzle[row][col]:\n",
        "        is_solved = solve_puzzle(tile_count + 1, puzzle_number)\n",
        "        return is_solved\n",
        "\n",
        "    for i in range(9):\n",
        "        for j in range(9):\n",
        "            if i == j or used_tiles[i][j]:\n",
        "                continue\n",
        "            for direction in directions:\n",
        "                next_row, next_col = row + direction[0], col + direction[1]\n",
        "                if 0 <= next_row < 9 and 0 <= next_col < 9 and not puzzle[next_row][next_col]:\n",
        "                    if row_constraints[row][i] == row_constraints[next_row][j] == col_constraints[col][i] == col_constraints[next_col][j] == subgrid_constraints[row // 3 * 3 + col // 3][i] == subgrid_constraints[next_row // 3 * 3 + next_col // 3][j] == 0:\n",
        "                        puzzle[row][col], puzzle[next_row][next_col] = i + 1, j + 1\n",
        "                        used_tiles[i][j], used_tiles[j][i] = 1, 1\n",
        "                        row_constraints[row][i], row_constraints[next_row][j], col_constraints[col][i], col_constraints[next_col][j], subgrid_constraints[row // 3 * 3 + col // 3][i], subgrid_constraints[next_row // 3 * 3 + next_col // 3][j] = 1, 1, 1, 1, 1, 1\n",
        "                        is_solved = solve_puzzle(tile_count + 1, puzzle_number)\n",
        "                        if is_solved:\n",
        "                            return is_solved\n",
        "                        puzzle[row][col], puzzle[next_row][next_col] = 0, 0\n",
        "                        used_tiles[i][j], used_tiles[j][i] = 0, 0\n",
        "                        row_constraints[row][i], row_constraints[next_row][j], col_constraints[col][i], col_constraints[next_col][j], subgrid_constraints[row // 3 * 3 + col // 3][i], subgrid_constraints[next_row // 3 * 3 + next_col // 3][j] = 0, 0, 0, 0, 0, 0\n",
        "    return is_solved\n",
        "\n",
        "puzzle_number = 1\n",
        "\n",
        "while True:\n",
        "    num_constraints = int(input())\n",
        "    directions = [[0, 1], [1, 0]]\n",
        "\n",
        "    if num_constraints == 0:\n",
        "        break\n",
        "\n",
        "    puzzle = [[0] * 9 for _ in range(9)]\n",
        "    used_tiles = [[0] * 9 for _ in range(9)]\n",
        "    row_constraints = [[0] * 9 for _ in range(9)]\n",
        "    col_constraints = [[0] * 9 for _ in range(9)]\n",
        "    subgrid_constraints = [[0] * 9 for _ in range(9)]\n",
        "    empty_tiles = []\n",
        "    empty_tile_count = 0\n",
        "\n",
        "    for _ in range(num_constraints):\n",
        "        tile1, pos1, tile2, pos2 = input().split()\n",
        "        pos1_x, pos1_y = ord(pos1[0]) - ord('A'), int(pos1[1]) - 1\n",
        "        pos2_x, pos2_y = ord(pos2[0]) - ord('A'), int(pos2[1]) - 1\n",
        "        puzzle[pos1_x][pos1_y], puzzle[pos2_x][pos2_y] = int(tile1), int(tile2)\n",
        "        used_tiles[int(tile1) - 1][int(tile2) - 1], used_tiles[int(tile2) - 1][int(tile1) - 1] = 1, 1\n",
        "        row_constraints[pos1_x][int(tile1) - 1], row_constraints[pos2_x][int(tile2) - 1] = 1, 1\n",
        "        col_constraints[pos1_y][int(tile1) - 1], col_constraints[pos2_y][int(tile2) - 1] = 1, 1\n",
        "        subgrid_constraints[pos1_x // 3 * 3 + pos1_y // 3][int(tile1) - 1] = 1\n",
        "        subgrid_constraints[pos2_x // 3 * 3 + pos2_y // 3][int(tile2) - 1] = 1\n",
        "\n",
        "    for i, pos in enumerate(input().split()):\n",
        "        pos_x, pos_y = ord(pos[0]) - ord('A'), int(pos[1]) - 1\n",
        "        puzzle[pos_x][pos_y] = i + 1\n",
        "        row_constraints[pos_x][i], col_constraints[pos_y][i] = 1, 1\n",
        "        subgrid_constraints[pos_x // 3 * 3 + pos_y // 3][i] = 1\n",
        "\n",
        "    for row in range(9):\n",
        "        for col in range(9):\n",
        "            if not puzzle[row][col]:\n",
        "                empty_tiles.append([row, col])\n",
        "                empty_tile_count += 1\n",
        "    solve_puzzle(0, puzzle_number)\n",
        "    puzzle_number += 1"
      ]
    },
    {
      "cell_type": "markdown",
      "source": [
        "## CodeTree"
      ],
      "metadata": {
        "id": "MFZbTUWK0Rdw"
      }
    },
    {
      "cell_type": "markdown",
      "source": [
        "### 물건 분배"
      ],
      "metadata": {
        "id": "Vo0acK_RDECn"
      }
    },
    {
      "cell_type": "code",
      "source": [
        "def min_boxes_needed(n, k, box_dimensions):\n",
        "    # 상자의 용량을 계산합니다.\n",
        "    box_capacities = [w * h for w, h in box_dimensions]\n",
        "\n",
        "    # 상자의 용량을 내림차순으로 정렬합니다.\n",
        "    box_capacities.sort(reverse=True)\n",
        "\n",
        "    boxes_used = 0\n",
        "    remaining_items = n\n",
        "\n",
        "    # 상자의 용량이 큰 것부터 사용하여 물건을 담습니다.\n",
        "    for capacity in box_capacities:\n",
        "        if remaining_items <= 0:\n",
        "            break\n",
        "        boxes_needed = (remaining_items + capacity - 1) // capacity  # 필요한 상자의 개수\n",
        "        remaining_items -= boxes_needed * capacity\n",
        "        boxes_used += boxes_needed\n",
        "\n",
        "    # 물건이 다 담길 때까지 필요한 상자의 개수를 반환합니다.\n",
        "    return boxes_used\n",
        "\n",
        "# 입력 받기\n",
        "n, k = map(int, input().strip().split())\n",
        "box_dimensions = [tuple(map(int, input().strip().split())) for _ in range(k)]\n",
        "\n",
        "# 최소 상자 개수 계산\n",
        "result = min_boxes_needed(n, k, box_dimensions)\n",
        "\n",
        "# 결과 출력\n",
        "print(result)"
      ],
      "metadata": {
        "id": "93UzAp0P0VFw"
      },
      "execution_count": null,
      "outputs": []
    }
  ]
}