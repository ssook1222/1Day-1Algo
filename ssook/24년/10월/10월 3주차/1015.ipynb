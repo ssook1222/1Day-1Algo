{
  "nbformat": 4,
  "nbformat_minor": 0,
  "metadata": {
    "colab": {
      "provenance": [],
      "authorship_tag": "ABX9TyMp1ouZ6JULGfEgi0rfEJ7t",
      "include_colab_link": true
    },
    "kernelspec": {
      "name": "python3",
      "display_name": "Python 3"
    },
    "language_info": {
      "name": "python"
    }
  },
  "cells": [
    {
      "cell_type": "markdown",
      "metadata": {
        "id": "view-in-github",
        "colab_type": "text"
      },
      "source": [
        "<a href=\"https://colab.research.google.com/github/ssook1222/1Day-1Algo/blob/master/ssook/24%EB%85%84/10%EC%9B%94/10%EC%9B%94%203%EC%A3%BC%EC%B0%A8/1015.ipynb\" target=\"_parent\"><img src=\"https://colab.research.google.com/assets/colab-badge.svg\" alt=\"Open In Colab\"/></a>"
      ]
    },
    {
      "cell_type": "markdown",
      "source": [
        "## BoJ"
      ],
      "metadata": {
        "id": "Mj7xSjDGzmiJ"
      }
    },
    {
      "cell_type": "markdown",
      "source": [
        "### 2038"
      ],
      "metadata": {
        "id": "pwEzaQ3P1ZeJ"
      }
    },
    {
      "cell_type": "code",
      "execution_count": null,
      "metadata": {
        "id": "pFd--JizzfTD"
      },
      "outputs": [],
      "source": [
        "import sys\n",
        "\n",
        "def compute_golomb_sequence(sequence):\n",
        "    sequence[1] = 1\n",
        "    total_sum = sequence[1]\n",
        "    index = 1\n",
        "    while total_sum < target_value:\n",
        "        index += 1\n",
        "        sequence[index] = 1 + sequence[index - sequence[sequence[index - 1]]]\n",
        "        total_sum += sequence[index]\n",
        "\n",
        "    print(index)\n",
        "    return\n",
        "\n",
        "if __name__ == \"__main__\":\n",
        "    target_value = int(sys.stdin.readline())\n",
        "    golomb_sequence = [0] * (1000001)\n",
        "    compute_golomb_sequence(golomb_sequence)"
      ]
    },
    {
      "cell_type": "markdown",
      "source": [
        "## CodeTree"
      ],
      "metadata": {
        "id": "MFZbTUWK0Rdw"
      }
    },
    {
      "cell_type": "markdown",
      "source": [
        "### 알파벳 * 2"
      ],
      "metadata": {
        "id": "6FK24qaXBJzb"
      }
    },
    {
      "cell_type": "code",
      "source": [
        "def count_intersections(s):\n",
        "    positions = {}\n",
        "\n",
        "    # 각 알파벳의 등장 위치를 기록\n",
        "    for i, ch in enumerate(s):\n",
        "        if ch in positions:\n",
        "            positions[ch].append(i)\n",
        "        else:\n",
        "            positions[ch] = [i]\n",
        "\n",
        "    # 선분 리스트 생성\n",
        "    segments = []\n",
        "    for ch, pos in positions.items():\n",
        "        l1, r1 = pos\n",
        "        segments.append((l1, r1))\n",
        "\n",
        "    # 어중간하게 겹치는 선분 쌍을 카운트\n",
        "    intersections = 0\n",
        "    for i in range(len(segments)):\n",
        "        for j in range(i + 1, len(segments)):\n",
        "            l1, r1 = segments[i]\n",
        "            l2, r2 = segments[j]\n",
        "\n",
        "            # 어중간하게 겹치는 조건\n",
        "            if (l1 < l2 < r1 < r2) or (l2 < l1 < r2 < r1):\n",
        "                intersections += 1\n",
        "\n",
        "    return intersections\n",
        "\n",
        "# 입력 받기\n",
        "s = input().strip()\n",
        "\n",
        "# 어중간하게 겹치는 선분의 수 계산\n",
        "result = count_intersections(s)\n",
        "print(result)\n"
      ],
      "metadata": {
        "id": "93UzAp0P0VFw"
      },
      "execution_count": null,
      "outputs": []
    }
  ]
}