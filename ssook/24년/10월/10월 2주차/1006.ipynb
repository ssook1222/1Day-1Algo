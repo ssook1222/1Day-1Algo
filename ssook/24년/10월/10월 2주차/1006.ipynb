{
  "nbformat": 4,
  "nbformat_minor": 0,
  "metadata": {
    "colab": {
      "provenance": [],
      "authorship_tag": "ABX9TyMnaxZLZwq8jnZoxp0215Wd",
      "include_colab_link": true
    },
    "kernelspec": {
      "name": "python3",
      "display_name": "Python 3"
    },
    "language_info": {
      "name": "python"
    }
  },
  "cells": [
    {
      "cell_type": "markdown",
      "metadata": {
        "id": "view-in-github",
        "colab_type": "text"
      },
      "source": [
        "<a href=\"https://colab.research.google.com/github/ssook1222/1Day-1Algo/blob/master/ssook/24%EB%85%84/10%EC%9B%94/10%EC%9B%94%202%EC%A3%BC%EC%B0%A8/1006.ipynb\" target=\"_parent\"><img src=\"https://colab.research.google.com/assets/colab-badge.svg\" alt=\"Open In Colab\"/></a>"
      ]
    },
    {
      "cell_type": "markdown",
      "source": [
        "## BoJ"
      ],
      "metadata": {
        "id": "YdPsKYYYthvm"
      }
    },
    {
      "cell_type": "markdown",
      "source": [
        "### 10473"
      ],
      "metadata": {
        "id": "B6Hus3rbtmxt"
      }
    },
    {
      "cell_type": "code",
      "execution_count": null,
      "metadata": {
        "id": "AEIqWR3ishnQ"
      },
      "outputs": [],
      "source": [
        "import sys\n",
        "import heapq\n",
        "\n",
        "INF = float(sys.maxsize)\n",
        "start_x, start_y = map(float, sys.stdin.readline().rstrip().split())\n",
        "goal_x, goal_y = map(float, sys.stdin.readline().rstrip().split())\n",
        "n = int(sys.stdin.readline().rstrip())\n",
        "pos = []\n",
        "\n",
        "for i in range(1, n+1):\n",
        "    cur_x, cur_y = map(float, sys.stdin.readline().rstrip().split())\n",
        "    pos.append([cur_x, cur_y])\n",
        "pos.insert(0, [start_x, start_y])\n",
        "pos.append([goal_x, goal_y])\n",
        "\n",
        "nodes = [[] for _ in range(n+1)]\n",
        "\n",
        "def get_distance(x1, y1, x2, y2):\n",
        "    distance = (abs(x1-x2)**2 + abs(y1-y2)**2)**0.5\n",
        "    return distance\n",
        "\n",
        "for idx in range(1, n+2):\n",
        "    x2, y2 = pos[idx]\n",
        "    distance = get_distance(pos[0][0], pos[0][1], x2, y2)\n",
        "    nodes[0].append([idx, distance / 5.0])\n",
        "\n",
        "for idx in range(1, n+1):\n",
        "    x1, y1 = pos[idx]\n",
        "    distance = get_distance(x1, y1, pos[n+1][0], pos[n+1][1])\n",
        "    nodes[idx].append([n+1, distance/5.0])\n",
        "    nodes[idx].append([n+1, 2.0 + (abs(distance-50.0) / 5.0)])\n",
        "\n",
        "for i in range(1, n+1):\n",
        "    x1, y1 = pos[i]\n",
        "    for j in range(i+1, n+1):\n",
        "        x2, y2 = pos[j]\n",
        "        distance = get_distance(x1, y1, x2, y2)\n",
        "        nodes[i].append([j, distance/5.0])\n",
        "        nodes[i].append([j, 2.0 + (abs(distance-50.0) / 5.0)])\n",
        "        nodes[j].append([i, distance/5.0])\n",
        "        nodes[j].append([i, 2.0 + (abs(distance-50.0) / 5.0)])\n",
        "\n",
        "def Dijkstra():\n",
        "    distances = [INF for _ in range(n+2)]\n",
        "    distances[0] = 0.0\n",
        "    pq = []\n",
        "    heapq.heappush(pq, [0.0, 0])\n",
        "\n",
        "    while pq:\n",
        "        cur_cost, cur_node = heapq.heappop(pq)\n",
        "\n",
        "        if distances[cur_node] < cur_cost: continue\n",
        "        elif cur_node == n+1: continue\n",
        "\n",
        "        for next_node, next_cost in nodes[cur_node]:\n",
        "            if distances[next_node] > next_cost + cur_cost:\n",
        "                distances[next_node] = next_cost + cur_cost\n",
        "                heapq.heappush(pq, [next_cost + cur_cost, next_node])\n",
        "    return distances[n+1]\n",
        "\n",
        "print(Dijkstra())"
      ]
    },
    {
      "cell_type": "markdown",
      "source": [
        "## CodeTree"
      ],
      "metadata": {
        "id": "BbOuRRjbtniS"
      }
    },
    {
      "cell_type": "markdown",
      "source": [
        "### 진법 변환 4"
      ],
      "metadata": {
        "id": "7PY5mNa2tonF"
      }
    },
    {
      "cell_type": "code",
      "source": [
        "def binary_to_decimal(binary_str):\n",
        "    # 2진수 문자열을 10진수로 변환합니다.\n",
        "    return int(binary_str, 2)\n",
        "\n",
        "# 입력을 받습니다.\n",
        "binary_input = input().strip()\n",
        "\n",
        "# 변환 및 출력\n",
        "decimal_output = binary_to_decimal(binary_input)\n",
        "print(decimal_output)"
      ],
      "metadata": {
        "id": "-vGX11NNtpiT"
      },
      "execution_count": null,
      "outputs": []
    }
  ]
}