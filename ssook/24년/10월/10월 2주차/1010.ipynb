{
  "nbformat": 4,
  "nbformat_minor": 0,
  "metadata": {
    "colab": {
      "provenance": [],
      "authorship_tag": "ABX9TyPl6SazWgIvqiFgR3FP8dUo",
      "include_colab_link": true
    },
    "kernelspec": {
      "name": "python3",
      "display_name": "Python 3"
    },
    "language_info": {
      "name": "python"
    }
  },
  "cells": [
    {
      "cell_type": "markdown",
      "metadata": {
        "id": "view-in-github",
        "colab_type": "text"
      },
      "source": [
        "<a href=\"https://colab.research.google.com/github/ssook1222/1Day-1Algo/blob/master/ssook/24%EB%85%84/10%EC%9B%94/10%EC%9B%94%202%EC%A3%BC%EC%B0%A8/1010.ipynb\" target=\"_parent\"><img src=\"https://colab.research.google.com/assets/colab-badge.svg\" alt=\"Open In Colab\"/></a>"
      ]
    },
    {
      "cell_type": "markdown",
      "source": [
        "## BoJ"
      ],
      "metadata": {
        "id": "Kut6P1OGyzuH"
      }
    },
    {
      "cell_type": "markdown",
      "source": [
        "### 16134"
      ],
      "metadata": {
        "id": "T_HtdrjPy1Sm"
      }
    },
    {
      "cell_type": "code",
      "execution_count": null,
      "metadata": {
        "id": "5DNkgNVKyRO1"
      },
      "outputs": [],
      "source": [
        "width_plus_height, height = map(int, input().split())\n",
        "\n",
        "MOD = 1000000007\n",
        "\n",
        "# 분자 계산하기\n",
        "numerator = 1\n",
        "for i in range(width_plus_height - height + 1, width_plus_height + 1, 1):\n",
        "    numerator = (numerator * i) % MOD\n",
        "\n",
        "# 분모 계산하기\n",
        "denominator = 1\n",
        "for i in range(1, height + 1):\n",
        "    denominator = (denominator * i) % MOD\n",
        "\n",
        "# 분모의 MOD-2 거듭제곱 구하기 (모듈러 역수)\n",
        "exponent = MOD - 2\n",
        "inverse_denominator = 1\n",
        "while exponent > 0:\n",
        "    if exponent % 2 == 1:\n",
        "        inverse_denominator = (inverse_denominator * denominator) % MOD\n",
        "    denominator = (denominator * denominator) % MOD\n",
        "    exponent = exponent // 2\n",
        "\n",
        "print((numerator * inverse_denominator) % MOD)"
      ]
    },
    {
      "cell_type": "markdown",
      "source": [
        "## CodeTree"
      ],
      "metadata": {
        "id": "p1AEW4-Xy127"
      }
    },
    {
      "cell_type": "markdown",
      "source": [
        "### 진법 변환 5"
      ],
      "metadata": {
        "id": "rAHQfFj3y34U"
      }
    },
    {
      "cell_type": "code",
      "source": [
        "def convert_number(number, base):\n",
        "    if base == 2:\n",
        "        # 2진법으로 변환\n",
        "        return bin(number)[2:]\n",
        "    elif base == 8:\n",
        "        # 8진법으로 변환\n",
        "        return oct(number)[2:]\n",
        "    elif base == 16:\n",
        "        # 16진법으로 변환, 소문자로 출력\n",
        "        return hex(number)[2:]\n",
        "    else:\n",
        "        # 유효하지 않은 진법\n",
        "        return \"Invalid base\"\n",
        "\n",
        "# 입력 받기\n",
        "number, base = map(int, input().split())\n",
        "\n",
        "# 변환 후 출력\n",
        "print(convert_number(number, base))\n"
      ],
      "metadata": {
        "id": "3YTd93rry4Yt"
      },
      "execution_count": null,
      "outputs": []
    }
  ]
}