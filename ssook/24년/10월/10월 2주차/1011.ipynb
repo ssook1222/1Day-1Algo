{
  "nbformat": 4,
  "nbformat_minor": 0,
  "metadata": {
    "colab": {
      "provenance": [],
      "authorship_tag": "ABX9TyOlKweYSCmirmaEqSrq5qwk",
      "include_colab_link": true
    },
    "kernelspec": {
      "name": "python3",
      "display_name": "Python 3"
    },
    "language_info": {
      "name": "python"
    }
  },
  "cells": [
    {
      "cell_type": "markdown",
      "metadata": {
        "id": "view-in-github",
        "colab_type": "text"
      },
      "source": [
        "<a href=\"https://colab.research.google.com/github/ssook1222/1Day-1Algo/blob/master/ssook/24%EB%85%84/10%EC%9B%94/10%EC%9B%94%202%EC%A3%BC%EC%B0%A8/1011.ipynb\" target=\"_parent\"><img src=\"https://colab.research.google.com/assets/colab-badge.svg\" alt=\"Open In Colab\"/></a>"
      ]
    },
    {
      "cell_type": "markdown",
      "source": [
        "## BoJ"
      ],
      "metadata": {
        "id": "Kut6P1OGyzuH"
      }
    },
    {
      "cell_type": "markdown",
      "source": [
        "### 1944\n",
        "---\n",
        "pypy"
      ],
      "metadata": {
        "id": "T_HtdrjPy1Sm"
      }
    },
    {
      "cell_type": "code",
      "execution_count": null,
      "metadata": {
        "id": "5DNkgNVKyRO1"
      },
      "outputs": [],
      "source": [
        "import sys\n",
        "import heapq\n",
        "from collections import deque\n",
        "\n",
        "n, m = map(int, sys.stdin.readline().rstrip().split())\n",
        "grid = []\n",
        "key_positions = []\n",
        "edges = []\n",
        "for i in range(n):\n",
        "    line = list(sys.stdin.readline().rstrip())\n",
        "    grid.append(line)\n",
        "    for j in range(n):\n",
        "        if line[j] == 'S' or line[j] == 'K':\n",
        "            key_positions.append([i, j])\n",
        "            # MST 노드는 'S', 'K' 등 총 m+1개 노드, m개 간선\n",
        "\n",
        "dx = [0, 0, 1, -1]\n",
        "dy = [1, -1, 0, 0]\n",
        "\n",
        "def BFS(start_row, start_col, goal_row, goal_col):\n",
        "    queue = deque()\n",
        "    queue.append([start_row, start_col, 0])\n",
        "    visited = [[False for _ in range(n)] for _ in range(n)]\n",
        "    visited[start_row][start_col] = True\n",
        "\n",
        "    while queue:\n",
        "        cur_row, cur_col, cur_cost = queue.popleft()\n",
        "        if cur_row == goal_row and cur_col == goal_col: return cur_cost\n",
        "\n",
        "        for x, y in zip(dx, dy):\n",
        "            next_row, next_col = cur_row + y, cur_col + x\n",
        "            if next_row < 0 or next_col < 0 or next_row >= n or next_col >= n: continue\n",
        "\n",
        "            if not visited[next_row][next_col] and grid[next_row][next_col] != '1':\n",
        "                visited[next_row][next_col] = True\n",
        "                queue.append([next_row, next_col, cur_cost + 1])\n",
        "    return -1\n",
        "\n",
        "def find(parent):\n",
        "    if parents[parent] == parent: return parent\n",
        "    else:\n",
        "        parents[parent] = find(parents[parent])\n",
        "        return parents[parent]\n",
        "\n",
        "def union(parent1, parent2):\n",
        "    root1, root2 = find(parent1), find(parent2)\n",
        "    if root1 == root2: return False\n",
        "    else:\n",
        "        parents[root2] = root1\n",
        "        return True\n",
        "\n",
        "\n",
        "for i in range(m+1):\n",
        "    for j in range(i+1, m+1):\n",
        "        start_row, start_col = key_positions[i]\n",
        "        goal_row, goal_col = key_positions[j]\n",
        "        cost = BFS(start_row, start_col, goal_row, goal_col)\n",
        "        # 키 ('S' 또는 'K') 페어 별 최단 거리를 BFS를 통해 구한다. -1은 연결할 수 없는 경우므로 연결 트리 자체 불가능\n",
        "        if cost == -1:\n",
        "            print(-1)\n",
        "            exit(0)\n",
        "        heapq.heappush(edges, [cost, i, j])\n",
        "\n",
        "\n",
        "parents = [i for i in range(m+1)]\n",
        "\n",
        "# 크루스칼 알고리즘\n",
        "total_cost = 0\n",
        "edge_count = 0\n",
        "while edges:\n",
        "    cur_cost, node1, node2 = heapq.heappop(edges)\n",
        "\n",
        "    if union(node1, node2):\n",
        "        total_cost += cur_cost\n",
        "        edge_count += 1\n",
        "        if edge_count == m: break\n",
        "\n",
        "if edge_count == m: print(total_cost)\n",
        "else: print(-1)\n"
      ]
    },
    {
      "cell_type": "markdown",
      "source": [
        "## CodeTree"
      ],
      "metadata": {
        "id": "p1AEW4-Xy127"
      }
    },
    {
      "cell_type": "markdown",
      "source": [
        "### 수업태도 평가"
      ],
      "metadata": {
        "id": "rAHQfFj3y34U"
      }
    },
    {
      "cell_type": "code",
      "source": [
        "def find_second_lowest_student(N, score_updates):\n",
        "    # 학생 이름과 점수를 저장할 사전\n",
        "    scores = {\n",
        "        \"Bessie\": 0,\n",
        "        \"Elsie\": 0,\n",
        "        \"Daisy\": 0,\n",
        "        \"Gertie\": 0,\n",
        "        \"Annabelle\": 0,\n",
        "        \"Maggie\": 0,\n",
        "        \"Henrietta\": 0\n",
        "    }\n",
        "\n",
        "    # 점수 업데이트 적용\n",
        "    for name, score in score_updates:\n",
        "        scores[name] = max(scores[name], score)\n",
        "\n",
        "    # 점수를 정렬\n",
        "    sorted_scores = sorted(set(scores.values()))\n",
        "\n",
        "    if len(sorted_scores) < 2:\n",
        "        return \"Tie\"\n",
        "\n",
        "    # 두 번째로 낮은 점수\n",
        "    second_lowest = sorted_scores[1]\n",
        "\n",
        "    # 두 번째로 낮은 점수를 가진 학생들 찾기\n",
        "    candidates = [name for name, score in scores.items() if score == second_lowest]\n",
        "\n",
        "    if len(candidates) > 1:\n",
        "        return \"Tie\"\n",
        "    else:\n",
        "        return candidates[0]\n",
        "\n",
        "# 입력 처리\n",
        "import sys\n",
        "input = sys.stdin.read\n",
        "data = input().strip().split('\\n')\n",
        "\n",
        "N = int(data[0])\n",
        "score_updates = [line.split() for line in data[1:N+1]]\n",
        "score_updates = [(name, int(score)) for name, score in score_updates]\n",
        "\n",
        "# 결과 출력\n",
        "print(find_second_lowest_student(N, score_updates))"
      ],
      "metadata": {
        "id": "3YTd93rry4Yt"
      },
      "execution_count": null,
      "outputs": []
    }
  ]
}