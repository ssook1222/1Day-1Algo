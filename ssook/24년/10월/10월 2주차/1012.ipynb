{
  "nbformat": 4,
  "nbformat_minor": 0,
  "metadata": {
    "colab": {
      "provenance": [],
      "authorship_tag": "ABX9TyM1v1BJhQsCPLG0gk2YkB49",
      "include_colab_link": true
    },
    "kernelspec": {
      "name": "python3",
      "display_name": "Python 3"
    },
    "language_info": {
      "name": "python"
    }
  },
  "cells": [
    {
      "cell_type": "markdown",
      "metadata": {
        "id": "view-in-github",
        "colab_type": "text"
      },
      "source": [
        "<a href=\"https://colab.research.google.com/github/ssook1222/1Day-1Algo/blob/master/ssook/24%EB%85%84/10%EC%9B%94/10%EC%9B%94%202%EC%A3%BC%EC%B0%A8/1012.ipynb\" target=\"_parent\"><img src=\"https://colab.research.google.com/assets/colab-badge.svg\" alt=\"Open In Colab\"/></a>"
      ]
    },
    {
      "cell_type": "markdown",
      "source": [
        "## BoJ"
      ],
      "metadata": {
        "id": "Kut6P1OGyzuH"
      }
    },
    {
      "cell_type": "markdown",
      "source": [
        "### 1800"
      ],
      "metadata": {
        "id": "T_HtdrjPy1Sm"
      }
    },
    {
      "cell_type": "code",
      "execution_count": null,
      "metadata": {
        "id": "5DNkgNVKyRO1"
      },
      "outputs": [],
      "source": [
        "import heapq\n",
        "import sys\n",
        "\n",
        "INF = 1e15\n",
        "\n",
        "def dijkstra(start, limit):\n",
        "    q = []\n",
        "    distance = [INF] * (n + 1)\n",
        "    heapq.heappush(q, (0, start))  # (가중치, 인덱스)\n",
        "    distance[start] = 0\n",
        "\n",
        "    while q:\n",
        "        cost, index = heapq.heappop(q)\n",
        "        # 현재 노드가 이미 처리된 적이 있는 노드라면 무시\n",
        "        if distance[index] < cost:\n",
        "            continue\n",
        "        # 현재 노드와 연결된 다른 인접한 노드들을 확인하면서 거리 업데이트\n",
        "        for edge_cost, neighbor in graph[index]:\n",
        "            if edge_cost > limit:\n",
        "                if cost + 1 < distance[neighbor]:\n",
        "                    distance[neighbor] = cost + 1\n",
        "                    heapq.heappush(q, (cost + 1, neighbor))\n",
        "            else:\n",
        "                if cost < distance[neighbor]:\n",
        "                    distance[neighbor] = cost\n",
        "                    heapq.heappush(q, (cost, neighbor))\n",
        "\n",
        "    # limit 보다 큰 가격이 k개 이상이면 False\n",
        "    if distance[n] > k:\n",
        "        return False\n",
        "    else:\n",
        "        return True\n",
        "\n",
        "if __name__ == \"__main__\":\n",
        "    n, p, k = map(int, sys.stdin.readline().split())\n",
        "    graph = [[] for _ in range(n + 1)]\n",
        "    for _ in range(p):\n",
        "        a, b, c = map(int, sys.stdin.readline().split())\n",
        "        graph[a].append((c, b))\n",
        "        graph[b].append((c, a))\n",
        "\n",
        "    left, right = 0, 1000001\n",
        "    answer = INF\n",
        "    while left <= right:\n",
        "        mid = (left + right) // 2\n",
        "        feasible = dijkstra(1, mid)\n",
        "        if feasible:\n",
        "            right = mid - 1\n",
        "            answer = mid\n",
        "        else:\n",
        "            left = mid + 1\n",
        "\n",
        "    if answer == INF:\n",
        "        print(-1)\n",
        "    else:\n",
        "        print(answer)"
      ]
    },
    {
      "cell_type": "markdown",
      "source": [
        "## CodeTree"
      ],
      "metadata": {
        "id": "p1AEW4-Xy127"
      }
    },
    {
      "cell_type": "markdown",
      "source": [
        "### 알파벳 회전초밥"
      ],
      "metadata": {
        "id": "rAHQfFj3y34U"
      }
    },
    {
      "cell_type": "code",
      "source": [
        "def min_repeats_for_string(a, b):\n",
        "    # 문자열 A의 각 문자의 위치를 기록\n",
        "    position = {char: i for i, char in enumerate(a)}\n",
        "\n",
        "    # 현재 문자 A의 인덱스 위치\n",
        "    current_index = -1\n",
        "    repeats = 1\n",
        "\n",
        "    # 문자열 B의 각 문자를 순서대로 처리\n",
        "    for char in b:\n",
        "        if char not in position:\n",
        "            raise ValueError(f\"Character {char} not in string A\")\n",
        "\n",
        "        char_index = position[char]\n",
        "\n",
        "        if char_index <= current_index:\n",
        "            # 현재 문자가 현재 인덱스보다 앞서거나 같으면 반복 횟수 증가\n",
        "            repeats += 1\n",
        "            current_index = char_index\n",
        "        else:\n",
        "            # 현재 문자가 현재 인덱스보다 뒤면 인덱스 업데이트\n",
        "            current_index = char_index\n",
        "\n",
        "    return repeats\n",
        "\n",
        "# 입력 처리\n",
        "import sys\n",
        "input = sys.stdin.read\n",
        "data = input().strip().split('\\n')\n",
        "\n",
        "A = data[0].strip()\n",
        "B = data[1].strip()\n",
        "\n",
        "# 결과 출력\n",
        "print(min_repeats_for_string(A, B))"
      ],
      "metadata": {
        "id": "3YTd93rry4Yt"
      },
      "execution_count": null,
      "outputs": []
    }
  ]
}