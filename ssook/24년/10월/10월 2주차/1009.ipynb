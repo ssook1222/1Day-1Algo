{
  "nbformat": 4,
  "nbformat_minor": 0,
  "metadata": {
    "colab": {
      "provenance": [],
      "authorship_tag": "ABX9TyMxM2+Zyhjt2y7wF70Ey7zC",
      "include_colab_link": true
    },
    "kernelspec": {
      "name": "python3",
      "display_name": "Python 3"
    },
    "language_info": {
      "name": "python"
    }
  },
  "cells": [
    {
      "cell_type": "markdown",
      "metadata": {
        "id": "view-in-github",
        "colab_type": "text"
      },
      "source": [
        "<a href=\"https://colab.research.google.com/github/ssook1222/1Day-1Algo/blob/master/ssook/24%EB%85%84/10%EC%9B%94/10%EC%9B%94%202%EC%A3%BC%EC%B0%A8/1009.ipynb\" target=\"_parent\"><img src=\"https://colab.research.google.com/assets/colab-badge.svg\" alt=\"Open In Colab\"/></a>"
      ]
    },
    {
      "cell_type": "markdown",
      "source": [
        "## BoJ"
      ],
      "metadata": {
        "id": "Kut6P1OGyzuH"
      }
    },
    {
      "cell_type": "markdown",
      "source": [
        "### 16118"
      ],
      "metadata": {
        "id": "T_HtdrjPy1Sm"
      }
    },
    {
      "cell_type": "code",
      "execution_count": null,
      "metadata": {
        "id": "5DNkgNVKyRO1"
      },
      "outputs": [],
      "source": [
        "from heapq import heappush, heappop\n",
        "import sys\n",
        "rl = sys.stdin.readline\n",
        "INF = int(1e9)\n",
        "\n",
        "\n",
        "def dijkstra_fox():\n",
        "    # 여우의 거리 배열 초기화\n",
        "    dist_fox = [INF for _ in range(N+1)]\n",
        "    dist_fox[1] = 0\n",
        "    q = []\n",
        "    heappush(q, (dist_fox[1], 1))\n",
        "\n",
        "    while q:\n",
        "        current_dist, current_node = heappop(q)\n",
        "        if dist_fox[current_node] < current_dist:\n",
        "            continue\n",
        "        for edge_dist, neighbor in graph[current_node]:\n",
        "            new_dist = current_dist + edge_dist\n",
        "            if new_dist < dist_fox[neighbor]:\n",
        "                dist_fox[neighbor] = new_dist\n",
        "                heappush(q, (dist_fox[neighbor], neighbor))\n",
        "    return dist_fox\n",
        "\n",
        "\n",
        "def dijkstra_wolf():\n",
        "    # 늑대의 거리 배열 초기화 (빠르게 도착, 느리게 도착)\n",
        "    dist_wolf = [[INF] * (N+1) for _ in range(2)]\n",
        "    dist_wolf[1][1] = 0\n",
        "    q = []\n",
        "    heappush(q, (dist_wolf[1][1], 1, False))  # False는 느리게 출발을 의미\n",
        "\n",
        "    while q:\n",
        "        current_dist, current_node, fast_mode = heappop(q)\n",
        "        if fast_mode and dist_wolf[0][current_node] < current_dist:\n",
        "            continue\n",
        "        elif not fast_mode and dist_wolf[1][current_node] < current_dist:\n",
        "            continue\n",
        "\n",
        "        for edge_dist, neighbor in graph[current_node]:\n",
        "            if fast_mode:  # 빠르게 도착한 경우, 느리게 출발\n",
        "                new_dist = current_dist + (edge_dist * 2)\n",
        "                if new_dist < dist_wolf[1][neighbor]:\n",
        "                    dist_wolf[1][neighbor] = new_dist\n",
        "                    heappush(q, (dist_wolf[1][neighbor], neighbor, False))\n",
        "            else:  # 느리게 도착한 경우, 빠르게 출발\n",
        "                new_dist = current_dist + (edge_dist // 2)\n",
        "                if new_dist < dist_wolf[0][neighbor]:\n",
        "                    dist_wolf[0][neighbor] = new_dist\n",
        "                    heappush(q, (dist_wolf[0][neighbor], neighbor, True))\n",
        "\n",
        "    return dist_wolf\n",
        "\n",
        "\n",
        "N, M = map(int, rl().split())\n",
        "graph = [[] for _ in range(N+1)]\n",
        "for _ in range(M):\n",
        "    a, b, d = map(int, rl().split())\n",
        "    graph[a].append((d * 2, b))\n",
        "    graph[b].append((d * 2, a))\n",
        "\n",
        "dist_fox = dijkstra_fox()\n",
        "dist_wolf = dijkstra_wolf()\n",
        "\n",
        "# 여우가 늑대보다 빨리 도착할 수 있는 그루터기 수 계산\n",
        "result_count = 0\n",
        "for i in range(1, N+1):\n",
        "    if dist_fox[i] < min(dist_wolf[0][i], dist_wolf[1][i]):\n",
        "        result_count += 1\n",
        "print(result_count)"
      ]
    },
    {
      "cell_type": "markdown",
      "source": [
        "## CodeTree"
      ],
      "metadata": {
        "id": "p1AEW4-Xy127"
      }
    },
    {
      "cell_type": "markdown",
      "source": [
        "### 합과 평균을 구하는 함수"
      ],
      "metadata": {
        "id": "rAHQfFj3y34U"
      }
    },
    {
      "cell_type": "code",
      "source": [
        "def compute_sum_and_average(a, b, c):\n",
        "    # 실수들을 반올림합니다.\n",
        "    a_rounded = round(a)\n",
        "    b_rounded = round(b)\n",
        "    c_rounded = round(c)\n",
        "\n",
        "    # 반올림한 정수들의 합을 계산합니다.\n",
        "    total_sum = a_rounded + b_rounded + c_rounded\n",
        "\n",
        "    # 반올림한 정수들의 평균을 계산하고 반올림합니다.\n",
        "    average = round(total_sum / 3)\n",
        "\n",
        "    # 결과를 출력합니다.\n",
        "    print(total_sum)\n",
        "    print(average)\n",
        "\n",
        "# 입력 받기\n",
        "a, b, c = map(float, input().split())\n",
        "\n",
        "# 함수 호출\n",
        "compute_sum_and_average(a, b, c)"
      ],
      "metadata": {
        "id": "3YTd93rry4Yt"
      },
      "execution_count": null,
      "outputs": []
    }
  ]
}