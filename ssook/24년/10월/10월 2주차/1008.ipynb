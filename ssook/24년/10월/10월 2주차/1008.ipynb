{
  "nbformat": 4,
  "nbformat_minor": 0,
  "metadata": {
    "colab": {
      "provenance": [],
      "authorship_tag": "ABX9TyP7QuE6OELcklWZ2OOc7O8l",
      "include_colab_link": true
    },
    "kernelspec": {
      "name": "python3",
      "display_name": "Python 3"
    },
    "language_info": {
      "name": "python"
    }
  },
  "cells": [
    {
      "cell_type": "markdown",
      "metadata": {
        "id": "view-in-github",
        "colab_type": "text"
      },
      "source": [
        "<a href=\"https://colab.research.google.com/github/ssook1222/1Day-1Algo/blob/master/ssook/24%EB%85%84/10%EC%9B%94/10%EC%9B%94%202%EC%A3%BC%EC%B0%A8/1008.ipynb\" target=\"_parent\"><img src=\"https://colab.research.google.com/assets/colab-badge.svg\" alt=\"Open In Colab\"/></a>"
      ]
    },
    {
      "cell_type": "markdown",
      "source": [
        "## BoJ"
      ],
      "metadata": {
        "id": "Kut6P1OGyzuH"
      }
    },
    {
      "cell_type": "markdown",
      "source": [
        "### 1036"
      ],
      "metadata": {
        "id": "T_HtdrjPy1Sm"
      }
    },
    {
      "cell_type": "code",
      "execution_count": null,
      "metadata": {
        "id": "5DNkgNVKyRO1"
      },
      "outputs": [],
      "source": [
        "N = int(input())\n",
        "nums_base36 = [input().strip() for _ in range(N)]\n",
        "K = int(input())\n",
        "\n",
        "digits_base36 = '0123456789ABCDEFGHIJKLMNOPQRSTUVWXYZ'\n",
        "diff_from_original = []\n",
        "original_sum = 0\n",
        "separated_nums = []\n",
        "\n",
        "# 문자열을 수정하기 위한 전처리 & 현재값들의 합 구함\n",
        "for num in nums_base36:\n",
        "    temp_list = list(num)\n",
        "    separated_nums.append(temp_list)\n",
        "    original_sum += int(num, 36)\n",
        "\n",
        "# 각 문자를 Z로 변경했을 때 합의 변화량을 구함\n",
        "for digit in digits_base36:\n",
        "    change_sum_diff = 0\n",
        "    for num_list in separated_nums:\n",
        "        temp_str = ''\n",
        "        for char in num_list:\n",
        "            if char == digit:\n",
        "                temp_str += 'Z'\n",
        "            else:\n",
        "                temp_str += char\n",
        "        change_sum_diff += int(temp_str, 36)\n",
        "    diff_from_original.append(change_sum_diff - original_sum)\n",
        "\n",
        "# 최대값 == 기존값 + 최대 변화량\n",
        "max_possible_sum = original_sum + sum(sorted(diff_from_original, reverse=True)[:K])\n",
        "\n",
        "# 36진수로 변환\n",
        "result_base36 = ''\n",
        "while max_possible_sum:\n",
        "    result_base36 = digits_base36[max_possible_sum % 36] + result_base36\n",
        "    max_possible_sum //= 36\n",
        "\n",
        "print(result_base36 if result_base36 else '0')"
      ]
    },
    {
      "cell_type": "markdown",
      "source": [
        "## CodeTree"
      ],
      "metadata": {
        "id": "p1AEW4-Xy127"
      }
    },
    {
      "cell_type": "markdown",
      "source": [
        "### 숫자 사각형을 출력하는 함수 2"
      ],
      "metadata": {
        "id": "rAHQfFj3y34U"
      }
    },
    {
      "cell_type": "code",
      "source": [
        "def print_number_square(n):\n",
        "    # 숫자 사각형을 구성하는 각 숫자를 계산하여 출력\n",
        "    for i in range(1, n + 1):\n",
        "        row = []\n",
        "        for j in range(1, n + 1):\n",
        "            value = i * (2 ** (j - 1))\n",
        "            row.append(str(value))\n",
        "        print(\" \".join(row))\n",
        "\n",
        "# 입력 받기\n",
        "n = int(input())\n",
        "\n",
        "# 함수 호출\n",
        "print_number_square(n)"
      ],
      "metadata": {
        "id": "3YTd93rry4Yt"
      },
      "execution_count": null,
      "outputs": []
    }
  ]
}