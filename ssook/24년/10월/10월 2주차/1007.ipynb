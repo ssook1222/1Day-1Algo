{
  "nbformat": 4,
  "nbformat_minor": 0,
  "metadata": {
    "colab": {
      "provenance": [],
      "authorship_tag": "ABX9TyMgULkiP1JFvsQCTxkmwsAd",
      "include_colab_link": true
    },
    "kernelspec": {
      "name": "python3",
      "display_name": "Python 3"
    },
    "language_info": {
      "name": "python"
    }
  },
  "cells": [
    {
      "cell_type": "markdown",
      "metadata": {
        "id": "view-in-github",
        "colab_type": "text"
      },
      "source": [
        "<a href=\"https://colab.research.google.com/github/ssook1222/1Day-1Algo/blob/master/ssook/24%EB%85%84/10%EC%9B%94/10%EC%9B%94%202%EC%A3%BC%EC%B0%A8/1007.ipynb\" target=\"_parent\"><img src=\"https://colab.research.google.com/assets/colab-badge.svg\" alt=\"Open In Colab\"/></a>"
      ]
    },
    {
      "cell_type": "markdown",
      "source": [
        "## BoJ"
      ],
      "metadata": {
        "id": "Kut6P1OGyzuH"
      }
    },
    {
      "cell_type": "markdown",
      "source": [
        "### 15644"
      ],
      "metadata": {
        "id": "T_HtdrjPy1Sm"
      }
    },
    {
      "cell_type": "code",
      "execution_count": null,
      "metadata": {
        "id": "5DNkgNVKyRO1"
      },
      "outputs": [],
      "source": [
        "from collections import deque\n",
        "import sys\n",
        "\n",
        "input = sys.stdin.readline\n",
        "dx = [1, -1, 0, 0]\n",
        "dy = [0, 0, 1, -1]\n",
        "\n",
        "def bfs():\n",
        "    cnt = 1\n",
        "    while q:\n",
        "        qlen = len(q)\n",
        "        for _ in range(qlen):\n",
        "            red_x, red_y, blue_x, blue_y, path = q.popleft()\n",
        "            for i in range(4):\n",
        "                new_red_x, new_red_y, new_blue_x, new_blue_y = red_x, red_y, blue_x, blue_y\n",
        "                if i == 0:\n",
        "                    move_dir = 'D'\n",
        "                elif i == 1:\n",
        "                    move_dir = 'U'\n",
        "                elif i == 2:\n",
        "                    move_dir = 'R'\n",
        "                else:\n",
        "                    move_dir = 'L'\n",
        "\n",
        "                # Move red ball\n",
        "                while True:\n",
        "                    new_red_x += dx[i]\n",
        "                    new_red_y += dy[i]\n",
        "                    if board[new_red_x][new_red_y] == 'O':\n",
        "                        break\n",
        "                    if board[new_red_x][new_red_y] == '#':\n",
        "                        new_red_x -= dx[i]\n",
        "                        new_red_y -= dy[i]\n",
        "                        break\n",
        "\n",
        "                # Move blue ball\n",
        "                while True:\n",
        "                    new_blue_x += dx[i]\n",
        "                    new_blue_y += dy[i]\n",
        "                    if board[new_blue_x][new_blue_y] == 'O':\n",
        "                        break\n",
        "                    if board[new_blue_x][new_blue_y] == '#':\n",
        "                        new_blue_x -= dx[i]\n",
        "                        new_blue_y -= dy[i]\n",
        "                        break\n",
        "\n",
        "                if board[new_blue_x][new_blue_y] == 'O':\n",
        "                    continue\n",
        "                if board[new_red_x][new_red_y] == 'O':\n",
        "                    print(cnt)\n",
        "                    print(path + move_dir)\n",
        "                    return\n",
        "\n",
        "                if new_red_x == new_blue_x and new_red_y == new_blue_y:\n",
        "                    if abs(new_red_x - red_x) + abs(new_red_y - red_y) > abs(new_blue_x - blue_x) + abs(new_blue_y - blue_y):\n",
        "                        new_red_x -= dx[i]\n",
        "                        new_red_y -= dy[i]\n",
        "                    else:\n",
        "                        new_blue_x -= dx[i]\n",
        "                        new_blue_y -= dy[i]\n",
        "\n",
        "                if not visited[new_red_x][new_red_y][new_blue_x][new_blue_y]:\n",
        "                    visited[new_red_x][new_red_y][new_blue_x][new_blue_y] = 1\n",
        "                    q.append([new_red_x, new_red_y, new_blue_x, new_blue_y, path + move_dir])\n",
        "\n",
        "        cnt += 1\n",
        "        if cnt > 10:\n",
        "            print(-1)\n",
        "            return\n",
        "    print(-1)\n",
        "    return\n",
        "\n",
        "n, m = map(int, input().split())\n",
        "\n",
        "board = []\n",
        "for i in range(n):\n",
        "    row = list(input().strip())\n",
        "    board.append(row)\n",
        "    for j in range(m):\n",
        "        if board[i][j] == 'B':\n",
        "            blue_x, blue_y = i, j\n",
        "            board[i][j] = '.'\n",
        "        elif board[i][j] == 'R':\n",
        "            red_x, red_y = i, j\n",
        "            board[i][j] = '.'\n",
        "\n",
        "q = deque()\n",
        "visited = [[[[0 for _ in range(m)] for _ in range(n)] for _ in range(m)] for _ in range(n)]\n",
        "q.append([red_x, red_y, blue_x, blue_y, ''])\n",
        "visited[red_x][red_y][blue_x][blue_y] = 1\n",
        "bfs()"
      ]
    },
    {
      "cell_type": "markdown",
      "source": [
        "## CodeTree"
      ],
      "metadata": {
        "id": "p1AEW4-Xy127"
      }
    },
    {
      "cell_type": "markdown",
      "source": [
        "### 특정 문자열을 출력하는 함수"
      ],
      "metadata": {
        "id": "rAHQfFj3y34U"
      }
    },
    {
      "cell_type": "code",
      "source": [
        "def print_strings(n):\n",
        "    # 출력할 문자열 목록\n",
        "    strings = [\n",
        "        \"Hello\",\n",
        "        \"#@#@#@#@#@\",\n",
        "        \"CodeTree\",\n",
        "        \"@#@#@#@#@#\",\n",
        "        \"Students!\"\n",
        "    ]\n",
        "\n",
        "    # n번 반복하여 출력\n",
        "    for _ in range(n):\n",
        "        for string in strings:\n",
        "            print(string)\n",
        "        # 문자열 블록 사이에 공백 줄 추가\n",
        "        if _ < n - 1:\n",
        "            print()\n",
        "\n",
        "# 입력값 받기\n",
        "n = int(input())\n",
        "\n",
        "# 함수 호출\n",
        "print_strings(n)"
      ],
      "metadata": {
        "id": "3YTd93rry4Yt"
      },
      "execution_count": null,
      "outputs": []
    }
  ]
}