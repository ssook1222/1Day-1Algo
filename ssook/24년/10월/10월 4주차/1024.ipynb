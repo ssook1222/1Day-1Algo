{
  "nbformat": 4,
  "nbformat_minor": 0,
  "metadata": {
    "colab": {
      "provenance": [],
      "authorship_tag": "ABX9TyPhb5/O8ix25UUxRLzXirE9",
      "include_colab_link": true
    },
    "kernelspec": {
      "name": "python3",
      "display_name": "Python 3"
    },
    "language_info": {
      "name": "python"
    }
  },
  "cells": [
    {
      "cell_type": "markdown",
      "metadata": {
        "id": "view-in-github",
        "colab_type": "text"
      },
      "source": [
        "<a href=\"https://colab.research.google.com/github/ssook1222/1Day-1Algo/blob/master/ssook/24%EB%85%84/10%EC%9B%94/10%EC%9B%94%204%EC%A3%BC%EC%B0%A8/1024.ipynb\" target=\"_parent\"><img src=\"https://colab.research.google.com/assets/colab-badge.svg\" alt=\"Open In Colab\"/></a>"
      ]
    },
    {
      "cell_type": "markdown",
      "source": [
        "## BoJ"
      ],
      "metadata": {
        "id": "IPj05ZfBNd5R"
      }
    },
    {
      "cell_type": "markdown",
      "source": [
        "### 2718"
      ],
      "metadata": {
        "id": "DmdjPmGeNgMa"
      }
    },
    {
      "cell_type": "code",
      "source": [
        "# 타일 채우기\n",
        "T = int(input())\n",
        "\n",
        "# 초기상태 저장\n",
        "dp = [1, 1, 5]\n",
        "tile_count = [0, 1, 4]\n",
        "\n",
        "for _ in range(T):\n",
        "    N = int(input())\n",
        "\n",
        "    # 이미 계산해둔 값이면 바로 출력하고 넘어감\n",
        "    if N < len(dp):\n",
        "        print(dp[N])\n",
        "        continue\n",
        "\n",
        "    idx = len(dp)\n",
        "\n",
        "    # 계산해둔 범위를 넘을 경우 계산해 줌\n",
        "    while N >= idx:\n",
        "        tile_count.append(2 if idx % 2 else 3)\n",
        "        temp = 0\n",
        "\n",
        "        for i in range(idx):\n",
        "            temp += dp[i] * tile_count[-i-1]\n",
        "\n",
        "        dp.append(temp)\n",
        "        idx += 1\n",
        "\n",
        "    # 계산한 값 출력\n",
        "    print(dp[N])\n"
      ],
      "metadata": {
        "id": "DZ7KUFWpNdlm"
      },
      "execution_count": null,
      "outputs": []
    },
    {
      "cell_type": "markdown",
      "source": [
        "## CodeTree"
      ],
      "metadata": {
        "id": "MCVJ430wNhop"
      }
    },
    {
      "cell_type": "markdown",
      "source": [
        "### 구구단을 출력하는 함수"
      ],
      "metadata": {
        "id": "yd0-h7KHNkGo"
      }
    },
    {
      "cell_type": "code",
      "source": [
        "def print_multiplication_table(start, end, exclude):\n",
        "    \"\"\"\n",
        "    주어진 시작값부터 끝값까지의 구구단을 출력하되, exclude로 지정된 구구단은 제외한다.\n",
        "    \"\"\"\n",
        "    for i in range(start, end + 1):\n",
        "        if i == exclude:\n",
        "            continue\n",
        "        for j in range(1, 10):\n",
        "            print(f\"{i} * {j} = {i * j}\")\n",
        "\n",
        "def main():\n",
        "    import sys\n",
        "    input = sys.stdin.read().strip()\n",
        "\n",
        "    # 입력 처리\n",
        "    a, b, c = map(int, input.split())\n",
        "\n",
        "    # 입력된 정수들을 정렬하여 가장 작은 수, 중간 수, 가장 큰 수를 찾음\n",
        "    numbers = sorted([a, b, c])\n",
        "    min_num = numbers[0]\n",
        "    mid_num = numbers[1]\n",
        "    max_num = numbers[2]\n",
        "\n",
        "    # 구구단 출력\n",
        "    print_multiplication_table(min_num, max_num, mid_num)\n",
        "\n",
        "if __name__ == \"__main__\":\n",
        "    main()"
      ],
      "metadata": {
        "id": "xP8fBFnZNlZf"
      },
      "execution_count": null,
      "outputs": []
    }
  ]
}