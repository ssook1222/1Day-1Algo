{
  "nbformat": 4,
  "nbformat_minor": 0,
  "metadata": {
    "colab": {
      "provenance": [],
      "authorship_tag": "ABX9TyOy3/r1nQMI0vH2qOtUZXQ8",
      "include_colab_link": true
    },
    "kernelspec": {
      "name": "python3",
      "display_name": "Python 3"
    },
    "language_info": {
      "name": "python"
    }
  },
  "cells": [
    {
      "cell_type": "markdown",
      "metadata": {
        "id": "view-in-github",
        "colab_type": "text"
      },
      "source": [
        "<a href=\"https://colab.research.google.com/github/ssook1222/1Day-1Algo/blob/master/ssook/24%EB%85%84/10%EC%9B%94/10%EC%9B%94%204%EC%A3%BC%EC%B0%A8/1022.ipynb\" target=\"_parent\"><img src=\"https://colab.research.google.com/assets/colab-badge.svg\" alt=\"Open In Colab\"/></a>"
      ]
    },
    {
      "cell_type": "markdown",
      "source": [
        "## BoJ"
      ],
      "metadata": {
        "id": "IPj05ZfBNd5R"
      }
    },
    {
      "cell_type": "markdown",
      "source": [
        "### 23290"
      ],
      "metadata": {
        "id": "DmdjPmGeNgMa"
      }
    },
    {
      "cell_type": "code",
      "source": [
        "import copy\n",
        "\n",
        "def move_fish():\n",
        "    res = [[[] for _ in range(4)] for _ in range(4)]\n",
        "    for x in range(4):\n",
        "        for y in range(4):\n",
        "            while temp[x][y]:\n",
        "                d = temp[x][y].pop()\n",
        "                for i in range(d, d - 8, -1):\n",
        "                    i %= 8\n",
        "                    nx, ny = x + fish_dx[i], y + fish_dy[i]\n",
        "                    if (nx, ny) != shark_pos and 0 <= nx < 4 and 0 <= ny < 4 and not smell[nx][ny]:\n",
        "                        res[nx][ny].append(i)\n",
        "                        break\n",
        "                else:\n",
        "                    res[x][y].append(d)\n",
        "    return res\n",
        "\n",
        "def dfs(x, y, depth, fish_count, visited):\n",
        "    global max_fish_eaten, shark_pos, fish_eaten\n",
        "    if depth == 3:\n",
        "        if max_fish_eaten < fish_count:\n",
        "            max_fish_eaten = fish_count\n",
        "            shark_pos = (x, y)\n",
        "            fish_eaten = visited[:]\n",
        "        return\n",
        "    for d in range(4):\n",
        "        nx = x + move_dx[d]\n",
        "        ny = y + move_dy[d]\n",
        "        if 0 <= nx < 4 and 0 <= ny < 4:\n",
        "            if (nx, ny) not in visited:\n",
        "                visited.append((nx, ny))\n",
        "                dfs(nx, ny, depth + 1, fish_count + len(temp[nx][ny]), visited)\n",
        "                visited.pop()\n",
        "            else:\n",
        "                dfs(nx, ny, depth + 1, fish_count, visited)\n",
        "\n",
        "fish_dx = [0, -1, -1, -1, 0, 1, 1, 1]\n",
        "fish_dy = [-1, -1, 0, 1, 1, 1, 0, -1]\n",
        "move_dx = [-1, 0, 1, 0]\n",
        "move_dy = [0, -1, 0, 1]\n",
        "\n",
        "m, s = map(int, input().split())\n",
        "fish_positions = [list(map(int, input().split())) for _ in range(m)]\n",
        "grid = [[[] for _ in range(4)] for _ in range(4)]\n",
        "\n",
        "for x, y, d in fish_positions:\n",
        "    grid[x - 1][y - 1].append(d - 1)\n",
        "\n",
        "shark_pos = tuple(map(lambda x: int(x) - 1, input().split()))\n",
        "smell = [[0] * 4 for _ in range(4)]\n",
        "\n",
        "for _ in range(s):\n",
        "    fish_eaten = list()\n",
        "    max_fish_eaten = -1\n",
        "    temp = copy.deepcopy(grid)\n",
        "    temp = move_fish()\n",
        "    dfs(shark_pos[0], shark_pos[1], 0, 0, list())\n",
        "    for x, y in fish_eaten:\n",
        "        if temp[x][y]:\n",
        "            temp[x][y] = []\n",
        "            smell[x][y] = 3\n",
        "    for i in range(4):\n",
        "        for j in range(4):\n",
        "            if smell[i][j]:\n",
        "                smell[i][j] -= 1\n",
        "    for i in range(4):\n",
        "        for j in range(4):\n",
        "            grid[i][j] += temp[i][j]\n",
        "\n",
        "answer = 0\n",
        "for i in range(4):\n",
        "    for j in range(4):\n",
        "        answer += len(grid[i][j])\n",
        "\n",
        "print(answer)"
      ],
      "metadata": {
        "id": "DZ7KUFWpNdlm"
      },
      "execution_count": null,
      "outputs": []
    },
    {
      "cell_type": "markdown",
      "source": [
        "## CodeTree"
      ],
      "metadata": {
        "id": "MCVJ430wNhop"
      }
    },
    {
      "cell_type": "markdown",
      "source": [
        "### 색종이 1"
      ],
      "metadata": {
        "id": "yd0-h7KHNkGo"
      }
    },
    {
      "cell_type": "code",
      "source": [
        "def calculate_blue_area(n, coordinates):\n",
        "    # 100x100 크기의 배열 초기화\n",
        "    paper = [[0] * 100 for _ in range(100)]\n",
        "\n",
        "    # 색종이의 좌표에 따라 10x10 영역을 배열에 표시\n",
        "    for x, y in coordinates:\n",
        "        for i in range(x, x + 10):\n",
        "            for j in range(y, y + 10):\n",
        "                paper[i][j] = 1\n",
        "\n",
        "    # 색종이의 넓이 계산\n",
        "    area = sum(sum(row) for row in paper)\n",
        "    return area\n",
        "\n",
        "if __name__ == \"__main__\":\n",
        "    import sys\n",
        "    input = sys.stdin.read\n",
        "    data = input().split()\n",
        "\n",
        "    # 첫 번째 줄의 n 값을 읽음\n",
        "    n = int(data[0])\n",
        "\n",
        "    # n개의 색종이 좌표를 읽음\n",
        "    coordinates = []\n",
        "    index = 1\n",
        "    for _ in range(n):\n",
        "        x = int(data[index])\n",
        "        y = int(data[index + 1])\n",
        "        coordinates.append((x, y))\n",
        "        index += 2\n",
        "\n",
        "    # 결과 출력\n",
        "    result = calculate_blue_area(n, coordinates)\n",
        "    print(result)"
      ],
      "metadata": {
        "id": "xP8fBFnZNlZf"
      },
      "execution_count": null,
      "outputs": []
    }
  ]
}