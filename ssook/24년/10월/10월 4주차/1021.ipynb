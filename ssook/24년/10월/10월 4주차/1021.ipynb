{
  "nbformat": 4,
  "nbformat_minor": 0,
  "metadata": {
    "colab": {
      "provenance": [],
      "authorship_tag": "ABX9TyMCwyE2AodHVoTA5FEfNRSs",
      "include_colab_link": true
    },
    "kernelspec": {
      "name": "python3",
      "display_name": "Python 3"
    },
    "language_info": {
      "name": "python"
    }
  },
  "cells": [
    {
      "cell_type": "markdown",
      "metadata": {
        "id": "view-in-github",
        "colab_type": "text"
      },
      "source": [
        "<a href=\"https://colab.research.google.com/github/ssook1222/1Day-1Algo/blob/master/ssook/24%EB%85%84/10%EC%9B%94/10%EC%9B%94%204%EC%A3%BC%EC%B0%A8/1021.ipynb\" target=\"_parent\"><img src=\"https://colab.research.google.com/assets/colab-badge.svg\" alt=\"Open In Colab\"/></a>"
      ]
    },
    {
      "cell_type": "markdown",
      "source": [
        "## BoJ"
      ],
      "metadata": {
        "id": "IPj05ZfBNd5R"
      }
    },
    {
      "cell_type": "markdown",
      "source": [
        "### 12847"
      ],
      "metadata": {
        "id": "DmdjPmGeNgMa"
      }
    },
    {
      "cell_type": "code",
      "source": [
        "import sys; input = sys.stdin.readline\n",
        "from math import ceil, log2\n",
        "\n",
        "def update(node, start, end):\n",
        "    if start <= p <= end:\n",
        "        tree[node] += q\n",
        "        if start != end:\n",
        "            mid = (start + end) // 2\n",
        "            update(node * 2, start, mid)\n",
        "            update(node * 2 + 1, mid + 1, end)\n",
        "\n",
        "def calc(node, start, end):\n",
        "    if q < start or end < p:\n",
        "        return 0\n",
        "    if p <= start and end <= q:\n",
        "        return tree[node]\n",
        "    mid = (start + end) // 2\n",
        "    return calc(node * 2, start, mid) + calc(node * 2 + 1, mid + 1, end)\n",
        "\n",
        "N, Q = map(int, input().split())\n",
        "\n",
        "tree = [0] * (1 << (ceil(log2(N)) + 1))\n",
        "\n",
        "for _ in range(Q):\n",
        "    query, p, q = map(int, input().split())\n",
        "    if query == 1:\n",
        "        p -= 1\n",
        "        update(1, 0, N - 1)\n",
        "    else:\n",
        "        p -= 1\n",
        "        q -= 1\n",
        "        print(calc(1, 0, N - 1))"
      ],
      "metadata": {
        "id": "DZ7KUFWpNdlm"
      },
      "execution_count": null,
      "outputs": []
    },
    {
      "cell_type": "markdown",
      "source": [
        "## CodeTree"
      ],
      "metadata": {
        "id": "MCVJ430wNhop"
      }
    },
    {
      "cell_type": "markdown",
      "source": [
        "### 럭키세븐"
      ],
      "metadata": {
        "id": "yd0-h7KHNkGo"
      }
    },
    {
      "cell_type": "code",
      "source": [
        "import sys\n",
        "import math\n",
        "\n",
        "input = sys.stdin.read\n",
        "data = input().split()\n",
        "\n",
        "# 첫 번째 줄에서 정수 n을 읽습니다.\n",
        "n = int(data[0])\n",
        "\n",
        "# 두 번째 줄에서 n개의 정수를 읽습니다.\n",
        "numbers = list(map(int, data[1:]))\n",
        "\n",
        "# 7의 배수만 필터링합니다.\n",
        "multiples_of_seven = [num for num in numbers if num % 7 == 0]\n",
        "\n",
        "# 개수, 합, 평균 계산\n",
        "count = len(multiples_of_seven)\n",
        "total_sum = sum(multiples_of_seven)\n",
        "average = total_sum / count\n",
        "\n",
        "# 평균을 소수 첫째 자리까지 반올림합니다.\n",
        "average_rounded = round(average, 1)\n",
        "\n",
        "# 결과 출력\n",
        "print(count, total_sum, average_rounded)"
      ],
      "metadata": {
        "id": "xP8fBFnZNlZf"
      },
      "execution_count": null,
      "outputs": []
    }
  ]
}