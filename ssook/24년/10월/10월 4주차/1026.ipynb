{
  "nbformat": 4,
  "nbformat_minor": 0,
  "metadata": {
    "colab": {
      "provenance": [],
      "authorship_tag": "ABX9TyMjoykM6RlUNF+w5yzqtBS3",
      "include_colab_link": true
    },
    "kernelspec": {
      "name": "python3",
      "display_name": "Python 3"
    },
    "language_info": {
      "name": "python"
    }
  },
  "cells": [
    {
      "cell_type": "markdown",
      "metadata": {
        "id": "view-in-github",
        "colab_type": "text"
      },
      "source": [
        "<a href=\"https://colab.research.google.com/github/ssook1222/1Day-1Algo/blob/master/ssook/24%EB%85%84/10%EC%9B%94/10%EC%9B%94%204%EC%A3%BC%EC%B0%A8/1026.ipynb\" target=\"_parent\"><img src=\"https://colab.research.google.com/assets/colab-badge.svg\" alt=\"Open In Colab\"/></a>"
      ]
    },
    {
      "cell_type": "markdown",
      "source": [
        "## BoJ"
      ],
      "metadata": {
        "id": "IPj05ZfBNd5R"
      }
    },
    {
      "cell_type": "markdown",
      "source": [
        "### 12850\n"
      ],
      "metadata": {
        "id": "DmdjPmGeNgMa"
      }
    },
    {
      "cell_type": "code",
      "source": [
        "import sys\n",
        "\n",
        "input = sys.stdin.readline\n",
        "MOD = 1000000007\n",
        "SIZE = 8\n",
        "\n",
        "def multiply_matrices(matrix_a, matrix_b):\n",
        "    return [[sum(matrix_a[i][k] * matrix_b[k][j] % MOD for k in range(SIZE)) % MOD\n",
        "             for j in range(SIZE)] for i in range(SIZE)]\n",
        "\n",
        "def count_paths(D):\n",
        "    # Transition matrix initialization\n",
        "    transition_matrix = [\n",
        "        [0, 1, 1, 0, 0, 0, 0, 0],\n",
        "        [1, 0, 1, 1, 0, 0, 0, 0],\n",
        "        [1, 1, 0, 1, 1, 0, 0, 0],\n",
        "        [0, 1, 1, 0, 1, 1, 0, 0],\n",
        "        [0, 0, 1, 1, 0, 1, 0, 1],\n",
        "        [0, 0, 0, 1, 1, 0, 1, 0],\n",
        "        [0, 0, 0, 0, 0, 1, 0, 1],\n",
        "        [0, 0, 0, 0, 1, 0, 1, 0]\n",
        "    ]\n",
        "\n",
        "    result_matrix = [[0] * SIZE for _ in range(SIZE)]\n",
        "    for i in range(SIZE):\n",
        "        result_matrix[i][i] = 1\n",
        "\n",
        "    # Matrix exponentiation using binary exponentiation\n",
        "    while D > 0:\n",
        "        if D % 2 != 0:\n",
        "            result_matrix = multiply_matrices(result_matrix, transition_matrix)\n",
        "            D -= 1\n",
        "        transition_matrix = multiply_matrices(transition_matrix, transition_matrix)\n",
        "        D //= 2\n",
        "\n",
        "    return result_matrix[0][0]\n",
        "\n",
        "if __name__ == '__main__':\n",
        "    D = int(input())\n",
        "    print(count_paths(D))"
      ],
      "metadata": {
        "id": "DZ7KUFWpNdlm"
      },
      "execution_count": null,
      "outputs": []
    },
    {
      "cell_type": "markdown",
      "source": [
        "## CodeTree"
      ],
      "metadata": {
        "id": "MCVJ430wNhop"
      }
    },
    {
      "cell_type": "markdown",
      "source": [
        "### 문자열을 출력하는 재귀함수"
      ],
      "metadata": {
        "id": "yd0-h7KHNkGo"
      }
    },
    {
      "cell_type": "code",
      "source": [
        "n = int(input())\n",
        "\n",
        "for _ in range(n):\n",
        "    print(\"Coding is my favorite hobby!\")"
      ],
      "metadata": {
        "id": "xP8fBFnZNlZf"
      },
      "execution_count": null,
      "outputs": []
    }
  ]
}