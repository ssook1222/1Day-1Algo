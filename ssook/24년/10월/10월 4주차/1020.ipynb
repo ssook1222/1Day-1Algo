{
  "nbformat": 4,
  "nbformat_minor": 0,
  "metadata": {
    "colab": {
      "provenance": [],
      "authorship_tag": "ABX9TyOPe7QfmotCBoKX0gdUUTPM",
      "include_colab_link": true
    },
    "kernelspec": {
      "name": "python3",
      "display_name": "Python 3"
    },
    "language_info": {
      "name": "python"
    }
  },
  "cells": [
    {
      "cell_type": "markdown",
      "metadata": {
        "id": "view-in-github",
        "colab_type": "text"
      },
      "source": [
        "<a href=\"https://colab.research.google.com/github/ssook1222/1Day-1Algo/blob/master/ssook/24%EB%85%84/10%EC%9B%94/10%EC%9B%94%204%EC%A3%BC%EC%B0%A8/1020.ipynb\" target=\"_parent\"><img src=\"https://colab.research.google.com/assets/colab-badge.svg\" alt=\"Open In Colab\"/></a>"
      ]
    },
    {
      "cell_type": "markdown",
      "source": [
        "## BoJ"
      ],
      "metadata": {
        "id": "Mj7xSjDGzmiJ"
      }
    },
    {
      "cell_type": "markdown",
      "source": [
        "### 1933"
      ],
      "metadata": {
        "id": "J0PBtBnv_-aN"
      }
    },
    {
      "cell_type": "code",
      "execution_count": null,
      "metadata": {
        "id": "pFd--JizzfTD"
      },
      "outputs": [],
      "source": [
        "import heapq\n",
        "import sys\n",
        "\n",
        "# 입력받기\n",
        "num_buildings = int(input())\n",
        "events = []\n",
        "end_points = []\n",
        "\n",
        "for i in range(num_buildings):\n",
        "    start_x, height, end_x = map(int, sys.stdin.readline().split())\n",
        "\n",
        "    # 각 건물의 시작과 끝을 나타내는 이벤트 추가\n",
        "    events.append((i, start_x, height, 0))  # 0은 시작\n",
        "    events.append((i, end_x, height, 1))   # 1은 끝\n",
        "\n",
        "    # 각 건물의 끝나는 x 좌표를 저장\n",
        "    end_points.append((end_x))\n",
        "\n",
        "# events 정렬\n",
        "# 정렬 우선순위 : 1) x 좌표, 2) 시작 이벤트 먼저, 3) 높이 높은 순\n",
        "events.sort(key=lambda x: (x[1], x[3], -x[2]))\n",
        "\n",
        "current_height = 0\n",
        "active_end_points = set()\n",
        "result = []\n",
        "active_buildings = []  # 현재 진행 중인 건물들의 최대 힙\n",
        "\n",
        "for event in events:\n",
        "    building_idx, x, height, is_end = event\n",
        "\n",
        "    # 시작 이벤트인 경우\n",
        "    if not is_end:\n",
        "        # 현재 높이보다 높다면 결과에 추가\n",
        "        if height > current_height:\n",
        "            current_height = height\n",
        "            result.append((x, current_height))\n",
        "\n",
        "        # 진행 중인 건물의 최대 힙에 높이와 끝나는 x 좌표를 저장\n",
        "        heapq.heappush(active_buildings, (-height, end_points[building_idx]))\n",
        "        continue\n",
        "\n",
        "    # 끝나는 x 좌표를 active_end_points에 추가\n",
        "    active_end_points.add(x)\n",
        "\n",
        "    # 끝나는 건물들의 끝 좌표를 active_buildings에서 제거\n",
        "    while active_buildings and active_buildings[0][1] in active_end_points:\n",
        "        heapq.heappop(active_buildings)\n",
        "\n",
        "    # 진행 중인 건물이 있으면 높이 업데이트\n",
        "    if active_buildings:\n",
        "        if current_height != -active_buildings[0][0]:\n",
        "            current_height = -active_buildings[0][0]\n",
        "            result.append((x, current_height))\n",
        "\n",
        "    # 진행 중인 건물이 없으면 높이를 0으로 설정\n",
        "    else:\n",
        "        if current_height != 0:\n",
        "            current_height = 0\n",
        "            result.append((x, current_height))\n",
        "\n",
        "# 결과 출력\n",
        "for r in result:\n",
        "    print(' '.join([str(r[0]), str(r[1])]), end=' ')"
      ]
    },
    {
      "cell_type": "markdown",
      "source": [
        "## CodeTree"
      ],
      "metadata": {
        "id": "MFZbTUWK0Rdw"
      }
    },
    {
      "cell_type": "markdown",
      "source": [
        "### 빙고 2"
      ],
      "metadata": {
        "id": "-ynPXsHBDHmX"
      }
    },
    {
      "cell_type": "code",
      "source": [
        "def find_bingo_time(bingo_board, called_numbers):\n",
        "    # 1. 빙고판의 숫자 위치를 딕셔너리에 저장합니다.\n",
        "    number_to_position = {}\n",
        "    for r in range(5):\n",
        "        for c in range(5):\n",
        "            number_to_position[bingo_board[r][c]] = (r, c)\n",
        "\n",
        "    # 2. 행, 열, 대각선의 빈도를 추적합니다.\n",
        "    row_counts = [0] * 5\n",
        "    col_counts = [0] * 5\n",
        "    diag1_count = 0  # 왼쪽 위에서 오른쪽 아래로 대각선\n",
        "    diag2_count = 0  # 오른쪽 위에서 왼쪽 아래로 대각선\n",
        "\n",
        "    # 3. 번호를 부를 때마다 처리합니다.\n",
        "    for step in range(25):\n",
        "        number = called_numbers[step]\n",
        "        if number in number_to_position:\n",
        "            r, c = number_to_position[number]\n",
        "            row_counts[r] += 1\n",
        "            col_counts[c] += 1\n",
        "\n",
        "            if r == c:\n",
        "                diag1_count += 1\n",
        "            if r + c == 4:\n",
        "                diag2_count += 1\n",
        "\n",
        "            # 4. 직선이 3개가 되었는지 체크합니다.\n",
        "            bingo_lines = row_counts.count(5) + col_counts.count(5) + (1 if diag1_count == 5 else 0) + (1 if diag2_count == 5 else 0)\n",
        "            if bingo_lines >= 3:\n",
        "                return step + 1  # 1-based index로 반환\n",
        "\n",
        "    return -1  # 직선이 3개가 되지 않는 경우\n",
        "\n",
        "# 입력 받기\n",
        "bingo_board = [list(map(int, input().strip().split())) for _ in range(5)]\n",
        "called_numbers = list(map(int, input().strip().split()))\n",
        "\n",
        "# 결과 계산\n",
        "result = find_bingo_time(bingo_board, called_numbers)\n",
        "\n",
        "# 결과 출력\n",
        "print(result)"
      ],
      "metadata": {
        "id": "93UzAp0P0VFw"
      },
      "execution_count": null,
      "outputs": []
    }
  ]
}