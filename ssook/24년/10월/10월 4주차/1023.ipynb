{
  "nbformat": 4,
  "nbformat_minor": 0,
  "metadata": {
    "colab": {
      "provenance": [],
      "authorship_tag": "ABX9TyMh4eH+CsJr34P+llk61mUP",
      "include_colab_link": true
    },
    "kernelspec": {
      "name": "python3",
      "display_name": "Python 3"
    },
    "language_info": {
      "name": "python"
    }
  },
  "cells": [
    {
      "cell_type": "markdown",
      "metadata": {
        "id": "view-in-github",
        "colab_type": "text"
      },
      "source": [
        "<a href=\"https://colab.research.google.com/github/ssook1222/1Day-1Algo/blob/master/ssook/24%EB%85%84/10%EC%9B%94/10%EC%9B%94%204%EC%A3%BC%EC%B0%A8/1023.ipynb\" target=\"_parent\"><img src=\"https://colab.research.google.com/assets/colab-badge.svg\" alt=\"Open In Colab\"/></a>"
      ]
    },
    {
      "cell_type": "markdown",
      "source": [
        "## BoJ"
      ],
      "metadata": {
        "id": "IPj05ZfBNd5R"
      }
    },
    {
      "cell_type": "markdown",
      "source": [
        "### 1113"
      ],
      "metadata": {
        "id": "DmdjPmGeNgMa"
      }
    },
    {
      "cell_type": "code",
      "source": [
        "from collections import deque\n",
        "import sys\n",
        "input = sys.stdin.readline\n",
        "\n",
        "dx = [0, 0, -1, 1]\n",
        "dy = [-1, 1, 0, 0]\n",
        "\n",
        "N, M = map(int, input().split())\n",
        "land = [list(map(int, input().strip())) for _ in range(N)]\n",
        "total_water = 0\n",
        "\n",
        "def bfs(x, y):\n",
        "    q = deque([(x, y)])\n",
        "\n",
        "    initial_height = land[y][x]\n",
        "    min_border_height = 10\n",
        "    coordinates = set()\n",
        "    coordinates.add((x, y))\n",
        "\n",
        "    while q:\n",
        "        x, y = q.popleft()\n",
        "        for k in range(4):\n",
        "            nx, ny = x + dx[k], y + dy[k]\n",
        "            if not (-1 < nx < M and -1 < ny < N):\n",
        "                return 0, set()\n",
        "            if land[ny][nx] <= initial_height and (nx, ny) not in coordinates:\n",
        "                coordinates.add((nx, ny))\n",
        "                q.append((nx, ny))\n",
        "            elif land[ny][nx] > initial_height:\n",
        "                min_border_height = min(min_border_height, land[ny][nx])\n",
        "\n",
        "    return min_border_height, coordinates\n",
        "\n",
        "def fill_water(height, coord_set):\n",
        "    global total_water\n",
        "    for x, y in coord_set:\n",
        "        total_water += height - land[y][x]\n",
        "        land[y][x] = height\n",
        "\n",
        "for i in range(N):\n",
        "    for j in range(M):\n",
        "        border_height, coord_set = bfs(j, i)\n",
        "        if coord_set:\n",
        "            fill_water(border_height, coord_set)\n",
        "\n",
        "print(total_water)"
      ],
      "metadata": {
        "id": "DZ7KUFWpNdlm"
      },
      "execution_count": null,
      "outputs": []
    },
    {
      "cell_type": "markdown",
      "source": [
        "## CodeTree"
      ],
      "metadata": {
        "id": "MCVJ430wNhop"
      }
    },
    {
      "cell_type": "markdown",
      "source": [
        "### 더 짧은 문자열"
      ],
      "metadata": {
        "id": "yd0-h7KHNkGo"
      }
    },
    {
      "cell_type": "code",
      "source": [
        "def find_shorter_string(word1, word2):\n",
        "    len1 = len(word1)\n",
        "    len2 = len(word2)\n",
        "\n",
        "    if len1 < len2:\n",
        "        return f\"{word1} {len1}\"\n",
        "    elif len2 < len1:\n",
        "        return f\"{word2} {len2}\"\n",
        "    else:\n",
        "        return \"equal\"\n",
        "\n",
        "if __name__ == \"__main__\":\n",
        "    import sys\n",
        "    input = sys.stdin.read().strip()\n",
        "\n",
        "    # 두 단어를 공백으로 분리하여 입력 받기\n",
        "    word1, word2 = input.split()\n",
        "\n",
        "    # 결과 출력\n",
        "    print(find_shorter_string(word1, word2))\n"
      ],
      "metadata": {
        "id": "xP8fBFnZNlZf"
      },
      "execution_count": null,
      "outputs": []
    }
  ]
}