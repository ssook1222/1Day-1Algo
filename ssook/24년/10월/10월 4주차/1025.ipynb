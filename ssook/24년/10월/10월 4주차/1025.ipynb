{
  "nbformat": 4,
  "nbformat_minor": 0,
  "metadata": {
    "colab": {
      "provenance": [],
      "authorship_tag": "ABX9TyO5bzXCiP+9eIXBPUOxcom/",
      "include_colab_link": true
    },
    "kernelspec": {
      "name": "python3",
      "display_name": "Python 3"
    },
    "language_info": {
      "name": "python"
    }
  },
  "cells": [
    {
      "cell_type": "markdown",
      "metadata": {
        "id": "view-in-github",
        "colab_type": "text"
      },
      "source": [
        "<a href=\"https://colab.research.google.com/github/ssook1222/1Day-1Algo/blob/master/ssook/24%EB%85%84/10%EC%9B%94/10%EC%9B%94%204%EC%A3%BC%EC%B0%A8/1025.ipynb\" target=\"_parent\"><img src=\"https://colab.research.google.com/assets/colab-badge.svg\" alt=\"Open In Colab\"/></a>"
      ]
    },
    {
      "cell_type": "markdown",
      "source": [
        "## BoJ"
      ],
      "metadata": {
        "id": "IPj05ZfBNd5R"
      }
    },
    {
      "cell_type": "markdown",
      "source": [
        "### 1029"
      ],
      "metadata": {
        "id": "DmdjPmGeNgMa"
      }
    },
    {
      "cell_type": "code",
      "source": [
        "import sys\n",
        "input = sys.stdin.readline\n",
        "\n",
        "from collections import defaultdict\n",
        "\n",
        "N = int(input())\n",
        "prices = [list(map(int, input().rstrip())) for _ in range(N)]\n",
        "\n",
        "DP = defaultdict(list)\n",
        "\n",
        "DP[1] = [[0] * 10 for _ in range(N)]\n",
        "# DP[ownership][current_owner][current_price] = 소유자가 ownership 상태에서 현재 owner가 price 가격으로 그림을 산 경우\n",
        "\n",
        "def DFS(ownership, current_owner, current_price):\n",
        "    # ownership: 그림을 소유했던 사람\n",
        "    # current_owner: 그림을 가지고 있는 사람\n",
        "    # current_price: 현재 그림 가격\n",
        "    if DP[ownership] == []:\n",
        "        DP[ownership] = [[0] * 10 for _ in range(N)]\n",
        "\n",
        "    if DP[ownership][current_owner][current_price] != 0:\n",
        "        return DP[ownership][current_owner][current_price]\n",
        "\n",
        "    max_count = 0\n",
        "    for i in range(N):\n",
        "        if ownership & 1 << i == 0:  # ownership에서는 i가 아직 그림을 못 만져봄\n",
        "            if current_price <= prices[current_owner][i]:  # current_price 가격에 current_owner가 i에게 그림을 팔 수 있음\n",
        "                max_count = max(max_count, DFS(ownership | 1 << i, i, prices[current_owner][i]) + 1)\n",
        "\n",
        "    DP[ownership][current_owner][current_price] = max_count\n",
        "    return max_count\n",
        "\n",
        "print(DFS(1, 0, 0) + 1)"
      ],
      "metadata": {
        "id": "DZ7KUFWpNdlm"
      },
      "execution_count": null,
      "outputs": []
    },
    {
      "cell_type": "markdown",
      "source": [
        "## CodeTree"
      ],
      "metadata": {
        "id": "MCVJ430wNhop"
      }
    },
    {
      "cell_type": "markdown",
      "source": [
        "### 반 대항전"
      ],
      "metadata": {
        "id": "yd0-h7KHNkGo"
      }
    },
    {
      "cell_type": "code",
      "source": [
        "def calculate_scores(input_lines):\n",
        "    scores = {}\n",
        "\n",
        "    # 첫 번째 줄은 학생 수이므로 무시\n",
        "    for line in input_lines[1:]:\n",
        "        # 반 이름과 점수를 분리\n",
        "        class_name, scores_str = line.split(\": \")\n",
        "        # 점수 리스트로 변환\n",
        "        score_list = list(map(int, scores_str.split()))\n",
        "        # 점수 총합 계산\n",
        "        total_score = sum(score_list)\n",
        "        # 딕셔너리에 저장\n",
        "        scores[class_name] = total_score\n",
        "\n",
        "    return scores\n",
        "\n",
        "def find_winner(scores):\n",
        "    # 가장 높은 점수의 반을 찾음\n",
        "    winner_class = max(scores, key=scores.get)\n",
        "    return winner_class\n",
        "\n",
        "def main():\n",
        "    import sys\n",
        "    input = sys.stdin.read().strip().split(\"\\n\")\n",
        "\n",
        "    # 점수 계산\n",
        "    scores = calculate_scores(input)\n",
        "\n",
        "    # 총합 점수 출력\n",
        "    for class_name, total_score in scores.items():\n",
        "        print(f\"{class_name} - {total_score}\")\n",
        "\n",
        "    # 승리 반 출력\n",
        "    winner_class = find_winner(scores)\n",
        "    print(f\"Class {winner_class} is winner!\")\n",
        "\n",
        "if __name__ == \"__main__\":\n",
        "    main()"
      ],
      "metadata": {
        "id": "xP8fBFnZNlZf"
      },
      "execution_count": null,
      "outputs": []
    }
  ]
}