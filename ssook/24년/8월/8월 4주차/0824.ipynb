{
  "nbformat": 4,
  "nbformat_minor": 0,
  "metadata": {
    "colab": {
      "provenance": [],
      "authorship_tag": "ABX9TyOGiyXLe8d86j7KsRsVrrSt",
      "include_colab_link": true
    },
    "kernelspec": {
      "name": "python3",
      "display_name": "Python 3"
    },
    "language_info": {
      "name": "python"
    }
  },
  "cells": [
    {
      "cell_type": "markdown",
      "metadata": {
        "id": "view-in-github",
        "colab_type": "text"
      },
      "source": [
        "<a href=\"https://colab.research.google.com/github/ssook1222/1Day-1Algo/blob/master/ssook/24%EB%85%84/8%EC%9B%94/8%EC%9B%94%204%EC%A3%BC%EC%B0%A8/0824.ipynb\" target=\"_parent\"><img src=\"https://colab.research.google.com/assets/colab-badge.svg\" alt=\"Open In Colab\"/></a>"
      ]
    },
    {
      "cell_type": "markdown",
      "source": [
        "## BoJ"
      ],
      "metadata": {
        "id": "RVBqyUsoxOgf"
      }
    },
    {
      "cell_type": "markdown",
      "source": [
        "### 1562"
      ],
      "metadata": {
        "id": "NH8gH-SMyFbG"
      }
    },
    {
      "cell_type": "code",
      "execution_count": null,
      "metadata": {
        "id": "Z5Ptd-gLw9PB"
      },
      "outputs": [],
      "source": [
        "import sys\n",
        "input = sys.stdin.readline\n",
        "\n",
        "N = int(input())\n",
        "digit_count = 10  # 0~9\n",
        "bit_count = 1 << digit_count  # 0b0 ~ 0b1111111111 (total 1024 states, from 0 to 1023)\n",
        "MOD = 10**9\n",
        "\n",
        "# DP[state][last_digit][bitmask] represents the count of numbers of length `state`\n",
        "# that end with `last_digit` and have visited the digits corresponding to `bitmask`\n",
        "DP = [[[0] * bit_count for _ in range(digit_count)] for _ in range(N + 1)]\n",
        "\n",
        "# Initialize one-digit numbers\n",
        "# e.g., 0b0000000010 means the number has digit '1'\n",
        "for last_digit in range(digit_count):\n",
        "    DP[1][last_digit][1 << last_digit] = 1\n",
        "\n",
        "for length in range(1, N):  # Calculate for lengths up to N\n",
        "    for last_digit in range(digit_count):\n",
        "        for bitmask in range(bit_count):\n",
        "            if 0 <= last_digit < 9:\n",
        "                next_bitmask = bitmask | (1 << (last_digit + 1))\n",
        "                DP[length + 1][last_digit + 1][next_bitmask] += DP[length][last_digit][bitmask]\n",
        "                DP[length + 1][last_digit + 1][next_bitmask] %= MOD\n",
        "            if 0 < last_digit <= 9:\n",
        "                next_bitmask = bitmask | (1 << (last_digit - 1))\n",
        "                DP[length + 1][last_digit - 1][next_bitmask] += DP[length][last_digit][bitmask]\n",
        "                DP[length + 1][last_digit - 1][next_bitmask] %= MOD\n",
        "\n",
        "total_count = 0\n",
        "for last_digit in range(1, digit_count):  # Exclude numbers starting with 0\n",
        "    total_count += DP[N][last_digit][(1 << digit_count) - 1]\n",
        "    total_count %= MOD\n",
        "\n",
        "print(total_count)"
      ]
    },
    {
      "cell_type": "markdown",
      "source": [
        "---"
      ],
      "metadata": {
        "id": "b0V6HQgVxSve"
      }
    },
    {
      "cell_type": "markdown",
      "source": [
        "## CodeTree"
      ],
      "metadata": {
        "id": "zAzTyhk_xQIM"
      }
    },
    {
      "cell_type": "markdown",
      "source": [
        "### 줄 세우기 2"
      ],
      "metadata": {
        "id": "VrEhB0CAyGPb"
      }
    },
    {
      "cell_type": "code",
      "source": [
        "# 입력을 읽기 위한 모듈\n",
        "import sys\n",
        "input = sys.stdin.readline\n",
        "\n",
        "# 학생 수를 입력받는다.\n",
        "N = int(input().strip())\n",
        "\n",
        "# 학생 정보를 저장할 리스트\n",
        "students = []\n",
        "\n",
        "# 각 학생의 키와 몸무게를 입력받는다.\n",
        "for i in range(N):\n",
        "    h, w = map(int, input().strip().split())\n",
        "    students.append((h, w, i + 1))  # (키, 몸무게, 번호)\n",
        "\n",
        "# 정렬: 키가 오름차순, 키가 동일하면 몸무게가 내림차순\n",
        "students.sort(key=lambda x: (x[0], -x[1]))\n",
        "\n",
        "# 결과를 출력한다.\n",
        "for student in students:\n",
        "    print(student[0], student[1], student[2])\n"
      ],
      "metadata": {
        "id": "76WPGHIexScS"
      },
      "execution_count": null,
      "outputs": []
    }
  ]
}