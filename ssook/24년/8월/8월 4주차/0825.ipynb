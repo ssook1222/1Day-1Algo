{
  "nbformat": 4,
  "nbformat_minor": 0,
  "metadata": {
    "colab": {
      "provenance": [],
      "authorship_tag": "ABX9TyO8RDO8kkFL1CeC4tW30oGA",
      "include_colab_link": true
    },
    "kernelspec": {
      "name": "python3",
      "display_name": "Python 3"
    },
    "language_info": {
      "name": "python"
    }
  },
  "cells": [
    {
      "cell_type": "markdown",
      "metadata": {
        "id": "view-in-github",
        "colab_type": "text"
      },
      "source": [
        "<a href=\"https://colab.research.google.com/github/ssook1222/1Day-1Algo/blob/master/ssook/24%EB%85%84/8%EC%9B%94/8%EC%9B%94%204%EC%A3%BC%EC%B0%A8/0825.ipynb\" target=\"_parent\"><img src=\"https://colab.research.google.com/assets/colab-badge.svg\" alt=\"Open In Colab\"/></a>"
      ]
    },
    {
      "cell_type": "markdown",
      "source": [
        "## BoJ"
      ],
      "metadata": {
        "id": "RVBqyUsoxOgf"
      }
    },
    {
      "cell_type": "markdown",
      "source": [
        "### 1700"
      ],
      "metadata": {
        "id": "DvIytS5gyHLW"
      }
    },
    {
      "cell_type": "code",
      "execution_count": null,
      "metadata": {
        "id": "Z5Ptd-gLw9PB"
      },
      "outputs": [],
      "source": [
        "N, K = map(int, input().split())\n",
        "if N >= K:\n",
        "    print(0)\n",
        "    exit()\n",
        "\n",
        "usage_order = list(map(int, input().split()))\n",
        "\n",
        "current_plugs = set()\n",
        "unplug_count = 0\n",
        "\n",
        "def find_furthest_usage(index):\n",
        "    farthest_use = 0\n",
        "    farthest_idx = -1\n",
        "    for plug in current_plugs:\n",
        "        try:\n",
        "            next_use_idx = usage_order[index:].index(plug)\n",
        "        except:\n",
        "            next_use_idx = K\n",
        "        if farthest_idx < next_use_idx:\n",
        "            farthest_use, farthest_idx = plug, next_use_idx\n",
        "\n",
        "    return farthest_use\n",
        "\n",
        "for current_index, device in enumerate(usage_order):\n",
        "    current_plugs.add(device)\n",
        "    if len(current_plugs) > N:\n",
        "        unplug_count += 1\n",
        "        plug_to_unplug = find_furthest_usage(current_index)\n",
        "        current_plugs.discard(plug_to_unplug)\n",
        "\n",
        "print(unplug_count)\n"
      ]
    },
    {
      "cell_type": "markdown",
      "source": [
        "---"
      ],
      "metadata": {
        "id": "b0V6HQgVxSve"
      }
    },
    {
      "cell_type": "markdown",
      "source": [
        "## CodeTree"
      ],
      "metadata": {
        "id": "zAzTyhk_xQIM"
      }
    },
    {
      "cell_type": "markdown",
      "source": [
        "### 요일 맞추기"
      ],
      "metadata": {
        "id": "FDr9WGVwyH_M"
      }
    },
    {
      "cell_type": "code",
      "source": [
        "def get_day_of_year(month, day):\n",
        "    \"\"\"주어진 월과 일에 대해 2011년의 몇 번째 날인지 계산합니다.\"\"\"\n",
        "    # 각 월의 일수를 저장합니다. 2011년은 윤년이 아니므로 2월은 28일입니다.\n",
        "    days_in_month = [31, 28, 31, 30, 31, 30, 31, 31, 30, 31, 30, 31]\n",
        "    return sum(days_in_month[:month - 1]) + day\n",
        "\n",
        "def get_weekday(day_difference):\n",
        "    \"\"\"일수 차이에 따라 요일을 반환합니다.\"\"\"\n",
        "    weekdays = [\"Mon\", \"Tue\", \"Wed\", \"Thu\", \"Fri\", \"Sat\", \"Sun\"]\n",
        "    return weekdays[day_difference % 7]\n",
        "\n",
        "def main():\n",
        "    import sys\n",
        "    input = sys.stdin.readline\n",
        "\n",
        "    # 입력받기\n",
        "    m1, d1, m2, d2 = map(int, input().split())\n",
        "\n",
        "    # 2011년 m1월 d1일의 일수와 2011년 m2월 d2일의 일수 계산\n",
        "    start_day_of_year = get_day_of_year(m1, d1)\n",
        "    target_day_of_year = get_day_of_year(m2, d2)\n",
        "\n",
        "    # 두 날짜 간의 일수 차이 계산\n",
        "    day_difference = target_day_of_year - start_day_of_year\n",
        "\n",
        "    # 요일 계산 및 출력\n",
        "    print(get_weekday(day_difference))\n",
        "\n",
        "if __name__ == \"__main__\":\n",
        "    main()"
      ],
      "metadata": {
        "id": "76WPGHIexScS"
      },
      "execution_count": null,
      "outputs": []
    }
  ]
}