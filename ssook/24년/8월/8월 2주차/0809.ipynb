{
  "nbformat": 4,
  "nbformat_minor": 0,
  "metadata": {
    "colab": {
      "provenance": [],
      "authorship_tag": "ABX9TyMbSkxcDJ9zPI0f+tr+81oq",
      "include_colab_link": true
    },
    "kernelspec": {
      "name": "python3",
      "display_name": "Python 3"
    },
    "language_info": {
      "name": "python"
    }
  },
  "cells": [
    {
      "cell_type": "markdown",
      "metadata": {
        "id": "view-in-github",
        "colab_type": "text"
      },
      "source": [
        "<a href=\"https://colab.research.google.com/github/ssook1222/1Day-1Algo/blob/master/ssook/24%EB%85%84/8%EC%9B%94/8%EC%9B%94%202%EC%A3%BC%EC%B0%A8/0809.ipynb\" target=\"_parent\"><img src=\"https://colab.research.google.com/assets/colab-badge.svg\" alt=\"Open In Colab\"/></a>"
      ]
    },
    {
      "cell_type": "markdown",
      "source": [
        "## BoJ"
      ],
      "metadata": {
        "id": "b6GiIByFqirD"
      }
    },
    {
      "cell_type": "markdown",
      "source": [
        "###  11657"
      ],
      "metadata": {
        "id": "4jl9Mk3xqk7e"
      }
    },
    {
      "cell_type": "code",
      "execution_count": null,
      "metadata": {
        "id": "k5BOJpz9qWk1"
      },
      "outputs": [],
      "source": [
        "import sys\n",
        "input = sys.stdin.readline\n",
        "INF = int(1e9)\n",
        "\n",
        "def bellman_ford(start):\n",
        "    dist[start] = 0\n",
        "\n",
        "    for i in range(1, n + 1):\n",
        "        for j in range(m):\n",
        "            u, v, cost = edges[j]\n",
        "            if dist[u] != INF and dist[v] > dist[u] + cost:\n",
        "                dist[v] = dist[u] + cost\n",
        "                if i == n:\n",
        "                    return True\n",
        "\n",
        "    return False\n",
        "\n",
        "n, m = map(int, input().split())\n",
        "edges = []\n",
        "dist = [INF] * (n + 1)\n",
        "\n",
        "for _ in range(m):\n",
        "    a, b, c = map(int, input().split())\n",
        "    edges.append((a, b, c))\n",
        "\n",
        "negative_cycle = bellman_ford(1)\n",
        "\n",
        "if negative_cycle:\n",
        "    print(-1)\n",
        "else:\n",
        "    for i in range(2, n + 1):\n",
        "        if dist[i] == INF:\n",
        "            print(-1)\n",
        "        else:\n",
        "            print(dist[i])"
      ]
    },
    {
      "cell_type": "markdown",
      "source": [
        "### 1253"
      ],
      "metadata": {
        "id": "VrSYGkEHqmah"
      }
    },
    {
      "cell_type": "code",
      "source": [
        "import sys\n",
        "input = sys.stdin.readline\n",
        "\n",
        "n = int(input())\n",
        "arr = list(map(int, input().split()))\n",
        "arr.sort()\n",
        "\n",
        "good_count = 0\n",
        "for i in range(n):\n",
        "    target = arr[i]\n",
        "    left = 0\n",
        "    right = n - 1\n",
        "    while left < right:\n",
        "        if arr[left] + arr[right] == target:\n",
        "            if left != i and right != i:\n",
        "                good_count += 1\n",
        "                break\n",
        "            elif left == i:\n",
        "                left += 1\n",
        "            elif right == i:\n",
        "                right -= 1\n",
        "        elif arr[left] + arr[right] < target:\n",
        "            left += 1\n",
        "        else:\n",
        "            right -= 1\n",
        "\n",
        "print(good_count)"
      ],
      "metadata": {
        "id": "A_Eh3mRdqnQ_"
      },
      "execution_count": null,
      "outputs": []
    },
    {
      "cell_type": "markdown",
      "source": [
        "---"
      ],
      "metadata": {
        "id": "KFUNX3fRqnq7"
      }
    },
    {
      "cell_type": "markdown",
      "source": [
        "## CodeTree"
      ],
      "metadata": {
        "id": "sY0F71d4qoft"
      }
    },
    {
      "cell_type": "markdown",
      "source": [
        "### 시력 검사 3"
      ],
      "metadata": {
        "id": "dINkfElSqrFY"
      }
    },
    {
      "cell_type": "code",
      "source": [
        "a = float(input())\n",
        "b = float(input())\n",
        "\n",
        "if a >= 1.0 and b >= 1.0:\n",
        "    print(\"H\")\n",
        "elif a >= 0.5 and b >= 0.5:\n",
        "    print(\"M\")\n",
        "else:\n",
        "    print(\"L\")"
      ],
      "metadata": {
        "id": "RkkYMnAWqsO9"
      },
      "execution_count": null,
      "outputs": []
    }
  ]
}