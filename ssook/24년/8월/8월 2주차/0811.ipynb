{
  "nbformat": 4,
  "nbformat_minor": 0,
  "metadata": {
    "colab": {
      "provenance": [],
      "authorship_tag": "ABX9TyPEVaB87NZeXBfmCs8X6fej",
      "include_colab_link": true
    },
    "kernelspec": {
      "name": "python3",
      "display_name": "Python 3"
    },
    "language_info": {
      "name": "python"
    }
  },
  "cells": [
    {
      "cell_type": "markdown",
      "metadata": {
        "id": "view-in-github",
        "colab_type": "text"
      },
      "source": [
        "<a href=\"https://colab.research.google.com/github/ssook1222/1Day-1Algo/blob/master/ssook/24%EB%85%84/8%EC%9B%94/8%EC%9B%94%202%EC%A3%BC%EC%B0%A8/0811.ipynb\" target=\"_parent\"><img src=\"https://colab.research.google.com/assets/colab-badge.svg\" alt=\"Open In Colab\"/></a>"
      ]
    },
    {
      "cell_type": "markdown",
      "source": [
        "## BoJ"
      ],
      "metadata": {
        "id": "b6GiIByFqirD"
      }
    },
    {
      "cell_type": "markdown",
      "source": [
        "### 11559\n",
        "pypy로 풀음"
      ],
      "metadata": {
        "id": "4jl9Mk3xqk7e"
      }
    },
    {
      "cell_type": "code",
      "execution_count": null,
      "metadata": {
        "id": "k5BOJpz9qWk1"
      },
      "outputs": [],
      "source": [
        "from collections import deque\n",
        "\n",
        "# 상하좌우 이동을 위한 dx, dy 배열\n",
        "dx = [0, 0, -1, 1]\n",
        "dy = [1, -1, 0, 0]\n",
        "\n",
        "# 필드의 초기 상태를 입력 받음\n",
        "field = [list(input().strip()) for _ in range(12)]\n",
        "chain_count = 0\n",
        "\n",
        "# BFS를 통해 같은 색 뿌요를 찾고 터뜨리는 함수\n",
        "def bfs(x, y, color):\n",
        "    global boom_flag\n",
        "    boom_list = []\n",
        "    deq = deque()\n",
        "    deq.append((x, y))\n",
        "    boom_list.append((x, y))\n",
        "    visited[x][y] = True\n",
        "    n = 1\n",
        "\n",
        "    while deq:\n",
        "        cx, cy = deq.popleft()\n",
        "        for d in range(4):\n",
        "            nx, ny = cx + dx[d], cy + dy[d]\n",
        "            if 0 <= nx < 12 and 0 <= ny < 6:\n",
        "                if not visited[nx][ny] and field[nx][ny] == color:\n",
        "                    visited[nx][ny] = True\n",
        "                    deq.append((nx, ny))\n",
        "                    boom_list.append((nx, ny))\n",
        "                    n += 1\n",
        "\n",
        "    # 같은 색 뿌요가 4개 이상이면 터뜨림\n",
        "    if n >= 4:\n",
        "        for bx, by in boom_list:\n",
        "            field[bx][by] = '.'\n",
        "        boom_flag = True\n",
        "\n",
        "# 중력에 따라 뿌요를 아래로 내리는 함수\n",
        "def gravity():\n",
        "    for col in range(6):\n",
        "        queue = deque()\n",
        "        for row in range(11, -1, -1):\n",
        "            if field[row][col] != '.':\n",
        "                queue.append(field[row][col])\n",
        "        for row in range(11, -1, -1):\n",
        "            if queue:\n",
        "                field[row][col] = queue.popleft()\n",
        "            else:\n",
        "                field[row][col] = '.'\n",
        "\n",
        "# 연쇄가 일어나는 동안 반복하여 연쇄 횟수를 세는 함수\n",
        "while True:\n",
        "    boom_flag = False\n",
        "    visited = [[False] * 6 for _ in range(12)]\n",
        "\n",
        "    # 모든 뿌요에 대해 BFS로 터뜨리기\n",
        "    for i in range(12):\n",
        "        for j in range(6):\n",
        "            if field[i][j] != '.' and not visited[i][j]:\n",
        "                bfs(i, j, field[i][j])\n",
        "\n",
        "    # 중력 적용 후 연쇄 여부 확인\n",
        "    gravity()\n",
        "    if not boom_flag:\n",
        "        break\n",
        "    else:\n",
        "        chain_count += 1\n",
        "\n",
        "print(chain_count)"
      ]
    },
    {
      "cell_type": "markdown",
      "source": [
        "### 6497"
      ],
      "metadata": {
        "id": "VrSYGkEHqmah"
      }
    },
    {
      "cell_type": "code",
      "source": [
        "import sys\n",
        "\n",
        "input = sys.stdin.readline\n",
        "\n",
        "def find(parent, x):\n",
        "    if parent[x] != x:\n",
        "        parent[x] = find(parent, parent[x])\n",
        "    return parent[x]\n",
        "\n",
        "def union(parent, x, y):\n",
        "    root_x = find(parent, x)\n",
        "    root_y = find(parent, y)\n",
        "\n",
        "    if root_x < root_y:\n",
        "        parent[root_y] = root_x\n",
        "    else:\n",
        "        parent[root_x] = root_y\n",
        "\n",
        "while True:\n",
        "    num_houses, num_roads = map(int, input().split())\n",
        "    if num_houses == 0 and num_roads == 0:\n",
        "        break\n",
        "\n",
        "    parent = list(range(num_houses))\n",
        "    total_saved_cost = 0\n",
        "\n",
        "    roads = []\n",
        "    for _ in range(num_roads):\n",
        "        house1, house2, distance = map(int, input().split())\n",
        "        roads.append((house1, house2, distance))\n",
        "\n",
        "    roads.sort(key=lambda x: x[2])\n",
        "\n",
        "    for road in roads:\n",
        "        house1, house2, cost = road\n",
        "        if find(parent, house1) != find(parent, house2):\n",
        "            union(parent, house1, house2)\n",
        "        else:\n",
        "            total_saved_cost += cost\n",
        "\n",
        "    print(total_saved_cost)"
      ],
      "metadata": {
        "id": "A_Eh3mRdqnQ_"
      },
      "execution_count": null,
      "outputs": []
    },
    {
      "cell_type": "markdown",
      "source": [
        "---"
      ],
      "metadata": {
        "id": "KFUNX3fRqnq7"
      }
    },
    {
      "cell_type": "markdown",
      "source": [
        "## CodeTree"
      ],
      "metadata": {
        "id": "sY0F71d4qoft"
      }
    },
    {
      "cell_type": "markdown",
      "source": [
        "### 알파벳에 따른 평가 2"
      ],
      "metadata": {
        "id": "dINkfElSqrFY"
      }
    },
    {
      "cell_type": "code",
      "source": [
        "def evaluate_letter(letter):\n",
        "    if letter == 'S':\n",
        "        return 'Superior'\n",
        "    elif letter == 'F':\n",
        "        return 'Fantastic'\n",
        "    elif letter == 'G':\n",
        "        return 'Good'\n",
        "    elif letter == 'U':\n",
        "        return 'Usually'\n",
        "    elif letter == 'E':\n",
        "        return 'Effort'\n",
        "    else:\n",
        "        return 'Failure'\n",
        "\n",
        "# 입력 받기\n",
        "input_letter = input().strip().upper()\n",
        "\n",
        "# 평가 출력하기\n",
        "print(evaluate_letter(input_letter))\n"
      ],
      "metadata": {
        "id": "RkkYMnAWqsO9"
      },
      "execution_count": null,
      "outputs": []
    }
  ]
}