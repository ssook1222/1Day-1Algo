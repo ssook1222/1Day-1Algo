{
  "nbformat": 4,
  "nbformat_minor": 0,
  "metadata": {
    "colab": {
      "provenance": [],
      "authorship_tag": "ABX9TyMw4tL906hxIlTLZ9GH4KVm",
      "include_colab_link": true
    },
    "kernelspec": {
      "name": "python3",
      "display_name": "Python 3"
    },
    "language_info": {
      "name": "python"
    }
  },
  "cells": [
    {
      "cell_type": "markdown",
      "metadata": {
        "id": "view-in-github",
        "colab_type": "text"
      },
      "source": [
        "<a href=\"https://colab.research.google.com/github/ssook1222/1Day-1Algo/blob/master/ssook/24%EB%85%84/8%EC%9B%94/8%EC%9B%94%202%EC%A3%BC%EC%B0%A8/0810.ipynb\" target=\"_parent\"><img src=\"https://colab.research.google.com/assets/colab-badge.svg\" alt=\"Open In Colab\"/></a>"
      ]
    },
    {
      "cell_type": "markdown",
      "source": [
        "## BoJ"
      ],
      "metadata": {
        "id": "b6GiIByFqirD"
      }
    },
    {
      "cell_type": "markdown",
      "source": [
        "### 1915"
      ],
      "metadata": {
        "id": "4jl9Mk3xqk7e"
      }
    },
    {
      "cell_type": "code",
      "execution_count": null,
      "metadata": {
        "id": "k5BOJpz9qWk1"
      },
      "outputs": [],
      "source": [
        "import sys\n",
        "input = sys.stdin.readline\n",
        "\n",
        "# 입력 받기\n",
        "n, m = map(int, input().split())\n",
        "arr = []\n",
        "dp = [[0] * m for _ in range(n)]\n",
        "\n",
        "for _ in range(n):\n",
        "    arr.append(list(map(int, list(input().rstrip()))))\n",
        "\n",
        "# 최대 정사각형의 넓이를 저장할 변수\n",
        "max_side_length = 0\n",
        "\n",
        "# DP를 이용하여 가장 큰 정사각형의 한 변의 길이를 구함\n",
        "for i in range(n):\n",
        "    for j in range(m):\n",
        "        if i == 0 or j == 0:\n",
        "            dp[i][j] = arr[i][j]\n",
        "        elif arr[i][j] == 1:\n",
        "            dp[i][j] = min(dp[i - 1][j - 1], dp[i - 1][j], dp[i][j - 1]) + 1\n",
        "\n",
        "        # 각 위치에서 구한 한 변의 길이를 기준으로 최대 정사각형의 넓이 업데이트\n",
        "        max_side_length = max(max_side_length, dp[i][j])\n",
        "\n",
        "# 최대 정사각형의 넓이를 출력\n",
        "print(max_side_length * max_side_length)"
      ]
    },
    {
      "cell_type": "markdown",
      "source": [
        "### 5427"
      ],
      "metadata": {
        "id": "VrSYGkEHqmah"
      }
    },
    {
      "cell_type": "code",
      "source": [
        "from collections import deque\n",
        "import sys\n",
        "\n",
        "input = sys.stdin.readline\n",
        "\n",
        "dx = [-1, 0, 1, 0]\n",
        "dy = [0, -1, 0, 1]\n",
        "\n",
        "def escape():\n",
        "    cnt = 0  # 시간 경과\n",
        "    while q:\n",
        "        cnt += 1\n",
        "        # 불이 먼저 번지도록 한다.\n",
        "        while fire and fire[0][2] < cnt:\n",
        "            x, y, time = fire.popleft()\n",
        "            for i in range(4):\n",
        "                nx, ny = x + dx[i], y + dy[i]\n",
        "                if 0 <= nx < h and 0 <= ny < w:\n",
        "                    if board[nx][ny] == \".\" or board[nx][ny] == \"@\":\n",
        "                        board[nx][ny] = \"*\"\n",
        "                        fire.append((nx, ny, time + 1))\n",
        "\n",
        "        while q and q[0][2] < cnt:\n",
        "            # 상근이의 이동할 수 있는 위치를 구한다\n",
        "            x, y, time = q.popleft()\n",
        "            for i in range(4):\n",
        "                nx, ny = x + dx[i], y + dy[i]\n",
        "                if 0 <= nx < h and 0 <= ny < w:\n",
        "                    if board[nx][ny] == \".\" and not visited[nx][ny]:\n",
        "                        visited[nx][ny] = True\n",
        "                        q.append((nx, ny, time + 1))\n",
        "                else:\n",
        "                    return cnt\n",
        "\n",
        "    return \"IMPOSSIBLE\"\n",
        "\n",
        "if __name__ == \"__main__\":\n",
        "    t = int(input().strip())\n",
        "    for _ in range(t):\n",
        "        w, h = map(int, input().split())\n",
        "\n",
        "        q = deque()  # 상근이의 위치\n",
        "        fire = deque()  # 불의 위치\n",
        "\n",
        "        board = []\n",
        "        visited = [[False] * w for _ in range(h)]\n",
        "        for i in range(h):\n",
        "            line = input().strip()\n",
        "            board.append(list(line))\n",
        "            for j in range(w):\n",
        "                if board[i][j] == \"@\":\n",
        "                    visited[i][j] = True\n",
        "                    q.append((i, j, 0))\n",
        "                elif board[i][j] == \"*\":\n",
        "                    fire.append((i, j, 0))\n",
        "\n",
        "        print(escape())"
      ],
      "metadata": {
        "id": "A_Eh3mRdqnQ_"
      },
      "execution_count": null,
      "outputs": []
    },
    {
      "cell_type": "markdown",
      "source": [
        "---"
      ],
      "metadata": {
        "id": "KFUNX3fRqnq7"
      }
    },
    {
      "cell_type": "markdown",
      "source": [
        "## CodeTree"
      ],
      "metadata": {
        "id": "sY0F71d4qoft"
      }
    },
    {
      "cell_type": "markdown",
      "source": [
        "### 남녀노소 구분짓기 2"
      ],
      "metadata": {
        "id": "dINkfElSqrFY"
      }
    },
    {
      "cell_type": "code",
      "source": [
        "gender = int(input().strip())\n",
        "age = int(input().strip())\n",
        "\n",
        "if gender == 0:\n",
        "    if age >= 19:\n",
        "        print(\"M\")\n",
        "    else:\n",
        "        print(\"B\")\n",
        "elif gender == 1:\n",
        "    if age >= 19:\n",
        "        print(\"W\")\n",
        "    else:\n",
        "        print(\"G\")"
      ],
      "metadata": {
        "id": "RkkYMnAWqsO9"
      },
      "execution_count": null,
      "outputs": []
    }
  ]
}