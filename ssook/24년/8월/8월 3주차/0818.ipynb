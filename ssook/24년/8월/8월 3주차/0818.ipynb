{
  "nbformat": 4,
  "nbformat_minor": 0,
  "metadata": {
    "colab": {
      "provenance": [],
      "authorship_tag": "ABX9TyM9mVoP6fjT/SF9yTWenuLF",
      "include_colab_link": true
    },
    "kernelspec": {
      "name": "python3",
      "display_name": "Python 3"
    },
    "language_info": {
      "name": "python"
    }
  },
  "cells": [
    {
      "cell_type": "markdown",
      "metadata": {
        "id": "view-in-github",
        "colab_type": "text"
      },
      "source": [
        "<a href=\"https://colab.research.google.com/github/ssook1222/1Day-1Algo/blob/master/ssook/24%EB%85%84/8%EC%9B%94/8%EC%9B%94%203%EC%A3%BC%EC%B0%A8/0818.ipynb\" target=\"_parent\"><img src=\"https://colab.research.google.com/assets/colab-badge.svg\" alt=\"Open In Colab\"/></a>"
      ]
    },
    {
      "cell_type": "markdown",
      "source": [
        "## BoJ"
      ],
      "metadata": {
        "id": "c6hEVbtqw0wg"
      }
    },
    {
      "cell_type": "markdown",
      "source": [
        "### 1062"
      ],
      "metadata": {
        "id": "ChV7wZb0w2sL"
      }
    },
    {
      "cell_type": "code",
      "source": [
        "import sys\n",
        "from itertools import combinations\n",
        "\n",
        "input = sys.stdin.readline\n",
        "\n",
        "def word_to_bitmask(word):\n",
        "    bitmask = 0\n",
        "    for char in word:\n",
        "        bitmask |= (1 << (ord(char) - ord('a')))\n",
        "    return bitmask\n",
        "\n",
        "N, K = map(int, input().split())\n",
        "words = [input().rstrip() for _ in range(N)]\n",
        "bitmasks = [word_to_bitmask(word) for word in words]\n",
        "base_bitmask = word_to_bitmask('antic')\n",
        "\n",
        "if K < 5:\n",
        "    print(0)\n",
        "else:\n",
        "    # Prepare bitmask for all alphabets except 'a', 'n', 't', 'i', 'c'\n",
        "    alphabet = [1 << i for i in range(26) if not (base_bitmask & (1 << i))]\n",
        "    max_readable_words = 0\n",
        "\n",
        "    # Try all combinations of K-5 alphabets\n",
        "    for combination in combinations(alphabet, K-5):\n",
        "        # Calculate bitmask for current combination plus base bitmask\n",
        "        know_bitmask = sum(combination) | base_bitmask\n",
        "        count = 0\n",
        "        for bitmask in bitmasks:\n",
        "            if bitmask & know_bitmask == bitmask:\n",
        "                count += 1\n",
        "        max_readable_words = max(max_readable_words, count)\n",
        "\n",
        "    print(max_readable_words)"
      ],
      "metadata": {
        "id": "nERz9B9Bw3QH"
      },
      "execution_count": null,
      "outputs": []
    },
    {
      "cell_type": "markdown",
      "source": [
        "### 2448"
      ],
      "metadata": {
        "id": "PjNIrZIIw3gR"
      }
    },
    {
      "cell_type": "code",
      "source": [
        "import sys\n",
        "input = sys.stdin.readline\n",
        "\n",
        "N = int(input())\n",
        "\n",
        "stars = [[' ']*2*N for _ in range(N)]\n",
        "\n",
        "def draw_star(i, j, size):\n",
        "    if size == 3:\n",
        "        stars[i][j] = '*'\n",
        "        stars[i + 1][j - 1] = stars[i + 1][j + 1] = '*'\n",
        "        stars[i + 2][j - 2] = stars[i + 2][j - 1] = stars[i + 2][j] = stars[i + 2][j + 1] = stars[i + 2][j + 2] = '*'\n",
        "    else:\n",
        "        new_size = size // 2\n",
        "        draw_star(i, j, new_size)\n",
        "        draw_star(i + new_size, j - new_size, new_size)\n",
        "        draw_star(i + new_size, j + new_size, new_size)\n",
        "\n",
        "draw_star(0, N - 1, N)\n",
        "\n",
        "for star in stars:\n",
        "    print(\"\".join(star))"
      ],
      "metadata": {
        "id": "skf8_gJEw4CK"
      },
      "execution_count": null,
      "outputs": []
    },
    {
      "cell_type": "markdown",
      "source": [
        "## CodeTree"
      ],
      "metadata": {
        "id": "1vok-Kn-w9LM"
      }
    },
    {
      "cell_type": "code",
      "execution_count": null,
      "metadata": {
        "id": "YpIoJZnCwO7M"
      },
      "outputs": [],
      "source": [
        "class WeatherData:\n",
        "    def __init__(self, date, day_of_week, weather):\n",
        "        self.date = date\n",
        "        self.day_of_week = day_of_week\n",
        "        self.weather = weather\n",
        "\n",
        "# 입력 받기\n",
        "n = int(input().strip())\n",
        "weather_data_list = []\n",
        "\n",
        "for _ in range(n):\n",
        "    date, day_of_week, weather = input().strip().split()\n",
        "    weather_data_list.append(WeatherData(date, day_of_week, weather))\n",
        "\n",
        "# 가장 근 시일내에 비가 오는 날 찾기\n",
        "nearest_rain_day = None\n",
        "current_year = 2100\n",
        "\n",
        "for data in weather_data_list:\n",
        "    if data.weather == \"Rain\":\n",
        "        year = int(data.date[:4])\n",
        "        if year < current_year:\n",
        "            current_year = year\n",
        "            nearest_rain_day = data\n",
        "        elif year == current_year:\n",
        "            if data.date < nearest_rain_day.date:\n",
        "                nearest_rain_day = data\n",
        "\n",
        "# 결과 출력\n",
        "print(f\"{nearest_rain_day.date} {nearest_rain_day.day_of_week} {nearest_rain_day.weather}\")"
      ]
    }
  ]
}