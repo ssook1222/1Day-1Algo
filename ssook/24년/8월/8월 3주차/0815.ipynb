{
  "nbformat": 4,
  "nbformat_minor": 0,
  "metadata": {
    "colab": {
      "provenance": [],
      "authorship_tag": "ABX9TyN7U5QdbP3iRozH+li5OHf/",
      "include_colab_link": true
    },
    "kernelspec": {
      "name": "python3",
      "display_name": "Python 3"
    },
    "language_info": {
      "name": "python"
    }
  },
  "cells": [
    {
      "cell_type": "markdown",
      "metadata": {
        "id": "view-in-github",
        "colab_type": "text"
      },
      "source": [
        "<a href=\"https://colab.research.google.com/github/ssook1222/1Day-1Algo/blob/master/ssook/24%EB%85%84/8%EC%9B%94/8%EC%9B%94%203%EC%A3%BC%EC%B0%A8/0815.ipynb\" target=\"_parent\"><img src=\"https://colab.research.google.com/assets/colab-badge.svg\" alt=\"Open In Colab\"/></a>"
      ]
    },
    {
      "cell_type": "markdown",
      "source": [
        "## BoJ"
      ],
      "metadata": {
        "id": "gBEyJHqwd9-E"
      }
    },
    {
      "cell_type": "markdown",
      "source": [
        "### 2457"
      ],
      "metadata": {
        "id": "mqWVz8TSeCeK"
      }
    },
    {
      "cell_type": "code",
      "execution_count": null,
      "metadata": {
        "id": "Wz7XwwWGdyp8"
      },
      "outputs": [],
      "source": [
        "import sys\n",
        "input = sys.stdin.readline\n",
        "\n",
        "n = int(input())\n",
        "\n",
        "flowers = []\n",
        "for _ in range(n):\n",
        "    start_m, start_d, end_m, end_d = map(int, input().split())\n",
        "    start_date = start_m * 100 + start_d\n",
        "    end_date = end_m * 100 + end_d\n",
        "    flowers.append((start_date, end_date))\n",
        "\n",
        "flowers.sort()\n",
        "end_date = 301\n",
        "count = 0\n",
        "\n",
        "while flowers:\n",
        "    if end_date >= 1201 or flowers[0][0] > end_date:\n",
        "        break\n",
        "\n",
        "    temp_end_date = -1\n",
        "    for _ in range(len(flowers)):\n",
        "        if flowers[0][0] <= end_date:\n",
        "            if temp_end_date < flowers[0][1]:\n",
        "                temp_end_date = flowers[0][1]\n",
        "            flowers.pop(0)\n",
        "        else:\n",
        "            break\n",
        "\n",
        "    end_date = temp_end_date\n",
        "    count += 1\n",
        "\n",
        "if end_date < 1201:\n",
        "    print(0)\n",
        "else:\n",
        "    print(count)\n"
      ]
    },
    {
      "cell_type": "markdown",
      "source": [
        "### 18808"
      ],
      "metadata": {
        "id": "keegPtfqeD64"
      }
    },
    {
      "cell_type": "code",
      "source": [
        "import sys\n",
        "input = sys.stdin.readline\n",
        "\n",
        "def can_attach(notebook, sticker, i, j):\n",
        "    Y = len(notebook)\n",
        "    X = len(notebook[0])\n",
        "    y = len(sticker)\n",
        "    x = len(sticker[0])\n",
        "\n",
        "    for sy in range(y):\n",
        "        for sx in range(x):\n",
        "            if sticker[sy][sx] == 1 and notebook[i+sy][j+sx] == 1:\n",
        "                return False\n",
        "    return True\n",
        "\n",
        "def attach(notebook, sticker, i, j):\n",
        "    y = len(sticker)\n",
        "    x = len(sticker[0])\n",
        "\n",
        "    for sy in range(y):\n",
        "        for sx in range(x):\n",
        "            if sticker[sy][sx] == 1:\n",
        "                notebook[i+sy][j+sx] = 1\n",
        "\n",
        "def rotate_90(sticker):\n",
        "    y = len(sticker)\n",
        "    x = len(sticker[0])\n",
        "    result = [[0]*y for _ in range(x)]\n",
        "\n",
        "    for i in range(y):\n",
        "        for j in range(x):\n",
        "            result[j][y-i-1] = sticker[i][j]\n",
        "\n",
        "    return result\n",
        "\n",
        "Y, X, k = map(int, input().split())\n",
        "notebook = [[0] * X for _ in range(Y)]\n",
        "\n",
        "for _ in range(k):\n",
        "    y, x = map(int, input().split())\n",
        "    sticker = [list(map(int, input().split())) for _ in range(y)]\n",
        "    attached = False\n",
        "\n",
        "    for _ in range(4):\n",
        "        if attached:\n",
        "            break\n",
        "        for i in range(Y - y + 1):\n",
        "            if attached:\n",
        "                break\n",
        "            for j in range(X - x + 1):\n",
        "                if can_attach(notebook, sticker, i, j):\n",
        "                    attach(notebook, sticker, i, j)\n",
        "                    attached = True\n",
        "                    break\n",
        "        sticker = rotate_90(sticker)\n",
        "\n",
        "answer = 0\n",
        "for i in range(Y):\n",
        "    for j in range(X):\n",
        "        answer += notebook[i][j]\n",
        "\n",
        "print(answer)"
      ],
      "metadata": {
        "id": "defBZbnBeFCK"
      },
      "execution_count": null,
      "outputs": []
    },
    {
      "cell_type": "markdown",
      "source": [
        "---"
      ],
      "metadata": {
        "id": "crLnLGPreFZq"
      }
    },
    {
      "cell_type": "markdown",
      "source": [
        "## CodeTree"
      ],
      "metadata": {
        "id": "Y83FhqcxeGJ3"
      }
    },
    {
      "cell_type": "markdown",
      "source": [
        "### Next Level"
      ],
      "metadata": {
        "id": "UdjqRwrReJE-"
      }
    },
    {
      "cell_type": "code",
      "source": [
        "class User:\n",
        "    def __init__(self, username, level):\n",
        "        self.username = username\n",
        "        self.level = level\n",
        "\n",
        "# 초기화된 객체 생성\n",
        "user1 = User(\"codetree\", \"10\")\n",
        "\n",
        "# 입력을 받아 새로운 객체 생성\n",
        "input_data = input().split()\n",
        "username = input_data[0]\n",
        "level = input_data[1]\n",
        "user2 = User(username, level)\n",
        "\n",
        "# 출력\n",
        "print(f\"user {user1.username} lv {user1.level}\")\n",
        "print(f\"user {user2.username} lv {user2.level}\")"
      ],
      "metadata": {
        "id": "eiHF15waeLc8"
      },
      "execution_count": null,
      "outputs": []
    }
  ]
}