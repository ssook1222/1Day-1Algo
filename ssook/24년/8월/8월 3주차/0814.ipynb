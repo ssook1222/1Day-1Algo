{
  "nbformat": 4,
  "nbformat_minor": 0,
  "metadata": {
    "colab": {
      "provenance": [],
      "authorship_tag": "ABX9TyOneM3UCLoZgNL43+FfyxOy",
      "include_colab_link": true
    },
    "kernelspec": {
      "name": "python3",
      "display_name": "Python 3"
    },
    "language_info": {
      "name": "python"
    }
  },
  "cells": [
    {
      "cell_type": "markdown",
      "metadata": {
        "id": "view-in-github",
        "colab_type": "text"
      },
      "source": [
        "<a href=\"https://colab.research.google.com/github/ssook1222/1Day-1Algo/blob/master/ssook/24%EB%85%84/8%EC%9B%94/8%EC%9B%94%203%EC%A3%BC%EC%B0%A8/0814.ipynb\" target=\"_parent\"><img src=\"https://colab.research.google.com/assets/colab-badge.svg\" alt=\"Open In Colab\"/></a>"
      ]
    },
    {
      "cell_type": "markdown",
      "source": [
        "## BoJ"
      ],
      "metadata": {
        "id": "gBEyJHqwd9-E"
      }
    },
    {
      "cell_type": "markdown",
      "source": [
        "### 2234"
      ],
      "metadata": {
        "id": "mqWVz8TSeCeK"
      }
    },
    {
      "cell_type": "code",
      "execution_count": null,
      "metadata": {
        "id": "Wz7XwwWGdyp8"
      },
      "outputs": [],
      "source": [
        "from collections import deque\n",
        "import sys\n",
        "\n",
        "input = sys.stdin.readline\n",
        "dx = [0, -1, 0, 1]\n",
        "dy = [-1, 0, 1, 0]\n",
        "M, N = map(int, input().split())\n",
        "castle = [list(map(int, input().split())) for _ in range(N)]\n",
        "visited = [[0] * M for _ in range(N)]\n",
        "\n",
        "def bfs(x, y):\n",
        "    q = deque()\n",
        "    q.append((x, y))\n",
        "    visited[x][y] = 1\n",
        "    room_size = 1\n",
        "\n",
        "    while q:\n",
        "        cx, cy = q.popleft()\n",
        "        wall = 1\n",
        "        for i in range(4):\n",
        "            nx = cx + dx[i]\n",
        "            ny = cy + dy[i]\n",
        "            if (castle[cx][cy] & wall) == 0:  # 해당 방향으로 벽이 없으면 이동 가능\n",
        "                if 0 <= nx < N and 0 <= ny < M and visited[nx][ny] == 0:\n",
        "                    visited[nx][ny] = 1\n",
        "                    q.append((nx, ny))\n",
        "                    room_size += 1\n",
        "            wall *= 2\n",
        "\n",
        "    return room_size\n",
        "\n",
        "room_count = 0\n",
        "largest_room = 0\n",
        "max_enlarged_room = 0\n",
        "\n",
        "for i in range(N):\n",
        "    for j in range(M):\n",
        "        if visited[i][j] == 0:\n",
        "            room_count += 1\n",
        "            room_size = bfs(i, j)\n",
        "            largest_room = max(largest_room, room_size)\n",
        "\n",
        "for i in range(N):\n",
        "    for j in range(M):\n",
        "        wall = 1\n",
        "        while wall < 9:  # 벽 방향을 하나씩 제거해가며 최대 크기의 방을 찾음\n",
        "            if castle[i][j] & wall:\n",
        "                visited = [[0] * M for _ in range(N)]\n",
        "                castle[i][j] -= wall\n",
        "                max_enlarged_room = max(max_enlarged_room, bfs(i, j))\n",
        "                castle[i][j] += wall\n",
        "            wall *= 2\n",
        "\n",
        "print(room_count)\n",
        "print(largest_room)\n",
        "print(max_enlarged_room)"
      ]
    },
    {
      "cell_type": "markdown",
      "source": [
        "### 1613\n",
        "---\n",
        "pypy로 품\n"
      ],
      "metadata": {
        "id": "keegPtfqeD64"
      }
    },
    {
      "cell_type": "code",
      "source": [
        "import sys\n",
        "\n",
        "input = sys.stdin.readline\n",
        "\n",
        "n, k = map(int, input().split())\n",
        "timeline = [[0] * (n + 1) for _ in range(n + 1)]\n",
        "\n",
        "for _ in range(k):\n",
        "    a, b = map(int, input().split())\n",
        "    timeline[a][b] = 1\n",
        "\n",
        "for k in range(1, n + 1):\n",
        "    for i in range(1, n + 1):\n",
        "        for j in range(1, n + 1):\n",
        "            if timeline[i][k] + timeline[k][j] == 2:\n",
        "                timeline[i][j] = 1\n",
        "\n",
        "s = int(input())\n",
        "for _ in range(s):\n",
        "    x, y = map(int, input().split())\n",
        "    if timeline[x][y] == 1:\n",
        "        print(-1)\n",
        "    elif timeline[y][x] == 1:\n",
        "        print(1)\n",
        "    else:\n",
        "        print(0)\n"
      ],
      "metadata": {
        "id": "defBZbnBeFCK"
      },
      "execution_count": null,
      "outputs": []
    },
    {
      "cell_type": "markdown",
      "source": [
        "---"
      ],
      "metadata": {
        "id": "crLnLGPreFZq"
      }
    },
    {
      "cell_type": "markdown",
      "source": [
        "## CodeTree"
      ],
      "metadata": {
        "id": "Y83FhqcxeGJ3"
      }
    },
    {
      "cell_type": "markdown",
      "source": [
        "### n까지 홀수 출력하기"
      ],
      "metadata": {
        "id": "UdjqRwrReJE-"
      }
    },
    {
      "cell_type": "code",
      "source": [
        "n = int(input())\n",
        "\n",
        "# range 함수를 사용하여 1부터 n까지의 숫자를 생성하고, 홀수만 필터링하여 리스트로 변환합니다.\n",
        "odd_numbers = [num for num in range(1, n + 1) if num % 2 != 0]\n",
        "\n",
        "# 리스트를 공백을 사이에 두고 출력합니다.\n",
        "print(\" \".join(map(str, odd_numbers)))"
      ],
      "metadata": {
        "id": "eiHF15waeLc8"
      },
      "execution_count": null,
      "outputs": []
    }
  ]
}