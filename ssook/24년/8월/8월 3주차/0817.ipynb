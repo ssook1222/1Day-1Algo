{
  "nbformat": 4,
  "nbformat_minor": 0,
  "metadata": {
    "colab": {
      "provenance": [],
      "authorship_tag": "ABX9TyMWQ4XiXRoMbzSkO5SiPpcf",
      "include_colab_link": true
    },
    "kernelspec": {
      "name": "python3",
      "display_name": "Python 3"
    },
    "language_info": {
      "name": "python"
    }
  },
  "cells": [
    {
      "cell_type": "markdown",
      "metadata": {
        "id": "view-in-github",
        "colab_type": "text"
      },
      "source": [
        "<a href=\"https://colab.research.google.com/github/ssook1222/1Day-1Algo/blob/master/ssook/24%EB%85%84/8%EC%9B%94/8%EC%9B%94%203%EC%A3%BC%EC%B0%A8/0817.ipynb\" target=\"_parent\"><img src=\"https://colab.research.google.com/assets/colab-badge.svg\" alt=\"Open In Colab\"/></a>"
      ]
    },
    {
      "cell_type": "markdown",
      "source": [
        "## BoJ"
      ],
      "metadata": {
        "id": "c6hEVbtqw0wg"
      }
    },
    {
      "cell_type": "markdown",
      "source": [
        "### 5052"
      ],
      "metadata": {
        "id": "ChV7wZb0w2sL"
      }
    },
    {
      "cell_type": "code",
      "source": [
        "import sys\n",
        "input = sys.stdin.readline\n",
        "\n",
        "t = int(input().strip())\n",
        "for _ in range(t):\n",
        "    n = int(input().strip())\n",
        "    phone_numbers = [input().strip() for _ in range(n)]\n",
        "    phone_numbers.sort()\n",
        "    consistent = True\n",
        "    for i in range(n-1):\n",
        "        if phone_numbers[i] == phone_numbers[i+1][:len(phone_numbers[i])]:\n",
        "            consistent = False\n",
        "            break\n",
        "    if consistent:\n",
        "        print('YES')\n",
        "    else:\n",
        "        print('NO')"
      ],
      "metadata": {
        "id": "nERz9B9Bw3QH"
      },
      "execution_count": null,
      "outputs": []
    },
    {
      "cell_type": "markdown",
      "source": [
        "### 4485"
      ],
      "metadata": {
        "id": "PjNIrZIIw3gR"
      }
    },
    {
      "cell_type": "code",
      "source": [
        "import heapq\n",
        "import sys\n",
        "\n",
        "input = sys.stdin.readline\n",
        "INF = int(1e9)\n",
        "\n",
        "dx = [-1, 1, 0, 0]\n",
        "dy = [0, 0, -1, 1]\n",
        "\n",
        "def solve():\n",
        "    q = []\n",
        "    heapq.heappush(q, (cave[0][0], 0, 0))\n",
        "    min_loss[0][0] = cave[0][0]\n",
        "\n",
        "    while q:\n",
        "        current_loss, x, y = heapq.heappop(q)\n",
        "\n",
        "        if x == N-1 and y == N-1:\n",
        "            print(f'Problem {problem_number}: {min_loss[x][y]}')\n",
        "            return\n",
        "\n",
        "        for d in range(4):\n",
        "            nx, ny = x + dx[d], y + dy[d]\n",
        "\n",
        "            if 0 <= nx < N and 0 <= ny < N:\n",
        "                next_loss = current_loss + cave[nx][ny]\n",
        "\n",
        "                if next_loss < min_loss[nx][ny]:\n",
        "                    min_loss[nx][ny] = next_loss\n",
        "                    heapq.heappush(q, (next_loss, nx, ny))\n",
        "\n",
        "problem_number = 1\n",
        "\n",
        "while True:\n",
        "    N = int(input().strip())\n",
        "    if N == 0:\n",
        "        break\n",
        "\n",
        "    cave = [list(map(int, input().split())) for _ in range(N)]\n",
        "    min_loss = [[INF] * N for _ in range(N)]\n",
        "\n",
        "    solve()\n",
        "    problem_number += 1"
      ],
      "metadata": {
        "id": "skf8_gJEw4CK"
      },
      "execution_count": null,
      "outputs": []
    },
    {
      "cell_type": "markdown",
      "source": [
        "## CodeTree"
      ],
      "metadata": {
        "id": "FEoKykh4wu3K"
      }
    },
    {
      "cell_type": "code",
      "execution_count": null,
      "metadata": {
        "id": "lfoU4bzswJiq"
      },
      "outputs": [],
      "source": [
        "class Person:\n",
        "    def __init__(self, name, address, city):\n",
        "        self.name = name\n",
        "        self.address = address\n",
        "        self.city = city\n",
        "\n",
        "# 입력 받기\n",
        "n = int(input().strip())\n",
        "persons = []\n",
        "\n",
        "for _ in range(n):\n",
        "    data = input().strip().split()\n",
        "    name = data[0]\n",
        "    address = data[1]\n",
        "    city = data[2]\n",
        "    persons.append(Person(name, address, city))\n",
        "\n",
        "# 사전순으로 이름이 가장 느린 사람 찾기\n",
        "slowest_person = None\n",
        "\n",
        "for person in persons:\n",
        "    if slowest_person is None or person.name > slowest_person.name:\n",
        "        slowest_person = person\n",
        "\n",
        "# 결과 출력\n",
        "print(f\"name {slowest_person.name}\")\n",
        "print(f\"addr {slowest_person.address}\")\n",
        "print(f\"city {slowest_person.city}\")"
      ]
    }
  ]
}