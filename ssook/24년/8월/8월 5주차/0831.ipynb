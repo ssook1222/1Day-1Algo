{
  "nbformat": 4,
  "nbformat_minor": 0,
  "metadata": {
    "colab": {
      "provenance": [],
      "authorship_tag": "ABX9TyOHkLavGPSRPspQir2lSUAV",
      "include_colab_link": true
    },
    "kernelspec": {
      "name": "python3",
      "display_name": "Python 3"
    },
    "language_info": {
      "name": "python"
    }
  },
  "cells": [
    {
      "cell_type": "markdown",
      "metadata": {
        "id": "view-in-github",
        "colab_type": "text"
      },
      "source": [
        "<a href=\"https://colab.research.google.com/github/ssook1222/1Day-1Algo/blob/master/ssook/24%EB%85%84/8%EC%9B%94/8%EC%9B%94%205%EC%A3%BC%EC%B0%A8/0831.ipynb\" target=\"_parent\"><img src=\"https://colab.research.google.com/assets/colab-badge.svg\" alt=\"Open In Colab\"/></a>"
      ]
    },
    {
      "cell_type": "markdown",
      "source": [
        "## BoJ"
      ],
      "metadata": {
        "id": "y06FCA1fz6zF"
      }
    },
    {
      "cell_type": "markdown",
      "source": [
        "### 5676"
      ],
      "metadata": {
        "id": "HQqx2Wy0z8Ju"
      }
    },
    {
      "cell_type": "code",
      "execution_count": null,
      "metadata": {
        "id": "UOdM4AvHz5Gh"
      },
      "outputs": [],
      "source": [
        "import sys\n",
        "input = sys.stdin.readline\n",
        "\n",
        "def init(node, start, end):\n",
        "    if start == end:\n",
        "        # 리프 노드일 경우\n",
        "        if L[start] > 0:\n",
        "            tree[node] = 1\n",
        "        elif L[start] == 0:\n",
        "            tree[node] = 0\n",
        "        else:\n",
        "            tree[node] = -1\n",
        "        return\n",
        "\n",
        "    # 분할 정복 방식으로 세그먼트 트리 초기화\n",
        "    mid = (start + end) // 2\n",
        "    init(node * 2, start, mid)\n",
        "    init(node * 2 + 1, mid + 1, end)\n",
        "\n",
        "    # 자식 노드들의 값을 이용하여 부모 노드 값 설정\n",
        "    tree[node] = tree[node * 2] * tree[node * 2 + 1]\n",
        "\n",
        "def update(node, start, end, index, value):\n",
        "    if index < start or index > end:\n",
        "        return\n",
        "\n",
        "    if start == end:\n",
        "        # 리프 노드일 경우\n",
        "        if value > 0:\n",
        "            tree[node] = 1\n",
        "        elif value == 0:\n",
        "            tree[node] = 0\n",
        "        else:\n",
        "            tree[node] = -1\n",
        "        return\n",
        "\n",
        "    # 분할 정복 방식으로 업데이트 진행\n",
        "    mid = (start + end) // 2\n",
        "    update(node * 2, start, mid, index, value)\n",
        "    update(node * 2 + 1, mid + 1, end, index, value)\n",
        "\n",
        "    # 자식 노드들의 값을 이용하여 부모 노드 값 설정\n",
        "    tree[node] = tree[node * 2] * tree[node * 2 + 1]\n",
        "\n",
        "def query(node, start, end, left, right):\n",
        "    if left > end or right < start:\n",
        "        return 1\n",
        "\n",
        "    if left <= start and right >= end:\n",
        "        # 구간에 완전히 포함되는 경우\n",
        "        return tree[node]\n",
        "\n",
        "    # 분할 정복 방식으로 쿼리 진행\n",
        "    mid = (start + end) // 2\n",
        "    left_query = query(node * 2, start, mid, left, right)\n",
        "    right_query = query(node * 2 + 1, mid + 1, end, left, right)\n",
        "\n",
        "    return left_query * right_query\n",
        "\n",
        "while True:\n",
        "    try:\n",
        "        N, K = map(int, input().split())\n",
        "        L = list(map(int, input().split()))\n",
        "        tree = [0] * (4 * N)  # 세그먼트 트리 초기화\n",
        "\n",
        "        init(1, 0, N - 1)  # 세그먼트 트리 초기화\n",
        "\n",
        "        Answer = \"\"\n",
        "\n",
        "        for i in range(K):\n",
        "            Q, A, B = input().split()\n",
        "            A = int(A)\n",
        "            B = int(B)\n",
        "\n",
        "            if Q == \"C\":\n",
        "                update(1, 0, N - 1, A - 1, B)\n",
        "            else:\n",
        "                result = query(1, 0, N - 1, A - 1, B - 1)\n",
        "                if result == 0:\n",
        "                    Answer += \"0\"\n",
        "                elif result > 0:\n",
        "                    Answer += \"+\"\n",
        "                else:\n",
        "                    Answer += \"-\"\n",
        "\n",
        "        print(Answer)\n",
        "\n",
        "    except:\n",
        "        break"
      ]
    },
    {
      "cell_type": "markdown",
      "source": [
        "---"
      ],
      "metadata": {
        "id": "in3Skkoxz9C4"
      }
    },
    {
      "cell_type": "markdown",
      "source": [
        "## CodeTree"
      ],
      "metadata": {
        "id": "C5nc8vqqz910"
      }
    },
    {
      "cell_type": "markdown",
      "source": [
        "### 방향에 맞춰 이동"
      ],
      "metadata": {
        "id": "XYxetbBuz_GS"
      }
    },
    {
      "cell_type": "code",
      "source": [
        "def main():\n",
        "    import sys\n",
        "    input = sys.stdin.read\n",
        "    data = input().strip().split('\\n')\n",
        "\n",
        "    N = int(data[0])\n",
        "    moves = data[1:]\n",
        "\n",
        "    x, y = 0, 0\n",
        "\n",
        "    # 방향에 따른 이동 변화\n",
        "    dx = {'W': (-1, 0), 'E': (1, 0), 'N': (0, 1), 'S': (0, -1)}\n",
        "    dy = {'W': (0, 0), 'E': (0, 0), 'N': (0, 0), 'S': (0, 0)}\n",
        "\n",
        "    for move in moves:\n",
        "        direction, distance = move.split()\n",
        "        distance = int(distance)\n",
        "\n",
        "        dx_change, dy_change = dx[direction]\n",
        "        x += dx_change * distance\n",
        "        y += dy_change * distance\n",
        "\n",
        "    print(x, y)\n",
        "\n",
        "if __name__ == \"__main__\":\n",
        "    main()"
      ],
      "metadata": {
        "id": "-xCMUkUGz_9m"
      },
      "execution_count": null,
      "outputs": []
    }
  ]
}