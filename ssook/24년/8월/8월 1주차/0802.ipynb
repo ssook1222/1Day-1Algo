{
  "nbformat": 4,
  "nbformat_minor": 0,
  "metadata": {
    "colab": {
      "provenance": [],
      "authorship_tag": "ABX9TyP7vE8ikQot/MRdqd2XIGV8",
      "include_colab_link": true
    },
    "kernelspec": {
      "name": "python3",
      "display_name": "Python 3"
    },
    "language_info": {
      "name": "python"
    }
  },
  "cells": [
    {
      "cell_type": "markdown",
      "metadata": {
        "id": "view-in-github",
        "colab_type": "text"
      },
      "source": [
        "<a href=\"https://colab.research.google.com/github/ssook1222/1Day-1Algo/blob/master/ssook/24%EB%85%84/8%EC%9B%94/8%EC%9B%94%201%EC%A3%BC%EC%B0%A8/0802.ipynb\" target=\"_parent\"><img src=\"https://colab.research.google.com/assets/colab-badge.svg\" alt=\"Open In Colab\"/></a>"
      ]
    },
    {
      "cell_type": "markdown",
      "source": [
        "## BoJ"
      ],
      "metadata": {
        "id": "wA7n8eNddyF3"
      }
    },
    {
      "cell_type": "markdown",
      "source": [
        "### 1942"
      ],
      "metadata": {
        "id": "KRQuJcm6dzmh"
      }
    },
    {
      "cell_type": "code",
      "execution_count": null,
      "metadata": {
        "id": "2d0h1VHMdieg"
      },
      "outputs": [],
      "source": [
        "import datetime\n",
        "from datetime import timedelta\n",
        "\n",
        "# 3개의 시간 구간을 처리\n",
        "for i in range(3):\n",
        "    # 시작 시각과 끝나는 시각 입력\n",
        "    start_time, end_time = input().split()\n",
        "\n",
        "    # 시각을 \"hhmmss\" 형태의 정수로 변환\n",
        "    start_time_int = int(start_time.replace(\":\", \"\"))\n",
        "    end_time_int = int(end_time.replace(\":\", \"\"))\n",
        "\n",
        "    # 시작 시각과 끝나는 시각을 시, 분, 초로 분리\n",
        "    start_hour, start_minute, start_second = map(int, start_time.split(\":\"))\n",
        "    end_hour, end_minute, end_second = map(int, end_time.split(\":\"))\n",
        "\n",
        "    # 시작 시각을 datetime 객체로 생성\n",
        "    current_time = datetime.datetime(2021, 1, 1, start_hour, start_minute, start_second)\n",
        "\n",
        "    # 현재 시각을 \"hhmmss\" 형태로 저장\n",
        "    current_time_str = current_time.strftime('%H%M%S')\n",
        "\n",
        "    # 1초씩 증가\n",
        "    one_second = timedelta(seconds=1)\n",
        "\n",
        "    # 3의 배수 개수를 세기 위한 변수\n",
        "    count_of_multiples_of_3 = 0\n",
        "\n",
        "    # 시작 시각이 3의 배수인지 확인\n",
        "    if int(current_time_str) % 3 == 0:\n",
        "        count_of_multiples_of_3 += 1\n",
        "\n",
        "    # 끝나는 시각을 datetime 객체로 생성\n",
        "    end_time_dt = datetime.datetime(2021, 1, 1, end_hour, end_minute, end_second)\n",
        "    end_time_str = end_time_dt.strftime('%H%M%S')\n",
        "\n",
        "    # 시작 시각부터 끝나는 시각까지 1초씩 증가하며 3의 배수 확인\n",
        "    while True:\n",
        "        # 현재 시각이 끝나는 시각과 같으면 종료\n",
        "        if current_time_str == end_time_str:\n",
        "            break\n",
        "\n",
        "        # 1초 증가\n",
        "        current_time += one_second\n",
        "        current_time_str = current_time.strftime('%H%M%S')\n",
        "\n",
        "        # 현재 시각이 3의 배수인지 확인\n",
        "        if int(current_time_str) % 3 == 0:\n",
        "            count_of_multiples_of_3 += 1\n",
        "\n",
        "    # 결과 출력\n",
        "    print(count_of_multiples_of_3)"
      ]
    },
    {
      "cell_type": "markdown",
      "source": [
        "### 2160"
      ],
      "metadata": {
        "id": "7d4KmsMqd0ah"
      }
    },
    {
      "cell_type": "code",
      "source": [
        "import sys\n",
        "input = sys.stdin.readline\n",
        "\n",
        "# 입력받기\n",
        "n = int(input().strip())\n",
        "pictures = []\n",
        "for i in range(n):\n",
        "    picture = [input().rstrip() for _ in range(5)]\n",
        "    pictures.append(picture)\n",
        "\n",
        "# 가장 비슷한 두 그림을 찾기 위한 변수\n",
        "differences = []\n",
        "\n",
        "# 모든 쌍의 그림 비교\n",
        "for i in range(n - 1):\n",
        "    for j in range(i + 1, n):\n",
        "        diff_count = 0\n",
        "        for row in range(5):\n",
        "            for col in range(7):\n",
        "                if pictures[i][row][col] != pictures[j][row][col]:\n",
        "                    diff_count += 1\n",
        "        differences.append((diff_count, i + 1, j + 1))\n",
        "\n",
        "# 가장 작은 차이의 쌍을 찾기\n",
        "result = min(differences)\n",
        "print(result[1], result[2])\n"
      ],
      "metadata": {
        "id": "RgJodm1jd1j-"
      },
      "execution_count": null,
      "outputs": []
    },
    {
      "cell_type": "markdown",
      "source": [
        "---"
      ],
      "metadata": {
        "id": "MvyOLudPd4LQ"
      }
    },
    {
      "cell_type": "markdown",
      "source": [
        "## CodeTree"
      ],
      "metadata": {
        "id": "ErDf6Ar4d4yv"
      }
    },
    {
      "cell_type": "markdown",
      "source": [
        "### 길이 단위 변환하기 2"
      ],
      "metadata": {
        "id": "1-0kwxcLd6G3"
      }
    },
    {
      "cell_type": "code",
      "source": [
        "# 변환 비율\n",
        "YARD_TO_CM = 91.44\n",
        "MILE_TO_CM = 160934\n",
        "\n",
        "# 주어진 값\n",
        "yards = 6.8\n",
        "miles = 0.4\n",
        "\n",
        "# 변환 계산\n",
        "yards_to_cm = yards * YARD_TO_CM\n",
        "miles_to_cm = miles * MILE_TO_CM\n",
        "\n",
        "# 소수 첫째 자리까지 반올림\n",
        "yards_to_cm_rounded = round(yards_to_cm, 1)\n",
        "miles_to_cm_rounded = round(miles_to_cm, 1)\n",
        "\n",
        "# 결과 출력\n",
        "print(f\"{yards}yd = {yards_to_cm_rounded}cm\")\n",
        "print(f\"{miles}mi = {miles_to_cm_rounded}cm\")\n"
      ],
      "metadata": {
        "id": "pDsTrnGEd6wG"
      },
      "execution_count": null,
      "outputs": []
    }
  ]
}