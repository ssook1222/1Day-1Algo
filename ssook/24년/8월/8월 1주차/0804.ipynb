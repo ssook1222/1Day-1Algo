{
  "nbformat": 4,
  "nbformat_minor": 0,
  "metadata": {
    "colab": {
      "provenance": [],
      "authorship_tag": "ABX9TyPBLPLu/9aR77XaNYR9GwV8",
      "include_colab_link": true
    },
    "kernelspec": {
      "name": "python3",
      "display_name": "Python 3"
    },
    "language_info": {
      "name": "python"
    }
  },
  "cells": [
    {
      "cell_type": "markdown",
      "metadata": {
        "id": "view-in-github",
        "colab_type": "text"
      },
      "source": [
        "<a href=\"https://colab.research.google.com/github/ssook1222/1Day-1Algo/blob/master/ssook/24%EB%85%84/8%EC%9B%94/8%EC%9B%94%201%EC%A3%BC%EC%B0%A8/0804.ipynb\" target=\"_parent\"><img src=\"https://colab.research.google.com/assets/colab-badge.svg\" alt=\"Open In Colab\"/></a>"
      ]
    },
    {
      "cell_type": "markdown",
      "source": [
        "## BoJ"
      ],
      "metadata": {
        "id": "wA7n8eNddyF3"
      }
    },
    {
      "cell_type": "markdown",
      "source": [
        "### 2596"
      ],
      "metadata": {
        "id": "KRQuJcm6dzmh"
      }
    },
    {
      "cell_type": "code",
      "execution_count": null,
      "metadata": {
        "id": "2d0h1VHMdieg"
      },
      "outputs": [],
      "source": [
        "if __name__ == '__main__':\n",
        "    n = int(input())\n",
        "    received_message = input()\n",
        "    decoded_letters = []\n",
        "\n",
        "    for i in range(0, n * 6, 6):\n",
        "        decoded_letters.append(received_message[i: i + 6])\n",
        "\n",
        "    encoding_scheme = ['000000', '001111', '010011', '011100', '100110', '101001', '110101', '111010']\n",
        "\n",
        "    decoded_message = ''\n",
        "    unknown_index = 0\n",
        "\n",
        "    for encoded_letter in decoded_letters:\n",
        "        unknown_index = 0\n",
        "        for code in encoding_scheme:\n",
        "            match_count = 0\n",
        "            for bit in range(6):\n",
        "                if encoded_letter[bit] == code[bit]:\n",
        "                    match_count += 1\n",
        "            if match_count >= 5:\n",
        "                decoded_message += chr(encoding_scheme.index(code) + 65)\n",
        "                break\n",
        "            else:\n",
        "                unknown_index += 1\n",
        "        if unknown_index == len(encoding_scheme):\n",
        "            print(decoded_letters.index(encoded_letter) + 1)\n",
        "            quit()\n",
        "    print(decoded_message)\n"
      ]
    },
    {
      "cell_type": "markdown",
      "source": [
        "### 2810"
      ],
      "metadata": {
        "id": "7d4KmsMqd0ah"
      }
    },
    {
      "cell_type": "code",
      "source": [
        "# 입력 받기\n",
        "N = int(input())\n",
        "seats = input()\n",
        "\n",
        "# 'LL' 커플석의 개수를 세기\n",
        "couple_count = seats.count('LL')\n",
        "\n",
        "# 커플석이 1개 이하인 경우, 모든 좌석에 컵홀더를 사용할 수 있다.\n",
        "if couple_count <= 1:\n",
        "    print(len(seats))\n",
        "else:\n",
        "    # 커플석이 여러 개인 경우, 좌석 수에서 커플석의 개수만큼 빼고 +1을 한다.\n",
        "    # 이는 커플석 두 자리에 컵홀더 하나만 필요한 것을 고려한 처리 방식이다.\n",
        "    print(len(seats) - couple_count + 1)\n"
      ],
      "metadata": {
        "id": "RgJodm1jd1j-"
      },
      "execution_count": null,
      "outputs": []
    },
    {
      "cell_type": "markdown",
      "source": [
        "---"
      ],
      "metadata": {
        "id": "MvyOLudPd4LQ"
      }
    },
    {
      "cell_type": "markdown",
      "source": [
        "## CodeTree"
      ],
      "metadata": {
        "id": "ErDf6Ar4d4yv"
      }
    },
    {
      "cell_type": "markdown",
      "source": [
        "### 6가지 관계연산자"
      ],
      "metadata": {
        "id": "1-0kwxcLd6G3"
      }
    },
    {
      "cell_type": "code",
      "source": [
        "# 입력 받기\n",
        "a, b = map(int, input().split())\n",
        "\n",
        "# 각각의 관계 연산에 대해 결과를 계산하고 출력\n",
        "print(1 if a >= b else 0)  # a가 b보다 같거나 큰지\n",
        "print(1 if a > b else 0)   # a가 b보다 큰지\n",
        "print(1 if b >= a else 0)  # b가 a보다 같거나 큰지\n",
        "print(1 if b > a else 0)   # b가 a보다 큰지\n",
        "print(1 if a == b else 0)  # a와 b가 같은지\n",
        "print(1 if a != b else 0)  # a와 b가 다른지\n"
      ],
      "metadata": {
        "id": "pDsTrnGEd6wG"
      },
      "execution_count": null,
      "outputs": []
    }
  ]
}