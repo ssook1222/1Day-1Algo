{
  "nbformat": 4,
  "nbformat_minor": 0,
  "metadata": {
    "colab": {
      "provenance": [],
      "authorship_tag": "ABX9TyNPSkWcTpccX2WxrKszVnUZ",
      "include_colab_link": true
    },
    "kernelspec": {
      "name": "python3",
      "display_name": "Python 3"
    },
    "language_info": {
      "name": "python"
    }
  },
  "cells": [
    {
      "cell_type": "markdown",
      "metadata": {
        "id": "view-in-github",
        "colab_type": "text"
      },
      "source": [
        "<a href=\"https://colab.research.google.com/github/ssook1222/1Day-1Algo/blob/master/ssook/24%EB%85%84/8%EC%9B%94/8%EC%9B%94%201%EC%A3%BC%EC%B0%A8/0801.ipynb\" target=\"_parent\"><img src=\"https://colab.research.google.com/assets/colab-badge.svg\" alt=\"Open In Colab\"/></a>"
      ]
    },
    {
      "cell_type": "markdown",
      "source": [
        "## BoJ"
      ],
      "metadata": {
        "id": "wA7n8eNddyF3"
      }
    },
    {
      "cell_type": "markdown",
      "source": [
        "### 1236"
      ],
      "metadata": {
        "id": "KRQuJcm6dzmh"
      }
    },
    {
      "cell_type": "code",
      "execution_count": null,
      "metadata": {
        "id": "2d0h1VHMdieg"
      },
      "outputs": [],
      "source": [
        "def solve():\n",
        "    n, m = map(int, input().split())\n",
        "    board = []\n",
        "\n",
        "    for _ in range(n):\n",
        "        board.append(input())\n",
        "\n",
        "    additional_guards_row = 0\n",
        "    additional_guards_col = 0\n",
        "\n",
        "    for i in range(n):\n",
        "        if \"X\" not in board[i]:\n",
        "            additional_guards_row += 1\n",
        "\n",
        "    for j in range(m):\n",
        "        if \"X\" not in [board[i][j] for i in range(n)]:\n",
        "            additional_guards_col += 1\n",
        "\n",
        "    result = max(additional_guards_row, additional_guards_col)\n",
        "\n",
        "    print(result)\n",
        "\n",
        "solve()"
      ]
    },
    {
      "cell_type": "markdown",
      "source": [
        "### 1855"
      ],
      "metadata": {
        "id": "7d4KmsMqd0ah"
      }
    },
    {
      "cell_type": "code",
      "source": [
        "from sys import stdin\n",
        "\n",
        "# 열의 개수 (암호화 과정에서 사용된 열의 수)\n",
        "columns = int(stdin.readline().strip())\n",
        "\n",
        "# 암호화된 문자열\n",
        "encrypted_message = stdin.readline().strip()\n",
        "\n",
        "# 행렬을 담을 리스트\n",
        "matrix = []\n",
        "\n",
        "# 암호화된 문자열을 열 단위로 잘라서 행렬에 채워 넣음\n",
        "for i in range(0, len(encrypted_message), columns):\n",
        "    matrix.append(list(encrypted_message[i:i+columns]))\n",
        "\n",
        "# 행의 인덱스가 홀수인 경우 그 행을 반전시킴\n",
        "for i in range(len(matrix)):\n",
        "    if i % 2 != 0:\n",
        "        matrix[i] = list(reversed(matrix[i]))\n",
        "\n",
        "# 결과 문자열을 초기화\n",
        "decrypted_message = ''\n",
        "\n",
        "# 열 우선 순회하면서 원래의 문자열을 복원\n",
        "for j in range(columns):\n",
        "    for i in range(len(matrix)):\n",
        "        decrypted_message += matrix[i][j]\n",
        "\n",
        "# 복원된 원래의 문자열 출력\n",
        "print(decrypted_message)"
      ],
      "metadata": {
        "id": "RgJodm1jd1j-"
      },
      "execution_count": null,
      "outputs": []
    },
    {
      "cell_type": "markdown",
      "source": [
        "---"
      ],
      "metadata": {
        "id": "MvyOLudPd4LQ"
      }
    },
    {
      "cell_type": "markdown",
      "source": [
        "## CodeTree"
      ],
      "metadata": {
        "id": "ErDf6Ar4d4yv"
      }
    },
    {
      "cell_type": "markdown",
      "source": [
        "### 단위 변환하기"
      ],
      "metadata": {
        "id": "1-0kwxcLd6G3"
      }
    },
    {
      "cell_type": "code",
      "source": [
        "# 변환 비율\n",
        "MILES_TO_CM = 160934.40\n",
        "FEET_TO_CM = 30.48\n",
        "\n",
        "# 주어진 값\n",
        "miles = 2.80\n",
        "feet = 128.40\n",
        "\n",
        "# 변환\n",
        "miles_to_cm = miles * MILES_TO_CM\n",
        "feet_to_cm = feet * FEET_TO_CM\n",
        "\n",
        "# 소수 둘째자리까지 반올림\n",
        "miles_to_cm_rounded = round(miles_to_cm, 2)\n",
        "feet_to_cm_rounded = round(feet_to_cm, 2)\n",
        "\n",
        "# 결과 출력\n",
        "print(\"%.2f mi = %.2f\" %(miles, miles_to_cm))\n",
        "print(\"%.2f ft = %.2f\" %(feet, feet_to_cm))"
      ],
      "metadata": {
        "id": "pDsTrnGEd6wG"
      },
      "execution_count": null,
      "outputs": []
    }
  ]
}