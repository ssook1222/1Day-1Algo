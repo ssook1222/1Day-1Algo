{
  "nbformat": 4,
  "nbformat_minor": 0,
  "metadata": {
    "colab": {
      "provenance": [],
      "authorship_tag": "ABX9TyOd1mSKsF8BOUBuTz+B5W5m",
      "include_colab_link": true
    },
    "kernelspec": {
      "name": "python3",
      "display_name": "Python 3"
    },
    "language_info": {
      "name": "python"
    }
  },
  "cells": [
    {
      "cell_type": "markdown",
      "metadata": {
        "id": "view-in-github",
        "colab_type": "text"
      },
      "source": [
        "<a href=\"https://colab.research.google.com/github/ssook1222/1Day-1Algo/blob/master/ssook/24%EB%85%84/8%EC%9B%94/8%EC%9B%94%201%EC%A3%BC%EC%B0%A8/0803.ipynb\" target=\"_parent\"><img src=\"https://colab.research.google.com/assets/colab-badge.svg\" alt=\"Open In Colab\"/></a>"
      ]
    },
    {
      "cell_type": "markdown",
      "source": [
        "## BoJ"
      ],
      "metadata": {
        "id": "wA7n8eNddyF3"
      }
    },
    {
      "cell_type": "markdown",
      "source": [
        "### 2246"
      ],
      "metadata": {
        "id": "KRQuJcm6dzmh"
      }
    },
    {
      "cell_type": "code",
      "execution_count": null,
      "metadata": {
        "id": "2d0h1VHMdieg"
      },
      "outputs": [],
      "source": [
        "condos = []\n",
        "for _ in range(int(input())):\n",
        "    distance, price = map(int, input().split())\n",
        "    condos.append([distance, price])\n",
        "condos.sort()\n",
        "min_price = 10001\n",
        "candidate_count = 0\n",
        "for condo in condos:\n",
        "    current_price = condo[1]\n",
        "    if current_price < min_price:\n",
        "        min_price = current_price\n",
        "        candidate_count += 1\n",
        "print(candidate_count)"
      ]
    },
    {
      "cell_type": "markdown",
      "source": [
        "### 2435"
      ],
      "metadata": {
        "id": "7d4KmsMqd0ah"
      }
    },
    {
      "cell_type": "code",
      "source": [
        "if __name__ == '__main__':\n",
        "    n, k = map(int, input().split())\n",
        "    temperatures = list(map(int, input().split()))\n",
        "\n",
        "    max_sum = -float('inf')  # 임시로 가장 작은 값으로 설정\n",
        "    for i in range(n - k + 1):\n",
        "        current_sum = 0\n",
        "        for j in range(k):\n",
        "            current_sum += temperatures[i + j]\n",
        "        max_sum = max(current_sum, max_sum)\n",
        "    print(max_sum)\n"
      ],
      "metadata": {
        "id": "RgJodm1jd1j-"
      },
      "execution_count": null,
      "outputs": []
    },
    {
      "cell_type": "markdown",
      "source": [
        "---"
      ],
      "metadata": {
        "id": "MvyOLudPd4LQ"
      }
    },
    {
      "cell_type": "markdown",
      "source": [
        "## CodeTree"
      ],
      "metadata": {
        "id": "ErDf6Ar4d4yv"
      }
    },
    {
      "cell_type": "markdown",
      "source": [
        "### 세 수의 합과 평균 구하기 2"
      ],
      "metadata": {
        "id": "1-0kwxcLd6G3"
      }
    },
    {
      "cell_type": "code",
      "source": [
        "# 세 개의 정수를 입력받기\n",
        "x, y, z = map(int, input().split())\n",
        "\n",
        "# 합 계산\n",
        "total_sum = x + y + z\n",
        "\n",
        "# 평균 계산 (소수 이하 버림)\n",
        "average = total_sum // 3\n",
        "\n",
        "# 결과 출력\n",
        "print(f\"avg {average}\")\n",
        "print(f\"sum {total_sum}\")"
      ],
      "metadata": {
        "id": "pDsTrnGEd6wG"
      },
      "execution_count": null,
      "outputs": []
    }
  ]
}