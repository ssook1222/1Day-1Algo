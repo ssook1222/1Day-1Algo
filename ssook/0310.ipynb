{
  "nbformat": 4,
  "nbformat_minor": 0,
  "metadata": {
    "colab": {
      "provenance": []
    },
    "kernelspec": {
      "name": "python3",
      "display_name": "Python 3"
    },
    "language_info": {
      "name": "python"
    }
  },
  "cells": [
    {
      "cell_type": "markdown",
      "source": [
        "## 3월 10일 문제풀이\n",
        "\n",
        "> 브론즈 뽀개기!!!\n",
        "\n",
        "---        \n",
        "\n",
        "`참여자` 최숙"
      ],
      "metadata": {
        "id": "P_WDx-q25nJT"
      }
    },
    {
      "cell_type": "markdown",
      "source": [
        "### 11365\n",
        "\n",
        "[이동하기](https://www.acmicpc.net/problem/11365)"
      ],
      "metadata": {
        "id": "STxApObm5iNC"
      }
    },
    {
      "cell_type": "code",
      "execution_count": null,
      "metadata": {
        "colab": {
          "base_uri": "https://localhost:8080/"
        },
        "id": "iFPbSbks5b3n",
        "outputId": "16e37643-e90e-4aff-984e-9f5ee315d7ab"
      },
      "outputs": [
        {
          "output_type": "stream",
          "name": "stdout",
          "text": [
            "!edoc doog a tahW\n",
            "What a good code!\n"
          ]
        }
      ],
      "source": [
        "while True:\n",
        "  ans = input()\n",
        "  if ans == \"END\" :\n",
        "    break\n",
        "  ans = ans[::-1]\n",
        "  print(ans)\n"
      ]
    }
  ]
}