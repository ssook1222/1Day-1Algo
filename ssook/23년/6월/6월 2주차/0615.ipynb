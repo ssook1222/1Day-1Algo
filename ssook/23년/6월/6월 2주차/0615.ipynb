{
  "nbformat": 4,
  "nbformat_minor": 0,
  "metadata": {
    "colab": {
      "provenance": [],
      "authorship_tag": "ABX9TyNN2tQ8c8Nh7f8+ItpFwWPC",
      "include_colab_link": true
    },
    "kernelspec": {
      "name": "python3",
      "display_name": "Python 3"
    },
    "language_info": {
      "name": "python"
    }
  },
  "cells": [
    {
      "cell_type": "markdown",
      "metadata": {
        "id": "view-in-github",
        "colab_type": "text"
      },
      "source": [
        "<a href=\"https://colab.research.google.com/github/ssook1222/1Day-1Algo/blob/master/ssook/6%EC%9B%94/6%EC%9B%94%202%EC%A3%BC%EC%B0%A8/0615.ipynb\" target=\"_parent\"><img src=\"https://colab.research.google.com/assets/colab-badge.svg\" alt=\"Open In Colab\"/></a>"
      ]
    },
    {
      "cell_type": "markdown",
      "source": [
        "## BoJ\n",
        "---\n",
        "#### 회사 업무 적응 전까지 브론즈만 풀기"
      ],
      "metadata": {
        "id": "NtsQjufSM_Yg"
      }
    },
    {
      "cell_type": "markdown",
      "source": [
        "#### 19532"
      ],
      "metadata": {
        "id": "WAUNMSpANMuS"
      }
    },
    {
      "cell_type": "code",
      "execution_count": null,
      "metadata": {
        "colab": {
          "base_uri": "https://localhost:8080/"
        },
        "id": "Cv6G88FwMueO",
        "outputId": "6a4bb787-3c20-4fa6-e17c-fe729105f7ed"
      },
      "outputs": [
        {
          "output_type": "stream",
          "name": "stdout",
          "text": [
            "1 3 -1 4 1 7\n",
            "2 -1\n"
          ]
        }
      ],
      "source": [
        "a, b, c, d, e, f = map(int, input().split())\n",
        "\n",
        "for i in range(-999, 1000):\n",
        "  for j in range(-999, 1000):\n",
        "    if (a * i) + (b * j) == c and (d* i) + (e * j) == f:\n",
        "      print(i, j)"
      ]
    },
    {
      "cell_type": "markdown",
      "source": [
        "#### 4999"
      ],
      "metadata": {
        "id": "YuOHzlcwL95G"
      }
    },
    {
      "cell_type": "code",
      "source": [
        "jh = input()\n",
        "doctor = input()\n",
        "\n",
        "if len(jh) < len(doctor):\n",
        "  print(\"no\")\n",
        "else:\n",
        "  print(\"go\")"
      ],
      "metadata": {
        "colab": {
          "base_uri": "https://localhost:8080/"
        },
        "id": "VaKvzbOnL-Jo",
        "outputId": "a6d266cf-53ca-4e2b-e5ba-ec7cae134de0"
      },
      "execution_count": 2,
      "outputs": [
        {
          "output_type": "stream",
          "name": "stdout",
          "text": [
            "aaah\n",
            "aaaaah\n",
            "no\n"
          ]
        }
      ]
    },
    {
      "cell_type": "markdown",
      "source": [
        "## Programmers\n",
        "---"
      ],
      "metadata": {
        "id": "TtRM7rNzLpMs"
      }
    },
    {
      "cell_type": "markdown",
      "source": [
        "### 문자열 내 마음대로 정렬하기"
      ],
      "metadata": {
        "id": "IXR371BEKXHg"
      }
    },
    {
      "cell_type": "code",
      "source": [
        "def solution(strings, n):\n",
        "    strings.sort(key = lambda x: (x[n], x))\n",
        "    return strings"
      ],
      "metadata": {
        "id": "zt9GGcbcKXgY"
      },
      "execution_count": null,
      "outputs": []
    }
  ]
}