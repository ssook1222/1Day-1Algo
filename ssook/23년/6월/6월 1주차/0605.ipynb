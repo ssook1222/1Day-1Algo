{
  "nbformat": 4,
  "nbformat_minor": 0,
  "metadata": {
    "colab": {
      "provenance": [],
      "authorship_tag": "ABX9TyNGj6urT3Jy+F48x0dzCY9J",
      "include_colab_link": true
    },
    "kernelspec": {
      "name": "python3",
      "display_name": "Python 3"
    },
    "language_info": {
      "name": "python"
    }
  },
  "cells": [
    {
      "cell_type": "markdown",
      "metadata": {
        "id": "view-in-github",
        "colab_type": "text"
      },
      "source": [
        "<a href=\"https://colab.research.google.com/github/ssook1222/1Day-1Algo/blob/master/ssook/6%EC%9B%94/6%EC%9B%94%201%EC%A3%BC%EC%B0%A8/0605.ipynb\" target=\"_parent\"><img src=\"https://colab.research.google.com/assets/colab-badge.svg\" alt=\"Open In Colab\"/></a>"
      ]
    },
    {
      "cell_type": "markdown",
      "source": [
        "## BoJ"
      ],
      "metadata": {
        "id": "VTr30F_k-VyK"
      }
    },
    {
      "cell_type": "markdown",
      "source": [
        "### 1431"
      ],
      "metadata": {
        "id": "Q11jsUPmy1bC"
      }
    },
    {
      "cell_type": "code",
      "execution_count": null,
      "metadata": {
        "colab": {
          "base_uri": "https://localhost:8080/"
        },
        "id": "t4vWukwByBRJ",
        "outputId": "66ee7b29-12e6-4fa6-d882-4f756e9c3b77"
      },
      "outputs": [
        {
          "output_type": "stream",
          "name": "stdout",
          "text": [
            "2\n",
            "Z19\n",
            "Z20\n",
            "Z20\n",
            "Z19\n"
          ]
        }
      ],
      "source": [
        "import sys\n",
        "\n",
        "def n_sum(n):\n",
        "  res = 0\n",
        "  for i in n:\n",
        "    if i.isdigit():\n",
        "      res += int(i)\n",
        "  return res\n",
        "\n",
        "n = int(sys.stdin.readline().strip())\n",
        "word = []\n",
        "\n",
        "for i in range(n):\n",
        "  word.append(sys.stdin.readline().strip())\n",
        "\n",
        "word.sort(key = lambda x:(len(x), n_sum(x), x))\n",
        "\n",
        "for wr in word:\n",
        "  print(wr)"
      ]
    },
    {
      "cell_type": "markdown",
      "source": [
        "### 12904"
      ],
      "metadata": {
        "id": "7HMjqRcg1JQj"
      }
    },
    {
      "cell_type": "code",
      "source": [
        "import sys\n",
        "\n",
        "s = list(sys.stdin.readline().strip())\n",
        "t = list(sys.stdin.readline().strip())\n",
        "check = False\n",
        "\n",
        "while len(t) > 0:\n",
        "  if t[-1] == 'A':\n",
        "    t.pop()\n",
        "  elif t[-1] == 'B':\n",
        "    t.pop()\n",
        "    t.reverse()\n",
        "  \n",
        "  if s == t:\n",
        "    check = True\n",
        "    break\n",
        "\n",
        "if check:\n",
        "  print(1)\n",
        "else:\n",
        "  print(0)\n"
      ],
      "metadata": {
        "colab": {
          "base_uri": "https://localhost:8080/"
        },
        "id": "yPgVFoHB6LjD",
        "outputId": "5cd13fc8-d381-4cd9-bb6a-18b21f4ae46c"
      },
      "execution_count": null,
      "outputs": [
        {
          "output_type": "stream",
          "name": "stdout",
          "text": [
            "AB\n",
            "ABB\n",
            "0\n"
          ]
        }
      ]
    },
    {
      "cell_type": "markdown",
      "source": [
        "### 11404"
      ],
      "metadata": {
        "id": "MwuCXPAkkDKc"
      }
    },
    {
      "cell_type": "code",
      "source": [
        "max_num = int(1e9)\n",
        "\n",
        "#노드 수\n",
        "n = int(input())\n",
        "#간선 수\n",
        "m = int(input())\n",
        "\n",
        "#일단 그래프의 모든 부분에 무한을 할당\n",
        "graph = [[max_num]*(n+1) for _ in range(n+1)]\n",
        "\n",
        "#자기 자신에서 자기 자신으로 가는 비용은 0으로 초기화\n",
        "for a in range(1, n+1):\n",
        "  for b in range(1, n+1):\n",
        "    if a == b:\n",
        "      graph[a][b] = 0\n",
        "\n",
        "#각 간선에 대한 정보를 입력 받아 그 값으로 초기화\n",
        "for _ in range(m):\n",
        "  a, b, c = map(int, input().split())\n",
        "  #a에서 b로 가는 비용은 c와 graph[a][b] 중 가장 작은 값으로 설정\n",
        "  graph[a][b] = min(c, graph[a][b])\n",
        "\n",
        "# 점화식에 따라 플로이드 워셜 알고리즘을 수행\n",
        "for k in range(1, n + 1):\n",
        "    for a in range(1, n + 1):\n",
        "        for b in range(1, n + 1):\n",
        "            graph[a][b] = min(graph[a][b], graph[a][k] + graph[k][b])\n",
        "\n",
        "# 수행된 결과를 출력\n",
        "for a in range(1, n + 1):\n",
        "    for b in range(1, n + 1):\n",
        "        # 도달할 수 없는 경우, 0으로 출력\n",
        "        if graph[a][b] == 1e9:\n",
        "            print(\"0\", end=\" \")\n",
        "        # 도달할 수 있는 경우 거리를 출력\n",
        "        else:\n",
        "            print(graph[a][b], end=\" \")\n",
        "    print()"
      ],
      "metadata": {
        "colab": {
          "base_uri": "https://localhost:8080/"
        },
        "id": "Zd6_4uTYk07u",
        "outputId": "99282e6a-09cd-4d4f-bb91-abb00fc0f8c7"
      },
      "execution_count": 1,
      "outputs": [
        {
          "output_type": "stream",
          "name": "stdout",
          "text": [
            "5\n",
            "14\n",
            "1 2 2\n",
            "1 3 3\n",
            "1 4 1\n",
            "1 5 10\n",
            "2 4 2\n",
            "3 4 1\n",
            "3 5 1\n",
            "4 5 3\n",
            "3 5 19\n",
            "3 1 8\n",
            "1 4 2\n",
            "5 1 7\n",
            "3 4 2\n",
            "5 2 4\n",
            "0 2 3 2 5 \n",
            "12 0 15 2 5 \n",
            "8 9 0 2 5 \n",
            "10 7 13 0 3 \n",
            "7 4 10 6 0 \n"
          ]
        }
      ]
    },
    {
      "cell_type": "markdown",
      "source": [
        "### 플로이드 - 워셜 알고리즘\n",
        "\n",
        "- 모든 노드에서 다른 모든 노드까지의 최단 경로를 모두 계산\n",
        "- 다익스트라처럼 거쳐가는 노드를 기준으로 알고리즘으로 수행\n",
        "- 2차원 테이블에 최단 거리 정보를 저장\n",
        "- 각 단마다 특정한 노드 k를 거쳐가는 경우를 확인        \n",
        "`𝑎에서 𝑏로 가는 최단 거리보다 𝑎에서 𝑘를 거쳐 𝑏로 가는 거리가 더 짧은지 검사`\n",
        "\n",
        "- 점화식은 아래와 같음   \n",
        "\n",
        "![image.png](data:image/png;base64,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)\n"
      ],
      "metadata": {
        "id": "j7cCDJibkDtc"
      }
    },
    {
      "cell_type": "markdown",
      "source": [
        "### 11403"
      ],
      "metadata": {
        "id": "CkOPgnNBoZI4"
      }
    },
    {
      "cell_type": "code",
      "source": [
        "#노드 수\n",
        "n = int(input())\n",
        "\n",
        "#일단 그래프의 모든 부분에 값을 할당하며 초기화\n",
        "graph = []\n",
        "\n",
        "for i in range(n):\n",
        "  graph.append(list(map(int, input().split(\" \"))))\n",
        "\n",
        "# 점화식에 따라 플로이드 워셜 알고리즘을 수행\n",
        "for k in range(n):\n",
        "    for a in range(n):\n",
        "        for b in range(n):\n",
        "            if graph[a][b] == 1 or (graph[a][k] == 1 and graph[k][b] == 1):\n",
        "              graph[a][b] = 1\n",
        "\n",
        "for a in range(n):\n",
        "    for b in range(n):\n",
        "            print(graph[a][b], end=\" \")\n",
        "    print()"
      ],
      "metadata": {
        "colab": {
          "base_uri": "https://localhost:8080/"
        },
        "id": "qcTbVespoZbV",
        "outputId": "a3573168-7cf5-41b3-bcd0-644f89f5563f"
      },
      "execution_count": 5,
      "outputs": [
        {
          "output_type": "stream",
          "name": "stdout",
          "text": [
            "3\n",
            "0 1 0\n",
            "0 0 1\n",
            "1 0 0\n",
            "1 1 1 \n",
            "1 1 1 \n",
            "1 1 1 \n"
          ]
        }
      ]
    },
    {
      "cell_type": "markdown",
      "source": [
        "---"
      ],
      "metadata": {
        "id": "HFmeSeXw-TL5"
      }
    },
    {
      "cell_type": "markdown",
      "source": [
        "## Programmers"
      ],
      "metadata": {
        "id": "iMy0bzcw-Usj"
      }
    },
    {
      "cell_type": "markdown",
      "source": [
        "### 수박수박수박수박수박수?"
      ],
      "metadata": {
        "id": "GOmFV43A-Y9l"
      }
    },
    {
      "cell_type": "code",
      "source": [
        "def solution(n):\n",
        "    answer = ''\n",
        "    \n",
        "    for i in range(1, n+1):\n",
        "        if i % 2 == 0:\n",
        "            answer += '박'\n",
        "        else:\n",
        "            answer += '수'\n",
        "    \n",
        "    return answer"
      ],
      "metadata": {
        "id": "PhEt2UuD-ZSY"
      },
      "execution_count": null,
      "outputs": []
    }
  ]
}