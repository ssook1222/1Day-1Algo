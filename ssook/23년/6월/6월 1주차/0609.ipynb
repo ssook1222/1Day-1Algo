{
  "nbformat": 4,
  "nbformat_minor": 0,
  "metadata": {
    "colab": {
      "provenance": [],
      "authorship_tag": "ABX9TyPjRAQX2glyglnvRmdXrp6v",
      "include_colab_link": true
    },
    "kernelspec": {
      "name": "python3",
      "display_name": "Python 3"
    },
    "language_info": {
      "name": "python"
    }
  },
  "cells": [
    {
      "cell_type": "markdown",
      "metadata": {
        "id": "view-in-github",
        "colab_type": "text"
      },
      "source": [
        "<a href=\"https://colab.research.google.com/github/ssook1222/1Day-1Algo/blob/master/ssook/6%EC%9B%94/6%EC%9B%94%201%EC%A3%BC%EC%B0%A8/0609.ipynb\" target=\"_parent\"><img src=\"https://colab.research.google.com/assets/colab-badge.svg\" alt=\"Open In Colab\"/></a>"
      ]
    },
    {
      "cell_type": "markdown",
      "source": [
        "## BoJ"
      ],
      "metadata": {
        "id": "NTXDXXZYYbBG"
      }
    },
    {
      "cell_type": "markdown",
      "source": [
        "### 15665"
      ],
      "metadata": {
        "id": "D1YkAq5zYhsV"
      }
    },
    {
      "cell_type": "code",
      "execution_count": 9,
      "metadata": {
        "colab": {
          "base_uri": "https://localhost:8080/"
        },
        "id": "hgyCpL7NYBpi",
        "outputId": "89a0cae6-4bc7-41d5-953b-34460ca7b314"
      },
      "outputs": [
        {
          "output_type": "stream",
          "name": "stdout",
          "text": [
            "4 2\n",
            "9 7 9 1\n",
            "1 1\n",
            "1 7\n",
            "1 9\n",
            "7 1\n",
            "7 7\n",
            "7 9\n",
            "9 1\n",
            "9 7\n",
            "9 9\n"
          ]
        }
      ],
      "source": [
        "import itertools\n",
        "\n",
        "n, m = map(int, input().split(\" \"))\n",
        "num_list = list(set(map(int, input().split(\" \"))))\n",
        "\n",
        "num_list.sort()\n",
        "\n",
        "data = itertools.product(num_list, repeat = m)\n",
        "for i in data:\n",
        "  print(*i)\n"
      ]
    },
    {
      "cell_type": "markdown",
      "source": [
        "### 2468"
      ],
      "metadata": {
        "id": "l1hhvimvaDGU"
      }
    },
    {
      "cell_type": "code",
      "source": [
        "import sys\n",
        "\n",
        "sys.setrecursionlimit(10 ** 8)\n",
        "\n",
        "n = int(input())\n",
        "\n",
        "graph = []\n",
        "visited = [ [False] * (n) for _ in range(n)]\n",
        "\n",
        "for _ in range(n):\n",
        "  graph.append(list(map(int, input().split(\" \"))))\n",
        "\n",
        "min_value = min(map(min, graph))\n",
        "max_value = max(map(max, graph))\n",
        "\n",
        "max_area = 1 \n",
        "\n",
        "def dfs(x, y, height):\n",
        "  visited[x][y] = True\n",
        "\n",
        "  dx = [0, 1, 0, -1]\n",
        "  dy = [1, 0, -1, 0]\n",
        "\n",
        "  for i in range(4):\n",
        "    nx = x + dx[i]\n",
        "    ny = y + dy[i]\n",
        "\n",
        "  if ( 0 <= nx < n ) and ( 0 <= ny < n ):\n",
        "    if visited[nx][ny] == False and graph[nx][ny] > height:\n",
        "      dfs(nx, ny, height)\n",
        "\n",
        "for height in range(min_value, max_value+1):\n",
        "  visited = [ [False] * (n) for _ in range(n)]\n",
        "  area_count = 0\n",
        "\n",
        "  for x in range(n):\n",
        "    for y in range(n):\n",
        "      if not visited[i][j] and graph[i][j] > height:\n",
        "        dfs(x, y, height)\n",
        "        area_count += 1\n",
        "\n",
        "max_area = max(max_area, area_count)\n",
        "\n",
        "print(max_area)"
      ],
      "metadata": {
        "colab": {
          "base_uri": "https://localhost:8080/"
        },
        "id": "YjaCbAoHaDVW",
        "outputId": "36c036c3-be81-4015-fea2-1862bdd45192"
      },
      "execution_count": 13,
      "outputs": [
        {
          "output_type": "stream",
          "name": "stdout",
          "text": [
            "5\n",
            "6 8 2 6 2\n",
            "3 2 3 4 6\n",
            "6 7 3 3 2\n",
            "7 2 5 3 6\n",
            "8 9 5 2 7\n",
            "0\n"
          ]
        }
      ]
    },
    {
      "cell_type": "markdown",
      "source": [
        "### 24482"
      ],
      "metadata": {
        "id": "bvKOmjPl23Kj"
      }
    },
    {
      "cell_type": "code",
      "source": [
        "import sys\n",
        "\n",
        "sys.setrecursionlimit(10**8)\n",
        "\n",
        "n, m, r = map(int, sys.stdin.readline().strip().split())\n",
        "\n",
        "graph = [[] for i in range(n+1)]\n",
        "visited = [-1] * (n+1)\n",
        "\n",
        "for i in range(m):\n",
        "  u, v = map(int, sys.stdin.readline().strip().split())\n",
        "  graph[u].append(v)\n",
        "  graph[v].append(u)\n",
        "\n",
        "def dfs(n):\n",
        "  graph[n].sort(reverse = True)\n",
        "\n",
        "  for i in graph[n]:\n",
        "    if visited[i] == -1:\n",
        "      visited[i] = visited[n] + 1\n",
        "      dfs(i)\n",
        "\n",
        "visited[r] = 0\n",
        "dfs(r)\n",
        "\n",
        "for i in visited[1:]:\n",
        "  print(i)"
      ],
      "metadata": {
        "colab": {
          "base_uri": "https://localhost:8080/"
        },
        "id": "3_Vuq8zVi1Hj",
        "outputId": "9ed95e5b-1e69-46a7-aea4-503f38a4f26d"
      },
      "execution_count": 7,
      "outputs": [
        {
          "output_type": "stream",
          "name": "stdout",
          "text": [
            "5 5 1\n",
            "1 4\n",
            "1 2\n",
            "2 3\n",
            "2 4\n",
            "3 4\n",
            "0\n",
            "3\n",
            "2\n",
            "1\n",
            "-1\n"
          ]
        }
      ]
    },
    {
      "cell_type": "markdown",
      "source": [
        "## Programmers"
      ],
      "metadata": {
        "id": "1VqQC-cOYdhU"
      }
    },
    {
      "cell_type": "markdown",
      "source": [
        "### 행렬의 덧셈"
      ],
      "metadata": {
        "id": "8lDeyySZ-i-z"
      }
    },
    {
      "cell_type": "code",
      "source": [
        "def solution(arr1, arr2):\n",
        "    answer = []\n",
        "    \n",
        "    for i in range(len(arr1)):\n",
        "        row = []\n",
        "        for j in range(len(arr1[i])):\n",
        "            row.append(arr1[i][j] + arr2[i][j])\n",
        "        answer.append(row)\n",
        "            \n",
        "    \n",
        "    return answer"
      ],
      "metadata": {
        "id": "d34YU22l8dTt"
      },
      "execution_count": 7,
      "outputs": []
    },
    {
      "cell_type": "markdown",
      "source": [
        "### 최대공약수와 최소공배수"
      ],
      "metadata": {
        "id": "SUgpOjn_YEx0"
      }
    },
    {
      "cell_type": "code",
      "source": [
        "def gcd(a, b):\n",
        "    while b != 0:\n",
        "        a, b = b, a % b\n",
        "    return a\n",
        "\n",
        "def lcm(a, b):\n",
        "    return abs(a * b) // gcd(a, b)\n",
        "\n",
        "def solution(n, m):\n",
        "    return [gcd(n, m), lcm(n, m)]"
      ],
      "metadata": {
        "id": "rbomkdwg8dnR"
      },
      "execution_count": null,
      "outputs": []
    }
  ]
}