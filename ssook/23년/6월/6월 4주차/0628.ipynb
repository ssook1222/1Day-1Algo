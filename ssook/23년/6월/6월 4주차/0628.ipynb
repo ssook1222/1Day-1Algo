{
  "nbformat": 4,
  "nbformat_minor": 0,
  "metadata": {
    "colab": {
      "provenance": [],
      "authorship_tag": "ABX9TyPmtrD9sQqF0w821JVEiCfZ",
      "include_colab_link": true
    },
    "kernelspec": {
      "name": "python3",
      "display_name": "Python 3"
    },
    "language_info": {
      "name": "python"
    }
  },
  "cells": [
    {
      "cell_type": "markdown",
      "metadata": {
        "id": "view-in-github",
        "colab_type": "text"
      },
      "source": [
        "<a href=\"https://colab.research.google.com/github/ssook1222/1Day-1Algo/blob/master/ssook/6%EC%9B%94/6%EC%9B%94%204%EC%A3%BC%EC%B0%A8/0628.ipynb\" target=\"_parent\"><img src=\"https://colab.research.google.com/assets/colab-badge.svg\" alt=\"Open In Colab\"/></a>"
      ]
    },
    {
      "cell_type": "markdown",
      "source": [
        "## BoJ"
      ],
      "metadata": {
        "id": "Ui4rTjjGMyEE"
      }
    },
    {
      "cell_type": "markdown",
      "source": [
        "### 24445"
      ],
      "metadata": {
        "id": "FDPUWRYBLw9U"
      }
    },
    {
      "cell_type": "code",
      "execution_count": 3,
      "metadata": {
        "colab": {
          "base_uri": "https://localhost:8080/"
        },
        "id": "Q7RPxyjMLfOA",
        "outputId": "5c05893c-438d-43da-9082-4991d10861db"
      },
      "outputs": [
        {
          "output_type": "stream",
          "name": "stdout",
          "text": [
            "5 5 1\n",
            "1 4\n",
            "1 2\n",
            "2 3\n",
            "2 4\n",
            "3 4\n",
            "1\n",
            "3\n",
            "4\n",
            "2\n",
            "0\n"
          ]
        }
      ],
      "source": [
        "import sys\n",
        "from collections import deque\n",
        "\n",
        "n, m, r = map(int, sys.stdin.readline().rstrip().split(\" \"))\n",
        "\n",
        "visited = [0] * (n+1)\n",
        "graph = [[] for _ in range(n+1)]\n",
        "\n",
        "cnt = 1\n",
        "\n",
        "for _ in range(m):\n",
        "  u, v = map(int, sys.stdin.readline().rstrip().split(\" \"))\n",
        "  graph[u].append(v)\n",
        "  graph[v].append(u)\n",
        "\n",
        "def bfs(n):\n",
        "\n",
        "  global cnt\n",
        "\n",
        "  q = deque([n])\n",
        "  visited[n] = 1\n",
        "\n",
        "  while q:\n",
        "    nodes = q.popleft()\n",
        "    graph[nodes].sort(reverse = True)\n",
        "\n",
        "    for node in graph[nodes]:\n",
        "      if visited[node] == 0:\n",
        "        cnt += 1\n",
        "        visited[node] = cnt\n",
        "        q.append(node)\n",
        "\n",
        "bfs(r)\n",
        "\n",
        "for v in visited[1:] :\n",
        "  print(v)"
      ]
    },
    {
      "cell_type": "markdown",
      "source": [
        "### 1932"
      ],
      "metadata": {
        "id": "-LZ4LOq_MzyP"
      }
    },
    {
      "cell_type": "code",
      "source": [
        "import sys\n",
        "\n",
        "n = int(sys.stdin.readline().rstrip())\n",
        "triangle = []\n",
        "for _ in range(n):\n",
        "    triangle.append(list(map(int, sys.stdin.readline().rstrip().split())))\n",
        "\n",
        "dp = [[0] * n for _ in range(n)]\n",
        "\n",
        "dp[0][0] = triangle[0][0]\n",
        "\n",
        "for i in range(1, n):\n",
        "    dp[i][0] = dp[i-1][0] + triangle[i][0]\n",
        "    dp[i][i] = dp[i-1][i-1] + triangle[i][i]\n",
        "\n",
        "    for j in range(1, i):\n",
        "        dp[i][j] = max(dp[i-1][j-1], dp[i-1][j]) + triangle[i][j]\n",
        "\n",
        "max_sum = max(dp[n-1])\n",
        "\n",
        "print(max_sum)"
      ],
      "metadata": {
        "colab": {
          "base_uri": "https://localhost:8080/"
        },
        "id": "9cb2_cUeM0BA",
        "outputId": "d3800965-73e4-4249-c2b1-017bc5a2a783"
      },
      "execution_count": 4,
      "outputs": [
        {
          "output_type": "stream",
          "name": "stdout",
          "text": [
            "5\n",
            "7\n",
            "3 8\n",
            "8 1 0\n",
            "2 7 4 4\n",
            "4 5 2 6 5\n",
            "30\n"
          ]
        }
      ]
    },
    {
      "cell_type": "markdown",
      "source": [
        "---"
      ],
      "metadata": {
        "id": "ySbt7uUxPkbQ"
      }
    },
    {
      "cell_type": "markdown",
      "source": [
        "## Programmers"
      ],
      "metadata": {
        "id": "cLgx1mZqPtIA"
      }
    },
    {
      "cell_type": "markdown",
      "source": [
        "### 옹알이 (2)"
      ],
      "metadata": {
        "id": "Wxl98wVvPulH"
      }
    },
    {
      "cell_type": "code",
      "source": [
        "def solution(babbling):\n",
        "    answer = 0\n",
        "    able = [\"aya\", \"ye\", \"woo\", \"ma\"]\n",
        "\n",
        "    for word in babbling:\n",
        "        for text in able:\n",
        "            if text*2 not in word:\n",
        "                word = word.replace(text, ' ')\n",
        "\n",
        "        if word.strip() == '':\n",
        "            answer += 1\n",
        "\n",
        "    return answer"
      ],
      "metadata": {
        "id": "_wBmVnt9Puzn"
      },
      "execution_count": null,
      "outputs": []
    }
  ]
}