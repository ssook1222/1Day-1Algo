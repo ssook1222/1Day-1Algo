{
  "nbformat": 4,
  "nbformat_minor": 0,
  "metadata": {
    "colab": {
      "provenance": [],
      "authorship_tag": "ABX9TyNZEJxoUXXqBjB5N5HZGrDY",
      "include_colab_link": true
    },
    "kernelspec": {
      "name": "python3",
      "display_name": "Python 3"
    },
    "language_info": {
      "name": "python"
    }
  },
  "cells": [
    {
      "cell_type": "markdown",
      "metadata": {
        "id": "view-in-github",
        "colab_type": "text"
      },
      "source": [
        "<a href=\"https://colab.research.google.com/github/ssook1222/1Day-1Algo/blob/master/ssook/6%EC%9B%94/6%EC%9B%94%203%EC%A3%BC%EC%B0%A8/0626.ipynb\" target=\"_parent\"><img src=\"https://colab.research.google.com/assets/colab-badge.svg\" alt=\"Open In Colab\"/></a>"
      ]
    },
    {
      "cell_type": "markdown",
      "source": [
        "## BoJ"
      ],
      "metadata": {
        "id": "TQLSSxp87Laq"
      }
    },
    {
      "cell_type": "markdown",
      "source": [
        "### 24444"
      ],
      "metadata": {
        "id": "_9vJZYr2vPY4"
      }
    },
    {
      "cell_type": "code",
      "execution_count": null,
      "metadata": {
        "colab": {
          "base_uri": "https://localhost:8080/"
        },
        "id": "rSN1LcED5l7W",
        "outputId": "1e983219-e2c2-4b7f-bbc1-a396e1ee3a01"
      },
      "outputs": [
        {
          "output_type": "stream",
          "name": "stdout",
          "text": [
            "5 5 1\n",
            "1 4\n",
            "1 2\n",
            "2 3\n",
            "2 4\n",
            "3 4\n",
            "1\n",
            "2\n",
            "4\n",
            "3\n",
            "0\n"
          ]
        }
      ],
      "source": [
        "from collections import deque\n",
        "\n",
        "n, m, r = map(int, input().split(\" \"))\n",
        "\n",
        "visited = [0] * (n+1)\n",
        "graph = [[] for _ in range(n+1)]\n",
        "\n",
        "cnt = 1\n",
        "\n",
        "for _ in range(m):\n",
        "  u, v = map(int, input().split(\" \"))\n",
        "  graph[u].append(v)\n",
        "  graph[v].append(u)\n",
        "\n",
        "def bfs(n):\n",
        "\n",
        "  global cnt\n",
        "\n",
        "  q = deque([n])\n",
        "  visited[n] = 1\n",
        "\n",
        "  while q:\n",
        "    nodes = q.popleft()\n",
        "    graph[nodes].sort()\n",
        "\n",
        "    for node in graph[nodes]:\n",
        "      if visited[node] == 0:\n",
        "        cnt += 1\n",
        "        visited[node] = cnt\n",
        "        q.append(node)\n",
        "\n",
        "bfs(r)\n",
        "\n",
        "for v in visited[1:] :\n",
        "  print(v)"
      ]
    },
    {
      "cell_type": "markdown",
      "source": [
        "### 1977"
      ],
      "metadata": {
        "id": "u-Yinprtur4F"
      }
    },
    {
      "cell_type": "code",
      "source": [
        "import math\n",
        "\n",
        "def sqn(m, n):\n",
        "  nums = []\n",
        "  for i in range(m, n+1):\n",
        "    if math.sqrt(i).is_integer():\n",
        "      nums.append(i)\n",
        "  return nums\n",
        "\n",
        "m = int(input())\n",
        "n = int(input())\n",
        "\n",
        "num = sqn(m, n)\n",
        "\n",
        "if num:\n",
        "  print(sum(num))\n",
        "  print(min(num))\n",
        "else:\n",
        "  print(-1)"
      ],
      "metadata": {
        "colab": {
          "base_uri": "https://localhost:8080/"
        },
        "id": "nkpkyUkQusLy",
        "outputId": "2f69ede6-4866-4221-ac6c-860e8de2d651"
      },
      "execution_count": 4,
      "outputs": [
        {
          "output_type": "stream",
          "name": "stdout",
          "text": [
            "60\n",
            "100\n",
            "245\n",
            "64\n"
          ]
        }
      ]
    },
    {
      "cell_type": "markdown",
      "source": [
        "---"
      ],
      "metadata": {
        "id": "jSNKBJzJusi3"
      }
    },
    {
      "cell_type": "markdown",
      "source": [
        "## Programmers"
      ],
      "metadata": {
        "id": "ys23IVeNwnJZ"
      }
    },
    {
      "cell_type": "markdown",
      "source": [
        "### 숫자 문자열과 영단어\n"
      ],
      "metadata": {
        "id": "CmAWTCSdutkh"
      }
    },
    {
      "cell_type": "code",
      "source": [
        "def solution(s):\n",
        "    numbers = {\n",
        "        \"zero\": \"0\",\n",
        "        \"one\": \"1\",\n",
        "        \"two\": \"2\",\n",
        "        \"three\": \"3\",\n",
        "        \"four\": \"4\",\n",
        "        \"five\": \"5\",\n",
        "        \"six\": \"6\",\n",
        "        \"seven\": \"7\",\n",
        "        \"eight\": \"8\",\n",
        "        \"nine\": \"9\"\n",
        "    }\n",
        "\n",
        "    answer = \"\"\n",
        "    word = \"\"\n",
        "    for c in s:\n",
        "        if c.isdigit():\n",
        "            answer += c\n",
        "        else:\n",
        "            word += c\n",
        "            if word in numbers:\n",
        "                answer += numbers[word]\n",
        "                word = \"\"\n",
        "\n",
        "    return int(answer)"
      ],
      "metadata": {
        "id": "XAZgOPIautz7"
      },
      "execution_count": null,
      "outputs": []
    }
  ]
}