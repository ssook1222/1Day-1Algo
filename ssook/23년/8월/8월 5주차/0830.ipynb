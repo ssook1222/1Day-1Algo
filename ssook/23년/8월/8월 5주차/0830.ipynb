{
  "nbformat": 4,
  "nbformat_minor": 0,
  "metadata": {
    "colab": {
      "provenance": [],
      "authorship_tag": "ABX9TyMnspeapG9Vl2dPpd89NBZw",
      "include_colab_link": true
    },
    "kernelspec": {
      "name": "python3",
      "display_name": "Python 3"
    },
    "language_info": {
      "name": "python"
    }
  },
  "cells": [
    {
      "cell_type": "markdown",
      "metadata": {
        "id": "view-in-github",
        "colab_type": "text"
      },
      "source": [
        "<a href=\"https://colab.research.google.com/github/ssook1222/1Day-1Algo/blob/master/ssook/8%EC%9B%94/8%EC%9B%94%205%EC%A3%BC%EC%B0%A8/0830.ipynb\" target=\"_parent\"><img src=\"https://colab.research.google.com/assets/colab-badge.svg\" alt=\"Open In Colab\"/></a>"
      ]
    },
    {
      "cell_type": "markdown",
      "source": [
        "## BoJ"
      ],
      "metadata": {
        "id": "Ko1Ddo4MpItL"
      }
    },
    {
      "cell_type": "markdown",
      "source": [
        "### 7595"
      ],
      "metadata": {
        "id": "lGwAoNlDpK4e"
      }
    },
    {
      "cell_type": "code",
      "execution_count": 1,
      "metadata": {
        "colab": {
          "base_uri": "https://localhost:8080/"
        },
        "id": "QjSJ84xso-dU",
        "outputId": "c29724e0-dcbd-424d-d5b6-9d811cdbfba5"
      },
      "outputs": [
        {
          "name": "stdout",
          "output_type": "stream",
          "text": [
            "5\n",
            "*\n",
            "**\n",
            "***\n",
            "****\n",
            "*****\n",
            "3\n",
            "*\n",
            "**\n",
            "***\n",
            "2\n",
            "*\n",
            "**\n",
            "7\n",
            "*\n",
            "**\n",
            "***\n",
            "****\n",
            "*****\n",
            "******\n",
            "*******\n",
            "0\n"
          ]
        }
      ],
      "source": [
        "while True:\n",
        "  n = int(input())\n",
        "\n",
        "  if n == 0:\n",
        "     break\n",
        "\n",
        "  for i in range(1, n+1):\n",
        "    print('*'*i)"
      ]
    },
    {
      "cell_type": "markdown",
      "source": [
        "### 18110"
      ],
      "metadata": {
        "id": "65Lb6QMdpLU6"
      }
    },
    {
      "cell_type": "code",
      "source": [
        "import sys\n",
        "\n",
        "def round_it(n):\n",
        "  return int(n+1) if n-int(n)>=0.5 else int(n)\n",
        "\n",
        "raw_n = int(sys.stdin.readline().rstrip())\n",
        "\n",
        "if not raw_n:\n",
        "    print(0)\n",
        "\n",
        "else:\n",
        "    n = round_it((raw_n*0.15))\n",
        "\n",
        "    raw_score = [ int(sys.stdin.readline().rstrip()) for _ in range(raw_n) ]\n",
        "    raw_score.sort()\n",
        "\n",
        "    score = raw_score[0+n:len(raw_score)-n]\n",
        "    print(round_it(sum(score)/len(score)))"
      ],
      "metadata": {
        "colab": {
          "base_uri": "https://localhost:8080/"
        },
        "id": "TsUqqOR6pNF-",
        "outputId": "38a141f3-7748-41e9-8d5a-33011e41ed16"
      },
      "execution_count": 15,
      "outputs": [
        {
          "output_type": "stream",
          "name": "stdout",
          "text": [
            "10\n",
            "1\n",
            "13\n",
            "12\n",
            "15\n",
            "3\n",
            "16\n",
            "13\n",
            "12\n",
            "14\n",
            "15\n",
            "13\n"
          ]
        }
      ]
    },
    {
      "cell_type": "markdown",
      "source": [
        "---"
      ],
      "metadata": {
        "id": "zeagLWxVpNYC"
      }
    },
    {
      "cell_type": "markdown",
      "source": [
        "## LeetCode"
      ],
      "metadata": {
        "id": "5t571H2kuyZe"
      }
    },
    {
      "cell_type": "markdown",
      "source": [
        "### 1512. Number of Good Pairs"
      ],
      "metadata": {
        "id": "c5haJgApvuJL"
      }
    },
    {
      "cell_type": "code",
      "source": [
        "class Solution:\n",
        "    def numIdenticalPairs(self, nums: List[int]) -> int:\n",
        "        cnt = 0\n",
        "        for i in range(len(nums)):\n",
        "            for j in range(len(nums)):\n",
        "                if nums[i] == nums[j] and i<j:\n",
        "                    cnt += 1\n",
        "        return cnt"
      ],
      "metadata": {
        "id": "XxQLFKihuykI"
      },
      "execution_count": null,
      "outputs": []
    }
  ]
}