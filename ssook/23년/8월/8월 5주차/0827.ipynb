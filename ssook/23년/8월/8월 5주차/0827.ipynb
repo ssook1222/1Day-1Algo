{
  "nbformat": 4,
  "nbformat_minor": 0,
  "metadata": {
    "colab": {
      "provenance": [],
      "authorship_tag": "ABX9TyMKTFwQ+kdl1T9T0IAbkuE1",
      "include_colab_link": true
    },
    "kernelspec": {
      "name": "python3",
      "display_name": "Python 3"
    },
    "language_info": {
      "name": "python"
    }
  },
  "cells": [
    {
      "cell_type": "markdown",
      "metadata": {
        "id": "view-in-github",
        "colab_type": "text"
      },
      "source": [
        "<a href=\"https://colab.research.google.com/github/ssook1222/1Day-1Algo/blob/master/ssook/8%EC%9B%94/8%EC%9B%94%205%EC%A3%BC%EC%B0%A8/0827.ipynb\" target=\"_parent\"><img src=\"https://colab.research.google.com/assets/colab-badge.svg\" alt=\"Open In Colab\"/></a>"
      ]
    },
    {
      "cell_type": "markdown",
      "source": [
        "## BoJ"
      ],
      "metadata": {
        "id": "ZCFAruPt1vwN"
      }
    },
    {
      "cell_type": "markdown",
      "source": [
        "### 25497"
      ],
      "metadata": {
        "id": "Kp654Wci1yP-"
      }
    },
    {
      "cell_type": "code",
      "source": [
        "import sys\n",
        "\n",
        "N = int(sys.stdin.readline().rstrip())\n",
        "skills = sys.stdin.readline().rstrip()\n",
        "\n",
        "lr_stack = []\n",
        "sk_stack = []\n",
        "count = 0\n",
        "\n",
        "for skill in skills:\n",
        "    if skill in \"123456789\":\n",
        "        count += 1\n",
        "\n",
        "    elif skill == \"L\":\n",
        "        lr_stack.append(skill)\n",
        "\n",
        "    elif skill == \"R\":\n",
        "        if lr_stack and lr_stack[-1] == \"L\":\n",
        "            lr_stack.pop()\n",
        "            count += 1\n",
        "        else:\n",
        "            print(count)\n",
        "            sys.exit()\n",
        "\n",
        "    elif skill == \"S\":\n",
        "        sk_stack.append(skill)\n",
        "\n",
        "    elif skill == \"K\":\n",
        "        if sk_stack and sk_stack[-1] == \"S\":\n",
        "            sk_stack.pop()\n",
        "            count += 1\n",
        "\n",
        "        else:\n",
        "            print(count)\n",
        "            sys.exit()\n",
        "\n",
        "print(count)"
      ],
      "metadata": {
        "colab": {
          "base_uri": "https://localhost:8080/"
        },
        "id": "nefOSUkx10SS",
        "outputId": "bd98d4d8-13f9-4624-dd75-b0fa5e05b521"
      },
      "execution_count": 12,
      "outputs": [
        {
          "output_type": "stream",
          "name": "stdout",
          "text": [
            "4\n",
            "1LKR\n",
            "2\n"
          ]
        }
      ]
    },
    {
      "cell_type": "markdown",
      "source": [
        "### 18301"
      ],
      "metadata": {
        "id": "30i3AjwXB9JL"
      }
    },
    {
      "cell_type": "code",
      "source": [
        "import math\n",
        "\n",
        "n1, n2, n12 = map(int, input().split(\" \"))\n",
        "\n",
        "result = ((n1 + 1) * (n2 + 1)) // (n12 + 1) - 1\n",
        "print(result)"
      ],
      "metadata": {
        "colab": {
          "base_uri": "https://localhost:8080/"
        },
        "id": "5cWORV5zBp3O",
        "outputId": "a14864cb-891c-449b-a682-492913bb3d78"
      },
      "execution_count": 19,
      "outputs": [
        {
          "output_type": "stream",
          "name": "stdout",
          "text": [
            "15 18 11\n",
            "24\n"
          ]
        }
      ]
    },
    {
      "cell_type": "markdown",
      "source": [
        "----"
      ],
      "metadata": {
        "id": "eRT6COQ4B-SA"
      }
    },
    {
      "cell_type": "markdown",
      "source": [
        "## Leetcode"
      ],
      "metadata": {
        "id": "nGdAkNccCDFw"
      }
    },
    {
      "cell_type": "markdown",
      "source": [
        "### 2769. Find the Maximum Achievable Number"
      ],
      "metadata": {
        "id": "ieq-h9I8FZKB"
      }
    },
    {
      "cell_type": "code",
      "source": [
        "class Solution(object):\n",
        "    def theMaximumAchievableX(self, num, t):\n",
        "        \"\"\"\n",
        "        :type num: int\n",
        "        :type t: int\n",
        "        :rtype: int\n",
        "        \"\"\"\n",
        "        return num + (t*2)"
      ],
      "metadata": {
        "id": "u305xlcCCDUj"
      },
      "execution_count": null,
      "outputs": []
    },
    {
      "cell_type": "markdown",
      "source": [
        "코드는 간단한데, 방정식을 풀어야 했던 문제.   \n"
      ],
      "metadata": {
        "id": "ysEpmbOXFdOJ"
      }
    }
  ]
}