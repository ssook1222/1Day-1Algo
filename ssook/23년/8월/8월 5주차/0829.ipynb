{
  "nbformat": 4,
  "nbformat_minor": 0,
  "metadata": {
    "colab": {
      "provenance": [],
      "authorship_tag": "ABX9TyN36IjRW/dFZ7cwcob9tfbQ",
      "include_colab_link": true
    },
    "kernelspec": {
      "name": "python3",
      "display_name": "Python 3"
    },
    "language_info": {
      "name": "python"
    }
  },
  "cells": [
    {
      "cell_type": "markdown",
      "metadata": {
        "id": "view-in-github",
        "colab_type": "text"
      },
      "source": [
        "<a href=\"https://colab.research.google.com/github/ssook1222/1Day-1Algo/blob/master/ssook/8%EC%9B%94/8%EC%9B%94%205%EC%A3%BC%EC%B0%A8/0829.ipynb\" target=\"_parent\"><img src=\"https://colab.research.google.com/assets/colab-badge.svg\" alt=\"Open In Colab\"/></a>"
      ]
    },
    {
      "cell_type": "markdown",
      "source": [
        "## BoJ"
      ],
      "metadata": {
        "id": "WwM4k85re7JE"
      }
    },
    {
      "cell_type": "markdown",
      "source": [
        "### 5300"
      ],
      "metadata": {
        "id": "XnCLgdiae9rV"
      }
    },
    {
      "cell_type": "code",
      "execution_count": 3,
      "metadata": {
        "colab": {
          "base_uri": "https://localhost:8080/"
        },
        "id": "lDRfE9f8e4iu",
        "outputId": "47dc6e6d-9331-4b43-eec9-e9f04e7fc126"
      },
      "outputs": [
        {
          "output_type": "stream",
          "name": "stdout",
          "text": [
            "18\n",
            "1 2 3 4 5 6 Go! 7 8 9 10 11 12 Go! 13 14 15 16 17 18 Go! "
          ]
        }
      ],
      "source": [
        "n = int(input())\n",
        "\n",
        "for i in range(1, n+1):\n",
        "  if i % 6 == 0 or i == n:\n",
        "    print(i, end = ' ')\n",
        "    print(\"Go!\", end = ' ')\n",
        "  else:\n",
        "    print(i, end = ' ')"
      ]
    },
    {
      "cell_type": "markdown",
      "source": [
        "### QuickSum"
      ],
      "metadata": {
        "id": "xD9LVaBifBAW"
      }
    },
    {
      "cell_type": "code",
      "source": [
        "alphabet = ' ABCDEFGHIJKLMNOPQRSTUVWXYZ'\n",
        "\n",
        "while True:\n",
        "  s = list(input())\n",
        "\n",
        "  if s[0] == '#':\n",
        "    break\n",
        "\n",
        "  hap = 0\n",
        "\n",
        "  for i in range(len(s)) :\n",
        "    hap += alphabet.index(s[i]) * (i+1)\n",
        "\n",
        "  print(hap)"
      ],
      "metadata": {
        "colab": {
          "base_uri": "https://localhost:8080/"
        },
        "id": "B5eykXDsfBTW",
        "outputId": "2ee50d09-bf0c-4fcf-b86b-06fe40fbc0c0"
      },
      "execution_count": 12,
      "outputs": [
        {
          "name": "stdout",
          "output_type": "stream",
          "text": [
            "ACM\n",
            "46\n",
            "MID CENTRAL\n",
            "650\n",
            "A C M\n",
            "75\n",
            "#\n"
          ]
        }
      ]
    },
    {
      "cell_type": "markdown",
      "source": [
        "---"
      ],
      "metadata": {
        "id": "qfvTc2h4fTBk"
      }
    },
    {
      "cell_type": "markdown",
      "source": [
        "## LeetCode"
      ],
      "metadata": {
        "id": "a5KVp5c5fUB1"
      }
    },
    {
      "cell_type": "markdown",
      "source": [
        "### 2469. Convert the Temperature"
      ],
      "metadata": {
        "id": "HR2gdrH3faii"
      }
    },
    {
      "cell_type": "code",
      "source": [
        "class Solution:\n",
        "    def convertTemperature(self, celsius: float) -> List[float]:\n",
        "        kelvin = celsius + 273.15\n",
        "        fahreneit = celsius * 1.80+32.00\n",
        "\n",
        "        return [kelvin, fahreneit]"
      ],
      "metadata": {
        "id": "NW322YHwfbET"
      },
      "execution_count": null,
      "outputs": []
    }
  ]
}