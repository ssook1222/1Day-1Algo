{
  "nbformat": 4,
  "nbformat_minor": 0,
  "metadata": {
    "colab": {
      "provenance": [],
      "authorship_tag": "ABX9TyOSAfFVNh1RydnJ0WZu440H",
      "include_colab_link": true
    },
    "kernelspec": {
      "name": "python3",
      "display_name": "Python 3"
    },
    "language_info": {
      "name": "python"
    }
  },
  "cells": [
    {
      "cell_type": "markdown",
      "metadata": {
        "id": "view-in-github",
        "colab_type": "text"
      },
      "source": [
        "<a href=\"https://colab.research.google.com/github/ssook1222/1Day-1Algo/blob/master/ssook/8%EC%9B%94/8%EC%9B%94%204%EC%A3%BC%EC%B0%A8/0820.ipynb\" target=\"_parent\"><img src=\"https://colab.research.google.com/assets/colab-badge.svg\" alt=\"Open In Colab\"/></a>"
      ]
    },
    {
      "cell_type": "markdown",
      "source": [
        "## BoJ"
      ],
      "metadata": {
        "id": "Keo1hjVICQtI"
      }
    },
    {
      "cell_type": "markdown",
      "source": [
        "### 11721"
      ],
      "metadata": {
        "id": "RCRwqQ1sCS-z"
      }
    },
    {
      "cell_type": "code",
      "execution_count": 5,
      "metadata": {
        "colab": {
          "base_uri": "https://localhost:8080/"
        },
        "id": "dmizCKkmCO-7",
        "outputId": "a5ed6e70-8afe-4704-88df-da71a4f6ce7a"
      },
      "outputs": [
        {
          "output_type": "stream",
          "name": "stdout",
          "text": [
            "BaekjoonOnlineJudge\n",
            "BaekjoonOn\n",
            "lineJudge\n"
          ]
        }
      ],
      "source": [
        "import sys\n",
        "\n",
        "s = sys.stdin.readline().rstrip()\n",
        "\n",
        "for i in range(0, len(s), 10):\n",
        "  print(s[i:i+10])"
      ]
    },
    {
      "cell_type": "markdown",
      "source": [
        "### 15935"
      ],
      "metadata": {
        "id": "wfppEkIsCTTC"
      }
    },
    {
      "cell_type": "code",
      "source": [
        "t = int(input())\n",
        "\n",
        "for i in range(t):\n",
        "  money = 0\n",
        "  a, b = map(int, input().split(\" \"))\n",
        "\n",
        "  if a > 21:\n",
        "    pass\n",
        "  else:\n",
        "    if a == 1:\n",
        "      money += 5000000\n",
        "    elif 2 <= a <= 3 :\n",
        "      money += 3000000\n",
        "    elif 4 <= a <= 6:\n",
        "      money += 2000000\n",
        "    elif 7 <= a <= 10 :\n",
        "      money += 500000\n",
        "    elif 11 <= a <= 15:\n",
        "      money += 300000\n",
        "    elif 16 <= a <= 21:\n",
        "      money += 100000\n",
        "\n",
        "  if b > 31:\n",
        "     pass\n",
        "  else:\n",
        "    if b == 1:\n",
        "      money += 5120000\n",
        "    elif 2 <= b <= 3 :\n",
        "      money += 2560000\n",
        "    elif 4 <= b <= 7:\n",
        "      money += 1280000\n",
        "    elif 8 <= b <= 15 :\n",
        "      money += 640000\n",
        "    elif 16 <= b <= 31:\n",
        "      money += 320000\n",
        "\n",
        "  print(money)"
      ],
      "metadata": {
        "colab": {
          "base_uri": "https://localhost:8080/"
        },
        "id": "zVA_yuH2CTjj",
        "outputId": "0daaf0de-9c59-4bf9-e8f9-4be643abba60"
      },
      "execution_count": 8,
      "outputs": [
        {
          "output_type": "stream",
          "name": "stdout",
          "text": [
            "6\n",
            "8 4\n",
            "1780000\n",
            "13 19\n",
            "620000\n",
            "8 10\n",
            "1140000\n",
            "18 18\n",
            "420000\n",
            "8 25\n",
            "820000\n",
            "13 16\n",
            "620000\n"
          ]
        }
      ]
    },
    {
      "cell_type": "markdown",
      "source": [
        "---"
      ],
      "metadata": {
        "id": "6W7B-31fCT1e"
      }
    },
    {
      "cell_type": "markdown",
      "source": [
        "### HackerRank"
      ],
      "metadata": {
        "id": "00sluJTpCU3Q"
      }
    },
    {
      "cell_type": "markdown",
      "source": [
        "### Zeros and Ones"
      ],
      "metadata": {
        "id": "Kpe_Nt8CJrzE"
      }
    },
    {
      "cell_type": "code",
      "source": [
        "import numpy\n",
        "\n",
        "nums = tuple(map(int, input().split()))\n",
        "\n",
        "print (numpy.zeros(nums, dtype = numpy.int))\n",
        "print (numpy.ones(nums, dtype = numpy.int))"
      ],
      "metadata": {
        "id": "qWX9j2VpCVHl"
      },
      "execution_count": null,
      "outputs": []
    },
    {
      "cell_type": "markdown",
      "source": [
        "#### Tuple 사용 이유\n",
        "\n",
        "NumPy에서 배열의 모양(shape)은 튜플(tuple)로 지정해야 함.       \n",
        "예를 들어, numpy.zeros 및 numpy.ones 함수에 전달되는 nums 변수는 배열의 모양을 나타내기 위해 사용됨.      \n",
        "\n",
        "tuple을 사용하는 이유는 NumPy 배열의 차원을 명시적으로 지정하기 위함임.       \n",
        "tuple을 사용하면 배열의 다차원 모양을 쉽게 정의할 수 있으며, 이 모양에 따라 배열을 생성할 때 각 차원의 크기를 지정할 수 있음.\n",
        "\n",
        "tuple을 사용하여 배열의 모양을 명확하게 정의하는 것은 코드를 읽고 이해하기 쉽게 만들고, 잘못된 차원 크기를 전달하는 실수를 방지하기 위해서임."
      ],
      "metadata": {
        "id": "Qd8IA3KDLBic"
      }
    }
  ]
}