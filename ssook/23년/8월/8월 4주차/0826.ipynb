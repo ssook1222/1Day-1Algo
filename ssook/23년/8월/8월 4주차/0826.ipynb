{
  "nbformat": 4,
  "nbformat_minor": 0,
  "metadata": {
    "colab": {
      "provenance": [],
      "authorship_tag": "ABX9TyPL4J6vJc9olAksxM0+cDuV",
      "include_colab_link": true
    },
    "kernelspec": {
      "name": "python3",
      "display_name": "Python 3"
    },
    "language_info": {
      "name": "python"
    }
  },
  "cells": [
    {
      "cell_type": "markdown",
      "metadata": {
        "id": "view-in-github",
        "colab_type": "text"
      },
      "source": [
        "<a href=\"https://colab.research.google.com/github/ssook1222/1Day-1Algo/blob/master/ssook/8%EC%9B%94/8%EC%9B%94%204%EC%A3%BC%EC%B0%A8/0826.ipynb\" target=\"_parent\"><img src=\"https://colab.research.google.com/assets/colab-badge.svg\" alt=\"Open In Colab\"/></a>"
      ]
    },
    {
      "cell_type": "markdown",
      "source": [
        "## BoJ"
      ],
      "metadata": {
        "id": "B2rHE2lz0zlj"
      }
    },
    {
      "cell_type": "markdown",
      "source": [
        "### 10174"
      ],
      "metadata": {
        "id": "7oopI8u80yYt"
      }
    },
    {
      "cell_type": "code",
      "execution_count": 4,
      "metadata": {
        "colab": {
          "base_uri": "https://localhost:8080/"
        },
        "id": "NxoTkNT10wjR",
        "outputId": "97f61387-1f78-45d0-b4c6-4aceb50388a6"
      },
      "outputs": [
        {
          "output_type": "stream",
          "name": "stdout",
          "text": [
            "6\n",
            "Nat tan\n",
            "Yes\n",
            "Palindrome\n",
            "No\n",
            "123454321\n",
            "Yes\n",
            "Dogs and Cats\n",
            "No\n",
            "**()()**\n",
            "No\n",
            "1 221\n",
            "No\n"
          ]
        }
      ],
      "source": [
        "t = int(input())\n",
        "\n",
        "for _ in range(t):\n",
        "  s = input().lower()\n",
        "\n",
        "  if s[::-1] == s:\n",
        "    print(\"Yes\")\n",
        "  else:\n",
        "    print(\"No\")"
      ]
    },
    {
      "cell_type": "markdown",
      "source": [
        "### 3211"
      ],
      "metadata": {
        "id": "7GOvwMEh0zGj"
      }
    },
    {
      "cell_type": "code",
      "source": [
        "n = int(input())\n",
        "requests = [int(input()) for _ in range(n)]\n",
        "\n",
        "request_count = {}\n",
        "\n",
        "for request in requests:\n",
        "  if request in request_count:\n",
        "    request_count[request] += 1\n",
        "  else:\n",
        "    request_count[request] = 1\n",
        "\n",
        "  max_request_count = max(request_count.values())\n",
        "\n",
        "  result = max(max_request_count, 1)\n",
        "\n",
        "print(result)"
      ],
      "metadata": {
        "colab": {
          "base_uri": "https://localhost:8080/"
        },
        "id": "yP3Kjjxs44qZ",
        "outputId": "25baddb6-af95-4c5e-e70d-c40ade185ded"
      },
      "execution_count": 11,
      "outputs": [
        {
          "output_type": "stream",
          "name": "stdout",
          "text": [
            "3\n",
            "1\n",
            "2\n",
            "1\n",
            "2\n"
          ]
        }
      ]
    },
    {
      "cell_type": "markdown",
      "source": [
        "### 3211"
      ],
      "metadata": {
        "id": "FFUGQW9C70pQ"
      }
    },
    {
      "cell_type": "code",
      "source": [
        "n = int(input())\n",
        "a = [int(input()) for _ in range(n)]\n",
        "a.sort()\n",
        "\n",
        "ret = 1\n",
        "while ret <= n and a[ret - 1] + 1 > ret:\n",
        "    ret = a[ret - 1] + 1\n",
        "\n",
        "print(ret)"
      ],
      "metadata": {
        "colab": {
          "base_uri": "https://localhost:8080/"
        },
        "id": "vquaBQ246cng",
        "outputId": "2b2250db-a712-41ce-f077-0faeff0fa04f"
      },
      "execution_count": 17,
      "outputs": [
        {
          "output_type": "stream",
          "name": "stdout",
          "text": [
            "5\n",
            "3\n",
            "4\n",
            "3\n",
            "3\n",
            "3\n",
            "4\n"
          ]
        }
      ]
    },
    {
      "cell_type": "markdown",
      "source": [
        "---"
      ],
      "metadata": {
        "id": "1AuRhpU802ty"
      }
    },
    {
      "cell_type": "markdown",
      "source": [
        "## LeetCode"
      ],
      "metadata": {
        "id": "grHaw9IR03hx"
      }
    },
    {
      "cell_type": "markdown",
      "source": [
        "### 1929. Concatenation of Array"
      ],
      "metadata": {
        "id": "puIJTrTVBJBt"
      }
    },
    {
      "cell_type": "code",
      "source": [
        "class Solution(object):\n",
        "    def getConcatenation(self, nums):\n",
        "        \"\"\"\n",
        "        :type nums: List[int]\n",
        "        :rtype: List[int]\n",
        "        \"\"\"\n",
        "\n",
        "        return nums*2"
      ],
      "metadata": {
        "id": "SoTQIrxw032r"
      },
      "execution_count": null,
      "outputs": []
    }
  ]
}