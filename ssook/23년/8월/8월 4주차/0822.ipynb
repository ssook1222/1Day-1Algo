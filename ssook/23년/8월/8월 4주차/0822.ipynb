{
  "nbformat": 4,
  "nbformat_minor": 0,
  "metadata": {
    "colab": {
      "provenance": [],
      "authorship_tag": "ABX9TyPKGHFK8zLtBspwH1bloh5F",
      "include_colab_link": true
    },
    "kernelspec": {
      "name": "python3",
      "display_name": "Python 3"
    },
    "language_info": {
      "name": "python"
    }
  },
  "cells": [
    {
      "cell_type": "markdown",
      "metadata": {
        "id": "view-in-github",
        "colab_type": "text"
      },
      "source": [
        "<a href=\"https://colab.research.google.com/github/ssook1222/1Day-1Algo/blob/master/ssook/8%EC%9B%94/8%EC%9B%94%204%EC%A3%BC%EC%B0%A8/0822.ipynb\" target=\"_parent\"><img src=\"https://colab.research.google.com/assets/colab-badge.svg\" alt=\"Open In Colab\"/></a>"
      ]
    },
    {
      "cell_type": "markdown",
      "source": [
        "## BoJ"
      ],
      "metadata": {
        "id": "IXQq_zKkOpvs"
      }
    },
    {
      "cell_type": "markdown",
      "source": [
        "### 26264"
      ],
      "metadata": {
        "id": "8avIvrK3OsIR"
      }
    },
    {
      "cell_type": "code",
      "execution_count": null,
      "metadata": {
        "colab": {
          "base_uri": "https://localhost:8080/"
        },
        "id": "sGFaNVtSOnkS",
        "outputId": "c54c9dbd-add9-4df8-9346-b28be4d12d00"
      },
      "outputs": [
        {
          "output_type": "stream",
          "name": "stdout",
          "text": [
            "6\n",
            "bigdatabigdatabigdatasecuritysecuritysecurity\n",
            "bigdata? security!\n"
          ]
        }
      ],
      "source": [
        "n = int(input())\n",
        "\n",
        "s = input()\n",
        "\n",
        "s = s.replace(\"security\",\"/\")\n",
        "s = s.replace(\"bigdata\",\"-\")\n",
        "\n",
        "s_cnt = s.count(\"/\")\n",
        "b_cnt = s.count(\"-\")\n",
        "\n",
        "if s_cnt > b_cnt:\n",
        "  print(\"security!\")\n",
        "elif s_cnt < b_cnt:\n",
        "  print(\"bigdata?\")\n",
        "else:\n",
        "  print(\"bigdata? security!\")\n"
      ]
    },
    {
      "cell_type": "markdown",
      "source": [
        "### 2153"
      ],
      "metadata": {
        "id": "eNcTgRiPOr2O"
      }
    },
    {
      "cell_type": "code",
      "source": [
        "def isPrime(n):\n",
        "  checkPrime = True\n",
        "  for i in range(2, int((n**0.5))+1):\n",
        "    if n % i == 0:\n",
        "      checkPrime = False\n",
        "  return checkPrime\n",
        "\n",
        "s = input()\n",
        "\n",
        "hap = 0\n",
        "\n",
        "for c in s:\n",
        "    if 'a' <= c <= 'z':\n",
        "        hap += ord(c) - 96\n",
        "    else:\n",
        "        hap += ord(c) - 38\n",
        "\n",
        "if isPrime(hap):\n",
        "    print(\"It is a prime word.\")\n",
        "else:\n",
        "    print(\"It is not a prime word.\")"
      ],
      "metadata": {
        "id": "Ghn6PJL4Osab",
        "colab": {
          "base_uri": "https://localhost:8080/"
        },
        "outputId": "54ec7bdd-5840-4285-e911-fe4633be6bec"
      },
      "execution_count": 12,
      "outputs": [
        {
          "output_type": "stream",
          "name": "stdout",
          "text": [
            "contest\n",
            "It is not a prime word.\n"
          ]
        }
      ]
    },
    {
      "cell_type": "markdown",
      "source": [
        "---"
      ],
      "metadata": {
        "id": "aIRg9WscOspL"
      }
    },
    {
      "cell_type": "markdown",
      "source": [
        "## HackerRank"
      ],
      "metadata": {
        "id": "7f7szyLiOtu-"
      }
    },
    {
      "cell_type": "markdown",
      "source": [
        "### Re.start() & Re.end()"
      ],
      "metadata": {
        "id": "Dgfs_ADgOvsm"
      }
    },
    {
      "cell_type": "code",
      "source": [
        "import re\n",
        "\n",
        "s = input()\n",
        "k = input()\n",
        "\n",
        "pattern = re.compile(k)\n",
        "r = pattern.search(s)\n",
        "\n",
        "if not r:\n",
        "    print(\"(-1, -1)\")\n",
        "\n",
        "while r:\n",
        "    print(\"(%d, %d)\" %(r.start(), r.end()-1))\n",
        "    r = pattern.search(s, r.start()+1)"
      ],
      "metadata": {
        "id": "esKsNaN2Ot-m"
      },
      "execution_count": 12,
      "outputs": []
    },
    {
      "cell_type": "markdown",
      "source": [
        "- pattern = re.compile(k): 입력받은 패턴 k를 정규 표현식 패턴 객체로 컴파일.      \n",
        "re.compile() 함수를 사용하여 패턴을 정규 표현식 객체로 변환하는 것은 검색 속도를 향상시키고 동일한 패턴을 여러 번 사용할 때 효율적임.\n",
        "\n",
        "- r = pattern.search(s): 입력받은 문자열 s에서 패턴 k를 검색.\n",
        "검색 결과는 r 변수에 저장.\n",
        "pattern.search() 함수는 첫 번째로 발견된 패턴을 반환함.\n",
        "만약 패턴을 찾지 못하면 None을 반환함.\n",
        "\n",
        "- r.start()는 검색된 패턴의 시작 인덱스를 반환하고, r.end()는 검색된 패턴의 끝 인덱스를 반환\n",
        "\n",
        "- r = pattern.search(s, r.start()+1): 이전에 검색된 패턴 다음부터 검색을 진행하기 위해 r.start() 위치보다 1 큰 위치부터 검색을 다시 수행.\n",
        "중복되는 패턴을 찾기 위함."
      ],
      "metadata": {
        "id": "68EQnyV2lkKV"
      }
    }
  ]
}