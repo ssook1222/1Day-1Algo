{
  "nbformat": 4,
  "nbformat_minor": 0,
  "metadata": {
    "colab": {
      "provenance": [],
      "authorship_tag": "ABX9TyNbmd/QIxdeyfY25zDrCNRI",
      "include_colab_link": true
    },
    "kernelspec": {
      "name": "python3",
      "display_name": "Python 3"
    },
    "language_info": {
      "name": "python"
    }
  },
  "cells": [
    {
      "cell_type": "markdown",
      "metadata": {
        "id": "view-in-github",
        "colab_type": "text"
      },
      "source": [
        "<a href=\"https://colab.research.google.com/github/ssook1222/1Day-1Algo/blob/master/ssook/8%EC%9B%94/8%EC%9B%94%204%EC%A3%BC%EC%B0%A8/0823.ipynb\" target=\"_parent\"><img src=\"https://colab.research.google.com/assets/colab-badge.svg\" alt=\"Open In Colab\"/></a>"
      ]
    },
    {
      "cell_type": "markdown",
      "source": [
        "## BoJ"
      ],
      "metadata": {
        "id": "LaJZoAPZj79m"
      }
    },
    {
      "cell_type": "markdown",
      "source": [
        "### 5949"
      ],
      "metadata": {
        "id": "ZYmn2U0Jj9Jm"
      }
    },
    {
      "cell_type": "code",
      "execution_count": 6,
      "metadata": {
        "colab": {
          "base_uri": "https://localhost:8080/"
        },
        "id": "7g5kxuTOj55f",
        "outputId": "f96d1c3d-2f4b-4ef9-a771-4cb427127f64"
      },
      "outputs": [
        {
          "output_type": "stream",
          "name": "stdout",
          "text": [
            "153920529\n",
            "153,920,529\n"
          ]
        }
      ],
      "source": [
        "s = input()\n",
        "s_rev = s[::-1]\n",
        "\n",
        "res = ''\n",
        "\n",
        "for i in range(0, len(s_rev), 3):\n",
        "  res += s_rev[i:i+3] + ','\n",
        "\n",
        "print(res[::-1][1:])"
      ]
    },
    {
      "cell_type": "markdown",
      "source": [
        "### 5613"
      ],
      "metadata": {
        "id": "rg7KItoVj9Wt"
      }
    },
    {
      "cell_type": "code",
      "source": [
        "def calculate(num1, operator, num2):\n",
        "    if operator == '+':\n",
        "        return num1 + num2\n",
        "    elif operator == '-':\n",
        "        return num1 - num2\n",
        "    elif operator == '*':\n",
        "        return num1 * num2\n",
        "    elif operator == '/':\n",
        "        return num1 // num2  # 소수점 이하 버림\n",
        "\n",
        "result = int(input())  # 첫 번째 수를 결과로 초기화\n",
        "\n",
        "while True:\n",
        "    operator = input()\n",
        "    if operator == '=':\n",
        "        break\n",
        "\n",
        "    num2 = int(input())\n",
        "    result = calculate(result, operator, num2)\n",
        "\n",
        "print(result)"
      ],
      "metadata": {
        "colab": {
          "base_uri": "https://localhost:8080/"
        },
        "id": "IXwlpqmIj9lW",
        "outputId": "d8ffecd3-25ef-4e69-991d-f56a25d8f7fe"
      },
      "execution_count": 20,
      "outputs": [
        {
          "output_type": "stream",
          "name": "stdout",
          "text": [
            "10\n",
            "-\n",
            "21\n",
            "*\n",
            "5\n",
            "=\n",
            "-55\n"
          ]
        }
      ]
    },
    {
      "cell_type": "markdown",
      "source": [
        "---"
      ],
      "metadata": {
        "id": "bL2-xN_jj91e"
      }
    },
    {
      "cell_type": "markdown",
      "source": [
        "## HackerRank"
      ],
      "metadata": {
        "id": "L9GDUgGNj-wz"
      }
    },
    {
      "cell_type": "markdown",
      "source": [
        "### Any or All"
      ],
      "metadata": {
        "id": "AUQ8RmNtj_Pk"
      }
    },
    {
      "cell_type": "code",
      "source": [
        "n = int(input())\n",
        "numbers = list(map(int, input().split()))\n",
        "\n",
        "print(all(num > 0 for num in numbers) and any(str(num) == str(num)[::-1] for num in numbers))"
      ],
      "metadata": {
        "id": "RuqUZPvgj_bD"
      },
      "execution_count": null,
      "outputs": []
    },
    {
      "cell_type": "markdown",
      "source": [
        "`all(num > 0 for num in numbers)`: numbers 리스트의 모든 숫자가 양수인지 확인합니다. num > 0 for num in numbers는 리스트의 모든 요소에 대해 양수 여부를 검사하고, **all 함수는 이들이 모두 양수인지 확인 후 True 여부를 반환**합니다. 즉, 모든 숫자가 양수일 때 True가 됩니다.\n",
        "\n",
        "`any(str(num) == str(num)[::-1] for num in numbers)`: numbers 리스트의 숫자 중에서 팰린드롬인 숫자가 하나라도 있는지 확인합니다.     \n",
        "str(num)은 숫자를 문자열로 변환하고, str(num)[::-1]은 해당 문자열을 뒤집습니다. 그런 다음, str(num) == str(num)[::-1]은 해당 숫자가 팰린드롬인지 검사합니다. any 함수는 이들 중 하나라도 True인 경우 True를 반환합니다. 즉, 팰린드롬 숫자가 하나라도 있을 때 True가 됩니다.     \n",
        "\n",
        "따라서, 이 두 조건이 모두 만족되면 True가 출력되고, 그렇지 않으면 False가 출력됩니다."
      ],
      "metadata": {
        "id": "YsAEtV15tmHW"
      }
    }
  ]
}