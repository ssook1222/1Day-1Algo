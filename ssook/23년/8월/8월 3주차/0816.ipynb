{
  "nbformat": 4,
  "nbformat_minor": 0,
  "metadata": {
    "colab": {
      "provenance": [],
      "authorship_tag": "ABX9TyNsZKNqkm/pOhurDhkSPrsr",
      "include_colab_link": true
    },
    "kernelspec": {
      "name": "python3",
      "display_name": "Python 3"
    },
    "language_info": {
      "name": "python"
    }
  },
  "cells": [
    {
      "cell_type": "markdown",
      "metadata": {
        "id": "view-in-github",
        "colab_type": "text"
      },
      "source": [
        "<a href=\"https://colab.research.google.com/github/ssook1222/1Day-1Algo/blob/master/ssook/8%EC%9B%94/8%EC%9B%94%203%EC%A3%BC%EC%B0%A8/0816.ipynb\" target=\"_parent\"><img src=\"https://colab.research.google.com/assets/colab-badge.svg\" alt=\"Open In Colab\"/></a>"
      ]
    },
    {
      "cell_type": "markdown",
      "source": [
        "## BoJ"
      ],
      "metadata": {
        "id": "W7jMAbhFgfzr"
      }
    },
    {
      "cell_type": "markdown",
      "source": [
        "### 8979"
      ],
      "metadata": {
        "id": "GgzkdO1nghhT"
      }
    },
    {
      "cell_type": "code",
      "execution_count": 19,
      "metadata": {
        "colab": {
          "base_uri": "https://localhost:8080/"
        },
        "id": "yRS8kAfhf8iD",
        "outputId": "8fd1fa42-c6a6-4dc4-c650-f5f9d44176cf"
      },
      "outputs": [
        {
          "output_type": "stream",
          "name": "stdout",
          "text": [
            "4 3\n",
            "1 1 2 0\n",
            "2 0 1 0\n",
            "3 0 1 0\n",
            "4 0 0 1\n",
            "2\n"
          ]
        }
      ],
      "source": [
        "import sys\n",
        "\n",
        "n, k = map(int, sys.stdin.readline().rstrip().split(\" \"))\n",
        "\n",
        "country = []\n",
        "\n",
        "for i in range(n):\n",
        "    num, gold, silver, bronze = map(int, sys.stdin.readline().rstrip().split(\" \"))\n",
        "    country.append([num, gold, silver, bronze])\n",
        "\n",
        "res = sorted(country, key=lambda x: (-x[1], -x[2], -x[3]))\n",
        "\n",
        "rank = 1  # 초기 등수는 1로 설정\n",
        "\n",
        "# 모든 메달이 0인 경우에 대한 처리\n",
        "if res[0][1] == 0 and res[0][2] == 0 and res[0][3] == 0:\n",
        "    rank = 1  # 첫 번째 국가가 1등\n",
        "else:\n",
        "    for i, team in enumerate(res):\n",
        "        if team[0] == k:\n",
        "            break\n",
        "        rank += 1\n",
        "\n",
        "# 동일한 메달 수를 가진 경우 처리\n",
        "for i in range(rank - 2, -1, -1):\n",
        "    if res[i][1:] == res[i + 1][1:]:\n",
        "        rank -= 1\n",
        "    else:\n",
        "        break\n",
        "\n",
        "print(rank)"
      ]
    },
    {
      "cell_type": "markdown",
      "source": [
        "### 28113"
      ],
      "metadata": {
        "id": "oUmRIQgUgh94"
      }
    },
    {
      "cell_type": "code",
      "source": [
        "n, a, b = map(int, input().split(\" \"))\n",
        "\n",
        "if a == b:\n",
        "  print(\"Anything\")\n",
        "\n",
        "else:\n",
        "  if min(a, b) == a:\n",
        "    print(\"Bus\")\n",
        "  elif min(a, b) == b:\n",
        "    print(\"Subway\")\n"
      ],
      "metadata": {
        "id": "L0Sy8nz6giSP",
        "colab": {
          "base_uri": "https://localhost:8080/"
        },
        "outputId": "d7796e32-38df-40a0-ce7a-2c0cd6a2fb8b"
      },
      "execution_count": 22,
      "outputs": [
        {
          "output_type": "stream",
          "name": "stdout",
          "text": [
            "1 100 1\n",
            "Subway\n"
          ]
        }
      ]
    },
    {
      "cell_type": "markdown",
      "source": [
        "----"
      ],
      "metadata": {
        "id": "T8dokPqdgilQ"
      }
    },
    {
      "cell_type": "markdown",
      "source": [
        "## HackerRank"
      ],
      "metadata": {
        "id": "pvIF8KH8gi0k"
      }
    },
    {
      "cell_type": "markdown",
      "source": [
        "### Floor, Ceil and Rint"
      ],
      "metadata": {
        "id": "MAys4Wyec_S7"
      }
    },
    {
      "cell_type": "code",
      "source": [
        "import numpy as np\n",
        "\n",
        "float_list = list(map(float, input().split(\" \")))\n",
        "\n",
        "arr = np.array(float_list)\n",
        "\n",
        "floor_arr = np.floor(arr)\n",
        "ceil_arr = np.ceil(arr)\n",
        "rint_arr = np.rint(arr)\n",
        "\n",
        "np.set_printoptions(legacy = '1.13')\n",
        "\n",
        "print(floor_arr)\n",
        "print(ceil_arr)\n",
        "print(rint_arr)"
      ],
      "metadata": {
        "id": "WnkGLxX1c_nC"
      },
      "execution_count": null,
      "outputs": []
    }
  ]
}