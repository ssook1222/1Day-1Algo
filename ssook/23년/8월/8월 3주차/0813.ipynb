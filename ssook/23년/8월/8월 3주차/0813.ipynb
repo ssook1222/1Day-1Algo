{
  "nbformat": 4,
  "nbformat_minor": 0,
  "metadata": {
    "colab": {
      "provenance": [],
      "authorship_tag": "ABX9TyOJ4UxRcQ8wv0TG2Jt5KI4Q",
      "include_colab_link": true
    },
    "kernelspec": {
      "name": "python3",
      "display_name": "Python 3"
    },
    "language_info": {
      "name": "python"
    }
  },
  "cells": [
    {
      "cell_type": "markdown",
      "metadata": {
        "id": "view-in-github",
        "colab_type": "text"
      },
      "source": [
        "<a href=\"https://colab.research.google.com/github/ssook1222/1Day-1Algo/blob/master/ssook/8%EC%9B%94/8%EC%9B%94%203%EC%A3%BC%EC%B0%A8/0813.ipynb\" target=\"_parent\"><img src=\"https://colab.research.google.com/assets/colab-badge.svg\" alt=\"Open In Colab\"/></a>"
      ]
    },
    {
      "cell_type": "markdown",
      "source": [
        "## BoJ"
      ],
      "metadata": {
        "id": "UAKrw5bmdxZH"
      }
    },
    {
      "cell_type": "markdown",
      "source": [
        "### 25640"
      ],
      "metadata": {
        "id": "1KqOxYO0xb2R"
      }
    },
    {
      "cell_type": "code",
      "execution_count": null,
      "metadata": {
        "id": "5DlxqVwUduYa"
      },
      "outputs": [],
      "source": [
        "mbti = input()\n",
        "n = int(input())\n",
        "\n",
        "cnt = 0\n",
        "\n",
        "for i in range(n):\n",
        "  others = input()\n",
        "\n",
        "  if mbti == others:\n",
        "    cnt += 1\n",
        "\n",
        "print(cnt)"
      ]
    },
    {
      "cell_type": "markdown",
      "source": [
        "### 15232"
      ],
      "metadata": {
        "id": "EdGNmFLWxcG9"
      }
    },
    {
      "cell_type": "code",
      "source": [
        "r = int(input())\n",
        "c = int(input())\n",
        "\n",
        "for i in range(r):\n",
        "  print('*'*c)"
      ],
      "metadata": {
        "colab": {
          "base_uri": "https://localhost:8080/"
        },
        "id": "kaztpepwxcgd",
        "outputId": "50758484-bc01-4cec-e04d-09ea5fdf5c78"
      },
      "execution_count": null,
      "outputs": [
        {
          "output_type": "stream",
          "name": "stdout",
          "text": [
            "3\n",
            "5\n",
            "*****\n",
            "*****\n",
            "*****\n"
          ]
        }
      ]
    },
    {
      "cell_type": "markdown",
      "source": [
        "## HackerRank"
      ],
      "metadata": {
        "id": "-t95IYhBeT0a"
      }
    },
    {
      "cell_type": "markdown",
      "source": [
        "### Built-Ins > Zipped!"
      ],
      "metadata": {
        "id": "Q631y6gFj2S8"
      }
    },
    {
      "cell_type": "code",
      "source": [
        "n, m = map(int, input().split(\" \"))\n",
        "raw = set()\n",
        "for i in range(m):\n",
        "    raw.add(tuple(list(map(float, input().split(\" \")))))\n",
        "res = zip(*raw)\n",
        "\n",
        "for i in res:\n",
        "    sentence = str(i).replace('(','').replace(')','')\n",
        "    print(sum( list(map(float, sentence.split(', '))) )/len(sentence.split(', ')))"
      ],
      "metadata": {
        "id": "kjmZ9hsCeVk9"
      },
      "execution_count": null,
      "outputs": []
    },
    {
      "cell_type": "markdown",
      "source": [
        "### Collections.OrderedDict()"
      ],
      "metadata": {
        "id": "VLETgMweoxeE"
      }
    },
    {
      "cell_type": "code",
      "source": [
        "from collections import OrderedDict\n",
        "\n",
        "ordinary_dictionary = OrderedDict()\n",
        "\n",
        "n = int(input())\n",
        "\n",
        "for i in range(n):\n",
        "    t = input().split(\" \")\n",
        "    price = int(t[-1])\n",
        "    name = ' '.join(t[:-1])\n",
        "\n",
        "    if name in ordinary_dictionary:\n",
        "        ordinary_dictionary[name] += price\n",
        "    else:\n",
        "        ordinary_dictionary[name] = price\n",
        "\n",
        "for k in ordinary_dictionary:\n",
        "    print(k, ordinary_dictionary[k])\n"
      ],
      "metadata": {
        "id": "6NFzARf1oxqu"
      },
      "execution_count": null,
      "outputs": []
    }
  ]
}