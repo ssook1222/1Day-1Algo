{
  "nbformat": 4,
  "nbformat_minor": 0,
  "metadata": {
    "colab": {
      "provenance": [],
      "authorship_tag": "ABX9TyPIBt4MlCJ5LsFByvQv9fwY",
      "include_colab_link": true
    },
    "kernelspec": {
      "name": "python3",
      "display_name": "Python 3"
    },
    "language_info": {
      "name": "python"
    }
  },
  "cells": [
    {
      "cell_type": "markdown",
      "metadata": {
        "id": "view-in-github",
        "colab_type": "text"
      },
      "source": [
        "<a href=\"https://colab.research.google.com/github/ssook1222/1Day-1Algo/blob/master/ssook/8%EC%9B%94/8%EC%9B%94%203%EC%A3%BC%EC%B0%A8/0814.ipynb\" target=\"_parent\"><img src=\"https://colab.research.google.com/assets/colab-badge.svg\" alt=\"Open In Colab\"/></a>"
      ]
    },
    {
      "cell_type": "markdown",
      "source": [
        "## BoJ"
      ],
      "metadata": {
        "id": "47XIVKUR8EfM"
      }
    },
    {
      "cell_type": "markdown",
      "source": [
        "### 25501"
      ],
      "metadata": {
        "id": "NefYmE_F8Goo"
      }
    },
    {
      "cell_type": "code",
      "execution_count": 5,
      "metadata": {
        "colab": {
          "base_uri": "https://localhost:8080/"
        },
        "id": "VQ3h0vgp8CRT",
        "outputId": "4d249067-1267-4f81-8806-e96a0d740da2"
      },
      "outputs": [
        {
          "output_type": "stream",
          "name": "stdout",
          "text": [
            "5\n",
            "AAA\n",
            "1 2\n",
            "ABBA\n",
            "1 3\n",
            "ABABA\n",
            "1 3\n",
            "ABCA\n",
            "0 2\n",
            "PALINDROME\n",
            "0 1\n"
          ]
        }
      ],
      "source": [
        "cnt = 0\n",
        "\n",
        "def recursion(s, l, r):\n",
        "  global cnt\n",
        "\n",
        "  if l >= r:\n",
        "    return 1\n",
        "  elif s[l] != s[r]:\n",
        "    return 0\n",
        "  else:\n",
        "    cnt += 1\n",
        "    return recursion(s, l+1, r-1)\n",
        "\n",
        "def isPalindrome(s):\n",
        "  global cnt\n",
        "  cnt += 1\n",
        "  return recursion(s, 0, len(s)-1)\n",
        "\n",
        "t = int(input())\n",
        "\n",
        "for i in range(t):\n",
        "  raw = input()\n",
        "  check = isPalindrome(raw)\n",
        "  print(check, cnt)\n",
        "  cnt = 0"
      ]
    },
    {
      "cell_type": "markdown",
      "source": [
        "### 2204"
      ],
      "metadata": {
        "id": "e1nON3r58HGs"
      }
    },
    {
      "cell_type": "code",
      "source": [
        "while True:\n",
        "  t = int(input())\n",
        "  word = {}\n",
        "\n",
        "  if t == 0:\n",
        "    break\n",
        "\n",
        "  else:\n",
        "    for i in range(t):\n",
        "      s = input()\n",
        "      s_low = s.lower()\n",
        "      word[s_low] = s\n",
        "\n",
        "    word = sorted(word.items())\n",
        "    for first in word:\n",
        "      print(first[1])\n",
        "      break"
      ],
      "metadata": {
        "colab": {
          "base_uri": "https://localhost:8080/"
        },
        "id": "QACUwbRQ8HWV",
        "outputId": "191b2aba-0a2b-41a1-f310-a90305cd1a8c"
      },
      "execution_count": 4,
      "outputs": [
        {
          "name": "stdout",
          "output_type": "stream",
          "text": [
            "3\n",
            "Cat\n",
            "fat\n",
            "bAt\n",
            "bAt\n",
            "4\n",
            "call\n",
            "ball\n",
            "All\n",
            "Hall\n",
            "All\n",
            "0\n"
          ]
        }
      ]
    },
    {
      "cell_type": "markdown",
      "source": [
        "---"
      ],
      "metadata": {
        "id": "OHYiO_Ky8Hmq"
      }
    },
    {
      "cell_type": "markdown",
      "source": [
        "## HackerRank"
      ],
      "metadata": {
        "id": "bfwc_URR8Ias"
      }
    },
    {
      "cell_type": "markdown",
      "source": [
        "### Map and Lambda Function"
      ],
      "metadata": {
        "id": "n08kV6R_8LCa"
      }
    },
    {
      "cell_type": "code",
      "source": [
        "cube = lambda x: x**3\n",
        "\n",
        "def fibonacci(n):\n",
        "    fibo = [0, 1]\n",
        "\n",
        "    [fibo.append(sum(fibo[-2:])) for x in range(n)]\n",
        "    return fibo[:n]\n",
        "\n",
        "if __name__ == '__main__':\n",
        "    n = int(input())\n",
        "    print(list(map(cube, fibonacci(n))))"
      ],
      "metadata": {
        "id": "p42tSl-w8LPd"
      },
      "execution_count": null,
      "outputs": []
    }
  ]
}