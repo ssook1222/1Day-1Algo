{
  "nbformat": 4,
  "nbformat_minor": 0,
  "metadata": {
    "colab": {
      "provenance": [],
      "authorship_tag": "ABX9TyPcSX2REMa6ckA3N5+xElbv",
      "include_colab_link": true
    },
    "kernelspec": {
      "name": "python3",
      "display_name": "Python 3"
    },
    "language_info": {
      "name": "python"
    }
  },
  "cells": [
    {
      "cell_type": "markdown",
      "metadata": {
        "id": "view-in-github",
        "colab_type": "text"
      },
      "source": [
        "<a href=\"https://colab.research.google.com/github/ssook1222/1Day-1Algo/blob/master/ssook/8%EC%9B%94/8%EC%9B%94%203%EC%A3%BC%EC%B0%A8/0819.ipynb\" target=\"_parent\"><img src=\"https://colab.research.google.com/assets/colab-badge.svg\" alt=\"Open In Colab\"/></a>"
      ]
    },
    {
      "cell_type": "markdown",
      "source": [
        "## BoJ"
      ],
      "metadata": {
        "id": "Mr1flf-KruvC"
      }
    },
    {
      "cell_type": "markdown",
      "source": [
        "### 17608"
      ],
      "metadata": {
        "id": "BKCEqrVHrw1r"
      }
    },
    {
      "cell_type": "code",
      "source": [
        "import sys\n",
        "\n",
        "n = int(sys.stdin.readline().rstrip())\n",
        "stack = [ int(input()) for _ in range(n)]\n",
        "\n",
        "cnt = 1\n",
        "max_stick = 0\n",
        "\n",
        "for stick in stack[::-1]:\n",
        "  if stick > stack[-1]:\n",
        "    if max_stick < stick :\n",
        "      max_stick = stick\n",
        "      cnt += 1\n",
        "\n",
        "print(cnt)"
      ],
      "metadata": {
        "colab": {
          "base_uri": "https://localhost:8080/"
        },
        "id": "IdfXbeXe1r1C",
        "outputId": "c79cd6a0-a1af-49cb-b644-a5715f399a3d"
      },
      "execution_count": 66,
      "outputs": [
        {
          "output_type": "stream",
          "name": "stdout",
          "text": [
            "5\n",
            "5\n",
            "4\n",
            "3\n",
            "2\n",
            "1\n",
            "5\n"
          ]
        }
      ]
    },
    {
      "cell_type": "markdown",
      "source": [
        "### 2910"
      ],
      "metadata": {
        "id": "F-AsINcPrxHD"
      }
    },
    {
      "cell_type": "code",
      "source": [
        "n, c = map(int, input().split(\" \"))\n",
        "\n",
        "num = {}\n",
        "\n",
        "raw = list(map(int, input().split(\" \")))\n",
        "\n",
        "for i in raw:\n",
        "    if i in num:\n",
        "        num[i] += 1\n",
        "    else:\n",
        "        num[i] = 1\n",
        "\n",
        "num = sorted(num.items(), key=lambda item: item[1], reverse=True)\n",
        "tmp = ''\n",
        "for i in num:\n",
        "    tmp += (str(i[0]) + ' ') * i[1]\n",
        "print(tmp.rstrip())"
      ],
      "metadata": {
        "colab": {
          "base_uri": "https://localhost:8080/"
        },
        "id": "9gsJf3CurxSh",
        "outputId": "9b3bac2b-5181-4098-ee52-a70f902c50d1"
      },
      "execution_count": 74,
      "outputs": [
        {
          "output_type": "stream",
          "name": "stdout",
          "text": [
            "9 77\n",
            "11 33 11 77 54 11 25 25 33\n",
            "11 11 11 33 33 25 25 77 54\n"
          ]
        }
      ]
    },
    {
      "cell_type": "markdown",
      "source": [
        "---"
      ],
      "metadata": {
        "id": "NmsAkgdlrxgB"
      }
    },
    {
      "cell_type": "markdown",
      "source": [
        "## HackerRank"
      ],
      "metadata": {
        "id": "wDSimLtTrxtO"
      }
    },
    {
      "cell_type": "markdown",
      "source": [
        "### Word Order"
      ],
      "metadata": {
        "id": "Xv_j39Dy7M_V"
      }
    },
    {
      "cell_type": "code",
      "source": [
        "n = int(input())\n",
        "word = {}\n",
        "for i in range(n):\n",
        "    raw = input()\n",
        "\n",
        "    if raw in word:\n",
        "        word[raw] += 1\n",
        "    else:\n",
        "        word[raw] = 1\n",
        "\n",
        "tmp = ''\n",
        "for c in word:\n",
        "    num_temp = word[c]\n",
        "    tmp += str(num_temp) + ' '\n",
        "\n",
        "print(len(word))\n",
        "print(tmp.rstrip())"
      ],
      "metadata": {
        "id": "uNidIbMrrx8q"
      },
      "execution_count": null,
      "outputs": []
    }
  ]
}