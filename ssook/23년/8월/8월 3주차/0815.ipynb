{
  "nbformat": 4,
  "nbformat_minor": 0,
  "metadata": {
    "colab": {
      "provenance": [],
      "authorship_tag": "ABX9TyM51m4v10tHpMo2Uyjr/g6L",
      "include_colab_link": true
    },
    "kernelspec": {
      "name": "python3",
      "display_name": "Python 3"
    },
    "language_info": {
      "name": "python"
    }
  },
  "cells": [
    {
      "cell_type": "markdown",
      "metadata": {
        "id": "view-in-github",
        "colab_type": "text"
      },
      "source": [
        "<a href=\"https://colab.research.google.com/github/ssook1222/1Day-1Algo/blob/master/ssook/8%EC%9B%94/8%EC%9B%94%203%EC%A3%BC%EC%B0%A8/0815.ipynb\" target=\"_parent\"><img src=\"https://colab.research.google.com/assets/colab-badge.svg\" alt=\"Open In Colab\"/></a>"
      ]
    },
    {
      "cell_type": "markdown",
      "source": [
        "## BoJ"
      ],
      "metadata": {
        "id": "EW-pYq4XCtJI"
      }
    },
    {
      "cell_type": "markdown",
      "source": [
        "### 4158"
      ],
      "metadata": {
        "id": "xlR2mD9cCvAx"
      }
    },
    {
      "cell_type": "code",
      "execution_count": 1,
      "metadata": {
        "colab": {
          "base_uri": "https://localhost:8080/"
        },
        "id": "N8ywC8VICqtA",
        "outputId": "b04bc6f1-ef00-4f02-add7-4767367f471f"
      },
      "outputs": [
        {
          "name": "stdout",
          "output_type": "stream",
          "text": [
            "3 3\n",
            "1\n",
            "2\n",
            "3\n",
            "1\n",
            "2\n",
            "4\n",
            "1\n",
            "2\n",
            "2\n",
            "0 0\n"
          ]
        }
      ],
      "source": [
        "import sys\n",
        "\n",
        "while True:\n",
        "    n, m = map(int, sys.stdin.readline().rstrip().split(\" \"))\n",
        "\n",
        "    if n == m == 0:\n",
        "        break\n",
        "\n",
        "    sg = set(int(sys.stdin.readline().rstrip()) for _ in range(n))\n",
        "    sy = set(int(sys.stdin.readline().rstrip()) for _ in range(m))\n",
        "\n",
        "    res = len(sg.intersection(sy))\n",
        "    print(res)\n"
      ]
    },
    {
      "cell_type": "markdown",
      "source": [
        "### 5341"
      ],
      "metadata": {
        "id": "7aj4RgBXCwa-"
      }
    },
    {
      "cell_type": "code",
      "source": [
        "while True:\n",
        "  n = int(input())\n",
        "  hap = 0\n",
        "\n",
        "  if n == 0:\n",
        "    break\n",
        "\n",
        "  else:\n",
        "    for i in range(1, n+1):\n",
        "     hap += i\n",
        "    print(hap)"
      ],
      "metadata": {
        "colab": {
          "base_uri": "https://localhost:8080/"
        },
        "id": "eU6bIbpGCwwN",
        "outputId": "9c097e50-e486-4f63-9f63-944f857568a2"
      },
      "execution_count": 2,
      "outputs": [
        {
          "name": "stdout",
          "output_type": "stream",
          "text": [
            "4\n",
            "10\n",
            "6\n",
            "21\n",
            "0\n"
          ]
        }
      ]
    },
    {
      "cell_type": "markdown",
      "source": [
        "---"
      ],
      "metadata": {
        "id": "CYuyW5qCCyB-"
      }
    },
    {
      "cell_type": "markdown",
      "source": [
        "## HackerRank"
      ],
      "metadata": {
        "id": "MNVTx4OiCy-m"
      }
    },
    {
      "cell_type": "markdown",
      "source": [
        "### List Comprehensions"
      ],
      "metadata": {
        "id": "BDD4yxuuC1LN"
      }
    },
    {
      "cell_type": "code",
      "source": [
        "if __name__ == '__main__':\n",
        "    x = int(input())\n",
        "    y = int(input())\n",
        "    z = int(input())\n",
        "    n = int(input())\n",
        "\n",
        "    res = [[i, j, k] for i in range(x+1) for j in range(y+1) for k in range(z+1) if i+j+k != n]\n",
        "\n",
        "    print(res)"
      ],
      "metadata": {
        "id": "oWbhqfIDC1hk"
      },
      "execution_count": null,
      "outputs": []
    },
    {
      "cell_type": "markdown",
      "source": [
        "list comprehensions 안에 if문 사용해서 구현 가능"
      ],
      "metadata": {
        "id": "CJg2foIUMMgz"
      }
    }
  ]
}