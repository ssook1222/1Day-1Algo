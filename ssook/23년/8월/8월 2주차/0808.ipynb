{
  "nbformat": 4,
  "nbformat_minor": 0,
  "metadata": {
    "colab": {
      "provenance": [],
      "authorship_tag": "ABX9TyPkGqPbKJsaiFw2DKN5T9nr",
      "include_colab_link": true
    },
    "kernelspec": {
      "name": "python3",
      "display_name": "Python 3"
    },
    "language_info": {
      "name": "python"
    }
  },
  "cells": [
    {
      "cell_type": "markdown",
      "metadata": {
        "id": "view-in-github",
        "colab_type": "text"
      },
      "source": [
        "<a href=\"https://colab.research.google.com/github/ssook1222/1Day-1Algo/blob/master/ssook/8%EC%9B%94/8%EC%9B%94%202%EC%A3%BC%EC%B0%A8/0808.ipynb\" target=\"_parent\"><img src=\"https://colab.research.google.com/assets/colab-badge.svg\" alt=\"Open In Colab\"/></a>"
      ]
    },
    {
      "cell_type": "markdown",
      "source": [
        "## BoJ"
      ],
      "metadata": {
        "id": "hoIsO0OFUotK"
      }
    },
    {
      "cell_type": "markdown",
      "source": [
        "### 2303"
      ],
      "metadata": {
        "id": "nvA8AdEjUqNa"
      }
    },
    {
      "cell_type": "code",
      "execution_count": 3,
      "metadata": {
        "colab": {
          "base_uri": "https://localhost:8080/"
        },
        "id": "u1gneM6LS9yN",
        "outputId": "8b94ec42-b5e4-4006-d008-f6a6f2e9b9a3"
      },
      "outputs": [
        {
          "output_type": "stream",
          "name": "stdout",
          "text": [
            "2\n",
            "1 1 1 1 1\n",
            "1 1 1 1 1\n",
            "2\n"
          ]
        }
      ],
      "source": [
        "import sys\n",
        "\n",
        "people = int(sys.stdin.readline().rstrip())\n",
        "check = {}\n",
        "\n",
        "for a in range(people):\n",
        "    score = list(map(int, sys.stdin.readline().rstrip().split(\" \")))\n",
        "    max_jumsu = 0  # 최대 일의 자리 수 값을 저장하기 위한 변수\n",
        "\n",
        "    for i in range(len(score)):\n",
        "        for j in range(i+1, len(score)):\n",
        "            for k in range(j+1, len(score)):\n",
        "                jumsu = (score[i] + score[j] + score[k]) % 10\n",
        "                max_jumsu = max(max_jumsu, jumsu)  # 최대 일의 자리 수 갱신\n",
        "\n",
        "    check[a+1] = max_jumsu # 최대 일의 자리 수를 사람 별로 넣어줘야 함.\n",
        "\n",
        "# 사전의 값을 기준으로 내림차순 정렬\n",
        "check = sorted(check.items(), key=lambda item: (-item[1], -item[0]))\n",
        "\n",
        "print(check[0][0])\n"
      ]
    },
    {
      "cell_type": "markdown",
      "source": [
        "### 2145"
      ],
      "metadata": {
        "id": "zxU5xkmOUtgo"
      }
    },
    {
      "cell_type": "code",
      "source": [
        "import sys\n",
        "\n",
        "while True:\n",
        "    n = int(sys.stdin.readline().rstrip())  # 문자열을 정수로 변환하여 입력 받음\n",
        "    hap = 0\n",
        "\n",
        "    if n == 0:\n",
        "        break\n",
        "\n",
        "    while True:\n",
        "        hap = 0\n",
        "\n",
        "        for digit in str(n):  # 정수를 문자열로 변환하여 각 자릿수의 값을 추출\n",
        "            hap += int(digit)\n",
        "\n",
        "        if hap < 10:\n",
        "            print(hap)\n",
        "            break\n",
        "        else:\n",
        "            n = hap"
      ],
      "metadata": {
        "colab": {
          "base_uri": "https://localhost:8080/"
        },
        "id": "mV0_Zf_1UtuL",
        "outputId": "6ec63155-c29e-47bb-9747-06e827d7421c"
      },
      "execution_count": 7,
      "outputs": [
        {
          "name": "stdout",
          "output_type": "stream",
          "text": [
            "673\n",
            "7\n",
            "0\n"
          ]
        }
      ]
    },
    {
      "cell_type": "markdown",
      "source": [
        "---"
      ],
      "metadata": {
        "id": "REjewuhwUt7T"
      }
    },
    {
      "cell_type": "markdown",
      "source": [
        "## HackerRank"
      ],
      "metadata": {
        "id": "rGYr_3EiUvEC"
      }
    },
    {
      "cell_type": "markdown",
      "source": [
        "### Python Evaluation"
      ],
      "metadata": {
        "id": "FSPrA0JfUw1P"
      }
    },
    {
      "cell_type": "code",
      "source": [
        "# Enter your code here. Read input from STDIN. Print output to STDOUT\n",
        "\n",
        "n = input()\n",
        "eval(n)"
      ],
      "metadata": {
        "colab": {
          "base_uri": "https://localhost:8080/"
        },
        "id": "Jib2ORdMUw_o",
        "outputId": "1816d91b-75e3-4151-c16b-294ab047be15"
      },
      "execution_count": 8,
      "outputs": [
        {
          "output_type": "stream",
          "name": "stdout",
          "text": [
            "print(2 + 3)\n",
            "5\n"
          ]
        }
      ]
    }
  ]
}