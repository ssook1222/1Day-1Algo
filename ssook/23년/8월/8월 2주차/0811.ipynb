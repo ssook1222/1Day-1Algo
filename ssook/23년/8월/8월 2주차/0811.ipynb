{
  "nbformat": 4,
  "nbformat_minor": 0,
  "metadata": {
    "colab": {
      "provenance": [],
      "authorship_tag": "ABX9TyO2MsVrYAtcKglDuEJ65H+G",
      "include_colab_link": true
    },
    "kernelspec": {
      "name": "python3",
      "display_name": "Python 3"
    },
    "language_info": {
      "name": "python"
    }
  },
  "cells": [
    {
      "cell_type": "markdown",
      "metadata": {
        "id": "view-in-github",
        "colab_type": "text"
      },
      "source": [
        "<a href=\"https://colab.research.google.com/github/ssook1222/1Day-1Algo/blob/master/ssook/8%EC%9B%94/8%EC%9B%94%202%EC%A3%BC%EC%B0%A8/0811.ipynb\" target=\"_parent\"><img src=\"https://colab.research.google.com/assets/colab-badge.svg\" alt=\"Open In Colab\"/></a>"
      ]
    },
    {
      "cell_type": "markdown",
      "source": [
        "## BoJ"
      ],
      "metadata": {
        "id": "BpPRrnuUwfmZ"
      }
    },
    {
      "cell_type": "markdown",
      "source": [
        "### 11536"
      ],
      "metadata": {
        "id": "iz3ChBiAwmGb"
      }
    },
    {
      "cell_type": "code",
      "execution_count": 6,
      "metadata": {
        "colab": {
          "base_uri": "https://localhost:8080/"
        },
        "id": "t76PcEnQwS38",
        "outputId": "beffcfff-8ef6-4de7-aa94-0bcabcaf6452"
      },
      "outputs": [
        {
          "output_type": "stream",
          "name": "stdout",
          "text": [
            "4\n",
            "GEORGE\n",
            "JOHN\n",
            "PAUL\n",
            "RINGO\n",
            "INCREASING\n"
          ]
        }
      ],
      "source": [
        "import sys\n",
        "\n",
        "n = int(sys.stdin.readline().rstrip())\n",
        "person_list = []\n",
        "\n",
        "for i in range(n):\n",
        "  name = input()\n",
        "  person_list.append(name)\n",
        "\n",
        "bigyo_list = sorted(person_list)\n",
        "bigyo_list_rev = sorted(person_list, reverse = True)\n",
        "\n",
        "if bigyo_list == person_list:\n",
        "  print(\"INCREASING\")\n",
        "\n",
        "elif bigyo_list_rev == person_list:\n",
        "  print(\"DECREASING\")\n",
        "\n",
        "else:\n",
        "  print(\"NEITHER\")\n"
      ]
    },
    {
      "cell_type": "markdown",
      "source": [
        "### 2776"
      ],
      "metadata": {
        "id": "Uezc4z2cwmzY"
      }
    },
    {
      "cell_type": "code",
      "source": [
        "import sys\n",
        "\n",
        "t = int(sys.stdin.readline().rstrip())\n",
        "\n",
        "for i in range(t):\n",
        "\n",
        "  a = int(sys.stdin.readline().rstrip())\n",
        "  num_list_a = set(map(int, sys.stdin.readline().rstrip().split(\" \")))\n",
        "\n",
        "  b = int(sys.stdin.readline().rstrip())\n",
        "  num_list_b = list(map(int, sys.stdin.readline().rstrip().split(\" \")))\n",
        "\n",
        "  for num in num_list_b:\n",
        "    if num in num_list_a:\n",
        "      print(1)\n",
        "    else:\n",
        "      print(0)"
      ],
      "metadata": {
        "colab": {
          "base_uri": "https://localhost:8080/"
        },
        "id": "Zn59I45BwnFD",
        "outputId": "319c5494-024f-430d-b19c-bee11e45600a"
      },
      "execution_count": 19,
      "outputs": [
        {
          "output_type": "stream",
          "name": "stdout",
          "text": [
            "1\n",
            "5\n",
            "4 1 5 2 3\n",
            "5\n",
            "1 3 7 9 5\n",
            "1\n",
            "1\n",
            "0\n",
            "0\n",
            "1\n"
          ]
        }
      ]
    },
    {
      "cell_type": "markdown",
      "source": [
        "---"
      ],
      "metadata": {
        "id": "IydXn8y0wnUe"
      }
    },
    {
      "cell_type": "markdown",
      "source": [
        "## HackerRank"
      ],
      "metadata": {
        "id": "37MiJR_P5DfL"
      }
    },
    {
      "cell_type": "markdown",
      "source": [
        "### Numpy > Min and Max"
      ],
      "metadata": {
        "id": "k8Qh9yKj5MXX"
      }
    },
    {
      "cell_type": "code",
      "source": [
        "import numpy as np\n",
        "\n",
        "n, m = map(int, input().split(\" \"))\n",
        "num_list = []\n",
        "\n",
        "for i in range(n):\n",
        "    num_list.append(list(map(int, input().split(\" \"))))\n",
        "\n",
        "num_arr = np.array(num_list)\n",
        "\n",
        "min_along_axis_1 = np.min(num_arr, axis=1)\n",
        "max_of_min_values = np.max(min_along_axis_1)\n",
        "\n",
        "print(max_of_min_values)"
      ],
      "metadata": {
        "id": "52JenWx15Msl"
      },
      "execution_count": null,
      "outputs": []
    }
  ]
}