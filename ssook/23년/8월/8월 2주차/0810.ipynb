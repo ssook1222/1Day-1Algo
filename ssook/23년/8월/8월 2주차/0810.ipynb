{
  "nbformat": 4,
  "nbformat_minor": 0,
  "metadata": {
    "colab": {
      "provenance": [],
      "authorship_tag": "ABX9TyNn1EPq4sO50KTI6DmRoXoP",
      "include_colab_link": true
    },
    "kernelspec": {
      "name": "python3",
      "display_name": "Python 3"
    },
    "language_info": {
      "name": "python"
    }
  },
  "cells": [
    {
      "cell_type": "markdown",
      "metadata": {
        "id": "view-in-github",
        "colab_type": "text"
      },
      "source": [
        "<a href=\"https://colab.research.google.com/github/ssook1222/1Day-1Algo/blob/master/ssook/8%EC%9B%94/8%EC%9B%94%202%EC%A3%BC%EC%B0%A8/0810.ipynb\" target=\"_parent\"><img src=\"https://colab.research.google.com/assets/colab-badge.svg\" alt=\"Open In Colab\"/></a>"
      ]
    },
    {
      "cell_type": "markdown",
      "source": [
        "## BoJ"
      ],
      "metadata": {
        "id": "GRt7Ae2tn_1V"
      }
    },
    {
      "cell_type": "markdown",
      "source": [
        "### 7656"
      ],
      "metadata": {
        "id": "wjjF22j_oBWh"
      }
    },
    {
      "cell_type": "code",
      "source": [
        "import re\n",
        "import sys\n",
        "\n",
        "txt = sys.stdin.readline().rstrip()\n",
        "lines = re.split(\"(?<=\\.|\\?)\", txt) # 입력된 텍스트를 마침표(.) 또는 물음표(?)로 구분하여 나누어서 lines 리스트에 저장\n",
        "\n",
        "for line in lines:\n",
        "    line = line.strip()\n",
        "\n",
        "    if not line.startswith(\"What is\"): # 현재 줄이 \"What is\"로 시작하지 않으면 다음 루프로 넘어감. 즉, \"What is\"로 시작하는 줄만 처리\n",
        "      continue\n",
        "\n",
        "    if not line.endswith(\"?\"): # 현재 줄이 물음표로 끝나지 않으면 다음 루프로 넘어감. 즉, 물음표로 끝나는 줄만 처리\n",
        "      continue\n",
        "\n",
        "    print(\"Forty-two \"+line[5:-1]+\".\") #  위의 두 조건을 모두 만족하는 줄에 대해 \"What is\"을 제외한 부분을 추출하여 \"Forty-two\"를 붙이고, 마지막의 물음표를 마침표로 바꿔 출력"
      ],
      "metadata": {
        "colab": {
          "base_uri": "https://localhost:8080/"
        },
        "id": "PXYSvJFu4wfi",
        "outputId": "da3fc79a-684f-46b4-a588-84d8425e9831"
      },
      "execution_count": 9,
      "outputs": [
        {
          "output_type": "stream",
          "name": "stdout",
          "text": [
            "Let me ask you two questions. What is the answer to life? What is the answer to the universe?\n",
            "Forty-two is the answer to life.\n",
            "Forty-two is the answer to the universe.\n"
          ]
        }
      ]
    },
    {
      "cell_type": "markdown",
      "source": [
        "`startswith` 함수는 str1이 str2로 시작할 때, **True**를 반환하고 그게 아니면 **False**를 반환하는 함수임.     \n",
        "`endswith` 함수는 str1이 str2로 끝날 때, **True**를 반환하고 그게 아니면 **False**를 반환하는 함수임.\n"
      ],
      "metadata": {
        "id": "k-iex2qktgBv"
      }
    },
    {
      "cell_type": "markdown",
      "source": [
        "### 2997"
      ],
      "metadata": {
        "id": "MjjrMUkEoCOT"
      }
    },
    {
      "cell_type": "code",
      "source": [
        "num = list(map(int, input().split(\" \")))\n",
        "num.sort()\n",
        "\n",
        "#처음 수가 없을 때\n",
        "if num[2]-num[1] == num[1]-num[0]:\n",
        "  print(num[0] - (num[1]-num[0]))\n",
        "\n",
        "#두번째 수가 없을 때\n",
        "# 1 7 10\n",
        "elif (num[2]-num[1])*2 == num[1]-num[0]:\n",
        "  print(num[0] + (num[2]-num[1]))\n",
        "\n",
        "#세번째 수가 없을 때\n",
        "# 1 4 10\n",
        "elif (num[2]-num[1]) == (num[1]-num[0])*2:\n",
        "  print(num[1] + (num[1]-num[0]))"
      ],
      "metadata": {
        "colab": {
          "base_uri": "https://localhost:8080/"
        },
        "id": "dcoi-wBKoCa4",
        "outputId": "3dfda256-50e2-4674-9211-4fdb4e27757a"
      },
      "execution_count": 16,
      "outputs": [
        {
          "output_type": "stream",
          "name": "stdout",
          "text": [
            "1 7 10\n",
            "4\n"
          ]
        }
      ]
    },
    {
      "cell_type": "markdown",
      "source": [
        "---"
      ],
      "metadata": {
        "id": "Kea5sSpdoDpX"
      }
    },
    {
      "cell_type": "markdown",
      "source": [
        "## HackerRank"
      ],
      "metadata": {
        "id": "ci8B4fDyoGJT"
      }
    },
    {
      "cell_type": "markdown",
      "source": [
        "### Numpy > Arrays"
      ],
      "metadata": {
        "id": "SQov3MFkoFGV"
      }
    },
    {
      "cell_type": "code",
      "source": [
        "import numpy\n",
        "\n",
        "def arrays(arr):\n",
        "    num = numpy.array(arr, dtype=float)\n",
        "    num = numpy.flip(num)\n",
        "    return num\n",
        "\n",
        "arr = input().strip().split(' ')\n",
        "result = arrays(arr)\n",
        "print(result)"
      ],
      "metadata": {
        "id": "1RWH7bKzoFqS"
      },
      "execution_count": null,
      "outputs": []
    },
    {
      "cell_type": "markdown",
      "source": [
        "`num = np.array(arr, dtype=float)`    \n",
        " 입력된 숫자들을 NumPy 배열로 변환하는 부분,\n",
        " dtype=float 인자를 사용하여 배열의 데이터 타입을 float으로 지정.    \n",
        " 입력된 숫자들은 float 타입의 배열로 변환.\n",
        "\n",
        " ----\n",
        "\n",
        "`reversed_num = np.flip(num)`    \n",
        "생성된 NumPy 배열을 역순으로 뒤집는 부분,   \n",
        "np.flip() 함수는 배열의 원소들을 역순으로 뒤집어 줌\n",
        "역순으로 뒤집힌 NumPy 배열이 생성됨."
      ],
      "metadata": {
        "id": "BRZjpMH4LdTF"
      }
    }
  ]
}