{
  "nbformat": 4,
  "nbformat_minor": 0,
  "metadata": {
    "colab": {
      "provenance": [],
      "authorship_tag": "ABX9TyMLiYv/s1oGQ2hnKb9KqeKU",
      "include_colab_link": true
    },
    "kernelspec": {
      "name": "python3",
      "display_name": "Python 3"
    },
    "language_info": {
      "name": "python"
    }
  },
  "cells": [
    {
      "cell_type": "markdown",
      "metadata": {
        "id": "view-in-github",
        "colab_type": "text"
      },
      "source": [
        "<a href=\"https://colab.research.google.com/github/ssook1222/1Day-1Algo/blob/master/ssook/8%EC%9B%94/8%EC%9B%94%201%EC%A3%BC%EC%B0%A8/0804.ipynb\" target=\"_parent\"><img src=\"https://colab.research.google.com/assets/colab-badge.svg\" alt=\"Open In Colab\"/></a>"
      ]
    },
    {
      "cell_type": "markdown",
      "source": [
        "## BoJ"
      ],
      "metadata": {
        "id": "YXQlKgvpnMBE"
      }
    },
    {
      "cell_type": "markdown",
      "source": [
        "### 23234"
      ],
      "metadata": {
        "id": "AWO-yqibnSzZ"
      }
    },
    {
      "cell_type": "code",
      "execution_count": 1,
      "metadata": {
        "id": "JX5dc2tenJ_g",
        "colab": {
          "base_uri": "https://localhost:8080/"
        },
        "outputId": "12314541-90e4-48ff-92d3-4e04f3c534cb"
      },
      "outputs": [
        {
          "output_type": "stream",
          "name": "stdout",
          "text": [
            "The world says hello!\n"
          ]
        }
      ],
      "source": [
        "print(\"The world says hello!\")"
      ]
    },
    {
      "cell_type": "markdown",
      "source": [
        "### 13909"
      ],
      "metadata": {
        "id": "UM5ZaZslnRIg"
      }
    },
    {
      "cell_type": "markdown",
      "source": [
        "열려 있는 창문은 제곱 수일 때만 이므로, 정해진 범위 내의 제곱 수의 개수만 세면 된다."
      ],
      "metadata": {
        "id": "_-esirypyYUQ"
      }
    },
    {
      "cell_type": "code",
      "source": [
        "n = int(input())\n",
        "\n",
        "tmp = 1\n",
        "\n",
        "while tmp**2 <= n:\n",
        "  tmp += 1\n",
        "\n",
        "print(tmp-1)"
      ],
      "metadata": {
        "id": "qDEFkynZnRb_",
        "colab": {
          "base_uri": "https://localhost:8080/"
        },
        "outputId": "af4cef3a-48e6-400c-c6a1-7cb441200cbc"
      },
      "execution_count": 5,
      "outputs": [
        {
          "output_type": "stream",
          "name": "stdout",
          "text": [
            "24\n",
            "4\n"
          ]
        }
      ]
    },
    {
      "cell_type": "markdown",
      "source": [
        "---"
      ],
      "metadata": {
        "id": "uuhcM654nRxo"
      }
    },
    {
      "cell_type": "markdown",
      "source": [
        "## HackerRank"
      ],
      "metadata": {
        "id": "LQiTh1mPnNaS"
      }
    },
    {
      "cell_type": "markdown",
      "source": [
        "### collections.Counter()"
      ],
      "metadata": {
        "id": "-rmFgl6HnY5-"
      }
    },
    {
      "cell_type": "code",
      "source": [
        "from collections import Counter\n",
        "\n",
        "n = int(input())\n",
        "money = list(map(int, input().split(\" \")))\n",
        "\n",
        "t = int(input())\n",
        "b = Counter(money)\n",
        "\n",
        "sum = 0\n",
        "for i in range(t):\n",
        "    size, money = map(int, input().split(\" \"))\n",
        "    if size in b.keys() and (b[size]!= 0):\n",
        "        sum += money\n",
        "        b[size] -= 1\n",
        "\n",
        "print(sum)"
      ],
      "metadata": {
        "id": "k8AQ6b0ynQne"
      },
      "execution_count": null,
      "outputs": []
    }
  ]
}