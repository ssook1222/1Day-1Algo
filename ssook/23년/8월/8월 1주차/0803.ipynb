{
  "nbformat": 4,
  "nbformat_minor": 0,
  "metadata": {
    "colab": {
      "provenance": [],
      "authorship_tag": "ABX9TyPxBVHm5AwOrRuThp25CMhc",
      "include_colab_link": true
    },
    "kernelspec": {
      "name": "python3",
      "display_name": "Python 3"
    },
    "language_info": {
      "name": "python"
    }
  },
  "cells": [
    {
      "cell_type": "markdown",
      "metadata": {
        "id": "view-in-github",
        "colab_type": "text"
      },
      "source": [
        "<a href=\"https://colab.research.google.com/github/ssook1222/1Day-1Algo/blob/master/ssook/8%EC%9B%94/8%EC%9B%94%201%EC%A3%BC%EC%B0%A8/0803.ipynb\" target=\"_parent\"><img src=\"https://colab.research.google.com/assets/colab-badge.svg\" alt=\"Open In Colab\"/></a>"
      ]
    },
    {
      "cell_type": "markdown",
      "source": [
        "## BoJ"
      ],
      "metadata": {
        "id": "1h45A96bjGYw"
      }
    },
    {
      "cell_type": "markdown",
      "source": [
        "### 24900"
      ],
      "metadata": {
        "id": "V_6gh1S6jHkW"
      }
    },
    {
      "cell_type": "code",
      "execution_count": null,
      "metadata": {
        "id": "OY8jpE65jEX2"
      },
      "outputs": [],
      "source": [
        "print('''                                                           :8DDDDDDDDDDDDDD$.\n",
        "                                                      DDDNNN8~~~~~~~~~~=~7DNNDNDDDNNI\n",
        "                                                  ?NNDD=~=~~~~~~~~~~~~~~~~~=~~==~=INNDNN7\n",
        "                                               +NDDI~~~~~~~~~~~~~~~~~~~~~~~=~~========~ODND+\n",
        "                                            :NND~~~~~~~~~~~~~~~~~~~~~~~~~~~=~~============7NDN\n",
        "                                          $DD$~~~~~~~~~~~~~~~~~~~~~~~~~~~~~=~~==============~DNN\n",
        "                                        $DD=~~~~~~~~~~~~~~~~~~~~~~~~~~~~~~~=~~=================NND\n",
        "                                       ND7~~~~~~~~~~~~~~~~~~~~~~~~~~~~~~~~~=~~===================DD7\n",
        "                                     ~DD=~~~~~~~~~~~~~~~~~~~~~~~~~~~~~~~~~~=======================8DN.\n",
        "                                    8DO~~~~~~~~~~~~~~~~~~~~~~~~~~~~~~~~~~~~=========================DD\n",
        "                                   8N~~~~~~~~~~~~~~~~~~~~~~~~~~~~~~~~~~~~~~=~~=======================DN\n",
        "                                  NN::::::::~~~~~~~~~~~=~~~~~~~~~~~~~~~~~~~=~~========================DDO\n",
        "                                 $D$:::::::::::::::~~~~DD~~~~~~~~~~~~~~~~~~=~~=========================DN.\n",
        "                                 D8:::::::::::::::::::DN=::~~~~~~~~~~~~~~~~=~~======================~~:~DN\n",
        "                                DN:::::::::::::::::::ONO::::::::::::::::::::~~~~~~~~~~~~:::::::::::::::::DN\n",
        "                               DN::::::::::::::::::::NN.:::::::::::::::::::::::::::DN::::::::::::::::::::$DO\n",
        "                               DD:::::::::::::::::::DNI:::::::::::::::::::::::::::::D=::::::::::::::::::::NN\n",
        "                              NN~~~~:::::$N?:::::::.NN::::::::::::::::::::::::::::::ND.:::::::::::::::::::+N8\n",
        "                              N7~~~~~~~~OD7::::::::~DD::::::::::::::::::::::::::::::~D$::::::::::::::::::::DN\n",
        "                             NN~~~~~~~~IDZ~~~~~::::DN~:::::::::::::::::::::::::::::::DN::::::::::::::::::::=N~\n",
        "                             DD~~~~~~~~NN~~~~~~~~~=NN::::::::::::::::::::::::::::::::DN:::::::::::::::~~====NN\n",
        "                            8D~~~~~~~~ND~~~~~~~~~~~ND~~~~~~~~:::::::::::::::::::::::::N7:::~~===============NN\n",
        "                            DD~~~~~~~ON+~~~~~~~~~~~ND~~~~~~~~~~~~~~~~~~~=+NZ==========NN====================~ND\n",
        "               :DD7   DNDD. N8~~~~~~~NN~~~~~~~~~~DDND~~~~~~~~~~~~~~~~~~~~ND~~=========DD=====================ND\n",
        "               N~:DDNNN .8NDN~~~~~~~$D=~~~~~~~~+ND.DD~~~~~~~~~~~~~~~~~~~=DD~~=========~D+====================DN\n",
        "              :D     .  ..~ND~~~~~~~NN~~~~~~~+NN$..ND~~~~~~~~~~~~~~~~~~~7N=~~=========~ND=======~============ON\n",
        "              NN       ...:N?~~~~~~~N=~~~~~NNNI.. .7D+~~~~~~~~~~~~~~~~~=8NN~~==========NN=======N============$N\n",
        "         N  ODN       ....DN~~~~~~~DD=8NNND$..     .DD~~~=~~~~~~~~~~~~~=NNDD=~=========8D~======NN===========~N$\n",
        "    N? =NN  ND      .....NND~~~~~~~DDNN:...        .ND=~DNN~~~~~~~~~~~~=DN.DN~=========?N+======NN============ND\n",
        "   $D? DN    DZ    ....ND8NN~~~~~~$D                .DD~NNDD~~~~~~~~~~~~D8..DN=========~DN======NN============DN\n",
        "   DN ~N~   NN    ..:~NN..NZ~~~~~~DN                  NNN8.ND~~~~NDN?~~~DZ...7DD=======~NN======NN============DN\n",
        "   ND DD    :DN.  ..ND$  .N?~~~~~=NNN                   . ..DDD$~N8OND8=N+   ..DDDZ~====NN======+D+===========ND\n",
        "   NO         DD  ZDN    8NO~~~~~~NNN..DDDNN7               ...NND...:DDD:     .:.NDND=~DD======~DO===========DN\n",
        "              DNDDN:.    DN~~~~~~=NNNN.ODNNNNDDNNO              ...     .         ...DNNNN=======ND===========DD\n",
        "       INDN7    DD.     .DD~~~~~=IDND:.:~.....?DNDNN.                        ...... ....$D=======ND===========ND\n",
        "       NN        ND.    8N=~~~~$ND::.:=~:.~=......=ND~                 .NNNNNNNNNNNNNNN.~N+======NN===========DN\n",
        "       $DD        DN:   DD~~~~7NO...~==.:~~:.....                      NNNND? ..::..7NZ.:N?======8D~==========ZN\n",
        "       DN?     ~D: DND.?D~~~~~DD....~:.~=~.......                            ....~=:.:~..ND======~N$==========~DO\n",
        "       ND    ..DD.  .DNDN=~~~~DI.......:.........                           ....=~..~~~..DN======~DD===========NN\n",
        "       DDD  :.:DD.  . DDI~~~~~ND................        .DNNNNNNNNNN7      ....=~:.:~~...NN=======ND===========?D~\n",
        "       8D. ...OD..    DD~~~~~~+ND ............          NN:~::::~~~8N      ........~~...:ND=======DN============NN\n",
        "       DDI:...ND     .D7~~~~~~~7NN ..........           ID8::::::::8D      .............:DN=======ON============NN\n",
        "        ~NNND.N=.   .NN~~~~~~~~~NDN8                       ~::::::~N8       .............DN========D=============NI\n",
        "               DDNNN.ND~~~~~~~~DD =DND                                       ............DN========N+~===========NN\n",
        "                   ~:N=~~~~~~~~DD   .DDDD                                       ........ NN========DD============8D\n",
        "                    8N~~~~~~~~~ND    . .7NDDD? .                                      .8DDN========NN=============D:\n",
        "                    DD~~~~~~~~~DND:         IDNNND$.                           .+DNNNNDNIDN========DD=============DD\n",
        "                    ND~~~~~~~~ZN 7DD .. .:DDNDDNNDNNNNDDNDND8$?===+$8DDNNNDDDDDN8I~DN====8N========NN=============NN\n",
        "                    DD~~~~~~~~8N   DD.  .NN~~~~.~~=DNDNO.:7ODDDDNNDD8DDDND=~~~ =~~~ON====8N========DN=============DN\n",
        "                    ND~~~~~~~~DN    ZDD  DN~~~ ~~~~~=.7DDD+.......8NNN==~~~~~ ~~~~~ONN$==DN========8N=============ON\n",
        "                    ND~8N~=~~~ZN      DDODN=~.~~~~~=.~~~~INDNNNNDNN~~~~~~~~:~~~~~~~DN~ND=DN========DD=========~ND=8N\n",
        "                    IN=NDDI~~~~D8       DNN::~~~~~.~~~~~=.~~ND~~ND~~~~~~~~.~~~~~~~~NN  NDNN====ND==ND~D?======DNN=ND\n",
        "                     DNNI8ND=~~DN:       ZN=~~~~~ ~~~~~.~~~~DD~=DD~~~~~~~ ~~~~~~~=.ND. . ND===DNDD=NDDNN=====8NZDDDN\n",
        "                      NND  IDNDNNN+       D+~~~:~~~~~~ ~~~~~DDNNN+~~~~~~~~~~~~~~:=?N7   .ND=~ND  DNNN~ID====ND7 NNN\n",
        "                       ID                 ND~~ ~~~~~:.~~~7DDN7IDNN==~~ ~~~~~~~~ ~~DN   .:N?DDDDD NND  8N~=DDD  ZNN\n",
        "                                          NN~:~~~~~ =7DDDD+8N  :N8DDZ.~~~~~~~~.~~~DD.   NDD+ . DN=     OND+\n",
        "                                          DND~~~=8DNDDZ=~~ ND   NN~INND~~~~~.~~~~ND .    .    ..IDD\n",
        "                                         DDNNNDNNN+~~~~~~.7N.    ND~~~NDDI~ ~~~~=NNN             .DDI\n",
        "                                        DN=~~~~.=~~~~~~ ~~DN     +N+~~~~+DNDD~~~NNNND.            ..ND\n",
        "                                         DDI~~ ~~~~~~~ ~~~ND..  ..ND~~~~:~~~DNDNNNN+            ..7O8ND+\n",
        "                                          .DND=~~~~=::~~=NN.   . . 8D~~.~~~~~~=DN$ODNDNDNNNDNNNNND8+~..\n",
        "                                             8DNNI=.~~~~=NDDNNNNDDNDNN.~~~~~IDDNDND7:.\n",
        "                                                ?DNNDD?~DD          ~NN~~=NDD$\n",
        "                                                     :DDD.            NNNN=                                             ''')"
      ]
    },
    {
      "cell_type": "markdown",
      "source": [
        "### 28278"
      ],
      "metadata": {
        "id": "4y_ca4X_kLvt"
      }
    },
    {
      "cell_type": "code",
      "source": [
        "import sys\n",
        "\n",
        "n = int(sys.stdin.readline().rstrip())\n",
        "stack = []\n",
        "\n",
        "for i in range(n):\n",
        "  cmd = sys.stdin.readline().rstrip()\n",
        "  if len(cmd) == 1:\n",
        "    cmd1 = int(cmd)\n",
        "  else:\n",
        "    cmd1, cmd2 = map(int, cmd.split(\" \"))\n",
        "\n",
        "  if cmd1 == 1:\n",
        "    stack.append(cmd2)\n",
        "\n",
        "  if cmd1 == 2:\n",
        "    if stack:\n",
        "      num = stack.pop()\n",
        "      print(num)\n",
        "    else:\n",
        "      print(-1)\n",
        "\n",
        "  if cmd1 == 3:\n",
        "    print(len(stack))\n",
        "\n",
        "  if cmd1 == 4:\n",
        "    if stack:\n",
        "      print(0)\n",
        "    else:\n",
        "      print(1)\n",
        "\n",
        "  if cmd1 == 5:\n",
        "    if stack:\n",
        "      print(stack[0])\n",
        "    else:\n",
        "      print(-1)"
      ],
      "metadata": {
        "colab": {
          "base_uri": "https://localhost:8080/"
        },
        "id": "sbORvdmZkMEq",
        "outputId": "7150cbbc-6162-4cfd-d8b3-b8603b4e293b"
      },
      "execution_count": 2,
      "outputs": [
        {
          "output_type": "stream",
          "name": "stdout",
          "text": [
            "9\n",
            "4\n",
            "1\n",
            "1 3\n",
            "1 5\n",
            "3\n",
            "2\n",
            "2\n",
            "5\n",
            "5\n",
            "3\n",
            "2\n",
            "3\n",
            "2\n",
            "-1\n",
            "5\n",
            "-1\n"
          ]
        }
      ]
    },
    {
      "cell_type": "markdown",
      "source": [
        "## HackerRank"
      ],
      "metadata": {
        "id": "hCC7HaK8nt7E"
      }
    },
    {
      "cell_type": "markdown",
      "source": [
        "### Integers Come In All Sizes"
      ],
      "metadata": {
        "id": "CpbRCO1knv3N"
      }
    },
    {
      "cell_type": "code",
      "source": [
        "a = int(input())\n",
        "b = int(input())\n",
        "c = int(input())\n",
        "d = int(input())\n",
        "\n",
        "print(a**b + c**d)"
      ],
      "metadata": {
        "id": "kvatrWFZnvdg"
      },
      "execution_count": null,
      "outputs": []
    }
  ]
}