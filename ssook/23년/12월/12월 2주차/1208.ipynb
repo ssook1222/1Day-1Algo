{
  "nbformat": 4,
  "nbformat_minor": 0,
  "metadata": {
    "colab": {
      "provenance": [],
      "authorship_tag": "ABX9TyNPRNEvJIxMMMzGD5GPMODS",
      "include_colab_link": true
    },
    "kernelspec": {
      "name": "python3",
      "display_name": "Python 3"
    },
    "language_info": {
      "name": "python"
    }
  },
  "cells": [
    {
      "cell_type": "markdown",
      "metadata": {
        "id": "view-in-github",
        "colab_type": "text"
      },
      "source": [
        "<a href=\"https://colab.research.google.com/github/ssook1222/1Day-1Algo/blob/master/ssook/23%EB%85%84/12%EC%9B%94/12%EC%9B%94%202%EC%A3%BC%EC%B0%A8/1208.ipynb\" target=\"_parent\"><img src=\"https://colab.research.google.com/assets/colab-badge.svg\" alt=\"Open In Colab\"/></a>"
      ]
    },
    {
      "cell_type": "markdown",
      "source": [
        "## BoJ"
      ],
      "metadata": {
        "id": "_DUUuNl9gZgL"
      }
    },
    {
      "cell_type": "markdown",
      "source": [
        "### 9946"
      ],
      "metadata": {
        "id": "gHfwExBGgdNg"
      }
    },
    {
      "cell_type": "code",
      "execution_count": null,
      "metadata": {
        "colab": {
          "base_uri": "https://localhost:8080/"
        },
        "id": "G0eY50BfgUJr",
        "outputId": "00c53d14-4f8d-4e95-ccf7-3f6d5b365c34"
      },
      "outputs": [
        {
          "name": "stdout",
          "output_type": "stream",
          "text": [
            "testing\n",
            "intestg\n",
            "Case 1: same\n",
            "abc\n",
            "aabbbcccc\n",
            "Case 2: different\n",
            "abcabcbcc\n",
            "aabbbcccc\n",
            "Case 3: same\n",
            "abc\n",
            "xyz\n",
            "Case 4: different\n",
            "END\n",
            "END\n"
          ]
        }
      ],
      "source": [
        "import sys\n",
        "\n",
        "cnt = 0\n",
        "\n",
        "while True:\n",
        "  cnt += 1\n",
        "\n",
        "  s1 = sys.stdin.readline().rstrip()\n",
        "  s2 = sys.stdin.readline().rstrip()\n",
        "\n",
        "  if s1 == s2 == 'END':\n",
        "    break\n",
        "  else:\n",
        "    raw = list(map(str, s1))\n",
        "    bigyo = list(map(str, s2))\n",
        "\n",
        "    raw.sort()\n",
        "    bigyo.sort()\n",
        "\n",
        "    if raw == bigyo:\n",
        "      print(\"Case %d: same\" %cnt)\n",
        "\n",
        "    else:\n",
        "      print(\"Case %d: different\" %cnt)"
      ]
    },
    {
      "cell_type": "markdown",
      "source": [
        "### 17548"
      ],
      "metadata": {
        "id": "k-1EVblvgeFt"
      }
    },
    {
      "cell_type": "code",
      "source": [
        "import sys\n",
        "\n",
        "raw = sys.stdin.readline().rstrip()\n",
        "e_cnt = raw.count('e')\n",
        "\n",
        "tmp = 'e' * (e_cnt) * 2\n",
        "print('h' + tmp + 'y')"
      ],
      "metadata": {
        "id": "4b0SgrS7ge7K",
        "colab": {
          "base_uri": "https://localhost:8080/"
        },
        "outputId": "2e0f67e3-c36c-45a2-f70d-b96588b99832"
      },
      "execution_count": null,
      "outputs": [
        {
          "output_type": "stream",
          "name": "stdout",
          "text": [
            "heeeeey\n",
            "heeeeeeeeeey\n"
          ]
        }
      ]
    },
    {
      "cell_type": "markdown",
      "source": [
        "## CodeTree"
      ],
      "metadata": {
        "id": "f0ikyoRsgbaP"
      }
    },
    {
      "cell_type": "markdown",
      "source": [
        "### 이차원 격자 10"
      ],
      "metadata": {
        "id": "6mLl8ag647e9"
      }
    },
    {
      "cell_type": "code",
      "source": [
        "n, k = map(int, input().split())\n",
        "nums = []\n",
        "hap = 0\n",
        "\n",
        "for _ in range(n):\n",
        "    nums.append(list(map(int, input().split())))\n",
        "\n",
        "r1, c1 = map(int, input().split())\n",
        "r2, c2 = map(int, input().split())\n",
        "\n",
        "for j in range(c1-1, c2):\n",
        "    for i in range(r1-1, r2):\n",
        "        if nums[i][j] <= k:\n",
        "            hap += nums[i][j]\n",
        "\n",
        "print(hap)"
      ],
      "metadata": {
        "id": "76WkvaC448QF"
      },
      "execution_count": null,
      "outputs": []
    }
  ]
}