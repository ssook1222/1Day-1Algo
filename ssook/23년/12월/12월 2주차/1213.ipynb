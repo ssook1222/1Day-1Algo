{
  "nbformat": 4,
  "nbformat_minor": 0,
  "metadata": {
    "colab": {
      "provenance": [],
      "authorship_tag": "ABX9TyPL7Mj/uuUy4A1KGwJN+7Q2",
      "include_colab_link": true
    },
    "kernelspec": {
      "name": "python3",
      "display_name": "Python 3"
    },
    "language_info": {
      "name": "python"
    }
  },
  "cells": [
    {
      "cell_type": "markdown",
      "metadata": {
        "id": "view-in-github",
        "colab_type": "text"
      },
      "source": [
        "<a href=\"https://colab.research.google.com/github/ssook1222/1Day-1Algo/blob/master/ssook/23%EB%85%84/12%EC%9B%94/12%EC%9B%94%202%EC%A3%BC%EC%B0%A8/1213.ipynb\" target=\"_parent\"><img src=\"https://colab.research.google.com/assets/colab-badge.svg\" alt=\"Open In Colab\"/></a>"
      ]
    },
    {
      "cell_type": "markdown",
      "source": [
        "## BoJ"
      ],
      "metadata": {
        "id": "GB9tk8UCUwdW"
      }
    },
    {
      "cell_type": "markdown",
      "source": [
        "### 25816"
      ],
      "metadata": {
        "id": "opwMfZKMUyqc"
      }
    },
    {
      "cell_type": "code",
      "execution_count": null,
      "metadata": {
        "id": "uDLsAmWzRvbz"
      },
      "outputs": [],
      "source": [
        "import sys\n",
        "\n",
        "n = int(sys.stdin.readline().rstrip())\n",
        "univ = {}\n",
        "univ_cnt = {}\n",
        "\n",
        "for index in range(1, n+1):\n",
        "    name = sys.stdin.readline().rstrip()\n",
        "\n",
        "    if name in univ:\n",
        "        univ[name][1].append(index)\n",
        "        univ[name][0] += index\n",
        "    else:\n",
        "        univ[name] = [index, [index]]\n",
        "\n",
        "univ = dict(sorted(univ.items(), key=lambda x: len(x[1][1])))\n",
        "\n",
        "ans = {}\n",
        "\n",
        "for raw in univ:\n",
        "    avg = univ[raw][0] / len(univ[raw][1])\n",
        "    ans[raw] = avg\n",
        "\n",
        "ans = dict(sorted(ans.items(), key=lambda x: x[1]))\n",
        "for uni in ans:\n",
        "    print(uni)"
      ]
    },
    {
      "cell_type": "markdown",
      "source": [
        "### 9288"
      ],
      "metadata": {
        "id": "5nko1TdnUzyE"
      }
    },
    {
      "cell_type": "code",
      "source": [
        "t = int(input())\n",
        "\n",
        "for i in range(t):\n",
        "    n = int(input())\n",
        "    print(f\"Case {i+1}:\")\n",
        "\n",
        "    for a in range(1, 7):\n",
        "        for b in range(a, 7):\n",
        "            if a+b == n:\n",
        "                print(f\"({a},{b})\")"
      ],
      "metadata": {
        "colab": {
          "base_uri": "https://localhost:8080/"
        },
        "id": "JsgjICPiSDBX",
        "outputId": "2d18b12f-edcd-4e02-d317-7c09f90b0c78"
      },
      "execution_count": null,
      "outputs": [
        {
          "name": "stdout",
          "output_type": "stream",
          "text": [
            "6\n",
            "Case 1:\n",
            "(1,5)\n",
            "(2,4)\n",
            "11\n",
            "Case 2:\n",
            "(5,6)\n",
            "12\n",
            "\n"
          ]
        }
      ]
    },
    {
      "cell_type": "markdown",
      "source": [
        "## CodeTree"
      ],
      "metadata": {
        "id": "fu4WDu9JdH65"
      }
    },
    {
      "cell_type": "markdown",
      "source": [
        "### 특정 문자로 끝나는 문자열"
      ],
      "metadata": {
        "id": "qyNJCZtZdJTN"
      }
    },
    {
      "cell_type": "code",
      "source": [
        "words = []\n",
        "cnt = 0\n",
        "for _ in range(11):\n",
        "    s = input()\n",
        "    if len(s) == 1:\n",
        "        a = s\n",
        "        for word in words:\n",
        "            if word[-1] == a:\n",
        "                print(word)\n",
        "                cnt += 1\n",
        "    else:\n",
        "        words.append(s)\n",
        "if cnt == 0:\n",
        "    print('None')"
      ],
      "metadata": {
        "id": "_5StSQp6dKEJ"
      },
      "execution_count": null,
      "outputs": []
    }
  ]
}