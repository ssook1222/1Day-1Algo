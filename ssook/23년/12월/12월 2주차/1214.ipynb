{
  "nbformat": 4,
  "nbformat_minor": 0,
  "metadata": {
    "colab": {
      "provenance": [],
      "authorship_tag": "ABX9TyOaYQwXpmD0GeqOfEY3vhEc",
      "include_colab_link": true
    },
    "kernelspec": {
      "name": "python3",
      "display_name": "Python 3"
    },
    "language_info": {
      "name": "python"
    }
  },
  "cells": [
    {
      "cell_type": "markdown",
      "metadata": {
        "id": "view-in-github",
        "colab_type": "text"
      },
      "source": [
        "<a href=\"https://colab.research.google.com/github/ssook1222/1Day-1Algo/blob/master/ssook/23%EB%85%84/12%EC%9B%94/12%EC%9B%94%202%EC%A3%BC%EC%B0%A8/1214.ipynb\" target=\"_parent\"><img src=\"https://colab.research.google.com/assets/colab-badge.svg\" alt=\"Open In Colab\"/></a>"
      ]
    },
    {
      "cell_type": "markdown",
      "source": [
        "## BoJ"
      ],
      "metadata": {
        "id": "06FEExtHleXo"
      }
    },
    {
      "cell_type": "markdown",
      "source": [
        "### 25099"
      ],
      "metadata": {
        "id": "Q6V7WxkslgMt"
      }
    },
    {
      "cell_type": "code",
      "execution_count": null,
      "metadata": {
        "colab": {
          "base_uri": "https://localhost:8080/"
        },
        "id": "U5p8MLGPlZbG",
        "outputId": "c6d4f939-937d-4f45-e56e-c1cca224218d"
      },
      "outputs": [
        {
          "output_type": "stream",
          "name": "stdout",
          "text": [
            "5\n",
            "satan\n",
            "santa\n",
            "slient\n",
            "listen\n",
            "cat\n",
            "satan\n",
            "slient\n",
            "cat\n"
          ]
        }
      ],
      "source": [
        "import sys\n",
        "\n",
        "n = int(sys.stdin.readline().rstrip())\n",
        "words = {}\n",
        "\n",
        "for _ in range(n):\n",
        "  s = sys.stdin.readline().rstrip()\n",
        "  sl = list(s)\n",
        "  sl.sort()\n",
        "\n",
        "  if ''.join(sl) in words:\n",
        "    pass\n",
        "  else:\n",
        "    words[''.join(sl)] = s\n",
        "\n",
        "for word in words:\n",
        "  print(words[word])"
      ]
    },
    {
      "cell_type": "markdown",
      "source": [
        "### 15820"
      ],
      "metadata": {
        "id": "LOPY9IZ3lhdW"
      }
    },
    {
      "cell_type": "code",
      "source": [
        "n, m = map(int, input().split())\n",
        "\n",
        "chk1 = True\n",
        "chk2 = True\n",
        "\n",
        "for _ in range(n):\n",
        "  a, b = map(int, input().split())\n",
        "\n",
        "  if a == b:\n",
        "    pass\n",
        "  else:\n",
        "    chk1 = False\n",
        "\n",
        "for _ in range(m):\n",
        "  a, b = map(int, input().split())\n",
        "\n",
        "  if a == b:\n",
        "    pass\n",
        "  else:\n",
        "    chk2 = False\n",
        "\n",
        "if chk1:\n",
        "  if chk2:\n",
        "    print(\"Accepted\")\n",
        "  else:\n",
        "    print(\"Why Wrong!!!\")\n",
        "\n",
        "if not chk1:\n",
        "  print(\"Wrong Answer\")"
      ],
      "metadata": {
        "colab": {
          "base_uri": "https://localhost:8080/"
        },
        "id": "Y7XKKUziliVH",
        "outputId": "bb654372-dcd0-4b6f-bd44-589d4c00c370"
      },
      "execution_count": null,
      "outputs": [
        {
          "output_type": "stream",
          "name": "stdout",
          "text": [
            "2 3\n",
            "1 1\n",
            "-1 -1\n",
            "1 1\n",
            "0 22\n",
            "-1 -1\n",
            "Why Wrong!!!\n"
          ]
        }
      ]
    },
    {
      "cell_type": "markdown",
      "source": [
        "---"
      ],
      "metadata": {
        "id": "tLVt_klFljC0"
      }
    },
    {
      "cell_type": "markdown",
      "source": [
        "## Programmers"
      ],
      "metadata": {
        "id": "mJ6-H2QQljr8"
      }
    },
    {
      "cell_type": "markdown",
      "source": [
        "### 둘만의 암호"
      ],
      "metadata": {
        "id": "mWMv7t_kllEw"
      }
    },
    {
      "cell_type": "code",
      "source": [
        "def solution(s, skip, index):\n",
        "    answer = ''\n",
        "    alpha = list(set('abcdefghijklmnopqrstuvwxyz') - set(skip))\n",
        "    alpha.sort()\n",
        "    alpha = ''.join(alpha)\n",
        "\n",
        "    for c in s :\n",
        "        change = alpha.find(c) + index\n",
        "        while change >= len(alpha) :\n",
        "            change -= len(alpha)\n",
        "        answer += alpha[change]\n",
        "\n",
        "    return answer"
      ],
      "metadata": {
        "id": "ycXEREuSlmGy"
      },
      "execution_count": null,
      "outputs": []
    }
  ]
}