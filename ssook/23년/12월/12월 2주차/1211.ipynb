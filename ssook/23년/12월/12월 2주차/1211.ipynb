{
  "nbformat": 4,
  "nbformat_minor": 0,
  "metadata": {
    "colab": {
      "provenance": [],
      "authorship_tag": "ABX9TyMSUFU1z/m77x3ppNL/sQXm",
      "include_colab_link": true
    },
    "kernelspec": {
      "name": "python3",
      "display_name": "Python 3"
    },
    "language_info": {
      "name": "python"
    }
  },
  "cells": [
    {
      "cell_type": "markdown",
      "metadata": {
        "id": "view-in-github",
        "colab_type": "text"
      },
      "source": [
        "<a href=\"https://colab.research.google.com/github/ssook1222/1Day-1Algo/blob/master/ssook/23%EB%85%84/12%EC%9B%94/12%EC%9B%94%202%EC%A3%BC%EC%B0%A8/1211.ipynb\" target=\"_parent\"><img src=\"https://colab.research.google.com/assets/colab-badge.svg\" alt=\"Open In Colab\"/></a>"
      ]
    },
    {
      "cell_type": "markdown",
      "source": [
        "## BoJ"
      ],
      "metadata": {
        "id": "9U0Dmp_eNmNA"
      }
    },
    {
      "cell_type": "markdown",
      "source": [
        "### 26496"
      ],
      "metadata": {
        "id": "HXe7AqvuNpWc"
      }
    },
    {
      "cell_type": "code",
      "execution_count": 8,
      "metadata": {
        "colab": {
          "base_uri": "https://localhost:8080/"
        },
        "id": "D2BMBJRoNkgm",
        "outputId": "2fad10e3-5ac1-4ed9-bba1-3e2881f17f04"
      },
      "outputs": [
        {
          "name": "stdout",
          "output_type": "stream",
          "text": [
            "MOM\n",
            "3 - \"M\" \"O\" \"MOM\" \n",
            "MADAM\n",
            "5 - \"M\" \"A\" \"D\" \"ADA\" \"MADAM\" \n",
            "\n"
          ]
        }
      ],
      "source": [
        "def find_palindromes(s):\n",
        "    palindromes = set()\n",
        "\n",
        "    def expand_around_center(left, right):\n",
        "        while left >= 0 and right < len(s) and s[left] == s[right]:\n",
        "            palindromes.add(s[left:right + 1])\n",
        "            left -= 1\n",
        "            right += 1\n",
        "\n",
        "    for i in range(len(s)):\n",
        "        expand_around_center(i, i)\n",
        "\n",
        "    for i in range(len(s) - 1):\n",
        "        expand_around_center(i, i + 1)\n",
        "\n",
        "    return palindromes\n",
        "\n",
        "while True:\n",
        "    s = input()\n",
        "    if s == '':\n",
        "        break\n",
        "    else:\n",
        "        palindromes = find_palindromes(s)\n",
        "        sorted_palindromes = sorted(palindromes, key=lambda x: (len(x), s.find(x)))\n",
        "\n",
        "        print('%d - ' % len(sorted_palindromes), end='')\n",
        "        for palindrome in sorted_palindromes:\n",
        "            print('\"%s\" ' % palindrome, end='')\n",
        "        print('')"
      ]
    },
    {
      "cell_type": "markdown",
      "source": [
        "### 17904"
      ],
      "metadata": {
        "id": "t698usyvNqga"
      }
    },
    {
      "cell_type": "code",
      "source": [
        "l = int(input())\n",
        "s = input()\n",
        "\n",
        "cnt_2 = s.count('2')\n",
        "cnt_e = s.count('e')\n",
        "\n",
        "if cnt_2 > cnt_e:\n",
        "  print('2')\n",
        "\n",
        "elif cnt_2 < cnt_e:\n",
        "  print('e')\n",
        "\n",
        "else:\n",
        "  print('yee')"
      ],
      "metadata": {
        "colab": {
          "base_uri": "https://localhost:8080/"
        },
        "id": "eAF9uou6NrpK",
        "outputId": "ba56c70e-2eae-4f98-e29c-350df3419d2a"
      },
      "execution_count": 10,
      "outputs": [
        {
          "output_type": "stream",
          "name": "stdout",
          "text": [
            "12\n",
            "222eee222eee\n",
            "yee\n"
          ]
        }
      ]
    },
    {
      "cell_type": "markdown",
      "source": [
        "---"
      ],
      "metadata": {
        "id": "BeWpFuncNsVU"
      }
    },
    {
      "cell_type": "markdown",
      "source": [
        "## CodeTree"
      ],
      "metadata": {
        "id": "E1o8_GGvNtFo"
      }
    },
    {
      "cell_type": "markdown",
      "source": [
        "### 문자열 길이의 합"
      ],
      "metadata": {
        "id": "KF49z9AdNwWo"
      }
    },
    {
      "cell_type": "code",
      "source": [
        "n = int(input())\n",
        "hap = 0\n",
        "a_cnt = 0\n",
        "\n",
        "for _ in range(n):\n",
        "    s = input()\n",
        "    hap += len(s)\n",
        "    if s[0] == 'a':\n",
        "        a_cnt += 1\n",
        "\n",
        "print(hap, a_cnt)"
      ],
      "metadata": {
        "id": "Ouso6w4dNxKf"
      },
      "execution_count": null,
      "outputs": []
    }
  ]
}