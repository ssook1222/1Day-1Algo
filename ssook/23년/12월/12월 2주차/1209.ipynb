{
  "nbformat": 4,
  "nbformat_minor": 0,
  "metadata": {
    "colab": {
      "provenance": [],
      "authorship_tag": "ABX9TyOhdzD1CrRPGjqL0WRxmEtd",
      "include_colab_link": true
    },
    "kernelspec": {
      "name": "python3",
      "display_name": "Python 3"
    },
    "language_info": {
      "name": "python"
    }
  },
  "cells": [
    {
      "cell_type": "markdown",
      "metadata": {
        "id": "view-in-github",
        "colab_type": "text"
      },
      "source": [
        "<a href=\"https://colab.research.google.com/github/ssook1222/1Day-1Algo/blob/master/ssook/23%EB%85%84/12%EC%9B%94/12%EC%9B%94%202%EC%A3%BC%EC%B0%A8/1209.ipynb\" target=\"_parent\"><img src=\"https://colab.research.google.com/assets/colab-badge.svg\" alt=\"Open In Colab\"/></a>"
      ]
    },
    {
      "cell_type": "markdown",
      "source": [
        "## BoJ"
      ],
      "metadata": {
        "id": "EyI3V-kbnd9J"
      }
    },
    {
      "cell_type": "markdown",
      "source": [
        "### 30068"
      ],
      "metadata": {
        "id": "Ivu3JDjnnflC"
      }
    },
    {
      "cell_type": "code",
      "execution_count": null,
      "metadata": {
        "id": "38nOuqotnBlr"
      },
      "outputs": [],
      "source": [
        "import sys\n",
        "\n",
        "n = int(sys.stdin.readline().rstrip())\n",
        "cars = {}\n",
        "bye = 0\n",
        "for _ in range(n):\n",
        "  time, car = map(int, sys.stdin.readline().rstrip().split())\n",
        "\n",
        "  if car in cars:\n",
        "    bye += 1\n",
        "    cars[car] = [time - cars[car][0], bye]\n",
        "\n",
        "  else:\n",
        "    cars[car] = [time, 0]\n",
        "\n",
        "cars = sorted(cars.items(), key = lambda x: x[1][1])\n",
        "\n",
        "for c in cars:\n",
        "    if c[1][1] == 0:\n",
        "        pass\n",
        "    else:\n",
        "        print(c[0], c[1][0])"
      ]
    },
    {
      "cell_type": "markdown",
      "source": [
        "### 6750"
      ],
      "metadata": {
        "id": "5yi0-xI_ngXf"
      }
    },
    {
      "cell_type": "code",
      "source": [
        "import sys\n",
        "\n",
        "letters = ['I', 'O', 'S', 'H', 'Z', 'X', 'N']\n",
        "\n",
        "s = sys.stdin.readline().rstrip()\n",
        "chk = True\n",
        "\n",
        "for c in s:\n",
        "  if c not in letters:\n",
        "    chk = False\n",
        "    break\n",
        "\n",
        "if chk:\n",
        "  print('YES')\n",
        "\n",
        "else:\n",
        "  print('NO')"
      ],
      "metadata": {
        "colab": {
          "base_uri": "https://localhost:8080/"
        },
        "id": "9um35XTMnhEn",
        "outputId": "aec64931-fa97-40da-e475-d7703b85f3e4"
      },
      "execution_count": null,
      "outputs": [
        {
          "output_type": "stream",
          "name": "stdout",
          "text": [
            "SHINS\n",
            "YES\n"
          ]
        }
      ]
    },
    {
      "cell_type": "markdown",
      "source": [
        "---"
      ],
      "metadata": {
        "id": "MBVQZIoanhyI"
      }
    },
    {
      "cell_type": "markdown",
      "source": [
        "## LeetCode"
      ],
      "metadata": {
        "id": "G1puLPaUnhqv"
      }
    },
    {
      "cell_type": "markdown",
      "source": [
        "### 1221. Split a String in Balanced Strings"
      ],
      "metadata": {
        "id": "uSxV0Y-FnkLs"
      }
    },
    {
      "cell_type": "code",
      "source": [
        "class Solution:\n",
        "    def balancedStringSplit(self, s: str) -> int:\n",
        "        stack = []\n",
        "        cnt = 0\n",
        "\n",
        "        for c in s:\n",
        "            if not stack or stack[-1] == c:\n",
        "                stack.append(c)\n",
        "            else:\n",
        "                stack.pop()\n",
        "                if not stack:\n",
        "                    cnt += 1\n",
        "\n",
        "        return cnt"
      ],
      "metadata": {
        "id": "ZzmiU4Y6nk2L"
      },
      "execution_count": null,
      "outputs": []
    }
  ]
}