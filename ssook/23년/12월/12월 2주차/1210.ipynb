{
  "nbformat": 4,
  "nbformat_minor": 0,
  "metadata": {
    "colab": {
      "provenance": [],
      "authorship_tag": "ABX9TyOsE8X++83gATJVNoYp6AuR",
      "include_colab_link": true
    },
    "kernelspec": {
      "name": "python3",
      "display_name": "Python 3"
    },
    "language_info": {
      "name": "python"
    }
  },
  "cells": [
    {
      "cell_type": "markdown",
      "metadata": {
        "id": "view-in-github",
        "colab_type": "text"
      },
      "source": [
        "<a href=\"https://colab.research.google.com/github/ssook1222/1Day-1Algo/blob/master/ssook/23%EB%85%84/12%EC%9B%94/12%EC%9B%94%202%EC%A3%BC%EC%B0%A8/1210.ipynb\" target=\"_parent\"><img src=\"https://colab.research.google.com/assets/colab-badge.svg\" alt=\"Open In Colab\"/></a>"
      ]
    },
    {
      "cell_type": "markdown",
      "source": [
        "## BoJ"
      ],
      "metadata": {
        "id": "HE8RTkTr8t4j"
      }
    },
    {
      "cell_type": "markdown",
      "source": [
        "### 8625"
      ],
      "metadata": {
        "id": "U0FeKEFo8vaF"
      }
    },
    {
      "cell_type": "code",
      "source": [
        "import sys\n",
        "\n",
        "def find_minimal_number(n, k, elements):\n",
        "    A = set(elements)\n",
        "    current_min = k\n",
        "\n",
        "    while current_min in A:\n",
        "        current_min += k\n",
        "\n",
        "    return current_min\n",
        "\n",
        "n, k = map(int, sys.stdin.readline().rstrip().split())\n",
        "elements = list(map(int, sys.stdin.readline().rstrip().split()))\n",
        "\n",
        "result = find_minimal_number(n, k, elements)\n",
        "print(result)"
      ],
      "metadata": {
        "colab": {
          "base_uri": "https://localhost:8080/"
        },
        "id": "k5zOC8z09yBI",
        "outputId": "f87afa3e-7d67-4e8a-f217-32ac2ac4e3b5"
      },
      "execution_count": null,
      "outputs": [
        {
          "output_type": "stream",
          "name": "stdout",
          "text": [
            "6 2\n",
            "3 8 1 2 4 10\n",
            "6\n"
          ]
        }
      ]
    },
    {
      "cell_type": "markdown",
      "source": [
        "### 15272"
      ],
      "metadata": {
        "id": "xqZtW6_aCKgG"
      }
    },
    {
      "cell_type": "code",
      "execution_count": null,
      "metadata": {
        "colab": {
          "base_uri": "https://localhost:8080/"
        },
        "id": "9zGvUmlt8HDj",
        "outputId": "b37753f5-5647-4039-f466-a145ead0941f"
      },
      "outputs": [
        {
          "output_type": "stream",
          "name": "stdout",
          "text": [
            "octopuses\n",
            "no hiss\n"
          ]
        }
      ],
      "source": [
        "s = input()\n",
        "\n",
        "if 'ss' in s:\n",
        "  print('hiss')\n",
        "\n",
        "else:\n",
        "  print('no hiss')"
      ]
    },
    {
      "cell_type": "markdown",
      "source": [
        "---"
      ],
      "metadata": {
        "id": "GyxItXfsCasR"
      }
    },
    {
      "cell_type": "markdown",
      "source": [
        "## CodeTree"
      ],
      "metadata": {
        "id": "dDGgmfoFCbs1"
      }
    },
    {
      "cell_type": "markdown",
      "source": [
        "### 인접한 수끼리 1차이 나는 수 출력"
      ],
      "metadata": {
        "id": "AFFArD9tCgEL"
      }
    },
    {
      "cell_type": "code",
      "source": [
        "def generate_numbers(n):\n",
        "    def dfs(curr_num, depth):\n",
        "        if depth == n:\n",
        "            result.append(curr_num)\n",
        "            return\n",
        "\n",
        "        last_digit = int(str(curr_num)[-1])\n",
        "        for next_digit in {last_digit - 1, last_digit + 1} & set(range(1, 10)):\n",
        "            next_num = int(str(curr_num) + str(next_digit))\n",
        "            dfs(next_num, depth + 1)\n",
        "\n",
        "    result = []\n",
        "    for start_digit in range(1, 10):\n",
        "        dfs(start_digit, 1)\n",
        "\n",
        "    return result\n",
        "\n",
        "\n",
        "n = int(input())\n",
        "result_numbers = generate_numbers(n)\n",
        "for num in result_numbers:\n",
        "    print(num)"
      ],
      "metadata": {
        "id": "AsE9HgU3ChZZ"
      },
      "execution_count": null,
      "outputs": []
    }
  ]
}