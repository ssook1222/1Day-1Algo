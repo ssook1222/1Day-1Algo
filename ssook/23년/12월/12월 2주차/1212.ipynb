{
  "nbformat": 4,
  "nbformat_minor": 0,
  "metadata": {
    "colab": {
      "provenance": [],
      "authorship_tag": "ABX9TyN3VrGD3rnUu00PrGcScIr3",
      "include_colab_link": true
    },
    "kernelspec": {
      "name": "python3",
      "display_name": "Python 3"
    },
    "language_info": {
      "name": "python"
    }
  },
  "cells": [
    {
      "cell_type": "markdown",
      "metadata": {
        "id": "view-in-github",
        "colab_type": "text"
      },
      "source": [
        "<a href=\"https://colab.research.google.com/github/ssook1222/1Day-1Algo/blob/master/ssook/23%EB%85%84/12%EC%9B%94/12%EC%9B%94%202%EC%A3%BC%EC%B0%A8/1212.ipynb\" target=\"_parent\"><img src=\"https://colab.research.google.com/assets/colab-badge.svg\" alt=\"Open In Colab\"/></a>"
      ]
    },
    {
      "cell_type": "markdown",
      "source": [
        "## BoJ"
      ],
      "metadata": {
        "id": "7wXyF4V6FnAC"
      }
    },
    {
      "cell_type": "markdown",
      "source": [
        "### 24771"
      ],
      "metadata": {
        "id": "jWshcbZ_FptI"
      }
    },
    {
      "cell_type": "code",
      "execution_count": null,
      "metadata": {
        "colab": {
          "base_uri": "https://localhost:8080/"
        },
        "id": "vfwlb9oYFKdi",
        "outputId": "9f45d741-4e02-4d04-d553-b555b7a4f553"
      },
      "outputs": [
        {
          "name": "stdout",
          "output_type": "stream",
          "text": [
            "2\n",
            "African elephant\n",
            "White tiger\n",
            "List 1:\n",
            "elephant |  1\n",
            "tiger |  1\n",
            "6\n",
            "African elephant\n",
            "White tiger\n",
            "Indian elephant\n",
            "Siberian tiger\n",
            "Tiger\n",
            "Panda bear\n",
            "List 2:\n",
            "Tiger |  1\n",
            "bear |  1\n",
            "elephant |  2\n",
            "tiger |  2\n",
            "1\n",
            "Blue Russian Penguin\n",
            "List 3:\n",
            "Penguin |  1\n",
            "0\n"
          ]
        }
      ],
      "source": [
        "import sys\n",
        "\n",
        "cnt = 0\n",
        "\n",
        "while True:\n",
        "  n = int(sys.stdin.readline().rstrip())\n",
        "  cnt += 1\n",
        "\n",
        "  if n == 0:\n",
        "    break\n",
        "\n",
        "  else:\n",
        "    animals = {}\n",
        "\n",
        "    for _ in range(n):\n",
        "      s = input()\n",
        "      if ' ' in s:\n",
        "        ls = list(map(str, s.split()))\n",
        "        if ls[-1].lower() in animals:\n",
        "          animals[ls[-1].lower()] += 1\n",
        "        else:\n",
        "          animals[ls[-1].lower()] = 1\n",
        "      else:\n",
        "        if s.lower() in animals:\n",
        "          animals[s.lower()] += 1\n",
        "        else:\n",
        "          animals[s.lower()] = 1\n",
        "\n",
        "    print(\"List %d:\" %cnt)\n",
        "    animals = dict(sorted(animals.items()))\n",
        "\n",
        "    for name in animals:\n",
        "      print(\"%s | %d\" %(name, animals[name]))"
      ]
    },
    {
      "cell_type": "markdown",
      "source": [
        "### 29807"
      ],
      "metadata": {
        "id": "eYPCToEmSv8v"
      }
    },
    {
      "cell_type": "code",
      "source": [
        "t = int(input())\n",
        "\n",
        "scores = list(map(int, input().split()))\n",
        "\n",
        "while len(scores) < 5:\n",
        "  scores.append(0)\n",
        "\n",
        "kor = scores[0]\n",
        "eng = scores[2]\n",
        "math = scores[1]\n",
        "exp = scores[3]\n",
        "other = scores[4]\n",
        "\n",
        "if kor > eng:\n",
        "  num1 = abs(kor-eng) * 508\n",
        "\n",
        "elif kor <= eng:\n",
        "   num1 = abs(kor-eng) * 108\n",
        "\n",
        "if math > exp:\n",
        "  num2 = abs(math - exp) * 212\n",
        "\n",
        "elif math <= exp:\n",
        "   num2 = abs(math - exp) * 305\n",
        "\n",
        "num3 = other * 707\n",
        "\n",
        "raw = num1 + num2 + num3\n",
        "print(raw*4763)"
      ],
      "metadata": {
        "colab": {
          "base_uri": "https://localhost:8080/"
        },
        "id": "LEC7lMAHhQjp",
        "outputId": "f6d771f6-9150-4415-c550-964c14e8cf86"
      },
      "execution_count": null,
      "outputs": [
        {
          "output_type": "stream",
          "name": "stdout",
          "text": [
            "4\n",
            "94 96 90 88\n",
            "17756464\n"
          ]
        }
      ]
    },
    {
      "cell_type": "markdown",
      "source": [
        "### 5342"
      ],
      "metadata": {
        "id": "nmHs48VCFqvs"
      }
    },
    {
      "cell_type": "code",
      "source": [
        "items = {'Paper' : 57.99, 'Printer' : 120.50, 'Planners' : 31.25, 'Binders': 22.50, 'Calendar': 10.95, 'Notebooks': 11.20, 'Ink': 66.95}\n",
        "hap = 0\n",
        "\n",
        "while True:\n",
        "  s = input()\n",
        "  if s == 'EOI':\n",
        "    break\n",
        "  else:\n",
        "    hap += items[s]\n",
        "\n",
        "print(\"$%.2f\" %(hap))"
      ],
      "metadata": {
        "colab": {
          "base_uri": "https://localhost:8080/"
        },
        "id": "8tQTnX_pFrlt",
        "outputId": "4dd383d1-dfb6-4b83-c2c4-991628fdd430"
      },
      "execution_count": null,
      "outputs": [
        {
          "output_type": "stream",
          "name": "stdout",
          "text": [
            "Binders\n",
            "Calendar\n",
            "Ink\n",
            "Notebooks\n",
            "Binders\n",
            "Ink\n",
            "EOI\n",
            "201.05\n"
          ]
        }
      ]
    }
  ]
}