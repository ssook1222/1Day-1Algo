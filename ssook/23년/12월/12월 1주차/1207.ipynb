{
  "nbformat": 4,
  "nbformat_minor": 0,
  "metadata": {
    "colab": {
      "provenance": [],
      "authorship_tag": "ABX9TyNkHTMvgwE/3IMEYQDQzD11",
      "include_colab_link": true
    },
    "kernelspec": {
      "name": "python3",
      "display_name": "Python 3"
    },
    "language_info": {
      "name": "python"
    }
  },
  "cells": [
    {
      "cell_type": "markdown",
      "metadata": {
        "id": "view-in-github",
        "colab_type": "text"
      },
      "source": [
        "<a href=\"https://colab.research.google.com/github/ssook1222/1Day-1Algo/blob/master/ssook/23%EB%85%84/12%EC%9B%94/12%EC%9B%94%201%EC%A3%BC%EC%B0%A8/1207.ipynb\" target=\"_parent\"><img src=\"https://colab.research.google.com/assets/colab-badge.svg\" alt=\"Open In Colab\"/></a>"
      ]
    },
    {
      "cell_type": "markdown",
      "source": [
        "## BoJ"
      ],
      "metadata": {
        "id": "03xrm-cEtdzG"
      }
    },
    {
      "cell_type": "markdown",
      "source": [
        "### 16499"
      ],
      "metadata": {
        "id": "5u7H5H7QtlD4"
      }
    },
    {
      "cell_type": "code",
      "execution_count": null,
      "metadata": {
        "id": "oxni57wRtbmQ"
      },
      "outputs": [],
      "source": [
        "import sys\n",
        "\n",
        "words = {}\n",
        "\n",
        "n = int(sys.stdin.readline().rstrip())\n",
        "\n",
        "for _ in range(n):\n",
        "  s = list(map(str, sys.stdin.readline().rstrip()))\n",
        "  raw_s = sorted(s)\n",
        "  raw = ''.join(raw_s)\n",
        "\n",
        "  if raw in words:\n",
        "    words[raw] += 1\n",
        "  else:\n",
        "    words[raw] = 1\n",
        "\n",
        "print(len(words))"
      ]
    },
    {
      "cell_type": "markdown",
      "source": [
        "### 20540"
      ],
      "metadata": {
        "id": "ICginSQGtl1p"
      }
    },
    {
      "cell_type": "code",
      "source": [
        "import sys\n",
        "\n",
        "mbti = list(map(str, sys.stdin.readline().rstrip()))\n",
        "tmp = ''\n",
        "\n",
        "for m in mbti:\n",
        "  if m == 'E':\n",
        "    tmp += 'I'\n",
        "  elif m == 'I':\n",
        "    tmp += 'E'\n",
        "\n",
        "  if m == 'S':\n",
        "    tmp += 'N'\n",
        "  elif m == 'N':\n",
        "    tmp += 'S'\n",
        "\n",
        "  if m == 'F':\n",
        "    tmp += 'T'\n",
        "  elif m == 'T':\n",
        "    tmp += 'F'\n",
        "\n",
        "  if m == 'J':\n",
        "    tmp += 'P'\n",
        "  elif m == 'P':\n",
        "    tmp += 'J'\n",
        "\n",
        "print(tmp)"
      ],
      "metadata": {
        "colab": {
          "base_uri": "https://localhost:8080/"
        },
        "id": "JVklwaTjtnAp",
        "outputId": "783043fd-0809-4676-8bcd-61bd3ec3a264"
      },
      "execution_count": null,
      "outputs": [
        {
          "output_type": "stream",
          "name": "stdout",
          "text": [
            "ESTJ\n",
            "INFP\n"
          ]
        }
      ]
    },
    {
      "cell_type": "markdown",
      "source": [
        "---"
      ],
      "metadata": {
        "id": "VxkSDwIotnjo"
      }
    },
    {
      "cell_type": "markdown",
      "source": [
        "## CodeTree"
      ],
      "metadata": {
        "id": "tuBhkQnXtobj"
      }
    },
    {
      "cell_type": "markdown",
      "source": [
        "### 최대 마을의 크키"
      ],
      "metadata": {
        "id": "RaVUwCy1tuVU"
      }
    },
    {
      "cell_type": "code",
      "source": [
        "def dfs(grid, i, j, visited):\n",
        "    n = len(grid)\n",
        "    if i < 0 or i >= n or j < 0 or j >= n or grid[i][j] == 0 or visited[i][j]:\n",
        "        return 0\n",
        "\n",
        "    visited[i][j] = True\n",
        "    count = 1\n",
        "\n",
        "    count += dfs(grid, i - 1, j, visited)  # 위\n",
        "    count += dfs(grid, i + 1, j, visited)  # 아래\n",
        "    count += dfs(grid, i, j - 1, visited)  # 왼쪽\n",
        "    count += dfs(grid, i, j + 1, visited)  # 오른쪽\n",
        "\n",
        "    return count\n",
        "\n",
        "\n",
        "def find_largest_village(grid):\n",
        "    n = len(grid)\n",
        "    visited = [[False] * n for _ in range(n)]\n",
        "    max_village_size = 0\n",
        "\n",
        "    for i in range(n):\n",
        "        for j in range(n):\n",
        "            if grid[i][j] == 1 and not visited[i][j]:\n",
        "                village_size = dfs(grid, i, j, visited)\n",
        "                max_village_size = max(max_village_size, village_size)\n",
        "\n",
        "    return max_village_size\n",
        "\n",
        "\n",
        "n = int(input())\n",
        "grid = [list(map(int, input().split())) for _ in range(n)]\n",
        "result = find_largest_village(grid)\n",
        "\n",
        "print(result)"
      ],
      "metadata": {
        "id": "df9r_ETetvPd"
      },
      "execution_count": null,
      "outputs": []
    }
  ]
}