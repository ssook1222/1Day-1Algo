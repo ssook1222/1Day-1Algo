{
  "nbformat": 4,
  "nbformat_minor": 0,
  "metadata": {
    "colab": {
      "provenance": [],
      "authorship_tag": "ABX9TyPNL9JQzqOJ6dWZbr4zJDHF",
      "include_colab_link": true
    },
    "kernelspec": {
      "name": "python3",
      "display_name": "Python 3"
    },
    "language_info": {
      "name": "python"
    }
  },
  "cells": [
    {
      "cell_type": "markdown",
      "metadata": {
        "id": "view-in-github",
        "colab_type": "text"
      },
      "source": [
        "<a href=\"https://colab.research.google.com/github/ssook1222/1Day-1Algo/blob/master/ssook/23%EB%85%84/12%EC%9B%94/12%EC%9B%94%201%EC%A3%BC%EC%B0%A8/1203.ipynb\" target=\"_parent\"><img src=\"https://colab.research.google.com/assets/colab-badge.svg\" alt=\"Open In Colab\"/></a>"
      ]
    },
    {
      "cell_type": "markdown",
      "source": [
        "## BoJ"
      ],
      "metadata": {
        "id": "FOgpUSgTPqSj"
      }
    },
    {
      "cell_type": "markdown",
      "source": [
        "### 8975"
      ],
      "metadata": {
        "id": "WRXuZnv2Pr4S"
      }
    },
    {
      "cell_type": "code",
      "execution_count": null,
      "metadata": {
        "id": "Ouq2F-98PeXJ"
      },
      "outputs": [],
      "source": [
        "import sys\n",
        "\n",
        "n = int(sys.stdin.readline().rstrip())\n",
        "title_words = set()\n",
        "\n",
        "for _ in range(n):\n",
        "    title_words.add(sys.stdin.readline().rstrip())\n",
        "\n",
        "m = int(sys.stdin.readline().rstrip())\n",
        "lyrics_words = []\n",
        "\n",
        "for i in range(m):\n",
        "    s = sys.stdin.readline().rstrip()\n",
        "    lyrics_words.append(s)\n",
        "\n",
        "    if len(set(lyrics_words) & title_words) >= (n + 1) // 2:\n",
        "        print(i + 1)\n",
        "        break"
      ]
    },
    {
      "cell_type": "markdown",
      "source": [
        "### 6438"
      ],
      "metadata": {
        "id": "6J21BwJ0PtBv"
      }
    },
    {
      "cell_type": "code",
      "source": [
        "t = int(input())\n",
        "\n",
        "for _ in range(t):\n",
        "  s = list(input().split())\n",
        "  tmp = ''\n",
        "\n",
        "  for i in range(len(s)-1, -1, -1):\n",
        "    tmp += (s[i][::-1] + ' ')\n",
        "\n",
        "  print(tmp.rstrip())"
      ],
      "metadata": {
        "colab": {
          "base_uri": "https://localhost:8080/"
        },
        "id": "DGw6natZPtyP",
        "outputId": "0c82ea9b-3b94-446a-f3ad-afb7f8b33172"
      },
      "execution_count": 11,
      "outputs": [
        {
          "output_type": "stream",
          "name": "stdout",
          "text": [
            "1\n",
            "Frankly, I don't think we'll make much\n",
            "hcum ekam ll'ew kniht t'nod I ,ylknarF\n"
          ]
        }
      ]
    },
    {
      "cell_type": "markdown",
      "source": [
        "---"
      ],
      "metadata": {
        "id": "JYjKJpJrPu1l"
      }
    },
    {
      "cell_type": "markdown",
      "source": [
        "## CodeTree"
      ],
      "metadata": {
        "id": "ziS2pkvxPyJ_"
      }
    },
    {
      "cell_type": "markdown",
      "source": [
        "### 문자열 비교"
      ],
      "metadata": {
        "id": "gCjDJ3hVPv34"
      }
    },
    {
      "cell_type": "code",
      "source": [
        "n, m = map(int, input().split())\n",
        "words = set()\n",
        "\n",
        "for _ in range(n):\n",
        "    words.add(input())\n",
        "\n",
        "cnt = 0\n",
        "for _ in range(m):\n",
        "    if input() in words:\n",
        "        cnt += 1\n",
        "\n",
        "print(cnt)"
      ],
      "metadata": {
        "id": "-CigxwCwPw0D"
      },
      "execution_count": null,
      "outputs": []
    }
  ]
}