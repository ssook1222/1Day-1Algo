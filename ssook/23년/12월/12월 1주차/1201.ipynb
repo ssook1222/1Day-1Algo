{
  "nbformat": 4,
  "nbformat_minor": 0,
  "metadata": {
    "colab": {
      "provenance": [],
      "authorship_tag": "ABX9TyOc/N0NI6VdKelHVZTm3PDu",
      "include_colab_link": true
    },
    "kernelspec": {
      "name": "python3",
      "display_name": "Python 3"
    },
    "language_info": {
      "name": "python"
    }
  },
  "cells": [
    {
      "cell_type": "markdown",
      "metadata": {
        "id": "view-in-github",
        "colab_type": "text"
      },
      "source": [
        "<a href=\"https://colab.research.google.com/github/ssook1222/1Day-1Algo/blob/master/ssook/12%EC%9B%94/1201.ipynb\" target=\"_parent\"><img src=\"https://colab.research.google.com/assets/colab-badge.svg\" alt=\"Open In Colab\"/></a>"
      ]
    },
    {
      "cell_type": "markdown",
      "source": [
        "## BoJ"
      ],
      "metadata": {
        "id": "8SSUNCmj1sNJ"
      }
    },
    {
      "cell_type": "markdown",
      "source": [
        "### 4649"
      ],
      "metadata": {
        "id": "XV-nKRdT1uSb"
      }
    },
    {
      "cell_type": "code",
      "source": [
        "import sys\n",
        "\n",
        "while True:\n",
        "  t = sys.stdin.readline().rstrip()\n",
        "\n",
        "  if t == '0':\n",
        "    break\n",
        "\n",
        "  n, s = map(str, t.split())\n",
        "\n",
        "  n = int(n)\n",
        "\n",
        "  sun_tan = []\n",
        "  go_away = set()\n",
        "  cnt = 0\n",
        "\n",
        "  for c in s:\n",
        "    if c in sun_tan:\n",
        "      sun_tan.remove(c)\n",
        "    else:\n",
        "      if len(sun_tan) < n:\n",
        "        sun_tan.append(c)\n",
        "      else:\n",
        "        go_away.add(c)\n",
        "\n",
        "  if len(go_away) == 0:\n",
        "    print('All customers tanned successfully.')\n",
        "\n",
        "  else:\n",
        "    print('%d customer(s) walked away.' %len(go_away))"
      ],
      "metadata": {
        "id": "qmnBxJqF1v3w",
        "colab": {
          "base_uri": "https://localhost:8080/"
        },
        "outputId": "51d0b7a5-7a78-4a08-9494-4c6a5550ffde"
      },
      "execution_count": null,
      "outputs": [
        {
          "name": "stdout",
          "output_type": "stream",
          "text": [
            "2 ABBAJJKZKZ\n",
            "All customers tanned successfully.\n",
            "3 GACCBDDBAGEE\n",
            "1 customer(s) walked away.\n",
            "3 GACCBGDDBAEE\n",
            "All customers tanned successfully.\n",
            "1 ABCBCA\n",
            "2 customer(s) walked away.\n",
            "0\n"
          ]
        }
      ]
    },
    {
      "cell_type": "markdown",
      "source": [
        "### 4581"
      ],
      "metadata": {
        "id": "9WOcsbDt1vUP"
      }
    },
    {
      "cell_type": "code",
      "source": [
        "import sys\n",
        "\n",
        "while True:\n",
        "  s = sys.stdin.readline().rstrip()\n",
        "  if s == '#':\n",
        "    break\n",
        "  else:\n",
        "    yes_cnt = 0\n",
        "    no_cnt = 0\n",
        "    abs_cnt = 0\n",
        "\n",
        "    for c in s:\n",
        "      if c == 'Y':\n",
        "        yes_cnt += 1\n",
        "      elif c == 'N':\n",
        "        no_cnt += 1\n",
        "      elif c == 'A':\n",
        "        abs_cnt += 1\n",
        "      elif c == 'P':\n",
        "        pass\n",
        "\n",
        "    if abs_cnt < len(s) / 2:\n",
        "      if yes_cnt > no_cnt:\n",
        "        print(\"yes\")\n",
        "      elif yes_cnt < no_cnt:\n",
        "        print(\"no\")\n",
        "      else:\n",
        "        print(\"tie\")\n",
        "    else:\n",
        "      print('need quorum')\n"
      ],
      "metadata": {
        "id": "dBX0-KrM1wQc",
        "colab": {
          "base_uri": "https://localhost:8080/"
        },
        "outputId": "5005dbdb-1e61-42e8-ed98-20d3a72cb775"
      },
      "execution_count": null,
      "outputs": [
        {
          "name": "stdout",
          "output_type": "stream",
          "text": [
            "YAYAYAYA\n",
            "need quorum\n",
            "PYPPNNYA\n",
            "tie\n",
            "YNNAA\n",
            "no\n",
            "NYAAA\n",
            "need quorum\n",
            "YNNAPYYNY\n",
            "yes\n",
            "#\n"
          ]
        }
      ]
    },
    {
      "cell_type": "markdown",
      "source": [
        "---"
      ],
      "metadata": {
        "id": "nDO5h3_n1x5a"
      }
    },
    {
      "cell_type": "markdown",
      "source": [
        "## CodeTree"
      ],
      "metadata": {
        "id": "Mb3IWrGS1y-m"
      }
    },
    {
      "cell_type": "markdown",
      "source": [
        "###  입력받은 수의 평균"
      ],
      "metadata": {
        "id": "0EwtGjuA10ZK"
      }
    },
    {
      "cell_type": "code",
      "execution_count": null,
      "metadata": {
        "id": "QvdD7p2n1lXO"
      },
      "outputs": [],
      "source": [
        "n = int(input())\n",
        "hap = 0\n",
        "\n",
        "for _ in range(n):\n",
        "    hap += int(input())\n",
        "\n",
        "print(round(hap/n, 1))\n",
        "if hap/n < 70:\n",
        "    print('fail')"
      ]
    }
  ]
}