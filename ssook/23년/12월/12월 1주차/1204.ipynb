{
  "nbformat": 4,
  "nbformat_minor": 0,
  "metadata": {
    "colab": {
      "provenance": []
    },
    "kernelspec": {
      "name": "python3",
      "display_name": "Python 3"
    },
    "language_info": {
      "name": "python"
    }
  },
  "cells": [
    {
      "cell_type": "markdown",
      "source": [
        "## BoJ"
      ],
      "metadata": {
        "id": "zPEZT3c6vGLL"
      }
    },
    {
      "cell_type": "markdown",
      "source": [
        "### 16165"
      ],
      "metadata": {
        "id": "KhPZK-NIvoSc"
      }
    },
    {
      "cell_type": "code",
      "source": [
        "import sys\n",
        "\n",
        "gl, q = map(int, sys.stdin.readline().rstrip().split())\n",
        "idols = {}\n",
        "\n",
        "for _ in range(gl):\n",
        "    team_name = sys.stdin.readline().rstrip()\n",
        "    nums = int(sys.stdin.readline().rstrip())\n",
        "    people = []\n",
        "    for _ in range(nums):\n",
        "        people.append(sys.stdin.readline().rstrip())\n",
        "    idols[team_name] = people\n",
        "\n",
        "for _ in range(q):\n",
        "    find = sys.stdin.readline().rstrip()\n",
        "    n = int(sys.stdin.readline().rstrip())\n",
        "\n",
        "    if n == 0:\n",
        "        for member in sorted(idols[find]):\n",
        "            print(member)\n",
        "\n",
        "    elif n == 1:\n",
        "        for team_name, members in idols.items():\n",
        "            if find in members:\n",
        "                print(team_name)"
      ],
      "metadata": {
        "id": "W4tLmxalvpsU",
        "colab": {
          "base_uri": "https://localhost:8080/"
        },
        "outputId": "03cde719-afb2-44c0-dc62-103d4e5bbdf8"
      },
      "execution_count": 1,
      "outputs": [
        {
          "output_type": "stream",
          "name": "stdout",
          "text": [
            "3 4\n",
            "twice\n",
            "9\n",
            "지효\n",
            "다현\n",
            "미나\n",
            "모모\n",
            "채영\n",
            "정연\n",
            "쯔위\n",
            "사나\n",
            "나연\n",
            "blackpink\n",
            "4\n",
            "리사\n",
            "지수\n",
            "로제\n",
            "제니\n",
            "redvelvet\n",
            "5\n",
            "웬디\n",
            "아이린\n",
            "슬기\n",
            "예리\n",
            "조이\n",
            "사나\n",
            "1\n",
            "twice\n",
            "웬디\n",
            "1\n",
            "redvelvet\n",
            "twice\n",
            "0\n",
            "나연\n",
            "다현\n",
            "모모\n",
            "미나\n",
            "사나\n",
            "정연\n",
            "지효\n",
            "쯔위\n",
            "채영\n",
            "로제\n",
            "1\n",
            "blackpink\n"
          ]
        }
      ]
    },
    {
      "cell_type": "markdown",
      "source": [
        "### 4447"
      ],
      "metadata": {
        "id": "D-iSicJhvpP9"
      }
    },
    {
      "cell_type": "code",
      "execution_count": 1,
      "metadata": {
        "id": "V6luB_BxuzfB"
      },
      "outputs": [],
      "source": [
        "import sys\n",
        "\n",
        "n = int(sys.stdin.readline().rstrip())\n",
        "\n",
        "for _ in range(n):\n",
        "  s = sys.stdin.readline().rstrip()\n",
        "  ls = s.lower()\n",
        "  b_cnt = ls.count('b')\n",
        "  g_cnt = ls.count('g')\n",
        "\n",
        "  if b_cnt == g_cnt:\n",
        "    print(\"%s is %s\" %(s, \"NEUTRAL\"))\n",
        "\n",
        "  elif b_cnt > g_cnt:\n",
        "    print(\"%s is %s\" %(s, \"A BADDY\"))\n",
        "\n",
        "  else:\n",
        "    print(\"%s is %s\" %(s, \"GOOD\"))"
      ]
    },
    {
      "cell_type": "markdown",
      "source": [
        "## CodeTree"
      ],
      "metadata": {
        "id": "Yqdm18vCvH0_"
      }
    },
    {
      "cell_type": "markdown",
      "source": [
        "### 문자열 검사기\n"
      ],
      "metadata": {
        "id": "Q8l9IQglvrkM"
      }
    },
    {
      "cell_type": "code",
      "source": [
        "stack = []\n",
        "\n",
        "s = input()\n",
        "gwal1 = ['(', ')']\n",
        "gwal2 = ['[', ']']\n",
        "\n",
        "for c in s:\n",
        "    if c in gwal1:\n",
        "        if c == gwal1[0]:\n",
        "            stack.append(c)\n",
        "        else:\n",
        "            if gwal1[0] in stack:\n",
        "                stack.pop()\n",
        "            else:\n",
        "                stack.append(c)\n",
        "    if c in gwal2:\n",
        "        if c == gwal2[0]:\n",
        "            stack.append(c)\n",
        "        else:\n",
        "            if gwal2[0] in stack:\n",
        "                stack.pop()\n",
        "            else:\n",
        "                stack.append(c)\n",
        "\n",
        "if stack:\n",
        "    print(0)\n",
        "else:\n",
        "    print(1)\n"
      ],
      "metadata": {
        "id": "hdsk04JVvs-N"
      },
      "execution_count": null,
      "outputs": []
    }
  ]
}