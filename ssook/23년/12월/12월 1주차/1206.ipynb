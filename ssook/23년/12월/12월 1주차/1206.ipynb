{
  "nbformat": 4,
  "nbformat_minor": 0,
  "metadata": {
    "colab": {
      "provenance": [],
      "authorship_tag": "ABX9TyOwwXfVWO7Z9xsBbDkeqbI/",
      "include_colab_link": true
    },
    "kernelspec": {
      "name": "python3",
      "display_name": "Python 3"
    },
    "language_info": {
      "name": "python"
    }
  },
  "cells": [
    {
      "cell_type": "markdown",
      "metadata": {
        "id": "view-in-github",
        "colab_type": "text"
      },
      "source": [
        "<a href=\"https://colab.research.google.com/github/ssook1222/1Day-1Algo/blob/master/ssook/23%EB%85%84/12%EC%9B%94/12%EC%9B%94%201%EC%A3%BC%EC%B0%A8/1206.ipynb\" target=\"_parent\"><img src=\"https://colab.research.google.com/assets/colab-badge.svg\" alt=\"Open In Colab\"/></a>"
      ]
    },
    {
      "cell_type": "markdown",
      "source": [
        "## BoJ"
      ],
      "metadata": {
        "id": "bbfyVCJ9QIAr"
      }
    },
    {
      "cell_type": "markdown",
      "source": [
        "### 10981"
      ],
      "metadata": {
        "id": "efCjCUz4QKEd"
      }
    },
    {
      "cell_type": "code",
      "execution_count": null,
      "metadata": {
        "colab": {
          "base_uri": "https://localhost:8080/"
        },
        "id": "Z-7NEzQ_QGTA",
        "outputId": "9ba66530-8a6f-48d5-a37d-a7a091265a60"
      },
      "outputs": [
        {
          "output_type": "stream",
          "name": "stdout",
          "text": [
            "3 2\n",
            "KAIST OriGoGi 10 1184\n",
            "Seoul_Univ Wook_Norris 8 594\n",
            "Yonsei_Univ Underwood 8 806\n",
            "OriGoGi\n",
            "Wook_Norris\n"
          ]
        }
      ],
      "source": [
        "import sys\n",
        "\n",
        "n, k = map(int, sys.stdin.readline().rstrip().split())\n",
        "\n",
        "hubo = {}\n",
        "\n",
        "for _ in range(n):\n",
        "    univ, team, solve, penalty = map(str, sys.stdin.readline().rstrip().split())\n",
        "    solve = int(solve)\n",
        "    penalty = int(penalty)\n",
        "\n",
        "    if univ not in hubo:\n",
        "        hubo[univ] = (team, solve, penalty)\n",
        "\n",
        "    else:\n",
        "        if solve > hubo[univ][1] :\n",
        "            hubo[univ] = (team, solve, penalty)\n",
        "        elif solve == hubo[univ][1]:\n",
        "            if penalty < hubo[univ][2]:\n",
        "                hubo[univ] = (team, solve, penalty)\n",
        "\n",
        "hubo_sorted = sorted(hubo.items(), key=lambda x: (-x[1][1], x[1][2]))\n",
        "cnt = 0\n",
        "\n",
        "for univ, (team, solve, penalty) in hubo_sorted:\n",
        "    cnt += 1\n",
        "    if cnt > k:\n",
        "        break\n",
        "    else:\n",
        "        print(team)"
      ]
    },
    {
      "cell_type": "markdown",
      "source": [
        "### 5656"
      ],
      "metadata": {
        "id": "7p_6BS5wQLUT"
      }
    },
    {
      "cell_type": "code",
      "source": [
        "import sys\n",
        "\n",
        "cnt = 1\n",
        "\n",
        "while True:\n",
        "  a, cmd, b = map(str, sys.stdin.readline().rstrip().split())\n",
        "\n",
        "  a = int(a)\n",
        "  b = int(b)\n",
        "\n",
        "  if cmd == 'E':\n",
        "    break\n",
        "\n",
        "  else:\n",
        "    print(\"Case %d:\" %cnt, end =' ')\n",
        "    cnt += 1\n",
        "\n",
        "    if cmd == '!=':\n",
        "      print(str(a != b).lower())\n",
        "\n",
        "    elif cmd == '>':\n",
        "      print(str(a > b).lower())\n",
        "\n",
        "    elif cmd == '>=':\n",
        "      print(str(a >= b).lower())\n",
        "\n",
        "    elif cmd == '<':\n",
        "      print(str(a < b).lower())\n",
        "\n",
        "    elif cmd == '<=':\n",
        "      print(str(a <= b).lower())\n",
        "\n",
        "    elif cmd == '==':\n",
        "      print(str(a == b).lower())"
      ],
      "metadata": {
        "colab": {
          "base_uri": "https://localhost:8080/"
        },
        "id": "afRKpNw_QMKt",
        "outputId": "6d53c7c0-eb04-4856-ac07-563b11a978f3"
      },
      "execution_count": null,
      "outputs": [
        {
          "name": "stdout",
          "output_type": "stream",
          "text": [
            "3 != 3\n",
            "Case 1: false\n",
            "4 < 4\n",
            "Case 2: false\n",
            "4 <= 5\n",
            "Case 3: true\n",
            "3 E 3\n"
          ]
        }
      ]
    },
    {
      "cell_type": "markdown",
      "source": [
        "---"
      ],
      "metadata": {
        "id": "vBYxLcjSQMrP"
      }
    },
    {
      "cell_type": "markdown",
      "source": [
        "## CodeTree"
      ],
      "metadata": {
        "id": "Vnh5fI2fQOi4"
      }
    },
    {
      "cell_type": "markdown",
      "source": [
        "### 십진수와 이진수"
      ],
      "metadata": {
        "id": "6cr2ahREQQa7"
      }
    },
    {
      "cell_type": "code",
      "source": [
        "n = int(input(), 2)\n",
        "\n",
        "n = n*17\n",
        "raw = bin(n)[2:]\n",
        "print(raw)"
      ],
      "metadata": {
        "id": "c2UbkHdIQREe"
      },
      "execution_count": null,
      "outputs": []
    }
  ]
}