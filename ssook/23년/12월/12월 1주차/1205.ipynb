{
  "nbformat": 4,
  "nbformat_minor": 0,
  "metadata": {
    "colab": {
      "provenance": [],
      "authorship_tag": "ABX9TyPEpWp+siasrlo/yQ1ma9tI",
      "include_colab_link": true
    },
    "kernelspec": {
      "name": "python3",
      "display_name": "Python 3"
    },
    "language_info": {
      "name": "python"
    }
  },
  "cells": [
    {
      "cell_type": "markdown",
      "metadata": {
        "id": "view-in-github",
        "colab_type": "text"
      },
      "source": [
        "<a href=\"https://colab.research.google.com/github/ssook1222/1Day-1Algo/blob/master/ssook/23%EB%85%84/12%EC%9B%94/12%EC%9B%94%201%EC%A3%BC%EC%B0%A8/1205.ipynb\" target=\"_parent\"><img src=\"https://colab.research.google.com/assets/colab-badge.svg\" alt=\"Open In Colab\"/></a>"
      ]
    },
    {
      "cell_type": "markdown",
      "source": [
        "## BoJ"
      ],
      "metadata": {
        "id": "dwisqbEMF8AV"
      }
    },
    {
      "cell_type": "markdown",
      "source": [
        "### 7847"
      ],
      "metadata": {
        "id": "rrl0O18eF9x0"
      }
    },
    {
      "cell_type": "code",
      "execution_count": null,
      "metadata": {
        "id": "FqW57FpSF6Wi"
      },
      "outputs": [],
      "source": [
        "import sys\n",
        "\n",
        "n = int(sys.stdin.readline().rstrip())\n",
        "item_data = {}\n",
        "store_data = {}\n",
        "\n",
        "for _ in range(n):\n",
        "    s = sys.stdin.readline().rstrip()\n",
        "    item_name, store_id, quantity = map(int, s.split())\n",
        "\n",
        "    if item_name not in item_data:\n",
        "        item_data[item_name] = {}\n",
        "    if store_id not in store_data:\n",
        "        store_data[store_id] = {}\n",
        "\n",
        "    item_data[item_name][store_id] = item_data[item_name].get(store_id, 0) + quantity\n",
        "    store_data[store_id][item_name] = store_data[store_id].get(item_name, 0) + quantity\n",
        "\n",
        "item_ids = sorted(set(item_data.keys()))\n",
        "store_ids = sorted(set(store_data.keys()))\n",
        "\n",
        "ans = [[0] * (len(item_ids) + 1) for _ in range(len(store_ids) + 1)]\n",
        "\n",
        "ans[0] = [-1] + item_ids\n",
        "for i in range(len(store_ids)):\n",
        "    ans[i + 1][0] = store_ids[i]\n",
        "\n",
        "for i in range(len(store_ids)):\n",
        "    for j in range(len(item_ids)):\n",
        "        store_id = ans[i + 1][0]\n",
        "        item_id = ans[0][j + 1]\n",
        "        ans[i + 1][j + 1] = item_data.get(item_id, {}).get(store_id, 0)\n",
        "\n",
        "for row in ans:\n",
        "    print(*row)"
      ]
    },
    {
      "cell_type": "markdown",
      "source": [
        "### 26546"
      ],
      "metadata": {
        "id": "WxSwkaN8F_EH"
      }
    },
    {
      "cell_type": "code",
      "source": [
        "import sys\n",
        "\n",
        "t = int(sys.stdin.readline().rstrip())\n",
        "\n",
        "for _ in range(t):\n",
        "  raw = list(sys.stdin.readline().rstrip().split())\n",
        "  word = raw[0]\n",
        "  first = int(raw[1])\n",
        "  last = int(raw[2])\n",
        "\n",
        "  word = word.replace(word[first:last], '')\n",
        "  print(word)"
      ],
      "metadata": {
        "colab": {
          "base_uri": "https://localhost:8080/"
        },
        "id": "o70siMfZF__u",
        "outputId": "28dcddd2-0c68-41d2-916d-dc94389dcb33"
      },
      "execution_count": null,
      "outputs": [
        {
          "output_type": "stream",
          "name": "stdout",
          "text": [
            "3\n",
            "COMPUTER 1 3\n",
            "CPUTER\n",
            "SCIENCE 3 7\n",
            "SCI\n",
            "RULES 3 4\n",
            "RULS\n"
          ]
        }
      ]
    },
    {
      "cell_type": "markdown",
      "source": [
        "---"
      ],
      "metadata": {
        "id": "vf7UVMa_GAYV"
      }
    },
    {
      "cell_type": "markdown",
      "source": [
        "## CodeTree"
      ],
      "metadata": {
        "id": "-6DpL3HZGBLM"
      }
    },
    {
      "cell_type": "markdown",
      "source": [
        "### 0, 1 상태 바꾸기"
      ],
      "metadata": {
        "id": "2AgiqJs4GDY1"
      }
    },
    {
      "cell_type": "code",
      "source": [
        "n, m = map(int, input().split())\n",
        "nums = list(map(int, input().split()))\n",
        "\n",
        "for _ in range(m):\n",
        "    type, first, second = map(int, input().split())\n",
        "\n",
        "    if type == 1:\n",
        "        nums[first-1] = second\n",
        "\n",
        "    elif type == 2:\n",
        "        for i in range(first-1, second):\n",
        "            if nums[i] == 0:\n",
        "                nums[i] = 1\n",
        "            elif nums[i] == 1:\n",
        "                nums[i] = 0\n",
        "\n",
        "    elif type == 3:\n",
        "        for i in range(first-1, second):\n",
        "            nums[i] = 0\n",
        "\n",
        "    elif type == 4:\n",
        "        for i in range(first-1, second):\n",
        "            nums[i] = 1\n",
        "\n",
        "print(*nums)"
      ],
      "metadata": {
        "id": "tJi1V8Q6GEN4"
      },
      "execution_count": null,
      "outputs": []
    }
  ]
}