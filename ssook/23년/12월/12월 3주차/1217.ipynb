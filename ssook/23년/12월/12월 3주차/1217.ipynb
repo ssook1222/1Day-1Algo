{
  "nbformat": 4,
  "nbformat_minor": 0,
  "metadata": {
    "colab": {
      "provenance": [],
      "authorship_tag": "ABX9TyNlL1AuCV+jAKqxZuFgCvM3",
      "include_colab_link": true
    },
    "kernelspec": {
      "name": "python3",
      "display_name": "Python 3"
    },
    "language_info": {
      "name": "python"
    }
  },
  "cells": [
    {
      "cell_type": "markdown",
      "metadata": {
        "id": "view-in-github",
        "colab_type": "text"
      },
      "source": [
        "<a href=\"https://colab.research.google.com/github/ssook1222/1Day-1Algo/blob/master/ssook/23%EB%85%84/12%EC%9B%94/12%EC%9B%94%203%EC%A3%BC%EC%B0%A8/1217.ipynb\" target=\"_parent\"><img src=\"https://colab.research.google.com/assets/colab-badge.svg\" alt=\"Open In Colab\"/></a>"
      ]
    },
    {
      "cell_type": "markdown",
      "source": [
        "## BoJ"
      ],
      "metadata": {
        "id": "hh1faAjAyrgW"
      }
    },
    {
      "cell_type": "markdown",
      "source": [
        "### 16099"
      ],
      "metadata": {
        "id": "GWb8znIMyvnw"
      }
    },
    {
      "cell_type": "code",
      "execution_count": null,
      "metadata": {
        "id": "aI0mIzZYJxJB"
      },
      "outputs": [],
      "source": [
        "t = int(input())\n",
        "\n",
        "for _ in range(t):\n",
        "  lt, wt, le, we = map(int, input().split())\n",
        "\n",
        "  if lt*wt > le*we:\n",
        "    print('TelecomParisTech')\n",
        "\n",
        "  elif le*we > lt*wt:\n",
        "    print('Eurecom')\n",
        "\n",
        "  else:\n",
        "    print('Tie')"
      ]
    },
    {
      "cell_type": "markdown",
      "source": [
        "### 26545"
      ],
      "metadata": {
        "id": "v0w-DyK2qqP5"
      }
    },
    {
      "cell_type": "code",
      "source": [
        "t = int(input())\n",
        "\n",
        "hap = 0\n",
        "\n",
        "for _ in range(t):\n",
        "  hap += int(input())\n",
        "\n",
        "print(hap)"
      ],
      "metadata": {
        "colab": {
          "base_uri": "https://localhost:8080/"
        },
        "id": "UKF0VRZTqsDR",
        "outputId": "76aad2b3-cbd9-43a1-aeea-d2862041543d"
      },
      "execution_count": 2,
      "outputs": [
        {
          "output_type": "stream",
          "name": "stdout",
          "text": [
            "3\n",
            "1\n",
            "2\n",
            "3\n",
            "6\n"
          ]
        }
      ]
    },
    {
      "cell_type": "markdown",
      "source": [
        "---"
      ],
      "metadata": {
        "id": "mrCR2eIbr67T"
      }
    },
    {
      "cell_type": "markdown",
      "source": [
        "## CodeTree"
      ],
      "metadata": {
        "id": "Gr_cx5tNr73D"
      }
    },
    {
      "cell_type": "markdown",
      "source": [
        "### 살 수 있는 물건"
      ],
      "metadata": {
        "id": "jEtqXkupr9Ts"
      }
    },
    {
      "cell_type": "code",
      "source": [
        "n = int(input())\n",
        "\n",
        "if n >= 3000:\n",
        "    print('book')\n",
        "\n",
        "elif n >= 1000:\n",
        "    print('mask')\n",
        "\n",
        "else:\n",
        "    print('no')"
      ],
      "metadata": {
        "id": "HeItlvbSr-ND"
      },
      "execution_count": null,
      "outputs": []
    }
  ]
}