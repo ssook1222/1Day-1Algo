{
  "nbformat": 4,
  "nbformat_minor": 0,
  "metadata": {
    "colab": {
      "provenance": [],
      "authorship_tag": "ABX9TyPVFlB8s+ClKz71E6kd2OXl",
      "include_colab_link": true
    },
    "kernelspec": {
      "name": "python3",
      "display_name": "Python 3"
    },
    "language_info": {
      "name": "python"
    }
  },
  "cells": [
    {
      "cell_type": "markdown",
      "metadata": {
        "id": "view-in-github",
        "colab_type": "text"
      },
      "source": [
        "<a href=\"https://colab.research.google.com/github/ssook1222/1Day-1Algo/blob/master/ssook/23%EB%85%84/12%EC%9B%94/12%EC%9B%94%203%EC%A3%BC%EC%B0%A8/1219.ipynb\" target=\"_parent\"><img src=\"https://colab.research.google.com/assets/colab-badge.svg\" alt=\"Open In Colab\"/></a>"
      ]
    },
    {
      "cell_type": "markdown",
      "source": [
        "## BoJ"
      ],
      "metadata": {
        "id": "bEVcslfG_uD9"
      }
    },
    {
      "cell_type": "markdown",
      "source": [
        "### 4368"
      ],
      "metadata": {
        "id": "4IKxScHO_wXB"
      }
    },
    {
      "cell_type": "code",
      "execution_count": null,
      "metadata": {
        "id": "gkLQkE91_Yjo"
      },
      "outputs": [],
      "source": [
        "words = {}\n",
        "\n",
        "while True:\n",
        "    s = input()\n",
        "\n",
        "    if s == '':\n",
        "        break\n",
        "    else:\n",
        "        val, name = map(str, s.split())\n",
        "        words[name] = val\n",
        "\n",
        "while True:\n",
        "    s = input()\n",
        "\n",
        "    if s == '':\n",
        "        break\n",
        "    else:\n",
        "        if s in words:\n",
        "            print(words[s])\n",
        "        else:\n",
        "            print('eh')\n"
      ]
    },
    {
      "cell_type": "markdown",
      "source": [
        "### 5357"
      ],
      "metadata": {
        "id": "X4ZGo3QhB4r6"
      }
    },
    {
      "cell_type": "code",
      "source": [
        "import sys\n",
        "\n",
        "t = int(sys.stdin.readline().rstrip())\n",
        "\n",
        "for _ in range(t):\n",
        "  tmp = ''\n",
        "  s = sys.stdin.readline().rstrip()\n",
        "  tmp += s[0]\n",
        "  for i in range(1, len(s)):\n",
        "    if s[i-1] == s[i]:\n",
        "      pass\n",
        "    else:\n",
        "      tmp += s[i]\n",
        "\n",
        "  print(tmp)"
      ],
      "metadata": {
        "colab": {
          "base_uri": "https://localhost:8080/"
        },
        "id": "BPrSgj5lB5b4",
        "outputId": "8acb615f-e383-4ba3-d418-86e3fb69ce0c"
      },
      "execution_count": null,
      "outputs": [
        {
          "output_type": "stream",
          "name": "stdout",
          "text": [
            "3\n",
            "ABBBBAACC\n",
            "ABAC\n",
            "AAAAA\n",
            "A\n",
            "ABC\n",
            "ABC\n"
          ]
        }
      ]
    },
    {
      "cell_type": "markdown",
      "source": [
        "---"
      ],
      "metadata": {
        "id": "1OQaq887DAiT"
      }
    },
    {
      "cell_type": "markdown",
      "source": [
        "## CodeTree"
      ],
      "metadata": {
        "id": "P6sA_sudDBJI"
      }
    },
    {
      "cell_type": "markdown",
      "source": [
        "### 문자열의 특정 위치 찾기 2"
      ],
      "metadata": {
        "id": "ffFH1wH0DDUN"
      }
    },
    {
      "cell_type": "code",
      "source": [
        "a = input()\n",
        "\n",
        "one = 'apple'\n",
        "two = 'banana'\n",
        "three = 'grape'\n",
        "four = 'blueberry'\n",
        "five = 'orange'\n",
        "\n",
        "ss = [one, two, three, four, five]\n",
        "cnt = 0\n",
        "\n",
        "for s in ss:\n",
        "    if s[2] == a or s[3] == a:\n",
        "        cnt += 1\n",
        "        print(s)\n",
        "\n",
        "print(cnt)"
      ],
      "metadata": {
        "id": "VPvuIZaKDDFl"
      },
      "execution_count": null,
      "outputs": []
    }
  ]
}