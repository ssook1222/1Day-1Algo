{
  "nbformat": 4,
  "nbformat_minor": 0,
  "metadata": {
    "colab": {
      "provenance": [],
      "authorship_tag": "ABX9TyMPadEq0cY7huKvFPzYPuaE",
      "include_colab_link": true
    },
    "kernelspec": {
      "name": "python3",
      "display_name": "Python 3"
    },
    "language_info": {
      "name": "python"
    }
  },
  "cells": [
    {
      "cell_type": "markdown",
      "metadata": {
        "id": "view-in-github",
        "colab_type": "text"
      },
      "source": [
        "<a href=\"https://colab.research.google.com/github/ssook1222/1Day-1Algo/blob/master/ssook/23%EB%85%84/12%EC%9B%94/12%EC%9B%94%203%EC%A3%BC%EC%B0%A8/1216.ipynb\" target=\"_parent\"><img src=\"https://colab.research.google.com/assets/colab-badge.svg\" alt=\"Open In Colab\"/></a>"
      ]
    },
    {
      "cell_type": "markdown",
      "source": [
        "## BoJ"
      ],
      "metadata": {
        "id": "_f1RhQxLyCIK"
      }
    },
    {
      "cell_type": "markdown",
      "source": [
        "### 15081"
      ],
      "metadata": {
        "id": "AcEVoMOeyJnu"
      }
    },
    {
      "cell_type": "code",
      "execution_count": null,
      "metadata": {
        "colab": {
          "base_uri": "https://localhost:8080/"
        },
        "id": "4Q3a-Iu7yACQ",
        "outputId": "15d301b4-8d22-409c-ecc7-523ec2ccda3e"
      },
      "outputs": [
        {
          "output_type": "stream",
          "name": "stdout",
          "text": [
            "4\n",
            "5 SnapChart Rumbler Whimper Whine Tik\n",
            "5 SnapChart Rumbler Whimper Whine Tik\n",
            "5 SnapChart Rumbler Whimper Whine Tik\n",
            "5 SnapChart Rumbler Whimper Whine Tik\n",
            "SnapChart Rumbler Whimper Whine\n"
          ]
        }
      ],
      "source": [
        "import sys\n",
        "\n",
        "n = int(sys.stdin.readline().rstrip())\n",
        "install = {}\n",
        "\n",
        "for i in range(1, n+1):\n",
        "  apps = list(map(str, sys.stdin.readline().rstrip().split()))\n",
        "  apps = apps[1:]\n",
        "  for app in apps:\n",
        "    if app in install.values():\n",
        "      pass\n",
        "    else:\n",
        "      install[i] = app\n",
        "      break\n",
        "\n",
        "ans = list(install.values())\n",
        "print(*ans)"
      ]
    },
    {
      "cell_type": "markdown",
      "source": [
        "### 7120"
      ],
      "metadata": {
        "id": "g3ilMQjaySva"
      }
    },
    {
      "cell_type": "code",
      "source": [
        "import sys\n",
        "\n",
        "s = sys.stdin.readline().rstrip()\n",
        "ls = list(s)\n",
        "tmp = ls[0]\n",
        "\n",
        "for i in range(1, len(ls)):\n",
        "  prev = ls[i-1]\n",
        "  if prev != ls[i]:\n",
        "      tmp += ls[i]\n",
        "  else:\n",
        "      pass\n",
        "\n",
        "print(tmp)"
      ],
      "metadata": {
        "colab": {
          "base_uri": "https://localhost:8080/"
        },
        "id": "CdfibxWnyTkB",
        "outputId": "374a808b-6502-4e33-c07a-bf9bd07ec619"
      },
      "execution_count": null,
      "outputs": [
        {
          "output_type": "stream",
          "name": "stdout",
          "text": [
            "ppppppiaanooooo\n",
            "piano\n"
          ]
        }
      ]
    },
    {
      "cell_type": "markdown",
      "source": [
        "---"
      ],
      "metadata": {
        "id": "eAmIy2wmyUIh"
      }
    },
    {
      "cell_type": "markdown",
      "source": [
        "## CodeTree"
      ],
      "metadata": {
        "id": "NkxA4x8lyVfW"
      }
    },
    {
      "cell_type": "markdown",
      "source": [
        "### 문자열 뒤집기"
      ],
      "metadata": {
        "id": "KGQ3aTf02tTV"
      }
    },
    {
      "cell_type": "code",
      "source": [
        "s = input()\n",
        "count = 0\n",
        "\n",
        "for i in range(1, len(s)):\n",
        "    if s[i - 1] != s[i]:\n",
        "        count += 1\n",
        "\n",
        "print((count + 1) // 2)"
      ],
      "metadata": {
        "id": "mDifCOx82uds"
      },
      "execution_count": null,
      "outputs": []
    }
  ]
}