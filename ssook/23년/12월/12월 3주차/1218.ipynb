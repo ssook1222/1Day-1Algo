{
  "nbformat": 4,
  "nbformat_minor": 0,
  "metadata": {
    "colab": {
      "provenance": [],
      "authorship_tag": "ABX9TyOPUWScysU8mBuFspUxsooS",
      "include_colab_link": true
    },
    "kernelspec": {
      "name": "python3",
      "display_name": "Python 3"
    },
    "language_info": {
      "name": "python"
    }
  },
  "cells": [
    {
      "cell_type": "markdown",
      "metadata": {
        "id": "view-in-github",
        "colab_type": "text"
      },
      "source": [
        "<a href=\"https://colab.research.google.com/github/ssook1222/1Day-1Algo/blob/master/ssook/23%EB%85%84/12%EC%9B%94/12%EC%9B%94%203%EC%A3%BC%EC%B0%A8/1218.ipynb\" target=\"_parent\"><img src=\"https://colab.research.google.com/assets/colab-badge.svg\" alt=\"Open In Colab\"/></a>"
      ]
    },
    {
      "cell_type": "markdown",
      "source": [
        "## BoJ"
      ],
      "metadata": {
        "id": "Jt7xzTnyYonw"
      }
    },
    {
      "cell_type": "markdown",
      "source": [
        "### 23544"
      ],
      "metadata": {
        "id": "n64p30WWZFLj"
      }
    },
    {
      "cell_type": "code",
      "execution_count": 1,
      "metadata": {
        "colab": {
          "base_uri": "https://localhost:8080/"
        },
        "id": "B0yo8vTaYDoi",
        "outputId": "85028202-bc3c-440d-c863-437d3ddb31ce"
      },
      "outputs": [
        {
          "output_type": "stream",
          "name": "stdout",
          "text": [
            "10\n",
            "hippo_in_tank\n",
            "lazy_hippo\n",
            "hippo_vampire\n",
            "bizarre_hippo\n",
            "hippo_in_tank\n",
            "hippo_ninja\n",
            "hippie_hippo\n",
            "lazy_hippo\n",
            "hippo_in_tank\n",
            "hip_hop_hippo\n",
            "3\n"
          ]
        }
      ],
      "source": [
        "import sys\n",
        "\n",
        "n = int(sys.stdin.readline().rstrip())\n",
        "jogak = {}\n",
        "\n",
        "for _ in range(n):\n",
        "  name = sys.stdin.readline().rstrip()\n",
        "  if name in jogak:\n",
        "    pass\n",
        "  else:\n",
        "    jogak[name] = 1\n",
        "\n",
        "sizes = len(jogak)\n",
        "print(n-sizes)"
      ]
    },
    {
      "cell_type": "markdown",
      "source": [
        "### 30868"
      ],
      "metadata": {
        "id": "l64sIaLmauCN"
      }
    },
    {
      "cell_type": "code",
      "source": [
        "import sys\n",
        "\n",
        "t = int(sys.stdin.readline().rstrip())\n",
        "\n",
        "for _ in range(t):\n",
        "  tmp = ''\n",
        "\n",
        "  raw = int(sys.stdin.readline().rstrip())\n",
        "\n",
        "  if raw >= 5:\n",
        "    repeat_plus = raw // 5\n",
        "    repeat_sero = raw % 5\n",
        "\n",
        "    tmp = ('++++ ' * repeat_plus) + ('|' * repeat_sero)\n",
        "\n",
        "  else:\n",
        "    repeat_sero = raw\n",
        "    tmp = ('|' * repeat_sero)\n",
        "\n",
        "  print(tmp.rstrip())"
      ],
      "metadata": {
        "colab": {
          "base_uri": "https://localhost:8080/"
        },
        "id": "MBMbVsnMau14",
        "outputId": "b27f08c8-5f4e-49b3-807d-678569be21c0"
      },
      "execution_count": 5,
      "outputs": [
        {
          "output_type": "stream",
          "name": "stdout",
          "text": [
            "3\n",
            "12\n",
            "++++ ++++ ||\n",
            "1\n",
            "|\n",
            "5\n",
            "++++\n"
          ]
        }
      ]
    },
    {
      "cell_type": "markdown",
      "source": [
        "---"
      ],
      "metadata": {
        "id": "yRAdDKIwip6N"
      }
    },
    {
      "cell_type": "markdown",
      "source": [
        "## CodeTree"
      ],
      "metadata": {
        "id": "AbMogAB_iqw5"
      }
    },
    {
      "cell_type": "markdown",
      "source": [
        "### 진법 변환 6"
      ],
      "metadata": {
        "id": "1Pz59gyaisJh"
      }
    },
    {
      "cell_type": "code",
      "source": [
        "import string\n",
        "\n",
        "tmp = string.digits + string.ascii_lowercase\n",
        "\n",
        "def convert(num, base) :\n",
        "    q, r = divmod(num, base)\n",
        "    if q == 0 :\n",
        "        return tmp[r]\n",
        "    else :\n",
        "        return convert(q, base) + tmp[r]\n",
        "\n",
        "a, n, b = map(str, input().split())\n",
        "\n",
        "a = int(a)\n",
        "n = int(n, a)\n",
        "b = int(b)\n",
        "\n",
        "print(convert(n, b))"
      ],
      "metadata": {
        "id": "P8PmScQris8O"
      },
      "execution_count": 5,
      "outputs": []
    }
  ]
}