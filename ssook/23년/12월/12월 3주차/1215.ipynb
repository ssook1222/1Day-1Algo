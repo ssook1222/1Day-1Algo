{
  "nbformat": 4,
  "nbformat_minor": 0,
  "metadata": {
    "colab": {
      "provenance": [],
      "authorship_tag": "ABX9TyPMeH4BMogRYqZQrR6faXTH",
      "include_colab_link": true
    },
    "kernelspec": {
      "name": "python3",
      "display_name": "Python 3"
    },
    "language_info": {
      "name": "python"
    }
  },
  "cells": [
    {
      "cell_type": "markdown",
      "metadata": {
        "id": "view-in-github",
        "colab_type": "text"
      },
      "source": [
        "<a href=\"https://colab.research.google.com/github/ssook1222/1Day-1Algo/blob/master/ssook/23%EB%85%84/12%EC%9B%94/12%EC%9B%94%203%EC%A3%BC%EC%B0%A8/1215.ipynb\" target=\"_parent\"><img src=\"https://colab.research.google.com/assets/colab-badge.svg\" alt=\"Open In Colab\"/></a>"
      ]
    },
    {
      "cell_type": "markdown",
      "source": [
        "## BoJ"
      ],
      "metadata": {
        "id": "myIJF16R10Uy"
      }
    },
    {
      "cell_type": "markdown",
      "source": [
        "### 4126"
      ],
      "metadata": {
        "id": "C_guPJ7D120r"
      }
    },
    {
      "cell_type": "code",
      "execution_count": null,
      "metadata": {
        "id": "63UP3F-R1vPI",
        "colab": {
          "base_uri": "https://localhost:8080/"
        },
        "outputId": "61997ff9-3489-4901-e2dc-7d3f17219710"
      },
      "outputs": [
        {
          "output_type": "stream",
          "name": "stdout",
          "text": [
            "1\n",
            "PINK TIE CS241\n",
            "CS241 1\n"
          ]
        }
      ],
      "source": [
        "import sys\n",
        "\n",
        "n = int(sys.stdin.readline().rstrip())\n",
        "lecture = {}\n",
        "for _ in range(n):\n",
        "  first, second, lec_title = map(str, sys.stdin.readline().rstrip().split())\n",
        "  name = first +' '+ second\n",
        "\n",
        "  if lec_title in lecture:\n",
        "    if name in lecture[lec_title][0]:\n",
        "      pass\n",
        "    else:\n",
        "      lecture[lec_title][0].append(name)\n",
        "      lecture[lec_title][1] += 1\n",
        "\n",
        "  else:\n",
        "    lecture[lec_title] = [[name], 1]\n",
        "\n",
        "lecture = dict(sorted(lecture.items()))\n",
        "\n",
        "for lects in lecture:\n",
        "  print(lects, lecture[lects][1])"
      ]
    },
    {
      "cell_type": "markdown",
      "source": [
        "### 30822"
      ],
      "metadata": {
        "id": "MpSb8xh814DZ"
      }
    },
    {
      "cell_type": "code",
      "source": [
        "n = int(input())\n",
        "s = input()\n",
        "\n",
        "u_cnt = s.count('u')\n",
        "s_cnt = s.count('s')\n",
        "o_cnt = s.count('o')\n",
        "p_cnt = s.count('p')\n",
        "c_cnt = s.count('c')\n",
        "\n",
        "print(min(u_cnt, s_cnt, o_cnt, p_cnt, c_cnt))"
      ],
      "metadata": {
        "id": "Z_oi0Vvw141K",
        "colab": {
          "base_uri": "https://localhost:8080/"
        },
        "outputId": "02b7a6a6-3c6b-4576-8327-374d19814867"
      },
      "execution_count": null,
      "outputs": [
        {
          "output_type": "stream",
          "name": "stdout",
          "text": [
            "19\n",
            "processyourpurchase\n",
            "2\n"
          ]
        }
      ]
    },
    {
      "cell_type": "markdown",
      "source": [
        "---"
      ],
      "metadata": {
        "id": "ujOwvLel15Ko"
      }
    },
    {
      "cell_type": "markdown",
      "source": [
        "## CodeTree"
      ],
      "metadata": {
        "id": "bBj1Eti516St"
      }
    },
    {
      "cell_type": "markdown",
      "source": [
        "### 특정 문자의 유무"
      ],
      "metadata": {
        "id": "sJihsPX618Ju"
      }
    },
    {
      "cell_type": "code",
      "source": [
        "s = input()\n",
        "\n",
        "ans1 = ''\n",
        "ans2 = ''\n",
        "\n",
        "if 'ee' in s:\n",
        "    ans1 = 'Yes'\n",
        "elif not 'ee' in s:\n",
        "    ans1 = 'No'\n",
        "\n",
        "if 'ab' in s:\n",
        "    ans2 = 'Yes'\n",
        "elif not 'ab' in s:\n",
        "    ans2 = 'No'\n",
        "\n",
        "print(ans1, ans2)"
      ],
      "metadata": {
        "id": "SJqBkwfw17iH"
      },
      "execution_count": null,
      "outputs": []
    }
  ]
}