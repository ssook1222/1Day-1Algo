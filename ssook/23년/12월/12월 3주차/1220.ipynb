{
  "nbformat": 4,
  "nbformat_minor": 0,
  "metadata": {
    "colab": {
      "provenance": [],
      "authorship_tag": "ABX9TyMNvUXFeiYHW438rpkdjyaE",
      "include_colab_link": true
    },
    "kernelspec": {
      "name": "python3",
      "display_name": "Python 3"
    },
    "language_info": {
      "name": "python"
    }
  },
  "cells": [
    {
      "cell_type": "markdown",
      "metadata": {
        "id": "view-in-github",
        "colab_type": "text"
      },
      "source": [
        "<a href=\"https://colab.research.google.com/github/ssook1222/1Day-1Algo/blob/master/ssook/23%EB%85%84/12%EC%9B%94/12%EC%9B%94%203%EC%A3%BC%EC%B0%A8/1220.ipynb\" target=\"_parent\"><img src=\"https://colab.research.google.com/assets/colab-badge.svg\" alt=\"Open In Colab\"/></a>"
      ]
    },
    {
      "cell_type": "markdown",
      "source": [
        "## BoJ"
      ],
      "metadata": {
        "id": "sutUE3kk8KVH"
      }
    },
    {
      "cell_type": "markdown",
      "source": [
        "### 17009"
      ],
      "metadata": {
        "id": "HXDRBiEG8L5h"
      }
    },
    {
      "cell_type": "code",
      "source": [
        "apple_score = 0\n",
        "banana_score = 0\n",
        "\n",
        "apple_score += int(input()) * 3\n",
        "apple_score += int(input()) * 2\n",
        "apple_score += int(input()) * 1\n",
        "\n",
        "banana_score += int(input()) * 3\n",
        "banana_score += int(input()) * 2\n",
        "banana_score += int(input()) * 1\n",
        "\n",
        "if apple_score > banana_score :\n",
        "  print('A')\n",
        "\n",
        "elif banana_score > apple_score:\n",
        "  print('B')\n",
        "\n",
        "else:\n",
        "  print('T')"
      ],
      "metadata": {
        "colab": {
          "base_uri": "https://localhost:8080/"
        },
        "id": "e6zIuPeS8Loo",
        "outputId": "fdae5b84-b4ec-4fca-ec6b-96a8418a100e"
      },
      "execution_count": 2,
      "outputs": [
        {
          "output_type": "stream",
          "name": "stdout",
          "text": [
            "10\n",
            "3\n",
            "7\n",
            "8\n",
            "9\n",
            "6\n",
            "B\n"
          ]
        }
      ]
    },
    {
      "cell_type": "markdown",
      "source": [
        "### 30402"
      ],
      "metadata": {
        "id": "_IbZw4Qq8Mv0"
      }
    },
    {
      "cell_type": "code",
      "execution_count": null,
      "metadata": {
        "id": "XXDd3zwn8Isa"
      },
      "outputs": [],
      "source": [
        "for _ in range(15):\n",
        "  s = input().split()\n",
        "  if 'w' in s:\n",
        "    print('chunbae')\n",
        "    break\n",
        "\n",
        "  elif 'b' in s:\n",
        "    print('nabi')\n",
        "    break\n",
        "\n",
        "  elif 'g' in s:\n",
        "    print('yeongcheol')\n",
        "    break"
      ]
    },
    {
      "cell_type": "markdown",
      "source": [
        "## CodeTree"
      ],
      "metadata": {
        "id": "xatW2Qr7AESb"
      }
    },
    {
      "cell_type": "markdown",
      "source": [
        "### 물의 상태"
      ],
      "metadata": {
        "id": "raTJPnWSAGbN"
      }
    },
    {
      "cell_type": "code",
      "source": [
        "n = int(input())\n",
        "\n",
        "if n < 0:\n",
        "    print('ice')\n",
        "\n",
        "elif n >= 100:\n",
        "    print('vapor')\n",
        "\n",
        "elif 0 <= n < 100:\n",
        "    print('water')"
      ],
      "metadata": {
        "id": "KQFas5LlAF7k"
      },
      "execution_count": null,
      "outputs": []
    }
  ]
}