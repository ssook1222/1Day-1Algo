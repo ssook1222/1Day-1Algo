{
  "nbformat": 4,
  "nbformat_minor": 0,
  "metadata": {
    "colab": {
      "provenance": [],
      "authorship_tag": "ABX9TyPuWg/jGTdP7Vpj+kSB0ibf",
      "include_colab_link": true
    },
    "kernelspec": {
      "name": "python3",
      "display_name": "Python 3"
    },
    "language_info": {
      "name": "python"
    }
  },
  "cells": [
    {
      "cell_type": "markdown",
      "metadata": {
        "id": "view-in-github",
        "colab_type": "text"
      },
      "source": [
        "<a href=\"https://colab.research.google.com/github/ssook1222/1Day-1Algo/blob/master/ssook/23%EB%85%84/12%EC%9B%94/12%EC%9B%94%204%EC%A3%BC%EC%B0%A8/1227.ipynb\" target=\"_parent\"><img src=\"https://colab.research.google.com/assets/colab-badge.svg\" alt=\"Open In Colab\"/></a>"
      ]
    },
    {
      "cell_type": "markdown",
      "source": [
        "## BoJ"
      ],
      "metadata": {
        "id": "zpoirYfBoE8W"
      }
    },
    {
      "cell_type": "markdown",
      "source": [
        "### 4236"
      ],
      "metadata": {
        "id": "bvFjv2r7oNUG"
      }
    },
    {
      "cell_type": "code",
      "source": [
        "project = {}\n",
        "not_chk = []\n",
        "name = None\n",
        "\n",
        "import sys\n",
        "\n",
        "while True:\n",
        "    s1 = sys.stdin.readline().rstrip()\n",
        "\n",
        "    if s1 == '1':\n",
        "\n",
        "      project = dict(sorted(project.items(), key=lambda x: (-len(x[1]), x[0])))\n",
        "\n",
        "      for n in project:\n",
        "        print(n, len(project[n]))\n",
        "\n",
        "      project = {}\n",
        "      not_chk = []\n",
        "      continue\n",
        "\n",
        "    elif s1 == '0':\n",
        "        break\n",
        "    else:\n",
        "        raw2 = ''.join(list(s1.split()))\n",
        "\n",
        "        if raw2.isupper():\n",
        "            name = s1\n",
        "            if name not in project:\n",
        "                project[name] = []\n",
        "        else:\n",
        "            if s1 in not_chk:\n",
        "                pass\n",
        "\n",
        "            if name is not None:\n",
        "                if name not in project:\n",
        "                    project[name] = []\n",
        "\n",
        "                if s1 not in project[name]:\n",
        "                    project[name].append(s1)\n",
        "                    not_chk.append(s1)\n",
        "\n",
        "                elif s1 in project[name]:\n",
        "                    project[name].remove(s1)\n",
        "\n",
        "                for other_name in project.keys():\n",
        "                    if other_name != name and s1 in project[other_name]:\n",
        "                        project[other_name].remove(s1)"
      ],
      "metadata": {
        "colab": {
          "base_uri": "https://localhost:8080/"
        },
        "id": "C9DHU7ENuJkx",
        "outputId": "48f10ea2-b0d4-45a9-d82a-c4300b651899"
      },
      "execution_count": 28,
      "outputs": [
        {
          "name": "stdout",
          "output_type": "stream",
          "text": [
            "UBQTS TXT\n",
            "tthumb\n",
            "LIVESPACE BLOGJAM\n",
            "philton\n",
            "aeinstein\n",
            "YOUBOOK\n",
            "j97lee\n",
            "sswxyzy\n",
            "j97lee\n",
            "aeinstein\n",
            "SKINUX\n",
            "1\n",
            "YOUBOOK 2\n",
            "UBQTS TXT 1\n",
            "LIVESPACE BLOGJAM 1\n",
            "SKINUX 0\n",
            "0\n"
          ]
        }
      ]
    },
    {
      "cell_type": "markdown",
      "source": [
        "### 5602"
      ],
      "metadata": {
        "id": "AhX-3K-J_Nw4"
      }
    },
    {
      "cell_type": "code",
      "source": [
        "people, place = map(int, input().split())\n",
        "vote = {}\n",
        "\n",
        "for i in range(people):\n",
        "  nums = list(map(int, input().split()))\n",
        "  for i in range(len(nums)):\n",
        "    if nums[i] == 1:\n",
        "      if i+1 in vote:\n",
        "        vote[i+1] += 1\n",
        "      else:\n",
        "        vote[i+1] = 1\n",
        "\n",
        "vote = dict(sorted(vote.items(), key = lambda x:(-x[1], x[0])))\n",
        "ans = list(vote.keys())\n",
        "\n",
        "print(*ans)"
      ],
      "metadata": {
        "colab": {
          "base_uri": "https://localhost:8080/"
        },
        "id": "1jvyeeA4_OB0",
        "outputId": "e01aa8a0-2999-458b-9edd-41d9040269dc"
      },
      "execution_count": 32,
      "outputs": [
        {
          "output_type": "stream",
          "name": "stdout",
          "text": [
            "4 6\n",
            "1 0 1 0 1 1\n",
            "1 1 0 1 0 0\n",
            "1 1 1 0 0 0\n",
            "1 0 1 0 1 0\n",
            "1 3 2 5 4 6\n"
          ]
        }
      ]
    },
    {
      "cell_type": "markdown",
      "source": [
        "---"
      ],
      "metadata": {
        "id": "Y2MFhdUhD3L8"
      }
    },
    {
      "cell_type": "markdown",
      "source": [
        "## CodeTree"
      ],
      "metadata": {
        "id": "irJec_JtD4H4"
      }
    },
    {
      "cell_type": "markdown",
      "source": [
        "### 3대 부족"
      ],
      "metadata": {
        "id": "kb93scsAD5Po"
      }
    },
    {
      "cell_type": "code",
      "source": [
        "def is_valid(x, y, n):\n",
        "    return 0 <= x < n and 0 <= y < n\n",
        "\n",
        "def dfs(grid, visited, x, y, current_group):\n",
        "    if visited[x][y] or grid[x][y] != current_group:\n",
        "        return 0\n",
        "\n",
        "    visited[x][y] = True\n",
        "    size = 1\n",
        "\n",
        "    directions = [(0, 1), (0, -1), (1, 0), (-1, 0)]\n",
        "    for dx, dy in directions:\n",
        "        new_x, new_y = x + dx, y + dy\n",
        "        if is_valid(new_x, new_y, n):\n",
        "            size += dfs(grid, visited, new_x, new_y, current_group)\n",
        "\n",
        "    return size\n",
        "\n",
        "def count_villages(grid, n):\n",
        "    visited = [[False for _ in range(n)] for _ in range(n)]\n",
        "    village_counts = {}\n",
        "\n",
        "    for i in range(n):\n",
        "        for j in range(n):\n",
        "            if not visited[i][j]:\n",
        "                current_group = grid[i][j]\n",
        "                size = dfs(grid, visited, i, j, current_group)\n",
        "                if current_group not in village_counts:\n",
        "                    village_counts[current_group] = 0\n",
        "                village_counts[current_group] += 1\n",
        "\n",
        "    return village_counts\n",
        "\n",
        "n = int(input())\n",
        "grid = [list(map(int, input().split())) for _ in range(n)]\n",
        "\n",
        "village_counts = count_villages(grid, n)\n",
        "\n",
        "for i in range(1, max(village_counts.keys()) + 1):\n",
        "    print(village_counts.get(i, 0), end=\" \")"
      ],
      "metadata": {
        "id": "_RfowdnrEDZR"
      },
      "execution_count": null,
      "outputs": []
    }
  ]
}