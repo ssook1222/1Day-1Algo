{
  "nbformat": 4,
  "nbformat_minor": 0,
  "metadata": {
    "colab": {
      "provenance": [],
      "authorship_tag": "ABX9TyMtt6ZPVATMmrdSlAFMZ4sh",
      "include_colab_link": true
    },
    "kernelspec": {
      "name": "python3",
      "display_name": "Python 3"
    },
    "language_info": {
      "name": "python"
    }
  },
  "cells": [
    {
      "cell_type": "markdown",
      "metadata": {
        "id": "view-in-github",
        "colab_type": "text"
      },
      "source": [
        "<a href=\"https://colab.research.google.com/github/ssook1222/1Day-1Algo/blob/master/ssook/23%EB%85%84/12%EC%9B%94/12%EC%9B%94%204%EC%A3%BC%EC%B0%A8/1231.ipynb\" target=\"_parent\"><img src=\"https://colab.research.google.com/assets/colab-badge.svg\" alt=\"Open In Colab\"/></a>"
      ]
    },
    {
      "cell_type": "markdown",
      "source": [
        "## BoJ"
      ],
      "metadata": {
        "id": "0aZUV4kKFZPq"
      }
    },
    {
      "cell_type": "markdown",
      "source": [
        "### 23235"
      ],
      "metadata": {
        "id": "yxKi2Uf2GtXX"
      }
    },
    {
      "cell_type": "code",
      "execution_count": 1,
      "metadata": {
        "colab": {
          "base_uri": "https://localhost:8080/"
        },
        "id": "PCq7dNI_FWKy",
        "outputId": "1c4220b1-cbe5-4fd0-987d-96294c13bee3"
      },
      "outputs": [
        {
          "name": "stdout",
          "output_type": "stream",
          "text": [
            "5 21 44 48 48 64\n",
            "Case 1: Sorting... done!\n",
            "6 8 19 22 49 53 62\n",
            "Case 2: Sorting... done!\n",
            "8 5 9 14 17 24 25 27 61\n",
            "Case 3: Sorting... done!\n",
            "4 13 21 28 35\n",
            "Case 4: Sorting... done!\n",
            "5 31 38 44 49 60\n",
            "Case 5: Sorting... done!\n",
            "0\n"
          ]
        }
      ],
      "source": [
        "cnt = 0\n",
        "\n",
        "while True:\n",
        "  s = input()\n",
        "  cnt += 1\n",
        "\n",
        "  if s == '0':\n",
        "    break\n",
        "  else:\n",
        "    print('Case %d: Sorting... done!' %cnt)"
      ]
    },
    {
      "cell_type": "markdown",
      "source": [
        "### 25494"
      ],
      "metadata": {
        "id": "W0Z80RLhHXXw"
      }
    },
    {
      "cell_type": "code",
      "source": [
        "T = int(input())\n",
        "\n",
        "for i in range(T) :\n",
        "    a, b, c = map(int, input().split())\n",
        "    cnt = 0\n",
        "\n",
        "    for x in range(1, a+1) :\n",
        "        for y in range(1, b+1) :\n",
        "            for z in range(1, c+1) :\n",
        "                if x % y ==  z % x == y % z :\n",
        "                    cnt += 1\n",
        "\n",
        "    print(cnt)"
      ],
      "metadata": {
        "colab": {
          "base_uri": "https://localhost:8080/"
        },
        "id": "Vi_lTJyzHX0b",
        "outputId": "7d098f81-9c7d-4af8-a0af-11a06e3d464e"
      },
      "execution_count": 10,
      "outputs": [
        {
          "output_type": "stream",
          "name": "stdout",
          "text": [
            "2\n",
            "1 2 3\n",
            "1\n",
            "3 2 4\n",
            "2\n"
          ]
        }
      ]
    },
    {
      "cell_type": "markdown",
      "source": [
        "---"
      ],
      "metadata": {
        "id": "hHR0D3QCJvDY"
      }
    },
    {
      "cell_type": "markdown",
      "source": [
        "## CodeTree"
      ],
      "metadata": {
        "id": "AW54PZVOJ4XN"
      }
    },
    {
      "cell_type": "markdown",
      "source": [
        "### 남녀노소 구분짓기"
      ],
      "metadata": {
        "id": "vgslRuwjJ-ig"
      }
    },
    {
      "cell_type": "code",
      "source": [
        "s = int(input())\n",
        "y = int(input())\n",
        "\n",
        "if y >= 19:\n",
        "    if s == 0:\n",
        "        print('MAN')\n",
        "    else:\n",
        "        print('WOMAN')\n",
        "\n",
        "else:\n",
        "    if s == 0:\n",
        "        print('BOY')\n",
        "    else:\n",
        "        print('GIRL')"
      ],
      "metadata": {
        "id": "eaotPATAJ_S-"
      },
      "execution_count": null,
      "outputs": []
    }
  ]
}