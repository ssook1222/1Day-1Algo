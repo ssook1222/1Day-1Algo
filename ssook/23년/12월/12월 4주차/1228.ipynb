{
  "nbformat": 4,
  "nbformat_minor": 0,
  "metadata": {
    "colab": {
      "provenance": [],
      "authorship_tag": "ABX9TyMkosMNS8XDld9Bl1D2Wzbz",
      "include_colab_link": true
    },
    "kernelspec": {
      "name": "python3",
      "display_name": "Python 3"
    },
    "language_info": {
      "name": "python"
    }
  },
  "cells": [
    {
      "cell_type": "markdown",
      "metadata": {
        "id": "view-in-github",
        "colab_type": "text"
      },
      "source": [
        "<a href=\"https://colab.research.google.com/github/ssook1222/1Day-1Algo/blob/master/ssook/23%EB%85%84/12%EC%9B%94/12%EC%9B%94%204%EC%A3%BC%EC%B0%A8/1228.ipynb\" target=\"_parent\"><img src=\"https://colab.research.google.com/assets/colab-badge.svg\" alt=\"Open In Colab\"/></a>"
      ]
    },
    {
      "cell_type": "markdown",
      "source": [
        "## BoJ"
      ],
      "metadata": {
        "id": "PIsgUuk9UFEw"
      }
    },
    {
      "cell_type": "markdown",
      "source": [
        "### 4408"
      ],
      "metadata": {
        "id": "23vXyr6jUKEf"
      }
    },
    {
      "cell_type": "code",
      "execution_count": null,
      "metadata": {
        "colab": {
          "base_uri": "https://localhost:8080/"
        },
        "id": "6bpNWEz2UA8g",
        "outputId": "5df58058-b44e-463a-cc79-156a14c1264f"
      },
      "outputs": [
        {
          "output_type": "stream",
          "name": "stdout",
          "text": [
            "3\n",
            "Marilyn Manson\n",
            "Rhinoceros\n",
            "Jane Doe\n",
            "Family Coalition\n",
            "John Smith\n",
            "independent\n",
            "6\n",
            "John Smith\n",
            "Marilyn Manson\n",
            "Marilyn Manson\n",
            "Jane Doe\n",
            "John Smith\n",
            "Marilyn Manson\n",
            "Rhinoceros\n"
          ]
        }
      ],
      "source": [
        "import sys\n",
        "from collections import defaultdict\n",
        "\n",
        "def cmp(a, b):\n",
        "    return m[a[0]] > m[b[0]]\n",
        "\n",
        "N = int(sys.stdin.readline().rstrip())\n",
        "v = []\n",
        "\n",
        "for _ in range(N):\n",
        "    v.append((sys.stdin.readline().rstrip()))\n",
        "\n",
        "M = int(sys.stdin.readline().rstrip())\n",
        "m = defaultdict(int)\n",
        "\n",
        "for _ in range(M):\n",
        "    str_input = sys.stdin.readline().rstrip().strip()\n",
        "    m[str_input] += 1\n",
        "\n",
        "v.sort(key=lambda x: m[x[0]], reverse=True)\n",
        "\n",
        "if m[v[0][0]] > m[v[1][0]]:\n",
        "    print(v[0][1])\n",
        "else:\n",
        "    print(\"tie\")"
      ]
    },
    {
      "cell_type": "markdown",
      "source": [
        "### 30958"
      ],
      "metadata": {
        "id": "VDOLcmxEULC5"
      }
    },
    {
      "cell_type": "code",
      "source": [
        "n = int(input())\n",
        "s = list(input().split())\n",
        "\n",
        "s_raw = ''.join(s)\n",
        "\n",
        "hubo = {}\n",
        "\n",
        "for c in s_raw:\n",
        "    if c.isalpha():\n",
        "        if c in hubo:\n",
        "            hubo[c] += 1\n",
        "        else:\n",
        "            hubo[c] = 1\n",
        "\n",
        "sorted_hubo = dict(sorted(hubo.items(), key=lambda x: x[1], reverse=True))\n",
        "\n",
        "for h in sorted_hubo:\n",
        "    print(sorted_hubo[h])\n",
        "    break\n"
      ],
      "metadata": {
        "colab": {
          "base_uri": "https://localhost:8080/"
        },
        "id": "eNHB8rXTUMb0",
        "outputId": "8e3b89af-0764-45c6-b6d5-15d37f063a59"
      },
      "execution_count": null,
      "outputs": [
        {
          "output_type": "stream",
          "name": "stdout",
          "text": [
            "255\n",
            "my era of success began with seoul cyber university, since attending seoul cyber university, more companies have been seeking me out, my life has changed since i went to seoul cyber university, the strategy that changes the future, seoul cyber university.\n",
            "34\n"
          ]
        }
      ]
    },
    {
      "cell_type": "markdown",
      "source": [
        "---"
      ],
      "metadata": {
        "id": "6hPr88ujUMss"
      }
    },
    {
      "cell_type": "markdown",
      "source": [
        "## CodeTree"
      ],
      "metadata": {
        "id": "ozUZpLG7UNj5"
      }
    },
    {
      "cell_type": "markdown",
      "source": [
        "### 이차원 격자 8"
      ],
      "metadata": {
        "id": "swsWj0qDUOsV"
      }
    },
    {
      "cell_type": "code",
      "source": [
        "n = int(input())\n",
        "graph = []\n",
        "for _ in range(n):\n",
        "    graph.append(list(map(int, input().split())))\n",
        "\n",
        "r1, c1 = map(int, input().split())\n",
        "r2, c2 = map(int, input().split())\n",
        "\n",
        "m = -1e9\n",
        "\n",
        "for i in range(r1-1, r2):\n",
        "    for j in range(c1-1, c2):\n",
        "        if graph[i][j] > m :\n",
        "            m = graph[i][j]\n",
        "\n",
        "print(m)"
      ],
      "metadata": {
        "id": "cdpsmzO6UPe8"
      },
      "execution_count": null,
      "outputs": []
    }
  ]
}