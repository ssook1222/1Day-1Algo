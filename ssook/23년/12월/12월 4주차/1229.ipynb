{
  "nbformat": 4,
  "nbformat_minor": 0,
  "metadata": {
    "colab": {
      "provenance": [],
      "authorship_tag": "ABX9TyMU5JaEScqNveCtnFYemjvY",
      "include_colab_link": true
    },
    "kernelspec": {
      "name": "python3",
      "display_name": "Python 3"
    },
    "language_info": {
      "name": "python"
    }
  },
  "cells": [
    {
      "cell_type": "markdown",
      "metadata": {
        "id": "view-in-github",
        "colab_type": "text"
      },
      "source": [
        "<a href=\"https://colab.research.google.com/github/ssook1222/1Day-1Algo/blob/master/ssook/23%EB%85%84/12%EC%9B%94/12%EC%9B%94%204%EC%A3%BC%EC%B0%A8/1229.ipynb\" target=\"_parent\"><img src=\"https://colab.research.google.com/assets/colab-badge.svg\" alt=\"Open In Colab\"/></a>"
      ]
    },
    {
      "cell_type": "markdown",
      "source": [
        "## BoJ"
      ],
      "metadata": {
        "id": "miTJxHyXu0ce"
      }
    },
    {
      "cell_type": "markdown",
      "source": [
        "### 25329"
      ],
      "metadata": {
        "id": "S8vvLGsf1SMN"
      }
    },
    {
      "cell_type": "code",
      "execution_count": null,
      "metadata": {
        "id": "TnXJ7ivzugxm"
      },
      "outputs": [],
      "source": [
        "import sys\n",
        "\n",
        "n = int(sys.stdin.readline().rstrip())\n",
        "call = {}\n",
        "price = []\n",
        "\n",
        "for _ in range(n):\n",
        "  time, name = map(str, sys.stdin.readline().rstrip().split())\n",
        "  h, m = map(int, time.split(':'))\n",
        "  call[name] = call.get(name, 0) + 60 * h + m\n",
        "\n",
        "for person in call:\n",
        "  plus = max(call[person] - 100, 0)\n",
        "  total = 10 + 3 * (plus // 50)\n",
        "\n",
        "  if plus % 50 != 0:\n",
        "      total += 3\n",
        "\n",
        "  price.append((person, total))\n",
        "\n",
        "price.sort(key = lambda x:(-x[1], x[0]))\n",
        "\n",
        "for name, fee in price:\n",
        "    print(name, fee)\n"
      ]
    },
    {
      "cell_type": "markdown",
      "source": [
        "### 30957"
      ],
      "metadata": {
        "id": "t2Rvs7Epb2LQ"
      }
    },
    {
      "cell_type": "code",
      "source": [
        "import sys\n",
        "\n",
        "n = int(sys.stdin.readline().rstrip())\n",
        "s = sys.stdin.readline().rstrip()\n",
        "\n",
        "cnt_list = {\"B\": s.count(\"B\"), \"S\": s.count(\"S\"), \"A\": s.count(\"A\")}\n",
        "max_cnt = max(cnt_list, key = cnt_list.get)\n",
        "res = \"\"\n",
        "\n",
        "for cnt in cnt_list:\n",
        "    if cnt_list[max_cnt] == cnt_list[cnt]:\n",
        "        res += cnt\n",
        "\n",
        "if res == \"BSA\":\n",
        "    print(\"SCU\")\n",
        "else:\n",
        "    print(res)"
      ],
      "metadata": {
        "colab": {
          "base_uri": "https://localhost:8080/"
        },
        "id": "g4YkxL5Rb2oN",
        "outputId": "ce1294bf-7482-489b-e915-47f07b1593b7"
      },
      "execution_count": null,
      "outputs": [
        {
          "output_type": "stream",
          "name": "stdout",
          "text": [
            "1\n",
            "A\n",
            "A"
          ]
        }
      ]
    },
    {
      "cell_type": "markdown",
      "source": [
        "---"
      ],
      "metadata": {
        "id": "g_wGOph5jSLc"
      }
    },
    {
      "cell_type": "markdown",
      "source": [
        "## CodeTree"
      ],
      "metadata": {
        "id": "n9Rx-Pi4jan5"
      }
    },
    {
      "cell_type": "markdown",
      "source": [
        "### 좀 더 어려운 수학 점수"
      ],
      "metadata": {
        "id": "tb-do3gQjgIR"
      }
    },
    {
      "cell_type": "code",
      "source": [
        "a_m, a_e = map(int, input().split())\n",
        "b_m, b_e = map(int, input().split())\n",
        "\n",
        "if a_m > b_m:\n",
        "    print('A')\n",
        "\n",
        "if a_m < b_m:\n",
        "    print('B')\n",
        "\n",
        "if a_m == b_m:\n",
        "    if a_e > b_e:\n",
        "        print('A')\n",
        "\n",
        "    if a_e < b_e:\n",
        "        print('B')"
      ],
      "metadata": {
        "id": "h_wD-6sZjhNC"
      },
      "execution_count": null,
      "outputs": []
    }
  ]
}