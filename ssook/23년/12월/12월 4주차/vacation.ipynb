{
  "nbformat": 4,
  "nbformat_minor": 0,
  "metadata": {
    "colab": {
      "provenance": [],
      "authorship_tag": "ABX9TyNCg17yummfMwBHzkMawDnw",
      "include_colab_link": true
    },
    "kernelspec": {
      "name": "python3",
      "display_name": "Python 3"
    },
    "language_info": {
      "name": "python"
    }
  },
  "cells": [
    {
      "cell_type": "markdown",
      "metadata": {
        "id": "view-in-github",
        "colab_type": "text"
      },
      "source": [
        "<a href=\"https://colab.research.google.com/github/ssook1222/1Day-1Algo/blob/master/ssook/23%EB%85%84/12%EC%9B%94/12%EC%9B%94%204%EC%A3%BC%EC%B0%A8/vacation.ipynb\" target=\"_parent\"><img src=\"https://colab.research.google.com/assets/colab-badge.svg\" alt=\"Open In Colab\"/></a>"
      ]
    },
    {
      "cell_type": "markdown",
      "source": [
        "### 1221"
      ],
      "metadata": {
        "id": "Knd8gvw4AcKX"
      }
    },
    {
      "cell_type": "markdown",
      "source": [
        "#### 28097"
      ],
      "metadata": {
        "id": "tz9G4LCP_YlQ"
      }
    },
    {
      "cell_type": "code",
      "execution_count": null,
      "metadata": {
        "id": "WTp2VUIIAaU-",
        "colab": {
          "base_uri": "https://localhost:8080/"
        },
        "outputId": "6709d1f6-55ad-46b7-d28e-01a1b1cbc9a2"
      },
      "outputs": [
        {
          "output_type": "stream",
          "name": "stdout",
          "text": [
            "1\n",
            "10\n",
            "0 10\n"
          ]
        }
      ],
      "source": [
        "n = int(input())\n",
        "\n",
        "num = list(map(int, input().split()))\n",
        "\n",
        "hap = -8\n",
        "for n in num:\n",
        "  hap += n + 8\n",
        "print(hap//24, hap%24)"
      ]
    },
    {
      "cell_type": "markdown",
      "source": [
        "### 1222"
      ],
      "metadata": {
        "id": "UPb1vYD9_hJ0"
      }
    },
    {
      "cell_type": "markdown",
      "source": [
        "#### 13496"
      ],
      "metadata": {
        "id": "UalyM-nLLP6Z"
      }
    },
    {
      "cell_type": "code",
      "source": [
        "num = int(input())\n",
        "\n",
        "for i in range(num):\n",
        "    n, s, d = map(int, input().split())\n",
        "\n",
        "    hap = 0\n",
        "    for j in range(n):\n",
        "        dist, v = map(int, input().split())\n",
        "\n",
        "        if(d * s >= dist):\n",
        "            hap += v\n",
        "\n",
        "    format_ = f\"Data Set {i+1}:\"\n",
        "    print(format_); print(hap); print();"
      ],
      "metadata": {
        "colab": {
          "base_uri": "https://localhost:8080/"
        },
        "id": "APyBjgoRLOOD",
        "outputId": "9af14282-d1e3-41e5-efdc-0e8820012b66"
      },
      "execution_count": null,
      "outputs": [
        {
          "output_type": "stream",
          "name": "stdout",
          "text": [
            "2\n",
            "3 20 31\n",
            "42 70\n",
            "1000 2000\n",
            "512 121\n",
            "Data set 1:\n",
            "191\n",
            " \n",
            "3 10 3\n",
            "29 1\n",
            "30 2\n",
            "31 4\n",
            "Data set 2:\n",
            "3\n",
            " \n"
          ]
        }
      ]
    },
    {
      "cell_type": "markdown",
      "source": [
        "### 1223"
      ],
      "metadata": {
        "id": "XMABqbrWf3Yz"
      }
    },
    {
      "cell_type": "code",
      "source": [
        "while True:\n",
        "    try:\n",
        "        s = input()\n",
        "\n",
        "        if s == '':\n",
        "            break\n",
        "\n",
        "        else:\n",
        "            tmp = ''\n",
        "            for c in s:\n",
        "                if c == 'e':\n",
        "                    tmp += 'i'\n",
        "                elif c == 'i':\n",
        "                    tmp += 'e'\n",
        "                elif c == 'E':\n",
        "                    tmp += 'I'\n",
        "                elif c == 'I':\n",
        "                    tmp += 'E'\n",
        "                else:\n",
        "                    tmp += c\n",
        "            print(tmp)\n",
        "\n",
        "    except EOFError:\n",
        "        break"
      ],
      "metadata": {
        "colab": {
          "base_uri": "https://localhost:8080/"
        },
        "id": "Fhsc1RO7f47V",
        "outputId": "c9861bf8-5016-405a-f9d1-260882a4d483"
      },
      "execution_count": null,
      "outputs": [
        {
          "name": "stdout",
          "output_type": "stream",
          "text": [
            "Alan Pagi\n",
            "Alan Page\n",
            "John Hiesman\n",
            "John Heisman\n",
            "Justen Forsitt\n",
            "Justin Forsett\n",
            "\n"
          ]
        }
      ]
    },
    {
      "cell_type": "markdown",
      "source": [
        "### 1224"
      ],
      "metadata": {
        "id": "LFjqo7j2VLs_"
      }
    },
    {
      "cell_type": "code",
      "source": [
        "t = int(input())\n",
        "\n",
        "for _ in range(t):\n",
        "  n, m = map(int, input().split())\n",
        "\n",
        "  if n >= m:\n",
        "    print('MMM BRAINS')\n",
        "\n",
        "  else:\n",
        "    print('NO BRAINS')"
      ],
      "metadata": {
        "colab": {
          "base_uri": "https://localhost:8080/"
        },
        "id": "64ni-gbFVM3D",
        "outputId": "f8e590cd-38b0-4f39-fdec-6cf59c08596a"
      },
      "execution_count": 1,
      "outputs": [
        {
          "output_type": "stream",
          "name": "stdout",
          "text": [
            "3\n",
            "4 5\n",
            "NO BRAINS\n",
            "4 4\n",
            "MMM BRAINS\n",
            "3 4\n",
            "NO BRAINS\n"
          ]
        }
      ]
    }
  ]
}