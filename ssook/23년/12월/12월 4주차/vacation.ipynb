{
  "nbformat": 4,
  "nbformat_minor": 0,
  "metadata": {
    "colab": {
      "provenance": [],
      "authorship_tag": "ABX9TyNexzpTmjd8WmmIyK4yI/Zk",
      "include_colab_link": true
    },
    "kernelspec": {
      "name": "python3",
      "display_name": "Python 3"
    },
    "language_info": {
      "name": "python"
    }
  },
  "cells": [
    {
      "cell_type": "markdown",
      "metadata": {
        "id": "view-in-github",
        "colab_type": "text"
      },
      "source": [
        "<a href=\"https://colab.research.google.com/github/ssook1222/1Day-1Algo/blob/master/ssook/23%EB%85%84/12%EC%9B%94/12%EC%9B%94%204%EC%A3%BC%EC%B0%A8/vacation.ipynb\" target=\"_parent\"><img src=\"https://colab.research.google.com/assets/colab-badge.svg\" alt=\"Open In Colab\"/></a>"
      ]
    },
    {
      "cell_type": "markdown",
      "source": [
        "### 1221"
      ],
      "metadata": {
        "id": "Knd8gvw4AcKX"
      }
    },
    {
      "cell_type": "markdown",
      "source": [
        "#### 28097"
      ],
      "metadata": {
        "id": "tz9G4LCP_YlQ"
      }
    },
    {
      "cell_type": "code",
      "execution_count": 9,
      "metadata": {
        "id": "WTp2VUIIAaU-",
        "colab": {
          "base_uri": "https://localhost:8080/"
        },
        "outputId": "6709d1f6-55ad-46b7-d28e-01a1b1cbc9a2"
      },
      "outputs": [
        {
          "output_type": "stream",
          "name": "stdout",
          "text": [
            "1\n",
            "10\n",
            "0 10\n"
          ]
        }
      ],
      "source": [
        "n = int(input())\n",
        "\n",
        "num = list(map(int, input().split()))\n",
        "\n",
        "hap = -8\n",
        "for n in num:\n",
        "  hap += n + 8\n",
        "print(hap//24, hap%24)"
      ]
    },
    {
      "cell_type": "markdown",
      "source": [
        "### 1222"
      ],
      "metadata": {
        "id": "UPb1vYD9_hJ0"
      }
    }
  ]
}