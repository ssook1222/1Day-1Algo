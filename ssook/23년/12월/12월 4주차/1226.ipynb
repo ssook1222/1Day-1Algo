{
  "nbformat": 4,
  "nbformat_minor": 0,
  "metadata": {
    "colab": {
      "provenance": [],
      "authorship_tag": "ABX9TyPVuvDbGBa2PO/IJNIdV1OX",
      "include_colab_link": true
    },
    "kernelspec": {
      "name": "python3",
      "display_name": "Python 3"
    },
    "language_info": {
      "name": "python"
    }
  },
  "cells": [
    {
      "cell_type": "markdown",
      "metadata": {
        "id": "view-in-github",
        "colab_type": "text"
      },
      "source": [
        "<a href=\"https://colab.research.google.com/github/ssook1222/1Day-1Algo/blob/master/ssook/23%EB%85%84/12%EC%9B%94/12%EC%9B%94%204%EC%A3%BC%EC%B0%A8/1226.ipynb\" target=\"_parent\"><img src=\"https://colab.research.google.com/assets/colab-badge.svg\" alt=\"Open In Colab\"/></a>"
      ]
    },
    {
      "cell_type": "markdown",
      "source": [
        "## BoJ"
      ],
      "metadata": {
        "id": "wgcNXt7NiGG3"
      }
    },
    {
      "cell_type": "markdown",
      "source": [
        "### 4714"
      ],
      "metadata": {
        "id": "BNPxc0ediHbv"
      }
    },
    {
      "cell_type": "code",
      "execution_count": null,
      "metadata": {
        "colab": {
          "base_uri": "https://localhost:8080/"
        },
        "id": "0cLG-D_EiCju",
        "outputId": "adcce2f9-1a02-44a0-d096-fdfa021cc791"
      },
      "outputs": [
        {
          "name": "stdout",
          "output_type": "stream",
          "text": [
            "100.0\n",
            "Objects weighing 100.00 on Earth will weigh 16.70 on the moon.\n",
            "12.0\n",
            "Objects weighing 12.00 on Earth will weigh 2.00 on the moon.\n",
            "1200000.0\n",
            "Objects weighing 1200000.00 on Earth will weigh 200400.00 on the moon.\n",
            "-1\n"
          ]
        }
      ],
      "source": [
        "while True:\n",
        "  s = float(input())\n",
        "\n",
        "  if s == -1.0:\n",
        "    break\n",
        "\n",
        "  else:\n",
        "    res = s * 0.167\n",
        "    print('Objects weighing %.2f on Earth will weigh %.2f on the moon.' %(s, res))"
      ]
    },
    {
      "cell_type": "markdown",
      "source": [
        "### 2445"
      ],
      "metadata": {
        "id": "UwUXN5mPmoUn"
      }
    },
    {
      "cell_type": "code",
      "source": [
        "n = int(input())\n",
        "\n",
        "for i in range(1,n+1):\n",
        "    print(\"*\" * i + \" \" * 2*(n-i) + \"*\" * i)\n",
        "for j in range(1,n):\n",
        "    print(\"*\"* (n-j) + \" \" * 2*j + \"*\" * (n-j))"
      ],
      "metadata": {
        "colab": {
          "base_uri": "https://localhost:8080/"
        },
        "id": "cveIs8HgmpZM",
        "outputId": "cfc7cac0-0fbd-48d0-c96b-3c37d3d7e287"
      },
      "execution_count": null,
      "outputs": [
        {
          "output_type": "stream",
          "name": "stdout",
          "text": [
            "5\n",
            "*        *\n",
            "**      **\n",
            "***    ***\n",
            "****  ****\n",
            "**********\n",
            "****  ****\n",
            "***    ***\n",
            "**      **\n",
            "*        *\n"
          ]
        }
      ]
    },
    {
      "cell_type": "markdown",
      "source": [
        "### 28446"
      ],
      "metadata": {
        "id": "A5TiWODA5yEE"
      }
    },
    {
      "cell_type": "code",
      "source": [
        "import sys\n",
        "\n",
        "t = int(sys.stdin.readline().rstrip())\n",
        "box = {}\n",
        "\n",
        "for _ in range(t):\n",
        "\n",
        "  raw = list(map(int, sys.stdin.readline().rstrip().split()))\n",
        "  if len(raw) == 2:\n",
        "    ball = raw[1]\n",
        "    print(box[ball])\n",
        "  elif len(raw) == 3:\n",
        "    num = raw[1]\n",
        "    ball = raw[2]\n",
        "    box[ball] = num"
      ],
      "metadata": {
        "colab": {
          "base_uri": "https://localhost:8080/"
        },
        "id": "FfZBWnN55yav",
        "outputId": "0991f055-eecd-4594-8319-855c1463bbc6"
      },
      "execution_count": 3,
      "outputs": [
        {
          "output_type": "stream",
          "name": "stdout",
          "text": [
            "5\n",
            "1 5 900\n",
            "1 7 300\n",
            "1 15 100\n",
            "2 300\n",
            "7\n",
            "2 100\n",
            "15\n"
          ]
        }
      ]
    },
    {
      "cell_type": "markdown",
      "source": [
        "## CodeTree"
      ],
      "metadata": {
        "id": "fdCgtExSb7rV"
      }
    },
    {
      "cell_type": "markdown",
      "source": [
        "### 이진수 출력 2"
      ],
      "metadata": {
        "id": "q8VDpT8AfMju"
      }
    },
    {
      "cell_type": "code",
      "source": [
        "n = int(input())\n",
        "ans = []\n",
        "for i in range(2**n):\n",
        "    binary_str = format(i, f'0{n}b')\n",
        "    if '00' not in binary_str:\n",
        "        ans.append(binary_str)\n",
        "\n",
        "ans.sort(reverse = True)\n",
        "for a in ans:\n",
        "    print(a)"
      ],
      "metadata": {
        "id": "DO7rCKHCfM7y"
      },
      "execution_count": null,
      "outputs": []
    },
    {
      "cell_type": "markdown",
      "source": [
        "### 알파벳에 따른 평가"
      ],
      "metadata": {
        "id": "QSXetlzKm8p7"
      }
    },
    {
      "cell_type": "code",
      "source": [
        "s = input()\n",
        "\n",
        "if s == 'S':\n",
        "    print('Superior')\n",
        "\n",
        "elif s == 'A':\n",
        "    print('Excellent')\n",
        "\n",
        "elif s == 'B':\n",
        "    print('Good')\n",
        "\n",
        "elif s == 'C':\n",
        "    print('Usually')\n",
        "\n",
        "elif s == 'D':\n",
        "    print('Effort')\n",
        "\n",
        "else:\n",
        "    print('Failure')"
      ],
      "metadata": {
        "id": "QpODlA5YnA-z"
      },
      "execution_count": null,
      "outputs": []
    }
  ]
}