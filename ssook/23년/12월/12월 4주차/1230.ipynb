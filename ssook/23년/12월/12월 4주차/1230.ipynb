{
  "nbformat": 4,
  "nbformat_minor": 0,
  "metadata": {
    "colab": {
      "provenance": [],
      "authorship_tag": "ABX9TyO8LV1alIXN8c1Mrl0e3olm",
      "include_colab_link": true
    },
    "kernelspec": {
      "name": "python3",
      "display_name": "Python 3"
    },
    "language_info": {
      "name": "python"
    }
  },
  "cells": [
    {
      "cell_type": "markdown",
      "metadata": {
        "id": "view-in-github",
        "colab_type": "text"
      },
      "source": [
        "<a href=\"https://colab.research.google.com/github/ssook1222/1Day-1Algo/blob/master/ssook/23%EB%85%84/12%EC%9B%94/12%EC%9B%94%204%EC%A3%BC%EC%B0%A8/1230.ipynb\" target=\"_parent\"><img src=\"https://colab.research.google.com/assets/colab-badge.svg\" alt=\"Open In Colab\"/></a>"
      ]
    },
    {
      "cell_type": "markdown",
      "source": [
        "## BoJ"
      ],
      "metadata": {
        "id": "vBpfxqL0ho-9"
      }
    },
    {
      "cell_type": "markdown",
      "source": [
        "### 7241"
      ],
      "metadata": {
        "id": "8dbacH98iDeJ"
      }
    },
    {
      "cell_type": "code",
      "execution_count": 11,
      "metadata": {
        "colab": {
          "base_uri": "https://localhost:8080/"
        },
        "id": "71cjvwBPhkpf",
        "outputId": "f8663b58-f3c1-4828-d880-cd9e2ce59d36"
      },
      "outputs": [
        {
          "output_type": "stream",
          "name": "stdout",
          "text": [
            "5 3 8\n",
            "835\n",
            "5\n"
          ]
        }
      ],
      "source": [
        "import sys\n",
        "import itertools\n",
        "\n",
        "nums = list(map(str, sys.stdin.readline().rstrip().split()))\n",
        "raw = list(itertools.permutations(''.join(nums), 3))\n",
        "res = []\n",
        "\n",
        "for r in raw:\n",
        "  res.append(int(''.join(r)))\n",
        "\n",
        "res.sort()\n",
        "\n",
        "print(res.index(int(sys.stdin.readline().rstrip()))+1)"
      ]
    },
    {
      "cell_type": "markdown",
      "source": [
        "### 28691"
      ],
      "metadata": {
        "id": "cnKV1PCmiFAS"
      }
    },
    {
      "cell_type": "code",
      "source": [
        "import sys\n",
        "\n",
        "s = sys.stdin.readline().rstrip()\n",
        "\n",
        "if s == 'M':\n",
        "  print('MatKor')\n",
        "\n",
        "elif s == 'W':\n",
        "  print('WiCys')\n",
        "\n",
        "elif s == 'C':\n",
        "  print('CyKor')\n",
        "\n",
        "elif s == 'A':\n",
        "  print('AlKor')\n",
        "\n",
        "elif s == '$':\n",
        "  print('$clear')"
      ],
      "metadata": {
        "colab": {
          "base_uri": "https://localhost:8080/"
        },
        "id": "MtNT5hIpiGB0",
        "outputId": "b887d31c-402a-45b0-c12f-b5e838ffe3ce"
      },
      "execution_count": 12,
      "outputs": [
        {
          "output_type": "stream",
          "name": "stdout",
          "text": [
            "M\n",
            "MatKor\n"
          ]
        }
      ]
    },
    {
      "cell_type": "markdown",
      "source": [
        "---"
      ],
      "metadata": {
        "id": "aR7lC2nuiGga"
      }
    },
    {
      "cell_type": "markdown",
      "source": [
        "## CodeTree"
      ],
      "metadata": {
        "id": "5d6UjotolQou"
      }
    },
    {
      "cell_type": "markdown",
      "source": [
        "### 숫자의 계절은"
      ],
      "metadata": {
        "id": "CHonr9MxlR9m"
      }
    },
    {
      "cell_type": "code",
      "source": [
        "m = int(input())\n",
        "\n",
        "if 3 <= m <= 5:\n",
        "    print('Spring')\n",
        "\n",
        "elif 6 <= m <= 8:\n",
        "    print('Summer')\n",
        "\n",
        "elif 9 <= m <= 11:\n",
        "    print('Fall')\n",
        "\n",
        "else:\n",
        "    print('Winter')"
      ],
      "metadata": {
        "id": "YQver49MlTpt"
      },
      "execution_count": 12,
      "outputs": []
    }
  ]
}