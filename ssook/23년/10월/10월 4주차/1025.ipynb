{
  "nbformat": 4,
  "nbformat_minor": 0,
  "metadata": {
    "colab": {
      "provenance": [],
      "authorship_tag": "ABX9TyPqDE5Z02Sb6Q851A+I/8U3",
      "include_colab_link": true
    },
    "kernelspec": {
      "name": "python3",
      "display_name": "Python 3"
    },
    "language_info": {
      "name": "python"
    }
  },
  "cells": [
    {
      "cell_type": "markdown",
      "metadata": {
        "id": "view-in-github",
        "colab_type": "text"
      },
      "source": [
        "<a href=\"https://colab.research.google.com/github/ssook1222/1Day-1Algo/blob/master/ssook/10%EC%9B%94/10%EC%9B%94%204%EC%A3%BC%EC%B0%A8/1025.ipynb\" target=\"_parent\"><img src=\"https://colab.research.google.com/assets/colab-badge.svg\" alt=\"Open In Colab\"/></a>"
      ]
    },
    {
      "cell_type": "markdown",
      "source": [
        "## BoJ"
      ],
      "metadata": {
        "id": "n2vqbIGHHL8w"
      }
    },
    {
      "cell_type": "markdown",
      "source": [
        "### 4675"
      ],
      "metadata": {
        "id": "xm9AL7EoJem5"
      }
    },
    {
      "cell_type": "code",
      "execution_count": 5,
      "metadata": {
        "colab": {
          "base_uri": "https://localhost:8080/"
        },
        "id": "SC2YV9DlHKbH",
        "outputId": "cb121acd-83ae-4a39-9f1f-de2d4db72e3c"
      },
      "outputs": [
        {
          "name": "stdout",
          "output_type": "stream",
          "text": [
            "tarp\n",
            "part\n",
            "trap\n",
            "XXXXXX\n",
            "trap\n",
            "trap\n",
            "part\n",
            "tarp\n",
            "******\n",
            "XXXXXX\n"
          ]
        }
      ],
      "source": [
        "from collections import Counter\n",
        "import sys\n",
        "\n",
        "word = {}\n",
        "\n",
        "while True:\n",
        "    s = sys.stdin.readline().strip()\n",
        "    if s != 'XXXXXX':\n",
        "        word[s] = Counter(s)\n",
        "    else:\n",
        "        break\n",
        "\n",
        "while True:\n",
        "    s = sys.stdin.readline().strip()\n",
        "    if s == 'XXXXXX':\n",
        "        break\n",
        "\n",
        "    bigyo = sorted([k for k in word if word[k] == Counter(s)])\n",
        "\n",
        "    if bigyo:\n",
        "        print(*bigyo, sep='\\n')\n",
        "\n",
        "    else:\n",
        "        print('NOT A VALID WORD')\n",
        "\n",
        "    print('******')"
      ]
    },
    {
      "cell_type": "markdown",
      "source": [
        "### 4635"
      ],
      "metadata": {
        "id": "_mk6ACFcfS4X"
      }
    },
    {
      "cell_type": "code",
      "source": [
        "while True:\n",
        "  n = int(input())\n",
        "  hap = 0\n",
        "  if n == -1:\n",
        "    break\n",
        "\n",
        "  hr = 0\n",
        "\n",
        "  for i in range(n):\n",
        "    mile, h = map(int, input().split())\n",
        "    if i == 0:\n",
        "      hap += mile * h\n",
        "      hr = h\n",
        "    else:\n",
        "      hap += mile * (h - hr)\n",
        "      hr = h\n",
        "  print(\"%d miles\" %hap)"
      ],
      "metadata": {
        "colab": {
          "base_uri": "https://localhost:8080/"
        },
        "id": "0BzDUJH1fTSv",
        "outputId": "95e8057b-5aae-4bba-84af-c3e66d1a98e9"
      },
      "execution_count": 12,
      "outputs": [
        {
          "name": "stdout",
          "output_type": "stream",
          "text": [
            "3\n",
            "20 2\n",
            "30 6\n",
            "10 7\n",
            "170 miles\n",
            "2\n",
            "60 1\n",
            "30 5\n",
            "180 miles\n",
            "4\n",
            "15 1\n",
            "25 2\n",
            "30 3\n",
            "10 5\n",
            "90 miles\n",
            "-1\n"
          ]
        }
      ]
    },
    {
      "cell_type": "markdown",
      "source": [
        "---"
      ],
      "metadata": {
        "id": "lxgpEwhJd2y4"
      }
    },
    {
      "cell_type": "markdown",
      "source": [
        "## CodeTree"
      ],
      "metadata": {
        "id": "X-u-YfClrgKW"
      }
    },
    {
      "cell_type": "markdown",
      "source": [
        "### 연속부분수열일까"
      ],
      "metadata": {
        "id": "0_ETXa3ud3cb"
      }
    },
    {
      "cell_type": "code",
      "source": [
        "n, m = map(int, input().split())\n",
        "\n",
        "num1 = list(map(str, input().split()))\n",
        "num2 = list(map(str, input().split()))\n",
        "\n",
        "test1 = ''.join(num1)\n",
        "test2 = ''.join(num2)\n",
        "\n",
        "if test2 in test1:\n",
        "    print(\"Yes\")\n",
        "else:\n",
        "    print(\"No\")"
      ],
      "metadata": {
        "id": "ZL8ko2cld4KX"
      },
      "execution_count": null,
      "outputs": []
    }
  ]
}