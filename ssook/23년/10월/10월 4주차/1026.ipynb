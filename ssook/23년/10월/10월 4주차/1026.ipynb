{
  "nbformat": 4,
  "nbformat_minor": 0,
  "metadata": {
    "colab": {
      "provenance": [],
      "authorship_tag": "ABX9TyMgUQtXAH0OrbAMXvabisKI",
      "include_colab_link": true
    },
    "kernelspec": {
      "name": "python3",
      "display_name": "Python 3"
    },
    "language_info": {
      "name": "python"
    }
  },
  "cells": [
    {
      "cell_type": "markdown",
      "metadata": {
        "id": "view-in-github",
        "colab_type": "text"
      },
      "source": [
        "<a href=\"https://colab.research.google.com/github/ssook1222/1Day-1Algo/blob/master/ssook/10%EC%9B%94/10%EC%9B%94%204%EC%A3%BC%EC%B0%A8/1026.ipynb\" target=\"_parent\"><img src=\"https://colab.research.google.com/assets/colab-badge.svg\" alt=\"Open In Colab\"/></a>"
      ]
    },
    {
      "cell_type": "markdown",
      "source": [
        "## BoJ"
      ],
      "metadata": {
        "id": "lXtYUONxEJpU"
      }
    },
    {
      "cell_type": "markdown",
      "source": [
        "### 9184"
      ],
      "metadata": {
        "id": "ndSLZ5i3EN6H"
      }
    },
    {
      "cell_type": "code",
      "source": [
        "import sys\n",
        "\n",
        "sys.setrecursionlimit(10**9)\n",
        "\n",
        "def w(a, b, c):\n",
        "    if a <= 0 or b <= 0 or c <= 0:\n",
        "        return 1\n",
        "\n",
        "    if a > 20 or b > 20 or c > 20:\n",
        "        return w(20, 20, 20)\n",
        "\n",
        "    if dp[a][b][c]:\n",
        "        return dp[a][b][c]\n",
        "\n",
        "    if a < b and b < c:\n",
        "        dp[a][b][c] = w(a, b, c - 1) + w(a, b - 1, c - 1) - w(a, b - 1, c)\n",
        "    else:\n",
        "        dp[a][b][c] = w(a - 1, b, c) + w(a - 1, b - 1, c) + w(a - 1, b, c - 1) - w(a - 1, b - 1, c - 1)\n",
        "    return dp[a][b][c]\n",
        "\n",
        "dp = [[[0] * 21 for _ in range(21)] for _ in range(21)]\n",
        "\n",
        "while True:\n",
        "    a, b, c = map(int, input().split())\n",
        "\n",
        "    if a == -1 and b == -1 and c == -1:\n",
        "        break\n",
        "\n",
        "    result = w(a, b, c)\n",
        "\n",
        "    print(\"w(%d, %d, %d) = %d\" %(a, b, c, result))"
      ],
      "metadata": {
        "colab": {
          "base_uri": "https://localhost:8080/"
        },
        "id": "5o22IKo3GNty",
        "outputId": "24a6f224-35e3-4082-b6f8-3facb8f8d847"
      },
      "execution_count": 1,
      "outputs": [
        {
          "output_type": "stream",
          "name": "stdout",
          "text": [
            "1 1 1\n",
            "2\n"
          ]
        }
      ]
    },
    {
      "cell_type": "markdown",
      "source": [
        "### 10480"
      ],
      "metadata": {
        "id": "IUs_Azv7teDd"
      }
    },
    {
      "cell_type": "code",
      "source": [
        "t = int(input())\n",
        "\n",
        "for i in range(t):\n",
        "  n = int(input())\n",
        "  if abs(n) % 2 == 0:\n",
        "    print('%d is even' %n)\n",
        "  else:\n",
        "    print('%d is odd' %n)"
      ],
      "metadata": {
        "colab": {
          "base_uri": "https://localhost:8080/"
        },
        "id": "SkRZmIIDqT0p",
        "outputId": "731364f2-1c1f-4e97-8bfa-890ef265e06b"
      },
      "execution_count": 1,
      "outputs": [
        {
          "output_type": "stream",
          "name": "stdout",
          "text": [
            "3\n",
            "10\n",
            "10 is even\n",
            "9\n",
            "9 is odd\n",
            "-5\n",
            "-5 is odd\n"
          ]
        }
      ]
    },
    {
      "cell_type": "markdown",
      "source": [
        "---"
      ],
      "metadata": {
        "id": "A53e7zu4uSk8"
      }
    },
    {
      "cell_type": "markdown",
      "source": [
        "## CodeTree"
      ],
      "metadata": {
        "id": "980nEHQyuQ1_"
      }
    },
    {
      "cell_type": "markdown",
      "source": [
        "### 배열 놀이"
      ],
      "metadata": {
        "id": "56W0T3nFuTO7"
      }
    },
    {
      "cell_type": "code",
      "source": [
        "n, q = map(int, input().split())\n",
        "num = list(map(int, input().split()))\n",
        "\n",
        "for i in range(q):\n",
        "    s = input().split()\n",
        "    if len(s) < 3:\n",
        "        cmd = int(s[0])\n",
        "        a = int(s[1])\n",
        "        if cmd == 1:\n",
        "            print(num[a-1])\n",
        "\n",
        "        elif cmd == 2:\n",
        "            if a in num:\n",
        "                print(num.index(a)+1)\n",
        "            else:\n",
        "                print(0)\n",
        "\n",
        "    else:\n",
        "        cmd = int(s[0])\n",
        "        a = int(s[1])\n",
        "        b = int(s[2])\n",
        "        if cmd == 3:\n",
        "            print(*num[a-1:b])\n",
        ""
      ],
      "metadata": {
        "id": "Sxq9jd0NuTdv"
      },
      "execution_count": 1,
      "outputs": []
    }
  ]
}