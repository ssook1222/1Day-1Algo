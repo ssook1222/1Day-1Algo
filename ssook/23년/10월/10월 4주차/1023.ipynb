{
  "nbformat": 4,
  "nbformat_minor": 0,
  "metadata": {
    "colab": {
      "provenance": [],
      "authorship_tag": "ABX9TyPZOItnDttuHmH6wsAy91dG",
      "include_colab_link": true
    },
    "kernelspec": {
      "name": "python3",
      "display_name": "Python 3"
    },
    "language_info": {
      "name": "python"
    }
  },
  "cells": [
    {
      "cell_type": "markdown",
      "metadata": {
        "id": "view-in-github",
        "colab_type": "text"
      },
      "source": [
        "<a href=\"https://colab.research.google.com/github/ssook1222/1Day-1Algo/blob/master/ssook/10%EC%9B%94/10%EC%9B%94%204%EC%A3%BC%EC%B0%A8/1023.ipynb\" target=\"_parent\"><img src=\"https://colab.research.google.com/assets/colab-badge.svg\" alt=\"Open In Colab\"/></a>"
      ]
    },
    {
      "cell_type": "markdown",
      "source": [
        "## BoJ"
      ],
      "metadata": {
        "id": "rlAZKBdKtYms"
      }
    },
    {
      "cell_type": "markdown",
      "source": [
        "### 28701"
      ],
      "metadata": {
        "id": "P0I7QmpLtkSB"
      }
    },
    {
      "cell_type": "code",
      "execution_count": 1,
      "metadata": {
        "colab": {
          "base_uri": "https://localhost:8080/"
        },
        "id": "IUquECIUtWNF",
        "outputId": "26d12220-e7e5-44b2-d25a-64c5663ab723"
      },
      "outputs": [
        {
          "output_type": "stream",
          "name": "stdout",
          "text": [
            "5\n",
            "15\n",
            "225\n",
            "225\n"
          ]
        }
      ],
      "source": [
        "n = int(input())\n",
        "\n",
        "nums = [i for i in range(1, n+1)]\n",
        "\n",
        "print(sum(nums))\n",
        "print((sum(nums))**2)\n",
        "\n",
        "hap = 0\n",
        "for num in nums:\n",
        "  hap += num**3\n",
        "\n",
        "print(hap)"
      ]
    },
    {
      "cell_type": "markdown",
      "source": [
        "### 21919"
      ],
      "metadata": {
        "id": "hKPmOJnIy3so"
      }
    },
    {
      "cell_type": "code",
      "source": [
        "import sys\n",
        "\n",
        "def is_prime(n):\n",
        "  check = [True, True] * (n-1)\n",
        "  primes = []\n",
        "\n",
        "  for i in range(2, n+1):\n",
        "    if check[i]:\n",
        "      primes.append(i)\n",
        "      for j in range(2*i, n+1, i):\n",
        "        check[j] = False\n",
        "  return primes\n",
        "\n",
        "n = int(sys.stdin.readline().rstrip())\n",
        "nums = is_prime(1000001)\n",
        "\n",
        "hubo = list(set(map(int, sys.stdin.readline().rstrip().split())))\n",
        "res = []\n",
        "ans = 1\n",
        "for n in hubo:\n",
        " if n in nums:\n",
        "  ans *= n\n",
        "\n",
        "if ans != 1:\n",
        "  print(ans)\n",
        "else:\n",
        "  print(-1)"
      ],
      "metadata": {
        "id": "YS_PyTO8y4Ad"
      },
      "execution_count": null,
      "outputs": []
    },
    {
      "cell_type": "markdown",
      "source": [
        "---"
      ],
      "metadata": {
        "id": "ac6NXTARy4Xb"
      }
    },
    {
      "cell_type": "markdown",
      "source": [
        "## CodeTree"
      ],
      "metadata": {
        "id": "zF7Tvp1742pB"
      }
    },
    {
      "cell_type": "markdown",
      "source": [
        "### 동전이 있는 위치"
      ],
      "metadata": {
        "id": "pju1rN1r408e"
      }
    },
    {
      "cell_type": "code",
      "source": [
        "n, m = map(int, input().split())\n",
        "\n",
        "nums = [[0]*(n) for i in range(n)]\n",
        "\n",
        "for _ in range(m):\n",
        "    x, y = map(int, input().split())\n",
        "    nums[x-1][y-1] = 1\n",
        "\n",
        "for i in range(n):\n",
        "    for j in range(n):\n",
        "        print(nums[i][j],  end= ' ')\n",
        "    print('')"
      ],
      "metadata": {
        "id": "gcGjSeqX41Mm"
      },
      "execution_count": 7,
      "outputs": []
    }
  ]
}