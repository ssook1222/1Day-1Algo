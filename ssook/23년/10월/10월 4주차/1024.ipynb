{
  "nbformat": 4,
  "nbformat_minor": 0,
  "metadata": {
    "colab": {
      "provenance": [],
      "authorship_tag": "ABX9TyObyFcpBgtsyuc4guV37J4s",
      "include_colab_link": true
    },
    "kernelspec": {
      "name": "python3",
      "display_name": "Python 3"
    },
    "language_info": {
      "name": "python"
    }
  },
  "cells": [
    {
      "cell_type": "markdown",
      "metadata": {
        "id": "view-in-github",
        "colab_type": "text"
      },
      "source": [
        "<a href=\"https://colab.research.google.com/github/ssook1222/1Day-1Algo/blob/master/ssook/10%EC%9B%94/10%EC%9B%94%204%EC%A3%BC%EC%B0%A8/1024.ipynb\" target=\"_parent\"><img src=\"https://colab.research.google.com/assets/colab-badge.svg\" alt=\"Open In Colab\"/></a>"
      ]
    },
    {
      "cell_type": "markdown",
      "source": [
        "## BoJ"
      ],
      "metadata": {
        "id": "A_tAgR8m37Zj"
      }
    },
    {
      "cell_type": "markdown",
      "source": [
        "### 10025"
      ],
      "metadata": {
        "id": "9iDegIOC39TU"
      }
    },
    {
      "cell_type": "code",
      "execution_count": 8,
      "metadata": {
        "colab": {
          "base_uri": "https://localhost:8080/"
        },
        "id": "sazPki6w35ns",
        "outputId": "68d1c8aa-6d1f-4b87-fb01-c754b763a5fe"
      },
      "outputs": [
        {
          "output_type": "stream",
          "name": "stdout",
          "text": [
            "4 3\n",
            "4 7\n",
            "10 15\n",
            "2 2\n",
            "5 1\n",
            "10\n"
          ]
        }
      ],
      "source": [
        "import sys\n",
        "\n",
        "n, k = map(int, sys.stdin.readline().rstrip().split())\n",
        "zoo = [0] * 1000001\n",
        "end = 0\n",
        "\n",
        "for _ in range(n):\n",
        "    g, x = map(int, sys.stdin.readline().rstrip().split())\n",
        "    zoo[x] = g\n",
        "    end = max(end, x)\n",
        "\n",
        "step = 2 * k + 1\n",
        "window = sum(zoo[:step])\n",
        "ans = window\n",
        "\n",
        "for i in range(step, end+1):\n",
        "    window += zoo[i] - zoo[i-step]\n",
        "    ans = max(ans, window)\n",
        "print(ans)"
      ]
    },
    {
      "cell_type": "markdown",
      "source": [
        "### 5576"
      ],
      "metadata": {
        "id": "JES-GmjC3-ta"
      }
    },
    {
      "cell_type": "code",
      "source": [
        "import sys\n",
        "\n",
        "w = []\n",
        "k = []\n",
        "\n",
        "for _ in range(10):\n",
        "  w.append(int(sys.stdin.readline().rstrip()))\n",
        "\n",
        "for _ in range(10):\n",
        "  k.append(int(sys.stdin.readline().rstrip()))\n",
        "\n",
        "w.sort(reverse = True)\n",
        "w_hap = sum(w[:3])\n",
        "\n",
        "k.sort(reverse = True)\n",
        "k_hap = sum(k[:3])\n",
        "\n",
        "print(w_hap, k_hap)\n"
      ],
      "metadata": {
        "colab": {
          "base_uri": "https://localhost:8080/"
        },
        "id": "Ty20AO2K3_xy",
        "outputId": "4a6aa07b-abd2-40dc-cf5e-df391d76b48e"
      },
      "execution_count": 9,
      "outputs": [
        {
          "output_type": "stream",
          "name": "stdout",
          "text": [
            "23\n",
            "23\n",
            "20\n",
            "15\n",
            "15\n",
            "14\n",
            "13\n",
            "9\n",
            "7\n",
            "6\n",
            "25\n",
            "19\n",
            "17\n",
            "17\n",
            "16\n",
            "13\n",
            "12\n",
            "11\n",
            "9\n",
            "5\n",
            "66 61\n"
          ]
        }
      ]
    },
    {
      "cell_type": "markdown",
      "source": [
        "---"
      ],
      "metadata": {
        "id": "kexQo91X4AJc"
      }
    },
    {
      "cell_type": "markdown",
      "source": [
        "## Programmers"
      ],
      "metadata": {
        "id": "qPCVTcje4A_l"
      }
    },
    {
      "cell_type": "markdown",
      "source": [
        "### 영어 끝말잇기"
      ],
      "metadata": {
        "id": "6FHHL_SQ4CMr"
      }
    },
    {
      "cell_type": "code",
      "source": [
        "def solution(n, words):\n",
        "    answer = [0, 0]\n",
        "    used = [words[0]]\n",
        "    for i in range(1, len(words)):\n",
        "        turn = (i % n) + 1\n",
        "        round_num = (i // n) + 1\n",
        "\n",
        "        if words[i - 1][-1] != words[i][0] or words[i] in used:\n",
        "            answer = [turn, round_num]\n",
        "            break\n",
        "        used.append(words[i])\n",
        "\n",
        "    return answer"
      ],
      "metadata": {
        "id": "cOuVy2yK4CaV"
      },
      "execution_count": null,
      "outputs": []
    }
  ]
}