{
  "nbformat": 4,
  "nbformat_minor": 0,
  "metadata": {
    "colab": {
      "provenance": [],
      "authorship_tag": "ABX9TyPG3D7L2k1ftOhuPfvXOIYQ",
      "include_colab_link": true
    },
    "kernelspec": {
      "name": "python3",
      "display_name": "Python 3"
    },
    "language_info": {
      "name": "python"
    }
  },
  "cells": [
    {
      "cell_type": "markdown",
      "metadata": {
        "id": "view-in-github",
        "colab_type": "text"
      },
      "source": [
        "<a href=\"https://colab.research.google.com/github/ssook1222/1Day-1Algo/blob/master/ssook/10%EC%9B%94/10%EC%9B%94%204%EC%A3%BC%EC%B0%A8/1028.ipynb\" target=\"_parent\"><img src=\"https://colab.research.google.com/assets/colab-badge.svg\" alt=\"Open In Colab\"/></a>"
      ]
    },
    {
      "cell_type": "markdown",
      "source": [
        "## BoJ"
      ],
      "metadata": {
        "id": "a5i1MHF7d2Rg"
      }
    },
    {
      "cell_type": "markdown",
      "source": [
        "### 5568"
      ],
      "metadata": {
        "id": "MW8A6bvad38W"
      }
    },
    {
      "cell_type": "code",
      "execution_count": 17,
      "metadata": {
        "colab": {
          "base_uri": "https://localhost:8080/"
        },
        "id": "8sk0nvbAduW8",
        "outputId": "59d947fb-4010-4796-da0c-c8965b5750f9"
      },
      "outputs": [
        {
          "output_type": "stream",
          "name": "stdout",
          "text": [
            "6\n",
            "3\n",
            "72\n",
            "2\n",
            "12\n",
            "7\n",
            "2\n",
            "1\n",
            "21\n"
          ]
        }
      ],
      "source": [
        "import itertools\n",
        "import sys\n",
        "n = int(sys.stdin.readline().rstrip())\n",
        "k = int(sys.stdin.readline().rstrip())\n",
        "\n",
        "num = []\n",
        "\n",
        "for _ in range(n):\n",
        "  num.append((sys.stdin.readline().rstrip()))\n",
        "\n",
        "raw = list(itertools.permutations(num, k))\n",
        "raw2 = []\n",
        "for i in raw:\n",
        "  raw2.append(int(''.join(i)))\n",
        "\n",
        "print(len(list(set(raw2))))"
      ]
    },
    {
      "cell_type": "markdown",
      "source": [
        "### 17863"
      ],
      "metadata": {
        "id": "RpRI7DM_eLXA"
      }
    },
    {
      "cell_type": "code",
      "source": [
        "s = input()\n",
        "\n",
        "if s[:3] == '555':\n",
        "  print('YES')\n",
        "else:\n",
        "  print('NO')"
      ],
      "metadata": {
        "colab": {
          "base_uri": "https://localhost:8080/"
        },
        "id": "PP5arvbzeMdo",
        "outputId": "4f5d5b48-cab8-4f29-ace3-0c4abd19fed1"
      },
      "execution_count": 19,
      "outputs": [
        {
          "output_type": "stream",
          "name": "stdout",
          "text": [
            "5519876\n",
            "NO\n"
          ]
        }
      ]
    },
    {
      "cell_type": "markdown",
      "source": [
        "---"
      ],
      "metadata": {
        "id": "eptat1aykVhe"
      }
    },
    {
      "cell_type": "markdown",
      "source": [
        "## CodeTree"
      ],
      "metadata": {
        "id": "5xOcv_CZkWQB"
      }
    },
    {
      "cell_type": "markdown",
      "source": [
        "### 두 배열의 곱"
      ],
      "metadata": {
        "id": "IMxmBHzlkXsu"
      }
    },
    {
      "cell_type": "code",
      "source": [
        "arr1 = []\n",
        "arr2 = []\n",
        "res = [[0,0,0] for _ in range(3)]\n",
        "\n",
        "for _ in range(3):\n",
        "    arr1.append(list(map(int, input().split())))\n",
        "\n",
        "input()\n",
        "\n",
        "for _ in range(3):\n",
        "    arr2.append(list(map(int, input().split())))\n",
        "\n",
        "\n",
        "for i in range(3):\n",
        "    for j in range(3):\n",
        "        res[i][j] = arr1[i][j] * arr2[i][j]\n",
        "\n",
        "for i in range(3):\n",
        "    for j in range(3):\n",
        "        print(res[i][j], end= ' ')\n",
        "    print(' ')"
      ],
      "metadata": {
        "id": "iAoXBOypkXgt"
      },
      "execution_count": null,
      "outputs": []
    }
  ]
}