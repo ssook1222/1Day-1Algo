{
  "nbformat": 4,
  "nbformat_minor": 0,
  "metadata": {
    "colab": {
      "provenance": [],
      "authorship_tag": "ABX9TyNvbmQIxP0px/pmn1KImyd/",
      "include_colab_link": true
    },
    "kernelspec": {
      "name": "python3",
      "display_name": "Python 3"
    },
    "language_info": {
      "name": "python"
    }
  },
  "cells": [
    {
      "cell_type": "markdown",
      "metadata": {
        "id": "view-in-github",
        "colab_type": "text"
      },
      "source": [
        "<a href=\"https://colab.research.google.com/github/ssook1222/1Day-1Algo/blob/master/ssook/10%EC%9B%94/10%EC%9B%94%201%EC%A3%BC%EC%B0%A8/1002.ipynb\" target=\"_parent\"><img src=\"https://colab.research.google.com/assets/colab-badge.svg\" alt=\"Open In Colab\"/></a>"
      ]
    },
    {
      "cell_type": "markdown",
      "source": [
        "## BoJ"
      ],
      "metadata": {
        "id": "EcZxcEOfKxjB"
      }
    },
    {
      "cell_type": "markdown",
      "source": [
        "### 24387"
      ],
      "metadata": {
        "id": "wvp4aDZ5K3Lh"
      }
    },
    {
      "cell_type": "code",
      "execution_count": 1,
      "metadata": {
        "colab": {
          "base_uri": "https://localhost:8080/"
        },
        "id": "goQIplk_Kv1o",
        "outputId": "d54ab243-d5cf-47cd-b577-1a404c268dc7"
      },
      "outputs": [
        {
          "output_type": "stream",
          "name": "stdout",
          "text": [
            "7 2 9\n",
            "10 5 3\n",
            "131\n"
          ]
        }
      ],
      "source": [
        "a = list(map(int, input().split()))\n",
        "b = list(map(int, input().split()))\n",
        "\n",
        "a.sort(reverse = True)\n",
        "b.sort(reverse = True)\n",
        "\n",
        "hap = 0\n",
        "\n",
        "for i in range(len(a)):\n",
        "  hap += a[i] *  b[i]\n",
        "\n",
        "print(hap)"
      ]
    },
    {
      "cell_type": "markdown",
      "source": [
        "### 11557"
      ],
      "metadata": {
        "id": "44jXsxzaK4aG"
      }
    },
    {
      "cell_type": "code",
      "source": [
        "t = int(input())\n",
        "\n",
        "for i in range(t):\n",
        "  sul = {}\n",
        "  num = int(input())\n",
        "\n",
        "  for j in range(num):\n",
        "    name, quan = map(str, input().split())\n",
        "    quan = int(quan)\n",
        "    sul[name] = quan\n",
        "\n",
        "  sul = sorted(sul.items(), key = lambda x:-x[1])\n",
        "\n",
        "  for ans in sul:\n",
        "    print(ans[0])\n",
        "    break\n"
      ],
      "metadata": {
        "colab": {
          "base_uri": "https://localhost:8080/"
        },
        "id": "3Gqed5BlK5k1",
        "outputId": "28869bfb-d9f1-4fa7-f153-f4caa126b4bd"
      },
      "execution_count": 9,
      "outputs": [
        {
          "output_type": "stream",
          "name": "stdout",
          "text": [
            "2\n",
            "3\n",
            "Yonsei 10\n",
            "Korea 10000000\n",
            "Ewha 20\n",
            "Korea\n",
            "2\n",
            "Yonsei 1\n",
            "Korea 10000000\n",
            "Korea\n"
          ]
        }
      ]
    },
    {
      "cell_type": "markdown",
      "source": [
        "## LeetCode"
      ],
      "metadata": {
        "id": "SPyM1wT2Kzhv"
      }
    },
    {
      "cell_type": "markdown",
      "source": [
        "### 58. Length of Last Word\n"
      ],
      "metadata": {
        "id": "tGy8VIVkK1rw"
      }
    },
    {
      "cell_type": "code",
      "source": [
        "class Solution:\n",
        "    def lengthOfLastWord(self, s: str) -> int:\n",
        "        s_raw = list(s.split())\n",
        "        for i in range(len(s_raw)):\n",
        "            s_raw[i] = s_raw[i].strip()\n",
        "\n",
        "        return len(s_raw[-1])"
      ],
      "metadata": {
        "id": "vvclMJXoK1e-"
      },
      "execution_count": null,
      "outputs": []
    }
  ]
}