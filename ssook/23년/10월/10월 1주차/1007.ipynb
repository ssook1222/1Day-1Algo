{
  "nbformat": 4,
  "nbformat_minor": 0,
  "metadata": {
    "colab": {
      "provenance": [],
      "authorship_tag": "ABX9TyPBPo8N1TaYwgnCqmD2qd6T",
      "include_colab_link": true
    },
    "kernelspec": {
      "name": "python3",
      "display_name": "Python 3"
    },
    "language_info": {
      "name": "python"
    }
  },
  "cells": [
    {
      "cell_type": "markdown",
      "metadata": {
        "id": "view-in-github",
        "colab_type": "text"
      },
      "source": [
        "<a href=\"https://colab.research.google.com/github/ssook1222/1Day-1Algo/blob/master/ssook/10%EC%9B%94/10%EC%9B%94%201%EC%A3%BC%EC%B0%A8/1007.ipynb\" target=\"_parent\"><img src=\"https://colab.research.google.com/assets/colab-badge.svg\" alt=\"Open In Colab\"/></a>"
      ]
    },
    {
      "cell_type": "markdown",
      "source": [
        "## BoJ"
      ],
      "metadata": {
        "id": "fidUD0j0-0YW"
      }
    },
    {
      "cell_type": "markdown",
      "source": [
        "### 6825"
      ],
      "metadata": {
        "id": "StU3jlwJ-2ZZ"
      }
    },
    {
      "cell_type": "code",
      "execution_count": 1,
      "metadata": {
        "colab": {
          "base_uri": "https://localhost:8080/"
        },
        "id": "DaXY6XDt-yQS",
        "outputId": "cbf28c3b-d73f-4f61-f44c-05c7775286e5"
      },
      "outputs": [
        {
          "output_type": "stream",
          "name": "stdout",
          "text": [
            "69\n",
            "1.73\n",
            "Normal weight\n"
          ]
        }
      ],
      "source": [
        "kg = float(input())\n",
        "m = float(input())\n",
        "\n",
        "bmi = kg / (m**2)\n",
        "\n",
        "if bmi < 18.5:\n",
        "  print(\"Underweight\")\n",
        "\n",
        "elif 18.5 < bmi < 25.0:\n",
        "  print(\"Normal weight\")\n",
        "\n",
        "else:\n",
        "  print(\"Overweight\")"
      ]
    },
    {
      "cell_type": "markdown",
      "source": [
        "###"
      ],
      "metadata": {
        "id": "_hYlMbRi-2sA"
      }
    },
    {
      "cell_type": "code",
      "source": [
        "n, u, l = map(int, input().split())\n",
        "\n",
        "check1 = False\n",
        "check2 = False\n",
        "check3 = False\n",
        "\n",
        "if n >= 1000:\n",
        "  check1 = True\n",
        "\n",
        "if u >= 8000 or l >= 260:\n",
        "  check2 = True\n",
        "\n",
        "if check1 == True and check2 == True:\n",
        "  print(\"Very Good\")\n",
        "\n",
        "else:\n",
        "  if n>=1000:\n",
        "    print(\"Good\")\n",
        "  else:\n",
        "    print(\"Bad\")\n"
      ],
      "metadata": {
        "colab": {
          "base_uri": "https://localhost:8080/"
        },
        "id": "X8WNJ3r1-24j",
        "outputId": "9cd5b467-7ec0-45f8-f2ed-e9ccc4c752b2"
      },
      "execution_count": 12,
      "outputs": [
        {
          "output_type": "stream",
          "name": "stdout",
          "text": [
            "600 8500 270\n",
            "Bad\n"
          ]
        }
      ]
    },
    {
      "cell_type": "markdown",
      "source": [
        "---"
      ],
      "metadata": {
        "id": "4UJgEYfm-36x"
      }
    },
    {
      "cell_type": "markdown",
      "source": [
        "## LeetCode"
      ],
      "metadata": {
        "id": "QoCdBKem-4ed"
      }
    },
    {
      "cell_type": "markdown",
      "source": [
        "### 2733. Neither Minimum nor Maximum"
      ],
      "metadata": {
        "id": "VGOrcEAE-6LF"
      }
    },
    {
      "cell_type": "code",
      "source": [
        "class Solution:\n",
        "    def findNonMinOrMax(self, nums: List[int]) -> int:\n",
        "        nums.remove(min(nums))\n",
        "        if len(nums) >= 1:\n",
        "            nums.remove(max(nums))\n",
        "\n",
        "        if len(nums) != 0:\n",
        "            nums.sort()\n",
        "            return nums[0]\n",
        "        else:\n",
        "            return -1"
      ],
      "metadata": {
        "id": "g59jyjOd-5uO"
      },
      "execution_count": null,
      "outputs": []
    }
  ]
}