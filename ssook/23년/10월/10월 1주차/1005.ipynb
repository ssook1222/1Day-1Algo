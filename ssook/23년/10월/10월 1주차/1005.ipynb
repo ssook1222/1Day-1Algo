{
  "nbformat": 4,
  "nbformat_minor": 0,
  "metadata": {
    "colab": {
      "provenance": [],
      "authorship_tag": "ABX9TyNSe6m2m6LBtPWuSOT4ztZs",
      "include_colab_link": true
    },
    "kernelspec": {
      "name": "python3",
      "display_name": "Python 3"
    },
    "language_info": {
      "name": "python"
    }
  },
  "cells": [
    {
      "cell_type": "markdown",
      "metadata": {
        "id": "view-in-github",
        "colab_type": "text"
      },
      "source": [
        "<a href=\"https://colab.research.google.com/github/ssook1222/1Day-1Algo/blob/master/ssook/10%EC%9B%94/10%EC%9B%94%201%EC%A3%BC%EC%B0%A8/1005.ipynb\" target=\"_parent\"><img src=\"https://colab.research.google.com/assets/colab-badge.svg\" alt=\"Open In Colab\"/></a>"
      ]
    },
    {
      "cell_type": "markdown",
      "source": [
        "## BoJ"
      ],
      "metadata": {
        "id": "MzaTiOq6E7_I"
      }
    },
    {
      "cell_type": "markdown",
      "source": [
        "### 19685"
      ],
      "metadata": {
        "id": "967_BEV_E93l"
      }
    },
    {
      "cell_type": "code",
      "execution_count": 1,
      "metadata": {
        "colab": {
          "base_uri": "https://localhost:8080/"
        },
        "id": "qBYrK-iDE51b",
        "outputId": "fff984e1-cc0b-4cbe-9185-0c2d9f672333"
      },
      "outputs": [
        {
          "output_type": "stream",
          "name": "stdout",
          "text": [
            "8 13\n",
            "Palindrome!\n",
            "Palindrome!\n",
            "10\n",
            "Palindrome!\n",
            "12\n",
            "13\n"
          ]
        }
      ],
      "source": [
        "a, b = map(int, input().split())\n",
        "\n",
        "for i in range(a, b+1):\n",
        "  if str(i) == str(i)[::-1]:\n",
        "    print(\"Palindrome!\")\n",
        "  else:\n",
        "    print(i)"
      ]
    },
    {
      "cell_type": "markdown",
      "source": [
        "### 4351"
      ],
      "metadata": {
        "id": "uqlXTZiTE-1O"
      }
    },
    {
      "cell_type": "code",
      "source": [
        "import sys\n",
        "\n",
        "m, n = map(int, sys.stdin.readline().rstrip().split())\n",
        "score = {}\n",
        "\n",
        "for _ in range(m):\n",
        "  nickname, points = map(str, sys.stdin.readline().rstrip().split())\n",
        "  score[nickname] = int(points)\n",
        "\n",
        "cnt = 0\n",
        "\n",
        "for i in range(n):\n",
        "    hap = 0\n",
        "\n",
        "    while True:\n",
        "        s = sys.stdin.readline().rstrip()\n",
        "\n",
        "        if s == '.':\n",
        "            break\n",
        "\n",
        "        for word in list(s.split()):\n",
        "            if word in score:\n",
        "                 hap += score[word]\n",
        "\n",
        "    print(hap)"
      ],
      "metadata": {
        "id": "MrA9cfqaOkQk"
      },
      "execution_count": null,
      "outputs": []
    },
    {
      "cell_type": "markdown",
      "source": [
        "---"
      ],
      "metadata": {
        "id": "rqIXrIrEE_yW"
      }
    },
    {
      "cell_type": "markdown",
      "source": [
        "## LeetCode"
      ],
      "metadata": {
        "id": "w6p1Ny4UFAdr"
      }
    },
    {
      "cell_type": "markdown",
      "source": [
        "### 349. Intersection of Two Arrays\n"
      ],
      "metadata": {
        "id": "2rVRC9O8FCRW"
      }
    },
    {
      "cell_type": "code",
      "source": [
        "class Solution:\n",
        "    def intersection(self, nums1: List[int], nums2: List[int]) -> List[int]:\n",
        "        return set(nums1) & set(nums2)"
      ],
      "metadata": {
        "id": "qs9lubElFDK5"
      },
      "execution_count": 5,
      "outputs": []
    }
  ]
}