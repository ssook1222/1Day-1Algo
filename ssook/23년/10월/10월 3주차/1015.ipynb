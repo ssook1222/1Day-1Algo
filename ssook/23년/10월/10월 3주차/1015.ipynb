{
  "nbformat": 4,
  "nbformat_minor": 0,
  "metadata": {
    "colab": {
      "provenance": [],
      "authorship_tag": "ABX9TyML6/GXSSY4B5iXFYgO6Hup",
      "include_colab_link": true
    },
    "kernelspec": {
      "name": "python3",
      "display_name": "Python 3"
    },
    "language_info": {
      "name": "python"
    }
  },
  "cells": [
    {
      "cell_type": "markdown",
      "metadata": {
        "id": "view-in-github",
        "colab_type": "text"
      },
      "source": [
        "<a href=\"https://colab.research.google.com/github/ssook1222/1Day-1Algo/blob/master/ssook/10%EC%9B%94/10%EC%9B%94%203%EC%A3%BC%EC%B0%A8/1015.ipynb\" target=\"_parent\"><img src=\"https://colab.research.google.com/assets/colab-badge.svg\" alt=\"Open In Colab\"/></a>"
      ]
    },
    {
      "cell_type": "markdown",
      "source": [
        "## BoJ"
      ],
      "metadata": {
        "id": "IwwxBisTdaJq"
      }
    },
    {
      "cell_type": "markdown",
      "source": [
        "### 28114"
      ],
      "metadata": {
        "id": "VecO9Ut2fnOy"
      }
    },
    {
      "cell_type": "code",
      "execution_count": 3,
      "metadata": {
        "colab": {
          "base_uri": "https://localhost:8080/"
        },
        "id": "Y6R4ngv_dYUG",
        "outputId": "c8c3cd1f-6496-47f3-ed13-a51a29c0228e"
      },
      "outputs": [
        {
          "output_type": "stream",
          "name": "stdout",
          "text": [
            "600 2018 AHN\n",
            "2000 2019 LEE\n",
            "6000 2020 OH\n",
            "181920\n",
            "OLA\n"
          ]
        }
      ],
      "source": [
        "import sys\n",
        "\n",
        "yr = []\n",
        "score = {}\n",
        "\n",
        "for i in range(3):\n",
        "  p, y, s = map(str, sys.stdin.readline().rstrip().split())\n",
        "\n",
        "  p = int(p)\n",
        "  y = int(y[2:])\n",
        "\n",
        "  score[s] = p\n",
        "  yr.append(y)\n",
        "\n",
        "score = dict(sorted(score.items(), key = lambda x:-x[1]))\n",
        "yr.sort()\n",
        "\n",
        "tmp = ''\n",
        "for i in yr:\n",
        "  tmp += str(i)\n",
        "print(tmp)\n",
        "\n",
        "tmp = ''\n",
        "for name in score:\n",
        "  tmp += name[0]\n",
        "\n",
        "print(tmp)\n"
      ]
    },
    {
      "cell_type": "markdown",
      "source": [
        "### 7130"
      ],
      "metadata": {
        "id": "oCKqDRcJf8ra"
      }
    },
    {
      "cell_type": "code",
      "source": [
        "import sys\n",
        "\n",
        "happy1, happy2 = map(int, sys.stdin.readline().rstrip().split())\n",
        "\n",
        "n = int(input())\n",
        "hap = 0\n",
        "\n",
        "for i in range(n):\n",
        "  a, b = map(int, input().split())\n",
        "  if a * happy1 > b * happy2:\n",
        "    hap += a * happy1\n",
        "  elif a * happy1 < b * happy2:\n",
        "    hap += b * happy2\n",
        "  else:\n",
        "    hap += a * happy1\n",
        "\n",
        "print(hap)\n"
      ],
      "metadata": {
        "colab": {
          "base_uri": "https://localhost:8080/"
        },
        "id": "d6O3HIqYf88I",
        "outputId": "a473b3f1-9f4e-46c7-c18d-5a1e1a1582d1"
      },
      "execution_count": 4,
      "outputs": [
        {
          "output_type": "stream",
          "name": "stdout",
          "text": [
            "3 5\n",
            "3\n",
            "4 2\n",
            "3 2\n",
            "2 1\n",
            "28\n"
          ]
        }
      ]
    },
    {
      "cell_type": "markdown",
      "source": [
        "---"
      ],
      "metadata": {
        "id": "LOvbyvfFf9Qr"
      }
    },
    {
      "cell_type": "markdown",
      "source": [
        "## CodeTree"
      ],
      "metadata": {
        "id": "TPDyP69Orf56"
      }
    },
    {
      "cell_type": "markdown",
      "source": [
        "### 이차원 격자"
      ],
      "metadata": {
        "id": "34r6wOM-qJwi"
      }
    },
    {
      "cell_type": "code",
      "source": [
        "n = int(input())\n",
        "\n",
        "nums = []\n",
        "for i in range(n):\n",
        "    nums.append(list(map(int, input().split())))\n",
        "\n",
        "r1, c1 = map(int, input().split())\n",
        "r2, c2 = map(int, input().split())\n",
        "\n",
        "hap = 0\n",
        "\n",
        "for i in range(r1-1, r2):\n",
        "    for j in range(c1-1, c2):\n",
        "        hap += nums[i][j]\n",
        "\n",
        "print(hap)"
      ],
      "metadata": {
        "id": "aQgCqIWYrcCa"
      },
      "execution_count": null,
      "outputs": []
    }
  ]
}