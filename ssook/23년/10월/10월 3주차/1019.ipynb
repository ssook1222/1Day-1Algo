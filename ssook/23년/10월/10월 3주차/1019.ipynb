{
  "nbformat": 4,
  "nbformat_minor": 0,
  "metadata": {
    "colab": {
      "provenance": [],
      "authorship_tag": "ABX9TyPyxKQnjN4yFiSdxPd/AvSd",
      "include_colab_link": true
    },
    "kernelspec": {
      "name": "python3",
      "display_name": "Python 3"
    },
    "language_info": {
      "name": "python"
    }
  },
  "cells": [
    {
      "cell_type": "markdown",
      "metadata": {
        "id": "view-in-github",
        "colab_type": "text"
      },
      "source": [
        "<a href=\"https://colab.research.google.com/github/ssook1222/1Day-1Algo/blob/master/ssook/10%EC%9B%94/10%EC%9B%94%203%EC%A3%BC%EC%B0%A8/1019.ipynb\" target=\"_parent\"><img src=\"https://colab.research.google.com/assets/colab-badge.svg\" alt=\"Open In Colab\"/></a>"
      ]
    },
    {
      "cell_type": "markdown",
      "source": [
        "## BoJ"
      ],
      "metadata": {
        "id": "AqNxTvLtLWfJ"
      }
    },
    {
      "cell_type": "markdown",
      "source": [
        "### 5237"
      ],
      "metadata": {
        "id": "BzsvAsosONQl"
      }
    },
    {
      "cell_type": "code",
      "execution_count": null,
      "metadata": {
        "id": "9uwrVXjCKN64"
      },
      "outputs": [],
      "source": [
        "t = int(input())\n",
        "cnt = 0\n",
        "\n",
        "for _ in range(t):\n",
        "  raw = map(int, input().split())\n",
        "  n = raw[0]\n",
        "  k = raw[1]\n",
        "  graph = []*(n+1)\n",
        "  visit = [False]*(n+1)\n",
        "\n",
        "  for i in range(2, len(raw)):\n",
        "    if i % 2 == 0:\n",
        "      end = raw[i]\n",
        "    elif i % 2 != 0:\n",
        "      start = raw[i]\n",
        "    graph[start].append(end)\n",
        "    graph[end].append(start)\n",
        "\n",
        "def dfs(n):\n",
        "  global cnt\n",
        "  for node in graph[n]:\n",
        "    if not visit[n]:\n",
        "      visit[n] = True\n",
        "      cnt += 1\n",
        "      dfs(n)\n",
        "\n",
        "dfs(graph[0][0])\n",
        "\n",
        "if cnt >= n:\n",
        "  print(\"Connected\")\n",
        "else:\n",
        "  print(\"Not Connected\")"
      ]
    },
    {
      "cell_type": "markdown",
      "source": [
        "### 6841"
      ],
      "metadata": {
        "id": "OWEUJ7Tuq00Y"
      }
    },
    {
      "cell_type": "code",
      "source": [
        "word = {\n",
        "    'CU' : 'see you',\n",
        "    ':-)' : \"I’m happy\",\n",
        "    ':-(' : \"I’m unhappy\",\n",
        "    ';-)' : \"wink\",\n",
        "    ':-P' : \"stick out my tongue\",\n",
        "    '(~.~)' : \"sleepy\",\n",
        "    'TA' : \"totally awesome\",\n",
        "    'CCC' : \"Canadian Computing Competition\",\n",
        "    'CUZ' : \"because\",\n",
        "    'TY' : \"thank-you\",\n",
        "    'YW' : \"you’re welcome\",\n",
        "    'TTYL' : \"talk to you later\",\n",
        "}\n",
        "\n",
        "while True:\n",
        "  s = input()\n",
        "  if s == 'TTYL':\n",
        "    print(word[s])\n",
        "    break\n",
        "  else:\n",
        "    if s in word:\n",
        "      print(word[s])\n",
        "    else:\n",
        "      print(s)\n"
      ],
      "metadata": {
        "colab": {
          "base_uri": "https://localhost:8080/"
        },
        "id": "YdQUjuNvq1FV",
        "outputId": "11e644fd-677d-4b50-d336-6c39b1ed0117"
      },
      "execution_count": 1,
      "outputs": [
        {
          "output_type": "stream",
          "name": "stdout",
          "text": [
            "CCC\n",
            "Canadian Computing Competition\n",
            ":-\n",
            ":-\n",
            ":-)\n",
            "I'm happy\n",
            "SQL\n",
            "SQL\n",
            "TTYL\n",
            "talk to you later\n"
          ]
        }
      ]
    },
    {
      "cell_type": "markdown",
      "source": [
        "## Programmers"
      ],
      "metadata": {
        "id": "SmbfbcL_MIBM"
      }
    },
    {
      "cell_type": "markdown",
      "source": [
        "### 카드 뭉치"
      ],
      "metadata": {
        "id": "KpMu9Jw5qk7g"
      }
    },
    {
      "cell_type": "code",
      "source": [
        "def solution(cards1, cards2, goal):\n",
        "    answer = ''\n",
        "\n",
        "    c1 = []\n",
        "    c2 = []\n",
        "\n",
        "    check = True\n",
        "\n",
        "    for word in goal:\n",
        "        if word in cards1:\n",
        "            c1.append(word)\n",
        "        if word in cards2:\n",
        "            c2.append(word)\n",
        "\n",
        "    for i in range(len(c1)):\n",
        "        if c1[i] == cards1[i]:\n",
        "            pass\n",
        "        else:\n",
        "            check = False\n",
        "\n",
        "    for i in range(len(c2)):\n",
        "        if c2[i] == cards2[i]:\n",
        "            pass\n",
        "        else:\n",
        "            check = False\n",
        "\n",
        "    if check:\n",
        "        answer = \"Yes\"\n",
        "    else:\n",
        "        answer = \"No\"\n",
        "\n",
        "\n",
        "    return answer"
      ],
      "metadata": {
        "id": "TvNCNKqCMJrb"
      },
      "execution_count": null,
      "outputs": []
    }
  ]
}