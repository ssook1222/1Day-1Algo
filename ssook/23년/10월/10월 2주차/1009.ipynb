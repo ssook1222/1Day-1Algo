{
  "nbformat": 4,
  "nbformat_minor": 0,
  "metadata": {
    "colab": {
      "provenance": [],
      "authorship_tag": "ABX9TyOpwp1z4tO78g4nxJjB2ExI",
      "include_colab_link": true
    },
    "kernelspec": {
      "name": "python3",
      "display_name": "Python 3"
    },
    "language_info": {
      "name": "python"
    }
  },
  "cells": [
    {
      "cell_type": "markdown",
      "metadata": {
        "id": "view-in-github",
        "colab_type": "text"
      },
      "source": [
        "<a href=\"https://colab.research.google.com/github/ssook1222/1Day-1Algo/blob/master/ssook/10%EC%9B%94/10%EC%9B%94%202%EC%A3%BC%EC%B0%A8/1009.ipynb\" target=\"_parent\"><img src=\"https://colab.research.google.com/assets/colab-badge.svg\" alt=\"Open In Colab\"/></a>"
      ]
    },
    {
      "cell_type": "markdown",
      "source": [
        "## BoJ"
      ],
      "metadata": {
        "id": "UGPIfIncqmmi"
      }
    },
    {
      "cell_type": "markdown",
      "source": [
        "### 8715"
      ],
      "metadata": {
        "id": "Y2SSSIyFqozU"
      }
    },
    {
      "cell_type": "code",
      "execution_count": 1,
      "metadata": {
        "colab": {
          "base_uri": "https://localhost:8080/"
        },
        "id": "BJDm7VuZpX0u",
        "outputId": "a9adb618-18fc-453b-95f7-c7c15407d12c"
      },
      "outputs": [
        {
          "output_type": "stream",
          "name": "stdout",
          "text": [
            "5\n",
            "1 4 3 2 5\n",
            "TAK\n"
          ]
        }
      ],
      "source": [
        "n = int(input())\n",
        "ori = [i for i in range(1, n+1)]\n",
        "bigyo = list(map(int, input().split()))\n",
        "\n",
        "ori.sort()\n",
        "bigyo.sort()\n",
        "\n",
        "if ori == bigyo:\n",
        "  print(\"TAK\")\n",
        "else:\n",
        "  print(\"NIE\")"
      ]
    },
    {
      "cell_type": "markdown",
      "source": [
        "### 2992"
      ],
      "metadata": {
        "id": "vEmiJEXqqprC"
      }
    },
    {
      "cell_type": "code",
      "source": [
        "from itertools import permutations\n",
        "\n",
        "n_raw = input()\n",
        "n = list(n_raw)\n",
        "raw = []\n",
        "res = []\n",
        "raw = list(permutations(n))\n",
        "\n",
        "for word in raw:\n",
        "  res.append(int(''.join(word)))\n",
        "\n",
        "res.sort()\n",
        "\n",
        "if max(res) != int(n_raw):\n",
        "  for num in res:\n",
        "    if num > int(n_raw):\n",
        "      print(num)\n",
        "      break\n",
        "else:\n",
        "  print(0)"
      ],
      "metadata": {
        "colab": {
          "base_uri": "https://localhost:8080/"
        },
        "id": "49f1cnFTqsfk",
        "outputId": "6813d6f1-aca9-4bd9-bad0-b6eebaa8dd17"
      },
      "execution_count": 26,
      "outputs": [
        {
          "output_type": "stream",
          "name": "stdout",
          "text": [
            "330\n",
            "0\n"
          ]
        }
      ]
    },
    {
      "cell_type": "markdown",
      "source": [
        "---"
      ],
      "metadata": {
        "id": "gf-aUUATqq9J"
      }
    },
    {
      "cell_type": "markdown",
      "source": [
        "## LeetCode"
      ],
      "metadata": {
        "id": "78gx1w6TqrgR"
      }
    },
    {
      "cell_type": "markdown",
      "source": [
        "### 2879. Display the First Three Rows\n"
      ],
      "metadata": {
        "id": "TV79AB9Jqs5P"
      }
    },
    {
      "cell_type": "code",
      "source": [
        "import pandas as pd\n",
        "\n",
        "def selectFirstRows(employees: pd.DataFrame) -> pd.DataFrame:\n",
        "    return employees.head(3)"
      ],
      "metadata": {
        "id": "RT_38fWVqtml"
      },
      "execution_count": null,
      "outputs": []
    }
  ]
}