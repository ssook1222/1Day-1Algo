{
  "nbformat": 4,
  "nbformat_minor": 0,
  "metadata": {
    "colab": {
      "provenance": [],
      "authorship_tag": "ABX9TyP/IT/mC9vy++DCZOWBBIaF",
      "include_colab_link": true
    },
    "kernelspec": {
      "name": "python3",
      "display_name": "Python 3"
    },
    "language_info": {
      "name": "python"
    }
  },
  "cells": [
    {
      "cell_type": "markdown",
      "metadata": {
        "id": "view-in-github",
        "colab_type": "text"
      },
      "source": [
        "<a href=\"https://colab.research.google.com/github/ssook1222/1Day-1Algo/blob/master/ssook/10%EC%9B%94/10%EC%9B%94%202%EC%A3%BC%EC%B0%A8/1015.ipynb\" target=\"_parent\"><img src=\"https://colab.research.google.com/assets/colab-badge.svg\" alt=\"Open In Colab\"/></a>"
      ]
    },
    {
      "cell_type": "markdown",
      "source": [
        "## BoJ"
      ],
      "metadata": {
        "id": "PUVrJzAUGk_W"
      }
    },
    {
      "cell_type": "markdown",
      "source": [
        "### 28281"
      ],
      "metadata": {
        "id": "juMMU9bKGmNN"
      }
    },
    {
      "cell_type": "code",
      "execution_count": 2,
      "metadata": {
        "colab": {
          "base_uri": "https://localhost:8080/"
        },
        "id": "Gq5A6n32GdOk",
        "outputId": "209eab90-3f12-4324-f0b6-c9d123ceb0ab"
      },
      "outputs": [
        {
          "output_type": "stream",
          "name": "stdout",
          "text": [
            "5 10\n",
            "9 2 5 7 6\n",
            "70\n"
          ]
        }
      ],
      "source": [
        "day, money = map(int, input().split())\n",
        "\n",
        "socks = list(map(int, input().split()))\n",
        "res = []\n",
        "\n",
        "for i in range(1, day):\n",
        "  res.append(socks[i-1] + socks[i])\n",
        "\n",
        "print(min(res)*money)"
      ]
    },
    {
      "cell_type": "markdown",
      "source": [
        "## HackerRank"
      ],
      "metadata": {
        "id": "itz_iYSGGmjO"
      }
    },
    {
      "cell_type": "markdown",
      "source": [
        "### Polynomials"
      ],
      "metadata": {
        "id": "G7bqq8CZGp5P"
      }
    },
    {
      "cell_type": "code",
      "source": [
        "import numpy as np\n",
        "\n",
        "arr1 = list(map(float, input().split()))\n",
        "val = float(input())\n",
        "\n",
        "arr1 = np.array(arr1)\n",
        "\n",
        "print(np.polyval(arr1, val))"
      ],
      "metadata": {
        "id": "fhRMx8_nGm2U"
      },
      "execution_count": null,
      "outputs": []
    },
    {
      "cell_type": "markdown",
      "source": [
        "### Linear Algebra"
      ],
      "metadata": {
        "id": "SeRV1-GCGrBI"
      }
    },
    {
      "cell_type": "code",
      "source": [
        "# Enter your code here. Read input from STDIN. Print output to STDOUT\n",
        "\n",
        "import numpy as np\n",
        "\n",
        "n = int(input())\n",
        "\n",
        "raw = []\n",
        "\n",
        "for i in range(n):\n",
        "    raw.append(list(map(float, input().split())))\n",
        "\n",
        "raw2 = np.array(raw)\n",
        "print(round(np.linalg.det(raw2), 2))"
      ],
      "metadata": {
        "id": "i7B-1hzVGrS7"
      },
      "execution_count": null,
      "outputs": []
    }
  ]
}