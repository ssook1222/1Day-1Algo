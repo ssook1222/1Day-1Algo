{
  "nbformat": 4,
  "nbformat_minor": 0,
  "metadata": {
    "colab": {
      "provenance": [],
      "authorship_tag": "ABX9TyMrackMA5q8LOgAMZEqkA32",
      "include_colab_link": true
    },
    "kernelspec": {
      "name": "python3",
      "display_name": "Python 3"
    },
    "language_info": {
      "name": "python"
    }
  },
  "cells": [
    {
      "cell_type": "markdown",
      "metadata": {
        "id": "view-in-github",
        "colab_type": "text"
      },
      "source": [
        "<a href=\"https://colab.research.google.com/github/ssook1222/1Day-1Algo/blob/master/ssook/10%EC%9B%94/10%EC%9B%94%202%EC%A3%BC%EC%B0%A8/1011.ipynb\" target=\"_parent\"><img src=\"https://colab.research.google.com/assets/colab-badge.svg\" alt=\"Open In Colab\"/></a>"
      ]
    },
    {
      "cell_type": "markdown",
      "source": [
        "## BoJ"
      ],
      "metadata": {
        "id": "Go2aonmg41MM"
      }
    },
    {
      "cell_type": "markdown",
      "source": [
        "### 14544"
      ],
      "metadata": {
        "id": "EdmS_aZC42qr"
      }
    },
    {
      "cell_type": "code",
      "execution_count": null,
      "metadata": {
        "id": "FxE9xnq84zq5"
      },
      "outputs": [],
      "source": [
        "import sys\n",
        "\n",
        "t = int(sys.stdin.readline().rstrip())\n",
        "\n",
        "for i in range(t):\n",
        "    n, m = map(int, sys.stdin.readline().rstrip().split())\n",
        "    score = {}\n",
        "\n",
        "    for _ in range(n):\n",
        "        name = sys.stdin.readline().rstrip()\n",
        "        score[name] = 0\n",
        "\n",
        "    for _ in range(m):\n",
        "        name, vote, region = sys.stdin.readline().rstrip().split()\n",
        "        vote = int(vote)\n",
        "        score[name] += vote\n",
        "\n",
        "    max_vote = max(score.values())\n",
        "    winners = [name for name, vote in score.items() if vote == max_vote]\n",
        "\n",
        "    if len(winners) == 1:\n",
        "        print(f'VOTE {i + 1}: THE WINNER IS {winners[0]} {max_vote}')\n",
        "    else:\n",
        "        print(f'VOTE {i + 1}: THERE IS A DILEMMA')"
      ]
    },
    {
      "cell_type": "markdown",
      "source": [
        "---"
      ],
      "metadata": {
        "id": "3ZtE3Uij44qF"
      }
    },
    {
      "cell_type": "markdown",
      "source": [
        "## LeetCode"
      ],
      "metadata": {
        "id": "3NtRKDCr45jy"
      }
    },
    {
      "cell_type": "markdown",
      "source": [
        "### 1527. Patients With a Condition\n"
      ],
      "metadata": {
        "id": "x-KYa95e48MX"
      }
    },
    {
      "cell_type": "code",
      "source": [
        "import pandas as pd\n",
        "\n",
        "def find_patients(df: pd.DataFrame) -> pd.DataFrame:\n",
        "    # 'conditions' 열에서 'DIAB1'로 시작하는 조건을 가진 환자 필터링\n",
        "    result_df = df[df['conditions'].str.contains(r'\\bDIAB1')]\n",
        "\n",
        "    # 필요한 열만 선택\n",
        "    result_df = result_df[['patient_id', 'patient_name', 'conditions']]\n",
        "\n",
        "    # 인덱스 재설정\n",
        "    result_df.reset_index(drop=True, inplace=True)\n",
        "\n",
        "    return result_df"
      ],
      "metadata": {
        "id": "h1ZT1Pi148Ye"
      },
      "execution_count": 5,
      "outputs": []
    },
    {
      "cell_type": "markdown",
      "source": [
        "## HackerRank"
      ],
      "metadata": {
        "id": "twhSxKB7XsX3"
      }
    },
    {
      "cell_type": "markdown",
      "source": [
        "### Shape and Reshape"
      ],
      "metadata": {
        "id": "MCAFb-Hu48r3"
      }
    },
    {
      "cell_type": "code",
      "source": [
        "import numpy as np\n",
        "\n",
        "raw = list(map(int, input().split()))\n",
        "my_array = np.array(raw)\n",
        "\n",
        "ans = np.reshape(my_array, (3,3))\n",
        "\n",
        "print(ans)"
      ],
      "metadata": {
        "id": "uZ_qt3z8486o"
      },
      "execution_count": null,
      "outputs": []
    }
  ]
}