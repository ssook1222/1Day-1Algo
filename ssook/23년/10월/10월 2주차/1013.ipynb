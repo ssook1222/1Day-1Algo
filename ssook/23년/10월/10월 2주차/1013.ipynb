{
  "nbformat": 4,
  "nbformat_minor": 0,
  "metadata": {
    "colab": {
      "provenance": [],
      "authorship_tag": "ABX9TyPC6wL5uX/kHD2Pa1lr36vw",
      "include_colab_link": true
    },
    "kernelspec": {
      "name": "python3",
      "display_name": "Python 3"
    },
    "language_info": {
      "name": "python"
    }
  },
  "cells": [
    {
      "cell_type": "markdown",
      "metadata": {
        "id": "view-in-github",
        "colab_type": "text"
      },
      "source": [
        "<a href=\"https://colab.research.google.com/github/ssook1222/1Day-1Algo/blob/master/ssook/10%EC%9B%94/10%EC%9B%94%202%EC%A3%BC%EC%B0%A8/1013.ipynb\" target=\"_parent\"><img src=\"https://colab.research.google.com/assets/colab-badge.svg\" alt=\"Open In Colab\"/></a>"
      ]
    },
    {
      "cell_type": "markdown",
      "source": [
        "## BoJ"
      ],
      "metadata": {
        "id": "FiF5WYmOpoZ9"
      }
    },
    {
      "cell_type": "markdown",
      "source": [
        "### 30019"
      ],
      "metadata": {
        "id": "Y78O8F5SpqRy"
      }
    },
    {
      "cell_type": "code",
      "execution_count": 6,
      "metadata": {
        "id": "UZ64dCHHpnFH",
        "colab": {
          "base_uri": "https://localhost:8080/"
        },
        "outputId": "6ce40b58-b040-4b55-c129-e2bf482fad2a"
      },
      "outputs": [
        {
          "output_type": "stream",
          "name": "stdout",
          "text": [
            "2 4\n",
            "1 1 4\n",
            "YES\n",
            "2 2 5\n",
            "YES\n",
            "1 3 7\n",
            "NO\n",
            "1 5 8\n",
            "YES\n"
          ]
        }
      ],
      "source": [
        "n, m = map(int, input().split())\n",
        "reserve = {}\n",
        "\n",
        "for i in range(m):\n",
        "  room, start, end = map(int, input().split())\n",
        "\n",
        "  if room not in reserve:\n",
        "    print('YES')\n",
        "    reserve[room] = (start, end)\n",
        "\n",
        "  else:\n",
        "    ori = reserve[room][1]\n",
        "    if start < ori:\n",
        "      print('NO')\n",
        "    else:\n",
        "      print('YES')\n",
        "      reserve[room] = (start, end)\n"
      ]
    },
    {
      "cell_type": "markdown",
      "source": [
        "## HackerRank"
      ],
      "metadata": {
        "id": "NwDbWB2ZpqwO"
      }
    },
    {
      "cell_type": "markdown",
      "source": [
        "### Transpose and Flatten"
      ],
      "metadata": {
        "id": "QqSO5OogptqA"
      }
    },
    {
      "cell_type": "code",
      "source": [
        "import numpy as np\n",
        "\n",
        "n, m = map(int, input().split())\n",
        "\n",
        "raw = []\n",
        "\n",
        "for i in range(n):\n",
        "    raw.append(list(map(int, input().split())))\n",
        "\n",
        "raw2 = np.array(raw)\n",
        "\n",
        "print(np.transpose(raw2))\n",
        "print(raw2.flatten())\n"
      ],
      "metadata": {
        "id": "H4m1fud_pq96"
      },
      "execution_count": null,
      "outputs": []
    },
    {
      "cell_type": "markdown",
      "source": [
        "### Array Mathematics"
      ],
      "metadata": {
        "id": "V9mCpzqdZe2M"
      }
    },
    {
      "cell_type": "code",
      "source": [
        "import numpy as np\n",
        "\n",
        "n, m = map(int, input().split())\n",
        "\n",
        "arr1 = []\n",
        "for _ in range(n):\n",
        "    row = list(map(int, input().split()))\n",
        "    arr1.append(row)\n",
        "\n",
        "arr1 = np.array(arr1, int)\n",
        "\n",
        "arr2 = []\n",
        "for _ in range(n):\n",
        "    row = list(map(int, input().split()))\n",
        "    arr2.append(row)\n",
        "\n",
        "arr2 = np.array(arr2, int)\n",
        "\n",
        "print(np.add(arr1, arr2))\n",
        "print(np.subtract(arr1, arr2))\n",
        "print(np.multiply(arr1, arr2))\n",
        "print(np.array(np.divide(arr1, arr2), int))\n",
        "print(np.mod(arr1, arr2))\n",
        "print(np.power(arr1, arr2))"
      ],
      "metadata": {
        "id": "gGyf77j0ZfMn"
      },
      "execution_count": 6,
      "outputs": []
    }
  ]
}