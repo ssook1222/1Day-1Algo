{
  "nbformat": 4,
  "nbformat_minor": 0,
  "metadata": {
    "colab": {
      "provenance": [],
      "authorship_tag": "ABX9TyNIE23n1sj7t5kcV9iohbtk",
      "include_colab_link": true
    },
    "kernelspec": {
      "name": "python3",
      "display_name": "Python 3"
    },
    "language_info": {
      "name": "python"
    }
  },
  "cells": [
    {
      "cell_type": "markdown",
      "metadata": {
        "id": "view-in-github",
        "colab_type": "text"
      },
      "source": [
        "<a href=\"https://colab.research.google.com/github/ssook1222/1Day-1Algo/blob/master/ssook/5%EC%9B%94/5%EC%9B%94%202%EC%A3%BC%EC%B0%A8/0509.ipynb\" target=\"_parent\"><img src=\"https://colab.research.google.com/assets/colab-badge.svg\" alt=\"Open In Colab\"/></a>"
      ]
    },
    {
      "cell_type": "markdown",
      "source": [
        "## BoJ"
      ],
      "metadata": {
        "id": "bk1IUGNM4hzK"
      }
    },
    {
      "cell_type": "markdown",
      "source": [
        "### 27433"
      ],
      "metadata": {
        "id": "J-SCYEsZwRk0"
      }
    },
    {
      "cell_type": "code",
      "execution_count": null,
      "metadata": {
        "colab": {
          "base_uri": "https://localhost:8080/"
        },
        "id": "-pdjKzwUv17S",
        "outputId": "3e306049-2e83-4b91-cef3-a35decd7e042"
      },
      "outputs": [
        {
          "output_type": "stream",
          "name": "stdout",
          "text": [
            "10\n",
            "3628800\n"
          ]
        }
      ],
      "source": [
        "import sys\n",
        "import math\n",
        "\n",
        "print(math.factorial(int(sys.stdin.readline().strip())))"
      ]
    },
    {
      "cell_type": "markdown",
      "source": [
        "### 11047"
      ],
      "metadata": {
        "id": "paqNBrnR1Pkx"
      }
    },
    {
      "cell_type": "code",
      "source": [
        "import sys\n",
        "\n",
        "n, k = map(int, sys.stdin.readline().strip().split(\" \"))\n",
        "\n",
        "cnt = 0\n",
        "val = []\n",
        "\n",
        "for _ in range(n):\n",
        "  val.append(int(sys.stdin.readline().strip()))\n",
        "\n",
        "val.sort(reverse = True)\n",
        "\n",
        "for i in range(len(val)):\n",
        "   cnt += k // val[i]\n",
        "   k = k % val[i]\n",
        "\n",
        "   if k == 0:\n",
        "    break\n",
        "\n",
        "print(cnt)"
      ],
      "metadata": {
        "colab": {
          "base_uri": "https://localhost:8080/"
        },
        "id": "3ENeMG261P0E",
        "outputId": "d9ffbc0f-6f86-42f9-8e24-7906a7b88422"
      },
      "execution_count": null,
      "outputs": [
        {
          "output_type": "stream",
          "name": "stdout",
          "text": [
            "10 4790\n",
            "1\n",
            "5\n",
            "10\n",
            "50\n",
            "100\n",
            "500\n",
            "1000\n",
            "5000\n",
            "10000\n",
            "50000\n",
            "12\n"
          ]
        }
      ]
    },
    {
      "cell_type": "markdown",
      "source": [],
      "metadata": {
        "id": "S--wxPTr6eRn"
      }
    },
    {
      "cell_type": "markdown",
      "source": [
        "### 17298"
      ],
      "metadata": {
        "id": "XeSagFurtj6t"
      }
    },
    {
      "cell_type": "code",
      "source": [
        "import sys\n",
        "\n",
        "n = int(sys.stdin.readline().strip())\n",
        "\n",
        "nums = list(map(int, sys.stdin.readline().strip().split(\" \")))\n",
        "answer = [ -1 for i in range(n)]\n",
        "indx_stk = []\n",
        "\n",
        "for i in range(len(nums)):\n",
        "  while len(indx_stk)!=0 and nums[indx_stk[-1]] <  nums[i]:\n",
        "    answer[indx_stk.pop()] = nums[i]\n",
        "  indx_stk.append(i)\n",
        "\n",
        "print(*answer)"
      ],
      "metadata": {
        "colab": {
          "base_uri": "https://localhost:8080/"
        },
        "id": "iWbz-_7vtkO8",
        "outputId": "aaba9346-b0ed-4c0a-b0f4-94434b565c6c"
      },
      "execution_count": null,
      "outputs": [
        {
          "output_type": "stream",
          "name": "stdout",
          "text": [
            "4\n",
            "3 5 2 7\n",
            "5 7 7 -1\n"
          ]
        }
      ]
    },
    {
      "cell_type": "markdown",
      "source": [
        "---"
      ],
      "metadata": {
        "id": "Uk_2Ear34ldw"
      }
    },
    {
      "cell_type": "markdown",
      "source": [
        "## Programmers"
      ],
      "metadata": {
        "id": "PK8gakPz4mpx"
      }
    },
    {
      "cell_type": "markdown",
      "source": [
        "### 점의 위치 구하기"
      ],
      "metadata": {
        "id": "5_-mQs0JtPVC"
      }
    },
    {
      "cell_type": "code",
      "source": [
        "def solution(dot):\n",
        "    \n",
        "    ans = 0\n",
        "    \n",
        "    if dot[0] > 0 and dot[1] > 0 : \n",
        "        ans = 1\n",
        "    \n",
        "    elif dot[0] < 0 and dot[1] > 0 : \n",
        "        ans = 2\n",
        "    \n",
        "    elif dot[0] < 0 and dot[1] < 0 : \n",
        "        ans = 3\n",
        "    \n",
        "    elif dot[0] > 0 and dot[1] < 0 : \n",
        "        ans = 4\n",
        "\n",
        "    return ans"
      ],
      "metadata": {
        "id": "zcFXlAxF4oPW"
      },
      "execution_count": null,
      "outputs": []
    },
    {
      "cell_type": "markdown",
      "source": [
        "### 2차원으로 만들기"
      ],
      "metadata": {
        "id": "oV88YYDRtRae"
      }
    },
    {
      "cell_type": "code",
      "source": [
        "def solution(num_list, n):\n",
        "    answer = []\n",
        "    \n",
        "    for i in range(0, len(num_list), n):\n",
        "        answer.append(num_list[i:i+n])\n",
        "        \n",
        "    return answer"
      ],
      "metadata": {
        "id": "PpRM9hsutTog"
      },
      "execution_count": null,
      "outputs": []
    },
    {
      "cell_type": "markdown",
      "source": [
        "### 공 던지기"
      ],
      "metadata": {
        "id": "qm3enfPjtVlv"
      }
    },
    {
      "cell_type": "code",
      "source": [
        "def solution(numbers, k):\n",
        "    return 2 * (k - 1) % numbers[-1] + 1"
      ],
      "metadata": {
        "id": "0oumRd4ZtWEG"
      },
      "execution_count": null,
      "outputs": []
    },
    {
      "cell_type": "markdown",
      "source": [
        "### 배열 회전시키기"
      ],
      "metadata": {
        "id": "CRiA4k5ptdQa"
      }
    },
    {
      "cell_type": "code",
      "source": [
        "def solution(numbers, direction):\n",
        "    answer = []\n",
        "    \n",
        "    if direction == 'left':\n",
        "        answer = numbers[1:len(numbers)] \n",
        "        answer.append(numbers[0])\n",
        "    \n",
        "    else:\n",
        "        answer.append(numbers[-1])\n",
        "        answer.extend(numbers[:-1])\n",
        "    \n",
        "    return answer"
      ],
      "metadata": {
        "id": "FeXNAc1Ntgo_"
      },
      "execution_count": null,
      "outputs": []
    }
  ]
}