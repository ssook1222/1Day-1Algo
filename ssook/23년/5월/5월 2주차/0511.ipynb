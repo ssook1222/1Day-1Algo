{
  "nbformat": 4,
  "nbformat_minor": 0,
  "metadata": {
    "colab": {
      "provenance": [],
      "authorship_tag": "ABX9TyP5MkIlkATLDQuBM8jFUT9p",
      "include_colab_link": true
    },
    "kernelspec": {
      "name": "python3",
      "display_name": "Python 3"
    },
    "language_info": {
      "name": "python"
    }
  },
  "cells": [
    {
      "cell_type": "markdown",
      "metadata": {
        "id": "view-in-github",
        "colab_type": "text"
      },
      "source": [
        "<a href=\"https://colab.research.google.com/github/ssook1222/1Day-1Algo/blob/master/ssook/5%EC%9B%94/5%EC%9B%94%202%EC%A3%BC%EC%B0%A8/0511.ipynb\" target=\"_parent\"><img src=\"https://colab.research.google.com/assets/colab-badge.svg\" alt=\"Open In Colab\"/></a>"
      ]
    },
    {
      "cell_type": "markdown",
      "source": [
        "## BoJ"
      ],
      "metadata": {
        "id": "Hucomqa3ii_B"
      }
    },
    {
      "cell_type": "markdown",
      "source": [
        "### 11659"
      ],
      "metadata": {
        "id": "FRk0bgUOEy_v"
      }
    },
    {
      "cell_type": "code",
      "execution_count": 8,
      "metadata": {
        "colab": {
          "base_uri": "https://localhost:8080/"
        },
        "id": "KVsCqS58Awrd",
        "outputId": "574f1902-0653-4b28-d5a2-da92e86b98c6"
      },
      "outputs": [
        {
          "output_type": "stream",
          "name": "stdout",
          "text": [
            "5 3\n",
            "5 4 3 2 1\n",
            "1 3\n",
            "12\n",
            "[5, 4, 3]\n",
            "2 4\n",
            "9\n",
            "[4, 3, 2]\n",
            "5 5\n",
            "1\n",
            "[1]\n"
          ]
        }
      ],
      "source": [
        "import sys\n",
        "  \n",
        "n, m = map(int, sys.stdin.readline().strip().split(\" \"))\n",
        "\n",
        "num =list(map(int, sys.stdin.readline().strip().split(\" \")))\n",
        "\n",
        "for i in range(1, n):\n",
        "  num[i] += num[i-1]\n",
        "\n",
        "num = [0] + num\n",
        "\n",
        "for i in range(m):\n",
        "  start, end = map(int, sys.stdin.readline().strip().split(\" \"))\n",
        "  print(num[end]-num[start-1])"
      ]
    },
    {
      "cell_type": "markdown",
      "source": [
        "- 배열로 해당 합과 이전 합을 미리 저장해놓기\n",
        "- 출력 시에는 그 인덱스까지의 합에서 그 전의 합을 빼서 계산       \n",
        "i부터 j까지의 합 = `arr[j] - arr[j-1]` "
      ],
      "metadata": {
        "id": "Z5cfEMtVE1qG"
      }
    },
    {
      "cell_type": "markdown",
      "source": [
        "### 1026"
      ],
      "metadata": {
        "id": "X0jYb8GY_ZNp"
      }
    },
    {
      "cell_type": "code",
      "source": [
        "import sys\n",
        "\n",
        "n = int(sys.stdin.readline().rstrip())\n",
        "\n",
        "a = list(map(int, sys.stdin.readline().rstrip().split(\" \")))\n",
        "b = list(map(int, sys.stdin.readline().rstrip().split(\" \")))\n",
        "\n",
        "a.sort()\n",
        "\n",
        "s = 0\n",
        "ans = [-1 for i in range(len(a))]\n",
        "\n",
        "i = 0\n",
        "\n",
        "for i in range(n):\n",
        "    x = a[i]\n",
        "    s += x * max(b)\n",
        "    b.remove(max(b))\n",
        "\n",
        "print(s) "
      ],
      "metadata": {
        "colab": {
          "base_uri": "https://localhost:8080/"
        },
        "id": "Fu9gNgUe9s1n",
        "outputId": "875dbb02-5f87-47ae-a056-aa88ba600f40"
      },
      "execution_count": 22,
      "outputs": [
        {
          "output_type": "stream",
          "name": "stdout",
          "text": [
            "5\n",
            "1 1 1 6 0\n",
            "2 7 8 3 1\n",
            "18\n"
          ]
        }
      ]
    },
    {
      "cell_type": "markdown",
      "source": [
        "### 17413"
      ],
      "metadata": {
        "id": "Im2eMhxcGgvi"
      }
    },
    {
      "cell_type": "code",
      "source": [
        "s = input()\n",
        "\n",
        "check = False\n",
        "ans = ''\n",
        "tmp = ''\n",
        "\n",
        "for i in s:\n",
        "  if check == False:\n",
        "    if i == '<':\n",
        "      check = True\n",
        "      tmp += i\n",
        "    elif i == ' ':\n",
        "      tmp += i\n",
        "      ans += tmp\n",
        "      tmp = ''\n",
        "    else:\n",
        "      tmp = i + tmp \n",
        "\n",
        "  else:\n",
        "    tmp += i\n",
        "    if i == '>':\n",
        "      check = False\n",
        "      ans += tmp\n",
        "      tmp = ''\n",
        "\n",
        "print(ans+tmp)"
      ],
      "metadata": {
        "colab": {
          "base_uri": "https://localhost:8080/"
        },
        "id": "j8IUgZycGhA7",
        "outputId": "fe004656-cbd5-40ff-f9d1-c42e2ae5be73"
      },
      "execution_count": 60,
      "outputs": [
        {
          "output_type": "stream",
          "name": "stdout",
          "text": [
            "one1 two2 three3 4fourr 5five 6six\n",
            "1eno 2owt 3eerht rruof4 evif5 xis6\n"
          ]
        }
      ]
    },
    {
      "cell_type": "markdown",
      "source": [
        "### 1476"
      ],
      "metadata": {
        "id": "iuolMEZ0a_m6"
      }
    },
    {
      "cell_type": "code",
      "source": [
        "e, s, m = map(int, input().split())\n",
        "year = 1\n",
        "\n",
        "while True:\n",
        "  if ((year-e)%15 == 0) and ((year-s)%28 == 0) and ((year-m)%19 == 0):\n",
        "    break\n",
        "  year += 1\n",
        "\n",
        "print(year)"
      ],
      "metadata": {
        "colab": {
          "base_uri": "https://localhost:8080/"
        },
        "id": "FMvcd3Q9hnD3",
        "outputId": "5c895ea3-0ee5-4e89-96d7-392ceb427ff0"
      },
      "execution_count": 68,
      "outputs": [
        {
          "output_type": "stream",
          "name": "stdout",
          "text": [
            "1 16 16\n",
            "16\n"
          ]
        }
      ]
    },
    {
      "cell_type": "markdown",
      "source": [
        "### 7785"
      ],
      "metadata": {
        "id": "pN-b682Hl4AX"
      }
    },
    {
      "cell_type": "code",
      "source": [
        "import sys\n",
        "\n",
        "n = int(sys.stdin.readline().rstrip())\n",
        "person = []\n",
        "\n",
        "for i in range(n):\n",
        "  name, check = sys.stdin.readline().rstrip().split(\" \")\n",
        "\n",
        "  if check == 'enter':\n",
        "    person.append(name)\n",
        "\n",
        "  elif check == 'leave':\n",
        "    person.remove(name)\n",
        "\n",
        "person.sort(reverse = True)\n",
        "\n",
        "for i in person:\n",
        "  print(i)"
      ],
      "metadata": {
        "colab": {
          "base_uri": "https://localhost:8080/"
        },
        "id": "jPVXDgkCl4dn",
        "outputId": "a9f84e6f-f172-4901-c2aa-45873270f423"
      },
      "execution_count": 74,
      "outputs": [
        {
          "output_type": "stream",
          "name": "stdout",
          "text": [
            "4\n",
            "Baha enter\n",
            "Askar enter\n",
            "Baha leave\n",
            "Artem enter\n",
            "Askar\n",
            "Artem\n"
          ]
        }
      ]
    },
    {
      "cell_type": "markdown",
      "source": [
        "---\n",
        "\n",
        "## Programmers"
      ],
      "metadata": {
        "id": "FK5T9EkvipLn"
      }
    },
    {
      "cell_type": "markdown",
      "source": [
        "### 모음 제거"
      ],
      "metadata": {
        "id": "iHSyKAO2i9U-"
      }
    },
    {
      "cell_type": "code",
      "source": [
        "def solution(my_string):\n",
        "    answer = my_string\n",
        "    \n",
        "    answer = answer.replace('a', '')\n",
        "    answer = answer.replace('e', '')\n",
        "    answer = answer.replace('i', '')\n",
        "    answer = answer.replace('o', '')\n",
        "    answer = answer.replace('u', '')\n",
        "    \n",
        "    return answer"
      ],
      "metadata": {
        "id": "b3nzwi9visdx"
      },
      "execution_count": null,
      "outputs": []
    },
    {
      "cell_type": "markdown",
      "source": [
        "### 문자열 정렬하기"
      ],
      "metadata": {
        "id": "iybJ_SETi_76"
      }
    },
    {
      "cell_type": "code",
      "source": [
        "def solution(my_string):\n",
        "    answer = []\n",
        "    for i in my_string:\n",
        "        if i.isdigit() == True:\n",
        "            answer.append(int(i))\n",
        "    \n",
        "    answer.sort()\n",
        "    return answer"
      ],
      "metadata": {
        "id": "AmVSUtJijTwF"
      },
      "execution_count": null,
      "outputs": []
    },
    {
      "cell_type": "markdown",
      "source": [
        "### 숨어있는 숫자의 덧셈 1"
      ],
      "metadata": {
        "id": "JvgSI0hnjURK"
      }
    },
    {
      "cell_type": "code",
      "source": [
        "def solution(my_string):\n",
        "    answer = 0\n",
        "    \n",
        "    for i in my_string:\n",
        "        if i.isdigit() == True:\n",
        "            answer+= int(i)\n",
        "    \n",
        "    return answer"
      ],
      "metadata": {
        "id": "LCIob27Wjgnx"
      },
      "execution_count": null,
      "outputs": []
    },
    {
      "cell_type": "markdown",
      "source": [
        "### 소인수분해"
      ],
      "metadata": {
        "id": "FXlICfJRjjSi"
      }
    },
    {
      "cell_type": "code",
      "source": [
        "def ans(n):\n",
        "    res = []\n",
        "    for i in range(2, n+1):\n",
        "        while n % i == 0:\n",
        "            res.append(i)\n",
        "            n /= i\n",
        "    return list(set(res))\n",
        "\n",
        "def solution(n):\n",
        "    answer = ans(n)\n",
        "    answer.sort()\n",
        "    return answer"
      ],
      "metadata": {
        "id": "B1uzCd3ZlV_i"
      },
      "execution_count": null,
      "outputs": []
    }
  ]
}