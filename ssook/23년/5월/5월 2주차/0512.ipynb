{
  "nbformat": 4,
  "nbformat_minor": 0,
  "metadata": {
    "colab": {
      "provenance": [],
      "authorship_tag": "ABX9TyNIPBhkpYpzPgTNWL9F4DlK",
      "include_colab_link": true
    },
    "kernelspec": {
      "name": "python3",
      "display_name": "Python 3"
    },
    "language_info": {
      "name": "python"
    }
  },
  "cells": [
    {
      "cell_type": "markdown",
      "metadata": {
        "id": "view-in-github",
        "colab_type": "text"
      },
      "source": [
        "<a href=\"https://colab.research.google.com/github/ssook1222/1Day-1Algo/blob/master/ssook/5%EC%9B%94/5%EC%9B%94%202%EC%A3%BC%EC%B0%A8/0512.ipynb\" target=\"_parent\"><img src=\"https://colab.research.google.com/assets/colab-badge.svg\" alt=\"Open In Colab\"/></a>"
      ]
    },
    {
      "cell_type": "markdown",
      "source": [
        "## BoJ"
      ],
      "metadata": {
        "id": "7Fpg2mwGq37Q"
      }
    },
    {
      "cell_type": "markdown",
      "source": [
        "### 13241"
      ],
      "metadata": {
        "id": "opOqLIsfNSGU"
      }
    },
    {
      "cell_type": "code",
      "execution_count": 2,
      "metadata": {
        "colab": {
          "base_uri": "https://localhost:8080/"
        },
        "id": "PraiAciLMSR2",
        "outputId": "30872e10-0671-4346-c895-22d27ad7eaba"
      },
      "outputs": [
        {
          "output_type": "stream",
          "name": "stdout",
          "text": [
            "3 5\n",
            "15\n"
          ]
        }
      ],
      "source": [
        "import math\n",
        "import sys\n",
        "\n",
        "a, b = map(int, sys.stdin.readline().strip().split(\" \"))\n",
        "print(math.lcm(a,b))"
      ]
    },
    {
      "cell_type": "markdown",
      "source": [
        "### 1850"
      ],
      "metadata": {
        "id": "jFgfQRxVNhrf"
      }
    },
    {
      "cell_type": "code",
      "source": [
        "import math\n",
        "import sys\n",
        "\n",
        "a, b = map(int, sys.stdin.readline().rstrip().split(\" \"))\n",
        "gcd = math.gcd(a,b)\n",
        "print('1' * gcd) #최대공약수 값 만큼 1을 출력해주면 됨."
      ],
      "metadata": {
        "colab": {
          "base_uri": "https://localhost:8080/"
        },
        "id": "r3Z9ozH9Nh2H",
        "outputId": "88093c04-5ca5-4502-d874-0d5c737d62be"
      },
      "execution_count": 13,
      "outputs": [
        {
          "output_type": "stream",
          "name": "stdout",
          "text": [
            "500000000000000000 500000000000000002\n",
            "11\n"
          ]
        }
      ]
    },
    {
      "cell_type": "markdown",
      "source": [
        "### 11656"
      ],
      "metadata": {
        "id": "ma4VmPSlpseN"
      }
    },
    {
      "cell_type": "code",
      "source": [
        "n = input()\n",
        "s = list(n)\n",
        "item = []\n",
        "\n",
        "for i in range(0,len(n)):\n",
        "  t = ''\n",
        "  for c in s[i:]:\n",
        "    if c != ' ':\n",
        "      t += c\n",
        "  item.append(t)\n",
        "\n",
        "item.sort()\n",
        "\n",
        "for o in item:\n",
        "  print(o)"
      ],
      "metadata": {
        "colab": {
          "base_uri": "https://localhost:8080/"
        },
        "id": "oIXLMZ11np_R",
        "outputId": "182bac38-6f96-467e-de63-ae2c8f8faacc"
      },
      "execution_count": 38,
      "outputs": [
        {
          "output_type": "stream",
          "name": "stdout",
          "text": [
            "baekjoon\n",
            "aekjoon\n",
            "baekjoon\n",
            "ekjoon\n",
            "joon\n",
            "kjoon\n",
            "n\n",
            "on\n",
            "oon\n"
          ]
        }
      ]
    },
    {
      "cell_type": "markdown",
      "source": [
        "## Programmers"
      ],
      "metadata": {
        "id": "h51ot3DDq6GJ"
      }
    },
    {
      "cell_type": "markdown",
      "source": [
        "### 컨트롤 제트"
      ],
      "metadata": {
        "id": "8dtMsZ-QtaBI"
      }
    },
    {
      "cell_type": "code",
      "source": [
        "def solution(s):\n",
        "    answer = 0\n",
        "    \n",
        "    item = list(map(str,s.split(\" \")))\n",
        "    num = []\n",
        "    hap = 0\n",
        "    for i in range(len(item)):\n",
        "        if item[i] == 'Z' and i > 0:\n",
        "            hap -= int(item[i-1])\n",
        "        else:\n",
        "            hap += int(item[i])\n",
        "            \n",
        "    answer = hap\n",
        "    \n",
        "    return answer"
      ],
      "metadata": {
        "id": "L-XkxZTutc-N"
      },
      "execution_count": null,
      "outputs": []
    },
    {
      "cell_type": "markdown",
      "source": [
        "### 배열 원소의 길이"
      ],
      "metadata": {
        "id": "8RbJFIK1ts7E"
      }
    },
    {
      "cell_type": "code",
      "source": [
        "def solution(strlist):\n",
        "    answer = []\n",
        "    \n",
        "    for i in range(len(strlist)):\n",
        "        answer.append(len(strlist[i]))\n",
        "    \n",
        "    return answer"
      ],
      "metadata": {
        "id": "KtWPXm1JttIE"
      },
      "execution_count": null,
      "outputs": []
    },
    {
      "cell_type": "markdown",
      "source": [
        "### 중복된 문자 제거"
      ],
      "metadata": {
        "id": "WgIf5lMzxqtl"
      }
    },
    {
      "cell_type": "code",
      "source": [
        "def solution(my_string):\n",
        "    answer = ''\n",
        "    \n",
        "    for i in my_string:\n",
        "        if i in answer:\n",
        "            pass\n",
        "        else:\n",
        "            answer += i\n",
        "    \n",
        "    \n",
        "    return answer"
      ],
      "metadata": {
        "id": "9O0HWOcaxq92"
      },
      "execution_count": null,
      "outputs": []
    },
    {
      "cell_type": "markdown",
      "source": [
        "### 삼각형의 완성조건"
      ],
      "metadata": {
        "id": "LnvfLr57yOgj"
      }
    },
    {
      "cell_type": "code",
      "source": [
        "def solution(sides):\n",
        "    answer = 0\n",
        "    idx_max = sides.index(max(sides))\n",
        "    hap = 0\n",
        "    for i in range(len(sides)):\n",
        "        if i != idx_max:\n",
        "            hap+= sides[i]\n",
        "    \n",
        "    if hap > max(sides):\n",
        "        answer = 1\n",
        "    else:\n",
        "        answer = 2\n",
        "    \n",
        "    return answer"
      ],
      "metadata": {
        "id": "rY1tymFJyPzj"
      },
      "execution_count": null,
      "outputs": []
    }
  ]
}