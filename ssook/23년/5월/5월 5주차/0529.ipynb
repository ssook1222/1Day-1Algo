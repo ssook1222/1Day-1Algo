{
  "nbformat": 4,
  "nbformat_minor": 0,
  "metadata": {
    "colab": {
      "provenance": [],
      "authorship_tag": "ABX9TyOKTKLt6P06RKRxjcDdgtyV",
      "include_colab_link": true
    },
    "kernelspec": {
      "name": "python3",
      "display_name": "Python 3"
    },
    "language_info": {
      "name": "python"
    }
  },
  "cells": [
    {
      "cell_type": "markdown",
      "metadata": {
        "id": "view-in-github",
        "colab_type": "text"
      },
      "source": [
        "<a href=\"https://colab.research.google.com/github/ssook1222/1Day-1Algo/blob/master/ssook/5%EC%9B%94/5%EC%9B%94%205%EC%A3%BC%EC%B0%A8/0529.ipynb\" target=\"_parent\"><img src=\"https://colab.research.google.com/assets/colab-badge.svg\" alt=\"Open In Colab\"/></a>"
      ]
    },
    {
      "cell_type": "markdown",
      "source": [
        "## BoJ"
      ],
      "metadata": {
        "id": "CK7h4SbnccNh"
      }
    },
    {
      "cell_type": "markdown",
      "source": [
        "### 3896"
      ],
      "metadata": {
        "id": "R_i4R9c1caiA"
      }
    },
    {
      "cell_type": "code",
      "execution_count": 10,
      "metadata": {
        "colab": {
          "base_uri": "https://localhost:8080/"
        },
        "id": "Xy-rffKpX0qq",
        "outputId": "a873fb08-4476-4c1f-a684-49412755a061"
      },
      "outputs": [
        {
          "output_type": "stream",
          "name": "stdout",
          "text": [
            "1\n",
            "492170\n",
            "114\n"
          ]
        }
      ],
      "source": [
        "import sys\n",
        "\n",
        "def prime():\n",
        "  \n",
        "  num = [False, False] + [True]*(1299708)\n",
        "\n",
        "  for i in range(2, 1299710):\n",
        "    if not num[i]:\n",
        "      continue\n",
        "\n",
        "    for j in range(i*i, 1299710, i):\n",
        "      num[j] = False\n",
        "\n",
        "  return num\n",
        "\n",
        "t = int(sys.stdin.readline().strip())\n",
        "p_num = []\n",
        "p_num = prime()\n",
        "\n",
        "for _ in range(t):\n",
        "\n",
        "  n = int(sys.stdin.readline().strip())\n",
        "  \n",
        "  if p_num[n]:\n",
        "    print(0)\n",
        "  \n",
        "  else:\n",
        "    start = n\n",
        "    end = n\n",
        "    cnt = 1\n",
        "\n",
        "    while True:\n",
        "      start -= 1\n",
        "      if p_num[start]:\n",
        "        break\n",
        "      cnt += 1\n",
        "    \n",
        "    while True:\n",
        "      end += 1\n",
        "      if p_num[end]:\n",
        "        break\n",
        "      cnt += 1\n",
        "\n",
        "    print(cnt+1)"
      ]
    },
    {
      "cell_type": "markdown",
      "source": [
        "### 10974"
      ],
      "metadata": {
        "id": "xGhcW-l_eiO_"
      }
    },
    {
      "cell_type": "code",
      "source": [
        "import itertools\n",
        "import sys\n",
        "\n",
        "n = int(sys.stdin.readline().strip())\n",
        "\n",
        "num = [i for i in range(1, n+1)]\n",
        "\n",
        "permu = itertools.permutations(num)\n",
        "\n",
        "for per in permu:\n",
        "  print(*per)"
      ],
      "metadata": {
        "colab": {
          "base_uri": "https://localhost:8080/"
        },
        "id": "2x7Bs0indEny",
        "outputId": "cb934f28-4af1-4765-d4ce-1ce864671899"
      },
      "execution_count": 12,
      "outputs": [
        {
          "output_type": "stream",
          "name": "stdout",
          "text": [
            "3\n",
            "1 2 3\n",
            "1 3 2\n",
            "2 1 3\n",
            "2 3 1\n",
            "3 1 2\n",
            "3 2 1\n"
          ]
        }
      ]
    },
    {
      "cell_type": "markdown",
      "source": [
        "---"
      ],
      "metadata": {
        "id": "NMrORptXen25"
      }
    },
    {
      "cell_type": "markdown",
      "source": [
        "## Programmers"
      ],
      "metadata": {
        "id": "mPsnsyBoepRN"
      }
    },
    {
      "cell_type": "markdown",
      "source": [
        "### 정수 내림차순으로 배치하기"
      ],
      "metadata": {
        "id": "w99-RaFDfXb6"
      }
    },
    {
      "cell_type": "code",
      "source": [
        "def solution(n):\n",
        "    raw = list(str(n))\n",
        "    raw.sort(reverse = True)\n",
        "    answer = int(''.join(raw))\n",
        "    return answer"
      ],
      "metadata": {
        "id": "e803LtPKeuAM"
      },
      "execution_count": null,
      "outputs": []
    }
  ]
}