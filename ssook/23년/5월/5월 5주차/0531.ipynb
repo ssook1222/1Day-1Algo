{
  "nbformat": 4,
  "nbformat_minor": 0,
  "metadata": {
    "colab": {
      "provenance": [],
      "authorship_tag": "ABX9TyPGKIkFl4Z+QuCoG1aNdTYI",
      "include_colab_link": true
    },
    "kernelspec": {
      "name": "python3",
      "display_name": "Python 3"
    },
    "language_info": {
      "name": "python"
    }
  },
  "cells": [
    {
      "cell_type": "markdown",
      "metadata": {
        "id": "view-in-github",
        "colab_type": "text"
      },
      "source": [
        "<a href=\"https://colab.research.google.com/github/ssook1222/1Day-1Algo/blob/master/ssook/5%EC%9B%94/5%EC%9B%94%205%EC%A3%BC%EC%B0%A8/0531.ipynb\" target=\"_parent\"><img src=\"https://colab.research.google.com/assets/colab-badge.svg\" alt=\"Open In Colab\"/></a>"
      ]
    },
    {
      "cell_type": "markdown",
      "source": [
        "## BoJ"
      ],
      "metadata": {
        "id": "6a55k6CXSlSt"
      }
    },
    {
      "cell_type": "markdown",
      "source": [
        "### 9020"
      ],
      "metadata": {
        "id": "DjYLBmPVIC8W"
      }
    },
    {
      "cell_type": "code",
      "execution_count": 7,
      "metadata": {
        "colab": {
          "base_uri": "https://localhost:8080/"
        },
        "id": "vh4QsLj9BZfB",
        "outputId": "c20f6b00-cb67-479d-de57-871b81073d61"
      },
      "outputs": [
        {
          "output_type": "stream",
          "name": "stdout",
          "text": [
            "3\n",
            "8\n",
            "3 5\n",
            "10\n",
            "5 5\n",
            "16\n",
            "5 11\n"
          ]
        }
      ],
      "source": [
        "import sys\n",
        "\n",
        "def isPrime(n):\n",
        "  prime = [True] * (n+1)\n",
        "  prime[0] = False\n",
        "  prime[1] = False\n",
        "  \n",
        "  for i in range(2, n+1):\n",
        "    if not prime[i]:\n",
        "      continue\n",
        "    \n",
        "    for j in range(i*i, n+1, i):\n",
        "      prime[j] = False\n",
        "\n",
        "  return prime\n",
        "\n",
        "t = int(sys.stdin.readline().strip())\n",
        "\n",
        "for _ in range(t):\n",
        "  a = int(sys.stdin.readline().strip())\n",
        "  start = int(a/2)\n",
        "  end = int(a/2)\n",
        "\n",
        "  num = isPrime(a)\n",
        "\n",
        "  while True:\n",
        "    if num[start] == True and num[end] == True:\n",
        "      if start + end == a:\n",
        "        print(\"%d %d\" %(min(start, end), max(start, end)))\n",
        "        break\n",
        "    \n",
        "    else:\n",
        "      start += 1\n",
        "      end -= 1"
      ]
    },
    {
      "cell_type": "markdown",
      "source": [
        "### 1940"
      ],
      "metadata": {
        "id": "2SzPuCeYIGOw"
      }
    },
    {
      "cell_type": "code",
      "source": [
        "import sys\n",
        "\n",
        "n = int(sys.stdin.readline().strip())\n",
        "m = int(sys.stdin.readline().strip())\n",
        "\n",
        "num_list = list(map(int, sys.stdin.readline().strip().split(\" \")))\n",
        "num_list.sort()\n",
        "\n",
        "start = 0\n",
        "end = len(num_list)-1\n",
        "\n",
        "cnt = 0\n",
        "\n",
        "while start < end :\n",
        "  if m == num_list[start] + num_list[end]:\n",
        "    cnt += 1\n",
        "    start += 1\n",
        "  \n",
        "  elif m < num_list[start] + num_list[end]:\n",
        "    end -= 1\n",
        "  \n",
        "  elif m > num_list[start] + num_list[end]:\n",
        "    start += 1\n",
        "\n",
        "print(cnt)"
      ],
      "metadata": {
        "colab": {
          "base_uri": "https://localhost:8080/"
        },
        "id": "yqY0FJ4LIGrd",
        "outputId": "73214a68-0c01-4e34-8002-9da1a768fa07"
      },
      "execution_count": 9,
      "outputs": [
        {
          "output_type": "stream",
          "name": "stdout",
          "text": [
            "6\n",
            "9\n",
            "2 7 4 1 5 3\n",
            "2\n"
          ]
        }
      ]
    },
    {
      "cell_type": "markdown",
      "source": [
        "### 1644"
      ],
      "metadata": {
        "id": "ifCOaLXAOP77"
      }
    },
    {
      "cell_type": "code",
      "source": [
        "import sys\n",
        "\n",
        "def isPrime(n):\n",
        "  prime = [True] * (n+1)\n",
        "  prime[0] = False\n",
        "  prime[1] = False\n",
        "  \n",
        "  num = []\n",
        "\n",
        "  for i in range(2, n+1):\n",
        "    if not prime[i]:\n",
        "      continue\n",
        "    \n",
        "    for j in range(i*i, n+1, i):\n",
        "      prime[j] = False\n",
        "  \n",
        "  for chk in range(len(prime)):\n",
        "    if prime[chk] == True:\n",
        "      num.append(chk)\n",
        "\n",
        "  return num\n",
        "\n",
        "n = int(sys.stdin.readline().strip())\n",
        "num = isPrime(n)\n",
        "\n",
        "start = 0\n",
        "end = 0\n",
        "cnt = 0\n",
        "\n",
        "while end <= len(num):\n",
        "  if n == sum(num[start:end]):\n",
        "    cnt += 1\n",
        "    end += 1\n",
        "  \n",
        "  elif n > sum(num[start:end]):\n",
        "    end += 1\n",
        "  \n",
        "  else:\n",
        "    start += 1\n",
        " \n",
        "print(cnt)"
      ],
      "metadata": {
        "colab": {
          "base_uri": "https://localhost:8080/"
        },
        "id": "q5owgEbiOQMv",
        "outputId": "98bc1295-09a3-4f85-fc7d-27b1b5e28030"
      },
      "execution_count": 17,
      "outputs": [
        {
          "output_type": "stream",
          "name": "stdout",
          "text": [
            "41\n",
            "3\n"
          ]
        }
      ]
    },
    {
      "cell_type": "markdown",
      "source": [
        "### 1759"
      ],
      "metadata": {
        "id": "X1cUIE7zUBDh"
      }
    },
    {
      "cell_type": "code",
      "source": [
        "import itertools\n",
        "import sys\n",
        "\n",
        "l, c = map(int, sys.stdin.readline().strip().split(\" \"))\n",
        "alpha = list(map(str, sys.stdin.readline().strip().split(\" \")))\n",
        "alpha.sort()\n",
        "vowels = set('aeiou')\n",
        "\n",
        "johap = itertools.combinations(alpha, l)\n",
        "\n",
        "for i in johap:\n",
        "  diff = set(i).difference(vowels)\n",
        "  \n",
        "  if 1 < len(diff) < l:\n",
        "    print(*i, sep='')\n",
        "    continue"
      ],
      "metadata": {
        "colab": {
          "base_uri": "https://localhost:8080/"
        },
        "id": "HCKn2p-GUBRv",
        "outputId": "09cb9adc-f4bc-4783-ca37-65241771862e"
      },
      "execution_count": 21,
      "outputs": [
        {
          "output_type": "stream",
          "name": "stdout",
          "text": [
            "4 6\n",
            "a t c i s w\n",
            "acis\n",
            "acit\n",
            "aciw\n",
            "acst\n",
            "acsw\n",
            "actw\n",
            "aist\n",
            "aisw\n",
            "aitw\n",
            "astw\n",
            "cist\n",
            "cisw\n",
            "citw\n",
            "istw\n"
          ]
        }
      ]
    },
    {
      "cell_type": "markdown",
      "source": [
        "### 15651"
      ],
      "metadata": {
        "id": "8X0kEuPYWGvu"
      }
    },
    {
      "cell_type": "code",
      "source": [
        "import itertools\n",
        "import sys\n",
        "\n",
        "n, m = map(int, sys.stdin.readline().strip().split(\" \"))\n",
        "num = [i for i in range(1, n+1)]\n",
        "\n",
        "nums = itertools.product(num, repeat = m)\n",
        "\n",
        "for num in nums:\n",
        "  print(*num, sep= ' ')"
      ],
      "metadata": {
        "colab": {
          "base_uri": "https://localhost:8080/"
        },
        "id": "f_FuBGc7WHDA",
        "outputId": "5f283cc6-d2d8-41f5-ee22-4528e48acf1c"
      },
      "execution_count": 27,
      "outputs": [
        {
          "output_type": "stream",
          "name": "stdout",
          "text": [
            "4 2\n",
            "1 1\n",
            "1 2\n",
            "1 3\n",
            "1 4\n",
            "2 1\n",
            "2 2\n",
            "2 3\n",
            "2 4\n",
            "3 1\n",
            "3 2\n",
            "3 3\n",
            "3 4\n",
            "4 1\n",
            "4 2\n",
            "4 3\n",
            "4 4\n"
          ]
        }
      ]
    },
    {
      "cell_type": "markdown",
      "source": [
        "---"
      ],
      "metadata": {
        "id": "mIsBveGNSnGe"
      }
    },
    {
      "cell_type": "markdown",
      "source": [
        "## Programmers"
      ],
      "metadata": {
        "id": "qJkxasRwSoSF"
      }
    },
    {
      "cell_type": "markdown",
      "source": [
        "### 콜라츠 추측"
      ],
      "metadata": {
        "id": "U2geh-wySqOo"
      }
    },
    {
      "cell_type": "code",
      "source": [
        "def solution(num):\n",
        "    answer = 0\n",
        "    \n",
        "    while num != 1:\n",
        "        if num % 2 == 0:\n",
        "            num = num / 2\n",
        "            answer += 1\n",
        "        \n",
        "        elif num % 2 != 0:\n",
        "            num = num * 3 + 1\n",
        "            answer += 1\n",
        "        \n",
        "        if answer > 500:\n",
        "            answer = -1\n",
        "            break\n",
        "    \n",
        "    return answer"
      ],
      "metadata": {
        "id": "BFIFc1C0Sqcc"
      },
      "execution_count": null,
      "outputs": []
    }
  ]
}