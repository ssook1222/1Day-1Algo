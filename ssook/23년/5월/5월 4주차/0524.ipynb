{
  "nbformat": 4,
  "nbformat_minor": 0,
  "metadata": {
    "colab": {
      "provenance": []
    },
    "kernelspec": {
      "name": "python3",
      "display_name": "Python 3"
    },
    "language_info": {
      "name": "python"
    }
  },
  "cells": [
    {
      "cell_type": "markdown",
      "source": [
        "## BoJ"
      ],
      "metadata": {
        "id": "buveh1mNRtsP"
      }
    },
    {
      "cell_type": "markdown",
      "source": [
        "### 15655"
      ],
      "metadata": {
        "id": "KzYOLZIHRvEo"
      }
    },
    {
      "cell_type": "code",
      "execution_count": 2,
      "metadata": {
        "colab": {
          "base_uri": "https://localhost:8080/"
        },
        "id": "01ajIQyiM70T",
        "outputId": "21c0af7d-28ff-475d-85ce-81c907d497de"
      },
      "outputs": [
        {
          "output_type": "stream",
          "name": "stdout",
          "text": [
            "4 2\n",
            "9 8 7 1\n",
            "1 7\n",
            "1 8\n",
            "1 9\n",
            "7 8\n",
            "7 9\n",
            "8 9\n"
          ]
        }
      ],
      "source": [
        "import itertools\n",
        "import sys\n",
        "\n",
        "n, m = map(int,(sys.stdin.readline().strip().split(\" \")))\n",
        "raw_num = list(map(int, sys.stdin.readline().strip().split(\" \")))\n",
        "raw_num.sort()\n",
        "\n",
        "raw_data = itertools.combinations(raw_num, m)\n",
        "data = list(raw_data)\n",
        "\n",
        "for i in data:\n",
        "  print(*i)"
      ]
    },
    {
      "cell_type": "markdown",
      "source": [
        "### 1918"
      ],
      "metadata": {
        "id": "y9DxxPg0RwcH"
      }
    },
    {
      "cell_type": "code",
      "source": [
        "import sys\n",
        "\n",
        "s = sys.stdin.readline().strip()\n",
        "stack = []\n",
        "answer = ''\n",
        "\n",
        "for i in s:\n",
        "\n",
        "  if i.isalpha():\n",
        "    answer += i\n",
        "\n",
        "  else:\n",
        "    if i == '(':\n",
        "      stack.append(i) \n",
        "  \n",
        "    elif i == ')':\n",
        "      while stack and stack[-1] != '(':\n",
        "        answer += stack.pop()\n",
        "      stack.pop()\n",
        "\n",
        "    elif i == '*' or i == '/':\n",
        "      while stack and (stack[-1]=='*' or stack[-1] == '/'):\n",
        "        answer += stack.pop()\n",
        "      stack.append(i)\n",
        "\n",
        "    elif i == '+' or i == '-':\n",
        "      while stack and stack[-1] != '(':\n",
        "        answer += stack.pop()\n",
        "      stack.append(i)\n",
        "  \n",
        "while stack:\n",
        "  answer += stack.pop()\n",
        "\n",
        "answer = answer.replace('(', '')\n",
        "answer = answer.replace(')', '')\n",
        "\n",
        "print(answer)"
      ],
      "metadata": {
        "colab": {
          "base_uri": "https://localhost:8080/"
        },
        "id": "MBUpMHm0TJsw",
        "outputId": "759fdf99-7c13-4529-fa4b-f3e4cfedf2ac"
      },
      "execution_count": 12,
      "outputs": [
        {
          "output_type": "stream",
          "name": "stdout",
          "text": [
            "A+B*C-D/E\n",
            "ABC*+DE/-\n"
          ]
        }
      ]
    },
    {
      "cell_type": "markdown",
      "source": [
        "### 1931"
      ],
      "metadata": {
        "id": "-YhLvAp6dn6I"
      }
    },
    {
      "cell_type": "code",
      "source": [
        "import sys\n",
        "\n",
        "t = int(sys.stdin.readline().strip())\n",
        "time = []\n",
        "cnt = 1\n",
        "\n",
        "for i in range(t):\n",
        "  start, end = map(int, sys.stdin.readline().strip().split(\" \"))\n",
        "  time.append([start, end])\n",
        "\n",
        "time.sort(key = lambda x: (x[1], x[0]))\n",
        "end = time[0][1]\n",
        "\n",
        "for i in range(1, len(time)):\n",
        "    if end <= time[i][0]:\n",
        "        end = time[i][1]\n",
        "        cnt += 1\n",
        "    \n",
        "print(cnt)    "
      ],
      "metadata": {
        "colab": {
          "base_uri": "https://localhost:8080/"
        },
        "id": "XKt8ebEvlbT7",
        "outputId": "97d33b3d-9f09-4232-d264-62bc3b5eb8c7"
      },
      "execution_count": 2,
      "outputs": [
        {
          "output_type": "stream",
          "name": "stdout",
          "text": [
            "1\n",
            "1 4\n",
            "[[1, 4]]\n"
          ]
        }
      ]
    },
    {
      "cell_type": "markdown",
      "source": [
        "### Programmers"
      ],
      "metadata": {
        "id": "apAWpU1XF7TJ"
      }
    },
    {
      "cell_type": "markdown",
      "source": [
        "### 문자열 밀기"
      ],
      "metadata": {
        "id": "WvVI0BjoF8yk"
      }
    },
    {
      "cell_type": "code",
      "source": [
        "def solution(A, B):\n",
        "    answer = 0\n",
        "    a_raw = A\n",
        "    \n",
        "    while True:\n",
        "        if a_raw == B:\n",
        "            break\n",
        "            \n",
        "        a_raw = a_raw[-1] + a_raw[:len(a_raw)-1]\n",
        "        answer += 1\n",
        "        \n",
        "        if answer > len(a_raw):\n",
        "            answer = -1\n",
        "            break\n",
        "    \n",
        "    return answer\n"
      ],
      "metadata": {
        "id": "3IZ_EytNF895"
      },
      "execution_count": null,
      "outputs": []
    },
    {
      "cell_type": "markdown",
      "source": [
        "### 종이 자르기"
      ],
      "metadata": {
        "id": "gZnWMDUPLndD"
      }
    },
    {
      "cell_type": "code",
      "source": [
        "def solution(M, N):\n",
        "    return M*N-1"
      ],
      "metadata": {
        "id": "d8Vv97Z1Lnte"
      },
      "execution_count": null,
      "outputs": []
    },
    {
      "cell_type": "markdown",
      "source": [
        "### 연속된 수의 합"
      ],
      "metadata": {
        "id": "UogSiDDyLqfw"
      }
    },
    {
      "cell_type": "code",
      "source": [
        "def solution(num, total):\n",
        "    start_num = total // num - (num - 1) // 2\n",
        "    return list(range(start_num, start_num + num))"
      ],
      "metadata": {
        "id": "wf199eWRLqrw"
      },
      "execution_count": null,
      "outputs": []
    },
    {
      "cell_type": "markdown",
      "source": [
        "#### start_num 계산:\n",
        "\n",
        "start_num은 연속된 수열의 시작 숫자를 나타냅니다.\n",
        "total을 num으로 나눈 몫을 계산합니다. 이 값은 연속된 수열의 평균이 됩니다.\n",
        "(num - 1) // 2를 계산합니다. 이 값은 연속된 수열의 중간 위치를 나타냅니다. 예를 들어, num이 3이면 중간 위치는 1이고, num이 4이면 중간 위치는 1이 됩니다.\n",
        "start_num은 평균에서 중간 위치를 빼주어 시작 숫자를 계산합니다.\n",
        "\n",
        "---\n",
        "\n",
        "#### 연속된 수열 생성:\n",
        "\n",
        "start_num부터 시작하여 start_num + num까지의 숫자들을 생성합니다.\n",
        "range() 함수를 사용하여 start_num부터 start_num + num - 1까지의 숫자들을 반환합니다.\n",
        "list() 함수를 사용하여 숫자들을 리스트로 변환하여 반환합니다."
      ],
      "metadata": {
        "id": "IyFuIJQHNMJn"
      }
    },
    {
      "cell_type": "markdown",
      "source": [
        "### 다음에 올 숫자"
      ],
      "metadata": {
        "id": "breuTdEGOxPU"
      }
    },
    {
      "cell_type": "code",
      "source": [
        "def solution(common):\n",
        "    answer = 0\n",
        "\n",
        "    if common[1] - common[0] == common[2] - common[1]:\n",
        "        answer = common[-1] + (common[1] - common[0])\n",
        "    \n",
        "    elif common[1] // common[0] == common[2] // common[1]:\n",
        "        answer = common[-1] * (common[1] // common[0])\n",
        "        \n",
        "    return answer"
      ],
      "metadata": {
        "id": "ItY6w5IzOyIE"
      },
      "execution_count": null,
      "outputs": []
    }
  ]
}