{
  "nbformat": 4,
  "nbformat_minor": 0,
  "metadata": {
    "colab": {
      "provenance": [],
      "authorship_tag": "ABX9TyNCZHiIKt3hc+XTPIBgU/VY",
      "include_colab_link": true
    },
    "kernelspec": {
      "name": "python3",
      "display_name": "Python 3"
    },
    "language_info": {
      "name": "python"
    }
  },
  "cells": [
    {
      "cell_type": "markdown",
      "metadata": {
        "id": "view-in-github",
        "colab_type": "text"
      },
      "source": [
        "<a href=\"https://colab.research.google.com/github/ssook1222/1Day-1Algo/blob/master/ssook/5%EC%9B%94/5%EC%9B%94%204%EC%A3%BC%EC%B0%A8/0522.ipynb\" target=\"_parent\"><img src=\"https://colab.research.google.com/assets/colab-badge.svg\" alt=\"Open In Colab\"/></a>"
      ]
    },
    {
      "cell_type": "markdown",
      "source": [
        "## BoJ"
      ],
      "metadata": {
        "id": "3kWhCb0Ko7JX"
      }
    },
    {
      "cell_type": "markdown",
      "source": [
        "### 15652"
      ],
      "metadata": {
        "id": "ImVJ2OYkp3QX"
      }
    },
    {
      "cell_type": "code",
      "execution_count": 18,
      "metadata": {
        "colab": {
          "base_uri": "https://localhost:8080/"
        },
        "id": "tL7l9QY7oww4",
        "outputId": "09bd5db9-01d9-402d-e0c8-47b8e9e4836b"
      },
      "outputs": [
        {
          "output_type": "stream",
          "name": "stdout",
          "text": [
            "3 3\n",
            "1 1 1\n",
            "1 1 2\n",
            "1 1 3\n",
            "1 2 2\n",
            "1 2 3\n",
            "1 3 3\n",
            "2 2 2\n",
            "2 2 3\n",
            "2 3 3\n",
            "3 3 3\n"
          ]
        }
      ],
      "source": [
        "import sys\n",
        "import itertools\n",
        "\n",
        "n, m = map(int, sys.stdin.readline().strip().split(\" \"))\n",
        "num_list = [ i for i in range(1, n+1)]\n",
        "\n",
        "arr = itertools.combinations_with_replacement(num_list, m) \n",
        "\n",
        "for i in arr:\n",
        "  print(*i)"
      ]
    },
    {
      "cell_type": "markdown",
      "source": [
        "- 중복조합         \n",
        "`itertools.combinations_with_replacement(num_list, m) `"
      ],
      "metadata": {
        "id": "KHTyG3yCtm0W"
      }
    },
    {
      "cell_type": "markdown",
      "source": [
        "### 13414"
      ],
      "metadata": {
        "id": "2f88kvDCv0Lk"
      }
    },
    {
      "cell_type": "code",
      "source": [
        "import sys\n",
        "\n",
        "k, l = map(int, sys.stdin.readline().strip().split(\" \")) # k = availbale, l = total list length\n",
        "\n",
        "person = {}\n",
        "cnt = 0\n",
        "\n",
        "for i in range(l):\n",
        "  candidate = sys.stdin.readline().strip()\n",
        "  if candidate in person:\n",
        "      del person[candidate]\n",
        "      person[candidate] = i\n",
        "  else:\n",
        "      person[candidate] = i\n",
        "\n",
        "\n",
        "for x in person:\n",
        "    cnt += 1\n",
        "    if cnt > k:\n",
        "        break\n",
        "    print(x)"
      ],
      "metadata": {
        "colab": {
          "base_uri": "https://localhost:8080/"
        },
        "id": "QkMZ8Q5Ov0el",
        "outputId": "148bffa7-4896-4908-f651-aef441f74b7b"
      },
      "execution_count": 19,
      "outputs": [
        {
          "output_type": "stream",
          "name": "stdout",
          "text": [
            "3 8\n",
            "20103324\n",
            "20133221\n",
            "20133221\n",
            "20093778\n",
            "20140101\n",
            "01234567\n",
            "20093778\n",
            "20103325\n",
            "20103324\n",
            "20133221\n",
            "20140101\n"
          ]
        }
      ]
    },
    {
      "cell_type": "markdown",
      "source": [
        "### 2312"
      ],
      "metadata": {
        "id": "GuS6seYq3OD-"
      }
    },
    {
      "cell_type": "code",
      "source": [
        "def soinsu(n):\n",
        "  num = {}\n",
        "  i = 2\n",
        "  while i <= n:\n",
        "    if n%i == 0:\n",
        "      # num.append(i)\n",
        "      if i not in num:\n",
        "        num[i] = 1\n",
        "      else:\n",
        "        num[i] += 1\n",
        "      n //= i\n",
        "    else:\n",
        "      i += 1\n",
        "      \n",
        "  return num\n",
        "\n",
        "t = int(input())\n",
        "\n",
        "for _ in range(t):\n",
        "  data = soinsu(int(input()))\n",
        "  for i in data:\n",
        "    print(i, data[i])"
      ],
      "metadata": {
        "colab": {
          "base_uri": "https://localhost:8080/"
        },
        "id": "8G40YonD3OUH",
        "outputId": "b3312a6a-762c-4a77-d4d8-9a690529a7f5"
      },
      "execution_count": 38,
      "outputs": [
        {
          "output_type": "stream",
          "name": "stdout",
          "text": [
            "2\n",
            "6\n",
            "2 1\n",
            "3 1\n",
            "24\n",
            "2 3\n",
            "3 1\n"
          ]
        }
      ]
    },
    {
      "cell_type": "markdown",
      "source": [
        "---"
      ],
      "metadata": {
        "id": "YEh7Jmsq9Qq3"
      }
    },
    {
      "cell_type": "markdown",
      "source": [
        "## Programmers"
      ],
      "metadata": {
        "id": "1jK3ujr094T9"
      }
    },
    {
      "cell_type": "markdown",
      "source": [
        "### 특이한 정렬"
      ],
      "metadata": {
        "id": "MFgHmG3W9Sn8"
      }
    },
    {
      "cell_type": "code",
      "source": [
        "def solution(numlist, n):\n",
        "    answer = []\n",
        "    raw_data = {}\n",
        "    \n",
        "    for i in numlist:\n",
        "        raw_data[i] = abs(i-n)\n",
        "    \n",
        "    raw_data = sorted(raw_data.items(), key = lambda x: (x[1], -x[0]))\n",
        "    \n",
        "    for i in raw_data:\n",
        "        answer.append(i[0])\n",
        "    \n",
        "    return answer"
      ],
      "metadata": {
        "id": "tXJMrefO9STL"
      },
      "execution_count": null,
      "outputs": []
    },
    {
      "cell_type": "markdown",
      "source": [
        "### 등수 매기기"
      ],
      "metadata": {
        "id": "K1auLwv2At1N"
      }
    },
    {
      "cell_type": "code",
      "source": [
        "def solution(score):\n",
        "    n = len(score)\n",
        "    rank = [1] * n \n",
        "\n",
        "    for i in range(n):\n",
        "        avg = sum(score[i]) / 2  \n",
        "        for j in range(n):\n",
        "            if i != j:\n",
        "                compare_avg = sum(score[j]) / 2\n",
        "                if avg < compare_avg:\n",
        "                    rank[i] += 1  \n",
        "    return rank"
      ],
      "metadata": {
        "id": "TJFkYIsYAuBy"
      },
      "execution_count": null,
      "outputs": []
    },
    {
      "cell_type": "markdown",
      "source": [
        "### 옹알이(1)"
      ],
      "metadata": {
        "id": "MIzPzoHrE-Eg"
      }
    },
    {
      "cell_type": "code",
      "source": [
        "def solution(babbling):\n",
        "    answer = 0\n",
        "    \n",
        "    for i in range(len(babbling)):\n",
        "        txt = babbling[i]\n",
        "        \n",
        "        while True:\n",
        "            # or ('ye' in txt) or ('woo' in txt) or ('ma' in txt)\n",
        "            if ('aya' in txt) :\n",
        "                txt = txt.replace('aya', '/')\n",
        "        \n",
        "            if ('ye' in txt) :\n",
        "                txt = txt.replace('ye', '/')\n",
        "            \n",
        "            if ('woo' in txt) :\n",
        "                txt = txt.replace('woo', '/')\n",
        "    \n",
        "            if ('ma' in txt) :\n",
        "                txt = txt.replace('ma', '/')\n",
        "                \n",
        "            if ('aya' in txt) or ('ye' not in txt) or ('woo' not in txt) or ('ma' not in txt):\n",
        "                break\n",
        "        \n",
        "        txt = txt.replace('/', '')\n",
        "        \n",
        "        if len(txt) == 0:\n",
        "            answer += 1\n",
        "    \n",
        "    return answer"
      ],
      "metadata": {
        "id": "0cJsUL8gE-Pb"
      },
      "execution_count": null,
      "outputs": []
    },
    {
      "cell_type": "markdown",
      "source": [
        "### 로그인 성공?"
      ],
      "metadata": {
        "id": "3BwRj3R0LKAk"
      }
    },
    {
      "cell_type": "code",
      "source": [
        "def solution(id_pw, db):\n",
        "    answer = ''\n",
        "    id_ck = False\n",
        "    pw_ck = False\n",
        "    \n",
        "    for i in db:\n",
        "        if i[0] == id_pw[0]:\n",
        "            id_ck = True\n",
        "            if i[1] == id_pw[1]:\n",
        "                pw_ck = True\n",
        "                break\n",
        "    \n",
        "    if id_ck == True :\n",
        "        if pw_ck == True:\n",
        "            answer = 'login'\n",
        "        else:\n",
        "            answer = 'wrong pw'\n",
        "        \n",
        "    else:\n",
        "        answer = 'fail'\n",
        "    \n",
        "    return answer"
      ],
      "metadata": {
        "id": "_L8Fgt49LKRZ"
      },
      "execution_count": null,
      "outputs": []
    }
  ]
}