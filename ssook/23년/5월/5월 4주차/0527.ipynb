{
  "nbformat": 4,
  "nbformat_minor": 0,
  "metadata": {
    "colab": {
      "provenance": [],
      "authorship_tag": "ABX9TyNNHxWhxDg1Yb4/9eBRUpPB",
      "include_colab_link": true
    },
    "kernelspec": {
      "name": "python3",
      "display_name": "Python 3"
    },
    "language_info": {
      "name": "python"
    }
  },
  "cells": [
    {
      "cell_type": "markdown",
      "metadata": {
        "id": "view-in-github",
        "colab_type": "text"
      },
      "source": [
        "<a href=\"https://colab.research.google.com/github/ssook1222/1Day-1Algo/blob/master/ssook/5%EC%9B%94/5%EC%9B%94%204%EC%A3%BC%EC%B0%A8/0527.ipynb\" target=\"_parent\"><img src=\"https://colab.research.google.com/assets/colab-badge.svg\" alt=\"Open In Colab\"/></a>"
      ]
    },
    {
      "cell_type": "markdown",
      "source": [
        "## BoJ"
      ],
      "metadata": {
        "id": "Ntozfuwa0iI4"
      }
    },
    {
      "cell_type": "markdown",
      "source": [
        "### 2476"
      ],
      "metadata": {
        "id": "O2JYHFuQ0cC4"
      }
    },
    {
      "cell_type": "code",
      "execution_count": 7,
      "metadata": {
        "colab": {
          "base_uri": "https://localhost:8080/"
        },
        "id": "AND9TMXFyA5E",
        "outputId": "fdcc7215-5bc9-4a89-d42d-c338bad549d9"
      },
      "outputs": [
        {
          "output_type": "stream",
          "name": "stdout",
          "text": [
            "3\n",
            "3 3 6\n",
            "2 2 2\n",
            "6 2 5\n",
            "12000\n"
          ]
        }
      ],
      "source": [
        "n = int(input())\n",
        "ans = []\n",
        "for i in range(n):\n",
        "  a, b, c = map(int, input().split(\" \"))\n",
        "  dice_set = set([a,b,c])\n",
        "  dice_list = [a,b,c]\n",
        "  dice_list.sort()\n",
        "  hap = 0\n",
        "\n",
        "  if len(dice_set) == 1:\n",
        "    hap = 10000 + (dice_list[0] * 1000)\n",
        "\n",
        "  elif len(dice_set) == 2:\n",
        "    hap = 1000 + ((dice_list[1]) * 100)\n",
        "\n",
        "  elif len(dice_set) == 3:\n",
        "    hap = dice_list[2] * 100\n",
        "\n",
        "  ans.append(hap)\n",
        "\n",
        "print(max(ans))"
      ]
    },
    {
      "cell_type": "markdown",
      "source": [
        "### 2702"
      ],
      "metadata": {
        "id": "mZVYXzdH0hB0"
      }
    },
    {
      "cell_type": "code",
      "source": [
        "import math\n",
        "\n",
        "t = int(input())\n",
        "\n",
        "for i in range(t):\n",
        "  a, b = map(int, input().split(\" \"))\n",
        "  print(\"%d %d\" %(math.lcm(a,b), math.gcd(a,b)))"
      ],
      "metadata": {
        "colab": {
          "base_uri": "https://localhost:8080/"
        },
        "id": "THuq41fd0hXI",
        "outputId": "a82df9df-9ee1-4173-c3c1-c4d304195be4"
      },
      "execution_count": 9,
      "outputs": [
        {
          "output_type": "stream",
          "name": "stdout",
          "text": [
            "3\n",
            "5 10\n",
            "5 10\n",
            "7 23\n",
            "1 161\n",
            "42 56\n",
            "14 168\n"
          ]
        }
      ]
    },
    {
      "cell_type": "markdown",
      "source": [
        "---"
      ],
      "metadata": {
        "id": "dJcDurBr1YYR"
      }
    },
    {
      "cell_type": "markdown",
      "source": [
        "## Programmers"
      ],
      "metadata": {
        "id": "rMaARzcU1ZKK"
      }
    },
    {
      "cell_type": "markdown",
      "source": [
        "### 문자열을 정수로 바꾸기"
      ],
      "metadata": {
        "id": "RFlLqUwe1WBS"
      }
    },
    {
      "cell_type": "code",
      "source": [
        "def solution(s):\n",
        "    answer = 0\n",
        "    if s.isdigit():\n",
        "        answer = int(s)\n",
        "    else:\n",
        "        answer = eval(s)\n",
        "    return answer"
      ],
      "metadata": {
        "id": "2IKCVqsB1WQj"
      },
      "execution_count": null,
      "outputs": []
    }
  ]
}