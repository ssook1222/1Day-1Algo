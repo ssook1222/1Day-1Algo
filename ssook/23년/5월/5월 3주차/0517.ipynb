{
  "nbformat": 4,
  "nbformat_minor": 0,
  "metadata": {
    "colab": {
      "provenance": [],
      "authorship_tag": "ABX9TyPbqg9NI6YuteVrsxQJvQ24",
      "include_colab_link": true
    },
    "kernelspec": {
      "name": "python3",
      "display_name": "Python 3"
    },
    "language_info": {
      "name": "python"
    }
  },
  "cells": [
    {
      "cell_type": "markdown",
      "metadata": {
        "id": "view-in-github",
        "colab_type": "text"
      },
      "source": [
        "<a href=\"https://colab.research.google.com/github/ssook1222/1Day-1Algo/blob/master/ssook/5%EC%9B%94/5%EC%9B%94%203%EC%A3%BC%EC%B0%A8/0517.ipynb\" target=\"_parent\"><img src=\"https://colab.research.google.com/assets/colab-badge.svg\" alt=\"Open In Colab\"/></a>"
      ]
    },
    {
      "cell_type": "markdown",
      "source": [
        "### BoJ"
      ],
      "metadata": {
        "id": "m7h_HOyJc9Nx"
      }
    },
    {
      "cell_type": "markdown",
      "source": [
        "### 1302"
      ],
      "metadata": {
        "id": "VMDqEpBg-A3e"
      }
    },
    {
      "cell_type": "code",
      "execution_count": 6,
      "metadata": {
        "colab": {
          "base_uri": "https://localhost:8080/"
        },
        "id": "hd-5hoUn9hDv",
        "outputId": "bf13c4fd-4ef1-464e-ff9d-c8286151a3b6"
      },
      "outputs": [
        {
          "output_type": "stream",
          "name": "stdout",
          "text": [
            "5\n",
            "top\n",
            "top\n",
            "top\n",
            "top\n",
            "kimtop\n",
            "top\n"
          ]
        }
      ],
      "source": [
        "import sys\n",
        "\n",
        "book_dic = {}\n",
        "raw_list = []\n",
        "\n",
        "n = int(sys.stdin.readline().strip())\n",
        "\n",
        "for i in range(n):\n",
        "  name = sys.stdin.readline().strip()\n",
        "  if name in book_dic:\n",
        "    book_dic[name] +=1\n",
        "  else:\n",
        "    book_dic[name] = 1\n",
        "\n",
        "max_num = max(book_dic.values())\n",
        "\n",
        "for book_name in book_dic:\n",
        "    if book_dic[book_name] == max_num:\n",
        "        raw_list.append(book_name)\n",
        "\n",
        "raw_list.sort()\n",
        "print(raw_list[0])"
      ]
    },
    {
      "cell_type": "markdown",
      "source": [
        "### 11399"
      ],
      "metadata": {
        "id": "89lUXVMJIrUd"
      }
    },
    {
      "cell_type": "code",
      "source": [
        "n = int(input())\n",
        "\n",
        "atm = {}\n",
        "time = list(map(int, input().split(\" \")))\n",
        "hap_list = [0] * n \n",
        "hap = 0\n",
        "\n",
        "time.sort()\n",
        "\n",
        "for i in range(n):\n",
        "  atm[i] = time[i]\n",
        "\n",
        "atm = sorted(atm.items(), key = lambda item : item[1] )\n",
        "\n",
        "hap_list[0] = atm[0][1]\n",
        "\n",
        "for i in range(1, len(hap_list)):\n",
        "  hap_list[i] = hap_list[i-1] + sum(time[:i+1]) \n",
        "\n",
        "print(hap_list[-1])\n"
      ],
      "metadata": {
        "colab": {
          "base_uri": "https://localhost:8080/"
        },
        "id": "XwF5doMlM8pl",
        "outputId": "c4867c8d-8f57-48c9-8e12-73a136ba6b7c"
      },
      "execution_count": 35,
      "outputs": [
        {
          "output_type": "stream",
          "name": "stdout",
          "text": [
            "5\n",
            "3 1 4 3 2\n",
            "32\n"
          ]
        }
      ]
    },
    {
      "cell_type": "markdown",
      "source": [
        "### 1541"
      ],
      "metadata": {
        "id": "UbIfQMegTczR"
      }
    },
    {
      "cell_type": "code",
      "source": [
        "raw_eval = input()\n",
        "\n",
        "num = []\n",
        "hap = 0\n",
        "\n",
        "if '-' in raw_eval:\n",
        "  evals = raw_eval.split('-')\n",
        "\n",
        "  for evaluation in evals:\n",
        "    if evaluation.isdigit():\n",
        "      num.append(int(evaluation))\n",
        "    else:\n",
        "      num_list = list(map(int,evaluation.split('+')))\n",
        "      hap = sum(num_list)\n",
        "      num.append(hap)\n",
        "      hap = 0\n",
        "\n",
        "  answer = num[0]\n",
        "  \n",
        "  for i in range(1, len(num)):\n",
        "    answer -= num[i]\n",
        "\n",
        "else:\n",
        "  evals = list(map(int,raw_eval.split('+')))\n",
        "  answer = sum(evals)\n",
        "\n",
        "print(answer)"
      ],
      "metadata": {
        "colab": {
          "base_uri": "https://localhost:8080/"
        },
        "id": "Syscov7oTdCD",
        "outputId": "69ca42a2-65fc-408e-ea80-f239b8359cf9"
      },
      "execution_count": 26,
      "outputs": [
        {
          "output_type": "stream",
          "name": "stdout",
          "text": [
            "9-4606+4-2-44-3-5442+2453+9-55\n",
            "-12609\n"
          ]
        }
      ]
    },
    {
      "cell_type": "markdown",
      "source": [
        "### 9095"
      ],
      "metadata": {
        "id": "mbTA8j6JeD_x"
      }
    },
    {
      "cell_type": "code",
      "source": [
        "import sys\n",
        "\n",
        "t = int(sys.stdin.readline().strip())\n",
        "dp = [0] * 11\n",
        "\n",
        "dp[1] = 1\n",
        "dp[2] = 2\n",
        "dp[3] = 4\n",
        "\n",
        "for i in range(4, len(dp)):\n",
        "  dp[i] = dp[i-3] + dp[i-2] + dp[i-1]\n",
        "\n",
        "for i in range(t):\n",
        "  n = int(sys.stdin.readline().strip())\n",
        "  print(dp[n])"
      ],
      "metadata": {
        "colab": {
          "base_uri": "https://localhost:8080/"
        },
        "id": "9HxdWDkzeEWN",
        "outputId": "8f4d25b2-9ff6-48e8-d906-002a04af1c7c"
      },
      "execution_count": 30,
      "outputs": [
        {
          "output_type": "stream",
          "name": "stdout",
          "text": [
            "3\n",
            "4\n",
            "7\n",
            "7\n",
            "44\n",
            "10\n",
            "274\n"
          ]
        }
      ]
    },
    {
      "cell_type": "markdown",
      "source": [
        "### 9375"
      ],
      "metadata": {
        "id": "360I-epzhgwz"
      }
    },
    {
      "cell_type": "code",
      "source": [
        "import sys\n",
        "\n",
        "t = int(sys.stdin.readline().strip())\n",
        "\n",
        "for _ in range(t):\n",
        "  clothes = {}\n",
        "  n = int(sys.stdin.readline().strip())\n",
        "\n",
        "  for _ in range(n): \n",
        "    name, c_type = map(str, sys.stdin.readline().strip().split(\" \")) \n",
        "    if c_type in clothes:\n",
        "      clothes[c_type].append(name)\n",
        "    else:\n",
        "      clothes[c_type] = [name]\n",
        "\n",
        "  cnt = 1\n",
        "\n",
        "  for i in clothes:\n",
        "    cnt *= (len(clothes[i])+1)\n",
        "\n",
        "  print(cnt-1)"
      ],
      "metadata": {
        "id": "z0s6ZfY4hhCT"
      },
      "execution_count": null,
      "outputs": []
    },
    {
      "cell_type": "markdown",
      "source": [
        "---\n",
        "\n",
        "## Programmers"
      ],
      "metadata": {
        "id": "cX-bOUZpaRVp"
      }
    },
    {
      "cell_type": "markdown",
      "source": [
        "### 문자열 안에 문자열"
      ],
      "metadata": {
        "id": "QFa1Eds42iKb"
      }
    },
    {
      "cell_type": "code",
      "source": [
        "def solution(str1, str2):\n",
        "    if str2 in str1:\n",
        "        return 1\n",
        "    else:\n",
        "        return 2"
      ],
      "metadata": {
        "id": "4FDKAAV4aRk1"
      },
      "execution_count": null,
      "outputs": []
    },
    {
      "cell_type": "markdown",
      "source": [
        "### 제곱수 판별하기"
      ],
      "metadata": {
        "id": "1p9mpmCc2kDg"
      }
    },
    {
      "cell_type": "code",
      "source": [
        "import math\n",
        "def solution(n):\n",
        "    if (math.sqrt(n)) % 1 == 0:\n",
        "        return 1\n",
        "    return 2"
      ],
      "metadata": {
        "id": "jag47-Kd4zFv"
      },
      "execution_count": null,
      "outputs": []
    },
    {
      "cell_type": "markdown",
      "source": [
        "### 세균 증식"
      ],
      "metadata": {
        "id": "xWJ_33cc44gt"
      }
    },
    {
      "cell_type": "code",
      "source": [
        "def solution(n, t):\n",
        "    for i in range(t):\n",
        "        n *= 2\n",
        "    return n"
      ],
      "metadata": {
        "id": "gH1WRM5T441X"
      },
      "execution_count": null,
      "outputs": []
    },
    {
      "cell_type": "markdown",
      "source": [
        "### 문자열 정렬하기"
      ],
      "metadata": {
        "id": "NxKejgAD5doW"
      }
    },
    {
      "cell_type": "code",
      "source": [
        "def solution(my_string):\n",
        "    return ''.join(sorted(list(my_string.lower())))"
      ],
      "metadata": {
        "id": "yuWGOkb45d0Q"
      },
      "execution_count": null,
      "outputs": []
    }
  ]
}