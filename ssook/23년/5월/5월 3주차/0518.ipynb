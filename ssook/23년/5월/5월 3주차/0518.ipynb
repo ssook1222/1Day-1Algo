{
  "nbformat": 4,
  "nbformat_minor": 0,
  "metadata": {
    "colab": {
      "provenance": [],
      "authorship_tag": "ABX9TyNoW0ernBnvMYvKya+Bo7M3",
      "include_colab_link": true
    },
    "kernelspec": {
      "name": "python3",
      "display_name": "Python 3"
    },
    "language_info": {
      "name": "python"
    }
  },
  "cells": [
    {
      "cell_type": "markdown",
      "metadata": {
        "id": "view-in-github",
        "colab_type": "text"
      },
      "source": [
        "<a href=\"https://colab.research.google.com/github/ssook1222/1Day-1Algo/blob/master/ssook/5%EC%9B%94/5%EC%9B%94%203%EC%A3%BC%EC%B0%A8/0518.ipynb\" target=\"_parent\"><img src=\"https://colab.research.google.com/assets/colab-badge.svg\" alt=\"Open In Colab\"/></a>"
      ]
    },
    {
      "cell_type": "markdown",
      "source": [
        "## BoJ"
      ],
      "metadata": {
        "id": "3Yci_CYDDbEP"
      }
    },
    {
      "cell_type": "markdown",
      "source": [
        "### 5635"
      ],
      "metadata": {
        "id": "r6aCE9uJcl89"
      }
    },
    {
      "cell_type": "code",
      "execution_count": null,
      "metadata": {
        "id": "bk1BxaB4DZb0"
      },
      "outputs": [],
      "source": [
        "import sys\n",
        "\n",
        "n = int(sys.stdin.readline().rstrip())\n",
        "person = {}\n",
        "\n",
        "for i in range(n):\n",
        "  name, day, month, year = sys.stdin.readline().rstrip().split(\" \")\n",
        "  \n",
        "  day = int(day)\n",
        "  month = int(month)\n",
        "  year = int(year)\n",
        "  \n",
        "  person[name] = [year, month, day]\n",
        "\n",
        "person = sorted(person.items(), key = lambda item:item[1] )\n",
        "\n",
        "\n",
        "print(person[-1][0])\n",
        "print(person[0][0])"
      ]
    },
    {
      "cell_type": "markdown",
      "source": [
        "### 18258"
      ],
      "metadata": {
        "id": "4ReyKwHdcoXJ"
      }
    },
    {
      "cell_type": "code",
      "source": [
        "import sys\n",
        "from collections import deque \n",
        "\n",
        "n = int(sys.stdin.readline().rstrip())\n",
        "\n",
        "deq = deque([])\n",
        "\n",
        "for i in range(n):\n",
        "  cmd = sys.stdin.readline().rstrip().split(\" \")\n",
        "\n",
        "  if cmd[0] == 'push':\n",
        "    deq.append(cmd[1])\n",
        "\n",
        "  if cmd[0] == 'pop':\n",
        "    if len(deq) != 0:\n",
        "      print(deq.popleft())\n",
        "    else:\n",
        "      print(-1)\n",
        "\n",
        "  if cmd[0] == 'size':\n",
        "    print(len(deq))\n",
        "  \n",
        "  if cmd[0] == 'empty':\n",
        "    if len(deq) != 0:\n",
        "      print(0)\n",
        "    else:\n",
        "      print(1)\n",
        "  \n",
        "  if cmd[0] == 'front':\n",
        "    if len(deq) == 0:\n",
        "      print(-1)\n",
        "    else:\n",
        "      print(deq[0])\n",
        "  \n",
        "  if cmd[0] == 'back':\n",
        "    if len(deq) == 0:\n",
        "      print(-1)\n",
        "    else:\n",
        "      print(deq[-1])"
      ],
      "metadata": {
        "colab": {
          "base_uri": "https://localhost:8080/"
        },
        "id": "jISasXj4fOTg",
        "outputId": "0dbc40f3-01b6-4bd8-9950-ace8183808b8"
      },
      "execution_count": 5,
      "outputs": [
        {
          "output_type": "stream",
          "name": "stdout",
          "text": [
            "15\n",
            "push 1\n",
            "push 2\n",
            "front\n",
            "1\n",
            "back\n",
            "2\n",
            "size\n",
            "2\n",
            "empty\n",
            "0\n",
            "pop\n",
            "1\n",
            "pop\n",
            "2\n",
            "pop\n",
            "-1\n",
            "size\n",
            "0\n",
            "empty\n",
            "1\n",
            "pop\n",
            "-1\n",
            "push 3\n",
            "empty\n",
            "0\n",
            "front\n",
            "3\n"
          ]
        }
      ]
    },
    {
      "cell_type": "markdown",
      "source": [
        "### 15654"
      ],
      "metadata": {
        "id": "hlTJJEJYhkcQ"
      }
    },
    {
      "cell_type": "code",
      "source": [
        "from itertools import permutations\n",
        "import sys\n",
        "\n",
        "n, m = map(int, sys.stdin.readline().strip().split(\" \"))\n",
        "nat_num = list(map(int, sys.stdin.readline().strip().split(\" \")))\n",
        "\n",
        "combi = list(permutations(nat_num, m))\n",
        "\n",
        "combi.sort()\n",
        "\n",
        "for i in range(len(combi)):\n",
        "  print(*combi[i])"
      ],
      "metadata": {
        "colab": {
          "base_uri": "https://localhost:8080/"
        },
        "id": "XerGLXyThkwd",
        "outputId": "e0bacb97-81b3-4de8-8ff6-7d7a8b21b95a"
      },
      "execution_count": 18,
      "outputs": [
        {
          "output_type": "stream",
          "name": "stdout",
          "text": [
            "4 2\n",
            "9 8 7 1\n",
            "<itertools.permutations object at 0x7faccbb1de40>\n"
          ]
        }
      ]
    },
    {
      "cell_type": "markdown",
      "source": [
        "## Prorammers"
      ],
      "metadata": {
        "id": "K3si83JTOwKV"
      }
    },
    {
      "cell_type": "markdown",
      "source": [
        "### 7의 개수"
      ],
      "metadata": {
        "id": "WZNa6f_2QzVT"
      }
    },
    {
      "cell_type": "code",
      "source": [
        "def solution(array):\n",
        "    answer = 0\n",
        "    for i in array:\n",
        "        answer += str(i).count('7')\n",
        "    return answer"
      ],
      "metadata": {
        "id": "B5dnKmd2OwcQ"
      },
      "execution_count": null,
      "outputs": []
    },
    {
      "cell_type": "markdown",
      "source": [
        "### 잘라서 배열로 저장하기"
      ],
      "metadata": {
        "id": "-gwu0CueQ1Gf"
      }
    },
    {
      "cell_type": "code",
      "source": [
        "def solution(my_str, n):\n",
        "    answer = []\n",
        "    \n",
        "    for i in range(len(my_str)):\n",
        "        if my_str[n*i:n*(i+1)] != '':\n",
        "            answer.append(my_str[n*i:n*(i+1)])\n",
        "    \n",
        "    return answer"
      ],
      "metadata": {
        "id": "YxwYrVDDQ1Wo"
      },
      "execution_count": null,
      "outputs": []
    },
    {
      "cell_type": "markdown",
      "source": [
        "### 중복된 숫자 개수"
      ],
      "metadata": {
        "id": "EAespyHPXQep"
      }
    },
    {
      "cell_type": "code",
      "source": [
        "def solution(array, n):    \n",
        "    return array.count(n)"
      ],
      "metadata": {
        "id": "ourJQsu5XQ3q"
      },
      "execution_count": null,
      "outputs": []
    },
    {
      "cell_type": "markdown",
      "source": [
        "### 머쓱이보다 키 큰 사람"
      ],
      "metadata": {
        "id": "3wMjbK7NX84w"
      }
    },
    {
      "cell_type": "code",
      "source": [
        "def solution(array, height):\n",
        "    answer = 0\n",
        "    \n",
        "    for i in array:\n",
        "        if i > height :\n",
        "            answer += 1\n",
        "    \n",
        "    return answer"
      ],
      "metadata": {
        "id": "RYYLCIF5X_QY"
      },
      "execution_count": null,
      "outputs": []
    }
  ]
}