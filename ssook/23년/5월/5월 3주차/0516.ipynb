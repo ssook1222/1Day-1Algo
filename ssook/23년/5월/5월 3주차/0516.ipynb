{
  "nbformat": 4,
  "nbformat_minor": 0,
  "metadata": {
    "colab": {
      "provenance": [],
      "authorship_tag": "ABX9TyMPjRV3aVBD28wJ3EWPaTOj",
      "include_colab_link": true
    },
    "kernelspec": {
      "name": "python3",
      "display_name": "Python 3"
    },
    "language_info": {
      "name": "python"
    }
  },
  "cells": [
    {
      "cell_type": "markdown",
      "metadata": {
        "id": "view-in-github",
        "colab_type": "text"
      },
      "source": [
        "<a href=\"https://colab.research.google.com/github/ssook1222/1Day-1Algo/blob/master/ssook/5%EC%9B%94/5%EC%9B%94%203%EC%A3%BC%EC%B0%A8/0516.ipynb\" target=\"_parent\"><img src=\"https://colab.research.google.com/assets/colab-badge.svg\" alt=\"Open In Colab\"/></a>"
      ]
    },
    {
      "cell_type": "markdown",
      "source": [
        "## BoJ"
      ],
      "metadata": {
        "id": "I0wqFPhhIqw7"
      }
    },
    {
      "cell_type": "markdown",
      "source": [
        "### 1021"
      ],
      "metadata": {
        "id": "LIBdMkxZIsl_"
      }
    },
    {
      "cell_type": "code",
      "execution_count": null,
      "metadata": {
        "colab": {
          "base_uri": "https://localhost:8080/"
        },
        "id": "yEoF2L9ZxB0X",
        "outputId": "752a87a2-6f62-40d4-b32a-e743b45b39b7"
      },
      "outputs": [
        {
          "output_type": "stream",
          "name": "stdout",
          "text": [
            "10 3\n",
            "2 9 5\n",
            "8\n"
          ]
        }
      ],
      "source": [
        "from collections import deque \n",
        "import sys\n",
        "\n",
        "n, m = map(int, sys.stdin.readline().rstrip().split(\" \"))\n",
        "\n",
        "nums = list(map(int, sys.stdin.readline().rstrip().split(\" \")))\n",
        "deq = deque([i for i in range(1, n+1)])\n",
        "\n",
        "cnt = 0\n",
        "\n",
        "for num in nums:\n",
        "  while True:\n",
        "    if deq[0] == num:\n",
        "      deq.popleft()\n",
        "      break\n",
        "    else:\n",
        "      if deq.index(num) <= len(deq)//2:\n",
        "        deq.append(deq.popleft())\n",
        "        cnt+=1\n",
        "      else:\n",
        "        deq.appendleft(deq.pop())\n",
        "        cnt+=1\n",
        "\n",
        "print(cnt)"
      ]
    },
    {
      "cell_type": "markdown",
      "source": [
        "### 2579"
      ],
      "metadata": {
        "id": "kuUKQVhkJIEA"
      }
    },
    {
      "cell_type": "code",
      "source": [
        "import sys\n",
        "\n",
        "n = int(sys.stdin.readline().rstrip())\n",
        "\n",
        "dp = [0] * (n)\n",
        "stair = [0] * (n)\n",
        "\n",
        "for i in range(n):\n",
        "  stair[i] = int(sys.stdin.readline().rstrip())\n",
        "\n",
        "dp[0] = stair[0]\n",
        "\n",
        "if n == 1:\n",
        "    print(stair[0])\n",
        "\n",
        "elif n == 2:\n",
        "    print(stair[0]+stair[1])\n",
        "\n",
        "else :\n",
        "    dp[1] = stair[0] + stair[1]\n",
        "    dp[2] = max(stair[1] + stair[2], stair[0] + stair[2])\n",
        "\n",
        "    for i in range(3, n):\n",
        "      dp[i] = max(dp[i-3] + stair[i-1] + stair[i], dp[i-2] + stair[i])\n",
        "\n",
        "    print(dp[n-1])"
      ],
      "metadata": {
        "id": "9A7v1al5JIQd"
      },
      "execution_count": null,
      "outputs": []
    },
    {
      "cell_type": "markdown",
      "source": [
        "### 18870"
      ],
      "metadata": {
        "id": "GNdPMBEWRRBz"
      }
    },
    {
      "cell_type": "code",
      "source": [
        "n = int(input())\n",
        "\n",
        "ori = list(map(int, input().split(\" \")))\n",
        "sort_ori = sorted(list(set(ori))) \n",
        "ori_dict = {}\n",
        "\n",
        "for i in range(len(sort_ori)):\n",
        "  ori_dict[sort_ori[i]] = i\n",
        "\n",
        "for j in ori:\n",
        "  print(ori_dict[j], end = ' ')"
      ],
      "metadata": {
        "colab": {
          "base_uri": "https://localhost:8080/"
        },
        "id": "MwqQ1xk4RRX8",
        "outputId": "fa6f95a1-1138-410a-d310-f5ab52b301a9"
      },
      "execution_count": null,
      "outputs": [
        {
          "output_type": "stream",
          "name": "stdout",
          "text": [
            "5\n",
            "2 4 -10 4 -9\n",
            "2 3 0 3 1 "
          ]
        }
      ]
    },
    {
      "cell_type": "markdown",
      "source": [
        "### 17626"
      ],
      "metadata": {
        "id": "QwVcy9AmK4bn"
      }
    },
    {
      "cell_type": "code",
      "source": [
        "import math \n",
        "\n",
        "n = int(input())\n",
        "square_num = [i**2 for i in range(1, int(math.sqrt(n))+1)]\n",
        "\n",
        "s1_check = False\n",
        "s2_check = False\n",
        "\n",
        "answer = 4\n",
        "\n",
        "if n in square_num:\n",
        "  answer = 1\n",
        "  s1_check = True\n",
        "\n",
        "for s_num in square_num:\n",
        "  if (n - s_num in square_num) and s1_check == False :\n",
        "    answer = 2 \n",
        "    s2_check = True\n",
        "\n",
        "for s_num in square_num:\n",
        "  for i in range(1, int(math.sqrt(n - s_num))+1) :\n",
        "    if (int(math.sqrt(n - s_num - i**2)) == math.sqrt(n - s_num - i**2)) and s1_check == False and s2_check == False:\n",
        "      answer = 3\n",
        "\n",
        "print(answer)"
      ],
      "metadata": {
        "colab": {
          "base_uri": "https://localhost:8080/"
        },
        "id": "rpTtwT7nK4sB",
        "outputId": "6960dffd-d9cc-41bb-b881-9c36ecd46430"
      },
      "execution_count": 22,
      "outputs": [
        {
          "output_type": "stream",
          "name": "stdout",
          "text": [
            "34567\n",
            "4\n"
          ]
        }
      ]
    },
    {
      "cell_type": "markdown",
      "source": [
        "### 17299"
      ],
      "metadata": {
        "id": "oY5dnx0PQe36"
      }
    },
    {
      "cell_type": "code",
      "source": [
        "from collections import Counter\n",
        "n = int(input())\n",
        "\n",
        "nums = list(map(int, input().split(\" \")))\n",
        "\n",
        "answer = [ -1 for i in range(n)]\n",
        "indx_stk = []\n",
        "count = Counter(nums)\n",
        "\n",
        "for i in range(len(nums)):\n",
        "  while len(indx_stk)!=0 and count[nums[indx_stk[-1]]] <  count[nums[i]]:\n",
        "    answer[indx_stk.pop()] = nums[i]\n",
        "  indx_stk.append(i)\n",
        "\n",
        "print(*answer)"
      ],
      "metadata": {
        "colab": {
          "base_uri": "https://localhost:8080/"
        },
        "id": "07kkakhuQfQy",
        "outputId": "5e0c4bb3-f111-439c-d198-f7f52fddc4bc"
      },
      "execution_count": 24,
      "outputs": [
        {
          "output_type": "stream",
          "name": "stdout",
          "text": [
            "7\n",
            "1 1 2 3 4 2 1\n",
            "-1 -1 1 2 2 1 -1\n"
          ]
        }
      ]
    },
    {
      "cell_type": "markdown",
      "source": [
        "### Programmers"
      ],
      "metadata": {
        "id": "InHlDVSvWrK8"
      }
    },
    {
      "cell_type": "markdown",
      "source": [
        "### 숫자 찾기"
      ],
      "metadata": {
        "id": "Ie3BryZGXy99"
      }
    },
    {
      "cell_type": "code",
      "source": [
        "def solution(num, k):\n",
        "    if str(k) in str(num):\n",
        "        return list(str(num)).index(str(k))+1\n",
        "    else:\n",
        "        return -1"
      ],
      "metadata": {
        "id": "PD0sH5xsWtFv"
      },
      "execution_count": null,
      "outputs": []
    },
    {
      "cell_type": "markdown",
      "source": [
        "### n의 배수 고르기"
      ],
      "metadata": {
        "id": "QgAItWUFX1Jj"
      }
    },
    {
      "cell_type": "code",
      "source": [
        "def solution(n, numlist):\n",
        "    answer = []\n",
        "    \n",
        "    for num in numlist:\n",
        "        if num % n == 0:\n",
        "            answer.append(num)\n",
        "    \n",
        "    return answer"
      ],
      "metadata": {
        "id": "P42q2BsAX1Yc"
      },
      "execution_count": null,
      "outputs": []
    },
    {
      "cell_type": "markdown",
      "source": [
        "### 자릿수 더하기"
      ],
      "metadata": {
        "id": "oIqgmWjHYMrw"
      }
    },
    {
      "cell_type": "code",
      "source": [
        "def solution(n):\n",
        "    answer = list(str(n))\n",
        "    hap = 0\n",
        "    for i in answer:\n",
        "        hap += int(i)\n",
        "    return hap"
      ],
      "metadata": {
        "id": "xID1kJP6YM9S"
      },
      "execution_count": null,
      "outputs": []
    },
    {
      "cell_type": "markdown",
      "source": [
        "### OX 퀴즈"
      ],
      "metadata": {
        "id": "N2WhuIQDYpG9"
      }
    },
    {
      "cell_type": "code",
      "source": [
        "def solution(quiz):\n",
        "    answer = []\n",
        "    \n",
        "    for i in quiz :\n",
        "        if eval(i.split(\"=\")[0]) == eval(i.split(\"=\")[1]):\n",
        "            answer.append(\"O\")\n",
        "        else:\n",
        "            answer.append(\"X\")\n",
        "    \n",
        "    return answer"
      ],
      "metadata": {
        "id": "P81KmddHYpZS"
      },
      "execution_count": null,
      "outputs": []
    }
  ]
}