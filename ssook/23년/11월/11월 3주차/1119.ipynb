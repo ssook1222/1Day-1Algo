{
  "nbformat": 4,
  "nbformat_minor": 0,
  "metadata": {
    "colab": {
      "provenance": [],
      "authorship_tag": "ABX9TyNvhFru/8lNRHfrjTjesoeu",
      "include_colab_link": true
    },
    "kernelspec": {
      "name": "python3",
      "display_name": "Python 3"
    },
    "language_info": {
      "name": "python"
    }
  },
  "cells": [
    {
      "cell_type": "markdown",
      "metadata": {
        "id": "view-in-github",
        "colab_type": "text"
      },
      "source": [
        "<a href=\"https://colab.research.google.com/github/ssook1222/1Day-1Algo/blob/master/ssook/11%EC%9B%94/11%EC%9B%94%203%EC%A3%BC%EC%B0%A8/1119.ipynb\" target=\"_parent\"><img src=\"https://colab.research.google.com/assets/colab-badge.svg\" alt=\"Open In Colab\"/></a>"
      ]
    },
    {
      "cell_type": "markdown",
      "source": [
        "## BoJ"
      ],
      "metadata": {
        "id": "JaYoqszQ1OHM"
      }
    },
    {
      "cell_type": "markdown",
      "source": [
        "### 8296"
      ],
      "metadata": {
        "id": "0jzHyQBb1Q_D"
      }
    },
    {
      "cell_type": "code",
      "execution_count": 6,
      "metadata": {
        "colab": {
          "base_uri": "https://localhost:8080/"
        },
        "id": "GxBvqoSg1L32",
        "outputId": "b8c9cd98-5520-4ce2-ded1-f41deac2cf14"
      },
      "outputs": [
        {
          "output_type": "stream",
          "name": "stdout",
          "text": [
            "3 4\n",
            "daababac\n",
            "5\n"
          ]
        }
      ],
      "source": [
        "import sys\n",
        "\n",
        "n, nc = map(int, sys.stdin.readline().rstrip().split())\n",
        "s = sys.stdin.readline().rstrip()\n",
        "\n",
        "m = {}\n",
        "ans = 0\n",
        "\n",
        "for i in range(len(s)-n+1):\n",
        "    tmp = s[i:i+n]\n",
        "\n",
        "    if tmp not in m:\n",
        "        ans += 1\n",
        "\n",
        "    m[tmp] = True\n",
        "\n",
        "print(ans)"
      ]
    },
    {
      "cell_type": "markdown",
      "source": [
        "###"
      ],
      "metadata": {
        "id": "W1PMjUd61R8b"
      }
    },
    {
      "cell_type": "code",
      "source": [
        "n = int(input())\n",
        "s = input()\n",
        "re_s = s[::-1]\n",
        "tmp = ''\n",
        "\n",
        "for i in range(len(s)):\n",
        "  if s[i] == '?':\n",
        "    tmp += re_s[i]\n",
        "  else:\n",
        "    tmp += s[i]\n",
        "\n",
        "print(tmp)"
      ],
      "metadata": {
        "colab": {
          "base_uri": "https://localhost:8080/"
        },
        "id": "aORrart81SiA",
        "outputId": "6d867f5c-83fa-4528-ac7c-ed535dc525e8"
      },
      "execution_count": 8,
      "outputs": [
        {
          "output_type": "stream",
          "name": "stdout",
          "text": [
            "7\n",
            "??ta?or\n",
            "rotator\n"
          ]
        }
      ]
    },
    {
      "cell_type": "markdown",
      "source": [
        "---"
      ],
      "metadata": {
        "id": "bAF4d1If1S-r"
      }
    },
    {
      "cell_type": "markdown",
      "source": [
        "## CodeTree"
      ],
      "metadata": {
        "id": "WXXjnXH31Tkc"
      }
    },
    {
      "cell_type": "markdown",
      "source": [
        "### a부터 b까지 홀수 출력"
      ],
      "metadata": {
        "id": "jaoy2tuF1U3x"
      }
    },
    {
      "cell_type": "code",
      "source": [
        "a, b = map(int, input().split())\n",
        "tmp = ''\n",
        "if a == b == 1:\n",
        "    print(1)\n",
        "\n",
        "else:\n",
        "    for i in range(a, b+1):\n",
        "        if i % 2 != 0:\n",
        "            tmp += str(i) + ' '\n",
        "\n",
        "    print(tmp.rstrip())"
      ],
      "metadata": {
        "id": "k6-lxROa1Vrd"
      },
      "execution_count": null,
      "outputs": []
    }
  ]
}