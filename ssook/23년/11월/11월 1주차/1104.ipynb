{
  "nbformat": 4,
  "nbformat_minor": 0,
  "metadata": {
    "colab": {
      "provenance": [],
      "authorship_tag": "ABX9TyNl0uc6mtU0zf7krjEZbgjx",
      "include_colab_link": true
    },
    "kernelspec": {
      "name": "python3",
      "display_name": "Python 3"
    },
    "language_info": {
      "name": "python"
    }
  },
  "cells": [
    {
      "cell_type": "markdown",
      "metadata": {
        "id": "view-in-github",
        "colab_type": "text"
      },
      "source": [
        "<a href=\"https://colab.research.google.com/github/ssook1222/1Day-1Algo/blob/master/ssook/11%EC%9B%94/11%EC%9B%94%201%EC%A3%BC%EC%B0%A8/1104.ipynb\" target=\"_parent\"><img src=\"https://colab.research.google.com/assets/colab-badge.svg\" alt=\"Open In Colab\"/></a>"
      ]
    },
    {
      "cell_type": "markdown",
      "source": [
        "## BoJ"
      ],
      "metadata": {
        "id": "oR9ru-dQMjoM"
      }
    },
    {
      "cell_type": "markdown",
      "source": [
        "### 6794"
      ],
      "metadata": {
        "id": "J2kEOtKUMrbM"
      }
    },
    {
      "cell_type": "code",
      "execution_count": 3,
      "metadata": {
        "colab": {
          "base_uri": "https://localhost:8080/"
        },
        "id": "sd2tbnoVMc82",
        "outputId": "af169561-c7e4-448f-9f17-3be6fb598340"
      },
      "outputs": [
        {
          "output_type": "stream",
          "name": "stdout",
          "text": [
            "4\n",
            "0 4\n",
            "1 3\n",
            "2 2\n",
            "3\n"
          ]
        }
      ],
      "source": [
        "import sys\n",
        "\n",
        "n = int(sys.stdin.readline().rstrip())\n",
        "cnt = 0\n",
        "\n",
        "for i in range(0, 6):\n",
        "  for j in range(i, 6):\n",
        "    if j + i == n:\n",
        "        cnt += 1\n",
        "\n",
        "print(cnt)"
      ]
    },
    {
      "cell_type": "markdown",
      "source": [
        "### 17390"
      ],
      "metadata": {
        "id": "uKO7KRe_Msze"
      }
    },
    {
      "cell_type": "code",
      "source": [
        "import sys\n",
        "\n",
        "n, q = map(int, sys.stdin.readline().rstrip().split())\n",
        "\n",
        "num = list(map(int, sys.stdin.readline().rstrip().split()))\n",
        "num.sort()\n",
        "\n",
        "hap = num\n",
        "\n",
        "for i in range(1, n):\n",
        "    hap[i] = hap[i] + hap[i-1]\n",
        "\n",
        "for i in range(q):\n",
        "  l, r = map(int, sys.stdin.readline().rstrip().split())\n",
        "  if l == 1 :\n",
        "      print(hap[r-1])\n",
        "  elif l != 1:\n",
        "      print(hap[r-1] - hap[l-2])\n",
        ""
      ],
      "metadata": {
        "colab": {
          "base_uri": "https://localhost:8080/"
        },
        "id": "IBP1uCecMtvE",
        "outputId": "7bcd56a8-52fc-4acc-d266-e426e8a7e949"
      },
      "execution_count": 6,
      "outputs": [
        {
          "output_type": "stream",
          "name": "stdout",
          "text": [
            "5 6\n",
            "2 5 1 4 3\n",
            "1 5\n",
            "[1, 2, 3, 4, 5]\n",
            "15\n",
            "2 4\n",
            "[2, 3, 4]\n",
            "9\n",
            "3 3\n",
            "[3]\n",
            "3\n",
            "1 3\n",
            "[1, 2, 3]\n",
            "6\n",
            "2 5\n",
            "[2, 3, 4, 5]\n",
            "14\n",
            "4 5\n",
            "[4, 5]\n",
            "9\n"
          ]
        }
      ]
    },
    {
      "cell_type": "markdown",
      "source": [
        "---"
      ],
      "metadata": {
        "id": "qlnX5h7kMuwH"
      }
    },
    {
      "cell_type": "markdown",
      "source": [
        "## CodeTree"
      ],
      "metadata": {
        "id": "vSXcweT2Mvwp"
      }
    },
    {
      "cell_type": "markdown",
      "source": [
        "### 단어사전"
      ],
      "metadata": {
        "id": "Iht56bVMMxPa"
      }
    },
    {
      "cell_type": "code",
      "source": [
        "char = list(map(str, input().split()))\n",
        "\n",
        "char = list(set(char))\n",
        "char.sort()\n",
        "\n",
        "print(' '.join(char))"
      ],
      "metadata": {
        "id": "yIU29D_jMyXz"
      },
      "execution_count": null,
      "outputs": []
    }
  ]
}