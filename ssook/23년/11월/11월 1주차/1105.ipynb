{
  "nbformat": 4,
  "nbformat_minor": 0,
  "metadata": {
    "colab": {
      "provenance": [],
      "authorship_tag": "ABX9TyMy3Q9wolalEeu7Cme0wtEt",
      "include_colab_link": true
    },
    "kernelspec": {
      "name": "python3",
      "display_name": "Python 3"
    },
    "language_info": {
      "name": "python"
    }
  },
  "cells": [
    {
      "cell_type": "markdown",
      "metadata": {
        "id": "view-in-github",
        "colab_type": "text"
      },
      "source": [
        "<a href=\"https://colab.research.google.com/github/ssook1222/1Day-1Algo/blob/master/ssook/11%EC%9B%94/11%EC%9B%94%201%EC%A3%BC%EC%B0%A8/1105.ipynb\" target=\"_parent\"><img src=\"https://colab.research.google.com/assets/colab-badge.svg\" alt=\"Open In Colab\"/></a>"
      ]
    },
    {
      "cell_type": "markdown",
      "source": [
        "## BoJ"
      ],
      "metadata": {
        "id": "lWDhLX0zfIHH"
      }
    },
    {
      "cell_type": "markdown",
      "source": [
        "### 4493"
      ],
      "metadata": {
        "id": "eREX3d5QfKac"
      }
    },
    {
      "cell_type": "code",
      "execution_count": 4,
      "metadata": {
        "colab": {
          "base_uri": "https://localhost:8080/"
        },
        "id": "n5YI9539fF7K",
        "outputId": "b0538d97-e21b-446f-df14-e094b3c8bcdb"
      },
      "outputs": [
        {
          "output_type": "stream",
          "name": "stdout",
          "text": [
            "3\n",
            "2\n",
            "R P\n",
            "S R\n",
            "Player 2\n",
            "3\n",
            "P P\n",
            "R S\n",
            "S R\n",
            "TIE\n",
            "1\n",
            "P R\n",
            "Player 1\n"
          ]
        }
      ],
      "source": [
        "t = int(input())\n",
        "\n",
        "for _ in range(t):\n",
        "  n = int(input())\n",
        "  cnt1 = 0\n",
        "  cnt2 = 0\n",
        "  for _ in range(n):\n",
        "    a, b = map(str, input().split())\n",
        "    if a == b:\n",
        "      pass\n",
        "    else:\n",
        "      if a == 'R' and b == 'P':\n",
        "        cnt2 += 1\n",
        "      if a == 'R' and b == 'S':\n",
        "        cnt1 += 1\n",
        "      if a == 'P' and b == 'R':\n",
        "        cnt1 += 1\n",
        "      if a == 'P' and b == 'S':\n",
        "        cnt2 += 1\n",
        "      if a == 'S' and b == 'R':\n",
        "        cnt2 += 1\n",
        "      if a == 'S' and b == 'P':\n",
        "        cnt1 += 1\n",
        "\n",
        "  if cnt1 > cnt2:\n",
        "    print(\"Player 1\")\n",
        "  elif cnt1 < cnt2:\n",
        "    print(\"Player 2\")\n",
        "  else:\n",
        "    print(\"TIE\")"
      ]
    },
    {
      "cell_type": "markdown",
      "source": [
        "### 4299"
      ],
      "metadata": {
        "id": "nVdhuh78fL9X"
      }
    },
    {
      "cell_type": "code",
      "source": [
        "hap, cha = map(int, input().split())\n",
        "a = 0\n",
        "b = 0\n",
        "chk = False\n",
        "for i in range(0, hap):\n",
        "  for j in range(i, hap):\n",
        "    if i + j == hap and j-i == cha:\n",
        "      chk = True\n",
        "      print(j, i)\n",
        "      break\n",
        "\n",
        "if not chk:\n",
        "  print(-1)\n",
        ""
      ],
      "metadata": {
        "colab": {
          "base_uri": "https://localhost:8080/"
        },
        "id": "bWOQNvkkfN64",
        "outputId": "872c3474-4b17-45a5-80dc-685b3039f0c0"
      },
      "execution_count": 12,
      "outputs": [
        {
          "output_type": "stream",
          "name": "stdout",
          "text": [
            "3 1\n",
            "2 1\n"
          ]
        }
      ]
    },
    {
      "cell_type": "markdown",
      "source": [
        "---"
      ],
      "metadata": {
        "id": "PwYDwNndfOcR"
      }
    },
    {
      "cell_type": "markdown",
      "source": [
        "## CodeTree"
      ],
      "metadata": {
        "id": "GCX0iDekfPM5"
      }
    },
    {
      "cell_type": "markdown",
      "source": [
        "### 20대의 평균나이"
      ],
      "metadata": {
        "id": "CLFVljDAfRXs"
      }
    },
    {
      "cell_type": "code",
      "source": [
        "hap = 0\n",
        "cnt = 0\n",
        "\n",
        "while True:\n",
        "    n = input()\n",
        "\n",
        "    if n.isdigit():\n",
        "        n = int(n)\n",
        "        if 20 <= n <= 29:\n",
        "            hap += n\n",
        "            cnt += 1\n",
        "        else:\n",
        "            break\n",
        "    else:\n",
        "        break\n",
        "\n",
        "if cnt > 0:\n",
        "    avg = round(hap / cnt, 2)\n",
        "    print(f\"{avg:.2f}\")"
      ],
      "metadata": {
        "id": "nAN-UNPIfSj8"
      },
      "execution_count": null,
      "outputs": []
    }
  ]
}