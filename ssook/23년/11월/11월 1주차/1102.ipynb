{
  "nbformat": 4,
  "nbformat_minor": 0,
  "metadata": {
    "colab": {
      "provenance": [],
      "authorship_tag": "ABX9TyMcYstOWllR1PowiUcKeFBB",
      "include_colab_link": true
    },
    "kernelspec": {
      "name": "python3",
      "display_name": "Python 3"
    },
    "language_info": {
      "name": "python"
    }
  },
  "cells": [
    {
      "cell_type": "markdown",
      "metadata": {
        "id": "view-in-github",
        "colab_type": "text"
      },
      "source": [
        "<a href=\"https://colab.research.google.com/github/ssook1222/1Day-1Algo/blob/master/ssook/11%EC%9B%94/11%EC%9B%94%201%EC%A3%BC%EC%B0%A8/1102.ipynb\" target=\"_parent\"><img src=\"https://colab.research.google.com/assets/colab-badge.svg\" alt=\"Open In Colab\"/></a>"
      ]
    },
    {
      "cell_type": "markdown",
      "source": [
        "## BoJ"
      ],
      "metadata": {
        "id": "Sz8MC_-iWmHj"
      }
    },
    {
      "cell_type": "markdown",
      "source": [
        "### 17851"
      ],
      "metadata": {
        "id": "2cJ4IACeWnRX"
      }
    },
    {
      "cell_type": "code",
      "execution_count": 1,
      "metadata": {
        "colab": {
          "base_uri": "https://localhost:8080/"
        },
        "id": "vO7e-HToWgqN",
        "outputId": "de8782f6-24d6-4d94-cebc-f08f3d5c174c"
      },
      "outputs": [
        {
          "output_type": "stream",
          "name": "stdout",
          "text": [
            "67 64 61 70 58\n",
            "62 68 65 71 59\n",
            "0\n"
          ]
        }
      ],
      "source": [
        "team1 = list(map(int, input().split()))\n",
        "team2 = list(map(int, input().split()))\n",
        "\n",
        "team1.sort(reverse = True)\n",
        "team2.sort(reverse = True)\n",
        "\n",
        "cnt = 0\n",
        "\n",
        "for i in range(len(team1)):\n",
        "  if team1[i] > team2[i]:\n",
        "    cnt += 1\n",
        "  else:\n",
        "    pass\n",
        "\n",
        "print(cnt)"
      ]
    },
    {
      "cell_type": "markdown",
      "source": [
        "### 4619"
      ],
      "metadata": {
        "id": "O6g3T_nJWoPK"
      }
    },
    {
      "cell_type": "code",
      "source": [
        "while True:\n",
        "    a, b = map(int, input().split())\n",
        "\n",
        "    if a == b == 0:\n",
        "        break\n",
        "\n",
        "    cnt = 0\n",
        "    while cnt ** b < a:\n",
        "        cnt += 1\n",
        "\n",
        "    if cnt ** b - a < a - (cnt - 1) ** b:\n",
        "        print(cnt)\n",
        "    else:\n",
        "        print(cnt - 1)\n"
      ],
      "metadata": {
        "colab": {
          "base_uri": "https://localhost:8080/"
        },
        "id": "UU1GimvSWpHn",
        "outputId": "0c06512a-1c3e-404a-cf35-c266622355f3"
      },
      "execution_count": 20,
      "outputs": [
        {
          "name": "stdout",
          "output_type": "stream",
          "text": [
            "4 3\n",
            "1\n",
            "5 3\n",
            "2\n",
            "27 3\n",
            "3\n",
            "750 5\n",
            "4\n",
            "1000 5\n",
            "4\n",
            "2000 5\n",
            "4\n",
            "3000 5\n",
            "5\n",
            "1000000 5\n",
            "16\n",
            "0 0\n"
          ]
        }
      ]
    },
    {
      "cell_type": "markdown",
      "source": [
        "---"
      ],
      "metadata": {
        "id": "kR3HnBpwWqOT"
      }
    },
    {
      "cell_type": "markdown",
      "source": [
        "## CodeTree"
      ],
      "metadata": {
        "id": "qiM0w96-WrAL"
      }
    },
    {
      "cell_type": "markdown",
      "source": [
        "### 특정 연산을 이행하는 함수 2"
      ],
      "metadata": {
        "id": "HN7MPTSzWtH8"
      }
    },
    {
      "cell_type": "code",
      "source": [
        "import math\n",
        "\n",
        "num = list(map(float, input().split()))\n",
        "num.sort(reverse = True)\n",
        "\n",
        "print(math.ceil(num[0]), end= ' ')\n",
        "print(math.floor(num[2]), end= ' ' )\n",
        "print(int(round(num[1], 0)))"
      ],
      "metadata": {
        "id": "jcIrSfWwWsZm"
      },
      "execution_count": null,
      "outputs": []
    }
  ]
}