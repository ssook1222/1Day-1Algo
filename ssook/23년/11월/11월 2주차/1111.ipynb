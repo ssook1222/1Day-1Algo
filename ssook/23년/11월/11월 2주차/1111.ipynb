{
  "nbformat": 4,
  "nbformat_minor": 0,
  "metadata": {
    "colab": {
      "provenance": [],
      "authorship_tag": "ABX9TyNl8qU3a18LEmvyfhgzn/Ef",
      "include_colab_link": true
    },
    "kernelspec": {
      "name": "python3",
      "display_name": "Python 3"
    },
    "language_info": {
      "name": "python"
    }
  },
  "cells": [
    {
      "cell_type": "markdown",
      "metadata": {
        "id": "view-in-github",
        "colab_type": "text"
      },
      "source": [
        "<a href=\"https://colab.research.google.com/github/ssook1222/1Day-1Algo/blob/master/ssook/11%EC%9B%94/11%EC%9B%94%202%EC%A3%BC%EC%B0%A8/1111.ipynb\" target=\"_parent\"><img src=\"https://colab.research.google.com/assets/colab-badge.svg\" alt=\"Open In Colab\"/></a>"
      ]
    },
    {
      "cell_type": "markdown",
      "source": [
        "## BoJ"
      ],
      "metadata": {
        "id": "7EEghBqxSxHx"
      }
    },
    {
      "cell_type": "markdown",
      "source": [
        "### 8669"
      ],
      "metadata": {
        "id": "5nYaz2oMS13A"
      }
    },
    {
      "cell_type": "code",
      "execution_count": 1,
      "metadata": {
        "colab": {
          "base_uri": "https://localhost:8080/"
        },
        "id": "6-zA6uksSvU3",
        "outputId": "c0b0d0d6-42fb-4550-be88-fe89e7837e34"
      },
      "outputs": [
        {
          "output_type": "stream",
          "name": "stdout",
          "text": [
            "4\n",
            "3 1\n",
            "4 1\n",
            "5 2\n",
            "2 3\n",
            "3\n"
          ]
        }
      ],
      "source": [
        "import sys\n",
        "\n",
        "n = int(sys.stdin.readline().rstrip())\n",
        "\n",
        "types = []\n",
        "\n",
        "for i in range(n):\n",
        "  g, r = map(int, sys.stdin.readline().rstrip().split())\n",
        "  types.append(r)\n",
        "\n",
        "types = list(set(types))\n",
        "\n",
        "print(len(types))"
      ]
    },
    {
      "cell_type": "markdown",
      "source": [
        "### 21890"
      ],
      "metadata": {
        "id": "EjSf1oU8S20U"
      }
    },
    {
      "cell_type": "code",
      "source": [
        "import sys\n",
        "\n",
        "n = int(sys.stdin.readline().rstrip())\n",
        "cnt = 0\n",
        "\n",
        "for _ in range(n):\n",
        "  raw = sys.stdin.readline().rstrip()\n",
        "  if '.' not in raw:\n",
        "    continue\n",
        "  else:\n",
        "    raw_list = list(raw.split('.'))\n",
        "    if len(raw_list) == 2:\n",
        "      if 1 <= len(raw_list[0]) <= 8 and 1 <= len(raw_list[1]) <= 3:\n",
        "        cnt += 1\n",
        "      else:\n",
        "        pass\n",
        "\n",
        "print(cnt)"
      ],
      "metadata": {
        "colab": {
          "base_uri": "https://localhost:8080/"
        },
        "id": "TIcZyIXdS3Ca",
        "outputId": "6b5c7e87-1d51-48aa-c61e-523f6649aece"
      },
      "execution_count": 2,
      "outputs": [
        {
          "output_type": "stream",
          "name": "stdout",
          "text": [
            "8\n",
            ".exe\n",
            "script\n",
            "a.in.txt\n",
            "a.t\n",
            "con.exe\n",
            "solution.cpp\n",
            "b.java\n",
            "verylongname.txt\n",
            "3\n"
          ]
        }
      ]
    },
    {
      "cell_type": "markdown",
      "source": [
        "---"
      ],
      "metadata": {
        "id": "Ei6shl4SS4r2"
      }
    },
    {
      "cell_type": "markdown",
      "source": [
        "## CodeTree"
      ],
      "metadata": {
        "id": "0cu2bcTCSzV1"
      }
    },
    {
      "cell_type": "markdown",
      "source": [
        "### 2가 3번째로 등장하는 위치"
      ],
      "metadata": {
        "id": "wagje21lilpz"
      }
    },
    {
      "cell_type": "code",
      "source": [
        "n = int(input())\n",
        "cnt = 0\n",
        "\n",
        "nums = list(map(int, input().split()))\n",
        "for i in range(len(nums)):\n",
        "    if nums[i] == 2:\n",
        "        cnt += 1\n",
        "\n",
        "    if cnt == 3:\n",
        "        print(i+1)\n",
        "        break"
      ],
      "metadata": {
        "id": "1HTbaYLRS03U"
      },
      "execution_count": null,
      "outputs": []
    }
  ]
}