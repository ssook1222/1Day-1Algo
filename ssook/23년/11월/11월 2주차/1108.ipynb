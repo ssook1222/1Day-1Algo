{
  "nbformat": 4,
  "nbformat_minor": 0,
  "metadata": {
    "colab": {
      "provenance": [],
      "authorship_tag": "ABX9TyMUw9QkhBPw5TgpyNxflrDu",
      "include_colab_link": true
    },
    "kernelspec": {
      "name": "python3",
      "display_name": "Python 3"
    },
    "language_info": {
      "name": "python"
    }
  },
  "cells": [
    {
      "cell_type": "markdown",
      "metadata": {
        "id": "view-in-github",
        "colab_type": "text"
      },
      "source": [
        "<a href=\"https://colab.research.google.com/github/ssook1222/1Day-1Algo/blob/master/ssook/11%EC%9B%94/11%EC%9B%94%202%EC%A3%BC%EC%B0%A8/1108.ipynb\" target=\"_parent\"><img src=\"https://colab.research.google.com/assets/colab-badge.svg\" alt=\"Open In Colab\"/></a>"
      ]
    },
    {
      "cell_type": "markdown",
      "source": [
        "## BoJ"
      ],
      "metadata": {
        "id": "DVd_XC2Hmw9P"
      }
    },
    {
      "cell_type": "markdown",
      "source": [
        "### 26513"
      ],
      "metadata": {
        "id": "zqU253y-mzKg"
      }
    },
    {
      "cell_type": "code",
      "execution_count": 1,
      "metadata": {
        "colab": {
          "base_uri": "https://localhost:8080/"
        },
        "id": "VWWfjf9Fmi2_",
        "outputId": "39158067-d80e-45d4-a999-7c5bfdf1adb3"
      },
      "outputs": [
        {
          "name": "stdout",
          "output_type": "stream",
          "text": [
            "2 10\n",
            "4 SAFE\n",
            "7 BROKEN\n",
            "5 6\n",
            "3 5\n",
            "2 SAFE\n",
            "4 SAFE\n",
            "3 SAFE\n",
            "5 4\n",
            "4 3\n",
            "2 BROKEN\n",
            "2 BROKEN\n",
            "1 SAFE\n",
            "3 BROKEN\n",
            "2 1\n",
            "0 0\n"
          ]
        }
      ],
      "source": [
        "import sys\n",
        "\n",
        "while True:\n",
        "  n, k = map(int, sys.stdin.readline().rstrip().split())\n",
        "  floors_safe = []\n",
        "  floors_danger = []\n",
        "\n",
        "  if n == k == 0 :\n",
        "    break\n",
        "\n",
        "  else:\n",
        "    for i in range(n):\n",
        "      floor, chk = map(str, sys.stdin.readline().rstrip().split())\n",
        "      floor = int(floor)\n",
        "\n",
        "      if chk == 'SAFE':\n",
        "        floors_safe.append(floor)\n",
        "\n",
        "      else:\n",
        "        floors_danger.append(floor)\n",
        "\n",
        "    floors_safe.sort()\n",
        "    floors_danger.sort()\n",
        "\n",
        "    if not floors_safe:\n",
        "      print(2, floors_danger[0]-1)\n",
        "\n",
        "    if not floors_danger:\n",
        "      print(floors_safe[-1]+1, k-1 )\n",
        "\n",
        "    if floors_safe and floors_danger:\n",
        "      print(floors_safe[-1]+1, floors_danger[0]-1)"
      ]
    },
    {
      "cell_type": "markdown",
      "source": [
        "### 3062"
      ],
      "metadata": {
        "id": "NzWGFW-Qm1K_"
      }
    },
    {
      "cell_type": "code",
      "source": [
        "t = int(input())\n",
        "\n",
        "for _ in range(t):\n",
        "  n = int(input())\n",
        "  n_rev = int(str(n)[::-1])\n",
        "\n",
        "  if str(n+n_rev)[::-1] == str(n+n_rev):\n",
        "    print('YES')\n",
        "  else:\n",
        "    print('NO')"
      ],
      "metadata": {
        "id": "GqeqsOIdm2Da",
        "colab": {
          "base_uri": "https://localhost:8080/"
        },
        "outputId": "1b4b09ad-4a77-41f0-a77d-fac8a6aa6049"
      },
      "execution_count": 6,
      "outputs": [
        {
          "output_type": "stream",
          "name": "stdout",
          "text": [
            "4\n",
            "13\n",
            "YES\n",
            "58\n",
            "NO\n",
            "120\n",
            "YES\n",
            "5056\n",
            "NO\n"
          ]
        }
      ]
    },
    {
      "cell_type": "markdown",
      "source": [
        "## CodeTree"
      ],
      "metadata": {
        "id": "Ymxvqg53m2RH"
      }
    },
    {
      "cell_type": "markdown",
      "source": [
        "### 짝수들을 거꾸로 출력\n"
      ],
      "metadata": {
        "id": "DQcU4lm2m3lf"
      }
    },
    {
      "cell_type": "code",
      "source": [
        "n = int(input())\n",
        "\n",
        "raw = list(map(int, input().split()))\n",
        "\n",
        "res = []\n",
        "\n",
        "for i in raw:\n",
        "    if i % 2 == 0:\n",
        "        res.append(i)\n",
        "\n",
        "res = res[::-1]\n",
        "print(*res)"
      ],
      "metadata": {
        "id": "xp-FTA3Wm4kF"
      },
      "execution_count": null,
      "outputs": []
    }
  ]
}