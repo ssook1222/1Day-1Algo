{
  "nbformat": 4,
  "nbformat_minor": 0,
  "metadata": {
    "colab": {
      "provenance": [],
      "authorship_tag": "ABX9TyPmRsWIXloGqg23jEmgmTkO",
      "include_colab_link": true
    },
    "kernelspec": {
      "name": "python3",
      "display_name": "Python 3"
    },
    "language_info": {
      "name": "python"
    }
  },
  "cells": [
    {
      "cell_type": "markdown",
      "metadata": {
        "id": "view-in-github",
        "colab_type": "text"
      },
      "source": [
        "<a href=\"https://colab.research.google.com/github/ssook1222/1Day-1Algo/blob/master/ssook/11%EC%9B%94/11%EC%9B%94%204%EC%A3%BC%EC%B0%A8/1128.ipynb\" target=\"_parent\"><img src=\"https://colab.research.google.com/assets/colab-badge.svg\" alt=\"Open In Colab\"/></a>"
      ]
    },
    {
      "cell_type": "markdown",
      "source": [
        "## BoJ"
      ],
      "metadata": {
        "id": "g3b1sLXQDyZH"
      }
    },
    {
      "cell_type": "markdown",
      "source": [
        "### 26884"
      ],
      "metadata": {
        "id": "LLSQILApDz_O"
      }
    },
    {
      "cell_type": "code",
      "execution_count": null,
      "metadata": {
        "colab": {
          "base_uri": "https://localhost:8080/"
        },
        "id": "d37p3Hl0Do2Y",
        "outputId": "70fcc802-b33c-44fa-dfae-28cfbd0945ec"
      },
      "outputs": [
        {
          "output_type": "stream",
          "name": "stdout",
          "text": [
            "5\n",
            "kent\n",
            "intekent\n",
            "kent\n",
            "verkligenintekent\n",
            "kanskekent\n",
            "1\n"
          ]
        }
      ],
      "source": [
        "import sys\n",
        "\n",
        "n = int(sys.stdin.readline().rstrip())\n",
        "names = {}\n",
        "cnt = 0\n",
        "\n",
        "for _ in range(n):\n",
        "  s = sys.stdin.readline().rstrip()\n",
        "  if s in names:\n",
        "    names[s] += 1\n",
        "  else:\n",
        "    names[s] = 1\n",
        "\n",
        "for name in names:\n",
        "  if names[name] != 1:\n",
        "    cnt += 1\n",
        "\n",
        "print(cnt)"
      ]
    },
    {
      "cell_type": "markdown",
      "source": [
        "### 9771"
      ],
      "metadata": {
        "id": "44T3yzCJD04P"
      }
    },
    {
      "cell_type": "code",
      "source": [
        "s = input()\n",
        "cnt = 0\n",
        "try :\n",
        "    while True :\n",
        "        lst = input().split()\n",
        "        for i in lst :\n",
        "            if s in i :\n",
        "                cnt += 1\n",
        "except :\n",
        "    print(cnt)"
      ],
      "metadata": {
        "id": "Q86PVb0JD1vo"
      },
      "execution_count": null,
      "outputs": []
    },
    {
      "cell_type": "markdown",
      "source": [
        "---"
      ],
      "metadata": {
        "id": "Y0eBplO1D2ar"
      }
    },
    {
      "cell_type": "markdown",
      "source": [
        "## CodeTree"
      ],
      "metadata": {
        "id": "OgCy8to_D3Jv"
      }
    },
    {
      "cell_type": "markdown",
      "source": [
        "### 단어 삭제"
      ],
      "metadata": {
        "id": "Q9MBv8FZD4EG"
      }
    },
    {
      "cell_type": "code",
      "source": [
        "s = input()\n",
        "delete = input()\n",
        "\n",
        "while delete in s:\n",
        "    s = s.replace(delete, '')\n",
        "print(s)"
      ],
      "metadata": {
        "id": "13axPWZRD4pa"
      },
      "execution_count": null,
      "outputs": []
    }
  ]
}