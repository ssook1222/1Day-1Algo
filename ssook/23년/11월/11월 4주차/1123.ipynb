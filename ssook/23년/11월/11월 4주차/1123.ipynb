{
  "nbformat": 4,
  "nbformat_minor": 0,
  "metadata": {
    "colab": {
      "provenance": [],
      "authorship_tag": "ABX9TyNI38LHt3s5OUZH2akCeRge",
      "include_colab_link": true
    },
    "kernelspec": {
      "name": "python3",
      "display_name": "Python 3"
    },
    "language_info": {
      "name": "python"
    }
  },
  "cells": [
    {
      "cell_type": "markdown",
      "metadata": {
        "id": "view-in-github",
        "colab_type": "text"
      },
      "source": [
        "<a href=\"https://colab.research.google.com/github/ssook1222/1Day-1Algo/blob/master/ssook/11%EC%9B%94/11%EC%9B%94%204%EC%A3%BC%EC%B0%A8/1123.ipynb\" target=\"_parent\"><img src=\"https://colab.research.google.com/assets/colab-badge.svg\" alt=\"Open In Colab\"/></a>"
      ]
    },
    {
      "cell_type": "markdown",
      "source": [
        "## BoJ"
      ],
      "metadata": {
        "id": "nEtUcpRPA2d2"
      }
    },
    {
      "cell_type": "markdown",
      "source": [
        "### 29881"
      ],
      "metadata": {
        "id": "TDjCUy7vA40f"
      }
    },
    {
      "cell_type": "code",
      "execution_count": null,
      "metadata": {
        "colab": {
          "base_uri": "https://localhost:8080/"
        },
        "id": "PmivjlsWAzz5",
        "outputId": "d95cdd0f-5bf7-4abb-f6f4-bbf63e9f0f0f"
      },
      "outputs": [
        {
          "output_type": "stream",
          "name": "stdout",
          "text": [
            "3\n",
            "Juku Kask\n",
            "Mann Kuusk\n",
            "Mikk Tamm\n",
            "Mikk mt\n",
            "Juku jk\n",
            "Mann mk\n",
            "Tamm mt\n",
            "Kask jk\n",
            "Kuusk mk\n"
          ]
        }
      ],
      "source": [
        "import sys\n",
        "\n",
        "t = int(sys.stdin.readline().rstrip())\n",
        "name = {}\n",
        "ans = {}\n",
        "\n",
        "for _ in range(t):\n",
        "  first, last = map(str, sys.stdin.readline().rstrip().split())\n",
        "  name[first] = last\n",
        "\n",
        "for _ in range(t):\n",
        "  first, nick = map(str, sys.stdin.readline().rstrip().split())\n",
        "  if first in name:\n",
        "    ans[name[first]] = nick\n",
        "\n",
        "for n in ans:\n",
        "  print(n, ans[n])"
      ]
    },
    {
      "cell_type": "markdown",
      "source": [
        "### 18198"
      ],
      "metadata": {
        "id": "blsSYRsPA7fg"
      }
    },
    {
      "cell_type": "code",
      "source": [
        "import sys\n",
        "\n",
        "s = sys.stdin.readline().rstrip()\n",
        "\n",
        "a_cnt = 0\n",
        "b_cnt = 0\n",
        "\n",
        "for i in range(0, len(s), 2):\n",
        "    if s[i] == 'A':\n",
        "        a_cnt += int(s[i+1])\n",
        "    else:\n",
        "        b_cnt += int(s[i+1])\n",
        "\n",
        "    if a_cnt >= 11 or b_cnt >= 11:\n",
        "        if abs(a_cnt - b_cnt) >= 2:\n",
        "            break\n",
        "\n",
        "if a_cnt > b_cnt:\n",
        "    print('A')\n",
        "else:\n",
        "    print('B')"
      ],
      "metadata": {
        "id": "OIa8AcPOA8Uv",
        "colab": {
          "base_uri": "https://localhost:8080/"
        },
        "outputId": "45043c4a-b497-42af-8db1-9bed0635d3eb"
      },
      "execution_count": null,
      "outputs": [
        {
          "output_type": "stream",
          "name": "stdout",
          "text": [
            "A2B2A1B2A2B1A2B2A1B2A1A1B1A1A2\n",
            "A\n"
          ]
        }
      ]
    },
    {
      "cell_type": "markdown",
      "source": [
        "---"
      ],
      "metadata": {
        "id": "H591ITlVA8nD"
      }
    },
    {
      "cell_type": "markdown",
      "source": [
        "## CodeTree"
      ],
      "metadata": {
        "id": "irREhZyEA9RD"
      }
    },
    {
      "cell_type": "markdown",
      "source": [
        "### 단어 세기"
      ],
      "metadata": {
        "id": "jAbnMj6SA_HU"
      }
    },
    {
      "cell_type": "code",
      "source": [
        "word = {}\n",
        "\n",
        "while True:\n",
        "    try:\n",
        "        s = input()\n",
        "        if s == 'end':\n",
        "            break\n",
        "        else:\n",
        "            alpha = list(s.split())\n",
        "            for a in alpha:\n",
        "                if a in word:\n",
        "                    word[a] += 1\n",
        "                else:\n",
        "                    word[a] = 1\n",
        "\n",
        "            for w in word:\n",
        "                print(\"%s : %s\" % (w, word[w]))\n",
        "    except EOFError:\n",
        "        break"
      ],
      "metadata": {
        "id": "wX6YC8bbBAKL"
      },
      "execution_count": null,
      "outputs": []
    }
  ]
}