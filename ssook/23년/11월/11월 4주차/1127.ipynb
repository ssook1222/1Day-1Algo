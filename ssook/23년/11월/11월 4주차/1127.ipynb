{
  "nbformat": 4,
  "nbformat_minor": 0,
  "metadata": {
    "colab": {
      "provenance": [],
      "authorship_tag": "ABX9TyOfDxHfK+nH6xk2U8B0ufP9",
      "include_colab_link": true
    },
    "kernelspec": {
      "name": "python3",
      "display_name": "Python 3"
    },
    "language_info": {
      "name": "python"
    }
  },
  "cells": [
    {
      "cell_type": "markdown",
      "metadata": {
        "id": "view-in-github",
        "colab_type": "text"
      },
      "source": [
        "<a href=\"https://colab.research.google.com/github/ssook1222/1Day-1Algo/blob/master/ssook/11%EC%9B%94/11%EC%9B%94%204%EC%A3%BC%EC%B0%A8/1127.ipynb\" target=\"_parent\"><img src=\"https://colab.research.google.com/assets/colab-badge.svg\" alt=\"Open In Colab\"/></a>"
      ]
    },
    {
      "cell_type": "markdown",
      "source": [
        "## BoJ"
      ],
      "metadata": {
        "id": "BnxSYd73wD6H"
      }
    },
    {
      "cell_type": "markdown",
      "source": [
        "### 22477"
      ],
      "metadata": {
        "id": "1HovIVZRwFiK"
      }
    },
    {
      "cell_type": "code",
      "execution_count": null,
      "metadata": {
        "colab": {
          "base_uri": "https://localhost:8080/"
        },
        "id": "747bAbs2viNu",
        "outputId": "0220fea5-f0ca-4080-cb88-5b0657a0a042"
      },
      "outputs": [
        {
          "output_type": "stream",
          "name": "stdout",
          "text": [
            "2\n",
            "a\n",
            "abcdefghij\n",
            "9\n",
            "c\n",
            "Unknown c\n",
            "dvfg\n",
            "Unknown dvfg\n",
            "abcdefghij\n",
            "Open abcdefghij\n",
            "b\n",
            "Unknown b\n",
            "a\n",
            "Close a\n",
            "b\n",
            "Unknown b\n",
            "a\n",
            "Open a\n",
            "sd\n",
            "Unknown sd\n",
            "c\n",
            "Unknown c\n"
          ]
        }
      ],
      "source": [
        "import sys\n",
        "\n",
        "n = int(sys.stdin.readline().rstrip())\n",
        "person = []\n",
        "chk = []\n",
        "\n",
        "for _ in range(n):\n",
        "  person.append(sys.stdin.readline().rstrip())\n",
        "\n",
        "m = int(sys.stdin.readline().rstrip())\n",
        "for _ in range(m):\n",
        "  res = sys.stdin.readline().rstrip()\n",
        "  if res in person:\n",
        "    if len(chk) % 2 == 0:\n",
        "      print('Opened by %s' %res)\n",
        "      chk.append(res)\n",
        "    else:\n",
        "      print('Closed by %s' %res)\n",
        "      chk.append(res)\n",
        "\n",
        "  else:\n",
        "    print('Unknown %s' %res)"
      ]
    },
    {
      "cell_type": "markdown",
      "source": [
        "### 10102"
      ],
      "metadata": {
        "id": "rlJz8xV0wGYT"
      }
    },
    {
      "cell_type": "code",
      "source": [
        "n = int(input())\n",
        "s = input()\n",
        "a_cnt = s.count('A')\n",
        "b_cnt = s.count('B')\n",
        "\n",
        "if a_cnt > b_cnt:\n",
        "  print('A')\n",
        "\n",
        "elif a_cnt < b_cnt:\n",
        "  print('B')\n",
        "\n",
        "else:\n",
        "  print('Tie')"
      ],
      "metadata": {
        "colab": {
          "base_uri": "https://localhost:8080/"
        },
        "id": "0FluxxKlwHHx",
        "outputId": "4d860ee3-a228-4485-f5ff-c63bffa7e344"
      },
      "execution_count": null,
      "outputs": [
        {
          "output_type": "stream",
          "name": "stdout",
          "text": [
            "6\n",
            "6 ABBABB\n",
            "B\n"
          ]
        }
      ]
    },
    {
      "cell_type": "markdown",
      "source": [
        "---"
      ],
      "metadata": {
        "id": "nsKX5g31wHVq"
      }
    },
    {
      "cell_type": "markdown",
      "source": [
        "## CodeTree"
      ],
      "metadata": {
        "id": "Z9-MgouEwIOD"
      }
    },
    {
      "cell_type": "markdown",
      "source": [
        "### -999"
      ],
      "metadata": {
        "id": "B7h7gaolwJkD"
      }
    },
    {
      "cell_type": "code",
      "source": [
        "nums = list(map(int, input().split()))\n",
        "\n",
        "min_n = 1e9\n",
        "max_n = -1e9\n",
        "\n",
        "for num in nums:\n",
        "    if num == -999:\n",
        "        break\n",
        "    else:\n",
        "        if num < min_n:\n",
        "            min_n = num\n",
        "        elif num > max_n:\n",
        "            max_n = num\n",
        "\n",
        "print(max_n, min_n)"
      ],
      "metadata": {
        "id": "8816L8qQwKfx"
      },
      "execution_count": null,
      "outputs": []
    }
  ]
}