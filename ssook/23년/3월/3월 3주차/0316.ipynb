{
  "nbformat": 4,
  "nbformat_minor": 0,
  "metadata": {
    "colab": {
      "provenance": []
    },
    "kernelspec": {
      "name": "python3",
      "display_name": "Python 3"
    },
    "language_info": {
      "name": "python"
    }
  },
  "cells": [
    {
      "cell_type": "markdown",
      "source": [
        "### 2530"
      ],
      "metadata": {
        "id": "F7aixLh5FMPv"
      }
    },
    {
      "cell_type": "code",
      "execution_count": null,
      "metadata": {
        "colab": {
          "base_uri": "https://localhost:8080/"
        },
        "id": "wxGy8OvtFKTJ",
        "outputId": "3c005302-5d2f-49a8-e068-aeff466cca2c"
      },
      "outputs": [
        {
          "output_type": "stream",
          "name": "stdout",
          "text": [
            "14 30 0\n",
            "200\n",
            "14 33 20\n"
          ]
        }
      ],
      "source": [
        "hour, min, sec = map(int, input().split())\n",
        "\n",
        "sec = sec + int(input())\n",
        "min = min + int(sec/60)\n",
        "hour = hour + int(min/60)\n",
        "\n",
        "hour = hour % 24\n",
        "min = min % 60\n",
        "sec = sec % 60\n",
        "\n",
        "print(hour, min, sec)\n"
      ]
    },
    {
      "cell_type": "markdown",
      "source": [
        "### 16486"
      ],
      "metadata": {
        "id": "19tQ4ly6grj6"
      }
    },
    {
      "cell_type": "code",
      "source": [
        "d1 = int(input())\n",
        "d2 = int(input())\n",
        "\n",
        "print((d2*2*3.141592)+(d1*2))"
      ],
      "metadata": {
        "colab": {
          "base_uri": "https://localhost:8080/"
        },
        "id": "8oPn4tcogryR",
        "outputId": "ab60f00d-3dc9-4519-d160-6a66e6dd223d"
      },
      "execution_count": null,
      "outputs": [
        {
          "output_type": "stream",
          "name": "stdout",
          "text": [
            "13\n",
            "8\n",
            "76.265472\n"
          ]
        }
      ]
    },
    {
      "cell_type": "markdown",
      "source": [
        "### 19944"
      ],
      "metadata": {
        "id": "jkS1G7JViZ3v"
      }
    },
    {
      "cell_type": "code",
      "source": [
        "N, M = map(int, input().split())\n",
        "\n",
        "if M <= 2:\n",
        "  print(\"NEWBIE!\")\n",
        "\n",
        "elif M > 2 and M <= N:\n",
        "  print(\"OLDBIE!\")\n",
        "\n",
        "else:\n",
        "  print(\"TLE!\")"
      ],
      "metadata": {
        "colab": {
          "base_uri": "https://localhost:8080/"
        },
        "id": "5tQYENpIiaH5",
        "outputId": "55d10c62-7947-4f04-f28d-c026057eca1b"
      },
      "execution_count": null,
      "outputs": [
        {
          "output_type": "stream",
          "name": "stdout",
          "text": [
            "3 3\n",
            "OLDBIE!\n"
          ]
        }
      ]
    }
  ]
}