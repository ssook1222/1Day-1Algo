{
  "nbformat": 4,
  "nbformat_minor": 0,
  "metadata": {
    "colab": {
      "provenance": []
    },
    "kernelspec": {
      "name": "python3",
      "display_name": "Python 3"
    },
    "language_info": {
      "name": "python"
    }
  },
  "cells": [
    {
      "cell_type": "markdown",
      "source": [
        "## 3월 13일 문제풀이\n",
        "\n",
        "> 브론즈 뽀개기!!!\n",
        "\n",
        "---        \n",
        "\n",
        "`참여자` 최숙"
      ],
      "metadata": {
        "id": "qQcglszn6MZh"
      }
    },
    {
      "cell_type": "markdown",
      "source": [
        "### 10101\n",
        "\n",
        "[이동하기](https://www.acmicpc.net/problem/10101)"
      ],
      "metadata": {
        "id": "mCdNkouc674F"
      }
    },
    {
      "cell_type": "code",
      "execution_count": null,
      "metadata": {
        "colab": {
          "base_uri": "https://localhost:8080/"
        },
        "id": "Pt3bkjjakkXF",
        "outputId": "a739ef74-1687-44ae-a214-a8303efb96f7"
      },
      "outputs": [
        {
          "output_type": "stream",
          "name": "stdout",
          "text": [
            "70\n",
            "40\n",
            "70\n",
            "Isosceles\n"
          ]
        }
      ],
      "source": [
        "gak1 = int(input())\n",
        "gak2 = int(input())\n",
        "gak3 = int(input())\n",
        "\n",
        "if gak1 + gak2 + gak3 == 180 : \n",
        "\n",
        "  if gak1 == 60 and gak2 == 60 and gak3 == 60:\n",
        "    print(\"Equilateral\")\n",
        "  \n",
        "  elif gak1 == gak2 or gak2 == gak3 or gak1 == gak3:\n",
        "    print(\"Isosceles\")\n",
        "\n",
        "  else:\n",
        "    print(\"Scalene\")\n",
        "\n",
        "else:\n",
        "  print(\"Error\")\n"
      ]
    },
    {
      "cell_type": "markdown",
      "source": [
        "### 11651"
      ],
      "metadata": {
        "id": "oef1xi1yyg8C"
      }
    },
    {
      "cell_type": "code",
      "source": [
        "N = int(input())\n",
        "ans = []\n",
        "\n",
        "for i in range(0, N):\n",
        "  a,b = map(int, input().split())\n",
        "  ans.append((a,b))\n",
        "\n",
        "ans.sort(key=lambda x: (x[1], x[0]))\n",
        "\n",
        "for i in range(0, len(ans)):\n",
        "  print(ans[i][0], ans[i][1])"
      ],
      "metadata": {
        "colab": {
          "base_uri": "https://localhost:8080/"
        },
        "id": "hxpIsZ4cyhHs",
        "outputId": "b56b82f3-f979-48d3-b342-682c09a6011b"
      },
      "execution_count": 2,
      "outputs": [
        {
          "output_type": "stream",
          "name": "stdout",
          "text": [
            "5\n",
            "0 4\n",
            "1 2\n",
            "1 -1\n",
            "2 2\n",
            "3 3\n",
            "1 -1\n",
            "1 2\n",
            "2 2\n",
            "3 3\n",
            "0 4\n"
          ]
        }
      ]
    },
    {
      "cell_type": "markdown",
      "source": [
        "### 10867"
      ],
      "metadata": {
        "id": "HTY0k1BF0pov"
      }
    },
    {
      "cell_type": "code",
      "source": [
        "import sys\n",
        "\n",
        "N = int(sys.stdin.readline())\n",
        "\n",
        "arr = list(map(int, sys.stdin.readline().split()))\n",
        "\n",
        "arr = list(set(arr))\n",
        "\n",
        "arr.sort()\n",
        "\n",
        "for i in range(0, len(arr)):\n",
        "    print(arr[i], end=\" \")"
      ],
      "metadata": {
        "id": "9wKNcufN0pwc"
      },
      "execution_count": null,
      "outputs": []
    }
  ]
}