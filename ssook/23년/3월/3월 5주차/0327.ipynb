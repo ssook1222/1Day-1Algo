{
  "nbformat": 4,
  "nbformat_minor": 0,
  "metadata": {
    "colab": {
      "provenance": []
    },
    "kernelspec": {
      "name": "python3",
      "display_name": "Python 3"
    },
    "language_info": {
      "name": "python"
    }
  },
  "cells": [
    {
      "cell_type": "markdown",
      "source": [
        "#### 16428"
      ],
      "metadata": {
        "id": "V1zbAe8gr1sg"
      }
    },
    {
      "cell_type": "code",
      "execution_count": 3,
      "metadata": {
        "colab": {
          "base_uri": "https://localhost:8080/"
        },
        "id": "phfg48DKqESJ",
        "outputId": "ae791f9d-2201-4d8f-dd39-dc637ee531fe"
      },
      "outputs": [
        {
          "output_type": "stream",
          "name": "stdout",
          "text": [
            "7 3\n",
            "2\n",
            "1\n"
          ]
        }
      ],
      "source": [
        "a, b = map(int, input().split(\" \"))\n",
        "c, d = a//b, a%b\n",
        "if a != 0 and d < 0:\n",
        "    c, d = c + 1, d - b\n",
        "print(c)\n",
        "print(d)"
      ]
    }
  ]
}