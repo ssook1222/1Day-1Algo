{
  "nbformat": 4,
  "nbformat_minor": 0,
  "metadata": {
    "colab": {
      "provenance": [],
      "authorship_tag": "ABX9TyNfbPbTIOfK51ospHz424bz",
      "include_colab_link": true
    },
    "kernelspec": {
      "name": "python3",
      "display_name": "Python 3"
    },
    "language_info": {
      "name": "python"
    }
  },
  "cells": [
    {
      "cell_type": "markdown",
      "metadata": {
        "id": "view-in-github",
        "colab_type": "text"
      },
      "source": [
        "<a href=\"https://colab.research.google.com/github/ssook1222/1Day-1Algo/blob/master/0325.ipynb\" target=\"_parent\"><img src=\"https://colab.research.google.com/assets/colab-badge.svg\" alt=\"Open In Colab\"/></a>"
      ]
    },
    {
      "cell_type": "markdown",
      "source": [
        "### 1247"
      ],
      "metadata": {
        "id": "tp-z2AU2_RBQ"
      }
    },
    {
      "cell_type": "code",
      "execution_count": 1,
      "metadata": {
        "colab": {
          "base_uri": "https://localhost:8080/"
        },
        "id": "bELzxSFN_PWL",
        "outputId": "09dbb03f-9fb8-4174-a8a0-8c3644974602"
      },
      "outputs": [
        {
          "output_type": "stream",
          "name": "stdout",
          "text": [
            "3\n",
            "0\n",
            "0\n",
            "0\n",
            "0\n",
            "2\n",
            "1\n",
            "2\n",
            "+\n",
            "2\n",
            "1\n",
            "-3\n",
            "-\n"
          ]
        }
      ],
      "source": [
        "import sys\n",
        "input = sys.stdin.readline\n",
        "\n",
        "for _ in range(0,3):\n",
        "  loop = int(input())\n",
        "  num_list = [int(input()) for _ in range(loop)]\n",
        "  \n",
        "  if sum(num_list) == 0:\n",
        "    print(0)\n",
        "  elif sum(num_list) > 0:\n",
        "    print(\"+\")\n",
        "  else :\n",
        "    print(\"-\")"
      ]
    }
  ]
}