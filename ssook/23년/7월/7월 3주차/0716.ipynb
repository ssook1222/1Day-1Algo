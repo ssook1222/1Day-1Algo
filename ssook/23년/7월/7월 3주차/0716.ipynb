{
  "nbformat": 4,
  "nbformat_minor": 0,
  "metadata": {
    "colab": {
      "provenance": [],
      "authorship_tag": "ABX9TyNYqoLNrXRXi9WtjH+Cc6SF",
      "include_colab_link": true
    },
    "kernelspec": {
      "name": "python3",
      "display_name": "Python 3"
    },
    "language_info": {
      "name": "python"
    }
  },
  "cells": [
    {
      "cell_type": "markdown",
      "metadata": {
        "id": "view-in-github",
        "colab_type": "text"
      },
      "source": [
        "<a href=\"https://colab.research.google.com/github/ssook1222/1Day-1Algo/blob/master/ssook/7%EC%9B%94/7%EC%9B%94%203%EC%A3%BC%EC%B0%A8/0716.ipynb\" target=\"_parent\"><img src=\"https://colab.research.google.com/assets/colab-badge.svg\" alt=\"Open In Colab\"/></a>"
      ]
    },
    {
      "cell_type": "markdown",
      "source": [
        "## BoJ"
      ],
      "metadata": {
        "id": "PWP0eIuPF6Jp"
      }
    },
    {
      "cell_type": "markdown",
      "source": [
        "### 2506"
      ],
      "metadata": {
        "id": "IxNE5c4bF8Ny"
      }
    },
    {
      "cell_type": "code",
      "execution_count": 7,
      "metadata": {
        "colab": {
          "base_uri": "https://localhost:8080/"
        },
        "id": "0234iHr8F4lz",
        "outputId": "8d3b882d-3599-45e5-e21a-b740c77a135f"
      },
      "outputs": [
        {
          "output_type": "stream",
          "name": "stdout",
          "text": [
            "10\n",
            "1 0 1 1 1 0 0 1 1 0\n",
            "10\n"
          ]
        }
      ],
      "source": [
        "n = int(input())\n",
        "score_list = list(map(int, input().split(\" \")))\n",
        "\n",
        "gasan = 0\n",
        "hap = 0\n",
        "\n",
        "for i in score_list:\n",
        "  if i == 1:\n",
        "    gasan += 1\n",
        "    hap += gasan\n",
        "\n",
        "  elif i == 0:\n",
        "    gasan = 0\n",
        "\n",
        "print(hap)"
      ]
    },
    {
      "cell_type": "markdown",
      "source": [
        "### 1024"
      ],
      "metadata": {
        "id": "IZYoJxsHF9Q7"
      }
    },
    {
      "cell_type": "code",
      "source": [
        "n, l = map(int, input().split(\" \"))\n",
        "\n",
        "for i in range(l, 101):\n",
        "  x = (n - ( i * ( i + 1 )) / 2)\n",
        "\n",
        "  if x % i == 0:\n",
        "    x = int( x / i )\n",
        "\n",
        "    if x >= -1 :\n",
        "      print( *list(i for i in range(x+1, x+i+1)) )\n",
        "      break\n",
        "\n",
        "else:\n",
        "  print(-1)\n"
      ],
      "metadata": {
        "colab": {
          "base_uri": "https://localhost:8080/"
        },
        "id": "ZXtJJstXF9xr",
        "outputId": "70f2de41-3684-4e38-cda4-2c851cdc91bd"
      },
      "execution_count": 10,
      "outputs": [
        {
          "output_type": "stream",
          "name": "stdout",
          "text": [
            "1000000000 2\n",
            "199999998 199999999 200000000 200000001 200000002\n"
          ]
        }
      ]
    },
    {
      "cell_type": "markdown",
      "source": [
        "---"
      ],
      "metadata": {
        "id": "J8EXpTYeF-Yd"
      }
    },
    {
      "cell_type": "markdown",
      "source": [
        "## HackerRank"
      ],
      "metadata": {
        "id": "7Rhslv16F_JK"
      }
    },
    {
      "cell_type": "markdown",
      "source": [
        "### String Split and Join"
      ],
      "metadata": {
        "id": "H9FwyQhrGBoy"
      }
    },
    {
      "cell_type": "code",
      "source": [
        "def split_and_join(line):\n",
        "    a = line.split(\" \")\n",
        "    a = '-'.join(a)\n",
        "    return a\n",
        "\n",
        "if __name__ == '__main__':\n",
        "    line = input()\n",
        "    result = split_and_join(line)\n",
        "    print(result)"
      ],
      "metadata": {
        "id": "qwHuRNhRGCCF"
      },
      "execution_count": null,
      "outputs": []
    }
  ]
}