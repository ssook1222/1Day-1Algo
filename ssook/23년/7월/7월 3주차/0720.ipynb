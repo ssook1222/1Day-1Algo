{
  "nbformat": 4,
  "nbformat_minor": 0,
  "metadata": {
    "colab": {
      "provenance": [],
      "authorship_tag": "ABX9TyP9RQghmJjvFoA9HhpA32gh",
      "include_colab_link": true
    },
    "kernelspec": {
      "name": "python3",
      "display_name": "Python 3"
    },
    "language_info": {
      "name": "python"
    }
  },
  "cells": [
    {
      "cell_type": "markdown",
      "metadata": {
        "id": "view-in-github",
        "colab_type": "text"
      },
      "source": [
        "<a href=\"https://colab.research.google.com/github/ssook1222/1Day-1Algo/blob/master/ssook/7%EC%9B%94/7%EC%9B%94%203%EC%A3%BC%EC%B0%A8/0720.ipynb\" target=\"_parent\"><img src=\"https://colab.research.google.com/assets/colab-badge.svg\" alt=\"Open In Colab\"/></a>"
      ]
    },
    {
      "cell_type": "markdown",
      "source": [
        "## BoJ"
      ],
      "metadata": {
        "id": "W56sbOBkdvO9"
      }
    },
    {
      "cell_type": "markdown",
      "source": [
        "### 14656"
      ],
      "metadata": {
        "id": "HlfpOj5Xdw08"
      }
    },
    {
      "cell_type": "code",
      "execution_count": 1,
      "metadata": {
        "colab": {
          "base_uri": "https://localhost:8080/"
        },
        "id": "ic2FTKxfdswe",
        "outputId": "212258c5-378d-4e8f-db19-649b017691f2"
      },
      "outputs": [
        {
          "output_type": "stream",
          "name": "stdout",
          "text": [
            "5\n",
            "3 2 5 4 1\n",
            "3\n"
          ]
        }
      ],
      "source": [
        "n = int(input())\n",
        "\n",
        "corr_order = [ i for i in range(1, n+1) ]\n",
        "real_order = list(map(int, input().split(\" \")))\n",
        "\n",
        "cnt = 0\n",
        "\n",
        "for k in range(n):\n",
        "  if real_order[k] != corr_order[k]:\n",
        "    cnt += 1\n",
        "\n",
        "print(cnt)"
      ]
    },
    {
      "cell_type": "markdown",
      "source": [
        "### 3043"
      ],
      "metadata": {
        "id": "aa8Pfb2zsBYa"
      }
    },
    {
      "cell_type": "code",
      "source": [
        "nan = [ int(input()) for i in range(9) ]\n",
        "\n",
        "for i in range(9):\n",
        "  for j in range(i+1, 9):\n",
        "    if sum(nan) - nan[i] - nan[j] == 100:\n",
        "      x, y = i, j\n",
        "      break\n",
        "\n",
        "nan.pop(x)\n",
        "nan.pop(y-1)\n",
        "\n",
        "for one in nan:\n",
        "  print(one)"
      ],
      "metadata": {
        "colab": {
          "base_uri": "https://localhost:8080/"
        },
        "id": "yKfdI_M6sBkL",
        "outputId": "e81ffc36-ad3e-41ab-9ea3-c778473bab8d"
      },
      "execution_count": 2,
      "outputs": [
        {
          "output_type": "stream",
          "name": "stdout",
          "text": [
            "7\n",
            "8\n",
            "10\n",
            "13\n",
            "15\n",
            "19\n",
            "20\n",
            "23\n",
            "25\n",
            "7\n",
            "8\n",
            "10\n",
            "13\n",
            "19\n",
            "20\n",
            "23\n"
          ]
        }
      ]
    },
    {
      "cell_type": "markdown",
      "source": [
        "---"
      ],
      "metadata": {
        "id": "2FAjg5Z9sCCh"
      }
    },
    {
      "cell_type": "markdown",
      "source": [
        "## HackerRank"
      ],
      "metadata": {
        "id": "MkTw5chWsEjb"
      }
    },
    {
      "cell_type": "markdown",
      "source": [
        "### Text Wrap"
      ],
      "metadata": {
        "id": "yjjx4qOhsDd_"
      }
    },
    {
      "cell_type": "code",
      "source": [
        "import textwrap\n",
        "\n",
        "def wrap(string, max_width):\n",
        "    new_list = textwrap.fill(string, width = max_width)\n",
        "    return new_list\n",
        "\n",
        "if __name__ == '__main__':\n",
        "    string, max_width = input(), int(input())\n",
        "    result = wrap(string, max_width)\n",
        "    print(result)"
      ],
      "metadata": {
        "id": "3xT-VV8tsDvG"
      },
      "execution_count": 1,
      "outputs": []
    },
    {
      "cell_type": "markdown",
      "source": [
        "Text Wrap이라는 내장 함수가 있음! 파이썬을 그렇게 많이 썼는데 처음본다..."
      ],
      "metadata": {
        "id": "juVSm4Qzwbw1"
      }
    }
  ]
}