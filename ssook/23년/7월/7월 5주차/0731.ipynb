{
  "nbformat": 4,
  "nbformat_minor": 0,
  "metadata": {
    "colab": {
      "provenance": [],
      "authorship_tag": "ABX9TyODGe/pb10M2K+lza5XnpKw",
      "include_colab_link": true
    },
    "kernelspec": {
      "name": "python3",
      "display_name": "Python 3"
    },
    "language_info": {
      "name": "python"
    }
  },
  "cells": [
    {
      "cell_type": "markdown",
      "metadata": {
        "id": "view-in-github",
        "colab_type": "text"
      },
      "source": [
        "<a href=\"https://colab.research.google.com/github/ssook1222/1Day-1Algo/blob/master/ssook/7%EC%9B%94/7%EC%9B%94%205%EC%A3%BC%EC%B0%A8/0731.ipynb\" target=\"_parent\"><img src=\"https://colab.research.google.com/assets/colab-badge.svg\" alt=\"Open In Colab\"/></a>"
      ]
    },
    {
      "cell_type": "markdown",
      "source": [
        "## BoJ"
      ],
      "metadata": {
        "id": "BTFQzOkhDVMZ"
      }
    },
    {
      "cell_type": "markdown",
      "source": [
        "### 9654"
      ],
      "metadata": {
        "id": "dPClbgFxDT-j"
      }
    },
    {
      "cell_type": "code",
      "execution_count": 1,
      "metadata": {
        "id": "igMv33OBDSqA",
        "colab": {
          "base_uri": "https://localhost:8080/"
        },
        "outputId": "6209ed44-fe45-4e7d-81e1-b488b5868e58"
      },
      "outputs": [
        {
          "output_type": "stream",
          "name": "stdout",
          "text": [
            "SHIP NAME      CLASS          DEPLOYMENT IN SERVICE\n",
            "N2 Bomber      Heavy Fighter  Limited    21        \n",
            "J-Type 327     Light Combat   Unlimited  1         \n",
            "NX Cruiser     Medium Fighter Limited    18        \n",
            "N1 Starfighter Medium Fighter Unlimited  25        \n",
            "Royal Cruiser  Light Combat   Limited    4         \n"
          ]
        }
      ],
      "source": [
        "print(\"SHIP NAME      CLASS          DEPLOYMENT IN SERVICE\")\n",
        "print(\"N2 Bomber      Heavy Fighter  Limited    21        \")\n",
        "print(\"J-Type 327     Light Combat   Unlimited  1         \")\n",
        "print(\"NX Cruiser     Medium Fighter Limited    18        \")\n",
        "print(\"N1 Starfighter Medium Fighter Unlimited  25        \")\n",
        "print(\"Royal Cruiser  Light Combat   Limited    4         \")"
      ]
    },
    {
      "cell_type": "markdown",
      "source": [
        "### 17478"
      ],
      "metadata": {
        "id": "fep4SW7RDUkp"
      }
    },
    {
      "cell_type": "code",
      "source": [
        "import sys\n",
        "sys.setrecursionlimit(10**8)\n",
        "\n",
        "def recursive(n, m):\n",
        "    print(((\"_\"*4)*n) + '\"재귀함수가 뭔가요?\"')\n",
        "\n",
        "    if n == m:\n",
        "        print(((\"_\"*4)*n) + '\"재귀함수는 자기 자신을 호출하는 함수라네\"')\n",
        "        print(((\"_\"*4)*n) + \"라고 답변하였지.\")\n",
        "        return\n",
        "\n",
        "    print(((\"_\"*4)*n) + '\"잘 들어보게. 옛날옛날 한 산 꼭대기에 이세상 모든 지식을 통달한 선인이 있었어.')\n",
        "    print(((\"_\"*4)*n) + \"마을 사람들은 모두 그 선인에게 수많은 질문을 했고, 모두 지혜롭게 대답해 주었지.\")\n",
        "    print(((\"_\"*4)*n) + '그의 답은 대부분 옳았다고 하네. 그런데 어느 날, 그 선인에게 한 선비가 찾아와서 물었어.\"')\n",
        "    recursive(n+1, m)\n",
        "    print(((\"_\"*4)*n) + \"라고 답변하였지.\")\n",
        "\n",
        "\n",
        "n = int(input())\n",
        "print(\"어느 한 컴퓨터공학과 학생이 유명한 교수님을 찾아가 물었다.\")\n",
        "recursive(0, n)"
      ],
      "metadata": {
        "id": "Hu1bsiqEDU4r",
        "colab": {
          "base_uri": "https://localhost:8080/"
        },
        "outputId": "df1be3f6-e012-413f-b7b9-d3d47d26b7b3"
      },
      "execution_count": 3,
      "outputs": [
        {
          "output_type": "stream",
          "name": "stdout",
          "text": [
            "3\n",
            "어느 한 컴퓨터공학과 학생이 유명한 교수님을 찾아가 물었다.\n",
            "\"재귀함수가 뭔가요?\"\n",
            "\"잘 들어보게. 옛날옛날 한 산 꼭대기에 이세상 모든 지식을 통달한 선인이 있었어.\n",
            "마을 사람들은 모두 그 선인에게 수많은 질문을 했고, 모두 지혜롭게 대답해 주었지.\n",
            "그의 답은 대부분 옳았다고 하네. 그런데 어느 날, 그 선인에게 한 선비가 찾아와서 물었어.\"\n",
            "____\"재귀함수가 뭔가요?\"\n",
            "____\"잘 들어보게. 옛날옛날 한 산 꼭대기에 이세상 모든 지식을 통달한 선인이 있었어.\n",
            "____마을 사람들은 모두 그 선인에게 수많은 질문을 했고, 모두 지혜롭게 대답해 주었지.\n",
            "____그의 답은 대부분 옳았다고 하네. 그런데 어느 날, 그 선인에게 한 선비가 찾아와서 물었어.\"\n",
            "________\"재귀함수가 뭔가요?\"\n",
            "________\"잘 들어보게. 옛날옛날 한 산 꼭대기에 이세상 모든 지식을 통달한 선인이 있었어.\n",
            "________마을 사람들은 모두 그 선인에게 수많은 질문을 했고, 모두 지혜롭게 대답해 주었지.\n",
            "________그의 답은 대부분 옳았다고 하네. 그런데 어느 날, 그 선인에게 한 선비가 찾아와서 물었어.\"\n",
            "____________\"재귀함수가 뭔가요?\"\n",
            "____________\"재귀함수는 자기 자신을 호출하는 함수라네\"\n",
            "____________라고 답변하였지.\n",
            "________라고 답변하였지.\n",
            "____라고 답변하였지.\n",
            "라고 답변하였지.\n"
          ]
        }
      ]
    },
    {
      "cell_type": "markdown",
      "source": [
        "---"
      ],
      "metadata": {
        "id": "gGm6NQ6IDZrn"
      }
    },
    {
      "cell_type": "markdown",
      "source": [
        "## HackerRank"
      ],
      "metadata": {
        "id": "-JkakxOBDVdb"
      }
    },
    {
      "cell_type": "markdown",
      "source": [
        "### itertools.combinations_with_replacement()"
      ],
      "metadata": {
        "id": "73TvO_-sDVsB"
      }
    },
    {
      "cell_type": "code",
      "source": [
        "from itertools import combinations_with_replacement\n",
        "\n",
        "s, num = map(str, input().split(\" \"))\n",
        "\n",
        "s = list(s)\n",
        "s.sort()\n",
        "num = int(num)\n",
        "\n",
        "res = combinations_with_replacement(s, num)\n",
        "\n",
        "for i in res:\n",
        "    print(*i, sep='')"
      ],
      "metadata": {
        "id": "8bllwO-hDV57"
      },
      "execution_count": null,
      "outputs": []
    }
  ]
}