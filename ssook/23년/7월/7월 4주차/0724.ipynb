{
  "nbformat": 4,
  "nbformat_minor": 0,
  "metadata": {
    "colab": {
      "provenance": [],
      "authorship_tag": "ABX9TyOImNP6TPOXsDXFUMeNwYKZ",
      "include_colab_link": true
    },
    "kernelspec": {
      "name": "python3",
      "display_name": "Python 3"
    },
    "language_info": {
      "name": "python"
    }
  },
  "cells": [
    {
      "cell_type": "markdown",
      "metadata": {
        "id": "view-in-github",
        "colab_type": "text"
      },
      "source": [
        "<a href=\"https://colab.research.google.com/github/ssook1222/1Day-1Algo/blob/master/ssook/7%EC%9B%94/7%EC%9B%94%204%EC%A3%BC%EC%B0%A8/0724.ipynb\" target=\"_parent\"><img src=\"https://colab.research.google.com/assets/colab-badge.svg\" alt=\"Open In Colab\"/></a>"
      ]
    },
    {
      "cell_type": "markdown",
      "source": [
        "## BoJ"
      ],
      "metadata": {
        "id": "T-PXB9jgxqIU"
      }
    },
    {
      "cell_type": "markdown",
      "source": [
        "브론즈5 다 풀어보기\n",
        "\n",
        "---"
      ],
      "metadata": {
        "id": "m6l4qLGpyB15"
      }
    },
    {
      "cell_type": "markdown",
      "source": [
        "### 15740"
      ],
      "metadata": {
        "id": "vKcF3ak8xr8g"
      }
    },
    {
      "cell_type": "code",
      "execution_count": 1,
      "metadata": {
        "id": "bIdYx9CExn1C",
        "colab": {
          "base_uri": "https://localhost:8080/"
        },
        "outputId": "2fe03996-6a75-4a6c-a34f-e42850e09bb9"
      },
      "outputs": [
        {
          "output_type": "stream",
          "name": "stdout",
          "text": [
            "1 2\n",
            "3\n"
          ]
        }
      ],
      "source": [
        "a, b = map(int, input().split(\" \"))\n",
        "print(a+b)"
      ]
    },
    {
      "cell_type": "markdown",
      "source": [
        "### 5339"
      ],
      "metadata": {
        "id": "kRO1roC9x5gt"
      }
    },
    {
      "cell_type": "code",
      "source": [
        "print(\"     /~\\\\\")\n",
        "print(\"    ( oo|\")\n",
        "print(\"    _\\=/_\")\n",
        "print(\"   /  _  \\\\\")\n",
        "print(\"  //|/.\\|\\\\\\\\\")\n",
        "print(\" ||  \\ /  ||\")\n",
        "print(\"============\")\n",
        "print(\"|          |\")\n",
        "print(\"|          |\")\n",
        "print(\"|          |\")"
      ],
      "metadata": {
        "id": "VBNCd74Qx5rz",
        "colab": {
          "base_uri": "https://localhost:8080/"
        },
        "outputId": "201f1740-401c-4527-e597-989be66454cf"
      },
      "execution_count": 4,
      "outputs": [
        {
          "output_type": "stream",
          "name": "stdout",
          "text": [
            "     /~\\\n",
            "    ( oo|\n",
            "    _\\=/_\n",
            "   /  _  \\\n",
            "  //|/.\\|\\\\\n",
            " ||  \\ /  ||\n",
            "============\n",
            "|          |\n",
            "|          |\n",
            "|          |\n"
          ]
        }
      ]
    },
    {
      "cell_type": "markdown",
      "source": [
        "### 1748"
      ],
      "metadata": {
        "id": "iug97l7BzGi3"
      }
    },
    {
      "cell_type": "code",
      "source": [
        "n = input()\n",
        "\n",
        "ori = len(n)-1\n",
        "ans = 0\n",
        "\n",
        "for i in range(ori):\n",
        "  ans += 9 * (10 ** i) * (i+1)\n",
        "  i += 1\n",
        "ans += ((int(n) - (10 ** ori) + 1) * (ori + 1) )\n",
        "\n",
        "print(ans)"
      ],
      "metadata": {
        "id": "o3hT3bRNzHrd",
        "colab": {
          "base_uri": "https://localhost:8080/"
        },
        "outputId": "066ef77a-5d38-4dd3-8107-e18c4d3d3d23"
      },
      "execution_count": 12,
      "outputs": [
        {
          "output_type": "stream",
          "name": "stdout",
          "text": [
            "15\n",
            "21\n"
          ]
        }
      ]
    },
    {
      "cell_type": "markdown",
      "source": [
        "주어진 숫자의 자릿수보다 하나 적은 자릿수의 수는 9 * (10)^(n-1)개,     \n",
        "여기에 각 자릿수를 곱하면 되는 규칙.    \n",
        "\n",
        "`9 * (10)^(n-1) * (n)` → 규칙   \n",
        "해당 규칙과 함께 마지막 자리수는 이전 개수를 빼서 똑같이 해주면 됨."
      ],
      "metadata": {
        "id": "_F6h4Ef-IQ6U"
      }
    },
    {
      "cell_type": "markdown",
      "source": [
        "---"
      ],
      "metadata": {
        "id": "JTZMe5CSyKuW"
      }
    },
    {
      "cell_type": "markdown",
      "source": [
        "## HackerRank"
      ],
      "metadata": {
        "id": "bzDVlPSQyBh9"
      }
    },
    {
      "cell_type": "markdown",
      "source": [
        "### Tuples"
      ],
      "metadata": {
        "id": "6y_PdjvqzSzk"
      }
    },
    {
      "cell_type": "code",
      "source": [
        "if __name__ == '__main__':\n",
        "    n = int(input())\n",
        "    integer_list = map(int, input().split())\n",
        "\n",
        "    print(hash(tuple(integer_list)))"
      ],
      "metadata": {
        "id": "D7vcn61VzTFS"
      },
      "execution_count": 12,
      "outputs": []
    }
  ]
}