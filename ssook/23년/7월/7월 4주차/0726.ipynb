{
  "nbformat": 4,
  "nbformat_minor": 0,
  "metadata": {
    "colab": {
      "provenance": [],
      "authorship_tag": "ABX9TyMOfG7Ibnyir4+HNX2bE02u",
      "include_colab_link": true
    },
    "kernelspec": {
      "name": "python3",
      "display_name": "Python 3"
    },
    "language_info": {
      "name": "python"
    }
  },
  "cells": [
    {
      "cell_type": "markdown",
      "metadata": {
        "id": "view-in-github",
        "colab_type": "text"
      },
      "source": [
        "<a href=\"https://colab.research.google.com/github/ssook1222/1Day-1Algo/blob/master/ssook/7%EC%9B%94/7%EC%9B%94%204%EC%A3%BC%EC%B0%A8/0726.ipynb\" target=\"_parent\"><img src=\"https://colab.research.google.com/assets/colab-badge.svg\" alt=\"Open In Colab\"/></a>"
      ]
    },
    {
      "cell_type": "markdown",
      "source": [
        "## BoJ"
      ],
      "metadata": {
        "id": "1omd3oo-BRaz"
      }
    },
    {
      "cell_type": "markdown",
      "source": [
        "브론즈 뽀개기~"
      ],
      "metadata": {
        "id": "W_GYhyRnB5xz"
      }
    },
    {
      "cell_type": "markdown",
      "source": [
        "### 15733"
      ],
      "metadata": {
        "id": "sneoakrMBVbT"
      }
    },
    {
      "cell_type": "code",
      "execution_count": 1,
      "metadata": {
        "id": "XkEIovxTBNJF",
        "colab": {
          "base_uri": "https://localhost:8080/"
        },
        "outputId": "67d296c8-9e6c-4c05-a162-5be6a444cbd8"
      },
      "outputs": [
        {
          "output_type": "stream",
          "name": "stdout",
          "text": [
            "I'm Sexy\n"
          ]
        }
      ],
      "source": [
        "print(\"I'm Sexy\")"
      ]
    },
    {
      "cell_type": "markdown",
      "source": [
        "### 8370"
      ],
      "metadata": {
        "id": "xpnMplJvBWGI"
      }
    },
    {
      "cell_type": "code",
      "source": [
        "a, b, c, d = map(int, input().split(\" \"))\n",
        "print(a*b + c*d)"
      ],
      "metadata": {
        "id": "9pPjgUHwBWTi",
        "colab": {
          "base_uri": "https://localhost:8080/"
        },
        "outputId": "afeece21-489c-4b22-d3b7-0d9fccc4412b"
      },
      "execution_count": 2,
      "outputs": [
        {
          "output_type": "stream",
          "name": "stdout",
          "text": [
            "2 5 3 20\n",
            "70\n"
          ]
        }
      ]
    },
    {
      "cell_type": "markdown",
      "source": [
        "---"
      ],
      "metadata": {
        "id": "lk1fDj4iB8_B"
      }
    },
    {
      "cell_type": "markdown",
      "source": [
        "## HackerRank"
      ],
      "metadata": {
        "id": "arg9SpUWB99g"
      }
    },
    {
      "cell_type": "markdown",
      "source": [
        "### Introduction to Sets"
      ],
      "metadata": {
        "id": "OwEWN3EzB-a2"
      }
    },
    {
      "cell_type": "code",
      "source": [
        "def average(array):\n",
        "    raw = set(array)\n",
        "    raw_list = list(raw)\n",
        "    raw_len = len(raw)\n",
        "    raw_hap = sum(raw_list)\n",
        "    return raw_hap / raw_len\n",
        "\n",
        "if __name__ == '__main__':\n",
        "    n = int(input())\n",
        "    arr = list(map(int, input().split()))\n",
        "    result = average(arr)\n",
        "    print(result)"
      ],
      "metadata": {
        "id": "UKUwFoCdB-u6"
      },
      "execution_count": null,
      "outputs": []
    }
  ]
}