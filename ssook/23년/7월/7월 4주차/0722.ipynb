{
  "nbformat": 4,
  "nbformat_minor": 0,
  "metadata": {
    "colab": {
      "provenance": [],
      "authorship_tag": "ABX9TyNlKorkawIjJBYAYk/TIemJ",
      "include_colab_link": true
    },
    "kernelspec": {
      "name": "python3",
      "display_name": "Python 3"
    },
    "language_info": {
      "name": "python"
    }
  },
  "cells": [
    {
      "cell_type": "markdown",
      "metadata": {
        "id": "view-in-github",
        "colab_type": "text"
      },
      "source": [
        "<a href=\"https://colab.research.google.com/github/ssook1222/1Day-1Algo/blob/master/ssook/7%EC%9B%94/7%EC%9B%94%204%EC%A3%BC%EC%B0%A8/0722.ipynb\" target=\"_parent\"><img src=\"https://colab.research.google.com/assets/colab-badge.svg\" alt=\"Open In Colab\"/></a>"
      ]
    },
    {
      "cell_type": "markdown",
      "source": [
        "## BoJ"
      ],
      "metadata": {
        "id": "gkrEcxWCv--a"
      }
    },
    {
      "cell_type": "markdown",
      "source": [
        "### 2740"
      ],
      "metadata": {
        "id": "3RiWjA_-yq5i"
      }
    },
    {
      "cell_type": "code",
      "source": [
        "import sys\n",
        "\n",
        "a1 = []\n",
        "a2 = []\n",
        "\n",
        "n, m = map(int, sys.stdin.readline().rstrip().split(\" \"))\n",
        "\n",
        "for i in range(n):\n",
        "  a1.append(list(map(int, sys.stdin.readline().rstrip().split(\" \"))))\n",
        "\n",
        "m, k = map(int, sys.stdin.readline().rstrip().split())\n",
        "\n",
        "for i in range(m):\n",
        "  a2.append(list(map(int, sys.stdin.readline().rstrip().split(\" \"))))\n",
        "\n",
        "res = [[0]*k for i in range(n)]\n",
        "\n",
        "for row in range(n):\n",
        "    for col in range(k):\n",
        "        e = 0\n",
        "        for i in range(m):\n",
        "            e += a1[row][i] * a2[i][col]\n",
        "        res[row][col] = e\n",
        "\n",
        "for i in res:\n",
        "  print(*i)"
      ],
      "metadata": {
        "colab": {
          "base_uri": "https://localhost:8080/"
        },
        "id": "6PXp-0aEyrL1",
        "outputId": "1a874d2c-3fff-4f31-804c-0d93ea067716"
      },
      "execution_count": 7,
      "outputs": [
        {
          "output_type": "stream",
          "name": "stdout",
          "text": [
            "3 2\n",
            "1 2\n",
            "3 4\n",
            "5 6\n",
            "2 3\n",
            "-1 -2 0\n",
            "0 0 3\n",
            "-1 -2 6\n",
            "-3 -6 12\n",
            "-5 -10 18\n"
          ]
        }
      ]
    },
    {
      "cell_type": "markdown",
      "source": [
        "#### numpy module error"
      ],
      "metadata": {
        "id": "Do5T7QZ5wBW-"
      }
    },
    {
      "cell_type": "markdown",
      "source": [
        "백준은 외부 라이브러리 사용이 안 됨...!"
      ],
      "metadata": {
        "id": "uWRVGY71zc3j"
      }
    },
    {
      "cell_type": "code",
      "execution_count": 5,
      "metadata": {
        "colab": {
          "base_uri": "https://localhost:8080/"
        },
        "id": "tc93rtxOv6Mn",
        "outputId": "7cb5334c-4e10-45b3-ab4f-79289e6af52d"
      },
      "outputs": [
        {
          "output_type": "stream",
          "name": "stdout",
          "text": [
            "3 2\n",
            "1 2\n",
            "3 4\n",
            "5 6\n",
            "2 3\n",
            "-1 -2 0\n",
            "0 0 3\n",
            "-1 -2 6\n",
            "-3 -6 12\n",
            "-5 -10 18\n"
          ]
        }
      ],
      "source": [
        "import numpy as np\n",
        "import sys\n",
        "\n",
        "a1 = []\n",
        "a2 = []\n",
        "\n",
        "n, m = map(int, sys.stdin.readline().rstrip().split(\" \"))\n",
        "\n",
        "for i in range(n):\n",
        "  a1.append(list(map(int, sys.stdin.readline().rstrip().split(\" \"))))\n",
        "\n",
        "n, m = map(int, sys.stdin.readline().rstrip().split())\n",
        "\n",
        "for i in range(n):\n",
        "  a2.append(list(map(int, sys.stdin.readline().rstrip().split(\" \"))))\n",
        "\n",
        "a1 = np.array(a1)\n",
        "a2 = np.array(a2)\n",
        "\n",
        "res = a1@a2\n",
        "\n",
        "for i in res:\n",
        "  print(*i)"
      ]
    },
    {
      "cell_type": "markdown",
      "source": [
        "### 11023"
      ],
      "metadata": {
        "id": "TEXWmSxuwBpM"
      }
    },
    {
      "cell_type": "code",
      "source": [
        "num_list = list(map(int, input().split(\" \")))\n",
        "\n",
        "print(sum(num_list))"
      ],
      "metadata": {
        "colab": {
          "base_uri": "https://localhost:8080/"
        },
        "id": "NOAuFjgGwB4E",
        "outputId": "312b1f83-cf00-4498-8b18-a1718426ae98"
      },
      "execution_count": 8,
      "outputs": [
        {
          "output_type": "stream",
          "name": "stdout",
          "text": [
            "1 2 3 4 5\n",
            "15\n"
          ]
        }
      ]
    },
    {
      "cell_type": "markdown",
      "source": [
        "---"
      ],
      "metadata": {
        "id": "pH3_4ygBwCGX"
      }
    },
    {
      "cell_type": "markdown",
      "source": [
        "## Programmers"
      ],
      "metadata": {
        "id": "hpqyrNCxwD6r"
      }
    },
    {
      "cell_type": "markdown",
      "source": [
        "### 행렬의 곱셈"
      ],
      "metadata": {
        "id": "IeThT3XSwGTR"
      }
    },
    {
      "cell_type": "code",
      "source": [
        "import numpy as np\n",
        "\n",
        "def solution(arr1, arr2):\n",
        "    a1 = np.array(arr1)\n",
        "    a2 = np.array(arr2)\n",
        "\n",
        "    answer = (a1@a2).tolist()\n",
        "    return answer"
      ],
      "metadata": {
        "id": "aQEpm6SCwCr1"
      },
      "execution_count": null,
      "outputs": []
    }
  ]
}