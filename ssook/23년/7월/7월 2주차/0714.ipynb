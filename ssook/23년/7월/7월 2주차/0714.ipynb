{
  "nbformat": 4,
  "nbformat_minor": 0,
  "metadata": {
    "colab": {
      "provenance": [],
      "authorship_tag": "ABX9TyNYvC+OkVHxFE6CQkxBjA/V",
      "include_colab_link": true
    },
    "kernelspec": {
      "name": "python3",
      "display_name": "Python 3"
    },
    "language_info": {
      "name": "python"
    }
  },
  "cells": [
    {
      "cell_type": "markdown",
      "metadata": {
        "id": "view-in-github",
        "colab_type": "text"
      },
      "source": [
        "<a href=\"https://colab.research.google.com/github/ssook1222/1Day-1Algo/blob/master/ssook/7%EC%9B%94/7%EC%9B%94%202%EC%A3%BC%EC%B0%A8/0714.ipynb\" target=\"_parent\"><img src=\"https://colab.research.google.com/assets/colab-badge.svg\" alt=\"Open In Colab\"/></a>"
      ]
    },
    {
      "cell_type": "markdown",
      "source": [
        "## BoJ"
      ],
      "metadata": {
        "id": "zBuFN-dwUlSq"
      }
    },
    {
      "cell_type": "markdown",
      "source": [
        "### 26040"
      ],
      "metadata": {
        "id": "H25XeDp2UnEl"
      }
    },
    {
      "cell_type": "code",
      "execution_count": 1,
      "metadata": {
        "id": "B3KGvk8TUjCt",
        "colab": {
          "base_uri": "https://localhost:8080/"
        },
        "outputId": "6c5c2e0a-09ff-40d0-f7ec-3204eb4203e3"
      },
      "outputs": [
        {
          "output_type": "stream",
          "name": "stdout",
          "text": [
            "ABabC\n",
            "A\n",
            "aBabC\n"
          ]
        }
      ],
      "source": [
        "a = input()\n",
        "b = input().split(\" \")\n",
        "\n",
        "for i in b:\n",
        "  a = a.replace(i, i.lower())\n",
        "\n",
        "print(a)"
      ]
    },
    {
      "cell_type": "markdown",
      "source": [
        "### 11098"
      ],
      "metadata": {
        "id": "Sp5l_t1JUnTh"
      }
    },
    {
      "cell_type": "code",
      "source": [
        "n = int(input())\n",
        "\n",
        "for i in range(n):\n",
        "  p = int(input())\n",
        "  money = []\n",
        "  name = []\n",
        "\n",
        "  for j in range(0, p):\n",
        "    player = list(map(str, input().split(\" \")))\n",
        "    money.append(int(player[0]))\n",
        "    name.append(player[1])\n",
        "\n",
        "  print(name[money.index(max(money))])"
      ],
      "metadata": {
        "id": "IM9dmm4QUnjL",
        "colab": {
          "base_uri": "https://localhost:8080/"
        },
        "outputId": "dc489aac-44f7-4c01-835e-f720f0f5fa22"
      },
      "execution_count": 12,
      "outputs": [
        {
          "output_type": "stream",
          "name": "stdout",
          "text": [
            "2\n",
            "3\n",
            "10 Iversen\n",
            "1000000 Nannskog\n",
            "2000000 Ronaldinho\n",
            "Ronaldinho\n",
            "2\n",
            "1000000 Maradona\n",
            "999999 Batistuta\n",
            "Maradona\n"
          ]
        }
      ]
    },
    {
      "cell_type": "markdown",
      "source": [
        "---"
      ],
      "metadata": {
        "id": "VTCAaBP5UoSm"
      }
    },
    {
      "cell_type": "markdown",
      "source": [
        "## HackerRank"
      ],
      "metadata": {
        "id": "MG2yP3itUo7Q"
      }
    },
    {
      "cell_type": "markdown",
      "source": [
        "### Finding the percentage"
      ],
      "metadata": {
        "id": "nc9fmq_5VpL_"
      }
    },
    {
      "cell_type": "code",
      "source": [
        "if __name__ == '__main__':\n",
        "    n = int(input())\n",
        "    student_marks = {}\n",
        "    everage_dict = {}\n",
        "\n",
        "    for _ in range(n):\n",
        "        name, *line = input().split()\n",
        "        scores = list(map(float, line))\n",
        "        hap = sum(scores)\n",
        "        student_marks[name] = scores\n",
        "        everage_dict[name] = hap / 3\n",
        "\n",
        "    query_name = input()\n",
        "    print('%.2f' %everage_dict[query_name])"
      ],
      "metadata": {
        "id": "Ld5s-LogUsVX"
      },
      "execution_count": null,
      "outputs": []
    }
  ]
}