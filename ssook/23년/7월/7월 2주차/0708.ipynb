{
  "nbformat": 4,
  "nbformat_minor": 0,
  "metadata": {
    "colab": {
      "provenance": [],
      "authorship_tag": "ABX9TyPorHQkZjSxw4lgLLab9yj4",
      "include_colab_link": true
    },
    "kernelspec": {
      "name": "python3",
      "display_name": "Python 3"
    },
    "language_info": {
      "name": "python"
    }
  },
  "cells": [
    {
      "cell_type": "markdown",
      "metadata": {
        "id": "view-in-github",
        "colab_type": "text"
      },
      "source": [
        "<a href=\"https://colab.research.google.com/github/ssook1222/1Day-1Algo/blob/master/ssook/7%EC%9B%94/7%EC%9B%94%202%EC%A3%BC%EC%B0%A8/0708.ipynb\" target=\"_parent\"><img src=\"https://colab.research.google.com/assets/colab-badge.svg\" alt=\"Open In Colab\"/></a>"
      ]
    },
    {
      "cell_type": "markdown",
      "source": [
        "## BoJ"
      ],
      "metadata": {
        "id": "r3_HaH2gjZCf"
      }
    },
    {
      "cell_type": "markdown",
      "source": [
        "### 10539"
      ],
      "metadata": {
        "id": "pQlA08-Sk2eP"
      }
    },
    {
      "cell_type": "code",
      "execution_count": 4,
      "metadata": {
        "colab": {
          "base_uri": "https://localhost:8080/"
        },
        "id": "Gjy1lDXUi_Sx",
        "outputId": "c429c400-dec8-488c-e806-d73b5781025d"
      },
      "outputs": [
        {
          "output_type": "stream",
          "name": "stdout",
          "text": [
            "4\n",
            "3 2 3 5\n",
            "3 1 5 11\n"
          ]
        }
      ],
      "source": [
        "n = int(input())\n",
        "num = list(map(int, input().split(\" \")))\n",
        "res = []\n",
        "for i in range(0, n):\n",
        "  if n == 1:\n",
        "    res.append(num[i]*(i+1))\n",
        "  else:\n",
        "    res.append(num[i]*(i+1)-sum(res))\n",
        "\n",
        "print(*res)"
      ]
    },
    {
      "cell_type": "markdown",
      "source": [
        "### 16953"
      ],
      "metadata": {
        "id": "G0DxXjQMk_rn"
      }
    },
    {
      "cell_type": "code",
      "source": [
        "from collections import deque\n",
        "\n",
        "def bfs(A, B):\n",
        "    queue = deque([(A, 1)])  # (현재 수, 연산 횟수)를 저장하는 큐\n",
        "    visited = set([A])  # 방문한 수를 저장하는 집합\n",
        "\n",
        "    while queue:\n",
        "        num, count = queue.popleft()\n",
        "\n",
        "        if num == B:\n",
        "            return count\n",
        "\n",
        "        # 2를 곱하는 연산\n",
        "        new_num = num * 2\n",
        "        if new_num not in visited and new_num <= B:\n",
        "            queue.append((new_num, count + 1))\n",
        "            visited.add(new_num)\n",
        "\n",
        "        # 1을 수의 가장 오른쪽에 추가하는 연산\n",
        "        new_num = num * 10 + 1\n",
        "        if new_num not in visited and new_num <= B:\n",
        "            queue.append((new_num, count + 1))\n",
        "            visited.add(new_num)\n",
        "\n",
        "    return -1\n",
        "\n",
        "# 입력 받기\n",
        "A, B = map(int, input().split())\n",
        "\n",
        "# 결과 출력\n",
        "print(bfs(A, B))"
      ],
      "metadata": {
        "colab": {
          "base_uri": "https://localhost:8080/"
        },
        "id": "V-pnTrewk_4U",
        "outputId": "50fdf18c-8e0d-40f4-d124-c50959b5860d"
      },
      "execution_count": 8,
      "outputs": [
        {
          "output_type": "stream",
          "name": "stdout",
          "text": [
            "4 42\n",
            "-1\n"
          ]
        }
      ]
    },
    {
      "cell_type": "markdown",
      "source": [
        "문제에서 주어진 두 가지 연산을 그래프로 나타내면 다음과 같습니다:\n",
        "\n",
        "2를 곱하는 연산: 현재 수를 2배로 증가시킵니다.\n",
        "1을 수의 가장 오른쪽에 추가하는 연산: 현재 수의 오른쪽에 1을 추가합니다.\n",
        "각 연산은 현재 수에서 새로운 수로 이동하는 것을 의미합니다. 이를 그래프의 간선으로 표현할 수 있습니다.\n",
        "\n",
        "따라서, 문제는 주어진 A에서 B로 도달하는데 필요한 최소 연산 횟수를 구하는 것입니다. 이는 A부터 시작하여 연산을 통해 B로 도달하는 최단 경로를 찾는 것으로 해석할 수 있습니다.\n",
        "\n",
        "BFS(너비 우선 탐색) 알고리즘을 사용하여 A부터 시작하여 B로 도달하는 최단 경로를 찾을 수 있습니다. 각 수를 그래프의 노드로 생각하고, 간선은 주어진 두 가지 연산으로 표현됩니다."
      ],
      "metadata": {
        "id": "hpQ8T4AQmEkR"
      }
    },
    {
      "cell_type": "markdown",
      "source": [
        "### 24313"
      ],
      "metadata": {
        "id": "bTJjrsqwvAxy"
      }
    },
    {
      "cell_type": "code",
      "source": [
        "a1, a0 = map(int, input().split(\" \"))\n",
        "c = int(input())\n",
        "n0 = int(input())\n",
        "\n",
        "if (a1*n0 + a0 <= c*n0) and a1 <= c:\n",
        "  print(1)\n",
        "\n",
        "else:\n",
        "  print(0)"
      ],
      "metadata": {
        "colab": {
          "base_uri": "https://localhost:8080/"
        },
        "id": "atP1SMHlmEPp",
        "outputId": "67b46ca1-3f48-4a3f-e5f5-dd5520597ea1"
      },
      "execution_count": 20,
      "outputs": [
        {
          "output_type": "stream",
          "name": "stdout",
          "text": [
            "7 7\n",
            "8\n",
            "1\n",
            "0\n"
          ]
        }
      ]
    },
    {
      "cell_type": "markdown",
      "source": [
        "---"
      ],
      "metadata": {
        "id": "ERvGzt49vCRE"
      }
    },
    {
      "cell_type": "markdown",
      "source": [
        "## LeetCode"
      ],
      "metadata": {
        "id": "OECXZBUevDKi"
      }
    },
    {
      "cell_type": "markdown",
      "source": [
        "### 1. Two Sum"
      ],
      "metadata": {
        "id": "Z1uodsohv-o3"
      }
    },
    {
      "cell_type": "code",
      "source": [
        "class Solution(object):\n",
        "    def twoSum(self, nums, target):\n",
        "        res = []\n",
        "        for i in range(len(nums)):\n",
        "            for j in range(i+1, len(nums)):\n",
        "                if target == nums[i] + nums[j]:\n",
        "                    res.append(i)\n",
        "                    res.append(j)\n",
        "\n",
        "        return res"
      ],
      "metadata": {
        "id": "i1Kd6anVvE9u"
      },
      "execution_count": null,
      "outputs": []
    }
  ]
}