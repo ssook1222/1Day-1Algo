{
  "nbformat": 4,
  "nbformat_minor": 0,
  "metadata": {
    "colab": {
      "provenance": [],
      "authorship_tag": "ABX9TyN5y2SiOhYGAkA6sRAeLcQx",
      "include_colab_link": true
    },
    "kernelspec": {
      "name": "python3",
      "display_name": "Python 3"
    },
    "language_info": {
      "name": "python"
    }
  },
  "cells": [
    {
      "cell_type": "markdown",
      "metadata": {
        "id": "view-in-github",
        "colab_type": "text"
      },
      "source": [
        "<a href=\"https://colab.research.google.com/github/ssook1222/1Day-1Algo/blob/master/ssook/7%EC%9B%94/7%EC%9B%94%202%EC%A3%BC%EC%B0%A8/0713.ipynb\" target=\"_parent\"><img src=\"https://colab.research.google.com/assets/colab-badge.svg\" alt=\"Open In Colab\"/></a>"
      ]
    },
    {
      "cell_type": "markdown",
      "source": [
        "## BoJ"
      ],
      "metadata": {
        "id": "ZZo3YAL9bFOE"
      }
    },
    {
      "cell_type": "markdown",
      "source": [
        "### 25703"
      ],
      "metadata": {
        "id": "2Bjx8HvybTKi"
      }
    },
    {
      "cell_type": "code",
      "execution_count": null,
      "metadata": {
        "colab": {
          "base_uri": "https://localhost:8080/"
        },
        "id": "S45cCiC5bB-b",
        "outputId": "43ba8158-d62b-4f4d-8557-57a87c13086c"
      },
      "outputs": [
        {
          "output_type": "stream",
          "name": "stdout",
          "text": [
            "9\n",
            "int a;\n",
            "int *ptr = &a;\n",
            "int **ptr2 = &ptr;\n",
            "int ***ptr3 = &ptr2;\n",
            "int ****ptr4 = &ptr3;\n",
            "int *****ptr5 = &ptr4;\n",
            "int ******ptr6 = &ptr5;\n",
            "int *******ptr7 = &ptr6;\n",
            "int ********ptr8 = &ptr7;\n",
            "int *********ptr9 = &ptr8;\n"
          ]
        }
      ],
      "source": [
        "n = int(input())\n",
        "print('int a;')\n",
        "print('int *ptr = &a;')\n",
        "for i in range(2, n+1):\n",
        "  print('int ', end = '')\n",
        "  print('*'*i, end = '' )\n",
        "  print('ptr'+str(i), end = ' ')\n",
        "  if i == 2:\n",
        "    print('= &ptr'+';')\n",
        "  else:\n",
        "    print('= &ptr'+str(i-1)+';')"
      ]
    },
    {
      "cell_type": "markdown",
      "source": [
        "### 1015"
      ],
      "metadata": {
        "id": "MjyXCuvbBf5D"
      }
    },
    {
      "cell_type": "code",
      "source": [
        "import sys\n",
        "\n",
        "n = int(sys.stdin.readline().rstrip())\n",
        "num_list_raw = list(map(int, sys.stdin.readline().rstrip().split()))\n",
        "\n",
        "sorted_indices = sorted(range(n), key=lambda i: num_list_raw[i])\n",
        "\n",
        "p = [0] * n\n",
        "current = 0\n",
        "\n",
        "for i in sorted_indices:\n",
        "    p[i] = current\n",
        "    current += 1\n",
        "\n",
        "print(' '.join(map(str, p)))"
      ],
      "metadata": {
        "colab": {
          "base_uri": "https://localhost:8080/"
        },
        "id": "UG-9X9ocBGIF",
        "outputId": "68ea8b72-43a7-4bd0-c269-66fc9a7e9ee8"
      },
      "execution_count": 29,
      "outputs": [
        {
          "output_type": "stream",
          "name": "stdout",
          "text": [
            "4\n",
            "2 1 3 1\n",
            "2 0 3 1\n"
          ]
        }
      ]
    },
    {
      "cell_type": "markdown",
      "source": [
        "---"
      ],
      "metadata": {
        "id": "2Mrcg-7KB1yM"
      }
    },
    {
      "cell_type": "markdown",
      "source": [
        "### Basic Data Types > Lists"
      ],
      "metadata": {
        "id": "oZgI1z2kB244"
      }
    },
    {
      "cell_type": "code",
      "source": [
        "if __name__ == '__main__':\n",
        "\n",
        "    N = int(input())\n",
        "    res = []\n",
        "\n",
        "    for i in range(N):\n",
        "        cmd = input().split(\" \")\n",
        "\n",
        "        if cmd[0] == 'append':\n",
        "            res.append(int(cmd[1]))\n",
        "\n",
        "        if cmd[0] == 'insert':\n",
        "            res.insert(int(cmd[1]), int(cmd[2]))\n",
        "\n",
        "        if cmd[0] == 'print':\n",
        "            print(res)\n",
        "\n",
        "        if cmd[0] == 'sort':\n",
        "            res.sort()\n",
        "\n",
        "        if cmd[0] == 'reverse':\n",
        "            res.sort(reverse = True)\n",
        "\n",
        "        if cmd[0] == 'pop':\n",
        "            del res[-1]\n",
        "\n",
        "        if cmd[0] == 'remove':\n",
        "            res.remove(int(cmd[1]))"
      ],
      "metadata": {
        "id": "vEvaKLttB3M1"
      },
      "execution_count": null,
      "outputs": []
    }
  ]
}