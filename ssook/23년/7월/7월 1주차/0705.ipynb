{
  "nbformat": 4,
  "nbformat_minor": 0,
  "metadata": {
    "colab": {
      "provenance": [],
      "authorship_tag": "ABX9TyO+0TMKiq1/mQL2PeEa/U/I",
      "include_colab_link": true
    },
    "kernelspec": {
      "name": "python3",
      "display_name": "Python 3"
    },
    "language_info": {
      "name": "python"
    }
  },
  "cells": [
    {
      "cell_type": "markdown",
      "metadata": {
        "id": "view-in-github",
        "colab_type": "text"
      },
      "source": [
        "<a href=\"https://colab.research.google.com/github/ssook1222/1Day-1Algo/blob/master/ssook/7%EC%9B%94/7%EC%9B%94%201%EC%A3%BC%EC%B0%A8/0705.ipynb\" target=\"_parent\"><img src=\"https://colab.research.google.com/assets/colab-badge.svg\" alt=\"Open In Colab\"/></a>"
      ]
    },
    {
      "cell_type": "markdown",
      "source": [
        "## BoJ"
      ],
      "metadata": {
        "id": "jcDY6abbOCgl"
      }
    },
    {
      "cell_type": "markdown",
      "source": [
        "### 10103"
      ],
      "metadata": {
        "id": "i0BsNOYMOEHQ"
      }
    },
    {
      "cell_type": "code",
      "execution_count": 2,
      "metadata": {
        "colab": {
          "base_uri": "https://localhost:8080/"
        },
        "id": "x18y0VzFN_-c",
        "outputId": "c73fe9e9-272d-4763-8323-4102b952dbc6"
      },
      "outputs": [
        {
          "output_type": "stream",
          "name": "stdout",
          "text": [
            "4\n",
            "5 6\n",
            "6 6\n",
            "4 3\n",
            "5 2\n",
            "94\n",
            "91\n"
          ]
        }
      ],
      "source": [
        "n = int(input())\n",
        "\n",
        "one_score = 100\n",
        "two_score = 100\n",
        "\n",
        "for i in range(n):\n",
        "  one, two = map(int, input().split(\" \"))\n",
        "\n",
        "\n",
        "  if one == two :\n",
        "    pass\n",
        "  else:\n",
        "    if one > two:\n",
        "      two_score = two_score - one\n",
        "    elif two > one:\n",
        "      one_score = one_score - two\n",
        "\n",
        "print(one_score)\n",
        "print(two_score)"
      ]
    },
    {
      "cell_type": "markdown",
      "source": [
        "### 1731"
      ],
      "metadata": {
        "id": "VxKFzqvtr-DF"
      }
    },
    {
      "cell_type": "code",
      "source": [
        "n = int(input())\n",
        "num = [ int(input()) for i in range(n) ]\n",
        "\n",
        "if num[1]- num[0] == num[2] - num[1]:\n",
        "  print(num[-1] + ( num[1] - num[0] ))\n",
        "\n",
        "else:\n",
        "  print(num[-1] * ( num[1] // num[0] ))"
      ],
      "metadata": {
        "colab": {
          "base_uri": "https://localhost:8080/"
        },
        "id": "OuhRI2-Nr-Vj",
        "outputId": "6c2f5a73-e394-4653-d942-4073d7458ebc"
      },
      "execution_count": 4,
      "outputs": [
        {
          "output_type": "stream",
          "name": "stdout",
          "text": [
            "8\n",
            "394\n",
            "1172\n",
            "1950\n",
            "2728\n",
            "3506\n",
            "4284\n",
            "5062\n",
            "5840\n",
            "6618\n"
          ]
        }
      ]
    },
    {
      "cell_type": "markdown",
      "source": [
        "### 2998"
      ],
      "metadata": {
        "id": "j7kWI1J-tT-k"
      }
    },
    {
      "cell_type": "code",
      "source": [
        "n = oct(int(input(),2))\n",
        "print(n[2:])"
      ],
      "metadata": {
        "colab": {
          "base_uri": "https://localhost:8080/"
        },
        "id": "Jnzbc-NatURT",
        "outputId": "b81b269d-837e-4a36-b092-f266ab6be205"
      },
      "execution_count": 6,
      "outputs": [
        {
          "output_type": "stream",
          "name": "stdout",
          "text": [
            "1010\n",
            "12\n"
          ]
        }
      ]
    }
  ]
}