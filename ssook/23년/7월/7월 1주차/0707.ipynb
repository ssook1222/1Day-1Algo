{
  "nbformat": 4,
  "nbformat_minor": 0,
  "metadata": {
    "colab": {
      "provenance": [],
      "authorship_tag": "ABX9TyPZ63/ZceOHmxBSXua2aGN7",
      "include_colab_link": true
    },
    "kernelspec": {
      "name": "python3",
      "display_name": "Python 3"
    },
    "language_info": {
      "name": "python"
    }
  },
  "cells": [
    {
      "cell_type": "markdown",
      "metadata": {
        "id": "view-in-github",
        "colab_type": "text"
      },
      "source": [
        "<a href=\"https://colab.research.google.com/github/ssook1222/1Day-1Algo/blob/master/ssook/7%EC%9B%94/7%EC%9B%94%201%EC%A3%BC%EC%B0%A8/0707.ipynb\" target=\"_parent\"><img src=\"https://colab.research.google.com/assets/colab-badge.svg\" alt=\"Open In Colab\"/></a>"
      ]
    },
    {
      "cell_type": "markdown",
      "source": [
        "## BoJ"
      ],
      "metadata": {
        "id": "R5ynn8LIXocG"
      }
    },
    {
      "cell_type": "markdown",
      "source": [
        "### 3059"
      ],
      "metadata": {
        "id": "AnDmilSxXxq8"
      }
    },
    {
      "cell_type": "code",
      "execution_count": null,
      "metadata": {
        "id": "sIigYNLRXhZp",
        "colab": {
          "base_uri": "https://localhost:8080/"
        },
        "outputId": "7c60343f-5c5c-41bd-c624-3ed3b36ffb22"
      },
      "outputs": [
        {
          "output_type": "stream",
          "name": "stdout",
          "text": [
            "2\n",
            "ABCDEFGHIJKLMNOPQRSTUVW\n",
            "267\n",
            "A\n",
            "1950\n"
          ]
        }
      ],
      "source": [
        "ori = list(map(str, 'ABCDEFGHIJKLMNOPQRSTUVWXYZ'))\n",
        "\n",
        "t = int(input())\n",
        "\n",
        "for _ in range(t):\n",
        "\n",
        "  s = list(map(str, input()))\n",
        "  hap = 0\n",
        "\n",
        "  for c in ori:\n",
        "    if c not in s:\n",
        "      hap += ord(c)\n",
        "\n",
        "  print(hap)"
      ]
    },
    {
      "cell_type": "markdown",
      "source": [
        "###11943"
      ],
      "metadata": {
        "id": "L84mn9klaXu0"
      }
    },
    {
      "cell_type": "code",
      "source": [
        "a, b = map(int, input().split(' '))\n",
        "c, d = map(int, input().split(' '))\n",
        "\n",
        "cnt = 0\n",
        "print(min(a+d, b+c))"
      ],
      "metadata": {
        "colab": {
          "base_uri": "https://localhost:8080/"
        },
        "id": "_Sq_c3jsaaAk",
        "outputId": "48d343c7-bf12-4d3b-fd7a-d00d276bb364"
      },
      "execution_count": null,
      "outputs": [
        {
          "output_type": "stream",
          "name": "stdout",
          "text": [
            "1 2\n",
            "3 4\n",
            "5\n"
          ]
        }
      ]
    },
    {
      "cell_type": "markdown",
      "source": [
        "### 16916"
      ],
      "metadata": {
        "id": "bwScjfUYbtoi"
      }
    },
    {
      "cell_type": "code",
      "source": [
        "s = input()\n",
        "p = input()\n",
        "\n",
        "if p in s:\n",
        "  print(1)\n",
        "else:\n",
        "  print(0)"
      ],
      "metadata": {
        "id": "s_MG4e-KbwCO",
        "colab": {
          "base_uri": "https://localhost:8080/"
        },
        "outputId": "dfd17a36-a678-4abf-cae5-88072612f382"
      },
      "execution_count": 12,
      "outputs": [
        {
          "output_type": "stream",
          "name": "stdout",
          "text": [
            "baekjoon\n",
            "aek\n",
            "1\n"
          ]
        }
      ]
    }
  ]
}