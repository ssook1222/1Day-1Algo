{
  "nbformat": 4,
  "nbformat_minor": 0,
  "metadata": {
    "colab": {
      "provenance": [],
      "authorship_tag": "ABX9TyMTn5yvPH44bwLiZCYKqs+u",
      "include_colab_link": true
    },
    "kernelspec": {
      "name": "python3",
      "display_name": "Python 3"
    },
    "language_info": {
      "name": "python"
    }
  },
  "cells": [
    {
      "cell_type": "markdown",
      "metadata": {
        "id": "view-in-github",
        "colab_type": "text"
      },
      "source": [
        "<a href=\"https://colab.research.google.com/github/ssook1222/1Day-1Algo/blob/master/ssook/7%EC%9B%94/7%EC%9B%94%201%EC%A3%BC%EC%B0%A8/0703.ipynb\" target=\"_parent\"><img src=\"https://colab.research.google.com/assets/colab-badge.svg\" alt=\"Open In Colab\"/></a>"
      ]
    },
    {
      "cell_type": "markdown",
      "source": [
        "## BoJ\n",
        "---\n",
        "결산 시즌 브론즈 뽀개기!"
      ],
      "metadata": {
        "id": "2cVwY4dY6u1C"
      }
    },
    {
      "cell_type": "markdown",
      "source": [
        "### 15894"
      ],
      "metadata": {
        "id": "Qhdu_J1C6wAh"
      }
    },
    {
      "cell_type": "code",
      "execution_count": 1,
      "metadata": {
        "colab": {
          "base_uri": "https://localhost:8080/"
        },
        "id": "hGTvwc9X6n8E",
        "outputId": "5b988138-66f4-4c1f-fdd2-4d274f346457"
      },
      "outputs": [
        {
          "output_type": "stream",
          "name": "stdout",
          "text": [
            "1\n",
            "4\n"
          ]
        }
      ],
      "source": [
        "print(int(input())*4)"
      ]
    },
    {
      "cell_type": "markdown",
      "source": [
        "### 17362"
      ],
      "metadata": {
        "id": "R2_4vS597io5"
      }
    },
    {
      "cell_type": "code",
      "source": [
        "n = int(input()) % 8\n",
        "\n",
        "if n in [2, 0]:\n",
        "  print(2)\n",
        "\n",
        "elif n in [3, 7]:\n",
        "  print(3)\n",
        "\n",
        "elif n in [4, 6]:\n",
        "  print(4)\n",
        "\n",
        "else:\n",
        "  print(n)"
      ],
      "metadata": {
        "colab": {
          "base_uri": "https://localhost:8080/"
        },
        "id": "6sUs-Dwk7i37",
        "outputId": "a1a6b7a0-dee5-44cf-ee12-f83ee24ba63b"
      },
      "execution_count": 2,
      "outputs": [
        {
          "output_type": "stream",
          "name": "stdout",
          "text": [
            "1000\n",
            "2\n"
          ]
        }
      ]
    },
    {
      "cell_type": "markdown",
      "source": [
        "### 5073"
      ],
      "metadata": {
        "id": "ns6VUQjL9VBB"
      }
    },
    {
      "cell_type": "code",
      "source": [
        "while True:\n",
        "  a, b, c = map(int, input().split(\" \"))\n",
        "  ml = max(a,b,c)\n",
        "  hap = 0\n",
        "\n",
        "  if ml == a:\n",
        "    hap = b + c\n",
        "\n",
        "  if ml == b:\n",
        "    hap = a + b\n",
        "\n",
        "  if ml == c:\n",
        "    hap = a + b\n",
        "\n",
        "\n",
        "  if a == b == c == 0:\n",
        "    break\n",
        "\n",
        "  else:\n",
        "    if ml >= hap:\n",
        "      print(\"Invalid\")\n",
        "\n",
        "    else:\n",
        "      if a == b == c :\n",
        "        print(\"Equilateral\")\n",
        "\n",
        "      elif (a == b and a != c) or (a == c and a != b) or (b == c and a != b):\n",
        "        print(\"Isosceles\")\n",
        "\n",
        "      else:\n",
        "        print(\"Scalene\")"
      ],
      "metadata": {
        "colab": {
          "base_uri": "https://localhost:8080/"
        },
        "id": "1eXaFOFg9VQ4",
        "outputId": "83c4427b-10d4-4500-ff51-35a675098b36"
      },
      "execution_count": 5,
      "outputs": [
        {
          "name": "stdout",
          "output_type": "stream",
          "text": [
            "3 2 5\n",
            "Invalid\n",
            "6 2 6\n",
            "Isosceles\n",
            "0 0 0\n"
          ]
        }
      ]
    }
  ]
}