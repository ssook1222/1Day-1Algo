{
  "nbformat": 4,
  "nbformat_minor": 0,
  "metadata": {
    "colab": {
      "provenance": [],
      "authorship_tag": "ABX9TyPZR81k4KJLp4gI64cJH1Vt",
      "include_colab_link": true
    },
    "kernelspec": {
      "name": "python3",
      "display_name": "Python 3"
    },
    "language_info": {
      "name": "python"
    }
  },
  "cells": [
    {
      "cell_type": "markdown",
      "metadata": {
        "id": "view-in-github",
        "colab_type": "text"
      },
      "source": [
        "<a href=\"https://colab.research.google.com/github/ssook1222/1Day-1Algo/blob/master/ssook/9%EC%9B%94/9%EC%9B%94%201%EC%A3%BC%EC%B0%A8/0905.ipynb\" target=\"_parent\"><img src=\"https://colab.research.google.com/assets/colab-badge.svg\" alt=\"Open In Colab\"/></a>"
      ]
    },
    {
      "cell_type": "markdown",
      "source": [
        "## BoJ"
      ],
      "metadata": {
        "id": "7UBuNeKmhhlC"
      }
    },
    {
      "cell_type": "markdown",
      "source": [
        "### 9772"
      ],
      "metadata": {
        "id": "sXzABfqNhitE"
      }
    },
    {
      "cell_type": "code",
      "execution_count": 3,
      "metadata": {
        "colab": {
          "base_uri": "https://localhost:8080/"
        },
        "id": "64vYmPoNhfxW",
        "outputId": "ade28615-20c9-4660-e423-4b8c6e966647"
      },
      "outputs": [
        {
          "output_type": "stream",
          "name": "stdout",
          "text": [
            "1 2\n",
            "Q1\n",
            "-1 -0.12\n",
            "Q3\n",
            "4 0\n",
            "AXIS\n",
            "-10.4 200\n",
            "Q2\n",
            "0 0\n",
            "AXIS\n"
          ]
        }
      ],
      "source": [
        "while True:\n",
        "  x, y = map(float, input().split())\n",
        "\n",
        "  if x == y == 0:\n",
        "    print(\"AXIS\")\n",
        "    break\n",
        "\n",
        "  else:\n",
        "    if x > 0  and y > 0 :\n",
        "      print(\"Q1\")\n",
        "\n",
        "    elif x < 0 and y > 0 :\n",
        "      print(\"Q2\")\n",
        "\n",
        "    elif x > 0  and y < 0 :\n",
        "      print(\"Q4\")\n",
        "\n",
        "    elif x < 0 and y < 0 :\n",
        "      print(\"Q3\")\n",
        "\n",
        "    else:\n",
        "      print(\"AXIS\")"
      ]
    },
    {
      "cell_type": "markdown",
      "source": [
        "### 6177"
      ],
      "metadata": {
        "id": "N4wakBZyhi3D"
      }
    },
    {
      "cell_type": "code",
      "source": [
        "n = int(input())\n",
        "num = []\n",
        "\n",
        "for i in range(n):\n",
        "  num.append(int(input()))\n",
        "\n",
        "num.sort()\n",
        "\n",
        "print(\"{:.6f}\".format(sum(num) / n))\n",
        "\n",
        "if n % 2 == 0:\n",
        "  if n > 2 :\n",
        "    mid = n // 2\n",
        "    print(\"{:.6f}\".format((num[mid]+num[mid+1])/2))\n",
        "  else:\n",
        "    mid = n // 2\n",
        "    print(\"{:.6f}\".format((num[0]+num[1])/2))\n",
        "\n",
        "else:\n",
        "  mid = (n // 2)\n",
        "  print(\"{:.6f}\".format(num[mid]))"
      ],
      "metadata": {
        "colab": {
          "base_uri": "https://localhost:8080/"
        },
        "id": "SyNLN-vQhjJG",
        "outputId": "dea806f8-0c39-4710-f164-df1936957a2b"
      },
      "execution_count": 14,
      "outputs": [
        {
          "output_type": "stream",
          "name": "stdout",
          "text": [
            "2\n",
            "-1\n",
            "-2\n",
            "-1.500000\n",
            "-1.500000\n"
          ]
        }
      ]
    },
    {
      "cell_type": "markdown",
      "source": [
        "----"
      ],
      "metadata": {
        "id": "i0zBAtQ_hkRr"
      }
    },
    {
      "cell_type": "markdown",
      "source": [
        "## LeetCode\n"
      ],
      "metadata": {
        "id": "gXPyIVQShjnc"
      }
    },
    {
      "cell_type": "markdown",
      "source": [
        "### 1920. Build Array from Permutation\n"
      ],
      "metadata": {
        "id": "DLc5JZXuhm0h"
      }
    },
    {
      "cell_type": "code",
      "source": [
        "class Solution:\n",
        "    def buildArray(self, nums: List[int]) -> List[int]:\n",
        "        res = []\n",
        "        for i in range(len(nums)):\n",
        "            res.append(nums[nums[i]])\n",
        "        return res"
      ],
      "metadata": {
        "id": "8O85HcGLhj1r"
      },
      "execution_count": 14,
      "outputs": []
    }
  ]
}