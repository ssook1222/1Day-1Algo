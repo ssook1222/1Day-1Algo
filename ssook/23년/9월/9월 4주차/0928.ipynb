{
  "nbformat": 4,
  "nbformat_minor": 0,
  "metadata": {
    "colab": {
      "provenance": [],
      "authorship_tag": "ABX9TyOim0Ro4wYGIbdx5IH7L1YH",
      "include_colab_link": true
    },
    "kernelspec": {
      "name": "python3",
      "display_name": "Python 3"
    },
    "language_info": {
      "name": "python"
    }
  },
  "cells": [
    {
      "cell_type": "markdown",
      "metadata": {
        "id": "view-in-github",
        "colab_type": "text"
      },
      "source": [
        "<a href=\"https://colab.research.google.com/github/ssook1222/1Day-1Algo/blob/master/ssook/9%EC%9B%94/9%EC%9B%94%204%EC%A3%BC%EC%B0%A8/0928.ipynb\" target=\"_parent\"><img src=\"https://colab.research.google.com/assets/colab-badge.svg\" alt=\"Open In Colab\"/></a>"
      ]
    },
    {
      "cell_type": "markdown",
      "source": [
        "## BoJ"
      ],
      "metadata": {
        "id": "Y742zP7QlO-c"
      }
    },
    {
      "cell_type": "markdown",
      "source": [
        "### 30031"
      ],
      "metadata": {
        "id": "ai4YNHVhlRF6"
      }
    },
    {
      "cell_type": "code",
      "execution_count": 5,
      "metadata": {
        "colab": {
          "base_uri": "https://localhost:8080/"
        },
        "id": "3i4zsoiQlMEd",
        "outputId": "cb483827-a313-4b10-813b-b80eed6d932d"
      },
      "outputs": [
        {
          "output_type": "stream",
          "name": "stdout",
          "text": [
            "4\n",
            "136 68\n",
            "142 68\n",
            "148 68\n",
            "154 68\n",
            "66000\n"
          ]
        }
      ],
      "source": [
        "n = int(input())\n",
        "hap = 0\n",
        "\n",
        "for i in range(n):\n",
        "  a, b = map(int, input().split())\n",
        "  if a == 136:\n",
        "    hap += 1000\n",
        "  elif a == 142:\n",
        "    hap += 5000\n",
        "  elif a == 148:\n",
        "    hap += 10000\n",
        "  elif a == 154:\n",
        "    hap += 50000\n",
        "\n",
        "print(hap)"
      ]
    },
    {
      "cell_type": "markdown",
      "source": [
        "### 8321"
      ],
      "metadata": {
        "id": "G6Zidr3wlSHg"
      }
    },
    {
      "cell_type": "code",
      "source": [
        "while True:\n",
        "  try:\n",
        "    n, k, s = map(int, input().split())\n",
        "    a = list(map(int, input().split()))\n",
        "    a.sort(reverse=True)\n",
        "\n",
        "    k *= s\n",
        "    total = 0\n",
        "    pos = 0\n",
        "\n",
        "    while total < k:\n",
        "      total += a[pos]\n",
        "      pos += 1\n",
        "      print(pos)\n",
        "\n",
        "  except EOFError:\n",
        "    break"
      ],
      "metadata": {
        "colab": {
          "base_uri": "https://localhost:8080/"
        },
        "id": "TdqwoWrplSZH",
        "outputId": "8bdf6de4-cdc4-436e-f13f-b8c3e64b7606"
      },
      "execution_count": 12,
      "outputs": [
        {
          "output_type": "stream",
          "name": "stdout",
          "text": [
            "1 2 7\n",
            "18\n",
            "1\n"
          ]
        }
      ]
    },
    {
      "cell_type": "markdown",
      "source": [
        "---"
      ],
      "metadata": {
        "id": "FTLnmf_XlVCL"
      }
    },
    {
      "cell_type": "markdown",
      "source": [
        "## LeetCode"
      ],
      "metadata": {
        "id": "2Yixy6gVlWTc"
      }
    },
    {
      "cell_type": "markdown",
      "source": [
        "### 2520. Count the Digits That Divide a Number\n"
      ],
      "metadata": {
        "id": "M5WnJpd0lYV4"
      }
    },
    {
      "cell_type": "code",
      "source": [
        "class Solution:\n",
        "    def countDigits(self, num: int) -> int:\n",
        "        raw = str(num)\n",
        "\n",
        "        if len(raw) == 1:\n",
        "            return 1\n",
        "        else:\n",
        "            nums = list(raw)\n",
        "            cnt = 0\n",
        "            for n in nums:\n",
        "                if num % int(n) == 0:\n",
        "                    cnt += 1\n",
        "            return cnt"
      ],
      "metadata": {
        "id": "hP0YQykPlYv0"
      },
      "execution_count": null,
      "outputs": []
    }
  ]
}