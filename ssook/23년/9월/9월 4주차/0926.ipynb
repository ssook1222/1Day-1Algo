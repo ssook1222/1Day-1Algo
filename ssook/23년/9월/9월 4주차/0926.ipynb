{
  "nbformat": 4,
  "nbformat_minor": 0,
  "metadata": {
    "colab": {
      "provenance": [],
      "authorship_tag": "ABX9TyPqw/p6YF1ny1KZI27HpyxT",
      "include_colab_link": true
    },
    "kernelspec": {
      "name": "python3",
      "display_name": "Python 3"
    },
    "language_info": {
      "name": "python"
    }
  },
  "cells": [
    {
      "cell_type": "markdown",
      "metadata": {
        "id": "view-in-github",
        "colab_type": "text"
      },
      "source": [
        "<a href=\"https://colab.research.google.com/github/ssook1222/1Day-1Algo/blob/master/ssook/9%EC%9B%94/9%EC%9B%94%204%EC%A3%BC%EC%B0%A8/0926.ipynb\" target=\"_parent\"><img src=\"https://colab.research.google.com/assets/colab-badge.svg\" alt=\"Open In Colab\"/></a>"
      ]
    },
    {
      "cell_type": "markdown",
      "source": [
        "## BoJ"
      ],
      "metadata": {
        "id": "_P7D7cW9ovCu"
      }
    },
    {
      "cell_type": "markdown",
      "source": [
        "### 29736"
      ],
      "metadata": {
        "id": "0YI3B3O9owO2"
      }
    },
    {
      "cell_type": "code",
      "execution_count": 4,
      "metadata": {
        "colab": {
          "base_uri": "https://localhost:8080/"
        },
        "id": "uieQG0UxotlP",
        "outputId": "2928a93a-9f6a-4fb1-eddc-8d37e6e1fdef"
      },
      "outputs": [
        {
          "output_type": "stream",
          "name": "stdout",
          "text": [
            "25 75\n",
            "10 5\n",
            "IMPOSSIBLE\n"
          ]
        }
      ],
      "source": [
        "a, b = map(int, input().split())\n",
        "k, x = map(int, input().split())\n",
        "\n",
        "min_okay_raw = max(k - x, a)\n",
        "max_okay_raw = min(k + x, b)\n",
        "\n",
        "if max_okay_raw - min_okay_raw + 1 > 0:\n",
        "  print(max_okay_raw - min_okay_raw + 1)\n",
        "else:\n",
        "  print('IMPOSSIBLE')"
      ]
    },
    {
      "cell_type": "markdown",
      "source": [
        "### 6474"
      ],
      "metadata": {
        "id": "SdAcxIjjoxCZ"
      }
    },
    {
      "cell_type": "code",
      "source": [
        "import sys\n",
        "\n",
        "mirror = {'A': 'A', 'M':'M', 'Y':'Y', 'Z':'5', 'O':'O', '1':'1', '2':'S', 'E':'3', '3':'E', 'S':'2', '5':'Z', 'H':'H', 'T':'T', 'I': 'I', 'U':'U', 'J':'L', 'V':'V', '8':'8', 'W':'W', 'L':'J', 'X':'X'}\n",
        "\n",
        "while True:\n",
        "    try:\n",
        "        s = sys.stdin.readline().rstrip()\n",
        "\n",
        "        # 파일의 끝에 도달하면 루프를 종료합니다.\n",
        "        if not s:\n",
        "            break\n",
        "\n",
        "        m_check = False\n",
        "        p_check = False\n",
        "\n",
        "        if s[::-1] != s:\n",
        "            p_check = False\n",
        "            for c in s:\n",
        "                if c in mirror:\n",
        "                    m_check = True\n",
        "                else:\n",
        "                    m_check = False\n",
        "                    break\n",
        "        else:\n",
        "            p_check = True\n",
        "            for c in s:\n",
        "                if c in mirror:\n",
        "                    m_check = True\n",
        "                else:\n",
        "                    m_check = False\n",
        "                    break\n",
        "\n",
        "        if m_check and p_check:\n",
        "            print('%s -- is a mirrored palindrome.\\n' % s)\n",
        "        elif m_check and not p_check:\n",
        "            print('%s -- is a mirrored string.\\n' % s)\n",
        "        elif not m_check and p_check:\n",
        "            print('%s -- is a palindrome.\\n' % s)\n",
        "        elif not m_check and not p_check:\n",
        "            print('%s -- is not a palindrome.\\n' % s)\n",
        "\n",
        "    except EOFError:\n",
        "        break"
      ],
      "metadata": {
        "colab": {
          "base_uri": "https://localhost:8080/"
        },
        "id": "sSPMQXn3ox4Q",
        "outputId": "5e768c77-6ddd-453e-9dbc-5fc1b3e122bb"
      },
      "execution_count": 5,
      "outputs": [
        {
          "output_type": "stream",
          "name": "stdout",
          "text": [
            "NOTAPALINDROME\n",
            "NOTAPALINDROME -- is not a palindrome.\n",
            "ISAPALINILAPASI\n",
            "ISAPALINILAPASI -- is a palindrome.\n",
            "A3MEA\n",
            "A3MEA -- is a mirrored string.\n",
            "ATOYOTA\n",
            "ATOYOTA -- is a mirrored palindrome.\n",
            "\n",
            " -- is a palindrome.\n"
          ]
        }
      ]
    },
    {
      "cell_type": "markdown",
      "source": [
        "---"
      ],
      "metadata": {
        "id": "8tlMJilQoyIZ"
      }
    },
    {
      "cell_type": "markdown",
      "source": [
        "## LeetCode"
      ],
      "metadata": {
        "id": "p_GAgy5Goy5N"
      }
    },
    {
      "cell_type": "markdown",
      "source": [
        "### 1816. Truncate Sentence"
      ],
      "metadata": {
        "id": "mQMZsNQzo0_t"
      }
    },
    {
      "cell_type": "code",
      "source": [
        "class Solution:\n",
        "    def truncateSentence(self, s: str, k: int) -> str:\n",
        "        s_list = list(map(str, s.split()))\n",
        "        return ' '.join(s_list[:k])"
      ],
      "metadata": {
        "id": "tVt4Xu4Qo1Kh"
      },
      "execution_count": null,
      "outputs": []
    }
  ]
}