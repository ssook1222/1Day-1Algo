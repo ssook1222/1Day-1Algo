{
  "nbformat": 4,
  "nbformat_minor": 0,
  "metadata": {
    "colab": {
      "provenance": [],
      "authorship_tag": "ABX9TyOqiXI0GN8QGGdacXY4iAzb",
      "include_colab_link": true
    },
    "kernelspec": {
      "name": "python3",
      "display_name": "Python 3"
    },
    "language_info": {
      "name": "python"
    }
  },
  "cells": [
    {
      "cell_type": "markdown",
      "metadata": {
        "id": "view-in-github",
        "colab_type": "text"
      },
      "source": [
        "<a href=\"https://colab.research.google.com/github/ssook1222/1Day-1Algo/blob/master/ssook/9%EC%9B%94/9%EC%9B%94%204%EC%A3%BC%EC%B0%A8/0924.ipynb\" target=\"_parent\"><img src=\"https://colab.research.google.com/assets/colab-badge.svg\" alt=\"Open In Colab\"/></a>"
      ]
    },
    {
      "cell_type": "markdown",
      "source": [
        "## BoJ"
      ],
      "metadata": {
        "id": "3IqkaikeGO-z"
      }
    },
    {
      "cell_type": "markdown",
      "source": [
        "### 4690"
      ],
      "metadata": {
        "id": "0R2Z0OuaGRqc"
      }
    },
    {
      "cell_type": "code",
      "execution_count": 15,
      "metadata": {
        "colab": {
          "base_uri": "https://localhost:8080/"
        },
        "id": "bhhCKJPwGNG_",
        "outputId": "ed01f3d7-68a1-41bf-f6bf-aff35e657457"
      },
      "outputs": [
        {
          "output_type": "stream",
          "name": "stdout",
          "text": [
            "Cube = 6, Triple = (3,4,5)\n",
            "Cube = 12, Triple = (6,8,10)\n",
            "Cube = 18, Triple = (2,12,16)\n",
            "Cube = 18, Triple = (9,12,15)\n",
            "Cube = 19, Triple = (3,10,18)\n",
            "Cube = 20, Triple = (7,14,17)\n",
            "Cube = 24, Triple = (12,16,20)\n",
            "Cube = 25, Triple = (4,17,22)\n",
            "Cube = 27, Triple = (3,18,24)\n",
            "Cube = 28, Triple = (18,19,21)\n",
            "Cube = 29, Triple = (11,15,27)\n",
            "Cube = 30, Triple = (15,20,25)\n",
            "Cube = 36, Triple = (4,24,32)\n",
            "Cube = 36, Triple = (18,24,30)\n",
            "Cube = 38, Triple = (6,20,36)\n",
            "Cube = 40, Triple = (14,28,34)\n",
            "Cube = 41, Triple = (2,17,40)\n",
            "Cube = 41, Triple = (6,32,33)\n",
            "Cube = 42, Triple = (21,28,35)\n",
            "Cube = 44, Triple = (16,23,41)\n",
            "Cube = 45, Triple = (5,30,40)\n",
            "Cube = 46, Triple = (3,36,37)\n",
            "Cube = 46, Triple = (27,30,37)\n",
            "Cube = 48, Triple = (24,32,40)\n",
            "Cube = 50, Triple = (8,34,44)\n",
            "Cube = 53, Triple = (29,34,44)\n",
            "Cube = 54, Triple = (6,36,48)\n",
            "Cube = 54, Triple = (12,19,53)\n",
            "Cube = 54, Triple = (27,36,45)\n",
            "Cube = 56, Triple = (36,38,42)\n",
            "Cube = 57, Triple = (9,30,54)\n",
            "Cube = 58, Triple = (15,42,49)\n",
            "Cube = 58, Triple = (22,30,54)\n",
            "Cube = 60, Triple = (21,42,51)\n",
            "Cube = 60, Triple = (30,40,50)\n",
            "Cube = 63, Triple = (7,42,56)\n",
            "Cube = 66, Triple = (33,44,55)\n",
            "Cube = 67, Triple = (22,51,54)\n",
            "Cube = 69, Triple = (36,38,61)\n",
            "Cube = 70, Triple = (7,54,57)\n",
            "Cube = 71, Triple = (14,23,70)\n",
            "Cube = 72, Triple = (8,48,64)\n",
            "Cube = 72, Triple = (34,39,65)\n",
            "Cube = 72, Triple = (36,48,60)\n",
            "Cube = 75, Triple = (12,51,66)\n",
            "Cube = 75, Triple = (38,43,66)\n",
            "Cube = 76, Triple = (12,40,72)\n",
            "Cube = 76, Triple = (31,33,72)\n",
            "Cube = 78, Triple = (39,52,65)\n",
            "Cube = 80, Triple = (28,56,68)\n",
            "Cube = 81, Triple = (9,54,72)\n",
            "Cube = 81, Triple = (25,48,74)\n",
            "Cube = 82, Triple = (4,34,80)\n",
            "Cube = 82, Triple = (12,64,66)\n",
            "Cube = 82, Triple = (19,60,69)\n",
            "Cube = 84, Triple = (28,53,75)\n",
            "Cube = 84, Triple = (42,56,70)\n",
            "Cube = 84, Triple = (54,57,63)\n",
            "Cube = 85, Triple = (50,61,64)\n",
            "Cube = 87, Triple = (20,54,79)\n",
            "Cube = 87, Triple = (26,55,78)\n",
            "Cube = 87, Triple = (33,45,81)\n",
            "Cube = 87, Triple = (38,48,79)\n",
            "Cube = 88, Triple = (21,43,84)\n",
            "Cube = 88, Triple = (25,31,86)\n",
            "Cube = 88, Triple = (32,46,82)\n",
            "Cube = 89, Triple = (17,40,86)\n",
            "Cube = 90, Triple = (10,60,80)\n",
            "Cube = 90, Triple = (25,38,87)\n",
            "Cube = 90, Triple = (45,60,75)\n",
            "Cube = 90, Triple = (58,59,69)\n",
            "Cube = 92, Triple = (6,72,74)\n",
            "Cube = 92, Triple = (54,60,74)\n",
            "Cube = 93, Triple = (32,54,85)\n",
            "Cube = 95, Triple = (15,50,90)\n",
            "Cube = 96, Triple = (19,53,90)\n",
            "Cube = 96, Triple = (48,64,80)\n",
            "Cube = 97, Triple = (45,69,79)\n",
            "Cube = 99, Triple = (11,66,88)\n",
            "Cube = 100, Triple = (16,68,88)\n",
            "Cube = 100, Triple = (35,70,85)\n"
          ]
        }
      ],
      "source": [
        "for a in range(1, 101):\n",
        "  for b in range(2, 101):\n",
        "    for c in range(b+1, 101):\n",
        "      for d in range(c+1, 101):\n",
        "        if a**3 == b**3 + c**3 + d**3:\n",
        "          print(\"Cube = %d, Triple = (%d,%d,%d)\" %(a,b,c,d))"
      ]
    },
    {
      "cell_type": "markdown",
      "source": [
        "### 29273"
      ],
      "metadata": {
        "id": "LmZvaS9XGSyM"
      }
    },
    {
      "cell_type": "code",
      "source": [
        "import sys\n",
        "\n",
        "n, m, k = map(int, sys.stdin.readline().rstrip().split())\n",
        "\n",
        "bs = {}\n",
        "hap = 0\n",
        "\n",
        "for _ in range(n):\n",
        "  subject, score = map(str, sys.stdin.readline().rstrip().split())\n",
        "  bs[subject] = int(score)\n",
        "\n",
        "for _ in range(k):\n",
        "  uni = input()\n",
        "  hap += bs[uni]\n",
        "  del bs[uni]\n",
        "\n",
        "# max\n",
        "max_score = hap\n",
        "cnt = 0\n",
        "bs = dict(sorted(bs.items(), key = lambda x:-x[1]))\n",
        "\n",
        "for score in bs:\n",
        "  cnt += 1\n",
        "  if cnt <= m-k :\n",
        "    max_score += bs[score]\n",
        "  else:\n",
        "    break\n",
        "\n",
        "# min\n",
        "min_score = hap\n",
        "cnt = 0\n",
        "bs = dict(sorted(bs.items(), key = lambda x:x[1]))\n",
        "\n",
        "for score in bs:\n",
        "  cnt += 1\n",
        "  if cnt <= m-k :\n",
        "    min_score += bs[score]\n",
        "  else:\n",
        "    break\n",
        "\n",
        "print(min_score, max_score)"
      ],
      "metadata": {
        "id": "Od3DAja_GTB2"
      },
      "execution_count": null,
      "outputs": []
    },
    {
      "cell_type": "markdown",
      "source": [
        "---"
      ],
      "metadata": {
        "id": "JWpVDSGaGTQu"
      }
    },
    {
      "cell_type": "markdown",
      "source": [
        "## LeetCode"
      ],
      "metadata": {
        "id": "Ez0_GwLdGULz"
      }
    },
    {
      "cell_type": "markdown",
      "source": [
        "### 1342. Number of Steps to Reduce a Number to Zero\n"
      ],
      "metadata": {
        "id": "IUFjSaGXGXGK"
      }
    },
    {
      "cell_type": "code",
      "source": [
        "class Solution:\n",
        "    def numberOfSteps(self, num: int) -> int:\n",
        "        cnt = 0\n",
        "\n",
        "        while num != 0:\n",
        "            if num % 2 == 0:\n",
        "                num = num//2\n",
        "                cnt += 1\n",
        "            else:\n",
        "                num = num-1\n",
        "                cnt += 1\n",
        "\n",
        "        return cnt"
      ],
      "metadata": {
        "id": "gasdYZVqGUdX"
      },
      "execution_count": null,
      "outputs": []
    }
  ]
}