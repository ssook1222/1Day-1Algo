{
  "nbformat": 4,
  "nbformat_minor": 0,
  "metadata": {
    "colab": {
      "provenance": [],
      "authorship_tag": "ABX9TyNZWonnl6zB4wwwNxfxskmE",
      "include_colab_link": true
    },
    "kernelspec": {
      "name": "python3",
      "display_name": "Python 3"
    },
    "language_info": {
      "name": "python"
    }
  },
  "cells": [
    {
      "cell_type": "markdown",
      "metadata": {
        "id": "view-in-github",
        "colab_type": "text"
      },
      "source": [
        "<a href=\"https://colab.research.google.com/github/ssook1222/1Day-1Algo/blob/master/ssook/9%EC%9B%94/9%EC%9B%94%204%EC%A3%BC%EC%B0%A8/0927.ipynb\" target=\"_parent\"><img src=\"https://colab.research.google.com/assets/colab-badge.svg\" alt=\"Open In Colab\"/></a>"
      ]
    },
    {
      "cell_type": "markdown",
      "source": [
        "## BoJ"
      ],
      "metadata": {
        "id": "j_uamXZu1lb8"
      }
    },
    {
      "cell_type": "markdown",
      "source": [
        "### 29738"
      ],
      "metadata": {
        "id": "GEtM9Phh1m5_"
      }
    },
    {
      "cell_type": "code",
      "execution_count": 2,
      "metadata": {
        "colab": {
          "base_uri": "https://localhost:8080/"
        },
        "id": "PdkEGYPM1Srh",
        "outputId": "e39ae775-1ca6-4144-9dc0-be076d2c92f5"
      },
      "outputs": [
        {
          "output_type": "stream",
          "name": "stdout",
          "text": [
            "4\n",
            "10000\n",
            "Case #1: Round 1\n",
            "1234\n",
            "Case #2: Round 2\n",
            "567\n",
            "Case #3: Round 3\n",
            "8\n",
            "Case #4: World Finals\n"
          ]
        }
      ],
      "source": [
        "n = int(input())\n",
        "\n",
        "for i in range(n):\n",
        "  rank = int(input())\n",
        "\n",
        "  if rank > 4500:\n",
        "    print(\"Case #%d: Round 1\" %(i+1))\n",
        "\n",
        "  if 1000 < rank <= 4500:\n",
        "    print(\"Case #%d: Round 2\" %(i+1))\n",
        "\n",
        "  if 25 < rank <= 1000:\n",
        "    print(\"Case #%d: Round 3\" %(i+1))\n",
        "\n",
        "  if rank <= 25:\n",
        "    print(\"Case #%d: World Finals\" %(i+1))"
      ]
    },
    {
      "cell_type": "markdown",
      "source": [
        "### 9979"
      ],
      "metadata": {
        "id": "MVCPQAe31n1l"
      }
    },
    {
      "cell_type": "code",
      "source": [
        "import sys\n",
        "\n",
        "while True:\n",
        "  s = sys.stdin.readline().rstrip()\n",
        "  if not s:\n",
        "    break\n",
        "\n",
        "  if s == 'START':\n",
        "    lose = {}\n",
        "\n",
        "  elif s != 'END':\n",
        "    name, start, end = map(str, s.split())\n",
        "    start = int(start)\n",
        "    end = int(end)\n",
        "    lose[name] = end-start\n",
        "\n",
        "  elif s == 'END':\n",
        "    lose = sorted(lose.items(), key = lambda x:-x[1])\n",
        "    for name in lose:\n",
        "      print(name[0])\n",
        "      if name == lose[-1]:\n",
        "        print('')\n",
        ""
      ],
      "metadata": {
        "colab": {
          "base_uri": "https://localhost:8080/",
          "height": 667
        },
        "id": "ep2xM-cJ1opJ",
        "outputId": "f576006f-d914-4c99-ee6c-e80303af33b3"
      },
      "execution_count": 20,
      "outputs": [
        {
          "output_type": "stream",
          "name": "stdout",
          "text": [
            "START\n",
            "Joe 10 110\n",
            "END\n",
            "Joe\n",
            "\n",
            "START\n",
            "James 100 150\n",
            "Laura 100 140\n",
            "Hershey 100 130\n",
            "END\n",
            "James\n",
            "Laura\n",
            "Hershey\n",
            "\n"
          ]
        },
        {
          "output_type": "error",
          "ename": "KeyboardInterrupt",
          "evalue": "ignored",
          "traceback": [
            "\u001b[0;31m---------------------------------------------------------------------------\u001b[0m",
            "\u001b[0;31mKeyboardInterrupt\u001b[0m                         Traceback (most recent call last)",
            "\u001b[0;32m<ipython-input-20-4635064525f0>\u001b[0m in \u001b[0;36m<cell line: 1>\u001b[0;34m()\u001b[0m\n\u001b[1;32m      1\u001b[0m \u001b[0;32mwhile\u001b[0m \u001b[0;32mTrue\u001b[0m\u001b[0;34m:\u001b[0m\u001b[0;34m\u001b[0m\u001b[0;34m\u001b[0m\u001b[0m\n\u001b[0;32m----> 2\u001b[0;31m   \u001b[0ms\u001b[0m \u001b[0;34m=\u001b[0m \u001b[0minput\u001b[0m\u001b[0;34m(\u001b[0m\u001b[0;34m)\u001b[0m\u001b[0;34m\u001b[0m\u001b[0;34m\u001b[0m\u001b[0m\n\u001b[0m\u001b[1;32m      3\u001b[0m   \u001b[0;32mif\u001b[0m \u001b[0;32mnot\u001b[0m \u001b[0ms\u001b[0m\u001b[0;34m:\u001b[0m\u001b[0;34m\u001b[0m\u001b[0;34m\u001b[0m\u001b[0m\n\u001b[1;32m      4\u001b[0m     \u001b[0;32mbreak\u001b[0m\u001b[0;34m\u001b[0m\u001b[0;34m\u001b[0m\u001b[0m\n\u001b[1;32m      5\u001b[0m \u001b[0;34m\u001b[0m\u001b[0m\n",
            "\u001b[0;32m/usr/local/lib/python3.10/dist-packages/ipykernel/kernelbase.py\u001b[0m in \u001b[0;36mraw_input\u001b[0;34m(self, prompt)\u001b[0m\n\u001b[1;32m    849\u001b[0m                 \u001b[0;34m\"raw_input was called, but this frontend does not support input requests.\"\u001b[0m\u001b[0;34m\u001b[0m\u001b[0;34m\u001b[0m\u001b[0m\n\u001b[1;32m    850\u001b[0m             )\n\u001b[0;32m--> 851\u001b[0;31m         return self._input_request(str(prompt),\n\u001b[0m\u001b[1;32m    852\u001b[0m             \u001b[0mself\u001b[0m\u001b[0;34m.\u001b[0m\u001b[0m_parent_ident\u001b[0m\u001b[0;34m,\u001b[0m\u001b[0;34m\u001b[0m\u001b[0;34m\u001b[0m\u001b[0m\n\u001b[1;32m    853\u001b[0m             \u001b[0mself\u001b[0m\u001b[0;34m.\u001b[0m\u001b[0m_parent_header\u001b[0m\u001b[0;34m,\u001b[0m\u001b[0;34m\u001b[0m\u001b[0;34m\u001b[0m\u001b[0m\n",
            "\u001b[0;32m/usr/local/lib/python3.10/dist-packages/ipykernel/kernelbase.py\u001b[0m in \u001b[0;36m_input_request\u001b[0;34m(self, prompt, ident, parent, password)\u001b[0m\n\u001b[1;32m    893\u001b[0m             \u001b[0;32mexcept\u001b[0m \u001b[0mKeyboardInterrupt\u001b[0m\u001b[0;34m:\u001b[0m\u001b[0;34m\u001b[0m\u001b[0;34m\u001b[0m\u001b[0m\n\u001b[1;32m    894\u001b[0m                 \u001b[0;31m# re-raise KeyboardInterrupt, to truncate traceback\u001b[0m\u001b[0;34m\u001b[0m\u001b[0;34m\u001b[0m\u001b[0m\n\u001b[0;32m--> 895\u001b[0;31m                 \u001b[0;32mraise\u001b[0m \u001b[0mKeyboardInterrupt\u001b[0m\u001b[0;34m(\u001b[0m\u001b[0;34m\"Interrupted by user\"\u001b[0m\u001b[0;34m)\u001b[0m \u001b[0;32mfrom\u001b[0m \u001b[0;32mNone\u001b[0m\u001b[0;34m\u001b[0m\u001b[0;34m\u001b[0m\u001b[0m\n\u001b[0m\u001b[1;32m    896\u001b[0m             \u001b[0;32mexcept\u001b[0m \u001b[0mException\u001b[0m \u001b[0;32mas\u001b[0m \u001b[0me\u001b[0m\u001b[0;34m:\u001b[0m\u001b[0;34m\u001b[0m\u001b[0;34m\u001b[0m\u001b[0m\n\u001b[1;32m    897\u001b[0m                 \u001b[0mself\u001b[0m\u001b[0;34m.\u001b[0m\u001b[0mlog\u001b[0m\u001b[0;34m.\u001b[0m\u001b[0mwarning\u001b[0m\u001b[0;34m(\u001b[0m\u001b[0;34m\"Invalid Message:\"\u001b[0m\u001b[0;34m,\u001b[0m \u001b[0mexc_info\u001b[0m\u001b[0;34m=\u001b[0m\u001b[0;32mTrue\u001b[0m\u001b[0;34m)\u001b[0m\u001b[0;34m\u001b[0m\u001b[0;34m\u001b[0m\u001b[0m\n",
            "\u001b[0;31mKeyboardInterrupt\u001b[0m: Interrupted by user"
          ]
        }
      ]
    },
    {
      "cell_type": "markdown",
      "source": [
        "---"
      ],
      "metadata": {
        "id": "xElGyaVS1o43"
      }
    },
    {
      "cell_type": "markdown",
      "source": [
        "## LeetCode"
      ],
      "metadata": {
        "id": "Cl3gPi_A1wXi"
      }
    },
    {
      "cell_type": "markdown",
      "source": [
        "### 2535. Difference Between Element Sum and Digit Sum of an Array\n"
      ],
      "metadata": {
        "id": "R5pdrJvB59wk"
      }
    },
    {
      "cell_type": "code",
      "source": [
        "class Solution:\n",
        "    def differenceOfSum(self, nums: List[int]) -> int:\n",
        "        tmp = ''\n",
        "        for num in nums:\n",
        "            tmp += str(num)\n",
        "\n",
        "        tmp = list(tmp)\n",
        "        for i in range(len(tmp)):\n",
        "            tmp[i] = int(tmp[i])\n",
        "        digit_sum = sum(tmp)\n",
        "\n",
        "        ele_sum = 0\n",
        "        for num in nums:\n",
        "            ele_sum += num\n",
        "\n",
        "        return ele_sum - digit_sum"
      ],
      "metadata": {
        "id": "JgznaG9_1woo"
      },
      "execution_count": null,
      "outputs": []
    }
  ]
}