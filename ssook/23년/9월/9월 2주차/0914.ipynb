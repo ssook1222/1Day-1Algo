{
  "nbformat": 4,
  "nbformat_minor": 0,
  "metadata": {
    "colab": {
      "provenance": [],
      "authorship_tag": "ABX9TyPWwvYuWZS532Eiwkm7ryei",
      "include_colab_link": true
    },
    "kernelspec": {
      "name": "python3",
      "display_name": "Python 3"
    },
    "language_info": {
      "name": "python"
    }
  },
  "cells": [
    {
      "cell_type": "markdown",
      "metadata": {
        "id": "view-in-github",
        "colab_type": "text"
      },
      "source": [
        "<a href=\"https://colab.research.google.com/github/ssook1222/1Day-1Algo/blob/master/ssook/9%EC%9B%94/9%EC%9B%94%202%EC%A3%BC%EC%B0%A8/0914.ipynb\" target=\"_parent\"><img src=\"https://colab.research.google.com/assets/colab-badge.svg\" alt=\"Open In Colab\"/></a>"
      ]
    },
    {
      "cell_type": "markdown",
      "source": [
        "## BoJ"
      ],
      "metadata": {
        "id": "Ph2x-ltv3qJ4"
      }
    },
    {
      "cell_type": "markdown",
      "source": [
        "### 1343"
      ],
      "metadata": {
        "id": "VGlbAR9A3r0Y"
      }
    },
    {
      "cell_type": "code",
      "execution_count": 2,
      "metadata": {
        "colab": {
          "base_uri": "https://localhost:8080/"
        },
        "id": "3e2apneC3nw5",
        "outputId": "b71da3e2-d8d9-4c13-f79d-c608592e0199"
      },
      "outputs": [
        {
          "output_type": "stream",
          "name": "stdout",
          "text": [
            "XX.XXXXXXXXXX..XXXXXXXX...XXXXXX\n",
            "BB.AAAAAAAABB..AAAAAAAA...AAAABB\n"
          ]
        }
      ],
      "source": [
        "import sys\n",
        "\n",
        "s = sys.stdin.readline().rstrip()\n",
        "\n",
        "s = s.replace('XXXX', 'AAAA')\n",
        "s = s.replace('XX', 'BB')\n",
        "\n",
        "if 'X' in s:\n",
        "  print(-1)\n",
        "\n",
        "else:\n",
        "  print(s)"
      ]
    },
    {
      "cell_type": "markdown",
      "source": [
        "### 3459"
      ],
      "metadata": {
        "id": "kCXpiO7I3syN"
      }
    },
    {
      "cell_type": "code",
      "source": [
        "import sys\n",
        "\n",
        "t = int(sys.stdin.readline().rstrip())\n",
        "\n",
        "for i in range(t):\n",
        "  ori = sys.stdin.readline().rstrip()\n",
        "  real = sys.stdin.readline().rstrip()\n",
        "  cnt = 0\n",
        "\n",
        "  for i in range(len(ori)):\n",
        "    if ori[i] != real[i]:\n",
        "      cnt += 1\n",
        "\n",
        "  print(\"Hamming distance is %d.\" %cnt)"
      ],
      "metadata": {
        "colab": {
          "base_uri": "https://localhost:8080/"
        },
        "id": "0k798huj3txn",
        "outputId": "6a97a005-12d2-4f37-caa5-cddbec9c5dc9"
      },
      "execution_count": 3,
      "outputs": [
        {
          "output_type": "stream",
          "name": "stdout",
          "text": [
            "4\n",
            "0\n",
            "1\n",
            "Hamming distance is 1.\n",
            "000\n",
            "000\n",
            "Hamming distance is 0.\n",
            "1111111100000000\n",
            "0000000011111111\n",
            "Hamming distance is 16.\n",
            "101\n",
            "000\n",
            "Hamming distance is 2.\n"
          ]
        }
      ]
    },
    {
      "cell_type": "markdown",
      "source": [
        "---"
      ],
      "metadata": {
        "id": "NscVO9m63uNX"
      }
    },
    {
      "cell_type": "markdown",
      "source": [
        "## Programmers"
      ],
      "metadata": {
        "id": "hoWITyNQ3vNe"
      }
    },
    {
      "cell_type": "markdown",
      "source": [
        "### 가장 가까운 같은 글자"
      ],
      "metadata": {
        "id": "5Dgwe49W3xE2"
      }
    },
    {
      "cell_type": "code",
      "source": [
        "def solution(s):\n",
        "    result = [-1] * len(s)\n",
        "    char_index = {}\n",
        "\n",
        "    for i, char in enumerate(s):\n",
        "        # 현재 문자가 이전에 나왔던 문자 중에서 가장 가까운 위치에 있는 경우\n",
        "        if char in char_index:\n",
        "            result[i] = i - char_index[char]\n",
        "\n",
        "        # 문자의 인덱스를 딕셔너리에 업데이트\n",
        "        char_index[char] = i\n",
        "\n",
        "    return result"
      ],
      "metadata": {
        "id": "nihCeHNp3xS7"
      },
      "execution_count": null,
      "outputs": []
    }
  ]
}