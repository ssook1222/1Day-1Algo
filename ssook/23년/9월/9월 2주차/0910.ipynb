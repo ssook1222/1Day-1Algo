{
  "nbformat": 4,
  "nbformat_minor": 0,
  "metadata": {
    "colab": {
      "provenance": [],
      "authorship_tag": "ABX9TyMUM0RZkUsfWzdKw4MS3UWC",
      "include_colab_link": true
    },
    "kernelspec": {
      "name": "python3",
      "display_name": "Python 3"
    },
    "language_info": {
      "name": "python"
    }
  },
  "cells": [
    {
      "cell_type": "markdown",
      "metadata": {
        "id": "view-in-github",
        "colab_type": "text"
      },
      "source": [
        "<a href=\"https://colab.research.google.com/github/ssook1222/1Day-1Algo/blob/master/ssook/9%EC%9B%94/9%EC%9B%94%202%EC%A3%BC%EC%B0%A8/0910.ipynb\" target=\"_parent\"><img src=\"https://colab.research.google.com/assets/colab-badge.svg\" alt=\"Open In Colab\"/></a>"
      ]
    },
    {
      "cell_type": "markdown",
      "source": [
        "## BoJ"
      ],
      "metadata": {
        "id": "yr-NXHtS9mGp"
      }
    },
    {
      "cell_type": "markdown",
      "source": [
        "### 6159"
      ],
      "metadata": {
        "id": "VI2kH2Xn9nn3"
      }
    },
    {
      "cell_type": "code",
      "execution_count": null,
      "metadata": {
        "colab": {
          "base_uri": "https://localhost:8080/"
        },
        "id": "RG8p-Qm39kqf",
        "outputId": "fc28af25-86b7-4e2f-8d6c-86d9f5b0d2e9"
      },
      "outputs": [
        {
          "output_type": "stream",
          "name": "stdout",
          "text": [
            "4 6\n",
            "3\n",
            "5\n",
            "2\n",
            "1\n",
            "4\n"
          ]
        }
      ],
      "source": [
        "import sys\n",
        "\n",
        "n, s = map(int, sys.stdin.readline().rstrip().split())\n",
        "cnt = 0\n",
        "\n",
        "cow = []\n",
        "\n",
        "for i in range(n):\n",
        "  cow.append(int(sys.stdin.readline().rstrip()))\n",
        "\n",
        "cow.sort()\n",
        "\n",
        "start = 0\n",
        "end = len(cow)-1\n",
        "\n",
        "while start < end:\n",
        "  if cow[start] + cow[end] > s :\n",
        "    end -= 1\n",
        "\n",
        "  else:\n",
        "    cnt += end - start\n",
        "    start += 1\n",
        "\n",
        "print(cnt)"
      ]
    },
    {
      "cell_type": "markdown",
      "source": [
        "count에 (end - start)를 더하는 이유는\n",
        "현재 end와 start가 가리키는 두 소의 조합이 조건을 만족하면,\n",
        "start를 증가시켜서 다음 소와의 조합들도 가능한지 확인하기 위함.\n",
        "\n",
        "현재 start와 end가 가리키는 두 요소를 조합으로 사용하면,\n",
        "그 사이에 있는 모든 조합 또한 가능합니다. 그래서 (end - start)를 count에 더하여 현재 start와 end를 가리키는 조합을 포함한 모든 가능한 조합의 수를 계산함."
      ],
      "metadata": {
        "id": "8LtiJPq-BPAt"
      }
    },
    {
      "cell_type": "markdown",
      "source": [
        "### 4806"
      ],
      "metadata": {
        "id": "edVYlZwd9odT"
      }
    },
    {
      "cell_type": "code",
      "source": [
        "import sys\n",
        "\n",
        "cnt = 0\n",
        "while True:\n",
        "  try:\n",
        "    s = input()\n",
        "    cnt += 1\n",
        "\n",
        "  except EOFError:\n",
        "    break\n",
        "print(cnt)"
      ],
      "metadata": {
        "id": "gpe6Ju3f9ppm"
      },
      "execution_count": null,
      "outputs": []
    },
    {
      "cell_type": "markdown",
      "source": [
        "---"
      ],
      "metadata": {
        "id": "0gTzzfzK9qH-"
      }
    },
    {
      "cell_type": "markdown",
      "source": [
        "## LeetCode"
      ],
      "metadata": {
        "id": "WoZL17ah9pYL"
      }
    },
    {
      "cell_type": "markdown",
      "source": [
        "### 2798. Number of Employees Who Met the Target\n"
      ],
      "metadata": {
        "id": "fCwiDBEEDP7S"
      }
    },
    {
      "cell_type": "code",
      "source": [
        "class Solution(object):\n",
        "    def numberOfEmployeesWhoMetTarget(self, hours, target):\n",
        "        \"\"\"\n",
        "        :type hours: List[int]\n",
        "        :type target: int\n",
        "        :rtype: int\n",
        "        \"\"\"\n",
        "        cnt = 0\n",
        "\n",
        "        for person in hours:\n",
        "            if person >= target:\n",
        "                cnt += 1\n",
        "\n",
        "        return cnt\n"
      ],
      "metadata": {
        "id": "VauJBP0X9rrq"
      },
      "execution_count": null,
      "outputs": []
    }
  ]
}