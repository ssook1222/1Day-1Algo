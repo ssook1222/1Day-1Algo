{
  "nbformat": 4,
  "nbformat_minor": 0,
  "metadata": {
    "colab": {
      "provenance": [],
      "authorship_tag": "ABX9TyNbFjopGVEmvQ6smcrX77q+",
      "include_colab_link": true
    },
    "kernelspec": {
      "name": "python3",
      "display_name": "Python 3"
    },
    "language_info": {
      "name": "python"
    }
  },
  "cells": [
    {
      "cell_type": "markdown",
      "metadata": {
        "id": "view-in-github",
        "colab_type": "text"
      },
      "source": [
        "<a href=\"https://colab.research.google.com/github/ssook1222/1Day-1Algo/blob/master/ssook/9%EC%9B%94/9%EC%9B%94%203%EC%A3%BC%EC%B0%A8/0920.ipynb\" target=\"_parent\"><img src=\"https://colab.research.google.com/assets/colab-badge.svg\" alt=\"Open In Colab\"/></a>"
      ]
    },
    {
      "cell_type": "markdown",
      "source": [
        "## BoJ"
      ],
      "metadata": {
        "id": "GBa_8ab1xltx"
      }
    },
    {
      "cell_type": "markdown",
      "source": [
        "### 8595"
      ],
      "metadata": {
        "id": "IzNfyMM2xnxA"
      }
    },
    {
      "cell_type": "code",
      "execution_count": 11,
      "metadata": {
        "colab": {
          "base_uri": "https://localhost:8080/"
        },
        "id": "sSsyI18mxjf4",
        "outputId": "b6a1aae0-34d5-484d-9517-7ae946a84b8b"
      },
      "outputs": [
        {
          "output_type": "stream",
          "name": "stdout",
          "text": [
            "14\n",
            "ab13c9d07jeden\n",
            "29\n"
          ]
        }
      ],
      "source": [
        "import sys\n",
        "import re\n",
        "\n",
        "n = int(sys.stdin.readline().rstrip())\n",
        "\n",
        "word = sys.stdin.readline().rstrip()\n",
        "hap = 0\n",
        "\n",
        "numbers = re.findall(r'\\d+', word)\n",
        "\n",
        "for num in numbers:\n",
        "    hap += int(num)\n",
        "\n",
        "print(hap)"
      ]
    },
    {
      "cell_type": "markdown",
      "source": [
        "### 13866"
      ],
      "metadata": {
        "id": "Lmv4RB9qxoGM"
      }
    },
    {
      "cell_type": "code",
      "source": [
        "import sys\n",
        "a, b, c, d = map(int, sys.stdin.readline().rstrip().split())\n",
        "\n",
        "score_a1 = a+b\n",
        "score_a2 = c+d\n",
        "tmp1 = abs(score_a1 - score_a2)\n",
        "\n",
        "score_b1 = a+c\n",
        "score_b2 = b+d\n",
        "tmp2 = abs(score_b1 - score_b2)\n",
        "\n",
        "score_c1 = a+d\n",
        "score_c2 = b+c\n",
        "tmp3 = abs(score_c1 - score_c2)\n",
        "\n",
        "print(min(tmp1, tmp2, tmp3))"
      ],
      "metadata": {
        "colab": {
          "base_uri": "https://localhost:8080/"
        },
        "id": "J6704fQ0xoXS",
        "outputId": "a1e0bd46-8fdd-4de5-cab1-da2b6311e571"
      },
      "execution_count": 16,
      "outputs": [
        {
          "output_type": "stream",
          "name": "stdout",
          "text": [
            "1 2 3 4\n",
            "0\n"
          ]
        }
      ]
    },
    {
      "cell_type": "markdown",
      "source": [
        "---"
      ],
      "metadata": {
        "id": "uE4msf-9xqMT"
      }
    },
    {
      "cell_type": "markdown",
      "source": [
        "## LeetCode"
      ],
      "metadata": {
        "id": "16PEAosJxrAQ"
      }
    },
    {
      "cell_type": "markdown",
      "source": [
        "### 1486. XOR Operation in an Array\n"
      ],
      "metadata": {
        "id": "in5urB5axrc1"
      }
    },
    {
      "cell_type": "code",
      "source": [
        "class Solution:\n",
        "    def xorOperation(self, n: int, start: int) -> int:\n",
        "        raw = []\n",
        "\n",
        "        for i in range(n):\n",
        "            tmp = start + (i*2)\n",
        "            raw.append(tmp)\n",
        "\n",
        "        ans = raw[0]\n",
        "\n",
        "        for i in range(1, len(raw)):\n",
        "            ans = ans^raw[i]\n",
        "\n",
        "        return ans"
      ],
      "metadata": {
        "id": "4WCD26DtxrQH"
      },
      "execution_count": null,
      "outputs": []
    }
  ]
}