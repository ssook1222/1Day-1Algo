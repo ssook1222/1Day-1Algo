{
  "nbformat": 4,
  "nbformat_minor": 0,
  "metadata": {
    "colab": {
      "provenance": [],
      "authorship_tag": "ABX9TyMUDF4gNtwOh8MmSMGkEK/g",
      "include_colab_link": true
    },
    "kernelspec": {
      "name": "python3",
      "display_name": "Python 3"
    },
    "language_info": {
      "name": "python"
    }
  },
  "cells": [
    {
      "cell_type": "markdown",
      "metadata": {
        "id": "view-in-github",
        "colab_type": "text"
      },
      "source": [
        "<a href=\"https://colab.research.google.com/github/ssook1222/1Day-1Algo/blob/master/ssook/9%EC%9B%94/9%EC%9B%94%203%EC%A3%BC%EC%B0%A8/0917.ipynb\" target=\"_parent\"><img src=\"https://colab.research.google.com/assets/colab-badge.svg\" alt=\"Open In Colab\"/></a>"
      ]
    },
    {
      "cell_type": "markdown",
      "source": [
        "## BoJ"
      ],
      "metadata": {
        "id": "qxQNsqqU-qX0"
      }
    },
    {
      "cell_type": "markdown",
      "source": [
        "### 15719"
      ],
      "metadata": {
        "id": "DNDDDq2T-swX"
      }
    },
    {
      "cell_type": "code",
      "execution_count": 1,
      "metadata": {
        "colab": {
          "base_uri": "https://localhost:8080/"
        },
        "id": "zFjK2DFh-oPn",
        "outputId": "f01fd4f5-87f9-4bef-d9ca-b958d922cc0a"
      },
      "outputs": [
        {
          "output_type": "stream",
          "name": "stdout",
          "text": [
            "10\n",
            "1 2 2 5 6 4 3 7 8 9\n",
            "2\n"
          ]
        }
      ],
      "source": [
        "import sys\n",
        "\n",
        "N = int(input())\n",
        "nums = sys.stdin.read()\n",
        "\n",
        "sum_nums = 0\n",
        "temp = \"\"\n",
        "for num in nums:\n",
        "    if num.isdigit():\n",
        "        temp += num\n",
        "    elif num == \" \":\n",
        "        sum_nums += int(temp)\n",
        "        temp = \"\"\n",
        "\n",
        "sum_nums += int(temp)\n",
        "\n",
        "res = sum_nums - N * (N - 1) // 2\n",
        "print(res)\n"
      ]
    },
    {
      "cell_type": "markdown",
      "source": [
        "입력 받는 거 때문에 굉장히 애먹었던 문제..."
      ],
      "metadata": {
        "id": "_ZOVqhOKFd_p"
      }
    },
    {
      "cell_type": "markdown",
      "source": [
        "### 14626"
      ],
      "metadata": {
        "id": "FpLlZ7pr-t0k"
      }
    },
    {
      "cell_type": "code",
      "source": [
        "from sys import stdin\n",
        "\n",
        "isbn = stdin.readline().rstrip()\n",
        "isbn_len = len(isbn)\n",
        "\n",
        "hap = 0\n",
        "star_idx = isbn.index('*')\n",
        "\n",
        "for idx in range(isbn_len):\n",
        "    if isbn[idx] == '*':\n",
        "        pass\n",
        "    elif idx % 2 == 0:\n",
        "        hap += int(isbn[idx])\n",
        "    else:\n",
        "        hap += int(isbn[idx]) * 3\n",
        "\n",
        "for number in range(10):\n",
        "    if star_idx % 2 == 0:\n",
        "        if (hap + number) % 10 == 0:\n",
        "            print(number)\n",
        "            break\n",
        "    else:\n",
        "        if (hap + number * 3) % 10 == 0:\n",
        "            print(number)\n",
        "            break\n",
        ""
      ],
      "metadata": {
        "colab": {
          "base_uri": "https://localhost:8080/"
        },
        "id": "OmIkfhUK-vIy",
        "outputId": "a9741fff-75d5-4f6c-f9eb-df95c2f84cbb"
      },
      "execution_count": 7,
      "outputs": [
        {
          "output_type": "stream",
          "name": "stdout",
          "text": [
            "9788968322*73\n",
            "2\n"
          ]
        }
      ]
    },
    {
      "cell_type": "markdown",
      "source": [
        "---"
      ],
      "metadata": {
        "id": "-8hNHNG7-vZI"
      }
    },
    {
      "cell_type": "markdown",
      "source": [
        "## LeetCode"
      ],
      "metadata": {
        "id": "27JRZXav-wIb"
      }
    },
    {
      "cell_type": "markdown",
      "source": [
        "### 1678. Goal Parser Interpretation\n"
      ],
      "metadata": {
        "id": "gZKFf7s--yse"
      }
    },
    {
      "cell_type": "code",
      "source": [
        "class Solution(object):\n",
        "    def interpret(self, command):\n",
        "        \"\"\"\n",
        "        :type command: str\n",
        "        :rtype: str\n",
        "        \"\"\"\n",
        "        command = command.replace('()','o')\n",
        "        command = command.replace('(','')\n",
        "        command = command.replace(')','')\n",
        "\n",
        "        return command"
      ],
      "metadata": {
        "id": "ZwHT7dR_-z5C"
      },
      "execution_count": null,
      "outputs": []
    }
  ]
}