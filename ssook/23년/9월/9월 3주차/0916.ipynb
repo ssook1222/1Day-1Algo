{
  "nbformat": 4,
  "nbformat_minor": 0,
  "metadata": {
    "colab": {
      "provenance": [],
      "authorship_tag": "ABX9TyOWaBUJh0YvqbdB4cmcq7Vg",
      "include_colab_link": true
    },
    "kernelspec": {
      "name": "python3",
      "display_name": "Python 3"
    },
    "language_info": {
      "name": "python"
    }
  },
  "cells": [
    {
      "cell_type": "markdown",
      "metadata": {
        "id": "view-in-github",
        "colab_type": "text"
      },
      "source": [
        "<a href=\"https://colab.research.google.com/github/ssook1222/1Day-1Algo/blob/master/ssook/9%EC%9B%94/9%EC%9B%94%203%EC%A3%BC%EC%B0%A8/0916.ipynb\" target=\"_parent\"><img src=\"https://colab.research.google.com/assets/colab-badge.svg\" alt=\"Open In Colab\"/></a>"
      ]
    },
    {
      "cell_type": "markdown",
      "source": [
        "## BoJ"
      ],
      "metadata": {
        "id": "aMlERlqg3q9M"
      }
    },
    {
      "cell_type": "markdown",
      "source": [
        "### 14916"
      ],
      "metadata": {
        "id": "5PhH3Jzz3s3G"
      }
    },
    {
      "cell_type": "code",
      "execution_count": 22,
      "metadata": {
        "colab": {
          "base_uri": "https://localhost:8080/"
        },
        "id": "dJNvZUgk3oWb",
        "outputId": "a059b120-5e79-44c3-c204-f285b93dc0e6"
      },
      "outputs": [
        {
          "output_type": "stream",
          "name": "stdout",
          "text": [
            "14\n",
            "4\n"
          ]
        }
      ],
      "source": [
        "import sys\n",
        "\n",
        "n = int(sys.stdin.readline().rstrip())\n",
        "\n",
        "cnt5 = 0\n",
        "cnt2 = 0\n",
        "\n",
        "while n != 0:\n",
        "\n",
        "  if n < 5:\n",
        "      cnt5 = 0\n",
        "      if n % 2 == 0:\n",
        "          cnt2 = n // 2\n",
        "      else:\n",
        "          pass\n",
        "      break\n",
        "\n",
        "  # 일단 5로 나누기\n",
        "  cnt5 = cnt5 + (n // 5)\n",
        "\n",
        "  # 그 다음 5를 곱한 걸 뺀 값이 짝수면 2로 나누기\n",
        "  if (n - (cnt5 * 5)) % 2 == 0:\n",
        "    n = n - (cnt5 * 5)\n",
        "\n",
        "    # 2로 나누는 로직\n",
        "    cnt2 = cnt2 + (n // 2)\n",
        "    n = n - (cnt2 * 2)\n",
        "\n",
        "  else:\n",
        "    cnt5 = cnt5 - 1\n",
        "    n = n - (cnt5 * 5)\n",
        "    cnt2 = cnt2 + (n // 2)\n",
        "    n = n - (cnt2 * 2)\n",
        "\n",
        "res = cnt5 + cnt2\n",
        "\n",
        "if res == 0:\n",
        "  print(-1)\n",
        "\n",
        "else:\n",
        "  print(res)"
      ]
    },
    {
      "cell_type": "markdown",
      "source": [
        "### 10973"
      ],
      "metadata": {
        "id": "dC79IFyxBPOD"
      }
    },
    {
      "cell_type": "code",
      "source": [
        "import sys\n",
        "\n",
        "n = int(sys.stdin.readline().strip())\n",
        "ori = list(map(int, sys.stdin.readline().strip().split(\" \")))\n",
        "\n",
        "for i in range(n-1, 0, -1):\n",
        "    if ori[i-1] > ori[i]:\n",
        "        for j in range(n-1, 0, -1):\n",
        "\n",
        "            if ori[i-1] > ori[j]:\n",
        "                ori[i-1], ori[j] = ori[j], ori[i-1]\n",
        "                ori = ori[:i] + sorted(ori[i:], reverse = True)\n",
        "                print(*ori)\n",
        "                exit()\n",
        "\n",
        "print(-1)"
      ],
      "metadata": {
        "id": "ILA9CtWYBPr9"
      },
      "execution_count": null,
      "outputs": []
    },
    {
      "cell_type": "markdown",
      "source": [
        "#### 메모리 초과"
      ],
      "metadata": {
        "id": "2UEibueI3tE4"
      }
    },
    {
      "cell_type": "code",
      "source": [
        "import itertools\n",
        "\n",
        "n = int(input())\n",
        "s = input()\n",
        "num = list(map(int, s.split()))\n",
        "\n",
        "raw = list(itertools.permutations(num))\n",
        "raw.sort()\n",
        "\n",
        "for i in raw:\n",
        "  tmp = str(i)\n",
        "  tmp = tmp[1:len(tmp)-1].replace(\",\",\"\")\n",
        "  if tmp == s and raw.index(i) != 0:\n",
        "    print(*raw[raw.index(i)-1])\n",
        "  elif tmp == s and raw.index(i) == 0:\n",
        "    print(-1)\n"
      ],
      "metadata": {
        "colab": {
          "base_uri": "https://localhost:8080/"
        },
        "id": "_N-zkolk3tSa",
        "outputId": "038c44be-63f8-42af-f0b9-49070a73c6a2"
      },
      "execution_count": 41,
      "outputs": [
        {
          "output_type": "stream",
          "name": "stdout",
          "text": [
            "4\n",
            "1 2 3 4\n",
            "-1\n"
          ]
        }
      ]
    },
    {
      "cell_type": "markdown",
      "source": [
        "---"
      ],
      "metadata": {
        "id": "Fs7jJDhR3tdT"
      }
    },
    {
      "cell_type": "markdown",
      "source": [
        "## LeetCode"
      ],
      "metadata": {
        "id": "5ye-AKTU3uD9"
      }
    },
    {
      "cell_type": "markdown",
      "source": [
        "### LeetCode"
      ],
      "metadata": {
        "id": "PRVCrNXz3wHn"
      }
    },
    {
      "cell_type": "code",
      "source": [
        "class Solution(object):\n",
        "    def mostWordsFound(self, sentences):\n",
        "        \"\"\"\n",
        "        :type sentences: List[str]\n",
        "        :rtype: int\n",
        "        \"\"\"\n",
        "        cnts = []\n",
        "        for sentence in sentences:\n",
        "            cnts.append(len(sentence.split()))\n",
        "\n",
        "        return max(cnts)\n"
      ],
      "metadata": {
        "id": "yQ70Dhse3wbd"
      },
      "execution_count": null,
      "outputs": []
    }
  ]
}