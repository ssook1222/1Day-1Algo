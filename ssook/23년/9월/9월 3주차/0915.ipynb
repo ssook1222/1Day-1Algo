{
  "nbformat": 4,
  "nbformat_minor": 0,
  "metadata": {
    "colab": {
      "provenance": [],
      "authorship_tag": "ABX9TyNhUPC8gKKI7ezzpaLNW0mA",
      "include_colab_link": true
    },
    "kernelspec": {
      "name": "python3",
      "display_name": "Python 3"
    },
    "language_info": {
      "name": "python"
    }
  },
  "cells": [
    {
      "cell_type": "markdown",
      "metadata": {
        "id": "view-in-github",
        "colab_type": "text"
      },
      "source": [
        "<a href=\"https://colab.research.google.com/github/ssook1222/1Day-1Algo/blob/master/ssook/9%EC%9B%94/9%EC%9B%94%203%EC%A3%BC%EC%B0%A8/0915.ipynb\" target=\"_parent\"><img src=\"https://colab.research.google.com/assets/colab-badge.svg\" alt=\"Open In Colab\"/></a>"
      ]
    },
    {
      "cell_type": "markdown",
      "source": [
        "## BoJ"
      ],
      "metadata": {
        "id": "DbQauAzycYJI"
      }
    },
    {
      "cell_type": "markdown",
      "source": [
        "### 16435"
      ],
      "metadata": {
        "id": "JDBzbA-BcaF5"
      }
    },
    {
      "cell_type": "code",
      "execution_count": 3,
      "metadata": {
        "id": "_fyO-UpacSPF",
        "colab": {
          "base_uri": "https://localhost:8080/"
        },
        "outputId": "e00338b2-3302-4d81-9610-e95ff461acdc"
      },
      "outputs": [
        {
          "output_type": "stream",
          "name": "stdout",
          "text": [
            "9 1\n",
            "9 5 8 1 3 2 7 6 4\n",
            "10\n"
          ]
        }
      ],
      "source": [
        "import sys\n",
        "\n",
        "n, m = map(int, sys.stdin.readline().rstrip().split())\n",
        "\n",
        "apple = list(map(int, sys.stdin.readline().rstrip().split()))\n",
        "\n",
        "apple.sort()\n",
        "\n",
        "for num in apple:\n",
        "  if m >= num:\n",
        "    m += 1\n",
        "  else:\n",
        "    break\n",
        "print(m)\n"
      ]
    },
    {
      "cell_type": "markdown",
      "source": [
        "### 15624"
      ],
      "metadata": {
        "id": "zl1DEbIGcaWG"
      }
    },
    {
      "cell_type": "code",
      "source": [
        "import sys\n",
        "\n",
        "n = int(sys.stdin.readline().rstrip())\n",
        "\n",
        "if n == 0:\n",
        "    print(0)\n",
        "    sys.exit()\n",
        "\n",
        "fibo = [0] * (n+1)\n",
        "\n",
        "fibo[0] = 0\n",
        "fibo[1] = 1\n",
        "\n",
        "for i in range(2, n+1):\n",
        "  fibo[i] = ((fibo[i-1] + fibo[i-2]) % 1000000007)\n",
        "\n",
        "print(fibo[n])"
      ],
      "metadata": {
        "id": "on9ZME1bcan4",
        "colab": {
          "base_uri": "https://localhost:8080/"
        },
        "outputId": "32378244-43fe-4d53-e7a1-5d4db2e7c0d5"
      },
      "execution_count": 12,
      "outputs": [
        {
          "output_type": "stream",
          "name": "stdout",
          "text": [
            "2\n",
            "1\n"
          ]
        }
      ]
    },
    {
      "cell_type": "markdown",
      "source": [
        "---"
      ],
      "metadata": {
        "id": "Yn11Rch0ca61"
      }
    },
    {
      "cell_type": "markdown",
      "source": [
        "## LeetCode"
      ],
      "metadata": {
        "id": "KVsqwY1tcbu4"
      }
    },
    {
      "cell_type": "markdown",
      "source": [
        "### 1365. How Many Numbers Are Smaller Than the Current Number\n"
      ],
      "metadata": {
        "id": "3MKTrr5Qceig"
      }
    },
    {
      "cell_type": "code",
      "source": [
        "class Solution:\n",
        "    def smallerNumbersThanCurrent(self, nums: List[int]) -> List[int]:\n",
        "        res = []\n",
        "\n",
        "        for i in range(len(nums)):\n",
        "            cnt = 0\n",
        "\n",
        "            for j in range(len(nums)):\n",
        "                if nums[i] > nums[j]:\n",
        "                    cnt += 1\n",
        "                    continue\n",
        "\n",
        "            res.append(cnt)\n",
        "\n",
        "        return res"
      ],
      "metadata": {
        "id": "WvE7TrgoceWj"
      },
      "execution_count": null,
      "outputs": []
    }
  ]
}