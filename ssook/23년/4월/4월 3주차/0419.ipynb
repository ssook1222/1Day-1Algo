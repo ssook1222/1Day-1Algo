{
  "nbformat": 4,
  "nbformat_minor": 0,
  "metadata": {
    "colab": {
      "provenance": [],
      "authorship_tag": "ABX9TyNh1vPDtpuTIOXc2IY+Dqyk",
      "include_colab_link": true
    },
    "kernelspec": {
      "name": "python3",
      "display_name": "Python 3"
    },
    "language_info": {
      "name": "python"
    }
  },
  "cells": [
    {
      "cell_type": "markdown",
      "metadata": {
        "id": "view-in-github",
        "colab_type": "text"
      },
      "source": [
        "<a href=\"https://colab.research.google.com/github/ssook1222/1Day-1Algo/blob/master/ssook/4%EC%9B%94/4%EC%9B%94%203%EC%A3%BC%EC%B0%A8/0419.ipynb\" target=\"_parent\"><img src=\"https://colab.research.google.com/assets/colab-badge.svg\" alt=\"Open In Colab\"/></a>"
      ]
    },
    {
      "cell_type": "markdown",
      "source": [
        "### 11816"
      ],
      "metadata": {
        "id": "DQRww37IJfjW"
      }
    },
    {
      "cell_type": "code",
      "execution_count": null,
      "metadata": {
        "colab": {
          "base_uri": "https://localhost:8080/"
        },
        "id": "rBcLPDfoJYXX",
        "outputId": "1b796599-490a-449d-aa31-5999f5f8801e"
      },
      "outputs": [
        {
          "output_type": "stream",
          "name": "stdout",
          "text": [
            "0x10\n",
            "16\n"
          ]
        }
      ],
      "source": [
        "x = input()\n",
        "\n",
        "if x[0] == '0': \n",
        "  if x[1] == 'x':\n",
        "    print(int(x,16))\n",
        "  else:\n",
        "    print(int(x,8))\n",
        "\n",
        "else:\n",
        "  print(int(x))"
      ]
    },
    {
      "cell_type": "markdown",
      "source": [
        "### 10866"
      ],
      "metadata": {
        "id": "slNXnBlhrqx0"
      }
    },
    {
      "cell_type": "code",
      "source": [
        "from collections import deque\n",
        "import sys\n",
        "\n",
        "n = int(input())\n",
        "deq = deque()\n",
        "\n",
        "for i in range(n):\n",
        "  cmd = sys.stdin.readline().split()\n",
        "\n",
        "  if cmd[0] == 'push_front':\n",
        "    deq.appendleft(cmd[1])\n",
        "  \n",
        "  if cmd[0] == 'push_back':\n",
        "    deq.append(cmd[1])\n",
        "\n",
        "  if cmd[0] == 'pop_front':\n",
        "    if len(deq)== 0:\n",
        "      print('-1')\n",
        "    else:\n",
        "      print(deq.popleft())\n",
        "\n",
        "  if cmd[0] == 'pop_back':\n",
        "    if len(deq)== 0:\n",
        "      print('-1')\n",
        "    else:\n",
        "      print(deq.pop())\n",
        "\n",
        "  if cmd[0] == 'size':\n",
        "    print(len(deq))\n",
        "\n",
        "  if cmd[0] == 'empty':\n",
        "    if len(deq)== 0:\n",
        "      print('1')\n",
        "    else:\n",
        "      print('0')\n",
        "\n",
        "  if cmd[0] == 'front':\n",
        "    if len(deq)== 0:\n",
        "      print('-1')\n",
        "    else:\n",
        "      print(deq[0])\n",
        "\n",
        "  if cmd[0] == 'back':\n",
        "    if len(deq)== 0:\n",
        "      print('-1')\n",
        "    else:\n",
        "      print(deq[-1])"
      ],
      "metadata": {
        "colab": {
          "base_uri": "https://localhost:8080/"
        },
        "id": "ufqWayIdrrEZ",
        "outputId": "9cd6ccf0-00ff-4647-e109-1b249cb32d53"
      },
      "execution_count": null,
      "outputs": [
        {
          "output_type": "stream",
          "name": "stdout",
          "text": [
            "15\n",
            "push_back 1\n",
            "push_front 2\n",
            "front\n",
            "2\n",
            "back\n",
            "1\n",
            "size\n",
            "2\n",
            "empty\n",
            "0\n",
            "pop_front\n",
            "2\n",
            "pop_back\n",
            "1\n",
            "pop_front\n",
            "-1\n",
            "size\n",
            "0\n",
            "empty\n",
            "1\n",
            "pop_back\n",
            "-1\n",
            "push_front 3\n",
            "empty\n",
            "0\n",
            "front\n",
            "3\n"
          ]
        }
      ]
    },
    {
      "cell_type": "markdown",
      "source": [
        "### 1018"
      ],
      "metadata": {
        "id": "w7hOHuxSuqm5"
      }
    },
    {
      "cell_type": "code",
      "source": [
        "n, m = map(int, input().split())\n",
        "board = []\n",
        "result = []\n",
        "\n",
        "for _ in range(n):\n",
        "  board.append(input())\n",
        "\n",
        "for i in range(n - 7):\n",
        "  for j in range(m - 7):\n",
        "    white = 0\n",
        "    black = 0\n",
        "    for a in range(i, i+8):\n",
        "      for b in range(j, j+8):\n",
        "        if (a+b) % 2 == 0: #행과 열의 인덱스 합이 짝수거나 홀수일 때 일정한 한 색을 가지게 됨.\n",
        "          if board[a][b] != 'W':\n",
        "            white += 1\n",
        "          else:\n",
        "            black += 1\n",
        "        else:\n",
        "          if board[a][b] != 'B':\n",
        "            white += 1\n",
        "          else:\n",
        "            black += 1\n",
        "\n",
        "  result.append(white)\n",
        "  result.append(black)\n",
        "\n",
        "print(min(result))"
      ],
      "metadata": {
        "colab": {
          "base_uri": "https://localhost:8080/"
        },
        "id": "ly_KG0oBuq0k",
        "outputId": "f3dc3c4d-2b9c-40c6-b045-e8c9fd35493a"
      },
      "execution_count": 5,
      "outputs": [
        {
          "output_type": "stream",
          "name": "stdout",
          "text": [
            "8 8\n",
            "WBWBWBWB\n",
            "BWBWBWBW\n",
            "WBWBWBWB\n",
            "BWBBBWBW\n",
            "WBWBWBWB\n",
            "BWBWBWBW\n",
            "WBWBWBWB\n",
            "BWBWBWBW\n",
            "1\n"
          ]
        }
      ]
    }
  ]
}