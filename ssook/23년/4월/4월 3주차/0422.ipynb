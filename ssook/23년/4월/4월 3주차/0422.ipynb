{
  "nbformat": 4,
  "nbformat_minor": 0,
  "metadata": {
    "colab": {
      "provenance": [],
      "authorship_tag": "ABX9TyPXVB66GNW9A7tyJmgNKMor",
      "include_colab_link": true
    },
    "kernelspec": {
      "name": "python3",
      "display_name": "Python 3"
    },
    "language_info": {
      "name": "python"
    }
  },
  "cells": [
    {
      "cell_type": "markdown",
      "metadata": {
        "id": "view-in-github",
        "colab_type": "text"
      },
      "source": [
        "<a href=\"https://colab.research.google.com/github/ssook1222/1Day-1Algo/blob/master/ssook/4%EC%9B%94/4%EC%9B%94%203%EC%A3%BC%EC%B0%A8/0422.ipynb\" target=\"_parent\"><img src=\"https://colab.research.google.com/assets/colab-badge.svg\" alt=\"Open In Colab\"/></a>"
      ]
    },
    {
      "cell_type": "markdown",
      "source": [
        "### 1924"
      ],
      "metadata": {
        "id": "IHssIfnzIqzT"
      }
    },
    {
      "cell_type": "code",
      "source": [
        "import calendar\n",
        "week = [\"MON\", \"TUE\", \"WED\", \"THU\", \"FRI\", \"SAT\", \"SUN\"]\n",
        "\n",
        "x, y = map(int, input().split(\" \"))\n",
        "day = calendar.weekday(2007, x, y)\n",
        "\n",
        "print(week[day])"
      ],
      "metadata": {
        "colab": {
          "base_uri": "https://localhost:8080/"
        },
        "id": "bt_ZT4DSH_i0",
        "outputId": "3c5aa1f7-a1fa-43c5-fb62-828bf8abf61e"
      },
      "execution_count": 8,
      "outputs": [
        {
          "output_type": "stream",
          "name": "stdout",
          "text": [
            "1 1\n",
            "MON\n"
          ]
        }
      ]
    },
    {
      "cell_type": "markdown",
      "source": [
        "### 11170"
      ],
      "metadata": {
        "id": "sTBMiPsKI4Ei"
      }
    },
    {
      "cell_type": "code",
      "source": [
        "t = int(input())\n",
        "\n",
        "for i in range(t):\n",
        "  cnt = 0\n",
        "  n, m = map(int, input().split(\" \"))\n",
        "\n",
        "  for i in range(n, m+1):\n",
        "    cnt += str(i).count('0') \n",
        "  print(cnt)"
      ],
      "metadata": {
        "colab": {
          "base_uri": "https://localhost:8080/"
        },
        "id": "o8rzTVOlI4UN",
        "outputId": "f4d26c44-f0a9-4257-f3df-4152eff7379e"
      },
      "execution_count": 13,
      "outputs": [
        {
          "output_type": "stream",
          "name": "stdout",
          "text": [
            "3\n",
            "0 10\n",
            "2\n",
            "33 1005\n",
            "199\n",
            "1 4\n",
            "0\n"
          ]
        }
      ]
    },
    {
      "cell_type": "markdown",
      "source": [
        "### 16212"
      ],
      "metadata": {
        "id": "_kXIslOLKMTi"
      }
    },
    {
      "cell_type": "code",
      "source": [
        "import sys\n",
        "n = int(sys.stdin.readline())\n",
        "a = list(map(int, sys.stdin.readline().split(\" \")))\n",
        "\n",
        "a.sort()\n",
        "print(*a)"
      ],
      "metadata": {
        "colab": {
          "base_uri": "https://localhost:8080/"
        },
        "id": "sQzGIDwMKMhl",
        "outputId": "36e64fb4-377e-4074-c28a-10f9064517ff"
      },
      "execution_count": 14,
      "outputs": [
        {
          "output_type": "stream",
          "name": "stdout",
          "text": [
            "6\n",
            "14 5 8 7 1 10\n",
            "1 5 7 8 10 14\n"
          ]
        }
      ]
    }
  ]
}