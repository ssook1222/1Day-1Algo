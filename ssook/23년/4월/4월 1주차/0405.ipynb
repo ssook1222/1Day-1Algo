{
  "nbformat": 4,
  "nbformat_minor": 0,
  "metadata": {
    "colab": {
      "provenance": [],
      "authorship_tag": "ABX9TyOgtN7ZoPyjdd/DuMcHQTIG",
      "include_colab_link": true
    },
    "kernelspec": {
      "name": "python3",
      "display_name": "Python 3"
    },
    "language_info": {
      "name": "python"
    }
  },
  "cells": [
    {
      "cell_type": "markdown",
      "metadata": {
        "id": "view-in-github",
        "colab_type": "text"
      },
      "source": [
        "<a href=\"https://colab.research.google.com/github/ssook1222/1Day-1Algo/blob/master/ssook/4%EC%9B%94/4%EC%9B%94%201%EC%A3%BC%EC%B0%A8/0405.ipynb\" target=\"_parent\"><img src=\"https://colab.research.google.com/assets/colab-badge.svg\" alt=\"Open In Colab\"/></a>"
      ]
    },
    {
      "cell_type": "markdown",
      "source": [
        "### 21964"
      ],
      "metadata": {
        "id": "RBzrRB6Gl0pm"
      }
    },
    {
      "cell_type": "code",
      "execution_count": 6,
      "metadata": {
        "colab": {
          "base_uri": "https://localhost:8080/"
        },
        "id": "eXO8HGwilyFB",
        "outputId": "4be2d685-881d-4381-8d30-4c470c3b00c5"
      },
      "outputs": [
        {
          "output_type": "stream",
          "name": "stdout",
          "text": [
            "12\n",
            "Sunrin,Hair.\n",
            "Hair.\n"
          ]
        }
      ],
      "source": [
        "n = int(input())\n",
        "ans = input()\n",
        "print(ans[-5:])"
      ]
    },
    {
      "cell_type": "markdown",
      "source": [
        "### 2581"
      ],
      "metadata": {
        "id": "vFOoGtWDnC5P"
      }
    },
    {
      "cell_type": "code",
      "source": [
        "n = int(input())\n",
        "m = int(input())\n",
        "\n",
        "ans = []\n",
        "\n",
        "for i in range(n, m+1):\n",
        "  if i==1:\n",
        "        pass\n",
        "  elif i==2:\n",
        "        ans.append(i)\n",
        "  else:\n",
        "      for j in range(2, i):\n",
        "          if i%j==0:\n",
        "              break\n",
        "          elif j==i-1:\n",
        "              ans.append(i)\n",
        "              \n",
        "if len(ans)!=0:\n",
        "  print(sum(ans))\n",
        "  print(min(ans))\n",
        "else:\n",
        "  print(-1)"
      ],
      "metadata": {
        "colab": {
          "base_uri": "https://localhost:8080/"
        },
        "id": "qJWzP00BnDUj",
        "outputId": "469f34c4-572b-49ff-8bed-14302b3e4f9f"
      },
      "execution_count": 5,
      "outputs": [
        {
          "output_type": "stream",
          "name": "stdout",
          "text": [
            "60\n",
            "100\n",
            "620\n",
            "61\n"
          ]
        }
      ]
    },
    {
      "cell_type": "markdown",
      "source": [
        "### 1834"
      ],
      "metadata": {
        "id": "9o7_C2C4rVrk"
      }
    },
    {
      "cell_type": "code",
      "source": [
        "# 점화식 = (n*i)+i\n",
        "n = int(input())\n",
        "ans = 0\n",
        "\n",
        "for i in range(1, n):\n",
        "  ans = ans + ((n*i)+i)\n",
        "print(ans)"
      ],
      "metadata": {
        "colab": {
          "base_uri": "https://localhost:8080/"
        },
        "id": "mOl5FrecrV8q",
        "outputId": "f01c0d36-acb7-4a61-9be8-84763b4ffb5b"
      },
      "execution_count": 6,
      "outputs": [
        {
          "output_type": "stream",
          "name": "stdout",
          "text": [
            "3\n",
            "12\n"
          ]
        }
      ]
    }
  ]
}