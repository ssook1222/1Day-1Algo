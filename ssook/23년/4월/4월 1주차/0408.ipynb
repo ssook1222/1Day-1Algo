{
  "nbformat": 4,
  "nbformat_minor": 0,
  "metadata": {
    "colab": {
      "provenance": [],
      "authorship_tag": "ABX9TyMPPkJ1yeLuesTcZwJWe3Nc",
      "include_colab_link": true
    },
    "kernelspec": {
      "name": "python3",
      "display_name": "Python 3"
    },
    "language_info": {
      "name": "python"
    }
  },
  "cells": [
    {
      "cell_type": "markdown",
      "metadata": {
        "id": "view-in-github",
        "colab_type": "text"
      },
      "source": [
        "<a href=\"https://colab.research.google.com/github/ssook1222/1Day-1Algo/blob/master/ssook/4%EC%9B%94/4%EC%9B%94%201%EC%A3%BC%EC%B0%A8/0408.ipynb\" target=\"_parent\"><img src=\"https://colab.research.google.com/assets/colab-badge.svg\" alt=\"Open In Colab\"/></a>"
      ]
    },
    {
      "cell_type": "markdown",
      "source": [
        "### 5338"
      ],
      "metadata": {
        "id": "UaFESNeYXqgv"
      }
    },
    {
      "cell_type": "code",
      "execution_count": null,
      "metadata": {
        "id": "gTrUQDm1Xoeh"
      },
      "outputs": [],
      "source": [
        "print(\"       _.-;;-._\")\n",
        "print(\"'-..-'|   ||   |\")\n",
        "print(\"'-..-'|_.-;;-._|\")\n",
        "print(\"'-..-'|   ||   |\")\n",
        "print(\"'-..-'|_.-''-._|\")"
      ]
    }
  ]
}