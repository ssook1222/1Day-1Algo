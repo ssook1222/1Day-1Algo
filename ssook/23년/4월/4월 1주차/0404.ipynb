{
  "nbformat": 4,
  "nbformat_minor": 0,
  "metadata": {
    "colab": {
      "provenance": [],
      "authorship_tag": "ABX9TyM7HoZX8okw3+Xhzi5zA9cs",
      "include_colab_link": true
    },
    "kernelspec": {
      "name": "python3",
      "display_name": "Python 3"
    },
    "language_info": {
      "name": "python"
    }
  },
  "cells": [
    {
      "cell_type": "markdown",
      "metadata": {
        "id": "view-in-github",
        "colab_type": "text"
      },
      "source": [
        "<a href=\"https://colab.research.google.com/github/ssook1222/1Day-1Algo/blob/master/ssook/4%EC%9B%94/4%EC%9B%94%201%EC%A3%BC%EC%B0%A8/0404.ipynb\" target=\"_parent\"><img src=\"https://colab.research.google.com/assets/colab-badge.svg\" alt=\"Open In Colab\"/></a>"
      ]
    },
    {
      "cell_type": "markdown",
      "source": [
        "### 20053"
      ],
      "metadata": {
        "id": "yPKjISoSc6L7"
      }
    },
    {
      "cell_type": "code",
      "execution_count": 3,
      "metadata": {
        "colab": {
          "base_uri": "https://localhost:8080/"
        },
        "id": "bBJS2KcNbs49",
        "outputId": "b641471f-f870-4382-f43d-133c1b186d46"
      },
      "outputs": [
        {
          "output_type": "stream",
          "name": "stdout",
          "text": [
            "3\n",
            "5\n",
            "20 28 22 25 21\n",
            "20 28\n",
            "5\n",
            "30 21 17 25 29\n",
            "17 30\n",
            "5\n",
            "20 10 35 30 7\n",
            "7 35\n"
          ]
        }
      ],
      "source": [
        "t = int(input())\n",
        "\n",
        "for i in range(0, t):\n",
        "  n = int(input())\n",
        "  num = list(map(int, input().split(\" \")))\n",
        "\n",
        "  print(\"%d %d\" %(min(num), max(num)))"
      ]
    },
    {
      "cell_type": "markdown",
      "source": [
        "### 10823"
      ],
      "metadata": {
        "id": "LO-kEiWmd7aU"
      }
    },
    {
      "cell_type": "code",
      "source": [
        "s = ''\n",
        "\n",
        "while True :\n",
        "  try :\n",
        "    s = s + input()\n",
        "  except :\n",
        "    break\n",
        "\n",
        "print(sum(map(int, s.split(\",\"))))"
      ],
      "metadata": {
        "colab": {
          "base_uri": "https://localhost:8080/"
        },
        "id": "OmltwrjGd7vH",
        "outputId": "f8fe9ee7-a87e-47ca-9a54-34fef75fe8dd"
      },
      "execution_count": 5,
      "outputs": [
        {
          "output_type": "stream",
          "name": "stdout",
          "text": [
            "10,20,\n",
            "3\n",
            "0,50\n",
            ",1\n",
            "00\n",
            "210\n"
          ]
        }
      ]
    },
    {
      "cell_type": "markdown",
      "source": [
        "### 11282"
      ],
      "metadata": {
        "id": "-PMZOE6nfJbc"
      }
    },
    {
      "cell_type": "code",
      "source": [
        "print(chr(44031+int(input())))"
      ],
      "metadata": {
        "colab": {
          "base_uri": "https://localhost:8080/"
        },
        "id": "mxPmXbxhfJte",
        "outputId": "23a711c9-2064-473e-845c-ed82ad4ad077"
      },
      "execution_count": 8,
      "outputs": [
        {
          "output_type": "stream",
          "name": "stdout",
          "text": [
            "1\n",
            "가\n"
          ]
        }
      ]
    }
  ]
}