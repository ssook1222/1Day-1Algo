{
  "nbformat": 4,
  "nbformat_minor": 0,
  "metadata": {
    "colab": {
      "provenance": [],
      "authorship_tag": "ABX9TyN/DeqENtaru5L8SzhrAtu/",
      "include_colab_link": true
    },
    "kernelspec": {
      "name": "python3",
      "display_name": "Python 3"
    },
    "language_info": {
      "name": "python"
    }
  },
  "cells": [
    {
      "cell_type": "markdown",
      "metadata": {
        "id": "view-in-github",
        "colab_type": "text"
      },
      "source": [
        "<a href=\"https://colab.research.google.com/github/ssook1222/1Day-1Algo/blob/master/ssook/4%EC%9B%94/4%EC%9B%94%202%EC%A3%BC%EC%B0%A8/0410.ipynb\" target=\"_parent\"><img src=\"https://colab.research.google.com/assets/colab-badge.svg\" alt=\"Open In Colab\"/></a>"
      ]
    },
    {
      "cell_type": "markdown",
      "source": [
        "### 10093"
      ],
      "metadata": {
        "id": "qnjrSG7t7VmL"
      }
    },
    {
      "cell_type": "code",
      "execution_count": 3,
      "metadata": {
        "colab": {
          "base_uri": "https://localhost:8080/"
        },
        "id": "NdPULDdO7SO-",
        "outputId": "ee221749-6ef9-4976-95e8-9d49972c820c"
      },
      "outputs": [
        {
          "output_type": "stream",
          "name": "stdout",
          "text": [
            "10 12\n",
            "1\n",
            "11 "
          ]
        }
      ],
      "source": [
        "n, m = map(int, input().split(\" \"))\n",
        "\n",
        "n1 = min(n, m)\n",
        "n2 = max(n, m)\n",
        "\n",
        "if n2 - n1 <= 1:\n",
        "  print(\"0\")\n",
        "\n",
        "else:\n",
        "  print(n2-(n1+1))\n",
        "  for i in range(n1+1,n2):\n",
        "    print(i, end=\" \")"
      ]
    },
    {
      "cell_type": "markdown",
      "source": [
        "### 2774"
      ],
      "metadata": {
        "id": "X-e0QVW_aTE_"
      }
    },
    {
      "cell_type": "code",
      "source": [
        "t = int(input())\n",
        "\n",
        "for i in range(0, t):\n",
        "  n = str(input())\n",
        "  n = set(n)\n",
        "  print(len(n))"
      ],
      "metadata": {
        "colab": {
          "base_uri": "https://localhost:8080/"
        },
        "id": "EKI585lgaTSz",
        "outputId": "35f5d5c9-91b7-4aa8-ae0d-abe1fe94b360"
      },
      "execution_count": 6,
      "outputs": [
        {
          "output_type": "stream",
          "name": "stdout",
          "text": [
            "2\n",
            "7\n",
            "1\n",
            "122\n",
            "2\n"
          ]
        }
      ]
    },
    {
      "cell_type": "markdown",
      "source": [
        "### 13163"
      ],
      "metadata": {
        "id": "C6i46krbcAlt"
      }
    },
    {
      "cell_type": "code",
      "source": [
        "t = int(input())\n",
        "\n",
        "for i in range(0,t):\n",
        "  name = list(map(str, input().split(\" \")))\n",
        "  name[0]='god'\n",
        "  for j in name:\n",
        "    print(j, end=\"\")\n",
        "  print(\" \")"
      ],
      "metadata": {
        "colab": {
          "base_uri": "https://localhost:8080/"
        },
        "id": "ad2ZV2MVcAxM",
        "outputId": "d6a6128c-d5a5-4e5a-84ec-52341e63472b"
      },
      "execution_count": 15,
      "outputs": [
        {
          "output_type": "stream",
          "name": "stdout",
          "text": [
            "5\n",
            "yu ka ri ko\n",
            "godkariko \n",
            "baek joon\n",
            "godjoon \n",
            "ke sa ki yo\n",
            "godsakiyo \n",
            "ac ka\n",
            "godka \n",
            "choi sook\n",
            "godsook \n"
          ]
        }
      ]
    }
  ]
}