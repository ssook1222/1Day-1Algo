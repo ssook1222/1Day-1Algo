{
  "nbformat": 4,
  "nbformat_minor": 0,
  "metadata": {
    "colab": {
      "provenance": [],
      "authorship_tag": "ABX9TyMju5l0kOZBuC0Orl61uMNj",
      "include_colab_link": true
    },
    "kernelspec": {
      "name": "python3",
      "display_name": "Python 3"
    },
    "language_info": {
      "name": "python"
    }
  },
  "cells": [
    {
      "cell_type": "markdown",
      "metadata": {
        "id": "view-in-github",
        "colab_type": "text"
      },
      "source": [
        "<a href=\"https://colab.research.google.com/github/ssook1222/1Day-1Algo/blob/master/ssook/4%EC%9B%94/4%EC%9B%94%202%EC%A3%BC%EC%B0%A8/0412.ipynb\" target=\"_parent\"><img src=\"https://colab.research.google.com/assets/colab-badge.svg\" alt=\"Open In Colab\"/></a>"
      ]
    },
    {
      "cell_type": "markdown",
      "source": [
        "### 9076"
      ],
      "metadata": {
        "id": "8LZzj7Yep3hz"
      }
    },
    {
      "cell_type": "code",
      "execution_count": null,
      "metadata": {
        "colab": {
          "base_uri": "https://localhost:8080/"
        },
        "id": "zaat4IBcphHT",
        "outputId": "0bae3dc5-29bb-4592-c0df-4fbf24498ce6"
      },
      "outputs": [
        {
          "output_type": "stream",
          "name": "stdout",
          "text": [
            "4\n",
            "10 8 5 7 9\n",
            "24\n",
            "10 9 10 9 5\n",
            "28\n",
            "10 3 5 9 10\n",
            "KIN\n",
            "1 2 3 6 9\n",
            "KIN\n"
          ]
        }
      ],
      "source": [
        "t = int(input())\n",
        "for i in range(0,t):\n",
        "  score = list(map(int, input().split(\" \")))\n",
        "  score.remove(max(score))\n",
        "  score.remove(min(score))\n",
        "\n",
        "  if max(score) - min(score) >= 4:\n",
        "    print('KIN')\n",
        "\n",
        "  else:\n",
        "    print(sum(score))"
      ]
    },
    {
      "cell_type": "markdown",
      "source": [
        "### 11653"
      ],
      "metadata": {
        "id": "KhxWjNEXrg9x"
      }
    },
    {
      "cell_type": "code",
      "source": [
        "def soinsu(n):\n",
        "  d = 2\n",
        "  num = []\n",
        "\n",
        "  while d <= n :\n",
        "    if n % d == 0 :\n",
        "      num.append(d)\n",
        "      n = n // d\n",
        "    else:\n",
        "      d = d + 1\n",
        "  \n",
        "  return num\n",
        "\n",
        "n = int(input())\n",
        "\n",
        "if n == 1:\n",
        "  print(\"\")\n",
        "\n",
        "ans = []\n",
        "ans = soinsu(n)\n",
        "ans.sort()\n",
        "for i in ans:\n",
        "  print(i)"
      ],
      "metadata": {
        "colab": {
          "base_uri": "https://localhost:8080/"
        },
        "id": "tivPPkMarhKW",
        "outputId": "24c82b22-07fd-43f6-b3e5-33bbb44e42fd"
      },
      "execution_count": null,
      "outputs": [
        {
          "output_type": "stream",
          "name": "stdout",
          "text": [
            "9991\n",
            "97\n",
            "103\n"
          ]
        }
      ]
    },
    {
      "cell_type": "markdown",
      "source": [
        "### 15726"
      ],
      "metadata": {
        "id": "LijDVe0uu_yI"
      }
    },
    {
      "cell_type": "code",
      "source": [
        "a,b,c = map(int, input().split(\" \"))\n",
        "\n",
        "n1 = (a*b)/c\n",
        "n2 = (a/b)*c\n",
        "\n",
        "print(int(max(n1, n2)))"
      ],
      "metadata": {
        "colab": {
          "base_uri": "https://localhost:8080/"
        },
        "id": "1GaV6O6pvAAE",
        "outputId": "cd3ff2b3-1080-423d-9dd1-85e439b827b4"
      },
      "execution_count": null,
      "outputs": [
        {
          "output_type": "stream",
          "name": "stdout",
          "text": [
            "32 16 8\n",
            "64\n"
          ]
        }
      ]
    },
    {
      "cell_type": "markdown",
      "source": [
        "### 1934"
      ],
      "metadata": {
        "id": "q__aZZTpwiaD"
      }
    },
    {
      "cell_type": "markdown",
      "source": [
        "#### 유클리드 호제법\n",
        "\n",
        "나누는 수 % 나머지를 반복하다가 0이 되면, 그 때 나누는 수가 최대공약수"
      ],
      "metadata": {
        "id": "bz7OVI3JwV-G"
      }
    },
    {
      "cell_type": "code",
      "source": [
        "t = int(input())\n",
        "\n",
        "for i in range(0, t):\n",
        "  A, B = map(int, input().split(\" \"))\n",
        "  a = A\n",
        "  b = B\n",
        "  n = 1\n",
        "  while n != 0:\n",
        "    n = a % b\n",
        "    a = b\n",
        "    b = n\n",
        "  print(int((A*B/a)))"
      ],
      "metadata": {
        "colab": {
          "base_uri": "https://localhost:8080/"
        },
        "id": "4FfdwowqvW2N",
        "outputId": "86352cf3-f9c1-465e-a5fd-0a095fa2caa7"
      },
      "execution_count": 2,
      "outputs": [
        {
          "output_type": "stream",
          "name": "stdout",
          "text": [
            "3\n",
            "1 45000\n",
            "45000\n",
            "6 10\n",
            "30\n",
            "13 17\n",
            "221\n"
          ]
        }
      ]
    }
  ]
}