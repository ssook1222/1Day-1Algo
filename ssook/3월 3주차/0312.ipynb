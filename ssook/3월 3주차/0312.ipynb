{
  "nbformat": 4,
  "nbformat_minor": 0,
  "metadata": {
    "colab": {
      "provenance": []
    },
    "kernelspec": {
      "name": "python3",
      "display_name": "Python 3"
    },
    "language_info": {
      "name": "python"
    }
  },
  "cells": [
    {
      "cell_type": "markdown",
      "source": [
        "## 3월 12일 문제풀이\n",
        "\n",
        "> 브론즈 뽀개기!!!\n",
        "\n",
        "---        \n",
        "\n",
        "`참여자` 최숙"
      ],
      "metadata": {
        "id": "zi6itUtxBZ3q"
      }
    },
    {
      "cell_type": "markdown",
      "source": [
        "### 4470"
      ],
      "metadata": {
        "id": "PMOr9_eZBhx5"
      }
    },
    {
      "cell_type": "code",
      "execution_count": null,
      "metadata": {
        "colab": {
          "base_uri": "https://localhost:8080/"
        },
        "id": "129GKMDhBYhi",
        "outputId": "cb942f68-f4b5-49b6-c6b7-b83577b00c92"
      },
      "outputs": [
        {
          "output_type": "stream",
          "name": "stdout",
          "text": [
            "5\n",
            "Lionel Cosgrove\n",
            "Alice\n",
            "Columbus and Tallahassee\n",
            "Shaun and Ed\n",
            "Fido\n",
            "1. Lionel Cosgrove\n",
            "2. Alice\n",
            "3. Columbus and Tallahassee\n",
            "4. Shaun and Ed\n",
            "5. Fido\n"
          ]
        }
      ],
      "source": [
        "N = int(input())\n",
        "line_list = []\n",
        "\n",
        "for i in range(0, N):\n",
        "  line = input()\n",
        "  line_list.append(line)\n",
        "\n",
        "for i in range(0, len(line_list)):\n",
        "  print(\"%d. %s\" %(i+1, line_list[i]))"
      ]
    },
    {
      "cell_type": "markdown",
      "source": [
        "### 10814"
      ],
      "metadata": {
        "id": "qJspccRsaTH4"
      }
    },
    {
      "cell_type": "code",
      "source": [
        "N = int(input())\n",
        "\n",
        "ans = []\n",
        "\n",
        "for i in range(0, N):\n",
        "  x, y = map(str, input().split())\n",
        "  ans.append((x,y))\n",
        "\n",
        "ans.sort(key=lambda x: int(x[0]))\n",
        "\n",
        "for i in range(0, N):\n",
        "  print(\"%d %s\" %(int(ans[i][0]), ans[i][1]))"
      ],
      "metadata": {
        "colab": {
          "base_uri": "https://localhost:8080/"
        },
        "id": "0zfcW0PhaTWL",
        "outputId": "9b538fcf-e036-4423-eb66-9267a010bdf3"
      },
      "execution_count": 13,
      "outputs": [
        {
          "output_type": "stream",
          "name": "stdout",
          "text": [
            "3\n",
            "21 Junkyu\n",
            "21 Dohyun\n",
            "20 Sunyoung\n",
            "20 Sunyoung\n",
            "21 Junkyu\n",
            "21 Dohyun\n"
          ]
        }
      ]
    },
    {
      "cell_type": "markdown",
      "source": [
        "### 27866"
      ],
      "metadata": {
        "id": "d9d8JAqlefvV"
      }
    },
    {
      "cell_type": "code",
      "source": [
        "ans = input()\n",
        "indx = int(input())\n",
        "\n",
        "print(ans[indx-1])"
      ],
      "metadata": {
        "colab": {
          "base_uri": "https://localhost:8080/"
        },
        "id": "2KHM-guAegpA",
        "outputId": "c630dcd0-4384-41fb-854f-92b19d7570d4"
      },
      "execution_count": 15,
      "outputs": [
        {
          "output_type": "stream",
          "name": "stdout",
          "text": [
            "Sprout\n",
            "3\n",
            "r\n"
          ]
        }
      ]
    },
    {
      "cell_type": "markdown",
      "source": [
        "### 5086"
      ],
      "metadata": {
        "id": "rCYpwpGae8Ai"
      }
    },
    {
      "cell_type": "code",
      "source": [
        "while True :\n",
        "  a, b = map(int, input().split())\n",
        "  if a == 0 and b == 0:\n",
        "    break\n",
        "  if b % a == 0 :\n",
        "    print(\"factor\")\n",
        "  elif a % b == 0 :\n",
        "    print(\"multiple\")\n",
        "  else:\n",
        "    print(\"neither\")"
      ],
      "metadata": {
        "colab": {
          "base_uri": "https://localhost:8080/"
        },
        "id": "9sWEkwJPe9xr",
        "outputId": "f7ba1000-d42d-45ce-b823-5cc28f6d0f8e"
      },
      "execution_count": 17,
      "outputs": [
        {
          "name": "stdout",
          "output_type": "stream",
          "text": [
            "8 16\n",
            "factor\n",
            "32 4\n",
            "multiple\n",
            "17 5\n",
            "neither\n",
            "0 0\n"
          ]
        }
      ]
    },
    {
      "cell_type": "markdown",
      "source": [
        "### 2751"
      ],
      "metadata": {
        "id": "Evi_abr7hnZ3"
      }
    },
    {
      "cell_type": "code",
      "source": [
        "import sys\n",
        "\n",
        "N = int(sys.stdin.readline())\n",
        "num = []\n",
        "\n",
        "for i in range(0, N):\n",
        "    num.append(int(sys.stdin.readline()))\n",
        "\n",
        "num.sort()\n",
        "\n",
        "for i in range(0, len(num)):\n",
        "    print(num[i])"
      ],
      "metadata": {
        "id": "sXLUZM50hptF"
      },
      "execution_count": null,
      "outputs": []
    }
  ]
}