{
  "nbformat": 4,
  "nbformat_minor": 0,
  "metadata": {
    "colab": {
      "provenance": []
    },
    "kernelspec": {
      "name": "python3",
      "display_name": "Python 3"
    },
    "language_info": {
      "name": "python"
    }
  },
  "cells": [
    {
      "cell_type": "markdown",
      "source": [
        "## 3월 15일 문제풀이\n",
        "\n",
        "> 브론즈 뽀개기!!!\n",
        "\n",
        "---        \n",
        "\n",
        "`참여자` 최숙"
      ],
      "metadata": {
        "id": "TcdWwCdOs5X-"
      }
    },
    {
      "cell_type": "markdown",
      "source": [
        "### 14489"
      ],
      "metadata": {
        "id": "jybXx6v-s62n"
      }
    },
    {
      "cell_type": "code",
      "execution_count": null,
      "metadata": {
        "colab": {
          "base_uri": "https://localhost:8080/"
        },
        "id": "WeM1SsRBsx9f",
        "outputId": "f6602d02-2c75-430d-8d17-8955000e3d19"
      },
      "outputs": [
        {
          "output_type": "stream",
          "name": "stdout",
          "text": [
            "15000 6000\n",
            "5000\n",
            "11000\n"
          ]
        }
      ],
      "source": [
        "A, B = map(int, input().split())\n",
        "\n",
        "C = int(input())\n",
        "\n",
        "if A+B >= C*2 :\n",
        "  print((A+B)-(C*2))\n",
        "\n",
        "else:\n",
        "  print(A+B)"
      ]
    },
    {
      "cell_type": "markdown",
      "source": [
        "### 10988"
      ],
      "metadata": {
        "id": "sDrL1HOh_X6S"
      }
    },
    {
      "cell_type": "code",
      "source": [
        "data = input()\n",
        "\n",
        "if data == data[::-1] :\n",
        "  print(\"1\")\n",
        "\n",
        "else:\n",
        "  print(\"0\")"
      ],
      "metadata": {
        "colab": {
          "base_uri": "https://localhost:8080/"
        },
        "id": "mYEKBxG4_YLj",
        "outputId": "20f4f9c9-f553-4a98-d6a4-ed92264eac9d"
      },
      "execution_count": 3,
      "outputs": [
        {
          "output_type": "stream",
          "name": "stdout",
          "text": [
            "sook\n",
            "!\n"
          ]
        }
      ]
    },
    {
      "cell_type": "markdown",
      "source": [
        "### 25206"
      ],
      "metadata": {
        "id": "MzLPb1o_A92t"
      }
    },
    {
      "cell_type": "code",
      "source": [
        "r_grade = 0\n",
        "sum_raw = 0\n",
        "sum_time = 0\n",
        "\n",
        "for i in range(0, 20):\n",
        "  subject, time, grade = map(str, input().split())\n",
        "  \n",
        "  if grade == \"A+\":\n",
        "    r_grade = 4.5\n",
        "  \n",
        "  elif grade == \"A0\":\n",
        "    r_grade = 4.0\n",
        "  \n",
        "  elif grade == \"B+\":\n",
        "    r_grade = 3.5\n",
        "  \n",
        "  elif grade == \"B0\":\n",
        "    r_grade = 3.0\n",
        "\n",
        "  elif grade == \"C+\":\n",
        "    r_grade = 2.5\n",
        "\n",
        "  elif grade == \"C0\":\n",
        "    r_grade = 2.0\n",
        "\n",
        "  elif grade == \"D+\":\n",
        "    r_grade = 1.5\n",
        "\n",
        "  elif grade == \"D0\":\n",
        "    r_grade = 1.0\n",
        "\n",
        "  elif grade == \"F\":\n",
        "    r_grade = 0.0\n",
        "    \n",
        "  if grade != \"P\":\n",
        "    sum_raw = float(r_grade) * float(time) + sum_raw\n",
        "    sum_time = float(time) + sum_time  \n",
        "\n",
        "print( sum_raw / sum_time )"
      ],
      "metadata": {
        "id": "DDg6DLrMA-Ji"
      },
      "execution_count": null,
      "outputs": []
    }
  ]
}