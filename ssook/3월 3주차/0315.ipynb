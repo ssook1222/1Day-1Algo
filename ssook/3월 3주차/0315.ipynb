{
  "nbformat": 4,
  "nbformat_minor": 0,
  "metadata": {
    "colab": {
      "provenance": []
    },
    "kernelspec": {
      "name": "python3",
      "display_name": "Python 3"
    },
    "language_info": {
      "name": "python"
    }
  },
  "cells": [
    {
      "cell_type": "markdown",
      "source": [
        "## 3월 15일 문제풀이\n",
        "\n",
        "> 브론즈 뽀개기!!!\n",
        "\n",
        "---        \n",
        "\n",
        "`참여자` 최숙"
      ],
      "metadata": {
        "id": "TcdWwCdOs5X-"
      }
    },
    {
      "cell_type": "markdown",
      "source": [
        "### 14489"
      ],
      "metadata": {
        "id": "jybXx6v-s62n"
      }
    },
    {
      "cell_type": "code",
      "execution_count": null,
      "metadata": {
        "colab": {
          "base_uri": "https://localhost:8080/"
        },
        "id": "WeM1SsRBsx9f",
        "outputId": "f6602d02-2c75-430d-8d17-8955000e3d19"
      },
      "outputs": [
        {
          "output_type": "stream",
          "name": "stdout",
          "text": [
            "15000 6000\n",
            "5000\n",
            "11000\n"
          ]
        }
      ],
      "source": [
        "A, B = map(int, input().split())\n",
        "\n",
        "C = int(input())\n",
        "\n",
        "if A+B >= C*2 :\n",
        "  print((A+B)-(C*2))\n",
        "\n",
        "else:\n",
        "  print(A+B)"
      ]
    }
  ]
}