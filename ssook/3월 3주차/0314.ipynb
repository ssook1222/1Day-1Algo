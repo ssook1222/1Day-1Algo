{
  "nbformat": 4,
  "nbformat_minor": 0,
  "metadata": {
    "colab": {
      "provenance": []
    },
    "kernelspec": {
      "name": "python3",
      "display_name": "Python 3"
    },
    "language_info": {
      "name": "python"
    }
  },
  "cells": [
    {
      "cell_type": "markdown",
      "source": [
        "## 3월 14일 문제풀이\n",
        "\n",
        "> 브론즈 뽀개기!!!\n",
        "\n",
        "---        \n",
        "\n",
        "`참여자` 최숙"
      ],
      "metadata": {
        "id": "vAuY_VUPx5RP"
      }
    },
    {
      "cell_type": "markdown",
      "source": [
        "### 15680"
      ],
      "metadata": {
        "id": "5hO7AgXazO0x"
      }
    },
    {
      "cell_type": "code",
      "execution_count": null,
      "metadata": {
        "id": "C_3mte-ex3w6"
      },
      "outputs": [],
      "source": [
        "N = int(input())\n",
        "\n",
        "if N == 0 :\n",
        "  print(\"YONSEI\")\n",
        "\n",
        "elif N == 1:\n",
        "  print(\"Leading the Way to the Future\")"
      ]
    }
  ]
}