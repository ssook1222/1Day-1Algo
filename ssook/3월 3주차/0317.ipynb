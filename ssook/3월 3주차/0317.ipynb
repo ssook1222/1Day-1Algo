{
  "nbformat": 4,
  "nbformat_minor": 0,
  "metadata": {
    "colab": {
      "provenance": [],
      "authorship_tag": "ABX9TyM8Nk9qPLu8/3FtN3BpiQg3"
    },
    "kernelspec": {
      "name": "python3",
      "display_name": "Python 3"
    },
    "language_info": {
      "name": "python"
    }
  },
  "cells": [
    {
      "cell_type": "markdown",
      "source": [
        "### 11945"
      ],
      "metadata": {
        "id": "p5_tGAxzgSVG"
      }
    },
    {
      "cell_type": "code",
      "source": [
        "N, M = map(int, input().split())\n",
        "for _ in range(N):\n",
        "    print(input()[::-1])"
      ],
      "metadata": {
        "colab": {
          "base_uri": "https://localhost:8080/"
        },
        "id": "SHw3yDy7gRlM",
        "outputId": "bc45fa4d-392e-4c68-f9da-488979c9e0bb"
      },
      "execution_count": null,
      "outputs": [
        {
          "output_type": "stream",
          "name": "stdout",
          "text": [
            "5 7\n",
            "0010000\n",
            "0000100\n",
            "0111010\n",
            "0101110\n",
            "0111010\n",
            "0101110\n",
            "0010000\n",
            "0000100\n",
            "0010000\n",
            "0000100\n"
          ]
        }
      ]
    },
    {
      "cell_type": "markdown",
      "source": [
        "### 5717"
      ],
      "metadata": {
        "id": "mlCwbwDbyCyX"
      }
    },
    {
      "cell_type": "code",
      "source": [
        "while True:\n",
        "  M, F = map(int, input().split())\n",
        "  if M == 0 and F == 0 :\n",
        "    break\n",
        "  print(M+F)"
      ],
      "metadata": {
        "colab": {
          "base_uri": "https://localhost:8080/"
        },
        "id": "nAtBhiddyDGW",
        "outputId": "44dcd523-724d-4ef4-b9c1-1160338a2a79"
      },
      "execution_count": null,
      "outputs": [
        {
          "name": "stdout",
          "output_type": "stream",
          "text": [
            "2 2\n",
            "4\n",
            "2 3\n",
            "5\n",
            "5 5\n",
            "10\n",
            "1 1\n",
            "2\n",
            "0 0\n"
          ]
        }
      ]
    },
    {
      "cell_type": "markdown",
      "source": [
        "### 17388"
      ],
      "metadata": {
        "id": "acAo3OIdyvHs"
      }
    },
    {
      "cell_type": "code",
      "source": [
        "S, K, H = map(int, input().split())\n",
        "\n",
        "if S + K + H >= 100:\n",
        "  print(\"OK\")\n",
        "\n",
        "else:\n",
        "  if min(S, K, H) == S :\n",
        "    print(\"Soongsil\")  \n",
        "  elif min(S, K, H) == K :\n",
        "    print(\"Korea\")  \n",
        "  elif min(S, K, H) == H :\n",
        "    print(\"Hanyang\")  "
      ],
      "metadata": {
        "colab": {
          "base_uri": "https://localhost:8080/"
        },
        "id": "DnY6XLTEyval",
        "outputId": "2009d930-3183-4693-d1fa-155a0471b43e"
      },
      "execution_count": null,
      "outputs": [
        {
          "output_type": "stream",
          "name": "stdout",
          "text": [
            "19 8 9\n",
            "Korea\n"
          ]
        }
      ]
    },
    {
      "cell_type": "markdown",
      "source": [
        "### 2941"
      ],
      "metadata": {
        "id": "o4hYQ9th1PVv"
      }
    },
    {
      "cell_type": "code",
      "source": [
        "croatia = [\"c=\", \"c-\", \"dz=\", \"d-\", \"lj\", \"nj\", \"s=\", \"z=\"]\n",
        "\n",
        "raw = input()\n",
        "\n",
        "for i in croatia:\n",
        "  raw = raw.replace(i, \"@\")\n",
        "\n",
        "print(len(raw))"
      ],
      "metadata": {
        "colab": {
          "base_uri": "https://localhost:8080/"
        },
        "id": "tj8ZiFp81Pki",
        "outputId": "f39706f6-5f8b-4aa0-c254-1cf7d9ff41d3"
      },
      "execution_count": null,
      "outputs": [
        {
          "output_type": "stream",
          "name": "stdout",
          "text": [
            "ljes=njak\n",
            "6\n"
          ]
        }
      ]
    },
    {
      "cell_type": "markdown",
      "source": [
        "\n",
        "\n",
        "``` python\n",
        "  raw = raw.replace(i, \"@\")\n",
        "```\n",
        "\n",
        "크로아티아 알파벳을 다른 특이한 문자(한 글자)로 바꿔준 다음, 바꾼 문자열의 길이를 센다.\n"
      ],
      "metadata": {
        "id": "KLfqRf7P2XWr"
      }
    }
  ]
}