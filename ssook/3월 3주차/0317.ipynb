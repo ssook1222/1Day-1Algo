{
  "nbformat": 4,
  "nbformat_minor": 0,
  "metadata": {
    "colab": {
      "provenance": []
    },
    "kernelspec": {
      "name": "python3",
      "display_name": "Python 3"
    },
    "language_info": {
      "name": "python"
    }
  },
  "cells": [
    {
      "cell_type": "markdown",
      "source": [
        "### 11945"
      ],
      "metadata": {
        "id": "p5_tGAxzgSVG"
      }
    },
    {
      "cell_type": "code",
      "source": [
        "N, M = map(int, input().split())\n",
        "for _ in range(N):\n",
        "    print(input()[::-1])"
      ],
      "metadata": {
        "colab": {
          "base_uri": "https://localhost:8080/"
        },
        "id": "SHw3yDy7gRlM",
        "outputId": "bc45fa4d-392e-4c68-f9da-488979c9e0bb"
      },
      "execution_count": null,
      "outputs": [
        {
          "output_type": "stream",
          "name": "stdout",
          "text": [
            "5 7\n",
            "0010000\n",
            "0000100\n",
            "0111010\n",
            "0101110\n",
            "0111010\n",
            "0101110\n",
            "0010000\n",
            "0000100\n",
            "0010000\n",
            "0000100\n"
          ]
        }
      ]
    }
  ]
}