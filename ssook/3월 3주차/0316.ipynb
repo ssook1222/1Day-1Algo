{
  "nbformat": 4,
  "nbformat_minor": 0,
  "metadata": {
    "colab": {
      "provenance": []
    },
    "kernelspec": {
      "name": "python3",
      "display_name": "Python 3"
    },
    "language_info": {
      "name": "python"
    }
  },
  "cells": [
    {
      "cell_type": "markdown",
      "source": [
        "### 2530"
      ],
      "metadata": {
        "id": "F7aixLh5FMPv"
      }
    },
    {
      "cell_type": "code",
      "execution_count": null,
      "metadata": {
        "colab": {
          "base_uri": "https://localhost:8080/"
        },
        "id": "wxGy8OvtFKTJ",
        "outputId": "3c005302-5d2f-49a8-e068-aeff466cca2c"
      },
      "outputs": [
        {
          "output_type": "stream",
          "name": "stdout",
          "text": [
            "14 30 0\n",
            "200\n",
            "14 33 20\n"
          ]
        }
      ],
      "source": [
        "hour, min, sec = map(int, input().split())\n",
        "\n",
        "sec = sec + int(input())\n",
        "min = min + int(sec/60)\n",
        "hour = hour + int(min/60)\n",
        "\n",
        "hour = hour % 24\n",
        "min = min % 60\n",
        "sec = sec % 60\n",
        "\n",
        "print(hour, min, sec)\n"
      ]
    }
  ]
}