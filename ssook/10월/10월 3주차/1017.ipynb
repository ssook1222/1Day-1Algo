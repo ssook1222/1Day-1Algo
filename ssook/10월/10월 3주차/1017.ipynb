{
  "nbformat": 4,
  "nbformat_minor": 0,
  "metadata": {
    "colab": {
      "provenance": [],
      "authorship_tag": "ABX9TyP0liSKASixS4BP9jYXNqrJ",
      "include_colab_link": true
    },
    "kernelspec": {
      "name": "python3",
      "display_name": "Python 3"
    },
    "language_info": {
      "name": "python"
    }
  },
  "cells": [
    {
      "cell_type": "markdown",
      "metadata": {
        "id": "view-in-github",
        "colab_type": "text"
      },
      "source": [
        "<a href=\"https://colab.research.google.com/github/ssook1222/1Day-1Algo/blob/master/ssook/10%EC%9B%94/10%EC%9B%94%203%EC%A3%BC%EC%B0%A8/1017.ipynb\" target=\"_parent\"><img src=\"https://colab.research.google.com/assets/colab-badge.svg\" alt=\"Open In Colab\"/></a>"
      ]
    },
    {
      "cell_type": "markdown",
      "source": [
        "## BoJ"
      ],
      "metadata": {
        "id": "L1MV1KeQ6pdD"
      }
    },
    {
      "cell_type": "markdown",
      "source": [
        "### 26169"
      ],
      "metadata": {
        "id": "kQUNT0X6629w"
      }
    },
    {
      "cell_type": "code",
      "execution_count": 5,
      "metadata": {
        "colab": {
          "base_uri": "https://localhost:8080/"
        },
        "id": "H6-K0lG16kUh",
        "outputId": "9b0f3edc-3ee3-4f09-fcf0-608b3c7065d8"
      },
      "outputs": [
        {
          "output_type": "stream",
          "name": "stdout",
          "text": [
            "0 0 1 0 0\n",
            "0 0 -1 0 0\n",
            "0 0 1 0 0\n",
            "1 1 -1 1 0\n",
            "1 1 -1 1 0\n",
            "4 1\n",
            "0 0\n",
            "0\n"
          ]
        }
      ],
      "source": [
        "import sys\n",
        "\n",
        "sys.setrecursionlimit(10**9)\n",
        "\n",
        "dy = [0, 1, 0, -1]\n",
        "dx = [1, 0, -1, 0]\n",
        "\n",
        "check = []\n",
        "for i in range(5):\n",
        "  check.append(list(map(int, sys.stdin.readline().rstrip().split())))\n",
        "\n",
        "visited = [[False] * 5 for _ in range(5)]\n",
        "r, c = map(int, sys.stdin.readline().rstrip().split())\n",
        "\n",
        "\n",
        "def dfs(y, x, depth, cnt):\n",
        "    visited[y][x] = True\n",
        "    if check[y][x] == 1:\n",
        "        cnt += 1\n",
        "\n",
        "    if cnt >= 2:\n",
        "        return 1\n",
        "\n",
        "    if depth > 2: # 백트래킹을 위한 초기화 + 3번 움직였을 때 0을 반환\n",
        "        visited[y][x] = False\n",
        "        return 0\n",
        "\n",
        "    for i in range(4):\n",
        "        ny = y + dy[i]\n",
        "        nx = x + dx[i]\n",
        "\n",
        "        if 0 <= ny < 5 and 0 <= nx < 5:\n",
        "            if not visited[ny][nx] and check[ny][nx] != -1:\n",
        "                if dfs(ny, nx, depth + 1, cnt) == 1:\n",
        "                    return 1\n",
        "\n",
        "    visited[y][x] = False\n",
        "    return 0\n",
        "\n",
        "\n",
        "print(dfs(r, c, 0, 0))"
      ]
    },
    {
      "cell_type": "markdown",
      "source": [
        "---"
      ],
      "metadata": {
        "id": "MrFDPp72PkZ2"
      }
    },
    {
      "cell_type": "markdown",
      "source": [
        "## HackerRank"
      ],
      "metadata": {
        "id": "osZdFCR2PyrV"
      }
    },
    {
      "cell_type": "markdown",
      "source": [
        "### Designer Door Mat"
      ],
      "metadata": {
        "id": "OtswwJHS64Gm"
      }
    },
    {
      "cell_type": "code",
      "source": [
        "n, m = map(int, input().split())\n",
        "\n",
        "for i in range(int(n/2)):\n",
        "    string = \".|.\" * (2 * i + 1)\n",
        "    x = string.center(m, '-')\n",
        "    print(x)\n",
        "\n",
        "print(\"WELCOME\".center(m, '-'))\n",
        "\n",
        "for i in reversed(range(int(n/2))):\n",
        "    string = \".|.\" * (2 * i + 1)\n",
        "    x = string.center(m, '-')\n",
        "    print(x)"
      ],
      "metadata": {
        "id": "BGC_jBEd6478"
      },
      "execution_count": 5,
      "outputs": []
    },
    {
      "cell_type": "markdown",
      "source": [
        "### Symmetric Difference"
      ],
      "metadata": {
        "id": "JIxRv1gXP1M3"
      }
    },
    {
      "cell_type": "code",
      "source": [
        "# Enter your code here. Read input from STDIN. Print output to STDOUT\n",
        "\n",
        "m = int(input())\n",
        "a = set(map(int, input().split()))\n",
        "\n",
        "n = int(input())\n",
        "b = set(map(int, input().split()))\n",
        "\n",
        "test1 = a.difference(b)\n",
        "test2 = b.difference(a)\n",
        "\n",
        "ans = []\n",
        "\n",
        "for t in test1:\n",
        "    ans.append(t)\n",
        "\n",
        "for t in test2:\n",
        "    ans.append(t)\n",
        "\n",
        "ans.sort()\n",
        "\n",
        "for num in ans:\n",
        "    print(num)"
      ],
      "metadata": {
        "id": "e_gerGlyP2WK"
      },
      "execution_count": 5,
      "outputs": []
    }
  ]
}