{
  "nbformat": 4,
  "nbformat_minor": 0,
  "metadata": {
    "colab": {
      "provenance": [],
      "authorship_tag": "ABX9TyObgFgsN19D8J3ewYFPA/vg",
      "include_colab_link": true
    },
    "kernelspec": {
      "name": "python3",
      "display_name": "Python 3"
    },
    "language_info": {
      "name": "python"
    }
  },
  "cells": [
    {
      "cell_type": "markdown",
      "metadata": {
        "id": "view-in-github",
        "colab_type": "text"
      },
      "source": [
        "<a href=\"https://colab.research.google.com/github/ssook1222/1Day-1Algo/blob/master/ssook/10%EC%9B%94/10%EC%9B%94%203%EC%A3%BC%EC%B0%A8/1021.ipynb\" target=\"_parent\"><img src=\"https://colab.research.google.com/assets/colab-badge.svg\" alt=\"Open In Colab\"/></a>"
      ]
    },
    {
      "cell_type": "markdown",
      "source": [
        "## BoJ"
      ],
      "metadata": {
        "id": "bsYQ1085aiQS"
      }
    },
    {
      "cell_type": "markdown",
      "source": [
        "### 14495"
      ],
      "metadata": {
        "id": "YwSVfJV_alXa"
      }
    },
    {
      "cell_type": "code",
      "execution_count": 4,
      "metadata": {
        "colab": {
          "base_uri": "https://localhost:8080/"
        },
        "id": "nxDR-sSXZ2I8",
        "outputId": "98914051-8e6c-41c6-cdb3-573b40ad4971"
      },
      "outputs": [
        {
          "output_type": "stream",
          "name": "stdout",
          "text": [
            "10\n",
            "19\n"
          ]
        }
      ],
      "source": [
        "import sys\n",
        "\n",
        "n = int(sys.stdin.readline().rstrip())\n",
        "dp = [0]*(n+1)\n",
        "\n",
        "if n == 0 or n == 1 or n == 2:\n",
        "    print(1)\n",
        "    sys.exit()\n",
        "\n",
        "dp[0] = 1\n",
        "dp[1] = 1\n",
        "dp[2] = 1\n",
        "\n",
        "for i in range(3, n+1):\n",
        "  dp[i] = dp[i-1] + dp[i-3]\n",
        "\n",
        "print(dp[n-1])"
      ]
    },
    {
      "cell_type": "markdown",
      "source": [
        "## CodeTree"
      ],
      "metadata": {
        "id": "MBSTIb7sc5HL"
      }
    },
    {
      "cell_type": "markdown",
      "source": [
        "### 별 찍기1"
      ],
      "metadata": {
        "id": "V-s4uiIDgNOx"
      }
    },
    {
      "cell_type": "code",
      "source": [
        "n, type = map(int, input().split())\n",
        "\n",
        "if type == 1:\n",
        "    for i in range(1, n+1):\n",
        "        print(\"*\"*i)\n",
        "\n",
        "elif type == 2:\n",
        "    for i in range(n, 0, -1):\n",
        "        print(\"*\"*i)\n",
        "\n",
        "else:\n",
        "    for i in range(1, n+1):\n",
        "        print((\" \"*(n-i) + \"*\"*(2*i-1) + \" \"*(n-i)))"
      ],
      "metadata": {
        "id": "YtkWXUJbc5Zd"
      },
      "execution_count": null,
      "outputs": []
    },
    {
      "cell_type": "markdown",
      "source": [
        "### 진법변환"
      ],
      "metadata": {
        "id": "AhQrV5wggP4M"
      }
    },
    {
      "cell_type": "code",
      "source": [
        "def float_to_binary(num, places=8):\n",
        "    binary = ''\n",
        "    integer_part = int(num)\n",
        "    fractional_part = num - integer_part\n",
        "\n",
        "    binary += bin(integer_part)[2:] + '.'\n",
        "\n",
        "    for _ in range(places):\n",
        "        fractional_part *= 2\n",
        "        bit = int(fractional_part)\n",
        "        binary += str(bit)\n",
        "        fractional_part -= bit\n",
        "\n",
        "    return float(binary)\n",
        "\n",
        "x = float_to_binary(float(input()))\n",
        "print(f'{x:.4f}')"
      ],
      "metadata": {
        "id": "MmmZH4vEgQwT"
      },
      "execution_count": null,
      "outputs": []
    }
  ]
}