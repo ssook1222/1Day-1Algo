{
  "nbformat": 4,
  "nbformat_minor": 0,
  "metadata": {
    "colab": {
      "provenance": [],
      "authorship_tag": "ABX9TyN8zrMe21oZRgrIIAXJl7yJ",
      "include_colab_link": true
    },
    "kernelspec": {
      "name": "python3",
      "display_name": "Python 3"
    },
    "language_info": {
      "name": "python"
    }
  },
  "cells": [
    {
      "cell_type": "markdown",
      "metadata": {
        "id": "view-in-github",
        "colab_type": "text"
      },
      "source": [
        "<a href=\"https://colab.research.google.com/github/ssook1222/1Day-1Algo/blob/master/ssook/10%EC%9B%94/10%EC%9B%94%203%EC%A3%BC%EC%B0%A8/1016.ipynb\" target=\"_parent\"><img src=\"https://colab.research.google.com/assets/colab-badge.svg\" alt=\"Open In Colab\"/></a>"
      ]
    },
    {
      "cell_type": "markdown",
      "source": [
        "## BoJ"
      ],
      "metadata": {
        "id": "IwwxBisTdaJq"
      }
    },
    {
      "cell_type": "markdown",
      "source": [
        "### 6887"
      ],
      "metadata": {
        "id": "VecO9Ut2fnOy"
      }
    },
    {
      "cell_type": "code",
      "execution_count": null,
      "metadata": {
        "id": "Y6R4ngv_dYUG"
      },
      "outputs": [],
      "source": [
        "n = int(input())\n",
        "ans = int(n ** 0.5)\n",
        "print('The largest square has side length %d.' %ans )"
      ]
    },
    {
      "cell_type": "markdown",
      "source": [
        "### 16017"
      ],
      "metadata": {
        "id": "CNZfBTLvx7ni"
      }
    },
    {
      "cell_type": "code",
      "source": [
        "tmp = ''\n",
        "\n",
        "for _ in range(4):\n",
        "  tmp += input()\n",
        "\n",
        "if (tmp[0] in ['8', '9']) and (tmp[1] == tmp[2]) and (tmp[3] in ['8', '9']):\n",
        "  print('ignore')\n",
        "\n",
        "else:\n",
        "  print('answer')"
      ],
      "metadata": {
        "id": "OxUVv3eTx-Jc",
        "colab": {
          "base_uri": "https://localhost:8080/"
        },
        "outputId": "b3c352c8-7186-437d-c292-cfcb1be98c5e"
      },
      "execution_count": null,
      "outputs": [
        {
          "output_type": "stream",
          "name": "stdout",
          "text": [
            "9\n",
            "6\n",
            "6\n",
            "8\n",
            "ignore\n"
          ]
        }
      ]
    },
    {
      "cell_type": "markdown",
      "source": [
        "---"
      ],
      "metadata": {
        "id": "Mp3eevXW3ssd"
      }
    },
    {
      "cell_type": "markdown",
      "source": [
        "## CodeTree"
      ],
      "metadata": {
        "id": "uzAtPuKa3uJP"
      }
    },
    {
      "cell_type": "markdown",
      "source": [
        "### 123수 출력"
      ],
      "metadata": {
        "id": "b2OfTz9m6Wb3"
      }
    },
    {
      "cell_type": "code",
      "source": [
        "\n",
        "import itertools\n",
        "\n",
        "n = int(input())\n",
        "raw = ['1','2','3']\n",
        "\n",
        "r_num = list(itertools.product(raw, repeat = n))\n",
        "\n",
        "nums = []\n",
        "for i in r_num:\n",
        "    nums.append(''.join((i)))\n",
        "\n",
        "for i in nums:\n",
        "    if i.count('1') <= i.count('2') & i.count('2') <= i.count('3'):\n",
        "        print(i)"
      ],
      "metadata": {
        "id": "vQwBz1iM3tZ9"
      },
      "execution_count": null,
      "outputs": []
    }
  ]
}