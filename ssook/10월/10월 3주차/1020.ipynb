{
  "nbformat": 4,
  "nbformat_minor": 0,
  "metadata": {
    "colab": {
      "provenance": [],
      "authorship_tag": "ABX9TyOxfNF6ABlrP9S1rF9LUi8l",
      "include_colab_link": true
    },
    "kernelspec": {
      "name": "python3",
      "display_name": "Python 3"
    },
    "language_info": {
      "name": "python"
    }
  },
  "cells": [
    {
      "cell_type": "markdown",
      "metadata": {
        "id": "view-in-github",
        "colab_type": "text"
      },
      "source": [
        "<a href=\"https://colab.research.google.com/github/ssook1222/1Day-1Algo/blob/master/ssook/10%EC%9B%94/10%EC%9B%94%203%EC%A3%BC%EC%B0%A8/1020.ipynb\" target=\"_parent\"><img src=\"https://colab.research.google.com/assets/colab-badge.svg\" alt=\"Open In Colab\"/></a>"
      ]
    },
    {
      "cell_type": "markdown",
      "source": [
        "## BoJ"
      ],
      "metadata": {
        "id": "PQMH2v7TQSaf"
      }
    },
    {
      "cell_type": "markdown",
      "source": [
        "### 10678"
      ],
      "metadata": {
        "id": "pH3Q55HzSDWo"
      }
    },
    {
      "cell_type": "code",
      "source": [
        "import sys\n",
        "\n",
        "sys.setrecursionlimit(10**9)\n",
        "\n",
        "def dfs(graph, dist, curr_node, curr_dist):\n",
        "    if curr_node == n - 1:\n",
        "        dist[curr_dist] = True\n",
        "        return\n",
        "\n",
        "    for a in range(curr_node + 1, n):\n",
        "        if graph[curr_node][a] > 0:\n",
        "            dfs(graph, dist, a, curr_dist + graph[curr_node][a])\n",
        "\n",
        "n, m = map(int, sys.stdin.readline().rstrip().split())\n",
        "bessieGrid = [[0] * n for _ in range(n)] # Bessie의 이동 시간 정보를 저장하는 2D 배열\n",
        "elsieGrid = [[0] * n for _ in range(n)] # Elsie의 이동 시간 정보를 저장하는 2D 배열\n",
        "\n",
        "for i in range(m):\n",
        "    x, y, bessie, elsie = map(int, sys.stdin.readline().rstrip().split()) #  입력에서 각 경로 정보를 읽어서 x, y, bessie, elsie 변수에 할당\n",
        "\n",
        "    # x와 y는 연결된 밭의 번호, bessie와 elsie는 Bessie와 Elsie의 이동 시간\n",
        "    x -= 1\n",
        "    y -= 1\n",
        "\n",
        "    bessieGrid[x][y] = bessie\n",
        "    elsieGrid[x][y] = elsie\n",
        "\n",
        "# 가능한 이동 시간을 나타내는 불리언 배열\n",
        "# bessieCan은 Bessie가 각 가능한 이동 시간에 도달할 수 있는지 여부 저장, elsieCan은 Elsie가 각 가능한 이동 시간에 도달할 수 있는지 여부 저\n",
        "bessieCan = [False] * 20000\n",
        "elsieCan = [False] * 20000\n",
        "\n",
        "dfs(bessieGrid, bessieCan, 0, 0)\n",
        "dfs(elsieGrid, elsieCan, 0, 0)\n",
        "\n",
        "# 초기에 best 변수를 무한대 값으로 설정. 이 변수는 Bessie와 Elsie가 동시에 이동할 수 있는 최적의 이동 시간\n",
        "best = float('inf')\n",
        "\n",
        "for i in range(len(bessieCan)):\n",
        "    if bessieCan[i] and elsieCan[i]:\n",
        "        best = i\n",
        "        break\n",
        "\n",
        "# best가 여전히 무한대 값인 경우 \"IMPOSSIBLE\"을 출력하고, 그렇지 않으면 최적의 이동 시간을 출력\n",
        "if best == float('inf'):\n",
        "    print(\"IMPOSSIBLE\")\n",
        "else:\n",
        "    print(best)\n"
      ],
      "metadata": {
        "id": "aaCBswnTX6Ax"
      },
      "execution_count": null,
      "outputs": []
    },
    {
      "cell_type": "markdown",
      "source": [
        "---"
      ],
      "metadata": {
        "id": "2hsOdCuVSFnt"
      }
    },
    {
      "cell_type": "markdown",
      "source": [
        "## CodeTree"
      ],
      "metadata": {
        "id": "_zS0BOroSGqs"
      }
    },
    {
      "cell_type": "markdown",
      "source": [
        "### 두 방향 탈출 가능 여부 판별하기"
      ],
      "metadata": {
        "id": "xRhQGauKSIqJ"
      }
    },
    {
      "cell_type": "code",
      "source": [
        "n, m = map(int, input().split())\n",
        "\n",
        "visit = [[False] * m for _ in range(n)]\n",
        "graph = []\n",
        "\n",
        "for i in range(n):\n",
        "    graph.append(list(map(int, input().split())))\n",
        "\n",
        "def dfs(x, y):\n",
        "    if x == n - 1 and y == m - 1:  # 목적지에 도착한 경우\n",
        "        return True\n",
        "\n",
        "    dx = [0, 1]\n",
        "    dy = [1, 0]\n",
        "\n",
        "    for i in range(2):\n",
        "        rx = x + dx[i]\n",
        "        ry = y + dy[i]\n",
        "\n",
        "        if 0 <= rx < n and 0 <= ry < m and visit[rx][ry] == False and graph[rx][ry] != 0:\n",
        "            visit[rx][ry] = True\n",
        "\n",
        "            if dfs(rx, ry): # 재귀적으로 dfs를 여기서 호출하고 반환값을 확인하는 부분임.\n",
        "                return True\n",
        "\n",
        "    return False\n",
        "\n",
        "visit[0][0] = True  # 시작 지점 방문 표시\n",
        "if dfs(0, 0):\n",
        "    print(1)\n",
        "else:\n",
        "    print(0)\n"
      ],
      "metadata": {
        "id": "hF5tFA8CSI0R"
      },
      "execution_count": null,
      "outputs": []
    },
    {
      "cell_type": "markdown",
      "source": [
        "### 배열의 합을 구하는 함수"
      ],
      "metadata": {
        "id": "oWefJls1qHDI"
      }
    },
    {
      "cell_type": "code",
      "source": [
        "def calculate_sum_matrix(n, matrix):\n",
        "    result = [[0] * (n + 1) for _ in range(n + 1)]\n",
        "\n",
        "    for i in range(n):\n",
        "        for j in range(n):\n",
        "            result[i][j] = matrix[i][j]\n",
        "            result[i][n] += matrix[i][j]  # 열 합 계산\n",
        "            result[n][j] += matrix[i][j]  # 행 합 계산\n",
        "            result[n][n] += matrix[i][j]  # 모든 요소의 합 계산\n",
        "\n",
        "    return result\n",
        "\n",
        "n = int(input())\n",
        "matrix = []\n",
        "\n",
        "for _ in range(n):\n",
        "    row = list(map(int, input().split()))\n",
        "    matrix.append(row)\n",
        "\n",
        "result_matrix = calculate_sum_matrix(n, matrix)\n",
        "\n",
        "for row in result_matrix:\n",
        "    print(' '.join(map(str, row)))"
      ],
      "metadata": {
        "id": "-xgzMEjLqHOw"
      },
      "execution_count": null,
      "outputs": []
    }
  ]
}