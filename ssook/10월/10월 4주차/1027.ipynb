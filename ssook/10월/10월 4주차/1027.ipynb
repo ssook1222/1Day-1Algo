{
  "nbformat": 4,
  "nbformat_minor": 0,
  "metadata": {
    "colab": {
      "provenance": [],
      "authorship_tag": "ABX9TyMpPyOuyLJ4wNVM5VMiFORE",
      "include_colab_link": true
    },
    "kernelspec": {
      "name": "python3",
      "display_name": "Python 3"
    },
    "language_info": {
      "name": "python"
    }
  },
  "cells": [
    {
      "cell_type": "markdown",
      "metadata": {
        "id": "view-in-github",
        "colab_type": "text"
      },
      "source": [
        "<a href=\"https://colab.research.google.com/github/ssook1222/1Day-1Algo/blob/master/ssook/10%EC%9B%94/10%EC%9B%94%204%EC%A3%BC%EC%B0%A8/1027.ipynb\" target=\"_parent\"><img src=\"https://colab.research.google.com/assets/colab-badge.svg\" alt=\"Open In Colab\"/></a>"
      ]
    },
    {
      "cell_type": "markdown",
      "source": [
        "## BoJ"
      ],
      "metadata": {
        "id": "sQTojEcjiHYH"
      }
    },
    {
      "cell_type": "markdown",
      "source": [
        "### 30204"
      ],
      "metadata": {
        "id": "ZLioa5--iJKa"
      }
    },
    {
      "cell_type": "code",
      "source": [
        "n, x = map(int, input().split())\n",
        "soldier = list(map(int, input().split()))\n",
        "if sum(soldier)%x == 0:\n",
        "  print(1)\n",
        "else:\n",
        "  print(0)"
      ],
      "metadata": {
        "colab": {
          "base_uri": "https://localhost:8080/"
        },
        "id": "Na2Kr0SeiHH1",
        "outputId": "dbc14a2c-9a5b-4bc5-a4ce-81e95ed3a632"
      },
      "execution_count": 1,
      "outputs": [
        {
          "output_type": "stream",
          "name": "stdout",
          "text": [
            "6 3\n",
            "3 7 8 2 4 12\n",
            "1\n"
          ]
        }
      ]
    },
    {
      "cell_type": "markdown",
      "source": [
        "###"
      ],
      "metadata": {
        "id": "pcvm2FENiKRO"
      }
    },
    {
      "cell_type": "code",
      "execution_count": 5,
      "metadata": {
        "colab": {
          "base_uri": "https://localhost:8080/"
        },
        "id": "WV4xXI_4U6zo",
        "outputId": "adef117d-035b-43f7-c6b6-c1c965a82892"
      },
      "outputs": [
        {
          "output_type": "stream",
          "name": "stdout",
          "text": [
            "10 0\n",
            "280\n"
          ]
        }
      ],
      "source": [
        "t, s = map(int, input().split())\n",
        "\n",
        "if t <= 11:\n",
        "  print(280)\n",
        "\n",
        "elif 12 <= t <= 16 and s != 1:\n",
        "  print(320)\n",
        "\n",
        "elif 12 <= t <= 16 and s == 1:\n",
        "  print(280)\n",
        "\n",
        "else:\n",
        "  print(280)\n"
      ]
    },
    {
      "cell_type": "markdown",
      "source": [
        "---"
      ],
      "metadata": {
        "id": "CoTM8z3biLhn"
      }
    },
    {
      "cell_type": "markdown",
      "source": [
        "## CodeTree"
      ],
      "metadata": {
        "id": "6fX1rfRMiM6e"
      }
    },
    {
      "cell_type": "markdown",
      "source": [
        "### 문자열의 개수"
      ],
      "metadata": {
        "id": "BbVqJL8LiOrR"
      }
    },
    {
      "cell_type": "code",
      "source": [
        "word = []\n",
        "cnt = 0\n",
        "\n",
        "while True:\n",
        "    s = input()\n",
        "\n",
        "    cnt += 1\n",
        "\n",
        "    if s == '0':\n",
        "        cnt -= 1\n",
        "        break\n",
        "\n",
        "    if cnt % 2 == 1:\n",
        "        word.append(s)\n",
        "\n",
        "print(cnt)\n",
        "for n in word:\n",
        "    print(n)"
      ],
      "metadata": {
        "id": "asXky-ejiPJx"
      },
      "execution_count": null,
      "outputs": []
    },
    {
      "cell_type": "markdown",
      "source": [
        "###  정수만 추출하기"
      ],
      "metadata": {
        "id": "EPR-MOC1t921"
      }
    },
    {
      "cell_type": "code",
      "source": [
        "a, b = input().split()\n",
        "num1 = 0\n",
        "num2 = 0\n",
        "\n",
        "for i in a:\n",
        "    if not i.isdigit():\n",
        "        num1 = int(a[:list(a).index(i)])\n",
        "        break\n",
        "\n",
        "for i in b:\n",
        "    if not i.isdigit():\n",
        "        num2 = int(b[:list(b).index(i)])\n",
        "        break\n",
        "\n",
        "if num1 == 0:\n",
        "    num1 = int(a)\n",
        "\n",
        "if num2 == 0:\n",
        "    num2 = int(b)\n",
        "\n",
        "print(num1+num2)"
      ],
      "metadata": {
        "id": "8E8SVcL_t-Ky"
      },
      "execution_count": null,
      "outputs": []
    }
  ]
}