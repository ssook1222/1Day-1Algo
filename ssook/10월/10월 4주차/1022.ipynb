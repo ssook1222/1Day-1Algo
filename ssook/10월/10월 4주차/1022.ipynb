{
  "nbformat": 4,
  "nbformat_minor": 0,
  "metadata": {
    "colab": {
      "provenance": [],
      "authorship_tag": "ABX9TyM+loVsxtwtxTjn9yHsxz2I",
      "include_colab_link": true
    },
    "kernelspec": {
      "name": "python3",
      "display_name": "Python 3"
    },
    "language_info": {
      "name": "python"
    }
  },
  "cells": [
    {
      "cell_type": "markdown",
      "metadata": {
        "id": "view-in-github",
        "colab_type": "text"
      },
      "source": [
        "<a href=\"https://colab.research.google.com/github/ssook1222/1Day-1Algo/blob/master/ssook/10%EC%9B%94/10%EC%9B%94%204%EC%A3%BC%EC%B0%A8/1022.ipynb\" target=\"_parent\"><img src=\"https://colab.research.google.com/assets/colab-badge.svg\" alt=\"Open In Colab\"/></a>"
      ]
    },
    {
      "cell_type": "markdown",
      "source": [
        "## BoJ"
      ],
      "metadata": {
        "id": "kBHlfrBhAntM"
      }
    },
    {
      "cell_type": "markdown",
      "source": [
        "### 28431"
      ],
      "metadata": {
        "id": "F-94k7PDAph2"
      }
    },
    {
      "cell_type": "code",
      "execution_count": 11,
      "metadata": {
        "colab": {
          "base_uri": "https://localhost:8080/"
        },
        "id": "tr13bmG1Af_s",
        "outputId": "d243354f-aed4-48ab-a21c-557493c4339d"
      },
      "outputs": [
        {
          "output_type": "stream",
          "name": "stdout",
          "text": [
            "9\n",
            "9\n",
            "9\n",
            "0\n",
            "0\n",
            "9\n"
          ]
        }
      ],
      "source": [
        "stack = []\n",
        "\n",
        "for i in range(5):\n",
        "  num = int(input())\n",
        "\n",
        "  if num in stack:\n",
        "    del stack[stack.index(num)]\n",
        "  else:\n",
        "    stack.append(num)\n",
        "\n",
        "print(stack[0])"
      ]
    },
    {
      "cell_type": "markdown",
      "source": [
        "### 28432"
      ],
      "metadata": {
        "id": "yOw-bpbxAq4B"
      }
    },
    {
      "cell_type": "code",
      "source": [
        "import sys\n",
        "\n",
        "n = int(sys.stdin.readline().rstrip())\n",
        "real = []\n",
        "hubo = []\n",
        "\n",
        "for _ in range(n):\n",
        "  word = sys.stdin.readline().rstrip()\n",
        "  real.append(word)\n",
        "\n",
        "m = int(sys.stdin.readline().rstrip())\n",
        "for _ in range(m):\n",
        "  word = sys.stdin.readline().rstrip()\n",
        "  hubo.append(word)\n",
        "\n",
        "before = ''\n",
        "after = ''\n",
        "\n",
        "if len(real) == 1:\n",
        "    print(hubo[0])\n",
        "\n",
        "if len(real) != 1:\n",
        "    for i in range(len(real)):\n",
        "\n",
        "      if real[i] == '?':\n",
        "          if i!=0 and i!=len(real)-1:\n",
        "            before = real[i-1]\n",
        "            after = real[i+1]\n",
        "          if i == 0:\n",
        "            after = real[i+1]\n",
        "          if i == len(real)-1:\n",
        "            before = real[i-1]\n",
        "\n",
        "    for word in hubo:\n",
        "      if after!='' and before!='':\n",
        "        if word[-1] == after[0] and word[0] == before[-1]:\n",
        "          if word not in real:\n",
        "            print(word)\n",
        "            break\n",
        "      elif before=='':\n",
        "        if word[-1] == after[0]:\n",
        "          if word not in real:\n",
        "            print(word)\n",
        "            break\n",
        "      elif after=='':\n",
        "        if word[0] == before[-1]:\n",
        "          if word not in real:\n",
        "            print(word)\n",
        "            break"
      ],
      "metadata": {
        "colab": {
          "base_uri": "https://localhost:8080/"
        },
        "id": "CqtEOTyKArL1",
        "outputId": "bcc585fc-07c7-48bf-84ec-fcd8c8598f65"
      },
      "execution_count": 13,
      "outputs": [
        {
          "output_type": "stream",
          "name": "stdout",
          "text": [
            "5\n",
            "charlie\n",
            "echo\n",
            "?\n",
            "romeo\n",
            "oscar\n",
            "3\n",
            "alfa\n",
            "oscar\n",
            "or\n",
            "or\n"
          ]
        }
      ]
    },
    {
      "cell_type": "markdown",
      "source": [
        "---"
      ],
      "metadata": {
        "id": "rGENtNWaAsVp"
      }
    },
    {
      "cell_type": "markdown",
      "source": [
        "## CodeTree"
      ],
      "metadata": {
        "id": "sNia1E4IAs7d"
      }
    },
    {
      "cell_type": "markdown",
      "source": [
        "### 전화번호 바꾸기"
      ],
      "metadata": {
        "id": "7SD4Kmq9Augt"
      }
    },
    {
      "cell_type": "code",
      "source": [
        "s = input().split('-')\n",
        "tmp = s[2]\n",
        "s[2] = s[1]\n",
        "s[1] = tmp\n",
        "for i in range(len(s)):\n",
        "    if i == len(s)-1:\n",
        "        print(s[i])\n",
        "    else:\n",
        "        print(s[i] + '-', end='')"
      ],
      "metadata": {
        "id": "G_UOh2SJAvL8"
      },
      "execution_count": null,
      "outputs": []
    }
  ]
}