{
  "nbformat": 4,
  "nbformat_minor": 0,
  "metadata": {
    "colab": {
      "provenance": [],
      "authorship_tag": "ABX9TyO+Qu8fS79jXGhzwpEqVvJ5",
      "include_colab_link": true
    },
    "kernelspec": {
      "name": "python3",
      "display_name": "Python 3"
    },
    "language_info": {
      "name": "python"
    }
  },
  "cells": [
    {
      "cell_type": "markdown",
      "metadata": {
        "id": "view-in-github",
        "colab_type": "text"
      },
      "source": [
        "<a href=\"https://colab.research.google.com/github/ssook1222/1Day-1Algo/blob/master/ssook/10%EC%9B%94/10%EC%9B%94%205%EC%A3%BC%EC%B0%A8/1030.ipynb\" target=\"_parent\"><img src=\"https://colab.research.google.com/assets/colab-badge.svg\" alt=\"Open In Colab\"/></a>"
      ]
    },
    {
      "cell_type": "markdown",
      "source": [
        "## BoJ"
      ],
      "metadata": {
        "id": "UREwvGQ_5rLZ"
      }
    },
    {
      "cell_type": "markdown",
      "source": [
        "### 18511"
      ],
      "metadata": {
        "id": "sI9stw9E5uhm"
      }
    },
    {
      "cell_type": "code",
      "execution_count": 13,
      "metadata": {
        "colab": {
          "base_uri": "https://localhost:8080/"
        },
        "id": "Vik3K-Kj5pYu",
        "outputId": "801c5025-c6bf-4011-8682-e47d8764bd8e"
      },
      "outputs": [
        {
          "output_type": "stream",
          "name": "stdout",
          "text": [
            "657 3\n",
            "1 5 7\n",
            "577\n"
          ]
        }
      ],
      "source": [
        "import itertools\n",
        "import sys\n",
        "\n",
        "n, k = map(int, sys.stdin.readline().rstrip().split())\n",
        "nums = list(map(str, sys.stdin.readline().rstrip().split()))\n",
        "\n",
        "raw = []\n",
        "\n",
        "for i in range(1, len(str(n))+1):\n",
        "    raw.append(list(itertools.product(nums, repeat = i)))\n",
        "res = []\n",
        "\n",
        "for i in raw:\n",
        "    for j in i:\n",
        "        res.append(int(''.join(j)))\n",
        "\n",
        "res.sort(reverse = True)\n",
        "for i in res:\n",
        "  if i <= n:\n",
        "    print(i)\n",
        "    break"
      ]
    },
    {
      "cell_type": "markdown",
      "source": [
        "### 23348"
      ],
      "metadata": {
        "id": "ZXGzzL7y5vS-"
      }
    },
    {
      "cell_type": "code",
      "source": [
        "a, b, c = map(int, input().split())\n",
        "n = int(input())\n",
        "\n",
        "res = []\n",
        "hap = 0\n",
        "\n",
        "for i in range(0, (n*3)):\n",
        "  if i % 3 == 0:\n",
        "    res.append(hap)\n",
        "    hap = 0\n",
        "\n",
        "  x, y, z = map(int, input().split())\n",
        "  hap += (x*a) + (y*b) + (z*c)\n",
        "\n",
        "print(max(res))"
      ],
      "metadata": {
        "colab": {
          "base_uri": "https://localhost:8080/"
        },
        "id": "55Lok-PeNCEw",
        "outputId": "16372c54-2ad9-4d2b-ea5d-22f63cfbd2bb"
      },
      "execution_count": 19,
      "outputs": [
        {
          "output_type": "stream",
          "name": "stdout",
          "text": [
            "3 6 9\n",
            "2\n",
            "0\n",
            "1 2 3\n",
            "1 1 1\n",
            "2 2 2\n",
            "3\n",
            "0 0 0\n",
            "0 1 0\n",
            "3 3 3\n",
            "96\n"
          ]
        }
      ]
    },
    {
      "cell_type": "markdown",
      "source": [
        "---"
      ],
      "metadata": {
        "id": "LMW3V6p-wzTZ"
      }
    },
    {
      "cell_type": "markdown",
      "source": [
        "## CodeTree"
      ],
      "metadata": {
        "id": "0F697-ye5sqk"
      }
    },
    {
      "cell_type": "markdown",
      "source": [
        "### Run Length 인코딩"
      ],
      "metadata": {
        "id": "y4wU_hVWw0k4"
      }
    },
    {
      "cell_type": "code",
      "source": [
        "message = input()\n",
        "encoded_message = \"\"\n",
        "i = 0\n",
        "\n",
        "while (i <= len(message)-1):\n",
        "    count = 1\n",
        "    ch = message[i]\n",
        "    j = i\n",
        "\n",
        "    while (j < len(message)-1):\n",
        "        if (message[j] == message[j+1]):\n",
        "            count = count+1\n",
        "            j = j+1\n",
        "\n",
        "        else:\n",
        "            break\n",
        "\n",
        "    encoded_message = encoded_message+ch+str(count)\n",
        "    i = j+1\n",
        "\n",
        "print(len(encoded_message))\n",
        "print(encoded_message)"
      ],
      "metadata": {
        "id": "tqn-_wkP5uPv"
      },
      "execution_count": null,
      "outputs": []
    }
  ]
}