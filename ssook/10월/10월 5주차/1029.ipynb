{
  "nbformat": 4,
  "nbformat_minor": 0,
  "metadata": {
    "colab": {
      "provenance": [],
      "authorship_tag": "ABX9TyN2EcgVVoWta1RWEsZDF0In",
      "include_colab_link": true
    },
    "kernelspec": {
      "name": "python3",
      "display_name": "Python 3"
    },
    "language_info": {
      "name": "python"
    }
  },
  "cells": [
    {
      "cell_type": "markdown",
      "metadata": {
        "id": "view-in-github",
        "colab_type": "text"
      },
      "source": [
        "<a href=\"https://colab.research.google.com/github/ssook1222/1Day-1Algo/blob/master/ssook/10%EC%9B%94/10%EC%9B%94%205%EC%A3%BC%EC%B0%A8/1030.ipynb\" target=\"_parent\"><img src=\"https://colab.research.google.com/assets/colab-badge.svg\" alt=\"Open In Colab\"/></a>"
      ]
    },
    {
      "cell_type": "markdown",
      "source": [
        "## BoJ"
      ],
      "metadata": {
        "id": "V1YtvNr45lBo"
      }
    },
    {
      "cell_type": "markdown",
      "source": [
        "### 4575"
      ],
      "metadata": {
        "id": "5DprCF3n5nDU"
      }
    },
    {
      "cell_type": "code",
      "execution_count": 31,
      "metadata": {
        "colab": {
          "base_uri": "https://localhost:8080/"
        },
        "id": "puWjR-ly5h9H",
        "outputId": "24baa544-4075-4722-fa26-0585e9ac2845"
      },
      "outputs": [
        {
          "output_type": "stream",
          "name": "stdout",
          "text": [
            "I LOVE YOU\n",
            "I LOVE MUSTARD\n",
            "HAPPY BIRTHDAY\n",
            "GLAD U BORN\n",
            "SMILE\n",
            "IMAGINE\n",
            "WHATS UP DOC\n",
            "HAVE A NICE DAY\n",
            "END\n",
            "I LOVE MUSTARD\n",
            "GLAD U BORN\n",
            "SMILE\n",
            "WHATS UP DOC\n"
          ]
        }
      ],
      "source": [
        "ans = []\n",
        "\n",
        "while True:\n",
        "  s = input()\n",
        "\n",
        "  if s == 'END':\n",
        "    break\n",
        "  else:\n",
        "    tmp = ''\n",
        "    word = s.split()\n",
        "\n",
        "    for i in word:\n",
        "      tmp += i\n",
        "\n",
        "    if len(list(set(tmp))) == len(list(tmp)):\n",
        "      ans.append(s)\n",
        "\n",
        "for i in ans:\n",
        "  print(i)"
      ]
    },
    {
      "cell_type": "markdown",
      "source": [
        "### 23825"
      ],
      "metadata": {
        "id": "vJ-gHQxd5pAd"
      }
    },
    {
      "cell_type": "code",
      "source": [
        "n, m = map(int, input().split())\n",
        "min_num = min(n, m)\n",
        "\n",
        "print(min_num//2)"
      ],
      "metadata": {
        "colab": {
          "base_uri": "https://localhost:8080/"
        },
        "id": "4SRmniZr5p0t",
        "outputId": "61f9c347-792e-40b6-d471-28597e9d0765"
      },
      "execution_count": 32,
      "outputs": [
        {
          "output_type": "stream",
          "name": "stdout",
          "text": [
            "4 5\n",
            "2\n"
          ]
        }
      ]
    },
    {
      "cell_type": "markdown",
      "source": [
        "---"
      ],
      "metadata": {
        "id": "8YC3Ykv55quH"
      }
    },
    {
      "cell_type": "markdown",
      "source": [
        "## CodeTree"
      ],
      "metadata": {
        "id": "rU34DgUX5sBU"
      }
    },
    {
      "cell_type": "markdown",
      "source": [
        "### 합성수 판별기"
      ],
      "metadata": {
        "id": "fsJ0DemL5tpY"
      }
    },
    {
      "cell_type": "code",
      "source": [
        "n = int(input())\n",
        "check = False\n",
        "for i in range(2, n-1):\n",
        "    if n % i == 0:\n",
        "        break\n",
        "    if i == n-2:\n",
        "        check = True\n",
        "\n",
        "if check:\n",
        "    print('N')\n",
        "else:\n",
        "    print('C')"
      ],
      "metadata": {
        "id": "IsUEU3OJ5uA0"
      },
      "execution_count": null,
      "outputs": []
    }
  ]
}
