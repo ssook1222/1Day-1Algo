{
  "nbformat": 4,
  "nbformat_minor": 0,
  "metadata": {
    "colab": {
      "provenance": [],
      "authorship_tag": "ABX9TyPDIT1JrzN2h38pBKfm+QZF",
      "include_colab_link": true
    },
    "kernelspec": {
      "name": "python3",
      "display_name": "Python 3"
    },
    "language_info": {
      "name": "python"
    }
  },
  "cells": [
    {
      "cell_type": "markdown",
      "metadata": {
        "id": "view-in-github",
        "colab_type": "text"
      },
      "source": [
        "<a href=\"https://colab.research.google.com/github/ssook1222/1Day-1Algo/blob/master/ssook/10%EC%9B%94/10%EC%9B%94%205%EC%A3%BC%EC%B0%A8/1031.ipynb\" target=\"_parent\"><img src=\"https://colab.research.google.com/assets/colab-badge.svg\" alt=\"Open In Colab\"/></a>"
      ]
    },
    {
      "cell_type": "markdown",
      "source": [
        "## BoJ"
      ],
      "metadata": {
        "id": "KhGCqfw3FlYC"
      }
    },
    {
      "cell_type": "markdown",
      "source": [
        "### 1817"
      ],
      "metadata": {
        "id": "V-SnvMLuFnMx"
      }
    },
    {
      "cell_type": "code",
      "execution_count": null,
      "metadata": {
        "colab": {
          "base_uri": "https://localhost:8080/"
        },
        "id": "RG6P4-OvFjAg",
        "outputId": "89591df8-08f2-4c2e-c9c5-8fa87b3633cd"
      },
      "outputs": [
        {
          "output_type": "stream",
          "name": "stdout",
          "text": [
            "6 10\n",
            "5 5 5 5 5 5\n",
            "3\n"
          ]
        }
      ],
      "source": [
        "n, m = map(int, input().split())\n",
        "\n",
        "if n == 0:\n",
        "  print(0)\n",
        "\n",
        "else:\n",
        "  books = list(map(int, input().split()))\n",
        "  target = 0\n",
        "  cnt = 1\n",
        "  for i in range(len(books)-1, -1, -1):\n",
        "    target += books[i]\n",
        "\n",
        "    if target > m:\n",
        "      cnt += 1\n",
        "      target = books[i]\n",
        "  print(cnt)"
      ]
    },
    {
      "cell_type": "markdown",
      "source": [
        "### 7510"
      ],
      "metadata": {
        "id": "YN7wF1tWFoZX"
      }
    },
    {
      "cell_type": "code",
      "source": [
        "t = int(input())\n",
        "\n",
        "for i in range(t):\n",
        "  length = list(map(int, input().split()))\n",
        "  length.sort(reverse = True)\n",
        "  print(\"Scenario #%d:\" %(i+1))\n",
        "\n",
        "  if i != t-1:\n",
        "    if (length[0]**2) == (length[1]**2) + (length[2]**2):\n",
        "      print(\"yes\")\n",
        "      print(\" \")\n",
        "    else:\n",
        "      print(\"no\")\n",
        "      print(\" \")\n",
        "  else:\n",
        "    if (length[0]**2) == (length[1]**2) + (length[2]**2):\n",
        "      print(\"yes\")\n",
        "    else:\n",
        "      print(\"no\")"
      ],
      "metadata": {
        "id": "igSQJywoFoqu",
        "colab": {
          "base_uri": "https://localhost:8080/"
        },
        "outputId": "fa741e6e-a4d4-4170-d886-f8c0be671462"
      },
      "execution_count": 9,
      "outputs": [
        {
          "output_type": "stream",
          "name": "stdout",
          "text": [
            "2\n",
            "36 77 85\n",
            "Scenario #1:\n",
            "yes\n",
            " \n",
            "40 55 69\n",
            "Scenario #2:\n",
            "no\n"
          ]
        }
      ]
    },
    {
      "cell_type": "markdown",
      "source": [
        "---"
      ],
      "metadata": {
        "id": "FhyB7VphFpGV"
      }
    },
    {
      "cell_type": "markdown",
      "source": [
        "## Programmers"
      ],
      "metadata": {
        "id": "4DGJsBcZFpXb"
      }
    },
    {
      "cell_type": "markdown",
      "source": [
        "### 폰켓몬"
      ],
      "metadata": {
        "id": "DuGGpq28geYv"
      }
    },
    {
      "cell_type": "code",
      "source": [
        "def solution(nums):\n",
        "    answer = 0\n",
        "    max_nums = len(nums) // 2\n",
        "    test = list(set(nums))\n",
        "\n",
        "    if max_nums >= len(test):\n",
        "        answer = len(test)\n",
        "\n",
        "    else:\n",
        "        answer = max_nums\n",
        "\n",
        "    return answer"
      ],
      "metadata": {
        "id": "cGV-kyMcFpv5"
      },
      "execution_count": 9,
      "outputs": []
    }
  ]
}