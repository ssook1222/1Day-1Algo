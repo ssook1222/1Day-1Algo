{
  "nbformat": 4,
  "nbformat_minor": 0,
  "metadata": {
    "colab": {
      "provenance": [],
      "authorship_tag": "ABX9TyNqYkKMOI5bYvDp/sPv/ICC",
      "include_colab_link": true
    },
    "kernelspec": {
      "name": "python3",
      "display_name": "Python 3"
    },
    "language_info": {
      "name": "python"
    }
  },
  "cells": [
    {
      "cell_type": "markdown",
      "metadata": {
        "id": "view-in-github",
        "colab_type": "text"
      },
      "source": [
        "<a href=\"https://colab.research.google.com/github/ssook1222/1Day-1Algo/blob/master/ssook/10%EC%9B%94/10%EC%9B%94%201%EC%A3%BC%EC%B0%A8/1004.ipynb\" target=\"_parent\"><img src=\"https://colab.research.google.com/assets/colab-badge.svg\" alt=\"Open In Colab\"/></a>"
      ]
    },
    {
      "cell_type": "markdown",
      "source": [
        "## BoJ"
      ],
      "metadata": {
        "id": "geIXpOZd4aGq"
      }
    },
    {
      "cell_type": "markdown",
      "source": [
        "### 8892"
      ],
      "metadata": {
        "id": "33XKyw2Z4bxB"
      }
    },
    {
      "cell_type": "code",
      "execution_count": 6,
      "metadata": {
        "colab": {
          "base_uri": "https://localhost:8080/"
        },
        "id": "UbqENHpP4HGZ",
        "outputId": "203bfc92-2aa2-4224-dbe4-e5fb691a521d"
      },
      "outputs": [
        {
          "output_type": "stream",
          "name": "stdout",
          "text": [
            "2\n",
            "5\n",
            "aaba\n",
            "ba\n",
            "ababa\n",
            "bbaa\n",
            "baaba\n",
            "abababa\n",
            "3\n",
            "abc\n",
            "bcd\n",
            "cde\n",
            "0\n"
          ]
        }
      ],
      "source": [
        "import sys\n",
        "\n",
        "t = int(sys.stdin.readline().rstrip())\n",
        "\n",
        "for _ in range(t):\n",
        "  k = int(sys.stdin.readline().rstrip())\n",
        "  word = [sys.stdin.readline().rstrip() for _ in range(k)]\n",
        "  check = False\n",
        "  for i in range(len(word)):\n",
        "    for j in range(len(word)):\n",
        "      if not check and (i != j) and word[i] + word[j] == (word[i] + word[j])[::-1]:\n",
        "        print(word[i] + word[j])\n",
        "        check = True\n",
        "\n",
        "  if not check:\n",
        "    print(0)"
      ]
    },
    {
      "cell_type": "markdown",
      "source": [
        "### 8723"
      ],
      "metadata": {
        "id": "hy4qGT2Q4cwd"
      }
    },
    {
      "cell_type": "code",
      "source": [
        "length = list(map(int, input().split()))\n",
        "length.sort()\n",
        "\n",
        "if length[0] == length[1] == length[2]:\n",
        "  print(2)\n",
        "\n",
        "elif length[0]**2 + length[1]**2 == length[2]**2:\n",
        "  print(1)\n",
        "\n",
        "else:\n",
        "  print(0)"
      ],
      "metadata": {
        "colab": {
          "base_uri": "https://localhost:8080/"
        },
        "id": "H45U4Btf4c-a",
        "outputId": "0e42584b-ac7d-4ecf-85bc-869fcc2af2e0"
      },
      "execution_count": 15,
      "outputs": [
        {
          "output_type": "stream",
          "name": "stdout",
          "text": [
            "3 4 5\n",
            "1\n"
          ]
        }
      ]
    },
    {
      "cell_type": "markdown",
      "source": [
        "---"
      ],
      "metadata": {
        "id": "SVVK1dFD4eE0"
      }
    },
    {
      "cell_type": "markdown",
      "source": [
        "## LeetCode"
      ],
      "metadata": {
        "id": "hUfZBkiE4e1f"
      }
    },
    {
      "cell_type": "markdown",
      "source": [
        "### 2418. Sort the People"
      ],
      "metadata": {
        "id": "LhHr_L_o4gWs"
      }
    },
    {
      "cell_type": "code",
      "source": [
        "class Solution:\n",
        "    def sortPeople(self, names: List[str], heights: List[int]) -> List[str]:\n",
        "        people = []\n",
        "\n",
        "        for i in range(len(names)):\n",
        "            people.append((names[i], heights[i]))\n",
        "\n",
        "        print(people)\n",
        "        people = sorted(people, key = lambda x:-x[1] )\n",
        "\n",
        "        ans = []\n",
        "        for name in people:\n",
        "            ans.append(name[0])\n",
        "\n",
        "        return ans"
      ],
      "metadata": {
        "id": "aoAQO0At4g4u"
      },
      "execution_count": null,
      "outputs": []
    }
  ]
}