{
  "nbformat": 4,
  "nbformat_minor": 0,
  "metadata": {
    "colab": {
      "provenance": [],
      "authorship_tag": "ABX9TyOsuFP+JhIM5ei9Ln8q30xy",
      "include_colab_link": true
    },
    "kernelspec": {
      "name": "python3",
      "display_name": "Python 3"
    },
    "language_info": {
      "name": "python"
    }
  },
  "cells": [
    {
      "cell_type": "markdown",
      "metadata": {
        "id": "view-in-github",
        "colab_type": "text"
      },
      "source": [
        "<a href=\"https://colab.research.google.com/github/ssook1222/1Day-1Algo/blob/master/ssook/10%EC%9B%94/10%EC%9B%94%201%EC%A3%BC%EC%B0%A8/1001.ipynb\" target=\"_parent\"><img src=\"https://colab.research.google.com/assets/colab-badge.svg\" alt=\"Open In Colab\"/></a>"
      ]
    },
    {
      "cell_type": "markdown",
      "source": [
        "## BoJ"
      ],
      "metadata": {
        "id": "tSGf7T2iU4bC"
      }
    },
    {
      "cell_type": "markdown",
      "source": [
        "### 29701"
      ],
      "metadata": {
        "id": "8vVHD5goU6KU"
      }
    },
    {
      "cell_type": "code",
      "execution_count": 1,
      "metadata": {
        "colab": {
          "base_uri": "https://localhost:8080/"
        },
        "id": "kerI3cCSUx6w",
        "outputId": "6e757589-9370-44d5-8fca-7ec8a85eb3bc"
      },
      "outputs": [
        {
          "output_type": "stream",
          "name": "stdout",
          "text": [
            "5\n",
            ".... . .-.. .-.. ---\n",
            "HELLO\n"
          ]
        }
      ],
      "source": [
        "morse_code = { \".-\": \"A\", \"-...\": \"B\", \"-.-.\": \"C\", \"-..\": \"D\", \".\": \"E\",\n",
        "    \"..-.\": \"F\", \"--.\": \"G\", \"....\": \"H\", \"..\": \"I\", \".---\": \"J\",\n",
        "    \"-.-\": \"K\", \".-..\": \"L\", \"--\": \"M\", \"-.\": \"N\",\"---\": \"O\",\n",
        "    \".--.\": \"P\",\"--.-\": \"Q\",\".-.\": \"R\",\"...\": \"S\",\"-\": \"T\",\n",
        "    \"..-\": \"U\", \"...-\": \"V\",\".--\": \"W\",\"-..-\": \"X\", \"-.--\": \"Y\",\"--..\": \"Z\",\n",
        "    \".----\": \"1\",\"..---\": \"2\",\"...--\": \"3\",\"....-\": \"4\",\".....\": \"5\",\n",
        "    \"-....\": \"6\",\"--...\": \"7\",\"---..\": \"8\",\"----.\": \"9\",\"-----\": \"0\",\n",
        "    \"--..--\": \",\",\".-.-.-\": \".\",\"..--..\": \"?\",\"---...\": \":\",\"-....-\": \"-\",\".--.-.\": \"@\",\n",
        "}\n",
        "\n",
        "n = int(input())\n",
        "s = input()\n",
        "s = s.split()\n",
        "\n",
        "tmp = ''\n",
        "for mos in s:\n",
        "  tmp += morse_code[mos]\n",
        "\n",
        "print(tmp)"
      ]
    },
    {
      "cell_type": "markdown",
      "source": [
        "### 18679"
      ],
      "metadata": {
        "id": "pZd7Cq1QU7wB"
      }
    },
    {
      "cell_type": "code",
      "source": [
        "n = int(input())\n",
        "chg = {}\n",
        "\n",
        "for i in range(n):\n",
        "  s = input()\n",
        "  s = s.replace(' ', '').split('=')\n",
        "  chg[s[0]] = s[1]\n",
        "\n",
        "t = int(input())\n",
        "for _ in range(t):\n",
        "  raw_t = int(input())\n",
        "  raw = input()\n",
        "  raw = raw.split()\n",
        "\n",
        "  tmp = ''\n",
        "  for word in raw:\n",
        "    tmp += chg[word] + ' '\n",
        "\n",
        "  print(tmp.rstrip())"
      ],
      "metadata": {
        "colab": {
          "base_uri": "https://localhost:8080/"
        },
        "id": "jyo6BwUiU8FM",
        "outputId": "0ddecb93-d141-4963-be64-02da75056abb"
      },
      "execution_count": 2,
      "outputs": [
        {
          "output_type": "stream",
          "name": "stdout",
          "text": [
            "4\n",
            "I = mo\n",
            "love = amo\n",
            "icecream = gelatooo\n",
            "banana = banana\n",
            "2\n",
            "3\n",
            "I love banana\n",
            "mo amo banana\n",
            "3\n",
            "I love icecream\n",
            "mo amo gelatooo\n"
          ]
        }
      ]
    },
    {
      "cell_type": "markdown",
      "source": [
        "---"
      ],
      "metadata": {
        "id": "YB2yEjhiU9fE"
      }
    },
    {
      "cell_type": "markdown",
      "source": [
        "## LeetCode"
      ],
      "metadata": {
        "id": "Is887gEIVBQj"
      }
    },
    {
      "cell_type": "markdown",
      "source": [
        "### 169. Majority Element"
      ],
      "metadata": {
        "id": "kOJ_POr_U_K2"
      }
    },
    {
      "cell_type": "code",
      "source": [
        "class Solution:\n",
        "    def majorityElement(self, nums: List[int]) -> int:\n",
        "        cnt = {}\n",
        "\n",
        "        for num in nums:\n",
        "            if num in cnt:\n",
        "                cnt[num] += 1\n",
        "            else:\n",
        "                cnt[num] = 1\n",
        "\n",
        "        cnt = sorted(cnt.items(), key = lambda x:-x[1])\n",
        "        print(cnt)\n",
        "\n",
        "\n",
        "        ans = -1\n",
        "\n",
        "        for i in cnt:\n",
        "            ans = i[0]\n",
        "            break\n",
        "\n",
        "        return ans"
      ],
      "metadata": {
        "id": "K8kiyRDLU_fp"
      },
      "execution_count": null,
      "outputs": []
    }
  ]
}