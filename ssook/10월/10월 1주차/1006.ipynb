{
  "nbformat": 4,
  "nbformat_minor": 0,
  "metadata": {
    "colab": {
      "provenance": [],
      "authorship_tag": "ABX9TyMsYoI3EKgRVvvTnRWwOK18",
      "include_colab_link": true
    },
    "kernelspec": {
      "name": "python3",
      "display_name": "Python 3"
    },
    "language_info": {
      "name": "python"
    }
  },
  "cells": [
    {
      "cell_type": "markdown",
      "metadata": {
        "id": "view-in-github",
        "colab_type": "text"
      },
      "source": [
        "<a href=\"https://colab.research.google.com/github/ssook1222/1Day-1Algo/blob/master/ssook/10%EC%9B%94/10%EC%9B%94%201%EC%A3%BC%EC%B0%A8/1006.ipynb\" target=\"_parent\"><img src=\"https://colab.research.google.com/assets/colab-badge.svg\" alt=\"Open In Colab\"/></a>"
      ]
    },
    {
      "cell_type": "markdown",
      "source": [
        "## BoJ"
      ],
      "metadata": {
        "id": "-MNgUFywJofp"
      }
    },
    {
      "cell_type": "markdown",
      "source": [
        "### 21945"
      ],
      "metadata": {
        "id": "fL_UlcSZJpye"
      }
    },
    {
      "cell_type": "code",
      "execution_count": 1,
      "metadata": {
        "colab": {
          "base_uri": "https://localhost:8080/"
        },
        "id": "1BROi2OoJmA9",
        "outputId": "71d5bdfe-61df-4b98-b8b5-28fcb52bd8d0"
      },
      "outputs": [
        {
          "output_type": "stream",
          "name": "stdout",
          "text": [
            "5\n",
            "1 13 22 121 45\n",
            "144\n"
          ]
        }
      ],
      "source": [
        "n = int(input())\n",
        "\n",
        "nums = list(map(int, input().split()))\n",
        "hap = 0\n",
        "\n",
        "for num in nums:\n",
        "  if str(num) == str(num)[::-1]:\n",
        "    hap += num\n",
        "\n",
        "print(hap)"
      ]
    },
    {
      "cell_type": "markdown",
      "source": [
        "### 19829"
      ],
      "metadata": {
        "id": "daH0hcFMJqr4"
      }
    },
    {
      "cell_type": "code",
      "source": [
        "n, k = map(int, input().split())\n",
        "road = list(map(int, input().split()))\n",
        "\n",
        "max_length = 1\n",
        "current_length = 1\n",
        "\n",
        "for i in range(1, n):\n",
        "    if road[i] != road[i - 1]:\n",
        "        current_length += 1\n",
        "    else:\n",
        "        max_length = max(max_length, current_length)\n",
        "        current_length = 1\n",
        "\n",
        "max_length = max(max_length, current_length)\n",
        "\n",
        "print(max_length)"
      ],
      "metadata": {
        "colab": {
          "base_uri": "https://localhost:8080/"
        },
        "id": "IZ2gwCwhROxT",
        "outputId": "ac314580-0e46-4d44-fdd7-92bc920d58e0"
      },
      "execution_count": 11,
      "outputs": [
        {
          "output_type": "stream",
          "name": "stdout",
          "text": [
            "8 3\n",
            "1 2 3 3 2 1 2 2\n",
            "4\n"
          ]
        }
      ]
    },
    {
      "cell_type": "markdown",
      "source": [
        "---"
      ],
      "metadata": {
        "id": "VvveP5KlJsD9"
      }
    },
    {
      "cell_type": "markdown",
      "source": [
        "## LeetCode"
      ],
      "metadata": {
        "id": "uENaJMC2Jr9g"
      }
    },
    {
      "cell_type": "markdown",
      "source": [
        "### 75. Sort Colors\n"
      ],
      "metadata": {
        "id": "w0eect5lJuYr"
      }
    },
    {
      "cell_type": "code",
      "source": [
        "class Solution:\n",
        "    def sortColors(self, nums: List[int]) -> None:\n",
        "        \"\"\"\n",
        "        Do not return anything, modify nums in-place instead.\n",
        "        \"\"\"\n",
        "        nums.sort()"
      ],
      "metadata": {
        "id": "NuAySn-zJvac"
      },
      "execution_count": null,
      "outputs": []
    }
  ]
}