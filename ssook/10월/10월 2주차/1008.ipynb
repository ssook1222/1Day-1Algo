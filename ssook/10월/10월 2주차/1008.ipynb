{
  "nbformat": 4,
  "nbformat_minor": 0,
  "metadata": {
    "colab": {
      "provenance": [],
      "authorship_tag": "ABX9TyPk8yiFyPXDKtQpLjWwert0",
      "include_colab_link": true
    },
    "kernelspec": {
      "name": "python3",
      "display_name": "Python 3"
    },
    "language_info": {
      "name": "python"
    }
  },
  "cells": [
    {
      "cell_type": "markdown",
      "metadata": {
        "id": "view-in-github",
        "colab_type": "text"
      },
      "source": [
        "<a href=\"https://colab.research.google.com/github/ssook1222/1Day-1Algo/blob/master/ssook/10%EC%9B%94/10%EC%9B%94%202%EC%A3%BC%EC%B0%A8/1008.ipynb\" target=\"_parent\"><img src=\"https://colab.research.google.com/assets/colab-badge.svg\" alt=\"Open In Colab\"/></a>"
      ]
    },
    {
      "cell_type": "markdown",
      "source": [
        "## BoJ"
      ],
      "metadata": {
        "id": "1tJGbBnqbZxl"
      }
    },
    {
      "cell_type": "markdown",
      "source": [
        "### 2455"
      ],
      "metadata": {
        "id": "pXyjhUZ0bcfM"
      }
    },
    {
      "cell_type": "code",
      "execution_count": 2,
      "metadata": {
        "colab": {
          "base_uri": "https://localhost:8080/"
        },
        "id": "QzhoA1KHbXss",
        "outputId": "d1d968ee-473b-43c4-c7a7-4cc3bf940e49"
      },
      "outputs": [
        {
          "output_type": "stream",
          "name": "stdout",
          "text": [
            "0 32\n",
            "3 13\n",
            "28 25\n",
            "39 0\n",
            "42\n"
          ]
        }
      ],
      "source": [
        "res = 0\n",
        "check = []\n",
        "\n",
        "for i in range(4):\n",
        "  minus, plus = map(int, input().split())\n",
        "  res = res - minus + plus\n",
        "  check.append(res)\n",
        "\n",
        "print(max(check))"
      ]
    },
    {
      "cell_type": "markdown",
      "source": [
        "### 6799"
      ],
      "metadata": {
        "id": "o-tFZQSjbdYr"
      }
    },
    {
      "cell_type": "code",
      "source": [
        "n = int(input())\n",
        "computer = {}\n",
        "\n",
        "for i in range(n):\n",
        "  name, r, s, d = map(str, input().split())\n",
        "  computer[name] = 2*int(r) + 3*int(s) + int(d)\n",
        "\n",
        "computer = sorted(computer.items(), key = lambda x:(-x[1], x[0]))\n",
        "\n",
        "ans = []\n",
        "for i in computer:\n",
        "  if len(ans) < 2:\n",
        "    if i[0] not in ans:\n",
        "      ans.append(i[0])\n",
        "\n",
        "for name in ans:\n",
        "  print(name)"
      ],
      "metadata": {
        "colab": {
          "base_uri": "https://localhost:8080/"
        },
        "id": "UF7Z8kzObePM",
        "outputId": "54201816-fea4-4dec-c581-1670b2b64e35"
      },
      "execution_count": 7,
      "outputs": [
        {
          "output_type": "stream",
          "name": "stdout",
          "text": [
            "4\n",
            "ABC 13 22 1\n",
            "DEF 10 20 30 \n",
            "GHI 11 2 2 \n",
            "JKL 20 20 20\n",
            "JKL\n",
            "DEF\n"
          ]
        }
      ]
    },
    {
      "cell_type": "markdown",
      "source": [
        "---"
      ],
      "metadata": {
        "id": "FZjikGhKbebd"
      }
    },
    {
      "cell_type": "markdown",
      "source": [
        "## LeetCode"
      ],
      "metadata": {
        "id": "r55uFAikbfCi"
      }
    },
    {
      "cell_type": "markdown",
      "source": [
        "### 2877. Create a DataFrame from List\n"
      ],
      "metadata": {
        "id": "GnqetP7fbgXM"
      }
    },
    {
      "cell_type": "code",
      "source": [
        "import pandas as pd\n",
        "\n",
        "def createDataframe(student_data: List[List[int]]) -> pd.DataFrame:\n",
        "    df = pd.DataFrame(student_data, columns = ['student_id', 'age'])\n",
        "    return df"
      ],
      "metadata": {
        "id": "s5tYRfbJbhIR"
      },
      "execution_count": null,
      "outputs": []
    }
  ]
}