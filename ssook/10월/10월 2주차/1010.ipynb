{
  "nbformat": 4,
  "nbformat_minor": 0,
  "metadata": {
    "colab": {
      "provenance": [],
      "authorship_tag": "ABX9TyOsAWDlti4DED7+hDnE2ydY",
      "include_colab_link": true
    },
    "kernelspec": {
      "name": "python3",
      "display_name": "Python 3"
    },
    "language_info": {
      "name": "python"
    }
  },
  "cells": [
    {
      "cell_type": "markdown",
      "metadata": {
        "id": "view-in-github",
        "colab_type": "text"
      },
      "source": [
        "<a href=\"https://colab.research.google.com/github/ssook1222/1Day-1Algo/blob/master/ssook/10%EC%9B%94/10%EC%9B%94%202%EC%A3%BC%EC%B0%A8/1010.ipynb\" target=\"_parent\"><img src=\"https://colab.research.google.com/assets/colab-badge.svg\" alt=\"Open In Colab\"/></a>"
      ]
    },
    {
      "cell_type": "markdown",
      "source": [
        "## BoJ"
      ],
      "metadata": {
        "id": "D8lt6XcqubKr"
      }
    },
    {
      "cell_type": "markdown",
      "source": [
        "### 27160"
      ],
      "metadata": {
        "id": "snzNRY6TucyS"
      }
    },
    {
      "cell_type": "code",
      "execution_count": 14,
      "metadata": {
        "id": "bi2NdaGyuYmC",
        "colab": {
          "base_uri": "https://localhost:8080/"
        },
        "outputId": "d02695b1-4199-4d60-dbf4-dae6e3394413"
      },
      "outputs": [
        {
          "output_type": "stream",
          "name": "stdout",
          "text": [
            "3\n",
            "BANANA 2\n",
            "PLUM 4\n",
            "BANANA 3\n",
            "YES\n"
          ]
        }
      ],
      "source": [
        "import sys\n",
        "\n",
        "n = int(sys.stdin.readline().strip())\n",
        "check = {}\n",
        "\n",
        "for i in range(n):\n",
        "  fruit, num = map(str, sys.stdin.readline().strip().split())\n",
        "  num = int(num)\n",
        "\n",
        "  if fruit not in check:\n",
        "     check[fruit] = num\n",
        "  else:\n",
        "      check[fruit] += num\n",
        "\n",
        "\n",
        "if 5 in check.values():\n",
        "      print(\"YES\")\n",
        "else:\n",
        "    print(\"NO\")"
      ]
    },
    {
      "cell_type": "markdown",
      "source": [
        "### 17294"
      ],
      "metadata": {
        "id": "Y_tqVeKRudNn"
      }
    },
    {
      "cell_type": "code",
      "source": [
        "s = list(input())\n",
        "check = True\n",
        "\n",
        "for i in range(1, len(s)-1):\n",
        "  if int(s[i]) - int(s[i-1]) != int(s[i+1]) - int(s[i]):\n",
        "    check = False\n",
        "    break\n",
        "\n",
        "if check :\n",
        "  print(\"◝(⑅•ᴗ•⑅)◜..°♡ 뀌요미!!\")\n",
        "else:\n",
        "  print(\"흥칫뿡!! <(￣ ﹌ ￣)>\")\n"
      ],
      "metadata": {
        "id": "pSXyczHxudnV",
        "colab": {
          "base_uri": "https://localhost:8080/"
        },
        "outputId": "33781cef-5e98-47eb-c64f-c452d536c66a"
      },
      "execution_count": 23,
      "outputs": [
        {
          "output_type": "stream",
          "name": "stdout",
          "text": [
            "13579\n",
            "◝(⑅•ᴗ•⑅)◜..°♡ 뀌요미!!\n"
          ]
        }
      ]
    },
    {
      "cell_type": "markdown",
      "source": [
        "---"
      ],
      "metadata": {
        "id": "zQWhqPiHud03"
      }
    },
    {
      "cell_type": "markdown",
      "source": [
        "## LeetCode"
      ],
      "metadata": {
        "id": "IKlMRA9YueiY"
      }
    },
    {
      "cell_type": "markdown",
      "source": [
        "### 596. Classes More Than 5 Students\n"
      ],
      "metadata": {
        "id": "HQ2R0M7XugO8"
      }
    },
    {
      "cell_type": "code",
      "source": [
        "import pandas as pd\n",
        "\n",
        "def find_classes(courses: pd.DataFrame) -> pd.DataFrame:\n",
        "    class_counts = courses.groupby('class')['student'].count().reset_index()\n",
        "    result = class_counts[class_counts['student'] >= 5]\n",
        "    return result[['class']]"
      ],
      "metadata": {
        "id": "hJuo2Z87ue2f"
      },
      "execution_count": null,
      "outputs": []
    }
  ]
}