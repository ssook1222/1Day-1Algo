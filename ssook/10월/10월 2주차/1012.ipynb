{
  "nbformat": 4,
  "nbformat_minor": 0,
  "metadata": {
    "colab": {
      "provenance": [],
      "authorship_tag": "ABX9TyOPcB8i7W94oxK1Cw96+Gi3",
      "include_colab_link": true
    },
    "kernelspec": {
      "name": "python3",
      "display_name": "Python 3"
    },
    "language_info": {
      "name": "python"
    }
  },
  "cells": [
    {
      "cell_type": "markdown",
      "metadata": {
        "id": "view-in-github",
        "colab_type": "text"
      },
      "source": [
        "<a href=\"https://colab.research.google.com/github/ssook1222/1Day-1Algo/blob/master/ssook/10%EC%9B%94/10%EC%9B%94%202%EC%A3%BC%EC%B0%A8/1012.ipynb\" target=\"_parent\"><img src=\"https://colab.research.google.com/assets/colab-badge.svg\" alt=\"Open In Colab\"/></a>"
      ]
    },
    {
      "cell_type": "markdown",
      "source": [
        "## BoJ"
      ],
      "metadata": {
        "id": "7UCBsXTPEQ3_"
      }
    },
    {
      "cell_type": "markdown",
      "source": [
        "### 26552"
      ],
      "metadata": {
        "id": "UWJ72_-HESXj"
      }
    },
    {
      "cell_type": "code",
      "execution_count": 1,
      "metadata": {
        "colab": {
          "base_uri": "https://localhost:8080/"
        },
        "id": "_RIo43IEEO_0",
        "outputId": "02971f57-63be-4bac-80c4-110df31fb719"
      },
      "outputs": [
        {
          "output_type": "stream",
          "name": "stdout",
          "text": [
            "2\n",
            "99\n",
            "111\n",
            "1234\n",
            "1235\n"
          ]
        }
      ],
      "source": [
        "t = int(input())\n",
        "\n",
        "for i in range(t):\n",
        "  num = int(input())\n",
        "\n",
        "  while True:\n",
        "    num += 1\n",
        "    if '0' not in str(num):\n",
        "      print(num)\n",
        "      break\n"
      ]
    },
    {
      "cell_type": "markdown",
      "source": [
        "## HackerRank"
      ],
      "metadata": {
        "id": "P3GDHE2aESm3"
      }
    },
    {
      "cell_type": "markdown",
      "source": [
        "### Concatenate"
      ],
      "metadata": {
        "id": "mtNj96_XEUkZ"
      }
    },
    {
      "cell_type": "code",
      "source": [
        "import numpy\n",
        "\n",
        "n, m, p = map(int, input().split())\n",
        "\n",
        "array1 = []\n",
        "for i in range(n):\n",
        "    array1.append(list(map(int, input().split())))\n",
        "\n",
        "array2 = []\n",
        "for i in range(m):\n",
        "    array2.append(list(map(int, input().split())))\n",
        "\n",
        "array_1 = numpy.array(array1)\n",
        "array_2 = numpy.array(array2)\n",
        "\n",
        "print(numpy.concatenate((array_1, array_2), axis = 0))"
      ],
      "metadata": {
        "id": "q6zGKKZCEUxX"
      },
      "execution_count": null,
      "outputs": []
    },
    {
      "cell_type": "markdown",
      "source": [
        "### Inner and Outer"
      ],
      "metadata": {
        "id": "k8hssrVjEVJA"
      }
    },
    {
      "cell_type": "code",
      "source": [
        "import numpy\n",
        "\n",
        "array1 = []\n",
        "array1.append(list(map(int, input().split())))\n",
        "\n",
        "array2 = []\n",
        "array2.append(list(map(int, input().split())))\n",
        "\n",
        "array_1 = numpy.array(array1)\n",
        "array_2 = numpy.array(array2)\n",
        "\n",
        "print(numpy.inner(array_1, array_2)[0][0])\n",
        "print(numpy.outer(array_1, array_2))"
      ],
      "metadata": {
        "id": "4ANw-U_SEVWZ"
      },
      "execution_count": null,
      "outputs": []
    }
  ]
}