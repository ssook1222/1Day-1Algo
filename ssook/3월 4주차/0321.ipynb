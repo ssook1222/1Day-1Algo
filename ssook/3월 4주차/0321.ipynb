{
  "nbformat": 4,
  "nbformat_minor": 0,
  "metadata": {
    "colab": {
      "provenance": []
    },
    "kernelspec": {
      "name": "python3",
      "display_name": "Python 3"
    },
    "language_info": {
      "name": "python"
    }
  },
  "cells": [
    {
      "cell_type": "markdown",
      "source": [
        "### 2845"
      ],
      "metadata": {
        "id": "WPM1esELljnV"
      }
    },
    {
      "cell_type": "code",
      "execution_count": null,
      "metadata": {
        "colab": {
          "base_uri": "https://localhost:8080/"
        },
        "id": "eNCDYRmblSUW",
        "outputId": "f4945feb-dbd7-4995-a64d-851c85a61640"
      },
      "outputs": [
        {
          "output_type": "stream",
          "name": "stdout",
          "text": [
            "5 20\n",
            "99 101 1000 0 97\n",
            "-1 1 900 -100 -3 "
          ]
        }
      ],
      "source": [
        "L, P = map(int, input().split())\n",
        "\n",
        "data = list(map(int, input().split()))\n",
        "\n",
        "for i in data:\n",
        "  if L * P == i :\n",
        "    print(0, end = \" \")\n",
        "  \n",
        "  else:\n",
        "    print(i - (L * P), end = \" \")"
      ]
    }
  ]
}