{
  "nbformat": 4,
  "nbformat_minor": 0,
  "metadata": {
    "colab": {
      "provenance": []
    },
    "kernelspec": {
      "name": "python3",
      "display_name": "Python 3"
    },
    "language_info": {
      "name": "python"
    }
  },
  "cells": [
    {
      "cell_type": "markdown",
      "source": [
        "### 1929"
      ],
      "metadata": {
        "id": "73rbpsK2y1Ip"
      }
    },
    {
      "cell_type": "code",
      "source": [
        "import sys\n",
        "import math\n",
        "\n",
        "N, M = map(int, sys.stdin.readline().split())\n",
        "arr = [True for _ in range(M+1)]\n",
        "\n",
        "def prime_num(n):\n",
        "    for i in range(2, int((math.sqrt(n))+1)):\n",
        "        if arr[i] == True:\n",
        "            j = 2\n",
        "            while i * j <= n :\n",
        "                arr[i*j] = False\n",
        "                j = j + 1\n",
        "    \n",
        "    for i in range(N,M+1):\n",
        "        if i > 1:\n",
        "            if arr[i] == True:\n",
        "                print(i)\n",
        "\n",
        "prime_num(M)"
      ],
      "metadata": {
        "id": "E01khTF08Ucj"
      },
      "execution_count": null,
      "outputs": []
    },
    {
      "cell_type": "markdown",
      "source": [
        "### 시간초과 - 1\n",
        "\n",
        "\n",
        "```python\n",
        "def prime_num(n):\n",
        "  for i in range(2,n):\n",
        "    if n%i == 0:\n",
        "      return False\n",
        "  return True\n",
        "\n",
        "N, M = map(int, input().split())\n",
        "\n",
        "for i in range(N,M):\n",
        "  if prime_num(i) == True:\n",
        "    print(i)\n",
        "```\n",
        "\n",
        "### 시간초과 - 2\n",
        "\n",
        "```python\n",
        "import sys\n",
        "\n",
        "def prime_num(n):\n",
        "  for i in range(2,n):\n",
        "    if n%i == 0:\n",
        "      return False\n",
        "  return True\n",
        "\n",
        "N, M = map(int, sys.stdin.readline().split())\n",
        "\n",
        "for i in range(N,M):\n",
        "  if prime_num(i) == True:\n",
        "    print(i)\n",
        "```\n",
        "\n",
        "### 틀린 답\n",
        "\n",
        "```python\n",
        "import sys\n",
        "import math\n",
        "\n",
        "def prime_num(n):\n",
        "  for i in range(2, int((math.sqrt(n))+1)):\n",
        "    if n%i == 0:\n",
        "      return False\n",
        "  return True\n",
        "\n",
        "N, M = map(int, sys.stdin.readline().split())\n",
        "\n",
        "for i in range(N,M):\n",
        "  if prime_num(i) == True:\n",
        "    print(i)\n",
        "```\n"
      ],
      "metadata": {
        "id": "RO8eSTTO_maH"
      }
    },
    {
      "cell_type": "markdown",
      "source": [
        "### 1978"
      ],
      "metadata": {
        "id": "T_fz_HBvANF7"
      }
    },
    {
      "cell_type": "code",
      "source": [
        "def prime_num(n):\n",
        "  for i in range(2,n):\n",
        "    if n%i == 0:\n",
        "      return False\n",
        "  return True\n",
        "\n",
        "num = int(input())\n",
        "num_list = list(map(int, input().split()))\n",
        "cnt = 0\n",
        "\n",
        "for i in num_list:\n",
        "  if i != 1 :\n",
        "    if prime_num(i) == True:\n",
        "      cnt = cnt + 1\n",
        "print(cnt)"
      ],
      "metadata": {
        "colab": {
          "base_uri": "https://localhost:8080/"
        },
        "id": "xiUtvxVzANQx",
        "outputId": "7de346f5-324c-47b6-ccfb-339d6245f5b4"
      },
      "execution_count": 57,
      "outputs": [
        {
          "output_type": "stream",
          "name": "stdout",
          "text": [
            "4\n",
            "1 3 5 15\n",
            "2\n"
          ]
        }
      ]
    },
    {
      "cell_type": "markdown",
      "source": [
        "### 7568"
      ],
      "metadata": {
        "id": "5M8_oxvwKaMd"
      }
    },
    {
      "cell_type": "code",
      "source": [
        "N = int(input())\n",
        "data = []\n",
        "\n",
        "for i in range(0, N):\n",
        "  x, y = map(int, input().split())\n",
        "  data.append((x,y))\n",
        "\n",
        "for i in data:\n",
        "  rank = 1\n",
        "  for j in data:\n",
        "    if i[0] < j[0] and i[1] < j[1]: ### 하나씩 비교해서 랭킹에 1을 더해 줌.\n",
        "      rank = rank + 1\n",
        "  print(rank, end=\" \")"
      ],
      "metadata": {
        "colab": {
          "base_uri": "https://localhost:8080/"
        },
        "id": "0iZic74_KZ9n",
        "outputId": "e4ef863a-a8b9-48b0-a68c-62cc5d3def30"
      },
      "execution_count": 60,
      "outputs": [
        {
          "output_type": "stream",
          "name": "stdout",
          "text": [
            "5\n",
            "55 185\n",
            "58 183\n",
            "88 186\n",
            "60 175\n",
            "46 155\n",
            "2 2 1 2 5 "
          ]
        }
      ]
    }
  ]
}