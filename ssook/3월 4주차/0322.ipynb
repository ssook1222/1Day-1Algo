{
  "nbformat": 4,
  "nbformat_minor": 0,
  "metadata": {
    "colab": {
      "provenance": [],
      "authorship_tag": "ABX9TyPfD2J2ql616Pog2IoSBoAX"
    },
    "kernelspec": {
      "name": "python3",
      "display_name": "Python 3"
    },
    "language_info": {
      "name": "python"
    }
  },
  "cells": [
    {
      "cell_type": "markdown",
      "source": [
        "### 5554"
      ],
      "metadata": {
        "id": "V5vmfEGfV6Tj"
      }
    },
    {
      "cell_type": "code",
      "execution_count": null,
      "metadata": {
        "colab": {
          "base_uri": "https://localhost:8080/"
        },
        "id": "wWpay_jyVP0l",
        "outputId": "7b091e18-542d-4bda-e3ac-0987443c5858"
      },
      "outputs": [
        {
          "output_type": "stream",
          "name": "stdout",
          "text": [
            "31\n",
            "34\n",
            "7\n",
            "151\n",
            "3\n",
            "43\n"
          ]
        }
      ],
      "source": [
        "one = int(input())\n",
        "two = int(input())\n",
        "three = int(input())\n",
        "four = int(input())\n",
        "\n",
        "sum = one + two + three + four\n",
        "\n",
        "min = sum // 60\n",
        "sec = sum % 60\n",
        "\n",
        "print(min)\n",
        "print(sec)"
      ]
    },
    {
      "cell_type": "markdown",
      "source": [
        "### 1712"
      ],
      "metadata": {
        "id": "R73l7eMTgxsP"
      }
    },
    {
      "cell_type": "code",
      "source": [
        "A, B, C = map(int,(input().split(\" \")))\n",
        "\n",
        "if B >= C :\n",
        "  print(\"-1\")\n",
        "\n",
        "else:\n",
        "  print(int(A/(C-B))+1)"
      ],
      "metadata": {
        "colab": {
          "base_uri": "https://localhost:8080/"
        },
        "id": "v7NmQPnmgx7S",
        "outputId": "b88ba666-81ec-4d4c-de3e-7bccfb4992f1"
      },
      "execution_count": 6,
      "outputs": [
        {
          "output_type": "stream",
          "name": "stdout",
          "text": [
            "1000 70 170\n",
            "11\n"
          ]
        }
      ]
    },
    {
      "cell_type": "markdown",
      "source": [
        "### 2748"
      ],
      "metadata": {
        "id": "x73R8E7bitQc"
      }
    },
    {
      "cell_type": "code",
      "source": [
        "n = int(input())\n",
        "\n",
        "fibo = [0] * (n+1) # n개 만큼 배열 초기화\n",
        "fibo[1] = 1 #0은 0, 1은 1로 지정\n",
        "\n",
        "for i in range(2, n+1): # 2부터 n+1까지 루프를 돌며 이전 인덱스와 이후 인덱스의 값 합산 \n",
        "  fibo[i] = fibo[i-1] + fibo[i-2]\n",
        "\n",
        "print(fibo[n]) #n번째 수 출력"
      ],
      "metadata": {
        "colab": {
          "base_uri": "https://localhost:8080/"
        },
        "id": "QLmewLFvitif",
        "outputId": "75e1ee04-077b-497a-b0bc-28a647d8279f"
      },
      "execution_count": 7,
      "outputs": [
        {
          "output_type": "stream",
          "name": "stdout",
          "text": [
            "10\n",
            "55\n"
          ]
        }
      ]
    },
    {
      "cell_type": "markdown",
      "source": [
        "### 25305"
      ],
      "metadata": {
        "id": "0_6dRnzTjxmn"
      }
    },
    {
      "cell_type": "code",
      "source": [
        "N, K = map(int, input().split(\" \"))\n",
        "\n",
        "people = list(map(int, input().split(\" \")))\n",
        "people.sort(reverse = True)\n",
        "\n",
        "print(people[K-1])"
      ],
      "metadata": {
        "colab": {
          "base_uri": "https://localhost:8080/"
        },
        "id": "eu8IzikTjx5f",
        "outputId": "17a5b944-44a4-465e-9ace-fa00ae5ecb14"
      },
      "execution_count": 11,
      "outputs": [
        {
          "output_type": "stream",
          "name": "stdout",
          "text": [
            "5 2\n",
            "100 76 85 93 98\n",
            "98\n"
          ]
        }
      ]
    },
    {
      "cell_type": "markdown",
      "source": [
        "### 10773"
      ],
      "metadata": {
        "id": "M7pH2W5_lGpy"
      }
    },
    {
      "cell_type": "code",
      "source": [
        "K = int(input())\n",
        "stack = []\n",
        "\n",
        "for i in range(0, K):\n",
        "  num = int(input())\n",
        "  if num == 0 :\n",
        "    stack.pop()\n",
        "  else :\n",
        "    stack.append(num)\n",
        "  \n",
        "print(sum(stack))"
      ],
      "metadata": {
        "colab": {
          "base_uri": "https://localhost:8080/"
        },
        "id": "h4iBlZgtlG3_",
        "outputId": "0b4a7af9-b10e-4d3f-bae8-f9f7cc0acd2d"
      },
      "execution_count": 12,
      "outputs": [
        {
          "output_type": "stream",
          "name": "stdout",
          "text": [
            "4\n",
            "3\n",
            "0\n",
            "4\n",
            "0\n",
            "0\n"
          ]
        }
      ]
    }
  ]
}