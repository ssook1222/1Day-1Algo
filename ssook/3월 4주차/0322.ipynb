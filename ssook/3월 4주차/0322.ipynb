{
  "nbformat": 4,
  "nbformat_minor": 0,
  "metadata": {
    "colab": {
      "provenance": []
    },
    "kernelspec": {
      "name": "python3",
      "display_name": "Python 3"
    },
    "language_info": {
      "name": "python"
    }
  },
  "cells": [
    {
      "cell_type": "markdown",
      "source": [
        "### 5554"
      ],
      "metadata": {
        "id": "V5vmfEGfV6Tj"
      }
    },
    {
      "cell_type": "code",
      "execution_count": null,
      "metadata": {
        "colab": {
          "base_uri": "https://localhost:8080/"
        },
        "id": "wWpay_jyVP0l",
        "outputId": "7b091e18-542d-4bda-e3ac-0987443c5858"
      },
      "outputs": [
        {
          "output_type": "stream",
          "name": "stdout",
          "text": [
            "31\n",
            "34\n",
            "7\n",
            "151\n",
            "3\n",
            "43\n"
          ]
        }
      ],
      "source": [
        "one = int(input())\n",
        "two = int(input())\n",
        "three = int(input())\n",
        "four = int(input())\n",
        "\n",
        "sum = one + two + three + four\n",
        "\n",
        "min = sum // 60\n",
        "sec = sum % 60\n",
        "\n",
        "print(min)\n",
        "print(sec)"
      ]
    }
  ]
}