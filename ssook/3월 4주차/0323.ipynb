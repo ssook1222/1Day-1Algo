{
  "nbformat": 4,
  "nbformat_minor": 0,
  "metadata": {
    "colab": {
      "provenance": []
    },
    "kernelspec": {
      "name": "python3",
      "display_name": "Python 3"
    },
    "language_info": {
      "name": "python"
    }
  },
  "cells": [
    {
      "cell_type": "markdown",
      "source": [
        "### 11948"
      ],
      "metadata": {
        "id": "DcVoXPpX_FIZ"
      }
    },
    {
      "cell_type": "code",
      "execution_count": null,
      "metadata": {
        "colab": {
          "base_uri": "https://localhost:8080/"
        },
        "id": "r33T58eb-1sH",
        "outputId": "dcf0d651-3dc5-4e0e-e415-6ae3ae8d473b"
      },
      "outputs": [
        {
          "output_type": "stream",
          "name": "stdout",
          "text": [
            "100\n",
            "34\n",
            "76\n",
            "42\n",
            "10\n",
            "0\n",
            "228\n"
          ]
        }
      ],
      "source": [
        "a = int(input())\n",
        "b = int(input())\n",
        "c = int(input())\n",
        "d = int(input())\n",
        "e = int(input())\n",
        "f = int(input())\n",
        "\n",
        "four = [a,b,c,d]\n",
        "four.sort(reverse=True)\n",
        "\n",
        "sum = 0\n",
        "\n",
        "for i in range(0, len(four)-1):\n",
        "  sum = four[i] + sum\n",
        "\n",
        "print(sum+max(e,f))"
      ]
    }
  ]
}