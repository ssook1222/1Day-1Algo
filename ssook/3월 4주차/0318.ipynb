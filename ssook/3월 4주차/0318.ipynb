{
  "nbformat": 4,
  "nbformat_minor": 0,
  "metadata": {
    "colab": {
      "provenance": []
    },
    "kernelspec": {
      "name": "python3",
      "display_name": "Python 3"
    },
    "language_info": {
      "name": "python"
    }
  },
  "cells": [
    {
      "cell_type": "markdown",
      "source": [
        "### 14935"
      ],
      "metadata": {
        "id": "wruSWF3Kultj"
      }
    },
    {
      "cell_type": "code",
      "source": [
        "print(\"FA\")"
      ],
      "metadata": {
        "id": "JW6r9Z1xzcY2"
      },
      "execution_count": null,
      "outputs": []
    },
    {
      "cell_type": "markdown",
      "source": [
        "### 2490"
      ],
      "metadata": {
        "id": "yUeGsieZ1GIQ"
      }
    },
    {
      "cell_type": "code",
      "execution_count": null,
      "metadata": {
        "id": "tdbYIO4yug7j",
        "colab": {
          "base_uri": "https://localhost:8080/"
        },
        "outputId": "bd7a4c0f-7445-4ba6-b4e9-dd6b3f0f589b"
      },
      "outputs": [
        {
          "output_type": "stream",
          "name": "stdout",
          "text": [
            "0 1 0 1\n",
            "B\n",
            "1 1 1 0\n",
            "A\n",
            "0 0 1 1\n",
            "B\n"
          ]
        }
      ],
      "source": [
        "for i in range(0, 3):\n",
        "  one, two, three, four = map(int, input().split())\n",
        "\n",
        "  first_front = 0\n",
        "  first_back = 0\n",
        "\n",
        "  second_front = 0\n",
        "  second_back = 0\n",
        "\n",
        "  third_front = 0\n",
        "  third_back = 0\n",
        "\n",
        "  fourth_front = 0\n",
        "  fourth_back = 0\n",
        "\n",
        "  front = 0\n",
        "  back = 0\n",
        "\n",
        "  if one == 0:\n",
        "    first_front = first_front + 1\n",
        "\n",
        "  elif one == 1:\n",
        "    first_back = first_back + 1\n",
        "\n",
        "  if two == 0:\n",
        "    second_front = second_front + 1\n",
        "\n",
        "  elif two == 1:\n",
        "    second_back = second_back + 1\n",
        "\n",
        "  if three == 0:\n",
        "    third_front = third_front + 1\n",
        "\n",
        "  elif three == 1:\n",
        "    third_back = third_back + 1\n",
        "\n",
        "  if four == 0:\n",
        "    fourth_front = fourth_front + 1\n",
        "\n",
        "  elif four == 1:\n",
        "    fourth_back = fourth_back + 1\n",
        "\n",
        "  front = first_front + second_front + third_front + fourth_front\n",
        "  back = first_back + second_back + third_back + fourth_back\n",
        "\n",
        "  if front == 1 and back == 3:\n",
        "    print(\"A\")\n",
        "\n",
        "  elif front == 2 and back == 2:\n",
        "    print(\"B\")\n",
        "\n",
        "  elif front == 3 and back == 1:\n",
        "    print(\"C\")\n",
        "\n",
        "  elif front == 4 and back == 0:\n",
        "    print(\"D\")\n",
        "\n",
        "  elif front == 0 and back == 4:\n",
        "    print(\"E\")"
      ]
    },
    {
      "cell_type": "markdown",
      "source": [
        "### 2576"
      ],
      "metadata": {
        "id": "CZ8r2PvSL6_n"
      }
    },
    {
      "cell_type": "code",
      "source": [
        "num = 0\n",
        "num_list = []\n",
        "sum = 0\n",
        "for i in range(0,7):\n",
        "  num = int(input())\n",
        "  if num % 2 == 1 :\n",
        "    sum = sum + num\n",
        "    num_list.append(num)\n",
        "\n",
        "if sum == 0:\n",
        "  sum = -1\n",
        "  print(sum)\n",
        "\n",
        "else:\n",
        "  print(sum)\n",
        "  print(min(num_list))"
      ],
      "metadata": {
        "colab": {
          "base_uri": "https://localhost:8080/"
        },
        "id": "T3qsRtSPL-mv",
        "outputId": "6efee60a-f310-41cf-f93b-157f8a44d1e9"
      },
      "execution_count": 4,
      "outputs": [
        {
          "output_type": "stream",
          "name": "stdout",
          "text": [
            "12\n",
            "77\n",
            "38\n",
            "41\n",
            "53\n",
            "92\n",
            "85\n",
            "256\n",
            "41\n"
          ]
        }
      ]
    },
    {
      "cell_type": "code",
      "source": [],
      "metadata": {
        "id": "6eHGmn2DL7NI"
      },
      "execution_count": null,
      "outputs": []
    }
  ]
}