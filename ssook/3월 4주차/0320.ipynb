{
  "nbformat": 4,
  "nbformat_minor": 0,
  "metadata": {
    "colab": {
      "provenance": [],
      "authorship_tag": "ABX9TyPEpWoAFRJSTDJSwle8o/8B"
    },
    "kernelspec": {
      "name": "python3",
      "display_name": "Python 3"
    },
    "language_info": {
      "name": "python"
    }
  },
  "cells": [
    {
      "cell_type": "markdown",
      "source": [
        "### 10156"
      ],
      "metadata": {
        "id": "RKpnIZIQOQmL"
      }
    },
    {
      "cell_type": "code",
      "execution_count": null,
      "metadata": {
        "colab": {
          "base_uri": "https://localhost:8080/"
        },
        "id": "bqSSj1ovOJri",
        "outputId": "1b157710-9b5b-4642-c241-a73506ea54db"
      },
      "outputs": [
        {
          "output_type": "stream",
          "name": "stdout",
          "text": [
            "20 10 320\n",
            "-120\n"
          ]
        }
      ],
      "source": [
        "K, N, M = map(int, input().split())\n",
        "\n",
        "if K * N - M > 0 : \n",
        "  print(K * N - M)\n",
        "else:\n",
        "  print(0)"
      ]
    },
    {
      "cell_type": "markdown",
      "source": [
        "### 9012"
      ],
      "metadata": {
        "id": "Y3QqhybMN-Ly"
      }
    },
    {
      "cell_type": "code",
      "source": [
        "n = int(input())\n",
        "\n",
        "for i in range(0, n):\n",
        "  stack = []\n",
        "  vps = True\n",
        "  ps = input()\n",
        "\n",
        "  for j in ps:\n",
        "    if j == \"(\":\n",
        "      stack.append(j)\n",
        "    if j == \")\":\n",
        "      if len(stack)!=0:\n",
        "        stack.pop()\n",
        "      elif len(stack)==0:\n",
        "        vps = False\n",
        "        break\n",
        "  if len(stack)==0 and vps == True :\n",
        "    print(\"YES\")\n",
        "  else :\n",
        "    print(\"NO\")"
      ],
      "metadata": {
        "colab": {
          "base_uri": "https://localhost:8080/"
        },
        "id": "8KPigeMFN-ff",
        "outputId": "adfc38d6-e61e-4486-cd93-b18fff4cb693"
      },
      "execution_count": 8,
      "outputs": [
        {
          "output_type": "stream",
          "name": "stdout",
          "text": [
            "6\n",
            "(())())\n",
            "No\n",
            "(((()())()\n",
            "No\n",
            "(()())((()))\n",
            "Yes\n",
            "((()()(()))(((())))()\n",
            "No\n",
            "()()()()(()()())()\n",
            "Yes\n",
            "(()((())()(\n",
            "No\n"
          ]
        }
      ]
    },
    {
      "cell_type": "markdown",
      "source": [
        "### 10824"
      ],
      "metadata": {
        "id": "RY2BRLz1RUkD"
      }
    },
    {
      "cell_type": "code",
      "source": [
        "A, B, C, D = map(str, input().split())\n",
        "\n",
        "one = int(A+B)\n",
        "two = int(C+D)\n",
        "\n",
        "print(one+two)"
      ],
      "metadata": {
        "colab": {
          "base_uri": "https://localhost:8080/"
        },
        "id": "nvhSKwwXRUwx",
        "outputId": "9e0d7389-eddf-4526-f70f-97dc17a844ba"
      },
      "execution_count": 12,
      "outputs": [
        {
          "output_type": "stream",
          "name": "stdout",
          "text": [
            "10 20 30 40\n",
            "4060\n"
          ]
        }
      ]
    }
  ]
}