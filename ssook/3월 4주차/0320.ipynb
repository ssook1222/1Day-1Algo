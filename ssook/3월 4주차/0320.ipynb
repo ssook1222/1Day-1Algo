{
  "nbformat": 4,
  "nbformat_minor": 0,
  "metadata": {
    "colab": {
      "provenance": []
    },
    "kernelspec": {
      "name": "python3",
      "display_name": "Python 3"
    },
    "language_info": {
      "name": "python"
    }
  },
  "cells": [
    {
      "cell_type": "markdown",
      "source": [
        "### 10156"
      ],
      "metadata": {
        "id": "RKpnIZIQOQmL"
      }
    },
    {
      "cell_type": "code",
      "execution_count": null,
      "metadata": {
        "colab": {
          "base_uri": "https://localhost:8080/"
        },
        "id": "bqSSj1ovOJri",
        "outputId": "1b157710-9b5b-4642-c241-a73506ea54db"
      },
      "outputs": [
        {
          "output_type": "stream",
          "name": "stdout",
          "text": [
            "20 10 320\n",
            "-120\n"
          ]
        }
      ],
      "source": [
        "K, N, M = map(int, input().split())\n",
        "\n",
        "if K * N - M > 0 : \n",
        "  print(K * N - M)\n",
        "else:\n",
        "  print(0)"
      ]
    }
  ]
}