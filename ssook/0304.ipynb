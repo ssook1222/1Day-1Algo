{
  "nbformat": 4,
  "nbformat_minor": 0,
  "metadata": {
    "colab": {
      "provenance": []
    },
    "kernelspec": {
      "name": "python3",
      "display_name": "Python 3"
    },
    "language_info": {
      "name": "python"
    }
  },
  "cells": [
    {
      "cell_type": "markdown",
      "source": [
        "## 3월 4일 문제풀이\n",
        "\n",
        "> 브론즈 뽀개기!!!\n",
        "\n",
        "`푼 문제 수` 20문제   \n",
        "`참여자` 최숙\n",
        "\n"
      ],
      "metadata": {
        "id": "2nmb2omLHfWV"
      }
    },
    {
      "cell_type": "markdown",
      "source": [
        "### 1271"
      ],
      "metadata": {
        "id": "cCo2RZhtvahr"
      }
    },
    {
      "cell_type": "code",
      "execution_count": 7,
      "metadata": {
        "colab": {
          "base_uri": "https://localhost:8080/"
        },
        "id": "G5vfWarovU9z",
        "outputId": "df4b797e-0304-4340-db09-ff1921e5daee"
      },
      "outputs": [
        {
          "output_type": "stream",
          "name": "stdout",
          "text": [
            "1000 100\n",
            "10\n",
            "0\n"
          ]
        }
      ],
      "source": [
        "N,M = map(int, input().split())\n",
        "print(int(N//M))\n",
        "print(N%M)"
      ]
    },
    {
      "cell_type": "markdown",
      "source": [
        "### 2744"
      ],
      "metadata": {
        "id": "cjE6czrEyhnj"
      }
    },
    {
      "cell_type": "code",
      "source": [
        "raw = input()\n",
        "print(raw.swapcase())"
      ],
      "metadata": {
        "colab": {
          "base_uri": "https://localhost:8080/"
        },
        "id": "ryEu0NJ9yPHT",
        "outputId": "eb546ca5-90ed-4a16-b54b-4208214f423a"
      },
      "execution_count": 9,
      "outputs": [
        {
          "output_type": "stream",
          "name": "stdout",
          "text": [
            "WrongAnswer\n",
            "wRONGaNSWER\n"
          ]
        }
      ]
    },
    {
      "cell_type": "markdown",
      "source": [
        "### 2754"
      ],
      "metadata": {
        "id": "2u-grVS1zHJk"
      }
    },
    {
      "cell_type": "code",
      "source": [
        "data = input()\n",
        "\n",
        "if data == \"A+\" :\n",
        "  print('4.3') \n",
        "\n",
        "elif data == \"A0\" :\n",
        "  print('4.0') \n",
        "\n",
        "elif data == \"A-\" :\n",
        "  print('3.7') \n",
        "\n",
        "elif data == \"B+\" :\n",
        "  print('3.3')\n",
        "\n",
        "elif data == \"B0\" :\n",
        "  print('3.0')\n",
        "\n",
        "elif data == \"B-\" :\n",
        "  print('2.7')\n",
        "\n",
        "elif data == \"C+\" :\n",
        "  print('2.3') \n",
        "\n",
        "elif data == \"C0\" :\n",
        "  print('2.0') \n",
        "\n",
        "elif data == \"C-\" :\n",
        "  print('1.7') \n",
        "\n",
        "elif data == \"D+\" :\n",
        "  print('1.3')\n",
        "\n",
        "elif data == \"D0\" :\n",
        "  print('1.0')\n",
        "\n",
        "elif data == \"D-\" :\n",
        "  print('0.7')\n",
        "\n",
        "elif data == \"F\" :\n",
        "  print('0.0')         "
      ],
      "metadata": {
        "colab": {
          "base_uri": "https://localhost:8080/"
        },
        "id": "TXSty9A5zImm",
        "outputId": "bac22a09-b4b1-427a-d19d-6b3016fb2b8e"
      },
      "execution_count": 11,
      "outputs": [
        {
          "output_type": "stream",
          "name": "stdout",
          "text": [
            "A0\n",
            "4.0\n"
          ]
        }
      ]
    },
    {
      "cell_type": "markdown",
      "source": [
        "### 4101"
      ],
      "metadata": {
        "id": "a9UMbI-50DwZ"
      }
    },
    {
      "cell_type": "code",
      "source": [
        "while True :\n",
        "  N,M = map(int, input().split())\n",
        "\n",
        "  if N == 0 and M == 0 :\n",
        "    break\n",
        "\n",
        "  elif N > M :\n",
        "    print(\"Yes\")\n",
        "\n",
        "  else :\n",
        "    print(\"No\")"
      ],
      "metadata": {
        "colab": {
          "base_uri": "https://localhost:8080/"
        },
        "id": "1fFHx_aCzxXt",
        "outputId": "253b9864-c156-47b6-b7ae-1bfb060bc1c3"
      },
      "execution_count": 13,
      "outputs": [
        {
          "name": "stdout",
          "output_type": "stream",
          "text": [
            "1 19\n",
            "No\n",
            "4 4\n",
            "No\n",
            "23 14\n",
            "Yes\n",
            "0 0\n"
          ]
        }
      ]
    },
    {
      "cell_type": "markdown",
      "source": [
        "### 5337"
      ],
      "metadata": {
        "id": "JKEolSyH0vkf"
      }
    },
    {
      "cell_type": "code",
      "source": [
        "print(\"\"\"\n",
        ".  .   .\n",
        "|  | _ | _. _ ._ _  _\n",
        "|/\\|(/.|(_.(_)[ | )(/.\n",
        "\"\"\")\n",
        "\n",
        "print(\".  .   .\")\n",
        "print(\"|  | _ | _. _ ._ _  _\")\n",
        "print(\"|/\\|(/.|(_.(_)[ | )(/.\")"
      ],
      "metadata": {
        "colab": {
          "base_uri": "https://localhost:8080/"
        },
        "id": "XYj7TtyV0vIK",
        "outputId": "7595254e-7bb8-4885-be04-ef154b4ecc0c"
      },
      "execution_count": 15,
      "outputs": [
        {
          "output_type": "stream",
          "name": "stdout",
          "text": [
            "\n",
            ".  .   .\n",
            "|  | _ | _. _ ._ _  _\n",
            "|/\\|(/.|(_.(_)[ | )(/.\n",
            "\n",
            ".  .   .\n",
            "|  | _ | _. _ ._ _  _\n",
            "|/\\|(/.|(_.(_)[ | )(/.\n"
          ]
        }
      ]
    },
    {
      "cell_type": "markdown",
      "source": [
        "### 26711"
      ],
      "metadata": {
        "id": "_M5t5dpt1lwQ"
      }
    },
    {
      "cell_type": "code",
      "source": [
        "A = int(input())\n",
        "B = int(input())\n",
        "\n",
        "print(A+B)"
      ],
      "metadata": {
        "colab": {
          "base_uri": "https://localhost:8080/"
        },
        "id": "EiCGO5ir1iGG",
        "outputId": "5b883a48-fc3b-4e94-d30c-9f54dd655050"
      },
      "execution_count": 16,
      "outputs": [
        {
          "output_type": "stream",
          "name": "stdout",
          "text": [
            "1977\n",
            "25\n",
            "2002\n"
          ]
        }
      ]
    },
    {
      "cell_type": "markdown",
      "source": [
        "### 10757"
      ],
      "metadata": {
        "id": "beqXDuIu2MDv"
      }
    },
    {
      "cell_type": "code",
      "source": [
        "A,B = map(int, input().split())\n",
        "\n",
        "print(A+B)"
      ],
      "metadata": {
        "colab": {
          "base_uri": "https://localhost:8080/"
        },
        "id": "oF7d30P-1jxK",
        "outputId": "d9c5d55a-0c5a-4fb1-8fc0-495b234f7890"
      },
      "execution_count": 18,
      "outputs": [
        {
          "output_type": "stream",
          "name": "stdout",
          "text": [
            "9223372036854775807 9223372036854775808\n",
            "18446744073709551615\n"
          ]
        }
      ]
    },
    {
      "cell_type": "markdown",
      "source": [
        "### 13277"
      ],
      "metadata": {
        "id": "Isg0zLHS2ghI"
      }
    },
    {
      "cell_type": "code",
      "source": [
        "A,B = map(int, input().split())\n",
        "\n",
        "print(A*B)"
      ],
      "metadata": {
        "colab": {
          "base_uri": "https://localhost:8080/"
        },
        "id": "5UfYk_wl2fsB",
        "outputId": "f1382d66-4a23-41b5-adf7-1aeb92aa981d"
      },
      "execution_count": 19,
      "outputs": [
        {
          "output_type": "stream",
          "name": "stdout",
          "text": [
            "893724358493284 238947328947329\n",
            "213553048277135320552236238436\n"
          ]
        }
      ]
    },
    {
      "cell_type": "markdown",
      "source": [
        "### 14928"
      ],
      "metadata": {
        "id": "qOmz4QkP2ezm"
      }
    },
    {
      "cell_type": "code",
      "source": [
        "num = int(input())\n",
        "print(num % 20000303)"
      ],
      "metadata": {
        "colab": {
          "base_uri": "https://localhost:8080/"
        },
        "id": "lAVUQzQL2iKI",
        "outputId": "9f7e7eb0-4149-4f6b-e458-99477b0da89b"
      },
      "execution_count": 21,
      "outputs": [
        {
          "output_type": "stream",
          "name": "stdout",
          "text": [
            "123456789123456789123456789123456789123456789123456789123456789123456789\n",
            "1313652\n"
          ]
        }
      ]
    },
    {
      "cell_type": "markdown",
      "source": [
        "### 14581"
      ],
      "metadata": {
        "id": "XBkAubVc2h2W"
      }
    },
    {
      "cell_type": "code",
      "source": [
        "nickname = input()\n",
        "\n",
        "print(\":fan::fan::fan:\")\n",
        "print(\":fan::%s::fan:\" %nickname)\n",
        "print(\":fan::fan::fan:\")"
      ],
      "metadata": {
        "colab": {
          "base_uri": "https://localhost:8080/"
        },
        "id": "IoW5AdIn3-aE",
        "outputId": "b179b9e2-b40c-4883-cf18-5e585d6537f4"
      },
      "execution_count": 23,
      "outputs": [
        {
          "output_type": "stream",
          "name": "stdout",
          "text": [
            "ssook\n",
            ":fan::fan::fan:\n",
            ":fan::ssook::fan:\n",
            ":fan::fan::fan:\n"
          ]
        }
      ]
    },
    {
      "cell_type": "markdown",
      "source": [
        "### 27434"
      ],
      "metadata": {
        "id": "1hKfYXFT4bHq"
      }
    },
    {
      "cell_type": "code",
      "source": [
        "num = int(input())\n",
        "ans = 1\n",
        "for i in range(1,num+1):\n",
        "  ans = i*ans \n",
        "\n",
        "print(ans) "
      ],
      "metadata": {
        "colab": {
          "base_uri": "https://localhost:8080/"
        },
        "id": "GUwtR_ge4biB",
        "outputId": "7d4ab450-b0e6-4545-e24f-1ee4e5f4d2eb"
      },
      "execution_count": 37,
      "outputs": [
        {
          "output_type": "stream",
          "name": "stdout",
          "text": [
            "0\n",
            "1\n"
          ]
        }
      ]
    },
    {
      "cell_type": "markdown",
      "source": [],
      "metadata": {
        "id": "cI9C9Ilm4cFW"
      }
    },
    {
      "cell_type": "code",
      "source": [
        "num = int(input())\n",
        "\n",
        "for i in range (0, num) :\n",
        "  pw = input()\n",
        "  if len(pw) >=6 and len(pw) <= 9 :\n",
        "    print(\"yes\")\n",
        "  else:\n",
        "    print(\"no\")"
      ],
      "metadata": {
        "colab": {
          "base_uri": "https://localhost:8080/"
        },
        "id": "1XwpiGS44cWD",
        "outputId": "eb04b825-1cd8-4944-89fb-a6d1979ebc8a"
      },
      "execution_count": 41,
      "outputs": [
        {
          "output_type": "stream",
          "name": "stdout",
          "text": [
            "3\n",
            "1245125\n",
            "yes\n",
            "asdij\n",
            "no\n",
            "120318738721\n",
            "no\n"
          ]
        }
      ]
    },
    {
      "cell_type": "markdown",
      "source": [
        "### 16170"
      ],
      "metadata": {
        "id": "-2EoI3wN781w"
      }
    },
    {
      "cell_type": "code",
      "source": [
        "import datetime\n",
        "\n",
        "now = datetime.datetime.now()+datetime.timedelta(hours=9)\n",
        "\n",
        "year = now.year\n",
        "month = now.month\n",
        "day = now.day\n",
        "\n",
        "print(year)\n",
        "print(month)\n",
        "print(day)"
      ],
      "metadata": {
        "colab": {
          "base_uri": "https://localhost:8080/"
        },
        "id": "7QrEKr8K78ca",
        "outputId": "b7f0c89a-9bf0-421d-d8e5-b8f46ee03c7c"
      },
      "execution_count": 50,
      "outputs": [
        {
          "output_type": "stream",
          "name": "stdout",
          "text": [
            "2023\n",
            "3\n",
            "4\n"
          ]
        }
      ]
    },
    {
      "cell_type": "markdown",
      "source": [
        "### 20492"
      ],
      "metadata": {
        "id": "68KnBukb9XyX"
      }
    },
    {
      "cell_type": "code",
      "source": [
        "money = int(input())\n",
        "\n",
        "ans1 = int(money - (money * 0.22))\n",
        "ans2 = int(money * 0.8 + (money * 0.2 * 0.78)) \n",
        "\n",
        "print(\"%d %d\" %(ans1,ans2))"
      ],
      "metadata": {
        "colab": {
          "base_uri": "https://localhost:8080/"
        },
        "id": "UvT_FZNm9YTa",
        "outputId": "6ad404d0-b74f-415f-b995-6d5015139224"
      },
      "execution_count": 59,
      "outputs": [
        {
          "output_type": "stream",
          "name": "stdout",
          "text": [
            "10000000\n",
            "7800000 9560000\n"
          ]
        }
      ]
    },
    {
      "cell_type": "markdown",
      "source": [
        "### 25238"
      ],
      "metadata": {
        "id": "zkp6WHMK-6lP"
      }
    },
    {
      "cell_type": "code",
      "source": [
        "A,B = map(int, input().split())\n",
        "\n",
        "if A-(A*B*0.01) >= 100:\n",
        "  print(0)\n",
        "\n",
        "else : \n",
        "  print(1)"
      ],
      "metadata": {
        "colab": {
          "base_uri": "https://localhost:8080/"
        },
        "id": "8cantpi4-6C9",
        "outputId": "ba0430f5-40cd-4743-ff2e-01a1016d1126"
      },
      "execution_count": 70,
      "outputs": [
        {
          "output_type": "stream",
          "name": "stdout",
          "text": [
            "90 0\n",
            "1\n"
          ]
        }
      ]
    },
    {
      "cell_type": "markdown",
      "source": [
        "### 25314"
      ],
      "metadata": {
        "id": "XeZKGW5eAUSm"
      }
    },
    {
      "cell_type": "code",
      "source": [
        "num = int(input())\n",
        "\n",
        "loop = num // 4\n",
        "\n",
        "for i in range(1,loop):\n",
        "  print(\"long\", end=\" \")\n",
        "\n",
        "print(\"long int\")"
      ],
      "metadata": {
        "colab": {
          "base_uri": "https://localhost:8080/"
        },
        "id": "GBLDCcEnAWMF",
        "outputId": "79962f8d-2f4e-47c4-cf9b-c66b84f34178"
      },
      "execution_count": 77,
      "outputs": [
        {
          "output_type": "stream",
          "name": "stdout",
          "text": [
            "20\n",
            "long long long long long int\n"
          ]
        }
      ]
    },
    {
      "cell_type": "markdown",
      "source": [
        "### 5522"
      ],
      "metadata": {
        "id": "vMzHbGArADJC"
      }
    },
    {
      "cell_type": "code",
      "source": [
        "ans = 0\n",
        "\n",
        "for i in range (0,5):\n",
        "  num = int(input())\n",
        "  ans = ans + num\n",
        "\n",
        "print(ans) "
      ],
      "metadata": {
        "colab": {
          "base_uri": "https://localhost:8080/"
        },
        "id": "IS_qJnkeBWmA",
        "outputId": "af770afc-e2cc-4a1f-ae6f-5acc4a2e5db7"
      },
      "execution_count": 81,
      "outputs": [
        {
          "output_type": "stream",
          "name": "stdout",
          "text": [
            "1\n",
            "2\n",
            "3\n",
            "4\n",
            "5\n",
            "15\n"
          ]
        }
      ]
    },
    {
      "cell_type": "markdown",
      "source": [
        "### 11718"
      ],
      "metadata": {
        "id": "iRgyBdYEEgVU"
      }
    },
    {
      "cell_type": "code",
      "source": [
        "while True :\n",
        "  try :\n",
        "    print ( input() )\n",
        "  except EOFError:\n",
        "    break"
      ],
      "metadata": {
        "id": "cWiSo7A-Eit1"
      },
      "execution_count": null,
      "outputs": []
    },
    {
      "cell_type": "markdown",
      "source": [
        "### 9086"
      ],
      "metadata": {
        "id": "fNZ8U6CmFfqT"
      }
    },
    {
      "cell_type": "code",
      "source": [
        "num = int(input())\n",
        "\n",
        "for i in range(1, num+1) : \n",
        "  ans = input()\n",
        "  print(ans[0], end=\"\")\n",
        "  print(ans[len(ans)-1], end=\"\")\n",
        "  print(\"\")"
      ],
      "metadata": {
        "colab": {
          "base_uri": "https://localhost:8080/"
        },
        "id": "QQ97yVS5FhR9",
        "outputId": "b522327d-6216-4b2a-9321-20e8148aaf45"
      },
      "execution_count": 88,
      "outputs": [
        {
          "output_type": "stream",
          "name": "stdout",
          "text": [
            "3\n",
            "ACDKJFOWIEGHE\n",
            "AE\n",
            "0\n",
            "00\n",
            "AB\n",
            "AB\n"
          ]
        }
      ]
    },
    {
      "cell_type": "markdown",
      "source": [
        "### 10039"
      ],
      "metadata": {
        "id": "WBWW8SyZGHQM"
      }
    },
    {
      "cell_type": "code",
      "source": [
        "sum = 0\n",
        "for i in range(0, 5):\n",
        "  score = int(input())\n",
        "  if score < 40 :\n",
        "    score = 40\n",
        "  sum = sum + score\n",
        "\n",
        "print(int(sum/5))"
      ],
      "metadata": {
        "colab": {
          "base_uri": "https://localhost:8080/"
        },
        "id": "GDsedHzeGHuk",
        "outputId": "f8c5da58-03f5-4681-905b-e4d5215e7cf5"
      },
      "execution_count": 98,
      "outputs": [
        {
          "output_type": "stream",
          "name": "stdout",
          "text": [
            "10\n",
            "65\n",
            "100\n",
            "30\n",
            "95\n",
            "68\n"
          ]
        }
      ]
    }
  ]
}