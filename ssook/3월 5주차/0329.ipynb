{
  "nbformat": 4,
  "nbformat_minor": 0,
  "metadata": {
    "colab": {
      "provenance": []
    },
    "kernelspec": {
      "name": "python3",
      "display_name": "Python 3"
    },
    "language_info": {
      "name": "python"
    }
  },
  "cells": [
    {
      "cell_type": "markdown",
      "source": [
        "### 2443"
      ],
      "metadata": {
        "id": "CGI2JWKt_lFq"
      }
    },
    {
      "cell_type": "code",
      "execution_count": null,
      "metadata": {
        "colab": {
          "base_uri": "https://localhost:8080/"
        },
        "id": "3fl5ZJ4U_jPX",
        "outputId": "bb1cd78d-893d-4bbc-f10b-99483e0cf990"
      },
      "outputs": [
        {
          "output_type": "stream",
          "name": "stdout",
          "text": [
            "5\n",
            "*********\n",
            " *******\n",
            "  *****\n",
            "   ***\n",
            "    *\n"
          ]
        }
      ],
      "source": [
        "n = int(input())\n",
        "\n",
        "for i in range(n,0, -1):\n",
        "  print(' '*(n-i)+\"*\"*(2*i-1))"
      ]
    },
    {
      "cell_type": "markdown",
      "source": [
        "### 3058"
      ],
      "metadata": {
        "id": "hN2sG5Xq_txa"
      }
    },
    {
      "cell_type": "code",
      "source": [
        "t = int(input())\n",
        "\n",
        "for i in range(0, t):\n",
        "  hap = 0\n",
        "  num = list(map(int, input().split(\" \")))\n",
        "  jjak = []\n",
        "\n",
        "  for j in num :\n",
        "    if j % 2 == 0:\n",
        "      hap = j + hap\n",
        "      jjak.append(j)\n",
        "  \n",
        "  print(\"%d %d\" %(hap, min(jjak)))"
      ],
      "metadata": {
        "colab": {
          "base_uri": "https://localhost:8080/"
        },
        "id": "r-m9gA-b_uCp",
        "outputId": "5d06804d-23f1-492b-cfb5-30a77b3994c2"
      },
      "execution_count": 4,
      "outputs": [
        {
          "output_type": "stream",
          "name": "stdout",
          "text": [
            "2\n",
            "1 2 3 4 5 6 7\n",
            "12 2\n",
            "13 78 39 42 54 93 86\n",
            "260 42\n"
          ]
        }
      ]
    }
  ]
}