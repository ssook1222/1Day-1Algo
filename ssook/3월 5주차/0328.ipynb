{
  "nbformat": 4,
  "nbformat_minor": 0,
  "metadata": {
    "colab": {
      "provenance": []
    },
    "kernelspec": {
      "name": "python3",
      "display_name": "Python 3"
    },
    "language_info": {
      "name": "python"
    }
  },
  "cells": [
    {
      "cell_type": "markdown",
      "source": [
        "### 2935"
      ],
      "metadata": {
        "id": "TcEPXBSN2TDH"
      }
    },
    {
      "cell_type": "code",
      "execution_count": null,
      "metadata": {
        "colab": {
          "base_uri": "https://localhost:8080/"
        },
        "id": "uu7PaRpVtJwj",
        "outputId": "10933b5a-9c69-4ab2-c845-1439552234a5"
      },
      "outputs": [
        {
          "output_type": "stream",
          "name": "stdout",
          "text": [
            "10\n",
            "+\n",
            "1000\n",
            "1010\n"
          ]
        }
      ],
      "source": [
        "a = int(input())\n",
        "operand = input()\n",
        "b = int(input())\n",
        "\n",
        "if operand == \"+\":\n",
        "  print(a+b)\n",
        "\n",
        "elif operand == \"*\":\n",
        "  print(a*b)"
      ]
    },
    {
      "cell_type": "markdown",
      "source": [
        "### 2547"
      ],
      "metadata": {
        "id": "JNIqsKoO2lDT"
      }
    },
    {
      "cell_type": "code",
      "source": [
        "t = int(input())\n",
        "\n",
        "for i in range(0,t):\n",
        "  tmp = input()\n",
        "  n = int(input())\n",
        "  candy = 0\n",
        "  \n",
        "  for j in range(0,n):\n",
        "    k = int(input())\n",
        "    candy = candy + k\n",
        "  if candy % n == 0:\n",
        "    print(\"YES\")\n",
        "  else:\n",
        "    print(\"NO\")"
      ],
      "metadata": {
        "colab": {
          "base_uri": "https://localhost:8080/"
        },
        "id": "6UG-anDS2lY8",
        "outputId": "f0c0d60c-1c03-40d7-bccf-00241be5695e"
      },
      "execution_count": 3,
      "outputs": [
        {
          "output_type": "stream",
          "name": "stdout",
          "text": [
            "2\n",
            "\n",
            "5\n",
            "5\n",
            "2\n",
            "7\n",
            "3\n",
            "8\n",
            "YES\n",
            "6\n",
            "7\n",
            "11\n",
            "2\n",
            "7\n",
            "3\n",
            "4\n",
            "1\n",
            "11\n",
            "NO\n"
          ]
        }
      ]
    }
  ]
}