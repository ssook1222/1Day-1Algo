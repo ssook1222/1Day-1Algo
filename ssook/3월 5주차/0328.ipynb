{
  "nbformat": 4,
  "nbformat_minor": 0,
  "metadata": {
    "colab": {
      "provenance": [],
      "authorship_tag": "ABX9TyPySCb6ZgUcXxZvMBkOrUek",
      "include_colab_link": true
    },
    "kernelspec": {
      "name": "python3",
      "display_name": "Python 3"
    },
    "language_info": {
      "name": "python"
    }
  },
  "cells": [
    {
      "cell_type": "markdown",
      "metadata": {
        "id": "view-in-github",
        "colab_type": "text"
      },
      "source": [
        "<a href=\"https://colab.research.google.com/github/ssook1222/1Day-1Algo/blob/master/0328.ipynb\" target=\"_parent\"><img src=\"https://colab.research.google.com/assets/colab-badge.svg\" alt=\"Open In Colab\"/></a>"
      ]
    },
    {
      "cell_type": "markdown",
      "source": [
        "### 2935"
      ],
      "metadata": {
        "id": "TcEPXBSN2TDH"
      }
    },
    {
      "cell_type": "code",
      "execution_count": null,
      "metadata": {
        "colab": {
          "base_uri": "https://localhost:8080/"
        },
        "id": "uu7PaRpVtJwj",
        "outputId": "10933b5a-9c69-4ab2-c845-1439552234a5"
      },
      "outputs": [
        {
          "output_type": "stream",
          "name": "stdout",
          "text": [
            "10\n",
            "+\n",
            "1000\n",
            "1010\n"
          ]
        }
      ],
      "source": [
        "a = int(input())\n",
        "operand = input()\n",
        "b = int(input())\n",
        "\n",
        "if operand == \"+\":\n",
        "  print(a+b)\n",
        "\n",
        "elif operand == \"*\":\n",
        "  print(a*b)"
      ]
    },
    {
      "cell_type": "markdown",
      "source": [
        "### 2547"
      ],
      "metadata": {
        "id": "JNIqsKoO2lDT"
      }
    },
    {
      "cell_type": "code",
      "source": [
        "t = int(input())\n",
        "\n",
        "for i in range(0,t):\n",
        "  tmp = input()\n",
        "  n = int(input())\n",
        "  candy = 0\n",
        "  \n",
        "  for j in range(0,n):\n",
        "    k = int(input())\n",
        "    candy = candy + k\n",
        "  if candy % n == 0:\n",
        "    print(\"YES\")\n",
        "  else:\n",
        "    print(\"NO\")"
      ],
      "metadata": {
        "colab": {
          "base_uri": "https://localhost:8080/"
        },
        "id": "6UG-anDS2lY8",
        "outputId": "f0c0d60c-1c03-40d7-bccf-00241be5695e"
      },
      "execution_count": null,
      "outputs": [
        {
          "output_type": "stream",
          "name": "stdout",
          "text": [
            "2\n",
            "\n",
            "5\n",
            "5\n",
            "2\n",
            "7\n",
            "3\n",
            "8\n",
            "YES\n",
            "6\n",
            "7\n",
            "11\n",
            "2\n",
            "7\n",
            "3\n",
            "4\n",
            "1\n",
            "11\n",
            "NO\n"
          ]
        }
      ]
    },
    {
      "cell_type": "markdown",
      "source": [
        "### 4458"
      ],
      "metadata": {
        "id": "xoWGg7rGcr31"
      }
    },
    {
      "cell_type": "code",
      "source": [
        "n = int(input())\n",
        "\n",
        "for i in range(0, n):\n",
        "  ans = str(input())\n",
        "  ans = ans[0].upper()+ans[1:len(ans)]\n",
        "  print(ans)"
      ],
      "metadata": {
        "colab": {
          "base_uri": "https://localhost:8080/"
        },
        "id": "byWolawbcsHB",
        "outputId": "4576b19d-1bba-4b5c-b4fa-035915199da1"
      },
      "execution_count": 3,
      "outputs": [
        {
          "output_type": "stream",
          "name": "stdout",
          "text": [
            "1\n",
            "darth Vader\n",
            "Darth Vader\n"
          ]
        }
      ]
    },
    {
      "cell_type": "markdown",
      "source": [
        "### 1037"
      ],
      "metadata": {
        "id": "RxQW4O3qdeht"
      }
    },
    {
      "cell_type": "code",
      "source": [
        "n = int(input())\n",
        "\n",
        "num = list(map(int, input().split(\" \")))\n",
        "num.sort()\n",
        "\n",
        "print(num[0]*num[len(num)-1])"
      ],
      "metadata": {
        "colab": {
          "base_uri": "https://localhost:8080/"
        },
        "id": "Kmh4D77Gdex-",
        "outputId": "46f9bffc-c56b-4492-85d4-152789316b23"
      },
      "execution_count": 8,
      "outputs": [
        {
          "output_type": "stream",
          "name": "stdout",
          "text": [
            "6\n",
            "3 4 2 12 6 8\n",
            "24\n"
          ]
        }
      ]
    },
    {
      "cell_type": "markdown",
      "source": [
        "### 1312"
      ],
      "metadata": {
        "id": "cqNgxUiieqyj"
      }
    },
    {
      "cell_type": "code",
      "source": [
        "a,b,n = map(int, input().split())\n",
        "\n",
        "for i in range(n):\n",
        "  a = (a%b)*10\n",
        "  res = a//b\n",
        "print(res)"
      ],
      "metadata": {
        "colab": {
          "base_uri": "https://localhost:8080/"
        },
        "id": "XinHl7bUerDG",
        "outputId": "b510df18-34fd-441c-dcdc-5e615f6d89ba"
      },
      "execution_count": 16,
      "outputs": [
        {
          "output_type": "stream",
          "name": "stdout",
          "text": [
            "3 4 1\n",
            "7\n"
          ]
        }
      ]
    }
  ]
}