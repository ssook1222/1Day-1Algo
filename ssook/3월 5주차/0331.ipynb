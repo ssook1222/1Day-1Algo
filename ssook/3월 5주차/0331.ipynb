{
  "nbformat": 4,
  "nbformat_minor": 0,
  "metadata": {
    "colab": {
      "provenance": [],
      "authorship_tag": "ABX9TyMe7/GJ/7xjdc5KO+/1sfB4",
      "include_colab_link": true
    },
    "kernelspec": {
      "name": "python3",
      "display_name": "Python 3"
    },
    "language_info": {
      "name": "python"
    }
  },
  "cells": [
    {
      "cell_type": "markdown",
      "metadata": {
        "id": "view-in-github",
        "colab_type": "text"
      },
      "source": [
        "<a href=\"https://colab.research.google.com/github/ssook1222/1Day-1Algo/blob/master/ssook/3%EC%9B%94%205%EC%A3%BC%EC%B0%A8/0331.ipynb\" target=\"_parent\"><img src=\"https://colab.research.google.com/assets/colab-badge.svg\" alt=\"Open In Colab\"/></a>"
      ]
    },
    {
      "cell_type": "markdown",
      "source": [
        "### 27736"
      ],
      "metadata": {
        "id": "xZOzK-Dd5zln"
      }
    },
    {
      "cell_type": "code",
      "execution_count": 10,
      "metadata": {
        "colab": {
          "base_uri": "https://localhost:8080/"
        },
        "id": "01dwP88r4Gfv",
        "outputId": "bd471b82-7253-4e55-f282-1963af93ed8b"
      },
      "outputs": [
        {
          "output_type": "stream",
          "name": "stdout",
          "text": [
            "4\n",
            "1 0 0 1\n",
            "INVALID\n"
          ]
        }
      ],
      "source": [
        "n = int(input())\n",
        "\n",
        "vote = list(map(int, input().split(\" \")))\n",
        "cnt = 0\n",
        "\n",
        "for i in vote :\n",
        "  if i == 0:\n",
        "    cnt = cnt+1\n",
        "\n",
        "if cnt >= n/2 :\n",
        "    print(\"INVALID\")\n",
        "else:  \n",
        "  if sum(vote) > 0 :\n",
        "    print(\"APPROVED\")\n",
        "\n",
        "  else:\n",
        "    print(\"REJECTED\")"
      ]
    },
    {
      "cell_type": "markdown",
      "source": [
        "### 10886"
      ],
      "metadata": {
        "id": "Ml9KiTqo6l60"
      }
    },
    {
      "cell_type": "code",
      "source": [
        "n = int(input())\n",
        "\n",
        "cnt = []\n",
        "\n",
        "for i in range(0, n):\n",
        "  cnt.append(int(input()))\n",
        "\n",
        "if sum(cnt) >= n/2:\n",
        "  print(\"Junhee is cute!\")\n",
        "\n",
        "else:\n",
        "  print(\"Junhee is not cute!\")"
      ],
      "metadata": {
        "colab": {
          "base_uri": "https://localhost:8080/"
        },
        "id": "jix8VA0S6mFo",
        "outputId": "8132b3c9-80bf-4ec4-cbb8-1f390ef5f45a"
      },
      "execution_count": 14,
      "outputs": [
        {
          "output_type": "stream",
          "name": "stdout",
          "text": [
            "3\n",
            "1\n",
            "0\n",
            "0\n",
            "Junhee is not cute!\n"
          ]
        }
      ]
    },
    {
      "cell_type": "markdown",
      "source": [
        "### 10826"
      ],
      "metadata": {
        "id": "0tUyswoY7enW"
      }
    },
    {
      "cell_type": "code",
      "source": [
        "n = int(input())\n",
        "num = [0,1]\n",
        "\n",
        "for _ in range(len(num), n+1):\n",
        "  num.append(num[-1]+num[-2])\n",
        "\n",
        "print(num[n])"
      ],
      "metadata": {
        "colab": {
          "base_uri": "https://localhost:8080/"
        },
        "id": "5Ppr5D3D7e0m",
        "outputId": "0cd881af-af1e-4c56-9986-de6d0ca36f39"
      },
      "execution_count": 18,
      "outputs": [
        {
          "output_type": "stream",
          "name": "stdout",
          "text": [
            "10\n",
            "55\n"
          ]
        }
      ]
    }
  ]
}