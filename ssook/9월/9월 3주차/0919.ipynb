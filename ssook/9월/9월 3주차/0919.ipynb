{
  "nbformat": 4,
  "nbformat_minor": 0,
  "metadata": {
    "colab": {
      "provenance": [],
      "authorship_tag": "ABX9TyNEmjd/FfD1LDqqk04H4Hzw",
      "include_colab_link": true
    },
    "kernelspec": {
      "name": "python3",
      "display_name": "Python 3"
    },
    "language_info": {
      "name": "python"
    }
  },
  "cells": [
    {
      "cell_type": "markdown",
      "metadata": {
        "id": "view-in-github",
        "colab_type": "text"
      },
      "source": [
        "<a href=\"https://colab.research.google.com/github/ssook1222/1Day-1Algo/blob/master/ssook/9%EC%9B%94/9%EC%9B%94%203%EC%A3%BC%EC%B0%A8/0919.ipynb\" target=\"_parent\"><img src=\"https://colab.research.google.com/assets/colab-badge.svg\" alt=\"Open In Colab\"/></a>"
      ]
    },
    {
      "cell_type": "markdown",
      "source": [
        "## BoJ"
      ],
      "metadata": {
        "id": "myGGSe93DqSG"
      }
    },
    {
      "cell_type": "markdown",
      "source": [
        "### 12833"
      ],
      "metadata": {
        "id": "JBOJ7mroDsFW"
      }
    },
    {
      "cell_type": "code",
      "execution_count": 8,
      "metadata": {
        "colab": {
          "base_uri": "https://localhost:8080/"
        },
        "id": "uDTaP6YEDoFj",
        "outputId": "3d8c6e8f-0b58-4e98-ddb2-a8f61801df1b"
      },
      "outputs": [
        {
          "output_type": "stream",
          "name": "stdout",
          "text": [
            "13 3 1\n",
            "14\n"
          ]
        }
      ],
      "source": [
        "import sys\n",
        "\n",
        "a, b, c = map(int, sys.stdin.readline().rstrip().split())\n",
        "\n",
        "for _ in range(c%2):\n",
        "  a = a^b\n",
        "\n",
        "print(a)"
      ]
    },
    {
      "cell_type": "markdown",
      "source": [
        "### 20551"
      ],
      "metadata": {
        "id": "GjkfUMvKDtWa"
      }
    },
    {
      "cell_type": "code",
      "source": [
        "idx = {}\n",
        "n, m = map(int, input().split())\n",
        "ori = sorted([int(input()) for _ in range(n)])\n",
        "\n",
        "for i in range(n):\n",
        "  if ori[i] not in idx:\n",
        "    idx[ori[i]] = i\n",
        "bigyo = [int(input()) for _ in range(m)]\n",
        "\n",
        "for num in bigyo:\n",
        "  if num in idx:\n",
        "    print(idx[num])\n",
        "  else:\n",
        "    print(-1)"
      ],
      "metadata": {
        "colab": {
          "base_uri": "https://localhost:8080/"
        },
        "id": "tLcQESpeDuPM",
        "outputId": "eab98624-785a-447d-9079-dcc70834f8c1"
      },
      "execution_count": 11,
      "outputs": [
        {
          "output_type": "stream",
          "name": "stdout",
          "text": [
            "5 5\n",
            "9\n",
            "0\n",
            "-1\n",
            "3\n",
            "2\n",
            "-1\n",
            "10\n",
            "5\n",
            "9\n",
            "0\n",
            "0\n",
            "-1\n",
            "-1\n",
            "4\n",
            "1\n"
          ]
        }
      ]
    },
    {
      "cell_type": "markdown",
      "source": [
        "---"
      ],
      "metadata": {
        "id": "qz_DIQnjDuxo"
      }
    },
    {
      "cell_type": "markdown",
      "source": [
        "## LeetCode"
      ],
      "metadata": {
        "id": "ONWZBsoSDwDA"
      }
    },
    {
      "cell_type": "markdown",
      "source": [
        "### 2652. Sum Multiples"
      ],
      "metadata": {
        "id": "mT1kBaY1DzU5"
      }
    },
    {
      "cell_type": "code",
      "source": [
        "class Solution(object):\n",
        "    def sumOfMultiples(self, n):\n",
        "        \"\"\"\n",
        "        :type n: int\n",
        "        :rtype: int\n",
        "        \"\"\"\n",
        "\n",
        "        nums = []\n",
        "        for i in range(1, n+1):\n",
        "            if i % 3 == 0  or i % 5 == 0 or i % 7 == 0:\n",
        "                nums.append(i)\n",
        "\n",
        "        return sum(nums)"
      ],
      "metadata": {
        "id": "SsKySFLzD1A2"
      },
      "execution_count": null,
      "outputs": []
    }
  ]
}