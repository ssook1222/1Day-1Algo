{
  "nbformat": 4,
  "nbformat_minor": 0,
  "metadata": {
    "colab": {
      "provenance": [],
      "authorship_tag": "ABX9TyMCLdBVwaCRX7O02Hj79GGS",
      "include_colab_link": true
    },
    "kernelspec": {
      "name": "python3",
      "display_name": "Python 3"
    },
    "language_info": {
      "name": "python"
    }
  },
  "cells": [
    {
      "cell_type": "markdown",
      "metadata": {
        "id": "view-in-github",
        "colab_type": "text"
      },
      "source": [
        "<a href=\"https://colab.research.google.com/github/ssook1222/1Day-1Algo/blob/master/ssook/9%EC%9B%94/9%EC%9B%94%203%EC%A3%BC%EC%B0%A8/0921.ipynb\" target=\"_parent\"><img src=\"https://colab.research.google.com/assets/colab-badge.svg\" alt=\"Open In Colab\"/></a>"
      ]
    },
    {
      "cell_type": "markdown",
      "source": [
        "## BoJ"
      ],
      "metadata": {
        "id": "GKA5UPIcIWL3"
      }
    },
    {
      "cell_type": "markdown",
      "source": [
        "### 10769"
      ],
      "metadata": {
        "id": "gsdBuBU4IYfP"
      }
    },
    {
      "cell_type": "code",
      "execution_count": 4,
      "metadata": {
        "colab": {
          "base_uri": "https://localhost:8080/"
        },
        "id": "AsNgd-PT_9Mj",
        "outputId": "6e81c81a-9c8d-4719-cfa8-8e58298f7757"
      },
      "outputs": [
        {
          "output_type": "stream",
          "name": "stdout",
          "text": [
            ":-(:-( :-):-):-)\n",
            "happy\n"
          ]
        }
      ],
      "source": [
        "import sys\n",
        "\n",
        "s = sys.stdin.readline()\n",
        "\n",
        "smile_cnt = s.count(':-)')\n",
        "sad_cnt = s.count(':-(')\n",
        "\n",
        "if sad_cnt == 0 and smile_cnt == 0:\n",
        "  print('none')\n",
        "elif smile_cnt > sad_cnt:\n",
        "  print('happy')\n",
        "elif smile_cnt < sad_cnt:\n",
        "  print('sad')\n",
        "elif smile_cnt == sad_cnt:\n",
        "  print('unsure')"
      ]
    },
    {
      "cell_type": "markdown",
      "source": [
        "와... 분기문 순서^^..."
      ],
      "metadata": {
        "id": "RztStWbLMrxF"
      }
    },
    {
      "cell_type": "markdown",
      "source": [
        "### 2548"
      ],
      "metadata": {
        "id": "5RIHh2EmIZ5E"
      }
    },
    {
      "cell_type": "code",
      "source": [
        "n = int(input())\n",
        "nums = list(map(int, input().split()))\n",
        "sum_dict = {}\n",
        "\n",
        "\n",
        "for i in range(n):\n",
        "  hap = 0\n",
        "  for j in range(n):\n",
        "    hap += abs(nums[i]-nums[j])\n",
        "\n",
        "  sum_dict[nums[i]] = hap\n",
        "\n",
        "sum_dict = dict(sorted(sum_dict.items(), key=lambda x:(x[1], x[0])))\n",
        "\n",
        "for ans in sum_dict:\n",
        "  print(ans)\n",
        "  break\n"
      ],
      "metadata": {
        "colab": {
          "base_uri": "https://localhost:8080/"
        },
        "id": "hjzl-qoVIaFG",
        "outputId": "003b9f18-7d82-4034-d2e9-d91631960b8d"
      },
      "execution_count": 16,
      "outputs": [
        {
          "output_type": "stream",
          "name": "stdout",
          "text": [
            "6\n",
            "4 3 2 2 9 10\n",
            "3\n"
          ]
        }
      ]
    },
    {
      "cell_type": "markdown",
      "source": [
        "---"
      ],
      "metadata": {
        "id": "dH86B67xIaZV"
      }
    },
    {
      "cell_type": "markdown",
      "source": [
        "## LeetCode"
      ],
      "metadata": {
        "id": "aDBw1x8OIbbf"
      }
    },
    {
      "cell_type": "markdown",
      "source": [
        "### 46. Permutations\n"
      ],
      "metadata": {
        "id": "QRz39ygMc9Kq"
      }
    },
    {
      "cell_type": "code",
      "source": [
        "import itertools\n",
        "\n",
        "class Solution:\n",
        "    def permute(self, nums: List[int]) -> List[List[int]]:\n",
        "        res = []\n",
        "        raw = itertools.permutations(nums)\n",
        "\n",
        "        for i in raw:\n",
        "            res.append(list(i))\n",
        "\n",
        "        return res"
      ],
      "metadata": {
        "id": "aOCksdZXIdJA"
      },
      "execution_count": null,
      "outputs": []
    }
  ]
}