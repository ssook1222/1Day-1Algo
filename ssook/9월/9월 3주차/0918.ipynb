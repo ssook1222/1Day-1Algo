{
  "nbformat": 4,
  "nbformat_minor": 0,
  "metadata": {
    "colab": {
      "provenance": [],
      "authorship_tag": "ABX9TyPfOWRFwBFQebyXRah+tCCi",
      "include_colab_link": true
    },
    "kernelspec": {
      "name": "python3",
      "display_name": "Python 3"
    },
    "language_info": {
      "name": "python"
    }
  },
  "cells": [
    {
      "cell_type": "markdown",
      "metadata": {
        "id": "view-in-github",
        "colab_type": "text"
      },
      "source": [
        "<a href=\"https://colab.research.google.com/github/ssook1222/1Day-1Algo/blob/master/ssook/9%EC%9B%94/9%EC%9B%94%203%EC%A3%BC%EC%B0%A8/0918.ipynb\" target=\"_parent\"><img src=\"https://colab.research.google.com/assets/colab-badge.svg\" alt=\"Open In Colab\"/></a>"
      ]
    },
    {
      "cell_type": "markdown",
      "source": [
        "## BoJ"
      ],
      "metadata": {
        "id": "LMNRSni1eZ8-"
      }
    },
    {
      "cell_type": "markdown",
      "source": [
        "### 4641"
      ],
      "metadata": {
        "id": "yeHkKJPref2S"
      }
    },
    {
      "cell_type": "code",
      "source": [
        "import sys\n",
        "\n",
        "while True:\n",
        "  s = sys.stdin.readline().rstrip()\n",
        "  if s == '-1':\n",
        "    break\n",
        "  else:\n",
        "    nums = list(map(int, s.split()))\n",
        "    cnt = 0\n",
        "    for num in nums:\n",
        "      if num*2 in nums:\n",
        "        cnt += 1\n",
        "    print(cnt-1)"
      ],
      "metadata": {
        "colab": {
          "base_uri": "https://localhost:8080/"
        },
        "id": "1NFCV6srefkh",
        "outputId": "853d95a7-2731-4771-ba4e-8e8492a96f33"
      },
      "execution_count": 2,
      "outputs": [
        {
          "name": "stdout",
          "output_type": "stream",
          "text": [
            "1 4 3 2 9 7 18 22 0\n",
            "3\n",
            "1 4 3 2 9 7 18 22 0\n",
            "3\n",
            "2 4 8 10 0\n",
            "2\n",
            "7 5 11 13 1 3 0\n",
            "0\n",
            "-1\n"
          ]
        }
      ]
    },
    {
      "cell_type": "markdown",
      "source": [
        "### 15312"
      ],
      "metadata": {
        "id": "tBwv0NLregEY"
      }
    },
    {
      "cell_type": "code",
      "execution_count": 16,
      "metadata": {
        "colab": {
          "base_uri": "https://localhost:8080/"
        },
        "id": "ggJrPNfYeWEI",
        "outputId": "c271eaa2-962e-42fb-cb64-b727b0957719"
      },
      "outputs": [
        {
          "output_type": "stream",
          "name": "stdout",
          "text": [
            "CJM\n",
            "HER\n",
            "99\n"
          ]
        }
      ],
      "source": [
        "import sys\n",
        "\n",
        "hint = [3, 2, 1, 2, 3, 3, 2, 3, 3, 2, 2, 1, 2, 2, 1, 2, 2, 2, 1, 2, 1, 1, 1, 2, 2, 1]\n",
        "\n",
        "A = sys.stdin.readline().strip()\n",
        "B = sys.stdin.readline().strip()\n",
        "arr = []\n",
        "\n",
        "for i in range(len(A)):\n",
        "    arr.append(hint[ord(A[i]) - 65])\n",
        "    arr.append(hint[ord(B[i]) - 65])\n",
        "\n",
        "temp = []\n",
        "\n",
        "while len(arr) != 2:\n",
        "    for idx in range(1, len(arr)):\n",
        "        temp.append((arr[idx] + arr[idx - 1]) % 10)\n",
        "\n",
        "    arr = temp\n",
        "    temp = []\n",
        "\n",
        "print(*arr, sep ='')\n"
      ]
    },
    {
      "cell_type": "markdown",
      "source": [
        "---"
      ],
      "metadata": {
        "id": "MNNMvpESegcB"
      }
    },
    {
      "cell_type": "markdown",
      "source": [
        "## LeetCode"
      ],
      "metadata": {
        "id": "JRaHagNqehHG"
      }
    },
    {
      "cell_type": "markdown",
      "source": [
        "### 1281. Subtract the Product and Sum of Digits of an Integer\n"
      ],
      "metadata": {
        "id": "__i19wlHvZGo"
      }
    },
    {
      "cell_type": "code",
      "source": [
        "class Solution:\n",
        "    def subtractProductAndSum(self, n: int) -> int:\n",
        "        raw = list(map(int, str(n)))\n",
        "        digits = 1\n",
        "        for num in raw:\n",
        "            digits *= num\n",
        "        return digits - sum(raw)"
      ],
      "metadata": {
        "id": "JnMN837UehV2"
      },
      "execution_count": 16,
      "outputs": []
    }
  ]
}