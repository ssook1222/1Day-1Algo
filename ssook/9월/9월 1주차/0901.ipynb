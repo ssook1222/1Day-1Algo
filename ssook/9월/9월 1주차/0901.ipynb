{
  "nbformat": 4,
  "nbformat_minor": 0,
  "metadata": {
    "colab": {
      "provenance": [],
      "authorship_tag": "ABX9TyNvrqGPPVx2vy3Ayu3OnrcL",
      "include_colab_link": true
    },
    "kernelspec": {
      "name": "python3",
      "display_name": "Python 3"
    },
    "language_info": {
      "name": "python"
    }
  },
  "cells": [
    {
      "cell_type": "markdown",
      "metadata": {
        "id": "view-in-github",
        "colab_type": "text"
      },
      "source": [
        "<a href=\"https://colab.research.google.com/github/ssook1222/1Day-1Algo/blob/master/ssook/9%EC%9B%94/9%EC%9B%94%201%EC%A3%BC%EC%B0%A8/0901.ipynb\" target=\"_parent\"><img src=\"https://colab.research.google.com/assets/colab-badge.svg\" alt=\"Open In Colab\"/></a>"
      ]
    },
    {
      "cell_type": "markdown",
      "source": [
        "## BoJ"
      ],
      "metadata": {
        "id": "t6MdQCIx7EbR"
      }
    },
    {
      "cell_type": "markdown",
      "source": [
        "### 23795"
      ],
      "metadata": {
        "id": "mq76Ih4K7GOg"
      }
    },
    {
      "cell_type": "code",
      "execution_count": 1,
      "metadata": {
        "colab": {
          "base_uri": "https://localhost:8080/"
        },
        "id": "Mqk5q9jD7DXQ",
        "outputId": "78cddc87-915a-4838-bbf3-634daa52a121"
      },
      "outputs": [
        {
          "output_type": "stream",
          "name": "stdout",
          "text": [
            "1\n",
            "2\n",
            "3\n",
            "4\n",
            "5\n",
            "6\n",
            "7\n",
            "8\n",
            "9\n",
            "10\n",
            "-1\n",
            "55\n"
          ]
        }
      ],
      "source": [
        "hap = 0\n",
        "\n",
        "while True:\n",
        "  n = int(input())\n",
        "\n",
        "  if n == -1:\n",
        "    break\n",
        "\n",
        "  hap += n\n",
        "\n",
        "print(hap)\n"
      ]
    },
    {
      "cell_type": "markdown",
      "source": [
        "### 20124"
      ],
      "metadata": {
        "id": "f3ej_5437Ghp"
      }
    },
    {
      "cell_type": "code",
      "source": [
        "import sys\n",
        "\n",
        "n = int(sys.stdin.readline().rstrip())\n",
        "person = {}\n",
        "\n",
        "for i in range(n):\n",
        "  name, score = map(str, sys.stdin.readline().rstrip().split())\n",
        "  score = int(score)\n",
        "\n",
        "  person[name] = score\n",
        "\n",
        "person = sorted(person.items(), key = lambda x:(-x[1], x[0]))\n",
        "\n",
        "for first in person:\n",
        "  print(first[0])\n",
        "  break\n"
      ],
      "metadata": {
        "colab": {
          "base_uri": "https://localhost:8080/"
        },
        "id": "bN-UGlc07Gwa",
        "outputId": "a5fcadd7-093b-47af-8962-548ff8313764"
      },
      "execution_count": 6,
      "outputs": [
        {
          "output_type": "stream",
          "name": "stdout",
          "text": [
            "3\n",
            "inseop 10\n",
            "gukryeol 10\n",
            "juno 10\n",
            "gukryeol\n"
          ]
        }
      ]
    },
    {
      "cell_type": "markdown",
      "source": [
        "---"
      ],
      "metadata": {
        "id": "kXqRMNbD7G9i"
      }
    },
    {
      "cell_type": "markdown",
      "source": [
        "## LeetCode"
      ],
      "metadata": {
        "id": "v-NfpOiI7H0X"
      }
    },
    {
      "cell_type": "markdown",
      "source": [
        "### 69. Sqrt(x)"
      ],
      "metadata": {
        "id": "WDtFOyHk7IS_"
      }
    },
    {
      "cell_type": "code",
      "source": [
        "import math\n",
        "\n",
        "class Solution:\n",
        "    def mySqrt(self, x: int) -> int:\n",
        "        return int(math.sqrt(x))"
      ],
      "metadata": {
        "id": "t56VBuZ37ICl"
      },
      "execution_count": 6,
      "outputs": []
    }
  ]
}