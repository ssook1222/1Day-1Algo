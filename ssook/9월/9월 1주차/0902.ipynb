{
  "nbformat": 4,
  "nbformat_minor": 0,
  "metadata": {
    "colab": {
      "provenance": [],
      "collapsed_sections": [
        "6JFeKi-u7PMe",
        "d6mxdRke7SLm"
      ],
      "authorship_tag": "ABX9TyMbgwW3H4vGGi6V19zTXb0g",
      "include_colab_link": true
    },
    "kernelspec": {
      "name": "python3",
      "display_name": "Python 3"
    },
    "language_info": {
      "name": "python"
    }
  },
  "cells": [
    {
      "cell_type": "markdown",
      "metadata": {
        "id": "view-in-github",
        "colab_type": "text"
      },
      "source": [
        "<a href=\"https://colab.research.google.com/github/ssook1222/1Day-1Algo/blob/master/ssook/9%EC%9B%94/9%EC%9B%94%201%EC%A3%BC%EC%B0%A8/0902.ipynb\" target=\"_parent\"><img src=\"https://colab.research.google.com/assets/colab-badge.svg\" alt=\"Open In Colab\"/></a>"
      ]
    },
    {
      "cell_type": "markdown",
      "source": [
        "## BoJ"
      ],
      "metadata": {
        "id": "Xrbgigq9ynS4"
      }
    },
    {
      "cell_type": "markdown",
      "source": [
        "### 11655"
      ],
      "metadata": {
        "id": "182EQXz9yr1C"
      }
    },
    {
      "cell_type": "code",
      "source": [
        "s = input()\n",
        "res = ''\n",
        "\n",
        "for c in s:\n",
        "    if 'A' <= c <= 'Z':\n",
        "        offset = ord('A') if c.isupper() else ord('a')\n",
        "        res += chr((ord(c) - offset + 13) % 26 + offset)\n",
        "    elif 'a' <= c <= 'z':\n",
        "        offset = ord('a')\n",
        "        res += chr((ord(c) - offset + 13) % 26 + offset)\n",
        "    else:\n",
        "        res += c\n",
        "\n",
        "print(res)"
      ],
      "metadata": {
        "colab": {
          "base_uri": "https://localhost:8080/"
        },
        "id": "jZDDKSFGzrdw",
        "outputId": "ecaadc66-e89f-4ff3-f482-883d6f71fb58"
      },
      "execution_count": null,
      "outputs": [
        {
          "output_type": "stream",
          "name": "stdout",
          "text": [
            "Baekjoon Online Judge\n",
            "Onrxwbba Bayvar Whqtr\n"
          ]
        }
      ]
    },
    {
      "cell_type": "markdown",
      "source": [
        "### 16815"
      ],
      "metadata": {
        "id": "DsByrRi_ysJQ"
      }
    },
    {
      "cell_type": "markdown",
      "source": [
        "#### 어느 쪽이든 * 왼쪽의 문자열을 기준으로 한다는 게 point"
      ],
      "metadata": {
        "id": "QbrKo0M_8KDL"
      }
    },
    {
      "cell_type": "markdown",
      "source": [
        "#### Stack 사용 없이"
      ],
      "metadata": {
        "id": "6JFeKi-u7PMe"
      }
    },
    {
      "cell_type": "code",
      "source": [
        "s = input()\n",
        "\n",
        "star = s.index('*')\n",
        "left_sub_string = s[:star]\n",
        "res = left_sub_string.count('(') - left_sub_string.count(')')\n",
        "\n",
        "print(res)"
      ],
      "metadata": {
        "colab": {
          "base_uri": "https://localhost:8080/"
        },
        "id": "LKnKds6t2-UG",
        "outputId": "bcc8ec28-f54b-4300-f8a4-0353153f9f33"
      },
      "execution_count": 19,
      "outputs": [
        {
          "output_type": "stream",
          "name": "stdout",
          "text": [
            "((*)())\n",
            "2\n"
          ]
        }
      ]
    },
    {
      "cell_type": "markdown",
      "source": [
        "#### Stack 사용해서"
      ],
      "metadata": {
        "id": "d6mxdRke7SLm"
      }
    },
    {
      "cell_type": "code",
      "source": [
        "s = input()\n",
        "stack = []\n",
        "\n",
        "# 문자열 S를 순회하면서 처리\n",
        "for i in s:\n",
        "    if i == '*':\n",
        "        break # '*' 문자를 만나면 루프 종료\n",
        "    elif i == '(':\n",
        "        stack.append(i) # '('를 스택에 추가\n",
        "    else:\n",
        "        stack.pop() # ')'를 만나면 스택에서 '('를 제거\n",
        "\n",
        "# 스택에 남아 있는 '('의 개수를 세어서 결과를 출력\n",
        "print(len(stack))"
      ],
      "metadata": {
        "colab": {
          "base_uri": "https://localhost:8080/"
        },
        "id": "slfaW_X17UPk",
        "outputId": "8db2e862-ce93-4731-dde6-36521eac6a53"
      },
      "execution_count": 18,
      "outputs": [
        {
          "output_type": "stream",
          "name": "stdout",
          "text": [
            "((*)())\n",
            "2\n"
          ]
        }
      ]
    },
    {
      "cell_type": "markdown",
      "source": [
        "---"
      ],
      "metadata": {
        "id": "LOS_IUj-ysqR"
      }
    },
    {
      "cell_type": "markdown",
      "source": [
        "## LeetCode"
      ],
      "metadata": {
        "id": "iZKTERxkypGF"
      }
    },
    {
      "cell_type": "markdown",
      "source": [
        "### 2574. Left and Right Sum Differences\n"
      ],
      "metadata": {
        "id": "sJkjpmjHyutx"
      }
    },
    {
      "cell_type": "code",
      "source": [
        "class Solution(object):\n",
        "    def leftRightDifference(self, nums):\n",
        "        \"\"\"\n",
        "        :type nums: List[int]\n",
        "        :rtype: List[int]\n",
        "        \"\"\"\n",
        "\n",
        "        leftSum = []\n",
        "        rightSum = []\n",
        "        res = []\n",
        "\n",
        "        hap_left = 0\n",
        "        for num in nums:\n",
        "            leftSum.append(hap_left)\n",
        "            hap_left += num\n",
        "\n",
        "        hap_right = 0\n",
        "        for num in nums[::-1]:\n",
        "            rightSum.append(hap_right)\n",
        "            hap_right += num\n",
        "\n",
        "        rightSum = rightSum[::-1]\n",
        "\n",
        "        for i in range(len(leftSum)):\n",
        "            res.append(abs(leftSum[i]-rightSum[i]))\n",
        "\n",
        "        return res"
      ],
      "metadata": {
        "id": "14YfHMZeyrY6"
      },
      "execution_count": null,
      "outputs": []
    }
  ]
}