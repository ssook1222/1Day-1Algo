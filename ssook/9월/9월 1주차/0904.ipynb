{
  "nbformat": 4,
  "nbformat_minor": 0,
  "metadata": {
    "colab": {
      "provenance": [],
      "authorship_tag": "ABX9TyN970zOrsuBtJYxU05wC4Cy",
      "include_colab_link": true
    },
    "kernelspec": {
      "name": "python3",
      "display_name": "Python 3"
    },
    "language_info": {
      "name": "python"
    }
  },
  "cells": [
    {
      "cell_type": "markdown",
      "metadata": {
        "id": "view-in-github",
        "colab_type": "text"
      },
      "source": [
        "<a href=\"https://colab.research.google.com/github/ssook1222/1Day-1Algo/blob/master/ssook/9%EC%9B%94/9%EC%9B%94%201%EC%A3%BC%EC%B0%A8/0904.ipynb\" target=\"_parent\"><img src=\"https://colab.research.google.com/assets/colab-badge.svg\" alt=\"Open In Colab\"/></a>"
      ]
    },
    {
      "cell_type": "markdown",
      "source": [
        "## BoJ"
      ],
      "metadata": {
        "id": "k1oglmHAX8OV"
      }
    },
    {
      "cell_type": "markdown",
      "source": [
        "### 26209"
      ],
      "metadata": {
        "id": "IJCx05ejX-Y_"
      }
    },
    {
      "cell_type": "code",
      "execution_count": null,
      "metadata": {
        "colab": {
          "base_uri": "https://localhost:8080/"
        },
        "id": "qrOnA7PoXFTk",
        "outputId": "fe18f35c-d238-42d9-f7d7-5ae2c0dff0c4"
      },
      "outputs": [
        {
          "output_type": "stream",
          "name": "stdout",
          "text": [
            "0 0 1 9 0 1 0 1\n",
            "F\n"
          ]
        }
      ],
      "source": [
        "bits  = map(int, input().split())\n",
        "check = True\n",
        "\n",
        "for bit in bits:\n",
        "  if 0 <= bit <= 8  :\n",
        "    check = True\n",
        "  elif bit == 9:\n",
        "    check = False\n",
        "    break\n",
        "\n",
        "if check:\n",
        "  print('S')\n",
        "else:\n",
        "  print('F')\n"
      ]
    },
    {
      "cell_type": "markdown",
      "source": [
        "### 26563"
      ],
      "metadata": {
        "id": "FVEUpS4bX-ni"
      }
    },
    {
      "cell_type": "code",
      "source": [
        "t = int(input())\n",
        "\n",
        "for i in range(t):\n",
        "  friend = int(input())\n",
        "  cnt = 0\n",
        "\n",
        "  my = list(input())\n",
        "  friends = list(input())\n",
        "\n",
        "  for i in range(len(my)):\n",
        "    if my[i] == friends[i]:\n",
        "      cnt += 1\n",
        "\n",
        "  if cnt == 0:\n",
        "    print(len(friends)-friend)\n",
        "\n",
        "  elif cnt > friend:\n",
        "    diff = len(my) - cnt\n",
        "    print(friend + diff)\n",
        "\n",
        "  elif cnt == friend :\n",
        "    print(cnt)\n",
        "\n",
        "  elif cnt < friend:\n",
        "    diff2 = len(friends)-friend\n",
        "    print(cnt+diff2)"
      ],
      "metadata": {
        "colab": {
          "base_uri": "https://localhost:8080/"
        },
        "id": "Ks5jpWiAX-z9",
        "outputId": "830d8188-a131-4b71-feb7-769514be1c7c"
      },
      "execution_count": null,
      "outputs": [
        {
          "output_type": "stream",
          "name": "stdout",
          "text": [
            "1\n",
            "236\n",
            "TFFFFFTTTFTTFTTTFTTFTFFTTFTFTFFTFTTTFTTFFFFFFFTTTFTFFTTTFFTFFFFFFFTFTFTFFFTTTTTTFFTFTFTTFTFFTTTTFFTFTTTFTTFTTFTFFTFFTTTFTFTTFFTFTFTFTFTTTTFFFTFTTTFTTFTTTTFFTFFFFTTFFFTFFFTTTFFFFTFFTTTFTTTFFFFFFFFFTTTFFFFFTFTTFFFFTFFFFFTTTTTFTTTTFTTFFTFTFTTFTTTFTTTTFTFFTFTFTTFFFTTTTTFTTFTFTFTFFFFTFFTFTTFFFTTFTTTFTFFFFTFFTTFTFTTTFTTTTFTTFTFTTTTTTFFFTTTTTFFTFFFTTTFFFFTTFFFTFTTFFTFFTFTFFTFFFTFFTFTTTTTTTTTFTTTFTTTTFFFFTTTFTTFF\n",
            "TFFTFFFTTFTTFFFTFTFFTTFTTFFFFFTTFFTFTTTFTTFFFTTTFTTTFFTFTTFTTFTFFFFTTTFTTTTTFFTTTTFTFFFFTTTFFTTFTTFFTFTTFFFTFFFTTTTFTFTTTTFFFFFFTTTTFTTTFFFTTFTFFTTTFTFFFTTFFFTTTTTTTFTTFTTFFFFTTFFFFTFFFFFTFTFFTFFFFTFTFTFFTFFFTFTFTFFTFTTTFTFFTFTFTTFFFTTFTTTTTTFTTTTTTFFFTFFFFTFTFTFTTFFTFFTTFTFFTFTTFFTTFTFTFTTFFFTTFTFFFTTTFTTTFFTFFTFTFFTFFFFTFFFTTTFFTTFFFTTFTTTFTFFTFTTFFTTTTTTFTTFTTTFFTFTTFTTTTTFFTTTFTTTFTFTFTFFFFFFTFTFFFFFT\n",
            "377\n"
          ]
        }
      ]
    },
    {
      "cell_type": "markdown",
      "source": [
        "---"
      ],
      "metadata": {
        "id": "RGMvaHqIX-_B"
      }
    },
    {
      "cell_type": "markdown",
      "source": [
        "## LeetCode"
      ],
      "metadata": {
        "id": "iWDWh2YXX_oW"
      }
    },
    {
      "cell_type": "markdown",
      "source": [
        "### 66. Plus One\n"
      ],
      "metadata": {
        "id": "ZBVrsK_EYA2x"
      }
    },
    {
      "cell_type": "code",
      "source": [
        "class Solution:\n",
        "    def plusOne(self, digits: List[int]) -> List[int]:\n",
        "        raw = ''\n",
        "        for c in digits:\n",
        "            raw += str(c)\n",
        "\n",
        "        raw2 = int(raw)+1\n",
        "\n",
        "        res = list(map(int, str(raw2)))\n",
        "\n",
        "        return res"
      ],
      "metadata": {
        "id": "8o94atU9YBTO"
      },
      "execution_count": null,
      "outputs": []
    }
  ]
}