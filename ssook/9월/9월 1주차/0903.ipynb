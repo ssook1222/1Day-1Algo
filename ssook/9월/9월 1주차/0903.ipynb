{
  "nbformat": 4,
  "nbformat_minor": 0,
  "metadata": {
    "colab": {
      "provenance": [],
      "authorship_tag": "ABX9TyNPimwx2YaW6kMBgnI1B225",
      "include_colab_link": true
    },
    "kernelspec": {
      "name": "python3",
      "display_name": "Python 3"
    },
    "language_info": {
      "name": "python"
    }
  },
  "cells": [
    {
      "cell_type": "markdown",
      "metadata": {
        "id": "view-in-github",
        "colab_type": "text"
      },
      "source": [
        "<a href=\"https://colab.research.google.com/github/ssook1222/1Day-1Algo/blob/master/ssook/9%EC%9B%94/9%EC%9B%94%201%EC%A3%BC%EC%B0%A8/0903.ipynb\" target=\"_parent\"><img src=\"https://colab.research.google.com/assets/colab-badge.svg\" alt=\"Open In Colab\"/></a>"
      ]
    },
    {
      "cell_type": "markdown",
      "source": [
        "## BoJ"
      ],
      "metadata": {
        "id": "76fIFHhQ41E7"
      }
    },
    {
      "cell_type": "markdown",
      "source": [
        "### 25850"
      ],
      "metadata": {
        "id": "mHIdUkze43sL"
      }
    },
    {
      "cell_type": "code",
      "execution_count": 6,
      "metadata": {
        "colab": {
          "base_uri": "https://localhost:8080/"
        },
        "id": "lMNoIfnP4xWY",
        "outputId": "facc0852-267f-4dfa-a418-8077c9bf9938"
      },
      "outputs": [
        {
          "output_type": "stream",
          "name": "stdout",
          "text": [
            "3\n",
            "4 40 51 60 70\n",
            "3 12 32 42\n",
            "5 20 53 80 90 95\n",
            "BCBABACAACCC"
          ]
        }
      ],
      "source": [
        "t = int(input())\n",
        "score = []\n",
        "\n",
        "for i in range(1, t+1):\n",
        "  card = list(map(int, input().split(\" \")))\n",
        "  card = card[1:]\n",
        "\n",
        "  if i == 1:\n",
        "    for num in card:\n",
        "      score.append(['A', num])\n",
        "\n",
        "  if i == 2:\n",
        "    for num in card:\n",
        "      score.append(['B', num])\n",
        "\n",
        "  if i == 3:\n",
        "    for num in card:\n",
        "      score.append(('C', num))\n",
        "\n",
        "  if i == 4:\n",
        "    for num in card:\n",
        "      score.append(['D', num])\n",
        "\n",
        "  if i == 5:\n",
        "    for num in card:\n",
        "      score.append(['E', num])\n",
        "\n",
        "  if i == 6:\n",
        "    for num in card:\n",
        "      score.append(['F', num])\n",
        "\n",
        "score.sort(key = lambda x:x[1])\n",
        "\n",
        "for res in score:\n",
        "  print(*res[0], end='')\n"
      ]
    },
    {
      "cell_type": "markdown",
      "source": [
        "### 27331"
      ],
      "metadata": {
        "id": "HM2OAbIm435-"
      }
    },
    {
      "cell_type": "code",
      "source": [
        "a = int(input())\n",
        "b = int(input())\n",
        "\n",
        "print(a*10+b)"
      ],
      "metadata": {
        "colab": {
          "base_uri": "https://localhost:8080/"
        },
        "id": "9tlsCfUx44tn",
        "outputId": "1e3ebb82-6ec5-4276-d2a4-ef7d7fc720be"
      },
      "execution_count": 7,
      "outputs": [
        {
          "output_type": "stream",
          "name": "stdout",
          "text": [
            "1\n",
            "0\n",
            "10\n"
          ]
        }
      ]
    },
    {
      "cell_type": "markdown",
      "source": [
        "---"
      ],
      "metadata": {
        "id": "jiOB5WBR45V7"
      }
    },
    {
      "cell_type": "markdown",
      "source": [
        "## LeetCode"
      ],
      "metadata": {
        "id": "fVY5KYKI_y5S"
      }
    },
    {
      "cell_type": "markdown",
      "source": [
        "### 67. Add Binary\n"
      ],
      "metadata": {
        "id": "wB3H8jqg46qb"
      }
    },
    {
      "cell_type": "code",
      "source": [
        "class Solution(object):\n",
        "    def addBinary(self, a, b):\n",
        "        \"\"\"\n",
        "        :type a: str\n",
        "        :type b: str\n",
        "        :rtype: str\n",
        "        \"\"\"\n",
        "\n",
        "        return bin(int(a,2) + int(b,2))[2:]\n",
        ""
      ],
      "metadata": {
        "id": "tOLf8VfK464j"
      },
      "execution_count": null,
      "outputs": []
    }
  ]
}