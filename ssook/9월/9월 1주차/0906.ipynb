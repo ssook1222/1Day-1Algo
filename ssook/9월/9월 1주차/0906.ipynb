{
  "nbformat": 4,
  "nbformat_minor": 0,
  "metadata": {
    "colab": {
      "provenance": [],
      "authorship_tag": "ABX9TyMKVBGPjF+bsNNhILzIvOm6",
      "include_colab_link": true
    },
    "kernelspec": {
      "name": "python3",
      "display_name": "Python 3"
    },
    "language_info": {
      "name": "python"
    }
  },
  "cells": [
    {
      "cell_type": "markdown",
      "metadata": {
        "id": "view-in-github",
        "colab_type": "text"
      },
      "source": [
        "<a href=\"https://colab.research.google.com/github/ssook1222/1Day-1Algo/blob/master/ssook/9%EC%9B%94/9%EC%9B%94%201%EC%A3%BC%EC%B0%A8/0906.ipynb\" target=\"_parent\"><img src=\"https://colab.research.google.com/assets/colab-badge.svg\" alt=\"Open In Colab\"/></a>"
      ]
    },
    {
      "cell_type": "markdown",
      "source": [
        "## BoJ"
      ],
      "metadata": {
        "id": "1soI_RkZqjdk"
      }
    },
    {
      "cell_type": "markdown",
      "source": [
        "### 11954"
      ],
      "metadata": {
        "id": "afngaP7TqlWf"
      }
    },
    {
      "cell_type": "code",
      "execution_count": null,
      "metadata": {
        "colab": {
          "base_uri": "https://localhost:8080/"
        },
        "id": "cu3jOY7vqcL5",
        "outputId": "98a98fa4-b3d7-4244-c4ec-3ca8fa68e08d"
      },
      "outputs": [
        {
          "output_type": "stream",
          "name": "stdout",
          "text": [
            "1\n",
            "1 2 3 2 1\n",
            "2\n"
          ]
        }
      ],
      "source": [
        "t = int(input())\n",
        "\n",
        "answers  = list(map(int, input().split()))\n",
        "res = 0\n",
        "\n",
        "for ans in answers:\n",
        "  if ans == t:\n",
        "    res += 1\n",
        "\n",
        "print(res)"
      ]
    },
    {
      "cell_type": "markdown",
      "source": [
        "### 1402"
      ],
      "metadata": {
        "id": "DlWmf3bbqltT"
      }
    },
    {
      "cell_type": "code",
      "source": [
        "t = int(input())\n",
        "\n",
        "for _ in range(t):\n",
        "  print('yes')"
      ],
      "metadata": {
        "id": "NspzKSHVql7i"
      },
      "execution_count": null,
      "outputs": []
    },
    {
      "cell_type": "markdown",
      "source": [
        "A = a1 * a2 * ... * $a_n$ 일 때, A' = a1 + a2+ ... + $a_n$이면\n",
        "A는 A'가 될 수 있음.\n",
        "\n",
        "만약 A를 A*1 로 표현했을 때 A' = A+1이 됨.   \n",
        "이를 반복하면 A보다 큰 모든 수는 다 가능함.    \n",
        "음수 역시 A는 A보다 작은 모든 수도 다 가능함.   "
      ],
      "metadata": {
        "id": "btE5Pu-8snHP"
      }
    },
    {
      "cell_type": "markdown",
      "source": [
        "### 3982"
      ],
      "metadata": {
        "id": "EwEahXKD9LuX"
      }
    },
    {
      "cell_type": "code",
      "source": [
        "t = int(input())\n",
        "\n",
        "for _ in range(t):\n",
        "    results = {}\n",
        "\n",
        "    for _ in range(16):\n",
        "        team1, team2, score1, score2 = input().split()\n",
        "        score1 = int(score1)\n",
        "        score2 = int(score2)\n",
        "\n",
        "        if score1 > score2:\n",
        "            results[team1] = results.get(team1, 0) + 1\n",
        "        else:\n",
        "            results[team2] = results.get(team2, 0) + 1\n",
        "\n",
        "    winner = max(results, key=results.get)\n",
        "    print(winner)"
      ],
      "metadata": {
        "id": "e8j06wFKAKLL"
      },
      "execution_count": null,
      "outputs": []
    },
    {
      "cell_type": "markdown",
      "source": [
        "### 딕셔너리 문제\n",
        "\n",
        "`if score1 > score2`:\n",
        "만약 첫 번째 팀(team1)의 스코어가 두 번째 팀(team2)보다 크다면\n",
        "\n",
        "`results[team1] = results.get(team1, 0) + 1`:\n",
        "딕셔너리 results에서 team1 키에 대한 값을 가져와 1을 더합니다.\n",
        "만약 키가 존재하지 않으면 0을 기본값으로 사용합니다.\n",
        "\n",
        "`else`: 그렇지 않으면 (즉, 두 번째 팀이 이겼을 경우)\n",
        "\n",
        "`results[team2] = results.get(team2, 0) + 1`:\n",
        "딕셔너리 results에서 team2 키에 대한 값을 가져와 1을 더합니다.\n",
        "만약 키가 존재하지 않으면 0을 기본값으로 사용합니다.\n"
      ],
      "metadata": {
        "id": "96LqLPcJBstQ"
      }
    },
    {
      "cell_type": "markdown",
      "source": [
        "---"
      ],
      "metadata": {
        "id": "Waj6M4Q9qmQ2"
      }
    },
    {
      "cell_type": "markdown",
      "source": [
        "## LeetCode"
      ],
      "metadata": {
        "id": "tJd2bp33qnZC"
      }
    },
    {
      "cell_type": "markdown",
      "source": [
        "### 26. Remove Duplicates from Sorted Array"
      ],
      "metadata": {
        "id": "PYsHJ3I3qqkw"
      }
    },
    {
      "cell_type": "code",
      "source": [
        "class Solution:\n",
        "    def removeDuplicates(self, nums: List[int]) -> int:\n",
        "        for num in nums :\n",
        "            while nums.count(num) > 1 :\n",
        "                nums.remove(num)\n",
        "        return len(nums)"
      ],
      "metadata": {
        "id": "1mTaQp-Xqnlw"
      },
      "execution_count": null,
      "outputs": []
    }
  ]
}