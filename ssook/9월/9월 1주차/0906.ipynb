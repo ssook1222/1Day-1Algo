{
  "nbformat": 4,
  "nbformat_minor": 0,
  "metadata": {
    "colab": {
      "provenance": [],
      "authorship_tag": "ABX9TyMOp3m7kK8ncFTFBzduYJ/0",
      "include_colab_link": true
    },
    "kernelspec": {
      "name": "python3",
      "display_name": "Python 3"
    },
    "language_info": {
      "name": "python"
    }
  },
  "cells": [
    {
      "cell_type": "markdown",
      "metadata": {
        "id": "view-in-github",
        "colab_type": "text"
      },
      "source": [
        "<a href=\"https://colab.research.google.com/github/ssook1222/1Day-1Algo/blob/master/ssook/9%EC%9B%94/9%EC%9B%94%201%EC%A3%BC%EC%B0%A8/0906.ipynb\" target=\"_parent\"><img src=\"https://colab.research.google.com/assets/colab-badge.svg\" alt=\"Open In Colab\"/></a>"
      ]
    },
    {
      "cell_type": "markdown",
      "source": [
        "## BoJ"
      ],
      "metadata": {
        "id": "1soI_RkZqjdk"
      }
    },
    {
      "cell_type": "markdown",
      "source": [
        "### 11954"
      ],
      "metadata": {
        "id": "afngaP7TqlWf"
      }
    },
    {
      "cell_type": "code",
      "execution_count": 1,
      "metadata": {
        "colab": {
          "base_uri": "https://localhost:8080/"
        },
        "id": "cu3jOY7vqcL5",
        "outputId": "98a98fa4-b3d7-4244-c4ec-3ca8fa68e08d"
      },
      "outputs": [
        {
          "output_type": "stream",
          "name": "stdout",
          "text": [
            "1\n",
            "1 2 3 2 1\n",
            "2\n"
          ]
        }
      ],
      "source": [
        "t = int(input())\n",
        "\n",
        "answers  = list(map(int, input().split()))\n",
        "res = 0\n",
        "\n",
        "for ans in answers:\n",
        "  if ans == t:\n",
        "    res += 1\n",
        "\n",
        "print(res)"
      ]
    },
    {
      "cell_type": "markdown",
      "source": [
        "### 1402"
      ],
      "metadata": {
        "id": "DlWmf3bbqltT"
      }
    },
    {
      "cell_type": "code",
      "source": [
        "t = int(input())\n",
        "\n",
        "for _ in range(t):\n",
        "  print('yes')"
      ],
      "metadata": {
        "id": "NspzKSHVql7i"
      },
      "execution_count": null,
      "outputs": []
    },
    {
      "cell_type": "markdown",
      "source": [
        "A = a1 * a2 * ... * $a_n$ 일 때, A' = a1 + a2+ ... + $a_n$이면\n",
        "A는 A'가 될 수 있음.\n",
        "\n",
        "만약 A를 A*1 로 표현했을 때 A' = A+1이 됨.   \n",
        "이를 반복하면 A보다 큰 모든 수는 다 가능함.    \n",
        "음수 역시 A는 A보다 작은 모든 수도 다 가능함.   "
      ],
      "metadata": {
        "id": "btE5Pu-8snHP"
      }
    },
    {
      "cell_type": "markdown",
      "source": [
        "---"
      ],
      "metadata": {
        "id": "Waj6M4Q9qmQ2"
      }
    },
    {
      "cell_type": "markdown",
      "source": [
        "## LeetCode"
      ],
      "metadata": {
        "id": "tJd2bp33qnZC"
      }
    },
    {
      "cell_type": "markdown",
      "source": [
        "### 26. Remove Duplicates from Sorted Array"
      ],
      "metadata": {
        "id": "PYsHJ3I3qqkw"
      }
    },
    {
      "cell_type": "code",
      "source": [
        "class Solution:\n",
        "    def removeDuplicates(self, nums: List[int]) -> int:\n",
        "        for num in nums :\n",
        "            while nums.count(num) > 1 :\n",
        "                nums.remove(num)\n",
        "        return len(nums)"
      ],
      "metadata": {
        "id": "1mTaQp-Xqnlw"
      },
      "execution_count": null,
      "outputs": []
    }
  ]
}