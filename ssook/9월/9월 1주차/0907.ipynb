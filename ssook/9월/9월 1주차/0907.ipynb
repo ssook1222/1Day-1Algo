{
  "nbformat": 4,
  "nbformat_minor": 0,
  "metadata": {
    "colab": {
      "provenance": [],
      "authorship_tag": "ABX9TyMpsdagZnKY90kuGFaJJl35",
      "include_colab_link": true
    },
    "kernelspec": {
      "name": "python3",
      "display_name": "Python 3"
    },
    "language_info": {
      "name": "python"
    }
  },
  "cells": [
    {
      "cell_type": "markdown",
      "metadata": {
        "id": "view-in-github",
        "colab_type": "text"
      },
      "source": [
        "<a href=\"https://colab.research.google.com/github/ssook1222/1Day-1Algo/blob/master/ssook/9%EC%9B%94/9%EC%9B%94%201%EC%A3%BC%EC%B0%A8/0907.ipynb\" target=\"_parent\"><img src=\"https://colab.research.google.com/assets/colab-badge.svg\" alt=\"Open In Colab\"/></a>"
      ]
    },
    {
      "cell_type": "markdown",
      "source": [
        "## BoJ"
      ],
      "metadata": {
        "id": "XjHYkOwzzrjq"
      }
    },
    {
      "cell_type": "markdown",
      "source": [
        "### 16727"
      ],
      "metadata": {
        "id": "PGVlkbN0ztGG"
      }
    },
    {
      "cell_type": "code",
      "execution_count": 26,
      "metadata": {
        "colab": {
          "base_uri": "https://localhost:8080/"
        },
        "id": "fVyGiyX0zoDm",
        "outputId": "57fc11ed-3992-4cd5-9f83-afe1fbc5cadc"
      },
      "outputs": [
        {
          "output_type": "stream",
          "name": "stdout",
          "text": [
            "14 9\n",
            "14 9\n",
            "Penalty\n"
          ]
        }
      ],
      "source": [
        "p1, s1 = map(int, input().split())\n",
        "s2, p2 = map(int, input().split())\n",
        "\n",
        "total_p = p1 + p2\n",
        "total_s = s1 + s2\n",
        "\n",
        "if total_p > total_s:\n",
        "  print(\"Persepolis\")\n",
        "\n",
        "elif total_s > total_p:\n",
        "  print(\"Esteghlal\")\n",
        "\n",
        "else:\n",
        "  if s1 > p2:\n",
        "    print(\"Esteghlal\")\n",
        "\n",
        "  elif p2 > s1:\n",
        "    print(\"Persepolis\")\n",
        "\n",
        "  else:\n",
        "    print(\"Penalty\")\n"
      ]
    },
    {
      "cell_type": "markdown",
      "source": [
        "### 15841"
      ],
      "metadata": {
        "id": "LTIZJ3VFztT5"
      }
    },
    {
      "cell_type": "code",
      "source": [
        "def fib(n):\n",
        "  if n <= 2:\n",
        "    if n == 0 or n == 1:\n",
        "      return 1\n",
        "    elif n == 2:\n",
        "      return 1\n",
        "\n",
        "  if n > 2:\n",
        "    fibo = [0] * (n+1)\n",
        "\n",
        "    fibo[0] = 1\n",
        "    fibo[1] = 1\n",
        "    fibo[2] = 2\n",
        "\n",
        "    for i in range(3, n+1):\n",
        "      fibo[i] = fibo[i-1] + fibo[i-2]\n",
        "\n",
        "    return fibo[n-1]\n",
        "\n",
        "while True:\n",
        "  num = int(input())\n",
        "\n",
        "  if num == -1:\n",
        "    break\n",
        "\n",
        "  else:\n",
        "    n = fib(num)\n",
        "    print(\"Hour %d: %d cow(s) affected\" %(num, n))"
      ],
      "metadata": {
        "colab": {
          "base_uri": "https://localhost:8080/"
        },
        "id": "k3MkfRKtztb9",
        "outputId": "3655c383-445e-4bb2-ed1e-cffb1814163a"
      },
      "execution_count": 38,
      "outputs": [
        {
          "name": "stdout",
          "output_type": "stream",
          "text": [
            "1\n",
            "Hour 1: 1 cow(s) affected\n",
            "2\n",
            "Hour 2: 1 cow(s) affected\n",
            "3\n",
            "Hour 3: 2 cow(s) affected\n",
            "4\n",
            "Hour 4: 3 cow(s) affected\n",
            "-1\n"
          ]
        }
      ]
    },
    {
      "cell_type": "markdown",
      "source": [
        "---"
      ],
      "metadata": {
        "id": "wrJe8SyCzt1z"
      }
    },
    {
      "cell_type": "markdown",
      "source": [
        "## LeetCode"
      ],
      "metadata": {
        "id": "65QIcu7azuY7"
      }
    },
    {
      "cell_type": "markdown",
      "source": [
        "### 125. Valid Palindrome\n"
      ],
      "metadata": {
        "id": "8spVj66czxFe"
      }
    },
    {
      "cell_type": "code",
      "source": [
        "class Solution:\n",
        "    def isPalindrome(self, s: str) -> bool:\n",
        "        s = ''.join(list(filter(str.isalnum, s.lower())))\n",
        "        if s == s[::-1]:\n",
        "            return True\n",
        "        else:\n",
        "            print(s)\n",
        "            print(s[::-1])\n",
        "            return False"
      ],
      "metadata": {
        "id": "o-kof-DWzume"
      },
      "execution_count": 38,
      "outputs": []
    }
  ]
}