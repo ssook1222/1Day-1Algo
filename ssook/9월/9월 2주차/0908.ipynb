{
  "nbformat": 4,
  "nbformat_minor": 0,
  "metadata": {
    "colab": {
      "provenance": [],
      "authorship_tag": "ABX9TyOcf6wTFul2UPDZVeV7l/GW",
      "include_colab_link": true
    },
    "kernelspec": {
      "name": "python3",
      "display_name": "Python 3"
    },
    "language_info": {
      "name": "python"
    }
  },
  "cells": [
    {
      "cell_type": "markdown",
      "metadata": {
        "id": "view-in-github",
        "colab_type": "text"
      },
      "source": [
        "<a href=\"https://colab.research.google.com/github/ssook1222/1Day-1Algo/blob/master/ssook/9%EC%9B%94/9%EC%9B%94%202%EC%A3%BC%EC%B0%A8/0908.ipynb\" target=\"_parent\"><img src=\"https://colab.research.google.com/assets/colab-badge.svg\" alt=\"Open In Colab\"/></a>"
      ]
    },
    {
      "cell_type": "markdown",
      "source": [
        "## BoJ"
      ],
      "metadata": {
        "id": "AG8u-ktE8LEm"
      }
    },
    {
      "cell_type": "markdown",
      "source": [
        "### 25193"
      ],
      "metadata": {
        "id": "sFcm8Yg98Mni"
      }
    },
    {
      "cell_type": "code",
      "execution_count": 11,
      "metadata": {
        "colab": {
          "base_uri": "https://localhost:8080/"
        },
        "id": "8K_M8Xov8Iuf",
        "outputId": "716dc2fb-1ccd-4133-9c07-416fbfa984c1"
      },
      "outputs": [
        {
          "output_type": "stream",
          "name": "stdout",
          "text": [
            "5\n",
            "ACCCC\n",
            "2\n"
          ]
        }
      ],
      "source": [
        "import math\n",
        "import sys\n",
        "\n",
        "days = int(sys.stdin.readline().strip())\n",
        "my_husband_meal = sys.stdin.readline().strip()\n",
        "cnt_c = my_husband_meal.count('C')\n",
        "cnt_others = days-cnt_c\n",
        "\n",
        "print( int(math.ceil(cnt_c / (cnt_others + 1) )) )"
      ]
    },
    {
      "cell_type": "markdown",
      "source": [
        "### 9728"
      ],
      "metadata": {
        "id": "SPU1nYvh8M2c"
      }
    },
    {
      "cell_type": "code",
      "source": [
        "import sys\n",
        "\n",
        "t = int(sys.stdin.readline().rstrip())\n",
        "\n",
        "for i in range(t):\n",
        "  n, m = map(int, sys.stdin.readline().rstrip().split())\n",
        "\n",
        "  nums = list(map(int, sys.stdin.readline().rstrip().split()))\n",
        "  start = 0\n",
        "  end = len(nums)-1\n",
        "  cnt = 0\n",
        "\n",
        "  while start < end:\n",
        "    if nums[start] + nums[end] == m:\n",
        "      cnt += 1\n",
        "      start += 1\n",
        "    if nums[start] + nums[end] > m:\n",
        "      end -= 1\n",
        "    if nums[start] + nums[end] < m:\n",
        "      start += 1\n",
        "\n",
        "  print(\"Case #%d: %d\" %(i+1, cnt))"
      ],
      "metadata": {
        "colab": {
          "base_uri": "https://localhost:8080/"
        },
        "id": "ICigKpJ98NHI",
        "outputId": "3b56d5d4-78e1-473c-ffe8-680e6b741dcd"
      },
      "execution_count": 14,
      "outputs": [
        {
          "output_type": "stream",
          "name": "stdout",
          "text": [
            "5\n",
            "8 100\n",
            "19 25 32 48 52 68 75 81\n",
            "Case #1: 4\n",
            "8 100\n",
            "19 28 31 49 51 61 72 81\n",
            "Case #2: 3\n",
            "8 100\n",
            "16 22 38 46 58 62 73 81\n",
            "Case #3: 1\n",
            "8 100\n",
            "13 21 32 48 52 67 78 87\n",
            "Case #4: 2\n",
            "8 100\n",
            "13 24 34 43 57 61 76 81\n",
            "Case #5: 2\n"
          ]
        }
      ]
    },
    {
      "cell_type": "markdown",
      "source": [
        "---"
      ],
      "metadata": {
        "id": "M6Sj0REV8NbO"
      }
    },
    {
      "cell_type": "markdown",
      "source": [
        "## LeetCode"
      ],
      "metadata": {
        "id": "AFuwnFd88OaY"
      }
    },
    {
      "cell_type": "markdown",
      "source": [
        "### 2011. Final Value of Variable After Performing Operations"
      ],
      "metadata": {
        "id": "zXiqmJe-8OP-"
      }
    },
    {
      "cell_type": "code",
      "source": [
        "class Solution:\n",
        "    def finalValueAfterOperations(self, operations: List[str]) -> int:\n",
        "        x = 0\n",
        "        for opr in operations:\n",
        "            if opr == '--X':\n",
        "                x -= 1\n",
        "\n",
        "            if opr == 'X++':\n",
        "                x += 1\n",
        "\n",
        "            if opr == '++X':\n",
        "                x += 1\n",
        "\n",
        "            if opr == 'X--':\n",
        "                x -= 1\n",
        "\n",
        "        return x"
      ],
      "metadata": {
        "id": "nVl-ZhMr8PRN"
      },
      "execution_count": null,
      "outputs": []
    }
  ]
}