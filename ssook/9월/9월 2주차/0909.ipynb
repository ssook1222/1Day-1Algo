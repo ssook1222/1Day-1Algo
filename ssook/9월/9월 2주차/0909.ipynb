{
  "nbformat": 4,
  "nbformat_minor": 0,
  "metadata": {
    "colab": {
      "provenance": [],
      "authorship_tag": "ABX9TyNs+QEc6vauO/M8izd8v9XK",
      "include_colab_link": true
    },
    "kernelspec": {
      "name": "python3",
      "display_name": "Python 3"
    },
    "language_info": {
      "name": "python"
    }
  },
  "cells": [
    {
      "cell_type": "markdown",
      "metadata": {
        "id": "view-in-github",
        "colab_type": "text"
      },
      "source": [
        "<a href=\"https://colab.research.google.com/github/ssook1222/1Day-1Algo/blob/master/ssook/9%EC%9B%94/9%EC%9B%94%202%EC%A3%BC%EC%B0%A8/0909.ipynb\" target=\"_parent\"><img src=\"https://colab.research.google.com/assets/colab-badge.svg\" alt=\"Open In Colab\"/></a>"
      ]
    },
    {
      "cell_type": "markdown",
      "source": [
        "## BoJ"
      ],
      "metadata": {
        "id": "8nZ5t52L2VbL"
      }
    },
    {
      "cell_type": "markdown",
      "source": [
        "### 25325"
      ],
      "metadata": {
        "id": "VqCvoAnT2SWj"
      }
    },
    {
      "cell_type": "code",
      "execution_count": 10,
      "metadata": {
        "colab": {
          "base_uri": "https://localhost:8080/"
        },
        "id": "JWAJjQym2BLD",
        "outputId": "5c97d972-7c12-4993-c57f-6424a5eca2d4"
      },
      "outputs": [
        {
          "output_type": "stream",
          "name": "stdout",
          "text": [
            "4\n",
            "aaa bbb ccc ddd\n",
            "bbb ddd\n",
            "aaa ddd\n",
            "aaa\n",
            "aaa bbb\n",
            "aaa 3\n",
            "bbb 2\n",
            "ddd 2\n",
            "ccc 0\n"
          ]
        }
      ],
      "source": [
        "n = int(input())\n",
        "\n",
        "name = list(map(str, input().split()))\n",
        "love = {}\n",
        "\n",
        "for raw in name:\n",
        "  love[raw] = 0\n",
        "\n",
        "for i in range(n):\n",
        "  names = input().split()\n",
        "\n",
        "  if len(names) > 1:\n",
        "    for name in names:\n",
        "      if name in love:\n",
        "        love[name] += 1\n",
        "      elif love[name] == 0:\n",
        "        love[name] = 1\n",
        "\n",
        "  elif len(names) == 1:\n",
        "    if names[0] in love:\n",
        "        love[names[0]] += 1\n",
        "    elif love[names[0]] == 0 :\n",
        "        love[names[0]] = 1\n",
        "\n",
        "love = sorted(love.items(), key = lambda x:(-x[1], x[0]))\n",
        "\n",
        "for res in love:\n",
        "  print(*res)\n"
      ]
    },
    {
      "cell_type": "markdown",
      "source": [
        "### 11257"
      ],
      "metadata": {
        "id": "KP9ZNjod2Szp"
      }
    },
    {
      "cell_type": "code",
      "source": [
        "n = int(input())\n",
        "\n",
        "for i in range(n):\n",
        "  info = input().split()\n",
        "\n",
        "  num = int(info[0])\n",
        "  st = int(info[1])\n",
        "  mg = int(info[2])\n",
        "  tch = int(info[3])\n",
        "\n",
        "  if st + mg + tch >= 55 and st >= 10.5 and mg >= 7.5 and tch >= 12:\n",
        "    print(\"%d %d PASS\" %(num, st + mg + tch))\n",
        "  else:\n",
        "    print(\"%d %d FAIL\" %(num, st + mg + tch))"
      ],
      "metadata": {
        "colab": {
          "base_uri": "https://localhost:8080/"
        },
        "id": "HUI9c0IH-nap",
        "outputId": "655c76f7-1ee7-4dc8-9455-bb685f4d9d6e"
      },
      "execution_count": 15,
      "outputs": [
        {
          "output_type": "stream",
          "name": "stdout",
          "text": [
            "1\n",
            "12345601 22 33 12\n",
            "67 PASS\n"
          ]
        }
      ]
    },
    {
      "cell_type": "markdown",
      "source": [
        "---"
      ],
      "metadata": {
        "id": "WXVVmBSu2ToQ"
      }
    },
    {
      "cell_type": "markdown",
      "source": [
        "## LeetCode"
      ],
      "metadata": {
        "id": "eUt6BbGf2UqI"
      }
    },
    {
      "cell_type": "markdown",
      "source": [
        "### 1470. Shuffle the Array"
      ],
      "metadata": {
        "id": "64YDsCOYBThA"
      }
    },
    {
      "cell_type": "code",
      "source": [
        "class Solution(object):\n",
        "    def shuffle(self, nums, n):\n",
        "        \"\"\"\n",
        "        :type nums: List[int]\n",
        "        :type n: int\n",
        "        :rtype: List[int]\n",
        "        \"\"\"\n",
        "        nums_x = nums[:n]\n",
        "        nums_y = nums[n:]\n",
        "\n",
        "        nums_raw = []\n",
        "        for i in range(n):\n",
        "            nums_raw.append(nums_x[i])\n",
        "            nums_raw.append(nums_y[i])\n",
        "\n",
        "        nums = nums_raw\n",
        "        return nums"
      ],
      "metadata": {
        "id": "J-5OWFJ12U5z"
      },
      "execution_count": null,
      "outputs": []
    }
  ]
}