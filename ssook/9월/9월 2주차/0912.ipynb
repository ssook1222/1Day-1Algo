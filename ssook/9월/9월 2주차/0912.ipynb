{
  "nbformat": 4,
  "nbformat_minor": 0,
  "metadata": {
    "colab": {
      "provenance": [],
      "authorship_tag": "ABX9TyMFi3Yb239shrPyDnEYRb+6",
      "include_colab_link": true
    },
    "kernelspec": {
      "name": "python3",
      "display_name": "Python 3"
    },
    "language_info": {
      "name": "python"
    }
  },
  "cells": [
    {
      "cell_type": "markdown",
      "metadata": {
        "id": "view-in-github",
        "colab_type": "text"
      },
      "source": [
        "<a href=\"https://colab.research.google.com/github/ssook1222/1Day-1Algo/blob/master/ssook/9%EC%9B%94/9%EC%9B%94%202%EC%A3%BC%EC%B0%A8/0912.ipynb\" target=\"_parent\"><img src=\"https://colab.research.google.com/assets/colab-badge.svg\" alt=\"Open In Colab\"/></a>"
      ]
    },
    {
      "cell_type": "markdown",
      "source": [
        "## BoJ"
      ],
      "metadata": {
        "id": "aKVXW9SnamuG"
      }
    },
    {
      "cell_type": "markdown",
      "source": [
        "### 18703"
      ],
      "metadata": {
        "id": "-XA6HrWFao-D"
      }
    },
    {
      "cell_type": "code",
      "execution_count": 8,
      "metadata": {
        "colab": {
          "base_uri": "https://localhost:8080/"
        },
        "id": "gO0MkoRiafzz",
        "outputId": "dc8ef7ee-6b23-4f89-a0e4-cb3cacc491b4"
      },
      "outputs": [
        {
          "output_type": "stream",
          "name": "stdout",
          "text": [
            "2\n",
            "2\n",
            "aaa 6\n",
            "aa 5\n",
            "5 6\n",
            "3\n",
            "file 3\n",
            "file 2\n",
            "file 1\n",
            "1\n"
          ]
        }
      ],
      "source": [
        "t = int(input())\n",
        "\n",
        "for i in range(t):\n",
        "  file_n = int(input())\n",
        "  f_dict = {}\n",
        "\n",
        "  for i in range(file_n):\n",
        "\n",
        "    fname, fid = map(str, input().split())\n",
        "    fid = int(fid)\n",
        "\n",
        "    if fname in f_dict:\n",
        "      if f_dict[fname] > fid:\n",
        "        f_dict[fname] = fid\n",
        "    else:\n",
        "      f_dict[fname] = fid\n",
        "\n",
        "  values = sorted(f_dict.values())\n",
        "  print(*values)\n"
      ]
    },
    {
      "cell_type": "markdown",
      "source": [
        "### 8545 & 22193"
      ],
      "metadata": {
        "id": "B-xbm_UPaqSI"
      }
    },
    {
      "cell_type": "code",
      "source": [
        "# 8545\n",
        "print(input()[::-1])\n",
        "\n",
        "# 22193\n",
        "n, m = map(int, input().split())\n",
        "a = int(input())\n",
        "b = int(input())\n",
        "\n",
        "print(a*b)"
      ],
      "metadata": {
        "colab": {
          "base_uri": "https://localhost:8080/"
        },
        "id": "WOGdF5NearHt",
        "outputId": "fe3e2a45-556d-461e-9980-208e15423b26"
      },
      "execution_count": 12,
      "outputs": [
        {
          "output_type": "stream",
          "name": "stdout",
          "text": [
            "ABC\n",
            "CBA\n",
            "3 4\n",
            "123\n",
            "4567\n",
            "561741\n"
          ]
        }
      ]
    },
    {
      "cell_type": "markdown",
      "source": [
        "---"
      ],
      "metadata": {
        "id": "8vp2sLwGarco"
      }
    },
    {
      "cell_type": "markdown",
      "source": [
        "## LeetCode"
      ],
      "metadata": {
        "id": "c8kdNDD6asJ4"
      }
    },
    {
      "cell_type": "markdown",
      "source": [
        "### 2824. Count Pairs Whose Sum is Less than Target"
      ],
      "metadata": {
        "id": "XWZPqY2Aau4U"
      }
    },
    {
      "cell_type": "code",
      "source": [
        "class Solution:\n",
        "    def countPairs(self, nums: List[int], target: int) -> int:\n",
        "        cnt = 0\n",
        "        for i in range(len(nums)):\n",
        "            for j in range(i+1, len(nums)):\n",
        "                if nums[i] + nums[j] < target:\n",
        "                    cnt += 1\n",
        "\n",
        "        return cnt"
      ],
      "metadata": {
        "id": "z5somdIvavqf"
      },
      "execution_count": 12,
      "outputs": []
    }
  ]
}