{
  "nbformat": 4,
  "nbformat_minor": 0,
  "metadata": {
    "colab": {
      "provenance": [],
      "authorship_tag": "ABX9TyMVelotcQHnNpHAqmX7ggjM",
      "include_colab_link": true
    },
    "kernelspec": {
      "name": "python3",
      "display_name": "Python 3"
    },
    "language_info": {
      "name": "python"
    }
  },
  "cells": [
    {
      "cell_type": "markdown",
      "metadata": {
        "id": "view-in-github",
        "colab_type": "text"
      },
      "source": [
        "<a href=\"https://colab.research.google.com/github/ssook1222/1Day-1Algo/blob/master/ssook/9%EC%9B%94/9%EC%9B%94%202%EC%A3%BC%EC%B0%A8/0912.ipynb\" target=\"_parent\"><img src=\"https://colab.research.google.com/assets/colab-badge.svg\" alt=\"Open In Colab\"/></a>"
      ]
    },
    {
      "cell_type": "markdown",
      "source": [
        "## BoJ"
      ],
      "metadata": {
        "id": "djqywgrpBaTs"
      }
    },
    {
      "cell_type": "markdown",
      "source": [
        "### 28544"
      ],
      "metadata": {
        "id": "H3-RQTkkBb-6"
      }
    },
    {
      "cell_type": "code",
      "source": [
        "import itertools\n",
        "import sys\n",
        "\n",
        "f_body, f_tail = sys.stdin.readline().rstrip().split()\n",
        "m_body, m_tail = sys.stdin.readline().rstrip().split()\n",
        "\n",
        "raws = [f_body, f_tail, m_body, m_tail]\n",
        "raws.sort()\n",
        "\n",
        "res = list(set(itertools.product(raws, repeat = 2)))\n",
        "\n",
        "res.sort( key = lambda x:(x[0], x[1]) )\n",
        "\n",
        "for i in res:\n",
        "  print(*i)"
      ],
      "metadata": {
        "colab": {
          "base_uri": "https://localhost:8080/"
        },
        "id": "T5VXfnPBxS4H",
        "outputId": "680bfe4e-dda9-44ae-9d34-4b815812396f"
      },
      "execution_count": 93,
      "outputs": [
        {
          "output_type": "stream",
          "name": "stdout",
          "text": [
            "white blue\n",
            "yellow purple\n",
            "blue blue\n",
            "blue purple\n",
            "blue white\n",
            "blue yellow\n",
            "purple blue\n",
            "purple purple\n",
            "purple white\n",
            "purple yellow\n",
            "white blue\n",
            "white purple\n",
            "white white\n",
            "white yellow\n",
            "yellow blue\n",
            "yellow purple\n",
            "yellow white\n",
            "yellow yellow\n"
          ]
        }
      ]
    },
    {
      "cell_type": "markdown",
      "source": [
        "### 5565"
      ],
      "metadata": {
        "id": "piYwU_dFBca6"
      }
    },
    {
      "cell_type": "code",
      "source": [
        "hap = int(input())\n",
        "\n",
        "for i in range(9):\n",
        "  hap -= int(input())\n",
        "\n",
        "print(hap)"
      ],
      "metadata": {
        "id": "0uMpDrHXBcmn",
        "colab": {
          "base_uri": "https://localhost:8080/"
        },
        "outputId": "c29b7f11-d81e-4a30-832f-5f34c6ffe8e8"
      },
      "execution_count": 94,
      "outputs": [
        {
          "output_type": "stream",
          "name": "stdout",
          "text": [
            "9850\n",
            "1050\n",
            "800\n",
            "420\n",
            "380\n",
            "600\n",
            "820\n",
            "2400\n",
            "1800\n",
            "980\n",
            "600\n"
          ]
        }
      ]
    },
    {
      "cell_type": "markdown",
      "source": [
        "---"
      ],
      "metadata": {
        "id": "C-0c2L-rBcy7"
      }
    },
    {
      "cell_type": "markdown",
      "source": [
        "## LeetCode"
      ],
      "metadata": {
        "id": "Qc8kilTnBdt1"
      }
    },
    {
      "cell_type": "markdown",
      "source": [
        "### 1431. Kids With the Greatest Number of Candies"
      ],
      "metadata": {
        "id": "R78GXzB8Bfl4"
      }
    },
    {
      "cell_type": "code",
      "source": [
        "class Solution:\n",
        "    def kidsWithCandies(self, candies: List[int], extraCandies: int) -> List[bool]:\n",
        "        res = []\n",
        "        for candy in candies:\n",
        "            if max(candies) <= candy + extraCandies:\n",
        "                res.append(True)\n",
        "            else:\n",
        "                res.append(False)\n",
        "        return res"
      ],
      "metadata": {
        "id": "NXEXgHaQBf57"
      },
      "execution_count": 94,
      "outputs": []
    }
  ]
}