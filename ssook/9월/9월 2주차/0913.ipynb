{
  "nbformat": 4,
  "nbformat_minor": 0,
  "metadata": {
    "colab": {
      "provenance": [],
      "authorship_tag": "ABX9TyM5XP/a67JTk/20VG4347On",
      "include_colab_link": true
    },
    "kernelspec": {
      "name": "python3",
      "display_name": "Python 3"
    },
    "language_info": {
      "name": "python"
    }
  },
  "cells": [
    {
      "cell_type": "markdown",
      "metadata": {
        "id": "view-in-github",
        "colab_type": "text"
      },
      "source": [
        "<a href=\"https://colab.research.google.com/github/ssook1222/1Day-1Algo/blob/master/ssook/9%EC%9B%94/9%EC%9B%94%202%EC%A3%BC%EC%B0%A8/0913.ipynb\" target=\"_parent\"><img src=\"https://colab.research.google.com/assets/colab-badge.svg\" alt=\"Open In Colab\"/></a>"
      ]
    },
    {
      "cell_type": "markdown",
      "source": [
        "## BoJ"
      ],
      "metadata": {
        "id": "Azi9aBfv2chY"
      }
    },
    {
      "cell_type": "markdown",
      "source": [
        "### 27964"
      ],
      "metadata": {
        "id": "raAyaOLp2jN2"
      }
    },
    {
      "cell_type": "code",
      "execution_count": 18,
      "metadata": {
        "colab": {
          "base_uri": "https://localhost:8080/"
        },
        "id": "y0WycD8StrPq",
        "outputId": "95230d37-892c-43d4-af9e-07a4754a91f2"
      },
      "outputs": [
        {
          "output_type": "stream",
          "name": "stdout",
          "text": [
            "7\n",
            "C Chess cheese Cheesa Cheesz Cheesp Cheese\n",
            "sad\n"
          ]
        }
      ],
      "source": [
        "n = int(input())\n",
        "toping_list = list(map(str, input().split()))\n",
        "not_dup = []\n",
        "\n",
        "for toping in toping_list:\n",
        "  if toping[len(toping)-6:len(toping)] == 'Cheese' :\n",
        "    if toping not in not_dup:\n",
        "      not_dup.append(toping)\n",
        "\n",
        "if len(not_dup) >= 4:\n",
        "  print(\"yummy\")\n",
        "else:\n",
        "  print(\"sad\")\n"
      ]
    },
    {
      "cell_type": "markdown",
      "source": [
        "### 17263"
      ],
      "metadata": {
        "id": "fLvRPagi2jep"
      }
    },
    {
      "cell_type": "code",
      "source": [
        "n = int(input())\n",
        "\n",
        "nums = list(map(int, input().split()))\n",
        "nums.sort()\n",
        "\n",
        "print(nums[-1])"
      ],
      "metadata": {
        "colab": {
          "base_uri": "https://localhost:8080/"
        },
        "id": "OqEyAuS92jsL",
        "outputId": "2e3b7fc7-4750-430d-9514-02d155fa8963"
      },
      "execution_count": 19,
      "outputs": [
        {
          "output_type": "stream",
          "name": "stdout",
          "text": [
            "3\n",
            "3 2 1\n",
            "3\n"
          ]
        }
      ]
    },
    {
      "cell_type": "markdown",
      "source": [
        "---"
      ],
      "metadata": {
        "id": "PJCazEa32j99"
      }
    },
    {
      "cell_type": "markdown",
      "source": [
        "## Programmers"
      ],
      "metadata": {
        "id": "uv-XgoBn2ktq"
      }
    },
    {
      "cell_type": "markdown",
      "source": [
        "### 짝지어 제거하기"
      ],
      "metadata": {
        "id": "jJ0sGziT2mbJ"
      }
    },
    {
      "cell_type": "code",
      "source": [
        "def solution(s):\n",
        "\n",
        "    stack = []\n",
        "\n",
        "    for c in s:\n",
        "        if stack and stack[-1] == c:\n",
        "            stack.pop()\n",
        "        else:\n",
        "            stack.append(c)\n",
        "\n",
        "    if stack:\n",
        "        return 0\n",
        "    else:\n",
        "        return 1\n",
        "\n",
        "    return answer"
      ],
      "metadata": {
        "id": "qapQUqs_2k6n"
      },
      "execution_count": null,
      "outputs": []
    },
    {
      "cell_type": "markdown",
      "source": [
        "### 틀린 코드"
      ],
      "metadata": {
        "id": "G4kManFvArK-"
      }
    },
    {
      "cell_type": "code",
      "source": [
        "def solution(s):\n",
        "\n",
        "    stack = []\n",
        "\n",
        "    for c in s:\n",
        "        if c in stack:\n",
        "            stack.pop()\n",
        "        else:\n",
        "            stack.append(c)\n",
        "    print(stack)\n",
        "\n",
        "    if stack:\n",
        "        answer = 0\n",
        "    else:\n",
        "        answer = 1\n",
        "\n",
        "    return answer"
      ],
      "metadata": {
        "id": "hTaZ0saOAs51"
      },
      "execution_count": null,
      "outputs": []
    },
    {
      "cell_type": "markdown",
      "source": [
        "단순히 스택에 글자가 있으면 뽑는 게 아니라, 제일 위에 있어야 pop해야 함."
      ],
      "metadata": {
        "id": "kgLJfx6mAuaF"
      }
    }
  ]
}