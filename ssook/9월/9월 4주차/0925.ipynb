{
  "nbformat": 4,
  "nbformat_minor": 0,
  "metadata": {
    "colab": {
      "provenance": [],
      "authorship_tag": "ABX9TyMT3GmXMhDAso6vva4DT0Gg",
      "include_colab_link": true
    },
    "kernelspec": {
      "name": "python3",
      "display_name": "Python 3"
    },
    "language_info": {
      "name": "python"
    }
  },
  "cells": [
    {
      "cell_type": "markdown",
      "metadata": {
        "id": "view-in-github",
        "colab_type": "text"
      },
      "source": [
        "<a href=\"https://colab.research.google.com/github/ssook1222/1Day-1Algo/blob/master/ssook/9%EC%9B%94/9%EC%9B%94%204%EC%A3%BC%EC%B0%A8/0925.ipynb\" target=\"_parent\"><img src=\"https://colab.research.google.com/assets/colab-badge.svg\" alt=\"Open In Colab\"/></a>"
      ]
    },
    {
      "cell_type": "markdown",
      "source": [
        "## BoJ"
      ],
      "metadata": {
        "id": "LWPrSsAjNRsC"
      }
    },
    {
      "cell_type": "markdown",
      "source": [
        "### 29720"
      ],
      "metadata": {
        "id": "mEjKu_W1NTmu"
      }
    },
    {
      "cell_type": "code",
      "execution_count": 11,
      "metadata": {
        "colab": {
          "base_uri": "https://localhost:8080/"
        },
        "id": "GMHrojFUNQJo",
        "outputId": "bc84ddcf-2750-4d44-e150-1cde94a30f58"
      },
      "outputs": [
        {
          "output_type": "stream",
          "name": "stdout",
          "text": [
            "10 2000 1\n",
            "0 9\n"
          ]
        }
      ],
      "source": [
        "n, m, k = map(int, input().split())\n",
        "\n",
        "curr = 0\n",
        "\n",
        "curr_raw = n - (m * k)\n",
        "\n",
        "if curr_raw < 0:\n",
        "  print(\"0 %d\" %(curr_raw + (m-1)))\n",
        "else:\n",
        "  print(curr_raw, curr_raw + (m-1))"
      ]
    },
    {
      "cell_type": "markdown",
      "source": [
        "### 29934"
      ],
      "metadata": {
        "id": "QvRA6RzmNUe_"
      }
    },
    {
      "cell_type": "code",
      "source": [
        "import sys\n",
        "\n",
        "m = int(sys.stdin.readline().rstrip())\n",
        "email = []\n",
        "cnt = 0\n",
        "\n",
        "for _ in range(m):\n",
        "  raw = sys.stdin.readline().rstrip()\n",
        "  email.append(raw)\n",
        "\n",
        "n = int(sys.stdin.readline().rstrip())\n",
        "for _ in range(n):\n",
        "  s = sys.stdin.readline().rstrip()\n",
        "  if s in email:\n",
        "    cnt += 1\n",
        "\n",
        "print(cnt)"
      ],
      "metadata": {
        "colab": {
          "base_uri": "https://localhost:8080/"
        },
        "id": "_gd1pzNENVfK",
        "outputId": "32c59802-d159-45ca-cc61-82db8ac032f5"
      },
      "execution_count": 12,
      "outputs": [
        {
          "output_type": "stream",
          "name": "stdout",
          "text": [
            "3\n",
            "kati@eesti.ee\n",
            "lauri@arvuti.net\n",
            "mati@eesti.ee\n",
            "4\n",
            "unknown@somewhere.com\n",
            "robot@spam.com\n",
            "kati@eesti.ee\n",
            "mati@xxx.org\n",
            "1\n"
          ]
        }
      ]
    },
    {
      "cell_type": "markdown",
      "source": [
        "---"
      ],
      "metadata": {
        "id": "jnSswNYVNWx5"
      }
    },
    {
      "cell_type": "markdown",
      "source": [
        "## LeetCode"
      ],
      "metadata": {
        "id": "KP5AlD13NXZU"
      }
    },
    {
      "cell_type": "markdown",
      "source": [
        "### 1389. Create Target Array in the Given Order\n"
      ],
      "metadata": {
        "id": "pm-iiAwLNZm-"
      }
    },
    {
      "cell_type": "code",
      "source": [
        "class Solution:\n",
        "    def createTargetArray(self, nums: List[int], index: List[int]) -> List[int]:\n",
        "        res = []\n",
        "\n",
        "        for i in range(len(nums)):\n",
        "            idx = index[i]\n",
        "            num = nums[i]\n",
        "            res.insert(idx, num)\n",
        "\n",
        "        return res\n"
      ],
      "metadata": {
        "id": "R4227hPmNado"
      },
      "execution_count": 12,
      "outputs": []
    }
  ]
}