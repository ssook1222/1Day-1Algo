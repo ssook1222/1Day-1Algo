{
  "nbformat": 4,
  "nbformat_minor": 0,
  "metadata": {
    "colab": {
      "provenance": [],
      "authorship_tag": "ABX9TyMhJMouKExd/LDDs2PcAPEp",
      "include_colab_link": true
    },
    "kernelspec": {
      "name": "python3",
      "display_name": "Python 3"
    },
    "language_info": {
      "name": "python"
    }
  },
  "cells": [
    {
      "cell_type": "markdown",
      "metadata": {
        "id": "view-in-github",
        "colab_type": "text"
      },
      "source": [
        "<a href=\"https://colab.research.google.com/github/ssook1222/1Day-1Algo/blob/master/ssook/9%EC%9B%94/9%EC%9B%94%204%EC%A3%BC%EC%B0%A8/0922.ipynb\" target=\"_parent\"><img src=\"https://colab.research.google.com/assets/colab-badge.svg\" alt=\"Open In Colab\"/></a>"
      ]
    },
    {
      "cell_type": "markdown",
      "source": [
        "## BoJ"
      ],
      "metadata": {
        "id": "1voY2afGK5bm"
      }
    },
    {
      "cell_type": "markdown",
      "source": [
        "### 1337"
      ],
      "metadata": {
        "id": "uib-bl_PLGnB"
      }
    },
    {
      "cell_type": "code",
      "execution_count": 3,
      "metadata": {
        "colab": {
          "base_uri": "https://localhost:8080/"
        },
        "id": "8TdRSLCFK00h",
        "outputId": "9ba1e0f9-91aa-40ae-a3a0-d04d180bfe61"
      },
      "outputs": [
        {
          "output_type": "stream",
          "name": "stdout",
          "text": [
            "3\n",
            "5\n",
            "6\n",
            "7\n",
            "2\n"
          ]
        }
      ],
      "source": [
        "import sys\n",
        "\n",
        "n = int(sys.stdin.readline().rstrip())\n",
        "\n",
        "num = []\n",
        "\n",
        "for _ in range(n):\n",
        "  num.append(int(sys.stdin.readline().rstrip()))\n",
        "\n",
        "num.sort()\n",
        "tmp = []\n",
        "\n",
        "for i in range(n):\n",
        "  cnt = 0\n",
        "  for j in range(num[i], num[i]+5):\n",
        "    if j not in num:\n",
        "      cnt += 1\n",
        "  tmp.append(cnt)\n",
        "\n",
        "print(min(tmp))"
      ]
    },
    {
      "cell_type": "markdown",
      "source": [
        "### 27110"
      ],
      "metadata": {
        "id": "TZ-C_kMJMwvx"
      }
    },
    {
      "cell_type": "code",
      "source": [
        "n = int(input())\n",
        "a, b, c = map(int, input().split())\n",
        "\n",
        "cnt = 0\n",
        "\n",
        "if n > a:\n",
        "  cnt += a\n",
        "\n",
        "else:\n",
        "  cnt += n\n",
        "\n",
        "if n > b:\n",
        "  cnt += b\n",
        "\n",
        "else:\n",
        "  cnt += n\n",
        "\n",
        "if n > c:\n",
        "  cnt += c\n",
        "\n",
        "else:\n",
        "  cnt += n\n",
        "\n",
        "print(cnt)"
      ],
      "metadata": {
        "colab": {
          "base_uri": "https://localhost:8080/"
        },
        "id": "jbmebA0RMw78",
        "outputId": "2edb5cdb-8461-4d73-93c0-1954f753cd6f"
      },
      "execution_count": 6,
      "outputs": [
        {
          "output_type": "stream",
          "name": "stdout",
          "text": [
            "10\n",
            "100 200 300\n",
            "30\n"
          ]
        }
      ]
    },
    {
      "cell_type": "markdown",
      "source": [
        "---"
      ],
      "metadata": {
        "id": "ovm7hcGiNx0A"
      }
    },
    {
      "cell_type": "markdown",
      "source": [
        "## LeetCode"
      ],
      "metadata": {
        "id": "OvRVYUeWNypa"
      }
    },
    {
      "cell_type": "markdown",
      "source": [
        "### 709. To Lower Case"
      ],
      "metadata": {
        "id": "_A7cA0_FNz-A"
      }
    },
    {
      "cell_type": "code",
      "source": [
        "class Solution(object):\n",
        "    def toLowerCase(self, s):\n",
        "        \"\"\"\n",
        "        :type s: str\n",
        "        :rtype: str\n",
        "        \"\"\"\n",
        "        return s.lower()\n",
        ""
      ],
      "metadata": {
        "id": "6FBDzqo1N0OA"
      },
      "execution_count": null,
      "outputs": []
    }
  ]
}