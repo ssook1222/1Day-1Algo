{
  "nbformat": 4,
  "nbformat_minor": 0,
  "metadata": {
    "colab": {
      "provenance": [],
      "authorship_tag": "ABX9TyO8NsMSGe0IisgFK5BycsIp",
      "include_colab_link": true
    },
    "kernelspec": {
      "name": "python3",
      "display_name": "Python 3"
    },
    "language_info": {
      "name": "python"
    }
  },
  "cells": [
    {
      "cell_type": "markdown",
      "metadata": {
        "id": "view-in-github",
        "colab_type": "text"
      },
      "source": [
        "<a href=\"https://colab.research.google.com/github/ssook1222/1Day-1Algo/blob/master/ssook/9%EC%9B%94/9%EC%9B%94%204%EC%A3%BC%EC%B0%A8/0924.ipynb\" target=\"_parent\"><img src=\"https://colab.research.google.com/assets/colab-badge.svg\" alt=\"Open In Colab\"/></a>"
      ]
    },
    {
      "cell_type": "markdown",
      "source": [
        "## BoJ"
      ],
      "metadata": {
        "id": "J2321g8yRUva"
      }
    },
    {
      "cell_type": "markdown",
      "source": [
        "### 28074"
      ],
      "metadata": {
        "id": "ZgyPsvWvRXiD"
      }
    },
    {
      "cell_type": "code",
      "execution_count": 6,
      "metadata": {
        "colab": {
          "base_uri": "https://localhost:8080/"
        },
        "id": "rOxenE_wRR7F",
        "outputId": "0238a9cd-d085-45f9-f562-8301c6e44b47"
      },
      "outputs": [
        {
          "output_type": "stream",
          "name": "stdout",
          "text": [
            "MOBISB\n",
            "YES\n"
          ]
        }
      ],
      "source": [
        "import sys\n",
        "\n",
        "s = sys.stdin.readline().rstrip()\n",
        "res = True\n",
        "mobis = ['M','O','B','I','S']\n",
        "\n",
        "for c in mobis:\n",
        "  if c not in s:\n",
        "    res = False\n",
        "    break\n",
        "\n",
        "if res:\n",
        "  print('YES')\n",
        "else:\n",
        "  print('NO')\n"
      ]
    },
    {
      "cell_type": "markdown",
      "source": [
        "### 7216"
      ],
      "metadata": {
        "id": "ZeJTrlw4RYyi"
      }
    },
    {
      "cell_type": "code",
      "source": [
        "n, k = map(int, input().split())\n",
        "students = list(map(int, input().split()))\n",
        "visited = [False] * n\n",
        "current_student = k - 1\n",
        "\n",
        "for _ in range(n):\n",
        "    visited[current_student] = True\n",
        "    next_student = students[current_student] - 1\n",
        "\n",
        "    if visited[next_student]:\n",
        "        break\n",
        "\n",
        "    current_student = next_student\n",
        "\n",
        "print(current_student + 1)"
      ],
      "metadata": {
        "colab": {
          "base_uri": "https://localhost:8080/"
        },
        "id": "YRmTS2T0RY_K",
        "outputId": "cb197f85-99fa-46da-fd23-b1e10f470059"
      },
      "execution_count": 12,
      "outputs": [
        {
          "output_type": "stream",
          "name": "stdout",
          "text": [
            "5 2\n",
            "4 3 5 2 1\n",
            "4\n"
          ]
        }
      ]
    },
    {
      "cell_type": "markdown",
      "source": [
        "---"
      ],
      "metadata": {
        "id": "09PleA1vRZ-b"
      }
    },
    {
      "cell_type": "markdown",
      "source": [
        "## LeetCode"
      ],
      "metadata": {
        "id": "3wZ6CBgvWoEQ"
      }
    },
    {
      "cell_type": "markdown",
      "source": [
        "### 1859. Sorting the Sentence\n"
      ],
      "metadata": {
        "id": "_zQnj0RRRai2"
      }
    },
    {
      "cell_type": "code",
      "source": [
        "class Solution:\n",
        "    def sortSentence(self, s: str) -> str:\n",
        "        \"\"\"\n",
        "        :type s: str\n",
        "        :rtype: str\n",
        "        \"\"\"\n",
        "        words = list(map(str, s.split()))\n",
        "        dict_it = {}\n",
        "\n",
        "        for word in words:\n",
        "            dict_it[int(word[-1])] = word[:len(word)-1]\n",
        "\n",
        "        dict_it = dict(sorted(dict_it.items()))\n",
        "        tmp = ''\n",
        "        for di in dict_it:\n",
        "            tmp += dict_it[di] + ' '\n",
        "\n",
        "        return tmp.rstrip()\n"
      ],
      "metadata": {
        "id": "QXnmEy03RcUj"
      },
      "execution_count": null,
      "outputs": []
    }
  ]
}
