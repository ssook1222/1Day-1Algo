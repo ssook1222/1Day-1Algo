{
  "nbformat": 4,
  "nbformat_minor": 0,
  "metadata": {
    "colab": {
      "provenance": [],
      "authorship_tag": "ABX9TyOCTWM+J5jzJ7p944U/Kcus",
      "include_colab_link": true
    },
    "kernelspec": {
      "name": "python3",
      "display_name": "Python 3"
    },
    "language_info": {
      "name": "python"
    }
  },
  "cells": [
    {
      "cell_type": "markdown",
      "metadata": {
        "id": "view-in-github",
        "colab_type": "text"
      },
      "source": [
        "<a href=\"https://colab.research.google.com/github/ssook1222/1Day-1Algo/blob/master/ssook/9%EC%9B%94/9%EC%9B%94%205%EC%A3%BC%EC%B0%A8/0929.ipynb\" target=\"_parent\"><img src=\"https://colab.research.google.com/assets/colab-badge.svg\" alt=\"Open In Colab\"/></a>"
      ]
    },
    {
      "cell_type": "markdown",
      "source": [
        "## BoJ"
      ],
      "metadata": {
        "id": "MZ73P7edXLED"
      }
    },
    {
      "cell_type": "markdown",
      "source": [
        "### 29731"
      ],
      "metadata": {
        "id": "UqxhDL7aXSc_"
      }
    },
    {
      "cell_type": "code",
      "execution_count": 5,
      "metadata": {
        "colab": {
          "base_uri": "https://localhost:8080/"
        },
        "id": "5O36g1HHW_i1",
        "outputId": "718f5bf6-bd0f-4740-8915-71aaee4f6dc6"
      },
      "outputs": [
        {
          "output_type": "stream",
          "name": "stdout",
          "text": [
            "3\n",
            "Never gonna give you up\n",
            "Never gonna say goodbye\n",
            "Let you down\n",
            "Yes\n"
          ]
        }
      ],
      "source": [
        "promises = ['Never gonna give you up','Never gonna let you down','Never gonna run around and desert you','Never gonna make you cry','Never gonna say goodbye','Never gonna tell a lie and hurt you','Never gonna stop']\n",
        "\n",
        "n = int(input())\n",
        "check = True\n",
        "\n",
        "for i in range(n):\n",
        "  s = input()\n",
        "  if s not in promises:\n",
        "    check = False\n",
        "    break\n",
        "\n",
        "if not check:\n",
        "  print(\"Yes\")\n",
        "else:\n",
        "  print(\"No\")"
      ]
    },
    {
      "cell_type": "markdown",
      "source": [
        "### 7946"
      ],
      "metadata": {
        "id": "vWiAwJvuao4x"
      }
    },
    {
      "cell_type": "code",
      "source": [
        "t = int(input())\n",
        "\n",
        "for i in range(t):\n",
        "  n, k = map(int, input().split())\n",
        "  stonka = list(map(int, input().split()))\n",
        "\n",
        "  stonka.sort()\n",
        "  print(stonka[k-1])\n"
      ],
      "metadata": {
        "colab": {
          "base_uri": "https://localhost:8080/"
        },
        "id": "nox3q6nXapI9",
        "outputId": "22dfc7a4-4aea-4743-8382-cb17fd4a0cec"
      },
      "execution_count": 12,
      "outputs": [
        {
          "output_type": "stream",
          "name": "stdout",
          "text": [
            "2\n",
            "5 3\n",
            "3 4 2 2 2\n",
            "2\n",
            "5 5\n",
            "3 4 2 2 2\n",
            "4\n"
          ]
        }
      ]
    },
    {
      "cell_type": "markdown",
      "source": [
        "---"
      ],
      "metadata": {
        "id": "7HsDvqgEapk5"
      }
    },
    {
      "cell_type": "markdown",
      "source": [
        "## LeetCode"
      ],
      "metadata": {
        "id": "hKeNQtilaqLL"
      }
    },
    {
      "cell_type": "markdown",
      "source": [
        "### 557. Reverse Words in a String III"
      ],
      "metadata": {
        "id": "Nj9WQt6mdReD"
      }
    },
    {
      "cell_type": "code",
      "source": [
        "class Solution:\n",
        "    def reverseWords(self, s: str) -> str:\n",
        "        tmp = ''\n",
        "        s = map(str, s.split())\n",
        "        for c in s:\n",
        "            tmp += c[::-1]+' '\n",
        "        return tmp.rstrip()\n"
      ],
      "metadata": {
        "id": "k3z4mdotaqYw"
      },
      "execution_count": null,
      "outputs": []
    }
  ]
}