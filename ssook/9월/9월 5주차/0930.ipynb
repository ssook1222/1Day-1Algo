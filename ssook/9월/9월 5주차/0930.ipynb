{
  "nbformat": 4,
  "nbformat_minor": 0,
  "metadata": {
    "colab": {
      "provenance": [],
      "authorship_tag": "ABX9TyPMVxGvlseM47Vrlq3XQNjn",
      "include_colab_link": true
    },
    "kernelspec": {
      "name": "python3",
      "display_name": "Python 3"
    },
    "language_info": {
      "name": "python"
    }
  },
  "cells": [
    {
      "cell_type": "markdown",
      "metadata": {
        "id": "view-in-github",
        "colab_type": "text"
      },
      "source": [
        "<a href=\"https://colab.research.google.com/github/ssook1222/1Day-1Algo/blob/master/ssook/9%EC%9B%94/9%EC%9B%94%205%EC%A3%BC%EC%B0%A8/0930.ipynb\" target=\"_parent\"><img src=\"https://colab.research.google.com/assets/colab-badge.svg\" alt=\"Open In Colab\"/></a>"
      ]
    },
    {
      "cell_type": "markdown",
      "source": [
        "## BoJ"
      ],
      "metadata": {
        "id": "ZtCkiV86f4rG"
      }
    },
    {
      "cell_type": "markdown",
      "source": [
        "### 15098"
      ],
      "metadata": {
        "id": "gKdGkczOf7dv"
      }
    },
    {
      "cell_type": "code",
      "execution_count": 2,
      "metadata": {
        "colab": {
          "base_uri": "https://localhost:8080/"
        },
        "id": "toqAZPxve53A",
        "outputId": "4ff7cec9-4fcc-4e5a-d19e-3c040e41f347"
      },
      "outputs": [
        {
          "output_type": "stream",
          "name": "stdout",
          "text": [
            "IN THE RAIN AND THE SNOW\n",
            "no\n"
          ]
        }
      ],
      "source": [
        "s = input()\n",
        "\n",
        "words_not_dup = list(set(s.split()))\n",
        "words = list(s.split())\n",
        "\n",
        "words_not_dup.sort()\n",
        "words.sort()\n",
        "\n",
        "if words == words_not_dup:\n",
        "  print(\"yes\")\n",
        "\n",
        "else:\n",
        "  print(\"no\")\n"
      ]
    },
    {
      "cell_type": "markdown",
      "source": [
        "### 10179"
      ],
      "metadata": {
        "id": "_lRjlp5fgKnf"
      }
    },
    {
      "cell_type": "code",
      "source": [
        "t = int(input())\n",
        "\n",
        "for _ in range(t):\n",
        "  n = float(input())\n",
        "  n = round(n*0.8,2)\n",
        "  print(f'${n:.2f}')"
      ],
      "metadata": {
        "colab": {
          "base_uri": "https://localhost:8080/"
        },
        "id": "Hn4qRse_gK5z",
        "outputId": "e7886d24-d94b-41f8-e4e4-154ef994fb06"
      },
      "execution_count": 9,
      "outputs": [
        {
          "output_type": "stream",
          "name": "stdout",
          "text": [
            "3\n",
            "100.00\n",
            "$80.00\n",
            "59.99\n",
            "$47.99\n",
            "20.00\n",
            "$16.00\n"
          ]
        }
      ]
    },
    {
      "cell_type": "markdown",
      "source": [
        "---"
      ],
      "metadata": {
        "id": "xA9sSIzgxCFh"
      }
    },
    {
      "cell_type": "markdown",
      "source": [
        "## LeetCode"
      ],
      "metadata": {
        "id": "_pweSTf8xDLi"
      }
    },
    {
      "cell_type": "markdown",
      "source": [
        "### 1672. Richest Customer Wealth\n"
      ],
      "metadata": {
        "id": "vUvIjV3WxFSP"
      }
    },
    {
      "cell_type": "code",
      "source": [
        "class Solution:\n",
        "    def maximumWealth(self, accounts: List[List[int]]) -> int:\n",
        "        res = []\n",
        "        for account in accounts:\n",
        "            res.append(sum(account))\n",
        "\n",
        "        res.sort(reverse = True)\n",
        "        return res[0]"
      ],
      "metadata": {
        "id": "M6LYARLzxFDr"
      },
      "execution_count": null,
      "outputs": []
    }
  ]
}