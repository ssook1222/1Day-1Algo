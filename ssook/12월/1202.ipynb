{
  "nbformat": 4,
  "nbformat_minor": 0,
  "metadata": {
    "colab": {
      "provenance": [],
      "authorship_tag": "ABX9TyM905YGXkgLo+8KV+4u+cxU",
      "include_colab_link": true
    },
    "kernelspec": {
      "name": "python3",
      "display_name": "Python 3"
    },
    "language_info": {
      "name": "python"
    }
  },
  "cells": [
    {
      "cell_type": "markdown",
      "metadata": {
        "id": "view-in-github",
        "colab_type": "text"
      },
      "source": [
        "<a href=\"https://colab.research.google.com/github/ssook1222/1Day-1Algo/blob/master/ssook/12%EC%9B%94/1202.ipynb\" target=\"_parent\"><img src=\"https://colab.research.google.com/assets/colab-badge.svg\" alt=\"Open In Colab\"/></a>"
      ]
    },
    {
      "cell_type": "markdown",
      "source": [
        "## BoJ"
      ],
      "metadata": {
        "id": "rKs6hgTwXmad"
      }
    },
    {
      "cell_type": "markdown",
      "source": [
        "### 30468"
      ],
      "metadata": {
        "id": "fnpUYQh8XpVc"
      }
    },
    {
      "cell_type": "code",
      "execution_count": 8,
      "metadata": {
        "colab": {
          "base_uri": "https://localhost:8080/"
        },
        "id": "On8r_2zgWRzh",
        "outputId": "9500b94f-5b6a-4468-a7ee-e455f2e2c1e7"
      },
      "outputs": [
        {
          "output_type": "stream",
          "name": "stdout",
          "text": [
            "7 12 4 23 11\n",
            "0\n"
          ]
        }
      ],
      "source": [
        "strs, dex, ints, luk, n = map(int, input().split())\n",
        "cnt = 0\n",
        "hap = strs + dex + ints + luk\n",
        "\n",
        "while True:\n",
        "  if n * 4 <= hap:\n",
        "    break\n",
        "  cnt += 1\n",
        "  hap += 1\n",
        "\n",
        "print(cnt)"
      ]
    },
    {
      "cell_type": "markdown",
      "source": [
        "### 5893"
      ],
      "metadata": {
        "id": "vmlfKTS8XrNA"
      }
    },
    {
      "cell_type": "code",
      "source": [
        "n = int(input(), 2) * 17\n",
        "raw = bin(n)[2:]\n",
        "print(raw)"
      ],
      "metadata": {
        "colab": {
          "base_uri": "https://localhost:8080/"
        },
        "id": "E3wTCRZbXsIT",
        "outputId": "7d54b847-9b64-4d9a-fbda-a2dfd8c01fa0"
      },
      "execution_count": 11,
      "outputs": [
        {
          "output_type": "stream",
          "name": "stdout",
          "text": [
            "10110111\n",
            "110000100111\n"
          ]
        }
      ]
    },
    {
      "cell_type": "markdown",
      "source": [
        "---"
      ],
      "metadata": {
        "id": "g0Ap-aAFX0dl"
      }
    },
    {
      "cell_type": "markdown",
      "source": [
        "## Programmers"
      ],
      "metadata": {
        "id": "5PrdB_7tX1nv"
      }
    },
    {
      "cell_type": "markdown",
      "source": [
        "### [PCCE 기출문제] 2번 / 피타고라스의 정리"
      ],
      "metadata": {
        "id": "lR8MDBkAX79b"
      }
    },
    {
      "cell_type": "code",
      "source": [
        "a = int(input())\n",
        "c = int(input())\n",
        "\n",
        "b_square = (c**2 - a**2)\n",
        "print(b_square)"
      ],
      "metadata": {
        "id": "jdk-0mS_X8rU"
      },
      "execution_count": null,
      "outputs": []
    }
  ]
}