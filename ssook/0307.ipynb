{
 "nbformat": 4,
 "nbformat_minor": 0,
 "metadata": {
  "colab": {
   "provenance": []
  },
  "kernelspec": {
   "name": "python3",
   "display_name": "Python 3"
  },
  "language_info": {
   "name": "python"
  }
 },
 "cells": [
  {
   "cell_type": "markdown",
   "source": [
    "## 3월 7일 문제풀이\n",
    "\n",
    "> 브론즈 뽀개기!!!\n",
    "\n",
    "---        \n",
    "\n",
    "`참여자` 최숙"
   ],
   "metadata": {
    "id": "axKJzL99i9Di"
   }
  },
  {
   "cell_type": "markdown",
   "source": [
    "### 1264\n",
    "[링크](https://www.acmicpc.net/problem/1264)"
   ],
   "metadata": {
    "id": "8mUPyd8hkwMe"
   }
  },
  {
   "cell_type": "code",
   "source": [
    "ans = []\n",
    "while True : \n",
    "  cnt = 0\n",
    "  N = input()\n",
    "\n",
    "  if N == \"#\":\n",
    "    break\n",
    "\n",
    "  ans = N.lower()\n",
    "\n",
    "  for i in range (0,len(ans)):\n",
    "    if ans[i] == \"a\" or ans[i] == \"e\" or ans[i] == \"i\" or ans[i] == \"o\" or ans[i] == \"u\":\n",
    "      cnt = cnt + 1\n",
    "\n",
    "  print(cnt)"
   ],
   "metadata": {
    "colab": {
     "base_uri": "https://localhost:8080/"
    },
    "id": "MqdxnPS8jgKD",
    "outputId": "b9015df7-6743-45e4-efe6-f6c1b099e737"
   },
   "execution_count": null,
   "outputs": [
    {
     "name": "stdout",
     "output_type": "stream",
     "text": [
      "How are you today?\n",
      "7\n",
      "Quite well, thank you, how about yourself?\n",
      "14\n",
      "I live at number twenty four.\n",
      "9\n",
      "#\n"
     ]
    }
   ]
  },
  {
   "cell_type": "markdown",
   "source": [
    "### 5532"
   ],
   "metadata": {
    "id": "8CBSlbXdqHrD"
   }
  },
  {
   "cell_type": "code",
   "source": [
    "import math\n",
    "L = int(input())\n",
    "A = int(input()) # korean\n",
    "B = int(input()) # math\n",
    "C = int(input()) # max korean\n",
    "D = int(input()) # max math\n",
    "\n",
    "print(L-max(math.ceil(A/C), math.ceil(B/D))) "
   ],
   "metadata": {
    "colab": {
     "base_uri": "https://localhost:8080/"
    },
    "id": "C0JICHjqqIBr",
    "outputId": "f7f2514f-0b11-4cee-a0bf-55d5bf67a4f0"
   },
   "execution_count": 13,
   "outputs": [
    {
     "output_type": "stream",
     "name": "stdout",
     "text": [
      "15\n",
      "32\n",
      "48\n",
      "4\n",
      "6\n",
      "7\n"
     ]
    }
   ]
  },
  {
   "cell_type": "markdown",
   "source": [
    "### 20499"
   ],
   "metadata": {
    "id": "_MPqVS36trUl"
   }
  },
  {
   "cell_type": "code",
   "source": [
    "K, D, A = map(int, input().split(\"/\"))\n",
    "\n",
    "if K + A < D  or D == 0:\n",
    "  print(\"hasu\")\n",
    "\n",
    "else:\n",
    "  print(\"gosu\")"
   ],
   "metadata": {
    "colab": {
     "base_uri": "https://localhost:8080/"
    },
    "id": "5UMYl0A8tr77",
    "outputId": "aa4ed4c7-5d86-419c-b53f-2a22870f7b63"
   },
   "execution_count": 16,
   "outputs": [
    {
     "output_type": "stream",
     "name": "stdout",
     "text": [
      "12/4/5\n",
      "gosu\n"
     ]
    }
   ]
  },
  {
   "cell_type": "markdown",
   "source": [
    "### 17356"
   ],
   "metadata": {
    "id": "Z9Y9j1bQvE5j"
   }
  },
  {
   "cell_type": "code",
   "source": [
    "A, B = map(int, input().split())\n",
    "\n",
    "M = (B-A)/400\n",
    "\n",
    "print(1/(1+(10**M)))"
   ],
   "metadata": {
    "colab": {
     "base_uri": "https://localhost:8080/"
    },
    "id": "09nYrTdpvHJx",
    "outputId": "b50086ff-3d9b-4bcf-d6fe-b5399330285e"
   },
   "execution_count": 18,
   "outputs": [
    {
     "output_type": "stream",
     "name": "stdout",
     "text": [
      "2000 1800\n",
      "0.7597469266479578\n"
     ]
    }
   ]
  },
  {
   "cell_type": "markdown",
   "source": [
    "### 2869"
   ],
   "metadata": {
    "id": "BUOQQgjuvyCT"
   }
  },
  {
   "cell_type": "code",
   "source": [
    "import math\n",
    "A, B, V = map(int, input().split())\n",
    "\n",
    "T = (V-B)/(A-B) # 밤에 달팽이가 내려가는 것을 고려하여 V-B로 빼고 분자에 올려 놓음.\n",
    "\n",
    "print(math.ceil(T))"
   ],
   "metadata": {
    "colab": {
     "base_uri": "https://localhost:8080/"
    },
    "id": "v_9IpVBnvznc",
    "outputId": "223cd8e9-60d7-41f2-f351-bdc8190722fa"
   },
   "execution_count": 30,
   "outputs": [
    {
     "output_type": "stream",
     "name": "stdout",
     "text": [
      "2 1 5\n",
      "4\n"
     ]
    }
   ]
  }
 ]
}