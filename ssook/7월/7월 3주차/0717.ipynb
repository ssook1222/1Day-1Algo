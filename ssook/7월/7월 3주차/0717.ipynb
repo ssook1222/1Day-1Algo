{
  "nbformat": 4,
  "nbformat_minor": 0,
  "metadata": {
    "colab": {
      "provenance": [],
      "authorship_tag": "ABX9TyMfmpIpALZqsBgEHn1K6Cbt",
      "include_colab_link": true
    },
    "kernelspec": {
      "name": "python3",
      "display_name": "Python 3"
    },
    "language_info": {
      "name": "python"
    }
  },
  "cells": [
    {
      "cell_type": "markdown",
      "metadata": {
        "id": "view-in-github",
        "colab_type": "text"
      },
      "source": [
        "<a href=\"https://colab.research.google.com/github/ssook1222/1Day-1Algo/blob/master/ssook/7%EC%9B%94/7%EC%9B%94%203%EC%A3%BC%EC%B0%A8/0717.ipynb\" target=\"_parent\"><img src=\"https://colab.research.google.com/assets/colab-badge.svg\" alt=\"Open In Colab\"/></a>"
      ]
    },
    {
      "cell_type": "markdown",
      "source": [
        "## BoJ"
      ],
      "metadata": {
        "id": "CVWW3krpqr8f"
      }
    },
    {
      "cell_type": "markdown",
      "source": [
        "### 3047"
      ],
      "metadata": {
        "id": "l3alnBfOqqVH"
      }
    },
    {
      "cell_type": "code",
      "execution_count": 4,
      "metadata": {
        "id": "gPrK5eCcqZFQ",
        "colab": {
          "base_uri": "https://localhost:8080/"
        },
        "outputId": "604a8cbc-e90d-4d20-c492-5bde3e9926f8"
      },
      "outputs": [
        {
          "output_type": "stream",
          "name": "stdout",
          "text": [
            "6 4 2\n",
            "CAB\n",
            "6 2 4\n"
          ]
        }
      ],
      "source": [
        "raw = list(map(int, input().split(\" \")))\n",
        "raw.sort()\n",
        "\n",
        "A = raw[0]\n",
        "B = raw[1]\n",
        "C = raw[2]\n",
        "\n",
        "cmd = list(input())\n",
        "num = []\n",
        "\n",
        "for i in cmd:\n",
        "  if i == 'A':\n",
        "    num.append(A)\n",
        "\n",
        "  if i == 'B':\n",
        "    num.append(B)\n",
        "\n",
        "  if i == 'C':\n",
        "    num.append(C)\n",
        "\n",
        "print(*num)"
      ]
    },
    {
      "cell_type": "markdown",
      "source": [
        "### 1919"
      ],
      "metadata": {
        "id": "Dodhn9SNrTqD"
      }
    },
    {
      "cell_type": "code",
      "source": [
        "s = input()\n",
        "t = input()\n",
        "\n",
        "for c in s:\n",
        "    if c in t:\n",
        "        t = t.replace(c,'',1)\n",
        "        s = s.replace(c,'',1)\n",
        "\n",
        "cnt = len(s)+len(t)\n",
        "print(cnt)"
      ],
      "metadata": {
        "id": "SvMYRDuFrT4K",
        "colab": {
          "base_uri": "https://localhost:8080/"
        },
        "outputId": "06b5ada3-f634-495e-9ad1-990d4305789d"
      },
      "execution_count": 9,
      "outputs": [
        {
          "output_type": "stream",
          "name": "stdout",
          "text": [
            "xxyybb\n",
            "aabbcc\n",
            "8\n"
          ]
        }
      ]
    },
    {
      "cell_type": "markdown",
      "source": [
        "---"
      ],
      "metadata": {
        "id": "SASqhaP_rmfm"
      }
    },
    {
      "cell_type": "markdown",
      "source": [
        "## HackerRank"
      ],
      "metadata": {
        "id": "fM1sVpQ2rplu"
      }
    },
    {
      "cell_type": "markdown",
      "source": [
        "### What's Your Name?"
      ],
      "metadata": {
        "id": "RzC3NtMQrtLP"
      }
    },
    {
      "cell_type": "code",
      "source": [
        "def print_full_name(first, last):\n",
        "    print(\"Hello %s %s! You just delved into python.\" %(first, last))\n",
        "\n",
        "if __name__ == '__main__':\n",
        "    first_name = input()\n",
        "    last_name = input()\n",
        "    print_full_name(first_name, last_name)"
      ],
      "metadata": {
        "id": "GXbIOd5Urs-b"
      },
      "execution_count": null,
      "outputs": []
    }
  ]
}