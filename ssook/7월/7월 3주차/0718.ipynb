{
  "nbformat": 4,
  "nbformat_minor": 0,
  "metadata": {
    "colab": {
      "provenance": [],
      "authorship_tag": "ABX9TyPHzlZQhRd07+oJyk5EE3Kt",
      "include_colab_link": true
    },
    "kernelspec": {
      "name": "python3",
      "display_name": "Python 3"
    },
    "language_info": {
      "name": "python"
    }
  },
  "cells": [
    {
      "cell_type": "markdown",
      "metadata": {
        "id": "view-in-github",
        "colab_type": "text"
      },
      "source": [
        "<a href=\"https://colab.research.google.com/github/ssook1222/1Day-1Algo/blob/master/ssook/7%EC%9B%94/7%EC%9B%94%203%EC%A3%BC%EC%B0%A8/0718.ipynb\" target=\"_parent\"><img src=\"https://colab.research.google.com/assets/colab-badge.svg\" alt=\"Open In Colab\"/></a>"
      ]
    },
    {
      "cell_type": "markdown",
      "source": [
        "## BoJ"
      ],
      "metadata": {
        "id": "PEeuwuj4vqNP"
      }
    },
    {
      "cell_type": "markdown",
      "source": [
        "### 9295"
      ],
      "metadata": {
        "id": "XXsv8s7DvtMt"
      }
    },
    {
      "cell_type": "code",
      "execution_count": 1,
      "metadata": {
        "id": "N-fx1de_vj07",
        "colab": {
          "base_uri": "https://localhost:8080/"
        },
        "outputId": "863e72be-79ea-4ed5-ca10-d0108c403cc8"
      },
      "outputs": [
        {
          "output_type": "stream",
          "name": "stdout",
          "text": [
            "5\n",
            "1 2\n",
            "Case 1: 3\n",
            "1 3\n",
            "Case 2: 4\n",
            "3 5\n",
            "Case 3: 8\n",
            "2 6\n",
            "Case 4: 8\n",
            "3 4\n",
            "Case 5: 7\n"
          ]
        }
      ],
      "source": [
        "t = int(input())\n",
        "\n",
        "for i in range(t):\n",
        "  a, b = map(int, input().split(\" \"))\n",
        "  print(\"Case %d: %d\" %(i+1, a+b))"
      ]
    },
    {
      "cell_type": "markdown",
      "source": [
        "### 1296"
      ],
      "metadata": {
        "id": "iYjunH0gv2Jj"
      }
    },
    {
      "cell_type": "code",
      "source": [
        "green = input()\n",
        "\n",
        "n = int(input())\n",
        "score = -1e9\n",
        "winner = ''\n",
        "\n",
        "for i in range(n):\n",
        "    l_cnt = green.count('L')\n",
        "    o_cnt = green.count('O')\n",
        "    v_cnt = green.count('V')\n",
        "    e_cnt = green.count('E')\n",
        "\n",
        "    team = input()\n",
        "    l_cnt += team.count('L')\n",
        "    o_cnt += team.count('O')\n",
        "    v_cnt += team.count('V')\n",
        "    e_cnt += team.count('E')\n",
        "\n",
        "    current_score = ((l_cnt + o_cnt) * (l_cnt + v_cnt) * (l_cnt + e_cnt) * (o_cnt + v_cnt) * (o_cnt + e_cnt) * (v_cnt + e_cnt)) % 100\n",
        "\n",
        "    if current_score > score:\n",
        "        score = current_score\n",
        "        winner = team\n",
        "    elif current_score == score and team < winner:\n",
        "        winner = team\n",
        "\n",
        "print(winner)\n"
      ],
      "metadata": {
        "id": "PUSC3mg5v2WN",
        "colab": {
          "base_uri": "https://localhost:8080/"
        },
        "outputId": "e06c4639-6435-41a2-ae6b-d95f73387ecf"
      },
      "execution_count": 10,
      "outputs": [
        {
          "output_type": "stream",
          "name": "stdout",
          "text": [
            "JANE\n",
            "4\n",
            "THOMAS\n",
            "0\n",
            "MICHAEL\n",
            "INDY\n",
            "LIU\n",
            "THOMAS\n"
          ]
        }
      ]
    },
    {
      "cell_type": "markdown",
      "source": [
        "문제를 똑바로 읽자...     \n",
        "조건을 맞추자! 이 문제의 경우 사전순으로 한다는 것을 체크 못해서 삽질했다."
      ],
      "metadata": {
        "id": "E5qgxPKVVDyO"
      }
    },
    {
      "cell_type": "markdown",
      "source": [
        "---"
      ],
      "metadata": {
        "id": "iyPjumRDw48h"
      }
    },
    {
      "cell_type": "markdown",
      "source": [
        "## HackerRank"
      ],
      "metadata": {
        "id": "xUPM37zxw6A9"
      }
    },
    {
      "cell_type": "markdown",
      "source": [
        "### Capitalize!"
      ],
      "metadata": {
        "id": "ZcZ7HRr0w88A"
      }
    },
    {
      "cell_type": "code",
      "source": [
        "import math\n",
        "import os\n",
        "import random\n",
        "import re\n",
        "import sys\n",
        "\n",
        "# Complete the solve function below.\n",
        "def solve(s):\n",
        "    res = ''\n",
        "    names = s.split(\" \")\n",
        "\n",
        "    for name in names:\n",
        "        if name != '':\n",
        "            res+= name[0].upper()\n",
        "            res+= name[1:]\n",
        "            if name != names[-1]:\n",
        "                res+= ' '\n",
        "        if name == '':\n",
        "            res+= ' '\n",
        "    print(res)\n",
        "    return res\n",
        "\n",
        "if __name__ == '__main__':\n",
        "    fptr = open(os.environ['OUTPUT_PATH'], 'w')\n",
        "\n",
        "    s = input()\n",
        "\n",
        "    result = solve(s)\n",
        "\n",
        "    fptr.write(result + '\\n')\n",
        "\n",
        "    fptr.close()"
      ],
      "metadata": {
        "id": "ulDUAS_Qw9Wq"
      },
      "execution_count": 10,
      "outputs": []
    }
  ]
}