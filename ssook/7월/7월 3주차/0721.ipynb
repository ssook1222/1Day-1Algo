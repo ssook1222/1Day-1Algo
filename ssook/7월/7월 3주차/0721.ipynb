{
  "nbformat": 4,
  "nbformat_minor": 0,
  "metadata": {
    "colab": {
      "provenance": [],
      "authorship_tag": "ABX9TyNrhzPSmmsdShClAAF1SFwn",
      "include_colab_link": true
    },
    "kernelspec": {
      "name": "python3",
      "display_name": "Python 3"
    },
    "language_info": {
      "name": "python"
    }
  },
  "cells": [
    {
      "cell_type": "markdown",
      "metadata": {
        "id": "view-in-github",
        "colab_type": "text"
      },
      "source": [
        "<a href=\"https://colab.research.google.com/github/ssook1222/1Day-1Algo/blob/master/ssook/7%EC%9B%94/7%EC%9B%94%203%EC%A3%BC%EC%B0%A8/0721.ipynb\" target=\"_parent\"><img src=\"https://colab.research.google.com/assets/colab-badge.svg\" alt=\"Open In Colab\"/></a>"
      ]
    },
    {
      "cell_type": "markdown",
      "source": [
        "## BoJ"
      ],
      "metadata": {
        "id": "QLwnx1BCln0m"
      }
    },
    {
      "cell_type": "markdown",
      "source": [
        "### 9610"
      ],
      "metadata": {
        "id": "Le7aqwiql-Nj"
      }
    },
    {
      "cell_type": "code",
      "execution_count": 2,
      "metadata": {
        "colab": {
          "base_uri": "https://localhost:8080/"
        },
        "id": "wTcXoqFiljD_",
        "outputId": "602b14f9-2c78-45b4-91a3-0e9d3eb35dff"
      },
      "outputs": [
        {
          "output_type": "stream",
          "name": "stdout",
          "text": [
            "5\n",
            "0 0\n",
            "0 1\n",
            "1 1\n",
            "3 -3\n",
            "2 2\n",
            "Q1: 2\n",
            "Q2: 0\n",
            "Q3: 0\n",
            "Q4: 1\n",
            "AXIS: 2\n"
          ]
        }
      ],
      "source": [
        "t = int(input())\n",
        "\n",
        "axis = 0\n",
        "q1 = 0\n",
        "q2 = 0\n",
        "q3 = 0\n",
        "q4 = 0\n",
        "\n",
        "for i in range(t):\n",
        "\n",
        "  x, y = map(int, input().split(\" \"))\n",
        "\n",
        "  if x == 0 or y == 0:\n",
        "    axis += 1\n",
        "\n",
        "  else:\n",
        "    if x > 0 and y > 0 :\n",
        "      q1 += 1\n",
        "\n",
        "    elif x < 0 and y > 0:\n",
        "      q2 += 1\n",
        "\n",
        "    elif x < 0 and y < 0:\n",
        "      q3 += 1\n",
        "\n",
        "    elif x > 0 and y < 0 :\n",
        "      q4 += 1\n",
        "\n",
        "print(\"Q1: %d\" %q1)\n",
        "print(\"Q2: %d\" %q2)\n",
        "print(\"Q3: %d\" %q3)\n",
        "print(\"Q4: %d\" %q4)\n",
        "print(\"AXIS: %d\" %axis)"
      ]
    },
    {
      "cell_type": "markdown",
      "source": [
        "### 2473"
      ],
      "metadata": {
        "id": "Y24j5K4H33ny"
      }
    },
    {
      "cell_type": "markdown",
      "source": [],
      "metadata": {
        "id": "1-uwCv9C_iDl"
      }
    },
    {
      "cell_type": "code",
      "source": [
        "import sys\n",
        "\n",
        "n = int(sys.stdin.readline().rstrip())\n",
        "\n",
        "liquid = list(map(int, sys.stdin.readline().rstrip().split(\" \")))\n",
        "liquid.sort()\n",
        "\n",
        "res = []\n",
        "res_diff = float('inf')\n",
        "\n",
        "for i in range(n - 2):\n",
        "\n",
        "    start = i + 1\n",
        "    end = n - 1\n",
        "\n",
        "    while start < end:\n",
        "\n",
        "        hap = liquid[i] + liquid[start] + liquid[end]\n",
        "        diff = abs(hap)\n",
        "\n",
        "        if diff < res_diff:\n",
        "            res_diff = diff\n",
        "            res = [liquid[i], liquid[start], liquid[end]]\n",
        "\n",
        "        if hap == 0:\n",
        "            print(liquid[i], liquid[start], liquid[end])\n",
        "\n",
        "        if hap < 0:\n",
        "            start += 1\n",
        "        else:\n",
        "            end -= 1\n",
        "\n",
        "print(*res)\n"
      ],
      "metadata": {
        "colab": {
          "base_uri": "https://localhost:8080/"
        },
        "id": "hrA3kbWN34BN",
        "outputId": "ebafbd68-40f5-473a-fa75-87ade9ae6669"
      },
      "execution_count": 12,
      "outputs": [
        {
          "output_type": "stream",
          "name": "stdout",
          "text": [
            "5\n",
            "-2 6 -97 -6 98\n",
            "-97 -2 98\n"
          ]
        }
      ]
    },
    {
      "cell_type": "markdown",
      "source": [
        "3개의 인덱스가 필요할 경우, 고정할 i를 정해놓고 한 바퀴 다 돌린다음 값이 가까운지를 확인해준다."
      ],
      "metadata": {
        "id": "vw3rqCU99kGi"
      }
    },
    {
      "cell_type": "markdown",
      "source": [
        "## HackerRank"
      ],
      "metadata": {
        "id": "abTxLFZR34aX"
      }
    },
    {
      "cell_type": "markdown",
      "source": [
        "### Find the Runner-Up Score!"
      ],
      "metadata": {
        "id": "ezlMWLIk37FU"
      }
    },
    {
      "cell_type": "code",
      "source": [
        "if __name__ == '__main__':\n",
        "    n = int(input())\n",
        "    arr = list(set(map(int, input().split())))\n",
        "    arr.sort(reverse = True)\n",
        "    print(arr[1])"
      ],
      "metadata": {
        "id": "bFr854Iv38YO"
      },
      "execution_count": null,
      "outputs": []
    }
  ]
}
