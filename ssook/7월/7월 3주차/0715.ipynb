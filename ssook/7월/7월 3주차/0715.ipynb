{
  "nbformat": 4,
  "nbformat_minor": 0,
  "metadata": {
    "colab": {
      "provenance": [],
      "authorship_tag": "ABX9TyPD32HPc8m/RJWrbC38uryF",
      "include_colab_link": true
    },
    "kernelspec": {
      "name": "python3",
      "display_name": "Python 3"
    },
    "language_info": {
      "name": "python"
    }
  },
  "cells": [
    {
      "cell_type": "markdown",
      "metadata": {
        "id": "view-in-github",
        "colab_type": "text"
      },
      "source": [
        "<a href=\"https://colab.research.google.com/github/ssook1222/1Day-1Algo/blob/master/ssook/7%EC%9B%94/7%EC%9B%94%203%EC%A3%BC%EC%B0%A8/0715.ipynb\" target=\"_parent\"><img src=\"https://colab.research.google.com/assets/colab-badge.svg\" alt=\"Open In Colab\"/></a>"
      ]
    },
    {
      "cell_type": "markdown",
      "source": [
        "## BoJ"
      ],
      "metadata": {
        "id": "tB7T5Jd1n1og"
      }
    },
    {
      "cell_type": "markdown",
      "source": [
        "### 10610"
      ],
      "metadata": {
        "id": "nFQF99onseMt"
      }
    },
    {
      "cell_type": "code",
      "execution_count": 27,
      "metadata": {
        "colab": {
          "base_uri": "https://localhost:8080/"
        },
        "id": "6XUIiYIrnthB",
        "outputId": "b9951055-e367-438c-cf0c-539d11b787b1"
      },
      "outputs": [
        {
          "output_type": "stream",
          "name": "stdout",
          "text": [
            "102\n",
            "210\n"
          ]
        }
      ],
      "source": [
        "import sys\n",
        "\n",
        "n = list(map(int, sys.stdin.readline().rstrip()))\n",
        "n.sort(reverse = True)\n",
        "n_sum = 0\n",
        "\n",
        "if '0' not in str(n):\n",
        "  print(-1)\n",
        "\n",
        "else:\n",
        "  for i in n:\n",
        "    n_sum += i\n",
        "\n",
        "  if n_sum % 3 == 0:\n",
        "    print(*n, sep='')\n",
        "  else:\n",
        "    print(-1)\n"
      ]
    },
    {
      "cell_type": "markdown",
      "source": [
        "### 12919"
      ],
      "metadata": {
        "id": "UmOlBSTnsgUl"
      }
    },
    {
      "cell_type": "code",
      "source": [
        "import sys\n",
        "\n",
        "sys.setrecursionlimit(10**8)\n",
        "\n",
        "s = list(sys.stdin.readline().rstrip())\n",
        "T = list(sys.stdin.readline().rstrip())\n",
        "\n",
        "def res(t):\n",
        "  if t == s:\n",
        "      print(1)\n",
        "      sys.exit()\n",
        "\n",
        "  if len(t) == 0:\n",
        "      return\n",
        "\n",
        "  if t[-1] == 'A':\n",
        "    res(t[:-1])\n",
        "\n",
        "  if t[0] == 'B':\n",
        "    res(t[1:][::-1])\n",
        "\n",
        "res(T)\n",
        "\n",
        "print(0)\n"
      ],
      "metadata": {
        "colab": {
          "base_uri": "https://localhost:8080/"
        },
        "id": "GdjU91TVtACq",
        "outputId": "0e3c2aa1-ea58-4eb3-c4b0-a92155604ecb"
      },
      "execution_count": 30,
      "outputs": [
        {
          "name": "stdout",
          "output_type": "stream",
          "text": [
            "A\n",
            "BABA\n"
          ]
        }
      ]
    },
    {
      "cell_type": "markdown",
      "source": [
        "---"
      ],
      "metadata": {
        "id": "nlzHEDIh0UCf"
      }
    },
    {
      "cell_type": "markdown",
      "source": [
        "### HackerRank"
      ],
      "metadata": {
        "id": "h8lCJjFs04ms"
      }
    },
    {
      "cell_type": "markdown",
      "source": [
        "### sWAP cASE"
      ],
      "metadata": {
        "id": "zDGnRf6J07Cw"
      }
    },
    {
      "cell_type": "code",
      "source": [
        "def swap_case(s):\n",
        "    res = ''\n",
        "    for c in s:\n",
        "        if c.isupper():\n",
        "            res += c.lower()\n",
        "        else:\n",
        "            res += c.upper()\n",
        "\n",
        "    return res\n",
        "\n",
        "if __name__ == '__main__':\n",
        "    s = input()\n",
        "    result = swap_case(s)\n",
        "    print(result)"
      ],
      "metadata": {
        "id": "U2Pqsiju06hk"
      },
      "execution_count": null,
      "outputs": []
    }
  ]
}