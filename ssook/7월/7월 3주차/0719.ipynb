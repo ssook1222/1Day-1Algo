{
  "nbformat": 4,
  "nbformat_minor": 0,
  "metadata": {
    "colab": {
      "provenance": [],
      "authorship_tag": "ABX9TyORDP2aDyVpNlZw+2NV+VKG",
      "include_colab_link": true
    },
    "kernelspec": {
      "name": "python3",
      "display_name": "Python 3"
    },
    "language_info": {
      "name": "python"
    }
  },
  "cells": [
    {
      "cell_type": "markdown",
      "metadata": {
        "id": "view-in-github",
        "colab_type": "text"
      },
      "source": [
        "<a href=\"https://colab.research.google.com/github/ssook1222/1Day-1Algo/blob/master/ssook/7%EC%9B%94/7%EC%9B%94%203%EC%A3%BC%EC%B0%A8/0719.ipynb\" target=\"_parent\"><img src=\"https://colab.research.google.com/assets/colab-badge.svg\" alt=\"Open In Colab\"/></a>"
      ]
    },
    {
      "cell_type": "markdown",
      "source": [
        "## BoJ"
      ],
      "metadata": {
        "id": "oxuHyK6YyF6T"
      }
    },
    {
      "cell_type": "markdown",
      "source": [
        "### 11966"
      ],
      "metadata": {
        "id": "dnGzXP4xyN4y"
      }
    },
    {
      "cell_type": "code",
      "execution_count": 15,
      "metadata": {
        "id": "4udjJVr6yDik",
        "colab": {
          "base_uri": "https://localhost:8080/"
        },
        "outputId": "0db69b5b-8b01-44d0-d938-db9e7b032ed5"
      },
      "outputs": [
        {
          "output_type": "stream",
          "name": "stdout",
          "text": [
            "3\n",
            "0\n"
          ]
        }
      ],
      "source": [
        "import math\n",
        "\n",
        "n = int(input())\n",
        "\n",
        "num_list = []\n",
        "\n",
        "for i in range(31):\n",
        "  num_list.append(2**i)\n",
        "\n",
        "if n in num_list:\n",
        "  print(1)\n",
        "else:\n",
        "  print(0)"
      ]
    },
    {
      "cell_type": "markdown",
      "source": [
        "### 14729"
      ],
      "metadata": {
        "id": "TTruhRn-yTR2"
      }
    },
    {
      "cell_type": "code",
      "source": [
        "import sys\n",
        "\n",
        "n = int(sys.stdin.readline().rstrip())\n",
        "score = []\n",
        "\n",
        "for i in range(n):\n",
        "  score.append(float(sys.stdin.readline().rstrip()))\n",
        "\n",
        "score.sort()\n",
        "\n",
        "for i in range(7):\n",
        "  print(f\"{score[i]:.3f}\")"
      ],
      "metadata": {
        "id": "vCvlPOaWyTg2",
        "colab": {
          "base_uri": "https://localhost:8080/"
        },
        "outputId": "c267933c-b65d-49ca-a9f0-6954ef31d388"
      },
      "execution_count": 19,
      "outputs": [
        {
          "output_type": "stream",
          "name": "stdout",
          "text": [
            "8\n",
            "20.000\n",
            "70.000\n",
            "50.000\n",
            "30.000\n",
            "70.000\n",
            "30.000\n",
            "60.000\n",
            "70.000\n",
            "20.000\n",
            "30.000\n",
            "30.000\n",
            "50.000\n",
            "60.000\n",
            "70.000\n",
            "70.000\n"
          ]
        }
      ]
    },
    {
      "cell_type": "markdown",
      "source": [
        "---"
      ],
      "metadata": {
        "id": "JPvkhCrZyT6o"
      }
    },
    {
      "cell_type": "markdown",
      "source": [
        "## HackerRank"
      ],
      "metadata": {
        "id": "cUgYBw0uyVbT"
      }
    },
    {
      "cell_type": "markdown",
      "source": [
        "### Mutations"
      ],
      "metadata": {
        "id": "FhqVP0HEyVDP"
      }
    },
    {
      "cell_type": "code",
      "source": [
        "def mutate_string(string, position, character):\n",
        "    res = ''\n",
        "    raw = list(string)\n",
        "    raw[position] = character\n",
        "\n",
        "    for c in raw:\n",
        "        res += c\n",
        "\n",
        "    return res\n",
        "\n",
        "if __name__ == '__main__':\n",
        "    s = input()\n",
        "    i, c = input().split()\n",
        "    s_new = mutate_string(s, int(i), c)\n",
        "    print(s_new)"
      ],
      "metadata": {
        "id": "afhFF-HjyUrt"
      },
      "execution_count": null,
      "outputs": []
    }
  ]
}