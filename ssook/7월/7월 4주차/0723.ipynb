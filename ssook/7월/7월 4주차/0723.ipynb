{
  "nbformat": 4,
  "nbformat_minor": 0,
  "metadata": {
    "colab": {
      "provenance": [],
      "authorship_tag": "ABX9TyPoiqbR/+ToruoG8kLTvhyX",
      "include_colab_link": true
    },
    "kernelspec": {
      "name": "python3",
      "display_name": "Python 3"
    },
    "language_info": {
      "name": "python"
    }
  },
  "cells": [
    {
      "cell_type": "markdown",
      "metadata": {
        "id": "view-in-github",
        "colab_type": "text"
      },
      "source": [
        "<a href=\"https://colab.research.google.com/github/ssook1222/1Day-1Algo/blob/master/ssook/7%EC%9B%94/7%EC%9B%94%204%EC%A3%BC%EC%B0%A8/0723.ipynb\" target=\"_parent\"><img src=\"https://colab.research.google.com/assets/colab-badge.svg\" alt=\"Open In Colab\"/></a>"
      ]
    },
    {
      "cell_type": "markdown",
      "source": [
        "## BoJ"
      ],
      "metadata": {
        "id": "InNfsV5QnHlo"
      }
    },
    {
      "cell_type": "markdown",
      "source": [
        "### 13752"
      ],
      "metadata": {
        "id": "RNKLvXpMnWJI"
      }
    },
    {
      "cell_type": "code",
      "execution_count": 1,
      "metadata": {
        "colab": {
          "base_uri": "https://localhost:8080/"
        },
        "id": "TGMyvdZjnGNg",
        "outputId": "08cd246c-30c7-4165-da22-714377e51a78"
      },
      "outputs": [
        {
          "output_type": "stream",
          "name": "stdout",
          "text": [
            "5\n",
            "1\n",
            "3\n",
            "=\n",
            "===\n",
            "4\n",
            "====\n",
            "6\n",
            "======\n",
            "2\n",
            "==\n"
          ]
        }
      ],
      "source": [
        "k = int(input())\n",
        "\n",
        "for i in range(k):\n",
        "  n = int(input())\n",
        "  print(\"=\"*n)"
      ]
    },
    {
      "cell_type": "markdown",
      "source": [
        "### 23302"
      ],
      "metadata": {
        "id": "ifLsI-_Wnotn"
      }
    },
    {
      "cell_type": "code",
      "source": [
        "s = input()\n",
        "\n",
        "if \"d2\" in s or \"D2\" in s:\n",
        "  print(\"D2\")\n",
        "\n",
        "else:\n",
        "  print(\"unrated\")"
      ],
      "metadata": {
        "colab": {
          "base_uri": "https://localhost:8080/"
        },
        "id": "wXCChaOVno6x",
        "outputId": "7ee4baa4-8ab0-421a-d3ff-e7e6181911c1"
      },
      "execution_count": 3,
      "outputs": [
        {
          "output_type": "stream",
          "name": "stdout",
          "text": [
            "naver d3\n",
            "unrated\n"
          ]
        }
      ]
    },
    {
      "cell_type": "markdown",
      "source": [
        "### 22950"
      ],
      "metadata": {
        "id": "OyGgVgUSoMqv"
      }
    },
    {
      "cell_type": "code",
      "source": [
        "n = int(input())\n",
        "m = int(input(), 2)\n",
        "k = int(input())\n",
        "k = 2**k\n",
        "\n",
        "if m % k == 0:\n",
        "  print(\"YES\")\n",
        "\n",
        "else:\n",
        "  print(\"NO\")"
      ],
      "metadata": {
        "colab": {
          "base_uri": "https://localhost:8080/"
        },
        "id": "bnPI7GsEoNWg",
        "outputId": "7d801546-15a2-4c8f-e5c0-69154721a998"
      },
      "execution_count": 5,
      "outputs": [
        {
          "output_type": "stream",
          "name": "stdout",
          "text": [
            "5\n",
            "00110\n",
            "2\n",
            "NO\n"
          ]
        }
      ]
    }
  ]
}