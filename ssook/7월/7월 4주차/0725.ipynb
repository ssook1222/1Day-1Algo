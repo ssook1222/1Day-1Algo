{
  "nbformat": 4,
  "nbformat_minor": 0,
  "metadata": {
    "colab": {
      "provenance": [],
      "authorship_tag": "ABX9TyP5MNeGxioQl/W+nETLedGA",
      "include_colab_link": true
    },
    "kernelspec": {
      "name": "python3",
      "display_name": "Python 3"
    },
    "language_info": {
      "name": "python"
    }
  },
  "cells": [
    {
      "cell_type": "markdown",
      "metadata": {
        "id": "view-in-github",
        "colab_type": "text"
      },
      "source": [
        "<a href=\"https://colab.research.google.com/github/ssook1222/1Day-1Algo/blob/master/ssook/7%EC%9B%94/7%EC%9B%94%204%EC%A3%BC%EC%B0%A8/0725.ipynb\" target=\"_parent\"><img src=\"https://colab.research.google.com/assets/colab-badge.svg\" alt=\"Open In Colab\"/></a>"
      ]
    },
    {
      "cell_type": "markdown",
      "source": [
        "## BoJ"
      ],
      "metadata": {
        "id": "jV3KyzHe3z8W"
      }
    },
    {
      "cell_type": "markdown",
      "source": [
        "브론즈 뽀개기~"
      ],
      "metadata": {
        "id": "XVy5sDUj4xnj"
      }
    },
    {
      "cell_type": "markdown",
      "source": [
        "### 15727"
      ],
      "metadata": {
        "id": "v-0fBFS132OZ"
      }
    },
    {
      "cell_type": "code",
      "execution_count": 1,
      "metadata": {
        "id": "VncAIXCE3xdz",
        "colab": {
          "base_uri": "https://localhost:8080/"
        },
        "outputId": "19a018a1-ebaf-45db-a3aa-40f1230a47a5"
      },
      "outputs": [
        {
          "output_type": "stream",
          "name": "stdout",
          "text": [
            "12\n",
            "3\n"
          ]
        }
      ],
      "source": [
        "l = int(input())\n",
        "if l % 5 == 0:\n",
        "  print(l//5)\n",
        "else:\n",
        "  print(l//5+1)"
      ]
    },
    {
      "cell_type": "markdown",
      "source": [
        "### 2720"
      ],
      "metadata": {
        "id": "WnwQIiyt32gf"
      }
    },
    {
      "cell_type": "code",
      "source": [
        "t = int(input())\n",
        "\n",
        "for i in range(t):\n",
        "  c = int(input())\n",
        "  q,d,n,p = 0,0,0,0\n",
        "\n",
        "  while c > 0:\n",
        "    if c >= 25:\n",
        "      q = c // 25\n",
        "      c -= q*25\n",
        "    if 10 <= c < 25:\n",
        "      d = c // 10\n",
        "      c -= d*10\n",
        "    if 5 <= c < 10:\n",
        "      n = c // 5\n",
        "      c -= n*5\n",
        "    if 1 <= c < 5:\n",
        "      p = c // 1\n",
        "      c -= p*1\n",
        "\n",
        "  print(q, d, n, p)"
      ],
      "metadata": {
        "id": "7F30F2AI32vE",
        "colab": {
          "base_uri": "https://localhost:8080/"
        },
        "outputId": "41e45923-1b9c-4760-e8e7-0db98951ebbc"
      },
      "execution_count": 4,
      "outputs": [
        {
          "output_type": "stream",
          "name": "stdout",
          "text": [
            "3\n",
            "124\n",
            "4 2 0 4\n",
            "25\n",
            "1 0 0 0\n",
            "194\n",
            "7 1 1 4\n"
          ]
        }
      ]
    },
    {
      "cell_type": "markdown",
      "source": [
        "---"
      ],
      "metadata": {
        "id": "NfTpOhtD32-M"
      }
    },
    {
      "cell_type": "markdown",
      "source": [
        "## HackerRank"
      ],
      "metadata": {
        "id": "Uyo8L5qu34HJ"
      }
    },
    {
      "cell_type": "markdown",
      "source": [
        "### itertools.permutations()"
      ],
      "metadata": {
        "id": "gFttsTxh36W8"
      }
    },
    {
      "cell_type": "code",
      "source": [
        "import itertools\n",
        "\n",
        "text, num = map(str, input().split())\n",
        "num = int(num)\n",
        "text = list(text)\n",
        "text.sort()\n",
        "res = itertools.permutations(text, num)\n",
        "\n",
        "for i in res:\n",
        "    print(*i, sep='')"
      ],
      "metadata": {
        "id": "iLWWEO9o36nW"
      },
      "execution_count": null,
      "outputs": []
    }
  ]
}