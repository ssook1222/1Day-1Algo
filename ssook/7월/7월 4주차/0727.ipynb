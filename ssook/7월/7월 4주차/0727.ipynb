{
  "nbformat": 4,
  "nbformat_minor": 0,
  "metadata": {
    "colab": {
      "provenance": [],
      "authorship_tag": "ABX9TyNC0LTjyMHvOKkhtTOMCuNq",
      "include_colab_link": true
    },
    "kernelspec": {
      "name": "python3",
      "display_name": "Python 3"
    },
    "language_info": {
      "name": "python"
    }
  },
  "cells": [
    {
      "cell_type": "markdown",
      "metadata": {
        "id": "view-in-github",
        "colab_type": "text"
      },
      "source": [
        "<a href=\"https://colab.research.google.com/github/ssook1222/1Day-1Algo/blob/master/ssook/7%EC%9B%94/7%EC%9B%94%204%EC%A3%BC%EC%B0%A8/0727.ipynb\" target=\"_parent\"><img src=\"https://colab.research.google.com/assets/colab-badge.svg\" alt=\"Open In Colab\"/></a>"
      ]
    },
    {
      "cell_type": "markdown",
      "source": [
        "## BoJ"
      ],
      "metadata": {
        "id": "miQ2NY4rhNRf"
      }
    },
    {
      "cell_type": "markdown",
      "source": [
        "### 10170"
      ],
      "metadata": {
        "id": "z1U_pewahLwr"
      }
    },
    {
      "cell_type": "code",
      "execution_count": 1,
      "metadata": {
        "colab": {
          "base_uri": "https://localhost:8080/"
        },
        "id": "fDD7X7EkgyNq",
        "outputId": "6d8bd9f0-3ff9-4bbf-83c1-6ccdcf9f10c3"
      },
      "outputs": [
        {
          "output_type": "stream",
          "name": "stdout",
          "text": [
            "NFC West       W   L  T\n",
            "-----------------------\n",
            "Seattle        13  3  0\n",
            "San Francisco  12  4  0\n",
            "Arizona        10  6  0\n",
            "St. Louis      7   9  0\n",
            "\n",
            "NFC North      W   L  T\n",
            "-----------------------\n",
            "Green Bay      8   7  1\n",
            "Chicago        8   8  0\n",
            "Detroit        7   9  0\n",
            "Minnesota      5  10  1\n"
          ]
        }
      ],
      "source": [
        "print(\"NFC West       W   L  T\")\n",
        "print(\"-----------------------\")\n",
        "print(\"Seattle        13  3  0\")\n",
        "print(\"San Francisco  12  4  0\")\n",
        "print(\"Arizona        10  6  0\")\n",
        "print(\"St. Louis      7   9  0\")\n",
        "print(\"\")\n",
        "print(\"NFC North      W   L  T\")\n",
        "print(\"-----------------------\")\n",
        "print(\"Green Bay      8   7  1\")\n",
        "print(\"Chicago        8   8  0\")\n",
        "print(\"Detroit        7   9  0\")\n",
        "print(\"Minnesota      5  10  1\")"
      ]
    },
    {
      "cell_type": "markdown",
      "source": [
        "### 2960"
      ],
      "metadata": {
        "id": "rAwG-q6lhOpZ"
      }
    },
    {
      "cell_type": "code",
      "source": [
        "import sys\n",
        "\n",
        "n, k = map(int, sys.stdin.readline().rstrip().split(\" \"))\n",
        "\n",
        "prime = [True] * (n+1)\n",
        "\n",
        "cnt = 0\n",
        "\n",
        "for i in range(2, n+1):\n",
        "  for j in range(i, n+1, i):\n",
        "      if prime[j]:\n",
        "        prime[j] = False\n",
        "        cnt += 1\n",
        "\n",
        "        if cnt == k:\n",
        "          print(j)"
      ],
      "metadata": {
        "colab": {
          "base_uri": "https://localhost:8080/"
        },
        "id": "IYb-cqKNhPU2",
        "outputId": "d9c070a1-a86b-48dd-dfa5-092e40f654df"
      },
      "execution_count": 19,
      "outputs": [
        {
          "output_type": "stream",
          "name": "stdout",
          "text": [
            "7 3\n",
            "6\n"
          ]
        }
      ]
    },
    {
      "cell_type": "markdown",
      "source": [
        "---"
      ],
      "metadata": {
        "id": "vl5PA_TskqN6"
      }
    },
    {
      "cell_type": "markdown",
      "source": [
        "## HackerRank"
      ],
      "metadata": {
        "id": "RaSb1BookrY7"
      }
    },
    {
      "cell_type": "markdown",
      "source": [
        "### Exceptions"
      ],
      "metadata": {
        "id": "-t0dPFjmks03"
      }
    },
    {
      "cell_type": "code",
      "source": [
        "t = int(input())\n",
        "\n",
        "for i in range(t):\n",
        "\n",
        "    try:\n",
        "        a, b = map(int, input().split(\" \"))\n",
        "        print(a//b)\n",
        "\n",
        "    except Exception as e:\n",
        "        print(\"Error Code:\",e)"
      ],
      "metadata": {
        "id": "lyhrstVgktA0"
      },
      "execution_count": null,
      "outputs": []
    }
  ]
}