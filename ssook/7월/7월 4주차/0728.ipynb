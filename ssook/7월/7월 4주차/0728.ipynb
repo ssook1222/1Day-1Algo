{
  "nbformat": 4,
  "nbformat_minor": 0,
  "metadata": {
    "colab": {
      "provenance": [],
      "authorship_tag": "ABX9TyNZLjqhzVWyrLoBilrCgNVx",
      "include_colab_link": true
    },
    "kernelspec": {
      "name": "python3",
      "display_name": "Python 3"
    },
    "language_info": {
      "name": "python"
    }
  },
  "cells": [
    {
      "cell_type": "markdown",
      "metadata": {
        "id": "view-in-github",
        "colab_type": "text"
      },
      "source": [
        "<a href=\"https://colab.research.google.com/github/ssook1222/1Day-1Algo/blob/master/ssook/7%EC%9B%94/7%EC%9B%94%204%EC%A3%BC%EC%B0%A8/0728.ipynb\" target=\"_parent\"><img src=\"https://colab.research.google.com/assets/colab-badge.svg\" alt=\"Open In Colab\"/></a>"
      ]
    },
    {
      "cell_type": "markdown",
      "source": [
        "## BoJ"
      ],
      "metadata": {
        "id": "UHzdLdV1VeSv"
      }
    },
    {
      "cell_type": "markdown",
      "source": [
        "### 16430"
      ],
      "metadata": {
        "id": "2MLf37c8VkQg"
      }
    },
    {
      "cell_type": "code",
      "execution_count": 3,
      "metadata": {
        "id": "lvmb9KI-VX2Q",
        "colab": {
          "base_uri": "https://localhost:8080/"
        },
        "outputId": "7f8a2f16-7fcb-445e-eb38-d1c42b51b74f"
      },
      "outputs": [
        {
          "output_type": "stream",
          "name": "stdout",
          "text": [
            "5 8\n",
            "3 8\n"
          ]
        }
      ],
      "source": [
        "a, b = map(int, input().split(\" \"))\n",
        "\n",
        "print((b-a), max(a,b))"
      ]
    },
    {
      "cell_type": "markdown",
      "source": [
        "### 3448"
      ],
      "metadata": {
        "id": "t-1rV5tQWZph"
      }
    },
    {
      "cell_type": "code",
      "source": [
        "t = int(input())\n",
        "\n",
        "for i in range(t):\n",
        "\n",
        "  a = 0\n",
        "  r = 0\n",
        "\n",
        "  while True:\n",
        "    line = input()\n",
        "\n",
        "    if line == '':\n",
        "      temp = round(100*(r/a), 1)\n",
        "\n",
        "      if temp % 1 == 0:\n",
        "        temp = int(temp)\n",
        "      print(\"Efficiency ratio is {}%.\" .format(temp))\n",
        "      break\n",
        "\n",
        "    temp = len(line)\n",
        "    a += temp\n",
        "    r += temp - line.count('#')"
      ],
      "metadata": {
        "id": "Azd6IqeqWZ5s",
        "colab": {
          "base_uri": "https://localhost:8080/"
        },
        "outputId": "ea32d1e0-8004-4f8c-e6ae-6a059ee723e4"
      },
      "execution_count": 17,
      "outputs": [
        {
          "output_type": "stream",
          "name": "stdout",
          "text": [
            "3\n",
            "None.\n",
            "\n",
            "Efficiency ratio is 100%.\n",
            "Pr#nt ex##tly one##ine for#eac# te#t c#se.\n",
            "\n",
            "Efficiency ratio is 78.6%.\n",
            "Pr#nt ex##tly one##ine for#eac# te#t c#se.\n",
            "N test ca#es. The number\n",
            "of th#m (N) is given on\n",
            "the first #ine\n",
            "of the#input#file.\n",
            "\n",
            "Efficiency ratio is 88.4%.\n"
          ]
        }
      ]
    },
    {
      "cell_type": "markdown",
      "source": [
        "---"
      ],
      "metadata": {
        "id": "QCrAXe-oWaR7"
      }
    },
    {
      "cell_type": "markdown",
      "source": [
        "## HackerRank"
      ],
      "metadata": {
        "id": "FLj3ZPK0Wf0I"
      }
    },
    {
      "cell_type": "markdown",
      "source": [
        "### itertools.product()"
      ],
      "metadata": {
        "id": "rESqLnslWjUp"
      }
    },
    {
      "cell_type": "code",
      "source": [
        "from itertools import product\n",
        "\n",
        "a = list(map(int, input().split(\" \")))\n",
        "b = list(map(int, input().split(\" \")))\n",
        "\n",
        "res = product(a, b)\n",
        "\n",
        "print(*res)"
      ],
      "metadata": {
        "id": "P9LGd7-zWlfh"
      },
      "execution_count": null,
      "outputs": []
    }
  ]
}