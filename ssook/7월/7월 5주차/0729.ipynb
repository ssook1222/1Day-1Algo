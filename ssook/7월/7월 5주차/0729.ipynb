{
  "nbformat": 4,
  "nbformat_minor": 0,
  "metadata": {
    "colab": {
      "provenance": [],
      "authorship_tag": "ABX9TyMrA8coBCpEtIvph2cYEiZ7",
      "include_colab_link": true
    },
    "kernelspec": {
      "name": "python3",
      "display_name": "Python 3"
    },
    "language_info": {
      "name": "python"
    }
  },
  "cells": [
    {
      "cell_type": "markdown",
      "metadata": {
        "id": "view-in-github",
        "colab_type": "text"
      },
      "source": [
        "<a href=\"https://colab.research.google.com/github/ssook1222/1Day-1Algo/blob/master/ssook/7%EC%9B%94/7%EC%9B%94%205%EC%A3%BC%EC%B0%A8/0729.ipynb\" target=\"_parent\"><img src=\"https://colab.research.google.com/assets/colab-badge.svg\" alt=\"Open In Colab\"/></a>"
      ]
    },
    {
      "cell_type": "markdown",
      "source": [
        "## BoJ"
      ],
      "metadata": {
        "id": "cS7bw6iHAO-V"
      }
    },
    {
      "cell_type": "markdown",
      "source": [
        "### 23746"
      ],
      "metadata": {
        "id": "YKKp7EFRAMJU"
      }
    },
    {
      "cell_type": "code",
      "execution_count": 4,
      "metadata": {
        "colab": {
          "base_uri": "https://localhost:8080/"
        },
        "id": "D_FKEGXg9v-8",
        "outputId": "70ed2d14-ecab-4af5-8e09-1bb4fe102364"
      },
      "outputs": [
        {
          "output_type": "stream",
          "name": "stdout",
          "text": [
            "3\n",
            "aa A\n",
            "bba B\n",
            "c C\n",
            "ABAC\n",
            "4 6\n",
            "aabbaaac\n",
            "baa\n"
          ]
        }
      ],
      "source": [
        "n = int(input())\n",
        "pattern = {}\n",
        "\n",
        "for i in range(n):\n",
        "  value, key = map(str, input().split(\" \"))\n",
        "  pattern[key] = value\n",
        "\n",
        "real = input()\n",
        "for c in real:\n",
        "  t = pattern[c]\n",
        "  real = real.replace(c, t)\n",
        "\n",
        "a, b = map(int, input().split(\" \"))\n",
        "print(real[a-1:b])"
      ]
    },
    {
      "cell_type": "markdown",
      "source": [
        "### 2822"
      ],
      "metadata": {
        "id": "ENBGP806AQUG"
      }
    },
    {
      "cell_type": "code",
      "source": [
        "score = {}\n",
        "num = []\n",
        "ans = 0\n",
        "\n",
        "for i in range(8):\n",
        "  score[i+1] = int(input())\n",
        "\n",
        "score = sorted(score.items(), key = lambda x:-x[1])\n",
        "\n",
        "for i in range(5):\n",
        "    num.append(score[i][0])\n",
        "    ans += score[i][1]\n",
        "\n",
        "num.sort()\n",
        "\n",
        "print(ans)\n",
        "print(*num)"
      ],
      "metadata": {
        "colab": {
          "base_uri": "https://localhost:8080/"
        },
        "id": "aWjzwrqqAQrq",
        "outputId": "8ff68a73-36d2-4d46-d05a-0a8ca48d8837"
      },
      "execution_count": 8,
      "outputs": [
        {
          "output_type": "stream",
          "name": "stdout",
          "text": [
            "20\n",
            "30\n",
            "50\n",
            "48\n",
            "33\n",
            "66\n",
            "0\n",
            "64\n",
            "{1: 20, 2: 30, 3: 50, 4: 48, 5: 33, 6: 66, 7: 0, 8: 64}\n"
          ]
        }
      ]
    },
    {
      "cell_type": "markdown",
      "source": [
        "---"
      ],
      "metadata": {
        "id": "o3DQqnQwARAS"
      }
    },
    {
      "cell_type": "markdown",
      "source": [
        "### HackerRank"
      ],
      "metadata": {
        "id": "0KvI92ofARp6"
      }
    },
    {
      "cell_type": "markdown",
      "source": [
        "### Calendar Module"
      ],
      "metadata": {
        "id": "0CB_F4KoCpjO"
      }
    },
    {
      "cell_type": "code",
      "source": [
        "import calendar\n",
        "\n",
        "month, day, year = map(int, input().split(\" \"))\n",
        "\n",
        "print(calendar.day_name[calendar.weekday(year, month, day)].upper())"
      ],
      "metadata": {
        "id": "zSs7kC7gAR4s"
      },
      "execution_count": 8,
      "outputs": []
    }
  ]
}