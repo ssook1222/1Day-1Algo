{
  "nbformat": 4,
  "nbformat_minor": 0,
  "metadata": {
    "colab": {
      "provenance": [],
      "authorship_tag": "ABX9TyPyoVc9MSJrGwgjzvQNgdar",
      "include_colab_link": true
    },
    "kernelspec": {
      "name": "python3",
      "display_name": "Python 3"
    },
    "language_info": {
      "name": "python"
    }
  },
  "cells": [
    {
      "cell_type": "markdown",
      "metadata": {
        "id": "view-in-github",
        "colab_type": "text"
      },
      "source": [
        "<a href=\"https://colab.research.google.com/github/ssook1222/1Day-1Algo/blob/master/ssook/7%EC%9B%94/7%EC%9B%94%205%EC%A3%BC%EC%B0%A8/0730.ipynb\" target=\"_parent\"><img src=\"https://colab.research.google.com/assets/colab-badge.svg\" alt=\"Open In Colab\"/></a>"
      ]
    },
    {
      "cell_type": "markdown",
      "source": [
        "## BoJ"
      ],
      "metadata": {
        "id": "RHVsKLKx7cph"
      }
    },
    {
      "cell_type": "markdown",
      "source": [
        "### 2846"
      ],
      "metadata": {
        "id": "SmWQ78SQ7eP2"
      }
    },
    {
      "cell_type": "code",
      "execution_count": 3,
      "metadata": {
        "colab": {
          "base_uri": "https://localhost:8080/"
        },
        "id": "qdUyjl_t5RWb",
        "outputId": "ee853027-4d78-4431-a19e-b61ac5e0e578"
      },
      "outputs": [
        {
          "output_type": "stream",
          "name": "stdout",
          "text": [
            "8\n",
            "12 20 1 3 4 4 11 1\n",
            "8\n"
          ]
        }
      ],
      "source": [
        "n = int(input())\n",
        "num = list(map(int, input().split()))\n",
        "\n",
        "max_increase = 0\n",
        "increase = 0\n",
        "for i in range(1, n):\n",
        "    if num[i] > num[i - 1]:\n",
        "        increase += num[i] - num[i - 1]\n",
        "    else:\n",
        "        max_increase = max(max_increase, increase)\n",
        "        increase = 0\n",
        "\n",
        "max_increase = max(max_increase, increase)\n",
        "\n",
        "print(max_increase)"
      ]
    },
    {
      "cell_type": "markdown",
      "source": [
        "### 4659"
      ],
      "metadata": {
        "id": "oDyDGE0C7ieh"
      }
    },
    {
      "cell_type": "code",
      "source": [
        "import sys\n",
        "\n",
        "while True:\n",
        "    vowel = {'a', 'e', 'i', 'o', 'u'}\n",
        "    ori = sys.stdin.readline().rstrip()\n",
        "\n",
        "    if ori == 'end':\n",
        "        break\n",
        "\n",
        "    pw = list(ori)\n",
        "\n",
        "    v_cnt = 0\n",
        "    c_cnt = 0\n",
        "    prev_char = ''\n",
        "\n",
        "    v_check = False\n",
        "    check = True\n",
        "\n",
        "    for i in range(len(pw)):\n",
        "        if i > 0:\n",
        "            if pw[i] == pw[i - 1] and pw[i] not in {'e', 'o'}:\n",
        "                check = False\n",
        "                break\n",
        "\n",
        "        if pw[i] not in vowel:\n",
        "            c_cnt += 1\n",
        "            v_cnt = 0\n",
        "        else:\n",
        "            v_check = True\n",
        "            v_cnt += 1\n",
        "            c_cnt = 0\n",
        "\n",
        "        if v_cnt == 3 or c_cnt == 3:\n",
        "            check = False\n",
        "            break\n",
        "\n",
        "    if check & v_check:\n",
        "        print(\"<%s> is acceptable.\" % ori)\n",
        "    else:\n",
        "        print(\"<%s> is not acceptable.\" % ori)\n"
      ],
      "metadata": {
        "id": "lMMOxJQm7iyb"
      },
      "execution_count": null,
      "outputs": []
    },
    {
      "cell_type": "markdown",
      "source": [
        "---"
      ],
      "metadata": {
        "id": "NH0s3AzvB3Q4"
      }
    },
    {
      "cell_type": "markdown",
      "source": [
        "\n",
        "## HackerRank"
      ],
      "metadata": {
        "id": "bHZkVejyB35H"
      }
    },
    {
      "cell_type": "markdown",
      "source": [
        "### itertools.combinations()"
      ],
      "metadata": {
        "id": "Bkk7lv9rC9O4"
      }
    },
    {
      "cell_type": "code",
      "source": [
        "import itertools\n",
        "string, num = map(str, input().split(\" \"))\n",
        "\n",
        "ori = list(string)\n",
        "ori.sort()\n",
        "\n",
        "num = int(num)\n",
        "\n",
        "for i in range(1, num+1):\n",
        "    res = itertools.combinations(ori, i)\n",
        "\n",
        "    for j in res:\n",
        "        print(*j, sep='')"
      ],
      "metadata": {
        "id": "9iEHMBtNB4HV"
      },
      "execution_count": null,
      "outputs": []
    }
  ]
}