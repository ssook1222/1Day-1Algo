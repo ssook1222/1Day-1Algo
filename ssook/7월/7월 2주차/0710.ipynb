{
  "nbformat": 4,
  "nbformat_minor": 0,
  "metadata": {
    "colab": {
      "provenance": [],
      "authorship_tag": "ABX9TyMG0mSUV2iAwUMxQ26rmKFg",
      "include_colab_link": true
    },
    "kernelspec": {
      "name": "python3",
      "display_name": "Python 3"
    },
    "language_info": {
      "name": "python"
    }
  },
  "cells": [
    {
      "cell_type": "markdown",
      "metadata": {
        "id": "view-in-github",
        "colab_type": "text"
      },
      "source": [
        "<a href=\"https://colab.research.google.com/github/ssook1222/1Day-1Algo/blob/master/ssook/7%EC%9B%94/7%EC%9B%94%202%EC%A3%BC%EC%B0%A8/0710.ipynb\" target=\"_parent\"><img src=\"https://colab.research.google.com/assets/colab-badge.svg\" alt=\"Open In Colab\"/></a>"
      ]
    },
    {
      "cell_type": "markdown",
      "source": [
        "## BoJ"
      ],
      "metadata": {
        "id": "yL28U97gzG62"
      }
    },
    {
      "cell_type": "markdown",
      "source": [
        "### 4740"
      ],
      "metadata": {
        "id": "9lkcVYszzI3C"
      }
    },
    {
      "cell_type": "code",
      "execution_count": null,
      "metadata": {
        "id": "GHaoNZd0zC9L",
        "colab": {
          "base_uri": "https://localhost:8080/"
        },
        "outputId": "0aa36079-8135-4e9e-8700-23ed543e5605"
      },
      "outputs": [
        {
          "name": "stdout",
          "output_type": "stream",
          "text": [
            "AMBULANCE\n",
            "ECNALUBMA\n",
            "Evian\n",
            "naivE\n",
            "mada m'i ,madam\n",
            "madam, i'm adam\n",
            "***\n"
          ]
        }
      ],
      "source": [
        "while True:\n",
        "  s = input()\n",
        "  if s == '***':\n",
        "    break\n",
        "  print(s[::-1])"
      ]
    },
    {
      "cell_type": "markdown",
      "source": [
        "### 5347"
      ],
      "metadata": {
        "id": "6RtH5wzizkkt"
      }
    },
    {
      "cell_type": "code",
      "source": [
        "import math\n",
        "\n",
        "t = int(input())\n",
        "\n",
        "for i in range(t) :\n",
        "  n, m = map(int, input().split(\" \"))\n",
        "  print(math.lcm(n, m))"
      ],
      "metadata": {
        "id": "eA_SdXD_zzSl",
        "colab": {
          "base_uri": "https://localhost:8080/"
        },
        "outputId": "78320773-0cf8-4f0b-d074-265639e8ff86"
      },
      "execution_count": null,
      "outputs": [
        {
          "output_type": "stream",
          "name": "stdout",
          "text": [
            "3\n",
            "15 21\n",
            "105\n",
            "33 22\n",
            "66\n",
            "9 10\n",
            "90\n"
          ]
        }
      ]
    },
    {
      "cell_type": "markdown",
      "source": [
        "---"
      ],
      "metadata": {
        "id": "0q7NYkPAzzii"
      }
    },
    {
      "cell_type": "markdown",
      "source": [
        "## Leetcode"
      ],
      "metadata": {
        "id": "5hceMydK0Dob"
      }
    },
    {
      "cell_type": "markdown",
      "source": [
        "### 20. Valid Parentheses"
      ],
      "metadata": {
        "id": "MQA3yU_n0GN9"
      }
    },
    {
      "cell_type": "code",
      "source": [
        "class Solution(object):\n",
        "    def isValid(self, s):\n",
        "        stack = []\n",
        "        open_brackets = {'(', '[', '{'}\n",
        "        close_brackets = {')', ']', '}'}\n",
        "        bracket_pairs = {'(': ')', '[': ']', '{': '}'}\n",
        "\n",
        "        for i in s:\n",
        "            if i in open_brackets:\n",
        "                stack.append(i)\n",
        "            elif i in close_brackets:\n",
        "                if not stack or bracket_pairs[stack.pop()] != i:\n",
        "                    return False\n",
        "\n",
        "        return not stack"
      ],
      "metadata": {
        "id": "7-y60ZDd0F-i"
      },
      "execution_count": null,
      "outputs": []
    }
  ]
}