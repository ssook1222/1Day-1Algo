{
  "nbformat": 4,
  "nbformat_minor": 0,
  "metadata": {
    "colab": {
      "provenance": [],
      "authorship_tag": "ABX9TyMsOxhKE3WnZshNAK0DeVRy",
      "include_colab_link": true
    },
    "kernelspec": {
      "name": "python3",
      "display_name": "Python 3"
    },
    "language_info": {
      "name": "python"
    }
  },
  "cells": [
    {
      "cell_type": "markdown",
      "metadata": {
        "id": "view-in-github",
        "colab_type": "text"
      },
      "source": [
        "<a href=\"https://colab.research.google.com/github/ssook1222/1Day-1Algo/blob/master/ssook/7%EC%9B%94/7%EC%9B%94%202%EC%A3%BC%EC%B0%A8/0711.ipynb\" target=\"_parent\"><img src=\"https://colab.research.google.com/assets/colab-badge.svg\" alt=\"Open In Colab\"/></a>"
      ]
    },
    {
      "cell_type": "markdown",
      "source": [
        "## BoJ"
      ],
      "metadata": {
        "id": "sxk0cZrKwOVe"
      }
    },
    {
      "cell_type": "markdown",
      "source": [
        "### 21312"
      ],
      "metadata": {
        "id": "YJwEuBokwWSR"
      }
    },
    {
      "cell_type": "code",
      "execution_count": 4,
      "metadata": {
        "id": "Tkrla6tPwLAM",
        "colab": {
          "base_uri": "https://localhost:8080/"
        },
        "outputId": "56b149b9-b2da-4b03-a95a-951de7e5cdae"
      },
      "outputs": [
        {
          "output_type": "stream",
          "name": "stdout",
          "text": [
            "22 44 88\n",
            "85184\n"
          ]
        }
      ],
      "source": [
        "a, b, c = map(int, input().split(\" \"))\n",
        "\n",
        "odd = []\n",
        "even = []\n",
        "\n",
        "res = 1\n",
        "\n",
        "if a % 2 == 1 :\n",
        "  odd.append(a)\n",
        "\n",
        "if b % 2 == 1:\n",
        "  odd.append(b)\n",
        "\n",
        "if c % 2 == 1:\n",
        "  odd.append(c)\n",
        "\n",
        "if a % 2 == 0:\n",
        "  even.append(a)\n",
        "\n",
        "if b % 2 == 0:\n",
        "  even.append(b)\n",
        "\n",
        "if c % 2 == 0:\n",
        "  even.append(c)\n",
        "\n",
        "if odd:\n",
        "  for i in odd:\n",
        "    res *= i\n",
        "\n",
        "else:\n",
        "  for i in even :\n",
        "    res *= i\n",
        "\n",
        "print(res)"
      ]
    },
    {
      "cell_type": "markdown",
      "source": [
        "### 16172"
      ],
      "metadata": {
        "id": "epSb2_Nqw5ST"
      }
    },
    {
      "cell_type": "code",
      "source": [
        "import sys\n",
        "\n",
        "s = sys.stdin.readline().rstrip()\n",
        "k = sys.stdin.readline().rstrip()\n",
        "\n",
        "for i in range(10):\n",
        "    s = s.replace(str(i), \"\")\n",
        "\n",
        "if k in s:\n",
        "  print(1)\n",
        "else:\n",
        "  print(0)\n"
      ],
      "metadata": {
        "id": "YgyDOIYmw7hP",
        "colab": {
          "base_uri": "https://localhost:8080/"
        },
        "outputId": "5c51a4df-4c33-4437-85b6-3ac4655b7ea5"
      },
      "execution_count": 5,
      "outputs": [
        {
          "output_type": "stream",
          "name": "stdout",
          "text": [
            "1q2w3e4r5t6y\n",
            "qwerty\n",
            "1\n"
          ]
        }
      ]
    },
    {
      "cell_type": "markdown",
      "source": [
        "----"
      ],
      "metadata": {
        "id": "48WBLflxw74z"
      }
    },
    {
      "cell_type": "markdown",
      "source": [
        "## Hacker Rank"
      ],
      "metadata": {
        "id": "gxydfdypxPt9"
      }
    },
    {
      "cell_type": "markdown",
      "source": [
        "### Python If-Else"
      ],
      "metadata": {
        "id": "0sQl0UgOxTVl"
      }
    },
    {
      "cell_type": "code",
      "source": [
        "#!/bin/python3\n",
        "\n",
        "import math\n",
        "import os\n",
        "import random\n",
        "import re\n",
        "import sys\n",
        "\n",
        "if __name__ == '__main__':\n",
        "    n = int(input().strip())\n",
        "\n",
        "    if n % 2 == 1:\n",
        "        print(\"Weird\")\n",
        "\n",
        "    elif n % 2 == 0:\n",
        "        if 2 <= n <= 5:\n",
        "            print(\"Not Weird\")\n",
        "\n",
        "        if 6 <= n <= 20:\n",
        "            print(\"Weird\")\n",
        "\n",
        "        if n > 20 :\n",
        "            print(\"Not Weird\")\n"
      ],
      "metadata": {
        "id": "lMVE7XhgxTkf"
      },
      "execution_count": null,
      "outputs": []
    }
  ]
}