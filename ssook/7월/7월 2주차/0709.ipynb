{
  "nbformat": 4,
  "nbformat_minor": 0,
  "metadata": {
    "colab": {
      "provenance": [],
      "authorship_tag": "ABX9TyPR1c+zTbWpfffWHiqy/LMQ",
      "include_colab_link": true
    },
    "kernelspec": {
      "name": "python3",
      "display_name": "Python 3"
    },
    "language_info": {
      "name": "python"
    }
  },
  "cells": [
    {
      "cell_type": "markdown",
      "metadata": {
        "id": "view-in-github",
        "colab_type": "text"
      },
      "source": [
        "<a href=\"https://colab.research.google.com/github/ssook1222/1Day-1Algo/blob/master/ssook/7%EC%9B%94/7%EC%9B%94%202%EC%A3%BC%EC%B0%A8/0709.ipynb\" target=\"_parent\"><img src=\"https://colab.research.google.com/assets/colab-badge.svg\" alt=\"Open In Colab\"/></a>"
      ]
    },
    {
      "cell_type": "markdown",
      "source": [
        "## BoJ"
      ],
      "metadata": {
        "id": "9XNaIvM1wMhp"
      }
    },
    {
      "cell_type": "markdown",
      "source": [
        "### 1753"
      ],
      "metadata": {
        "id": "7crLd20XwOrI"
      }
    },
    {
      "cell_type": "code",
      "execution_count": 2,
      "metadata": {
        "colab": {
          "base_uri": "https://localhost:8080/"
        },
        "id": "e8M1bILpvy_c",
        "outputId": "f8502ecb-0d9d-49a9-e95a-2995b83da583"
      },
      "outputs": [
        {
          "output_type": "stream",
          "name": "stdout",
          "text": [
            "5 6\n",
            "1\n",
            "5 1 1\n",
            "1 2 2\n",
            "1 3 3\n",
            "2 3 4\n",
            "2 4 5\n",
            "3 4 6\n",
            "0\n",
            "2\n",
            "3\n",
            "7\n",
            "1000000000.0\n",
            "1000000000.0\n"
          ]
        }
      ],
      "source": [
        "import heapq\n",
        "import sys\n",
        "\n",
        "V, E = map(int, sys.stdin.readline().rstrip().split())\n",
        "K = int(sys.stdin.readline().rstrip())\n",
        "\n",
        "graph = [[] * (V+1) for _ in range(V + 1)]\n",
        "distances = [int(1e9)] * (len(graph)+1)\n",
        "\n",
        "for _ in range(E):\n",
        "    u, v, w = map(int, sys.stdin.readline().rstrip().split())\n",
        "    graph[u].append((v, w))\n",
        "\n",
        "def dijkstra(start):\n",
        "  q = []\n",
        "\n",
        "  heapq.heappush(q, (0, start))\n",
        "  distances[start] = 0\n",
        "\n",
        "  while q:\n",
        "    cur_dist, cur_node = heapq.heappop(q)\n",
        "\n",
        "    if cur_dist > distances[cur_node]:\n",
        "      continue\n",
        "\n",
        "    for adjacent_node in graph[cur_node]:\n",
        "        distance = cur_dist + adjacent_node[1]\n",
        "\n",
        "        if distance < distances[adjacent_node[0]]:\n",
        "          distances[adjacent_node[0]] = distance\n",
        "          heapq.heappush(q, (distance, adjacent_node[0]))\n",
        "\n",
        "dijkstra(K)\n",
        "\n",
        "for i in range(1, V+1):\n",
        "    if distances[i] == int(1e9):\n",
        "        print(\"INF\")\n",
        "    else:\n",
        "        print(distances[i])"
      ]
    },
    {
      "cell_type": "markdown",
      "source": [
        "### 다익스트라 알고리즘\n",
        "주어진 시작 정점에서 다른 모든 정점까지의 최단 경로를 구하는 알고리즘,    \n",
        "간선의 가중치가 10 이하의 자연수이므로 우선순위 큐를 사용하여 구현\n",
        "\n",
        "---\n",
        "\n",
        "### 다익스트라 알고리즘 동작과정\n",
        "\n",
        "1. 시작 정점을 기준으로 거리를 저장하는 배열을 초기화합니다. 시작 정점은 0으로, 다른 정점들은 무한대로 초기화합니다.    \n",
        "2. 시작 정점을 우선순위 큐에 삽입합니다.\n",
        "3. 우선순위 큐에서 가장 거리가 짧은 정점을 선택합니다.\n",
        "4. 선택한 정점과 연결된 정점들을 탐색하면서 거리를 갱신합니다. 만약 새로운 거리가 기존 거리보다 작다면, 거리를 갱신하고 해당 정점을 우선순위 큐에 삽입합니다.\n",
        "5. 우선순위 큐가 빌 때까지 3번과 4번 단계를 반복합니다.\n",
        "\n",
        "---\n",
        "\n",
        "시작 정점으로부터의 최단 경로를 저장하는 리스트를 만들고,    \n",
        "우선순위 큐를 사용하여 방문할 정점을 선택(루프문 시작 전 큐에 방문할 정점을 넣음)\n",
        "한 다음     \n",
        "\n",
        "큐가 있는 동안 루프를 도는데, 시작할 때 현재 거리와 노드를 뽑아서 우선순위 큐에 넣은 후\n",
        "이미 더 짧은 경로가 존재하는 경우 pass하고, 그 외에는\n",
        "현재 정점과 연결된 정점들을 탐색한다.        \n",
        "이 때 더 짧은 경로를 발견한 경우 거리를 저장한 리스트를 갱신한다."
      ],
      "metadata": {
        "id": "9C23xiuh1qp3"
      }
    },
    {
      "cell_type": "markdown",
      "source": [
        "### 2010"
      ],
      "metadata": {
        "id": "RGtVlCcc2z_I"
      }
    },
    {
      "cell_type": "code",
      "source": [
        "import sys\n",
        "\n",
        "n = int(sys.stdin.readline().rstrip())\n",
        "available = [int(sys.stdin.readline().rstrip()) for _ in range(n)]\n",
        "\n",
        "print(sum(available)-n+1)"
      ],
      "metadata": {
        "id": "2mNUa2lb20Oi"
      },
      "execution_count": null,
      "outputs": []
    },
    {
      "cell_type": "markdown",
      "source": [
        "### 1100"
      ],
      "metadata": {
        "id": "6nOXUcpg4Jdl"
      }
    },
    {
      "cell_type": "code",
      "source": [
        "graph = []\n",
        "cnt = 0\n",
        "\n",
        "for _ in range(8):\n",
        "  graph.append(list(input()))\n",
        "\n",
        "for i in range(8):\n",
        "  for j in range(8):\n",
        "    if i % 2 == 1 and j % 2 == 1 and graph[i][j] == 'F':\n",
        "      cnt += 1\n",
        "    if i % 2 == 0 and j % 2 == 0 and graph[i][j] == 'F':\n",
        "      cnt += 1\n",
        "\n",
        "print(cnt)"
      ],
      "metadata": {
        "colab": {
          "base_uri": "https://localhost:8080/"
        },
        "id": "dKJA7iDt4Juc",
        "outputId": "1d0335ac-a26d-4d8a-e1da-3f5f463fd949"
      },
      "execution_count": 3,
      "outputs": [
        {
          "output_type": "stream",
          "name": "stdout",
          "text": [
            ".F.F...F\n",
            "F...F.F.\n",
            "...F.F.F\n",
            "F.F...F.\n",
            ".F...F..\n",
            "F...F.F.\n",
            ".F.F.F.F\n",
            "..FF..F.\n",
            "1\n"
          ]
        }
      ]
    },
    {
      "cell_type": "markdown",
      "source": [
        "---"
      ],
      "metadata": {
        "id": "VkKA_7-v5JyW"
      }
    },
    {
      "cell_type": "markdown",
      "source": [
        "## Leet Code"
      ],
      "metadata": {
        "id": "Fti2y7VE5sAC"
      }
    },
    {
      "cell_type": "markdown",
      "source": [
        "### 9. Palindrome Number"
      ],
      "metadata": {
        "id": "dq9B9jwc5OG2"
      }
    },
    {
      "cell_type": "code",
      "source": [
        "class Solution(object):\n",
        "    def isPalindrome(self, x):\n",
        "        tmp = str(x)\n",
        "\n",
        "        if tmp == tmp[::-1]:\n",
        "            return True\n",
        "        else:\n",
        "            return False"
      ],
      "metadata": {
        "id": "gcr1DL_t5OVz"
      },
      "execution_count": null,
      "outputs": []
    }
  ]
}