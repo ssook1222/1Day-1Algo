{
  "nbformat": 4,
  "nbformat_minor": 0,
  "metadata": {
    "colab": {
      "provenance": [],
      "authorship_tag": "ABX9TyMHR/K9CKIpuJvSrqX3gIga",
      "include_colab_link": true
    },
    "kernelspec": {
      "name": "python3",
      "display_name": "Python 3"
    },
    "language_info": {
      "name": "python"
    }
  },
  "cells": [
    {
      "cell_type": "markdown",
      "metadata": {
        "id": "view-in-github",
        "colab_type": "text"
      },
      "source": [
        "<a href=\"https://colab.research.google.com/github/ssook1222/1Day-1Algo/blob/master/ssook/7%EC%9B%94/7%EC%9B%94%202%EC%A3%BC%EC%B0%A8/0712.ipynb\" target=\"_parent\"><img src=\"https://colab.research.google.com/assets/colab-badge.svg\" alt=\"Open In Colab\"/></a>"
      ]
    },
    {
      "cell_type": "markdown",
      "source": [
        "## BoJ"
      ],
      "metadata": {
        "id": "2OzxJPeB5_sy"
      }
    },
    {
      "cell_type": "markdown",
      "source": [
        "### 5789"
      ],
      "metadata": {
        "id": "6zRmiy7V6Fu_"
      }
    },
    {
      "cell_type": "code",
      "execution_count": 1,
      "metadata": {
        "id": "OrHZbP0355o6",
        "colab": {
          "base_uri": "https://localhost:8080/"
        },
        "outputId": "e3ef687e-fd08-41a5-9ef0-ae465192e6ce"
      },
      "outputs": [
        {
          "output_type": "stream",
          "name": "stdout",
          "text": [
            "3\n",
            "00100010\n",
            "Do-it\n",
            "01010101\n",
            "Do-it-Not\n",
            "100001\n",
            "Do-it\n"
          ]
        }
      ],
      "source": [
        "n = int(input())\n",
        "\n",
        "for i in range(n):\n",
        "\n",
        "  s = input()\n",
        "  mid = len(s) // 2\n",
        "\n",
        "  if s[mid] == s[mid-1]:\n",
        "    print('Do-it')\n",
        "  else:\n",
        "    print('Do-it-Not')"
      ]
    },
    {
      "cell_type": "markdown",
      "source": [
        "### 15904"
      ],
      "metadata": {
        "id": "TVOunJGh6GAM"
      }
    },
    {
      "cell_type": "code",
      "source": [
        "s = input()\n",
        "raw = s.replace(' ', '')\n",
        "\n",
        "ans = 'UCPC'\n",
        "cnt = 0\n",
        "\n",
        "for i in raw:\n",
        "  if i == ans[cnt]:\n",
        "    cnt += 1\n",
        "\n",
        "  if cnt == 4:\n",
        "    print('I love UCPC')\n",
        "    break\n",
        "\n",
        "else:\n",
        "  print('I hate UCPC')"
      ],
      "metadata": {
        "id": "KqYkQ_YV6GQY",
        "colab": {
          "base_uri": "https://localhost:8080/"
        },
        "outputId": "020624f4-b937-46f2-a6e5-4ba4f1b0d516"
      },
      "execution_count": 24,
      "outputs": [
        {
          "output_type": "stream",
          "name": "stdout",
          "text": [
            "University Computer Programming\n",
            "I hate UCPC\n"
          ]
        }
      ]
    },
    {
      "cell_type": "markdown",
      "source": [
        "## HackerRank"
      ],
      "metadata": {
        "id": "dYd2j0Lb6B6F"
      }
    },
    {
      "cell_type": "markdown",
      "source": [
        "### Introduction 완료\n",
        "\n",
        "---"
      ],
      "metadata": {
        "id": "O-Lp9Ja0bVT_"
      }
    },
    {
      "cell_type": "markdown",
      "source": [
        "### Python: Division"
      ],
      "metadata": {
        "id": "H7kVYybI6Fa7"
      }
    },
    {
      "cell_type": "code",
      "source": [
        "if __name__ == '__main__':\n",
        "    a = int(input())\n",
        "    b = int(input())\n",
        "\n",
        "    print(int(a//b))\n",
        "    print(a/b)"
      ],
      "metadata": {
        "id": "rTZduRtm6EKD"
      },
      "execution_count": null,
      "outputs": []
    },
    {
      "cell_type": "markdown",
      "source": [
        "### Write a function"
      ],
      "metadata": {
        "id": "AVAYyrf6X3wR"
      }
    },
    {
      "cell_type": "code",
      "source": [
        "def is_leap(year):\n",
        "    leap = False\n",
        "\n",
        "    if year % 4 == 0 and year % 100 != 0:\n",
        "        leap = True\n",
        "    if year % 400 == 0:\n",
        "        leap = True\n",
        "\n",
        "    return leap\n",
        "\n",
        "year = int(input())"
      ],
      "metadata": {
        "id": "CpvPlvbXX3-5"
      },
      "execution_count": null,
      "outputs": []
    }
  ]
}