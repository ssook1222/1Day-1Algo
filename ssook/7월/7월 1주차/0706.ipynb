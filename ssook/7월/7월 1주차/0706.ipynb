{
  "nbformat": 4,
  "nbformat_minor": 0,
  "metadata": {
    "colab": {
      "provenance": [],
      "authorship_tag": "ABX9TyOyxAEOmk5SJ08R/ZGgshDb",
      "include_colab_link": true
    },
    "kernelspec": {
      "name": "python3",
      "display_name": "Python 3"
    },
    "language_info": {
      "name": "python"
    }
  },
  "cells": [
    {
      "cell_type": "markdown",
      "metadata": {
        "id": "view-in-github",
        "colab_type": "text"
      },
      "source": [
        "<a href=\"https://colab.research.google.com/github/ssook1222/1Day-1Algo/blob/master/ssook/7%EC%9B%94/7%EC%9B%94%201%EC%A3%BC%EC%B0%A8/0706.ipynb\" target=\"_parent\"><img src=\"https://colab.research.google.com/assets/colab-badge.svg\" alt=\"Open In Colab\"/></a>"
      ]
    },
    {
      "cell_type": "markdown",
      "source": [
        "## BoJ"
      ],
      "metadata": {
        "id": "jfFt6Me6YZby"
      }
    },
    {
      "cell_type": "markdown",
      "source": [
        "### 10987"
      ],
      "metadata": {
        "id": "hJhGaV0KYeCr"
      }
    },
    {
      "cell_type": "code",
      "execution_count": 1,
      "metadata": {
        "colab": {
          "base_uri": "https://localhost:8080/"
        },
        "id": "tVIhYldcX2-e",
        "outputId": "aeb9da7f-82b4-433a-ee35-cdeef4fc3763"
      },
      "outputs": [
        {
          "output_type": "stream",
          "name": "stdout",
          "text": [
            "baekjoon\n",
            "4\n"
          ]
        }
      ],
      "source": [
        "vowel = {'a', 'e', 'i', 'o', 'u'}\n",
        "cnt = 0\n",
        "s = list(input())\n",
        "\n",
        "for c in s:\n",
        "  if c in vowel:\n",
        "    cnt += 1\n",
        "\n",
        "print(cnt)"
      ]
    },
    {
      "cell_type": "markdown",
      "source": [],
      "metadata": {
        "id": "CBtVqPFRY_zy"
      }
    },
    {
      "cell_type": "code",
      "source": [
        "t = int(input())\n",
        "\n",
        "for i in range(t):\n",
        "  s = list(input())\n",
        "  start = 0\n",
        "  end = len(s) - 1\n",
        "  palin = True\n",
        "  cnt = 0\n",
        "\n",
        "  while start < end:\n",
        "    if s[start] == s[end]:\n",
        "      start += 1\n",
        "      end -= 1\n",
        "    else:\n",
        "      palin = False\n",
        "      if s[start] != s[end]:\n",
        "        cnt += 1\n",
        "        start += 1\n",
        "        end -= 1\n",
        "\n",
        "  if palin == True:\n",
        "    print(0)\n",
        "\n",
        "  elif palin == False and cnt == 1:\n",
        "    temp1 = s[start:end]\n",
        "    temp2 = s[start+1:end+1]\n",
        "\n",
        "    if temp1 == temp1[::-1] or temp2 == temp2[::-1]:\n",
        "      print(1)\n",
        "    else:\n",
        "      print(2)\n",
        "      break"
      ],
      "metadata": {
        "colab": {
          "base_uri": "https://localhost:8080/"
        },
        "id": "uJFgU04iZAA6",
        "outputId": "e7e720aa-10b7-4922-c60d-5c29748e6a05"
      },
      "execution_count": 3,
      "outputs": [
        {
          "output_type": "stream",
          "name": "stdout",
          "text": [
            "7\n",
            "abba\n",
            "0\n",
            "summuus\n",
            "1\n",
            "xabba\n",
            "xabbay\n",
            "1\n",
            "comcom\n",
            "comwwmoc\n",
            "0\n",
            "comwwtmoc\n",
            "1\n"
          ]
        }
      ]
    },
    {
      "cell_type": "markdown",
      "source": [
        "### 17609"
      ],
      "metadata": {
        "id": "rJAMD4GtqtUw"
      }
    },
    {
      "cell_type": "code",
      "source": [
        "t = int(input())\n",
        "\n",
        "def is_palindrome(s, start, end):\n",
        "  while start < end:\n",
        "    if s[start] != s[end]:\n",
        "      return False\n",
        "    start += 1\n",
        "    end -= 1\n",
        "  return True\n",
        "\n",
        "def is_pseudo_palindrome(s, start, end):\n",
        "  while start < end:\n",
        "    if s[start] != s[end]:\n",
        "      return is_palindrome(s, start + 1, end) or is_palindrome(s, start, end - 1)\n",
        "    start += 1\n",
        "    end -= 1\n",
        "  return True\n",
        "\n",
        "for _ in range(t):\n",
        "  s = input()\n",
        "  start = 0\n",
        "  end = len(s) - 1\n",
        "\n",
        "  if is_palindrome(s, start, end):\n",
        "    print(0)\n",
        "  elif is_pseudo_palindrome(s, start, end):\n",
        "    print(1)\n",
        "  else:\n",
        "    print(2)"
      ],
      "metadata": {
        "id": "OBKdjYnLo2-i"
      },
      "execution_count": null,
      "outputs": []
    },
    {
      "cell_type": "markdown",
      "source": [
        "### 9461"
      ],
      "metadata": {
        "id": "R7XUEzTPrA28"
      }
    },
    {
      "cell_type": "code",
      "source": [
        "import sys\n",
        "t = int(sys.stdin.readline().rstrip())\n",
        "a = [0 for i in range(104)]\n",
        "\n",
        "a[0] = 1\n",
        "a[1] = 1\n",
        "a[2] = 1\n",
        "\n",
        "for i in range(0, 101):\n",
        "  a[i+3] = a[i] + a[i+1]\n",
        "\n",
        "for _ in range(t):\n",
        "  n = int(sys.stdin.readline().rstrip())\n",
        "  print(a[n-1])"
      ],
      "metadata": {
        "colab": {
          "base_uri": "https://localhost:8080/"
        },
        "id": "Fe1479JUrBKv",
        "outputId": "0b0eb643-616d-48ac-efa0-e8906ce7f852"
      },
      "execution_count": 10,
      "outputs": [
        {
          "output_type": "stream",
          "name": "stdout",
          "text": [
            "2\n",
            "6\n",
            "3\n",
            "12\n",
            "16\n"
          ]
        }
      ]
    },
    {
      "cell_type": "markdown",
      "source": [
        "---"
      ],
      "metadata": {
        "id": "li8JdFeSqvSz"
      }
    },
    {
      "cell_type": "markdown",
      "source": [
        "## Programmers"
      ],
      "metadata": {
        "id": "Pzl1SahjqwU2"
      }
    },
    {
      "cell_type": "markdown",
      "source": [
        "### 숫자의 표현"
      ],
      "metadata": {
        "id": "grpoTrISx8aI"
      }
    },
    {
      "cell_type": "code",
      "source": [
        "def solution(n):\n",
        "    count = 0\n",
        "    start = 1\n",
        "\n",
        "    while start <= n:\n",
        "        total = 0\n",
        "        i = start\n",
        "\n",
        "        while total < n:\n",
        "            total += i\n",
        "            i += 1\n",
        "\n",
        "        if total == n:\n",
        "            count += 1\n",
        "\n",
        "        start += 1\n",
        "\n",
        "    return count"
      ],
      "metadata": {
        "id": "95r9FSRGqw0-"
      },
      "execution_count": null,
      "outputs": []
    }
  ]
}