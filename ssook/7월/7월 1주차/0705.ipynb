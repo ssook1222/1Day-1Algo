{
  "nbformat": 4,
  "nbformat_minor": 0,
  "metadata": {
    "colab": {
      "provenance": [],
      "authorship_tag": "ABX9TyNrg0dQjYKnECVzX+hwe/T1",
      "include_colab_link": true
    },
    "kernelspec": {
      "name": "python3",
      "display_name": "Python 3"
    },
    "language_info": {
      "name": "python"
    }
  },
  "cells": [
    {
      "cell_type": "markdown",
      "metadata": {
        "id": "view-in-github",
        "colab_type": "text"
      },
      "source": [
        "<a href=\"https://colab.research.google.com/github/ssook1222/1Day-1Algo/blob/master/ssook/7%EC%9B%94/7%EC%9B%94%201%EC%A3%BC%EC%B0%A8/0705.ipynb\" target=\"_parent\"><img src=\"https://colab.research.google.com/assets/colab-badge.svg\" alt=\"Open In Colab\"/></a>"
      ]
    },
    {
      "cell_type": "markdown",
      "source": [
        "## BoJ"
      ],
      "metadata": {
        "id": "kfwLHfod-n8c"
      }
    },
    {
      "cell_type": "markdown",
      "source": [
        "### 3460"
      ],
      "metadata": {
        "id": "j2ajenQR-pp7"
      }
    },
    {
      "cell_type": "code",
      "execution_count": 15,
      "metadata": {
        "id": "0rAD7NLP-mO-",
        "colab": {
          "base_uri": "https://localhost:8080/"
        },
        "outputId": "78faf3ef-5aec-4a0f-d9a7-d6b5f99d9f8e"
      },
      "outputs": [
        {
          "output_type": "stream",
          "name": "stdout",
          "text": [
            "1\n",
            "13\n",
            "0 2 3 "
          ]
        }
      ],
      "source": [
        "t = int(input())\n",
        "\n",
        "for i in range(t):\n",
        "  n = bin(int(input()))[2:]\n",
        "  for i in range(len(n)):\n",
        "    if n[-i-1] == '1':\n",
        "      print(i, end= ' ')"
      ]
    },
    {
      "cell_type": "markdown",
      "source": [
        "### 15813"
      ],
      "metadata": {
        "id": "zNNxsNIw-xt0"
      }
    },
    {
      "cell_type": "code",
      "source": [
        "n = int(input())\n",
        "name = list(input())\n",
        "hap = 0\n",
        "\n",
        "for c in name:\n",
        "  hap += ord(c)-64\n",
        "\n",
        "print(hap)"
      ],
      "metadata": {
        "id": "SWTfHysB-yM7",
        "colab": {
          "base_uri": "https://localhost:8080/"
        },
        "outputId": "f24af745-87de-487a-e29a-dfdff824b56d"
      },
      "execution_count": 19,
      "outputs": [
        {
          "output_type": "stream",
          "name": "stdout",
          "text": [
            "7\n",
            "SUNGPIL\n",
            "98\n"
          ]
        }
      ]
    },
    {
      "cell_type": "markdown",
      "source": [
        "### 2755"
      ],
      "metadata": {
        "id": "O4cbkRSF_GVF"
      }
    },
    {
      "cell_type": "code",
      "source": [
        "t = int(input())\n",
        "\n",
        "grade = {'A+':4.3, 'A0': 4.0, 'A-':3.7, 'B+':3.3, 'B0': 3.0, 'B-': 2.7, 'C+': 2.3, 'C0': 2.0, 'C-':1.7, 'D+':1.3, 'D0': 1.0, 'D-':0.7, 'F': 0.0}\n",
        "score = 0\n",
        "hap_hakjum = 0\n",
        "\n",
        "for i in range(t):\n",
        "  item = list(map(str, input().split(\" \")))\n",
        "\n",
        "  hakjum = int(item[1])\n",
        "  grade_num = grade[item[2]]\n",
        "\n",
        "  score += (grade_num * hakjum )\n",
        "  hap_hakjum += hakjum\n",
        "\n",
        "print(\"%.2f\" % (round(score/hap_hakjum + 10**-10, 2)))"
      ],
      "metadata": {
        "id": "MYHsAJCm_GlQ",
        "colab": {
          "base_uri": "https://localhost:8080/"
        },
        "outputId": "7c028073-20e7-486f-bb81-23ed7e30e1b4"
      },
      "execution_count": 20,
      "outputs": [
        {
          "output_type": "stream",
          "name": "stdout",
          "text": [
            "7\n",
            "General_Physics_1 3 A+\n",
            "Introduction_to_Computer_Science_and_Eng 3 B0\n",
            "English_1 3 C+\n",
            "Analytic_Geometry_and_Calculus_1 3 B+\n",
            "Fortran_Programming 3 B+\n",
            "C_Language_Programming 3 A+\n",
            "Reading_And_Writing 2 C0\n",
            "3.21\n"
          ]
        }
      ]
    },
    {
      "cell_type": "markdown",
      "source": [
        "---"
      ],
      "metadata": {
        "id": "UXzI5axt_g9D"
      }
    },
    {
      "cell_type": "markdown",
      "source": [
        "## Programmers"
      ],
      "metadata": {
        "id": "fTPnvf0R_ilQ"
      }
    },
    {
      "cell_type": "markdown",
      "source": [
        "### 이진 변환 반복하기"
      ],
      "metadata": {
        "id": "HgANJDx4_kVY"
      }
    },
    {
      "cell_type": "code",
      "source": [
        "def solution(s):\n",
        "    tryed = 0\n",
        "    cnt = 0\n",
        "    tmp = 0\n",
        "\n",
        "    while s != '1':\n",
        "        if '0' in s:\n",
        "            tmp = len(s)\n",
        "            s = s.replace('0', '')\n",
        "            cnt += tmp - len(s)\n",
        "\n",
        "        c_raw = len(s)\n",
        "        c = bin(c_raw)[2:]\n",
        "        tryed += 1\n",
        "\n",
        "        s = c\n",
        "\n",
        "    answer = [tryed, cnt]\n",
        "    return answer"
      ],
      "metadata": {
        "id": "pkMSqpaQ_i0l"
      },
      "execution_count": null,
      "outputs": []
    }
  ]
}