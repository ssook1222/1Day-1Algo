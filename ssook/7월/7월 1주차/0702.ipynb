{
  "nbformat": 4,
  "nbformat_minor": 0,
  "metadata": {
    "colab": {
      "provenance": [],
      "authorship_tag": "ABX9TyOslAvQUeYHGqQ18LhIw3NG",
      "include_colab_link": true
    },
    "kernelspec": {
      "name": "python3",
      "display_name": "Python 3"
    },
    "language_info": {
      "name": "python"
    }
  },
  "cells": [
    {
      "cell_type": "markdown",
      "metadata": {
        "id": "view-in-github",
        "colab_type": "text"
      },
      "source": [
        "<a href=\"https://colab.research.google.com/github/ssook1222/1Day-1Algo/blob/master/ssook/7%EC%9B%94/7%EC%9B%94%201%EC%A3%BC%EC%B0%A8/0702.ipynb\" target=\"_parent\"><img src=\"https://colab.research.google.com/assets/colab-badge.svg\" alt=\"Open In Colab\"/></a>"
      ]
    },
    {
      "cell_type": "markdown",
      "source": [
        "## BoJ"
      ],
      "metadata": {
        "id": "9q8qvHXz6YWZ"
      }
    },
    {
      "cell_type": "markdown",
      "source": [
        "### 11729"
      ],
      "metadata": {
        "id": "2B1Lkar7-Tw5"
      }
    },
    {
      "cell_type": "code",
      "execution_count": 18,
      "metadata": {
        "colab": {
          "base_uri": "https://localhost:8080/"
        },
        "id": "PedWiiOBupE-",
        "outputId": "2c167585-9173-4b0a-f03e-badec12d32e7"
      },
      "outputs": [
        {
          "output_type": "stream",
          "name": "stdout",
          "text": [
            "3\n",
            "7\n",
            "1 3\n",
            "1 2\n",
            "3 2\n",
            "1 3\n",
            "2 1\n",
            "2 3\n",
            "1 3\n"
          ]
        }
      ],
      "source": [
        "import sys\n",
        "\n",
        "sys.setrecursionlimit(10**8)\n",
        "\n",
        "def hanoi(n, start, dest, tmp):\n",
        "    if n == 1:\n",
        "        return [(start, dest)]\n",
        "\n",
        "    route = hanoi(n-1, start, tmp, dest)\n",
        "    route.append((start, dest))\n",
        "    route.extend(hanoi(n-1, tmp, dest, start))\n",
        "    return route\n",
        "\n",
        "n = int(sys.stdin.readline().rstrip())\n",
        "route = hanoi(n, 1, 3, 2)\n",
        "\n",
        "print(len(route))\n",
        "\n",
        "for node in route:\n",
        "    print(*node)"
      ]
    },
    {
      "cell_type": "markdown",
      "source": [
        "### 15903"
      ],
      "metadata": {
        "id": "IuiPpN9d-Vhe"
      }
    },
    {
      "cell_type": "code",
      "source": [
        "import heapq\n",
        "import sys\n",
        "\n",
        "n, m = map(int, sys.stdin.readline().rstrip().split(\" \"))\n",
        "card_raw = list(map(int, sys.stdin.readline().rstrip().split(\" \")))\n",
        "card = []\n",
        "\n",
        "for raw in card_raw:\n",
        "  heapq.heappush(card, raw)\n",
        "\n",
        "for _ in range(m):\n",
        "  card1 = heapq.heappop(card)\n",
        "  card2 = heapq.heappop(card)\n",
        "\n",
        "  heapq.heappush(card, card1 + card2)\n",
        "  heapq.heappush(card, card1 + card2)\n",
        "\n",
        "print(sum(card))"
      ],
      "metadata": {
        "colab": {
          "base_uri": "https://localhost:8080/"
        },
        "id": "_Q25cM_A-Vyj",
        "outputId": "6512b51d-9ff9-495b-98ff-338e43fa48d2"
      },
      "execution_count": 24,
      "outputs": [
        {
          "output_type": "stream",
          "name": "stdout",
          "text": [
            "3 1\n",
            "3 2 6\n",
            "16\n"
          ]
        }
      ]
    },
    {
      "cell_type": "markdown",
      "source": [
        "리스트 내에서 초반에 반복적인 정렬이 계속 필요할 경우, 시간복잡도를 고려하여 차라리 리스트보다는 우선순위 큐(파이썬의 경우 힙)으로 구현하자."
      ],
      "metadata": {
        "id": "S6hduNoeBRxG"
      }
    },
    {
      "cell_type": "markdown",
      "source": [
        "---"
      ],
      "metadata": {
        "id": "3gL2v-7ABjOW"
      }
    },
    {
      "cell_type": "markdown",
      "source": [
        "## Programmers"
      ],
      "metadata": {
        "id": "KD7bOGgzBj-1"
      }
    },
    {
      "cell_type": "markdown",
      "source": [
        "### 다음 큰 숫자"
      ],
      "metadata": {
        "id": "wmzmxtm2BxIH"
      }
    },
    {
      "cell_type": "code",
      "source": [
        "def solution(n):\n",
        "    m = n + 1\n",
        "\n",
        "    while True:\n",
        "        m_2 = bin(m)[2:]\n",
        "        n_2 = bin(n)[2:]\n",
        "        n_2_count, m_2_count = 0, 0\n",
        "\n",
        "        for c in n_2:\n",
        "            if c == '1':\n",
        "                n_2_count += 1\n",
        "\n",
        "        for c in m_2:\n",
        "            if c == '1':\n",
        "                m_2_count += 1\n",
        "\n",
        "        if n_2_count == m_2_count:\n",
        "            break\n",
        "\n",
        "        m += 1\n",
        "\n",
        "    return m"
      ],
      "metadata": {
        "id": "UVR6Jq0aBxU9"
      },
      "execution_count": null,
      "outputs": []
    }
  ]
}