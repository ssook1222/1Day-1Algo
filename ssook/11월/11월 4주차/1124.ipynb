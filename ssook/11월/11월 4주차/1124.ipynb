{
  "nbformat": 4,
  "nbformat_minor": 0,
  "metadata": {
    "colab": {
      "provenance": [],
      "authorship_tag": "ABX9TyM31kEf+25tUN6xtv0H3FTX",
      "include_colab_link": true
    },
    "kernelspec": {
      "name": "python3",
      "display_name": "Python 3"
    },
    "language_info": {
      "name": "python"
    }
  },
  "cells": [
    {
      "cell_type": "markdown",
      "metadata": {
        "id": "view-in-github",
        "colab_type": "text"
      },
      "source": [
        "<a href=\"https://colab.research.google.com/github/ssook1222/1Day-1Algo/blob/master/ssook/11%EC%9B%94/11%EC%9B%94%204%EC%A3%BC%EC%B0%A8/1124.ipynb\" target=\"_parent\"><img src=\"https://colab.research.google.com/assets/colab-badge.svg\" alt=\"Open In Colab\"/></a>"
      ]
    },
    {
      "cell_type": "markdown",
      "source": [
        "## BoJ"
      ],
      "metadata": {
        "id": "o-Ylkc4EU0rL"
      }
    },
    {
      "cell_type": "markdown",
      "source": [
        "### 18009\n",
        "\n"
      ],
      "metadata": {
        "id": "bZC70_b2U61w"
      }
    },
    {
      "cell_type": "code",
      "execution_count": null,
      "metadata": {
        "colab": {
          "base_uri": "https://localhost:8080/"
        },
        "id": "69jLB6qgUtQD",
        "outputId": "fec369c7-1250-4f64-a47f-e94b50b2f60d"
      },
      "outputs": [
        {
          "output_type": "stream",
          "name": "stdout",
          "text": [
            "1\n",
            "4 4\n",
            "landscape 6\n",
            "snowy 7\n",
            "winter 5\n",
            "earlywork 3\n",
            "? winter ? ?\n",
            "21 21\n"
          ]
        }
      ],
      "source": [
        "import sys\n",
        "\n",
        "t = int(sys.stdin.readline().rstrip())\n",
        "\n",
        "for indx in range(t):\n",
        "    a, b = map(int, sys.stdin.readline().rstrip().split())\n",
        "\n",
        "    word = {}\n",
        "\n",
        "    for _ in range(a):\n",
        "        name, score = sys.stdin.readline().rstrip().split()\n",
        "        word[name] = int(score)\n",
        "\n",
        "    word = dict(sorted(word.items(), key=lambda x: x[1]))\n",
        "\n",
        "    s = list(sys.stdin.readline().rstrip().split())\n",
        "\n",
        "    base = 0\n",
        "    max_num = 0\n",
        "    min_num = 0\n",
        "    cnt = 0\n",
        "    i = 0\n",
        "\n",
        "    for c in s:\n",
        "        if c != '?':\n",
        "            base += word[c]\n",
        "            del word[c]\n",
        "        else:\n",
        "            cnt += 1\n",
        "\n",
        "    for w in word:\n",
        "        if i < cnt:\n",
        "            min_num += word[w]\n",
        "            i += 1\n",
        "        else:\n",
        "            break\n",
        "\n",
        "    i = 0\n",
        "    for w in sorted(word, key=lambda x: word[x], reverse=True):\n",
        "        if i < cnt:\n",
        "            max_num += word[w]\n",
        "            i += 1\n",
        "        else:\n",
        "            break\n",
        "\n",
        "    print(f\"Data Set {indx+1}:\")\n",
        "    print(base + min_num, base + max_num)\n",
        "    if indx != t-1:\n",
        "        print()"
      ]
    },
    {
      "cell_type": "markdown",
      "source": [
        "### 4072"
      ],
      "metadata": {
        "id": "ISzUZ3AqVHvU"
      }
    },
    {
      "cell_type": "code",
      "source": [
        "import sys\n",
        "\n",
        "while True:\n",
        "  s = sys.stdin.readline().rstrip()\n",
        "  tmp = ''\n",
        "  if s == '#':\n",
        "    break\n",
        "  else:\n",
        "    ss = list(s.split())\n",
        "    for c in ss:\n",
        "      tmp += c[::-1] + ' '\n",
        "\n",
        "  print(tmp.rstrip())"
      ],
      "metadata": {
        "colab": {
          "base_uri": "https://localhost:8080/"
        },
        "id": "WnrJyrkCVIGM",
        "outputId": "8410de6c-d535-4ad2-fe79-91aae6f6923f"
      },
      "execution_count": null,
      "outputs": [
        {
          "name": "stdout",
          "output_type": "stream",
          "text": [
            "teG ydaer rof eht weN dnalaeZ gnimmargorP tsetnoC no .ht41\n",
            "Get ready for the New Zealand Programming Contest on 14th.\n",
            "I like ice-cream.\n",
            "I ekil .maerc-eci\n",
            "#\n"
          ]
        }
      ]
    },
    {
      "cell_type": "markdown",
      "source": [
        "---"
      ],
      "metadata": {
        "id": "hk-5b9oyVd1d"
      }
    },
    {
      "cell_type": "markdown",
      "source": [
        "## CodeTree"
      ],
      "metadata": {
        "id": "8P9ZjT0eVdzH"
      }
    },
    {
      "cell_type": "markdown",
      "source": [
        "### 단어 집합"
      ],
      "metadata": {
        "id": "LqOczP01Vhcr"
      }
    },
    {
      "cell_type": "code",
      "source": [
        "sentence = {}\n",
        "\n",
        "while True:\n",
        "    try:\n",
        "        s = input()\n",
        "\n",
        "        if s == 'end':\n",
        "            break\n",
        "\n",
        "        if len(s) == 1:\n",
        "            print(s)\n",
        "        else:\n",
        "            test = list(s.split())\n",
        "            for t in test:\n",
        "                if t in sentence:\n",
        "                    pass\n",
        "                else:\n",
        "                    sentence[t] = t\n",
        "        tmp = ''\n",
        "        for s in sentence:\n",
        "            tmp += s+' '\n",
        "        print(tmp.rstrip())\n",
        "\n",
        "    except EOFError:\n",
        "        break"
      ],
      "metadata": {
        "id": "KGLWmVVnVjsO"
      },
      "execution_count": null,
      "outputs": []
    }
  ]
}