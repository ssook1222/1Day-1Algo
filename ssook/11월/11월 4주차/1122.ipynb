{
  "nbformat": 4,
  "nbformat_minor": 0,
  "metadata": {
    "colab": {
      "provenance": [],
      "authorship_tag": "ABX9TyPlKELpfPahtZyvwsedlL14",
      "include_colab_link": true
    },
    "kernelspec": {
      "name": "python3",
      "display_name": "Python 3"
    },
    "language_info": {
      "name": "python"
    }
  },
  "cells": [
    {
      "cell_type": "markdown",
      "metadata": {
        "id": "view-in-github",
        "colab_type": "text"
      },
      "source": [
        "<a href=\"https://colab.research.google.com/github/ssook1222/1Day-1Algo/blob/master/ssook/11%EC%9B%94/11%EC%9B%94%204%EC%A3%BC%EC%B0%A8/1122.ipynb\" target=\"_parent\"><img src=\"https://colab.research.google.com/assets/colab-badge.svg\" alt=\"Open In Colab\"/></a>"
      ]
    },
    {
      "cell_type": "markdown",
      "source": [
        "## BoJ"
      ],
      "metadata": {
        "id": "alfRBgOoUsqv"
      }
    },
    {
      "cell_type": "markdown",
      "source": [
        "### 15233"
      ],
      "metadata": {
        "id": "kwggvz2fUvL-"
      }
    },
    {
      "cell_type": "code",
      "execution_count": 1,
      "metadata": {
        "colab": {
          "base_uri": "https://localhost:8080/"
        },
        "id": "sVwm9RUkNlsf",
        "outputId": "b9efbe20-f75d-4990-ca5c-d6106abc2c5c"
      },
      "outputs": [
        {
          "output_type": "stream",
          "name": "stdout",
          "text": [
            "3 3 5\n",
            "messi neymar suarez\n",
            "ronaldo bale james\n",
            "messi messi messi bale james\n",
            "A\n"
          ]
        }
      ],
      "source": [
        "import sys\n",
        "\n",
        "a, b, c = map(int, sys.stdin.readline().rstrip().split())\n",
        "\n",
        "team_a = list(map(str, sys.stdin.readline().rstrip().split()))\n",
        "team_b = list(map(str, sys.stdin.readline().rstrip().split()))\n",
        "scores = list(map(str, sys.stdin.readline().rstrip().split()))\n",
        "\n",
        "a_score = 0\n",
        "b_score = 0\n",
        "\n",
        "for score in scores:\n",
        "  if score in team_a:\n",
        "    a_score += 1\n",
        "  elif score in team_b:\n",
        "    b_score += 1\n",
        "\n",
        "if a_score > b_score:\n",
        "  print('A')\n",
        "\n",
        "elif a_score < b_score:\n",
        "  print('B')\n",
        "\n",
        "else:\n",
        "  print('TIE')"
      ]
    },
    {
      "cell_type": "markdown",
      "source": [
        "### 21144"
      ],
      "metadata": {
        "id": "lP8bfqBpUwL0"
      }
    },
    {
      "cell_type": "code",
      "source": [
        "import sys\n",
        "\n",
        "n = int(sys.stdin.readline().rstrip())\n",
        "s = sys.stdin.readline().rstrip()\n",
        "\n",
        "for i in range(1, n + 1):\n",
        "  expected = str(i)\n",
        "  if not s.startswith(expected):\n",
        "    print(i)\n",
        "    break\n",
        "  s = s[len(expected):] # 누락된 숫자가 있으면 계속 제거"
      ],
      "metadata": {
        "colab": {
          "base_uri": "https://localhost:8080/"
        },
        "id": "kvBWDWhMUw2v",
        "outputId": "ee0de1c7-e3ad-4e75-bf1b-7cbac75db870"
      },
      "execution_count": 6,
      "outputs": [
        {
          "output_type": "stream",
          "name": "stdout",
          "text": [
            "10\n",
            "1234568910\n",
            "7\n"
          ]
        }
      ]
    },
    {
      "cell_type": "markdown",
      "source": [
        "---"
      ],
      "metadata": {
        "id": "MzMrv3NzUxmT"
      }
    },
    {
      "cell_type": "markdown",
      "source": [
        "## CodeTree"
      ],
      "metadata": {
        "id": "o8irDoFDUysk"
      }
    },
    {
      "cell_type": "markdown",
      "source": [
        "### 출국심사대 통과하기"
      ],
      "metadata": {
        "id": "UcsDzq77Uz58"
      }
    },
    {
      "cell_type": "code",
      "source": [
        "sec = 0\n",
        "t = int(input())\n",
        "person = []\n",
        "\n",
        "for _ in range(t):\n",
        "    start, soyo = map(int, input().split())\n",
        "    person.append((start, soyo))\n",
        "\n",
        "person.sort()\n",
        "\n",
        "for p in person:\n",
        "    if sec <= p[0]:\n",
        "        sec = p[0] + p[1]\n",
        "    else:\n",
        "        sec += max(0, p[0] - sec) + p[1]\n",
        "\n",
        "print(sec)"
      ],
      "metadata": {
        "id": "2E9c690CU1GX"
      },
      "execution_count": 6,
      "outputs": []
    }
  ]
}