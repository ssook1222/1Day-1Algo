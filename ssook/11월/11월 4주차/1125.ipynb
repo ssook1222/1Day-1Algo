{
  "nbformat": 4,
  "nbformat_minor": 0,
  "metadata": {
    "colab": {
      "provenance": [],
      "authorship_tag": "ABX9TyP5XoMBA1j6IY3cG0/EuhOd",
      "include_colab_link": true
    },
    "kernelspec": {
      "name": "python3",
      "display_name": "Python 3"
    },
    "language_info": {
      "name": "python"
    }
  },
  "cells": [
    {
      "cell_type": "markdown",
      "metadata": {
        "id": "view-in-github",
        "colab_type": "text"
      },
      "source": [
        "<a href=\"https://colab.research.google.com/github/ssook1222/1Day-1Algo/blob/master/ssook/11%EC%9B%94/11%EC%9B%94%204%EC%A3%BC%EC%B0%A8/1125.ipynb\" target=\"_parent\"><img src=\"https://colab.research.google.com/assets/colab-badge.svg\" alt=\"Open In Colab\"/></a>"
      ]
    },
    {
      "cell_type": "markdown",
      "source": [
        "## BoJ"
      ],
      "metadata": {
        "id": "piImmHPocdxQ"
      }
    },
    {
      "cell_type": "markdown",
      "source": [
        "### 6513"
      ],
      "metadata": {
        "id": "6HDkj8PpchQ4"
      }
    },
    {
      "cell_type": "code",
      "execution_count": 2,
      "metadata": {
        "colab": {
          "base_uri": "https://localhost:8080/"
        },
        "id": "jafyShWfcbcq",
        "outputId": "2c0b9c0b-14b1-48fe-bed8-37e0fde5fcc9"
      },
      "outputs": [
        {
          "output_type": "stream",
          "name": "stdout",
          "text": [
            "1 1\n",
            "rice rice\n",
            "turkey\n",
            "turkeys\n"
          ]
        }
      ],
      "source": [
        "import sys\n",
        "\n",
        "n, m = map(int, sys.stdin.readline().rstrip().split())\n",
        "irre = {}\n",
        "\n",
        "for _ in range(n):\n",
        "    w, me = map(str, sys.stdin.readline().rstrip().split())\n",
        "    irre[w] = me\n",
        "\n",
        "for _ in range(m):\n",
        "    s = sys.stdin.readline().rstrip()\n",
        "    if s in irre:\n",
        "        print(irre[s])\n",
        "    elif s[-1] == 'y' and s[-2] not in ['a', 'e', 'i', 'o', 'u']:\n",
        "        print(s[:-1] + 'ies')\n",
        "    elif (s[-1] in ['o', 's', 'x']) or (s[-2:] in ['ch', 'sh']):\n",
        "        print(s + 'es')\n",
        "    else:\n",
        "        print(s + 's')\n"
      ]
    },
    {
      "cell_type": "markdown",
      "source": [
        "### 6378"
      ],
      "metadata": {
        "id": "Vhz7ZW15gpXr"
      }
    },
    {
      "cell_type": "code",
      "source": [
        "import sys\n",
        "\n",
        "while True:\n",
        "  n = int(sys.stdin.readline().rstrip())\n",
        "\n",
        "  if n == 0:\n",
        "      break\n",
        "\n",
        "  else:\n",
        "      n_hap = n\n",
        "      n_list = list(map(int, str(n_hap)))\n",
        "\n",
        "      while len(n_list) != 1:\n",
        "          n_hap = sum(n_list)\n",
        "          n_list = list(map(int, str(n_hap)))\n",
        "      print(n_hap)\n"
      ],
      "metadata": {
        "colab": {
          "base_uri": "https://localhost:8080/"
        },
        "id": "DY_sdG4ogqjp",
        "outputId": "999dcc5c-6f23-4e81-a6aa-3a24a6cc9075"
      },
      "execution_count": 11,
      "outputs": [
        {
          "name": "stdout",
          "output_type": "stream",
          "text": [
            "24\n",
            "6\n",
            "39\n",
            "3\n",
            "0\n"
          ]
        }
      ]
    },
    {
      "cell_type": "markdown",
      "source": [
        "---"
      ],
      "metadata": {
        "id": "fY5SRNU7gq8Y"
      }
    },
    {
      "cell_type": "markdown",
      "source": [
        "## CodeTree"
      ],
      "metadata": {
        "id": "Q4Zpsb-dgrgm"
      }
    },
    {
      "cell_type": "markdown",
      "source": [
        "### 영문 소문자의 개수"
      ],
      "metadata": {
        "id": "AG9UFRHugua7"
      }
    },
    {
      "cell_type": "code",
      "source": [
        "n = int(input())\n",
        "s = input().split()\n",
        "\n",
        "word = {}\n",
        "\n",
        "for c in s:\n",
        "    if not c.isupper() and not c.isdigit():\n",
        "        if c.islower():\n",
        "            if c in word:\n",
        "                word[c] += 1\n",
        "            else:\n",
        "                word[c] = 1\n",
        "    else:\n",
        "        break\n",
        "\n",
        "for w in sorted(word):\n",
        "    print(\"%s : %d\" % (w, word[w]))"
      ],
      "metadata": {
        "id": "e4YZe46GgvCf"
      },
      "execution_count": 2,
      "outputs": []
    }
  ]
}