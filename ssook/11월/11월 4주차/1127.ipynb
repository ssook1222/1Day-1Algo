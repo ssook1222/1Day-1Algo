{
  "nbformat": 4,
  "nbformat_minor": 0,
  "metadata": {
    "colab": {
      "provenance": [],
      "authorship_tag": "ABX9TyPquZZyeeXtAfseCkWrCQyj",
      "include_colab_link": true
    },
    "kernelspec": {
      "name": "python3",
      "display_name": "Python 3"
    },
    "language_info": {
      "name": "python"
    }
  },
  "cells": [
    {
      "cell_type": "markdown",
      "metadata": {
        "id": "view-in-github",
        "colab_type": "text"
      },
      "source": [
        "<a href=\"https://colab.research.google.com/github/ssook1222/1Day-1Algo/blob/master/ssook/11%EC%9B%94/11%EC%9B%94%204%EC%A3%BC%EC%B0%A8/1127.ipynb\" target=\"_parent\"><img src=\"https://colab.research.google.com/assets/colab-badge.svg\" alt=\"Open In Colab\"/></a>"
      ]
    },
    {
      "cell_type": "markdown",
      "source": [
        "## BoJ"
      ],
      "metadata": {
        "id": "G9670ccxjK1-"
      }
    },
    {
      "cell_type": "markdown",
      "source": [
        "### 18706"
      ],
      "metadata": {
        "id": "7CK56mIcjNza"
      }
    },
    {
      "cell_type": "code",
      "execution_count": null,
      "metadata": {
        "colab": {
          "base_uri": "https://localhost:8080/"
        },
        "id": "Jy5enWJojEOM",
        "outputId": "d92c5cc5-ad28-478a-993d-8fce5795326b"
      },
      "outputs": [
        {
          "output_type": "stream",
          "name": "stdout",
          "text": [
            "1\n",
            "1 1\n",
            "cappuccino 28 34 41\n",
            "Mohammed medium cappuccino\n",
            "Mohammed 135\n"
          ]
        }
      ],
      "source": [
        "import sys\n",
        "\n",
        "t = int(sys.stdin.readline().rstrip())\n",
        "\n",
        "for _ in range(t):\n",
        "    menu = {}\n",
        "    ans = {}\n",
        "\n",
        "    a, b = map(int, sys.stdin.readline().rstrip().split())\n",
        "    delivery = 100 // b\n",
        "\n",
        "    for _ in range(a):\n",
        "        name, s, m, l = map(str, sys.stdin.readline().rstrip().split())\n",
        "        s = int(s)\n",
        "        m = int(m)\n",
        "        l = int(l)\n",
        "        menu[name] = [s, m, l]\n",
        "\n",
        "    for _ in range(b):\n",
        "        order_people, size, ordered_menu = map(str, sys.stdin.readline().rstrip().split())\n",
        "        if size == 'small':\n",
        "            ans[order_people] = menu[ordered_menu][0] + delivery\n",
        "        elif size == 'medium':\n",
        "            ans[order_people] = menu[ordered_menu][1] + delivery\n",
        "        elif size == 'large':\n",
        "            ans[order_people] = menu[ordered_menu][2] + delivery\n",
        "\n",
        "    rounded_ans = {}\n",
        "    for an in ans:\n",
        "        num = ans[an]\n",
        "        if num % 5 in [9, 4]:\n",
        "            rounded_ans[an] = num + 1\n",
        "        elif num % 5 in [1, 6]:\n",
        "            rounded_ans[an] = num - 1\n",
        "        else:\n",
        "            rounded_ans[an] = num\n",
        "\n",
        "    for an in rounded_ans:\n",
        "        print(\"%s %d\" % (an, rounded_ans[an]))"
      ]
    },
    {
      "cell_type": "markdown",
      "source": [
        "### 3181"
      ],
      "metadata": {
        "id": "_p3EoP0GjO3C"
      }
    },
    {
      "cell_type": "code",
      "source": [
        "import sys\n",
        "\n",
        "ignore = ['i', 'pa', 'te', 'ni', 'niti', 'a', 'ali', 'nego', 'no', 'ili']\n",
        "\n",
        "s = list(sys.stdin.readline().rstrip().split())\n",
        "tmp = ''\n",
        "\n",
        "for word in s:\n",
        "  if word in ignore:\n",
        "    if s[0] == word:\n",
        "        tmp += word[0].upper()\n",
        "    pass\n",
        "  else:\n",
        "    tmp += word[0].upper()\n",
        "\n",
        "print(tmp)"
      ],
      "metadata": {
        "colab": {
          "base_uri": "https://localhost:8080/"
        },
        "id": "VTAdodUnjP13",
        "outputId": "f9cc424c-1005-4b8d-b107-1d6d87c395a0"
      },
      "execution_count": null,
      "outputs": [
        {
          "output_type": "stream",
          "name": "stdout",
          "text": [
            "micro soft\n",
            "MS\n"
          ]
        }
      ]
    },
    {
      "cell_type": "markdown",
      "source": [
        "---"
      ],
      "metadata": {
        "id": "z2SRNZAHjQB-"
      }
    },
    {
      "cell_type": "markdown",
      "source": [
        "## CodeTree"
      ],
      "metadata": {
        "id": "5q7_tzitjQo_"
      }
    },
    {
      "cell_type": "markdown",
      "source": [
        "### 최소 최대"
      ],
      "metadata": {
        "id": "CZDmGj0ejR9K"
      }
    },
    {
      "cell_type": "code",
      "source": [
        "n = int(input())\n",
        "nums = list(map(int, input().split()))\n",
        "\n",
        "nums.sort()\n",
        "print(nums[0], nums[-1])"
      ],
      "metadata": {
        "id": "b7vq2J8sjTVO"
      },
      "execution_count": null,
      "outputs": []
    }
  ]
}