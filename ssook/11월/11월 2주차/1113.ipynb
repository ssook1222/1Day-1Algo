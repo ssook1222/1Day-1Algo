{
  "nbformat": 4,
  "nbformat_minor": 0,
  "metadata": {
    "colab": {
      "provenance": [],
      "authorship_tag": "ABX9TyMIwuctSZTlt486qI85QqUH",
      "include_colab_link": true
    },
    "kernelspec": {
      "name": "python3",
      "display_name": "Python 3"
    },
    "language_info": {
      "name": "python"
    }
  },
  "cells": [
    {
      "cell_type": "markdown",
      "metadata": {
        "id": "view-in-github",
        "colab_type": "text"
      },
      "source": [
        "<a href=\"https://colab.research.google.com/github/ssook1222/1Day-1Algo/blob/master/ssook/11%EC%9B%94/11%EC%9B%94%202%EC%A3%BC%EC%B0%A8/1113.ipynb\" target=\"_parent\"><img src=\"https://colab.research.google.com/assets/colab-badge.svg\" alt=\"Open In Colab\"/></a>"
      ]
    },
    {
      "cell_type": "markdown",
      "source": [
        "## BoJ"
      ],
      "metadata": {
        "id": "y4jKprP66yDr"
      }
    },
    {
      "cell_type": "markdown",
      "source": [
        "### 8620"
      ],
      "metadata": {
        "id": "DIvfi7ne65qN"
      }
    },
    {
      "cell_type": "code",
      "execution_count": 5,
      "metadata": {
        "colab": {
          "base_uri": "https://localhost:8080/"
        },
        "id": "ris_sXM25Dzi",
        "outputId": "70a7c96f-c194-4ea6-9eb9-e4a2603567a9"
      },
      "outputs": [
        {
          "output_type": "stream",
          "name": "stdout",
          "text": [
            "3\n",
            "A +10\n",
            "A -2\n",
            "A -5\n",
            "A 3\n"
          ]
        }
      ],
      "source": [
        "import sys\n",
        "\n",
        "tab = [-1] * 26\n",
        "\n",
        "N = int(sys.stdin.readline().rstrip())\n",
        "for a in range(N):\n",
        "    data = sys.stdin.readline().rstrip().split()\n",
        "    r, z, il = data[0], data[1][0], int(data[1][1:])\n",
        "\n",
        "    index = ord(r) - 65\n",
        "    if tab[index] == -1:\n",
        "        tab[index] = 0\n",
        "\n",
        "    if z == '-':\n",
        "        tab[index] -= il\n",
        "    else:\n",
        "        tab[index] += il\n",
        "\n",
        "for a in range(26):\n",
        "    if tab[a] != -1:\n",
        "        print(chr(a + 65), tab[a])"
      ]
    },
    {
      "cell_type": "markdown",
      "source": [
        "### 18883"
      ],
      "metadata": {
        "id": "0FliW9WdDUz-"
      }
    },
    {
      "cell_type": "code",
      "source": [
        "n, m = map(int, input().split())\n",
        "\n",
        "for j in range(0, n):\n",
        "  tmp = ''\n",
        "  for i in range(1, m+1):\n",
        "    tmp+= str((m*j)+i) + ' '\n",
        "  print(tmp.rstrip())"
      ],
      "metadata": {
        "colab": {
          "base_uri": "https://localhost:8080/"
        },
        "id": "QrpOyYa1DVCv",
        "outputId": "a1c92182-216c-49ab-f9d9-df5a2de390bd"
      },
      "execution_count": 2,
      "outputs": [
        {
          "output_type": "stream",
          "name": "stdout",
          "text": [
            "5 6\n",
            "1 2 3 4 5 6\n",
            "7 8 9 10 11 12\n",
            "13 14 15 16 17 18\n",
            "19 20 21 22 23 24\n",
            "25 26 27 28 29 30\n"
          ]
        }
      ]
    },
    {
      "cell_type": "markdown",
      "source": [
        "## CodeTree"
      ],
      "metadata": {
        "id": "X6trNsmqHbk_"
      }
    },
    {
      "cell_type": "markdown",
      "source": [
        "### 짝수 번째만 거꾸로 출력"
      ],
      "metadata": {
        "id": "8qK0r44WHc9l"
      }
    },
    {
      "cell_type": "code",
      "source": [
        "s = input()\n",
        "tmp = ''\n",
        "\n",
        "for i in range(0, len(s)):\n",
        "    if i % 2 == 1:\n",
        "        tmp += s[i]\n",
        "\n",
        "tmp = tmp[::-1]\n",
        "print(tmp)"
      ],
      "metadata": {
        "id": "VC1uP_XzHcuZ"
      },
      "execution_count": 2,
      "outputs": []
    }
  ]
}