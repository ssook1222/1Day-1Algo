{
  "nbformat": 4,
  "nbformat_minor": 0,
  "metadata": {
    "colab": {
      "provenance": [],
      "authorship_tag": "ABX9TyMqUS0o2clKO5aLIJCKtLpI",
      "include_colab_link": true
    },
    "kernelspec": {
      "name": "python3",
      "display_name": "Python 3"
    },
    "language_info": {
      "name": "python"
    }
  },
  "cells": [
    {
      "cell_type": "markdown",
      "metadata": {
        "id": "view-in-github",
        "colab_type": "text"
      },
      "source": [
        "<a href=\"https://colab.research.google.com/github/ssook1222/1Day-1Algo/blob/master/ssook/11%EC%9B%94/11%EC%9B%94%202%EC%A3%BC%EC%B0%A8/1110.ipynb\" target=\"_parent\"><img src=\"https://colab.research.google.com/assets/colab-badge.svg\" alt=\"Open In Colab\"/></a>"
      ]
    },
    {
      "cell_type": "markdown",
      "source": [
        "## BoJ"
      ],
      "metadata": {
        "id": "YsV_050t7E6Y"
      }
    },
    {
      "cell_type": "markdown",
      "source": [
        "### 15819"
      ],
      "metadata": {
        "id": "m7DyGMiG7LdT"
      }
    },
    {
      "cell_type": "code",
      "execution_count": null,
      "metadata": {
        "id": "fPtQbNWv4sXB"
      },
      "outputs": [],
      "source": [
        "n, i = map(int, input().split())\n",
        "\n",
        "handle = []\n",
        "\n",
        "for _ in range(n):\n",
        "  handle.append(input())\n",
        "\n",
        "handle.sort()\n",
        "print(handle[i-1])"
      ]
    },
    {
      "cell_type": "markdown",
      "source": [
        "### 24776"
      ],
      "metadata": {
        "id": "7_STxeq97Mq0"
      }
    },
    {
      "cell_type": "code",
      "source": [
        "import sys\n",
        "\n",
        "candidate = {}\n",
        "\n",
        "while True:\n",
        "  s = sys.stdin.readline().rstrip()\n",
        "  if s == '***':\n",
        "    break\n",
        "\n",
        "  if s in candidate :\n",
        "    candidate[s] += 1\n",
        "\n",
        "  else:\n",
        "    candidate[s] = 1\n",
        "\n",
        "candidate = dict(sorted(candidate.items(), key = lambda x:-x[1]))\n",
        "\n",
        "hubo = ''\n",
        "\n",
        "for i in candidate:\n",
        "  curr = candidate[i]\n",
        "  hubo += i\n",
        "  break\n",
        "\n",
        "cnt = 1\n",
        "\n",
        "for j in candidate:\n",
        "  if cnt == 1:\n",
        "    cnt += 1\n",
        "    pass\n",
        "\n",
        "  else:\n",
        "    if curr == candidate[j]:\n",
        "      print('Runoff!')\n",
        "      break\n",
        "    else:\n",
        "      print(hubo)\n",
        "      break"
      ],
      "metadata": {
        "id": "SmRi_KbI7Nw9",
        "colab": {
          "base_uri": "https://localhost:8080/"
        },
        "outputId": "217a88dd-ea85-41ab-a453-9f7e43f8ecb2"
      },
      "execution_count": 4,
      "outputs": [
        {
          "output_type": "stream",
          "name": "stdout",
          "text": [
            "Penny Franklin\n",
            "Penny Franklin\n",
            "Penny Franklin\n",
            "Marti Graham\n",
            "***\n",
            "Penny Franklin\n"
          ]
        }
      ]
    },
    {
      "cell_type": "markdown",
      "source": [
        "---"
      ],
      "metadata": {
        "id": "V_sMxf927RJL"
      }
    },
    {
      "cell_type": "markdown",
      "source": [
        "## CodeTree"
      ],
      "metadata": {
        "id": "PBvDnfnm7ODa"
      }
    },
    {
      "cell_type": "markdown",
      "source": [
        "### 문자열의 길이 순"
      ],
      "metadata": {
        "id": "etNDgBQz7QFp"
      }
    },
    {
      "cell_type": "code",
      "source": [
        "n = int(input())\n",
        "word = []\n",
        "\n",
        "for _ in range(n):\n",
        "    word.append(input())\n",
        "\n",
        "word = sorted(word, key = lambda x:(len(x), x))\n",
        "\n",
        "for i in word:\n",
        "    print(i)"
      ],
      "metadata": {
        "id": "jpAtaGTD7SNg"
      },
      "execution_count": 4,
      "outputs": []
    }
  ]
}