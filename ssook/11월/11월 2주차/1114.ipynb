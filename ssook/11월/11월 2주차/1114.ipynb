{
  "nbformat": 4,
  "nbformat_minor": 0,
  "metadata": {
    "colab": {
      "provenance": [],
      "authorship_tag": "ABX9TyO8AptlnvVPmaigFXBeoMdX",
      "include_colab_link": true
    },
    "kernelspec": {
      "name": "python3",
      "display_name": "Python 3"
    },
    "language_info": {
      "name": "python"
    }
  },
  "cells": [
    {
      "cell_type": "markdown",
      "metadata": {
        "id": "view-in-github",
        "colab_type": "text"
      },
      "source": [
        "<a href=\"https://colab.research.google.com/github/ssook1222/1Day-1Algo/blob/master/ssook/11%EC%9B%94/11%EC%9B%94%202%EC%A3%BC%EC%B0%A8/1114.ipynb\" target=\"_parent\"><img src=\"https://colab.research.google.com/assets/colab-badge.svg\" alt=\"Open In Colab\"/></a>"
      ]
    },
    {
      "cell_type": "markdown",
      "source": [
        "## BoJ"
      ],
      "metadata": {
        "id": "0iUfFAQ2As6Q"
      }
    },
    {
      "cell_type": "markdown",
      "source": [
        "### 11645"
      ],
      "metadata": {
        "id": "fzrR-aWrAuao"
      }
    },
    {
      "cell_type": "code",
      "execution_count": 4,
      "metadata": {
        "colab": {
          "base_uri": "https://localhost:8080/"
        },
        "id": "UD8iQBZSAqA2",
        "outputId": "73190c6f-10a4-4b26-909b-82bc0784f448"
      },
      "outputs": [
        {
          "output_type": "stream",
          "name": "stdout",
          "text": [
            "2\n",
            "7\n",
            "saskatoon\n",
            "toronto\n",
            "winnipeg\n",
            "toronto\n",
            "vancouver\n",
            "saskatoon\n",
            "toronto\n",
            "4\n",
            "3\n",
            "edmonton\n",
            "edmonton\n",
            "edmonton\n",
            "1\n"
          ]
        }
      ],
      "source": [
        "import sys\n",
        "\n",
        "t = int(sys.stdin.readline().rstrip())\n",
        "\n",
        "for _ in range(t):\n",
        "  cities = {}\n",
        "\n",
        "  n = int(sys.stdin.readline().rstrip())\n",
        "\n",
        "  for _ in range(n):\n",
        "    name = sys.stdin.readline().rstrip()\n",
        "    if name in cities:\n",
        "      cities[name] += 1\n",
        "    else:\n",
        "      cities[name] = 1\n",
        "\n",
        "  print(len(cities))"
      ]
    },
    {
      "cell_type": "markdown",
      "source": [
        "### 30501"
      ],
      "metadata": {
        "id": "FJlGfs8NAvVs"
      }
    },
    {
      "cell_type": "code",
      "source": [
        "n = int(input())\n",
        "\n",
        "for _ in range(n):\n",
        "  hubo = input()\n",
        "  if 'S' in hubo:\n",
        "    print(hubo)\n",
        "  else:\n",
        "    pass"
      ],
      "metadata": {
        "colab": {
          "base_uri": "https://localhost:8080/"
        },
        "id": "gbBJTzzCAwH_",
        "outputId": "a2b953c1-7d1d-4af8-e561-cd0bf5591325"
      },
      "execution_count": 5,
      "outputs": [
        {
          "name": "stdout",
          "output_type": "stream",
          "text": [
            "3\n",
            "ZHOUYU\n",
            "SUNQUAN\n",
            "SUNQUAN\n",
            "ZOZO\n"
          ]
        }
      ]
    },
    {
      "cell_type": "markdown",
      "source": [
        "---"
      ],
      "metadata": {
        "id": "-sBhaQ0OAwkS"
      }
    },
    {
      "cell_type": "markdown",
      "source": [
        "## CodeTree"
      ],
      "metadata": {
        "id": "WBQ8Lil-AxhA"
      }
    },
    {
      "cell_type": "markdown",
      "source": [
        "### 주사위 놀이"
      ],
      "metadata": {
        "id": "N-d1eMQ2AyqT"
      }
    },
    {
      "cell_type": "code",
      "source": [
        "dice = list(map(int, input().split()))\n",
        "\n",
        "num = {}\n",
        "\n",
        "for n in dice:\n",
        "    if n in num:\n",
        "        num[n] += 1\n",
        "\n",
        "    else:\n",
        "        num[n] = 1\n",
        "\n",
        "for i in range(1, 7):\n",
        "    if i in num:\n",
        "        print(\"%d - %d\" %(i, num[i]))\n",
        "    else:\n",
        "        print(\"%d - 0\" %(i))"
      ],
      "metadata": {
        "id": "EWlWs_YFAzXi"
      },
      "execution_count": 5,
      "outputs": []
    }
  ]
}