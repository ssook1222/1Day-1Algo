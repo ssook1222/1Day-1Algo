{
  "nbformat": 4,
  "nbformat_minor": 0,
  "metadata": {
    "colab": {
      "provenance": [],
      "authorship_tag": "ABX9TyPbYYRm0WRXFRZCGuNf8YjI",
      "include_colab_link": true
    },
    "kernelspec": {
      "name": "python3",
      "display_name": "Python 3"
    },
    "language_info": {
      "name": "python"
    }
  },
  "cells": [
    {
      "cell_type": "markdown",
      "metadata": {
        "id": "view-in-github",
        "colab_type": "text"
      },
      "source": [
        "<a href=\"https://colab.research.google.com/github/ssook1222/1Day-1Algo/blob/master/ssook/11%EC%9B%94/11%EC%9B%94%202%EC%A3%BC%EC%B0%A8/1109.ipynb\" target=\"_parent\"><img src=\"https://colab.research.google.com/assets/colab-badge.svg\" alt=\"Open In Colab\"/></a>"
      ]
    },
    {
      "cell_type": "markdown",
      "source": [
        "## BoJ"
      ],
      "metadata": {
        "id": "0wgX_ZpAT-Cf"
      }
    },
    {
      "cell_type": "markdown",
      "source": [
        "### 27522"
      ],
      "metadata": {
        "id": "CPMVjL5pT_iS"
      }
    },
    {
      "cell_type": "code",
      "execution_count": 2,
      "metadata": {
        "colab": {
          "base_uri": "https://localhost:8080/"
        },
        "id": "U7TZK7yoQFfu",
        "outputId": "485c5ae6-6fe4-46ff-cfc9-0bd77d4912df"
      },
      "outputs": [
        {
          "output_type": "stream",
          "name": "stdout",
          "text": [
            "1:52:682 B\n",
            "1:50:201 R\n",
            "1:49:003 B\n",
            "1:49:735 B\n",
            "1:50:257 R\n",
            "1:51:134 R\n",
            "1:49:236 R\n",
            "1:53:932 B\n",
            "Red\n"
          ]
        }
      ],
      "source": [
        "records = []\n",
        "for i in range(8):\n",
        "  record_raw, team = map(str, input().split())\n",
        "  recode = list(map(int, record_raw.split(':')))\n",
        "\n",
        "  records.append([recode[0], recode[1], recode[2], team])\n",
        "\n",
        "records = sorted(records, key = lambda x:(x[0], x[1], x[2]))\n",
        "\n",
        "team_red = 0\n",
        "team_blue = 0\n",
        "\n",
        "for i in range(len(records)):\n",
        "  if i == 0:\n",
        "    if records[i][3] == 'R':\n",
        "      team_red += 10\n",
        "    elif records[i][3] == 'B':\n",
        "      team_blue += 10\n",
        "\n",
        "  if i == 1:\n",
        "    if records[i][3] == 'R':\n",
        "      team_red += 8\n",
        "    elif records[i][3] == 'B':\n",
        "      team_blue += 8\n",
        "\n",
        "  if i == 2:\n",
        "    if records[i][3] == 'R':\n",
        "      team_red += 6\n",
        "    elif records[i][3] == 'B':\n",
        "      team_blue += 6\n",
        "\n",
        "  if i == 3:\n",
        "    if records[i][3] == 'R':\n",
        "      team_red += 5\n",
        "    elif records[i][3] == 'B':\n",
        "      team_blue += 5\n",
        "\n",
        "  if i == 4:\n",
        "    if records[i][3] == 'R':\n",
        "      team_red += 4\n",
        "    elif records[i][3] == 'B':\n",
        "      team_blue += 4\n",
        "\n",
        "  if i == 5:\n",
        "    if records[i][3] == 'R':\n",
        "      team_red += 3\n",
        "    elif records[i][3] == 'B':\n",
        "      team_blue += 3\n",
        "\n",
        "  if i == 6:\n",
        "    if records[i][3] == 'R':\n",
        "      team_red += 2\n",
        "    elif records[i][3] == 'B':\n",
        "      team_blue += 2\n",
        "\n",
        "  if i == 7:\n",
        "    if records[i][3] == 'R':\n",
        "      team_red += 1\n",
        "    elif records[i][3] == 'B':\n",
        "      team_blue += 1\n",
        "\n",
        "if team_red == team_blue:\n",
        "  if records[0][3] == 'R':\n",
        "    print('Red')\n",
        "  elif records[0][3] == 'B':\n",
        "    print('Blue')\n",
        "\n",
        "else:\n",
        "  if team_red > team_blue:\n",
        "    print('Red')\n",
        "  else:\n",
        "    print('Blue')\n"
      ]
    },
    {
      "cell_type": "markdown",
      "source": [
        "### 5089"
      ],
      "metadata": {
        "id": "1wX2sLbyUfKS"
      }
    },
    {
      "cell_type": "code",
      "source": [
        "import sys\n",
        "\n",
        "cnt = 1\n",
        "\n",
        "while True:\n",
        "  city = []\n",
        "  num = int(sys.stdin.readline().rstrip())\n",
        "\n",
        "  if num == 0:\n",
        "    break\n",
        "\n",
        "  for _ in range(num):\n",
        "    city.append(sys.stdin.readline())\n",
        "\n",
        "  print('Week %d %d' %(cnt, len(set(city))))\n",
        "  cnt += 1\n"
      ],
      "metadata": {
        "colab": {
          "base_uri": "https://localhost:8080/"
        },
        "id": "F1-DKyWVUfU9",
        "outputId": "b057c442-f519-4d23-8bc8-0f8b62159e41"
      },
      "execution_count": 3,
      "outputs": [
        {
          "name": "stdout",
          "output_type": "stream",
          "text": [
            "5\n",
            "Wellsford\n",
            "Ruakaka\n",
            "Marsden Point\n",
            "Wellsford\n",
            "Warkworth\n",
            "Week 1 4\n",
            "0\n"
          ]
        }
      ]
    },
    {
      "cell_type": "markdown",
      "source": [
        "---"
      ],
      "metadata": {
        "id": "0pmcXDIXUgj-"
      }
    },
    {
      "cell_type": "markdown",
      "source": [
        "## CodeTree"
      ],
      "metadata": {
        "id": "HXkO0to7UhRy"
      }
    },
    {
      "cell_type": "markdown",
      "source": [
        "### 행, 열에 대해 대칭인 별 출력"
      ],
      "metadata": {
        "id": "BmTSjLFpUjMA"
      }
    },
    {
      "cell_type": "code",
      "source": [
        "n = int(input())\n",
        "\n",
        "for i in range(1, n+1):\n",
        "    for _ in range(n-i, 0, -1):\n",
        "        print(\" \", end = \"\")\n",
        "    for _ in range(i):\n",
        "        print(\"*\", end = \" \")\n",
        "    print()\n",
        "\n",
        "for i in range(n-1, 0, -1):\n",
        "    for _ in range(n-i, 0, -1):\n",
        "        print(\" \", end = \"\")\n",
        "    for _ in range(i):\n",
        "        print(\"*\", end = \" \")\n",
        "    print()"
      ],
      "metadata": {
        "id": "tfb2SH4mUkCA"
      },
      "execution_count": 3,
      "outputs": []
    }
  ]
}