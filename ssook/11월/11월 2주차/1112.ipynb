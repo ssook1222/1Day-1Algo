{
  "nbformat": 4,
  "nbformat_minor": 0,
  "metadata": {
    "colab": {
      "provenance": [],
      "authorship_tag": "ABX9TyOeyhcdbe8AGkOxvwxE4/w9",
      "include_colab_link": true
    },
    "kernelspec": {
      "name": "python3",
      "display_name": "Python 3"
    },
    "language_info": {
      "name": "python"
    }
  },
  "cells": [
    {
      "cell_type": "markdown",
      "metadata": {
        "id": "view-in-github",
        "colab_type": "text"
      },
      "source": [
        "<a href=\"https://colab.research.google.com/github/ssook1222/1Day-1Algo/blob/master/ssook/11%EC%9B%94/11%EC%9B%94%202%EC%A3%BC%EC%B0%A8/1112.ipynb\" target=\"_parent\"><img src=\"https://colab.research.google.com/assets/colab-badge.svg\" alt=\"Open In Colab\"/></a>"
      ]
    },
    {
      "cell_type": "markdown",
      "source": [
        "## BoJ"
      ],
      "metadata": {
        "id": "TD4pUhmilvIV"
      }
    },
    {
      "cell_type": "markdown",
      "source": [
        "### 10689"
      ],
      "metadata": {
        "id": "2rndhBPxlx6M"
      }
    },
    {
      "cell_type": "code",
      "execution_count": 3,
      "metadata": {
        "colab": {
          "base_uri": "https://localhost:8080/"
        },
        "id": "jGffIHRmlmNn",
        "outputId": "d270a88c-1fc4-4d2b-ee48-319a8263cdaa"
      },
      "outputs": [
        {
          "output_type": "stream",
          "name": "stdout",
          "text": [
            "1\n",
            "8\n",
            "2 3 2 1 2 3 3 3\n",
            "Case 1: 4\n"
          ]
        }
      ],
      "source": [
        "import sys\n",
        "\n",
        "T = int(sys.stdin.readline().rstrip())\n",
        "\n",
        "for t in range(1, T+1):\n",
        "    N = int(sys.stdin.readline().rstrip())\n",
        "\n",
        "    numbers = list(map(int, sys.stdin.readline().rstrip().split()))\n",
        "\n",
        "    map_cnt = {}\n",
        "    for i, num in enumerate(numbers, 1):\n",
        "        if num not in map_cnt:\n",
        "            map_cnt[num] = i\n",
        "\n",
        "    ans = 0\n",
        "    for val in map_cnt.values():\n",
        "        ans = max(ans, val)\n",
        "\n",
        "    print(f\"Case {t}: {ans}\")"
      ]
    },
    {
      "cell_type": "markdown",
      "source": [
        "### 15917"
      ],
      "metadata": {
        "id": "Y68HLOrNtEWe"
      }
    },
    {
      "cell_type": "code",
      "source": [
        "import sys\n",
        "\n",
        "q = int(sys.stdin.readline().rstrip())\n",
        "\n",
        "for _ in range(q):\n",
        "    a = int(sys.stdin.readline().rstrip())\n",
        "\n",
        "    if (a & (a - 1)) == 0:\n",
        "        print(1)\n",
        "    else:\n",
        "        print(0)"
      ],
      "metadata": {
        "colab": {
          "base_uri": "https://localhost:8080/"
        },
        "id": "5SRT9WQ1tErB",
        "outputId": "0dd3af1f-c424-4615-87f5-0a03753e1634"
      },
      "execution_count": 11,
      "outputs": [
        {
          "output_type": "stream",
          "name": "stdout",
          "text": [
            "1100\n",
            "1000\n",
            "5\n",
            "1\n",
            "1\n",
            "2\n",
            "1\n",
            "7\n",
            "0\n",
            "4\n",
            "1\n",
            "14\n",
            "0\n"
          ]
        }
      ]
    },
    {
      "cell_type": "markdown",
      "source": [
        "`(a & (a - 1)) == 0`은 a가 2의 거듭제곱인지 확인하는 방법 중 하나.\n",
        "\n",
        " 만약 a가 2의 거듭제곱이라면, 비트 단위의 AND 연산자를 사용했을 때 결과는 0이 나오게 되어 있음.   "
      ],
      "metadata": {
        "id": "9gRx1anMvSrX"
      }
    },
    {
      "cell_type": "markdown",
      "source": [
        "## CodeTree"
      ],
      "metadata": {
        "id": "Os4EGnkwlzRB"
      }
    },
    {
      "cell_type": "markdown",
      "source": [
        "###  부분 문자열의 개수"
      ],
      "metadata": {
        "id": "aGYULEH6l2uV"
      }
    },
    {
      "cell_type": "code",
      "source": [
        "def count_substring_occurrences(string_a, string_b):\n",
        "    count = 0\n",
        "    for i in range(len(string_a) - 1):\n",
        "        if string_a[i:i + 2] == string_b:\n",
        "            count += 1\n",
        "    return count\n",
        "\n",
        "string_a = input()\n",
        "string_b = input()\n",
        "\n",
        "result = count_substring_occurrences(string_a, string_b)\n",
        "print(result)"
      ],
      "metadata": {
        "id": "EUY3HS-gl3ta"
      },
      "execution_count": null,
      "outputs": []
    }
  ]
}