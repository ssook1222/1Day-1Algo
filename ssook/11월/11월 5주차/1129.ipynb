{
  "nbformat": 4,
  "nbformat_minor": 0,
  "metadata": {
    "colab": {
      "provenance": [],
      "authorship_tag": "ABX9TyPwEExqwS59Y3noVoqwKN0W",
      "include_colab_link": true
    },
    "kernelspec": {
      "name": "python3",
      "display_name": "Python 3"
    },
    "language_info": {
      "name": "python"
    }
  },
  "cells": [
    {
      "cell_type": "markdown",
      "metadata": {
        "id": "view-in-github",
        "colab_type": "text"
      },
      "source": [
        "<a href=\"https://colab.research.google.com/github/ssook1222/1Day-1Algo/blob/master/ssook/11%EC%9B%94/11%EC%9B%94%205%EC%A3%BC%EC%B0%A8/1129.ipynb\" target=\"_parent\"><img src=\"https://colab.research.google.com/assets/colab-badge.svg\" alt=\"Open In Colab\"/></a>"
      ]
    },
    {
      "cell_type": "markdown",
      "source": [
        "## BoJ"
      ],
      "metadata": {
        "id": "wnaGZs0GHW64"
      }
    },
    {
      "cell_type": "markdown",
      "source": [
        "### 8538"
      ],
      "metadata": {
        "id": "pFgOZNuTHYe8"
      }
    },
    {
      "cell_type": "code",
      "execution_count": null,
      "metadata": {
        "colab": {
          "base_uri": "https://localhost:8080/"
        },
        "id": "TsjupUobGrMg",
        "outputId": "4a9ffc70-3376-40f2-cb12-3ff4f0f390aa"
      },
      "outputs": [
        {
          "output_type": "stream",
          "name": "stdout",
          "text": [
            "3\n",
            "-a--E-a\n",
            "aeA-\n",
            "ae-\n",
            "2\n"
          ]
        }
      ],
      "source": [
        "import sys\n",
        "\n",
        "t = int(sys.stdin.readline().rstrip())\n",
        "names = {}\n",
        "\n",
        "for _ in range(t):\n",
        "  raw = sys.stdin.readline().rstrip()\n",
        "  raw = raw.replace('-','')\n",
        "  raw = raw.lower()\n",
        "\n",
        "  if raw in names:\n",
        "    names[raw] += 1\n",
        "  else:\n",
        "    names[raw] = 1\n",
        "\n",
        "print(len(names))"
      ]
    },
    {
      "cell_type": "markdown",
      "source": [
        "### 17350"
      ],
      "metadata": {
        "id": "Q5D1yhKjIw4X"
      }
    },
    {
      "cell_type": "code",
      "source": [
        "import sys\n",
        "\n",
        "t = int(sys.stdin.readline().rstrip())\n",
        "\n",
        "for _ in range(t):\n",
        "  name = sys.stdin.readline().rstrip()\n",
        "  if name == 'anj':\n",
        "    print('뭐야;')\n",
        "    sys.exit()\n",
        "\n",
        "print('뭐야?')"
      ],
      "metadata": {
        "id": "pFb9z17wI1TX"
      },
      "execution_count": null,
      "outputs": []
    },
    {
      "cell_type": "markdown",
      "source": [
        "---"
      ],
      "metadata": {
        "id": "cUK7Cb_NI1mg"
      }
    },
    {
      "cell_type": "markdown",
      "source": [
        "## CodeTree"
      ],
      "metadata": {
        "id": "Z_OsnCjoKr2B"
      }
    },
    {
      "cell_type": "markdown",
      "source": [
        "### 수열 합치기"
      ],
      "metadata": {
        "id": "eUO8hGgSKtIm"
      }
    },
    {
      "cell_type": "code",
      "source": [
        "n, m = map(int, input().split())\n",
        "num1 = list(map(int, input().split()))\n",
        "num2 = list(map(int, input().split()))\n",
        "\n",
        "raw = num1 + num2\n",
        "raw.sort()\n",
        "\n",
        "print(*raw)"
      ],
      "metadata": {
        "id": "OTMZf_WxKt1K"
      },
      "execution_count": null,
      "outputs": []
    }
  ]
}