{
  "nbformat": 4,
  "nbformat_minor": 0,
  "metadata": {
    "colab": {
      "provenance": [],
      "authorship_tag": "ABX9TyN5ghR94UFtiRF5g/7NaJDw",
      "include_colab_link": true
    },
    "kernelspec": {
      "name": "python3",
      "display_name": "Python 3"
    },
    "language_info": {
      "name": "python"
    }
  },
  "cells": [
    {
      "cell_type": "markdown",
      "metadata": {
        "id": "view-in-github",
        "colab_type": "text"
      },
      "source": [
        "<a href=\"https://colab.research.google.com/github/ssook1222/1Day-1Algo/blob/master/ssook/11%EC%9B%94/11%EC%9B%94%205%EC%A3%BC%EC%B0%A8/1130.ipynb\" target=\"_parent\"><img src=\"https://colab.research.google.com/assets/colab-badge.svg\" alt=\"Open In Colab\"/></a>"
      ]
    },
    {
      "cell_type": "markdown",
      "source": [
        "## BoJ"
      ],
      "metadata": {
        "id": "5s4DkyrU2jdP"
      }
    },
    {
      "cell_type": "markdown",
      "source": [
        "### 5134"
      ],
      "metadata": {
        "id": "E-CUqAw02k4U"
      }
    },
    {
      "cell_type": "code",
      "execution_count": null,
      "metadata": {
        "id": "AUQ541MH2iIr",
        "colab": {
          "base_uri": "https://localhost:8080/"
        },
        "outputId": "6be15a7e-84f7-4279-9c66-9d9f0eaafcef"
      },
      "outputs": [
        {
          "output_type": "stream",
          "name": "stdout",
          "text": [
            "1\n",
            "2 3\n",
            "3 $3.00 $3.00 Mango Sorbet\n",
            "2 $6.00 $4.50 TV dinner\n",
            "1 Mango Sorbet\n",
            "3 tv dinner\n",
            "1 nacho cheese\n",
            "Data Set 1:\n",
            "$3.00\n"
          ]
        }
      ],
      "source": [
        "t = int(input())\n",
        "\n",
        "for index in range(1, t+1):\n",
        "  discount = {}\n",
        "  n, m = map(int, input().split())\n",
        "  for _ in range(n):\n",
        "    item = list(map(str, input().split()))\n",
        "\n",
        "    quantity = int(item[0])\n",
        "    ori_price = float(item[1][1:])\n",
        "    dis_price = float(item[2][1:])\n",
        "    item_name = (' '.join(item[3:])).lower()\n",
        "\n",
        "    discount[item_name] = [quantity, ori_price - dis_price]\n",
        "\n",
        "  ans = 0\n",
        "\n",
        "  for _ in range(m):\n",
        "    needs = list(map(str, input().split()))\n",
        "    need_quantity = int(needs[0])\n",
        "    need_item = (' '.join(needs[1:])).lower()\n",
        "\n",
        "    if need_item in discount:\n",
        "      if discount[need_item][0] >= 0:\n",
        "        if discount[need_item][0] > need_quantity:\n",
        "          discount[need_item][0] -= need_quantity\n",
        "          ans += need_quantity * discount[need_item][1]\n",
        "\n",
        "        else:\n",
        "          ans += discount[need_item][0] * discount[need_item][1]\n",
        "          discount[need_item][0] = 0\n",
        "\n",
        "  if t == 1:\n",
        "      print(\"Data Set %d:\" %index)\n",
        "      print(\"$%.2f\" %ans)\n",
        "\n",
        "  else:\n",
        "      if index != t:\n",
        "          print(\"Data Set %d:\" %index)\n",
        "          print(\"$%.2f\" %ans)\n",
        "          print(\" \")\n",
        "      else:\n",
        "          print(\"Data Set %d:\" %index)\n",
        "          print(\"$%.2f\" %ans)"
      ]
    },
    {
      "cell_type": "markdown",
      "source": [
        "### 26314"
      ],
      "metadata": {
        "id": "NNAsdulv2lpL"
      }
    },
    {
      "cell_type": "code",
      "source": [
        "import sys\n",
        "\n",
        "vowel = ['a', 'e', 'i', 'o', 'u']\n",
        "\n",
        "n = int(sys.stdin.readline().rstrip())\n",
        "\n",
        "for _ in range(n):\n",
        "  s = sys.stdin.readline().rstrip()\n",
        "  cnt = 0\n",
        "\n",
        "  for c in s:\n",
        "    if c in vowel:\n",
        "      cnt += 1\n",
        "  if len(s) - cnt < cnt:\n",
        "    print(s)\n",
        "    print(1)\n",
        "  else:\n",
        "    print(s)\n",
        "    print(0)"
      ],
      "metadata": {
        "id": "DoB47umI2mbG",
        "colab": {
          "base_uri": "https://localhost:8080/"
        },
        "outputId": "0424e4e1-bb68-471e-e0bb-9dba4d9cb282"
      },
      "execution_count": null,
      "outputs": [
        {
          "output_type": "stream",
          "name": "stdout",
          "text": [
            "4\n",
            "ali\n",
            "1\n",
            "arup\n",
            "0\n",
            "travis\n",
            "0\n",
            "orooji\n",
            "1\n"
          ]
        }
      ]
    },
    {
      "cell_type": "markdown",
      "source": [
        "---"
      ],
      "metadata": {
        "id": "MwaTngHQ2m06"
      }
    },
    {
      "cell_type": "markdown",
      "source": [
        "## CodeTree"
      ],
      "metadata": {
        "id": "iD9CCfkL2o4C"
      }
    },
    {
      "cell_type": "markdown",
      "source": [
        "### 수 전부 이어 붙이기"
      ],
      "metadata": {
        "id": "emK7kQlT2ntV"
      }
    },
    {
      "cell_type": "code",
      "source": [
        "n = int(input())\n",
        "\n",
        "nums = list(map(int, input().split()))\n",
        "tmp = ''\n",
        "for num in nums:\n",
        "    tmp += str(num)\n",
        "\n",
        "for i in range(0, len(tmp), 5):\n",
        "    print(tmp[i:i+5])"
      ],
      "metadata": {
        "id": "gtFJR07J2oat"
      },
      "execution_count": null,
      "outputs": []
    }
  ]
}