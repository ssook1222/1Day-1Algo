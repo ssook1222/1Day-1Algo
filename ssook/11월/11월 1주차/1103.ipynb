{
  "nbformat": 4,
  "nbformat_minor": 0,
  "metadata": {
    "colab": {
      "provenance": [],
      "authorship_tag": "ABX9TyM5P6HEQkPyx6mvRhK3Ijl7",
      "include_colab_link": true
    },
    "kernelspec": {
      "name": "python3",
      "display_name": "Python 3"
    },
    "language_info": {
      "name": "python"
    }
  },
  "cells": [
    {
      "cell_type": "markdown",
      "metadata": {
        "id": "view-in-github",
        "colab_type": "text"
      },
      "source": [
        "<a href=\"https://colab.research.google.com/github/ssook1222/1Day-1Algo/blob/master/ssook/11%EC%9B%94/11%EC%9B%94%201%EC%A3%BC%EC%B0%A8/1103.ipynb\" target=\"_parent\"><img src=\"https://colab.research.google.com/assets/colab-badge.svg\" alt=\"Open In Colab\"/></a>"
      ]
    },
    {
      "cell_type": "markdown",
      "source": [
        "## BoJ"
      ],
      "metadata": {
        "id": "n5fo0xV0br7X"
      }
    },
    {
      "cell_type": "markdown",
      "source": [
        "### 28455"
      ],
      "metadata": {
        "id": "87VybqBvb2ZX"
      }
    },
    {
      "cell_type": "code",
      "execution_count": 7,
      "metadata": {
        "colab": {
          "base_uri": "https://localhost:8080/"
        },
        "id": "_SCeS9xdbqru",
        "outputId": "074f1db4-4793-4e4e-e4f5-434e142bcce8"
      },
      "outputs": [
        {
          "output_type": "stream",
          "name": "stdout",
          "text": [
            "5\n",
            "250\n",
            "200\n",
            "140\n",
            "100\n",
            "60\n",
            "750 15\n"
          ]
        }
      ],
      "source": [
        "t = int(input())\n",
        "char = []\n",
        "\n",
        "for _ in range(t):\n",
        "  char.append(int(input()))\n",
        "\n",
        "char.sort(reverse = True)\n",
        "\n",
        "if len(char) > 42:\n",
        "  char = char[:42]\n",
        "\n",
        "hap = sum(char)\n",
        "up = 0\n",
        "\n",
        "for i in char:\n",
        "  if i >= 60:\n",
        "    up += 1\n",
        "  if 100 <= i:\n",
        "    up += 1\n",
        "  if 140 <= i:\n",
        "    up += 1\n",
        "  if 200 <= i:\n",
        "    up += 1\n",
        "  if 250 <= i:\n",
        "    up += 1\n",
        "\n",
        "print(hap, up)"
      ]
    },
    {
      "cell_type": "markdown",
      "source": [
        "### 25859"
      ],
      "metadata": {
        "id": "BD7fAw19b3QU"
      }
    },
    {
      "cell_type": "code",
      "source": [
        "s = input()\n",
        "cnt = {}\n",
        "\n",
        "for i in s:\n",
        "  if i in cnt:\n",
        "    cnt[i] += 1\n",
        "  else:\n",
        "    cnt[i] = 1\n",
        "\n",
        "res = list(sorted(cnt, key=lambda x: (-cnt[x], x)))\n",
        "tmp = ''\n",
        "for i in res:\n",
        "  tmp += i*cnt[i]\n",
        "\n",
        "print(tmp)"
      ],
      "metadata": {
        "colab": {
          "base_uri": "https://localhost:8080/"
        },
        "id": "vcvaxQxcb4BR",
        "outputId": "24ce4a91-c35a-49c5-d322-a530daa8f327"
      },
      "execution_count": 13,
      "outputs": [
        {
          "output_type": "stream",
          "name": "stdout",
          "text": [
            "dcbbdabb\n",
            "bbbbddac\n"
          ]
        }
      ]
    },
    {
      "cell_type": "markdown",
      "source": [
        "---"
      ],
      "metadata": {
        "id": "WZkICPV7b4us"
      }
    },
    {
      "cell_type": "markdown",
      "source": [
        "## CodeTree"
      ],
      "metadata": {
        "id": "nU5UHoVbb53Z"
      }
    },
    {
      "cell_type": "markdown",
      "source": [
        "### 진단문제 1"
      ],
      "metadata": {
        "id": "fHzukLghb7y_"
      }
    },
    {
      "cell_type": "code",
      "source": [
        "def generate_binary_numbers(n):\n",
        "    for i in range(2 ** n):\n",
        "        binary_str = bin(i)[2:].zfill(n)\n",
        "        if '000' not in binary_str and '111' not in binary_str:\n",
        "            print(binary_str)\n",
        "\n",
        "n = int(input())\n",
        "generate_binary_numbers(n)"
      ],
      "metadata": {
        "colab": {
          "base_uri": "https://localhost:8080/"
        },
        "id": "YyRgrFZRb8kn",
        "outputId": "4f96c597-b8d6-4d50-a9ae-c5975633124f"
      },
      "execution_count": 15,
      "outputs": [
        {
          "output_type": "stream",
          "name": "stdout",
          "text": [
            "4\n",
            "0010\n",
            "0011\n",
            "0100\n",
            "0101\n",
            "0110\n",
            "1001\n",
            "1010\n",
            "1011\n",
            "1100\n",
            "1101\n"
          ]
        }
      ]
    },
    {
      "cell_type": "markdown",
      "source": [
        "`zfill(n)` : 파이썬의 문자열 메서드 중 하나로, 문자열의 왼쪽에 지정된 길이 n까지 0으로 채우는 역할을 수행함."
      ],
      "metadata": {
        "id": "VUHHpvFQw0oV"
      }
    },
    {
      "cell_type": "markdown",
      "source": [
        "### 진단문제 2"
      ],
      "metadata": {
        "id": "V9u5GB8P08SL"
      }
    },
    {
      "cell_type": "code",
      "source": [
        "def is_valid_move(x, y, n):\n",
        "    return 0 <= x < n and 0 <= y < n\n",
        "\n",
        "def knight_moves(chessboard, n, r, c):\n",
        "    def dfs(x, y):\n",
        "        visited[x][y] = True\n",
        "        dx = [1, 1, 2, 2, -1, -1, -2, -2]\n",
        "        dy = [2, -2, 1, -1, 2, -2, 1, -1]\n",
        "\n",
        "        for i in range(8):\n",
        "            new_x, new_y = x + dx[i], y + dy[i]\n",
        "            if is_valid_move(new_x, new_y, n) and not visited[new_x][new_y]:\n",
        "                if chessboard[new_x][new_y] == 0:\n",
        "                    dfs(new_x, new_y)\n",
        "\n",
        "    visited = [[False] * n for _ in range(n)]\n",
        "    dfs(r - 1, c - 1)\n",
        "\n",
        "    for i in range(n):\n",
        "        for j in range(n):\n",
        "            if visited[i][j]:\n",
        "                print(\"1\", end=\" \")\n",
        "            else:\n",
        "                print(\"0\", end=\" \")\n",
        "        print()\n",
        "\n",
        "n = int(input())\n",
        "chessboard = []\n",
        "for _ in range(n):\n",
        "    row = list(map(int, input().split()))\n",
        "    chessboard.append(row)\n",
        "r, c = map(int, input().split())\n",
        "\n",
        "knight_moves(chessboard, n, r, c)"
      ],
      "metadata": {
        "id": "PanlDtHLzlSC"
      },
      "execution_count": null,
      "outputs": []
    }
  ]
}