{
  "nbformat": 4,
  "nbformat_minor": 0,
  "metadata": {
    "colab": {
      "provenance": [],
      "authorship_tag": "ABX9TyPNbP7KlbLabgwpZO5bbbMD",
      "include_colab_link": true
    },
    "kernelspec": {
      "name": "python3",
      "display_name": "Python 3"
    },
    "language_info": {
      "name": "python"
    }
  },
  "cells": [
    {
      "cell_type": "markdown",
      "metadata": {
        "id": "view-in-github",
        "colab_type": "text"
      },
      "source": [
        "<a href=\"https://colab.research.google.com/github/ssook1222/1Day-1Algo/blob/master/ssook/11%EC%9B%94/11%EC%9B%94%201%EC%A3%BC%EC%B0%A8/1101.ipynb\" target=\"_parent\"><img src=\"https://colab.research.google.com/assets/colab-badge.svg\" alt=\"Open In Colab\"/></a>"
      ]
    },
    {
      "cell_type": "markdown",
      "source": [
        "## BoJ"
      ],
      "metadata": {
        "id": "q1Did9JXJXZd"
      }
    },
    {
      "cell_type": "markdown",
      "source": [
        "### 30445"
      ],
      "metadata": {
        "id": "AjgaktmcJYzr"
      }
    },
    {
      "cell_type": "code",
      "execution_count": 33,
      "metadata": {
        "colab": {
          "base_uri": "https://localhost:8080/"
        },
        "id": "ltH4l4KYIcp3",
        "outputId": "1ea71ae3-0916-4d18-bd45-6c20269d32a5"
      },
      "outputs": [
        {
          "output_type": "stream",
          "name": "stdout",
          "text": [
            "H SSSSSSSSSSSSSSSSSSSSSSSSSSSSSSS\n",
            "3.13\n"
          ]
        }
      ],
      "source": [
        "from decimal import Decimal, ROUND_HALF_UP\n",
        "\n",
        "def round2(num):\n",
        "    return Decimal(num).quantize(Decimal('0.00'), rounding=ROUND_HALF_UP)\n",
        "\n",
        "happy = ['H', 'A', 'P', 'Y']\n",
        "sad = ['S', 'A', 'D']\n",
        "\n",
        "h_score = 0\n",
        "s_score = 0\n",
        "\n",
        "s = list(input())\n",
        "\n",
        "for i in s:\n",
        "    if i == ' ':\n",
        "        pass\n",
        "    else:\n",
        "        if i in happy:\n",
        "            h_score += 1\n",
        "        if i in sad:\n",
        "            s_score += 1\n",
        "\n",
        "if h_score != 0 or s_score != 0:\n",
        "    h = h_score / (h_score + s_score)\n",
        "    result = round2(h * 100)\n",
        "    print(f'{result:.2f}')\n",
        "else:\n",
        "    print('50.00')\n"
      ]
    },
    {
      "cell_type": "markdown",
      "source": [
        "### 5349"
      ],
      "metadata": {
        "id": "z1ne2-2GZq5H"
      }
    },
    {
      "cell_type": "code",
      "source": [
        "import sys\n",
        "\n",
        "count = []\n",
        "ans = []\n",
        "\n",
        "while True:\n",
        "  s = sys.stdin.readline().rstrip()\n",
        "\n",
        "  if s == '000-00-0000':\n",
        "    break\n",
        "\n",
        "  else:\n",
        "    if s in count:\n",
        "      if s not in ans:\n",
        "        ans.append(s)\n",
        "      else:\n",
        "        pass\n",
        "    else:\n",
        "      count.append(s)\n",
        "\n",
        "ans.sort()\n",
        "\n",
        "for i in ans:\n",
        "  print(i)"
      ],
      "metadata": {
        "colab": {
          "base_uri": "https://localhost:8080/"
        },
        "id": "K8VtCxpuSYZK",
        "outputId": "10f02346-c4b5-47ce-877f-b6c0de54911d"
      },
      "execution_count": 35,
      "outputs": [
        {
          "output_type": "stream",
          "name": "stdout",
          "text": [
            "555-44-6666\n",
            "111-99-4444\n",
            "012-00-1111\n",
            "888-98-9086\n",
            "555-44-6666\n",
            "234-54-3425\n",
            "012-00-1111\n",
            "555-44-6666\n",
            "000-00-0000\n",
            "012-00-1111\n",
            "555-44-6666\n"
          ]
        }
      ]
    },
    {
      "cell_type": "markdown",
      "source": [
        "---"
      ],
      "metadata": {
        "id": "HbNVlWrae7Zh"
      }
    },
    {
      "cell_type": "markdown",
      "source": [
        "## CodeTree"
      ],
      "metadata": {
        "id": "R4Bp3KeOfBCB"
      }
    },
    {
      "cell_type": "markdown",
      "source": [
        "### 특정 문자로 끝나는 문자열"
      ],
      "metadata": {
        "id": "8O_HQz7Ze8OJ"
      }
    },
    {
      "cell_type": "code",
      "source": [
        "char = ''\n",
        "word = []\n",
        "ans = []\n",
        "for i in range(11):\n",
        "    s = input()\n",
        "\n",
        "    if len(s) == 1:\n",
        "        char += s\n",
        "\n",
        "        for i in word:\n",
        "            if i[-1] == char:\n",
        "                ans.append(i)\n",
        "\n",
        "        char = ''\n",
        "\n",
        "    else:\n",
        "        word.append(s)\n",
        "\n",
        "if not ans:\n",
        "    print(\"None\")\n",
        "else:\n",
        "    for i in ans:\n",
        "        print(i)"
      ],
      "metadata": {
        "id": "mDY0YwNne9v5"
      },
      "execution_count": 35,
      "outputs": []
    }
  ]
}