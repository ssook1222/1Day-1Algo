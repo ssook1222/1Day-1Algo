{
  "nbformat": 4,
  "nbformat_minor": 0,
  "metadata": {
    "colab": {
      "provenance": [],
      "authorship_tag": "ABX9TyPCNzh9KTgCHRWLafJfDxIH",
      "include_colab_link": true
    },
    "kernelspec": {
      "name": "python3",
      "display_name": "Python 3"
    },
    "language_info": {
      "name": "python"
    }
  },
  "cells": [
    {
      "cell_type": "markdown",
      "metadata": {
        "id": "view-in-github",
        "colab_type": "text"
      },
      "source": [
        "<a href=\"https://colab.research.google.com/github/ssook1222/1Day-1Algo/blob/master/ssook/11%EC%9B%94/11%EC%9B%94%201%EC%A3%BC%EC%B0%A8/1107.ipynb\" target=\"_parent\"><img src=\"https://colab.research.google.com/assets/colab-badge.svg\" alt=\"Open In Colab\"/></a>"
      ]
    },
    {
      "cell_type": "markdown",
      "source": [
        "## BoJ"
      ],
      "metadata": {
        "id": "Srl8Daes8FgP"
      }
    },
    {
      "cell_type": "markdown",
      "source": [
        "### 9784"
      ],
      "metadata": {
        "id": "R_MesCRx8HeL"
      }
    },
    {
      "cell_type": "code",
      "execution_count": 4,
      "metadata": {
        "colab": {
          "base_uri": "https://localhost:8080/"
        },
        "id": "8HAO6qtR8Bcy",
        "outputId": "b65de066-bd65-4422-cda8-3e8ec116860d"
      },
      "outputs": [
        {
          "output_type": "stream",
          "name": "stdout",
          "text": [
            "3\n",
            "3 2 10\n",
            "1 3 2\n",
            "Case 1: 2\n",
            "4 5 5\n",
            "4 4 5 5\n",
            "Case 2: 1\n",
            "5 5 15\n",
            "2 5 5 5 9\n",
            "Case 3: 3\n"
          ]
        }
      ],
      "source": [
        "import sys\n",
        "\n",
        "t = int(sys.stdin.readline().rstrip())\n",
        "\n",
        "for j in range(t):\n",
        "  n, p, q = map(int, sys.stdin.readline().rstrip().split())\n",
        "  eggs = list(map(int, sys.stdin.readline().rstrip().split()))\n",
        "  eggs.sort()\n",
        "\n",
        "  cnt = 0\n",
        "  hap = 0\n",
        "\n",
        "  for i in eggs:\n",
        "    hap += i\n",
        "    if hap <= q:\n",
        "      cnt += 1\n",
        "      if cnt >= p :\n",
        "        print(\"Case %d: %d\" %(j+1, p))\n",
        "        break\n",
        "\n",
        "  if cnt < p:\n",
        "    print(\"Case %d: %d\" %(j+1, cnt))"
      ]
    },
    {
      "cell_type": "markdown",
      "source": [
        "### 29766"
      ],
      "metadata": {
        "id": "j0nAo4FR8Iu1"
      }
    },
    {
      "cell_type": "code",
      "source": [
        "s = input()\n",
        "print(s.count('DKSH'))"
      ],
      "metadata": {
        "colab": {
          "base_uri": "https://localhost:8080/"
        },
        "id": "cHEO6yuz8JtU",
        "outputId": "2801422c-3c14-4032-ff7d-9084f2d12406"
      },
      "execution_count": 6,
      "outputs": [
        {
          "output_type": "stream",
          "name": "stdout",
          "text": [
            "HDKSHDDKS\n",
            "1\n"
          ]
        }
      ]
    },
    {
      "cell_type": "markdown",
      "source": [
        "### 5363"
      ],
      "metadata": {
        "id": "ya9utqXyaOI7"
      }
    },
    {
      "cell_type": "code",
      "source": [
        "t = int(input())\n",
        "\n",
        "for _ in range(t):\n",
        "  tmp = ''\n",
        "  s = list(map(str, input().split()))\n",
        "\n",
        "  tmp = ' '.join(s[2:]) + ' ' + s[0] + ' ' + s[1]\n",
        "\n",
        "  print(tmp)"
      ],
      "metadata": {
        "colab": {
          "base_uri": "https://localhost:8080/"
        },
        "id": "SCO1jQZDaOXY",
        "outputId": "9e029d59-8371-42a5-b0ff-333414b7f795"
      },
      "execution_count": 10,
      "outputs": [
        {
          "output_type": "stream",
          "name": "stdout",
          "text": [
            "4\n",
            "I will go now to find the Wookiee\n",
            "go now to find the Wookiee I will\n",
            "Solo found the death star near planet Kessel\n",
            "the death star near planet Kessel Solo found\n",
            "I'll fight Darth Maul here and now\n",
            "Darth Maul here and now I'll fight\n",
            "Vader will find Luke before he can escape\n",
            "find Luke before he can escape Vader will\n"
          ]
        }
      ]
    },
    {
      "cell_type": "markdown",
      "source": [
        "---"
      ],
      "metadata": {
        "id": "EbARE1YS8J_h"
      }
    },
    {
      "cell_type": "markdown",
      "source": [
        "## CodeTree"
      ],
      "metadata": {
        "id": "O0Aozs5K8LCf"
      }
    },
    {
      "cell_type": "markdown",
      "source": [
        "### 더하기 사이클"
      ],
      "metadata": {
        "id": "3P_fOMtL8MZL"
      }
    },
    {
      "cell_type": "code",
      "source": [
        "n = input()\n",
        "original_n = n\n",
        "cycle_length = 0\n",
        "\n",
        "while True:\n",
        "    if len(n) == 1:\n",
        "        n = '0' + n\n",
        "    tens_digit = n[0]\n",
        "    ones_digit = n[1]\n",
        "    hap = int(tens_digit) + int(ones_digit)\n",
        "    ns = ones_digit + str(hap % 10)\n",
        "\n",
        "    cycle_length += 1\n",
        "\n",
        "    if int(ns) == int(original_n):\n",
        "        break\n",
        "\n",
        "    n = ns\n",
        "\n",
        "print(cycle_length)"
      ],
      "metadata": {
        "id": "k91XPB618NKY"
      },
      "execution_count": null,
      "outputs": []
    }
  ]
}