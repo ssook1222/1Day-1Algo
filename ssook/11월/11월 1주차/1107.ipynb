{
  "nbformat": 4,
  "nbformat_minor": 0,
  "metadata": {
    "colab": {
      "provenance": [],
      "authorship_tag": "ABX9TyMQmreKTCPqPtllPvkHmRFP",
      "include_colab_link": true
    },
    "kernelspec": {
      "name": "python3",
      "display_name": "Python 3"
    },
    "language_info": {
      "name": "python"
    }
  },
  "cells": [
    {
      "cell_type": "markdown",
      "metadata": {
        "id": "view-in-github",
        "colab_type": "text"
      },
      "source": [
        "<a href=\"https://colab.research.google.com/github/ssook1222/1Day-1Algo/blob/master/ssook/11%EC%9B%94/11%EC%9B%94%201%EC%A3%BC%EC%B0%A8/1107.ipynb\" target=\"_parent\"><img src=\"https://colab.research.google.com/assets/colab-badge.svg\" alt=\"Open In Colab\"/></a>"
      ]
    },
    {
      "cell_type": "markdown",
      "source": [
        "## BoJ"
      ],
      "metadata": {
        "id": "gB0zzx8H0VEX"
      }
    },
    {
      "cell_type": "markdown",
      "source": [
        "### 30310"
      ],
      "metadata": {
        "id": "fn4e3q4b0XG5"
      }
    },
    {
      "cell_type": "code",
      "source": [
        "n = int(input())\n",
        "forks = list(map(int, input().split()))\n",
        "\n",
        "forks.sort()\n",
        "print(sum(forks[:2]))"
      ],
      "metadata": {
        "colab": {
          "base_uri": "https://localhost:8080/"
        },
        "id": "tHFF366X0YbA",
        "outputId": "ca0930a8-48c7-46f8-8a4a-eac52938f347"
      },
      "execution_count": 2,
      "outputs": [
        {
          "output_type": "stream",
          "name": "stdout",
          "text": [
            "10\n",
            "18 39 5 12 1000000000 54 23 11 123 31415\n",
            "16\n"
          ]
        }
      ]
    },
    {
      "cell_type": "markdown",
      "source": [
        "### 10546"
      ],
      "metadata": {
        "id": "oYGnNFgH0X7I"
      }
    },
    {
      "cell_type": "code",
      "execution_count": 4,
      "metadata": {
        "colab": {
          "base_uri": "https://localhost:8080/"
        },
        "id": "Nev2BJdKy1Ca",
        "outputId": "3156d7a2-b350-4c1d-c293-2be6291e98b3"
      },
      "outputs": [
        {
          "output_type": "stream",
          "name": "stdout",
          "text": [
            "3\n",
            "leo\n",
            "kiki\n",
            "eden\n",
            "eden\n",
            "kiki\n",
            "leo\n"
          ]
        }
      ],
      "source": [
        "import sys\n",
        "\n",
        "n = int(sys.stdin.readline().rstrip())\n",
        "\n",
        "people = {}\n",
        "\n",
        "for _ in range(n):\n",
        "  name = sys.stdin.readline().rstrip()\n",
        "\n",
        "  if name in people:\n",
        "    people[name] += 1\n",
        "  else:\n",
        "    people[name] = 1\n",
        "\n",
        "for _ in range(n-1):\n",
        "  s = sys.stdin.readline().rstrip()\n",
        "\n",
        "  if s in people:\n",
        "    people[s] -= 1\n",
        "\n",
        "for person in people:\n",
        "    if people[person] != 0:\n",
        "        print(person)\n",
        "        break"
      ]
    },
    {
      "cell_type": "markdown",
      "source": [
        "---"
      ],
      "metadata": {
        "id": "0BVGaV-v0ZlF"
      }
    },
    {
      "cell_type": "markdown",
      "source": [
        "##  CodeTree"
      ],
      "metadata": {
        "id": "yLhjK-ot0bIM"
      }
    },
    {
      "cell_type": "markdown",
      "source": [
        "### 별 찍기 2\n"
      ],
      "metadata": {
        "id": "FxIInubo0b85"
      }
    },
    {
      "cell_type": "code",
      "source": [
        "n, m = map(int, input().split())\n",
        "\n",
        "if m == 1:\n",
        "    for i in range(1, (n//2)+1):\n",
        "        print('*' * i)\n",
        "    for i in range((n//2)+1, -1, -1):\n",
        "        print('*' * i)\n",
        "\n",
        "\n",
        "if m == 2:\n",
        "    for i in range(1, (n//2)+1):\n",
        "        print(' ' * ((n//2)+1-i)+ '*' * i)\n",
        "    for i in range((n//2)+1, -1, -1):\n",
        "        print(' ' * ((n//2)+1-i)+ '*' * i)\n",
        "\n",
        "\n",
        "if m == 3:\n",
        "    if n % 2 != 0:\n",
        "        for i in range(1, (n//2)+1):\n",
        "            print(' '*(i-1) + '*'*(n-2*(i-1)) +' '*(i-1))\n",
        "\n",
        "        for i in range((n//2)+1, 0, -1):\n",
        "            print(' '*(i-1) + '*'*(n-2*(i-1)) +' '*(i-1))\n",
        "\n",
        "    else:\n",
        "        cnt = 0\n",
        "        for i in range((n//2)+1, 0, -1):\n",
        "            print(' '*cnt + '*'*(2*i-1) + ' '*cnt)\n",
        "            cnt += 1\n",
        "        cnt -= 2\n",
        "        for i in range(2, (n//2)+1, 1):\n",
        "            print(' '*cnt + '*'*(2*i-1) + ' '*cnt)\n",
        "            cnt -= 1\n",
        "\n",
        "if m == 4:\n",
        "    for i in range((n//2)+1, 0, -1):\n",
        "        print(' '*((n//2)+1-i) + '*'*i)\n",
        "    for i in range(2, (n//2)+2, 1):\n",
        "        print(' '*(((n//2))) + '*'*i)"
      ],
      "metadata": {
        "id": "s8b4zLuA0ceV"
      },
      "execution_count": null,
      "outputs": []
    }
  ]
}