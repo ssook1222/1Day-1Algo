{
  "nbformat": 4,
  "nbformat_minor": 0,
  "metadata": {
    "colab": {
      "provenance": [],
      "authorship_tag": "ABX9TyOl+fX33Z9PMtEzjSUtTrvj",
      "include_colab_link": true
    },
    "kernelspec": {
      "name": "python3",
      "display_name": "Python 3"
    },
    "language_info": {
      "name": "python"
    }
  },
  "cells": [
    {
      "cell_type": "markdown",
      "metadata": {
        "id": "view-in-github",
        "colab_type": "text"
      },
      "source": [
        "<a href=\"https://colab.research.google.com/github/ssook1222/1Day-1Algo/blob/master/ssook/11%EC%9B%94/11%EC%9B%94%203%EC%A3%BC%EC%B0%A8/1117.ipynb\" target=\"_parent\"><img src=\"https://colab.research.google.com/assets/colab-badge.svg\" alt=\"Open In Colab\"/></a>"
      ]
    },
    {
      "cell_type": "markdown",
      "source": [
        "## BoJ"
      ],
      "metadata": {
        "id": "SJ8z4L3jd40O"
      }
    },
    {
      "cell_type": "markdown",
      "source": [
        "### 9612"
      ],
      "metadata": {
        "id": "zT9X1ViEeF2w"
      }
    },
    {
      "cell_type": "code",
      "execution_count": 1,
      "metadata": {
        "colab": {
          "base_uri": "https://localhost:8080/"
        },
        "id": "FC00elQndr1B",
        "outputId": "ccc1451b-0b08-4f33-9d10-3c0148e70779"
      },
      "outputs": [
        {
          "output_type": "stream",
          "name": "stdout",
          "text": [
            "10\n",
            "산\n",
            "호수\n",
            "호수\n",
            "얼룩말\n",
            "나무\n",
            "호수\n",
            "얼룩말\n",
            "얼룩말\n",
            "동물\n",
            "호수\n",
            "호수 {'호수': 4, '얼룩말': 3, '산': 1, '나무': 1, '동물': 1}\n"
          ]
        }
      ],
      "source": [
        "import sys\n",
        "\n",
        "n = int(sys.stdin.readline().rstrip())\n",
        "word_cnt = {}\n",
        "\n",
        "for _ in range(n):\n",
        "  s = sys.stdin.readline().rstrip()\n",
        "\n",
        "  if s in word_cnt:\n",
        "    word_cnt[s] += 1\n",
        "  else:\n",
        "    word_cnt[s] = 1\n",
        "\n",
        "word_cnt = dict(sorted(word_cnt.items(), key=lambda x: (-x[1])))\n",
        "word_cnt = dict(sorted(word_cnt.items(), reverse = True))\n",
        "\n",
        "for i in word_cnt:\n",
        "  print(i, word_cnt[i])\n",
        "  break\n"
      ]
    },
    {
      "cell_type": "markdown",
      "source": [
        "### 9094"
      ],
      "metadata": {
        "id": "OQhcS0jIeGnK"
      }
    },
    {
      "cell_type": "code",
      "source": [
        "import sys\n",
        "\n",
        "t = int(sys.stdin.readline().rstrip())\n",
        "\n",
        "for _ in range(t):\n",
        "  hap = 0\n",
        "  n, m = map(int, sys.stdin.readline().rstrip().split())\n",
        "\n",
        "  for a in range(1, n):\n",
        "    for b in range(a+1, n):\n",
        "      if ((a**2)+(b**2)+m)/(a*b) == int(((a**2)+(b**2)+m)/(a*b)):\n",
        "        hap += 1\n",
        "      else:\n",
        "        pass\n",
        "\n",
        "  print(hap)"
      ],
      "metadata": {
        "colab": {
          "base_uri": "https://localhost:8080/"
        },
        "id": "Fgaj-R87eHRZ",
        "outputId": "825f8597-0bde-43bd-9126-a76509864b13"
      },
      "execution_count": 3,
      "outputs": [
        {
          "output_type": "stream",
          "name": "stdout",
          "text": [
            "3\n",
            "10 1\n",
            "2\n",
            "20 3\n",
            "4\n",
            "30 4\n",
            "5\n"
          ]
        }
      ]
    },
    {
      "cell_type": "markdown",
      "source": [
        "---"
      ],
      "metadata": {
        "id": "bFnHe7EKeH9A"
      }
    },
    {
      "cell_type": "markdown",
      "source": [
        "## CodeTree"
      ],
      "metadata": {
        "id": "RyCVr62deJIe"
      }
    },
    {
      "cell_type": "markdown",
      "source": [
        "### 알파벳 출력하기 2"
      ],
      "metadata": {
        "id": "FUBhf8HyeKg7"
      }
    },
    {
      "cell_type": "code",
      "source": [
        "n = int(input())\n",
        "\n",
        "start_char = ord('A')\n",
        "\n",
        "for i in range(n):\n",
        "    for j in range(i):\n",
        "        print(' ', end=' ')\n",
        "\n",
        "    for j in range(n - i):\n",
        "        print(chr(start_char), end=' ')\n",
        "        start_char += 1\n",
        "        if start_char > ord('Z'):\n",
        "            start_char = ord('A')\n",
        "\n",
        "    print()"
      ],
      "metadata": {
        "colab": {
          "base_uri": "https://localhost:8080/"
        },
        "id": "edFwoJPdeLG7",
        "outputId": "1aec79d3-290e-454c-cd12-3633ed07047e"
      },
      "execution_count": 5,
      "outputs": [
        {
          "output_type": "stream",
          "name": "stdout",
          "text": [
            "3\n",
            "A B C \n",
            "  D E \n",
            "    F \n"
          ]
        }
      ]
    }
  ]
}