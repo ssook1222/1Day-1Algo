{
  "nbformat": 4,
  "nbformat_minor": 0,
  "metadata": {
    "colab": {
      "provenance": [],
      "authorship_tag": "ABX9TyMw4TOvPcbWShxcGn8s9Uz1",
      "include_colab_link": true
    },
    "kernelspec": {
      "name": "python3",
      "display_name": "Python 3"
    },
    "language_info": {
      "name": "python"
    }
  },
  "cells": [
    {
      "cell_type": "markdown",
      "metadata": {
        "id": "view-in-github",
        "colab_type": "text"
      },
      "source": [
        "<a href=\"https://colab.research.google.com/github/ssook1222/1Day-1Algo/blob/master/ssook/11%EC%9B%94/11%EC%9B%94%203%EC%A3%BC%EC%B0%A8/1116.ipynb\" target=\"_parent\"><img src=\"https://colab.research.google.com/assets/colab-badge.svg\" alt=\"Open In Colab\"/></a>"
      ]
    },
    {
      "cell_type": "markdown",
      "source": [
        "## BoJ"
      ],
      "metadata": {
        "id": "zCpRNoYu3scL"
      }
    },
    {
      "cell_type": "markdown",
      "source": [
        "### 5366"
      ],
      "metadata": {
        "id": "ixAxMmaB3uiP"
      }
    },
    {
      "cell_type": "code",
      "execution_count": 1,
      "metadata": {
        "id": "XY2Fp8Im3nY_",
        "colab": {
          "base_uri": "https://localhost:8080/"
        },
        "outputId": "1a4da4ec-d49e-419d-a1f5-4c246e6b730b"
      },
      "outputs": [
        {
          "output_type": "stream",
          "name": "stdout",
          "text": [
            "Tie-fighter\n",
            "V-wing\n",
            "Starfighter\n",
            "Starfighter\n",
            "Tie-fighter\n",
            "Tri-fighter\n",
            "V-wing\n",
            "Starfighter\n",
            "Tie-fighter\n",
            "V-wing\n",
            "Tie-fighter\n",
            "V-wing\n",
            "Starfighter\n",
            "Tie-fighter\n",
            "0\n",
            "Tie-fighter : 5\n",
            "V-wing : 4\n",
            "Starfighter : 4\n",
            "Tri-fighter : 1\n",
            "Grand Total: 1\n"
          ]
        }
      ],
      "source": [
        "import sys\n",
        "\n",
        "fighter = {}\n",
        "\n",
        "while True:\n",
        "  s = sys.stdin.readline().rstrip()\n",
        "  if s == '0':\n",
        "    break\n",
        "\n",
        "  else:\n",
        "    if s in fighter:\n",
        "      fighter[s] += 1\n",
        "    else:\n",
        "      fighter[s] = 1\n",
        "\n",
        "hap = 0\n",
        "for c in fighter:\n",
        "  print(\"%s: %d\" %(c, fighter[c]))\n",
        "  hap += fighter[c]\n",
        "\n",
        "print(\"Grand Total: %d\" %(hap) )"
      ]
    },
    {
      "cell_type": "markdown",
      "source": [
        "### 23530"
      ],
      "metadata": {
        "id": "uiN6jAXl3v_P"
      }
    },
    {
      "cell_type": "code",
      "source": [
        "t = int(input())\n",
        "\n",
        "for _ in range(t):\n",
        "  a, b = map(int, input().split())\n",
        "\n",
        "  for n in range(1, 51):\n",
        "    if n != a+b:\n",
        "      print(n)\n",
        "      break"
      ],
      "metadata": {
        "id": "GUAFja9p3xZ7",
        "colab": {
          "base_uri": "https://localhost:8080/"
        },
        "outputId": "10d3af7c-8be0-44fe-b125-70ce64d5dd3b"
      },
      "execution_count": 5,
      "outputs": [
        {
          "output_type": "stream",
          "name": "stdout",
          "text": [
            "3\n",
            "1 2\n",
            "1\n",
            "3 4\n",
            "1\n",
            "5 6\n",
            "1\n"
          ]
        }
      ]
    },
    {
      "cell_type": "markdown",
      "source": [
        "---"
      ],
      "metadata": {
        "id": "U4wAhIGS3xqR"
      }
    },
    {
      "cell_type": "markdown",
      "source": [
        "## CodeTree"
      ],
      "metadata": {
        "id": "jPaoVTk93zR2"
      }
    },
    {
      "cell_type": "markdown",
      "source": [
        "### 모양과 관계 없는 별 출력 / 규칙을 찾아 출력하기"
      ],
      "metadata": {
        "id": "xTl8Lg-0tYnj"
      }
    },
    {
      "cell_type": "code",
      "source": [
        "n = int(input())\n",
        "\n",
        "for i in range(n):\n",
        "    if i == 0 :\n",
        "        print('* '*(n))\n",
        "    else:\n",
        "        for j in range(1, n):\n",
        "            print('* '*(j)+' '*(2*(n-j-1))+'* ')\n",
        "        break"
      ],
      "metadata": {
        "id": "O5pi_BIr31kx"
      },
      "execution_count": 5,
      "outputs": []
    }
  ]
}