{
  "nbformat": 4,
  "nbformat_minor": 0,
  "metadata": {
    "colab": {
      "provenance": [],
      "authorship_tag": "ABX9TyP7rp2ifIITeay1AueSoXVs",
      "include_colab_link": true
    },
    "kernelspec": {
      "name": "python3",
      "display_name": "Python 3"
    },
    "language_info": {
      "name": "python"
    }
  },
  "cells": [
    {
      "cell_type": "markdown",
      "metadata": {
        "id": "view-in-github",
        "colab_type": "text"
      },
      "source": [
        "<a href=\"https://colab.research.google.com/github/ssook1222/1Day-1Algo/blob/master/ssook/11%EC%9B%94/11%EC%9B%94%203%EC%A3%BC%EC%B0%A8/1121.ipynb\" target=\"_parent\"><img src=\"https://colab.research.google.com/assets/colab-badge.svg\" alt=\"Open In Colab\"/></a>"
      ]
    },
    {
      "cell_type": "markdown",
      "source": [
        "## BoJ"
      ],
      "metadata": {
        "id": "eyRMxz9xQfzF"
      }
    },
    {
      "cell_type": "markdown",
      "source": [
        "### 14670"
      ],
      "metadata": {
        "id": "7jx8o0TkQjmS"
      }
    },
    {
      "cell_type": "code",
      "execution_count": 1,
      "metadata": {
        "colab": {
          "base_uri": "https://localhost:8080/"
        },
        "id": "wUkn4C-cQePV",
        "outputId": "295f9908-3429-4a97-a20b-b9ca7a2e0132"
      },
      "outputs": [
        {
          "output_type": "stream",
          "name": "stdout",
          "text": [
            "3\n",
            "1 3\n",
            "4 2\n",
            "99 1\n",
            "4\n",
            "1 1\n",
            "3\n",
            "2 4 99\n",
            "2 1\n",
            "3 4 1 99\n",
            "2 3 1\n",
            "1 5\n",
            "YOU DIED\n"
          ]
        }
      ],
      "source": [
        "import sys\n",
        "\n",
        "n = int(sys.stdin.readline().rstrip())\n",
        "med = {}\n",
        "\n",
        "for _ in range(n):\n",
        "  ef, na = map(int, sys.stdin.readline().rstrip().split())\n",
        "  med[ef] = na\n",
        "\n",
        "r = int(input())\n",
        "\n",
        "for _ in range(r):\n",
        "  sym = list(map(int, sys.stdin.readline().rstrip().split()))\n",
        "  chk = True\n",
        "  ans = []\n",
        "\n",
        "  for s in sym[1:]:\n",
        "    if s in med:\n",
        "      ans.append(med[s])\n",
        "    else:\n",
        "      chk = False\n",
        "      break\n",
        "\n",
        "  if chk:\n",
        "    print(*ans)\n",
        "  else:\n",
        "    print('YOU DIED')"
      ]
    },
    {
      "cell_type": "markdown",
      "source": [
        "### 5523"
      ],
      "metadata": {
        "id": "OK8z2kCzQkW8"
      }
    },
    {
      "cell_type": "code",
      "source": [
        "import sys\n",
        "\n",
        "n = int(sys.stdin.readline().rstrip())\n",
        "\n",
        "a_win = 0\n",
        "b_win = 0\n",
        "\n",
        "for _ in range(n):\n",
        "  a, b = map(int, sys.stdin.readline().rstrip().split())\n",
        "  if a > b:\n",
        "    a_win += 1\n",
        "  elif a < b:\n",
        "    b_win += 1\n",
        "  else:\n",
        "    pass\n",
        "\n",
        "print(a_win, b_win)"
      ],
      "metadata": {
        "colab": {
          "base_uri": "https://localhost:8080/"
        },
        "id": "hWzrzU0MQlNO",
        "outputId": "379bb0d5-4f86-4a0c-d4e6-9be6451bdf62"
      },
      "execution_count": 2,
      "outputs": [
        {
          "output_type": "stream",
          "name": "stdout",
          "text": [
            "4\n",
            "100 0\n",
            "5 6\n",
            "40 50\n",
            "74 75\n",
            "1 3\n"
          ]
        }
      ]
    },
    {
      "cell_type": "markdown",
      "source": [
        "## CodeTree"
      ],
      "metadata": {
        "id": "AeUtayyMQh8M"
      }
    },
    {
      "cell_type": "markdown",
      "source": [
        "### 데이터 비교 2"
      ],
      "metadata": {
        "id": "YlHJU5diQl_k"
      }
    },
    {
      "cell_type": "code",
      "source": [
        "n = int(input())\n",
        "word = []\n",
        "\n",
        "for _ in range(n):\n",
        "    s = input()\n",
        "    word.append(s)\n",
        "\n",
        "for _ in range(n-1):\n",
        "    st = input()\n",
        "    if st in word:\n",
        "        del word[word.index(st)]\n",
        "    else:\n",
        "        pass\n",
        "\n",
        "print(word[0])"
      ],
      "metadata": {
        "id": "-d-pmq1JQjMA"
      },
      "execution_count": 2,
      "outputs": []
    }
  ]
}