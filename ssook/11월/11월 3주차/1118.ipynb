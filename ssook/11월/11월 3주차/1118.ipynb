{
  "nbformat": 4,
  "nbformat_minor": 0,
  "metadata": {
    "colab": {
      "provenance": [],
      "authorship_tag": "ABX9TyPfO8Bfhu4UdXm5VnYeXAeK",
      "include_colab_link": true
    },
    "kernelspec": {
      "name": "python3",
      "display_name": "Python 3"
    },
    "language_info": {
      "name": "python"
    }
  },
  "cells": [
    {
      "cell_type": "markdown",
      "metadata": {
        "id": "view-in-github",
        "colab_type": "text"
      },
      "source": [
        "<a href=\"https://colab.research.google.com/github/ssook1222/1Day-1Algo/blob/master/ssook/11%EC%9B%94/11%EC%9B%94%203%EC%A3%BC%EC%B0%A8/1118.ipynb\" target=\"_parent\"><img src=\"https://colab.research.google.com/assets/colab-badge.svg\" alt=\"Open In Colab\"/></a>"
      ]
    },
    {
      "cell_type": "markdown",
      "source": [
        "## BoJ"
      ],
      "metadata": {
        "id": "6aIRHokTe-0e"
      }
    },
    {
      "cell_type": "markdown",
      "source": [
        "### 5608"
      ],
      "metadata": {
        "id": "H4kZJUZMfA13"
      }
    },
    {
      "cell_type": "code",
      "execution_count": 1,
      "metadata": {
        "colab": {
          "base_uri": "https://localhost:8080/"
        },
        "id": "T996as76e9DU",
        "outputId": "618cf9c7-a858-4f3c-dc87-ebdc0993ffc8"
      },
      "outputs": [
        {
          "output_type": "stream",
          "name": "stdout",
          "text": [
            "3\n",
            "A a\n",
            "0 5\n",
            "5 4\n",
            "10\n",
            "A\n",
            "B\n",
            "C\n",
            "0\n",
            "1\n",
            "4\n",
            "5\n",
            "a\n",
            "b\n",
            "A\n",
            "aBC5144aba\n"
          ]
        }
      ],
      "source": [
        "import sys\n",
        "\n",
        "t = int(sys.stdin.readline().rstrip())\n",
        "\n",
        "word = {}\n",
        "\n",
        "for _ in range(t):\n",
        "  raw, change = map(str, sys.stdin.readline().rstrip().split())\n",
        "  word[raw] = change\n",
        "\n",
        "n = int(sys.stdin.readline().rstrip())\n",
        "tmp = ''\n",
        "\n",
        "for _ in range(n):\n",
        "  s = sys.stdin.readline().rstrip()\n",
        "  if s in word:\n",
        "    tmp += word[s]\n",
        "  else:\n",
        "    tmp += s\n",
        "\n",
        "print(tmp)"
      ]
    },
    {
      "cell_type": "markdown",
      "source": [
        "### 11235"
      ],
      "metadata": {
        "id": "ChyG0DhsfCVU"
      }
    },
    {
      "cell_type": "code",
      "source": [
        "import sys\n",
        "\n",
        "n = int(sys.stdin.readline().rstrip())\n",
        "cnt = {}\n",
        "\n",
        "for _ in range(n):\n",
        "  s = sys.stdin.readline().rstrip()\n",
        "  if s in cnt:\n",
        "    cnt[s] += 1\n",
        "  else:\n",
        "    cnt[s] = 1\n",
        "\n",
        "cnt = dict(sorted(cnt.items(), key = lambda x:(-x[1], x[0])))\n",
        "\n",
        "for i in cnt:\n",
        "    if max(cnt.values()) == cnt[i]:\n",
        "        print(i)\n"
      ],
      "metadata": {
        "colab": {
          "base_uri": "https://localhost:8080/"
        },
        "id": "09Rv_SXlfEDq",
        "outputId": "42bc02c4-dea4-4a0b-f279-bf55688a2a84"
      },
      "execution_count": 2,
      "outputs": [
        {
          "output_type": "stream",
          "name": "stdout",
          "text": [
            "5\n",
            "FRED\n",
            "BARNEY\n",
            "FRED\n",
            "FRED\n",
            "BARNEY\n",
            "FRED\n"
          ]
        }
      ]
    },
    {
      "cell_type": "markdown",
      "source": [
        "---"
      ],
      "metadata": {
        "id": "ITntCrLcfDst"
      }
    },
    {
      "cell_type": "markdown",
      "source": [
        "## CodeTree"
      ],
      "metadata": {
        "id": "xkF15H90fFEY"
      }
    },
    {
      "cell_type": "markdown",
      "source": [
        "### 특정 문자로 시작하는 문자열"
      ],
      "metadata": {
        "id": "rU90Mjo9fGgq"
      }
    },
    {
      "cell_type": "code",
      "source": [
        "n = int(input())\n",
        "raw = []\n",
        "\n",
        "for _ in range(n):\n",
        "    s = input()\n",
        "    raw.append(s)\n",
        "\n",
        "char = input()\n",
        "cnt = 0\n",
        "hap = 0\n",
        "\n",
        "for r in raw:\n",
        "    if r[0] == char:\n",
        "        cnt += 1\n",
        "        hap += len(r)\n",
        "\n",
        "print(\"%d %.2f\" %(cnt, (hap/cnt)))"
      ],
      "metadata": {
        "id": "Uags4CayfDRm"
      },
      "execution_count": null,
      "outputs": []
    }
  ]
}