{
  "nbformat": 4,
  "nbformat_minor": 0,
  "metadata": {
    "colab": {
      "provenance": [],
      "authorship_tag": "ABX9TyOOTfR7zYyvjtk90NGYbytp",
      "include_colab_link": true
    },
    "kernelspec": {
      "name": "python3",
      "display_name": "Python 3"
    },
    "language_info": {
      "name": "python"
    }
  },
  "cells": [
    {
      "cell_type": "markdown",
      "metadata": {
        "id": "view-in-github",
        "colab_type": "text"
      },
      "source": [
        "<a href=\"https://colab.research.google.com/github/ssook1222/1Day-1Algo/blob/master/ssook/11%EC%9B%94/11%EC%9B%94%203%EC%A3%BC%EC%B0%A8/1115.ipynb\" target=\"_parent\"><img src=\"https://colab.research.google.com/assets/colab-badge.svg\" alt=\"Open In Colab\"/></a>"
      ]
    },
    {
      "cell_type": "markdown",
      "source": [
        "## BoJ"
      ],
      "metadata": {
        "id": "OiwOr81jQ_bY"
      }
    },
    {
      "cell_type": "markdown",
      "source": [
        "### 20376"
      ],
      "metadata": {
        "id": "tm9vH4PXRA9Y"
      }
    },
    {
      "cell_type": "code",
      "execution_count": null,
      "metadata": {
        "id": "C64SGEwkJ1gF"
      },
      "outputs": [],
      "source": [
        "from collections import Counter\n",
        "import sys\n",
        "\n",
        "def count_monuments(input_lines):\n",
        "    monuments_counter = Counter()\n",
        "\n",
        "    for line in input_lines:\n",
        "        if not line:\n",
        "            break\n",
        "        _, monument = line.split(' ', 1)\n",
        "        monuments_counter[monument] += 1\n",
        "\n",
        "    distinct_monuments = len(monuments_counter)\n",
        "    return distinct_monuments\n",
        "\n",
        "user_input_lines = []\n",
        "\n",
        "while True:\n",
        "    line = sys.stdin.readline().rstrip()\n",
        "    if not line:\n",
        "        break\n",
        "    user_input_lines.append(line)\n",
        "\n",
        "result = count_monuments(user_input_lines)\n",
        "print(result)"
      ]
    },
    {
      "cell_type": "markdown",
      "source": [
        "### 5217"
      ],
      "metadata": {
        "id": "VSoFTRwpRCaO"
      }
    },
    {
      "cell_type": "code",
      "source": [
        "import sys\n",
        "\n",
        "t = int(sys.stdin.readline().rstrip())\n",
        "\n",
        "for _ in range(t):\n",
        "  n = int(sys.stdin.readline().rstrip())\n",
        "  num = []\n",
        "\n",
        "  for i in range(1, n+1):\n",
        "    for j in range(i+1, n+1):\n",
        "      if i+j == n:\n",
        "        num.append((i, j))\n",
        "  if not num:\n",
        "    print(\"Pairs for %d:\" %n)\n",
        "  else:\n",
        "    print(\"Pairs for %d:\" %n, end= ' ')\n",
        "\n",
        "  for n in range(len(num)):\n",
        "    if n == len(num)-1:\n",
        "      print(*num[n])\n",
        "    else:\n",
        "      print(*num[n], end=', ')"
      ],
      "metadata": {
        "colab": {
          "base_uri": "https://localhost:8080/"
        },
        "id": "nhn5MZbIRDIu",
        "outputId": "ac978f09-2a13-41a1-e23d-ab271de8d6fe"
      },
      "execution_count": 15,
      "outputs": [
        {
          "output_type": "stream",
          "name": "stdout",
          "text": [
            "4\n",
            "2\n",
            "Pairs for 2:\n",
            "3\n",
            "Pairs for 3: 1 2\n",
            "4\n",
            "Pairs for 4: 1 3\n",
            "5\n",
            "Pairs for 5: 1 4, 2 3\n"
          ]
        }
      ]
    },
    {
      "cell_type": "markdown",
      "source": [
        "## CodeTree"
      ],
      "metadata": {
        "id": "ztk9Lg9hlGHv"
      }
    },
    {
      "cell_type": "markdown",
      "source": [
        "### 십의 자리 숫자"
      ],
      "metadata": {
        "id": "Rvc9Rz7TlHqk"
      }
    },
    {
      "cell_type": "code",
      "source": [
        "num = list(map(int, input().split()))\n",
        "cnt = {}\n",
        "\n",
        "cnt = dict(sorted(cnt, key = lambda x:x[0]))\n",
        "\n",
        "for n in num:\n",
        "    n_t = str(n)\n",
        "\n",
        "    if n_t == '0':\n",
        "        break\n",
        "\n",
        "    if len(n_t) == 1:\n",
        "        pass\n",
        "\n",
        "    else:\n",
        "        if n_t[0] not in cnt:\n",
        "            cnt[n_t[0]] = 1\n",
        "        else:\n",
        "            cnt[n_t[0]] += 1\n",
        "\n",
        "\n",
        "cnts = dict(sorted(cnt.items(), key = lambda x:x[0]))\n",
        "\n",
        "for i in range(1, 10):\n",
        "    if str(i) in cnts:\n",
        "        print(\"%s - %s\" % (i, cnts[str(i)]))\n",
        "    else:\n",
        "        print(\"%s - %s\" % (i, 0))"
      ],
      "metadata": {
        "id": "Fh0CNXx-lIWx"
      },
      "execution_count": 15,
      "outputs": []
    }
  ]
}