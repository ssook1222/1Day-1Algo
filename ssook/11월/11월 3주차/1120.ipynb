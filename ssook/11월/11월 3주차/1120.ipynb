{
  "nbformat": 4,
  "nbformat_minor": 0,
  "metadata": {
    "colab": {
      "provenance": [],
      "authorship_tag": "ABX9TyPfW2efsN7qVwb+FLt5/J11",
      "include_colab_link": true
    },
    "kernelspec": {
      "name": "python3",
      "display_name": "Python 3"
    },
    "language_info": {
      "name": "python"
    }
  },
  "cells": [
    {
      "cell_type": "markdown",
      "metadata": {
        "id": "view-in-github",
        "colab_type": "text"
      },
      "source": [
        "<a href=\"https://colab.research.google.com/github/ssook1222/1Day-1Algo/blob/master/ssook/11%EC%9B%94/11%EC%9B%94%203%EC%A3%BC%EC%B0%A8/1120.ipynb\" target=\"_parent\"><img src=\"https://colab.research.google.com/assets/colab-badge.svg\" alt=\"Open In Colab\"/></a>"
      ]
    },
    {
      "cell_type": "markdown",
      "source": [
        "## BoJ"
      ],
      "metadata": {
        "id": "Vegsn2MH9rUG"
      }
    },
    {
      "cell_type": "markdown",
      "source": [
        "### 12595"
      ],
      "metadata": {
        "id": "T_mdCGFs9tNb"
      }
    },
    {
      "cell_type": "code",
      "execution_count": 5,
      "metadata": {
        "colab": {
          "base_uri": "https://localhost:8080/"
        },
        "id": "X4XkxtMt9qSJ",
        "outputId": "0ab8f409-4072-408b-dfc5-4a8ae6356df6"
      },
      "outputs": [
        {
          "output_type": "stream",
          "name": "stdout",
          "text": [
            "3\n",
            "3\n",
            "1 2147483647 2147483647\n",
            "Case 1: 1\n",
            "5\n",
            "3 4 7 4 3\n",
            "Case 2: 7\n",
            "5\n",
            "2 10 2 10 5\n",
            "Case 3: 5\n"
          ]
        }
      ],
      "source": [
        "import sys\n",
        "\n",
        "t = int(sys.stdin.readline().rstrip())\n",
        "\n",
        "for indx in range(t):\n",
        "  length = int(sys.stdin.readline().rstrip())\n",
        "  nums = list(map(int, sys.stdin.readline().rstrip().split()))\n",
        "  cnt = {}\n",
        "\n",
        "  for n in nums:\n",
        "    if n in cnt:\n",
        "      cnt[n] += 1\n",
        "    else:\n",
        "      cnt[n] = 1\n",
        "\n",
        "  print(\"Case #%d:\" %(indx+1), end=' ')\n",
        "\n",
        "  for c in nums:\n",
        "    if cnt[c] % 2 != 0:\n",
        "      print(c)"
      ]
    },
    {
      "cell_type": "markdown",
      "source": [
        "### 12595"
      ],
      "metadata": {
        "id": "3pUNTop79t_c"
      }
    },
    {
      "cell_type": "code",
      "source": [
        "import sys\n",
        "\n",
        "n = int(sys.stdin.readline().rstrip())\n",
        "students = sys.stdin.readline().rstrip().split()\n",
        "partners = sys.stdin.readline().rstrip().split()\n",
        "\n",
        "partner_dict = {}\n",
        "\n",
        "for s, p in zip(students, partners):\n",
        "    partner_dict[s] = p\n",
        "\n",
        "for s, p in zip(students, partners):\n",
        "    if partner_dict[p] != s:\n",
        "        print('bad')\n",
        "        break\n",
        "else:\n",
        "    print('good')"
      ],
      "metadata": {
        "colab": {
          "base_uri": "https://localhost:8080/"
        },
        "id": "prudTaHo9vnL",
        "outputId": "6df803cb-5482-4b91-a7f7-de92ca85c6be"
      },
      "execution_count": 8,
      "outputs": [
        {
          "output_type": "stream",
          "name": "stdout",
          "text": [
            "4\n",
            "Ada Alan Grace John\n",
            "John Grace Alan Ada\n",
            "good\n"
          ]
        }
      ]
    },
    {
      "cell_type": "markdown",
      "source": [
        "---"
      ],
      "metadata": {
        "id": "RSLdfPLb9wBs"
      }
    },
    {
      "cell_type": "markdown",
      "source": [
        "## CodeTree"
      ],
      "metadata": {
        "id": "GmlORrMZ9x8c"
      }
    },
    {
      "cell_type": "markdown",
      "source": [
        "### 크기가 3인 마을의 개수"
      ],
      "metadata": {
        "id": "E_BSPY0A9zOK"
      }
    },
    {
      "cell_type": "code",
      "source": [
        "n = int(input())\n",
        "\n",
        "graph = [list(map(int, input().split())) for _ in range(n)]\n",
        "visited = [[False] * n for _ in range(n)]\n",
        "\n",
        "dx = [0, 1, -1, 0]\n",
        "dy = [1, 0, 0, -1]\n",
        "\n",
        "def dfs(x, y):\n",
        "    global cnt, ans\n",
        "    cnt += 1\n",
        "\n",
        "    for i in range(4):\n",
        "        nx, ny = x + dx[i], y + dy[i]\n",
        "\n",
        "        if 0 <= nx < n and 0 <= ny < n and not visited[nx][ny] and graph[nx][ny] == 1:\n",
        "            visited[nx][ny] = True\n",
        "            dfs(nx, ny)\n",
        "\n",
        "ans = 0\n",
        "\n",
        "for i in range(n):\n",
        "    for j in range(n):\n",
        "        if not visited[i][j] and graph[i][j] == 1:\n",
        "            cnt = 0\n",
        "            visited[i][j] = True\n",
        "            dfs(i, j)\n",
        "\n",
        "            if cnt == 3:\n",
        "                ans += 1\n",
        "\n",
        "print(ans)"
      ],
      "metadata": {
        "id": "8_SrX72b9z17"
      },
      "execution_count": null,
      "outputs": []
    }
  ]
}