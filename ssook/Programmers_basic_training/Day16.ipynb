{
  "nbformat": 4,
  "nbformat_minor": 0,
  "metadata": {
    "colab": {
      "provenance": []
    },
    "kernelspec": {
      "name": "python3",
      "display_name": "Python 3"
    },
    "language_info": {
      "name": "python"
    }
  },
  "cells": [
    {
      "cell_type": "markdown",
      "source": [
        "### 대문자로 바꾸기"
      ],
      "metadata": {
        "id": "KXWCs9h0CdJc"
      }
    },
    {
      "cell_type": "code",
      "execution_count": null,
      "metadata": {
        "id": "3FcDwH6Qpe6t"
      },
      "outputs": [],
      "source": [
        "def solution(myString):\n",
        "    answer = myString.upper()\n",
        "    return answer"
      ]
    },
    {
      "cell_type": "markdown",
      "source": [
        "### 소문자로 바꾸기"
      ],
      "metadata": {
        "id": "uvjksQebCfYR"
      }
    },
    {
      "cell_type": "code",
      "source": [
        "def solution(myString):\n",
        "    answer = myString.lower()\n",
        "    return answer"
      ],
      "metadata": {
        "id": "Gk3sDuaYCg3-"
      },
      "execution_count": null,
      "outputs": []
    },
    {
      "cell_type": "markdown",
      "source": [
        "### 배열에서 문자열 대소문자 변환하기"
      ],
      "metadata": {
        "id": "05hcLLR8C1PD"
      }
    },
    {
      "cell_type": "code",
      "source": [
        "def solution(strArr):\n",
        "    \n",
        "    for i in range(len(strArr)):\n",
        "        if i%2 != 0:\n",
        "            strArr[i] = strArr[i].upper()\n",
        "        else:\n",
        "            strArr[i] = strArr[i].lower()\n",
        "    \n",
        "    return strArr"
      ],
      "metadata": {
        "id": "RIMPI-B3EBVy"
      },
      "execution_count": null,
      "outputs": []
    },
    {
      "cell_type": "markdown",
      "source": [
        "### A 강조하기"
      ],
      "metadata": {
        "id": "lo4F6KsWEBiv"
      }
    },
    {
      "cell_type": "code",
      "source": [
        "def solution(myString):\n",
        "    answer = ''\n",
        "    \n",
        "    answer = myString.lower()\n",
        "    answer = answer.replace('a','A')\n",
        "    \n",
        "    return answer"
      ],
      "metadata": {
        "id": "18NSPbVwEBzS"
      },
      "execution_count": null,
      "outputs": []
    },
    {
      "cell_type": "markdown",
      "source": [
        "### 특정한 문자를 대문자로 바꾸기"
      ],
      "metadata": {
        "id": "UKAQOAT0EDgZ"
      }
    },
    {
      "cell_type": "code",
      "source": [
        "def solution(my_string, alp):\n",
        "    answer = ''\n",
        "    answer = my_string.replace(alp, alp.upper())\n",
        "     \n",
        "    return answer"
      ],
      "metadata": {
        "id": "pUjVDklvEF72"
      },
      "execution_count": null,
      "outputs": []
    }
  ]
}