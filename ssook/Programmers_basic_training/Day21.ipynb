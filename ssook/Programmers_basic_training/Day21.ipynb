{
  "nbformat": 4,
  "nbformat_minor": 0,
  "metadata": {
    "colab": {
      "provenance": []
    },
    "kernelspec": {
      "name": "python3",
      "display_name": "Python 3"
    },
    "language_info": {
      "name": "python"
    }
  },
  "cells": [
    {
      "cell_type": "markdown",
      "source": [
        "### 뒤에서 5등 뒤로"
      ],
      "metadata": {
        "id": "F70Dj2De8pne"
      }
    },
    {
      "cell_type": "code",
      "execution_count": null,
      "metadata": {
        "id": "EfPi_vtu8gWE"
      },
      "outputs": [],
      "source": [
        "def solution(num_list):\n",
        "    num_list.sort()\n",
        "    answer = num_list[5:]\n",
        "    return answer"
      ]
    },
    {
      "cell_type": "markdown",
      "source": [
        "### 전국 대회 선발 고사"
      ],
      "metadata": {
        "id": "oJwOY5wZ8rk_"
      }
    },
    {
      "cell_type": "code",
      "source": [
        "def solution(rank, attendance):\n",
        "    answer = 0\n",
        "    \n",
        "    data = {}\n",
        "    \n",
        "    for i in range(len(attendance)):\n",
        "        if attendance[i] == True:\n",
        "            data[i] = rank[i]\n",
        "    \n",
        "    person_dict = sorted(data.items(), key=lambda x:x[1])\n",
        "    \n",
        "    answer = 10000 * person_dict[0][0] + 100 * person_dict[1][0] + person_dict[2][0]\n",
        "    \n",
        "    return answer"
      ],
      "metadata": {
        "id": "Rx39pVqa8tFp"
      },
      "execution_count": null,
      "outputs": []
    },
    {
      "cell_type": "markdown",
      "source": [
        "### 정수 부분"
      ],
      "metadata": {
        "id": "YU2l2vQ_8tZ4"
      }
    },
    {
      "cell_type": "code",
      "source": [
        "def solution(flo):\n",
        "    answer = int(flo)\n",
        "    return answer"
      ],
      "metadata": {
        "id": "KqAWL_AU8ue6"
      },
      "execution_count": null,
      "outputs": []
    },
    {
      "cell_type": "markdown",
      "source": [
        "### 문자열 정수의 합"
      ],
      "metadata": {
        "id": "WQACNvi_8uzB"
      }
    },
    {
      "cell_type": "code",
      "source": [
        "def solution(num_str):\n",
        "    num = list(num_str)\n",
        "    answer = 0\n",
        "    for i in num:\n",
        "        answer += int(i)\n",
        "    return answer"
      ],
      "metadata": {
        "id": "K6tpXku-8wDk"
      },
      "execution_count": null,
      "outputs": []
    },
    {
      "cell_type": "markdown",
      "source": [
        "### 문자열을 정수로 변환하기"
      ],
      "metadata": {
        "id": "jMTEd9V_8wT-"
      }
    },
    {
      "cell_type": "code",
      "source": [
        "def solution(n_str):\n",
        "    answer = int(n_str)\n",
        "    return answer "
      ],
      "metadata": {
        "id": "VUi4h2NT8x-D"
      },
      "execution_count": null,
      "outputs": []
    }
  ]
}