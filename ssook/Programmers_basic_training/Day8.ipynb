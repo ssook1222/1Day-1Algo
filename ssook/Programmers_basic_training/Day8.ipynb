{
  "nbformat": 4,
  "nbformat_minor": 0,
  "metadata": {
    "colab": {
      "provenance": []
    },
    "kernelspec": {
      "name": "python3",
      "display_name": "Python 3"
    },
    "language_info": {
      "name": "python"
    }
  },
  "cells": [
    {
      "cell_type": "markdown",
      "source": [
        "### 간단한 논리 연산"
      ],
      "metadata": {
        "id": "JssUUhYsMejE"
      }
    },
    {
      "cell_type": "code",
      "execution_count": null,
      "metadata": {
        "id": "mnkllohuKmEF"
      },
      "outputs": [],
      "source": [
        "def solution(x1, x2, x3, x4):\n",
        "    answer = True\n",
        "    \n",
        "    if x1 == False and x2 == False :\n",
        "        answer = False\n",
        "    \n",
        "    elif x3 == False and x4 == False :\n",
        "        answer = False\n",
        "    \n",
        "    return answer"
      ]
    },
    {
      "cell_type": "markdown",
      "source": [
        "### 주사위 게임 3"
      ],
      "metadata": {
        "id": "5HqCi5UaMgQ1"
      }
    },
    {
      "cell_type": "code",
      "source": [
        "def solution(a, b, c, d):\n",
        "    dice = [a, b, c, d]\n",
        "    counts = [dice.count(i) for i in dice]\n",
        "    \n",
        "    if max(counts) == 4:\n",
        "        return a * 1111\n",
        "    \n",
        "    elif max(counts) == 3:\n",
        "        p = dice[counts.index(3)]\n",
        "        q = dice[counts.index(1)]\n",
        "        \n",
        "        return (10 * p + q) ** 2\n",
        "    \n",
        "    elif max(counts) == 2:\n",
        "        if min(counts) == 2:\n",
        "            if a == b :\n",
        "                return (a + c) * abs(a - c) \n",
        "            else :\n",
        "                return (a + b) * abs(a - b)\n",
        "            \n",
        "        else:\n",
        "            p = dice[counts.index(2)]\n",
        "            return (a * b * c * d) / p**2\n",
        "    \n",
        "    else:\n",
        "        return min(dice)\n",
        "    \n",
        "    "
      ],
      "metadata": {
        "id": "De1mMy14MmUu"
      },
      "execution_count": null,
      "outputs": []
    },
    {
      "cell_type": "markdown",
      "source": [
        "#### 글자 이어 붙여 문자열 만들기"
      ],
      "metadata": {
        "id": "a3r2VCOMMmxK"
      }
    },
    {
      "cell_type": "code",
      "source": [
        "def solution(my_string, index_list):\n",
        "    answer = ''\n",
        "    \n",
        "    for i in index_list:\n",
        "        answer += my_string[i]\n",
        "    \n",
        "    return answer"
      ],
      "metadata": {
        "id": "FBJbKGeyMmY9"
      },
      "execution_count": null,
      "outputs": []
    },
    {
      "cell_type": "markdown",
      "source": [
        "### 9로 나눈 나머지"
      ],
      "metadata": {
        "id": "Pk9j40mPMuiR"
      }
    },
    {
      "cell_type": "code",
      "source": [
        "def solution(number):\n",
        "    answer = 0\n",
        "    hap = 0\n",
        "    \n",
        "    num_list = list(str(number))\n",
        "    for i in num_list:\n",
        "        hap += int(i)\n",
        "    \n",
        "    answer = hap%9\n",
        "    \n",
        "    return answer"
      ],
      "metadata": {
        "id": "H2zWPaCIMzuw"
      },
      "execution_count": null,
      "outputs": []
    },
    {
      "cell_type": "markdown",
      "source": [
        "### 문자열 여러 번 뒤집기"
      ],
      "metadata": {
        "id": "8LfboJIFM1KG"
      }
    },
    {
      "cell_type": "code",
      "source": [
        "def solution(my_string, queries):\n",
        "    answer = ''\n",
        "    \n",
        "    for query in queries:\n",
        "        s = query[0]\n",
        "        e = query[1]\n",
        "        \n",
        "        my_string = my_string[:s] + my_string[s:e+1][::-1] + my_string[e+1:]\n",
        "        answer = my_string\n",
        "    \n",
        "    return answer"
      ],
      "metadata": {
        "id": "DOXZNSj8M1Wq"
      },
      "execution_count": null,
      "outputs": []
    }
  ]
}