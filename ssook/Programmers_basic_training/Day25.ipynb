{
  "nbformat": 4,
  "nbformat_minor": 0,
  "metadata": {
    "colab": {
      "provenance": [],
      "authorship_tag": "ABX9TyOWqa90XHo6r0M4EjhHtzkx",
      "include_colab_link": true
    },
    "kernelspec": {
      "name": "python3",
      "display_name": "Python 3"
    },
    "language_info": {
      "name": "python"
    }
  },
  "cells": [
    {
      "cell_type": "markdown",
      "metadata": {
        "id": "view-in-github",
        "colab_type": "text"
      },
      "source": [
        "<a href=\"https://colab.research.google.com/github/ssook1222/1Day-1Algo/blob/master/ssook/Programmers_basic_training/Day25.ipynb\" target=\"_parent\"><img src=\"https://colab.research.google.com/assets/colab-badge.svg\" alt=\"Open In Colab\"/></a>"
      ]
    },
    {
      "cell_type": "markdown",
      "source": [
        "### 정수를 나선형으로 배치하기"
      ],
      "metadata": {
        "id": "rJaG9CFqFdMs"
      }
    },
    {
      "cell_type": "code",
      "execution_count": null,
      "metadata": {
        "id": "b516n4u_FECt"
      },
      "outputs": [],
      "source": [
        "def solution(n):\n",
        "    answer = [[0] * n for _ in range(n)]\n",
        "    \n",
        "    dx = [0,1,0,-1]\n",
        "    dy = [1,0,-1,0]\n",
        "    x, y, dir = 0,0,0\n",
        "    \n",
        "    for i in range(1, n*n+1):\n",
        "        answer[x][y] = i\n",
        "        \n",
        "        nx = x + dx[dir]\n",
        "        ny = y + dy[dir]\n",
        "        \n",
        "        if nx < 0 or nx >= n or ny < 0 or ny >= n or answer[nx][ny] != 0:  \n",
        "            dir = (dir + 1) % 4  \n",
        "            nx, ny = x + dx[dir], y + dy[dir]  \n",
        "            \n",
        "        x, y = nx, ny \n",
        "    \n",
        "    return answer"
      ]
    },
    {
      "cell_type": "markdown",
      "source": [
        "### 특별한 이차원 배열2"
      ],
      "metadata": {
        "id": "TIFT3-H6Ffih"
      }
    },
    {
      "cell_type": "code",
      "source": [
        "def solution(arr):\n",
        "    n = len(arr)\n",
        "    \n",
        "    for i in range(n):\n",
        "        for j in range(i, n):\n",
        "            if arr[i][j] != arr[j][i]:\n",
        "                return 0\n",
        "    return 1"
      ],
      "metadata": {
        "id": "TGMkBJZFFhhr"
      },
      "execution_count": null,
      "outputs": []
    },
    {
      "cell_type": "markdown",
      "source": [
        "### 정사각형으로 만들기"
      ],
      "metadata": {
        "id": "gE089r4PFhuy"
      }
    },
    {
      "cell_type": "code",
      "source": [
        "def solution(arr):\n",
        "\n",
        "    num_rows = len(arr)\n",
        "    num_cols = len(arr[0])\n",
        "\n",
        "    if num_rows > num_cols:\n",
        "        for i in range(num_rows):\n",
        "            while len(arr[i]) < num_rows:\n",
        "                arr[i].append(0)\n",
        "    \n",
        "    else:\n",
        "        for i in range(num_rows):\n",
        "            while len(arr[i]) < num_cols:\n",
        "                arr[i].append(0)\n",
        "        while len(arr) < num_cols:\n",
        "            arr.append([0] * num_cols)\n",
        "\n",
        "    return arr"
      ],
      "metadata": {
        "id": "qpBh0bXeFjT9"
      },
      "execution_count": null,
      "outputs": []
    },
    {
      "cell_type": "markdown",
      "source": [
        "### 이차원 배열 대각선 순회하기"
      ],
      "metadata": {
        "id": "jRfz3R6TFjld"
      }
    },
    {
      "cell_type": "code",
      "source": [
        "def solution(board, k):\n",
        "    answer = 0\n",
        "    hap = 0\n",
        "    \n",
        "    for i in range(len(board)):\n",
        "        for j in range(len(board[i])):\n",
        "            if i+j <=k:\n",
        "                hap += board[i][j]\n",
        "                \n",
        "    answer = hap\n",
        "    \n",
        "    return answer"
      ],
      "metadata": {
        "id": "BEreaKWEFliK"
      },
      "execution_count": null,
      "outputs": []
    }
  ]
}