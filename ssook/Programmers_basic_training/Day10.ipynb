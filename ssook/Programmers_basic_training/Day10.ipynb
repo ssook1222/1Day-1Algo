{
  "nbformat": 4,
  "nbformat_minor": 0,
  "metadata": {
    "colab": {
      "provenance": []
    },
    "kernelspec": {
      "name": "python3",
      "display_name": "Python 3"
    },
    "language_info": {
      "name": "python"
    }
  },
  "cells": [
    {
      "cell_type": "markdown",
      "source": [
        "### 문자열의 앞의 n글자"
      ],
      "metadata": {
        "id": "UzKmlhkozH_V"
      }
    },
    {
      "cell_type": "code",
      "execution_count": null,
      "metadata": {
        "id": "VNem2MlYyjQx"
      },
      "outputs": [],
      "source": [
        "def solution(my_string, n):\n",
        "    answer = my_string[:n]\n",
        "    return answer"
      ]
    },
    {
      "cell_type": "markdown",
      "source": [
        "### 접두사인지 확인하기"
      ],
      "metadata": {
        "id": "bKk9MLW1zL6d"
      }
    },
    {
      "cell_type": "code",
      "source": [
        "def solution(my_string, is_prefix):\n",
        "    answer = 0\n",
        "    answer_list = [my_string[:i] for i in range(len(my_string))]\n",
        "    \n",
        "    if is_prefix in answer_list:\n",
        "        answer = 1\n",
        "    \n",
        "    return answer"
      ],
      "metadata": {
        "id": "uGr3_LqmzPgT"
      },
      "execution_count": null,
      "outputs": []
    },
    {
      "cell_type": "markdown",
      "source": [
        "### 문자열 뒤집기"
      ],
      "metadata": {
        "id": "4TdXLCHzzPtS"
      }
    },
    {
      "cell_type": "code",
      "source": [
        "def solution(my_string, s, e):\n",
        "    answer = ''\n",
        "    answer = my_string[:s]+my_string[s:e+1][::-1]+my_string[e+1:]\n",
        "    return answer"
      ],
      "metadata": {
        "id": "jX9F6i3uzP4n"
      },
      "execution_count": null,
      "outputs": []
    },
    {
      "cell_type": "markdown",
      "source": [
        "### 세로 읽기"
      ],
      "metadata": {
        "id": "o3bE2nP3zQL5"
      }
    },
    {
      "cell_type": "code",
      "source": [
        "def solution(my_string, m, c):\n",
        "    rows = [my_string[i:i+m] for i in range(0, len(my_string), m)]\n",
        "\n",
        "    column = ''.join([row[c-1] for row in rows])\n",
        "    \n",
        "    return column"
      ],
      "metadata": {
        "id": "6kkxCbzmzQYw"
      },
      "execution_count": null,
      "outputs": []
    },
    {
      "cell_type": "markdown",
      "source": [
        "### qr 코드"
      ],
      "metadata": {
        "id": "W9qxXyvtzQlD"
      }
    },
    {
      "cell_type": "code",
      "source": [
        "def solution(q, r, code):\n",
        "    answer = ''\n",
        "    datas = []\n",
        "    \n",
        "    for i in range(0,len(code),q):\n",
        "        datas.append(code[i:i+q])\n",
        "        \n",
        "    for word in datas:\n",
        "        data = list(word)\n",
        "        for i in range(len(data)):    \n",
        "            if i == r:\n",
        "                answer += data[i]\n",
        "            \n",
        "    return answer"
      ],
      "metadata": {
        "id": "GQOjvihSzQ1u"
      },
      "execution_count": null,
      "outputs": []
    }
  ]
}