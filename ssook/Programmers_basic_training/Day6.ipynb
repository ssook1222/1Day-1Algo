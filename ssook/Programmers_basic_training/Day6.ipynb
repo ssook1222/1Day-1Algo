{
  "nbformat": 4,
  "nbformat_minor": 0,
  "metadata": {
    "colab": {
      "provenance": []
    },
    "kernelspec": {
      "name": "python3",
      "display_name": "Python 3"
    },
    "language_info": {
      "name": "python"
    }
  },
  "cells": [
    {
      "cell_type": "markdown",
      "source": [
        "### 마지막 두 원소"
      ],
      "metadata": {
        "id": "1tWgGKxjRWyb"
      }
    },
    {
      "cell_type": "code",
      "execution_count": null,
      "metadata": {
        "id": "svoYqU8JQD3C"
      },
      "outputs": [],
      "source": [
        "def solution(num_list):\n",
        "    \n",
        "    if num_list[-1] > num_list[-2]:\n",
        "        num_list.append(num_list[-1] - num_list[-2]) \n",
        "    else:\n",
        "        num_list.append(num_list[-1] * 2)  \n",
        "    \n",
        "    return num_list"
      ]
    },
    {
      "cell_type": "markdown",
      "source": [
        "### 수 조작하기 1"
      ],
      "metadata": {
        "id": "P5swRR4FRY0c"
      }
    },
    {
      "cell_type": "code",
      "source": [
        "def solution(n, control):\n",
        "    \n",
        "    for i in control:\n",
        "        if i == 'w':\n",
        "            n +=1\n",
        "        if i == 's':\n",
        "            n-=1\n",
        "        if i == 'd':\n",
        "            n+=10\n",
        "        if i == 'a':\n",
        "            n-=10\n",
        "    \n",
        "    return n"
      ],
      "metadata": {
        "id": "fMdCKyG5RaHS"
      },
      "execution_count": null,
      "outputs": []
    },
    {
      "cell_type": "markdown",
      "source": [
        "### 수 조작하기 2"
      ],
      "metadata": {
        "id": "vJ5Oks8KRaVG"
      }
    },
    {
      "cell_type": "code",
      "source": [
        "def solution(numLog):\n",
        "    answer = ''\n",
        "    for i in range(len(numLog)):\n",
        "        if i >= 1:\n",
        "            cha = numLog[i]-numLog[i-1] \n",
        "            if cha == 1 : \n",
        "                answer += 'w'\n",
        "            elif cha == -1 : \n",
        "                answer += 's'\n",
        "            elif cha == 10 : \n",
        "                answer += 'd'\n",
        "            elif cha == -10 : \n",
        "                answer += 'a'\n",
        "    \n",
        "    return answer"
      ],
      "metadata": {
        "id": "09rlbCVhRcaQ"
      },
      "execution_count": null,
      "outputs": []
    },
    {
      "cell_type": "markdown",
      "source": [
        "### 수열과 구간 쿼리 3"
      ],
      "metadata": {
        "id": "pVuYhiSDRc0G"
      }
    },
    {
      "cell_type": "code",
      "source": [
        "def solution(arr, queries):\n",
        "    answer = []\n",
        "    \n",
        "    for query in queries:\n",
        "        i, j = map(int, query)\n",
        "        arr[i], arr[j] = arr[j], arr[i]\n",
        "    \n",
        "    answer = arr\n",
        "    \n",
        "    return answer"
      ],
      "metadata": {
        "id": "JgcVw6l4RefJ"
      },
      "execution_count": null,
      "outputs": []
    },
    {
      "cell_type": "markdown",
      "source": [
        "### 수열과 구간 쿼리 2"
      ],
      "metadata": {
        "id": "QeFpWEiEReu3"
      }
    },
    {
      "cell_type": "code",
      "source": [
        "def solution(arr, queries):\n",
        "    answer = []\n",
        "    for query in queries:\n",
        "        s, e, k = query\n",
        "        temp = []\n",
        "        for i in range(s, e+1):\n",
        "            if arr[i] > k:\n",
        "                temp.append(arr[i])\n",
        "        if len(temp) == 0:\n",
        "            answer.append(-1)\n",
        "        else:\n",
        "            answer.append(min(temp))\n",
        "    return answer"
      ],
      "metadata": {
        "id": "TZThmRoDRgBK"
      },
      "execution_count": null,
      "outputs": []
    }
  ]
}