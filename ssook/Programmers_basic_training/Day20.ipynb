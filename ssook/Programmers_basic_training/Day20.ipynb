{
  "nbformat": 4,
  "nbformat_minor": 0,
  "metadata": {
    "colab": {
      "provenance": []
    },
    "kernelspec": {
      "name": "python3",
      "display_name": "Python 3"
    },
    "language_info": {
      "name": "python"
    }
  },
  "cells": [
    {
      "cell_type": "markdown",
      "source": [
        "### 배열의 길이를 2의 거듭제곱으로 만들기"
      ],
      "metadata": {
        "id": "RcP_zD_rMNNv"
      }
    },
    {
      "cell_type": "code",
      "execution_count": null,
      "metadata": {
        "id": "PHd6CEwbMKRs"
      },
      "outputs": [],
      "source": [
        "def solution(arr):\n",
        "    n = len(arr)\n",
        "    \n",
        "    if n & (n - 1) == 0:\n",
        "        return arr\n",
        "    \n",
        "    else:\n",
        "        new_len = 1\n",
        "        \n",
        "        while new_len < n:\n",
        "            new_len *= 2\n",
        "        \n",
        "        arr.extend([0] * (new_len - n))\n",
        "        return arr"
      ]
    },
    {
      "cell_type": "markdown",
      "source": [
        "### 배열 비교하기"
      ],
      "metadata": {
        "id": "YczUNRDQMO2E"
      }
    },
    {
      "cell_type": "code",
      "source": [
        "def solution(arr1, arr2):\n",
        "    answer = 0\n",
        "    a = len(arr1)\n",
        "    b = len(arr2)\n",
        "\n",
        "    if a!=b:\n",
        "        if a>b:\n",
        "            answer = 1\n",
        "        elif a<b:\n",
        "            answer = -1\n",
        "    if a==b:\n",
        "        if sum(arr1)>sum(arr2):\n",
        "            answer = 1\n",
        "        elif sum(arr1)< sum(arr2):\n",
        "            answer = -1\n",
        "    \n",
        "    return answer"
      ],
      "metadata": {
        "id": "MBdKo2jiMPDU"
      },
      "execution_count": null,
      "outputs": []
    },
    {
      "cell_type": "markdown",
      "source": [
        "### 문자열 묶기"
      ],
      "metadata": {
        "id": "due88g6oNLcX"
      }
    },
    {
      "cell_type": "code",
      "source": [
        "def solution(strArr):\n",
        "    # 그룹핑할 거 카운팅 담는 딕셔너리\n",
        "    group_counts = {}\n",
        "    \n",
        "    for s in strArr:\n",
        "        # 문자열 길이 측정\n",
        "        length = len(s)\n",
        "        \n",
        "        # 딕셔너리에 해당 길이가 없다면 하나 추가\n",
        "        if length not in group_counts:\n",
        "            group_counts[length] = 1\n",
        "        # 있으면 딕셔너리에서 카운팅\n",
        "        else:\n",
        "            group_counts[length] += 1\n",
        "            \n",
        "    #가장 많이 카운팅된 그룹 리턴\n",
        "    return max(group_counts.values())"
      ],
      "metadata": {
        "id": "aciwPcoHNMmO"
      },
      "execution_count": null,
      "outputs": []
    },
    {
      "cell_type": "markdown",
      "source": [
        "### 배열의 길이에 따라 다른 연산하기"
      ],
      "metadata": {
        "id": "hpqyfE9VNNBI"
      }
    },
    {
      "cell_type": "code",
      "source": [
        "def solution(arr, n):\n",
        "    \n",
        "    if len(arr) % 2 != 0 :\n",
        "        for i in range(len(arr)):\n",
        "            if i%2 == 0:\n",
        "                arr[i] = arr[i]+ n\n",
        "    else:\n",
        "        for i in range(len(arr)):\n",
        "            if i%2 != 0:\n",
        "                arr[i] = arr[i]+ n\n",
        "    \n",
        "    return arr"
      ],
      "metadata": {
        "id": "zoTRYVibNPNR"
      },
      "execution_count": null,
      "outputs": []
    },
    {
      "cell_type": "markdown",
      "source": [
        "### 뒤에서 5등까지"
      ],
      "metadata": {
        "id": "NAX-HzyrNPZJ"
      }
    },
    {
      "cell_type": "code",
      "source": [
        "def solution(num_list):\n",
        "    num_list.sort()\n",
        "    answer = num_list[:5]\n",
        "    return answer"
      ],
      "metadata": {
        "id": "rz5AxZ2GNQvB"
      },
      "execution_count": null,
      "outputs": []
    }
  ]
}