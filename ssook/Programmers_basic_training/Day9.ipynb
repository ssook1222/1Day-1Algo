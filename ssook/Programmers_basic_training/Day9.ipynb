{
  "nbformat": 4,
  "nbformat_minor": 0,
  "metadata": {
    "colab": {
      "provenance": []
    },
    "kernelspec": {
      "name": "python3",
      "display_name": "Python 3"
    },
    "language_info": {
      "name": "python"
    }
  },
  "cells": [
    {
      "cell_type": "markdown",
      "source": [
        "### 배열 만들기 5"
      ],
      "metadata": {
        "id": "g-7mX-izyrPg"
      }
    },
    {
      "cell_type": "code",
      "execution_count": null,
      "metadata": {
        "id": "NmoU6r_CyeFr"
      },
      "outputs": [],
      "source": [
        "def solution(intStrs, k, s, l):\n",
        "    answer = []\n",
        "    \n",
        "    for i in range(len(intStrs)):\n",
        "        num = int(str(intStrs[i])[s:s+l])\n",
        "        if num > k:\n",
        "            answer.append(num)\n",
        "    \n",
        "    return answer"
      ]
    },
    {
      "cell_type": "markdown",
      "source": [
        "### 부분 문자열 이어 붙여 문자열 만들기"
      ],
      "metadata": {
        "id": "m-AZwy5NytGc"
      }
    },
    {
      "cell_type": "code",
      "source": [
        "def solution(my_strings, parts):\n",
        "    answer = ''\n",
        "    for i in range(len(parts)):\n",
        "        s = parts[i][0]\n",
        "        e = parts[i][1]\n",
        "        \n",
        "        answer += my_strings[i][s:e+1]\n",
        "    \n",
        "    return answer"
      ],
      "metadata": {
        "id": "nBqdAig9yxFB"
      },
      "execution_count": null,
      "outputs": []
    },
    {
      "cell_type": "markdown",
      "source": [
        "### 문자열의 뒤의 n글자"
      ],
      "metadata": {
        "id": "6RWjR716yxdw"
      }
    },
    {
      "cell_type": "code",
      "source": [
        "def solution(my_string, n):\n",
        "    answer = my_string[-n:]\n",
        "    return answer"
      ],
      "metadata": {
        "id": "1vAGRGbnyxqW"
      },
      "execution_count": null,
      "outputs": []
    },
    {
      "cell_type": "markdown",
      "source": [
        "### 접미사 배열"
      ],
      "metadata": {
        "id": "OxSfiyK5yx2x"
      }
    },
    {
      "cell_type": "code",
      "source": [
        "def solution(my_string):\n",
        "    answer = [my_string[i:] for i in range(len(my_string))]    \n",
        "    answer.sort()\n",
        "    \n",
        "    return answer"
      ],
      "metadata": {
        "id": "srWbxlowyyGp"
      },
      "execution_count": null,
      "outputs": []
    },
    {
      "cell_type": "markdown",
      "source": [
        "### 접미사인지 확인하기"
      ],
      "metadata": {
        "id": "GMrriAPByyam"
      }
    },
    {
      "cell_type": "code",
      "source": [
        "def solution(my_string, is_suffix):\n",
        "    answer = 0\n",
        "    answer_list = [my_string[i:] for i in range(len(my_string))]\n",
        "    \n",
        "    if is_suffix in answer_list:\n",
        "        answer = 1\n",
        "    \n",
        "    return answer"
      ],
      "metadata": {
        "id": "WDFvyW9pyyoi"
      },
      "execution_count": null,
      "outputs": []
    }
  ]
}