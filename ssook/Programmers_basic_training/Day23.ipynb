{
  "nbformat": 4,
  "nbformat_minor": 0,
  "metadata": {
    "colab": {
      "provenance": []
    },
    "kernelspec": {
      "name": "python3",
      "display_name": "Python 3"
    },
    "language_info": {
      "name": "python"
    }
  },
  "cells": [
    {
      "cell_type": "markdown",
      "source": [
        "### 부분문자열"
      ],
      "metadata": {
        "id": "CbB8fZ-eQYyY"
      }
    },
    {
      "cell_type": "code",
      "execution_count": null,
      "metadata": {
        "id": "eGgJw4YlQH-3"
      },
      "outputs": [],
      "source": [
        "def solution(str1, str2):\n",
        "    answer = 0\n",
        "    \n",
        "    if str1 in str2:\n",
        "        answer = 1\n",
        "    \n",
        "    return answer"
      ]
    },
    {
      "cell_type": "markdown",
      "source": [
        "### 꼬리 문자열"
      ],
      "metadata": {
        "id": "nr4Ei7lMQckt"
      }
    },
    {
      "cell_type": "code",
      "source": [
        "def solution(str_list, ex):\n",
        "    answer = ''\n",
        "    \n",
        "    for i in str_list:\n",
        "        if ex not in i:\n",
        "            answer += i\n",
        "    \n",
        "    return answer"
      ],
      "metadata": {
        "id": "dfvK5fewQc0J"
      },
      "execution_count": null,
      "outputs": []
    },
    {
      "cell_type": "markdown",
      "source": [
        "### 정수 찾기"
      ],
      "metadata": {
        "id": "ibn9DRQ4Qfqx"
      }
    },
    {
      "cell_type": "code",
      "source": [
        "def solution(num_list, n):\n",
        "    answer = 0\n",
        "    \n",
        "    if n in num_list:\n",
        "        answer = 1\n",
        "    \n",
        "    return answer"
      ],
      "metadata": {
        "id": "ZVpW-hoDQgwT"
      },
      "execution_count": null,
      "outputs": []
    },
    {
      "cell_type": "markdown",
      "source": [
        "### 주사위 게임1"
      ],
      "metadata": {
        "id": "sEQ7jWjGQg_D"
      }
    },
    {
      "cell_type": "code",
      "source": [
        "def solution(a, b):\n",
        "    answer = 0\n",
        "    if a%2 != 0 and b%2 !=0:\n",
        "        answer = a**2 + b**2\n",
        "    elif a%2 != 0 or b%2 !=0:\n",
        "        answer = 2*(a+b)\n",
        "    else:\n",
        "        answer = abs(a-b)\n",
        "    \n",
        "    return answer"
      ],
      "metadata": {
        "id": "Zmf3Ad3hQiIB"
      },
      "execution_count": null,
      "outputs": []
    },
    {
      "cell_type": "markdown",
      "source": [
        "### 날짜 비교하기"
      ],
      "metadata": {
        "id": "jye-3i2VQif9"
      }
    },
    {
      "cell_type": "code",
      "source": [
        "def solution(date1, date2):\n",
        "    answer = 0\n",
        "    check = False\n",
        "    \n",
        "    if date1[0] < date2[0]:\n",
        "        check = True\n",
        "    elif date1[0] == date2[0]:\n",
        "        if date1[1] < date2[1]:\n",
        "            check = True\n",
        "        elif date1[1] == date2[1]:\n",
        "            if date1[2] < date2[2]:\n",
        "                check = True\n",
        "    \n",
        "    if check == True:\n",
        "        answer = 1\n",
        "    \n",
        "    return answer"
      ],
      "metadata": {
        "id": "r-rvHlO7QkDe"
      },
      "execution_count": null,
      "outputs": []
    }
  ]
}