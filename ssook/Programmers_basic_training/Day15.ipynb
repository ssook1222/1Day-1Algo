{
  "nbformat": 4,
  "nbformat_minor": 0,
  "metadata": {
    "colab": {
      "provenance": []
    },
    "kernelspec": {
      "name": "python3",
      "display_name": "Python 3"
    },
    "language_info": {
      "name": "python"
    }
  },
  "cells": [
    {
      "cell_type": "markdown",
      "source": [
        "### 조건에 맞게 수열 변환하기1"
      ],
      "metadata": {
        "id": "pi2E_OKdB5WC"
      }
    },
    {
      "cell_type": "code",
      "execution_count": null,
      "metadata": {
        "id": "NlSQ_f4hpZaM"
      },
      "outputs": [],
      "source": [
        "def solution(arr):\n",
        "    answer = []\n",
        "    \n",
        "    for i in arr:\n",
        "        if i%2 == 0 and i>=50:\n",
        "            answer.append(int(i/2))\n",
        "        elif i%2!= 0 and i<50:\n",
        "            answer.append(i*2)\n",
        "        else:\n",
        "            answer.append(i)\n",
        "            \n",
        "    \n",
        "    return answer"
      ]
    },
    {
      "cell_type": "markdown",
      "source": [
        "### 조건에 맞게 수열 변환하기 2"
      ],
      "metadata": {
        "id": "ogb5tXeKB8ls"
      }
    },
    {
      "cell_type": "code",
      "source": [
        "def transform(arr):\n",
        "\n",
        "    result = []\n",
        "    \n",
        "    for num in arr:\n",
        "        if num >= 50 and num % 2 == 0:\n",
        "            result.append(num // 2)\n",
        "        elif num < 50 and num % 2 == 1:\n",
        "            result.append(num * 2 + 1)\n",
        "        else:\n",
        "            result.append(num)\n",
        "    return result\n",
        "\n",
        "def solution(arr):\n",
        "    answer = 0\n",
        "    \n",
        "    while True:\n",
        "        answer += 1\n",
        "        arr_x = transform(arr)\n",
        "        \n",
        "        if arr_x == arr:\n",
        "            return answer-1\n",
        "        \n",
        "        arr = arr_x\n"
      ],
      "metadata": {
        "id": "jQw6NPCKB81b"
      },
      "execution_count": null,
      "outputs": []
    },
    {
      "cell_type": "markdown",
      "source": [
        "### 1로 만들기"
      ],
      "metadata": {
        "id": "bVyRQj9eCBnZ"
      }
    },
    {
      "cell_type": "code",
      "source": [
        "def solution(num_list):\n",
        "    answer = 0\n",
        "    \n",
        "    for i in num_list:\n",
        "        while i!=1:\n",
        "            if i%2 == 0:\n",
        "                i = i//2\n",
        "                answer +=1\n",
        "            else:\n",
        "                i-=1\n",
        "                i = i//2\n",
        "                answer +=1\n",
        "    \n",
        "    return answer"
      ],
      "metadata": {
        "id": "pB9Gg17OCB2T"
      },
      "execution_count": null,
      "outputs": []
    },
    {
      "cell_type": "markdown",
      "source": [
        "### 길이에 따른 연산"
      ],
      "metadata": {
        "id": "S1eo7qWPCIIq"
      }
    },
    {
      "cell_type": "code",
      "source": [
        "def solution(num_list):\n",
        "    answer = 1\n",
        "    \n",
        "    if len(num_list) >= 11:\n",
        "        answer = sum(num_list)\n",
        "    \n",
        "    if len(num_list) <= 10:\n",
        "        for i in range(len(num_list)):\n",
        "            print(num_list[i])\n",
        "            answer = num_list[i] * answer\n",
        "    \n",
        "    return answer"
      ],
      "metadata": {
        "id": "NMrMYPo1CIXT"
      },
      "execution_count": null,
      "outputs": []
    },
    {
      "cell_type": "markdown",
      "source": [
        "### 원하는 문자열 찾기"
      ],
      "metadata": {
        "id": "PDkhtQoyCNCj"
      }
    },
    {
      "cell_type": "code",
      "source": [
        "def solution(myString, pat):\n",
        "    answer = 0\n",
        "    \n",
        "    myString = myString.lower()\n",
        "    pat = pat.lower()\n",
        "    \n",
        "    if pat in myString:\n",
        "        answer = 1\n",
        "    \n",
        "    return answer"
      ],
      "metadata": {
        "id": "E9rUX2njCOjO"
      },
      "execution_count": null,
      "outputs": []
    }
  ]
}