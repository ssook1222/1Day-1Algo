{
  "nbformat": 4,
  "nbformat_minor": 0,
  "metadata": {
    "colab": {
      "provenance": []
    },
    "kernelspec": {
      "name": "python3",
      "display_name": "Python 3"
    },
    "language_info": {
      "name": "python"
    }
  },
  "cells": [
    {
      "cell_type": "markdown",
      "source": [
        "### 특정 문자열로 끝나는 가장 긴 부분 문자열 찾기"
      ],
      "metadata": {
        "id": "ARfXIjt9lZdS"
      }
    },
    {
      "cell_type": "code",
      "execution_count": null,
      "metadata": {
        "id": "k9syza3EO1Fi"
      },
      "outputs": [],
      "source": [
        "def solution(myString, pat):\n",
        "    longest = \"\"\n",
        "    \n",
        "    for i in range(len(myString)):\n",
        "        for j in range(i+1, len(myString)+1):\n",
        "            substr = myString[i:j]\n",
        "            \n",
        "            if substr.endswith(pat) and len(substr) > len(longest):\n",
        "                longest = substr\n",
        "                \n",
        "    return longest"
      ]
    },
    {
      "cell_type": "markdown",
      "source": [
        "### 문자열이 몇 번 등장하는지 세기"
      ],
      "metadata": {
        "id": "thADAAKMlpcf"
      }
    },
    {
      "cell_type": "code",
      "source": [
        "def solution(myString, pat):\n",
        "    answer = 0\n",
        "    \n",
        "    for i in range(len(myString)):\n",
        "        if pat in myString[i:i+len(pat)]:\n",
        "            answer += 1\n",
        "    \n",
        "    return answer"
      ],
      "metadata": {
        "id": "qd8vt6sOlrsU"
      },
      "execution_count": null,
      "outputs": []
    },
    {
      "cell_type": "markdown",
      "source": [
        "### ad 제거하기"
      ],
      "metadata": {
        "id": "303metvHlr_c"
      }
    },
    {
      "cell_type": "code",
      "source": [
        "def solution(strArr):\n",
        "    answer = []\n",
        "    \n",
        "    for i in range(len(strArr)):\n",
        "        if \"ad\" not in strArr[i]:\n",
        "            answer.append(strArr[i])\n",
        "    \n",
        "    return answer"
      ],
      "metadata": {
        "id": "I_knVyjTlsU7"
      },
      "execution_count": null,
      "outputs": []
    },
    {
      "cell_type": "markdown",
      "source": [
        "### 공백으로 구분하기1"
      ],
      "metadata": {
        "id": "DsyC2ttPlsuo"
      }
    },
    {
      "cell_type": "code",
      "source": [
        "def solution(my_string):\n",
        "    answer = list(map(str, my_string.split(\" \")))\n",
        "    return answer"
      ],
      "metadata": {
        "id": "k6YHexUvls6h"
      },
      "execution_count": null,
      "outputs": []
    },
    {
      "cell_type": "markdown",
      "source": [
        "### 공백으로 구분하기2"
      ],
      "metadata": {
        "id": "4WhBa6AWlxBS"
      }
    },
    {
      "cell_type": "code",
      "source": [
        "def solution(my_string):\n",
        "    answer = []\n",
        "    raw = list(my_string.split(\" \"))\n",
        "    \n",
        "    for i in range(len(raw)):\n",
        "        if raw[i] != '':\n",
        "            answer.append(raw[i])\n",
        "    \n",
        "    return answer"
      ],
      "metadata": {
        "id": "-GFirLYglywD"
      },
      "execution_count": null,
      "outputs": []
    }
  ]
}