{
  "nbformat": 4,
  "nbformat_minor": 0,
  "metadata": {
    "colab": {
      "provenance": []
    },
    "kernelspec": {
      "name": "python3",
      "display_name": "Python 3"
    },
    "language_info": {
      "name": "python"
    }
  },
  "cells": [
    {
      "cell_type": "markdown",
      "source": [
        "### n의 배수"
      ],
      "metadata": {
        "id": "IOEP5kbKXW9T"
      }
    },
    {
      "cell_type": "code",
      "execution_count": null,
      "metadata": {
        "id": "ESOB7g98W0t0"
      },
      "outputs": [],
      "source": [
        "def solution(num, n):\n",
        "    answer = 0\n",
        "    \n",
        "    if num % n == 0:\n",
        "        answer = 1\n",
        "    else:\n",
        "        answer = 0\n",
        "    \n",
        "    return answer"
      ]
    },
    {
      "cell_type": "markdown",
      "source": [
        "### 공배수"
      ],
      "metadata": {
        "id": "HX4uOvS5XXOh"
      }
    },
    {
      "cell_type": "code",
      "source": [
        "def solution(number, n, m):\n",
        "    answer = 0\n",
        "    \n",
        "    if number % n == 0 and number % m == 0:\n",
        "        answer = 1\n",
        "    \n",
        "    return answer"
      ],
      "metadata": {
        "id": "E07e5CuGXX7h"
      },
      "execution_count": null,
      "outputs": []
    },
    {
      "cell_type": "markdown",
      "source": [
        "### 홀짝에 따라 다른 값 반환하기"
      ],
      "metadata": {
        "id": "LQw8_qveXb0d"
      }
    },
    {
      "cell_type": "code",
      "source": [
        "def solution(n):\n",
        "    answer = 0\n",
        "    \n",
        "    if n % 2 != 0:\n",
        "        for i in range(n+1):\n",
        "            if i%2 !=0:\n",
        "                answer += i\n",
        "                \n",
        "    if n % 2 == 0:\n",
        "        for i in range(n+1):\n",
        "            if i%2 ==0:\n",
        "                answer += i**2\n",
        "    \n",
        "    \n",
        "    return answer"
      ],
      "metadata": {
        "id": "CaA9LuEwXcGO"
      },
      "execution_count": null,
      "outputs": []
    },
    {
      "cell_type": "markdown",
      "source": [
        "### 조건 문자열"
      ],
      "metadata": {
        "id": "Evd41uvJXg8B"
      }
    },
    {
      "cell_type": "code",
      "source": [
        "def solution(ineq, eq, n, m):\n",
        "    answer = 0\n",
        "    \n",
        "    if ineq == '>' and eq == '=':\n",
        "        if n >=m:\n",
        "            answer = 1\n",
        "    elif ineq == '<' and eq == '=':\n",
        "        if n <=m:\n",
        "            answer = 1\n",
        "    elif ineq == '>' and eq == '!':\n",
        "        if n > m:\n",
        "            answer = 1\n",
        "    elif ineq == '<' and eq == '!':\n",
        "        if n < m:\n",
        "            answer = 1\n",
        "    \n",
        "    return answer"
      ],
      "metadata": {
        "id": "XST7Y5gjXhVc"
      },
      "execution_count": null,
      "outputs": []
    },
    {
      "cell_type": "markdown",
      "source": [
        "### flag에 따라 다른 값 반환"
      ],
      "metadata": {
        "id": "u-vM29OWXjhL"
      }
    },
    {
      "cell_type": "code",
      "source": [
        "def solution(a, b, flag):\n",
        "    answer = 0\n",
        "    \n",
        "    if flag == True:\n",
        "        answer = a+b\n",
        "    else:\n",
        "        answer = a-b\n",
        "    \n",
        "    return answer"
      ],
      "metadata": {
        "id": "Jp2S9nqcXj_q"
      },
      "execution_count": null,
      "outputs": []
    }
  ]
}