{
  "nbformat": 4,
  "nbformat_minor": 0,
  "metadata": {
    "colab": {
      "provenance": []
    },
    "kernelspec": {
      "name": "python3",
      "display_name": "Python 3"
    },
    "language_info": {
      "name": "python"
    }
  },
  "cells": [
    {
      "cell_type": "markdown",
      "source": [
        "### 리스트 자르기"
      ],
      "metadata": {
        "id": "tAvS2Us84Zy9"
      }
    },
    {
      "cell_type": "code",
      "execution_count": null,
      "metadata": {
        "id": "FQfMJBeZ3_-6"
      },
      "outputs": [],
      "source": [
        "def solution(n, slicer, num_list):\n",
        "    answer = []\n",
        "    \n",
        "    if n == 1:\n",
        "        answer = num_list[0:slicer[1]+1]\n",
        "        \n",
        "    elif n == 2:\n",
        "        answer = num_list[slicer[0]:]\n",
        "    \n",
        "    elif n == 3:\n",
        "        answer = num_list[slicer[0]:slicer[1]+1]\n",
        "        \n",
        "    elif n == 4:\n",
        "        answer = num_list[slicer[0]:slicer[1]+1:slicer[2]]\n",
        "        \n",
        "    return answer"
      ]
    },
    {
      "cell_type": "markdown",
      "source": [
        "### 첫 번째로 나오는 음수"
      ],
      "metadata": {
        "id": "c5we2Zmh4bq_"
      }
    },
    {
      "cell_type": "code",
      "source": [
        "def solution(num_list):\n",
        "    answer = 0\n",
        "    check = False\n",
        "    \n",
        "    for i in range(len(num_list)):\n",
        "        if num_list[i] < 0:\n",
        "            check = True\n",
        "            answer = i\n",
        "            break\n",
        "            \n",
        "    if check == False:\n",
        "        answer = -1\n",
        "    \n",
        "    return answer"
      ],
      "metadata": {
        "id": "sgQbXVa24dWU"
      },
      "execution_count": null,
      "outputs": []
    },
    {
      "cell_type": "markdown",
      "source": [
        "### 배열 만들기 3"
      ],
      "metadata": {
        "id": "dzuYe87f4ds5"
      }
    },
    {
      "cell_type": "code",
      "source": [
        "from functools import reduce\n",
        "import operator\n",
        "\n",
        "def solution(arr, intervals):\n",
        "    answer = []\n",
        "    \n",
        "    for i in range(len(intervals)):\n",
        "        answer.append(arr[intervals[i][0]:intervals[i][1]+1])\n",
        "    \n",
        "    answer = list(reduce(operator.add, answer))\n",
        "    return answer"
      ],
      "metadata": {
        "id": "845DV5pM4d7f"
      },
      "execution_count": null,
      "outputs": []
    },
    {
      "cell_type": "markdown",
      "source": [
        "### 2의 영역"
      ],
      "metadata": {
        "id": "GCMFJOZ-4ft8"
      }
    },
    {
      "cell_type": "code",
      "source": [
        "def solution(arr):\n",
        "    \n",
        "    if 2 not in arr:\n",
        "        return [-1]\n",
        "        \n",
        "    start = end = -1\n",
        "    \n",
        "    for i in range(len(arr)):\n",
        "        if arr[i] == 2:\n",
        "            if start == -1:\n",
        "                start = i\n",
        "            end = i\n",
        "    \n",
        "    return arr[start:end+1]"
      ],
      "metadata": {
        "id": "xUqDMAVz4hLC"
      },
      "execution_count": null,
      "outputs": []
    },
    {
      "cell_type": "markdown",
      "source": [
        "### 배열 조각하기"
      ],
      "metadata": {
        "id": "hHBQRckG4pdo"
      }
    },
    {
      "cell_type": "code",
      "source": [
        "def solution(arr, query):\n",
        "    answer = []\n",
        "    \n",
        "    for i in range(len(query)):\n",
        "        if i%2 == 0:\n",
        "            del(arr[query[i]+1:])\n",
        "        else:\n",
        "            del(arr[:query[i]])\n",
        "        \n",
        "    return arr"
      ],
      "metadata": {
        "id": "3PZvN1U04rT0"
      },
      "execution_count": null,
      "outputs": []
    }
  ]
}