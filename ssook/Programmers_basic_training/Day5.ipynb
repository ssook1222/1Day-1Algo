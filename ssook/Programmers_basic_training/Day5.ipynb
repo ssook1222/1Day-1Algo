{
  "nbformat": 4,
  "nbformat_minor": 0,
  "metadata": {
    "colab": {
      "provenance": []
    },
    "kernelspec": {
      "name": "python3",
      "display_name": "Python 3"
    },
    "language_info": {
      "name": "python"
    }
  },
  "cells": [
    {
      "cell_type": "markdown",
      "source": [
        "### 코드 처리하기"
      ],
      "metadata": {
        "id": "xluyMrGPPJar"
      }
    },
    {
      "cell_type": "code",
      "execution_count": null,
      "metadata": {
        "id": "2WPPSb7pO0iN"
      },
      "outputs": [],
      "source": [
        "def solution(code):\n",
        "    answer = ''\n",
        "    mode = 0\n",
        "    \n",
        "    for i in range(len(code)):\n",
        "        if mode == 0:\n",
        "            if code[i] != '1':\n",
        "                if i%2==0:\n",
        "                    answer += code[i]\n",
        "            else:\n",
        "                mode = 1   \n",
        "        else:\n",
        "            if code[i] != '1':\n",
        "                if i%2!=0:\n",
        "                    answer += code[i]\n",
        "            else:\n",
        "                mode = 0\n",
        "                    \n",
        "    if answer == '':\n",
        "        return 'EMPTY'\n",
        "    \n",
        "    return answer"
      ]
    },
    {
      "cell_type": "markdown",
      "source": [
        "### 등차수열의 특정한 항만 더하기"
      ],
      "metadata": {
        "id": "WpVwMMRrPMDz"
      }
    },
    {
      "cell_type": "code",
      "source": [
        "def solution(a, d, included):\n",
        "    answer = 0\n",
        "    \n",
        "    for i in range(len(included)):\n",
        "        if included[i] == True:\n",
        "            answer += a + d* i\n",
        "    \n",
        "    return answer"
      ],
      "metadata": {
        "id": "Zzx4X6YiPOCi"
      },
      "execution_count": null,
      "outputs": []
    },
    {
      "cell_type": "markdown",
      "source": [
        "### 주사위 게임2"
      ],
      "metadata": {
        "id": "8V1cN_6bPOfr"
      }
    },
    {
      "cell_type": "code",
      "source": [
        "def solution(a, b, c):\n",
        "    answer = 0\n",
        "    \n",
        "    if a!=b and b!=c and a!=c:\n",
        "        answer =(a+b+c)\n",
        "    \n",
        "    elif (a==b and a!=c)  or (b==c and a!=b) or (a==c and b!=c):\n",
        "        answer = (a+b+c) * (a**2+b**2+c**2)\n",
        "    \n",
        "    elif (a==b and a==c):\n",
        "        answer = (a+b+c) * (a**2+b**2+c**2) * (a**3+b**3+c**3)\n",
        "    \n",
        "    return answer"
      ],
      "metadata": {
        "id": "ZIe0JntuPPxJ"
      },
      "execution_count": null,
      "outputs": []
    },
    {
      "cell_type": "markdown",
      "source": [
        "### 원소들의 곱과 합"
      ],
      "metadata": {
        "id": "RFAuP8iNPQAd"
      }
    },
    {
      "cell_type": "code",
      "source": [
        "def solution(num_list):\n",
        "    answer = 0\n",
        "    gop = 1\n",
        "    bigyo = 0   \n",
        "    for i in num_list:\n",
        "        gop = i * gop\n",
        "    \n",
        "    if gop < sum(num_list)**2:\n",
        "        answer = 1\n",
        "    elif gop > sum(num_list)**2:\n",
        "        answer = 0\n",
        "    \n",
        "    return answer"
      ],
      "metadata": {
        "id": "4UqWLmcgPRkZ"
      },
      "execution_count": null,
      "outputs": []
    },
    {
      "cell_type": "markdown",
      "source": [
        "### 이어 붙인 수"
      ],
      "metadata": {
        "id": "19Iycy4hPSOp"
      }
    },
    {
      "cell_type": "code",
      "source": [
        "def solution(num_list):\n",
        "    answer = 0\n",
        "    odd = ''\n",
        "    even = ''\n",
        "    for i in num_list:\n",
        "        if i%2 != 0:\n",
        "            odd += str(i)\n",
        "        else:\n",
        "            even += str(i)\n",
        "        \n",
        "    answer = int(odd) + int(even)\n",
        "    \n",
        "    return answer"
      ],
      "metadata": {
        "id": "nYPqEPR7PTho"
      },
      "execution_count": null,
      "outputs": []
    }
  ]
}