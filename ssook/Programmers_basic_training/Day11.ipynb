{
  "nbformat": 4,
  "nbformat_minor": 0,
  "metadata": {
    "colab": {
      "provenance": []
    },
    "kernelspec": {
      "name": "python3",
      "display_name": "Python 3"
    },
    "language_info": {
      "name": "python"
    }
  },
  "cells": [
    {
      "cell_type": "markdown",
      "source": [
        "### 문자 개수 세기"
      ],
      "metadata": {
        "id": "kt2TG7i322t0"
      }
    },
    {
      "cell_type": "code",
      "execution_count": null,
      "metadata": {
        "id": "IHp5bIpE206n"
      },
      "outputs": [],
      "source": [
        "def solution(my_string):\n",
        "    counts = [0] * 52\n",
        "    for char in my_string:\n",
        "        if 'A' <= char <= 'Z':\n",
        "            counts[ord(char) - ord('A')] += 1\n",
        "        elif 'a' <= char <= 'z':\n",
        "            counts[ord(char) - ord('a') + 26] += 1\n",
        "    return counts"
      ]
    },
    {
      "cell_type": "markdown",
      "source": [
        "### 배열 만들기 1"
      ],
      "metadata": {
        "id": "uMnXafae245i"
      }
    },
    {
      "cell_type": "code",
      "source": [
        "def solution(n, k):\n",
        "    answer = []\n",
        "    \n",
        "    for i in range(1,n+1):\n",
        "        if k*i <= n:\n",
        "            answer.append(k*i)\n",
        "    \n",
        "    return answer"
      ],
      "metadata": {
        "id": "1SQH3hzw26ZG"
      },
      "execution_count": null,
      "outputs": []
    },
    {
      "cell_type": "markdown",
      "source": [
        "### 글자 지우기"
      ],
      "metadata": {
        "id": "pFpMd1h-26yH"
      }
    },
    {
      "cell_type": "code",
      "source": [
        "def solution(my_string, indices):\n",
        "    answer = ''\n",
        "    indices.sort()\n",
        "    prev = 0\n",
        "    \n",
        "    for idx in indices:\n",
        "        answer += my_string[prev:idx]\n",
        "        prev = idx+1\n",
        "    answer += my_string[prev:]\n",
        "    \n",
        "    return answer"
      ],
      "metadata": {
        "id": "zeRtKQ2A28JN"
      },
      "execution_count": null,
      "outputs": []
    },
    {
      "cell_type": "markdown",
      "source": [
        "### 카운트 다운"
      ],
      "metadata": {
        "id": "169sOEhB28mm"
      }
    },
    {
      "cell_type": "code",
      "source": [
        "def solution(start, end):\n",
        "    answer = [i for i in range(end, start+1)]\n",
        "    answer.sort(reverse = True)\n",
        "    return answer"
      ],
      "metadata": {
        "id": "tC3F4B72294P"
      },
      "execution_count": null,
      "outputs": []
    },
    {
      "cell_type": "markdown",
      "source": [
        "### 가까운 1 찾기"
      ],
      "metadata": {
        "id": "4oay3KLF2-EZ"
      }
    },
    {
      "cell_type": "code",
      "source": [
        "def solution(arr, idx):\n",
        "    min_idx = len(arr)\n",
        "    for i in range(idx, len(arr)):\n",
        "        if arr[i] == 1:\n",
        "            if i <= min_idx:\n",
        "                min_idx = i\n",
        "    \n",
        "    if min_idx == len(arr):\n",
        "        min_idx = -1\n",
        "                \n",
        "    return min_idx\n"
      ],
      "metadata": {
        "id": "ZQH5mrRV2_WJ"
      },
      "execution_count": null,
      "outputs": []
    }
  ]
}