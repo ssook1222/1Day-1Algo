{
  "nbformat": 4,
  "nbformat_minor": 0,
  "metadata": {
    "colab": {
      "provenance": []
    },
    "kernelspec": {
      "name": "python3",
      "display_name": "Python 3"
    },
    "language_info": {
      "name": "python"
    }
  },
  "cells": [
    {
      "cell_type": "markdown",
      "source": [
        "### 홀수 VS 짝수"
      ],
      "metadata": {
        "id": "E6aDYHGc8LFu"
      }
    },
    {
      "cell_type": "code",
      "execution_count": null,
      "metadata": {
        "id": "9dMs5xj_7Ocm"
      },
      "outputs": [],
      "source": [
        "def solution(num_list):\n",
        "    sum1 = 0\n",
        "    sum2 = 0\n",
        "    \n",
        "    for i in range(len(num_list)):\n",
        "        if i%2 == 0:\n",
        "            sum1 += num_list[i]\n",
        "        else:\n",
        "            sum2 += num_list[i]\n",
        "    \n",
        "    return max(sum1, sum2)"
      ]
    },
    {
      "cell_type": "markdown",
      "source": [
        "### 5명씩"
      ],
      "metadata": {
        "id": "F5LtrH2K8NdO"
      }
    },
    {
      "cell_type": "code",
      "source": [
        "def solution(names):\n",
        "    answer = []\n",
        "    \n",
        "    for i in range(0,len(names),5):\n",
        "        answer.append(names[i])\n",
        "        \n",
        "    return answer"
      ],
      "metadata": {
        "id": "ni4HidmQ8O4a"
      },
      "execution_count": null,
      "outputs": []
    },
    {
      "cell_type": "markdown",
      "source": [
        "### 할 일 목록"
      ],
      "metadata": {
        "id": "s2-aCJ0b8PFH"
      }
    },
    {
      "cell_type": "code",
      "source": [
        "def solution(todo_list, finished):\n",
        "    answer = []\n",
        "    \n",
        "    for i in range(len(finished)):\n",
        "        if finished[i] == False:\n",
        "            answer.append(todo_list[i])\n",
        "    \n",
        "    return answer"
      ],
      "metadata": {
        "id": "m9UHQsx28QUs"
      },
      "execution_count": null,
      "outputs": []
    },
    {
      "cell_type": "markdown",
      "source": [
        "### n보다 커질 때까지 더하기"
      ],
      "metadata": {
        "id": "auDMIUr08Qo9"
      }
    },
    {
      "cell_type": "code",
      "source": [
        "def solution(numbers, n):\n",
        "    answer = 0\n",
        "    \n",
        "    for i in numbers:\n",
        "        answer += i\n",
        "        if answer > n:\n",
        "            break\n",
        "    \n",
        "    return answer"
      ],
      "metadata": {
        "id": "ZwJblcXJ8RD_"
      },
      "execution_count": null,
      "outputs": []
    },
    {
      "cell_type": "markdown",
      "source": [
        "### 수열과 구간 쿼리 1"
      ],
      "metadata": {
        "id": "aThxaNdf8Tja"
      }
    },
    {
      "cell_type": "code",
      "source": [
        "def solution(arr, queries):\n",
        "    answer = []\n",
        "    \n",
        "    for query in queries:\n",
        "        for i in range(query[0], query[1]+1):\n",
        "            arr[i] = arr[i] + 1\n",
        "    \n",
        "    answer = arr\n",
        "    \n",
        "    return answer"
      ],
      "metadata": {
        "id": "QnS4EJP58T0F"
      },
      "execution_count": null,
      "outputs": []
    }
  ]
}