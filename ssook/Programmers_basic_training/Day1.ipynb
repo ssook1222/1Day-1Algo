{
  "nbformat": 4,
  "nbformat_minor": 0,
  "metadata": {
    "colab": {
      "provenance": []
    },
    "kernelspec": {
      "name": "python3",
      "display_name": "Python 3"
    },
    "language_info": {
      "name": "python"
    }
  },
  "cells": [
    {
      "cell_type": "markdown",
      "source": [
        "### 문자열 출력하기"
      ],
      "metadata": {
        "id": "w6dEh_Uv85JH"
      }
    },
    {
      "cell_type": "code",
      "execution_count": null,
      "metadata": {
        "id": "OLrlBtMu8gL8"
      },
      "outputs": [],
      "source": [
        "str = input()\n",
        "print(str)"
      ]
    },
    {
      "cell_type": "markdown",
      "source": [
        "### A와 B 출력하기"
      ],
      "metadata": {
        "id": "sIjruLDy873C"
      }
    },
    {
      "cell_type": "code",
      "source": [
        "a, b = map(int, input().strip().split(' '))\n",
        "print(\"a = %d\" %a)\n",
        "print(\"b = %d\" %b)"
      ],
      "metadata": {
        "id": "5qiK9P7C83_t"
      },
      "execution_count": null,
      "outputs": []
    },
    {
      "cell_type": "markdown",
      "source": [
        "### 대소문자 바꿔서 출력하기"
      ],
      "metadata": {
        "id": "1asVXis79Acj"
      }
    },
    {
      "cell_type": "code",
      "source": [
        "str = input()\n",
        "raw = list(str)\n",
        "\n",
        "for i in range(len(raw)):\n",
        "    if raw[i].islower() == True:\n",
        "        raw[i] = raw[i].upper()\n",
        "    else:\n",
        "        raw[i] = raw[i].lower()\n",
        "\n",
        "print(*raw, sep=\"\")"
      ],
      "metadata": {
        "id": "FvuoSHss9AoL"
      },
      "execution_count": null,
      "outputs": []
    },
    {
      "cell_type": "markdown",
      "source": [
        "### 특수문자 출력하기"
      ],
      "metadata": {
        "id": "c8TRosRD9FOi"
      }
    },
    {
      "cell_type": "code",
      "source": [
        "print('!@#$%^&*(\\\\\\'\"<>?:;')"
      ],
      "metadata": {
        "id": "T83SwUEL9Gvd"
      },
      "execution_count": null,
      "outputs": []
    }
  ]
}