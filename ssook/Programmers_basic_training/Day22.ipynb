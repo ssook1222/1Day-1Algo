{
  "nbformat": 4,
  "nbformat_minor": 0,
  "metadata": {
    "colab": {
      "provenance": []
    },
    "kernelspec": {
      "name": "python3",
      "display_name": "Python 3"
    },
    "language_info": {
      "name": "python"
    }
  },
  "cells": [
    {
      "cell_type": "markdown",
      "source": [
        "### 0 떼기"
      ],
      "metadata": {
        "id": "OE0r1XvH9MEe"
      }
    },
    {
      "cell_type": "code",
      "execution_count": null,
      "metadata": {
        "id": "pHlFw60U8lOo"
      },
      "outputs": [],
      "source": [
        "def solution(n_str):\n",
        "    answer = n_str.lstrip('0')\n",
        "    \n",
        "    return answer"
      ]
    },
    {
      "cell_type": "markdown",
      "source": [
        "### 두 수의 합"
      ],
      "metadata": {
        "id": "EdRjmYyq9NQO"
      }
    },
    {
      "cell_type": "code",
      "source": [
        "def solution(a, b):\n",
        "    raw = int(a) + int(b)\n",
        "    answer = str(raw)\n",
        "    return answer"
      ],
      "metadata": {
        "id": "XNor4JYa9Pcf"
      },
      "execution_count": null,
      "outputs": []
    },
    {
      "cell_type": "markdown",
      "source": [
        "### 문자열로 변환"
      ],
      "metadata": {
        "id": "0PnHcm299P0J"
      }
    },
    {
      "cell_type": "code",
      "source": [
        "def solution(n):\n",
        "    answer = str(n)\n",
        "    return answer"
      ],
      "metadata": {
        "id": "r0fjCyRU9RFE"
      },
      "execution_count": null,
      "outputs": []
    },
    {
      "cell_type": "markdown",
      "source": [
        "### 배열의 원소 삭제하기"
      ],
      "metadata": {
        "id": "N9vIMi3w9RVW"
      }
    },
    {
      "cell_type": "code",
      "source": [
        "def solution(arr, delete_list):\n",
        "    answer = []\n",
        "    \n",
        "    for num in delete_list:\n",
        "        if num in arr:\n",
        "            arr.remove(num)\n",
        "    \n",
        "    answer = arr\n",
        "    \n",
        "    return answer"
      ],
      "metadata": {
        "id": "XVEr2V7C9TBp"
      },
      "execution_count": null,
      "outputs": []
    },
    {
      "cell_type": "markdown",
      "source": [
        "### 부분 문자열인지 확인하기"
      ],
      "metadata": {
        "id": "56vycDB29Thf"
      }
    },
    {
      "cell_type": "code",
      "source": [
        "def solution(my_string, target):\n",
        "    answer = 0\n",
        "    \n",
        "    if target in my_string:\n",
        "        answer = 1\n",
        "    \n",
        "    return answer"
      ],
      "metadata": {
        "id": "aGnV7bF79VGz"
      },
      "execution_count": null,
      "outputs": []
    }
  ]
}