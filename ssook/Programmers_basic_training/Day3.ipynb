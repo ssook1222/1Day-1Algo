{
  "nbformat": 4,
  "nbformat_minor": 0,
  "metadata": {
    "colab": {
      "provenance": []
    },
    "kernelspec": {
      "name": "python3",
      "display_name": "Python 3"
    },
    "language_info": {
      "name": "python"
    }
  },
  "cells": [
    {
      "cell_type": "markdown",
      "source": [
        "### 문자열 섞기"
      ],
      "metadata": {
        "id": "jCJgvVrGW3yL"
      }
    },
    {
      "cell_type": "code",
      "execution_count": null,
      "metadata": {
        "id": "6ovV2b_SWyLl"
      },
      "outputs": [],
      "source": [
        "def solution(str1, str2):\n",
        "    answer = ''\n",
        "    \n",
        "    for i in range(len(str1)):\n",
        "        answer += str1[i] + str2[i]\n",
        "    \n",
        "    return answer"
      ]
    },
    {
      "cell_type": "markdown",
      "source": [
        "### 문자 리스트를 문자열로 변환하기"
      ],
      "metadata": {
        "id": "KLKGHI2MW5c1"
      }
    },
    {
      "cell_type": "code",
      "source": [
        "def solution(arr):\n",
        "    answer = ''\n",
        "    for c in arr:\n",
        "        answer += c\n",
        "    return answer"
      ],
      "metadata": {
        "id": "x6f88zL4W_w1"
      },
      "execution_count": null,
      "outputs": []
    },
    {
      "cell_type": "markdown",
      "source": [
        "### 문자열 곱하기"
      ],
      "metadata": {
        "id": "frw26SpDXDGF"
      }
    },
    {
      "cell_type": "code",
      "source": [
        "def solution(my_string, k):\n",
        "    answer = my_string*k\n",
        "    return answer"
      ],
      "metadata": {
        "id": "JUzhkFlUXDWp"
      },
      "execution_count": null,
      "outputs": []
    },
    {
      "cell_type": "markdown",
      "source": [
        "### 더 크게 합치기"
      ],
      "metadata": {
        "id": "t0Vm6scTXD10"
      }
    },
    {
      "cell_type": "code",
      "source": [
        "def solution(a, b):\n",
        "    answer = 0\n",
        "    \n",
        "    num1 = str(a)+str(b)\n",
        "    num2 = str(b)+str(a)\n",
        "    \n",
        "    answer = max(int(num1), int(num2))\n",
        "    \n",
        "    return answer"
      ],
      "metadata": {
        "id": "d43_9wP_XEEC"
      },
      "execution_count": null,
      "outputs": []
    },
    {
      "cell_type": "markdown",
      "source": [
        "### 두 수의 연산값 비교하기"
      ],
      "metadata": {
        "id": "gckjgjzGXJqg"
      }
    },
    {
      "cell_type": "code",
      "source": [
        "def solution(a, b):\n",
        "    answer = max(int(str(a)+str(b)), 2*a*b)\n",
        "        \n",
        "    return answer"
      ],
      "metadata": {
        "id": "FT-PBj_eXKK5"
      },
      "execution_count": null,
      "outputs": []
    }
  ]
}