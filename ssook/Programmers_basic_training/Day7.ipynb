{
  "nbformat": 4,
  "nbformat_minor": 0,
  "metadata": {
    "colab": {
      "provenance": []
    },
    "kernelspec": {
      "name": "python3",
      "display_name": "Python 3"
    },
    "language_info": {
      "name": "python"
    }
  },
  "cells": [
    {
      "cell_type": "markdown",
      "source": [
        "### 수열과 구간 쿼리 4"
      ],
      "metadata": {
        "id": "WZayDeFGKoZw"
      }
    },
    {
      "cell_type": "code",
      "execution_count": null,
      "metadata": {
        "id": "GGD_XuTzKgXF"
      },
      "outputs": [],
      "source": [
        "def solution(arr, queries):\n",
        "    answer = []\n",
        "    \n",
        "    for query in queries:\n",
        "        s = query[0]\n",
        "        e = query[1]\n",
        "        k = query[2]\n",
        "        \n",
        "        for i in range(s,e+1):\n",
        "            if i % k == 0:\n",
        "                arr[i] += 1\n",
        "                \n",
        "    answer = arr\n",
        "        \n",
        "    return answer"
      ]
    },
    {
      "cell_type": "markdown",
      "source": [
        "### 배열 만들기 2"
      ],
      "metadata": {
        "id": "-TiiPsarK7eX"
      }
    },
    {
      "cell_type": "code",
      "source": [
        "def solution(l, r):\n",
        "    answer = []\n",
        "    \n",
        "    for i in range(l, r+1):\n",
        "        num = str(i)\n",
        "        if num.count('0') + num.count('5') == len(num):\n",
        "            answer.append(i)\n",
        "        else:\n",
        "            pass\n",
        "    if len(answer) == 0:\n",
        "        answer.append(-1)\n",
        "        \n",
        "    return answer"
      ],
      "metadata": {
        "id": "hkv9guPBK7rf"
      },
      "execution_count": null,
      "outputs": []
    },
    {
      "cell_type": "markdown",
      "source": [
        "### 카운트 업"
      ],
      "metadata": {
        "id": "OZmd07DuLBb8"
      }
    },
    {
      "cell_type": "code",
      "source": [
        "def solution(start, end):\n",
        "    answer = [ i for i in range(start, end+1)]\n",
        "    return answer"
      ],
      "metadata": {
        "id": "8AUanNBhLBsV"
      },
      "execution_count": null,
      "outputs": []
    },
    {
      "cell_type": "markdown",
      "source": [
        "### 콜라츠 수열 만들기"
      ],
      "metadata": {
        "id": "ZJFWyIdLLJ9c"
      }
    },
    {
      "cell_type": "code",
      "source": [
        "def solution(n):\n",
        "    answer = []\n",
        "    answer.append(n)\n",
        "    \n",
        "    while True:    \n",
        "    \n",
        "        if n== 1:\n",
        "            break\n",
        "    \n",
        "        if n%2 == 0:\n",
        "            n = n/2\n",
        "            answer.append(n)\n",
        "            \n",
        "        else:\n",
        "            n = 3*n + 1\n",
        "            answer.append(n)\n",
        "    \n",
        "    return answer"
      ],
      "metadata": {
        "id": "nzHFxGdvLKNC"
      },
      "execution_count": null,
      "outputs": []
    },
    {
      "cell_type": "markdown",
      "source": [
        "### 배열 만들기 4"
      ],
      "metadata": {
        "id": "iWHanUuAMQFx"
      }
    },
    {
      "cell_type": "code",
      "source": [
        "def solution(arr):\n",
        "    stk = []\n",
        "    i = 0\n",
        "    \n",
        "    while i < len(arr):\n",
        "        if stk == []:\n",
        "            stk.append(arr[i])\n",
        "            i += 1\n",
        "        elif len(stk) != 0 and stk[-1] < arr[i]:\n",
        "            stk.append(arr[i])\n",
        "            i += 1\n",
        "        elif len(stk) != 0 and stk[-1] >= arr[i]:\n",
        "            stk.remove(stk[-1]) \n",
        "    \n",
        "    return stk"
      ],
      "metadata": {
        "id": "QDv_QZT8MRkP"
      },
      "execution_count": null,
      "outputs": []
    }
  ]
}