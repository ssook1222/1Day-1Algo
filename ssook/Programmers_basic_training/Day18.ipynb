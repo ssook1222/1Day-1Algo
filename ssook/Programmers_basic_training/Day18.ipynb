{
  "nbformat": 4,
  "nbformat_minor": 0,
  "metadata": {
    "colab": {
      "provenance": []
    },
    "kernelspec": {
      "name": "python3",
      "display_name": "Python 3"
    },
    "language_info": {
      "name": "python"
    }
  },
  "cells": [
    {
      "cell_type": "markdown",
      "source": [
        "### x 사이의 개수"
      ],
      "metadata": {
        "id": "f-XLK1-dmKQx"
      }
    },
    {
      "cell_type": "code",
      "execution_count": null,
      "metadata": {
        "id": "P4A5WF56PHYa"
      },
      "outputs": [],
      "source": [
        "def solution(myString):\n",
        "    answer = []\n",
        "    \n",
        "    arrays = list(map(list, myString.split(\"x\")))\n",
        "    \n",
        "    for i in range(len(arrays)):\n",
        "        answer.append(len(arrays[i]))\n",
        "    \n",
        "    return answer"
      ]
    },
    {
      "cell_type": "markdown",
      "source": [
        "### 문자열 잘라서 정렬하기"
      ],
      "metadata": {
        "id": "ocIKqZEFmNow"
      }
    },
    {
      "cell_type": "code",
      "source": [
        "def solution(myString):\n",
        "    answer = []\n",
        "    \n",
        "    raw = list(myString.split(\"x\"))\n",
        "    \n",
        "    for i in range(len(raw)):\n",
        "        if raw[i] != '':\n",
        "            answer.append(raw[i])\n",
        "    \n",
        "    answer.sort()\n",
        "    \n",
        "    \n",
        "    return answer"
      ],
      "metadata": {
        "id": "EHSdesDJmN14"
      },
      "execution_count": null,
      "outputs": []
    },
    {
      "cell_type": "markdown",
      "source": [
        "### 간단한 식 계산하기"
      ],
      "metadata": {
        "id": "mrIO-B8KmOFM"
      }
    },
    {
      "cell_type": "code",
      "source": [
        "def solution(binomial):\n",
        "    answer = 0\n",
        "    \n",
        "    sik = list(map(str, binomial.split(\" \")))\n",
        "    \n",
        "    if sik[1] == '+':\n",
        "        answer = int(sik[0])+int(sik[2])\n",
        "    \n",
        "    if sik[1] == '-':\n",
        "        answer = int(sik[0])-int(sik[2])\n",
        "    \n",
        "    if sik[1] == '*':\n",
        "        answer = int(sik[0])*int(sik[2])    \n",
        "    \n",
        "    return answer"
      ],
      "metadata": {
        "id": "DfunILz4mOUF"
      },
      "execution_count": null,
      "outputs": []
    },
    {
      "cell_type": "markdown",
      "source": [
        "### 문자열 바꿔서 찾기"
      ],
      "metadata": {
        "id": "I1LjP9-rmUHT"
      }
    },
    {
      "cell_type": "code",
      "source": [
        "def solution(myString, pat):\n",
        "    answer = 0\n",
        "    string = ''\n",
        "    for i in range(len(myString)):\n",
        "        if myString[i] == 'A':\n",
        "            string += 'B'\n",
        "        elif myString[i] == 'B':\n",
        "            string += 'A'\n",
        "    \n",
        "    if pat in string:\n",
        "        answer = 1\n",
        "    \n",
        "    return answer"
      ],
      "metadata": {
        "id": "wV6UUXVamVqS"
      },
      "execution_count": null,
      "outputs": []
    },
    {
      "cell_type": "markdown",
      "source": [
        "### rny_string"
      ],
      "metadata": {
        "id": "0BEAXBAlmV-7"
      }
    },
    {
      "cell_type": "code",
      "source": [
        "def solution(rny_string):\n",
        "    answer = ''\n",
        "    \n",
        "    answer = rny_string.replace('m', 'rn')\n",
        "    \n",
        "    return answer"
      ],
      "metadata": {
        "id": "qjfmZ3FZmYbm"
      },
      "execution_count": null,
      "outputs": []
    }
  ]
}