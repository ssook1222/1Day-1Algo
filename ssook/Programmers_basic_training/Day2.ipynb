{
  "nbformat": 4,
  "nbformat_minor": 0,
  "metadata": {
    "colab": {
      "provenance": [],
      "authorship_tag": "ABX9TyMF/+0Kws3rzk3Jbv6t6mVh",
      "include_colab_link": true
    },
    "kernelspec": {
      "name": "python3",
      "display_name": "Python 3"
    },
    "language_info": {
      "name": "python"
    }
  },
  "cells": [
    {
      "cell_type": "markdown",
      "metadata": {
        "id": "view-in-github",
        "colab_type": "text"
      },
      "source": [
        "<a href=\"https://colab.research.google.com/github/ssook1222/1Day-1Algo/blob/master/ssook/Programmers_basic_training/Day2.ipynb\" target=\"_parent\"><img src=\"https://colab.research.google.com/assets/colab-badge.svg\" alt=\"Open In Colab\"/></a>"
      ]
    },
    {
      "cell_type": "markdown",
      "source": [
        "### 덧셈식 출력하기"
      ],
      "metadata": {
        "id": "siQ6ST3g9fb6"
      }
    },
    {
      "cell_type": "code",
      "execution_count": null,
      "metadata": {
        "id": "BRAUa0iR9egO"
      },
      "outputs": [],
      "source": [
        "a, b = map(int, input().strip().split(' '))\n",
        "print(\"%d + %d = %d\" %(a,b,a+b))"
      ]
    },
    {
      "cell_type": "markdown",
      "source": [
        "### 문자열 붙여서 출력하기"
      ],
      "metadata": {
        "id": "xpRt06eW9i_j"
      }
    },
    {
      "cell_type": "code",
      "source": [
        "str1, str2 = input().strip().split(' ')\n",
        "print(str1+str2)"
      ],
      "metadata": {
        "id": "1hflJaic9mKU"
      },
      "execution_count": null,
      "outputs": []
    },
    {
      "cell_type": "markdown",
      "source": [
        "### 문자열 돌리기"
      ],
      "metadata": {
        "id": "YNcw36Ws9mkr"
      }
    },
    {
      "cell_type": "code",
      "source": [
        "str = input()\n",
        "for i in str:\n",
        "    print(i)"
      ],
      "metadata": {
        "id": "5Xu16j2x9n45"
      },
      "execution_count": null,
      "outputs": []
    },
    {
      "cell_type": "markdown",
      "source": [
        "### 홀짝 구분하기"
      ],
      "metadata": {
        "id": "9sR9Kp3n9oHi"
      }
    },
    {
      "cell_type": "code",
      "source": [
        "a = int(input())\n",
        "if a%2==0:\n",
        "    print(\"%d is even\" %a)\n",
        "\n",
        "elif a%2!=0:\n",
        "    print(\"%d is odd\" %a)"
      ],
      "metadata": {
        "id": "qYh7dguf9phN"
      },
      "execution_count": null,
      "outputs": []
    },
    {
      "cell_type": "markdown",
      "source": [
        "### 문자열 겹쳐쓰기"
      ],
      "metadata": {
        "id": "t6TvUVxu9qFn"
      }
    },
    {
      "cell_type": "code",
      "source": [
        "def solution(my_string, overwrite_string, s):\n",
        "    my_string = list(my_string)\n",
        "    for i in range(len(overwrite_string)):\n",
        "        my_string[s+i] = overwrite_string[i]  \n",
        "    answer = ''\n",
        "    for i in my_string:\n",
        "        answer += i\n",
        "    return answer"
      ],
      "metadata": {
        "id": "uuhlW9vj9reC"
      },
      "execution_count": null,
      "outputs": []
    }
  ]
}