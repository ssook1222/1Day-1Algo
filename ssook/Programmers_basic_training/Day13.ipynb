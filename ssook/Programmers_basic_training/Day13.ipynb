{
  "nbformat": 4,
  "nbformat_minor": 0,
  "metadata": {
    "colab": {
      "provenance": []
    },
    "kernelspec": {
      "name": "python3",
      "display_name": "Python 3"
    },
    "language_info": {
      "name": "python"
    }
  },
  "cells": [
    {
      "cell_type": "markdown",
      "source": [
        "### n번째 원소부터"
      ],
      "metadata": {
        "id": "ZaZgVtCk7acZ"
      }
    },
    {
      "cell_type": "code",
      "execution_count": null,
      "metadata": {
        "id": "Jv8qSTXF7KZ2"
      },
      "outputs": [],
      "source": [
        "def solution(num_list, n):\n",
        "    answer = num_list[n-1:]\n",
        "    return answer"
      ]
    },
    {
      "cell_type": "markdown",
      "source": [
        "### 순서 바꾸기"
      ],
      "metadata": {
        "id": "rppMSC7T7j-S"
      }
    },
    {
      "cell_type": "code",
      "source": [
        "def solution(num_list, n):\n",
        "    answer = []\n",
        "    answer = num_list[n:] + num_list[:n]\n",
        "    \n",
        "    return answer"
      ],
      "metadata": {
        "id": "-6tIXa3D7qwY"
      },
      "execution_count": null,
      "outputs": []
    },
    {
      "cell_type": "markdown",
      "source": [
        "### 왼쪽 오른쪽"
      ],
      "metadata": {
        "id": "2qsqNEx87rEM"
      }
    },
    {
      "cell_type": "code",
      "source": [
        "def solution(str_list):\n",
        "    answer = []\n",
        "    \n",
        "    for i in range(len(str_list)):\n",
        "        if str_list[i] == 'l':\n",
        "            answer = str_list[:i]\n",
        "            break\n",
        "        elif str_list[i] == 'r':\n",
        "            answer = str_list[i+1:]\n",
        "            break\n",
        "        elif 'l' not in str_list and 'r' not in str_list:\n",
        "            answer = []\n",
        "    \n",
        "    return answer"
      ],
      "metadata": {
        "id": "0h1Bp1JB7rRL"
      },
      "execution_count": null,
      "outputs": []
    },
    {
      "cell_type": "markdown",
      "source": [
        "### n번째 원소까지"
      ],
      "metadata": {
        "id": "P8Og5byZ7rgN"
      }
    },
    {
      "cell_type": "code",
      "source": [
        "def solution(num_list, n):\n",
        "    answer = []\n",
        "    for i in range(n):\n",
        "        answer.append(num_list[i])\n",
        "    \n",
        "    return answer"
      ],
      "metadata": {
        "id": "xVh8AELN7r1z"
      },
      "execution_count": null,
      "outputs": []
    },
    {
      "cell_type": "markdown",
      "source": [
        "### n개 간격의 원소들"
      ],
      "metadata": {
        "id": "qdixtrWR7vn8"
      }
    },
    {
      "cell_type": "code",
      "source": [
        "def solution(num_list, n):\n",
        "    answer = []\n",
        "    \n",
        "    for i in range(0,len(num_list),n):\n",
        "        answer.append(num_list[i])\n",
        "\n",
        "    return answer"
      ],
      "metadata": {
        "id": "nThK-TVz7xID"
      },
      "execution_count": null,
      "outputs": []
    }
  ]
}