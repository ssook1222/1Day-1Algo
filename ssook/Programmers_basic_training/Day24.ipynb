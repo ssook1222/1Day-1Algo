{
  "nbformat": 4,
  "nbformat_minor": 0,
  "metadata": {
    "colab": {
      "provenance": []
    },
    "kernelspec": {
      "name": "python3",
      "display_name": "Python 3"
    },
    "language_info": {
      "name": "python"
    }
  },
  "cells": [
    {
      "cell_type": "markdown",
      "source": [
        "### 커피 심부름"
      ],
      "metadata": {
        "id": "ecav4D1ZQ6qY"
      }
    },
    {
      "cell_type": "code",
      "execution_count": null,
      "metadata": {
        "id": "cuvOkHHIQO9u"
      },
      "outputs": [],
      "source": [
        "def solution(order):\n",
        "    answer = 0\n",
        "    \n",
        "    for i in order:\n",
        "        if i == 'iceamericano' or i == 'americanoice' or i == 'americano' or i == 'anything':\n",
        "            answer += 4500\n",
        "        \n",
        "        if i == 'hotamericano' or i == 'americanohot':\n",
        "            answer += 4500\n",
        "        \n",
        "        if i == 'icecafelatte' or i == 'cafelatteice' or i == 'cafelatte':\n",
        "            answer += 5000\n",
        "        \n",
        "        if i == 'hotcafelatte' or i == 'cafelattehot':\n",
        "            answer += 5000\n",
        "        \n",
        "        \n",
        "    \n",
        "    return answer"
      ]
    },
    {
      "cell_type": "markdown",
      "source": [
        "### 그림 확대"
      ],
      "metadata": {
        "id": "AVFdYzpWRDcB"
      }
    },
    {
      "cell_type": "code",
      "source": [
        "def solution(picture, k):\n",
        "    \n",
        "    n = len(picture)\n",
        "    m = len(picture[0])\n",
        "\n",
        "    new_n = n * k\n",
        "    new_m = m * k\n",
        "\n",
        "    new_picture = []\n",
        "    \n",
        "    for i in range(new_n):\n",
        "        row = ''\n",
        "        \n",
        "        for j in range(new_m):\n",
        "            row += picture[i//k][j//k]\n",
        "            \n",
        "        new_picture.append(row)\n",
        "\n",
        "    return new_picture"
      ],
      "metadata": {
        "id": "fz-pxHXORJTH"
      },
      "execution_count": null,
      "outputs": []
    },
    {
      "cell_type": "markdown",
      "source": [
        "### 조건에 맞게 수열 변환하기 3"
      ],
      "metadata": {
        "id": "N3721ju6RJ4R"
      }
    },
    {
      "cell_type": "code",
      "source": [
        "def solution(arr, k):\n",
        "    answer = []\n",
        "    \n",
        "    if k % 2 != 0:\n",
        "        for i in range(len(arr)):\n",
        "            arr[i] = arr[i] * k\n",
        "    else:\n",
        "        for i in range(len(arr)):\n",
        "            arr[i] = arr[i] + k\n",
        "    \n",
        "    return arr"
      ],
      "metadata": {
        "id": "exrH8iqfRJZV"
      },
      "execution_count": null,
      "outputs": []
    },
    {
      "cell_type": "markdown",
      "source": [
        "### I로 만들기"
      ],
      "metadata": {
        "id": "yYGts71YRLex"
      }
    },
    {
      "cell_type": "code",
      "source": [
        "def solution(myString):\n",
        "    answer = ''\n",
        "    \n",
        "    for i in myString:\n",
        "        if ord(i) < ord('l'):\n",
        "            answer += 'l'\n",
        "        else:\n",
        "            answer += i\n",
        "    \n",
        "    return answer"
      ],
      "metadata": {
        "id": "ox55PfBwRNc_"
      },
      "execution_count": null,
      "outputs": []
    },
    {
      "cell_type": "markdown",
      "source": [
        "### 특별한 이차원 배열 1"
      ],
      "metadata": {
        "id": "Md4i9qanRNxv"
      }
    },
    {
      "cell_type": "code",
      "source": [
        "def solution(n):\n",
        "    answer = [[0] * n for _ in range(n)]\n",
        "    \n",
        "    num = 1\n",
        "    \n",
        "    for i in range(n):\n",
        "        for j in range(n):\n",
        "            if i==j:\n",
        "                answer[i][j] = 1\n",
        "            \n",
        "    return answer"
      ],
      "metadata": {
        "id": "y_kyUny6ROEx"
      },
      "execution_count": null,
      "outputs": []
    }
  ]
}