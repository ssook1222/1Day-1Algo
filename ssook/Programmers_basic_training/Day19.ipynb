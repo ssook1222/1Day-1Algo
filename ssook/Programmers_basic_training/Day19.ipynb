{
  "nbformat": 4,
  "nbformat_minor": 0,
  "metadata": {
    "colab": {
      "provenance": []
    },
    "kernelspec": {
      "name": "python3",
      "display_name": "Python 3"
    },
    "language_info": {
      "name": "python"
    }
  },
  "cells": [
    {
      "cell_type": "markdown",
      "source": [
        "### 세 개의 구분자"
      ],
      "metadata": {
        "id": "12imwo8jMWZH"
      }
    },
    {
      "cell_type": "code",
      "execution_count": null,
      "metadata": {
        "id": "jhyl7C9uMGBY"
      },
      "outputs": [],
      "source": [
        "import re\n",
        "\n",
        "def solution(myStr):\n",
        "    answer = []\n",
        "    res = re.split(\"[abc]+\", myStr)\n",
        "    \n",
        "    for i in range(len(res)):\n",
        "        if res[i] != '':\n",
        "            answer.append(res[i])\n",
        "    \n",
        "    if len(answer)==0:\n",
        "        answer = [\"EMPTY\"]\n",
        "    \n",
        "    return answer"
      ]
    },
    {
      "cell_type": "markdown",
      "source": [
        "### 배열의 원소만큼 추가하기"
      ],
      "metadata": {
        "id": "OTNaYlBVMX3J"
      }
    },
    {
      "cell_type": "code",
      "source": [
        "def solution(arr):\n",
        "    answer = []\n",
        "    \n",
        "    for i in range(len(arr)):\n",
        "        for j in range(arr[i]):\n",
        "            answer.append(arr[i])\n",
        "    \n",
        "    return answer"
      ],
      "metadata": {
        "id": "-iuMx-PaMYMn"
      },
      "execution_count": null,
      "outputs": []
    },
    {
      "cell_type": "markdown",
      "source": [
        "### 빈 배열에 추가, 삭제하기"
      ],
      "metadata": {
        "id": "HCNgoxQ8Mdu-"
      }
    },
    {
      "cell_type": "code",
      "source": [
        "def solution(arr, flag):\n",
        "    answer = []\n",
        "    \n",
        "    for i in range(len(flag)):\n",
        "        if flag[i] == True:\n",
        "            answer.extend([arr[i]]*(arr[i]*2))\n",
        "        \n",
        "        else:\n",
        "            answer = answer[:-arr[i]]\n",
        "              \n",
        "    return answer"
      ],
      "metadata": {
        "id": "0NY53OftMeE2"
      },
      "execution_count": null,
      "outputs": []
    },
    {
      "cell_type": "markdown",
      "source": [
        "### 배열 만들기 6"
      ],
      "metadata": {
        "id": "S0tXfnezMgGf"
      }
    },
    {
      "cell_type": "code",
      "source": [
        "def solution(arr):\n",
        "    stk = []\n",
        "    answer = []\n",
        "    \n",
        "    i = 0\n",
        "    \n",
        "    while i < len(arr):\n",
        "        if stk == []:\n",
        "            stk.append(arr[i])\n",
        "            i += 1\n",
        "        \n",
        "        elif len(stk) != 0 :\n",
        "            if stk[-1] == arr[i]:\n",
        "                stk.pop()\n",
        "                i += 1\n",
        "            \n",
        "            else:\n",
        "                stk.append(arr[i])\n",
        "                i += 1\n",
        "            \n",
        "    if len(stk)!=0:\n",
        "        answer = stk\n",
        "    \n",
        "    else:\n",
        "        answer = [-1]\n",
        "        \n",
        "    return answer"
      ],
      "metadata": {
        "id": "fhqucN95MiAA"
      },
      "execution_count": null,
      "outputs": []
    },
    {
      "cell_type": "markdown",
      "source": [
        "### 무작위로 K개의 수 뽑기"
      ],
      "metadata": {
        "id": "E9AYPcAhMiQa"
      }
    },
    {
      "cell_type": "code",
      "source": [
        "def solution(arr, k):\n",
        "    answer = []\n",
        "    nums = set(answer)\n",
        "    \n",
        "    for num in arr:\n",
        "        if num in nums:\n",
        "            continue\n",
        "        nums.add(num)\n",
        "        answer.append(num)\n",
        "        \n",
        "        if len(answer) == k:\n",
        "            break\n",
        "    \n",
        "    if len(answer) < k:\n",
        "        answer += [-1] * (k - len(answer))\n",
        "    \n",
        "    return answer"
      ],
      "metadata": {
        "id": "mDEL1rlXMip_"
      },
      "execution_count": null,
      "outputs": []
    }
  ]
}