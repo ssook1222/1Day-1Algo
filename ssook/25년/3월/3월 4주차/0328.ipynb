{
  "nbformat": 4,
  "nbformat_minor": 0,
  "metadata": {
    "colab": {
      "provenance": [],
      "authorship_tag": "ABX9TyNcIFN3IOP0G5f4JGVyZOMk",
      "include_colab_link": true
    },
    "kernelspec": {
      "name": "python3",
      "display_name": "Python 3"
    },
    "language_info": {
      "name": "python"
    }
  },
  "cells": [
    {
      "cell_type": "markdown",
      "metadata": {
        "id": "view-in-github",
        "colab_type": "text"
      },
      "source": [
        "<a href=\"https://colab.research.google.com/github/ssook1222/1Day-1Algo/blob/master/ssook/25%EB%85%84/3%EC%9B%94/3%EC%9B%94%204%EC%A3%BC%EC%B0%A8/0328.ipynb\" target=\"_parent\"><img src=\"https://colab.research.google.com/assets/colab-badge.svg\" alt=\"Open In Colab\"/></a>"
      ]
    },
    {
      "cell_type": "markdown",
      "source": [
        "## BoJ"
      ],
      "metadata": {
        "id": "HQVIt7o6oBqh"
      }
    },
    {
      "cell_type": "markdown",
      "source": [
        "### 1049"
      ],
      "metadata": {
        "id": "r3MjQMl1oEv9"
      }
    },
    {
      "cell_type": "code",
      "source": [
        "num_broken_strings, num_brands = map(int, input().split())\n",
        "package_prices = []\n",
        "single_prices = []\n",
        "\n",
        "for _ in range(num_brands):\n",
        "    package_price, single_price = map(int, input().split())\n",
        "    package_prices.append(package_price)\n",
        "    single_prices.append(single_price)\n",
        "\n",
        "min_package_price = min(package_prices)\n",
        "\n",
        "total_cost = 0\n",
        "while num_broken_strings > 0:\n",
        "    if num_broken_strings >= 6:\n",
        "        min_single_cost = min(single_prices) * 6\n",
        "        num_broken_strings -= 6\n",
        "    else:\n",
        "        min_single_cost = min(single_prices) * num_broken_strings\n",
        "        num_broken_strings = 0\n",
        "\n",
        "    if min_single_cost < min_package_price:\n",
        "        total_cost += min_single_cost\n",
        "    else:\n",
        "        total_cost += min_package_price\n",
        "\n",
        "print(total_cost)"
      ],
      "metadata": {
        "id": "QMC1y4hSoFhO"
      },
      "execution_count": null,
      "outputs": []
    },
    {
      "cell_type": "markdown",
      "source": [
        "## Programmers"
      ],
      "metadata": {
        "id": "fh-e-0kJoF2T"
      }
    },
    {
      "cell_type": "markdown",
      "source": [
        "### 완전탐색"
      ],
      "metadata": {
        "id": "0I4P_jvFoHZ0"
      }
    },
    {
      "cell_type": "code",
      "source": [
        "def solution(sizes):\n",
        "    answer = 0\n",
        "    r_w = []\n",
        "    r_h = []\n",
        "\n",
        "    for i in sizes:\n",
        "        r_w.append(max(i))\n",
        "        r_h.append(min(i))\n",
        "\n",
        "    answer = max(r_w) * max(r_h)\n",
        "    return answer"
      ],
      "metadata": {
        "id": "bYw4JNWgoIF5"
      },
      "execution_count": null,
      "outputs": []
    }
  ]
}