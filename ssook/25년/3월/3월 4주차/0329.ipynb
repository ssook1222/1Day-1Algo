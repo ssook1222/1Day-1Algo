{
  "nbformat": 4,
  "nbformat_minor": 0,
  "metadata": {
    "colab": {
      "provenance": [],
      "authorship_tag": "ABX9TyNVLOjPW3Z+79vLbwnEVJuf",
      "include_colab_link": true
    },
    "kernelspec": {
      "name": "python3",
      "display_name": "Python 3"
    },
    "language_info": {
      "name": "python"
    }
  },
  "cells": [
    {
      "cell_type": "markdown",
      "metadata": {
        "id": "view-in-github",
        "colab_type": "text"
      },
      "source": [
        "<a href=\"https://colab.research.google.com/github/ssook1222/1Day-1Algo/blob/master/ssook/25%EB%85%84/3%EC%9B%94/3%EC%9B%94%204%EC%A3%BC%EC%B0%A8/0329.ipynb\" target=\"_parent\"><img src=\"https://colab.research.google.com/assets/colab-badge.svg\" alt=\"Open In Colab\"/></a>"
      ]
    },
    {
      "cell_type": "markdown",
      "source": [
        "## BoJ"
      ],
      "metadata": {
        "id": "HQVIt7o6oBqh"
      }
    },
    {
      "cell_type": "markdown",
      "source": [
        "### 1059"
      ],
      "metadata": {
        "id": "r3MjQMl1oEv9"
      }
    },
    {
      "cell_type": "code",
      "source": [
        "import sys\n",
        "length_of_set = int(sys.stdin.readline())\n",
        "number_set = list(map(int, sys.stdin.readline().split()))\n",
        "target_number = int(sys.stdin.readline())\n",
        "number_set.sort()\n",
        "\n",
        "if target_number in number_set:\n",
        "    print(0)\n",
        "else:\n",
        "    lower_bound = 0\n",
        "    upper_bound = 0\n",
        "    for number in number_set:\n",
        "        if number < target_number:\n",
        "            lower_bound = number\n",
        "        elif number > target_number and upper_bound == 0:\n",
        "            upper_bound = number\n",
        "\n",
        "    upper_bound -= 1\n",
        "    lower_bound += 1\n",
        "    print((target_number - lower_bound) * (upper_bound - target_number + 1) + (upper_bound - target_number))"
      ],
      "metadata": {
        "id": "QMC1y4hSoFhO"
      },
      "execution_count": null,
      "outputs": []
    },
    {
      "cell_type": "markdown",
      "source": [
        "## Programmers"
      ],
      "metadata": {
        "id": "fh-e-0kJoF2T"
      }
    },
    {
      "cell_type": "markdown",
      "source": [
        "### 모의고사"
      ],
      "metadata": {
        "id": "0I4P_jvFoHZ0"
      }
    },
    {
      "cell_type": "code",
      "source": [
        "def solution(answers):\n",
        "    pattern_1 = [1, 2, 3, 4, 5]\n",
        "    pattern_2 = [2, 1, 2, 3, 2, 4, 2, 5]\n",
        "    pattern_3 = [3, 3, 1, 1, 2, 2, 4, 4, 5, 5]\n",
        "\n",
        "    count_1, count_2, count_3 = 0, 0, 0\n",
        "\n",
        "    for i in range(len(answers)):\n",
        "        if answers[i] == pattern_1[i % len(pattern_1)]:\n",
        "            count_1 += 1\n",
        "        if answers[i] == pattern_2[i % len(pattern_2)]:\n",
        "            count_2 += 1\n",
        "        if answers[i] == pattern_3[i % len(pattern_3)]:\n",
        "            count_3 += 1\n",
        "\n",
        "    max_count = max(count_1, count_2, count_3)\n",
        "\n",
        "    winners = []\n",
        "    if count_1 == max_count:\n",
        "        winners.append(1)\n",
        "    if count_2 == max_count:\n",
        "        winners.append(2)\n",
        "    if count_3 == max_count:\n",
        "        winners.append(3)\n",
        "\n",
        "    return winners"
      ],
      "metadata": {
        "id": "bYw4JNWgoIF5"
      },
      "execution_count": null,
      "outputs": []
    }
  ]
}