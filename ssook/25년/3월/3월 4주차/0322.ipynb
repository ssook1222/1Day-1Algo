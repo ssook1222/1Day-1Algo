{
  "nbformat": 4,
  "nbformat_minor": 0,
  "metadata": {
    "colab": {
      "provenance": [],
      "authorship_tag": "ABX9TyOmhPUjjhqvOFGJPrkOJVLG",
      "include_colab_link": true
    },
    "kernelspec": {
      "name": "python3",
      "display_name": "Python 3"
    },
    "language_info": {
      "name": "python"
    }
  },
  "cells": [
    {
      "cell_type": "markdown",
      "metadata": {
        "id": "view-in-github",
        "colab_type": "text"
      },
      "source": [
        "<a href=\"https://colab.research.google.com/github/ssook1222/1Day-1Algo/blob/master/ssook/25%EB%85%84/3%EC%9B%94/3%EC%9B%94%204%EC%A3%BC%EC%B0%A8/0322.ipynb\" target=\"_parent\"><img src=\"https://colab.research.google.com/assets/colab-badge.svg\" alt=\"Open In Colab\"/></a>"
      ]
    },
    {
      "cell_type": "markdown",
      "source": [
        "## BoJ"
      ],
      "metadata": {
        "id": "2c_AlJF0gQZR"
      }
    },
    {
      "cell_type": "markdown",
      "source": [
        "### 5533"
      ],
      "metadata": {
        "id": "2Acl5o0qgRq3"
      }
    },
    {
      "cell_type": "code",
      "execution_count": null,
      "metadata": {
        "id": "2Fv6A9jAf1sL"
      },
      "outputs": [],
      "source": [
        "N = int(input())  # 플레이어의 수\n",
        "numbers = [[], [], []]  # 각 게임에서 선택된 수를 저장할 리스트\n",
        "total_score = [0] * N  # 각 플레이어의 점수를 저장할 리스트\n",
        "\n",
        "# 각 플레이어가 선택한 수를 입력받아 numbers 리스트에 저장\n",
        "for i in range(N):\n",
        "    T = list(map(int, input().split()))\n",
        "    numbers[0].append(T[0])  # 첫 번째 게임에서 선택된 수\n",
        "    numbers[1].append(T[1])  # 두 번째 게임에서 선택된 수\n",
        "    numbers[2].append(T[2])  # 세 번째 게임에서 선택된 수\n",
        "\n",
        "# 각 게임에서 같은 수를 쓴 플레이어가 없으면 점수를 얻는다.\n",
        "for i in range(3):\n",
        "    for j in range(N):\n",
        "        if numbers[i].count(numbers[i][j]) > 1:\n",
        "            total_score[j] += 0  # 중복된 수가 있으면 점수 없음\n",
        "        else:\n",
        "            total_score[j] += numbers[i][j]  # 중복된 수가 없으면 점수 더함\n",
        "\n",
        "# 각 플레이어의 총 점수 출력\n",
        "for score in total_score:\n",
        "    print(score)"
      ]
    },
    {
      "cell_type": "markdown",
      "source": [
        "---"
      ],
      "metadata": {
        "id": "eEoMyzsygSZ9"
      }
    },
    {
      "cell_type": "markdown",
      "source": [
        "## Programmers"
      ],
      "metadata": {
        "id": "fwGRK1ZDgTQb"
      }
    },
    {
      "cell_type": "markdown",
      "source": [
        "### 머쓱이보다 키 큰 사람"
      ],
      "metadata": {
        "id": "l0m2esg0gUbP"
      }
    },
    {
      "cell_type": "code",
      "source": [
        "def solution(array, height):\n",
        "    answer = 0\n",
        "\n",
        "    for i in array:\n",
        "        if i > height :\n",
        "            answer += 1\n",
        "\n",
        "    return answer"
      ],
      "metadata": {
        "id": "jaPVCtSzgU-n"
      },
      "execution_count": null,
      "outputs": []
    }
  ]
}