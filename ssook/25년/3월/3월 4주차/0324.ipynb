{
  "nbformat": 4,
  "nbformat_minor": 0,
  "metadata": {
    "colab": {
      "provenance": [],
      "authorship_tag": "ABX9TyNg/NJynnnc4F3IMooQWKzH",
      "include_colab_link": true
    },
    "kernelspec": {
      "name": "python3",
      "display_name": "Python 3"
    },
    "language_info": {
      "name": "python"
    }
  },
  "cells": [
    {
      "cell_type": "markdown",
      "metadata": {
        "id": "view-in-github",
        "colab_type": "text"
      },
      "source": [
        "<a href=\"https://colab.research.google.com/github/ssook1222/1Day-1Algo/blob/master/ssook/25%EB%85%84/3%EC%9B%94/3%EC%9B%94%204%EC%A3%BC%EC%B0%A8/0324.ipynb\" target=\"_parent\"><img src=\"https://colab.research.google.com/assets/colab-badge.svg\" alt=\"Open In Colab\"/></a>"
      ]
    },
    {
      "cell_type": "markdown",
      "source": [
        "## BoJ"
      ],
      "metadata": {
        "id": "HQVIt7o6oBqh"
      }
    },
    {
      "cell_type": "markdown",
      "source": [
        "### 1007"
      ],
      "metadata": {
        "id": "r3MjQMl1oEv9"
      }
    },
    {
      "cell_type": "code",
      "source": [
        "import sys\n",
        "import math\n",
        "import itertools\n",
        "\n",
        "T = int(sys.stdin.readline())\n",
        "results = []\n",
        "\n",
        "for _ in range(T):\n",
        "    N = int(sys.stdin.readline())\n",
        "    points = []\n",
        "\n",
        "    x_sum = 0\n",
        "    y_sum = 0\n",
        "    for _ in range(N):\n",
        "        x, y = map(int, sys.stdin.readline().split())\n",
        "        x_sum += x\n",
        "        y_sum += y\n",
        "        points.append([x, y])\n",
        "\n",
        "    min_length = math.inf\n",
        "\n",
        "    combinations = list(itertools.combinations(points, int(N / 2)))\n",
        "    half_combinations = int(len(combinations) / 2)\n",
        "\n",
        "    for selected_points in combinations[:half_combinations]:\n",
        "        selected_points = list(selected_points)\n",
        "\n",
        "        x1_sum = 0\n",
        "        y1_sum = 0\n",
        "        for x1, y1 in selected_points:\n",
        "            x1_sum += x1\n",
        "            y1_sum += y1\n",
        "\n",
        "        x2_sum = x_sum - x1_sum\n",
        "        y2_sum = y_sum - y1_sum\n",
        "\n",
        "        min_length = min(min_length, math.sqrt((x1_sum - x2_sum) ** 2 + (y1_sum - y2_sum) ** 2))\n",
        "\n",
        "    results.append(min_length)\n",
        "\n",
        "for result in results:\n",
        "    sys.stdout.write(str(result) + '\\n')"
      ],
      "metadata": {
        "id": "QMC1y4hSoFhO"
      },
      "execution_count": null,
      "outputs": []
    },
    {
      "cell_type": "markdown",
      "source": [
        "## Programmers"
      ],
      "metadata": {
        "id": "fh-e-0kJoF2T"
      }
    },
    {
      "cell_type": "markdown",
      "source": [
        "### 폰켓몬"
      ],
      "metadata": {
        "id": "0I4P_jvFoHZ0"
      }
    },
    {
      "cell_type": "code",
      "source": [
        "def solution(nums):\n",
        "    answer = 0\n",
        "    max_nums = len(nums) // 2\n",
        "    test = list(set(nums))\n",
        "\n",
        "    if max_nums >= len(test):\n",
        "        answer = len(test)\n",
        "\n",
        "    else:\n",
        "        answer = max_nums\n",
        "\n",
        "    return answer"
      ],
      "metadata": {
        "id": "bYw4JNWgoIF5"
      },
      "execution_count": null,
      "outputs": []
    }
  ]
}