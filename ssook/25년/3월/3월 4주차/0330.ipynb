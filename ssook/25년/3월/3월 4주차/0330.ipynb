{
  "nbformat": 4,
  "nbformat_minor": 0,
  "metadata": {
    "colab": {
      "provenance": [],
      "authorship_tag": "ABX9TyPVPoQNdYIvs23t9qTrffHM",
      "include_colab_link": true
    },
    "kernelspec": {
      "name": "python3",
      "display_name": "Python 3"
    },
    "language_info": {
      "name": "python"
    }
  },
  "cells": [
    {
      "cell_type": "markdown",
      "metadata": {
        "id": "view-in-github",
        "colab_type": "text"
      },
      "source": [
        "<a href=\"https://colab.research.google.com/github/ssook1222/1Day-1Algo/blob/master/ssook/25%EB%85%84/3%EC%9B%94/3%EC%9B%94%204%EC%A3%BC%EC%B0%A8/0330.ipynb\" target=\"_parent\"><img src=\"https://colab.research.google.com/assets/colab-badge.svg\" alt=\"Open In Colab\"/></a>"
      ]
    },
    {
      "cell_type": "markdown",
      "source": [
        "## BoJ"
      ],
      "metadata": {
        "id": "HQVIt7o6oBqh"
      }
    },
    {
      "cell_type": "markdown",
      "source": [
        "### 1064"
      ],
      "metadata": {
        "id": "r3MjQMl1oEv9"
      }
    },
    {
      "cell_type": "code",
      "source": [
        "x1, y1, x2, y2, x3, y3 = map(int, input().split())\n",
        "\n",
        "if ((x1 - x2) * (y1 - y3) == (y1 - y2) * (x1 - x3)):\n",
        "    print(-1.0)\n",
        "    exit(0)\n",
        "\n",
        "side1_length = ((x1 - x2)**2 + (y1 - y2)**2)**0.5\n",
        "side2_length = ((x1 - x3)**2 + (y1 - y3)**2)**0.5\n",
        "side3_length = ((x2 - x3)**2 + (y2 - y3)**2)**0.5\n",
        "\n",
        "perimeters = [side1_length + side2_length, side1_length + side3_length, side2_length + side3_length]\n",
        "difference = max(perimeters) - min(perimeters)\n",
        "print(2 * difference)"
      ],
      "metadata": {
        "id": "QMC1y4hSoFhO"
      },
      "execution_count": null,
      "outputs": []
    },
    {
      "cell_type": "markdown",
      "source": [
        "## Programmers"
      ],
      "metadata": {
        "id": "fh-e-0kJoF2T"
      }
    },
    {
      "cell_type": "markdown",
      "source": [
        "### 카펫"
      ],
      "metadata": {
        "id": "0I4P_jvFoHZ0"
      }
    },
    {
      "cell_type": "code",
      "source": [
        "def solution(brown, yellow):\n",
        "    area = brown + yellow\n",
        "    divide = 1\n",
        "    divide_num = []\n",
        "    answer = []\n",
        "\n",
        "    while divide <= area :\n",
        "        if area % divide == 0:\n",
        "            divide_num.append(divide)\n",
        "            divide = divide + 1\n",
        "        else:\n",
        "            divide = divide + 1\n",
        "\n",
        "    divide_num.sort(reverse = True)\n",
        "\n",
        "    for i in range(len(divide_num)):\n",
        "        #divide_num이 세로, mok이 가로\n",
        "        #1줄은 반드시 노란색임.\n",
        "        #그래서 전체 가로에서 2칸 빼고, 전체 세로에서 2칸 뺀 것을 곱한 것이 노란색 칸 수랑 같아야 됨\n",
        "        mok = area // divide_num[i]\n",
        "        if (mok-2)*(divide_num[i]-2)==yellow and mok >= divide_num[i]:\n",
        "            answer = [mok, divide_num[i]]\n",
        "\n",
        "    return answer"
      ],
      "metadata": {
        "id": "bYw4JNWgoIF5"
      },
      "execution_count": null,
      "outputs": []
    }
  ]
}