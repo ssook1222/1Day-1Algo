{
  "nbformat": 4,
  "nbformat_minor": 0,
  "metadata": {
    "colab": {
      "provenance": [],
      "authorship_tag": "ABX9TyM0fjQClH3YVIBEbfEm1H2q",
      "include_colab_link": true
    },
    "kernelspec": {
      "name": "python3",
      "display_name": "Python 3"
    },
    "language_info": {
      "name": "python"
    }
  },
  "cells": [
    {
      "cell_type": "markdown",
      "metadata": {
        "id": "view-in-github",
        "colab_type": "text"
      },
      "source": [
        "<a href=\"https://colab.research.google.com/github/ssook1222/1Day-1Algo/blob/master/ssook/25%EB%85%84/3%EC%9B%94/3%EC%9B%94%204%EC%A3%BC%EC%B0%A8/0326.ipynb\" target=\"_parent\"><img src=\"https://colab.research.google.com/assets/colab-badge.svg\" alt=\"Open In Colab\"/></a>"
      ]
    },
    {
      "cell_type": "markdown",
      "source": [
        "## BoJ"
      ],
      "metadata": {
        "id": "HQVIt7o6oBqh"
      }
    },
    {
      "cell_type": "markdown",
      "source": [
        "### 1039"
      ],
      "metadata": {
        "id": "r3MjQMl1oEv9"
      }
    },
    {
      "cell_type": "code",
      "source": [
        "from collections import deque\n",
        "\n",
        "# 입력 받기\n",
        "number, max_swaps = map(int, input().split())\n",
        "digit_count = len(str(number))\n",
        "\n",
        "def find_max_number(number, max_swaps):\n",
        "    visited = set()\n",
        "    visited.add((number, 0))\n",
        "    queue = deque()\n",
        "    queue.append((number, 0))\n",
        "    max_number = 0\n",
        "\n",
        "    while queue:\n",
        "        current_number, current_swaps = queue.popleft()\n",
        "\n",
        "        # 최대 연산 횟수에 도달한 경우\n",
        "        if current_swaps == max_swaps:\n",
        "            max_number = max(max_number, current_number)\n",
        "            continue\n",
        "\n",
        "        number_list = list(str(current_number))\n",
        "\n",
        "        # 두 자릿수 선택하여 교환\n",
        "        for i in range(digit_count - 1):\n",
        "            for j in range(i + 1, digit_count):\n",
        "                # 첫 번째 자릿수가 0이 되는 경우 건너뜀\n",
        "                if i == 0 and number_list[j] == '0':\n",
        "                    continue\n",
        "\n",
        "                # 숫자 교환\n",
        "                number_list[i], number_list[j] = number_list[j], number_list[i]\n",
        "                new_number = int(''.join(number_list))\n",
        "\n",
        "                if (new_number, current_swaps + 1) not in visited:\n",
        "                    queue.append((new_number, current_swaps + 1))\n",
        "                    visited.add((new_number, current_swaps + 1))\n",
        "\n",
        "                # 원래 상태로 복원\n",
        "                number_list[i], number_list[j] = number_list[j], number_list[i]\n",
        "\n",
        "    return max_number if max_number else -1\n",
        "\n",
        "# 결과 출력\n",
        "print(find_max_number(number, max_swaps))"
      ],
      "metadata": {
        "id": "QMC1y4hSoFhO"
      },
      "execution_count": null,
      "outputs": []
    },
    {
      "cell_type": "markdown",
      "source": [
        "## Programmers"
      ],
      "metadata": {
        "id": "fh-e-0kJoF2T"
      }
    },
    {
      "cell_type": "markdown",
      "source": [
        "### 같은 숫자는 싫어"
      ],
      "metadata": {
        "id": "0I4P_jvFoHZ0"
      }
    },
    {
      "cell_type": "code",
      "source": [
        "def solution(arr):\n",
        "    answer = []\n",
        "\n",
        "    for i in range(len(arr)):\n",
        "        if arr[i] not in answer:\n",
        "            answer.append(arr[i])\n",
        "        else:\n",
        "            if arr[i] != arr[i-1]:\n",
        "                answer.append(arr[i])\n",
        "\n",
        "    return answer"
      ],
      "metadata": {
        "id": "bYw4JNWgoIF5"
      },
      "execution_count": null,
      "outputs": []
    }
  ]
}