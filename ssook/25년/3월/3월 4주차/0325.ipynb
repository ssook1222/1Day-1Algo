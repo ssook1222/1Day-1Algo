{
  "nbformat": 4,
  "nbformat_minor": 0,
  "metadata": {
    "colab": {
      "provenance": [],
      "authorship_tag": "ABX9TyOcIS4WKb3wdj4y5WJcxrOW",
      "include_colab_link": true
    },
    "kernelspec": {
      "name": "python3",
      "display_name": "Python 3"
    },
    "language_info": {
      "name": "python"
    }
  },
  "cells": [
    {
      "cell_type": "markdown",
      "metadata": {
        "id": "view-in-github",
        "colab_type": "text"
      },
      "source": [
        "<a href=\"https://colab.research.google.com/github/ssook1222/1Day-1Algo/blob/master/ssook/25%EB%85%84/3%EC%9B%94/3%EC%9B%94%204%EC%A3%BC%EC%B0%A8/0325.ipynb\" target=\"_parent\"><img src=\"https://colab.research.google.com/assets/colab-badge.svg\" alt=\"Open In Colab\"/></a>"
      ]
    },
    {
      "cell_type": "markdown",
      "source": [
        "## BoJ"
      ],
      "metadata": {
        "id": "HQVIt7o6oBqh"
      }
    },
    {
      "cell_type": "markdown",
      "source": [
        "### 1033"
      ],
      "metadata": {
        "id": "r3MjQMl1oEv9"
      }
    },
    {
      "cell_type": "code",
      "source": [
        "import sys\n",
        "input = sys.stdin.readline\n",
        "n = int(input())\n",
        "ingredients = [[] for _ in range(n)]\n",
        "amount = [0] * (n)\n",
        "visited = [False] * n\n",
        "\n",
        "def gcd(a,b):\n",
        "  if a % b == 0:\n",
        "    return b\n",
        "  return gcd(b, a % b)\n",
        "\n",
        "total_ratio = 1\n",
        "for _ in range(n - 1):\n",
        "  a, b, p, q = map(int, input().split())\n",
        "  ingredients[a].append((b, p, q))\n",
        "  ingredients[b].append((a, q, p))\n",
        "  total_ratio *= ((p * q) // gcd(p, q))\n",
        "amount[0] = total_ratio\n",
        "\n",
        "def DFS(ingredient):\n",
        "  visited[ingredient] = True\n",
        "  for pair in ingredients[ingredient]:\n",
        "    if not visited[pair[0]]:\n",
        "      amount[pair[0]] = pair[2] * amount[ingredient] // pair[1]\n",
        "      DFS(pair[0])\n",
        "\n",
        "DFS(0)\n",
        "\n",
        "gcd_value = amount[0]\n",
        "for i in range(n):\n",
        "  gcd_value = gcd(gcd_value, amount[i])\n",
        "\n",
        "for i in range(len(amount)):\n",
        "  amount[i] = amount[i] // gcd_value\n",
        "print(*amount)"
      ],
      "metadata": {
        "id": "QMC1y4hSoFhO"
      },
      "execution_count": null,
      "outputs": []
    },
    {
      "cell_type": "markdown",
      "source": [
        "## Programmers"
      ],
      "metadata": {
        "id": "fh-e-0kJoF2T"
      }
    },
    {
      "cell_type": "markdown",
      "source": [
        "### 완주하지 못한 선수"
      ],
      "metadata": {
        "id": "0I4P_jvFoHZ0"
      }
    },
    {
      "cell_type": "code",
      "source": [
        "def solution(participant, completion):\n",
        "    hash_table = {}\n",
        "\n",
        "    for name in participant:\n",
        "        if name in hash_table:\n",
        "            hash_table[name] += 1\n",
        "        else:\n",
        "            hash_table[name] = 1\n",
        "\n",
        "    for name in completion:\n",
        "        if name in hash_table:\n",
        "            hash_table[name] -= 1\n",
        "            if hash_table[name] == 0:\n",
        "                del hash_table[name]\n",
        "\n",
        "    answer = list(hash_table.keys())[0]\n",
        "    return answer\n"
      ],
      "metadata": {
        "id": "bYw4JNWgoIF5"
      },
      "execution_count": null,
      "outputs": []
    }
  ]
}