{
  "nbformat": 4,
  "nbformat_minor": 0,
  "metadata": {
    "colab": {
      "provenance": [],
      "authorship_tag": "ABX9TyMfmHLGnOzgoWswBkGrsuag",
      "include_colab_link": true
    },
    "kernelspec": {
      "name": "python3",
      "display_name": "Python 3"
    },
    "language_info": {
      "name": "python"
    }
  },
  "cells": [
    {
      "cell_type": "markdown",
      "metadata": {
        "id": "view-in-github",
        "colab_type": "text"
      },
      "source": [
        "<a href=\"https://colab.research.google.com/github/ssook1222/1Day-1Algo/blob/master/ssook/25%EB%85%84/3%EC%9B%94/3%EC%9B%94%204%EC%A3%BC%EC%B0%A8/0331.ipynb\" target=\"_parent\"><img src=\"https://colab.research.google.com/assets/colab-badge.svg\" alt=\"Open In Colab\"/></a>"
      ]
    },
    {
      "cell_type": "markdown",
      "source": [
        "## BoJ"
      ],
      "metadata": {
        "id": "HJlddPsVM3Eu"
      }
    },
    {
      "cell_type": "markdown",
      "source": [
        "### 33178"
      ],
      "metadata": {
        "id": "X4dmn5IxM4Ya"
      }
    },
    {
      "cell_type": "code",
      "source": [
        "def free_courses(n):\n",
        "    discount_per_referral = 10  # 각 추천당 10% 할인\n",
        "    total_discount = n * discount_per_referral  # 전체 할인율\n",
        "    free_courses = total_discount // 100  # 100% 할인으로 몇 개의 코스를 무료로 수강할 수 있는지 계산\n",
        "    print(free_courses)\n",
        "\n",
        "# 입력 받기\n",
        "n = int(input())\n",
        "free_courses(n)"
      ],
      "metadata": {
        "id": "WgGxFwYCNtor"
      },
      "execution_count": null,
      "outputs": []
    },
    {
      "cell_type": "markdown",
      "source": [
        "## SSU_test"
      ],
      "metadata": {
        "id": "SFaFzj9NM5Ij"
      }
    },
    {
      "cell_type": "markdown",
      "source": [
        "### Password Distance"
      ],
      "metadata": {
        "id": "c4h3q5veM7Dw"
      }
    },
    {
      "cell_type": "code",
      "source": [
        "def password_distance(password):\n",
        "    total_distance = 0\n",
        "    for i in range(len(password) - 1):\n",
        "        total_distance += abs(ord(password[i]) - ord(password[i + 1]))\n",
        "    return total_distance\n",
        "\n",
        "# 입력 예제 3\n",
        "password = \"ILOVESCU\"\n",
        "print(password_distance(password))"
      ],
      "metadata": {
        "id": "yB5DawodM7yy"
      },
      "execution_count": null,
      "outputs": []
    }
  ]
}