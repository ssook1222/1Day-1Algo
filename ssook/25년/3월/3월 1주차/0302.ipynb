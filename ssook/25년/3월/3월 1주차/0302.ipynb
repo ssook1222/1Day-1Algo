{
  "nbformat": 4,
  "nbformat_minor": 0,
  "metadata": {
    "colab": {
      "provenance": [],
      "authorship_tag": "ABX9TyMRDpxmvktKXI1Eciz44d6k",
      "include_colab_link": true
    },
    "kernelspec": {
      "name": "python3",
      "display_name": "Python 3"
    },
    "language_info": {
      "name": "python"
    }
  },
  "cells": [
    {
      "cell_type": "markdown",
      "metadata": {
        "id": "view-in-github",
        "colab_type": "text"
      },
      "source": [
        "<a href=\"https://colab.research.google.com/github/ssook1222/1Day-1Algo/blob/master/ssook/25%EB%85%84/3%EC%9B%94/3%EC%9B%94%201%EC%A3%BC%EC%B0%A8/0302.ipynb\" target=\"_parent\"><img src=\"https://colab.research.google.com/assets/colab-badge.svg\" alt=\"Open In Colab\"/></a>"
      ]
    },
    {
      "cell_type": "markdown",
      "source": [
        "## BoJ"
      ],
      "metadata": {
        "id": "A18CTCedBFt2"
      }
    },
    {
      "cell_type": "markdown",
      "source": [
        "### 22352"
      ],
      "metadata": {
        "id": "g5DSMA2oBI7J"
      }
    },
    {
      "cell_type": "code",
      "execution_count": null,
      "metadata": {
        "id": "fEb3GV94AvZq"
      },
      "outputs": [],
      "source": [
        "from collections import deque\n",
        "\n",
        "n, m = map(int, input().split())\n",
        "before_shot = [list(map(int, input().split())) for _ in range(n)]\n",
        "after_shot = [list(map(int, input().split())) for _ in range(n)]\n",
        "visited = [[0] * m for _ in range(n)]\n",
        "dx = [-1, 1, 0, 0]\n",
        "dy = [0, 0, -1, 1]\n",
        "\n",
        "def verify(x, y, updated_value, original_value):\n",
        "    global change_count\n",
        "    queue = deque()\n",
        "    queue.append((x, y))\n",
        "    visited[x][y] = 1\n",
        "    if updated_value != original_value:\n",
        "        change_count += 1\n",
        "    while queue:\n",
        "        curr_x, curr_y = queue.popleft()\n",
        "        for k in range(4):\n",
        "            nx = curr_x + dx[k]\n",
        "            ny = curr_y + dy[k]\n",
        "            if 0 <= nx < n and 0 <= ny < m and before_shot[curr_x][curr_y] == before_shot[nx][ny]:\n",
        "                if after_shot[nx][ny] == updated_value and visited[nx][ny] == 0:\n",
        "                    visited[nx][ny] = 1\n",
        "                    queue.append((nx, ny))\n",
        "                if after_shot[curr_x][curr_y] != after_shot[nx][ny]:\n",
        "                    change_count += 100\n",
        "                    return\n",
        "\n",
        "change_count = 0\n",
        "stop_check = False\n",
        "for i in range(n):\n",
        "    for j in range(m):\n",
        "        if visited[i][j] == 0:\n",
        "            verify(i, j, after_shot[i][j], before_shot[i][j])\n",
        "        if change_count > 1:\n",
        "            stop_check = True\n",
        "            break\n",
        "    if stop_check:\n",
        "        break\n",
        "\n",
        "if change_count > 1:\n",
        "    print(\"NO\")\n",
        "else:\n",
        "    print(\"YES\")"
      ]
    },
    {
      "cell_type": "markdown",
      "source": [
        "## Programmers"
      ],
      "metadata": {
        "id": "I39zL-GdBJyv"
      }
    },
    {
      "cell_type": "markdown",
      "source": [
        "### 5명씩"
      ],
      "metadata": {
        "id": "PNeQy4qpBLKt"
      }
    },
    {
      "cell_type": "code",
      "source": [
        "def solution(names):\n",
        "    answer = []\n",
        "\n",
        "    for i in range(0,len(names),5):\n",
        "        answer.append(names[i])\n",
        "\n",
        "    return answer"
      ],
      "metadata": {
        "id": "IvgI_NFkBL-l"
      },
      "execution_count": null,
      "outputs": []
    }
  ]
}