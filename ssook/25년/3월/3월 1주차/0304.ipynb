{
  "nbformat": 4,
  "nbformat_minor": 0,
  "metadata": {
    "colab": {
      "provenance": [],
      "authorship_tag": "ABX9TyNe5bty8hpwI6GfWFyq42vL",
      "include_colab_link": true
    },
    "kernelspec": {
      "name": "python3",
      "display_name": "Python 3"
    },
    "language_info": {
      "name": "python"
    }
  },
  "cells": [
    {
      "cell_type": "markdown",
      "metadata": {
        "id": "view-in-github",
        "colab_type": "text"
      },
      "source": [
        "<a href=\"https://colab.research.google.com/github/ssook1222/1Day-1Algo/blob/master/ssook/25%EB%85%84/3%EC%9B%94/3%EC%9B%94%201%EC%A3%BC%EC%B0%A8/0304.ipynb\" target=\"_parent\"><img src=\"https://colab.research.google.com/assets/colab-badge.svg\" alt=\"Open In Colab\"/></a>"
      ]
    },
    {
      "cell_type": "markdown",
      "source": [
        "## BoJ"
      ],
      "metadata": {
        "id": "ns1MNiatwXrJ"
      }
    },
    {
      "cell_type": "markdown",
      "source": [
        "### 1124"
      ],
      "metadata": {
        "id": "VO4_LjW1wbBm"
      }
    },
    {
      "cell_type": "code",
      "source": [
        "input = __import__('sys').stdin.readline\n",
        "import math\n",
        "\n",
        "def find_prime_factors_count(n):\n",
        "    count = 0\n",
        "    for i in range(2, int(math.sqrt(n) + 1)):\n",
        "        while n % i == 0:\n",
        "            count += 1\n",
        "            n //= i\n",
        "    if n != 1:\n",
        "        count += 1\n",
        "    return count\n",
        "\n",
        "A, B = map(int, input().split())\n",
        "is_prime = [True for i in range(B + 1)]\n",
        "\n",
        "is_prime[1] = False\n",
        "for i in range(2, B + 1):\n",
        "    if not is_prime[i]:\n",
        "        continue\n",
        "\n",
        "    for j in range(i * i, B + 1, i):\n",
        "        is_prime[j] = False\n",
        "\n",
        "under_prime_count = 0\n",
        "for i in range(A, B + 1):\n",
        "    if is_prime[find_prime_factors_count(i)]:\n",
        "        under_prime_count += 1\n",
        "\n",
        "print(under_prime_count)"
      ],
      "metadata": {
        "id": "JYINDYPxwcZu"
      },
      "execution_count": null,
      "outputs": []
    },
    {
      "cell_type": "markdown",
      "source": [
        "## Programmers"
      ],
      "metadata": {
        "id": "qYtnTW2ywcsm"
      }
    },
    {
      "cell_type": "markdown",
      "source": [
        "### 할 일 목록"
      ],
      "metadata": {
        "id": "5rlOnZaXwfW7"
      }
    },
    {
      "cell_type": "code",
      "source": [
        "def solution(todo_list, finished):\n",
        "    answer = []\n",
        "\n",
        "    for i in range(len(finished)):\n",
        "        if finished[i] == False:\n",
        "            answer.append(todo_list[i])\n",
        "\n",
        "    return answer"
      ],
      "metadata": {
        "id": "Zn2Lkjdswf9f"
      },
      "execution_count": null,
      "outputs": []
    }
  ]
}