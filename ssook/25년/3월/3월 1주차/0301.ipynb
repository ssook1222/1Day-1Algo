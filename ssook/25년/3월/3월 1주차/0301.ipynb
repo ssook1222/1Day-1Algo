{
  "nbformat": 4,
  "nbformat_minor": 0,
  "metadata": {
    "colab": {
      "provenance": [],
      "authorship_tag": "ABX9TyMl5L+rCENEoRMKmTVXxDMC",
      "include_colab_link": true
    },
    "kernelspec": {
      "name": "python3",
      "display_name": "Python 3"
    },
    "language_info": {
      "name": "python"
    }
  },
  "cells": [
    {
      "cell_type": "markdown",
      "metadata": {
        "id": "view-in-github",
        "colab_type": "text"
      },
      "source": [
        "<a href=\"https://colab.research.google.com/github/ssook1222/1Day-1Algo/blob/master/ssook/25%EB%85%84/3%EC%9B%94/3%EC%9B%94%201%EC%A3%BC%EC%B0%A8/0301.ipynb\" target=\"_parent\"><img src=\"https://colab.research.google.com/assets/colab-badge.svg\" alt=\"Open In Colab\"/></a>"
      ]
    },
    {
      "cell_type": "markdown",
      "source": [
        "## BoJ"
      ],
      "metadata": {
        "id": "A18CTCedBFt2"
      }
    },
    {
      "cell_type": "markdown",
      "source": [
        "### 3019"
      ],
      "metadata": {
        "id": "g5DSMA2oBI7J"
      }
    },
    {
      "cell_type": "code",
      "execution_count": null,
      "metadata": {
        "id": "fEb3GV94AvZq"
      },
      "outputs": [],
      "source": [
        "c, t = map(int, input().split())\n",
        "\n",
        "heights = list(map(int, input().split()))\n",
        "\n",
        "ways = 0\n",
        "\n",
        "if t == 1:\n",
        "    ways += c\n",
        "    for i in range(3, c):\n",
        "        if heights[i - 3] == heights[i - 2] and heights[i - 3] == heights[i - 1] and heights[i - 3] == heights[i]:\n",
        "            ways += 1\n",
        "\n",
        "elif t == 2:\n",
        "    for i in range(1, c):\n",
        "        if heights[i - 1] == heights[i]:\n",
        "            ways += 1\n",
        "\n",
        "elif t == 3:\n",
        "    for i in range(2, c):\n",
        "        if heights[i - 2] == heights[i - 1] and heights[i - 1] == heights[i] - 1:\n",
        "            ways += 1\n",
        "        if heights[i - 1] - 1 == heights[i]:\n",
        "            ways += 1\n",
        "    if heights[0] - 1 == heights[1]:\n",
        "        ways += 1\n",
        "\n",
        "elif t == 4:\n",
        "    for i in range(2, c):\n",
        "        if heights[i - 2] - 1 == heights[i - 1] and heights[i - 1] == heights[i]:\n",
        "            ways += 1\n",
        "        if heights[i - 1] == heights[i] - 1:\n",
        "            ways += 1\n",
        "    if heights[0] == heights[1] - 1:\n",
        "        ways += 1\n",
        "\n",
        "elif t == 5:\n",
        "    for i in range(2, c):\n",
        "        if heights[i - 2] == heights[i - 1] and heights[i - 2] == heights[i]:\n",
        "            ways += 1\n",
        "        if heights[i - 2] - 1 == heights[i - 1]:\n",
        "            ways += 1\n",
        "        if heights[i - 1] == heights[i] - 1:\n",
        "            ways += 1\n",
        "        if heights[i - 2] - 1 == heights[i - 1] and heights[i - 1] == heights[i] - 1:\n",
        "            ways += 1\n",
        "\n",
        "elif t == 6:\n",
        "    for i in range(1, c):\n",
        "        if heights[i - 1] == heights[i]:\n",
        "            ways += 1\n",
        "        if i >= 2 and heights[i - 2] == heights[i - 1] and heights[i - 2] == heights[i]:\n",
        "            ways += 1\n",
        "        if i >= 2 and heights[i - 2] == heights[i - 1] - 1 and heights[i - 1] == heights[i]:\n",
        "            ways += 1\n",
        "        if heights[i - 1] - 2 == heights[i]:\n",
        "            ways += 1\n",
        "\n",
        "elif t == 7:\n",
        "    for i in range(1, c):\n",
        "        if heights[i - 1] == heights[i]:\n",
        "            ways += 1\n",
        "        if i >= 2 and heights[i - 2] == heights[i - 1] and heights[i - 2] == heights[i]:\n",
        "            ways += 1\n",
        "        if i >= 2 and heights[i - 2] == heights[i - 1] and heights[i - 1] - 1 == heights[i]:\n",
        "            ways += 1\n",
        "        if heights[i - 1] == heights[i] - 2:\n",
        "            ways += 1\n",
        "\n",
        "print(ways)"
      ]
    },
    {
      "cell_type": "markdown",
      "source": [
        "## Programmers"
      ],
      "metadata": {
        "id": "I39zL-GdBJyv"
      }
    },
    {
      "cell_type": "markdown",
      "source": [
        "### 수열과 구간 쿼리2"
      ],
      "metadata": {
        "id": "PNeQy4qpBLKt"
      }
    },
    {
      "cell_type": "code",
      "source": [
        "def solution(arr, queries):\n",
        "    answer = []\n",
        "    for query in queries:\n",
        "        s, e, k = query\n",
        "        temp = []\n",
        "        for i in range(s, e+1):\n",
        "            if arr[i] > k:\n",
        "                temp.append(arr[i])\n",
        "        if len(temp) == 0:\n",
        "            answer.append(-1)\n",
        "        else:\n",
        "            answer.append(min(temp))\n",
        "    return answer"
      ],
      "metadata": {
        "id": "IvgI_NFkBL-l"
      },
      "execution_count": null,
      "outputs": []
    }
  ]
}