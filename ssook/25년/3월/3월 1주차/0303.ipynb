{
  "nbformat": 4,
  "nbformat_minor": 0,
  "metadata": {
    "colab": {
      "provenance": [],
      "authorship_tag": "ABX9TyNOSbiexZCOPaeu+p1j+igD",
      "include_colab_link": true
    },
    "kernelspec": {
      "name": "python3",
      "display_name": "Python 3"
    },
    "language_info": {
      "name": "python"
    }
  },
  "cells": [
    {
      "cell_type": "markdown",
      "metadata": {
        "id": "view-in-github",
        "colab_type": "text"
      },
      "source": [
        "<a href=\"https://colab.research.google.com/github/ssook1222/1Day-1Algo/blob/master/ssook/25%EB%85%84/3%EC%9B%94/3%EC%9B%94%201%EC%A3%BC%EC%B0%A8/0303.ipynb\" target=\"_parent\"><img src=\"https://colab.research.google.com/assets/colab-badge.svg\" alt=\"Open In Colab\"/></a>"
      ]
    },
    {
      "cell_type": "markdown",
      "source": [
        "## BoJ"
      ],
      "metadata": {
        "id": "ns1MNiatwXrJ"
      }
    },
    {
      "cell_type": "markdown",
      "source": [
        "### 1105"
      ],
      "metadata": {
        "id": "VO4_LjW1wbBm"
      }
    },
    {
      "cell_type": "code",
      "source": [
        "import sys\n",
        "input = sys.stdin.readline\n",
        "\n",
        "left, right = input().split()\n",
        "left_len, right_len = len(left), len(right)\n",
        "cnt = 0\n",
        "\n",
        "if left_len != right_len:\n",
        "    print(cnt)\n",
        "else:\n",
        "    for i in range(left_len):\n",
        "        if left[i] != right[i]:\n",
        "            break\n",
        "        else:\n",
        "            if left[i] == '8':\n",
        "                cnt += 1\n",
        "    print(cnt)"
      ],
      "metadata": {
        "id": "JYINDYPxwcZu"
      },
      "execution_count": null,
      "outputs": []
    },
    {
      "cell_type": "markdown",
      "source": [
        "## Programmers"
      ],
      "metadata": {
        "id": "qYtnTW2ywcsm"
      }
    },
    {
      "cell_type": "markdown",
      "source": [
        "### my_string"
      ],
      "metadata": {
        "id": "5rlOnZaXwfW7"
      }
    },
    {
      "cell_type": "code",
      "source": [
        "def solution(rny_string):\n",
        "    answer = ''\n",
        "\n",
        "    answer = rny_string.replace('m', 'rn')\n",
        "\n",
        "    return answer"
      ],
      "metadata": {
        "id": "Zn2Lkjdswf9f"
      },
      "execution_count": null,
      "outputs": []
    }
  ]
}