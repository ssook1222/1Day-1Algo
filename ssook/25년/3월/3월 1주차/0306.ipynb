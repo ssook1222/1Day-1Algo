{
  "nbformat": 4,
  "nbformat_minor": 0,
  "metadata": {
    "colab": {
      "provenance": [],
      "authorship_tag": "ABX9TyPPG12+8qW4y29dTH8yCcT2",
      "include_colab_link": true
    },
    "kernelspec": {
      "name": "python3",
      "display_name": "Python 3"
    },
    "language_info": {
      "name": "python"
    }
  },
  "cells": [
    {
      "cell_type": "markdown",
      "metadata": {
        "id": "view-in-github",
        "colab_type": "text"
      },
      "source": [
        "<a href=\"https://colab.research.google.com/github/ssook1222/1Day-1Algo/blob/master/ssook/25%EB%85%84/3%EC%9B%94/3%EC%9B%94%201%EC%A3%BC%EC%B0%A8/0306.ipynb\" target=\"_parent\"><img src=\"https://colab.research.google.com/assets/colab-badge.svg\" alt=\"Open In Colab\"/></a>"
      ]
    },
    {
      "cell_type": "markdown",
      "source": [
        "## BoJ"
      ],
      "metadata": {
        "id": "ns1MNiatwXrJ"
      }
    },
    {
      "cell_type": "markdown",
      "source": [
        "### 1195"
      ],
      "metadata": {
        "id": "VO4_LjW1wbBm"
      }
    },
    {
      "cell_type": "code",
      "source": [
        "import sys\n",
        "\n",
        "input = sys.stdin.readline\n",
        "\n",
        "gear_part1 = input().strip()\n",
        "gear_part2 = input().strip()\n",
        "\n",
        "if len(gear_part1) > len(gear_part2):\n",
        "    gear_part1, gear_part2 = gear_part2, gear_part1\n",
        "\n",
        "interlock_count = 0\n",
        "for k in range(len(gear_part1)):\n",
        "    for i in range(k + 1):\n",
        "        if gear_part1[-k + i - 1] == '2' and gear_part2[i] == '2':\n",
        "            break\n",
        "    else:\n",
        "        interlock_count = max(interlock_count, k + 1)\n",
        "\n",
        "    for i in range(k + 1):\n",
        "        if gear_part1[i] == '2' and gear_part2[-k + i - 1] == '2':\n",
        "            break\n",
        "    else:\n",
        "        interlock_count = max(interlock_count, k + 1)\n",
        "\n",
        "for k in range(len(gear_part2) - len(gear_part1) + 1):\n",
        "    for i in range(len(gear_part1)):\n",
        "        if gear_part1[i] == '2' and gear_part2[i + k] == '2':\n",
        "            break\n",
        "    else:\n",
        "        interlock_count = max(interlock_count, len(gear_part1))\n",
        "        break\n",
        "\n",
        "print(len(gear_part1) + len(gear_part2) - interlock_count)"
      ],
      "metadata": {
        "id": "JYINDYPxwcZu"
      },
      "execution_count": null,
      "outputs": []
    },
    {
      "cell_type": "markdown",
      "source": [
        "## Programmers"
      ],
      "metadata": {
        "id": "qYtnTW2ywcsm"
      }
    },
    {
      "cell_type": "markdown",
      "source": [
        "### 조건에 맞게 수열 변환하기1"
      ],
      "metadata": {
        "id": "5rlOnZaXwfW7"
      }
    },
    {
      "cell_type": "code",
      "source": [
        "def solution(arr):\n",
        "    answer = []\n",
        "\n",
        "    for i in arr:\n",
        "        if i%2 == 0 and i>=50:\n",
        "            answer.append(int(i/2))\n",
        "        elif i%2!= 0 and i<50:\n",
        "            answer.append(i*2)\n",
        "        else:\n",
        "            answer.append(i)\n",
        "\n",
        "\n",
        "    return answer"
      ],
      "metadata": {
        "id": "Zn2Lkjdswf9f"
      },
      "execution_count": null,
      "outputs": []
    }
  ]
}