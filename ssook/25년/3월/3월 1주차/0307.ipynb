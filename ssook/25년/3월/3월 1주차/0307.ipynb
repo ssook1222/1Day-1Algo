{
  "nbformat": 4,
  "nbformat_minor": 0,
  "metadata": {
    "colab": {
      "provenance": [],
      "authorship_tag": "ABX9TyMs8VuwZX+dH42JB6MuJaKe",
      "include_colab_link": true
    },
    "kernelspec": {
      "name": "python3",
      "display_name": "Python 3"
    },
    "language_info": {
      "name": "python"
    }
  },
  "cells": [
    {
      "cell_type": "markdown",
      "metadata": {
        "id": "view-in-github",
        "colab_type": "text"
      },
      "source": [
        "<a href=\"https://colab.research.google.com/github/ssook1222/1Day-1Algo/blob/master/ssook/25%EB%85%84/3%EC%9B%94/3%EC%9B%94%201%EC%A3%BC%EC%B0%A8/0307.ipynb\" target=\"_parent\"><img src=\"https://colab.research.google.com/assets/colab-badge.svg\" alt=\"Open In Colab\"/></a>"
      ]
    },
    {
      "cell_type": "markdown",
      "source": [
        "## BoJ"
      ],
      "metadata": {
        "id": "ns1MNiatwXrJ"
      }
    },
    {
      "cell_type": "markdown",
      "source": [
        "### 1183"
      ],
      "metadata": {
        "id": "VO4_LjW1wbBm"
      }
    },
    {
      "cell_type": "code",
      "source": [
        "import sys\n",
        "\n",
        "input = sys.stdin.readline\n",
        "\n",
        "n = int(input())\n",
        "appointment_times = list()\n",
        "for _ in range(n):\n",
        "    a, b = map(int, input().split())\n",
        "    appointment_times.append(b - a)\n",
        "\n",
        "appointment_times = sorted(appointment_times)\n",
        "\n",
        "wait_time_sum_min_t = 0\n",
        "if len(appointment_times) % 2 == 0:\n",
        "    start = len(appointment_times) // 2 - 1\n",
        "    wait_time_sum_min_t = appointment_times[start + 1] - appointment_times[start] + 1\n",
        "else:\n",
        "    wait_time_sum_min_t = 1\n",
        "\n",
        "print(wait_time_sum_min_t)\n"
      ],
      "metadata": {
        "id": "JYINDYPxwcZu"
      },
      "execution_count": null,
      "outputs": []
    },
    {
      "cell_type": "markdown",
      "source": [
        "## Programmers"
      ],
      "metadata": {
        "id": "qYtnTW2ywcsm"
      }
    },
    {
      "cell_type": "markdown",
      "source": [
        "### n번재 원소부터"
      ],
      "metadata": {
        "id": "5rlOnZaXwfW7"
      }
    },
    {
      "cell_type": "code",
      "source": [
        "def solution(num_list, n):\n",
        "    answer = num_list[n-1:]\n",
        "    return answer"
      ],
      "metadata": {
        "id": "Zn2Lkjdswf9f"
      },
      "execution_count": null,
      "outputs": []
    }
  ]
}