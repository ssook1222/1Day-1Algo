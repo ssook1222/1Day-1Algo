{
  "nbformat": 4,
  "nbformat_minor": 0,
  "metadata": {
    "colab": {
      "provenance": [],
      "authorship_tag": "ABX9TyMGNAkKjuos4OQFiLCOv7aK",
      "include_colab_link": true
    },
    "kernelspec": {
      "name": "python3",
      "display_name": "Python 3"
    },
    "language_info": {
      "name": "python"
    }
  },
  "cells": [
    {
      "cell_type": "markdown",
      "metadata": {
        "id": "view-in-github",
        "colab_type": "text"
      },
      "source": [
        "<a href=\"https://colab.research.google.com/github/ssook1222/1Day-1Algo/blob/master/ssook/25%EB%85%84/3%EC%9B%94/3%EC%9B%94%202%EC%A3%BC%EC%B0%A8/0312.ipynb\" target=\"_parent\"><img src=\"https://colab.research.google.com/assets/colab-badge.svg\" alt=\"Open In Colab\"/></a>"
      ]
    },
    {
      "cell_type": "markdown",
      "source": [
        "## BoJ"
      ],
      "metadata": {
        "id": "kWbyXknKvQtc"
      }
    },
    {
      "cell_type": "markdown",
      "source": [
        "### 20365"
      ],
      "metadata": {
        "id": "daIa5-_nvR0T"
      }
    },
    {
      "cell_type": "code",
      "execution_count": null,
      "metadata": {
        "id": "AcxqKE-FvOPU"
      },
      "outputs": [],
      "source": [
        "\n",
        "import sys\n",
        "input = sys.stdin.readline\n",
        "\n",
        "problem_count = int(input())\n",
        "color_sequence = input().strip()\n",
        "\n",
        "color_groups = {'B':0, 'R':0}\n",
        "current_color = color_sequence[0]\n",
        "color_groups[current_color] += 1\n",
        "\n",
        "for color in color_sequence[1:]:\n",
        "    if color != current_color:\n",
        "        current_color = color\n",
        "        color_groups[current_color] += 1\n",
        "\n",
        "min_operations = min(color_groups['B'], color_groups['R']) + 1\n",
        "\n",
        "print(min_operations)\n"
      ]
    },
    {
      "cell_type": "markdown",
      "source": [
        "## Programmers"
      ],
      "metadata": {
        "id": "FFV8AdxLvSae"
      }
    },
    {
      "cell_type": "markdown",
      "source": [
        "### OX 퀴즈"
      ],
      "metadata": {
        "id": "gmtcggd6vUdI"
      }
    },
    {
      "cell_type": "code",
      "source": [
        "def solution(quiz):\n",
        "    answer = []\n",
        "\n",
        "    for i in quiz :\n",
        "        if eval(i.split(\"=\")[0]) == eval(i.split(\"=\")[1]):\n",
        "            answer.append(\"O\")\n",
        "        else:\n",
        "            answer.append(\"X\")\n",
        "\n",
        "    return answer"
      ],
      "metadata": {
        "id": "vNtpxtNVvVB9"
      },
      "execution_count": null,
      "outputs": []
    }
  ]
}