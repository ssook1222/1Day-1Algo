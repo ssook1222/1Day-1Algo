{
  "nbformat": 4,
  "nbformat_minor": 0,
  "metadata": {
    "colab": {
      "provenance": [],
      "authorship_tag": "ABX9TyOR2fSKHesPbd2g5N5uIF5F",
      "include_colab_link": true
    },
    "kernelspec": {
      "name": "python3",
      "display_name": "Python 3"
    },
    "language_info": {
      "name": "python"
    }
  },
  "cells": [
    {
      "cell_type": "markdown",
      "metadata": {
        "id": "view-in-github",
        "colab_type": "text"
      },
      "source": [
        "<a href=\"https://colab.research.google.com/github/ssook1222/1Day-1Algo/blob/master/ssook/25%EB%85%84/3%EC%9B%94/3%EC%9B%94%202%EC%A3%BC%EC%B0%A8/0311.ipynb\" target=\"_parent\"><img src=\"https://colab.research.google.com/assets/colab-badge.svg\" alt=\"Open In Colab\"/></a>"
      ]
    },
    {
      "cell_type": "markdown",
      "source": [
        "## BoJ"
      ],
      "metadata": {
        "id": "kWbyXknKvQtc"
      }
    },
    {
      "cell_type": "markdown",
      "source": [
        "### 16967"
      ],
      "metadata": {
        "id": "daIa5-_nvR0T"
      }
    },
    {
      "cell_type": "code",
      "execution_count": null,
      "metadata": {
        "id": "AcxqKE-FvOPU"
      },
      "outputs": [],
      "source": [
        "import sys\n",
        "height, width, shift_down, shift_right = map(int, sys.stdin.readline().strip().split())\n",
        "array_B = [list(map(int, sys.stdin.readline().strip().split())) for _ in range(height+shift_down)]\n",
        "for i in range(shift_down,height):\n",
        "    for j in range(shift_right,width):\n",
        "        array_B[i][j] = array_B[i][j] - array_B[i-shift_down][j-shift_right]\n",
        "for result in array_B[:height] :\n",
        "    print(*result[:width])"
      ]
    },
    {
      "cell_type": "markdown",
      "source": [
        "## Programmers"
      ],
      "metadata": {
        "id": "FFV8AdxLvSae"
      }
    },
    {
      "cell_type": "markdown",
      "source": [
        "### 제곱수 판별하기"
      ],
      "metadata": {
        "id": "gmtcggd6vUdI"
      }
    },
    {
      "cell_type": "code",
      "source": [
        "import math\n",
        "def solution(n):\n",
        "    if (math.sqrt(n)) % 1 == 0:\n",
        "        return 1\n",
        "    return 2"
      ],
      "metadata": {
        "id": "vNtpxtNVvVB9"
      },
      "execution_count": null,
      "outputs": []
    }
  ]
}