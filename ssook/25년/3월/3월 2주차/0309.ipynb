{
  "nbformat": 4,
  "nbformat_minor": 0,
  "metadata": {
    "colab": {
      "provenance": [],
      "authorship_tag": "ABX9TyPYgubqdhnpgX9gprRG3yX6",
      "include_colab_link": true
    },
    "kernelspec": {
      "name": "python3",
      "display_name": "Python 3"
    },
    "language_info": {
      "name": "python"
    }
  },
  "cells": [
    {
      "cell_type": "markdown",
      "metadata": {
        "id": "view-in-github",
        "colab_type": "text"
      },
      "source": [
        "<a href=\"https://colab.research.google.com/github/ssook1222/1Day-1Algo/blob/master/ssook/25%EB%85%84/3%EC%9B%94/3%EC%9B%94%202%EC%A3%BC%EC%B0%A8/0309.ipynb\" target=\"_parent\"><img src=\"https://colab.research.google.com/assets/colab-badge.svg\" alt=\"Open In Colab\"/></a>"
      ]
    },
    {
      "cell_type": "markdown",
      "source": [
        "## BoJ"
      ],
      "metadata": {
        "id": "ns1MNiatwXrJ"
      }
    },
    {
      "cell_type": "markdown",
      "source": [
        "### 1406"
      ],
      "metadata": {
        "id": "VO4_LjW1wbBm"
      }
    },
    {
      "cell_type": "code",
      "source": [
        "import sys\n",
        "\n",
        "# 초기 입력된 문자열을 리스트로 받음\n",
        "text = list(sys.stdin.readline().rstrip())\n",
        "cursor_stack = []\n",
        "\n",
        "# 명령어 처리\n",
        "for _ in range(int(sys.stdin.readline())):\n",
        "    command = list(sys.stdin.readline().split())\n",
        "\n",
        "    if command[0] == 'L':  # 커서를 왼쪽으로 한 칸 옮김\n",
        "        if text:\n",
        "            cursor_stack.append(text.pop())\n",
        "\n",
        "    elif command[0] == 'D':  # 커서를 오른쪽으로 한 칸 옮김\n",
        "        if cursor_stack:\n",
        "            text.append(cursor_stack.pop())\n",
        "\n",
        "    elif command[0] == 'B':  # 커서 왼쪽에 있는 문자를 삭제\n",
        "        if text:\n",
        "            text.pop()\n",
        "\n",
        "    else:  # 문자를 커서 왼쪽에 추가\n",
        "        text.append(command[1])\n",
        "\n",
        "# 최종 문자열 출력 (stack에 남아있는 문자를 뒤집어서 더함)\n",
        "text.extend(reversed(cursor_stack))\n",
        "print(''.join(text))\n"
      ],
      "metadata": {
        "id": "JYINDYPxwcZu"
      },
      "execution_count": null,
      "outputs": []
    },
    {
      "cell_type": "markdown",
      "source": [
        "## Programmers"
      ],
      "metadata": {
        "id": "qYtnTW2ywcsm"
      }
    },
    {
      "cell_type": "markdown",
      "source": [
        "### flag에 따라 다른 값 반환하기"
      ],
      "metadata": {
        "id": "5rlOnZaXwfW7"
      }
    },
    {
      "cell_type": "code",
      "source": [
        "def solution(a, b, flag):\n",
        "    answer = 0\n",
        "\n",
        "    if flag == True:\n",
        "        answer = a+b\n",
        "    else:\n",
        "        answer = a-b\n",
        "\n",
        "    return answer"
      ],
      "metadata": {
        "id": "Zn2Lkjdswf9f"
      },
      "execution_count": null,
      "outputs": []
    }
  ]
}