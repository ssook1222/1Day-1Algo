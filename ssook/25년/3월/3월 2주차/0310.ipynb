{
  "nbformat": 4,
  "nbformat_minor": 0,
  "metadata": {
    "colab": {
      "provenance": [],
      "authorship_tag": "ABX9TyMNJ7h/JyD3SatRxTNk9erd",
      "include_colab_link": true
    },
    "kernelspec": {
      "name": "python3",
      "display_name": "Python 3"
    },
    "language_info": {
      "name": "python"
    }
  },
  "cells": [
    {
      "cell_type": "markdown",
      "metadata": {
        "id": "view-in-github",
        "colab_type": "text"
      },
      "source": [
        "<a href=\"https://colab.research.google.com/github/ssook1222/1Day-1Algo/blob/master/ssook/25%EB%85%84/3%EC%9B%94/3%EC%9B%94%202%EC%A3%BC%EC%B0%A8/0310.ipynb\" target=\"_parent\"><img src=\"https://colab.research.google.com/assets/colab-badge.svg\" alt=\"Open In Colab\"/></a>"
      ]
    },
    {
      "cell_type": "markdown",
      "source": [
        "## BoJ"
      ],
      "metadata": {
        "id": "kWbyXknKvQtc"
      }
    },
    {
      "cell_type": "markdown",
      "source": [
        "### 20300"
      ],
      "metadata": {
        "id": "daIa5-_nvR0T"
      }
    },
    {
      "cell_type": "code",
      "execution_count": null,
      "metadata": {
        "id": "AcxqKE-FvOPU"
      },
      "outputs": [],
      "source": [
        "from collections import deque\n",
        "\n",
        "# 운동기구의 개수 입력\n",
        "equipment_count = int(input())\n",
        "# 각 운동기구의 근손실 정도 입력\n",
        "muscle_loss = list(map(int, input().split()))\n",
        "muscle_loss.sort()\n",
        "muscle_loss = deque(muscle_loss)\n",
        "\n",
        "max_loss = 0\n",
        "# 운동기구가 홀수 개면 하나는 따로 사용\n",
        "if len(muscle_loss) % 2 != 0:\n",
        "    max_loss = muscle_loss.pop()\n",
        "\n",
        "# 남은 운동기구들을 둘씩 짝지어 최대 근손실 계산\n",
        "while len(muscle_loss) > 0:\n",
        "    loss = muscle_loss.popleft() + muscle_loss.pop()\n",
        "    if loss > max_loss:\n",
        "        max_loss = loss\n",
        "\n",
        "print(max_loss)"
      ]
    },
    {
      "cell_type": "markdown",
      "source": [
        "## Programmers"
      ],
      "metadata": {
        "id": "FFV8AdxLvSae"
      }
    },
    {
      "cell_type": "markdown",
      "source": [
        "### 연속된 수의 합"
      ],
      "metadata": {
        "id": "gmtcggd6vUdI"
      }
    },
    {
      "cell_type": "code",
      "source": [
        "def solution(num, total):\n",
        "    start_num = total // num - (num - 1) // 2\n",
        "    return list(range(start_num, start_num + num))\n"
      ],
      "metadata": {
        "id": "vNtpxtNVvVB9"
      },
      "execution_count": null,
      "outputs": []
    }
  ]
}