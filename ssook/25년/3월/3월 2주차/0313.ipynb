{
  "nbformat": 4,
  "nbformat_minor": 0,
  "metadata": {
    "colab": {
      "provenance": [],
      "authorship_tag": "ABX9TyM9dc/BSicbAeZvioChLUDE",
      "include_colab_link": true
    },
    "kernelspec": {
      "name": "python3",
      "display_name": "Python 3"
    },
    "language_info": {
      "name": "python"
    }
  },
  "cells": [
    {
      "cell_type": "markdown",
      "metadata": {
        "id": "view-in-github",
        "colab_type": "text"
      },
      "source": [
        "<a href=\"https://colab.research.google.com/github/ssook1222/1Day-1Algo/blob/master/ssook/25%EB%85%84/3%EC%9B%94/3%EC%9B%94%202%EC%A3%BC%EC%B0%A8/0313.ipynb\" target=\"_parent\"><img src=\"https://colab.research.google.com/assets/colab-badge.svg\" alt=\"Open In Colab\"/></a>"
      ]
    },
    {
      "cell_type": "markdown",
      "source": [
        "## BoJ"
      ],
      "metadata": {
        "id": "kWbyXknKvQtc"
      }
    },
    {
      "cell_type": "markdown",
      "source": [
        "### 1790"
      ],
      "metadata": {
        "id": "daIa5-_nvR0T"
      }
    },
    {
      "cell_type": "code",
      "execution_count": null,
      "metadata": {
        "id": "AcxqKE-FvOPU"
      },
      "outputs": [],
      "source": [
        "N, K = map(int, input().split())\n",
        "result = 0\n",
        "current_digit = 1\n",
        "digit_count = 9\n",
        "\n",
        "while K > current_digit * digit_count:\n",
        "    K = K - (current_digit * digit_count)\n",
        "    result = result + digit_count\n",
        "    current_digit += 1\n",
        "    digit_count = digit_count * 10\n",
        "\n",
        "result = (result + 1) + (K - 1) // current_digit\n",
        "\n",
        "if result > N:\n",
        "    print(-1)\n",
        "else:\n",
        "    print(str(result)[(K - 1) % current_digit])"
      ]
    },
    {
      "cell_type": "markdown",
      "source": [
        "## Programmers"
      ],
      "metadata": {
        "id": "FFV8AdxLvSae"
      }
    },
    {
      "cell_type": "markdown",
      "source": [
        "### 7의 개수"
      ],
      "metadata": {
        "id": "gmtcggd6vUdI"
      }
    },
    {
      "cell_type": "code",
      "source": [
        "def solution(array):\n",
        "    answer = 0\n",
        "    for i in array:\n",
        "        answer += str(i).count('7')\n",
        "    return answer"
      ],
      "metadata": {
        "id": "vNtpxtNVvVB9"
      },
      "execution_count": null,
      "outputs": []
    }
  ]
}