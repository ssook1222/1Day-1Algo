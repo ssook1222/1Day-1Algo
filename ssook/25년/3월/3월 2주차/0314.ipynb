{
  "nbformat": 4,
  "nbformat_minor": 0,
  "metadata": {
    "colab": {
      "provenance": [],
      "authorship_tag": "ABX9TyOX4vLFAPY2y9q09PojizsT",
      "include_colab_link": true
    },
    "kernelspec": {
      "name": "python3",
      "display_name": "Python 3"
    },
    "language_info": {
      "name": "python"
    }
  },
  "cells": [
    {
      "cell_type": "markdown",
      "metadata": {
        "id": "view-in-github",
        "colab_type": "text"
      },
      "source": [
        "<a href=\"https://colab.research.google.com/github/ssook1222/1Day-1Algo/blob/master/ssook/25%EB%85%84/3%EC%9B%94/3%EC%9B%94%202%EC%A3%BC%EC%B0%A8/0314.ipynb\" target=\"_parent\"><img src=\"https://colab.research.google.com/assets/colab-badge.svg\" alt=\"Open In Colab\"/></a>"
      ]
    },
    {
      "cell_type": "markdown",
      "source": [
        "## BoJ"
      ],
      "metadata": {
        "id": "kWbyXknKvQtc"
      }
    },
    {
      "cell_type": "markdown",
      "source": [
        "### 2666"
      ],
      "metadata": {
        "id": "daIa5-_nvR0T"
      }
    },
    {
      "cell_type": "code",
      "execution_count": null,
      "metadata": {
        "id": "AcxqKE-FvOPU"
      },
      "outputs": [],
      "source": [
        "import sys\n",
        "input = sys.stdin.readline\n",
        "\n",
        "num_closets = int(input())  # 벽장의 개수\n",
        "door1, door2 = map(int, input().split())  # 초기 열려 있는 두 벽장의 위치\n",
        "num_requests = int(input())  # 사용할 벽장의 순서 개수\n",
        "request_sequence = [int(input()) for _ in range(num_requests)]  # 사용할 벽장의 순서\n",
        "dp_cache = [[[-1] * (num_closets + 1) for _ in range(num_closets + 1)] for _ in range(num_requests)]\n",
        "\n",
        "def minimize_moves(idx, door1, door2):\n",
        "    if idx == num_requests:  # 모든 요청을 처리한 경우\n",
        "        return 0\n",
        "\n",
        "    if dp_cache[idx][door1][door2] != -1:\n",
        "        return dp_cache[idx][door1][door2]\n",
        "\n",
        "    move_door1 = minimize_moves(idx + 1, request_sequence[idx], door2) + abs(request_sequence[idx] - door1)\n",
        "    move_door2 = minimize_moves(idx + 1, door1, request_sequence[idx]) + abs(request_sequence[idx] - door2)\n",
        "\n",
        "    dp_cache[idx][door1][door2] = min(move_door1, move_door2)\n",
        "    return dp_cache[idx][door1][door2]\n",
        "\n",
        "def solution():\n",
        "    print(minimize_moves(0, door1, door2))\n",
        "\n",
        "solution()"
      ]
    },
    {
      "cell_type": "markdown",
      "source": [
        "## Programmers"
      ],
      "metadata": {
        "id": "FFV8AdxLvSae"
      }
    },
    {
      "cell_type": "markdown",
      "source": [
        "### 문자열 정렬하기"
      ],
      "metadata": {
        "id": "gmtcggd6vUdI"
      }
    },
    {
      "cell_type": "code",
      "source": [
        "def solution(my_string):\n",
        "    return ''.join(sorted(list(my_string.lower())))"
      ],
      "metadata": {
        "id": "vNtpxtNVvVB9"
      },
      "execution_count": null,
      "outputs": []
    }
  ]
}