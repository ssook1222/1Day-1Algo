{
  "nbformat": 4,
  "nbformat_minor": 0,
  "metadata": {
    "colab": {
      "provenance": [],
      "authorship_tag": "ABX9TyN7KhTb2LrPrl1LZV9/2Gd0",
      "include_colab_link": true
    },
    "kernelspec": {
      "name": "python3",
      "display_name": "Python 3"
    },
    "language_info": {
      "name": "python"
    }
  },
  "cells": [
    {
      "cell_type": "markdown",
      "metadata": {
        "id": "view-in-github",
        "colab_type": "text"
      },
      "source": [
        "<a href=\"https://colab.research.google.com/github/ssook1222/1Day-1Algo/blob/master/ssook/25%EB%85%84/3%EC%9B%94/3%EC%9B%94%202%EC%A3%BC%EC%B0%A8/0308.ipynb\" target=\"_parent\"><img src=\"https://colab.research.google.com/assets/colab-badge.svg\" alt=\"Open In Colab\"/></a>"
      ]
    },
    {
      "cell_type": "markdown",
      "source": [
        "## BoJ"
      ],
      "metadata": {
        "id": "ns1MNiatwXrJ"
      }
    },
    {
      "cell_type": "markdown",
      "source": [
        "### 1326"
      ],
      "metadata": {
        "id": "VO4_LjW1wbBm"
      }
    },
    {
      "cell_type": "code",
      "source": [
        "from collections import deque\n",
        "\n",
        "def bfs(start, end, stones, N):\n",
        "    q = deque()\n",
        "    q.append(start - 1)\n",
        "    check = [-1] * N\n",
        "    check[start - 1] = 0\n",
        "    while q:\n",
        "        current = q.popleft()\n",
        "        for next_stone in range(current, N, stones[current]):\n",
        "            if check[next_stone] == -1:\n",
        "                q.append(next_stone)\n",
        "                check[next_stone] = check[current] + 1\n",
        "                if next_stone == end - 1:\n",
        "                    return check[next_stone]\n",
        "        for next_stone in range(current, -1, -stones[current]):\n",
        "            if check[next_stone] == -1:\n",
        "                q.append(next_stone)\n",
        "                check[next_stone] = check[current] + 1\n",
        "                if next_stone == end - 1:\n",
        "                    return check[next_stone]\n",
        "    return -1\n",
        "\n",
        "N = int(input())\n",
        "stones = list(map(int, input().split()))\n",
        "start, end = map(int, input().split())\n",
        "print(bfs(start, end, stones, N))\n"
      ],
      "metadata": {
        "id": "JYINDYPxwcZu"
      },
      "execution_count": null,
      "outputs": []
    },
    {
      "cell_type": "markdown",
      "source": [
        "## Programmers"
      ],
      "metadata": {
        "id": "qYtnTW2ywcsm"
      }
    },
    {
      "cell_type": "markdown",
      "source": [
        "### 첫 번째로 나오는 음수"
      ],
      "metadata": {
        "id": "5rlOnZaXwfW7"
      }
    },
    {
      "cell_type": "code",
      "source": [
        "def solution(num_list):\n",
        "    answer = 0\n",
        "    check = False\n",
        "\n",
        "    for i in range(len(num_list)):\n",
        "        if num_list[i] < 0:\n",
        "            check = True\n",
        "            answer = i\n",
        "            break\n",
        "\n",
        "    if check == False:\n",
        "        answer = -1\n",
        "\n",
        "    return answer"
      ],
      "metadata": {
        "id": "Zn2Lkjdswf9f"
      },
      "execution_count": null,
      "outputs": []
    }
  ]
}