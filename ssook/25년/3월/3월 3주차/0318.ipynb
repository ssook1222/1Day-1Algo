{
  "nbformat": 4,
  "nbformat_minor": 0,
  "metadata": {
    "colab": {
      "provenance": [],
      "authorship_tag": "ABX9TyOvBiBPz9qwCqi5K31ZX2Mk",
      "include_colab_link": true
    },
    "kernelspec": {
      "name": "python3",
      "display_name": "Python 3"
    },
    "language_info": {
      "name": "python"
    }
  },
  "cells": [
    {
      "cell_type": "markdown",
      "metadata": {
        "id": "view-in-github",
        "colab_type": "text"
      },
      "source": [
        "<a href=\"https://colab.research.google.com/github/ssook1222/1Day-1Algo/blob/master/ssook/25%EB%85%84/3%EC%9B%94/3%EC%9B%94%203%EC%A3%BC%EC%B0%A8/0318.ipynb\" target=\"_parent\"><img src=\"https://colab.research.google.com/assets/colab-badge.svg\" alt=\"Open In Colab\"/></a>"
      ]
    },
    {
      "cell_type": "markdown",
      "source": [
        "## BoJ"
      ],
      "metadata": {
        "id": "2c_AlJF0gQZR"
      }
    },
    {
      "cell_type": "markdown",
      "source": [
        "### 2478"
      ],
      "metadata": {
        "id": "2Acl5o0qgRq3"
      }
    },
    {
      "cell_type": "code",
      "execution_count": null,
      "metadata": {
        "id": "2Fv6A9jAf1sL"
      },
      "outputs": [],
      "source": [
        "import sys\n",
        "\n",
        "n = int(sys.stdin.readline())\n",
        "lock = list(map(int, sys.stdin.readline().split()))\n",
        "\n",
        "moves = []\n",
        "for i in range(n - 1, 0, -1):\n",
        "    temp = lock[i : n] + lock[ : i]\n",
        "    cnt = 0\n",
        "    start = -1\n",
        "    for j in range(n - 1):\n",
        "        if (temp[j] - 1 > 0 and temp[j + 1] == temp[j] - 1) or (temp[j] - 1 == 0 and temp[j + 1] == n):\n",
        "            cnt += 1\n",
        "            if start == -1:\n",
        "                start = j\n",
        "    if cnt > 0:\n",
        "        moves.append((start, cnt, i))\n",
        "\n",
        "moves.sort(key=lambda x : (-(x[1] - x[0])))\n",
        "lock = lock[moves[0][2] : n] + lock[ : moves[0][2]]\n",
        "lock = lock[:moves[0][0]] + lock[moves[0][0] : moves[0][1] + 1][::-1] + lock[moves[0][1] + 1 : n]\n",
        "idx = lock.index(1)\n",
        "\n",
        "print(n - idx)\n",
        "print(moves[0][0] + 1, moves[0][1] + 1)\n",
        "print(n - moves[0][2])\n"
      ]
    },
    {
      "cell_type": "markdown",
      "source": [
        "---"
      ],
      "metadata": {
        "id": "eEoMyzsygSZ9"
      }
    },
    {
      "cell_type": "markdown",
      "source": [
        "## Programmers"
      ],
      "metadata": {
        "id": "fwGRK1ZDgTQb"
      }
    },
    {
      "cell_type": "markdown",
      "source": [
        "### 치킨 쿠폰"
      ],
      "metadata": {
        "id": "l0m2esg0gUbP"
      }
    },
    {
      "cell_type": "code",
      "source": [
        "def solution(chicken):\n",
        "    answer = 0\n",
        "    coupon = 0\n",
        "    rest = 0\n",
        "\n",
        "    while chicken > 0:\n",
        "        coupon += chicken\n",
        "        rest += chicken\n",
        "\n",
        "        chicken = coupon // 10\n",
        "        coupon %= 10\n",
        "\n",
        "        answer += chicken\n",
        "\n",
        "        if chicken == 0 and rest < 10:\n",
        "            break\n",
        "\n",
        "    return answer"
      ],
      "metadata": {
        "id": "jaPVCtSzgU-n"
      },
      "execution_count": null,
      "outputs": []
    }
  ]
}