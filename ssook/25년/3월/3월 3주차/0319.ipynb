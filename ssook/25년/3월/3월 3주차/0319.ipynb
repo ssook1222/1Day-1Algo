{
  "nbformat": 4,
  "nbformat_minor": 0,
  "metadata": {
    "colab": {
      "provenance": [],
      "authorship_tag": "ABX9TyO34wuzDJ20qeS6buwuM+Y/",
      "include_colab_link": true
    },
    "kernelspec": {
      "name": "python3",
      "display_name": "Python 3"
    },
    "language_info": {
      "name": "python"
    }
  },
  "cells": [
    {
      "cell_type": "markdown",
      "metadata": {
        "id": "view-in-github",
        "colab_type": "text"
      },
      "source": [
        "<a href=\"https://colab.research.google.com/github/ssook1222/1Day-1Algo/blob/master/ssook/25%EB%85%84/3%EC%9B%94/3%EC%9B%94%203%EC%A3%BC%EC%B0%A8/0319.ipynb\" target=\"_parent\"><img src=\"https://colab.research.google.com/assets/colab-badge.svg\" alt=\"Open In Colab\"/></a>"
      ]
    },
    {
      "cell_type": "markdown",
      "source": [
        "## BoJ"
      ],
      "metadata": {
        "id": "2c_AlJF0gQZR"
      }
    },
    {
      "cell_type": "markdown",
      "source": [
        "### 20667\n",
        "---\n",
        "pypy"
      ],
      "metadata": {
        "id": "2Acl5o0qgRq3"
      }
    },
    {
      "cell_type": "code",
      "execution_count": null,
      "metadata": {
        "id": "2Fv6A9jAf1sL"
      },
      "outputs": [],
      "source": [
        "INF = 0x3f3f3f3f\n",
        "\n",
        "N_MAX = 100\n",
        "M_MAX = 1000\n",
        "P_MAX = 500\n",
        "\n",
        "# 입력\n",
        "N, M, K = map(int, input().split())\n",
        "\n",
        "# DP 배열 초기화\n",
        "dp = [[-INF] * (M_MAX + 2) for _ in range(P_MAX + 1)]\n",
        "\n",
        "# CPU, 메모리, 가격 배열\n",
        "cpu = [0] * (N_MAX + 1)\n",
        "mem = [0] * (N_MAX + 1)\n",
        "prt = [0] * (N_MAX + 1)\n",
        "\n",
        "# 입력받기\n",
        "for i in range(1, N + 1):\n",
        "    cpu[i], mem[i], prt[i] = map(int, input().split())\n",
        "\n",
        "# 초기 값 설정\n",
        "dp[0][0] = 0\n",
        "\n",
        "# DP 업데이트\n",
        "for i in range(1, N + 1):\n",
        "    for j in range(P_MAX, -1, -1):\n",
        "        for k in range(M_MAX + 1, -1, -1):\n",
        "            if j + prt[i] > P_MAX:\n",
        "                continue\n",
        "            if k + cpu[i] <= M_MAX:\n",
        "                dp[j + prt[i]][k + cpu[i]] = max(dp[j + prt[i]][k + cpu[i]], dp[j][k] + mem[i])\n",
        "            if k + cpu[i] > M_MAX:\n",
        "                dp[j + prt[i]][M_MAX + 1] = max(dp[j + prt[i]][M_MAX + 1], dp[j][k] + mem[i])\n",
        "\n",
        "# 답 찾기\n",
        "ans = -1\n",
        "for i in range(P_MAX + 1):\n",
        "    for j in range(M, M_MAX + 2):\n",
        "        if dp[i][j] >= K:\n",
        "            if ans == -1 or ans > i:\n",
        "                ans = i\n",
        "\n",
        "# 결과 출력\n",
        "print(ans)"
      ]
    },
    {
      "cell_type": "markdown",
      "source": [
        "---"
      ],
      "metadata": {
        "id": "eEoMyzsygSZ9"
      }
    },
    {
      "cell_type": "markdown",
      "source": [
        "## Programmers"
      ],
      "metadata": {
        "id": "fwGRK1ZDgTQb"
      }
    },
    {
      "cell_type": "markdown",
      "source": [
        "### 다항식 더하기"
      ],
      "metadata": {
        "id": "l0m2esg0gUbP"
      }
    },
    {
      "cell_type": "code",
      "source": [
        "def solution(polynomial):\n",
        "    answer = ''\n",
        "    hap = 0\n",
        "    sangsu = 0\n",
        "    test = list(polynomial.strip().split(' + '))\n",
        "\n",
        "    for i in test:\n",
        "\n",
        "        if i.isdigit()!=True:\n",
        "            if len(i) == 1:\n",
        "                hap += 1\n",
        "            else:\n",
        "                hap += int(i[:len(i)-1])\n",
        "        else:\n",
        "            sangsu += int(i)\n",
        "\n",
        "    if hap == 1 and sangsu == 0:\n",
        "        answer = 'x'\n",
        "    elif hap > 1 and sangsu == 0:\n",
        "        answer = str(hap) +'x'\n",
        "    elif hap == 1 and sangsu != 0:\n",
        "        answer = 'x + ' + str(sangsu)\n",
        "    elif hap > 1 and sangsu != 0:\n",
        "        answer = str(hap) + 'x + ' + str(sangsu)\n",
        "    elif hap == 0:\n",
        "        answer = str(sangsu)\n",
        "\n",
        "    return answer"
      ],
      "metadata": {
        "id": "jaPVCtSzgU-n"
      },
      "execution_count": null,
      "outputs": []
    }
  ]
}