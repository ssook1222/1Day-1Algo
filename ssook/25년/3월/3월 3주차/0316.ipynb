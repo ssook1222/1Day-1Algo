{
  "nbformat": 4,
  "nbformat_minor": 0,
  "metadata": {
    "colab": {
      "provenance": [],
      "authorship_tag": "ABX9TyOAOQ7xbBEM0i7UL+tDSj0p",
      "include_colab_link": true
    },
    "kernelspec": {
      "name": "python3",
      "display_name": "Python 3"
    },
    "language_info": {
      "name": "python"
    }
  },
  "cells": [
    {
      "cell_type": "markdown",
      "metadata": {
        "id": "view-in-github",
        "colab_type": "text"
      },
      "source": [
        "<a href=\"https://colab.research.google.com/github/ssook1222/1Day-1Algo/blob/master/ssook/25%EB%85%84/3%EC%9B%94/3%EC%9B%94%203%EC%A3%BC%EC%B0%A8/0316.ipynb\" target=\"_parent\"><img src=\"https://colab.research.google.com/assets/colab-badge.svg\" alt=\"Open In Colab\"/></a>"
      ]
    },
    {
      "cell_type": "markdown",
      "source": [
        "## BoJ"
      ],
      "metadata": {
        "id": "kWbyXknKvQtc"
      }
    },
    {
      "cell_type": "markdown",
      "source": [
        "### 5904"
      ],
      "metadata": {
        "id": "daIa5-_nvR0T"
      }
    },
    {
      "cell_type": "code",
      "execution_count": null,
      "metadata": {
        "id": "AcxqKE-FvOPU"
      },
      "outputs": [],
      "source": [
        "N = int(input())\n",
        "\n",
        "def find_moo_sequence(total_length, current_length, position):\n",
        "    previous_length = (total_length - current_length) // 2\n",
        "\n",
        "    if position <= previous_length:  # N이 이전 S(k-1)에 속하는 경우\n",
        "        return find_moo_sequence(previous_length, current_length - 1, position)\n",
        "    elif position > previous_length + current_length:  # N이 후반 S(k-1)에 속하는 경우\n",
        "        return find_moo_sequence(previous_length, current_length - 1, position - previous_length - current_length)\n",
        "    else:  # N이 현재 \"m o ... o\" 부분에 속하는 경우\n",
        "        return \"o\" if position - previous_length - 1 else \"m\"\n",
        "\n",
        "total_length, k = 3, 0\n",
        "while N > total_length:  # S(k)의 길이를 구함\n",
        "    k += 1\n",
        "    total_length = total_length * 2 + (k + 3)\n",
        "\n",
        "print(find_moo_sequence(total_length, k + 3, N))"
      ]
    },
    {
      "cell_type": "markdown",
      "source": [
        "## Programmers"
      ],
      "metadata": {
        "id": "FFV8AdxLvSae"
      }
    },
    {
      "cell_type": "markdown",
      "source": [
        "### 약수 구하기"
      ],
      "metadata": {
        "id": "gmtcggd6vUdI"
      }
    },
    {
      "cell_type": "code",
      "source": [
        "def yaksu(n):\n",
        "    data = []\n",
        "    for i in range(1, n+1):\n",
        "        if n%i == 0:\n",
        "            data.append(i)\n",
        "    return data\n",
        "\n",
        "def solution(n):\n",
        "    answer = sorted(yaksu(n))\n",
        "    return answer"
      ],
      "metadata": {
        "id": "vNtpxtNVvVB9"
      },
      "execution_count": null,
      "outputs": []
    }
  ]
}