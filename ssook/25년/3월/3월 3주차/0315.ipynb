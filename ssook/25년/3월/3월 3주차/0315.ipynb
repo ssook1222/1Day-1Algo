{
  "nbformat": 4,
  "nbformat_minor": 0,
  "metadata": {
    "colab": {
      "provenance": [],
      "authorship_tag": "ABX9TyND6kw/UadaZPH/T8l7MKQy",
      "include_colab_link": true
    },
    "kernelspec": {
      "name": "python3",
      "display_name": "Python 3"
    },
    "language_info": {
      "name": "python"
    }
  },
  "cells": [
    {
      "cell_type": "markdown",
      "metadata": {
        "id": "view-in-github",
        "colab_type": "text"
      },
      "source": [
        "<a href=\"https://colab.research.google.com/github/ssook1222/1Day-1Algo/blob/master/ssook/25%EB%85%84/3%EC%9B%94/3%EC%9B%94%203%EC%A3%BC%EC%B0%A8/0315.ipynb\" target=\"_parent\"><img src=\"https://colab.research.google.com/assets/colab-badge.svg\" alt=\"Open In Colab\"/></a>"
      ]
    },
    {
      "cell_type": "markdown",
      "source": [
        "## BoJ"
      ],
      "metadata": {
        "id": "kWbyXknKvQtc"
      }
    },
    {
      "cell_type": "markdown",
      "source": [
        "### 3649"
      ],
      "metadata": {
        "id": "daIa5-_nvR0T"
      }
    },
    {
      "cell_type": "code",
      "execution_count": null,
      "metadata": {
        "id": "AcxqKE-FvOPU"
      },
      "outputs": [],
      "source": [
        "import sys\n",
        "input = sys.stdin.readline\n",
        "\n",
        "while True:\n",
        "    try:\n",
        "        hole_width = int(input()) * 10000000  # 구멍의 너비를 나노미터로 변환\n",
        "        num_pieces = int(input())  # 레고 조각의 개수\n",
        "        lego_lengths = [int(input()) for _ in range(num_pieces)]  # 레고 조각들의 길이\n",
        "        lego_lengths.sort()\n",
        "        left, right = 0, num_pieces - 1\n",
        "        found = False\n",
        "\n",
        "        while left < right:\n",
        "            current_sum = lego_lengths[left] + lego_lengths[right]\n",
        "            if current_sum == hole_width:\n",
        "                print('yes %d %d' % (lego_lengths[left], lego_lengths[right]))\n",
        "                found = True\n",
        "                break\n",
        "            elif current_sum < hole_width:\n",
        "                left += 1\n",
        "            else:\n",
        "                right -= 1\n",
        "\n",
        "        if not found:\n",
        "            print('danger')\n",
        "    except:\n",
        "        break"
      ]
    },
    {
      "cell_type": "markdown",
      "source": [
        "## Programmers"
      ],
      "metadata": {
        "id": "FFV8AdxLvSae"
      }
    },
    {
      "cell_type": "markdown",
      "source": [
        "### 가장 큰 수 찾기"
      ],
      "metadata": {
        "id": "gmtcggd6vUdI"
      }
    },
    {
      "cell_type": "code",
      "source": [
        "def solution(array):\n",
        "    return [max(array), array.index(max(array))]"
      ],
      "metadata": {
        "id": "vNtpxtNVvVB9"
      },
      "execution_count": null,
      "outputs": []
    }
  ]
}