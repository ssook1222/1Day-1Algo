{
  "nbformat": 4,
  "nbformat_minor": 0,
  "metadata": {
    "colab": {
      "provenance": [],
      "authorship_tag": "ABX9TyNSFK0K42fewU+I4afjv7gg",
      "include_colab_link": true
    },
    "kernelspec": {
      "name": "python3",
      "display_name": "Python 3"
    },
    "language_info": {
      "name": "python"
    }
  },
  "cells": [
    {
      "cell_type": "markdown",
      "metadata": {
        "id": "view-in-github",
        "colab_type": "text"
      },
      "source": [
        "<a href=\"https://colab.research.google.com/github/ssook1222/1Day-1Algo/blob/master/ssook/25%EB%85%84/3%EC%9B%94/3%EC%9B%94%203%EC%A3%BC%EC%B0%A8/0321.ipynb\" target=\"_parent\"><img src=\"https://colab.research.google.com/assets/colab-badge.svg\" alt=\"Open In Colab\"/></a>"
      ]
    },
    {
      "cell_type": "markdown",
      "source": [
        "## BoJ"
      ],
      "metadata": {
        "id": "2c_AlJF0gQZR"
      }
    },
    {
      "cell_type": "markdown",
      "source": [
        "### 2999"
      ],
      "metadata": {
        "id": "2Acl5o0qgRq3"
      }
    },
    {
      "cell_type": "code",
      "execution_count": null,
      "metadata": {
        "id": "2Fv6A9jAf1sL"
      },
      "outputs": [],
      "source": [
        "message = input()  # 암호화된 메시지 입력\n",
        "message_length = len(message)  # 메시지의 길이\n",
        "\n",
        "rows, cols = 0, 0\n",
        "\n",
        "# 행 R과 열 C를 구하는 이중 반복문 (R이 커야 함)\n",
        "for r in range(1, int(message_length / 2) + 1):\n",
        "    for c in range(r, message_length + 1):\n",
        "        if r * c == message_length:\n",
        "            rows, cols = r, c\n",
        "\n",
        "# 메시지를 해독하는 과정\n",
        "for i in range(rows):\n",
        "    for j in range(cols):\n",
        "        print(message[i + j * rows], end='')"
      ]
    },
    {
      "cell_type": "markdown",
      "source": [
        "---"
      ],
      "metadata": {
        "id": "eEoMyzsygSZ9"
      }
    },
    {
      "cell_type": "markdown",
      "source": [
        "## Programmers"
      ],
      "metadata": {
        "id": "fwGRK1ZDgTQb"
      }
    },
    {
      "cell_type": "markdown",
      "source": [
        "### 안전지대"
      ],
      "metadata": {
        "id": "l0m2esg0gUbP"
      }
    },
    {
      "cell_type": "code",
      "source": [
        "def solution(board):\n",
        "    n = len(board) # 배열의 크기\n",
        "    safe_count = 0 # 안전한 지역의 칸 수\n",
        "\n",
        "    # 8방향 이동을 위한 방향 벡터\n",
        "    dx = [-1, 1, 0, 0, -1, -1, 1, 1]\n",
        "    dy = [0, 0, -1, 1, -1, 1, -1, 1]\n",
        "\n",
        "    # 배열 순회\n",
        "    for i in range(n):\n",
        "        for j in range(n):\n",
        "            if board[i][j] == 1: # 현재 위치가 지뢰가 있는 지역인 경우\n",
        "                continue\n",
        "\n",
        "            is_safe = True # 현재 위치가 안전한 지역인지 확인하기 위한 변수\n",
        "\n",
        "            # 인접한 8방향을 검사\n",
        "            for k in range(8):\n",
        "                nx = i + dx[k]\n",
        "                ny = j + dy[k]\n",
        "\n",
        "                # 배열 범위를 벗어나면 다음 방향으로 이동\n",
        "                if nx < 0 or nx >= n or ny < 0 or ny >= n:\n",
        "                    continue\n",
        "\n",
        "                if board[nx][ny] == 1: # 인접한 위치에 지뢰가 있는 경우\n",
        "                    is_safe = False\n",
        "                    break\n",
        "\n",
        "            if is_safe:\n",
        "                safe_count += 1\n",
        "\n",
        "    return safe_count"
      ],
      "metadata": {
        "id": "jaPVCtSzgU-n"
      },
      "execution_count": null,
      "outputs": []
    }
  ]
}