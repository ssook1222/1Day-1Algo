{
  "nbformat": 4,
  "nbformat_minor": 0,
  "metadata": {
    "colab": {
      "provenance": [],
      "authorship_tag": "ABX9TyPZ/SG1U3kpkfMwwpAPxnER",
      "include_colab_link": true
    },
    "kernelspec": {
      "name": "python3",
      "display_name": "Python 3"
    },
    "language_info": {
      "name": "python"
    }
  },
  "cells": [
    {
      "cell_type": "markdown",
      "metadata": {
        "id": "view-in-github",
        "colab_type": "text"
      },
      "source": [
        "<a href=\"https://colab.research.google.com/github/ssook1222/1Day-1Algo/blob/master/ssook/25%EB%85%84/3%EC%9B%94/3%EC%9B%94%203%EC%A3%BC%EC%B0%A8/0317.ipynb\" target=\"_parent\"><img src=\"https://colab.research.google.com/assets/colab-badge.svg\" alt=\"Open In Colab\"/></a>"
      ]
    },
    {
      "cell_type": "markdown",
      "source": [
        "## BoJ"
      ],
      "metadata": {
        "id": "2c_AlJF0gQZR"
      }
    },
    {
      "cell_type": "markdown",
      "source": [
        "### 3366\n",
        "---\n",
        "\n",
        "PYPY"
      ],
      "metadata": {
        "id": "2Acl5o0qgRq3"
      }
    },
    {
      "cell_type": "code",
      "execution_count": null,
      "metadata": {
        "id": "2Fv6A9jAf1sL"
      },
      "outputs": [],
      "source": [
        "import sys\n",
        "from collections import deque\n",
        "import heapq\n",
        "import copy\n",
        "\n",
        "n = int(input())\n",
        "a = [int(input()) for i in range(n)]\n",
        "stack = deque()\n",
        "stack.append(1000000001)\n",
        "p = 1\n",
        "cost = 0\n",
        "i = 0\n",
        "while i < n:\n",
        "    if a[i] < stack[p - 1]:\n",
        "        stack.append(a[i])\n",
        "        p += 1\n",
        "        i += 1\n",
        "    else:\n",
        "        x = stack.pop()\n",
        "        p -= 1\n",
        "        if stack[p - 1] < a[i]:\n",
        "            cost += stack[p - 1]\n",
        "        else:\n",
        "            cost += a[i]\n",
        "stack.pop()\n",
        "p -= 1\n",
        "while p > 1:\n",
        "    cost += stack.pop()\n",
        "    p -= 1\n",
        "print(cost)"
      ]
    },
    {
      "cell_type": "markdown",
      "source": [
        "---"
      ],
      "metadata": {
        "id": "eEoMyzsygSZ9"
      }
    },
    {
      "cell_type": "markdown",
      "source": [
        "## Programmers"
      ],
      "metadata": {
        "id": "fwGRK1ZDgTQb"
      }
    },
    {
      "cell_type": "markdown",
      "source": [
        "### 유한소수 판별하기"
      ],
      "metadata": {
        "id": "l0m2esg0gUbP"
      }
    },
    {
      "cell_type": "code",
      "source": [
        "import math\n",
        "\n",
        "def solution(a, b):\n",
        "    answer = 1\n",
        "\n",
        "    #기약분수\n",
        "    gcd = math.gcd(a,b)\n",
        "    a, b = a//gcd, b//gcd\n",
        "\n",
        "    if a != b:\n",
        "        num = []\n",
        "        for i in range(2, b+1):\n",
        "            while b % i == 0:\n",
        "                b //= i\n",
        "                num.append(i)\n",
        "\n",
        "    if all(x in (2,5) for x in num):\n",
        "        pass\n",
        "    else:\n",
        "        answer = 2\n",
        "\n",
        "    return answer"
      ],
      "metadata": {
        "id": "jaPVCtSzgU-n"
      },
      "execution_count": null,
      "outputs": []
    }
  ]
}