{
  "nbformat": 4,
  "nbformat_minor": 0,
  "metadata": {
    "colab": {
      "provenance": [],
      "authorship_tag": "ABX9TyNHfnSesdFNKOZ+kjgBDBYF",
      "include_colab_link": true
    },
    "kernelspec": {
      "name": "python3",
      "display_name": "Python 3"
    },
    "language_info": {
      "name": "python"
    }
  },
  "cells": [
    {
      "cell_type": "markdown",
      "metadata": {
        "id": "view-in-github",
        "colab_type": "text"
      },
      "source": [
        "<a href=\"https://colab.research.google.com/github/ssook1222/1Day-1Algo/blob/master/ssook/25%EB%85%84/3%EC%9B%94/3%EC%9B%94%203%EC%A3%BC%EC%B0%A8/0320.ipynb\" target=\"_parent\"><img src=\"https://colab.research.google.com/assets/colab-badge.svg\" alt=\"Open In Colab\"/></a>"
      ]
    },
    {
      "cell_type": "markdown",
      "source": [
        "## BoJ"
      ],
      "metadata": {
        "id": "2c_AlJF0gQZR"
      }
    },
    {
      "cell_type": "markdown",
      "source": [
        "### 17202"
      ],
      "metadata": {
        "id": "2Acl5o0qgRq3"
      }
    },
    {
      "cell_type": "code",
      "execution_count": null,
      "metadata": {
        "id": "2Fv6A9jAf1sL"
      },
      "outputs": [],
      "source": [
        "A = list(map(int, input()))  # A의 핸드폰 번호\n",
        "B = list(map(int, input()))  # B의 핸드폰 번호\n",
        "\n",
        "# 두 번호의 숫자를 번갈아가며 합친 배열\n",
        "couple = [0] * 16\n",
        "\n",
        "# A와 B의 번호를 번갈아 가며 넣기\n",
        "for i in range(16):\n",
        "    if i % 2 == 0:\n",
        "        couple[i] = A[i // 2]\n",
        "    else:\n",
        "        couple[i] = B[i // 2]\n",
        "\n",
        "# 배열에서 두 개의 숫자만 남을 때까지 합치기\n",
        "while len(couple) != 2:\n",
        "    temp = []\n",
        "    for i in range(len(couple) - 1):\n",
        "        num = (couple[i] + couple[i + 1]) % 10  # 일의 자리만 남기기\n",
        "        temp.append(num)\n",
        "    couple = temp\n",
        "\n",
        "# 두 숫자 출력\n",
        "print(*couple, sep=\"\")"
      ]
    },
    {
      "cell_type": "markdown",
      "source": [
        "---"
      ],
      "metadata": {
        "id": "eEoMyzsygSZ9"
      }
    },
    {
      "cell_type": "markdown",
      "source": [
        "## Programmers"
      ],
      "metadata": {
        "id": "fwGRK1ZDgTQb"
      }
    },
    {
      "cell_type": "markdown",
      "source": [
        "### 삼각형의 완성조건"
      ],
      "metadata": {
        "id": "l0m2esg0gUbP"
      }
    },
    {
      "cell_type": "code",
      "source": [
        "def solution(sides):\n",
        "    answer = min(sides)*2-1\n",
        "    return answer"
      ],
      "metadata": {
        "id": "jaPVCtSzgU-n"
      },
      "execution_count": null,
      "outputs": []
    }
  ]
}