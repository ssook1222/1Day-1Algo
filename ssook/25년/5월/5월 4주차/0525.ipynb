{
  "nbformat": 4,
  "nbformat_minor": 0,
  "metadata": {
    "colab": {
      "provenance": [],
      "authorship_tag": "ABX9TyO337+PPmbOMGWnE+YXKH8+",
      "include_colab_link": true
    },
    "kernelspec": {
      "name": "python3",
      "display_name": "Python 3"
    },
    "language_info": {
      "name": "python"
    }
  },
  "cells": [
    {
      "cell_type": "markdown",
      "metadata": {
        "id": "view-in-github",
        "colab_type": "text"
      },
      "source": [
        "<a href=\"https://colab.research.google.com/github/ssook1222/1Day-1Algo/blob/master/ssook/25%EB%85%84/5%EC%9B%94/5%EC%9B%94%204%EC%A3%BC%EC%B0%A8/0525.ipynb\" target=\"_parent\"><img src=\"https://colab.research.google.com/assets/colab-badge.svg\" alt=\"Open In Colab\"/></a>"
      ]
    },
    {
      "cell_type": "markdown",
      "source": [
        "## BoJ"
      ],
      "metadata": {
        "id": "79SCE2bAL9lm"
      }
    },
    {
      "cell_type": "markdown",
      "source": [
        "### 9226"
      ],
      "metadata": {
        "id": "oHsn5lfGL_xz"
      }
    },
    {
      "cell_type": "code",
      "source": [
        "import sys\n",
        "while True:\n",
        "    word = input()\n",
        "    letters = list(word)\n",
        "    if word == '#':\n",
        "        sys.exit()\n",
        "    vowels = ['a', 'e', 'i', 'o', 'u']\n",
        "    has_vowel = False\n",
        "\n",
        "    for letter in letters:\n",
        "        if letter in vowels:\n",
        "            has_vowel = True\n",
        "            break\n",
        "\n",
        "    if not has_vowel:\n",
        "        letters.extend('ay')\n",
        "        pig_latin = ''.join(letters)\n",
        "        print(pig_latin)\n",
        "        continue\n",
        "\n",
        "    for _ in range(len(letters)):\n",
        "        if letters[0] in vowels:\n",
        "            break\n",
        "        else:\n",
        "            first_letter = letters.pop(0)\n",
        "            letters.append(first_letter)\n",
        "\n",
        "    letters.extend('ay')\n",
        "    pig_latin = ''.join(letters)\n",
        "    print(pig_latin)\n"
      ],
      "metadata": {
        "id": "F8GmphR2MCJ2"
      },
      "execution_count": null,
      "outputs": []
    },
    {
      "cell_type": "markdown",
      "source": [
        "## Programmers"
      ],
      "metadata": {
        "id": "OpCNs-t-MBmu"
      }
    },
    {
      "cell_type": "markdown",
      "source": [
        "### 문자 리스트를 문자열로 변경하기"
      ],
      "metadata": {
        "id": "gapkwC-MMGNC"
      }
    },
    {
      "cell_type": "code",
      "source": [
        "def solution(arr):\n",
        "    answer = ''\n",
        "    for c in arr:\n",
        "        answer += c\n",
        "    return answer"
      ],
      "metadata": {
        "id": "_oKWgbV6MLIN"
      },
      "execution_count": null,
      "outputs": []
    }
  ]
}