{
  "nbformat": 4,
  "nbformat_minor": 0,
  "metadata": {
    "colab": {
      "provenance": [],
      "authorship_tag": "ABX9TyOe4jnWOxhOoMdwjtSVg5Ow",
      "include_colab_link": true
    },
    "kernelspec": {
      "name": "python3",
      "display_name": "Python 3"
    },
    "language_info": {
      "name": "python"
    }
  },
  "cells": [
    {
      "cell_type": "markdown",
      "metadata": {
        "id": "view-in-github",
        "colab_type": "text"
      },
      "source": [
        "<a href=\"https://colab.research.google.com/github/ssook1222/1Day-1Algo/blob/master/ssook/25%EB%85%84/5%EC%9B%94/5%EC%9B%94%204%EC%A3%BC%EC%B0%A8/0524.ipynb\" target=\"_parent\"><img src=\"https://colab.research.google.com/assets/colab-badge.svg\" alt=\"Open In Colab\"/></a>"
      ]
    },
    {
      "cell_type": "markdown",
      "source": [
        "## BoJ"
      ],
      "metadata": {
        "id": "79SCE2bAL9lm"
      }
    },
    {
      "cell_type": "markdown",
      "source": [
        "### 14915"
      ],
      "metadata": {
        "id": "oHsn5lfGL_xz"
      }
    },
    {
      "cell_type": "code",
      "source": [
        "m, n = map(int, input().split())\n",
        "if m == 0:\n",
        "    print('0')\n",
        "val = {i: str(i) for i in range(10)}\n",
        "val.update({i + 10: chr(65 + i) for i in range(26)})\n",
        "\n",
        "ans = []\n",
        "while True:\n",
        "    if m == 0:\n",
        "        break\n",
        "    x = m % n\n",
        "    ans.append(val[x])\n",
        "    m //= n\n",
        "\n",
        "print(''.join(ans[::-1]))"
      ],
      "metadata": {
        "id": "F8GmphR2MCJ2"
      },
      "execution_count": null,
      "outputs": []
    },
    {
      "cell_type": "markdown",
      "source": [
        "## Programmers"
      ],
      "metadata": {
        "id": "OpCNs-t-MBmu"
      }
    },
    {
      "cell_type": "markdown",
      "source": [
        "### 부분 문자열인지 확인하기"
      ],
      "metadata": {
        "id": "gapkwC-MMGNC"
      }
    },
    {
      "cell_type": "code",
      "source": [
        "def solution(my_string, target):\n",
        "    answer = 0\n",
        "\n",
        "    if target in my_string:\n",
        "        answer = 1\n",
        "\n",
        "    return answer"
      ],
      "metadata": {
        "id": "_oKWgbV6MLIN"
      },
      "execution_count": null,
      "outputs": []
    }
  ]
}