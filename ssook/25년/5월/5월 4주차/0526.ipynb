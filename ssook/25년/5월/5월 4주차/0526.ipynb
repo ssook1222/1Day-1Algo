{
  "nbformat": 4,
  "nbformat_minor": 0,
  "metadata": {
    "colab": {
      "provenance": [],
      "authorship_tag": "ABX9TyMptCUpdisS7sBHwVzB4znH",
      "include_colab_link": true
    },
    "kernelspec": {
      "name": "python3",
      "display_name": "Python 3"
    },
    "language_info": {
      "name": "python"
    }
  },
  "cells": [
    {
      "cell_type": "markdown",
      "metadata": {
        "id": "view-in-github",
        "colab_type": "text"
      },
      "source": [
        "<a href=\"https://colab.research.google.com/github/ssook1222/1Day-1Algo/blob/master/ssook/25%EB%85%84/5%EC%9B%94/5%EC%9B%94%204%EC%A3%BC%EC%B0%A8/0526.ipynb\" target=\"_parent\"><img src=\"https://colab.research.google.com/assets/colab-badge.svg\" alt=\"Open In Colab\"/></a>"
      ]
    },
    {
      "cell_type": "markdown",
      "source": [
        "## BoJ"
      ],
      "metadata": {
        "id": "apKol-POVoPr"
      }
    },
    {
      "cell_type": "markdown",
      "source": [
        "### 33652"
      ],
      "metadata": {
        "id": "L2_hf_utVqcU"
      }
    },
    {
      "cell_type": "code",
      "execution_count": null,
      "metadata": {
        "id": "rWKdPJ_OUlJz"
      },
      "outputs": [],
      "source": [
        "import sys\n",
        "\n",
        "def find_first_off_time(n, records):\n",
        "    # 시간 기준으로 정렬\n",
        "    records.sort()\n",
        "\n",
        "    # LED가 처음으로 꺼진 시간 찾기\n",
        "    for time, state in records:\n",
        "        if state == 0:\n",
        "            return time\n",
        "\n",
        "    return -1\n",
        "\n",
        "# 입력 처리\n",
        "n = int(sys.stdin.readline().strip())\n",
        "records = [tuple(map(int, sys.stdin.readline().split())) for _ in range(n)]\n",
        "\n",
        "# 결과 출력\n",
        "print(find_first_off_time(n, records))"
      ]
    },
    {
      "cell_type": "markdown",
      "source": [
        "## CodeTree"
      ],
      "metadata": {
        "id": "0WajmHiqVsNZ"
      }
    },
    {
      "cell_type": "markdown",
      "source": [
        "### 단순 반복문"
      ],
      "metadata": {
        "id": "Ca7l07-ZVtQ-"
      }
    },
    {
      "cell_type": "code",
      "source": [
        "A=int(input())\n",
        "B=int(input())\n",
        "\n",
        "\n",
        "times = 0\n",
        "\n",
        "while A < B :\n",
        "    N = B - A\n",
        "    if N % 2 == 0:\n",
        "        A *= 2\n",
        "        times += 1\n",
        "\n",
        "    else:\n",
        "        B += 17\n",
        "        times += 1\n",
        "\n",
        "print(times)"
      ],
      "metadata": {
        "id": "Mj_VuG4eVt46"
      },
      "execution_count": null,
      "outputs": []
    }
  ]
}