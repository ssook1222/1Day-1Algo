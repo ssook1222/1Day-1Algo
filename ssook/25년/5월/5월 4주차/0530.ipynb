{
  "nbformat": 4,
  "nbformat_minor": 0,
  "metadata": {
    "colab": {
      "provenance": [],
      "authorship_tag": "ABX9TyNLEMSp8HqCupqZVrV64VPH",
      "include_colab_link": true
    },
    "kernelspec": {
      "name": "python3",
      "display_name": "Python 3"
    },
    "language_info": {
      "name": "python"
    }
  },
  "cells": [
    {
      "cell_type": "markdown",
      "metadata": {
        "id": "view-in-github",
        "colab_type": "text"
      },
      "source": [
        "<a href=\"https://colab.research.google.com/github/ssook1222/1Day-1Algo/blob/master/ssook/25%EB%85%84/5%EC%9B%94/5%EC%9B%94%204%EC%A3%BC%EC%B0%A8/0530.ipynb\" target=\"_parent\"><img src=\"https://colab.research.google.com/assets/colab-badge.svg\" alt=\"Open In Colab\"/></a>"
      ]
    },
    {
      "cell_type": "markdown",
      "source": [
        "## BoJ"
      ],
      "metadata": {
        "id": "xMVfGsaQVuzl"
      }
    },
    {
      "cell_type": "markdown",
      "source": [
        "### 33026"
      ],
      "metadata": {
        "id": "1jfD0RArVwJc"
      }
    },
    {
      "cell_type": "code",
      "execution_count": null,
      "metadata": {
        "id": "hmc11L2sUjJl"
      },
      "outputs": [],
      "source": [
        "def find_valid_split(n, s):\n",
        "    left_L, left_O = 0, 0  # 왼쪽 부분의 L과 O 개수\n",
        "    total_L, total_O = s.count('L'), s.count('O')  # 전체 L과 O 개수\n",
        "\n",
        "    for k in range(1, n):  # 최소 한 개는 가져야 하므로 1부터 시작\n",
        "        if s[k-1] == 'L':\n",
        "            left_L += 1\n",
        "        else:\n",
        "            left_O += 1\n",
        "\n",
        "        right_L = total_L - left_L\n",
        "        right_O = total_O - left_O\n",
        "\n",
        "        if left_L != right_L and left_O != right_O:\n",
        "            print(k)\n",
        "            return\n",
        "\n",
        "    print(-1)  # 가능한 분할이 없는 경우\n",
        "\n",
        "# 입력 받기\n",
        "n = int(input())\n",
        "s = input().strip()\n",
        "find_valid_split(n, s)"
      ]
    },
    {
      "cell_type": "markdown",
      "source": [
        "## CodeTree"
      ],
      "metadata": {
        "id": "J6_3j2ZZVwws"
      }
    },
    {
      "cell_type": "markdown",
      "source": [
        "### 2줄 출력"
      ],
      "metadata": {
        "id": "8FG-hRi3VyE3"
      }
    },
    {
      "cell_type": "code",
      "source": [
        "print(\"Hello\")\n",
        "print(\"World\")"
      ],
      "metadata": {
        "id": "Cf3NUAppVyqu"
      },
      "execution_count": null,
      "outputs": []
    }
  ]
}