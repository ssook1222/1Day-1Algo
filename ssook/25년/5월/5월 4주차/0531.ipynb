{
  "nbformat": 4,
  "nbformat_minor": 0,
  "metadata": {
    "colab": {
      "provenance": [],
      "authorship_tag": "ABX9TyOMe16YflQutc+e0zdhB+xg",
      "include_colab_link": true
    },
    "kernelspec": {
      "name": "python3",
      "display_name": "Python 3"
    },
    "language_info": {
      "name": "python"
    }
  },
  "cells": [
    {
      "cell_type": "markdown",
      "metadata": {
        "id": "view-in-github",
        "colab_type": "text"
      },
      "source": [
        "<a href=\"https://colab.research.google.com/github/ssook1222/1Day-1Algo/blob/master/ssook/25%EB%85%84/5%EC%9B%94/5%EC%9B%94%204%EC%A3%BC%EC%B0%A8/0531.ipynb\" target=\"_parent\"><img src=\"https://colab.research.google.com/assets/colab-badge.svg\" alt=\"Open In Colab\"/></a>"
      ]
    },
    {
      "cell_type": "markdown",
      "source": [
        "## BoJ"
      ],
      "metadata": {
        "id": "xMVfGsaQVuzl"
      }
    },
    {
      "cell_type": "markdown",
      "source": [
        "### 26360"
      ],
      "metadata": {
        "id": "1jfD0RArVwJc"
      }
    },
    {
      "cell_type": "code",
      "execution_count": null,
      "metadata": {
        "id": "hmc11L2sUjJl"
      },
      "outputs": [],
      "source": [
        "X = int(input())  # 첫 번째 줄: 슛의 기본 점수\n",
        "main_shot = int(input())  # 두 번째 줄: 슛 성공 여부 (1: 성공, 0: 실패)\n",
        "foul = int(input())  # 세 번째 줄: 반칙 여부 (1: 반칙, 0: 반칙 없음)\n",
        "\n",
        "total_points = 0\n",
        "\n",
        "# 기본 슛 점수 추가\n",
        "if main_shot == 1:\n",
        "    total_points += X\n",
        "\n",
        "# 반칙이 있었다면 추가 자유투 처리\n",
        "if foul == 1:\n",
        "    if main_shot == 1:\n",
        "        # 슛 성공 시, 자유투 1개 추가\n",
        "        extra_shots = 1\n",
        "    else:\n",
        "        # 슛 실패 시, 자유투 X개 추가\n",
        "        extra_shots = X\n",
        "\n",
        "    # 자유투 결과 입력 및 점수 추가\n",
        "    for _ in range(extra_shots):\n",
        "        free_throw = int(input())\n",
        "        total_points += free_throw\n",
        "\n",
        "print(total_points)"
      ]
    },
    {
      "cell_type": "markdown",
      "source": [
        "## CodeTree"
      ],
      "metadata": {
        "id": "J6_3j2ZZVwws"
      }
    },
    {
      "cell_type": "markdown",
      "source": [
        "### 변수 값 복사하기3"
      ],
      "metadata": {
        "id": "8FG-hRi3VyE3"
      }
    },
    {
      "cell_type": "code",
      "source": [
        "a = 1\n",
        "b = 5\n",
        "c = 3\n",
        "\n",
        "a = c\n",
        "a = a + c\n",
        "b = b - c\n",
        "print(a)\n",
        "print(b)\n",
        "print(c)"
      ],
      "metadata": {
        "id": "Cf3NUAppVyqu"
      },
      "execution_count": null,
      "outputs": []
    }
  ]
}