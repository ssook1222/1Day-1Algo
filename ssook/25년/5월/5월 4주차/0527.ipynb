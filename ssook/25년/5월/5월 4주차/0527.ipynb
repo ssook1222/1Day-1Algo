{
  "nbformat": 4,
  "nbformat_minor": 0,
  "metadata": {
    "colab": {
      "provenance": [],
      "authorship_tag": "ABX9TyOkKyzxM+4KNhPOTBAst+0z",
      "include_colab_link": true
    },
    "kernelspec": {
      "name": "python3",
      "display_name": "Python 3"
    },
    "language_info": {
      "name": "python"
    }
  },
  "cells": [
    {
      "cell_type": "markdown",
      "metadata": {
        "id": "view-in-github",
        "colab_type": "text"
      },
      "source": [
        "<a href=\"https://colab.research.google.com/github/ssook1222/1Day-1Algo/blob/master/ssook/25%EB%85%84/5%EC%9B%94/5%EC%9B%94%204%EC%A3%BC%EC%B0%A8/0527.ipynb\" target=\"_parent\"><img src=\"https://colab.research.google.com/assets/colab-badge.svg\" alt=\"Open In Colab\"/></a>"
      ]
    },
    {
      "cell_type": "markdown",
      "source": [
        "## BoJ"
      ],
      "metadata": {
        "id": "xMVfGsaQVuzl"
      }
    },
    {
      "cell_type": "markdown",
      "source": [
        "### 33192"
      ],
      "metadata": {
        "id": "1jfD0RArVwJc"
      }
    },
    {
      "cell_type": "code",
      "execution_count": null,
      "metadata": {
        "id": "hmc11L2sUjJl"
      },
      "outputs": [],
      "source": [
        "n = int(input())\n",
        "\n",
        "for _ in range(n):\n",
        "    x, k, h = map(int, input().split())\n",
        "\n",
        "    # Holiday pay (always at 2x rate)\n",
        "    holiday_pay = h * (2 * x)\n",
        "\n",
        "    # Remaining normal or overtime hours\n",
        "    remaining_hours = k - h\n",
        "\n",
        "    if remaining_hours > 140:\n",
        "        normal_hours = 140\n",
        "        overtime_hours = remaining_hours - 140\n",
        "    else:\n",
        "        normal_hours = remaining_hours\n",
        "        overtime_hours = 0\n",
        "\n",
        "    normal_pay = normal_hours * x\n",
        "    overtime_pay = overtime_hours * (1.5 * x)\n",
        "\n",
        "    total_salary = int(holiday_pay + normal_pay + overtime_pay)\n",
        "\n",
        "    # Print salary with commas\n",
        "    print(f\"{total_salary:,}\")\n"
      ]
    },
    {
      "cell_type": "markdown",
      "source": [
        "## CodeTree"
      ],
      "metadata": {
        "id": "J6_3j2ZZVwws"
      }
    },
    {
      "cell_type": "markdown",
      "source": [
        "### 친근하지 않은 수"
      ],
      "metadata": {
        "id": "8FG-hRi3VyE3"
      }
    },
    {
      "cell_type": "code",
      "source": [
        "n = int(input())\n",
        "cnt = 0\n",
        "for i in range(1, n+1):\n",
        "    if i % 2 != 0 and i % 3 != 0 and i % 5 != 0:\n",
        "        cnt += 1\n",
        "\n",
        "print(cnt)"
      ],
      "metadata": {
        "id": "Cf3NUAppVyqu"
      },
      "execution_count": null,
      "outputs": []
    }
  ]
}