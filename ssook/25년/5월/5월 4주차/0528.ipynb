{
  "nbformat": 4,
  "nbformat_minor": 0,
  "metadata": {
    "colab": {
      "provenance": [],
      "authorship_tag": "ABX9TyPVj6wXuOVZgW4NDsrWqAVZ",
      "include_colab_link": true
    },
    "kernelspec": {
      "name": "python3",
      "display_name": "Python 3"
    },
    "language_info": {
      "name": "python"
    }
  },
  "cells": [
    {
      "cell_type": "markdown",
      "metadata": {
        "id": "view-in-github",
        "colab_type": "text"
      },
      "source": [
        "<a href=\"https://colab.research.google.com/github/ssook1222/1Day-1Algo/blob/master/ssook/25%EB%85%84/5%EC%9B%94/5%EC%9B%94%204%EC%A3%BC%EC%B0%A8/0528.ipynb\" target=\"_parent\"><img src=\"https://colab.research.google.com/assets/colab-badge.svg\" alt=\"Open In Colab\"/></a>"
      ]
    },
    {
      "cell_type": "markdown",
      "source": [
        "## BoJ"
      ],
      "metadata": {
        "id": "xMVfGsaQVuzl"
      }
    },
    {
      "cell_type": "markdown",
      "source": [
        "### 33213"
      ],
      "metadata": {
        "id": "1jfD0RArVwJc"
      }
    },
    {
      "cell_type": "code",
      "execution_count": null,
      "metadata": {
        "id": "hmc11L2sUjJl",
        "colab": {
          "base_uri": "https://localhost:8080/"
        },
        "outputId": "75dd8422-7843-474b-a32d-2060026653c4"
      },
      "outputs": [
        {
          "output_type": "stream",
          "name": "stdout",
          "text": [
            "5\n",
            "20 2 22 2020 2002\n",
            "4\n"
          ]
        }
      ],
      "source": [
        "n = int(input())\n",
        "children = list(map(int, input().split()))\n",
        "\n",
        "jjak = []\n",
        "hol = []\n",
        "\n",
        "for c in children:\n",
        "  if c % 2 == 0:\n",
        "    jjak.append(c)\n",
        "  else:\n",
        "    hol.append(c)\n",
        "\n",
        "jjak.sort()\n",
        "hol.sort()\n",
        "\n",
        "if len(jjak) > len(hol):\n",
        "  t = 2\n",
        "  while True:\n",
        "    if t in jjak:\n",
        "      t += 2\n",
        "      pass\n",
        "    else:\n",
        "      print(t)\n",
        "      break\n",
        "\n",
        "elif len(jjak) < len(hol):\n",
        "  t = 1\n",
        "  while True:\n",
        "    if t in hol:\n",
        "      t += 2\n",
        "      pass\n",
        "    else:\n",
        "      print(t)\n",
        "      break"
      ]
    },
    {
      "cell_type": "markdown",
      "source": [
        "## CodeTree"
      ],
      "metadata": {
        "id": "J6_3j2ZZVwws"
      }
    },
    {
      "cell_type": "markdown",
      "source": [
        "### 1부터의 합"
      ],
      "metadata": {
        "id": "8FG-hRi3VyE3"
      }
    },
    {
      "cell_type": "code",
      "source": [
        "N = int(input())\n",
        "tmp = 0\n",
        "\n",
        "for i in range(1, 101, 1):\n",
        "    tmp = tmp + i\n",
        "    if tmp >= N:\n",
        "        print(i)\n",
        "        break\n"
      ],
      "metadata": {
        "id": "Cf3NUAppVyqu"
      },
      "execution_count": null,
      "outputs": []
    }
  ]
}