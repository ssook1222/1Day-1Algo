{
  "nbformat": 4,
  "nbformat_minor": 0,
  "metadata": {
    "colab": {
      "provenance": [],
      "authorship_tag": "ABX9TyNklmXX2NaDOSZ3CBHj4A2y",
      "include_colab_link": true
    },
    "kernelspec": {
      "name": "python3",
      "display_name": "Python 3"
    },
    "language_info": {
      "name": "python"
    }
  },
  "cells": [
    {
      "cell_type": "markdown",
      "metadata": {
        "id": "view-in-github",
        "colab_type": "text"
      },
      "source": [
        "<a href=\"https://colab.research.google.com/github/ssook1222/1Day-1Algo/blob/master/ssook/25%EB%85%84/5%EC%9B%94/5%EC%9B%94%203%EC%A3%BC%EC%B0%A8/0517.ipynb\" target=\"_parent\"><img src=\"https://colab.research.google.com/assets/colab-badge.svg\" alt=\"Open In Colab\"/></a>"
      ]
    },
    {
      "cell_type": "markdown",
      "source": [
        "## BoJ"
      ],
      "metadata": {
        "id": "ICWGtTYqLwmq"
      }
    },
    {
      "cell_type": "markdown",
      "source": [
        "### 14620"
      ],
      "metadata": {
        "id": "8tBG7SnRLzBA"
      }
    },
    {
      "cell_type": "code",
      "source": [
        "from itertools import combinations\n",
        "\n",
        "def check(seed_positions):\n",
        "    global min_cost\n",
        "    visited = []\n",
        "    total_cost = 0\n",
        "    for x, y in seed_positions:\n",
        "        visited.append((x, y))\n",
        "        total_cost += garden[x][y]\n",
        "        for i in range(4):\n",
        "            ax = x + dx[i]\n",
        "            ay = y + dy[i]\n",
        "\n",
        "            if (ax, ay) not in visited:\n",
        "                total_cost += garden[ax][ay]\n",
        "                visited.append((ax, ay))\n",
        "            else:\n",
        "                return\n",
        "    min_cost = min(min_cost, total_cost)\n",
        "\n",
        "n = int(input())\n",
        "dx = [1, -1, 0, 0]\n",
        "dy = [0, 0, 1, -1]\n",
        "possible_positions = []\n",
        "garden = []\n",
        "min_cost = int(1e9)\n",
        "\n",
        "for _ in range(n):\n",
        "    garden.append(list(map(int, input().split())))\n",
        "\n",
        "for i in range(1, n - 1):\n",
        "    for j in range(1, n - 1):\n",
        "        possible_positions.append((i, j))\n",
        "\n",
        "for seeds in combinations(possible_positions, 3):\n",
        "    check(seeds)\n",
        "\n",
        "print(min_cost)\n"
      ],
      "metadata": {
        "id": "-Ej3osPKL0JM"
      },
      "execution_count": null,
      "outputs": []
    },
    {
      "cell_type": "markdown",
      "source": [
        "## Programmers"
      ],
      "metadata": {
        "id": "AiSETjQvL0do"
      }
    },
    {
      "cell_type": "markdown",
      "source": [
        "### 순서 바꾸기"
      ],
      "metadata": {
        "id": "FG5ZR5BnL2qY"
      }
    },
    {
      "cell_type": "code",
      "source": [
        "def solution(num_list, n):\n",
        "    answer = []\n",
        "    answer = num_list[n:] + num_list[:n]\n",
        "\n",
        "\n",
        "    return answer"
      ],
      "metadata": {
        "id": "gOL2c7dCL3s2"
      },
      "execution_count": null,
      "outputs": []
    }
  ]
}