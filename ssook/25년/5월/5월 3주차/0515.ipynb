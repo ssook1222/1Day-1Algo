{
  "nbformat": 4,
  "nbformat_minor": 0,
  "metadata": {
    "colab": {
      "provenance": [],
      "authorship_tag": "ABX9TyOJLa4/5iebQTQfQX4xjUL9",
      "include_colab_link": true
    },
    "kernelspec": {
      "name": "python3",
      "display_name": "Python 3"
    },
    "language_info": {
      "name": "python"
    }
  },
  "cells": [
    {
      "cell_type": "markdown",
      "metadata": {
        "id": "view-in-github",
        "colab_type": "text"
      },
      "source": [
        "<a href=\"https://colab.research.google.com/github/ssook1222/1Day-1Algo/blob/master/ssook/25%EB%85%84/5%EC%9B%94/5%EC%9B%94%203%EC%A3%BC%EC%B0%A8/0515.ipynb\" target=\"_parent\"><img src=\"https://colab.research.google.com/assets/colab-badge.svg\" alt=\"Open In Colab\"/></a>"
      ]
    },
    {
      "cell_type": "markdown",
      "source": [
        "## BoJ"
      ],
      "metadata": {
        "id": "ICWGtTYqLwmq"
      }
    },
    {
      "cell_type": "markdown",
      "source": [
        "### 10164"
      ],
      "metadata": {
        "id": "8tBG7SnRLzBA"
      }
    },
    {
      "cell_type": "code",
      "source": [
        "rows, cols, checkpoint = map(int, input().split())\n",
        "\n",
        "def count_paths(n, m):\n",
        "    dp = [[0] * (m+1)] * (n+1)\n",
        "\n",
        "    for i in range(1, n+1):\n",
        "        for j in range(1, m+1):\n",
        "            if i == 1 and j == 1:\n",
        "                dp[i][j] = 1\n",
        "            else:\n",
        "                dp[i][j] = dp[i-1][j] + dp[i][j-1]\n",
        "\n",
        "    return dp[n][m]\n",
        "\n",
        "if checkpoint:\n",
        "    checkpoint_row = (checkpoint-1) // cols + 1\n",
        "    checkpoint_col = checkpoint - (checkpoint_row - 1) * cols\n",
        "    remaining_rows = rows - (checkpoint_row - 1)\n",
        "    remaining_cols = cols - (checkpoint_col - 1)\n",
        "\n",
        "    paths_to_checkpoint = count_paths(checkpoint_row, checkpoint_col)\n",
        "    paths_from_checkpoint = count_paths(remaining_rows, remaining_cols)\n",
        "\n",
        "    print(paths_to_checkpoint * paths_from_checkpoint)\n",
        "else:\n",
        "    print(count_paths(rows, cols))\n"
      ],
      "metadata": {
        "id": "-Ej3osPKL0JM"
      },
      "execution_count": null,
      "outputs": []
    },
    {
      "cell_type": "markdown",
      "source": [
        "## Programmers"
      ],
      "metadata": {
        "id": "AiSETjQvL0do"
      }
    },
    {
      "cell_type": "markdown",
      "source": [
        "### 할 일 목록"
      ],
      "metadata": {
        "id": "FG5ZR5BnL2qY"
      }
    },
    {
      "cell_type": "code",
      "source": [
        "def solution(todo_list, finished):\n",
        "    answer = []\n",
        "\n",
        "    for i in range(len(finished)):\n",
        "        if finished[i] == False:\n",
        "            answer.append(todo_list[i])\n",
        "\n",
        "    return answer"
      ],
      "metadata": {
        "id": "gOL2c7dCL3s2"
      },
      "execution_count": null,
      "outputs": []
    }
  ]
}