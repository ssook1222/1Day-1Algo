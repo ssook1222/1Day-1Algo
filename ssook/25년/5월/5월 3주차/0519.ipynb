{
  "nbformat": 4,
  "nbformat_minor": 0,
  "metadata": {
    "colab": {
      "provenance": [],
      "authorship_tag": "ABX9TyOGQcvhNnIyAwViHWHf5nmW",
      "include_colab_link": true
    },
    "kernelspec": {
      "name": "python3",
      "display_name": "Python 3"
    },
    "language_info": {
      "name": "python"
    }
  },
  "cells": [
    {
      "cell_type": "markdown",
      "metadata": {
        "id": "view-in-github",
        "colab_type": "text"
      },
      "source": [
        "<a href=\"https://colab.research.google.com/github/ssook1222/1Day-1Algo/blob/master/ssook/25%EB%85%84/5%EC%9B%94/5%EC%9B%94%203%EC%A3%BC%EC%B0%A8/0519.ipynb\" target=\"_parent\"><img src=\"https://colab.research.google.com/assets/colab-badge.svg\" alt=\"Open In Colab\"/></a>"
      ]
    },
    {
      "cell_type": "markdown",
      "source": [
        "## BoJ"
      ],
      "metadata": {
        "id": "79SCE2bAL9lm"
      }
    },
    {
      "cell_type": "markdown",
      "source": [
        "### 23813"
      ],
      "metadata": {
        "id": "oHsn5lfGL_xz"
      }
    },
    {
      "cell_type": "code",
      "source": [
        "N = list(input())\n",
        "result = 0\n",
        "for _ in range(len(N)):\n",
        "    N.insert(0, N[-1])\n",
        "    del N[-1]\n",
        "    result += int(\"\".join(N))\n",
        "print(result)"
      ],
      "metadata": {
        "id": "F8GmphR2MCJ2"
      },
      "execution_count": null,
      "outputs": []
    },
    {
      "cell_type": "markdown",
      "source": [
        "## Programmers"
      ],
      "metadata": {
        "id": "OpCNs-t-MBmu"
      }
    },
    {
      "cell_type": "markdown",
      "source": [
        "### 정수부분"
      ],
      "metadata": {
        "id": "gapkwC-MMGNC"
      }
    },
    {
      "cell_type": "code",
      "source": [
        "def solution(flo):\n",
        "    answer = int(flo)\n",
        "    return answer"
      ],
      "metadata": {
        "id": "_oKWgbV6MLIN"
      },
      "execution_count": null,
      "outputs": []
    }
  ]
}