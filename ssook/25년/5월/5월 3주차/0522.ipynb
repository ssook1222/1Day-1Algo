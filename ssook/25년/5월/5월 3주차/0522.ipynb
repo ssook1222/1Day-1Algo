{
  "nbformat": 4,
  "nbformat_minor": 0,
  "metadata": {
    "colab": {
      "provenance": [],
      "authorship_tag": "ABX9TyOQiPmHb05Fb4BlHwsoyWig",
      "include_colab_link": true
    },
    "kernelspec": {
      "name": "python3",
      "display_name": "Python 3"
    },
    "language_info": {
      "name": "python"
    }
  },
  "cells": [
    {
      "cell_type": "markdown",
      "metadata": {
        "id": "view-in-github",
        "colab_type": "text"
      },
      "source": [
        "<a href=\"https://colab.research.google.com/github/ssook1222/1Day-1Algo/blob/master/ssook/25%EB%85%84/5%EC%9B%94/5%EC%9B%94%203%EC%A3%BC%EC%B0%A8/0522.ipynb\" target=\"_parent\"><img src=\"https://colab.research.google.com/assets/colab-badge.svg\" alt=\"Open In Colab\"/></a>"
      ]
    },
    {
      "cell_type": "markdown",
      "source": [
        "## BoJ"
      ],
      "metadata": {
        "id": "79SCE2bAL9lm"
      }
    },
    {
      "cell_type": "markdown",
      "source": [
        "### 2703"
      ],
      "metadata": {
        "id": "oHsn5lfGL_xz"
      }
    },
    {
      "cell_type": "code",
      "source": [
        "n = int(input())\n",
        "\n",
        "for _ in range(n):\n",
        "    bef = input()\n",
        "    aft = input()\n",
        "\n",
        "    result = \"\"\n",
        "    for char in bef:\n",
        "        if char == \" \":\n",
        "            result += \" \"\n",
        "        else:\n",
        "            result += aft[ord(char) - ord('A')]\n",
        "\n",
        "    print(result)\n"
      ],
      "metadata": {
        "id": "F8GmphR2MCJ2"
      },
      "execution_count": null,
      "outputs": []
    },
    {
      "cell_type": "markdown",
      "source": [
        "## Programmers"
      ],
      "metadata": {
        "id": "OpCNs-t-MBmu"
      }
    },
    {
      "cell_type": "markdown",
      "source": [
        "### 문자열 곱하기"
      ],
      "metadata": {
        "id": "gapkwC-MMGNC"
      }
    },
    {
      "cell_type": "code",
      "source": [
        "def solution(my_string, k):\n",
        "    answer = my_string*k\n",
        "    return answer"
      ],
      "metadata": {
        "id": "_oKWgbV6MLIN"
      },
      "execution_count": null,
      "outputs": []
    }
  ]
}