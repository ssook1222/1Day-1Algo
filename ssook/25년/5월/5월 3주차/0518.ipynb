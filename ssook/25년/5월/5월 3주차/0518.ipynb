{
  "nbformat": 4,
  "nbformat_minor": 0,
  "metadata": {
    "colab": {
      "provenance": [],
      "authorship_tag": "ABX9TyOUyjCQnakVnf0UQgO3WlUd",
      "include_colab_link": true
    },
    "kernelspec": {
      "name": "python3",
      "display_name": "Python 3"
    },
    "language_info": {
      "name": "python"
    }
  },
  "cells": [
    {
      "cell_type": "markdown",
      "metadata": {
        "id": "view-in-github",
        "colab_type": "text"
      },
      "source": [
        "<a href=\"https://colab.research.google.com/github/ssook1222/1Day-1Algo/blob/master/ssook/25%EB%85%84/5%EC%9B%94/5%EC%9B%94%203%EC%A3%BC%EC%B0%A8/0518.ipynb\" target=\"_parent\"><img src=\"https://colab.research.google.com/assets/colab-badge.svg\" alt=\"Open In Colab\"/></a>"
      ]
    },
    {
      "cell_type": "markdown",
      "source": [
        "## BoJ"
      ],
      "metadata": {
        "id": "ICWGtTYqLwmq"
      }
    },
    {
      "cell_type": "markdown",
      "source": [
        "### 19583"
      ],
      "metadata": {
        "id": "8tBG7SnRLzBA"
      }
    },
    {
      "cell_type": "code",
      "source": [
        "import sys\n",
        "input = sys.stdin.readline\n",
        "\n",
        "start_time, end_time, stream_time = input().split()\n",
        "start_time = int(start_time[:2] + start_time[3:])\n",
        "end_time = int(end_time[:2] + end_time[3:])\n",
        "stream_time = int(stream_time[:2] + stream_time[3:])\n",
        "\n",
        "attendees = set()\n",
        "confirmed_count = 0\n",
        "\n",
        "while True:\n",
        "    try:\n",
        "        timestamp, username = input().split()\n",
        "        timestamp = int(timestamp[:2] + timestamp[3:])\n",
        "\n",
        "        if timestamp <= start_time:\n",
        "            attendees.add(username)\n",
        "        elif end_time <= timestamp <= stream_time and username in attendees:\n",
        "            attendees.remove(username)\n",
        "            confirmed_count += 1\n",
        "    except:\n",
        "        break\n",
        "\n",
        "print(confirmed_count)\n"
      ],
      "metadata": {
        "id": "-Ej3osPKL0JM"
      },
      "execution_count": null,
      "outputs": []
    },
    {
      "cell_type": "markdown",
      "source": [
        "## Programmers"
      ],
      "metadata": {
        "id": "AiSETjQvL0do"
      }
    },
    {
      "cell_type": "markdown",
      "source": [
        "### 첫 번째로 나오는 음수"
      ],
      "metadata": {
        "id": "FG5ZR5BnL2qY"
      }
    },
    {
      "cell_type": "code",
      "source": [
        "def solution(num_list):\n",
        "    answer = 0\n",
        "    check = False\n",
        "\n",
        "    for i in range(len(num_list)):\n",
        "        if num_list[i] < 0:\n",
        "            check = True\n",
        "            answer = i\n",
        "            break\n",
        "\n",
        "    if check == False:\n",
        "        answer = -1\n",
        "\n",
        "    return answer"
      ],
      "metadata": {
        "id": "gOL2c7dCL3s2"
      },
      "execution_count": null,
      "outputs": []
    }
  ]
}