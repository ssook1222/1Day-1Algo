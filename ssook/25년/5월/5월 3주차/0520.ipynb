{
  "nbformat": 4,
  "nbformat_minor": 0,
  "metadata": {
    "colab": {
      "provenance": [],
      "authorship_tag": "ABX9TyN9f4mbN++oET4UTZSAwT8a",
      "include_colab_link": true
    },
    "kernelspec": {
      "name": "python3",
      "display_name": "Python 3"
    },
    "language_info": {
      "name": "python"
    }
  },
  "cells": [
    {
      "cell_type": "markdown",
      "metadata": {
        "id": "view-in-github",
        "colab_type": "text"
      },
      "source": [
        "<a href=\"https://colab.research.google.com/github/ssook1222/1Day-1Algo/blob/master/ssook/25%EB%85%84/5%EC%9B%94/5%EC%9B%94%203%EC%A3%BC%EC%B0%A8/0520.ipynb\" target=\"_parent\"><img src=\"https://colab.research.google.com/assets/colab-badge.svg\" alt=\"Open In Colab\"/></a>"
      ]
    },
    {
      "cell_type": "markdown",
      "source": [
        "## BoJ"
      ],
      "metadata": {
        "id": "79SCE2bAL9lm"
      }
    },
    {
      "cell_type": "markdown",
      "source": [
        "### 16676"
      ],
      "metadata": {
        "id": "oHsn5lfGL_xz"
      }
    },
    {
      "cell_type": "code",
      "source": [
        "N = int(input())\n",
        "sticker_pack = 1\n",
        "\n",
        "if N <= 10:\n",
        "    print(1)\n",
        "\n",
        "else:\n",
        "    while N >= sticker_pack:\n",
        "        sticker_pack = str(sticker_pack)\n",
        "        sticker_pack += '1'\n",
        "        sticker_pack = int(sticker_pack)\n",
        "\n",
        "    print(len(str(sticker_pack // 10)))"
      ],
      "metadata": {
        "id": "F8GmphR2MCJ2"
      },
      "execution_count": null,
      "outputs": []
    },
    {
      "cell_type": "markdown",
      "source": [
        "## Programmers"
      ],
      "metadata": {
        "id": "OpCNs-t-MBmu"
      }
    },
    {
      "cell_type": "markdown",
      "source": [
        "### A 강조하기"
      ],
      "metadata": {
        "id": "gapkwC-MMGNC"
      }
    },
    {
      "cell_type": "code",
      "source": [
        "def solution(myString):\n",
        "    answer = ''\n",
        "\n",
        "    answer = myString.lower()\n",
        "    answer = answer.replace('a','A')\n",
        "\n",
        "    return answer"
      ],
      "metadata": {
        "id": "_oKWgbV6MLIN"
      },
      "execution_count": null,
      "outputs": []
    }
  ]
}