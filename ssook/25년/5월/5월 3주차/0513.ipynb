{
  "nbformat": 4,
  "nbformat_minor": 0,
  "metadata": {
    "colab": {
      "provenance": [],
      "authorship_tag": "ABX9TyMct7KaMe/5sCepM8y+RX4a",
      "include_colab_link": true
    },
    "kernelspec": {
      "name": "python3",
      "display_name": "Python 3"
    },
    "language_info": {
      "name": "python"
    }
  },
  "cells": [
    {
      "cell_type": "markdown",
      "metadata": {
        "id": "view-in-github",
        "colab_type": "text"
      },
      "source": [
        "<a href=\"https://colab.research.google.com/github/ssook1222/1Day-1Algo/blob/master/ssook/25%EB%85%84/5%EC%9B%94/5%EC%9B%94%203%EC%A3%BC%EC%B0%A8/0513.ipynb\" target=\"_parent\"><img src=\"https://colab.research.google.com/assets/colab-badge.svg\" alt=\"Open In Colab\"/></a>"
      ]
    },
    {
      "cell_type": "markdown",
      "source": [
        "## BoJ"
      ],
      "metadata": {
        "id": "ICWGtTYqLwmq"
      }
    },
    {
      "cell_type": "markdown",
      "source": [
        "### 11060\n",
        "\n",
        "---\n",
        "pypy"
      ],
      "metadata": {
        "id": "8tBG7SnRLzBA"
      }
    },
    {
      "cell_type": "code",
      "source": [
        "N = int(input())\n",
        "jumps = [0] * N\n",
        "maze = list(map(int, input().split()))\n",
        "reachable = [False]\n",
        "\n",
        "\n",
        "def dfs(position, depth):\n",
        "    if position == (N - 1):\n",
        "        reachable[0] = True\n",
        "        return\n",
        "    max_jump = maze[position]\n",
        "    for i in range(1, max_jump + 1):\n",
        "        if (position + i) >= N:\n",
        "            break\n",
        "        if jumps[position + i] == 0:\n",
        "            jumps[position + i] = depth + 1\n",
        "            dfs(position + i, depth + 1)\n",
        "        else:\n",
        "            if jumps[position + i] > (depth + 1):\n",
        "                jumps[position + i] = depth + 1\n",
        "                dfs(position + i, depth + 1)\n",
        "\n",
        "\n",
        "dfs(0, 0)\n",
        "if reachable[0]:\n",
        "    print(jumps[N - 1])\n",
        "else:\n",
        "    print(-1)"
      ],
      "metadata": {
        "id": "-Ej3osPKL0JM"
      },
      "execution_count": null,
      "outputs": []
    },
    {
      "cell_type": "markdown",
      "source": [
        "## Programmers"
      ],
      "metadata": {
        "id": "AiSETjQvL0do"
      }
    },
    {
      "cell_type": "markdown",
      "source": [
        "### 할 일 목록"
      ],
      "metadata": {
        "id": "FG5ZR5BnL2qY"
      }
    },
    {
      "cell_type": "code",
      "source": [
        "def solution(todo_list, finished):\n",
        "    answer = []\n",
        "\n",
        "    for i in range(len(finished)):\n",
        "        if finished[i] == False:\n",
        "            answer.append(todo_list[i])\n",
        "\n",
        "    return answer"
      ],
      "metadata": {
        "id": "gOL2c7dCL3s2"
      },
      "execution_count": null,
      "outputs": []
    }
  ]
}