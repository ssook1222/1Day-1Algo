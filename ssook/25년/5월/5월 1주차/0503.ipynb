{
  "nbformat": 4,
  "nbformat_minor": 0,
  "metadata": {
    "colab": {
      "provenance": [],
      "authorship_tag": "ABX9TyMp2hYkH2oa5XbNXviI8LD2",
      "include_colab_link": true
    },
    "kernelspec": {
      "name": "python3",
      "display_name": "Python 3"
    },
    "language_info": {
      "name": "python"
    }
  },
  "cells": [
    {
      "cell_type": "markdown",
      "metadata": {
        "id": "view-in-github",
        "colab_type": "text"
      },
      "source": [
        "<a href=\"https://colab.research.google.com/github/ssook1222/1Day-1Algo/blob/master/ssook/25%EB%85%84/5%EC%9B%94/5%EC%9B%94%201%EC%A3%BC%EC%B0%A8/0503.ipynb\" target=\"_parent\"><img src=\"https://colab.research.google.com/assets/colab-badge.svg\" alt=\"Open In Colab\"/></a>"
      ]
    },
    {
      "cell_type": "markdown",
      "source": [
        "## BoJ"
      ],
      "metadata": {
        "id": "hVTAQcROH_E4"
      }
    },
    {
      "cell_type": "markdown",
      "source": [
        "### 32288"
      ],
      "metadata": {
        "id": "4xfEnVgcIC4S"
      }
    },
    {
      "cell_type": "code",
      "source": [
        "n = int(input())  # 문자열의 길이 입력\n",
        "s = input().strip()  # 바코드 닉네임 입력\n",
        "\n",
        "# 대소문자 변환하여 출력\n",
        "print(s.swapcase())"
      ],
      "metadata": {
        "id": "A3-ba35ZIAaz"
      },
      "execution_count": null,
      "outputs": []
    },
    {
      "cell_type": "markdown",
      "source": [
        "## Programmers"
      ],
      "metadata": {
        "id": "doJOE0Z1IDkS"
      }
    },
    {
      "cell_type": "markdown",
      "source": [
        "### 공배수"
      ],
      "metadata": {
        "id": "G5vFUMV5IFD-"
      }
    },
    {
      "cell_type": "code",
      "source": [
        "def solution(number, n, m):\n",
        "    answer = 0\n",
        "\n",
        "    if number % n == 0 and number % m == 0:\n",
        "        answer = 1\n",
        "\n",
        "    return answer"
      ],
      "metadata": {
        "id": "fnNAFsSeIFsh"
      },
      "execution_count": null,
      "outputs": []
    }
  ]
}