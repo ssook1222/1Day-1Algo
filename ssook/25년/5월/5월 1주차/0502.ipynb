{
  "nbformat": 4,
  "nbformat_minor": 0,
  "metadata": {
    "colab": {
      "provenance": [],
      "authorship_tag": "ABX9TyNpvgKDJfYrKZAHBKSnk7Tg",
      "include_colab_link": true
    },
    "kernelspec": {
      "name": "python3",
      "display_name": "Python 3"
    },
    "language_info": {
      "name": "python"
    }
  },
  "cells": [
    {
      "cell_type": "markdown",
      "metadata": {
        "id": "view-in-github",
        "colab_type": "text"
      },
      "source": [
        "<a href=\"https://colab.research.google.com/github/ssook1222/1Day-1Algo/blob/master/ssook/25%EB%85%84/5%EC%9B%94/5%EC%9B%94%201%EC%A3%BC%EC%B0%A8/0502.ipynb\" target=\"_parent\"><img src=\"https://colab.research.google.com/assets/colab-badge.svg\" alt=\"Open In Colab\"/></a>"
      ]
    },
    {
      "cell_type": "markdown",
      "source": [
        "## BoJ"
      ],
      "metadata": {
        "id": "hVTAQcROH_E4"
      }
    },
    {
      "cell_type": "markdown",
      "source": [
        "### 32369"
      ],
      "metadata": {
        "id": "4xfEnVgcIC4S"
      }
    },
    {
      "cell_type": "code",
      "source": [
        "def onion_experiment(N, A, B):\n",
        "    praise_onion = 1  # 칭찬 양파 초기 길이\n",
        "    blame_onion = 1  # 비난 양파 초기 길이\n",
        "\n",
        "    for _ in range(N):\n",
        "        # 1. 양파 성장\n",
        "        praise_onion += A\n",
        "        blame_onion += B\n",
        "\n",
        "        # 2. 역할 변경 확인\n",
        "        if praise_onion < blame_onion:\n",
        "            praise_onion, blame_onion = blame_onion, praise_onion\n",
        "\n",
        "        # 3. 길이가 같으면 비난 양파 자르기\n",
        "        if praise_onion == blame_onion:\n",
        "            blame_onion -= 1\n",
        "\n",
        "    print(praise_onion, blame_onion)\n",
        "\n",
        "# 입력 받기\n",
        "N, A, B = map(int, input().split())\n",
        "onion_experiment(N, A, B)"
      ],
      "metadata": {
        "id": "A3-ba35ZIAaz"
      },
      "execution_count": null,
      "outputs": []
    },
    {
      "cell_type": "markdown",
      "source": [
        "## Programmers"
      ],
      "metadata": {
        "id": "doJOE0Z1IDkS"
      }
    },
    {
      "cell_type": "markdown",
      "source": [
        "### 뒤에서 5등까지"
      ],
      "metadata": {
        "id": "G5vFUMV5IFD-"
      }
    },
    {
      "cell_type": "code",
      "source": [
        "def solution(num_list):\n",
        "    num_list.sort()\n",
        "    answer = num_list[:5]\n",
        "    return answer"
      ],
      "metadata": {
        "id": "fnNAFsSeIFsh"
      },
      "execution_count": null,
      "outputs": []
    }
  ]
}