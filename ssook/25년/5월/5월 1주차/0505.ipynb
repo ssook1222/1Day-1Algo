{
  "nbformat": 4,
  "nbformat_minor": 0,
  "metadata": {
    "colab": {
      "provenance": [],
      "authorship_tag": "ABX9TyNayzhVpqMxG5qe5e3F8o/w",
      "include_colab_link": true
    },
    "kernelspec": {
      "name": "python3",
      "display_name": "Python 3"
    },
    "language_info": {
      "name": "python"
    }
  },
  "cells": [
    {
      "cell_type": "markdown",
      "metadata": {
        "id": "view-in-github",
        "colab_type": "text"
      },
      "source": [
        "<a href=\"https://colab.research.google.com/github/ssook1222/1Day-1Algo/blob/master/ssook/25%EB%85%84/5%EC%9B%94/5%EC%9B%94%201%EC%A3%BC%EC%B0%A8/0505.ipynb\" target=\"_parent\"><img src=\"https://colab.research.google.com/assets/colab-badge.svg\" alt=\"Open In Colab\"/></a>"
      ]
    },
    {
      "cell_type": "markdown",
      "source": [
        "## BoJ"
      ],
      "metadata": {
        "id": "CRVOlAaiD9EM"
      }
    },
    {
      "cell_type": "markdown",
      "source": [
        "### 7366"
      ],
      "metadata": {
        "id": "j8MzQ-_OED2g"
      }
    },
    {
      "cell_type": "code",
      "source": [
        "n = int(input())  # 문제 인스턴스 개수\n",
        "\n",
        "for i in range(1, n + 1):\n",
        "    m = int(input())  # 단어 개수\n",
        "    words = input().split()  # 단어 리스트\n",
        "    sheep_count = words.count(\"sheep\")  # \"sheep\" 개수 세기\n",
        "\n",
        "    print(f\"Case {i}: This list contains {sheep_count} sheep.\\n\")"
      ],
      "metadata": {
        "id": "wFED6stoEILB"
      },
      "execution_count": null,
      "outputs": []
    },
    {
      "cell_type": "markdown",
      "source": [
        "## Programmers"
      ],
      "metadata": {
        "id": "GcC6DiOIEIXd"
      }
    },
    {
      "cell_type": "markdown",
      "source": [
        "### rny_strying"
      ],
      "metadata": {
        "id": "09dcZMDVEJ-z"
      }
    },
    {
      "cell_type": "code",
      "source": [
        "def solution(rny_string):\n",
        "    answer = ''\n",
        "\n",
        "    answer = rny_string.replace('m', 'rn')\n",
        "\n",
        "    return answer"
      ],
      "metadata": {
        "id": "9_ruxVbfELfs"
      },
      "execution_count": null,
      "outputs": []
    }
  ]
}