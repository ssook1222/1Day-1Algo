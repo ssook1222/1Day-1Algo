{
  "nbformat": 4,
  "nbformat_minor": 0,
  "metadata": {
    "colab": {
      "provenance": [],
      "authorship_tag": "ABX9TyM1cCUhYmaytAHPaF1E396Y",
      "include_colab_link": true
    },
    "kernelspec": {
      "name": "python3",
      "display_name": "Python 3"
    },
    "language_info": {
      "name": "python"
    }
  },
  "cells": [
    {
      "cell_type": "markdown",
      "metadata": {
        "id": "view-in-github",
        "colab_type": "text"
      },
      "source": [
        "<a href=\"https://colab.research.google.com/github/ssook1222/1Day-1Algo/blob/master/ssook/25%EB%85%84/5%EC%9B%94/5%EC%9B%94%201%EC%A3%BC%EC%B0%A8/0501.ipynb\" target=\"_parent\"><img src=\"https://colab.research.google.com/assets/colab-badge.svg\" alt=\"Open In Colab\"/></a>"
      ]
    },
    {
      "cell_type": "markdown",
      "source": [
        "## BoJ"
      ],
      "metadata": {
        "id": "hVTAQcROH_E4"
      }
    },
    {
      "cell_type": "markdown",
      "source": [
        "### 32306"
      ],
      "metadata": {
        "id": "4xfEnVgcIC4S"
      }
    },
    {
      "cell_type": "code",
      "source": [
        "def determine_winner(team1, team2):\n",
        "    # 각 팀의 총 점수 계산\n",
        "    score1 = team1[0] * 1 + team1[1] * 2 + team1[2] * 3\n",
        "    score2 = team2[0] * 1 + team2[1] * 2 + team2[2] * 3\n",
        "\n",
        "    # 결과 출력\n",
        "    if score1 > score2:\n",
        "        return 1\n",
        "    elif score1 < score2:\n",
        "        return 2\n",
        "    else:\n",
        "        return 0\n",
        "\n",
        "# 입력 받기\n",
        "t1 = list(map(int, input().split()))\n",
        "t2 = list(map(int, input().split()))\n",
        "\n",
        "# 결과 출력\n",
        "print(determine_winner(t1, t2))"
      ],
      "metadata": {
        "id": "A3-ba35ZIAaz"
      },
      "execution_count": null,
      "outputs": []
    },
    {
      "cell_type": "markdown",
      "source": [
        "## Programmers"
      ],
      "metadata": {
        "id": "doJOE0Z1IDkS"
      }
    },
    {
      "cell_type": "markdown",
      "source": [
        "### 문자열 바꿔서 찾기"
      ],
      "metadata": {
        "id": "G5vFUMV5IFD-"
      }
    },
    {
      "cell_type": "code",
      "source": [
        "def solution(myString, pat):\n",
        "    answer = 0\n",
        "    string = ''\n",
        "    for i in range(len(myString)):\n",
        "        if myString[i] == 'A':\n",
        "            string += 'B'\n",
        "        elif myString[i] == 'B':\n",
        "            string += 'A'\n",
        "\n",
        "    if pat in string:\n",
        "        answer = 1\n",
        "\n",
        "    return answer"
      ],
      "metadata": {
        "id": "fnNAFsSeIFsh"
      },
      "execution_count": null,
      "outputs": []
    }
  ]
}