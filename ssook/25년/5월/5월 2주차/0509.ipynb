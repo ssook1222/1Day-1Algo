{
  "nbformat": 4,
  "nbformat_minor": 0,
  "metadata": {
    "colab": {
      "provenance": [],
      "authorship_tag": "ABX9TyPQNpb4GkY2aLfms6wDTrPM",
      "include_colab_link": true
    },
    "kernelspec": {
      "name": "python3",
      "display_name": "Python 3"
    },
    "language_info": {
      "name": "python"
    }
  },
  "cells": [
    {
      "cell_type": "markdown",
      "metadata": {
        "id": "view-in-github",
        "colab_type": "text"
      },
      "source": [
        "<a href=\"https://colab.research.google.com/github/ssook1222/1Day-1Algo/blob/master/ssook/25%EB%85%84/5%EC%9B%94/5%EC%9B%94%202%EC%A3%BC%EC%B0%A8/0509.ipynb\" target=\"_parent\"><img src=\"https://colab.research.google.com/assets/colab-badge.svg\" alt=\"Open In Colab\"/></a>"
      ]
    },
    {
      "cell_type": "markdown",
      "source": [
        "## BoJ"
      ],
      "metadata": {
        "id": "CRVOlAaiD9EM"
      }
    },
    {
      "cell_type": "markdown",
      "source": [
        "### 7583"
      ],
      "metadata": {
        "id": "j8MzQ-_OED2g"
      }
    },
    {
      "cell_type": "code",
      "source": [
        "import sys\n",
        "\n",
        "def jumble_word(word):\n",
        "    if len(word) <= 2:\n",
        "        return word\n",
        "    return word[0] + word[1:-1][::-1] + word[-1]\n",
        "\n",
        "def process_text():\n",
        "    while True:\n",
        "        line = sys.stdin.readline().strip()\n",
        "        if line == \"#\":\n",
        "            break\n",
        "        jumbled_line = \" \".join(jumble_word(word) for word in line.split())\n",
        "        print(jumbled_line)\n",
        "\n",
        "if __name__ == \"__main__\":\n",
        "    process_text()"
      ],
      "metadata": {
        "id": "wFED6stoEILB"
      },
      "execution_count": null,
      "outputs": []
    },
    {
      "cell_type": "markdown",
      "source": [
        "## Programmers"
      ],
      "metadata": {
        "id": "GcC6DiOIEIXd"
      }
    },
    {
      "cell_type": "markdown",
      "source": [
        "### 조건에 맞게 수열 변환하기1"
      ],
      "metadata": {
        "id": "09dcZMDVEJ-z"
      }
    },
    {
      "cell_type": "code",
      "source": [
        "def solution(arr):\n",
        "    answer = []\n",
        "\n",
        "    for i in arr:\n",
        "        if i%2 == 0 and i>=50:\n",
        "            answer.append(int(i/2))\n",
        "        elif i%2!= 0 and i<50:\n",
        "            answer.append(i*2)\n",
        "        else:\n",
        "            answer.append(i)\n",
        "\n",
        "\n",
        "    return answer"
      ],
      "metadata": {
        "id": "9_ruxVbfELfs"
      },
      "execution_count": null,
      "outputs": []
    }
  ]
}