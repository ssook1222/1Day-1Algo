{
  "nbformat": 4,
  "nbformat_minor": 0,
  "metadata": {
    "colab": {
      "provenance": [],
      "authorship_tag": "ABX9TyMG7QBz8eImRzKs8FtK36cu",
      "include_colab_link": true
    },
    "kernelspec": {
      "name": "python3",
      "display_name": "Python 3"
    },
    "language_info": {
      "name": "python"
    }
  },
  "cells": [
    {
      "cell_type": "markdown",
      "metadata": {
        "id": "view-in-github",
        "colab_type": "text"
      },
      "source": [
        "<a href=\"https://colab.research.google.com/github/ssook1222/1Day-1Algo/blob/master/ssook/25%EB%85%84/5%EC%9B%94/5%EC%9B%94%202%EC%A3%BC%EC%B0%A8/0507.ipynb\" target=\"_parent\"><img src=\"https://colab.research.google.com/assets/colab-badge.svg\" alt=\"Open In Colab\"/></a>"
      ]
    },
    {
      "cell_type": "markdown",
      "source": [
        "## BoJ"
      ],
      "metadata": {
        "id": "CRVOlAaiD9EM"
      }
    },
    {
      "cell_type": "markdown",
      "source": [
        "### 7572"
      ],
      "metadata": {
        "id": "j8MzQ-_OED2g"
      }
    },
    {
      "cell_type": "code",
      "source": [
        "twelve_branches = 'ABCDEFGHIJKL'\n",
        "ten_stems = '0123456789'\n",
        "year_difference = int(input()) - 2013\n",
        "print(twelve_branches[(year_difference+5)%12] + ten_stems[(year_difference-1)%10])"
      ],
      "metadata": {
        "id": "wFED6stoEILB"
      },
      "execution_count": null,
      "outputs": []
    },
    {
      "cell_type": "markdown",
      "source": [
        "## Programmers"
      ],
      "metadata": {
        "id": "GcC6DiOIEIXd"
      }
    },
    {
      "cell_type": "markdown",
      "source": [
        "### 할 일 목록"
      ],
      "metadata": {
        "id": "09dcZMDVEJ-z"
      }
    },
    {
      "cell_type": "code",
      "source": [
        "def solution(todo_list, finished):\n",
        "    answer = []\n",
        "\n",
        "    for i in range(len(finished)):\n",
        "        if finished[i] == False:\n",
        "            answer.append(todo_list[i])\n",
        "\n",
        "    return answer"
      ],
      "metadata": {
        "id": "9_ruxVbfELfs"
      },
      "execution_count": null,
      "outputs": []
    }
  ]
}