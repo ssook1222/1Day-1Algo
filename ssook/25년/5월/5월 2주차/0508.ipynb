{
  "nbformat": 4,
  "nbformat_minor": 0,
  "metadata": {
    "colab": {
      "provenance": [],
      "authorship_tag": "ABX9TyP+OsPTRsrPy4mM7vlalZ1j",
      "include_colab_link": true
    },
    "kernelspec": {
      "name": "python3",
      "display_name": "Python 3"
    },
    "language_info": {
      "name": "python"
    }
  },
  "cells": [
    {
      "cell_type": "markdown",
      "metadata": {
        "id": "view-in-github",
        "colab_type": "text"
      },
      "source": [
        "<a href=\"https://colab.research.google.com/github/ssook1222/1Day-1Algo/blob/master/ssook/25%EB%85%84/5%EC%9B%94/5%EC%9B%94%202%EC%A3%BC%EC%B0%A8/0508.ipynb\" target=\"_parent\"><img src=\"https://colab.research.google.com/assets/colab-badge.svg\" alt=\"Open In Colab\"/></a>"
      ]
    },
    {
      "cell_type": "markdown",
      "source": [
        "## BoJ"
      ],
      "metadata": {
        "id": "CRVOlAaiD9EM"
      }
    },
    {
      "cell_type": "markdown",
      "source": [
        "### 7582"
      ],
      "metadata": {
        "id": "j8MzQ-_OED2g"
      }
    },
    {
      "cell_type": "code",
      "source": [
        "import sys\n",
        "\n",
        "def process_scenario(route, max_capacity, initial_passengers, stops, stop_data):\n",
        "    current_passengers = initial_passengers\n",
        "\n",
        "    for off, on in stop_data:\n",
        "        current_passengers -= off  # 내리는 사람 처리\n",
        "        available_seats = max_capacity - current_passengers\n",
        "        current_passengers += min(on, available_seats)  # 가능한 만큼 태우기\n",
        "\n",
        "    print(f\"{route} {current_passengers}\")\n",
        "\n",
        "def main():\n",
        "    input_data = sys.stdin.read().strip().split(\"\\n\")\n",
        "    index = 0\n",
        "\n",
        "    while index < len(input_data):\n",
        "        first_line = input_data[index]\n",
        "        if first_line == \"# 0\":\n",
        "            break\n",
        "\n",
        "        route, max_capacity = first_line.split()\n",
        "        max_capacity = int(max_capacity)\n",
        "        index += 1\n",
        "\n",
        "        initial_passengers = int(input_data[index])\n",
        "        index += 1\n",
        "\n",
        "        stops = int(input_data[index])\n",
        "        index += 1\n",
        "\n",
        "        stop_data = []\n",
        "        for _ in range(stops):\n",
        "            off, on = map(int, input_data[index].split())\n",
        "            stop_data.append((off, on))\n",
        "            index += 1\n",
        "\n",
        "        process_scenario(route, max_capacity, initial_passengers, stops, stop_data)\n",
        "\n",
        "if __name__ == \"__main__\":\n",
        "    main()\n"
      ],
      "metadata": {
        "id": "wFED6stoEILB"
      },
      "execution_count": null,
      "outputs": []
    },
    {
      "cell_type": "markdown",
      "source": [
        "## Programmers"
      ],
      "metadata": {
        "id": "GcC6DiOIEIXd"
      }
    },
    {
      "cell_type": "markdown",
      "source": [
        "### 첫 번째로 나오는 음수"
      ],
      "metadata": {
        "id": "09dcZMDVEJ-z"
      }
    },
    {
      "cell_type": "code",
      "source": [
        "def solution(num_list):\n",
        "    answer = 0\n",
        "    check = False\n",
        "\n",
        "    for i in range(len(num_list)):\n",
        "        if num_list[i] < 0:\n",
        "            check = True\n",
        "            answer = i\n",
        "            break\n",
        "\n",
        "    if check == False:\n",
        "        answer = -1\n",
        "\n",
        "    return answer"
      ],
      "metadata": {
        "id": "9_ruxVbfELfs"
      },
      "execution_count": null,
      "outputs": []
    }
  ]
}