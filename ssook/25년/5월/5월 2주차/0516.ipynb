{
  "nbformat": 4,
  "nbformat_minor": 0,
  "metadata": {
    "colab": {
      "provenance": [],
      "authorship_tag": "ABX9TyPyO4v/S+XD+HuWmTlN2FID",
      "include_colab_link": true
    },
    "kernelspec": {
      "name": "python3",
      "display_name": "Python 3"
    },
    "language_info": {
      "name": "python"
    }
  },
  "cells": [
    {
      "cell_type": "markdown",
      "metadata": {
        "id": "view-in-github",
        "colab_type": "text"
      },
      "source": [
        "<a href=\"https://colab.research.google.com/github/ssook1222/1Day-1Algo/blob/master/ssook/25%EB%85%84/5%EC%9B%94/5%EC%9B%94%202%EC%A3%BC%EC%B0%A8/0516.ipynb\" target=\"_parent\"><img src=\"https://colab.research.google.com/assets/colab-badge.svg\" alt=\"Open In Colab\"/></a>"
      ]
    },
    {
      "cell_type": "markdown",
      "source": [
        "## BoJ"
      ],
      "metadata": {
        "id": "ICWGtTYqLwmq"
      }
    },
    {
      "cell_type": "markdown",
      "source": [
        "### 2607"
      ],
      "metadata": {
        "id": "8tBG7SnRLzBA"
      }
    },
    {
      "cell_type": "code",
      "source": [
        "word_count = int(input())\n",
        "base_word = list(input())  # 비교 대상 단어(첫 번째 단어)\n",
        "similar_count = 0\n",
        "\n",
        "for _ in range(word_count - 1):\n",
        "    remaining_chars = base_word[:]\n",
        "    current_word = input()  # 새로운 단어\n",
        "    difference = 0\n",
        "\n",
        "    for char in current_word:\n",
        "        if char in remaining_chars:\n",
        "            remaining_chars.remove(char)\n",
        "        else:\n",
        "            difference += 1\n",
        "\n",
        "    if difference < 2 and len(remaining_chars) < 2:\n",
        "        similar_count += 1\n",
        "\n",
        "print(similar_count)\n"
      ],
      "metadata": {
        "id": "-Ej3osPKL0JM"
      },
      "execution_count": null,
      "outputs": []
    },
    {
      "cell_type": "markdown",
      "source": [
        "## Programmers"
      ],
      "metadata": {
        "id": "AiSETjQvL0do"
      }
    },
    {
      "cell_type": "markdown",
      "source": [
        "### n보다 커질 때까지 더하기"
      ],
      "metadata": {
        "id": "FG5ZR5BnL2qY"
      }
    },
    {
      "cell_type": "code",
      "source": [
        "def solution(numbers, n):\n",
        "    answer = 0\n",
        "\n",
        "    for i in numbers:\n",
        "        answer += i\n",
        "        if answer > n:\n",
        "            break\n",
        "\n",
        "    return answer"
      ],
      "metadata": {
        "id": "gOL2c7dCL3s2"
      },
      "execution_count": null,
      "outputs": []
    }
  ]
}