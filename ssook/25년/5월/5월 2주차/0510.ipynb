{
  "nbformat": 4,
  "nbformat_minor": 0,
  "metadata": {
    "colab": {
      "provenance": [],
      "authorship_tag": "ABX9TyP5zLizTnOCp/jF6EVj8EaB",
      "include_colab_link": true
    },
    "kernelspec": {
      "name": "python3",
      "display_name": "Python 3"
    },
    "language_info": {
      "name": "python"
    }
  },
  "cells": [
    {
      "cell_type": "markdown",
      "metadata": {
        "id": "view-in-github",
        "colab_type": "text"
      },
      "source": [
        "<a href=\"https://colab.research.google.com/github/ssook1222/1Day-1Algo/blob/master/ssook/25%EB%85%84/5%EC%9B%94/5%EC%9B%94%202%EC%A3%BC%EC%B0%A8/0510.ipynb\" target=\"_parent\"><img src=\"https://colab.research.google.com/assets/colab-badge.svg\" alt=\"Open In Colab\"/></a>"
      ]
    },
    {
      "cell_type": "markdown",
      "source": [
        "## BoJ"
      ],
      "metadata": {
        "id": "CRVOlAaiD9EM"
      }
    },
    {
      "cell_type": "markdown",
      "source": [
        "### 7598"
      ],
      "metadata": {
        "id": "j8MzQ-_OED2g"
      }
    },
    {
      "cell_type": "code",
      "source": [
        "import sys\n",
        "\n",
        "def process_flight():\n",
        "    results = []\n",
        "\n",
        "    for line in sys.stdin:\n",
        "        line = line.strip()\n",
        "        if line == \"# 0\":\n",
        "            break\n",
        "\n",
        "        if line[0] == 'A':  # Flight line\n",
        "            flight_info = line.split()\n",
        "            flight_number = flight_info[0]\n",
        "            booked_seats = int(flight_info[1])\n",
        "        elif line[0] == 'B':  # Booking transaction\n",
        "            _, seats = line.split()\n",
        "            seats = int(seats)\n",
        "            if booked_seats + seats <= 68:\n",
        "                booked_seats += seats\n",
        "        elif line[0] == 'C':  # Cancellation transaction\n",
        "            _, seats = line.split()\n",
        "            seats = int(seats)\n",
        "            if seats <= booked_seats:\n",
        "                booked_seats -= seats\n",
        "        elif line[0] == 'X':  # End of flight transactions\n",
        "            results.append(f\"{flight_number} {booked_seats}\")\n",
        "\n",
        "    for result in results:\n",
        "        print(result)\n",
        "\n",
        "if __name__ == \"__main__\":\n",
        "    process_flight()\n"
      ],
      "metadata": {
        "id": "wFED6stoEILB"
      },
      "execution_count": null,
      "outputs": []
    },
    {
      "cell_type": "markdown",
      "source": [
        "## Programmers"
      ],
      "metadata": {
        "id": "GcC6DiOIEIXd"
      }
    },
    {
      "cell_type": "markdown",
      "source": [
        "### n개 간격의 원소들"
      ],
      "metadata": {
        "id": "09dcZMDVEJ-z"
      }
    },
    {
      "cell_type": "code",
      "source": [
        "def solution(num_list, n):\n",
        "    answer = []\n",
        "\n",
        "    for i in range(0,len(num_list),n):\n",
        "        answer.append(num_list[i])\n",
        "\n",
        "    return answer"
      ],
      "metadata": {
        "id": "9_ruxVbfELfs"
      },
      "execution_count": null,
      "outputs": []
    }
  ]
}