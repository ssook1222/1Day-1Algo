{
  "nbformat": 4,
  "nbformat_minor": 0,
  "metadata": {
    "colab": {
      "provenance": [],
      "authorship_tag": "ABX9TyPfZ0jo9EV4nliCNq8TpPf2",
      "include_colab_link": true
    },
    "kernelspec": {
      "name": "python3",
      "display_name": "Python 3"
    },
    "language_info": {
      "name": "python"
    }
  },
  "cells": [
    {
      "cell_type": "markdown",
      "metadata": {
        "id": "view-in-github",
        "colab_type": "text"
      },
      "source": [
        "<a href=\"https://colab.research.google.com/github/ssook1222/1Day-1Algo/blob/master/ssook/25%EB%85%84/4%EC%9B%94/4%EC%9B%94%204%EC%A3%BC%EC%B0%A8/0430.ipynb\" target=\"_parent\"><img src=\"https://colab.research.google.com/assets/colab-badge.svg\" alt=\"Open In Colab\"/></a>"
      ]
    },
    {
      "cell_type": "markdown",
      "source": [
        "## BoJ"
      ],
      "metadata": {
        "id": "hVTAQcROH_E4"
      }
    },
    {
      "cell_type": "markdown",
      "source": [
        "### 31048"
      ],
      "metadata": {
        "id": "4xfEnVgcIC4S"
      }
    },
    {
      "cell_type": "code",
      "source": [
        "import sys\n",
        "import math\n",
        "\n",
        "# 입력 받기\n",
        "T = int(sys.stdin.readline().strip())\n",
        "\n",
        "for _ in range(T):\n",
        "    N = int(sys.stdin.readline().strip())\n",
        "    factorial_result = math.factorial(N)\n",
        "    last_digit = factorial_result % 10\n",
        "    print(last_digit)"
      ],
      "metadata": {
        "id": "A3-ba35ZIAaz"
      },
      "execution_count": null,
      "outputs": []
    },
    {
      "cell_type": "markdown",
      "source": [
        "## Programmers"
      ],
      "metadata": {
        "id": "doJOE0Z1IDkS"
      }
    },
    {
      "cell_type": "markdown",
      "source": [
        "### 배열의 원소만큼 추가하기"
      ],
      "metadata": {
        "id": "G5vFUMV5IFD-"
      }
    },
    {
      "cell_type": "code",
      "source": [
        "def solution(arr):\n",
        "    answer = []\n",
        "\n",
        "    for i in range(len(arr)):\n",
        "        for j in range(arr[i]):\n",
        "            answer.append(arr[i])\n",
        "\n",
        "    return answer"
      ],
      "metadata": {
        "id": "fnNAFsSeIFsh"
      },
      "execution_count": null,
      "outputs": []
    }
  ]
}