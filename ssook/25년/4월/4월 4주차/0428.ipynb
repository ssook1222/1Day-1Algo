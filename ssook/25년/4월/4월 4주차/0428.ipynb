{
  "nbformat": 4,
  "nbformat_minor": 0,
  "metadata": {
    "colab": {
      "provenance": [],
      "authorship_tag": "ABX9TyNZhWin6B6rb3gXvpSqTmEe",
      "include_colab_link": true
    },
    "kernelspec": {
      "name": "python3",
      "display_name": "Python 3"
    },
    "language_info": {
      "name": "python"
    }
  },
  "cells": [
    {
      "cell_type": "markdown",
      "metadata": {
        "id": "view-in-github",
        "colab_type": "text"
      },
      "source": [
        "<a href=\"https://colab.research.google.com/github/ssook1222/1Day-1Algo/blob/master/ssook/25%EB%85%84/4%EC%9B%94/4%EC%9B%94%204%EC%A3%BC%EC%B0%A8/0428.ipynb\" target=\"_parent\"><img src=\"https://colab.research.google.com/assets/colab-badge.svg\" alt=\"Open In Colab\"/></a>"
      ]
    },
    {
      "cell_type": "markdown",
      "source": [
        "## BoJ"
      ],
      "metadata": {
        "id": "hVTAQcROH_E4"
      }
    },
    {
      "cell_type": "markdown",
      "source": [
        "### 27240"
      ],
      "metadata": {
        "id": "4xfEnVgcIC4S"
      }
    },
    {
      "cell_type": "code",
      "source": [
        "def determine_fare(n, a, b, s, t):\n",
        "    in_city_s = a + 1 <= s <= b - 1\n",
        "    in_city_t = a + 1 <= t <= b - 1\n",
        "\n",
        "    if in_city_s and in_city_t:\n",
        "        return \"City\"\n",
        "    elif (s <= a and t <= a) or (s >= b and t >= b):\n",
        "        return \"Outside\"\n",
        "    else:\n",
        "        return \"Full\"\n",
        "\n",
        "n, a, b = map(int, input().split())\n",
        "s, t = map(int, input().split())\n",
        "\n",
        "print(determine_fare(n, a, b, s, t))"
      ],
      "metadata": {
        "id": "A3-ba35ZIAaz"
      },
      "execution_count": null,
      "outputs": []
    },
    {
      "cell_type": "markdown",
      "source": [
        "## Programmers"
      ],
      "metadata": {
        "id": "doJOE0Z1IDkS"
      }
    },
    {
      "cell_type": "markdown",
      "source": [
        "### 조건에 맞게 수열 변환하기"
      ],
      "metadata": {
        "id": "G5vFUMV5IFD-"
      }
    },
    {
      "cell_type": "code",
      "source": [
        "def solution(arr):\n",
        "    answer = []\n",
        "\n",
        "    for i in arr:\n",
        "        if i%2 == 0 and i>=50:\n",
        "            answer.append(int(i/2))\n",
        "        elif i%2!= 0 and i<50:\n",
        "            answer.append(i*2)\n",
        "        else:\n",
        "            answer.append(i)\n",
        "\n",
        "\n",
        "    return answer"
      ],
      "metadata": {
        "id": "fnNAFsSeIFsh"
      },
      "execution_count": null,
      "outputs": []
    }
  ]
}