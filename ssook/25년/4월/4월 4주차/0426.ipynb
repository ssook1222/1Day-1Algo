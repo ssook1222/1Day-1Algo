{
  "nbformat": 4,
  "nbformat_minor": 0,
  "metadata": {
    "colab": {
      "provenance": [],
      "authorship_tag": "ABX9TyNL5WX2OuqwghAWfDRMHnTu",
      "include_colab_link": true
    },
    "kernelspec": {
      "name": "python3",
      "display_name": "Python 3"
    },
    "language_info": {
      "name": "python"
    }
  },
  "cells": [
    {
      "cell_type": "markdown",
      "metadata": {
        "id": "view-in-github",
        "colab_type": "text"
      },
      "source": [
        "<a href=\"https://colab.research.google.com/github/ssook1222/1Day-1Algo/blob/master/ssook/25%EB%85%84/4%EC%9B%94/4%EC%9B%94%204%EC%A3%BC%EC%B0%A8/0426.ipynb\" target=\"_parent\"><img src=\"https://colab.research.google.com/assets/colab-badge.svg\" alt=\"Open In Colab\"/></a>"
      ]
    },
    {
      "cell_type": "markdown",
      "source": [
        "## BoJ"
      ],
      "metadata": {
        "id": "9srmnad6Dx-L"
      }
    },
    {
      "cell_type": "markdown",
      "source": [
        "### 11637"
      ],
      "metadata": {
        "id": "zXc-FJRCDzJ4"
      }
    },
    {
      "cell_type": "code",
      "source": [
        "def election_result():\n",
        "    votes = [int(input()) for _ in range(int(input()))]\n",
        "    max_votes = max(votes)\n",
        "\n",
        "    if votes.count(max_votes) > 1:\n",
        "        print(\"no winner\")\n",
        "        return\n",
        "\n",
        "    winner = votes.index(max_votes) + 1\n",
        "    print('majority winner', winner) if sum(votes) - max_votes < max_votes else print('minority winner', winner)\n",
        "\n",
        "for _ in range(int(input())):\n",
        "    election_result()"
      ],
      "metadata": {
        "id": "sqk5F-hpD0C0"
      },
      "execution_count": null,
      "outputs": []
    },
    {
      "cell_type": "markdown",
      "source": [
        "## Programmers"
      ],
      "metadata": {
        "id": "u-ypfEj9D0M9"
      }
    },
    {
      "cell_type": "markdown",
      "source": [
        "### n보다 커질 때까지 더하기"
      ],
      "metadata": {
        "id": "w13XXHiQD1uI"
      }
    },
    {
      "cell_type": "code",
      "source": [
        "def solution(numbers, n):\n",
        "    answer = 0\n",
        "\n",
        "    for i in numbers:\n",
        "        answer += i\n",
        "        if answer > n:\n",
        "            break\n",
        "\n",
        "    return answer"
      ],
      "metadata": {
        "id": "x6azYG7hD2Qz"
      },
      "execution_count": null,
      "outputs": []
    }
  ]
}