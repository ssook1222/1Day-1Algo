{
  "nbformat": 4,
  "nbformat_minor": 0,
  "metadata": {
    "colab": {
      "provenance": [],
      "authorship_tag": "ABX9TyP19pcIPLzgG6ufXzReg+DN",
      "include_colab_link": true
    },
    "kernelspec": {
      "name": "python3",
      "display_name": "Python 3"
    },
    "language_info": {
      "name": "python"
    }
  },
  "cells": [
    {
      "cell_type": "markdown",
      "metadata": {
        "id": "view-in-github",
        "colab_type": "text"
      },
      "source": [
        "<a href=\"https://colab.research.google.com/github/ssook1222/1Day-1Algo/blob/master/ssook/25%EB%85%84/4%EC%9B%94/4%EC%9B%94%204%EC%A3%BC%EC%B0%A8/0425.ipynb\" target=\"_parent\"><img src=\"https://colab.research.google.com/assets/colab-badge.svg\" alt=\"Open In Colab\"/></a>"
      ]
    },
    {
      "cell_type": "markdown",
      "source": [
        "## BoJ"
      ],
      "metadata": {
        "id": "9srmnad6Dx-L"
      }
    },
    {
      "cell_type": "markdown",
      "source": [
        "### 3230"
      ],
      "metadata": {
        "id": "zXc-FJRCDzJ4"
      }
    },
    {
      "cell_type": "code",
      "source": [
        "import sys\n",
        "\n",
        "n, m = map(int, sys.stdin.readline().split())\n",
        "arr = [0] * 101\n",
        "ans = [0] * 101\n",
        "\n",
        "for i in range(1, n + 1):\n",
        "    rank = int(sys.stdin.readline().strip())\n",
        "\n",
        "    if arr[rank] != 0 and i != 1:\n",
        "        for j in range(i - 1, rank - 1, -1):\n",
        "            arr[j + 1] = arr[j]\n",
        "        arr[rank] = i\n",
        "    else:\n",
        "        arr[rank] = i\n",
        "\n",
        "for i in range(1, m + 1):\n",
        "    rank = int(sys.stdin.readline().strip())\n",
        "    player = arr[m - i + 1]\n",
        "\n",
        "    if ans[rank] != 0 and i != 1:\n",
        "        for j in range(i - 1, rank - 1, -1):\n",
        "            ans[j + 1] = ans[j]\n",
        "        ans[rank] = player\n",
        "    else:\n",
        "        ans[rank] = player\n",
        "\n",
        "for i in range(1, 4):\n",
        "    print(ans[i])"
      ],
      "metadata": {
        "id": "sqk5F-hpD0C0"
      },
      "execution_count": null,
      "outputs": []
    },
    {
      "cell_type": "markdown",
      "source": [
        "## Programmers"
      ],
      "metadata": {
        "id": "u-ypfEj9D0M9"
      }
    },
    {
      "cell_type": "markdown",
      "source": [
        "### A 강조하기"
      ],
      "metadata": {
        "id": "w13XXHiQD1uI"
      }
    },
    {
      "cell_type": "code",
      "source": [
        "def solution(myString):\n",
        "    answer = ''\n",
        "\n",
        "    answer = myString.lower()\n",
        "    answer = answer.replace('a','A')\n",
        "\n",
        "    return answer"
      ],
      "metadata": {
        "id": "x6azYG7hD2Qz"
      },
      "execution_count": null,
      "outputs": []
    }
  ]
}