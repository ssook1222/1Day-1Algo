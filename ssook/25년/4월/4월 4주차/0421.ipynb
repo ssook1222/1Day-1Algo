{
  "nbformat": 4,
  "nbformat_minor": 0,
  "metadata": {
    "colab": {
      "provenance": [],
      "authorship_tag": "ABX9TyPlkZdihwvNtqmmZ2yhOY6I",
      "include_colab_link": true
    },
    "kernelspec": {
      "name": "python3",
      "display_name": "Python 3"
    },
    "language_info": {
      "name": "python"
    }
  },
  "cells": [
    {
      "cell_type": "markdown",
      "metadata": {
        "id": "view-in-github",
        "colab_type": "text"
      },
      "source": [
        "<a href=\"https://colab.research.google.com/github/ssook1222/1Day-1Algo/blob/master/ssook/25%EB%85%84/4%EC%9B%94/4%EC%9B%94%204%EC%A3%BC%EC%B0%A8/0421.ipynb\" target=\"_parent\"><img src=\"https://colab.research.google.com/assets/colab-badge.svg\" alt=\"Open In Colab\"/></a>"
      ]
    },
    {
      "cell_type": "markdown",
      "source": [
        "## BoJ"
      ],
      "metadata": {
        "id": "9srmnad6Dx-L"
      }
    },
    {
      "cell_type": "markdown",
      "source": [
        "### 2891"
      ],
      "metadata": {
        "id": "zXc-FJRCDzJ4"
      }
    },
    {
      "cell_type": "code",
      "source": [
        "N, S, R = map(int, input().split())\n",
        "\n",
        "broken_teams = set(map(int, input().split()))\n",
        "extra_kayak_teams = set(map(int, input().split()))\n",
        "\n",
        "unable_to_start = 0\n",
        "\n",
        "self_fixed_teams = broken_teams & extra_kayak_teams\n",
        "broken_teams = list(broken_teams - self_fixed_teams)\n",
        "extra_kayak_teams = list(extra_kayak_teams - self_fixed_teams)\n",
        "\n",
        "if not broken_teams:\n",
        "    unable_to_start = 0\n",
        "else:\n",
        "    broken_teams.sort()\n",
        "\n",
        "    for team in broken_teams:\n",
        "        if team - 1 in extra_kayak_teams:\n",
        "            extra_kayak_teams.remove(team - 1)\n",
        "        elif team + 1 in extra_kayak_teams:\n",
        "            extra_kayak_teams.remove(team + 1)\n",
        "        else:\n",
        "            unable_to_start += 1\n",
        "\n",
        "print(unable_to_start)\n"
      ],
      "metadata": {
        "id": "sqk5F-hpD0C0"
      },
      "execution_count": null,
      "outputs": []
    },
    {
      "cell_type": "markdown",
      "source": [
        "## Programmers"
      ],
      "metadata": {
        "id": "u-ypfEj9D0M9"
      }
    },
    {
      "cell_type": "markdown",
      "source": [
        "### 가장 큰 수"
      ],
      "metadata": {
        "id": "w13XXHiQD1uI"
      }
    },
    {
      "cell_type": "code",
      "source": [
        "from functools import cmp_to_key\n",
        "\n",
        "def compare(a, b):\n",
        "    # 두 숫자를 문자열로 변환하여 비교 (더 큰 숫자가 앞으로 오도록 정렬)\n",
        "    if a + b > b + a:\n",
        "        return -1\n",
        "    else:\n",
        "        return 1\n",
        "\n",
        "def solution(numbers):\n",
        "    # 숫자 리스트를 문자열로 변환\n",
        "    numbers = list(map(str, numbers))\n",
        "\n",
        "    # 커스텀 정렬 적용\n",
        "    numbers.sort(key=cmp_to_key(compare))\n",
        "\n",
        "    # 정렬된 숫자를 이어 붙임\n",
        "    result = ''.join(numbers)\n",
        "\n",
        "    # '000' 처럼 0으로만 이루어진 경우 처리\n",
        "    return result if result[0] != '0' else '0'"
      ],
      "metadata": {
        "id": "x6azYG7hD2Qz"
      },
      "execution_count": null,
      "outputs": []
    }
  ]
}