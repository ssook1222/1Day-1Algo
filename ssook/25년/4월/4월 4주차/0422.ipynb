{
  "nbformat": 4,
  "nbformat_minor": 0,
  "metadata": {
    "colab": {
      "provenance": [],
      "authorship_tag": "ABX9TyPrIcbgN/++t45QBYOSG7rx",
      "include_colab_link": true
    },
    "kernelspec": {
      "name": "python3",
      "display_name": "Python 3"
    },
    "language_info": {
      "name": "python"
    }
  },
  "cells": [
    {
      "cell_type": "markdown",
      "metadata": {
        "id": "view-in-github",
        "colab_type": "text"
      },
      "source": [
        "<a href=\"https://colab.research.google.com/github/ssook1222/1Day-1Algo/blob/master/ssook/25%EB%85%84/4%EC%9B%94/4%EC%9B%94%204%EC%A3%BC%EC%B0%A8/0422.ipynb\" target=\"_parent\"><img src=\"https://colab.research.google.com/assets/colab-badge.svg\" alt=\"Open In Colab\"/></a>"
      ]
    },
    {
      "cell_type": "markdown",
      "source": [
        "## BoJ"
      ],
      "metadata": {
        "id": "9srmnad6Dx-L"
      }
    },
    {
      "cell_type": "markdown",
      "source": [
        "### 2993"
      ],
      "metadata": {
        "id": "zXc-FJRCDzJ4"
      }
    },
    {
      "cell_type": "code",
      "source": [
        "word = input()\n",
        "candidates = []\n",
        "for i in range(len(word)-2):\n",
        "    for j in range(i+1, len(word)-1):\n",
        "        for k in range(j+1, len(word)):\n",
        "            transformed = word[:j][::-1] + word[j:k][::-1] + word[k:][::-1]\n",
        "            candidates.append(transformed)\n",
        "print(min(candidates))"
      ],
      "metadata": {
        "id": "sqk5F-hpD0C0"
      },
      "execution_count": null,
      "outputs": []
    },
    {
      "cell_type": "markdown",
      "source": [
        "## Programmers"
      ],
      "metadata": {
        "id": "u-ypfEj9D0M9"
      }
    },
    {
      "cell_type": "markdown",
      "source": [
        "### 정수 부분"
      ],
      "metadata": {
        "id": "w13XXHiQD1uI"
      }
    },
    {
      "cell_type": "code",
      "source": [
        "def solution(flo):\n",
        "    answer = int(flo)\n",
        "    return answer"
      ],
      "metadata": {
        "id": "x6azYG7hD2Qz"
      },
      "execution_count": null,
      "outputs": []
    }
  ]
}