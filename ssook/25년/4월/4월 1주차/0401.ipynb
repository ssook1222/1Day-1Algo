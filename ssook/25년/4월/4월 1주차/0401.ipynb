{
  "nbformat": 4,
  "nbformat_minor": 0,
  "metadata": {
    "colab": {
      "provenance": [],
      "authorship_tag": "ABX9TyMNtZiklBe+XXUfm3666FxG",
      "include_colab_link": true
    },
    "kernelspec": {
      "name": "python3",
      "display_name": "Python 3"
    },
    "language_info": {
      "name": "python"
    }
  },
  "cells": [
    {
      "cell_type": "markdown",
      "metadata": {
        "id": "view-in-github",
        "colab_type": "text"
      },
      "source": [
        "<a href=\"https://colab.research.google.com/github/ssook1222/1Day-1Algo/blob/master/ssook/25%EB%85%84/4%EC%9B%94/4%EC%9B%94%201%EC%A3%BC%EC%B0%A8/0401.ipynb\" target=\"_parent\"><img src=\"https://colab.research.google.com/assets/colab-badge.svg\" alt=\"Open In Colab\"/></a>"
      ]
    },
    {
      "cell_type": "markdown",
      "source": [
        "## BoJ"
      ],
      "metadata": {
        "id": "HJlddPsVM3Eu"
      }
    },
    {
      "cell_type": "markdown",
      "source": [
        "### 33170"
      ],
      "metadata": {
        "id": "X4dmn5IxM4Ya"
      }
    },
    {
      "cell_type": "code",
      "source": [
        "import sys\n",
        "\n",
        "def check_sum_under_21():\n",
        "    A = int(sys.stdin.readline().strip())\n",
        "    B = int(sys.stdin.readline().strip())\n",
        "    C = int(sys.stdin.readline().strip())\n",
        "\n",
        "    print(1 if (A + B + C) <= 21 else 0)\n",
        "\n",
        "check_sum_under_21()"
      ],
      "metadata": {
        "id": "WgGxFwYCNtor"
      },
      "execution_count": null,
      "outputs": []
    },
    {
      "cell_type": "markdown",
      "source": [
        "## SSU_test"
      ],
      "metadata": {
        "id": "SFaFzj9NM5Ij"
      }
    },
    {
      "cell_type": "markdown",
      "source": [
        "### Z calculate"
      ],
      "metadata": {
        "id": "c4h3q5veM7Dw"
      }
    },
    {
      "cell_type": "code",
      "source": [
        "def calculate_z(a, b, c):\n",
        "    x = a & (b << c)\n",
        "    y = (a << c) | b\n",
        "    z = (x ^ y) % 5\n",
        "    return z\n",
        "\n",
        "# 입력 예제 3\n",
        "a, b, c = 5, 7, 3\n",
        "print(calculate_z(a, b, c))"
      ],
      "metadata": {
        "id": "yB5DawodM7yy"
      },
      "execution_count": null,
      "outputs": []
    }
  ]
}