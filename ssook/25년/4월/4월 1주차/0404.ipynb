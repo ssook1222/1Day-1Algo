{
  "nbformat": 4,
  "nbformat_minor": 0,
  "metadata": {
    "colab": {
      "provenance": [],
      "authorship_tag": "ABX9TyOOde7haWnorUhsQFy10ATz",
      "include_colab_link": true
    },
    "kernelspec": {
      "name": "python3",
      "display_name": "Python 3"
    },
    "language_info": {
      "name": "python"
    }
  },
  "cells": [
    {
      "cell_type": "markdown",
      "metadata": {
        "id": "view-in-github",
        "colab_type": "text"
      },
      "source": [
        "<a href=\"https://colab.research.google.com/github/ssook1222/1Day-1Algo/blob/master/ssook/25%EB%85%84/4%EC%9B%94/4%EC%9B%94%201%EC%A3%BC%EC%B0%A8/0404.ipynb\" target=\"_parent\"><img src=\"https://colab.research.google.com/assets/colab-badge.svg\" alt=\"Open In Colab\"/></a>"
      ]
    },
    {
      "cell_type": "markdown",
      "source": [
        "## BoJ"
      ],
      "metadata": {
        "id": "5E32enVbOWEP"
      }
    },
    {
      "cell_type": "markdown",
      "source": [
        "### 33161"
      ],
      "metadata": {
        "id": "TjApZefzOYVt"
      }
    },
    {
      "cell_type": "code",
      "execution_count": null,
      "metadata": {
        "id": "gHsv9_rLOIjv"
      },
      "outputs": [],
      "source": [
        "import sys\n",
        "\n",
        "def max_pencils():\n",
        "    A = int(sys.stdin.readline().strip())\n",
        "    print(A // 5)\n",
        "\n",
        "max_pencils()"
      ]
    },
    {
      "cell_type": "markdown",
      "source": [
        "## Programmers"
      ],
      "metadata": {
        "id": "0P_0QhkiOZI3"
      }
    },
    {
      "cell_type": "markdown",
      "source": [
        "### 369게임"
      ],
      "metadata": {
        "id": "wIhECkZOOfkU"
      }
    },
    {
      "cell_type": "code",
      "source": [
        "def solution(order):\n",
        "    answer = 0\n",
        "\n",
        "    raw = str(order)\n",
        "\n",
        "    for i in range(len(raw)):\n",
        "        if raw[i] == '3' or raw[i] == '6' or raw[i] == '9':\n",
        "            answer += 1\n",
        "\n",
        "    return answer"
      ],
      "metadata": {
        "id": "0ELkhjGcOgYP"
      },
      "execution_count": null,
      "outputs": []
    }
  ]
}