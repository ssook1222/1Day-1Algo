{
  "nbformat": 4,
  "nbformat_minor": 0,
  "metadata": {
    "colab": {
      "provenance": [],
      "authorship_tag": "ABX9TyO/da5hdMjEKw2BZ4sWrvT6",
      "include_colab_link": true
    },
    "kernelspec": {
      "name": "python3",
      "display_name": "Python 3"
    },
    "language_info": {
      "name": "python"
    }
  },
  "cells": [
    {
      "cell_type": "markdown",
      "metadata": {
        "id": "view-in-github",
        "colab_type": "text"
      },
      "source": [
        "<a href=\"https://colab.research.google.com/github/ssook1222/1Day-1Algo/blob/master/ssook/25%EB%85%84/4%EC%9B%94/4%EC%9B%94%201%EC%A3%BC%EC%B0%A8/0402.ipynb\" target=\"_parent\"><img src=\"https://colab.research.google.com/assets/colab-badge.svg\" alt=\"Open In Colab\"/></a>"
      ]
    },
    {
      "cell_type": "markdown",
      "source": [
        "## BoJ"
      ],
      "metadata": {
        "id": "HJlddPsVM3Eu"
      }
    },
    {
      "cell_type": "markdown",
      "source": [
        "### 33165"
      ],
      "metadata": {
        "id": "X4dmn5IxM4Ya"
      }
    },
    {
      "cell_type": "code",
      "source": [
        "import sys\n",
        "\n",
        "def calculate_distance():\n",
        "    T = int(sys.stdin.readline().strip())\n",
        "    V = int(sys.stdin.readline().strip())\n",
        "\n",
        "    print(T * V)\n",
        "\n",
        "calculate_distance()"
      ],
      "metadata": {
        "id": "WgGxFwYCNtor"
      },
      "execution_count": null,
      "outputs": []
    },
    {
      "cell_type": "markdown",
      "source": [
        "## SSU_test"
      ],
      "metadata": {
        "id": "SFaFzj9NM5Ij"
      }
    },
    {
      "cell_type": "markdown",
      "source": [
        "### Win_difference"
      ],
      "metadata": {
        "id": "c4h3q5veM7Dw"
      }
    },
    {
      "cell_type": "code",
      "source": [
        "def calculate_win_difference(n, rounds):\n",
        "    a_wins = 0\n",
        "    b_wins = 0\n",
        "    for a_score, b_score in rounds:\n",
        "        if a_score >= b_score:\n",
        "            a_wins += 1\n",
        "        else:\n",
        "            b_wins += 1\n",
        "    return a_wins - b_wins\n",
        "\n",
        "# 입력 예제 3\n",
        "n = 5\n",
        "rounds = [\n",
        "    (1, 1),\n",
        "    (2, 1),\n",
        "    (1, 2),\n",
        "    (3, 2),\n",
        "    (3, 3)\n",
        "]\n",
        "print(calculate_win_difference(n, rounds))"
      ],
      "metadata": {
        "id": "yB5DawodM7yy"
      },
      "execution_count": null,
      "outputs": []
    }
  ]
}