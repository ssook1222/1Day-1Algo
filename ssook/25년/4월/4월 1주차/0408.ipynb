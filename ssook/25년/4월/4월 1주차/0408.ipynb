{
  "nbformat": 4,
  "nbformat_minor": 0,
  "metadata": {
    "colab": {
      "provenance": [],
      "authorship_tag": "ABX9TyMnRV5N8EvJJT47/SscBV5d",
      "include_colab_link": true
    },
    "kernelspec": {
      "name": "python3",
      "display_name": "Python 3"
    },
    "language_info": {
      "name": "python"
    }
  },
  "cells": [
    {
      "cell_type": "markdown",
      "metadata": {
        "id": "view-in-github",
        "colab_type": "text"
      },
      "source": [
        "<a href=\"https://colab.research.google.com/github/ssook1222/1Day-1Algo/blob/master/ssook/25%EB%85%84/4%EC%9B%94/4%EC%9B%94%201%EC%A3%BC%EC%B0%A8/0408.ipynb\" target=\"_parent\"><img src=\"https://colab.research.google.com/assets/colab-badge.svg\" alt=\"Open In Colab\"/></a>"
      ]
    },
    {
      "cell_type": "markdown",
      "source": [
        "## BoJ"
      ],
      "metadata": {
        "id": "T9GL1nASCO2N"
      }
    },
    {
      "cell_type": "markdown",
      "source": [
        "### 1952"
      ],
      "metadata": {
        "id": "HDbqBgEpCPvt"
      }
    },
    {
      "cell_type": "code",
      "source": [
        "m, n = map(int,input().split())\n",
        "print( 2 * min(m,n) - 1 - (m <= n) )"
      ],
      "metadata": {
        "id": "96CxrR4VCUBL"
      },
      "execution_count": null,
      "outputs": []
    },
    {
      "cell_type": "markdown",
      "source": [
        "## Programmers"
      ],
      "metadata": {
        "id": "lh9-vTmbCVX1"
      }
    },
    {
      "cell_type": "markdown",
      "source": [
        "### 같은 숫자는 싫어"
      ],
      "metadata": {
        "id": "zO1W-ZNHCW8d"
      }
    },
    {
      "cell_type": "code",
      "source": [
        "def solution(arr):\n",
        "    answer = []\n",
        "\n",
        "    for i in range(len(arr)):\n",
        "        if arr[i] not in answer:\n",
        "            answer.append(arr[i])\n",
        "        else:\n",
        "            if arr[i] != arr[i-1]:\n",
        "                answer.append(arr[i])\n",
        "\n",
        "    return answer"
      ],
      "metadata": {
        "id": "r-du6_BiCXzJ"
      },
      "execution_count": null,
      "outputs": []
    }
  ]
}