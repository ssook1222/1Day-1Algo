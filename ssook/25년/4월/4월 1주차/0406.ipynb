{
  "nbformat": 4,
  "nbformat_minor": 0,
  "metadata": {
    "colab": {
      "provenance": [],
      "authorship_tag": "ABX9TyNssakTFxtSc12DkmlzheWX",
      "include_colab_link": true
    },
    "kernelspec": {
      "name": "python3",
      "display_name": "Python 3"
    },
    "language_info": {
      "name": "python"
    }
  },
  "cells": [
    {
      "cell_type": "markdown",
      "metadata": {
        "id": "view-in-github",
        "colab_type": "text"
      },
      "source": [
        "<a href=\"https://colab.research.google.com/github/ssook1222/1Day-1Algo/blob/master/ssook/25%EB%85%84/4%EC%9B%94/4%EC%9B%94%201%EC%A3%BC%EC%B0%A8/0406.ipynb\" target=\"_parent\"><img src=\"https://colab.research.google.com/assets/colab-badge.svg\" alt=\"Open In Colab\"/></a>"
      ]
    },
    {
      "cell_type": "markdown",
      "source": [
        "## BoJ"
      ],
      "metadata": {
        "id": "5E32enVbOWEP"
      }
    },
    {
      "cell_type": "markdown",
      "source": [
        "### 32314"
      ],
      "metadata": {
        "id": "TjApZefzOYVt"
      }
    },
    {
      "cell_type": "code",
      "execution_count": null,
      "metadata": {
        "id": "gHsv9_rLOIjv"
      },
      "outputs": [],
      "source": [
        "import sys\n",
        "\n",
        "def check_adapter():\n",
        "    a = int(sys.stdin.readline().strip())  # Ampere for the Christmas tree\n",
        "    w, v = map(int, sys.stdin.readline().strip().split())  # Watt and Volt for the adapter\n",
        "\n",
        "    adapter_ampere = w // v  # Calculate ampere using watt / volt\n",
        "\n",
        "    print(1 if adapter_ampere >= a else 0)\n",
        "\n",
        "check_adapter()"
      ]
    },
    {
      "cell_type": "markdown",
      "source": [
        "## Programmers"
      ],
      "metadata": {
        "id": "0P_0QhkiOZI3"
      }
    },
    {
      "cell_type": "markdown",
      "source": [
        "### n의 배수 고르기"
      ],
      "metadata": {
        "id": "wIhECkZOOfkU"
      }
    },
    {
      "cell_type": "code",
      "source": [
        "def solution(n, numlist):\n",
        "    answer = []\n",
        "\n",
        "    for num in numlist:\n",
        "        if num % n == 0:\n",
        "            answer.append(num)\n",
        "\n",
        "    return answer"
      ],
      "metadata": {
        "id": "0ELkhjGcOgYP"
      },
      "execution_count": null,
      "outputs": []
    }
  ]
}