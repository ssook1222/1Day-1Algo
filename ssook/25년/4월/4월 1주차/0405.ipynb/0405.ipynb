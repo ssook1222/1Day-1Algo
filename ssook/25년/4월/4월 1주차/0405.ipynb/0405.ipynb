{
  "nbformat": 4,
  "nbformat_minor": 0,
  "metadata": {
    "colab": {
      "provenance": [],
      "authorship_tag": "ABX9TyNwpWw0THHoxPtvyUMk1ow/",
      "include_colab_link": true
    },
    "kernelspec": {
      "name": "python3",
      "display_name": "Python 3"
    },
    "language_info": {
      "name": "python"
    }
  },
  "cells": [
    {
      "cell_type": "markdown",
      "metadata": {
        "id": "view-in-github",
        "colab_type": "text"
      },
      "source": [
        "<a href=\"https://colab.research.google.com/github/ssook1222/1Day-1Algo/blob/master/ssook/25%EB%85%84/4%EC%9B%94/4%EC%9B%94%201%EC%A3%BC%EC%B0%A8/0405.ipynb/0405.ipynb\" target=\"_parent\"><img src=\"https://colab.research.google.com/assets/colab-badge.svg\" alt=\"Open In Colab\"/></a>"
      ]
    },
    {
      "cell_type": "markdown",
      "source": [
        "## BoJ"
      ],
      "metadata": {
        "id": "5E32enVbOWEP"
      }
    },
    {
      "cell_type": "markdown",
      "source": [
        "### 32498"
      ],
      "metadata": {
        "id": "TjApZefzOYVt"
      }
    },
    {
      "cell_type": "code",
      "execution_count": null,
      "metadata": {
        "id": "gHsv9_rLOIjv"
      },
      "outputs": [],
      "source": [
        "import sys\n",
        "\n",
        "def count_excluded_problems():\n",
        "    n = int(sys.stdin.readline().strip())\n",
        "    excluded_count = sum(1 for _ in range(n) if int(sys.stdin.readline().strip()) % 2 == 1)\n",
        "    print(excluded_count)\n",
        "\n",
        "count_excluded_problems()"
      ]
    },
    {
      "cell_type": "markdown",
      "source": [
        "## Programmers"
      ],
      "metadata": {
        "id": "0P_0QhkiOZI3"
      }
    },
    {
      "cell_type": "markdown",
      "source": [
        "### 문자열 안에 문자열"
      ],
      "metadata": {
        "id": "wIhECkZOOfkU"
      }
    },
    {
      "cell_type": "code",
      "source": [
        "def solution(str1, str2):\n",
        "    if str2 in str1:\n",
        "        return 1\n",
        "    else:\n",
        "        return 2"
      ],
      "metadata": {
        "id": "0ELkhjGcOgYP"
      },
      "execution_count": null,
      "outputs": []
    }
  ]
}