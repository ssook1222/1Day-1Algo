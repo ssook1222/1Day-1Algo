{
  "nbformat": 4,
  "nbformat_minor": 0,
  "metadata": {
    "colab": {
      "provenance": [],
      "authorship_tag": "ABX9TyOBSTV62KWyGp96GEcz9dKg",
      "include_colab_link": true
    },
    "kernelspec": {
      "name": "python3",
      "display_name": "Python 3"
    },
    "language_info": {
      "name": "python"
    }
  },
  "cells": [
    {
      "cell_type": "markdown",
      "metadata": {
        "id": "view-in-github",
        "colab_type": "text"
      },
      "source": [
        "<a href=\"https://colab.research.google.com/github/ssook1222/1Day-1Algo/blob/master/ssook/25%EB%85%84/4%EC%9B%94/4%EC%9B%94%201%EC%A3%BC%EC%B0%A8/0409.ipynb\" target=\"_parent\"><img src=\"https://colab.research.google.com/assets/colab-badge.svg\" alt=\"Open In Colab\"/></a>"
      ]
    },
    {
      "cell_type": "markdown",
      "source": [
        "## BoJ"
      ],
      "metadata": {
        "id": "T9GL1nASCO2N"
      }
    },
    {
      "cell_type": "markdown",
      "source": [
        "### 2037"
      ],
      "metadata": {
        "id": "HDbqBgEpCPvt"
      }
    },
    {
      "cell_type": "code",
      "source": [
        "if __name__ == '__main__':\n",
        "    keypad = [[], ['A', 'B', 'C'], ['D', 'E', 'F'], ['G', 'H', 'I'], ['J', 'K', 'L'], ['M', 'N', 'O'],\n",
        "              ['P', 'Q', 'R', 'S'], ['T', 'U', 'V'], ['W', 'X', 'Y', 'Z']]\n",
        "    press_time, wait_time = map(int, input().split())\n",
        "    message = input()\n",
        "\n",
        "    total_time = 0\n",
        "    prev_button = ''\n",
        "    for char in message:\n",
        "        if char == ' ':\n",
        "            total_time += press_time\n",
        "            prev_button = ''\n",
        "        for button_idx in range(len(keypad)):\n",
        "            for char_idx in range(len(keypad[button_idx])):\n",
        "                if char == keypad[button_idx][char_idx]:\n",
        "                    if button_idx == prev_button:\n",
        "                        total_time += wait_time\n",
        "                    total_time += (1 + char_idx) * press_time\n",
        "                    prev_button = button_idx\n",
        "    print(total_time)"
      ],
      "metadata": {
        "id": "96CxrR4VCUBL"
      },
      "execution_count": null,
      "outputs": []
    },
    {
      "cell_type": "markdown",
      "source": [
        "## Programmers"
      ],
      "metadata": {
        "id": "lh9-vTmbCVX1"
      }
    },
    {
      "cell_type": "markdown",
      "source": [
        "### 최소 직사각형"
      ],
      "metadata": {
        "id": "zO1W-ZNHCW8d"
      }
    },
    {
      "cell_type": "code",
      "source": [
        "def solution(sizes):\n",
        "    answer = 0\n",
        "    r_w = []\n",
        "    r_h = []\n",
        "\n",
        "    for i in sizes:\n",
        "        r_w.append(max(i))\n",
        "        r_h.append(min(i))\n",
        "\n",
        "    answer = max(r_w) * max(r_h)\n",
        "    return answer"
      ],
      "metadata": {
        "id": "r-du6_BiCXzJ"
      },
      "execution_count": null,
      "outputs": []
    }
  ]
}