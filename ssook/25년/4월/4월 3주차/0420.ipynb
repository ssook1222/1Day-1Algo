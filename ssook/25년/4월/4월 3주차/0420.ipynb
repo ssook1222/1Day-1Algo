{
  "nbformat": 4,
  "nbformat_minor": 0,
  "metadata": {
    "colab": {
      "provenance": [],
      "authorship_tag": "ABX9TyOrrff39azODRiBBXJHELbl",
      "include_colab_link": true
    },
    "kernelspec": {
      "name": "python3",
      "display_name": "Python 3"
    },
    "language_info": {
      "name": "python"
    }
  },
  "cells": [
    {
      "cell_type": "markdown",
      "metadata": {
        "id": "view-in-github",
        "colab_type": "text"
      },
      "source": [
        "<a href=\"https://colab.research.google.com/github/ssook1222/1Day-1Algo/blob/master/ssook/25%EB%85%84/4%EC%9B%94/4%EC%9B%94%203%EC%A3%BC%EC%B0%A8/0420.ipynb\" target=\"_parent\"><img src=\"https://colab.research.google.com/assets/colab-badge.svg\" alt=\"Open In Colab\"/></a>"
      ]
    },
    {
      "cell_type": "markdown",
      "source": [
        "## BoJ"
      ],
      "metadata": {
        "id": "2FHc_02zCn0B"
      }
    },
    {
      "cell_type": "markdown",
      "source": [
        "### 32952\n",
        "\n",
        "---\n",
        "\n",
        "pypy"
      ],
      "metadata": {
        "id": "hFSOWapMCpb1"
      }
    },
    {
      "cell_type": "code",
      "source": [
        "import sys\n",
        "\n",
        "R, K, M = map(int, sys.stdin.readline().split())\n",
        "\n",
        "# 반감기가 몇 번 진행되었는지 계산\n",
        "halving_count = M // K\n",
        "\n",
        "# 해당 블록의 보상을 계산\n",
        "reward = R // (2 ** halving_count)\n",
        "\n",
        "# 보상이 1 사토시보다 작아지면 0으로 설정\n",
        "print(max(reward, 0))"
      ],
      "metadata": {
        "id": "3VyV0Ls4CqAL"
      },
      "execution_count": null,
      "outputs": []
    },
    {
      "cell_type": "markdown",
      "source": [
        "## Programmers"
      ],
      "metadata": {
        "id": "L28ujC13CqXS"
      }
    },
    {
      "cell_type": "markdown",
      "source": [
        "### 한 번만 등장한 문자"
      ],
      "metadata": {
        "id": "-pBAhKmlCrqZ"
      }
    },
    {
      "cell_type": "code",
      "source": [
        "def solution(s):\n",
        "    answer = ''\n",
        "\n",
        "    check = {}\n",
        "    raw_data = []\n",
        "\n",
        "    for letter in s:\n",
        "        if letter in check:\n",
        "            check[letter] += 1\n",
        "        else:\n",
        "            check[letter] = 1\n",
        "\n",
        "    for key in check:\n",
        "        if check[key] == 1:\n",
        "            raw_data.append(key)\n",
        "\n",
        "    raw_data.sort()\n",
        "\n",
        "    for i in raw_data:\n",
        "        answer += i\n",
        "\n",
        "    return answer"
      ],
      "metadata": {
        "id": "isgnd6YOCsQK"
      },
      "execution_count": null,
      "outputs": []
    }
  ]
}