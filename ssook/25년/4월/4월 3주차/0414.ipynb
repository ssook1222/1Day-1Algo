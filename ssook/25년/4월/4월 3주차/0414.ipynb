{
  "nbformat": 4,
  "nbformat_minor": 0,
  "metadata": {
    "colab": {
      "provenance": [],
      "authorship_tag": "ABX9TyM1WBzsNoDQXqBRpnlmB99F",
      "include_colab_link": true
    },
    "kernelspec": {
      "name": "python3",
      "display_name": "Python 3"
    },
    "language_info": {
      "name": "python"
    }
  },
  "cells": [
    {
      "cell_type": "markdown",
      "metadata": {
        "id": "view-in-github",
        "colab_type": "text"
      },
      "source": [
        "<a href=\"https://colab.research.google.com/github/ssook1222/1Day-1Algo/blob/master/ssook/25%EB%85%84/4%EC%9B%94/4%EC%9B%94%203%EC%A3%BC%EC%B0%A8/0414.ipynb\" target=\"_parent\"><img src=\"https://colab.research.google.com/assets/colab-badge.svg\" alt=\"Open In Colab\"/></a>"
      ]
    },
    {
      "cell_type": "markdown",
      "source": [
        "## BoJ"
      ],
      "metadata": {
        "id": "2FHc_02zCn0B"
      }
    },
    {
      "cell_type": "markdown",
      "source": [
        "### 1612"
      ],
      "metadata": {
        "id": "hFSOWapMCpb1"
      }
    },
    {
      "cell_type": "code",
      "source": [
        "import sys\n",
        "\n",
        "input = sys.stdin.readline\n",
        "N = int(input())\n",
        "\n",
        "if N == 1:\n",
        "    print(1)\n",
        "elif N % 2 == 0 or N % 5 == 0:\n",
        "    print(-1)\n",
        "else:\n",
        "    monkey_number = 1  # 1로만 이루어진 수를 표현\n",
        "    digit_count = 1  # 자릿수\n",
        "    while monkey_number % N != 0:\n",
        "        monkey_number = (monkey_number * 10 + 1) % N  # 새로운 1을 추가\n",
        "        digit_count += 1\n",
        "    print(digit_count)"
      ],
      "metadata": {
        "id": "3VyV0Ls4CqAL"
      },
      "execution_count": null,
      "outputs": []
    },
    {
      "cell_type": "markdown",
      "source": [
        "## Programmers"
      ],
      "metadata": {
        "id": "L28ujC13CqXS"
      }
    },
    {
      "cell_type": "markdown",
      "source": [
        "### 배열의 평균값"
      ],
      "metadata": {
        "id": "-pBAhKmlCrqZ"
      }
    },
    {
      "cell_type": "code",
      "source": [
        "def solution(numbers):\n",
        "    answer = sum(numbers) / len(numbers)\n",
        "\n",
        "    return answer"
      ],
      "metadata": {
        "id": "isgnd6YOCsQK"
      },
      "execution_count": null,
      "outputs": []
    }
  ]
}