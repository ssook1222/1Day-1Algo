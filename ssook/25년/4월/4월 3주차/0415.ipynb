{
  "nbformat": 4,
  "nbformat_minor": 0,
  "metadata": {
    "colab": {
      "provenance": [],
      "authorship_tag": "ABX9TyNDPmRr1MCwwYl1P214iJ9d",
      "include_colab_link": true
    },
    "kernelspec": {
      "name": "python3",
      "display_name": "Python 3"
    },
    "language_info": {
      "name": "python"
    }
  },
  "cells": [
    {
      "cell_type": "markdown",
      "metadata": {
        "id": "view-in-github",
        "colab_type": "text"
      },
      "source": [
        "<a href=\"https://colab.research.google.com/github/ssook1222/1Day-1Algo/blob/master/ssook/25%EB%85%84/4%EC%9B%94/4%EC%9B%94%203%EC%A3%BC%EC%B0%A8/0415.ipynb\" target=\"_parent\"><img src=\"https://colab.research.google.com/assets/colab-badge.svg\" alt=\"Open In Colab\"/></a>"
      ]
    },
    {
      "cell_type": "markdown",
      "source": [
        "## BoJ"
      ],
      "metadata": {
        "id": "2FHc_02zCn0B"
      }
    },
    {
      "cell_type": "markdown",
      "source": [
        "### 27211"
      ],
      "metadata": {
        "id": "hFSOWapMCpb1"
      }
    },
    {
      "cell_type": "code",
      "source": [
        "import sys\n",
        "\n",
        "input = sys.stdin.readline\n",
        "N, M = map(int, input().split())\n",
        "planet_map = [list(map(int, input().split())) for _ in range(N)]\n",
        "\n",
        "dx, dy = [0, 0, -1, 1], [-1, 1, 0, 0]\n",
        "region_count = 0\n",
        "\n",
        "for i in range(N):\n",
        "    for j in range(M):\n",
        "        if planet_map[i][j]:\n",
        "            continue\n",
        "\n",
        "        region_count += 1\n",
        "        stack = [[i, j]]\n",
        "\n",
        "        while stack:\n",
        "            x, y = stack.pop()\n",
        "\n",
        "            for n in range(4):\n",
        "                nx = (x + dx[n]) % N\n",
        "                ny = (y + dy[n]) % M\n",
        "\n",
        "                if not planet_map[nx][ny]:\n",
        "                    stack.append([nx, ny])\n",
        "                    planet_map[nx][ny] = 1\n",
        "\n",
        "print(region_count)"
      ],
      "metadata": {
        "id": "3VyV0Ls4CqAL"
      },
      "execution_count": null,
      "outputs": []
    },
    {
      "cell_type": "markdown",
      "source": [
        "## Programmers"
      ],
      "metadata": {
        "id": "L28ujC13CqXS"
      }
    },
    {
      "cell_type": "markdown",
      "source": [
        "### 세균 증식"
      ],
      "metadata": {
        "id": "-pBAhKmlCrqZ"
      }
    },
    {
      "cell_type": "code",
      "source": [
        "def solution(n, t):\n",
        "    for i in range(t):\n",
        "        n *= 2\n",
        "    return n"
      ],
      "metadata": {
        "id": "isgnd6YOCsQK"
      },
      "execution_count": null,
      "outputs": []
    }
  ]
}