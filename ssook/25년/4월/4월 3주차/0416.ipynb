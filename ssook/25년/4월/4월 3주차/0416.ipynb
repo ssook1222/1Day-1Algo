{
  "nbformat": 4,
  "nbformat_minor": 0,
  "metadata": {
    "colab": {
      "provenance": [],
      "authorship_tag": "ABX9TyM4BmToWUjVMgcMRC9QMqs0",
      "include_colab_link": true
    },
    "kernelspec": {
      "name": "python3",
      "display_name": "Python 3"
    },
    "language_info": {
      "name": "python"
    }
  },
  "cells": [
    {
      "cell_type": "markdown",
      "metadata": {
        "id": "view-in-github",
        "colab_type": "text"
      },
      "source": [
        "<a href=\"https://colab.research.google.com/github/ssook1222/1Day-1Algo/blob/master/ssook/25%EB%85%84/4%EC%9B%94/4%EC%9B%94%203%EC%A3%BC%EC%B0%A8/0416.ipynb\" target=\"_parent\"><img src=\"https://colab.research.google.com/assets/colab-badge.svg\" alt=\"Open In Colab\"/></a>"
      ]
    },
    {
      "cell_type": "markdown",
      "source": [
        "## BoJ"
      ],
      "metadata": {
        "id": "2FHc_02zCn0B"
      }
    },
    {
      "cell_type": "markdown",
      "source": [
        "### 9011"
      ],
      "metadata": {
        "id": "hFSOWapMCpb1"
      }
    },
    {
      "cell_type": "code",
      "source": [
        "import sys\n",
        "input = sys.stdin.readline\n",
        "def reconstruct_sequence(n, r):\n",
        "    s = [0] * n\n",
        "    available_numbers = list(range(1, n + 1))\n",
        "\n",
        "    for i in range(n - 1, -1, -1):\n",
        "        smaller_count = r[i]\n",
        "        if smaller_count >= len(available_numbers):\n",
        "            return False\n",
        "        s[i] = available_numbers[smaller_count]\n",
        "        available_numbers.pop(smaller_count)\n",
        "\n",
        "    return s\n",
        "\n",
        "for _ in range(int(input())):\n",
        "    if sequence := reconstruct_sequence(int(input()), list(map(int, input().split()))):\n",
        "        print(*sequence)\n",
        "    else:\n",
        "        print(\"IMPOSSIBLE\")"
      ],
      "metadata": {
        "id": "3VyV0Ls4CqAL"
      },
      "execution_count": null,
      "outputs": []
    },
    {
      "cell_type": "markdown",
      "source": [
        "## Programmers"
      ],
      "metadata": {
        "id": "L28ujC13CqXS"
      }
    },
    {
      "cell_type": "markdown",
      "source": [
        "### 문자열 안에 문자열"
      ],
      "metadata": {
        "id": "-pBAhKmlCrqZ"
      }
    },
    {
      "cell_type": "code",
      "source": [
        "def solution(str1, str2):\n",
        "    if str2 in str1:\n",
        "        return 1\n",
        "    else:\n",
        "        return 2"
      ],
      "metadata": {
        "id": "isgnd6YOCsQK"
      },
      "execution_count": null,
      "outputs": []
    }
  ]
}