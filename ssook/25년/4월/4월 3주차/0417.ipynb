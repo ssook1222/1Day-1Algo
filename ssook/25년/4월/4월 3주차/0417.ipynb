{
  "nbformat": 4,
  "nbformat_minor": 0,
  "metadata": {
    "colab": {
      "provenance": [],
      "authorship_tag": "ABX9TyOioMZv3fKd86HcLebPP4RK",
      "include_colab_link": true
    },
    "kernelspec": {
      "name": "python3",
      "display_name": "Python 3"
    },
    "language_info": {
      "name": "python"
    }
  },
  "cells": [
    {
      "cell_type": "markdown",
      "metadata": {
        "id": "view-in-github",
        "colab_type": "text"
      },
      "source": [
        "<a href=\"https://colab.research.google.com/github/ssook1222/1Day-1Algo/blob/master/ssook/25%EB%85%84/4%EC%9B%94/4%EC%9B%94%203%EC%A3%BC%EC%B0%A8/0417.ipynb\" target=\"_parent\"><img src=\"https://colab.research.google.com/assets/colab-badge.svg\" alt=\"Open In Colab\"/></a>"
      ]
    },
    {
      "cell_type": "markdown",
      "source": [
        "## BoJ"
      ],
      "metadata": {
        "id": "2FHc_02zCn0B"
      }
    },
    {
      "cell_type": "markdown",
      "source": [
        "### 20168"
      ],
      "metadata": {
        "id": "hFSOWapMCpb1"
      }
    },
    {
      "cell_type": "code",
      "source": [
        "import heapq\n",
        "\n",
        "def find_min_shame(start):\n",
        "    global min_shame\n",
        "    h = []\n",
        "    heapq.heappush(h, [0, 0, start])\n",
        "    while h:\n",
        "        max_fee, total_fee, current = heapq.heappop(h)\n",
        "        if total_fee > money:\n",
        "            continue\n",
        "        for neighbor in city_map[current]:\n",
        "            fee = total_fee + neighbor[1]\n",
        "            if fee > money or visited[current][neighbor[0]]:\n",
        "                continue\n",
        "            elif neighbor[0] == destination:\n",
        "                min_shame = min(min_shame, max(max_fee, neighbor[1]))\n",
        "            visited[current][neighbor[0]] = True\n",
        "            heapq.heappush(h, [max(max_fee, neighbor[1]), fee, neighbor[0]])\n",
        "\n",
        "intersections, alleys, start, destination, money = map(int, input().split())\n",
        "city_map = [[] for _ in range(intersections + 1)]\n",
        "visited = [[False for _ in range(intersections + 1)] for _ in range(intersections + 1)]\n",
        "for _ in range(alleys):\n",
        "    a, b, fee = map(int, input().split())\n",
        "    city_map[a].append([b, fee])\n",
        "    city_map[b].append([a, fee])\n",
        "INF = int(1e9)\n",
        "min_shame = INF\n",
        "find_min_shame(start)\n",
        "if min_shame != INF:\n",
        "    print(min_shame)\n",
        "else:\n",
        "    print(-1)"
      ],
      "metadata": {
        "id": "3VyV0Ls4CqAL"
      },
      "execution_count": null,
      "outputs": []
    },
    {
      "cell_type": "markdown",
      "source": [
        "## Programmers"
      ],
      "metadata": {
        "id": "L28ujC13CqXS"
      }
    },
    {
      "cell_type": "markdown",
      "source": [
        "### 특정 문자 제거하기"
      ],
      "metadata": {
        "id": "-pBAhKmlCrqZ"
      }
    },
    {
      "cell_type": "code",
      "source": [
        "def solution(my_string, letter):\n",
        "    answer = ''\n",
        "\n",
        "    for i in range(len(my_string)):\n",
        "        if my_string[i] != letter:\n",
        "            answer += my_string[i]\n",
        "\n",
        "    return answer"
      ],
      "metadata": {
        "id": "isgnd6YOCsQK"
      },
      "execution_count": null,
      "outputs": []
    }
  ]
}