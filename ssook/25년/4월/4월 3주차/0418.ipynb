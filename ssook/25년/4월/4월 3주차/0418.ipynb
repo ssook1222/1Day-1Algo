{
  "nbformat": 4,
  "nbformat_minor": 0,
  "metadata": {
    "colab": {
      "provenance": [],
      "authorship_tag": "ABX9TyOAKHGN2p+PPgpk3mr6Tv+7",
      "include_colab_link": true
    },
    "kernelspec": {
      "name": "python3",
      "display_name": "Python 3"
    },
    "language_info": {
      "name": "python"
    }
  },
  "cells": [
    {
      "cell_type": "markdown",
      "metadata": {
        "id": "view-in-github",
        "colab_type": "text"
      },
      "source": [
        "<a href=\"https://colab.research.google.com/github/ssook1222/1Day-1Algo/blob/master/ssook/25%EB%85%84/4%EC%9B%94/4%EC%9B%94%203%EC%A3%BC%EC%B0%A8/0418.ipynb\" target=\"_parent\"><img src=\"https://colab.research.google.com/assets/colab-badge.svg\" alt=\"Open In Colab\"/></a>"
      ]
    },
    {
      "cell_type": "markdown",
      "source": [
        "## BoJ"
      ],
      "metadata": {
        "id": "2FHc_02zCn0B"
      }
    },
    {
      "cell_type": "markdown",
      "source": [
        "### 15748"
      ],
      "metadata": {
        "id": "hFSOWapMCpb1"
      }
    },
    {
      "cell_type": "code",
      "source": [
        "import sys\n",
        "\n",
        "# Read input values\n",
        "trail_length, num_stops, john_speed, bessie_speed = map(int, sys.stdin.readline().split())\n",
        "rest_stops = [list(map(int, sys.stdin.readline().split())) for _ in range(num_stops)]\n",
        "\n",
        "total_tastiness = 0\n",
        "max_position = 0\n",
        "\n",
        "# Sort rest stops by tastiness in descending order\n",
        "for position, tastiness in sorted(rest_stops, key=lambda x: x[1], reverse=True):\n",
        "    if position < max_position:\n",
        "        continue\n",
        "\n",
        "    time_available = (position - max_position) * (john_speed - bessie_speed)\n",
        "    total_tastiness += time_available * tastiness\n",
        "    max_position = position\n",
        "\n",
        "print(total_tastiness)"
      ],
      "metadata": {
        "id": "3VyV0Ls4CqAL"
      },
      "execution_count": null,
      "outputs": []
    },
    {
      "cell_type": "markdown",
      "source": [
        "## Programmers"
      ],
      "metadata": {
        "id": "L28ujC13CqXS"
      }
    },
    {
      "cell_type": "markdown",
      "source": [
        "### 문자 반복 출력하기"
      ],
      "metadata": {
        "id": "-pBAhKmlCrqZ"
      }
    },
    {
      "cell_type": "code",
      "source": [
        "def solution(my_string, n):\n",
        "    answer = ''\n",
        "\n",
        "    for i in my_string:\n",
        "        answer += i*n\n",
        "\n",
        "    return answer"
      ],
      "metadata": {
        "id": "isgnd6YOCsQK"
      },
      "execution_count": null,
      "outputs": []
    }
  ]
}