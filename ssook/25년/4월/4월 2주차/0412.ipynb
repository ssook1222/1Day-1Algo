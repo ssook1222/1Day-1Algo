{
  "nbformat": 4,
  "nbformat_minor": 0,
  "metadata": {
    "colab": {
      "provenance": [],
      "authorship_tag": "ABX9TyOMsECEBUmafn92TSF4Vg/G",
      "include_colab_link": true
    },
    "kernelspec": {
      "name": "python3",
      "display_name": "Python 3"
    },
    "language_info": {
      "name": "python"
    }
  },
  "cells": [
    {
      "cell_type": "markdown",
      "metadata": {
        "id": "view-in-github",
        "colab_type": "text"
      },
      "source": [
        "<a href=\"https://colab.research.google.com/github/ssook1222/1Day-1Algo/blob/master/ssook/25%EB%85%84/4%EC%9B%94/4%EC%9B%94%202%EC%A3%BC%EC%B0%A8/0412.ipynb\" target=\"_parent\"><img src=\"https://colab.research.google.com/assets/colab-badge.svg\" alt=\"Open In Colab\"/></a>"
      ]
    },
    {
      "cell_type": "markdown",
      "source": [
        "## BoJ"
      ],
      "metadata": {
        "id": "T9GL1nASCO2N"
      }
    },
    {
      "cell_type": "markdown",
      "source": [
        "### 3985"
      ],
      "metadata": {
        "id": "HDbqBgEpCPvt"
      }
    },
    {
      "cell_type": "code",
      "source": [
        "# 입력 받기\n",
        "L = int(input())  # 케이크 길이\n",
        "N = int(input())  # 방청객 수\n",
        "\n",
        "arr = [0 for _ in range(L + 1)]  # 케이크 조각에 각 방청객 번호를 기록할 배열\n",
        "expected_max = 0  # 예상대로 가장 많은 조각을 받을 방청객 번호\n",
        "expected_max_count = 0  # 예상대로 받은 조각 수\n",
        "actual_max = 0  # 실제로 가장 많은 조각을 받은 방청객 번호\n",
        "actual_max_count = 0  # 실제 받은 조각 수\n",
        "\n",
        "# 방청객들의 요청을 처리\n",
        "for guest in range(N):\n",
        "    P, K = map(int, input().split())  # P부터 K까지의 조각을 원하는 방청객\n",
        "    # 예상대로 가장 많은 조각을 받을 방청객 계산\n",
        "    if K - P > expected_max_count:  # 요청 범위가 가장 큰 경우\n",
        "        expected_max = guest + 1\n",
        "        expected_max_count = K - P\n",
        "\n",
        "    # 실제로 받을 수 있는 케이크 조각 수 계산\n",
        "    count = 0\n",
        "    for i in range(P, K + 1):\n",
        "        if arr[i] == 0:  # 해당 조각이 아직 배분되지 않았으면\n",
        "            arr[i] = guest + 1  # 방청객 번호를 기록\n",
        "            count += 1  # 받은 조각 수 증가\n",
        "\n",
        "    # 실제로 가장 많은 조각을 받은 방청객 계산\n",
        "    if count > actual_max_count:\n",
        "        actual_max = guest + 1\n",
        "        actual_max_count = count\n",
        "\n",
        "# 결과 출력\n",
        "print(expected_max)  # 예상대로 가장 많은 조각을 받을 방청객 번호\n",
        "print(actual_max)  # 실제로 가장 많은 조각을 받은 방청객 번호"
      ],
      "metadata": {
        "id": "96CxrR4VCUBL"
      },
      "execution_count": null,
      "outputs": []
    },
    {
      "cell_type": "markdown",
      "source": [
        "## Programmers"
      ],
      "metadata": {
        "id": "lh9-vTmbCVX1"
      }
    },
    {
      "cell_type": "markdown",
      "source": [
        "### I로 만들기"
      ],
      "metadata": {
        "id": "zO1W-ZNHCW8d"
      }
    },
    {
      "cell_type": "code",
      "source": [
        "def solution(myString):\n",
        "    answer = ''\n",
        "\n",
        "    for i in myString:\n",
        "        if ord(i) < ord('l'):\n",
        "            answer += 'l'\n",
        "        else:\n",
        "            answer += i\n",
        "\n",
        "    return answer"
      ],
      "metadata": {
        "id": "r-du6_BiCXzJ"
      },
      "execution_count": null,
      "outputs": []
    }
  ]
}