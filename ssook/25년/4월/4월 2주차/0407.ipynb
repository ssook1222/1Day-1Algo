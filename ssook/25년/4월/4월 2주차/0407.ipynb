{
  "nbformat": 4,
  "nbformat_minor": 0,
  "metadata": {
    "colab": {
      "provenance": [],
      "authorship_tag": "ABX9TyPrnOrUiDCsv6y1YMZlfYuN",
      "include_colab_link": true
    },
    "kernelspec": {
      "name": "python3",
      "display_name": "Python 3"
    },
    "language_info": {
      "name": "python"
    }
  },
  "cells": [
    {
      "cell_type": "markdown",
      "metadata": {
        "id": "view-in-github",
        "colab_type": "text"
      },
      "source": [
        "<a href=\"https://colab.research.google.com/github/ssook1222/1Day-1Algo/blob/master/ssook/25%EB%85%84/4%EC%9B%94/4%EC%9B%94%202%EC%A3%BC%EC%B0%A8/0407.ipynb\" target=\"_parent\"><img src=\"https://colab.research.google.com/assets/colab-badge.svg\" alt=\"Open In Colab\"/></a>"
      ]
    },
    {
      "cell_type": "markdown",
      "source": [
        "## BoJ"
      ],
      "metadata": {
        "id": "T9GL1nASCO2N"
      }
    },
    {
      "cell_type": "markdown",
      "source": [
        "### 11005"
      ],
      "metadata": {
        "id": "HDbqBgEpCPvt"
      }
    },
    {
      "cell_type": "code",
      "source": [
        "def convert_to_base(N, B):\n",
        "    digits = \"0123456789ABCDEFGHIJKLMNOPQRSTUVWXYZ\"\n",
        "\n",
        "    result = []\n",
        "    while N > 0:\n",
        "        N //= B\n",
        "    return ''.join(result[::-1])\n",
        "\n",
        "N, B = map(int, input().split())\n",
        "\n",
        "print(convert_to_base(N, B))"
      ],
      "metadata": {
        "id": "96CxrR4VCUBL"
      },
      "execution_count": null,
      "outputs": []
    },
    {
      "cell_type": "markdown",
      "source": [
        "## Programmers"
      ],
      "metadata": {
        "id": "lh9-vTmbCVX1"
      }
    },
    {
      "cell_type": "markdown",
      "source": [
        "### K번째 수"
      ],
      "metadata": {
        "id": "zO1W-ZNHCW8d"
      }
    },
    {
      "cell_type": "code",
      "source": [
        "def solution(array, commands):\n",
        "    answer = []\n",
        "\n",
        "    for command in commands:\n",
        "        temp = []\n",
        "\n",
        "        i = command[0]\n",
        "        j = command[1]\n",
        "        k = command[2]\n",
        "\n",
        "        temp = array[i-1:j]\n",
        "        temp.sort()\n",
        "\n",
        "        answer.append(temp[k-1])\n",
        "\n",
        "    return answer"
      ],
      "metadata": {
        "id": "r-du6_BiCXzJ"
      },
      "execution_count": null,
      "outputs": []
    }
  ]
}