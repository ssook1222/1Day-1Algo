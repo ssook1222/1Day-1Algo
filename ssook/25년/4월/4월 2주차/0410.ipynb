{
  "nbformat": 4,
  "nbformat_minor": 0,
  "metadata": {
    "colab": {
      "provenance": [],
      "authorship_tag": "ABX9TyPE0LvWVKRBTn5TUmX1aX9Y",
      "include_colab_link": true
    },
    "kernelspec": {
      "name": "python3",
      "display_name": "Python 3"
    },
    "language_info": {
      "name": "python"
    }
  },
  "cells": [
    {
      "cell_type": "markdown",
      "metadata": {
        "id": "view-in-github",
        "colab_type": "text"
      },
      "source": [
        "<a href=\"https://colab.research.google.com/github/ssook1222/1Day-1Algo/blob/master/ssook/25%EB%85%84/4%EC%9B%94/4%EC%9B%94%202%EC%A3%BC%EC%B0%A8/0410.ipynb\" target=\"_parent\"><img src=\"https://colab.research.google.com/assets/colab-badge.svg\" alt=\"Open In Colab\"/></a>"
      ]
    },
    {
      "cell_type": "markdown",
      "source": [
        "## BoJ"
      ],
      "metadata": {
        "id": "T9GL1nASCO2N"
      }
    },
    {
      "cell_type": "markdown",
      "source": [
        "### 4796"
      ],
      "metadata": {
        "id": "HDbqBgEpCPvt"
      }
    },
    {
      "cell_type": "code",
      "source": [
        "case_num = 0\n",
        "\n",
        "while True:\n",
        "    case_num += 1\n",
        "    max_camping_days, period, total_vacation_days = map(int, input().split())\n",
        "\n",
        "    if max_camping_days == 0 and period == 0 and total_vacation_days == 0:\n",
        "        break\n",
        "\n",
        "    full_periods = total_vacation_days // period\n",
        "    remaining_days = total_vacation_days % period\n",
        "\n",
        "    if max_camping_days < remaining_days:\n",
        "        remaining_days = max_camping_days\n",
        "\n",
        "    print(\"Case %d: %d\" % (case_num, full_periods * max_camping_days + remaining_days))\n"
      ],
      "metadata": {
        "id": "96CxrR4VCUBL"
      },
      "execution_count": null,
      "outputs": []
    },
    {
      "cell_type": "markdown",
      "source": [
        "## Programmers"
      ],
      "metadata": {
        "id": "lh9-vTmbCVX1"
      }
    },
    {
      "cell_type": "markdown",
      "source": [
        "### 모의고사"
      ],
      "metadata": {
        "id": "zO1W-ZNHCW8d"
      }
    },
    {
      "cell_type": "code",
      "source": [
        "def solution(answers):\n",
        "    pattern_1 = [1, 2, 3, 4, 5]\n",
        "    pattern_2 = [2, 1, 2, 3, 2, 4, 2, 5]\n",
        "    pattern_3 = [3, 3, 1, 1, 2, 2, 4, 4, 5, 5]\n",
        "\n",
        "    count_1, count_2, count_3 = 0, 0, 0\n",
        "\n",
        "    for i in range(len(answers)):\n",
        "        if answers[i] == pattern_1[i % len(pattern_1)]:\n",
        "            count_1 += 1\n",
        "        if answers[i] == pattern_2[i % len(pattern_2)]:\n",
        "            count_2 += 1\n",
        "        if answers[i] == pattern_3[i % len(pattern_3)]:\n",
        "            count_3 += 1\n",
        "\n",
        "    max_count = max(count_1, count_2, count_3)\n",
        "\n",
        "    winners = []\n",
        "    if count_1 == max_count:\n",
        "        winners.append(1)\n",
        "    if count_2 == max_count:\n",
        "        winners.append(2)\n",
        "    if count_3 == max_count:\n",
        "        winners.append(3)\n",
        "\n",
        "    return winners"
      ],
      "metadata": {
        "id": "r-du6_BiCXzJ"
      },
      "execution_count": null,
      "outputs": []
    }
  ]
}