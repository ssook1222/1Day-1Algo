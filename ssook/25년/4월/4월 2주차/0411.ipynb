{
  "nbformat": 4,
  "nbformat_minor": 0,
  "metadata": {
    "colab": {
      "provenance": [],
      "authorship_tag": "ABX9TyMq3/VhcgHNQsG496AsNE11",
      "include_colab_link": true
    },
    "kernelspec": {
      "name": "python3",
      "display_name": "Python 3"
    },
    "language_info": {
      "name": "python"
    }
  },
  "cells": [
    {
      "cell_type": "markdown",
      "metadata": {
        "id": "view-in-github",
        "colab_type": "text"
      },
      "source": [
        "<a href=\"https://colab.research.google.com/github/ssook1222/1Day-1Algo/blob/master/ssook/25%EB%85%84/4%EC%9B%94/4%EC%9B%94%202%EC%A3%BC%EC%B0%A8/0411.ipynb\" target=\"_parent\"><img src=\"https://colab.research.google.com/assets/colab-badge.svg\" alt=\"Open In Colab\"/></a>"
      ]
    },
    {
      "cell_type": "markdown",
      "source": [
        "## BoJ"
      ],
      "metadata": {
        "id": "T9GL1nASCO2N"
      }
    },
    {
      "cell_type": "markdown",
      "source": [
        "### 2526"
      ],
      "metadata": {
        "id": "HDbqBgEpCPvt"
      }
    },
    {
      "cell_type": "code",
      "source": [
        "a, b = map(int, input().split())\n",
        "\n",
        "result = []  # 반복되는 숫자 저장할 리스트\n",
        "current_value = a  # 초기값 a를 저장하고, 나머지 값을 계산할 변수\n",
        "\n",
        "while True:  # 반복문으로 조건을 맞을 때까지 실행\n",
        "    current_value = (current_value * a) % b\n",
        "    if current_value in result:\n",
        "        print(len(result) - result.index(current_value))  # 반복되는 수가 등장하면 반복 길이 출력\n",
        "        break\n",
        "    result.append(current_value)"
      ],
      "metadata": {
        "id": "96CxrR4VCUBL"
      },
      "execution_count": null,
      "outputs": []
    },
    {
      "cell_type": "markdown",
      "source": [
        "## Programmers"
      ],
      "metadata": {
        "id": "lh9-vTmbCVX1"
      }
    },
    {
      "cell_type": "markdown",
      "source": [
        "### 카펫"
      ],
      "metadata": {
        "id": "zO1W-ZNHCW8d"
      }
    },
    {
      "cell_type": "code",
      "source": [
        "def solution(brown, yellow):\n",
        "    area = brown + yellow\n",
        "    divide = 1\n",
        "    divide_num = []\n",
        "    answer = []\n",
        "\n",
        "    while divide <= area :\n",
        "        if area % divide == 0:\n",
        "            divide_num.append(divide)\n",
        "            divide = divide + 1\n",
        "        else:\n",
        "            divide = divide + 1\n",
        "\n",
        "    divide_num.sort(reverse = True)\n",
        "\n",
        "    for i in range(len(divide_num)):\n",
        "        #divide_num이 세로, mok이 가로\n",
        "        #1줄은 반드시 노란색임.\n",
        "        #그래서 전체 가로에서 2칸 빼고, 전체 세로에서 2칸 뺀 것을 곱한 것이 노란색 칸 수랑 같아야 됨\n",
        "        mok = area // divide_num[i]\n",
        "        if (mok-2)*(divide_num[i]-2)==yellow and mok >= divide_num[i]:\n",
        "            answer = [mok, divide_num[i]]\n",
        "\n",
        "    return answer"
      ],
      "metadata": {
        "id": "r-du6_BiCXzJ"
      },
      "execution_count": null,
      "outputs": []
    }
  ]
}