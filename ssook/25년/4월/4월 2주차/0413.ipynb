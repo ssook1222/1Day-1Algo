{
  "nbformat": 4,
  "nbformat_minor": 0,
  "metadata": {
    "colab": {
      "provenance": [],
      "authorship_tag": "ABX9TyOstNDjBYZ2MBWS1C2WOvN1",
      "include_colab_link": true
    },
    "kernelspec": {
      "name": "python3",
      "display_name": "Python 3"
    },
    "language_info": {
      "name": "python"
    }
  },
  "cells": [
    {
      "cell_type": "markdown",
      "metadata": {
        "id": "view-in-github",
        "colab_type": "text"
      },
      "source": [
        "<a href=\"https://colab.research.google.com/github/ssook1222/1Day-1Algo/blob/master/ssook/25%EB%85%84/4%EC%9B%94/4%EC%9B%94%202%EC%A3%BC%EC%B0%A8/0413.ipynb\" target=\"_parent\"><img src=\"https://colab.research.google.com/assets/colab-badge.svg\" alt=\"Open In Colab\"/></a>"
      ]
    },
    {
      "cell_type": "markdown",
      "source": [
        "## BoJ"
      ],
      "metadata": {
        "id": "T9GL1nASCO2N"
      }
    },
    {
      "cell_type": "markdown",
      "source": [
        "### 10163"
      ],
      "metadata": {
        "id": "HDbqBgEpCPvt"
      }
    },
    {
      "cell_type": "code",
      "source": [
        "canvas = [[0 for _ in range(1001)] for _ in range(1001)]  # grid를 canvas로 변경\n",
        "num_of_papers = int(input())  # num_of_papers 그대로\n",
        "\n",
        "# 색종이 위치 입력 및 표시\n",
        "for paper in range(1, num_of_papers + 1):\n",
        "    x_start, y_start, width, height = map(int, input().split())  # p_x, p_y, width, height를 x_start, y_start로 변경\n",
        "    for y in range(y_start, y_start + height):  # y 범위 변경\n",
        "        canvas[y][x_start:(x_start + width)] = [paper] * width  # 색종이의 번호 기록\n",
        "\n",
        "# 각 색종이별로 보이는 면적 계산\n",
        "for paper in range(1, num_of_papers + 1):\n",
        "    visible_area = 0  # result를 visible_area로 변경\n",
        "    for row in range(1001):  # cnt를 row로 변경\n",
        "        visible_area += canvas[row].count(paper)  # 해당 색종이의 면적을 구하기\n",
        "    print(visible_area)"
      ],
      "metadata": {
        "id": "96CxrR4VCUBL"
      },
      "execution_count": null,
      "outputs": []
    },
    {
      "cell_type": "markdown",
      "source": [
        "## Programmers"
      ],
      "metadata": {
        "id": "lh9-vTmbCVX1"
      }
    },
    {
      "cell_type": "markdown",
      "source": [
        "### 커피심부름"
      ],
      "metadata": {
        "id": "zO1W-ZNHCW8d"
      }
    },
    {
      "cell_type": "code",
      "source": [
        "def solution(order):\n",
        "    answer = 0\n",
        "\n",
        "    for i in order:\n",
        "        if i == 'iceamericano' or i == 'americanoice' or i == 'americano' or i == 'anything':\n",
        "            answer += 4500\n",
        "\n",
        "        if i == 'hotamericano' or i == 'americanohot':\n",
        "            answer += 4500\n",
        "\n",
        "        if i == 'icecafelatte' or i == 'cafelatteice' or i == 'cafelatte':\n",
        "            answer += 5000\n",
        "\n",
        "        if i == 'hotcafelatte' or i == 'cafelattehot':\n",
        "            answer += 5000\n",
        "\n",
        "\n",
        "\n",
        "    return answer"
      ],
      "metadata": {
        "id": "r-du6_BiCXzJ"
      },
      "execution_count": null,
      "outputs": []
    }
  ]
}