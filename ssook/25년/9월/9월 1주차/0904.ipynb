{
  "nbformat": 4,
  "nbformat_minor": 0,
  "metadata": {
    "colab": {
      "provenance": [],
      "authorship_tag": "ABX9TyO8Th0Eec21PSOpwCx5ikrF",
      "include_colab_link": true
    },
    "kernelspec": {
      "name": "python3",
      "display_name": "Python 3"
    },
    "language_info": {
      "name": "python"
    }
  },
  "cells": [
    {
      "cell_type": "markdown",
      "metadata": {
        "id": "view-in-github",
        "colab_type": "text"
      },
      "source": [
        "<a href=\"https://colab.research.google.com/github/ssook1222/1Day-1Algo/blob/master/ssook/25%EB%85%84/9%EC%9B%94/9%EC%9B%94%201%EC%A3%BC%EC%B0%A8/0904.ipynb\" target=\"_parent\"><img src=\"https://colab.research.google.com/assets/colab-badge.svg\" alt=\"Open In Colab\"/></a>"
      ]
    },
    {
      "cell_type": "markdown",
      "source": [
        "## BoJ"
      ],
      "metadata": {
        "id": "OpAznrAt9piw"
      }
    },
    {
      "cell_type": "markdown",
      "source": [
        "### 32500"
      ],
      "metadata": {
        "id": "hBeQs2rp9riH"
      }
    },
    {
      "cell_type": "code",
      "execution_count": null,
      "metadata": {
        "id": "yRxsWbKh9gaf"
      },
      "outputs": [],
      "source": [
        "# n 입력\n",
        "n = int(input())\n",
        "\n",
        "# 각 숫자의 출현 횟수를 세기 위한 딕셔너리\n",
        "count = {}\n",
        "\n",
        "# 10*n번의 추첨 결과 처리\n",
        "for _ in range(10 * n):\n",
        "    numbers = list(map(int, input().split()))\n",
        "\n",
        "    # 각 숫자의 출현 횟수 카운트\n",
        "    for num in numbers:\n",
        "        count[num] = count.get(num, 0) + 1\n",
        "\n",
        "# 의심스러운 숫자들 찾기 (2*n번 초과)\n",
        "suspicious = []\n",
        "threshold = 2 * n\n",
        "\n",
        "for num, freq in count.items():\n",
        "    if freq > threshold:\n",
        "        suspicious.append(num)\n",
        "\n",
        "# 결과 출력\n",
        "if suspicious:\n",
        "    suspicious.sort()  # 오름차순 정렬\n",
        "    print(' '.join(map(str, suspicious)))\n",
        "else:\n",
        "    print(-1)"
      ]
    }
  ]
}