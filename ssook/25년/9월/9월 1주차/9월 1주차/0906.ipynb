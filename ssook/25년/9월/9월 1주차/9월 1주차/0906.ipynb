{
  "nbformat": 4,
  "nbformat_minor": 0,
  "metadata": {
    "colab": {
      "provenance": [],
      "authorship_tag": "ABX9TyOWEXqwJbaJVeSxJRroykRY",
      "include_colab_link": true
    },
    "kernelspec": {
      "name": "python3",
      "display_name": "Python 3"
    },
    "language_info": {
      "name": "python"
    }
  },
  "cells": [
    {
      "cell_type": "markdown",
      "metadata": {
        "id": "view-in-github",
        "colab_type": "text"
      },
      "source": [
        "<a href=\"https://colab.research.google.com/github/ssook1222/1Day-1Algo/blob/master/ssook/25%EB%85%84/9%EC%9B%94/9%EC%9B%94%201%EC%A3%BC%EC%B0%A8/9%EC%9B%94%201%EC%A3%BC%EC%B0%A8/0906.ipynb\" target=\"_parent\"><img src=\"https://colab.research.google.com/assets/colab-badge.svg\" alt=\"Open In Colab\"/></a>"
      ]
    },
    {
      "cell_type": "markdown",
      "source": [
        "## BoJ"
      ],
      "metadata": {
        "id": "OpAznrAt9piw"
      }
    },
    {
      "cell_type": "markdown",
      "source": [
        "### 32364\n",
        "\n",
        "---\n",
        "\n",
        "pypy"
      ],
      "metadata": {
        "id": "hBeQs2rp9riH"
      }
    },
    {
      "cell_type": "code",
      "execution_count": null,
      "metadata": {
        "id": "yRxsWbKh9gaf"
      },
      "outputs": [],
      "source": [
        "def solve_circular_table():\n",
        "    # 입력 받기\n",
        "    N = int(input())\n",
        "    hats = []\n",
        "    for i in range(N):\n",
        "        hats.append(int(input()))\n",
        "\n",
        "    # 자신의 모자 번호와 같은 번호를 보는 사람의 수 계산\n",
        "    count = 0\n",
        "\n",
        "    for i in range(N):\n",
        "        # i번째 사람이 보는 사람의 인덱스 (0-indexed)\n",
        "        opposite_index = (i + N // 2) % N\n",
        "\n",
        "        # 자신의 모자 번호와 반대편 사람의 모자 번호가 같은지 확인\n",
        "        if hats[i] == hats[opposite_index]:\n",
        "            count += 1\n",
        "\n",
        "    return count\n",
        "\n",
        "# 실행\n",
        "result = solve_circular_table()\n",
        "print(result)"
      ]
    }
  ]
}