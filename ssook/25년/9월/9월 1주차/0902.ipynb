{
  "nbformat": 4,
  "nbformat_minor": 0,
  "metadata": {
    "colab": {
      "provenance": [],
      "authorship_tag": "ABX9TyN5Z/DWVCUMLB9qVg/Vx+Km",
      "include_colab_link": true
    },
    "kernelspec": {
      "name": "python3",
      "display_name": "Python 3"
    },
    "language_info": {
      "name": "python"
    }
  },
  "cells": [
    {
      "cell_type": "markdown",
      "metadata": {
        "id": "view-in-github",
        "colab_type": "text"
      },
      "source": [
        "<a href=\"https://colab.research.google.com/github/ssook1222/1Day-1Algo/blob/master/ssook/25%EB%85%84/9%EC%9B%94/9%EC%9B%94%201%EC%A3%BC%EC%B0%A8/0902.ipynb\" target=\"_parent\"><img src=\"https://colab.research.google.com/assets/colab-badge.svg\" alt=\"Open In Colab\"/></a>"
      ]
    },
    {
      "cell_type": "markdown",
      "source": [
        "## BoJ"
      ],
      "metadata": {
        "id": "OpAznrAt9piw"
      }
    },
    {
      "cell_type": "markdown",
      "source": [
        "### 32778"
      ],
      "metadata": {
        "id": "hBeQs2rp9riH"
      }
    },
    {
      "cell_type": "code",
      "execution_count": null,
      "metadata": {
        "id": "yRxsWbKh9gaf"
      },
      "outputs": [],
      "source": [
        "# 역 정보 입력\n",
        "station_info = input().strip()\n",
        "\n",
        "# 괄호가 있는지 확인\n",
        "if '(' in station_info and ')' in station_info:\n",
        "    # 괄호의 위치 찾기\n",
        "    open_pos = station_info.find('(')\n",
        "    close_pos = station_info.rfind(')')\n",
        "\n",
        "    # 역명 추출 (괄호 앞까지, 공백 제거)\n",
        "    station_name = station_info[:open_pos].strip()\n",
        "\n",
        "    # 부역명 추출 (괄호 안의 내용)\n",
        "    sub_station_name = station_info[open_pos+1:close_pos]\n",
        "\n",
        "    print(station_name)\n",
        "    print(sub_station_name)\n",
        "else:\n",
        "    # 부역명이 없는 경우\n",
        "    print(station_info)\n",
        "    print('-')"
      ]
    }
  ]
}