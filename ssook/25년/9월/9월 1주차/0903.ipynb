{
  "nbformat": 4,
  "nbformat_minor": 0,
  "metadata": {
    "colab": {
      "provenance": [],
      "authorship_tag": "ABX9TyPv134t1sz22Ip10mbcPPXO",
      "include_colab_link": true
    },
    "kernelspec": {
      "name": "python3",
      "display_name": "Python 3"
    },
    "language_info": {
      "name": "python"
    }
  },
  "cells": [
    {
      "cell_type": "markdown",
      "metadata": {
        "id": "view-in-github",
        "colab_type": "text"
      },
      "source": [
        "<a href=\"https://colab.research.google.com/github/ssook1222/1Day-1Algo/blob/master/ssook/25%EB%85%84/9%EC%9B%94/9%EC%9B%94%201%EC%A3%BC%EC%B0%A8/0903.ipynb\" target=\"_parent\"><img src=\"https://colab.research.google.com/assets/colab-badge.svg\" alt=\"Open In Colab\"/></a>"
      ]
    },
    {
      "cell_type": "markdown",
      "source": [
        "## BoJ"
      ],
      "metadata": {
        "id": "OpAznrAt9piw"
      }
    },
    {
      "cell_type": "markdown",
      "source": [
        "### 32585"
      ],
      "metadata": {
        "id": "hBeQs2rp9riH"
      }
    },
    {
      "cell_type": "code",
      "execution_count": null,
      "metadata": {
        "id": "yRxsWbKh9gaf"
      },
      "outputs": [],
      "source": [
        "# 한 모서리의 구 개수 입력\n",
        "n = int(input())\n",
        "\n",
        "# 사면체수 공식: n(n+1)(n+2)/6\n",
        "# 정사면체를 층별로 쌓을 때, k번째 층에는 k(k+1)/2개의 구가 있음\n",
        "# 전체 구의 개수는 1층부터 n층까지 삼각수의 합\n",
        "total_spheres = n * (n + 1) * (n + 2) // 6\n",
        "\n",
        "print(total_spheres)"
      ]
    }
  ]
}