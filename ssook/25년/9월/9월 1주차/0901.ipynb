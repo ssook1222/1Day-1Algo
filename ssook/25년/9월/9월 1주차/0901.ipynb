{
  "nbformat": 4,
  "nbformat_minor": 0,
  "metadata": {
    "colab": {
      "provenance": [],
      "authorship_tag": "ABX9TyMK46iHkfzUH5elx27mnfKr",
      "include_colab_link": true
    },
    "kernelspec": {
      "name": "python3",
      "display_name": "Python 3"
    },
    "language_info": {
      "name": "python"
    }
  },
  "cells": [
    {
      "cell_type": "markdown",
      "metadata": {
        "id": "view-in-github",
        "colab_type": "text"
      },
      "source": [
        "<a href=\"https://colab.research.google.com/github/ssook1222/1Day-1Algo/blob/master/ssook/25%EB%85%84/9%EC%9B%94/9%EC%9B%94%201%EC%A3%BC%EC%B0%A8/0901.ipynb\" target=\"_parent\"><img src=\"https://colab.research.google.com/assets/colab-badge.svg\" alt=\"Open In Colab\"/></a>"
      ]
    },
    {
      "cell_type": "markdown",
      "source": [
        "## BoJ"
      ],
      "metadata": {
        "id": "OpAznrAt9piw"
      }
    },
    {
      "cell_type": "markdown",
      "source": [
        "### 33631"
      ],
      "metadata": {
        "id": "hBeQs2rp9riH"
      }
    },
    {
      "cell_type": "code",
      "execution_count": null,
      "metadata": {
        "id": "yRxsWbKh9gaf"
      },
      "outputs": [],
      "source": [
        "# 초기 재료 입력\n",
        "Fs, Cs, Es, Bs = map(int, input().split())\n",
        "\n",
        "# 쿠키 하나 만드는데 필요한 재료\n",
        "Fn, Cn, En, Bn = map(int, input().split())\n",
        "\n",
        "# 쿼리 개수\n",
        "Q = int(input())\n",
        "\n",
        "# 현재 재료 상태\n",
        "flour = Fs\n",
        "chocolate = Cs\n",
        "egg = Es\n",
        "butter = Bs\n",
        "\n",
        "# 현재까지 만든 쿠키 개수\n",
        "cookies_made = 0\n",
        "\n",
        "# 쿼리 처리\n",
        "for _ in range(Q):\n",
        "    query = list(map(int, input().split()))\n",
        "    command = query[0]\n",
        "    amount = query[1]\n",
        "\n",
        "    if command == 1:  # 쿠키 만들기\n",
        "        # 쿠키 amount개를 만들 수 있는지 확인\n",
        "        if (flour >= Fn * amount and\n",
        "            chocolate >= Cn * amount and\n",
        "            egg >= En * amount and\n",
        "            butter >= Bn * amount):\n",
        "\n",
        "            # 재료 소모\n",
        "            flour -= Fn * amount\n",
        "            chocolate -= Cn * amount\n",
        "            egg -= En * amount\n",
        "            butter -= Bn * amount\n",
        "\n",
        "            # 쿠키 개수 증가\n",
        "            cookies_made += amount\n",
        "\n",
        "            print(cookies_made)\n",
        "        else:\n",
        "            print(\"Hello, siumii\")\n",
        "\n",
        "    elif command == 2:  # 밀가루 추가\n",
        "        flour += amount\n",
        "        print(flour)\n",
        "\n",
        "    elif command == 3:  # 초콜릿 추가\n",
        "        chocolate += amount\n",
        "        print(chocolate)\n",
        "\n",
        "    elif command == 4:  # 달걀 추가\n",
        "        egg += amount\n",
        "        print(egg)\n",
        "\n",
        "    elif command == 5:  # 버터 추가\n",
        "        butter += amount\n",
        "        print(butter)"
      ]
    }
  ]
}