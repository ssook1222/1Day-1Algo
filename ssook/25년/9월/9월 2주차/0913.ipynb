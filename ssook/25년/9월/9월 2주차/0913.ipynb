{
  "nbformat": 4,
  "nbformat_minor": 0,
  "metadata": {
    "colab": {
      "provenance": [],
      "authorship_tag": "ABX9TyOCcaCwfJyHA2H5bP1k5IlO",
      "include_colab_link": true
    },
    "kernelspec": {
      "name": "python3",
      "display_name": "Python 3"
    },
    "language_info": {
      "name": "python"
    }
  },
  "cells": [
    {
      "cell_type": "markdown",
      "metadata": {
        "id": "view-in-github",
        "colab_type": "text"
      },
      "source": [
        "<a href=\"https://colab.research.google.com/github/ssook1222/1Day-1Algo/blob/master/ssook/25%EB%85%84/9%EC%9B%94/9%EC%9B%94%202%EC%A3%BC%EC%B0%A8/0913.ipynb\" target=\"_parent\"><img src=\"https://colab.research.google.com/assets/colab-badge.svg\" alt=\"Open In Colab\"/></a>"
      ]
    },
    {
      "cell_type": "markdown",
      "source": [
        "## BoJ"
      ],
      "metadata": {
        "id": "d1hzC8P8Ives"
      }
    },
    {
      "cell_type": "markdown",
      "source": [
        "### 13871"
      ],
      "metadata": {
        "id": "ulu4CYlfIweM"
      }
    },
    {
      "cell_type": "code",
      "source": [
        "# 입력 받기\n",
        "n, c, s = map(int, input().split())\n",
        "commands = list(map(int, input().split()))\n",
        "\n",
        "# 로봇의 초기 위치는 1번 충전소\n",
        "current_position = 1\n",
        "\n",
        "# S번 충전소 방문 횟수 초기화\n",
        "# 시작 위치가 1번이므로 S=1이면 초기에 1번 카운트\n",
        "visit_count = 1 if current_position == s else 0\n",
        "\n",
        "# 각 명령 실행\n",
        "for command in commands:\n",
        "    if command == 1:  # 시계방향\n",
        "        current_position = current_position + 1\n",
        "        if current_position > n:  # N번 다음은 1번\n",
        "            current_position = 1\n",
        "    else:  # command == -1, 반시계방향\n",
        "        current_position = current_position - 1\n",
        "        if current_position < 1:  # 1번 이전은 N번\n",
        "            current_position = n\n",
        "\n",
        "    # 현재 위치가 목표 충전소와 같으면 카운트 증가\n",
        "    if current_position == s:\n",
        "        visit_count += 1\n",
        "\n",
        "# 결과 출력\n",
        "print(visit_count)"
      ],
      "metadata": {
        "id": "UIrDHBk1IxFa"
      },
      "execution_count": null,
      "outputs": []
    }
  ]
}