{
  "nbformat": 4,
  "nbformat_minor": 0,
  "metadata": {
    "colab": {
      "provenance": [],
      "authorship_tag": "ABX9TyPrPMi/mTkjPU02o1sYA2wq",
      "include_colab_link": true
    },
    "kernelspec": {
      "name": "python3",
      "display_name": "Python 3"
    },
    "language_info": {
      "name": "python"
    }
  },
  "cells": [
    {
      "cell_type": "markdown",
      "metadata": {
        "id": "view-in-github",
        "colab_type": "text"
      },
      "source": [
        "<a href=\"https://colab.research.google.com/github/ssook1222/1Day-1Algo/blob/master/ssook/25%EB%85%84/9%EC%9B%94/9%EC%9B%94%202%EC%A3%BC%EC%B0%A8/0908.ipynb\" target=\"_parent\"><img src=\"https://colab.research.google.com/assets/colab-badge.svg\" alt=\"Open In Colab\"/></a>"
      ]
    },
    {
      "cell_type": "markdown",
      "source": [
        "## BoJ"
      ],
      "metadata": {
        "id": "d1hzC8P8Ives"
      }
    },
    {
      "cell_type": "markdown",
      "source": [
        "### 13667"
      ],
      "metadata": {
        "id": "ulu4CYlfIweM"
      }
    },
    {
      "cell_type": "code",
      "source": [
        "while True:\n",
        "    # 문제 수 입력\n",
        "    n = int(input())\n",
        "\n",
        "    # 0이면 종료\n",
        "    if n == 0:\n",
        "        break\n",
        "\n",
        "    # n개의 문제 처리\n",
        "    for _ in range(n):\n",
        "        # 5개 선택지의 회색도 값 입력\n",
        "        values = list(map(int, input().split()))\n",
        "\n",
        "        # 각 선택지가 선택되었는지 확인 (127 이하면 선택됨)\n",
        "        selected = []\n",
        "        for i, value in enumerate(values):\n",
        "            if value <= 127:\n",
        "                selected.append(chr(ord('A') + i))  # A, B, C, D, E\n",
        "\n",
        "        # 정확히 하나만 선택된 경우\n",
        "        if len(selected) == 1:\n",
        "            print(selected[0])\n",
        "        else:\n",
        "            # 0개 또는 2개 이상 선택된 경우\n",
        "            print('*')"
      ],
      "metadata": {
        "id": "UIrDHBk1IxFa"
      },
      "execution_count": null,
      "outputs": []
    }
  ]
}