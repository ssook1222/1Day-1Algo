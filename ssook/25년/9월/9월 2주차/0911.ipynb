{
  "nbformat": 4,
  "nbformat_minor": 0,
  "metadata": {
    "colab": {
      "provenance": [],
      "authorship_tag": "ABX9TyPG14Bh7bHIwGoRib1SwOjV",
      "include_colab_link": true
    },
    "kernelspec": {
      "name": "python3",
      "display_name": "Python 3"
    },
    "language_info": {
      "name": "python"
    }
  },
  "cells": [
    {
      "cell_type": "markdown",
      "metadata": {
        "id": "view-in-github",
        "colab_type": "text"
      },
      "source": [
        "<a href=\"https://colab.research.google.com/github/ssook1222/1Day-1Algo/blob/master/ssook/25%EB%85%84/9%EC%9B%94/9%EC%9B%94%202%EC%A3%BC%EC%B0%A8/0911.ipynb\" target=\"_parent\"><img src=\"https://colab.research.google.com/assets/colab-badge.svg\" alt=\"Open In Colab\"/></a>"
      ]
    },
    {
      "cell_type": "markdown",
      "source": [
        "## BoJ"
      ],
      "metadata": {
        "id": "d1hzC8P8Ives"
      }
    },
    {
      "cell_type": "markdown",
      "source": [
        "### 13698"
      ],
      "metadata": {
        "id": "ulu4CYlfIweM"
      }
    },
    {
      "cell_type": "code",
      "source": [
        "# 입력 받기\n",
        "moves = input().strip()\n",
        "\n",
        "# 초기 위치: 작은 공은 1번, 큰 공은 4번 위치\n",
        "small_ball = 1\n",
        "big_ball = 4\n",
        "\n",
        "# 교환 방법 정의\n",
        "# A: 1↔2, B: 1↔3, C: 1↔4, D: 2↔3, E: 2↔4, F: 3↔4\n",
        "exchanges = {\n",
        "    'A': (1, 2),\n",
        "    'B': (1, 3),\n",
        "    'C': (1, 4),\n",
        "    'D': (2, 3),\n",
        "    'E': (2, 4),\n",
        "    'F': (3, 4)\n",
        "}\n",
        "\n",
        "# 각 교환 동작 수행\n",
        "for move in moves:\n",
        "    pos1, pos2 = exchanges[move]\n",
        "\n",
        "    # 작은 공의 위치 업데이트\n",
        "    if small_ball == pos1:\n",
        "        small_ball = pos2\n",
        "    elif small_ball == pos2:\n",
        "        small_ball = pos1\n",
        "\n",
        "    # 큰 공의 위치 업데이트\n",
        "    if big_ball == pos1:\n",
        "        big_ball = pos2\n",
        "    elif big_ball == pos2:\n",
        "        big_ball = pos1\n",
        "\n",
        "# 결과 출력\n",
        "print(small_ball)\n",
        "print(big_ball)"
      ],
      "metadata": {
        "id": "UIrDHBk1IxFa"
      },
      "execution_count": null,
      "outputs": []
    }
  ]
}