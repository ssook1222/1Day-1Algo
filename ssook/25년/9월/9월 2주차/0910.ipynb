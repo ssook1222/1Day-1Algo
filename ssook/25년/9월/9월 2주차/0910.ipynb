{
  "nbformat": 4,
  "nbformat_minor": 0,
  "metadata": {
    "colab": {
      "provenance": [],
      "authorship_tag": "ABX9TyPz113kDXQZmz3quiY1pEfn",
      "include_colab_link": true
    },
    "kernelspec": {
      "name": "python3",
      "display_name": "Python 3"
    },
    "language_info": {
      "name": "python"
    }
  },
  "cells": [
    {
      "cell_type": "markdown",
      "metadata": {
        "id": "view-in-github",
        "colab_type": "text"
      },
      "source": [
        "<a href=\"https://colab.research.google.com/github/ssook1222/1Day-1Algo/blob/master/ssook/25%EB%85%84/9%EC%9B%94/9%EC%9B%94%202%EC%A3%BC%EC%B0%A8/0910.ipynb\" target=\"_parent\"><img src=\"https://colab.research.google.com/assets/colab-badge.svg\" alt=\"Open In Colab\"/></a>"
      ]
    },
    {
      "cell_type": "markdown",
      "source": [
        "## BoJ"
      ],
      "metadata": {
        "id": "d1hzC8P8Ives"
      }
    },
    {
      "cell_type": "markdown",
      "source": [
        "### 13684"
      ],
      "metadata": {
        "id": "ulu4CYlfIweM"
      }
    },
    {
      "cell_type": "code",
      "source": [
        "while True:\n",
        "    # 쿼리 수 입력\n",
        "    k = int(input())\n",
        "\n",
        "    # 0이면 종료\n",
        "    if k == 0:\n",
        "        break\n",
        "\n",
        "    # 분할점 좌표 입력\n",
        "    n, m = map(int, input().split())\n",
        "\n",
        "    # k개의 주거지 좌표 처리\n",
        "    for _ in range(k):\n",
        "        x, y = map(int, input().split())\n",
        "\n",
        "        # 분할선 위에 있는지 확인\n",
        "        if x == n or y == m:\n",
        "            print(\"divisa\")\n",
        "        # 각 사분면 확인\n",
        "        elif x < n and y > m:\n",
        "            print(\"NO\")  # 노르웨스트 (서북)\n",
        "        elif x > n and y > m:\n",
        "            print(\"NE\")  # 노르데스트 (동북)\n",
        "        elif x > n and y < m:\n",
        "            print(\"SE\")  # 수데스트 (동남)\n",
        "        elif x < n and y < m:\n",
        "            print(\"SO\")  # 수드웨스트 (서남)"
      ],
      "metadata": {
        "id": "UIrDHBk1IxFa"
      },
      "execution_count": null,
      "outputs": []
    }
  ]
}