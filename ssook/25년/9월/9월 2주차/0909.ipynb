{
  "nbformat": 4,
  "nbformat_minor": 0,
  "metadata": {
    "colab": {
      "provenance": [],
      "authorship_tag": "ABX9TyNbnU8rq7rypJKbsSh5i0h5",
      "include_colab_link": true
    },
    "kernelspec": {
      "name": "python3",
      "display_name": "Python 3"
    },
    "language_info": {
      "name": "python"
    }
  },
  "cells": [
    {
      "cell_type": "markdown",
      "metadata": {
        "id": "view-in-github",
        "colab_type": "text"
      },
      "source": [
        "<a href=\"https://colab.research.google.com/github/ssook1222/1Day-1Algo/blob/master/ssook/25%EB%85%84/9%EC%9B%94/9%EC%9B%94%202%EC%A3%BC%EC%B0%A8/0909.ipynb\" target=\"_parent\"><img src=\"https://colab.research.google.com/assets/colab-badge.svg\" alt=\"Open In Colab\"/></a>"
      ]
    },
    {
      "cell_type": "markdown",
      "source": [
        "## BoJ"
      ],
      "metadata": {
        "id": "d1hzC8P8Ives"
      }
    },
    {
      "cell_type": "markdown",
      "source": [
        "### 13670"
      ],
      "metadata": {
        "id": "ulu4CYlfIweM"
      }
    },
    {
      "cell_type": "code",
      "source": [
        "while True:\n",
        "    # 입력 받기\n",
        "    h1, m1, h2, m2 = map(int, input().split())\n",
        "\n",
        "    # 종료 조건\n",
        "    if h1 == 0 and m1 == 0 and h2 == 0 and m2 == 0:\n",
        "        break\n",
        "\n",
        "    # 현재 시간을 분으로 변환\n",
        "    current_minutes = h1 * 60 + m1\n",
        "\n",
        "    # 알람 시간을 분으로 변환\n",
        "    alarm_minutes = h2 * 60 + m2\n",
        "\n",
        "    # 수면 시간 계산\n",
        "    if alarm_minutes > current_minutes:\n",
        "        # 같은 날 내에 알람이 울림\n",
        "        sleep_minutes = alarm_minutes - current_minutes\n",
        "    else:\n",
        "        # 다음 날 알람이 울림\n",
        "        # 오늘 남은 시간 + 내일 알람까지의 시간\n",
        "        sleep_minutes = (24 * 60 - current_minutes) + alarm_minutes\n",
        "\n",
        "    print(sleep_minutes)"
      ],
      "metadata": {
        "id": "UIrDHBk1IxFa"
      },
      "execution_count": null,
      "outputs": []
    }
  ]
}