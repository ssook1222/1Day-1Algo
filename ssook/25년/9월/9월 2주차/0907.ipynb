{
  "nbformat": 4,
  "nbformat_minor": 0,
  "metadata": {
    "colab": {
      "provenance": [],
      "authorship_tag": "ABX9TyMKsjq2gtIQFj4+dTMEhHMh",
      "include_colab_link": true
    },
    "kernelspec": {
      "name": "python3",
      "display_name": "Python 3"
    },
    "language_info": {
      "name": "python"
    }
  },
  "cells": [
    {
      "cell_type": "markdown",
      "metadata": {
        "id": "view-in-github",
        "colab_type": "text"
      },
      "source": [
        "<a href=\"https://colab.research.google.com/github/ssook1222/1Day-1Algo/blob/master/ssook/25%EB%85%84/9%EC%9B%94/9%EC%9B%94%202%EC%A3%BC%EC%B0%A8/0907.ipynb\" target=\"_parent\"><img src=\"https://colab.research.google.com/assets/colab-badge.svg\" alt=\"Open In Colab\"/></a>"
      ]
    },
    {
      "cell_type": "markdown",
      "source": [
        "## BoJ"
      ],
      "metadata": {
        "id": "OpAznrAt9piw"
      }
    },
    {
      "cell_type": "markdown",
      "source": [
        "### 32193\n",
        "\n",
        "----\n",
        "\n",
        "pypy"
      ],
      "metadata": {
        "id": "hBeQs2rp9riH"
      }
    },
    {
      "cell_type": "code",
      "execution_count": null,
      "metadata": {
        "id": "yRxsWbKh9gaf"
      },
      "outputs": [],
      "source": [
        "import sys\n",
        "input = sys.stdin.readline\n",
        "\n",
        "def solve_subway_depth():\n",
        "    # 입력 받기\n",
        "    N = int(input())\n",
        "\n",
        "    # 초기 높이 (0번 역)\n",
        "    surface_height = 0  # 지표면 높이\n",
        "    platform_height = 0  # 승강장 높이\n",
        "\n",
        "    # 결과를 저장할 리스트\n",
        "    results = []\n",
        "\n",
        "    # 각 역의 깊이 계산\n",
        "    for i in range(N):\n",
        "        A_i, B_i = map(int, input().split())\n",
        "\n",
        "        # i번 역으로 이동하면서 높이 업데이트\n",
        "        surface_height += A_i\n",
        "        platform_height += B_i\n",
        "\n",
        "        # i번 역의 깊이 계산\n",
        "        depth = surface_height - platform_height\n",
        "        results.append(str(depth))\n",
        "\n",
        "    # 한 번에 출력\n",
        "    print('\\n'.join(results))\n",
        "\n",
        "# 실행\n",
        "solve_subway_depth()"
      ]
    }
  ]
}