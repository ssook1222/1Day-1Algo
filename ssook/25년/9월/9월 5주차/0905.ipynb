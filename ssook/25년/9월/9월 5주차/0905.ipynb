{
  "nbformat": 4,
  "nbformat_minor": 0,
  "metadata": {
    "colab": {
      "provenance": [],
      "authorship_tag": "ABX9TyPCAvyvJ+gUwUptOrrf+bdj",
      "include_colab_link": true
    },
    "kernelspec": {
      "name": "python3",
      "display_name": "Python 3"
    },
    "language_info": {
      "name": "python"
    }
  },
  "cells": [
    {
      "cell_type": "markdown",
      "metadata": {
        "id": "view-in-github",
        "colab_type": "text"
      },
      "source": [
        "<a href=\"https://colab.research.google.com/github/ssook1222/1Day-1Algo/blob/master/ssook/25%EB%85%84/9%EC%9B%94/9%EC%9B%94%205%EC%A3%BC%EC%B0%A8/0905.ipynb\" target=\"_parent\"><img src=\"https://colab.research.google.com/assets/colab-badge.svg\" alt=\"Open In Colab\"/></a>"
      ]
    },
    {
      "cell_type": "markdown",
      "source": [
        "## BoJ"
      ],
      "metadata": {
        "id": "OpAznrAt9piw"
      }
    },
    {
      "cell_type": "markdown",
      "source": [
        "### 32399"
      ],
      "metadata": {
        "id": "hBeQs2rp9riH"
      }
    },
    {
      "cell_type": "code",
      "execution_count": null,
      "metadata": {
        "id": "yRxsWbKh9gaf"
      },
      "outputs": [],
      "source": [
        "# 문자열 입력\n",
        "s = input().strip()\n",
        "\n",
        "# 최소 이동 횟수를 계산하는 함수\n",
        "def min_moves_to_hamburger(start):\n",
        "    from collections import deque\n",
        "\n",
        "    target = \"(1)\"\n",
        "    if start == target:\n",
        "        return 0\n",
        "\n",
        "    queue = deque([(start, 0)])\n",
        "    visited = {start}\n",
        "\n",
        "    while queue:\n",
        "        current, moves = queue.popleft()\n",
        "\n",
        "        # 현재 문자열에서 한 문자를 떼서 다른 위치에 넣는 모든 경우\n",
        "        for i in range(3):  # i번째 문자를 떼기\n",
        "            char = current[i]\n",
        "            remaining = current[:i] + current[i+1:]  # 나머지 두 문자\n",
        "\n",
        "            # 3개 위치에 삽입 가능\n",
        "            for j in range(3):\n",
        "                if j == 0:\n",
        "                    new_state = char + remaining\n",
        "                elif j == 1:\n",
        "                    new_state = remaining[0] + char + remaining[1]\n",
        "                else:\n",
        "                    new_state = remaining + char\n",
        "\n",
        "                if new_state == target:\n",
        "                    return moves + 1\n",
        "\n",
        "                if new_state not in visited:\n",
        "                    visited.add(new_state)\n",
        "                    queue.append((new_state, moves + 1))\n",
        "\n",
        "    return -1  # 불가능한 경우 (이론적으로는 발생하지 않음)\n",
        "\n",
        "print(min_moves_to_hamburger(s))"
      ]
    }
  ]
}