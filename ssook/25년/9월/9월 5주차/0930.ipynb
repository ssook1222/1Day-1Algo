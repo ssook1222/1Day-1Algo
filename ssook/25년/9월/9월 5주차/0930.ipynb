{
  "nbformat": 4,
  "nbformat_minor": 0,
  "metadata": {
    "colab": {
      "provenance": [],
      "authorship_tag": "ABX9TyMeobNGlhmEWQDc2swQgFHK",
      "include_colab_link": true
    },
    "kernelspec": {
      "name": "python3",
      "display_name": "Python 3"
    },
    "language_info": {
      "name": "python"
    }
  },
  "cells": [
    {
      "cell_type": "markdown",
      "metadata": {
        "id": "view-in-github",
        "colab_type": "text"
      },
      "source": [
        "<a href=\"https://colab.research.google.com/github/ssook1222/1Day-1Algo/blob/master/ssook/25%EB%85%84/9%EC%9B%94/9%EC%9B%94%205%EC%A3%BC%EC%B0%A8/0930.ipynb\" target=\"_parent\"><img src=\"https://colab.research.google.com/assets/colab-badge.svg\" alt=\"Open In Colab\"/></a>"
      ]
    },
    {
      "cell_type": "markdown",
      "source": [
        "## BoJ"
      ],
      "metadata": {
        "id": "_icmQNQADvDH"
      }
    },
    {
      "cell_type": "markdown",
      "source": [
        "### 3232"
      ],
      "metadata": {
        "id": "Ac1VYbF2DxWY"
      }
    },
    {
      "cell_type": "code",
      "execution_count": null,
      "metadata": {
        "id": "M1tMqmdJDdUZ"
      },
      "outputs": [],
      "source": [
        "def max_digit_in_number(num_str):\n",
        "    \"\"\"숫자 문자열에서 가장 큰 자릿수를 찾는 함수\"\"\"\n",
        "    return max(int(digit) for digit in num_str)\n",
        "\n",
        "def convert_to_base10(num_str, base):\n",
        "    \"\"\"주어진 진법의 숫자를 10진법으로 변환\"\"\"\n",
        "    result = 0\n",
        "    for digit_char in num_str:\n",
        "        digit = int(digit_char)\n",
        "        if digit >= base:\n",
        "            return -1  # 잘못된 진법\n",
        "        result = result * base + digit\n",
        "    return result\n",
        "\n",
        "def solve():\n",
        "    t = int(input())\n",
        "\n",
        "    for _ in range(t):\n",
        "        p_str, q_str, r_str = input().split()\n",
        "\n",
        "        # 각 숫자에서 가장 큰 자릿수 찾기\n",
        "        max_digit = max(max_digit_in_number(p_str),\n",
        "                       max_digit_in_number(q_str),\n",
        "                       max_digit_in_number(r_str))\n",
        "\n",
        "        # 최소 진법은 가장 큰 자릿수 + 1\n",
        "        min_base = max_digit + 1\n",
        "\n",
        "        found = False\n",
        "\n",
        "        # 가능한 진법 범위에서 확인 (2 ≤ B ≤ 16)\n",
        "        for base in range(max(2, min_base), 17):\n",
        "            # 각 숫자를 10진법으로 변환\n",
        "            p_decimal = convert_to_base10(p_str, base)\n",
        "            q_decimal = convert_to_base10(q_str, base)\n",
        "            r_decimal = convert_to_base10(r_str, base)\n",
        "\n",
        "            # 변환이 유효하고 곱셈이 맞는지 확인\n",
        "            if p_decimal != -1 and q_decimal != -1 and r_decimal != -1:\n",
        "                if p_decimal * q_decimal == r_decimal:\n",
        "                    print(base)\n",
        "                    found = True\n",
        "                    break\n",
        "\n",
        "        if not found:\n",
        "            print(0)\n",
        "\n",
        "solve()"
      ]
    }
  ]
}