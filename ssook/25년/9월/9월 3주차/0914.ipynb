{
  "nbformat": 4,
  "nbformat_minor": 0,
  "metadata": {
    "colab": {
      "provenance": [],
      "authorship_tag": "ABX9TyOO2M8rd0BD+OtXdFlvid1W",
      "include_colab_link": true
    },
    "kernelspec": {
      "name": "python3",
      "display_name": "Python 3"
    },
    "language_info": {
      "name": "python"
    }
  },
  "cells": [
    {
      "cell_type": "markdown",
      "metadata": {
        "id": "view-in-github",
        "colab_type": "text"
      },
      "source": [
        "<a href=\"https://colab.research.google.com/github/ssook1222/1Day-1Algo/blob/master/ssook/25%EB%85%84/9%EC%9B%94/9%EC%9B%94%203%EC%A3%BC%EC%B0%A8/0914.ipynb\" target=\"_parent\"><img src=\"https://colab.research.google.com/assets/colab-badge.svg\" alt=\"Open In Colab\"/></a>"
      ]
    },
    {
      "cell_type": "markdown",
      "source": [
        "## BoJ"
      ],
      "metadata": {
        "id": "d1hzC8P8Ives"
      }
    },
    {
      "cell_type": "markdown",
      "source": [
        "### 14013"
      ],
      "metadata": {
        "id": "ulu4CYlfIweM"
      }
    },
    {
      "cell_type": "code",
      "source": [
        "import sys\n",
        "input = sys.stdin.readline\n",
        "\n",
        "# 변환 비율 입력\n",
        "x, y = map(float, input().split())\n",
        "\n",
        "# 변환 요청 수 입력\n",
        "n = int(input())\n",
        "\n",
        "# 변환 비율 미리 계산\n",
        "a_to_b_ratio = y / x\n",
        "b_to_a_ratio = x / y\n",
        "\n",
        "# 결과를 리스트에 저장\n",
        "results = []\n",
        "\n",
        "# 각 변환 요청 처리\n",
        "for _ in range(n):\n",
        "    line = input().strip()\n",
        "    space_idx = line.rfind(' ')  # 마지막 공백 위치 찾기\n",
        "    z = float(line[:space_idx])\n",
        "    unit = line[space_idx + 1]\n",
        "\n",
        "    if unit == 'A':\n",
        "        result = z * a_to_b_ratio\n",
        "    else:\n",
        "        result = z * b_to_a_ratio\n",
        "\n",
        "    results.append(f\"{result:.15f}\")\n",
        "\n",
        "# 한 번에 출력\n",
        "print('\\n'.join(results))"
      ],
      "metadata": {
        "id": "UIrDHBk1IxFa"
      },
      "execution_count": null,
      "outputs": []
    }
  ]
}