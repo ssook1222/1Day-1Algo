{
  "nbformat": 4,
  "nbformat_minor": 0,
  "metadata": {
    "colab": {
      "provenance": [],
      "authorship_tag": "ABX9TyPJUK27KUrI17iuJ3znYBtH",
      "include_colab_link": true
    },
    "kernelspec": {
      "name": "python3",
      "display_name": "Python 3"
    },
    "language_info": {
      "name": "python"
    }
  },
  "cells": [
    {
      "cell_type": "markdown",
      "metadata": {
        "id": "view-in-github",
        "colab_type": "text"
      },
      "source": [
        "<a href=\"https://colab.research.google.com/github/ssook1222/1Day-1Algo/blob/master/ssook/25%EB%85%84/9%EC%9B%94/9%EC%9B%94%203%EC%A3%BC%EC%B0%A8/0920.ipynb\" target=\"_parent\"><img src=\"https://colab.research.google.com/assets/colab-badge.svg\" alt=\"Open In Colab\"/></a>"
      ]
    },
    {
      "cell_type": "markdown",
      "source": [
        "## BoJ"
      ],
      "metadata": {
        "id": "8Il66ZEIJSR7"
      }
    },
    {
      "cell_type": "markdown",
      "source": [
        "### 3028"
      ],
      "metadata": {
        "id": "2Ytud-CCJUbs"
      }
    },
    {
      "cell_type": "code",
      "execution_count": null,
      "metadata": {
        "id": "nIMkb07SI44V"
      },
      "outputs": [],
      "source": [
        "moves = input().strip()\n",
        "\n",
        "# 공의 현재 위치 (1: 왼쪽, 2: 중앙, 3: 오른쪽)\n",
        "ball_position = 1\n",
        "\n",
        "# 각 동작에 따른 위치 변화\n",
        "for move in moves:\n",
        "    if move == 'A':  # 왼쪽과 중앙 컵 교환\n",
        "        if ball_position == 1:\n",
        "            ball_position = 2\n",
        "        elif ball_position == 2:\n",
        "            ball_position = 1\n",
        "        # position 3은 변화 없음\n",
        "    elif move == 'B':  # 중앙과 오른쪽 컵 교환\n",
        "        if ball_position == 2:\n",
        "            ball_position = 3\n",
        "        elif ball_position == 3:\n",
        "            ball_position = 2\n",
        "        # position 1은 변화 없음\n",
        "    elif move == 'C':  # 왼쪽과 오른쪽 컵 교환\n",
        "        if ball_position == 1:\n",
        "            ball_position = 3\n",
        "        elif ball_position == 3:\n",
        "            ball_position = 1\n",
        "        # position 2는 변화 없음\n",
        "\n",
        "print(ball_position)"
      ]
    }
  ]
}