{
  "nbformat": 4,
  "nbformat_minor": 0,
  "metadata": {
    "colab": {
      "provenance": [],
      "authorship_tag": "ABX9TyPCGxxA5u4hm8ZTucUrFIXx",
      "include_colab_link": true
    },
    "kernelspec": {
      "name": "python3",
      "display_name": "Python 3"
    },
    "language_info": {
      "name": "python"
    }
  },
  "cells": [
    {
      "cell_type": "markdown",
      "metadata": {
        "id": "view-in-github",
        "colab_type": "text"
      },
      "source": [
        "<a href=\"https://colab.research.google.com/github/ssook1222/1Day-1Algo/blob/master/ssook/25%EB%85%84/9%EC%9B%94/9%EC%9B%94%203%EC%A3%BC%EC%B0%A8/0923.ipynb\" target=\"_parent\"><img src=\"https://colab.research.google.com/assets/colab-badge.svg\" alt=\"Open In Colab\"/></a>"
      ]
    },
    {
      "cell_type": "markdown",
      "source": [
        "## BoJ"
      ],
      "metadata": {
        "id": "692H8sJaH4nU"
      }
    },
    {
      "cell_type": "markdown",
      "source": [
        "### 30614"
      ],
      "metadata": {
        "id": "ue0V4ZSOH6XF"
      }
    },
    {
      "cell_type": "code",
      "execution_count": null,
      "metadata": {
        "id": "ITxYb07fHlTD"
      },
      "outputs": [],
      "source": [
        "def check_robot_operation():\n",
        "    # 입력 받기\n",
        "    n = int(input())\n",
        "    log = input().strip()\n",
        "\n",
        "    # 스택으로 저장소 시뮬레이션\n",
        "    storage = []\n",
        "\n",
        "    # 로그의 각 동작 처리\n",
        "    for action in log:\n",
        "        if action.islower():\n",
        "            # 소문자: 컨테이너를 저장소에 넣기\n",
        "            storage.append(action)\n",
        "        else:\n",
        "            # 대문자: 저장소에서 컨테이너 꺼내기\n",
        "            container_to_take = action.lower()\n",
        "\n",
        "            # 저장소가 비어있거나 맨 위 컨테이너가 꺼내려는 것과 다르면 불안정\n",
        "            if not storage or storage[-1] != container_to_take:\n",
        "                print(0)\n",
        "                return\n",
        "\n",
        "            # 맨 위 컨테이너 제거\n",
        "            storage.pop()\n",
        "\n",
        "    # 모든 동작 완료 후 저장소가 비어있어야 안정적\n",
        "    if len(storage) == 0:\n",
        "        print(1)\n",
        "    else:\n",
        "        print(0)\n",
        "\n",
        "check_robot_operation()"
      ]
    }
  ]
}