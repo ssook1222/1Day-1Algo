{
  "nbformat": 4,
  "nbformat_minor": 0,
  "metadata": {
    "colab": {
      "provenance": [],
      "authorship_tag": "ABX9TyOuvdgeNG5GMdIILrnTGv0l",
      "include_colab_link": true
    },
    "kernelspec": {
      "name": "python3",
      "display_name": "Python 3"
    },
    "language_info": {
      "name": "python"
    }
  },
  "cells": [
    {
      "cell_type": "markdown",
      "metadata": {
        "id": "view-in-github",
        "colab_type": "text"
      },
      "source": [
        "<a href=\"https://colab.research.google.com/github/ssook1222/1Day-1Algo/blob/master/ssook/25%EB%85%84/9%EC%9B%94/9%EC%9B%94%203%EC%A3%BC%EC%B0%A8/0917.ipynb\" target=\"_parent\"><img src=\"https://colab.research.google.com/assets/colab-badge.svg\" alt=\"Open In Colab\"/></a>"
      ]
    },
    {
      "cell_type": "markdown",
      "source": [
        "## BoJ"
      ],
      "metadata": {
        "id": "8Il66ZEIJSR7"
      }
    },
    {
      "cell_type": "markdown",
      "source": [
        "### 2605"
      ],
      "metadata": {
        "id": "2Ytud-CCJUbs"
      }
    },
    {
      "cell_type": "code",
      "execution_count": null,
      "metadata": {
        "id": "nIMkb07SI44V"
      },
      "outputs": [],
      "source": [
        "n = int(input())\n",
        "numbers = list(map(int, input().split()))\n",
        "\n",
        "# 학생들이 최종적으로 줄을 선 순서를 저장할 리스트\n",
        "line = []\n",
        "\n",
        "# 각 학생이 차례로 줄을 섬\n",
        "for i in range(n):\n",
        "    student = i + 1  # 학생 번호 (1부터 시작)\n",
        "    move = numbers[i]  # 뽑은 번호 (앞으로 이동할 칸 수)\n",
        "\n",
        "    # 현재 줄의 길이에서 뽑은 번호만큼 뺀 위치에 삽입\n",
        "    # move만큼 앞으로 가는 것은 현재 위치에서 move칸 앞에 삽입하는 것과 같음\n",
        "    position = len(line) - move\n",
        "    line.insert(position, student)\n",
        "\n",
        "# 결과 출력\n",
        "print(' '.join(map(str, line)))"
      ]
    }
  ]
}