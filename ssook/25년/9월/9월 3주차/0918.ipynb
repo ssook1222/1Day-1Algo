{
  "nbformat": 4,
  "nbformat_minor": 0,
  "metadata": {
    "colab": {
      "provenance": [],
      "authorship_tag": "ABX9TyONbRSyiFnQcXThz+GzsHVl",
      "include_colab_link": true
    },
    "kernelspec": {
      "name": "python3",
      "display_name": "Python 3"
    },
    "language_info": {
      "name": "python"
    }
  },
  "cells": [
    {
      "cell_type": "markdown",
      "metadata": {
        "id": "view-in-github",
        "colab_type": "text"
      },
      "source": [
        "<a href=\"https://colab.research.google.com/github/ssook1222/1Day-1Algo/blob/master/ssook/25%EB%85%84/9%EC%9B%94/9%EC%9B%94%203%EC%A3%BC%EC%B0%A8/0918.ipynb\" target=\"_parent\"><img src=\"https://colab.research.google.com/assets/colab-badge.svg\" alt=\"Open In Colab\"/></a>"
      ]
    },
    {
      "cell_type": "markdown",
      "source": [
        "## BoJ"
      ],
      "metadata": {
        "id": "8Il66ZEIJSR7"
      }
    },
    {
      "cell_type": "markdown",
      "source": [
        "### 5586"
      ],
      "metadata": {
        "id": "2Ytud-CCJUbs"
      }
    },
    {
      "cell_type": "code",
      "execution_count": null,
      "metadata": {
        "id": "nIMkb07SI44V"
      },
      "outputs": [],
      "source": [
        "s = input().strip()\n",
        "\n",
        "joi_count = 0\n",
        "ioi_count = 0\n",
        "\n",
        "# 문자열을 3글자씩 확인\n",
        "for i in range(len(s) - 2):\n",
        "    # 현재 위치부터 3글자 추출\n",
        "    substring = s[i:i+3]\n",
        "\n",
        "    if substring == \"JOI\":\n",
        "        joi_count += 1\n",
        "    elif substring == \"IOI\":\n",
        "        ioi_count += 1\n",
        "\n",
        "print(joi_count)\n",
        "print(ioi_count)"
      ]
    }
  ]
}