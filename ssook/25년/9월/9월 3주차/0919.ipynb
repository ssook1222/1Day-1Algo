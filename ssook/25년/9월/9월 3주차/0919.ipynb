{
  "nbformat": 4,
  "nbformat_minor": 0,
  "metadata": {
    "colab": {
      "provenance": [],
      "authorship_tag": "ABX9TyPTcOPLJrtVe7XRVN6B/aQ6",
      "include_colab_link": true
    },
    "kernelspec": {
      "name": "python3",
      "display_name": "Python 3"
    },
    "language_info": {
      "name": "python"
    }
  },
  "cells": [
    {
      "cell_type": "markdown",
      "metadata": {
        "id": "view-in-github",
        "colab_type": "text"
      },
      "source": [
        "<a href=\"https://colab.research.google.com/github/ssook1222/1Day-1Algo/blob/master/ssook/25%EB%85%84/9%EC%9B%94/9%EC%9B%94%203%EC%A3%BC%EC%B0%A8/0919.ipynb\" target=\"_parent\"><img src=\"https://colab.research.google.com/assets/colab-badge.svg\" alt=\"Open In Colab\"/></a>"
      ]
    },
    {
      "cell_type": "markdown",
      "source": [
        "## BoJ"
      ],
      "metadata": {
        "id": "8Il66ZEIJSR7"
      }
    },
    {
      "cell_type": "markdown",
      "source": [
        "### 5618"
      ],
      "metadata": {
        "id": "2Ytud-CCJUbs"
      }
    },
    {
      "cell_type": "code",
      "execution_count": null,
      "metadata": {
        "id": "nIMkb07SI44V"
      },
      "outputs": [],
      "source": [
        "import math\n",
        "\n",
        "n = int(input())\n",
        "numbers = list(map(int, input().split()))\n",
        "\n",
        "# 여러 수의 최대공약수 구하기\n",
        "gcd_result = numbers[0]\n",
        "for i in range(1, n):\n",
        "    gcd_result = math.gcd(gcd_result, numbers[i])\n",
        "\n",
        "# 최대공약수의 약수들을 찾기\n",
        "divisors = []\n",
        "for i in range(1, int(math.sqrt(gcd_result)) + 1):\n",
        "    if gcd_result % i == 0:\n",
        "        divisors.append(i)\n",
        "        # i와 gcd_result//i가 다른 경우에만 추가 (제곱수 중복 방지)\n",
        "        if i != gcd_result // i:\n",
        "            divisors.append(gcd_result // i)\n",
        "\n",
        "# 오름차순으로 정렬\n",
        "divisors.sort()\n",
        "\n",
        "# 결과 출력\n",
        "for divisor in divisors:\n",
        "    print(divisor)"
      ]
    }
  ]
}