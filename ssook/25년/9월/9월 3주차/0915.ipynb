{
  "nbformat": 4,
  "nbformat_minor": 0,
  "metadata": {
    "colab": {
      "provenance": [],
      "authorship_tag": "ABX9TyNkLQAYn+FmDEHDMjt498zb",
      "include_colab_link": true
    },
    "kernelspec": {
      "name": "python3",
      "display_name": "Python 3"
    },
    "language_info": {
      "name": "python"
    }
  },
  "cells": [
    {
      "cell_type": "markdown",
      "metadata": {
        "id": "view-in-github",
        "colab_type": "text"
      },
      "source": [
        "<a href=\"https://colab.research.google.com/github/ssook1222/1Day-1Algo/blob/master/ssook/25%EB%85%84/9%EC%9B%94/9%EC%9B%94%203%EC%A3%BC%EC%B0%A8/0915.ipynb\" target=\"_parent\"><img src=\"https://colab.research.google.com/assets/colab-badge.svg\" alt=\"Open In Colab\"/></a>"
      ]
    },
    {
      "cell_type": "markdown",
      "source": [
        "## BoJ"
      ],
      "metadata": {
        "id": "8Il66ZEIJSR7"
      }
    },
    {
      "cell_type": "markdown",
      "source": [
        "### 10804"
      ],
      "metadata": {
        "id": "2Ytud-CCJUbs"
      }
    },
    {
      "cell_type": "code",
      "execution_count": null,
      "metadata": {
        "id": "nIMkb07SI44V"
      },
      "outputs": [],
      "source": [
        "# 1부터 20까지의 카드를 초기화\n",
        "cards = list(range(1, 21))\n",
        "\n",
        "# 10개의 구간에 대해 뒤집기 작업 수행\n",
        "for _ in range(10):\n",
        "    a, b = map(int, input().split())\n",
        "\n",
        "    # 구간 [a, b]를 역순으로 뒤집기 (인덱스는 0부터 시작하므로 a-1, b-1)\n",
        "    cards[a-1:b] = cards[a-1:b][::-1]\n",
        "\n",
        "# 결과 출력\n",
        "print(' '.join(map(str, cards)))"
      ]
    }
  ]
}