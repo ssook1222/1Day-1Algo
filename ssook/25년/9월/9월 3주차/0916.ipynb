{
  "nbformat": 4,
  "nbformat_minor": 0,
  "metadata": {
    "colab": {
      "provenance": [],
      "authorship_tag": "ABX9TyMAOQdAQBNGlZPHUXhPjOqq",
      "include_colab_link": true
    },
    "kernelspec": {
      "name": "python3",
      "display_name": "Python 3"
    },
    "language_info": {
      "name": "python"
    }
  },
  "cells": [
    {
      "cell_type": "markdown",
      "metadata": {
        "id": "view-in-github",
        "colab_type": "text"
      },
      "source": [
        "<a href=\"https://colab.research.google.com/github/ssook1222/1Day-1Algo/blob/master/ssook/25%EB%85%84/9%EC%9B%94/9%EC%9B%94%203%EC%A3%BC%EC%B0%A8/0916.ipynb\" target=\"_parent\"><img src=\"https://colab.research.google.com/assets/colab-badge.svg\" alt=\"Open In Colab\"/></a>"
      ]
    },
    {
      "cell_type": "markdown",
      "source": [
        "## BoJ"
      ],
      "metadata": {
        "id": "8Il66ZEIJSR7"
      }
    },
    {
      "cell_type": "markdown",
      "source": [
        "### 2979"
      ],
      "metadata": {
        "id": "2Ytud-CCJUbs"
      }
    },
    {
      "cell_type": "code",
      "execution_count": null,
      "metadata": {
        "id": "nIMkb07SI44V"
      },
      "outputs": [],
      "source": [
        "# 주차 요금 입력\n",
        "A, B, C = map(int, input().split())\n",
        "\n",
        "# 트럭 주차 시간 입력\n",
        "trucks = []\n",
        "for _ in range(3):\n",
        "    start, end = map(int, input().split())\n",
        "    trucks.append((start, end))\n",
        "\n",
        "# 시간대별 주차된 트럭 수를 카운트\n",
        "# 시간 범위는 1~100이므로 101개의 배열 생성\n",
        "parking_count = [0] * 101\n",
        "\n",
        "# 각 트럭의 주차 시간동안 카운트 증가\n",
        "for start, end in trucks:\n",
        "    for time in range(start, end):  # end 시간은 포함하지 않음 (떠난 시간)\n",
        "        parking_count[time] += 1\n",
        "\n",
        "# 총 요금 계산\n",
        "total_fee = 0\n",
        "for count in parking_count:\n",
        "    if count == 1:\n",
        "        total_fee += A * 1  # 1대 주차: A원 × 1대\n",
        "    elif count == 2:\n",
        "        total_fee += B * 2  # 2대 주차: B원 × 2대\n",
        "    elif count == 3:\n",
        "        total_fee += C * 3  # 3대 주차: C원 × 3대\n",
        "\n",
        "print(total_fee)"
      ]
    }
  ]
}