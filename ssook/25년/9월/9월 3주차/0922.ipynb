{
  "nbformat": 4,
  "nbformat_minor": 0,
  "metadata": {
    "colab": {
      "provenance": [],
      "authorship_tag": "ABX9TyOEpt/RzDon1ge4rpvad75+",
      "include_colab_link": true
    },
    "kernelspec": {
      "name": "python3",
      "display_name": "Python 3"
    },
    "language_info": {
      "name": "python"
    }
  },
  "cells": [
    {
      "cell_type": "markdown",
      "metadata": {
        "id": "view-in-github",
        "colab_type": "text"
      },
      "source": [
        "<a href=\"https://colab.research.google.com/github/ssook1222/1Day-1Algo/blob/master/ssook/25%EB%85%84/9%EC%9B%94/9%EC%9B%94%203%EC%A3%BC%EC%B0%A8/0922.ipynb\" target=\"_parent\"><img src=\"https://colab.research.google.com/assets/colab-badge.svg\" alt=\"Open In Colab\"/></a>"
      ]
    },
    {
      "cell_type": "markdown",
      "source": [
        "## BoJ"
      ],
      "metadata": {
        "id": "692H8sJaH4nU"
      }
    },
    {
      "cell_type": "markdown",
      "source": [
        "### 31251"
      ],
      "metadata": {
        "id": "ue0V4ZSOH6XF"
      }
    },
    {
      "cell_type": "code",
      "execution_count": null,
      "metadata": {
        "id": "ITxYb07fHlTD"
      },
      "outputs": [],
      "source": [
        "def solve_dice_game():\n",
        "    # 입력 받기\n",
        "    n = int(input())\n",
        "    if n > 0:\n",
        "        rolls = list(map(int, input().split()))\n",
        "    else:\n",
        "        rolls = []\n",
        "\n",
        "    # 이미 굴린 숫자들의 집합\n",
        "    used_numbers = set(rolls)\n",
        "    remaining_rolls = 4 - n\n",
        "\n",
        "    # 이미 중복이 있다면 Ashley는 이길 수 없음\n",
        "    if len(used_numbers) < len(rolls):\n",
        "        ashley_wins = 0\n",
        "        brandon_wins = 6 ** remaining_rolls\n",
        "        print(ashley_wins, brandon_wins)\n",
        "        return\n",
        "\n",
        "    # Ashley가 이기는 경우의 수 계산 (모든 숫자가 달라야 함)\n",
        "    # 남은 자리에 들어갈 수 있는 숫자의 개수\n",
        "    available_numbers = 6 - len(used_numbers)\n",
        "\n",
        "    if remaining_rolls > available_numbers:\n",
        "        # 남은 굴림 횟수가 사용 가능한 숫자보다 많으면 Ashley는 이길 수 없음\n",
        "        ashley_wins = 0\n",
        "    else:\n",
        "        # 순열: P(available_numbers, remaining_rolls)\n",
        "        ashley_wins = 1\n",
        "        for i in range(remaining_rolls):\n",
        "            ashley_wins *= (available_numbers - i)\n",
        "\n",
        "    # 전체 경우의 수\n",
        "    total_ways = 6 ** remaining_rolls\n",
        "\n",
        "    # Brandon이 이기는 경우의 수\n",
        "    brandon_wins = total_ways - ashley_wins\n",
        "\n",
        "    print(ashley_wins, brandon_wins)\n",
        "\n",
        "solve_dice_game()"
      ]
    }
  ]
}