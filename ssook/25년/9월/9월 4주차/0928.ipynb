{
  "nbformat": 4,
  "nbformat_minor": 0,
  "metadata": {
    "colab": {
      "provenance": [],
      "authorship_tag": "ABX9TyNnoTPGhddglnMP4vXkeFeW"
    },
    "kernelspec": {
      "name": "python3",
      "display_name": "Python 3"
    },
    "language_info": {
      "name": "python"
    }
  },
  "cells": [
    {
      "cell_type": "markdown",
      "source": [
        "## BoJ"
      ],
      "metadata": {
        "id": "692H8sJaH4nU"
      }
    },
    {
      "cell_type": "markdown",
      "source": [
        "### 28323"
      ],
      "metadata": {
        "id": "ue0V4ZSOH6XF"
      }
    },
    {
      "cell_type": "code",
      "execution_count": null,
      "metadata": {
        "id": "ITxYb07fHlTD"
      },
      "outputs": [],
      "source": [
        "def solve_unstable_sequence():\n",
        "    n = int(input())\n",
        "    A = list(map(int, input().split()))\n",
        "\n",
        "    # 불안정한 수열: 인접한 두 수의 합이 모두 홀수\n",
        "    # 즉, 홀수와 짝수가 번갈아 나타나야 함\n",
        "\n",
        "    # 최적화: 각 패리티별로 현재까지의 최대 길이만 추적\n",
        "    max_ending_even = 0  # 짝수로 끝나는 최대 길이\n",
        "    max_ending_odd = 0   # 홀수로 끝나는 최대 길이\n",
        "\n",
        "    for num in A:\n",
        "        if num % 2 == 0:  # 짝수\n",
        "            # 홀수로 끝나는 수열에 연결하거나 새로 시작\n",
        "            new_len = max(1, max_ending_odd + 1 if max_ending_odd > 0 else 1)\n",
        "            max_ending_even = max(max_ending_even, new_len)\n",
        "        else:  # 홀수\n",
        "            # 짝수로 끝나는 수열에 연결하거나 새로 시작\n",
        "            new_len = max(1, max_ending_even + 1 if max_ending_even > 0 else 1)\n",
        "            max_ending_odd = max(max_ending_odd, new_len)\n",
        "\n",
        "    result = max(max_ending_even, max_ending_odd)\n",
        "    print(result)\n",
        "\n",
        "solve_unstable_sequence()"
      ]
    }
  ]
}