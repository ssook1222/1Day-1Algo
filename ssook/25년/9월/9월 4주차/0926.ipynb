{
  "nbformat": 4,
  "nbformat_minor": 0,
  "metadata": {
    "colab": {
      "provenance": [],
      "authorship_tag": "ABX9TyMbCGHMR2MMNm/5aTR31OUp",
      "include_colab_link": true
    },
    "kernelspec": {
      "name": "python3",
      "display_name": "Python 3"
    },
    "language_info": {
      "name": "python"
    }
  },
  "cells": [
    {
      "cell_type": "markdown",
      "metadata": {
        "id": "view-in-github",
        "colab_type": "text"
      },
      "source": [
        "<a href=\"https://colab.research.google.com/github/ssook1222/1Day-1Algo/blob/master/ssook/25%EB%85%84/9%EC%9B%94/9%EC%9B%94%204%EC%A3%BC%EC%B0%A8/0926.ipynb\" target=\"_parent\"><img src=\"https://colab.research.google.com/assets/colab-badge.svg\" alt=\"Open In Colab\"/></a>"
      ]
    },
    {
      "cell_type": "markdown",
      "source": [
        "## BoJ"
      ],
      "metadata": {
        "id": "692H8sJaH4nU"
      }
    },
    {
      "cell_type": "markdown",
      "source": [
        "### 30456"
      ],
      "metadata": {
        "id": "ue0V4ZSOH6XF"
      }
    },
    {
      "cell_type": "code",
      "execution_count": null,
      "metadata": {
        "id": "ITxYb07fHlTD"
      },
      "outputs": [],
      "source": [
        "def solve_floor_number():\n",
        "    N, L = map(int, input().split())\n",
        "\n",
        "    # N = 0인 경우: 0을 포함하고 나머지는 1로 채움\n",
        "    if N == 0:\n",
        "        result = '1' + '0' + '1' * (L - 2)\n",
        "        print(result)\n",
        "        return\n",
        "\n",
        "    # N != 0인 경우: N을 2~9의 숫자들의 곱으로 분해\n",
        "    digits = []\n",
        "\n",
        "    # 9부터 2까지 역순으로 나누어가며 소인수분해\n",
        "    for d in range(9, 1, -1):\n",
        "        while N % d == 0:\n",
        "            digits.append(str(d))\n",
        "            N //= d\n",
        "\n",
        "    # N이 1이 아니면 소인수분해가 불가능 (1보다 큰 소수가 남음)\n",
        "    # 2~9로 표현할 수 없는 경우\n",
        "    if N != 1:\n",
        "        # 이런 경우는 문제 조건상 발생하지 않을 것으로 예상\n",
        "        # 하지만 안전장치로 -1 출력하거나 예외처리\n",
        "        print(-1)\n",
        "        return\n",
        "\n",
        "    # 자릿수가 부족하면 1을 추가\n",
        "    while len(digits) < L:\n",
        "        digits.append('1')\n",
        "\n",
        "    # 자릿수가 초과하면 불가능한 경우\n",
        "    if len(digits) > L:\n",
        "        print(-1)\n",
        "        return\n",
        "\n",
        "    # 결과 조합 (큰 숫자부터 배치하여 사전순으로 뒤쪽에 오도록)\n",
        "    digits.sort(reverse=True)\n",
        "    result = ''.join(digits)\n",
        "\n",
        "    print(result)\n",
        "\n",
        "solve_floor_number()"
      ]
    }
  ]
}