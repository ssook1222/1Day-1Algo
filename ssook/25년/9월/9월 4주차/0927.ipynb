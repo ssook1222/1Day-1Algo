{
  "nbformat": 4,
  "nbformat_minor": 0,
  "metadata": {
    "colab": {
      "provenance": [],
      "authorship_tag": "ABX9TyMs7GoDAFc6LAk9FvNo4wML",
      "include_colab_link": true
    },
    "kernelspec": {
      "name": "python3",
      "display_name": "Python 3"
    },
    "language_info": {
      "name": "python"
    }
  },
  "cells": [
    {
      "cell_type": "markdown",
      "metadata": {
        "id": "view-in-github",
        "colab_type": "text"
      },
      "source": [
        "<a href=\"https://colab.research.google.com/github/ssook1222/1Day-1Algo/blob/master/ssook/25%EB%85%84/9%EC%9B%94/9%EC%9B%94%204%EC%A3%BC%EC%B0%A8/0927.ipynb\" target=\"_parent\"><img src=\"https://colab.research.google.com/assets/colab-badge.svg\" alt=\"Open In Colab\"/></a>"
      ]
    },
    {
      "cell_type": "markdown",
      "source": [
        "## BoJ"
      ],
      "metadata": {
        "id": "692H8sJaH4nU"
      }
    },
    {
      "cell_type": "markdown",
      "source": [
        "### 29196"
      ],
      "metadata": {
        "id": "ue0V4ZSOH6XF"
      }
    },
    {
      "cell_type": "code",
      "execution_count": null,
      "metadata": {
        "id": "ITxYb07fHlTD"
      },
      "outputs": [],
      "source": [
        "def solve_decimal_to_fraction():\n",
        "    k_str = input().strip()\n",
        "    k = float(k_str)\n",
        "\n",
        "    def gcd(a, b):\n",
        "        while b:\n",
        "            a, b = b, a % b\n",
        "        return a\n",
        "\n",
        "    # 소수점 문자열을 분수로 직접 변환\n",
        "    if '.' in k_str:\n",
        "        # 소수점 이후 자릿수 계산\n",
        "        decimal_part = k_str.split('.')[1]\n",
        "        decimal_places = len(decimal_part)\n",
        "\n",
        "        # 분모는 10^(소수점 자릿수)\n",
        "        denominator = 10 ** decimal_places\n",
        "        # 분자는 소수에 분모를 곱한 값\n",
        "        numerator = int(k * denominator + 0.5)  # 반올림으로 부동소수점 오차 보정\n",
        "\n",
        "        # 기약분수로 만들기\n",
        "        g = gcd(numerator, denominator)\n",
        "        p = numerator // g\n",
        "        q = denominator // g\n",
        "\n",
        "        # 조건 확인\n",
        "        if p > 0 and q > 0 and p <= 10**9 and q <= 10**9:\n",
        "            # 오차 검증\n",
        "            approx = p / q\n",
        "            abs_error = abs(k - approx)\n",
        "            rel_error = abs_error / k if k != 0 else abs_error\n",
        "\n",
        "            if abs_error <= 1e-6 or rel_error <= 1e-6:\n",
        "                print(\"YES\")\n",
        "                print(p, q)\n",
        "                return\n",
        "\n",
        "    # 직접 변환이 안 되면 연분수 방법 시도\n",
        "    def find_fraction_continued_fraction(target, max_denom=10**9, tolerance=1e-6):\n",
        "        x = target\n",
        "        h0, h1 = 0, 1\n",
        "        k0, k1 = 1, 0\n",
        "\n",
        "        for _ in range(100):\n",
        "            if abs(x) < 1e-15:\n",
        "                break\n",
        "\n",
        "            a = int(x)\n",
        "            h2 = a * h1 + h0\n",
        "            k2 = a * k1 + k0\n",
        "\n",
        "            if k2 > max_denom:\n",
        "                break\n",
        "\n",
        "            if k2 > 0:\n",
        "                approx = h2 / k2\n",
        "                abs_error = abs(target - approx)\n",
        "                rel_error = abs_error / target if target != 0 else abs_error\n",
        "\n",
        "                if abs_error <= tolerance or rel_error <= tolerance:\n",
        "                    return h2, k2\n",
        "\n",
        "            if abs(x - a) < 1e-15:\n",
        "                break\n",
        "\n",
        "            x = 1.0 / (x - a)\n",
        "            h0, h1 = h1, h2\n",
        "            k0, k1 = k1, k2\n",
        "\n",
        "        return None, None\n",
        "\n",
        "    p, q = find_fraction_continued_fraction(k)\n",
        "\n",
        "    if p is not None and q is not None:\n",
        "        print(\"YES\")\n",
        "        print(p, q)\n",
        "    else:\n",
        "        print(\"NO\")\n",
        "\n",
        "solve_decimal_to_fraction()"
      ]
    }
  ]
}