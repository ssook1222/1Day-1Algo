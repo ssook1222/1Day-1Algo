{
  "nbformat": 4,
  "nbformat_minor": 0,
  "metadata": {
    "colab": {
      "provenance": [],
      "authorship_tag": "ABX9TyMR+IQVXCv9/k6+xcX+w2h5",
      "include_colab_link": true
    },
    "kernelspec": {
      "name": "python3",
      "display_name": "Python 3"
    },
    "language_info": {
      "name": "python"
    }
  },
  "cells": [
    {
      "cell_type": "markdown",
      "metadata": {
        "id": "view-in-github",
        "colab_type": "text"
      },
      "source": [
        "<a href=\"https://colab.research.google.com/github/ssook1222/1Day-1Algo/blob/master/ssook/25%EB%85%84/9%EC%9B%94/9%EC%9B%94%204%EC%A3%BC%EC%B0%A8/0921.ipynb\" target=\"_parent\"><img src=\"https://colab.research.google.com/assets/colab-badge.svg\" alt=\"Open In Colab\"/></a>"
      ]
    },
    {
      "cell_type": "markdown",
      "source": [
        "## BoJ"
      ],
      "metadata": {
        "id": "8Il66ZEIJSR7"
      }
    },
    {
      "cell_type": "markdown",
      "source": [
        "### 6679"
      ],
      "metadata": {
        "id": "2Ytud-CCJUbs"
      }
    },
    {
      "cell_type": "code",
      "execution_count": null,
      "metadata": {
        "id": "nIMkb07SI44V"
      },
      "outputs": [],
      "source": [
        "def digit_sum_base(n, base):\n",
        "    \"\"\"주어진 진법에서 숫자 n의 각 자릿수 합을 구하는 함수\"\"\"\n",
        "    total = 0\n",
        "    while n > 0:\n",
        "        total += n % base\n",
        "        n //= base\n",
        "    return total\n",
        "\n",
        "# 1000부터 9999까지의 모든 네자리 숫자 확인\n",
        "for num in range(1000, 10000):\n",
        "    # 10진수, 12진수, 16진수에서의 자릿수 합 계산\n",
        "    sum_10 = digit_sum_base(num, 10)\n",
        "    sum_12 = digit_sum_base(num, 12)\n",
        "    sum_16 = digit_sum_base(num, 16)\n",
        "\n",
        "    # 세 값이 모두 같으면 싱기한 네자리 숫자\n",
        "    if sum_10 == sum_12 == sum_16:\n",
        "        print(num)"
      ]
    }
  ]
}