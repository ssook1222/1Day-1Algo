{
  "nbformat": 4,
  "nbformat_minor": 0,
  "metadata": {
    "colab": {
      "provenance": [],
      "authorship_tag": "ABX9TyMmMa9bDZRGnegkiVsJIOdM",
      "include_colab_link": true
    },
    "kernelspec": {
      "name": "python3",
      "display_name": "Python 3"
    },
    "language_info": {
      "name": "python"
    }
  },
  "cells": [
    {
      "cell_type": "markdown",
      "metadata": {
        "id": "view-in-github",
        "colab_type": "text"
      },
      "source": [
        "<a href=\"https://colab.research.google.com/github/ssook1222/1Day-1Algo/blob/master/ssook/25%EB%85%84/9%EC%9B%94/9%EC%9B%94%204%EC%A3%BC%EC%B0%A8/0925.ipynb\" target=\"_parent\"><img src=\"https://colab.research.google.com/assets/colab-badge.svg\" alt=\"Open In Colab\"/></a>"
      ]
    },
    {
      "cell_type": "markdown",
      "source": [
        "## BoJ"
      ],
      "metadata": {
        "id": "692H8sJaH4nU"
      }
    },
    {
      "cell_type": "markdown",
      "source": [
        "### 31408"
      ],
      "metadata": {
        "id": "ue0V4ZSOH6XF"
      }
    },
    {
      "cell_type": "code",
      "execution_count": null,
      "metadata": {
        "id": "ITxYb07fHlTD"
      },
      "outputs": [],
      "source": [
        "def can_improve_schedule():\n",
        "    n = int(input())\n",
        "    duties = list(map(int, input().split()))\n",
        "\n",
        "    # 각 병사별 당직 횟수 세기\n",
        "    count = {}\n",
        "    for soldier in duties:\n",
        "        count[soldier] = count.get(soldier, 0) + 1\n",
        "\n",
        "    # 가장 많이 당직을 서는 병사의 횟수\n",
        "    max_count = max(count.values())\n",
        "\n",
        "    # 나머지 병사들의 당직 횟수 합\n",
        "    other_count = n - max_count\n",
        "\n",
        "    # 연속되지 않게 배치하려면:\n",
        "    # 가장 많은 병사들 사이사이에 다른 병사들을 끼워넣어야 함\n",
        "    # 예: A A A A (max_count = 4개)\n",
        "    # 사이사이에 끼우려면: A B A B A B A (최소 3개 필요)\n",
        "    # 즉, other_count >= max_count - 1 이어야 함\n",
        "\n",
        "    if other_count >= max_count - 1:\n",
        "        print(\"YES\")\n",
        "    else:\n",
        "        print(\"NO\")\n",
        "\n",
        "can_improve_schedule()"
      ]
    }
  ]
}