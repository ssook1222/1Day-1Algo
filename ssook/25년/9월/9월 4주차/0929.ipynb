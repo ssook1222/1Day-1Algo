{
  "nbformat": 4,
  "nbformat_minor": 0,
  "metadata": {
    "colab": {
      "provenance": [],
      "authorship_tag": "ABX9TyP7sx57zmgXjZN7PF0oWWWQ",
      "include_colab_link": true
    },
    "kernelspec": {
      "name": "python3",
      "display_name": "Python 3"
    },
    "language_info": {
      "name": "python"
    }
  },
  "cells": [
    {
      "cell_type": "markdown",
      "metadata": {
        "id": "view-in-github",
        "colab_type": "text"
      },
      "source": [
        "<a href=\"https://colab.research.google.com/github/ssook1222/1Day-1Algo/blob/master/ssook/25%EB%85%84/9%EC%9B%94/9%EC%9B%94%204%EC%A3%BC%EC%B0%A8/0929.ipynb\" target=\"_parent\"><img src=\"https://colab.research.google.com/assets/colab-badge.svg\" alt=\"Open In Colab\"/></a>"
      ]
    },
    {
      "cell_type": "markdown",
      "source": [
        "## BoJ"
      ],
      "metadata": {
        "id": "_icmQNQADvDH"
      }
    },
    {
      "cell_type": "markdown",
      "source": [
        "### 3208"
      ],
      "metadata": {
        "id": "Ac1VYbF2DxWY"
      }
    },
    {
      "cell_type": "code",
      "execution_count": null,
      "metadata": {
        "id": "M1tMqmdJDdUZ"
      },
      "outputs": [],
      "source": [
        "m, n = map(int, input().split())\n",
        "\n",
        "# 벌레가 나선형으로 먹어들어가면서 턴하는 횟수를 계산\n",
        "turns = 0\n",
        "top, bottom = 0, m - 1\n",
        "left, right = 0, n - 1\n",
        "\n",
        "while top <= bottom and left <= right:\n",
        "    # 첫 번째: 위쪽 행을 왼쪽에서 오른쪽으로\n",
        "    if top <= bottom:\n",
        "        # 행을 다 먹었으면 아래로 이동 준비\n",
        "        top += 1\n",
        "        if top <= bottom and left <= right:\n",
        "            turns += 1\n",
        "\n",
        "    # 두 번째: 오른쪽 열을 위에서 아래로\n",
        "    if left <= right:\n",
        "        # 열을 다 먹었으면 왼쪽으로 이동 준비\n",
        "        right -= 1\n",
        "        if top <= bottom and left <= right:\n",
        "            turns += 1\n",
        "\n",
        "    # 세 번째: 아래쪽 행을 오른쪽에서 왼쪽으로\n",
        "    if top <= bottom:\n",
        "        # 행을 다 먹었으면 위로 이동 준비\n",
        "        bottom -= 1\n",
        "        if top <= bottom and left <= right:\n",
        "            turns += 1\n",
        "\n",
        "    # 네 번째: 왼쪽 열을 아래에서 위로\n",
        "    if left <= right:\n",
        "        # 열을 다 먹었으면 오른쪽으로 이동 준비\n",
        "        left += 1\n",
        "        if top <= bottom and left <= right:\n",
        "            turns += 1\n",
        "\n",
        "print(turns)"
      ]
    }
  ]
}