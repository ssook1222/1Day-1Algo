{
  "nbformat": 4,
  "nbformat_minor": 0,
  "metadata": {
    "colab": {
      "provenance": [],
      "authorship_tag": "ABX9TyMdixzfVQSvihxBqrwKHR1A",
      "include_colab_link": true
    },
    "kernelspec": {
      "name": "python3",
      "display_name": "Python 3"
    },
    "language_info": {
      "name": "python"
    }
  },
  "cells": [
    {
      "cell_type": "markdown",
      "metadata": {
        "id": "view-in-github",
        "colab_type": "text"
      },
      "source": [
        "<a href=\"https://colab.research.google.com/github/ssook1222/1Day-1Algo/blob/master/ssook/25%EB%85%84/1%EC%9B%94/1%EC%9B%94%203%EC%A3%BC%EC%B0%A8/0118.ipynb\" target=\"_parent\"><img src=\"https://colab.research.google.com/assets/colab-badge.svg\" alt=\"Open In Colab\"/></a>"
      ]
    },
    {
      "cell_type": "markdown",
      "source": [
        "## BoJ"
      ],
      "metadata": {
        "id": "jT9C720ZWsCN"
      }
    },
    {
      "cell_type": "markdown",
      "source": [
        "### 2133"
      ],
      "metadata": {
        "id": "fPzE8nYNWtYj"
      }
    },
    {
      "cell_type": "code",
      "source": [
        "wall_length = int(input())  # 입력: 벽의 길이 N\n",
        "tile_ways = [0 for _ in range(31)]  # 타일을 채우는 방법의 수를 저장하는 DP 배열\n",
        "tile_ways[2] = 3  # 벽의 길이가 2일 때의 경우의 수는 3\n",
        "\n",
        "for current_length in range(4, wall_length + 1):\n",
        "    if current_length % 2 == 0:\n",
        "        tile_ways[current_length] = tile_ways[current_length - 2] * 3 + sum(tile_ways[:current_length - 2]) * 2 + 2\n",
        "    else:\n",
        "        tile_ways[current_length] = 0\n",
        "\n",
        "print(tile_ways[wall_length])  # 결과 출력: 벽을 채울 수 있는 경우의 수"
      ],
      "metadata": {
        "id": "ADeiMaF0Wt5X"
      },
      "execution_count": null,
      "outputs": []
    },
    {
      "cell_type": "markdown",
      "source": [
        "## Programmers"
      ],
      "metadata": {
        "id": "l4vDyf5LWvPf"
      }
    },
    {
      "cell_type": "markdown",
      "source": [
        "### 최빈값 구하기"
      ],
      "metadata": {
        "id": "6-KrXFGwWuND"
      }
    },
    {
      "cell_type": "code",
      "source": [
        "def solution(array):\n",
        "    answer = 0\n",
        "    cnt = {}\n",
        "    for i in range(len(array)):\n",
        "        if array[i] in cnt:\n",
        "            cnt[array[i]] += 1\n",
        "\n",
        "        else:\n",
        "            cnt[array[i]] = 1\n",
        "\n",
        "    max_count = max(cnt.values())\n",
        "    modes = [k for k, v in cnt.items() if v == max_count]\n",
        "\n",
        "    if len(modes) > 1:\n",
        "        answer = -1\n",
        "    else:\n",
        "        answer = modes[0]\n",
        "\n",
        "    return answer"
      ],
      "metadata": {
        "id": "Aj_wzsFwWu07"
      },
      "execution_count": null,
      "outputs": []
    }
  ]
}