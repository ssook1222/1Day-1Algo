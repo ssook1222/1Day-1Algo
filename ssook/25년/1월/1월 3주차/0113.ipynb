{
  "nbformat": 4,
  "nbformat_minor": 0,
  "metadata": {
    "colab": {
      "provenance": [],
      "authorship_tag": "ABX9TyNJSyFhbzJ8nmkIR80L7D1a",
      "include_colab_link": true
    },
    "kernelspec": {
      "name": "python3",
      "display_name": "Python 3"
    },
    "language_info": {
      "name": "python"
    }
  },
  "cells": [
    {
      "cell_type": "markdown",
      "metadata": {
        "id": "view-in-github",
        "colab_type": "text"
      },
      "source": [
        "<a href=\"https://colab.research.google.com/github/ssook1222/1Day-1Algo/blob/master/ssook/25%EB%85%84/1%EC%9B%94/1%EC%9B%94%203%EC%A3%BC%EC%B0%A8/0113.ipynb\" target=\"_parent\"><img src=\"https://colab.research.google.com/assets/colab-badge.svg\" alt=\"Open In Colab\"/></a>"
      ]
    },
    {
      "cell_type": "markdown",
      "source": [
        "## BoJ"
      ],
      "metadata": {
        "id": "jT9C720ZWsCN"
      }
    },
    {
      "cell_type": "markdown",
      "source": [
        "### 2098"
      ],
      "metadata": {
        "id": "fPzE8nYNWtYj"
      }
    },
    {
      "cell_type": "code",
      "source": [
        "import sys\n",
        "N = int(input())\n",
        "cost_matrix = []\n",
        "for _ in range(N):\n",
        "    cost_matrix.append(list(map(int, sys.stdin.readline().split())))\n",
        "\n",
        "dp = {}\n",
        "\n",
        "def DFS(current, visited):\n",
        "    # 모든 도시를 방문한 경우\n",
        "    if visited == (1 << N) - 1:\n",
        "        # 다시 출발 도시로 갈 수 있는 경우 출발 도시까지의 비용 반환\n",
        "        if cost_matrix[current][0]:\n",
        "            return cost_matrix[current][0]\n",
        "        else:\n",
        "            # 갈 수 없는 경우 무한대 반환 (이 경로가 최소비용으로 채택되지 않게)\n",
        "            return int(1e9)\n",
        "\n",
        "    # 이전에 계산된 경우 결과 반환\n",
        "    if (current, visited) in dp:\n",
        "        return dp[(current, visited)]  # current까지 방문한 최소 비용\n",
        "\n",
        "    min_cost = int(1e9)\n",
        "    for next_city in range(1, N):\n",
        "        # 비용이 0이어서 갈 수 없거나, 이미 방문한 도시면 무시\n",
        "        if cost_matrix[current][next_city] == 0 or visited & (1 << next_city):\n",
        "            continue\n",
        "        cost = DFS(next_city, visited | (1 << next_city)) + cost_matrix[current][next_city]\n",
        "        min_cost = min(cost, min_cost)\n",
        "\n",
        "    dp[(current, visited)] = min_cost  # 현재 경우에서 최소 비용이 드는 루트의 비용 저장\n",
        "    return min_cost  # 비용 리턴\n",
        "\n",
        "print(DFS(0, 1))  # current: 0번째 도시부터 방문, visited: 0번째 도시 방문 처리"
      ],
      "metadata": {
        "id": "ADeiMaF0Wt5X"
      },
      "execution_count": null,
      "outputs": []
    },
    {
      "cell_type": "markdown",
      "source": [
        "## Programmers"
      ],
      "metadata": {
        "id": "l4vDyf5LWvPf"
      }
    },
    {
      "cell_type": "markdown",
      "source": [
        "### 특이한 정렬"
      ],
      "metadata": {
        "id": "6-KrXFGwWuND"
      }
    },
    {
      "cell_type": "code",
      "source": [
        "def solution(numlist, n):\n",
        "    answer = []\n",
        "    raw_data = {}\n",
        "\n",
        "    for i in numlist:\n",
        "        raw_data[i] = abs(i-n)\n",
        "\n",
        "    raw_data = sorted(raw_data.items(), key = lambda x: (x[1], -x[0]))\n",
        "\n",
        "    for i in raw_data:\n",
        "        answer.append(i[0])\n",
        "\n",
        "    return answer"
      ],
      "metadata": {
        "id": "Aj_wzsFwWu07"
      },
      "execution_count": null,
      "outputs": []
    }
  ]
}