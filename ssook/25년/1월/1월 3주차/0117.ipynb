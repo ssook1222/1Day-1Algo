{
  "nbformat": 4,
  "nbformat_minor": 0,
  "metadata": {
    "colab": {
      "provenance": [],
      "authorship_tag": "ABX9TyMZNDdlvF/X1IEnAnnRf39N",
      "include_colab_link": true
    },
    "kernelspec": {
      "name": "python3",
      "display_name": "Python 3"
    },
    "language_info": {
      "name": "python"
    }
  },
  "cells": [
    {
      "cell_type": "markdown",
      "metadata": {
        "id": "view-in-github",
        "colab_type": "text"
      },
      "source": [
        "<a href=\"https://colab.research.google.com/github/ssook1222/1Day-1Algo/blob/master/ssook/25%EB%85%84/1%EC%9B%94/1%EC%9B%94%203%EC%A3%BC%EC%B0%A8/0117.ipynb\" target=\"_parent\"><img src=\"https://colab.research.google.com/assets/colab-badge.svg\" alt=\"Open In Colab\"/></a>"
      ]
    },
    {
      "cell_type": "markdown",
      "source": [
        "## BoJ"
      ],
      "metadata": {
        "id": "jT9C720ZWsCN"
      }
    },
    {
      "cell_type": "markdown",
      "source": [
        "### 1699"
      ],
      "metadata": {
        "id": "fPzE8nYNWtYj"
      }
    },
    {
      "cell_type": "code",
      "source": [
        "target_number = int(input())  # 입력: 목표 자연수 N\n",
        "min_square_terms = [x for x in range(target_number + 1)]  # 최소 제곱수 합을 위한 DP 배열 초기화\n",
        "\n",
        "# DP 배열을 계산하는 과정\n",
        "for current_number in range(1, target_number + 1):\n",
        "    for square_number in range(1, current_number):\n",
        "        if square_number * square_number > current_number:\n",
        "            break\n",
        "        if min_square_terms[current_number] > min_square_terms[current_number - square_number * square_number] + 1:\n",
        "            min_square_terms[current_number] = min_square_terms[current_number - square_number * square_number] + 1\n",
        "\n",
        "# 결과 출력\n",
        "print(min_square_terms[target_number])  # 목표 자연수 target_number를 제곱수 합으로 나타내기 위한 최소 항의 개수"
      ],
      "metadata": {
        "id": "ADeiMaF0Wt5X"
      },
      "execution_count": null,
      "outputs": []
    },
    {
      "cell_type": "markdown",
      "source": [
        "## Programmers"
      ],
      "metadata": {
        "id": "l4vDyf5LWvPf"
      }
    },
    {
      "cell_type": "markdown",
      "source": [
        "### 저주의 숫자"
      ],
      "metadata": {
        "id": "6-KrXFGwWuND"
      }
    },
    {
      "cell_type": "code",
      "source": [
        "def solution(n):\n",
        "    answer = 0\n",
        "\n",
        "    natural_num = [i for i in range(1, 230)]\n",
        "    num = []\n",
        "\n",
        "    for i in range(len(natural_num)):\n",
        "        if natural_num[i] % 3 != 0 and natural_num[i] % 10 != 3 and (natural_num[i] < 30 or natural_num[i] >=40) and (natural_num[i] < 130 or natural_num[i] >=140):\n",
        "            num.append(natural_num[i])\n",
        "\n",
        "    answer = num[n-1]\n",
        "\n",
        "    return answer"
      ],
      "metadata": {
        "id": "Aj_wzsFwWu07"
      },
      "execution_count": null,
      "outputs": []
    }
  ]
}