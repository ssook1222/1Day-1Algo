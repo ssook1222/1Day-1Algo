{
  "nbformat": 4,
  "nbformat_minor": 0,
  "metadata": {
    "colab": {
      "provenance": [],
      "authorship_tag": "ABX9TyMqLuQ4v/cNYbB2qQr4ytBX",
      "include_colab_link": true
    },
    "kernelspec": {
      "name": "python3",
      "display_name": "Python 3"
    },
    "language_info": {
      "name": "python"
    }
  },
  "cells": [
    {
      "cell_type": "markdown",
      "metadata": {
        "id": "view-in-github",
        "colab_type": "text"
      },
      "source": [
        "<a href=\"https://colab.research.google.com/github/ssook1222/1Day-1Algo/blob/master/ssook/25%EB%85%84/1%EC%9B%94/1%EC%9B%94%203%EC%A3%BC%EC%B0%A8/0116.ipynb\" target=\"_parent\"><img src=\"https://colab.research.google.com/assets/colab-badge.svg\" alt=\"Open In Colab\"/></a>"
      ]
    },
    {
      "cell_type": "markdown",
      "source": [
        "## BoJ"
      ],
      "metadata": {
        "id": "jT9C720ZWsCN"
      }
    },
    {
      "cell_type": "markdown",
      "source": [
        "### 11507"
      ],
      "metadata": {
        "id": "fPzE8nYNWtYj"
      }
    },
    {
      "cell_type": "code",
      "source": [
        "card_counts = {'P': 13, 'K': 13, 'H': 13, 'T': 13}  # 카드 모양에 따라 남은 카드 수\n",
        "card_string = input()  # 카드 이름들이 결합된 문자열\n",
        "seen_cards = set()  # 이미 본 카드들을 저장할 집합\n",
        "\n",
        "has_duplicate = False  # 중복 카드가 있는지 여부\n",
        "for card_idx in range(0, len(card_string), 3):  # 카드 이름은 3자리로 구성됨\n",
        "    card = card_string[card_idx:card_idx+3]  # 현재 카드 추출\n",
        "    if card in seen_cards:  # 중복 카드가 있으면\n",
        "        has_duplicate = True\n",
        "        print('GRESKA')  # 중복이 있으면 \"GRESKA\" 출력\n",
        "        break\n",
        "    seen_cards.add(card)  # 카드 집합에 추가\n",
        "    card_counts[card[0]] -= 1  # 해당 카드의 모양에 대한 수 감소\n",
        "\n",
        "if not has_duplicate:  # 중복이 없으면\n",
        "    print(*card_counts.values())  # 남은 카드 수 출력"
      ],
      "metadata": {
        "id": "ADeiMaF0Wt5X"
      },
      "execution_count": null,
      "outputs": []
    },
    {
      "cell_type": "markdown",
      "source": [
        "## Programmers"
      ],
      "metadata": {
        "id": "l4vDyf5LWvPf"
      }
    },
    {
      "cell_type": "markdown",
      "source": [
        "### 다항식 더하기"
      ],
      "metadata": {
        "id": "6-KrXFGwWuND"
      }
    },
    {
      "cell_type": "code",
      "source": [
        "def solution(polynomial):\n",
        "    answer = ''\n",
        "    hap = 0\n",
        "    sangsu = 0\n",
        "    test = list(polynomial.strip().split(' + '))\n",
        "\n",
        "    for i in test:\n",
        "\n",
        "        if i.isdigit()!=True:\n",
        "            if len(i) == 1:\n",
        "                hap += 1\n",
        "            else:\n",
        "                hap += int(i[:len(i)-1])\n",
        "        else:\n",
        "            sangsu += int(i)\n",
        "\n",
        "    if hap == 1 and sangsu == 0:\n",
        "        answer = 'x'\n",
        "    elif hap > 1 and sangsu == 0:\n",
        "        answer = str(hap) +'x'\n",
        "    elif hap == 1 and sangsu != 0:\n",
        "        answer = 'x + ' + str(sangsu)\n",
        "    elif hap > 1 and sangsu != 0:\n",
        "        answer = str(hap) + 'x + ' + str(sangsu)\n",
        "    elif hap == 0:\n",
        "        answer = str(sangsu)\n",
        "\n",
        "    return answer"
      ],
      "metadata": {
        "id": "Aj_wzsFwWu07"
      },
      "execution_count": null,
      "outputs": []
    }
  ]
}