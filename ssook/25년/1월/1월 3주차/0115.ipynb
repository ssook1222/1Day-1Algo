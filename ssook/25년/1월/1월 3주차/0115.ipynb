{
  "nbformat": 4,
  "nbformat_minor": 0,
  "metadata": {
    "colab": {
      "provenance": [],
      "authorship_tag": "ABX9TyNU0/K8JKdfdYzvWTG397os",
      "include_colab_link": true
    },
    "kernelspec": {
      "name": "python3",
      "display_name": "Python 3"
    },
    "language_info": {
      "name": "python"
    }
  },
  "cells": [
    {
      "cell_type": "markdown",
      "metadata": {
        "id": "view-in-github",
        "colab_type": "text"
      },
      "source": [
        "<a href=\"https://colab.research.google.com/github/ssook1222/1Day-1Algo/blob/master/ssook/25%EB%85%84/1%EC%9B%94/1%EC%9B%94%203%EC%A3%BC%EC%B0%A8/0115.ipynb\" target=\"_parent\"><img src=\"https://colab.research.google.com/assets/colab-badge.svg\" alt=\"Open In Colab\"/></a>"
      ]
    },
    {
      "cell_type": "markdown",
      "source": [
        "## BoJ"
      ],
      "metadata": {
        "id": "jT9C720ZWsCN"
      }
    },
    {
      "cell_type": "markdown",
      "source": [
        "### 11502"
      ],
      "metadata": {
        "id": "fPzE8nYNWtYj"
      }
    },
    {
      "cell_type": "code",
      "source": [
        "def printSum(primes, target_sum):\n",
        "    for prime1 in primes:\n",
        "        for prime2 in primes:\n",
        "            for prime3 in primes:\n",
        "                if prime1 + prime2 + prime3 == target_sum:\n",
        "                    print(prime1, prime2, prime3)\n",
        "                    return\n",
        "    print(0)\n",
        "\n",
        "def findPrime(limit):\n",
        "    data = list(range(2, limit + 1))\n",
        "    primes = []\n",
        "\n",
        "    while len(data) != 0:\n",
        "        m = data[0]\n",
        "        primes.append(m)\n",
        "        cnt = 0\n",
        "        while cnt < len(data):\n",
        "            if data[cnt] % m == 0:\n",
        "                data.pop(cnt)\n",
        "                cnt -= 1\n",
        "            cnt += 1\n",
        "\n",
        "    return primes\n",
        "\n",
        "# 입력 받기\n",
        "test_cases = int(input())\n",
        "odd_numbers = []\n",
        "\n",
        "for _ in range(test_cases):\n",
        "    odd_numbers.append(int(input()))\n",
        "\n",
        "# 각 홀수에 대해 3개의 소수로 합을 구할 수 있는지 확인\n",
        "for number in odd_numbers:\n",
        "    printSum(findPrime(number), number)\n"
      ],
      "metadata": {
        "id": "ADeiMaF0Wt5X"
      },
      "execution_count": null,
      "outputs": []
    },
    {
      "cell_type": "markdown",
      "source": [
        "## Programmers"
      ],
      "metadata": {
        "id": "l4vDyf5LWvPf"
      }
    },
    {
      "cell_type": "markdown",
      "source": [
        "### 외계어 사전"
      ],
      "metadata": {
        "id": "6-KrXFGwWuND"
      }
    },
    {
      "cell_type": "code",
      "source": [
        "def solution(spell, dic):\n",
        "    def backtrack(visited, current_word):\n",
        "        if len(current_word) == len(spell):\n",
        "            if current_word in dic:\n",
        "                return True\n",
        "            return False\n",
        "\n",
        "        for i in range(len(spell)):\n",
        "            if not visited[i]:\n",
        "                visited[i] = True\n",
        "                if backtrack(visited, current_word + spell[i]):\n",
        "                    return True\n",
        "                visited[i] = False\n",
        "\n",
        "        return False\n",
        "\n",
        "    visited = [False] * len(spell)\n",
        "    return 1 if backtrack(visited, \"\") else 2\n"
      ],
      "metadata": {
        "id": "Aj_wzsFwWu07"
      },
      "execution_count": null,
      "outputs": []
    }
  ]
}