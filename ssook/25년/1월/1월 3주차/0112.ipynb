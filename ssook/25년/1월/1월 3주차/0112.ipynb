{
  "nbformat": 4,
  "nbformat_minor": 0,
  "metadata": {
    "colab": {
      "provenance": [],
      "authorship_tag": "ABX9TyN3Son0Bn7nMqa885iRzb0V",
      "include_colab_link": true
    },
    "kernelspec": {
      "name": "python3",
      "display_name": "Python 3"
    },
    "language_info": {
      "name": "python"
    }
  },
  "cells": [
    {
      "cell_type": "markdown",
      "metadata": {
        "id": "view-in-github",
        "colab_type": "text"
      },
      "source": [
        "<a href=\"https://colab.research.google.com/github/ssook1222/1Day-1Algo/blob/master/ssook/25%EB%85%84/1%EC%9B%94/1%EC%9B%94%203%EC%A3%BC%EC%B0%A8/0112.ipynb\" target=\"_parent\"><img src=\"https://colab.research.google.com/assets/colab-badge.svg\" alt=\"Open In Colab\"/></a>"
      ]
    },
    {
      "cell_type": "markdown",
      "source": [
        "## BoJ"
      ],
      "metadata": {
        "id": "mCJEkp3RbCoH"
      }
    },
    {
      "cell_type": "markdown",
      "source": [
        "### 17174"
      ],
      "metadata": {
        "id": "g_fKa2GKbEdO"
      }
    },
    {
      "cell_type": "code",
      "source": [
        "N, M = map(int, input().split())\n",
        "t = N\n",
        "while N:\n",
        "    N = N//M\n",
        "    t += N\n",
        "print(t)"
      ],
      "metadata": {
        "id": "3FJPk1gKbFLG"
      },
      "execution_count": null,
      "outputs": []
    },
    {
      "cell_type": "markdown",
      "source": [
        "---"
      ],
      "metadata": {
        "id": "9FbJ37KUbFpH"
      }
    },
    {
      "cell_type": "markdown",
      "source": [
        "## 프로그래머스"
      ],
      "metadata": {
        "id": "46b2TbV9bifR"
      }
    },
    {
      "cell_type": "markdown",
      "source": [
        "### 특이한 정렬"
      ],
      "metadata": {
        "id": "j6v2y7EHbkxL"
      }
    },
    {
      "cell_type": "code",
      "source": [
        "def solution(numlist, n):\n",
        "    answer = []\n",
        "    raw_data = {}\n",
        "\n",
        "    for i in numlist:\n",
        "        raw_data[i] = abs(i-n)\n",
        "\n",
        "    raw_data = sorted(raw_data.items(), key = lambda x: (x[1], -x[0]))\n",
        "\n",
        "    for i in raw_data:\n",
        "        answer.append(i[0])\n",
        "\n",
        "    return answer"
      ],
      "metadata": {
        "id": "VVRpyNYqbrFl"
      },
      "execution_count": null,
      "outputs": []
    }
  ]
}