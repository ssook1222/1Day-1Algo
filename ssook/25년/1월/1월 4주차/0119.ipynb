{
  "nbformat": 4,
  "nbformat_minor": 0,
  "metadata": {
    "colab": {
      "provenance": [],
      "authorship_tag": "ABX9TyPgtWykpdLJjP5VgQwZzyrm",
      "include_colab_link": true
    },
    "kernelspec": {
      "name": "python3",
      "display_name": "Python 3"
    },
    "language_info": {
      "name": "python"
    }
  },
  "cells": [
    {
      "cell_type": "markdown",
      "metadata": {
        "id": "view-in-github",
        "colab_type": "text"
      },
      "source": [
        "<a href=\"https://colab.research.google.com/github/ssook1222/1Day-1Algo/blob/master/ssook/25%EB%85%84/1%EC%9B%94/1%EC%9B%94%204%EC%A3%BC%EC%B0%A8/0119.ipynb\" target=\"_parent\"><img src=\"https://colab.research.google.com/assets/colab-badge.svg\" alt=\"Open In Colab\"/></a>"
      ]
    },
    {
      "cell_type": "markdown",
      "source": [
        "## BoJ"
      ],
      "metadata": {
        "id": "jT9C720ZWsCN"
      }
    },
    {
      "cell_type": "markdown",
      "source": [
        "### 1309"
      ],
      "metadata": {
        "id": "fPzE8nYNWtYj"
      }
    },
    {
      "cell_type": "code",
      "source": [
        "from sys import stdin\n",
        "\n",
        "cage_height = int(stdin.readline())  # 입력: 동물원의 세로 크기 N\n",
        "\n",
        "if cage_height == 1:\n",
        "    print(3)\n",
        "else:\n",
        "    lion_placement = [1 for _ in range(cage_height + 1)]  # 사자 배치 경우의 수를 저장하는 DP 배열\n",
        "    lion_placement[1], lion_placement[2] = 3, 7  # 초기 조건 설정\n",
        "    for current_height in range(3, cage_height + 1):\n",
        "        lion_placement[current_height] = (2 * lion_placement[current_height - 1] + lion_placement[current_height - 2]) % 9901\n",
        "    print(lion_placement[cage_height])  # 결과 출력: 사자 배치 경우의 수"
      ],
      "metadata": {
        "id": "ADeiMaF0Wt5X"
      },
      "execution_count": null,
      "outputs": []
    },
    {
      "cell_type": "markdown",
      "source": [
        "## Programmers"
      ],
      "metadata": {
        "id": "l4vDyf5LWvPf"
      }
    },
    {
      "cell_type": "markdown",
      "source": [
        "### 평행"
      ],
      "metadata": {
        "id": "6-KrXFGwWuND"
      }
    },
    {
      "cell_type": "code",
      "source": [
        "def solution(dots):\n",
        "    answer = 0\n",
        "\n",
        "    #직선의 기울기 6개 모두 구하기\n",
        "    l1 = (dots[1][1] - dots[0][1])/(dots[1][0] - dots[0][0])\n",
        "    l2 = (dots[2][1] - dots[3][1])/(dots[2][0] - dots[3][0])\n",
        "    l3 = (dots[2][1] - dots[0][1])/(dots[2][0] - dots[0][0])\n",
        "    l4 = (dots[2][1] - dots[1][1])/(dots[2][0] - dots[1][0])\n",
        "    l5 = (dots[3][1] - dots[0][1])/(dots[3][0] - dots[0][0])\n",
        "    l6 = (dots[3][1] - dots[1][1])/(dots[3][0] - dots[1][0])\n",
        "\n",
        "    if l1 == l2 or l3 == l6 or l4 == l5:\n",
        "        answer = 1\n",
        "\n",
        "    return answer"
      ],
      "metadata": {
        "id": "Aj_wzsFwWu07"
      },
      "execution_count": null,
      "outputs": []
    }
  ]
}