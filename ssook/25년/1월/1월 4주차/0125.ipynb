{
  "nbformat": 4,
  "nbformat_minor": 0,
  "metadata": {
    "colab": {
      "provenance": [],
      "authorship_tag": "ABX9TyPugZifrXx2p6QphiE2T643",
      "include_colab_link": true
    },
    "kernelspec": {
      "name": "python3",
      "display_name": "Python 3"
    },
    "language_info": {
      "name": "python"
    }
  },
  "cells": [
    {
      "cell_type": "markdown",
      "metadata": {
        "id": "view-in-github",
        "colab_type": "text"
      },
      "source": [
        "<a href=\"https://colab.research.google.com/github/ssook1222/1Day-1Algo/blob/master/ssook/25%EB%85%84/1%EC%9B%94/1%EC%9B%94%204%EC%A3%BC%EC%B0%A8/0125.ipynb\" target=\"_parent\"><img src=\"https://colab.research.google.com/assets/colab-badge.svg\" alt=\"Open In Colab\"/></a>"
      ]
    },
    {
      "cell_type": "markdown",
      "source": [
        "## BoJ"
      ],
      "metadata": {
        "id": "0wxCymVpRgTt"
      }
    },
    {
      "cell_type": "markdown",
      "source": [
        "### 5397"
      ],
      "metadata": {
        "id": "31EiTSJjRiZ4"
      }
    },
    {
      "cell_type": "code",
      "source": [
        "t = int(input())\n",
        "\n",
        "for _ in range(t):\n",
        "    left_stack = []\n",
        "    right_stack = []\n",
        "    commands = input()\n",
        "\n",
        "    for command in commands:\n",
        "        if command == '-':  # 백스페이스 처리\n",
        "            if left_stack:\n",
        "                left_stack.pop()\n",
        "        elif command == '<':  # 왼쪽 화살표 처리 (왼쪽 스택에서 오른쪽 스택으로)\n",
        "            if left_stack:\n",
        "                right_stack.append(left_stack.pop())\n",
        "        elif command == '>':  # 오른쪽 화살표 처리 (오른쪽 스택에서 왼쪽 스택으로)\n",
        "            if right_stack:\n",
        "                left_stack.append(right_stack.pop())\n",
        "        else:  # 알파벳이나 숫자 입력 처리\n",
        "            left_stack.append(command)\n",
        "\n",
        "    # 오른쪽 스택에 있는 문자들을 뒤집어서 왼쪽 스택에 추가\n",
        "    left_stack.extend(reversed(right_stack))\n",
        "    print(''.join(left_stack))"
      ],
      "metadata": {
        "id": "GoIbauUiRjOR"
      },
      "execution_count": null,
      "outputs": []
    },
    {
      "cell_type": "markdown",
      "source": [
        "## 프로그래머스"
      ],
      "metadata": {
        "id": "CzACFPPTRjdn"
      }
    },
    {
      "cell_type": "markdown",
      "source": [
        "### 꼬리 문자열"
      ],
      "metadata": {
        "id": "LASaPJgbRkvD"
      }
    },
    {
      "cell_type": "code",
      "source": [
        "def solution(str_list, ex):\n",
        "    answer = ''\n",
        "\n",
        "    for i in str_list:\n",
        "        if ex not in i:\n",
        "            answer += i\n",
        "\n",
        "    return answer"
      ],
      "metadata": {
        "id": "w-jX_0Z0RlaZ"
      },
      "execution_count": null,
      "outputs": []
    }
  ]
}