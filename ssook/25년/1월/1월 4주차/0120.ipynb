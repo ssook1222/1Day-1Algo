{
  "nbformat": 4,
  "nbformat_minor": 0,
  "metadata": {
    "colab": {
      "provenance": [],
      "authorship_tag": "ABX9TyPOV6KrCzcStwWqVQYjSp7g",
      "include_colab_link": true
    },
    "kernelspec": {
      "name": "python3",
      "display_name": "Python 3"
    },
    "language_info": {
      "name": "python"
    }
  },
  "cells": [
    {
      "cell_type": "markdown",
      "metadata": {
        "id": "view-in-github",
        "colab_type": "text"
      },
      "source": [
        "<a href=\"https://colab.research.google.com/github/ssook1222/1Day-1Algo/blob/master/ssook/25%EB%85%84/1%EC%9B%94/1%EC%9B%94%204%EC%A3%BC%EC%B0%A8/0120.ipynb\" target=\"_parent\"><img src=\"https://colab.research.google.com/assets/colab-badge.svg\" alt=\"Open In Colab\"/></a>"
      ]
    },
    {
      "cell_type": "markdown",
      "source": [
        "## BoJ"
      ],
      "metadata": {
        "id": "0wxCymVpRgTt"
      }
    },
    {
      "cell_type": "markdown",
      "source": [
        "### 11266"
      ],
      "metadata": {
        "id": "31EiTSJjRiZ4"
      }
    },
    {
      "cell_type": "code",
      "source": [
        "import sys\n",
        "from collections import defaultdict\n",
        "\n",
        "sys.setrecursionlimit(10**6)\n",
        "\n",
        "def dfs(vertex, depth):\n",
        "    discovery_order[vertex] = depth\n",
        "\n",
        "    children = 0\n",
        "    ret = discovery_order[vertex]\n",
        "\n",
        "    for neighbor in adjacency_list[vertex]:\n",
        "        if discovery_order[neighbor]:\n",
        "            ret = min(ret, discovery_order[neighbor])\n",
        "\n",
        "        else:\n",
        "            children += 1\n",
        "            subtree = dfs(neighbor, depth + 1)\n",
        "\n",
        "            # Check for articulation point conditions\n",
        "            if depth != 1 and subtree >= discovery_order[vertex]:\n",
        "                articulation_points.add(vertex)\n",
        "\n",
        "            ret = min(subtree, ret)\n",
        "\n",
        "    if depth == 1 and children >= 2:\n",
        "        articulation_points.add(vertex)\n",
        "\n",
        "    return ret\n",
        "\n",
        "\n",
        "# Read input\n",
        "V, E = map(int, sys.stdin.readline().rstrip().split(\" \"))\n",
        "adjacency_list = defaultdict(list)\n",
        "articulation_points = set()\n",
        "candidate_vertices = set()\n",
        "\n",
        "# Build the graph\n",
        "for _ in range(E):\n",
        "    a, b = map(int, sys.stdin.readline().rstrip().split(\" \"))\n",
        "    adjacency_list[a].append(b)\n",
        "    adjacency_list[b].append(a)\n",
        "    candidate_vertices.add(a)\n",
        "    candidate_vertices.add(b)\n",
        "\n",
        "discovery_order = [None] * (V + 1)\n",
        "depth = 1\n",
        "\n",
        "# Perform DFS to find articulation points\n",
        "for vertex in candidate_vertices:\n",
        "    if not discovery_order[vertex]:\n",
        "        dfs(vertex, depth)\n",
        "\n",
        "# Output the results\n",
        "print(len(articulation_points))\n",
        "\n",
        "for vertex in sorted(articulation_points):\n",
        "    print(vertex, end=\" \")"
      ],
      "metadata": {
        "id": "GoIbauUiRjOR"
      },
      "execution_count": null,
      "outputs": []
    },
    {
      "cell_type": "markdown",
      "source": [
        "## 프로그래머스"
      ],
      "metadata": {
        "id": "CzACFPPTRjdn"
      }
    },
    {
      "cell_type": "markdown",
      "source": [
        "### I로 만들기"
      ],
      "metadata": {
        "id": "LASaPJgbRkvD"
      }
    },
    {
      "cell_type": "code",
      "source": [
        "def solution(myString):\n",
        "    answer = ''\n",
        "\n",
        "    for i in myString:\n",
        "        if ord(i) < ord('l'):\n",
        "            answer += 'l'\n",
        "        else:\n",
        "            answer += i\n",
        "\n",
        "    return answer"
      ],
      "metadata": {
        "id": "w-jX_0Z0RlaZ"
      },
      "execution_count": null,
      "outputs": []
    }
  ]
}