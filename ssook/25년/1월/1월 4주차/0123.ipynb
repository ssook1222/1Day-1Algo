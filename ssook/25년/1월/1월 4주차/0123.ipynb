{
  "nbformat": 4,
  "nbformat_minor": 0,
  "metadata": {
    "colab": {
      "provenance": [],
      "authorship_tag": "ABX9TyNMTQFJ7RW094ROWcSNKY/S",
      "include_colab_link": true
    },
    "kernelspec": {
      "name": "python3",
      "display_name": "Python 3"
    },
    "language_info": {
      "name": "python"
    }
  },
  "cells": [
    {
      "cell_type": "markdown",
      "metadata": {
        "id": "view-in-github",
        "colab_type": "text"
      },
      "source": [
        "<a href=\"https://colab.research.google.com/github/ssook1222/1Day-1Algo/blob/master/ssook/25%EB%85%84/1%EC%9B%94/1%EC%9B%94%204%EC%A3%BC%EC%B0%A8/0123.ipynb\" target=\"_parent\"><img src=\"https://colab.research.google.com/assets/colab-badge.svg\" alt=\"Open In Colab\"/></a>"
      ]
    },
    {
      "cell_type": "markdown",
      "source": [
        "## BoJ"
      ],
      "metadata": {
        "id": "0wxCymVpRgTt"
      }
    },
    {
      "cell_type": "markdown",
      "source": [
        "### 15678"
      ],
      "metadata": {
        "id": "31EiTSJjRiZ4"
      }
    },
    {
      "cell_type": "code",
      "source": [
        "import math\n",
        "\n",
        "# 구간 내 최댓값 갱신\n",
        "def update_tree(start, end, tree_node, stone_index, stone_value):\n",
        "    segment_tree[tree_node] = max(segment_tree[tree_node], stone_value)\n",
        "    if start == end:\n",
        "        return\n",
        "    mid = (start + end) // 2\n",
        "    if stone_index <= mid:\n",
        "        update_tree(start, mid, tree_node * 2, stone_index, stone_value)\n",
        "    else:\n",
        "        update_tree(mid + 1, end, tree_node * 2 + 1, stone_index, stone_value)\n",
        "\n",
        "# [start, end] 구간 내의 최댓값 반환\n",
        "def query_max(start, end, tree_node, query_start, query_end):\n",
        "    if query_start > end or query_end < start:\n",
        "        return -math.inf\n",
        "    if start == end:\n",
        "        return segment_tree[tree_node]\n",
        "    if query_start <= start and end <= query_end:\n",
        "        return segment_tree[tree_node]\n",
        "    mid = (start + end) // 2\n",
        "    return max(query_max(start, mid, tree_node * 2, query_start, query_end),\n",
        "               query_max(mid + 1, end, tree_node * 2 + 1, query_start, query_end))\n",
        "\n",
        "# 입력 받기\n",
        "num_stones, max_jump = map(int, input().split())\n",
        "\n",
        "# 징검다리의 점수 초기화\n",
        "max_sum = [0]\n",
        "max_sum.extend(map(int, input().split()))\n",
        "\n",
        "# 세그먼트 트리 초기화\n",
        "segment_tree = [-math.inf] * (num_stones * 4)\n",
        "\n",
        "for stone_index in range(1, num_stones + 1):\n",
        "    # 각 징검다리에서 갈 수 있는 구간 내 최댓값 갱신\n",
        "    max_sum[stone_index] = max(max_sum[stone_index], max_sum[stone_index] + query_max(1, num_stones, 1, stone_index - max_jump, stone_index - 1))\n",
        "    # 갱신된 값 세그먼트 트리에 삽입\n",
        "    update_tree(1, num_stones, 1, stone_index, max_sum[stone_index])\n",
        "\n",
        "# 결과 출력\n",
        "print(max(max_sum[1:]))"
      ],
      "metadata": {
        "id": "GoIbauUiRjOR"
      },
      "execution_count": null,
      "outputs": []
    },
    {
      "cell_type": "markdown",
      "source": [
        "## 프로그래머스"
      ],
      "metadata": {
        "id": "CzACFPPTRjdn"
      }
    },
    {
      "cell_type": "markdown",
      "source": [
        "### 조건에 맞게 수열 변환하기"
      ],
      "metadata": {
        "id": "LASaPJgbRkvD"
      }
    },
    {
      "cell_type": "code",
      "source": [
        "def solution(arr, k):\n",
        "    answer = []\n",
        "\n",
        "    if k % 2 != 0:\n",
        "        for i in range(len(arr)):\n",
        "            arr[i] = arr[i] * k\n",
        "    else:\n",
        "        for i in range(len(arr)):\n",
        "            arr[i] = arr[i] + k\n",
        "\n",
        "    return arr"
      ],
      "metadata": {
        "id": "w-jX_0Z0RlaZ"
      },
      "execution_count": null,
      "outputs": []
    }
  ]
}