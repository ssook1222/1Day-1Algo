{
  "nbformat": 4,
  "nbformat_minor": 0,
  "metadata": {
    "colab": {
      "provenance": [],
      "authorship_tag": "ABX9TyPbhJ1IrjbKn64tqjmIZnvs",
      "include_colab_link": true
    },
    "kernelspec": {
      "name": "python3",
      "display_name": "Python 3"
    },
    "language_info": {
      "name": "python"
    }
  },
  "cells": [
    {
      "cell_type": "markdown",
      "metadata": {
        "id": "view-in-github",
        "colab_type": "text"
      },
      "source": [
        "<a href=\"https://colab.research.google.com/github/ssook1222/1Day-1Algo/blob/master/ssook/25%EB%85%84/1%EC%9B%94/1%EC%9B%94%204%EC%A3%BC%EC%B0%A8/0121.ipynb\" target=\"_parent\"><img src=\"https://colab.research.google.com/assets/colab-badge.svg\" alt=\"Open In Colab\"/></a>"
      ]
    },
    {
      "cell_type": "markdown",
      "source": [
        "## BoJ"
      ],
      "metadata": {
        "id": "0wxCymVpRgTt"
      }
    },
    {
      "cell_type": "markdown",
      "source": [
        "### 7578"
      ],
      "metadata": {
        "id": "31EiTSJjRiZ4"
      }
    },
    {
      "cell_type": "code",
      "source": [
        "from math import *\n",
        "import sys\n",
        "\n",
        "# 선을 그려 방문 업데이트\n",
        "def update(node, start, end, idx):\n",
        "    if idx < start or end < idx:\n",
        "        return 0\n",
        "\n",
        "    if start == end:\n",
        "        segment_tree[node] = 1\n",
        "        return segment_tree[node]\n",
        "\n",
        "    mid = (start + end) // 2\n",
        "    update(node*2, start, mid, idx)\n",
        "    update(node*2+1, mid+1, end, idx)\n",
        "    segment_tree[node] = segment_tree[node*2] + segment_tree[node*2+1]\n",
        "    return segment_tree[node]\n",
        "\n",
        "\n",
        "# 구간합 쿼리\n",
        "def query(node, start, end, left, right):\n",
        "    if right < start or end < left:\n",
        "        return 0\n",
        "\n",
        "    if left <= start and end <= right:\n",
        "        return segment_tree[node]\n",
        "\n",
        "    mid = (start + end) // 2\n",
        "    return query(node*2, start, mid, left, right) + query(node*2+1, mid+1, end, left, right)\n",
        "\n",
        "# main\n",
        "n = int(sys.stdin.readline())\n",
        "a_machines = sys.stdin.readline().split()\n",
        "\n",
        "# b_machines dict 초기화\n",
        "idx = 0\n",
        "b_machines = {}\n",
        "for num in sys.stdin.readline().split():\n",
        "   b_machines[num] = idx\n",
        "   idx += 1\n",
        "\n",
        "# 세그먼트 트리\n",
        "h = int(ceil(log2(n)))\n",
        "tree_size = 1 << (h+1)\n",
        "\n",
        "segment_tree = [0] * tree_size\n",
        "\n",
        "cross_count = 0\n",
        "for num in a_machines:\n",
        "    machine_index = b_machines[num]\n",
        "    cross_count += query(1, 0, n-1, machine_index, n-1)\n",
        "\n",
        "    update(1, 0, n-1, machine_index)\n",
        "\n",
        "print(cross_count)"
      ],
      "metadata": {
        "id": "GoIbauUiRjOR"
      },
      "execution_count": null,
      "outputs": []
    },
    {
      "cell_type": "markdown",
      "source": [
        "## 프로그래머스"
      ],
      "metadata": {
        "id": "CzACFPPTRjdn"
      }
    },
    {
      "cell_type": "markdown",
      "source": [
        "### 정수를 나선형으로 배치하기"
      ],
      "metadata": {
        "id": "LASaPJgbRkvD"
      }
    },
    {
      "cell_type": "code",
      "source": [
        "def solution(n):\n",
        "    answer = [[0] * n for _ in range(n)]\n",
        "\n",
        "    dx = [0,1,0,-1]\n",
        "    dy = [1,0,-1,0]\n",
        "    x, y, dir = 0,0,0\n",
        "\n",
        "    for i in range(1, n*n+1):\n",
        "        answer[x][y] = i\n",
        "\n",
        "        nx = x + dx[dir]\n",
        "        ny = y + dy[dir]\n",
        "\n",
        "        if nx < 0 or nx >= n or ny < 0 or ny >= n or answer[nx][ny] != 0:\n",
        "            dir = (dir + 1) % 4\n",
        "            nx, ny = x + dx[dir], y + dy[dir]\n",
        "\n",
        "        x, y = nx, ny\n",
        "\n",
        "    return answer"
      ],
      "metadata": {
        "id": "w-jX_0Z0RlaZ"
      },
      "execution_count": null,
      "outputs": []
    }
  ]
}