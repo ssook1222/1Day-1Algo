{
  "nbformat": 4,
  "nbformat_minor": 0,
  "metadata": {
    "colab": {
      "provenance": [],
      "authorship_tag": "ABX9TyOKy+UvK2rxyV6nB6YIfgvv",
      "include_colab_link": true
    },
    "kernelspec": {
      "name": "python3",
      "display_name": "Python 3"
    },
    "language_info": {
      "name": "python"
    }
  },
  "cells": [
    {
      "cell_type": "markdown",
      "metadata": {
        "id": "view-in-github",
        "colab_type": "text"
      },
      "source": [
        "<a href=\"https://colab.research.google.com/github/ssook1222/1Day-1Algo/blob/master/ssook/25%EB%85%84/1%EC%9B%94/1%EC%9B%94%204%EC%A3%BC%EC%B0%A8/0122.ipynb\" target=\"_parent\"><img src=\"https://colab.research.google.com/assets/colab-badge.svg\" alt=\"Open In Colab\"/></a>"
      ]
    },
    {
      "cell_type": "markdown",
      "source": [
        "## BoJ"
      ],
      "metadata": {
        "id": "0wxCymVpRgTt"
      }
    },
    {
      "cell_type": "markdown",
      "source": [
        "### 11400"
      ],
      "metadata": {
        "id": "31EiTSJjRiZ4"
      }
    },
    {
      "cell_type": "code",
      "source": [
        "import sys\n",
        "input = sys.stdin.readline\n",
        "sys.setrecursionlimit(10**5)\n",
        "\n",
        "def DFS(current_vertex, parent):\n",
        "    global timestamp\n",
        "    discovery_time[current_vertex] = low_link[current_vertex] = timestamp\n",
        "    timestamp += 1\n",
        "    for neighbor in adjacency_list[current_vertex]:\n",
        "        if neighbor == parent:\n",
        "            continue\n",
        "        if not discovery_time[neighbor]:\n",
        "            DFS(neighbor, current_vertex)\n",
        "            low_link[current_vertex] = min(low_link[current_vertex], low_link[neighbor])\n",
        "            if low_link[neighbor] > discovery_time[current_vertex]:\n",
        "                bridges.append(sorted((current_vertex, neighbor)))\n",
        "        else:\n",
        "            low_link[current_vertex] = min(low_link[current_vertex], discovery_time[neighbor])\n",
        "\n",
        "N, M = map(int, input().split())\n",
        "adjacency_list = [[] for _ in range(N + 1)]\n",
        "for _ in range(M):\n",
        "    a, b = map(int, input().split())\n",
        "    adjacency_list[a].append(b)\n",
        "    adjacency_list[b].append(a)\n",
        "\n",
        "discovery_time = [0] * (N + 1)\n",
        "low_link = [0] * (N + 1)\n",
        "bridges = []\n",
        "\n",
        "timestamp = 1\n",
        "for i in range(1, N + 1):\n",
        "    if not discovery_time[i]:\n",
        "        DFS(i, -1)\n",
        "\n",
        "print(len(bridges))\n",
        "for bridge in sorted(bridges):\n",
        "    print(*bridge)\n"
      ],
      "metadata": {
        "id": "GoIbauUiRjOR"
      },
      "execution_count": null,
      "outputs": []
    },
    {
      "cell_type": "markdown",
      "source": [
        "## 프로그래머스"
      ],
      "metadata": {
        "id": "CzACFPPTRjdn"
      }
    },
    {
      "cell_type": "markdown",
      "source": [
        "### 그림 확대"
      ],
      "metadata": {
        "id": "LASaPJgbRkvD"
      }
    },
    {
      "cell_type": "code",
      "source": [
        "def solution(picture, k):\n",
        "\n",
        "    n = len(picture)\n",
        "    m = len(picture[0])\n",
        "\n",
        "    new_n = n * k\n",
        "    new_m = m * k\n",
        "\n",
        "    new_picture = []\n",
        "\n",
        "    for i in range(new_n):\n",
        "        row = ''\n",
        "\n",
        "        for j in range(new_m):\n",
        "            row += picture[i//k][j//k]\n",
        "\n",
        "        new_picture.append(row)\n",
        "\n",
        "    return new_picture"
      ],
      "metadata": {
        "id": "w-jX_0Z0RlaZ"
      },
      "execution_count": null,
      "outputs": []
    }
  ]
}