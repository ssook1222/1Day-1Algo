{
  "nbformat": 4,
  "nbformat_minor": 0,
  "metadata": {
    "colab": {
      "provenance": [],
      "authorship_tag": "ABX9TyP0ujfsuQHnPopf16q0WeEZ",
      "include_colab_link": true
    },
    "kernelspec": {
      "name": "python3",
      "display_name": "Python 3"
    },
    "language_info": {
      "name": "python"
    }
  },
  "cells": [
    {
      "cell_type": "markdown",
      "metadata": {
        "id": "view-in-github",
        "colab_type": "text"
      },
      "source": [
        "<a href=\"https://colab.research.google.com/github/ssook1222/1Day-1Algo/blob/master/ssook/25%EB%85%84/1%EC%9B%94/1%EC%9B%94%204%EC%A3%BC%EC%B0%A8/0124.ipynb\" target=\"_parent\"><img src=\"https://colab.research.google.com/assets/colab-badge.svg\" alt=\"Open In Colab\"/></a>"
      ]
    },
    {
      "cell_type": "markdown",
      "source": [
        "## BoJ"
      ],
      "metadata": {
        "id": "0wxCymVpRgTt"
      }
    },
    {
      "cell_type": "markdown",
      "source": [
        "### 26336"
      ],
      "metadata": {
        "id": "31EiTSJjRiZ4"
      }
    },
    {
      "cell_type": "code",
      "source": [
        "import math\n",
        "\n",
        "def total_stops(total_miles, gas_interval, food_interval):\n",
        "    lcm_value = (gas_interval * food_interval) // math.gcd(gas_interval, food_interval)\n",
        "\n",
        "    gas_stops = (total_miles - 1) // gas_interval\n",
        "    food_stops = (total_miles - 1) // food_interval\n",
        "\n",
        "    overlap_stops = (total_miles - 1) // lcm_value\n",
        "    total_stops = gas_stops + food_stops - overlap_stops\n",
        "\n",
        "    return total_stops\n",
        "\n",
        "t = int(input())\n",
        "\n",
        "for _ in range(t):\n",
        "    total_miles, gas_interval, food_interval = map(int, input().split())\n",
        "\n",
        "    print(total_miles, gas_interval, food_interval)\n",
        "    print(total_stops(total_miles, gas_interval, food_interval))"
      ],
      "metadata": {
        "id": "GoIbauUiRjOR"
      },
      "execution_count": null,
      "outputs": []
    },
    {
      "cell_type": "markdown",
      "source": [
        "## 프로그래머스"
      ],
      "metadata": {
        "id": "CzACFPPTRjdn"
      }
    },
    {
      "cell_type": "markdown",
      "source": [
        "### 커피 심부름"
      ],
      "metadata": {
        "id": "LASaPJgbRkvD"
      }
    },
    {
      "cell_type": "code",
      "source": [
        "def solution(order):\n",
        "    answer = 0\n",
        "\n",
        "    for i in order:\n",
        "        if i == 'iceamericano' or i == 'americanoice' or i == 'americano' or i == 'anything':\n",
        "            answer += 4500\n",
        "\n",
        "        if i == 'hotamericano' or i == 'americanohot':\n",
        "            answer += 4500\n",
        "\n",
        "        if i == 'icecafelatte' or i == 'cafelatteice' or i == 'cafelatte':\n",
        "            answer += 5000\n",
        "\n",
        "        if i == 'hotcafelatte' or i == 'cafelattehot':\n",
        "            answer += 5000\n",
        "\n",
        "\n",
        "\n",
        "    return answer"
      ],
      "metadata": {
        "id": "w-jX_0Z0RlaZ"
      },
      "execution_count": null,
      "outputs": []
    }
  ]
}