{
  "nbformat": 4,
  "nbformat_minor": 0,
  "metadata": {
    "colab": {
      "provenance": [],
      "authorship_tag": "ABX9TyMKNa1aJub24/rPctAcdwFU",
      "include_colab_link": true
    },
    "kernelspec": {
      "name": "python3",
      "display_name": "Python 3"
    },
    "language_info": {
      "name": "python"
    }
  },
  "cells": [
    {
      "cell_type": "markdown",
      "metadata": {
        "id": "view-in-github",
        "colab_type": "text"
      },
      "source": [
        "<a href=\"https://colab.research.google.com/github/ssook1222/1Day-1Algo/blob/master/ssook/25%EB%85%84/1%EC%9B%94/1%EC%9B%94%201%EC%A3%BC%EC%B0%A8/0104.ipynb\" target=\"_parent\"><img src=\"https://colab.research.google.com/assets/colab-badge.svg\" alt=\"Open In Colab\"/></a>"
      ]
    },
    {
      "cell_type": "markdown",
      "source": [
        "## BoJ"
      ],
      "metadata": {
        "id": "gdcJTq6oA8Sd"
      }
    },
    {
      "cell_type": "markdown",
      "source": [
        "### 17272\n",
        "----\n",
        "pypy"
      ],
      "metadata": {
        "id": "elTVdl1UA-Ws"
      }
    },
    {
      "cell_type": "code",
      "source": [
        "def multiply(matrix_a, matrix_b):\n",
        "    result = [[0] * size for _ in range(size)]\n",
        "    for row in range(size):\n",
        "        for col in range(size):\n",
        "            for k in range(size):\n",
        "                result[row][col] += matrix_a[row][k] * matrix_b[k][col]\n",
        "            result[row][col] %= 10**9 + 7\n",
        "    return result\n",
        "\n",
        "def calculate(matrix, exponent):\n",
        "    if exponent == 0:\n",
        "        return [[int(i == j) for j in range(size)] for i in range(size)]\n",
        "    if exponent == 1:\n",
        "        return matrix\n",
        "    half_power = calculate(matrix, exponent // 2)\n",
        "    squared_half_power = multiply(half_power, half_power)\n",
        "    return multiply(squared_half_power, matrix) if exponent % 2 else squared_half_power\n",
        "\n",
        "time_limit, skill_duration = map(int, input().split())\n",
        "size = skill_duration\n",
        "initial_matrix = [[int(i == j == 0 or i == skill_duration - 1 and j == 0 or j - i == 1) for j in range(skill_duration)] for i in range(skill_duration)]\n",
        "print(calculate(initial_matrix, time_limit)[0][0])"
      ],
      "metadata": {
        "id": "lt7YxfyTA-2h"
      },
      "execution_count": null,
      "outputs": []
    },
    {
      "cell_type": "markdown",
      "source": [
        "## 프로그래머스"
      ],
      "metadata": {
        "id": "IswKv_5_A_NX"
      }
    },
    {
      "cell_type": "markdown",
      "source": [
        "### 중복된 숫자 개수"
      ],
      "metadata": {
        "id": "s8NQq13dBAaW"
      }
    },
    {
      "cell_type": "code",
      "source": [
        "def solution(array, n):\n",
        "    return array.count(n)"
      ],
      "metadata": {
        "id": "oe0xmS7ABBGp"
      },
      "execution_count": null,
      "outputs": []
    }
  ]
}