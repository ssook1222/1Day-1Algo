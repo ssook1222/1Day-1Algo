{
  "nbformat": 4,
  "nbformat_minor": 0,
  "metadata": {
    "colab": {
      "provenance": [],
      "authorship_tag": "ABX9TyP1TiIASx1amwpzkxYd1fdq",
      "include_colab_link": true
    },
    "kernelspec": {
      "name": "python3",
      "display_name": "Python 3"
    },
    "language_info": {
      "name": "python"
    }
  },
  "cells": [
    {
      "cell_type": "markdown",
      "metadata": {
        "id": "view-in-github",
        "colab_type": "text"
      },
      "source": [
        "<a href=\"https://colab.research.google.com/github/ssook1222/1Day-1Algo/blob/master/ssook/25%EB%85%84/1%EC%9B%94/1%EC%9B%94%201%EC%A3%BC%EC%B0%A8/0102.ipynb\" target=\"_parent\"><img src=\"https://colab.research.google.com/assets/colab-badge.svg\" alt=\"Open In Colab\"/></a>"
      ]
    },
    {
      "cell_type": "markdown",
      "source": [
        "## BoJ"
      ],
      "metadata": {
        "id": "gdcJTq6oA8Sd"
      }
    },
    {
      "cell_type": "markdown",
      "source": [
        "### 11414"
      ],
      "metadata": {
        "id": "elTVdl1UA-Ws"
      }
    },
    {
      "cell_type": "code",
      "source": [
        "import sys; input = sys.stdin.readline\n",
        "from math import inf\n",
        "\n",
        "def gcd(x, y):\n",
        "    remainder = x % y\n",
        "    if remainder:\n",
        "        return gcd(y, remainder)\n",
        "    return y\n",
        "\n",
        "num1, num2 = map(int, input().split())\n",
        "\n",
        "if num1 == num2:\n",
        "    print(1)\n",
        "    exit()\n",
        "\n",
        "if num1 > num2:\n",
        "    num1, num2 = num2, num1\n",
        "\n",
        "divisors = set()\n",
        "for i in range(1, int((num2 - num1) ** 0.5) + 1):\n",
        "    if not (num2 - num1) % i:\n",
        "        divisors.add(i)\n",
        "        divisors.add((num2 - num1) // i)\n",
        "\n",
        "result = (inf, -1)\n",
        "for d in divisors:\n",
        "    remainder = num1 % d\n",
        "    N = d - remainder\n",
        "    lcm = (num1 + N) * (num2 + N) // d\n",
        "    result = min(result, (lcm, N))\n",
        "\n",
        "print(result[1])"
      ],
      "metadata": {
        "id": "lt7YxfyTA-2h"
      },
      "execution_count": null,
      "outputs": []
    },
    {
      "cell_type": "markdown",
      "source": [
        "## 프로그래머스"
      ],
      "metadata": {
        "id": "IswKv_5_A_NX"
      }
    },
    {
      "cell_type": "markdown",
      "source": [
        "### 각도기"
      ],
      "metadata": {
        "id": "s8NQq13dBAaW"
      }
    },
    {
      "cell_type": "code",
      "source": [
        "def solution(angle):\n",
        "    answer = 0\n",
        "\n",
        "    if 0 < angle < 90:\n",
        "        answer = 1\n",
        "\n",
        "    elif angle == 90 :\n",
        "        answer = 2\n",
        "\n",
        "    elif 90 < angle < 180:\n",
        "        answer = 3\n",
        "\n",
        "    else:\n",
        "        answer = 4\n",
        "\n",
        "    return answer"
      ],
      "metadata": {
        "id": "oe0xmS7ABBGp"
      },
      "execution_count": null,
      "outputs": []
    }
  ]
}