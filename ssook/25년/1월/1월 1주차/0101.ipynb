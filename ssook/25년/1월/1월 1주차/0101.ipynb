{
  "nbformat": 4,
  "nbformat_minor": 0,
  "metadata": {
    "colab": {
      "provenance": [],
      "authorship_tag": "ABX9TyObUizYm6J0n2LPDLIVPKZU",
      "include_colab_link": true
    },
    "kernelspec": {
      "name": "python3",
      "display_name": "Python 3"
    },
    "language_info": {
      "name": "python"
    }
  },
  "cells": [
    {
      "cell_type": "markdown",
      "metadata": {
        "id": "view-in-github",
        "colab_type": "text"
      },
      "source": [
        "<a href=\"https://colab.research.google.com/github/ssook1222/1Day-1Algo/blob/master/ssook/25%EB%85%84/1%EC%9B%94/1%EC%9B%94%201%EC%A3%BC%EC%B0%A8/0101.ipynb\" target=\"_parent\"><img src=\"https://colab.research.google.com/assets/colab-badge.svg\" alt=\"Open In Colab\"/></a>"
      ]
    },
    {
      "cell_type": "markdown",
      "source": [
        "## BoJ"
      ],
      "metadata": {
        "id": "gdcJTq6oA8Sd"
      }
    },
    {
      "cell_type": "markdown",
      "source": [
        "### 22343"
      ],
      "metadata": {
        "id": "elTVdl1UA-Ws"
      }
    },
    {
      "cell_type": "code",
      "source": [
        "def compare_strings(a, b):\n",
        "    sa = {0}\n",
        "    sb = {0}\n",
        "\n",
        "    depth = 0\n",
        "    up = True\n",
        "    for ch in a:\n",
        "        if ch == '(':\n",
        "            depth += 1\n",
        "            up = True\n",
        "        else:\n",
        "            if up:\n",
        "                tmp = depth\n",
        "                while tmp in sa:\n",
        "                    sa.remove(tmp)\n",
        "                    tmp += 1\n",
        "                sa.add(tmp)\n",
        "            up = False\n",
        "            depth -= 1\n",
        "\n",
        "    depth = 0\n",
        "    up = True\n",
        "    for ch in b:\n",
        "        if ch == '(':\n",
        "            depth += 1\n",
        "            up = True\n",
        "        else:\n",
        "            if up:\n",
        "                tmp = depth\n",
        "                while tmp in sb:\n",
        "                    sb.remove(tmp)\n",
        "                    tmp += 1\n",
        "                sb.add(tmp)\n",
        "            up = False\n",
        "            depth -= 1\n",
        "\n",
        "    max_a = max(sa)\n",
        "    max_b = max(sb)\n",
        "\n",
        "    while max_a == max_b:\n",
        "        if max_a == 0 and max_b == 0:\n",
        "            break\n",
        "        sa.remove(max_a)\n",
        "        sb.remove(max_b)\n",
        "        max_a = max(sa)\n",
        "        max_b = max(sb)\n",
        "\n",
        "    if max_a == max_b:\n",
        "        return \"=\"\n",
        "    elif max_a > max_b:\n",
        "        return \">\"\n",
        "    else:\n",
        "        return \"<\"\n",
        "\n",
        "def main():\n",
        "    import sys\n",
        "    input = sys.stdin.readline\n",
        "\n",
        "    T = int(input())\n",
        "    for _ in range(T):\n",
        "        a = input().strip()\n",
        "        b = input().strip()\n",
        "        result = compare_strings(a, b)\n",
        "        print(result)\n",
        "\n",
        "if __name__ == \"__main__\":\n",
        "    main()"
      ],
      "metadata": {
        "id": "lt7YxfyTA-2h"
      },
      "execution_count": null,
      "outputs": []
    },
    {
      "cell_type": "markdown",
      "source": [
        "## 프로그래머스"
      ],
      "metadata": {
        "id": "IswKv_5_A_NX"
      }
    },
    {
      "cell_type": "markdown",
      "source": [
        "### 양꼬치"
      ],
      "metadata": {
        "id": "s8NQq13dBAaW"
      }
    },
    {
      "cell_type": "code",
      "source": [
        "def solution(n, k):\n",
        "    answer = 0\n",
        "\n",
        "    if n >= 10:\n",
        "        k -= 1 * (n // 10)\n",
        "        answer = n * 12000 + k * 2000\n",
        "\n",
        "    else:\n",
        "        answer = n * 12000 + k * 2000\n",
        "\n",
        "    return answer"
      ],
      "metadata": {
        "id": "oe0xmS7ABBGp"
      },
      "execution_count": null,
      "outputs": []
    }
  ]
}