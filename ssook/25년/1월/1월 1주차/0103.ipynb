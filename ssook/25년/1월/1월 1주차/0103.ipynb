{
  "nbformat": 4,
  "nbformat_minor": 0,
  "metadata": {
    "colab": {
      "provenance": [],
      "authorship_tag": "ABX9TyM8ojbf7jqPTQtaycVdMq/8",
      "include_colab_link": true
    },
    "kernelspec": {
      "name": "python3",
      "display_name": "Python 3"
    },
    "language_info": {
      "name": "python"
    }
  },
  "cells": [
    {
      "cell_type": "markdown",
      "metadata": {
        "id": "view-in-github",
        "colab_type": "text"
      },
      "source": [
        "<a href=\"https://colab.research.google.com/github/ssook1222/1Day-1Algo/blob/master/ssook/25%EB%85%84/1%EC%9B%94/1%EC%9B%94%201%EC%A3%BC%EC%B0%A8/0103.ipynb\" target=\"_parent\"><img src=\"https://colab.research.google.com/assets/colab-badge.svg\" alt=\"Open In Colab\"/></a>"
      ]
    },
    {
      "cell_type": "markdown",
      "source": [
        "## BoJ"
      ],
      "metadata": {
        "id": "gdcJTq6oA8Sd"
      }
    },
    {
      "cell_type": "markdown",
      "source": [
        "### 20530"
      ],
      "metadata": {
        "id": "elTVdl1UA-Ws"
      }
    },
    {
      "cell_type": "code",
      "source": [
        "import sys\n",
        "from collections import deque\n",
        "import heapq\n",
        "import bisect\n",
        "import math\n",
        "from itertools import product\n",
        "from itertools import combinations\n",
        "\n",
        "input = sys.stdin.readline\n",
        "sys.setrecursionlimit(100000000)\n",
        "\n",
        "def find_cycle(node, parent):\n",
        "    for neighbor in adjacency_list[node]:\n",
        "        if neighbor != parent:\n",
        "            if not visited[neighbor]:\n",
        "                visited[neighbor] = 1\n",
        "                parent_nodes[neighbor] = node\n",
        "                cycle_found = find_cycle(neighbor, node)\n",
        "                if cycle_found:\n",
        "                    return cycle_found\n",
        "            else:\n",
        "                return [neighbor, node]\n",
        "    return 0\n",
        "\n",
        "def dfs(node, parent):\n",
        "    for neighbor in adjacency_list[node]:\n",
        "        if not in_cycle[neighbor] and not visited[neighbor]:\n",
        "            visited[neighbor] = 1\n",
        "            parent_nodes[neighbor] = parent\n",
        "            dfs(neighbor, parent)\n",
        "\n",
        "num_nodes, num_queries = map(int, input().split())\n",
        "\n",
        "parent_nodes = [i for i in range(num_nodes + 1)]\n",
        "adjacency_list = [[] for _ in range(num_nodes + 1)]\n",
        "visited = [0 for i in range(num_nodes + 1)]\n",
        "in_cycle = [0 for i in range(num_nodes + 1)]\n",
        "\n",
        "for _ in range(num_nodes):\n",
        "    a, b = map(int, input().split())\n",
        "    adjacency_list[a].append(b)\n",
        "    adjacency_list[b].append(a)\n",
        "\n",
        "visited = [0 for i in range(num_nodes + 1)]\n",
        "visited[1] = 1\n",
        "a, b = find_cycle(1, 0)\n",
        "\n",
        "while a != b:\n",
        "    in_cycle[b] = 1\n",
        "    b = parent_nodes[b]\n",
        "in_cycle[a] = 1\n",
        "\n",
        "visited = [0 for i in range(num_nodes + 1)]\n",
        "for i in range(1, num_nodes + 1):\n",
        "    if in_cycle[i]:\n",
        "        visited[i] = 1\n",
        "        parent_nodes[i] = i\n",
        "        dfs(i, i)\n",
        "\n",
        "for _ in range(num_queries):\n",
        "    a, b = map(int, input().split())\n",
        "    if parent_nodes[a] == parent_nodes[b]:\n",
        "        print(1)\n",
        "    else:\n",
        "        print(2)"
      ],
      "metadata": {
        "id": "lt7YxfyTA-2h"
      },
      "execution_count": null,
      "outputs": []
    },
    {
      "cell_type": "markdown",
      "source": [
        "## 프로그래머스"
      ],
      "metadata": {
        "id": "IswKv_5_A_NX"
      }
    },
    {
      "cell_type": "markdown",
      "source": [
        "### 나이출력"
      ],
      "metadata": {
        "id": "s8NQq13dBAaW"
      }
    },
    {
      "cell_type": "code",
      "source": [
        "def solution(age):\n",
        "    answer = 0\n",
        "\n",
        "    answer = 2022-age+1\n",
        "\n",
        "    return answer"
      ],
      "metadata": {
        "id": "oe0xmS7ABBGp"
      },
      "execution_count": null,
      "outputs": []
    }
  ]
}