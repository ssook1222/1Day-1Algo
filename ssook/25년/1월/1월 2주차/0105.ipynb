{
  "nbformat": 4,
  "nbformat_minor": 0,
  "metadata": {
    "colab": {
      "provenance": [],
      "authorship_tag": "ABX9TyMc7HE/zU3cD5EJWVcCOTR4",
      "include_colab_link": true
    },
    "kernelspec": {
      "name": "python3",
      "display_name": "Python 3"
    },
    "language_info": {
      "name": "python"
    }
  },
  "cells": [
    {
      "cell_type": "markdown",
      "metadata": {
        "id": "view-in-github",
        "colab_type": "text"
      },
      "source": [
        "<a href=\"https://colab.research.google.com/github/ssook1222/1Day-1Algo/blob/master/ssook/25%EB%85%84/1%EC%9B%94/1%EC%9B%94%202%EC%A3%BC%EC%B0%A8/0105.ipynb\" target=\"_parent\"><img src=\"https://colab.research.google.com/assets/colab-badge.svg\" alt=\"Open In Colab\"/></a>"
      ]
    },
    {
      "cell_type": "markdown",
      "source": [
        "## BoJ"
      ],
      "metadata": {
        "id": "gdcJTq6oA8Sd"
      }
    },
    {
      "cell_type": "markdown",
      "source": [
        "### 11693"
      ],
      "metadata": {
        "id": "elTVdl1UA-Ws"
      }
    },
    {
      "cell_type": "code",
      "source": [
        "MOD = 1000000007\n",
        "\n",
        "def calculate_power(base, exponent):\n",
        "    result = 1\n",
        "    while exponent:\n",
        "        if exponent & 1:\n",
        "            result = (result * base) % MOD\n",
        "        base = (base * base) % MOD\n",
        "        exponent >>= 1\n",
        "    return result\n",
        "\n",
        "num, multiplier = map(int, input().split())\n",
        "total_sum = 1\n",
        "\n",
        "for i in range(2, int(num ** 0.5) + 1):\n",
        "    if num % i == 0:\n",
        "        count = 0\n",
        "        while num % i == 0:\n",
        "            num //= i\n",
        "            count += 1\n",
        "        total_sum *= ( ( (calculate_power(i, count * multiplier + 1) + MOD - 1) % MOD ) * ( (calculate_power(i - 1, MOD - 2)) % MOD ) ) % MOD\n",
        "        total_sum %= MOD\n",
        "\n",
        "if num != 1:\n",
        "    total_sum *= ( ( (calculate_power(num, multiplier + 1) + MOD - 1) % MOD ) * ( (calculate_power(num - 1, MOD - 2)) % MOD ) ) % MOD\n",
        "\n",
        "print(total_sum % MOD)"
      ],
      "metadata": {
        "id": "lt7YxfyTA-2h"
      },
      "execution_count": null,
      "outputs": []
    },
    {
      "cell_type": "markdown",
      "source": [
        "## 프로그래머스"
      ],
      "metadata": {
        "id": "IswKv_5_A_NX"
      }
    },
    {
      "cell_type": "markdown",
      "source": [
        "### 나머지 구하기"
      ],
      "metadata": {
        "id": "s8NQq13dBAaW"
      }
    },
    {
      "cell_type": "code",
      "source": [
        "def solution(num1, num2):\n",
        "    answer = -1\n",
        "    answer = num1 % num2\n",
        "\n",
        "    return answer"
      ],
      "metadata": {
        "id": "oe0xmS7ABBGp"
      },
      "execution_count": null,
      "outputs": []
    }
  ]
}