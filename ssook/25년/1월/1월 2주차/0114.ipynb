{
  "nbformat": 4,
  "nbformat_minor": 0,
  "metadata": {
    "colab": {
      "provenance": [],
      "authorship_tag": "ABX9TyNOzcKW2GXwrWN3g7naOEVj",
      "include_colab_link": true
    },
    "kernelspec": {
      "name": "python3",
      "display_name": "Python 3"
    },
    "language_info": {
      "name": "python"
    }
  },
  "cells": [
    {
      "cell_type": "markdown",
      "metadata": {
        "id": "view-in-github",
        "colab_type": "text"
      },
      "source": [
        "<a href=\"https://colab.research.google.com/github/ssook1222/1Day-1Algo/blob/master/ssook/25%EB%85%84/1%EC%9B%94/1%EC%9B%94%202%EC%A3%BC%EC%B0%A8/0114.ipynb\" target=\"_parent\"><img src=\"https://colab.research.google.com/assets/colab-badge.svg\" alt=\"Open In Colab\"/></a>"
      ]
    },
    {
      "cell_type": "markdown",
      "source": [
        "## BoJ"
      ],
      "metadata": {
        "id": "jT9C720ZWsCN"
      }
    },
    {
      "cell_type": "markdown",
      "source": [
        "### 2261"
      ],
      "metadata": {
        "id": "fPzE8nYNWtYj"
      }
    },
    {
      "cell_type": "code",
      "source": [
        "import sys\n",
        "\n",
        "input = sys.stdin.readline\n",
        "\n",
        "n = int(input())  # 점의 개수\n",
        "\n",
        "coordinates = []  # 점들의 좌표\n",
        "\n",
        "for _ in range(n):\n",
        "    x, y = map(int, input().split())\n",
        "    coordinates.append((x, y))\n",
        "\n",
        "coordinates.sort()  # x 좌표 기준으로 오름차순 정렬\n",
        "\n",
        "def compute_min_distance(start, end):\n",
        "    min_distance = int(1e10)  # 매우 큰 값으로 초기화\n",
        "    for i in range(start, end-1):\n",
        "        for j in range(i+1, end):\n",
        "            distance = (coordinates[i][0] - coordinates[j][0])**2 + (coordinates[i][1] - coordinates[j][1])**2\n",
        "            min_distance = min(min_distance, distance)\n",
        "    return min_distance\n",
        "\n",
        "def find_min_distance(start, end):\n",
        "    size = end - start\n",
        "    if size < 3:  # 점이 2개 이하일 경우, brute force로 최소 거리 계산\n",
        "        return compute_min_distance(start, end)\n",
        "\n",
        "    mid = (start + end) // 2  # 중간 지점\n",
        "\n",
        "    left_min_dist = find_min_distance(start, mid)  # 왼쪽 부분의 최소 거리\n",
        "    right_min_dist = find_min_distance(mid, end)  # 오른쪽 부분의 최소 거리\n",
        "\n",
        "    min_distance = min(left_min_dist, right_min_dist)  # 두 부분의 최소 거리 중 더 작은 값\n",
        "\n",
        "    # x 좌표 기준으로 나뉜 두 부분을 기준으로 교차하는 점들만 확인\n",
        "    check_points = []\n",
        "    divide_x = coordinates[mid][0]\n",
        "    for i in range(start, end):\n",
        "        if (coordinates[i][0] - divide_x)**2 <= min_distance:\n",
        "            check_points.append(coordinates[i])\n",
        "\n",
        "    check_points.sort(key=lambda point: point[1])  # y 좌표 기준으로 정렬\n",
        "\n",
        "    # 교차 영역 내에서 최소 거리 계산\n",
        "    for i in range(len(check_points)):\n",
        "        now = check_points[i]\n",
        "        for j in range(i+1, len(check_points)):\n",
        "            compare = check_points[j]\n",
        "            if (compare[1] - now[1])**2 >= min_distance:  # y 값 차이가 너무 크면 더 이상 확인할 필요 없음\n",
        "                break\n",
        "            distance = (now[0] - compare[0])**2 + (now[1] - compare[1])**2\n",
        "            min_distance = min(min_distance, distance)\n",
        "\n",
        "    return min_distance\n",
        "\n",
        "# 가장 가까운 두 점의 거리 구하기\n",
        "print(find_min_distance(0, n))\n"
      ],
      "metadata": {
        "id": "ADeiMaF0Wt5X"
      },
      "execution_count": null,
      "outputs": []
    },
    {
      "cell_type": "markdown",
      "source": [
        "## Programmers"
      ],
      "metadata": {
        "id": "l4vDyf5LWvPf"
      }
    },
    {
      "cell_type": "markdown",
      "source": [
        "### 로그인 성공?"
      ],
      "metadata": {
        "id": "6-KrXFGwWuND"
      }
    },
    {
      "cell_type": "code",
      "source": [
        "def solution(id_pw, db):\n",
        "    answer = ''\n",
        "    id_ck = False\n",
        "    pw_ck = False\n",
        "\n",
        "    for i in db:\n",
        "        if i[0] == id_pw[0]:\n",
        "            id_ck = True\n",
        "            if i[1] == id_pw[1]:\n",
        "                pw_ck = True\n",
        "                break\n",
        "\n",
        "    if id_ck == True :\n",
        "        if pw_ck == True:\n",
        "            answer = 'login'\n",
        "        else:\n",
        "            answer = 'wrong pw'\n",
        "\n",
        "    else:\n",
        "        answer = 'fail'\n",
        "\n",
        "    return answer"
      ],
      "metadata": {
        "id": "Aj_wzsFwWu07"
      },
      "execution_count": null,
      "outputs": []
    }
  ]
}