{
  "nbformat": 4,
  "nbformat_minor": 0,
  "metadata": {
    "colab": {
      "provenance": [],
      "authorship_tag": "ABX9TyOq5uOeB5Pvco1IY7YQzGt3",
      "include_colab_link": true
    },
    "kernelspec": {
      "name": "python3",
      "display_name": "Python 3"
    },
    "language_info": {
      "name": "python"
    }
  },
  "cells": [
    {
      "cell_type": "markdown",
      "metadata": {
        "id": "view-in-github",
        "colab_type": "text"
      },
      "source": [
        "<a href=\"https://colab.research.google.com/github/ssook1222/1Day-1Algo/blob/master/ssook/25%EB%85%84/1%EC%9B%94/1%EC%9B%94%202%EC%A3%BC%EC%B0%A8/0106.ipynb\" target=\"_parent\"><img src=\"https://colab.research.google.com/assets/colab-badge.svg\" alt=\"Open In Colab\"/></a>"
      ]
    },
    {
      "cell_type": "markdown",
      "source": [
        "## BoJ"
      ],
      "metadata": {
        "id": "mCJEkp3RbCoH"
      }
    },
    {
      "cell_type": "markdown",
      "source": [
        "### 1719"
      ],
      "metadata": {
        "id": "g_fKa2GKbEdO"
      }
    },
    {
      "cell_type": "code",
      "source": [
        "from sys import stdin\n",
        "from typing import List\n",
        "\n",
        "INF = 10001\n",
        "\n",
        "def floyd_warshall(num_hubs: int, travel_times: List[List[int]], first_hub: List[List[str]]) -> List[List[str]]:\n",
        "    for k in range(1, num_hubs + 1):\n",
        "        for i in range(1, num_hubs + 1):\n",
        "            for j in range(1, num_hubs + 1):\n",
        "                if i == j:\n",
        "                    continue\n",
        "                if travel_times[i][j] > travel_times[i][k] + travel_times[k][j]:\n",
        "                    travel_times[i][j] = travel_times[i][k] + travel_times[k][j]\n",
        "                    first_hub[i][j] = first_hub[i][k]\n",
        "    return first_hub\n",
        "\n",
        "\n",
        "def main():\n",
        "    def input():\n",
        "        return stdin.readline().rstrip()\n",
        "\n",
        "    num_hubs, num_routes = map(int, input().split())\n",
        "    travel_times = list(([INF] * (num_hubs + 1)) for _ in range(num_hubs + 1))\n",
        "    first_hub = [['-'] * (num_hubs + 1) for _ in range(num_hubs + 1)]\n",
        "\n",
        "    for _ in range(num_routes):\n",
        "        hub_a, hub_b, time = map(int, input().split())\n",
        "        travel_times[hub_a][hub_b] = travel_times[hub_b][hub_a] = time\n",
        "        first_hub[hub_a][hub_b] = str(hub_b)\n",
        "        first_hub[hub_b][hub_a] = str(hub_a)\n",
        "\n",
        "    first_hub = floyd_warshall(num_hubs, travel_times, first_hub)\n",
        "\n",
        "    for line in first_hub[1:]:\n",
        "        print(*line[1:], sep=' ')\n",
        "\n",
        "\n",
        "if __name__ == \"__main__\":\n",
        "    main()"
      ],
      "metadata": {
        "id": "3FJPk1gKbFLG"
      },
      "execution_count": null,
      "outputs": []
    },
    {
      "cell_type": "markdown",
      "source": [
        "---"
      ],
      "metadata": {
        "id": "9FbJ37KUbFpH"
      }
    },
    {
      "cell_type": "markdown",
      "source": [
        "## 프로그래머스"
      ],
      "metadata": {
        "id": "46b2TbV9bifR"
      }
    },
    {
      "cell_type": "markdown",
      "source": [
        "### 외계어 사전"
      ],
      "metadata": {
        "id": "j6v2y7EHbkxL"
      }
    },
    {
      "cell_type": "code",
      "source": [
        "def solution(spell, dic):\n",
        "    def backtrack(visited, current_word):\n",
        "        if len(current_word) == len(spell):\n",
        "            if current_word in dic:\n",
        "                return True\n",
        "            return False\n",
        "\n",
        "        for i in range(len(spell)):\n",
        "            if not visited[i]:\n",
        "                visited[i] = True\n",
        "                if backtrack(visited, current_word + spell[i]):\n",
        "                    return True\n",
        "                visited[i] = False\n",
        "\n",
        "        return False\n",
        "\n",
        "    visited = [False] * len(spell)\n",
        "    return 1 if backtrack(visited, \"\") else 2"
      ],
      "metadata": {
        "id": "VVRpyNYqbrFl"
      },
      "execution_count": null,
      "outputs": []
    }
  ]
}