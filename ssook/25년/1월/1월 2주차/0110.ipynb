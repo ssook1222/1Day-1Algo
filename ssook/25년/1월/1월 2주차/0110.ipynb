{
  "nbformat": 4,
  "nbformat_minor": 0,
  "metadata": {
    "colab": {
      "provenance": [],
      "authorship_tag": "ABX9TyP50BpUCjmMV9Vz8mscsqEQ",
      "include_colab_link": true
    },
    "kernelspec": {
      "name": "python3",
      "display_name": "Python 3"
    },
    "language_info": {
      "name": "python"
    }
  },
  "cells": [
    {
      "cell_type": "markdown",
      "metadata": {
        "id": "view-in-github",
        "colab_type": "text"
      },
      "source": [
        "<a href=\"https://colab.research.google.com/github/ssook1222/1Day-1Algo/blob/master/ssook/25%EB%85%84/1%EC%9B%94/1%EC%9B%94%202%EC%A3%BC%EC%B0%A8/0110.ipynb\" target=\"_parent\"><img src=\"https://colab.research.google.com/assets/colab-badge.svg\" alt=\"Open In Colab\"/></a>"
      ]
    },
    {
      "cell_type": "markdown",
      "source": [
        "## BoJ"
      ],
      "metadata": {
        "id": "mCJEkp3RbCoH"
      }
    },
    {
      "cell_type": "markdown",
      "source": [
        "### 17140"
      ],
      "metadata": {
        "id": "g_fKa2GKbEdO"
      }
    },
    {
      "cell_type": "code",
      "source": [
        "import sys\n",
        "target_row, target_col, target_value = map(int, sys.stdin.readline().split())\n",
        "matrix = [list(map(int, sys.stdin.readline().split())) for _ in range(3)]\n",
        "\n",
        "def sort_and_adjust(matrix, operation_type):\n",
        "    adjusted_matrix = []\n",
        "    max_length = 0\n",
        "    for i in range(len(matrix)):\n",
        "        count_list = []\n",
        "        frequency_dict = dict()\n",
        "        for j in range(len(matrix[i])):\n",
        "            if matrix[i][j] != 0:\n",
        "                if matrix[i][j] not in frequency_dict:\n",
        "                    frequency_dict[matrix[i][j]] = 1\n",
        "                else:\n",
        "                    frequency_dict[matrix[i][j]] += 1\n",
        "        for key, value in frequency_dict.items():\n",
        "            count_list.append([key, value])\n",
        "        count_list.sort(key=lambda x: [x[1], x[0]])\n",
        "        flattened_list = sum(count_list, [])\n",
        "        max_length = max(max_length, len(flattened_list))\n",
        "        adjusted_matrix.append(flattened_list)\n",
        "    for i in adjusted_matrix:\n",
        "        i += [0] * (max_length - len(i))\n",
        "        if len(i) > 100:\n",
        "            i = i[:100]\n",
        "    return adjusted_matrix if operation_type == \"R\" else list(zip(*adjusted_matrix))\n",
        "\n",
        "time_count = 0\n",
        "while True:\n",
        "    count = 0\n",
        "    if time_count >= 101:\n",
        "        time_count = -1\n",
        "        break\n",
        "    if target_row - 1 < len(matrix) and target_col - 1 < len(matrix[0]):\n",
        "        if matrix[target_row - 1][target_col - 1] == target_value:\n",
        "            break\n",
        "    if len(matrix) >= len(matrix[0]):\n",
        "        matrix = sort_and_adjust(matrix, \"R\")\n",
        "    else:\n",
        "        matrix = sort_and_adjust(list(zip(*matrix)), \"C\")\n",
        "    time_count += 1\n",
        "\n",
        "print(time_count)"
      ],
      "metadata": {
        "id": "3FJPk1gKbFLG"
      },
      "execution_count": null,
      "outputs": []
    },
    {
      "cell_type": "markdown",
      "source": [
        "---"
      ],
      "metadata": {
        "id": "9FbJ37KUbFpH"
      }
    },
    {
      "cell_type": "markdown",
      "source": [
        "## 프로그래머스"
      ],
      "metadata": {
        "id": "46b2TbV9bifR"
      }
    },
    {
      "cell_type": "markdown",
      "source": [
        "### 컨트롤 제트"
      ],
      "metadata": {
        "id": "j6v2y7EHbkxL"
      }
    },
    {
      "cell_type": "code",
      "source": [
        "def solution(s):\n",
        "    answer = 0\n",
        "\n",
        "    item = list(map(str,s.split(\" \")))\n",
        "    num = []\n",
        "    hap = 0\n",
        "    for i in range(len(item)):\n",
        "        if item[i] == 'Z' and i > 0:\n",
        "            hap -= int(item[i-1])\n",
        "        else:\n",
        "            hap += int(item[i])\n",
        "\n",
        "    answer = hap\n",
        "\n",
        "    return answer"
      ],
      "metadata": {
        "id": "VVRpyNYqbrFl"
      },
      "execution_count": null,
      "outputs": []
    }
  ]
}