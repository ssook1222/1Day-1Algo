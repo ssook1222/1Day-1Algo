{
  "nbformat": 4,
  "nbformat_minor": 0,
  "metadata": {
    "colab": {
      "provenance": [],
      "authorship_tag": "ABX9TyMrNpoyJN4sj6nE1ku5nOGT",
      "include_colab_link": true
    },
    "kernelspec": {
      "name": "python3",
      "display_name": "Python 3"
    },
    "language_info": {
      "name": "python"
    }
  },
  "cells": [
    {
      "cell_type": "markdown",
      "metadata": {
        "id": "view-in-github",
        "colab_type": "text"
      },
      "source": [
        "<a href=\"https://colab.research.google.com/github/ssook1222/1Day-1Algo/blob/master/ssook/25%EB%85%84/1%EC%9B%94/1%EC%9B%94%202%EC%A3%BC%EC%B0%A8/0126.ipynb\" target=\"_parent\"><img src=\"https://colab.research.google.com/assets/colab-badge.svg\" alt=\"Open In Colab\"/></a>"
      ]
    },
    {
      "cell_type": "markdown",
      "source": [
        "## BoJ"
      ],
      "metadata": {
        "id": "0wxCymVpRgTt"
      }
    },
    {
      "cell_type": "markdown",
      "source": [
        "### 2477"
      ],
      "metadata": {
        "id": "31EiTSJjRiZ4"
      }
    },
    {
      "cell_type": "code",
      "source": [
        "import sys\n",
        "\n",
        "# 참외밭이 주어지는 횟수\n",
        "K = int(sys.stdin.readline())\n",
        "\n",
        "# 북남 방향 길이, 동서 방향 길이, 경계 길이를 담을 리스트들\n",
        "north_south_lengths = []\n",
        "east_west_lengths = []\n",
        "perimeter_lengths = []\n",
        "\n",
        "# 주어진 참외밭 경계를 받아옴\n",
        "for i in range(6):\n",
        "    direction, length = map(int, sys.stdin.readline().split())\n",
        "    if direction == 1 or direction == 2:  # 동서 방향\n",
        "        east_west_lengths.append(length)\n",
        "        perimeter_lengths.append(length)\n",
        "    else:  # 남북 방향\n",
        "        north_south_lengths.append(length)\n",
        "        perimeter_lengths.append(length)\n",
        "\n",
        "# 참외밭의 최대 직사각형 면적 계산 (가장 긴 동서 방향 길이 * 가장 긴 남북 방향 길이)\n",
        "max_area = max(north_south_lengths) * max(east_west_lengths)\n",
        "\n",
        "# 세로 최대값의 인덱스\n",
        "max_ns_idx = perimeter_lengths.index(max(north_south_lengths))\n",
        "# 가로 최대값의 인덱스\n",
        "max_ew_idx = perimeter_lengths.index(max(east_west_lengths))\n",
        "\n",
        "# 작은 직사각형의 가로 길이 계산\n",
        "small_area1 = abs(perimeter_lengths[max_ns_idx - 1] - perimeter_lengths[(max_ns_idx - 5 if max_ns_idx == 5 else max_ns_idx + 1)])\n",
        "\n",
        "# 작은 직사각형의 세로 길이 계산\n",
        "small_area2 = abs(perimeter_lengths[max_ew_idx - 1] - perimeter_lengths[(max_ew_idx - 5 if max_ew_idx == 5 else max_ew_idx + 1)])\n",
        "\n",
        "# 실제 참외밭의 면적\n",
        "actual_area = max_area - (small_area1 * small_area2)\n",
        "\n",
        "# 총 자라는 참외 개수 계산\n",
        "print(actual_area * K)"
      ],
      "metadata": {
        "id": "GoIbauUiRjOR"
      },
      "execution_count": null,
      "outputs": []
    },
    {
      "cell_type": "markdown",
      "source": [
        "## 프로그래머스"
      ],
      "metadata": {
        "id": "CzACFPPTRjdn"
      }
    },
    {
      "cell_type": "markdown",
      "source": [
        "### 전국 대회 선발 고사"
      ],
      "metadata": {
        "id": "LASaPJgbRkvD"
      }
    },
    {
      "cell_type": "code",
      "source": [
        "def solution(rank, attendance):\n",
        "    answer = 0\n",
        "\n",
        "    data = {}\n",
        "\n",
        "    for i in range(len(attendance)):\n",
        "        if attendance[i] == True:\n",
        "            data[i] = rank[i]\n",
        "\n",
        "    person_dict = sorted(data.items(), key=lambda x:x[1])\n",
        "\n",
        "    answer = 10000 * person_dict[0][0] + 100 * person_dict[1][0] + person_dict[2][0]\n",
        "\n",
        "    return answer"
      ],
      "metadata": {
        "id": "w-jX_0Z0RlaZ"
      },
      "execution_count": null,
      "outputs": []
    }
  ]
}