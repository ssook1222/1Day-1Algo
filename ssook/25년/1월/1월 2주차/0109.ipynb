{
  "nbformat": 4,
  "nbformat_minor": 0,
  "metadata": {
    "colab": {
      "provenance": [],
      "authorship_tag": "ABX9TyOzm7JRkT8/m6T9jfaoohC9",
      "include_colab_link": true
    },
    "kernelspec": {
      "name": "python3",
      "display_name": "Python 3"
    },
    "language_info": {
      "name": "python"
    }
  },
  "cells": [
    {
      "cell_type": "markdown",
      "metadata": {
        "id": "view-in-github",
        "colab_type": "text"
      },
      "source": [
        "<a href=\"https://colab.research.google.com/github/ssook1222/1Day-1Algo/blob/master/ssook/25%EB%85%84/1%EC%9B%94/1%EC%9B%94%202%EC%A3%BC%EC%B0%A8/0109.ipynb\" target=\"_parent\"><img src=\"https://colab.research.google.com/assets/colab-badge.svg\" alt=\"Open In Colab\"/></a>"
      ]
    },
    {
      "cell_type": "markdown",
      "source": [
        "## BoJ"
      ],
      "metadata": {
        "id": "mCJEkp3RbCoH"
      }
    },
    {
      "cell_type": "markdown",
      "source": [
        "### 1449"
      ],
      "metadata": {
        "id": "g_fKa2GKbEdO"
      }
    },
    {
      "cell_type": "code",
      "source": [
        "n, l = map(int, input().split())\n",
        "data = list(map(int, input().split()))\n",
        "\n",
        "data.sort()\n",
        "\n",
        "start = data[0]\n",
        "count = 1\n",
        "\n",
        "for location in data[1:]:\n",
        "    if location in range(start, start + l):\n",
        "        continue\n",
        "    else:\n",
        "        start = location\n",
        "        count += 1\n",
        "\n",
        "print(count)"
      ],
      "metadata": {
        "id": "3FJPk1gKbFLG"
      },
      "execution_count": null,
      "outputs": []
    },
    {
      "cell_type": "markdown",
      "source": [
        "---"
      ],
      "metadata": {
        "id": "9FbJ37KUbFpH"
      }
    },
    {
      "cell_type": "markdown",
      "source": [
        "## 프로그래머스"
      ],
      "metadata": {
        "id": "46b2TbV9bifR"
      }
    },
    {
      "cell_type": "markdown",
      "source": [
        "### 직사각형 넓이 준비하기"
      ],
      "metadata": {
        "id": "j6v2y7EHbkxL"
      }
    },
    {
      "cell_type": "code",
      "source": [
        "def solution(dots):\n",
        "    answer = 0\n",
        "    length = []\n",
        "    height = []\n",
        "\n",
        "    for i in range(4):\n",
        "        for j in range(i, 4):\n",
        "            if dots[i][0] == dots[j][0]:\n",
        "                height.append(abs(dots[i][1] - dots[j][1]))\n",
        "            if dots[i][1] == dots[j][1]:\n",
        "                length.append(abs(dots[i][0] - dots[j][0]))\n",
        "    answer = max(length) * max(height)\n",
        "\n",
        "    return answer"
      ],
      "metadata": {
        "id": "VVRpyNYqbrFl"
      },
      "execution_count": null,
      "outputs": []
    }
  ]
}