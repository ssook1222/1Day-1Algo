{
  "nbformat": 4,
  "nbformat_minor": 0,
  "metadata": {
    "colab": {
      "provenance": [],
      "authorship_tag": "ABX9TyP7ZJrTkNPVuppnEdL5s9mJ",
      "include_colab_link": true
    },
    "kernelspec": {
      "name": "python3",
      "display_name": "Python 3"
    },
    "language_info": {
      "name": "python"
    }
  },
  "cells": [
    {
      "cell_type": "markdown",
      "metadata": {
        "id": "view-in-github",
        "colab_type": "text"
      },
      "source": [
        "<a href=\"https://colab.research.google.com/github/ssook1222/1Day-1Algo/blob/master/ssook/25%EB%85%84/1%EC%9B%94/1%EC%9B%94%202%EC%A3%BC%EC%B0%A8/0107.ipynb\" target=\"_parent\"><img src=\"https://colab.research.google.com/assets/colab-badge.svg\" alt=\"Open In Colab\"/></a>"
      ]
    },
    {
      "cell_type": "markdown",
      "source": [
        "## BoJ"
      ],
      "metadata": {
        "id": "mCJEkp3RbCoH"
      }
    },
    {
      "cell_type": "markdown",
      "source": [
        "### 1726"
      ],
      "metadata": {
        "id": "g_fKa2GKbEdO"
      }
    },
    {
      "cell_type": "code",
      "source": [
        "from sys import stdin\n",
        "input = stdin.readline\n",
        "from collections import deque\n",
        "\n",
        "delta_row = (0, 0, 1, -1)\n",
        "delta_col = (1, -1, 0, 0)\n",
        "turn_direction = ((2, 3), (2, 3), (0, 1), (0, 1))\n",
        "\n",
        "def bfs():\n",
        "    visited = [[[0] * 4 for _ in range(columns)] for _ in range(rows)]\n",
        "    visited[start_row - 1][start_col - 1][start_dir - 1] = 1\n",
        "    Q = deque([(start_row - 1, start_col - 1, start_dir - 1, 0)])\n",
        "    while Q:\n",
        "        r, c, d, cnt = Q.popleft()\n",
        "        if (r, c, d) == (goal_row - 1, goal_col - 1, goal_dir - 1):  # (목표위치와 방향)에 도착하면 cnt 리턴\n",
        "            return cnt\n",
        "\n",
        "        for distance in range(1, 4):\n",
        "            new_row = r + delta_row[d] * distance\n",
        "            new_col = c + delta_col[d] * distance\n",
        "            new_dir = d\n",
        "\n",
        "            if not (0 <= new_row < rows and 0 <= new_col < columns) or grid[new_row][new_col]:\n",
        "                break\n",
        "            if visited[new_row][new_col][new_dir]:\n",
        "                continue\n",
        "            Q.append((new_row, new_col, new_dir, cnt + 1))\n",
        "            visited[new_row][new_col][new_dir] = 1\n",
        "\n",
        "        for new_dir in turn_direction[d]:\n",
        "            if visited[r][c][new_dir]:\n",
        "                continue\n",
        "            Q.append((r, c, new_dir, cnt + 1))\n",
        "            visited[r][c][new_dir] = 1\n",
        "\n",
        "rows, columns = map(int, input().split())\n",
        "grid = [list(map(int, input().split())) for _ in range(rows)]\n",
        "start_row, start_col, start_dir = map(int, input().split())\n",
        "goal_row, goal_col, goal_dir = map(int, input().split())\n",
        "\n",
        "print(bfs())"
      ],
      "metadata": {
        "id": "3FJPk1gKbFLG"
      },
      "execution_count": null,
      "outputs": []
    },
    {
      "cell_type": "markdown",
      "source": [
        "---"
      ],
      "metadata": {
        "id": "9FbJ37KUbFpH"
      }
    },
    {
      "cell_type": "markdown",
      "source": [
        "## 프로그래머스"
      ],
      "metadata": {
        "id": "46b2TbV9bifR"
      }
    },
    {
      "cell_type": "markdown",
      "source": [
        "### 구슬을 나누는 경우의 수"
      ],
      "metadata": {
        "id": "j6v2y7EHbkxL"
      }
    },
    {
      "cell_type": "code",
      "source": [
        "def solution(balls, share):\n",
        "    answer = 1\n",
        "    for i in range(balls - share + 1, balls + 1) :\n",
        "        answer *= i\n",
        "    for j in range(2, share + 1) :\n",
        "        answer /= j\n",
        "    return int(answer)"
      ],
      "metadata": {
        "id": "VVRpyNYqbrFl"
      },
      "execution_count": null,
      "outputs": []
    }
  ]
}