{
  "nbformat": 4,
  "nbformat_minor": 0,
  "metadata": {
    "colab": {
      "provenance": [],
      "authorship_tag": "ABX9TyMpF6bf1ngKkCODnUfU7MIR",
      "include_colab_link": true
    },
    "kernelspec": {
      "name": "python3",
      "display_name": "Python 3"
    },
    "language_info": {
      "name": "python"
    }
  },
  "cells": [
    {
      "cell_type": "markdown",
      "metadata": {
        "id": "view-in-github",
        "colab_type": "text"
      },
      "source": [
        "<a href=\"https://colab.research.google.com/github/ssook1222/1Day-1Algo/blob/master/ssook/25%EB%85%84/1%EC%9B%94/1%EC%9B%94%202%EC%A3%BC%EC%B0%A8/0111.ipynb\" target=\"_parent\"><img src=\"https://colab.research.google.com/assets/colab-badge.svg\" alt=\"Open In Colab\"/></a>"
      ]
    },
    {
      "cell_type": "markdown",
      "source": [
        "## BoJ"
      ],
      "metadata": {
        "id": "mCJEkp3RbCoH"
      }
    },
    {
      "cell_type": "markdown",
      "source": [
        "### 2887"
      ],
      "metadata": {
        "id": "g_fKa2GKbEdO"
      }
    },
    {
      "cell_type": "code",
      "source": [
        "import copy\n",
        "\n",
        "def find_root(parent, x):\n",
        "    if parent[x] != x:\n",
        "        parent[x] = find_root(parent, parent[x])\n",
        "    return parent[x]\n",
        "\n",
        "def union_roots(parent, a, b):\n",
        "    a = find_root(parent, a)\n",
        "    b = find_root(parent, b)\n",
        "    if a < b:\n",
        "        parent[b] = a\n",
        "    else:\n",
        "        parent[a] = b\n",
        "\n",
        "num_planets = int(input())\n",
        "\n",
        "x_coords, y_coords, z_coords = [], [], []\n",
        "for i in range(num_planets):\n",
        "    x, y, z = map(int, input().split())\n",
        "    x_coords.append((x, i))\n",
        "    y_coords.append((y, i))\n",
        "    z_coords.append((z, i))\n",
        "\n",
        "x_coords.sort()\n",
        "y_coords.sort()\n",
        "z_coords.sort()\n",
        "\n",
        "edges = []\n",
        "for coord_list in x_coords, y_coords, z_coords:\n",
        "    for i in range(1, num_planets):\n",
        "        weight1, planet_a = coord_list[i-1]\n",
        "        weight2, planet_b = coord_list[i]\n",
        "        edges.append((abs(weight1-weight2), planet_a, planet_b))\n",
        "\n",
        "edges.sort()\n",
        "\n",
        "parent = [i for i in range(num_planets)]\n",
        "\n",
        "def kruskal():\n",
        "    total_cost = 0\n",
        "\n",
        "    for cost, planet_a, planet_b in edges:\n",
        "        if find_root(parent, planet_a) != find_root(parent, planet_b):\n",
        "            union_roots(parent, planet_a, planet_b)\n",
        "            total_cost += cost\n",
        "\n",
        "    print(total_cost)\n",
        "\n",
        "kruskal()"
      ],
      "metadata": {
        "id": "3FJPk1gKbFLG"
      },
      "execution_count": null,
      "outputs": []
    },
    {
      "cell_type": "markdown",
      "source": [
        "---"
      ],
      "metadata": {
        "id": "9FbJ37KUbFpH"
      }
    },
    {
      "cell_type": "markdown",
      "source": [
        "## 프로그래머스"
      ],
      "metadata": {
        "id": "46b2TbV9bifR"
      }
    },
    {
      "cell_type": "markdown",
      "source": [
        "### 숫자 찾기"
      ],
      "metadata": {
        "id": "j6v2y7EHbkxL"
      }
    },
    {
      "cell_type": "code",
      "source": [
        "def solution(num, k):\n",
        "    if str(k) in str(num):\n",
        "        return list(str(num)).index(str(k))+1\n",
        "    else:\n",
        "        return -1"
      ],
      "metadata": {
        "id": "VVRpyNYqbrFl"
      },
      "execution_count": null,
      "outputs": []
    }
  ]
}