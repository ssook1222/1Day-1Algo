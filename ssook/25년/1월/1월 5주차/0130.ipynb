{
  "nbformat": 4,
  "nbformat_minor": 0,
  "metadata": {
    "colab": {
      "provenance": [],
      "authorship_tag": "ABX9TyPKPKlIPEAS/DkPteWqnC1V",
      "include_colab_link": true
    },
    "kernelspec": {
      "name": "python3",
      "display_name": "Python 3"
    },
    "language_info": {
      "name": "python"
    }
  },
  "cells": [
    {
      "cell_type": "markdown",
      "metadata": {
        "id": "view-in-github",
        "colab_type": "text"
      },
      "source": [
        "<a href=\"https://colab.research.google.com/github/ssook1222/1Day-1Algo/blob/master/ssook/25%EB%85%84/1%EC%9B%94/1%EC%9B%94%205%EC%A3%BC%EC%B0%A8/0130.ipynb\" target=\"_parent\"><img src=\"https://colab.research.google.com/assets/colab-badge.svg\" alt=\"Open In Colab\"/></a>"
      ]
    },
    {
      "cell_type": "markdown",
      "source": [
        "## BoJ"
      ],
      "metadata": {
        "id": "KQ02EbQB8IJG"
      }
    },
    {
      "cell_type": "markdown",
      "source": [
        "### 3060"
      ],
      "metadata": {
        "id": "5lCPhsaW8Qb8"
      }
    },
    {
      "cell_type": "code",
      "source": [
        "for _ in range(int(input())):\n",
        "    total_feed = int(input())\n",
        "    initial_feed = sum(list(map(int, input().split())))\n",
        "    day_count = 1\n",
        "    while total_feed >= initial_feed:\n",
        "        day_count += 1\n",
        "        initial_feed *= 4\n",
        "    print(day_count)"
      ],
      "metadata": {
        "id": "bTyftJgJ8KGi"
      },
      "execution_count": null,
      "outputs": []
    },
    {
      "cell_type": "markdown",
      "source": [
        "## Programmers"
      ],
      "metadata": {
        "id": "VLqpgaJB8KTR"
      }
    },
    {
      "cell_type": "markdown",
      "source": [
        "### 정수 찾기"
      ],
      "metadata": {
        "id": "NKI8zQh58MDx"
      }
    },
    {
      "cell_type": "code",
      "source": [
        "def solution(num_list, n):\n",
        "    answer = 0\n",
        "\n",
        "    if n in num_list:\n",
        "        answer = 1\n",
        "\n",
        "    return answer"
      ],
      "metadata": {
        "id": "4X9bbpJV8O5t"
      },
      "execution_count": null,
      "outputs": []
    }
  ]
}