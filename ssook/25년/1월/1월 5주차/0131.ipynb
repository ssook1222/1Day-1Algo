{
  "nbformat": 4,
  "nbformat_minor": 0,
  "metadata": {
    "colab": {
      "provenance": [],
      "authorship_tag": "ABX9TyPqaudFyH0oAz+zUBg7gizm",
      "include_colab_link": true
    },
    "kernelspec": {
      "name": "python3",
      "display_name": "Python 3"
    },
    "language_info": {
      "name": "python"
    }
  },
  "cells": [
    {
      "cell_type": "markdown",
      "metadata": {
        "id": "view-in-github",
        "colab_type": "text"
      },
      "source": [
        "<a href=\"https://colab.research.google.com/github/ssook1222/1Day-1Algo/blob/master/ssook/25%EB%85%84/1%EC%9B%94/1%EC%9B%94%205%EC%A3%BC%EC%B0%A8/0131.ipynb\" target=\"_parent\"><img src=\"https://colab.research.google.com/assets/colab-badge.svg\" alt=\"Open In Colab\"/></a>"
      ]
    },
    {
      "cell_type": "markdown",
      "source": [
        "## BoJ"
      ],
      "metadata": {
        "id": "KQ02EbQB8IJG"
      }
    },
    {
      "cell_type": "markdown",
      "source": [
        "### 1813"
      ],
      "metadata": {
        "id": "5lCPhsaW8Qb8"
      }
    },
    {
      "cell_type": "code",
      "source": [
        "n = int(input())\n",
        "statements = list(map(int, input().split()))\n",
        "\n",
        "valid_statements = -1\n",
        "\n",
        "for i in range(n + 1):\n",
        "    true_count = statements.count(i)\n",
        "\n",
        "    if true_count == i:\n",
        "        valid_statements = max(valid_statements, i)\n",
        "\n",
        "print(valid_statements)"
      ],
      "metadata": {
        "id": "bTyftJgJ8KGi"
      },
      "execution_count": null,
      "outputs": []
    },
    {
      "cell_type": "markdown",
      "source": [
        "## Programmers"
      ],
      "metadata": {
        "id": "VLqpgaJB8KTR"
      }
    },
    {
      "cell_type": "markdown",
      "source": [
        "### 꼬리 문자열"
      ],
      "metadata": {
        "id": "NKI8zQh58MDx"
      }
    },
    {
      "cell_type": "code",
      "source": [
        "def solution(str_list, ex):\n",
        "    answer = ''\n",
        "\n",
        "    for i in str_list:\n",
        "        if ex not in i:\n",
        "            answer += i\n",
        "\n",
        "    return answer"
      ],
      "metadata": {
        "id": "4X9bbpJV8O5t"
      },
      "execution_count": null,
      "outputs": []
    }
  ]
}