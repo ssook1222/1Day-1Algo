{
  "nbformat": 4,
  "nbformat_minor": 0,
  "metadata": {
    "colab": {
      "provenance": [],
      "authorship_tag": "ABX9TyO22rLejY1Hne0rdE/0jjU1",
      "include_colab_link": true
    },
    "kernelspec": {
      "name": "python3",
      "display_name": "Python 3"
    },
    "language_info": {
      "name": "python"
    }
  },
  "cells": [
    {
      "cell_type": "markdown",
      "metadata": {
        "id": "view-in-github",
        "colab_type": "text"
      },
      "source": [
        "<a href=\"https://colab.research.google.com/github/ssook1222/1Day-1Algo/blob/master/ssook/25%EB%85%84/1%EC%9B%94/1%EC%9B%94%205%EC%A3%BC%EC%B0%A8/0127.ipynb\" target=\"_parent\"><img src=\"https://colab.research.google.com/assets/colab-badge.svg\" alt=\"Open In Colab\"/></a>"
      ]
    },
    {
      "cell_type": "markdown",
      "source": [
        "## BoJ"
      ],
      "metadata": {
        "id": "KQ02EbQB8IJG"
      }
    },
    {
      "cell_type": "markdown",
      "source": [
        "### 2635"
      ],
      "metadata": {
        "id": "5lCPhsaW8Qb8"
      }
    },
    {
      "cell_type": "code",
      "source": [
        "n = int(input())\n",
        "\n",
        "longest_sequence = []\n",
        "for second_number in range(1, n + 1):\n",
        "    sequence = [n]\n",
        "    sequence.append(second_number)\n",
        "\n",
        "    index = 1\n",
        "    while True:\n",
        "        next_number = sequence[index - 1] - sequence[index]\n",
        "        if next_number < 0:\n",
        "            break\n",
        "        sequence.append(next_number)\n",
        "        index += 1\n",
        "\n",
        "    if len(longest_sequence) < len(sequence):\n",
        "        longest_sequence = sequence\n",
        "\n",
        "print(len(longest_sequence))\n",
        "for number in longest_sequence:\n",
        "    print(number, end=' ')"
      ],
      "metadata": {
        "id": "bTyftJgJ8KGi"
      },
      "execution_count": null,
      "outputs": []
    },
    {
      "cell_type": "markdown",
      "source": [
        "## Programmers"
      ],
      "metadata": {
        "id": "VLqpgaJB8KTR"
      }
    },
    {
      "cell_type": "markdown",
      "source": [
        "### 그림 확대\n"
      ],
      "metadata": {
        "id": "NKI8zQh58MDx"
      }
    },
    {
      "cell_type": "code",
      "source": [
        "def solution(picture, k):\n",
        "\n",
        "    n = len(picture)\n",
        "    m = len(picture[0])\n",
        "\n",
        "    new_n = n * k\n",
        "    new_m = m * k\n",
        "\n",
        "    new_picture = []\n",
        "\n",
        "    for i in range(new_n):\n",
        "        row = ''\n",
        "\n",
        "        for j in range(new_m):\n",
        "            row += picture[i//k][j//k]\n",
        "\n",
        "        new_picture.append(row)\n",
        "\n",
        "    return new_picture"
      ],
      "metadata": {
        "id": "4X9bbpJV8O5t"
      },
      "execution_count": null,
      "outputs": []
    }
  ]
}