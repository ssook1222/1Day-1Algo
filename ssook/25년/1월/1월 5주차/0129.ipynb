{
  "nbformat": 4,
  "nbformat_minor": 0,
  "metadata": {
    "colab": {
      "provenance": [],
      "authorship_tag": "ABX9TyNgDCtKADYX6Ko+tNA8Q3Z8",
      "include_colab_link": true
    },
    "kernelspec": {
      "name": "python3",
      "display_name": "Python 3"
    },
    "language_info": {
      "name": "python"
    }
  },
  "cells": [
    {
      "cell_type": "markdown",
      "metadata": {
        "id": "view-in-github",
        "colab_type": "text"
      },
      "source": [
        "<a href=\"https://colab.research.google.com/github/ssook1222/1Day-1Algo/blob/master/ssook/25%EB%85%84/1%EC%9B%94/1%EC%9B%94%205%EC%A3%BC%EC%B0%A8/0129.ipynb\" target=\"_parent\"><img src=\"https://colab.research.google.com/assets/colab-badge.svg\" alt=\"Open In Colab\"/></a>"
      ]
    },
    {
      "cell_type": "markdown",
      "source": [
        "## BoJ"
      ],
      "metadata": {
        "id": "KQ02EbQB8IJG"
      }
    },
    {
      "cell_type": "markdown",
      "source": [
        "### 15720"
      ],
      "metadata": {
        "id": "5lCPhsaW8Qb8"
      }
    },
    {
      "cell_type": "code",
      "source": [
        "burger_count, side_count, drink_count = map(int, input().split())\n",
        "\n",
        "burger_prices = list(map(int, input().split()))\n",
        "side_prices = list(map(int, input().split()))\n",
        "drink_prices = list(map(int, input().split()))\n",
        "\n",
        "burger_prices.sort(reverse=True)\n",
        "side_prices.sort(reverse=True)\n",
        "drink_prices.sort(reverse=True)\n",
        "\n",
        "total_price = 0\n",
        "set_count = min(burger_count, side_count, drink_count)\n",
        "for i in range(set_count):\n",
        "    total_price += (burger_prices[i] + side_prices[i] + drink_prices[i]) * 0.9\n",
        "\n",
        "total_price += sum(burger_prices[set_count:])\n",
        "total_price += sum(side_prices[set_count:])\n",
        "total_price += sum(drink_prices[set_count:])\n",
        "\n",
        "print(sum(burger_prices) + sum(side_prices) + sum(drink_prices))\n",
        "print(int(total_price))"
      ],
      "metadata": {
        "id": "bTyftJgJ8KGi"
      },
      "execution_count": null,
      "outputs": []
    },
    {
      "cell_type": "markdown",
      "source": [
        "## Programmers"
      ],
      "metadata": {
        "id": "VLqpgaJB8KTR"
      }
    },
    {
      "cell_type": "markdown",
      "source": [
        "### 특별한 이차원 배열 2\n"
      ],
      "metadata": {
        "id": "NKI8zQh58MDx"
      }
    },
    {
      "cell_type": "code",
      "source": [
        "def solution(arr):\n",
        "    n = len(arr)\n",
        "\n",
        "    for i in range(n):\n",
        "        for j in range(i, n):\n",
        "            if arr[i][j] != arr[j][i]:\n",
        "                return 0\n",
        "    return 1"
      ],
      "metadata": {
        "id": "4X9bbpJV8O5t"
      },
      "execution_count": null,
      "outputs": []
    }
  ]
}