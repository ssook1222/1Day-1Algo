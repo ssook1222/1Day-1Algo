{
  "nbformat": 4,
  "nbformat_minor": 0,
  "metadata": {
    "colab": {
      "provenance": [],
      "authorship_tag": "ABX9TyNqyQiSRWo2A9gDC1cSPxvn",
      "include_colab_link": true
    },
    "kernelspec": {
      "name": "python3",
      "display_name": "Python 3"
    },
    "language_info": {
      "name": "python"
    }
  },
  "cells": [
    {
      "cell_type": "markdown",
      "metadata": {
        "id": "view-in-github",
        "colab_type": "text"
      },
      "source": [
        "<a href=\"https://colab.research.google.com/github/ssook1222/1Day-1Algo/blob/master/ssook/25%EB%85%84/2%EC%9B%94/2%EC%9B%94%203%EC%A3%BC%EC%B0%A8/0220.ipynb\" target=\"_parent\"><img src=\"https://colab.research.google.com/assets/colab-badge.svg\" alt=\"Open In Colab\"/></a>"
      ]
    },
    {
      "cell_type": "markdown",
      "source": [
        "## BoJ"
      ],
      "metadata": {
        "id": "3aWqZPrYc1pu"
      }
    },
    {
      "cell_type": "markdown",
      "source": [
        "### 1126"
      ],
      "metadata": {
        "id": "IXVm1EK_c5nF"
      }
    },
    {
      "cell_type": "code",
      "source": [
        "import sys, math\n",
        "inf = math.inf\n",
        "input = sys.stdin.readline\n",
        "\n",
        "num_blocks = int(input())\n",
        "block_heights = list(map(int, input().split()))\n",
        "dp = [[-1 for _ in range(500002)] for _ in range(num_blocks + 1)]\n",
        "\n",
        "if num_blocks == 1:\n",
        "    print(-1)\n",
        "    sys.exit()\n",
        "\n",
        "if num_blocks == 2:\n",
        "    if block_heights[0] == block_heights[1]:\n",
        "        print(block_heights[0])\n",
        "    else:\n",
        "        print(-1)\n",
        "    sys.exit()\n",
        "\n",
        "for i in range(num_blocks, -1, -1):\n",
        "    for j in range(500002):\n",
        "        if j == 500001:\n",
        "            dp[i][j] = -inf\n",
        "        if i == num_blocks:\n",
        "            if j == 0:\n",
        "                dp[i][j] = 0\n",
        "            else:\n",
        "                dp[i][j] = -inf\n",
        "        else:\n",
        "            dp[i][j] = max([\n",
        "                dp[i + 1][j],\n",
        "                dp[i + 1][min(500001, j + block_heights[i])],\n",
        "                dp[i + 1][abs(block_heights[i] - j)] + min(block_heights[i], j)\n",
        "            ])\n",
        "\n",
        "max_height = dp[0][0]\n",
        "print('-1' if max_height == 0 else max_height)"
      ],
      "metadata": {
        "id": "4G8wqmmUc5CC"
      },
      "execution_count": null,
      "outputs": []
    },
    {
      "cell_type": "markdown",
      "source": [
        "## Programmers"
      ],
      "metadata": {
        "id": "dYovOeRCc4hI"
      }
    },
    {
      "cell_type": "markdown",
      "source": [
        "### 조건 문자열"
      ],
      "metadata": {
        "id": "c_qaJDbrc8P7"
      }
    },
    {
      "cell_type": "code",
      "source": [
        "def solution(ineq, eq, n, m):\n",
        "    answer = 0\n",
        "\n",
        "    if ineq == '>' and eq == '=':\n",
        "        if n >=m:\n",
        "            answer = 1\n",
        "    elif ineq == '<' and eq == '=':\n",
        "        if n <=m:\n",
        "            answer = 1\n",
        "    elif ineq == '>' and eq == '!':\n",
        "        if n > m:\n",
        "            answer = 1\n",
        "    elif ineq == '<' and eq == '!':\n",
        "        if n < m:\n",
        "            answer = 1\n",
        "\n",
        "    return answer"
      ],
      "metadata": {
        "id": "e9f3q187c89u"
      },
      "execution_count": null,
      "outputs": []
    }
  ]
}