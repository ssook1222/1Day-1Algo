{
  "nbformat": 4,
  "nbformat_minor": 0,
  "metadata": {
    "colab": {
      "provenance": [],
      "authorship_tag": "ABX9TyNEEjLnaY+SKPrGYCb85E9U",
      "include_colab_link": true
    },
    "kernelspec": {
      "name": "python3",
      "display_name": "Python 3"
    },
    "language_info": {
      "name": "python"
    }
  },
  "cells": [
    {
      "cell_type": "markdown",
      "metadata": {
        "id": "view-in-github",
        "colab_type": "text"
      },
      "source": [
        "<a href=\"https://colab.research.google.com/github/ssook1222/1Day-1Algo/blob/master/ssook/25%EB%85%84/2%EC%9B%94/2%EC%9B%94%203%EC%A3%BC%EC%B0%A8/0215.ipynb\" target=\"_parent\"><img src=\"https://colab.research.google.com/assets/colab-badge.svg\" alt=\"Open In Colab\"/></a>"
      ]
    },
    {
      "cell_type": "markdown",
      "source": [
        "## BoJ"
      ],
      "metadata": {
        "id": "PSeUkVr2-VCc"
      }
    },
    {
      "cell_type": "markdown",
      "source": [
        "### 1500"
      ],
      "metadata": {
        "id": "5VYIv5R--asr"
      }
    },
    {
      "cell_type": "code",
      "source": [
        "sum_value, num_parts = map(int, input().split())\n",
        "numbers = [sum_value // num_parts for _ in range(num_parts)]\n",
        "for i in range(sum_value % num_parts):\n",
        "    numbers[i] += 1\n",
        "product = 1\n",
        "for number in numbers:\n",
        "    product *= number\n",
        "print(product)"
      ],
      "metadata": {
        "id": "TE09xO85-btj"
      },
      "execution_count": null,
      "outputs": []
    },
    {
      "cell_type": "markdown",
      "source": [
        "## Programmers"
      ],
      "metadata": {
        "id": "L0jRq6C7-cMo"
      }
    },
    {
      "cell_type": "markdown",
      "source": [
        "### 배열의 원소 삭제하기"
      ],
      "metadata": {
        "id": "Eo7kEg4t-gq_"
      }
    },
    {
      "cell_type": "code",
      "source": [
        "def solution(arr, delete_list):\n",
        "    answer = []\n",
        "\n",
        "    for num in delete_list:\n",
        "        if num in arr:\n",
        "            arr.remove(num)\n",
        "\n",
        "    answer = arr\n",
        "\n",
        "    return answer"
      ],
      "metadata": {
        "id": "BOlqKEzB-hzw"
      },
      "execution_count": null,
      "outputs": []
    }
  ]
}