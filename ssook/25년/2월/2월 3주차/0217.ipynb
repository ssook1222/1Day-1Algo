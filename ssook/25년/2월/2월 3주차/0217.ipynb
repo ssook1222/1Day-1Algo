{
  "nbformat": 4,
  "nbformat_minor": 0,
  "metadata": {
    "colab": {
      "provenance": [],
      "authorship_tag": "ABX9TyPDuTyFLTnZGapMgU8zpfwm",
      "include_colab_link": true
    },
    "kernelspec": {
      "name": "python3",
      "display_name": "Python 3"
    },
    "language_info": {
      "name": "python"
    }
  },
  "cells": [
    {
      "cell_type": "markdown",
      "metadata": {
        "id": "view-in-github",
        "colab_type": "text"
      },
      "source": [
        "<a href=\"https://colab.research.google.com/github/ssook1222/1Day-1Algo/blob/master/ssook/25%EB%85%84/2%EC%9B%94/2%EC%9B%94%203%EC%A3%BC%EC%B0%A8/0217.ipynb\" target=\"_parent\"><img src=\"https://colab.research.google.com/assets/colab-badge.svg\" alt=\"Open In Colab\"/></a>"
      ]
    },
    {
      "cell_type": "markdown",
      "source": [
        "## BoJ"
      ],
      "metadata": {
        "id": "3aWqZPrYc1pu"
      }
    },
    {
      "cell_type": "markdown",
      "source": [
        "### 10999\n",
        "\n",
        "---\n",
        "\n",
        "pypy"
      ],
      "metadata": {
        "id": "IXVm1EK_c5nF"
      }
    },
    {
      "cell_type": "code",
      "source": [
        "segment_tree = [0 for _ in range(4040404)]\n",
        "lazy_updates = [0 for _ in range(4040404)]\n",
        "\n",
        "def initialize(node, start, end):\n",
        "    if start == end:\n",
        "        segment_tree[node] = values[start - 1]\n",
        "        return segment_tree[node]\n",
        "    mid = (start + end) // 2\n",
        "    segment_tree[node] = initialize(node * 2, start, mid) + initialize(node * 2 + 1, mid + 1, end)\n",
        "    return segment_tree[node]\n",
        "\n",
        "def apply_update(node, left_range, right_range, start, end, difference):\n",
        "    propagate_lazy(node, start, end)\n",
        "    if end < left_range or right_range < start:\n",
        "        return\n",
        "    if left_range <= start and end <= right_range:\n",
        "        segment_tree[node] += (end - start + 1) * difference\n",
        "        if start != end:\n",
        "            lazy_updates[node * 2] += difference\n",
        "            lazy_updates[node * 2 + 1] += difference\n",
        "        return\n",
        "    mid = (start + end) // 2\n",
        "    apply_update(node * 2, left_range, right_range, start, mid, difference)\n",
        "    apply_update(node * 2 + 1, left_range, right_range, mid + 1, end, difference)\n",
        "    segment_tree[node] = segment_tree[node * 2] + segment_tree[node * 2 + 1]\n",
        "\n",
        "def propagate_lazy(node, start, end):\n",
        "    if lazy_updates[node]:\n",
        "        segment_tree[node] += (end - start + 1) * lazy_updates[node]\n",
        "        if start != end:\n",
        "            lazy_updates[node * 2] += lazy_updates[node]\n",
        "            lazy_updates[node * 2 + 1] += lazy_updates[node]\n",
        "        lazy_updates[node] = 0\n",
        "\n",
        "def query_sum(node, left_range, right_range, start, end):\n",
        "    propagate_lazy(node, start, end)\n",
        "    if end < left_range or right_range < start:\n",
        "        return 0\n",
        "    if left_range <= start and end <= right_range:\n",
        "        return segment_tree[node]\n",
        "    mid = (start + end) // 2\n",
        "    return query_sum(node * 2, left_range, right_range, start, mid) + query_sum(node * 2 + 1, left_range, right_range, mid + 1, end)\n",
        "\n",
        "num_elements, num_update_queries, num_sum_queries = map(int, input().split())\n",
        "values = [int(input()) for _ in range(num_elements)]\n",
        "\n",
        "initialize(1, 1, num_elements)\n",
        "\n",
        "for _ in range(num_update_queries + num_sum_queries):\n",
        "    query = list(map(int, input().split()))\n",
        "    if query[0] == 1:\n",
        "        apply_update(1, query[1], query[2], 1, num_elements, query[3])\n",
        "    else:\n",
        "        print(query_sum(1, query[1], query[2], 1, num_elements))"
      ],
      "metadata": {
        "id": "4G8wqmmUc5CC"
      },
      "execution_count": null,
      "outputs": []
    },
    {
      "cell_type": "markdown",
      "source": [
        "## Programmers"
      ],
      "metadata": {
        "id": "dYovOeRCc4hI"
      }
    },
    {
      "cell_type": "markdown",
      "source": [
        "### 전국 대회 선발 고사"
      ],
      "metadata": {
        "id": "c_qaJDbrc8P7"
      }
    },
    {
      "cell_type": "code",
      "source": [
        "def solution(rank, attendance):\n",
        "    answer = 0\n",
        "\n",
        "    data = {}\n",
        "\n",
        "    for i in range(len(attendance)):\n",
        "        if attendance[i] == True:\n",
        "            data[i] = rank[i]\n",
        "\n",
        "    person_dict = sorted(data.items(), key=lambda x:x[1])\n",
        "\n",
        "    answer = 10000 * person_dict[0][0] + 100 * person_dict[1][0] + person_dict[2][0]\n",
        "\n",
        "    return answer"
      ],
      "metadata": {
        "id": "e9f3q187c89u"
      },
      "execution_count": null,
      "outputs": []
    }
  ]
}