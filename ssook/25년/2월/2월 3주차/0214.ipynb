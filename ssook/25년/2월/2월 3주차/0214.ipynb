{
  "nbformat": 4,
  "nbformat_minor": 0,
  "metadata": {
    "colab": {
      "provenance": [],
      "authorship_tag": "ABX9TyPxpxTomVIQsKNutlQ5LUpT",
      "include_colab_link": true
    },
    "kernelspec": {
      "name": "python3",
      "display_name": "Python 3"
    },
    "language_info": {
      "name": "python"
    }
  },
  "cells": [
    {
      "cell_type": "markdown",
      "metadata": {
        "id": "view-in-github",
        "colab_type": "text"
      },
      "source": [
        "<a href=\"https://colab.research.google.com/github/ssook1222/1Day-1Algo/blob/master/ssook/25%EB%85%84/2%EC%9B%94/2%EC%9B%94%203%EC%A3%BC%EC%B0%A8/0214.ipynb\" target=\"_parent\"><img src=\"https://colab.research.google.com/assets/colab-badge.svg\" alt=\"Open In Colab\"/></a>"
      ]
    },
    {
      "cell_type": "markdown",
      "source": [
        "## BoJ"
      ],
      "metadata": {
        "id": "K3Y_tkw_uUSR"
      }
    },
    {
      "cell_type": "markdown",
      "source": [
        "###  18409"
      ],
      "metadata": {
        "id": "cmqpCUcvuWhT"
      }
    },
    {
      "cell_type": "code",
      "execution_count": null,
      "metadata": {
        "colab": {
          "base_uri": "https://localhost:8080/"
        },
        "id": "UzUmsQ3ruML0",
        "outputId": "76c379e0-578d-4ed5-a62a-6148b58324c2"
      },
      "outputs": [
        {
          "output_type": "stream",
          "name": "stdout",
          "text": [
            "8\n",
            "joiyosen\n",
            "4\n"
          ]
        }
      ],
      "source": [
        "n = int(input())\n",
        "vowel = ['a','e','i','o', 'u']\n",
        "cnt = 0\n",
        "\n",
        "s = input()\n",
        "s = s.lower()\n",
        "\n",
        "for c in s:\n",
        "  if c in vowel:\n",
        "    cnt += 1\n",
        "\n",
        "print(cnt)"
      ]
    },
    {
      "cell_type": "markdown",
      "source": [
        "### 24736"
      ],
      "metadata": {
        "id": "94L9ChkYuXaB"
      }
    },
    {
      "cell_type": "code",
      "source": [
        "t1, f1, s1, p1, c1 = map(int, input().split())\n",
        "t2, f2, s2, p2, c2 = map(int, input().split())\n",
        "\n",
        "score1 = t1*6 + f1*3 + s1*2 + p1 + c1*2\n",
        "score2 = t2*6 + f2*3 + s2*2 + p2 + c2*2\n",
        "\n",
        "print(score1, score2)"
      ],
      "metadata": {
        "colab": {
          "base_uri": "https://localhost:8080/"
        },
        "id": "MKniEkaHuYH0",
        "outputId": "9a19bd71-b3d9-48dd-8b2a-398afc8586f0"
      },
      "execution_count": null,
      "outputs": [
        {
          "output_type": "stream",
          "name": "stdout",
          "text": [
            "1 3 0 0 1\n",
            "3 1 1 1 1\n",
            "17 26\n"
          ]
        }
      ]
    },
    {
      "cell_type": "markdown",
      "source": [
        "---"
      ],
      "metadata": {
        "id": "ZPhBQEFduYZV"
      }
    },
    {
      "cell_type": "markdown",
      "source": [
        "## CodeTree"
      ],
      "metadata": {
        "id": "zmJAiA0HuZiu"
      }
    },
    {
      "cell_type": "markdown",
      "source": [
        "### 함수를 이용해 직사각형 만들기"
      ],
      "metadata": {
        "id": "vRVve985ubwO"
      }
    },
    {
      "cell_type": "code",
      "source": [
        "def printing(n, m):\n",
        "    for _ in range(n):\n",
        "        print('1'*m)\n",
        "\n",
        "n, m = map(int, input().split())\n",
        "printing(n, m)"
      ],
      "metadata": {
        "id": "znX8fswTuawY"
      },
      "execution_count": null,
      "outputs": []
    }
  ]
}