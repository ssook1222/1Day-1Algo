{
  "nbformat": 4,
  "nbformat_minor": 0,
  "metadata": {
    "colab": {
      "provenance": [],
      "authorship_tag": "ABX9TyMVNAiD5m1IVQFWlJS/96Ue",
      "include_colab_link": true
    },
    "kernelspec": {
      "name": "python3",
      "display_name": "Python 3"
    },
    "language_info": {
      "name": "python"
    }
  },
  "cells": [
    {
      "cell_type": "markdown",
      "metadata": {
        "id": "view-in-github",
        "colab_type": "text"
      },
      "source": [
        "<a href=\"https://colab.research.google.com/github/ssook1222/1Day-1Algo/blob/master/ssook/25%EB%85%84/2%EC%9B%94/2%EC%9B%94%203%EC%A3%BC%EC%B0%A8/0219.ipynb\" target=\"_parent\"><img src=\"https://colab.research.google.com/assets/colab-badge.svg\" alt=\"Open In Colab\"/></a>"
      ]
    },
    {
      "cell_type": "markdown",
      "source": [
        "## BoJ"
      ],
      "metadata": {
        "id": "3aWqZPrYc1pu"
      }
    },
    {
      "cell_type": "markdown",
      "source": [
        "### 16975"
      ],
      "metadata": {
        "id": "IXVm1EK_c5nF"
      }
    },
    {
      "cell_type": "code",
      "source": [
        "import sys, math\n",
        "input = sys.stdin.readline\n",
        "\n",
        "def initialize_segment_tree(node, start, end):\n",
        "    if start == end:\n",
        "        segment_tree[node] = sequence[start]\n",
        "        return\n",
        "    mid = (start + end) // 2\n",
        "    initialize_segment_tree(node * 2, start, mid)\n",
        "    initialize_segment_tree(node * 2 + 1, mid + 1, end)\n",
        "\n",
        "def update_range(node, start, end, left, right, value):\n",
        "    if left > end or right < start:\n",
        "        return\n",
        "    if left <= start and right >= end:\n",
        "        segment_tree[node] += value\n",
        "        return\n",
        "    mid = (start + end) // 2\n",
        "    update_range(node * 2, start, mid, left, right, value)\n",
        "    update_range(node * 2 + 1, mid + 1, end, left, right, value)\n",
        "\n",
        "def query_sum(node, start, end, index, accumulated_value):\n",
        "    if index > end or index < start:\n",
        "        return 0\n",
        "    accumulated_value += segment_tree[node]\n",
        "    if start == end:\n",
        "        return accumulated_value  # Return accumulated value, not the tree node value\n",
        "    mid = (start + end) // 2\n",
        "    return query_sum(node * 2, start, mid, index, accumulated_value) + query_sum(node * 2 + 1, mid + 1, end, index, accumulated_value)\n",
        "\n",
        "# Reading input\n",
        "num_elements = int(input())\n",
        "sequence = list(map(int, input().split()))\n",
        "tree_height = math.ceil(math.log2(num_elements))\n",
        "tree_size = 1 << (tree_height + 1)\n",
        "segment_tree = [0] * (tree_size + 1)\n",
        "\n",
        "initialize_segment_tree(1, 0, num_elements - 1)\n",
        "\n",
        "# Processing queries\n",
        "for _ in range(int(input())):\n",
        "    query = list(map(int, input().split()))\n",
        "    if query[0] == 1:\n",
        "        update_range(1, 0, num_elements - 1, query[1] - 1, query[2] - 1, query[3])\n",
        "    else:\n",
        "        print(query_sum(1, 0, num_elements - 1, query[1] - 1, 0))"
      ],
      "metadata": {
        "id": "4G8wqmmUc5CC"
      },
      "execution_count": null,
      "outputs": []
    },
    {
      "cell_type": "markdown",
      "source": [
        "## Programmers"
      ],
      "metadata": {
        "id": "dYovOeRCc4hI"
      }
    },
    {
      "cell_type": "markdown",
      "source": [
        "### 배열 만들기 6"
      ],
      "metadata": {
        "id": "c_qaJDbrc8P7"
      }
    },
    {
      "cell_type": "code",
      "source": [
        "def solution(arr):\n",
        "    stk = []\n",
        "    answer = []\n",
        "\n",
        "    i = 0\n",
        "\n",
        "    while i < len(arr):\n",
        "        if stk == []:\n",
        "            stk.append(arr[i])\n",
        "            i += 1\n",
        "\n",
        "        elif len(stk) != 0 :\n",
        "            if stk[-1] == arr[i]:\n",
        "                stk.pop()\n",
        "                i += 1\n",
        "\n",
        "            else:\n",
        "                stk.append(arr[i])\n",
        "                i += 1\n",
        "\n",
        "    if len(stk)!=0:\n",
        "        answer = stk\n",
        "\n",
        "    else:\n",
        "        answer = [-1]\n",
        "\n",
        "    return answer"
      ],
      "metadata": {
        "id": "e9f3q187c89u"
      },
      "execution_count": null,
      "outputs": []
    }
  ]
}