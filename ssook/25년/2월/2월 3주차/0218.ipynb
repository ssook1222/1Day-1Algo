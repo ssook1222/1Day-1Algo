{
  "nbformat": 4,
  "nbformat_minor": 0,
  "metadata": {
    "colab": {
      "provenance": [],
      "authorship_tag": "ABX9TyNfu8Aj6RRTFkPp7SXiKzXj",
      "include_colab_link": true
    },
    "kernelspec": {
      "name": "python3",
      "display_name": "Python 3"
    },
    "language_info": {
      "name": "python"
    }
  },
  "cells": [
    {
      "cell_type": "markdown",
      "metadata": {
        "id": "view-in-github",
        "colab_type": "text"
      },
      "source": [
        "<a href=\"https://colab.research.google.com/github/ssook1222/1Day-1Algo/blob/master/ssook/25%EB%85%84/2%EC%9B%94/2%EC%9B%94%203%EC%A3%BC%EC%B0%A8/0218.ipynb\" target=\"_parent\"><img src=\"https://colab.research.google.com/assets/colab-badge.svg\" alt=\"Open In Colab\"/></a>"
      ]
    },
    {
      "cell_type": "markdown",
      "source": [
        "## BoJ"
      ],
      "metadata": {
        "id": "3aWqZPrYc1pu"
      }
    },
    {
      "cell_type": "markdown",
      "source": [
        "### 11375"
      ],
      "metadata": {
        "id": "IXVm1EK_c5nF"
      }
    },
    {
      "cell_type": "code",
      "source": [
        "import sys\n",
        "sys.setrecursionlimit(100000)\n",
        "\n",
        "num_employees, num_tasks = map(int, input().split())\n",
        "employee_tasks = [list(map(int, input().split()))[1:] for _ in range(num_employees)]\n",
        "\n",
        "assigned_tasks = [-1] * (num_tasks + 1)\n",
        "\n",
        "def find_task(employee):\n",
        "    for task in employee_tasks[employee]:\n",
        "        if not task_visited[task]:\n",
        "            task_visited[task] = True\n",
        "            if assigned_tasks[task] == -1 or find_task(assigned_tasks[task]):\n",
        "                assigned_tasks[task] = employee\n",
        "                return True\n",
        "    return False\n",
        "\n",
        "max_tasks_assigned = 0\n",
        "\n",
        "for employee in range(num_employees):\n",
        "    task_visited = [False] * (num_tasks + 1)\n",
        "    if find_task(employee):\n",
        "        max_tasks_assigned += 1\n",
        "\n",
        "print(max_tasks_assigned)"
      ],
      "metadata": {
        "id": "4G8wqmmUc5CC"
      },
      "execution_count": null,
      "outputs": []
    },
    {
      "cell_type": "markdown",
      "source": [
        "## Programmers"
      ],
      "metadata": {
        "id": "dYovOeRCc4hI"
      }
    },
    {
      "cell_type": "markdown",
      "source": [
        "### 코드 처리하기"
      ],
      "metadata": {
        "id": "c_qaJDbrc8P7"
      }
    },
    {
      "cell_type": "code",
      "source": [
        "def solution(code):\n",
        "    answer = ''\n",
        "    mode = 0\n",
        "\n",
        "    for i in range(len(code)):\n",
        "        if mode == 0:\n",
        "            if code[i] != '1':\n",
        "                if i%2==0:\n",
        "                    answer += code[i]\n",
        "            else:\n",
        "                mode = 1\n",
        "        else:\n",
        "            if code[i] != '1':\n",
        "                if i%2!=0:\n",
        "                    answer += code[i]\n",
        "            else:\n",
        "                mode = 0\n",
        "\n",
        "    if answer == '':\n",
        "        return 'EMPTY'\n",
        "\n",
        "    return answer"
      ],
      "metadata": {
        "id": "e9f3q187c89u"
      },
      "execution_count": null,
      "outputs": []
    }
  ]
}