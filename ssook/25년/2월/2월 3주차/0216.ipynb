{
  "nbformat": 4,
  "nbformat_minor": 0,
  "metadata": {
    "colab": {
      "provenance": [],
      "authorship_tag": "ABX9TyOkTMjnYUe954BSgUki8DR2",
      "include_colab_link": true
    },
    "kernelspec": {
      "name": "python3",
      "display_name": "Python 3"
    },
    "language_info": {
      "name": "python"
    }
  },
  "cells": [
    {
      "cell_type": "markdown",
      "metadata": {
        "id": "view-in-github",
        "colab_type": "text"
      },
      "source": [
        "<a href=\"https://colab.research.google.com/github/ssook1222/1Day-1Algo/blob/master/ssook/25%EB%85%84/2%EC%9B%94/2%EC%9B%94%203%EC%A3%BC%EC%B0%A8/0216.ipynb\" target=\"_parent\"><img src=\"https://colab.research.google.com/assets/colab-badge.svg\" alt=\"Open In Colab\"/></a>"
      ]
    },
    {
      "cell_type": "markdown",
      "source": [
        "## BoJ"
      ],
      "metadata": {
        "id": "PSeUkVr2-VCc"
      }
    },
    {
      "cell_type": "markdown",
      "source": [
        "### 1706"
      ],
      "metadata": {
        "id": "5VYIv5R--asr"
      }
    },
    {
      "cell_type": "code",
      "source": [
        "import sys\n",
        "\n",
        "num_rows, num_cols = map(int, sys.stdin.readline().split())\n",
        "\n",
        "puzzle = list()\n",
        "for i in range(num_rows):\n",
        "    puzzle.append(sys.stdin.readline().rstrip())\n",
        "\n",
        "transposed_puzzle = list(map(list, zip(*puzzle)))\n",
        "\n",
        "words = list()\n",
        "for i in range(num_rows):\n",
        "    row_words = puzzle[i].split(\"#\")\n",
        "    for word in row_words:\n",
        "        if len(word) > 1:\n",
        "            words.append(word)\n",
        "\n",
        "for i in range(num_cols):\n",
        "    col_words = \"\".join(transposed_puzzle[i]).split(\"#\")\n",
        "    for word in col_words:\n",
        "        if len(word) > 1:\n",
        "            words.append(word)\n",
        "\n",
        "words.sort()\n",
        "print(words[0])"
      ],
      "metadata": {
        "id": "TE09xO85-btj"
      },
      "execution_count": null,
      "outputs": []
    },
    {
      "cell_type": "markdown",
      "source": [
        "## Programmers"
      ],
      "metadata": {
        "id": "L0jRq6C7-cMo"
      }
    },
    {
      "cell_type": "markdown",
      "source": [
        "### 뒤에서 5등 위로"
      ],
      "metadata": {
        "id": "Eo7kEg4t-gq_"
      }
    },
    {
      "cell_type": "code",
      "source": [
        "def solution(num_list):\n",
        "    num_list.sort()\n",
        "    answer = num_list[5:]\n",
        "    return answer"
      ],
      "metadata": {
        "id": "BOlqKEzB-hzw"
      },
      "execution_count": null,
      "outputs": []
    }
  ]
}