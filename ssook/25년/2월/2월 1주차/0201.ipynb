{
  "nbformat": 4,
  "nbformat_minor": 0,
  "metadata": {
    "colab": {
      "provenance": [],
      "authorship_tag": "ABX9TyPBX/2t54/X/zjcqkbyiRk4",
      "include_colab_link": true
    },
    "kernelspec": {
      "name": "python3",
      "display_name": "Python 3"
    },
    "language_info": {
      "name": "python"
    }
  },
  "cells": [
    {
      "cell_type": "markdown",
      "metadata": {
        "id": "view-in-github",
        "colab_type": "text"
      },
      "source": [
        "<a href=\"https://colab.research.google.com/github/ssook1222/1Day-1Algo/blob/master/ssook/25%EB%85%84/2%EC%9B%94/2%EC%9B%94%201%EC%A3%BC%EC%B0%A8/0201.ipynb\" target=\"_parent\"><img src=\"https://colab.research.google.com/assets/colab-badge.svg\" alt=\"Open In Colab\"/></a>"
      ]
    },
    {
      "cell_type": "markdown",
      "source": [
        "## BoJ"
      ],
      "metadata": {
        "id": "KQ02EbQB8IJG"
      }
    },
    {
      "cell_type": "markdown",
      "source": [
        "### 15721"
      ],
      "metadata": {
        "id": "5lCPhsaW8Qb8"
      }
    },
    {
      "cell_type": "code",
      "source": [
        "num_people = int(input())\n",
        "target_turn = int(input())\n",
        "target_word = int(input())\n",
        "\n",
        "game_sequence = []\n",
        "front_word = back_word = 1\n",
        "round_num = 0\n",
        "\n",
        "while True:\n",
        "    prev_round = front_word\n",
        "    round_num += 1\n",
        "    for _ in range(2):\n",
        "        game_sequence.append((front_word, 0))\n",
        "        front_word += 1\n",
        "        game_sequence.append((back_word, 1))\n",
        "        back_word += 1\n",
        "    for _ in range(round_num + 1):\n",
        "        game_sequence.append((front_word, 0))\n",
        "        front_word += 1\n",
        "    for _ in range(round_num + 1):\n",
        "        game_sequence.append((back_word, 1))\n",
        "        back_word += 1\n",
        "    if prev_round < target_turn <= front_word:\n",
        "        print(game_sequence.index((target_turn, target_word)) % num_people)\n",
        "        break"
      ],
      "metadata": {
        "id": "bTyftJgJ8KGi"
      },
      "execution_count": null,
      "outputs": []
    },
    {
      "cell_type": "markdown",
      "source": [
        "## Programmers"
      ],
      "metadata": {
        "id": "VLqpgaJB8KTR"
      }
    },
    {
      "cell_type": "markdown",
      "source": [
        "### 부분 문자열\n"
      ],
      "metadata": {
        "id": "NKI8zQh58MDx"
      }
    },
    {
      "cell_type": "code",
      "source": [
        "def solution(str1, str2):\n",
        "    answer = 0\n",
        "\n",
        "    if str1 in str2:\n",
        "        answer = 1\n",
        "\n",
        "    return answer"
      ],
      "metadata": {
        "id": "4X9bbpJV8O5t"
      },
      "execution_count": null,
      "outputs": []
    }
  ]
}