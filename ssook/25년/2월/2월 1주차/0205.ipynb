{
  "nbformat": 4,
  "nbformat_minor": 0,
  "metadata": {
    "colab": {
      "provenance": [],
      "authorship_tag": "ABX9TyM2xxpaAw54dJ8olQAyOE2m",
      "include_colab_link": true
    },
    "kernelspec": {
      "name": "python3",
      "display_name": "Python 3"
    },
    "language_info": {
      "name": "python"
    }
  },
  "cells": [
    {
      "cell_type": "markdown",
      "metadata": {
        "id": "view-in-github",
        "colab_type": "text"
      },
      "source": [
        "<a href=\"https://colab.research.google.com/github/ssook1222/1Day-1Algo/blob/master/ssook/25%EB%85%84/2%EC%9B%94/2%EC%9B%94%201%EC%A3%BC%EC%B0%A8/0205.ipynb\" target=\"_parent\"><img src=\"https://colab.research.google.com/assets/colab-badge.svg\" alt=\"Open In Colab\"/></a>"
      ]
    },
    {
      "cell_type": "markdown",
      "source": [
        "## BoJ"
      ],
      "metadata": {
        "id": "-ahqO5U519Nr"
      }
    },
    {
      "cell_type": "markdown",
      "source": [
        "### 2961"
      ],
      "metadata": {
        "id": "1GZaoc5b1_NJ"
      }
    },
    {
      "cell_type": "code",
      "source": [
        "def dfs(depth, start):\n",
        "    global result\n",
        "    if depth == num_ingredients:\n",
        "        sour = 1\n",
        "        bitter = 0\n",
        "        for ingredient in selected_ingredients:\n",
        "            sour *= ingredient[0]\n",
        "            bitter += ingredient[1]\n",
        "        if abs(bitter - sour) < result:\n",
        "            result = abs(bitter - sour)\n",
        "        return\n",
        "    for i in range(start, N):\n",
        "        selected_ingredients.append(ingredients[i])\n",
        "        dfs(depth + 1, i + 1)\n",
        "        selected_ingredients.pop()\n",
        "\n",
        "\n",
        "N = int(input())\n",
        "ingredients = [list(map(int, input().split())) for _ in range(N)]\n",
        "selected_ingredients = []\n",
        "result = 1 << 100\n",
        "\n",
        "for i in range(1, N + 1):\n",
        "    num_ingredients = i\n",
        "    dfs(0, 0)\n",
        "\n",
        "print(result)"
      ],
      "metadata": {
        "id": "qKVRjoxC1_uw"
      },
      "execution_count": null,
      "outputs": []
    },
    {
      "cell_type": "markdown",
      "source": [
        "## Programmers"
      ],
      "metadata": {
        "id": "pgkL7upq2AFH"
      }
    },
    {
      "cell_type": "markdown",
      "source": [
        "### 정수 찾기"
      ],
      "metadata": {
        "id": "T7s2wTE22BhZ"
      }
    },
    {
      "cell_type": "code",
      "source": [
        "def solution(num_list, n):\n",
        "    answer = 0\n",
        "\n",
        "    if n in num_list:\n",
        "        answer = 1\n",
        "\n",
        "    return answer"
      ],
      "metadata": {
        "id": "Y3iapJcn2CIa"
      },
      "execution_count": null,
      "outputs": []
    }
  ]
}