{
  "nbformat": 4,
  "nbformat_minor": 0,
  "metadata": {
    "colab": {
      "provenance": [],
      "authorship_tag": "ABX9TyNy0m6rlxpPw5jQifVD+S/Y",
      "include_colab_link": true
    },
    "kernelspec": {
      "name": "python3",
      "display_name": "Python 3"
    },
    "language_info": {
      "name": "python"
    }
  },
  "cells": [
    {
      "cell_type": "markdown",
      "metadata": {
        "id": "view-in-github",
        "colab_type": "text"
      },
      "source": [
        "<a href=\"https://colab.research.google.com/github/ssook1222/1Day-1Algo/blob/master/ssook/25%EB%85%84/2%EC%9B%94/2%EC%9B%94%201%EC%A3%BC%EC%B0%A8/0204.ipynb\" target=\"_parent\"><img src=\"https://colab.research.google.com/assets/colab-badge.svg\" alt=\"Open In Colab\"/></a>"
      ]
    },
    {
      "cell_type": "markdown",
      "source": [
        "## BoJ"
      ],
      "metadata": {
        "id": "-ahqO5U519Nr"
      }
    },
    {
      "cell_type": "markdown",
      "source": [
        "### 4375"
      ],
      "metadata": {
        "id": "1GZaoc5b1_NJ"
      }
    },
    {
      "cell_type": "code",
      "source": [
        "while True:\n",
        "    try:\n",
        "        n = int(input())\n",
        "    except:\n",
        "        break\n",
        "\n",
        "    number = 1\n",
        "    digits = 1\n",
        "    while True:\n",
        "        if number % n != 0:\n",
        "            number = number * 10 + 1\n",
        "            digits += 1\n",
        "        else:\n",
        "            break\n",
        "\n",
        "    print(digits)"
      ],
      "metadata": {
        "id": "qKVRjoxC1_uw"
      },
      "execution_count": null,
      "outputs": []
    },
    {
      "cell_type": "markdown",
      "source": [
        "## Programmers"
      ],
      "metadata": {
        "id": "pgkL7upq2AFH"
      }
    },
    {
      "cell_type": "markdown",
      "source": [
        "### 두 수의 합"
      ],
      "metadata": {
        "id": "T7s2wTE22BhZ"
      }
    },
    {
      "cell_type": "code",
      "source": [
        "def solution(a, b):\n",
        "    raw = int(a) + int(b)\n",
        "    answer = str(raw)\n",
        "    return answer"
      ],
      "metadata": {
        "id": "Y3iapJcn2CIa"
      },
      "execution_count": null,
      "outputs": []
    }
  ]
}