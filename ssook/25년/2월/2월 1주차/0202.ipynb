{
  "nbformat": 4,
  "nbformat_minor": 0,
  "metadata": {
    "colab": {
      "provenance": [],
      "authorship_tag": "ABX9TyMYbSHAquNkRrRRZDjCGXNY",
      "include_colab_link": true
    },
    "kernelspec": {
      "name": "python3",
      "display_name": "Python 3"
    },
    "language_info": {
      "name": "python"
    }
  },
  "cells": [
    {
      "cell_type": "markdown",
      "metadata": {
        "id": "view-in-github",
        "colab_type": "text"
      },
      "source": [
        "<a href=\"https://colab.research.google.com/github/ssook1222/1Day-1Algo/blob/master/ssook/25%EB%85%84/2%EC%9B%94/2%EC%9B%94%201%EC%A3%BC%EC%B0%A8/0202.ipynb\" target=\"_parent\"><img src=\"https://colab.research.google.com/assets/colab-badge.svg\" alt=\"Open In Colab\"/></a>"
      ]
    },
    {
      "cell_type": "markdown",
      "source": [
        "## BoJ"
      ],
      "metadata": {
        "id": "KQ02EbQB8IJG"
      }
    },
    {
      "cell_type": "markdown",
      "source": [
        "### 2890"
      ],
      "metadata": {
        "id": "5lCPhsaW8Qb8"
      }
    },
    {
      "cell_type": "code",
      "source": [
        "rows, cols = map(int, input().split())\n",
        "grid = []\n",
        "team_positions = []\n",
        "team_check = []\n",
        "rank = 1\n",
        "team_rankings = []\n",
        "\n",
        "# 각 레일별 팀들의 위치를 입력받는다\n",
        "for i in range(rows):\n",
        "    grid.append(list(input()))\n",
        "\n",
        "# 3개의 숫자 중 앞의 숫자 2개를 지워준다\n",
        "for i in range(rows):\n",
        "    count = 0\n",
        "    for j in range(cols):\n",
        "        if grid[i][j] != \"S\" and grid[i][j] != \".\" and grid[i][j] != \"F\":\n",
        "            del grid[i][j]\n",
        "            count += 1\n",
        "        if count == 2:\n",
        "            break\n",
        "\n",
        "# 선수가 없는 빈 레일을 지워준다\n",
        "for i in grid:\n",
        "    team_check.append(len(i))\n",
        "for i in range(len(team_check)):\n",
        "    if team_check[i] == max(team_check):\n",
        "        delete_index = i\n",
        "del grid[delete_index]\n",
        "\n",
        "# 결승지점으로부터 가까이 있는 팀들에게 순위를 부여하고 그 팀의 번호를 저장한다\n",
        "for i in range(1, cols - 1):\n",
        "    count = 0\n",
        "    for j in range(rows - 1):\n",
        "        if grid[j][-i] != \"F\" and grid[j][-i] != \".\" and grid[j][-i] != \"S\":\n",
        "            team_rankings.append(rank)  # team_rankings 배열에 순위를 저장\n",
        "            team_positions.append(int(grid[j][-i]))  # team_positions에 팀의 번호를 저장\n",
        "            count += 1\n",
        "    if count > 0:\n",
        "        rank += 1\n",
        "\n",
        "# 1번팀부터 9번팀까지 그에 맞는 순위를 출력한다\n",
        "for i in range(1, 10):\n",
        "    print(team_rankings[team_positions.index(i)])"
      ],
      "metadata": {
        "id": "bTyftJgJ8KGi"
      },
      "execution_count": null,
      "outputs": []
    },
    {
      "cell_type": "markdown",
      "source": [
        "## Programmers"
      ],
      "metadata": {
        "id": "VLqpgaJB8KTR"
      }
    },
    {
      "cell_type": "markdown",
      "source": [
        "### 배열의 원소 삭제하기\n"
      ],
      "metadata": {
        "id": "NKI8zQh58MDx"
      }
    },
    {
      "cell_type": "code",
      "source": [
        "def solution(arr, delete_list):\n",
        "    answer = []\n",
        "\n",
        "    for num in delete_list:\n",
        "        if num in arr:\n",
        "            arr.remove(num)\n",
        "\n",
        "    answer = arr\n",
        "\n",
        "    return answer"
      ],
      "metadata": {
        "id": "4X9bbpJV8O5t"
      },
      "execution_count": null,
      "outputs": []
    }
  ]
}