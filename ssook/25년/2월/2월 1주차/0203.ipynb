{
  "nbformat": 4,
  "nbformat_minor": 0,
  "metadata": {
    "colab": {
      "provenance": [],
      "authorship_tag": "ABX9TyO+naYv+H60849/Z1dpHA/m",
      "include_colab_link": true
    },
    "kernelspec": {
      "name": "python3",
      "display_name": "Python 3"
    },
    "language_info": {
      "name": "python"
    }
  },
  "cells": [
    {
      "cell_type": "markdown",
      "metadata": {
        "id": "view-in-github",
        "colab_type": "text"
      },
      "source": [
        "<a href=\"https://colab.research.google.com/github/ssook1222/1Day-1Algo/blob/master/ssook/25%EB%85%84/2%EC%9B%94/2%EC%9B%94%201%EC%A3%BC%EC%B0%A8/0203.ipynb\" target=\"_parent\"><img src=\"https://colab.research.google.com/assets/colab-badge.svg\" alt=\"Open In Colab\"/></a>"
      ]
    },
    {
      "cell_type": "markdown",
      "source": [
        "## BoJ"
      ],
      "metadata": {
        "id": "-ahqO5U519Nr"
      }
    },
    {
      "cell_type": "markdown",
      "source": [
        "### 17142"
      ],
      "metadata": {
        "id": "1GZaoc5b1_NJ"
      }
    },
    {
      "cell_type": "code",
      "source": [
        "from collections import deque\n",
        "import sys, copy\n",
        "input = sys.stdin.readline\n",
        "INF = sys.maxsize\n",
        "\n",
        "N, M = map(int, input().split())\n",
        "lab = [list(map(int, input().split())) for _ in range(N)]\n",
        "result = INF\n",
        "\n",
        "def init():\n",
        "    virus_positions = deque()\n",
        "    for i in range(N):\n",
        "        for j in range(N):\n",
        "            if lab[i][j] == 1:\n",
        "                lab[i][j] = '-'\n",
        "            elif lab[i][j] == 2:\n",
        "                lab[i][j] = '*'\n",
        "                virus_positions.append((i, j))\n",
        "            else:\n",
        "                lab[i][j] = -1\n",
        "    return virus_positions\n",
        "\n",
        "candidate_viruses = init()\n",
        "\n",
        "def bfs(activated_viruses):\n",
        "    directions = [(0, 1), (1, 0), (-1, 0), (0, -1)]\n",
        "    visited = [[False]*N for _ in range(N)]\n",
        "    temp_lab = copy.deepcopy(lab)\n",
        "    queue = copy.deepcopy(activated_viruses)\n",
        "    time_taken = 0\n",
        "\n",
        "    for y, x in queue:\n",
        "        visited[y][x] = True\n",
        "        temp_lab[y][x] = 0\n",
        "\n",
        "    while queue:\n",
        "        y, x = queue.popleft()\n",
        "\n",
        "        for dy, dx in directions:\n",
        "            ny = y + dy\n",
        "            nx = x + dx\n",
        "\n",
        "            if 0 <= ny < N and 0 <= nx < N and not visited[ny][nx] and temp_lab[ny][nx] != '-':\n",
        "                if temp_lab[ny][nx] == -1:\n",
        "                    temp_lab[ny][nx] = temp_lab[y][x] + 1\n",
        "                    time_taken = max(time_taken, temp_lab[ny][nx])\n",
        "\n",
        "                elif temp_lab[ny][nx] == '*':\n",
        "                    temp_lab[ny][nx] = temp_lab[y][x] + 1\n",
        "\n",
        "                visited[ny][nx] = True\n",
        "                queue.append((ny, nx))\n",
        "\n",
        "    for i in range(N):\n",
        "        for j in range(N):\n",
        "            if temp_lab[i][j] == -1:\n",
        "                time_taken = sys.maxsize\n",
        "                return time_taken\n",
        "    return time_taken\n",
        "\n",
        "def select_virus(activated_viruses, level):\n",
        "    global result\n",
        "    if len(activated_viruses) == M:\n",
        "        result = min(bfs(activated_viruses), result)\n",
        "        return\n",
        "\n",
        "    for i in range(level, len(candidate_viruses)):\n",
        "        activated_viruses.append(candidate_viruses[i])\n",
        "        select_virus(activated_viruses, i+1)\n",
        "        activated_viruses.pop()\n",
        "\n",
        "select_virus(deque(), 0)\n",
        "\n",
        "if result == INF:\n",
        "    print(-1)\n",
        "else:\n",
        "    print(result)"
      ],
      "metadata": {
        "id": "qKVRjoxC1_uw"
      },
      "execution_count": null,
      "outputs": []
    },
    {
      "cell_type": "markdown",
      "source": [
        "## Programmers"
      ],
      "metadata": {
        "id": "pgkL7upq2AFH"
      }
    },
    {
      "cell_type": "markdown",
      "source": [
        "### 전국대회 선발 고사"
      ],
      "metadata": {
        "id": "T7s2wTE22BhZ"
      }
    },
    {
      "cell_type": "code",
      "source": [
        "def solution(rank, attendance):\n",
        "    answer = 0\n",
        "\n",
        "    data = {}\n",
        "\n",
        "    for i in range(len(attendance)):\n",
        "        if attendance[i] == True:\n",
        "            data[i] = rank[i]\n",
        "\n",
        "    person_dict = sorted(data.items(), key=lambda x:x[1])\n",
        "\n",
        "    answer = 10000 * person_dict[0][0] + 100 * person_dict[1][0] + person_dict[2][0]\n",
        "\n",
        "    return answer"
      ],
      "metadata": {
        "id": "Y3iapJcn2CIa"
      },
      "execution_count": null,
      "outputs": []
    }
  ]
}