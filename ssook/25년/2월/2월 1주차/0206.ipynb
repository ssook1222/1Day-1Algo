{
  "nbformat": 4,
  "nbformat_minor": 0,
  "metadata": {
    "colab": {
      "provenance": [],
      "authorship_tag": "ABX9TyNorNWAxP4Keg75Y1qLE/6F",
      "include_colab_link": true
    },
    "kernelspec": {
      "name": "python3",
      "display_name": "Python 3"
    },
    "language_info": {
      "name": "python"
    }
  },
  "cells": [
    {
      "cell_type": "markdown",
      "metadata": {
        "id": "view-in-github",
        "colab_type": "text"
      },
      "source": [
        "<a href=\"https://colab.research.google.com/github/ssook1222/1Day-1Algo/blob/master/ssook/25%EB%85%84/2%EC%9B%94/2%EC%9B%94%201%EC%A3%BC%EC%B0%A8/0206.ipynb\" target=\"_parent\"><img src=\"https://colab.research.google.com/assets/colab-badge.svg\" alt=\"Open In Colab\"/></a>"
      ]
    },
    {
      "cell_type": "markdown",
      "source": [
        "## BoJ"
      ],
      "metadata": {
        "id": "-ahqO5U519Nr"
      }
    },
    {
      "cell_type": "markdown",
      "source": [
        "### 17472"
      ],
      "metadata": {
        "id": "1GZaoc5b1_NJ"
      }
    },
    {
      "cell_type": "code",
      "source": [
        "import sys\n",
        "from collections import deque\n",
        "\n",
        "imput = sys.stdin.readline\n",
        "\n",
        "n, m = map(int, input().split())\n",
        "map_grid = [list(map(int, input().split())) for _ in range(n)]\n",
        "visited = [[False] * m for _ in range(n)]\n",
        "\n",
        "directions = ((0, 1), (0, -1), (1, 0), (-1, 0))\n",
        "\n",
        "bridges = set()\n",
        "\n",
        "def out_of_bounds(ni, nj):\n",
        "    return ni < 0 or ni >= n or nj < 0 or nj >= m\n",
        "\n",
        "def label_island(y, x, label):\n",
        "    queue = deque()\n",
        "    queue.append((y, x))\n",
        "    map_grid[y][x] = label\n",
        "    visited[y][x] = True\n",
        "    while queue:\n",
        "        i, j = queue.popleft()\n",
        "        for dy, dx in directions:\n",
        "            ni, nj = i + dy, j + dx\n",
        "            if out_of_bounds(ni, nj) or not map_grid[ni][nj] or visited[ni][nj]:\n",
        "                continue\n",
        "            map_grid[ni][nj] = label\n",
        "            visited[ni][nj] = True\n",
        "            queue.append((ni, nj))\n",
        "\n",
        "def find_bridge_length(y, x, island):\n",
        "    queue = deque()\n",
        "    for idx in range(4):\n",
        "        queue.append((y, x, 0, directions[idx]))\n",
        "    while queue:\n",
        "        i, j, cnt, direction = queue.popleft()\n",
        "        if map_grid[i][j] != 0 and map_grid[i][j] != island:\n",
        "            if cnt > 2:\n",
        "                bridges.add((cnt - 1, island, map_grid[i][j]))\n",
        "            continue\n",
        "        ni, nj = i + direction[0], j + direction[1]\n",
        "        if out_of_bounds(ni, nj) or map_grid[ni][nj] == island:\n",
        "            continue\n",
        "        queue.append((ni, nj, cnt + 1, direction))\n",
        "\n",
        "\n",
        "island_label = 1\n",
        "for i in range(n):\n",
        "    for j in range(m):\n",
        "        if map_grid[i][j] and not visited[i][j]:\n",
        "            label_island(i, j, island_label)\n",
        "            island_label += 1\n",
        "\n",
        "\n",
        "for i in range(n):\n",
        "    for j in range(m):\n",
        "        if map_grid[i][j] != 0:\n",
        "            visited = [[False] * m for _ in range(n)]\n",
        "            find_bridge_length(i, j, map_grid[i][j])\n",
        "\n",
        "bridges = list(bridges)\n",
        "bridges.sort()\n",
        "\n",
        "def find_parent(parent, x):\n",
        "    if x != parent[x]:\n",
        "        parent[x] = find_parent(parent, parent[x])\n",
        "    return parent[x]\n",
        "\n",
        "def union_parent(parent, a, b):\n",
        "    a = find_parent(parent, a)\n",
        "    b = find_parent(parent, b)\n",
        "    if a > b:\n",
        "        parent[b] = parent[a]\n",
        "    else:\n",
        "        parent[a] = parent[b]\n",
        "\n",
        "parent = [i for i in range(island_label)]\n",
        "\n",
        "total_cost = 0\n",
        "num_bridges = 0\n",
        "for cost, a, b in bridges:\n",
        "    if find_parent(parent, a) != find_parent(parent, b):\n",
        "        num_bridges += 1\n",
        "        union_parent(parent, a, b)\n",
        "        total_cost += cost\n",
        "\n",
        "if total_cost == 0 or num_bridges != island_label - 2:\n",
        "    print(-1)\n",
        "else:\n",
        "    print(total_cost)"
      ],
      "metadata": {
        "id": "qKVRjoxC1_uw"
      },
      "execution_count": null,
      "outputs": []
    },
    {
      "cell_type": "markdown",
      "source": [
        "## Programmers"
      ],
      "metadata": {
        "id": "pgkL7upq2AFH"
      }
    },
    {
      "cell_type": "markdown",
      "source": [
        "### 간단한 식 계산하기"
      ],
      "metadata": {
        "id": "T7s2wTE22BhZ"
      }
    },
    {
      "cell_type": "code",
      "source": [
        "def solution(binomial):\n",
        "    answer = 0\n",
        "\n",
        "    sik = list(map(str, binomial.split(\" \")))\n",
        "\n",
        "    if sik[1] == '+':\n",
        "        answer = int(sik[0])+int(sik[2])\n",
        "\n",
        "    if sik[1] == '-':\n",
        "        answer = int(sik[0])-int(sik[2])\n",
        "\n",
        "    if sik[1] == '*':\n",
        "        answer = int(sik[0])*int(sik[2])\n",
        "\n",
        "    return answer"
      ],
      "metadata": {
        "id": "Y3iapJcn2CIa"
      },
      "execution_count": null,
      "outputs": []
    }
  ]
}