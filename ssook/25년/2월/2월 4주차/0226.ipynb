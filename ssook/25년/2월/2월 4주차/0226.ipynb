{
  "nbformat": 4,
  "nbformat_minor": 0,
  "metadata": {
    "colab": {
      "provenance": [],
      "authorship_tag": "ABX9TyPBBFTvtEyQ4M0+HMzcXN6F",
      "include_colab_link": true
    },
    "kernelspec": {
      "name": "python3",
      "display_name": "Python 3"
    },
    "language_info": {
      "name": "python"
    }
  },
  "cells": [
    {
      "cell_type": "markdown",
      "metadata": {
        "id": "view-in-github",
        "colab_type": "text"
      },
      "source": [
        "<a href=\"https://colab.research.google.com/github/ssook1222/1Day-1Algo/blob/master/ssook/25%EB%85%84/2%EC%9B%94/2%EC%9B%94%204%EC%A3%BC%EC%B0%A8/0226.ipynb\" target=\"_parent\"><img src=\"https://colab.research.google.com/assets/colab-badge.svg\" alt=\"Open In Colab\"/></a>"
      ]
    },
    {
      "cell_type": "markdown",
      "source": [
        "## BoJ"
      ],
      "metadata": {
        "id": "A18CTCedBFt2"
      }
    },
    {
      "cell_type": "markdown",
      "source": [
        "### 17485"
      ],
      "metadata": {
        "id": "g5DSMA2oBI7J"
      }
    },
    {
      "cell_type": "code",
      "execution_count": null,
      "metadata": {
        "id": "fEb3GV94AvZq"
      },
      "outputs": [],
      "source": [
        "INF = 1000000  # 연료 소비의 상한값\n",
        "\n",
        "n, m = map(int, input().split())  # n: 행, m: 열\n",
        "fuel_cost = [list(map(int, input().split())) for _ in range(n)]  # 연료 소모량 (n x m 행렬)\n",
        "\n",
        "# dp[i][j][k]는 i번째 행, j번째 열에서 k번째 방향으로 도달했을 때의 최소 연료 소비\n",
        "dp = [[[0] * 3 for _ in range(m)] for _ in range(n)]  # 3개의 방향을 저장 (0: 위, 1: 좌, 2: 우)\n",
        "\n",
        "# 첫 번째 행의 초기화\n",
        "for j in range(m):\n",
        "    for k in range(3):\n",
        "        dp[0][j][k] = fuel_cost[0][j]\n",
        "\n",
        "# 두 번째 행부터 시작하여 dp 배열 채우기\n",
        "for i in range(1, n):\n",
        "    for j in range(m):\n",
        "        for k in range(3):\n",
        "            if (j == 0 and k == 0) or (j == m - 1 and k == 2):\n",
        "                dp[i][j][k] = INF  # 경계 조건에서의 무효값 처리\n",
        "                continue\n",
        "            if k == 0:  # 위쪽 방향으로 이동\n",
        "                dp[i][j][k] = fuel_cost[i][j] + min(dp[i - 1][j - 1][1], dp[i - 1][j - 1][2])\n",
        "            elif k == 1:  # 왼쪽 방향으로 이동\n",
        "                dp[i][j][k] = fuel_cost[i][j] + min(dp[i - 1][j][0], dp[i - 1][j][2])\n",
        "            else:  # 오른쪽 방향으로 이동\n",
        "                dp[i][j][k] = fuel_cost[i][j] + min(dp[i - 1][j + 1][0], dp[i - 1][j + 1][1])\n",
        "\n",
        "# 결과값 계산: 마지막 행에서 최소 연료 소비를 찾기\n",
        "result = INF\n",
        "for j in range(m):\n",
        "    result = min(result, min(dp[-1][j]))\n",
        "\n",
        "print(result)  # 최종 결과 출력"
      ]
    },
    {
      "cell_type": "markdown",
      "source": [
        "## Programmers"
      ],
      "metadata": {
        "id": "I39zL-GdBJyv"
      }
    },
    {
      "cell_type": "markdown",
      "source": [
        "### 그림 확대"
      ],
      "metadata": {
        "id": "PNeQy4qpBLKt"
      }
    },
    {
      "cell_type": "code",
      "source": [
        "def solution(picture, k):\n",
        "\n",
        "    n = len(picture)\n",
        "    m = len(picture[0])\n",
        "\n",
        "    new_n = n * k\n",
        "    new_m = m * k\n",
        "\n",
        "    new_picture = []\n",
        "\n",
        "    for i in range(new_n):\n",
        "        row = ''\n",
        "\n",
        "        for j in range(new_m):\n",
        "            row += picture[i//k][j//k]\n",
        "\n",
        "        new_picture.append(row)\n",
        "\n",
        "    return new_picture"
      ],
      "metadata": {
        "id": "IvgI_NFkBL-l"
      },
      "execution_count": null,
      "outputs": []
    }
  ]
}