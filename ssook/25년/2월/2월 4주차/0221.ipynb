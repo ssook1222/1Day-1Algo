{
  "nbformat": 4,
  "nbformat_minor": 0,
  "metadata": {
    "colab": {
      "provenance": [],
      "authorship_tag": "ABX9TyPZYyaqKyuFvixaCXaY03nk",
      "include_colab_link": true
    },
    "kernelspec": {
      "name": "python3",
      "display_name": "Python 3"
    },
    "language_info": {
      "name": "python"
    }
  },
  "cells": [
    {
      "cell_type": "markdown",
      "metadata": {
        "id": "view-in-github",
        "colab_type": "text"
      },
      "source": [
        "<a href=\"https://colab.research.google.com/github/ssook1222/1Day-1Algo/blob/master/ssook/25%EB%85%84/2%EC%9B%94/2%EC%9B%94%204%EC%A3%BC%EC%B0%A8/0221.ipynb\" target=\"_parent\"><img src=\"https://colab.research.google.com/assets/colab-badge.svg\" alt=\"Open In Colab\"/></a>"
      ]
    },
    {
      "cell_type": "markdown",
      "source": [
        "## BoJ"
      ],
      "metadata": {
        "id": "3aWqZPrYc1pu"
      }
    },
    {
      "cell_type": "markdown",
      "source": [
        "### 13544"
      ],
      "metadata": {
        "id": "IXVm1EK_c5nF"
      }
    },
    {
      "cell_type": "code",
      "source": [
        "import sys\n",
        "from bisect import bisect_right\n",
        "input = sys.stdin.readline\n",
        "\n",
        "segment_tree = [[] for _ in range(2020202)]\n",
        "\n",
        "def merge(left, right):\n",
        "    left_index = 0\n",
        "    right_index = 0\n",
        "    merged_array = []\n",
        "    while left_index < len(left) and right_index < len(right):\n",
        "        if left[left_index] < right[right_index]:\n",
        "            merged_array.append(left[left_index])\n",
        "            left_index += 1\n",
        "        else:\n",
        "            merged_array.append(right[right_index])\n",
        "            right_index += 1\n",
        "    if right_index == len(right):\n",
        "        for i in range(left_index, len(left)):\n",
        "            merged_array.append(left[i])\n",
        "    else:\n",
        "        for i in range(right_index, len(right)):\n",
        "            merged_array.append(right[i])\n",
        "    return merged_array\n",
        "\n",
        "def initialize_tree(node, start, end):\n",
        "    if start == end:\n",
        "        segment_tree[node] = [sequence[start - 1]]\n",
        "        return segment_tree[node]\n",
        "    mid = (start + end) // 2\n",
        "    segment_tree[node] = merge(initialize_tree(node * 2, start, mid), initialize_tree(node * 2 + 1, mid + 1, end))\n",
        "    return segment_tree[node]\n",
        "\n",
        "def get_query_result(node, left, right, start, end, threshold):\n",
        "    if left <= start and end <= right:\n",
        "        return len(segment_tree[node]) - bisect_right(segment_tree[node], threshold)\n",
        "    if end < left or right < start:\n",
        "        return 0\n",
        "    mid = (start + end) // 2\n",
        "    return get_query_result(node * 2, left, right, start, mid, threshold) + get_query_result(node * 2 + 1, left, right, mid + 1, end, threshold)\n",
        "\n",
        "# Reading input\n",
        "num_elements = int(input())\n",
        "sequence = list(map(int, input().split()))\n",
        "initialize_tree(1, 1, num_elements)\n",
        "\n",
        "num_queries = int(input())\n",
        "previous_answer = 0\n",
        "for _ in range(num_queries):\n",
        "    left, right, threshold = map(int, input().split())\n",
        "    left ^= previous_answer\n",
        "    right ^= previous_answer\n",
        "    threshold ^= previous_answer\n",
        "    previous_answer = get_query_result(1, left, right, 1, num_elements, threshold)\n",
        "    print(previous_answer)"
      ],
      "metadata": {
        "id": "4G8wqmmUc5CC"
      },
      "execution_count": null,
      "outputs": []
    },
    {
      "cell_type": "markdown",
      "source": [
        "## Programmers"
      ],
      "metadata": {
        "id": "dYovOeRCc4hI"
      }
    },
    {
      "cell_type": "markdown",
      "source": [
        "### 왼쪽 오른쪽"
      ],
      "metadata": {
        "id": "c_qaJDbrc8P7"
      }
    },
    {
      "cell_type": "code",
      "source": [
        "def solution(str_list):\n",
        "    answer = []\n",
        "\n",
        "    for i in range(len(str_list)):\n",
        "        if str_list[i] == 'l':\n",
        "            answer = str_list[:i]\n",
        "            break\n",
        "        elif str_list[i] == 'r':\n",
        "            answer = str_list[i+1:]\n",
        "            break\n",
        "        elif 'l' not in str_list and 'r' not in str_list:\n",
        "            answer = []\n",
        "\n",
        "    return answer"
      ],
      "metadata": {
        "id": "e9f3q187c89u"
      },
      "execution_count": null,
      "outputs": []
    }
  ]
}