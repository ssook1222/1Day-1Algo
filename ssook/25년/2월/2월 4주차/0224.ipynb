{
  "nbformat": 4,
  "nbformat_minor": 0,
  "metadata": {
    "colab": {
      "provenance": [],
      "authorship_tag": "ABX9TyMIsaQAiWBPUad5m0n8R3LV",
      "include_colab_link": true
    },
    "kernelspec": {
      "name": "python3",
      "display_name": "Python 3"
    },
    "language_info": {
      "name": "python"
    }
  },
  "cells": [
    {
      "cell_type": "markdown",
      "metadata": {
        "id": "view-in-github",
        "colab_type": "text"
      },
      "source": [
        "<a href=\"https://colab.research.google.com/github/ssook1222/1Day-1Algo/blob/master/ssook/25%EB%85%84/2%EC%9B%94/2%EC%9B%94%204%EC%A3%BC%EC%B0%A8/0224.ipynb\" target=\"_parent\"><img src=\"https://colab.research.google.com/assets/colab-badge.svg\" alt=\"Open In Colab\"/></a>"
      ]
    },
    {
      "cell_type": "markdown",
      "source": [
        "## BoJ"
      ],
      "metadata": {
        "id": "A18CTCedBFt2"
      }
    },
    {
      "cell_type": "markdown",
      "source": [
        "### 32684"
      ],
      "metadata": {
        "id": "g5DSMA2oBI7J"
      }
    },
    {
      "cell_type": "code",
      "execution_count": null,
      "metadata": {
        "id": "fEb3GV94AvZq"
      },
      "outputs": [],
      "source": [
        "def calculate_score(pieces, scores):\n",
        "    return sum(p * s for p, s in zip(pieces, scores))\n",
        "\n",
        "def main():\n",
        "    # 초나라의 기물 수\n",
        "    chona_pieces = list(map(int, input().split()))\n",
        "    # 한나라의 기물 수\n",
        "    han_pieces = list(map(int, input().split()))\n",
        "\n",
        "    # 각 기물의 점수\n",
        "    piece_scores = [13, 7, 5, 3, 3, 2]\n",
        "\n",
        "    # 초나라 점수 계산\n",
        "    chona_score = calculate_score(chona_pieces, piece_scores)\n",
        "\n",
        "    # 한나라 점수 계산\n",
        "    han_score = calculate_score(han_pieces, piece_scores) + 1.5  # 후수인 한나라 점수에 1.5점 추가\n",
        "\n",
        "    # 비교하여 더 높은 점수의 사람 출력\n",
        "    if chona_score > han_score:\n",
        "        print(\"cocjr0208\")\n",
        "    else:\n",
        "        print(\"ekwoo\")\n",
        "\n",
        "if __name__ == \"__main__\":\n",
        "    main()"
      ]
    },
    {
      "cell_type": "markdown",
      "source": [
        "## Programmers"
      ],
      "metadata": {
        "id": "I39zL-GdBJyv"
      }
    },
    {
      "cell_type": "markdown",
      "source": [
        "### 첫번째로 나오는 음수"
      ],
      "metadata": {
        "id": "PNeQy4qpBLKt"
      }
    },
    {
      "cell_type": "code",
      "source": [
        "def solution(num_list):\n",
        "    answer = 0\n",
        "    check = False\n",
        "\n",
        "    for i in range(len(num_list)):\n",
        "        if num_list[i] < 0:\n",
        "            check = True\n",
        "            answer = i\n",
        "            break\n",
        "\n",
        "    if check == False:\n",
        "        answer = -1\n",
        "\n",
        "    return answer"
      ],
      "metadata": {
        "id": "IvgI_NFkBL-l"
      },
      "execution_count": null,
      "outputs": []
    }
  ]
}