{
  "nbformat": 4,
  "nbformat_minor": 0,
  "metadata": {
    "colab": {
      "provenance": [],
      "authorship_tag": "ABX9TyOQZGiDl8AkLDwFoYTaCQy0",
      "include_colab_link": true
    },
    "kernelspec": {
      "name": "python3",
      "display_name": "Python 3"
    },
    "language_info": {
      "name": "python"
    }
  },
  "cells": [
    {
      "cell_type": "markdown",
      "metadata": {
        "id": "view-in-github",
        "colab_type": "text"
      },
      "source": [
        "<a href=\"https://colab.research.google.com/github/ssook1222/1Day-1Algo/blob/master/ssook/25%EB%85%84/2%EC%9B%94/2%EC%9B%94%204%EC%A3%BC%EC%B0%A8/0222.ipynb\" target=\"_parent\"><img src=\"https://colab.research.google.com/assets/colab-badge.svg\" alt=\"Open In Colab\"/></a>"
      ]
    },
    {
      "cell_type": "markdown",
      "source": [
        "## BoJ"
      ],
      "metadata": {
        "id": "3aWqZPrYc1pu"
      }
    },
    {
      "cell_type": "markdown",
      "source": [
        "### 1420"
      ],
      "metadata": {
        "id": "IXVm1EK_c5nF"
      }
    },
    {
      "cell_type": "code",
      "source": [
        "import sys\n",
        "from collections import deque\n",
        "\n",
        "input = sys.stdin.readline\n",
        "INF = int(1e9)\n",
        "\n",
        "def add_edge(from_node, to_node, capacity):  # from_node, to_node 정점, capacity 유량\n",
        "    adjacency_list[from_node].append(to_node)\n",
        "    adjacency_list[to_node].append(from_node)\n",
        "    capacity_matrix[from_node][to_node], capacity_matrix[to_node][from_node] = capacity, 0\n",
        "    flow_matrix[from_node][to_node], flow_matrix[to_node][from_node] = 0, 0\n",
        "\n",
        "def max_flow():\n",
        "    total_flow = 0\n",
        "\n",
        "    while True:\n",
        "        parent = [-1] * (graph_size)\n",
        "        queue = deque()\n",
        "        queue.append(source_node)\n",
        "\n",
        "        while queue:\n",
        "            current_node = queue.popleft()\n",
        "            for neighbor in adjacency_list[current_node]:\n",
        "                if parent[neighbor] == -1 and capacity_matrix[current_node][neighbor] - flow_matrix[current_node][neighbor] > 0:\n",
        "                    queue.append(neighbor)\n",
        "                    parent[neighbor] = current_node\n",
        "\n",
        "        if parent[sink_node] == -1:\n",
        "            break\n",
        "\n",
        "        current_node = sink_node\n",
        "        while current_node != source_node:\n",
        "            flow_matrix[parent[current_node]][current_node] += 1\n",
        "            flow_matrix[current_node][parent[current_node]] -= 1\n",
        "            current_node = parent[current_node]\n",
        "        total_flow += 1\n",
        "    return total_flow\n",
        "\n",
        "def solve():\n",
        "    if (rows == 1 and cols == 1) or abs(start_row - school_row) + abs(start_col - school_col) == 1:\n",
        "        print(-1)  # start와 school이 맞닿아 있는 경우\n",
        "        return\n",
        "\n",
        "    for i in range(rows * cols):\n",
        "        add_edge(2 * i, 2 * i + 1, 1)\n",
        "\n",
        "    current_index = 0\n",
        "    for row in range(rows):\n",
        "        for col in range(cols):\n",
        "            if row + 1 < rows and city_map[row][col] != '#' and city_map[row + 1][col] != '#':\n",
        "                next_index = current_index + 2 * cols\n",
        "                add_edge(current_index + 1, next_index, INF)\n",
        "                add_edge(next_index + 1, current_index, INF)\n",
        "            if col + 1 < cols and city_map[row][col] != '#' and city_map[row][col + 1] != '#':\n",
        "                next_index = current_index + 2\n",
        "                add_edge(current_index + 1, next_index, INF)\n",
        "                add_edge(next_index + 1, current_index, INF)\n",
        "            current_index += 2\n",
        "    print(max_flow())\n",
        "\n",
        "if __name__ == \"__main__\":\n",
        "    rows, cols = map(int, input().split())\n",
        "    graph_size = 2 * rows * cols\n",
        "    city_map = [[] for _ in range(rows)]  # 원본 지도\n",
        "    adjacency_list = [[] for _ in range(graph_size)]  # 정점 연결 정보\n",
        "    capacity_matrix = [{} for _ in range(graph_size)]  # 각 간선의 최대 유량\n",
        "    flow_matrix = [{} for _ in range(graph_size)]  # 실제로 흐르는 유량\n",
        "    index = 0\n",
        "\n",
        "    for row in range(rows):\n",
        "        city_map[row] += list(input().rstrip())\n",
        "        for col in range(cols):\n",
        "            if city_map[row][col] == 'K':\n",
        "                start_row, start_col = row, col\n",
        "                source_node = index + 1\n",
        "            elif city_map[row][col] == 'H':\n",
        "                school_row, school_col = row, col\n",
        "                sink_node = index\n",
        "            index += 2\n",
        "\n",
        "    solve()"
      ],
      "metadata": {
        "id": "4G8wqmmUc5CC"
      },
      "execution_count": null,
      "outputs": []
    },
    {
      "cell_type": "markdown",
      "source": [
        "## Programmers"
      ],
      "metadata": {
        "id": "dYovOeRCc4hI"
      }
    },
    {
      "cell_type": "markdown",
      "source": [
        "### QR 코드"
      ],
      "metadata": {
        "id": "c_qaJDbrc8P7"
      }
    },
    {
      "cell_type": "code",
      "source": [
        "def solution(q, r, code):\n",
        "    answer = ''\n",
        "    datas = []\n",
        "\n",
        "    for i in range(0,len(code),q):\n",
        "        datas.append(code[i:i+q])\n",
        "\n",
        "    for word in datas:\n",
        "        data = list(word)\n",
        "        for i in range(len(data)):\n",
        "            if i == r:\n",
        "                answer += data[i]\n",
        "\n",
        "    return answer"
      ],
      "metadata": {
        "id": "e9f3q187c89u"
      },
      "execution_count": null,
      "outputs": []
    }
  ]
}