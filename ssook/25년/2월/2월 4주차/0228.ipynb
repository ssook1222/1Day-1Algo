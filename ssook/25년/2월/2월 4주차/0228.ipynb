{
  "nbformat": 4,
  "nbformat_minor": 0,
  "metadata": {
    "colab": {
      "provenance": [],
      "authorship_tag": "ABX9TyNwTnLORu71wznPqXXdH9j0",
      "include_colab_link": true
    },
    "kernelspec": {
      "name": "python3",
      "display_name": "Python 3"
    },
    "language_info": {
      "name": "python"
    }
  },
  "cells": [
    {
      "cell_type": "markdown",
      "metadata": {
        "id": "view-in-github",
        "colab_type": "text"
      },
      "source": [
        "<a href=\"https://colab.research.google.com/github/ssook1222/1Day-1Algo/blob/master/ssook/25%EB%85%84/2%EC%9B%94/2%EC%9B%94%204%EC%A3%BC%EC%B0%A8/0228.ipynb\" target=\"_parent\"><img src=\"https://colab.research.google.com/assets/colab-badge.svg\" alt=\"Open In Colab\"/></a>"
      ]
    },
    {
      "cell_type": "markdown",
      "source": [
        "## BoJ"
      ],
      "metadata": {
        "id": "A18CTCedBFt2"
      }
    },
    {
      "cell_type": "markdown",
      "source": [
        "### 22251"
      ],
      "metadata": {
        "id": "g5DSMA2oBI7J"
      }
    },
    {
      "cell_type": "code",
      "execution_count": null,
      "metadata": {
        "id": "fEb3GV94AvZq"
      },
      "outputs": [],
      "source": [
        "max_floor, num_digits, max_changes, current_floor = map(int, input().split())  # max_floor: 총 층수, num_digits: 디스플레이 자릿수, max_changes: 최대 반전 횟수, current_floor: 현재 층수\n",
        "\n",
        "# 자릿수 맞춰주기\n",
        "if len(str(current_floor)) < num_digits:\n",
        "    current_display = '0' * (num_digits - len(str(current_floor))) + str(current_floor)\n",
        "else:\n",
        "    current_display = str(current_floor)\n",
        "\n",
        "# 7-segment 디스플레이 각 숫자에 해당하는 패턴 (7개의 LED 상태)\n",
        "segment_display = [\n",
        "    '1111110', '0110000', '1101101', '1111001', '0110011', '1011011',\n",
        "    '1011111', '1110000', '1111111', '1111011'\n",
        "]\n",
        "\n",
        "# 각 숫자 간의 반전 횟수를 계산\n",
        "flip_cost = []\n",
        "for i in range(10):\n",
        "    flip_cost.append([])\n",
        "    for j in range(10):\n",
        "        if i == j:\n",
        "            flip_cost[i].append(0)\n",
        "        else:\n",
        "            d = 0\n",
        "            for h in range(7):\n",
        "                if segment_display[i][h] != segment_display[j][h]:\n",
        "                    d += 1\n",
        "            flip_cost[i].append(d)\n",
        "\n",
        "\n",
        "# dfs(현재 깊이, 남은 반전 횟수, 현재 디스플레이 값)\n",
        "def dfs(depth, remaining_changes, current_display):\n",
        "    if depth >= len(current_display):\n",
        "        if int(current_display) == current_floor:   # 현재 층수와 결과가 같으면 안됨\n",
        "            return 0\n",
        "        elif 1 <= int(current_display) <= max_floor:  # 조건에 맞는 경우\n",
        "            return 1\n",
        "        else:   # 그외 경우는 불가능\n",
        "            return 0\n",
        "\n",
        "    result, current_digit = 0, int(current_display[depth])  # 결과값, 현재 자리의 숫자\n",
        "    for i in range(10):\n",
        "        if current_digit != i and (flip_cost[current_digit][i] <= remaining_changes):  # 남은 반전 가능 횟수보다 필요한 반전 횟수가 작아야 바꿀 수 있음\n",
        "            new_display = current_display[:depth] + str(i) + current_display[depth + 1:]\n",
        "            result += dfs(depth + 1, remaining_changes - flip_cost[current_digit][i], new_display)\n",
        "\n",
        "        elif current_digit == i:\n",
        "            result += dfs(depth + 1, remaining_changes, current_display)\n",
        "\n",
        "    return result\n",
        "\n",
        "\n",
        "print(dfs(0, max_changes, current_display))  # 결과 출력\n"
      ]
    },
    {
      "cell_type": "markdown",
      "source": [
        "## Programmers"
      ],
      "metadata": {
        "id": "I39zL-GdBJyv"
      }
    },
    {
      "cell_type": "markdown",
      "source": [
        "### 무작위로 K개의 수 뽑기"
      ],
      "metadata": {
        "id": "PNeQy4qpBLKt"
      }
    },
    {
      "cell_type": "code",
      "source": [
        "def solution(arr, k):\n",
        "    answer = []\n",
        "    nums = set(answer)\n",
        "\n",
        "    for num in arr:\n",
        "        if num in nums:\n",
        "            continue\n",
        "        nums.add(num)\n",
        "        answer.append(num)\n",
        "\n",
        "        if len(answer) == k:\n",
        "            break\n",
        "\n",
        "    if len(answer) < k:\n",
        "        answer += [-1] * (k - len(answer))\n",
        "\n",
        "    return answer"
      ],
      "metadata": {
        "id": "IvgI_NFkBL-l"
      },
      "execution_count": null,
      "outputs": []
    }
  ]
}