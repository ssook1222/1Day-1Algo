{
  "nbformat": 4,
  "nbformat_minor": 0,
  "metadata": {
    "colab": {
      "provenance": [],
      "authorship_tag": "ABX9TyO1gGCvBZ4xurP+jcNdvQjM",
      "include_colab_link": true
    },
    "kernelspec": {
      "name": "python3",
      "display_name": "Python 3"
    },
    "language_info": {
      "name": "python"
    }
  },
  "cells": [
    {
      "cell_type": "markdown",
      "metadata": {
        "id": "view-in-github",
        "colab_type": "text"
      },
      "source": [
        "<a href=\"https://colab.research.google.com/github/ssook1222/1Day-1Algo/blob/master/ssook/25%EB%85%84/2%EC%9B%94/2%EC%9B%94%204%EC%A3%BC%EC%B0%A8/0225.ipynb\" target=\"_parent\"><img src=\"https://colab.research.google.com/assets/colab-badge.svg\" alt=\"Open In Colab\"/></a>"
      ]
    },
    {
      "cell_type": "markdown",
      "source": [
        "## BoJ"
      ],
      "metadata": {
        "id": "A18CTCedBFt2"
      }
    },
    {
      "cell_type": "markdown",
      "source": [
        "### 32905"
      ],
      "metadata": {
        "id": "g5DSMA2oBI7J"
      }
    },
    {
      "cell_type": "code",
      "execution_count": null,
      "metadata": {
        "id": "fEb3GV94AvZq"
      },
      "outputs": [],
      "source": [
        "def check_raci_matrix(n, m, matrix):\n",
        "    # 각 작업(행)을 하나씩 검사합니다.\n",
        "    for i in range(n):\n",
        "        # 현재 행에서 A의 갯수를 셈\n",
        "        a_count = matrix[i].count('A')\n",
        "\n",
        "        # A가 1번만 등장해야 함\n",
        "        if a_count != 1:\n",
        "            return \"No\"\n",
        "\n",
        "    return \"Yes\"\n",
        "\n",
        "def main():\n",
        "    # 입력 받기\n",
        "    n, m = map(int, input().split())\n",
        "    matrix = [input().split() for _ in range(n)]\n",
        "\n",
        "    # RACI 매트릭스 검증\n",
        "    result = check_raci_matrix(n, m, matrix)\n",
        "    print(result)\n",
        "\n",
        "if __name__ == \"__main__\":\n",
        "    main()"
      ]
    },
    {
      "cell_type": "markdown",
      "source": [
        "## Programmers"
      ],
      "metadata": {
        "id": "I39zL-GdBJyv"
      }
    },
    {
      "cell_type": "markdown",
      "source": [
        "### 왼쪽 오른쪽"
      ],
      "metadata": {
        "id": "PNeQy4qpBLKt"
      }
    },
    {
      "cell_type": "code",
      "source": [
        "def solution(str_list):\n",
        "    answer = []\n",
        "\n",
        "    for i in range(len(str_list)):\n",
        "        if str_list[i] == 'l':\n",
        "            answer = str_list[:i]\n",
        "            break\n",
        "        elif str_list[i] == 'r':\n",
        "            answer = str_list[i+1:]\n",
        "            break\n",
        "        elif 'l' not in str_list and 'r' not in str_list:\n",
        "            answer = []\n",
        "\n",
        "    return answer"
      ],
      "metadata": {
        "id": "IvgI_NFkBL-l"
      },
      "execution_count": null,
      "outputs": []
    }
  ]
}