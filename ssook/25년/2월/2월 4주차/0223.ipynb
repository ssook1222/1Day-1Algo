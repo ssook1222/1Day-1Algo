{
  "nbformat": 4,
  "nbformat_minor": 0,
  "metadata": {
    "colab": {
      "provenance": [],
      "authorship_tag": "ABX9TyOmae5/GiRgkT7+s5UB8cIP",
      "include_colab_link": true
    },
    "kernelspec": {
      "name": "python3",
      "display_name": "Python 3"
    },
    "language_info": {
      "name": "python"
    }
  },
  "cells": [
    {
      "cell_type": "markdown",
      "metadata": {
        "id": "view-in-github",
        "colab_type": "text"
      },
      "source": [
        "<a href=\"https://colab.research.google.com/github/ssook1222/1Day-1Algo/blob/master/ssook/25%EB%85%84/2%EC%9B%94/2%EC%9B%94%204%EC%A3%BC%EC%B0%A8/0223.ipynb\" target=\"_parent\"><img src=\"https://colab.research.google.com/assets/colab-badge.svg\" alt=\"Open In Colab\"/></a>"
      ]
    },
    {
      "cell_type": "markdown",
      "source": [
        "## BoJ"
      ],
      "metadata": {
        "id": "3aWqZPrYc1pu"
      }
    },
    {
      "cell_type": "markdown",
      "source": [
        "###"
      ],
      "metadata": {
        "id": "IXVm1EK_c5nF"
      }
    },
    {
      "cell_type": "code",
      "source": [
        "import sys, heapq\n",
        "\n",
        "# 입력부\n",
        "num_cities, num_roads, num_tax_rates = map(int, sys.stdin.readline().split())\n",
        "start_city, end_city = map(int, sys.stdin.readline().split())\n",
        "\n",
        "# city_graph : 인접 리스트, INF : 무한대, cost : 2차원 다익스트라 배열\n",
        "city_graph = [[] for _ in range(num_cities)]\n",
        "INF = 10000000000000000000\n",
        "tax_increases = []\n",
        "cost = [[INF] * num_cities for _ in range(num_cities)]\n",
        "\n",
        "# 최소값을 찾는 것이므로 min_cost를 무한대 값으로 초기화\n",
        "min_cost = INF\n",
        "\n",
        "# dijkstra : 2차원 배열 cost를 갱신시키는 함수\n",
        "def dijkstra(start):\n",
        "    global min_cost\n",
        "    cost[start][0] = 0\n",
        "    min_heap = []\n",
        "    min_heap.append((cost[start][0], start, 0))\n",
        "    while len(min_heap) != 0:\n",
        "        current_distance = min_heap[0][0]\n",
        "        current_city = min_heap[0][1]\n",
        "        visited_count = min_heap[0][2]\n",
        "        heapq.heappop(min_heap)\n",
        "        flag = False\n",
        "        for i in range(visited_count):\n",
        "            if cost[current_city][i] < current_distance:\n",
        "                flag = True\n",
        "                break\n",
        "        if flag or cost[current_city][visited_count] < current_distance:\n",
        "            continue\n",
        "        if current_city == end_city - 1:\n",
        "            min_cost = min(min_cost, cost[current_city][visited_count])\n",
        "            continue\n",
        "        for neighbor in range(len(city_graph[current_city])):\n",
        "            next_city = city_graph[current_city][neighbor][0]\n",
        "            next_distance = city_graph[current_city][neighbor][1] + current_distance\n",
        "            if visited_count + 1 < num_cities and next_distance < cost[next_city][visited_count + 1]:\n",
        "                cost[next_city][visited_count + 1] = next_distance\n",
        "                heapq.heappush(min_heap, (next_distance, next_city, visited_count + 1))\n",
        "\n",
        "# 인접 리스트 생성\n",
        "for _ in range(num_roads):\n",
        "    u, v, weight = map(int, sys.stdin.readline().split())\n",
        "    city_graph[u - 1].append([v - 1, weight])\n",
        "    city_graph[v - 1].append([u - 1, weight])\n",
        "\n",
        "# 세금 인상률 입력\n",
        "for _ in range(num_tax_rates):\n",
        "    tax_increases.append(int(sys.stdin.readline()))\n",
        "\n",
        "# 다익스트라 실행\n",
        "dijkstra(start_city - 1)\n",
        "\n",
        "# 세금이 부과되지 않은 경우 최소 통행료 출력\n",
        "print(min_cost)\n",
        "\n",
        "# 각 세금 인상률에 따라 갱신된 최소 통행료 출력\n",
        "for tax_rate in tax_increases:\n",
        "    for city in range(num_cities):\n",
        "        if cost[end_city - 1][city] != INF:\n",
        "            cost[end_city - 1][city] = cost[end_city - 1][city] + tax_rate * city\n",
        "    print(min(cost[end_city - 1]))\n"
      ],
      "metadata": {
        "id": "4G8wqmmUc5CC"
      },
      "execution_count": null,
      "outputs": []
    },
    {
      "cell_type": "markdown",
      "source": [
        "## Programmers"
      ],
      "metadata": {
        "id": "dYovOeRCc4hI"
      }
    },
    {
      "cell_type": "markdown",
      "source": [
        "### 문자열 묶기"
      ],
      "metadata": {
        "id": "c_qaJDbrc8P7"
      }
    },
    {
      "cell_type": "code",
      "source": [
        "def solution(strArr):\n",
        "    # 그룹핑할 거 카운팅 담는 딕셔너리\n",
        "    group_counts = {}\n",
        "\n",
        "    for s in strArr:\n",
        "        # 문자열 길이 측정\n",
        "        length = len(s)\n",
        "\n",
        "        # 딕셔너리에 해당 길이가 없다면 하나 추가\n",
        "        if length not in group_counts:\n",
        "            group_counts[length] = 1\n",
        "        # 있으면 딕셔너리에서 카운팅\n",
        "        else:\n",
        "            group_counts[length] += 1\n",
        "\n",
        "    #가장 많이 카운팅된 그룹 리턴\n",
        "    return max(group_counts.values())"
      ],
      "metadata": {
        "id": "e9f3q187c89u"
      },
      "execution_count": null,
      "outputs": []
    }
  ]
}