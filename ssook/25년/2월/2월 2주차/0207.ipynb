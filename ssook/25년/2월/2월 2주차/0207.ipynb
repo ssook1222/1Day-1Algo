{
  "nbformat": 4,
  "nbformat_minor": 0,
  "metadata": {
    "colab": {
      "provenance": [],
      "authorship_tag": "ABX9TyOw8xTEW+QII2Il32eaLLoX",
      "include_colab_link": true
    },
    "kernelspec": {
      "name": "python3",
      "display_name": "Python 3"
    },
    "language_info": {
      "name": "python"
    }
  },
  "cells": [
    {
      "cell_type": "markdown",
      "metadata": {
        "id": "view-in-github",
        "colab_type": "text"
      },
      "source": [
        "<a href=\"https://colab.research.google.com/github/ssook1222/1Day-1Algo/blob/master/ssook/25%EB%85%84/2%EC%9B%94/2%EC%9B%94%202%EC%A3%BC%EC%B0%A8/0207.ipynb\" target=\"_parent\"><img src=\"https://colab.research.google.com/assets/colab-badge.svg\" alt=\"Open In Colab\"/></a>"
      ]
    },
    {
      "cell_type": "markdown",
      "source": [
        "## BoJ"
      ],
      "metadata": {
        "id": "-ahqO5U519Nr"
      }
    },
    {
      "cell_type": "markdown",
      "source": [
        "### 1969"
      ],
      "metadata": {
        "id": "1GZaoc5b1_NJ"
      }
    },
    {
      "cell_type": "code",
      "source": [
        "n, m = map(int, input().split())\n",
        "\n",
        "dna_list = []\n",
        "result_dna = ''\n",
        "nucleotides = ['A', 'C', 'G', 'T']\n",
        "total_hamming_distance = 0\n",
        "\n",
        "for i in range(n):\n",
        "    data = input()\n",
        "    dna_list.append(data)\n",
        "\n",
        "for i in range(m):\n",
        "    a_count, c_count, g_count, t_count = 0, 0, 0, 0\n",
        "    for j in range(n):\n",
        "        if dna_list[j][i] == nucleotides[0]:\n",
        "            a_count += 1\n",
        "        elif dna_list[j][i] == nucleotides[1]:\n",
        "            c_count += 1\n",
        "        elif dna_list[j][i] == nucleotides[2]:\n",
        "            g_count += 1\n",
        "        elif dna_list[j][i] == nucleotides[3]:\n",
        "            t_count += 1\n",
        "    count_list = [a_count, c_count, g_count, t_count]\n",
        "    selected_nucleotide = nucleotides[count_list.index(max(count_list))]\n",
        "    result_dna += selected_nucleotide\n",
        "    for k in range(n):\n",
        "        if dna_list[k][i] != selected_nucleotide:\n",
        "            total_hamming_distance += 1\n",
        "\n",
        "\n",
        "print(result_dna)\n",
        "print(total_hamming_distance)"
      ],
      "metadata": {
        "id": "qKVRjoxC1_uw"
      },
      "execution_count": null,
      "outputs": []
    },
    {
      "cell_type": "markdown",
      "source": [
        "## Programmers"
      ],
      "metadata": {
        "id": "pgkL7upq2AFH"
      }
    },
    {
      "cell_type": "markdown",
      "source": [
        "### 빈 배열에 추가, 삭제하기"
      ],
      "metadata": {
        "id": "T7s2wTE22BhZ"
      }
    },
    {
      "cell_type": "code",
      "source": [
        "def solution(arr, flag):\n",
        "    answer = []\n",
        "\n",
        "    for i in range(len(flag)):\n",
        "        if flag[i] == True:\n",
        "            answer.extend([arr[i]]*(arr[i]*2))\n",
        "\n",
        "        else:\n",
        "            answer = answer[:-arr[i]]\n",
        "\n",
        "    return answer"
      ],
      "metadata": {
        "id": "Y3iapJcn2CIa"
      },
      "execution_count": null,
      "outputs": []
    }
  ]
}