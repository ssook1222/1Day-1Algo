{
  "nbformat": 4,
  "nbformat_minor": 0,
  "metadata": {
    "colab": {
      "provenance": [],
      "authorship_tag": "ABX9TyMrzBA5TvOgAqf7wYQqIIMf",
      "include_colab_link": true
    },
    "kernelspec": {
      "name": "python3",
      "display_name": "Python 3"
    },
    "language_info": {
      "name": "python"
    }
  },
  "cells": [
    {
      "cell_type": "markdown",
      "metadata": {
        "id": "view-in-github",
        "colab_type": "text"
      },
      "source": [
        "<a href=\"https://colab.research.google.com/github/ssook1222/1Day-1Algo/blob/master/ssook/25%EB%85%84/2%EC%9B%94/2%EC%9B%94%202%EC%A3%BC%EC%B0%A8/0209.ipynb\" target=\"_parent\"><img src=\"https://colab.research.google.com/assets/colab-badge.svg\" alt=\"Open In Colab\"/></a>"
      ]
    },
    {
      "cell_type": "markdown",
      "source": [
        "## BoJ"
      ],
      "metadata": {
        "id": "-ahqO5U519Nr"
      }
    },
    {
      "cell_type": "markdown",
      "source": [
        "### 1027"
      ],
      "metadata": {
        "id": "1GZaoc5b1_NJ"
      }
    },
    {
      "cell_type": "code",
      "source": [
        "def calculate_slope(x1, y1, x2, y2):\n",
        "    return (y2 - y1) / (x2 - x1)\n",
        "\n",
        "N = int(input())\n",
        "\n",
        "heights = list(map(int, input().split()))\n",
        "\n",
        "max_visible_buildings = 0\n",
        "for idx1, height1 in enumerate(heights):\n",
        "    x1 = idx1 + 1\n",
        "    cur_slope_right = None\n",
        "    visible_right = 0\n",
        "    for idx2 in range(idx1+1, N+1):\n",
        "        if idx2 == N: break\n",
        "        x2 = idx2 + 1\n",
        "        y2 = heights[idx2]\n",
        "        slope_right = calculate_slope(x1, height1, x2, y2)\n",
        "        if cur_slope_right is None or cur_slope_right < slope_right:\n",
        "            cur_slope_right = slope_right\n",
        "            visible_right += 1\n",
        "\n",
        "    cur_slope_left = None\n",
        "    visible_left = 0\n",
        "    for idx3 in range(idx1-1, -1, -1):\n",
        "        if idx3 == -1: break\n",
        "        x2 = idx3 + 1\n",
        "        y2 = heights[idx3]\n",
        "        slope_left = calculate_slope(x1, height1, x2, y2)\n",
        "        if cur_slope_left is None or cur_slope_left > slope_left:\n",
        "            cur_slope_left = slope_left\n",
        "            visible_left += 1\n",
        "\n",
        "    if (visible_left + visible_right) > max_visible_buildings:\n",
        "        max_visible_buildings = visible_left + visible_right\n",
        "\n",
        "print(max_visible_buildings)"
      ],
      "metadata": {
        "id": "qKVRjoxC1_uw"
      },
      "execution_count": null,
      "outputs": []
    },
    {
      "cell_type": "markdown",
      "source": [
        "## Programmers"
      ],
      "metadata": {
        "id": "pgkL7upq2AFH"
      }
    },
    {
      "cell_type": "markdown",
      "source": [
        "### X사이의 개수"
      ],
      "metadata": {
        "id": "T7s2wTE22BhZ"
      }
    },
    {
      "cell_type": "code",
      "source": [
        "def solution(myString):\n",
        "    answer = []\n",
        "\n",
        "    arrays = list(map(list, myString.split(\"x\")))\n",
        "\n",
        "    for i in range(len(arrays)):\n",
        "        answer.append(len(arrays[i]))\n",
        "\n",
        "    return answer"
      ],
      "metadata": {
        "id": "Y3iapJcn2CIa"
      },
      "execution_count": null,
      "outputs": []
    }
  ]
}