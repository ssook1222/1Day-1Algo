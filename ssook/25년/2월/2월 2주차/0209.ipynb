{
  "nbformat": 4,
  "nbformat_minor": 0,
  "metadata": {
    "colab": {
      "provenance": [],
      "authorship_tag": "ABX9TyNcuA8nUVpvT0NiahZwK3Pm",
      "include_colab_link": true
    },
    "kernelspec": {
      "name": "python3",
      "display_name": "Python 3"
    },
    "language_info": {
      "name": "python"
    }
  },
  "cells": [
    {
      "cell_type": "markdown",
      "metadata": {
        "id": "view-in-github",
        "colab_type": "text"
      },
      "source": [
        "<a href=\"https://colab.research.google.com/github/ssook1222/1Day-1Algo/blob/master/ssook/25%EB%85%84/2%EC%9B%94/2%EC%9B%94%202%EC%A3%BC%EC%B0%A8/0209.ipynb\" target=\"_parent\"><img src=\"https://colab.research.google.com/assets/colab-badge.svg\" alt=\"Open In Colab\"/></a>"
      ]
    },
    {
      "cell_type": "markdown",
      "source": [
        "## BoJ"
      ],
      "metadata": {
        "id": "-ahqO5U519Nr"
      }
    },
    {
      "cell_type": "markdown",
      "source": [
        "### 2615"
      ],
      "metadata": {
        "id": "1GZaoc5b1_NJ"
      }
    },
    {
      "cell_type": "code",
      "source": [
        "import sys\n",
        "input = sys.stdin.readline\n",
        "\n",
        "game_board = []\n",
        "for i in range(19):\n",
        "    game_board.append(list(map(int, input().split())))\n",
        "\n",
        "directions_x = [0, 1, 1, -1]\n",
        "directions_y = [1, 0, 1, 1]\n",
        "\n",
        "for row in range(19):\n",
        "    for col in range(19):\n",
        "        if game_board[row][col] != 0:\n",
        "            current_color = game_board[row][col]\n",
        "\n",
        "            for direction in range(4):\n",
        "                count = 1\n",
        "                next_row = row + directions_x[direction]\n",
        "                next_col = col + directions_y[direction]\n",
        "\n",
        "                while 0 <= next_row < 19 and 0 <= next_col < 19 and game_board[next_row][next_col] == current_color:\n",
        "                    count += 1\n",
        "\n",
        "                    if count == 5:\n",
        "                        if 0 <= row - directions_x[direction] < 19 and 0 <= col - directions_y[direction] < 19 and game_board[row - directions_x[direction]][col - directions_y[direction]] == current_color:\n",
        "                            break\n",
        "                        if 0 <= next_row + directions_x[direction] < 19 and 0 <= next_col + directions_y[direction] < 19 and game_board[next_row + directions_x[direction]][next_col + directions_y[direction]] == current_color:\n",
        "                            break\n",
        "                        print(current_color)\n",
        "                        print(row + 1, col + 1)\n",
        "                        sys.exit(0)\n",
        "\n",
        "                    next_row += directions_x[direction]\n",
        "                    next_col += directions_y[direction]\n",
        "\n",
        "print(0)"
      ],
      "metadata": {
        "id": "qKVRjoxC1_uw"
      },
      "execution_count": null,
      "outputs": []
    },
    {
      "cell_type": "markdown",
      "source": [
        "## Programmers"
      ],
      "metadata": {
        "id": "pgkL7upq2AFH"
      }
    },
    {
      "cell_type": "markdown",
      "source": [
        "### 문자열 바꿔서 찾기"
      ],
      "metadata": {
        "id": "T7s2wTE22BhZ"
      }
    },
    {
      "cell_type": "code",
      "source": [
        "def solution(myString, pat):\n",
        "    answer = 0\n",
        "    string = ''\n",
        "    for i in range(len(myString)):\n",
        "        if myString[i] == 'A':\n",
        "            string += 'B'\n",
        "        elif myString[i] == 'B':\n",
        "            string += 'A'\n",
        "\n",
        "    if pat in string:\n",
        "        answer = 1\n",
        "\n",
        "    return answer"
      ],
      "metadata": {
        "id": "Y3iapJcn2CIa"
      },
      "execution_count": null,
      "outputs": []
    }
  ]
}