{
  "nbformat": 4,
  "nbformat_minor": 0,
  "metadata": {
    "colab": {
      "provenance": [],
      "authorship_tag": "ABX9TyPIqDhKErqOzt5yIN6DhyO3",
      "include_colab_link": true
    },
    "kernelspec": {
      "name": "python3",
      "display_name": "Python 3"
    },
    "language_info": {
      "name": "python"
    }
  },
  "cells": [
    {
      "cell_type": "markdown",
      "metadata": {
        "id": "view-in-github",
        "colab_type": "text"
      },
      "source": [
        "<a href=\"https://colab.research.google.com/github/ssook1222/1Day-1Algo/blob/master/ssook/25%EB%85%84/2%EC%9B%94/2%EC%9B%94%202%EC%A3%BC%EC%B0%A8/0213.ipynb\" target=\"_parent\"><img src=\"https://colab.research.google.com/assets/colab-badge.svg\" alt=\"Open In Colab\"/></a>"
      ]
    },
    {
      "cell_type": "markdown",
      "source": [
        "## BoJ"
      ],
      "metadata": {
        "id": "PSeUkVr2-VCc"
      }
    },
    {
      "cell_type": "markdown",
      "source": [
        "### 1198"
      ],
      "metadata": {
        "id": "5VYIv5R--asr"
      }
    },
    {
      "cell_type": "code",
      "source": [
        "from itertools import combinations\n",
        "import sys\n",
        "\n",
        "\n",
        "# 삼각형의 넓이를 계산하는 함수\n",
        "def triangle_area(x, y, z):\n",
        "    return abs((x[0]*y[1] + y[0]*z[1] + z[0]*x[1] - x[1]*y[0] - y[1]*z[0] - z[1]*x[0])) / 2\n",
        "\n",
        "\n",
        "polygon_points = []\n",
        "triangle_areas = []\n",
        "num_points = int(sys.stdin.readline())  # 다각형의 점의 개수\n",
        "\n",
        "# 다각형 점들의 좌표 입력 받기\n",
        "for i in range(num_points):\n",
        "    point_input = sys.stdin.readline()  # 각 점의 좌표 입력 받기\n",
        "    polygon_points.append(list(map(int, point_input.split())))\n",
        "\n",
        "# 점들로 만들 수 있는 모든 삼각형의 조합 구하기\n",
        "triangle_combinations = list(combinations(polygon_points, 3))\n",
        "\n",
        "# 각 삼각형의 넓이를 계산하여 리스트에 저장\n",
        "for combination_index in range(len(triangle_combinations)):\n",
        "    triangle_areas.append(triangle_area(triangle_combinations[combination_index][0],\n",
        "                                        triangle_combinations[combination_index][1],\n",
        "                                        triangle_combinations[combination_index][2]))\n",
        "\n",
        "# 가장 큰 삼각형 넓이 출력\n",
        "print(max(triangle_areas))"
      ],
      "metadata": {
        "id": "TE09xO85-btj"
      },
      "execution_count": null,
      "outputs": []
    },
    {
      "cell_type": "markdown",
      "source": [
        "## Programmers"
      ],
      "metadata": {
        "id": "L0jRq6C7-cMo"
      }
    },
    {
      "cell_type": "markdown",
      "source": [
        "### 주사위 게임 1"
      ],
      "metadata": {
        "id": "Eo7kEg4t-gq_"
      }
    },
    {
      "cell_type": "code",
      "source": [
        "def solution(a, b):\n",
        "    answer = 0\n",
        "    if a%2 != 0 and b%2 !=0:\n",
        "        answer = a**2 + b**2\n",
        "    elif a%2 != 0 or b%2 !=0:\n",
        "        answer = 2*(a+b)\n",
        "    else:\n",
        "        answer = abs(a-b)\n",
        "\n",
        "    return answer"
      ],
      "metadata": {
        "id": "BOlqKEzB-hzw"
      },
      "execution_count": null,
      "outputs": []
    }
  ]
}