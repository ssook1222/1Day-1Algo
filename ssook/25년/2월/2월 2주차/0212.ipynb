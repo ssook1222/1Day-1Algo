{
  "nbformat": 4,
  "nbformat_minor": 0,
  "metadata": {
    "colab": {
      "provenance": [],
      "authorship_tag": "ABX9TyPFHmDC/2bc+aBnA6UYcZR2",
      "include_colab_link": true
    },
    "kernelspec": {
      "name": "python3",
      "display_name": "Python 3"
    },
    "language_info": {
      "name": "python"
    }
  },
  "cells": [
    {
      "cell_type": "markdown",
      "metadata": {
        "id": "view-in-github",
        "colab_type": "text"
      },
      "source": [
        "<a href=\"https://colab.research.google.com/github/ssook1222/1Day-1Algo/blob/master/ssook/25%EB%85%84/2%EC%9B%94/2%EC%9B%94%202%EC%A3%BC%EC%B0%A8/0212.ipynb\" target=\"_parent\"><img src=\"https://colab.research.google.com/assets/colab-badge.svg\" alt=\"Open In Colab\"/></a>"
      ]
    },
    {
      "cell_type": "markdown",
      "source": [
        "## BoJ"
      ],
      "metadata": {
        "id": "PSeUkVr2-VCc"
      }
    },
    {
      "cell_type": "markdown",
      "source": [
        "### 1058"
      ],
      "metadata": {
        "id": "5VYIv5R--asr"
      }
    },
    {
      "cell_type": "code",
      "source": [
        "import sys\n",
        "input = sys.stdin.readline\n",
        "\n",
        "# 사람 수 입력 받기\n",
        "num_people = int(input())\n",
        "\n",
        "# 친구 관계 그래프 입력 받기\n",
        "friendship_graph = [list(input().rstrip()) for _ in range(num_people)]\n",
        "\n",
        "# 2-친구 목록 초기화\n",
        "second_degree_friends = [[] for _ in range(num_people)]\n",
        "\n",
        "# 각 사람에 대해 2-친구 찾기\n",
        "for i in range(num_people):\n",
        "    for j in range(num_people):\n",
        "        if friendship_graph[i][j] == 'Y' and i != j:\n",
        "            second_degree_friends[i].append(j)\n",
        "            for k in range(len(friendship_graph[j])):\n",
        "                if friendship_graph[j][k] == 'Y' and i != k:\n",
        "                    second_degree_friends[i].append(k)\n",
        "\n",
        "# 중복 제거\n",
        "for i in range(len(second_degree_friends)):\n",
        "    second_degree_friends[i] = list(set(second_degree_friends[i]))\n",
        "\n",
        "# 가장 많은 2-친구의 수 찾기\n",
        "max_second_degree_friends = 0\n",
        "for friends in second_degree_friends:\n",
        "    if len(friends) > max_second_degree_friends:\n",
        "        max_second_degree_friends = len(friends)\n",
        "\n",
        "# 결과 출력\n",
        "print(max_second_degree_friends)"
      ],
      "metadata": {
        "id": "TE09xO85-btj"
      },
      "execution_count": null,
      "outputs": []
    },
    {
      "cell_type": "markdown",
      "source": [
        "## Programmers"
      ],
      "metadata": {
        "id": "L0jRq6C7-cMo"
      }
    },
    {
      "cell_type": "markdown",
      "source": [
        "### I로 만들기"
      ],
      "metadata": {
        "id": "Eo7kEg4t-gq_"
      }
    },
    {
      "cell_type": "code",
      "source": [
        "def solution(myString):\n",
        "    answer = ''\n",
        "\n",
        "    for i in myString:\n",
        "        if ord(i) < ord('l'):\n",
        "            answer += 'l'\n",
        "        else:\n",
        "            answer += i\n",
        "\n",
        "    return answer"
      ],
      "metadata": {
        "id": "BOlqKEzB-hzw"
      },
      "execution_count": null,
      "outputs": []
    }
  ]
}