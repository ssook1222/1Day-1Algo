{
  "nbformat": 4,
  "nbformat_minor": 0,
  "metadata": {
    "colab": {
      "provenance": [],
      "authorship_tag": "ABX9TyPI//19L9wVyLTIHfPwO0+9",
      "include_colab_link": true
    },
    "kernelspec": {
      "name": "python3",
      "display_name": "Python 3"
    },
    "language_info": {
      "name": "python"
    }
  },
  "cells": [
    {
      "cell_type": "markdown",
      "metadata": {
        "id": "view-in-github",
        "colab_type": "text"
      },
      "source": [
        "<a href=\"https://colab.research.google.com/github/ssook1222/1Day-1Algo/blob/master/ssook/25%EB%85%84/2%EC%9B%94/2%EC%9B%94%202%EC%A3%BC%EC%B0%A8/0210.ipynb\" target=\"_parent\"><img src=\"https://colab.research.google.com/assets/colab-badge.svg\" alt=\"Open In Colab\"/></a>"
      ]
    },
    {
      "cell_type": "markdown",
      "source": [
        "## BoJ"
      ],
      "metadata": {
        "id": "PSeUkVr2-VCc"
      }
    },
    {
      "cell_type": "markdown",
      "source": [
        "### 1679"
      ],
      "metadata": {
        "id": "5VYIv5R--asr"
      }
    },
    {
      "cell_type": "code",
      "source": [
        "import sys\n",
        "\n",
        "input = lambda: sys.stdin.readline().rstrip()\n",
        "\n",
        "\n",
        "num_count = int(input())\n",
        "numbers = list(map(int, input().split()))\n",
        "available_numbers = set(numbers)\n",
        "max_uses = int(input())\n",
        "\n",
        "max_value = numbers[-1] * max_uses + 2\n",
        "min_uses = [float('inf')] * (max_value)\n",
        "\n",
        "for i in range(1, max_value):\n",
        "    if i in available_numbers:\n",
        "        min_uses[i] = 1\n",
        "    else:\n",
        "        for j in range(1, i // 2 + 1):\n",
        "            min_uses[i] = min(min_uses[i], min_uses[j] + min_uses[i - j])\n",
        "\n",
        "    if min_uses[i] > max_uses:\n",
        "        winner = \"holsoon\" if i % 2 == 0 else \"jjaksoon\"\n",
        "        print(f\"{winner} win at {i}\")\n",
        "        break"
      ],
      "metadata": {
        "id": "TE09xO85-btj"
      },
      "execution_count": null,
      "outputs": []
    },
    {
      "cell_type": "markdown",
      "source": [
        "### 2232"
      ],
      "metadata": {
        "id": "Eo7kEg4t-gq_"
      }
    },
    {
      "cell_type": "code",
      "source": [
        "import sys\n",
        "\n",
        "num_mines = int(sys.stdin.readline().strip())\n",
        "\n",
        "# 좌, 우 살피면서 확인할 것이니까 좌, 우에 0추가\n",
        "mine_strengths = [0]\n",
        "for _ in range(num_mines):\n",
        "    mine_strengths.append(int(sys.stdin.readline().strip()))\n",
        "mine_strengths.append(0)\n",
        "\n",
        "trigger_mines = []\n",
        "# 숫자들의 좌, 우가 나보다 작거나 같으면 터뜨려야되는 지뢰임\n",
        "for i in range(1, num_mines+1):\n",
        "    if mine_strengths[i-1] <= mine_strengths[i] >= mine_strengths[i+1]:\n",
        "        trigger_mines.append(i)\n",
        "\n",
        "print('\\n'.join(map(str, trigger_mines)))\n"
      ],
      "metadata": {
        "id": "BOlqKEzB-hzw"
      },
      "execution_count": null,
      "outputs": []
    }
  ]
}