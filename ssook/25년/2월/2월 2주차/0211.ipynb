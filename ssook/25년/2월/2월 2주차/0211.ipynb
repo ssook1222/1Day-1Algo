{
  "nbformat": 4,
  "nbformat_minor": 0,
  "metadata": {
    "colab": {
      "provenance": [],
      "authorship_tag": "ABX9TyPNb/aftXZPFlOHu/mBciGL",
      "include_colab_link": true
    },
    "kernelspec": {
      "name": "python3",
      "display_name": "Python 3"
    },
    "language_info": {
      "name": "python"
    }
  },
  "cells": [
    {
      "cell_type": "markdown",
      "metadata": {
        "id": "view-in-github",
        "colab_type": "text"
      },
      "source": [
        "<a href=\"https://colab.research.google.com/github/ssook1222/1Day-1Algo/blob/master/ssook/25%EB%85%84/2%EC%9B%94/2%EC%9B%94%202%EC%A3%BC%EC%B0%A8/0211.ipynb\" target=\"_parent\"><img src=\"https://colab.research.google.com/assets/colab-badge.svg\" alt=\"Open In Colab\"/></a>"
      ]
    },
    {
      "cell_type": "markdown",
      "source": [
        "## BoJ"
      ],
      "metadata": {
        "id": "PSeUkVr2-VCc"
      }
    },
    {
      "cell_type": "markdown",
      "source": [
        "### 1802"
      ],
      "metadata": {
        "id": "5VYIv5R--asr"
      }
    },
    {
      "cell_type": "code",
      "source": [
        "import sys\n",
        "input = sys.stdin.readline\n",
        "\n",
        "\n",
        "def canBeFoldedProperly(fold_sequence):\n",
        "    current_fold_sequence = list(fold_sequence)\n",
        "\n",
        "    while len(current_fold_sequence) >= 3:\n",
        "        for i in range(2, len(current_fold_sequence), 2):\n",
        "            if current_fold_sequence[i-2] == current_fold_sequence[i]:\n",
        "                return False\n",
        "\n",
        "        next_fold_sequence = []\n",
        "        for i in range(1, len(current_fold_sequence), 2):\n",
        "            next_fold_sequence.append(current_fold_sequence[i])\n",
        "\n",
        "        current_fold_sequence = next_fold_sequence\n",
        "\n",
        "    return True\n",
        "\n",
        "\n",
        "test_cases = int(input())  # 테스트 케이스의 수\n",
        "for _ in range(test_cases):\n",
        "    fold_sequence = str(input().rstrip())  # 각 테스트 케이스의 종이 접힘 상태\n",
        "\n",
        "    if canBeFoldedProperly(fold_sequence):\n",
        "        print(\"YES\")\n",
        "    else:\n",
        "        print(\"NO\")"
      ],
      "metadata": {
        "id": "TE09xO85-btj"
      },
      "execution_count": null,
      "outputs": []
    },
    {
      "cell_type": "markdown",
      "source": [
        "## Programmers"
      ],
      "metadata": {
        "id": "L0jRq6C7-cMo"
      }
    },
    {
      "cell_type": "markdown",
      "source": [
        "### 0 떼기"
      ],
      "metadata": {
        "id": "Eo7kEg4t-gq_"
      }
    },
    {
      "cell_type": "code",
      "source": [
        "def solution(n_str):\n",
        "    answer = n_str.lstrip('0')\n",
        "\n",
        "    return answer"
      ],
      "metadata": {
        "id": "BOlqKEzB-hzw"
      },
      "execution_count": null,
      "outputs": []
    }
  ]
}