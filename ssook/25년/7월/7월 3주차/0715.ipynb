{
  "nbformat": 4,
  "nbformat_minor": 0,
  "metadata": {
    "colab": {
      "provenance": [],
      "authorship_tag": "ABX9TyM14fLw9+0YTiJyj9Strpqu",
      "include_colab_link": true
    },
    "kernelspec": {
      "name": "python3",
      "display_name": "Python 3"
    },
    "language_info": {
      "name": "python"
    }
  },
  "cells": [
    {
      "cell_type": "markdown",
      "metadata": {
        "id": "view-in-github",
        "colab_type": "text"
      },
      "source": [
        "<a href=\"https://colab.research.google.com/github/ssook1222/1Day-1Algo/blob/master/ssook/25%EB%85%84/7%EC%9B%94/7%EC%9B%94%203%EC%A3%BC%EC%B0%A8/0715.ipynb\" target=\"_parent\"><img src=\"https://colab.research.google.com/assets/colab-badge.svg\" alt=\"Open In Colab\"/></a>"
      ]
    },
    {
      "cell_type": "markdown",
      "source": [
        "## BoJ"
      ],
      "metadata": {
        "id": "JZDghzF3cvmB"
      }
    },
    {
      "cell_type": "markdown",
      "source": [
        "### 16070"
      ],
      "metadata": {
        "id": "Atipbkz8cxRf"
      }
    },
    {
      "cell_type": "code",
      "source": [
        "def simulate_battle(heroes, villains):\n",
        "    n = len(heroes)\n",
        "    i = 0\n",
        "    while i < n:\n",
        "        if heroes[i] > villains[i]:\n",
        "            return True\n",
        "        elif heroes[i] < villains[i]:\n",
        "            return False\n",
        "        else:\n",
        "            i += 1  # 동점이면 사이드킥(다음 인덱스)에게 판결을 넘김\n",
        "    return True  # 끝까지 동점 -> 히어로 승\n",
        "\n",
        "def minimum_training_days(n, h, v):\n",
        "    left = 0\n",
        "    right = 2000  # 충분한 upper bound (최악의 경우 1000일 훈련)\n",
        "\n",
        "    while left < right:\n",
        "        mid = (left + right) // 2\n",
        "        trained_heroes = [x + mid for x in h]\n",
        "        if simulate_battle(trained_heroes, v):\n",
        "            right = mid\n",
        "        else:\n",
        "            left = mid + 1\n",
        "\n",
        "    return left\n",
        "\n",
        "# 입력 처리\n",
        "n = int(input())\n",
        "h = list(map(int, input().split()))\n",
        "v = list(map(int, input().split()))\n",
        "print(minimum_training_days(n, h, v))\n"
      ],
      "metadata": {
        "id": "b_C31Q68cx92"
      },
      "execution_count": null,
      "outputs": []
    },
    {
      "cell_type": "markdown",
      "source": [
        "## Programmers"
      ],
      "metadata": {
        "id": "Rj_RlDvHcyK0"
      }
    },
    {
      "cell_type": "markdown",
      "source": [
        "### 카운트 업"
      ],
      "metadata": {
        "id": "EgEgqlDdc0EQ"
      }
    },
    {
      "cell_type": "code",
      "source": [
        "def solution(start_num, end_num):\n",
        "    answer = []\n",
        "    return answer"
      ],
      "metadata": {
        "id": "8LQlb8Vyc0mO"
      },
      "execution_count": null,
      "outputs": []
    }
  ]
}