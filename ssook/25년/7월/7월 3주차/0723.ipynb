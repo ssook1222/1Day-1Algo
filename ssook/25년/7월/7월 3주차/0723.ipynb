{
  "nbformat": 4,
  "nbformat_minor": 0,
  "metadata": {
    "colab": {
      "provenance": [],
      "authorship_tag": "ABX9TyMPsGgF5mFBSNCFhh95xZXY",
      "include_colab_link": true
    },
    "kernelspec": {
      "name": "python3",
      "display_name": "Python 3"
    },
    "language_info": {
      "name": "python"
    }
  },
  "cells": [
    {
      "cell_type": "markdown",
      "metadata": {
        "id": "view-in-github",
        "colab_type": "text"
      },
      "source": [
        "<a href=\"https://colab.research.google.com/github/ssook1222/1Day-1Algo/blob/master/ssook/25%EB%85%84/7%EC%9B%94/7%EC%9B%94%203%EC%A3%BC%EC%B0%A8/0723.ipynb\" target=\"_parent\"><img src=\"https://colab.research.google.com/assets/colab-badge.svg\" alt=\"Open In Colab\"/></a>"
      ]
    },
    {
      "cell_type": "markdown",
      "source": [
        "## BoJ"
      ],
      "metadata": {
        "id": "2zHsWuc05ejc"
      }
    },
    {
      "cell_type": "markdown",
      "source": [
        "### 32682"
      ],
      "metadata": {
        "id": "Qmslm5Ww5f6o"
      }
    },
    {
      "cell_type": "code",
      "execution_count": null,
      "metadata": {
        "id": "mXBeZBHE4B3g"
      },
      "outputs": [],
      "source": [
        "import sys\n",
        "import math\n",
        "\n",
        "input = sys.stdin.read\n",
        "data = input().split()\n",
        "\n",
        "T = int(data[0])\n",
        "nums = list(map(int, data[1:]))\n",
        "\n",
        "results = []\n",
        "for N in nums:\n",
        "    is_odd = N % 2 == 1\n",
        "    is_square = int(math.isqrt(N)) ** 2 == N\n",
        "\n",
        "    if is_odd and is_square:\n",
        "        results.append(\"OS\")\n",
        "    elif is_odd:\n",
        "        results.append(\"O\")\n",
        "    elif is_square:\n",
        "        results.append(\"S\")\n",
        "    else:\n",
        "        results.append(\"EMPTY\")\n",
        "\n",
        "print(\"\\n\".join(results))\n"
      ]
    },
    {
      "cell_type": "markdown",
      "source": [
        "## Programmers"
      ],
      "metadata": {
        "id": "bTEh7iGL5gaA"
      }
    },
    {
      "cell_type": "markdown",
      "source": [
        "### 모의고사"
      ],
      "metadata": {
        "id": "eBdlSigR5hUX"
      }
    },
    {
      "cell_type": "code",
      "source": [
        "def solution(answers):\n",
        "    pattern_1 = [1, 2, 3, 4, 5]\n",
        "    pattern_2 = [2, 1, 2, 3, 2, 4, 2, 5]\n",
        "    pattern_3 = [3, 3, 1, 1, 2, 2, 4, 4, 5, 5]\n",
        "\n",
        "    count_1, count_2, count_3 = 0, 0, 0\n",
        "\n",
        "    for i in range(len(answers)):\n",
        "        if answers[i] == pattern_1[i % len(pattern_1)]:\n",
        "            count_1 += 1\n",
        "        if answers[i] == pattern_2[i % len(pattern_2)]:\n",
        "            count_2 += 1\n",
        "        if answers[i] == pattern_3[i % len(pattern_3)]:\n",
        "            count_3 += 1\n",
        "\n",
        "    max_count = max(count_1, count_2, count_3)\n",
        "\n",
        "    winners = []\n",
        "    if count_1 == max_count:\n",
        "        winners.append(1)\n",
        "    if count_2 == max_count:\n",
        "        winners.append(2)\n",
        "    if count_3 == max_count:\n",
        "        winners.append(3)\n",
        "\n",
        "    return winners"
      ],
      "metadata": {
        "id": "wj85u_W35h3G"
      },
      "execution_count": null,
      "outputs": []
    }
  ]
}