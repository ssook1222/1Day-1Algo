{
  "nbformat": 4,
  "nbformat_minor": 0,
  "metadata": {
    "colab": {
      "provenance": [],
      "authorship_tag": "ABX9TyOhRCa35JeopkzSXbfXJ6ub",
      "include_colab_link": true
    },
    "kernelspec": {
      "name": "python3",
      "display_name": "Python 3"
    },
    "language_info": {
      "name": "python"
    }
  },
  "cells": [
    {
      "cell_type": "markdown",
      "metadata": {
        "id": "view-in-github",
        "colab_type": "text"
      },
      "source": [
        "<a href=\"https://colab.research.google.com/github/ssook1222/1Day-1Algo/blob/master/ssook/25%EB%85%84/7%EC%9B%94/7%EC%9B%94%203%EC%A3%BC%EC%B0%A8/0721.ipynb\" target=\"_parent\"><img src=\"https://colab.research.google.com/assets/colab-badge.svg\" alt=\"Open In Colab\"/></a>"
      ]
    },
    {
      "cell_type": "markdown",
      "source": [
        "## BoJ"
      ],
      "metadata": {
        "id": "2zHsWuc05ejc"
      }
    },
    {
      "cell_type": "markdown",
      "source": [
        "### 32775"
      ],
      "metadata": {
        "id": "Qmslm5Ww5f6o"
      }
    },
    {
      "cell_type": "code",
      "execution_count": null,
      "metadata": {
        "id": "mXBeZBHE4B3g"
      },
      "outputs": [],
      "source": [
        "s = int(input())\n",
        "f = int(input())\n",
        "\n",
        "if s <= f:\n",
        "    print(\"high speed rail\")\n",
        "else:\n",
        "    print(\"flight\")"
      ]
    },
    {
      "cell_type": "markdown",
      "source": [
        "## Programmers"
      ],
      "metadata": {
        "id": "bTEh7iGL5gaA"
      }
    },
    {
      "cell_type": "markdown",
      "source": [
        "### 폰켓몬"
      ],
      "metadata": {
        "id": "eBdlSigR5hUX"
      }
    },
    {
      "cell_type": "code",
      "source": [
        "def solution(nums):\n",
        "    answer = 0\n",
        "    max_nums = len(nums) // 2\n",
        "    test = list(set(nums))\n",
        "\n",
        "    if max_nums >= len(test):\n",
        "        answer = len(test)\n",
        "\n",
        "    else:\n",
        "        answer = max_nums\n",
        "\n",
        "    return answer"
      ],
      "metadata": {
        "id": "wj85u_W35h3G"
      },
      "execution_count": null,
      "outputs": []
    }
  ]
}