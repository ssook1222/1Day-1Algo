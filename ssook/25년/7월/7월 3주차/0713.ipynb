{
  "nbformat": 4,
  "nbformat_minor": 0,
  "metadata": {
    "colab": {
      "provenance": [],
      "authorship_tag": "ABX9TyNfatBK0TayiRJbGM3wsfEo",
      "include_colab_link": true
    },
    "kernelspec": {
      "name": "python3",
      "display_name": "Python 3"
    },
    "language_info": {
      "name": "python"
    }
  },
  "cells": [
    {
      "cell_type": "markdown",
      "metadata": {
        "id": "view-in-github",
        "colab_type": "text"
      },
      "source": [
        "<a href=\"https://colab.research.google.com/github/ssook1222/1Day-1Algo/blob/master/ssook/25%EB%85%84/7%EC%9B%94/7%EC%9B%94%203%EC%A3%BC%EC%B0%A8/0713.ipynb\" target=\"_parent\"><img src=\"https://colab.research.google.com/assets/colab-badge.svg\" alt=\"Open In Colab\"/></a>"
      ]
    },
    {
      "cell_type": "markdown",
      "source": [
        "## BoJ"
      ],
      "metadata": {
        "id": "JZDghzF3cvmB"
      }
    },
    {
      "cell_type": "markdown",
      "source": [
        "### 15920"
      ],
      "metadata": {
        "id": "Atipbkz8cxRf"
      }
    },
    {
      "cell_type": "code",
      "source": [
        "def simulate_trolley(N, S):\n",
        "    lever_pulled = False  # 레버 상태: False = 당기지 않음, True = 당긴 상태\n",
        "    lever_changed_in_B = False  # B구역에 있을 때 레버를 바꿨는가\n",
        "    trolley_position = 'A'  # 시작 위치\n",
        "    time = 0  # 행동 처리 인덱스\n",
        "\n",
        "    while time < N:\n",
        "        action = S[time]\n",
        "\n",
        "        if action == 'P':\n",
        "            # 레버 상태 변경\n",
        "            lever_pulled = not lever_pulled\n",
        "            if trolley_position == 'B':\n",
        "                lever_changed_in_B = True\n",
        "        elif action == 'W':\n",
        "            # 위치 이동\n",
        "            if trolley_position == 'A':\n",
        "                trolley_position = 'B'\n",
        "            elif trolley_position == 'B':\n",
        "                trolley_position = 'C'\n",
        "                # C에 도달했으므로 마네킹 수 계산\n",
        "                if lever_changed_in_B:\n",
        "                    return 6  # 둘 다 깔림\n",
        "                elif lever_pulled:\n",
        "                    return 1  # 위쪽 선로\n",
        "                else:\n",
        "                    return 5  # 아래쪽 선로\n",
        "            # C면 아무 일도 없음\n",
        "        time += 1\n",
        "\n",
        "    # 행동이 끝났지만 C에 도달하지 않았다면\n",
        "    return 0\n",
        "\n",
        "\n",
        "# 입력 예시\n",
        "N = int(input())\n",
        "S = input()\n",
        "print(simulate_trolley(N, S))\n"
      ],
      "metadata": {
        "id": "b_C31Q68cx92"
      },
      "execution_count": null,
      "outputs": []
    },
    {
      "cell_type": "markdown",
      "source": [
        "## Programmers"
      ],
      "metadata": {
        "id": "Rj_RlDvHcyK0"
      }
    },
    {
      "cell_type": "markdown",
      "source": [
        "### N의 배수"
      ],
      "metadata": {
        "id": "EgEgqlDdc0EQ"
      }
    },
    {
      "cell_type": "code",
      "source": [
        "def solution(num, n):\n",
        "    answer = 0\n",
        "\n",
        "    if num % n == 0:\n",
        "        answer = 1\n",
        "    else:\n",
        "        answer = 0\n",
        "\n",
        "    return answer"
      ],
      "metadata": {
        "id": "8LQlb8Vyc0mO"
      },
      "execution_count": null,
      "outputs": []
    }
  ]
}