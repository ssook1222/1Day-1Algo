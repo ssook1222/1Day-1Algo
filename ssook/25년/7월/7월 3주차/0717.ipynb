{
  "nbformat": 4,
  "nbformat_minor": 0,
  "metadata": {
    "colab": {
      "provenance": [],
      "authorship_tag": "ABX9TyOqd3IJrl+CDxytm7jgy/GC",
      "include_colab_link": true
    },
    "kernelspec": {
      "name": "python3",
      "display_name": "Python 3"
    },
    "language_info": {
      "name": "python"
    }
  },
  "cells": [
    {
      "cell_type": "markdown",
      "metadata": {
        "id": "view-in-github",
        "colab_type": "text"
      },
      "source": [
        "<a href=\"https://colab.research.google.com/github/ssook1222/1Day-1Algo/blob/master/ssook/25%EB%85%84/7%EC%9B%94/7%EC%9B%94%203%EC%A3%BC%EC%B0%A8/0717.ipynb\" target=\"_parent\"><img src=\"https://colab.research.google.com/assets/colab-badge.svg\" alt=\"Open In Colab\"/></a>"
      ]
    },
    {
      "cell_type": "markdown",
      "source": [
        "## BoJ"
      ],
      "metadata": {
        "id": "JZDghzF3cvmB"
      }
    },
    {
      "cell_type": "markdown",
      "source": [
        "### 16244"
      ],
      "metadata": {
        "id": "Atipbkz8cxRf"
      }
    },
    {
      "cell_type": "code",
      "source": [
        "n = int(input())\n",
        "f = list(map(int, input().split()))\n",
        "total = sum(f)\n",
        "\n",
        "for i in range(n):\n",
        "    if 2 * f[i] == total:\n",
        "        result = f[:i] + f[i+1:] + [f[i]]\n",
        "        print(' '.join(map(str, result)))\n",
        "        break\n"
      ],
      "metadata": {
        "id": "b_C31Q68cx92"
      },
      "execution_count": null,
      "outputs": []
    },
    {
      "cell_type": "markdown",
      "source": [
        "## Programmers"
      ],
      "metadata": {
        "id": "Rj_RlDvHcyK0"
      }
    },
    {
      "cell_type": "markdown",
      "source": [
        "### 문자열 곱하기"
      ],
      "metadata": {
        "id": "EgEgqlDdc0EQ"
      }
    },
    {
      "cell_type": "code",
      "source": [
        "def solution(my_string, k):\n",
        "    answer = my_string*k\n",
        "    return answer"
      ],
      "metadata": {
        "id": "8LQlb8Vyc0mO"
      },
      "execution_count": null,
      "outputs": []
    }
  ]
}