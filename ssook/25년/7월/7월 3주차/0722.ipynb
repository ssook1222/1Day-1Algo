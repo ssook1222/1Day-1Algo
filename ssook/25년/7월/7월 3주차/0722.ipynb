{
  "nbformat": 4,
  "nbformat_minor": 0,
  "metadata": {
    "colab": {
      "provenance": [],
      "authorship_tag": "ABX9TyN00ZgZXJfCT3zSV/6RRDsC",
      "include_colab_link": true
    },
    "kernelspec": {
      "name": "python3",
      "display_name": "Python 3"
    },
    "language_info": {
      "name": "python"
    }
  },
  "cells": [
    {
      "cell_type": "markdown",
      "metadata": {
        "id": "view-in-github",
        "colab_type": "text"
      },
      "source": [
        "<a href=\"https://colab.research.google.com/github/ssook1222/1Day-1Algo/blob/master/ssook/25%EB%85%84/7%EC%9B%94/7%EC%9B%94%203%EC%A3%BC%EC%B0%A8/0722.ipynb\" target=\"_parent\"><img src=\"https://colab.research.google.com/assets/colab-badge.svg\" alt=\"Open In Colab\"/></a>"
      ]
    },
    {
      "cell_type": "markdown",
      "source": [
        "## BoJ"
      ],
      "metadata": {
        "id": "2zHsWuc05ejc"
      }
    },
    {
      "cell_type": "markdown",
      "source": [
        "### 32154"
      ],
      "metadata": {
        "id": "Qmslm5Ww5f6o"
      }
    },
    {
      "cell_type": "code",
      "execution_count": null,
      "metadata": {
        "id": "mXBeZBHE4B3g"
      },
      "outputs": [],
      "source": [
        "answers = [\n",
        "    [1,2,3,4,5,6,7,8,10,12,13],\n",
        "    [1,3,5,6,7,8,9,12,13],\n",
        "    [1,3,5,6,7,8,9,12,13],\n",
        "    [1,2,3,5,6,7,8,12,13],\n",
        "    [1,3,5,6,7,8,12,13],\n",
        "    [1,3,5,6,7,8,12,13],\n",
        "    [1,3,5,6,7,8,12,13],\n",
        "    [1,3,5,6,7,8,12,13],\n",
        "    [1,3,5,6,7,8,12,13],\n",
        "    [1,2,3,6,7,8,12,13]\n",
        "]\n",
        "\n",
        "n = int(input())\n",
        "ans = answers[n - 1]\n",
        "print(len(ans))\n",
        "print(\" \".join(chr(a + 64) for a in ans))\n"
      ]
    },
    {
      "cell_type": "markdown",
      "source": [
        "## Programmers"
      ],
      "metadata": {
        "id": "bTEh7iGL5gaA"
      }
    },
    {
      "cell_type": "markdown",
      "source": [
        "### 최소직사각형"
      ],
      "metadata": {
        "id": "eBdlSigR5hUX"
      }
    },
    {
      "cell_type": "code",
      "source": [
        "def solution(sizes):\n",
        "    answer = 0\n",
        "    r_w = []\n",
        "    r_h = []\n",
        "\n",
        "    for i in sizes:\n",
        "        r_w.append(max(i))\n",
        "        r_h.append(min(i))\n",
        "\n",
        "    answer = max(r_w) * max(r_h)\n",
        "    return answer"
      ],
      "metadata": {
        "id": "wj85u_W35h3G"
      },
      "execution_count": null,
      "outputs": []
    }
  ]
}