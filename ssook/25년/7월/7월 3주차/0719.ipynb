{
  "nbformat": 4,
  "nbformat_minor": 0,
  "metadata": {
    "colab": {
      "provenance": [],
      "authorship_tag": "ABX9TyOmE8qfoHBF2yfevrlXdoKB",
      "include_colab_link": true
    },
    "kernelspec": {
      "name": "python3",
      "display_name": "Python 3"
    },
    "language_info": {
      "name": "python"
    }
  },
  "cells": [
    {
      "cell_type": "markdown",
      "metadata": {
        "id": "view-in-github",
        "colab_type": "text"
      },
      "source": [
        "<a href=\"https://colab.research.google.com/github/ssook1222/1Day-1Algo/blob/master/ssook/25%EB%85%84/7%EC%9B%94/7%EC%9B%94%203%EC%A3%BC%EC%B0%A8/0719.ipynb\" target=\"_parent\"><img src=\"https://colab.research.google.com/assets/colab-badge.svg\" alt=\"Open In Colab\"/></a>"
      ]
    },
    {
      "cell_type": "markdown",
      "source": [
        "## BoJ"
      ],
      "metadata": {
        "id": "JZDghzF3cvmB"
      }
    },
    {
      "cell_type": "markdown",
      "source": [
        "### 16406"
      ],
      "metadata": {
        "id": "Atipbkz8cxRf"
      }
    },
    {
      "cell_type": "code",
      "source": [
        "k = int(input())\n",
        "me = input().strip()\n",
        "friend = input().strip()\n",
        "\n",
        "n = len(me)\n",
        "same = 0\n",
        "\n",
        "for i in range(n):\n",
        "    if me[i] == friend[i]:\n",
        "        same += 1\n",
        "\n",
        "diff = n - same\n",
        "\n",
        "# same_correct 최대값: min(same, k)\n",
        "# diff_correct 최대값: min(diff, n - k)\n",
        "# 전체 최대 정답 수: same_correct + diff_correct\n",
        "max_correct = min(same, k) + min(diff, n - k)\n",
        "\n",
        "print(max_correct)\n"
      ],
      "metadata": {
        "id": "b_C31Q68cx92"
      },
      "execution_count": null,
      "outputs": []
    },
    {
      "cell_type": "markdown",
      "source": [
        "## Programmers"
      ],
      "metadata": {
        "id": "Rj_RlDvHcyK0"
      }
    },
    {
      "cell_type": "markdown",
      "source": [
        "### 길이에 따른 연산"
      ],
      "metadata": {
        "id": "EgEgqlDdc0EQ"
      }
    },
    {
      "cell_type": "code",
      "source": [
        "def solution(num_list):\n",
        "    answer = 1\n",
        "\n",
        "    if len(num_list) >= 11:\n",
        "        answer = sum(num_list)\n",
        "\n",
        "    if len(num_list) <= 10:\n",
        "        for i in range(len(num_list)):\n",
        "            print(num_list[i])\n",
        "            answer = num_list[i] * answer\n",
        "\n",
        "    return answer"
      ],
      "metadata": {
        "id": "8LQlb8Vyc0mO"
      },
      "execution_count": null,
      "outputs": []
    }
  ]
}