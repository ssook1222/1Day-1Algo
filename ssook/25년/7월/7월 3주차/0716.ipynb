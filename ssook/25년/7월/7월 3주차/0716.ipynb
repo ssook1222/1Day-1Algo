{
  "nbformat": 4,
  "nbformat_minor": 0,
  "metadata": {
    "colab": {
      "provenance": [],
      "authorship_tag": "ABX9TyPrOeM7TgvYVLViu+tj8bx8",
      "include_colab_link": true
    },
    "kernelspec": {
      "name": "python3",
      "display_name": "Python 3"
    },
    "language_info": {
      "name": "python"
    }
  },
  "cells": [
    {
      "cell_type": "markdown",
      "metadata": {
        "id": "view-in-github",
        "colab_type": "text"
      },
      "source": [
        "<a href=\"https://colab.research.google.com/github/ssook1222/1Day-1Algo/blob/master/ssook/25%EB%85%84/7%EC%9B%94/7%EC%9B%94%203%EC%A3%BC%EC%B0%A8/0716.ipynb\" target=\"_parent\"><img src=\"https://colab.research.google.com/assets/colab-badge.svg\" alt=\"Open In Colab\"/></a>"
      ]
    },
    {
      "cell_type": "markdown",
      "source": [
        "## BoJ"
      ],
      "metadata": {
        "id": "JZDghzF3cvmB"
      }
    },
    {
      "cell_type": "markdown",
      "source": [
        "### 15947"
      ],
      "metadata": {
        "id": "Atipbkz8cxRf"
      }
    },
    {
      "cell_type": "code",
      "source": [
        "def sukhwan_song(n):\n",
        "    base = [\n",
        "        \"baby\", \"sukhwan\", \"tururu\", \"turu\",\n",
        "        \"very\", \"cute\", \"tururu\", \"turu\",\n",
        "        \"in\", \"bed\", \"tururu\", \"turu\",\n",
        "        \"baby\", \"sukhwan\"\n",
        "    ]\n",
        "\n",
        "    repeat = (n - 1) // 14\n",
        "    index = (n - 1) % 14\n",
        "    word = base[index]\n",
        "\n",
        "    if word.startswith(\"tururu\"):\n",
        "        ru_count = 2 + repeat\n",
        "    elif word.startswith(\"turu\"):\n",
        "        ru_count = 1 + repeat\n",
        "    else:\n",
        "        return word\n",
        "\n",
        "    if ru_count >= 5:\n",
        "        return f\"tu+ru*{ru_count}\"\n",
        "    else:\n",
        "        return \"tu\" + \"ru\" * ru_count\n",
        "\n",
        "# 입력\n",
        "n = int(input())\n",
        "print(sukhwan_song(n))\n"
      ],
      "metadata": {
        "id": "b_C31Q68cx92"
      },
      "execution_count": null,
      "outputs": []
    },
    {
      "cell_type": "markdown",
      "source": [
        "## Programmers"
      ],
      "metadata": {
        "id": "Rj_RlDvHcyK0"
      }
    },
    {
      "cell_type": "markdown",
      "source": [
        "### 공배수"
      ],
      "metadata": {
        "id": "EgEgqlDdc0EQ"
      }
    },
    {
      "cell_type": "code",
      "source": [
        "def solution(number, n, m):\n",
        "    answer = 0\n",
        "\n",
        "    if number % n == 0 and number % m == 0:\n",
        "        answer = 1\n",
        "\n",
        "    return answer"
      ],
      "metadata": {
        "id": "8LQlb8Vyc0mO"
      },
      "execution_count": null,
      "outputs": []
    }
  ]
}