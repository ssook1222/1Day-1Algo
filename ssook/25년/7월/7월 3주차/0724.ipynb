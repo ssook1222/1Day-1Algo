{
  "nbformat": 4,
  "nbformat_minor": 0,
  "metadata": {
    "colab": {
      "provenance": [],
      "authorship_tag": "ABX9TyMSXxEJESdIvW+wT9pfyW5/",
      "include_colab_link": true
    },
    "kernelspec": {
      "name": "python3",
      "display_name": "Python 3"
    },
    "language_info": {
      "name": "python"
    }
  },
  "cells": [
    {
      "cell_type": "markdown",
      "metadata": {
        "id": "view-in-github",
        "colab_type": "text"
      },
      "source": [
        "<a href=\"https://colab.research.google.com/github/ssook1222/1Day-1Algo/blob/master/ssook/25%EB%85%84/7%EC%9B%94/7%EC%9B%94%203%EC%A3%BC%EC%B0%A8/0724.ipynb\" target=\"_parent\"><img src=\"https://colab.research.google.com/assets/colab-badge.svg\" alt=\"Open In Colab\"/></a>"
      ]
    },
    {
      "cell_type": "markdown",
      "source": [
        "## BoJ"
      ],
      "metadata": {
        "id": "2zHsWuc05ejc"
      }
    },
    {
      "cell_type": "markdown",
      "source": [
        "### 32587"
      ],
      "metadata": {
        "id": "Qmslm5Ww5f6o"
      }
    },
    {
      "cell_type": "code",
      "execution_count": null,
      "metadata": {
        "id": "mXBeZBHE4B3g"
      },
      "outputs": [],
      "source": [
        "n = int(input())\n",
        "me = input().strip()\n",
        "guile = input().strip()\n",
        "\n",
        "my_win = 0\n",
        "guile_win = 0\n",
        "\n",
        "# 이기는 조합을 딕셔너리로 정의\n",
        "wins = {\n",
        "    ('R', 'S'),\n",
        "    ('S', 'P'),\n",
        "    ('P', 'R')\n",
        "}\n",
        "\n",
        "for a, b in zip(me, guile):\n",
        "    if a == b:\n",
        "        continue  # 비긴 경우\n",
        "    elif (a, b) in wins:\n",
        "        my_win += 1\n",
        "    else:\n",
        "        guile_win += 1\n",
        "\n",
        "# 결과 출력\n",
        "print(\"victory\" if my_win > guile_win else \"defeat\")\n"
      ]
    },
    {
      "cell_type": "markdown",
      "source": [
        "## Programmers"
      ],
      "metadata": {
        "id": "bTEh7iGL5gaA"
      }
    },
    {
      "cell_type": "markdown",
      "source": [
        "### 카펫"
      ],
      "metadata": {
        "id": "eBdlSigR5hUX"
      }
    },
    {
      "cell_type": "code",
      "source": [
        "def solution(brown, yellow):\n",
        "    area = brown + yellow\n",
        "    divide = 1\n",
        "    divide_num = []\n",
        "    answer = []\n",
        "\n",
        "    while divide <= area :\n",
        "        if area % divide == 0:\n",
        "            divide_num.append(divide)\n",
        "            divide = divide + 1\n",
        "        else:\n",
        "            divide = divide + 1\n",
        "\n",
        "    divide_num.sort(reverse = True)\n",
        "\n",
        "    for i in range(len(divide_num)):\n",
        "        #divide_num이 세로, mok이 가로\n",
        "        #1줄은 반드시 노란색임.\n",
        "        #그래서 전체 가로에서 2칸 빼고, 전체 세로에서 2칸 뺀 것을 곱한 것이 노란색 칸 수랑 같아야 됨\n",
        "        mok = area // divide_num[i]\n",
        "        if (mok-2)*(divide_num[i]-2)==yellow and mok >= divide_num[i]:\n",
        "            answer = [mok, divide_num[i]]\n",
        "\n",
        "    return answer"
      ],
      "metadata": {
        "id": "wj85u_W35h3G"
      },
      "execution_count": null,
      "outputs": []
    }
  ]
}