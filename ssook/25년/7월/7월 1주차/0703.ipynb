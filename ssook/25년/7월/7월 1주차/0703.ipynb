{
  "nbformat": 4,
  "nbformat_minor": 0,
  "metadata": {
    "colab": {
      "provenance": [],
      "authorship_tag": "ABX9TyMMOXPY/SfGharLLkq7SgIW",
      "include_colab_link": true
    },
    "kernelspec": {
      "name": "python3",
      "display_name": "Python 3"
    },
    "language_info": {
      "name": "python"
    }
  },
  "cells": [
    {
      "cell_type": "markdown",
      "metadata": {
        "id": "view-in-github",
        "colab_type": "text"
      },
      "source": [
        "<a href=\"https://colab.research.google.com/github/ssook1222/1Day-1Algo/blob/master/ssook/25%EB%85%84/7%EC%9B%94/7%EC%9B%94%201%EC%A3%BC%EC%B0%A8/0703.ipynb\" target=\"_parent\"><img src=\"https://colab.research.google.com/assets/colab-badge.svg\" alt=\"Open In Colab\"/></a>"
      ]
    },
    {
      "cell_type": "markdown",
      "source": [
        "## BoJ"
      ],
      "metadata": {
        "id": "erpX89aZlNvv"
      }
    },
    {
      "cell_type": "markdown",
      "source": [
        "### 32215"
      ],
      "metadata": {
        "id": "5PV1paY7lPvR"
      }
    },
    {
      "cell_type": "code",
      "execution_count": null,
      "metadata": {
        "id": "2N9aph18k19H"
      },
      "outputs": [],
      "source": [
        "# 입력 받기\n",
        "n, m, k = map(int, input().split())\n",
        "\n",
        "# 도훈이가 설치한 횟수: k대의 컴퓨터에 m개씩 설치\n",
        "dohun_installs = k * m\n",
        "\n",
        "# 차형준 선생님이 노트북에 설치한 횟수: 에디터 m개를 1번씩 설치\n",
        "teacher_installs = m\n",
        "\n",
        "# 총 설치 횟수 (매크로는 횟수에 포함되지 않음)\n",
        "total_installs = dohun_installs + teacher_installs\n",
        "\n",
        "# 출력\n",
        "print(total_installs)"
      ]
    },
    {
      "cell_type": "markdown",
      "source": [
        "## Programmers"
      ],
      "metadata": {
        "id": "FzcJRKs-lQbF"
      }
    },
    {
      "cell_type": "markdown",
      "source": [
        "### 소문자로 바꾸기"
      ],
      "metadata": {
        "id": "J6_MQF1XlSE8"
      }
    },
    {
      "cell_type": "code",
      "source": [
        "def solution(myString):\n",
        "    answer = myString.lower()\n",
        "    return answer"
      ],
      "metadata": {
        "id": "C6S8qY8nlSr5"
      },
      "execution_count": null,
      "outputs": []
    }
  ]
}