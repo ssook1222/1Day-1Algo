{
  "nbformat": 4,
  "nbformat_minor": 0,
  "metadata": {
    "colab": {
      "provenance": [],
      "authorship_tag": "ABX9TyOBjGVORukroMG+mFXk3+am",
      "include_colab_link": true
    },
    "kernelspec": {
      "name": "python3",
      "display_name": "Python 3"
    },
    "language_info": {
      "name": "python"
    }
  },
  "cells": [
    {
      "cell_type": "markdown",
      "metadata": {
        "id": "view-in-github",
        "colab_type": "text"
      },
      "source": [
        "<a href=\"https://colab.research.google.com/github/ssook1222/1Day-1Algo/blob/master/ssook/25%EB%85%84/7%EC%9B%94/7%EC%9B%94%201%EC%A3%BC%EC%B0%A8/0702.ipynb\" target=\"_parent\"><img src=\"https://colab.research.google.com/assets/colab-badge.svg\" alt=\"Open In Colab\"/></a>"
      ]
    },
    {
      "cell_type": "markdown",
      "source": [
        "## BoJ"
      ],
      "metadata": {
        "id": "erpX89aZlNvv"
      }
    },
    {
      "cell_type": "markdown",
      "source": [
        "### 32776"
      ],
      "metadata": {
        "id": "5PV1paY7lPvR"
      }
    },
    {
      "cell_type": "code",
      "execution_count": null,
      "metadata": {
        "id": "2N9aph18k19H"
      },
      "outputs": [],
      "source": [
        "# 입력\n",
        "S_ab = int(input())  # 고속철도 시간\n",
        "M_a, F_ab, M_b = map(int, input().split())  # 항공편 시간 구성요소\n",
        "\n",
        "# 항공편 총 소요 시간\n",
        "flight_time = M_a + F_ab + M_b\n",
        "\n",
        "# 조건 1: 항공편이 고속철도보다 느리거나 같음\n",
        "condition1 = flight_time >= S_ab\n",
        "\n",
        "# 조건 2: 철도를 좋아하고 고속철도 소요시간이 4시간(=240분) 이하\n",
        "condition2 = S_ab <= 240\n",
        "\n",
        "# 둘 중 하나라도 만족하면 고속철도 이용\n",
        "if condition1 or condition2:\n",
        "    print(\"high speed rail\")\n",
        "else:\n",
        "    print(\"flight\")"
      ]
    },
    {
      "cell_type": "markdown",
      "source": [
        "## Programmers"
      ],
      "metadata": {
        "id": "FzcJRKs-lQbF"
      }
    },
    {
      "cell_type": "markdown",
      "source": [
        "### 배열 만들기 3"
      ],
      "metadata": {
        "id": "J6_MQF1XlSE8"
      }
    },
    {
      "cell_type": "code",
      "source": [
        "from functools import reduce\n",
        "import operator\n",
        "\n",
        "def solution(arr, intervals):\n",
        "    answer = []\n",
        "\n",
        "    for i in range(len(intervals)):\n",
        "        answer.append(arr[intervals[i][0]:intervals[i][1]+1])\n",
        "\n",
        "    answer = list(reduce(operator.add, answer))\n",
        "    return answer"
      ],
      "metadata": {
        "id": "C6S8qY8nlSr5"
      },
      "execution_count": null,
      "outputs": []
    }
  ]
}