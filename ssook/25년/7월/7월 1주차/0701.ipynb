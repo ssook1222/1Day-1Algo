{
  "nbformat": 4,
  "nbformat_minor": 0,
  "metadata": {
    "colab": {
      "provenance": [],
      "authorship_tag": "ABX9TyMLIFxLh4UgVoBDW+5fBFSp",
      "include_colab_link": true
    },
    "kernelspec": {
      "name": "python3",
      "display_name": "Python 3"
    },
    "language_info": {
      "name": "python"
    }
  },
  "cells": [
    {
      "cell_type": "markdown",
      "metadata": {
        "id": "view-in-github",
        "colab_type": "text"
      },
      "source": [
        "<a href=\"https://colab.research.google.com/github/ssook1222/1Day-1Algo/blob/master/ssook/25%EB%85%84/7%EC%9B%94/7%EC%9B%94%201%EC%A3%BC%EC%B0%A8/0701.ipynb\" target=\"_parent\"><img src=\"https://colab.research.google.com/assets/colab-badge.svg\" alt=\"Open In Colab\"/></a>"
      ]
    },
    {
      "cell_type": "markdown",
      "source": [
        "## BoJ"
      ],
      "metadata": {
        "id": "erpX89aZlNvv"
      }
    },
    {
      "cell_type": "markdown",
      "source": [
        "### 32801"
      ],
      "metadata": {
        "id": "5PV1paY7lPvR"
      }
    },
    {
      "cell_type": "code",
      "execution_count": null,
      "metadata": {
        "id": "2N9aph18k19H"
      },
      "outputs": [],
      "source": [
        "import math\n",
        "\n",
        "# 입력 받기\n",
        "n, a, b = map(int, input().split())\n",
        "\n",
        "# 공배수를 구하기 위해 최소공배수(lcm) 계산\n",
        "def lcm(x, y):\n",
        "    return x * y // math.gcd(x, y)\n",
        "\n",
        "# FizzBuzz는 a와 b의 공배수\n",
        "ab = lcm(a, b)\n",
        "fizzbuzz_count = n // ab\n",
        "fizz_count = n // a - fizzbuzz_count\n",
        "buzz_count = n // b - fizzbuzz_count\n",
        "\n",
        "# 출력\n",
        "print(fizz_count, buzz_count, fizzbuzz_count)"
      ]
    },
    {
      "cell_type": "markdown",
      "source": [
        "## Programmers"
      ],
      "metadata": {
        "id": "FzcJRKs-lQbF"
      }
    },
    {
      "cell_type": "markdown",
      "source": [
        "### 첫 번째로 나오는 음수"
      ],
      "metadata": {
        "id": "J6_MQF1XlSE8"
      }
    },
    {
      "cell_type": "code",
      "source": [
        "def solution(num_list):\n",
        "    answer = 0\n",
        "    check = False\n",
        "\n",
        "    for i in range(len(num_list)):\n",
        "        if num_list[i] < 0:\n",
        "            check = True\n",
        "            answer = i\n",
        "            break\n",
        "\n",
        "    if check == False:\n",
        "        answer = -1\n",
        "\n",
        "    return answer"
      ],
      "metadata": {
        "id": "C6S8qY8nlSr5"
      },
      "execution_count": null,
      "outputs": []
    }
  ]
}