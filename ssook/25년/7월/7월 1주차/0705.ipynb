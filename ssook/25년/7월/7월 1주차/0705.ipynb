{
  "nbformat": 4,
  "nbformat_minor": 0,
  "metadata": {
    "colab": {
      "provenance": [],
      "authorship_tag": "ABX9TyOJrfNHwXTeF2bfNMtcr9vj",
      "include_colab_link": true
    },
    "kernelspec": {
      "name": "python3",
      "display_name": "Python 3"
    },
    "language_info": {
      "name": "python"
    }
  },
  "cells": [
    {
      "cell_type": "markdown",
      "metadata": {
        "id": "view-in-github",
        "colab_type": "text"
      },
      "source": [
        "<a href=\"https://colab.research.google.com/github/ssook1222/1Day-1Algo/blob/master/ssook/25%EB%85%84/7%EC%9B%94/7%EC%9B%94%201%EC%A3%BC%EC%B0%A8/0705.ipynb\" target=\"_parent\"><img src=\"https://colab.research.google.com/assets/colab-badge.svg\" alt=\"Open In Colab\"/></a>"
      ]
    },
    {
      "cell_type": "markdown",
      "source": [
        "## BoJ"
      ],
      "metadata": {
        "id": "erpX89aZlNvv"
      }
    },
    {
      "cell_type": "markdown",
      "source": [
        "### 31867"
      ],
      "metadata": {
        "id": "5PV1paY7lPvR"
      }
    },
    {
      "cell_type": "code",
      "execution_count": null,
      "metadata": {
        "id": "2N9aph18k19H"
      },
      "outputs": [],
      "source": [
        "# 입력 받기\n",
        "N = int(input())  # 자릿수 N\n",
        "K = input().strip()  # 자연수 K (문자열로 받기)\n",
        "\n",
        "# 홀수와 짝수의 개수\n",
        "even_count = 0\n",
        "odd_count = 0\n",
        "\n",
        "# 각 자릿수를 확인\n",
        "for digit in K:\n",
        "    num = int(digit)\n",
        "    if num % 2 == 0:  # 짝수일 경우\n",
        "        even_count += 1\n",
        "    else:  # 홀수일 경우\n",
        "        odd_count += 1\n",
        "\n",
        "# 결과 판단\n",
        "if even_count > odd_count:\n",
        "    print(0)  # 짝짝수\n",
        "elif odd_count > even_count:\n",
        "    print(1)  # 홀홀수\n",
        "else:\n",
        "    print(-1)  # 둘 다 아닌 경우"
      ]
    },
    {
      "cell_type": "markdown",
      "source": [
        "## Programmers"
      ],
      "metadata": {
        "id": "FzcJRKs-lQbF"
      }
    },
    {
      "cell_type": "markdown",
      "source": [
        "### 할 일 목록"
      ],
      "metadata": {
        "id": "J6_MQF1XlSE8"
      }
    },
    {
      "cell_type": "code",
      "source": [
        "def solution(todo_list, finished):\n",
        "    answer = []\n",
        "\n",
        "    for i in range(len(finished)):\n",
        "        if finished[i] == False:\n",
        "            answer.append(todo_list[i])\n",
        "\n",
        "    return answer"
      ],
      "metadata": {
        "id": "C6S8qY8nlSr5"
      },
      "execution_count": null,
      "outputs": []
    }
  ]
}