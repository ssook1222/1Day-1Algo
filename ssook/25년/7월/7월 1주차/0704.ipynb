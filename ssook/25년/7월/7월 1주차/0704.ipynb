{
  "nbformat": 4,
  "nbformat_minor": 0,
  "metadata": {
    "colab": {
      "provenance": [],
      "authorship_tag": "ABX9TyNbeADLWNVZ8QQB91Zy1uEY",
      "include_colab_link": true
    },
    "kernelspec": {
      "name": "python3",
      "display_name": "Python 3"
    },
    "language_info": {
      "name": "python"
    }
  },
  "cells": [
    {
      "cell_type": "markdown",
      "metadata": {
        "id": "view-in-github",
        "colab_type": "text"
      },
      "source": [
        "<a href=\"https://colab.research.google.com/github/ssook1222/1Day-1Algo/blob/master/ssook/25%EB%85%84/7%EC%9B%94/7%EC%9B%94%201%EC%A3%BC%EC%B0%A8/0704.ipynb\" target=\"_parent\"><img src=\"https://colab.research.google.com/assets/colab-badge.svg\" alt=\"Open In Colab\"/></a>"
      ]
    },
    {
      "cell_type": "markdown",
      "source": [
        "## BoJ"
      ],
      "metadata": {
        "id": "erpX89aZlNvv"
      }
    },
    {
      "cell_type": "markdown",
      "source": [
        "### 31994"
      ],
      "metadata": {
        "id": "5PV1paY7lPvR"
      }
    },
    {
      "cell_type": "code",
      "execution_count": null,
      "metadata": {
        "id": "2N9aph18k19H"
      },
      "outputs": [],
      "source": [
        "# 세미나 이름과 신청자 수를 저장할 변수\n",
        "seminars = []\n",
        "\n",
        "# 입력 받기\n",
        "for _ in range(7):\n",
        "    name, applicants = input().split()\n",
        "    applicants = int(applicants)  # 신청자 수를 정수로 변환\n",
        "    seminars.append((name, applicants))\n",
        "\n",
        "# 신청자 수가 가장 많은 세미나를 찾기\n",
        "seminar_with_max_applicants = max(seminars, key=lambda x: x[1])\n",
        "\n",
        "# 출력: 신청자 수가 가장 많은 세미나의 이름 출력\n",
        "print(seminar_with_max_applicants[0])\n"
      ]
    },
    {
      "cell_type": "markdown",
      "source": [
        "## Programmers"
      ],
      "metadata": {
        "id": "FzcJRKs-lQbF"
      }
    },
    {
      "cell_type": "markdown",
      "source": [
        "### 길이에 따른 연산"
      ],
      "metadata": {
        "id": "J6_MQF1XlSE8"
      }
    },
    {
      "cell_type": "code",
      "source": [
        "def solution(num_list):\n",
        "    answer = 1\n",
        "\n",
        "    if len(num_list) >= 11:\n",
        "        answer = sum(num_list)\n",
        "\n",
        "    if len(num_list) <= 10:\n",
        "        for i in range(len(num_list)):\n",
        "            print(num_list[i])\n",
        "            answer = num_list[i] * answer\n",
        "\n",
        "    return answer"
      ],
      "metadata": {
        "id": "C6S8qY8nlSr5"
      },
      "execution_count": null,
      "outputs": []
    }
  ]
}