{
  "nbformat": 4,
  "nbformat_minor": 0,
  "metadata": {
    "colab": {
      "provenance": [],
      "authorship_tag": "ABX9TyPwGOT5b/g6i8STUUoi/LQZ",
      "include_colab_link": true
    },
    "kernelspec": {
      "name": "python3",
      "display_name": "Python 3"
    },
    "language_info": {
      "name": "python"
    }
  },
  "cells": [
    {
      "cell_type": "markdown",
      "metadata": {
        "id": "view-in-github",
        "colab_type": "text"
      },
      "source": [
        "<a href=\"https://colab.research.google.com/github/ssook1222/1Day-1Algo/blob/master/ssook/25%EB%85%84/7%EC%9B%94/7%EC%9B%94%202%EC%A3%BC%EC%B0%A8/0709.ipynb\" target=\"_parent\"><img src=\"https://colab.research.google.com/assets/colab-badge.svg\" alt=\"Open In Colab\"/></a>"
      ]
    },
    {
      "cell_type": "markdown",
      "source": [
        "## BoJ"
      ],
      "metadata": {
        "id": "MmzzJYGGjxiH"
      }
    },
    {
      "cell_type": "markdown",
      "source": [
        "### 29991\n",
        "\n",
        "---\n",
        "\n",
        "pypy"
      ],
      "metadata": {
        "id": "6X-6ZbINjzg9"
      }
    },
    {
      "cell_type": "code",
      "execution_count": null,
      "metadata": {
        "id": "Xtknu726jfMg"
      },
      "outputs": [],
      "source": [
        "def williams_vacation():\n",
        "    D, C, R = map(int, input().split())\n",
        "    tiring = [int(input()) for _ in range(C)]\n",
        "    invigorating = [int(input()) for _ in range(R)]\n",
        "\n",
        "    c_idx = 0  # Index for tiring activities\n",
        "    r_idx = 0  # Index for invigorating activities\n",
        "    count = 0\n",
        "\n",
        "    while True:\n",
        "        if c_idx < C and D >= tiring[c_idx]:\n",
        "            # Perform tiring activity\n",
        "            D -= tiring[c_idx]\n",
        "            c_idx += 1\n",
        "            count += 1\n",
        "        elif r_idx < R:\n",
        "            # Perform invigorating activity\n",
        "            D += invigorating[r_idx]\n",
        "            r_idx += 1\n",
        "            count += 1\n",
        "        else:\n",
        "            # No more activities can be done\n",
        "            break\n",
        "\n",
        "    print(count)\n",
        "\n",
        "williams_vacation()\n"
      ]
    },
    {
      "cell_type": "markdown",
      "source": [
        "## Programmers"
      ],
      "metadata": {
        "id": "slgIoIhPj2TK"
      }
    },
    {
      "cell_type": "markdown",
      "source": [
        "### 원소들의 곱과 합"
      ],
      "metadata": {
        "id": "EC3uFcNDj4ZG"
      }
    },
    {
      "cell_type": "code",
      "source": [
        "def solution(num_list):\n",
        "    answer = 0\n",
        "    gop = 1\n",
        "    bigyo = 0\n",
        "    for i in num_list:\n",
        "        gop = i * gop\n",
        "\n",
        "    if gop < sum(num_list)**2:\n",
        "        answer = 1\n",
        "    elif gop > sum(num_list)**2:\n",
        "        answer = 0\n",
        "\n",
        "    return answer"
      ],
      "metadata": {
        "id": "tNE1xNRfj5te"
      },
      "execution_count": null,
      "outputs": []
    }
  ]
}