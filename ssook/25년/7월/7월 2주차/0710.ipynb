{
  "nbformat": 4,
  "nbformat_minor": 0,
  "metadata": {
    "colab": {
      "provenance": [],
      "authorship_tag": "ABX9TyM465qEt/NCcI7vaAK7vUjZ",
      "include_colab_link": true
    },
    "kernelspec": {
      "name": "python3",
      "display_name": "Python 3"
    },
    "language_info": {
      "name": "python"
    }
  },
  "cells": [
    {
      "cell_type": "markdown",
      "metadata": {
        "id": "view-in-github",
        "colab_type": "text"
      },
      "source": [
        "<a href=\"https://colab.research.google.com/github/ssook1222/1Day-1Algo/blob/master/ssook/25%EB%85%84/7%EC%9B%94/7%EC%9B%94%202%EC%A3%BC%EC%B0%A8/0710.ipynb\" target=\"_parent\"><img src=\"https://colab.research.google.com/assets/colab-badge.svg\" alt=\"Open In Colab\"/></a>"
      ]
    },
    {
      "cell_type": "markdown",
      "source": [
        "## BoJ"
      ],
      "metadata": {
        "id": "MmzzJYGGjxiH"
      }
    },
    {
      "cell_type": "markdown",
      "source": [
        "### 33135"
      ],
      "metadata": {
        "id": "6X-6ZbINjzg9"
      }
    },
    {
      "cell_type": "code",
      "execution_count": null,
      "metadata": {
        "id": "Xtknu726jfMg"
      },
      "outputs": [],
      "source": [
        "def find_original_length(S):\n",
        "    for i in range(1, len(S)):\n",
        "        t_candidate = S[:i]\n",
        "        processed = ''.join(sorted(set(t_candidate)))\n",
        "        if S == t_candidate + processed:\n",
        "            print(len(t_candidate))\n",
        "            return\n",
        "\n",
        "# 예시 실행\n",
        "S = input().strip()\n",
        "find_original_length(S)\n"
      ]
    },
    {
      "cell_type": "markdown",
      "source": [
        "## Programmers"
      ],
      "metadata": {
        "id": "slgIoIhPj2TK"
      }
    },
    {
      "cell_type": "markdown",
      "source": [
        "### 더 크게 합치기"
      ],
      "metadata": {
        "id": "EC3uFcNDj4ZG"
      }
    },
    {
      "cell_type": "code",
      "source": [
        "def solution(a, b):\n",
        "    answer = 0\n",
        "\n",
        "    num1 = str(a)+str(b)\n",
        "    num2 = str(b)+str(a)\n",
        "\n",
        "    answer = max(int(num1), int(num2))\n",
        "\n",
        "    return answer"
      ],
      "metadata": {
        "id": "tNE1xNRfj5te"
      },
      "execution_count": null,
      "outputs": []
    }
  ]
}