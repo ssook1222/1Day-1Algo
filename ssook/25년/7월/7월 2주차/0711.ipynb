{
  "nbformat": 4,
  "nbformat_minor": 0,
  "metadata": {
    "colab": {
      "provenance": [],
      "authorship_tag": "ABX9TyOGutD6zY9wDkDYeeRV7Cww",
      "include_colab_link": true
    },
    "kernelspec": {
      "name": "python3",
      "display_name": "Python 3"
    },
    "language_info": {
      "name": "python"
    }
  },
  "cells": [
    {
      "cell_type": "markdown",
      "metadata": {
        "id": "view-in-github",
        "colab_type": "text"
      },
      "source": [
        "<a href=\"https://colab.research.google.com/github/ssook1222/1Day-1Algo/blob/master/ssook/25%EB%85%84/7%EC%9B%94/7%EC%9B%94%202%EC%A3%BC%EC%B0%A8/0711.ipynb\" target=\"_parent\"><img src=\"https://colab.research.google.com/assets/colab-badge.svg\" alt=\"Open In Colab\"/></a>"
      ]
    },
    {
      "cell_type": "markdown",
      "source": [
        "## BoJ"
      ],
      "metadata": {
        "id": "MmzzJYGGjxiH"
      }
    },
    {
      "cell_type": "markdown",
      "source": [
        "### 32800\n",
        "---\n",
        "pypy"
      ],
      "metadata": {
        "id": "6X-6ZbINjzg9"
      }
    },
    {
      "cell_type": "code",
      "execution_count": null,
      "metadata": {
        "id": "Xtknu726jfMg"
      },
      "outputs": [],
      "source": [
        "n = int(input())\n",
        "current = 0\n",
        "max_capacity = 0\n",
        "\n",
        "for _ in range(n):\n",
        "    a, b = map(int, input().split())\n",
        "    current -= a\n",
        "    current += b\n",
        "    max_capacity = max(max_capacity, current)\n",
        "\n",
        "print(max_capacity)\n"
      ]
    },
    {
      "cell_type": "markdown",
      "source": [
        "## Programmers"
      ],
      "metadata": {
        "id": "slgIoIhPj2TK"
      }
    },
    {
      "cell_type": "markdown",
      "source": [
        "### ad 제거하기"
      ],
      "metadata": {
        "id": "EC3uFcNDj4ZG"
      }
    },
    {
      "cell_type": "code",
      "source": [
        "def solution(strArr):\n",
        "    answer = []\n",
        "\n",
        "    for i in range(len(strArr)):\n",
        "        if \"ad\" not in strArr[i]:\n",
        "            answer.append(strArr[i])\n",
        "\n",
        "    return answer"
      ],
      "metadata": {
        "id": "tNE1xNRfj5te"
      },
      "execution_count": null,
      "outputs": []
    }
  ]
}