{
  "nbformat": 4,
  "nbformat_minor": 0,
  "metadata": {
    "colab": {
      "provenance": [],
      "authorship_tag": "ABX9TyOVpnCli0Ylas7Z8aDEe/kc",
      "include_colab_link": true
    },
    "kernelspec": {
      "name": "python3",
      "display_name": "Python 3"
    },
    "language_info": {
      "name": "python"
    }
  },
  "cells": [
    {
      "cell_type": "markdown",
      "metadata": {
        "id": "view-in-github",
        "colab_type": "text"
      },
      "source": [
        "<a href=\"https://colab.research.google.com/github/ssook1222/1Day-1Algo/blob/master/ssook/25%EB%85%84/7%EC%9B%94/7%EC%9B%94%202%EC%A3%BC%EC%B0%A8/0708.ipynb\" target=\"_parent\"><img src=\"https://colab.research.google.com/assets/colab-badge.svg\" alt=\"Open In Colab\"/></a>"
      ]
    },
    {
      "cell_type": "markdown",
      "source": [
        "## BoJ"
      ],
      "metadata": {
        "id": "MmzzJYGGjxiH"
      }
    },
    {
      "cell_type": "markdown",
      "source": [
        "### 6243"
      ],
      "metadata": {
        "id": "6X-6ZbINjzg9"
      }
    },
    {
      "cell_type": "code",
      "execution_count": null,
      "metadata": {
        "id": "Xtknu726jfMg"
      },
      "outputs": [],
      "source": [
        "def calculate_mileage(actual, cls):\n",
        "    if cls == 'F':\n",
        "        return actual * 2  # 100% bonus\n",
        "    elif cls == 'B':\n",
        "        return int(actual * 1.5 + 0.5)  # 50% bonus, round to nearest\n",
        "    elif cls == 'Y':\n",
        "        return max(500, actual)\n",
        "    else:\n",
        "        return 0  # invalid class\n",
        "\n",
        "results = []\n",
        "total = 0\n",
        "\n",
        "while True:\n",
        "    line = input().strip()\n",
        "    if line == \"#\":\n",
        "        break\n",
        "    if line == \"0\":\n",
        "        results.append(total)\n",
        "        total = 0\n",
        "        continue\n",
        "    parts = line.split()\n",
        "    from_city, to_city, miles, cls = parts\n",
        "    miles = int(miles)\n",
        "    earned = calculate_mileage(miles, cls)\n",
        "    total += earned\n",
        "\n",
        "for r in results:\n",
        "    print(r)\n"
      ]
    },
    {
      "cell_type": "markdown",
      "source": [
        "## Programmers"
      ],
      "metadata": {
        "id": "slgIoIhPj2TK"
      }
    },
    {
      "cell_type": "markdown",
      "source": [
        "### n의 배수"
      ],
      "metadata": {
        "id": "EC3uFcNDj4ZG"
      }
    },
    {
      "cell_type": "code",
      "source": [
        "def solution(num, n):\n",
        "    answer = 0\n",
        "\n",
        "    if num % n == 0:\n",
        "        answer = 1\n",
        "    else:\n",
        "        answer = 0\n",
        "\n",
        "    return answer"
      ],
      "metadata": {
        "id": "tNE1xNRfj5te"
      },
      "execution_count": null,
      "outputs": []
    }
  ]
}