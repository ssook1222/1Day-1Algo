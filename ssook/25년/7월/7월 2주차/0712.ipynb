{
  "nbformat": 4,
  "nbformat_minor": 0,
  "metadata": {
    "colab": {
      "provenance": [],
      "authorship_tag": "ABX9TyMf3wr5Tw/GxjLMSu4BP8Sx",
      "include_colab_link": true
    },
    "kernelspec": {
      "name": "python3",
      "display_name": "Python 3"
    },
    "language_info": {
      "name": "python"
    }
  },
  "cells": [
    {
      "cell_type": "markdown",
      "metadata": {
        "id": "view-in-github",
        "colab_type": "text"
      },
      "source": [
        "<a href=\"https://colab.research.google.com/github/ssook1222/1Day-1Algo/blob/master/ssook/25%EB%85%84/7%EC%9B%94/7%EC%9B%94%202%EC%A3%BC%EC%B0%A8/0712.ipynb\" target=\"_parent\"><img src=\"https://colab.research.google.com/assets/colab-badge.svg\" alt=\"Open In Colab\"/></a>"
      ]
    },
    {
      "cell_type": "markdown",
      "source": [
        "## BoJ"
      ],
      "metadata": {
        "id": "MmzzJYGGjxiH"
      }
    },
    {
      "cell_type": "markdown",
      "source": [
        "### 32661"
      ],
      "metadata": {
        "id": "6X-6ZbINjzg9"
      }
    },
    {
      "cell_type": "code",
      "execution_count": null,
      "metadata": {
        "id": "Xtknu726jfMg"
      },
      "outputs": [],
      "source": [
        "n = int(input())\n",
        "prices = [int(input()) for _ in range(n)]\n",
        "\n",
        "max_price = max(prices)\n",
        "min_price = min(prices)\n",
        "\n",
        "reimbursement_limit = max_price // 2\n",
        "reimbursement = min(min_price, reimbursement_limit)\n",
        "\n",
        "net_cost = min_price - reimbursement\n",
        "print(net_cost)\n"
      ]
    },
    {
      "cell_type": "markdown",
      "source": [
        "## Programmers"
      ],
      "metadata": {
        "id": "slgIoIhPj2TK"
      }
    },
    {
      "cell_type": "markdown",
      "source": [
        "### 길이에 따른 연산"
      ],
      "metadata": {
        "id": "EC3uFcNDj4ZG"
      }
    },
    {
      "cell_type": "code",
      "source": [
        "def solution(num_list):\n",
        "    answer = 1\n",
        "\n",
        "    if len(num_list) >= 11:\n",
        "        answer = sum(num_list)\n",
        "\n",
        "    if len(num_list) <= 10:\n",
        "        for i in range(len(num_list)):\n",
        "            print(num_list[i])\n",
        "            answer = num_list[i] * answer\n",
        "\n",
        "    return answer"
      ],
      "metadata": {
        "id": "tNE1xNRfj5te"
      },
      "execution_count": null,
      "outputs": []
    }
  ]
}