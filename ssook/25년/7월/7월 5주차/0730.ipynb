{
  "nbformat": 4,
  "nbformat_minor": 0,
  "metadata": {
    "colab": {
      "provenance": [],
      "authorship_tag": "ABX9TyMXaxrtvjn7tbqYHWBsx1J+",
      "include_colab_link": true
    },
    "kernelspec": {
      "name": "python3",
      "display_name": "Python 3"
    },
    "language_info": {
      "name": "python"
    }
  },
  "cells": [
    {
      "cell_type": "markdown",
      "metadata": {
        "id": "view-in-github",
        "colab_type": "text"
      },
      "source": [
        "<a href=\"https://colab.research.google.com/github/ssook1222/1Day-1Algo/blob/master/ssook/25%EB%85%84/7%EC%9B%94/7%EC%9B%94%205%EC%A3%BC%EC%B0%A8/0730.ipynb\" target=\"_parent\"><img src=\"https://colab.research.google.com/assets/colab-badge.svg\" alt=\"Open In Colab\"/></a>"
      ]
    },
    {
      "cell_type": "markdown",
      "source": [
        "## BoJ"
      ],
      "metadata": {
        "id": "tYe0KKt06trn"
      }
    },
    {
      "cell_type": "markdown",
      "source": [
        "### 24768"
      ],
      "metadata": {
        "id": "gLcimMmi6wF1"
      }
    },
    {
      "cell_type": "code",
      "source": [
        "while True:\n",
        "    sweet, sour = map(int, input().split())\n",
        "    if sweet == 0 and sour == 0:\n",
        "        break\n",
        "\n",
        "    total = sweet + sour\n",
        "\n",
        "    if total == 13:\n",
        "        print(\"Never speak again.\")\n",
        "    elif sweet > sour:\n",
        "        print(\"To the convention.\")\n",
        "    elif sweet < sour:\n",
        "        print(\"Left beehind.\")\n",
        "    else:\n",
        "        print(\"Undecided.\")"
      ],
      "metadata": {
        "id": "y46bn7eF63Jf"
      },
      "execution_count": null,
      "outputs": []
    },
    {
      "cell_type": "markdown",
      "source": [
        "## Programmers"
      ],
      "metadata": {
        "id": "9pkEc3oA63e6"
      }
    },
    {
      "cell_type": "markdown",
      "source": [
        "### 정수를 나선형으로 배치하기"
      ],
      "metadata": {
        "id": "K3BI8TEq64-z"
      }
    },
    {
      "cell_type": "code",
      "source": [
        "def solution(n):\n",
        "    answer = [[0] * n for _ in range(n)]\n",
        "\n",
        "    dx = [0,1,0,-1]\n",
        "    dy = [1,0,-1,0]\n",
        "    x, y, dir = 0,0,0\n",
        "\n",
        "    for i in range(1, n*n+1):\n",
        "        answer[x][y] = i\n",
        "\n",
        "        nx = x + dx[dir]\n",
        "        ny = y + dy[dir]\n",
        "\n",
        "        if nx < 0 or nx >= n or ny < 0 or ny >= n or answer[nx][ny] != 0:\n",
        "            dir = (dir + 1) % 4\n",
        "            nx, ny = x + dx[dir], y + dy[dir]\n",
        "\n",
        "        x, y = nx, ny\n",
        "\n",
        "    return answer"
      ],
      "metadata": {
        "id": "nCubh9dv65k3"
      },
      "execution_count": null,
      "outputs": []
    }
  ]
}