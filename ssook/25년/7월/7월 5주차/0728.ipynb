{
  "nbformat": 4,
  "nbformat_minor": 0,
  "metadata": {
    "colab": {
      "provenance": [],
      "authorship_tag": "ABX9TyOapyXT5WYlUXCMD6AVR72G",
      "include_colab_link": true
    },
    "kernelspec": {
      "name": "python3",
      "display_name": "Python 3"
    },
    "language_info": {
      "name": "python"
    }
  },
  "cells": [
    {
      "cell_type": "markdown",
      "metadata": {
        "id": "view-in-github",
        "colab_type": "text"
      },
      "source": [
        "<a href=\"https://colab.research.google.com/github/ssook1222/1Day-1Algo/blob/master/ssook/25%EB%85%84/7%EC%9B%94/7%EC%9B%94%205%EC%A3%BC%EC%B0%A8/0728.ipynb\" target=\"_parent\"><img src=\"https://colab.research.google.com/assets/colab-badge.svg\" alt=\"Open In Colab\"/></a>"
      ]
    },
    {
      "cell_type": "markdown",
      "source": [
        "## BoJ"
      ],
      "metadata": {
        "id": "tYe0KKt06trn"
      }
    },
    {
      "cell_type": "markdown",
      "source": [
        "### 1076"
      ],
      "metadata": {
        "id": "gLcimMmi6wF1"
      }
    },
    {
      "cell_type": "code",
      "source": [
        "# 색상에 따른 값과 곱을 저장한 딕셔너리\n",
        "resistor_colors = {\n",
        "    'black':  (0, 1),\n",
        "    'brown':  (1, 10),\n",
        "    'red':    (2, 100),\n",
        "    'orange': (3, 1_000),\n",
        "    'yellow': (4, 10_000),\n",
        "    'green':  (5, 100_000),\n",
        "    'blue':   (6, 1_000_000),\n",
        "    'violet': (7, 10_000_000),\n",
        "    'grey':   (8, 100_000_000),\n",
        "    'white':  (9, 1_000_000_000)\n",
        "}\n",
        "\n",
        "# 입력 받기\n",
        "color1 = input().strip()\n",
        "color2 = input().strip()\n",
        "color3 = input().strip()\n",
        "\n",
        "# 값 계산\n",
        "first_digit = resistor_colors[color1][0]\n",
        "second_digit = resistor_colors[color2][0]\n",
        "multiplier = resistor_colors[color3][1]\n",
        "\n",
        "# 최종 저항 값 계산\n",
        "resistance = (first_digit * 10 + second_digit) * multiplier\n",
        "\n",
        "# 출력\n",
        "print(resistance)\n"
      ],
      "metadata": {
        "id": "y46bn7eF63Jf"
      },
      "execution_count": null,
      "outputs": []
    },
    {
      "cell_type": "markdown",
      "source": [
        "## Programmers"
      ],
      "metadata": {
        "id": "9pkEc3oA63e6"
      }
    },
    {
      "cell_type": "markdown",
      "source": [
        "### 커피 심부름"
      ],
      "metadata": {
        "id": "K3BI8TEq64-z"
      }
    },
    {
      "cell_type": "code",
      "source": [
        "def solution(order):\n",
        "    answer = 0\n",
        "\n",
        "    for i in order:\n",
        "        if i == 'iceamericano' or i == 'americanoice' or i == 'americano' or i == 'anything':\n",
        "            answer += 4500\n",
        "\n",
        "        if i == 'hotamericano' or i == 'americanohot':\n",
        "            answer += 4500\n",
        "\n",
        "        if i == 'icecafelatte' or i == 'cafelatteice' or i == 'cafelatte':\n",
        "            answer += 5000\n",
        "\n",
        "        if i == 'hotcafelatte' or i == 'cafelattehot':\n",
        "            answer += 5000\n",
        "\n",
        "\n",
        "\n",
        "    return answer"
      ],
      "metadata": {
        "id": "nCubh9dv65k3"
      },
      "execution_count": null,
      "outputs": []
    }
  ]
}