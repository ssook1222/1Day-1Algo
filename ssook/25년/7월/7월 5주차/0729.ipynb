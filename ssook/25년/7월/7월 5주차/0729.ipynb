{
  "nbformat": 4,
  "nbformat_minor": 0,
  "metadata": {
    "colab": {
      "provenance": [],
      "authorship_tag": "ABX9TyNzzGufnfFf75SZ53w9uidt",
      "include_colab_link": true
    },
    "kernelspec": {
      "name": "python3",
      "display_name": "Python 3"
    },
    "language_info": {
      "name": "python"
    }
  },
  "cells": [
    {
      "cell_type": "markdown",
      "metadata": {
        "id": "view-in-github",
        "colab_type": "text"
      },
      "source": [
        "<a href=\"https://colab.research.google.com/github/ssook1222/1Day-1Algo/blob/master/ssook/25%EB%85%84/7%EC%9B%94/7%EC%9B%94%205%EC%A3%BC%EC%B0%A8/0729.ipynb\" target=\"_parent\"><img src=\"https://colab.research.google.com/assets/colab-badge.svg\" alt=\"Open In Colab\"/></a>"
      ]
    },
    {
      "cell_type": "markdown",
      "source": [
        "## BoJ"
      ],
      "metadata": {
        "id": "tYe0KKt06trn"
      }
    },
    {
      "cell_type": "markdown",
      "source": [
        "### 21875"
      ],
      "metadata": {
        "id": "gLcimMmi6wF1"
      }
    },
    {
      "cell_type": "code",
      "source": [
        "def pos_to_coord(pos):\n",
        "    col = ord(pos[0]) - ord('a')  # 'a' -> 0, 'b' -> 1, ...\n",
        "    row = int(pos[1]) - 1         # '1' -> 0, '2' -> 1, ...\n",
        "    return (col, row)\n",
        "\n",
        "def is_valid(x, y):\n",
        "    return 0 <= x < 8 and 0 <= y < 8\n",
        "\n",
        "# 방향 벡터: 상, 하, 좌, 우\n",
        "directions = [\n",
        "    (0, 1),   # up\n",
        "    (0, -1),  # down\n",
        "    (-1, 0),  # left\n",
        "    (1, 0)    # right\n",
        "]\n",
        "\n",
        "# 주어진 방향에서 왼쪽 또는 오른쪽으로 꺾었을 때 방향\n",
        "def turn(dir, left=True):\n",
        "    dx, dy = dir\n",
        "    if left:\n",
        "        return (-dy, dx)\n",
        "    else:\n",
        "        return (dy, -dx)\n",
        "\n",
        "# 입력\n",
        "start = input().strip()\n",
        "end = input().strip()\n",
        "\n",
        "sx, sy = pos_to_coord(start)\n",
        "ex, ey = pos_to_coord(end)\n",
        "\n",
        "found = False\n",
        "for x in range(8):\n",
        "    for y in range(x, 8):\n",
        "        for dx, dy in directions:\n",
        "            # x 이동\n",
        "            nx, ny = sx + dx * x, sy + dy * x\n",
        "            if not is_valid(nx, ny):\n",
        "                continue\n",
        "            # 왼쪽 또는 오른쪽 회전 후 y 이동\n",
        "            for turn_dir in [turn((dx, dy), left=True), turn((dx, dy), left=False)]:\n",
        "                tx, ty = nx + turn_dir[0] * y, ny + turn_dir[1] * y\n",
        "                if (tx, ty) == (ex, ey):\n",
        "                    print(x, y)\n",
        "                    found = True\n",
        "                    break\n",
        "            if found:\n",
        "                break\n",
        "        if found:\n",
        "            break\n",
        "    if found:\n",
        "        break"
      ],
      "metadata": {
        "id": "y46bn7eF63Jf"
      },
      "execution_count": null,
      "outputs": []
    },
    {
      "cell_type": "markdown",
      "source": [
        "## Programmers"
      ],
      "metadata": {
        "id": "9pkEc3oA63e6"
      }
    },
    {
      "cell_type": "markdown",
      "source": [
        "### 그림 확대"
      ],
      "metadata": {
        "id": "K3BI8TEq64-z"
      }
    },
    {
      "cell_type": "code",
      "source": [
        "def solution(picture, k):\n",
        "\n",
        "    n = len(picture)\n",
        "    m = len(picture[0])\n",
        "\n",
        "    new_n = n * k\n",
        "    new_m = m * k\n",
        "\n",
        "    new_picture = []\n",
        "\n",
        "    for i in range(new_n):\n",
        "        row = ''\n",
        "\n",
        "        for j in range(new_m):\n",
        "            row += picture[i//k][j//k]\n",
        "\n",
        "        new_picture.append(row)\n",
        "\n",
        "    return new_picture"
      ],
      "metadata": {
        "id": "nCubh9dv65k3"
      },
      "execution_count": null,
      "outputs": []
    }
  ]
}