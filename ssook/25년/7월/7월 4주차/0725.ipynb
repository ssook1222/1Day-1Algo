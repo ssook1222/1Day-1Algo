{
  "nbformat": 4,
  "nbformat_minor": 0,
  "metadata": {
    "colab": {
      "provenance": [],
      "authorship_tag": "ABX9TyOssWwLK/p+spGX7PZoOx4U"
    },
    "kernelspec": {
      "name": "python3",
      "display_name": "Python 3"
    },
    "language_info": {
      "name": "python"
    }
  },
  "cells": [
    {
      "cell_type": "markdown",
      "source": [
        "## BoJ"
      ],
      "metadata": {
        "id": "2zHsWuc05ejc"
      }
    },
    {
      "cell_type": "markdown",
      "source": [
        "### 31052"
      ],
      "metadata": {
        "id": "Qmslm5Ww5f6o"
      }
    },
    {
      "cell_type": "code",
      "execution_count": null,
      "metadata": {
        "id": "mXBeZBHE4B3g"
      },
      "outputs": [],
      "source": [
        "import sys\n",
        "input = sys.stdin.read\n",
        "\n",
        "# 전체 입력 한 번에 읽고 처리\n",
        "data = input().split()\n",
        "\n",
        "# 첫 줄: 회사 수 N, 요청 수 Q\n",
        "N = int(data[0])\n",
        "Q = int(data[1])\n",
        "\n",
        "# 초기 위치 정보\n",
        "positions = list(map(int, data[2:N+2]))\n",
        "\n",
        "# 결과 저장 리스트\n",
        "results = []\n",
        "\n",
        "# 요청 처리\n",
        "idx = N + 2\n",
        "for _ in range(Q):\n",
        "    t = int(data[idx])\n",
        "    a = int(data[idx + 1])\n",
        "    b = int(data[idx + 2])\n",
        "\n",
        "    if t == 1:\n",
        "        # 회사 위치 업데이트 (인덱스 조정 필요)\n",
        "        positions[a - 1] = b\n",
        "    else:\n",
        "        # 거리 계산 요청\n",
        "        dist = abs(positions[a - 1] - positions[b - 1])\n",
        "        results.append(str(dist))\n",
        "\n",
        "    idx += 3\n",
        "\n",
        "# 결과 출력\n",
        "print(\"\\n\".join(results))"
      ]
    },
    {
      "cell_type": "markdown",
      "source": [
        "## Programmers"
      ],
      "metadata": {
        "id": "bTEh7iGL5gaA"
      }
    },
    {
      "cell_type": "markdown",
      "source": [
        "### 같은 숫자는 싫어"
      ],
      "metadata": {
        "id": "eBdlSigR5hUX"
      }
    },
    {
      "cell_type": "code",
      "source": [
        "def solution(arr):\n",
        "    answer = []\n",
        "\n",
        "    for i in range(len(arr)):\n",
        "        if arr[i] not in answer:\n",
        "            answer.append(arr[i])\n",
        "        else:\n",
        "            if arr[i] != arr[i-1]:\n",
        "                answer.append(arr[i])\n",
        "\n",
        "    return answer"
      ],
      "metadata": {
        "id": "wj85u_W35h3G"
      },
      "execution_count": null,
      "outputs": []
    }
  ]
}