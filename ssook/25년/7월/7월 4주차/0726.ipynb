{
  "nbformat": 4,
  "nbformat_minor": 0,
  "metadata": {
    "colab": {
      "provenance": [],
      "authorship_tag": "ABX9TyMqI+I7gHUVcdOS5raZbWD2",
      "include_colab_link": true
    },
    "kernelspec": {
      "name": "python3",
      "display_name": "Python 3"
    },
    "language_info": {
      "name": "python"
    }
  },
  "cells": [
    {
      "cell_type": "markdown",
      "metadata": {
        "id": "view-in-github",
        "colab_type": "text"
      },
      "source": [
        "<a href=\"https://colab.research.google.com/github/ssook1222/1Day-1Algo/blob/master/ssook/25%EB%85%84/7%EC%9B%94/7%EC%9B%94%204%EC%A3%BC%EC%B0%A8/0726.ipynb\" target=\"_parent\"><img src=\"https://colab.research.google.com/assets/colab-badge.svg\" alt=\"Open In Colab\"/></a>"
      ]
    },
    {
      "cell_type": "markdown",
      "source": [
        "## BoJ"
      ],
      "metadata": {
        "id": "2zHsWuc05ejc"
      }
    },
    {
      "cell_type": "markdown",
      "source": [
        "### 30366"
      ],
      "metadata": {
        "id": "Qmslm5Ww5f6o"
      }
    },
    {
      "cell_type": "code",
      "execution_count": null,
      "metadata": {
        "id": "mXBeZBHE4B3g"
      },
      "outputs": [],
      "source": [
        "import sys\n",
        "input = sys.stdin.read\n",
        "\n",
        "data = input().split()\n",
        "N, M = int(data[0]), int(data[1])\n",
        "a = list(map(int, data[2:]))\n",
        "\n",
        "res = []\n",
        "cur_time = 0\n",
        "cur_load = 0\n",
        "\n",
        "for group_size in a:\n",
        "    if cur_load + group_size <= M:\n",
        "        res.append(cur_time)\n",
        "        cur_load += group_size\n",
        "    else:\n",
        "        cur_time += 1\n",
        "        cur_load = group_size\n",
        "        res.append(cur_time)\n",
        "\n",
        "print(\"\\n\".join(map(str, res)))\n"
      ]
    },
    {
      "cell_type": "markdown",
      "source": [
        "## Programmers"
      ],
      "metadata": {
        "id": "bTEh7iGL5gaA"
      }
    },
    {
      "cell_type": "markdown",
      "source": [
        "### 올바른 괄호"
      ],
      "metadata": {
        "id": "eBdlSigR5hUX"
      }
    },
    {
      "cell_type": "code",
      "source": [
        "def solution(s):\n",
        "    answer = True\n",
        "    stack = []\n",
        "\n",
        "    for i in range(len(s)):\n",
        "\n",
        "        if s[i]==\"(\":\n",
        "            stack.append(s[i])\n",
        "\n",
        "        elif s[i]==\")\" :\n",
        "            if len(stack)==0:\n",
        "                answer = False\n",
        "                break\n",
        "            else :\n",
        "                stack.pop()\n",
        "\n",
        "    if len(stack)!=0 :\n",
        "        answer = False\n",
        "\n",
        "    return answer"
      ],
      "metadata": {
        "id": "wj85u_W35h3G"
      },
      "execution_count": null,
      "outputs": []
    }
  ]
}