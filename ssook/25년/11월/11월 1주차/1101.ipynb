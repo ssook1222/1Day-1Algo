{
  "nbformat": 4,
  "nbformat_minor": 0,
  "metadata": {
    "colab": {
      "provenance": [],
      "authorship_tag": "ABX9TyP0/18A4ZYbHALziEaQUJTQ",
      "include_colab_link": true
    },
    "kernelspec": {
      "name": "python3",
      "display_name": "Python 3"
    },
    "language_info": {
      "name": "python"
    }
  },
  "cells": [
    {
      "cell_type": "markdown",
      "metadata": {
        "id": "view-in-github",
        "colab_type": "text"
      },
      "source": [
        "<a href=\"https://colab.research.google.com/github/ssook1222/1Day-1Algo/blob/master/ssook/25%EB%85%84/11%EC%9B%94/11%EC%9B%94%201%EC%A3%BC%EC%B0%A8/1101.ipynb\" target=\"_parent\"><img src=\"https://colab.research.google.com/assets/colab-badge.svg\" alt=\"Open In Colab\"/></a>"
      ]
    },
    {
      "cell_type": "markdown",
      "source": [
        "## BoJ"
      ],
      "metadata": {
        "id": "Bft6oYFSUOta"
      }
    },
    {
      "cell_type": "markdown",
      "source": [
        "### 26548"
      ],
      "metadata": {
        "id": "ntfP2zGwUQm7"
      }
    },
    {
      "cell_type": "code",
      "execution_count": null,
      "metadata": {
        "id": "vDhxr5xrTrHV"
      },
      "outputs": [],
      "source": [
        "import math\n",
        "\n",
        "def solve_quadratic_formula():\n",
        "    \"\"\"\n",
        "    이차방정식 ax² + bx + c = 0의 해를 근의 공식으로 계산\n",
        "    x = (-b ± √(b² - 4ac)) / 2a\n",
        "    \"\"\"\n",
        "\n",
        "    def calculate_roots(a, b, c):\n",
        "        \"\"\"\n",
        "        주어진 계수 a, b, c에 대해 두 근을 계산\n",
        "        \"\"\"\n",
        "        # 판별식 계산\n",
        "        discriminant = b * b - 4 * a * c\n",
        "\n",
        "        # 두 근 계산\n",
        "        sqrt_discriminant = math.sqrt(discriminant)\n",
        "\n",
        "        # + 부호 (첫 번째 근)\n",
        "        x1 = (-b + sqrt_discriminant) / (2 * a)\n",
        "\n",
        "        # - 부호 (두 번째 근)\n",
        "        x2 = (-b - sqrt_discriminant) / (2 * a)\n",
        "\n",
        "        return x1, x2\n",
        "\n",
        "    # 입력 처리\n",
        "    n = int(input())\n",
        "\n",
        "    for _ in range(n):\n",
        "        # a, b, c 입력 (정수 또는 소수)\n",
        "        line = input().split()\n",
        "        a = float(line[0])\n",
        "        b = float(line[1])\n",
        "        c = float(line[2])\n",
        "\n",
        "        # 두 근 계산\n",
        "        x1, x2 = calculate_roots(a, b, c)\n",
        "\n",
        "        # 소수점 셋째 자리까지 반올림하여 출력\n",
        "        print(f\"{x1:.3f}, {x2:.3f}\")\n",
        "\n",
        "# 메인 실행\n",
        "if __name__ == \"__main__\":\n",
        "    solve_quadratic_formula()"
      ]
    }
  ]
}