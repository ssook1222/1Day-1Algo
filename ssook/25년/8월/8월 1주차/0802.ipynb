{
  "nbformat": 4,
  "nbformat_minor": 0,
  "metadata": {
    "colab": {
      "provenance": [],
      "authorship_tag": "ABX9TyPt1pwwci/YclbfoGKP8uAa",
      "include_colab_link": true
    },
    "kernelspec": {
      "name": "python3",
      "display_name": "Python 3"
    },
    "language_info": {
      "name": "python"
    }
  },
  "cells": [
    {
      "cell_type": "markdown",
      "metadata": {
        "id": "view-in-github",
        "colab_type": "text"
      },
      "source": [
        "<a href=\"https://colab.research.google.com/github/ssook1222/1Day-1Algo/blob/master/ssook/25%EB%85%84/8%EC%9B%94/8%EC%9B%94%201%EC%A3%BC%EC%B0%A8/0802.ipynb\" target=\"_parent\"><img src=\"https://colab.research.google.com/assets/colab-badge.svg\" alt=\"Open In Colab\"/></a>"
      ]
    },
    {
      "cell_type": "markdown",
      "source": [
        "## BoJ"
      ],
      "metadata": {
        "id": "tYe0KKt06trn"
      }
    },
    {
      "cell_type": "markdown",
      "source": [
        "### 27880"
      ],
      "metadata": {
        "id": "gLcimMmi6wF1"
      }
    },
    {
      "cell_type": "code",
      "source": [
        "import sys\n",
        "\n",
        "depth = 0\n",
        "\n",
        "for line in sys.stdin:\n",
        "    parts = line.strip().split()\n",
        "    if not parts:\n",
        "        continue\n",
        "    kind, x = parts[0], int(parts[1])\n",
        "    if kind == \"Stair\":\n",
        "        depth += x * 17\n",
        "    elif kind == \"Es\":\n",
        "        depth += x * 21\n",
        "\n",
        "print(depth)\n"
      ],
      "metadata": {
        "id": "y46bn7eF63Jf"
      },
      "execution_count": null,
      "outputs": []
    },
    {
      "cell_type": "markdown",
      "source": [
        "## Programmers"
      ],
      "metadata": {
        "id": "9pkEc3oA63e6"
      }
    },
    {
      "cell_type": "markdown",
      "source": [
        "### n의 배수"
      ],
      "metadata": {
        "id": "K3BI8TEq64-z"
      }
    },
    {
      "cell_type": "code",
      "source": [
        "def solution(num, n):\n",
        "    answer = 0\n",
        "\n",
        "    if num % n == 0:\n",
        "        answer = 1\n",
        "    else:\n",
        "        answer = 0\n",
        "\n",
        "    return answer"
      ],
      "metadata": {
        "id": "nCubh9dv65k3"
      },
      "execution_count": null,
      "outputs": []
    }
  ]
}