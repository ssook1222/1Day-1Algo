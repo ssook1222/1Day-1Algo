{
  "nbformat": 4,
  "nbformat_minor": 0,
  "metadata": {
    "colab": {
      "provenance": [],
      "authorship_tag": "ABX9TyMqm4tttcB/aBUOvrCpz/vz",
      "include_colab_link": true
    },
    "kernelspec": {
      "name": "python3",
      "display_name": "Python 3"
    },
    "language_info": {
      "name": "python"
    }
  },
  "cells": [
    {
      "cell_type": "markdown",
      "metadata": {
        "id": "view-in-github",
        "colab_type": "text"
      },
      "source": [
        "<a href=\"https://colab.research.google.com/github/ssook1222/1Day-1Algo/blob/master/ssook/25%EB%85%84/8%EC%9B%94/8%EC%9B%94%201%EC%A3%BC%EC%B0%A8/0801.ipynb\" target=\"_parent\"><img src=\"https://colab.research.google.com/assets/colab-badge.svg\" alt=\"Open In Colab\"/></a>"
      ]
    },
    {
      "cell_type": "markdown",
      "source": [
        "## BoJ"
      ],
      "metadata": {
        "id": "tYe0KKt06trn"
      }
    },
    {
      "cell_type": "markdown",
      "source": [
        "### 26057"
      ],
      "metadata": {
        "id": "gLcimMmi6wF1"
      }
    },
    {
      "cell_type": "code",
      "source": [
        "L = int(input())\n",
        "T = int(input())\n",
        "\n",
        "# 더 많이 부은 사람과 적게 부은 사람의 차이\n",
        "print(2 * T - L)\n"
      ],
      "metadata": {
        "id": "y46bn7eF63Jf"
      },
      "execution_count": null,
      "outputs": []
    },
    {
      "cell_type": "markdown",
      "source": [
        "## Programmers"
      ],
      "metadata": {
        "id": "9pkEc3oA63e6"
      }
    },
    {
      "cell_type": "markdown",
      "source": [
        "### 이차원 배열 대각선 순회하기"
      ],
      "metadata": {
        "id": "K3BI8TEq64-z"
      }
    },
    {
      "cell_type": "code",
      "source": [
        "def solution(board, k):\n",
        "    answer = 0\n",
        "    hap = 0\n",
        "\n",
        "    for i in range(len(board)):\n",
        "        for j in range(len(board[i])):\n",
        "            if i+j <=k:\n",
        "                hap += board[i][j]\n",
        "\n",
        "    answer = hap\n",
        "\n",
        "    return answer"
      ],
      "metadata": {
        "id": "nCubh9dv65k3"
      },
      "execution_count": null,
      "outputs": []
    }
  ]
}