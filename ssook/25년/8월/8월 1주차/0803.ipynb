{
  "nbformat": 4,
  "nbformat_minor": 0,
  "metadata": {
    "colab": {
      "provenance": [],
      "authorship_tag": "ABX9TyMDuWKXmoRYDfuLjjdByMCj",
      "include_colab_link": true
    },
    "kernelspec": {
      "name": "python3",
      "display_name": "Python 3"
    },
    "language_info": {
      "name": "python"
    }
  },
  "cells": [
    {
      "cell_type": "markdown",
      "metadata": {
        "id": "view-in-github",
        "colab_type": "text"
      },
      "source": [
        "<a href=\"https://colab.research.google.com/github/ssook1222/1Day-1Algo/blob/master/ssook/25%EB%85%84/8%EC%9B%94/8%EC%9B%94%201%EC%A3%BC%EC%B0%A8/0803.ipynb\" target=\"_parent\"><img src=\"https://colab.research.google.com/assets/colab-badge.svg\" alt=\"Open In Colab\"/></a>"
      ]
    },
    {
      "cell_type": "markdown",
      "source": [
        "## BoJ"
      ],
      "metadata": {
        "id": "tYe0KKt06trn"
      }
    },
    {
      "cell_type": "markdown",
      "source": [
        "### 28248"
      ],
      "metadata": {
        "id": "gLcimMmi6wF1"
      }
    },
    {
      "cell_type": "code",
      "source": [
        "# 입력 받기\n",
        "P = int(input())  # 패키지 수\n",
        "C = int(input())  # 충돌 수\n",
        "\n",
        "# 점수 계산\n",
        "score = P * 50 - C * 10\n",
        "\n",
        "# 보너스 조건\n",
        "if P > C:\n",
        "    score += 500\n",
        "\n",
        "# 출력\n",
        "print(score)\n"
      ],
      "metadata": {
        "id": "y46bn7eF63Jf"
      },
      "execution_count": null,
      "outputs": []
    },
    {
      "cell_type": "markdown",
      "source": [
        "## Programmers"
      ],
      "metadata": {
        "id": "9pkEc3oA63e6"
      }
    },
    {
      "cell_type": "markdown",
      "source": [
        "### 소문자로 바꾸기"
      ],
      "metadata": {
        "id": "K3BI8TEq64-z"
      }
    },
    {
      "cell_type": "code",
      "source": [
        "def solution(myString):\n",
        "    answer = myString.lower()\n",
        "    return answer"
      ],
      "metadata": {
        "id": "nCubh9dv65k3"
      },
      "execution_count": null,
      "outputs": []
    }
  ]
}