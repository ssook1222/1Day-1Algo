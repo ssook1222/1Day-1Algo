{
  "nbformat": 4,
  "nbformat_minor": 0,
  "metadata": {
    "colab": {
      "provenance": [],
      "authorship_tag": "ABX9TyO3CO8NcqJP3endxHc8UYgy",
      "include_colab_link": true
    },
    "kernelspec": {
      "name": "python3",
      "display_name": "Python 3"
    },
    "language_info": {
      "name": "python"
    }
  },
  "cells": [
    {
      "cell_type": "markdown",
      "metadata": {
        "id": "view-in-github",
        "colab_type": "text"
      },
      "source": [
        "<a href=\"https://colab.research.google.com/github/ssook1222/1Day-1Algo/blob/master/ssook/25%EB%85%84/8%EC%9B%94/8%EC%9B%94%204%EC%A3%BC%EC%B0%A8/0822.ipynb\" target=\"_parent\"><img src=\"https://colab.research.google.com/assets/colab-badge.svg\" alt=\"Open In Colab\"/></a>"
      ]
    },
    {
      "cell_type": "markdown",
      "source": [
        "## BoJ"
      ],
      "metadata": {
        "id": "_CoKro-CXmw9"
      }
    },
    {
      "cell_type": "markdown",
      "source": [
        "### 2183"
      ],
      "metadata": {
        "id": "oJg34EdbXowH"
      }
    },
    {
      "cell_type": "code",
      "source": [
        "N_S = input().split()\n",
        "N = int(N_S[0])  # 인원 수 (사용 안함)\n",
        "S = N_S[1]       # 게임 승자 문자열\n",
        "\n",
        "print(S[-1])     # 마지막 게임 승자 출력"
      ],
      "metadata": {
        "id": "Jbfyy76YfLzr"
      },
      "execution_count": null,
      "outputs": []
    },
    {
      "cell_type": "markdown",
      "source": [
        "## Programmers"
      ],
      "metadata": {
        "id": "eoAPF82XXq1t"
      }
    },
    {
      "cell_type": "markdown",
      "source": [
        "### 짝수 홀수 개수"
      ],
      "metadata": {
        "id": "YAX2w9fSXser"
      }
    },
    {
      "cell_type": "code",
      "source": [
        "def solution(num_list):\n",
        "    answer = []\n",
        "\n",
        "    odd = []\n",
        "    even = []\n",
        "\n",
        "    for i in num_list:\n",
        "        if i % 2 != 1:\n",
        "            odd.append(i)\n",
        "        else:\n",
        "            even.append(i)\n",
        "\n",
        "    answer = [len(odd), len(even)]\n",
        "\n",
        "    return answer"
      ],
      "metadata": {
        "id": "JtBI1zDZXtT0"
      },
      "execution_count": null,
      "outputs": []
    }
  ]
}