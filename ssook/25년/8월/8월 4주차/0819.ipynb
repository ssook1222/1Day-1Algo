{
  "nbformat": 4,
  "nbformat_minor": 0,
  "metadata": {
    "colab": {
      "provenance": [],
      "authorship_tag": "ABX9TyNkXIzKu6Ex97V4vCweNWMb",
      "include_colab_link": true
    },
    "kernelspec": {
      "name": "python3",
      "display_name": "Python 3"
    },
    "language_info": {
      "name": "python"
    }
  },
  "cells": [
    {
      "cell_type": "markdown",
      "metadata": {
        "id": "view-in-github",
        "colab_type": "text"
      },
      "source": [
        "<a href=\"https://colab.research.google.com/github/ssook1222/1Day-1Algo/blob/master/ssook/25%EB%85%84/8%EC%9B%94/8%EC%9B%94%204%EC%A3%BC%EC%B0%A8/0819.ipynb\" target=\"_parent\"><img src=\"https://colab.research.google.com/assets/colab-badge.svg\" alt=\"Open In Colab\"/></a>"
      ]
    },
    {
      "cell_type": "markdown",
      "source": [
        "## BoJ"
      ],
      "metadata": {
        "id": "GoxfrX9jfF5_"
      }
    },
    {
      "cell_type": "markdown",
      "source": [
        "### 1453"
      ],
      "metadata": {
        "id": "XH8g7hZefHiK"
      }
    },
    {
      "cell_type": "code",
      "source": [
        "N = int(input())  # 손님의 수\n",
        "requested_seats = list(map(int, input().split()))  # 손님이 앉고 싶어하는 자리 번호\n",
        "\n",
        "occupied = set()  # 이미 사용 중인 좌석 번호를 저장할 집합\n",
        "rejected = 0  # 거절당한 손님 수\n",
        "\n",
        "for seat in requested_seats:\n",
        "    if seat in occupied:\n",
        "        rejected += 1  # 이미 누가 앉아있으면 거절\n",
        "    else:\n",
        "        occupied.add(seat)  # 비어있으면 착석\n",
        "\n",
        "print(rejected)"
      ],
      "metadata": {
        "id": "5FGLHSL7fIKH"
      },
      "execution_count": null,
      "outputs": []
    },
    {
      "cell_type": "markdown",
      "source": [
        "## Programmers"
      ],
      "metadata": {
        "id": "R2QXmQM7fIY6"
      }
    },
    {
      "cell_type": "markdown",
      "source": [
        "### 편지"
      ],
      "metadata": {
        "id": "ZNzfdeUPfLOz"
      }
    },
    {
      "cell_type": "code",
      "source": [
        "def solution(message):\n",
        "    return len(message) * 2\n"
      ],
      "metadata": {
        "id": "Jbfyy76YfLzr"
      },
      "execution_count": null,
      "outputs": []
    }
  ]
}