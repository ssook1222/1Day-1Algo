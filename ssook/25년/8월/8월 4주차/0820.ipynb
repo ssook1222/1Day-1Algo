{
  "nbformat": 4,
  "nbformat_minor": 0,
  "metadata": {
    "colab": {
      "provenance": [],
      "authorship_tag": "ABX9TyOhM+devKKbY9AKz+WSlovl",
      "include_colab_link": true
    },
    "kernelspec": {
      "name": "python3",
      "display_name": "Python 3"
    },
    "language_info": {
      "name": "python"
    }
  },
  "cells": [
    {
      "cell_type": "markdown",
      "metadata": {
        "id": "view-in-github",
        "colab_type": "text"
      },
      "source": [
        "<a href=\"https://colab.research.google.com/github/ssook1222/1Day-1Algo/blob/master/ssook/25%EB%85%84/8%EC%9B%94/8%EC%9B%94%204%EC%A3%BC%EC%B0%A8/0820.ipynb\" target=\"_parent\"><img src=\"https://colab.research.google.com/assets/colab-badge.svg\" alt=\"Open In Colab\"/></a>"
      ]
    },
    {
      "cell_type": "markdown",
      "source": [
        "## BoJ"
      ],
      "metadata": {
        "id": "GoxfrX9jfF5_"
      }
    },
    {
      "cell_type": "markdown",
      "source": [
        "### 2028"
      ],
      "metadata": {
        "id": "XH8g7hZefHiK"
      }
    },
    {
      "cell_type": "code",
      "source": [
        "T = int(input())  # 테스트 케이스 개수\n",
        "\n",
        "for _ in range(T):\n",
        "    N = int(input())\n",
        "    squared = N ** 2  # 제곱\n",
        "    if str(squared).endswith(str(N)):  # 제곱수의 끝이 N과 같은지 확인\n",
        "        print(\"YES\")\n",
        "    else:\n",
        "        print(\"NO\")"
      ],
      "metadata": {
        "id": "5FGLHSL7fIKH"
      },
      "execution_count": null,
      "outputs": []
    },
    {
      "cell_type": "markdown",
      "source": [
        "## Programmers"
      ],
      "metadata": {
        "id": "R2QXmQM7fIY6"
      }
    },
    {
      "cell_type": "markdown",
      "source": [
        "### 짝수의 합"
      ],
      "metadata": {
        "id": "ZNzfdeUPfLOz"
      }
    },
    {
      "cell_type": "code",
      "source": [
        "def solution(n):\n",
        "    answer = 0\n",
        "    hap = 0\n",
        "\n",
        "    for i in range(n+1):\n",
        "        if i % 2 == 0:\n",
        "            hap = hap + i\n",
        "\n",
        "    answer = hap\n",
        "\n",
        "    return answer"
      ],
      "metadata": {
        "id": "Jbfyy76YfLzr"
      },
      "execution_count": null,
      "outputs": []
    }
  ]
}