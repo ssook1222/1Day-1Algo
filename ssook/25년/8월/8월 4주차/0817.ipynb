{
  "nbformat": 4,
  "nbformat_minor": 0,
  "metadata": {
    "colab": {
      "provenance": [],
      "authorship_tag": "ABX9TyNnnejrpR7mvANR1OcmSH4B",
      "include_colab_link": true
    },
    "kernelspec": {
      "name": "python3",
      "display_name": "Python 3"
    },
    "language_info": {
      "name": "python"
    }
  },
  "cells": [
    {
      "cell_type": "markdown",
      "metadata": {
        "id": "view-in-github",
        "colab_type": "text"
      },
      "source": [
        "<a href=\"https://colab.research.google.com/github/ssook1222/1Day-1Algo/blob/master/ssook/25%EB%85%84/8%EC%9B%94/8%EC%9B%94%204%EC%A3%BC%EC%B0%A8/0817.ipynb\" target=\"_parent\"><img src=\"https://colab.research.google.com/assets/colab-badge.svg\" alt=\"Open In Colab\"/></a>"
      ]
    },
    {
      "cell_type": "markdown",
      "source": [
        "## BoJ"
      ],
      "metadata": {
        "id": "6oKROgOIZIgA"
      }
    },
    {
      "cell_type": "markdown",
      "source": [
        "### 33342"
      ],
      "metadata": {
        "id": "L334lZXsZL2w"
      }
    },
    {
      "cell_type": "code",
      "execution_count": null,
      "metadata": {
        "id": "Q0fRjJgkYFiH"
      },
      "outputs": [],
      "source": [
        "Q = int(input())\n",
        "for _ in range(Q):\n",
        "    S = input().strip()\n",
        "    count = 0\n",
        "    for i in range(len(S) - 2):\n",
        "        if S[i:i+3] == \"WOW\":\n",
        "            count += 1\n",
        "    print(count)\n"
      ]
    },
    {
      "cell_type": "markdown",
      "source": [
        "## Programmers"
      ],
      "metadata": {
        "id": "6_XAsc95ZOIy"
      }
    },
    {
      "cell_type": "markdown",
      "source": [
        "### 피자 나눠 먹기"
      ],
      "metadata": {
        "id": "Vy9J8-9wZOHK"
      }
    },
    {
      "cell_type": "code",
      "source": [
        "def solution(n):\n",
        "    answer = 0\n",
        "\n",
        "    if n%7 !=0:\n",
        "        answer = n//7+1\n",
        "    elif n%7 == 0:\n",
        "        answer = n//7\n",
        "\n",
        "    return answer"
      ],
      "metadata": {
        "id": "VclxjiSFZTt2"
      },
      "execution_count": null,
      "outputs": []
    }
  ]
}