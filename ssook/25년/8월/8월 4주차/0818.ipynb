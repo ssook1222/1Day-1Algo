{
  "nbformat": 4,
  "nbformat_minor": 0,
  "metadata": {
    "colab": {
      "provenance": [],
      "authorship_tag": "ABX9TyM8TqwiyhU1xsAE6TgxkJ/i",
      "include_colab_link": true
    },
    "kernelspec": {
      "name": "python3",
      "display_name": "Python 3"
    },
    "language_info": {
      "name": "python"
    }
  },
  "cells": [
    {
      "cell_type": "markdown",
      "metadata": {
        "id": "view-in-github",
        "colab_type": "text"
      },
      "source": [
        "<a href=\"https://colab.research.google.com/github/ssook1222/1Day-1Algo/blob/master/ssook/25%EB%85%84/8%EC%9B%94/8%EC%9B%94%204%EC%A3%BC%EC%B0%A8/0818.ipynb\" target=\"_parent\"><img src=\"https://colab.research.google.com/assets/colab-badge.svg\" alt=\"Open In Colab\"/></a>"
      ]
    },
    {
      "cell_type": "markdown",
      "source": [
        "## BoJ"
      ],
      "metadata": {
        "id": "GoxfrX9jfF5_"
      }
    },
    {
      "cell_type": "markdown",
      "source": [
        "### 1434"
      ],
      "metadata": {
        "id": "XH8g7hZefHiK"
      }
    },
    {
      "cell_type": "code",
      "source": [
        "N, M = map(int, input().split())  # 박스 수 N, 책 수 M\n",
        "box_capacity = list(map(int, input().split()))  # 각 박스의 용량 Ai\n",
        "book_size = list(map(int, input().split()))     # 각 책의 크기 Bj\n",
        "\n",
        "for book in book_size:  # 책을 순서대로 하나씩 처리\n",
        "    for i in range(len(box_capacity)):  # 박스를 순서대로 확인\n",
        "        if book > box_capacity[i]:  # 책이 현재 박스에 안 들어가면 다음 박스로\n",
        "            continue\n",
        "        box_capacity[i] -= book  # 책을 박스에 넣고 용량 차감\n",
        "        break  # 다음 책으로 넘어감\n",
        "\n",
        "# 남은 박스의 용량(낭비된 용량)의 총합 출력\n",
        "print(sum(box_capacity))\n"
      ],
      "metadata": {
        "id": "5FGLHSL7fIKH"
      },
      "execution_count": null,
      "outputs": []
    },
    {
      "cell_type": "markdown",
      "source": [
        "## Programmers"
      ],
      "metadata": {
        "id": "R2QXmQM7fIY6"
      }
    },
    {
      "cell_type": "markdown",
      "source": [
        "### 피자 나눠 먹기"
      ],
      "metadata": {
        "id": "ZNzfdeUPfLOz"
      }
    },
    {
      "cell_type": "code",
      "source": [
        "def solution(n):\n",
        "    answer = 0\n",
        "\n",
        "    if n%7 !=0:\n",
        "        answer = n//7+1\n",
        "    elif n%7 == 0:\n",
        "        answer = n//7\n",
        "\n",
        "    return answer"
      ],
      "metadata": {
        "id": "Jbfyy76YfLzr"
      },
      "execution_count": null,
      "outputs": []
    }
  ]
}