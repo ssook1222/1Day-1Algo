{
  "nbformat": 4,
  "nbformat_minor": 0,
  "metadata": {
    "colab": {
      "provenance": [],
      "authorship_tag": "ABX9TyME7wOsdzMBt80QYdjzz59m",
      "include_colab_link": true
    },
    "kernelspec": {
      "name": "python3",
      "display_name": "Python 3"
    },
    "language_info": {
      "name": "python"
    }
  },
  "cells": [
    {
      "cell_type": "markdown",
      "metadata": {
        "id": "view-in-github",
        "colab_type": "text"
      },
      "source": [
        "<a href=\"https://colab.research.google.com/github/ssook1222/1Day-1Algo/blob/master/ssook/25%EB%85%84/8%EC%9B%94/8%EC%9B%94%204%EC%A3%BC%EC%B0%A8/0821.ipynb\" target=\"_parent\"><img src=\"https://colab.research.google.com/assets/colab-badge.svg\" alt=\"Open In Colab\"/></a>"
      ]
    },
    {
      "cell_type": "markdown",
      "source": [
        "## BoJ"
      ],
      "metadata": {
        "id": "GoxfrX9jfF5_"
      }
    },
    {
      "cell_type": "markdown",
      "source": [
        "### 1894"
      ],
      "metadata": {
        "id": "XH8g7hZefHiK"
      }
    },
    {
      "cell_type": "code",
      "source": [
        "import sys\n",
        "\n",
        "for line in sys.stdin:\n",
        "    nums = list(map(float, line.strip().split()))\n",
        "    points = [(nums[i], nums[i+1]) for i in range(0, 8, 2)]\n",
        "\n",
        "    found = False\n",
        "    for i in range(4):\n",
        "        for j in range(i + 1, 4):\n",
        "            if points[i] == points[j]:\n",
        "                # i, j는 중복된 점\n",
        "                rest = [points[k] for k in range(4) if k != i and k != j]\n",
        "                # 나머지 두 점을 이용해 네 번째 점 구함: D = A + B - C\n",
        "                x = rest[0][0] + rest[1][0] - points[i][0]\n",
        "                y = rest[0][1] + rest[1][1] - points[i][1]\n",
        "                print(f\"{x:.3f} {y:.3f}\")\n",
        "                found = True\n",
        "                break\n",
        "        if found:\n",
        "            break"
      ],
      "metadata": {
        "id": "5FGLHSL7fIKH"
      },
      "execution_count": null,
      "outputs": []
    },
    {
      "cell_type": "markdown",
      "source": [
        "## Programmers"
      ],
      "metadata": {
        "id": "R2QXmQM7fIY6"
      }
    },
    {
      "cell_type": "markdown",
      "source": [
        "### 방문 기록"
      ],
      "metadata": {
        "id": "ZNzfdeUPfLOz"
      }
    },
    {
      "cell_type": "code",
      "source": [
        "def solution(n, k):\n",
        "    answer = 0\n",
        "\n",
        "    if n >= 10:\n",
        "        k -= 1 * (n // 10)\n",
        "        answer = n * 12000 + k * 2000\n",
        "\n",
        "    else:\n",
        "        answer = n * 12000 + k * 2000\n",
        "\n",
        "    return answer"
      ],
      "metadata": {
        "id": "Jbfyy76YfLzr"
      },
      "execution_count": null,
      "outputs": []
    }
  ]
}