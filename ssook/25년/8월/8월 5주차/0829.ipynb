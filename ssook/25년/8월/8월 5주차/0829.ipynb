{
  "nbformat": 4,
  "nbformat_minor": 0,
  "metadata": {
    "colab": {
      "provenance": [],
      "authorship_tag": "ABX9TyMAUNkEk5pW2I9krsTpUnXV",
      "include_colab_link": true
    },
    "kernelspec": {
      "name": "python3",
      "display_name": "Python 3"
    },
    "language_info": {
      "name": "python"
    }
  },
  "cells": [
    {
      "cell_type": "markdown",
      "metadata": {
        "id": "view-in-github",
        "colab_type": "text"
      },
      "source": [
        "<a href=\"https://colab.research.google.com/github/ssook1222/1Day-1Algo/blob/master/ssook/25%EB%85%84/8%EC%9B%94/8%EC%9B%94%205%EC%A3%BC%EC%B0%A8/0829.ipynb\" target=\"_parent\"><img src=\"https://colab.research.google.com/assets/colab-badge.svg\" alt=\"Open In Colab\"/></a>"
      ]
    },
    {
      "cell_type": "markdown",
      "source": [
        "## BoJ"
      ],
      "metadata": {
        "id": "OZqhj0aX49q1"
      }
    },
    {
      "cell_type": "markdown",
      "source": [
        "### 33950"
      ],
      "metadata": {
        "id": "jBLmHOq94-9F"
      }
    },
    {
      "cell_type": "code",
      "execution_count": null,
      "metadata": {
        "id": "qtcmC4kx45-0"
      },
      "outputs": [],
      "source": [
        "T = int(input())\n",
        "for _ in range(T):\n",
        "    S = input()\n",
        "    print(S.replace(\"PO\", \"PHO\"))\n"
      ]
    },
    {
      "cell_type": "markdown",
      "source": [
        "---"
      ],
      "metadata": {
        "id": "9JttWuyR5B1r"
      }
    }
  ]
}