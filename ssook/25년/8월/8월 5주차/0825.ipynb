{
  "nbformat": 4,
  "nbformat_minor": 0,
  "metadata": {
    "colab": {
      "provenance": [],
      "authorship_tag": "ABX9TyPXsluPY6bqDKQwpm4eOfG1",
      "include_colab_link": true
    },
    "kernelspec": {
      "name": "python3",
      "display_name": "Python 3"
    },
    "language_info": {
      "name": "python"
    }
  },
  "cells": [
    {
      "cell_type": "markdown",
      "metadata": {
        "id": "view-in-github",
        "colab_type": "text"
      },
      "source": [
        "<a href=\"https://colab.research.google.com/github/ssook1222/1Day-1Algo/blob/master/ssook/25%EB%85%84/8%EC%9B%94/8%EC%9B%94%205%EC%A3%BC%EC%B0%A8/0825.ipynb\" target=\"_parent\"><img src=\"https://colab.research.google.com/assets/colab-badge.svg\" alt=\"Open In Colab\"/></a>"
      ]
    },
    {
      "cell_type": "markdown",
      "source": [
        "## BoJ"
      ],
      "metadata": {
        "id": "OZqhj0aX49q1"
      }
    },
    {
      "cell_type": "markdown",
      "source": [
        "### 34028"
      ],
      "metadata": {
        "id": "jBLmHOq94-9F"
      }
    },
    {
      "cell_type": "markdown",
      "source": [
        "pypy"
      ],
      "metadata": {
        "id": "Dj-AYcZs7p5P"
      }
    },
    {
      "cell_type": "code",
      "execution_count": null,
      "metadata": {
        "id": "qtcmC4kx45-0"
      },
      "outputs": [],
      "source": [
        "from datetime import date\n",
        "\n",
        "# 계절 정의\n",
        "season_defs = [\n",
        "    ((12, 1), (2, 28)),  # 겨울\n",
        "    ((3, 1), (5, 31)),   # 봄\n",
        "    ((6, 1), (8, 31)),   # 여름\n",
        "    ((9, 1), (11, 30)),  # 가을\n",
        "]\n",
        "\n",
        "# 입력 받기\n",
        "A, B, C = map(int, input().split())\n",
        "start_date = date(2015, 1, 16)  # ← 데뷔일 당일부터 포함해야 함\n",
        "end_date = date(A, B, C)\n",
        "\n",
        "count = 0\n",
        "year = 2015\n",
        "\n",
        "while True:\n",
        "    for season_start, season_end in season_defs:\n",
        "        # 겨울 처리: 연도跨越\n",
        "        if season_start[0] == 12:\n",
        "            s_year = year - 1\n",
        "            e_year = year\n",
        "        else:\n",
        "            s_year = e_year = year\n",
        "\n",
        "        # 윤년 확인 (겨울 끝 날짜가 2월 28일 → 29일로 바꿔야 할 경우)\n",
        "        if season_end == (2, 28):\n",
        "            if e_year % 4 == 0 and (e_year % 100 != 0 or e_year % 400 == 0):\n",
        "                season_end = (2, 29)\n",
        "\n",
        "        season_s = date(s_year, season_start[0], season_start[1])\n",
        "        season_e = date(e_year, season_end[0], season_end[1])\n",
        "\n",
        "        # 이 계절이 데뷔일부터 입력일까지와 겹치는가?\n",
        "        if season_e < start_date or season_s > end_date:\n",
        "            continue\n",
        "        count += 1\n",
        "\n",
        "    # 더 이상 탐색할 필요 없음\n",
        "    if date(year, 12, 1) > end_date:\n",
        "        break\n",
        "    year += 1\n",
        "\n",
        "print(count)"
      ]
    },
    {
      "cell_type": "markdown",
      "source": [
        "---"
      ],
      "metadata": {
        "id": "9JttWuyR5B1r"
      }
    }
  ]
}