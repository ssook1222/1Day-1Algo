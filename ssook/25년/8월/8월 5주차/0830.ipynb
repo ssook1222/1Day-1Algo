{
  "nbformat": 4,
  "nbformat_minor": 0,
  "metadata": {
    "colab": {
      "provenance": [],
      "authorship_tag": "ABX9TyPsS10y0ZxH3DCR4By42xKO",
      "include_colab_link": true
    },
    "kernelspec": {
      "name": "python3",
      "display_name": "Python 3"
    },
    "language_info": {
      "name": "python"
    }
  },
  "cells": [
    {
      "cell_type": "markdown",
      "metadata": {
        "id": "view-in-github",
        "colab_type": "text"
      },
      "source": [
        "<a href=\"https://colab.research.google.com/github/ssook1222/1Day-1Algo/blob/master/ssook/25%EB%85%84/8%EC%9B%94/8%EC%9B%94%205%EC%A3%BC%EC%B0%A8/0830.ipynb\" target=\"_parent\"><img src=\"https://colab.research.google.com/assets/colab-badge.svg\" alt=\"Open In Colab\"/></a>"
      ]
    },
    {
      "cell_type": "markdown",
      "source": [
        "## BoJ"
      ],
      "metadata": {
        "id": "OZqhj0aX49q1"
      }
    },
    {
      "cell_type": "markdown",
      "source": [
        "### 33883"
      ],
      "metadata": {
        "id": "jBLmHOq94-9F"
      }
    },
    {
      "cell_type": "code",
      "execution_count": null,
      "metadata": {
        "id": "qtcmC4kx45-0"
      },
      "outputs": [],
      "source": [
        "def find_accent_position(S):\n",
        "    vowels = 'aeiou'\n",
        "    vowel_positions = [i for i, c in enumerate(S) if c in vowels]\n",
        "\n",
        "    if not vowel_positions:\n",
        "        return -1  # 모음 없음\n",
        "\n",
        "    last_char = S[-1]\n",
        "\n",
        "    if last_char in vowels or last_char in {'n', 's'}:\n",
        "        # 규칙 2: 뒤에서 두 번째 모음\n",
        "        if len(vowel_positions) < 2:\n",
        "            return -1\n",
        "        return vowel_positions[-2] + 1  # 1-indexed\n",
        "    else:\n",
        "        # 규칙 1: 마지막 모음\n",
        "        return vowel_positions[-1] + 1  # 1-indexed\n",
        "\n",
        "# 입력\n",
        "S = input().strip()\n",
        "print(find_accent_position(S))"
      ]
    },
    {
      "cell_type": "markdown",
      "source": [
        "---"
      ],
      "metadata": {
        "id": "9JttWuyR5B1r"
      }
    }
  ]
}