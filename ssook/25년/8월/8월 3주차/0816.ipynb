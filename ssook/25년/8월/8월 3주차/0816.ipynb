{
  "nbformat": 4,
  "nbformat_minor": 0,
  "metadata": {
    "colab": {
      "provenance": [],
      "authorship_tag": "ABX9TyPgzCYgY4zcsfG1H6LSsjc5",
      "include_colab_link": true
    },
    "kernelspec": {
      "name": "python3",
      "display_name": "Python 3"
    },
    "language_info": {
      "name": "python"
    }
  },
  "cells": [
    {
      "cell_type": "markdown",
      "metadata": {
        "id": "view-in-github",
        "colab_type": "text"
      },
      "source": [
        "<a href=\"https://colab.research.google.com/github/ssook1222/1Day-1Algo/blob/master/ssook/25%EB%85%84/8%EC%9B%94/8%EC%9B%94%203%EC%A3%BC%EC%B0%A8/0816.ipynb\" target=\"_parent\"><img src=\"https://colab.research.google.com/assets/colab-badge.svg\" alt=\"Open In Colab\"/></a>"
      ]
    },
    {
      "cell_type": "markdown",
      "source": [
        "## BoJ"
      ],
      "metadata": {
        "id": "6oKROgOIZIgA"
      }
    },
    {
      "cell_type": "markdown",
      "source": [
        "### 33652"
      ],
      "metadata": {
        "id": "L334lZXsZL2w"
      }
    },
    {
      "cell_type": "code",
      "execution_count": null,
      "metadata": {
        "id": "Q0fRjJgkYFiH"
      },
      "outputs": [],
      "source": [
        "K = int(input())\n",
        "\n",
        "# 첫 AKARAKA는 7글자, 이후는 4글자만 추가해서 겹치게 만들기\n",
        "res = \"AKARAKA\"\n",
        "for _ in range(K - 1):\n",
        "    res += \"RAKA\"  # AKARAKA의 마지막 4글자\n",
        "\n",
        "print(res)"
      ]
    },
    {
      "cell_type": "markdown",
      "source": [
        "## Programmers"
      ],
      "metadata": {
        "id": "6_XAsc95ZOIy"
      }
    },
    {
      "cell_type": "markdown",
      "source": [
        "### 특정 문자 제거하기"
      ],
      "metadata": {
        "id": "Vy9J8-9wZOHK"
      }
    },
    {
      "cell_type": "code",
      "source": [
        "def solution(my_string, letter):\n",
        "    answer = ''\n",
        "\n",
        "    for i in range(len(my_string)):\n",
        "        if my_string[i] != letter:\n",
        "            answer += my_string[i]\n",
        "\n",
        "    return answer"
      ],
      "metadata": {
        "id": "VclxjiSFZTt2"
      },
      "execution_count": null,
      "outputs": []
    }
  ]
}