{
  "nbformat": 4,
  "nbformat_minor": 0,
  "metadata": {
    "colab": {
      "provenance": [],
      "authorship_tag": "ABX9TyNsA9ZqRXBCFN2aGkEjzVOY",
      "include_colab_link": true
    },
    "kernelspec": {
      "name": "python3",
      "display_name": "Python 3"
    },
    "language_info": {
      "name": "python"
    }
  },
  "cells": [
    {
      "cell_type": "markdown",
      "metadata": {
        "id": "view-in-github",
        "colab_type": "text"
      },
      "source": [
        "<a href=\"https://colab.research.google.com/github/ssook1222/1Day-1Algo/blob/master/ssook/25%EB%85%84/8%EC%9B%94/8%EC%9B%94%203%EC%A3%BC%EC%B0%A8/0810.ipynb\" target=\"_parent\"><img src=\"https://colab.research.google.com/assets/colab-badge.svg\" alt=\"Open In Colab\"/></a>"
      ]
    },
    {
      "cell_type": "markdown",
      "source": [
        "## BoJ"
      ],
      "metadata": {
        "id": "QeVeYZHa6z3o"
      }
    },
    {
      "cell_type": "markdown",
      "source": [
        "### 29735"
      ],
      "metadata": {
        "id": "095NJdo561VO"
      }
    },
    {
      "cell_type": "code",
      "execution_count": null,
      "metadata": {
        "id": "5GeHle3y6ZE2"
      },
      "outputs": [],
      "source": [
        "def diff(startH, startM, endH, endM):\n",
        "    return (endH - startH) * 60 + (endM - startM)\n",
        "\n",
        "def plus_time(H, M, plus):\n",
        "    M += plus\n",
        "    H += M // 60\n",
        "    M %= 60\n",
        "    H %= 24\n",
        "    print(f\"{H:02}:{M:02}\")\n",
        "\n",
        "# 한 줄 입력 받고 공백 기준 분리\n",
        "start_str, end_str = input().split()\n",
        "startH, startM = map(int, start_str.split(':'))\n",
        "endH, endM = map(int, end_str.split(':'))\n",
        "\n",
        "N, T = map(int, input().split())\n",
        "\n",
        "tot = diff(startH, startM, endH, endM)\n",
        "day = (tot - 1) // T\n",
        "print(N // day)\n",
        "plus_time(startH, startM, (N % day + 1) * T)\n"
      ]
    },
    {
      "cell_type": "markdown",
      "source": [
        "## Programmers"
      ],
      "metadata": {
        "id": "cNkcD-XZ63DD"
      }
    },
    {
      "cell_type": "markdown",
      "source": [
        "### 문자열 밀기"
      ],
      "metadata": {
        "id": "B--7Ji3k64-U"
      }
    },
    {
      "cell_type": "code",
      "source": [
        "def solution(A, B):\n",
        "    answer = 0\n",
        "    a_raw = A\n",
        "\n",
        "    while True:\n",
        "        if a_raw == B:\n",
        "            break\n",
        "\n",
        "        a_raw = a_raw[-1] + a_raw[:len(a_raw)-1]\n",
        "        answer += 1\n",
        "\n",
        "        if answer > len(a_raw):\n",
        "            answer = -1\n",
        "            break\n",
        "\n",
        "    return answer\n"
      ],
      "metadata": {
        "id": "W5lPXdR265zK"
      },
      "execution_count": null,
      "outputs": []
    }
  ]
}