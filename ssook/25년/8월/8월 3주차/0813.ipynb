{
  "nbformat": 4,
  "nbformat_minor": 0,
  "metadata": {
    "colab": {
      "provenance": [],
      "authorship_tag": "ABX9TyOwe4i4fvYyzBHHmonQho4t",
      "include_colab_link": true
    },
    "kernelspec": {
      "name": "python3",
      "display_name": "Python 3"
    },
    "language_info": {
      "name": "python"
    }
  },
  "cells": [
    {
      "cell_type": "markdown",
      "metadata": {
        "id": "view-in-github",
        "colab_type": "text"
      },
      "source": [
        "<a href=\"https://colab.research.google.com/github/ssook1222/1Day-1Algo/blob/master/ssook/25%EB%85%84/8%EC%9B%94/8%EC%9B%94%203%EC%A3%BC%EC%B0%A8/0813.ipynb\" target=\"_parent\"><img src=\"https://colab.research.google.com/assets/colab-badge.svg\" alt=\"Open In Colab\"/></a>"
      ]
    },
    {
      "cell_type": "markdown",
      "source": [
        "## BoJ"
      ],
      "metadata": {
        "id": "6oKROgOIZIgA"
      }
    },
    {
      "cell_type": "markdown",
      "source": [
        "### 33779"
      ],
      "metadata": {
        "id": "L334lZXsZL2w"
      }
    },
    {
      "cell_type": "code",
      "execution_count": null,
      "metadata": {
        "id": "Q0fRjJgkYFiH"
      },
      "outputs": [],
      "source": [
        "s = input().strip()\n",
        "\n",
        "if s == s[::-1]:\n",
        "    print(\"beep\")\n",
        "else:\n",
        "    print(\"boop\")\n"
      ]
    },
    {
      "cell_type": "markdown",
      "source": [
        "## Programmers"
      ],
      "metadata": {
        "id": "6_XAsc95ZOIy"
      }
    },
    {
      "cell_type": "markdown",
      "source": [
        "### 뒤집힌 문자열"
      ],
      "metadata": {
        "id": "Vy9J8-9wZOHK"
      }
    },
    {
      "cell_type": "code",
      "source": [
        "def solution(my_string):\n",
        "    answer = my_string[::-1]\n",
        "    return answer"
      ],
      "metadata": {
        "id": "VclxjiSFZTt2"
      },
      "execution_count": null,
      "outputs": []
    }
  ]
}