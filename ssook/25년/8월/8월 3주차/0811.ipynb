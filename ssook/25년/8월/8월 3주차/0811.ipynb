{
  "nbformat": 4,
  "nbformat_minor": 0,
  "metadata": {
    "colab": {
      "provenance": [],
      "authorship_tag": "ABX9TyPI5YUrL+5zW+Bcsvnic1bX",
      "include_colab_link": true
    },
    "kernelspec": {
      "name": "python3",
      "display_name": "Python 3"
    },
    "language_info": {
      "name": "python"
    }
  },
  "cells": [
    {
      "cell_type": "markdown",
      "metadata": {
        "id": "view-in-github",
        "colab_type": "text"
      },
      "source": [
        "<a href=\"https://colab.research.google.com/github/ssook1222/1Day-1Algo/blob/master/ssook/25%EB%85%84/8%EC%9B%94/8%EC%9B%94%203%EC%A3%BC%EC%B0%A8/0811.ipynb\" target=\"_parent\"><img src=\"https://colab.research.google.com/assets/colab-badge.svg\" alt=\"Open In Colab\"/></a>"
      ]
    },
    {
      "cell_type": "markdown",
      "source": [
        "## BoJ"
      ],
      "metadata": {
        "id": "6oKROgOIZIgA"
      }
    },
    {
      "cell_type": "markdown",
      "source": [
        "### 33868"
      ],
      "metadata": {
        "id": "L334lZXsZL2w"
      }
    },
    {
      "cell_type": "code",
      "execution_count": null,
      "metadata": {
        "id": "Q0fRjJgkYFiH"
      },
      "outputs": [],
      "source": [
        "n = int(input())\n",
        "\n",
        "T_max = 0\n",
        "B_min = float('inf')\n",
        "\n",
        "for _ in range(n):\n",
        "    T, B = map(int, input().split())\n",
        "    T_max = max(T_max, T)\n",
        "    B_min = min(B_min, B)\n",
        "\n",
        "index = (T_max * B_min) % 7\n",
        "# 나머지 0~6 → 캐릭터 번호 1~7이 되도록\n",
        "character_number = index + 1\n",
        "\n",
        "print(character_number)"
      ]
    },
    {
      "cell_type": "markdown",
      "source": [
        "## Programmers"
      ],
      "metadata": {
        "id": "6_XAsc95ZOIy"
      }
    },
    {
      "cell_type": "markdown",
      "source": [
        "### 두수의 나눗셈"
      ],
      "metadata": {
        "id": "Vy9J8-9wZOHK"
      }
    },
    {
      "cell_type": "code",
      "source": [
        "def solution(num1, num2):\n",
        "    answer = int((num1 / num2) * 1000)\n",
        "    return answer"
      ],
      "metadata": {
        "id": "VclxjiSFZTt2"
      },
      "execution_count": null,
      "outputs": []
    }
  ]
}