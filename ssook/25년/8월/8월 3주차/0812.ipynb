{
  "nbformat": 4,
  "nbformat_minor": 0,
  "metadata": {
    "colab": {
      "provenance": [],
      "authorship_tag": "ABX9TyP3n7dDTDoCAbJF6khBZiC+",
      "include_colab_link": true
    },
    "kernelspec": {
      "name": "python3",
      "display_name": "Python 3"
    },
    "language_info": {
      "name": "python"
    }
  },
  "cells": [
    {
      "cell_type": "markdown",
      "metadata": {
        "id": "view-in-github",
        "colab_type": "text"
      },
      "source": [
        "<a href=\"https://colab.research.google.com/github/ssook1222/1Day-1Algo/blob/master/ssook/25%EB%85%84/8%EC%9B%94/8%EC%9B%94%203%EC%A3%BC%EC%B0%A8/0812.ipynb\" target=\"_parent\"><img src=\"https://colab.research.google.com/assets/colab-badge.svg\" alt=\"Open In Colab\"/></a>"
      ]
    },
    {
      "cell_type": "markdown",
      "source": [
        "## BoJ"
      ],
      "metadata": {
        "id": "6oKROgOIZIgA"
      }
    },
    {
      "cell_type": "markdown",
      "source": [
        "### 33990"
      ],
      "metadata": {
        "id": "L334lZXsZL2w"
      }
    },
    {
      "cell_type": "code",
      "execution_count": null,
      "metadata": {
        "id": "Q0fRjJgkYFiH"
      },
      "outputs": [],
      "source": [
        "n = int(input())\n",
        "\n",
        "valid_totals = []\n",
        "\n",
        "for _ in range(n):\n",
        "    a, b, c = map(int, input().split())\n",
        "    total = a + b + c\n",
        "    if total >= 512:\n",
        "        valid_totals.append(total)\n",
        "\n",
        "if valid_totals:\n",
        "    print(min(valid_totals))\n",
        "else:\n",
        "    print(-1)"
      ]
    },
    {
      "cell_type": "markdown",
      "source": [
        "## Programmers"
      ],
      "metadata": {
        "id": "6_XAsc95ZOIy"
      }
    },
    {
      "cell_type": "markdown",
      "source": [
        "### 양꼬치"
      ],
      "metadata": {
        "id": "Vy9J8-9wZOHK"
      }
    },
    {
      "cell_type": "code",
      "source": [
        "def solution(n, k):\n",
        "    answer = 0\n",
        "\n",
        "    if n >= 10:\n",
        "        k -= 1 * (n // 10)\n",
        "        answer = n * 12000 + k * 2000\n",
        "\n",
        "    else:\n",
        "        answer = n * 12000 + k * 2000\n",
        "\n",
        "    return answer"
      ],
      "metadata": {
        "id": "VclxjiSFZTt2"
      },
      "execution_count": null,
      "outputs": []
    }
  ]
}