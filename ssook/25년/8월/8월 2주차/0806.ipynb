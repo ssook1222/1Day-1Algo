{
  "nbformat": 4,
  "nbformat_minor": 0,
  "metadata": {
    "colab": {
      "provenance": [],
      "authorship_tag": "ABX9TyMS5yUjFp56OfS7GHhtnO7q",
      "include_colab_link": true
    },
    "kernelspec": {
      "name": "python3",
      "display_name": "Python 3"
    },
    "language_info": {
      "name": "python"
    }
  },
  "cells": [
    {
      "cell_type": "markdown",
      "metadata": {
        "id": "view-in-github",
        "colab_type": "text"
      },
      "source": [
        "<a href=\"https://colab.research.google.com/github/ssook1222/1Day-1Algo/blob/master/ssook/25%EB%85%84/8%EC%9B%94/8%EC%9B%94%202%EC%A3%BC%EC%B0%A8/0806.ipynb\" target=\"_parent\"><img src=\"https://colab.research.google.com/assets/colab-badge.svg\" alt=\"Open In Colab\"/></a>"
      ]
    },
    {
      "cell_type": "markdown",
      "source": [
        "## BoJ"
      ],
      "metadata": {
        "id": "QeVeYZHa6z3o"
      }
    },
    {
      "cell_type": "markdown",
      "source": [
        "### 32132"
      ],
      "metadata": {
        "id": "095NJdo561VO"
      }
    },
    {
      "cell_type": "code",
      "execution_count": null,
      "metadata": {
        "id": "5GeHle3y6ZE2"
      },
      "outputs": [],
      "source": [
        "length = int(input())\n",
        "text = input()\n",
        "\n",
        "while True:\n",
        "    if \"PS4\" in text or \"PS5\" in text:\n",
        "        text = text.replace(\"PS4\", \"PS\").replace(\"PS5\", \"PS\")\n",
        "    else:\n",
        "        break\n",
        "\n",
        "print(text)"
      ]
    },
    {
      "cell_type": "markdown",
      "source": [
        "## Programmers"
      ],
      "metadata": {
        "id": "cNkcD-XZ63DD"
      }
    },
    {
      "cell_type": "markdown",
      "source": [
        "### A로 B만들기"
      ],
      "metadata": {
        "id": "B--7Ji3k64-U"
      }
    },
    {
      "cell_type": "code",
      "source": [
        "def solution(before, after):\n",
        "    if len(before) != len(after):\n",
        "        return 0\n",
        "\n",
        "    before_dict = {}\n",
        "    after_dict = {}\n",
        "\n",
        "    for ch in before:\n",
        "        before_dict[ch] = before_dict.get(ch, 0) + 1\n",
        "\n",
        "    for ch in after:\n",
        "        after_dict[ch] = after_dict.get(ch, 0) + 1\n",
        "\n",
        "    if before_dict == after_dict:\n",
        "        return 1\n",
        "\n",
        "    return 0\n"
      ],
      "metadata": {
        "id": "W5lPXdR265zK"
      },
      "execution_count": null,
      "outputs": []
    }
  ]
}