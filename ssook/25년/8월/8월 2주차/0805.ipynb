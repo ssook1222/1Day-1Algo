{
  "nbformat": 4,
  "nbformat_minor": 0,
  "metadata": {
    "colab": {
      "provenance": [],
      "authorship_tag": "ABX9TyO8LIlRhmqiW6hf9YZBm2om",
      "include_colab_link": true
    },
    "kernelspec": {
      "name": "python3",
      "display_name": "Python 3"
    },
    "language_info": {
      "name": "python"
    }
  },
  "cells": [
    {
      "cell_type": "markdown",
      "metadata": {
        "id": "view-in-github",
        "colab_type": "text"
      },
      "source": [
        "<a href=\"https://colab.research.google.com/github/ssook1222/1Day-1Algo/blob/master/ssook/25%EB%85%84/8%EC%9B%94/8%EC%9B%94%202%EC%A3%BC%EC%B0%A8/0805.ipynb\" target=\"_parent\"><img src=\"https://colab.research.google.com/assets/colab-badge.svg\" alt=\"Open In Colab\"/></a>"
      ]
    },
    {
      "cell_type": "markdown",
      "source": [
        "## BoJ"
      ],
      "metadata": {
        "id": "QeVeYZHa6z3o"
      }
    },
    {
      "cell_type": "markdown",
      "source": [
        "### 32779"
      ],
      "metadata": {
        "id": "095NJdo561VO"
      }
    },
    {
      "cell_type": "code",
      "execution_count": null,
      "metadata": {
        "id": "5GeHle3y6ZE2"
      },
      "outputs": [],
      "source": [
        "Q = int(input())\n",
        "\n",
        "for _ in range(Q):\n",
        "    watt, minutes = map(int, input().split())\n",
        "    # 소비 전력(W) * 사용 시간(분) * 요율(105.6원/kWh)을 계산\n",
        "    # 1W * 1분 = (1/1000)kW * (1/60)h = 1/60000 kWh\n",
        "    # 따라서 1W * 1분당 요금은 105.6 / 60000 = 0.00176 원\n",
        "    cost = int(watt * minutes * 0.00176)\n",
        "    print(cost)"
      ]
    },
    {
      "cell_type": "markdown",
      "source": [
        "## Programmers"
      ],
      "metadata": {
        "id": "cNkcD-XZ63DD"
      }
    },
    {
      "cell_type": "markdown",
      "source": [
        "### 이진수 더하기"
      ],
      "metadata": {
        "id": "B--7Ji3k64-U"
      }
    },
    {
      "cell_type": "code",
      "source": [
        "def solution(bin1, bin2):\n",
        "    return str(bin(int(bin1,2) + int(bin2,2))[2:])"
      ],
      "metadata": {
        "id": "W5lPXdR265zK"
      },
      "execution_count": null,
      "outputs": []
    }
  ]
}