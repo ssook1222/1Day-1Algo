{
  "nbformat": 4,
  "nbformat_minor": 0,
  "metadata": {
    "colab": {
      "provenance": [],
      "authorship_tag": "ABX9TyPl/CJ9IapVTrbudiI2wpH6",
      "include_colab_link": true
    },
    "kernelspec": {
      "name": "python3",
      "display_name": "Python 3"
    },
    "language_info": {
      "name": "python"
    }
  },
  "cells": [
    {
      "cell_type": "markdown",
      "metadata": {
        "id": "view-in-github",
        "colab_type": "text"
      },
      "source": [
        "<a href=\"https://colab.research.google.com/github/ssook1222/1Day-1Algo/blob/master/ssook/25%EB%85%84/8%EC%9B%94/8%EC%9B%94%202%EC%A3%BC%EC%B0%A8/0804.ipynb\" target=\"_parent\"><img src=\"https://colab.research.google.com/assets/colab-badge.svg\" alt=\"Open In Colab\"/></a>"
      ]
    },
    {
      "cell_type": "markdown",
      "source": [
        "## BoJ"
      ],
      "metadata": {
        "id": "QeVeYZHa6z3o"
      }
    },
    {
      "cell_type": "markdown",
      "source": [
        "### 31654"
      ],
      "metadata": {
        "id": "095NJdo561VO"
      }
    },
    {
      "cell_type": "code",
      "execution_count": null,
      "metadata": {
        "id": "5GeHle3y6ZE2"
      },
      "outputs": [],
      "source": [
        "# 입력을 받고 공백 기준으로 나눠서 정수형으로 변환\n",
        "A, B, C = map(int, input().split())\n",
        "\n",
        "# A + B가 C와 같은지 확인\n",
        "if A + B == C:\n",
        "    print(\"correct!\")\n",
        "else:\n",
        "    print(\"wrong!\")"
      ]
    },
    {
      "cell_type": "markdown",
      "source": [
        "## Programmers"
      ],
      "metadata": {
        "id": "cNkcD-XZ63DD"
      }
    },
    {
      "cell_type": "markdown",
      "source": [
        "### 나머지 구하기"
      ],
      "metadata": {
        "id": "B--7Ji3k64-U"
      }
    },
    {
      "cell_type": "code",
      "source": [
        "def solution(num1, num2):\n",
        "    answer = -1\n",
        "    answer = num1 % num2\n",
        "\n",
        "    return answer"
      ],
      "metadata": {
        "id": "W5lPXdR265zK"
      },
      "execution_count": null,
      "outputs": []
    }
  ]
}