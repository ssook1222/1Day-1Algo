{
  "nbformat": 4,
  "nbformat_minor": 0,
  "metadata": {
    "colab": {
      "provenance": [],
      "authorship_tag": "ABX9TyMHOJVjgL1NylwiCeNBylyD",
      "include_colab_link": true
    },
    "kernelspec": {
      "name": "python3",
      "display_name": "Python 3"
    },
    "language_info": {
      "name": "python"
    }
  },
  "cells": [
    {
      "cell_type": "markdown",
      "metadata": {
        "id": "view-in-github",
        "colab_type": "text"
      },
      "source": [
        "<a href=\"https://colab.research.google.com/github/ssook1222/1Day-1Algo/blob/master/ssook/25%EB%85%84/8%EC%9B%94/8%EC%9B%94%202%EC%A3%BC%EC%B0%A8/0809.ipynb\" target=\"_parent\"><img src=\"https://colab.research.google.com/assets/colab-badge.svg\" alt=\"Open In Colab\"/></a>"
      ]
    },
    {
      "cell_type": "markdown",
      "source": [
        "## BoJ"
      ],
      "metadata": {
        "id": "QeVeYZHa6z3o"
      }
    },
    {
      "cell_type": "markdown",
      "source": [
        "### 30236"
      ],
      "metadata": {
        "id": "095NJdo561VO"
      }
    },
    {
      "cell_type": "code",
      "execution_count": null,
      "metadata": {
        "id": "5GeHle3y6ZE2"
      },
      "outputs": [],
      "source": [
        "import sys\n",
        "input = sys.stdin.readline\n",
        "\n",
        "def read():\n",
        "    return int(sys.stdin.read().split()[read.idx])\n",
        "read.idx = 0\n",
        "\n",
        "raw_input = sys.stdin.read().split()\n",
        "read.idx = 0\n",
        "t = int(raw_input[read.idx])\n",
        "read.idx += 1\n",
        "\n",
        "for _ in range(t):\n",
        "    n = int(raw_input[read.idx])\n",
        "    read.idx += 1\n",
        "    arr = list(map(int, raw_input[read.idx:read.idx + n]))\n",
        "    read.idx += n\n",
        "\n",
        "    res = 0\n",
        "    j = 1\n",
        "    for i in range(n):\n",
        "        if arr[i] == j:\n",
        "            j += 1\n",
        "        res = j\n",
        "        j += 1\n",
        "    print(res)\n"
      ]
    },
    {
      "cell_type": "markdown",
      "source": [
        "## Programmers"
      ],
      "metadata": {
        "id": "cNkcD-XZ63DD"
      }
    },
    {
      "cell_type": "markdown",
      "source": [
        "### 연속된 수의 합"
      ],
      "metadata": {
        "id": "B--7Ji3k64-U"
      }
    },
    {
      "cell_type": "code",
      "source": [
        "def solution(num, total):\n",
        "    start_num = total // num - (num - 1) // 2\n",
        "    return list(range(start_num, start_num + num))\n"
      ],
      "metadata": {
        "id": "W5lPXdR265zK"
      },
      "execution_count": null,
      "outputs": []
    }
  ]
}