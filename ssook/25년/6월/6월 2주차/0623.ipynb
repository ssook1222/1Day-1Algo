{
  "nbformat": 4,
  "nbformat_minor": 0,
  "metadata": {
    "colab": {
      "provenance": [],
      "authorship_tag": "ABX9TyP1aNx4h5GDWTWPQ6GLOUNL",
      "include_colab_link": true
    },
    "kernelspec": {
      "name": "python3",
      "display_name": "Python 3"
    },
    "language_info": {
      "name": "python"
    }
  },
  "cells": [
    {
      "cell_type": "markdown",
      "metadata": {
        "id": "view-in-github",
        "colab_type": "text"
      },
      "source": [
        "<a href=\"https://colab.research.google.com/github/ssook1222/1Day-1Algo/blob/master/ssook/25%EB%85%84/6%EC%9B%94/6%EC%9B%94%202%EC%A3%BC%EC%B0%A8/0623.ipynb\" target=\"_parent\"><img src=\"https://colab.research.google.com/assets/colab-badge.svg\" alt=\"Open In Colab\"/></a>"
      ]
    },
    {
      "cell_type": "markdown",
      "source": [
        "## BoJ"
      ],
      "metadata": {
        "id": "DM50pFtvNY9f"
      }
    },
    {
      "cell_type": "markdown",
      "source": [
        "### 11586"
      ],
      "metadata": {
        "id": "t6y6ADIJOIKI"
      }
    },
    {
      "cell_type": "code",
      "execution_count": null,
      "metadata": {
        "id": "PoEJnA96NNkg"
      },
      "outputs": [],
      "source": [
        "# 입력 받기\n",
        "N = int(input())  # 마법거울의 크기\n",
        "mirror = [input() for _ in range(N)]  # 마법거울에 비친 공주님의 원래 모습\n",
        "K = int(input())  # 마법거울의 심리상태\n",
        "\n",
        "# 반전 처리\n",
        "if K == 1:\n",
        "    # K가 1이면 그대로 출력\n",
        "    for row in mirror:\n",
        "        print(row)\n",
        "elif K == 2:\n",
        "    # K가 2이면 좌우 반전\n",
        "    for row in mirror:\n",
        "        print(row[::-1])  # 문자열을 뒤집어서 출력\n",
        "elif K == 3:\n",
        "    # K가 3이면 상하 반전\n",
        "    for row in mirror[::-1]:\n",
        "        print(row)  # mirror를 반전시켜서 출력"
      ]
    },
    {
      "cell_type": "markdown",
      "source": [
        "### Programmers"
      ],
      "metadata": {
        "id": "nY8bbtdXNa_0"
      }
    },
    {
      "cell_type": "markdown",
      "source": [
        "### x 사이의 개수"
      ],
      "metadata": {
        "id": "EhMGFDu-QiMX"
      }
    },
    {
      "cell_type": "code",
      "source": [
        "def solution(myString):\n",
        "    answer = []\n",
        "\n",
        "    arrays = list(map(list, myString.split(\"x\")))\n",
        "\n",
        "    for i in range(len(arrays)):\n",
        "        answer.append(len(arrays[i]))\n",
        "\n",
        "    return answer"
      ],
      "metadata": {
        "id": "t0IT4OiTNc1o"
      },
      "execution_count": null,
      "outputs": []
    }
  ]
}