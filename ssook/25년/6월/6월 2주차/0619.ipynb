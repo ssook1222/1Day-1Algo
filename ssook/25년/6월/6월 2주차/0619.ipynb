{
  "nbformat": 4,
  "nbformat_minor": 0,
  "metadata": {
    "colab": {
      "provenance": [],
      "authorship_tag": "ABX9TyNpqWmZLsB9uD0Tenaap+4/",
      "include_colab_link": true
    },
    "kernelspec": {
      "name": "python3",
      "display_name": "Python 3"
    },
    "language_info": {
      "name": "python"
    }
  },
  "cells": [
    {
      "cell_type": "markdown",
      "metadata": {
        "id": "view-in-github",
        "colab_type": "text"
      },
      "source": [
        "<a href=\"https://colab.research.google.com/github/ssook1222/1Day-1Algo/blob/master/ssook/25%EB%85%84/6%EC%9B%94/6%EC%9B%94%202%EC%A3%BC%EC%B0%A8/0619.ipynb\" target=\"_parent\"><img src=\"https://colab.research.google.com/assets/colab-badge.svg\" alt=\"Open In Colab\"/></a>"
      ]
    },
    {
      "cell_type": "markdown",
      "source": [
        "## BoJ"
      ],
      "metadata": {
        "id": "P4M5cYn-Xy8F"
      }
    },
    {
      "cell_type": "markdown",
      "source": [
        "### 2929"
      ],
      "metadata": {
        "id": "llHw4Y-RX0Nz"
      }
    },
    {
      "cell_type": "code",
      "source": [
        "def count_nops(program):\n",
        "    i = 0\n",
        "    n = len(program)\n",
        "    param_count = {}\n",
        "\n",
        "    # 1. 각 명령어의 파라미터 개수 파악\n",
        "    while i < n:\n",
        "        cmd = program[i]\n",
        "        i += 1\n",
        "        count = 0\n",
        "        while i < n and program[i].islower():\n",
        "            count += 1\n",
        "            i += 1\n",
        "        if cmd not in param_count:\n",
        "            param_count[cmd] = count\n",
        "\n",
        "    # 2. NOP 계산\n",
        "    i = 0\n",
        "    pos = 0  # 현재 메모리 위치\n",
        "    nop_needed = 0\n",
        "\n",
        "    while i < n:\n",
        "        cmd = program[i]\n",
        "        # 2-1. 명령어 위치가 4의 배수가 아니면, NOP 삽입\n",
        "        if pos % 4 != 0:\n",
        "            nop = 4 - (pos % 4)\n",
        "            nop_needed += nop\n",
        "            pos += nop\n",
        "        i += 1\n",
        "        param_len = param_count[cmd]\n",
        "        i += param_len\n",
        "        pos += 1 + param_len  # 명령어 + 파라미터 크기 합\n",
        "\n",
        "    return nop_needed\n",
        "\n",
        "# 입력 처리\n",
        "program = input().strip()\n",
        "print(count_nops(program))\n"
      ],
      "metadata": {
        "id": "t1mCM_xFX0vP"
      },
      "execution_count": null,
      "outputs": []
    },
    {
      "cell_type": "markdown",
      "source": [
        "## CodeTree"
      ],
      "metadata": {
        "id": "7zjg_ZKWX1Cx"
      }
    },
    {
      "cell_type": "markdown",
      "source": [
        "### 입력받은 값 교체하기"
      ],
      "metadata": {
        "id": "-4ayhkWXX283"
      }
    },
    {
      "cell_type": "code",
      "source": [
        "a, b = map(int, input().split())\n",
        "print(b, a)"
      ],
      "metadata": {
        "id": "y_cX6jTlX3fR"
      },
      "execution_count": null,
      "outputs": []
    }
  ]
}