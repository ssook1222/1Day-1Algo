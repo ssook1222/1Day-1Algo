{
  "nbformat": 4,
  "nbformat_minor": 0,
  "metadata": {
    "colab": {
      "provenance": [],
      "authorship_tag": "ABX9TyN/NsY7aZd0nZuz8mme52ia",
      "include_colab_link": true
    },
    "kernelspec": {
      "name": "python3",
      "display_name": "Python 3"
    },
    "language_info": {
      "name": "python"
    }
  },
  "cells": [
    {
      "cell_type": "markdown",
      "metadata": {
        "id": "view-in-github",
        "colab_type": "text"
      },
      "source": [
        "<a href=\"https://colab.research.google.com/github/ssook1222/1Day-1Algo/blob/master/ssook/25%EB%85%84/6%EC%9B%94/6%EC%9B%94%202%EC%A3%BC%EC%B0%A8/0611.ipynb\" target=\"_parent\"><img src=\"https://colab.research.google.com/assets/colab-badge.svg\" alt=\"Open In Colab\"/></a>"
      ]
    },
    {
      "cell_type": "markdown",
      "source": [
        "## BoJ"
      ],
      "metadata": {
        "id": "T6OpnXdvZ7Zn"
      }
    },
    {
      "cell_type": "markdown",
      "source": [
        "### 1673"
      ],
      "metadata": {
        "id": "T4ogXuzTZ9Jn"
      }
    },
    {
      "cell_type": "code",
      "source": [
        "import sys\n",
        "\n",
        "def max_chickens(n, k):\n",
        "    total = n  # 처음에 가지고 있는 쿠폰 수로 치킨을 시킴\n",
        "    stamps = n  # 치킨을 시키면서 받은 도장 수\n",
        "\n",
        "    while stamps >= k:\n",
        "        new_coupons = stamps // k\n",
        "        total += new_coupons\n",
        "        stamps = stamps % k + new_coupons  # 남은 도장 + 새로 받은 도장\n",
        "\n",
        "    return total\n",
        "\n",
        "# 여러 줄 입력 처리\n",
        "for line in sys.stdin:\n",
        "    if line.strip() == \"\":\n",
        "        continue\n",
        "    n, k = map(int, line.strip().split())\n",
        "    print(max_chickens(n, k))\n"
      ],
      "metadata": {
        "id": "usNLWdXLZ9s_"
      },
      "execution_count": null,
      "outputs": []
    },
    {
      "cell_type": "markdown",
      "source": [
        "## CodeTree"
      ],
      "metadata": {
        "id": "zqzEkkEPZ9-n"
      }
    },
    {
      "cell_type": "markdown",
      "source": [
        "### 비교에 따른 연산"
      ],
      "metadata": {
        "id": "PvqiwgorZ-y6"
      }
    },
    {
      "cell_type": "code",
      "source": [
        "# 입력 받기\n",
        "a, b = map(int, input().split())\n",
        "\n",
        "# 조건에 따라 출력\n",
        "if a > b:\n",
        "    print(a * b)\n",
        "else:\n",
        "    print(b // a)"
      ],
      "metadata": {
        "id": "_BH47fBTZ_fx"
      },
      "execution_count": null,
      "outputs": []
    }
  ]
}