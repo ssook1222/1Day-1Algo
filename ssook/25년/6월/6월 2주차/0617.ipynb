{
  "nbformat": 4,
  "nbformat_minor": 0,
  "metadata": {
    "colab": {
      "provenance": [],
      "authorship_tag": "ABX9TyO89uL/7g0gDYmV3WRDfuxO",
      "include_colab_link": true
    },
    "kernelspec": {
      "name": "python3",
      "display_name": "Python 3"
    },
    "language_info": {
      "name": "python"
    }
  },
  "cells": [
    {
      "cell_type": "markdown",
      "metadata": {
        "id": "view-in-github",
        "colab_type": "text"
      },
      "source": [
        "<a href=\"https://colab.research.google.com/github/ssook1222/1Day-1Algo/blob/master/ssook/25%EB%85%84/6%EC%9B%94/6%EC%9B%94%202%EC%A3%BC%EC%B0%A8/0617.ipynb\" target=\"_parent\"><img src=\"https://colab.research.google.com/assets/colab-badge.svg\" alt=\"Open In Colab\"/></a>"
      ]
    },
    {
      "cell_type": "markdown",
      "source": [
        "## BoJ"
      ],
      "metadata": {
        "id": "P4M5cYn-Xy8F"
      }
    },
    {
      "cell_type": "markdown",
      "source": [
        "### 2896"
      ],
      "metadata": {
        "id": "llHw4Y-RX0Nz"
      }
    },
    {
      "cell_type": "code",
      "source": [
        "# 입력 받기\n",
        "A, B, C = map(float, input().split())\n",
        "I, J, K = map(float, input().split())\n",
        "\n",
        "# 만들 수 있는 최대 칵테일 배수 계산 (가장 적게 만들 수 있는 비율 기준)\n",
        "ratio = min(A / I, B / J, C / K)\n",
        "\n",
        "# 각 주스의 남은 양 계산\n",
        "left_A = A - I * ratio\n",
        "left_B = B - J * ratio\n",
        "left_C = C - K * ratio\n",
        "\n",
        "# 결과 출력 (소수점 6자리까지)\n",
        "print(f\"{left_A:.6f} {left_B:.6f} {left_C:.6f}\")"
      ],
      "metadata": {
        "id": "t1mCM_xFX0vP"
      },
      "execution_count": null,
      "outputs": []
    },
    {
      "cell_type": "markdown",
      "source": [
        "## CodeTree"
      ],
      "metadata": {
        "id": "7zjg_ZKWX1Cx"
      }
    },
    {
      "cell_type": "markdown",
      "source": [
        "### 달에서 무게 구하기"
      ],
      "metadata": {
        "id": "-4ayhkWXX283"
      }
    },
    {
      "cell_type": "code",
      "source": [
        "t = 13\n",
        "g = 0.165\n",
        "print(\"%d * %.6f = %.6f\" %(t, g, t*g))"
      ],
      "metadata": {
        "id": "y_cX6jTlX3fR"
      },
      "execution_count": null,
      "outputs": []
    }
  ]
}