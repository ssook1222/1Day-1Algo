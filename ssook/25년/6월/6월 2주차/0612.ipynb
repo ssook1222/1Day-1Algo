{
  "nbformat": 4,
  "nbformat_minor": 0,
  "metadata": {
    "colab": {
      "provenance": [],
      "authorship_tag": "ABX9TyPQKLRdYKPw/O9PG56UFnSL",
      "include_colab_link": true
    },
    "kernelspec": {
      "name": "python3",
      "display_name": "Python 3"
    },
    "language_info": {
      "name": "python"
    }
  },
  "cells": [
    {
      "cell_type": "markdown",
      "metadata": {
        "id": "view-in-github",
        "colab_type": "text"
      },
      "source": [
        "<a href=\"https://colab.research.google.com/github/ssook1222/1Day-1Algo/blob/master/ssook/25%EB%85%84/6%EC%9B%94/6%EC%9B%94%202%EC%A3%BC%EC%B0%A8/0612.ipynb\" target=\"_parent\"><img src=\"https://colab.research.google.com/assets/colab-badge.svg\" alt=\"Open In Colab\"/></a>"
      ]
    },
    {
      "cell_type": "markdown",
      "source": [
        "## BoJ"
      ],
      "metadata": {
        "id": "T6OpnXdvZ7Zn"
      }
    },
    {
      "cell_type": "markdown",
      "source": [
        "### 1681"
      ],
      "metadata": {
        "id": "T4ogXuzTZ9Jn"
      }
    },
    {
      "cell_type": "code",
      "source": [
        "def max_label_number(N, L):\n",
        "    count = 0\n",
        "    num = 1\n",
        "    while True:\n",
        "        if str(L) not in str(num):\n",
        "            count += 1\n",
        "            if count == N:\n",
        "                return num\n",
        "        num += 1\n",
        "\n",
        "# 입력 받기\n",
        "N, L = map(int, input().split())\n",
        "print(max_label_number(N, L))\n"
      ],
      "metadata": {
        "id": "usNLWdXLZ9s_"
      },
      "execution_count": null,
      "outputs": []
    },
    {
      "cell_type": "markdown",
      "source": [
        "## CodeTree"
      ],
      "metadata": {
        "id": "zqzEkkEPZ9-n"
      }
    },
    {
      "cell_type": "markdown",
      "source": [
        "### 특정 조건 두 정수 비교"
      ],
      "metadata": {
        "id": "PvqiwgorZ-y6"
      }
    },
    {
      "cell_type": "code",
      "source": [
        "a, b = map(int, input().split())\n",
        "\n",
        "if a < b:\n",
        "    print(1, end=' ')\n",
        "\n",
        "else:\n",
        "    print(0, end=' ')\n",
        "\n",
        "\n",
        "if a == b:\n",
        "    print(1)\n",
        "\n",
        "else:\n",
        "    print(0)"
      ],
      "metadata": {
        "id": "_BH47fBTZ_fx"
      },
      "execution_count": null,
      "outputs": []
    }
  ]
}