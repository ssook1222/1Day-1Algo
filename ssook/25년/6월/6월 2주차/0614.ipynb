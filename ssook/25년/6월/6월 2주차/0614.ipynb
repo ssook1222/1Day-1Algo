{
  "nbformat": 4,
  "nbformat_minor": 0,
  "metadata": {
    "colab": {
      "provenance": [],
      "authorship_tag": "ABX9TyPekgY1gZo4lLSwKhJANtXC",
      "include_colab_link": true
    },
    "kernelspec": {
      "name": "python3",
      "display_name": "Python 3"
    },
    "language_info": {
      "name": "python"
    }
  },
  "cells": [
    {
      "cell_type": "markdown",
      "metadata": {
        "id": "view-in-github",
        "colab_type": "text"
      },
      "source": [
        "<a href=\"https://colab.research.google.com/github/ssook1222/1Day-1Algo/blob/master/ssook/25%EB%85%84/6%EC%9B%94/6%EC%9B%94%202%EC%A3%BC%EC%B0%A8/0614.ipynb\" target=\"_parent\"><img src=\"https://colab.research.google.com/assets/colab-badge.svg\" alt=\"Open In Colab\"/></a>"
      ]
    },
    {
      "cell_type": "markdown",
      "source": [
        "## BoJ"
      ],
      "metadata": {
        "id": "T6OpnXdvZ7Zn"
      }
    },
    {
      "cell_type": "markdown",
      "source": [
        "### 1773"
      ],
      "metadata": {
        "id": "T4ogXuzTZ9Jn"
      }
    },
    {
      "cell_type": "code",
      "source": [
        "def count_firework_times(N, C, intervals):\n",
        "    fired = [False] * (C + 1)\n",
        "\n",
        "    for interval in intervals:\n",
        "        for time in range(interval, C + 1, interval):\n",
        "            fired[time] = True\n",
        "\n",
        "    return sum(fired)\n",
        "# 입력 받기\n",
        "N, C = map(int, input().split())\n",
        "intervals = [int(input()) for _ in range(N)]\n",
        "\n",
        "# 출력\n",
        "print(count_firework_times(N, C, intervals))\n"
      ],
      "metadata": {
        "id": "usNLWdXLZ9s_"
      },
      "execution_count": null,
      "outputs": []
    },
    {
      "cell_type": "markdown",
      "source": [
        "## CodeTree"
      ],
      "metadata": {
        "id": "zqzEkkEPZ9-n"
      }
    },
    {
      "cell_type": "markdown",
      "source": [
        "### 문자 출력하기"
      ],
      "metadata": {
        "id": "PvqiwgorZ-y6"
      }
    },
    {
      "cell_type": "code",
      "source": [
        "n = input()\n",
        "\n",
        "print(n*8)"
      ],
      "metadata": {
        "id": "_BH47fBTZ_fx"
      },
      "execution_count": null,
      "outputs": []
    }
  ]
}