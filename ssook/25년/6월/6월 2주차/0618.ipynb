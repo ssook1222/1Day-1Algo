{
  "nbformat": 4,
  "nbformat_minor": 0,
  "metadata": {
    "colab": {
      "provenance": [],
      "authorship_tag": "ABX9TyNIQsuVJGSnYmTZjquxtn9a",
      "include_colab_link": true
    },
    "kernelspec": {
      "name": "python3",
      "display_name": "Python 3"
    },
    "language_info": {
      "name": "python"
    }
  },
  "cells": [
    {
      "cell_type": "markdown",
      "metadata": {
        "id": "view-in-github",
        "colab_type": "text"
      },
      "source": [
        "<a href=\"https://colab.research.google.com/github/ssook1222/1Day-1Algo/blob/master/ssook/25%EB%85%84/6%EC%9B%94/6%EC%9B%94%202%EC%A3%BC%EC%B0%A8/0618.ipynb\" target=\"_parent\"><img src=\"https://colab.research.google.com/assets/colab-badge.svg\" alt=\"Open In Colab\"/></a>"
      ]
    },
    {
      "cell_type": "markdown",
      "source": [
        "## BoJ"
      ],
      "metadata": {
        "id": "P4M5cYn-Xy8F"
      }
    },
    {
      "cell_type": "markdown",
      "source": [
        "### 2897"
      ],
      "metadata": {
        "id": "llHw4Y-RX0Nz"
      }
    },
    {
      "cell_type": "code",
      "source": [
        "# 입력\n",
        "R, C = map(int, input().split())\n",
        "grid = [input() for _ in range(R)]\n",
        "\n",
        "# 결과 저장할 리스트 (0~4대 차를 부수는 경우)\n",
        "result = [0] * 5\n",
        "\n",
        "# 모든 가능한 2x2 영역을 순회\n",
        "for i in range(R - 1):\n",
        "    for j in range(C - 1):\n",
        "        block = [\n",
        "            grid[i][j], grid[i][j + 1],\n",
        "            grid[i + 1][j], grid[i + 1][j + 1]\n",
        "        ]\n",
        "\n",
        "        # 빌딩이 있으면 주차 불가\n",
        "        if '#' in block:\n",
        "            continue\n",
        "\n",
        "        # 차(X)의 수 세기\n",
        "        count = block.count('X')\n",
        "        result[count] += 1\n",
        "\n",
        "# 결과 출력\n",
        "for r in result:\n",
        "    print(r)"
      ],
      "metadata": {
        "id": "t1mCM_xFX0vP"
      },
      "execution_count": null,
      "outputs": []
    },
    {
      "cell_type": "markdown",
      "source": [
        "## CodeTree"
      ],
      "metadata": {
        "id": "7zjg_ZKWX1Cx"
      }
    },
    {
      "cell_type": "markdown",
      "source": [
        "### 세 실수의 반올림"
      ],
      "metadata": {
        "id": "-4ayhkWXX283"
      }
    },
    {
      "cell_type": "code",
      "source": [
        "a = float(input())\n",
        "b = float(input())\n",
        "c = float(input())\n",
        "\n",
        "print(\"%.3f\" %round(a, 3))\n",
        "print(\"%.3f\" %round(b, 3))\n",
        "print(\"%.3f\" %round(c, 3))"
      ],
      "metadata": {
        "id": "y_cX6jTlX3fR"
      },
      "execution_count": null,
      "outputs": []
    }
  ]
}