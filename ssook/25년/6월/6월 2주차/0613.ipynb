{
  "nbformat": 4,
  "nbformat_minor": 0,
  "metadata": {
    "colab": {
      "provenance": [],
      "authorship_tag": "ABX9TyN0tyM90dYpKzMj/mgyLfTw",
      "include_colab_link": true
    },
    "kernelspec": {
      "name": "python3",
      "display_name": "Python 3"
    },
    "language_info": {
      "name": "python"
    }
  },
  "cells": [
    {
      "cell_type": "markdown",
      "metadata": {
        "id": "view-in-github",
        "colab_type": "text"
      },
      "source": [
        "<a href=\"https://colab.research.google.com/github/ssook1222/1Day-1Algo/blob/master/ssook/25%EB%85%84/6%EC%9B%94/6%EC%9B%94%202%EC%A3%BC%EC%B0%A8/0613.ipynb\" target=\"_parent\"><img src=\"https://colab.research.google.com/assets/colab-badge.svg\" alt=\"Open In Colab\"/></a>"
      ]
    },
    {
      "cell_type": "markdown",
      "source": [
        "## BoJ"
      ],
      "metadata": {
        "id": "T6OpnXdvZ7Zn"
      }
    },
    {
      "cell_type": "markdown",
      "source": [
        "### 1718"
      ],
      "metadata": {
        "id": "T4ogXuzTZ9Jn"
      }
    },
    {
      "cell_type": "code",
      "source": [
        "def encrypt_vigenere_reverse(plain, key):\n",
        "    result = []\n",
        "    key_len = len(key)\n",
        "    key_index = 0\n",
        "\n",
        "    for ch in plain:\n",
        "        if ch == ' ':\n",
        "            result.append(' ')\n",
        "        else:\n",
        "            # 알파벳 순서는 a=1, ..., z=26\n",
        "            shift = ord(key[key_index % key_len]) - ord('a') + 1\n",
        "            new_char_code = ord(ch) - shift\n",
        "            if new_char_code < ord('a'):\n",
        "                new_char_code += 26\n",
        "            result.append(chr(new_char_code))\n",
        "            key_index += 1\n",
        "\n",
        "    return ''.join(result)\n",
        "\n",
        "# 입력\n",
        "plain = input()\n",
        "key = input()\n",
        "\n",
        "# 출력\n",
        "print(encrypt_vigenere_reverse(plain, key))"
      ],
      "metadata": {
        "id": "usNLWdXLZ9s_"
      },
      "execution_count": null,
      "outputs": []
    },
    {
      "cell_type": "markdown",
      "source": [
        "## CodeTree"
      ],
      "metadata": {
        "id": "zqzEkkEPZ9-n"
      }
    },
    {
      "cell_type": "markdown",
      "source": [
        "### 따옴표 출력"
      ],
      "metadata": {
        "id": "PvqiwgorZ-y6"
      }
    },
    {
      "cell_type": "code",
      "source": [
        "print('He says \"It\\'s a really simple sentence\".')"
      ],
      "metadata": {
        "id": "_BH47fBTZ_fx"
      },
      "execution_count": null,
      "outputs": []
    }
  ]
}