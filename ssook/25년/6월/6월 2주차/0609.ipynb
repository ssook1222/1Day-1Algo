{
  "nbformat": 4,
  "nbformat_minor": 0,
  "metadata": {
    "colab": {
      "provenance": [],
      "authorship_tag": "ABX9TyOXSlshOmy7egunlyWL7m2R",
      "include_colab_link": true
    },
    "kernelspec": {
      "name": "python3",
      "display_name": "Python 3"
    },
    "language_info": {
      "name": "python"
    }
  },
  "cells": [
    {
      "cell_type": "markdown",
      "metadata": {
        "id": "view-in-github",
        "colab_type": "text"
      },
      "source": [
        "<a href=\"https://colab.research.google.com/github/ssook1222/1Day-1Algo/blob/master/ssook/25%EB%85%84/6%EC%9B%94/6%EC%9B%94%202%EC%A3%BC%EC%B0%A8/0609.ipynb\" target=\"_parent\"><img src=\"https://colab.research.google.com/assets/colab-badge.svg\" alt=\"Open In Colab\"/></a>"
      ]
    },
    {
      "cell_type": "markdown",
      "source": [
        "## BoJ"
      ],
      "metadata": {
        "id": "T6OpnXdvZ7Zn"
      }
    },
    {
      "cell_type": "markdown",
      "source": [
        "### 1592"
      ],
      "metadata": {
        "id": "T4ogXuzTZ9Jn"
      }
    },
    {
      "cell_type": "code",
      "source": [
        "def ball_game(N, M, L):\n",
        "    counts = [0] * N  # 각 사람의 공 받은 횟수\n",
        "    current = 0       # 현재 공을 가진 사람의 인덱스\n",
        "    throws = 0        # 공을 던진 횟수\n",
        "\n",
        "    while True:\n",
        "        counts[current] += 1\n",
        "        if counts[current] == M:\n",
        "            break\n",
        "        if counts[current] % 2 == 1:\n",
        "            # 홀수번이면 시계 방향\n",
        "            current = (current + L) % N\n",
        "        else:\n",
        "            # 짝수번이면 반시계 방향\n",
        "            current = (current - L + N) % N\n",
        "        throws += 1\n",
        "\n",
        "    return throws\n",
        "\n",
        "# 입력 받기\n",
        "N, M, L = map(int, input().split())\n",
        "print(ball_game(N, M, L))"
      ],
      "metadata": {
        "id": "usNLWdXLZ9s_"
      },
      "execution_count": null,
      "outputs": []
    },
    {
      "cell_type": "markdown",
      "source": [
        "## CodeTree"
      ],
      "metadata": {
        "id": "zqzEkkEPZ9-n"
      }
    },
    {
      "cell_type": "markdown",
      "source": [
        "### 비교 연산"
      ],
      "metadata": {
        "id": "PvqiwgorZ-y6"
      }
    },
    {
      "cell_type": "code",
      "source": [
        "# A, B 입력 받기\n",
        "A, B = map(int, input().split())\n",
        "\n",
        "# 각 조건에 대한 결과 출력\n",
        "print(1 if A >= B else 0)  # A가 B보다 같거나 큰가?\n",
        "print(1 if A > B else 0)   # A가 B보다 큰가?\n",
        "print(1 if B >= A else 0)  # B가 A보다 같거나 큰가?\n",
        "print(1 if B > A else 0)   # B가 A보다 큰가?\n",
        "print(1 if A == B else 0)  # A와 B가 같은가?\n",
        "print(1 if A != B else 0)  # A와 B가 다른가?"
      ],
      "metadata": {
        "id": "_BH47fBTZ_fx"
      },
      "execution_count": null,
      "outputs": []
    }
  ]
}