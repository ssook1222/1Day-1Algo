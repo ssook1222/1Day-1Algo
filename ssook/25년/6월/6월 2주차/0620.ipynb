{
  "nbformat": 4,
  "nbformat_minor": 0,
  "metadata": {
    "colab": {
      "provenance": [],
      "authorship_tag": "ABX9TyPP9B+ThPCbQ5xMqvXP7SGG",
      "include_colab_link": true
    },
    "kernelspec": {
      "name": "python3",
      "display_name": "Python 3"
    },
    "language_info": {
      "name": "python"
    }
  },
  "cells": [
    {
      "cell_type": "markdown",
      "metadata": {
        "id": "view-in-github",
        "colab_type": "text"
      },
      "source": [
        "<a href=\"https://colab.research.google.com/github/ssook1222/1Day-1Algo/blob/master/ssook/25%EB%85%84/6%EC%9B%94/6%EC%9B%94%202%EC%A3%BC%EC%B0%A8/0620.ipynb\" target=\"_parent\"><img src=\"https://colab.research.google.com/assets/colab-badge.svg\" alt=\"Open In Colab\"/></a>"
      ]
    },
    {
      "cell_type": "markdown",
      "source": [
        "## BoJ"
      ],
      "metadata": {
        "id": "P4M5cYn-Xy8F"
      }
    },
    {
      "cell_type": "markdown",
      "source": [
        "### 3412"
      ],
      "metadata": {
        "id": "llHw4Y-RX0Nz"
      }
    },
    {
      "cell_type": "code",
      "source": [
        "import sys\n",
        "import math\n",
        "\n",
        "input = sys.stdin.read\n",
        "data = input().split()\n",
        "\n",
        "index = 0\n",
        "T = int(data[index])\n",
        "index += 1\n",
        "\n",
        "results = []\n",
        "\n",
        "# 점수에 해당하는 반지름 제곱값들 (1점부터 10점까지, 반지름은 20, 40, ..., 200)\n",
        "radius_squared = [(20 * i) ** 2 for i in range(1, 11)]\n",
        "\n",
        "for _ in range(T):\n",
        "    n = int(data[index])\n",
        "    index += 1\n",
        "    score = 0\n",
        "    for _ in range(n):\n",
        "        x = int(data[index])\n",
        "        y = int(data[index + 1])\n",
        "        index += 2\n",
        "        dist_squared = x * x + y * y\n",
        "\n",
        "        if dist_squared > radius_squared[-1]:\n",
        "            continue  # 200보다 크면 점수 없음\n",
        "\n",
        "        for p in range(10):\n",
        "            if dist_squared <= radius_squared[p]:\n",
        "                score += 10 - p\n",
        "                break\n",
        "\n",
        "    results.append(score)\n",
        "\n",
        "for res in results:\n",
        "    print(res)\n"
      ],
      "metadata": {
        "id": "t1mCM_xFX0vP"
      },
      "execution_count": null,
      "outputs": []
    },
    {
      "cell_type": "markdown",
      "source": [
        "## CodeTree"
      ],
      "metadata": {
        "id": "7zjg_ZKWX1Cx"
      }
    },
    {
      "cell_type": "markdown",
      "source": [
        "### 입력 받은 값과 합 출력"
      ],
      "metadata": {
        "id": "-4ayhkWXX283"
      }
    },
    {
      "cell_type": "code",
      "source": [
        "a, b = map(int, input().split())\n",
        "print(a, b, a+b)"
      ],
      "metadata": {
        "id": "y_cX6jTlX3fR"
      },
      "execution_count": null,
      "outputs": []
    }
  ]
}