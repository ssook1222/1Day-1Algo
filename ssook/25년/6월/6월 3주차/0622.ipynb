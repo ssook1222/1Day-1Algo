{
  "nbformat": 4,
  "nbformat_minor": 0,
  "metadata": {
    "colab": {
      "provenance": [],
      "authorship_tag": "ABX9TyMQ8vga3eGqy9PJc76uzmx5",
      "include_colab_link": true
    },
    "kernelspec": {
      "name": "python3",
      "display_name": "Python 3"
    },
    "language_info": {
      "name": "python"
    }
  },
  "cells": [
    {
      "cell_type": "markdown",
      "metadata": {
        "id": "view-in-github",
        "colab_type": "text"
      },
      "source": [
        "<a href=\"https://colab.research.google.com/github/ssook1222/1Day-1Algo/blob/master/ssook/25%EB%85%84/6%EC%9B%94/6%EC%9B%94%203%EC%A3%BC%EC%B0%A8/0622.ipynb\" target=\"_parent\"><img src=\"https://colab.research.google.com/assets/colab-badge.svg\" alt=\"Open In Colab\"/></a>"
      ]
    },
    {
      "cell_type": "markdown",
      "source": [
        "## BoJ"
      ],
      "metadata": {
        "id": "P4M5cYn-Xy8F"
      }
    },
    {
      "cell_type": "markdown",
      "source": [
        "### 3035"
      ],
      "metadata": {
        "id": "llHw4Y-RX0Nz"
      }
    },
    {
      "cell_type": "code",
      "source": [
        "R, C, ZR, ZC = map(int, input().split())\n",
        "\n",
        "# 신문 기사 입력\n",
        "article = [input() for _ in range(R)]\n",
        "\n",
        "# 결과 출력\n",
        "for row in article:\n",
        "    # 가로로 확대된 줄 생성\n",
        "    expanded_row = ''.join(char * ZC for char in row)\n",
        "    # 세로로 확대된 줄을 ZR번 출력\n",
        "    for _ in range(ZR):\n",
        "        print(expanded_row)"
      ],
      "metadata": {
        "id": "t1mCM_xFX0vP"
      },
      "execution_count": null,
      "outputs": []
    },
    {
      "cell_type": "markdown",
      "source": [
        "## CodeTree"
      ],
      "metadata": {
        "id": "7zjg_ZKWX1Cx"
      }
    },
    {
      "cell_type": "markdown",
      "source": [
        "### 합과 평균의 차"
      ],
      "metadata": {
        "id": "-4ayhkWXX283"
      }
    },
    {
      "cell_type": "code",
      "source": [
        "a, b, c = map(int, input().split())\n",
        "print(a+b+c)\n",
        "print(int((a+b+c)/3))\n",
        "print(int(( a+b+c - ((a+b+c)/3) )))"
      ],
      "metadata": {
        "id": "y_cX6jTlX3fR"
      },
      "execution_count": null,
      "outputs": []
    }
  ]
}