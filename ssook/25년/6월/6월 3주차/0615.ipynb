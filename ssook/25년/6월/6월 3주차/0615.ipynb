{
  "nbformat": 4,
  "nbformat_minor": 0,
  "metadata": {
    "colab": {
      "provenance": [],
      "authorship_tag": "ABX9TyN8gbZ5v1DgqvsT9k3y5RT1",
      "include_colab_link": true
    },
    "kernelspec": {
      "name": "python3",
      "display_name": "Python 3"
    },
    "language_info": {
      "name": "python"
    }
  },
  "cells": [
    {
      "cell_type": "markdown",
      "metadata": {
        "id": "view-in-github",
        "colab_type": "text"
      },
      "source": [
        "<a href=\"https://colab.research.google.com/github/ssook1222/1Day-1Algo/blob/master/ssook/25%EB%85%84/6%EC%9B%94/6%EC%9B%94%203%EC%A3%BC%EC%B0%A8/0615.ipynb\" target=\"_parent\"><img src=\"https://colab.research.google.com/assets/colab-badge.svg\" alt=\"Open In Colab\"/></a>"
      ]
    },
    {
      "cell_type": "markdown",
      "source": [
        "## BoJ"
      ],
      "metadata": {
        "id": "T6OpnXdvZ7Zn"
      }
    },
    {
      "cell_type": "markdown",
      "source": [
        "### 1864"
      ],
      "metadata": {
        "id": "T4ogXuzTZ9Jn"
      }
    },
    {
      "cell_type": "code",
      "source": [
        "# 문어 숫자 기호 → 값 매핑\n",
        "octo_digit = {\n",
        "    '-': 0,\n",
        "    '\\\\': 1,\n",
        "    '(': 2,\n",
        "    '@': 3,\n",
        "    '?': 4,\n",
        "    '>': 5,\n",
        "    '&': 6,\n",
        "    '%': 7,\n",
        "    '/': -1\n",
        "}\n",
        "\n",
        "while True:\n",
        "    line = input()\n",
        "    if line == '#':\n",
        "        break\n",
        "\n",
        "    result = 0\n",
        "    length = len(line)\n",
        "\n",
        "    for i, ch in enumerate(line):\n",
        "        power = length - i - 1\n",
        "        value = octo_digit[ch]\n",
        "        result += value * (8 ** power)\n",
        "\n",
        "    print(result)\n"
      ],
      "metadata": {
        "id": "usNLWdXLZ9s_"
      },
      "execution_count": null,
      "outputs": []
    },
    {
      "cell_type": "markdown",
      "source": [
        "## CodeTree"
      ],
      "metadata": {
        "id": "zqzEkkEPZ9-n"
      }
    },
    {
      "cell_type": "markdown",
      "source": [
        " ### 문자열 출력하기"
      ],
      "metadata": {
        "id": "PvqiwgorZ-y6"
      }
    },
    {
      "cell_type": "code",
      "source": [
        "n = int(input())\n",
        "\n",
        "for i in range(n):\n",
        "    print(\"LeebrosCode\")"
      ],
      "metadata": {
        "id": "_BH47fBTZ_fx"
      },
      "execution_count": null,
      "outputs": []
    }
  ]
}