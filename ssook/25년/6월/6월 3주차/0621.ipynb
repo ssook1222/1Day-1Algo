{
  "nbformat": 4,
  "nbformat_minor": 0,
  "metadata": {
    "colab": {
      "provenance": [],
      "authorship_tag": "ABX9TyOrbS0wV+Pil1Ndz1QGlRfz",
      "include_colab_link": true
    },
    "kernelspec": {
      "name": "python3",
      "display_name": "Python 3"
    },
    "language_info": {
      "name": "python"
    }
  },
  "cells": [
    {
      "cell_type": "markdown",
      "metadata": {
        "id": "view-in-github",
        "colab_type": "text"
      },
      "source": [
        "<a href=\"https://colab.research.google.com/github/ssook1222/1Day-1Algo/blob/master/ssook/25%EB%85%84/6%EC%9B%94/6%EC%9B%94%203%EC%A3%BC%EC%B0%A8/0621.ipynb\" target=\"_parent\"><img src=\"https://colab.research.google.com/assets/colab-badge.svg\" alt=\"Open In Colab\"/></a>"
      ]
    },
    {
      "cell_type": "markdown",
      "source": [
        "## BoJ"
      ],
      "metadata": {
        "id": "P4M5cYn-Xy8F"
      }
    },
    {
      "cell_type": "markdown",
      "source": [
        "### 3023"
      ],
      "metadata": {
        "id": "llHw4Y-RX0Nz"
      }
    },
    {
      "cell_type": "code",
      "source": [
        "R, C = map(int, input().split())\n",
        "\n",
        "# 왼쪽 위 1/4 입력 받기\n",
        "quarter = [list(input()) for _ in range(R)]\n",
        "\n",
        "# 오른쪽 위는 왼쪽 위의 각 행을 좌우 반전\n",
        "upper_half = [row + row[::-1] for row in quarter]\n",
        "\n",
        "# 아래쪽 절반은 위쪽을 상하 반전\n",
        "full_card = upper_half + [row[:] for row in upper_half[::-1]]\n",
        "\n",
        "# 에러 위치 입력 (1-indexed)\n",
        "A, B = map(int, input().split())\n",
        "A -= 1\n",
        "B -= 1\n",
        "\n",
        "# 해당 위치의 문자 반전\n",
        "full_card[A][B] = '#' if full_card[A][B] == '.' else '.'\n",
        "\n",
        "# 결과 출력\n",
        "for row in full_card:\n",
        "    print(''.join(row))\n"
      ],
      "metadata": {
        "id": "t1mCM_xFX0vP"
      },
      "execution_count": null,
      "outputs": []
    },
    {
      "cell_type": "markdown",
      "source": [
        "## CodeTree"
      ],
      "metadata": {
        "id": "7zjg_ZKWX1Cx"
      }
    },
    {
      "cell_type": "markdown",
      "source": [
        "### 합과 평균"
      ],
      "metadata": {
        "id": "-4ayhkWXX283"
      }
    },
    {
      "cell_type": "code",
      "source": [
        "a, b = map(int, input().split())\n",
        "print(a+b, \"%.1f\" %((a+b)/2))"
      ],
      "metadata": {
        "id": "y_cX6jTlX3fR"
      },
      "execution_count": null,
      "outputs": []
    }
  ]
}