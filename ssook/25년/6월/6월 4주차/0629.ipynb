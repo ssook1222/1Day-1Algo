{
  "nbformat": 4,
  "nbformat_minor": 0,
  "metadata": {
    "colab": {
      "provenance": [],
      "authorship_tag": "ABX9TyMJzf6h0AfYjF/FknTpcU7y",
      "include_colab_link": true
    },
    "kernelspec": {
      "name": "python3",
      "display_name": "Python 3"
    },
    "language_info": {
      "name": "python"
    }
  },
  "cells": [
    {
      "cell_type": "markdown",
      "metadata": {
        "id": "view-in-github",
        "colab_type": "text"
      },
      "source": [
        "<a href=\"https://colab.research.google.com/github/ssook1222/1Day-1Algo/blob/master/ssook/25%EB%85%84/6%EC%9B%94/6%EC%9B%94%204%EC%A3%BC%EC%B0%A8/0629.ipynb\" target=\"_parent\"><img src=\"https://colab.research.google.com/assets/colab-badge.svg\" alt=\"Open In Colab\"/></a>"
      ]
    },
    {
      "cell_type": "markdown",
      "source": [
        "## BoJ"
      ],
      "metadata": {
        "id": "DM50pFtvNY9f"
      }
    },
    {
      "cell_type": "markdown",
      "source": [
        "### 12756"
      ],
      "metadata": {
        "id": "xd7Tg8KvQIaA"
      }
    },
    {
      "cell_type": "code",
      "execution_count": null,
      "metadata": {
        "id": "PoEJnA96NNkg"
      },
      "outputs": [],
      "source": [
        "a_atk, a_hp = map(int, input().split())\n",
        "b_atk, b_hp = map(int, input().split())\n",
        "\n",
        "# 각각 상대를 죽이기 위해 필요한 공격 횟수\n",
        "turns_b_to_kill_a = a_hp // b_atk + (1 if a_hp % b_atk else 0)\n",
        "turns_a_to_kill_b = b_hp // a_atk + (1 if b_hp % a_atk else 0)\n",
        "\n",
        "if turns_b_to_kill_a == turns_a_to_kill_b:\n",
        "    print(\"DRAW\")\n",
        "elif turns_b_to_kill_a > turns_a_to_kill_b:\n",
        "    print(\"PLAYER A\")\n",
        "else:\n",
        "    print(\"PLAYER B\")\n"
      ]
    },
    {
      "cell_type": "markdown",
      "source": [
        "### Programmers"
      ],
      "metadata": {
        "id": "nY8bbtdXNa_0"
      }
    },
    {
      "cell_type": "markdown",
      "source": [
        "### 홀수 VS 짝수"
      ],
      "metadata": {
        "id": "kLx0ilAURAOT"
      }
    },
    {
      "cell_type": "code",
      "source": [
        "def solution(num_list):\n",
        "    sum1 = 0\n",
        "    sum2 = 0\n",
        "\n",
        "    for i in range(len(num_list)):\n",
        "        if i%2 == 0:\n",
        "            sum1 += num_list[i]\n",
        "        else:\n",
        "            sum2 += num_list[i]\n",
        "\n",
        "    return max(sum1, sum2)"
      ],
      "metadata": {
        "id": "t0IT4OiTNc1o"
      },
      "execution_count": null,
      "outputs": []
    }
  ]
}