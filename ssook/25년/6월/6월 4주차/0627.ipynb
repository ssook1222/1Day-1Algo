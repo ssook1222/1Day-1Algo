{
  "nbformat": 4,
  "nbformat_minor": 0,
  "metadata": {
    "colab": {
      "provenance": [],
      "authorship_tag": "ABX9TyONPf6bL5cXi2Z1/7Zar6y5",
      "include_colab_link": true
    },
    "kernelspec": {
      "name": "python3",
      "display_name": "Python 3"
    },
    "language_info": {
      "name": "python"
    }
  },
  "cells": [
    {
      "cell_type": "markdown",
      "metadata": {
        "id": "view-in-github",
        "colab_type": "text"
      },
      "source": [
        "<a href=\"https://colab.research.google.com/github/ssook1222/1Day-1Algo/blob/master/ssook/25%EB%85%84/6%EC%9B%94/6%EC%9B%94%204%EC%A3%BC%EC%B0%A8/0627.ipynb\" target=\"_parent\"><img src=\"https://colab.research.google.com/assets/colab-badge.svg\" alt=\"Open In Colab\"/></a>"
      ]
    },
    {
      "cell_type": "markdown",
      "source": [
        "## BoJ"
      ],
      "metadata": {
        "id": "DM50pFtvNY9f"
      }
    },
    {
      "cell_type": "markdown",
      "source": [
        "### 9713"
      ],
      "metadata": {
        "id": "FEBeG4d1PWiC"
      }
    },
    {
      "cell_type": "code",
      "execution_count": null,
      "metadata": {
        "id": "PoEJnA96NNkg"
      },
      "outputs": [],
      "source": [
        "T = int(input())  # 테스트 케이스 수\n",
        "for _ in range(T):\n",
        "    N = int(input())\n",
        "    k = (N // 2) + 1  # 1부터 N까지 홀수 개수\n",
        "    print(k * k)"
      ]
    },
    {
      "cell_type": "markdown",
      "source": [
        "### Programmers"
      ],
      "metadata": {
        "id": "nY8bbtdXNa_0"
      }
    },
    {
      "cell_type": "markdown",
      "source": [
        "### 가까운 1 찾기"
      ],
      "metadata": {
        "id": "vRwavG5OQ4F0"
      }
    },
    {
      "cell_type": "code",
      "source": [
        "def solution(arr, idx):\n",
        "    min_idx = len(arr)\n",
        "    for i in range(idx, len(arr)):\n",
        "        if arr[i] == 1:\n",
        "            if i <= min_idx:\n",
        "                min_idx = i\n",
        "\n",
        "    if min_idx == len(arr):\n",
        "        min_idx = -1\n",
        "\n",
        "    return min_idx\n"
      ],
      "metadata": {
        "id": "t0IT4OiTNc1o"
      },
      "execution_count": null,
      "outputs": []
    }
  ]
}