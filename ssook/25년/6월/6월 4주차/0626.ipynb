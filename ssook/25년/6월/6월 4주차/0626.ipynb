{
  "nbformat": 4,
  "nbformat_minor": 0,
  "metadata": {
    "colab": {
      "provenance": [],
      "authorship_tag": "ABX9TyO+5pZ2HqmjX5bRkx3o+POI",
      "include_colab_link": true
    },
    "kernelspec": {
      "name": "python3",
      "display_name": "Python 3"
    },
    "language_info": {
      "name": "python"
    }
  },
  "cells": [
    {
      "cell_type": "markdown",
      "metadata": {
        "id": "view-in-github",
        "colab_type": "text"
      },
      "source": [
        "<a href=\"https://colab.research.google.com/github/ssook1222/1Day-1Algo/blob/master/ssook/25%EB%85%84/6%EC%9B%94/6%EC%9B%94%204%EC%A3%BC%EC%B0%A8/0626.ipynb\" target=\"_parent\"><img src=\"https://colab.research.google.com/assets/colab-badge.svg\" alt=\"Open In Colab\"/></a>"
      ]
    },
    {
      "cell_type": "markdown",
      "source": [
        "## BoJ"
      ],
      "metadata": {
        "id": "DM50pFtvNY9f"
      }
    },
    {
      "cell_type": "markdown",
      "source": [
        "### 20361"
      ],
      "metadata": {
        "id": "wNRCQEQWPM6b"
      }
    },
    {
      "cell_type": "code",
      "execution_count": null,
      "metadata": {
        "id": "PoEJnA96NNkg"
      },
      "outputs": [],
      "source": [
        "# 입력 받기\n",
        "N, X, K = map(int, input().split())\n",
        "ball_pos = X  # 공이 처음 있는 위치\n",
        "\n",
        "# K번 위치 교환\n",
        "for _ in range(K):\n",
        "    A, B = map(int, input().split())\n",
        "    if ball_pos == A:\n",
        "        ball_pos = B\n",
        "    elif ball_pos == B:\n",
        "        ball_pos = A\n",
        "\n",
        "# 결과 출력\n",
        "print(ball_pos)"
      ]
    },
    {
      "cell_type": "markdown",
      "source": [
        "### Programmers"
      ],
      "metadata": {
        "id": "nY8bbtdXNa_0"
      }
    },
    {
      "cell_type": "markdown",
      "source": [
        "### n보다 커질 때까지 더하기"
      ],
      "metadata": {
        "id": "su9veNz0QzMz"
      }
    },
    {
      "cell_type": "code",
      "source": [
        "def solution(numbers, n):\n",
        "    answer = 0\n",
        "\n",
        "    for i in numbers:\n",
        "        answer += i\n",
        "        if answer > n:\n",
        "            break\n",
        "\n",
        "    return answer"
      ],
      "metadata": {
        "id": "t0IT4OiTNc1o"
      },
      "execution_count": null,
      "outputs": []
    }
  ]
}