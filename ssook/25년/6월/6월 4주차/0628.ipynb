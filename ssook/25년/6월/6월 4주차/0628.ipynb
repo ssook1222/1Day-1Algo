{
  "nbformat": 4,
  "nbformat_minor": 0,
  "metadata": {
    "colab": {
      "provenance": [],
      "authorship_tag": "ABX9TyOBWLOh6fBW3t0e3q6ANMK1",
      "include_colab_link": true
    },
    "kernelspec": {
      "name": "python3",
      "display_name": "Python 3"
    },
    "language_info": {
      "name": "python"
    }
  },
  "cells": [
    {
      "cell_type": "markdown",
      "metadata": {
        "id": "view-in-github",
        "colab_type": "text"
      },
      "source": [
        "<a href=\"https://colab.research.google.com/github/ssook1222/1Day-1Algo/blob/master/ssook/25%EB%85%84/6%EC%9B%94/6%EC%9B%94%204%EC%A3%BC%EC%B0%A8/0628.ipynb\" target=\"_parent\"><img src=\"https://colab.research.google.com/assets/colab-badge.svg\" alt=\"Open In Colab\"/></a>"
      ]
    },
    {
      "cell_type": "markdown",
      "source": [
        "## BoJ"
      ],
      "metadata": {
        "id": "DM50pFtvNY9f"
      }
    },
    {
      "cell_type": "markdown",
      "source": [
        "### 9501"
      ],
      "metadata": {
        "id": "6mJicw96P95A"
      }
    },
    {
      "cell_type": "code",
      "execution_count": null,
      "metadata": {
        "id": "PoEJnA96NNkg"
      },
      "outputs": [],
      "source": [
        "T = int(input())  # 테스트 케이스 개수\n",
        "\n",
        "for _ in range(T):\n",
        "    N, D = map(int, input().split())  # 우주선 개수, 거리\n",
        "    count = 0  # 도달 가능한 우주선 수\n",
        "\n",
        "    for _ in range(N):\n",
        "        v, f, c = map(int, input().split())  # 속도, 연료양, 소비율\n",
        "        time = D / v  # 거리 ÷ 속도\n",
        "        fuel_needed = time * c  # 시간 × 소비율\n",
        "\n",
        "        if fuel_needed <= f:\n",
        "            count += 1\n",
        "\n",
        "    print(count)\n"
      ]
    },
    {
      "cell_type": "markdown",
      "source": [
        "### Programmers"
      ],
      "metadata": {
        "id": "nY8bbtdXNa_0"
      }
    },
    {
      "cell_type": "markdown",
      "source": [
        "### 첫 번째로 나오는 음수"
      ],
      "metadata": {
        "id": "1iGWphwYQ75_"
      }
    },
    {
      "cell_type": "code",
      "source": [
        "def solution(num_list):\n",
        "    answer = 0\n",
        "    check = False\n",
        "\n",
        "    for i in range(len(num_list)):\n",
        "        if num_list[i] < 0:\n",
        "            check = True\n",
        "            answer = i\n",
        "            break\n",
        "\n",
        "    if check == False:\n",
        "        answer = -1\n",
        "\n",
        "    return answer"
      ],
      "metadata": {
        "id": "t0IT4OiTNc1o"
      },
      "execution_count": null,
      "outputs": []
    }
  ]
}