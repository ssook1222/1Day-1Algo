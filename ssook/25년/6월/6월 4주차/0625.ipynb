{
  "nbformat": 4,
  "nbformat_minor": 0,
  "metadata": {
    "colab": {
      "provenance": [],
      "authorship_tag": "ABX9TyNmPkItcP5j4E8LBYT3+3IH",
      "include_colab_link": true
    },
    "kernelspec": {
      "name": "python3",
      "display_name": "Python 3"
    },
    "language_info": {
      "name": "python"
    }
  },
  "cells": [
    {
      "cell_type": "markdown",
      "metadata": {
        "id": "view-in-github",
        "colab_type": "text"
      },
      "source": [
        "<a href=\"https://colab.research.google.com/github/ssook1222/1Day-1Algo/blob/master/ssook/25%EB%85%84/6%EC%9B%94/6%EC%9B%94%204%EC%A3%BC%EC%B0%A8/0625.ipynb\" target=\"_parent\"><img src=\"https://colab.research.google.com/assets/colab-badge.svg\" alt=\"Open In Colab\"/></a>"
      ]
    },
    {
      "cell_type": "markdown",
      "source": [
        "## BoJ"
      ],
      "metadata": {
        "id": "DM50pFtvNY9f"
      }
    },
    {
      "cell_type": "markdown",
      "source": [
        "### 14909"
      ],
      "metadata": {
        "id": "tas7XcOIO9hK"
      }
    },
    {
      "cell_type": "code",
      "execution_count": null,
      "metadata": {
        "id": "PoEJnA96NNkg"
      },
      "outputs": [],
      "source": [
        "# 입력 받기\n",
        "numbers = list(map(int, input().split()))\n",
        "\n",
        "# 양의 정수 개수 세기\n",
        "positive_count = sum(1 for num in numbers if num > 0)\n",
        "\n",
        "# 출력\n",
        "print(positive_count)"
      ]
    },
    {
      "cell_type": "markdown",
      "source": [
        "### Programmers"
      ],
      "metadata": {
        "id": "nY8bbtdXNa_0"
      }
    },
    {
      "cell_type": "markdown",
      "source": [
        "### 원하는 문자열 찾기"
      ],
      "metadata": {
        "id": "UnmktKHcQvcD"
      }
    },
    {
      "cell_type": "code",
      "source": [
        "def solution(myString, pat):\n",
        "    answer = 0\n",
        "\n",
        "    myString = myString.lower()\n",
        "    pat = pat.lower()\n",
        "\n",
        "    if pat in myString:\n",
        "        answer = 1\n",
        "\n",
        "    return answer"
      ],
      "metadata": {
        "id": "t0IT4OiTNc1o"
      },
      "execution_count": null,
      "outputs": []
    }
  ]
}