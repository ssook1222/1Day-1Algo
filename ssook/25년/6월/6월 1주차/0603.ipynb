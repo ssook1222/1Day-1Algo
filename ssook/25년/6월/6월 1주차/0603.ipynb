{
  "nbformat": 4,
  "nbformat_minor": 0,
  "metadata": {
    "colab": {
      "provenance": [],
      "authorship_tag": "ABX9TyOWAu/I6U1UfCk31zm6sm2m",
      "include_colab_link": true
    },
    "kernelspec": {
      "name": "python3",
      "display_name": "Python 3"
    },
    "language_info": {
      "name": "python"
    }
  },
  "cells": [
    {
      "cell_type": "markdown",
      "metadata": {
        "id": "view-in-github",
        "colab_type": "text"
      },
      "source": [
        "<a href=\"https://colab.research.google.com/github/ssook1222/1Day-1Algo/blob/master/ssook/25%EB%85%84/6%EC%9B%94/6%EC%9B%94%201%EC%A3%BC%EC%B0%A8/0603.ipynb\" target=\"_parent\"><img src=\"https://colab.research.google.com/assets/colab-badge.svg\" alt=\"Open In Colab\"/></a>"
      ]
    },
    {
      "cell_type": "markdown",
      "source": [
        "## BoJ"
      ],
      "metadata": {
        "id": "QSzGDl92PvVW"
      }
    },
    {
      "cell_type": "markdown",
      "source": [
        "### 24084"
      ],
      "metadata": {
        "id": "-bqKiUEtPwmf"
      }
    },
    {
      "cell_type": "code",
      "source": [
        "N = int(input())\n",
        "S = input()\n",
        "\n",
        "for i in range(N - 1):\n",
        "    if S[i + 1] == 'J':\n",
        "        print(S[i])"
      ],
      "metadata": {
        "id": "iQ8Q0D66Px5w"
      },
      "execution_count": null,
      "outputs": []
    },
    {
      "cell_type": "markdown",
      "source": [
        "## CodeTree"
      ],
      "metadata": {
        "id": "uSfe0SfEPyP6"
      }
    },
    {
      "cell_type": "markdown",
      "source": [
        "### 세 정수형 변수 선언"
      ],
      "metadata": {
        "id": "sWSBj8cGPzLS"
      }
    },
    {
      "cell_type": "code",
      "source": [
        "a = 7\n",
        "b = 23\n",
        "tmp1 = '+'\n",
        "tmp2 = '='\n",
        "print(a,tmp1,b,tmp2,a+b)"
      ],
      "metadata": {
        "id": "1HAD4a-4P0DF"
      },
      "execution_count": null,
      "outputs": []
    }
  ]
}