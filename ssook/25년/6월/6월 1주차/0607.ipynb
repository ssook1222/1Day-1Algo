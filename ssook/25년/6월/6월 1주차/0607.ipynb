{
  "nbformat": 4,
  "nbformat_minor": 0,
  "metadata": {
    "colab": {
      "provenance": [],
      "authorship_tag": "ABX9TyPh3GL3pB7jCS8uYHpuHJnG",
      "include_colab_link": true
    },
    "kernelspec": {
      "name": "python3",
      "display_name": "Python 3"
    },
    "language_info": {
      "name": "python"
    }
  },
  "cells": [
    {
      "cell_type": "markdown",
      "metadata": {
        "id": "view-in-github",
        "colab_type": "text"
      },
      "source": [
        "<a href=\"https://colab.research.google.com/github/ssook1222/1Day-1Algo/blob/master/ssook/25%EB%85%84/6%EC%9B%94/6%EC%9B%94%201%EC%A3%BC%EC%B0%A8/0607.ipynb\" target=\"_parent\"><img src=\"https://colab.research.google.com/assets/colab-badge.svg\" alt=\"Open In Colab\"/></a>"
      ]
    },
    {
      "cell_type": "markdown",
      "source": [
        "## BoJ"
      ],
      "metadata": {
        "id": "QSzGDl92PvVW"
      }
    },
    {
      "cell_type": "markdown",
      "source": [
        "### 32315"
      ],
      "metadata": {
        "id": "-bqKiUEtPwmf"
      }
    },
    {
      "cell_type": "code",
      "source": [
        "# 입력 받기\n",
        "phone = input().strip()\n",
        "\n",
        "# 하이픈 제거하고 숫자만 남기기\n",
        "digits = phone.replace(\"-\", \"\")\n",
        "\n",
        "# 집합(set)을 사용해서 중복 제거한 뒤 길이 구하기\n",
        "distinct_count = len(set(digits))\n",
        "\n",
        "# 출력\n",
        "print(distinct_count)"
      ],
      "metadata": {
        "id": "iQ8Q0D66Px5w"
      },
      "execution_count": null,
      "outputs": []
    },
    {
      "cell_type": "markdown",
      "source": [
        "## CodeTree"
      ],
      "metadata": {
        "id": "uSfe0SfEPyP6"
      }
    },
    {
      "cell_type": "markdown",
      "source": [
        "### 차례로 출력"
      ],
      "metadata": {
        "id": "sWSBj8cGPzLS"
      }
    },
    {
      "cell_type": "code",
      "source": [
        "for i in range(5, 18):\n",
        "    print(i, end=\" \")"
      ],
      "metadata": {
        "id": "1HAD4a-4P0DF"
      },
      "execution_count": null,
      "outputs": []
    }
  ]
}