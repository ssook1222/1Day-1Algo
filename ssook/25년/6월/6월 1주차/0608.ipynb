{
  "nbformat": 4,
  "nbformat_minor": 0,
  "metadata": {
    "colab": {
      "provenance": [],
      "authorship_tag": "ABX9TyPZXWIvh49M3Cg9yru16pMX",
      "include_colab_link": true
    },
    "kernelspec": {
      "name": "python3",
      "display_name": "Python 3"
    },
    "language_info": {
      "name": "python"
    }
  },
  "cells": [
    {
      "cell_type": "markdown",
      "metadata": {
        "id": "view-in-github",
        "colab_type": "text"
      },
      "source": [
        "<a href=\"https://colab.research.google.com/github/ssook1222/1Day-1Algo/blob/master/ssook/25%EB%85%84/6%EC%9B%94/6%EC%9B%94%201%EC%A3%BC%EC%B0%A8/0608.ipynb\" target=\"_parent\"><img src=\"https://colab.research.google.com/assets/colab-badge.svg\" alt=\"Open In Colab\"/></a>"
      ]
    },
    {
      "cell_type": "markdown",
      "source": [
        "## BoJ"
      ],
      "metadata": {
        "id": "QSzGDl92PvVW"
      }
    },
    {
      "cell_type": "markdown",
      "source": [
        "### 31962"
      ],
      "metadata": {
        "id": "-bqKiUEtPwmf"
      }
    },
    {
      "cell_type": "code",
      "source": [
        "N, X = map(int, input().split())\n",
        "latest_start = -1\n",
        "\n",
        "for _ in range(N):\n",
        "    S, T = map(int, input().split())\n",
        "    if S + T <= X:\n",
        "        latest_start = max(latest_start, S)\n",
        "\n",
        "print(latest_start)\n"
      ],
      "metadata": {
        "id": "iQ8Q0D66Px5w"
      },
      "execution_count": null,
      "outputs": []
    },
    {
      "cell_type": "markdown",
      "source": [
        "## CodeTree"
      ],
      "metadata": {
        "id": "uSfe0SfEPyP6"
      }
    },
    {
      "cell_type": "markdown",
      "source": [
        "### 정수 입력받아 배수 출력"
      ],
      "metadata": {
        "id": "sWSBj8cGPzLS"
      }
    },
    {
      "cell_type": "code",
      "source": [
        "n = int(input())\n",
        "\n",
        "for i in range(1, 6):\n",
        "    print(n*i, end=' ')"
      ],
      "metadata": {
        "id": "1HAD4a-4P0DF"
      },
      "execution_count": null,
      "outputs": []
    }
  ]
}