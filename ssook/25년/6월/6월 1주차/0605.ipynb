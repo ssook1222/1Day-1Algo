{
  "nbformat": 4,
  "nbformat_minor": 0,
  "metadata": {
    "colab": {
      "provenance": [],
      "authorship_tag": "ABX9TyNn2iCAwdDFuU26W2ovCQt+",
      "include_colab_link": true
    },
    "kernelspec": {
      "name": "python3",
      "display_name": "Python 3"
    },
    "language_info": {
      "name": "python"
    }
  },
  "cells": [
    {
      "cell_type": "markdown",
      "metadata": {
        "id": "view-in-github",
        "colab_type": "text"
      },
      "source": [
        "<a href=\"https://colab.research.google.com/github/ssook1222/1Day-1Algo/blob/master/ssook/25%EB%85%84/6%EC%9B%94/6%EC%9B%94%201%EC%A3%BC%EC%B0%A8/0605.ipynb\" target=\"_parent\"><img src=\"https://colab.research.google.com/assets/colab-badge.svg\" alt=\"Open In Colab\"/></a>"
      ]
    },
    {
      "cell_type": "markdown",
      "source": [
        "## BoJ"
      ],
      "metadata": {
        "id": "QSzGDl92PvVW"
      }
    },
    {
      "cell_type": "markdown",
      "source": [
        "### 26530"
      ],
      "metadata": {
        "id": "-bqKiUEtPwmf"
      }
    },
    {
      "cell_type": "code",
      "source": [
        "n = int(input())  # 데이터 세트 개수\n",
        "\n",
        "for _ in range(n):\n",
        "    x = int(input())  # 아이템 개수\n",
        "    total = 0.0\n",
        "    for _ in range(x):\n",
        "        line = input().split()\n",
        "        name = line[0]\n",
        "        quantity = int(line[1])\n",
        "        price = float(line[2])\n",
        "        total += quantity * price\n",
        "    print(f\"${total:.2f}\")\n"
      ],
      "metadata": {
        "id": "iQ8Q0D66Px5w"
      },
      "execution_count": null,
      "outputs": []
    },
    {
      "cell_type": "markdown",
      "source": [
        "## CodeTree"
      ],
      "metadata": {
        "id": "uSfe0SfEPyP6"
      }
    },
    {
      "cell_type": "markdown",
      "source": [
        "### 입력받아 계산"
      ],
      "metadata": {
        "id": "sWSBj8cGPzLS"
      }
    },
    {
      "cell_type": "code",
      "source": [
        "a = int(input())\n",
        "print(a+2)"
      ],
      "metadata": {
        "id": "1HAD4a-4P0DF"
      },
      "execution_count": null,
      "outputs": []
    }
  ]
}