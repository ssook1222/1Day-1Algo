{
  "nbformat": 4,
  "nbformat_minor": 0,
  "metadata": {
    "colab": {
      "provenance": [],
      "authorship_tag": "ABX9TyMhA+xUpdHJWP4lLDz+B5Bl",
      "include_colab_link": true
    },
    "kernelspec": {
      "name": "python3",
      "display_name": "Python 3"
    },
    "language_info": {
      "name": "python"
    }
  },
  "cells": [
    {
      "cell_type": "markdown",
      "metadata": {
        "id": "view-in-github",
        "colab_type": "text"
      },
      "source": [
        "<a href=\"https://colab.research.google.com/github/ssook1222/1Day-1Algo/blob/master/ssook/25%EB%85%84/6%EC%9B%94/6%EC%9B%94%201%EC%A3%BC%EC%B0%A8/0606.ipynb\" target=\"_parent\"><img src=\"https://colab.research.google.com/assets/colab-badge.svg\" alt=\"Open In Colab\"/></a>"
      ]
    },
    {
      "cell_type": "markdown",
      "source": [
        "## BoJ"
      ],
      "metadata": {
        "id": "QSzGDl92PvVW"
      }
    },
    {
      "cell_type": "markdown",
      "source": [
        "### 26592"
      ],
      "metadata": {
        "id": "-bqKiUEtPwmf"
      }
    },
    {
      "cell_type": "code",
      "source": [
        "n = int(input())  # 테스트 케이스 개수 입력\n",
        "\n",
        "for _ in range(n):\n",
        "    area_str, base_str = input().split()\n",
        "    area = float(area_str)\n",
        "    base = float(base_str)\n",
        "\n",
        "    height = (2 * area) / base  # 삼각형 높이 계산\n",
        "    print(f\"The height of the triangle is {height:.2f} units\")"
      ],
      "metadata": {
        "id": "iQ8Q0D66Px5w"
      },
      "execution_count": null,
      "outputs": []
    },
    {
      "cell_type": "markdown",
      "source": [
        "## CodeTree"
      ],
      "metadata": {
        "id": "uSfe0SfEPyP6"
      }
    },
    {
      "cell_type": "markdown",
      "source": [
        "### 실수받아 그대로 출력"
      ],
      "metadata": {
        "id": "sWSBj8cGPzLS"
      }
    },
    {
      "cell_type": "code",
      "source": [
        "raw = float(input())\n",
        "\n",
        "print(\"%.2f\" %raw)"
      ],
      "metadata": {
        "id": "1HAD4a-4P0DF"
      },
      "execution_count": null,
      "outputs": []
    }
  ]
}