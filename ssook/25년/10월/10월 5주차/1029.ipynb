{
  "nbformat": 4,
  "nbformat_minor": 0,
  "metadata": {
    "colab": {
      "provenance": [],
      "authorship_tag": "ABX9TyPVR/vED/aPdk1NvmXh964z",
      "include_colab_link": true
    },
    "kernelspec": {
      "name": "python3",
      "display_name": "Python 3"
    },
    "language_info": {
      "name": "python"
    }
  },
  "cells": [
    {
      "cell_type": "markdown",
      "metadata": {
        "id": "view-in-github",
        "colab_type": "text"
      },
      "source": [
        "<a href=\"https://colab.research.google.com/github/ssook1222/1Day-1Algo/blob/master/ssook/25%EB%85%84/10%EC%9B%94/10%EC%9B%94%205%EC%A3%BC%EC%B0%A8/1029.ipynb\" target=\"_parent\"><img src=\"https://colab.research.google.com/assets/colab-badge.svg\" alt=\"Open In Colab\"/></a>"
      ]
    },
    {
      "cell_type": "markdown",
      "source": [
        "## BoJ"
      ],
      "metadata": {
        "id": "Bft6oYFSUOta"
      }
    },
    {
      "cell_type": "markdown",
      "source": [
        "### 33106"
      ],
      "metadata": {
        "id": "ntfP2zGwUQm7"
      }
    },
    {
      "cell_type": "code",
      "execution_count": null,
      "metadata": {
        "id": "vDhxr5xrTrHV"
      },
      "outputs": [],
      "source": [
        "def solve_c_pronunciation():\n",
        "    \"\"\"\n",
        "    영어 단어에서 'c'의 발음 규칙에 따른 문자 변환\n",
        "\n",
        "    규칙:\n",
        "    1. 'ch' → 'c' (최우선)\n",
        "    2. 'c' + (a,o,u) → 'k'\n",
        "    3. 'c' + (자음, 단어 끝) → 'k'\n",
        "    4. 'c' + (e,i,y) → 's'\n",
        "    \"\"\"\n",
        "\n",
        "    def convert_word(word):\n",
        "        vowels = set('aeiou')\n",
        "        consonants = set('bcdfghjklmnpqrstvwxyz')\n",
        "\n",
        "        result = []\n",
        "        i = 0\n",
        "\n",
        "        while i < len(word):\n",
        "            if word[i] == 'c':\n",
        "                # 1. 'ch' 패턴 체크 (최우선)\n",
        "                if i + 1 < len(word) and word[i + 1] == 'h':\n",
        "                    result.append('c')\n",
        "                    i += 2  # 'ch' 둘 다 처리했으므로 2칸 건너뛰기\n",
        "                    continue\n",
        "\n",
        "                # 2. 'c' + (e, i, y) → 's'\n",
        "                elif i + 1 < len(word) and word[i + 1] in 'eiy':\n",
        "                    result.append('s')\n",
        "                    i += 1\n",
        "\n",
        "                # 3. 'c' + (a, o, u) → 'k'\n",
        "                elif i + 1 < len(word) and word[i + 1] in 'aou':\n",
        "                    result.append('k')\n",
        "                    i += 1\n",
        "\n",
        "                # 4. 'c' + 자음 (h, y 제외) → 'k'\n",
        "                elif i + 1 < len(word) and word[i + 1] in consonants and word[i + 1] not in 'hy':\n",
        "                    result.append('k')\n",
        "                    i += 1\n",
        "\n",
        "                # 5. 단어 끝의 'c' → 'k'\n",
        "                elif i + 1 >= len(word):\n",
        "                    result.append('k')\n",
        "                    i += 1\n",
        "\n",
        "                # 6. 기타 경우 (c + h, c + y) → 'k'\n",
        "                else:\n",
        "                    result.append('k')\n",
        "                    i += 1\n",
        "\n",
        "            else:\n",
        "                # 'c'가 아닌 문자는 그대로 추가\n",
        "                result.append(word[i])\n",
        "                i += 1\n",
        "\n",
        "        return ''.join(result)\n",
        "\n",
        "    # 입력 처리\n",
        "    n = int(input())\n",
        "    results = []\n",
        "\n",
        "    for _ in range(n):\n",
        "        word = input().strip()\n",
        "        converted = convert_word(word)\n",
        "        results.append(converted)\n",
        "\n",
        "    return results\n",
        "\n",
        "# 메인 실행\n",
        "if __name__ == \"__main__\":\n",
        "    answers = solve_c_pronunciation()\n",
        "    for answer in answers:\n",
        "        print(answer)"
      ]
    }
  ]
}