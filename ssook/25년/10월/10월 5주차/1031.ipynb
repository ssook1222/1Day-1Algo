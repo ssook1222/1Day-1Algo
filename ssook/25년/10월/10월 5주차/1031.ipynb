{
  "nbformat": 4,
  "nbformat_minor": 0,
  "metadata": {
    "colab": {
      "provenance": [],
      "authorship_tag": "ABX9TyNGwRuJnJb8rmfd+0j9/X/M",
      "include_colab_link": true
    },
    "kernelspec": {
      "name": "python3",
      "display_name": "Python 3"
    },
    "language_info": {
      "name": "python"
    }
  },
  "cells": [
    {
      "cell_type": "markdown",
      "metadata": {
        "id": "view-in-github",
        "colab_type": "text"
      },
      "source": [
        "<a href=\"https://colab.research.google.com/github/ssook1222/1Day-1Algo/blob/master/ssook/25%EB%85%84/10%EC%9B%94/10%EC%9B%94%205%EC%A3%BC%EC%B0%A8/1031.ipynb\" target=\"_parent\"><img src=\"https://colab.research.google.com/assets/colab-badge.svg\" alt=\"Open In Colab\"/></a>"
      ]
    },
    {
      "cell_type": "markdown",
      "source": [
        "## BoJ"
      ],
      "metadata": {
        "id": "YjsrnUvVY0oU"
      }
    },
    {
      "cell_type": "markdown",
      "source": [
        "### 5355"
      ],
      "metadata": {
        "id": "avcNzC-lY2B1"
      }
    },
    {
      "cell_type": "code",
      "execution_count": null,
      "metadata": {
        "id": "3BO7HSDBYo8A"
      },
      "outputs": [],
      "source": [
        "def mars_calculator(expression):\n",
        "    \"\"\"\n",
        "    화성 수학식을 계산하는 함수\n",
        "    @: 3을 곱함\n",
        "    %: 5를 더함\n",
        "    #: 7을 뺌\n",
        "    \"\"\"\n",
        "    tokens = expression.split()\n",
        "    result = float(tokens[0])  # 첫 번째 수를 결과로 초기화\n",
        "\n",
        "    # 연산자들을 순서대로 적용\n",
        "    for i in range(1, len(tokens)):\n",
        "        operator = tokens[i]\n",
        "        if operator == '@':\n",
        "            result *= 3\n",
        "        elif operator == '%':\n",
        "            result += 5\n",
        "        elif operator == '#':\n",
        "            result -= 7\n",
        "\n",
        "    return result\n",
        "\n",
        "# 테스트 케이스 개수 입력\n",
        "t = int(input())\n",
        "\n",
        "# 각 테스트 케이스 처리\n",
        "for _ in range(t):\n",
        "    expression = input().strip()\n",
        "    result = mars_calculator(expression)\n",
        "    print(f\"{result:.2f}\")"
      ]
    }
  ]
}