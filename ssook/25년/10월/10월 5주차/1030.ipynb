{
  "nbformat": 4,
  "nbformat_minor": 0,
  "metadata": {
    "colab": {
      "provenance": [],
      "authorship_tag": "ABX9TyMNwpZR0PXXE5STfkqa7BKW",
      "include_colab_link": true
    },
    "kernelspec": {
      "name": "python3",
      "display_name": "Python 3"
    },
    "language_info": {
      "name": "python"
    }
  },
  "cells": [
    {
      "cell_type": "markdown",
      "metadata": {
        "id": "view-in-github",
        "colab_type": "text"
      },
      "source": [
        "<a href=\"https://colab.research.google.com/github/ssook1222/1Day-1Algo/blob/master/ssook/25%EB%85%84/10%EC%9B%94/10%EC%9B%94%205%EC%A3%BC%EC%B0%A8/1030.ipynb\" target=\"_parent\"><img src=\"https://colab.research.google.com/assets/colab-badge.svg\" alt=\"Open In Colab\"/></a>"
      ]
    },
    {
      "cell_type": "markdown",
      "source": [
        "## BoJ"
      ],
      "metadata": {
        "id": "YjsrnUvVY0oU"
      }
    },
    {
      "cell_type": "markdown",
      "source": [
        "### 11005"
      ],
      "metadata": {
        "id": "avcNzC-lY2B1"
      }
    },
    {
      "cell_type": "code",
      "execution_count": null,
      "metadata": {
        "id": "3BO7HSDBYo8A"
      },
      "outputs": [],
      "source": [
        "def decimal_to_base(n, base):\n",
        "    \"\"\"\n",
        "    10진법 수 n을 base진법으로 변환하는 함수\n",
        "    \"\"\"\n",
        "    if n == 0:\n",
        "        return \"0\"\n",
        "\n",
        "    # 0~9는 숫자, 10~35는 A~Z로 표현\n",
        "    digits = \"0123456789ABCDEFGHIJKLMNOPQRSTUVWXYZ\"\n",
        "    result = \"\"\n",
        "\n",
        "    while n > 0:\n",
        "        remainder = n % base\n",
        "        result = digits[remainder] + result\n",
        "        n = n // base\n",
        "\n",
        "    return result\n",
        "\n",
        "# 입력 받기\n",
        "n, b = map(int, input().split())\n",
        "\n",
        "# 결과 출력\n",
        "print(decimal_to_base(n, b))"
      ]
    }
  ]
}