{
  "nbformat": 4,
  "nbformat_minor": 0,
  "metadata": {
    "colab": {
      "provenance": [],
      "authorship_tag": "ABX9TyOTg85a86u5Y7eMSYUIGMjb",
      "include_colab_link": true
    },
    "kernelspec": {
      "name": "python3",
      "display_name": "Python 3"
    },
    "language_info": {
      "name": "python"
    }
  },
  "cells": [
    {
      "cell_type": "markdown",
      "metadata": {
        "id": "view-in-github",
        "colab_type": "text"
      },
      "source": [
        "<a href=\"https://colab.research.google.com/github/ssook1222/1Day-1Algo/blob/master/ssook/25%EB%85%84/10%EC%9B%94/10%EC%9B%94%205%EC%A3%BC%EC%B0%A8/1027.ipynb\" target=\"_parent\"><img src=\"https://colab.research.google.com/assets/colab-badge.svg\" alt=\"Open In Colab\"/></a>"
      ]
    },
    {
      "cell_type": "markdown",
      "source": [
        "## BoJ"
      ],
      "metadata": {
        "id": "Bft6oYFSUOta"
      }
    },
    {
      "cell_type": "markdown",
      "source": [
        "### 33244"
      ],
      "metadata": {
        "id": "ntfP2zGwUQm7"
      }
    },
    {
      "cell_type": "code",
      "execution_count": null,
      "metadata": {
        "id": "vDhxr5xrTrHV"
      },
      "outputs": [],
      "source": [
        "import math\n",
        "\n",
        "def gcd(a, b):\n",
        "    \"\"\"최대공약수 계산 (유클리드 호제법)\"\"\"\n",
        "    while b:\n",
        "        a, b = b, a % b\n",
        "    return a\n",
        "\n",
        "def lcm(a, b):\n",
        "    \"\"\"최소공배수 계산\"\"\"\n",
        "    return a * b // gcd(a, b)\n",
        "\n",
        "def solve_fpc():\n",
        "    \"\"\"\n",
        "    FPC 참가자 수 계산\n",
        "    모든 활동의 그룹 크기의 최소공배수를 구함\n",
        "    \"\"\"\n",
        "    n = int(input())  # 활동 개수\n",
        "\n",
        "    # 첫 번째 활동의 그룹 크기로 초기화\n",
        "    result = int(input())\n",
        "\n",
        "    # 나머지 활동들의 그룹 크기와 LCM 계산\n",
        "    for _ in range(n - 1):\n",
        "        group_size = int(input())\n",
        "        result = lcm(result, group_size)\n",
        "\n",
        "    return result\n",
        "\n",
        "# 메인 실행\n",
        "if __name__ == \"__main__\":\n",
        "    answer = solve_fpc()\n",
        "    print(answer)"
      ]
    }
  ]
}