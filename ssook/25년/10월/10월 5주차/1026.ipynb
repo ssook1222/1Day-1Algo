{
  "nbformat": 4,
  "nbformat_minor": 0,
  "metadata": {
    "colab": {
      "provenance": [],
      "authorship_tag": "ABX9TyMm2qIq4GgX/6GBtyDkyjaS",
      "include_colab_link": true
    },
    "kernelspec": {
      "name": "python3",
      "display_name": "Python 3"
    },
    "language_info": {
      "name": "python"
    }
  },
  "cells": [
    {
      "cell_type": "markdown",
      "metadata": {
        "id": "view-in-github",
        "colab_type": "text"
      },
      "source": [
        "<a href=\"https://colab.research.google.com/github/ssook1222/1Day-1Algo/blob/master/ssook/25%EB%85%84/10%EC%9B%94/10%EC%9B%94%205%EC%A3%BC%EC%B0%A8/1026.ipynb\" target=\"_parent\"><img src=\"https://colab.research.google.com/assets/colab-badge.svg\" alt=\"Open In Colab\"/></a>"
      ]
    },
    {
      "cell_type": "markdown",
      "source": [
        "## BoJ"
      ],
      "metadata": {
        "id": "YjsrnUvVY0oU"
      }
    },
    {
      "cell_type": "markdown",
      "source": [
        "### 5176"
      ],
      "metadata": {
        "id": "avcNzC-lY2B1"
      }
    },
    {
      "cell_type": "code",
      "execution_count": null,
      "metadata": {
        "id": "3BO7HSDBYo8A"
      },
      "outputs": [],
      "source": [
        "def solve_seat_assignment():\n",
        "    k = int(input())  # 테스트 케이스 개수\n",
        "\n",
        "    for _ in range(k):\n",
        "        p, m = map(int, input().split())  # 참가자 수, 자리 수\n",
        "\n",
        "        # 자리 사용 여부를 추적하는 배열 (1번부터 M번까지)\n",
        "        seats = [False] * (m + 1)  # 인덱스 0은 사용하지 않음\n",
        "\n",
        "        excluded_count = 0  # 참가하지 못하는 사람 수\n",
        "\n",
        "        # 각 참가자를 도착 순서대로 처리\n",
        "        for i in range(p):\n",
        "            preferred_seat = int(input())\n",
        "\n",
        "            if seats[preferred_seat]:  # 이미 누군가 앉아있음\n",
        "                excluded_count += 1\n",
        "            else:  # 자리가 비어있음\n",
        "                seats[preferred_seat] = True  # 자리를 차지함\n",
        "\n",
        "        print(excluded_count)\n",
        "\n",
        "# 실행\n",
        "solve_seat_assignment()"
      ]
    }
  ]
}