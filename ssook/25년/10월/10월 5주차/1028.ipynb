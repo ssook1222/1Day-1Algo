{
  "nbformat": 4,
  "nbformat_minor": 0,
  "metadata": {
    "colab": {
      "provenance": [],
      "authorship_tag": "ABX9TyOat1c0mU0vsJqssp2RpVXQ",
      "include_colab_link": true
    },
    "kernelspec": {
      "name": "python3",
      "display_name": "Python 3"
    },
    "language_info": {
      "name": "python"
    }
  },
  "cells": [
    {
      "cell_type": "markdown",
      "metadata": {
        "id": "view-in-github",
        "colab_type": "text"
      },
      "source": [
        "<a href=\"https://colab.research.google.com/github/ssook1222/1Day-1Algo/blob/master/ssook/25%EB%85%84/10%EC%9B%94/10%EC%9B%94%205%EC%A3%BC%EC%B0%A8/1028.ipynb\" target=\"_parent\"><img src=\"https://colab.research.google.com/assets/colab-badge.svg\" alt=\"Open In Colab\"/></a>"
      ]
    },
    {
      "cell_type": "markdown",
      "source": [
        "## BoJ"
      ],
      "metadata": {
        "id": "Bft6oYFSUOta"
      }
    },
    {
      "cell_type": "markdown",
      "source": [
        "### 34311"
      ],
      "metadata": {
        "id": "ntfP2zGwUQm7"
      }
    },
    {
      "cell_type": "code",
      "execution_count": null,
      "metadata": {
        "id": "vDhxr5xrTrHV"
      },
      "outputs": [],
      "source": [
        "def solve_keyboard_conversion():\n",
        "    \"\"\"\n",
        "    ABCDEF 키보드에서 QWERTY 키보드로 변환\n",
        "    Riley가 실제로 타이핑하려던 메시지를 복원\n",
        "    \"\"\"\n",
        "\n",
        "    # QWERTY 키보드 레이아웃 (위에서 아래, 왼쪽에서 오른쪽)\n",
        "    qwerty_layout = [\n",
        "        ['q', 'w', 'e', 'r', 't', 'y', 'u', 'i', 'o', 'p'],\n",
        "        ['a', 's', 'd', 'f', 'g', 'h', 'j', 'k', 'l'],\n",
        "        ['z', 'x', 'c', 'v', 'b', 'n', 'm']\n",
        "    ]\n",
        "\n",
        "    # ABCDEF 키보드 레이아웃 (위에서 아래, 왼쪽에서 오른쪽)\n",
        "    abcdef_layout = [\n",
        "        ['a', 'b', 'c', 'd', 'e', 'f', 'g', 'h', 'i', 'j'],\n",
        "        ['k', 'l', 'm', 'n', 'o', 'p', 'q', 'r', 's'],\n",
        "        ['t', 'u', 'v', 'w', 'x', 'y', 'z']\n",
        "    ]\n",
        "\n",
        "    # ABCDEF → QWERTY 매핑 테이블 생성\n",
        "    conversion_map = {}\n",
        "\n",
        "    # 각 행별로 매핑 생성\n",
        "    for row_idx in range(len(abcdef_layout)):\n",
        "        abcdef_row = abcdef_layout[row_idx]\n",
        "        qwerty_row = qwerty_layout[row_idx]\n",
        "\n",
        "        for col_idx in range(len(abcdef_row)):\n",
        "            abcdef_char = abcdef_row[col_idx]\n",
        "            qwerty_char = qwerty_row[col_idx]\n",
        "            conversion_map[abcdef_char] = qwerty_char\n",
        "\n",
        "    # 공백은 그대로 유지\n",
        "    conversion_map[' '] = ' '\n",
        "\n",
        "    # 입력 받기\n",
        "    n = int(input())\n",
        "    message = input().strip()\n",
        "\n",
        "    # 변환 수행\n",
        "    result = \"\"\n",
        "    for char in message:\n",
        "        result += conversion_map[char]\n",
        "\n",
        "    return result\n",
        "\n",
        "# 메인 실행\n",
        "if __name__ == \"__main__\":\n",
        "    answer = solve_keyboard_conversion()\n",
        "    print(answer)"
      ]
    }
  ]
}