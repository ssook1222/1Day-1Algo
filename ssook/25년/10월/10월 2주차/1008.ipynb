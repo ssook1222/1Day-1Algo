{
  "nbformat": 4,
  "nbformat_minor": 0,
  "metadata": {
    "colab": {
      "provenance": [],
      "authorship_tag": "ABX9TyMsaPKQIn8LkCOF4KVJzT38",
      "include_colab_link": true
    },
    "kernelspec": {
      "name": "python3",
      "display_name": "Python 3"
    },
    "language_info": {
      "name": "python"
    }
  },
  "cells": [
    {
      "cell_type": "markdown",
      "metadata": {
        "id": "view-in-github",
        "colab_type": "text"
      },
      "source": [
        "<a href=\"https://colab.research.google.com/github/ssook1222/1Day-1Algo/blob/master/ssook/25%EB%85%84/10%EC%9B%94/10%EC%9B%94%202%EC%A3%BC%EC%B0%A8/1008.ipynb\" target=\"_parent\"><img src=\"https://colab.research.google.com/assets/colab-badge.svg\" alt=\"Open In Colab\"/></a>"
      ]
    },
    {
      "cell_type": "markdown",
      "source": [
        "### BoJ"
      ],
      "metadata": {
        "id": "oIkWw9h6PSz1"
      }
    },
    {
      "cell_type": "markdown",
      "source": [
        "### 2052"
      ],
      "metadata": {
        "id": "GZXI9LJ2PtxQ"
      }
    },
    {
      "cell_type": "code",
      "execution_count": null,
      "metadata": {
        "id": "wvK0jaoNPSLd"
      },
      "outputs": [],
      "source": [
        "def calculate_fraction(n):\n",
        "    \"\"\"\n",
        "    1/2^n을 정확한 소수 형태로 계산\n",
        "    \"\"\"\n",
        "    # 2^n 계산\n",
        "    denominator = 2 ** n\n",
        "\n",
        "    # 1을 2^n으로 나누기 위해 긴 나눗셈 수행\n",
        "    # 1.000000... / 2^n 형태로 계산\n",
        "\n",
        "    result = \"0.\"\n",
        "    remainder = 1\n",
        "\n",
        "    # 소수점 아래 자릿수 계산\n",
        "    while remainder != 0:\n",
        "        remainder *= 10\n",
        "        digit = remainder // denominator\n",
        "        remainder = remainder % denominator\n",
        "        result += str(digit)\n",
        "\n",
        "    # 만약 remainder가 0이 되지 않고 순환한다면, 1/2^n은 항상 유한소수이므로 걱정 없음\n",
        "    # 2^n의 소인수는 2뿐이므로 항상 유한소수가 됨\n",
        "\n",
        "    # 뒤쪽 불필요한 0 제거\n",
        "    result = result.rstrip('0')\n",
        "\n",
        "    # 소수점만 남은 경우 (예: \"0.\") 정수부만 반환\n",
        "    if result.endswith('.'):\n",
        "        result = result[:-1]\n",
        "\n",
        "    return result\n",
        "\n",
        "# 입력 처리\n",
        "n = int(input())\n",
        "print(calculate_fraction(n))"
      ]
    }
  ]
}