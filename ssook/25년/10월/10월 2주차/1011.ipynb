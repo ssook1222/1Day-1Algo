{
  "nbformat": 4,
  "nbformat_minor": 0,
  "metadata": {
    "colab": {
      "provenance": [],
      "authorship_tag": "ABX9TyOCr+R9cWP1Bm1FRJAGfRTT",
      "include_colab_link": true
    },
    "kernelspec": {
      "name": "python3",
      "display_name": "Python 3"
    },
    "language_info": {
      "name": "python"
    }
  },
  "cells": [
    {
      "cell_type": "markdown",
      "metadata": {
        "id": "view-in-github",
        "colab_type": "text"
      },
      "source": [
        "<a href=\"https://colab.research.google.com/github/ssook1222/1Day-1Algo/blob/master/ssook/25%EB%85%84/10%EC%9B%94/10%EC%9B%94%202%EC%A3%BC%EC%B0%A8/1011.ipynb\" target=\"_parent\"><img src=\"https://colab.research.google.com/assets/colab-badge.svg\" alt=\"Open In Colab\"/></a>"
      ]
    },
    {
      "cell_type": "markdown",
      "source": [
        "### BoJ"
      ],
      "metadata": {
        "id": "oIkWw9h6PSz1"
      }
    },
    {
      "cell_type": "markdown",
      "source": [
        "### 2930"
      ],
      "metadata": {
        "id": "GZXI9LJ2PtxQ"
      }
    },
    {
      "cell_type": "code",
      "execution_count": null,
      "metadata": {
        "id": "wvK0jaoNPSLd"
      },
      "outputs": [],
      "source": [
        "def compare_rps(player1, player2):\n",
        "    \"\"\"\n",
        "    가위바위보 비교 함수\n",
        "    player1 기준으로 결과 반환\n",
        "    2: 승리, 1: 무승부, 0: 패배\n",
        "    \"\"\"\n",
        "    if player1 == player2:\n",
        "        return 1  # 무승부\n",
        "\n",
        "    # 승리 조건: S > P, P > R, R > S\n",
        "    win_cases = [('S', 'P'), ('P', 'R'), ('R', 'S')]\n",
        "\n",
        "    if (player1, player2) in win_cases:\n",
        "        return 2  # 승리\n",
        "    else:\n",
        "        return 0  # 패배\n",
        "\n",
        "def get_best_move(opponents):\n",
        "    \"\"\"\n",
        "    상대방들의 움직임에 대해 최적의 움직임 찾기\n",
        "    각 가능한 움직임(S, P, R)에 대해 점수를 계산하고 최고점을 반환\n",
        "    \"\"\"\n",
        "    moves = ['S', 'P', 'R']\n",
        "    max_score = 0\n",
        "\n",
        "    for move in moves:\n",
        "        score = 0\n",
        "        for opponent in opponents:\n",
        "            score += compare_rps(move, opponent)\n",
        "        max_score = max(max_score, score)\n",
        "\n",
        "    return max_score\n",
        "\n",
        "def solve():\n",
        "    # 입력 받기\n",
        "    r = int(input())\n",
        "    sanggeun_moves = input().strip()\n",
        "    n = int(input())\n",
        "\n",
        "    friends_moves = []\n",
        "    for _ in range(n):\n",
        "        friends_moves.append(input().strip())\n",
        "\n",
        "    # 실제 점수 계산\n",
        "    actual_score = 0\n",
        "    for round_idx in range(r):\n",
        "        sanggeun_move = sanggeun_moves[round_idx]\n",
        "        for friend_idx in range(n):\n",
        "            friend_move = friends_moves[friend_idx][round_idx]\n",
        "            actual_score += compare_rps(sanggeun_move, friend_move)\n",
        "\n",
        "    # 최대 점수 계산\n",
        "    max_score = 0\n",
        "    for round_idx in range(r):\n",
        "        # 이 라운드에서 친구들이 낸 것들\n",
        "        opponents_in_round = []\n",
        "        for friend_idx in range(n):\n",
        "            opponents_in_round.append(friends_moves[friend_idx][round_idx])\n",
        "\n",
        "        # 이 라운드에서 얻을 수 있는 최대 점수\n",
        "        max_score += get_best_move(opponents_in_round)\n",
        "\n",
        "    print(actual_score)\n",
        "    print(max_score)\n",
        "\n",
        "solve()"
      ]
    }
  ]
}