{
  "nbformat": 4,
  "nbformat_minor": 0,
  "metadata": {
    "colab": {
      "provenance": [],
      "authorship_tag": "ABX9TyPlf74hx3JPQQjEjPly16ot",
      "include_colab_link": true
    },
    "kernelspec": {
      "name": "python3",
      "display_name": "Python 3"
    },
    "language_info": {
      "name": "python"
    }
  },
  "cells": [
    {
      "cell_type": "markdown",
      "metadata": {
        "id": "view-in-github",
        "colab_type": "text"
      },
      "source": [
        "<a href=\"https://colab.research.google.com/github/ssook1222/1Day-1Algo/blob/master/ssook/25%EB%85%84/10%EC%9B%94/10%EC%9B%94%202%EC%A3%BC%EC%B0%A8/1009.ipynb\" target=\"_parent\"><img src=\"https://colab.research.google.com/assets/colab-badge.svg\" alt=\"Open In Colab\"/></a>"
      ]
    },
    {
      "cell_type": "markdown",
      "source": [
        "### BoJ"
      ],
      "metadata": {
        "id": "oIkWw9h6PSz1"
      }
    },
    {
      "cell_type": "markdown",
      "source": [
        "### 2139"
      ],
      "metadata": {
        "id": "GZXI9LJ2PtxQ"
      }
    },
    {
      "cell_type": "code",
      "execution_count": null,
      "metadata": {
        "id": "wvK0jaoNPSLd"
      },
      "outputs": [],
      "source": [
        "def is_leap_year(year):\n",
        "    \"\"\"\n",
        "    윤년 판별 함수\n",
        "    - 4로 나누어떨어지면 윤년\n",
        "    - 100으로 나누어떨어지면 평년\n",
        "    - 400으로 나누어떨어지면 윤년\n",
        "    \"\"\"\n",
        "    if year % 400 == 0:\n",
        "        return True\n",
        "    if year % 100 == 0:\n",
        "        return False\n",
        "    if year % 4 == 0:\n",
        "        return True\n",
        "    return False\n",
        "\n",
        "def get_days_in_month(month, year):\n",
        "    \"\"\"\n",
        "    해당 월의 일수 반환\n",
        "    \"\"\"\n",
        "    days_in_month = [31, 28, 31, 30, 31, 30, 31, 31, 30, 31, 30, 31]\n",
        "\n",
        "    if month == 2 and is_leap_year(year):\n",
        "        return 29\n",
        "    else:\n",
        "        return days_in_month[month - 1]\n",
        "\n",
        "def count_days(day, month, year):\n",
        "    \"\"\"\n",
        "    해당 연도 1월 1일부터 주어진 날짜까지의 일수 계산\n",
        "    \"\"\"\n",
        "    total_days = 0\n",
        "\n",
        "    # 1월부터 (month-1)월까지의 모든 일수 더하기\n",
        "    for m in range(1, month):\n",
        "        total_days += get_days_in_month(m, year)\n",
        "\n",
        "    # 해당 월의 일수 더하기\n",
        "    total_days += day\n",
        "\n",
        "    return total_days\n",
        "\n",
        "# 입력 처리\n",
        "while True:\n",
        "    line = input().split()\n",
        "    day, month, year = map(int, line)\n",
        "\n",
        "    if day == 0 and month == 0 and year == 0:\n",
        "        break\n",
        "\n",
        "    result = count_days(day, month, year)\n",
        "    print(result)"
      ]
    }
  ]
}