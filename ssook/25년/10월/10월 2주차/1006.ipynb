{
  "nbformat": 4,
  "nbformat_minor": 0,
  "metadata": {
    "colab": {
      "provenance": [],
      "authorship_tag": "ABX9TyPV1nvq2mI9oZqZpSC+KN95",
      "include_colab_link": true
    },
    "kernelspec": {
      "name": "python3",
      "display_name": "Python 3"
    },
    "language_info": {
      "name": "python"
    }
  },
  "cells": [
    {
      "cell_type": "markdown",
      "metadata": {
        "id": "view-in-github",
        "colab_type": "text"
      },
      "source": [
        "<a href=\"https://colab.research.google.com/github/ssook1222/1Day-1Algo/blob/master/ssook/25%EB%85%84/10%EC%9B%94/10%EC%9B%94%202%EC%A3%BC%EC%B0%A8/1006.ipynb\" target=\"_parent\"><img src=\"https://colab.research.google.com/assets/colab-badge.svg\" alt=\"Open In Colab\"/></a>"
      ]
    },
    {
      "cell_type": "markdown",
      "source": [
        "### BoJ"
      ],
      "metadata": {
        "id": "oIkWw9h6PSz1"
      }
    },
    {
      "cell_type": "markdown",
      "source": [
        "### 1871"
      ],
      "metadata": {
        "id": "GZXI9LJ2PtxQ"
      }
    },
    {
      "cell_type": "code",
      "execution_count": null,
      "metadata": {
        "id": "wvK0jaoNPSLd"
      },
      "outputs": [],
      "source": [
        "def calculate_letter_value(letters):\n",
        "    \"\"\"\n",
        "    3글자를 26진법으로 계산\n",
        "    A=0, B=1, ..., Z=25\n",
        "    \"\"\"\n",
        "    value = 0\n",
        "    for i, letter in enumerate(letters):\n",
        "        # A를 0으로 매핑 (ord('A') = 65)\n",
        "        digit_value = ord(letter) - ord('A')\n",
        "        # 26진법 계산: 첫번째 자리는 26^2, 두번째는 26^1, 세번째는 26^0\n",
        "        power = len(letters) - 1 - i\n",
        "        value += digit_value * (26 ** power)\n",
        "    return value\n",
        "\n",
        "def is_nice_plate(plate):\n",
        "    \"\"\"\n",
        "    번호판이 좋은 번호판인지 판별\n",
        "    \"\"\"\n",
        "    # '-'로 분리\n",
        "    parts = plate.split('-')\n",
        "    letters = parts[0]  # 3글자 부분\n",
        "    numbers = parts[1]  # 4숫자 부분\n",
        "\n",
        "    # 첫 번째 부분의 가치 (26진법)\n",
        "    letter_value = calculate_letter_value(letters)\n",
        "\n",
        "    # 두 번째 부분의 가치 (10진법)\n",
        "    number_value = int(numbers)\n",
        "\n",
        "    # 차이가 100 이하인지 확인\n",
        "    difference = abs(letter_value - number_value)\n",
        "\n",
        "    return difference <= 100\n",
        "\n",
        "# 입력 처리\n",
        "n = int(input())\n",
        "for _ in range(n):\n",
        "    plate = input().strip()\n",
        "    if is_nice_plate(plate):\n",
        "        print(\"nice\")\n",
        "    else:\n",
        "        print(\"not nice\")"
      ]
    }
  ]
}