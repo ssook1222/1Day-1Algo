{
  "nbformat": 4,
  "nbformat_minor": 0,
  "metadata": {
    "colab": {
      "provenance": [],
      "authorship_tag": "ABX9TyNhmo6TrGRR3YeQtqLlPslh",
      "include_colab_link": true
    },
    "kernelspec": {
      "name": "python3",
      "display_name": "Python 3"
    },
    "language_info": {
      "name": "python"
    }
  },
  "cells": [
    {
      "cell_type": "markdown",
      "metadata": {
        "id": "view-in-github",
        "colab_type": "text"
      },
      "source": [
        "<a href=\"https://colab.research.google.com/github/ssook1222/1Day-1Algo/blob/master/ssook/25%EB%85%84/10%EC%9B%94/10%EC%9B%94%202%EC%A3%BC%EC%B0%A8/1005.ipynb\" target=\"_parent\"><img src=\"https://colab.research.google.com/assets/colab-badge.svg\" alt=\"Open In Colab\"/></a>"
      ]
    },
    {
      "cell_type": "markdown",
      "source": [
        "## BOJ\n",
        "\n",
        "----\n",
        "\n",
        "pypy"
      ],
      "metadata": {
        "id": "nVVT-NAANd0_"
      }
    },
    {
      "cell_type": "markdown",
      "source": [
        "###"
      ],
      "metadata": {
        "id": "912pWuh0Ne83"
      }
    },
    {
      "cell_type": "code",
      "execution_count": null,
      "metadata": {
        "id": "7LluUz4RLk4t"
      },
      "outputs": [],
      "source": [
        "a, b, c = map(int, input().split())\n",
        "\n",
        "# 뱀과 사다리 정보 저장\n",
        "snakes_ladders = {}\n",
        "for _ in range(b):\n",
        "    start, end = map(int, input().split())\n",
        "    snakes_ladders[start] = end\n",
        "\n",
        "# 주사위 결과 읽기\n",
        "dice_rolls = []\n",
        "for _ in range(c):\n",
        "    dice_rolls.append(int(input()))\n",
        "\n",
        "# 각 플레이어의 위치 (1부터 시작)\n",
        "player_positions = [1] * a\n",
        "game_over = False\n",
        "current_player = 0\n",
        "roll_index = 0\n",
        "\n",
        "# 게임 진행\n",
        "while roll_index < c and not game_over:\n",
        "    # 현재 플레이어의 주사위 굴리기\n",
        "    dice_value = dice_rolls[roll_index]\n",
        "    roll_index += 1\n",
        "\n",
        "    # 현재 위치에서 주사위 값만큼 이동\n",
        "    new_position = player_positions[current_player] + dice_value\n",
        "\n",
        "    # 100을 넘으면 100으로 이동\n",
        "    if new_position > 100:\n",
        "        new_position = 100\n",
        "\n",
        "    # 뱀이나 사다리가 있는지 확인\n",
        "    if new_position in snakes_ladders:\n",
        "        new_position = snakes_ladders[new_position]\n",
        "\n",
        "    # 플레이어 위치 업데이트\n",
        "    player_positions[current_player] = new_position\n",
        "\n",
        "    # 100에 도달하면 게임 종료\n",
        "    if new_position == 100:\n",
        "        game_over = True\n",
        "\n",
        "    # 다음 플레이어로 순서 변경\n",
        "    current_player = (current_player + 1) % a\n",
        "\n",
        "# 결과 출력\n",
        "for i in range(a):\n",
        "    print(f\"Position of player {i+1} is {player_positions[i]}.\")"
      ]
    }
  ]
}