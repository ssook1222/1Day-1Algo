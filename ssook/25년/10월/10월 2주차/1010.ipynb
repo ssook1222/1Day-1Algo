{
  "nbformat": 4,
  "nbformat_minor": 0,
  "metadata": {
    "colab": {
      "provenance": [],
      "authorship_tag": "ABX9TyOziSQ6XOEIuEcUu4xyweAo",
      "include_colab_link": true
    },
    "kernelspec": {
      "name": "python3",
      "display_name": "Python 3"
    },
    "language_info": {
      "name": "python"
    }
  },
  "cells": [
    {
      "cell_type": "markdown",
      "metadata": {
        "id": "view-in-github",
        "colab_type": "text"
      },
      "source": [
        "<a href=\"https://colab.research.google.com/github/ssook1222/1Day-1Algo/blob/master/ssook/25%EB%85%84/10%EC%9B%94/10%EC%9B%94%202%EC%A3%BC%EC%B0%A8/1010.ipynb\" target=\"_parent\"><img src=\"https://colab.research.google.com/assets/colab-badge.svg\" alt=\"Open In Colab\"/></a>"
      ]
    },
    {
      "cell_type": "markdown",
      "source": [
        "### BoJ"
      ],
      "metadata": {
        "id": "oIkWw9h6PSz1"
      }
    },
    {
      "cell_type": "markdown",
      "source": [
        "### 2391"
      ],
      "metadata": {
        "id": "GZXI9LJ2PtxQ"
      }
    },
    {
      "cell_type": "code",
      "execution_count": null,
      "metadata": {
        "id": "wvK0jaoNPSLd"
      },
      "outputs": [],
      "source": [
        "def count_substitutions(word1, word2):\n",
        "    \"\"\"\n",
        "    두 단어 사이의 치환 횟수를 계산\n",
        "    (다른 문자의 개수)\n",
        "    \"\"\"\n",
        "    if len(word1) != len(word2):\n",
        "        return float('inf')  # 길이가 다르면 불가능\n",
        "\n",
        "    substitutions = 0\n",
        "    for i in range(len(word1)):\n",
        "        if word1[i] != word2[i]:\n",
        "            substitutions += 1\n",
        "\n",
        "    return substitutions\n",
        "\n",
        "def find_most_likely_word(sascha_word, dictionary):\n",
        "    \"\"\"\n",
        "    Sascha가 의도한 가장 가능성 높은 단어 찾기\n",
        "    \"\"\"\n",
        "    min_substitutions = float('inf')\n",
        "    best_word = \"\"\n",
        "\n",
        "    for word in dictionary:\n",
        "        substitutions = count_substitutions(sascha_word, word)\n",
        "\n",
        "        # 더 적은 치환 횟수를 가진 단어를 찾았거나\n",
        "        # 같은 치환 횟수라면 사전에서 먼저 나온 단어를 선택\n",
        "        if substitutions < min_substitutions:\n",
        "            min_substitutions = substitutions\n",
        "            best_word = word\n",
        "\n",
        "    return best_word\n",
        "\n",
        "# 입력 처리\n",
        "n = int(input())\n",
        "\n",
        "for _ in range(n):\n",
        "    sascha_word = input().strip()\n",
        "    w = int(input())\n",
        "\n",
        "    dictionary = []\n",
        "    for _ in range(w):\n",
        "        dictionary.append(input().strip())\n",
        "\n",
        "    result = find_most_likely_word(sascha_word, dictionary)\n",
        "    print(result)"
      ]
    }
  ]
}