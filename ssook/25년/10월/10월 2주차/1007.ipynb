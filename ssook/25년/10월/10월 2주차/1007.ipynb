{
  "nbformat": 4,
  "nbformat_minor": 0,
  "metadata": {
    "colab": {
      "provenance": [],
      "authorship_tag": "ABX9TyM/4UWdAlI9Ps/bZtmh5kwg",
      "include_colab_link": true
    },
    "kernelspec": {
      "name": "python3",
      "display_name": "Python 3"
    },
    "language_info": {
      "name": "python"
    }
  },
  "cells": [
    {
      "cell_type": "markdown",
      "metadata": {
        "id": "view-in-github",
        "colab_type": "text"
      },
      "source": [
        "<a href=\"https://colab.research.google.com/github/ssook1222/1Day-1Algo/blob/master/ssook/25%EB%85%84/10%EC%9B%94/10%EC%9B%94%202%EC%A3%BC%EC%B0%A8/1007.ipynb\" target=\"_parent\"><img src=\"https://colab.research.google.com/assets/colab-badge.svg\" alt=\"Open In Colab\"/></a>"
      ]
    },
    {
      "cell_type": "markdown",
      "source": [
        "### BoJ"
      ],
      "metadata": {
        "id": "oIkWw9h6PSz1"
      }
    },
    {
      "cell_type": "markdown",
      "source": [
        "### 1975\n",
        "\n",
        "---\n",
        "\n",
        "pypy"
      ],
      "metadata": {
        "id": "GZXI9LJ2PtxQ"
      }
    },
    {
      "cell_type": "code",
      "execution_count": null,
      "metadata": {
        "id": "wvK0jaoNPSLd"
      },
      "outputs": [],
      "source": [
        "def count_trailing_zeros(n, base):\n",
        "    \"\"\"\n",
        "    n을 base진법으로 표현했을 때 끝에 붙는 연속된 0의 개수\n",
        "    = n을 base로 나눌 수 있는 최대 횟수\n",
        "    \"\"\"\n",
        "    count = 0\n",
        "    while n % base == 0:\n",
        "        n //= base\n",
        "        count += 1\n",
        "    return count\n",
        "\n",
        "def solve(n):\n",
        "    \"\"\"\n",
        "    N에 대해 모든 진법(2부터 무한대)에서 끝자리 0의 개수 합을 구함\n",
        "    \"\"\"\n",
        "    total = 0\n",
        "\n",
        "    # base가 n보다 큰 경우, n을 base진법으로 표현하면 한 자리 수가 되므로 끝자리 0이 없음\n",
        "    # 따라서 base는 2부터 n까지만 확인하면 됨\n",
        "    for base in range(2, n + 1):\n",
        "        total += count_trailing_zeros(n, base)\n",
        "\n",
        "    return total\n",
        "\n",
        "# 입력 처리\n",
        "t = int(input())\n",
        "for _ in range(t):\n",
        "    n = int(input())\n",
        "    print(solve(n))"
      ]
    }
  ]
}