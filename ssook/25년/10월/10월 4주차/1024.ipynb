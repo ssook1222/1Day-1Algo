{
  "nbformat": 4,
  "nbformat_minor": 0,
  "metadata": {
    "colab": {
      "provenance": [],
      "authorship_tag": "ABX9TyOxMwRyf61ZaaU17YMy07Mh",
      "include_colab_link": true
    },
    "kernelspec": {
      "name": "python3",
      "display_name": "Python 3"
    },
    "language_info": {
      "name": "python"
    }
  },
  "cells": [
    {
      "cell_type": "markdown",
      "metadata": {
        "id": "view-in-github",
        "colab_type": "text"
      },
      "source": [
        "<a href=\"https://colab.research.google.com/github/ssook1222/1Day-1Algo/blob/master/ssook/25%EB%85%84/10%EC%9B%94/10%EC%9B%94%204%EC%A3%BC%EC%B0%A8/1024.ipynb\" target=\"_parent\"><img src=\"https://colab.research.google.com/assets/colab-badge.svg\" alt=\"Open In Colab\"/></a>"
      ]
    },
    {
      "cell_type": "markdown",
      "source": [
        "## BoJ"
      ],
      "metadata": {
        "id": "YjsrnUvVY0oU"
      }
    },
    {
      "cell_type": "markdown",
      "source": [
        "### 2484"
      ],
      "metadata": {
        "id": "avcNzC-lY2B1"
      }
    },
    {
      "cell_type": "code",
      "execution_count": null,
      "metadata": {
        "id": "3BO7HSDBYo8A"
      },
      "outputs": [],
      "source": [
        "def calculate_prize(dice):\n",
        "    \"\"\"\n",
        "    주사위 4개의 눈에 따른 상금 계산\n",
        "    \"\"\"\n",
        "    # 각 눈의 개수를 세기\n",
        "    count = {}\n",
        "    for d in dice:\n",
        "        count[d] = count.get(d, 0) + 1\n",
        "\n",
        "    # 개수별로 분류\n",
        "    counts = sorted(count.values(), reverse=True)  # 개수를 내림차순 정렬\n",
        "\n",
        "    if counts[0] == 4:\n",
        "        # 1. 같은 눈이 4개\n",
        "        same_eye = [eye for eye, cnt in count.items() if cnt == 4][0]\n",
        "        return 50000 + same_eye * 5000\n",
        "\n",
        "    elif counts[0] == 3:\n",
        "        # 2. 같은 눈이 3개\n",
        "        same_eye = [eye for eye, cnt in count.items() if cnt == 3][0]\n",
        "        return 10000 + same_eye * 1000\n",
        "\n",
        "    elif counts[0] == 2 and counts[1] == 2:\n",
        "        # 3. 같은 눈이 2개씩 두 쌍\n",
        "        pairs = [eye for eye, cnt in count.items() if cnt == 2]\n",
        "        return 2000 + pairs[0] * 500 + pairs[1] * 500\n",
        "\n",
        "    elif counts[0] == 2:\n",
        "        # 4. 같은 눈이 2개만\n",
        "        same_eye = [eye for eye, cnt in count.items() if cnt == 2][0]\n",
        "        return 1000 + same_eye * 100\n",
        "\n",
        "    else:\n",
        "        # 5. 모두 다른 눈\n",
        "        return max(dice) * 100\n",
        "\n",
        "def solve():\n",
        "    n = int(input())\n",
        "    max_prize = 0\n",
        "\n",
        "    for _ in range(n):\n",
        "        dice = list(map(int, input().split()))\n",
        "        prize = calculate_prize(dice)\n",
        "        max_prize = max(max_prize, prize)\n",
        "\n",
        "    return max_prize\n",
        "\n",
        "# 실행\n",
        "print(solve())"
      ]
    }
  ]
}