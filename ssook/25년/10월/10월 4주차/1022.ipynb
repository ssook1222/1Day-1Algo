{
  "nbformat": 4,
  "nbformat_minor": 0,
  "metadata": {
    "colab": {
      "provenance": [],
      "authorship_tag": "ABX9TyMC6RlksR8vlDP+7gO7qtCn",
      "include_colab_link": true
    },
    "kernelspec": {
      "name": "python3",
      "display_name": "Python 3"
    },
    "language_info": {
      "name": "python"
    }
  },
  "cells": [
    {
      "cell_type": "markdown",
      "metadata": {
        "id": "view-in-github",
        "colab_type": "text"
      },
      "source": [
        "<a href=\"https://colab.research.google.com/github/ssook1222/1Day-1Algo/blob/master/ssook/25%EB%85%84/10%EC%9B%94/10%EC%9B%94%204%EC%A3%BC%EC%B0%A8/1022.ipynb\" target=\"_parent\"><img src=\"https://colab.research.google.com/assets/colab-badge.svg\" alt=\"Open In Colab\"/></a>"
      ]
    },
    {
      "cell_type": "markdown",
      "source": [
        "## BoJ"
      ],
      "metadata": {
        "id": "YjsrnUvVY0oU"
      }
    },
    {
      "cell_type": "markdown",
      "source": [
        "### 10448"
      ],
      "metadata": {
        "id": "avcNzC-lY2B1"
      }
    },
    {
      "cell_type": "code",
      "execution_count": null,
      "metadata": {
        "id": "3BO7HSDBYo8A"
      },
      "outputs": [],
      "source": [
        "def generate_triangular_numbers(max_k):\n",
        "    \"\"\"\n",
        "    주어진 최대값까지의 삼각수들을 생성\n",
        "    삼각수 Tn = n(n+1)/2\n",
        "    \"\"\"\n",
        "    triangular = []\n",
        "    n = 1\n",
        "    while True:\n",
        "        tn = n * (n + 1) // 2\n",
        "        if tn > max_k:\n",
        "            break\n",
        "        triangular.append(tn)\n",
        "        n += 1\n",
        "    return triangular\n",
        "\n",
        "def can_be_sum_of_three_triangular(k, triangular_numbers):\n",
        "    \"\"\"\n",
        "    k가 정확히 3개의 삼각수의 합으로 표현될 수 있는지 확인\n",
        "    \"\"\"\n",
        "    # 3중 반복문으로 모든 조합 확인\n",
        "    for i in range(len(triangular_numbers)):\n",
        "        for j in range(len(triangular_numbers)):\n",
        "            for l in range(len(triangular_numbers)):\n",
        "                if triangular_numbers[i] + triangular_numbers[j] + triangular_numbers[l] == k:\n",
        "                    return True\n",
        "                # 합이 k보다 크면 더 이상 확인할 필요 없음\n",
        "                if triangular_numbers[i] + triangular_numbers[j] + triangular_numbers[l] > k:\n",
        "                    break\n",
        "            # 두 번째 삼각수부터의 합이 이미 k보다 크면 break\n",
        "            if triangular_numbers[i] + triangular_numbers[j] > k:\n",
        "                break\n",
        "        # 첫 번째 삼각수가 이미 k보다 크면 break\n",
        "        if triangular_numbers[i] > k:\n",
        "            break\n",
        "    return False\n",
        "\n",
        "# 테스트 케이스 개수 입력\n",
        "t = int(input())\n",
        "\n",
        "# 최대 1000까지의 삼각수들 미리 계산\n",
        "triangular_numbers = generate_triangular_numbers(1000)\n",
        "\n",
        "# 각 테스트 케이스 처리\n",
        "for _ in range(t):\n",
        "    k = int(input())\n",
        "    if can_be_sum_of_three_triangular(k, triangular_numbers):\n",
        "        print(1)\n",
        "    else:\n",
        "        print(0)"
      ]
    }
  ]
}