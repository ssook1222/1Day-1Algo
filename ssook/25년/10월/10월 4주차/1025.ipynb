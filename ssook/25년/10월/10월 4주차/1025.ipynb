{
  "nbformat": 4,
  "nbformat_minor": 0,
  "metadata": {
    "colab": {
      "provenance": [],
      "authorship_tag": "ABX9TyO+Yt29PgnMz3fz5VWffKm5",
      "include_colab_link": true
    },
    "kernelspec": {
      "name": "python3",
      "display_name": "Python 3"
    },
    "language_info": {
      "name": "python"
    }
  },
  "cells": [
    {
      "cell_type": "markdown",
      "metadata": {
        "id": "view-in-github",
        "colab_type": "text"
      },
      "source": [
        "<a href=\"https://colab.research.google.com/github/ssook1222/1Day-1Algo/blob/master/ssook/25%EB%85%84/10%EC%9B%94/10%EC%9B%94%204%EC%A3%BC%EC%B0%A8/1025.ipynb\" target=\"_parent\"><img src=\"https://colab.research.google.com/assets/colab-badge.svg\" alt=\"Open In Colab\"/></a>"
      ]
    },
    {
      "cell_type": "markdown",
      "source": [
        "## BoJ"
      ],
      "metadata": {
        "id": "YjsrnUvVY0oU"
      }
    },
    {
      "cell_type": "markdown",
      "source": [
        "### 2456"
      ],
      "metadata": {
        "id": "avcNzC-lY2B1"
      }
    },
    {
      "cell_type": "code",
      "execution_count": null,
      "metadata": {
        "id": "3BO7HSDBYo8A"
      },
      "outputs": [],
      "source": [
        "def solve_election():\n",
        "    n = int(input())\n",
        "\n",
        "    # 각 후보별 점수 집계\n",
        "    total_scores = [0, 0, 0]  # 후보 1, 2, 3의 총 점수\n",
        "    count_3 = [0, 0, 0]      # 각 후보가 3점을 받은 횟수\n",
        "    count_2 = [0, 0, 0]      # 각 후보가 2점을 받은 횟수\n",
        "    count_1 = [0, 0, 0]      # 각 후보가 1점을 받은 횟수\n",
        "\n",
        "    for _ in range(n):\n",
        "        scores = list(map(int, input().split()))\n",
        "\n",
        "        for i in range(3):  # 후보 1, 2, 3\n",
        "            total_scores[i] += scores[i]\n",
        "\n",
        "            if scores[i] == 3:\n",
        "                count_3[i] += 1\n",
        "            elif scores[i] == 2:\n",
        "                count_2[i] += 1\n",
        "            else:  # scores[i] == 1\n",
        "                count_1[i] += 1\n",
        "\n",
        "    # 최고 점수 찾기\n",
        "    max_score = max(total_scores)\n",
        "\n",
        "    # 최고 점수를 받은 후보들 찾기\n",
        "    max_candidates = []\n",
        "    for i in range(3):\n",
        "        if total_scores[i] == max_score:\n",
        "            max_candidates.append(i)\n",
        "\n",
        "    # 최고 점수를 받은 후보가 한 명이면 그 후보가 회장\n",
        "    if len(max_candidates) == 1:\n",
        "        winner = max_candidates[0] + 1  # 후보 번호는 1부터 시작\n",
        "        return f\"{winner} {max_score}\"\n",
        "\n",
        "    # 여러 명이 최고 점수를 받았으면 타이브레이킹\n",
        "    # 1차: 3점을 가장 많이 받은 후보\n",
        "    max_count_3 = max(count_3[i] for i in max_candidates)\n",
        "    candidates_after_3 = [i for i in max_candidates if count_3[i] == max_count_3]\n",
        "\n",
        "    if len(candidates_after_3) == 1:\n",
        "        winner = candidates_after_3[0] + 1\n",
        "        return f\"{winner} {max_score}\"\n",
        "\n",
        "    # 2차: 2점을 가장 많이 받은 후보\n",
        "    max_count_2 = max(count_2[i] for i in candidates_after_3)\n",
        "    candidates_after_2 = [i for i in candidates_after_3 if count_2[i] == max_count_2]\n",
        "\n",
        "    if len(candidates_after_2) == 1:\n",
        "        winner = candidates_after_2[0] + 1\n",
        "        return f\"{winner} {max_score}\"\n",
        "\n",
        "    # 3차: 여전히 동점이면 회장을 결정할 수 없음\n",
        "    return f\"0 {max_score}\"\n",
        "\n",
        "# 실행\n",
        "print(solve_election())"
      ]
    }
  ]
}