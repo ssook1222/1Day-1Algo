{
  "nbformat": 4,
  "nbformat_minor": 0,
  "metadata": {
    "colab": {
      "provenance": [],
      "authorship_tag": "ABX9TyP5j0ajJgL/lhDKVGKZ6NQC",
      "include_colab_link": true
    },
    "kernelspec": {
      "name": "python3",
      "display_name": "Python 3"
    },
    "language_info": {
      "name": "python"
    }
  },
  "cells": [
    {
      "cell_type": "markdown",
      "metadata": {
        "id": "view-in-github",
        "colab_type": "text"
      },
      "source": [
        "<a href=\"https://colab.research.google.com/github/ssook1222/1Day-1Algo/blob/master/ssook/25%EB%85%84/10%EC%9B%94/10%EC%9B%94%203%EC%A3%BC%EC%B0%A8/1014.ipynb\" target=\"_parent\"><img src=\"https://colab.research.google.com/assets/colab-badge.svg\" alt=\"Open In Colab\"/></a>"
      ]
    },
    {
      "cell_type": "markdown",
      "source": [
        "## BoJ"
      ],
      "metadata": {
        "id": "SLkjZQM0K3U7"
      }
    },
    {
      "cell_type": "markdown",
      "source": [
        "### 34071"
      ],
      "metadata": {
        "id": "ANjnJjrcK4Qy"
      }
    },
    {
      "cell_type": "code",
      "execution_count": null,
      "metadata": {
        "id": "iyy4Ii8FK1hd"
      },
      "outputs": [],
      "source": [
        "# 천하제일 코딩대회 문제 해결\n",
        "\n",
        "# 입력 받기\n",
        "N = int(input())\n",
        "difficulties = []\n",
        "\n",
        "for i in range(N):\n",
        "    difficulty = int(input())\n",
        "    difficulties.append(difficulty)\n",
        "\n",
        "# 첫 번째 문제의 난이도\n",
        "first_problem = difficulties[0]\n",
        "\n",
        "# 모든 문제의 최솟값과 최댓값 찾기\n",
        "min_difficulty = min(difficulties)\n",
        "max_difficulty = max(difficulties)\n",
        "\n",
        "# 첫 번째 문제가 가장 쉬운지, 가장 어려운지, 둘 다 아닌지 판단\n",
        "if first_problem == min_difficulty:\n",
        "    print(\"ez\")\n",
        "elif first_problem == max_difficulty:\n",
        "    print(\"hard\")\n",
        "else:\n",
        "    print(\"?\")"
      ]
    }
  ]
}