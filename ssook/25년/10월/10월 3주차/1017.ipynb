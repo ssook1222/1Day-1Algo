{
  "nbformat": 4,
  "nbformat_minor": 0,
  "metadata": {
    "colab": {
      "provenance": [],
      "authorship_tag": "ABX9TyOWmx1BZlqdBt0DoZFyQVGT",
      "include_colab_link": true
    },
    "kernelspec": {
      "name": "python3",
      "display_name": "Python 3"
    },
    "language_info": {
      "name": "python"
    }
  },
  "cells": [
    {
      "cell_type": "markdown",
      "metadata": {
        "id": "view-in-github",
        "colab_type": "text"
      },
      "source": [
        "<a href=\"https://colab.research.google.com/github/ssook1222/1Day-1Algo/blob/master/ssook/25%EB%85%84/10%EC%9B%94/10%EC%9B%94%203%EC%A3%BC%EC%B0%A8/1017.ipynb\" target=\"_parent\"><img src=\"https://colab.research.google.com/assets/colab-badge.svg\" alt=\"Open In Colab\"/></a>"
      ]
    },
    {
      "cell_type": "markdown",
      "source": [
        "## BoJ"
      ],
      "metadata": {
        "id": "W1OeDDiDLKdl"
      }
    },
    {
      "cell_type": "markdown",
      "source": [
        "### 5013"
      ],
      "metadata": {
        "id": "CwTgGw6xLL1F"
      }
    },
    {
      "cell_type": "code",
      "execution_count": null,
      "metadata": {
        "id": "kmM803yxLJHn"
      },
      "outputs": [],
      "source": [
        "# 전투 수 입력\n",
        "n = int(input())\n",
        "\n",
        "# 승리한 전투 수를 세는 변수\n",
        "wins = 0\n",
        "\n",
        "# 각 전투 분석\n",
        "for i in range(n):\n",
        "    battle_sequence = input().strip()\n",
        "\n",
        "    # 'CD' 패턴이 있는지 확인\n",
        "    # Chains of Ice (C) 바로 다음에 Death Grip (D)이 오면 패배\n",
        "    has_cd_pattern = False\n",
        "\n",
        "    for j in range(len(battle_sequence) - 1):\n",
        "        if battle_sequence[j] == 'C' and battle_sequence[j + 1] == 'D':\n",
        "            has_cd_pattern = True\n",
        "            break\n",
        "\n",
        "    # 'CD' 패턴이 없으면 승리\n",
        "    if not has_cd_pattern:\n",
        "        wins += 1\n",
        "\n",
        "# 승리한 전투 수 출력\n",
        "print(wins)"
      ]
    }
  ]
}