{
  "nbformat": 4,
  "nbformat_minor": 0,
  "metadata": {
    "colab": {
      "provenance": [],
      "authorship_tag": "ABX9TyN9TceQ4Kn+14ATWJdqW0W2",
      "include_colab_link": true
    },
    "kernelspec": {
      "name": "python3",
      "display_name": "Python 3"
    },
    "language_info": {
      "name": "python"
    }
  },
  "cells": [
    {
      "cell_type": "markdown",
      "metadata": {
        "id": "view-in-github",
        "colab_type": "text"
      },
      "source": [
        "<a href=\"https://colab.research.google.com/github/ssook1222/1Day-1Algo/blob/master/ssook/25%EB%85%84/10%EC%9B%94/10%EC%9B%94%203%EC%A3%BC%EC%B0%A8/1016.ipynb\" target=\"_parent\"><img src=\"https://colab.research.google.com/assets/colab-badge.svg\" alt=\"Open In Colab\"/></a>"
      ]
    },
    {
      "cell_type": "markdown",
      "source": [
        "## BoJ"
      ],
      "metadata": {
        "id": "kI-w3qDALEs6"
      }
    },
    {
      "cell_type": "markdown",
      "source": [
        "### 4459"
      ],
      "metadata": {
        "id": "0cWhF7_mLFkK"
      }
    },
    {
      "cell_type": "code",
      "execution_count": null,
      "metadata": {
        "id": "TjLfpUE6LDCq"
      },
      "outputs": [],
      "source": [
        "# Zombieland Rules 문제 해결\n",
        "\n",
        "# 첫 번째: 인용구 개수 입력\n",
        "q = int(input())\n",
        "\n",
        "# 인용구들을 저장할 리스트\n",
        "quotes = []\n",
        "\n",
        "# q개의 인용구 입력 받기\n",
        "for i in range(q):\n",
        "    quote = input()\n",
        "    quotes.append(quote)\n",
        "\n",
        "# 두 번째: 룩업할 규칙 개수 입력\n",
        "r = int(input())\n",
        "\n",
        "# r개의 규칙 번호에 대해 처리\n",
        "for i in range(r):\n",
        "    rule_number = int(input())\n",
        "\n",
        "    # 규칙 번호가 유효한 범위인지 확인\n",
        "    # 규칙은 1부터 시작하므로, 배열 인덱스는 rule_number - 1\n",
        "    if 1 <= rule_number <= len(quotes):\n",
        "        print(\"Rule \" + str(rule_number) + \": \" + quotes[rule_number - 1])\n",
        "    else:\n",
        "        print(\"Rule \" + str(rule_number) + \": No such rule\")"
      ]
    }
  ]
}