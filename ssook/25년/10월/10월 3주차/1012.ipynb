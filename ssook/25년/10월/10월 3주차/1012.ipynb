{
  "nbformat": 4,
  "nbformat_minor": 0,
  "metadata": {
    "colab": {
      "provenance": [],
      "authorship_tag": "ABX9TyNfTKz0XoWbbstyGpHcYwHo",
      "include_colab_link": true
    },
    "kernelspec": {
      "name": "python3",
      "display_name": "Python 3"
    },
    "language_info": {
      "name": "python"
    }
  },
  "cells": [
    {
      "cell_type": "markdown",
      "metadata": {
        "id": "view-in-github",
        "colab_type": "text"
      },
      "source": [
        "<a href=\"https://colab.research.google.com/github/ssook1222/1Day-1Algo/blob/master/ssook/25%EB%85%84/10%EC%9B%94/10%EC%9B%94%203%EC%A3%BC%EC%B0%A8/1012.ipynb\" target=\"_parent\"><img src=\"https://colab.research.google.com/assets/colab-badge.svg\" alt=\"Open In Colab\"/></a>"
      ]
    },
    {
      "cell_type": "markdown",
      "source": [
        "### BoJ"
      ],
      "metadata": {
        "id": "oIkWw9h6PSz1"
      }
    },
    {
      "cell_type": "markdown",
      "source": [
        "### 2966"
      ],
      "metadata": {
        "id": "GZXI9LJ2PtxQ"
      }
    },
    {
      "cell_type": "code",
      "execution_count": null,
      "metadata": {
        "id": "wvK0jaoNPSLd"
      },
      "outputs": [],
      "source": [
        "def generate_pattern(pattern_type, length):\n",
        "    \"\"\"\n",
        "    각 학생의 패턴을 생성하는 함수\n",
        "    \"\"\"\n",
        "    result = []\n",
        "\n",
        "    if pattern_type == \"Adrian\":\n",
        "        # A, B, C, A, B, C, ... (3개씩 반복)\n",
        "        pattern = ['A', 'B', 'C']\n",
        "        for i in range(length):\n",
        "            result.append(pattern[i % 3])\n",
        "\n",
        "    elif pattern_type == \"Bruno\":\n",
        "        # B, A, B, C, B, A, B, C, ... (4개씩 반복)\n",
        "        pattern = ['B', 'A', 'B', 'C']\n",
        "        for i in range(length):\n",
        "            result.append(pattern[i % 4])\n",
        "\n",
        "    elif pattern_type == \"Goran\":\n",
        "        # C, C, A, A, B, B, C, C, A, A, B, B, ... (각 문자 2개씩, 6개씩 반복)\n",
        "        pattern = ['C', 'C', 'A', 'A', 'B', 'B']\n",
        "        for i in range(length):\n",
        "            result.append(pattern[i % 6])\n",
        "\n",
        "    return result\n",
        "\n",
        "def count_correct_answers(correct_answers, student_answers):\n",
        "    \"\"\"\n",
        "    맞힌 문제 수를 계산하는 함수\n",
        "    \"\"\"\n",
        "    count = 0\n",
        "    for i in range(len(correct_answers)):\n",
        "        if correct_answers[i] == student_answers[i]:\n",
        "            count += 1\n",
        "    return count\n",
        "\n",
        "def solve():\n",
        "    # 입력 받기\n",
        "    n = int(input())\n",
        "    correct_answers = input().strip()\n",
        "\n",
        "    # 각 학생의 패턴 생성\n",
        "    adrian_pattern = generate_pattern(\"Adrian\", n)\n",
        "    bruno_pattern = generate_pattern(\"Bruno\", n)\n",
        "    goran_pattern = generate_pattern(\"Goran\", n)\n",
        "\n",
        "    # 각 학생이 맞힌 문제 수 계산\n",
        "    adrian_score = count_correct_answers(correct_answers, adrian_pattern)\n",
        "    bruno_score = count_correct_answers(correct_answers, bruno_pattern)\n",
        "    goran_score = count_correct_answers(correct_answers, goran_pattern)\n",
        "\n",
        "    # 최고 점수 찾기\n",
        "    max_score = max(adrian_score, bruno_score, goran_score)\n",
        "\n",
        "    # 결과 출력\n",
        "    print(max_score)\n",
        "\n",
        "    # 최고 점수를 받은 학생들 찾기 (순서: Adrian, Bruno, Goran)\n",
        "    winners = []\n",
        "    if adrian_score == max_score:\n",
        "        winners.append(\"Adrian\")\n",
        "    if bruno_score == max_score:\n",
        "        winners.append(\"Bruno\")\n",
        "    if goran_score == max_score:\n",
        "        winners.append(\"Goran\")\n",
        "\n",
        "    for winner in winners:\n",
        "        print(winner)\n",
        "\n",
        "solve()"
      ]
    }
  ]
}