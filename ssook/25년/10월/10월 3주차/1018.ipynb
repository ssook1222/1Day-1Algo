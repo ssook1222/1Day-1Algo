{
  "nbformat": 4,
  "nbformat_minor": 0,
  "metadata": {
    "colab": {
      "provenance": [],
      "authorship_tag": "ABX9TyMjRGBTSrgqfYIKR1I5FMyQ",
      "include_colab_link": true
    },
    "kernelspec": {
      "name": "python3",
      "display_name": "Python 3"
    },
    "language_info": {
      "name": "python"
    }
  },
  "cells": [
    {
      "cell_type": "markdown",
      "metadata": {
        "id": "view-in-github",
        "colab_type": "text"
      },
      "source": [
        "<a href=\"https://colab.research.google.com/github/ssook1222/1Day-1Algo/blob/master/ssook/25%EB%85%84/10%EC%9B%94/10%EC%9B%94%203%EC%A3%BC%EC%B0%A8/1018.ipynb\" target=\"_parent\"><img src=\"https://colab.research.google.com/assets/colab-badge.svg\" alt=\"Open In Colab\"/></a>"
      ]
    },
    {
      "cell_type": "markdown",
      "source": [
        "## BoJ"
      ],
      "metadata": {
        "id": "-na-Lf0vLQv_"
      }
    },
    {
      "cell_type": "markdown",
      "source": [
        "### 5102"
      ],
      "metadata": {
        "id": "FQHs9x6YLSdp"
      }
    },
    {
      "cell_type": "code",
      "execution_count": null,
      "metadata": {
        "id": "5zvEiz0hLO8g"
      },
      "outputs": [],
      "source": [
        "# Sarah의 인형 문제\n",
        "# Sarah는 침실에 있는 인형들을 쌍으로 만들되, 홀수 개가 있으면 하나의 3개 그룹을 만듦\n",
        "\n",
        "while True:\n",
        "    line = input().split()\n",
        "    total_toys = int(line[0])\n",
        "    toys_left_outside = int(line[1])\n",
        "\n",
        "    # 종료 조건\n",
        "    if total_toys == 0 and toys_left_outside == 0:\n",
        "        break\n",
        "\n",
        "    # 침실에 있는 인형 개수 계산\n",
        "    toys_in_bedroom = total_toys - toys_left_outside\n",
        "\n",
        "    # 인형 개수가 홀수면 3개 그룹을 하나 만들고, 나머지는 쌍으로 만듦\n",
        "    # 인형 개수가 짝수면 모두 쌍으로 만듦\n",
        "\n",
        "    if toys_in_bedroom % 2 == 1:  # 홀수인 경우\n",
        "        # 3개 그룹을 만들 수 있으면 만듦\n",
        "        if toys_in_bedroom >= 3:\n",
        "            has_group_of_three = 1\n",
        "            pairs = (toys_in_bedroom - 3) // 2\n",
        "        else:\n",
        "            # 3개 그룹을 만들 수 없음 (1개만 있는 경우)\n",
        "            has_group_of_three = 0\n",
        "            pairs = 0\n",
        "    else:  # 짝수인 경우\n",
        "        has_group_of_three = 0\n",
        "        pairs = toys_in_bedroom // 2\n",
        "\n",
        "    print(pairs, has_group_of_three)"
      ]
    }
  ]
}