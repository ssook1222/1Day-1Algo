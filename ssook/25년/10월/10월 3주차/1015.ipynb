{
  "nbformat": 4,
  "nbformat_minor": 0,
  "metadata": {
    "colab": {
      "provenance": [],
      "authorship_tag": "ABX9TyONGR4zlLO7smZCwLzjn414",
      "include_colab_link": true
    },
    "kernelspec": {
      "name": "python3",
      "display_name": "Python 3"
    },
    "language_info": {
      "name": "python"
    }
  },
  "cells": [
    {
      "cell_type": "markdown",
      "metadata": {
        "id": "view-in-github",
        "colab_type": "text"
      },
      "source": [
        "<a href=\"https://colab.research.google.com/github/ssook1222/1Day-1Algo/blob/master/ssook/25%EB%85%84/10%EC%9B%94/10%EC%9B%94%203%EC%A3%BC%EC%B0%A8/1015.ipynb\" target=\"_parent\"><img src=\"https://colab.research.google.com/assets/colab-badge.svg\" alt=\"Open In Colab\"/></a>"
      ]
    },
    {
      "cell_type": "markdown",
      "source": [
        "## BoJ"
      ],
      "metadata": {
        "id": "B2_7LnbHK9Je"
      }
    },
    {
      "cell_type": "markdown",
      "source": [
        "### 4435"
      ],
      "metadata": {
        "id": "eMt1e6tTK-9O"
      }
    },
    {
      "cell_type": "code",
      "execution_count": null,
      "metadata": {
        "id": "v4AGt1ubK8oV"
      },
      "outputs": [],
      "source": [
        "# 중간계 전투 시뮬레이션\n",
        "\n",
        "# 간달프 군대 점수 (호빗, 인간, 엘프, 드워프, 독수리, 마법사)\n",
        "gandalf_scores = [1, 2, 3, 3, 4, 10]\n",
        "\n",
        "# 사우론 군대 점수 (오크, 인간, 워그, 고블린, 우럭하이, 트롤, 마법사)\n",
        "sauron_scores = [1, 2, 2, 2, 3, 5, 10]\n",
        "\n",
        "# 전투 개수 입력\n",
        "T = int(input())\n",
        "\n",
        "for battle_num in range(1, T + 1):\n",
        "    # 간달프 군대 종족 수 입력\n",
        "    gandalf_counts = list(map(int, input().split()))\n",
        "\n",
        "    # 사우론 군대 종족 수 입력\n",
        "    sauron_counts = list(map(int, input().split()))\n",
        "\n",
        "    # 간달프 군대 총 점수 계산\n",
        "    gandalf_total = 0\n",
        "    for i in range(6):\n",
        "        gandalf_total += gandalf_counts[i] * gandalf_scores[i]\n",
        "\n",
        "    # 사우론 군대 총 점수 계산\n",
        "    sauron_total = 0\n",
        "    for i in range(7):\n",
        "        sauron_total += sauron_counts[i] * sauron_scores[i]\n",
        "\n",
        "    # 결과 출력\n",
        "    print(f\"Battle {battle_num}: \", end=\"\")\n",
        "\n",
        "    if gandalf_total > sauron_total:\n",
        "        print(\"Good triumphs over Evil\")\n",
        "    elif sauron_total > gandalf_total:\n",
        "        print(\"Evil eradicates all trace of Good\")\n",
        "    else:\n",
        "        print(\"No victor on this battle field\")"
      ]
    }
  ]
}