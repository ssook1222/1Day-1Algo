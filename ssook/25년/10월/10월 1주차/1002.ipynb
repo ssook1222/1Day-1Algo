{
  "nbformat": 4,
  "nbformat_minor": 0,
  "metadata": {
    "colab": {
      "provenance": [],
      "authorship_tag": "ABX9TyP47RXON8W7GMvc9Hag4YCH",
      "include_colab_link": true
    },
    "kernelspec": {
      "name": "python3",
      "display_name": "Python 3"
    },
    "language_info": {
      "name": "python"
    }
  },
  "cells": [
    {
      "cell_type": "markdown",
      "metadata": {
        "id": "view-in-github",
        "colab_type": "text"
      },
      "source": [
        "<a href=\"https://colab.research.google.com/github/ssook1222/1Day-1Algo/blob/master/ssook/25%EB%85%84/10%EC%9B%94/10%EC%9B%94%201%EC%A3%BC%EC%B0%A8/1002.ipynb\" target=\"_parent\"><img src=\"https://colab.research.google.com/assets/colab-badge.svg\" alt=\"Open In Colab\"/></a>"
      ]
    },
    {
      "cell_type": "markdown",
      "source": [
        "## BOJ"
      ],
      "metadata": {
        "id": "nVVT-NAANd0_"
      }
    },
    {
      "cell_type": "markdown",
      "source": [
        "### 3566"
      ],
      "metadata": {
        "id": "912pWuh0Ne83"
      }
    },
    {
      "cell_type": "code",
      "execution_count": null,
      "metadata": {
        "id": "7LluUz4RLk4t"
      },
      "outputs": [],
      "source": [
        "import math\n",
        "\n",
        "# 입력 받기\n",
        "rh, rv, sh, sv = map(int, input().split())  # 목표 해상도와 크기\n",
        "n = int(input())\n",
        "\n",
        "min_cost = float('inf')\n",
        "\n",
        "for _ in range(n):\n",
        "    rh_i, rv_i, sh_i, sv_i, pi = map(int, input().split())\n",
        "\n",
        "    # 각 모니터에 대해 두 가지 방향 확인\n",
        "    orientations = [\n",
        "        (rh_i, rv_i, sh_i, sv_i),  # 원래 방향\n",
        "        (rv_i, rh_i, sv_i, sh_i)   # 90도 회전\n",
        "    ]\n",
        "\n",
        "    for r_h, r_v, s_h, s_v in orientations:\n",
        "        # 해상도 기준으로 필요한 모니터 개수\n",
        "        h_count_res = math.ceil(rh / r_h) if r_h > 0 else float('inf')\n",
        "        v_count_res = math.ceil(rv / r_v) if r_v > 0 else float('inf')\n",
        "\n",
        "        # 크기 기준으로 필요한 모니터 개수\n",
        "        h_count_size = math.ceil(sh / s_h) if s_h > 0 else float('inf')\n",
        "        v_count_size = math.ceil(sv / s_v) if s_v > 0 else float('inf')\n",
        "\n",
        "        # 해상도와 크기 조건을 모두 만족하려면 더 큰 값 선택\n",
        "        h_count = max(h_count_res, h_count_size)\n",
        "        v_count = max(v_count_res, v_count_size)\n",
        "\n",
        "        if h_count != float('inf') and v_count != float('inf'):\n",
        "            # 총 모니터 개수와 비용 계산\n",
        "            total_monitors = h_count * v_count\n",
        "            total_cost = total_monitors * pi\n",
        "\n",
        "            min_cost = min(min_cost, total_cost)\n",
        "\n",
        "print(min_cost)"
      ]
    }
  ]
}