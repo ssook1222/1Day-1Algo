{
  "nbformat": 4,
  "nbformat_minor": 0,
  "metadata": {
    "colab": {
      "provenance": [],
      "authorship_tag": "ABX9TyNBWk7mSXesqW/XKwOQvvZ/",
      "include_colab_link": true
    },
    "kernelspec": {
      "name": "python3",
      "display_name": "Python 3"
    },
    "language_info": {
      "name": "python"
    }
  },
  "cells": [
    {
      "cell_type": "markdown",
      "metadata": {
        "id": "view-in-github",
        "colab_type": "text"
      },
      "source": [
        "<a href=\"https://colab.research.google.com/github/ssook1222/1Day-1Algo/blob/master/ssook/25%EB%85%84/10%EC%9B%94/10%EC%9B%94%201%EC%A3%BC%EC%B0%A8/1001.ipynb\" target=\"_parent\"><img src=\"https://colab.research.google.com/assets/colab-badge.svg\" alt=\"Open In Colab\"/></a>"
      ]
    },
    {
      "cell_type": "markdown",
      "source": [
        "## BoJ"
      ],
      "metadata": {
        "id": "K0-KtavkNRR4"
      }
    },
    {
      "cell_type": "markdown",
      "source": [
        "### 2948"
      ],
      "metadata": {
        "id": "bholVSZkNTpJ"
      }
    },
    {
      "cell_type": "code",
      "execution_count": null,
      "metadata": {
        "id": "sBHRU2UuLl2T"
      },
      "outputs": [],
      "source": [
        "d, m = map(int, input().split())\n",
        "\n",
        "# 2009년 각 월의 일수 (2009년은 평년)\n",
        "days_in_month = [0, 31, 28, 31, 30, 31, 30, 31, 31, 30, 31, 30, 31]\n",
        "\n",
        "# 요일 배열 (2009년 1월 1일이 목요일이므로 목요일부터 시작)\n",
        "weekdays = [\"Thursday\", \"Friday\", \"Saturday\", \"Sunday\", \"Monday\", \"Tuesday\", \"Wednesday\"]\n",
        "\n",
        "# 1월 1일부터 주어진 날짜까지의 일수 계산\n",
        "total_days = 0\n",
        "\n",
        "# 이전 월들의 일수를 모두 더함\n",
        "for i in range(1, m):\n",
        "    total_days += days_in_month[i]\n",
        "\n",
        "# 해당 월의 일수를 더함 (1일부터 시작하므로 d-1)\n",
        "total_days += d - 1\n",
        "\n",
        "# 요일 계산 (7로 나눈 나머지)\n",
        "day_index = total_days % 7\n",
        "\n",
        "print(weekdays[day_index])"
      ]
    }
  ]
}