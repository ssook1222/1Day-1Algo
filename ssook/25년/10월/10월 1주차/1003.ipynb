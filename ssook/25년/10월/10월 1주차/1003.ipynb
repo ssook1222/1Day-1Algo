{
  "nbformat": 4,
  "nbformat_minor": 0,
  "metadata": {
    "colab": {
      "provenance": [],
      "authorship_tag": "ABX9TyOqYtweoeuuN/7gXC8vr68N",
      "include_colab_link": true
    },
    "kernelspec": {
      "name": "python3",
      "display_name": "Python 3"
    },
    "language_info": {
      "name": "python"
    }
  },
  "cells": [
    {
      "cell_type": "markdown",
      "metadata": {
        "id": "view-in-github",
        "colab_type": "text"
      },
      "source": [
        "<a href=\"https://colab.research.google.com/github/ssook1222/1Day-1Algo/blob/master/ssook/25%EB%85%84/10%EC%9B%94/10%EC%9B%94%201%EC%A3%BC%EC%B0%A8/1003.ipynb\" target=\"_parent\"><img src=\"https://colab.research.google.com/assets/colab-badge.svg\" alt=\"Open In Colab\"/></a>"
      ]
    },
    {
      "cell_type": "markdown",
      "source": [
        "## BOJ"
      ],
      "metadata": {
        "id": "nVVT-NAANd0_"
      }
    },
    {
      "cell_type": "markdown",
      "source": [
        "### 3724"
      ],
      "metadata": {
        "id": "912pWuh0Ne83"
      }
    },
    {
      "cell_type": "code",
      "execution_count": null,
      "metadata": {
        "id": "7LluUz4RLk4t"
      },
      "outputs": [],
      "source": [
        "t = int(input())\n",
        "\n",
        "for _ in range(t):\n",
        "    m, n = map(int, input().split())\n",
        "\n",
        "    # 각 열의 곱을 저장할 리스트\n",
        "    column_products = [1] * m\n",
        "\n",
        "    # N개 행을 읽으면서 각 열의 곱 계산\n",
        "    for row in range(n):\n",
        "        numbers = list(map(int, input().split()))\n",
        "        for col in range(m):\n",
        "            column_products[col] *= numbers[col]\n",
        "\n",
        "    # 최댓값과 해당 열 번호 찾기\n",
        "    max_product = max(column_products)\n",
        "\n",
        "    # 최댓값을 갖는 열 중에서 가장 큰 번호 찾기\n",
        "    max_column = 0\n",
        "    for col in range(m):\n",
        "        if column_products[col] == max_product:\n",
        "            max_column = col + 1  # 1-based 인덱스\n",
        "\n",
        "    print(max_column)"
      ]
    }
  ]
}