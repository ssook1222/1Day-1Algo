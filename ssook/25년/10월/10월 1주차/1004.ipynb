{
  "nbformat": 4,
  "nbformat_minor": 0,
  "metadata": {
    "colab": {
      "provenance": [],
      "authorship_tag": "ABX9TyOYJLz9M9XXCmIeabf4RAg8",
      "include_colab_link": true
    },
    "kernelspec": {
      "name": "python3",
      "display_name": "Python 3"
    },
    "language_info": {
      "name": "python"
    }
  },
  "cells": [
    {
      "cell_type": "markdown",
      "metadata": {
        "id": "view-in-github",
        "colab_type": "text"
      },
      "source": [
        "<a href=\"https://colab.research.google.com/github/ssook1222/1Day-1Algo/blob/master/ssook/25%EB%85%84/10%EC%9B%94/10%EC%9B%94%201%EC%A3%BC%EC%B0%A8/1004.ipynb\" target=\"_parent\"><img src=\"https://colab.research.google.com/assets/colab-badge.svg\" alt=\"Open In Colab\"/></a>"
      ]
    },
    {
      "cell_type": "markdown",
      "source": [
        "## BOJ"
      ],
      "metadata": {
        "id": "nVVT-NAANd0_"
      }
    },
    {
      "cell_type": "markdown",
      "source": [
        "### 4176"
      ],
      "metadata": {
        "id": "912pWuh0Ne83"
      }
    },
    {
      "cell_type": "code",
      "execution_count": null,
      "metadata": {
        "id": "7LluUz4RLk4t"
      },
      "outputs": [],
      "source": [
        "while True:\n",
        "    line = input().strip()\n",
        "    if line == \"END\":\n",
        "        break\n",
        "\n",
        "    # 수열 생성: x0, x1, x2, ...\n",
        "    sequence = []\n",
        "    current = line\n",
        "\n",
        "    # x0 저장\n",
        "    sequence.append(current)\n",
        "\n",
        "    i = 1\n",
        "    while True:\n",
        "        # xi = xi-1의 자릿수\n",
        "        digit_count = len(current)\n",
        "        current = str(digit_count)\n",
        "        sequence.append(current)\n",
        "\n",
        "        # xi == xi-1 인지 확인\n",
        "        if sequence[i] == sequence[i-1]:\n",
        "            print(i)\n",
        "            break\n",
        "\n",
        "        i += 1"
      ]
    }
  ]
}