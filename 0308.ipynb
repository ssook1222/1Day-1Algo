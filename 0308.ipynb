{
  "nbformat": 4,
  "nbformat_minor": 0,
  "metadata": {
    "colab": {
      "provenance": [],
      "authorship_tag": "ABX9TyMUCPtPMz1/x8dSrPl9yCcl",
      "include_colab_link": true
    },
    "kernelspec": {
      "name": "python3",
      "display_name": "Python 3"
    },
    "language_info": {
      "name": "python"
    }
  },
  "cells": [
    {
      "cell_type": "markdown",
      "metadata": {
        "id": "view-in-github",
        "colab_type": "text"
      },
      "source": [
        "<a href=\"https://colab.research.google.com/github/ssook1222/1Day-1Algo/blob/master/0308.ipynb\" target=\"_parent\"><img src=\"https://colab.research.google.com/assets/colab-badge.svg\" alt=\"Open In Colab\"/></a>"
      ]
    },
    {
      "cell_type": "markdown",
      "source": [
        "## 3월 8일 문제풀이\n",
        "\n",
        "> 브론즈 뽀개기!!!\n",
        "\n",
        "---        \n",
        "\n",
        "`참여자` 최숙"
      ],
      "metadata": {
        "id": "T3l0StJTyMqJ"
      }
    },
    {
      "cell_type": "markdown",
      "source": [
        "### 2083\n",
        "[이동하기](https://www.acmicpc.net/problem/2083)"
      ],
      "metadata": {
        "id": "6W5AOgO6yLje"
      }
    },
    {
      "cell_type": "code",
      "execution_count": null,
      "metadata": {
        "colab": {
          "base_uri": "https://localhost:8080/"
        },
        "id": "Ty1DSPTVyKEk",
        "outputId": "1877e906-5113-43ba-8dc0-77f0fa756573"
      },
      "outputs": [
        {
          "name": "stdout",
          "output_type": "stream",
          "text": [
            "Joe 16 34\n",
            "Joe Junior\n",
            "Bill 18 65\n",
            "Bill Senior\n",
            "Billy 17 65\n",
            "Billy Junior\n",
            "Sam 17 85\n",
            "Sam Senior\n",
            "# 0 0\n"
          ]
        }
      ],
      "source": [
        "while True :\n",
        "  name, age, weight = map(str, input().split())\n",
        "\n",
        "  if name == \"#\" and age == \"0\" and weight == \"0\":\n",
        "    break\n",
        "  \n",
        "  if int(age) > 17 or int(weight) >= 80 :\n",
        "    print(\"%s Senior\" %name)\n",
        "\n",
        "  else :\n",
        "    print(\"%s Junior\" %name)"
      ]
    }
  ]
}