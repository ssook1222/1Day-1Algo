{
  "nbformat": 4,
  "nbformat_minor": 0,
  "metadata": {
    "colab": {
      "provenance": [],
      "authorship_tag": "ABX9TyMXZdG9OXpvSikQJ5RsD59M",
      "include_colab_link": true
    },
    "kernelspec": {
      "name": "python3",
      "display_name": "Python 3"
    },
    "language_info": {
      "name": "python"
    }
  },
  "cells": [
    {
      "cell_type": "markdown",
      "metadata": {
        "id": "view-in-github",
        "colab_type": "text"
      },
      "source": [
        "<a href=\"https://colab.research.google.com/github/ssook1222/1Day-1Algo/blob/master/0307.ipynb\" target=\"_parent\"><img src=\"https://colab.research.google.com/assets/colab-badge.svg\" alt=\"Open In Colab\"/></a>"
      ]
    },
    {
      "cell_type": "markdown",
      "source": [
        "## 3월 7일 문제풀이\n",
        "\n",
        "> 브론즈 뽀개기!!!\n",
        "\n",
        "---        \n",
        "\n",
        "`참여자` 최숙"
      ],
      "metadata": {
        "id": "axKJzL99i9Di"
      }
    },
    {
      "cell_type": "markdown",
      "source": [
        "### 1264\n",
        "[링크](https://www.acmicpc.net/problem/1264)"
      ],
      "metadata": {
        "id": "8mUPyd8hkwMe"
      }
    },
    {
      "cell_type": "code",
      "source": [
        "ans = []\n",
        "while True : \n",
        "  cnt = 0\n",
        "  N = input()\n",
        "\n",
        "  if N == \"#\":\n",
        "    break\n",
        "\n",
        "  ans = N.lower()\n",
        "\n",
        "  for i in range (0,len(ans)):\n",
        "    if ans[i] == \"a\" or ans[i] == \"e\" or ans[i] == \"i\" or ans[i] == \"o\" or ans[i] == \"u\":\n",
        "      cnt = cnt + 1\n",
        "\n",
        "  print(cnt)"
      ],
      "metadata": {
        "colab": {
          "base_uri": "https://localhost:8080/"
        },
        "id": "MqdxnPS8jgKD",
        "outputId": "b9015df7-6743-45e4-efe6-f6c1b099e737"
      },
      "execution_count": null,
      "outputs": [
        {
          "name": "stdout",
          "output_type": "stream",
          "text": [
            "How are you today?\n",
            "7\n",
            "Quite well, thank you, how about yourself?\n",
            "14\n",
            "I live at number twenty four.\n",
            "9\n",
            "#\n"
          ]
        }
      ]
    }
  ]
}