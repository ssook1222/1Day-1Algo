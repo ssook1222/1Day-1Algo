{
  "nbformat": 4,
  "nbformat_minor": 0,
  "metadata": {
    "colab": {
      "provenance": [],
      "authorship_tag": "ABX9TyMMHzjcewYTpgQJwzrGR0wh",
      "include_colab_link": true
    },
    "kernelspec": {
      "name": "python3",
      "display_name": "Python 3"
    },
    "language_info": {
      "name": "python"
    }
  },
  "cells": [
    {
      "cell_type": "markdown",
      "metadata": {
        "id": "view-in-github",
        "colab_type": "text"
      },
      "source": [
        "<a href=\"https://colab.research.google.com/github/ssook1222/1Day-1Algo/blob/master/0323.ipynb\" target=\"_parent\"><img src=\"https://colab.research.google.com/assets/colab-badge.svg\" alt=\"Open In Colab\"/></a>"
      ]
    },
    {
      "cell_type": "markdown",
      "source": [
        "### 11948"
      ],
      "metadata": {
        "id": "DcVoXPpX_FIZ"
      }
    },
    {
      "cell_type": "code",
      "execution_count": null,
      "metadata": {
        "colab": {
          "base_uri": "https://localhost:8080/"
        },
        "id": "r33T58eb-1sH",
        "outputId": "dcf0d651-3dc5-4e0e-e415-6ae3ae8d473b"
      },
      "outputs": [
        {
          "output_type": "stream",
          "name": "stdout",
          "text": [
            "100\n",
            "34\n",
            "76\n",
            "42\n",
            "10\n",
            "0\n",
            "228\n"
          ]
        }
      ],
      "source": [
        "a = int(input())\n",
        "b = int(input())\n",
        "c = int(input())\n",
        "d = int(input())\n",
        "e = int(input())\n",
        "f = int(input())\n",
        "\n",
        "four = [a,b,c,d]\n",
        "four.sort(reverse=True)\n",
        "\n",
        "sum = 0\n",
        "\n",
        "for i in range(0, len(four)-1):\n",
        "  sum = four[i] + sum\n",
        "\n",
        "print(sum+max(e,f))"
      ]
    },
    {
      "cell_type": "markdown",
      "source": [
        "### 2985"
      ],
      "metadata": {
        "id": "xtLy3aKfqZzT"
      }
    },
    {
      "cell_type": "code",
      "source": [
        "a, b, c = map(int, input().split())\n",
        "\n",
        "if a+b==c:\n",
        "  print(\"%d+%d=%d\" %(a,b,c))\n",
        "\n",
        "if a-b==c:\n",
        "  print(\"%d-%d=%d\" %(a,b,c))  \n",
        "\n",
        "if a*b==c:\n",
        "  print(\"%d*%d=%d\" %(a,b,c))\n",
        "\n",
        "if a/b==c:\n",
        "  print(\"%d/%d=%d\" %(a,b,c))\n",
        "\n",
        "if a==b+c:\n",
        "  print(\"%d=%d+%d\" %(a,b,c))\n",
        "\n",
        "if a==b-c:\n",
        "  print(\"%d=%d-%d\" %(a,b,c))\n",
        "\n",
        "if a==b*c:\n",
        "  print(\"%d=%d*%d\" %(a,b,c))\n",
        "\n",
        "if a==b/c:\n",
        "  print(\"%d=%d/%d\" %(a,b,c))"
      ],
      "metadata": {
        "colab": {
          "base_uri": "https://localhost:8080/"
        },
        "id": "AlBFuGgfqaHQ",
        "outputId": "d6b6f2ad-28b2-4698-c03d-7616619b8c2d"
      },
      "execution_count": 3,
      "outputs": [
        {
          "output_type": "stream",
          "name": "stdout",
          "text": [
            "5 15 3\n",
            "5=15/3\n"
          ]
        }
      ]
    },
    {
      "cell_type": "markdown",
      "source": [
        "### 2693"
      ],
      "metadata": {
        "id": "rX_b32icryHw"
      }
    },
    {
      "cell_type": "code",
      "source": [
        "T = int(input())\n",
        "\n",
        "for i in range(0,T):\n",
        "  ans = list(map(int, input().split()))\n",
        "  ans.sort(reverse=True)\n",
        "  print(ans[2])"
      ],
      "metadata": {
        "colab": {
          "base_uri": "https://localhost:8080/"
        },
        "id": "xlG68Byprxvu",
        "outputId": "b5b043d9-978d-4ecb-b4b0-52cf3fb82d7f"
      },
      "execution_count": 6,
      "outputs": [
        {
          "output_type": "stream",
          "name": "stdout",
          "text": [
            "1\n",
            "1 2 3 4 5 6 7 8 9 1000\n",
            "8\n"
          ]
        }
      ]
    },
    {
      "cell_type": "markdown",
      "source": [
        "### 2747"
      ],
      "metadata": {
        "id": "olVmXkEHtMhb"
      }
    },
    {
      "cell_type": "code",
      "source": [
        "n = int(input())\n",
        "fibo = [0] * (n+1)\n",
        "fibo[1] = 1\n",
        "\n",
        "for i in range(2, n+1):\n",
        "  fibo[i] = fibo[i-1]+fibo[i-2]\n",
        "\n",
        "print(fibo[n])"
      ],
      "metadata": {
        "colab": {
          "base_uri": "https://localhost:8080/"
        },
        "id": "MoDiiEb8tMEk",
        "outputId": "32855e45-2736-4b9d-80c7-52f32a3e6435"
      },
      "execution_count": 8,
      "outputs": [
        {
          "output_type": "stream",
          "name": "stdout",
          "text": [
            "10\n",
            "55\n"
          ]
        }
      ]
    },
    {
      "cell_type": "markdown",
      "source": [
        "### 10845"
      ],
      "metadata": {
        "id": "KRY88EGJuhYI"
      }
    },
    {
      "cell_type": "code",
      "source": [
        "import sys\n",
        "from collections import deque\n",
        "\n",
        "N=int(input())\n",
        "q=deque()\n",
        "\n",
        "for i in range(N):\n",
        "    cmd=sys.stdin.readline().split()\n",
        "\n",
        "    if cmd[0]=='push':\n",
        "        q.append(int(cmd[1]))\n",
        "    elif cmd[0]=='pop':\n",
        "        if q: \n",
        "          print(q.popleft())\n",
        "        else: \n",
        "          print(-1)\n",
        "    elif cmd[0]=='size':\n",
        "        print(len(q))\n",
        "    elif cmd[0]=='empty':\n",
        "        if len(q)!=0: \n",
        "          print(0)\n",
        "        else: \n",
        "          print(1)\n",
        "    elif cmd[0]=='front':\n",
        "        if len(q)!=0: \n",
        "          print(q[0])\n",
        "        else: \n",
        "          print(-1)\n",
        "    elif cmd[0]=='back':\n",
        "        if len(q)!=0: \n",
        "          print(q[-1])\n",
        "        else: \n",
        "          print(-1)"
      ],
      "metadata": {
        "colab": {
          "base_uri": "https://localhost:8080/"
        },
        "id": "qzKUiklNuhlq",
        "outputId": "be2bd776-46cb-4938-9f2c-560dd65f3c02"
      },
      "execution_count": 9,
      "outputs": [
        {
          "output_type": "stream",
          "name": "stdout",
          "text": [
            "15\n",
            "push 1\n",
            "push 2\n",
            "front\n",
            "1\n",
            "back\n",
            "2\n",
            "size\n",
            "2\n",
            "empty\n",
            "0\n",
            "szie\n",
            "size\n",
            "2\n",
            "pop\n",
            "1\n",
            "pop\n",
            "2\n",
            "pop\n",
            "-1\n",
            "size\n",
            "0\n",
            "empty\n",
            "1\n",
            "push 3\n",
            "empty\n",
            "0\n"
          ]
        }
      ]
    }
  ]
}