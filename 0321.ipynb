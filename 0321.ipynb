{
  "nbformat": 4,
  "nbformat_minor": 0,
  "metadata": {
    "colab": {
      "provenance": [],
      "authorship_tag": "ABX9TyNJc5SJ3KYg/sNs3wORBw8w",
      "include_colab_link": true
    },
    "kernelspec": {
      "name": "python3",
      "display_name": "Python 3"
    },
    "language_info": {
      "name": "python"
    }
  },
  "cells": [
    {
      "cell_type": "markdown",
      "metadata": {
        "id": "view-in-github",
        "colab_type": "text"
      },
      "source": [
        "<a href=\"https://colab.research.google.com/github/ssook1222/1Day-1Algo/blob/master/0321.ipynb\" target=\"_parent\"><img src=\"https://colab.research.google.com/assets/colab-badge.svg\" alt=\"Open In Colab\"/></a>"
      ]
    },
    {
      "cell_type": "markdown",
      "source": [
        "### 2845"
      ],
      "metadata": {
        "id": "WPM1esELljnV"
      }
    },
    {
      "cell_type": "code",
      "execution_count": null,
      "metadata": {
        "colab": {
          "base_uri": "https://localhost:8080/"
        },
        "id": "eNCDYRmblSUW",
        "outputId": "f4945feb-dbd7-4995-a64d-851c85a61640"
      },
      "outputs": [
        {
          "output_type": "stream",
          "name": "stdout",
          "text": [
            "5 20\n",
            "99 101 1000 0 97\n",
            "-1 1 900 -100 -3 "
          ]
        }
      ],
      "source": [
        "L, P = map(int, input().split())\n",
        "\n",
        "data = list(map(int, input().split()))\n",
        "\n",
        "for i in data:\n",
        "  if L * P == i :\n",
        "    print(0, end = \" \")\n",
        "  \n",
        "  else:\n",
        "    print(i - (L * P), end = \" \")"
      ]
    },
    {
      "cell_type": "markdown",
      "source": [
        "### 2953"
      ],
      "metadata": {
        "id": "CJmJNEGhYwSt"
      }
    },
    {
      "cell_type": "code",
      "source": [
        "first = list(map(int, input().split()))\n",
        "second = list(map(int, input().split()))\n",
        "third = list(map(int, input().split()))\n",
        "fourth = list(map(int, input().split()))\n",
        "fifth = list(map(int, input().split()))\n",
        "\n",
        "if sum(first) == max(sum(first),sum(second),sum(third),sum(fourth),sum(fifth)) :\n",
        "  print(\"%d %d\" %(1, sum(first)) )\n",
        "\n",
        "elif sum(second) == max(sum(first),sum(second),sum(third),sum(fourth),sum(fifth)) :\n",
        "  print(\"%d %d\" %(2, sum(second)) )\n",
        "\n",
        "elif sum(third) == max(sum(first),sum(second),sum(third),sum(fourth),sum(fifth)) :\n",
        "  print(\"%d %d\" %(3, sum(third)) )\n",
        "\n",
        "elif sum(fourth) == max(sum(first),sum(second),sum(third),sum(fourth),sum(fifth)) :\n",
        "  print(\"%d %d\" %(4, sum(fourth)) )\n",
        "\n",
        "elif sum(fifth) == max(sum(first),sum(second),sum(third),sum(fourth),sum(fifth)) :\n",
        "  print(\"%d %d\" %(5, sum(fifth)) )  \n"
      ],
      "metadata": {
        "colab": {
          "base_uri": "https://localhost:8080/"
        },
        "id": "aSktuF02Yw0D",
        "outputId": "8109c851-e647-4bc9-889f-115960a1825d"
      },
      "execution_count": 6,
      "outputs": [
        {
          "output_type": "stream",
          "name": "stdout",
          "text": [
            "4 4 3 3\n",
            "5 4 3 5\n",
            "5 5 2 4\n",
            "5 5 5 1\n",
            "4 4 4 4\n",
            "2 17\n"
          ]
        }
      ]
    },
    {
      "cell_type": "markdown",
      "source": [
        "### 12605"
      ],
      "metadata": {
        "id": "Lg8lhomma7Hn"
      }
    },
    {
      "cell_type": "code",
      "source": [
        "N = int(input())\n",
        "\n",
        "for i in range(0, N):\n",
        "  ans = list(input().split(\" \"))\n",
        "  ans = ' '.join(ans[::-1])\n",
        "  print('Case #%d: %s' %((i+1), ans))"
      ],
      "metadata": {
        "colab": {
          "base_uri": "https://localhost:8080/"
        },
        "id": "M-ZOnsTxa7YB",
        "outputId": "665f1d1a-4372-4d0d-cb34-2c8c448dbf04"
      },
      "execution_count": 17,
      "outputs": [
        {
          "output_type": "stream",
          "name": "stdout",
          "text": [
            "2\n",
            "this is a test\n",
            "Case 1: test a is this\n",
            "foobar\n",
            "Case 2: foobar\n"
          ]
        }
      ]
    }
  ]
}