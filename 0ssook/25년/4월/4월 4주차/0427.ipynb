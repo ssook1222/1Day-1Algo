{
  "nbformat": 4,
  "nbformat_minor": 0,
  "metadata": {
    "colab": {
      "provenance": [],
      "authorship_tag": "ABX9TyOzYufYgDnmu+/+MRIYQzp7",
      "include_colab_link": true
    },
    "kernelspec": {
      "name": "python3",
      "display_name": "Python 3"
    },
    "language_info": {
      "name": "python"
    }
  },
  "cells": [
    {
      "cell_type": "markdown",
      "metadata": {
        "id": "view-in-github",
        "colab_type": "text"
      },
      "source": [
        "<a href=\"https://colab.research.google.com/github/ssook1222/1Day-1Algo/blob/master/0ssook/25%EB%85%84/4%EC%9B%94/4%EC%9B%94%204%EC%A3%BC%EC%B0%A8/0427.ipynb\" target=\"_parent\"><img src=\"https://colab.research.google.com/assets/colab-badge.svg\" alt=\"Open In Colab\"/></a>"
      ]
    },
    {
      "cell_type": "markdown",
      "source": [
        "## BoJ"
      ],
      "metadata": {
        "id": "9srmnad6Dx-L"
      }
    },
    {
      "cell_type": "markdown",
      "source": [
        "### 5671"
      ],
      "metadata": {
        "id": "zXc-FJRCDzJ4"
      }
    },
    {
      "cell_type": "code",
      "source": [
        "from sys import stdin\n",
        "\n",
        "while True:\n",
        "    data = stdin.readline().rstrip()\n",
        "    if not data:\n",
        "        break\n",
        "    count = 0\n",
        "    n, m = map(int, data.split())\n",
        "    for room in range(n, m + 1):\n",
        "        if len(set(str(room))) == len(str(room)):\n",
        "            count += 1\n",
        "    print(count)\n"
      ],
      "metadata": {
        "id": "sqk5F-hpD0C0"
      },
      "execution_count": null,
      "outputs": []
    },
    {
      "cell_type": "markdown",
      "source": [
        "## Programmers"
      ],
      "metadata": {
        "id": "u-ypfEj9D0M9"
      }
    },
    {
      "cell_type": "markdown",
      "source": [
        "### 조건에 맞게 수열 변환하기1"
      ],
      "metadata": {
        "id": "w13XXHiQD1uI"
      }
    },
    {
      "cell_type": "code",
      "source": [
        "def solution(arr):\n",
        "    answer = []\n",
        "\n",
        "    for i in arr:\n",
        "        if i%2 == 0 and i>=50:\n",
        "            answer.append(int(i/2))\n",
        "        elif i%2!= 0 and i<50:\n",
        "            answer.append(i*2)\n",
        "        else:\n",
        "            answer.append(i)\n",
        "\n",
        "\n",
        "    return answer"
      ],
      "metadata": {
        "id": "x6azYG7hD2Qz"
      },
      "execution_count": null,
      "outputs": []
    }
  ]
}