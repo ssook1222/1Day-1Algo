{
  "nbformat": 4,
  "nbformat_minor": 0,
  "metadata": {
    "colab": {
      "provenance": [],
      "authorship_tag": "ABX9TyNz+KMZE0CITL4BZqi/afi8",
      "include_colab_link": true
    },
    "kernelspec": {
      "name": "python3",
      "display_name": "Python 3"
    },
    "language_info": {
      "name": "python"
    }
  },
  "cells": [
    {
      "cell_type": "markdown",
      "metadata": {
        "id": "view-in-github",
        "colab_type": "text"
      },
      "source": [
        "<a href=\"https://colab.research.google.com/github/ssook1222/1Day-1Algo/blob/master/7%EC%9B%94/7%EC%9B%94%201%EC%A3%BC%EC%B0%A8/0701.ipynb\" target=\"_parent\"><img src=\"https://colab.research.google.com/assets/colab-badge.svg\" alt=\"Open In Colab\"/></a>"
      ]
    },
    {
      "cell_type": "markdown",
      "source": [
        "## BoJ"
      ],
      "metadata": {
        "id": "_lyG8oq6sRMb"
      }
    },
    {
      "cell_type": "markdown",
      "source": [
        "### 11660"
      ],
      "metadata": {
        "id": "SVrydPbZsSWt"
      }
    },
    {
      "cell_type": "code",
      "execution_count": 5,
      "metadata": {
        "colab": {
          "base_uri": "https://localhost:8080/"
        },
        "id": "2s0yZK6AqtTU",
        "outputId": "2fd7d762-5064-4801-9f55-5b70aea86009"
      },
      "outputs": [
        {
          "output_type": "stream",
          "name": "stdout",
          "text": [
            "2 4\n",
            "1 2\n",
            "3 4\n",
            "1 1 1 1\n",
            "1\n",
            "1 2 1 2\n",
            "2\n",
            "2 1 2 1\n",
            "3\n",
            "2 2 2 2\n",
            "4\n"
          ]
        }
      ],
      "source": [
        "import sys\n",
        "\n",
        "n, m = map(int, sys.stdin.readline().rstrip().split(\" \"))\n",
        "graph = []\n",
        "\n",
        "for _ in range(n):\n",
        "  graph.append(list(map(int, sys.stdin.readline().rstrip().split(\" \"))))\n",
        "\n",
        "dp = [ [0]*(n+1) for i in range(n+1) ]\n",
        "\n",
        "for i in range(1, n+1):\n",
        "  for j in range(1, n+1):\n",
        "    dp[i][j] = dp[i][j-1] + dp[i-1][j] - dp[i-1][j-1] + graph[i-1][j-1]\n",
        "\n",
        "for _ in range(m):\n",
        "  x1, y1, x2, y2 = map(int, sys.stdin.readline().rstrip().split(\" \"))\n",
        "\n",
        "  hap = dp[x2][y2] - dp[x2][y1-1] - dp[x1-1][y2] + dp[x1-1][y1-1]\n",
        "\n",
        "  print(hap)"
      ]
    },
    {
      "cell_type": "markdown",
      "source": [
        "### 9625"
      ],
      "metadata": {
        "id": "sZWnBDpPu3EN"
      }
    },
    {
      "cell_type": "code",
      "source": [
        "k = int(input())\n",
        "a, b = 0, 1\n",
        "for i in range(1, k):\n",
        "  a, b = b, a+b\n",
        "\n",
        "print(a, b)"
      ],
      "metadata": {
        "colab": {
          "base_uri": "https://localhost:8080/"
        },
        "id": "w6jaBcNju3YN",
        "outputId": "595b0444-fa38-4a1a-a6e7-f5987d4f8853"
      },
      "execution_count": 9,
      "outputs": [
        {
          "output_type": "stream",
          "name": "stdout",
          "text": [
            "1\n",
            "0 1\n"
          ]
        }
      ]
    },
    {
      "cell_type": "markdown",
      "source": [
        "---"
      ],
      "metadata": {
        "id": "nyubAtwwxvTa"
      }
    },
    {
      "cell_type": "markdown",
      "source": [
        "## Programmers"
      ],
      "metadata": {
        "id": "xHYZFsQKzQMw"
      }
    },
    {
      "cell_type": "markdown",
      "source": [
        "### 피보나치 수"
      ],
      "metadata": {
        "id": "UPkW88J0xwI_"
      }
    },
    {
      "cell_type": "code",
      "source": [
        "def solution(n):\n",
        "    dp = [0] * (n+1)\n",
        "    dp[0] = 1\n",
        "    dp[1] = 2\n",
        "\n",
        "    for i in range(2, len(dp)):\n",
        "        dp[i] = dp[i-2] + dp[i-1]\n",
        "\n",
        "    return dp[n-2]%1234567"
      ],
      "metadata": {
        "id": "Yzpo6MJizNAK"
      },
      "execution_count": null,
      "outputs": []
    }
  ]
}