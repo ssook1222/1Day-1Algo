{
  "nbformat": 4,
  "nbformat_minor": 0,
  "metadata": {
    "colab": {
      "provenance": [],
      "authorship_tag": "ABX9TyM9u0iNGpr012KB9srtM8dP",
      "include_colab_link": true
    },
    "kernelspec": {
      "name": "python3",
      "display_name": "Python 3"
    },
    "language_info": {
      "name": "python"
    }
  },
  "cells": [
    {
      "cell_type": "markdown",
      "metadata": {
        "id": "view-in-github",
        "colab_type": "text"
      },
      "source": [
        "<a href=\"https://colab.research.google.com/github/ssook1222/1Day-1Algo/blob/master/0520.ipynb\" target=\"_parent\"><img src=\"https://colab.research.google.com/assets/colab-badge.svg\" alt=\"Open In Colab\"/></a>"
      ]
    },
    {
      "cell_type": "markdown",
      "source": [
        "## BoJ"
      ],
      "metadata": {
        "id": "cNw-FmR7N5t4"
      }
    },
    {
      "cell_type": "markdown",
      "source": [
        "### 11478"
      ],
      "metadata": {
        "id": "IBZAnz7EN7IB"
      }
    },
    {
      "cell_type": "code",
      "execution_count": 6,
      "metadata": {
        "colab": {
          "base_uri": "https://localhost:8080/"
        },
        "id": "zlt2yqpoGZIk",
        "outputId": "8e1ab7ca-b48b-4672-d7d0-94ef05ee6e14"
      },
      "outputs": [
        {
          "output_type": "stream",
          "name": "stdout",
          "text": [
            "ababc\n",
            "12\n"
          ]
        }
      ],
      "source": [
        "import sys\n",
        "\n",
        "s = sys.stdin.readline().strip()\n",
        "s_data = set()\n",
        "\n",
        "for i in range(len(s)):\n",
        "  for j in range(i, len(s)):\n",
        "    s_data.add(s[i:j+1])\n",
        "\n",
        "print(len(s_data))"
      ]
    },
    {
      "cell_type": "markdown",
      "source": [
        "## Programmers"
      ],
      "metadata": {
        "id": "L-UrEjWHOTU2"
      }
    },
    {
      "cell_type": "markdown",
      "source": [
        "### 숨어있는 숫자의 덧셈"
      ],
      "metadata": {
        "id": "SnYjo_2jOXfS"
      }
    },
    {
      "cell_type": "code",
      "source": [
        "def solution(my_string):\n",
        "    answer = 0\n",
        "    \n",
        "    for i in range(0,len(my_string)):\n",
        "        if my_string[i].isdigit() == False:\n",
        "            my_string = my_string.replace(my_string[i],'/') \n",
        "    \n",
        "    num_raw = list(my_string.split('/'))\n",
        "    for i in num_raw:\n",
        "        if i!= '':\n",
        "            answer += int(i)\n",
        "    \n",
        "    return answer"
      ],
      "metadata": {
        "id": "0PaMwkdGOUHf"
      },
      "execution_count": null,
      "outputs": []
    },
    {
      "cell_type": "markdown",
      "source": [
        "### 안전지대"
      ],
      "metadata": {
        "id": "KdGSbnswVD-2"
      }
    },
    {
      "cell_type": "code",
      "source": [
        "def solution(board):\n",
        "    n = len(board) # 배열의 크기\n",
        "    safe_count = 0 # 안전한 지역의 칸 수\n",
        "\n",
        "    # 8방향 이동을 위한 방향 벡터\n",
        "    dx = [-1, 1, 0, 0, -1, -1, 1, 1]\n",
        "    dy = [0, 0, -1, 1, -1, 1, -1, 1]\n",
        "\n",
        "    # 배열 순회\n",
        "    for i in range(n):\n",
        "        for j in range(n):\n",
        "            if board[i][j] == 1: # 현재 위치가 지뢰가 있는 지역인 경우\n",
        "                continue\n",
        "\n",
        "            is_safe = True # 현재 위치가 안전한 지역인지 확인하기 위한 변수\n",
        "\n",
        "            # 인접한 8방향을 검사\n",
        "            for k in range(8):\n",
        "                nx = i + dx[k]\n",
        "                ny = j + dy[k]\n",
        "\n",
        "                # 배열 범위를 벗어나면 다음 방향으로 이동\n",
        "                if nx < 0 or nx >= n or ny < 0 or ny >= n:\n",
        "                    continue\n",
        "\n",
        "                if board[nx][ny] == 1: # 인접한 위치에 지뢰가 있는 경우\n",
        "                    is_safe = False\n",
        "                    break\n",
        "\n",
        "            if is_safe:\n",
        "                safe_count += 1\n",
        "\n",
        "    return safe_count"
      ],
      "metadata": {
        "id": "po5bfyUjVEM7"
      },
      "execution_count": null,
      "outputs": []
    },
    {
      "cell_type": "markdown",
      "source": [
        "### 삼각형의 완성조건 2"
      ],
      "metadata": {
        "id": "XBgUG2YpVvgs"
      }
    },
    {
      "cell_type": "code",
      "source": [
        "def solution(sides):\n",
        "    answer = min(sides)*2-1\n",
        "    return answer"
      ],
      "metadata": {
        "id": "WsqXN5b0VwGc"
      },
      "execution_count": null,
      "outputs": []
    },
    {
      "cell_type": "markdown",
      "source": [
        "### 외계어 사전"
      ],
      "metadata": {
        "id": "T4_UbbL1a9be"
      }
    },
    {
      "cell_type": "code",
      "source": [
        "def solution(spell, dic):\n",
        "    def backtrack(visited, current_word):\n",
        "        if len(current_word) == len(spell):\n",
        "            if current_word in dic:\n",
        "                return True\n",
        "            return False\n",
        "\n",
        "        for i in range(len(spell)):\n",
        "            if not visited[i]:\n",
        "                visited[i] = True\n",
        "                if backtrack(visited, current_word + spell[i]):\n",
        "                    return True\n",
        "                visited[i] = False\n",
        "\n",
        "        return False\n",
        "\n",
        "    visited = [False] * len(spell)\n",
        "    return 1 if backtrack(visited, \"\") else 2\n"
      ],
      "metadata": {
        "id": "GqNXCud1a9nV"
      },
      "execution_count": null,
      "outputs": []
    }
  ]
}