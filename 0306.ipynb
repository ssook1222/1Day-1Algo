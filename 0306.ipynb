{
  "nbformat": 4,
  "nbformat_minor": 0,
  "metadata": {
    "colab": {
      "provenance": [],
      "authorship_tag": "ABX9TyOEapowds3Hnpen0z36kXz3",
      "include_colab_link": true
    },
    "kernelspec": {
      "name": "python3",
      "display_name": "Python 3"
    },
    "language_info": {
      "name": "python"
    }
  },
  "cells": [
    {
      "cell_type": "markdown",
      "metadata": {
        "id": "view-in-github",
        "colab_type": "text"
      },
      "source": [
        "<a href=\"https://colab.research.google.com/github/ssook1222/1Day-1Algo/blob/master/0306.ipynb\" target=\"_parent\"><img src=\"https://colab.research.google.com/assets/colab-badge.svg\" alt=\"Open In Colab\"/></a>"
      ]
    },
    {
      "cell_type": "markdown",
      "source": [
        "## 3월 6일 문제풀이\n",
        "\n",
        "> 브론즈 뽀개기!!!\n",
        "\n",
        "---        \n",
        "\n",
        "`참여자` 최숙"
      ],
      "metadata": {
        "id": "5jAmTM-6t6gT"
      }
    },
    {
      "cell_type": "markdown",
      "source": [
        "### 5543\n",
        "[이동하기](https://www.acmicpc.net/problem/5543)"
      ],
      "metadata": {
        "id": "kHcwUetYur-d"
      }
    },
    {
      "cell_type": "code",
      "execution_count": null,
      "metadata": {
        "colab": {
          "base_uri": "https://localhost:8080/"
        },
        "id": "mcJm7m-9t4Lq",
        "outputId": "3d51844d-6678-4c94-bc48-9b5a156eb3ea"
      },
      "outputs": [
        {
          "output_type": "stream",
          "name": "stdout",
          "text": [
            "1999\n",
            "1999\n",
            "100\n",
            "189\n",
            "100\n",
            "150\n"
          ]
        }
      ],
      "source": [
        "high = int(input())\n",
        "middle = int(input())\n",
        "low = int(input())\n",
        "coke = int(input())\n",
        "cydar = int(input())\n",
        "\n",
        "hamburger = min(high, middle, low)\n",
        "sugar = min(coke, cydar)\n",
        "\n",
        "price = hamburger + sugar - 50\n",
        "\n",
        "print(price)"
      ]
    }
  ]
}