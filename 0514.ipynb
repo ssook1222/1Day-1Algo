{
  "nbformat": 4,
  "nbformat_minor": 0,
  "metadata": {
    "colab": {
      "provenance": [],
      "authorship_tag": "ABX9TyNtErsJNpdZjEMoSL8ZVdNB",
      "include_colab_link": true
    },
    "kernelspec": {
      "name": "python3",
      "display_name": "Python 3"
    },
    "language_info": {
      "name": "python"
    }
  },
  "cells": [
    {
      "cell_type": "markdown",
      "metadata": {
        "id": "view-in-github",
        "colab_type": "text"
      },
      "source": [
        "<a href=\"https://colab.research.google.com/github/ssook1222/1Day-1Algo/blob/master/0514.ipynb\" target=\"_parent\"><img src=\"https://colab.research.google.com/assets/colab-badge.svg\" alt=\"Open In Colab\"/></a>"
      ]
    },
    {
      "cell_type": "markdown",
      "source": [
        "## BoJ"
      ],
      "metadata": {
        "id": "ICWGtTYqLwmq"
      }
    },
    {
      "cell_type": "markdown",
      "source": [
        "### 2304"
      ],
      "metadata": {
        "id": "8tBG7SnRLzBA"
      }
    },
    {
      "cell_type": "code",
      "source": [
        "n = int(input())\n",
        "\n",
        "pillars = []\n",
        "warehouse_area = 0\n",
        "for i in range(n):\n",
        "    position, height = map(int, input().split())\n",
        "    pillars.append([position, height])\n",
        "\n",
        "pillars.sort()\n",
        "\n",
        "i = 0\n",
        "for pillar in pillars:\n",
        "    if pillar[1] > warehouse_area:\n",
        "        warehouse_area = pillar[1]\n",
        "        max_index = i\n",
        "    i += 1\n",
        "\n",
        "current_height = pillars[0][1]\n",
        "\n",
        "for i in range(max_index):\n",
        "    if current_height < pillars[i + 1][1]:\n",
        "        warehouse_area += current_height * (pillars[i + 1][0] - pillars[i][0])\n",
        "        current_height = pillars[i + 1][1]\n",
        "    else:\n",
        "        warehouse_area += current_height * (pillars[i + 1][0] - pillars[i][0])\n",
        "\n",
        "current_height = pillars[-1][1]\n",
        "\n",
        "for i in range(n - 1, max_index, -1):\n",
        "    if current_height < pillars[i - 1][1]:\n",
        "        warehouse_area += current_height * (pillars[i][0] - pillars[i - 1][0])\n",
        "        current_height = pillars[i - 1][1]\n",
        "    else:\n",
        "        warehouse_area += current_height * (pillars[i][0] - pillars[i - 1][0])\n",
        "\n",
        "print(warehouse_area)"
      ],
      "metadata": {
        "id": "-Ej3osPKL0JM"
      },
      "execution_count": null,
      "outputs": []
    },
    {
      "cell_type": "markdown",
      "source": [
        "## Programmers"
      ],
      "metadata": {
        "id": "AiSETjQvL0do"
      }
    },
    {
      "cell_type": "markdown",
      "source": [
        "### n번째 원소까지"
      ],
      "metadata": {
        "id": "FG5ZR5BnL2qY"
      }
    },
    {
      "cell_type": "code",
      "source": [
        "def solution(num_list, n):\n",
        "    answer = []\n",
        "    for i in range(n):\n",
        "        answer.append(num_list[i])\n",
        "\n",
        "\n",
        "    return answer"
      ],
      "metadata": {
        "id": "gOL2c7dCL3s2"
      },
      "execution_count": null,
      "outputs": []
    }
  ]
}