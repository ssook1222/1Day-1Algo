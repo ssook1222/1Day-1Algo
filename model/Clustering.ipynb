{
  "nbformat": 4,
  "nbformat_minor": 0,
  "metadata": {
    "colab": {
      "provenance": [],
      "authorship_tag": "ABX9TyNIDFweL/47BOwi9/eYtRum",
      "include_colab_link": true
    },
    "kernelspec": {
      "name": "python3",
      "display_name": "Python 3"
    },
    "language_info": {
      "name": "python"
    }
  },
  "cells": [
    {
      "cell_type": "markdown",
      "metadata": {
        "id": "view-in-github",
        "colab_type": "text"
      },
      "source": [
        "<a href=\"https://colab.research.google.com/github/ssook1222/1Day-1Algo/blob/master/model/Clustering.ipynb\" target=\"_parent\"><img src=\"https://colab.research.google.com/assets/colab-badge.svg\" alt=\"Open In Colab\"/></a>"
      ]
    },
    {
      "cell_type": "code",
      "execution_count": 1,
      "metadata": {
        "id": "5TMzrUnPbgxw"
      },
      "outputs": [],
      "source": [
        "import pandas as pd"
      ]
    },
    {
      "cell_type": "markdown",
      "source": [
        "### 데이터 불러오기"
      ],
      "metadata": {
        "id": "S3Wl90zhaVFz"
      }
    },
    {
      "cell_type": "code",
      "source": [
        "from google.colab import drive\n",
        "drive.mount('/content/drive')"
      ],
      "metadata": {
        "id": "8c90wsqjnYNU",
        "colab": {
          "base_uri": "https://localhost:8080/"
        },
        "outputId": "f4e04f70-b6c4-47ce-8e7f-2b64360f89d3"
      },
      "execution_count": 2,
      "outputs": [
        {
          "output_type": "stream",
          "name": "stdout",
          "text": [
            "Drive already mounted at /content/drive; to attempt to forcibly remount, call drive.mount(\"/content/drive\", force_remount=True).\n"
          ]
        }
      ]
    },
    {
      "cell_type": "markdown",
      "source": [
        "#### 의료기관 데이터"
      ],
      "metadata": {
        "id": "_DBk8Pk5-16S"
      }
    },
    {
      "cell_type": "code",
      "source": [
        "csv_path_medical = '/content/drive/MyDrive/town_cc_big_data/data/행정동_강원도_춘천시_의료기관약국_20220805.csv'"
      ],
      "metadata": {
        "id": "wQ0hoAltoJl9"
      },
      "execution_count": 3,
      "outputs": []
    },
    {
      "cell_type": "code",
      "source": [
        "df_medical_raw = pd.read_csv(csv_path_medical)\n",
        "address_data = df_medical_raw['행정동']\n",
        "kind_data = df_medical_raw['종류']\n",
        "\n",
        "df_medical = pd.DataFrame({'종류': kind_data, '행정동': address_data})\n",
        "df_medical = df_medical.groupby('행정동').count().rename(columns={'종류': '병원 수'})\n",
        "df_medical = df_medical.sort_values('병원 수', ascending=True)"
      ],
      "metadata": {
        "id": "l10yJuqWoNAb"
      },
      "execution_count": 4,
      "outputs": []
    },
    {
      "cell_type": "markdown",
      "source": [
        "#### 독거노인 수 데이터"
      ],
      "metadata": {
        "id": "jqk6QU3G-3xg"
      }
    },
    {
      "cell_type": "code",
      "source": [
        "csv_path_old = '/content/drive/MyDrive/town_cc_big_data/data/강원도 춘천시_독거노인현황_20220620.csv'"
      ],
      "metadata": {
        "id": "eNMqsvBQ-7Xj"
      },
      "execution_count": 5,
      "outputs": []
    },
    {
      "cell_type": "code",
      "source": [
        "df_old_raw = pd.read_csv(csv_path_old, encoding='euc-kr')\n",
        "df_old = df_old_raw.groupby('행정동명')['인구수'].sum().reset_index()\n",
        "df_old = df_old.sort_values('인구수', ascending = False)"
      ],
      "metadata": {
        "id": "DqT146gK-ffS"
      },
      "execution_count": 6,
      "outputs": []
    },
    {
      "cell_type": "markdown",
      "source": [
        "#### 정신건강 관련 기관 및 병원 데이터"
      ],
      "metadata": {
        "id": "jPm-MuY9_C3T"
      }
    },
    {
      "cell_type": "code",
      "source": [
        "csv_path_mental1 = '/content/drive/MyDrive/town_cc_big_data/data/강원도 춘천시_정신건강센터 현황_20220822.csv'\n",
        "csv_path_mental2 = '/content/drive/MyDrive/town_cc_big_data/data/강원도 춘천시_정신건강의학과 현황_20220822.csv'"
      ],
      "metadata": {
        "id": "iDITf2Bf_OxI"
      },
      "execution_count": 7,
      "outputs": []
    },
    {
      "cell_type": "code",
      "source": [
        "df_old_mental1 = pd.read_csv(csv_path_mental1)\n",
        "df_old_mental2 = pd.read_csv(csv_path_mental2)\n",
        "\n",
        "df_old_mental1 = df_old_mental1[['기관명', '행정동']]\n",
        "df_old_mental2 = df_old_mental2[['상호명', '행정동']]\n",
        "\n",
        "df_mental = pd.concat([df_old_mental1, df_old_mental2.rename(columns={'상호명': '기관명'})], ignore_index=True)\n",
        "df_mental = df_mental.groupby('행정동')['기관명'].count().reset_index()\n",
        "df_mental = df_mental.sort_values('기관명', ascending = False)"
      ],
      "metadata": {
        "id": "iiAxfflS_Qp3"
      },
      "execution_count": 8,
      "outputs": []
    },
    {
      "cell_type": "markdown",
      "source": [
        "#### 1인 가구 수"
      ],
      "metadata": {
        "id": "cPqwbwlO_aTr"
      }
    },
    {
      "cell_type": "code",
      "source": [
        "csv_path_one_person = '/content/drive/MyDrive/town_cc_big_data/data/강원도 춘천시_읍면동별 1인 가구수_20220816.csv'"
      ],
      "metadata": {
        "id": "m0FvzUiI_cmy"
      },
      "execution_count": 9,
      "outputs": []
    },
    {
      "cell_type": "code",
      "source": [
        "df_one_person = pd.read_csv(csv_path_one_person, encoding='euc-kr')\n",
        "df_one_person = df_one_person.groupby('행정동')['1인가구수'].sum().reset_index()\n",
        "df_one_person = df_one_person.sort_values('1인가구수', ascending=False)"
      ],
      "metadata": {
        "id": "BPFuqeuJAMhF"
      },
      "execution_count": 10,
      "outputs": []
    },
    {
      "cell_type": "markdown",
      "source": [
        "#### 행정동별 초등학교 위치 수"
      ],
      "metadata": {
        "id": "71dEt7fGAl-F"
      }
    },
    {
      "cell_type": "code",
      "source": [
        "csv_path_elm = '/content/drive/MyDrive/town_cc_big_data/data/강원도교육청_춘천시초등학교_통학구역_20220731.csv'"
      ],
      "metadata": {
        "id": "axrK6nebBVt5"
      },
      "execution_count": 11,
      "outputs": []
    },
    {
      "cell_type": "code",
      "source": [
        "df_elm = pd.read_csv(csv_path_elm, encoding='euc-kr')\n",
        "df_elm = df_elm.groupby('행정동명')['관할학교명'].count().reset_index()\n",
        "df_elm.columns = ['행정동명', '초등학교 수']\n",
        "df_elm = df_elm.sort_values('초등학교 수', ascending=False)"
      ],
      "metadata": {
        "id": "zMi1R1ItBXVq"
      },
      "execution_count": 12,
      "outputs": []
    },
    {
      "cell_type": "markdown",
      "source": [
        "#### 아동급식카드 가맹점 수"
      ],
      "metadata": {
        "id": "aWdT97zgBdBD"
      }
    },
    {
      "cell_type": "code",
      "source": [
        "csv_path_store = '/content/drive/MyDrive/town_cc_big_data/data/강원도 춘천시_아동급식카드 가맹점_20220608.csv'"
      ],
      "metadata": {
        "id": "dQSobjORBfH_"
      },
      "execution_count": 13,
      "outputs": []
    },
    {
      "cell_type": "code",
      "source": [
        "df_store = pd.read_csv(csv_path_store, encoding='euc-kr')\n",
        "df_store = df_store[['소재지지번주소', '가맹점명']]\n",
        "for index, row in df_store.iterrows():\n",
        "    address = row['소재지지번주소']\n",
        "    split_data = address.split()\n",
        "    if len(split_data) >= 3:\n",
        "        new_data = split_data[2]\n",
        "        df_store.at[index, '소재지지번주소'] = new_data\n",
        "\n",
        "df_store = df_store.groupby('소재지지번주소').size().reset_index(name='가맹점수')\n",
        "df_store = df_store.sort_values('가맹점수', ascending=False)\n",
        "df_store = df_store.rename(columns={'가맹점수': '가맹점 수'})"
      ],
      "metadata": {
        "id": "x41FkjBnCHzm"
      },
      "execution_count": 14,
      "outputs": []
    },
    {
      "cell_type": "markdown",
      "source": [
        "### [참고] 데이터 목록\n",
        "---\n",
        "df_medical : 의료기관 데이터     \n",
        "df_old : 독거 노인 수 데이터    \n",
        "df_mental : 정신건강 관련 기관 총합 데이터        \n",
        "df_one_person : 1인 가구 수 데이터    \n",
        "df_elm : 행정동별 초등학교 위치 수 데이터     \n",
        "df_store : 아동급식카드 가맹점 수 데이터"
      ],
      "metadata": {
        "id": "MjwPbG_cCRPY"
      }
    },
    {
      "cell_type": "markdown",
      "source": [
        "### 클러스터링 - 군집 예측 분석"
      ],
      "metadata": {
        "id": "_u9I_QdMcJ3P"
      }
    },
    {
      "cell_type": "code",
      "source": [
        "from sklearn.cluster import KMeans\n",
        "from sklearn.preprocessing import MinMaxScaler"
      ],
      "metadata": {
        "id": "-onVMxtNcbOU"
      },
      "execution_count": 15,
      "outputs": []
    },
    {
      "cell_type": "markdown",
      "source": [
        "#### 데이터 전처리"
      ],
      "metadata": {
        "id": "_1VebYv-eTcq"
      }
    },
    {
      "cell_type": "code",
      "source": [
        "df_merged = df_medical.merge(df_old, left_on='행정동', right_on='행정동명', how='left')\n",
        "df_merged = df_merged.merge(df_mental, right_on='행정동', left_on='행정동명', how='left')\n",
        "df_merged = df_merged.merge(df_one_person, on='행정동', how='left')\n",
        "df_merged = df_merged.merge(df_elm, on='행정동명', how='left')\n",
        "df_merged = df_merged.merge(df_store, left_on='행정동', right_on='소재지지번주소', how='left')"
      ],
      "metadata": {
        "id": "4NFz4ZuXcdgE"
      },
      "execution_count": 29,
      "outputs": []
    },
    {
      "cell_type": "code",
      "source": [
        "df_merged = df_merged[['행정동', '병원 수', '인구수', '기관명', '1인가구수', '초등학교 수', '가맹점 수']]\n",
        "df_merged.columns = ['행정동', '병원 수', '인구수', '정신건강 기관 수', '1인가구 수', '초등학교 수','아동급식카드 가맹점 수']"
      ],
      "metadata": {
        "id": "klBENwmPdxmv"
      },
      "execution_count": 17,
      "outputs": []
    },
    {
      "cell_type": "code",
      "source": [
        "df_merged.fillna(0, inplace=True)"
      ],
      "metadata": {
        "id": "Gnv66CQJeQzF"
      },
      "execution_count": 18,
      "outputs": []
    },
    {
      "cell_type": "code",
      "source": [
        "df_merged.set_index('행정동', inplace=True)"
      ],
      "metadata": {
        "id": "nHG_OQ4SeXUj"
      },
      "execution_count": 19,
      "outputs": []
    },
    {
      "cell_type": "code",
      "source": [
        "scaler = MinMaxScaler()\n",
        "df_scaled = pd.DataFrame(scaler.fit_transform(df_merged), columns=df_merged.columns, index=df_merged.index)"
      ],
      "metadata": {
        "id": "PjFB0BmHeYCy"
      },
      "execution_count": 20,
      "outputs": []
    },
    {
      "cell_type": "markdown",
      "source": [
        "#### 클러스터링 진행"
      ],
      "metadata": {
        "id": "0XnUOSOeedhJ"
      }
    },
    {
      "cell_type": "code",
      "source": [
        "kmeans = KMeans(n_clusters=3, random_state=42)\n",
        "kmeans.fit(df_scaled)"
      ],
      "metadata": {
        "colab": {
          "base_uri": "https://localhost:8080/",
          "height": 130
        },
        "id": "AFakz9PTebob",
        "outputId": "c3eb3654-b87d-41c1-a609-3ce8e4ac212b"
      },
      "execution_count": 21,
      "outputs": [
        {
          "output_type": "stream",
          "name": "stderr",
          "text": [
            "/usr/local/lib/python3.10/dist-packages/sklearn/cluster/_kmeans.py:870: FutureWarning: The default value of `n_init` will change from 10 to 'auto' in 1.4. Set the value of `n_init` explicitly to suppress the warning\n",
            "  warnings.warn(\n"
          ]
        },
        {
          "output_type": "execute_result",
          "data": {
            "text/plain": [
              "KMeans(n_clusters=3, random_state=42)"
            ],
            "text/html": [
              "<style>#sk-container-id-1 {color: black;background-color: white;}#sk-container-id-1 pre{padding: 0;}#sk-container-id-1 div.sk-toggleable {background-color: white;}#sk-container-id-1 label.sk-toggleable__label {cursor: pointer;display: block;width: 100%;margin-bottom: 0;padding: 0.3em;box-sizing: border-box;text-align: center;}#sk-container-id-1 label.sk-toggleable__label-arrow:before {content: \"▸\";float: left;margin-right: 0.25em;color: #696969;}#sk-container-id-1 label.sk-toggleable__label-arrow:hover:before {color: black;}#sk-container-id-1 div.sk-estimator:hover label.sk-toggleable__label-arrow:before {color: black;}#sk-container-id-1 div.sk-toggleable__content {max-height: 0;max-width: 0;overflow: hidden;text-align: left;background-color: #f0f8ff;}#sk-container-id-1 div.sk-toggleable__content pre {margin: 0.2em;color: black;border-radius: 0.25em;background-color: #f0f8ff;}#sk-container-id-1 input.sk-toggleable__control:checked~div.sk-toggleable__content {max-height: 200px;max-width: 100%;overflow: auto;}#sk-container-id-1 input.sk-toggleable__control:checked~label.sk-toggleable__label-arrow:before {content: \"▾\";}#sk-container-id-1 div.sk-estimator input.sk-toggleable__control:checked~label.sk-toggleable__label {background-color: #d4ebff;}#sk-container-id-1 div.sk-label input.sk-toggleable__control:checked~label.sk-toggleable__label {background-color: #d4ebff;}#sk-container-id-1 input.sk-hidden--visually {border: 0;clip: rect(1px 1px 1px 1px);clip: rect(1px, 1px, 1px, 1px);height: 1px;margin: -1px;overflow: hidden;padding: 0;position: absolute;width: 1px;}#sk-container-id-1 div.sk-estimator {font-family: monospace;background-color: #f0f8ff;border: 1px dotted black;border-radius: 0.25em;box-sizing: border-box;margin-bottom: 0.5em;}#sk-container-id-1 div.sk-estimator:hover {background-color: #d4ebff;}#sk-container-id-1 div.sk-parallel-item::after {content: \"\";width: 100%;border-bottom: 1px solid gray;flex-grow: 1;}#sk-container-id-1 div.sk-label:hover label.sk-toggleable__label {background-color: #d4ebff;}#sk-container-id-1 div.sk-serial::before {content: \"\";position: absolute;border-left: 1px solid gray;box-sizing: border-box;top: 0;bottom: 0;left: 50%;z-index: 0;}#sk-container-id-1 div.sk-serial {display: flex;flex-direction: column;align-items: center;background-color: white;padding-right: 0.2em;padding-left: 0.2em;position: relative;}#sk-container-id-1 div.sk-item {position: relative;z-index: 1;}#sk-container-id-1 div.sk-parallel {display: flex;align-items: stretch;justify-content: center;background-color: white;position: relative;}#sk-container-id-1 div.sk-item::before, #sk-container-id-1 div.sk-parallel-item::before {content: \"\";position: absolute;border-left: 1px solid gray;box-sizing: border-box;top: 0;bottom: 0;left: 50%;z-index: -1;}#sk-container-id-1 div.sk-parallel-item {display: flex;flex-direction: column;z-index: 1;position: relative;background-color: white;}#sk-container-id-1 div.sk-parallel-item:first-child::after {align-self: flex-end;width: 50%;}#sk-container-id-1 div.sk-parallel-item:last-child::after {align-self: flex-start;width: 50%;}#sk-container-id-1 div.sk-parallel-item:only-child::after {width: 0;}#sk-container-id-1 div.sk-dashed-wrapped {border: 1px dashed gray;margin: 0 0.4em 0.5em 0.4em;box-sizing: border-box;padding-bottom: 0.4em;background-color: white;}#sk-container-id-1 div.sk-label label {font-family: monospace;font-weight: bold;display: inline-block;line-height: 1.2em;}#sk-container-id-1 div.sk-label-container {text-align: center;}#sk-container-id-1 div.sk-container {/* jupyter's `normalize.less` sets `[hidden] { display: none; }` but bootstrap.min.css set `[hidden] { display: none !important; }` so we also need the `!important` here to be able to override the default hidden behavior on the sphinx rendered scikit-learn.org. See: https://github.com/scikit-learn/scikit-learn/issues/21755 */display: inline-block !important;position: relative;}#sk-container-id-1 div.sk-text-repr-fallback {display: none;}</style><div id=\"sk-container-id-1\" class=\"sk-top-container\"><div class=\"sk-text-repr-fallback\"><pre>KMeans(n_clusters=3, random_state=42)</pre><b>In a Jupyter environment, please rerun this cell to show the HTML representation or trust the notebook. <br />On GitHub, the HTML representation is unable to render, please try loading this page with nbviewer.org.</b></div><div class=\"sk-container\" hidden><div class=\"sk-item\"><div class=\"sk-estimator sk-toggleable\"><input class=\"sk-toggleable__control sk-hidden--visually\" id=\"sk-estimator-id-1\" type=\"checkbox\" checked><label for=\"sk-estimator-id-1\" class=\"sk-toggleable__label sk-toggleable__label-arrow\">KMeans</label><div class=\"sk-toggleable__content\"><pre>KMeans(n_clusters=3, random_state=42)</pre></div></div></div></div></div>"
            ]
          },
          "metadata": {},
          "execution_count": 21
        }
      ]
    },
    {
      "cell_type": "code",
      "source": [
        "df_clustered = df_merged.copy()\n",
        "df_clustered['Cluster'] = kmeans.labels_"
      ],
      "metadata": {
        "id": "szV8T1OlehOG"
      },
      "execution_count": 22,
      "outputs": []
    },
    {
      "cell_type": "code",
      "source": [
        "for cluster_num in range(3):\n",
        "    cluster_df = df_clustered[df_clustered['Cluster'] == cluster_num]\n",
        "    if len(cluster_df) > 0:\n",
        "        print(f\"Cluster {cluster_num + 1}: {', '.join(cluster_df.index.astype(str))}\")\n",
        "    else:\n",
        "        print(f\"Cluster {cluster_num + 1}: No data points in this cluster\")"
      ],
      "metadata": {
        "colab": {
          "base_uri": "https://localhost:8080/"
        },
        "id": "fDHUpvLxejRx",
        "outputId": "02466d3d-4cf6-4602-84f6-aeddaaf47d75"
      },
      "execution_count": 23,
      "outputs": [
        {
          "output_type": "stream",
          "name": "stdout",
          "text": [
            "Cluster 1: 퇴계동, 0\n",
            "Cluster 2: 0, 0, 0, 0, 0, 0, 0, 0, 0, 0, 0, 0, 0, 0, 0, 0, 0, 0, 0, 0, 0, 0, 0, 0, 0, 0\n",
            "Cluster 3: 동산면, 근화동, 서면, 동면, 동내면\n"
          ]
        }
      ]
    },
    {
      "cell_type": "markdown",
      "source": [
        "#### 클러스터링 시각화"
      ],
      "metadata": {
        "id": "Im0e0bSEfYIr"
      }
    },
    {
      "cell_type": "code",
      "source": [
        "import seaborn as sns\n",
        "import matplotlib.pyplot as plt\n",
        "import matplotlib.font_manager as fm"
      ],
      "metadata": {
        "id": "EJ3I1hOyfaXZ"
      },
      "execution_count": 24,
      "outputs": []
    },
    {
      "cell_type": "code",
      "source": [
        "!sudo apt-get install -y fonts-nanum\n",
        "!sudo fc-cache -fv\n",
        "!rm ~/.cache/matplotlib -rf"
      ],
      "metadata": {
        "colab": {
          "base_uri": "https://localhost:8080/"
        },
        "id": "mNjEesHHjT5E",
        "outputId": "af239ff8-dc5f-4fd1-d2ee-15232c9f1574"
      },
      "execution_count": 25,
      "outputs": [
        {
          "output_type": "stream",
          "name": "stdout",
          "text": [
            "Reading package lists... Done\n",
            "Building dependency tree       \n",
            "Reading state information... Done\n",
            "fonts-nanum is already the newest version (20180306-3).\n",
            "0 upgraded, 0 newly installed, 0 to remove and 15 not upgraded.\n",
            "/usr/share/fonts: caching, new cache contents: 0 fonts, 1 dirs\n",
            "/usr/share/fonts/truetype: caching, new cache contents: 0 fonts, 3 dirs\n",
            "/usr/share/fonts/truetype/humor-sans: caching, new cache contents: 1 fonts, 0 dirs\n",
            "/usr/share/fonts/truetype/liberation: caching, new cache contents: 16 fonts, 0 dirs\n",
            "/usr/share/fonts/truetype/nanum: caching, new cache contents: 10 fonts, 0 dirs\n",
            "/usr/local/share/fonts: caching, new cache contents: 0 fonts, 0 dirs\n",
            "/root/.local/share/fonts: skipping, no such directory\n",
            "/root/.fonts: skipping, no such directory\n",
            "/usr/share/fonts/truetype: skipping, looped directory detected\n",
            "/usr/share/fonts/truetype/humor-sans: skipping, looped directory detected\n",
            "/usr/share/fonts/truetype/liberation: skipping, looped directory detected\n",
            "/usr/share/fonts/truetype/nanum: skipping, looped directory detected\n",
            "/var/cache/fontconfig: cleaning cache directory\n",
            "/root/.cache/fontconfig: not cleaning non-existent cache directory\n",
            "/root/.fontconfig: not cleaning non-existent cache directory\n",
            "fc-cache: succeeded\n"
          ]
        }
      ]
    },
    {
      "cell_type": "code",
      "source": [
        "plt.rc('font', family='NanumBarunGothic')"
      ],
      "metadata": {
        "id": "8XJWStZOjbk8"
      },
      "execution_count": 26,
      "outputs": []
    },
    {
      "cell_type": "code",
      "source": [
        "cluster_means = df_merged.groupby(df_clustered['Cluster']).mean()"
      ],
      "metadata": {
        "id": "rOOztpWifcjV"
      },
      "execution_count": 27,
      "outputs": []
    },
    {
      "cell_type": "code",
      "source": [
        "plt.figure(figsize=(12, 6))\n",
        "sns.heatmap(cluster_means.T, annot=True, cmap='YlGnBu', fmt=\".2f\", linewidths=0.5)\n",
        "plt.title('Cluster Characteristics')\n",
        "plt.xlabel('Cluster')\n",
        "plt.ylabel('Characteristics')\n",
        "plt.xticks(ticks=[0, 1, 2], labels=['Cluster 1', 'Cluster 2', 'Cluster 3'])\n",
        "plt.show()"
      ],
      "metadata": {
        "colab": {
          "base_uri": "https://localhost:8080/",
          "height": 563
        },
        "id": "Pmtgi2Sxfi1n",
        "outputId": "49bacda7-1177-4987-d4ff-44206bfcdcae"
      },
      "execution_count": 28,
      "outputs": [
        {
          "output_type": "display_data",
          "data": {
            "text/plain": [
              "<Figure size 1200x600 with 2 Axes>"
            ],
            "image/png": "[encoded data removed]"
          },
          "metadata": {}
        }
      ]
    }
  ]
}